{
  "nbformat": 4,
  "nbformat_minor": 0,
  "metadata": {
    "jupytext": {
      "cell_metadata_filter": "title,-all",
      "main_language": "python",
      "notebook_metadata_filter": "-all"
    },
    "colab": {
      "name": "4_PackedPaddedSeqs.ipynb",
      "provenance": [],
      "collapsed_sections": [
        "cUqNHDbld9we"
      ],
      "toc_visible": true,
      "include_colab_link": true
    },
    "kernelspec": {
      "name": "python3",
      "display_name": "Python 3"
    },
    "accelerator": "GPU"
  },
  "cells": [
    {
      "cell_type": "markdown",
      "metadata": {
        "id": "view-in-github",
        "colab_type": "text"
      },
      "source": [
        "<a href=\"https://colab.research.google.com/github/statisticallyfit/PythonNeuralNetNLP/blob/master/4_PackedPaddedSeqs.ipynb\" target=\"_parent\"><img src=\"https://colab.research.google.com/assets/colab-badge.svg\" alt=\"Open In Colab\"/></a>"
      ]
    },
    {
      "cell_type": "code",
      "metadata": {
        "id": "_SfKthRdd9vv",
        "colab_type": "code",
        "colab": {
          "base_uri": "https://localhost:8080/",
          "height": 34
        },
        "outputId": "103736f4-6b6f-4f71-92fe-7bb6d3b08c84"
      },
      "source": [
        "from google.colab import drive\n",
        "drive.mount('/content/gdrive')"
      ],
      "execution_count": 17,
      "outputs": [
        {
          "output_type": "stream",
          "text": [
            "Drive already mounted at /content/gdrive; to attempt to forcibly remount, call drive.mount(\"/content/gdrive\", force_remount=True).\n"
          ],
          "name": "stdout"
        }
      ]
    },
    {
      "cell_type": "code",
      "metadata": {
        "id": "-Q4elEOokyAZ",
        "colab_type": "code",
        "colab": {
          "base_uri": "https://localhost:8080/",
          "height": 34
        },
        "outputId": "f759dcb1-c46d-4e1c-d04f-bdef2692e9d4"
      },
      "source": [
        "cd /content/gdrive/My Drive/ScholarshipProject/PythonNeuralNetNLP"
      ],
      "execution_count": 18,
      "outputs": [
        {
          "output_type": "stream",
          "text": [
            "/content/gdrive/My Drive/ScholarshipProject/PythonNeuralNetNLP\n"
          ],
          "name": "stdout"
        }
      ]
    },
    {
      "cell_type": "code",
      "metadata": {
        "id": "Qop-3dRTk4Zu",
        "colab_type": "code",
        "colab": {
          "base_uri": "https://localhost:8080/",
          "height": 34
        },
        "outputId": "a434993e-cdc7-4d43-c259-d06a3e212390"
      },
      "source": [
        "!ls"
      ],
      "execution_count": 19,
      "outputs": [
        {
          "output_type": "stream",
          "text": [
            "env  PythonNeuralNetNLP.iml  src  tut4_bestModel.pt\n"
          ],
          "name": "stdout"
        }
      ]
    },
    {
      "cell_type": "code",
      "metadata": {
        "id": "U6nU0fQTqxPS",
        "colab_type": "code",
        "colab": {}
      },
      "source": [
        "import sys\n",
        "sys.path.append('/content/gdrive/My Drive/ScholarshipProject/PythonNeuralNetNLP/src/NLPstudy/Seq2SeqModel/')"
      ],
      "execution_count": 0,
      "outputs": []
    },
    {
      "cell_type": "code",
      "metadata": {
        "id": "E5mK8t-wqzB5",
        "colab_type": "code",
        "colab": {}
      },
      "source": [
        "import bleu_temp"
      ],
      "execution_count": 0,
      "outputs": []
    },
    {
      "cell_type": "markdown",
      "metadata": {
        "title": "markdown",
        "id": "n1CK8_AZd9vz",
        "colab_type": "text"
      },
      "source": [
        "Source: [part 4](https://github.com/bentrevett/pytorch-seq2seq/blob/master/4%20-%20Packed%20Padded%20Sequences%2C%20Masking%2C%20Inference%20and%20BLEU.ipynb)"
      ]
    },
    {
      "cell_type": "code",
      "metadata": {
        "title": "codecell",
        "id": "B-sA-g_Kd9v1",
        "colab_type": "code",
        "colab": {
          "base_uri": "https://localhost:8080/",
          "height": 34
        },
        "outputId": "fb6ffdbc-f3f4-47a4-c8a3-4e93d572daa5"
      },
      "source": [
        "import os\n",
        "from IPython.display import Image\n",
        "\n",
        "pth = os.getcwd()\n",
        "pth"
      ],
      "execution_count": 22,
      "outputs": [
        {
          "output_type": "execute_result",
          "data": {
            "text/plain": [
              "'/content/gdrive/My Drive/ScholarshipProject/PythonNeuralNetNLP'"
            ]
          },
          "metadata": {
            "tags": []
          },
          "execution_count": 22
        }
      ]
    },
    {
      "cell_type": "markdown",
      "metadata": {
        "title": "markdown",
        "id": "43NhByK_d9v4",
        "colab_type": "text"
      },
      "source": [
        "# 4 - Packed Padded Sequences, Masking and Inference\n",
        "In this notebook we will be adding a few improvements - packed padded sequences and masking - to the model from the previous notebook.\n",
        "\n",
        "**Definition: Packed padded sequences:** are used to tell our RNN to skip over padding tokens in our encoder.\n",
        "\n",
        " **Definition: Mask:** A mask explicitly forces the model to ignore certain values, such as attention over padded elements.\n",
        "\n",
        " Both of these techniques are commonly used in NLP.\n",
        "\n",
        " We will also look at how to use our model for inference, by giving it a sentence, seeing what it translates it as and seeing where exactly it pays attention to when translating each word.\n",
        "\n",
        "## Preparing Data\n",
        "\n",
        " Again, the preparation is similar to last time.\n",
        "\n",
        "First we import all the required modules."
      ]
    },
    {
      "cell_type": "code",
      "metadata": {
        "title": "codecell",
        "id": "41lSuIfId9v5",
        "colab_type": "code",
        "colab": {}
      },
      "source": [
        "import torch\n",
        "import torch.nn as nn\n",
        "import torch.optim as optim\n",
        "import torch.nn.functional as F\n",
        "import torch.tensor as Tensor\n",
        "\n",
        "from torchtext.datasets import TranslationDataset, Multi30k\n",
        "from torchtext.data import Field, BucketIterator\n",
        "\n",
        "import matplotlib.pyplot as plt\n",
        "import matplotlib.ticker as ticker\n",
        "# %matplotlib inline\n",
        "import seaborn as sns\n",
        "\n",
        "import spacy\n",
        "\n",
        "import random\n",
        "import math\n",
        "import time"
      ],
      "execution_count": 0,
      "outputs": []
    },
    {
      "cell_type": "code",
      "metadata": {
        "title": "codecell",
        "id": "ol7GW-wCd9v7",
        "colab_type": "code",
        "colab": {}
      },
      "source": [
        "# Set random seeds for reproducibility\n",
        "\n",
        "SEED = 1234\n",
        "\n",
        "random.seed(SEED)\n",
        "torch.manual_seed(SEED)\n",
        "torch.backends.cudnn.deterministic = True"
      ],
      "execution_count": 0,
      "outputs": []
    },
    {
      "cell_type": "markdown",
      "metadata": {
        "title": "markdown",
        "id": "zPI2BBVMd9v_",
        "colab_type": "text"
      },
      "source": [
        "### 1. Create the Tokenizers\n",
        "\n",
        "Next, we'll create the tokenizers. A tokenizer is used to turn a string containing a sentence into a list of individual tokens that make up that string, e.g. \"good morning!\" becomes [\"good\", \"morning\", \"!\"].\n",
        "\n",
        "spaCy has model for each language (\"de\" for German and \"en\" for English) which need to be loaded so we can access the tokenizer of each model."
      ]
    },
    {
      "cell_type": "code",
      "metadata": {
        "title": "codecell",
        "id": "NTgGeieMd9v_",
        "colab_type": "code",
        "colab": {
          "base_uri": "https://localhost:8080/",
          "height": 442
        },
        "outputId": "b2c87c26-668c-4587-d77e-35e747f6af34"
      },
      "source": [
        "# Download the spacy models via command line:\n",
        "# conda activate pynlp_env\n",
        "# cd /development/.../NLPStudy/data\n",
        "# python -m spacy download en\n",
        "# python -m spacy download de\n",
        "# Or type the same commands above from notebook as:\n",
        "!python -m spacy download en\n",
        "!python -m spacy download de\n",
        "\n",
        "# Then load the models\n",
        "spacyDE = spacy.load('de')\n",
        "spacyEN = spacy.load('en')\n",
        "\n"
      ],
      "execution_count": 25,
      "outputs": [
        {
          "output_type": "stream",
          "text": [
            "Requirement already satisfied: en_core_web_sm==2.1.0 from https://github.com/explosion/spacy-models/releases/download/en_core_web_sm-2.1.0/en_core_web_sm-2.1.0.tar.gz#egg=en_core_web_sm==2.1.0 in /usr/local/lib/python3.6/dist-packages (2.1.0)\n",
            "\u001b[38;5;2m✔ Download and installation successful\u001b[0m\n",
            "You can now load the model via spacy.load('en_core_web_sm')\n",
            "\u001b[38;5;2m✔ Linking successful\u001b[0m\n",
            "/usr/local/lib/python3.6/dist-packages/en_core_web_sm -->\n",
            "/usr/local/lib/python3.6/dist-packages/spacy/data/en\n",
            "You can now load the model via spacy.load('en')\n",
            "Collecting de_core_news_sm==2.1.0\n",
            "\u001b[?25l  Downloading https://github.com/explosion/spacy-models/releases/download/de_core_news_sm-2.1.0/de_core_news_sm-2.1.0.tar.gz (11.1MB)\n",
            "\u001b[K     |████████████████████████████████| 11.1MB 615kB/s \n",
            "\u001b[?25hBuilding wheels for collected packages: de-core-news-sm\n",
            "  Building wheel for de-core-news-sm (setup.py) ... \u001b[?25l\u001b[?25hdone\n",
            "  Created wheel for de-core-news-sm: filename=de_core_news_sm-2.1.0-cp36-none-any.whl size=11073065 sha256=595d9e992f3a55079e1345f2accbdd43ae4fe94a4192a0d3cba4c19208a34346\n",
            "  Stored in directory: /tmp/pip-ephem-wheel-cache-ke1la_3k/wheels/b4/8b/5e/d2ce5d2756ca95de22f50f68299708009a4aafda2aea79c4e4\n",
            "Successfully built de-core-news-sm\n",
            "Installing collected packages: de-core-news-sm\n",
            "Successfully installed de-core-news-sm-2.1.0\n",
            "\u001b[38;5;2m✔ Download and installation successful\u001b[0m\n",
            "You can now load the model via spacy.load('de_core_news_sm')\n",
            "\u001b[38;5;2m✔ Linking successful\u001b[0m\n",
            "/usr/local/lib/python3.6/dist-packages/de_core_news_sm -->\n",
            "/usr/local/lib/python3.6/dist-packages/spacy/data/de\n",
            "You can now load the model via spacy.load('de')\n"
          ],
          "name": "stdout"
        }
      ]
    },
    {
      "cell_type": "markdown",
      "metadata": {
        "title": "markdown",
        "id": "w48Q-tqvd9wC",
        "colab_type": "text"
      },
      "source": [
        "### 2. Create the Tokenizer Functions\n",
        "\n",
        "Next, we create the tokenizer functions. These can be passed to TorchText and will take in the sentence as a string and return the sentence as a list of tokens."
      ]
    },
    {
      "cell_type": "code",
      "metadata": {
        "title": "codecell",
        "id": "pcUKz3ghd9wD",
        "colab_type": "code",
        "colab": {}
      },
      "source": [
        "# Creating the tokenizer functions\n",
        "# NOTE: not reversing source (German) anymore.\n",
        "\n",
        "def tokenizeGerman(germanText: str):\n",
        "    \"\"\"\n",
        "    Tokenizes German text from a string into a list of strings (as tokens)\n",
        "    :param germanText:\n",
        "    :return:\n",
        "    \"\"\"\n",
        "    return [tok.text for tok in spacyDE.tokenizer(germanText)]\n",
        "\n",
        "def tokenizeEnglish(englishText: str):\n",
        "    \"\"\"\n",
        "    Tokenizes English text from a string into a list of strings (as tokens)\n",
        "    and reverses it\n",
        "\n",
        "    :param englishText:\n",
        "    :return:\n",
        "    \"\"\"\n",
        "    return [tok.text for tok in spacyEN.tokenizer(englishText)]\n",
        "\n"
      ],
      "execution_count": 0,
      "outputs": []
    },
    {
      "cell_type": "markdown",
      "metadata": {
        "title": "markdown",
        "id": "ei6KmXUgd9wG",
        "colab_type": "text"
      },
      "source": [
        "We set the tokenize argument to the correct tokenization function for each, with German being the `SRC` (source) field and English being the `TRG` (target) field. The `Field` also appends the \"start of sequence\" and \"end of sequence\" tokens via the `init_token` and `eos_token` arguments, and converts all words to lowercase.\n",
        "\n",
        "[To read more about Field's arguments](https://github.com/pytorch/text/blob/master/torchtext/data/field.py#L61)\n",
        "\n",
        "**Difference this time:** When using packed padded sequences, we need to tell PyTorch how long the actual (non-padded) sequences are. TorchText's `Field` objects allow us to use the `include_lengths` argument, which will cause our `batch.src` to be a tuple. The first element of the tuple is the same as before, a batch of numericalized source sentence as a tensor, and the second element is the non-padded lengths of each source sentence within the batch.\n"
      ]
    },
    {
      "cell_type": "code",
      "metadata": {
        "lines_to_next_cell": 2,
        "title": "codecell",
        "id": "1w7VpFqWd9wG",
        "colab_type": "code",
        "colab": {}
      },
      "source": [
        "# German = source language, English = target language\n",
        "\n",
        "# tokenize:  The function used to tokenize strings using this field into\n",
        "#             sequential examples.\n",
        "# init_token: A token that will be prepended to every example using this\n",
        "#             field, or None for no initial token. Default: None.\n",
        "# eos_token: A token that will be appended to every example using this\n",
        "#             field, or None for no end-of-sentence token. Default: None.\n",
        "# lower: Whether to lowercase the text in this field. Default: False.\n",
        "SRC = Field(tokenize = tokenizeGerman,\n",
        "            init_token = '<sos>',\n",
        "            eos_token = '<eos>',\n",
        "            lower = True,\n",
        "            include_lengths = True)\n",
        "\n",
        "TRG = Field(tokenize = tokenizeEnglish,\n",
        "            init_token = '<sos>',\n",
        "            eos_token = '<eos>',\n",
        "            lower = True)"
      ],
      "execution_count": 0,
      "outputs": []
    },
    {
      "cell_type": "markdown",
      "metadata": {
        "title": "markdown",
        "id": "1FuJVke1d9wJ",
        "colab_type": "text"
      },
      "source": [
        "### 3. Download the Data\n",
        "\n",
        "Next, we download and load the train, validation and test data.\n",
        "\n",
        "The dataset we'll be using is the [Multi30k dataset](https://github.com/multi30k/dataset)"
      ]
    },
    {
      "cell_type": "code",
      "metadata": {
        "title": "codecell",
        "id": "6W91SLvnd9wJ",
        "colab_type": "code",
        "colab": {}
      },
      "source": [
        "# NOTE: after this, the data is stored in\n",
        "# a folder under NLPSTUDY called '.data'\n",
        "trainData, validationData, testData = Multi30k.splits(exts = ('.de', '.en'),\n",
        "                                                      fields = (SRC, TRG))\n",
        "\n",
        "\n"
      ],
      "execution_count": 0,
      "outputs": []
    },
    {
      "cell_type": "code",
      "metadata": {
        "lines_to_next_cell": 2,
        "title": "codecell",
        "id": "EKXLwTBld9wM",
        "colab_type": "code",
        "colab": {
          "base_uri": "https://localhost:8080/",
          "height": 160
        },
        "outputId": "bafe161b-cda8-4243-eba1-263e83129781"
      },
      "source": [
        "# Print out examples\n",
        "\n",
        "# Double-checking we have the right number of examples:\n",
        "print(f\"Number of training examples: {len(trainData.examples)}\")\n",
        "print(f\"Number of validation examples: {len(validationData.examples)}\")\n",
        "print(f\"Number of testing examples: {len(testData.examples)}\")\n",
        "\n",
        "print(\"\\n\")\n",
        "\n",
        "# Printing out an example to make sure the source sentence is\n",
        "# not reversed (if you know German); the target (english) is in proper order, though.\n",
        "print(trainData.examples[0])\n",
        "print(vars(trainData.examples[0]))\n",
        "# -"
      ],
      "execution_count": 29,
      "outputs": [
        {
          "output_type": "stream",
          "text": [
            "Number of training examples: 29000\n",
            "Number of validation examples: 1014\n",
            "Number of testing examples: 1000\n",
            "\n",
            "\n",
            "<torchtext.data.example.Example object at 0x7fb45cdd29b0>\n",
            "{'src': ['zwei', 'junge', 'weiße', 'männer', 'sind', 'im', 'freien', 'in', 'der', 'nähe', 'vieler', 'büsche', '.'], 'trg': ['two', 'young', ',', 'white', 'males', 'are', 'outside', 'near', 'many', 'bushes', '.']}\n"
          ],
          "name": "stdout"
        }
      ]
    },
    {
      "cell_type": "markdown",
      "metadata": {
        "title": "markdown",
        "id": "3LsZmhOJd9wO",
        "colab_type": "text"
      },
      "source": [
        "### 4. Building the vocabulary\n",
        "\n",
        "Next, we build the *vocabulary* for the source and target languages.\n",
        "\n",
        "The vocabulary is used to associate each unique token (word) with an index (an integer), similar to the way a dictionary works.\n",
        "\n",
        "This is used to build a one-hot encoding for each token (a vector of all zeros except for the position represented by the index, which is 1).\n",
        "\n",
        "The vocabularies of the source and target languages are distinct.\n",
        "\n",
        "Using the `min_freq` argument, we only allow tokens that appear at least 2 times to appear in our vocabulary. Tokens that appear only once are converted into an `<unk>` (unknown) token.\n",
        "\n",
        "WARNING: It is important to note that your vocabulary should only be built from the training set and not the validation/test set. This prevents \"information leakage\" into your model, giving you artifically inflated validation/test scores."
      ]
    },
    {
      "cell_type": "code",
      "metadata": {
        "lines_to_next_cell": 2,
        "title": "codecell",
        "id": "zIDwrE_vd9wP",
        "colab_type": "code",
        "colab": {
          "base_uri": "https://localhost:8080/",
          "height": 52
        },
        "outputId": "aa6ce94c-e18d-440d-ba89-723fdc0c9cf4"
      },
      "source": [
        "SRC.build_vocab(trainData, min_freq=2)\n",
        "TRG.build_vocab(trainData, min_freq=2)\n",
        "\n",
        "print(f\"Unique tokens in source (de) vocabulary: {len(SRC.vocab)}\")\n",
        "print(f\"Unique tokens in target (en) vocabulary: {len(TRG.vocab)}\")"
      ],
      "execution_count": 30,
      "outputs": [
        {
          "output_type": "stream",
          "text": [
            "Unique tokens in source (de) vocabulary: 7855\n",
            "Unique tokens in target (en) vocabulary: 5893\n"
          ],
          "name": "stdout"
        }
      ]
    },
    {
      "cell_type": "markdown",
      "metadata": {
        "title": "markdown",
        "id": "tvVKzVnYd9wR",
        "colab_type": "text"
      },
      "source": [
        "### 5. (Final) Create the Iterators\n",
        "\n",
        "The final step of preparing the data is to create the iterators. These can be iterated on to return a batch of data which will have a `src` attribute (the PyTorch tensors containing a batch of numericalized source sentences) and a `trg` attribute (the PyTorch tensors containing a batch of numericalized target sentences). Numericalized is just a fancy way of saying they have been converted from a sequence of readable tokens to a sequence of corresponding indexes, using the vocabulary.\n",
        "\n",
        "We also need to define a `torch.device`. This is used to tell TorchText to put the tensors on the GPU or not. We use the `torch.cuda.is_available()` function, which will return `True` if a GPU is detected on our computer. We pass this `device` to the iterator.\n",
        "\n",
        "When we get a batch of examples using an iterator we need to make sure that all of the source sentences are padded to the same length, the same with the target sentences. Luckily, TorchText iterators handle this for us!\n",
        "\n",
        "We use a `BucketIterator` instead of the standard `Iterator` as it creates batches in such a way that it minimizes the amount of padding in both the source and target sentences."
      ]
    },
    {
      "cell_type": "code",
      "metadata": {
        "lines_to_next_cell": 2,
        "title": "codecell",
        "id": "NQ5vc9E7d9wS",
        "colab_type": "code",
        "colab": {}
      },
      "source": [
        "device = torch.device('cuda' if torch.cuda.is_available() else 'cpu')\n",
        "device\n",
        "\n",
        "# Creating the training iterator\n",
        "\n",
        "BATCH_SIZE = 128\n",
        "\n",
        "trainIterator, validationIterator, testIterator = BucketIterator.splits(\n",
        "    (trainData, validationData, testData),\n",
        "    batch_size = BATCH_SIZE,\n",
        "    sort_within_batch = True, # new key feature\n",
        "    sort_key = lambda x: len(x.src), # new key feature\n",
        "    device = device)\n",
        "# -"
      ],
      "execution_count": 0,
      "outputs": []
    },
    {
      "cell_type": "markdown",
      "metadata": {
        "title": "markdown",
        "id": "SxbuGsQ1d9wU",
        "colab_type": "text"
      },
      "source": [
        "\n",
        "## Building the Seq2Seq Model (GRU)\n",
        "\n",
        "**Overview:** We use a  bidirectional GRU `Encoder` and non-bidirectional GRU `Decoder`.\n",
        "\n",
        "#### [GRU Formulation](https://hyp.is/FV-GHhAsEeqa9B_lR5PiZg/pytorch.org/docs/stable/nn.html)\n",
        "\n",
        "For each element in the input sequence, each layer computes the following functions:\n",
        "\n",
        "$$\n",
        "\\begin{array}{ll}\n",
        "r_t = \\text{sigmoid}(W_{ir} x_t + b_{ir} + W_{hr} h_{t-1} + b_{hr}) \\\\\n",
        "z_t = \\text{sigmoid}(W_{iz} x_t + b_{iz} + W_{hz} h_{t-1} + b_{hz}) \\\\\n",
        "n_t = \\text{tanh}(W_{in} x_t + b_{in} + r_t * (W_{hn} h_{t-1} + b_{hn})) \\\\\n",
        "h_t = (1 - z_t) * n_t + z_t + h_{t-1} \\\\\n",
        "\\end{array}\n",
        "$$\n",
        "\n",
        "##### Variable Meanings in GRU:\n",
        "- $x_t$ = the input at time $t$\n",
        "- $h_t$ = the hidden state at time $t$\n",
        "- $h_{t-1}$ = the hidden state of the layer at time $t-1$ or the initial hidden state at time $0$.\n",
        "- $r_t$ = the reset gate. When the reset gate value is close to $0$, the hidden state is forced to ignore the previous hidden state and reset with the current input only. This allows the hidden state to drop any irrelevant information in the future.\n",
        "- $z_t$ = the update gate. The update gate controls how much information from the previous hidden state carries to the current hidden state, acting like the memory cell in LSMT, to help remember long-term information.\n",
        "- $n_t$ = the new gate\n",
        "- $*$ = the Hadamard product\n",
        "\n",
        "[**NOTE:**](https://hyp.is/XvhiShAyEeqvoV-jOpBdJw/arxiv.org/pdf/1406.1078.pdf) As each hidden unit has separate reset and update gates, each hidden unit can learn to capture dependencies over different time scales. So now we have a hidden unit that adaptively remembers and forgets, determined by time.\n",
        "Those units that learn to capture short-term dependencies will have reset gates that are frequently active, but those that capture longer-term dependencies will have update gates that are mostly active.\n",
        "\n",
        "- $W_{ih}$ = tensor containing the learnable input-to-hidden weights of the layers. Has shape (3 * `hiddenSize`, `inputSize`) for $k = 0$, else the shape is (3 * `hiddenSize`, `numDirections` * `hiddenSize`).\n",
        "- Refers to:\n",
        "    - $W_{ir}$ = input-to-hidden weights for all layers for the reset gate\n",
        "    - $W_{iz}$ = input-to-hidden weights for all layers for the update gate\n",
        "    - $W_{in}$ = input-to-hidden weights for all layers for the new gate\n",
        "\n",
        "- $W_{hh}$ = tensor containing the learnable hidden-to-hidden weights of the layers. Has shape (3 * `hiddenSize`, `hiddenSize`).\n",
        "- Refers to:\n",
        "    - $W_{hr}$ = hidden-to-hidden weights for all layers for the reset gate\n",
        "    - $W_{hz}$ = hidden-to-hidden weights for all layers for the update gate\n",
        "    - $W_{hn}$ = hidden-to-hidden weights for all layers for the new gate\n",
        "\n",
        "\n",
        "- `inputSize` = the number of expected features in the input $X$\n",
        "- `hiddenSize` = the number of features in the hidden state $h$\n",
        "- `numLayers` = number of recurrent layers (setting it to 2 means stacking two GRUs to form a *stacked GRU*).\n",
        "\n",
        "##### [Inputs of GRU Model:](https://hyp.is/pBfL1BBNEeqtNBe_R-qBnQ/pytorch.org/docs/stable/nn.html)\n",
        "- `input` = tensor of shape (`seqLen`, `batchSize`, `inputSize`) that contains the features of the input sequence.\n",
        "- $h_0$ = tensor of shape (`numLayers` * `numDirections`, `batchSize`, `hiddenSize`) containing the initial hidden state for each element in the batch.\n",
        "\n",
        "##### [Outputs of GRU Model:](https://hyp.is/srJishBNEeq9gDO7DA-0WQ/pytorch.org/docs/stable/nn.html)\n",
        "- `output` = tensor of shape (`seqLen`, `batchSize`, `numDirections` * `hiddenSize`) that contains the output features $h_t$ from the last layer of the GRU, for each time step $t$.\n",
        "- $h_n$ = `hidden` = tensor of shape (`numLayers` * `numDirections`, `batchSize`, `hiddenSize`) containing the hidden state for $T =$`seqLen`.\n",
        "\n",
        "\n",
        "The GRU model (drawing) looks like:\n"
      ]
    },
    {
      "cell_type": "code",
      "metadata": {
        "title": "codecell",
        "id": "86VvOxJVd9wV",
        "colab_type": "code",
        "colab": {
          "base_uri": "https://localhost:8080/",
          "height": 285
        },
        "outputId": "39493d29-157b-44f7-e159-c62425656ac9"
      },
      "source": [
        "Image(filename = pth + \"/src/NLPstudy/images/gru.png\")"
      ],
      "execution_count": 32,
      "outputs": [
        {
          "output_type": "execute_result",
          "data": {
            "image/png": "[encoded data removed]",
            "text/plain": [
              "<IPython.core.display.Image object>"
            ]
          },
          "metadata": {
            "tags": []
          },
          "execution_count": 32
        }
      ]
    },
    {
      "cell_type": "markdown",
      "metadata": {
        "lines_to_next_cell": 2,
        "title": "markdown",
        "id": "P380blpQd9wY",
        "colab_type": "text"
      },
      "source": [
        "**NOTE:** the $\\tilde{h}_t$ represents the new gate, $n_t$\n",
        "\n",
        "[Image source](https://colah.github.io/posts/2015-08-Understanding-LSTMs/)\n",
        "\n",
        "\n",
        "### Encoder\n",
        "\n",
        "#### Forward Pass of Encoder:\n",
        "\n",
        "First, we'll build the encoder. Similar to the previous model, we only use a single layer GRU, however we now use a *bidirectional RNN*.\n",
        "\n",
        "- **Bidirectional RNN:** there are two RNNs per layer:\n",
        "- A *forward RNN* going over the sentence from left to right (shown below in green), and\n",
        "- a *backward RNN* going over the sentence from right to left (yellow).\n",
        "\n",
        "In PyTorch all we need to do in code is set `bidirectional = True` and then pass the embedded sentence to the RNN as before.\n",
        "\n",
        "**Key Changes:** The changes this time are all within the `forward` method. It now accepts the lengths of the source sentences as well as the sentences themselves."
      ]
    },
    {
      "cell_type": "code",
      "metadata": {
        "title": "codecell",
        "id": "nLtkk7shd9wZ",
        "colab_type": "code",
        "colab": {
          "base_uri": "https://localhost:8080/",
          "height": 323
        },
        "outputId": "fb3ec30c-1163-4239-de48-3bc4f1450ef1"
      },
      "source": [
        "Image(filename= pth + \"/src/NLPstudy/images/3_encoderGRU_bidirectional.png\")"
      ],
      "execution_count": 33,
      "outputs": [
        {
          "output_type": "execute_result",
          "data": {
            "image/png": "[encoded data removed]",
            "text/plain": [
              "<IPython.core.display.Image object>"
            ]
          },
          "metadata": {
            "tags": []
          },
          "execution_count": 33
        }
      ]
    },
    {
      "cell_type": "markdown",
      "metadata": {
        "lines_to_next_cell": 2,
        "title": "markdown",
        "id": "41O6n0JZd9wb",
        "colab_type": "text"
      },
      "source": [
        "We now have:\n",
        "\n",
        "$$\n",
        "h_t^\\rightarrow = \\text{EncoderGRU}^\\rightarrow(x_t^\\rightarrow,h_t^\\rightarrow)\n",
        "$$\n",
        "$$\n",
        "h_t^\\leftarrow = \\text{EncoderGRU}^\\leftarrow(x_t^\\leftarrow,h_t^\\leftarrow)\n",
        "$$\n",
        "\n",
        "where ...\n",
        "- $x_0^\\rightarrow = \\text{<sos>}$\n",
        "- $x_1^\\rightarrow = \\text{guten}$ and\n",
        "- $x_0^\\leftarrow = \\text{<eos>}$\n",
        "- $x_1^\\leftarrow = \\text{morgen}$.\n",
        "\n",
        "After the source sentence (padded automatically within the iterator) has been embedded, we can then use `pack_padded_sequence` on it with the lengths of the sentences. `packedInputEmbedding` will then be our packed padded sequence. This can be then fed to our RNN as normal which will return `packedOutputs`, a packed tensor containing all of the hidden states from the sequence, and `hidden` which is simply the final hidden state from our sequence. `hidden` is a standard tensor and not packed in any way, the only difference is that as the input was a packed sequence, this tensor is from the final **non-padded element** in the sequence.\n",
        "\n",
        "We then unpack our `packed_outputs` using `pad_packed_sequence` which returns the `outputs` and the lengths of each, which we don't need.\n",
        "\n",
        "The first dimension of `outputs` is the padded sequence lengths however due to using a packed padded sequence the values of tensors when a padding token was the input will be all zeros.\n",
        "\n",
        "##### [Inputs of Encoder Bi-directional GRU Model:](https://hyp.is/pBfL1BBNEeqtNBe_R-qBnQ/pytorch.org/docs/stable/nn.html)\n",
        "- `srcEmbedding` = tensor of shape (`seqLen`, `batchSize`, `inputSize`) that contains the features of the input sequence.\n",
        "\t- This tells PyTorch to initialize both the forward and backward initial hidden states ($h_0^\\rightarrow$ and $h_0^\\leftarrow$, respectively) to a tensor of all zeros.\n",
        "- $h_0$ = tensor of shape (`numLayers` * `numDirections`, `batchSize`, `hiddenSize`) containing the initial hidden state for each element in the batch.(Defaults to zero if we don't pass it, and we don't pass it)\n",
        "\n",
        "##### [Outputs of Encoder Bi-directional GRU Model:](https://hyp.is/srJishBNEeq9gDO7DA-0WQ/pytorch.org/docs/stable/nn.html)\n",
        "\n",
        "- `outputs` = tensor of shape (`srcSentenceLen`, `batchSize`, `numDirections` * `hiddenSize`) that contains the output features $h_t$ from the last layer of the GRU, for each time step $t$.\n",
        "\t- The first `hiddenDim` elements in the third axis are the hidden states from the top layer forward RNN, and the last `hiddenDim` elements are hidden states from the top layer backward RNN.\n",
        "\t- We can think of the third axis as being the forward and backward hidden states **concatenated** together other: $h_1 = [h_1^\\rightarrow; h_{T}^\\leftarrow]$, $h_2 = [h_2^\\rightarrow; h_{T-1}^\\leftarrow]$ , ..., $h_T = [h_T^\\rightarrow; h_1^\\leftarrow]$ and we can denote all encoder hidden states (forward and backwards concatenated together) as $H=\\{ h_1, h_2, ..., h_T\\}$.\n",
        "\n",
        "- $h_n$ = `hidden` = tensor of shape (`numLayers` * `numDirections`, `batchSize`, `hiddenSize`) containing the hidden state for $T =$`seqLen`.\n",
        "\t- **`hidden[-2, :, :]`** gives the top layer forward RNN hidden state after the final time-step (i.e. after it has seen the last word in the sentence).\n",
        "\t\t- This is called the context vector from the forward RNN: $z^\\rightarrow=h_T^\\rightarrow$\n",
        "\t- **`hidden[-1, :, :]`** gives the top layer backward RNN hidden state after the final time-step (i.e. after it has seen the first word in the sentence).\n",
        "\t\t- This is called the context vector from the backward RNN: $z^\\leftarrow=h_T^\\leftarrow$\n",
        "\n",
        "\n",
        "**NOTE: About Combining Context Vectors as Input for `Decoder`:**\n",
        "As the `Decoder` is not bidirectional, it only needs a single context vector, $z$, to use as its initial hidden state, $s_0$.\n",
        "But we currently have two, a forward and a backward one ($z^\\rightarrow=h_T^\\rightarrow$ and $z^\\leftarrow=h_T^\\leftarrow$, respectively).\n",
        "We solve this by concatenating the two context vectors together, passing them through a linear layer, $g$, and applying the $\\tanh$ activation function:\n",
        "\n",
        "$$\n",
        "z=\\tanh(g(h_T^\\rightarrow, h_T^\\leftarrow)) = \\tanh(g(z^\\rightarrow, z^\\leftarrow)) = s_0\n",
        "$$\n",
        "\n",
        "**WARNING**: this is actually a deviation from the [Neural Translation Paper](https://hyp.is/qr4NUA3lEeqJXwu_KSa8ng/arxiv.org/pdf/1409.0473.pdf). Instead, they feed only the first backward RNN hidden state through a linear layer to get the context vector/decoder initial hidden state. This doesn't seem to make sense to me, so I've changed it.\n",
        "\n",
        "As we want our model to look back over the whole of the source sentence we return `outputs`, the stacked forward and backward hidden states for every token in the source sentence. We also return `hidden`, which acts as our initial hidden state in the decoder."
      ]
    },
    {
      "cell_type": "code",
      "metadata": {
        "title": "codecell",
        "id": "qwK0Q7EFd9wc",
        "colab_type": "code",
        "colab": {}
      },
      "source": [
        "class Encoder(nn.Module):\n",
        "    def __init__(self, inputDim: int, embedDim: int,\n",
        "                 encoderHiddenDim: int, decoderHiddenDim: int,\n",
        "                 dropout: float):\n",
        "\n",
        "        super().__init__()\n",
        "\n",
        "        # NOTE: no dropout since GRU has only 1 layer!\n",
        "        self.embeddingLayer = nn.Embedding(num_embeddings=inputDim,\n",
        "                                           embedding_dim=embedDim)\n",
        "\n",
        "        # This is the linear layer function g() through which we pass the concatenated\n",
        "        # hidden states to get the context vector, z\n",
        "        self.gLinearLayer = nn.Linear(in_features=encoderHiddenDim * 2,\n",
        "                                      out_features = decoderHiddenDim)\n",
        "\n",
        "        self.gru = nn.GRU(input_size=embedDim, hidden_size=encoderHiddenDim,\n",
        "                          bidirectional=True)\n",
        "\n",
        "        # During training, randomly zeroes some of the elements of the input tensor\n",
        "        # with probability p using samples from a Bernoulli distribution. Each channel\n",
        "        # will be zeroed out independently on every forward call.\n",
        "        # Good for regularization\n",
        "        # SOURCE: https://hyp.is/qrKgZg0-EeqHWhNj0dgBjw/pytorch.org/docs/stable/nn.html\n",
        "        self.dropout = nn.Dropout(dropout)\n",
        "\n",
        "\n",
        "    def forward(self, src: Tensor, srcLens: Tensor) -> (Tensor, Tensor):\n",
        "        \"\"\"\n",
        "        Passing the source sentence X (tensor) which has been converted into dense vectors\n",
        "        using the embedding layer.\n",
        "        Then apply dropout.\n",
        "        Do recurrent calculation of hidden states over the whole sequence.\n",
        "\n",
        "        Computation Graph:\n",
        "\n",
        "            Convert word indexes to embeddings.\n",
        "            Pack padded batch of sequences for RNN module.\n",
        "            Forward pass through GRU.\n",
        "            Unpack padding.\n",
        "            Sum bidirectional GRU outputs.\n",
        "            Return output and final hidden state.\n",
        "\n",
        "        :param src: tensor X holding the input vectors x_1, ... x_T\n",
        "            Has shape: (srcSentenceLen, batchSize)\n",
        "        :param srcLens: tensor holding lengths of src sequences\n",
        "            shape = (srcLen)\n",
        "        :return:\n",
        "            outputs:\n",
        "            hidden: the final hidden state for each layer, h_T, stacked on top of each other\n",
        "            This acts as the context vector `z` in the overall Seq2Seq model\n",
        "        \"\"\"\n",
        "        # Convert the source sentence X to dense vectors using embedding layer\n",
        "        srcEmbedding = self.dropout(self.embeddingLayer(src))\n",
        "        # srcEmbedding shape: (srcSentenceLen, batchSize, embedDim)\n",
        "\n",
        "\n",
        "        # After embedding src sentence (padded automatically in iterator), then\n",
        "        # use pack_padded_sequence  to pack it. (to be able to handle different /\n",
        "        # variable length batches efficiently)\n",
        "        ## DOCS: https://hyp.is/uiNjLBHCEeqTPZ-zOuAmlw/pytorch.org/docs/stable/_modules/torch/nn/utils/rnn.html\n",
        "        packedSrcEmbeddings = nn.utils.rnn.pack_padded_sequence(\n",
        "            srcEmbedding, srcLens)\n",
        "\n",
        "        # Feed the packed src embeddings into RNN as usual\n",
        "        # Get packed outputs, which we need to depack.\n",
        "        packedOutputs, hidden = self.gru(input=packedSrcEmbeddings)\n",
        "        ## packedOutpts is a packed sequence containing all hidden states\n",
        "        ## hidden is now from the final non-padded element in the batch\n",
        "\n",
        "        # Inverse operation now:\n",
        "        # de-pack the packed outputs, returning the outputs and lengths of each\n",
        "        # of the outputs, whcih we don't need.\n",
        "        ## DOCS: https://hyp.is/xZLh9hHCEeq4HMsIoOIfpA/pytorch.org/docs/stable/_modules/torch/nn/utils/rnn.html\n",
        "        outputs, _ = nn.utils.rnn.pad_packed_sequence( packedOutputs)\n",
        "        ## outputs is now a non-packed sequence, all hidden states obtained when\n",
        "        # the input is a pad token are all zeros (???) TODO\n",
        "        ## outputs shape = (srcSentenceLen, batchSize, hiddenDim * numDirections)\n",
        "        ## hidden shape = (numLayers * numDirections, batchSize, hiddenDim)\n",
        "\n",
        "        # NOTE: outputs are always from the LAST layer now (instead of top hidden layer)\n",
        "\n",
        "        ### NOTE: hidden is now stacked: [forward_1, backward_1, forward_2, backward_2, ...]\n",
        "        ### ---> use hidden[-2, :, :] to get the last of the forwards RNN\n",
        "        ### ---> use hidden[-1, :, :] to get the last of the backwards RNN\n",
        "\n",
        "        # Initial decoder hidden state == final hidden state of forwards and backwards\n",
        "        # 1. Concatenate the forwards and backwards\n",
        "        # (this is creating the annotations:\n",
        "        # https://hyp.is/LsspQhCFEeqKPGtfX2Y_Xg/arxiv.org/pdf/1409.0473.pdf)\n",
        "        fwdBackContextTensors: Tensor = torch.cat(\n",
        "            (hidden[-2, :, :], hidden[-1, :, :]),\n",
        "            dim=1)\n",
        "        # 2. push the encoder RNNs through linear layer, g()\n",
        "        # 3. push through tanh()\n",
        "        hidden: Tensor = torch.tanh(self.gLinearLayer(fwdBackContextTensors))\n",
        "\n",
        "\n",
        "        # since numDirections = 2 ... (since Encoder is bidirectional)\n",
        "        ### outputs shape: (srcSentenceLen, batchSize, encoderHiddenDim * 2)\n",
        "        ### hidden shape: (batchSize, decoderHiddenDim)\n",
        "        return outputs, hidden  # context vector\n",
        "\n"
      ],
      "execution_count": 0,
      "outputs": []
    },
    {
      "cell_type": "markdown",
      "metadata": {
        "title": "markdown",
        "id": "cUqNHDbld9we",
        "colab_type": "text"
      },
      "source": [
        "### Attention\n",
        "\n",
        "Next up is the attention layer. The attention module is where we calculate the attention values over the source sentence.\n",
        "\n",
        "Previously, we allowed this module to \"pay attention\" to padding tokens within the source sentence. However, using *masking*, we can force the attention to only be over non-padding elements.\n",
        "\n",
        "\n",
        "#### Forward Pass of Attention:\n",
        "\n",
        "**Intuitive Definition of Attention Layer:**\n",
        "The attention layer takes in in the previous hidden state of the decoder, $s_{t-1}$ (what has been decoded so far by the `Decoder`) and also takes in all of the stacked forward and backward hidden states from the encoder, $H$ (all of what has been encoded so far by the `Encoder`).\n",
        "Then the attention layer uses these to produce an attention vector, $a_t$, that is the length of the source sentence, each element is between 0 and 1 and the entire vector sums to 1. The attention vector $a_t$ represents which words in the source sentence the `Decoder` should pay the most attention to in order to correctly predict the next word to decode, $\\hat{y}_{t+1}$.\n",
        "\n",
        "**Formula Definition of Attention Layer:**\n",
        "First, calculate the *energy* $E_t$ between the previous decoder hidden state and the encoder hidden states. As encoder hidden states are a sequence of $T$ tensors, and previous decoder hidden state is a single tensor, the first thing to do is `repeat` the previous decoder hidden state $T$ times. Then calculate the energy, $E_t$, between them by concatenating them and passing the result through a linear layer (`attentionLinearLayer`) and a $\\tanh$ activation function:\n",
        "$$\n",
        "E_t = \\tanh(\\text{attentionLinearLayer}(s_{t-1}, H))\n",
        "$$\n",
        "where $H = \\{h_1, h_2, ..., h_T\\}$\n",
        "\n",
        "Intuitively, the energy calculates how well each `Encoder` hidden state \"matches\" the previous `Decoder` hidden state.\n",
        "\n",
        "Formulaically, the paper says that the energy $e_{ij} = a(s_{t-1}, h_j)$ is an [alignment model](https://hyp.is/hTdBLBCEEeqNeLtcPGf5lQ/arxiv.org/pdf/1409.0473.pdf) which scores how well the inputs around position $j$ and the output at position $i$ match. This score is based on the RNN hidden state $s_{i-1}$ (just before emitting $y_t$) and the $j$-th annotation $h_j$ of the input sequence.\n",
        "\n",
        "**KEY FEATURES:** [The purpose of the alignment is to:](https://hyp.is/koZYmhCEEeqz0ytUsVvYvg/arxiv.org/pdf/1409.0473.pdf)\n",
        "- compute a \"soft alignment\" which allows the gradient of the cost function to be backpropagated through. This gradient can be used to train the *alignment model* $e_{tj}$ as well as the whole translation model **jointly**.\n",
        "- later compute the probability $\\alpha_{tj}$ to implement an attention mechanism in the `Decoder`, so that the `Encoder` is relieved of the burden of having to encode all information in the source sentence into a fixed-length vector.\n",
        "\n",
        "\n",
        "We currently have a **(`decoderHiddenDim`, `srcSentenceLen`)** tensor for each example in the batch. We want this to be **(`srcSentenceLen`)** for each example in the batch as the attention should be over the length of the source sentence. This is achieved by multiplying the `energy` by a **(1, `decoderHiddenDim`)** tensor, called $v$:\n",
        "\n",
        "$$\\hat{a}_t = v E_t$$\n",
        "where $E_t$ represents $e_{tj}$.\n",
        "This calculates a weighted sum of the \"match\" over all `decoderHiddenDim` elements for each encoder hidden state, where the weights are learned (while learning the parameters of $v$).\n",
        "\n",
        "Finally, to ensure the attention vector fits the constraints of having all elements between 0 and 1 and the vector summing to 1, it gets passed through a $\\text{softmax}$ layer.\n",
        "\n",
        "$$\n",
        "a_t = \\text{softmax}(\\hat{a_t})\n",
        "$$\n",
        "\n",
        "This gives the attention over the source sentence.\n",
        "\n",
        "- **NOTE:** This is an adapted version of the energy $e_{tj}$ in the paper since in the paper, the energy is pushed directly through the softmax function, but here, we must first multiply by the $v$ vector to get correct dimensions.\n",
        "In the paper, the result of energy going through the softmax is the weight $\\alpha_{tj}$ of each annotation $h_j$:\n",
        "\n",
        "$$\n",
        "\\alpha_{tj} = \\frac{e^{e_{tj}}} {\\sum_{k = 1}^{T_x} e^{e_{tj}}}\n",
        "$$\n",
        "\n",
        "Graphically, this looks something like below. This is for calculating the very first attention vector, where $s_{t-1} = s_0 = z$. The green/yellow blocks represent the hidden states from both the forward and backward RNNs, and the attention computation is all done within the pink block."
      ]
    },
    {
      "cell_type": "code",
      "metadata": {
        "lines_to_next_cell": 1,
        "title": "codecell",
        "id": "oFDs3CGxd9wf",
        "colab_type": "code",
        "colab": {
          "base_uri": "https://localhost:8080/",
          "height": 0
        },
        "outputId": "217695c3-0438-47da-8823-56ec68ea0054"
      },
      "source": [
        "Image(filename = pth + \"/src/NLPstudy/images/3_attention.png\")"
      ],
      "execution_count": 35,
      "outputs": [
        {
          "output_type": "execute_result",
          "data": {
            "image/png": "[encoded data removed]",
            "text/plain": [
              "<IPython.core.display.Image object>"
            ]
          },
          "metadata": {
            "tags": []
          },
          "execution_count": 35
        }
      ]
    },
    {
      "cell_type": "markdown",
      "metadata": {
        "title": "markdown",
        "id": "ggS3SNihd9wi",
        "colab_type": "text"
      },
      "source": [
        "**New Key Feature: Masking**\n",
        "\n",
        "The `forward` method now takes a `mask` input.\n",
        "\n",
        "**Definition: `mask`:** A mask is a (`batchSize`, `srcSentenceLen`) tensor **equal to 1 when the source sentence token is not a padding token**, and **equal to 0 when it is a padding token**.\n",
        "\n",
        "**Example of `mask`:** For example, if the source sentence is: [\"hello\", \"how\", \"are\", \"you\", \"?\", `<pad>`, `<pad>`], then the mask would be [1, 1, 1, 1, 1, 0, 0].\n",
        "[Source documentation](https://hyp.is/eh0YwBHdEeqh31OC2GfK2w/kite.com/python/docs/torch.Tensor.masked_fill_)\n",
        "\n",
        "We apply the mask after the attention has been calculated, but before it has been normalized by the `softmax` function.\n",
        "The mask  is applied using `masked_fill`.\n",
        "This fills the tensor at each element where the first argument (`mask == 0`) is true, with the value given by the second argument (`-1e10`). In other words, it will take the un-normalized attention values, and change the attention values over padded elements to be `-1e10`. As these numbers will be miniscule compared to the other values they will become zero when passed through the `softmax` layer, ensuring no attention is payed to padding tokens in the source sentence."
      ]
    },
    {
      "cell_type": "code",
      "metadata": {
        "lines_to_next_cell": 2,
        "title": "codecell",
        "id": "MOPAC6rcd9wj",
        "colab_type": "code",
        "colab": {}
      },
      "source": [
        "class Attention(nn.Module):\n",
        "\n",
        "    def __init__(self, encoderHiddenDim: int, decoderHiddenDim: int):\n",
        "\n",
        "        super().__init__()\n",
        "\n",
        "        self.attentionLinearLayer = \\\n",
        "            nn.Linear(in_features = encoderHiddenDim * 2 + decoderHiddenDim,\n",
        "                      out_features=decoderHiddenDim)\n",
        "\n",
        "        # Creating this vector of random numbers just for properly shaping the\n",
        "        # energy tensor (aesthetic purpose only, for v)\n",
        "        self.v = nn.Parameter(torch.rand(decoderHiddenDim))\n",
        "\n",
        "\n",
        "    def forward(self, hidden: Tensor,\n",
        "                encoderOutputs: Tensor,\n",
        "                maskTensor: Tensor) -> Tensor:\n",
        "        \"\"\"\n",
        "\n",
        "        :param hidden:\n",
        "            shape = (batchSize, decoderHiddenDim)\n",
        "        :param encoderOutputs:\n",
        "            shape = (srcSentenceLen, batchSize, encoderHiddenDim * 2)\n",
        "        :param mask:\n",
        "            shape = (`batchSize`, `srcSentenceLen`) tensor **equal to 1 when the\n",
        "            source sentence token is not a padding token**, and **equal to 0 when\n",
        "            it is a padding token**.\n",
        "\n",
        "            Example: if the source sentence is:\n",
        "            [\"hello\", \"how\", \"are\", \"you\", \"?\", `<pad>`, `<pad>`],\n",
        "            then the mask would be [1, 1, 1, 1, 1, 0, 0].\n",
        "\n",
        "            Source documentation:\n",
        "            https://hyp.is/eh0YwBHdEeqh31OC2GfK2w/kite.com/python/docs/torch.Tensor.masked_fill_\n",
        "        :return:\n",
        "        \"\"\"\n",
        "        srcSentenceLen, batchSize, _ = encoderOutputs.shape\n",
        "\n",
        "        # repeat encoder hidden state srcSentenceLen times\n",
        "        hidden: Tensor = hidden.unsqueeze(1).repeat(1, srcSentenceLen, 1)\n",
        "        ## hidden shape = (batchSize, srcSentenceLen, decoderHiddenDim)\n",
        "\n",
        "        encoderOutputs: Tensor = encoderOutputs.permute(1, 0, 2)\n",
        "        ## encoderOutputs shape = (batchSize, srcSentenceLen, encoderHiddenDim * 2)\n",
        "\n",
        "        energy: Tensor = torch.tanh(self.attentionLinearLayer(\n",
        "            torch.cat((hidden, encoderOutputs), dim = 2)))\n",
        "        ## energy shape = (batchSize, srcSentenceLen, decoderHiddenDim)\n",
        "\n",
        "        energy: Tensor = energy.permute(0, 2, 1)\n",
        "        ## energy shape now = (batchSize, decoderHiddenDim, srcSentenceLen)\n",
        "\n",
        "        # V shape currently = (decoderHiddenDim)\n",
        "        # NOTE: v has aesthetic purpose only, to properly shape the attention vector.\n",
        "        v: Tensor = self.v.repeat(batchSize, 1).unsqueeze(1)\n",
        "        ## v shape now = (batchSize, 1, decoderHiddenDim)\n",
        "\n",
        "        # Multiplying v * E_t then removing the dimension 1 to get attention vector\n",
        "        # of shape (srcSentenceLen)\n",
        "        attention: Tensor = torch.bmm(v, energy).squeeze(1)\n",
        "        ## attention shape = (batchSize, srcLen)\n",
        "        # TODO: srcLen == srcSentenceLen ????\n",
        "        # TODO: why is this not the expected shape? (vector)?\n",
        "\n",
        "        # Applying the mask over the attention to decide what is important:\n",
        "        # This fills the tensor at each element where the first argument (`mask == 0`) is true, with the value given\n",
        "        # by the second argument (`-1e10`). In other words, it will take the\n",
        "        # un-normalized attention values, and change the attention values over\n",
        "        # padded elements to be `-1e10`. As these numbers will be miniscule compared\n",
        "        # to the other values they will become zero when passed through the `softmax`\n",
        "        # layer, ensuring no attention is payed to padding tokens in the source\n",
        "        # sentence.\n",
        "        attention: Tensor = attention.masked_fill(maskTensor == 0, -1e10)\n",
        "\n",
        "        return F.softmax(input = attention, dim = 1)"
      ],
      "execution_count": 0,
      "outputs": []
    },
    {
      "cell_type": "markdown",
      "metadata": {
        "title": "markdown",
        "id": "lWrhzNcEd9wl",
        "colab_type": "text"
      },
      "source": [
        "### Decoder\n",
        "\n",
        "Next up is the decoder. Compared to [part 3](https://github.com/statisticallyfit/PythonNeuralNetNLP/blob/master/src/NLPstudy/Seq2SeqModel/3_NeuralTranslation.ipynb), this `Decoder`  needs only a few small changes:\n",
        "1. It needs to accept a mask over the source sentence\n",
        "2. `Decoder` needs to pass the `mask` to the `Attention` module\n",
        "3. `Decoder` needs to return the `attention` tensor so we can view the attention values during inference.\n",
        "\n",
        "#### Forward Pass of Decoder:\n",
        "\n",
        "##### Attention  Mechanism via Context Vector:\n",
        "\n",
        "The decoder contains the attention layer, `attention`, which takes the previous hidden state, $s_{t-1}$, all of the encoder hidden states, $H$, and returns the attention vector, $a_t$.\n",
        "\n",
        "We then use this attention vector to create a weighted source vector, $w_t$, denoted by `weighted`, which is a weighted sum of the encoder hidden states, $H$, using $a_t$ as the weights.\n",
        "\n",
        "$$w_t = a_t H$$\n",
        "where $H = \\{h_1, ..., h_T\\}$ is a tensor containing the hidden states.\n",
        "\n",
        "[**Formula Definition of Context Vector:**](https://hyp.is/a4cHvBCEEeqsJlM_ngKoPQ/arxiv.org/pdf/1409.0473.pdf)\n",
        "The paper calls this weighted sum the context vector:\n",
        "$$\n",
        "c_t = \\sum_{j=1}^{T_x} \\alpha_{tj} h_j\n",
        "$$\n",
        "The context vector $c_t$ depends on a sequence of annotations (hidden states) $\\{h_1, ..., h_{T_x} \\}$ to which the `Encoder` maps the input sequence. Each annotation (hidden state) $h_t$ contains information about the whole sentence input sequence with a strong focus on parts surrounding the $i$-th word of the input sequence.\n",
        "\n",
        "[**Intuitive Definition of Context Vector:**](https://hyp.is/oJpz5BCEEeqfRyMXGk5sCg/arxiv.org/pdf/1409.0473.pdf)\n",
        "Intuitively, the context vector can be interpreted as follows: taking a weighted sum of all the annotations (hidden states) $h_j$ means computing an *expected annotation*, where the expectation is over all possible alignments. We have $\\alpha_{tj}$ is the probability that the target word $y_t$ is aligned to or translated from a source word $x_j$. Then the $t$-th context vector at time $t$ is $c_t$ is the expected annotation over all the annotations $h_j$ with probabilities $\\alpha_{tj}$\n",
        "The probability $\\alpha_{tj}$ or its associated energy $e_{tj}$ reflects the importance of the annotation $h_j$ with respect to the previous hidden state $s_{t-1}$ of the `Decoder` in deciding the next state $s_i$ and generating the target $y_t$.\n",
        "This acts as an attention mechanism in the `Decoder`.\n",
        "The `Decoder` decides which parts of the source sentence it must pay attention to.\n",
        "[**Key purpose:**](https://hyp.is/4h2kThCEEeqXUfPFPlUP2w/arxiv.org/pdf/1409.0473.pdf) By letting the `Decoder` have attention mechanism, we relieve the `Encoder` from the burden of having to encode all information in the source sentence into a fixed-length vector. This way, information can be spread throughout the sequence of annotations which can then be selectively retrieved by the `Decoder`.\n",
        "\n",
        "\n",
        "\n",
        "##### [DecoderRNN  Formula:](https://hyp.is/ODSeYBCEEeqsqje0gfKtaA/arxiv.org/pdf/1409.0473.pdf)\n",
        "\n",
        "The input word (that has been embedded), $y_t$, the weighted source vector, $w_t$, and the previous decoder hidden state, $s_{t-1}$, are then all passed into the decoder RNN, with $y_t$ and $w_t$ being concatenated together.\n",
        "\n",
        "$$s_t = \\text{DecoderGRU}(y_t, w_t, s_{t-1}) $$\n",
        "\n",
        "We then pass $y_t$, $w_t$ and $s_t$ through the linear layer, $f$, to make a prediction of the next word in the target sentence, $\\hat{y}_{t+1}$. This is done by concatenating them all together.\n",
        "\n",
        "$$\\hat{y}_{t+1} = f(y_t, w_t, s_t)$$\n",
        "\n",
        "The image below shows decoding the first word in an example translation."
      ]
    },
    {
      "cell_type": "code",
      "metadata": {
        "lines_to_next_cell": 1,
        "title": "codecell",
        "id": "eighEQVHd9wn",
        "colab_type": "code",
        "colab": {
          "base_uri": "https://localhost:8080/",
          "height": 445
        },
        "outputId": "226bca00-d770-4dc3-eae0-42a084290433"
      },
      "source": [
        "Image(filename = pth + \"/src/NLPstudy/images/3_decoderGRU.png\")"
      ],
      "execution_count": 37,
      "outputs": [
        {
          "output_type": "execute_result",
          "data": {
            "image/png": "[encoded data removed]",
            "text/plain": [
              "<IPython.core.display.Image object>"
            ]
          },
          "metadata": {
            "tags": []
          },
          "execution_count": 37
        }
      ]
    },
    {
      "cell_type": "markdown",
      "metadata": {
        "title": "markdown",
        "id": "4CnLD2Hpd9wr",
        "colab_type": "text"
      },
      "source": [
        "The green/yellow blocks show the forward/backward encoder RNNs which output $H$, the red block shows the context vector, $z = h_T = \\tanh(g(h^\\rightarrow_T,h^\\leftarrow_T)) = \\tanh(g(z^\\rightarrow, z^\\leftarrow)) = s_0$, the blue block shows the decoder RNN which outputs $s_t$, the purple block shows the linear layer, $f$, which outputs $\\hat{y}_{t+1}$ and the orange block shows the calculation of the weighted sum over $H$ by $a_t$ and outputs $w_t$. Not shown is the calculation of $a_t$."
      ]
    },
    {
      "cell_type": "code",
      "metadata": {
        "title": "codecell",
        "id": "xY9N5RY5d9ws",
        "colab_type": "code",
        "colab": {}
      },
      "source": [
        "class Decoder(nn.Module):\n",
        "\n",
        "    def __init__(self, outputDim: int, embedDim: int,\n",
        "                 encoderHiddenDim: int, decoderHiddenDim: int, dropout: float,\n",
        "                 attention: Attention):\n",
        "\n",
        "        super().__init__()\n",
        "\n",
        "        self.outputDim: int = outputDim\n",
        "        self.attention: Attention = attention\n",
        "\n",
        "        self.embeddingLayer = nn.Embedding(num_embeddings=outputDim,\n",
        "                                           embedding_dim=embedDim)\n",
        "\n",
        "        self.gru = nn.GRU(input_size=encoderHiddenDim * 2 + embedDim,\n",
        "                          hidden_size= decoderHiddenDim)\n",
        "\n",
        "        self.outputLayer = nn.Linear(\n",
        "            in_features=encoderHiddenDim * 2 + decoderHiddenDim + embedDim,\n",
        "            out_features=outputDim)\n",
        "\n",
        "        self.dropout = nn.Dropout(dropout)\n",
        "\n",
        "\n",
        "\n",
        "    def forward(self, input:Tensor,\n",
        "                hidden: Tensor,\n",
        "                encoderOutputs: Tensor,\n",
        "                maskTensor: Tensor) -> (Tensor, Tensor, Tensor):\n",
        "        \"\"\"\n",
        "\n",
        "        :param input:\n",
        "            shape = (batchSize)\n",
        "        :param hidden:\n",
        "            shape = (batchSize, decoderHiddenDim)\n",
        "        :param encoderOutputs:\n",
        "            shape = (srcSentenceLen, batchSize, encoderHiddenDim * 2)\n",
        "        :param mask:\n",
        "            shape = (`batchSize`, `srcSentenceLen`) tensor **equal to 1 when the\n",
        "            source sentence token is not a padding token**, and **equal to 0 when\n",
        "            it is a padding token**.\n",
        "\n",
        "            Example: if the source sentence is:\n",
        "            [\"hello\", \"how\", \"are\", \"you\", \"?\", `<pad>`, `<pad>`],\n",
        "            then the mask would be [1, 1, 1, 1, 1, 0, 0].\n",
        "\n",
        "            Source documentation:\n",
        "            https://hyp.is/eh0YwBHdEeqh31OC2GfK2w/kite.com/python/docs/torch.Tensor.masked_fill_\n",
        "\n",
        "        :return:\n",
        "        \"\"\"\n",
        "\n",
        "        input: Tensor = input.unsqueeze(0)\n",
        "        ## input shape now = (1, batchSize)\n",
        "\n",
        "        inputEmbedding: Tensor = self.dropout(self.embeddingLayer(input))\n",
        "        ## shape = (1, batchSize, embedDim)\n",
        "\n",
        "        # Calculate attention (result of forward method)\n",
        "        attn: Tensor = self.attention(hidden=hidden,\n",
        "                                      encoderOutputs = encoderOutputs,\n",
        "                                      maskTensor = maskTensor)\n",
        "        ## a shape = (batchSize, srcLen)\n",
        "        attn: Tensor = attn.unsqueeze(1) # add 1-dim tensor at dim = 1\n",
        "        ## a shape = (batchSize, 1, srcLen)\n",
        "\n",
        "        encoderOutputs: Tensor = encoderOutputs.permute(1, 0, 2)\n",
        "        ## shape = (batchSize, srcSentenceLen, encoderHiddenDim * 2)\n",
        "        ## NOTE: meaning of torch.permute(): https://hyp.is/vV91khFMEeqUaP99rnuMeg/kite.com/python/docs/torch.Tensor.permute\n",
        "        # torch.permute() switches the dimensions of the tensor by referring to the axes / dims\n",
        "\n",
        "        # called 'weighted'\n",
        "        ## NOTE: meaning of torch.bmm(): https://hyp.is/XqvTdBFMEeqVmoOfrqLXCA/pytorch.org/docs/stable/torch.html\n",
        "        # Meaning: does batch matrix multiplication:\n",
        "        #   if mat1 has size (b, n, m) and mat2 has size (b, m, p), the result of\n",
        "        #   torch.bmm(mat1, mat2) is a matrix with size (b, n, p)\n",
        "        weightedContext: Tensor = torch.bmm(attn, encoderOutputs)\n",
        "        # weighted context shape = (batchSize, 1, encoderHiddenDim * 2)\n",
        "        weightedContext: Tensor = weightedContext.permute(1, 0, 2)\n",
        "        ## shape = (1, batchSize, encoderHiddenDim * 2)\n",
        "\n",
        "        gruInput: Tensor = torch.cat((inputEmbedding, weightedContext), dim = 2)\n",
        "        ## shape = (1, batchSize, encoderHiddenDIm * 2 + embedDim)\n",
        "\n",
        "        #output, hidden = self.rnn(input = rnnInput, hidden = hidden.unsqueeze(0))\n",
        "        output, hidden = self.gru(gruInput, hidden.unsqueeze(0))\n",
        "        ## output shape = (sentenceLen, batchSize, decoderHiddenDim * numDirections)\n",
        "        ## hidden shape = (numLayers * numDirections, batchSize, decoderHiddenDim)\n",
        "        ## ------- NOTE: sentenceLen = numLayers = numDirections = 1, so the shapes are:\n",
        "        ## output shape = (1, batchSize, decoderHiddenDim)\n",
        "        ## hidden shape = (1, batchSize, decoderHiddenDim)\n",
        "        ## TODO (?): this also means that output == hidden\n",
        "        # why are they equal?\n",
        "        assert (output == hidden).all()\n",
        "\n",
        "\n",
        "        # Getting rid of 1-dimensional tensor for all of these\n",
        "        inputEmbedding: Tensor = inputEmbedding.squeeze(0)\n",
        "        ## shape = (batchSize, embedDim)\n",
        "        output: Tensor = output.squeeze(0)\n",
        "        ## shape = (batchSize, decoderHiddenDim)\n",
        "        weightedContext: Tensor = weightedContext.squeeze(0)\n",
        "        ## shape = (batchSize, encoderHiddenDim * 2)\n",
        "\n",
        "        prediction: Tensor = self.outputLayer(\n",
        "            torch.cat( (output, weightedContext, inputEmbedding), dim=1 )\n",
        "        )\n",
        "        # output shape = (batchSize, outputDim)\n",
        "\n",
        "        # put back 1-dim tensor at position 0\n",
        "        hidden: Tensor = hidden.squeeze(0)\n",
        "        # hidden shape = (1, 1, batchSize, decoderHiddemDim)\n",
        "        # ????\n",
        "\n",
        "        # put 1-dim tensor at position 1\n",
        "        attn: Tensor = attn.squeeze(1)\n",
        "        # a shape = (batchSize, 1, 1, srcLen)\n",
        "        # ????\n",
        "\n",
        "        return prediction, hidden, attn"
      ],
      "execution_count": 0,
      "outputs": []
    },
    {
      "cell_type": "markdown",
      "metadata": {
        "lines_to_next_cell": 2,
        "title": "markdown",
        "id": "6w3knDdrd9wu",
        "colab_type": "text"
      },
      "source": [
        "### Seq2Seq\n",
        "\n",
        "This is the first model where we don't have to have the `Encoder` RNN and `Decoder` RNN have the same hidden dimensions, however the `Encoder` has to be bidirectional. This requirement can be removed by changing all occurences of `enc_dim * 2` to `enc_dim * 2 if 'encoderIsBidirectional else enc_dim`.\n",
        "- TODO\n",
        "\n",
        "This seq2seq encapsulator is similar to the last two. The only differences are that the `Encoder` returns both the:\n",
        "1. final hidden state (which is the final hidden state from both the forward and backward `Encoder` GRUs passed through a linear layer) to be used as the initial hidden state for the `Decoder`\n",
        "2. and returns every hidden state (which are the forward and backward hidden states stacked on top of each other).\n",
        "3. We also need to ensure that `hidden` and `encoderOutputs` are passed to the `Decoder`.\n",
        "\n",
        "**Forward Pass of Seq2Seq Model:**\n",
        "- the `outputs` tensor is created to hold all predictions, $\\hat{Y}$\n",
        "- the source sequence, $X$, and source sequence lengths, `srcLens`, are fed into the `Encoder` to receive $z$ (`encoderOutputs`) and $H$ (`hidden`)\n",
        "- the initial `Decoder` hidden state is set to be the `context` vector, $s_0 = z = h_T$\n",
        "- use a batch of `<sos>` tokens as the first `input`, $y_1$\n",
        "- create the masks from the source sequence tensor\n",
        "- we then decode within a loop:\n",
        "\t- inserting the input token $y_t$, previous hidden state, $s_{t-1}$, and all `encoderOutputs`, $H$, into the `Decoder`. Also pass in the `mask` tensor.\n",
        "\t- receiving a prediction, $\\hat{y}_{t+1}$, and a new hidden state, $s_t$\n",
        "\t- we then decide if we are going to teacher force or not, setting the next input as appropriate"
      ]
    },
    {
      "cell_type": "code",
      "metadata": {
        "lines_to_next_cell": 2,
        "title": "codecell",
        "id": "rverjiwhd9wu",
        "colab_type": "code",
        "colab": {}
      },
      "source": [
        "class Seq2Seq(nn.Module):\n",
        "\n",
        "    def __init__(self, encoder: Encoder, decoder: Decoder, srcPadIndex: Tensor, device):\n",
        "\n",
        "        super().__init__()\n",
        "\n",
        "        self.encoder: Encoder = encoder\n",
        "        self.decoder: Decoder = decoder\n",
        "        self.srcPadIndex: Tensor = srcPadIndex\n",
        "        self.device = device\n",
        "\n",
        "\n",
        "\n",
        "    def createMask(self, src: Tensor) -> Tensor:\n",
        "        \"\"\"\n",
        "\n",
        "        :param src:\n",
        "        :return: a mask tensor with values created from where src and pad idnex are\n",
        "        not equal. Has switched dimensions (permuted dim=1 and dim=0)\n",
        "        TODO: ?? is src and srcPadIndex binary????\n",
        "        \"\"\"\n",
        "        mask: Tensor = (src != self.srcPadIndex).permute(1, 0)\n",
        "        return mask\n",
        "\n",
        "\n",
        "\n",
        "    def forward(self, srcSeq: Tensor, srcLens: Tensor,\n",
        "                trgSeq: Tensor,\n",
        "                teacherForcingRatio = 0.5) -> Tensor:\n",
        "        \"\"\"\n",
        "\n",
        "        :param srcSeq:\n",
        "            tensor shape = (srcSentenceLen, batchSize)\n",
        "        :param srcLens:\n",
        "            tensor shape = (batchSize)\n",
        "        :param trgSeq:\n",
        "            shape = (trgSentenceLen, batchSize)\n",
        "        :param teacherForcingRatio:\n",
        "\n",
        "        :return:\n",
        "        \"\"\"\n",
        "        trgSentenceLen, batchSize = trgSeq.shape\n",
        "        trgVocabSize: int = self.decoder.outputDim\n",
        "\n",
        "        # tensor to store decoder outputs\n",
        "        outputs: Tensor = torch.zeros(trgSentenceLen,\n",
        "                                      batchSize,\n",
        "                                      trgVocabSize).to(self.device)\n",
        "\n",
        "        ### Encoder outputs is all the hidden states of the input sequence,\n",
        "        # backwards and forwads\n",
        "        ### Hidden is final forward and backward hidden states, after having passed\n",
        "        # through a linear layer\n",
        "        # Doing encoder forward pass.\n",
        "        encoderOutputs, hidden = self.encoder(src=srcSeq, srcLens=srcLens)\n",
        "\n",
        "        # First input to the decoder is the <sos> tokens\n",
        "        input = trgSeq[0, :]\n",
        "\n",
        "        # Create mask\n",
        "        mask: Tensor = self.createMask(srcSeq)\n",
        "\n",
        "\n",
        "        for t in range(1, trgSentenceLen):\n",
        "            # insert input token embedding, previous hidden state, and all\n",
        "            # encoder hidden states and mask.\n",
        "            # Receive output tensor (predictions) and new hidden state\n",
        "            output, hidden, _ = self.decoder(input = input, hidden=hidden,\n",
        "                                            encoderOutputs = encoderOutputs,\n",
        "                                            maskTensor = mask)\n",
        "\n",
        "            # Place predictions in a tensor holding predictions for each token\n",
        "            outputs[t] = output\n",
        "\n",
        "            # Decide if using teacher forcing or not\n",
        "            useTeacherForce = random.random() < teacherForcingRatio\n",
        "\n",
        "            # Get highest predicted token from our predictions\n",
        "            maxPredToken = output.argmax(1)\n",
        "\n",
        "            # if teacher forcing, use actual next token (trgSeq[t]) as next input,\n",
        "            # else use predicted token (maxPredToken)\n",
        "            input = trgSeq[t] if useTeacherForce else maxPredToken\n",
        "\n",
        "\n",
        "        return outputs"
      ],
      "execution_count": 0,
      "outputs": []
    },
    {
      "cell_type": "markdown",
      "metadata": {
        "title": "markdown",
        "id": "Z-MWLs01d9ww",
        "colab_type": "text"
      },
      "source": [
        "Training the Seq2Seq Model\n",
        "\n",
        "The rest of this tutorial is very similar to the previous one.\n",
        "\n",
        "# Step 1: Initialize the Seq2Seq (GRU) Model\n",
        "\n",
        "We initialise our encoder, decoder and seq2seq model (placing it on the GPU if we have one). As before, the embedding dimensions and the amount of dropout used can be different between the encoder and the decoder, but the hidden dimensions must remain the same."
      ]
    },
    {
      "cell_type": "code",
      "metadata": {
        "lines_to_next_cell": 1,
        "title": "codecell",
        "id": "dMhRCMYWd9wx",
        "colab_type": "code",
        "colab": {
          "base_uri": "https://localhost:8080/",
          "height": 34
        },
        "outputId": "4439b296-b876-4a4d-cf4f-a1337b4e5446"
      },
      "source": [
        "INPUT_DIM = len(SRC.vocab)\n",
        "OUTPUT_DIM = len(TRG.vocab)\n",
        "ENC_EMB_DIM = 256\n",
        "DEC_EMB_DIM = 256\n",
        "ENC_HID_DIM = 512\n",
        "DEC_HID_DIM = 512\n",
        "ENC_DROPOUT = 0.5\n",
        "DEC_DROPOUT = 0.5\n",
        "SRC_PAD_IDX = SRC.vocab.stoi[SRC.pad_token]\n",
        "\n",
        "attn = Attention(encoderHiddenDim=ENC_HID_DIM, decoderHiddenDim=DEC_HID_DIM)\n",
        "\n",
        "enc = Encoder(inputDim=INPUT_DIM, embedDim=ENC_EMB_DIM,\n",
        "              encoderHiddenDim= ENC_HID_DIM, decoderHiddenDim= DEC_HID_DIM,\n",
        "              dropout= ENC_DROPOUT)\n",
        "\n",
        "dec = Decoder(outputDim = OUTPUT_DIM, embedDim=DEC_EMB_DIM,\n",
        "              encoderHiddenDim=ENC_HID_DIM, decoderHiddenDim=DEC_HID_DIM,\n",
        "              dropout = DEC_DROPOUT,\n",
        "              attention=attn)\n",
        "\n",
        "seqToSeqMaskModel = Seq2Seq(encoder=enc, decoder=dec, device=device,\n",
        "                                     srcPadIndex=SRC_PAD_IDX).to(device)\n",
        "\n",
        "\n",
        "enc\n",
        "\n",
        "dec\n",
        "\n",
        "seqToSeqMaskModel\n",
        "\n",
        "device"
      ],
      "execution_count": 40,
      "outputs": [
        {
          "output_type": "execute_result",
          "data": {
            "text/plain": [
              "device(type='cuda')"
            ]
          },
          "metadata": {
            "tags": []
          },
          "execution_count": 40
        }
      ]
    },
    {
      "cell_type": "markdown",
      "metadata": {
        "title": "markdown",
        "id": "5zxWaI2od9wz",
        "colab_type": "text"
      },
      "source": [
        "## Step 2: Initialize the Weights of the Seq2Seq Model\n",
        "\n",
        "We use a simplified version of the weight initialization scheme used in the paper. Here, we will initialize all biases to zero and all weights from $\\mathcal{N}(0, 0.01)$."
      ]
    },
    {
      "cell_type": "code",
      "metadata": {
        "title": "codecell",
        "id": "PMYKFlqid9w0",
        "colab_type": "code",
        "colab": {
          "base_uri": "https://localhost:8080/",
          "height": 316
        },
        "outputId": "284950f0-1be4-4b4d-9da2-a2340d11c16a"
      },
      "source": [
        "def initWeights(model: Seq2Seq):\n",
        "    for  name, param in model.named_parameters():\n",
        "        if 'weight' in name:\n",
        "            nn.init.normal_(tensor = param.data, mean=0, std=0.01)\n",
        "        else:\n",
        "            nn.init.constant_(tensor = param.data, val=0)\n",
        "\n",
        "seqToSeqMaskModel.apply(initWeights)"
      ],
      "execution_count": 41,
      "outputs": [
        {
          "output_type": "execute_result",
          "data": {
            "text/plain": [
              "Seq2Seq(\n",
              "  (encoder): Encoder(\n",
              "    (embeddingLayer): Embedding(7855, 256)\n",
              "    (gLinearLayer): Linear(in_features=1024, out_features=512, bias=True)\n",
              "    (gru): GRU(256, 512, bidirectional=True)\n",
              "    (dropout): Dropout(p=0.5, inplace=False)\n",
              "  )\n",
              "  (decoder): Decoder(\n",
              "    (attention): Attention(\n",
              "      (attentionLinearLayer): Linear(in_features=1536, out_features=512, bias=True)\n",
              "    )\n",
              "    (embeddingLayer): Embedding(5893, 256)\n",
              "    (gru): GRU(1280, 512)\n",
              "    (outputLayer): Linear(in_features=1792, out_features=5893, bias=True)\n",
              "    (dropout): Dropout(p=0.5, inplace=False)\n",
              "  )\n",
              ")"
            ]
          },
          "metadata": {
            "tags": []
          },
          "execution_count": 41
        }
      ]
    },
    {
      "cell_type": "markdown",
      "metadata": {
        "title": "markdown",
        "id": "24YKRDh3d9w2",
        "colab_type": "text"
      },
      "source": [
        "### Step 3: Print Out Parameters\n",
        "\n",
        "Define a function to calculate number of trainable parameters in the model.\n",
        "We get an increase of almost 50% in the amount of parameters from the last model."
      ]
    },
    {
      "cell_type": "code",
      "metadata": {
        "title": "codecell",
        "id": "APy675sxd9w2",
        "colab_type": "code",
        "colab": {
          "base_uri": "https://localhost:8080/",
          "height": 34
        },
        "outputId": "973835a5-a81b-4a43-adc6-abcc6a6a0502"
      },
      "source": [
        "def countParameters(model: Seq2Seq):\n",
        "    # note: trainable parameters means ones that have requires_grad = True\n",
        "    return sum(p.numel() for p in model.parameters() if p.requires_grad)\n",
        "\n",
        "print(f'The model has {countParameters(seqToSeqMaskModel):,} trainable parameters')\n",
        "\n"
      ],
      "execution_count": 42,
      "outputs": [
        {
          "output_type": "stream",
          "text": [
            "The model has 20,518,917 trainable parameters\n"
          ],
          "name": "stdout"
        }
      ]
    },
    {
      "cell_type": "markdown",
      "metadata": {
        "title": "markdown",
        "id": "Zx_qSkLTd9w4",
        "colab_type": "text"
      },
      "source": [
        "### Step 4: Initialize the Optimizer (Adam)"
      ]
    },
    {
      "cell_type": "code",
      "metadata": {
        "title": "codecell",
        "id": "xpqH0SEPd9w5",
        "colab_type": "code",
        "colab": {
          "base_uri": "https://localhost:8080/",
          "height": 158
        },
        "outputId": "319c20cc-7aba-4178-d043-2569bf6420cd"
      },
      "source": [
        "adamOptimizer = optim.Adam(seqToSeqMaskModel.parameters())\n",
        "adamOptimizer"
      ],
      "execution_count": 43,
      "outputs": [
        {
          "output_type": "execute_result",
          "data": {
            "text/plain": [
              "Adam (\n",
              "Parameter Group 0\n",
              "    amsgrad: False\n",
              "    betas: (0.9, 0.999)\n",
              "    eps: 1e-08\n",
              "    lr: 0.001\n",
              "    weight_decay: 0\n",
              ")"
            ]
          },
          "metadata": {
            "tags": []
          },
          "execution_count": 43
        }
      ]
    },
    {
      "cell_type": "markdown",
      "metadata": {
        "title": "markdown",
        "id": "lwd3mSagd9w7",
        "colab_type": "text"
      },
      "source": [
        "### Step 5: Define the Loss Function (Cross Entropy)\n",
        "\n",
        "Make sure to ignore the loss on `<pad>` tokens."
      ]
    },
    {
      "cell_type": "code",
      "metadata": {
        "title": "codecell",
        "id": "D0S9JDafd9w7",
        "colab_type": "code",
        "colab": {
          "base_uri": "https://localhost:8080/",
          "height": 34
        },
        "outputId": "c6c249ab-bea9-4d25-9a14-c72e1944b703"
      },
      "source": [
        "# PAD_INDEX = TRG.vocab.stoi['<pad>']\n",
        "TRG_PAD_IDX = TRG.vocab.stoi[TRG.pad_token]\n",
        "\n",
        "crossEntropyLossFunction = nn.CrossEntropyLoss(ignore_index = TRG_PAD_IDX)\n",
        "crossEntropyLossFunction"
      ],
      "execution_count": 44,
      "outputs": [
        {
          "output_type": "execute_result",
          "data": {
            "text/plain": [
              "CrossEntropyLoss()"
            ]
          },
          "metadata": {
            "tags": []
          },
          "execution_count": 44
        }
      ]
    },
    {
      "cell_type": "markdown",
      "metadata": {
        "title": "markdown",
        "id": "Q8w2_ybKd9w-",
        "colab_type": "text"
      },
      "source": [
        "### Step 6: Define the Training Loop\n",
        "\n",
        "- **NOTE:** same as part 1\n",
        "\n",
        "Next, we'll define our training loop.\n",
        "\n",
        "First, we'll set the model into \"training mode\" with `model.train()`. This will turn on dropout (and batch normalization, which we aren't using) and then iterate through our data iterator.\n",
        "\n",
        "- **NOTE:**: the `Decoder` loop starts at 1, not 0. This means the 0th element of our `outputs` tensor remains all zeros. So our `trg` and `outputs` look something like:\n",
        "\n",
        "$$\n",
        "\\text{trg} = [<sos>, y_1, y_2, y_3, <eos>] \\\\\n",
        "\\text{outputs} = [0, \\hat{y}_1, \\hat{y}_2, \\hat{y}_3, <eos>] \\\\\n",
        "$$\n",
        "\n",
        "Here, when we calculate the loss, we cut off the first element of each tensor to get:\n",
        "\n",
        "$$\n",
        "\\text{trg} = [y_1, y_2, y_3, <eos>] \\\\\n",
        "\\text{outputs} = [\\hat{y}_1, \\hat{y}_2, \\hat{y}_3, <eos>] \\\\\n",
        "$$\n",
        "\n",
        "At each iteration:\n",
        "- Get the source and target sentences from the batch, $X$ and $Y$\n",
        "- Zero the gradients calculated from the last batch\n",
        "- Feed the source and target into the model to get the output, $\\hat{Y}$\n",
        "- As the **loss function only works on 2d inputs with 1d targets we need to flatten each of them with `.view`**\n",
        "  - To avoid measuring the loss of the `<sos>` token, we slice off the first column of the output and target tensors as mentioned above.\n",
        "- Calculate the gradients with `loss.backward()`\n",
        "- Clip the gradients to prevent them from exploding (a common issue in RNNs)\n",
        "- Update the parameters of our model by doing an optimizer step\n",
        "- Sum the loss value to a running total\n",
        "\n",
        "Finally, we return the loss that is averaged over all batches."
      ]
    },
    {
      "cell_type": "code",
      "metadata": {
        "lines_to_next_cell": 1,
        "title": "codecell",
        "id": "GF7l_aAmd9w_",
        "colab_type": "code",
        "colab": {}
      },
      "source": [
        "def train(seqModel: Seq2Seq, iterator, optimizer, lossFunction, clip: int):\n",
        "\n",
        "    seqModel.train() # put model in training mode\n",
        "\n",
        "    lossPerEpoch: int = 0\n",
        "\n",
        "    for epoch, batch in enumerate(iterator):\n",
        "\n",
        "        # 1. Getting source and target sentences from batch\n",
        "        srcSentence, srcLens = batch.src\n",
        "        trgSentence: Tensor = batch.trg\n",
        "\n",
        "        # 2. Zero the gradients from the last batch\n",
        "        optimizer.zero_grad()\n",
        "\n",
        "        # 3. Feed the source and target sentences into the seq2seq model\n",
        "        # to get the output tensor of predictions.\n",
        "        output: Tensor = seqModel(srcSeq=srcSentence,\n",
        "                                  srcLens = srcLens,\n",
        "                                  trgSeq =trgSentence)\n",
        "        ### trgSentence = tensor of shape (trgSentenceLen, batchSize)\n",
        "        ### output = tensor of shape (trgSentenceLen, batchSize, outputDim)\n",
        "\n",
        "        # 4. Need to flatten the outputs to be in 2d input with 1d target\n",
        "        # so that loss can take this as an argument.\n",
        "        # (by slicing off the first column of the output and target tensors\n",
        "        # as mentioned above)\n",
        "        outputDim: int = output.shape[-1]\n",
        "\n",
        "        output: Tensor = output[1:].view(-1, outputDim)\n",
        "        trgSentence: Tensor = trgSentence[1:].view(-1)\n",
        "        ## trgSentence shape now: ((trgSentenceLen - 1) * batchSize)\n",
        "        ## output shape now: ((trgSentenceLen - 1) * batchSize, outputDim)\n",
        "\n",
        "        # 5. Calculate gradients\n",
        "        loss = lossFunction(input=output, target= trgSentence)\n",
        "        loss.backward()\n",
        "\n",
        "        # 6. Clip gradient so it doesn't explode\n",
        "        torch.nn.utils.clip_grad_norm_(parameters = seqModel.parameters(),\n",
        "                                       max_norm = clip)\n",
        "\n",
        "        # 7. Update parameters of model\n",
        "        optimizer.step()\n",
        "\n",
        "        # 8. Sum the loss value to a running total\n",
        "        lossPerEpoch += loss.item()\n",
        "\n",
        "    return lossPerEpoch / len(iterator) # average loss"
      ],
      "execution_count": 0,
      "outputs": []
    },
    {
      "cell_type": "markdown",
      "metadata": {
        "title": "markdown",
        "id": "Uhp92ZPOd9xC",
        "colab_type": "text"
      },
      "source": [
        "### Step 7: Define the Evaluation Loop\n",
        "\n",
        "Our evaluation loop is similar to our training loop, however as we aren't updating any parameters we don't need to pass an optimizer or a clip value.\n",
        "\n",
        "*We must remember to set the model to evaluation mode with `model.eval()`. This will turn off dropout (and batch normalization, if used).*\n",
        "\n",
        "We use the `with torch.no_grad()` block to ensure no gradients are calculated within the block. This reduces memory consumption and speeds things up.\n",
        "\n",
        "The iteration loop is similar (without the parameter updates), however we must ensure we turn teacher forcing off for evaluation. This will cause the model to only use it's own predictions to make further predictions within a sentence, which mirrors how it would be used in deployment."
      ]
    },
    {
      "cell_type": "code",
      "metadata": {
        "title": "codecell",
        "id": "G5UZ44mnd9xC",
        "colab_type": "code",
        "colab": {}
      },
      "source": [
        "def evaluate(seqModel: Seq2Seq, iterator, lossFunction):\n",
        "\n",
        "    seqModel.eval()\n",
        "\n",
        "    lossPerEpoch = 0\n",
        "\n",
        "    with torch.no_grad():\n",
        "\n",
        "        for epoch, batch in enumerate(iterator):\n",
        "\n",
        "            srcSentence, srcLens = batch.src\n",
        "            trgSentence: Tensor = batch.trg\n",
        "\n",
        "            # Turn off teacher forcing\n",
        "            output: Tensor = seqModel(srcSeq=srcSentence,\n",
        "                                      srcLens=srcLens,\n",
        "                                      trgSeq=trgSentence,\n",
        "                                      teacherForcingRatio = 0)\n",
        "            ## trgSentence = tensor with shape (trgSentenceLen, batchSize)\n",
        "            ## output = tensor with shape (trgSentenceLen, batchSize, outputDim)\n",
        "\n",
        "            outputDim: int = output.shape[-1]\n",
        "\n",
        "            output: Tensor = output[1:].view(-1, outputDim)\n",
        "            trgSentence: Tensor = trgSentence[1:].view(-1)\n",
        "            ## trgSentence = shape is now ((trgSentenceLen - 1) * batchSize)\n",
        "            ## output = shape is now ((trgSentenceLen - 1) * batchSize, outputDim)\n",
        "\n",
        "            loss = lossFunction(input=output, target=trgSentence)\n",
        "\n",
        "            lossPerEpoch += loss.item()\n",
        "\n",
        "\n",
        "    return lossPerEpoch / len(iterator) # average loss"
      ],
      "execution_count": 0,
      "outputs": []
    },
    {
      "cell_type": "code",
      "metadata": {
        "title": "codecell",
        "id": "OLPgroZRd9xE",
        "colab_type": "code",
        "colab": {}
      },
      "source": [
        "# Time the epoch!\n",
        "\n",
        "def epochTimer(startTime, endTime):\n",
        "    elapsedTime = endTime - startTime\n",
        "    elapsedMins = int(elapsedTime / 60)\n",
        "    elapsedSecs = int(elapsedTime - (elapsedMins * 60))\n",
        "    return elapsedMins, elapsedSecs"
      ],
      "execution_count": 0,
      "outputs": []
    },
    {
      "cell_type": "markdown",
      "metadata": {
        "title": "markdown",
        "id": "FiZHjPjhd9xG",
        "colab_type": "text"
      },
      "source": [
        "### Step 8: Train the Model"
      ]
    },
    {
      "cell_type": "code",
      "metadata": {
        "lines_to_next_cell": 2,
        "title": "codecell",
        "id": "_uv7VJj6d9xG",
        "colab_type": "code",
        "colab": {
          "base_uri": "https://localhost:8080/",
          "height": 580
        },
        "outputId": "99fa1b46-e9ec-4e0d-da6e-a569d1606dba"
      },
      "source": [
        "%%time\n",
        "\n",
        "NUM_EPOCHS = 10\n",
        "CLIP = 1\n",
        "\n",
        "bestValidLoss = float('inf')\n",
        "\n",
        "for epoch in range(NUM_EPOCHS):\n",
        "\n",
        "    startTime = time.time()\n",
        "\n",
        "    trainingLoss = train(seqModel=seqToSeqMaskModel,\n",
        "                         iterator=trainIterator,\n",
        "                         optimizer=adamOptimizer,\n",
        "                         lossFunction=crossEntropyLossFunction,\n",
        "                         clip=CLIP)\n",
        "\n",
        "    validationLoss = evaluate(seqModel=seqToSeqMaskModel,\n",
        "                              iterator=validationIterator,\n",
        "                              lossFunction=crossEntropyLossFunction)\n",
        "\n",
        "    endTime = time.time()\n",
        "\n",
        "    epochMins, epochSecs = epochTimer(startTime , endTime)\n",
        "\n",
        "    if validationLoss < bestValidLoss:\n",
        "        bestValidLoss = validationLoss\n",
        "        torch.save(seqToSeqMaskModel.state_dict(), 'tut4_bestModel.pt')\n",
        "\n",
        "\n",
        "    print(f'Epoch: {epoch+1:02} | Time: {epochMins}m {epochSecs}s')\n",
        "    print(f'\\tTrain Loss: {trainingLoss:.3f} | Train PPL: {math.exp(trainingLoss):7.3f}')\n",
        "    print(f'\\t Val. Loss: {validationLoss:.3f} |  Val. PPL: {math.exp(validationLoss):7.3f}')"
      ],
      "execution_count": 57,
      "outputs": [
        {
          "output_type": "stream",
          "text": [
            "Epoch: 01 | Time: 1m 35s\n",
            "\tTrain Loss: 5.056 | Train PPL: 156.885\n",
            "\t Val. Loss: 4.781 |  Val. PPL: 119.242\n",
            "Epoch: 02 | Time: 1m 35s\n",
            "\tTrain Loss: 4.055 | Train PPL:  57.708\n",
            "\t Val. Loss: 4.033 |  Val. PPL:  56.417\n",
            "Epoch: 03 | Time: 1m 35s\n",
            "\tTrain Loss: 3.259 | Train PPL:  26.018\n",
            "\t Val. Loss: 3.521 |  Val. PPL:  33.828\n",
            "Epoch: 04 | Time: 1m 36s\n",
            "\tTrain Loss: 2.781 | Train PPL:  16.133\n",
            "\t Val. Loss: 3.304 |  Val. PPL:  27.225\n",
            "Epoch: 05 | Time: 1m 35s\n",
            "\tTrain Loss: 2.428 | Train PPL:  11.340\n",
            "\t Val. Loss: 3.225 |  Val. PPL:  25.153\n",
            "Epoch: 06 | Time: 1m 36s\n",
            "\tTrain Loss: 2.153 | Train PPL:   8.607\n",
            "\t Val. Loss: 3.242 |  Val. PPL:  25.584\n",
            "Epoch: 07 | Time: 1m 35s\n",
            "\tTrain Loss: 1.922 | Train PPL:   6.836\n",
            "\t Val. Loss: 3.185 |  Val. PPL:  24.163\n",
            "Epoch: 08 | Time: 1m 35s\n",
            "\tTrain Loss: 1.741 | Train PPL:   5.702\n",
            "\t Val. Loss: 3.220 |  Val. PPL:  25.030\n",
            "Epoch: 09 | Time: 1m 36s\n",
            "\tTrain Loss: 1.597 | Train PPL:   4.939\n",
            "\t Val. Loss: 3.315 |  Val. PPL:  27.514\n",
            "Epoch: 10 | Time: 1m 35s\n",
            "\tTrain Loss: 1.490 | Train PPL:   4.437\n",
            "\t Val. Loss: 3.290 |  Val. PPL:  26.834\n",
            "CPU times: user 10min 49s, sys: 5min 3s, total: 15min 52s\n",
            "Wall time: 15min 59s\n"
          ],
          "name": "stdout"
        }
      ]
    },
    {
      "cell_type": "code",
      "metadata": {
        "title": "codecell",
        "id": "YDsXMIrkd9xJ",
        "colab_type": "code",
        "colab": {
          "base_uri": "https://localhost:8080/",
          "height": 34
        },
        "outputId": "54d6c2af-7dc6-4d84-8739-7e4c23c65d47"
      },
      "source": [
        "\n",
        "# We'll load the parameters (state_dict) that gave our model the best\n",
        "# validation loss and run it the model on the test set.\n",
        "\n",
        "seqToSeqMaskModel.load_state_dict(torch.load('tut4_bestModel.pt'))\n",
        "\n",
        "testLoss = evaluate(seqModel=seqToSeqMaskModel,\n",
        "                    iterator= testIterator,\n",
        "                    lossFunction= crossEntropyLossFunction)\n",
        "\n",
        "# show test loss and calculate test perplexity score:\n",
        "print(f'| Test Loss: {testLoss:.3f} | Test PPL: {math.exp(testLoss):7.3f} |')"
      ],
      "execution_count": 48,
      "outputs": [
        {
          "output_type": "stream",
          "text": [
            "| Test Loss: 3.212 | Test PPL:  24.838 |\n"
          ],
          "name": "stdout"
        }
      ]
    },
    {
      "cell_type": "markdown",
      "metadata": {
        "lines_to_next_cell": 0,
        "title": "markdown",
        "id": "YiC25Ndyd9xL",
        "colab_type": "text"
      },
      "source": [
        "## Inference\n",
        "\n",
        "Now we can use our trained model to generate translations.\n",
        "\n",
        "Note: these translations will be poor compared to examples you see in paper as they use hidden dimension sizes of 1000 and train for 4 days! They have been cherry picked in order to show off what attention should look like on a sufficiently sized model.\n",
        "\n",
        "Our `translateSentence` will do the following:\n",
        "\n",
        "1. Ensure our model is in evaluation mode, which it should always be for inference\n",
        "2. Tokenize the source sentence if it has not been tokenized (is a string)\n",
        "3. Numericalize the source sentence\n",
        "4. Convert it to a tensor and add a batch dimension\n",
        "5. Get the length of the source sentence and convert to a tensor\n",
        "6. Feed the source sentence into the `Encoder`\n",
        "7. Create the `mask` for the source sentence\n",
        "8. Create a list to hold the output sentence, initialized with an `<sos>` token\n",
        "9. Create a tensor to hold the attention values\n",
        "10. While we have not hit a maximum length:\n",
        "\ta) Get the input tensor, which should be either `<sos>` or the last predicted token\n",
        "\tb) Feed the input, all `Encoder` outputs, hidden state and mask into the `Decoder`\n",
        "\tc) Store attention values\n",
        "\td) Get the predicted next token\n",
        "\te) Add prediction to current output sentence prediction\n",
        "\tf) Break if the prediction was an `<eos> `token\n",
        "11. Convert the output sentence from indexes to tokens\n",
        "12. Return the output sentence (with the `<sos>` token removed) and the attention values over the sequence"
      ]
    },
    {
      "cell_type": "code",
      "metadata": {
        "title": "codecell",
        "id": "eeJBq5H5d9xL",
        "colab_type": "code",
        "colab": {}
      },
      "source": [
        "def translateSentence(sentence, srcField: Field, trgField: Field,\n",
        "                      seqModel: Seq2Seq,\n",
        "                      device, maxLen: int = 50) -> (Tensor, Tensor):\n",
        "\n",
        "    # 1. Put model in evaluation mode as it should be before inference\n",
        "    seqModel.eval()\n",
        "\n",
        "\n",
        "\n",
        "    # 2. Tokenize source sentence\n",
        "    if isinstance(sentence, str):\n",
        "        nlp = spacy.load('de')\n",
        "        # make them lowercase\n",
        "        tokens = [token.text.lower() for token in nlp(sentence)]\n",
        "    else:\n",
        "        tokens = [token.lower() for token in sentence]\n",
        "\n",
        "    tokens = [srcField.init_token] + tokens + [srcField.eos_token]\n",
        "\n",
        "    # 3. Numericalize the source sentence\n",
        "    srcIndices = [srcField.vocab.stoi[token] for token in tokens]\n",
        "\n",
        "    # 4. Convert the numericalized source sentence into a tensor and add a batch\n",
        "    # dimension at dim = 1\n",
        "    srcSentenceTensor: Tensor = torch.LongTensor(srcIndices).unsqueeze(1).to(device)\n",
        "\n",
        "    # 5. Get the length of the source tensor and convert it into a tensor\n",
        "    srcLens: Tensor = torch.LongTensor([len(srcIndices)]).to(device)\n",
        "\n",
        "    # 6. Feed the source sentence into the encoder\n",
        "    #### NOTE: torch.no_grad() impacts the autograd engine and deactivate it.\n",
        "    # It will reduce memory usage and speed up computations but you won't be able\n",
        "    # to backprop (no need to backprop in an eval script).\n",
        "    with torch.no_grad():\n",
        "        encoderOutputs, hidden = seqModel.encoder(src = srcSentenceTensor,\n",
        "                                                  srcLens = srcLens)\n",
        "\n",
        "\n",
        "    # 7. Create mask for source sentence\n",
        "    mask: Tensor = seqModel.createMask(src = srcSentenceTensor)\n",
        "\n",
        "    # 8. Create a list to hold the output sentence, initialized with an `<sos>` token\n",
        "    trgIndices = [trgField.vocab.stoi[trgField.init_token]]\n",
        "\n",
        "    # 9. Create a tensor to hold the attention values\n",
        "    attentionValues: Tensor = torch.zeros(maxLen, 1, len(srcIndices)).to(device)\n",
        "\n",
        "\n",
        "    # 10. While we have not hit a maximum length\n",
        "    for i in range(maxLen):\n",
        "        #   a) Get the input tensor, which should be either `<sos>` or the last predicted token\n",
        "        trgInputTensor: Tensor = torch.LongTensor([trgIndices[-1]]).to(device)\n",
        "\n",
        "        #   b) Feed the input, all encoder outputs, hidden state and mask into the decoder\n",
        "        with torch.no_grad():\n",
        "            output, hidden, attention = seqModel.decoder(input = trgInputTensor,\n",
        "                                                         hidden=hidden,\n",
        "                                                         encoderOutputs= encoderOutputs,\n",
        "                                                         maskTensor = mask)\n",
        "        #   c) Store attention values\n",
        "        attentionValues[i] = attention\n",
        "\n",
        "        #   d) Get the predicted next token\n",
        "        nextPredToken = output.argmax(1).item()\n",
        "\n",
        "        #   e) Add prediction to current output sentence prediction\n",
        "        trgIndices.append(nextPredToken)\n",
        "\n",
        "        #   f) Break if the prediction was an `<eos>` token\n",
        "        if nextPredToken == trgField.vocab.stoi[trgField.eos_token]:\n",
        "            break\n",
        "\n",
        "            # 11. Convert the output sentence from indexes to tokens\n",
        "    trgTokens = [trgField.vocab.itos[i] for i in trgIndices]\n",
        "\n",
        "    # 12. Return the output sentence (with the `<sos>` token removed) and the\n",
        "    # attention values over the sequence\n",
        "    return trgTokens[1:], attentionValues[ : (len(trgTokens) - 1)]"
      ],
      "execution_count": 0,
      "outputs": []
    },
    {
      "cell_type": "markdown",
      "metadata": {
        "lines_to_next_cell": 0,
        "title": "markdown",
        "id": "VCdlzWZzd9xO",
        "colab_type": "text"
      },
      "source": [
        "Next, we'll make a function that displays the model's attention over the source sentence for each target token generated."
      ]
    },
    {
      "cell_type": "code",
      "metadata": {
        "title": "codecell",
        "id": "bq6GWgLGd9xO",
        "colab_type": "code",
        "colab": {}
      },
      "source": [
        "def displayAttention(sentence, translation, attention):\n",
        "    \"\"\"\n",
        "\n",
        "    :param sentence:\n",
        "    :param translation:\n",
        "    :param attention:\n",
        "    :return:\n",
        "    \"\"\"\n",
        "    \"\"\"\n",
        "    fig, ax = plt.subplots()\n",
        "\n",
        "    # convert attention to numpy array\n",
        "    attention = attention.squeeze(1).cpu().detach().numpy()\n",
        "\n",
        "    cax = ax.matshow(attention, cmap = 'bone')\n",
        "\n",
        "    ax.tick_params(labelsize=15)\n",
        "    ax.set_xticklabels([''] + ['<sos>'] + [t.lower() for t in sentence] + ['<eos>'],\n",
        "                       rotation=45)\n",
        "    ax.set_yticklabels([''] + translation)\n",
        "\n",
        "    ax.xaxis.set_major_locator(ticker.MultipleLocator(1))\n",
        "    ax.yaxis.set_major_locator(ticker.MultipleLocator(1))\n",
        "\n",
        "    cax\n",
        "    plt.show()\n",
        "    \"\"\"\n",
        "    fig = plt.figure(figsize=(10,10))\n",
        "    ax = fig.add_subplot(111)\n",
        "\n",
        "    attention = attention.squeeze(1).cpu().detach().numpy()\n",
        "\n",
        "    cax = ax.matshow(attention, cmap='bone')\n",
        "\n",
        "    ax.tick_params(labelsize=15)\n",
        "    ax.set_xticklabels(['']+['<sos>']+[t.lower() for t in sentence]+['<eos>'],\n",
        "                       rotation=45)\n",
        "    ax.set_yticklabels(['']+translation)\n",
        "\n",
        "    ax.xaxis.set_major_locator(ticker.MultipleLocator(1))\n",
        "    ax.yaxis.set_major_locator(ticker.MultipleLocator(1))\n",
        "\n",
        "    plt.show()\n",
        "    plt.close()"
      ],
      "execution_count": 0,
      "outputs": []
    },
    {
      "cell_type": "markdown",
      "metadata": {
        "title": "markdown",
        "id": "WSUzx35Yd9xR",
        "colab_type": "text"
      },
      "source": [
        "Now, we'll grab some translations from our dataset and see how well our model did. Note, we're going to cherry pick examples here so it gives us something interesting to look at, but feel free to change the `exampleIndex` value to look at different examples.\n",
        "\n",
        "First, we'll get a source and target from our dataset.\n",
        "\n",
        "### Train Data Example Translation"
      ]
    },
    {
      "cell_type": "code",
      "metadata": {
        "title": "codecell",
        "id": "ERhkAK7Vd9xR",
        "colab_type": "code",
        "colab": {
          "base_uri": "https://localhost:8080/",
          "height": 52
        },
        "outputId": "e581adb0-04b6-4f2f-e9ab-c9091b42986a"
      },
      "source": [
        "exampleIndex = 12\n",
        "\n",
        "src = vars(trainData.examples[exampleIndex])['src']\n",
        "trg = vars(trainData.examples[exampleIndex])['trg']\n",
        "\n",
        "print(f'src = {src}')\n",
        "print(f'trg = {trg}')"
      ],
      "execution_count": 52,
      "outputs": [
        {
          "output_type": "stream",
          "text": [
            "src = ['ein', 'schwarzer', 'hund', 'und', 'ein', 'gefleckter', 'hund', 'kämpfen', '.']\n",
            "trg = ['a', 'black', 'dog', 'and', 'a', 'spotted', 'dog', 'are', 'fighting']\n"
          ],
          "name": "stdout"
        }
      ]
    },
    {
      "cell_type": "markdown",
      "metadata": {
        "lines_to_next_cell": 0,
        "title": "markdown",
        "id": "68TGz4Hcd9xU",
        "colab_type": "text"
      },
      "source": [
        "Then we'll use our translateSentence function to get our predicted translation\n",
        "and attention. We show this\n",
        "graphically by having the source sentence on the x-axis and the predicted\n",
        "translation on the y-axis. The lighter the square at the intersection between\n",
        "two words, the more attention the model gave to that source word when translating that target word.\n",
        "\n",
        "Below is an example the model attempted to translate,\n",
        "it does not get it 100% correct but gets the gist of the sentence, i.e.\n",
        "it replaces \"are fighting\" with \"fighting\"."
      ]
    },
    {
      "cell_type": "code",
      "metadata": {
        "lines_to_next_cell": 2,
        "title": "codecell",
        "id": "UgQHOtpEd9xU",
        "colab_type": "code",
        "colab": {
          "base_uri": "https://localhost:8080/",
          "height": 632
        },
        "outputId": "6799d7f2-aeb2-4cff-922f-3afeb53f9c61"
      },
      "source": [
        "translation, attn = translateSentence(sentence=src,\n",
        "                                      srcField = SRC, trgField = TRG,\n",
        "                                      seqModel = seqToSeqMaskModel,\n",
        "                                      device=device)\n",
        "\n",
        "print(f'predicted trg = {translation}')\n",
        "\n",
        "\n",
        "displayAttention(sentence = src, translation = translation, attention = attn)"
      ],
      "execution_count": 53,
      "outputs": [
        {
          "output_type": "stream",
          "text": [
            "predicted trg = ['a', 'black', 'dog', 'and', 'spotted', 'spotted', 'dog', 'fighting', '.', '<eos>']\n"
          ],
          "name": "stdout"
        },
        {
          "output_type": "display_data",
          "data": {
            "image/png": "[encoded data removed]",
            "text/plain": [
              "<Figure size 720x720 with 1 Axes>"
            ]
          },
          "metadata": {
            "tags": []
          }
        }
      ]
    },
    {
      "cell_type": "markdown",
      "metadata": {
        "title": "markdown",
        "id": "HeufQILud9xX",
        "colab_type": "text"
      },
      "source": [
        "### Test Set Example Translation:\n",
        "\n",
        "Translations from the training set could simply be memorized by the model. So it's only fair we look at translations from the validation and testing set too.\n",
        "\n",
        "Starting with the validation set, let's get an example."
      ]
    },
    {
      "cell_type": "code",
      "metadata": {
        "title": "codecell",
        "id": "4BUlSu5Td9xX",
        "colab_type": "code",
        "colab": {
          "base_uri": "https://localhost:8080/",
          "height": 52
        },
        "outputId": "1f61992a-74c3-4862-b275-363cef6b57a8"
      },
      "source": [
        "exampleIndex = 24\n",
        "\n",
        "src = vars(validationData.examples[exampleIndex])['src']\n",
        "trg = vars(validationData.examples[exampleIndex])['trg']\n",
        "\n",
        "print(f'src = {src}')\n",
        "print(f'trg = {trg}')"
      ],
      "execution_count": 54,
      "outputs": [
        {
          "output_type": "stream",
          "text": [
            "src = ['bauarbeiter', 'stehen', 'auf', 'einer', 'maschine']\n",
            "trg = ['construction', 'workers', 'standing', 'on', 'top', 'of', 'a', 'piece', 'of', 'machinery', '.']\n"
          ],
          "name": "stdout"
        }
      ]
    },
    {
      "cell_type": "markdown",
      "metadata": {
        "title": "markdown",
        "id": "o3NeXw9Wd9xa",
        "colab_type": "text"
      },
      "source": [
        "Then let's generate our translation and view the attention.\n",
        "\n",
        "Here, the translation is slightly different and is a more literal translation\n",
        "of the original source sentence - \"stehen auf einer maschine\" literally translates to\n",
        "\"standing on a machine\"."
      ]
    },
    {
      "cell_type": "code",
      "metadata": {
        "lines_to_next_cell": 2,
        "title": "codecell",
        "id": "bQSQyOpnd9xb",
        "colab_type": "code",
        "colab": {
          "base_uri": "https://localhost:8080/",
          "height": 676
        },
        "outputId": "948c6bf3-9acb-4051-c369-714a1c85937f"
      },
      "source": [
        "translation, attn = translateSentence(sentence=src,\n",
        "                                      srcField = SRC, trgField = TRG,\n",
        "                                      seqModel = seqToSeqMaskModel,\n",
        "                                      device=device)\n",
        "\n",
        "print(f'predicted trg = {translation}')\n",
        "\n",
        "displayAttention(sentence = src, translation = translation, attention = attn)"
      ],
      "execution_count": 55,
      "outputs": [
        {
          "output_type": "stream",
          "text": [
            "predicted trg = ['construction', 'workers', 'standing', 'on', 'a', '.', '<eos>']\n"
          ],
          "name": "stdout"
        },
        {
          "output_type": "display_data",
          "data": {
            "image/png": "[encoded data removed]",
            "text/plain": [
              "<Figure size 720x720 with 1 Axes>"
            ]
          },
          "metadata": {
            "tags": []
          }
        }
      ]
    },
    {
      "cell_type": "markdown",
      "metadata": {
        "title": "markdown",
        "id": "hwzPfVFXd9xg",
        "colab_type": "text"
      },
      "source": [
        "### Test Set Example Translation:"
      ]
    },
    {
      "cell_type": "code",
      "metadata": {
        "title": "codecell",
        "id": "MJrS7HnJd9xh",
        "colab_type": "code",
        "colab": {
          "base_uri": "https://localhost:8080/",
          "height": 52
        },
        "outputId": "044b902d-b1fb-48c6-9c01-4be3abafa648"
      },
      "source": [
        "exampleIndex = 18\n",
        "\n",
        "src = vars(testData.examples[exampleIndex])['src']\n",
        "trg = vars(testData.examples[exampleIndex])['trg']\n",
        "\n",
        "print(f'src = {src}')\n",
        "print(f'trg = {trg}')"
      ],
      "execution_count": 56,
      "outputs": [
        {
          "output_type": "stream",
          "text": [
            "src = ['die', 'person', 'im', 'gestreiften', 'shirt', 'klettert', 'auf', 'einen', 'berg', '.']\n",
            "trg = ['the', 'person', 'in', 'the', 'striped', 'shirt', 'is', 'mountain', 'climbing', '.']\n"
          ],
          "name": "stdout"
        }
      ]
    },
    {
      "cell_type": "markdown",
      "metadata": {
        "title": "markdown",
        "id": "8X8Y3yrwd9xj",
        "colab_type": "text"
      },
      "source": [
        "Again, it produces a slightly different translation than target, a more literal\n",
        "version of the source sentence.\n",
        "\n",
        "We can see how the attention seems to \"dim\" over time with the exception of the\n",
        "rarer words such as \"striped\" and \"climbing\" - but by the time the model has reached\n",
        "the end of the sentence it doesn't seem to pay attention to \"berg\" at all to translate\n",
        "\"mountain\"."
      ]
    },
    {
      "cell_type": "code",
      "metadata": {
        "title": "codecell",
        "id": "xlX01jnLd9xk",
        "colab_type": "code",
        "colab": {
          "base_uri": "https://localhost:8080/",
          "height": 672
        },
        "outputId": "75d73b25-3d0b-4b99-c738-f3cc625858ae"
      },
      "source": [
        "translation, attn = translateSentence(sentence=src,\n",
        "                                      srcField = SRC, trgField = TRG,\n",
        "                                      seqModel = seqToSeqMaskModel,\n",
        "                                      device=device)\n",
        "\n",
        "print(f'predicted trg = {translation}')\n",
        "\n",
        "displayAttention(sentence = src, translation = translation, attention = attn)\n",
        "\n"
      ],
      "execution_count": 57,
      "outputs": [
        {
          "output_type": "stream",
          "text": [
            "predicted trg = ['the', 'person', 'in', 'the', 'striped', 'shirt', 'is', 'climbing', 'a', 'mountain', '.', '<eos>']\n"
          ],
          "name": "stdout"
        },
        {
          "output_type": "display_data",
          "data": {
            "image/png": "[encoded data removed]",
            "text/plain": [
              "<Figure size 720x720 with 1 Axes>"
            ]
          },
          "metadata": {
            "tags": []
          }
        }
      ]
    },
    {
      "cell_type": "markdown",
      "metadata": {
        "title": "markdown",
        "id": "L87ZQtX_d9xl",
        "colab_type": "text"
      },
      "source": [
        "## BLEU\n",
        "\n",
        "Previously we have only cared about the loss/perplexity of the model. However there metrics that are specifically designed for measuring the quality of a translation - the most popular is *BLEU*. Without going into too much detail, BLEU looks at the overlap in the predicted and actual target sequences in terms of their n-grams. It will give us a number between 0 and 1 for each sequence, where 1 means there is perfect overlap, i.e. a perfect translation, although is usually shown between 0 and 100. BLEU was designed for multiple candidate translations per source sequence, however in this dataset we only have one candidate per source.\n",
        "\n",
        "We define a `calculate_bleu` function which calculates the BLEU score over a provided TorchText dataset. This function creates a corpus of the actual and predicted translation for each source sentence and then calculates the BLEU score.\n",
        "\n",
        "**Note:** the BLEU functionality is currently in `bleu.py` but this metric will be officially incorporated into TorchText in the near future. We are using the exact same implementation, found [here](https://github.com/pytorch/text/blob/master/torchtext/data/metrics.py)."
      ]
    },
    {
      "cell_type": "code",
      "metadata": {
        "title": "codecell",
        "id": "fgs3bASAd9xm",
        "colab_type": "code",
        "colab": {
          "base_uri": "https://localhost:8080/",
          "height": 405
        },
        "outputId": "2d84f716-f888-4633-f699-19b0d87acffd"
      },
      "source": [
        "import bleu_temp\n",
        "\n",
        "def calculateBLEU(data, srcField: Field, trgField: Field,\n",
        "                  seqModel: Seq2Seq, device, maxLen = 50) -> float:\n",
        "\n",
        "    trgs = []\n",
        "    predTrgs = []\n",
        "\n",
        "    for datum in data:\n",
        "        src = vars(datum)['src']\n",
        "        trg = vars(datum)['trg']\n",
        "\n",
        "        predTrg, _ = translateSentence(sentence = src,\n",
        "                                       srcField = srcField,\n",
        "                                       trgField = trgField,\n",
        "                                       seqModel = seqModel,\n",
        "                                       device = device,\n",
        "                                       maxLen = maxLen)\n",
        "\n",
        "        # cut off <eos> token\n",
        "        predTrg = predTrg[ :-1]\n",
        "\n",
        "        trgs.append(trg)\n",
        "        predTrgs.append([predTrg])\n",
        "\n",
        "\n",
        "    return bleu_temp.bleuScore(candidateCorpus = trgs, referencesCorpus = predTrgs)\n",
        "\n",
        "theBleuScore = calculateBLEU(data = testData, srcField = SRC, trgField = TRG,\n",
        "                             seqModel = seqToSeqMaskModel,\n",
        "                             device = device)\n",
        "\n",
        "print(f'BLEU score = {theBleuScore*100:.2f}')"
      ],
      "execution_count": 66,
      "outputs": [
        {
          "output_type": "error",
          "ename": "NameError",
          "evalue": "ignored",
          "traceback": [
            "\u001b[0;31m---------------------------------------------------------------------------\u001b[0m",
            "\u001b[0;31mNameError\u001b[0m                                 Traceback (most recent call last)",
            "\u001b[0;32m<ipython-input-66-c5ae19323c02>\u001b[0m in \u001b[0;36m<module>\u001b[0;34m()\u001b[0m\n\u001b[1;32m     29\u001b[0m theBleuScore = calculateBLEU(data = testData, srcField = SRC, trgField = TRG,\n\u001b[1;32m     30\u001b[0m                              \u001b[0mseqModel\u001b[0m \u001b[0;34m=\u001b[0m \u001b[0mseqToSeqMaskModel\u001b[0m\u001b[0;34m,\u001b[0m\u001b[0;34m\u001b[0m\u001b[0;34m\u001b[0m\u001b[0m\n\u001b[0;32m---> 31\u001b[0;31m                              device = device)\n\u001b[0m\u001b[1;32m     32\u001b[0m \u001b[0;34m\u001b[0m\u001b[0m\n\u001b[1;32m     33\u001b[0m \u001b[0mprint\u001b[0m\u001b[0;34m(\u001b[0m\u001b[0;34mf'BLEU score = {theBleuScore*100:.2f}'\u001b[0m\u001b[0;34m)\u001b[0m\u001b[0;34m\u001b[0m\u001b[0;34m\u001b[0m\u001b[0m\n",
            "\u001b[0;32m<ipython-input-66-c5ae19323c02>\u001b[0m in \u001b[0;36mcalculateBLEU\u001b[0;34m(data, srcField, trgField, seqModel, device, maxLen)\u001b[0m\n\u001b[1;32m     25\u001b[0m \u001b[0;34m\u001b[0m\u001b[0m\n\u001b[1;32m     26\u001b[0m \u001b[0;34m\u001b[0m\u001b[0m\n\u001b[0;32m---> 27\u001b[0;31m     \u001b[0;32mreturn\u001b[0m \u001b[0mbleu_temp\u001b[0m\u001b[0;34m.\u001b[0m\u001b[0mbleuScore\u001b[0m\u001b[0;34m(\u001b[0m\u001b[0mcandidateCorpus\u001b[0m \u001b[0;34m=\u001b[0m \u001b[0mtrgs\u001b[0m\u001b[0;34m,\u001b[0m \u001b[0mreferencesCorpus\u001b[0m \u001b[0;34m=\u001b[0m \u001b[0mpredTrgs\u001b[0m\u001b[0;34m)\u001b[0m\u001b[0;34m\u001b[0m\u001b[0;34m\u001b[0m\u001b[0m\n\u001b[0m\u001b[1;32m     28\u001b[0m \u001b[0;34m\u001b[0m\u001b[0m\n\u001b[1;32m     29\u001b[0m theBleuScore = calculateBLEU(data = testData, srcField = SRC, trgField = TRG,\n",
            "\u001b[0;32m/content/gdrive/My Drive/ScholarshipProject/PythonNeuralNetNLP/src/NLPstudy/Seq2SeqModel/bleu_temp.py\u001b[0m in \u001b[0;36mbleuScore\u001b[0;34m(candidateCorpus, referencesCorpus, MAX_N, weights)\u001b[0m\n\u001b[1;32m     87\u001b[0m         \u001b[0mrefsLen\u001b[0m \u001b[0;34m+=\u001b[0m \u001b[0mmin\u001b[0m\u001b[0;34m(\u001b[0m\u001b[0mrefsLenList\u001b[0m\u001b[0;34m,\u001b[0m \u001b[0mkey\u001b[0m\u001b[0;34m=\u001b[0m\u001b[0;32mlambda\u001b[0m \u001b[0mx\u001b[0m\u001b[0;34m:\u001b[0m \u001b[0mabs\u001b[0m\u001b[0;34m(\u001b[0m\u001b[0mlen\u001b[0m\u001b[0;34m(\u001b[0m\u001b[0mcandidate\u001b[0m\u001b[0;34m)\u001b[0m \u001b[0;34m-\u001b[0m \u001b[0mx\u001b[0m\u001b[0;34m)\u001b[0m\u001b[0;34m)\u001b[0m\u001b[0;34m\u001b[0m\u001b[0;34m\u001b[0m\u001b[0m\n\u001b[1;32m     88\u001b[0m \u001b[0;34m\u001b[0m\u001b[0m\n\u001b[0;32m---> 89\u001b[0;31m \u001b[0;34m\u001b[0m\u001b[0m\n\u001b[0m\u001b[1;32m     90\u001b[0m         \u001b[0mreferenceCounters\u001b[0m\u001b[0;34m:\u001b[0m \u001b[0mCounter\u001b[0m \u001b[0;34m=\u001b[0m \u001b[0mcomputeNGramCounter\u001b[0m\u001b[0;34m(\u001b[0m\u001b[0mrefs\u001b[0m\u001b[0;34m[\u001b[0m\u001b[0;36m0\u001b[0m\u001b[0;34m]\u001b[0m\u001b[0;34m,\u001b[0m \u001b[0mMAX_N\u001b[0m\u001b[0;34m)\u001b[0m\u001b[0;34m\u001b[0m\u001b[0;34m\u001b[0m\u001b[0m\n\u001b[1;32m     91\u001b[0m \u001b[0;34m\u001b[0m\u001b[0m\n",
            "\u001b[0;32m/content/gdrive/My Drive/ScholarshipProject/PythonNeuralNetNLP/src/NLPstudy/Seq2SeqModel/bleu_temp.py\u001b[0m in \u001b[0;36mcomputeNGramCounter\u001b[0;34m(tokens, MAX_N)\u001b[0m\n\u001b[1;32m     34\u001b[0m     \u001b[0;32massert\u001b[0m \u001b[0mMAX_N\u001b[0m \u001b[0;34m>\u001b[0m \u001b[0;36m0\u001b[0m\u001b[0;34m\u001b[0m\u001b[0;34m\u001b[0m\u001b[0m\n\u001b[1;32m     35\u001b[0m \u001b[0;34m\u001b[0m\u001b[0m\n\u001b[0;32m---> 36\u001b[0;31m     ngramsCounter: Counter = Counter(tuple(x.split(' '))\n\u001b[0m\u001b[1;32m     37\u001b[0m                                          for x in ngi(token_list=tokens, ngrams=MAX_N))\n\u001b[1;32m     38\u001b[0m \u001b[0;34m\u001b[0m\u001b[0m\n",
            "\u001b[0;31mNameError\u001b[0m: name 'ngrams_iterator' is not defined"
          ]
        }
      ]
    },
    {
      "cell_type": "markdown",
      "metadata": {
        "title": "markdown",
        "id": "zrxbWHLad9xo",
        "colab_type": "text"
      },
      "source": [
        "We get a BLEU of almost 29. If we compare it to the paper that the attention model is attempting to replicate, they achieve a BLEU score of 26.75. This is similar to our score, however they are using a completely different dataset and their model size is much larger - 1000 hidden dimensions which takes 4 days to train! - so we cannot really compare against that either.\n",
        "\n",
        "This number isn't really interpretable, we can't really say much about it. The most useful part of a BLEU score is that it can be used to compare different models, where the one with the **higher** BLEU score is \"better\".\n",
        "\n",
        "In the next tutorials we will using convolution neural networks instead of recurrent neural networks to construct sequence-to-sequence models."
      ]
    },
    {
      "cell_type": "code",
      "metadata": {
        "id": "5qnjGxRmSJKy",
        "colab_type": "code",
        "colab": {
          "base_uri": "https://localhost:8080/",
          "height": 298
        },
        "outputId": "4aae786c-cc26-45af-f99b-67861702dcce"
      },
      "source": [
        "!git status"
      ],
      "execution_count": 67,
      "outputs": [
        {
          "output_type": "stream",
          "text": [
            "On branch master\n",
            "Your branch is up to date with 'origin/master'.\n",
            "\n",
            "Changes not staged for commit:\n",
            "  (use \"git add <file>...\" to update what will be committed)\n",
            "  (use \"git checkout -- <file>...\" to discard changes in working directory)\n",
            "\n",
            "\t\u001b[31mmodified:   src/NLPstudy/Seq2SeqModel/4_PackedPaddedSeqs.ipynb\u001b[m\n",
            "\t\u001b[31mmodified:   src/NLPstudy/Seq2SeqModel/bleu.py\u001b[m\n",
            "\n",
            "Untracked files:\n",
            "  (use \"git add <file>...\" to include in what will be committed)\n",
            "\n",
            "\t\u001b[31msrc/NLPstudy/Seq2SeqModel/bleu_temp.py\u001b[m\n",
            "\n",
            "no changes added to commit (use \"git add\" and/or \"git commit -a\")\n"
          ],
          "name": "stdout"
        }
      ]
    }
  ]
}