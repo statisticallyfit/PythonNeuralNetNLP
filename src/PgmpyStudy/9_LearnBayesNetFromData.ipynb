{
 "cells": [
  {
   "cell_type": "markdown",
   "metadata": {
    "lines_to_next_cell": 2,
    "title": "markdown"
   },
   "source": [
    "[Source for tutorial](https://github.com/pgmpy/pgmpy_notebook/blob/master/notebooks/9.%20Learning%20Bayesian%20Networks%20from%20Data.ipynb)\n",
    "\n",
    "# Learning Bayesian Networks from Data\n",
    "Previous notebooks showed how Bayesian networks encode a probability distribution over a set of variables and how\n",
    "they can be used to predict variable states or to generate new samples from the joint distribution. This section\n",
    "will be about obtaining a Bayesian network given a set of sample data. Learning the network can be split into two\n",
    "problems:\n",
    "* **Parameter Learning:** Given a set of data samples and a DAG that captures dependencies between the variables,\n",
    "estimate the conditional probability distributions of the individual variables.\n",
    "* **Structure Learning:** Given a set of data samples, estimate a DAG that captures the dependencies between the\n",
    "variables.\n",
    "\n",
    "Currently, `pgmpy` supports:\n",
    "* parameter learning for *discrete* nodes using algorithms\n",
    "  * Maximum Likelihood Estimation, and\n",
    "  * Bayesian Estimation\n",
    "* structure learning for *discrete* and *fully observed* networks using the algorithms:\n",
    "  * Score-based structure estimation (BIC / BDEU / K2 score)\n",
    "  * Constraint-based structure estimation (PC)\n",
    "  * Hybrid structure estimation (MMHC)"
   ]
  },
  {
   "cell_type": "markdown",
   "metadata": {
    "lines_to_next_cell": 0,
    "title": "markdown"
   },
   "source": [
    "Doing path-setting:"
   ]
  },
  {
   "cell_type": "code",
   "execution_count": 1,
   "metadata": {
    "lines_to_next_cell": 2,
    "title": "codecell"
   },
   "outputs": [
    {
     "name": "stdout",
     "output_type": "stream",
     "text": [
      "curPath =  /development/projects/statisticallyfit/github/learningmathstat/PythonNeuralNetNLP/src/PgmpyStudy/ \n",
      "\n",
      "dataPath =  /development/projects/statisticallyfit/github/learningmathstat/PythonNeuralNetNLP/src/PgmpyStudy/data/ \n",
      "\n",
      "imagePath =  /development/projects/statisticallyfit/github/learningmathstat/PythonNeuralNetNLP/src/PgmpyStudy/images/ \n",
      "\n"
     ]
    },
    {
     "data": {
      "text/plain": [
       "['/development/projects/statisticallyfit/github/learningmathstat/PythonNeuralNetNLP/src/PgmpyStudy',\n",
       " '/development/bin/python/conda3_ana/envs/pybayesian_env/lib/python37.zip',\n",
       " '/development/bin/python/conda3_ana/envs/pybayesian_env/lib/python3.7',\n",
       " '/development/bin/python/conda3_ana/envs/pybayesian_env/lib/python3.7/lib-dynload',\n",
       " '',\n",
       " '/development/bin/python/conda3_ana/envs/pybayesian_env/lib/python3.7/site-packages',\n",
       " '/development/bin/python/conda3_ana/envs/pybayesian_env/lib/python3.7/site-packages/IPython/extensions',\n",
       " '/home/statisticallyfit/.ipython',\n",
       " '/development/projects/statisticallyfit/github/learningmathstat/PythonNeuralNetNLP/src/utils/',\n",
       " '/development/projects/statisticallyfit/github/learningmathstat/PythonNeuralNetNLP/src/PgmpyStudy/']"
      ]
     },
     "execution_count": 1,
     "metadata": {},
     "output_type": "execute_result"
    }
   ],
   "source": [
    "import os\n",
    "import sys\n",
    "from typing import *\n",
    "from typing import Union, List, Any\n",
    "\n",
    "import itertools\n",
    "\n",
    "os.getcwd()\n",
    "# Setting the baseline:\n",
    "os.chdir('/development/projects/statisticallyfit/github/learningmathstat/PythonNeuralNetNLP')\n",
    "\n",
    "\n",
    "curPath: str = os.getcwd() + \"/src/PgmpyStudy/\"\n",
    "\n",
    "dataPath: str = curPath + \"data/\"\n",
    "\n",
    "imagePath: str = curPath + 'images/'\n",
    "\n",
    "print(\"curPath = \", curPath, \"\\n\")\n",
    "print(\"dataPath = \", dataPath, \"\\n\")\n",
    "print('imagePath = ', imagePath, \"\\n\")\n",
    "\n",
    "\n",
    "# Making files in utils folder visible here: to import my local print functions for nn.Module objects\n",
    "sys.path.append(os.getcwd() + \"/src/utils/\")\n",
    "# For being able to import files within PgmpyStudy folder\n",
    "sys.path.append(curPath)\n",
    "\n",
    "sys.path"
   ]
  },
  {
   "cell_type": "markdown",
   "metadata": {
    "lines_to_next_cell": 0,
    "title": "markdown"
   },
   "source": [
    "Science imports:"
   ]
  },
  {
   "cell_type": "code",
   "execution_count": 2,
   "metadata": {
    "lines_to_next_cell": 0,
    "title": "codecell"
   },
   "outputs": [],
   "source": [
    "from pgmpy.models import BayesianModel\n",
    "from pgmpy.inference import VariableElimination\n",
    "from pgmpy.factors.discrete import TabularCPD\n",
    "from pgmpy.factors.discrete import JointProbabilityDistribution\n",
    "from pgmpy.factors.discrete.DiscreteFactor import DiscreteFactor\n",
    "from pgmpy.independencies import Independencies\n",
    "from pgmpy.independencies.Independencies import IndependenceAssertion\n",
    "\n",
    "\n",
    "from operator import mul\n",
    "from functools import reduce\n",
    "\n",
    "\n",
    "from src.utils.GraphvizUtil import *\n",
    "from src.utils.NetworkUtil import *\n",
    "\n",
    "\n",
    "import pandas as pd\n",
    "from pandas import DataFrame"
   ]
  },
  {
   "cell_type": "markdown",
   "metadata": {
    "lines_to_next_cell": 0,
    "title": "markdown"
   },
   "source": [
    "## Parameter Learning\n",
    "Supposed we have the following data:"
   ]
  },
  {
   "cell_type": "code",
   "execution_count": 3,
   "metadata": {
    "title": "codecell"
   },
   "outputs": [
    {
     "data": {
      "text/html": [
       "<div>\n",
       "<style scoped>\n",
       "    .dataframe tbody tr th:only-of-type {\n",
       "        vertical-align: middle;\n",
       "    }\n",
       "\n",
       "    .dataframe tbody tr th {\n",
       "        vertical-align: top;\n",
       "    }\n",
       "\n",
       "    .dataframe thead th {\n",
       "        text-align: right;\n",
       "    }\n",
       "</style>\n",
       "<table border=\"1\" class=\"dataframe\">\n",
       "  <thead>\n",
       "    <tr style=\"text-align: right;\">\n",
       "      <th></th>\n",
       "      <th>fruit</th>\n",
       "      <th>tasty</th>\n",
       "      <th>size</th>\n",
       "    </tr>\n",
       "  </thead>\n",
       "  <tbody>\n",
       "    <tr>\n",
       "      <th>0</th>\n",
       "      <td>banana</td>\n",
       "      <td>yes</td>\n",
       "      <td>large</td>\n",
       "    </tr>\n",
       "    <tr>\n",
       "      <th>1</th>\n",
       "      <td>apple</td>\n",
       "      <td>no</td>\n",
       "      <td>large</td>\n",
       "    </tr>\n",
       "    <tr>\n",
       "      <th>2</th>\n",
       "      <td>banana</td>\n",
       "      <td>yes</td>\n",
       "      <td>large</td>\n",
       "    </tr>\n",
       "    <tr>\n",
       "      <th>3</th>\n",
       "      <td>apple</td>\n",
       "      <td>yes</td>\n",
       "      <td>small</td>\n",
       "    </tr>\n",
       "    <tr>\n",
       "      <th>4</th>\n",
       "      <td>banana</td>\n",
       "      <td>yes</td>\n",
       "      <td>large</td>\n",
       "    </tr>\n",
       "    <tr>\n",
       "      <th>5</th>\n",
       "      <td>apple</td>\n",
       "      <td>yes</td>\n",
       "      <td>large</td>\n",
       "    </tr>\n",
       "    <tr>\n",
       "      <th>6</th>\n",
       "      <td>banana</td>\n",
       "      <td>yes</td>\n",
       "      <td>large</td>\n",
       "    </tr>\n",
       "    <tr>\n",
       "      <th>7</th>\n",
       "      <td>apple</td>\n",
       "      <td>yes</td>\n",
       "      <td>small</td>\n",
       "    </tr>\n",
       "    <tr>\n",
       "      <th>8</th>\n",
       "      <td>apple</td>\n",
       "      <td>yes</td>\n",
       "      <td>large</td>\n",
       "    </tr>\n",
       "    <tr>\n",
       "      <th>9</th>\n",
       "      <td>apple</td>\n",
       "      <td>yes</td>\n",
       "      <td>large</td>\n",
       "    </tr>\n",
       "    <tr>\n",
       "      <th>10</th>\n",
       "      <td>banana</td>\n",
       "      <td>yes</td>\n",
       "      <td>large</td>\n",
       "    </tr>\n",
       "    <tr>\n",
       "      <th>11</th>\n",
       "      <td>banana</td>\n",
       "      <td>no</td>\n",
       "      <td>large</td>\n",
       "    </tr>\n",
       "    <tr>\n",
       "      <th>12</th>\n",
       "      <td>apple</td>\n",
       "      <td>no</td>\n",
       "      <td>small</td>\n",
       "    </tr>\n",
       "    <tr>\n",
       "      <th>13</th>\n",
       "      <td>banana</td>\n",
       "      <td>no</td>\n",
       "      <td>small</td>\n",
       "    </tr>\n",
       "  </tbody>\n",
       "</table>\n",
       "</div>"
      ],
      "text/plain": [
       "     fruit tasty   size\n",
       "0   banana   yes  large\n",
       "1    apple    no  large\n",
       "2   banana   yes  large\n",
       "3    apple   yes  small\n",
       "4   banana   yes  large\n",
       "5    apple   yes  large\n",
       "6   banana   yes  large\n",
       "7    apple   yes  small\n",
       "8    apple   yes  large\n",
       "9    apple   yes  large\n",
       "10  banana   yes  large\n",
       "11  banana    no  large\n",
       "12   apple    no  small\n",
       "13  banana    no  small"
      ]
     },
     "execution_count": 3,
     "metadata": {},
     "output_type": "execute_result"
    }
   ],
   "source": [
    "fruitData: DataFrame = DataFrame(data = {'fruit': [\"banana\", \"apple\", \"banana\", \"apple\", \"banana\",\"apple\", \"banana\",\n",
    "                                              \"apple\", \"apple\", \"apple\", \"banana\", \"banana\", \"apple\", \"banana\",],\n",
    "                                    'tasty': [\"yes\", \"no\", \"yes\", \"yes\", \"yes\", \"yes\", \"yes\",\n",
    "                                              \"yes\", \"yes\", \"yes\", \"yes\", \"no\", \"no\", \"no\"],\n",
    "                                    'size': [\"large\", \"large\", \"large\", \"small\", \"large\", \"large\", \"large\",\n",
    "                                             \"small\", \"large\", \"large\", \"large\", \"large\", \"small\", \"small\"]})\n",
    "\n",
    "fruitData"
   ]
  },
  {
   "cell_type": "code",
   "execution_count": 4,
   "metadata": {
    "lines_to_next_cell": 2,
    "title": "codecell"
   },
   "outputs": [
    {
     "data": {
      "image/svg+xml": [
       "<?xml version=\"1.0\" encoding=\"UTF-8\" standalone=\"no\"?>\n",
       "<!DOCTYPE svg PUBLIC \"-//W3C//DTD SVG 1.1//EN\"\n",
       " \"http://www.w3.org/Graphics/SVG/1.1/DTD/svg11.dtd\">\n",
       "<!-- Generated by graphviz version 2.38.0 (20140413.2041)\n",
       " -->\n",
       "<!-- Title: G Pages: 1 -->\n",
       "<svg width=\"134pt\" height=\"116pt\"\n",
       " viewBox=\"0.00 0.00 134.00 116.00\" xmlns=\"http://www.w3.org/2000/svg\" xmlns:xlink=\"http://www.w3.org/1999/xlink\">\n",
       "<g id=\"graph0\" class=\"graph\" transform=\"scale(1 1) rotate(0) translate(4 112)\">\n",
       "<title>G</title>\n",
       "<polygon fill=\"white\" stroke=\"none\" points=\"-4,4 -4,-112 130,-112 130,4 -4,4\"/>\n",
       "<!-- fruit -->\n",
       "<g id=\"node1\" class=\"node\"><title>fruit</title>\n",
       "<defs>\n",
       "<linearGradient id=\"l_0\" gradientUnits=\"userSpaceOnUse\" x1=\"27\" y1=\"-72\" x2=\"27\" y2=\"-108\" >\n",
       "<stop offset=\"0\" style=\"stop-color:#ceccff;stop-opacity:1.;\"/>\n",
       "<stop offset=\"1\" style=\"stop-color:white;stop-opacity:1.;\"/>\n",
       "</linearGradient>\n",
       "</defs>\n",
       "<ellipse fill=\"url(#l_0)\" stroke=\"#ff638d\" cx=\"27\" cy=\"-90\" rx=\"27\" ry=\"18\"/>\n",
       "<text text-anchor=\"middle\" x=\"27\" y=\"-86.9\" font-family=\"Acme-Regular.ttf\" font-size=\"12.00\">fruit</text>\n",
       "</g>\n",
       "<!-- tasty -->\n",
       "<g id=\"node2\" class=\"node\"><title>tasty</title>\n",
       "<defs>\n",
       "<linearGradient id=\"l_1\" gradientUnits=\"userSpaceOnUse\" x1=\"63\" y1=\"-1.77636e-14\" x2=\"63\" y2=\"-36\" >\n",
       "<stop offset=\"0\" style=\"stop-color:#ceccff;stop-opacity:1.;\"/>\n",
       "<stop offset=\"1\" style=\"stop-color:white;stop-opacity:1.;\"/>\n",
       "</linearGradient>\n",
       "</defs>\n",
       "<ellipse fill=\"url(#l_1)\" stroke=\"#ff638d\" cx=\"63\" cy=\"-18\" rx=\"28.1352\" ry=\"18\"/>\n",
       "<text text-anchor=\"middle\" x=\"63\" y=\"-14.9\" font-family=\"Acme-Regular.ttf\" font-size=\"12.00\">tasty</text>\n",
       "</g>\n",
       "<!-- fruit&#45;&gt;tasty -->\n",
       "<g id=\"edge1\" class=\"edge\"><title>fruit&#45;&gt;tasty</title>\n",
       "<path fill=\"none\" stroke=\"#ff638d\" d=\"M35.3496,-72.7646C39.6492,-64.4043 44.9918,-54.0159 49.8312,-44.6059\"/>\n",
       "<polygon fill=\"#ff638d\" stroke=\"#ff638d\" points=\"52.9847,-46.127 54.4457,-35.6334 46.7596,-42.9256 52.9847,-46.127\"/>\n",
       "</g>\n",
       "<!-- size -->\n",
       "<g id=\"node3\" class=\"node\"><title>size</title>\n",
       "<defs>\n",
       "<linearGradient id=\"l_2\" gradientUnits=\"userSpaceOnUse\" x1=\"99\" y1=\"-72\" x2=\"99\" y2=\"-108\" >\n",
       "<stop offset=\"0\" style=\"stop-color:#ceccff;stop-opacity:1.;\"/>\n",
       "<stop offset=\"1\" style=\"stop-color:white;stop-opacity:1.;\"/>\n",
       "</linearGradient>\n",
       "</defs>\n",
       "<ellipse fill=\"url(#l_2)\" stroke=\"#ff638d\" cx=\"99\" cy=\"-90\" rx=\"27\" ry=\"18\"/>\n",
       "<text text-anchor=\"middle\" x=\"99\" y=\"-86.9\" font-family=\"Acme-Regular.ttf\" font-size=\"12.00\">size</text>\n",
       "</g>\n",
       "<!-- size&#45;&gt;tasty -->\n",
       "<g id=\"edge2\" class=\"edge\"><title>size&#45;&gt;tasty</title>\n",
       "<path fill=\"none\" stroke=\"#ff638d\" d=\"M90.6504,-72.7646C86.3508,-64.4043 81.0082,-54.0159 76.1688,-44.6059\"/>\n",
       "<polygon fill=\"#ff638d\" stroke=\"#ff638d\" points=\"79.2404,-42.9256 71.5543,-35.6334 73.0153,-46.127 79.2404,-42.9256\"/>\n",
       "</g>\n",
       "</g>\n",
       "</svg>\n"
      ],
      "text/plain": [
       "<graphviz.dot.Digraph at 0x7f5a52fb27d0>"
      ]
     },
     "execution_count": 4,
     "metadata": {},
     "output_type": "execute_result"
    }
   ],
   "source": [
    "fruitModel = BayesianModel([('fruit', 'tasty'), ('size', 'tasty')])\n",
    "\n",
    "pgmpyToGraph(fruitModel)"
   ]
  },
  {
   "cell_type": "markdown",
   "metadata": {
    "lines_to_next_cell": 0,
    "title": "markdown"
   },
   "source": [
    "### 1/ State Counts\n",
    "To make sense of the given data we can count how often each state of the variable occurs. If the variable is dependent on parents, the counts are done conditionally on the parents' states, so separately for each parent configuration."
   ]
  },
  {
   "cell_type": "code",
   "execution_count": 5,
   "metadata": {
    "title": "codecell"
   },
   "outputs": [
    {
     "name": "stdout",
     "output_type": "stream",
     "text": [
      "        fruit\n",
      "apple       7\n",
      "banana      7\n",
      "\n",
      " fruit apple       banana      \n",
      "size  large small  large small\n",
      "tasty                         \n",
      "no      1.0   1.0    1.0   1.0\n",
      "yes     3.0   2.0    5.0   0.0\n"
     ]
    }
   ],
   "source": [
    "from pgmpy.estimators import ParameterEstimator\n",
    "\n",
    "pe: ParameterEstimator = ParameterEstimator(model = fruitModel, data = fruitData)\n",
    "\n",
    "print(pe.state_counts(variable = 'fruit')) # example of unconditional state counts\n",
    "print('\\n', pe.state_counts('tasty')) # example of conditional count of fruit and size"
   ]
  },
  {
   "cell_type": "markdown",
   "metadata": {
    "title": "markdown"
   },
   "source": [
    "Can see that as many apples as bananas were observed and that $5$ large bananas were tasty while the only small one was not."
   ]
  },
  {
   "cell_type": "markdown",
   "metadata": {
    "lines_to_next_cell": 0,
    "title": "markdown"
   },
   "source": [
    "### 2/ Maximum Likelihood Estimation\n",
    "A natural estimate for the CPDs is to use the *relative frequencies* (probabilities version of the state count table above). For instance we observed $7$ apples among a total of $14$ fruits, so we might guess that about half the fruits are apples.\n",
    "\n",
    "This approach is **Maximum Likelihood Estimation (MLE)**: this fills the CPDs in such a way that $P(\\text{data} \\; | \\; \\text{model})$ is maximumal, and this is achieved using the *relative frequencies*. The `mle.estimate_cpd(variable)` function computes the state counts and divides each cell by the (conditional) sample size."
   ]
  },
  {
   "cell_type": "code",
   "execution_count": 6,
   "metadata": {
    "title": "codecell"
   },
   "outputs": [
    {
     "name": "stdout",
     "output_type": "stream",
     "text": [
      "+---------------+-----+\n",
      "| fruit(apple)  | 0.5 |\n",
      "+---------------+-----+\n",
      "| fruit(banana) | 0.5 |\n",
      "+---------------+-----+\n",
      "+-------------+----------+\n",
      "| size(large) | 0.714286 |\n",
      "+-------------+----------+\n",
      "| size(small) | 0.285714 |\n",
      "+-------------+----------+\n",
      "+------------+--------------+--------------------+---------------------+---------------+\n",
      "| fruit      | fruit(apple) | fruit(apple)       | fruit(banana)       | fruit(banana) |\n",
      "+------------+--------------+--------------------+---------------------+---------------+\n",
      "| size       | size(large)  | size(small)        | size(large)         | size(small)   |\n",
      "+------------+--------------+--------------------+---------------------+---------------+\n",
      "| tasty(no)  | 0.25         | 0.3333333333333333 | 0.16666666666666666 | 1.0           |\n",
      "+------------+--------------+--------------------+---------------------+---------------+\n",
      "| tasty(yes) | 0.75         | 0.6666666666666666 | 0.8333333333333334  | 0.0           |\n",
      "+------------+--------------+--------------------+---------------------+---------------+\n"
     ]
    }
   ],
   "source": [
    "\n",
    "from pgmpy.estimators import MaximumLikelihoodEstimator\n",
    "\n",
    "mle: MaximumLikelihoodEstimator = MaximumLikelihoodEstimator(model = fruitModel, data = fruitData)\n",
    "\n",
    "assert mle.state_names == {'fruit': ['apple', 'banana'], 'tasty': ['no', 'yes'], 'size': ['large', 'small']}\n",
    "\n",
    "\n",
    "estCPD_fruit: TabularCPD = mle.estimate_cpd('fruit') # unconditional\n",
    "print(estCPD_fruit)\n",
    "estCPD_size: TabularCPD = mle.estimate_cpd(\"size\")\n",
    "print(estCPD_size)\n",
    "\n",
    "estCPD_tasty: TabularCPD = mle.estimate_cpd('tasty') # conditional\n",
    "print(estCPD_tasty)"
   ]
  },
  {
   "cell_type": "markdown",
   "metadata": {
    "lines_to_next_cell": 0,
    "title": "markdown"
   },
   "source": [
    "The `mle.get_parameters()` method returns a list of CPDs for all variables of the model.\n",
    "\n",
    "The `fit()` method of `BayesianModel` provides more convenient access to parameter estimators:"
   ]
  },
  {
   "cell_type": "code",
   "execution_count": 7,
   "metadata": {
    "title": "codecell"
   },
   "outputs": [
    {
     "name": "stdout",
     "output_type": "stream",
     "text": [
      "+---------------+-----+\n",
      "| fruit(apple)  | 0.5 |\n",
      "+---------------+-----+\n",
      "| fruit(banana) | 0.5 |\n",
      "+---------------+-----+\n",
      "+-------------+----------+\n",
      "| size(large) | 0.714286 |\n",
      "+-------------+----------+\n",
      "| size(small) | 0.285714 |\n",
      "+-------------+----------+\n",
      "+------------+--------------+--------------------+---------------------+---------------+\n",
      "| fruit      | fruit(apple) | fruit(apple)       | fruit(banana)       | fruit(banana) |\n",
      "+------------+--------------+--------------------+---------------------+---------------+\n",
      "| size       | size(large)  | size(small)        | size(large)         | size(small)   |\n",
      "+------------+--------------+--------------------+---------------------+---------------+\n",
      "| tasty(no)  | 0.25         | 0.3333333333333333 | 0.16666666666666666 | 1.0           |\n",
      "+------------+--------------+--------------------+---------------------+---------------+\n",
      "| tasty(yes) | 0.75         | 0.6666666666666666 | 0.8333333333333334  | 0.0           |\n",
      "+------------+--------------+--------------------+---------------------+---------------+\n"
     ]
    }
   ],
   "source": [
    "estCPDs: List[TabularCPD] = mle.get_parameters()\n",
    "\n",
    "assert (estCPDs[0] == estCPD_fruit and\n",
    "        estCPDs[1] == estCPD_size and\n",
    "        estCPDs[2] == estCPD_tasty), 'Check: both methods of estimating CPDs gives the same results'\n",
    "\n",
    "for cpd in estCPDs:\n",
    "    print(cpd)"
   ]
  },
  {
   "cell_type": "markdown",
   "metadata": {
    "lines_to_next_cell": 0,
    "title": "markdown"
   },
   "source": [
    "#### $\\color{red}{\\text{Problem with MLE Estimation: }}$\n",
    "The MLE estimator has the problem of *overfitting* to the data. In the above CPD, the probability of a large banance being tasty is estimated at $0.833$ because $5$ out of $6$ observed large bananas were tasty. Ok, but note that the probability of a small banana being tasty is estimated at $0.0$ because we **observed ONLY ONE small banana** and it **happened not to be tasty**.\n",
    "\n",
    "But that should hardly make us certain that small bananas aren't tasty!\n",
    "\n",
    "We simply **do not have enough observations to rely on the observed frequencies.**\n",
    "\n",
    "$\\color{orange}{\\text{WARNING RULE: }}$ If the observed data is not $\\color{Turquoise}{\\text{representative for the underlying distribution}}$, ML estimations will be EXTREMELY far off.\n",
    "\n",
    "When estimating parameters for Bayesian networks, lack of data is a frequent problem. Even if the total sample size is very large, that fact that state counts are done conditionally for each parent node's configuration causes immense fragmentation. If a variable has $3$ parents that can each take $10$ states, then state counts will be done separately for $10^3 = 1000$ parent configurations. That makes MLE very fragile and unstable for learning Bayesian Network parameters. A way to mitigate MLE's overfitting is *Bayesian Parameter Estimation*.\n",
    "\n",
    "### 3/ Bayesian Parameter Estimation\n",
    "The Bayesian Parameter Estimator starts with already existing prior CPDs that express our beliefs about the variables **before the data was observed**. These priors are then updated, using the state counts from observed data.\n",
    "\n",
    "The priors are consisting of *psuedo state counts*, that are added to the actual counts before normalization. Unless one wants to encode specific beliefs about the distributions of the variables, one commonly chooses uniform priors, that deem all states equiprobable.\n",
    "\n",
    "A very simple prior is the `K2` prior which simply adds $1$ to the count of every single state. A more sensible choice of prior is the `BDeu` (Bayesian Dirichlet equivalent uniform prior). For `BDeu` we need to specify an *equivalent sample size* $N$ and then the pseudo-counts are equivalent of having observed $N$ uniform samples of each variable (and each parent configuration). In pgmpy:"
   ]
  },
  {
   "cell_type": "code",
   "execution_count": 8,
   "metadata": {
    "lines_to_next_cell": 0,
    "title": "codecell"
   },
   "outputs": [
    {
     "name": "stdout",
     "output_type": "stream",
     "text": [
      "New Bayes CPD: \n",
      " +------------+---------------------+--------------------+--------------------+---------------------+\n",
      "| fruit      | fruit(apple)        | fruit(apple)       | fruit(banana)      | fruit(banana)       |\n",
      "+------------+---------------------+--------------------+--------------------+---------------------+\n",
      "| size       | size(large)         | size(small)        | size(large)        | size(small)         |\n",
      "+------------+---------------------+--------------------+--------------------+---------------------+\n",
      "| tasty(no)  | 0.34615384615384615 | 0.4090909090909091 | 0.2647058823529412 | 0.6428571428571429  |\n",
      "+------------+---------------------+--------------------+--------------------+---------------------+\n",
      "| tasty(yes) | 0.6538461538461539  | 0.5909090909090909 | 0.7352941176470589 | 0.35714285714285715 |\n",
      "+------------+---------------------+--------------------+--------------------+---------------------+\n"
     ]
    }
   ],
   "source": [
    "from pgmpy.estimators import BayesianEstimator\n",
    "\n",
    "est: BayesianEstimator = BayesianEstimator(model = fruitModel, data = fruitData)\n",
    "\n",
    "bayesEstCPD_fruit: TabularCPD = est.estimate_cpd(node = 'fruit',\n",
    "                                                 prior_type = 'BDeu',\n",
    "                                                 equivalent_sample_size = 10)\n",
    "bayesEstCPD_size: TabularCPD = est.estimate_cpd(node = 'size',\n",
    "                                              prior_type = 'BDeu',\n",
    "                                              equivalent_sample_size = 10)\n",
    "bayesEstCPD_tasty: TabularCPD = est.estimate_cpd(node = 'tasty',\n",
    "                                                 prior_type = 'BDeu',\n",
    "                                                 equivalent_sample_size = 10)\n",
    "\n",
    "print(\"New Bayes CPD: \\n\", bayesEstCPD_tasty)"
   ]
  },
  {
   "cell_type": "code",
   "execution_count": 9,
   "metadata": {
    "lines_to_next_cell": 0,
    "title": "codecell"
   },
   "outputs": [
    {
     "name": "stdout",
     "output_type": "stream",
     "text": [
      "Old MLE CPD: \n"
     ]
    },
    {
     "name": "stdout",
     "output_type": "stream",
     "text": [
      " +------------+--------------+--------------------+---------------------+---------------+\n",
      "| fruit      | fruit(apple) | fruit(apple)       | fruit(banana)       | fruit(banana) |\n",
      "+------------+--------------+--------------------+---------------------+---------------+\n",
      "| size       | size(large)  | size(small)        | size(large)         | size(small)   |\n",
      "+------------+--------------+--------------------+---------------------+---------------+\n",
      "| tasty(no)  | 0.25         | 0.3333333333333333 | 0.16666666666666666 | 1.0           |\n",
      "+------------+--------------+--------------------+---------------------+---------------+\n",
      "| tasty(yes) | 0.75         | 0.6666666666666666 | 0.8333333333333334  | 0.0           |\n",
      "+------------+--------------+--------------------+---------------------+---------------+\n"
     ]
    }
   ],
   "source": [
    "print(\"Old MLE CPD: \\n\", estCPD_tasty)"
   ]
  },
  {
   "cell_type": "markdown",
   "metadata": {
    "lines_to_next_cell": 0,
    "title": "markdown"
   },
   "source": [
    "The estimated CPD values are more conservative. In particular, the estimate for a small banana being not tasty is now around $0.64$ instead of $1.0$. Setting `euiqvalent_sample_size` = $10$ means that for each parent configuration, we add the equivalent of $10$ uniform samples (meaning $+5$ small bananas are seen as tasty and $+5$ are not tasty)\n",
    "\n",
    "#### Fitting Model CPDs with `BayesianEstimator`:\n",
    "We can use the `fit()` method to estimate the CPDs the bayesian way, using `BayesianEstimator`:"
   ]
  },
  {
   "cell_type": "code",
   "execution_count": 10,
   "metadata": {
    "title": "codecell"
   },
   "outputs": [
    {
     "name": "stdout",
     "output_type": "stream",
     "text": [
      "+---------------+-----+\n",
      "| fruit(apple)  | 0.5 |\n",
      "+---------------+-----+\n",
      "| fruit(banana) | 0.5 |\n",
      "+---------------+-----+\n",
      "+------------+---------------------+--------------------+--------------------+---------------------+\n",
      "| fruit      | fruit(apple)        | fruit(apple)       | fruit(banana)      | fruit(banana)       |\n",
      "+------------+---------------------+--------------------+--------------------+---------------------+\n",
      "| size       | size(large)         | size(small)        | size(large)        | size(small)         |\n",
      "+------------+---------------------+--------------------+--------------------+---------------------+\n",
      "| tasty(no)  | 0.34615384615384615 | 0.4090909090909091 | 0.2647058823529412 | 0.6428571428571429  |\n",
      "+------------+---------------------+--------------------+--------------------+---------------------+\n",
      "| tasty(yes) | 0.6538461538461539  | 0.5909090909090909 | 0.7352941176470589 | 0.35714285714285715 |\n",
      "+------------+---------------------+--------------------+--------------------+---------------------+\n",
      "+-------------+-------+\n",
      "| size(large) | 0.625 |\n",
      "+-------------+-------+\n",
      "| size(small) | 0.375 |\n",
      "+-------------+-------+\n"
     ]
    }
   ],
   "source": [
    "\n",
    "import numpy as np\n",
    "\n",
    "\n",
    "assert fruitModel.get_cpds() == [], \"Check the cpds are empty beforehand\"\n",
    "\n",
    "fruitModel.fit(fruitData, estimator = BayesianEstimator,\n",
    "               prior_type = 'BDeu',\n",
    "               equivalent_sample_size= 10) # default equivalent_sample_size = 5\n",
    "\n",
    "bayesCPDs: List[TabularCPD] = fruitModel.get_cpds()\n",
    "assert (bayesEstCPD_fruit == bayesCPDs[0] and\n",
    "        bayesEstCPD_size == bayesCPDs[2] and\n",
    "        bayesEstCPD_tasty == bayesCPDs[1])\n",
    "\n",
    "for cpd in bayesCPDs:\n",
    "    print(cpd)"
   ]
  },
  {
   "cell_type": "markdown",
   "metadata": {
    "lines_to_next_cell": 0,
    "title": "markdown"
   },
   "source": [
    "The `fruitModel` with estimated CPDs using `BayesianEstimator`:"
   ]
  },
  {
   "cell_type": "code",
   "execution_count": 11,
   "metadata": {
    "lines_to_next_cell": 0,
    "title": "codecell"
   },
   "outputs": [
    {
     "data": {
      "image/svg+xml": [
       "<?xml version=\"1.0\" encoding=\"UTF-8\" standalone=\"no\"?>\n",
       "<!DOCTYPE svg PUBLIC \"-//W3C//DTD SVG 1.1//EN\"\n",
       " \"http://www.w3.org/Graphics/SVG/1.1/DTD/svg11.dtd\">\n",
       "<!-- Generated by graphviz version 2.38.0 (20140413.2041)\n",
       " -->\n",
       "<!-- Title: G Pages: 1 -->\n",
       "<svg width=\"476pt\" height=\"258pt\"\n",
       " viewBox=\"0.00 0.00 476.00 258.00\" xmlns=\"http://www.w3.org/2000/svg\" xmlns:xlink=\"http://www.w3.org/1999/xlink\">\n",
       "<g id=\"graph0\" class=\"graph\" transform=\"scale(1 1) rotate(0) translate(4 254)\">\n",
       "<title>G</title>\n",
       "<polygon fill=\"white\" stroke=\"none\" points=\"-4,4 -4,-254 472,-254 472,4 -4,4\"/>\n",
       "<!-- fruit -->\n",
       "<g id=\"node1\" class=\"node\"><title>fruit</title>\n",
       "<defs>\n",
       "<linearGradient id=\"l_0\" gradientUnits=\"userSpaceOnUse\" x1=\"404.5\" y1=\"-100\" x2=\"404.5\" y2=\"-136\" >\n",
       "<stop offset=\"0\" style=\"stop-color:#ceccff;stop-opacity:1.;\"/>\n",
       "<stop offset=\"1\" style=\"stop-color:white;stop-opacity:1.;\"/>\n",
       "</linearGradient>\n",
       "</defs>\n",
       "<ellipse fill=\"url(#l_0)\" stroke=\"#ff638d\" cx=\"404.5\" cy=\"-118\" rx=\"27\" ry=\"18\"/>\n",
       "<text text-anchor=\"middle\" x=\"404.5\" y=\"-114.9\" font-family=\"Acme-Regular.ttf\" font-size=\"12.00\">fruit</text>\n",
       "</g>\n",
       "<!-- tasty -->\n",
       "<g id=\"node2\" class=\"node\"><title>tasty</title>\n",
       "<defs>\n",
       "<linearGradient id=\"l_1\" gradientUnits=\"userSpaceOnUse\" x1=\"231.5\" y1=\"-1.77636e-14\" x2=\"231.5\" y2=\"-36\" >\n",
       "<stop offset=\"0\" style=\"stop-color:#ceccff;stop-opacity:1.;\"/>\n",
       "<stop offset=\"1\" style=\"stop-color:white;stop-opacity:1.;\"/>\n",
       "</linearGradient>\n",
       "</defs>\n",
       "<ellipse fill=\"url(#l_1)\" stroke=\"#ff638d\" cx=\"231.5\" cy=\"-18\" rx=\"28.1352\" ry=\"18\"/>\n",
       "<text text-anchor=\"middle\" x=\"231.5\" y=\"-14.9\" font-family=\"Acme-Regular.ttf\" font-size=\"12.00\">tasty</text>\n",
       "</g>\n",
       "<!-- fruit&#45;&gt;tasty -->\n",
       "<g id=\"edge1\" class=\"edge\"><title>fruit&#45;&gt;tasty</title>\n",
       "<path fill=\"none\" stroke=\"#ff638d\" d=\"M394.84,-101.05C388.389,-91.5282 379.151,-79.8081 368.5,-72 338.051,-49.6777 297.002,-35.4485 267.796,-27.4173\"/>\n",
       "<polygon fill=\"#ff638d\" stroke=\"#ff638d\" points=\"268.559,-23.9987 257.997,-24.8319 266.773,-30.7671 268.559,-23.9987\"/>\n",
       "</g>\n",
       "<!-- size -->\n",
       "<g id=\"node3\" class=\"node\"><title>size</title>\n",
       "<defs>\n",
       "<linearGradient id=\"l_2\" gradientUnits=\"userSpaceOnUse\" x1=\"58.5\" y1=\"-100\" x2=\"58.5\" y2=\"-136\" >\n",
       "<stop offset=\"0\" style=\"stop-color:#ceccff;stop-opacity:1.;\"/>\n",
       "<stop offset=\"1\" style=\"stop-color:white;stop-opacity:1.;\"/>\n",
       "</linearGradient>\n",
       "</defs>\n",
       "<ellipse fill=\"url(#l_2)\" stroke=\"#ff638d\" cx=\"58.5\" cy=\"-118\" rx=\"27\" ry=\"18\"/>\n",
       "<text text-anchor=\"middle\" x=\"58.5\" y=\"-114.9\" font-family=\"Acme-Regular.ttf\" font-size=\"12.00\">size</text>\n",
       "</g>\n",
       "<!-- size&#45;&gt;tasty -->\n",
       "<g id=\"edge2\" class=\"edge\"><title>size&#45;&gt;tasty</title>\n",
       "<path fill=\"none\" stroke=\"#ff638d\" d=\"M68.1598,-101.05C74.6106,-91.5282 83.849,-79.8081 94.5,-72 124.949,-49.6777 165.998,-35.4485 195.204,-27.4173\"/>\n",
       "<polygon fill=\"#ff638d\" stroke=\"#ff638d\" points=\"196.227,-30.7671 205.003,-24.8319 194.441,-23.9987 196.227,-30.7671\"/>\n",
       "</g>\n",
       "<!-- cpd_fruit -->\n",
       "<g id=\"node4\" class=\"node\"><title>cpd_fruit</title>\n",
       "<polygon fill=\"white\" stroke=\"none\" points=\"468,-250 341,-250 341,-200 468,-200 468,-250\"/>\n",
       "<polygon fill=\"none\" stroke=\"gray\" points=\"349.5,-232 349.5,-246 460.5,-246 460.5,-232 349.5,-232\"/>\n",
       "<text text-anchor=\"start\" x=\"397\" y=\"-237.4\" font-family=\"Acme-Regular.ttf\" font-size=\"7.00\">fruit</text>\n",
       "<polygon fill=\"none\" stroke=\"gray\" points=\"349.5,-218 349.5,-232 401.5,-232 401.5,-218 349.5,-218\"/>\n",
       "<text text-anchor=\"start\" x=\"352.5\" y=\"-223.4\" font-family=\"Acme-Regular.ttf\" font-size=\"7.00\">fruit = apple</text>\n",
       "<polygon fill=\"none\" stroke=\"gray\" points=\"401.5,-218 401.5,-232 460.5,-232 460.5,-218 401.5,-218\"/>\n",
       "<text text-anchor=\"start\" x=\"404.5\" y=\"-223.4\" font-family=\"Acme-Regular.ttf\" font-size=\"7.00\">fruit = banana</text>\n",
       "<polygon fill=\"none\" stroke=\"gray\" points=\"349.5,-204 349.5,-218 401.5,-218 401.5,-204 349.5,-204\"/>\n",
       "<text text-anchor=\"start\" x=\"369.5\" y=\"-209.4\" font-family=\"Acme-Regular.ttf\" font-size=\"7.00\">0.5</text>\n",
       "<polygon fill=\"none\" stroke=\"gray\" points=\"401.5,-204 401.5,-218 460.5,-218 460.5,-204 401.5,-204\"/>\n",
       "<text text-anchor=\"start\" x=\"425\" y=\"-209.4\" font-family=\"Acme-Regular.ttf\" font-size=\"7.00\">0.5</text>\n",
       "</g>\n",
       "<!-- cpd_fruit&#45;&gt;fruit -->\n",
       "<!-- cpd_tasty -->\n",
       "<g id=\"node5\" class=\"node\"><title>cpd_tasty</title>\n",
       "<polygon fill=\"white\" stroke=\"none\" points=\"359.5,-164 103.5,-164 103.5,-72 359.5,-72 359.5,-164\"/>\n",
       "<polygon fill=\"none\" stroke=\"gray\" points=\"111.5,-146 111.5,-160 351.5,-160 351.5,-146 111.5,-146\"/>\n",
       "<text text-anchor=\"start\" x=\"222\" y=\"-151.4\" font-family=\"Acme-Regular.ttf\" font-size=\"7.00\">tasty</text>\n",
       "<polygon fill=\"none\" stroke=\"gray\" points=\"111.5,-132 111.5,-146 145.5,-146 145.5,-132 111.5,-132\"/>\n",
       "<text text-anchor=\"start\" x=\"120.5\" y=\"-137.4\" font-family=\"Acme-Regular.ttf\" font-size=\"7.00\">fruit</text>\n",
       "<polygon fill=\"none\" stroke=\"gray\" points=\"145.5,-132 145.5,-146 171.5,-146 171.5,-132 145.5,-132\"/>\n",
       "<text text-anchor=\"start\" x=\"151\" y=\"-137.4\" font-family=\"Acme-Regular.ttf\" font-size=\"7.00\">size</text>\n",
       "<polygon fill=\"none\" stroke=\"gray\" points=\"171.5,-132 171.5,-146 261.5,-146 261.5,-132 171.5,-132\"/>\n",
       "<text text-anchor=\"start\" x=\"197.5\" y=\"-137.4\" font-family=\"Acme-Regular.ttf\" font-size=\"7.00\">tasty = no</text>\n",
       "<polygon fill=\"none\" stroke=\"gray\" points=\"261.5,-132 261.5,-146 351.5,-146 351.5,-132 261.5,-132\"/>\n",
       "<text text-anchor=\"start\" x=\"286\" y=\"-137.4\" font-family=\"Acme-Regular.ttf\" font-size=\"7.00\">tasty = yes</text>\n",
       "<polygon fill=\"none\" stroke=\"gray\" points=\"111.5,-118 111.5,-132 145.5,-132 145.5,-118 111.5,-118\"/>\n",
       "<text text-anchor=\"start\" x=\"118\" y=\"-123.4\" font-family=\"Acme-Regular.ttf\" font-size=\"7.00\">apple</text>\n",
       "<polygon fill=\"none\" stroke=\"gray\" points=\"145.5,-118 145.5,-132 171.5,-132 171.5,-118 145.5,-118\"/>\n",
       "<text text-anchor=\"start\" x=\"149\" y=\"-123.4\" font-family=\"Acme-Regular.ttf\" font-size=\"7.00\">large</text>\n",
       "<polygon fill=\"none\" stroke=\"gray\" points=\"171.5,-118 171.5,-132 261.5,-132 261.5,-118 171.5,-118\"/>\n",
       "<text text-anchor=\"start\" x=\"174.5\" y=\"-123.4\" font-family=\"Acme-Regular.ttf\" font-size=\"7.00\">0.34615384615384615</text>\n",
       "<polygon fill=\"none\" stroke=\"gray\" points=\"261.5,-118 261.5,-132 351.5,-132 351.5,-118 261.5,-118\"/>\n",
       "<text text-anchor=\"start\" x=\"267\" y=\"-123.4\" font-family=\"Acme-Regular.ttf\" font-size=\"7.00\">0.6538461538461539</text>\n",
       "<polygon fill=\"none\" stroke=\"gray\" points=\"111.5,-104 111.5,-118 145.5,-118 145.5,-104 111.5,-104\"/>\n",
       "<text text-anchor=\"start\" x=\"118\" y=\"-109.4\" font-family=\"Acme-Regular.ttf\" font-size=\"7.00\">apple</text>\n",
       "<polygon fill=\"none\" stroke=\"gray\" points=\"145.5,-104 145.5,-118 171.5,-118 171.5,-104 145.5,-104\"/>\n",
       "<text text-anchor=\"start\" x=\"148.5\" y=\"-109.4\" font-family=\"Acme-Regular.ttf\" font-size=\"7.00\">small</text>\n",
       "<polygon fill=\"none\" stroke=\"gray\" points=\"171.5,-104 171.5,-118 261.5,-118 261.5,-104 171.5,-104\"/>\n",
       "<text text-anchor=\"start\" x=\"177\" y=\"-109.4\" font-family=\"Acme-Regular.ttf\" font-size=\"7.00\">0.4090909090909091</text>\n",
       "<polygon fill=\"none\" stroke=\"gray\" points=\"261.5,-104 261.5,-118 351.5,-118 351.5,-104 261.5,-104\"/>\n",
       "<text text-anchor=\"start\" x=\"267\" y=\"-109.4\" font-family=\"Acme-Regular.ttf\" font-size=\"7.00\">0.5909090909090909</text>\n",
       "<polygon fill=\"none\" stroke=\"gray\" points=\"111.5,-90 111.5,-104 145.5,-104 145.5,-90 111.5,-90\"/>\n",
       "<text text-anchor=\"start\" x=\"114.5\" y=\"-95.4\" font-family=\"Acme-Regular.ttf\" font-size=\"7.00\">banana</text>\n",
       "<polygon fill=\"none\" stroke=\"gray\" points=\"145.5,-90 145.5,-104 171.5,-104 171.5,-90 145.5,-90\"/>\n",
       "<text text-anchor=\"start\" x=\"149\" y=\"-95.4\" font-family=\"Acme-Regular.ttf\" font-size=\"7.00\">large</text>\n",
       "<polygon fill=\"none\" stroke=\"gray\" points=\"171.5,-90 171.5,-104 261.5,-104 261.5,-90 171.5,-90\"/>\n",
       "<text text-anchor=\"start\" x=\"177\" y=\"-95.4\" font-family=\"Acme-Regular.ttf\" font-size=\"7.00\">0.2647058823529412</text>\n",
       "<polygon fill=\"none\" stroke=\"gray\" points=\"261.5,-90 261.5,-104 351.5,-104 351.5,-90 261.5,-90\"/>\n",
       "<text text-anchor=\"start\" x=\"267\" y=\"-95.4\" font-family=\"Acme-Regular.ttf\" font-size=\"7.00\">0.7352941176470589</text>\n",
       "<polygon fill=\"none\" stroke=\"gray\" points=\"111.5,-76 111.5,-90 145.5,-90 145.5,-76 111.5,-76\"/>\n",
       "<text text-anchor=\"start\" x=\"114.5\" y=\"-81.4\" font-family=\"Acme-Regular.ttf\" font-size=\"7.00\">banana</text>\n",
       "<polygon fill=\"none\" stroke=\"gray\" points=\"145.5,-76 145.5,-90 171.5,-90 171.5,-76 145.5,-76\"/>\n",
       "<text text-anchor=\"start\" x=\"148.5\" y=\"-81.4\" font-family=\"Acme-Regular.ttf\" font-size=\"7.00\">small</text>\n",
       "<polygon fill=\"none\" stroke=\"gray\" points=\"171.5,-76 171.5,-90 261.5,-90 261.5,-76 171.5,-76\"/>\n",
       "<text text-anchor=\"start\" x=\"177\" y=\"-81.4\" font-family=\"Acme-Regular.ttf\" font-size=\"7.00\">0.6428571428571429</text>\n",
       "<polygon fill=\"none\" stroke=\"gray\" points=\"261.5,-76 261.5,-90 351.5,-90 351.5,-76 261.5,-76\"/>\n",
       "<text text-anchor=\"start\" x=\"264.5\" y=\"-81.4\" font-family=\"Acme-Regular.ttf\" font-size=\"7.00\">0.35714285714285715</text>\n",
       "</g>\n",
       "<!-- cpd_tasty&#45;&gt;tasty -->\n",
       "<!-- cpd_size -->\n",
       "<g id=\"node6\" class=\"node\"><title>cpd_size</title>\n",
       "<polygon fill=\"white\" stroke=\"none\" points=\"117,-250 -7.10543e-15,-250 -7.10543e-15,-200 117,-200 117,-250\"/>\n",
       "<polygon fill=\"none\" stroke=\"gray\" points=\"8.5,-232 8.5,-246 109.5,-246 109.5,-232 8.5,-232\"/>\n",
       "<text text-anchor=\"start\" x=\"51.5\" y=\"-237.4\" font-family=\"Acme-Regular.ttf\" font-size=\"7.00\">size</text>\n",
       "<polygon fill=\"none\" stroke=\"gray\" points=\"8.5,-218 8.5,-232 58.5,-232 58.5,-218 8.5,-218\"/>\n",
       "<text text-anchor=\"start\" x=\"11.5\" y=\"-223.4\" font-family=\"Acme-Regular.ttf\" font-size=\"7.00\">size = large</text>\n",
       "<polygon fill=\"none\" stroke=\"gray\" points=\"58.5,-218 58.5,-232 109.5,-232 109.5,-218 58.5,-218\"/>\n",
       "<text text-anchor=\"start\" x=\"61.5\" y=\"-223.4\" font-family=\"Acme-Regular.ttf\" font-size=\"7.00\">size = small</text>\n",
       "<polygon fill=\"none\" stroke=\"gray\" points=\"8.5,-204 8.5,-218 58.5,-218 58.5,-204 8.5,-204\"/>\n",
       "<text text-anchor=\"start\" x=\"23\" y=\"-209.4\" font-family=\"Acme-Regular.ttf\" font-size=\"7.00\">0.625</text>\n",
       "<polygon fill=\"none\" stroke=\"gray\" points=\"58.5,-204 58.5,-218 109.5,-218 109.5,-204 58.5,-204\"/>\n",
       "<text text-anchor=\"start\" x=\"73.5\" y=\"-209.4\" font-family=\"Acme-Regular.ttf\" font-size=\"7.00\">0.375</text>\n",
       "</g>\n",
       "<!-- cpd_size&#45;&gt;size -->\n",
       "</g>\n",
       "</svg>\n"
      ],
      "text/plain": [
       "<graphviz.dot.Digraph at 0x7f5a50e73c90>"
      ]
     },
     "execution_count": 11,
     "metadata": {},
     "output_type": "execute_result"
    }
   ],
   "source": [
    "pgmpyToGraphCPD(fruitModel)"
   ]
  },
  {
   "cell_type": "markdown",
   "metadata": {
    "lines_to_next_cell": 0,
    "title": "markdown"
   },
   "source": [
    "Another example using `fit()` with `BayesianEstimator`:"
   ]
  },
  {
   "cell_type": "code",
   "execution_count": 12,
   "metadata": {
    "lines_to_next_cell": 0,
    "title": "codecell"
   },
   "outputs": [
    {
     "name": "stdout",
     "output_type": "stream",
     "text": [
      "+------+----------+\n",
      "| A(0) | 0.497602 |\n",
      "+------+----------+\n",
      "| A(1) | 0.502398 |\n",
      "+------+----------+\n",
      "+------+--------------------+-------------------+\n",
      "| A    | A(0)               | A(1)              |\n",
      "+------+--------------------+-------------------+\n",
      "| B(0) | 0.5277052800642441 | 0.495227679459137 |\n",
      "+------+--------------------+-------------------+\n",
      "| B(1) | 0.4722947199357559 | 0.504772320540863 |\n",
      "+------+--------------------+-------------------+\n",
      "+------+---------------------+---------------------+---------------------+---------------------+\n",
      "| A    | A(0)                | A(0)                | A(1)                | A(1)                |\n",
      "+------+---------------------+---------------------+---------------------+---------------------+\n",
      "| D    | D(0)                | D(1)                | D(0)                | D(1)                |\n",
      "+------+---------------------+---------------------+---------------------+---------------------+\n",
      "| C(0) | 0.48365557105840146 | 0.516582406471183   | 0.5260745569362396  | 0.49145465138861916 |\n",
      "+------+---------------------+---------------------+---------------------+---------------------+\n",
      "| C(1) | 0.5163444289415986  | 0.48341759352881697 | 0.47392544306376044 | 0.5085453486113809  |\n",
      "+------+---------------------+---------------------+---------------------+---------------------+\n",
      "+------+--------------------+---------------------+\n",
      "| B    | B(0)               | B(1)                |\n",
      "+------+--------------------+---------------------+\n",
      "| D(0) | 0.5033209611252197 | 0.48793702719280313 |\n",
      "+------+--------------------+---------------------+\n",
      "| D(1) | 0.4966790388747802 | 0.5120629728071969  |\n",
      "+------+--------------------+---------------------+\n"
     ]
    }
   ],
   "source": [
    "# Generate data:\n",
    "data: DataFrame = pd.DataFrame(data = np.random.randint(low = 0, high = 2, size = (5000, 4)),\n",
    "                               columns = ['A', 'B', 'C', 'D'])\n",
    "\n",
    "model: BayesianModel = BayesianModel([('A', 'B'), ('A', 'C'), ('D', 'C'), ('B', 'D')])\n",
    "\n",
    "model.fit(data, estimator = BayesianEstimator, prior_type = 'BDeu') #leaving equivalent_sample_size = 5 , as in default\n",
    "\n",
    "for cpd in model.get_cpds():\n",
    "    print(cpd)"
   ]
  },
  {
   "cell_type": "code",
   "execution_count": 13,
   "metadata": {
    "title": "codecell"
   },
   "outputs": [
    {
     "data": {
      "image/svg+xml": [
       "<?xml version=\"1.0\" encoding=\"UTF-8\" standalone=\"no\"?>\n",
       "<!DOCTYPE svg PUBLIC \"-//W3C//DTD SVG 1.1//EN\"\n",
       " \"http://www.w3.org/Graphics/SVG/1.1/DTD/svg11.dtd\">\n",
       "<!-- Generated by graphviz version 2.38.0 (20140413.2041)\n",
       " -->\n",
       "<!-- Title: G Pages: 1 -->\n",
       "<svg width=\"613pt\" height=\"430pt\"\n",
       " viewBox=\"0.00 0.00 612.68 430.00\" xmlns=\"http://www.w3.org/2000/svg\" xmlns:xlink=\"http://www.w3.org/1999/xlink\">\n",
       "<g id=\"graph0\" class=\"graph\" transform=\"scale(1 1) rotate(0) translate(4 426)\">\n",
       "<title>G</title>\n",
       "<polygon fill=\"white\" stroke=\"none\" points=\"-4,4 -4,-426 608.681,-426 608.681,4 -4,4\"/>\n",
       "<!-- A -->\n",
       "<g id=\"node1\" class=\"node\"><title>A</title>\n",
       "<defs>\n",
       "<linearGradient id=\"l_0\" gradientUnits=\"userSpaceOnUse\" x1=\"177.681\" y1=\"-300\" x2=\"177.681\" y2=\"-336\" >\n",
       "<stop offset=\"0\" style=\"stop-color:#ceccff;stop-opacity:1.;\"/>\n",
       "<stop offset=\"1\" style=\"stop-color:white;stop-opacity:1.;\"/>\n",
       "</linearGradient>\n",
       "</defs>\n",
       "<ellipse fill=\"url(#l_0)\" stroke=\"#ff638d\" cx=\"177.681\" cy=\"-318\" rx=\"27\" ry=\"18\"/>\n",
       "<text text-anchor=\"middle\" x=\"177.681\" y=\"-314.9\" font-family=\"Acme-Regular.ttf\" font-size=\"12.00\">A</text>\n",
       "</g>\n",
       "<!-- B -->\n",
       "<g id=\"node2\" class=\"node\"><title>B</title>\n",
       "<defs>\n",
       "<linearGradient id=\"l_1\" gradientUnits=\"userSpaceOnUse\" x1=\"359.681\" y1=\"-228\" x2=\"359.681\" y2=\"-264\" >\n",
       "<stop offset=\"0\" style=\"stop-color:#ceccff;stop-opacity:1.;\"/>\n",
       "<stop offset=\"1\" style=\"stop-color:white;stop-opacity:1.;\"/>\n",
       "</linearGradient>\n",
       "</defs>\n",
       "<ellipse fill=\"url(#l_1)\" stroke=\"#ff638d\" cx=\"359.681\" cy=\"-246\" rx=\"27\" ry=\"18\"/>\n",
       "<text text-anchor=\"middle\" x=\"359.681\" y=\"-242.9\" font-family=\"Acme-Regular.ttf\" font-size=\"12.00\">B</text>\n",
       "</g>\n",
       "<!-- A&#45;&gt;B -->\n",
       "<g id=\"edge1\" class=\"edge\"><title>A&#45;&gt;B</title>\n",
       "<path fill=\"none\" stroke=\"#ff638d\" d=\"M200.732,-308.134C232.732,-295.827 290.776,-273.502 327.168,-259.505\"/>\n",
       "<polygon fill=\"#ff638d\" stroke=\"#ff638d\" points=\"328.741,-262.65 336.818,-255.794 326.228,-256.117 328.741,-262.65\"/>\n",
       "</g>\n",
       "<!-- C -->\n",
       "<g id=\"node3\" class=\"node\"><title>C</title>\n",
       "<defs>\n",
       "<linearGradient id=\"l_2\" gradientUnits=\"userSpaceOnUse\" x1=\"133.681\" y1=\"-14\" x2=\"133.681\" y2=\"-50\" >\n",
       "<stop offset=\"0\" style=\"stop-color:#ceccff;stop-opacity:1.;\"/>\n",
       "<stop offset=\"1\" style=\"stop-color:white;stop-opacity:1.;\"/>\n",
       "</linearGradient>\n",
       "</defs>\n",
       "<ellipse fill=\"url(#l_2)\" stroke=\"#ff638d\" cx=\"133.681\" cy=\"-32\" rx=\"27\" ry=\"18\"/>\n",
       "<text text-anchor=\"middle\" x=\"133.681\" y=\"-28.9\" font-family=\"Acme-Regular.ttf\" font-size=\"12.00\">C</text>\n",
       "</g>\n",
       "<!-- A&#45;&gt;C -->\n",
       "<g id=\"edge2\" class=\"edge\"><title>A&#45;&gt;C</title>\n",
       "<path fill=\"none\" stroke=\"#ff638d\" d=\"M155.269,-307.821C117.952,-291.146 44.2638,-251.966 14.6812,-192 -3.40879,-155.33 -5.95438,-135.3 14.6812,-100 32.6377,-69.283 70.4353,-51.5552 98.6411,-42.1434\"/>\n",
       "<polygon fill=\"#ff638d\" stroke=\"#ff638d\" points=\"100.046,-45.3711 108.544,-39.0435 97.9553,-38.6907 100.046,-45.3711\"/>\n",
       "</g>\n",
       "<!-- D -->\n",
       "<g id=\"node4\" class=\"node\"><title>D</title>\n",
       "<defs>\n",
       "<linearGradient id=\"l_3\" gradientUnits=\"userSpaceOnUse\" x1=\"503.681\" y1=\"-128\" x2=\"503.681\" y2=\"-164\" >\n",
       "<stop offset=\"0\" style=\"stop-color:#ceccff;stop-opacity:1.;\"/>\n",
       "<stop offset=\"1\" style=\"stop-color:white;stop-opacity:1.;\"/>\n",
       "</linearGradient>\n",
       "</defs>\n",
       "<ellipse fill=\"url(#l_3)\" stroke=\"#ff638d\" cx=\"503.681\" cy=\"-146\" rx=\"27\" ry=\"18\"/>\n",
       "<text text-anchor=\"middle\" x=\"503.681\" y=\"-142.9\" font-family=\"Acme-Regular.ttf\" font-size=\"12.00\">D</text>\n",
       "</g>\n",
       "<!-- B&#45;&gt;D -->\n",
       "<g id=\"edge3\" class=\"edge\"><title>B&#45;&gt;D</title>\n",
       "<path fill=\"none\" stroke=\"#ff638d\" d=\"M383.291,-236.89C406.39,-228.194 441.778,-212.782 467.681,-192 474.973,-186.15 481.738,-178.576 487.389,-171.315\"/>\n",
       "<polygon fill=\"#ff638d\" stroke=\"#ff638d\" points=\"490.359,-173.184 493.476,-163.058 484.725,-169.03 490.359,-173.184\"/>\n",
       "</g>\n",
       "<!-- cpd_B -->\n",
       "<g id=\"node6\" class=\"node\"><title>cpd_B</title>\n",
       "<polygon fill=\"white\" stroke=\"none\" points=\"458.181,-178 261.181,-178 261.181,-114 458.181,-114 458.181,-178\"/>\n",
       "<polygon fill=\"none\" stroke=\"gray\" points=\"269.681,-160 269.681,-174 450.681,-174 450.681,-160 269.681,-160\"/>\n",
       "<text text-anchor=\"start\" x=\"357.681\" y=\"-165.4\" font-family=\"Acme-Regular.ttf\" font-size=\"7.00\">B</text>\n",
       "<polygon fill=\"none\" stroke=\"gray\" points=\"269.681,-146 269.681,-160 280.681,-160 280.681,-146 269.681,-146\"/>\n",
       "<text text-anchor=\"start\" x=\"272.681\" y=\"-151.4\" font-family=\"Acme-Regular.ttf\" font-size=\"7.00\">A</text>\n",
       "<polygon fill=\"none\" stroke=\"gray\" points=\"280.681,-146 280.681,-160 365.681,-160 365.681,-146 280.681,-146\"/>\n",
       "<text text-anchor=\"start\" x=\"313.181\" y=\"-151.4\" font-family=\"Acme-Regular.ttf\" font-size=\"7.00\">B = 0</text>\n",
       "<polygon fill=\"none\" stroke=\"gray\" points=\"365.681,-146 365.681,-160 450.681,-160 450.681,-146 365.681,-146\"/>\n",
       "<text text-anchor=\"start\" x=\"398.181\" y=\"-151.4\" font-family=\"Acme-Regular.ttf\" font-size=\"7.00\">B = 1</text>\n",
       "<polygon fill=\"none\" stroke=\"gray\" points=\"269.681,-132 269.681,-146 280.681,-146 280.681,-132 269.681,-132\"/>\n",
       "<text text-anchor=\"start\" x=\"272.681\" y=\"-137.4\" font-family=\"Acme-Regular.ttf\" font-size=\"7.00\">0</text>\n",
       "<polygon fill=\"none\" stroke=\"gray\" points=\"280.681,-132 280.681,-146 365.681,-146 365.681,-132 280.681,-132\"/>\n",
       "<text text-anchor=\"start\" x=\"283.681\" y=\"-137.4\" font-family=\"Acme-Regular.ttf\" font-size=\"7.00\">0.5277052800642441</text>\n",
       "<polygon fill=\"none\" stroke=\"gray\" points=\"365.681,-132 365.681,-146 450.681,-146 450.681,-132 365.681,-132\"/>\n",
       "<text text-anchor=\"start\" x=\"368.681\" y=\"-137.4\" font-family=\"Acme-Regular.ttf\" font-size=\"7.00\">0.4722947199357559</text>\n",
       "<polygon fill=\"none\" stroke=\"gray\" points=\"269.681,-118 269.681,-132 280.681,-132 280.681,-118 269.681,-118\"/>\n",
       "<text text-anchor=\"start\" x=\"272.681\" y=\"-123.4\" font-family=\"Acme-Regular.ttf\" font-size=\"7.00\">1</text>\n",
       "<polygon fill=\"none\" stroke=\"gray\" points=\"280.681,-118 280.681,-132 365.681,-132 365.681,-118 280.681,-118\"/>\n",
       "<text text-anchor=\"start\" x=\"285.681\" y=\"-123.4\" font-family=\"Acme-Regular.ttf\" font-size=\"7.00\">0.495227679459137</text>\n",
       "<polygon fill=\"none\" stroke=\"gray\" points=\"365.681,-118 365.681,-132 450.681,-132 450.681,-118 365.681,-118\"/>\n",
       "<text text-anchor=\"start\" x=\"370.681\" y=\"-123.4\" font-family=\"Acme-Regular.ttf\" font-size=\"7.00\">0.504772320540863</text>\n",
       "</g>\n",
       "<!-- B&#45;&gt;cpd_B -->\n",
       "<!-- D&#45;&gt;C -->\n",
       "<g id=\"edge4\" class=\"edge\"><title>D&#45;&gt;C</title>\n",
       "<path fill=\"none\" stroke=\"#ff638d\" d=\"M494.747,-128.832C488.458,-118.976 479.131,-106.973 467.681,-100 372.464,-42.0125 236.374,-33.095 171.233,-32.4236\"/>\n",
       "<polygon fill=\"#ff638d\" stroke=\"#ff638d\" points=\"171.047,-28.9229 161.033,-32.3811 171.018,-35.9229 171.047,-28.9229\"/>\n",
       "</g>\n",
       "<!-- cpd_D -->\n",
       "<g id=\"node8\" class=\"node\"><title>cpd_D</title>\n",
       "<polygon fill=\"white\" stroke=\"none\" points=\"604.681,-64 402.681,-64 402.681,-0 604.681,-0 604.681,-64\"/>\n",
       "<polygon fill=\"none\" stroke=\"gray\" points=\"410.681,-46 410.681,-60 596.681,-60 596.681,-46 410.681,-46\"/>\n",
       "<text text-anchor=\"start\" x=\"500.681\" y=\"-51.4\" font-family=\"Acme-Regular.ttf\" font-size=\"7.00\">D</text>\n",
       "<polygon fill=\"none\" stroke=\"gray\" points=\"410.681,-32 410.681,-46 421.681,-46 421.681,-32 410.681,-32\"/>\n",
       "<text text-anchor=\"start\" x=\"413.681\" y=\"-37.4\" font-family=\"Acme-Regular.ttf\" font-size=\"7.00\">B</text>\n",
       "<polygon fill=\"none\" stroke=\"gray\" points=\"421.681,-32 421.681,-46 511.681,-46 511.681,-32 421.681,-32\"/>\n",
       "<text text-anchor=\"start\" x=\"456.181\" y=\"-37.4\" font-family=\"Acme-Regular.ttf\" font-size=\"7.00\">D = 0</text>\n",
       "<polygon fill=\"none\" stroke=\"gray\" points=\"511.681,-32 511.681,-46 596.681,-46 596.681,-32 511.681,-32\"/>\n",
       "<text text-anchor=\"start\" x=\"543.681\" y=\"-37.4\" font-family=\"Acme-Regular.ttf\" font-size=\"7.00\">D = 1</text>\n",
       "<polygon fill=\"none\" stroke=\"gray\" points=\"410.681,-18 410.681,-32 421.681,-32 421.681,-18 410.681,-18\"/>\n",
       "<text text-anchor=\"start\" x=\"413.681\" y=\"-23.4\" font-family=\"Acme-Regular.ttf\" font-size=\"7.00\">0</text>\n",
       "<polygon fill=\"none\" stroke=\"gray\" points=\"421.681,-18 421.681,-32 511.681,-32 511.681,-18 421.681,-18\"/>\n",
       "<text text-anchor=\"start\" x=\"427.181\" y=\"-23.4\" font-family=\"Acme-Regular.ttf\" font-size=\"7.00\">0.5033209611252197</text>\n",
       "<polygon fill=\"none\" stroke=\"gray\" points=\"511.681,-18 511.681,-32 596.681,-32 596.681,-18 511.681,-18\"/>\n",
       "<text text-anchor=\"start\" x=\"514.681\" y=\"-23.4\" font-family=\"Acme-Regular.ttf\" font-size=\"7.00\">0.4966790388747802</text>\n",
       "<polygon fill=\"none\" stroke=\"gray\" points=\"410.681,-4 410.681,-18 421.681,-18 421.681,-4 410.681,-4\"/>\n",
       "<text text-anchor=\"start\" x=\"413.681\" y=\"-9.4\" font-family=\"Acme-Regular.ttf\" font-size=\"7.00\">1</text>\n",
       "<polygon fill=\"none\" stroke=\"gray\" points=\"421.681,-4 421.681,-18 511.681,-18 511.681,-4 421.681,-4\"/>\n",
       "<text text-anchor=\"start\" x=\"424.681\" y=\"-9.4\" font-family=\"Acme-Regular.ttf\" font-size=\"7.00\">0.48793702719280313</text>\n",
       "<polygon fill=\"none\" stroke=\"gray\" points=\"511.681,-4 511.681,-18 596.681,-18 596.681,-4 511.681,-4\"/>\n",
       "<text text-anchor=\"start\" x=\"514.681\" y=\"-9.4\" font-family=\"Acme-Regular.ttf\" font-size=\"7.00\">0.5120629728071969</text>\n",
       "</g>\n",
       "<!-- D&#45;&gt;cpd_D -->\n",
       "<!-- cpd_A -->\n",
       "<g id=\"node5\" class=\"node\"><title>cpd_A</title>\n",
       "<polygon fill=\"white\" stroke=\"none\" points=\"270.681,-422 84.6812,-422 84.6812,-372 270.681,-372 270.681,-422\"/>\n",
       "<polygon fill=\"none\" stroke=\"gray\" points=\"92.6812,-404 92.6812,-418 262.681,-418 262.681,-404 92.6812,-404\"/>\n",
       "<text text-anchor=\"start\" x=\"175.181\" y=\"-409.4\" font-family=\"Acme-Regular.ttf\" font-size=\"7.00\">A</text>\n",
       "<polygon fill=\"none\" stroke=\"gray\" points=\"92.6812,-390 92.6812,-404 177.681,-404 177.681,-390 92.6812,-390\"/>\n",
       "<text text-anchor=\"start\" x=\"125.181\" y=\"-395.4\" font-family=\"Acme-Regular.ttf\" font-size=\"7.00\">A = 0</text>\n",
       "<polygon fill=\"none\" stroke=\"gray\" points=\"177.681,-390 177.681,-404 262.681,-404 262.681,-390 177.681,-390\"/>\n",
       "<text text-anchor=\"start\" x=\"210.181\" y=\"-395.4\" font-family=\"Acme-Regular.ttf\" font-size=\"7.00\">A = 1</text>\n",
       "<polygon fill=\"none\" stroke=\"gray\" points=\"92.6812,-376 92.6812,-390 177.681,-390 177.681,-376 92.6812,-376\"/>\n",
       "<text text-anchor=\"start\" x=\"95.6812\" y=\"-381.4\" font-family=\"Acme-Regular.ttf\" font-size=\"7.00\">0.4976023976023976</text>\n",
       "<polygon fill=\"none\" stroke=\"gray\" points=\"177.681,-376 177.681,-390 262.681,-390 262.681,-376 177.681,-376\"/>\n",
       "<text text-anchor=\"start\" x=\"180.681\" y=\"-381.4\" font-family=\"Acme-Regular.ttf\" font-size=\"7.00\">0.5023976023976024</text>\n",
       "</g>\n",
       "<!-- cpd_A&#45;&gt;A -->\n",
       "<!-- cpd_C -->\n",
       "<g id=\"node7\" class=\"node\"><title>cpd_C</title>\n",
       "<polygon fill=\"white\" stroke=\"none\" points=\"243.181,-192 24.1812,-192 24.1812,-100 243.181,-100 243.181,-192\"/>\n",
       "<polygon fill=\"none\" stroke=\"gray\" points=\"32.6812,-174 32.6812,-188 235.681,-188 235.681,-174 32.6812,-174\"/>\n",
       "<text text-anchor=\"start\" x=\"131.681\" y=\"-179.4\" font-family=\"Acme-Regular.ttf\" font-size=\"7.00\">C</text>\n",
       "<polygon fill=\"none\" stroke=\"gray\" points=\"32.6812,-160 32.6812,-174 43.6812,-174 43.6812,-160 32.6812,-160\"/>\n",
       "<text text-anchor=\"start\" x=\"35.6812\" y=\"-165.4\" font-family=\"Acme-Regular.ttf\" font-size=\"7.00\">A</text>\n",
       "<polygon fill=\"none\" stroke=\"gray\" points=\"43.6812,-160 43.6812,-174 55.6812,-174 55.6812,-160 43.6812,-160\"/>\n",
       "<text text-anchor=\"start\" x=\"46.6812\" y=\"-165.4\" font-family=\"Acme-Regular.ttf\" font-size=\"7.00\">D</text>\n",
       "<polygon fill=\"none\" stroke=\"gray\" points=\"55.6812,-160 55.6812,-174 145.681,-174 145.681,-160 55.6812,-160\"/>\n",
       "<text text-anchor=\"start\" x=\"90.6812\" y=\"-165.4\" font-family=\"Acme-Regular.ttf\" font-size=\"7.00\">C = 0</text>\n",
       "<polygon fill=\"none\" stroke=\"gray\" points=\"145.681,-160 145.681,-174 235.681,-174 235.681,-160 145.681,-160\"/>\n",
       "<text text-anchor=\"start\" x=\"180.681\" y=\"-165.4\" font-family=\"Acme-Regular.ttf\" font-size=\"7.00\">C = 1</text>\n",
       "<polygon fill=\"none\" stroke=\"gray\" points=\"32.6812,-146 32.6812,-160 43.6812,-160 43.6812,-146 32.6812,-146\"/>\n",
       "<text text-anchor=\"start\" x=\"35.6812\" y=\"-151.4\" font-family=\"Acme-Regular.ttf\" font-size=\"7.00\">0</text>\n",
       "<polygon fill=\"none\" stroke=\"gray\" points=\"43.6812,-146 43.6812,-160 55.6812,-160 55.6812,-146 43.6812,-146\"/>\n",
       "<text text-anchor=\"start\" x=\"47.1812\" y=\"-151.4\" font-family=\"Acme-Regular.ttf\" font-size=\"7.00\">0</text>\n",
       "<polygon fill=\"none\" stroke=\"gray\" points=\"55.6812,-146 55.6812,-160 145.681,-160 145.681,-146 55.6812,-146\"/>\n",
       "<text text-anchor=\"start\" x=\"58.6812\" y=\"-151.4\" font-family=\"Acme-Regular.ttf\" font-size=\"7.00\">0.48365557105840146</text>\n",
       "<polygon fill=\"none\" stroke=\"gray\" points=\"145.681,-146 145.681,-160 235.681,-160 235.681,-146 145.681,-146\"/>\n",
       "<text text-anchor=\"start\" x=\"151.181\" y=\"-151.4\" font-family=\"Acme-Regular.ttf\" font-size=\"7.00\">0.5163444289415986</text>\n",
       "<polygon fill=\"none\" stroke=\"gray\" points=\"32.6812,-132 32.6812,-146 43.6812,-146 43.6812,-132 32.6812,-132\"/>\n",
       "<text text-anchor=\"start\" x=\"35.6812\" y=\"-137.4\" font-family=\"Acme-Regular.ttf\" font-size=\"7.00\">0</text>\n",
       "<polygon fill=\"none\" stroke=\"gray\" points=\"43.6812,-132 43.6812,-146 55.6812,-146 55.6812,-132 43.6812,-132\"/>\n",
       "<text text-anchor=\"start\" x=\"47.1812\" y=\"-137.4\" font-family=\"Acme-Regular.ttf\" font-size=\"7.00\">1</text>\n",
       "<polygon fill=\"none\" stroke=\"gray\" points=\"55.6812,-132 55.6812,-146 145.681,-146 145.681,-132 55.6812,-132\"/>\n",
       "<text text-anchor=\"start\" x=\"63.1812\" y=\"-137.4\" font-family=\"Acme-Regular.ttf\" font-size=\"7.00\">0.516582406471183</text>\n",
       "<polygon fill=\"none\" stroke=\"gray\" points=\"145.681,-132 145.681,-146 235.681,-146 235.681,-132 145.681,-132\"/>\n",
       "<text text-anchor=\"start\" x=\"148.681\" y=\"-137.4\" font-family=\"Acme-Regular.ttf\" font-size=\"7.00\">0.48341759352881697</text>\n",
       "<polygon fill=\"none\" stroke=\"gray\" points=\"32.6812,-118 32.6812,-132 43.6812,-132 43.6812,-118 32.6812,-118\"/>\n",
       "<text text-anchor=\"start\" x=\"35.6812\" y=\"-123.4\" font-family=\"Acme-Regular.ttf\" font-size=\"7.00\">1</text>\n",
       "<polygon fill=\"none\" stroke=\"gray\" points=\"43.6812,-118 43.6812,-132 55.6812,-132 55.6812,-118 43.6812,-118\"/>\n",
       "<text text-anchor=\"start\" x=\"47.1812\" y=\"-123.4\" font-family=\"Acme-Regular.ttf\" font-size=\"7.00\">0</text>\n",
       "<polygon fill=\"none\" stroke=\"gray\" points=\"55.6812,-118 55.6812,-132 145.681,-132 145.681,-118 55.6812,-118\"/>\n",
       "<text text-anchor=\"start\" x=\"61.1812\" y=\"-123.4\" font-family=\"Acme-Regular.ttf\" font-size=\"7.00\">0.5260745569362396</text>\n",
       "<polygon fill=\"none\" stroke=\"gray\" points=\"145.681,-118 145.681,-132 235.681,-132 235.681,-118 145.681,-118\"/>\n",
       "<text text-anchor=\"start\" x=\"148.681\" y=\"-123.4\" font-family=\"Acme-Regular.ttf\" font-size=\"7.00\">0.47392544306376044</text>\n",
       "<polygon fill=\"none\" stroke=\"gray\" points=\"32.6812,-104 32.6812,-118 43.6812,-118 43.6812,-104 32.6812,-104\"/>\n",
       "<text text-anchor=\"start\" x=\"35.6812\" y=\"-109.4\" font-family=\"Acme-Regular.ttf\" font-size=\"7.00\">1</text>\n",
       "<polygon fill=\"none\" stroke=\"gray\" points=\"43.6812,-104 43.6812,-118 55.6812,-118 55.6812,-104 43.6812,-104\"/>\n",
       "<text text-anchor=\"start\" x=\"47.1812\" y=\"-109.4\" font-family=\"Acme-Regular.ttf\" font-size=\"7.00\">1</text>\n",
       "<polygon fill=\"none\" stroke=\"gray\" points=\"55.6812,-104 55.6812,-118 145.681,-118 145.681,-104 55.6812,-104\"/>\n",
       "<text text-anchor=\"start\" x=\"58.6812\" y=\"-109.4\" font-family=\"Acme-Regular.ttf\" font-size=\"7.00\">0.49145465138861916</text>\n",
       "<polygon fill=\"none\" stroke=\"gray\" points=\"145.681,-104 145.681,-118 235.681,-118 235.681,-104 145.681,-104\"/>\n",
       "<text text-anchor=\"start\" x=\"151.181\" y=\"-109.4\" font-family=\"Acme-Regular.ttf\" font-size=\"7.00\">0.5085453486113809</text>\n",
       "</g>\n",
       "<!-- cpd_C&#45;&gt;C -->\n",
       "</g>\n",
       "</svg>\n"
      ],
      "text/plain": [
       "<graphviz.dot.Digraph at 0x7f5a50e73d10>"
      ]
     },
     "execution_count": 13,
     "metadata": {},
     "output_type": "execute_result"
    }
   ],
   "source": [
    "pgmpyToGraphCPD(model)"
   ]
  },
  {
   "cell_type": "markdown",
   "metadata": {
    "lines_to_next_cell": 0,
    "title": "markdown"
   },
   "source": [
    "## Structure Learning\n",
    "To learn model structure (a DAG) from a data set, there are two broad techniques:\n",
    "* score-based structure learning\n",
    "* constraint-based structure learning\n",
    "\n",
    "The combination of both techniques allows further improvement:\n",
    "* hybrid structure learning\n",
    "\n",
    "### Score-Based Structure Learning\n",
    "This approach construes / interprets model selection as an optimization task. It has two building blocks:\n",
    "* A **scoring function**   $\\;\\;s_D : \\; M \\rightarrow \\mathbb{R}\\;\\;$ that maps models to a numerical score, based on how well they fit to a given data set $D$.\n",
    "* A **search strategy** to traverse the search space of possible models $M$ and select a model with optimal score.\n",
    "\n",
    "### Scoring Functions\n",
    "Commonly used scores to meausre the fit between model and data are: *Bayesian Dirichlet scores* like *BDeu* or *K2* and the *Bayesian Information Criterion (BIC)*. (*BDeu* is dependent on the `equivalent_sample_size` argument)\n",
    "\n",
    "**Example 1:** $Z = X + Y$"
   ]
  },
  {
   "cell_type": "code",
   "execution_count": 14,
   "metadata": {
    "title": "codecell"
   },
   "outputs": [],
   "source": [
    "from pgmpy.estimators import BDeuScore, K2Score, BicScore\n",
    "\n",
    "# Create random data sample with 3 variables, where Z is dependent on X, Y:\n",
    "data: DataFrame = DataFrame(data = np.random.randint(low=0, high = 4, size=(5000,2)),\n",
    "                            columns = list('XY'))\n",
    "\n",
    "# Making Z dependent (in some arbitrary relation like addition) on X and Y\n",
    "data['Z'] = data['X'] + data['Y']"
   ]
  },
  {
   "cell_type": "code",
   "execution_count": 15,
   "metadata": {
    "title": "codecell"
   },
   "outputs": [],
   "source": [
    "# Creating the scoring objects from this data:\n",
    "bdeu: BDeuScore = BDeuScore(data, equivalent_sample_size = 5)\n",
    "k2: K2Score = K2Score(data = data)\n",
    "bic: BicScore = BicScore(data = data)"
   ]
  },
  {
   "cell_type": "code",
   "execution_count": 16,
   "metadata": {
    "lines_to_next_cell": 0,
    "title": "codecell"
   },
   "outputs": [
    {
     "data": {
      "image/svg+xml": [
       "<?xml version=\"1.0\" encoding=\"UTF-8\" standalone=\"no\"?>\n",
       "<!DOCTYPE svg PUBLIC \"-//W3C//DTD SVG 1.1//EN\"\n",
       " \"http://www.w3.org/Graphics/SVG/1.1/DTD/svg11.dtd\">\n",
       "<!-- Generated by graphviz version 2.38.0 (20140413.2041)\n",
       " -->\n",
       "<!-- Title: G Pages: 1 -->\n",
       "<svg width=\"134pt\" height=\"116pt\"\n",
       " viewBox=\"0.00 0.00 134.00 116.00\" xmlns=\"http://www.w3.org/2000/svg\" xmlns:xlink=\"http://www.w3.org/1999/xlink\">\n",
       "<g id=\"graph0\" class=\"graph\" transform=\"scale(1 1) rotate(0) translate(4 112)\">\n",
       "<title>G</title>\n",
       "<polygon fill=\"white\" stroke=\"none\" points=\"-4,4 -4,-112 130,-112 130,4 -4,4\"/>\n",
       "<!-- X -->\n",
       "<g id=\"node1\" class=\"node\"><title>X</title>\n",
       "<defs>\n",
       "<linearGradient id=\"l_0\" gradientUnits=\"userSpaceOnUse\" x1=\"27\" y1=\"-72\" x2=\"27\" y2=\"-108\" >\n",
       "<stop offset=\"0\" style=\"stop-color:#ceccff;stop-opacity:1.;\"/>\n",
       "<stop offset=\"1\" style=\"stop-color:white;stop-opacity:1.;\"/>\n",
       "</linearGradient>\n",
       "</defs>\n",
       "<ellipse fill=\"url(#l_0)\" stroke=\"#ff638d\" cx=\"27\" cy=\"-90\" rx=\"27\" ry=\"18\"/>\n",
       "<text text-anchor=\"middle\" x=\"27\" y=\"-86.9\" font-family=\"Acme-Regular.ttf\" font-size=\"12.00\">X</text>\n",
       "</g>\n",
       "<!-- Z -->\n",
       "<g id=\"node2\" class=\"node\"><title>Z</title>\n",
       "<defs>\n",
       "<linearGradient id=\"l_1\" gradientUnits=\"userSpaceOnUse\" x1=\"63\" y1=\"-1.77636e-14\" x2=\"63\" y2=\"-36\" >\n",
       "<stop offset=\"0\" style=\"stop-color:#ceccff;stop-opacity:1.;\"/>\n",
       "<stop offset=\"1\" style=\"stop-color:white;stop-opacity:1.;\"/>\n",
       "</linearGradient>\n",
       "</defs>\n",
       "<ellipse fill=\"url(#l_1)\" stroke=\"#ff638d\" cx=\"63\" cy=\"-18\" rx=\"27\" ry=\"18\"/>\n",
       "<text text-anchor=\"middle\" x=\"63\" y=\"-14.9\" font-family=\"Acme-Regular.ttf\" font-size=\"12.00\">Z</text>\n",
       "</g>\n",
       "<!-- X&#45;&gt;Z -->\n",
       "<g id=\"edge1\" class=\"edge\"><title>X&#45;&gt;Z</title>\n",
       "<path fill=\"none\" stroke=\"#ff638d\" d=\"M35.3496,-72.7646C39.7115,-64.2831 45.1469,-53.7144 50.0413,-44.1974\"/>\n",
       "<polygon fill=\"#ff638d\" stroke=\"#ff638d\" points=\"53.2346,-45.6409 54.6957,-35.1473 47.0096,-42.4395 53.2346,-45.6409\"/>\n",
       "</g>\n",
       "<!-- Y -->\n",
       "<g id=\"node3\" class=\"node\"><title>Y</title>\n",
       "<defs>\n",
       "<linearGradient id=\"l_2\" gradientUnits=\"userSpaceOnUse\" x1=\"99\" y1=\"-72\" x2=\"99\" y2=\"-108\" >\n",
       "<stop offset=\"0\" style=\"stop-color:#ceccff;stop-opacity:1.;\"/>\n",
       "<stop offset=\"1\" style=\"stop-color:white;stop-opacity:1.;\"/>\n",
       "</linearGradient>\n",
       "</defs>\n",
       "<ellipse fill=\"url(#l_2)\" stroke=\"#ff638d\" cx=\"99\" cy=\"-90\" rx=\"27\" ry=\"18\"/>\n",
       "<text text-anchor=\"middle\" x=\"99\" y=\"-86.9\" font-family=\"Acme-Regular.ttf\" font-size=\"12.00\">Y</text>\n",
       "</g>\n",
       "<!-- Y&#45;&gt;Z -->\n",
       "<g id=\"edge2\" class=\"edge\"><title>Y&#45;&gt;Z</title>\n",
       "<path fill=\"none\" stroke=\"#ff638d\" d=\"M90.6504,-72.7646C86.2885,-64.2831 80.8531,-53.7144 75.9587,-44.1974\"/>\n",
       "<polygon fill=\"#ff638d\" stroke=\"#ff638d\" points=\"78.9904,-42.4395 71.3043,-35.1473 72.7654,-45.6409 78.9904,-42.4395\"/>\n",
       "</g>\n",
       "</g>\n",
       "</svg>\n"
      ],
      "text/plain": [
       "<graphviz.dot.Digraph at 0x7f5a50e23a50>"
      ]
     },
     "execution_count": 16,
     "metadata": {},
     "output_type": "execute_result"
    }
   ],
   "source": [
    "commonEvidenceModel: BayesianModel = BayesianModel([('X', 'Z'), ('Y', 'Z')])\n",
    "pgmpyToGraph(commonEvidenceModel)"
   ]
  },
  {
   "cell_type": "code",
   "execution_count": 17,
   "metadata": {
    "title": "codecell"
   },
   "outputs": [
    {
     "data": {
      "image/svg+xml": [
       "<?xml version=\"1.0\" encoding=\"UTF-8\" standalone=\"no\"?>\n",
       "<!DOCTYPE svg PUBLIC \"-//W3C//DTD SVG 1.1//EN\"\n",
       " \"http://www.w3.org/Graphics/SVG/1.1/DTD/svg11.dtd\">\n",
       "<!-- Generated by graphviz version 2.38.0 (20140413.2041)\n",
       " -->\n",
       "<!-- Title: G Pages: 1 -->\n",
       "<svg width=\"134pt\" height=\"116pt\"\n",
       " viewBox=\"0.00 0.00 134.00 116.00\" xmlns=\"http://www.w3.org/2000/svg\" xmlns:xlink=\"http://www.w3.org/1999/xlink\">\n",
       "<g id=\"graph0\" class=\"graph\" transform=\"scale(1 1) rotate(0) translate(4 112)\">\n",
       "<title>G</title>\n",
       "<polygon fill=\"white\" stroke=\"none\" points=\"-4,4 -4,-112 130,-112 130,4 -4,4\"/>\n",
       "<!-- X -->\n",
       "<g id=\"node1\" class=\"node\"><title>X</title>\n",
       "<defs>\n",
       "<linearGradient id=\"l_0\" gradientUnits=\"userSpaceOnUse\" x1=\"63\" y1=\"-72\" x2=\"63\" y2=\"-108\" >\n",
       "<stop offset=\"0\" style=\"stop-color:#ceccff;stop-opacity:1.;\"/>\n",
       "<stop offset=\"1\" style=\"stop-color:white;stop-opacity:1.;\"/>\n",
       "</linearGradient>\n",
       "</defs>\n",
       "<ellipse fill=\"url(#l_0)\" stroke=\"#ff638d\" cx=\"63\" cy=\"-90\" rx=\"27\" ry=\"18\"/>\n",
       "<text text-anchor=\"middle\" x=\"63\" y=\"-86.9\" font-family=\"Acme-Regular.ttf\" font-size=\"12.00\">X</text>\n",
       "</g>\n",
       "<!-- Z -->\n",
       "<g id=\"node2\" class=\"node\"><title>Z</title>\n",
       "<defs>\n",
       "<linearGradient id=\"l_1\" gradientUnits=\"userSpaceOnUse\" x1=\"27\" y1=\"-1.77636e-14\" x2=\"27\" y2=\"-36\" >\n",
       "<stop offset=\"0\" style=\"stop-color:#ceccff;stop-opacity:1.;\"/>\n",
       "<stop offset=\"1\" style=\"stop-color:white;stop-opacity:1.;\"/>\n",
       "</linearGradient>\n",
       "</defs>\n",
       "<ellipse fill=\"url(#l_1)\" stroke=\"#ff638d\" cx=\"27\" cy=\"-18\" rx=\"27\" ry=\"18\"/>\n",
       "<text text-anchor=\"middle\" x=\"27\" y=\"-14.9\" font-family=\"Acme-Regular.ttf\" font-size=\"12.00\">Z</text>\n",
       "</g>\n",
       "<!-- X&#45;&gt;Z -->\n",
       "<g id=\"edge1\" class=\"edge\"><title>X&#45;&gt;Z</title>\n",
       "<path fill=\"none\" stroke=\"#ff638d\" d=\"M54.6504,-72.7646C50.2885,-64.2831 44.8531,-53.7144 39.9587,-44.1974\"/>\n",
       "<polygon fill=\"#ff638d\" stroke=\"#ff638d\" points=\"42.9904,-42.4395 35.3043,-35.1473 36.7654,-45.6409 42.9904,-42.4395\"/>\n",
       "</g>\n",
       "<!-- Y -->\n",
       "<g id=\"node3\" class=\"node\"><title>Y</title>\n",
       "<defs>\n",
       "<linearGradient id=\"l_2\" gradientUnits=\"userSpaceOnUse\" x1=\"99\" y1=\"-1.77636e-14\" x2=\"99\" y2=\"-36\" >\n",
       "<stop offset=\"0\" style=\"stop-color:#ceccff;stop-opacity:1.;\"/>\n",
       "<stop offset=\"1\" style=\"stop-color:white;stop-opacity:1.;\"/>\n",
       "</linearGradient>\n",
       "</defs>\n",
       "<ellipse fill=\"url(#l_2)\" stroke=\"#ff638d\" cx=\"99\" cy=\"-18\" rx=\"27\" ry=\"18\"/>\n",
       "<text text-anchor=\"middle\" x=\"99\" y=\"-14.9\" font-family=\"Acme-Regular.ttf\" font-size=\"12.00\">Y</text>\n",
       "</g>\n",
       "<!-- X&#45;&gt;Y -->\n",
       "<g id=\"edge2\" class=\"edge\"><title>X&#45;&gt;Y</title>\n",
       "<path fill=\"none\" stroke=\"#ff638d\" d=\"M71.3496,-72.7646C75.7115,-64.2831 81.1469,-53.7144 86.0413,-44.1974\"/>\n",
       "<polygon fill=\"#ff638d\" stroke=\"#ff638d\" points=\"89.2346,-45.6409 90.6957,-35.1473 83.0096,-42.4395 89.2346,-45.6409\"/>\n",
       "</g>\n",
       "</g>\n",
       "</svg>\n"
      ],
      "text/plain": [
       "<graphviz.dot.Digraph at 0x7f5a50e3a190>"
      ]
     },
     "execution_count": 17,
     "metadata": {},
     "output_type": "execute_result"
    }
   ],
   "source": [
    "commonCauseModel: BayesianModel = BayesianModel([('X', 'Z'), ('X', 'Y')])\n",
    "pgmpyToGraph(commonCauseModel)"
   ]
  },
  {
   "cell_type": "code",
   "execution_count": 18,
   "metadata": {
    "lines_to_next_cell": 0,
    "title": "codecell"
   },
   "outputs": [
    {
     "data": {
      "text/plain": [
       "-13939.583367801844"
      ]
     },
     "execution_count": 18,
     "metadata": {},
     "output_type": "execute_result"
    }
   ],
   "source": [
    "bdeu.score(commonEvidenceModel)"
   ]
  },
  {
   "cell_type": "code",
   "execution_count": 19,
   "metadata": {
    "lines_to_next_cell": 0,
    "title": "codecell"
   },
   "outputs": [
    {
     "data": {
      "text/plain": [
       "-14330.412434366044"
      ]
     },
     "execution_count": 19,
     "metadata": {},
     "output_type": "execute_result"
    }
   ],
   "source": [
    "k2.score(commonEvidenceModel)"
   ]
  },
  {
   "cell_type": "code",
   "execution_count": 20,
   "metadata": {
    "title": "codecell"
   },
   "outputs": [
    {
     "data": {
      "text/plain": [
       "-14295.622133947189"
      ]
     },
     "execution_count": 20,
     "metadata": {},
     "output_type": "execute_result"
    }
   ],
   "source": [
    "bic.score(commonEvidenceModel)"
   ]
  },
  {
   "cell_type": "markdown",
   "metadata": {
    "lines_to_next_cell": 0,
    "title": "markdown"
   },
   "source": [
    "The `commonEvidenceModel` is the correct model for the data relationship $ Z = X + Y$ and scores higher than the `commonCauseModel`, as expected.\n",
    "\n",
    "$\\color{red}{\\text{TODO: }}$ why higher BIC scores good here? Thought lower BIC is good, which would indicated `commmonCauseModel` is better...?"
   ]
  },
  {
   "cell_type": "code",
   "execution_count": 21,
   "metadata": {
    "lines_to_next_cell": 0,
    "title": "codecell"
   },
   "outputs": [
    {
     "data": {
      "text/plain": [
       "-20905.17513233854"
      ]
     },
     "execution_count": 21,
     "metadata": {},
     "output_type": "execute_result"
    }
   ],
   "source": [
    "bdeu.score(commonCauseModel)"
   ]
  },
  {
   "cell_type": "code",
   "execution_count": 22,
   "metadata": {
    "lines_to_next_cell": 0,
    "title": "codecell"
   },
   "outputs": [
    {
     "data": {
      "text/plain": [
       "-20932.005676111818"
      ]
     },
     "execution_count": 22,
     "metadata": {},
     "output_type": "execute_result"
    }
   ],
   "source": [
    "k2.score(commonCauseModel)"
   ]
  },
  {
   "cell_type": "code",
   "execution_count": 23,
   "metadata": {
    "title": "codecell"
   },
   "outputs": [
    {
     "data": {
      "text/plain": [
       "-20949.21721423049"
      ]
     },
     "execution_count": 23,
     "metadata": {},
     "output_type": "execute_result"
    }
   ],
   "source": [
    "bic.score(commonCauseModel)"
   ]
  },
  {
   "cell_type": "markdown",
   "metadata": {
    "lines_to_next_cell": 0,
    "title": "markdown"
   },
   "source": [
    "* KEY NOTE: these scores *decompose* so they can be computed locally for each of the variables, **given** their **potential parents**, while **independent** of other parts of the network:"
   ]
  },
  {
   "cell_type": "code",
   "execution_count": 24,
   "metadata": {
    "lines_to_next_cell": 0,
    "title": "codecell"
   },
   "outputs": [
    {
     "data": {
      "text/plain": [
       "-9240.430476374133"
      ]
     },
     "execution_count": 24,
     "metadata": {},
     "output_type": "execute_result"
    }
   ],
   "source": [
    "bdeu.local_score(variable = 'Z', parents = [])"
   ]
  },
  {
   "cell_type": "code",
   "execution_count": 25,
   "metadata": {
    "lines_to_next_cell": 0,
    "title": "codecell"
   },
   "outputs": [
    {
     "data": {
      "text/plain": [
       "-6993.0180228513345"
      ]
     },
     "execution_count": 25,
     "metadata": {},
     "output_type": "execute_result"
    }
   ],
   "source": [
    "bdeu.local_score(variable = 'Z', parents = ['X'])"
   ]
  },
  {
   "cell_type": "code",
   "execution_count": 26,
   "metadata": {
    "lines_to_next_cell": 0,
    "title": "codecell"
   },
   "outputs": [
    {
     "data": {
      "text/plain": [
       "-57.12114165948901"
      ]
     },
     "execution_count": 26,
     "metadata": {},
     "output_type": "execute_result"
    }
   ],
   "source": [
    "bdeu.local_score(variable = 'Z', parents = ['X', 'Y'])"
   ]
  },
  {
   "cell_type": "markdown",
   "metadata": {
    "lines_to_next_cell": 0,
    "title": "markdown"
   },
   "source": [
    "The local score is highest when both parents are considered, which reflects the data relation $Z = X + Y$\n",
    "\n",
    "**Example 2:** Fruit Data"
   ]
  },
  {
   "cell_type": "code",
   "execution_count": 27,
   "metadata": {
    "title": "codecell"
   },
   "outputs": [
    {
     "name": "stdout",
     "output_type": "stream",
     "text": [
      "BDeu =  -29.296104564686555\n",
      "k2 =  -30.377209364312794\n",
      "bic =  -32.859257093436106\n"
     ]
    }
   ],
   "source": [
    "bdeuFruit: BDeuScore = BDeuScore(fruitData, equivalent_sample_size = 10)\n",
    "k2Fruit: K2Score = K2Score(data = fruitData)\n",
    "bicFruit: BicScore = BicScore(data = fruitData)\n",
    "\n",
    "print(\"BDeu = \", bdeuFruit.score(fruitModel))\n",
    "print(\"k2 = \", k2Fruit.score(fruitModel))\n",
    "print(\"bic = \", bicFruit.score(fruitModel))"
   ]
  },
  {
   "cell_type": "code",
   "execution_count": 28,
   "metadata": {
    "lines_to_next_cell": 0,
    "title": "codecell"
   },
   "outputs": [
    {
     "name": "stdout",
     "output_type": "stream",
     "text": [
      "-10.15634005663103\n",
      "-10.848948661710061\n",
      "-11.023589192646861\n"
     ]
    }
   ],
   "source": [
    "print(bdeuFruit.local_score(variable = 'fruit', parents = []))\n",
    "print(k2Fruit.local_score(variable = 'fruit', parents = []))\n",
    "print(bicFruit.local_score(variable = 'fruit', parents = []))"
   ]
  },
  {
   "cell_type": "code",
   "execution_count": 29,
   "metadata": {
    "lines_to_next_cell": 0,
    "title": "codecell"
   },
   "outputs": [
    {
     "name": "stdout",
     "output_type": "stream",
     "text": [
      "-9.365131662894871\n",
      "-9.616804980417431\n",
      "-9.695302905001226\n"
     ]
    }
   ],
   "source": [
    "print(bdeuFruit.local_score(variable = 'size', parents = []))\n",
    "print(k2Fruit.local_score(variable = 'size', parents = []))\n",
    "print(bicFruit.local_score(variable = 'size', parents = []))"
   ]
  },
  {
   "cell_type": "code",
   "execution_count": 30,
   "metadata": {
    "lines_to_next_cell": 0,
    "title": "codecell"
   },
   "outputs": [
    {
     "name": "stdout",
     "output_type": "stream",
     "text": [
      "-9.365131662894871\n",
      "-9.616804980417431\n",
      "-9.695302905001226\n"
     ]
    }
   ],
   "source": [
    "print(bdeuFruit.local_score(variable = 'tasty', parents = []))\n",
    "print(k2Fruit.local_score(variable = 'tasty', parents = []))\n",
    "print(bicFruit.local_score(variable = 'tasty', parents = []))"
   ]
  },
  {
   "cell_type": "code",
   "execution_count": 31,
   "metadata": {
    "lines_to_next_cell": 0,
    "title": "codecell"
   },
   "outputs": [
    {
     "name": "stdout",
     "output_type": "stream",
     "text": [
      "-9.276612974748627\n"
     ]
    },
    {
     "name": "stdout",
     "output_type": "stream",
     "text": [
      "-9.60575514423085\n",
      "-10.415670287236923\n"
     ]
    }
   ],
   "source": [
    "print(bdeuFruit.local_score(variable = 'tasty', parents = ['size']))\n",
    "print(k2Fruit.local_score(variable = 'tasty', parents = ['size']))\n",
    "print(bicFruit.local_score(variable = 'tasty', parents = ['size']))"
   ]
  },
  {
   "cell_type": "code",
   "execution_count": 32,
   "metadata": {
    "lines_to_next_cell": 0,
    "title": "codecell"
   },
   "outputs": [
    {
     "name": "stdout",
     "output_type": "stream",
     "text": [
      "-9.811037897741208\n",
      "-10.247927958806514\n",
      "-11.01483156980886\n"
     ]
    }
   ],
   "source": [
    "print(bdeuFruit.local_score(variable = 'tasty', parents = ['fruit']))\n",
    "print(k2Fruit.local_score(variable = 'tasty', parents = ['fruit']))\n",
    "print(bicFruit.local_score(variable = 'tasty', parents = ['fruit']))"
   ]
  },
  {
   "cell_type": "code",
   "execution_count": 33,
   "metadata": {
    "lines_to_next_cell": 2,
    "title": "codecell"
   },
   "outputs": [
    {
     "name": "stdout",
     "output_type": "stream",
     "text": [
      "-9.774632845160651\n",
      "-9.911455722185304\n"
     ]
    },
    {
     "name": "stdout",
     "output_type": "stream",
     "text": [
      "-12.140364995788019\n"
     ]
    }
   ],
   "source": [
    "print(bdeuFruit.local_score(variable = 'tasty', parents = ['size', 'fruit']))\n",
    "print(k2Fruit.local_score(variable = 'tasty', parents = ['size', 'fruit']))\n",
    "print(bicFruit.local_score(variable = 'tasty', parents = ['size', 'fruit']))"
   ]
  },
  {
   "cell_type": "markdown",
   "metadata": {
    "lines_to_next_cell": 0,
    "title": "markdown"
   },
   "source": [
    "### Search Strategies\n",
    "The search space of DAGs is super-exponential in the number of variables and the above scoring functions allow for local maxima. The first property makes exhaustive search intractable for all but very small networks, the second prohibits efficient local optimization algorithms to always find the optimal structure. Thus, identifiying the ideal structure is often not tractable. Despite these bad news, heuristic search strategies often yields good results.\n",
    "\n",
    "If only few nodes are involved (read: less than 5), ExhaustiveSearch can be used to compute the score for every DAG and returns the best-scoring one:\n",
    "\n",
    "#### Exhaustive Search\n",
    "**Example 1:** $Z + X + Y$"
   ]
  },
  {
   "cell_type": "code",
   "execution_count": 34,
   "metadata": {
    "lines_to_next_cell": 0,
    "title": "codecell"
   },
   "outputs": [
    {
     "data": {
      "text/plain": [
       "OutEdgeView([('X', 'Z'), ('Y', 'Z')])"
      ]
     },
     "execution_count": 34,
     "metadata": {},
     "output_type": "execute_result"
    }
   ],
   "source": [
    "from pgmpy.estimators import ExhaustiveSearch\n",
    "from pgmpy.base.DAG import DAG\n",
    "\n",
    "es: ExhaustiveSearch = ExhaustiveSearch(data = data, scoring_method = bic)\n",
    "bestModel: DAG = es.estimate()\n",
    "\n",
    "bestModel.edges()"
   ]
  },
  {
   "cell_type": "code",
   "execution_count": 35,
   "metadata": {
    "title": "codecell"
   },
   "outputs": [
    {
     "data": {
      "image/svg+xml": [
       "<?xml version=\"1.0\" encoding=\"UTF-8\" standalone=\"no\"?>\n",
       "<!DOCTYPE svg PUBLIC \"-//W3C//DTD SVG 1.1//EN\"\n",
       " \"http://www.w3.org/Graphics/SVG/1.1/DTD/svg11.dtd\">\n",
       "<!-- Generated by graphviz version 2.38.0 (20140413.2041)\n",
       " -->\n",
       "<!-- Title: G Pages: 1 -->\n",
       "<svg width=\"134pt\" height=\"116pt\"\n",
       " viewBox=\"0.00 0.00 134.00 116.00\" xmlns=\"http://www.w3.org/2000/svg\" xmlns:xlink=\"http://www.w3.org/1999/xlink\">\n",
       "<g id=\"graph0\" class=\"graph\" transform=\"scale(1 1) rotate(0) translate(4 112)\">\n",
       "<title>G</title>\n",
       "<polygon fill=\"white\" stroke=\"none\" points=\"-4,4 -4,-112 130,-112 130,4 -4,4\"/>\n",
       "<!-- X -->\n",
       "<g id=\"node1\" class=\"node\"><title>X</title>\n",
       "<defs>\n",
       "<linearGradient id=\"l_0\" gradientUnits=\"userSpaceOnUse\" x1=\"27\" y1=\"-72\" x2=\"27\" y2=\"-108\" >\n",
       "<stop offset=\"0\" style=\"stop-color:#d4ffde;stop-opacity:1.;\"/>\n",
       "<stop offset=\"1\" style=\"stop-color:white;stop-opacity:1.;\"/>\n",
       "</linearGradient>\n",
       "</defs>\n",
       "<ellipse fill=\"url(#l_0)\" stroke=\"#ff638d\" cx=\"27\" cy=\"-90\" rx=\"27\" ry=\"18\"/>\n",
       "<text text-anchor=\"middle\" x=\"27\" y=\"-86.9\" font-family=\"Acme-Regular.ttf\" font-size=\"12.00\">X</text>\n",
       "</g>\n",
       "<!-- Z -->\n",
       "<g id=\"node2\" class=\"node\"><title>Z</title>\n",
       "<defs>\n",
       "<linearGradient id=\"l_1\" gradientUnits=\"userSpaceOnUse\" x1=\"63\" y1=\"-1.77636e-14\" x2=\"63\" y2=\"-36\" >\n",
       "<stop offset=\"0\" style=\"stop-color:#d4ffde;stop-opacity:1.;\"/>\n",
       "<stop offset=\"1\" style=\"stop-color:white;stop-opacity:1.;\"/>\n",
       "</linearGradient>\n",
       "</defs>\n",
       "<ellipse fill=\"url(#l_1)\" stroke=\"#ff638d\" cx=\"63\" cy=\"-18\" rx=\"27\" ry=\"18\"/>\n",
       "<text text-anchor=\"middle\" x=\"63\" y=\"-14.9\" font-family=\"Acme-Regular.ttf\" font-size=\"12.00\">Z</text>\n",
       "</g>\n",
       "<!-- X&#45;&gt;Z -->\n",
       "<g id=\"edge1\" class=\"edge\"><title>X&#45;&gt;Z</title>\n",
       "<path fill=\"none\" stroke=\"#ff638d\" d=\"M35.3496,-72.7646C39.7115,-64.2831 45.1469,-53.7144 50.0413,-44.1974\"/>\n",
       "<polygon fill=\"#ff638d\" stroke=\"#ff638d\" points=\"53.2346,-45.6409 54.6957,-35.1473 47.0096,-42.4395 53.2346,-45.6409\"/>\n",
       "</g>\n",
       "<!-- Y -->\n",
       "<g id=\"node3\" class=\"node\"><title>Y</title>\n",
       "<defs>\n",
       "<linearGradient id=\"l_2\" gradientUnits=\"userSpaceOnUse\" x1=\"99\" y1=\"-72\" x2=\"99\" y2=\"-108\" >\n",
       "<stop offset=\"0\" style=\"stop-color:#d4ffde;stop-opacity:1.;\"/>\n",
       "<stop offset=\"1\" style=\"stop-color:white;stop-opacity:1.;\"/>\n",
       "</linearGradient>\n",
       "</defs>\n",
       "<ellipse fill=\"url(#l_2)\" stroke=\"#ff638d\" cx=\"99\" cy=\"-90\" rx=\"27\" ry=\"18\"/>\n",
       "<text text-anchor=\"middle\" x=\"99\" y=\"-86.9\" font-family=\"Acme-Regular.ttf\" font-size=\"12.00\">Y</text>\n",
       "</g>\n",
       "<!-- Y&#45;&gt;Z -->\n",
       "<g id=\"edge2\" class=\"edge\"><title>Y&#45;&gt;Z</title>\n",
       "<path fill=\"none\" stroke=\"#ff638d\" d=\"M90.6504,-72.7646C86.2885,-64.2831 80.8531,-53.7144 75.9587,-44.1974\"/>\n",
       "<polygon fill=\"#ff638d\" stroke=\"#ff638d\" points=\"78.9904,-42.4395 71.3043,-35.1473 72.7654,-45.6409 78.9904,-42.4395\"/>\n",
       "</g>\n",
       "</g>\n",
       "</svg>\n"
      ],
      "text/plain": [
       "<graphviz.dot.Digraph at 0x7f5a50d64a10>"
      ]
     },
     "execution_count": 35,
     "metadata": {},
     "output_type": "execute_result"
    }
   ],
   "source": [
    "# The best model (structurally estimated):\n",
    "pgmpyToGraph(bestModel, nodeColor = LIGHT_GREEN)"
   ]
  },
  {
   "cell_type": "code",
   "execution_count": 36,
   "metadata": {
    "lines_to_next_cell": 0,
    "title": "codecell"
   },
   "outputs": [
    {
     "name": "stdout",
     "output_type": "stream",
     "text": [
      "All DAGs sorted by score:\n",
      "\n"
     ]
    },
    {
     "name": "stdout",
     "output_type": "stream",
     "text": [
      "Score = -14295.622133947189,   Edges: [('X', 'Z'), ('Y', 'Z')]\n",
      "Score = -14329.415571407193,   Edges: [('Y', 'X'), ('Z', 'X'), ('Z', 'Y')]\n",
      "Score = -14329.415571407195,   Edges: [('Y', 'Z'), ('Y', 'X'), ('Z', 'X')]\n",
      "Score = -14329.415571407195,   Edges: [('X', 'Z'), ('Y', 'Z'), ('Y', 'X')]\n",
      "Score = -14329.415571407195,   Edges: [('X', 'Y'), ('Z', 'X'), ('Z', 'Y')]\n",
      "Score = -14329.415571407195,   Edges: [('X', 'Y'), ('X', 'Z'), ('Z', 'Y')]\n",
      "Score = -14329.415571407195,   Edges: [('X', 'Y'), ('X', 'Z'), ('Y', 'Z')]\n",
      "Score = -16545.11884196989,   Edges: [('X', 'Y'), ('Z', 'Y')]\n",
      "Score = -16545.78262001622,   Edges: [('Y', 'X'), ('Z', 'X')]\n",
      "Score = -18699.056728161457,   Edges: [('Z', 'X'), ('Z', 'Y')]\n",
      "Score = -18699.056728161457,   Edges: [('Y', 'Z'), ('Z', 'X')]\n",
      "Score = -18699.056728161457,   Edges: [('X', 'Z'), ('Z', 'Y')]\n",
      "Score = -20914.75999872415,   Edges: [('Z', 'Y')]\n",
      "Score = -20914.759998724152,   Edges: [('Y', 'Z')]\n",
      "Score = -20915.423776770484,   Edges: [('Z', 'X')]\n",
      "Score = -20915.423776770484,   Edges: [('X', 'Z')]\n",
      "Score = -20948.553436184156,   Edges: [('Y', 'X'), ('Z', 'Y')]\n",
      "Score = -20948.553436184156,   Edges: [('Y', 'Z'), ('Y', 'X')]\n",
      "Score = -20948.553436184156,   Edges: [('X', 'Y'), ('Y', 'Z')]\n",
      "Score = -20949.217214230488,   Edges: [('X', 'Z'), ('Y', 'X')]\n",
      "Score = -20949.217214230488,   Edges: [('X', 'Y'), ('X', 'Z')]\n",
      "Score = -20949.21721423049,   Edges: [('X', 'Y'), ('Z', 'X')]\n",
      "Score = -23131.127047333175,   Edges: []\n",
      "Score = -23164.920484793183,   Edges: [('Y', 'X')]\n",
      "Score = -23164.920484793183,   Edges: [('X', 'Y')]\n"
     ]
    }
   ],
   "source": [
    "# Computing scores for all structurally analyzed DAGS:\n",
    "\n",
    "print(\"All DAGs sorted by score:\\n\")\n",
    "\n",
    "for score, dag in reversed(es.all_scores()):\n",
    "    print(f\"Score = {score},   Edges: {dag.edges()}\")"
   ]
  },
  {
   "cell_type": "markdown",
   "metadata": {
    "lines_to_next_cell": 0,
    "title": "markdown"
   },
   "source": [
    "Drawing a few of the highest-scoring ones and lowest-scoring ones"
   ]
  },
  {
   "cell_type": "code",
   "execution_count": 37,
   "metadata": {
    "lines_to_next_cell": 0,
    "title": "codecell"
   },
   "outputs": [
    {
     "data": {
      "image/svg+xml": [
       "<?xml version=\"1.0\" encoding=\"UTF-8\" standalone=\"no\"?>\n",
       "<!DOCTYPE svg PUBLIC \"-//W3C//DTD SVG 1.1//EN\"\n",
       " \"http://www.w3.org/Graphics/SVG/1.1/DTD/svg11.dtd\">\n",
       "<!-- Generated by graphviz version 2.38.0 (20140413.2041)\n",
       " -->\n",
       "<!-- Title: G Pages: 1 -->\n",
       "<svg width=\"89pt\" height=\"188pt\"\n",
       " viewBox=\"0.00 0.00 89.00 188.00\" xmlns=\"http://www.w3.org/2000/svg\" xmlns:xlink=\"http://www.w3.org/1999/xlink\">\n",
       "<g id=\"graph0\" class=\"graph\" transform=\"scale(1 1) rotate(0) translate(4 184)\">\n",
       "<title>G</title>\n",
       "<polygon fill=\"white\" stroke=\"none\" points=\"-4,4 -4,-184 85,-184 85,4 -4,4\"/>\n",
       "<!-- Y -->\n",
       "<g id=\"node1\" class=\"node\"><title>Y</title>\n",
       "<defs>\n",
       "<linearGradient id=\"l_0\" gradientUnits=\"userSpaceOnUse\" x1=\"27\" y1=\"-72\" x2=\"27\" y2=\"-108\" >\n",
       "<stop offset=\"0\" style=\"stop-color:#ceccff;stop-opacity:1.;\"/>\n",
       "<stop offset=\"1\" style=\"stop-color:white;stop-opacity:1.;\"/>\n",
       "</linearGradient>\n",
       "</defs>\n",
       "<ellipse fill=\"url(#l_0)\" stroke=\"#ff638d\" cx=\"27\" cy=\"-90\" rx=\"27\" ry=\"18\"/>\n",
       "<text text-anchor=\"middle\" x=\"27\" y=\"-86.9\" font-family=\"Acme-Regular.ttf\" font-size=\"12.00\">Y</text>\n",
       "</g>\n",
       "<!-- X -->\n",
       "<g id=\"node2\" class=\"node\"><title>X</title>\n",
       "<defs>\n",
       "<linearGradient id=\"l_1\" gradientUnits=\"userSpaceOnUse\" x1=\"54\" y1=\"-1.77636e-14\" x2=\"54\" y2=\"-36\" >\n",
       "<stop offset=\"0\" style=\"stop-color:#ceccff;stop-opacity:1.;\"/>\n",
       "<stop offset=\"1\" style=\"stop-color:white;stop-opacity:1.;\"/>\n",
       "</linearGradient>\n",
       "</defs>\n",
       "<ellipse fill=\"url(#l_1)\" stroke=\"#ff638d\" cx=\"54\" cy=\"-18\" rx=\"27\" ry=\"18\"/>\n",
       "<text text-anchor=\"middle\" x=\"54\" y=\"-14.9\" font-family=\"Acme-Regular.ttf\" font-size=\"12.00\">X</text>\n",
       "</g>\n",
       "<!-- Y&#45;&gt;X -->\n",
       "<g id=\"edge1\" class=\"edge\"><title>Y&#45;&gt;X</title>\n",
       "<path fill=\"none\" stroke=\"#ff638d\" d=\"M33.3986,-72.411C36.5136,-64.3352 40.3337,-54.4312 43.8346,-45.3547\"/>\n",
       "<polygon fill=\"#ff638d\" stroke=\"#ff638d\" points=\"47.1265,-46.5458 47.4597,-35.9562 40.5955,-44.0267 47.1265,-46.5458\"/>\n",
       "</g>\n",
       "<!-- Z -->\n",
       "<g id=\"node3\" class=\"node\"><title>Z</title>\n",
       "<defs>\n",
       "<linearGradient id=\"l_2\" gradientUnits=\"userSpaceOnUse\" x1=\"54\" y1=\"-144\" x2=\"54\" y2=\"-180\" >\n",
       "<stop offset=\"0\" style=\"stop-color:#ceccff;stop-opacity:1.;\"/>\n",
       "<stop offset=\"1\" style=\"stop-color:white;stop-opacity:1.;\"/>\n",
       "</linearGradient>\n",
       "</defs>\n",
       "<ellipse fill=\"url(#l_2)\" stroke=\"#ff638d\" cx=\"54\" cy=\"-162\" rx=\"27\" ry=\"18\"/>\n",
       "<text text-anchor=\"middle\" x=\"54\" y=\"-158.9\" font-family=\"Acme-Regular.ttf\" font-size=\"12.00\">Z</text>\n",
       "</g>\n",
       "<!-- Z&#45;&gt;Y -->\n",
       "<g id=\"edge3\" class=\"edge\"><title>Z&#45;&gt;Y</title>\n",
       "<path fill=\"none\" stroke=\"#ff638d\" d=\"M47.6014,-144.411C44.4864,-136.335 40.6663,-126.431 37.1654,-117.355\"/>\n",
       "<polygon fill=\"#ff638d\" stroke=\"#ff638d\" points=\"40.4045,-116.027 33.5403,-107.956 33.8735,-118.546 40.4045,-116.027\"/>\n",
       "</g>\n",
       "<!-- Z&#45;&gt;X -->\n",
       "<g id=\"edge2\" class=\"edge\"><title>Z&#45;&gt;X</title>\n",
       "<path fill=\"none\" stroke=\"#ff638d\" d=\"M57.6538,-143.908C59.6758,-133.569 61.9808,-120.09 63,-108 64.3441,-92.0566 64.3441,-87.9434 63,-72 62.2834,-63.4991 60.9311,-54.3119 59.4884,-46.0122\"/>\n",
       "<polygon fill=\"#ff638d\" stroke=\"#ff638d\" points=\"62.9142,-45.2892 57.6538,-36.0925 56.0309,-46.5623 62.9142,-45.2892\"/>\n",
       "</g>\n",
       "</g>\n",
       "</svg>\n"
      ],
      "text/plain": [
       "<graphviz.dot.Digraph at 0x7f5a50d6b210>"
      ]
     },
     "execution_count": 37,
     "metadata": {},
     "output_type": "execute_result"
    }
   ],
   "source": [
    "from networkx.classes.digraph import DiGraph\n",
    "\n",
    "\n",
    "scoresAndDags: List[Tuple[float, DiGraph]] = list(reversed(es.all_scores()))\n",
    "LEN = len(scoresAndDags)\n",
    "\n",
    "# Second-highest scoring graph\n",
    "pgmpyToGraph(scoresAndDags[1][1])"
   ]
  },
  {
   "cell_type": "code",
   "execution_count": 38,
   "metadata": {
    "lines_to_next_cell": 0,
    "title": "codecell"
   },
   "outputs": [
    {
     "data": {
      "image/svg+xml": [
       "<?xml version=\"1.0\" encoding=\"UTF-8\" standalone=\"no\"?>\n",
       "<!DOCTYPE svg PUBLIC \"-//W3C//DTD SVG 1.1//EN\"\n",
       " \"http://www.w3.org/Graphics/SVG/1.1/DTD/svg11.dtd\">\n",
       "<!-- Generated by graphviz version 2.38.0 (20140413.2041)\n",
       " -->\n",
       "<!-- Title: G Pages: 1 -->\n",
       "<svg width=\"89pt\" height=\"188pt\"\n",
       " viewBox=\"0.00 0.00 89.00 188.00\" xmlns=\"http://www.w3.org/2000/svg\" xmlns:xlink=\"http://www.w3.org/1999/xlink\">\n",
       "<g id=\"graph0\" class=\"graph\" transform=\"scale(1 1) rotate(0) translate(4 184)\">\n",
       "<title>G</title>\n",
       "<polygon fill=\"white\" stroke=\"none\" points=\"-4,4 -4,-184 85,-184 85,4 -4,4\"/>\n",
       "<!-- Y -->\n",
       "<g id=\"node1\" class=\"node\"><title>Y</title>\n",
       "<defs>\n",
       "<linearGradient id=\"l_0\" gradientUnits=\"userSpaceOnUse\" x1=\"54\" y1=\"-144\" x2=\"54\" y2=\"-180\" >\n",
       "<stop offset=\"0\" style=\"stop-color:#ceccff;stop-opacity:1.;\"/>\n",
       "<stop offset=\"1\" style=\"stop-color:white;stop-opacity:1.;\"/>\n",
       "</linearGradient>\n",
       "</defs>\n",
       "<ellipse fill=\"url(#l_0)\" stroke=\"#ff638d\" cx=\"54\" cy=\"-162\" rx=\"27\" ry=\"18\"/>\n",
       "<text text-anchor=\"middle\" x=\"54\" y=\"-158.9\" font-family=\"Acme-Regular.ttf\" font-size=\"12.00\">Y</text>\n",
       "</g>\n",
       "<!-- Z -->\n",
       "<g id=\"node2\" class=\"node\"><title>Z</title>\n",
       "<defs>\n",
       "<linearGradient id=\"l_1\" gradientUnits=\"userSpaceOnUse\" x1=\"27\" y1=\"-72\" x2=\"27\" y2=\"-108\" >\n",
       "<stop offset=\"0\" style=\"stop-color:#ceccff;stop-opacity:1.;\"/>\n",
       "<stop offset=\"1\" style=\"stop-color:white;stop-opacity:1.;\"/>\n",
       "</linearGradient>\n",
       "</defs>\n",
       "<ellipse fill=\"url(#l_1)\" stroke=\"#ff638d\" cx=\"27\" cy=\"-90\" rx=\"27\" ry=\"18\"/>\n",
       "<text text-anchor=\"middle\" x=\"27\" y=\"-86.9\" font-family=\"Acme-Regular.ttf\" font-size=\"12.00\">Z</text>\n",
       "</g>\n",
       "<!-- Y&#45;&gt;Z -->\n",
       "<g id=\"edge1\" class=\"edge\"><title>Y&#45;&gt;Z</title>\n",
       "<path fill=\"none\" stroke=\"#ff638d\" d=\"M47.6014,-144.411C44.4864,-136.335 40.6663,-126.431 37.1654,-117.355\"/>\n",
       "<polygon fill=\"#ff638d\" stroke=\"#ff638d\" points=\"40.4045,-116.027 33.5403,-107.956 33.8735,-118.546 40.4045,-116.027\"/>\n",
       "</g>\n",
       "<!-- X -->\n",
       "<g id=\"node3\" class=\"node\"><title>X</title>\n",
       "<defs>\n",
       "<linearGradient id=\"l_2\" gradientUnits=\"userSpaceOnUse\" x1=\"54\" y1=\"-1.77636e-14\" x2=\"54\" y2=\"-36\" >\n",
       "<stop offset=\"0\" style=\"stop-color:#ceccff;stop-opacity:1.;\"/>\n",
       "<stop offset=\"1\" style=\"stop-color:white;stop-opacity:1.;\"/>\n",
       "</linearGradient>\n",
       "</defs>\n",
       "<ellipse fill=\"url(#l_2)\" stroke=\"#ff638d\" cx=\"54\" cy=\"-18\" rx=\"27\" ry=\"18\"/>\n",
       "<text text-anchor=\"middle\" x=\"54\" y=\"-14.9\" font-family=\"Acme-Regular.ttf\" font-size=\"12.00\">X</text>\n",
       "</g>\n",
       "<!-- Y&#45;&gt;X -->\n",
       "<g id=\"edge2\" class=\"edge\"><title>Y&#45;&gt;X</title>\n",
       "<path fill=\"none\" stroke=\"#ff638d\" d=\"M57.6538,-143.908C59.6758,-133.569 61.9808,-120.09 63,-108 64.3441,-92.0566 64.3441,-87.9434 63,-72 62.2834,-63.4991 60.9311,-54.3119 59.4884,-46.0122\"/>\n",
       "<polygon fill=\"#ff638d\" stroke=\"#ff638d\" points=\"62.9142,-45.2892 57.6538,-36.0925 56.0309,-46.5623 62.9142,-45.2892\"/>\n",
       "</g>\n",
       "<!-- Z&#45;&gt;X -->\n",
       "<g id=\"edge3\" class=\"edge\"><title>Z&#45;&gt;X</title>\n",
       "<path fill=\"none\" stroke=\"#ff638d\" d=\"M33.3986,-72.411C36.5136,-64.3352 40.3337,-54.4312 43.8346,-45.3547\"/>\n",
       "<polygon fill=\"#ff638d\" stroke=\"#ff638d\" points=\"47.1265,-46.5458 47.4597,-35.9562 40.5955,-44.0267 47.1265,-46.5458\"/>\n",
       "</g>\n",
       "</g>\n",
       "</svg>\n"
      ],
      "text/plain": [
       "<graphviz.dot.Digraph at 0x7f5a50d6b590>"
      ]
     },
     "execution_count": 38,
     "metadata": {},
     "output_type": "execute_result"
    }
   ],
   "source": [
    "# Third-highest scoring graph\n",
    "pgmpyToGraph(scoresAndDags[2][1])"
   ]
  },
  {
   "cell_type": "code",
   "execution_count": 39,
   "metadata": {
    "lines_to_next_cell": 0,
    "title": "codecell"
   },
   "outputs": [
    {
     "data": {
      "image/svg+xml": [
       "<?xml version=\"1.0\" encoding=\"UTF-8\" standalone=\"no\"?>\n",
       "<!DOCTYPE svg PUBLIC \"-//W3C//DTD SVG 1.1//EN\"\n",
       " \"http://www.w3.org/Graphics/SVG/1.1/DTD/svg11.dtd\">\n",
       "<!-- Generated by graphviz version 2.38.0 (20140413.2041)\n",
       " -->\n",
       "<!-- Title: G Pages: 1 -->\n",
       "<svg width=\"89pt\" height=\"188pt\"\n",
       " viewBox=\"0.00 0.00 89.00 188.00\" xmlns=\"http://www.w3.org/2000/svg\" xmlns:xlink=\"http://www.w3.org/1999/xlink\">\n",
       "<g id=\"graph0\" class=\"graph\" transform=\"scale(1 1) rotate(0) translate(4 184)\">\n",
       "<title>G</title>\n",
       "<polygon fill=\"white\" stroke=\"none\" points=\"-4,4 -4,-184 85,-184 85,4 -4,4\"/>\n",
       "<!-- X -->\n",
       "<g id=\"node1\" class=\"node\"><title>X</title>\n",
       "<defs>\n",
       "<linearGradient id=\"l_0\" gradientUnits=\"userSpaceOnUse\" x1=\"27\" y1=\"-72\" x2=\"27\" y2=\"-108\" >\n",
       "<stop offset=\"0\" style=\"stop-color:#ceccff;stop-opacity:1.;\"/>\n",
       "<stop offset=\"1\" style=\"stop-color:white;stop-opacity:1.;\"/>\n",
       "</linearGradient>\n",
       "</defs>\n",
       "<ellipse fill=\"url(#l_0)\" stroke=\"#ff638d\" cx=\"27\" cy=\"-90\" rx=\"27\" ry=\"18\"/>\n",
       "<text text-anchor=\"middle\" x=\"27\" y=\"-86.9\" font-family=\"Acme-Regular.ttf\" font-size=\"12.00\">X</text>\n",
       "</g>\n",
       "<!-- Z -->\n",
       "<g id=\"node2\" class=\"node\"><title>Z</title>\n",
       "<defs>\n",
       "<linearGradient id=\"l_1\" gradientUnits=\"userSpaceOnUse\" x1=\"54\" y1=\"-1.77636e-14\" x2=\"54\" y2=\"-36\" >\n",
       "<stop offset=\"0\" style=\"stop-color:#ceccff;stop-opacity:1.;\"/>\n",
       "<stop offset=\"1\" style=\"stop-color:white;stop-opacity:1.;\"/>\n",
       "</linearGradient>\n",
       "</defs>\n",
       "<ellipse fill=\"url(#l_1)\" stroke=\"#ff638d\" cx=\"54\" cy=\"-18\" rx=\"27\" ry=\"18\"/>\n",
       "<text text-anchor=\"middle\" x=\"54\" y=\"-14.9\" font-family=\"Acme-Regular.ttf\" font-size=\"12.00\">Z</text>\n",
       "</g>\n",
       "<!-- X&#45;&gt;Z -->\n",
       "<g id=\"edge1\" class=\"edge\"><title>X&#45;&gt;Z</title>\n",
       "<path fill=\"none\" stroke=\"#ff638d\" d=\"M33.3986,-72.411C36.5136,-64.3352 40.3337,-54.4312 43.8346,-45.3547\"/>\n",
       "<polygon fill=\"#ff638d\" stroke=\"#ff638d\" points=\"47.1265,-46.5458 47.4597,-35.9562 40.5955,-44.0267 47.1265,-46.5458\"/>\n",
       "</g>\n",
       "<!-- Y -->\n",
       "<g id=\"node3\" class=\"node\"><title>Y</title>\n",
       "<defs>\n",
       "<linearGradient id=\"l_2\" gradientUnits=\"userSpaceOnUse\" x1=\"54\" y1=\"-144\" x2=\"54\" y2=\"-180\" >\n",
       "<stop offset=\"0\" style=\"stop-color:#ceccff;stop-opacity:1.;\"/>\n",
       "<stop offset=\"1\" style=\"stop-color:white;stop-opacity:1.;\"/>\n",
       "</linearGradient>\n",
       "</defs>\n",
       "<ellipse fill=\"url(#l_2)\" stroke=\"#ff638d\" cx=\"54\" cy=\"-162\" rx=\"27\" ry=\"18\"/>\n",
       "<text text-anchor=\"middle\" x=\"54\" y=\"-158.9\" font-family=\"Acme-Regular.ttf\" font-size=\"12.00\">Y</text>\n",
       "</g>\n",
       "<!-- Y&#45;&gt;X -->\n",
       "<g id=\"edge3\" class=\"edge\"><title>Y&#45;&gt;X</title>\n",
       "<path fill=\"none\" stroke=\"#ff638d\" d=\"M47.6014,-144.411C44.4864,-136.335 40.6663,-126.431 37.1654,-117.355\"/>\n",
       "<polygon fill=\"#ff638d\" stroke=\"#ff638d\" points=\"40.4045,-116.027 33.5403,-107.956 33.8735,-118.546 40.4045,-116.027\"/>\n",
       "</g>\n",
       "<!-- Y&#45;&gt;Z -->\n",
       "<g id=\"edge2\" class=\"edge\"><title>Y&#45;&gt;Z</title>\n",
       "<path fill=\"none\" stroke=\"#ff638d\" d=\"M57.6538,-143.908C59.6758,-133.569 61.9808,-120.09 63,-108 64.3441,-92.0566 64.3441,-87.9434 63,-72 62.2834,-63.4991 60.9311,-54.3119 59.4884,-46.0122\"/>\n",
       "<polygon fill=\"#ff638d\" stroke=\"#ff638d\" points=\"62.9142,-45.2892 57.6538,-36.0925 56.0309,-46.5623 62.9142,-45.2892\"/>\n",
       "</g>\n",
       "</g>\n",
       "</svg>\n"
      ],
      "text/plain": [
       "<graphviz.dot.Digraph at 0x7f5a50d74710>"
      ]
     },
     "execution_count": 39,
     "metadata": {},
     "output_type": "execute_result"
    }
   ],
   "source": [
    "# Fourth-highest scoring graph\n",
    "pgmpyToGraph(scoresAndDags[3][1])"
   ]
  },
  {
   "cell_type": "code",
   "execution_count": 40,
   "metadata": {
    "lines_to_next_cell": 0,
    "title": "codecell"
   },
   "outputs": [
    {
     "data": {
      "image/svg+xml": [
       "<?xml version=\"1.0\" encoding=\"UTF-8\" standalone=\"no\"?>\n",
       "<!DOCTYPE svg PUBLIC \"-//W3C//DTD SVG 1.1//EN\"\n",
       " \"http://www.w3.org/Graphics/SVG/1.1/DTD/svg11.dtd\">\n",
       "<!-- Generated by graphviz version 2.38.0 (20140413.2041)\n",
       " -->\n",
       "<!-- Title: G Pages: 1 -->\n",
       "<svg width=\"89pt\" height=\"188pt\"\n",
       " viewBox=\"0.00 0.00 89.00 188.00\" xmlns=\"http://www.w3.org/2000/svg\" xmlns:xlink=\"http://www.w3.org/1999/xlink\">\n",
       "<g id=\"graph0\" class=\"graph\" transform=\"scale(1 1) rotate(0) translate(4 184)\">\n",
       "<title>G</title>\n",
       "<polygon fill=\"white\" stroke=\"none\" points=\"-4,4 -4,-184 85,-184 85,4 -4,4\"/>\n",
       "<!-- X -->\n",
       "<g id=\"node1\" class=\"node\"><title>X</title>\n",
       "<defs>\n",
       "<linearGradient id=\"l_0\" gradientUnits=\"userSpaceOnUse\" x1=\"27\" y1=\"-72\" x2=\"27\" y2=\"-108\" >\n",
       "<stop offset=\"0\" style=\"stop-color:#ceccff;stop-opacity:1.;\"/>\n",
       "<stop offset=\"1\" style=\"stop-color:white;stop-opacity:1.;\"/>\n",
       "</linearGradient>\n",
       "</defs>\n",
       "<ellipse fill=\"url(#l_0)\" stroke=\"#ff638d\" cx=\"27\" cy=\"-90\" rx=\"27\" ry=\"18\"/>\n",
       "<text text-anchor=\"middle\" x=\"27\" y=\"-86.9\" font-family=\"Acme-Regular.ttf\" font-size=\"12.00\">X</text>\n",
       "</g>\n",
       "<!-- Y -->\n",
       "<g id=\"node2\" class=\"node\"><title>Y</title>\n",
       "<defs>\n",
       "<linearGradient id=\"l_1\" gradientUnits=\"userSpaceOnUse\" x1=\"54\" y1=\"-1.77636e-14\" x2=\"54\" y2=\"-36\" >\n",
       "<stop offset=\"0\" style=\"stop-color:#ceccff;stop-opacity:1.;\"/>\n",
       "<stop offset=\"1\" style=\"stop-color:white;stop-opacity:1.;\"/>\n",
       "</linearGradient>\n",
       "</defs>\n",
       "<ellipse fill=\"url(#l_1)\" stroke=\"#ff638d\" cx=\"54\" cy=\"-18\" rx=\"27\" ry=\"18\"/>\n",
       "<text text-anchor=\"middle\" x=\"54\" y=\"-14.9\" font-family=\"Acme-Regular.ttf\" font-size=\"12.00\">Y</text>\n",
       "</g>\n",
       "<!-- X&#45;&gt;Y -->\n",
       "<g id=\"edge1\" class=\"edge\"><title>X&#45;&gt;Y</title>\n",
       "<path fill=\"none\" stroke=\"#ff638d\" d=\"M33.3986,-72.411C36.5136,-64.3352 40.3337,-54.4312 43.8346,-45.3547\"/>\n",
       "<polygon fill=\"#ff638d\" stroke=\"#ff638d\" points=\"47.1265,-46.5458 47.4597,-35.9562 40.5955,-44.0267 47.1265,-46.5458\"/>\n",
       "</g>\n",
       "<!-- Z -->\n",
       "<g id=\"node3\" class=\"node\"><title>Z</title>\n",
       "<defs>\n",
       "<linearGradient id=\"l_2\" gradientUnits=\"userSpaceOnUse\" x1=\"54\" y1=\"-144\" x2=\"54\" y2=\"-180\" >\n",
       "<stop offset=\"0\" style=\"stop-color:#ceccff;stop-opacity:1.;\"/>\n",
       "<stop offset=\"1\" style=\"stop-color:white;stop-opacity:1.;\"/>\n",
       "</linearGradient>\n",
       "</defs>\n",
       "<ellipse fill=\"url(#l_2)\" stroke=\"#ff638d\" cx=\"54\" cy=\"-162\" rx=\"27\" ry=\"18\"/>\n",
       "<text text-anchor=\"middle\" x=\"54\" y=\"-158.9\" font-family=\"Acme-Regular.ttf\" font-size=\"12.00\">Z</text>\n",
       "</g>\n",
       "<!-- Z&#45;&gt;X -->\n",
       "<g id=\"edge2\" class=\"edge\"><title>Z&#45;&gt;X</title>\n",
       "<path fill=\"none\" stroke=\"#ff638d\" d=\"M47.6014,-144.411C44.4864,-136.335 40.6663,-126.431 37.1654,-117.355\"/>\n",
       "<polygon fill=\"#ff638d\" stroke=\"#ff638d\" points=\"40.4045,-116.027 33.5403,-107.956 33.8735,-118.546 40.4045,-116.027\"/>\n",
       "</g>\n",
       "<!-- Z&#45;&gt;Y -->\n",
       "<g id=\"edge3\" class=\"edge\"><title>Z&#45;&gt;Y</title>\n",
       "<path fill=\"none\" stroke=\"#ff638d\" d=\"M57.6538,-143.908C59.6758,-133.569 61.9808,-120.09 63,-108 64.3441,-92.0566 64.3441,-87.9434 63,-72 62.2834,-63.4991 60.9311,-54.3119 59.4884,-46.0122\"/>\n",
       "<polygon fill=\"#ff638d\" stroke=\"#ff638d\" points=\"62.9142,-45.2892 57.6538,-36.0925 56.0309,-46.5623 62.9142,-45.2892\"/>\n",
       "</g>\n",
       "</g>\n",
       "</svg>\n"
      ],
      "text/plain": [
       "<graphviz.dot.Digraph at 0x7f5a50d90150>"
      ]
     },
     "execution_count": 40,
     "metadata": {},
     "output_type": "execute_result"
    }
   ],
   "source": [
    "# Fifth-highest scoring graph\n",
    "pgmpyToGraph(scoresAndDags[4][1])"
   ]
  },
  {
   "cell_type": "code",
   "execution_count": 41,
   "metadata": {
    "title": "codecell"
   },
   "outputs": [
    {
     "data": {
      "image/svg+xml": [
       "<?xml version=\"1.0\" encoding=\"UTF-8\" standalone=\"no\"?>\n",
       "<!DOCTYPE svg PUBLIC \"-//W3C//DTD SVG 1.1//EN\"\n",
       " \"http://www.w3.org/Graphics/SVG/1.1/DTD/svg11.dtd\">\n",
       "<!-- Generated by graphviz version 2.38.0 (20140413.2041)\n",
       " -->\n",
       "<!-- Title: G Pages: 1 -->\n",
       "<svg width=\"90pt\" height=\"188pt\"\n",
       " viewBox=\"0.00 0.00 90.00 188.00\" xmlns=\"http://www.w3.org/2000/svg\" xmlns:xlink=\"http://www.w3.org/1999/xlink\">\n",
       "<g id=\"graph0\" class=\"graph\" transform=\"scale(1 1) rotate(0) translate(4 184)\">\n",
       "<title>G</title>\n",
       "<polygon fill=\"white\" stroke=\"none\" points=\"-4,4 -4,-184 86,-184 86,4 -4,4\"/>\n",
       "<!-- X -->\n",
       "<g id=\"node1\" class=\"node\"><title>X</title>\n",
       "<defs>\n",
       "<linearGradient id=\"l_0\" gradientUnits=\"userSpaceOnUse\" x1=\"27\" y1=\"-144\" x2=\"27\" y2=\"-180\" >\n",
       "<stop offset=\"0\" style=\"stop-color:#ceccff;stop-opacity:1.;\"/>\n",
       "<stop offset=\"1\" style=\"stop-color:white;stop-opacity:1.;\"/>\n",
       "</linearGradient>\n",
       "</defs>\n",
       "<ellipse fill=\"url(#l_0)\" stroke=\"#ff638d\" cx=\"27\" cy=\"-162\" rx=\"27\" ry=\"18\"/>\n",
       "<text text-anchor=\"middle\" x=\"27\" y=\"-158.9\" font-family=\"Acme-Regular.ttf\" font-size=\"12.00\">X</text>\n",
       "</g>\n",
       "<!-- Y -->\n",
       "<g id=\"node2\" class=\"node\"><title>Y</title>\n",
       "<defs>\n",
       "<linearGradient id=\"l_1\" gradientUnits=\"userSpaceOnUse\" x1=\"27\" y1=\"-1.77636e-14\" x2=\"27\" y2=\"-36\" >\n",
       "<stop offset=\"0\" style=\"stop-color:#ceccff;stop-opacity:1.;\"/>\n",
       "<stop offset=\"1\" style=\"stop-color:white;stop-opacity:1.;\"/>\n",
       "</linearGradient>\n",
       "</defs>\n",
       "<ellipse fill=\"url(#l_1)\" stroke=\"#ff638d\" cx=\"27\" cy=\"-18\" rx=\"27\" ry=\"18\"/>\n",
       "<text text-anchor=\"middle\" x=\"27\" y=\"-14.9\" font-family=\"Acme-Regular.ttf\" font-size=\"12.00\">Y</text>\n",
       "</g>\n",
       "<!-- X&#45;&gt;Y -->\n",
       "<g id=\"edge1\" class=\"edge\"><title>X&#45;&gt;Y</title>\n",
       "<path fill=\"none\" stroke=\"#ff638d\" d=\"M23.7517,-143.888C21.9542,-133.542 19.9053,-120.063 19,-108 17.8026,-92.0449 17.8026,-87.9551 19,-72 19.6366,-63.5179 20.8384,-54.3361 22.1208,-46.0356\"/>\n",
       "<polygon fill=\"#ff638d\" stroke=\"#ff638d\" points=\"25.5836,-46.5472 23.7517,-36.1119 18.6763,-45.412 25.5836,-46.5472\"/>\n",
       "</g>\n",
       "<!-- Z -->\n",
       "<g id=\"node3\" class=\"node\"><title>Z</title>\n",
       "<defs>\n",
       "<linearGradient id=\"l_2\" gradientUnits=\"userSpaceOnUse\" x1=\"55\" y1=\"-72\" x2=\"55\" y2=\"-108\" >\n",
       "<stop offset=\"0\" style=\"stop-color:#ceccff;stop-opacity:1.;\"/>\n",
       "<stop offset=\"1\" style=\"stop-color:white;stop-opacity:1.;\"/>\n",
       "</linearGradient>\n",
       "</defs>\n",
       "<ellipse fill=\"url(#l_2)\" stroke=\"#ff638d\" cx=\"55\" cy=\"-90\" rx=\"27\" ry=\"18\"/>\n",
       "<text text-anchor=\"middle\" x=\"55\" y=\"-86.9\" font-family=\"Acme-Regular.ttf\" font-size=\"12.00\">Z</text>\n",
       "</g>\n",
       "<!-- X&#45;&gt;Z -->\n",
       "<g id=\"edge2\" class=\"edge\"><title>X&#45;&gt;Z</title>\n",
       "<path fill=\"none\" stroke=\"#ff638d\" d=\"M33.6356,-144.411C36.9134,-136.216 40.9442,-126.14 44.6181,-116.955\"/>\n",
       "<polygon fill=\"#ff638d\" stroke=\"#ff638d\" points=\"47.9477,-118.055 48.412,-107.47 41.4484,-115.455 47.9477,-118.055\"/>\n",
       "</g>\n",
       "<!-- Z&#45;&gt;Y -->\n",
       "<g id=\"edge3\" class=\"edge\"><title>Z&#45;&gt;Y</title>\n",
       "<path fill=\"none\" stroke=\"#ff638d\" d=\"M48.3644,-72.411C45.0866,-64.2164 41.0558,-54.1395 37.3819,-44.9548\"/>\n",
       "<polygon fill=\"#ff638d\" stroke=\"#ff638d\" points=\"40.5516,-43.4548 33.588,-35.4699 34.0523,-46.0546 40.5516,-43.4548\"/>\n",
       "</g>\n",
       "</g>\n",
       "</svg>\n"
      ],
      "text/plain": [
       "<graphviz.dot.Digraph at 0x7f5a50d905d0>"
      ]
     },
     "execution_count": 41,
     "metadata": {},
     "output_type": "execute_result"
    }
   ],
   "source": [
    "# Sixth-highest scoring graph\n",
    "pgmpyToGraph(scoresAndDags[5][1])"
   ]
  },
  {
   "cell_type": "code",
   "execution_count": 42,
   "metadata": {
    "lines_to_next_cell": 0,
    "title": "codecell"
   },
   "outputs": [
    {
     "data": {
      "image/svg+xml": [
       "<?xml version=\"1.0\" encoding=\"UTF-8\" standalone=\"no\"?>\n",
       "<!DOCTYPE svg PUBLIC \"-//W3C//DTD SVG 1.1//EN\"\n",
       " \"http://www.w3.org/Graphics/SVG/1.1/DTD/svg11.dtd\">\n",
       "<!-- Generated by graphviz version 2.38.0 (20140413.2041)\n",
       " -->\n",
       "<!-- Title: G Pages: 1 -->\n",
       "<svg width=\"62pt\" height=\"116pt\"\n",
       " viewBox=\"0.00 0.00 62.00 116.00\" xmlns=\"http://www.w3.org/2000/svg\" xmlns:xlink=\"http://www.w3.org/1999/xlink\">\n",
       "<g id=\"graph0\" class=\"graph\" transform=\"scale(1 1) rotate(0) translate(4 112)\">\n",
       "<title>G</title>\n",
       "<polygon fill=\"white\" stroke=\"none\" points=\"-4,4 -4,-112 58,-112 58,4 -4,4\"/>\n",
       "<!-- X -->\n",
       "<g id=\"node1\" class=\"node\"><title>X</title>\n",
       "<defs>\n",
       "<linearGradient id=\"l_0\" gradientUnits=\"userSpaceOnUse\" x1=\"27\" y1=\"-72\" x2=\"27\" y2=\"-108\" >\n",
       "<stop offset=\"0\" style=\"stop-color:#ceccff;stop-opacity:1.;\"/>\n",
       "<stop offset=\"1\" style=\"stop-color:white;stop-opacity:1.;\"/>\n",
       "</linearGradient>\n",
       "</defs>\n",
       "<ellipse fill=\"url(#l_0)\" stroke=\"#ff638d\" cx=\"27\" cy=\"-90\" rx=\"27\" ry=\"18\"/>\n",
       "<text text-anchor=\"middle\" x=\"27\" y=\"-86.9\" font-family=\"Acme-Regular.ttf\" font-size=\"12.00\">X</text>\n",
       "</g>\n",
       "<!-- Y -->\n",
       "<g id=\"node2\" class=\"node\"><title>Y</title>\n",
       "<defs>\n",
       "<linearGradient id=\"l_1\" gradientUnits=\"userSpaceOnUse\" x1=\"27\" y1=\"-1.77636e-14\" x2=\"27\" y2=\"-36\" >\n",
       "<stop offset=\"0\" style=\"stop-color:#ceccff;stop-opacity:1.;\"/>\n",
       "<stop offset=\"1\" style=\"stop-color:white;stop-opacity:1.;\"/>\n",
       "</linearGradient>\n",
       "</defs>\n",
       "<ellipse fill=\"url(#l_1)\" stroke=\"#ff638d\" cx=\"27\" cy=\"-18\" rx=\"27\" ry=\"18\"/>\n",
       "<text text-anchor=\"middle\" x=\"27\" y=\"-14.9\" font-family=\"Acme-Regular.ttf\" font-size=\"12.00\">Y</text>\n",
       "</g>\n",
       "<!-- X&#45;&gt;Y -->\n",
       "<g id=\"edge1\" class=\"edge\"><title>X&#45;&gt;Y</title>\n",
       "<path fill=\"none\" stroke=\"#ff638d\" d=\"M27,-71.6966C27,-63.9827 27,-54.7125 27,-46.1124\"/>\n",
       "<polygon fill=\"#ff638d\" stroke=\"#ff638d\" points=\"30.5001,-46.1043 27,-36.1043 23.5001,-46.1044 30.5001,-46.1043\"/>\n",
       "</g>\n",
       "</g>\n",
       "</svg>\n"
      ],
      "text/plain": [
       "<graphviz.dot.Digraph at 0x7f5a50d92250>"
      ]
     },
     "execution_count": 42,
     "metadata": {},
     "output_type": "execute_result"
    }
   ],
   "source": [
    "# Worst graph:\n",
    "pgmpyToGraph(scoresAndDags[LEN-1][1])"
   ]
  },
  {
   "cell_type": "code",
   "execution_count": 43,
   "metadata": {
    "title": "codecell"
   },
   "outputs": [
    {
     "data": {
      "image/svg+xml": [
       "<?xml version=\"1.0\" encoding=\"UTF-8\" standalone=\"no\"?>\n",
       "<!DOCTYPE svg PUBLIC \"-//W3C//DTD SVG 1.1//EN\"\n",
       " \"http://www.w3.org/Graphics/SVG/1.1/DTD/svg11.dtd\">\n",
       "<!-- Generated by graphviz version 2.38.0 (20140413.2041)\n",
       " -->\n",
       "<!-- Title: G Pages: 1 -->\n",
       "<svg width=\"62pt\" height=\"116pt\"\n",
       " viewBox=\"0.00 0.00 62.00 116.00\" xmlns=\"http://www.w3.org/2000/svg\" xmlns:xlink=\"http://www.w3.org/1999/xlink\">\n",
       "<g id=\"graph0\" class=\"graph\" transform=\"scale(1 1) rotate(0) translate(4 112)\">\n",
       "<title>G</title>\n",
       "<polygon fill=\"white\" stroke=\"none\" points=\"-4,4 -4,-112 58,-112 58,4 -4,4\"/>\n",
       "<!-- Y -->\n",
       "<g id=\"node1\" class=\"node\"><title>Y</title>\n",
       "<defs>\n",
       "<linearGradient id=\"l_0\" gradientUnits=\"userSpaceOnUse\" x1=\"27\" y1=\"-72\" x2=\"27\" y2=\"-108\" >\n",
       "<stop offset=\"0\" style=\"stop-color:#ceccff;stop-opacity:1.;\"/>\n",
       "<stop offset=\"1\" style=\"stop-color:white;stop-opacity:1.;\"/>\n",
       "</linearGradient>\n",
       "</defs>\n",
       "<ellipse fill=\"url(#l_0)\" stroke=\"#ff638d\" cx=\"27\" cy=\"-90\" rx=\"27\" ry=\"18\"/>\n",
       "<text text-anchor=\"middle\" x=\"27\" y=\"-86.9\" font-family=\"Acme-Regular.ttf\" font-size=\"12.00\">Y</text>\n",
       "</g>\n",
       "<!-- X -->\n",
       "<g id=\"node2\" class=\"node\"><title>X</title>\n",
       "<defs>\n",
       "<linearGradient id=\"l_1\" gradientUnits=\"userSpaceOnUse\" x1=\"27\" y1=\"-1.77636e-14\" x2=\"27\" y2=\"-36\" >\n",
       "<stop offset=\"0\" style=\"stop-color:#ceccff;stop-opacity:1.;\"/>\n",
       "<stop offset=\"1\" style=\"stop-color:white;stop-opacity:1.;\"/>\n",
       "</linearGradient>\n",
       "</defs>\n",
       "<ellipse fill=\"url(#l_1)\" stroke=\"#ff638d\" cx=\"27\" cy=\"-18\" rx=\"27\" ry=\"18\"/>\n",
       "<text text-anchor=\"middle\" x=\"27\" y=\"-14.9\" font-family=\"Acme-Regular.ttf\" font-size=\"12.00\">X</text>\n",
       "</g>\n",
       "<!-- Y&#45;&gt;X -->\n",
       "<g id=\"edge1\" class=\"edge\"><title>Y&#45;&gt;X</title>\n",
       "<path fill=\"none\" stroke=\"#ff638d\" d=\"M27,-71.6966C27,-63.9827 27,-54.7125 27,-46.1124\"/>\n",
       "<polygon fill=\"#ff638d\" stroke=\"#ff638d\" points=\"30.5001,-46.1043 27,-36.1043 23.5001,-46.1044 30.5001,-46.1043\"/>\n",
       "</g>\n",
       "</g>\n",
       "</svg>\n"
      ],
      "text/plain": [
       "<graphviz.dot.Digraph at 0x7f5a50d92790>"
      ]
     },
     "execution_count": 43,
     "metadata": {},
     "output_type": "execute_result"
    }
   ],
   "source": [
    "# Second-worst graph:\n",
    "pgmpyToGraph(scoresAndDags[LEN-2][1])"
   ]
  },
  {
   "cell_type": "markdown",
   "metadata": {
    "lines_to_next_cell": 0,
    "title": "markdown"
   },
   "source": [
    "**Example 2:* Fruit data"
   ]
  },
  {
   "cell_type": "code",
   "execution_count": 44,
   "metadata": {
    "title": "codecell"
   },
   "outputs": [
    {
     "data": {
      "text/plain": [
       "OutEdgeView([])"
      ]
     },
     "execution_count": 44,
     "metadata": {},
     "output_type": "execute_result"
    }
   ],
   "source": [
    "es: ExhaustiveSearch = ExhaustiveSearch(data = fruitData, scoring_method = bicFruit)\n",
    "bestFruitModel: DAG = es.estimate()\n",
    "\n",
    "bestFruitModel.edges()\n",
    "# TODO why is this empty?"
   ]
  },
  {
   "cell_type": "markdown",
   "metadata": {
    "lines_to_next_cell": 0,
    "title": "markdown"
   },
   "source": [
    "#### Heuristic Search\n",
    "Once more ndoes are involved we need to switch to heuristic search. The `HillClimbSearch` implements a greedy local search that starts from the DAG `start` (default disconnected DAG) and proceeds by iteratively performing single-edge manipulations that maximally increase the score. The search terminates once a local maximum is found.\n",
    "\n",
    "**Example 1:** $Z = X + Y$"
   ]
  },
  {
   "cell_type": "code",
   "execution_count": 45,
   "metadata": {
    "lines_to_next_cell": 0,
    "title": "codecell"
   },
   "outputs": [],
   "source": [
    "from pgmpy.estimators import HillClimbSearch\n",
    "\n",
    "# Create data with dependencies:\n",
    "data: DataFrame = DataFrame(np.random.randint(low = 0, high = 3, size=(2500,8)),\n",
    "                            columns = list('ABCDEFGH'))\n",
    "data['A'] += data['B'] + data['C']\n",
    "data['H'] = data['G'] - data['A']\n",
    "\n",
    "\n",
    "hc = HillClimbSearch(data = data, scoring_method = BicScore(data))\n",
    "\n",
    "bestModel = hc.estimate()"
   ]
  },
  {
   "cell_type": "code",
   "execution_count": 46,
   "metadata": {
    "lines_to_next_cell": 0,
    "title": "codecell"
   },
   "outputs": [
    {
     "data": {
      "text/plain": [
       "OutEdgeView([('A', 'B'), ('A', 'C'), ('C', 'B'), ('G', 'A'), ('G', 'H'), ('H', 'A')])"
      ]
     },
     "execution_count": 46,
     "metadata": {},
     "output_type": "execute_result"
    }
   ],
   "source": [
    "bestModel.edges()"
   ]
  },
  {
   "cell_type": "code",
   "execution_count": 47,
   "metadata": {
    "title": "codecell"
   },
   "outputs": [
    {
     "data": {
      "image/svg+xml": [
       "<?xml version=\"1.0\" encoding=\"UTF-8\" standalone=\"no\"?>\n",
       "<!DOCTYPE svg PUBLIC \"-//W3C//DTD SVG 1.1//EN\"\n",
       " \"http://www.w3.org/Graphics/SVG/1.1/DTD/svg11.dtd\">\n",
       "<!-- Generated by graphviz version 2.38.0 (20140413.2041)\n",
       " -->\n",
       "<!-- Title: G Pages: 1 -->\n",
       "<svg width=\"90pt\" height=\"332pt\"\n",
       " viewBox=\"0.00 0.00 90.00 332.00\" xmlns=\"http://www.w3.org/2000/svg\" xmlns:xlink=\"http://www.w3.org/1999/xlink\">\n",
       "<g id=\"graph0\" class=\"graph\" transform=\"scale(1 1) rotate(0) translate(4 328)\">\n",
       "<title>G</title>\n",
       "<polygon fill=\"white\" stroke=\"none\" points=\"-4,4 -4,-328 86,-328 86,4 -4,4\"/>\n",
       "<!-- A -->\n",
       "<g id=\"node1\" class=\"node\"><title>A</title>\n",
       "<defs>\n",
       "<linearGradient id=\"l_0\" gradientUnits=\"userSpaceOnUse\" x1=\"27\" y1=\"-144\" x2=\"27\" y2=\"-180\" >\n",
       "<stop offset=\"0\" style=\"stop-color:#ceccff;stop-opacity:1.;\"/>\n",
       "<stop offset=\"1\" style=\"stop-color:white;stop-opacity:1.;\"/>\n",
       "</linearGradient>\n",
       "</defs>\n",
       "<ellipse fill=\"url(#l_0)\" stroke=\"#ff638d\" cx=\"27\" cy=\"-162\" rx=\"27\" ry=\"18\"/>\n",
       "<text text-anchor=\"middle\" x=\"27\" y=\"-158.9\" font-family=\"Acme-Regular.ttf\" font-size=\"12.00\">A</text>\n",
       "</g>\n",
       "<!-- B -->\n",
       "<g id=\"node2\" class=\"node\"><title>B</title>\n",
       "<defs>\n",
       "<linearGradient id=\"l_1\" gradientUnits=\"userSpaceOnUse\" x1=\"27\" y1=\"-1.77636e-14\" x2=\"27\" y2=\"-36\" >\n",
       "<stop offset=\"0\" style=\"stop-color:#ceccff;stop-opacity:1.;\"/>\n",
       "<stop offset=\"1\" style=\"stop-color:white;stop-opacity:1.;\"/>\n",
       "</linearGradient>\n",
       "</defs>\n",
       "<ellipse fill=\"url(#l_1)\" stroke=\"#ff638d\" cx=\"27\" cy=\"-18\" rx=\"27\" ry=\"18\"/>\n",
       "<text text-anchor=\"middle\" x=\"27\" y=\"-14.9\" font-family=\"Acme-Regular.ttf\" font-size=\"12.00\">B</text>\n",
       "</g>\n",
       "<!-- A&#45;&gt;B -->\n",
       "<g id=\"edge1\" class=\"edge\"><title>A&#45;&gt;B</title>\n",
       "<path fill=\"none\" stroke=\"#ff638d\" d=\"M23.7517,-143.888C21.9542,-133.542 19.9053,-120.063 19,-108 17.8026,-92.0449 17.8026,-87.9551 19,-72 19.6366,-63.5179 20.8384,-54.3361 22.1208,-46.0356\"/>\n",
       "<polygon fill=\"#ff638d\" stroke=\"#ff638d\" points=\"25.5836,-46.5472 23.7517,-36.1119 18.6763,-45.412 25.5836,-46.5472\"/>\n",
       "</g>\n",
       "<!-- C -->\n",
       "<g id=\"node3\" class=\"node\"><title>C</title>\n",
       "<defs>\n",
       "<linearGradient id=\"l_2\" gradientUnits=\"userSpaceOnUse\" x1=\"55\" y1=\"-72\" x2=\"55\" y2=\"-108\" >\n",
       "<stop offset=\"0\" style=\"stop-color:#ceccff;stop-opacity:1.;\"/>\n",
       "<stop offset=\"1\" style=\"stop-color:white;stop-opacity:1.;\"/>\n",
       "</linearGradient>\n",
       "</defs>\n",
       "<ellipse fill=\"url(#l_2)\" stroke=\"#ff638d\" cx=\"55\" cy=\"-90\" rx=\"27\" ry=\"18\"/>\n",
       "<text text-anchor=\"middle\" x=\"55\" y=\"-86.9\" font-family=\"Acme-Regular.ttf\" font-size=\"12.00\">C</text>\n",
       "</g>\n",
       "<!-- A&#45;&gt;C -->\n",
       "<g id=\"edge2\" class=\"edge\"><title>A&#45;&gt;C</title>\n",
       "<path fill=\"none\" stroke=\"#ff638d\" d=\"M33.6356,-144.411C36.9134,-136.216 40.9442,-126.14 44.6181,-116.955\"/>\n",
       "<polygon fill=\"#ff638d\" stroke=\"#ff638d\" points=\"47.9477,-118.055 48.412,-107.47 41.4484,-115.455 47.9477,-118.055\"/>\n",
       "</g>\n",
       "<!-- C&#45;&gt;B -->\n",
       "<g id=\"edge3\" class=\"edge\"><title>C&#45;&gt;B</title>\n",
       "<path fill=\"none\" stroke=\"#ff638d\" d=\"M48.3644,-72.411C45.0866,-64.2164 41.0558,-54.1395 37.3819,-44.9548\"/>\n",
       "<polygon fill=\"#ff638d\" stroke=\"#ff638d\" points=\"40.5516,-43.4548 33.588,-35.4699 34.0523,-46.0546 40.5516,-43.4548\"/>\n",
       "</g>\n",
       "<!-- G -->\n",
       "<g id=\"node4\" class=\"node\"><title>G</title>\n",
       "<defs>\n",
       "<linearGradient id=\"l_3\" gradientUnits=\"userSpaceOnUse\" x1=\"27\" y1=\"-288\" x2=\"27\" y2=\"-324\" >\n",
       "<stop offset=\"0\" style=\"stop-color:#ceccff;stop-opacity:1.;\"/>\n",
       "<stop offset=\"1\" style=\"stop-color:white;stop-opacity:1.;\"/>\n",
       "</linearGradient>\n",
       "</defs>\n",
       "<ellipse fill=\"url(#l_3)\" stroke=\"#ff638d\" cx=\"27\" cy=\"-306\" rx=\"27\" ry=\"18\"/>\n",
       "<text text-anchor=\"middle\" x=\"27\" y=\"-302.9\" font-family=\"Acme-Regular.ttf\" font-size=\"12.00\">G</text>\n",
       "</g>\n",
       "<!-- G&#45;&gt;A -->\n",
       "<g id=\"edge4\" class=\"edge\"><title>G&#45;&gt;A</title>\n",
       "<path fill=\"none\" stroke=\"#ff638d\" d=\"M23.7517,-287.888C21.9542,-277.542 19.9053,-264.063 19,-252 17.8026,-236.045 17.8026,-231.955 19,-216 19.6366,-207.518 20.8384,-198.336 22.1208,-190.036\"/>\n",
       "<polygon fill=\"#ff638d\" stroke=\"#ff638d\" points=\"25.5836,-190.547 23.7517,-180.112 18.6763,-189.412 25.5836,-190.547\"/>\n",
       "</g>\n",
       "<!-- H -->\n",
       "<g id=\"node5\" class=\"node\"><title>H</title>\n",
       "<defs>\n",
       "<linearGradient id=\"l_4\" gradientUnits=\"userSpaceOnUse\" x1=\"55\" y1=\"-216\" x2=\"55\" y2=\"-252\" >\n",
       "<stop offset=\"0\" style=\"stop-color:#ceccff;stop-opacity:1.;\"/>\n",
       "<stop offset=\"1\" style=\"stop-color:white;stop-opacity:1.;\"/>\n",
       "</linearGradient>\n",
       "</defs>\n",
       "<ellipse fill=\"url(#l_4)\" stroke=\"#ff638d\" cx=\"55\" cy=\"-234\" rx=\"27\" ry=\"18\"/>\n",
       "<text text-anchor=\"middle\" x=\"55\" y=\"-230.9\" font-family=\"Acme-Regular.ttf\" font-size=\"12.00\">H</text>\n",
       "</g>\n",
       "<!-- G&#45;&gt;H -->\n",
       "<g id=\"edge5\" class=\"edge\"><title>G&#45;&gt;H</title>\n",
       "<path fill=\"none\" stroke=\"#ff638d\" d=\"M33.6356,-288.411C36.9134,-280.216 40.9442,-270.14 44.6181,-260.955\"/>\n",
       "<polygon fill=\"#ff638d\" stroke=\"#ff638d\" points=\"47.9477,-262.055 48.412,-251.47 41.4484,-259.455 47.9477,-262.055\"/>\n",
       "</g>\n",
       "<!-- H&#45;&gt;A -->\n",
       "<g id=\"edge6\" class=\"edge\"><title>H&#45;&gt;A</title>\n",
       "<path fill=\"none\" stroke=\"#ff638d\" d=\"M48.3644,-216.411C45.0866,-208.216 41.0558,-198.14 37.3819,-188.955\"/>\n",
       "<polygon fill=\"#ff638d\" stroke=\"#ff638d\" points=\"40.5516,-187.455 33.588,-179.47 34.0523,-190.055 40.5516,-187.455\"/>\n",
       "</g>\n",
       "</g>\n",
       "</svg>\n"
      ],
      "text/plain": [
       "<graphviz.dot.Digraph at 0x7f5a50d22e50>"
      ]
     },
     "execution_count": 47,
     "metadata": {},
     "output_type": "execute_result"
    }
   ],
   "source": [
    "pgmpyToGraph(bestModel)"
   ]
  },
  {
   "cell_type": "markdown",
   "metadata": {
    "lines_to_next_cell": 0,
    "title": "markdown"
   },
   "source": [
    "The search correctly identifies that $B$ and $C$ do not influence $H$ directly, only through $A$ and of course that $D$, $E$, $F$ are independent.\n",
    "\n",
    "To enforce a wider exploration of the search space, the search can be enhanced with a tabu list. The list keeps track of the last n modfications; those are then not allowed to be reversed, regardless of the score. Additionally a `white_list` or `black_list` can be supplied to restrict the search to a particular subset or to exclude certain edges. The parameter `max_indegree` allows to restrict the maximum number of parents for each node.\n",
    "\n",
    "**Example 2:** Fruit data"
   ]
  },
  {
   "cell_type": "code",
   "execution_count": 48,
   "metadata": {
    "title": "codecell"
   },
   "outputs": [
    {
     "data": {
      "text/plain": [
       "OutEdgeView([])"
      ]
     },
     "execution_count": 48,
     "metadata": {},
     "output_type": "execute_result"
    }
   ],
   "source": [
    "hc = HillClimbSearch(fruitData, scoring_method = BicScore(fruitData))\n",
    "bestFruitModel: DAG = hc.estimate()\n",
    "\n",
    "bestFruitModel.edges()\n",
    "#pgmpyToGraph(bestFruitModel)\n",
    "\n",
    "# TODO why is this empty??\n",
    "\n"
   ]
  },
  {
   "cell_type": "markdown",
   "metadata": {
    "lines_to_next_cell": 0,
    "title": "markdown"
   },
   "source": [
    "### Constraint-Based Structure Learning\n",
    "A different but straightforward approach to build a DAG from data is:\n",
    "1. Identify independencies in the data set using hypothesis tests\n",
    "2. Construct DAG (pattern) according to these independencies.\n",
    "\n",
    "#### Conditional Independence Tests\n",
    "Independencies in the data can be identified using $\\chi$-squared conditional independence hypothesis tests. Constraint-based estimators in pgmpy have a `test_conditional_independence(X, Y, Z)` method that performs a hypothesis test on the data sample to check if $X$ is independent from $Y$ given a set of variables $Z$s.\n",
    "\n",
    "**Example 1:** Linear Relationships Data"
   ]
  },
  {
   "cell_type": "code",
   "execution_count": 49,
   "metadata": {
    "title": "codecell"
   },
   "outputs": [],
   "source": [
    "from pgmpy.estimators import ConstraintBasedEstimator\n",
    "\n",
    "data: DataFrame = DataFrame(data = np.random.randint(low=0, high=3, size=(2500,8)),\n",
    "                            columns=list('ABCDEFGH'))\n",
    "data['A'] += data['B'] + data['C']\n",
    "data['H'] = data['G'] - data['A']\n",
    "data['E'] *= data['F']\n",
    "\n",
    "est: ConstraintBasedEstimator = ConstraintBasedEstimator(data = data)\n",
    "\n",
    "\n",
    "assert not est.test_conditional_independence('B', 'H')\n",
    "assert est.test_conditional_independence('B', 'E')\n",
    "assert not est.test_conditional_independence('A', 'B')\n",
    "\n",
    "assert est.test_conditional_independence(X = 'B', Y = 'H', Zs = ['A'])\n",
    "\n",
    "assert est.test_conditional_independence('A', 'G')\n",
    "\n",
    "assert not est.test_conditional_independence('A', 'G', Zs = ['H'])\n",
    "assert not est.test_conditional_independence('A', 'H', Zs = ['G'])"
   ]
  },
  {
   "cell_type": "markdown",
   "metadata": {
    "lines_to_next_cell": 0,
    "title": "markdown"
   },
   "source": [
    "`test_conditional_independence()` returns a triple `(chi2, pValue, sufficientData)` consisting of the computed $\\chi$-squared test statistic, the `pValue` of the test, and a heuristic flag that indicates if the sample size was sufficient. The `pValue` is the probability of observing the computed $\\chi$-squared statistic (or an even higher $\\chi$-squared value) given the null hypothesis that $X$ and $Y$ are independent given $Z$s.\n",
    "\n",
    "$\\color{red}{\\text{TODO: this is not true!}}$\n",
    "\n",
    "#### DAG (pattern) Construction\n",
    "Can now construct a DAG from the data set in three steps:\n",
    "\n",
    "1. `estimate_skeleton()`: Construct an undirected skeleton using `estimate_skeleton()`. The job of `estimate_skeleton()` is: to estimate a graph skeleton (UndirectedGraph) for the data set. Uses the `build_skeleton` method (PC algorithm); independencies are determined using a chisquare statistic with the acceptance threshold of `significance_level`. Returns\n",
    "   * `skeleton`: `UndirectedGraph` = An estimate for the undirected graph skeleton of the BN underlying the data.\n",
    "   * `separating_sets`: dict = A dict containing for each pair of not directly connected nodes a separating set of variables that makes them conditionally independent. (needed for edge orientation procedures)\n",
    "2. `skeleton_to_pdag()`: Orient compelled edges to obtain partially directed acyclic graph (PDAG, I-equivalence class of DAGs) using `skeleton_to_pdag()`, which takes the outputted `skeleton` and `separating_sets` to create a DAG pattern. Returns:\n",
    "      * pdag: `DAG` = An estimate for the DAG pattern of the BN underlying the data. The graph might contain some nodes with both-way edges (X->Y and Y->X). Any completion by (removing one of the both-way edges for each such pair) results in a I-equivalent Bayesian network DAG.\n",
    "3. `pdag_to_dag()`: Extend DAG pattern to a DAG by conservatively orienting the remaining edges in some way, using `pdag_to_dag()`.Completes a PDAG to a DAG, without adding v-structures, if such a completion exists. If no faithful extension is possible, some fully oriented DAG that corresponds to the PDAG is returned and a warning is generated. This is a static method. Returns:\n",
    "      * dag: `DAG` = A faithful orientation of pdag, if one exists. Otherwise any fully orientated DAG/BayesianModel with the structure of pdag.\n",
    "\n",
    "PDAGs are `DirectedGraph`s that may contain both-way edges, to indicate that the orientation for the edge is not determined."
   ]
  },
  {
   "cell_type": "code",
   "execution_count": 50,
   "metadata": {
    "lines_to_next_cell": 0,
    "title": "codecell"
   },
   "outputs": [
    {
     "name": "stdout",
     "output_type": "stream",
     "text": [
      "Undirected edges:  [('A', 'B'), ('A', 'C'), ('A', 'H'), ('E', 'F'), ('G', 'H')]\n"
     ]
    }
   ],
   "source": [
    "from pgmpy.base.UndirectedGraph import UndirectedGraph\n",
    "\n",
    "skel, separatingSets = est.estimate_skeleton(significance_level = 0.01)\n",
    "skel: UndirectedGraph = skel\n",
    "\n",
    "print(\"Undirected edges: \", skel.edges())"
   ]
  },
  {
   "cell_type": "code",
   "execution_count": 51,
   "metadata": {
    "lines_to_next_cell": 0,
    "title": "codecell"
   },
   "outputs": [
    {
     "data": {
      "text/plain": [
       "{frozenset({'A', 'D'}): (),\n",
       " frozenset({'A', 'E'}): (),\n",
       " frozenset({'A', 'F'}): (),\n",
       " frozenset({'A', 'G'}): (),\n",
       " frozenset({'B', 'C'}): (),\n",
       " frozenset({'B', 'D'}): (),\n",
       " frozenset({'B', 'E'}): (),\n",
       " frozenset({'B', 'F'}): (),\n",
       " frozenset({'B', 'G'}): (),\n",
       " frozenset({'C', 'D'}): (),\n",
       " frozenset({'C', 'E'}): (),\n",
       " frozenset({'C', 'F'}): (),\n",
       " frozenset({'C', 'G'}): (),\n",
       " frozenset({'D', 'E'}): (),\n",
       " frozenset({'D', 'F'}): (),\n",
       " frozenset({'D', 'G'}): (),\n",
       " frozenset({'D', 'H'}): (),\n",
       " frozenset({'E', 'G'}): (),\n",
       " frozenset({'E', 'H'}): (),\n",
       " frozenset({'F', 'G'}): (),\n",
       " frozenset({'F', 'H'}): (),\n",
       " frozenset({'B', 'H'}): ('A',),\n",
       " frozenset({'C', 'H'}): ('A',)}"
      ]
     },
     "execution_count": 51,
     "metadata": {},
     "output_type": "execute_result"
    }
   ],
   "source": [
    "separatingSets"
   ]
  },
  {
   "cell_type": "code",
   "execution_count": 52,
   "metadata": {
    "title": "codecell"
   },
   "outputs": [
    {
     "data": {
      "image/svg+xml": [
       "<?xml version=\"1.0\" encoding=\"UTF-8\" standalone=\"no\"?>\n",
       "<!DOCTYPE svg PUBLIC \"-//W3C//DTD SVG 1.1//EN\"\n",
       " \"http://www.w3.org/Graphics/SVG/1.1/DTD/svg11.dtd\">\n",
       "<!-- Generated by graphviz version 2.38.0 (20140413.2041)\n",
       " -->\n",
       "<!-- Title: G Pages: 1 -->\n",
       "<svg width=\"278pt\" height=\"116pt\"\n",
       " viewBox=\"0.00 0.00 278.00 116.00\" xmlns=\"http://www.w3.org/2000/svg\" xmlns:xlink=\"http://www.w3.org/1999/xlink\">\n",
       "<g id=\"graph0\" class=\"graph\" transform=\"scale(1 1) rotate(0) translate(4 112)\">\n",
       "<title>G</title>\n",
       "<polygon fill=\"white\" stroke=\"none\" points=\"-4,4 -4,-112 274,-112 274,4 -4,4\"/>\n",
       "<!-- A -->\n",
       "<g id=\"node1\" class=\"node\"><title>A</title>\n",
       "<defs>\n",
       "<linearGradient id=\"l_0\" gradientUnits=\"userSpaceOnUse\" x1=\"99\" y1=\"-72\" x2=\"99\" y2=\"-108\" >\n",
       "<stop offset=\"0\" style=\"stop-color:#ceccff;stop-opacity:1.;\"/>\n",
       "<stop offset=\"1\" style=\"stop-color:white;stop-opacity:1.;\"/>\n",
       "</linearGradient>\n",
       "</defs>\n",
       "<ellipse fill=\"url(#l_0)\" stroke=\"#ff638d\" cx=\"99\" cy=\"-90\" rx=\"27\" ry=\"18\"/>\n",
       "<text text-anchor=\"middle\" x=\"99\" y=\"-86.9\" font-family=\"Acme-Regular.ttf\" font-size=\"12.00\">A</text>\n",
       "</g>\n",
       "<!-- B -->\n",
       "<g id=\"node2\" class=\"node\"><title>B</title>\n",
       "<defs>\n",
       "<linearGradient id=\"l_1\" gradientUnits=\"userSpaceOnUse\" x1=\"27\" y1=\"-1.77636e-14\" x2=\"27\" y2=\"-36\" >\n",
       "<stop offset=\"0\" style=\"stop-color:#ceccff;stop-opacity:1.;\"/>\n",
       "<stop offset=\"1\" style=\"stop-color:white;stop-opacity:1.;\"/>\n",
       "</linearGradient>\n",
       "</defs>\n",
       "<ellipse fill=\"url(#l_1)\" stroke=\"#ff638d\" cx=\"27\" cy=\"-18\" rx=\"27\" ry=\"18\"/>\n",
       "<text text-anchor=\"middle\" x=\"27\" y=\"-14.9\" font-family=\"Acme-Regular.ttf\" font-size=\"12.00\">B</text>\n",
       "</g>\n",
       "<!-- A&#45;&gt;B -->\n",
       "<g id=\"edge1\" class=\"edge\"><title>A&#45;&gt;B</title>\n",
       "<path fill=\"none\" stroke=\"#ff638d\" d=\"M84.4297,-74.8345C74.2501,-64.9376 60.4761,-51.5462 48.9694,-40.3591\"/>\n",
       "<polygon fill=\"#ff638d\" stroke=\"#ff638d\" points=\"51.4055,-37.8461 41.7957,-33.3847 46.5259,-42.865 51.4055,-37.8461\"/>\n",
       "</g>\n",
       "<!-- C -->\n",
       "<g id=\"node3\" class=\"node\"><title>C</title>\n",
       "<defs>\n",
       "<linearGradient id=\"l_2\" gradientUnits=\"userSpaceOnUse\" x1=\"99\" y1=\"-1.77636e-14\" x2=\"99\" y2=\"-36\" >\n",
       "<stop offset=\"0\" style=\"stop-color:#ceccff;stop-opacity:1.;\"/>\n",
       "<stop offset=\"1\" style=\"stop-color:white;stop-opacity:1.;\"/>\n",
       "</linearGradient>\n",
       "</defs>\n",
       "<ellipse fill=\"url(#l_2)\" stroke=\"#ff638d\" cx=\"99\" cy=\"-18\" rx=\"27\" ry=\"18\"/>\n",
       "<text text-anchor=\"middle\" x=\"99\" y=\"-14.9\" font-family=\"Acme-Regular.ttf\" font-size=\"12.00\">C</text>\n",
       "</g>\n",
       "<!-- A&#45;&gt;C -->\n",
       "<g id=\"edge2\" class=\"edge\"><title>A&#45;&gt;C</title>\n",
       "<path fill=\"none\" stroke=\"#ff638d\" d=\"M99,-71.6966C99,-63.9827 99,-54.7125 99,-46.1124\"/>\n",
       "<polygon fill=\"#ff638d\" stroke=\"#ff638d\" points=\"102.5,-46.1043 99,-36.1043 95.5001,-46.1044 102.5,-46.1043\"/>\n",
       "</g>\n",
       "<!-- H -->\n",
       "<g id=\"node4\" class=\"node\"><title>H</title>\n",
       "<defs>\n",
       "<linearGradient id=\"l_3\" gradientUnits=\"userSpaceOnUse\" x1=\"171\" y1=\"-1.77636e-14\" x2=\"171\" y2=\"-36\" >\n",
       "<stop offset=\"0\" style=\"stop-color:#ceccff;stop-opacity:1.;\"/>\n",
       "<stop offset=\"1\" style=\"stop-color:white;stop-opacity:1.;\"/>\n",
       "</linearGradient>\n",
       "</defs>\n",
       "<ellipse fill=\"url(#l_3)\" stroke=\"#ff638d\" cx=\"171\" cy=\"-18\" rx=\"27\" ry=\"18\"/>\n",
       "<text text-anchor=\"middle\" x=\"171\" y=\"-14.9\" font-family=\"Acme-Regular.ttf\" font-size=\"12.00\">H</text>\n",
       "</g>\n",
       "<!-- A&#45;&gt;H -->\n",
       "<g id=\"edge3\" class=\"edge\"><title>A&#45;&gt;H</title>\n",
       "<path fill=\"none\" stroke=\"#ff638d\" d=\"M113.57,-74.8345C123.75,-64.9376 137.524,-51.5462 149.031,-40.3591\"/>\n",
       "<polygon fill=\"#ff638d\" stroke=\"#ff638d\" points=\"151.474,-42.865 156.204,-33.3847 146.595,-37.8461 151.474,-42.865\"/>\n",
       "</g>\n",
       "<!-- E -->\n",
       "<g id=\"node5\" class=\"node\"><title>E</title>\n",
       "<defs>\n",
       "<linearGradient id=\"l_4\" gradientUnits=\"userSpaceOnUse\" x1=\"243\" y1=\"-72\" x2=\"243\" y2=\"-108\" >\n",
       "<stop offset=\"0\" style=\"stop-color:#ceccff;stop-opacity:1.;\"/>\n",
       "<stop offset=\"1\" style=\"stop-color:white;stop-opacity:1.;\"/>\n",
       "</linearGradient>\n",
       "</defs>\n",
       "<ellipse fill=\"url(#l_4)\" stroke=\"#ff638d\" cx=\"243\" cy=\"-90\" rx=\"27\" ry=\"18\"/>\n",
       "<text text-anchor=\"middle\" x=\"243\" y=\"-86.9\" font-family=\"Acme-Regular.ttf\" font-size=\"12.00\">E</text>\n",
       "</g>\n",
       "<!-- F -->\n",
       "<g id=\"node6\" class=\"node\"><title>F</title>\n",
       "<defs>\n",
       "<linearGradient id=\"l_5\" gradientUnits=\"userSpaceOnUse\" x1=\"243\" y1=\"-1.77636e-14\" x2=\"243\" y2=\"-36\" >\n",
       "<stop offset=\"0\" style=\"stop-color:#ceccff;stop-opacity:1.;\"/>\n",
       "<stop offset=\"1\" style=\"stop-color:white;stop-opacity:1.;\"/>\n",
       "</linearGradient>\n",
       "</defs>\n",
       "<ellipse fill=\"url(#l_5)\" stroke=\"#ff638d\" cx=\"243\" cy=\"-18\" rx=\"27\" ry=\"18\"/>\n",
       "<text text-anchor=\"middle\" x=\"243\" y=\"-14.9\" font-family=\"Acme-Regular.ttf\" font-size=\"12.00\">F</text>\n",
       "</g>\n",
       "<!-- E&#45;&gt;F -->\n",
       "<g id=\"edge4\" class=\"edge\"><title>E&#45;&gt;F</title>\n",
       "<path fill=\"none\" stroke=\"#ff638d\" d=\"M243,-71.6966C243,-63.9827 243,-54.7125 243,-46.1124\"/>\n",
       "<polygon fill=\"#ff638d\" stroke=\"#ff638d\" points=\"246.5,-46.1043 243,-36.1043 239.5,-46.1044 246.5,-46.1043\"/>\n",
       "</g>\n",
       "<!-- G -->\n",
       "<g id=\"node7\" class=\"node\"><title>G</title>\n",
       "<defs>\n",
       "<linearGradient id=\"l_6\" gradientUnits=\"userSpaceOnUse\" x1=\"171\" y1=\"-72\" x2=\"171\" y2=\"-108\" >\n",
       "<stop offset=\"0\" style=\"stop-color:#ceccff;stop-opacity:1.;\"/>\n",
       "<stop offset=\"1\" style=\"stop-color:white;stop-opacity:1.;\"/>\n",
       "</linearGradient>\n",
       "</defs>\n",
       "<ellipse fill=\"url(#l_6)\" stroke=\"#ff638d\" cx=\"171\" cy=\"-90\" rx=\"27\" ry=\"18\"/>\n",
       "<text text-anchor=\"middle\" x=\"171\" y=\"-86.9\" font-family=\"Acme-Regular.ttf\" font-size=\"12.00\">G</text>\n",
       "</g>\n",
       "<!-- G&#45;&gt;H -->\n",
       "<g id=\"edge5\" class=\"edge\"><title>G&#45;&gt;H</title>\n",
       "<path fill=\"none\" stroke=\"#ff638d\" d=\"M171,-71.6966C171,-63.9827 171,-54.7125 171,-46.1124\"/>\n",
       "<polygon fill=\"#ff638d\" stroke=\"#ff638d\" points=\"174.5,-46.1043 171,-36.1043 167.5,-46.1044 174.5,-46.1043\"/>\n",
       "</g>\n",
       "</g>\n",
       "</svg>\n"
      ],
      "text/plain": [
       "<graphviz.dot.Digraph at 0x7f5a509237d0>"
      ]
     },
     "execution_count": 52,
     "metadata": {},
     "output_type": "execute_result"
    }
   ],
   "source": [
    "# Remember this draws the graph as directed, but in fact the edges are undirected.\n",
    "pgmpyToGraph(skel)"
   ]
  },
  {
   "cell_type": "code",
   "execution_count": 53,
   "metadata": {
    "lines_to_next_cell": 0,
    "title": "codecell"
   },
   "outputs": [
    {
     "name": "stdout",
     "output_type": "stream",
     "text": [
      "PDAG edges:  [('A', 'H'), ('B', 'A'), ('C', 'A'), ('E', 'F'), ('F', 'E'), ('G', 'H')]\n"
     ]
    }
   ],
   "source": [
    "from networkx.classes.digraph import DiGraph\n",
    "\n",
    "pdag: DiGraph = est.skeleton_to_pdag(skel = skel, separating_sets = separatingSets)\n",
    "\n",
    "print(\"PDAG edges: \", pdag.edges())"
   ]
  },
  {
   "cell_type": "code",
   "execution_count": 54,
   "metadata": {
    "title": "codecell"
   },
   "outputs": [
    {
     "data": {
      "image/svg+xml": [
       "<?xml version=\"1.0\" encoding=\"UTF-8\" standalone=\"no\"?>\n",
       "<!DOCTYPE svg PUBLIC \"-//W3C//DTD SVG 1.1//EN\"\n",
       " \"http://www.w3.org/Graphics/SVG/1.1/DTD/svg11.dtd\">\n",
       "<!-- Generated by graphviz version 2.38.0 (20140413.2041)\n",
       " -->\n",
       "<!-- Title: G Pages: 1 -->\n",
       "<svg width=\"206pt\" height=\"188pt\"\n",
       " viewBox=\"0.00 0.00 206.00 188.00\" xmlns=\"http://www.w3.org/2000/svg\" xmlns:xlink=\"http://www.w3.org/1999/xlink\">\n",
       "<g id=\"graph0\" class=\"graph\" transform=\"scale(1 1) rotate(0) translate(4 184)\">\n",
       "<title>G</title>\n",
       "<polygon fill=\"white\" stroke=\"none\" points=\"-4,4 -4,-184 202,-184 202,4 -4,4\"/>\n",
       "<!-- A -->\n",
       "<g id=\"node1\" class=\"node\"><title>A</title>\n",
       "<defs>\n",
       "<linearGradient id=\"l_0\" gradientUnits=\"userSpaceOnUse\" x1=\"99\" y1=\"-72\" x2=\"99\" y2=\"-108\" >\n",
       "<stop offset=\"0\" style=\"stop-color:#ceccff;stop-opacity:1.;\"/>\n",
       "<stop offset=\"1\" style=\"stop-color:white;stop-opacity:1.;\"/>\n",
       "</linearGradient>\n",
       "</defs>\n",
       "<ellipse fill=\"url(#l_0)\" stroke=\"#ff638d\" cx=\"99\" cy=\"-90\" rx=\"27\" ry=\"18\"/>\n",
       "<text text-anchor=\"middle\" x=\"99\" y=\"-86.9\" font-family=\"Acme-Regular.ttf\" font-size=\"12.00\">A</text>\n",
       "</g>\n",
       "<!-- H -->\n",
       "<g id=\"node2\" class=\"node\"><title>H</title>\n",
       "<defs>\n",
       "<linearGradient id=\"l_1\" gradientUnits=\"userSpaceOnUse\" x1=\"63\" y1=\"-1.77636e-14\" x2=\"63\" y2=\"-36\" >\n",
       "<stop offset=\"0\" style=\"stop-color:#ceccff;stop-opacity:1.;\"/>\n",
       "<stop offset=\"1\" style=\"stop-color:white;stop-opacity:1.;\"/>\n",
       "</linearGradient>\n",
       "</defs>\n",
       "<ellipse fill=\"url(#l_1)\" stroke=\"#ff638d\" cx=\"63\" cy=\"-18\" rx=\"27\" ry=\"18\"/>\n",
       "<text text-anchor=\"middle\" x=\"63\" y=\"-14.9\" font-family=\"Acme-Regular.ttf\" font-size=\"12.00\">H</text>\n",
       "</g>\n",
       "<!-- A&#45;&gt;H -->\n",
       "<g id=\"edge1\" class=\"edge\"><title>A&#45;&gt;H</title>\n",
       "<path fill=\"none\" stroke=\"#ff638d\" d=\"M90.6504,-72.7646C86.2885,-64.2831 80.8531,-53.7144 75.9587,-44.1974\"/>\n",
       "<polygon fill=\"#ff638d\" stroke=\"#ff638d\" points=\"78.9904,-42.4395 71.3043,-35.1473 72.7654,-45.6409 78.9904,-42.4395\"/>\n",
       "</g>\n",
       "<!-- B -->\n",
       "<g id=\"node3\" class=\"node\"><title>B</title>\n",
       "<defs>\n",
       "<linearGradient id=\"l_2\" gradientUnits=\"userSpaceOnUse\" x1=\"27\" y1=\"-144\" x2=\"27\" y2=\"-180\" >\n",
       "<stop offset=\"0\" style=\"stop-color:#ceccff;stop-opacity:1.;\"/>\n",
       "<stop offset=\"1\" style=\"stop-color:white;stop-opacity:1.;\"/>\n",
       "</linearGradient>\n",
       "</defs>\n",
       "<ellipse fill=\"url(#l_2)\" stroke=\"#ff638d\" cx=\"27\" cy=\"-162\" rx=\"27\" ry=\"18\"/>\n",
       "<text text-anchor=\"middle\" x=\"27\" y=\"-158.9\" font-family=\"Acme-Regular.ttf\" font-size=\"12.00\">B</text>\n",
       "</g>\n",
       "<!-- B&#45;&gt;A -->\n",
       "<g id=\"edge2\" class=\"edge\"><title>B&#45;&gt;A</title>\n",
       "<path fill=\"none\" stroke=\"#ff638d\" d=\"M41.5703,-146.834C51.7499,-136.938 65.5239,-123.546 77.0306,-112.359\"/>\n",
       "<polygon fill=\"#ff638d\" stroke=\"#ff638d\" points=\"79.4741,-114.865 84.2043,-105.385 74.5945,-109.846 79.4741,-114.865\"/>\n",
       "</g>\n",
       "<!-- C -->\n",
       "<g id=\"node4\" class=\"node\"><title>C</title>\n",
       "<defs>\n",
       "<linearGradient id=\"l_3\" gradientUnits=\"userSpaceOnUse\" x1=\"99\" y1=\"-144\" x2=\"99\" y2=\"-180\" >\n",
       "<stop offset=\"0\" style=\"stop-color:#ceccff;stop-opacity:1.;\"/>\n",
       "<stop offset=\"1\" style=\"stop-color:white;stop-opacity:1.;\"/>\n",
       "</linearGradient>\n",
       "</defs>\n",
       "<ellipse fill=\"url(#l_3)\" stroke=\"#ff638d\" cx=\"99\" cy=\"-162\" rx=\"27\" ry=\"18\"/>\n",
       "<text text-anchor=\"middle\" x=\"99\" y=\"-158.9\" font-family=\"Acme-Regular.ttf\" font-size=\"12.00\">C</text>\n",
       "</g>\n",
       "<!-- C&#45;&gt;A -->\n",
       "<g id=\"edge3\" class=\"edge\"><title>C&#45;&gt;A</title>\n",
       "<path fill=\"none\" stroke=\"#ff638d\" d=\"M99,-143.697C99,-135.983 99,-126.712 99,-118.112\"/>\n",
       "<polygon fill=\"#ff638d\" stroke=\"#ff638d\" points=\"102.5,-118.104 99,-108.104 95.5001,-118.104 102.5,-118.104\"/>\n",
       "</g>\n",
       "<!-- E -->\n",
       "<g id=\"node5\" class=\"node\"><title>E</title>\n",
       "<defs>\n",
       "<linearGradient id=\"l_4\" gradientUnits=\"userSpaceOnUse\" x1=\"171\" y1=\"-144\" x2=\"171\" y2=\"-180\" >\n",
       "<stop offset=\"0\" style=\"stop-color:#ceccff;stop-opacity:1.;\"/>\n",
       "<stop offset=\"1\" style=\"stop-color:white;stop-opacity:1.;\"/>\n",
       "</linearGradient>\n",
       "</defs>\n",
       "<ellipse fill=\"url(#l_4)\" stroke=\"#ff638d\" cx=\"171\" cy=\"-162\" rx=\"27\" ry=\"18\"/>\n",
       "<text text-anchor=\"middle\" x=\"171\" y=\"-158.9\" font-family=\"Acme-Regular.ttf\" font-size=\"12.00\">E</text>\n",
       "</g>\n",
       "<!-- F -->\n",
       "<g id=\"node6\" class=\"node\"><title>F</title>\n",
       "<defs>\n",
       "<linearGradient id=\"l_5\" gradientUnits=\"userSpaceOnUse\" x1=\"171\" y1=\"-72\" x2=\"171\" y2=\"-108\" >\n",
       "<stop offset=\"0\" style=\"stop-color:#ceccff;stop-opacity:1.;\"/>\n",
       "<stop offset=\"1\" style=\"stop-color:white;stop-opacity:1.;\"/>\n",
       "</linearGradient>\n",
       "</defs>\n",
       "<ellipse fill=\"url(#l_5)\" stroke=\"#ff638d\" cx=\"171\" cy=\"-90\" rx=\"27\" ry=\"18\"/>\n",
       "<text text-anchor=\"middle\" x=\"171\" y=\"-86.9\" font-family=\"Acme-Regular.ttf\" font-size=\"12.00\">F</text>\n",
       "</g>\n",
       "<!-- E&#45;&gt;F -->\n",
       "<g id=\"edge4\" class=\"edge\"><title>E&#45;&gt;F</title>\n",
       "<path fill=\"none\" stroke=\"#ff638d\" d=\"M165.16,-144.411C164.297,-136.507 164.048,-126.852 164.412,-117.935\"/>\n",
       "<polygon fill=\"#ff638d\" stroke=\"#ff638d\" points=\"167.903,-118.179 165.121,-107.956 160.921,-117.683 167.903,-118.179\"/>\n",
       "</g>\n",
       "<!-- F&#45;&gt;E -->\n",
       "<g id=\"edge5\" class=\"edge\"><title>F&#45;&gt;E</title>\n",
       "<path fill=\"none\" stroke=\"#ff638d\" d=\"M176.879,-107.956C177.714,-115.827 177.948,-125.374 177.583,-134.187\"/>\n",
       "<polygon fill=\"#ff638d\" stroke=\"#ff638d\" points=\"174.074,-134.184 176.84,-144.411 181.056,-134.691 174.074,-134.184\"/>\n",
       "</g>\n",
       "<!-- G -->\n",
       "<g id=\"node7\" class=\"node\"><title>G</title>\n",
       "<defs>\n",
       "<linearGradient id=\"l_6\" gradientUnits=\"userSpaceOnUse\" x1=\"27\" y1=\"-72\" x2=\"27\" y2=\"-108\" >\n",
       "<stop offset=\"0\" style=\"stop-color:#ceccff;stop-opacity:1.;\"/>\n",
       "<stop offset=\"1\" style=\"stop-color:white;stop-opacity:1.;\"/>\n",
       "</linearGradient>\n",
       "</defs>\n",
       "<ellipse fill=\"url(#l_6)\" stroke=\"#ff638d\" cx=\"27\" cy=\"-90\" rx=\"27\" ry=\"18\"/>\n",
       "<text text-anchor=\"middle\" x=\"27\" y=\"-86.9\" font-family=\"Acme-Regular.ttf\" font-size=\"12.00\">G</text>\n",
       "</g>\n",
       "<!-- G&#45;&gt;H -->\n",
       "<g id=\"edge6\" class=\"edge\"><title>G&#45;&gt;H</title>\n",
       "<path fill=\"none\" stroke=\"#ff638d\" d=\"M35.3496,-72.7646C39.7115,-64.2831 45.1469,-53.7144 50.0413,-44.1974\"/>\n",
       "<polygon fill=\"#ff638d\" stroke=\"#ff638d\" points=\"53.2346,-45.6409 54.6957,-35.1473 47.0096,-42.4395 53.2346,-45.6409\"/>\n",
       "</g>\n",
       "</g>\n",
       "</svg>\n"
      ],
      "text/plain": [
       "<graphviz.dot.Digraph at 0x7f5a50929f90>"
      ]
     },
     "execution_count": 54,
     "metadata": {},
     "output_type": "execute_result"
    }
   ],
   "source": [
    "pgmpyToGraph(pdag) # This is a directed graph (but how to show only partially?)"
   ]
  },
  {
   "cell_type": "code",
   "execution_count": 55,
   "metadata": {
    "lines_to_next_cell": 2,
    "title": "codecell"
   },
   "outputs": [
    {
     "name": "stdout",
     "output_type": "stream",
     "text": [
      "DAG edges:  [('A', 'H'), ('B', 'A'), ('C', 'A'), ('F', 'E'), ('G', 'H')]\n"
     ]
    },
    {
     "data": {
      "image/svg+xml": [
       "<?xml version=\"1.0\" encoding=\"UTF-8\" standalone=\"no\"?>\n",
       "<!DOCTYPE svg PUBLIC \"-//W3C//DTD SVG 1.1//EN\"\n",
       " \"http://www.w3.org/Graphics/SVG/1.1/DTD/svg11.dtd\">\n",
       "<!-- Generated by graphviz version 2.38.0 (20140413.2041)\n",
       " -->\n",
       "<!-- Title: G Pages: 1 -->\n",
       "<svg width=\"206pt\" height=\"188pt\"\n",
       " viewBox=\"0.00 0.00 206.00 188.00\" xmlns=\"http://www.w3.org/2000/svg\" xmlns:xlink=\"http://www.w3.org/1999/xlink\">\n",
       "<g id=\"graph0\" class=\"graph\" transform=\"scale(1 1) rotate(0) translate(4 184)\">\n",
       "<title>G</title>\n",
       "<polygon fill=\"white\" stroke=\"none\" points=\"-4,4 -4,-184 202,-184 202,4 -4,4\"/>\n",
       "<!-- A -->\n",
       "<g id=\"node1\" class=\"node\"><title>A</title>\n",
       "<defs>\n",
       "<linearGradient id=\"l_0\" gradientUnits=\"userSpaceOnUse\" x1=\"99\" y1=\"-72\" x2=\"99\" y2=\"-108\" >\n",
       "<stop offset=\"0\" style=\"stop-color:#ceccff;stop-opacity:1.;\"/>\n",
       "<stop offset=\"1\" style=\"stop-color:white;stop-opacity:1.;\"/>\n",
       "</linearGradient>\n",
       "</defs>\n",
       "<ellipse fill=\"url(#l_0)\" stroke=\"#ff638d\" cx=\"99\" cy=\"-90\" rx=\"27\" ry=\"18\"/>\n",
       "<text text-anchor=\"middle\" x=\"99\" y=\"-86.9\" font-family=\"Acme-Regular.ttf\" font-size=\"12.00\">A</text>\n",
       "</g>\n",
       "<!-- H -->\n",
       "<g id=\"node2\" class=\"node\"><title>H</title>\n",
       "<defs>\n",
       "<linearGradient id=\"l_1\" gradientUnits=\"userSpaceOnUse\" x1=\"63\" y1=\"-1.77636e-14\" x2=\"63\" y2=\"-36\" >\n",
       "<stop offset=\"0\" style=\"stop-color:#ceccff;stop-opacity:1.;\"/>\n",
       "<stop offset=\"1\" style=\"stop-color:white;stop-opacity:1.;\"/>\n",
       "</linearGradient>\n",
       "</defs>\n",
       "<ellipse fill=\"url(#l_1)\" stroke=\"#ff638d\" cx=\"63\" cy=\"-18\" rx=\"27\" ry=\"18\"/>\n",
       "<text text-anchor=\"middle\" x=\"63\" y=\"-14.9\" font-family=\"Acme-Regular.ttf\" font-size=\"12.00\">H</text>\n",
       "</g>\n",
       "<!-- A&#45;&gt;H -->\n",
       "<g id=\"edge1\" class=\"edge\"><title>A&#45;&gt;H</title>\n",
       "<path fill=\"none\" stroke=\"#ff638d\" d=\"M90.6504,-72.7646C86.2885,-64.2831 80.8531,-53.7144 75.9587,-44.1974\"/>\n",
       "<polygon fill=\"#ff638d\" stroke=\"#ff638d\" points=\"78.9904,-42.4395 71.3043,-35.1473 72.7654,-45.6409 78.9904,-42.4395\"/>\n",
       "</g>\n",
       "<!-- B -->\n",
       "<g id=\"node3\" class=\"node\"><title>B</title>\n",
       "<defs>\n",
       "<linearGradient id=\"l_2\" gradientUnits=\"userSpaceOnUse\" x1=\"27\" y1=\"-144\" x2=\"27\" y2=\"-180\" >\n",
       "<stop offset=\"0\" style=\"stop-color:#ceccff;stop-opacity:1.;\"/>\n",
       "<stop offset=\"1\" style=\"stop-color:white;stop-opacity:1.;\"/>\n",
       "</linearGradient>\n",
       "</defs>\n",
       "<ellipse fill=\"url(#l_2)\" stroke=\"#ff638d\" cx=\"27\" cy=\"-162\" rx=\"27\" ry=\"18\"/>\n",
       "<text text-anchor=\"middle\" x=\"27\" y=\"-158.9\" font-family=\"Acme-Regular.ttf\" font-size=\"12.00\">B</text>\n",
       "</g>\n",
       "<!-- B&#45;&gt;A -->\n",
       "<g id=\"edge2\" class=\"edge\"><title>B&#45;&gt;A</title>\n",
       "<path fill=\"none\" stroke=\"#ff638d\" d=\"M41.5703,-146.834C51.7499,-136.938 65.5239,-123.546 77.0306,-112.359\"/>\n",
       "<polygon fill=\"#ff638d\" stroke=\"#ff638d\" points=\"79.4741,-114.865 84.2043,-105.385 74.5945,-109.846 79.4741,-114.865\"/>\n",
       "</g>\n",
       "<!-- C -->\n",
       "<g id=\"node4\" class=\"node\"><title>C</title>\n",
       "<defs>\n",
       "<linearGradient id=\"l_3\" gradientUnits=\"userSpaceOnUse\" x1=\"99\" y1=\"-144\" x2=\"99\" y2=\"-180\" >\n",
       "<stop offset=\"0\" style=\"stop-color:#ceccff;stop-opacity:1.;\"/>\n",
       "<stop offset=\"1\" style=\"stop-color:white;stop-opacity:1.;\"/>\n",
       "</linearGradient>\n",
       "</defs>\n",
       "<ellipse fill=\"url(#l_3)\" stroke=\"#ff638d\" cx=\"99\" cy=\"-162\" rx=\"27\" ry=\"18\"/>\n",
       "<text text-anchor=\"middle\" x=\"99\" y=\"-158.9\" font-family=\"Acme-Regular.ttf\" font-size=\"12.00\">C</text>\n",
       "</g>\n",
       "<!-- C&#45;&gt;A -->\n",
       "<g id=\"edge3\" class=\"edge\"><title>C&#45;&gt;A</title>\n",
       "<path fill=\"none\" stroke=\"#ff638d\" d=\"M99,-143.697C99,-135.983 99,-126.712 99,-118.112\"/>\n",
       "<polygon fill=\"#ff638d\" stroke=\"#ff638d\" points=\"102.5,-118.104 99,-108.104 95.5001,-118.104 102.5,-118.104\"/>\n",
       "</g>\n",
       "<!-- F -->\n",
       "<g id=\"node5\" class=\"node\"><title>F</title>\n",
       "<defs>\n",
       "<linearGradient id=\"l_4\" gradientUnits=\"userSpaceOnUse\" x1=\"171\" y1=\"-144\" x2=\"171\" y2=\"-180\" >\n",
       "<stop offset=\"0\" style=\"stop-color:#ceccff;stop-opacity:1.;\"/>\n",
       "<stop offset=\"1\" style=\"stop-color:white;stop-opacity:1.;\"/>\n",
       "</linearGradient>\n",
       "</defs>\n",
       "<ellipse fill=\"url(#l_4)\" stroke=\"#ff638d\" cx=\"171\" cy=\"-162\" rx=\"27\" ry=\"18\"/>\n",
       "<text text-anchor=\"middle\" x=\"171\" y=\"-158.9\" font-family=\"Acme-Regular.ttf\" font-size=\"12.00\">F</text>\n",
       "</g>\n",
       "<!-- E -->\n",
       "<g id=\"node6\" class=\"node\"><title>E</title>\n",
       "<defs>\n",
       "<linearGradient id=\"l_5\" gradientUnits=\"userSpaceOnUse\" x1=\"171\" y1=\"-72\" x2=\"171\" y2=\"-108\" >\n",
       "<stop offset=\"0\" style=\"stop-color:#ceccff;stop-opacity:1.;\"/>\n",
       "<stop offset=\"1\" style=\"stop-color:white;stop-opacity:1.;\"/>\n",
       "</linearGradient>\n",
       "</defs>\n",
       "<ellipse fill=\"url(#l_5)\" stroke=\"#ff638d\" cx=\"171\" cy=\"-90\" rx=\"27\" ry=\"18\"/>\n",
       "<text text-anchor=\"middle\" x=\"171\" y=\"-86.9\" font-family=\"Acme-Regular.ttf\" font-size=\"12.00\">E</text>\n",
       "</g>\n",
       "<!-- F&#45;&gt;E -->\n",
       "<g id=\"edge4\" class=\"edge\"><title>F&#45;&gt;E</title>\n",
       "<path fill=\"none\" stroke=\"#ff638d\" d=\"M171,-143.697C171,-135.983 171,-126.712 171,-118.112\"/>\n",
       "<polygon fill=\"#ff638d\" stroke=\"#ff638d\" points=\"174.5,-118.104 171,-108.104 167.5,-118.104 174.5,-118.104\"/>\n",
       "</g>\n",
       "<!-- G -->\n",
       "<g id=\"node7\" class=\"node\"><title>G</title>\n",
       "<defs>\n",
       "<linearGradient id=\"l_6\" gradientUnits=\"userSpaceOnUse\" x1=\"27\" y1=\"-72\" x2=\"27\" y2=\"-108\" >\n",
       "<stop offset=\"0\" style=\"stop-color:#ceccff;stop-opacity:1.;\"/>\n",
       "<stop offset=\"1\" style=\"stop-color:white;stop-opacity:1.;\"/>\n",
       "</linearGradient>\n",
       "</defs>\n",
       "<ellipse fill=\"url(#l_6)\" stroke=\"#ff638d\" cx=\"27\" cy=\"-90\" rx=\"27\" ry=\"18\"/>\n",
       "<text text-anchor=\"middle\" x=\"27\" y=\"-86.9\" font-family=\"Acme-Regular.ttf\" font-size=\"12.00\">G</text>\n",
       "</g>\n",
       "<!-- G&#45;&gt;H -->\n",
       "<g id=\"edge5\" class=\"edge\"><title>G&#45;&gt;H</title>\n",
       "<path fill=\"none\" stroke=\"#ff638d\" d=\"M35.3496,-72.7646C39.7115,-64.2831 45.1469,-53.7144 50.0413,-44.1974\"/>\n",
       "<polygon fill=\"#ff638d\" stroke=\"#ff638d\" points=\"53.2346,-45.6409 54.6957,-35.1473 47.0096,-42.4395 53.2346,-45.6409\"/>\n",
       "</g>\n",
       "</g>\n",
       "</svg>\n"
      ],
      "text/plain": [
       "<graphviz.dot.Digraph at 0x7f5a50929ed0>"
      ]
     },
     "execution_count": 55,
     "metadata": {},
     "output_type": "execute_result"
    }
   ],
   "source": [
    "model: DAG = est.pdag_to_dag(pdag = pdag)\n",
    "print(\"DAG edges: \", model.edges())\n",
    "\n",
    "\n",
    "pgmpyToGraph(model)"
   ]
  },
  {
   "cell_type": "markdown",
   "metadata": {
    "lines_to_next_cell": 0,
    "title": "markdown"
   },
   "source": [
    "The `estimate()` method gives a shorthand for the three steps and directly reutrns a `BayesianModel`:\n",
    "\n",
    "$\\color{red}{\\text{TODO}}$ it is not actually a `BayesianModel` it is still a `DAG`"
   ]
  },
  {
   "cell_type": "code",
   "execution_count": 56,
   "metadata": {
    "lines_to_next_cell": 0,
    "title": "codecell"
   },
   "outputs": [
    {
     "data": {
      "text/plain": [
       "OutEdgeView([('A', 'H'), ('B', 'A'), ('C', 'A'), ('F', 'E'), ('G', 'H')])"
      ]
     },
     "execution_count": 56,
     "metadata": {},
     "output_type": "execute_result"
    }
   ],
   "source": [
    "estModel: DAG = est.estimate(significance_level = 0.01)\n",
    "\n",
    "assert estModel.edges() == model.edges(), \"Check: both methods of getting the estimated DAG are equivalent\"\n",
    "\n",
    "estModel.edges()"
   ]
  },
  {
   "cell_type": "code",
   "execution_count": 57,
   "metadata": {
    "title": "codecell"
   },
   "outputs": [
    {
     "data": {
      "image/svg+xml": [
       "<?xml version=\"1.0\" encoding=\"UTF-8\" standalone=\"no\"?>\n",
       "<!DOCTYPE svg PUBLIC \"-//W3C//DTD SVG 1.1//EN\"\n",
       " \"http://www.w3.org/Graphics/SVG/1.1/DTD/svg11.dtd\">\n",
       "<!-- Generated by graphviz version 2.38.0 (20140413.2041)\n",
       " -->\n",
       "<!-- Title: G Pages: 1 -->\n",
       "<svg width=\"206pt\" height=\"188pt\"\n",
       " viewBox=\"0.00 0.00 206.00 188.00\" xmlns=\"http://www.w3.org/2000/svg\" xmlns:xlink=\"http://www.w3.org/1999/xlink\">\n",
       "<g id=\"graph0\" class=\"graph\" transform=\"scale(1 1) rotate(0) translate(4 184)\">\n",
       "<title>G</title>\n",
       "<polygon fill=\"white\" stroke=\"none\" points=\"-4,4 -4,-184 202,-184 202,4 -4,4\"/>\n",
       "<!-- A -->\n",
       "<g id=\"node1\" class=\"node\"><title>A</title>\n",
       "<defs>\n",
       "<linearGradient id=\"l_0\" gradientUnits=\"userSpaceOnUse\" x1=\"99\" y1=\"-72\" x2=\"99\" y2=\"-108\" >\n",
       "<stop offset=\"0\" style=\"stop-color:#ceccff;stop-opacity:1.;\"/>\n",
       "<stop offset=\"1\" style=\"stop-color:white;stop-opacity:1.;\"/>\n",
       "</linearGradient>\n",
       "</defs>\n",
       "<ellipse fill=\"url(#l_0)\" stroke=\"#ff638d\" cx=\"99\" cy=\"-90\" rx=\"27\" ry=\"18\"/>\n",
       "<text text-anchor=\"middle\" x=\"99\" y=\"-86.9\" font-family=\"Acme-Regular.ttf\" font-size=\"12.00\">A</text>\n",
       "</g>\n",
       "<!-- H -->\n",
       "<g id=\"node2\" class=\"node\"><title>H</title>\n",
       "<defs>\n",
       "<linearGradient id=\"l_1\" gradientUnits=\"userSpaceOnUse\" x1=\"63\" y1=\"-1.77636e-14\" x2=\"63\" y2=\"-36\" >\n",
       "<stop offset=\"0\" style=\"stop-color:#ceccff;stop-opacity:1.;\"/>\n",
       "<stop offset=\"1\" style=\"stop-color:white;stop-opacity:1.;\"/>\n",
       "</linearGradient>\n",
       "</defs>\n",
       "<ellipse fill=\"url(#l_1)\" stroke=\"#ff638d\" cx=\"63\" cy=\"-18\" rx=\"27\" ry=\"18\"/>\n",
       "<text text-anchor=\"middle\" x=\"63\" y=\"-14.9\" font-family=\"Acme-Regular.ttf\" font-size=\"12.00\">H</text>\n",
       "</g>\n",
       "<!-- A&#45;&gt;H -->\n",
       "<g id=\"edge1\" class=\"edge\"><title>A&#45;&gt;H</title>\n",
       "<path fill=\"none\" stroke=\"#ff638d\" d=\"M90.6504,-72.7646C86.2885,-64.2831 80.8531,-53.7144 75.9587,-44.1974\"/>\n",
       "<polygon fill=\"#ff638d\" stroke=\"#ff638d\" points=\"78.9904,-42.4395 71.3043,-35.1473 72.7654,-45.6409 78.9904,-42.4395\"/>\n",
       "</g>\n",
       "<!-- B -->\n",
       "<g id=\"node3\" class=\"node\"><title>B</title>\n",
       "<defs>\n",
       "<linearGradient id=\"l_2\" gradientUnits=\"userSpaceOnUse\" x1=\"27\" y1=\"-144\" x2=\"27\" y2=\"-180\" >\n",
       "<stop offset=\"0\" style=\"stop-color:#ceccff;stop-opacity:1.;\"/>\n",
       "<stop offset=\"1\" style=\"stop-color:white;stop-opacity:1.;\"/>\n",
       "</linearGradient>\n",
       "</defs>\n",
       "<ellipse fill=\"url(#l_2)\" stroke=\"#ff638d\" cx=\"27\" cy=\"-162\" rx=\"27\" ry=\"18\"/>\n",
       "<text text-anchor=\"middle\" x=\"27\" y=\"-158.9\" font-family=\"Acme-Regular.ttf\" font-size=\"12.00\">B</text>\n",
       "</g>\n",
       "<!-- B&#45;&gt;A -->\n",
       "<g id=\"edge2\" class=\"edge\"><title>B&#45;&gt;A</title>\n",
       "<path fill=\"none\" stroke=\"#ff638d\" d=\"M41.5703,-146.834C51.7499,-136.938 65.5239,-123.546 77.0306,-112.359\"/>\n",
       "<polygon fill=\"#ff638d\" stroke=\"#ff638d\" points=\"79.4741,-114.865 84.2043,-105.385 74.5945,-109.846 79.4741,-114.865\"/>\n",
       "</g>\n",
       "<!-- C -->\n",
       "<g id=\"node4\" class=\"node\"><title>C</title>\n",
       "<defs>\n",
       "<linearGradient id=\"l_3\" gradientUnits=\"userSpaceOnUse\" x1=\"99\" y1=\"-144\" x2=\"99\" y2=\"-180\" >\n",
       "<stop offset=\"0\" style=\"stop-color:#ceccff;stop-opacity:1.;\"/>\n",
       "<stop offset=\"1\" style=\"stop-color:white;stop-opacity:1.;\"/>\n",
       "</linearGradient>\n",
       "</defs>\n",
       "<ellipse fill=\"url(#l_3)\" stroke=\"#ff638d\" cx=\"99\" cy=\"-162\" rx=\"27\" ry=\"18\"/>\n",
       "<text text-anchor=\"middle\" x=\"99\" y=\"-158.9\" font-family=\"Acme-Regular.ttf\" font-size=\"12.00\">C</text>\n",
       "</g>\n",
       "<!-- C&#45;&gt;A -->\n",
       "<g id=\"edge3\" class=\"edge\"><title>C&#45;&gt;A</title>\n",
       "<path fill=\"none\" stroke=\"#ff638d\" d=\"M99,-143.697C99,-135.983 99,-126.712 99,-118.112\"/>\n",
       "<polygon fill=\"#ff638d\" stroke=\"#ff638d\" points=\"102.5,-118.104 99,-108.104 95.5001,-118.104 102.5,-118.104\"/>\n",
       "</g>\n",
       "<!-- F -->\n",
       "<g id=\"node5\" class=\"node\"><title>F</title>\n",
       "<defs>\n",
       "<linearGradient id=\"l_4\" gradientUnits=\"userSpaceOnUse\" x1=\"171\" y1=\"-144\" x2=\"171\" y2=\"-180\" >\n",
       "<stop offset=\"0\" style=\"stop-color:#ceccff;stop-opacity:1.;\"/>\n",
       "<stop offset=\"1\" style=\"stop-color:white;stop-opacity:1.;\"/>\n",
       "</linearGradient>\n",
       "</defs>\n",
       "<ellipse fill=\"url(#l_4)\" stroke=\"#ff638d\" cx=\"171\" cy=\"-162\" rx=\"27\" ry=\"18\"/>\n",
       "<text text-anchor=\"middle\" x=\"171\" y=\"-158.9\" font-family=\"Acme-Regular.ttf\" font-size=\"12.00\">F</text>\n",
       "</g>\n",
       "<!-- E -->\n",
       "<g id=\"node6\" class=\"node\"><title>E</title>\n",
       "<defs>\n",
       "<linearGradient id=\"l_5\" gradientUnits=\"userSpaceOnUse\" x1=\"171\" y1=\"-72\" x2=\"171\" y2=\"-108\" >\n",
       "<stop offset=\"0\" style=\"stop-color:#ceccff;stop-opacity:1.;\"/>\n",
       "<stop offset=\"1\" style=\"stop-color:white;stop-opacity:1.;\"/>\n",
       "</linearGradient>\n",
       "</defs>\n",
       "<ellipse fill=\"url(#l_5)\" stroke=\"#ff638d\" cx=\"171\" cy=\"-90\" rx=\"27\" ry=\"18\"/>\n",
       "<text text-anchor=\"middle\" x=\"171\" y=\"-86.9\" font-family=\"Acme-Regular.ttf\" font-size=\"12.00\">E</text>\n",
       "</g>\n",
       "<!-- F&#45;&gt;E -->\n",
       "<g id=\"edge4\" class=\"edge\"><title>F&#45;&gt;E</title>\n",
       "<path fill=\"none\" stroke=\"#ff638d\" d=\"M171,-143.697C171,-135.983 171,-126.712 171,-118.112\"/>\n",
       "<polygon fill=\"#ff638d\" stroke=\"#ff638d\" points=\"174.5,-118.104 171,-108.104 167.5,-118.104 174.5,-118.104\"/>\n",
       "</g>\n",
       "<!-- G -->\n",
       "<g id=\"node7\" class=\"node\"><title>G</title>\n",
       "<defs>\n",
       "<linearGradient id=\"l_6\" gradientUnits=\"userSpaceOnUse\" x1=\"27\" y1=\"-72\" x2=\"27\" y2=\"-108\" >\n",
       "<stop offset=\"0\" style=\"stop-color:#ceccff;stop-opacity:1.;\"/>\n",
       "<stop offset=\"1\" style=\"stop-color:white;stop-opacity:1.;\"/>\n",
       "</linearGradient>\n",
       "</defs>\n",
       "<ellipse fill=\"url(#l_6)\" stroke=\"#ff638d\" cx=\"27\" cy=\"-90\" rx=\"27\" ry=\"18\"/>\n",
       "<text text-anchor=\"middle\" x=\"27\" y=\"-86.9\" font-family=\"Acme-Regular.ttf\" font-size=\"12.00\">G</text>\n",
       "</g>\n",
       "<!-- G&#45;&gt;H -->\n",
       "<g id=\"edge5\" class=\"edge\"><title>G&#45;&gt;H</title>\n",
       "<path fill=\"none\" stroke=\"#ff638d\" d=\"M35.3496,-72.7646C39.7115,-64.2831 45.1469,-53.7144 50.0413,-44.1974\"/>\n",
       "<polygon fill=\"#ff638d\" stroke=\"#ff638d\" points=\"53.2346,-45.6409 54.6957,-35.1473 47.0096,-42.4395 53.2346,-45.6409\"/>\n",
       "</g>\n",
       "</g>\n",
       "</svg>\n"
      ],
      "text/plain": [
       "<graphviz.dot.Digraph at 0x7f5a5092b0d0>"
      ]
     },
     "execution_count": 57,
     "metadata": {},
     "output_type": "execute_result"
    }
   ],
   "source": [
    "pgmpyToGraph(estModel)"
   ]
  },
  {
   "cell_type": "markdown",
   "metadata": {
    "lines_to_next_cell": 0,
    "title": "markdown"
   },
   "source": [
    "The `estimate_from_independencies()` method can be used to create a `BayesianModel` from a provided *set of independencies*.\n",
    "\n",
    "Estimates a DAG from an `Independencies()`-object or a decision function for conditional independencies. This requires that the set of independencies admits a faithful representation (e.g. is a set of d-separation for some BN or is closed under the semi-graphoid axioms).\n",
    "\n",
    "* NOTE: **Meaning of Faithful**: PC PDAG construction is only guaranteed to work under the assumption that the identified set of independencies is **faithful**, i.e. there exists a DAG that exactly corresponds to it. Spurious dependencies in the data set can cause the reported independencies to violate faithfulness. It can happen that the estimated PDAG does not have any faithful completions (i.e. edge orientations that do not introduce new v-structures). In that case a warning is issued."
   ]
  },
  {
   "cell_type": "code",
   "execution_count": 58,
   "metadata": {
    "title": "codecell"
   },
   "outputs": [
    {
     "data": {
      "text/plain": [
       "OutEdgeView([('A', 'D'), ('B', 'D'), ('C', 'D')])"
      ]
     },
     "execution_count": 58,
     "metadata": {},
     "output_type": "execute_result"
    }
   ],
   "source": [
    "ind: Independencies = Independencies(['B', 'C'], ['A', ['B', 'C'], 'D'])\n",
    "\n",
    "indClosure: Independencies = ind.closure()  #required for faithfulness\n",
    "\n",
    "indModel = ConstraintBasedEstimator.estimate_from_independencies(nodes = \"ABCD\", independencies = indClosure)\n",
    "\n",
    "indModel.edges()"
   ]
  },
  {
   "cell_type": "code",
   "execution_count": 59,
   "metadata": {
    "title": "codecell"
   },
   "outputs": [
    {
     "data": {
      "image/svg+xml": [
       "<?xml version=\"1.0\" encoding=\"UTF-8\" standalone=\"no\"?>\n",
       "<!DOCTYPE svg PUBLIC \"-//W3C//DTD SVG 1.1//EN\"\n",
       " \"http://www.w3.org/Graphics/SVG/1.1/DTD/svg11.dtd\">\n",
       "<!-- Generated by graphviz version 2.38.0 (20140413.2041)\n",
       " -->\n",
       "<!-- Title: G Pages: 1 -->\n",
       "<svg width=\"206pt\" height=\"116pt\"\n",
       " viewBox=\"0.00 0.00 206.00 116.00\" xmlns=\"http://www.w3.org/2000/svg\" xmlns:xlink=\"http://www.w3.org/1999/xlink\">\n",
       "<g id=\"graph0\" class=\"graph\" transform=\"scale(1 1) rotate(0) translate(4 112)\">\n",
       "<title>G</title>\n",
       "<polygon fill=\"white\" stroke=\"none\" points=\"-4,4 -4,-112 202,-112 202,4 -4,4\"/>\n",
       "<!-- A -->\n",
       "<g id=\"node1\" class=\"node\"><title>A</title>\n",
       "<defs>\n",
       "<linearGradient id=\"l_0\" gradientUnits=\"userSpaceOnUse\" x1=\"27\" y1=\"-72\" x2=\"27\" y2=\"-108\" >\n",
       "<stop offset=\"0\" style=\"stop-color:#ceccff;stop-opacity:1.;\"/>\n",
       "<stop offset=\"1\" style=\"stop-color:white;stop-opacity:1.;\"/>\n",
       "</linearGradient>\n",
       "</defs>\n",
       "<ellipse fill=\"url(#l_0)\" stroke=\"#ff638d\" cx=\"27\" cy=\"-90\" rx=\"27\" ry=\"18\"/>\n",
       "<text text-anchor=\"middle\" x=\"27\" y=\"-86.9\" font-family=\"Acme-Regular.ttf\" font-size=\"12.00\">A</text>\n",
       "</g>\n",
       "<!-- D -->\n",
       "<g id=\"node2\" class=\"node\"><title>D</title>\n",
       "<defs>\n",
       "<linearGradient id=\"l_1\" gradientUnits=\"userSpaceOnUse\" x1=\"99\" y1=\"-1.77636e-14\" x2=\"99\" y2=\"-36\" >\n",
       "<stop offset=\"0\" style=\"stop-color:#ceccff;stop-opacity:1.;\"/>\n",
       "<stop offset=\"1\" style=\"stop-color:white;stop-opacity:1.;\"/>\n",
       "</linearGradient>\n",
       "</defs>\n",
       "<ellipse fill=\"url(#l_1)\" stroke=\"#ff638d\" cx=\"99\" cy=\"-18\" rx=\"27\" ry=\"18\"/>\n",
       "<text text-anchor=\"middle\" x=\"99\" y=\"-14.9\" font-family=\"Acme-Regular.ttf\" font-size=\"12.00\">D</text>\n",
       "</g>\n",
       "<!-- A&#45;&gt;D -->\n",
       "<g id=\"edge1\" class=\"edge\"><title>A&#45;&gt;D</title>\n",
       "<path fill=\"none\" stroke=\"#ff638d\" d=\"M41.5703,-74.8345C51.7499,-64.9376 65.5239,-51.5462 77.0306,-40.3591\"/>\n",
       "<polygon fill=\"#ff638d\" stroke=\"#ff638d\" points=\"79.4741,-42.865 84.2043,-33.3847 74.5945,-37.8461 79.4741,-42.865\"/>\n",
       "</g>\n",
       "<!-- B -->\n",
       "<g id=\"node3\" class=\"node\"><title>B</title>\n",
       "<defs>\n",
       "<linearGradient id=\"l_2\" gradientUnits=\"userSpaceOnUse\" x1=\"99\" y1=\"-72\" x2=\"99\" y2=\"-108\" >\n",
       "<stop offset=\"0\" style=\"stop-color:#ceccff;stop-opacity:1.;\"/>\n",
       "<stop offset=\"1\" style=\"stop-color:white;stop-opacity:1.;\"/>\n",
       "</linearGradient>\n",
       "</defs>\n",
       "<ellipse fill=\"url(#l_2)\" stroke=\"#ff638d\" cx=\"99\" cy=\"-90\" rx=\"27\" ry=\"18\"/>\n",
       "<text text-anchor=\"middle\" x=\"99\" y=\"-86.9\" font-family=\"Acme-Regular.ttf\" font-size=\"12.00\">B</text>\n",
       "</g>\n",
       "<!-- B&#45;&gt;D -->\n",
       "<g id=\"edge2\" class=\"edge\"><title>B&#45;&gt;D</title>\n",
       "<path fill=\"none\" stroke=\"#ff638d\" d=\"M99,-71.6966C99,-63.9827 99,-54.7125 99,-46.1124\"/>\n",
       "<polygon fill=\"#ff638d\" stroke=\"#ff638d\" points=\"102.5,-46.1043 99,-36.1043 95.5001,-46.1044 102.5,-46.1043\"/>\n",
       "</g>\n",
       "<!-- C -->\n",
       "<g id=\"node4\" class=\"node\"><title>C</title>\n",
       "<defs>\n",
       "<linearGradient id=\"l_3\" gradientUnits=\"userSpaceOnUse\" x1=\"171\" y1=\"-72\" x2=\"171\" y2=\"-108\" >\n",
       "<stop offset=\"0\" style=\"stop-color:#ceccff;stop-opacity:1.;\"/>\n",
       "<stop offset=\"1\" style=\"stop-color:white;stop-opacity:1.;\"/>\n",
       "</linearGradient>\n",
       "</defs>\n",
       "<ellipse fill=\"url(#l_3)\" stroke=\"#ff638d\" cx=\"171\" cy=\"-90\" rx=\"27\" ry=\"18\"/>\n",
       "<text text-anchor=\"middle\" x=\"171\" y=\"-86.9\" font-family=\"Acme-Regular.ttf\" font-size=\"12.00\">C</text>\n",
       "</g>\n",
       "<!-- C&#45;&gt;D -->\n",
       "<g id=\"edge3\" class=\"edge\"><title>C&#45;&gt;D</title>\n",
       "<path fill=\"none\" stroke=\"#ff638d\" d=\"M156.43,-74.8345C146.25,-64.9376 132.476,-51.5462 120.969,-40.3591\"/>\n",
       "<polygon fill=\"#ff638d\" stroke=\"#ff638d\" points=\"123.405,-37.8461 113.796,-33.3847 118.526,-42.865 123.405,-37.8461\"/>\n",
       "</g>\n",
       "</g>\n",
       "</svg>\n"
      ],
      "text/plain": [
       "<graphviz.dot.Digraph at 0x7f5a5094f8d0>"
      ]
     },
     "execution_count": 59,
     "metadata": {},
     "output_type": "execute_result"
    }
   ],
   "source": [
    "pgmpyToGraph(indModel)\n",
    "\n",
    "\n"
   ]
  },
  {
   "cell_type": "markdown",
   "metadata": {
    "lines_to_next_cell": 0,
    "title": "markdown"
   },
   "source": [
    "### Hybrid Structure Learning\n",
    "The MMHC algorithm combines constraint-based and score-based structure learning methods. It has two parts:\n",
    "\n",
    "1. Learn an undirected graph skeleton using the constraint-based construction procedure MMPC\n",
    "2. Orient edges using score-based optimization (BDeu score + modified hill-climbing)\n",
    "\n",
    "Can perform these two steps somewhat separately:"
   ]
  },
  {
   "cell_type": "code",
   "execution_count": 60,
   "metadata": {
    "lines_to_next_cell": 2,
    "title": "codecell"
   },
   "outputs": [],
   "source": [
    "from pgmpy.estimators import MmhcEstimator\n",
    "from pgmpy.estimators import BDeuScore\n",
    "\n",
    "data: DataFrame = DataFrame(data = np.random.randint(low = 0, high = 3, size=(2500, 8)),\n",
    "                            columns = list(\"ABCDEFGH\"))\n",
    "\n",
    "data['A'] += data['B'] + data['C']\n",
    "data['H'] = data['G'] - data['A']\n",
    "data['E'] *= data['F']"
   ]
  },
  {
   "cell_type": "markdown",
   "metadata": {
    "title": "markdown"
   },
   "source": [
    "**Part 1:** Learning the Unidirected graph skeleton using `MMPC` algorithm (constraint-based method)"
   ]
  },
  {
   "cell_type": "code",
   "execution_count": 61,
   "metadata": {
    "title": "codecell"
   },
   "outputs": [
    {
     "name": "stderr",
     "output_type": "stream",
     "text": [
      "/development/bin/python/conda3_ana/envs/pybayesian_env/lib/python3.7/site-packages/pgmpy/estimators/CITests.py:95: UserWarning: Insufficient data for testing A _|_ E | ['C', 'B', 'H']. At least 7290 samples recommended, 2500 present.\n",
      "  5 * num_params, len(data)\n"
     ]
    },
    {
     "name": "stderr",
     "output_type": "stream",
     "text": [
      "/development/bin/python/conda3_ana/envs/pybayesian_env/lib/python3.7/site-packages/pgmpy/estimators/CITests.py:95: UserWarning: Insufficient data for testing A _|_ G | ['C', 'B', 'H']. At least 4860 samples recommended, 2500 present.\n",
      "  5 * num_params, len(data)\n"
     ]
    },
    {
     "name": "stderr",
     "output_type": "stream",
     "text": [
      "/development/bin/python/conda3_ana/envs/pybayesian_env/lib/python3.7/site-packages/pgmpy/estimators/CITests.py:95: UserWarning: Insufficient data for testing A _|_ D | ['C', 'B', 'H']. At least 4860 samples recommended, 2500 present.\n",
      "  5 * num_params, len(data)\n"
     ]
    },
    {
     "name": "stderr",
     "output_type": "stream",
     "text": [
      "/development/bin/python/conda3_ana/envs/pybayesian_env/lib/python3.7/site-packages/pgmpy/estimators/CITests.py:95: UserWarning: Insufficient data for testing A _|_ F | ['C', 'B', 'H']. At least 4860 samples recommended, 2500 present.\n",
      "  5 * num_params, len(data)\n"
     ]
    },
    {
     "name": "stderr",
     "output_type": "stream",
     "text": [
      "/development/bin/python/conda3_ana/envs/pybayesian_env/lib/python3.7/site-packages/pgmpy/estimators/CITests.py:95: UserWarning: Insufficient data for testing A _|_ E | ['C', 'H', 'G']. At least 7290 samples recommended, 2500 present.\n",
      "  5 * num_params, len(data)\n"
     ]
    },
    {
     "name": "stderr",
     "output_type": "stream",
     "text": [
      "/development/bin/python/conda3_ana/envs/pybayesian_env/lib/python3.7/site-packages/pgmpy/estimators/CITests.py:95: UserWarning: Insufficient data for testing A _|_ E | ['B', 'H', 'G']. At least 7290 samples recommended, 2500 present.\n",
      "  5 * num_params, len(data)\n"
     ]
    },
    {
     "name": "stderr",
     "output_type": "stream",
     "text": [
      "/development/bin/python/conda3_ana/envs/pybayesian_env/lib/python3.7/site-packages/pgmpy/estimators/CITests.py:95: UserWarning: Insufficient data for testing A _|_ E | ['C', 'B', 'H', 'G']. At least 21870 samples recommended, 2500 present.\n",
      "  5 * num_params, len(data)\n"
     ]
    },
    {
     "name": "stderr",
     "output_type": "stream",
     "text": [
      "/development/bin/python/conda3_ana/envs/pybayesian_env/lib/python3.7/site-packages/pgmpy/estimators/CITests.py:95: UserWarning: Insufficient data for testing A _|_ D | ['C', 'H', 'G']. At least 4860 samples recommended, 2500 present.\n",
      "  5 * num_params, len(data)\n"
     ]
    },
    {
     "name": "stderr",
     "output_type": "stream",
     "text": [
      "/development/bin/python/conda3_ana/envs/pybayesian_env/lib/python3.7/site-packages/pgmpy/estimators/CITests.py:95: UserWarning: Insufficient data for testing A _|_ D | ['B', 'H', 'G']. At least 4860 samples recommended, 2500 present.\n",
      "  5 * num_params, len(data)\n"
     ]
    },
    {
     "name": "stderr",
     "output_type": "stream",
     "text": [
      "/development/bin/python/conda3_ana/envs/pybayesian_env/lib/python3.7/site-packages/pgmpy/estimators/CITests.py:95: UserWarning: Insufficient data for testing A _|_ D | ['C', 'B', 'H', 'G']. At least 14580 samples recommended, 2500 present.\n",
      "  5 * num_params, len(data)\n"
     ]
    },
    {
     "name": "stderr",
     "output_type": "stream",
     "text": [
      "/development/bin/python/conda3_ana/envs/pybayesian_env/lib/python3.7/site-packages/pgmpy/estimators/CITests.py:95: UserWarning: Insufficient data for testing A _|_ F | ['C', 'H', 'G']. At least 4860 samples recommended, 2500 present.\n",
      "  5 * num_params, len(data)\n"
     ]
    },
    {
     "name": "stderr",
     "output_type": "stream",
     "text": [
      "/development/bin/python/conda3_ana/envs/pybayesian_env/lib/python3.7/site-packages/pgmpy/estimators/CITests.py:95: UserWarning: Insufficient data for testing A _|_ F | ['B', 'H', 'G']. At least 4860 samples recommended, 2500 present.\n",
      "  5 * num_params, len(data)\n"
     ]
    },
    {
     "name": "stderr",
     "output_type": "stream",
     "text": [
      "/development/bin/python/conda3_ana/envs/pybayesian_env/lib/python3.7/site-packages/pgmpy/estimators/CITests.py:95: UserWarning: Insufficient data for testing A _|_ F | ['C', 'B', 'H', 'G']. At least 14580 samples recommended, 2500 present.\n",
      "  5 * num_params, len(data)\n"
     ]
    },
    {
     "name": "stderr",
     "output_type": "stream",
     "text": [
      "/development/bin/python/conda3_ana/envs/pybayesian_env/lib/python3.7/site-packages/pgmpy/estimators/CITests.py:95: UserWarning: Insufficient data for testing B _|_ E | ['A', 'H', 'C']. At least 5670 samples recommended, 2500 present.\n",
      "  5 * num_params, len(data)\n"
     ]
    },
    {
     "name": "stderr",
     "output_type": "stream",
     "text": [
      "/development/bin/python/conda3_ana/envs/pybayesian_env/lib/python3.7/site-packages/pgmpy/estimators/CITests.py:95: UserWarning: Insufficient data for testing B _|_ G | ['A', 'H', 'C']. At least 3780 samples recommended, 2500 present.\n",
      "  5 * num_params, len(data)\n"
     ]
    },
    {
     "name": "stderr",
     "output_type": "stream",
     "text": [
      "/development/bin/python/conda3_ana/envs/pybayesian_env/lib/python3.7/site-packages/pgmpy/estimators/CITests.py:95: UserWarning: Insufficient data for testing B _|_ D | ['A', 'H', 'C']. At least 3780 samples recommended, 2500 present.\n",
      "  5 * num_params, len(data)\n"
     ]
    },
    {
     "name": "stderr",
     "output_type": "stream",
     "text": [
      "/development/bin/python/conda3_ana/envs/pybayesian_env/lib/python3.7/site-packages/pgmpy/estimators/CITests.py:95: UserWarning: Insufficient data for testing B _|_ F | ['A', 'H', 'C']. At least 3780 samples recommended, 2500 present.\n",
      "  5 * num_params, len(data)\n"
     ]
    },
    {
     "name": "stderr",
     "output_type": "stream",
     "text": [
      "/development/bin/python/conda3_ana/envs/pybayesian_env/lib/python3.7/site-packages/pgmpy/estimators/CITests.py:95: UserWarning: Insufficient data for testing C _|_ E | ['A', 'H', 'B']. At least 5670 samples recommended, 2500 present.\n",
      "  5 * num_params, len(data)\n"
     ]
    },
    {
     "name": "stderr",
     "output_type": "stream",
     "text": [
      "/development/bin/python/conda3_ana/envs/pybayesian_env/lib/python3.7/site-packages/pgmpy/estimators/CITests.py:95: UserWarning: Insufficient data for testing C _|_ G | ['A', 'H', 'B']. At least 3780 samples recommended, 2500 present.\n",
      "  5 * num_params, len(data)\n"
     ]
    },
    {
     "name": "stderr",
     "output_type": "stream",
     "text": [
      "/development/bin/python/conda3_ana/envs/pybayesian_env/lib/python3.7/site-packages/pgmpy/estimators/CITests.py:95: UserWarning: Insufficient data for testing C _|_ D | ['A', 'H', 'B']. At least 3780 samples recommended, 2500 present.\n",
      "  5 * num_params, len(data)\n"
     ]
    },
    {
     "name": "stderr",
     "output_type": "stream",
     "text": [
      "/development/bin/python/conda3_ana/envs/pybayesian_env/lib/python3.7/site-packages/pgmpy/estimators/CITests.py:95: UserWarning: Insufficient data for testing C _|_ F | ['A', 'H', 'B']. At least 3780 samples recommended, 2500 present.\n",
      "  5 * num_params, len(data)\n"
     ]
    },
    {
     "name": "stderr",
     "output_type": "stream",
     "text": [
      "/development/bin/python/conda3_ana/envs/pybayesian_env/lib/python3.7/site-packages/pgmpy/estimators/CITests.py:95: UserWarning: Insufficient data for testing D _|_ H | ['B', 'F', 'A']. At least 5040 samples recommended, 2500 present.\n",
      "  5 * num_params, len(data)\n"
     ]
    },
    {
     "name": "stderr",
     "output_type": "stream",
     "text": [
      "/development/bin/python/conda3_ana/envs/pybayesian_env/lib/python3.7/site-packages/pgmpy/estimators/CITests.py:95: UserWarning: Insufficient data for testing E _|_ H | ['F', 'B', 'C']. At least 3240 samples recommended, 2500 present.\n",
      "  5 * num_params, len(data)\n"
     ]
    },
    {
     "name": "stderr",
     "output_type": "stream",
     "text": [
      "/development/bin/python/conda3_ana/envs/pybayesian_env/lib/python3.7/site-packages/pgmpy/estimators/CITests.py:95: UserWarning: Insufficient data for testing E _|_ H | ['F', 'A']. At least 2520 samples recommended, 2500 present.\n",
      "  5 * num_params, len(data)\n"
     ]
    },
    {
     "name": "stderr",
     "output_type": "stream",
     "text": [
      "/development/bin/python/conda3_ana/envs/pybayesian_env/lib/python3.7/site-packages/pgmpy/estimators/CITests.py:95: UserWarning: Insufficient data for testing E _|_ H | ['B', 'A']. At least 2520 samples recommended, 2500 present.\n",
      "  5 * num_params, len(data)\n"
     ]
    },
    {
     "name": "stderr",
     "output_type": "stream",
     "text": [
      "/development/bin/python/conda3_ana/envs/pybayesian_env/lib/python3.7/site-packages/pgmpy/estimators/CITests.py:95: UserWarning: Insufficient data for testing E _|_ H | ['C', 'A']. At least 2520 samples recommended, 2500 present.\n",
      "  5 * num_params, len(data)\n"
     ]
    },
    {
     "name": "stderr",
     "output_type": "stream",
     "text": [
      "/development/bin/python/conda3_ana/envs/pybayesian_env/lib/python3.7/site-packages/pgmpy/estimators/CITests.py:95: UserWarning: Insufficient data for testing E _|_ H | ['F', 'B', 'A']. At least 7560 samples recommended, 2500 present.\n",
      "  5 * num_params, len(data)\n"
     ]
    },
    {
     "name": "stderr",
     "output_type": "stream",
     "text": [
      "/development/bin/python/conda3_ana/envs/pybayesian_env/lib/python3.7/site-packages/pgmpy/estimators/CITests.py:95: UserWarning: Insufficient data for testing E _|_ H | ['F', 'C', 'A']. At least 7560 samples recommended, 2500 present.\n",
      "  5 * num_params, len(data)\n"
     ]
    },
    {
     "name": "stderr",
     "output_type": "stream",
     "text": [
      "/development/bin/python/conda3_ana/envs/pybayesian_env/lib/python3.7/site-packages/pgmpy/estimators/CITests.py:95: UserWarning: Insufficient data for testing E _|_ H | ['B', 'C', 'A']. At least 7560 samples recommended, 2500 present.\n",
      "  5 * num_params, len(data)\n"
     ]
    },
    {
     "name": "stderr",
     "output_type": "stream",
     "text": [
      "/development/bin/python/conda3_ana/envs/pybayesian_env/lib/python3.7/site-packages/pgmpy/estimators/CITests.py:95: UserWarning: Insufficient data for testing E _|_ H | ['F', 'B', 'C', 'A']. At least 22680 samples recommended, 2500 present.\n",
      "  5 * num_params, len(data)\n"
     ]
    },
    {
     "name": "stderr",
     "output_type": "stream",
     "text": [
      "/development/bin/python/conda3_ana/envs/pybayesian_env/lib/python3.7/site-packages/pgmpy/estimators/CITests.py:95: UserWarning: Insufficient data for testing E _|_ G | ['F', 'B', 'C', 'A']. At least 5670 samples recommended, 2500 present.\n",
      "  5 * num_params, len(data)\n"
     ]
    },
    {
     "name": "stderr",
     "output_type": "stream",
     "text": [
      "/development/bin/python/conda3_ana/envs/pybayesian_env/lib/python3.7/site-packages/pgmpy/estimators/CITests.py:95: UserWarning: Insufficient data for testing E _|_ D | ['F', 'B', 'C', 'A']. At least 5670 samples recommended, 2500 present.\n",
      "  5 * num_params, len(data)\n"
     ]
    },
    {
     "name": "stderr",
     "output_type": "stream",
     "text": [
      "/development/bin/python/conda3_ana/envs/pybayesian_env/lib/python3.7/site-packages/pgmpy/estimators/CITests.py:95: UserWarning: Insufficient data for testing F _|_ H | ['E', 'B', 'A']. At least 6720 samples recommended, 2500 present.\n",
      "  5 * num_params, len(data)\n"
     ]
    },
    {
     "name": "stderr",
     "output_type": "stream",
     "text": [
      "/development/bin/python/conda3_ana/envs/pybayesian_env/lib/python3.7/site-packages/pgmpy/estimators/CITests.py:95: UserWarning: Insufficient data for testing G _|_ E | ['H', 'B', 'A']. At least 5670 samples recommended, 2500 present.\n",
      "  5 * num_params, len(data)\n"
     ]
    },
    {
     "name": "stderr",
     "output_type": "stream",
     "text": [
      "/development/bin/python/conda3_ana/envs/pybayesian_env/lib/python3.7/site-packages/pgmpy/estimators/CITests.py:95: UserWarning: Insufficient data for testing G _|_ C | ['H', 'B', 'A']. At least 3780 samples recommended, 2500 present.\n",
      "  5 * num_params, len(data)\n"
     ]
    },
    {
     "name": "stderr",
     "output_type": "stream",
     "text": [
      "/development/bin/python/conda3_ana/envs/pybayesian_env/lib/python3.7/site-packages/pgmpy/estimators/CITests.py:95: UserWarning: Insufficient data for testing G _|_ D | ['H', 'B', 'A']. At least 3780 samples recommended, 2500 present.\n",
      "  5 * num_params, len(data)\n"
     ]
    },
    {
     "name": "stderr",
     "output_type": "stream",
     "text": [
      "/development/bin/python/conda3_ana/envs/pybayesian_env/lib/python3.7/site-packages/pgmpy/estimators/CITests.py:95: UserWarning: Insufficient data for testing G _|_ F | ['H', 'B', 'A']. At least 3780 samples recommended, 2500 present.\n",
      "  5 * num_params, len(data)\n"
     ]
    },
    {
     "name": "stderr",
     "output_type": "stream",
     "text": [
      "/development/bin/python/conda3_ana/envs/pybayesian_env/lib/python3.7/site-packages/pgmpy/estimators/CITests.py:95: UserWarning: Insufficient data for testing H _|_ E | ['C', 'A']. At least 2520 samples recommended, 2500 present.\n",
      "  5 * num_params, len(data)\n"
     ]
    },
    {
     "name": "stderr",
     "output_type": "stream",
     "text": [
      "/development/bin/python/conda3_ana/envs/pybayesian_env/lib/python3.7/site-packages/pgmpy/estimators/CITests.py:95: UserWarning: Insufficient data for testing H _|_ E | ['A', 'G']. At least 2520 samples recommended, 2500 present.\n",
      "  5 * num_params, len(data)\n"
     ]
    },
    {
     "name": "stderr",
     "output_type": "stream",
     "text": [
      "/development/bin/python/conda3_ana/envs/pybayesian_env/lib/python3.7/site-packages/pgmpy/estimators/CITests.py:95: UserWarning: Insufficient data for testing H _|_ E | ['C', 'A', 'G']. At least 7560 samples recommended, 2500 present.\n",
      "  5 * num_params, len(data)\n"
     ]
    },
    {
     "name": "stderr",
     "output_type": "stream",
     "text": [
      "/development/bin/python/conda3_ana/envs/pybayesian_env/lib/python3.7/site-packages/pgmpy/estimators/CITests.py:95: UserWarning: Insufficient data for testing H _|_ B | ['C', 'A', 'G']. At least 5040 samples recommended, 2500 present.\n",
      "  5 * num_params, len(data)\n"
     ]
    },
    {
     "name": "stderr",
     "output_type": "stream",
     "text": [
      "/development/bin/python/conda3_ana/envs/pybayesian_env/lib/python3.7/site-packages/pgmpy/estimators/CITests.py:95: UserWarning: Insufficient data for testing H _|_ D | ['C', 'A', 'G']. At least 5040 samples recommended, 2500 present.\n",
      "  5 * num_params, len(data)\n"
     ]
    },
    {
     "name": "stderr",
     "output_type": "stream",
     "text": [
      "/development/bin/python/conda3_ana/envs/pybayesian_env/lib/python3.7/site-packages/pgmpy/estimators/CITests.py:95: UserWarning: Insufficient data for testing H _|_ F | ['C', 'A', 'G']. At least 5040 samples recommended, 2500 present.\n",
      "  5 * num_params, len(data)\n"
     ]
    },
    {
     "name": "stdout",
     "output_type": "stream",
     "text": [
      "part 1) skeleton:  [('A', 'B'), ('A', 'H'), ('B', 'C'), ('E', 'F'), ('G', 'H')]\n"
     ]
    },
    {
     "data": {
      "image/svg+xml": [
       "<?xml version=\"1.0\" encoding=\"UTF-8\" standalone=\"no\"?>\n",
       "<!DOCTYPE svg PUBLIC \"-//W3C//DTD SVG 1.1//EN\"\n",
       " \"http://www.w3.org/Graphics/SVG/1.1/DTD/svg11.dtd\">\n",
       "<!-- Generated by graphviz version 2.38.0 (20140413.2041)\n",
       " -->\n",
       "<!-- Title: G Pages: 1 -->\n",
       "<svg width=\"206pt\" height=\"188pt\"\n",
       " viewBox=\"0.00 0.00 206.00 188.00\" xmlns=\"http://www.w3.org/2000/svg\" xmlns:xlink=\"http://www.w3.org/1999/xlink\">\n",
       "<g id=\"graph0\" class=\"graph\" transform=\"scale(1 1) rotate(0) translate(4 184)\">\n",
       "<title>G</title>\n",
       "<polygon fill=\"white\" stroke=\"none\" points=\"-4,4 -4,-184 202,-184 202,4 -4,4\"/>\n",
       "<!-- A -->\n",
       "<g id=\"node1\" class=\"node\"><title>A</title>\n",
       "<defs>\n",
       "<linearGradient id=\"l_0\" gradientUnits=\"userSpaceOnUse\" x1=\"27\" y1=\"-144\" x2=\"27\" y2=\"-180\" >\n",
       "<stop offset=\"0\" style=\"stop-color:#ceccff;stop-opacity:1.;\"/>\n",
       "<stop offset=\"1\" style=\"stop-color:white;stop-opacity:1.;\"/>\n",
       "</linearGradient>\n",
       "</defs>\n",
       "<ellipse fill=\"url(#l_0)\" stroke=\"#ff638d\" cx=\"27\" cy=\"-162\" rx=\"27\" ry=\"18\"/>\n",
       "<text text-anchor=\"middle\" x=\"27\" y=\"-158.9\" font-family=\"Acme-Regular.ttf\" font-size=\"12.00\">A</text>\n",
       "</g>\n",
       "<!-- B -->\n",
       "<g id=\"node2\" class=\"node\"><title>B</title>\n",
       "<defs>\n",
       "<linearGradient id=\"l_1\" gradientUnits=\"userSpaceOnUse\" x1=\"27\" y1=\"-72\" x2=\"27\" y2=\"-108\" >\n",
       "<stop offset=\"0\" style=\"stop-color:#ceccff;stop-opacity:1.;\"/>\n",
       "<stop offset=\"1\" style=\"stop-color:white;stop-opacity:1.;\"/>\n",
       "</linearGradient>\n",
       "</defs>\n",
       "<ellipse fill=\"url(#l_1)\" stroke=\"#ff638d\" cx=\"27\" cy=\"-90\" rx=\"27\" ry=\"18\"/>\n",
       "<text text-anchor=\"middle\" x=\"27\" y=\"-86.9\" font-family=\"Acme-Regular.ttf\" font-size=\"12.00\">B</text>\n",
       "</g>\n",
       "<!-- A&#45;&gt;B -->\n",
       "<g id=\"edge1\" class=\"edge\"><title>A&#45;&gt;B</title>\n",
       "<path fill=\"none\" stroke=\"#ff638d\" d=\"M27,-143.697C27,-135.983 27,-126.712 27,-118.112\"/>\n",
       "<polygon fill=\"#ff638d\" stroke=\"#ff638d\" points=\"30.5001,-118.104 27,-108.104 23.5001,-118.104 30.5001,-118.104\"/>\n",
       "</g>\n",
       "<!-- H -->\n",
       "<g id=\"node3\" class=\"node\"><title>H</title>\n",
       "<defs>\n",
       "<linearGradient id=\"l_2\" gradientUnits=\"userSpaceOnUse\" x1=\"99\" y1=\"-72\" x2=\"99\" y2=\"-108\" >\n",
       "<stop offset=\"0\" style=\"stop-color:#ceccff;stop-opacity:1.;\"/>\n",
       "<stop offset=\"1\" style=\"stop-color:white;stop-opacity:1.;\"/>\n",
       "</linearGradient>\n",
       "</defs>\n",
       "<ellipse fill=\"url(#l_2)\" stroke=\"#ff638d\" cx=\"99\" cy=\"-90\" rx=\"27\" ry=\"18\"/>\n",
       "<text text-anchor=\"middle\" x=\"99\" y=\"-86.9\" font-family=\"Acme-Regular.ttf\" font-size=\"12.00\">H</text>\n",
       "</g>\n",
       "<!-- A&#45;&gt;H -->\n",
       "<g id=\"edge2\" class=\"edge\"><title>A&#45;&gt;H</title>\n",
       "<path fill=\"none\" stroke=\"#ff638d\" d=\"M41.5703,-146.834C51.7499,-136.938 65.5239,-123.546 77.0306,-112.359\"/>\n",
       "<polygon fill=\"#ff638d\" stroke=\"#ff638d\" points=\"79.4741,-114.865 84.2043,-105.385 74.5945,-109.846 79.4741,-114.865\"/>\n",
       "</g>\n",
       "<!-- C -->\n",
       "<g id=\"node4\" class=\"node\"><title>C</title>\n",
       "<defs>\n",
       "<linearGradient id=\"l_3\" gradientUnits=\"userSpaceOnUse\" x1=\"27\" y1=\"-1.77636e-14\" x2=\"27\" y2=\"-36\" >\n",
       "<stop offset=\"0\" style=\"stop-color:#ceccff;stop-opacity:1.;\"/>\n",
       "<stop offset=\"1\" style=\"stop-color:white;stop-opacity:1.;\"/>\n",
       "</linearGradient>\n",
       "</defs>\n",
       "<ellipse fill=\"url(#l_3)\" stroke=\"#ff638d\" cx=\"27\" cy=\"-18\" rx=\"27\" ry=\"18\"/>\n",
       "<text text-anchor=\"middle\" x=\"27\" y=\"-14.9\" font-family=\"Acme-Regular.ttf\" font-size=\"12.00\">C</text>\n",
       "</g>\n",
       "<!-- B&#45;&gt;C -->\n",
       "<g id=\"edge3\" class=\"edge\"><title>B&#45;&gt;C</title>\n",
       "<path fill=\"none\" stroke=\"#ff638d\" d=\"M27,-71.6966C27,-63.9827 27,-54.7125 27,-46.1124\"/>\n",
       "<polygon fill=\"#ff638d\" stroke=\"#ff638d\" points=\"30.5001,-46.1043 27,-36.1043 23.5001,-46.1044 30.5001,-46.1043\"/>\n",
       "</g>\n",
       "<!-- E -->\n",
       "<g id=\"node5\" class=\"node\"><title>E</title>\n",
       "<defs>\n",
       "<linearGradient id=\"l_4\" gradientUnits=\"userSpaceOnUse\" x1=\"171\" y1=\"-144\" x2=\"171\" y2=\"-180\" >\n",
       "<stop offset=\"0\" style=\"stop-color:#ceccff;stop-opacity:1.;\"/>\n",
       "<stop offset=\"1\" style=\"stop-color:white;stop-opacity:1.;\"/>\n",
       "</linearGradient>\n",
       "</defs>\n",
       "<ellipse fill=\"url(#l_4)\" stroke=\"#ff638d\" cx=\"171\" cy=\"-162\" rx=\"27\" ry=\"18\"/>\n",
       "<text text-anchor=\"middle\" x=\"171\" y=\"-158.9\" font-family=\"Acme-Regular.ttf\" font-size=\"12.00\">E</text>\n",
       "</g>\n",
       "<!-- F -->\n",
       "<g id=\"node6\" class=\"node\"><title>F</title>\n",
       "<defs>\n",
       "<linearGradient id=\"l_5\" gradientUnits=\"userSpaceOnUse\" x1=\"171\" y1=\"-72\" x2=\"171\" y2=\"-108\" >\n",
       "<stop offset=\"0\" style=\"stop-color:#ceccff;stop-opacity:1.;\"/>\n",
       "<stop offset=\"1\" style=\"stop-color:white;stop-opacity:1.;\"/>\n",
       "</linearGradient>\n",
       "</defs>\n",
       "<ellipse fill=\"url(#l_5)\" stroke=\"#ff638d\" cx=\"171\" cy=\"-90\" rx=\"27\" ry=\"18\"/>\n",
       "<text text-anchor=\"middle\" x=\"171\" y=\"-86.9\" font-family=\"Acme-Regular.ttf\" font-size=\"12.00\">F</text>\n",
       "</g>\n",
       "<!-- E&#45;&gt;F -->\n",
       "<g id=\"edge4\" class=\"edge\"><title>E&#45;&gt;F</title>\n",
       "<path fill=\"none\" stroke=\"#ff638d\" d=\"M171,-143.697C171,-135.983 171,-126.712 171,-118.112\"/>\n",
       "<polygon fill=\"#ff638d\" stroke=\"#ff638d\" points=\"174.5,-118.104 171,-108.104 167.5,-118.104 174.5,-118.104\"/>\n",
       "</g>\n",
       "<!-- G -->\n",
       "<g id=\"node7\" class=\"node\"><title>G</title>\n",
       "<defs>\n",
       "<linearGradient id=\"l_6\" gradientUnits=\"userSpaceOnUse\" x1=\"99\" y1=\"-144\" x2=\"99\" y2=\"-180\" >\n",
       "<stop offset=\"0\" style=\"stop-color:#ceccff;stop-opacity:1.;\"/>\n",
       "<stop offset=\"1\" style=\"stop-color:white;stop-opacity:1.;\"/>\n",
       "</linearGradient>\n",
       "</defs>\n",
       "<ellipse fill=\"url(#l_6)\" stroke=\"#ff638d\" cx=\"99\" cy=\"-162\" rx=\"27\" ry=\"18\"/>\n",
       "<text text-anchor=\"middle\" x=\"99\" y=\"-158.9\" font-family=\"Acme-Regular.ttf\" font-size=\"12.00\">G</text>\n",
       "</g>\n",
       "<!-- G&#45;&gt;H -->\n",
       "<g id=\"edge5\" class=\"edge\"><title>G&#45;&gt;H</title>\n",
       "<path fill=\"none\" stroke=\"#ff638d\" d=\"M99,-143.697C99,-135.983 99,-126.712 99,-118.112\"/>\n",
       "<polygon fill=\"#ff638d\" stroke=\"#ff638d\" points=\"102.5,-118.104 99,-108.104 95.5001,-118.104 102.5,-118.104\"/>\n",
       "</g>\n",
       "</g>\n",
       "</svg>\n"
      ],
      "text/plain": [
       "<graphviz.dot.Digraph at 0x7f5a508df850>"
      ]
     },
     "execution_count": 61,
     "metadata": {},
     "output_type": "execute_result"
    }
   ],
   "source": [
    "mmhc: MmhcEstimator = MmhcEstimator(data = data)\n",
    "\n",
    "\n",
    "### Part 1) Skeleton structure estimation\n",
    "# Estimates a graph skeleton (UndirectedGraph) for the data set, using then MMPC (max-min parents-and-children) algorithm.\n",
    "skeleton: UndirectedGraph = mmhc.mmpc()\n",
    "\n",
    "\n",
    "print(\"part 1) skeleton: \", skeleton.edges())\n",
    "# Remember this is supposed to be UNIDRECTED graph so ignore the directions\n",
    "pgmpyToGraph(skeleton)"
   ]
  },
  {
   "cell_type": "markdown",
   "metadata": {
    "lines_to_next_cell": 0,
    "title": "markdown"
   },
   "source": [
    "* **NOTE:** Showing the meaning of `to_directed()` method in the next code (used to create the hybrid model)"
   ]
  },
  {
   "cell_type": "code",
   "execution_count": 62,
   "metadata": {
    "title": "codecell"
   },
   "outputs": [
    {
     "name": "stdout",
     "output_type": "stream",
     "text": [
      "Skeleton (undirected) edges:  [('A', 'B'), ('A', 'H'), ('B', 'C'), ('E', 'F'), ('G', 'H')]\n",
      "Skeleton (directed) edges:  [('A', 'B'), ('A', 'H'), ('B', 'A'), ('B', 'C'), ('C', 'B'), ('E', 'F'), ('F', 'E'), ('G', 'H'), ('H', 'A'), ('H', 'G')]\n"
     ]
    }
   ],
   "source": [
    "# NOTE: the to_directed() method makes a mirror image of the existing edge. So if there is E --> D then the method also adds D --> E.\n",
    "print(\"Skeleton (undirected) edges: \", list(iter(skeleton.edges())) ) #== [('A', 'H'), ('D', 'E'), ('E', 'F'), ('G', 'H')]\n",
    "\n",
    "print(\"Skeleton (directed) edges: \", list(iter(skeleton.to_directed().edges())) ) #== [('A', 'H'), ('D', 'E'), ('E', 'D'), ('E', 'F'), ('F', 'E'), ('G', 'H'), ('H', 'A'), ('H', 'G')]"
   ]
  },
  {
   "cell_type": "code",
   "execution_count": 63,
   "metadata": {
    "title": "codecell"
   },
   "outputs": [
    {
     "data": {
      "image/svg+xml": [
       "<?xml version=\"1.0\" encoding=\"UTF-8\" standalone=\"no\"?>\n",
       "<!DOCTYPE svg PUBLIC \"-//W3C//DTD SVG 1.1//EN\"\n",
       " \"http://www.w3.org/Graphics/SVG/1.1/DTD/svg11.dtd\">\n",
       "<!-- Generated by graphviz version 2.38.0 (20140413.2041)\n",
       " -->\n",
       "<!-- Title: G Pages: 1 -->\n",
       "<svg width=\"206pt\" height=\"188pt\"\n",
       " viewBox=\"0.00 0.00 206.00 188.00\" xmlns=\"http://www.w3.org/2000/svg\" xmlns:xlink=\"http://www.w3.org/1999/xlink\">\n",
       "<g id=\"graph0\" class=\"graph\" transform=\"scale(1 1) rotate(0) translate(4 184)\">\n",
       "<title>G</title>\n",
       "<polygon fill=\"white\" stroke=\"none\" points=\"-4,4 -4,-184 202,-184 202,4 -4,4\"/>\n",
       "<!-- A -->\n",
       "<g id=\"node1\" class=\"node\"><title>A</title>\n",
       "<defs>\n",
       "<linearGradient id=\"l_0\" gradientUnits=\"userSpaceOnUse\" x1=\"63\" y1=\"-144\" x2=\"63\" y2=\"-180\" >\n",
       "<stop offset=\"0\" style=\"stop-color:#ceccff;stop-opacity:1.;\"/>\n",
       "<stop offset=\"1\" style=\"stop-color:white;stop-opacity:1.;\"/>\n",
       "</linearGradient>\n",
       "</defs>\n",
       "<ellipse fill=\"url(#l_0)\" stroke=\"#ff638d\" cx=\"63\" cy=\"-162\" rx=\"27\" ry=\"18\"/>\n",
       "<text text-anchor=\"middle\" x=\"63\" y=\"-158.9\" font-family=\"Acme-Regular.ttf\" font-size=\"12.00\">A</text>\n",
       "</g>\n",
       "<!-- B -->\n",
       "<g id=\"node2\" class=\"node\"><title>B</title>\n",
       "<defs>\n",
       "<linearGradient id=\"l_1\" gradientUnits=\"userSpaceOnUse\" x1=\"27\" y1=\"-72\" x2=\"27\" y2=\"-108\" >\n",
       "<stop offset=\"0\" style=\"stop-color:#ceccff;stop-opacity:1.;\"/>\n",
       "<stop offset=\"1\" style=\"stop-color:white;stop-opacity:1.;\"/>\n",
       "</linearGradient>\n",
       "</defs>\n",
       "<ellipse fill=\"url(#l_1)\" stroke=\"#ff638d\" cx=\"27\" cy=\"-90\" rx=\"27\" ry=\"18\"/>\n",
       "<text text-anchor=\"middle\" x=\"27\" y=\"-86.9\" font-family=\"Acme-Regular.ttf\" font-size=\"12.00\">B</text>\n",
       "</g>\n",
       "<!-- A&#45;&gt;B -->\n",
       "<g id=\"edge1\" class=\"edge\"><title>A&#45;&gt;B</title>\n",
       "<path fill=\"none\" stroke=\"#ff638d\" d=\"M49.7293,-146.155C44.3791,-137.787 38.5677,-127.088 33.9853,-117.344\"/>\n",
       "<polygon fill=\"#ff638d\" stroke=\"#ff638d\" points=\"37.1176,-115.773 29.8752,-108.04 30.7145,-118.602 37.1176,-115.773\"/>\n",
       "</g>\n",
       "<!-- H -->\n",
       "<g id=\"node3\" class=\"node\"><title>H</title>\n",
       "<defs>\n",
       "<linearGradient id=\"l_2\" gradientUnits=\"userSpaceOnUse\" x1=\"99\" y1=\"-72\" x2=\"99\" y2=\"-108\" >\n",
       "<stop offset=\"0\" style=\"stop-color:#ceccff;stop-opacity:1.;\"/>\n",
       "<stop offset=\"1\" style=\"stop-color:white;stop-opacity:1.;\"/>\n",
       "</linearGradient>\n",
       "</defs>\n",
       "<ellipse fill=\"url(#l_2)\" stroke=\"#ff638d\" cx=\"99\" cy=\"-90\" rx=\"27\" ry=\"18\"/>\n",
       "<text text-anchor=\"middle\" x=\"99\" y=\"-86.9\" font-family=\"Acme-Regular.ttf\" font-size=\"12.00\">H</text>\n",
       "</g>\n",
       "<!-- A&#45;&gt;H -->\n",
       "<g id=\"edge2\" class=\"edge\"><title>A&#45;&gt;H</title>\n",
       "<path fill=\"none\" stroke=\"#ff638d\" d=\"M65.8364,-144.055C69.4409,-135.224 74.8869,-124.281 80.4233,-114.632\"/>\n",
       "<polygon fill=\"#ff638d\" stroke=\"#ff638d\" points=\"83.5301,-116.258 85.702,-105.888 77.5374,-112.64 83.5301,-116.258\"/>\n",
       "</g>\n",
       "<!-- B&#45;&gt;A -->\n",
       "<g id=\"edge3\" class=\"edge\"><title>B&#45;&gt;A</title>\n",
       "<path fill=\"none\" stroke=\"#ff638d\" d=\"M40.298,-105.888C45.6576,-114.276 51.4767,-124.996 56.0579,-134.748\"/>\n",
       "<polygon fill=\"#ff638d\" stroke=\"#ff638d\" points=\"52.9252,-136.318 60.1636,-144.055 59.3297,-133.493 52.9252,-136.318\"/>\n",
       "</g>\n",
       "<!-- C -->\n",
       "<g id=\"node4\" class=\"node\"><title>C</title>\n",
       "<defs>\n",
       "<linearGradient id=\"l_3\" gradientUnits=\"userSpaceOnUse\" x1=\"27\" y1=\"-1.77636e-14\" x2=\"27\" y2=\"-36\" >\n",
       "<stop offset=\"0\" style=\"stop-color:#ceccff;stop-opacity:1.;\"/>\n",
       "<stop offset=\"1\" style=\"stop-color:white;stop-opacity:1.;\"/>\n",
       "</linearGradient>\n",
       "</defs>\n",
       "<ellipse fill=\"url(#l_3)\" stroke=\"#ff638d\" cx=\"27\" cy=\"-18\" rx=\"27\" ry=\"18\"/>\n",
       "<text text-anchor=\"middle\" x=\"27\" y=\"-14.9\" font-family=\"Acme-Regular.ttf\" font-size=\"12.00\">C</text>\n",
       "</g>\n",
       "<!-- B&#45;&gt;C -->\n",
       "<g id=\"edge4\" class=\"edge\"><title>B&#45;&gt;C</title>\n",
       "<path fill=\"none\" stroke=\"#ff638d\" d=\"M21.1601,-72.411C20.2975,-64.507 20.0481,-54.8518 20.4119,-45.9352\"/>\n",
       "<polygon fill=\"#ff638d\" stroke=\"#ff638d\" points=\"23.9033,-46.1791 21.1206,-35.9562 16.9209,-45.6831 23.9033,-46.1791\"/>\n",
       "</g>\n",
       "<!-- H&#45;&gt;A -->\n",
       "<g id=\"edge9\" class=\"edge\"><title>H&#45;&gt;A</title>\n",
       "<path fill=\"none\" stroke=\"#ff638d\" d=\"M96.1248,-108.04C92.5124,-116.873 87.0699,-127.8 81.5411,-137.43\"/>\n",
       "<polygon fill=\"#ff638d\" stroke=\"#ff638d\" points=\"78.4454,-135.786 76.2707,-146.155 84.4371,-139.405 78.4454,-135.786\"/>\n",
       "</g>\n",
       "<!-- G -->\n",
       "<g id=\"node7\" class=\"node\"><title>G</title>\n",
       "<defs>\n",
       "<linearGradient id=\"l_4\" gradientUnits=\"userSpaceOnUse\" x1=\"99\" y1=\"-1.77636e-14\" x2=\"99\" y2=\"-36\" >\n",
       "<stop offset=\"0\" style=\"stop-color:#ceccff;stop-opacity:1.;\"/>\n",
       "<stop offset=\"1\" style=\"stop-color:white;stop-opacity:1.;\"/>\n",
       "</linearGradient>\n",
       "</defs>\n",
       "<ellipse fill=\"url(#l_4)\" stroke=\"#ff638d\" cx=\"99\" cy=\"-18\" rx=\"27\" ry=\"18\"/>\n",
       "<text text-anchor=\"middle\" x=\"99\" y=\"-14.9\" font-family=\"Acme-Regular.ttf\" font-size=\"12.00\">G</text>\n",
       "</g>\n",
       "<!-- H&#45;&gt;G -->\n",
       "<g id=\"edge10\" class=\"edge\"><title>H&#45;&gt;G</title>\n",
       "<path fill=\"none\" stroke=\"#ff638d\" d=\"M93.1601,-72.411C92.2975,-64.507 92.0481,-54.8518 92.4119,-45.9352\"/>\n",
       "<polygon fill=\"#ff638d\" stroke=\"#ff638d\" points=\"95.9033,-46.1791 93.1206,-35.9562 88.9209,-45.6831 95.9033,-46.1791\"/>\n",
       "</g>\n",
       "<!-- C&#45;&gt;B -->\n",
       "<g id=\"edge5\" class=\"edge\"><title>C&#45;&gt;B</title>\n",
       "<path fill=\"none\" stroke=\"#ff638d\" d=\"M32.8794,-35.9562C33.7139,-43.8272 33.9485,-53.3739 33.5831,-62.1869\"/>\n",
       "<polygon fill=\"#ff638d\" stroke=\"#ff638d\" points=\"30.0742,-62.1835 32.8399,-72.411 37.0558,-62.6911 30.0742,-62.1835\"/>\n",
       "</g>\n",
       "<!-- E -->\n",
       "<g id=\"node5\" class=\"node\"><title>E</title>\n",
       "<defs>\n",
       "<linearGradient id=\"l_5\" gradientUnits=\"userSpaceOnUse\" x1=\"171\" y1=\"-144\" x2=\"171\" y2=\"-180\" >\n",
       "<stop offset=\"0\" style=\"stop-color:#ceccff;stop-opacity:1.;\"/>\n",
       "<stop offset=\"1\" style=\"stop-color:white;stop-opacity:1.;\"/>\n",
       "</linearGradient>\n",
       "</defs>\n",
       "<ellipse fill=\"url(#l_5)\" stroke=\"#ff638d\" cx=\"171\" cy=\"-162\" rx=\"27\" ry=\"18\"/>\n",
       "<text text-anchor=\"middle\" x=\"171\" y=\"-158.9\" font-family=\"Acme-Regular.ttf\" font-size=\"12.00\">E</text>\n",
       "</g>\n",
       "<!-- F -->\n",
       "<g id=\"node6\" class=\"node\"><title>F</title>\n",
       "<defs>\n",
       "<linearGradient id=\"l_6\" gradientUnits=\"userSpaceOnUse\" x1=\"171\" y1=\"-72\" x2=\"171\" y2=\"-108\" >\n",
       "<stop offset=\"0\" style=\"stop-color:#ceccff;stop-opacity:1.;\"/>\n",
       "<stop offset=\"1\" style=\"stop-color:white;stop-opacity:1.;\"/>\n",
       "</linearGradient>\n",
       "</defs>\n",
       "<ellipse fill=\"url(#l_6)\" stroke=\"#ff638d\" cx=\"171\" cy=\"-90\" rx=\"27\" ry=\"18\"/>\n",
       "<text text-anchor=\"middle\" x=\"171\" y=\"-86.9\" font-family=\"Acme-Regular.ttf\" font-size=\"12.00\">F</text>\n",
       "</g>\n",
       "<!-- E&#45;&gt;F -->\n",
       "<g id=\"edge6\" class=\"edge\"><title>E&#45;&gt;F</title>\n",
       "<path fill=\"none\" stroke=\"#ff638d\" d=\"M165.16,-144.411C164.297,-136.507 164.048,-126.852 164.412,-117.935\"/>\n",
       "<polygon fill=\"#ff638d\" stroke=\"#ff638d\" points=\"167.903,-118.179 165.121,-107.956 160.921,-117.683 167.903,-118.179\"/>\n",
       "</g>\n",
       "<!-- F&#45;&gt;E -->\n",
       "<g id=\"edge7\" class=\"edge\"><title>F&#45;&gt;E</title>\n",
       "<path fill=\"none\" stroke=\"#ff638d\" d=\"M176.879,-107.956C177.714,-115.827 177.948,-125.374 177.583,-134.187\"/>\n",
       "<polygon fill=\"#ff638d\" stroke=\"#ff638d\" points=\"174.074,-134.184 176.84,-144.411 181.056,-134.691 174.074,-134.184\"/>\n",
       "</g>\n",
       "<!-- G&#45;&gt;H -->\n",
       "<g id=\"edge8\" class=\"edge\"><title>G&#45;&gt;H</title>\n",
       "<path fill=\"none\" stroke=\"#ff638d\" d=\"M104.879,-35.9562C105.714,-43.8272 105.948,-53.3739 105.583,-62.1869\"/>\n",
       "<polygon fill=\"#ff638d\" stroke=\"#ff638d\" points=\"102.074,-62.1835 104.84,-72.411 109.056,-62.6911 102.074,-62.1835\"/>\n",
       "</g>\n",
       "</g>\n",
       "</svg>\n"
      ],
      "text/plain": [
       "<graphviz.dot.Digraph at 0x7f5a508e12d0>"
      ]
     },
     "execution_count": 63,
     "metadata": {},
     "output_type": "execute_result"
    }
   ],
   "source": [
    "pgmpyToGraph(skeleton.to_directed())"
   ]
  },
  {
   "cell_type": "markdown",
   "metadata": {
    "lines_to_next_cell": 0,
    "title": "markdown"
   },
   "source": [
    "**Part 2:** Orienting Edges using Score-Based Optimization"
   ]
  },
  {
   "cell_type": "code",
   "execution_count": 64,
   "metadata": {
    "title": "codecell"
   },
   "outputs": [
    {
     "name": "stdout",
     "output_type": "stream",
     "text": [
      "Part 2) Model:  [('A', 'H'), ('A', 'B'), ('C', 'B'), ('F', 'E'), ('G', 'H')]\n"
     ]
    },
    {
     "data": {
      "image/svg+xml": [
       "<?xml version=\"1.0\" encoding=\"UTF-8\" standalone=\"no\"?>\n",
       "<!DOCTYPE svg PUBLIC \"-//W3C//DTD SVG 1.1//EN\"\n",
       " \"http://www.w3.org/Graphics/SVG/1.1/DTD/svg11.dtd\">\n",
       "<!-- Generated by graphviz version 2.38.0 (20140413.2041)\n",
       " -->\n",
       "<!-- Title: G Pages: 1 -->\n",
       "<svg width=\"278pt\" height=\"116pt\"\n",
       " viewBox=\"0.00 0.00 278.00 116.00\" xmlns=\"http://www.w3.org/2000/svg\" xmlns:xlink=\"http://www.w3.org/1999/xlink\">\n",
       "<g id=\"graph0\" class=\"graph\" transform=\"scale(1 1) rotate(0) translate(4 112)\">\n",
       "<title>G</title>\n",
       "<polygon fill=\"white\" stroke=\"none\" points=\"-4,4 -4,-112 274,-112 274,4 -4,4\"/>\n",
       "<!-- A -->\n",
       "<g id=\"node1\" class=\"node\"><title>A</title>\n",
       "<defs>\n",
       "<linearGradient id=\"l_0\" gradientUnits=\"userSpaceOnUse\" x1=\"99\" y1=\"-72\" x2=\"99\" y2=\"-108\" >\n",
       "<stop offset=\"0\" style=\"stop-color:#ceccff;stop-opacity:1.;\"/>\n",
       "<stop offset=\"1\" style=\"stop-color:white;stop-opacity:1.;\"/>\n",
       "</linearGradient>\n",
       "</defs>\n",
       "<ellipse fill=\"url(#l_0)\" stroke=\"#ff638d\" cx=\"99\" cy=\"-90\" rx=\"27\" ry=\"18\"/>\n",
       "<text text-anchor=\"middle\" x=\"99\" y=\"-86.9\" font-family=\"Acme-Regular.ttf\" font-size=\"12.00\">A</text>\n",
       "</g>\n",
       "<!-- H -->\n",
       "<g id=\"node2\" class=\"node\"><title>H</title>\n",
       "<defs>\n",
       "<linearGradient id=\"l_1\" gradientUnits=\"userSpaceOnUse\" x1=\"45\" y1=\"-1.77636e-14\" x2=\"45\" y2=\"-36\" >\n",
       "<stop offset=\"0\" style=\"stop-color:#ceccff;stop-opacity:1.;\"/>\n",
       "<stop offset=\"1\" style=\"stop-color:white;stop-opacity:1.;\"/>\n",
       "</linearGradient>\n",
       "</defs>\n",
       "<ellipse fill=\"url(#l_1)\" stroke=\"#ff638d\" cx=\"45\" cy=\"-18\" rx=\"27\" ry=\"18\"/>\n",
       "<text text-anchor=\"middle\" x=\"45\" y=\"-14.9\" font-family=\"Acme-Regular.ttf\" font-size=\"12.00\">H</text>\n",
       "</g>\n",
       "<!-- A&#45;&gt;H -->\n",
       "<g id=\"edge1\" class=\"edge\"><title>A&#45;&gt;H</title>\n",
       "<path fill=\"none\" stroke=\"#ff638d\" d=\"M87.0156,-73.4647C80.0245,-64.4021 71.0638,-52.7865 63.2149,-42.6119\"/>\n",
       "<polygon fill=\"#ff638d\" stroke=\"#ff638d\" points=\"65.8302,-40.2719 56.9508,-34.4918 60.2877,-44.5475 65.8302,-40.2719\"/>\n",
       "</g>\n",
       "<!-- B -->\n",
       "<g id=\"node3\" class=\"node\"><title>B</title>\n",
       "<defs>\n",
       "<linearGradient id=\"l_2\" gradientUnits=\"userSpaceOnUse\" x1=\"153\" y1=\"-1.77636e-14\" x2=\"153\" y2=\"-36\" >\n",
       "<stop offset=\"0\" style=\"stop-color:#ceccff;stop-opacity:1.;\"/>\n",
       "<stop offset=\"1\" style=\"stop-color:white;stop-opacity:1.;\"/>\n",
       "</linearGradient>\n",
       "</defs>\n",
       "<ellipse fill=\"url(#l_2)\" stroke=\"#ff638d\" cx=\"153\" cy=\"-18\" rx=\"27\" ry=\"18\"/>\n",
       "<text text-anchor=\"middle\" x=\"153\" y=\"-14.9\" font-family=\"Acme-Regular.ttf\" font-size=\"12.00\">B</text>\n",
       "</g>\n",
       "<!-- A&#45;&gt;B -->\n",
       "<g id=\"edge2\" class=\"edge\"><title>A&#45;&gt;B</title>\n",
       "<path fill=\"none\" stroke=\"#ff638d\" d=\"M110.984,-73.4647C117.976,-64.4021 126.936,-52.7865 134.785,-42.6119\"/>\n",
       "<polygon fill=\"#ff638d\" stroke=\"#ff638d\" points=\"137.712,-44.5475 141.049,-34.4918 132.17,-40.2719 137.712,-44.5475\"/>\n",
       "</g>\n",
       "<!-- C -->\n",
       "<g id=\"node4\" class=\"node\"><title>C</title>\n",
       "<defs>\n",
       "<linearGradient id=\"l_3\" gradientUnits=\"userSpaceOnUse\" x1=\"171\" y1=\"-72\" x2=\"171\" y2=\"-108\" >\n",
       "<stop offset=\"0\" style=\"stop-color:#ceccff;stop-opacity:1.;\"/>\n",
       "<stop offset=\"1\" style=\"stop-color:white;stop-opacity:1.;\"/>\n",
       "</linearGradient>\n",
       "</defs>\n",
       "<ellipse fill=\"url(#l_3)\" stroke=\"#ff638d\" cx=\"171\" cy=\"-90\" rx=\"27\" ry=\"18\"/>\n",
       "<text text-anchor=\"middle\" x=\"171\" y=\"-86.9\" font-family=\"Acme-Regular.ttf\" font-size=\"12.00\">C</text>\n",
       "</g>\n",
       "<!-- C&#45;&gt;B -->\n",
       "<g id=\"edge3\" class=\"edge\"><title>C&#45;&gt;B</title>\n",
       "<path fill=\"none\" stroke=\"#ff638d\" d=\"M166.643,-72.055C164.609,-64.1446 162.139,-54.5398 159.863,-45.6879\"/>\n",
       "<polygon fill=\"#ff638d\" stroke=\"#ff638d\" points=\"163.197,-44.6023 157.317,-35.789 156.418,-46.3456 163.197,-44.6023\"/>\n",
       "</g>\n",
       "<!-- F -->\n",
       "<g id=\"node5\" class=\"node\"><title>F</title>\n",
       "<defs>\n",
       "<linearGradient id=\"l_4\" gradientUnits=\"userSpaceOnUse\" x1=\"243\" y1=\"-72\" x2=\"243\" y2=\"-108\" >\n",
       "<stop offset=\"0\" style=\"stop-color:#ceccff;stop-opacity:1.;\"/>\n",
       "<stop offset=\"1\" style=\"stop-color:white;stop-opacity:1.;\"/>\n",
       "</linearGradient>\n",
       "</defs>\n",
       "<ellipse fill=\"url(#l_4)\" stroke=\"#ff638d\" cx=\"243\" cy=\"-90\" rx=\"27\" ry=\"18\"/>\n",
       "<text text-anchor=\"middle\" x=\"243\" y=\"-86.9\" font-family=\"Acme-Regular.ttf\" font-size=\"12.00\">F</text>\n",
       "</g>\n",
       "<!-- E -->\n",
       "<g id=\"node6\" class=\"node\"><title>E</title>\n",
       "<defs>\n",
       "<linearGradient id=\"l_5\" gradientUnits=\"userSpaceOnUse\" x1=\"243\" y1=\"-1.77636e-14\" x2=\"243\" y2=\"-36\" >\n",
       "<stop offset=\"0\" style=\"stop-color:#ceccff;stop-opacity:1.;\"/>\n",
       "<stop offset=\"1\" style=\"stop-color:white;stop-opacity:1.;\"/>\n",
       "</linearGradient>\n",
       "</defs>\n",
       "<ellipse fill=\"url(#l_5)\" stroke=\"#ff638d\" cx=\"243\" cy=\"-18\" rx=\"27\" ry=\"18\"/>\n",
       "<text text-anchor=\"middle\" x=\"243\" y=\"-14.9\" font-family=\"Acme-Regular.ttf\" font-size=\"12.00\">E</text>\n",
       "</g>\n",
       "<!-- F&#45;&gt;E -->\n",
       "<g id=\"edge4\" class=\"edge\"><title>F&#45;&gt;E</title>\n",
       "<path fill=\"none\" stroke=\"#ff638d\" d=\"M243,-71.6966C243,-63.9827 243,-54.7125 243,-46.1124\"/>\n",
       "<polygon fill=\"#ff638d\" stroke=\"#ff638d\" points=\"246.5,-46.1043 243,-36.1043 239.5,-46.1044 246.5,-46.1043\"/>\n",
       "</g>\n",
       "<!-- G -->\n",
       "<g id=\"node7\" class=\"node\"><title>G</title>\n",
       "<defs>\n",
       "<linearGradient id=\"l_6\" gradientUnits=\"userSpaceOnUse\" x1=\"27\" y1=\"-72\" x2=\"27\" y2=\"-108\" >\n",
       "<stop offset=\"0\" style=\"stop-color:#ceccff;stop-opacity:1.;\"/>\n",
       "<stop offset=\"1\" style=\"stop-color:white;stop-opacity:1.;\"/>\n",
       "</linearGradient>\n",
       "</defs>\n",
       "<ellipse fill=\"url(#l_6)\" stroke=\"#ff638d\" cx=\"27\" cy=\"-90\" rx=\"27\" ry=\"18\"/>\n",
       "<text text-anchor=\"middle\" x=\"27\" y=\"-86.9\" font-family=\"Acme-Regular.ttf\" font-size=\"12.00\">G</text>\n",
       "</g>\n",
       "<!-- G&#45;&gt;H -->\n",
       "<g id=\"edge5\" class=\"edge\"><title>G&#45;&gt;H</title>\n",
       "<path fill=\"none\" stroke=\"#ff638d\" d=\"M31.3573,-72.055C33.3914,-64.1446 35.8612,-54.5398 38.1374,-45.6879\"/>\n",
       "<polygon fill=\"#ff638d\" stroke=\"#ff638d\" points=\"41.5821,-46.3456 40.6828,-35.789 34.8026,-44.6023 41.5821,-46.3456\"/>\n",
       "</g>\n",
       "</g>\n",
       "</svg>\n"
      ],
      "text/plain": [
       "<graphviz.dot.Digraph at 0x7f5a506ba550>"
      ]
     },
     "execution_count": 64,
     "metadata": {},
     "output_type": "execute_result"
    }
   ],
   "source": [
    "# Use hill climb search to orient the edges\n",
    "hc: HillClimbSearch = HillClimbSearch(data = data, scoring_method = BDeuScore(data))\n",
    "\n",
    "### Part 2) Model estimation\n",
    "# NOTE: providing the white list argument limits the search to edges only in white list\n",
    "modelHybrid: DAG = hc.estimate(tabu_length = 10,\n",
    "                               white_list = skeleton.to_directed().edges())\n",
    "\n",
    "\n",
    "\n",
    "print(\"Part 2) Model: \", modelHybrid.edges())\n",
    "\n",
    "pgmpyToGraph(modelHybrid)"
   ]
  },
  {
   "cell_type": "markdown",
   "metadata": {
    "lines_to_next_cell": 0,
    "title": "markdown"
   },
   "source": [
    "`MmhcEstimator.estimate()` combines both these steps and directly estimates a `BayesianModel`.\n",
    "\n",
    "Creating the model the short way:"
   ]
  },
  {
   "cell_type": "code",
   "execution_count": 65,
   "metadata": {
    "title": "codecell"
   },
   "outputs": [
    {
     "name": "stderr",
     "output_type": "stream",
     "text": [
      "/development/bin/python/conda3_ana/envs/pybayesian_env/lib/python3.7/site-packages/pgmpy/estimators/CITests.py:95: UserWarning: Insufficient data for testing A _|_ E | ['C', 'B', 'H']. At least 7290 samples recommended, 2500 present.\n",
      "  5 * num_params, len(data)\n"
     ]
    },
    {
     "name": "stderr",
     "output_type": "stream",
     "text": [
      "/development/bin/python/conda3_ana/envs/pybayesian_env/lib/python3.7/site-packages/pgmpy/estimators/CITests.py:95: UserWarning: Insufficient data for testing A _|_ G | ['C', 'B', 'H']. At least 4860 samples recommended, 2500 present.\n",
      "  5 * num_params, len(data)\n"
     ]
    },
    {
     "name": "stderr",
     "output_type": "stream",
     "text": [
      "/development/bin/python/conda3_ana/envs/pybayesian_env/lib/python3.7/site-packages/pgmpy/estimators/CITests.py:95: UserWarning: Insufficient data for testing A _|_ D | ['C', 'B', 'H']. At least 4860 samples recommended, 2500 present.\n",
      "  5 * num_params, len(data)\n"
     ]
    },
    {
     "name": "stderr",
     "output_type": "stream",
     "text": [
      "/development/bin/python/conda3_ana/envs/pybayesian_env/lib/python3.7/site-packages/pgmpy/estimators/CITests.py:95: UserWarning: Insufficient data for testing A _|_ F | ['C', 'B', 'H']. At least 4860 samples recommended, 2500 present.\n",
      "  5 * num_params, len(data)\n"
     ]
    },
    {
     "name": "stderr",
     "output_type": "stream",
     "text": [
      "/development/bin/python/conda3_ana/envs/pybayesian_env/lib/python3.7/site-packages/pgmpy/estimators/CITests.py:95: UserWarning: Insufficient data for testing A _|_ E | ['C', 'H', 'G']. At least 7290 samples recommended, 2500 present.\n",
      "  5 * num_params, len(data)\n"
     ]
    },
    {
     "name": "stderr",
     "output_type": "stream",
     "text": [
      "/development/bin/python/conda3_ana/envs/pybayesian_env/lib/python3.7/site-packages/pgmpy/estimators/CITests.py:95: UserWarning: Insufficient data for testing A _|_ E | ['B', 'H', 'G']. At least 7290 samples recommended, 2500 present.\n",
      "  5 * num_params, len(data)\n"
     ]
    },
    {
     "name": "stderr",
     "output_type": "stream",
     "text": [
      "/development/bin/python/conda3_ana/envs/pybayesian_env/lib/python3.7/site-packages/pgmpy/estimators/CITests.py:95: UserWarning: Insufficient data for testing A _|_ E | ['C', 'B', 'H', 'G']. At least 21870 samples recommended, 2500 present.\n",
      "  5 * num_params, len(data)\n"
     ]
    },
    {
     "name": "stderr",
     "output_type": "stream",
     "text": [
      "/development/bin/python/conda3_ana/envs/pybayesian_env/lib/python3.7/site-packages/pgmpy/estimators/CITests.py:95: UserWarning: Insufficient data for testing A _|_ D | ['C', 'H', 'G']. At least 4860 samples recommended, 2500 present.\n",
      "  5 * num_params, len(data)\n"
     ]
    },
    {
     "name": "stderr",
     "output_type": "stream",
     "text": [
      "/development/bin/python/conda3_ana/envs/pybayesian_env/lib/python3.7/site-packages/pgmpy/estimators/CITests.py:95: UserWarning: Insufficient data for testing A _|_ D | ['B', 'H', 'G']. At least 4860 samples recommended, 2500 present.\n",
      "  5 * num_params, len(data)\n"
     ]
    },
    {
     "name": "stderr",
     "output_type": "stream",
     "text": [
      "/development/bin/python/conda3_ana/envs/pybayesian_env/lib/python3.7/site-packages/pgmpy/estimators/CITests.py:95: UserWarning: Insufficient data for testing A _|_ D | ['C', 'B', 'H', 'G']. At least 14580 samples recommended, 2500 present.\n",
      "  5 * num_params, len(data)\n"
     ]
    },
    {
     "name": "stderr",
     "output_type": "stream",
     "text": [
      "/development/bin/python/conda3_ana/envs/pybayesian_env/lib/python3.7/site-packages/pgmpy/estimators/CITests.py:95: UserWarning: Insufficient data for testing A _|_ F | ['C', 'H', 'G']. At least 4860 samples recommended, 2500 present.\n",
      "  5 * num_params, len(data)\n"
     ]
    },
    {
     "name": "stderr",
     "output_type": "stream",
     "text": [
      "/development/bin/python/conda3_ana/envs/pybayesian_env/lib/python3.7/site-packages/pgmpy/estimators/CITests.py:95: UserWarning: Insufficient data for testing A _|_ F | ['B', 'H', 'G']. At least 4860 samples recommended, 2500 present.\n",
      "  5 * num_params, len(data)\n"
     ]
    },
    {
     "name": "stderr",
     "output_type": "stream",
     "text": [
      "/development/bin/python/conda3_ana/envs/pybayesian_env/lib/python3.7/site-packages/pgmpy/estimators/CITests.py:95: UserWarning: Insufficient data for testing A _|_ F | ['C', 'B', 'H', 'G']. At least 14580 samples recommended, 2500 present.\n",
      "  5 * num_params, len(data)\n"
     ]
    },
    {
     "name": "stderr",
     "output_type": "stream",
     "text": [
      "/development/bin/python/conda3_ana/envs/pybayesian_env/lib/python3.7/site-packages/pgmpy/estimators/CITests.py:95: UserWarning: Insufficient data for testing B _|_ E | ['A', 'H', 'C']. At least 5670 samples recommended, 2500 present.\n",
      "  5 * num_params, len(data)\n"
     ]
    },
    {
     "name": "stderr",
     "output_type": "stream",
     "text": [
      "/development/bin/python/conda3_ana/envs/pybayesian_env/lib/python3.7/site-packages/pgmpy/estimators/CITests.py:95: UserWarning: Insufficient data for testing B _|_ G | ['A', 'H', 'C']. At least 3780 samples recommended, 2500 present.\n",
      "  5 * num_params, len(data)\n"
     ]
    },
    {
     "name": "stderr",
     "output_type": "stream",
     "text": [
      "/development/bin/python/conda3_ana/envs/pybayesian_env/lib/python3.7/site-packages/pgmpy/estimators/CITests.py:95: UserWarning: Insufficient data for testing B _|_ D | ['A', 'H', 'C']. At least 3780 samples recommended, 2500 present.\n",
      "  5 * num_params, len(data)\n"
     ]
    },
    {
     "name": "stderr",
     "output_type": "stream",
     "text": [
      "/development/bin/python/conda3_ana/envs/pybayesian_env/lib/python3.7/site-packages/pgmpy/estimators/CITests.py:95: UserWarning: Insufficient data for testing B _|_ F | ['A', 'H', 'C']. At least 3780 samples recommended, 2500 present.\n",
      "  5 * num_params, len(data)\n"
     ]
    },
    {
     "name": "stderr",
     "output_type": "stream",
     "text": [
      "/development/bin/python/conda3_ana/envs/pybayesian_env/lib/python3.7/site-packages/pgmpy/estimators/CITests.py:95: UserWarning: Insufficient data for testing C _|_ E | ['A', 'H', 'B']. At least 5670 samples recommended, 2500 present.\n",
      "  5 * num_params, len(data)\n"
     ]
    },
    {
     "name": "stderr",
     "output_type": "stream",
     "text": [
      "/development/bin/python/conda3_ana/envs/pybayesian_env/lib/python3.7/site-packages/pgmpy/estimators/CITests.py:95: UserWarning: Insufficient data for testing C _|_ G | ['A', 'H', 'B']. At least 3780 samples recommended, 2500 present.\n",
      "  5 * num_params, len(data)\n"
     ]
    },
    {
     "name": "stderr",
     "output_type": "stream",
     "text": [
      "/development/bin/python/conda3_ana/envs/pybayesian_env/lib/python3.7/site-packages/pgmpy/estimators/CITests.py:95: UserWarning: Insufficient data for testing C _|_ D | ['A', 'H', 'B']. At least 3780 samples recommended, 2500 present.\n",
      "  5 * num_params, len(data)\n"
     ]
    },
    {
     "name": "stderr",
     "output_type": "stream",
     "text": [
      "/development/bin/python/conda3_ana/envs/pybayesian_env/lib/python3.7/site-packages/pgmpy/estimators/CITests.py:95: UserWarning: Insufficient data for testing C _|_ F | ['A', 'H', 'B']. At least 3780 samples recommended, 2500 present.\n",
      "  5 * num_params, len(data)\n"
     ]
    },
    {
     "name": "stderr",
     "output_type": "stream",
     "text": [
      "/development/bin/python/conda3_ana/envs/pybayesian_env/lib/python3.7/site-packages/pgmpy/estimators/CITests.py:95: UserWarning: Insufficient data for testing D _|_ H | ['B', 'F', 'A']. At least 5040 samples recommended, 2500 present.\n",
      "  5 * num_params, len(data)\n"
     ]
    },
    {
     "name": "stderr",
     "output_type": "stream",
     "text": [
      "/development/bin/python/conda3_ana/envs/pybayesian_env/lib/python3.7/site-packages/pgmpy/estimators/CITests.py:95: UserWarning: Insufficient data for testing E _|_ H | ['F', 'B', 'C']. At least 3240 samples recommended, 2500 present.\n",
      "  5 * num_params, len(data)\n"
     ]
    },
    {
     "name": "stderr",
     "output_type": "stream",
     "text": [
      "/development/bin/python/conda3_ana/envs/pybayesian_env/lib/python3.7/site-packages/pgmpy/estimators/CITests.py:95: UserWarning: Insufficient data for testing E _|_ H | ['F', 'A']. At least 2520 samples recommended, 2500 present.\n",
      "  5 * num_params, len(data)\n"
     ]
    },
    {
     "name": "stderr",
     "output_type": "stream",
     "text": [
      "/development/bin/python/conda3_ana/envs/pybayesian_env/lib/python3.7/site-packages/pgmpy/estimators/CITests.py:95: UserWarning: Insufficient data for testing E _|_ H | ['B', 'A']. At least 2520 samples recommended, 2500 present.\n",
      "  5 * num_params, len(data)\n"
     ]
    },
    {
     "name": "stderr",
     "output_type": "stream",
     "text": [
      "/development/bin/python/conda3_ana/envs/pybayesian_env/lib/python3.7/site-packages/pgmpy/estimators/CITests.py:95: UserWarning: Insufficient data for testing E _|_ H | ['C', 'A']. At least 2520 samples recommended, 2500 present.\n",
      "  5 * num_params, len(data)\n"
     ]
    },
    {
     "name": "stderr",
     "output_type": "stream",
     "text": [
      "/development/bin/python/conda3_ana/envs/pybayesian_env/lib/python3.7/site-packages/pgmpy/estimators/CITests.py:95: UserWarning: Insufficient data for testing E _|_ H | ['F', 'B', 'A']. At least 7560 samples recommended, 2500 present.\n",
      "  5 * num_params, len(data)\n"
     ]
    },
    {
     "name": "stderr",
     "output_type": "stream",
     "text": [
      "/development/bin/python/conda3_ana/envs/pybayesian_env/lib/python3.7/site-packages/pgmpy/estimators/CITests.py:95: UserWarning: Insufficient data for testing E _|_ H | ['F', 'C', 'A']. At least 7560 samples recommended, 2500 present.\n",
      "  5 * num_params, len(data)\n"
     ]
    },
    {
     "name": "stderr",
     "output_type": "stream",
     "text": [
      "/development/bin/python/conda3_ana/envs/pybayesian_env/lib/python3.7/site-packages/pgmpy/estimators/CITests.py:95: UserWarning: Insufficient data for testing E _|_ H | ['B', 'C', 'A']. At least 7560 samples recommended, 2500 present.\n",
      "  5 * num_params, len(data)\n"
     ]
    },
    {
     "name": "stderr",
     "output_type": "stream",
     "text": [
      "/development/bin/python/conda3_ana/envs/pybayesian_env/lib/python3.7/site-packages/pgmpy/estimators/CITests.py:95: UserWarning: Insufficient data for testing E _|_ H | ['F', 'B', 'C', 'A']. At least 22680 samples recommended, 2500 present.\n",
      "  5 * num_params, len(data)\n"
     ]
    },
    {
     "name": "stderr",
     "output_type": "stream",
     "text": [
      "/development/bin/python/conda3_ana/envs/pybayesian_env/lib/python3.7/site-packages/pgmpy/estimators/CITests.py:95: UserWarning: Insufficient data for testing E _|_ G | ['F', 'B', 'C', 'A']. At least 5670 samples recommended, 2500 present.\n",
      "  5 * num_params, len(data)\n"
     ]
    },
    {
     "name": "stderr",
     "output_type": "stream",
     "text": [
      "/development/bin/python/conda3_ana/envs/pybayesian_env/lib/python3.7/site-packages/pgmpy/estimators/CITests.py:95: UserWarning: Insufficient data for testing E _|_ D | ['F', 'B', 'C', 'A']. At least 5670 samples recommended, 2500 present.\n",
      "  5 * num_params, len(data)\n"
     ]
    },
    {
     "name": "stderr",
     "output_type": "stream",
     "text": [
      "/development/bin/python/conda3_ana/envs/pybayesian_env/lib/python3.7/site-packages/pgmpy/estimators/CITests.py:95: UserWarning: Insufficient data for testing F _|_ H | ['E', 'B', 'A']. At least 6720 samples recommended, 2500 present.\n",
      "  5 * num_params, len(data)\n"
     ]
    },
    {
     "name": "stderr",
     "output_type": "stream",
     "text": [
      "/development/bin/python/conda3_ana/envs/pybayesian_env/lib/python3.7/site-packages/pgmpy/estimators/CITests.py:95: UserWarning: Insufficient data for testing G _|_ E | ['H', 'B', 'A']. At least 5670 samples recommended, 2500 present.\n",
      "  5 * num_params, len(data)\n"
     ]
    },
    {
     "name": "stderr",
     "output_type": "stream",
     "text": [
      "/development/bin/python/conda3_ana/envs/pybayesian_env/lib/python3.7/site-packages/pgmpy/estimators/CITests.py:95: UserWarning: Insufficient data for testing G _|_ C | ['H', 'B', 'A']. At least 3780 samples recommended, 2500 present.\n",
      "  5 * num_params, len(data)\n"
     ]
    },
    {
     "name": "stderr",
     "output_type": "stream",
     "text": [
      "/development/bin/python/conda3_ana/envs/pybayesian_env/lib/python3.7/site-packages/pgmpy/estimators/CITests.py:95: UserWarning: Insufficient data for testing G _|_ D | ['H', 'B', 'A']. At least 3780 samples recommended, 2500 present.\n",
      "  5 * num_params, len(data)\n"
     ]
    },
    {
     "name": "stderr",
     "output_type": "stream",
     "text": [
      "/development/bin/python/conda3_ana/envs/pybayesian_env/lib/python3.7/site-packages/pgmpy/estimators/CITests.py:95: UserWarning: Insufficient data for testing G _|_ F | ['H', 'B', 'A']. At least 3780 samples recommended, 2500 present.\n",
      "  5 * num_params, len(data)\n"
     ]
    },
    {
     "name": "stderr",
     "output_type": "stream",
     "text": [
      "/development/bin/python/conda3_ana/envs/pybayesian_env/lib/python3.7/site-packages/pgmpy/estimators/CITests.py:95: UserWarning: Insufficient data for testing H _|_ E | ['C', 'A']. At least 2520 samples recommended, 2500 present.\n",
      "  5 * num_params, len(data)\n"
     ]
    },
    {
     "name": "stderr",
     "output_type": "stream",
     "text": [
      "/development/bin/python/conda3_ana/envs/pybayesian_env/lib/python3.7/site-packages/pgmpy/estimators/CITests.py:95: UserWarning: Insufficient data for testing H _|_ E | ['A', 'G']. At least 2520 samples recommended, 2500 present.\n",
      "  5 * num_params, len(data)\n"
     ]
    },
    {
     "name": "stderr",
     "output_type": "stream",
     "text": [
      "/development/bin/python/conda3_ana/envs/pybayesian_env/lib/python3.7/site-packages/pgmpy/estimators/CITests.py:95: UserWarning: Insufficient data for testing H _|_ E | ['C', 'A', 'G']. At least 7560 samples recommended, 2500 present.\n",
      "  5 * num_params, len(data)\n"
     ]
    },
    {
     "name": "stderr",
     "output_type": "stream",
     "text": [
      "/development/bin/python/conda3_ana/envs/pybayesian_env/lib/python3.7/site-packages/pgmpy/estimators/CITests.py:95: UserWarning: Insufficient data for testing H _|_ B | ['C', 'A', 'G']. At least 5040 samples recommended, 2500 present.\n",
      "  5 * num_params, len(data)\n"
     ]
    },
    {
     "name": "stderr",
     "output_type": "stream",
     "text": [
      "/development/bin/python/conda3_ana/envs/pybayesian_env/lib/python3.7/site-packages/pgmpy/estimators/CITests.py:95: UserWarning: Insufficient data for testing H _|_ D | ['C', 'A', 'G']. At least 5040 samples recommended, 2500 present.\n",
      "  5 * num_params, len(data)\n"
     ]
    },
    {
     "name": "stderr",
     "output_type": "stream",
     "text": [
      "/development/bin/python/conda3_ana/envs/pybayesian_env/lib/python3.7/site-packages/pgmpy/estimators/CITests.py:95: UserWarning: Insufficient data for testing H _|_ F | ['C', 'A', 'G']. At least 5040 samples recommended, 2500 present.\n",
      "  5 * num_params, len(data)\n"
     ]
    },
    {
     "data": {
      "image/svg+xml": [
       "<?xml version=\"1.0\" encoding=\"UTF-8\" standalone=\"no\"?>\n",
       "<!DOCTYPE svg PUBLIC \"-//W3C//DTD SVG 1.1//EN\"\n",
       " \"http://www.w3.org/Graphics/SVG/1.1/DTD/svg11.dtd\">\n",
       "<!-- Generated by graphviz version 2.38.0 (20140413.2041)\n",
       " -->\n",
       "<!-- Title: G Pages: 1 -->\n",
       "<svg width=\"278pt\" height=\"116pt\"\n",
       " viewBox=\"0.00 0.00 278.00 116.00\" xmlns=\"http://www.w3.org/2000/svg\" xmlns:xlink=\"http://www.w3.org/1999/xlink\">\n",
       "<g id=\"graph0\" class=\"graph\" transform=\"scale(1 1) rotate(0) translate(4 112)\">\n",
       "<title>G</title>\n",
       "<polygon fill=\"white\" stroke=\"none\" points=\"-4,4 -4,-112 274,-112 274,4 -4,4\"/>\n",
       "<!-- A -->\n",
       "<g id=\"node1\" class=\"node\"><title>A</title>\n",
       "<defs>\n",
       "<linearGradient id=\"l_0\" gradientUnits=\"userSpaceOnUse\" x1=\"99\" y1=\"-72\" x2=\"99\" y2=\"-108\" >\n",
       "<stop offset=\"0\" style=\"stop-color:#ceccff;stop-opacity:1.;\"/>\n",
       "<stop offset=\"1\" style=\"stop-color:white;stop-opacity:1.;\"/>\n",
       "</linearGradient>\n",
       "</defs>\n",
       "<ellipse fill=\"url(#l_0)\" stroke=\"#ff638d\" cx=\"99\" cy=\"-90\" rx=\"27\" ry=\"18\"/>\n",
       "<text text-anchor=\"middle\" x=\"99\" y=\"-86.9\" font-family=\"Acme-Regular.ttf\" font-size=\"12.00\">A</text>\n",
       "</g>\n",
       "<!-- H -->\n",
       "<g id=\"node2\" class=\"node\"><title>H</title>\n",
       "<defs>\n",
       "<linearGradient id=\"l_1\" gradientUnits=\"userSpaceOnUse\" x1=\"45\" y1=\"-1.77636e-14\" x2=\"45\" y2=\"-36\" >\n",
       "<stop offset=\"0\" style=\"stop-color:#ceccff;stop-opacity:1.;\"/>\n",
       "<stop offset=\"1\" style=\"stop-color:white;stop-opacity:1.;\"/>\n",
       "</linearGradient>\n",
       "</defs>\n",
       "<ellipse fill=\"url(#l_1)\" stroke=\"#ff638d\" cx=\"45\" cy=\"-18\" rx=\"27\" ry=\"18\"/>\n",
       "<text text-anchor=\"middle\" x=\"45\" y=\"-14.9\" font-family=\"Acme-Regular.ttf\" font-size=\"12.00\">H</text>\n",
       "</g>\n",
       "<!-- A&#45;&gt;H -->\n",
       "<g id=\"edge1\" class=\"edge\"><title>A&#45;&gt;H</title>\n",
       "<path fill=\"none\" stroke=\"#ff638d\" d=\"M87.0156,-73.4647C80.0245,-64.4021 71.0638,-52.7865 63.2149,-42.6119\"/>\n",
       "<polygon fill=\"#ff638d\" stroke=\"#ff638d\" points=\"65.8302,-40.2719 56.9508,-34.4918 60.2877,-44.5475 65.8302,-40.2719\"/>\n",
       "</g>\n",
       "<!-- B -->\n",
       "<g id=\"node3\" class=\"node\"><title>B</title>\n",
       "<defs>\n",
       "<linearGradient id=\"l_2\" gradientUnits=\"userSpaceOnUse\" x1=\"153\" y1=\"-1.77636e-14\" x2=\"153\" y2=\"-36\" >\n",
       "<stop offset=\"0\" style=\"stop-color:#ceccff;stop-opacity:1.;\"/>\n",
       "<stop offset=\"1\" style=\"stop-color:white;stop-opacity:1.;\"/>\n",
       "</linearGradient>\n",
       "</defs>\n",
       "<ellipse fill=\"url(#l_2)\" stroke=\"#ff638d\" cx=\"153\" cy=\"-18\" rx=\"27\" ry=\"18\"/>\n",
       "<text text-anchor=\"middle\" x=\"153\" y=\"-14.9\" font-family=\"Acme-Regular.ttf\" font-size=\"12.00\">B</text>\n",
       "</g>\n",
       "<!-- A&#45;&gt;B -->\n",
       "<g id=\"edge2\" class=\"edge\"><title>A&#45;&gt;B</title>\n",
       "<path fill=\"none\" stroke=\"#ff638d\" d=\"M110.984,-73.4647C117.976,-64.4021 126.936,-52.7865 134.785,-42.6119\"/>\n",
       "<polygon fill=\"#ff638d\" stroke=\"#ff638d\" points=\"137.712,-44.5475 141.049,-34.4918 132.17,-40.2719 137.712,-44.5475\"/>\n",
       "</g>\n",
       "<!-- C -->\n",
       "<g id=\"node4\" class=\"node\"><title>C</title>\n",
       "<defs>\n",
       "<linearGradient id=\"l_3\" gradientUnits=\"userSpaceOnUse\" x1=\"171\" y1=\"-72\" x2=\"171\" y2=\"-108\" >\n",
       "<stop offset=\"0\" style=\"stop-color:#ceccff;stop-opacity:1.;\"/>\n",
       "<stop offset=\"1\" style=\"stop-color:white;stop-opacity:1.;\"/>\n",
       "</linearGradient>\n",
       "</defs>\n",
       "<ellipse fill=\"url(#l_3)\" stroke=\"#ff638d\" cx=\"171\" cy=\"-90\" rx=\"27\" ry=\"18\"/>\n",
       "<text text-anchor=\"middle\" x=\"171\" y=\"-86.9\" font-family=\"Acme-Regular.ttf\" font-size=\"12.00\">C</text>\n",
       "</g>\n",
       "<!-- C&#45;&gt;B -->\n",
       "<g id=\"edge3\" class=\"edge\"><title>C&#45;&gt;B</title>\n",
       "<path fill=\"none\" stroke=\"#ff638d\" d=\"M166.643,-72.055C164.609,-64.1446 162.139,-54.5398 159.863,-45.6879\"/>\n",
       "<polygon fill=\"#ff638d\" stroke=\"#ff638d\" points=\"163.197,-44.6023 157.317,-35.789 156.418,-46.3456 163.197,-44.6023\"/>\n",
       "</g>\n",
       "<!-- F -->\n",
       "<g id=\"node5\" class=\"node\"><title>F</title>\n",
       "<defs>\n",
       "<linearGradient id=\"l_4\" gradientUnits=\"userSpaceOnUse\" x1=\"243\" y1=\"-72\" x2=\"243\" y2=\"-108\" >\n",
       "<stop offset=\"0\" style=\"stop-color:#ceccff;stop-opacity:1.;\"/>\n",
       "<stop offset=\"1\" style=\"stop-color:white;stop-opacity:1.;\"/>\n",
       "</linearGradient>\n",
       "</defs>\n",
       "<ellipse fill=\"url(#l_4)\" stroke=\"#ff638d\" cx=\"243\" cy=\"-90\" rx=\"27\" ry=\"18\"/>\n",
       "<text text-anchor=\"middle\" x=\"243\" y=\"-86.9\" font-family=\"Acme-Regular.ttf\" font-size=\"12.00\">F</text>\n",
       "</g>\n",
       "<!-- E -->\n",
       "<g id=\"node6\" class=\"node\"><title>E</title>\n",
       "<defs>\n",
       "<linearGradient id=\"l_5\" gradientUnits=\"userSpaceOnUse\" x1=\"243\" y1=\"-1.77636e-14\" x2=\"243\" y2=\"-36\" >\n",
       "<stop offset=\"0\" style=\"stop-color:#ceccff;stop-opacity:1.;\"/>\n",
       "<stop offset=\"1\" style=\"stop-color:white;stop-opacity:1.;\"/>\n",
       "</linearGradient>\n",
       "</defs>\n",
       "<ellipse fill=\"url(#l_5)\" stroke=\"#ff638d\" cx=\"243\" cy=\"-18\" rx=\"27\" ry=\"18\"/>\n",
       "<text text-anchor=\"middle\" x=\"243\" y=\"-14.9\" font-family=\"Acme-Regular.ttf\" font-size=\"12.00\">E</text>\n",
       "</g>\n",
       "<!-- F&#45;&gt;E -->\n",
       "<g id=\"edge4\" class=\"edge\"><title>F&#45;&gt;E</title>\n",
       "<path fill=\"none\" stroke=\"#ff638d\" d=\"M243,-71.6966C243,-63.9827 243,-54.7125 243,-46.1124\"/>\n",
       "<polygon fill=\"#ff638d\" stroke=\"#ff638d\" points=\"246.5,-46.1043 243,-36.1043 239.5,-46.1044 246.5,-46.1043\"/>\n",
       "</g>\n",
       "<!-- G -->\n",
       "<g id=\"node7\" class=\"node\"><title>G</title>\n",
       "<defs>\n",
       "<linearGradient id=\"l_6\" gradientUnits=\"userSpaceOnUse\" x1=\"27\" y1=\"-72\" x2=\"27\" y2=\"-108\" >\n",
       "<stop offset=\"0\" style=\"stop-color:#ceccff;stop-opacity:1.;\"/>\n",
       "<stop offset=\"1\" style=\"stop-color:white;stop-opacity:1.;\"/>\n",
       "</linearGradient>\n",
       "</defs>\n",
       "<ellipse fill=\"url(#l_6)\" stroke=\"#ff638d\" cx=\"27\" cy=\"-90\" rx=\"27\" ry=\"18\"/>\n",
       "<text text-anchor=\"middle\" x=\"27\" y=\"-86.9\" font-family=\"Acme-Regular.ttf\" font-size=\"12.00\">G</text>\n",
       "</g>\n",
       "<!-- G&#45;&gt;H -->\n",
       "<g id=\"edge5\" class=\"edge\"><title>G&#45;&gt;H</title>\n",
       "<path fill=\"none\" stroke=\"#ff638d\" d=\"M31.3573,-72.055C33.3914,-64.1446 35.8612,-54.5398 38.1374,-45.6879\"/>\n",
       "<polygon fill=\"#ff638d\" stroke=\"#ff638d\" points=\"41.5821,-46.3456 40.6828,-35.789 34.8026,-44.6023 41.5821,-46.3456\"/>\n",
       "</g>\n",
       "</g>\n",
       "</svg>\n"
      ],
      "text/plain": [
       "<graphviz.dot.Digraph at 0x7f5a508acf90>"
      ]
     },
     "execution_count": 65,
     "metadata": {},
     "output_type": "execute_result"
    }
   ],
   "source": [
    "modelMMHC: DAG = mmhc.estimate(scoring_method = BDeuScore(data), tabu_length = 10)\n",
    "\n",
    "assert modelMMHC.edges() == modelHybrid.edges()\n",
    "\n",
    "pgmpyToGraph(modelMMHC)"
   ]
  }
 ],
 "metadata": {
  "jupytext": {
   "cell_metadata_filter": "title,-all"
  },
  "kernelspec": {
   "display_name": "pybayesian_env",
   "language": "python",
   "name": "pybayesian_env"
  },
  "language_info": {
   "codemirror_mode": {
    "name": "ipython",
    "version": 3
   },
   "file_extension": ".py",
   "mimetype": "text/x-python",
   "name": "python",
   "nbconvert_exporter": "python",
   "pygments_lexer": "ipython3",
   "version": "3.7.6"
  }
 },
 "nbformat": 4,
 "nbformat_minor": 4
}
