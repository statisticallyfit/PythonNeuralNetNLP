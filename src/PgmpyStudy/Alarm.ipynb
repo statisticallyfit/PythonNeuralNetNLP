{
 "cells": [
  {
   "cell_type": "markdown",
   "metadata": {
    "title": "markdown"
   },
   "source": [
    "[Source for tutorial](https://github.com/pgmpy/pgmpy/blob/dev/examples/Alarm.ipynb)\n",
    "\n",
    "Alarm Bayesian Network\n",
    "Creating the Alarm Bayesian network using pgmpy and doing some simple queries (mentioned in Bayesian Artificial Intelligence, Section 2.5.1: )"
   ]
  },
  {
   "cell_type": "markdown",
   "metadata": {
    "lines_to_next_cell": 0,
    "title": "markdown"
   },
   "source": [
    "Doing path-setting:"
   ]
  },
  {
   "cell_type": "code",
   "execution_count": 1,
   "metadata": {
    "lines_to_next_cell": 2,
    "title": "codecell"
   },
   "outputs": [
    {
     "name": "stdout",
     "output_type": "stream",
     "text": [
      "curPath =  /development/projects/statisticallyfit/github/learningmathstat/PythonNeuralNetNLP/src/PgmpyStudy/ \n",
      "\n",
      "dataPath =  /development/projects/statisticallyfit/github/learningmathstat/PythonNeuralNetNLP/src/PgmpyStudy/data/ \n",
      "\n",
      "imagePath =  /development/projects/statisticallyfit/github/learningmathstat/PythonNeuralNetNLP/src/PgmpyStudy/images/ \n",
      "\n"
     ]
    },
    {
     "data": {
      "text/plain": [
       "['/development/projects/statisticallyfit/github/learningmathstat/PythonNeuralNetNLP/src/PgmpyStudy',\n",
       " '/development/bin/python/conda3_ana/envs/pybayesian_env/lib/python37.zip',\n",
       " '/development/bin/python/conda3_ana/envs/pybayesian_env/lib/python3.7',\n",
       " '/development/bin/python/conda3_ana/envs/pybayesian_env/lib/python3.7/lib-dynload',\n",
       " '',\n",
       " '/development/bin/python/conda3_ana/envs/pybayesian_env/lib/python3.7/site-packages',\n",
       " '/development/bin/python/conda3_ana/envs/pybayesian_env/lib/python3.7/site-packages/IPython/extensions',\n",
       " '/home/statisticallyfit/.ipython',\n",
       " '/development/projects/statisticallyfit/github/learningmathstat/PythonNeuralNetNLP/src/utils/',\n",
       " '/development/projects/statisticallyfit/github/learningmathstat/PythonNeuralNetNLP/src/PgmpyStudy/']"
      ]
     },
     "execution_count": 1,
     "metadata": {},
     "output_type": "execute_result"
    }
   ],
   "source": [
    "import os\n",
    "import sys\n",
    "from typing import *\n",
    "from typing import Union, List, Any\n",
    "\n",
    "import itertools\n",
    "\n",
    "os.getcwd()\n",
    "# Setting the baseline:\n",
    "os.chdir('/development/projects/statisticallyfit/github/learningmathstat/PythonNeuralNetNLP')\n",
    "\n",
    "\n",
    "curPath: str = os.getcwd() + \"/src/PgmpyStudy/\"\n",
    "\n",
    "dataPath: str = curPath + \"data/\"\n",
    "\n",
    "imagePath: str = curPath + 'images/'\n",
    "\n",
    "print(\"curPath = \", curPath, \"\\n\")\n",
    "print(\"dataPath = \", dataPath, \"\\n\")\n",
    "print('imagePath = ', imagePath, \"\\n\")\n",
    "\n",
    "\n",
    "# Making files in utils folder visible here: to import my local print functions for nn.Module objects\n",
    "sys.path.append(os.getcwd() + \"/src/utils/\")\n",
    "# For being able to import files within PgmpyStudy folder\n",
    "sys.path.append(curPath)\n",
    "\n",
    "sys.path"
   ]
  },
  {
   "cell_type": "markdown",
   "metadata": {
    "lines_to_next_cell": 0,
    "title": "markdown"
   },
   "source": [
    "Science imports:"
   ]
  },
  {
   "cell_type": "code",
   "execution_count": 2,
   "metadata": {
    "lines_to_next_cell": 0,
    "title": "codecell"
   },
   "outputs": [],
   "source": [
    "from pgmpy.models import BayesianModel\n",
    "from pgmpy.inference import VariableElimination\n",
    "from pgmpy.factors.discrete import TabularCPD\n",
    "from pgmpy.factors.discrete import JointProbabilityDistribution\n",
    "from pgmpy.factors.discrete.DiscreteFactor import DiscreteFactor\n",
    "from pgmpy.independencies import Independencies\n",
    "from pgmpy.independencies.Independencies import IndependenceAssertion\n",
    "\n",
    "\n",
    "from operator import mul\n",
    "from functools import reduce\n",
    "\n",
    "\n",
    "from src.utils.GraphvizUtil import *\n",
    "from src.utils.NetworkUtil import *"
   ]
  },
  {
   "cell_type": "markdown",
   "metadata": {
    "lines_to_next_cell": 0,
    "title": "markdown"
   },
   "source": [
    "## Problem Statement: 2.5.1 Earthquake Alarm\n",
    "**Example statement:** You have a new burglar alarm installed. It reliably detects burglary, but also responds to minor earthquakes. Two neighbors, John and Mary, promise to call the police when they hear the alarm. John always calls when he hears the alarm, but sometimes confuses the alarm with the phone ringing and calls then also. On the other hand, Mary likes loud music and sometimes doesn't hear the alarm. Given evidence about who has and hasn't called, you'd like to estimate the probability of a burglary alarm (from Pearl (1988)).\n"
   ]
  },
  {
   "cell_type": "code",
   "execution_count": 3,
   "metadata": {
    "lines_to_next_cell": 2,
    "title": "codecell"
   },
   "outputs": [
    {
     "name": "stdout",
     "output_type": "stream",
     "text": [
      "+-----------------+-------+\n",
      "| Burglary(False) | 0.999 |\n",
      "+-----------------+-------+\n",
      "| Burglary(True)  | 0.001 |\n",
      "+-----------------+-------+\n",
      "+-------------------+-------+\n",
      "| Earthquake(True)  | 0.002 |\n",
      "+-------------------+-------+\n",
      "| Earthquake(False) | 0.998 |\n",
      "+-------------------+-------+\n",
      "+--------------+------------------+-------------------+------------------+-------------------+\n",
      "| Burglary     | Burglary(True)   | Burglary(True)    | Burglary(False)  | Burglary(False)   |\n",
      "+--------------+------------------+-------------------+------------------+-------------------+\n",
      "| Earthquake   | Earthquake(True) | Earthquake(False) | Earthquake(True) | Earthquake(False) |\n",
      "+--------------+------------------+-------------------+------------------+-------------------+\n",
      "| Alarm(True)  | 0.95             | 0.94              | 0.29             | 0.001             |\n",
      "+--------------+------------------+-------------------+------------------+-------------------+\n",
      "| Alarm(False) | 0.05             | 0.06              | 0.71             | 0.999             |\n",
      "+--------------+------------------+-------------------+------------------+-------------------+\n",
      "+------------------+-------------+--------------+\n",
      "| Alarm            | Alarm(True) | Alarm(False) |\n",
      "+------------------+-------------+--------------+\n",
      "| JohnCalls(True)  | 0.9         | 0.05         |\n",
      "+------------------+-------------+--------------+\n",
      "| JohnCalls(False) | 0.1         | 0.95         |\n",
      "+------------------+-------------+--------------+\n",
      "+------------------+-------------+--------------+\n",
      "| Alarm            | Alarm(True) | Alarm(False) |\n",
      "+------------------+-------------+--------------+\n",
      "| MaryCalls(True)  | 0.7         | 0.01         |\n",
      "+------------------+-------------+--------------+\n",
      "| MaryCalls(False) | 0.3         | 0.99         |\n",
      "+------------------+-------------+--------------+\n"
     ]
    }
   ],
   "source": [
    "# Defining the network structure:\n",
    "alarmModel: BayesianModel = BayesianModel([('Burglary', 'Alarm'),\n",
    "                                           ('Earthquake', 'Alarm'),\n",
    "                                           ('Alarm', 'JohnCalls'),\n",
    "                                           ('Alarm', 'MaryCalls')])\n",
    "\n",
    "# Defining parameters using CPT\n",
    "cpdBurglary: TabularCPD = TabularCPD(variable = 'Burglary', variable_card = 2,\n",
    "                                     values = [[0.999, 0.001]],\n",
    "                                     state_names = {'Burglary' : ['False', 'True']})\n",
    "print(cpdBurglary)\n",
    "cpdEarthquake: TabularCPD = TabularCPD(variable = 'Earthquake', variable_card = 2,\n",
    "                                       values = [[0.002, 0.998]],\n",
    "                                       state_names = {'Earthquake' : ['True', 'False']})\n",
    "\n",
    "print(cpdEarthquake)\n",
    "\n",
    "cpdAlarm: TabularCPD = TabularCPD(variable = 'Alarm', variable_card = 2,\n",
    "                                  values = [[0.95, 0.94, 0.29, 0.001],\n",
    "                                            [0.05, 0.06, 0.71, 0.999]],\n",
    "                                  evidence = ['Burglary', 'Earthquake'], evidence_card = [2,2],\n",
    "                                  state_names = {'Alarm': ['True', 'False'], 'Burglary':['True','False'],'Earthquake': ['True', 'False']})\n",
    "print(cpdAlarm)\n",
    "\n",
    "cpdJohnCalls: TabularCPD = TabularCPD(variable = 'JohnCalls', variable_card = 2,\n",
    "                                      values = [[0.90, 0.05],\n",
    "                                                [0.10, 0.95]],\n",
    "                                      evidence = ['Alarm'], evidence_card = [2],\n",
    "                                      state_names = {'JohnCalls': ['True', 'False'], 'Alarm' : ['True', 'False']})\n",
    "print(cpdJohnCalls)\n",
    "\n",
    "cpdMaryCalls: TabularCPD = TabularCPD(variable = 'MaryCalls', variable_card = 2,\n",
    "                                      values = [[0.70, 0.01],\n",
    "                                                [0.30, 0.99]],\n",
    "                                      evidence = ['Alarm'], evidence_card = [2],\n",
    "                                      state_names = {'MaryCalls': ['True', 'False'], 'Alarm' : ['True', 'False']})\n",
    "print(cpdMaryCalls)\n",
    "\n",
    "\n",
    "alarmModel.add_cpds(cpdBurglary, cpdEarthquake, cpdAlarm, cpdJohnCalls, cpdMaryCalls)\n",
    "\n",
    "assert alarmModel.check_model()"
   ]
  },
  {
   "cell_type": "markdown",
   "metadata": {
    "lines_to_next_cell": 0,
    "title": "markdown"
   },
   "source": [
    "Making a brief-name version for viewing clarity, in tables:"
   ]
  },
  {
   "cell_type": "code",
   "execution_count": 4,
   "metadata": {
    "lines_to_next_cell": 2,
    "title": "codecell"
   },
   "outputs": [],
   "source": [
    "alarmModel_brief: BayesianModel = BayesianModel([('B', 'A'),\n",
    "                                                 ('E', 'A'),\n",
    "                                                 ('A', 'J'),\n",
    "                                                 ('A', 'M')])\n",
    "\n",
    "# Defining parameters using CPT\n",
    "cpdBurglary: TabularCPD = TabularCPD(variable = 'B', variable_card = 2,\n",
    "                                     values = [[0.999, 0.001]],\n",
    "                                     state_names = {'B' : ['False', 'True']})\n",
    "\n",
    "cpdEarthquake: TabularCPD = TabularCPD(variable = 'E', variable_card = 2,\n",
    "                                       values = [[0.002, 0.998]],\n",
    "                                       state_names = {'E' : ['True', 'False']})\n",
    "\n",
    "cpdAlarm: TabularCPD = TabularCPD(variable = 'A', variable_card = 2,\n",
    "                                  values = [[0.95, 0.94, 0.29, 0.001],\n",
    "                                            [0.05, 0.06, 0.71, 0.999]],\n",
    "                                  evidence = ['B', 'E'], evidence_card = [2,2],\n",
    "                                  state_names = {'A': ['True', 'False'], 'B':['True','False'],'E': ['True', 'False']})\n",
    "\n",
    "\n",
    "cpdJohnCalls: TabularCPD = TabularCPD(variable = 'J', variable_card = 2,\n",
    "                                      values = [[0.90, 0.05],\n",
    "                                                [0.10, 0.95]],\n",
    "                                      evidence = ['A'], evidence_card = [2],\n",
    "                                      state_names = {'J': ['True', 'False'], 'A' : ['True', 'False']})\n",
    "\n",
    "\n",
    "cpdMaryCalls: TabularCPD = TabularCPD(variable = 'M', variable_card = 2,\n",
    "                                      values = [[0.70, 0.01],\n",
    "                                                [0.30, 0.99]],\n",
    "                                      evidence = ['A'], evidence_card = [2],\n",
    "                                      state_names = {'M': ['True', 'False'], 'A' : ['True', 'False']})\n",
    "\n",
    "\n",
    "alarmModel_brief.add_cpds(cpdBurglary, cpdEarthquake, cpdAlarm, cpdJohnCalls, cpdMaryCalls)\n",
    "\n",
    "assert alarmModel_brief.check_model()"
   ]
  },
  {
   "cell_type": "code",
   "execution_count": 5,
   "metadata": {
    "lines_to_next_cell": 2,
    "title": "codecell"
   },
   "outputs": [
    {
     "data": {
      "image/svg+xml": [
       "<?xml version=\"1.0\" encoding=\"UTF-8\" standalone=\"no\"?>\n",
       "<!DOCTYPE svg PUBLIC \"-//W3C//DTD SVG 1.1//EN\"\n",
       " \"http://www.w3.org/Graphics/SVG/1.1/DTD/svg11.dtd\">\n",
       "<!-- Generated by graphviz version 2.38.0 (20140413.2041)\n",
       " -->\n",
       "<!-- Title: G Pages: 1 -->\n",
       "<svg width=\"490pt\" height=\"458pt\"\n",
       " viewBox=\"0.00 0.00 489.50 458.00\" xmlns=\"http://www.w3.org/2000/svg\" xmlns:xlink=\"http://www.w3.org/1999/xlink\">\n",
       "<g id=\"graph0\" class=\"graph\" transform=\"scale(1 1) rotate(0) translate(4 454)\">\n",
       "<title>G</title>\n",
       "<polygon fill=\"white\" stroke=\"none\" points=\"-4,4 -4,-454 485.5,-454 485.5,4 -4,4\"/>\n",
       "<!-- Burglary -->\n",
       "<g id=\"node1\" class=\"node\"><title>Burglary</title>\n",
       "<defs>\n",
       "<linearGradient id=\"l_0\" gradientUnits=\"userSpaceOnUse\" x1=\"270.5\" y1=\"-300\" x2=\"270.5\" y2=\"-336\" >\n",
       "<stop offset=\"0\" style=\"stop-color:#ceccff;stop-opacity:1.;\"/>\n",
       "<stop offset=\"1\" style=\"stop-color:white;stop-opacity:1.;\"/>\n",
       "</linearGradient>\n",
       "</defs>\n",
       "<ellipse fill=\"url(#l_0)\" stroke=\"#ff638d\" cx=\"270.5\" cy=\"-318\" rx=\"41.7203\" ry=\"18\"/>\n",
       "<text text-anchor=\"middle\" x=\"270.5\" y=\"-314.9\" font-family=\"Acme-Regular.ttf\" font-size=\"12.00\">Burglary</text>\n",
       "</g>\n",
       "<!-- Alarm -->\n",
       "<g id=\"node2\" class=\"node\"><title>Alarm</title>\n",
       "<defs>\n",
       "<linearGradient id=\"l_1\" gradientUnits=\"userSpaceOnUse\" x1=\"264.5\" y1=\"-186\" x2=\"264.5\" y2=\"-222\" >\n",
       "<stop offset=\"0\" style=\"stop-color:#ceccff;stop-opacity:1.;\"/>\n",
       "<stop offset=\"1\" style=\"stop-color:white;stop-opacity:1.;\"/>\n",
       "</linearGradient>\n",
       "</defs>\n",
       "<ellipse fill=\"url(#l_1)\" stroke=\"#ff638d\" cx=\"264.5\" cy=\"-204\" rx=\"32.7527\" ry=\"18\"/>\n",
       "<text text-anchor=\"middle\" x=\"264.5\" y=\"-200.9\" font-family=\"Acme-Regular.ttf\" font-size=\"12.00\">Alarm</text>\n",
       "</g>\n",
       "<!-- Burglary&#45;&gt;Alarm -->\n",
       "<g id=\"edge1\" class=\"edge\"><title>Burglary&#45;&gt;Alarm</title>\n",
       "<path fill=\"none\" stroke=\"#ff638d\" d=\"M269.589,-299.99C268.628,-282.063 267.101,-253.555 265.97,-232.442\"/>\n",
       "<polygon fill=\"#ff638d\" stroke=\"#ff638d\" points=\"269.45,-231.969 265.42,-222.17 262.46,-232.343 269.45,-231.969\"/>\n",
       "</g>\n",
       "<!-- JohnCalls -->\n",
       "<g id=\"node3\" class=\"node\"><title>JohnCalls</title>\n",
       "<defs>\n",
       "<linearGradient id=\"l_2\" gradientUnits=\"userSpaceOnUse\" x1=\"141.5\" y1=\"-100\" x2=\"141.5\" y2=\"-136\" >\n",
       "<stop offset=\"0\" style=\"stop-color:#ceccff;stop-opacity:1.;\"/>\n",
       "<stop offset=\"1\" style=\"stop-color:white;stop-opacity:1.;\"/>\n",
       "</linearGradient>\n",
       "</defs>\n",
       "<ellipse fill=\"url(#l_2)\" stroke=\"#ff638d\" cx=\"141.5\" cy=\"-118\" rx=\"43.9143\" ry=\"18\"/>\n",
       "<text text-anchor=\"middle\" x=\"141.5\" y=\"-114.9\" font-family=\"Acme-Regular.ttf\" font-size=\"12.00\">JohnCalls</text>\n",
       "</g>\n",
       "<!-- Alarm&#45;&gt;JohnCalls -->\n",
       "<g id=\"edge2\" class=\"edge\"><title>Alarm&#45;&gt;JohnCalls</title>\n",
       "<path fill=\"none\" stroke=\"#ff638d\" d=\"M245.847,-188.883C238.621,-183.506 230.238,-177.381 222.5,-172 206.353,-160.771 188.041,-148.733 172.918,-138.971\"/>\n",
       "<polygon fill=\"#ff638d\" stroke=\"#ff638d\" points=\"174.728,-135.974 164.423,-133.511 170.942,-141.862 174.728,-135.974\"/>\n",
       "</g>\n",
       "<!-- MaryCalls -->\n",
       "<g id=\"node4\" class=\"node\"><title>MaryCalls</title>\n",
       "<defs>\n",
       "<linearGradient id=\"l_3\" gradientUnits=\"userSpaceOnUse\" x1=\"264.5\" y1=\"-100\" x2=\"264.5\" y2=\"-136\" >\n",
       "<stop offset=\"0\" style=\"stop-color:#ceccff;stop-opacity:1.;\"/>\n",
       "<stop offset=\"1\" style=\"stop-color:white;stop-opacity:1.;\"/>\n",
       "</linearGradient>\n",
       "</defs>\n",
       "<ellipse fill=\"url(#l_3)\" stroke=\"#ff638d\" cx=\"264.5\" cy=\"-118\" rx=\"45.6069\" ry=\"18\"/>\n",
       "<text text-anchor=\"middle\" x=\"264.5\" y=\"-114.9\" font-family=\"Acme-Regular.ttf\" font-size=\"12.00\">MaryCalls</text>\n",
       "</g>\n",
       "<!-- Alarm&#45;&gt;MaryCalls -->\n",
       "<g id=\"edge3\" class=\"edge\"><title>Alarm&#45;&gt;MaryCalls</title>\n",
       "<path fill=\"none\" stroke=\"#ff638d\" d=\"M264.5,-185.595C264.5,-174.257 264.5,-159.227 264.5,-146.315\"/>\n",
       "<polygon fill=\"#ff638d\" stroke=\"#ff638d\" points=\"268,-146.095 264.5,-136.095 261,-146.095 268,-146.095\"/>\n",
       "</g>\n",
       "<!-- cpd_MaryCalls -->\n",
       "<g id=\"node10\" class=\"node\"><title>cpd_MaryCalls</title>\n",
       "<polygon fill=\"white\" stroke=\"none\" points=\"355,-64 174,-64 174,-0 355,-0 355,-64\"/>\n",
       "<polygon fill=\"none\" stroke=\"gray\" points=\"182.5,-46 182.5,-60 347.5,-60 347.5,-46 182.5,-46\"/>\n",
       "<text text-anchor=\"start\" x=\"247.5\" y=\"-51.4\" font-family=\"Acme-Regular.ttf\" font-size=\"7.00\">MaryCalls</text>\n",
       "<polygon fill=\"none\" stroke=\"gray\" points=\"182.5,-32 182.5,-46 210.5,-46 210.5,-32 182.5,-32\"/>\n",
       "<text text-anchor=\"start\" x=\"185.5\" y=\"-37.4\" font-family=\"Acme-Regular.ttf\" font-size=\"7.00\">Alarm</text>\n",
       "<polygon fill=\"none\" stroke=\"gray\" points=\"210.5,-32 210.5,-46 277.5,-46 277.5,-32 210.5,-32\"/>\n",
       "<text text-anchor=\"start\" x=\"213.5\" y=\"-37.4\" font-family=\"Acme-Regular.ttf\" font-size=\"7.00\">MaryCalls = True</text>\n",
       "<polygon fill=\"none\" stroke=\"gray\" points=\"277.5,-32 277.5,-46 347.5,-46 347.5,-32 277.5,-32\"/>\n",
       "<text text-anchor=\"start\" x=\"280.5\" y=\"-37.4\" font-family=\"Acme-Regular.ttf\" font-size=\"7.00\">MaryCalls = False</text>\n",
       "<polygon fill=\"none\" stroke=\"gray\" points=\"182.5,-18 182.5,-32 210.5,-32 210.5,-18 182.5,-18\"/>\n",
       "<text text-anchor=\"start\" x=\"188.5\" y=\"-23.4\" font-family=\"Acme-Regular.ttf\" font-size=\"7.00\">True</text>\n",
       "<polygon fill=\"none\" stroke=\"gray\" points=\"210.5,-18 210.5,-32 277.5,-32 277.5,-18 210.5,-18\"/>\n",
       "<text text-anchor=\"start\" x=\"238\" y=\"-23.4\" font-family=\"Acme-Regular.ttf\" font-size=\"7.00\">0.7</text>\n",
       "<polygon fill=\"none\" stroke=\"gray\" points=\"277.5,-18 277.5,-32 347.5,-32 347.5,-18 277.5,-18\"/>\n",
       "<text text-anchor=\"start\" x=\"306.5\" y=\"-23.4\" font-family=\"Acme-Regular.ttf\" font-size=\"7.00\">0.3</text>\n",
       "<polygon fill=\"none\" stroke=\"gray\" points=\"182.5,-4 182.5,-18 210.5,-18 210.5,-4 182.5,-4\"/>\n",
       "<text text-anchor=\"start\" x=\"187\" y=\"-9.4\" font-family=\"Acme-Regular.ttf\" font-size=\"7.00\">False</text>\n",
       "<polygon fill=\"none\" stroke=\"gray\" points=\"210.5,-4 210.5,-18 277.5,-18 277.5,-4 210.5,-4\"/>\n",
       "<text text-anchor=\"start\" x=\"236\" y=\"-9.4\" font-family=\"Acme-Regular.ttf\" font-size=\"7.00\">0.01</text>\n",
       "<polygon fill=\"none\" stroke=\"gray\" points=\"277.5,-4 277.5,-18 347.5,-18 347.5,-4 277.5,-4\"/>\n",
       "<text text-anchor=\"start\" x=\"304.5\" y=\"-9.4\" font-family=\"Acme-Regular.ttf\" font-size=\"7.00\">0.99</text>\n",
       "</g>\n",
       "<!-- MaryCalls&#45;&gt;cpd_MaryCalls -->\n",
       "<!-- Earthquake -->\n",
       "<g id=\"node5\" class=\"node\"><title>Earthquake</title>\n",
       "<defs>\n",
       "<linearGradient id=\"l_4\" gradientUnits=\"userSpaceOnUse\" x1=\"393.5\" y1=\"-300\" x2=\"393.5\" y2=\"-336\" >\n",
       "<stop offset=\"0\" style=\"stop-color:#ceccff;stop-opacity:1.;\"/>\n",
       "<stop offset=\"1\" style=\"stop-color:white;stop-opacity:1.;\"/>\n",
       "</linearGradient>\n",
       "</defs>\n",
       "<ellipse fill=\"url(#l_4)\" stroke=\"#ff638d\" cx=\"393.5\" cy=\"-318\" rx=\"52.1504\" ry=\"18\"/>\n",
       "<text text-anchor=\"middle\" x=\"393.5\" y=\"-314.9\" font-family=\"Acme-Regular.ttf\" font-size=\"12.00\">Earthquake</text>\n",
       "</g>\n",
       "<!-- Earthquake&#45;&gt;Alarm -->\n",
       "<g id=\"edge4\" class=\"edge\"><title>Earthquake&#45;&gt;Alarm</title>\n",
       "<path fill=\"none\" stroke=\"#ff638d\" d=\"M375.017,-300.953C352.386,-281.305 313.985,-247.963 288.934,-226.214\"/>\n",
       "<polygon fill=\"#ff638d\" stroke=\"#ff638d\" points=\"291.152,-223.505 281.307,-219.592 286.563,-228.791 291.152,-223.505\"/>\n",
       "</g>\n",
       "<!-- cpd_Earthquake -->\n",
       "<g id=\"node8\" class=\"node\"><title>cpd_Earthquake</title>\n",
       "<polygon fill=\"white\" stroke=\"none\" points=\"481.5,-229 315.5,-229 315.5,-179 481.5,-179 481.5,-229\"/>\n",
       "<polygon fill=\"none\" stroke=\"gray\" points=\"323.5,-211 323.5,-225 473.5,-225 473.5,-211 323.5,-211\"/>\n",
       "<text text-anchor=\"start\" x=\"377.5\" y=\"-216.4\" font-family=\"Acme-Regular.ttf\" font-size=\"7.00\">Earthquake</text>\n",
       "<polygon fill=\"none\" stroke=\"gray\" points=\"323.5,-197 323.5,-211 397.5,-211 397.5,-197 323.5,-197\"/>\n",
       "<text text-anchor=\"start\" x=\"326.5\" y=\"-202.4\" font-family=\"Acme-Regular.ttf\" font-size=\"7.00\">Earthquake = True</text>\n",
       "<polygon fill=\"none\" stroke=\"gray\" points=\"397.5,-197 397.5,-211 473.5,-211 473.5,-197 397.5,-197\"/>\n",
       "<text text-anchor=\"start\" x=\"400.5\" y=\"-202.4\" font-family=\"Acme-Regular.ttf\" font-size=\"7.00\">Earthquake = False</text>\n",
       "<polygon fill=\"none\" stroke=\"gray\" points=\"323.5,-183 323.5,-197 397.5,-197 397.5,-183 323.5,-183\"/>\n",
       "<text text-anchor=\"start\" x=\"350\" y=\"-188.4\" font-family=\"Acme-Regular.ttf\" font-size=\"7.00\">0.002</text>\n",
       "<polygon fill=\"none\" stroke=\"gray\" points=\"397.5,-183 397.5,-197 473.5,-197 473.5,-183 397.5,-183\"/>\n",
       "<text text-anchor=\"start\" x=\"425\" y=\"-188.4\" font-family=\"Acme-Regular.ttf\" font-size=\"7.00\">0.998</text>\n",
       "</g>\n",
       "<!-- Earthquake&#45;&gt;cpd_Earthquake -->\n",
       "<!-- cpd_Burglary -->\n",
       "<g id=\"node6\" class=\"node\"><title>cpd_Burglary</title>\n",
       "<polygon fill=\"white\" stroke=\"none\" points=\"342.5,-450 198.5,-450 198.5,-400 342.5,-400 342.5,-450\"/>\n",
       "<polygon fill=\"none\" stroke=\"gray\" points=\"206.5,-432 206.5,-446 334.5,-446 334.5,-432 206.5,-432\"/>\n",
       "<text text-anchor=\"start\" x=\"255\" y=\"-437.4\" font-family=\"Acme-Regular.ttf\" font-size=\"7.00\">Burglary</text>\n",
       "<polygon fill=\"none\" stroke=\"gray\" points=\"206.5,-418 206.5,-432 271.5,-432 271.5,-418 206.5,-418\"/>\n",
       "<text text-anchor=\"start\" x=\"209.5\" y=\"-423.4\" font-family=\"Acme-Regular.ttf\" font-size=\"7.00\">Burglary = False</text>\n",
       "<polygon fill=\"none\" stroke=\"gray\" points=\"271.5,-418 271.5,-432 334.5,-432 334.5,-418 271.5,-418\"/>\n",
       "<text text-anchor=\"start\" x=\"274.5\" y=\"-423.4\" font-family=\"Acme-Regular.ttf\" font-size=\"7.00\">Burglary = True</text>\n",
       "<polygon fill=\"none\" stroke=\"gray\" points=\"206.5,-404 206.5,-418 271.5,-418 271.5,-404 206.5,-404\"/>\n",
       "<text text-anchor=\"start\" x=\"228.5\" y=\"-409.4\" font-family=\"Acme-Regular.ttf\" font-size=\"7.00\">0.999</text>\n",
       "<polygon fill=\"none\" stroke=\"gray\" points=\"271.5,-404 271.5,-418 334.5,-418 334.5,-404 271.5,-404\"/>\n",
       "<text text-anchor=\"start\" x=\"292.5\" y=\"-409.4\" font-family=\"Acme-Regular.ttf\" font-size=\"7.00\">0.001</text>\n",
       "</g>\n",
       "<!-- cpd_Burglary&#45;&gt;Burglary -->\n",
       "<!-- cpd_Alarm -->\n",
       "<g id=\"node7\" class=\"node\"><title>cpd_Alarm</title>\n",
       "<polygon fill=\"white\" stroke=\"none\" points=\"211,-364 0,-364 0,-272 211,-272 211,-364\"/>\n",
       "<polygon fill=\"none\" stroke=\"gray\" points=\"8.5,-346 8.5,-360 203.5,-360 203.5,-346 8.5,-346\"/>\n",
       "<text text-anchor=\"start\" x=\"95\" y=\"-351.4\" font-family=\"Acme-Regular.ttf\" font-size=\"7.00\">Alarm</text>\n",
       "<polygon fill=\"none\" stroke=\"gray\" points=\"8.5,-332 8.5,-346 45.5,-346 45.5,-332 8.5,-332\"/>\n",
       "<text text-anchor=\"start\" x=\"11.5\" y=\"-337.4\" font-family=\"Acme-Regular.ttf\" font-size=\"7.00\">Burglary</text>\n",
       "<polygon fill=\"none\" stroke=\"gray\" points=\"45.5,-332 45.5,-346 93.5,-346 93.5,-332 45.5,-332\"/>\n",
       "<text text-anchor=\"start\" x=\"48.5\" y=\"-337.4\" font-family=\"Acme-Regular.ttf\" font-size=\"7.00\">Earthquake</text>\n",
       "<polygon fill=\"none\" stroke=\"gray\" points=\"93.5,-332 93.5,-346 147.5,-346 147.5,-332 93.5,-332\"/>\n",
       "<text text-anchor=\"start\" x=\"96.5\" y=\"-337.4\" font-family=\"Acme-Regular.ttf\" font-size=\"7.00\">Alarm = True</text>\n",
       "<polygon fill=\"none\" stroke=\"gray\" points=\"147.5,-332 147.5,-346 203.5,-346 203.5,-332 147.5,-332\"/>\n",
       "<text text-anchor=\"start\" x=\"150.5\" y=\"-337.4\" font-family=\"Acme-Regular.ttf\" font-size=\"7.00\">Alarm = False</text>\n",
       "<polygon fill=\"none\" stroke=\"gray\" points=\"8.5,-318 8.5,-332 45.5,-332 45.5,-318 8.5,-318\"/>\n",
       "<text text-anchor=\"start\" x=\"19\" y=\"-323.4\" font-family=\"Acme-Regular.ttf\" font-size=\"7.00\">True</text>\n",
       "<polygon fill=\"none\" stroke=\"gray\" points=\"45.5,-318 45.5,-332 93.5,-332 93.5,-318 45.5,-318\"/>\n",
       "<text text-anchor=\"start\" x=\"61.5\" y=\"-323.4\" font-family=\"Acme-Regular.ttf\" font-size=\"7.00\">True</text>\n",
       "<polygon fill=\"none\" stroke=\"gray\" points=\"93.5,-318 93.5,-332 147.5,-332 147.5,-318 93.5,-318\"/>\n",
       "<text text-anchor=\"start\" x=\"112.5\" y=\"-323.4\" font-family=\"Acme-Regular.ttf\" font-size=\"7.00\">0.95</text>\n",
       "<polygon fill=\"none\" stroke=\"gray\" points=\"147.5,-318 147.5,-332 203.5,-332 203.5,-318 147.5,-318\"/>\n",
       "<text text-anchor=\"start\" x=\"167.5\" y=\"-323.4\" font-family=\"Acme-Regular.ttf\" font-size=\"7.00\">0.05</text>\n",
       "<polygon fill=\"none\" stroke=\"gray\" points=\"8.5,-304 8.5,-318 45.5,-318 45.5,-304 8.5,-304\"/>\n",
       "<text text-anchor=\"start\" x=\"19\" y=\"-309.4\" font-family=\"Acme-Regular.ttf\" font-size=\"7.00\">True</text>\n",
       "<polygon fill=\"none\" stroke=\"gray\" points=\"45.5,-304 45.5,-318 93.5,-318 93.5,-304 45.5,-304\"/>\n",
       "<text text-anchor=\"start\" x=\"60\" y=\"-309.4\" font-family=\"Acme-Regular.ttf\" font-size=\"7.00\">False</text>\n",
       "<polygon fill=\"none\" stroke=\"gray\" points=\"93.5,-304 93.5,-318 147.5,-318 147.5,-304 93.5,-304\"/>\n",
       "<text text-anchor=\"start\" x=\"112.5\" y=\"-309.4\" font-family=\"Acme-Regular.ttf\" font-size=\"7.00\">0.94</text>\n",
       "<polygon fill=\"none\" stroke=\"gray\" points=\"147.5,-304 147.5,-318 203.5,-318 203.5,-304 147.5,-304\"/>\n",
       "<text text-anchor=\"start\" x=\"167.5\" y=\"-309.4\" font-family=\"Acme-Regular.ttf\" font-size=\"7.00\">0.06</text>\n",
       "<polygon fill=\"none\" stroke=\"gray\" points=\"8.5,-290 8.5,-304 45.5,-304 45.5,-290 8.5,-290\"/>\n",
       "<text text-anchor=\"start\" x=\"17.5\" y=\"-295.4\" font-family=\"Acme-Regular.ttf\" font-size=\"7.00\">False</text>\n",
       "<polygon fill=\"none\" stroke=\"gray\" points=\"45.5,-290 45.5,-304 93.5,-304 93.5,-290 45.5,-290\"/>\n",
       "<text text-anchor=\"start\" x=\"61.5\" y=\"-295.4\" font-family=\"Acme-Regular.ttf\" font-size=\"7.00\">True</text>\n",
       "<polygon fill=\"none\" stroke=\"gray\" points=\"93.5,-290 93.5,-304 147.5,-304 147.5,-290 93.5,-290\"/>\n",
       "<text text-anchor=\"start\" x=\"112.5\" y=\"-295.4\" font-family=\"Acme-Regular.ttf\" font-size=\"7.00\">0.29</text>\n",
       "<polygon fill=\"none\" stroke=\"gray\" points=\"147.5,-290 147.5,-304 203.5,-304 203.5,-290 147.5,-290\"/>\n",
       "<text text-anchor=\"start\" x=\"167.5\" y=\"-295.4\" font-family=\"Acme-Regular.ttf\" font-size=\"7.00\">0.71</text>\n",
       "<polygon fill=\"none\" stroke=\"gray\" points=\"8.5,-276 8.5,-290 45.5,-290 45.5,-276 8.5,-276\"/>\n",
       "<text text-anchor=\"start\" x=\"17.5\" y=\"-281.4\" font-family=\"Acme-Regular.ttf\" font-size=\"7.00\">False</text>\n",
       "<polygon fill=\"none\" stroke=\"gray\" points=\"45.5,-276 45.5,-290 93.5,-290 93.5,-276 45.5,-276\"/>\n",
       "<text text-anchor=\"start\" x=\"60\" y=\"-281.4\" font-family=\"Acme-Regular.ttf\" font-size=\"7.00\">False</text>\n",
       "<polygon fill=\"none\" stroke=\"gray\" points=\"93.5,-276 93.5,-290 147.5,-290 147.5,-276 93.5,-276\"/>\n",
       "<text text-anchor=\"start\" x=\"110\" y=\"-281.4\" font-family=\"Acme-Regular.ttf\" font-size=\"7.00\">0.001</text>\n",
       "<polygon fill=\"none\" stroke=\"gray\" points=\"147.5,-276 147.5,-290 203.5,-290 203.5,-276 147.5,-276\"/>\n",
       "<text text-anchor=\"start\" x=\"165\" y=\"-281.4\" font-family=\"Acme-Regular.ttf\" font-size=\"7.00\">0.999</text>\n",
       "</g>\n",
       "<!-- cpd_Alarm&#45;&gt;Alarm -->\n",
       "<!-- cpd_JohnCalls -->\n",
       "<g id=\"node9\" class=\"node\"><title>cpd_JohnCalls</title>\n",
       "<polygon fill=\"white\" stroke=\"none\" points=\"213.5,-236 35.5,-236 35.5,-172 213.5,-172 213.5,-236\"/>\n",
       "<polygon fill=\"none\" stroke=\"gray\" points=\"43.5,-218 43.5,-232 205.5,-232 205.5,-218 43.5,-218\"/>\n",
       "<text text-anchor=\"start\" x=\"107.5\" y=\"-223.4\" font-family=\"Acme-Regular.ttf\" font-size=\"7.00\">JohnCalls</text>\n",
       "<polygon fill=\"none\" stroke=\"gray\" points=\"43.5,-204 43.5,-218 71.5,-218 71.5,-204 43.5,-204\"/>\n",
       "<text text-anchor=\"start\" x=\"46.5\" y=\"-209.4\" font-family=\"Acme-Regular.ttf\" font-size=\"7.00\">Alarm</text>\n",
       "<polygon fill=\"none\" stroke=\"gray\" points=\"71.5,-204 71.5,-218 137.5,-218 137.5,-204 71.5,-204\"/>\n",
       "<text text-anchor=\"start\" x=\"74.5\" y=\"-209.4\" font-family=\"Acme-Regular.ttf\" font-size=\"7.00\">JohnCalls = True</text>\n",
       "<polygon fill=\"none\" stroke=\"gray\" points=\"137.5,-204 137.5,-218 205.5,-218 205.5,-204 137.5,-204\"/>\n",
       "<text text-anchor=\"start\" x=\"140.5\" y=\"-209.4\" font-family=\"Acme-Regular.ttf\" font-size=\"7.00\">JohnCalls = False</text>\n",
       "<polygon fill=\"none\" stroke=\"gray\" points=\"43.5,-190 43.5,-204 71.5,-204 71.5,-190 43.5,-190\"/>\n",
       "<text text-anchor=\"start\" x=\"49.5\" y=\"-195.4\" font-family=\"Acme-Regular.ttf\" font-size=\"7.00\">True</text>\n",
       "<polygon fill=\"none\" stroke=\"gray\" points=\"71.5,-190 71.5,-204 137.5,-204 137.5,-190 71.5,-190\"/>\n",
       "<text text-anchor=\"start\" x=\"98.5\" y=\"-195.4\" font-family=\"Acme-Regular.ttf\" font-size=\"7.00\">0.9</text>\n",
       "<polygon fill=\"none\" stroke=\"gray\" points=\"137.5,-190 137.5,-204 205.5,-204 205.5,-190 137.5,-190\"/>\n",
       "<text text-anchor=\"start\" x=\"165.5\" y=\"-195.4\" font-family=\"Acme-Regular.ttf\" font-size=\"7.00\">0.1</text>\n",
       "<polygon fill=\"none\" stroke=\"gray\" points=\"43.5,-176 43.5,-190 71.5,-190 71.5,-176 43.5,-176\"/>\n",
       "<text text-anchor=\"start\" x=\"48\" y=\"-181.4\" font-family=\"Acme-Regular.ttf\" font-size=\"7.00\">False</text>\n",
       "<polygon fill=\"none\" stroke=\"gray\" points=\"71.5,-176 71.5,-190 137.5,-190 137.5,-176 71.5,-176\"/>\n",
       "<text text-anchor=\"start\" x=\"96.5\" y=\"-181.4\" font-family=\"Acme-Regular.ttf\" font-size=\"7.00\">0.05</text>\n",
       "<polygon fill=\"none\" stroke=\"gray\" points=\"137.5,-176 137.5,-190 205.5,-190 205.5,-176 137.5,-176\"/>\n",
       "<text text-anchor=\"start\" x=\"163.5\" y=\"-181.4\" font-family=\"Acme-Regular.ttf\" font-size=\"7.00\">0.95</text>\n",
       "</g>\n",
       "<!-- cpd_JohnCalls&#45;&gt;JohnCalls -->\n",
       "</g>\n",
       "</svg>\n"
      ],
      "text/plain": [
       "<graphviz.dot.Digraph at 0x7f167139fb50>"
      ]
     },
     "execution_count": 5,
     "metadata": {},
     "output_type": "execute_result"
    }
   ],
   "source": [
    "pgmpyToGraphCPD(model = alarmModel, shorten = False)"
   ]
  },
  {
   "cell_type": "markdown",
   "metadata": {
    "lines_to_next_cell": 0,
    "title": "markdown"
   },
   "source": [
    "## 1/ Independencies of the Alarm Model"
   ]
  },
  {
   "cell_type": "code",
   "execution_count": 6,
   "metadata": {
    "lines_to_next_cell": 0,
    "title": "codecell"
   },
   "outputs": [
    {
     "data": {
      "text/plain": [
       "(Burglary _|_ Earthquake)"
      ]
     },
     "execution_count": 6,
     "metadata": {},
     "output_type": "execute_result"
    }
   ],
   "source": [
    "alarmModel.local_independencies('Burglary')"
   ]
  },
  {
   "cell_type": "code",
   "execution_count": 7,
   "metadata": {
    "lines_to_next_cell": 0,
    "title": "codecell"
   },
   "outputs": [
    {
     "data": {
      "text/plain": [
       "(Earthquake _|_ Burglary)"
      ]
     },
     "execution_count": 7,
     "metadata": {},
     "output_type": "execute_result"
    }
   ],
   "source": [
    "alarmModel.local_independencies('Earthquake')"
   ]
  },
  {
   "cell_type": "code",
   "execution_count": 8,
   "metadata": {
    "lines_to_next_cell": 0,
    "title": "codecell"
   },
   "outputs": [
    {
     "data": {
      "text/plain": []
     },
     "execution_count": 8,
     "metadata": {},
     "output_type": "execute_result"
    }
   ],
   "source": [
    "alarmModel.local_independencies('Alarm')"
   ]
  },
  {
   "cell_type": "code",
   "execution_count": 9,
   "metadata": {
    "lines_to_next_cell": 0,
    "title": "codecell"
   },
   "outputs": [
    {
     "name": "stdout",
     "output_type": "stream",
     "text": [
      "(MaryCalls _|_ Burglary, JohnCalls, Earthquake | Alarm)\n",
      "                                                       INDEPENDENCIES TABLE                                                      \n",
      "Fancy Notation                                                  .....     Regular Notation                                       \n",
      "---------------------------------------------------------------------------------------------------------------------------------\n",
      "(MaryCalls _|_ {Burglary ∩ JohnCalls ∩ Earthquake} | Alarm)     .....     (MaryCalls _|_ Burglary, JohnCalls, Earthquake | Alarm)\n",
      "(MaryCalls _|_ {Burglary ∩ Earthquake ∩ JohnCalls} | Alarm)     .....     (MaryCalls _|_ Burglary, Earthquake, JohnCalls | Alarm)\n",
      "(MaryCalls _|_ {JohnCalls ∩ Burglary ∩ Earthquake} | Alarm)     .....     (MaryCalls _|_ JohnCalls, Burglary, Earthquake | Alarm)\n",
      "(MaryCalls _|_ {JohnCalls ∩ Earthquake ∩ Burglary} | Alarm)     .....     (MaryCalls _|_ JohnCalls, Earthquake, Burglary | Alarm)\n",
      "(MaryCalls _|_ {Earthquake ∩ Burglary ∩ JohnCalls} | Alarm)     .....     (MaryCalls _|_ Earthquake, Burglary, JohnCalls | Alarm)\n",
      "(MaryCalls _|_ {Earthquake ∩ JohnCalls ∩ Burglary} | Alarm)     .....     (MaryCalls _|_ Earthquake, JohnCalls, Burglary | Alarm)\n"
     ]
    }
   ],
   "source": [
    "print(alarmModel.local_independencies('MaryCalls'))\n",
    "\n",
    "indepSynonymTable(model = alarmModel, queryNode = 'MaryCalls')"
   ]
  },
  {
   "cell_type": "code",
   "execution_count": 10,
   "metadata": {
    "lines_to_next_cell": 0,
    "title": "codecell"
   },
   "outputs": [
    {
     "name": "stdout",
     "output_type": "stream",
     "text": [
      "(JohnCalls _|_ Burglary, MaryCalls, Earthquake | Alarm)\n",
      "                                                       INDEPENDENCIES TABLE                                                      \n",
      "Fancy Notation                                                  .....     Regular Notation                                       \n",
      "---------------------------------------------------------------------------------------------------------------------------------\n",
      "(JohnCalls _|_ {Burglary ∩ MaryCalls ∩ Earthquake} | Alarm)     .....     (JohnCalls _|_ Burglary, MaryCalls, Earthquake | Alarm)\n",
      "(JohnCalls _|_ {Burglary ∩ Earthquake ∩ MaryCalls} | Alarm)     .....     (JohnCalls _|_ Burglary, Earthquake, MaryCalls | Alarm)\n",
      "(JohnCalls _|_ {MaryCalls ∩ Burglary ∩ Earthquake} | Alarm)     .....     (JohnCalls _|_ MaryCalls, Burglary, Earthquake | Alarm)\n",
      "(JohnCalls _|_ {MaryCalls ∩ Earthquake ∩ Burglary} | Alarm)     .....     (JohnCalls _|_ MaryCalls, Earthquake, Burglary | Alarm)\n",
      "(JohnCalls _|_ {Earthquake ∩ Burglary ∩ MaryCalls} | Alarm)     .....     (JohnCalls _|_ Earthquake, Burglary, MaryCalls | Alarm)\n",
      "(JohnCalls _|_ {Earthquake ∩ MaryCalls ∩ Burglary} | Alarm)     .....     (JohnCalls _|_ Earthquake, MaryCalls, Burglary | Alarm)\n"
     ]
    }
   ],
   "source": [
    "print(alarmModel.local_independencies('JohnCalls'))\n",
    "\n",
    "indepSynonymTable(model = alarmModel, queryNode = 'JohnCalls')"
   ]
  },
  {
   "cell_type": "code",
   "execution_count": 11,
   "metadata": {
    "title": "codecell"
   },
   "outputs": [
    {
     "data": {
      "text/plain": [
       "(Burglary _|_ Earthquake)\n",
       "(Burglary _|_ MaryCalls, JohnCalls | Alarm)\n",
       "(Burglary _|_ JohnCalls | Alarm, MaryCalls)\n",
       "(Burglary _|_ MaryCalls | Alarm, JohnCalls)\n",
       "(Burglary _|_ MaryCalls, JohnCalls | Alarm, Earthquake)\n",
       "(Burglary _|_ JohnCalls | Alarm, MaryCalls, Earthquake)\n",
       "(Burglary _|_ MaryCalls | Alarm, JohnCalls, Earthquake)\n",
       "(Earthquake _|_ Burglary)\n",
       "(Earthquake _|_ MaryCalls, JohnCalls | Alarm)\n",
       "(Earthquake _|_ MaryCalls, JohnCalls | Burglary, Alarm)\n",
       "(Earthquake _|_ JohnCalls | Alarm, MaryCalls)\n",
       "(Earthquake _|_ MaryCalls | Alarm, JohnCalls)\n",
       "(Earthquake _|_ JohnCalls | Burglary, Alarm, MaryCalls)\n",
       "(Earthquake _|_ MaryCalls | Burglary, Alarm, JohnCalls)\n",
       "(JohnCalls _|_ Burglary, MaryCalls, Earthquake | Alarm)\n",
       "(JohnCalls _|_ MaryCalls, Earthquake | Burglary, Alarm)\n",
       "(JohnCalls _|_ Burglary, Earthquake | Alarm, MaryCalls)\n",
       "(JohnCalls _|_ Burglary, MaryCalls | Alarm, Earthquake)\n",
       "(JohnCalls _|_ Earthquake | Burglary, Alarm, MaryCalls)\n",
       "(JohnCalls _|_ MaryCalls | Burglary, Alarm, Earthquake)\n",
       "(JohnCalls _|_ Burglary | Alarm, MaryCalls, Earthquake)\n",
       "(MaryCalls _|_ Burglary, JohnCalls, Earthquake | Alarm)\n",
       "(MaryCalls _|_ JohnCalls, Earthquake | Burglary, Alarm)\n",
       "(MaryCalls _|_ Burglary, Earthquake | Alarm, JohnCalls)\n",
       "(MaryCalls _|_ Burglary, JohnCalls | Alarm, Earthquake)\n",
       "(MaryCalls _|_ Earthquake | Burglary, Alarm, JohnCalls)\n",
       "(MaryCalls _|_ JohnCalls | Burglary, Alarm, Earthquake)\n",
       "(MaryCalls _|_ Burglary | Alarm, JohnCalls, Earthquake)"
      ]
     },
     "execution_count": 11,
     "metadata": {},
     "output_type": "execute_result"
    }
   ],
   "source": [
    "alarmModel.get_independencies()\n",
    "\n"
   ]
  },
  {
   "cell_type": "code",
   "execution_count": 12,
   "metadata": {
    "lines_to_next_cell": 0,
    "title": "codecell"
   },
   "outputs": [
    {
     "data": {
      "image/svg+xml": [
       "<?xml version=\"1.0\" encoding=\"UTF-8\" standalone=\"no\"?>\n",
       "<!DOCTYPE svg PUBLIC \"-//W3C//DTD SVG 1.1//EN\"\n",
       " \"http://www.w3.org/Graphics/SVG/1.1/DTD/svg11.dtd\">\n",
       "<!-- Generated by graphviz version 2.38.0 (20140413.2041)\n",
       " -->\n",
       "<!-- Title: G Pages: 1 -->\n",
       "<svg width=\"214pt\" height=\"188pt\"\n",
       " viewBox=\"0.00 0.00 214.18 188.00\" xmlns=\"http://www.w3.org/2000/svg\" xmlns:xlink=\"http://www.w3.org/1999/xlink\">\n",
       "<g id=\"graph0\" class=\"graph\" transform=\"scale(1 1) rotate(0) translate(4 184)\">\n",
       "<title>G</title>\n",
       "<polygon fill=\"white\" stroke=\"none\" points=\"-4,4 -4,-184 210.185,-184 210.185,4 -4,4\"/>\n",
       "<!-- Burglary -->\n",
       "<g id=\"node1\" class=\"node\"><title>Burglary</title>\n",
       "<defs>\n",
       "<linearGradient id=\"l_0\" gradientUnits=\"userSpaceOnUse\" x1=\"41.8599\" y1=\"-144\" x2=\"41.8599\" y2=\"-180\" >\n",
       "<stop offset=\"0\" style=\"stop-color:#ceccff;stop-opacity:1.;\"/>\n",
       "<stop offset=\"1\" style=\"stop-color:white;stop-opacity:1.;\"/>\n",
       "</linearGradient>\n",
       "</defs>\n",
       "<ellipse fill=\"url(#l_0)\" stroke=\"#ff638d\" cx=\"41.8599\" cy=\"-162\" rx=\"41.7203\" ry=\"18\"/>\n",
       "<text text-anchor=\"middle\" x=\"41.8599\" y=\"-158.9\" font-family=\"Acme-Regular.ttf\" font-size=\"12.00\">Burglary</text>\n",
       "</g>\n",
       "<!-- Alarm -->\n",
       "<g id=\"node2\" class=\"node\"><title>Alarm</title>\n",
       "<defs>\n",
       "<linearGradient id=\"l_1\" gradientUnits=\"userSpaceOnUse\" x1=\"97.8599\" y1=\"-72\" x2=\"97.8599\" y2=\"-108\" >\n",
       "<stop offset=\"0\" style=\"stop-color:#ceccff;stop-opacity:1.;\"/>\n",
       "<stop offset=\"1\" style=\"stop-color:white;stop-opacity:1.;\"/>\n",
       "</linearGradient>\n",
       "</defs>\n",
       "<ellipse fill=\"url(#l_1)\" stroke=\"#ff638d\" cx=\"97.8599\" cy=\"-90\" rx=\"32.7527\" ry=\"18\"/>\n",
       "<text text-anchor=\"middle\" x=\"97.8599\" y=\"-86.9\" font-family=\"Acme-Regular.ttf\" font-size=\"12.00\">Alarm</text>\n",
       "</g>\n",
       "<!-- Burglary&#45;&gt;Alarm -->\n",
       "<g id=\"edge1\" class=\"edge\"><title>Burglary&#45;&gt;Alarm</title>\n",
       "<path fill=\"none\" stroke=\"#ff638d\" d=\"M54.8482,-144.765C62.0171,-135.804 71.05,-124.512 78.985,-114.594\"/>\n",
       "<polygon fill=\"#ff638d\" stroke=\"#ff638d\" points=\"81.8134,-116.661 85.3273,-106.666 76.3473,-112.288 81.8134,-116.661\"/>\n",
       "</g>\n",
       "<!-- JohnCalls -->\n",
       "<g id=\"node3\" class=\"node\"><title>JohnCalls</title>\n",
       "<defs>\n",
       "<linearGradient id=\"l_2\" gradientUnits=\"userSpaceOnUse\" x1=\"44.8599\" y1=\"-1.77636e-14\" x2=\"44.8599\" y2=\"-36\" >\n",
       "<stop offset=\"0\" style=\"stop-color:#ceccff;stop-opacity:1.;\"/>\n",
       "<stop offset=\"1\" style=\"stop-color:white;stop-opacity:1.;\"/>\n",
       "</linearGradient>\n",
       "</defs>\n",
       "<ellipse fill=\"url(#l_2)\" stroke=\"#ff638d\" cx=\"44.8599\" cy=\"-18\" rx=\"43.9143\" ry=\"18\"/>\n",
       "<text text-anchor=\"middle\" x=\"44.8599\" y=\"-14.9\" font-family=\"Acme-Regular.ttf\" font-size=\"12.00\">JohnCalls</text>\n",
       "</g>\n",
       "<!-- Alarm&#45;&gt;JohnCalls -->\n",
       "<g id=\"edge2\" class=\"edge\"><title>Alarm&#45;&gt;JohnCalls</title>\n",
       "<path fill=\"none\" stroke=\"#ff638d\" d=\"M85.8334,-73.1159C79.2193,-64.3803 70.8699,-53.3528 63.4366,-43.5352\"/>\n",
       "<polygon fill=\"#ff638d\" stroke=\"#ff638d\" points=\"66.0335,-41.1669 57.2066,-35.307 60.4527,-45.3923 66.0335,-41.1669\"/>\n",
       "</g>\n",
       "<!-- MaryCalls -->\n",
       "<g id=\"node4\" class=\"node\"><title>MaryCalls</title>\n",
       "<defs>\n",
       "<linearGradient id=\"l_3\" gradientUnits=\"userSpaceOnUse\" x1=\"151.86\" y1=\"-1.77636e-14\" x2=\"151.86\" y2=\"-36\" >\n",
       "<stop offset=\"0\" style=\"stop-color:#ceccff;stop-opacity:1.;\"/>\n",
       "<stop offset=\"1\" style=\"stop-color:white;stop-opacity:1.;\"/>\n",
       "</linearGradient>\n",
       "</defs>\n",
       "<ellipse fill=\"url(#l_3)\" stroke=\"#ff638d\" cx=\"151.86\" cy=\"-18\" rx=\"45.6069\" ry=\"18\"/>\n",
       "<text text-anchor=\"middle\" x=\"151.86\" y=\"-14.9\" font-family=\"Acme-Regular.ttf\" font-size=\"12.00\">MaryCalls</text>\n",
       "</g>\n",
       "<!-- Alarm&#45;&gt;MaryCalls -->\n",
       "<g id=\"edge3\" class=\"edge\"><title>Alarm&#45;&gt;MaryCalls</title>\n",
       "<path fill=\"none\" stroke=\"#ff638d\" d=\"M110.113,-73.1159C116.92,-64.292 125.531,-53.1298 133.162,-43.238\"/>\n",
       "<polygon fill=\"#ff638d\" stroke=\"#ff638d\" points=\"135.943,-45.3627 139.28,-35.307 130.401,-41.087 135.943,-45.3627\"/>\n",
       "</g>\n",
       "<!-- Earthquake -->\n",
       "<g id=\"node5\" class=\"node\"><title>Earthquake</title>\n",
       "<defs>\n",
       "<linearGradient id=\"l_4\" gradientUnits=\"userSpaceOnUse\" x1=\"153.86\" y1=\"-144\" x2=\"153.86\" y2=\"-180\" >\n",
       "<stop offset=\"0\" style=\"stop-color:#ceccff;stop-opacity:1.;\"/>\n",
       "<stop offset=\"1\" style=\"stop-color:white;stop-opacity:1.;\"/>\n",
       "</linearGradient>\n",
       "</defs>\n",
       "<ellipse fill=\"url(#l_4)\" stroke=\"#ff638d\" cx=\"153.86\" cy=\"-162\" rx=\"52.1504\" ry=\"18\"/>\n",
       "<text text-anchor=\"middle\" x=\"153.86\" y=\"-158.9\" font-family=\"Acme-Regular.ttf\" font-size=\"12.00\">Earthquake</text>\n",
       "</g>\n",
       "<!-- Earthquake&#45;&gt;Alarm -->\n",
       "<g id=\"edge4\" class=\"edge\"><title>Earthquake&#45;&gt;Alarm</title>\n",
       "<path fill=\"none\" stroke=\"#ff638d\" d=\"M140.589,-144.411C133.584,-135.655 124.861,-124.751 117.126,-115.082\"/>\n",
       "<polygon fill=\"#ff638d\" stroke=\"#ff638d\" points=\"119.63,-112.61 110.65,-106.988 114.164,-116.983 119.63,-112.61\"/>\n",
       "</g>\n",
       "</g>\n",
       "</svg>\n"
      ],
      "text/plain": [
       "<graphviz.dot.Digraph at 0x7f15ec394dd0>"
      ]
     },
     "execution_count": 12,
     "metadata": {},
     "output_type": "execute_result"
    }
   ],
   "source": [
    "# TODO say direct dependency assumptions (from Korb book)\n",
    "\n",
    "pgmpyToGraph(alarmModel)"
   ]
  },
  {
   "cell_type": "markdown",
   "metadata": {
    "lines_to_next_cell": 0,
    "title": "markdown"
   },
   "source": [
    "### Study: Independence Maps (I-Maps)\n",
    "* **Markov Assumption:** Bayesian networks require the assumption of **Markov Property**: that there are no direct dependencies in the system being modeled, which are not already explicitly shown via arcs. (In the earthquake example, this translates to saying there is no way for an `Earthquake` to influence `MaryCalls` except by way of the `Alarm`.  There is no **hidden backdoor** from  `Earthquake` to `MaryCalls`).\n",
    "* **I-maps:** Bayesian networks which have this **Markov property** are called **Independence-maps** or **I-maps**, since every independence suggested by the lack of an arc is actual a valid, real independence in the system.\n",
    "\n",
    "Source: Korb book, Bayesian Artificial Intelligence (section 2.2.4)"
   ]
  },
  {
   "cell_type": "markdown",
   "metadata": {
    "lines_to_next_cell": 0,
    "title": "markdown"
   },
   "source": [
    "### Example 1: I-map\n",
    "Testing meaning of an **I-map** using a simple student example"
   ]
  },
  {
   "cell_type": "code",
   "execution_count": 13,
   "metadata": {
    "title": "codecell"
   },
   "outputs": [
    {
     "data": {
      "image/svg+xml": [
       "<?xml version=\"1.0\" encoding=\"UTF-8\" standalone=\"no\"?>\n",
       "<!DOCTYPE svg PUBLIC \"-//W3C//DTD SVG 1.1//EN\"\n",
       " \"http://www.w3.org/Graphics/SVG/1.1/DTD/svg11.dtd\">\n",
       "<!-- Generated by graphviz version 2.38.0 (20140413.2041)\n",
       " -->\n",
       "<!-- Title: G Pages: 1 -->\n",
       "<svg width=\"408pt\" height=\"300pt\"\n",
       " viewBox=\"0.00 0.00 408.00 300.00\" xmlns=\"http://www.w3.org/2000/svg\" xmlns:xlink=\"http://www.w3.org/1999/xlink\">\n",
       "<g id=\"graph0\" class=\"graph\" transform=\"scale(1 1) rotate(0) translate(4 296)\">\n",
       "<title>G</title>\n",
       "<polygon fill=\"white\" stroke=\"none\" points=\"-4,4 -4,-296 404,-296 404,4 -4,4\"/>\n",
       "<!-- diff -->\n",
       "<g id=\"node1\" class=\"node\"><title>diff</title>\n",
       "<defs>\n",
       "<linearGradient id=\"l_0\" gradientUnits=\"userSpaceOnUse\" x1=\"231\" y1=\"-128\" x2=\"231\" y2=\"-164\" >\n",
       "<stop offset=\"0\" style=\"stop-color:#ceccff;stop-opacity:1.;\"/>\n",
       "<stop offset=\"1\" style=\"stop-color:white;stop-opacity:1.;\"/>\n",
       "</linearGradient>\n",
       "</defs>\n",
       "<ellipse fill=\"url(#l_0)\" stroke=\"#ff638d\" cx=\"231\" cy=\"-146\" rx=\"27\" ry=\"18\"/>\n",
       "<text text-anchor=\"middle\" x=\"231\" y=\"-142.9\" font-family=\"Acme-Regular.ttf\" font-size=\"12.00\">diff</text>\n",
       "</g>\n",
       "<!-- grade -->\n",
       "<g id=\"node2\" class=\"node\"><title>grade</title>\n",
       "<defs>\n",
       "<linearGradient id=\"l_1\" gradientUnits=\"userSpaceOnUse\" x1=\"220\" y1=\"-7\" x2=\"220\" y2=\"-43\" >\n",
       "<stop offset=\"0\" style=\"stop-color:#ceccff;stop-opacity:1.;\"/>\n",
       "<stop offset=\"1\" style=\"stop-color:white;stop-opacity:1.;\"/>\n",
       "</linearGradient>\n",
       "</defs>\n",
       "<ellipse fill=\"url(#l_1)\" stroke=\"#ff638d\" cx=\"220\" cy=\"-25\" rx=\"32.0211\" ry=\"18\"/>\n",
       "<text text-anchor=\"middle\" x=\"220\" y=\"-21.9\" font-family=\"Acme-Regular.ttf\" font-size=\"12.00\">grade</text>\n",
       "</g>\n",
       "<!-- diff&#45;&gt;grade -->\n",
       "<g id=\"edge1\" class=\"edge\"><title>diff&#45;&gt;grade</title>\n",
       "<path fill=\"none\" stroke=\"#ff638d\" d=\"M229.424,-127.95C227.619,-108.421 224.637,-76.1614 222.511,-53.1616\"/>\n",
       "<polygon fill=\"#ff638d\" stroke=\"#ff638d\" points=\"225.979,-52.6535 221.573,-43.0182 219.009,-53.2979 225.979,-52.6535\"/>\n",
       "</g>\n",
       "<!-- intel -->\n",
       "<g id=\"node3\" class=\"node\"><title>intel</title>\n",
       "<defs>\n",
       "<linearGradient id=\"l_2\" gradientUnits=\"userSpaceOnUse\" x1=\"324\" y1=\"-128\" x2=\"324\" y2=\"-164\" >\n",
       "<stop offset=\"0\" style=\"stop-color:#ceccff;stop-opacity:1.;\"/>\n",
       "<stop offset=\"1\" style=\"stop-color:white;stop-opacity:1.;\"/>\n",
       "</linearGradient>\n",
       "</defs>\n",
       "<ellipse fill=\"url(#l_2)\" stroke=\"#ff638d\" cx=\"324\" cy=\"-146\" rx=\"27\" ry=\"18\"/>\n",
       "<text text-anchor=\"middle\" x=\"324\" y=\"-142.9\" font-family=\"Acme-Regular.ttf\" font-size=\"12.00\">intel</text>\n",
       "</g>\n",
       "<!-- intel&#45;&gt;grade -->\n",
       "<g id=\"edge2\" class=\"edge\"><title>intel&#45;&gt;grade</title>\n",
       "<path fill=\"none\" stroke=\"#ff638d\" d=\"M310.828,-129.929C293.052,-109.588 261.209,-73.1529 240.344,-49.2782\"/>\n",
       "<polygon fill=\"#ff638d\" stroke=\"#ff638d\" points=\"242.941,-46.9309 233.725,-41.7044 237.67,-51.5374 242.941,-46.9309\"/>\n",
       "</g>\n",
       "<!-- cpd_intel -->\n",
       "<g id=\"node6\" class=\"node\"><title>cpd_intel</title>\n",
       "<polygon fill=\"white\" stroke=\"none\" points=\"400,-50 270,-50 270,-0 400,-0 400,-50\"/>\n",
       "<polygon fill=\"none\" stroke=\"gray\" points=\"278,-32 278,-46 392,-46 392,-32 278,-32\"/>\n",
       "<text text-anchor=\"start\" x=\"326.5\" y=\"-37.4\" font-family=\"Acme-Regular.ttf\" font-size=\"7.00\">intel</text>\n",
       "<polygon fill=\"none\" stroke=\"gray\" points=\"278,-18 278,-32 316,-32 316,-18 278,-18\"/>\n",
       "<text text-anchor=\"start\" x=\"281\" y=\"-23.4\" font-family=\"Acme-Regular.ttf\" font-size=\"7.00\">intel = 0</text>\n",
       "<polygon fill=\"none\" stroke=\"gray\" points=\"316,-18 316,-32 354,-32 354,-18 316,-18\"/>\n",
       "<text text-anchor=\"start\" x=\"319\" y=\"-23.4\" font-family=\"Acme-Regular.ttf\" font-size=\"7.00\">intel = 1</text>\n",
       "<polygon fill=\"none\" stroke=\"gray\" points=\"354,-18 354,-32 392,-32 392,-18 354,-18\"/>\n",
       "<text text-anchor=\"start\" x=\"357\" y=\"-23.4\" font-family=\"Acme-Regular.ttf\" font-size=\"7.00\">intel = 2</text>\n",
       "<polygon fill=\"none\" stroke=\"gray\" points=\"278,-4 278,-18 316,-18 316,-4 278,-4\"/>\n",
       "<text text-anchor=\"start\" x=\"291\" y=\"-9.4\" font-family=\"Acme-Regular.ttf\" font-size=\"7.00\">0.5</text>\n",
       "<polygon fill=\"none\" stroke=\"gray\" points=\"316,-4 316,-18 354,-18 354,-4 316,-4\"/>\n",
       "<text text-anchor=\"start\" x=\"329\" y=\"-9.4\" font-family=\"Acme-Regular.ttf\" font-size=\"7.00\">0.3</text>\n",
       "<polygon fill=\"none\" stroke=\"gray\" points=\"354,-4 354,-18 392,-18 392,-4 354,-4\"/>\n",
       "<text text-anchor=\"start\" x=\"367\" y=\"-9.4\" font-family=\"Acme-Regular.ttf\" font-size=\"7.00\">0.2</text>\n",
       "</g>\n",
       "<!-- intel&#45;&gt;cpd_intel -->\n",
       "<!-- cpd_diff -->\n",
       "<g id=\"node4\" class=\"node\"><title>cpd_diff</title>\n",
       "<polygon fill=\"white\" stroke=\"none\" points=\"272,-292 190,-292 190,-242 272,-242 272,-292\"/>\n",
       "<polygon fill=\"none\" stroke=\"gray\" points=\"198,-274 198,-288 264,-288 264,-274 198,-274\"/>\n",
       "<text text-anchor=\"start\" x=\"225\" y=\"-279.4\" font-family=\"Acme-Regular.ttf\" font-size=\"7.00\">diff</text>\n",
       "<polygon fill=\"none\" stroke=\"gray\" points=\"198,-260 198,-274 231,-274 231,-260 198,-260\"/>\n",
       "<text text-anchor=\"start\" x=\"201\" y=\"-265.4\" font-family=\"Acme-Regular.ttf\" font-size=\"7.00\">diff = 0</text>\n",
       "<polygon fill=\"none\" stroke=\"gray\" points=\"231,-260 231,-274 264,-274 264,-260 231,-260\"/>\n",
       "<text text-anchor=\"start\" x=\"234\" y=\"-265.4\" font-family=\"Acme-Regular.ttf\" font-size=\"7.00\">diff = 1</text>\n",
       "<polygon fill=\"none\" stroke=\"gray\" points=\"198,-246 198,-260 231,-260 231,-246 198,-246\"/>\n",
       "<text text-anchor=\"start\" x=\"208.5\" y=\"-251.4\" font-family=\"Acme-Regular.ttf\" font-size=\"7.00\">0.2</text>\n",
       "<polygon fill=\"none\" stroke=\"gray\" points=\"231,-246 231,-260 264,-260 264,-246 231,-246\"/>\n",
       "<text text-anchor=\"start\" x=\"241.5\" y=\"-251.4\" font-family=\"Acme-Regular.ttf\" font-size=\"7.00\">0.8</text>\n",
       "</g>\n",
       "<!-- cpd_diff&#45;&gt;diff -->\n",
       "<!-- cpd_grade -->\n",
       "<g id=\"node5\" class=\"node\"><title>cpd_grade</title>\n",
       "<polygon fill=\"white\" stroke=\"none\" points=\"186,-206 0,-206 0,-86 186,-86 186,-206\"/>\n",
       "<polygon fill=\"none\" stroke=\"gray\" points=\"8,-188 8,-202 178,-202 178,-188 8,-188\"/>\n",
       "<text text-anchor=\"start\" x=\"82\" y=\"-193.4\" font-family=\"Acme-Regular.ttf\" font-size=\"7.00\">grade</text>\n",
       "<polygon fill=\"none\" stroke=\"gray\" points=\"8,-174 8,-188 26,-188 26,-174 8,-174\"/>\n",
       "<text text-anchor=\"start\" x=\"11\" y=\"-179.4\" font-family=\"Acme-Regular.ttf\" font-size=\"7.00\">diff</text>\n",
       "<polygon fill=\"none\" stroke=\"gray\" points=\"26,-174 26,-188 49,-188 49,-174 26,-174\"/>\n",
       "<text text-anchor=\"start\" x=\"29\" y=\"-179.4\" font-family=\"Acme-Regular.ttf\" font-size=\"7.00\">intel</text>\n",
       "<polygon fill=\"none\" stroke=\"gray\" points=\"49,-174 49,-188 92,-188 92,-174 49,-174\"/>\n",
       "<text text-anchor=\"start\" x=\"52\" y=\"-179.4\" font-family=\"Acme-Regular.ttf\" font-size=\"7.00\">grade = 0</text>\n",
       "<polygon fill=\"none\" stroke=\"gray\" points=\"92,-174 92,-188 135,-188 135,-174 92,-174\"/>\n",
       "<text text-anchor=\"start\" x=\"95\" y=\"-179.4\" font-family=\"Acme-Regular.ttf\" font-size=\"7.00\">grade = 1</text>\n",
       "<polygon fill=\"none\" stroke=\"gray\" points=\"135,-174 135,-188 178,-188 178,-174 135,-174\"/>\n",
       "<text text-anchor=\"start\" x=\"138\" y=\"-179.4\" font-family=\"Acme-Regular.ttf\" font-size=\"7.00\">grade = 2</text>\n",
       "<polygon fill=\"none\" stroke=\"gray\" points=\"8,-160 8,-174 26,-174 26,-160 8,-160\"/>\n",
       "<text text-anchor=\"start\" x=\"14.5\" y=\"-165.4\" font-family=\"Acme-Regular.ttf\" font-size=\"7.00\">0</text>\n",
       "<polygon fill=\"none\" stroke=\"gray\" points=\"26,-160 26,-174 49,-174 49,-160 26,-160\"/>\n",
       "<text text-anchor=\"start\" x=\"35\" y=\"-165.4\" font-family=\"Acme-Regular.ttf\" font-size=\"7.00\">0</text>\n",
       "<polygon fill=\"none\" stroke=\"gray\" points=\"49,-160 49,-174 92,-174 92,-160 49,-160\"/>\n",
       "<text text-anchor=\"start\" x=\"64.5\" y=\"-165.4\" font-family=\"Acme-Regular.ttf\" font-size=\"7.00\">0.1</text>\n",
       "<polygon fill=\"none\" stroke=\"gray\" points=\"92,-160 92,-174 135,-174 135,-160 92,-160\"/>\n",
       "<text text-anchor=\"start\" x=\"107.5\" y=\"-165.4\" font-family=\"Acme-Regular.ttf\" font-size=\"7.00\">0.1</text>\n",
       "<polygon fill=\"none\" stroke=\"gray\" points=\"135,-160 135,-174 178,-174 178,-160 135,-160\"/>\n",
       "<text text-anchor=\"start\" x=\"150.5\" y=\"-165.4\" font-family=\"Acme-Regular.ttf\" font-size=\"7.00\">0.8</text>\n",
       "<polygon fill=\"none\" stroke=\"gray\" points=\"8,-146 8,-160 26,-160 26,-146 8,-146\"/>\n",
       "<text text-anchor=\"start\" x=\"14.5\" y=\"-151.4\" font-family=\"Acme-Regular.ttf\" font-size=\"7.00\">0</text>\n",
       "<polygon fill=\"none\" stroke=\"gray\" points=\"26,-146 26,-160 49,-160 49,-146 26,-146\"/>\n",
       "<text text-anchor=\"start\" x=\"35\" y=\"-151.4\" font-family=\"Acme-Regular.ttf\" font-size=\"7.00\">1</text>\n",
       "<polygon fill=\"none\" stroke=\"gray\" points=\"49,-146 49,-160 92,-160 92,-146 49,-146\"/>\n",
       "<text text-anchor=\"start\" x=\"64.5\" y=\"-151.4\" font-family=\"Acme-Regular.ttf\" font-size=\"7.00\">0.1</text>\n",
       "<polygon fill=\"none\" stroke=\"gray\" points=\"92,-146 92,-160 135,-160 135,-146 92,-146\"/>\n",
       "<text text-anchor=\"start\" x=\"107.5\" y=\"-151.4\" font-family=\"Acme-Regular.ttf\" font-size=\"7.00\">0.1</text>\n",
       "<polygon fill=\"none\" stroke=\"gray\" points=\"135,-146 135,-160 178,-160 178,-146 135,-146\"/>\n",
       "<text text-anchor=\"start\" x=\"150.5\" y=\"-151.4\" font-family=\"Acme-Regular.ttf\" font-size=\"7.00\">0.8</text>\n",
       "<polygon fill=\"none\" stroke=\"gray\" points=\"8,-132 8,-146 26,-146 26,-132 8,-132\"/>\n",
       "<text text-anchor=\"start\" x=\"14.5\" y=\"-137.4\" font-family=\"Acme-Regular.ttf\" font-size=\"7.00\">0</text>\n",
       "<polygon fill=\"none\" stroke=\"gray\" points=\"26,-132 26,-146 49,-146 49,-132 26,-132\"/>\n",
       "<text text-anchor=\"start\" x=\"35\" y=\"-137.4\" font-family=\"Acme-Regular.ttf\" font-size=\"7.00\">2</text>\n",
       "<polygon fill=\"none\" stroke=\"gray\" points=\"49,-132 49,-146 92,-146 92,-132 49,-132\"/>\n",
       "<text text-anchor=\"start\" x=\"64.5\" y=\"-137.4\" font-family=\"Acme-Regular.ttf\" font-size=\"7.00\">0.1</text>\n",
       "<polygon fill=\"none\" stroke=\"gray\" points=\"92,-132 92,-146 135,-146 135,-132 92,-132\"/>\n",
       "<text text-anchor=\"start\" x=\"107.5\" y=\"-137.4\" font-family=\"Acme-Regular.ttf\" font-size=\"7.00\">0.1</text>\n",
       "<polygon fill=\"none\" stroke=\"gray\" points=\"135,-132 135,-146 178,-146 178,-132 135,-132\"/>\n",
       "<text text-anchor=\"start\" x=\"150.5\" y=\"-137.4\" font-family=\"Acme-Regular.ttf\" font-size=\"7.00\">0.8</text>\n",
       "<polygon fill=\"none\" stroke=\"gray\" points=\"8,-118 8,-132 26,-132 26,-118 8,-118\"/>\n",
       "<text text-anchor=\"start\" x=\"14.5\" y=\"-123.4\" font-family=\"Acme-Regular.ttf\" font-size=\"7.00\">1</text>\n",
       "<polygon fill=\"none\" stroke=\"gray\" points=\"26,-118 26,-132 49,-132 49,-118 26,-118\"/>\n",
       "<text text-anchor=\"start\" x=\"35\" y=\"-123.4\" font-family=\"Acme-Regular.ttf\" font-size=\"7.00\">0</text>\n",
       "<polygon fill=\"none\" stroke=\"gray\" points=\"49,-118 49,-132 92,-132 92,-118 49,-118\"/>\n",
       "<text text-anchor=\"start\" x=\"64.5\" y=\"-123.4\" font-family=\"Acme-Regular.ttf\" font-size=\"7.00\">0.1</text>\n",
       "<polygon fill=\"none\" stroke=\"gray\" points=\"92,-118 92,-132 135,-132 135,-118 92,-118\"/>\n",
       "<text text-anchor=\"start\" x=\"107.5\" y=\"-123.4\" font-family=\"Acme-Regular.ttf\" font-size=\"7.00\">0.1</text>\n",
       "<polygon fill=\"none\" stroke=\"gray\" points=\"135,-118 135,-132 178,-132 178,-118 135,-118\"/>\n",
       "<text text-anchor=\"start\" x=\"150.5\" y=\"-123.4\" font-family=\"Acme-Regular.ttf\" font-size=\"7.00\">0.8</text>\n",
       "<polygon fill=\"none\" stroke=\"gray\" points=\"8,-104 8,-118 26,-118 26,-104 8,-104\"/>\n",
       "<text text-anchor=\"start\" x=\"14.5\" y=\"-109.4\" font-family=\"Acme-Regular.ttf\" font-size=\"7.00\">1</text>\n",
       "<polygon fill=\"none\" stroke=\"gray\" points=\"26,-104 26,-118 49,-118 49,-104 26,-104\"/>\n",
       "<text text-anchor=\"start\" x=\"35\" y=\"-109.4\" font-family=\"Acme-Regular.ttf\" font-size=\"7.00\">1</text>\n",
       "<polygon fill=\"none\" stroke=\"gray\" points=\"49,-104 49,-118 92,-118 92,-104 49,-104\"/>\n",
       "<text text-anchor=\"start\" x=\"64.5\" y=\"-109.4\" font-family=\"Acme-Regular.ttf\" font-size=\"7.00\">0.1</text>\n",
       "<polygon fill=\"none\" stroke=\"gray\" points=\"92,-104 92,-118 135,-118 135,-104 92,-104\"/>\n",
       "<text text-anchor=\"start\" x=\"107.5\" y=\"-109.4\" font-family=\"Acme-Regular.ttf\" font-size=\"7.00\">0.1</text>\n",
       "<polygon fill=\"none\" stroke=\"gray\" points=\"135,-104 135,-118 178,-118 178,-104 135,-104\"/>\n",
       "<text text-anchor=\"start\" x=\"150.5\" y=\"-109.4\" font-family=\"Acme-Regular.ttf\" font-size=\"7.00\">0.8</text>\n",
       "<polygon fill=\"none\" stroke=\"gray\" points=\"8,-90 8,-104 26,-104 26,-90 8,-90\"/>\n",
       "<text text-anchor=\"start\" x=\"14.5\" y=\"-95.4\" font-family=\"Acme-Regular.ttf\" font-size=\"7.00\">1</text>\n",
       "<polygon fill=\"none\" stroke=\"gray\" points=\"26,-90 26,-104 49,-104 49,-90 26,-90\"/>\n",
       "<text text-anchor=\"start\" x=\"35\" y=\"-95.4\" font-family=\"Acme-Regular.ttf\" font-size=\"7.00\">2</text>\n",
       "<polygon fill=\"none\" stroke=\"gray\" points=\"49,-90 49,-104 92,-104 92,-90 49,-90\"/>\n",
       "<text text-anchor=\"start\" x=\"64.5\" y=\"-95.4\" font-family=\"Acme-Regular.ttf\" font-size=\"7.00\">0.1</text>\n",
       "<polygon fill=\"none\" stroke=\"gray\" points=\"92,-90 92,-104 135,-104 135,-90 92,-90\"/>\n",
       "<text text-anchor=\"start\" x=\"107.5\" y=\"-95.4\" font-family=\"Acme-Regular.ttf\" font-size=\"7.00\">0.1</text>\n",
       "<polygon fill=\"none\" stroke=\"gray\" points=\"135,-90 135,-104 178,-104 178,-90 135,-90\"/>\n",
       "<text text-anchor=\"start\" x=\"150.5\" y=\"-95.4\" font-family=\"Acme-Regular.ttf\" font-size=\"7.00\">0.8</text>\n",
       "</g>\n",
       "<!-- cpd_grade&#45;&gt;grade -->\n",
       "</g>\n",
       "</svg>\n"
      ],
      "text/plain": [
       "<graphviz.dot.Digraph at 0x7f15ec3948d0>"
      ]
     },
     "execution_count": 13,
     "metadata": {},
     "output_type": "execute_result"
    }
   ],
   "source": [
    "\n",
    "gradeModel = BayesianModel([('diff', 'grade'), ('intel', 'grade')])\n",
    "\n",
    "diff_cpd = TabularCPD('diff', 2, [[0.2], [0.8]])\n",
    "intel_cpd = TabularCPD('intel', 3, [[0.5], [0.3], [0.2]])\n",
    "grade_cpd = TabularCPD('grade', 3, [[0.1,0.1,0.1,0.1,0.1,0.1],\n",
    "                                    [0.1,0.1,0.1,0.1,0.1,0.1],\n",
    "                                    [0.8,0.8,0.8,0.8,0.8,0.8]],\n",
    "                       evidence=['diff', 'intel'], evidence_card=[2, 3])\n",
    "\n",
    "gradeModel.add_cpds(diff_cpd, intel_cpd, grade_cpd)\n",
    "\n",
    "\n",
    "pgmpyToGraphCPD(gradeModel)"
   ]
  },
  {
   "cell_type": "markdown",
   "metadata": {
    "lines_to_next_cell": 0,
    "title": "markdown"
   },
   "source": [
    "Showing two ways of creating the `JointProbabilityDistribution`    : (1) by feeding in values manually, or (2) by using `reduce` over the `TabularCPD`s or `DiscreteFactor`s."
   ]
  },
  {
   "cell_type": "code",
   "execution_count": 14,
   "metadata": {
    "title": "codecell"
   },
   "outputs": [
    {
     "name": "stdout",
     "output_type": "stream",
     "text": [
      "+---------+----------+----------+-----------------------+\n",
      "| diff    | intel    | grade    |   P(diff,intel,grade) |\n",
      "+=========+==========+==========+=======================+\n",
      "| diff(0) | intel(0) | grade(0) |                0.0100 |\n",
      "+---------+----------+----------+-----------------------+\n",
      "| diff(0) | intel(0) | grade(1) |                0.0100 |\n",
      "+---------+----------+----------+-----------------------+\n",
      "| diff(0) | intel(0) | grade(2) |                0.0800 |\n",
      "+---------+----------+----------+-----------------------+\n",
      "| diff(0) | intel(1) | grade(0) |                0.0060 |\n",
      "+---------+----------+----------+-----------------------+\n",
      "| diff(0) | intel(1) | grade(1) |                0.0060 |\n",
      "+---------+----------+----------+-----------------------+\n",
      "| diff(0) | intel(1) | grade(2) |                0.0480 |\n",
      "+---------+----------+----------+-----------------------+\n",
      "| diff(0) | intel(2) | grade(0) |                0.0040 |\n",
      "+---------+----------+----------+-----------------------+\n",
      "| diff(0) | intel(2) | grade(1) |                0.0040 |\n",
      "+---------+----------+----------+-----------------------+\n",
      "| diff(0) | intel(2) | grade(2) |                0.0320 |\n",
      "+---------+----------+----------+-----------------------+\n",
      "| diff(1) | intel(0) | grade(0) |                0.0400 |\n",
      "+---------+----------+----------+-----------------------+\n",
      "| diff(1) | intel(0) | grade(1) |                0.0400 |\n",
      "+---------+----------+----------+-----------------------+\n",
      "| diff(1) | intel(0) | grade(2) |                0.3200 |\n",
      "+---------+----------+----------+-----------------------+\n",
      "| diff(1) | intel(1) | grade(0) |                0.0240 |\n",
      "+---------+----------+----------+-----------------------+\n",
      "| diff(1) | intel(1) | grade(1) |                0.0240 |\n",
      "+---------+----------+----------+-----------------------+\n",
      "| diff(1) | intel(1) | grade(2) |                0.1920 |\n",
      "+---------+----------+----------+-----------------------+\n",
      "| diff(1) | intel(2) | grade(0) |                0.0160 |\n",
      "+---------+----------+----------+-----------------------+\n",
      "| diff(1) | intel(2) | grade(1) |                0.0160 |\n",
      "+---------+----------+----------+-----------------------+\n",
      "| diff(1) | intel(2) | grade(2) |                0.1280 |\n",
      "+---------+----------+----------+-----------------------+\n"
     ]
    }
   ],
   "source": [
    "# Method 1: Creating joint distribution manually, by feeding in the calculated values:\n",
    "jpdValues = [0.01, 0.01, 0.08, 0.006, 0.006, 0.048, 0.004, 0.004, 0.032,\n",
    "           0.04, 0.04, 0.32, 0.024, 0.024, 0.192, 0.016, 0.016, 0.128]\n",
    "\n",
    "JPD = JointProbabilityDistribution(variables = ['diff', 'intel', 'grade'], cardinality = [2, 3, 3], values = jpdValues)\n",
    "\n",
    "print(JPD)"
   ]
  },
  {
   "cell_type": "markdown",
   "metadata": {
    "lines_to_next_cell": 0,
    "title": "markdown"
   },
   "source": [
    "Showing if small student model is I-map:"
   ]
  },
  {
   "cell_type": "code",
   "execution_count": 15,
   "metadata": {
    "title": "codecell"
   },
   "outputs": [],
   "source": [
    "from src.utils.NetworkUtil import *\n",
    "\n",
    "\n",
    "# Method 2: creating the JPD by multiplying over the TabularCPDs (as per formula in page 16 of pgmpy book, Ankur Ankan)\n",
    "gradeJPDFactor: DiscreteFactor = DiscreteFactor(variables = JPD.variables, cardinality =  JPD.cardinality, values = JPD.values)\n",
    "gradeJPD: JointProbabilityDistribution = jointDistribution(gradeModel)\n",
    "\n",
    "\n",
    "assert gradeModel.is_imap(JPD = JPD), \"Check: using JPD to verify the graph is an independence-map: means no hidden backdoors between nodes and no way for variables to influence others except by one path\"\n",
    "\n",
    "assert gradeJPD == gradeJPDFactor, \"Check: joint distribution is the same as multiplying the cpds\""
   ]
  },
  {
   "cell_type": "markdown",
   "metadata": {
    "lines_to_next_cell": 0,
    "title": "markdown"
   },
   "source": [
    "Grade model's `JointProbabilityDistribution` over all variables:"
   ]
  },
  {
   "cell_type": "code",
   "execution_count": 16,
   "metadata": {
    "title": "codecell"
   },
   "outputs": [
    {
     "name": "stdout",
     "output_type": "stream",
     "text": [
      "+---------+----------+----------+-----------------------+\n",
      "| diff    | intel    | grade    |   P(diff,intel,grade) |\n",
      "+=========+==========+==========+=======================+\n",
      "| diff(0) | intel(0) | grade(0) |                0.0100 |\n",
      "+---------+----------+----------+-----------------------+\n",
      "| diff(0) | intel(0) | grade(1) |                0.0100 |\n",
      "+---------+----------+----------+-----------------------+\n",
      "| diff(0) | intel(0) | grade(2) |                0.0800 |\n",
      "+---------+----------+----------+-----------------------+\n",
      "| diff(0) | intel(1) | grade(0) |                0.0060 |\n",
      "+---------+----------+----------+-----------------------+\n",
      "| diff(0) | intel(1) | grade(1) |                0.0060 |\n",
      "+---------+----------+----------+-----------------------+\n",
      "| diff(0) | intel(1) | grade(2) |                0.0480 |\n",
      "+---------+----------+----------+-----------------------+\n",
      "| diff(0) | intel(2) | grade(0) |                0.0040 |\n",
      "+---------+----------+----------+-----------------------+\n",
      "| diff(0) | intel(2) | grade(1) |                0.0040 |\n",
      "+---------+----------+----------+-----------------------+\n",
      "| diff(0) | intel(2) | grade(2) |                0.0320 |\n",
      "+---------+----------+----------+-----------------------+\n",
      "| diff(1) | intel(0) | grade(0) |                0.0400 |\n",
      "+---------+----------+----------+-----------------------+\n",
      "| diff(1) | intel(0) | grade(1) |                0.0400 |\n",
      "+---------+----------+----------+-----------------------+\n",
      "| diff(1) | intel(0) | grade(2) |                0.3200 |\n",
      "+---------+----------+----------+-----------------------+\n",
      "| diff(1) | intel(1) | grade(0) |                0.0240 |\n",
      "+---------+----------+----------+-----------------------+\n",
      "| diff(1) | intel(1) | grade(1) |                0.0240 |\n",
      "+---------+----------+----------+-----------------------+\n",
      "| diff(1) | intel(1) | grade(2) |                0.1920 |\n",
      "+---------+----------+----------+-----------------------+\n",
      "| diff(1) | intel(2) | grade(0) |                0.0160 |\n",
      "+---------+----------+----------+-----------------------+\n",
      "| diff(1) | intel(2) | grade(1) |                0.0160 |\n",
      "+---------+----------+----------+-----------------------+\n",
      "| diff(1) | intel(2) | grade(2) |                0.1280 |\n",
      "+---------+----------+----------+-----------------------+\n"
     ]
    }
   ],
   "source": [
    "print(gradeJPD)"
   ]
  },
  {
   "cell_type": "markdown",
   "metadata": {
    "lines_to_next_cell": 0,
    "title": "markdown"
   },
   "source": [
    "Checking if alarm model is I-map:"
   ]
  },
  {
   "cell_type": "code",
   "execution_count": 17,
   "metadata": {
    "title": "codecell"
   },
   "outputs": [],
   "source": [
    "alarmJPD: JointProbabilityDistribution = jointDistribution(alarmModel_brief)\n",
    "\n",
    "assert not alarmModel_brief.is_imap(JPD = alarmJPD)\n",
    "\n",
    "\n",
    "\n"
   ]
  },
  {
   "cell_type": "markdown",
   "metadata": {
    "lines_to_next_cell": 0,
    "title": "markdown"
   },
   "source": [
    "## 3/ Joint Distribution Represented by the Bayesian Network\n",
    "Computing the Joint Distribution from the Bayesian Network, `model`:\n",
    "\n",
    "From the **chain rule of probability (also called and rule):**\n",
    "$$\n",
    "P(A, B) = P(B) \\cdot P(A \\; | \\; B)\n",
    "$$\n",
    "Now in this case for the `alarmModel`:\n",
    "$$\n",
    "\\begin{align}\n",
    "P(J, M, A, E, B)\n",
    "&= P(J \\; | \\; M, A, E, B) \\cdot P(J, M, A, E, B) \\\\\n",
    "&= P(J \\; | \\; M, A, E, B) \\cdot {\\color{cyan} (} P(M \\; | \\; A,E,B) \\cdot P(A,E,B) {\\color{cyan} )} \\\\\n",
    "&=  P(J \\; | \\; M, A, E, B) \\cdot  P(M \\; | \\; A,E,B) \\cdot {\\color{cyan} (}P(A \\; | \\; E,B) \\cdot P(E, B){\\color{cyan} )} \\\\\n",
    "&= P(J \\; | \\; M, A, E, B) \\cdot  P(M \\; | \\; A,E,B) \\cdot P(A \\; | \\; E,B) \\cdot {\\color{cyan} (}P(E \\; | \\; B) \\cdot P(B){\\color{cyan} )} \\\\\n",
    "\\end{align}\n",
    "$$"
   ]
  },
  {
   "cell_type": "code",
   "execution_count": 18,
   "metadata": {
    "lines_to_next_cell": 0,
    "title": "codecell"
   },
   "outputs": [
    {
     "data": {
      "text/plain": [
       "'P(J | M, A, E, B) * P(M | A, E, B) * P(A | E, B) * P(E | B) * P(B)'"
      ]
     },
     "execution_count": 18,
     "metadata": {},
     "output_type": "execute_result"
    }
   ],
   "source": [
    "probChainRule(['J','M','A','E','B'])"
   ]
  },
  {
   "cell_type": "markdown",
   "metadata": {
    "lines_to_next_cell": 0,
    "title": "markdown"
   },
   "source": [
    "Alarm model's `JointProbabilityDistribution` over all variables"
   ]
  },
  {
   "cell_type": "code",
   "execution_count": 19,
   "metadata": {
    "title": "codecell"
   },
   "outputs": [
    {
     "name": "stdout",
     "output_type": "stream",
     "text": [
      "+------+------+------+------+------+----------------+\n",
      "| B    | E    | A    | J    | M    |   P(B,E,A,J,M) |\n",
      "+======+======+======+======+======+================+\n",
      "| B(0) | E(0) | A(0) | J(0) | M(0) |         0.0012 |\n",
      "+------+------+------+------+------+----------------+\n",
      "| B(0) | E(0) | A(0) | J(0) | M(1) |         0.0005 |\n",
      "+------+------+------+------+------+----------------+\n",
      "| B(0) | E(0) | A(0) | J(1) | M(0) |         0.0001 |\n",
      "+------+------+------+------+------+----------------+\n",
      "| B(0) | E(0) | A(0) | J(1) | M(1) |         0.0001 |\n",
      "+------+------+------+------+------+----------------+\n",
      "| B(0) | E(0) | A(1) | J(0) | M(0) |         0.0000 |\n",
      "+------+------+------+------+------+----------------+\n",
      "| B(0) | E(0) | A(1) | J(0) | M(1) |         0.0000 |\n",
      "+------+------+------+------+------+----------------+\n",
      "| B(0) | E(0) | A(1) | J(1) | M(0) |         0.0000 |\n",
      "+------+------+------+------+------+----------------+\n",
      "| B(0) | E(0) | A(1) | J(1) | M(1) |         0.0001 |\n",
      "+------+------+------+------+------+----------------+\n",
      "| B(0) | E(1) | A(0) | J(0) | M(0) |         0.5904 |\n",
      "+------+------+------+------+------+----------------+\n",
      "| B(0) | E(1) | A(0) | J(0) | M(1) |         0.2530 |\n",
      "+------+------+------+------+------+----------------+\n",
      "| B(0) | E(1) | A(0) | J(1) | M(0) |         0.0656 |\n",
      "+------+------+------+------+------+----------------+\n",
      "| B(0) | E(1) | A(0) | J(1) | M(1) |         0.0281 |\n",
      "+------+------+------+------+------+----------------+\n",
      "| B(0) | E(1) | A(1) | J(0) | M(0) |         0.0000 |\n",
      "+------+------+------+------+------+----------------+\n",
      "| B(0) | E(1) | A(1) | J(0) | M(1) |         0.0030 |\n",
      "+------+------+------+------+------+----------------+\n",
      "| B(0) | E(1) | A(1) | J(1) | M(0) |         0.0006 |\n",
      "+------+------+------+------+------+----------------+\n",
      "| B(0) | E(1) | A(1) | J(1) | M(1) |         0.0563 |\n",
      "+------+------+------+------+------+----------------+\n",
      "| B(1) | E(0) | A(0) | J(0) | M(0) |         0.0000 |\n",
      "+------+------+------+------+------+----------------+\n",
      "| B(1) | E(0) | A(0) | J(0) | M(1) |         0.0000 |\n",
      "+------+------+------+------+------+----------------+\n",
      "| B(1) | E(0) | A(0) | J(1) | M(0) |         0.0000 |\n",
      "+------+------+------+------+------+----------------+\n",
      "| B(1) | E(0) | A(0) | J(1) | M(1) |         0.0000 |\n",
      "+------+------+------+------+------+----------------+\n",
      "| B(1) | E(0) | A(1) | J(0) | M(0) |         0.0000 |\n",
      "+------+------+------+------+------+----------------+\n",
      "| B(1) | E(0) | A(1) | J(0) | M(1) |         0.0000 |\n",
      "+------+------+------+------+------+----------------+\n",
      "| B(1) | E(0) | A(1) | J(1) | M(0) |         0.0000 |\n",
      "+------+------+------+------+------+----------------+\n",
      "| B(1) | E(0) | A(1) | J(1) | M(1) |         0.0000 |\n",
      "+------+------+------+------+------+----------------+\n",
      "| B(1) | E(1) | A(0) | J(0) | M(0) |         0.0000 |\n",
      "+------+------+------+------+------+----------------+\n",
      "| B(1) | E(1) | A(0) | J(0) | M(1) |         0.0000 |\n",
      "+------+------+------+------+------+----------------+\n",
      "| B(1) | E(1) | A(0) | J(1) | M(0) |         0.0000 |\n",
      "+------+------+------+------+------+----------------+\n",
      "| B(1) | E(1) | A(0) | J(1) | M(1) |         0.0000 |\n",
      "+------+------+------+------+------+----------------+\n",
      "| B(1) | E(1) | A(1) | J(0) | M(0) |         0.0000 |\n",
      "+------+------+------+------+------+----------------+\n",
      "| B(1) | E(1) | A(1) | J(0) | M(1) |         0.0000 |\n",
      "+------+------+------+------+------+----------------+\n",
      "| B(1) | E(1) | A(1) | J(1) | M(0) |         0.0000 |\n",
      "+------+------+------+------+------+----------------+\n",
      "| B(1) | E(1) | A(1) | J(1) | M(1) |         0.0009 |\n",
      "+------+------+------+------+------+----------------+\n"
     ]
    }
   ],
   "source": [
    "print(alarmJPD)\n",
    "\n",
    "\n"
   ]
  },
  {
   "cell_type": "markdown",
   "metadata": {
    "lines_to_next_cell": 2,
    "title": "markdown"
   },
   "source": [
    "## 4/ Inference in Bayesian Alarm Model\n",
    "So far we talked about represented Bayesian Networks.\n",
    "\n",
    "Now let us do inference in a  Bayesian model and predict values using this model over new data points for ML tasks.\n",
    "\n",
    "### 1. Causal Reasoning in the Alarm Model\n",
    "For a causal model $A \\rightarrow B \\rightarrow C$, there are two cases:\n",
    "  * **Marginal Dependence:** ($B$ unknown): When $B$ is unknown / unobserved, there is an active trail between $A$\n",
    "  and $C$, meaning the probability of $A$ can influence probability of $C$ (and vice versa) when information about $B$'s state is unknown.\n",
    "  * **Conditional Independence:** ($B$ fixed): When $B$ is fixed, there is NO active trail between $A$ and $C$,\n",
    "  so they are independent. The probability of $A$ won't influence probability of $C$ (and vice versa) when $B$'s state is observed."
   ]
  },
  {
   "cell_type": "code",
   "execution_count": 20,
   "metadata": {
    "lines_to_next_cell": 0,
    "title": "codecell"
   },
   "outputs": [
    {
     "data": {
      "image/svg+xml": [
       "<?xml version=\"1.0\" encoding=\"UTF-8\" standalone=\"no\"?>\n",
       "<!DOCTYPE svg PUBLIC \"-//W3C//DTD SVG 1.1//EN\"\n",
       " \"http://www.w3.org/Graphics/SVG/1.1/DTD/svg11.dtd\">\n",
       "<!-- Generated by graphviz version 2.38.0 (20140413.2041)\n",
       " -->\n",
       "<!-- Title: G Pages: 1 -->\n",
       "<svg width=\"214pt\" height=\"188pt\"\n",
       " viewBox=\"0.00 0.00 214.18 188.00\" xmlns=\"http://www.w3.org/2000/svg\" xmlns:xlink=\"http://www.w3.org/1999/xlink\">\n",
       "<g id=\"graph0\" class=\"graph\" transform=\"scale(1 1) rotate(0) translate(4 184)\">\n",
       "<title>G</title>\n",
       "<polygon fill=\"white\" stroke=\"none\" points=\"-4,4 -4,-184 210.185,-184 210.185,4 -4,4\"/>\n",
       "<!-- Burglary -->\n",
       "<g id=\"node1\" class=\"node\"><title>Burglary</title>\n",
       "<defs>\n",
       "<linearGradient id=\"l_0\" gradientUnits=\"userSpaceOnUse\" x1=\"41.8599\" y1=\"-144\" x2=\"41.8599\" y2=\"-180\" >\n",
       "<stop offset=\"0\" style=\"stop-color:#ceccff;stop-opacity:1.;\"/>\n",
       "<stop offset=\"1\" style=\"stop-color:white;stop-opacity:1.;\"/>\n",
       "</linearGradient>\n",
       "</defs>\n",
       "<ellipse fill=\"url(#l_0)\" stroke=\"#ff638d\" cx=\"41.8599\" cy=\"-162\" rx=\"41.7203\" ry=\"18\"/>\n",
       "<text text-anchor=\"middle\" x=\"41.8599\" y=\"-158.9\" font-family=\"Acme-Regular.ttf\" font-size=\"12.00\">Burglary</text>\n",
       "</g>\n",
       "<!-- Alarm -->\n",
       "<g id=\"node2\" class=\"node\"><title>Alarm</title>\n",
       "<defs>\n",
       "<linearGradient id=\"l_1\" gradientUnits=\"userSpaceOnUse\" x1=\"97.8599\" y1=\"-72\" x2=\"97.8599\" y2=\"-108\" >\n",
       "<stop offset=\"0\" style=\"stop-color:#ceccff;stop-opacity:1.;\"/>\n",
       "<stop offset=\"1\" style=\"stop-color:white;stop-opacity:1.;\"/>\n",
       "</linearGradient>\n",
       "</defs>\n",
       "<ellipse fill=\"url(#l_1)\" stroke=\"#ff638d\" cx=\"97.8599\" cy=\"-90\" rx=\"32.7527\" ry=\"18\"/>\n",
       "<text text-anchor=\"middle\" x=\"97.8599\" y=\"-86.9\" font-family=\"Acme-Regular.ttf\" font-size=\"12.00\">Alarm</text>\n",
       "</g>\n",
       "<!-- Burglary&#45;&gt;Alarm -->\n",
       "<g id=\"edge1\" class=\"edge\"><title>Burglary&#45;&gt;Alarm</title>\n",
       "<path fill=\"none\" stroke=\"#ff638d\" d=\"M54.8482,-144.765C62.0171,-135.804 71.05,-124.512 78.985,-114.594\"/>\n",
       "<polygon fill=\"#ff638d\" stroke=\"#ff638d\" points=\"81.8134,-116.661 85.3273,-106.666 76.3473,-112.288 81.8134,-116.661\"/>\n",
       "</g>\n",
       "<!-- JohnCalls -->\n",
       "<g id=\"node3\" class=\"node\"><title>JohnCalls</title>\n",
       "<defs>\n",
       "<linearGradient id=\"l_2\" gradientUnits=\"userSpaceOnUse\" x1=\"44.8599\" y1=\"-1.77636e-14\" x2=\"44.8599\" y2=\"-36\" >\n",
       "<stop offset=\"0\" style=\"stop-color:#ceccff;stop-opacity:1.;\"/>\n",
       "<stop offset=\"1\" style=\"stop-color:white;stop-opacity:1.;\"/>\n",
       "</linearGradient>\n",
       "</defs>\n",
       "<ellipse fill=\"url(#l_2)\" stroke=\"#ff638d\" cx=\"44.8599\" cy=\"-18\" rx=\"43.9143\" ry=\"18\"/>\n",
       "<text text-anchor=\"middle\" x=\"44.8599\" y=\"-14.9\" font-family=\"Acme-Regular.ttf\" font-size=\"12.00\">JohnCalls</text>\n",
       "</g>\n",
       "<!-- Alarm&#45;&gt;JohnCalls -->\n",
       "<g id=\"edge2\" class=\"edge\"><title>Alarm&#45;&gt;JohnCalls</title>\n",
       "<path fill=\"none\" stroke=\"#ff638d\" d=\"M85.8334,-73.1159C79.2193,-64.3803 70.8699,-53.3528 63.4366,-43.5352\"/>\n",
       "<polygon fill=\"#ff638d\" stroke=\"#ff638d\" points=\"66.0335,-41.1669 57.2066,-35.307 60.4527,-45.3923 66.0335,-41.1669\"/>\n",
       "</g>\n",
       "<!-- MaryCalls -->\n",
       "<g id=\"node4\" class=\"node\"><title>MaryCalls</title>\n",
       "<defs>\n",
       "<linearGradient id=\"l_3\" gradientUnits=\"userSpaceOnUse\" x1=\"151.86\" y1=\"-1.77636e-14\" x2=\"151.86\" y2=\"-36\" >\n",
       "<stop offset=\"0\" style=\"stop-color:#ceccff;stop-opacity:1.;\"/>\n",
       "<stop offset=\"1\" style=\"stop-color:white;stop-opacity:1.;\"/>\n",
       "</linearGradient>\n",
       "</defs>\n",
       "<ellipse fill=\"url(#l_3)\" stroke=\"#ff638d\" cx=\"151.86\" cy=\"-18\" rx=\"45.6069\" ry=\"18\"/>\n",
       "<text text-anchor=\"middle\" x=\"151.86\" y=\"-14.9\" font-family=\"Acme-Regular.ttf\" font-size=\"12.00\">MaryCalls</text>\n",
       "</g>\n",
       "<!-- Alarm&#45;&gt;MaryCalls -->\n",
       "<g id=\"edge3\" class=\"edge\"><title>Alarm&#45;&gt;MaryCalls</title>\n",
       "<path fill=\"none\" stroke=\"#ff638d\" d=\"M110.113,-73.1159C116.92,-64.292 125.531,-53.1298 133.162,-43.238\"/>\n",
       "<polygon fill=\"#ff638d\" stroke=\"#ff638d\" points=\"135.943,-45.3627 139.28,-35.307 130.401,-41.087 135.943,-45.3627\"/>\n",
       "</g>\n",
       "<!-- Earthquake -->\n",
       "<g id=\"node5\" class=\"node\"><title>Earthquake</title>\n",
       "<defs>\n",
       "<linearGradient id=\"l_4\" gradientUnits=\"userSpaceOnUse\" x1=\"153.86\" y1=\"-144\" x2=\"153.86\" y2=\"-180\" >\n",
       "<stop offset=\"0\" style=\"stop-color:#ceccff;stop-opacity:1.;\"/>\n",
       "<stop offset=\"1\" style=\"stop-color:white;stop-opacity:1.;\"/>\n",
       "</linearGradient>\n",
       "</defs>\n",
       "<ellipse fill=\"url(#l_4)\" stroke=\"#ff638d\" cx=\"153.86\" cy=\"-162\" rx=\"52.1504\" ry=\"18\"/>\n",
       "<text text-anchor=\"middle\" x=\"153.86\" y=\"-158.9\" font-family=\"Acme-Regular.ttf\" font-size=\"12.00\">Earthquake</text>\n",
       "</g>\n",
       "<!-- Earthquake&#45;&gt;Alarm -->\n",
       "<g id=\"edge4\" class=\"edge\"><title>Earthquake&#45;&gt;Alarm</title>\n",
       "<path fill=\"none\" stroke=\"#ff638d\" d=\"M140.589,-144.411C133.584,-135.655 124.861,-124.751 117.126,-115.082\"/>\n",
       "<polygon fill=\"#ff638d\" stroke=\"#ff638d\" points=\"119.63,-112.61 110.65,-106.988 114.164,-116.983 119.63,-112.61\"/>\n",
       "</g>\n",
       "</g>\n",
       "</svg>\n"
      ],
      "text/plain": [
       "<graphviz.dot.Digraph at 0x7f15ec3b1510>"
      ]
     },
     "execution_count": 20,
     "metadata": {},
     "output_type": "execute_result"
    }
   ],
   "source": [
    "pgmpyToGraph(alarmModel)"
   ]
  },
  {
   "cell_type": "markdown",
   "metadata": {
    "lines_to_next_cell": 0,
    "title": "markdown"
   },
   "source": [
    "$\\color{MediumVioletRed}{\\text{Case 1: Marginal Dependence (for Causal Model)}}$\n",
    "\n",
    "$$\n",
    "\\color{Green}{ \\text{Alarm (unknown): }\\;\\;\\;\\;\\;\\;\\;\\;\\; \\text{Burglary} \\longrightarrow \\text{Alarm} \\longrightarrow \\text{MaryCalls}}\n",
    "$$\n",
    "\n",
    "When the middle node `Alarm` is unknown / unobserved, there IS an active trail between `Burglary` and `MaryCalls`. In other words, there is a dependence between `Burglary` and `MaryCalls` when `Alarm` is unobserved. This means the probability of `Burglary` can influence probability of `MaryCalls` (and vice versa) when information about `Alarm`'s state is unknown.\n",
    "\n",
    "\n",
    "$$\n",
    "\\color{Green}{ \\text{Alarm (unknown): }\\;\\;\\;\\;\\;\\;\\;\\;\\; \\text{Burglary} \\longrightarrow \\text{Alarm} \\longrightarrow \\text{JohnCalls}}\n",
    "$$\n",
    "When `Alarm`'s state is uknown, there is an active trail or dependency between `Burglary` and `JohnCalls`, so the probability of `Burglary` can influence the probability of `JohnCalls` (and vice versa) when `Alarm`'s state is unknown.\n",
    "\n",
    "$$\n",
    "\\color{Green}{ \\text{Alarm (unknown): }\\;\\;\\;\\;\\;\\;\\;\\;\\; \\text{Earthquake} \\longrightarrow \\text{Alarm} \\longrightarrow \\text{MaryCalls}}\n",
    "$$\n",
    "When `Alarm`'s state is uknown, there is an active trail or dependency between `Earthquake` and `MaryCalls`, so the probability of `Earthquake` can influence the probability of `MaryCalls` (and vice versa) when `Alarm`'s state is unknown.\n",
    "\n",
    "$$\n",
    "\\color{Green}{ \\text{Alarm (unknown): }\\;\\;\\;\\;\\;\\;\\;\\;\\; \\text{Earthquake} \\longrightarrow \\text{Alarm} \\longrightarrow \\text{JohnCalls}}\n",
    "$$\n",
    "When `Alarm`'s state is uknown, there is an active trail or dependency between `Earthquake` and `JohnCalls`, so the probability of `Earthquake` can influence the probability of `JohnCalls` (and vice versa) when `Alarm`'s state is unknown."
   ]
  },
  {
   "cell_type": "markdown",
   "metadata": {
    "lines_to_next_cell": 0,
    "title": "markdown"
   },
   "source": [
    "**Verify:** Using Active Trails"
   ]
  },
  {
   "cell_type": "code",
   "execution_count": 21,
   "metadata": {
    "title": "codecell"
   },
   "outputs": [
    {
     "name": "stdout",
     "output_type": "stream",
     "text": [
      "Burglary --> Burglary\n",
      "Burglary --> Alarm\n",
      "Burglary --> MaryCalls\n",
      "Burglary --> JohnCalls\n",
      "MaryCalls --> Earthquake\n",
      "MaryCalls --> MaryCalls\n",
      "MaryCalls --> Burglary\n",
      "MaryCalls --> Alarm\n",
      "MaryCalls --> JohnCalls\n"
     ]
    }
   ],
   "source": [
    "assert alarmModel.is_active_trail(start = 'Burglary', end = 'MaryCalls', observed = None)\n",
    "assert alarmModel.is_active_trail(start = 'Burglary', end = 'JohnCalls', observed = None)\n",
    "assert alarmModel.is_active_trail(start = 'Earthquake', end = 'MaryCalls', observed = None)\n",
    "assert alarmModel.is_active_trail(start = 'Earthquake', end = 'JohnCalls', observed = None)\n",
    "\n",
    "showActiveTrails(model = alarmModel, variables = ['Burglary', 'MaryCalls'])"
   ]
  },
  {
   "cell_type": "code",
   "execution_count": 22,
   "metadata": {
    "title": "codecell"
   },
   "outputs": [],
   "source": [
    "elim: VariableElimination = VariableElimination(model = alarmModel)"
   ]
  },
  {
   "cell_type": "markdown",
   "metadata": {
    "lines_to_next_cell": 0,
    "title": "markdown"
   },
   "source": [
    "**Verify:** Using Probabilities (example of $B \\rightarrow A \\rightarrow J$ trail)\n",
    "##### Causal Reasoning For Causal Model:"
   ]
  },
  {
   "cell_type": "markdown",
   "metadata": {
    "lines_to_next_cell": 0,
    "title": "markdown"
   },
   "source": [
    "The probability below is:\n",
    "$$\n",
    "P(\\text{JohnCalls} = \\text{True}) = 0.8482\n",
    "$$"
   ]
  },
  {
   "cell_type": "code",
   "execution_count": 23,
   "metadata": {
    "lines_to_next_cell": 0,
    "title": "codecell"
   },
   "outputs": [
    {
     "name": "stderr",
     "output_type": "stream",
     "text": [
      "\r",
      "  0%|          | 0/4 [00:00<?, ?it/s]"
     ]
    },
    {
     "name": "stderr",
     "output_type": "stream",
     "text": [
      "\r",
      "Finding Elimination Order: :   0%|          | 0/4 [00:00<?, ?it/s]"
     ]
    },
    {
     "name": "stderr",
     "output_type": "stream",
     "text": [
      "\r",
      "Finding Elimination Order: : 100%|██████████| 4/4 [00:00<00:00, 1026.57it/s]"
     ]
    },
    {
     "name": "stderr",
     "output_type": "stream",
     "text": [
      "\n",
      "\r",
      "  0%|          | 0/4 [00:00<?, ?it/s]"
     ]
    },
    {
     "name": "stderr",
     "output_type": "stream",
     "text": [
      "\r",
      "Eliminating: Burglary:   0%|          | 0/4 [00:00<?, ?it/s]"
     ]
    },
    {
     "name": "stderr",
     "output_type": "stream",
     "text": [
      "\r",
      "Eliminating: MaryCalls:   0%|          | 0/4 [00:00<?, ?it/s]"
     ]
    },
    {
     "name": "stderr",
     "output_type": "stream",
     "text": [
      "\r",
      "Eliminating: Alarm:   0%|          | 0/4 [00:00<?, ?it/s]    "
     ]
    },
    {
     "name": "stderr",
     "output_type": "stream",
     "text": [
      "\r",
      "Eliminating: Earthquake:   0%|          | 0/4 [00:00<?, ?it/s]"
     ]
    },
    {
     "name": "stderr",
     "output_type": "stream",
     "text": [
      "\r",
      "Eliminating: Earthquake: 100%|██████████| 4/4 [00:00<00:00, 464.18it/s]"
     ]
    },
    {
     "name": "stdout",
     "output_type": "stream",
     "text": [
      "+------------------+------------------+\n",
      "| JohnCalls        |   phi(JohnCalls) |\n",
      "+==================+==================+\n",
      "| JohnCalls(True)  |           0.8482 |\n",
      "+------------------+------------------+\n",
      "| JohnCalls(False) |           0.1518 |\n",
      "+------------------+------------------+\n"
     ]
    },
    {
     "name": "stderr",
     "output_type": "stream",
     "text": [
      "\n"
     ]
    }
   ],
   "source": [
    "BJ: DiscreteFactor = elim.query(variables = ['JohnCalls'], evidence = None)\n",
    "print(BJ)"
   ]
  },
  {
   "cell_type": "markdown",
   "metadata": {
    "lines_to_next_cell": 0,
    "title": "markdown"
   },
   "source": [
    "Below we see that when there has been `Burglary` and no `Alarm` was observed, there is a higher probability of `JohnCalls`, compared to when no `Burglary` was observed and no `Alarm` was observed (BJ). Specifically,\n",
    "$$\n",
    "P(\\text{JohnCalls} = \\text{True} \\; | \\; \\text{Burglary} = \\text{True}) = 0.8490\n",
    "$$\n",
    "while above:\n",
    "$$\n",
    "P(\\text{JohnCalls} = \\text{True}) = 0.8482\n",
    "$$"
   ]
  },
  {
   "cell_type": "code",
   "execution_count": 24,
   "metadata": {
    "lines_to_next_cell": 0,
    "title": "codecell"
   },
   "outputs": [
    {
     "name": "stderr",
     "output_type": "stream",
     "text": [
      "\r",
      "  0%|          | 0/3 [00:00<?, ?it/s]"
     ]
    },
    {
     "name": "stderr",
     "output_type": "stream",
     "text": [
      "\r",
      "Finding Elimination Order: :   0%|          | 0/3 [00:00<?, ?it/s]"
     ]
    },
    {
     "name": "stderr",
     "output_type": "stream",
     "text": [
      "\r",
      "Finding Elimination Order: : 100%|██████████| 3/3 [00:00<00:00, 1486.11it/s]"
     ]
    },
    {
     "name": "stderr",
     "output_type": "stream",
     "text": [
      "\n",
      "\r",
      "  0%|          | 0/3 [00:00<?, ?it/s]"
     ]
    },
    {
     "name": "stderr",
     "output_type": "stream",
     "text": [
      "\r",
      "Eliminating: MaryCalls:   0%|          | 0/3 [00:00<?, ?it/s]"
     ]
    },
    {
     "name": "stderr",
     "output_type": "stream",
     "text": [
      "\r",
      "Eliminating: Alarm:   0%|          | 0/3 [00:00<?, ?it/s]    "
     ]
    },
    {
     "name": "stderr",
     "output_type": "stream",
     "text": [
      "\r",
      "Eliminating: Earthquake:   0%|          | 0/3 [00:00<?, ?it/s]"
     ]
    },
    {
     "name": "stderr",
     "output_type": "stream",
     "text": [
      "\r",
      "Eliminating: Earthquake: 100%|██████████| 3/3 [00:00<00:00, 393.44it/s]"
     ]
    },
    {
     "name": "stdout",
     "output_type": "stream",
     "text": [
      "+------------------+------------------+\n",
      "| JohnCalls        |   phi(JohnCalls) |\n",
      "+==================+==================+\n",
      "| JohnCalls(True)  |           0.8490 |\n",
      "+------------------+------------------+\n",
      "| JohnCalls(False) |           0.1510 |\n",
      "+------------------+------------------+\n"
     ]
    },
    {
     "name": "stderr",
     "output_type": "stream",
     "text": [
      "\n"
     ]
    }
   ],
   "source": [
    "BJ_1 = elim.query(variables = ['JohnCalls'], evidence = {'Burglary':'True'})\n",
    "print(BJ_1)"
   ]
  },
  {
   "cell_type": "markdown",
   "metadata": {
    "lines_to_next_cell": 0,
    "title": "markdown"
   },
   "source": [
    "Below we see that when there is no `Burglary` and no `Alarm` was observed, there is a lower probability of `JohnCalls`, compared to when `Burglary` did occur and no `Alarm` was observed (BJ_1). Specifically,\n",
    "$$\n",
    "P(\\text{JohnCalls} = \\text{True} \\; | \\; \\text{Burglary} = \\text{False}) = 0.0513\n",
    "$$"
   ]
  },
  {
   "cell_type": "code",
   "execution_count": 25,
   "metadata": {
    "lines_to_next_cell": 0,
    "title": "codecell"
   },
   "outputs": [
    {
     "name": "stderr",
     "output_type": "stream",
     "text": [
      "\r",
      "  0%|          | 0/3 [00:00<?, ?it/s]"
     ]
    },
    {
     "name": "stderr",
     "output_type": "stream",
     "text": [
      "\r",
      "Finding Elimination Order: :   0%|          | 0/3 [00:00<?, ?it/s]"
     ]
    },
    {
     "name": "stderr",
     "output_type": "stream",
     "text": [
      "\r",
      "Finding Elimination Order: : 100%|██████████| 3/3 [00:00<00:00, 1502.44it/s]"
     ]
    },
    {
     "name": "stderr",
     "output_type": "stream",
     "text": [
      "\n",
      "\r",
      "  0%|          | 0/3 [00:00<?, ?it/s]"
     ]
    },
    {
     "name": "stderr",
     "output_type": "stream",
     "text": [
      "\r",
      "Eliminating: MaryCalls:   0%|          | 0/3 [00:00<?, ?it/s]"
     ]
    },
    {
     "name": "stderr",
     "output_type": "stream",
     "text": [
      "\r",
      "Eliminating: Alarm:   0%|          | 0/3 [00:00<?, ?it/s]    "
     ]
    },
    {
     "name": "stderr",
     "output_type": "stream",
     "text": [
      "\r",
      "Eliminating: Earthquake:   0%|          | 0/3 [00:00<?, ?it/s]"
     ]
    },
    {
     "name": "stderr",
     "output_type": "stream",
     "text": [
      "\r",
      "Eliminating: Earthquake: 100%|██████████| 3/3 [00:00<00:00, 481.75it/s]"
     ]
    },
    {
     "name": "stdout",
     "output_type": "stream",
     "text": [
      "+------------------+------------------+\n",
      "| JohnCalls        |   phi(JohnCalls) |\n",
      "+==================+==================+\n",
      "| JohnCalls(True)  |           0.0513 |\n",
      "+------------------+------------------+\n",
      "| JohnCalls(False) |           0.9487 |\n",
      "+------------------+------------------+\n"
     ]
    },
    {
     "name": "stderr",
     "output_type": "stream",
     "text": [
      "\n"
     ]
    }
   ],
   "source": [
    "BJ_2 = elim.query(variables = ['JohnCalls'], evidence = {'Burglary':'False'})\n",
    "print(BJ_2)"
   ]
  },
  {
   "cell_type": "code",
   "execution_count": 26,
   "metadata": {
    "lines_to_next_cell": 2,
    "title": "codecell"
   },
   "outputs": [],
   "source": [
    "assert (BJ.values != BJ_1.values).all() and (BJ.values != BJ_2.values).all(), \"Check there is dependency between Burglary and JohnCalls, when Alarm state is unobserved \""
   ]
  },
  {
   "cell_type": "markdown",
   "metadata": {
    "lines_to_next_cell": 0,
    "title": "markdown"
   },
   "source": [
    "**Verify:** Using Probabilities (example of $E \\rightarrow A \\rightarrow M$ trail)\n",
    "##### Causal Reasoning For Causal Model:"
   ]
  },
  {
   "cell_type": "markdown",
   "metadata": {
    "lines_to_next_cell": 0,
    "title": "markdown"
   },
   "source": [
    "The probability below is:\n",
    "$$\n",
    "P(\\text{MaryCalls} = \\text{True}) = 0.6580\n",
    "$$"
   ]
  },
  {
   "cell_type": "code",
   "execution_count": 27,
   "metadata": {
    "lines_to_next_cell": 0,
    "title": "codecell"
   },
   "outputs": [
    {
     "name": "stderr",
     "output_type": "stream",
     "text": [
      "\r",
      "  0%|          | 0/4 [00:00<?, ?it/s]"
     ]
    },
    {
     "name": "stderr",
     "output_type": "stream",
     "text": [
      "\r",
      "Finding Elimination Order: :   0%|          | 0/4 [00:00<?, ?it/s]"
     ]
    },
    {
     "name": "stderr",
     "output_type": "stream",
     "text": [
      "\r",
      "Finding Elimination Order: : 100%|██████████| 4/4 [00:00<00:00, 1093.26it/s]"
     ]
    },
    {
     "name": "stderr",
     "output_type": "stream",
     "text": [
      "\n",
      "\r",
      "  0%|          | 0/4 [00:00<?, ?it/s]"
     ]
    },
    {
     "name": "stderr",
     "output_type": "stream",
     "text": [
      "\r",
      "Eliminating: Burglary:   0%|          | 0/4 [00:00<?, ?it/s]"
     ]
    },
    {
     "name": "stderr",
     "output_type": "stream",
     "text": [
      "\r",
      "Eliminating: JohnCalls:   0%|          | 0/4 [00:00<?, ?it/s]"
     ]
    },
    {
     "name": "stderr",
     "output_type": "stream",
     "text": [
      "\r",
      "Eliminating: Alarm:   0%|          | 0/4 [00:00<?, ?it/s]    "
     ]
    },
    {
     "name": "stderr",
     "output_type": "stream",
     "text": [
      "\r",
      "Eliminating: Earthquake:   0%|          | 0/4 [00:00<?, ?it/s]"
     ]
    },
    {
     "name": "stderr",
     "output_type": "stream",
     "text": [
      "\r",
      "Eliminating: Earthquake: 100%|██████████| 4/4 [00:00<00:00, 484.00it/s]"
     ]
    },
    {
     "name": "stdout",
     "output_type": "stream",
     "text": [
      "+------------------+------------------+\n",
      "| MaryCalls        |   phi(MaryCalls) |\n",
      "+==================+==================+\n",
      "| MaryCalls(True)  |           0.6580 |\n",
      "+------------------+------------------+\n",
      "| MaryCalls(False) |           0.3420 |\n",
      "+------------------+------------------+\n"
     ]
    },
    {
     "name": "stderr",
     "output_type": "stream",
     "text": [
      "\n"
     ]
    }
   ],
   "source": [
    "EM: DiscreteFactor = elim.query(variables = ['MaryCalls'], evidence = None)\n",
    "print(EM)"
   ]
  },
  {
   "cell_type": "markdown",
   "metadata": {
    "lines_to_next_cell": 0,
    "title": "markdown"
   },
   "source": [
    "Below we see that when `Earthquake` occurs and no `Alarm` was observed, there is a higher probability of `MaryCalls`, compared to when neither `Alarm` nor `Earthquake` were observed:\n",
    "$$\n",
    "P(\\text{MaryCalls} = \\text{True} \\; | \\; \\text{Earthquake} = \\text{True}) = 0.6650\n",
    "$$"
   ]
  },
  {
   "cell_type": "code",
   "execution_count": 28,
   "metadata": {
    "lines_to_next_cell": 0,
    "title": "codecell"
   },
   "outputs": [
    {
     "name": "stderr",
     "output_type": "stream",
     "text": [
      "\r",
      "  0%|          | 0/3 [00:00<?, ?it/s]"
     ]
    },
    {
     "name": "stderr",
     "output_type": "stream",
     "text": [
      "\r",
      "Finding Elimination Order: :   0%|          | 0/3 [00:00<?, ?it/s]"
     ]
    },
    {
     "name": "stderr",
     "output_type": "stream",
     "text": [
      "\r",
      "Finding Elimination Order: : 100%|██████████| 3/3 [00:00<00:00, 1143.90it/s]"
     ]
    },
    {
     "name": "stderr",
     "output_type": "stream",
     "text": [
      "\n",
      "\r",
      "  0%|          | 0/3 [00:00<?, ?it/s]"
     ]
    },
    {
     "name": "stderr",
     "output_type": "stream",
     "text": [
      "\r",
      "Eliminating: Burglary:   0%|          | 0/3 [00:00<?, ?it/s]"
     ]
    },
    {
     "name": "stderr",
     "output_type": "stream",
     "text": [
      "\r",
      "Eliminating: JohnCalls:   0%|          | 0/3 [00:00<?, ?it/s]"
     ]
    },
    {
     "name": "stderr",
     "output_type": "stream",
     "text": [
      "\r",
      "Eliminating: Alarm:   0%|          | 0/3 [00:00<?, ?it/s]    "
     ]
    },
    {
     "name": "stderr",
     "output_type": "stream",
     "text": [
      "\r",
      "Eliminating: Alarm: 100%|██████████| 3/3 [00:00<00:00, 452.92it/s]"
     ]
    },
    {
     "name": "stdout",
     "output_type": "stream",
     "text": [
      "+------------------+------------------+\n",
      "| MaryCalls        |   phi(MaryCalls) |\n",
      "+==================+==================+\n",
      "| MaryCalls(True)  |           0.6650 |\n",
      "+------------------+------------------+\n",
      "| MaryCalls(False) |           0.3350 |\n",
      "+------------------+------------------+\n"
     ]
    },
    {
     "name": "stderr",
     "output_type": "stream",
     "text": [
      "\n"
     ]
    }
   ],
   "source": [
    "EM_1 = elim.query(variables = ['MaryCalls'], evidence = {'Earthquake':'True'})\n",
    "print(EM_1)"
   ]
  },
  {
   "cell_type": "markdown",
   "metadata": {
    "lines_to_next_cell": 0,
    "title": "markdown"
   },
   "source": [
    "Below we see that when `Earthquake` does not occur and no `Alarm` was observed, there is a lower probability of `MaryCalls`, compared to when `Earthquake` occurs and no `Alarm` was observed:\n",
    "$$\n",
    "P(\\text{MaryCalls} = \\text{True} \\; | \\; \\text{Earthquake} = \\text{False}) = 0.6580\n",
    "$$\n",
    "Incidentally, this is the same probability as when no `Earthquake` and no `Alarm` was observed."
   ]
  },
  {
   "cell_type": "code",
   "execution_count": 29,
   "metadata": {
    "lines_to_next_cell": 0,
    "title": "codecell"
   },
   "outputs": [
    {
     "name": "stderr",
     "output_type": "stream",
     "text": [
      "\r",
      "  0%|          | 0/3 [00:00<?, ?it/s]"
     ]
    },
    {
     "name": "stderr",
     "output_type": "stream",
     "text": [
      "\r",
      "Finding Elimination Order: :   0%|          | 0/3 [00:00<?, ?it/s]"
     ]
    },
    {
     "name": "stderr",
     "output_type": "stream",
     "text": [
      "\r",
      "Finding Elimination Order: : 100%|██████████| 3/3 [00:00<00:00, 1165.95it/s]"
     ]
    },
    {
     "name": "stderr",
     "output_type": "stream",
     "text": [
      "\n",
      "\r",
      "  0%|          | 0/3 [00:00<?, ?it/s]"
     ]
    },
    {
     "name": "stderr",
     "output_type": "stream",
     "text": [
      "\r",
      "Eliminating: Burglary:   0%|          | 0/3 [00:00<?, ?it/s]"
     ]
    },
    {
     "name": "stderr",
     "output_type": "stream",
     "text": [
      "\r",
      "Eliminating: JohnCalls:   0%|          | 0/3 [00:00<?, ?it/s]"
     ]
    },
    {
     "name": "stderr",
     "output_type": "stream",
     "text": [
      "\r",
      "Eliminating: Alarm:   0%|          | 0/3 [00:00<?, ?it/s]    "
     ]
    },
    {
     "name": "stderr",
     "output_type": "stream",
     "text": [
      "\r",
      "Eliminating: Alarm: 100%|██████████| 3/3 [00:00<00:00, 435.71it/s]"
     ]
    },
    {
     "name": "stdout",
     "output_type": "stream",
     "text": [
      "+------------------+------------------+\n",
      "| MaryCalls        |   phi(MaryCalls) |\n",
      "+==================+==================+\n",
      "| MaryCalls(True)  |           0.6580 |\n",
      "+------------------+------------------+\n",
      "| MaryCalls(False) |           0.3420 |\n",
      "+------------------+------------------+\n"
     ]
    },
    {
     "name": "stderr",
     "output_type": "stream",
     "text": [
      "\n"
     ]
    }
   ],
   "source": [
    "EM_2 = elim.query(variables = ['MaryCalls'], evidence = {'Earthquake':'False'})\n",
    "print(EM_2)"
   ]
  },
  {
   "cell_type": "code",
   "execution_count": 30,
   "metadata": {
    "title": "codecell"
   },
   "outputs": [],
   "source": [
    "assert (EM.values != EM_1.values).all() and (EM.values != EM_2.values).all(), \"Check there is dependency between Earthquake and MaryCalls, when Alarm state is unobserved \"\n",
    "\n",
    "\n"
   ]
  },
  {
   "cell_type": "markdown",
   "metadata": {
    "lines_to_next_cell": 0,
    "title": "markdown"
   },
   "source": [
    "$\\color{MediumVioletRed}{\\text{Case 2: Conditional Independence (for Causal Model)}}$\n",
    "\n",
    "$$\n",
    "\\color{DeepSkyBlue}{ \\text{Alarm (fixed): }\\;\\;\\;\\;\\;\\;\\;\\; \\text{Burglary} \\; \\bot \\; \\text{MaryCalls} \\; | \\; \\text{Alarm}}\n",
    "$$\n",
    "When the `Alarm`'s state is known (fixed / observed), then there is NO active trail between `Burglary` and `MaryCalls`. In other words, `Burglary` and `MaryCalls` are locally independent when `Alarm`'s state is observed. This means the probability of `Burglary` won't influence probability of `MaryCalls` (and vice versa) when `Alarm`'s state is observed.\n",
    "\n",
    "$$\n",
    "\\color{DeepSkyBlue}{ \\text{Alarm (fixed): }\\;\\;\\;\\;\\;\\;\\;\\; \\text{Burglary} \\; \\bot \\; \\text{JohnCalls} \\; | \\; \\text{Alarm}}\n",
    "$$\n",
    "When the `Alarm`'s state is known (fixed / observed), then there is NO active trail between `Burglary` and `JohnCalls`. In other words, `Burglary` and `JohnCalls` are locally independent when `Alarm`'s state is observed. This means the probability of `Burglary` won't influence probability of `JohnCalls` (and vice versa) when `Alarm`'s state is observed.\n",
    "\n",
    "$$\n",
    "\\color{DeepSkyBlue}{ \\text{Alarm (fixed): }\\;\\;\\;\\;\\;\\;\\;\\; \\text{Earthquake} \\; \\bot \\; \\text{MaryCalls} \\; | \\; \\text{Alarm}}\n",
    "$$\n",
    "When the `Alarm`'s state is known (fixed / observed), then there is NO active trail between `Earthquake` and `MaryCalls`. In other words, `Earthquake` and `MaryCalls` are locally independent when `Alarm`'s state is observed. This means the probability of `Earthquake` won't influence probability of `MaryCalls` (and vice versa) when `Alarm`'s state is observed.\n",
    "\n",
    "$$\n",
    "\\color{DeepSkyBlue}{ \\text{Alarm (fixed): }\\;\\;\\;\\;\\;\\;\\;\\; \\text{Earthquake} \\; \\bot \\; \\text{JohnCalls} \\; | \\; \\text{Alarm}}\n",
    "$$\n",
    "When the `Alarm`'s state is known (fixed / observed), then there is NO active trail between `Earthquake` and `JohnCalls`. In other words, `Earthquake` and `JohnCalls` are locally independent when `Alarm`'s state is observed. This means the probability of `Earthquake` won't influence probability of `JohnCalls` (and vice versa) when `Alarm`'s state is observed."
   ]
  },
  {
   "cell_type": "markdown",
   "metadata": {
    "lines_to_next_cell": 0,
    "title": "markdown"
   },
   "source": [
    "**Verify:** Using Active Trails"
   ]
  },
  {
   "cell_type": "code",
   "execution_count": 31,
   "metadata": {
    "title": "codecell"
   },
   "outputs": [
    {
     "name": "stdout",
     "output_type": "stream",
     "text": [
      "Burglary --> Burglary\n",
      "Burglary --> Earthquake\n",
      "MaryCalls --> MaryCalls\n"
     ]
    }
   ],
   "source": [
    "assert not alarmModel.is_active_trail(start = 'Burglary', end = 'MaryCalls', observed = 'Alarm')\n",
    "assert not alarmModel.is_active_trail(start = 'Burglary', end = 'JohnCalls', observed = 'Alarm')\n",
    "assert not alarmModel.is_active_trail(start = 'Earthquake', end = 'MaryCalls', observed = 'Alarm')\n",
    "assert not alarmModel.is_active_trail(start = 'Earthquake', end = 'JohnCalls', observed = 'Alarm')\n",
    "\n",
    "showActiveTrails(model = alarmModel, variables = ['Burglary', 'MaryCalls'], observed = 'Alarm')"
   ]
  },
  {
   "cell_type": "markdown",
   "metadata": {
    "lines_to_next_cell": 0,
    "title": "markdown"
   },
   "source": [
    "**Verify:** Using Independencies (just the $(B \\; \\bot \\; M \\; | \\; A)$ independence)"
   ]
  },
  {
   "cell_type": "code",
   "execution_count": 32,
   "metadata": {
    "title": "codecell"
   },
   "outputs": [
    {
     "data": {
      "text/plain": [
       "(MaryCalls _|_ Burglary | Alarm, JohnCalls)\n",
       "(MaryCalls _|_ Burglary | Alarm)\n",
       "(MaryCalls _|_ JohnCalls, Earthquake | Burglary, Alarm)\n",
       "(MaryCalls _|_ Burglary, Earthquake | Alarm)\n",
       "(MaryCalls _|_ Earthquake | Burglary, Alarm, JohnCalls)\n",
       "(MaryCalls _|_ Burglary, Earthquake | Alarm, JohnCalls)\n",
       "(MaryCalls _|_ Burglary, JohnCalls, Earthquake | Alarm)\n",
       "(MaryCalls _|_ JohnCalls | Alarm, Earthquake)\n",
       "(MaryCalls _|_ JohnCalls | Burglary, Alarm)\n",
       "(MaryCalls _|_ Burglary, JohnCalls | Alarm, Earthquake)\n",
       "(MaryCalls _|_ Earthquake | Burglary, Alarm)\n",
       "(MaryCalls _|_ Earthquake | Alarm, JohnCalls)\n",
       "(MaryCalls _|_ Burglary | Alarm, Earthquake)\n",
       "(MaryCalls _|_ JohnCalls | Alarm)\n",
       "(MaryCalls _|_ JohnCalls | Burglary, Alarm, Earthquake)\n",
       "(MaryCalls _|_ Earthquake | Alarm)\n",
       "(MaryCalls _|_ JohnCalls, Earthquake | Alarm)\n",
       "(MaryCalls _|_ Burglary, JohnCalls | Alarm)\n",
       "(MaryCalls _|_ Burglary | Alarm, JohnCalls, Earthquake)"
      ]
     },
     "execution_count": 32,
     "metadata": {},
     "output_type": "execute_result"
    }
   ],
   "source": [
    "indepBurglary: IndependenceAssertion = Independencies(['Burglary', 'MaryCalls', ['Alarm']]).get_assertions()[0]; indepBurglary\n",
    "\n",
    "indepMary: IndependenceAssertion = Independencies(['MaryCalls', 'Burglary', ['Alarm']]).get_assertions()[0]; indepMary\n",
    "\n",
    "# Using the fact that closure returns independencies that are IMPLIED by the current independencies:\n",
    "assert (str(indepMary) == '(MaryCalls _|_ Burglary | Alarm)' and\n",
    "        indepMary in alarmModel.local_independencies('MaryCalls').closure().get_assertions()),  \\\n",
    "        \"Check 1: Burglary and MaryCalls are independent once conditional on Alarm\"\n",
    "\n",
    "assert (str(indepBurglary) == '(Burglary _|_ MaryCalls | Alarm)' and\n",
    "        indepBurglary in alarmModel.local_independencies('MaryCalls').closure().get_assertions()), \\\n",
    "        \"Check 2: Burglary and MaryCalls are independent once conditional on Alarm\"\n",
    "\n",
    "alarmModel.local_independencies('MaryCalls').closure()"
   ]
  },
  {
   "cell_type": "code",
   "execution_count": 33,
   "metadata": {
    "title": "codecell"
   },
   "outputs": [
    {
     "name": "stdout",
     "output_type": "stream",
     "text": [
      "                   INDEPENDENCIES TABLE                  \n",
      "Fancy Notation              .....     Regular Notation   \n",
      "---------------------------------------------------------\n",
      "(M _|_ {J ∩ B ∩ E} | A)     .....     (M _|_ J, B, E | A)\n",
      "(M _|_ {J ∩ E ∩ B} | A)     .....     (M _|_ J, E, B | A)\n",
      "(M _|_ {B ∩ J ∩ E} | A)     .....     (M _|_ B, J, E | A)\n",
      "(M _|_ {B ∩ E ∩ J} | A)     .....     (M _|_ B, E, J | A)\n",
      "(M _|_ {E ∩ J ∩ B} | A)     .....     (M _|_ E, J, B | A)\n",
      "(M _|_ {E ∩ B ∩ J} | A)     .....     (M _|_ E, B, J | A)\n"
     ]
    }
   ],
   "source": [
    "# See: MaryCalls and Burglary are conditionally independent on Alarm:\n",
    "indepSynonymTable(model = alarmModel_brief, queryNode = 'M')\n",
    "\n"
   ]
  },
  {
   "cell_type": "markdown",
   "metadata": {
    "lines_to_next_cell": 0,
    "title": "markdown"
   },
   "source": [
    "**Verify:** Using Probabilities Method (just the $(E \\; \\bot \\; J \\; | \\; A)$ independence)"
   ]
  },
  {
   "cell_type": "markdown",
   "metadata": {
    "lines_to_next_cell": 0,
    "title": "markdown"
   },
   "source": [
    "The probability below is:\n",
    "$$\n",
    "\\begin{align}\n",
    "P(\\text{JohnCalls} = \\text{True} \\; | \\; \\text{Alarm} = \\text{True})\n",
    "&= P(\\text{JohnCalls} = \\text{True} \\; | \\; \\text{Alarm} = \\text{True} \\; \\cap \\; \\text{Earthquake} = \\text{True})  \\\\\n",
    "&= P(\\text{JohnCalls} = \\text{True} \\; | \\; \\text{Alarm} = \\text{True} \\; \\cap \\; \\text{Earthquake} = \\text{False}) \\\\\n",
    "&= 0.90\n",
    "\\end{align}\n",
    "$$"
   ]
  },
  {
   "cell_type": "code",
   "execution_count": 34,
   "metadata": {
    "lines_to_next_cell": 0,
    "title": "codecell"
   },
   "outputs": [
    {
     "name": "stderr",
     "output_type": "stream",
     "text": [
      "\r",
      "  0%|          | 0/3 [00:00<?, ?it/s]"
     ]
    },
    {
     "name": "stderr",
     "output_type": "stream",
     "text": [
      "\r",
      "Finding Elimination Order: :   0%|          | 0/3 [00:00<?, ?it/s]"
     ]
    },
    {
     "name": "stderr",
     "output_type": "stream",
     "text": [
      "\r",
      "Finding Elimination Order: : 100%|██████████| 3/3 [00:00<00:00, 1710.56it/s]"
     ]
    },
    {
     "name": "stderr",
     "output_type": "stream",
     "text": [
      "\n",
      "\r",
      "  0%|          | 0/3 [00:00<?, ?it/s]"
     ]
    },
    {
     "name": "stderr",
     "output_type": "stream",
     "text": [
      "\r",
      "Eliminating: Burglary:   0%|          | 0/3 [00:00<?, ?it/s]"
     ]
    },
    {
     "name": "stderr",
     "output_type": "stream",
     "text": [
      "\r",
      "Eliminating: MaryCalls:   0%|          | 0/3 [00:00<?, ?it/s]"
     ]
    },
    {
     "name": "stderr",
     "output_type": "stream",
     "text": [
      "\r",
      "Eliminating: Earthquake:   0%|          | 0/3 [00:00<?, ?it/s]"
     ]
    },
    {
     "name": "stderr",
     "output_type": "stream",
     "text": [
      "\r",
      "Eliminating: Earthquake: 100%|██████████| 3/3 [00:00<00:00, 467.63it/s]"
     ]
    },
    {
     "name": "stderr",
     "output_type": "stream",
     "text": [
      "\n"
     ]
    },
    {
     "name": "stderr",
     "output_type": "stream",
     "text": [
      "\r",
      "  0%|          | 0/2 [00:00<?, ?it/s]"
     ]
    },
    {
     "name": "stderr",
     "output_type": "stream",
     "text": [
      "\r",
      "Finding Elimination Order: :   0%|          | 0/2 [00:00<?, ?it/s]"
     ]
    },
    {
     "name": "stderr",
     "output_type": "stream",
     "text": [
      "\r",
      "Finding Elimination Order: : 100%|██████████| 2/2 [00:00<00:00, 360.09it/s]"
     ]
    },
    {
     "name": "stderr",
     "output_type": "stream",
     "text": [
      "\n",
      "\r",
      "  0%|          | 0/2 [00:00<?, ?it/s]"
     ]
    },
    {
     "name": "stderr",
     "output_type": "stream",
     "text": [
      "\r",
      "Eliminating: Burglary:   0%|          | 0/2 [00:00<?, ?it/s]"
     ]
    },
    {
     "name": "stderr",
     "output_type": "stream",
     "text": [
      "\r",
      "Eliminating: MaryCalls:   0%|          | 0/2 [00:00<?, ?it/s]"
     ]
    },
    {
     "name": "stderr",
     "output_type": "stream",
     "text": [
      "\r",
      "Eliminating: MaryCalls: 100%|██████████| 2/2 [00:00<00:00, 563.26it/s]"
     ]
    },
    {
     "name": "stderr",
     "output_type": "stream",
     "text": [
      "\n"
     ]
    },
    {
     "name": "stderr",
     "output_type": "stream",
     "text": [
      "\r",
      "  0%|          | 0/2 [00:00<?, ?it/s]"
     ]
    },
    {
     "name": "stderr",
     "output_type": "stream",
     "text": [
      "\r",
      "Finding Elimination Order: :   0%|          | 0/2 [00:00<?, ?it/s]"
     ]
    },
    {
     "name": "stderr",
     "output_type": "stream",
     "text": [
      "\r",
      "Finding Elimination Order: : 100%|██████████| 2/2 [00:00<00:00, 772.72it/s]"
     ]
    },
    {
     "name": "stderr",
     "output_type": "stream",
     "text": [
      "\n",
      "\r",
      "  0%|          | 0/2 [00:00<?, ?it/s]"
     ]
    },
    {
     "name": "stderr",
     "output_type": "stream",
     "text": [
      "\r",
      "Eliminating: Burglary:   0%|          | 0/2 [00:00<?, ?it/s]"
     ]
    },
    {
     "name": "stderr",
     "output_type": "stream",
     "text": [
      "\r",
      "Eliminating: MaryCalls:   0%|          | 0/2 [00:00<?, ?it/s]"
     ]
    },
    {
     "name": "stderr",
     "output_type": "stream",
     "text": [
      "\r",
      "Eliminating: MaryCalls: 100%|██████████| 2/2 [00:00<00:00, 603.84it/s]"
     ]
    },
    {
     "name": "stdout",
     "output_type": "stream",
     "text": [
      "+------------------+------------------+\n",
      "| JohnCalls        |   phi(JohnCalls) |\n",
      "+==================+==================+\n",
      "| JohnCalls(True)  |           0.9000 |\n",
      "+------------------+------------------+\n",
      "| JohnCalls(False) |           0.1000 |\n",
      "+------------------+------------------+\n"
     ]
    },
    {
     "name": "stderr",
     "output_type": "stream",
     "text": [
      "\n"
     ]
    }
   ],
   "source": [
    "\n",
    "# Case 1: Alarm = True\n",
    "EAJ: DiscreteFactor = elim.query(variables = ['JohnCalls'], evidence = {'Alarm': 'True'})\n",
    "EAJ_1 = elim.query(variables = ['JohnCalls'], evidence = {'Alarm': 'True', 'Earthquake':'True'})\n",
    "EAJ_2 = elim.query(variables = ['JohnCalls'], evidence = {'Alarm': 'True', 'Earthquake':'False'})\n",
    "\n",
    "assert (EAJ.values == EAJ_1.values).all() and (EAJ.values == EAJ_2.values).all(), \"Check: there is independence between Earthquake and JohnCalls when Alarm state is observed (Alarm = True)\"\n",
    "\n",
    "print(EAJ)"
   ]
  },
  {
   "cell_type": "markdown",
   "metadata": {
    "lines_to_next_cell": 0,
    "title": "markdown"
   },
   "source": [
    "The probability below is:\n",
    "$$\n",
    "\\begin{align}\n",
    "P(\\text{JohnCalls} = \\text{True} \\; | \\; \\text{Alarm} = \\text{False})\n",
    "&= P(\\text{JohnCalls} = \\text{True} \\; | \\; \\text{Alarm} = \\text{False} \\; \\cap \\; \\text{Earthquake} = \\text{True})  \\\\\n",
    "&= P(\\text{JohnCalls} = \\text{True} \\; | \\; \\text{Alarm} = \\text{False} \\; \\cap \\; \\text{Earthquake} = \\text{False}) \\\\\n",
    "&= 0.05\n",
    "\\end{align}\n",
    "$$"
   ]
  },
  {
   "cell_type": "code",
   "execution_count": 35,
   "metadata": {
    "title": "codecell"
   },
   "outputs": [
    {
     "name": "stderr",
     "output_type": "stream",
     "text": [
      "\r",
      "  0%|          | 0/3 [00:00<?, ?it/s]"
     ]
    },
    {
     "name": "stderr",
     "output_type": "stream",
     "text": [
      "\r",
      "Finding Elimination Order: :   0%|          | 0/3 [00:00<?, ?it/s]"
     ]
    },
    {
     "name": "stderr",
     "output_type": "stream",
     "text": [
      "\r",
      "Finding Elimination Order: : 100%|██████████| 3/3 [00:00<00:00, 975.42it/s]"
     ]
    },
    {
     "name": "stderr",
     "output_type": "stream",
     "text": [
      "\n",
      "\r",
      "  0%|          | 0/3 [00:00<?, ?it/s]"
     ]
    },
    {
     "name": "stderr",
     "output_type": "stream",
     "text": [
      "\r",
      "Eliminating: Burglary:   0%|          | 0/3 [00:00<?, ?it/s]"
     ]
    },
    {
     "name": "stderr",
     "output_type": "stream",
     "text": [
      "\r",
      "Eliminating: MaryCalls:   0%|          | 0/3 [00:00<?, ?it/s]"
     ]
    },
    {
     "name": "stderr",
     "output_type": "stream",
     "text": [
      "\r",
      "Eliminating: Earthquake:   0%|          | 0/3 [00:00<?, ?it/s]"
     ]
    },
    {
     "name": "stderr",
     "output_type": "stream",
     "text": [
      "\r",
      "Eliminating: Earthquake: 100%|██████████| 3/3 [00:00<00:00, 487.37it/s]"
     ]
    },
    {
     "name": "stderr",
     "output_type": "stream",
     "text": [
      "\n",
      "\r",
      "  0%|          | 0/2 [00:00<?, ?it/s]"
     ]
    },
    {
     "name": "stderr",
     "output_type": "stream",
     "text": [
      "\r",
      "Finding Elimination Order: :   0%|          | 0/2 [00:00<?, ?it/s]"
     ]
    },
    {
     "name": "stderr",
     "output_type": "stream",
     "text": [
      "\r",
      "Finding Elimination Order: : 100%|██████████| 2/2 [00:00<00:00, 434.44it/s]"
     ]
    },
    {
     "name": "stderr",
     "output_type": "stream",
     "text": [
      "\n",
      "\r",
      "  0%|          | 0/2 [00:00<?, ?it/s]"
     ]
    },
    {
     "name": "stderr",
     "output_type": "stream",
     "text": [
      "\r",
      "Eliminating: Burglary:   0%|          | 0/2 [00:00<?, ?it/s]"
     ]
    },
    {
     "name": "stderr",
     "output_type": "stream",
     "text": [
      "\r",
      "Eliminating: MaryCalls:   0%|          | 0/2 [00:00<?, ?it/s]"
     ]
    },
    {
     "name": "stderr",
     "output_type": "stream",
     "text": [
      "\r",
      "Eliminating: MaryCalls: 100%|██████████| 2/2 [00:00<00:00, 623.41it/s]"
     ]
    },
    {
     "name": "stderr",
     "output_type": "stream",
     "text": [
      "\n",
      "\r",
      "  0%|          | 0/2 [00:00<?, ?it/s]"
     ]
    },
    {
     "name": "stderr",
     "output_type": "stream",
     "text": [
      "\r",
      "Finding Elimination Order: :   0%|          | 0/2 [00:00<?, ?it/s]"
     ]
    },
    {
     "name": "stderr",
     "output_type": "stream",
     "text": [
      "\r",
      "Finding Elimination Order: : 100%|██████████| 2/2 [00:00<00:00, 1124.78it/s]"
     ]
    },
    {
     "name": "stderr",
     "output_type": "stream",
     "text": [
      "\n",
      "\r",
      "  0%|          | 0/2 [00:00<?, ?it/s]"
     ]
    },
    {
     "name": "stderr",
     "output_type": "stream",
     "text": [
      "\r",
      "Eliminating: Burglary:   0%|          | 0/2 [00:00<?, ?it/s]"
     ]
    },
    {
     "name": "stderr",
     "output_type": "stream",
     "text": [
      "\r",
      "Eliminating: MaryCalls:   0%|          | 0/2 [00:00<?, ?it/s]"
     ]
    },
    {
     "name": "stderr",
     "output_type": "stream",
     "text": [
      "\r",
      "Eliminating: MaryCalls: 100%|██████████| 2/2 [00:00<00:00, 574.60it/s]"
     ]
    },
    {
     "name": "stdout",
     "output_type": "stream",
     "text": [
      "+------------------+------------------+\n",
      "| JohnCalls        |   phi(JohnCalls) |\n",
      "+==================+==================+\n",
      "| JohnCalls(True)  |           0.0500 |\n",
      "+------------------+------------------+\n",
      "| JohnCalls(False) |           0.9500 |\n",
      "+------------------+------------------+\n"
     ]
    },
    {
     "name": "stderr",
     "output_type": "stream",
     "text": [
      "\n"
     ]
    }
   ],
   "source": [
    "# Case 2: Alarm = False\n",
    "EAJ: DiscreteFactor = elim.query(variables = ['JohnCalls'], evidence = {'Alarm': 'False'})\n",
    "EAJ_1 = elim.query(variables = ['JohnCalls'], evidence = {'Alarm': 'False', 'Earthquake':'True'})\n",
    "EAJ_2 = elim.query(variables = ['JohnCalls'], evidence = {'Alarm': 'False', 'Earthquake':'False'})\n",
    "\n",
    "assert (EAJ.values == EAJ_1.values).all() and (EAJ.values == EAJ_2.values).all(), \"Check: there is independence between Earthquake and JohnCalls when Alarm state is observed (Alarm = False)\"\n",
    "\n",
    "print(EAJ)"
   ]
  },
  {
   "cell_type": "markdown",
   "metadata": {
    "title": "markdown"
   },
   "source": [
    "Comment: above we see that the probability of John calling when there is an `Alarm` is higher than when there is no `Alarm` ringing, because $P(\\text{JohnCalls} = \\text{True} \\; | \\; \\text{Alarm} = \\text{False}) = 0.05$ while $P(\\text{JohnCalls} = \\text{True} \\; | \\; \\text{Alarm} = \\text{True}) = 0.90$.\n",
    "\n",
    "\n",
    "\n",
    "\n",
    "\n",
    "\n"
   ]
  },
  {
   "cell_type": "markdown",
   "metadata": {
    "title": "markdown"
   },
   "source": [
    "### 2. Evidential Reasoning in the Alarm Model\n",
    "For an evidential model $A \\leftarrow B \\leftarrow C$, there are two cases:\n",
    "  * **Marginal Dependence:** ($B$ unknown): When $B$ is unknown / unobserved, there is an active trail between $A$\n",
    "  and $C$, meaning the probability of $A$ can influence probability of $C$ (and vice versa) when information about $B$'s state is unknown.\n",
    "  * **Conditional Independence:** ($B$ fixed): When $B$ is fixed, there is NO active trail between $A$ and $C$,\n",
    "  so they are independent. The probability of $A$ won't influence probability of $C$ (and vice versa) when $B$'s state is observed."
   ]
  },
  {
   "cell_type": "code",
   "execution_count": 36,
   "metadata": {
    "lines_to_next_cell": 0,
    "title": "codecell"
   },
   "outputs": [
    {
     "data": {
      "image/svg+xml": [
       "<?xml version=\"1.0\" encoding=\"UTF-8\" standalone=\"no\"?>\n",
       "<!DOCTYPE svg PUBLIC \"-//W3C//DTD SVG 1.1//EN\"\n",
       " \"http://www.w3.org/Graphics/SVG/1.1/DTD/svg11.dtd\">\n",
       "<!-- Generated by graphviz version 2.38.0 (20140413.2041)\n",
       " -->\n",
       "<!-- Title: G Pages: 1 -->\n",
       "<svg width=\"214pt\" height=\"188pt\"\n",
       " viewBox=\"0.00 0.00 214.18 188.00\" xmlns=\"http://www.w3.org/2000/svg\" xmlns:xlink=\"http://www.w3.org/1999/xlink\">\n",
       "<g id=\"graph0\" class=\"graph\" transform=\"scale(1 1) rotate(0) translate(4 184)\">\n",
       "<title>G</title>\n",
       "<polygon fill=\"white\" stroke=\"none\" points=\"-4,4 -4,-184 210.185,-184 210.185,4 -4,4\"/>\n",
       "<!-- Burglary -->\n",
       "<g id=\"node1\" class=\"node\"><title>Burglary</title>\n",
       "<defs>\n",
       "<linearGradient id=\"l_0\" gradientUnits=\"userSpaceOnUse\" x1=\"41.8599\" y1=\"-144\" x2=\"41.8599\" y2=\"-180\" >\n",
       "<stop offset=\"0\" style=\"stop-color:#ceccff;stop-opacity:1.;\"/>\n",
       "<stop offset=\"1\" style=\"stop-color:white;stop-opacity:1.;\"/>\n",
       "</linearGradient>\n",
       "</defs>\n",
       "<ellipse fill=\"url(#l_0)\" stroke=\"#ff638d\" cx=\"41.8599\" cy=\"-162\" rx=\"41.7203\" ry=\"18\"/>\n",
       "<text text-anchor=\"middle\" x=\"41.8599\" y=\"-158.9\" font-family=\"Acme-Regular.ttf\" font-size=\"12.00\">Burglary</text>\n",
       "</g>\n",
       "<!-- Alarm -->\n",
       "<g id=\"node2\" class=\"node\"><title>Alarm</title>\n",
       "<defs>\n",
       "<linearGradient id=\"l_1\" gradientUnits=\"userSpaceOnUse\" x1=\"97.8599\" y1=\"-72\" x2=\"97.8599\" y2=\"-108\" >\n",
       "<stop offset=\"0\" style=\"stop-color:#ceccff;stop-opacity:1.;\"/>\n",
       "<stop offset=\"1\" style=\"stop-color:white;stop-opacity:1.;\"/>\n",
       "</linearGradient>\n",
       "</defs>\n",
       "<ellipse fill=\"url(#l_1)\" stroke=\"#ff638d\" cx=\"97.8599\" cy=\"-90\" rx=\"32.7527\" ry=\"18\"/>\n",
       "<text text-anchor=\"middle\" x=\"97.8599\" y=\"-86.9\" font-family=\"Acme-Regular.ttf\" font-size=\"12.00\">Alarm</text>\n",
       "</g>\n",
       "<!-- Burglary&#45;&gt;Alarm -->\n",
       "<g id=\"edge1\" class=\"edge\"><title>Burglary&#45;&gt;Alarm</title>\n",
       "<path fill=\"none\" stroke=\"#ff638d\" d=\"M54.8482,-144.765C62.0171,-135.804 71.05,-124.512 78.985,-114.594\"/>\n",
       "<polygon fill=\"#ff638d\" stroke=\"#ff638d\" points=\"81.8134,-116.661 85.3273,-106.666 76.3473,-112.288 81.8134,-116.661\"/>\n",
       "</g>\n",
       "<!-- JohnCalls -->\n",
       "<g id=\"node3\" class=\"node\"><title>JohnCalls</title>\n",
       "<defs>\n",
       "<linearGradient id=\"l_2\" gradientUnits=\"userSpaceOnUse\" x1=\"44.8599\" y1=\"-1.77636e-14\" x2=\"44.8599\" y2=\"-36\" >\n",
       "<stop offset=\"0\" style=\"stop-color:#ceccff;stop-opacity:1.;\"/>\n",
       "<stop offset=\"1\" style=\"stop-color:white;stop-opacity:1.;\"/>\n",
       "</linearGradient>\n",
       "</defs>\n",
       "<ellipse fill=\"url(#l_2)\" stroke=\"#ff638d\" cx=\"44.8599\" cy=\"-18\" rx=\"43.9143\" ry=\"18\"/>\n",
       "<text text-anchor=\"middle\" x=\"44.8599\" y=\"-14.9\" font-family=\"Acme-Regular.ttf\" font-size=\"12.00\">JohnCalls</text>\n",
       "</g>\n",
       "<!-- Alarm&#45;&gt;JohnCalls -->\n",
       "<g id=\"edge2\" class=\"edge\"><title>Alarm&#45;&gt;JohnCalls</title>\n",
       "<path fill=\"none\" stroke=\"#ff638d\" d=\"M85.8334,-73.1159C79.2193,-64.3803 70.8699,-53.3528 63.4366,-43.5352\"/>\n",
       "<polygon fill=\"#ff638d\" stroke=\"#ff638d\" points=\"66.0335,-41.1669 57.2066,-35.307 60.4527,-45.3923 66.0335,-41.1669\"/>\n",
       "</g>\n",
       "<!-- MaryCalls -->\n",
       "<g id=\"node4\" class=\"node\"><title>MaryCalls</title>\n",
       "<defs>\n",
       "<linearGradient id=\"l_3\" gradientUnits=\"userSpaceOnUse\" x1=\"151.86\" y1=\"-1.77636e-14\" x2=\"151.86\" y2=\"-36\" >\n",
       "<stop offset=\"0\" style=\"stop-color:#ceccff;stop-opacity:1.;\"/>\n",
       "<stop offset=\"1\" style=\"stop-color:white;stop-opacity:1.;\"/>\n",
       "</linearGradient>\n",
       "</defs>\n",
       "<ellipse fill=\"url(#l_3)\" stroke=\"#ff638d\" cx=\"151.86\" cy=\"-18\" rx=\"45.6069\" ry=\"18\"/>\n",
       "<text text-anchor=\"middle\" x=\"151.86\" y=\"-14.9\" font-family=\"Acme-Regular.ttf\" font-size=\"12.00\">MaryCalls</text>\n",
       "</g>\n",
       "<!-- Alarm&#45;&gt;MaryCalls -->\n",
       "<g id=\"edge3\" class=\"edge\"><title>Alarm&#45;&gt;MaryCalls</title>\n",
       "<path fill=\"none\" stroke=\"#ff638d\" d=\"M110.113,-73.1159C116.92,-64.292 125.531,-53.1298 133.162,-43.238\"/>\n",
       "<polygon fill=\"#ff638d\" stroke=\"#ff638d\" points=\"135.943,-45.3627 139.28,-35.307 130.401,-41.087 135.943,-45.3627\"/>\n",
       "</g>\n",
       "<!-- Earthquake -->\n",
       "<g id=\"node5\" class=\"node\"><title>Earthquake</title>\n",
       "<defs>\n",
       "<linearGradient id=\"l_4\" gradientUnits=\"userSpaceOnUse\" x1=\"153.86\" y1=\"-144\" x2=\"153.86\" y2=\"-180\" >\n",
       "<stop offset=\"0\" style=\"stop-color:#ceccff;stop-opacity:1.;\"/>\n",
       "<stop offset=\"1\" style=\"stop-color:white;stop-opacity:1.;\"/>\n",
       "</linearGradient>\n",
       "</defs>\n",
       "<ellipse fill=\"url(#l_4)\" stroke=\"#ff638d\" cx=\"153.86\" cy=\"-162\" rx=\"52.1504\" ry=\"18\"/>\n",
       "<text text-anchor=\"middle\" x=\"153.86\" y=\"-158.9\" font-family=\"Acme-Regular.ttf\" font-size=\"12.00\">Earthquake</text>\n",
       "</g>\n",
       "<!-- Earthquake&#45;&gt;Alarm -->\n",
       "<g id=\"edge4\" class=\"edge\"><title>Earthquake&#45;&gt;Alarm</title>\n",
       "<path fill=\"none\" stroke=\"#ff638d\" d=\"M140.589,-144.411C133.584,-135.655 124.861,-124.751 117.126,-115.082\"/>\n",
       "<polygon fill=\"#ff638d\" stroke=\"#ff638d\" points=\"119.63,-112.61 110.65,-106.988 114.164,-116.983 119.63,-112.61\"/>\n",
       "</g>\n",
       "</g>\n",
       "</svg>\n"
      ],
      "text/plain": [
       "<graphviz.dot.Digraph at 0x7f15ec37f890>"
      ]
     },
     "execution_count": 36,
     "metadata": {},
     "output_type": "execute_result"
    }
   ],
   "source": [
    "pgmpyToGraph(alarmModel)"
   ]
  },
  {
   "cell_type": "markdown",
   "metadata": {
    "lines_to_next_cell": 0,
    "title": "markdown"
   },
   "source": [
    "$\\color{MediumVioletRed}{\\text{Case 1: Marginal Dependence (for Evidential Model)}}$\n",
    "\n",
    "$$\n",
    "\\color{Green}{ \\text{Alarm (unknown): }\\;\\;\\;\\;\\;\\;\\;\\;\\; \\text{Burglary} \\longleftarrow \\text{Alarm} \\longleftarrow\n",
    "\\text{MaryCalls}}\n",
    "$$\n",
    "\n",
    "When the middle node `Alarm` is unknown / unobserved, there IS an active trail between `Burglary` and `MaryCalls`. In other words, there is a dependence between `Burglary` and `MaryCalls` when `Alarm` is unobserved. This means the probability of `Burglary` can influence probability of `MaryCalls` (and vice versa) when information about `Alarm`'s state is unknown.\n",
    "\n",
    "\n",
    "$$\n",
    "\\color{Green}{ \\text{Alarm (unknown): }\\;\\;\\;\\;\\;\\;\\;\\;\\; \\text{Burglary} \\longleftarrow \\text{Alarm} \\longleftarrow \\text{JohnCalls}}\n",
    "$$\n",
    "When `Alarm`'s state is uknown, there is an active trail or dependency between `Burglary` and `JohnCalls`, so the probability of `Burglary` can influence the probability of `JohnCalls` (and vice versa) when `Alarm`'s state is unknown.\n",
    "\n",
    "$$\n",
    "\\color{Green}{ \\text{Alarm (unknown): }\\;\\;\\;\\;\\;\\;\\;\\;\\; \\text{Earthquake} \\longleftarrow \\text{Alarm} \\longleftarrow \\text{MaryCalls}}\n",
    "$$\n",
    "When `Alarm`'s state is uknown, there is an active trail or dependency between `Earthquake` and `MaryCalls`, so the probability of `Earthquake` can influence the probability of `MaryCalls` (and vice versa) when `Alarm`'s state is unknown.\n",
    "\n",
    "$$\n",
    "\\color{Green}{ \\text{Alarm (unknown): }\\;\\;\\;\\;\\;\\;\\;\\;\\; \\text{Earthquake} \\longleftarrow \\text{Alarm} \\longleftarrow \\text{JohnCalls}}\n",
    "$$\n",
    "When `Alarm`'s state is uknown, there is an active trail or dependency between `Earthquake` and `JohnCalls`, so the probability of `Earthquake` can influence the probability of `JohnCalls` (and vice versa) when `Alarm`'s state is unknown."
   ]
  },
  {
   "cell_type": "markdown",
   "metadata": {
    "lines_to_next_cell": 0,
    "title": "markdown"
   },
   "source": [
    "**Verify:** Using Active Trails"
   ]
  },
  {
   "cell_type": "code",
   "execution_count": 37,
   "metadata": {
    "lines_to_next_cell": 2,
    "title": "codecell"
   },
   "outputs": [
    {
     "name": "stdout",
     "output_type": "stream",
     "text": [
      "MaryCalls --> Earthquake\n",
      "MaryCalls --> MaryCalls\n",
      "MaryCalls --> Burglary\n",
      "MaryCalls --> Alarm\n",
      "MaryCalls --> JohnCalls\n",
      "Burglary --> Burglary\n",
      "Burglary --> Alarm\n",
      "Burglary --> MaryCalls\n",
      "Burglary --> JohnCalls\n"
     ]
    }
   ],
   "source": [
    "assert alarmModel.is_active_trail(start = 'MaryCalls', end = 'Burglary',  observed = None)\n",
    "assert alarmModel.is_active_trail(start = 'MaryCalls', end = 'Earthquake', observed = None)\n",
    "assert alarmModel.is_active_trail(start = 'JohnCalls', end = 'Burglary', observed = None)\n",
    "assert alarmModel.is_active_trail(start = 'JohnCalls', end = 'Earthquake', observed = None)\n",
    "\n",
    "showActiveTrails(model = alarmModel, variables = ['MaryCalls', 'Burglary'])"
   ]
  },
  {
   "cell_type": "markdown",
   "metadata": {
    "lines_to_next_cell": 0,
    "title": "markdown"
   },
   "source": [
    "**Verify:** Using Probabilities (example of $B \\leftarrow A \\leftarrow J$ trail)\n",
    "##### Evidential Reasoning For Evidential Model:"
   ]
  },
  {
   "cell_type": "code",
   "execution_count": 38,
   "metadata": {
    "title": "codecell"
   },
   "outputs": [
    {
     "name": "stderr",
     "output_type": "stream",
     "text": [
      "\r",
      "  0%|          | 0/4 [00:00<?, ?it/s]"
     ]
    },
    {
     "name": "stderr",
     "output_type": "stream",
     "text": [
      "\r",
      "Finding Elimination Order: :   0%|          | 0/4 [00:00<?, ?it/s]"
     ]
    },
    {
     "name": "stderr",
     "output_type": "stream",
     "text": [
      "\r",
      "Finding Elimination Order: : 100%|██████████| 4/4 [00:00<00:00, 467.59it/s]"
     ]
    },
    {
     "name": "stderr",
     "output_type": "stream",
     "text": [
      "\n",
      "\r",
      "  0%|          | 0/4 [00:00<?, ?it/s]"
     ]
    },
    {
     "name": "stderr",
     "output_type": "stream",
     "text": [
      "\r",
      "Eliminating: MaryCalls:   0%|          | 0/4 [00:00<?, ?it/s]"
     ]
    },
    {
     "name": "stderr",
     "output_type": "stream",
     "text": [
      "\r",
      "Eliminating: Alarm:   0%|          | 0/4 [00:00<?, ?it/s]    "
     ]
    },
    {
     "name": "stderr",
     "output_type": "stream",
     "text": [
      "\r",
      "Eliminating: JohnCalls:   0%|          | 0/4 [00:00<?, ?it/s]"
     ]
    },
    {
     "name": "stderr",
     "output_type": "stream",
     "text": [
      "\r",
      "Eliminating: Earthquake:   0%|          | 0/4 [00:00<?, ?it/s]"
     ]
    },
    {
     "name": "stderr",
     "output_type": "stream",
     "text": [
      "\r",
      "Eliminating: Earthquake: 100%|██████████| 4/4 [00:00<00:00, 424.13it/s]"
     ]
    },
    {
     "name": "stdout",
     "output_type": "stream",
     "text": [
      "+-----------------+-----------------+\n",
      "| Burglary        |   phi(Burglary) |\n",
      "+=================+=================+\n",
      "| Burglary(False) |          0.9990 |\n",
      "+-----------------+-----------------+\n",
      "| Burglary(True)  |          0.0010 |\n",
      "+-----------------+-----------------+\n"
     ]
    },
    {
     "name": "stderr",
     "output_type": "stream",
     "text": [
      "\n"
     ]
    }
   ],
   "source": [
    "JB: DiscreteFactor = elim.query(variables = ['Burglary'], evidence = None)\n",
    "print(JB)"
   ]
  },
  {
   "cell_type": "code",
   "execution_count": 39,
   "metadata": {
    "lines_to_next_cell": 0,
    "title": "codecell"
   },
   "outputs": [
    {
     "name": "stderr",
     "output_type": "stream",
     "text": [
      "\r",
      "  0%|          | 0/3 [00:00<?, ?it/s]"
     ]
    },
    {
     "name": "stderr",
     "output_type": "stream",
     "text": [
      "\r",
      "Finding Elimination Order: :   0%|          | 0/3 [00:00<?, ?it/s]"
     ]
    },
    {
     "name": "stderr",
     "output_type": "stream",
     "text": [
      "\r",
      "Finding Elimination Order: : 100%|██████████| 3/3 [00:00<00:00, 1320.62it/s]"
     ]
    },
    {
     "name": "stderr",
     "output_type": "stream",
     "text": [
      "\n",
      "\r",
      "  0%|          | 0/3 [00:00<?, ?it/s]"
     ]
    },
    {
     "name": "stderr",
     "output_type": "stream",
     "text": [
      "\r",
      "Eliminating: MaryCalls:   0%|          | 0/3 [00:00<?, ?it/s]"
     ]
    },
    {
     "name": "stderr",
     "output_type": "stream",
     "text": [
      "\r",
      "Eliminating: Alarm:   0%|          | 0/3 [00:00<?, ?it/s]    "
     ]
    },
    {
     "name": "stderr",
     "output_type": "stream",
     "text": [
      "\r",
      "Eliminating: Earthquake:   0%|          | 0/3 [00:00<?, ?it/s]"
     ]
    },
    {
     "name": "stderr",
     "output_type": "stream",
     "text": [
      "\r",
      "Eliminating: Earthquake: 100%|██████████| 3/3 [00:00<00:00, 532.86it/s]"
     ]
    },
    {
     "name": "stdout",
     "output_type": "stream",
     "text": [
      "+-----------------+-----------------+\n",
      "| Burglary        |   phi(Burglary) |\n",
      "+=================+=================+\n",
      "| Burglary(False) |          0.9999 |\n",
      "+-----------------+-----------------+\n",
      "| Burglary(True)  |          0.0001 |\n",
      "+-----------------+-----------------+\n"
     ]
    },
    {
     "name": "stderr",
     "output_type": "stream",
     "text": [
      "\n"
     ]
    }
   ],
   "source": [
    "JB_1 = elim.query(variables = ['Burglary'], evidence = {'JohnCalls':'True'})\n",
    "print(JB_1)"
   ]
  },
  {
   "cell_type": "markdown",
   "metadata": {
    "lines_to_next_cell": 0,
    "title": "markdown"
   },
   "source": [
    "Below we see that when `JohnCalls` does not occur and no `Alarm` was observed, there is a lower probability of `Burglary`, compared to when neither `Alarm` nor `JohnCalls` were observed:\n",
    "$$\n",
    "P(\\text{Burglary} = \\text{True} \\; | \\; \\text{JohnCalls} = \\text{False}) = 0.9937\n",
    "$$"
   ]
  },
  {
   "cell_type": "code",
   "execution_count": 40,
   "metadata": {
    "lines_to_next_cell": 0,
    "title": "codecell"
   },
   "outputs": [
    {
     "name": "stderr",
     "output_type": "stream",
     "text": [
      "\r",
      "  0%|          | 0/3 [00:00<?, ?it/s]"
     ]
    },
    {
     "name": "stderr",
     "output_type": "stream",
     "text": [
      "\r",
      "Finding Elimination Order: :   0%|          | 0/3 [00:00<?, ?it/s]"
     ]
    },
    {
     "name": "stderr",
     "output_type": "stream",
     "text": [
      "\r",
      "Finding Elimination Order: : 100%|██████████| 3/3 [00:00<00:00, 2050.67it/s]"
     ]
    },
    {
     "name": "stderr",
     "output_type": "stream",
     "text": [
      "\n",
      "\r",
      "  0%|          | 0/3 [00:00<?, ?it/s]"
     ]
    },
    {
     "name": "stderr",
     "output_type": "stream",
     "text": [
      "\r",
      "Eliminating: MaryCalls:   0%|          | 0/3 [00:00<?, ?it/s]"
     ]
    },
    {
     "name": "stderr",
     "output_type": "stream",
     "text": [
      "\r",
      "Eliminating: Alarm:   0%|          | 0/3 [00:00<?, ?it/s]    "
     ]
    },
    {
     "name": "stderr",
     "output_type": "stream",
     "text": [
      "\r",
      "Eliminating: Earthquake:   0%|          | 0/3 [00:00<?, ?it/s]"
     ]
    },
    {
     "name": "stderr",
     "output_type": "stream",
     "text": [
      "\r",
      "Eliminating: Earthquake: 100%|██████████| 3/3 [00:00<00:00, 556.15it/s]"
     ]
    },
    {
     "name": "stdout",
     "output_type": "stream",
     "text": [
      "+-----------------+-----------------+\n",
      "| Burglary        |   phi(Burglary) |\n",
      "+=================+=================+\n",
      "| Burglary(False) |          0.9937 |\n",
      "+-----------------+-----------------+\n",
      "| Burglary(True)  |          0.0063 |\n",
      "+-----------------+-----------------+\n"
     ]
    },
    {
     "name": "stderr",
     "output_type": "stream",
     "text": [
      "\n"
     ]
    }
   ],
   "source": [
    "JB_2 = elim.query(variables = ['Burglary'], evidence = {'JohnCalls':'False'})\n",
    "print(JB_2)"
   ]
  },
  {
   "cell_type": "code",
   "execution_count": 41,
   "metadata": {
    "lines_to_next_cell": 2,
    "title": "codecell"
   },
   "outputs": [],
   "source": [
    "assert (JB.values != JB_1.values).all() and (JB.values != JB_2.values).all(), \"Check there is dependency between Burglary and JohnCalls, when Alarm state is unobserved \""
   ]
  },
  {
   "cell_type": "markdown",
   "metadata": {
    "lines_to_next_cell": 0,
    "title": "markdown"
   },
   "source": [
    "**Verify:** Using Probabilities (example of $E \\leftarrow A \\leftarrow J$ trail)\n",
    "##### Evidential Reasoning For Evidential Model:"
   ]
  },
  {
   "cell_type": "code",
   "execution_count": 42,
   "metadata": {
    "title": "codecell"
   },
   "outputs": [
    {
     "name": "stderr",
     "output_type": "stream",
     "text": [
      "\r",
      "  0%|          | 0/4 [00:00<?, ?it/s]"
     ]
    },
    {
     "name": "stderr",
     "output_type": "stream",
     "text": [
      "\r",
      "Finding Elimination Order: :   0%|          | 0/4 [00:00<?, ?it/s]"
     ]
    },
    {
     "name": "stderr",
     "output_type": "stream",
     "text": [
      "\r",
      "Finding Elimination Order: : 100%|██████████| 4/4 [00:00<00:00, 1328.99it/s]"
     ]
    },
    {
     "name": "stderr",
     "output_type": "stream",
     "text": [
      "\n",
      "\r",
      "  0%|          | 0/4 [00:00<?, ?it/s]"
     ]
    },
    {
     "name": "stderr",
     "output_type": "stream",
     "text": [
      "\r",
      "Eliminating: Burglary:   0%|          | 0/4 [00:00<?, ?it/s]"
     ]
    },
    {
     "name": "stderr",
     "output_type": "stream",
     "text": [
      "\r",
      "Eliminating: MaryCalls:   0%|          | 0/4 [00:00<?, ?it/s]"
     ]
    },
    {
     "name": "stderr",
     "output_type": "stream",
     "text": [
      "\r",
      "Eliminating: Alarm:   0%|          | 0/4 [00:00<?, ?it/s]    "
     ]
    },
    {
     "name": "stderr",
     "output_type": "stream",
     "text": [
      "\r",
      "Eliminating: JohnCalls:   0%|          | 0/4 [00:00<?, ?it/s]"
     ]
    },
    {
     "name": "stderr",
     "output_type": "stream",
     "text": [
      "\r",
      "Eliminating: JohnCalls: 100%|██████████| 4/4 [00:00<00:00, 374.58it/s]"
     ]
    },
    {
     "name": "stdout",
     "output_type": "stream",
     "text": [
      "+-------------------+-------------------+\n",
      "| Earthquake        |   phi(Earthquake) |\n",
      "+===================+===================+\n",
      "| Earthquake(True)  |            0.0020 |\n",
      "+-------------------+-------------------+\n",
      "| Earthquake(False) |            0.9980 |\n",
      "+-------------------+-------------------+\n"
     ]
    },
    {
     "name": "stderr",
     "output_type": "stream",
     "text": [
      "\n"
     ]
    }
   ],
   "source": [
    "JE: DiscreteFactor = elim.query(variables = ['Earthquake'], evidence = None)\n",
    "print(JE)"
   ]
  },
  {
   "cell_type": "code",
   "execution_count": 43,
   "metadata": {
    "lines_to_next_cell": 0,
    "title": "codecell"
   },
   "outputs": [
    {
     "name": "stderr",
     "output_type": "stream",
     "text": [
      "\r",
      "  0%|          | 0/3 [00:00<?, ?it/s]"
     ]
    },
    {
     "name": "stderr",
     "output_type": "stream",
     "text": [
      "\r",
      "Finding Elimination Order: :   0%|          | 0/3 [00:00<?, ?it/s]"
     ]
    },
    {
     "name": "stderr",
     "output_type": "stream",
     "text": [
      "\r",
      "Finding Elimination Order: : 100%|██████████| 3/3 [00:00<00:00, 1456.02it/s]"
     ]
    },
    {
     "name": "stderr",
     "output_type": "stream",
     "text": [
      "\n",
      "\r",
      "  0%|          | 0/3 [00:00<?, ?it/s]"
     ]
    },
    {
     "name": "stderr",
     "output_type": "stream",
     "text": [
      "\r",
      "Eliminating: Burglary:   0%|          | 0/3 [00:00<?, ?it/s]"
     ]
    },
    {
     "name": "stderr",
     "output_type": "stream",
     "text": [
      "\r",
      "Eliminating: MaryCalls:   0%|          | 0/3 [00:00<?, ?it/s]"
     ]
    },
    {
     "name": "stderr",
     "output_type": "stream",
     "text": [
      "\r",
      "Eliminating: Alarm:   0%|          | 0/3 [00:00<?, ?it/s]    "
     ]
    },
    {
     "name": "stderr",
     "output_type": "stream",
     "text": [
      "\r",
      "Eliminating: Alarm: 100%|██████████| 3/3 [00:00<00:00, 542.55it/s]"
     ]
    },
    {
     "name": "stdout",
     "output_type": "stream",
     "text": [
      "+-------------------+-------------------+\n",
      "| Earthquake        |   phi(Earthquake) |\n",
      "+===================+===================+\n",
      "| Earthquake(True)  |            0.0020 |\n",
      "+-------------------+-------------------+\n",
      "| Earthquake(False) |            0.9980 |\n",
      "+-------------------+-------------------+\n"
     ]
    },
    {
     "name": "stderr",
     "output_type": "stream",
     "text": [
      "\n"
     ]
    }
   ],
   "source": [
    "JE_1 = elim.query(variables = ['Earthquake'], evidence = {'JohnCalls':'True'})\n",
    "print(JE_1)"
   ]
  },
  {
   "cell_type": "markdown",
   "metadata": {
    "lines_to_next_cell": 0,
    "title": "markdown"
   },
   "source": [
    "Below we see that when `JohnCalls` does not occur and no `Alarm` was not observed, there is a lower probability of `Earthquake`, compared to when John did call and `Alarm` was not observed:\n",
    "$$\n",
    "P(\\text{Earthquake} = \\text{True} \\; | \\; \\text{JohnCalls} = \\text{False}) = 0.0019\n",
    "$$"
   ]
  },
  {
   "cell_type": "code",
   "execution_count": 44,
   "metadata": {
    "lines_to_next_cell": 0,
    "title": "codecell"
   },
   "outputs": [
    {
     "name": "stderr",
     "output_type": "stream",
     "text": [
      "\r",
      "  0%|          | 0/3 [00:00<?, ?it/s]"
     ]
    },
    {
     "name": "stderr",
     "output_type": "stream",
     "text": [
      "\r",
      "Finding Elimination Order: :   0%|          | 0/3 [00:00<?, ?it/s]"
     ]
    },
    {
     "name": "stderr",
     "output_type": "stream",
     "text": [
      "\r",
      "Finding Elimination Order: : 100%|██████████| 3/3 [00:00<00:00, 1174.22it/s]"
     ]
    },
    {
     "name": "stderr",
     "output_type": "stream",
     "text": [
      "\n"
     ]
    },
    {
     "name": "stderr",
     "output_type": "stream",
     "text": [
      "\r",
      "  0%|          | 0/3 [00:00<?, ?it/s]"
     ]
    },
    {
     "name": "stderr",
     "output_type": "stream",
     "text": [
      "\r",
      "Eliminating: Burglary:   0%|          | 0/3 [00:00<?, ?it/s]"
     ]
    },
    {
     "name": "stderr",
     "output_type": "stream",
     "text": [
      "\r",
      "Eliminating: MaryCalls:   0%|          | 0/3 [00:00<?, ?it/s]"
     ]
    },
    {
     "name": "stderr",
     "output_type": "stream",
     "text": [
      "\r",
      "Eliminating: Alarm:   0%|          | 0/3 [00:00<?, ?it/s]    "
     ]
    },
    {
     "name": "stderr",
     "output_type": "stream",
     "text": [
      "\r",
      "Eliminating: Alarm: 100%|██████████| 3/3 [00:00<00:00, 284.37it/s]"
     ]
    },
    {
     "name": "stdout",
     "output_type": "stream",
     "text": [
      "+-------------------+-------------------+\n",
      "| Earthquake        |   phi(Earthquake) |\n",
      "+===================+===================+\n",
      "| Earthquake(True)  |            0.0019 |\n",
      "+-------------------+-------------------+\n",
      "| Earthquake(False) |            0.9981 |\n",
      "+-------------------+-------------------+\n"
     ]
    },
    {
     "name": "stderr",
     "output_type": "stream",
     "text": [
      "\n"
     ]
    }
   ],
   "source": [
    "JE_2 = elim.query(variables = ['Earthquake'], evidence = {'JohnCalls':'False'})\n",
    "print(JE_2)"
   ]
  },
  {
   "cell_type": "code",
   "execution_count": 45,
   "metadata": {
    "title": "codecell"
   },
   "outputs": [],
   "source": [
    "assert (JE.values != JE_1.values).all() and (JE.values != JE_2.values).all(), \"Check there is dependency between Burglary and MaryCalls, when Alarm state is unobserved \"\n",
    "\n",
    "\n"
   ]
  },
  {
   "cell_type": "markdown",
   "metadata": {
    "lines_to_next_cell": 0,
    "title": "markdown"
   },
   "source": [
    "$\\color{MediumVioletRed}{\\text{Case 2: Conditional Independence (for Evidential Model)}}$\n",
    "\n",
    "$$\n",
    "\\color{DeepSkyBlue}{ \\text{Alarm (fixed): }\\;\\;\\;\\;\\;\\;\\;\\; \\text{Burglary} \\; \\bot \\; \\text{MaryCalls} \\; | \\; \\text{Alarm}}\n",
    "$$\n",
    "When the `Alarm`'s state is known (fixed / observed), then there is NO active trail between `Burglary` and `MaryCalls`. In other words, `Burglary` and `MaryCalls` are locally independent when `Alarm`'s state is observed. This means the probability of `Burglary` won't influence probability of `MaryCalls` (and vice versa) when `Alarm`'s state is observed.\n",
    "\n",
    "$$\n",
    "\\color{DeepSkyBlue}{ \\text{Alarm (fixed): }\\;\\;\\;\\;\\;\\;\\;\\; \\text{Burglary} \\; \\bot \\; \\text{JohnCalls} \\; | \\; \\text{Alarm}}\n",
    "$$\n",
    "When the `Alarm`'s state is known (fixed / observed), then there is NO active trail between `Burglary` and `JohnCalls`. In other words, `Burglary` and `JohnCalls` are locally independent when `Alarm`'s state is observed. This means the probability of `Burglary` won't influence probability of `JohnCalls` (and vice versa) when `Alarm`'s state is observed.\n",
    "\n",
    "$$\n",
    "\\color{DeepSkyBlue}{ \\text{Alarm (fixed): }\\;\\;\\;\\;\\;\\;\\;\\; \\text{Earthquake} \\; \\bot \\; \\text{MaryCalls} \\; | \\; \\text{Alarm}}\n",
    "$$\n",
    "When the `Alarm`'s state is known (fixed / observed), then there is NO active trail between `Earthquake` and `MaryCalls`. In other words, `Earthquake` and `MaryCalls` are locally independent when `Alarm`'s state is observed. This means the probability of `Earthquake` won't influence probability of `MaryCalls` (and vice versa) when `Alarm`'s state is observed.\n",
    "\n",
    "$$\n",
    "\\color{DeepSkyBlue}{ \\text{Alarm (fixed): }\\;\\;\\;\\;\\;\\;\\;\\; \\text{Earthquake} \\; \\bot \\; \\text{JohnCalls} \\; | \\; \\text{Alarm}}\n",
    "$$\n",
    "When the `Alarm`'s state is known (fixed / observed), then there is NO active trail between `Earthquake` and `JohnCalls`. In other words, `Earthquake` and `JohnCalls` are locally independent when `Alarm`'s state is observed. This means the probability of `Earthquake` won't influence probability of `JohnCalls` (and vice versa) when `Alarm`'s state is observed."
   ]
  },
  {
   "cell_type": "markdown",
   "metadata": {
    "lines_to_next_cell": 0,
    "title": "markdown"
   },
   "source": [
    "**Verify:** Using Active Trails"
   ]
  },
  {
   "cell_type": "code",
   "execution_count": 46,
   "metadata": {
    "title": "codecell"
   },
   "outputs": [
    {
     "name": "stdout",
     "output_type": "stream",
     "text": [
      "JohnCalls --> JohnCalls\n",
      "Earthquake --> Burglary\n",
      "Earthquake --> Earthquake\n"
     ]
    }
   ],
   "source": [
    "assert not alarmModel.is_active_trail(start = 'MaryCalls', end = 'Burglary', observed = 'Alarm')\n",
    "assert not alarmModel.is_active_trail(start = 'MaryCalls', end = 'Earthquake', observed = 'Alarm')\n",
    "assert not alarmModel.is_active_trail(start = 'JohnCalls', end = 'Burglary', observed = 'Alarm')\n",
    "assert not alarmModel.is_active_trail(start = 'JohnCalls', end = 'Earthquake', observed = 'Alarm')\n",
    "\n",
    "showActiveTrails(model = alarmModel, variables = ['JohnCalls', 'Earthquake'], observed = 'Alarm')"
   ]
  },
  {
   "cell_type": "markdown",
   "metadata": {
    "lines_to_next_cell": 0,
    "title": "markdown"
   },
   "source": [
    "**Verify:** Using Independencies (just the $(B \\; \\bot \\; M \\; | \\; A)$ independence)"
   ]
  },
  {
   "cell_type": "code",
   "execution_count": 47,
   "metadata": {
    "title": "codecell"
   },
   "outputs": [
    {
     "data": {
      "text/plain": [
       "(MaryCalls _|_ Burglary | Alarm, JohnCalls)\n",
       "(MaryCalls _|_ Burglary | Alarm)\n",
       "(MaryCalls _|_ JohnCalls, Earthquake | Burglary, Alarm)\n",
       "(MaryCalls _|_ Burglary, Earthquake | Alarm)\n",
       "(MaryCalls _|_ Earthquake | Burglary, Alarm, JohnCalls)\n",
       "(MaryCalls _|_ Burglary, Earthquake | Alarm, JohnCalls)\n",
       "(MaryCalls _|_ Burglary, JohnCalls, Earthquake | Alarm)\n",
       "(MaryCalls _|_ JohnCalls | Alarm, Earthquake)\n",
       "(MaryCalls _|_ JohnCalls | Burglary, Alarm)\n",
       "(MaryCalls _|_ Burglary, JohnCalls | Alarm, Earthquake)\n",
       "(MaryCalls _|_ Earthquake | Burglary, Alarm)\n",
       "(MaryCalls _|_ Earthquake | Alarm, JohnCalls)\n",
       "(MaryCalls _|_ Burglary | Alarm, Earthquake)\n",
       "(MaryCalls _|_ JohnCalls | Alarm)\n",
       "(MaryCalls _|_ JohnCalls | Burglary, Alarm, Earthquake)\n",
       "(MaryCalls _|_ Earthquake | Alarm)\n",
       "(MaryCalls _|_ JohnCalls, Earthquake | Alarm)\n",
       "(MaryCalls _|_ Burglary, JohnCalls | Alarm)\n",
       "(MaryCalls _|_ Burglary | Alarm, JohnCalls, Earthquake)"
      ]
     },
     "execution_count": 47,
     "metadata": {},
     "output_type": "execute_result"
    }
   ],
   "source": [
    "indepBurglary: IndependenceAssertion = Independencies(['Burglary', 'MaryCalls', ['Alarm']]).get_assertions()[0]; indepBurglary\n",
    "\n",
    "indepMary: IndependenceAssertion = Independencies(['MaryCalls', 'Burglary', ['Alarm']]).get_assertions()[0]; indepMary\n",
    "\n",
    "# Using the fact that closure returns independencies that are IMPLIED by the current independencies:\n",
    "assert (str(indepMary) == '(MaryCalls _|_ Burglary | Alarm)' and\n",
    "        indepMary in alarmModel.local_independencies('MaryCalls').closure().get_assertions()),  \\\n",
    "        \"Check 1: Burglary and MaryCalls are independent once conditional on Alarm\"\n",
    "\n",
    "assert (str(indepBurglary) == '(Burglary _|_ MaryCalls | Alarm)' and\n",
    "        indepBurglary in alarmModel.local_independencies('MaryCalls').closure().get_assertions()), \\\n",
    "        \"Check 2: Burglary and MaryCalls are independent once conditional on Alarm\"\n",
    "\n",
    "alarmModel.local_independencies('MaryCalls').closure()"
   ]
  },
  {
   "cell_type": "code",
   "execution_count": 48,
   "metadata": {
    "title": "codecell"
   },
   "outputs": [
    {
     "name": "stdout",
     "output_type": "stream",
     "text": [
      "                   INDEPENDENCIES TABLE                  \n",
      "Fancy Notation              .....     Regular Notation   \n",
      "---------------------------------------------------------\n",
      "(M _|_ {J ∩ B ∩ E} | A)     .....     (M _|_ J, B, E | A)\n",
      "(M _|_ {J ∩ E ∩ B} | A)     .....     (M _|_ J, E, B | A)\n",
      "(M _|_ {B ∩ J ∩ E} | A)     .....     (M _|_ B, J, E | A)\n",
      "(M _|_ {B ∩ E ∩ J} | A)     .....     (M _|_ B, E, J | A)\n",
      "(M _|_ {E ∩ J ∩ B} | A)     .....     (M _|_ E, J, B | A)\n",
      "(M _|_ {E ∩ B ∩ J} | A)     .....     (M _|_ E, B, J | A)\n"
     ]
    }
   ],
   "source": [
    "# See: MaryCalls and Burglary are conditionally independent on Alarm:\n",
    "indepSynonymTable(model = alarmModel_brief, queryNode = 'M')\n",
    "\n"
   ]
  },
  {
   "cell_type": "markdown",
   "metadata": {
    "lines_to_next_cell": 0,
    "title": "markdown"
   },
   "source": [
    "**Verify:** Using Probabilities Method (just the $(E \\; \\bot \\; J \\; | \\; A)$ independence)"
   ]
  },
  {
   "cell_type": "markdown",
   "metadata": {
    "lines_to_next_cell": 0,
    "title": "markdown"
   },
   "source": [
    "The probability below is:\n",
    "$$\n",
    "\\begin{align}\n",
    "P(\\text{Earthquake} = \\text{True} \\; | \\; \\text{Alarm} = \\text{True})\n",
    "&= P(\\text{Earthquake} = \\text{True} \\; | \\; \\text{Alarm} = \\text{True} \\; \\cap \\; \\text{JohnCalls} = \\text{True})  \\\\\n",
    "&= P(\\text{Earthquake} = \\text{True} \\; | \\; \\text{Alarm} = \\text{True} \\; \\cap \\; \\text{JohnCalls} = \\text{False}) \\\\\n",
    "&= 0.02\n",
    "\\end{align}\n",
    "$$"
   ]
  },
  {
   "cell_type": "code",
   "execution_count": 49,
   "metadata": {
    "lines_to_next_cell": 0,
    "title": "codecell"
   },
   "outputs": [
    {
     "name": "stderr",
     "output_type": "stream",
     "text": [
      "\r",
      "  0%|          | 0/3 [00:00<?, ?it/s]"
     ]
    },
    {
     "name": "stderr",
     "output_type": "stream",
     "text": [
      "\r",
      "Finding Elimination Order: :   0%|          | 0/3 [00:00<?, ?it/s]"
     ]
    },
    {
     "name": "stderr",
     "output_type": "stream",
     "text": [
      "\r",
      "Finding Elimination Order: : 100%|██████████| 3/3 [00:00<00:00, 1912.30it/s]"
     ]
    },
    {
     "name": "stderr",
     "output_type": "stream",
     "text": [
      "\n",
      "\r",
      "  0%|          | 0/3 [00:00<?, ?it/s]"
     ]
    },
    {
     "name": "stderr",
     "output_type": "stream",
     "text": [
      "\r",
      "Eliminating: Burglary:   0%|          | 0/3 [00:00<?, ?it/s]"
     ]
    },
    {
     "name": "stderr",
     "output_type": "stream",
     "text": [
      "\r",
      "Eliminating: MaryCalls:   0%|          | 0/3 [00:00<?, ?it/s]"
     ]
    },
    {
     "name": "stderr",
     "output_type": "stream",
     "text": [
      "\r",
      "Eliminating: JohnCalls:   0%|          | 0/3 [00:00<?, ?it/s]"
     ]
    },
    {
     "name": "stderr",
     "output_type": "stream",
     "text": [
      "\r",
      "Eliminating: JohnCalls: 100%|██████████| 3/3 [00:00<00:00, 499.88it/s]"
     ]
    },
    {
     "name": "stderr",
     "output_type": "stream",
     "text": [
      "\n"
     ]
    },
    {
     "name": "stderr",
     "output_type": "stream",
     "text": [
      "\r",
      "  0%|          | 0/2 [00:00<?, ?it/s]"
     ]
    },
    {
     "name": "stderr",
     "output_type": "stream",
     "text": [
      "\r",
      "Finding Elimination Order: :   0%|          | 0/2 [00:00<?, ?it/s]"
     ]
    },
    {
     "name": "stderr",
     "output_type": "stream",
     "text": [
      "\r",
      "Finding Elimination Order: : 100%|██████████| 2/2 [00:00<00:00, 959.03it/s]"
     ]
    },
    {
     "name": "stderr",
     "output_type": "stream",
     "text": [
      "\n",
      "\r",
      "  0%|          | 0/2 [00:00<?, ?it/s]"
     ]
    },
    {
     "name": "stderr",
     "output_type": "stream",
     "text": [
      "\r",
      "Eliminating: Burglary:   0%|          | 0/2 [00:00<?, ?it/s]"
     ]
    },
    {
     "name": "stderr",
     "output_type": "stream",
     "text": [
      "\r",
      "Eliminating: MaryCalls:   0%|          | 0/2 [00:00<?, ?it/s]"
     ]
    },
    {
     "name": "stderr",
     "output_type": "stream",
     "text": [
      "\r",
      "Eliminating: MaryCalls: 100%|██████████| 2/2 [00:00<00:00, 629.35it/s]"
     ]
    },
    {
     "name": "stderr",
     "output_type": "stream",
     "text": [
      "\n",
      "\r",
      "  0%|          | 0/2 [00:00<?, ?it/s]"
     ]
    },
    {
     "name": "stderr",
     "output_type": "stream",
     "text": [
      "\r",
      "Finding Elimination Order: :   0%|          | 0/2 [00:00<?, ?it/s]"
     ]
    },
    {
     "name": "stderr",
     "output_type": "stream",
     "text": [
      "\r",
      "Finding Elimination Order: : 100%|██████████| 2/2 [00:00<00:00, 1132.52it/s]"
     ]
    },
    {
     "name": "stderr",
     "output_type": "stream",
     "text": [
      "\n",
      "\r",
      "  0%|          | 0/2 [00:00<?, ?it/s]"
     ]
    },
    {
     "name": "stderr",
     "output_type": "stream",
     "text": [
      "\r",
      "Eliminating: Burglary:   0%|          | 0/2 [00:00<?, ?it/s]"
     ]
    },
    {
     "name": "stderr",
     "output_type": "stream",
     "text": [
      "\r",
      "Eliminating: MaryCalls:   0%|          | 0/2 [00:00<?, ?it/s]"
     ]
    },
    {
     "name": "stderr",
     "output_type": "stream",
     "text": [
      "\r",
      "Eliminating: MaryCalls: 100%|██████████| 2/2 [00:00<00:00, 527.82it/s]"
     ]
    },
    {
     "name": "stdout",
     "output_type": "stream",
     "text": [
      "+-------------------+-------------------+\n",
      "| Earthquake        |   phi(Earthquake) |\n",
      "+===================+===================+\n",
      "| Earthquake(True)  |            0.0020 |\n",
      "+-------------------+-------------------+\n",
      "| Earthquake(False) |            0.9980 |\n",
      "+-------------------+-------------------+\n"
     ]
    },
    {
     "name": "stderr",
     "output_type": "stream",
     "text": [
      "\n"
     ]
    }
   ],
   "source": [
    "\n",
    "# Case 1: Alarm = True\n",
    "JAE: DiscreteFactor = elim.query(variables = ['Earthquake'], evidence = {'Alarm': 'True'})\n",
    "JAE_1 = elim.query(variables = ['Earthquake'], evidence = {'Alarm': 'True', 'JohnCalls':'True'})\n",
    "JAE_2 = elim.query(variables = ['Earthquake'], evidence = {'Alarm': 'True', 'JohnCalls':'False'})\n",
    "\n",
    "assert (JAE.values == JAE_1.values).all() and (JAE.values == JAE_2.values).all(), \"Check: there is independence between Earthquake and JohnCalls when Alarm state is observed (Alarm = True)\"\n",
    "\n",
    "print(JAE)"
   ]
  },
  {
   "cell_type": "markdown",
   "metadata": {
    "lines_to_next_cell": 0,
    "title": "markdown"
   },
   "source": [
    "The probability below is:\n",
    "$$\n",
    "\\begin{align}\n",
    "P(\\text{Earthquake} = \\text{True} \\; | \\; \\text{Alarm} = \\text{False})\n",
    "&= P(\\text{Earthquake} = \\text{True} \\; | \\; \\text{Alarm} = \\text{False} \\; \\cap \\; \\text{JohnCalls} = \\text{True})  \\\\\n",
    "&= P(\\text{Earthquake} = \\text{True} \\; | \\; \\text{Alarm} = \\text{False} \\; \\cap \\; \\text{JohnCalls} = \\text{False}) \\\\\n",
    "&= 0.0017\n",
    "\\end{align}\n",
    "$$"
   ]
  },
  {
   "cell_type": "code",
   "execution_count": 50,
   "metadata": {
    "title": "codecell"
   },
   "outputs": [
    {
     "name": "stderr",
     "output_type": "stream",
     "text": [
      "\r",
      "  0%|          | 0/3 [00:00<?, ?it/s]"
     ]
    },
    {
     "name": "stderr",
     "output_type": "stream",
     "text": [
      "\r",
      "Finding Elimination Order: :   0%|          | 0/3 [00:00<?, ?it/s]"
     ]
    },
    {
     "name": "stderr",
     "output_type": "stream",
     "text": [
      "\r",
      "Finding Elimination Order: : 100%|██████████| 3/3 [00:00<00:00, 1661.55it/s]"
     ]
    },
    {
     "name": "stderr",
     "output_type": "stream",
     "text": [
      "\n",
      "\r",
      "  0%|          | 0/3 [00:00<?, ?it/s]"
     ]
    },
    {
     "name": "stderr",
     "output_type": "stream",
     "text": [
      "\r",
      "Eliminating: Burglary:   0%|          | 0/3 [00:00<?, ?it/s]"
     ]
    },
    {
     "name": "stderr",
     "output_type": "stream",
     "text": [
      "\r",
      "Eliminating: MaryCalls:   0%|          | 0/3 [00:00<?, ?it/s]"
     ]
    },
    {
     "name": "stderr",
     "output_type": "stream",
     "text": [
      "\r",
      "Eliminating: JohnCalls:   0%|          | 0/3 [00:00<?, ?it/s]"
     ]
    },
    {
     "name": "stderr",
     "output_type": "stream",
     "text": [
      "\r",
      "Eliminating: JohnCalls: 100%|██████████| 3/3 [00:00<00:00, 565.85it/s]"
     ]
    },
    {
     "name": "stderr",
     "output_type": "stream",
     "text": [
      "\n",
      "\r",
      "  0%|          | 0/2 [00:00<?, ?it/s]"
     ]
    },
    {
     "name": "stderr",
     "output_type": "stream",
     "text": [
      "\r",
      "Finding Elimination Order: :   0%|          | 0/2 [00:00<?, ?it/s]"
     ]
    },
    {
     "name": "stderr",
     "output_type": "stream",
     "text": [
      "\r",
      "Finding Elimination Order: : 100%|██████████| 2/2 [00:00<00:00, 1409.61it/s]"
     ]
    },
    {
     "name": "stderr",
     "output_type": "stream",
     "text": [
      "\n",
      "\r",
      "  0%|          | 0/2 [00:00<?, ?it/s]"
     ]
    },
    {
     "name": "stderr",
     "output_type": "stream",
     "text": [
      "\r",
      "Eliminating: Burglary:   0%|          | 0/2 [00:00<?, ?it/s]"
     ]
    },
    {
     "name": "stderr",
     "output_type": "stream",
     "text": [
      "\r",
      "Eliminating: MaryCalls:   0%|          | 0/2 [00:00<?, ?it/s]"
     ]
    },
    {
     "name": "stderr",
     "output_type": "stream",
     "text": [
      "\r",
      "Eliminating: MaryCalls: 100%|██████████| 2/2 [00:00<00:00, 531.53it/s]"
     ]
    },
    {
     "name": "stderr",
     "output_type": "stream",
     "text": [
      "\n",
      "\r",
      "  0%|          | 0/2 [00:00<?, ?it/s]"
     ]
    },
    {
     "name": "stderr",
     "output_type": "stream",
     "text": [
      "\r",
      "Finding Elimination Order: :   0%|          | 0/2 [00:00<?, ?it/s]"
     ]
    },
    {
     "name": "stderr",
     "output_type": "stream",
     "text": [
      "\r",
      "Finding Elimination Order: : 100%|██████████| 2/2 [00:00<00:00, 1527.98it/s]"
     ]
    },
    {
     "name": "stderr",
     "output_type": "stream",
     "text": [
      "\n",
      "\r",
      "  0%|          | 0/2 [00:00<?, ?it/s]"
     ]
    },
    {
     "name": "stderr",
     "output_type": "stream",
     "text": [
      "\r",
      "Eliminating: Burglary:   0%|          | 0/2 [00:00<?, ?it/s]"
     ]
    },
    {
     "name": "stderr",
     "output_type": "stream",
     "text": [
      "\r",
      "Eliminating: MaryCalls:   0%|          | 0/2 [00:00<?, ?it/s]"
     ]
    },
    {
     "name": "stderr",
     "output_type": "stream",
     "text": [
      "\r",
      "Eliminating: MaryCalls: 100%|██████████| 2/2 [00:00<00:00, 726.48it/s]"
     ]
    },
    {
     "name": "stdout",
     "output_type": "stream",
     "text": [
      "+-------------------+-------------------+\n",
      "| Earthquake        |   phi(Earthquake) |\n",
      "+===================+===================+\n",
      "| Earthquake(True)  |            0.0017 |\n",
      "+-------------------+-------------------+\n",
      "| Earthquake(False) |            0.9983 |\n",
      "+-------------------+-------------------+\n"
     ]
    },
    {
     "name": "stderr",
     "output_type": "stream",
     "text": [
      "\n"
     ]
    }
   ],
   "source": [
    "# Case 2: Alarm = False\n",
    "JAE: DiscreteFactor = elim.query(variables = ['Earthquake'], evidence = {'Alarm': 'False'})\n",
    "JAE_1 = elim.query(variables = ['Earthquake'], evidence = {'Alarm': 'False', 'JohnCalls':'True'})\n",
    "JAE_2 = elim.query(variables = ['Earthquake'], evidence = {'Alarm': 'False', 'JohnCalls':'False'})\n",
    "\n",
    "assert (JAE.values == JAE_1.values).all() and (JAE.values == JAE_2.values).all(), \"Check: there is independence between Earthquake and JohnCalls when Alarm state is observed (Alarm = False)\"\n",
    "\n",
    "print(JAE)\n",
    "\n",
    "\n",
    "\n",
    "\n",
    "\n"
   ]
  },
  {
   "cell_type": "markdown",
   "metadata": {
    "title": "markdown"
   },
   "source": [
    "### 3. Inter-Causal (?) Reasoning in the Alarm Model\n",
    "For a common cause model $A \\leftarrow B \\rightarrow C$, there are two cases:\n",
    "  * **Marginal Dependence:** ($B$ unknown): When $B$ is unknown / unobserved, there is an active trail between $A$ and $C$, meaning the probability of $A$ can influence probability of $C$ (and vice versa) when information about $B$'s state is unknown.\n",
    "  * **Conditional Independence:** ($B$ fixed): When $B$ is fixed, there is NO active trail between $A$ and $C$, so they are independent. The probability of $A$ won't influence probability of $C$ (and vice versa) when $B$'s state is observed."
   ]
  },
  {
   "cell_type": "code",
   "execution_count": 51,
   "metadata": {
    "lines_to_next_cell": 0,
    "title": "codecell"
   },
   "outputs": [
    {
     "data": {
      "image/svg+xml": [
       "<?xml version=\"1.0\" encoding=\"UTF-8\" standalone=\"no\"?>\n",
       "<!DOCTYPE svg PUBLIC \"-//W3C//DTD SVG 1.1//EN\"\n",
       " \"http://www.w3.org/Graphics/SVG/1.1/DTD/svg11.dtd\">\n",
       "<!-- Generated by graphviz version 2.38.0 (20140413.2041)\n",
       " -->\n",
       "<!-- Title: G Pages: 1 -->\n",
       "<svg width=\"214pt\" height=\"188pt\"\n",
       " viewBox=\"0.00 0.00 214.18 188.00\" xmlns=\"http://www.w3.org/2000/svg\" xmlns:xlink=\"http://www.w3.org/1999/xlink\">\n",
       "<g id=\"graph0\" class=\"graph\" transform=\"scale(1 1) rotate(0) translate(4 184)\">\n",
       "<title>G</title>\n",
       "<polygon fill=\"white\" stroke=\"none\" points=\"-4,4 -4,-184 210.185,-184 210.185,4 -4,4\"/>\n",
       "<!-- Burglary -->\n",
       "<g id=\"node1\" class=\"node\"><title>Burglary</title>\n",
       "<defs>\n",
       "<linearGradient id=\"l_0\" gradientUnits=\"userSpaceOnUse\" x1=\"41.8599\" y1=\"-144\" x2=\"41.8599\" y2=\"-180\" >\n",
       "<stop offset=\"0\" style=\"stop-color:#ceccff;stop-opacity:1.;\"/>\n",
       "<stop offset=\"1\" style=\"stop-color:white;stop-opacity:1.;\"/>\n",
       "</linearGradient>\n",
       "</defs>\n",
       "<ellipse fill=\"url(#l_0)\" stroke=\"#ff638d\" cx=\"41.8599\" cy=\"-162\" rx=\"41.7203\" ry=\"18\"/>\n",
       "<text text-anchor=\"middle\" x=\"41.8599\" y=\"-158.9\" font-family=\"Acme-Regular.ttf\" font-size=\"12.00\">Burglary</text>\n",
       "</g>\n",
       "<!-- Alarm -->\n",
       "<g id=\"node2\" class=\"node\"><title>Alarm</title>\n",
       "<defs>\n",
       "<linearGradient id=\"l_1\" gradientUnits=\"userSpaceOnUse\" x1=\"97.8599\" y1=\"-72\" x2=\"97.8599\" y2=\"-108\" >\n",
       "<stop offset=\"0\" style=\"stop-color:#ceccff;stop-opacity:1.;\"/>\n",
       "<stop offset=\"1\" style=\"stop-color:white;stop-opacity:1.;\"/>\n",
       "</linearGradient>\n",
       "</defs>\n",
       "<ellipse fill=\"url(#l_1)\" stroke=\"#ff638d\" cx=\"97.8599\" cy=\"-90\" rx=\"32.7527\" ry=\"18\"/>\n",
       "<text text-anchor=\"middle\" x=\"97.8599\" y=\"-86.9\" font-family=\"Acme-Regular.ttf\" font-size=\"12.00\">Alarm</text>\n",
       "</g>\n",
       "<!-- Burglary&#45;&gt;Alarm -->\n",
       "<g id=\"edge1\" class=\"edge\"><title>Burglary&#45;&gt;Alarm</title>\n",
       "<path fill=\"none\" stroke=\"#ff638d\" d=\"M54.8482,-144.765C62.0171,-135.804 71.05,-124.512 78.985,-114.594\"/>\n",
       "<polygon fill=\"#ff638d\" stroke=\"#ff638d\" points=\"81.8134,-116.661 85.3273,-106.666 76.3473,-112.288 81.8134,-116.661\"/>\n",
       "</g>\n",
       "<!-- JohnCalls -->\n",
       "<g id=\"node3\" class=\"node\"><title>JohnCalls</title>\n",
       "<defs>\n",
       "<linearGradient id=\"l_2\" gradientUnits=\"userSpaceOnUse\" x1=\"44.8599\" y1=\"-1.77636e-14\" x2=\"44.8599\" y2=\"-36\" >\n",
       "<stop offset=\"0\" style=\"stop-color:#ceccff;stop-opacity:1.;\"/>\n",
       "<stop offset=\"1\" style=\"stop-color:white;stop-opacity:1.;\"/>\n",
       "</linearGradient>\n",
       "</defs>\n",
       "<ellipse fill=\"url(#l_2)\" stroke=\"#ff638d\" cx=\"44.8599\" cy=\"-18\" rx=\"43.9143\" ry=\"18\"/>\n",
       "<text text-anchor=\"middle\" x=\"44.8599\" y=\"-14.9\" font-family=\"Acme-Regular.ttf\" font-size=\"12.00\">JohnCalls</text>\n",
       "</g>\n",
       "<!-- Alarm&#45;&gt;JohnCalls -->\n",
       "<g id=\"edge2\" class=\"edge\"><title>Alarm&#45;&gt;JohnCalls</title>\n",
       "<path fill=\"none\" stroke=\"#ff638d\" d=\"M85.8334,-73.1159C79.2193,-64.3803 70.8699,-53.3528 63.4366,-43.5352\"/>\n",
       "<polygon fill=\"#ff638d\" stroke=\"#ff638d\" points=\"66.0335,-41.1669 57.2066,-35.307 60.4527,-45.3923 66.0335,-41.1669\"/>\n",
       "</g>\n",
       "<!-- MaryCalls -->\n",
       "<g id=\"node4\" class=\"node\"><title>MaryCalls</title>\n",
       "<defs>\n",
       "<linearGradient id=\"l_3\" gradientUnits=\"userSpaceOnUse\" x1=\"151.86\" y1=\"-1.77636e-14\" x2=\"151.86\" y2=\"-36\" >\n",
       "<stop offset=\"0\" style=\"stop-color:#ceccff;stop-opacity:1.;\"/>\n",
       "<stop offset=\"1\" style=\"stop-color:white;stop-opacity:1.;\"/>\n",
       "</linearGradient>\n",
       "</defs>\n",
       "<ellipse fill=\"url(#l_3)\" stroke=\"#ff638d\" cx=\"151.86\" cy=\"-18\" rx=\"45.6069\" ry=\"18\"/>\n",
       "<text text-anchor=\"middle\" x=\"151.86\" y=\"-14.9\" font-family=\"Acme-Regular.ttf\" font-size=\"12.00\">MaryCalls</text>\n",
       "</g>\n",
       "<!-- Alarm&#45;&gt;MaryCalls -->\n",
       "<g id=\"edge3\" class=\"edge\"><title>Alarm&#45;&gt;MaryCalls</title>\n",
       "<path fill=\"none\" stroke=\"#ff638d\" d=\"M110.113,-73.1159C116.92,-64.292 125.531,-53.1298 133.162,-43.238\"/>\n",
       "<polygon fill=\"#ff638d\" stroke=\"#ff638d\" points=\"135.943,-45.3627 139.28,-35.307 130.401,-41.087 135.943,-45.3627\"/>\n",
       "</g>\n",
       "<!-- Earthquake -->\n",
       "<g id=\"node5\" class=\"node\"><title>Earthquake</title>\n",
       "<defs>\n",
       "<linearGradient id=\"l_4\" gradientUnits=\"userSpaceOnUse\" x1=\"153.86\" y1=\"-144\" x2=\"153.86\" y2=\"-180\" >\n",
       "<stop offset=\"0\" style=\"stop-color:#ceccff;stop-opacity:1.;\"/>\n",
       "<stop offset=\"1\" style=\"stop-color:white;stop-opacity:1.;\"/>\n",
       "</linearGradient>\n",
       "</defs>\n",
       "<ellipse fill=\"url(#l_4)\" stroke=\"#ff638d\" cx=\"153.86\" cy=\"-162\" rx=\"52.1504\" ry=\"18\"/>\n",
       "<text text-anchor=\"middle\" x=\"153.86\" y=\"-158.9\" font-family=\"Acme-Regular.ttf\" font-size=\"12.00\">Earthquake</text>\n",
       "</g>\n",
       "<!-- Earthquake&#45;&gt;Alarm -->\n",
       "<g id=\"edge4\" class=\"edge\"><title>Earthquake&#45;&gt;Alarm</title>\n",
       "<path fill=\"none\" stroke=\"#ff638d\" d=\"M140.589,-144.411C133.584,-135.655 124.861,-124.751 117.126,-115.082\"/>\n",
       "<polygon fill=\"#ff638d\" stroke=\"#ff638d\" points=\"119.63,-112.61 110.65,-106.988 114.164,-116.983 119.63,-112.61\"/>\n",
       "</g>\n",
       "</g>\n",
       "</svg>\n"
      ],
      "text/plain": [
       "<graphviz.dot.Digraph at 0x7f15ebb18ed0>"
      ]
     },
     "execution_count": 51,
     "metadata": {},
     "output_type": "execute_result"
    }
   ],
   "source": [
    "pgmpyToGraph(alarmModel)"
   ]
  },
  {
   "cell_type": "markdown",
   "metadata": {
    "title": "markdown"
   },
   "source": [
    "$\\color{MediumVioletRed}{\\text{Case 1: Marginal Dependence (for Evidential Model)}}$\n",
    "\n",
    "$$\n",
    "\\color{Green}{ \\text{Alarm (unknown): }\\;\\;\\;\\;\\;\\;\\;\\;\\; \\text{JohnCalls} \\longleftarrow \\text{Alarm} \\longleftarrow \\text{MaryCalls}}\n",
    "$$\n",
    "\n",
    "When the parent node `Alarm` is unknown / unobserved, there IS an active trail between `JohnCalls` and `MaryCalls`. In other words, there is a dependence between `JohnCalls` and `MaryCalls` when `Alarm` is unobserved. This means the probability of `JohnCalls` can influence probability of `MaryCalls` (and vice versa) when information about `Alarm`'s state is unknown."
   ]
  },
  {
   "cell_type": "markdown",
   "metadata": {
    "lines_to_next_cell": 0,
    "title": "markdown"
   },
   "source": [
    "**Verify:** Using Active Trails"
   ]
  },
  {
   "cell_type": "code",
   "execution_count": 52,
   "metadata": {
    "lines_to_next_cell": 2,
    "title": "codecell"
   },
   "outputs": [
    {
     "name": "stdout",
     "output_type": "stream",
     "text": [
      "JohnCalls --> Earthquake\n",
      "JohnCalls --> MaryCalls\n",
      "JohnCalls --> Burglary\n",
      "JohnCalls --> Alarm\n",
      "JohnCalls --> JohnCalls\n",
      "MaryCalls --> Earthquake\n",
      "MaryCalls --> MaryCalls\n",
      "MaryCalls --> Burglary\n",
      "MaryCalls --> Alarm\n",
      "MaryCalls --> JohnCalls\n"
     ]
    }
   ],
   "source": [
    "assert alarmModel.is_active_trail(start = 'JohnCalls', end = 'MaryCalls',  observed = None)\n",
    "\n",
    "showActiveTrails(model = alarmModel, variables = ['JohnCalls', 'MaryCalls'])"
   ]
  },
  {
   "cell_type": "markdown",
   "metadata": {
    "lines_to_next_cell": 0,
    "title": "markdown"
   },
   "source": [
    "**Verify:** Using Probabilities\n",
    "##### Inter-Causal Reasoning For Common Cause Model:"
   ]
  },
  {
   "cell_type": "code",
   "execution_count": 53,
   "metadata": {
    "lines_to_next_cell": 0,
    "title": "codecell"
   },
   "outputs": [
    {
     "name": "stderr",
     "output_type": "stream",
     "text": [
      "\r",
      "  0%|          | 0/4 [00:00<?, ?it/s]"
     ]
    },
    {
     "name": "stderr",
     "output_type": "stream",
     "text": [
      "\r",
      "Finding Elimination Order: :   0%|          | 0/4 [00:00<?, ?it/s]"
     ]
    },
    {
     "name": "stderr",
     "output_type": "stream",
     "text": [
      "\r",
      "Finding Elimination Order: : 100%|██████████| 4/4 [00:00<00:00, 262.73it/s]"
     ]
    },
    {
     "name": "stderr",
     "output_type": "stream",
     "text": [
      "\n",
      "\r",
      "  0%|          | 0/4 [00:00<?, ?it/s]"
     ]
    },
    {
     "name": "stderr",
     "output_type": "stream",
     "text": [
      "\r",
      "Eliminating: Burglary:   0%|          | 0/4 [00:00<?, ?it/s]"
     ]
    },
    {
     "name": "stderr",
     "output_type": "stream",
     "text": [
      "\r",
      "Eliminating: JohnCalls:   0%|          | 0/4 [00:00<?, ?it/s]"
     ]
    },
    {
     "name": "stderr",
     "output_type": "stream",
     "text": [
      "\r",
      "Eliminating: Alarm:   0%|          | 0/4 [00:00<?, ?it/s]    "
     ]
    },
    {
     "name": "stderr",
     "output_type": "stream",
     "text": [
      "\r",
      "Eliminating: Earthquake:   0%|          | 0/4 [00:00<?, ?it/s]"
     ]
    },
    {
     "name": "stderr",
     "output_type": "stream",
     "text": [
      "\r",
      "Eliminating: Earthquake: 100%|██████████| 4/4 [00:00<00:00, 149.26it/s]"
     ]
    },
    {
     "name": "stdout",
     "output_type": "stream",
     "text": [
      "+------------------+------------------+\n",
      "| MaryCalls        |   phi(MaryCalls) |\n",
      "+==================+==================+\n",
      "| MaryCalls(True)  |           0.6580 |\n",
      "+------------------+------------------+\n",
      "| MaryCalls(False) |           0.3420 |\n",
      "+------------------+------------------+\n"
     ]
    },
    {
     "name": "stderr",
     "output_type": "stream",
     "text": [
      "\n"
     ]
    }
   ],
   "source": [
    "JM: DiscreteFactor = elim.query(variables = ['MaryCalls'], evidence = None)\n",
    "print(JM)"
   ]
  },
  {
   "cell_type": "markdown",
   "metadata": {
    "lines_to_next_cell": 0,
    "title": "markdown"
   },
   "source": [
    "Below we see that when `JohnCalls` and no `Alarm` was observed, there is a higher probability of `MaryCalls`, compared to when no `JohnCalls` nor `Alarm` were observed:\n",
    "$$\n",
    "P(\\text{MaryCalls} = \\text{True} \\; | \\; \\text{JohnCalls} = \\text{True}) = 0.6975\n",
    "$$"
   ]
  },
  {
   "cell_type": "code",
   "execution_count": 54,
   "metadata": {
    "lines_to_next_cell": 0,
    "title": "codecell"
   },
   "outputs": [
    {
     "name": "stderr",
     "output_type": "stream",
     "text": [
      "\r",
      "  0%|          | 0/3 [00:00<?, ?it/s]"
     ]
    },
    {
     "name": "stderr",
     "output_type": "stream",
     "text": [
      "\r",
      "Finding Elimination Order: :   0%|          | 0/3 [00:00<?, ?it/s]"
     ]
    },
    {
     "name": "stderr",
     "output_type": "stream",
     "text": [
      "\r",
      "Finding Elimination Order: : 100%|██████████| 3/3 [00:00<00:00, 1412.54it/s]"
     ]
    },
    {
     "name": "stderr",
     "output_type": "stream",
     "text": [
      "\n",
      "\r",
      "  0%|          | 0/3 [00:00<?, ?it/s]"
     ]
    },
    {
     "name": "stderr",
     "output_type": "stream",
     "text": [
      "\r",
      "Eliminating: Burglary:   0%|          | 0/3 [00:00<?, ?it/s]"
     ]
    },
    {
     "name": "stderr",
     "output_type": "stream",
     "text": [
      "\r",
      "Eliminating: Earthquake:   0%|          | 0/3 [00:00<?, ?it/s]"
     ]
    },
    {
     "name": "stderr",
     "output_type": "stream",
     "text": [
      "\r",
      "Eliminating: Alarm:   0%|          | 0/3 [00:00<?, ?it/s]     "
     ]
    },
    {
     "name": "stderr",
     "output_type": "stream",
     "text": [
      "\r",
      "Eliminating: Alarm: 100%|██████████| 3/3 [00:00<00:00, 399.83it/s]"
     ]
    },
    {
     "name": "stdout",
     "output_type": "stream",
     "text": [
      "+------------------+------------------+\n",
      "| MaryCalls        |   phi(MaryCalls) |\n",
      "+==================+==================+\n",
      "| MaryCalls(True)  |           0.6975 |\n",
      "+------------------+------------------+\n",
      "| MaryCalls(False) |           0.3025 |\n",
      "+------------------+------------------+\n"
     ]
    },
    {
     "name": "stderr",
     "output_type": "stream",
     "text": [
      "\n"
     ]
    }
   ],
   "source": [
    "JM_1 = elim.query(variables = ['MaryCalls'], evidence = {'JohnCalls':'True'})\n",
    "print(JM_1)"
   ]
  },
  {
   "cell_type": "markdown",
   "metadata": {
    "lines_to_next_cell": 0,
    "title": "markdown"
   },
   "source": [
    "Below we see that when `JohnCalls` does not occur and no `Alarm` was observed, there is a lower probability of `MaryCalls`, compared to when `JohnCalls` and `Alarm` was not observed:\n",
    "$$\n",
    "P(\\text{MaryCalls} = \\text{True} \\; | \\; \\text{JohnCalls} = \\text{False}) = 0.4369\n",
    "$$"
   ]
  },
  {
   "cell_type": "code",
   "execution_count": 55,
   "metadata": {
    "lines_to_next_cell": 0,
    "title": "codecell"
   },
   "outputs": [
    {
     "name": "stderr",
     "output_type": "stream",
     "text": [
      "\r",
      "  0%|          | 0/3 [00:00<?, ?it/s]"
     ]
    },
    {
     "name": "stderr",
     "output_type": "stream",
     "text": [
      "\r",
      "Finding Elimination Order: :   0%|          | 0/3 [00:00<?, ?it/s]"
     ]
    },
    {
     "name": "stderr",
     "output_type": "stream",
     "text": [
      "\r",
      "Finding Elimination Order: : 100%|██████████| 3/3 [00:00<00:00, 1251.53it/s]"
     ]
    },
    {
     "name": "stderr",
     "output_type": "stream",
     "text": [
      "\n",
      "\r",
      "  0%|          | 0/3 [00:00<?, ?it/s]"
     ]
    },
    {
     "name": "stderr",
     "output_type": "stream",
     "text": [
      "\r",
      "Eliminating: Burglary:   0%|          | 0/3 [00:00<?, ?it/s]"
     ]
    },
    {
     "name": "stderr",
     "output_type": "stream",
     "text": [
      "\r",
      "Eliminating: Earthquake:   0%|          | 0/3 [00:00<?, ?it/s]"
     ]
    },
    {
     "name": "stderr",
     "output_type": "stream",
     "text": [
      "\r",
      "Eliminating: Alarm:   0%|          | 0/3 [00:00<?, ?it/s]     "
     ]
    },
    {
     "name": "stderr",
     "output_type": "stream",
     "text": [
      "\r",
      "Eliminating: Alarm: 100%|██████████| 3/3 [00:00<00:00, 446.57it/s]"
     ]
    },
    {
     "name": "stdout",
     "output_type": "stream",
     "text": [
      "+------------------+------------------+\n",
      "| MaryCalls        |   phi(MaryCalls) |\n",
      "+==================+==================+\n",
      "| MaryCalls(True)  |           0.4369 |\n",
      "+------------------+------------------+\n",
      "| MaryCalls(False) |           0.5631 |\n",
      "+------------------+------------------+\n"
     ]
    },
    {
     "name": "stderr",
     "output_type": "stream",
     "text": [
      "\n"
     ]
    }
   ],
   "source": [
    "JM_2 = elim.query(variables = ['MaryCalls'], evidence = {'JohnCalls':'False'})\n",
    "print(JM_2)"
   ]
  },
  {
   "cell_type": "code",
   "execution_count": 56,
   "metadata": {
    "lines_to_next_cell": 2,
    "title": "codecell"
   },
   "outputs": [],
   "source": [
    "assert (JM.values != JM_1.values).all() and (JM.values != JM_2.values).all(), \"Check: Marginal Dependence: there is dependency between MaryCalls and JohnCalls, when Alarm state is unobserved \""
   ]
  },
  {
   "cell_type": "markdown",
   "metadata": {
    "lines_to_next_cell": 0,
    "title": "markdown"
   },
   "source": [
    "$\\color{MediumVioletRed}{\\text{Case 2: Conditional Independence (for Common Cause Model)}}$\n",
    "\n",
    "$$\n",
    "\\color{DeepSkyBlue}{ \\text{Alarm (fixed): }\\;\\;\\;\\;\\;\\;\\;\\; \\text{JohnCalls} \\; \\bot \\; \\text{MaryCalls} \\; | \\; \\text{Alarm}}\n",
    "$$\n",
    "When the `Alarm`'s state is known (fixed / observed), then there is NO active trail between `JohnCalls` and `MaryCalls`. In other words, `JohnCalls` and `MaryCalls` are locally independent when `Alarm`'s state is observed. This means the probability of `JohnCalls` won't influence probability of `MaryCalls` (and vice versa) when `Alarm`'s state is observed.\n"
   ]
  },
  {
   "cell_type": "markdown",
   "metadata": {
    "lines_to_next_cell": 0,
    "title": "markdown"
   },
   "source": [
    "**Verify:** Using Active Trails"
   ]
  },
  {
   "cell_type": "code",
   "execution_count": 57,
   "metadata": {
    "title": "codecell"
   },
   "outputs": [
    {
     "name": "stdout",
     "output_type": "stream",
     "text": [
      "JohnCalls --> JohnCalls\n",
      "MaryCalls --> MaryCalls\n"
     ]
    }
   ],
   "source": [
    "assert not alarmModel.is_active_trail(start = 'JohnCalls', end = 'MaryCalls', observed = 'Alarm')\n",
    "\n",
    "showActiveTrails(model = alarmModel, variables = ['JohnCalls', 'MaryCalls'], observed = 'Alarm')"
   ]
  },
  {
   "cell_type": "markdown",
   "metadata": {
    "lines_to_next_cell": 0,
    "title": "markdown"
   },
   "source": [
    "**Verify:** Using Independencies"
   ]
  },
  {
   "cell_type": "code",
   "execution_count": 58,
   "metadata": {
    "lines_to_next_cell": 0,
    "title": "codecell"
   },
   "outputs": [
    {
     "data": {
      "text/plain": [
       "(MaryCalls _|_ Burglary | Alarm, JohnCalls)\n",
       "(MaryCalls _|_ Burglary | Alarm)\n",
       "(MaryCalls _|_ JohnCalls, Earthquake | Burglary, Alarm)\n",
       "(MaryCalls _|_ Burglary, Earthquake | Alarm)\n",
       "(MaryCalls _|_ Earthquake | Burglary, Alarm, JohnCalls)\n",
       "(MaryCalls _|_ Burglary, Earthquake | Alarm, JohnCalls)\n",
       "(MaryCalls _|_ Burglary, JohnCalls, Earthquake | Alarm)\n",
       "(MaryCalls _|_ JohnCalls | Alarm, Earthquake)\n",
       "(MaryCalls _|_ JohnCalls | Burglary, Alarm)\n",
       "(MaryCalls _|_ Burglary, JohnCalls | Alarm, Earthquake)\n",
       "(MaryCalls _|_ Earthquake | Burglary, Alarm)\n",
       "(MaryCalls _|_ Earthquake | Alarm, JohnCalls)\n",
       "(MaryCalls _|_ Burglary | Alarm, Earthquake)\n",
       "(MaryCalls _|_ JohnCalls | Alarm)\n",
       "(MaryCalls _|_ JohnCalls | Burglary, Alarm, Earthquake)\n",
       "(MaryCalls _|_ Earthquake | Alarm)\n",
       "(MaryCalls _|_ JohnCalls, Earthquake | Alarm)\n",
       "(MaryCalls _|_ Burglary, JohnCalls | Alarm)\n",
       "(MaryCalls _|_ Burglary | Alarm, JohnCalls, Earthquake)"
      ]
     },
     "execution_count": 58,
     "metadata": {},
     "output_type": "execute_result"
    }
   ],
   "source": [
    "indepJohn: IndependenceAssertion = Independencies(['JohnCalls', 'MaryCalls', ['Alarm']]).get_assertions()[0]; indepJohn\n",
    "\n",
    "indepMary: IndependenceAssertion = Independencies(['MaryCalls', 'JohnCalls', ['Alarm']]).get_assertions()[0]; indepMary\n",
    "\n",
    "\n",
    "# Using the fact that closure returns independencies that are IMPLIED by the current independencies:\n",
    "assert (str(indepMary) == '(MaryCalls _|_ JohnCalls | Alarm)' and\n",
    "        indepMary in alarmModel.local_independencies('MaryCalls').closure().get_assertions()),  \\\n",
    "        \"Check 1: MaryCalls and JohnCalls are independent once conditional on Alarm\"\n",
    "\n",
    "alarmModel.local_independencies('MaryCalls').closure()"
   ]
  },
  {
   "cell_type": "code",
   "execution_count": 59,
   "metadata": {
    "title": "codecell"
   },
   "outputs": [
    {
     "data": {
      "text/plain": [
       "(MaryCalls _|_ Burglary | Alarm, JohnCalls)\n",
       "(MaryCalls _|_ Burglary | Alarm)\n",
       "(MaryCalls _|_ JohnCalls, Earthquake | Burglary, Alarm)\n",
       "(MaryCalls _|_ Burglary, Earthquake | Alarm)\n",
       "(MaryCalls _|_ Earthquake | Burglary, Alarm, JohnCalls)\n",
       "(MaryCalls _|_ Burglary, Earthquake | Alarm, JohnCalls)\n",
       "(MaryCalls _|_ Burglary, JohnCalls, Earthquake | Alarm)\n",
       "(MaryCalls _|_ JohnCalls | Alarm, Earthquake)\n",
       "(MaryCalls _|_ JohnCalls | Burglary, Alarm)\n",
       "(MaryCalls _|_ Burglary, JohnCalls | Alarm, Earthquake)\n",
       "(MaryCalls _|_ Earthquake | Burglary, Alarm)\n",
       "(MaryCalls _|_ Earthquake | Alarm, JohnCalls)\n",
       "(MaryCalls _|_ Burglary | Alarm, Earthquake)\n",
       "(MaryCalls _|_ JohnCalls | Alarm)\n",
       "(MaryCalls _|_ JohnCalls | Burglary, Alarm, Earthquake)\n",
       "(MaryCalls _|_ Earthquake | Alarm)\n",
       "(MaryCalls _|_ JohnCalls, Earthquake | Alarm)\n",
       "(MaryCalls _|_ Burglary, JohnCalls | Alarm)\n",
       "(MaryCalls _|_ Burglary | Alarm, JohnCalls, Earthquake)"
      ]
     },
     "execution_count": 59,
     "metadata": {},
     "output_type": "execute_result"
    }
   ],
   "source": [
    "assert (str(indepJohn) == '(JohnCalls _|_ MaryCalls | Alarm)' and\n",
    "        indepJohn in alarmModel.local_independencies('JohnCalls').closure().get_assertions()), \\\n",
    "        \"Check 2: JohnCalls and MaryCalls are independent once conditional on Alarm\"\n",
    "\n",
    "alarmModel.local_independencies('MaryCalls').closure()"
   ]
  },
  {
   "cell_type": "code",
   "execution_count": 60,
   "metadata": {
    "lines_to_next_cell": 0,
    "title": "codecell"
   },
   "outputs": [
    {
     "name": "stdout",
     "output_type": "stream",
     "text": [
      "                   INDEPENDENCIES TABLE                  \n",
      "Fancy Notation              .....     Regular Notation   \n",
      "---------------------------------------------------------\n",
      "(M _|_ {J ∩ B ∩ E} | A)     .....     (M _|_ J, B, E | A)\n",
      "(M _|_ {J ∩ E ∩ B} | A)     .....     (M _|_ J, E, B | A)\n",
      "(M _|_ {B ∩ J ∩ E} | A)     .....     (M _|_ B, J, E | A)\n",
      "(M _|_ {B ∩ E ∩ J} | A)     .....     (M _|_ B, E, J | A)\n",
      "(M _|_ {E ∩ J ∩ B} | A)     .....     (M _|_ E, J, B | A)\n",
      "(M _|_ {E ∩ B ∩ J} | A)     .....     (M _|_ E, B, J | A)\n"
     ]
    }
   ],
   "source": [
    "# See: MaryCalls and JohnCalls are conditionally independent on Alarm:\n",
    "indepSynonymTable(model = alarmModel_brief, queryNode = 'M')"
   ]
  },
  {
   "cell_type": "code",
   "execution_count": 61,
   "metadata": {
    "lines_to_next_cell": 2,
    "title": "codecell"
   },
   "outputs": [
    {
     "name": "stdout",
     "output_type": "stream",
     "text": [
      "                   INDEPENDENCIES TABLE                  \n",
      "Fancy Notation              .....     Regular Notation   \n",
      "---------------------------------------------------------\n",
      "(J _|_ {M ∩ B ∩ E} | A)     .....     (J _|_ M, B, E | A)\n",
      "(J _|_ {M ∩ E ∩ B} | A)     .....     (J _|_ M, E, B | A)\n",
      "(J _|_ {B ∩ M ∩ E} | A)     .....     (J _|_ B, M, E | A)\n",
      "(J _|_ {B ∩ E ∩ M} | A)     .....     (J _|_ B, E, M | A)\n",
      "(J _|_ {E ∩ M ∩ B} | A)     .....     (J _|_ E, M, B | A)\n",
      "(J _|_ {E ∩ B ∩ M} | A)     .....     (J _|_ E, B, M | A)\n"
     ]
    }
   ],
   "source": [
    "indepSynonymTable(model = alarmModel_brief, queryNode = 'J')"
   ]
  },
  {
   "cell_type": "markdown",
   "metadata": {
    "title": "markdown"
   },
   "source": [
    "**Verify:** Using Probabilities Method"
   ]
  },
  {
   "cell_type": "markdown",
   "metadata": {
    "lines_to_next_cell": 0,
    "title": "markdown"
   },
   "source": [
    "The probability below is:\n",
    "$$\n",
    "\\begin{align}\n",
    "P(\\text{MaryCalls} = \\text{True} \\; | \\; \\text{Alarm} = \\text{True})\n",
    "&= P(\\text{MaryCalls} = \\text{True} \\; | \\; \\text{Alarm} = \\text{True} \\; \\cap \\; \\text{JohnCalls} = \\text{True})  \\\\\n",
    "&= P(\\text{MaryCalls} = \\text{True} \\; | \\; \\text{Alarm} = \\text{True} \\; \\cap \\; \\text{JohnCalls} = \\text{False}) \\\\\n",
    "&= 0.7\n",
    "\\end{align}\n",
    "$$"
   ]
  },
  {
   "cell_type": "code",
   "execution_count": 62,
   "metadata": {
    "lines_to_next_cell": 0,
    "title": "codecell"
   },
   "outputs": [
    {
     "name": "stderr",
     "output_type": "stream",
     "text": [
      "\r",
      "  0%|          | 0/3 [00:00<?, ?it/s]"
     ]
    },
    {
     "name": "stderr",
     "output_type": "stream",
     "text": [
      "\r",
      "Finding Elimination Order: :   0%|          | 0/3 [00:00<?, ?it/s]"
     ]
    },
    {
     "name": "stderr",
     "output_type": "stream",
     "text": [
      "\r",
      "Finding Elimination Order: : 100%|██████████| 3/3 [00:00<00:00, 1250.91it/s]"
     ]
    },
    {
     "name": "stderr",
     "output_type": "stream",
     "text": [
      "\n",
      "\r",
      "  0%|          | 0/3 [00:00<?, ?it/s]"
     ]
    },
    {
     "name": "stderr",
     "output_type": "stream",
     "text": [
      "\r",
      "Eliminating: Burglary:   0%|          | 0/3 [00:00<?, ?it/s]"
     ]
    },
    {
     "name": "stderr",
     "output_type": "stream",
     "text": [
      "\r",
      "Eliminating: JohnCalls:   0%|          | 0/3 [00:00<?, ?it/s]"
     ]
    },
    {
     "name": "stderr",
     "output_type": "stream",
     "text": [
      "\r",
      "Eliminating: Earthquake:   0%|          | 0/3 [00:00<?, ?it/s]"
     ]
    },
    {
     "name": "stderr",
     "output_type": "stream",
     "text": [
      "\r",
      "Eliminating: Earthquake: 100%|██████████| 3/3 [00:00<00:00, 685.42it/s]"
     ]
    },
    {
     "name": "stderr",
     "output_type": "stream",
     "text": [
      "\n",
      "\r",
      "  0%|          | 0/2 [00:00<?, ?it/s]"
     ]
    },
    {
     "name": "stderr",
     "output_type": "stream",
     "text": [
      "\r",
      "Finding Elimination Order: :   0%|          | 0/2 [00:00<?, ?it/s]"
     ]
    },
    {
     "name": "stderr",
     "output_type": "stream",
     "text": [
      "\r",
      "Finding Elimination Order: : 100%|██████████| 2/2 [00:00<00:00, 710.48it/s]"
     ]
    },
    {
     "name": "stderr",
     "output_type": "stream",
     "text": [
      "\n",
      "\r",
      "  0%|          | 0/2 [00:00<?, ?it/s]"
     ]
    },
    {
     "name": "stderr",
     "output_type": "stream",
     "text": [
      "\r",
      "Eliminating: Burglary:   0%|          | 0/2 [00:00<?, ?it/s]"
     ]
    },
    {
     "name": "stderr",
     "output_type": "stream",
     "text": [
      "\r",
      "Eliminating: Earthquake:   0%|          | 0/2 [00:00<?, ?it/s]"
     ]
    },
    {
     "name": "stderr",
     "output_type": "stream",
     "text": [
      "\r",
      "Eliminating: Earthquake: 100%|██████████| 2/2 [00:00<00:00, 512.69it/s]"
     ]
    },
    {
     "name": "stderr",
     "output_type": "stream",
     "text": [
      "\n",
      "\r",
      "  0%|          | 0/2 [00:00<?, ?it/s]"
     ]
    },
    {
     "name": "stderr",
     "output_type": "stream",
     "text": [
      "\r",
      "Finding Elimination Order: :   0%|          | 0/2 [00:00<?, ?it/s]"
     ]
    },
    {
     "name": "stderr",
     "output_type": "stream",
     "text": [
      "\r",
      "Finding Elimination Order: : 100%|██████████| 2/2 [00:00<00:00, 327.87it/s]"
     ]
    },
    {
     "name": "stderr",
     "output_type": "stream",
     "text": [
      "\n",
      "\r",
      "  0%|          | 0/2 [00:00<?, ?it/s]"
     ]
    },
    {
     "name": "stderr",
     "output_type": "stream",
     "text": [
      "\r",
      "Eliminating: Burglary:   0%|          | 0/2 [00:00<?, ?it/s]"
     ]
    },
    {
     "name": "stderr",
     "output_type": "stream",
     "text": [
      "\r",
      "Eliminating: Earthquake:   0%|          | 0/2 [00:00<?, ?it/s]"
     ]
    },
    {
     "name": "stderr",
     "output_type": "stream",
     "text": [
      "\r",
      "Eliminating: Earthquake: 100%|██████████| 2/2 [00:00<00:00, 561.75it/s]"
     ]
    },
    {
     "name": "stdout",
     "output_type": "stream",
     "text": [
      "+------------------+------------------+\n",
      "| MaryCalls        |   phi(MaryCalls) |\n",
      "+==================+==================+\n",
      "| MaryCalls(True)  |           0.7000 |\n",
      "+------------------+------------------+\n",
      "| MaryCalls(False) |           0.3000 |\n",
      "+------------------+------------------+\n"
     ]
    },
    {
     "name": "stderr",
     "output_type": "stream",
     "text": [
      "\n"
     ]
    }
   ],
   "source": [
    "\n",
    "# Case 1: Alarm = True\n",
    "JAM: DiscreteFactor = elim.query(variables = ['MaryCalls'], evidence = {'Alarm': 'True'})\n",
    "JAM_1 = elim.query(variables = ['MaryCalls'], evidence = {'Alarm': 'True', 'JohnCalls':'True'})\n",
    "JAM_2 = elim.query(variables = ['MaryCalls'], evidence = {'Alarm': 'True', 'JohnCalls':'False'})\n",
    "\n",
    "assert (JAM.values == JAM_1.values).all() and (JAM.values == JAM_2.values).all(), \"Check: there is independence between MaryCalls and JohnCalls when Alarm state is observed (Alarm = True)\"\n",
    "\n",
    "print(JAM)"
   ]
  },
  {
   "cell_type": "markdown",
   "metadata": {
    "lines_to_next_cell": 0,
    "title": "markdown"
   },
   "source": [
    "The probability below is:\n",
    "$$\n",
    "\\begin{align}\n",
    "P(\\text{MaryCalls} = \\text{True} \\; | \\; \\text{Alarm} = \\text{False})\n",
    "&= P(\\text{MaryCalls} = \\text{True} \\; | \\; \\text{Alarm} = \\text{False} \\; \\cap \\; \\text{JohnCalls} = \\text{True})  \\\\\n",
    "&= P(\\text{MaryCalls} = \\text{True} \\; | \\; \\text{Alarm} = \\text{False} \\; \\cap \\; \\text{JohnCalls} = \\text{False}) \\\\\n",
    "&= 0.7\n",
    "\\end{align}\n",
    "$$"
   ]
  },
  {
   "cell_type": "code",
   "execution_count": 63,
   "metadata": {
    "title": "codecell"
   },
   "outputs": [
    {
     "name": "stderr",
     "output_type": "stream",
     "text": [
      "\r",
      "  0%|          | 0/3 [00:00<?, ?it/s]"
     ]
    },
    {
     "name": "stderr",
     "output_type": "stream",
     "text": [
      "\r",
      "Finding Elimination Order: :   0%|          | 0/3 [00:00<?, ?it/s]"
     ]
    },
    {
     "name": "stderr",
     "output_type": "stream",
     "text": [
      "\r",
      "Finding Elimination Order: : 100%|██████████| 3/3 [00:00<00:00, 807.79it/s]"
     ]
    },
    {
     "name": "stderr",
     "output_type": "stream",
     "text": [
      "\n",
      "\r",
      "  0%|          | 0/3 [00:00<?, ?it/s]"
     ]
    },
    {
     "name": "stderr",
     "output_type": "stream",
     "text": [
      "\r",
      "Eliminating: Burglary:   0%|          | 0/3 [00:00<?, ?it/s]"
     ]
    },
    {
     "name": "stderr",
     "output_type": "stream",
     "text": [
      "\r",
      "Eliminating: JohnCalls:   0%|          | 0/3 [00:00<?, ?it/s]"
     ]
    },
    {
     "name": "stderr",
     "output_type": "stream",
     "text": [
      "\r",
      "Eliminating: Earthquake:   0%|          | 0/3 [00:00<?, ?it/s]"
     ]
    },
    {
     "name": "stderr",
     "output_type": "stream",
     "text": [
      "\r",
      "Eliminating: Earthquake: 100%|██████████| 3/3 [00:00<00:00, 154.67it/s]"
     ]
    },
    {
     "name": "stderr",
     "output_type": "stream",
     "text": [
      "\n",
      "\r",
      "  0%|          | 0/2 [00:00<?, ?it/s]"
     ]
    },
    {
     "name": "stderr",
     "output_type": "stream",
     "text": [
      "\r",
      "Finding Elimination Order: :   0%|          | 0/2 [00:00<?, ?it/s]"
     ]
    },
    {
     "name": "stderr",
     "output_type": "stream",
     "text": [
      "\r",
      "Finding Elimination Order: : 100%|██████████| 2/2 [00:00<00:00, 692.64it/s]"
     ]
    },
    {
     "name": "stderr",
     "output_type": "stream",
     "text": [
      "\n",
      "\r",
      "  0%|          | 0/2 [00:00<?, ?it/s]"
     ]
    },
    {
     "name": "stderr",
     "output_type": "stream",
     "text": [
      "\r",
      "Eliminating: Burglary:   0%|          | 0/2 [00:00<?, ?it/s]"
     ]
    },
    {
     "name": "stderr",
     "output_type": "stream",
     "text": [
      "\r",
      "Eliminating: Earthquake:   0%|          | 0/2 [00:00<?, ?it/s]"
     ]
    },
    {
     "name": "stderr",
     "output_type": "stream",
     "text": [
      "\r",
      "Eliminating: Earthquake: 100%|██████████| 2/2 [00:00<00:00, 584.16it/s]"
     ]
    },
    {
     "name": "stderr",
     "output_type": "stream",
     "text": [
      "\n"
     ]
    },
    {
     "name": "stderr",
     "output_type": "stream",
     "text": [
      "\r",
      "  0%|          | 0/2 [00:00<?, ?it/s]"
     ]
    },
    {
     "name": "stderr",
     "output_type": "stream",
     "text": [
      "\r",
      "Finding Elimination Order: :   0%|          | 0/2 [00:00<?, ?it/s]"
     ]
    },
    {
     "name": "stderr",
     "output_type": "stream",
     "text": [
      "\r",
      "Finding Elimination Order: : 100%|██████████| 2/2 [00:00<00:00, 1173.89it/s]"
     ]
    },
    {
     "name": "stderr",
     "output_type": "stream",
     "text": [
      "\n",
      "\r",
      "  0%|          | 0/2 [00:00<?, ?it/s]"
     ]
    },
    {
     "name": "stderr",
     "output_type": "stream",
     "text": [
      "\r",
      "Eliminating: Burglary:   0%|          | 0/2 [00:00<?, ?it/s]"
     ]
    },
    {
     "name": "stderr",
     "output_type": "stream",
     "text": [
      "\r",
      "Eliminating: Earthquake:   0%|          | 0/2 [00:00<?, ?it/s]"
     ]
    },
    {
     "name": "stderr",
     "output_type": "stream",
     "text": [
      "\r",
      "Eliminating: Earthquake: 100%|██████████| 2/2 [00:00<00:00, 509.82it/s]"
     ]
    },
    {
     "name": "stderr",
     "output_type": "stream",
     "text": [
      "\n"
     ]
    },
    {
     "name": "stdout",
     "output_type": "stream",
     "text": [
      "+------------------+------------------+\n",
      "| MaryCalls        |   phi(MaryCalls) |\n",
      "+==================+==================+\n",
      "| MaryCalls(True)  |           0.0100 |\n",
      "+------------------+------------------+\n",
      "| MaryCalls(False) |           0.9900 |\n",
      "+------------------+------------------+\n"
     ]
    }
   ],
   "source": [
    "\n",
    "# Case 2: Alarm = False\n",
    "JAM: DiscreteFactor = elim.query(variables = ['MaryCalls'], evidence = {'Alarm': 'False'})\n",
    "JAM_1 = elim.query(variables = ['MaryCalls'], evidence = {'Alarm': 'False', 'JohnCalls':'True'})\n",
    "JAM_2 = elim.query(variables = ['MaryCalls'], evidence = {'Alarm': 'False', 'JohnCalls':'False'})\n",
    "\n",
    "assert (JAM.values == JAM_1.values).all() and (JAM.values == JAM_2.values).all(), \"Check: there is independence between MaryCalls and JohnCalls when Alarm state is observed (Alarm = False)\"\n",
    "\n",
    "print(JAM)"
   ]
  },
  {
   "cell_type": "code",
   "execution_count": 64,
   "metadata": {
    "title": "codecell"
   },
   "outputs": [
    {
     "name": "stderr",
     "output_type": "stream",
     "text": [
      "\r",
      "  0%|          | 0/3 [00:00<?, ?it/s]"
     ]
    },
    {
     "name": "stderr",
     "output_type": "stream",
     "text": [
      "\r",
      "Finding Elimination Order: :   0%|          | 0/3 [00:00<?, ?it/s]"
     ]
    },
    {
     "name": "stderr",
     "output_type": "stream",
     "text": [
      "\r",
      "Finding Elimination Order: : 100%|██████████| 3/3 [00:00<00:00, 938.60it/s]"
     ]
    },
    {
     "name": "stderr",
     "output_type": "stream",
     "text": [
      "\n",
      "\r",
      "  0%|          | 0/3 [00:00<?, ?it/s]"
     ]
    },
    {
     "name": "stderr",
     "output_type": "stream",
     "text": [
      "\r",
      "Eliminating: Burglary:   0%|          | 0/3 [00:00<?, ?it/s]"
     ]
    },
    {
     "name": "stderr",
     "output_type": "stream",
     "text": [
      "\r",
      "Eliminating: MaryCalls:   0%|          | 0/3 [00:00<?, ?it/s]"
     ]
    },
    {
     "name": "stderr",
     "output_type": "stream",
     "text": [
      "\r",
      "Eliminating: Earthquake:   0%|          | 0/3 [00:00<?, ?it/s]"
     ]
    },
    {
     "name": "stderr",
     "output_type": "stream",
     "text": [
      "\r",
      "Eliminating: Earthquake: 100%|██████████| 3/3 [00:00<00:00, 479.22it/s]"
     ]
    },
    {
     "name": "stderr",
     "output_type": "stream",
     "text": [
      "\n",
      "\r",
      "  0%|          | 0/2 [00:00<?, ?it/s]"
     ]
    },
    {
     "name": "stderr",
     "output_type": "stream",
     "text": [
      "\r",
      "Finding Elimination Order: :   0%|          | 0/2 [00:00<?, ?it/s]"
     ]
    },
    {
     "name": "stderr",
     "output_type": "stream",
     "text": [
      "\r",
      "Finding Elimination Order: : 100%|██████████| 2/2 [00:00<00:00, 891.46it/s]"
     ]
    },
    {
     "name": "stderr",
     "output_type": "stream",
     "text": [
      "\n",
      "\r",
      "  0%|          | 0/2 [00:00<?, ?it/s]"
     ]
    },
    {
     "name": "stderr",
     "output_type": "stream",
     "text": [
      "\r",
      "Eliminating: Burglary:   0%|          | 0/2 [00:00<?, ?it/s]"
     ]
    },
    {
     "name": "stderr",
     "output_type": "stream",
     "text": [
      "\r",
      "Eliminating: Earthquake:   0%|          | 0/2 [00:00<?, ?it/s]"
     ]
    },
    {
     "name": "stderr",
     "output_type": "stream",
     "text": [
      "\r",
      "Eliminating: Earthquake: 100%|██████████| 2/2 [00:00<00:00, 541.93it/s]"
     ]
    },
    {
     "name": "stderr",
     "output_type": "stream",
     "text": [
      "\n",
      "\r",
      "  0%|          | 0/2 [00:00<?, ?it/s]"
     ]
    },
    {
     "name": "stderr",
     "output_type": "stream",
     "text": [
      "\r",
      "Finding Elimination Order: :   0%|          | 0/2 [00:00<?, ?it/s]"
     ]
    },
    {
     "name": "stderr",
     "output_type": "stream",
     "text": [
      "\r",
      "Finding Elimination Order: : 100%|██████████| 2/2 [00:00<00:00, 681.72it/s]"
     ]
    },
    {
     "name": "stderr",
     "output_type": "stream",
     "text": [
      "\n",
      "\r",
      "  0%|          | 0/2 [00:00<?, ?it/s]"
     ]
    },
    {
     "name": "stderr",
     "output_type": "stream",
     "text": [
      "\r",
      "Eliminating: Burglary:   0%|          | 0/2 [00:00<?, ?it/s]"
     ]
    },
    {
     "name": "stderr",
     "output_type": "stream",
     "text": [
      "\r",
      "Eliminating: Earthquake:   0%|          | 0/2 [00:00<?, ?it/s]"
     ]
    },
    {
     "name": "stderr",
     "output_type": "stream",
     "text": [
      "\r",
      "Eliminating: Earthquake: 100%|██████████| 2/2 [00:00<00:00, 400.01it/s]"
     ]
    },
    {
     "name": "stderr",
     "output_type": "stream",
     "text": [
      "\n"
     ]
    },
    {
     "name": "stdout",
     "output_type": "stream",
     "text": [
      "+------------------+------------------+\n",
      "| JohnCalls        |   phi(JohnCalls) |\n",
      "+==================+==================+\n",
      "| JohnCalls(True)  |           0.0500 |\n",
      "+------------------+------------------+\n",
      "| JohnCalls(False) |           0.9500 |\n",
      "+------------------+------------------+\n"
     ]
    }
   ],
   "source": [
    "# Symmetry:\n",
    "MAJ: DiscreteFactor = elim.query(variables = ['JohnCalls'], evidence = {'Alarm': 'False'})\n",
    "MAJ_1 = elim.query(variables = ['JohnCalls'], evidence = {'Alarm': 'False', 'MaryCalls':'True'})\n",
    "MAJ_2 = elim.query(variables = ['JohnCalls'], evidence = {'Alarm': 'False', 'MaryCalls':'False'})\n",
    "\n",
    "assert (MAJ.values == MAJ_1.values).all() and (MAJ.values == MAJ_2.values).all(), \"Check: there is independence between MaryCalls and JohnCalls when Alarm state is observed (Alarm = False)\"\n",
    "\n",
    "print(MAJ)\n",
    "\n",
    "\n"
   ]
  },
  {
   "cell_type": "markdown",
   "metadata": {
    "lines_to_next_cell": 2,
    "title": "markdown"
   },
   "source": [
    "### 4. Inter-Causal Reasoning in the Alarm Model\n",
    "For a common evidence model $A \\rightarrow B \\leftarrow C$, there are two cases:\n",
    "  * **Marginal Independence:** ($B$ unknown): When $B$ is unknown / unobserved, there is NO active trail between $A$ and $C$; they are independent. The probability of $A$ won't influence probability of $C$ (and vice versa) when $B$'s state is unknown.\n",
    "  * **Conditional Dependence:** ($B$ fixed): When $B$ is fixed, there IS an active trail between $A$ and $C$, meaning the probability of $A$ can influence probability of $C$ (and vice versa) when information about $B$ is observed / fixed."
   ]
  },
  {
   "cell_type": "code",
   "execution_count": 65,
   "metadata": {
    "lines_to_next_cell": 0,
    "title": "codecell"
   },
   "outputs": [
    {
     "data": {
      "image/svg+xml": [
       "<?xml version=\"1.0\" encoding=\"UTF-8\" standalone=\"no\"?>\n",
       "<!DOCTYPE svg PUBLIC \"-//W3C//DTD SVG 1.1//EN\"\n",
       " \"http://www.w3.org/Graphics/SVG/1.1/DTD/svg11.dtd\">\n",
       "<!-- Generated by graphviz version 2.38.0 (20140413.2041)\n",
       " -->\n",
       "<!-- Title: G Pages: 1 -->\n",
       "<svg width=\"214pt\" height=\"188pt\"\n",
       " viewBox=\"0.00 0.00 214.18 188.00\" xmlns=\"http://www.w3.org/2000/svg\" xmlns:xlink=\"http://www.w3.org/1999/xlink\">\n",
       "<g id=\"graph0\" class=\"graph\" transform=\"scale(1 1) rotate(0) translate(4 184)\">\n",
       "<title>G</title>\n",
       "<polygon fill=\"white\" stroke=\"none\" points=\"-4,4 -4,-184 210.185,-184 210.185,4 -4,4\"/>\n",
       "<!-- Burglary -->\n",
       "<g id=\"node1\" class=\"node\"><title>Burglary</title>\n",
       "<defs>\n",
       "<linearGradient id=\"l_0\" gradientUnits=\"userSpaceOnUse\" x1=\"41.8599\" y1=\"-144\" x2=\"41.8599\" y2=\"-180\" >\n",
       "<stop offset=\"0\" style=\"stop-color:#ceccff;stop-opacity:1.;\"/>\n",
       "<stop offset=\"1\" style=\"stop-color:white;stop-opacity:1.;\"/>\n",
       "</linearGradient>\n",
       "</defs>\n",
       "<ellipse fill=\"url(#l_0)\" stroke=\"#ff638d\" cx=\"41.8599\" cy=\"-162\" rx=\"41.7203\" ry=\"18\"/>\n",
       "<text text-anchor=\"middle\" x=\"41.8599\" y=\"-158.9\" font-family=\"Acme-Regular.ttf\" font-size=\"12.00\">Burglary</text>\n",
       "</g>\n",
       "<!-- Alarm -->\n",
       "<g id=\"node2\" class=\"node\"><title>Alarm</title>\n",
       "<defs>\n",
       "<linearGradient id=\"l_1\" gradientUnits=\"userSpaceOnUse\" x1=\"97.8599\" y1=\"-72\" x2=\"97.8599\" y2=\"-108\" >\n",
       "<stop offset=\"0\" style=\"stop-color:#ceccff;stop-opacity:1.;\"/>\n",
       "<stop offset=\"1\" style=\"stop-color:white;stop-opacity:1.;\"/>\n",
       "</linearGradient>\n",
       "</defs>\n",
       "<ellipse fill=\"url(#l_1)\" stroke=\"#ff638d\" cx=\"97.8599\" cy=\"-90\" rx=\"32.7527\" ry=\"18\"/>\n",
       "<text text-anchor=\"middle\" x=\"97.8599\" y=\"-86.9\" font-family=\"Acme-Regular.ttf\" font-size=\"12.00\">Alarm</text>\n",
       "</g>\n",
       "<!-- Burglary&#45;&gt;Alarm -->\n",
       "<g id=\"edge1\" class=\"edge\"><title>Burglary&#45;&gt;Alarm</title>\n",
       "<path fill=\"none\" stroke=\"#ff638d\" d=\"M54.8482,-144.765C62.0171,-135.804 71.05,-124.512 78.985,-114.594\"/>\n",
       "<polygon fill=\"#ff638d\" stroke=\"#ff638d\" points=\"81.8134,-116.661 85.3273,-106.666 76.3473,-112.288 81.8134,-116.661\"/>\n",
       "</g>\n",
       "<!-- JohnCalls -->\n",
       "<g id=\"node3\" class=\"node\"><title>JohnCalls</title>\n",
       "<defs>\n",
       "<linearGradient id=\"l_2\" gradientUnits=\"userSpaceOnUse\" x1=\"44.8599\" y1=\"-1.77636e-14\" x2=\"44.8599\" y2=\"-36\" >\n",
       "<stop offset=\"0\" style=\"stop-color:#ceccff;stop-opacity:1.;\"/>\n",
       "<stop offset=\"1\" style=\"stop-color:white;stop-opacity:1.;\"/>\n",
       "</linearGradient>\n",
       "</defs>\n",
       "<ellipse fill=\"url(#l_2)\" stroke=\"#ff638d\" cx=\"44.8599\" cy=\"-18\" rx=\"43.9143\" ry=\"18\"/>\n",
       "<text text-anchor=\"middle\" x=\"44.8599\" y=\"-14.9\" font-family=\"Acme-Regular.ttf\" font-size=\"12.00\">JohnCalls</text>\n",
       "</g>\n",
       "<!-- Alarm&#45;&gt;JohnCalls -->\n",
       "<g id=\"edge2\" class=\"edge\"><title>Alarm&#45;&gt;JohnCalls</title>\n",
       "<path fill=\"none\" stroke=\"#ff638d\" d=\"M85.8334,-73.1159C79.2193,-64.3803 70.8699,-53.3528 63.4366,-43.5352\"/>\n",
       "<polygon fill=\"#ff638d\" stroke=\"#ff638d\" points=\"66.0335,-41.1669 57.2066,-35.307 60.4527,-45.3923 66.0335,-41.1669\"/>\n",
       "</g>\n",
       "<!-- MaryCalls -->\n",
       "<g id=\"node4\" class=\"node\"><title>MaryCalls</title>\n",
       "<defs>\n",
       "<linearGradient id=\"l_3\" gradientUnits=\"userSpaceOnUse\" x1=\"151.86\" y1=\"-1.77636e-14\" x2=\"151.86\" y2=\"-36\" >\n",
       "<stop offset=\"0\" style=\"stop-color:#ceccff;stop-opacity:1.;\"/>\n",
       "<stop offset=\"1\" style=\"stop-color:white;stop-opacity:1.;\"/>\n",
       "</linearGradient>\n",
       "</defs>\n",
       "<ellipse fill=\"url(#l_3)\" stroke=\"#ff638d\" cx=\"151.86\" cy=\"-18\" rx=\"45.6069\" ry=\"18\"/>\n",
       "<text text-anchor=\"middle\" x=\"151.86\" y=\"-14.9\" font-family=\"Acme-Regular.ttf\" font-size=\"12.00\">MaryCalls</text>\n",
       "</g>\n",
       "<!-- Alarm&#45;&gt;MaryCalls -->\n",
       "<g id=\"edge3\" class=\"edge\"><title>Alarm&#45;&gt;MaryCalls</title>\n",
       "<path fill=\"none\" stroke=\"#ff638d\" d=\"M110.113,-73.1159C116.92,-64.292 125.531,-53.1298 133.162,-43.238\"/>\n",
       "<polygon fill=\"#ff638d\" stroke=\"#ff638d\" points=\"135.943,-45.3627 139.28,-35.307 130.401,-41.087 135.943,-45.3627\"/>\n",
       "</g>\n",
       "<!-- Earthquake -->\n",
       "<g id=\"node5\" class=\"node\"><title>Earthquake</title>\n",
       "<defs>\n",
       "<linearGradient id=\"l_4\" gradientUnits=\"userSpaceOnUse\" x1=\"153.86\" y1=\"-144\" x2=\"153.86\" y2=\"-180\" >\n",
       "<stop offset=\"0\" style=\"stop-color:#ceccff;stop-opacity:1.;\"/>\n",
       "<stop offset=\"1\" style=\"stop-color:white;stop-opacity:1.;\"/>\n",
       "</linearGradient>\n",
       "</defs>\n",
       "<ellipse fill=\"url(#l_4)\" stroke=\"#ff638d\" cx=\"153.86\" cy=\"-162\" rx=\"52.1504\" ry=\"18\"/>\n",
       "<text text-anchor=\"middle\" x=\"153.86\" y=\"-158.9\" font-family=\"Acme-Regular.ttf\" font-size=\"12.00\">Earthquake</text>\n",
       "</g>\n",
       "<!-- Earthquake&#45;&gt;Alarm -->\n",
       "<g id=\"edge4\" class=\"edge\"><title>Earthquake&#45;&gt;Alarm</title>\n",
       "<path fill=\"none\" stroke=\"#ff638d\" d=\"M140.589,-144.411C133.584,-135.655 124.861,-124.751 117.126,-115.082\"/>\n",
       "<polygon fill=\"#ff638d\" stroke=\"#ff638d\" points=\"119.63,-112.61 110.65,-106.988 114.164,-116.983 119.63,-112.61\"/>\n",
       "</g>\n",
       "</g>\n",
       "</svg>\n"
      ],
      "text/plain": [
       "<graphviz.dot.Digraph at 0x7f15ebb3b150>"
      ]
     },
     "execution_count": 65,
     "metadata": {},
     "output_type": "execute_result"
    }
   ],
   "source": [
    "pgmpyToGraph(alarmModel)"
   ]
  },
  {
   "cell_type": "markdown",
   "metadata": {
    "lines_to_next_cell": 0,
    "title": "markdown"
   },
   "source": [
    "$\\color{MediumVioletRed}{\\text{Case 1: Marginal Independence (for Common Evidence Model)}}$\n",
    "\n",
    "$$\n",
    "\\color{DeepSkyBlue}{ \\text{Alarm (fixed): }\\;\\;\\;\\;\\;\\;\\;\\; \\text{Burglary} \\; \\bot \\; \\text{Earthquake} \\; | \\; \\text{Alarm}}\n",
    "$$\n",
    "\n",
    "When the effect node `Alarm` is unknown / unobserved, there is NO an active trail between `Burglary` and `Earthquake`. In other words, there is a local marginal independence between `Burglary` and `Earthquake` when `Alarm` is unobserved. This means the probability of `Burglary` won't influence the probability of `Earthquake` (and vice versa) when `Alarm`'s state is unknown.\n"
   ]
  },
  {
   "cell_type": "markdown",
   "metadata": {
    "lines_to_next_cell": 0,
    "title": "markdown"
   },
   "source": [
    "**Verify:** Using Active Trails"
   ]
  },
  {
   "cell_type": "code",
   "execution_count": 66,
   "metadata": {
    "title": "codecell"
   },
   "outputs": [
    {
     "name": "stdout",
     "output_type": "stream",
     "text": [
      "Burglary --> Burglary\n",
      "Burglary --> Alarm\n",
      "Burglary --> MaryCalls\n",
      "Burglary --> JohnCalls\n",
      "Earthquake --> Alarm\n",
      "Earthquake --> MaryCalls\n",
      "Earthquake --> JohnCalls\n",
      "Earthquake --> Earthquake\n"
     ]
    }
   ],
   "source": [
    "assert not alarmModel.is_active_trail(start = 'Burglary', end = 'Earthquake', observed = None)\n",
    "\n",
    "showActiveTrails(model = alarmModel, variables = ['Burglary', 'Earthquake'])"
   ]
  },
  {
   "cell_type": "markdown",
   "metadata": {
    "lines_to_next_cell": 0,
    "title": "markdown"
   },
   "source": [
    "**Verify:** Using Independencies"
   ]
  },
  {
   "cell_type": "code",
   "execution_count": 67,
   "metadata": {
    "lines_to_next_cell": 2,
    "title": "codecell"
   },
   "outputs": [
    {
     "name": "stdout",
     "output_type": "stream",
     "text": [
      "                       INDEPENDENCIES TABLE                      \n",
      "Fancy Notation                .....     Regular Notation         \n",
      "-----------------------------------------------------------------\n",
      "(Burglary _|_ Earthquake)     .....     (Burglary _|_ Earthquake)\n",
      "None\n",
      "                       INDEPENDENCIES TABLE                      \n",
      "Fancy Notation                .....     Regular Notation         \n",
      "-----------------------------------------------------------------\n",
      "(Earthquake _|_ Burglary)     .....     (Earthquake _|_ Burglary)\n",
      "None\n"
     ]
    }
   ],
   "source": [
    "indepBurgEarth = Independencies(['Burglary', 'Earthquake'])\n",
    "\n",
    "assert indepBurgEarth == alarmModel.local_independencies('Burglary'), 'Check 1: Burglary and Earthquake are marginally independent'\n",
    "\n",
    "assert indepBurgEarth == alarmModel.local_independencies('Earthquake'), 'Check 2: Burglary and Earthquake are marginally independent'\n",
    "\n",
    "\n",
    "# See: MaryCalls and Burglary are marginally independent :\n",
    "print(indepSynonymTable(model = alarmModel, queryNode = 'Burglary'))\n",
    "print(indepSynonymTable(model = alarmModel, queryNode = 'Earthquake'))"
   ]
  },
  {
   "cell_type": "markdown",
   "metadata": {
    "lines_to_next_cell": 0,
    "title": "markdown"
   },
   "source": [
    "**Verify:** Using Probabilities Method"
   ]
  },
  {
   "cell_type": "markdown",
   "metadata": {
    "lines_to_next_cell": 0,
    "title": "markdown"
   },
   "source": [
    "The probability below is:\n",
    "$$\n",
    "\\begin{align}\n",
    "P(\\text{Earthquake} = \\text{True})\n",
    "&= P(\\text{Earthquake} = \\text{True} \\; | \\; \\text{Burglary} = \\text{True})  \\\\\n",
    "&= P(\\text{Earthquake} = \\text{True} \\; | \\; \\text{Burglary} = \\text{False}) \\\\\n",
    "&= 0.7\n",
    "\\end{align}\n",
    "$$"
   ]
  },
  {
   "cell_type": "code",
   "execution_count": 68,
   "metadata": {
    "title": "codecell"
   },
   "outputs": [
    {
     "name": "stderr",
     "output_type": "stream",
     "text": [
      "\r",
      "  0%|          | 0/4 [00:00<?, ?it/s]"
     ]
    },
    {
     "name": "stderr",
     "output_type": "stream",
     "text": [
      "\r",
      "Finding Elimination Order: :   0%|          | 0/4 [00:00<?, ?it/s]"
     ]
    },
    {
     "name": "stderr",
     "output_type": "stream",
     "text": [
      "\r",
      "Finding Elimination Order: : 100%|██████████| 4/4 [00:00<00:00, 1298.75it/s]"
     ]
    },
    {
     "name": "stderr",
     "output_type": "stream",
     "text": [
      "\n",
      "\r",
      "  0%|          | 0/4 [00:00<?, ?it/s]"
     ]
    },
    {
     "name": "stderr",
     "output_type": "stream",
     "text": [
      "\r",
      "Eliminating: Burglary:   0%|          | 0/4 [00:00<?, ?it/s]"
     ]
    },
    {
     "name": "stderr",
     "output_type": "stream",
     "text": [
      "\r",
      "Eliminating: MaryCalls:   0%|          | 0/4 [00:00<?, ?it/s]"
     ]
    },
    {
     "name": "stderr",
     "output_type": "stream",
     "text": [
      "\r",
      "Eliminating: Alarm:   0%|          | 0/4 [00:00<?, ?it/s]    "
     ]
    },
    {
     "name": "stderr",
     "output_type": "stream",
     "text": [
      "\r",
      "Eliminating: JohnCalls:   0%|          | 0/4 [00:00<?, ?it/s]"
     ]
    },
    {
     "name": "stderr",
     "output_type": "stream",
     "text": [
      "\r",
      "Eliminating: JohnCalls: 100%|██████████| 4/4 [00:00<00:00, 308.50it/s]"
     ]
    },
    {
     "name": "stderr",
     "output_type": "stream",
     "text": [
      "\n"
     ]
    },
    {
     "name": "stderr",
     "output_type": "stream",
     "text": [
      "\r",
      "  0%|          | 0/3 [00:00<?, ?it/s]"
     ]
    },
    {
     "name": "stderr",
     "output_type": "stream",
     "text": [
      "\r",
      "Finding Elimination Order: :   0%|          | 0/3 [00:00<?, ?it/s]"
     ]
    },
    {
     "name": "stderr",
     "output_type": "stream",
     "text": [
      "\r",
      "Finding Elimination Order: : 100%|██████████| 3/3 [00:00<00:00, 1142.14it/s]"
     ]
    },
    {
     "name": "stderr",
     "output_type": "stream",
     "text": [
      "\n",
      "\r",
      "  0%|          | 0/3 [00:00<?, ?it/s]"
     ]
    },
    {
     "name": "stderr",
     "output_type": "stream",
     "text": [
      "\r",
      "Eliminating: MaryCalls:   0%|          | 0/3 [00:00<?, ?it/s]"
     ]
    },
    {
     "name": "stderr",
     "output_type": "stream",
     "text": [
      "\r",
      "Eliminating: Alarm:   0%|          | 0/3 [00:00<?, ?it/s]    "
     ]
    },
    {
     "name": "stderr",
     "output_type": "stream",
     "text": [
      "\r",
      "Eliminating: JohnCalls:   0%|          | 0/3 [00:00<?, ?it/s]"
     ]
    },
    {
     "name": "stderr",
     "output_type": "stream",
     "text": [
      "\r",
      "Eliminating: JohnCalls: 100%|██████████| 3/3 [00:00<00:00, 264.32it/s]"
     ]
    },
    {
     "name": "stderr",
     "output_type": "stream",
     "text": [
      "\n"
     ]
    },
    {
     "name": "stderr",
     "output_type": "stream",
     "text": [
      "\r",
      "  0%|          | 0/3 [00:00<?, ?it/s]"
     ]
    },
    {
     "name": "stderr",
     "output_type": "stream",
     "text": [
      "\r",
      "Finding Elimination Order: :   0%|          | 0/3 [00:00<?, ?it/s]"
     ]
    },
    {
     "name": "stderr",
     "output_type": "stream",
     "text": [
      "\r",
      "Finding Elimination Order: : 100%|██████████| 3/3 [00:00<00:00, 1338.61it/s]"
     ]
    },
    {
     "name": "stderr",
     "output_type": "stream",
     "text": [
      "\n",
      "\r",
      "  0%|          | 0/3 [00:00<?, ?it/s]"
     ]
    },
    {
     "name": "stderr",
     "output_type": "stream",
     "text": [
      "\r",
      "Eliminating: MaryCalls:   0%|          | 0/3 [00:00<?, ?it/s]"
     ]
    },
    {
     "name": "stderr",
     "output_type": "stream",
     "text": [
      "\r",
      "Eliminating: Alarm:   0%|          | 0/3 [00:00<?, ?it/s]    "
     ]
    },
    {
     "name": "stderr",
     "output_type": "stream",
     "text": [
      "\r",
      "Eliminating: JohnCalls:   0%|          | 0/3 [00:00<?, ?it/s]"
     ]
    },
    {
     "name": "stderr",
     "output_type": "stream",
     "text": [
      "\r",
      "Eliminating: JohnCalls: 100%|██████████| 3/3 [00:00<00:00, 312.70it/s]"
     ]
    },
    {
     "name": "stdout",
     "output_type": "stream",
     "text": [
      "+-------------------+-------------------+\n",
      "| Earthquake        |   phi(Earthquake) |\n",
      "+===================+===================+\n",
      "| Earthquake(True)  |            0.0020 |\n",
      "+-------------------+-------------------+\n",
      "| Earthquake(False) |            0.9980 |\n",
      "+-------------------+-------------------+\n"
     ]
    },
    {
     "name": "stderr",
     "output_type": "stream",
     "text": [
      "\n"
     ]
    }
   ],
   "source": [
    "\n",
    "BE: DiscreteFactor = elim.query(variables = ['Earthquake'], evidence = None)\n",
    "BE_1 = elim.query(variables = ['Earthquake'], evidence = {'Burglary':'True'})\n",
    "BE_2 = elim.query(variables = ['Earthquake'], evidence = {'Burglary': 'False'})\n",
    "\n",
    "# Using np.allclose instead of exact equals sign (there must be some numerical inconsistency ... otherwise they wouldn't be different at all! BAE.values[0] = 0.0019999999 while BAE_1.values[0] = 0.002)\n",
    "assert np.allclose(BE.values, BE_1.values) and np.allclose(BE.values, BE_2.values), \"Check: there is marginal independence between Earthquake and Burglary when Alarm state is NOT observed\"\n",
    "\n",
    "print(BE)\n",
    "\n"
   ]
  },
  {
   "cell_type": "markdown",
   "metadata": {
    "title": "markdown"
   },
   "source": [
    "$\\color{MediumVioletRed}{\\text{Case 2: Conditional Dependence (for Common Evidence Model)}}$\n",
    "\n",
    "$$\n",
    "\\color{Green}{ \\text{Alarm (unknown): }\\;\\;\\;\\;\\;\\;\\;\\;\\; \\text{Burglary} \\longleftarrow \\text{Alarm} \\longrightarrow \\text{Earthquake}}\n",
    "$$\n",
    "When the `Alarm`'s state is known (fixed / observed), then there IS an active trail between `Burglary` and `Earthquake`. In other words, `Burglary` and `Earthquake` are dependent when `Alarm`'s state is observed. This means the probability of `Burglary` can influence probability of `Earthquake` (and vice versa) when `Alarm`'s state is observed."
   ]
  },
  {
   "cell_type": "markdown",
   "metadata": {
    "lines_to_next_cell": 0,
    "title": "markdown"
   },
   "source": [
    "**Verify:** Using Active Trails"
   ]
  },
  {
   "cell_type": "code",
   "execution_count": 69,
   "metadata": {
    "lines_to_next_cell": 2,
    "title": "codecell"
   },
   "outputs": [
    {
     "name": "stdout",
     "output_type": "stream",
     "text": [
      "Burglary --> Burglary\n",
      "Burglary --> Earthquake\n",
      "Earthquake --> Burglary\n",
      "Earthquake --> Earthquake\n"
     ]
    }
   ],
   "source": [
    "assert alarmModel.is_active_trail(start = 'Burglary', end = 'Earthquake',  observed = 'Alarm')\n",
    "\n",
    "showActiveTrails(model = alarmModel, variables = ['Burglary', 'Earthquake'], observed = 'Alarm')"
   ]
  },
  {
   "cell_type": "markdown",
   "metadata": {
    "lines_to_next_cell": 0,
    "title": "markdown"
   },
   "source": [
    "**Verify:** Using Probabilities\n",
    "##### Inter-Causal Reasoning For Common Evidence Model:"
   ]
  },
  {
   "cell_type": "code",
   "execution_count": 70,
   "metadata": {
    "lines_to_next_cell": 0,
    "title": "codecell"
   },
   "outputs": [
    {
     "name": "stderr",
     "output_type": "stream",
     "text": [
      "\r",
      "  0%|          | 0/3 [00:00<?, ?it/s]"
     ]
    },
    {
     "name": "stderr",
     "output_type": "stream",
     "text": [
      "\r",
      "Finding Elimination Order: :   0%|          | 0/3 [00:00<?, ?it/s]"
     ]
    },
    {
     "name": "stderr",
     "output_type": "stream",
     "text": [
      "\r",
      "Finding Elimination Order: : 100%|██████████| 3/3 [00:00<00:00, 1481.04it/s]"
     ]
    },
    {
     "name": "stderr",
     "output_type": "stream",
     "text": [
      "\n",
      "\r",
      "  0%|          | 0/3 [00:00<?, ?it/s]"
     ]
    },
    {
     "name": "stderr",
     "output_type": "stream",
     "text": [
      "\r",
      "Eliminating: Burglary:   0%|          | 0/3 [00:00<?, ?it/s]"
     ]
    },
    {
     "name": "stderr",
     "output_type": "stream",
     "text": [
      "\r",
      "Eliminating: MaryCalls:   0%|          | 0/3 [00:00<?, ?it/s]"
     ]
    },
    {
     "name": "stderr",
     "output_type": "stream",
     "text": [
      "\r",
      "Eliminating: JohnCalls:   0%|          | 0/3 [00:00<?, ?it/s]"
     ]
    },
    {
     "name": "stderr",
     "output_type": "stream",
     "text": [
      "\r",
      "Eliminating: JohnCalls: 100%|██████████| 3/3 [00:00<00:00, 623.19it/s]"
     ]
    },
    {
     "name": "stdout",
     "output_type": "stream",
     "text": [
      "+-------------------+-------------------+\n",
      "| Earthquake        |   phi(Earthquake) |\n",
      "+===================+===================+\n",
      "| Earthquake(True)  |            0.0020 |\n",
      "+-------------------+-------------------+\n",
      "| Earthquake(False) |            0.9980 |\n",
      "+-------------------+-------------------+\n"
     ]
    },
    {
     "name": "stderr",
     "output_type": "stream",
     "text": [
      "\n"
     ]
    }
   ],
   "source": [
    "\n",
    "# Case 1: Alarm = True\n",
    "BAE: DiscreteFactor = elim.query(variables = ['Earthquake'], evidence = {'Alarm': 'True'})\n",
    "print(BAE)"
   ]
  },
  {
   "cell_type": "code",
   "execution_count": 71,
   "metadata": {
    "lines_to_next_cell": 0,
    "title": "codecell"
   },
   "outputs": [
    {
     "name": "stderr",
     "output_type": "stream",
     "text": [
      "\r",
      "  0%|          | 0/2 [00:00<?, ?it/s]"
     ]
    },
    {
     "name": "stderr",
     "output_type": "stream",
     "text": [
      "\r",
      "Finding Elimination Order: :   0%|          | 0/2 [00:00<?, ?it/s]"
     ]
    },
    {
     "name": "stderr",
     "output_type": "stream",
     "text": [
      "\r",
      "Finding Elimination Order: : 100%|██████████| 2/2 [00:00<00:00, 1455.34it/s]"
     ]
    },
    {
     "name": "stderr",
     "output_type": "stream",
     "text": [
      "\n",
      "\r",
      "  0%|          | 0/2 [00:00<?, ?it/s]"
     ]
    },
    {
     "name": "stderr",
     "output_type": "stream",
     "text": [
      "\r",
      "Eliminating: MaryCalls:   0%|          | 0/2 [00:00<?, ?it/s]"
     ]
    },
    {
     "name": "stderr",
     "output_type": "stream",
     "text": [
      "\r",
      "Eliminating: JohnCalls:   0%|          | 0/2 [00:00<?, ?it/s]"
     ]
    },
    {
     "name": "stderr",
     "output_type": "stream",
     "text": [
      "\r",
      "Eliminating: JohnCalls: 100%|██████████| 2/2 [00:00<00:00, 370.28it/s]"
     ]
    },
    {
     "name": "stdout",
     "output_type": "stream",
     "text": [
      "+-------------------+-------------------+\n",
      "| Earthquake        |   phi(Earthquake) |\n",
      "+===================+===================+\n",
      "| Earthquake(True)  |            0.0020 |\n",
      "+-------------------+-------------------+\n",
      "| Earthquake(False) |            0.9980 |\n",
      "+-------------------+-------------------+\n"
     ]
    },
    {
     "name": "stderr",
     "output_type": "stream",
     "text": [
      "\n"
     ]
    }
   ],
   "source": [
    "BAE_1: DiscreteFactor = elim.query(variables = ['Earthquake'], evidence = {'Burglary':'True', 'Alarm': 'True'})\n",
    "print(BAE_1)"
   ]
  },
  {
   "cell_type": "markdown",
   "metadata": {
    "lines_to_next_cell": 0,
    "title": "markdown"
   },
   "source": [
    "Below we see that when there was no`Burglary` (cause) and `Alarm` rang, there is a higher probability of `Earthquake` (other cause) compared to when there was a `Burglary` and `Alarm` rang:\n",
    "$$\n",
    "P(\\text{Earthquake} = \\text{True} \\; | \\; \\text{Burglary} = \\text{False} \\; \\cap \\; \\text{Alarm} = \\text{True}) = 0.3676\n",
    "$$\n",
    "* NOTE: This is like in page 41 of Korb book (inverse of \"explaining away\")"
   ]
  },
  {
   "cell_type": "code",
   "execution_count": 72,
   "metadata": {
    "title": "codecell"
   },
   "outputs": [
    {
     "name": "stderr",
     "output_type": "stream",
     "text": [
      "\r",
      "  0%|          | 0/2 [00:00<?, ?it/s]"
     ]
    },
    {
     "name": "stderr",
     "output_type": "stream",
     "text": [
      "\r",
      "Finding Elimination Order: :   0%|          | 0/2 [00:00<?, ?it/s]"
     ]
    },
    {
     "name": "stderr",
     "output_type": "stream",
     "text": [
      "\r",
      "Finding Elimination Order: : 100%|██████████| 2/2 [00:00<00:00, 1115.36it/s]"
     ]
    },
    {
     "name": "stderr",
     "output_type": "stream",
     "text": [
      "\n",
      "\r",
      "  0%|          | 0/2 [00:00<?, ?it/s]"
     ]
    },
    {
     "name": "stderr",
     "output_type": "stream",
     "text": [
      "\r",
      "Eliminating: MaryCalls:   0%|          | 0/2 [00:00<?, ?it/s]"
     ]
    },
    {
     "name": "stderr",
     "output_type": "stream",
     "text": [
      "\r",
      "Eliminating: JohnCalls:   0%|          | 0/2 [00:00<?, ?it/s]"
     ]
    },
    {
     "name": "stderr",
     "output_type": "stream",
     "text": [
      "\r",
      "Eliminating: JohnCalls: 100%|██████████| 2/2 [00:00<00:00, 359.70it/s]"
     ]
    },
    {
     "name": "stderr",
     "output_type": "stream",
     "text": [
      "\n"
     ]
    },
    {
     "name": "stdout",
     "output_type": "stream",
     "text": [
      "+-------------------+-------------------+\n",
      "| Earthquake        |   phi(Earthquake) |\n",
      "+===================+===================+\n",
      "| Earthquake(True)  |            0.3676 |\n",
      "+-------------------+-------------------+\n",
      "| Earthquake(False) |            0.6324 |\n",
      "+-------------------+-------------------+\n"
     ]
    }
   ],
   "source": [
    "BAE_2: DiscreteFactor = elim.query(variables = ['Earthquake'], evidence = {'Burglary':'False', 'Alarm': 'True'})\n",
    "print(BAE_2)"
   ]
  },
  {
   "cell_type": "code",
   "execution_count": 73,
   "metadata": {
    "title": "codecell"
   },
   "outputs": [],
   "source": [
    "assert (BAE_2.values != BAE.values).all(), 'Check: there is dependency between Earthquake and Burglary when Alarm state is observed (True)'"
   ]
  },
  {
   "cell_type": "markdown",
   "metadata": {
    "lines_to_next_cell": 0,
    "title": "markdown"
   },
   "source": [
    "The probability below is:\n",
    "$$\n",
    "P(\\text{Earthquake} = \\text{True} \\; | \\;\\text{Alarm} = \\text{False}) = 0.0017\n",
    "$$"
   ]
  },
  {
   "cell_type": "code",
   "execution_count": 74,
   "metadata": {
    "lines_to_next_cell": 0,
    "title": "codecell"
   },
   "outputs": [
    {
     "name": "stderr",
     "output_type": "stream",
     "text": [
      "\r",
      "  0%|          | 0/3 [00:00<?, ?it/s]"
     ]
    },
    {
     "name": "stderr",
     "output_type": "stream",
     "text": [
      "\r",
      "Finding Elimination Order: :   0%|          | 0/3 [00:00<?, ?it/s]"
     ]
    },
    {
     "name": "stderr",
     "output_type": "stream",
     "text": [
      "\r",
      "Finding Elimination Order: : 100%|██████████| 3/3 [00:00<00:00, 1530.40it/s]"
     ]
    },
    {
     "name": "stderr",
     "output_type": "stream",
     "text": [
      "\n",
      "\r",
      "  0%|          | 0/3 [00:00<?, ?it/s]"
     ]
    },
    {
     "name": "stderr",
     "output_type": "stream",
     "text": [
      "\r",
      "Eliminating: Burglary:   0%|          | 0/3 [00:00<?, ?it/s]"
     ]
    },
    {
     "name": "stderr",
     "output_type": "stream",
     "text": [
      "\r",
      "Eliminating: MaryCalls:   0%|          | 0/3 [00:00<?, ?it/s]"
     ]
    },
    {
     "name": "stderr",
     "output_type": "stream",
     "text": [
      "\r",
      "Eliminating: JohnCalls:   0%|          | 0/3 [00:00<?, ?it/s]"
     ]
    },
    {
     "name": "stderr",
     "output_type": "stream",
     "text": [
      "\r",
      "Eliminating: JohnCalls: 100%|██████████| 3/3 [00:00<00:00, 665.23it/s]"
     ]
    },
    {
     "name": "stdout",
     "output_type": "stream",
     "text": [
      "+-------------------+-------------------+\n",
      "| Earthquake        |   phi(Earthquake) |\n",
      "+===================+===================+\n",
      "| Earthquake(True)  |            0.0017 |\n",
      "+-------------------+-------------------+\n",
      "| Earthquake(False) |            0.9983 |\n",
      "+-------------------+-------------------+\n"
     ]
    },
    {
     "name": "stderr",
     "output_type": "stream",
     "text": [
      "\n"
     ]
    }
   ],
   "source": [
    "# Case 2: Alarm = False\n",
    "BAE: DiscreteFactor = elim.query(variables = ['Earthquake'], evidence = {'Alarm': 'False'})\n",
    "print(BAE)"
   ]
  },
  {
   "cell_type": "markdown",
   "metadata": {
    "lines_to_next_cell": 0,
    "title": "markdown"
   },
   "source": [
    "The probability below is:\n",
    "$$\n",
    "P(\\text{Earthquake} = \\text{True} \\; | \\; \\text{Burglary} = \\text{True} \\; \\cap \\; \\text{Alarm} = \\text{False}) = 0.0017\n",
    "$$"
   ]
  },
  {
   "cell_type": "code",
   "execution_count": 75,
   "metadata": {
    "lines_to_next_cell": 0,
    "title": "codecell"
   },
   "outputs": [
    {
     "name": "stderr",
     "output_type": "stream",
     "text": [
      "\r",
      "  0%|          | 0/2 [00:00<?, ?it/s]"
     ]
    },
    {
     "name": "stderr",
     "output_type": "stream",
     "text": [
      "\r",
      "Finding Elimination Order: :   0%|          | 0/2 [00:00<?, ?it/s]"
     ]
    },
    {
     "name": "stderr",
     "output_type": "stream",
     "text": [
      "\r",
      "Finding Elimination Order: : 100%|██████████| 2/2 [00:00<00:00, 758.40it/s]"
     ]
    },
    {
     "name": "stderr",
     "output_type": "stream",
     "text": [
      "\n",
      "\r",
      "  0%|          | 0/2 [00:00<?, ?it/s]"
     ]
    },
    {
     "name": "stderr",
     "output_type": "stream",
     "text": [
      "\r",
      "Eliminating: MaryCalls:   0%|          | 0/2 [00:00<?, ?it/s]"
     ]
    },
    {
     "name": "stderr",
     "output_type": "stream",
     "text": [
      "\r",
      "Eliminating: JohnCalls:   0%|          | 0/2 [00:00<?, ?it/s]"
     ]
    },
    {
     "name": "stderr",
     "output_type": "stream",
     "text": [
      "\r",
      "Eliminating: JohnCalls: 100%|██████████| 2/2 [00:00<00:00, 618.22it/s]"
     ]
    },
    {
     "name": "stdout",
     "output_type": "stream",
     "text": [
      "+-------------------+-------------------+\n",
      "| Earthquake        |   phi(Earthquake) |\n",
      "+===================+===================+\n",
      "| Earthquake(True)  |            0.0017 |\n",
      "+-------------------+-------------------+\n",
      "| Earthquake(False) |            0.9983 |\n",
      "+-------------------+-------------------+\n"
     ]
    },
    {
     "name": "stderr",
     "output_type": "stream",
     "text": [
      "\n"
     ]
    }
   ],
   "source": [
    "BAE_1: DiscreteFactor = elim.query(variables = ['Earthquake'], evidence = {'Burglary':'True', 'Alarm': 'False'})\n",
    "print(BAE_1)"
   ]
  },
  {
   "cell_type": "markdown",
   "metadata": {
    "lines_to_next_cell": 0,
    "title": "markdown"
   },
   "source": [
    "Below we see that when there was no `Burglary` (cause) and `Alarm` did not ring, there is a lower probability of `Earthquake` (other cause) compared to when there was a `Burglary` and `Alarm` didn't ring:\n",
    "$$\n",
    "P(\\text{Earthquake} = \\text{True} \\; | \\; \\text{Burglary} = \\text{False} \\; \\cap \\; \\text{Alarm} = \\text{False}) = 0.0014\n",
    "$$"
   ]
  },
  {
   "cell_type": "code",
   "execution_count": 76,
   "metadata": {
    "lines_to_next_cell": 0,
    "title": "codecell"
   },
   "outputs": [
    {
     "name": "stderr",
     "output_type": "stream",
     "text": [
      "\r",
      "  0%|          | 0/2 [00:00<?, ?it/s]"
     ]
    },
    {
     "name": "stderr",
     "output_type": "stream",
     "text": [
      "\r",
      "Finding Elimination Order: :   0%|          | 0/2 [00:00<?, ?it/s]"
     ]
    },
    {
     "name": "stderr",
     "output_type": "stream",
     "text": [
      "\r",
      "Finding Elimination Order: : 100%|██████████| 2/2 [00:00<00:00, 1447.56it/s]"
     ]
    },
    {
     "name": "stderr",
     "output_type": "stream",
     "text": [
      "\n",
      "\r",
      "  0%|          | 0/2 [00:00<?, ?it/s]"
     ]
    },
    {
     "name": "stderr",
     "output_type": "stream",
     "text": [
      "\r",
      "Eliminating: MaryCalls:   0%|          | 0/2 [00:00<?, ?it/s]"
     ]
    },
    {
     "name": "stderr",
     "output_type": "stream",
     "text": [
      "\r",
      "Eliminating: JohnCalls:   0%|          | 0/2 [00:00<?, ?it/s]"
     ]
    },
    {
     "name": "stderr",
     "output_type": "stream",
     "text": [
      "\r",
      "Eliminating: JohnCalls: 100%|██████████| 2/2 [00:00<00:00, 773.57it/s]"
     ]
    },
    {
     "name": "stdout",
     "output_type": "stream",
     "text": [
      "+-------------------+-------------------+\n",
      "| Earthquake        |   phi(Earthquake) |\n",
      "+===================+===================+\n",
      "| Earthquake(True)  |            0.0014 |\n",
      "+-------------------+-------------------+\n",
      "| Earthquake(False) |            0.9986 |\n",
      "+-------------------+-------------------+\n"
     ]
    },
    {
     "name": "stderr",
     "output_type": "stream",
     "text": [
      "\n"
     ]
    }
   ],
   "source": [
    "BAE_2: DiscreteFactor = elim.query(variables = ['Earthquake'], evidence = {'Burglary':'False', 'Alarm': 'False'})\n",
    "print(BAE_2)"
   ]
  },
  {
   "cell_type": "code",
   "execution_count": 77,
   "metadata": {
    "title": "codecell"
   },
   "outputs": [],
   "source": [
    "assert (BAE_2.values != BAE.values).all(), 'Check: there is dependency between Earthquake and Burglary when Alarm state is observed (False)'"
   ]
  }
 ],
 "metadata": {
  "jupytext": {
   "cell_metadata_filter": "title,-all"
  },
  "kernelspec": {
   "display_name": "pybayesian_env",
   "language": "python",
   "name": "pybayesian_env"
  },
  "language_info": {
   "codemirror_mode": {
    "name": "ipython",
    "version": 3
   },
   "file_extension": ".py",
   "mimetype": "text/x-python",
   "name": "python",
   "nbconvert_exporter": "python",
   "pygments_lexer": "ipython3",
   "version": "3.7.6"
  }
 },
 "nbformat": 4,
 "nbformat_minor": 4
}
