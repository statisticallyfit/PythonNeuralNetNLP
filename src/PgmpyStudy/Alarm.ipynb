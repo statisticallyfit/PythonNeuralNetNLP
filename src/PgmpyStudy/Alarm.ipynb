{
 "cells": [
  {
   "cell_type": "code",
   "execution_count": 1,
   "metadata": {
    "title": "markdown"
   },
   "outputs": [],
   "source": [
    "# [Source for tutorial](https://github.com/pgmpy/pgmpy/blob/dev/examples/Alarm.ipynb)\n",
    "#\n",
    "# Alarm Bayesian Network\n",
    "# Creating the Alarm Bayesian network using pgmpy and doing some simple queries (mentioned in Bayesian Artificial Intelligence, Section 2.5.1: )"
   ]
  },
  {
   "cell_type": "code",
   "execution_count": 2,
   "metadata": {
    "lines_to_next_cell": 0,
    "title": "markdown"
   },
   "outputs": [],
   "source": [
    "# Doing path-setting:"
   ]
  },
  {
   "cell_type": "code",
   "execution_count": 3,
   "metadata": {
    "lines_to_next_cell": 2,
    "title": "codecell"
   },
   "outputs": [
    {
     "name": "stdout",
     "output_type": "stream",
     "text": [
      "curPath =  /development/projects/statisticallyfit/github/learningmathstat/PythonNeuralNetNLP/src/PgmpyStudy/ \n",
      "\n",
      "dataPath =  /development/projects/statisticallyfit/github/learningmathstat/PythonNeuralNetNLP/src/PgmpyStudy/data/ \n",
      "\n",
      "imagePath =  /development/projects/statisticallyfit/github/learningmathstat/PythonNeuralNetNLP/src/PgmpyStudy/images/ \n",
      "\n"
     ]
    },
    {
     "data": {
      "text/plain": [
       "['/development/projects/statisticallyfit/github/learningmathstat/PythonNeuralNetNLP/src/PgmpyStudy',\n",
       " '/development/bin/python/conda3_ana/envs/pybayesian_env/lib/python37.zip',\n",
       " '/development/bin/python/conda3_ana/envs/pybayesian_env/lib/python3.7',\n",
       " '/development/bin/python/conda3_ana/envs/pybayesian_env/lib/python3.7/lib-dynload',\n",
       " '',\n",
       " '/development/bin/python/conda3_ana/envs/pybayesian_env/lib/python3.7/site-packages',\n",
       " '/development/bin/python/conda3_ana/envs/pybayesian_env/lib/python3.7/site-packages/IPython/extensions',\n",
       " '/home/statisticallyfit/.ipython',\n",
       " '/development/projects/statisticallyfit/github/learningmathstat/PythonNeuralNetNLP/src/utils/',\n",
       " '/development/projects/statisticallyfit/github/learningmathstat/PythonNeuralNetNLP/src/PgmpyStudy/']"
      ]
     },
     "execution_count": 3,
     "metadata": {},
     "output_type": "execute_result"
    }
   ],
   "source": [
    "import os\n",
    "import sys\n",
    "from typing import *\n",
    "from typing import Union, List, Any\n",
    "\n",
    "from networkx.classes.reportviews import OutEdgeDataView, OutEdgeView\n",
    "from pgmpy.independencies import Independencies\n",
    "import itertools\n",
    "\n",
    "os.getcwd()\n",
    "# Setting the baseline:\n",
    "os.chdir('/development/projects/statisticallyfit/github/learningmathstat/PythonNeuralNetNLP')\n",
    "\n",
    "\n",
    "curPath: str = os.getcwd() + \"/src/PgmpyStudy/\"\n",
    "\n",
    "dataPath: str = curPath + \"data/\"\n",
    "\n",
    "imagePath: str = curPath + 'images/'\n",
    "\n",
    "print(\"curPath = \", curPath, \"\\n\")\n",
    "print(\"dataPath = \", dataPath, \"\\n\")\n",
    "print('imagePath = ', imagePath, \"\\n\")\n",
    "\n",
    "\n",
    "# Making files in utils folder visible here: to import my local print functions for nn.Module objects\n",
    "sys.path.append(os.getcwd() + \"/src/utils/\")\n",
    "# For being able to import files within PgmpyStudy folder\n",
    "sys.path.append(curPath)\n",
    "\n",
    "sys.path"
   ]
  },
  {
   "cell_type": "code",
   "execution_count": 4,
   "metadata": {
    "lines_to_next_cell": 0,
    "title": "markdown"
   },
   "outputs": [],
   "source": [
    "# Science imports:"
   ]
  },
  {
   "cell_type": "code",
   "execution_count": 5,
   "metadata": {
    "lines_to_next_cell": 0,
    "title": "codecell"
   },
   "outputs": [],
   "source": [
    "from pgmpy.models import BayesianModel\n",
    "from pgmpy.inference import VariableElimination\n",
    "from pgmpy.factors.discrete import TabularCPD\n",
    "from pgmpy.factors.discrete import JointProbabilityDistribution\n",
    "\n",
    "from src.utils.GraphvizUtil import *\n",
    "from src.utils.NetworkUtil import *"
   ]
  },
  {
   "cell_type": "code",
   "execution_count": 6,
   "metadata": {
    "lines_to_next_cell": 0,
    "title": "markdown"
   },
   "outputs": [],
   "source": [
    "# ## Problem Statement: 2.5.1 Earthquake\n",
    "# **Example statement:** You have a new burglar alarm installed. It reliably detects burglary, but also responds to minor earthquakes. Two neighbors, John and Mary, promise to call the police when they hear the alarm. John always calls when he hears the alarm, but sometimes confuses the alarm with the phone ringing and calls then also. On the other hand, Mary likes loud music and sometimes doesn't hear the alarm. Given evidence about who has and hasn't called, you'd like to estimate the probability of a burglary alarm (from Pearl (1988)).\n",
    "#"
   ]
  },
  {
   "cell_type": "code",
   "execution_count": 7,
   "metadata": {
    "title": "codecell"
   },
   "outputs": [
    {
     "name": "stdout",
     "output_type": "stream",
     "text": [
      "+-----------------+-------+\n",
      "| Burglary(False) | 0.999 |\n",
      "+-----------------+-------+\n",
      "| Burglary(True)  | 0.001 |\n",
      "+-----------------+-------+\n",
      "+-------------------+-------+\n",
      "| Earthquake(True)  | 0.002 |\n",
      "+-------------------+-------+\n",
      "| Earthquake(False) | 0.998 |\n",
      "+-------------------+-------+\n",
      "+--------------+------------------+-------------------+------------------+-------------------+\n",
      "| Burglary     | Burglary(True)   | Burglary(True)    | Burglary(False)  | Burglary(False)   |\n",
      "+--------------+------------------+-------------------+------------------+-------------------+\n",
      "| Earthquake   | Earthquake(True) | Earthquake(False) | Earthquake(True) | Earthquake(False) |\n",
      "+--------------+------------------+-------------------+------------------+-------------------+\n",
      "| Alarm(True)  | 0.95             | 0.94              | 0.29             | 0.001             |\n",
      "+--------------+------------------+-------------------+------------------+-------------------+\n",
      "| Alarm(False) | 0.05             | 0.06              | 0.71             | 0.999             |\n",
      "+--------------+------------------+-------------------+------------------+-------------------+\n",
      "+------------------+-------------+--------------+\n",
      "| Alarm            | Alarm(True) | Alarm(False) |\n",
      "+------------------+-------------+--------------+\n",
      "| JohnCalls(True)  | 0.9         | 0.05         |\n",
      "+------------------+-------------+--------------+\n",
      "| JohnCalls(False) | 0.1         | 0.95         |\n",
      "+------------------+-------------+--------------+\n",
      "+------------------+-------------+--------------+\n",
      "| Alarm            | Alarm(True) | Alarm(False) |\n",
      "+------------------+-------------+--------------+\n",
      "| MaryCalls(True)  | 0.7         | 0.01         |\n",
      "+------------------+-------------+--------------+\n",
      "| MaryCalls(False) | 0.3         | 0.99         |\n",
      "+------------------+-------------+--------------+\n"
     ]
    }
   ],
   "source": [
    "# Defining the network structure:\n",
    "alarmModel: BayesianModel = BayesianModel([('Burglary', 'Alarm'),\n",
    "                                           ('Earthquake', 'Alarm'),\n",
    "                                           ('Alarm', 'JohnCalls'),\n",
    "                                           ('Alarm', 'MaryCalls')])\n",
    "\n",
    "# Defining parameters using CPT\n",
    "cpdBurglary: TabularCPD = TabularCPD(variable = 'Burglary', variable_card = 2,\n",
    "                                     values = [[0.999, 0.001]],\n",
    "                                     state_names = {'Burglary' : ['False', 'True']})\n",
    "print(cpdBurglary)\n",
    "cpdEarthquake: TabularCPD = TabularCPD(variable = 'Earthquake', variable_card = 2,\n",
    "                                       values = [[0.002, 0.998]],\n",
    "                                       state_names = {'Earthquake' : ['True', 'False']})\n",
    "\n",
    "print(cpdEarthquake)\n",
    "\n",
    "cpdAlarm: TabularCPD = TabularCPD(variable = 'Alarm', variable_card = 2,\n",
    "                                  values = [[0.95, 0.94, 0.29, 0.001],\n",
    "                                            [0.05, 0.06, 0.71, 0.999]],\n",
    "                                  evidence = ['Burglary', 'Earthquake'], evidence_card = [2,2],\n",
    "                                  state_names = {'Alarm': ['True', 'False'], 'Burglary':['True','False'],'Earthquake': ['True', 'False']})\n",
    "print(cpdAlarm)\n",
    "\n",
    "cpdJohnCalls: TabularCPD = TabularCPD(variable = 'JohnCalls', variable_card = 2,\n",
    "                                      values = [[0.90, 0.05],\n",
    "                                                [0.10, 0.95]],\n",
    "                                      evidence = ['Alarm'], evidence_card = [2],\n",
    "                                      state_names = {'JohnCalls': ['True', 'False'], 'Alarm' : ['True', 'False']})\n",
    "print(cpdJohnCalls)\n",
    "\n",
    "cpdMaryCalls: TabularCPD = TabularCPD(variable = 'MaryCalls', variable_card = 2,\n",
    "                                      values = [[0.70, 0.01],\n",
    "                                                [0.30, 0.99]],\n",
    "                                      evidence = ['Alarm'], evidence_card = [2],\n",
    "                                      state_names = {'MaryCalls': ['True', 'False'], 'Alarm' : ['True', 'False']})\n",
    "print(cpdMaryCalls)\n",
    "\n",
    "\n",
    "alarmModel.add_cpds(cpdBurglary, cpdEarthquake, cpdAlarm, cpdJohnCalls, cpdMaryCalls)\n",
    "\n",
    "assert alarmModel.check_model()"
   ]
  },
  {
   "cell_type": "code",
   "execution_count": 8,
   "metadata": {
    "lines_to_next_cell": 2,
    "title": "codecell"
   },
   "outputs": [
    {
     "data": {
      "image/svg+xml": [
       "<?xml version=\"1.0\" encoding=\"UTF-8\" standalone=\"no\"?>\n",
       "<!DOCTYPE svg PUBLIC \"-//W3C//DTD SVG 1.1//EN\"\n",
       " \"http://www.w3.org/Graphics/SVG/1.1/DTD/svg11.dtd\">\n",
       "<!-- Generated by graphviz version 2.38.0 (20140413.2041)\n",
       " -->\n",
       "<!-- Title: G Pages: 1 -->\n",
       "<svg width=\"547pt\" height=\"358pt\"\n",
       " viewBox=\"0.00 0.00 546.50 358.00\" xmlns=\"http://www.w3.org/2000/svg\" xmlns:xlink=\"http://www.w3.org/1999/xlink\">\n",
       "<g id=\"graph0\" class=\"graph\" transform=\"scale(1 1) rotate(0) translate(4 354)\">\n",
       "<title>G</title>\n",
       "<polygon fill=\"white\" stroke=\"none\" points=\"-4,4 -4,-354 542.5,-354 542.5,4 -4,4\"/>\n",
       "<!-- Burglary -->\n",
       "<g id=\"node1\" class=\"node\"><title>Burglary</title>\n",
       "<defs>\n",
       "<linearGradient id=\"l_0\" gradientUnits=\"userSpaceOnUse\" x1=\"146\" y1=\"-314\" x2=\"146\" y2=\"-350\" >\n",
       "<stop offset=\"0\" style=\"stop-color:#ceccff;stop-opacity:1.;\"/>\n",
       "<stop offset=\"1\" style=\"stop-color:white;stop-opacity:1.;\"/>\n",
       "</linearGradient>\n",
       "</defs>\n",
       "<ellipse fill=\"url(#l_0)\" stroke=\"#ff638d\" cx=\"146\" cy=\"-332\" rx=\"41.7203\" ry=\"18\"/>\n",
       "<text text-anchor=\"middle\" x=\"146\" y=\"-328.9\" font-family=\"Acme-Regular.ttf\" font-size=\"12.00\">Burglary</text>\n",
       "</g>\n",
       "<!-- Alarm -->\n",
       "<g id=\"node2\" class=\"node\"><title>Alarm</title>\n",
       "<defs>\n",
       "<linearGradient id=\"l_1\" gradientUnits=\"userSpaceOnUse\" x1=\"264\" y1=\"-235\" x2=\"264\" y2=\"-271\" >\n",
       "<stop offset=\"0\" style=\"stop-color:#ceccff;stop-opacity:1.;\"/>\n",
       "<stop offset=\"1\" style=\"stop-color:white;stop-opacity:1.;\"/>\n",
       "</linearGradient>\n",
       "</defs>\n",
       "<ellipse fill=\"url(#l_1)\" stroke=\"#ff638d\" cx=\"264\" cy=\"-253\" rx=\"32.7527\" ry=\"18\"/>\n",
       "<text text-anchor=\"middle\" x=\"264\" y=\"-249.9\" font-family=\"Acme-Regular.ttf\" font-size=\"12.00\">Alarm</text>\n",
       "</g>\n",
       "<!-- Burglary&#45;&gt;Alarm -->\n",
       "<g id=\"edge1\" class=\"edge\"><title>Burglary&#45;&gt;Alarm</title>\n",
       "<path fill=\"none\" stroke=\"#ff638d\" d=\"M168.195,-316.517C187.122,-304.166 214.462,-286.326 235.096,-272.861\"/>\n",
       "<polygon fill=\"#ff638d\" stroke=\"#ff638d\" points=\"237.022,-275.784 243.484,-267.388 233.196,-269.921 237.022,-275.784\"/>\n",
       "</g>\n",
       "<!-- cpd_Burglary -->\n",
       "<g id=\"node6\" class=\"node\"><title>cpd_Burglary</title>\n",
       "<polygon fill=\"white\" stroke=\"none\" points=\"213,-278 69,-278 69,-228 213,-228 213,-278\"/>\n",
       "<polygon fill=\"none\" stroke=\"gray\" points=\"77,-260 77,-274 205,-274 205,-260 77,-260\"/>\n",
       "<text text-anchor=\"start\" x=\"125.5\" y=\"-265.4\" font-family=\"Acme-Regular.ttf\" font-size=\"7.00\">Burglary</text>\n",
       "<polygon fill=\"none\" stroke=\"gray\" points=\"77,-246 77,-260 142,-260 142,-246 77,-246\"/>\n",
       "<text text-anchor=\"start\" x=\"80\" y=\"-251.4\" font-family=\"Acme-Regular.ttf\" font-size=\"7.00\">Burglary = False</text>\n",
       "<polygon fill=\"none\" stroke=\"gray\" points=\"142,-246 142,-260 205,-260 205,-246 142,-246\"/>\n",
       "<text text-anchor=\"start\" x=\"145\" y=\"-251.4\" font-family=\"Acme-Regular.ttf\" font-size=\"7.00\">Burglary = True</text>\n",
       "<polygon fill=\"none\" stroke=\"gray\" points=\"77,-232 77,-246 142,-246 142,-232 77,-232\"/>\n",
       "<text text-anchor=\"start\" x=\"99\" y=\"-237.4\" font-family=\"Acme-Regular.ttf\" font-size=\"7.00\">0.999</text>\n",
       "<polygon fill=\"none\" stroke=\"gray\" points=\"142,-232 142,-246 205,-246 205,-232 142,-232\"/>\n",
       "<text text-anchor=\"start\" x=\"163\" y=\"-237.4\" font-family=\"Acme-Regular.ttf\" font-size=\"7.00\">0.001</text>\n",
       "</g>\n",
       "<!-- Burglary&#45;&gt;cpd_Burglary -->\n",
       "<!-- JohnCalls -->\n",
       "<g id=\"node3\" class=\"node\"><title>JohnCalls</title>\n",
       "<defs>\n",
       "<linearGradient id=\"l_2\" gradientUnits=\"userSpaceOnUse\" x1=\"112\" y1=\"-128\" x2=\"112\" y2=\"-164\" >\n",
       "<stop offset=\"0\" style=\"stop-color:#ceccff;stop-opacity:1.;\"/>\n",
       "<stop offset=\"1\" style=\"stop-color:white;stop-opacity:1.;\"/>\n",
       "</linearGradient>\n",
       "</defs>\n",
       "<ellipse fill=\"url(#l_2)\" stroke=\"#ff638d\" cx=\"112\" cy=\"-146\" rx=\"43.9143\" ry=\"18\"/>\n",
       "<text text-anchor=\"middle\" x=\"112\" y=\"-142.9\" font-family=\"Acme-Regular.ttf\" font-size=\"12.00\">JohnCalls</text>\n",
       "</g>\n",
       "<!-- Alarm&#45;&gt;JohnCalls -->\n",
       "<g id=\"edge2\" class=\"edge\"><title>Alarm&#45;&gt;JohnCalls</title>\n",
       "<path fill=\"none\" stroke=\"#ff638d\" d=\"M244.44,-238.488C218.46,-220.541 172.322,-188.669 141.944,-167.685\"/>\n",
       "<polygon fill=\"#ff638d\" stroke=\"#ff638d\" points=\"143.66,-164.617 133.443,-161.813 139.681,-170.376 143.66,-164.617\"/>\n",
       "</g>\n",
       "<!-- MaryCalls -->\n",
       "<g id=\"node4\" class=\"node\"><title>MaryCalls</title>\n",
       "<defs>\n",
       "<linearGradient id=\"l_3\" gradientUnits=\"userSpaceOnUse\" x1=\"264\" y1=\"-128\" x2=\"264\" y2=\"-164\" >\n",
       "<stop offset=\"0\" style=\"stop-color:#ceccff;stop-opacity:1.;\"/>\n",
       "<stop offset=\"1\" style=\"stop-color:white;stop-opacity:1.;\"/>\n",
       "</linearGradient>\n",
       "</defs>\n",
       "<ellipse fill=\"url(#l_3)\" stroke=\"#ff638d\" cx=\"264\" cy=\"-146\" rx=\"45.6069\" ry=\"18\"/>\n",
       "<text text-anchor=\"middle\" x=\"264\" y=\"-142.9\" font-family=\"Acme-Regular.ttf\" font-size=\"12.00\">MaryCalls</text>\n",
       "</g>\n",
       "<!-- Alarm&#45;&gt;MaryCalls -->\n",
       "<g id=\"edge3\" class=\"edge\"><title>Alarm&#45;&gt;MaryCalls</title>\n",
       "<path fill=\"none\" stroke=\"#ff638d\" d=\"M264,-234.661C264,-218.225 264,-193.278 264,-174.194\"/>\n",
       "<polygon fill=\"#ff638d\" stroke=\"#ff638d\" points=\"267.5,-174.016 264,-164.016 260.5,-174.016 267.5,-174.016\"/>\n",
       "</g>\n",
       "<!-- cpd_Alarm -->\n",
       "<g id=\"node7\" class=\"node\"><title>cpd_Alarm</title>\n",
       "<polygon fill=\"white\" stroke=\"none\" points=\"538.5,-192 327.5,-192 327.5,-100 538.5,-100 538.5,-192\"/>\n",
       "<polygon fill=\"none\" stroke=\"gray\" points=\"336,-174 336,-188 531,-188 531,-174 336,-174\"/>\n",
       "<text text-anchor=\"start\" x=\"422.5\" y=\"-179.4\" font-family=\"Acme-Regular.ttf\" font-size=\"7.00\">Alarm</text>\n",
       "<polygon fill=\"none\" stroke=\"gray\" points=\"336,-160 336,-174 373,-174 373,-160 336,-160\"/>\n",
       "<text text-anchor=\"start\" x=\"339\" y=\"-165.4\" font-family=\"Acme-Regular.ttf\" font-size=\"7.00\">Burglary</text>\n",
       "<polygon fill=\"none\" stroke=\"gray\" points=\"373,-160 373,-174 421,-174 421,-160 373,-160\"/>\n",
       "<text text-anchor=\"start\" x=\"376\" y=\"-165.4\" font-family=\"Acme-Regular.ttf\" font-size=\"7.00\">Earthquake</text>\n",
       "<polygon fill=\"none\" stroke=\"gray\" points=\"421,-160 421,-174 475,-174 475,-160 421,-160\"/>\n",
       "<text text-anchor=\"start\" x=\"424\" y=\"-165.4\" font-family=\"Acme-Regular.ttf\" font-size=\"7.00\">Alarm = True</text>\n",
       "<polygon fill=\"none\" stroke=\"gray\" points=\"475,-160 475,-174 531,-174 531,-160 475,-160\"/>\n",
       "<text text-anchor=\"start\" x=\"478\" y=\"-165.4\" font-family=\"Acme-Regular.ttf\" font-size=\"7.00\">Alarm = False</text>\n",
       "<polygon fill=\"none\" stroke=\"gray\" points=\"336,-146 336,-160 373,-160 373,-146 336,-146\"/>\n",
       "<text text-anchor=\"start\" x=\"346.5\" y=\"-151.4\" font-family=\"Acme-Regular.ttf\" font-size=\"7.00\">True</text>\n",
       "<polygon fill=\"none\" stroke=\"gray\" points=\"373,-146 373,-160 421,-160 421,-146 373,-146\"/>\n",
       "<text text-anchor=\"start\" x=\"389\" y=\"-151.4\" font-family=\"Acme-Regular.ttf\" font-size=\"7.00\">True</text>\n",
       "<polygon fill=\"none\" stroke=\"gray\" points=\"421,-146 421,-160 475,-160 475,-146 421,-146\"/>\n",
       "<text text-anchor=\"start\" x=\"440\" y=\"-151.4\" font-family=\"Acme-Regular.ttf\" font-size=\"7.00\">0.95</text>\n",
       "<polygon fill=\"none\" stroke=\"gray\" points=\"475,-146 475,-160 531,-160 531,-146 475,-146\"/>\n",
       "<text text-anchor=\"start\" x=\"495\" y=\"-151.4\" font-family=\"Acme-Regular.ttf\" font-size=\"7.00\">0.05</text>\n",
       "<polygon fill=\"none\" stroke=\"gray\" points=\"336,-132 336,-146 373,-146 373,-132 336,-132\"/>\n",
       "<text text-anchor=\"start\" x=\"346.5\" y=\"-137.4\" font-family=\"Acme-Regular.ttf\" font-size=\"7.00\">True</text>\n",
       "<polygon fill=\"none\" stroke=\"gray\" points=\"373,-132 373,-146 421,-146 421,-132 373,-132\"/>\n",
       "<text text-anchor=\"start\" x=\"387.5\" y=\"-137.4\" font-family=\"Acme-Regular.ttf\" font-size=\"7.00\">False</text>\n",
       "<polygon fill=\"none\" stroke=\"gray\" points=\"421,-132 421,-146 475,-146 475,-132 421,-132\"/>\n",
       "<text text-anchor=\"start\" x=\"440\" y=\"-137.4\" font-family=\"Acme-Regular.ttf\" font-size=\"7.00\">0.94</text>\n",
       "<polygon fill=\"none\" stroke=\"gray\" points=\"475,-132 475,-146 531,-146 531,-132 475,-132\"/>\n",
       "<text text-anchor=\"start\" x=\"495\" y=\"-137.4\" font-family=\"Acme-Regular.ttf\" font-size=\"7.00\">0.06</text>\n",
       "<polygon fill=\"none\" stroke=\"gray\" points=\"336,-118 336,-132 373,-132 373,-118 336,-118\"/>\n",
       "<text text-anchor=\"start\" x=\"345\" y=\"-123.4\" font-family=\"Acme-Regular.ttf\" font-size=\"7.00\">False</text>\n",
       "<polygon fill=\"none\" stroke=\"gray\" points=\"373,-118 373,-132 421,-132 421,-118 373,-118\"/>\n",
       "<text text-anchor=\"start\" x=\"389\" y=\"-123.4\" font-family=\"Acme-Regular.ttf\" font-size=\"7.00\">True</text>\n",
       "<polygon fill=\"none\" stroke=\"gray\" points=\"421,-118 421,-132 475,-132 475,-118 421,-118\"/>\n",
       "<text text-anchor=\"start\" x=\"440\" y=\"-123.4\" font-family=\"Acme-Regular.ttf\" font-size=\"7.00\">0.29</text>\n",
       "<polygon fill=\"none\" stroke=\"gray\" points=\"475,-118 475,-132 531,-132 531,-118 475,-118\"/>\n",
       "<text text-anchor=\"start\" x=\"495\" y=\"-123.4\" font-family=\"Acme-Regular.ttf\" font-size=\"7.00\">0.71</text>\n",
       "<polygon fill=\"none\" stroke=\"gray\" points=\"336,-104 336,-118 373,-118 373,-104 336,-104\"/>\n",
       "<text text-anchor=\"start\" x=\"345\" y=\"-109.4\" font-family=\"Acme-Regular.ttf\" font-size=\"7.00\">False</text>\n",
       "<polygon fill=\"none\" stroke=\"gray\" points=\"373,-104 373,-118 421,-118 421,-104 373,-104\"/>\n",
       "<text text-anchor=\"start\" x=\"387.5\" y=\"-109.4\" font-family=\"Acme-Regular.ttf\" font-size=\"7.00\">False</text>\n",
       "<polygon fill=\"none\" stroke=\"gray\" points=\"421,-104 421,-118 475,-118 475,-104 421,-104\"/>\n",
       "<text text-anchor=\"start\" x=\"437.5\" y=\"-109.4\" font-family=\"Acme-Regular.ttf\" font-size=\"7.00\">0.001</text>\n",
       "<polygon fill=\"none\" stroke=\"gray\" points=\"475,-104 475,-118 531,-118 531,-104 475,-104\"/>\n",
       "<text text-anchor=\"start\" x=\"492.5\" y=\"-109.4\" font-family=\"Acme-Regular.ttf\" font-size=\"7.00\">0.999</text>\n",
       "</g>\n",
       "<!-- Alarm&#45;&gt;cpd_Alarm -->\n",
       "<!-- cpd_JohnCalls -->\n",
       "<g id=\"node9\" class=\"node\"><title>cpd_JohnCalls</title>\n",
       "<polygon fill=\"white\" stroke=\"none\" points=\"178,-64 1.42109e-14,-64 1.42109e-14,-0 178,-0 178,-64\"/>\n",
       "<polygon fill=\"none\" stroke=\"gray\" points=\"8,-46 8,-60 170,-60 170,-46 8,-46\"/>\n",
       "<text text-anchor=\"start\" x=\"72\" y=\"-51.4\" font-family=\"Acme-Regular.ttf\" font-size=\"7.00\">JohnCalls</text>\n",
       "<polygon fill=\"none\" stroke=\"gray\" points=\"8,-32 8,-46 36,-46 36,-32 8,-32\"/>\n",
       "<text text-anchor=\"start\" x=\"11\" y=\"-37.4\" font-family=\"Acme-Regular.ttf\" font-size=\"7.00\">Alarm</text>\n",
       "<polygon fill=\"none\" stroke=\"gray\" points=\"36,-32 36,-46 102,-46 102,-32 36,-32\"/>\n",
       "<text text-anchor=\"start\" x=\"39\" y=\"-37.4\" font-family=\"Acme-Regular.ttf\" font-size=\"7.00\">JohnCalls = True</text>\n",
       "<polygon fill=\"none\" stroke=\"gray\" points=\"102,-32 102,-46 170,-46 170,-32 102,-32\"/>\n",
       "<text text-anchor=\"start\" x=\"105\" y=\"-37.4\" font-family=\"Acme-Regular.ttf\" font-size=\"7.00\">JohnCalls = False</text>\n",
       "<polygon fill=\"none\" stroke=\"gray\" points=\"8,-18 8,-32 36,-32 36,-18 8,-18\"/>\n",
       "<text text-anchor=\"start\" x=\"14\" y=\"-23.4\" font-family=\"Acme-Regular.ttf\" font-size=\"7.00\">True</text>\n",
       "<polygon fill=\"none\" stroke=\"gray\" points=\"36,-18 36,-32 102,-32 102,-18 36,-18\"/>\n",
       "<text text-anchor=\"start\" x=\"63\" y=\"-23.4\" font-family=\"Acme-Regular.ttf\" font-size=\"7.00\">0.9</text>\n",
       "<polygon fill=\"none\" stroke=\"gray\" points=\"102,-18 102,-32 170,-32 170,-18 102,-18\"/>\n",
       "<text text-anchor=\"start\" x=\"130\" y=\"-23.4\" font-family=\"Acme-Regular.ttf\" font-size=\"7.00\">0.1</text>\n",
       "<polygon fill=\"none\" stroke=\"gray\" points=\"8,-4 8,-18 36,-18 36,-4 8,-4\"/>\n",
       "<text text-anchor=\"start\" x=\"12.5\" y=\"-9.4\" font-family=\"Acme-Regular.ttf\" font-size=\"7.00\">False</text>\n",
       "<polygon fill=\"none\" stroke=\"gray\" points=\"36,-4 36,-18 102,-18 102,-4 36,-4\"/>\n",
       "<text text-anchor=\"start\" x=\"61\" y=\"-9.4\" font-family=\"Acme-Regular.ttf\" font-size=\"7.00\">0.05</text>\n",
       "<polygon fill=\"none\" stroke=\"gray\" points=\"102,-4 102,-18 170,-18 170,-4 102,-4\"/>\n",
       "<text text-anchor=\"start\" x=\"128\" y=\"-9.4\" font-family=\"Acme-Regular.ttf\" font-size=\"7.00\">0.95</text>\n",
       "</g>\n",
       "<!-- JohnCalls&#45;&gt;cpd_JohnCalls -->\n",
       "<!-- cpd_MaryCalls -->\n",
       "<g id=\"node10\" class=\"node\"><title>cpd_MaryCalls</title>\n",
       "<polygon fill=\"white\" stroke=\"none\" points=\"377.5,-64 196.5,-64 196.5,-0 377.5,-0 377.5,-64\"/>\n",
       "<polygon fill=\"none\" stroke=\"gray\" points=\"205,-46 205,-60 370,-60 370,-46 205,-46\"/>\n",
       "<text text-anchor=\"start\" x=\"270\" y=\"-51.4\" font-family=\"Acme-Regular.ttf\" font-size=\"7.00\">MaryCalls</text>\n",
       "<polygon fill=\"none\" stroke=\"gray\" points=\"205,-32 205,-46 233,-46 233,-32 205,-32\"/>\n",
       "<text text-anchor=\"start\" x=\"208\" y=\"-37.4\" font-family=\"Acme-Regular.ttf\" font-size=\"7.00\">Alarm</text>\n",
       "<polygon fill=\"none\" stroke=\"gray\" points=\"233,-32 233,-46 300,-46 300,-32 233,-32\"/>\n",
       "<text text-anchor=\"start\" x=\"236\" y=\"-37.4\" font-family=\"Acme-Regular.ttf\" font-size=\"7.00\">MaryCalls = True</text>\n",
       "<polygon fill=\"none\" stroke=\"gray\" points=\"300,-32 300,-46 370,-46 370,-32 300,-32\"/>\n",
       "<text text-anchor=\"start\" x=\"303\" y=\"-37.4\" font-family=\"Acme-Regular.ttf\" font-size=\"7.00\">MaryCalls = False</text>\n",
       "<polygon fill=\"none\" stroke=\"gray\" points=\"205,-18 205,-32 233,-32 233,-18 205,-18\"/>\n",
       "<text text-anchor=\"start\" x=\"211\" y=\"-23.4\" font-family=\"Acme-Regular.ttf\" font-size=\"7.00\">True</text>\n",
       "<polygon fill=\"none\" stroke=\"gray\" points=\"233,-18 233,-32 300,-32 300,-18 233,-18\"/>\n",
       "<text text-anchor=\"start\" x=\"260.5\" y=\"-23.4\" font-family=\"Acme-Regular.ttf\" font-size=\"7.00\">0.7</text>\n",
       "<polygon fill=\"none\" stroke=\"gray\" points=\"300,-18 300,-32 370,-32 370,-18 300,-18\"/>\n",
       "<text text-anchor=\"start\" x=\"329\" y=\"-23.4\" font-family=\"Acme-Regular.ttf\" font-size=\"7.00\">0.3</text>\n",
       "<polygon fill=\"none\" stroke=\"gray\" points=\"205,-4 205,-18 233,-18 233,-4 205,-4\"/>\n",
       "<text text-anchor=\"start\" x=\"209.5\" y=\"-9.4\" font-family=\"Acme-Regular.ttf\" font-size=\"7.00\">False</text>\n",
       "<polygon fill=\"none\" stroke=\"gray\" points=\"233,-4 233,-18 300,-18 300,-4 233,-4\"/>\n",
       "<text text-anchor=\"start\" x=\"258.5\" y=\"-9.4\" font-family=\"Acme-Regular.ttf\" font-size=\"7.00\">0.01</text>\n",
       "<polygon fill=\"none\" stroke=\"gray\" points=\"300,-4 300,-18 370,-18 370,-4 300,-4\"/>\n",
       "<text text-anchor=\"start\" x=\"327\" y=\"-9.4\" font-family=\"Acme-Regular.ttf\" font-size=\"7.00\">0.99</text>\n",
       "</g>\n",
       "<!-- MaryCalls&#45;&gt;cpd_MaryCalls -->\n",
       "<!-- Earthquake -->\n",
       "<g id=\"node5\" class=\"node\"><title>Earthquake</title>\n",
       "<defs>\n",
       "<linearGradient id=\"l_4\" gradientUnits=\"userSpaceOnUse\" x1=\"331\" y1=\"-314\" x2=\"331\" y2=\"-350\" >\n",
       "<stop offset=\"0\" style=\"stop-color:#ceccff;stop-opacity:1.;\"/>\n",
       "<stop offset=\"1\" style=\"stop-color:white;stop-opacity:1.;\"/>\n",
       "</linearGradient>\n",
       "</defs>\n",
       "<ellipse fill=\"url(#l_4)\" stroke=\"#ff638d\" cx=\"331\" cy=\"-332\" rx=\"52.1504\" ry=\"18\"/>\n",
       "<text text-anchor=\"middle\" x=\"331\" y=\"-328.9\" font-family=\"Acme-Regular.ttf\" font-size=\"12.00\">Earthquake</text>\n",
       "</g>\n",
       "<!-- Earthquake&#45;&gt;Alarm -->\n",
       "<g id=\"edge4\" class=\"edge\"><title>Earthquake&#45;&gt;Alarm</title>\n",
       "<path fill=\"none\" stroke=\"#ff638d\" d=\"M316.791,-314.67C307.275,-303.734 294.608,-289.177 284.068,-277.063\"/>\n",
       "<polygon fill=\"#ff638d\" stroke=\"#ff638d\" points=\"286.708,-274.765 277.503,-269.518 281.427,-279.36 286.708,-274.765\"/>\n",
       "</g>\n",
       "<!-- cpd_Earthquake -->\n",
       "<g id=\"node8\" class=\"node\"><title>cpd_Earthquake</title>\n",
       "<polygon fill=\"white\" stroke=\"none\" points=\"481,-278 315,-278 315,-228 481,-228 481,-278\"/>\n",
       "<polygon fill=\"none\" stroke=\"gray\" points=\"323,-260 323,-274 473,-274 473,-260 323,-260\"/>\n",
       "<text text-anchor=\"start\" x=\"377\" y=\"-265.4\" font-family=\"Acme-Regular.ttf\" font-size=\"7.00\">Earthquake</text>\n",
       "<polygon fill=\"none\" stroke=\"gray\" points=\"323,-246 323,-260 397,-260 397,-246 323,-246\"/>\n",
       "<text text-anchor=\"start\" x=\"326\" y=\"-251.4\" font-family=\"Acme-Regular.ttf\" font-size=\"7.00\">Earthquake = True</text>\n",
       "<polygon fill=\"none\" stroke=\"gray\" points=\"397,-246 397,-260 473,-260 473,-246 397,-246\"/>\n",
       "<text text-anchor=\"start\" x=\"400\" y=\"-251.4\" font-family=\"Acme-Regular.ttf\" font-size=\"7.00\">Earthquake = False</text>\n",
       "<polygon fill=\"none\" stroke=\"gray\" points=\"323,-232 323,-246 397,-246 397,-232 323,-232\"/>\n",
       "<text text-anchor=\"start\" x=\"349.5\" y=\"-237.4\" font-family=\"Acme-Regular.ttf\" font-size=\"7.00\">0.002</text>\n",
       "<polygon fill=\"none\" stroke=\"gray\" points=\"397,-232 397,-246 473,-246 473,-232 397,-232\"/>\n",
       "<text text-anchor=\"start\" x=\"424.5\" y=\"-237.4\" font-family=\"Acme-Regular.ttf\" font-size=\"7.00\">0.998</text>\n",
       "</g>\n",
       "<!-- Earthquake&#45;&gt;cpd_Earthquake -->\n",
       "</g>\n",
       "</svg>\n"
      ],
      "text/plain": [
       "<graphviz.dot.Digraph at 0x7f28d0f58890>"
      ]
     },
     "execution_count": 8,
     "metadata": {},
     "output_type": "execute_result"
    }
   ],
   "source": [
    "pgmpyToGraphCPD(model = alarmModel, shorten = False)"
   ]
  },
  {
   "cell_type": "code",
   "execution_count": 9,
   "metadata": {
    "lines_to_next_cell": 0,
    "title": "markdown"
   },
   "outputs": [],
   "source": [
    "# ### Study: Independencies of the Alarm Model"
   ]
  },
  {
   "cell_type": "code",
   "execution_count": 10,
   "metadata": {
    "lines_to_next_cell": 0,
    "title": "codecell"
   },
   "outputs": [
    {
     "data": {
      "text/plain": [
       "(Burglary _|_ Earthquake)"
      ]
     },
     "execution_count": 10,
     "metadata": {},
     "output_type": "execute_result"
    }
   ],
   "source": [
    "alarmModel.local_independencies('Burglary')"
   ]
  },
  {
   "cell_type": "code",
   "execution_count": 11,
   "metadata": {
    "lines_to_next_cell": 0,
    "title": "codecell"
   },
   "outputs": [
    {
     "data": {
      "text/plain": [
       "(Earthquake _|_ Burglary)"
      ]
     },
     "execution_count": 11,
     "metadata": {},
     "output_type": "execute_result"
    }
   ],
   "source": [
    "alarmModel.local_independencies('Earthquake')"
   ]
  },
  {
   "cell_type": "code",
   "execution_count": 12,
   "metadata": {
    "lines_to_next_cell": 0,
    "title": "codecell"
   },
   "outputs": [
    {
     "data": {
      "text/plain": []
     },
     "execution_count": 12,
     "metadata": {},
     "output_type": "execute_result"
    }
   ],
   "source": [
    "alarmModel.local_independencies('Alarm')"
   ]
  },
  {
   "cell_type": "code",
   "execution_count": 13,
   "metadata": {
    "lines_to_next_cell": 0,
    "title": "codecell"
   },
   "outputs": [
    {
     "name": "stdout",
     "output_type": "stream",
     "text": [
      "(MaryCalls _|_ Earthquake, JohnCalls, Burglary | Alarm)\n",
      "                                                       INDEPENDENCIES TABLE                                                      \n",
      "Fancy Notation                                                  .....     Regular Notation                                       \n",
      "---------------------------------------------------------------------------------------------------------------------------------\n",
      "(MaryCalls _|_ {Earthquake ∩ JohnCalls ∩ Burglary} | Alarm)     .....     (MaryCalls _|_ Earthquake, JohnCalls, Burglary | Alarm)\n",
      "(MaryCalls _|_ {Earthquake ∩ Burglary ∩ JohnCalls} | Alarm)     .....     (MaryCalls _|_ Earthquake, Burglary, JohnCalls | Alarm)\n",
      "(MaryCalls _|_ {JohnCalls ∩ Earthquake ∩ Burglary} | Alarm)     .....     (MaryCalls _|_ JohnCalls, Earthquake, Burglary | Alarm)\n",
      "(MaryCalls _|_ {JohnCalls ∩ Burglary ∩ Earthquake} | Alarm)     .....     (MaryCalls _|_ JohnCalls, Burglary, Earthquake | Alarm)\n",
      "(MaryCalls _|_ {Burglary ∩ Earthquake ∩ JohnCalls} | Alarm)     .....     (MaryCalls _|_ Burglary, Earthquake, JohnCalls | Alarm)\n",
      "(MaryCalls _|_ {Burglary ∩ JohnCalls ∩ Earthquake} | Alarm)     .....     (MaryCalls _|_ Burglary, JohnCalls, Earthquake | Alarm)\n"
     ]
    }
   ],
   "source": [
    "print(alarmModel.local_independencies('MaryCalls'))\n",
    "\n",
    "indepSynonymTable(model = alarmModel, queryNode = 'MaryCalls')"
   ]
  },
  {
   "cell_type": "code",
   "execution_count": 14,
   "metadata": {
    "lines_to_next_cell": 0,
    "title": "codecell"
   },
   "outputs": [
    {
     "name": "stdout",
     "output_type": "stream",
     "text": [
      "(JohnCalls _|_ Burglary, Earthquake, MaryCalls | Alarm)\n",
      "                                                       INDEPENDENCIES TABLE                                                      \n",
      "Fancy Notation                                                  .....     Regular Notation                                       \n",
      "---------------------------------------------------------------------------------------------------------------------------------\n",
      "(JohnCalls _|_ {Burglary ∩ Earthquake ∩ MaryCalls} | Alarm)     .....     (JohnCalls _|_ Burglary, Earthquake, MaryCalls | Alarm)\n",
      "(JohnCalls _|_ {Burglary ∩ MaryCalls ∩ Earthquake} | Alarm)     .....     (JohnCalls _|_ Burglary, MaryCalls, Earthquake | Alarm)\n",
      "(JohnCalls _|_ {Earthquake ∩ Burglary ∩ MaryCalls} | Alarm)     .....     (JohnCalls _|_ Earthquake, Burglary, MaryCalls | Alarm)\n",
      "(JohnCalls _|_ {Earthquake ∩ MaryCalls ∩ Burglary} | Alarm)     .....     (JohnCalls _|_ Earthquake, MaryCalls, Burglary | Alarm)\n",
      "(JohnCalls _|_ {MaryCalls ∩ Burglary ∩ Earthquake} | Alarm)     .....     (JohnCalls _|_ MaryCalls, Burglary, Earthquake | Alarm)\n",
      "(JohnCalls _|_ {MaryCalls ∩ Earthquake ∩ Burglary} | Alarm)     .....     (JohnCalls _|_ MaryCalls, Earthquake, Burglary | Alarm)\n"
     ]
    }
   ],
   "source": [
    "print(alarmModel.local_independencies('JohnCalls'))\n",
    "\n",
    "indepSynonymTable(model = alarmModel, queryNode = 'JohnCalls')"
   ]
  },
  {
   "cell_type": "code",
   "execution_count": 15,
   "metadata": {
    "title": "codecell"
   },
   "outputs": [
    {
     "data": {
      "text/plain": [
       "(Burglary _|_ Earthquake)\n",
       "(Burglary _|_ JohnCalls, MaryCalls | Alarm)\n",
       "(Burglary _|_ JohnCalls, MaryCalls | Alarm, Earthquake)\n",
       "(Burglary _|_ MaryCalls | JohnCalls, Alarm)\n",
       "(Burglary _|_ JohnCalls | Alarm, MaryCalls)\n",
       "(Burglary _|_ MaryCalls | Alarm, JohnCalls, Earthquake)\n",
       "(Burglary _|_ JohnCalls | Alarm, Earthquake, MaryCalls)\n",
       "(Earthquake _|_ Burglary)\n",
       "(Earthquake _|_ JohnCalls, MaryCalls | Alarm)\n",
       "(Earthquake _|_ JohnCalls, MaryCalls | Alarm, Burglary)\n",
       "(Earthquake _|_ MaryCalls | JohnCalls, Alarm)\n",
       "(Earthquake _|_ JohnCalls | Alarm, MaryCalls)\n",
       "(Earthquake _|_ MaryCalls | Alarm, JohnCalls, Burglary)\n",
       "(Earthquake _|_ JohnCalls | Alarm, Burglary, MaryCalls)\n",
       "(JohnCalls _|_ Burglary, Earthquake, MaryCalls | Alarm)\n",
       "(JohnCalls _|_ Earthquake, MaryCalls | Alarm, Burglary)\n",
       "(JohnCalls _|_ Burglary, MaryCalls | Alarm, Earthquake)\n",
       "(JohnCalls _|_ Burglary, Earthquake | Alarm, MaryCalls)\n",
       "(JohnCalls _|_ MaryCalls | Earthquake, Alarm, Burglary)\n",
       "(JohnCalls _|_ Earthquake | Alarm, Burglary, MaryCalls)\n",
       "(JohnCalls _|_ Burglary | Alarm, Earthquake, MaryCalls)\n",
       "(MaryCalls _|_ Earthquake, JohnCalls, Burglary | Alarm)\n",
       "(MaryCalls _|_ JohnCalls, Burglary | Alarm, Earthquake)\n",
       "(MaryCalls _|_ JohnCalls, Earthquake | Alarm, Burglary)\n",
       "(MaryCalls _|_ Earthquake, Burglary | JohnCalls, Alarm)\n",
       "(MaryCalls _|_ JohnCalls | Alarm, Burglary, Earthquake)\n",
       "(MaryCalls _|_ Burglary | Alarm, JohnCalls, Earthquake)\n",
       "(MaryCalls _|_ Earthquake | Alarm, JohnCalls, Burglary)"
      ]
     },
     "execution_count": 15,
     "metadata": {},
     "output_type": "execute_result"
    }
   ],
   "source": [
    "alarmModel.get_independencies()\n",
    "\n"
   ]
  },
  {
   "cell_type": "code",
   "execution_count": 16,
   "metadata": {
    "title": "codecell"
   },
   "outputs": [],
   "source": [
    "# TODO say direct dependency assumptions (from Korb book)"
   ]
  },
  {
   "cell_type": "code",
   "execution_count": 17,
   "metadata": {
    "lines_to_next_cell": 0,
    "title": "codecell"
   },
   "outputs": [
    {
     "data": {
      "text/plain": [
       "True"
      ]
     },
     "execution_count": 17,
     "metadata": {},
     "output_type": "execute_result"
    }
   ],
   "source": [
    "# TODO test imap in pgmpy and meaning? (from Korb book)\n",
    "\n",
    "G = BayesianModel([('diff', 'grade'), ('intel', 'grade')])\n",
    "diff_cpd = TabularCPD('diff', 2, [[0.2], [0.8]])\n",
    "intel_cpd = TabularCPD('intel', 3, [[0.5], [0.3], [0.2]])\n",
    "grade_cpd = TabularCPD('grade', 3, [[0.1,0.1,0.1,0.1,0.1,0.1],\n",
    "                                    [0.1,0.1,0.1,0.1,0.1,0.1],\n",
    "                                    [0.8,0.8,0.8,0.8,0.8,0.8]],\n",
    "                       evidence=['diff', 'intel'], evidence_card=[2, 3])\n",
    "\n",
    "G.add_cpds(diff_cpd, intel_cpd, grade_cpd)\n",
    "val = [0.01, 0.01, 0.08, 0.006, 0.006, 0.048, 0.004, 0.004, 0.032,\n",
    "           0.04, 0.04, 0.32, 0.024, 0.024, 0.192, 0.016, 0.016, 0.128]\n",
    "\n",
    "JPD = JointProbabilityDistribution(['diff', 'intel', 'grade'], [2, 3, 3], val)\n",
    "G.is_imap(JPD)"
   ]
  },
  {
   "cell_type": "code",
   "execution_count": 18,
   "metadata": {
    "lines_to_next_cell": 0,
    "title": "codecell"
   },
   "outputs": [
    {
     "name": "stdout",
     "output_type": "stream",
     "text": [
      "+-----------------+-------------------+--------------+------------------+------------------+------------------------------------------------------+\n",
      "| Burglary        | Earthquake        | Alarm        | JohnCalls        | MaryCalls        |   phi(Burglary,Earthquake,Alarm,JohnCalls,MaryCalls) |\n",
      "+=================+===================+==============+==================+==================+======================================================+\n",
      "| Burglary(True)  | Earthquake(True)  | Alarm(True)  | JohnCalls(True)  | MaryCalls(True)  |                                               0.0012 |\n",
      "+-----------------+-------------------+--------------+------------------+------------------+------------------------------------------------------+\n",
      "| Burglary(True)  | Earthquake(True)  | Alarm(True)  | JohnCalls(True)  | MaryCalls(False) |                                               0.0005 |\n",
      "+-----------------+-------------------+--------------+------------------+------------------+------------------------------------------------------+\n",
      "| Burglary(True)  | Earthquake(True)  | Alarm(True)  | JohnCalls(False) | MaryCalls(True)  |                                               0.0001 |\n",
      "+-----------------+-------------------+--------------+------------------+------------------+------------------------------------------------------+\n",
      "| Burglary(True)  | Earthquake(True)  | Alarm(True)  | JohnCalls(False) | MaryCalls(False) |                                               0.0001 |\n",
      "+-----------------+-------------------+--------------+------------------+------------------+------------------------------------------------------+\n",
      "| Burglary(True)  | Earthquake(True)  | Alarm(False) | JohnCalls(True)  | MaryCalls(True)  |                                               0.0000 |\n",
      "+-----------------+-------------------+--------------+------------------+------------------+------------------------------------------------------+\n",
      "| Burglary(True)  | Earthquake(True)  | Alarm(False) | JohnCalls(True)  | MaryCalls(False) |                                               0.0000 |\n",
      "+-----------------+-------------------+--------------+------------------+------------------+------------------------------------------------------+\n",
      "| Burglary(True)  | Earthquake(True)  | Alarm(False) | JohnCalls(False) | MaryCalls(True)  |                                               0.0000 |\n",
      "+-----------------+-------------------+--------------+------------------+------------------+------------------------------------------------------+\n",
      "| Burglary(True)  | Earthquake(True)  | Alarm(False) | JohnCalls(False) | MaryCalls(False) |                                               0.0001 |\n",
      "+-----------------+-------------------+--------------+------------------+------------------+------------------------------------------------------+\n",
      "| Burglary(True)  | Earthquake(False) | Alarm(True)  | JohnCalls(True)  | MaryCalls(True)  |                                               0.5904 |\n",
      "+-----------------+-------------------+--------------+------------------+------------------+------------------------------------------------------+\n",
      "| Burglary(True)  | Earthquake(False) | Alarm(True)  | JohnCalls(True)  | MaryCalls(False) |                                               0.2530 |\n",
      "+-----------------+-------------------+--------------+------------------+------------------+------------------------------------------------------+\n",
      "| Burglary(True)  | Earthquake(False) | Alarm(True)  | JohnCalls(False) | MaryCalls(True)  |                                               0.0656 |\n",
      "+-----------------+-------------------+--------------+------------------+------------------+------------------------------------------------------+\n",
      "| Burglary(True)  | Earthquake(False) | Alarm(True)  | JohnCalls(False) | MaryCalls(False) |                                               0.0281 |\n",
      "+-----------------+-------------------+--------------+------------------+------------------+------------------------------------------------------+\n",
      "| Burglary(True)  | Earthquake(False) | Alarm(False) | JohnCalls(True)  | MaryCalls(True)  |                                               0.0000 |\n",
      "+-----------------+-------------------+--------------+------------------+------------------+------------------------------------------------------+\n",
      "| Burglary(True)  | Earthquake(False) | Alarm(False) | JohnCalls(True)  | MaryCalls(False) |                                               0.0030 |\n",
      "+-----------------+-------------------+--------------+------------------+------------------+------------------------------------------------------+\n",
      "| Burglary(True)  | Earthquake(False) | Alarm(False) | JohnCalls(False) | MaryCalls(True)  |                                               0.0006 |\n",
      "+-----------------+-------------------+--------------+------------------+------------------+------------------------------------------------------+\n",
      "| Burglary(True)  | Earthquake(False) | Alarm(False) | JohnCalls(False) | MaryCalls(False) |                                               0.0563 |\n",
      "+-----------------+-------------------+--------------+------------------+------------------+------------------------------------------------------+\n",
      "| Burglary(False) | Earthquake(True)  | Alarm(True)  | JohnCalls(True)  | MaryCalls(True)  |                                               0.0000 |\n",
      "+-----------------+-------------------+--------------+------------------+------------------+------------------------------------------------------+\n",
      "| Burglary(False) | Earthquake(True)  | Alarm(True)  | JohnCalls(True)  | MaryCalls(False) |                                               0.0000 |\n",
      "+-----------------+-------------------+--------------+------------------+------------------+------------------------------------------------------+\n",
      "| Burglary(False) | Earthquake(True)  | Alarm(True)  | JohnCalls(False) | MaryCalls(True)  |                                               0.0000 |\n",
      "+-----------------+-------------------+--------------+------------------+------------------+------------------------------------------------------+\n",
      "| Burglary(False) | Earthquake(True)  | Alarm(True)  | JohnCalls(False) | MaryCalls(False) |                                               0.0000 |\n",
      "+-----------------+-------------------+--------------+------------------+------------------+------------------------------------------------------+\n",
      "| Burglary(False) | Earthquake(True)  | Alarm(False) | JohnCalls(True)  | MaryCalls(True)  |                                               0.0000 |\n",
      "+-----------------+-------------------+--------------+------------------+------------------+------------------------------------------------------+\n",
      "| Burglary(False) | Earthquake(True)  | Alarm(False) | JohnCalls(True)  | MaryCalls(False) |                                               0.0000 |\n",
      "+-----------------+-------------------+--------------+------------------+------------------+------------------------------------------------------+\n",
      "| Burglary(False) | Earthquake(True)  | Alarm(False) | JohnCalls(False) | MaryCalls(True)  |                                               0.0000 |\n",
      "+-----------------+-------------------+--------------+------------------+------------------+------------------------------------------------------+\n",
      "| Burglary(False) | Earthquake(True)  | Alarm(False) | JohnCalls(False) | MaryCalls(False) |                                               0.0000 |\n",
      "+-----------------+-------------------+--------------+------------------+------------------+------------------------------------------------------+\n",
      "| Burglary(False) | Earthquake(False) | Alarm(True)  | JohnCalls(True)  | MaryCalls(True)  |                                               0.0000 |\n",
      "+-----------------+-------------------+--------------+------------------+------------------+------------------------------------------------------+\n",
      "| Burglary(False) | Earthquake(False) | Alarm(True)  | JohnCalls(True)  | MaryCalls(False) |                                               0.0000 |\n",
      "+-----------------+-------------------+--------------+------------------+------------------+------------------------------------------------------+\n",
      "| Burglary(False) | Earthquake(False) | Alarm(True)  | JohnCalls(False) | MaryCalls(True)  |                                               0.0000 |\n",
      "+-----------------+-------------------+--------------+------------------+------------------+------------------------------------------------------+\n",
      "| Burglary(False) | Earthquake(False) | Alarm(True)  | JohnCalls(False) | MaryCalls(False) |                                               0.0000 |\n",
      "+-----------------+-------------------+--------------+------------------+------------------+------------------------------------------------------+\n",
      "| Burglary(False) | Earthquake(False) | Alarm(False) | JohnCalls(True)  | MaryCalls(True)  |                                               0.0000 |\n",
      "+-----------------+-------------------+--------------+------------------+------------------+------------------------------------------------------+\n",
      "| Burglary(False) | Earthquake(False) | Alarm(False) | JohnCalls(True)  | MaryCalls(False) |                                               0.0000 |\n",
      "+-----------------+-------------------+--------------+------------------+------------------+------------------------------------------------------+\n",
      "| Burglary(False) | Earthquake(False) | Alarm(False) | JohnCalls(False) | MaryCalls(True)  |                                               0.0000 |\n",
      "+-----------------+-------------------+--------------+------------------+------------------+------------------------------------------------------+\n",
      "| Burglary(False) | Earthquake(False) | Alarm(False) | JohnCalls(False) | MaryCalls(False) |                                               0.0009 |\n",
      "+-----------------+-------------------+--------------+------------------+------------------+------------------------------------------------------+"
     ]
    },
    {
     "name": "stdout",
     "output_type": "stream",
     "text": [
      "\n"
     ]
    }
   ],
   "source": [
    "from operator import mul\n",
    "from functools import reduce\n",
    "\n",
    "factors = [cpd.to_factor() for cpd in alarmModel.get_cpds()]; factors\n",
    "\n",
    "factor_prod = reduce(mul, factors); factor_prod\n",
    "\n",
    "print(factor_prod)"
   ]
  },
  {
   "cell_type": "code",
   "execution_count": 19,
   "metadata": {
    "title": "codecell"
   },
   "outputs": [],
   "source": [
    "# TODO do part 3 Joint dist from tut2\n",
    "# TODO do part 4 inference from tut3\n",
    "# TODO do the different kinds of inference from (Korb book): intercausal, diagnostic ... etc"
   ]
  }
 ],
 "metadata": {
  "jupytext": {
   "cell_metadata_filter": "title,-all"
  },
  "kernelspec": {
   "display_name": "pybayesian_env",
   "language": "python",
   "name": "pybayesian_env"
  },
  "language_info": {
   "codemirror_mode": {
    "name": "ipython",
    "version": 3
   },
   "file_extension": ".py",
   "mimetype": "text/x-python",
   "name": "python",
   "nbconvert_exporter": "python",
   "pygments_lexer": "ipython3",
   "version": "3.7.6"
  }
 },
 "nbformat": 4,
 "nbformat_minor": 4
}
