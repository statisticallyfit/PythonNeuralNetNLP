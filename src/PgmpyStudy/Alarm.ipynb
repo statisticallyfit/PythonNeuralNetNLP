{
 "cells": [
  {
   "cell_type": "code",
   "execution_count": 1,
   "metadata": {
    "title": "markdown"
   },
   "outputs": [],
   "source": [
    "# [Source for tutorial](https://github.com/pgmpy/pgmpy/blob/dev/examples/Alarm.ipynb)\n",
    "#\n",
    "# Alarm Bayesian Network\n",
    "# Creating the Alarm Bayesian network using pgmpy and doing some simple queries (mentioned in Bayesian Artificial Intelligence, Section 2.5.1: )"
   ]
  },
  {
   "cell_type": "code",
   "execution_count": 2,
   "metadata": {
    "lines_to_next_cell": 0,
    "title": "markdown"
   },
   "outputs": [],
   "source": [
    "# Doing path-setting:"
   ]
  },
  {
   "cell_type": "code",
   "execution_count": 3,
   "metadata": {
    "lines_to_next_cell": 2,
    "title": "codecell"
   },
   "outputs": [
    {
     "name": "stdout",
     "output_type": "stream",
     "text": [
      "curPath =  /development/projects/statisticallyfit/github/learningmathstat/PythonNeuralNetNLP/src/PgmpyStudy/ \n",
      "\n",
      "dataPath =  /development/projects/statisticallyfit/github/learningmathstat/PythonNeuralNetNLP/src/PgmpyStudy/data/ \n",
      "\n",
      "imagePath =  /development/projects/statisticallyfit/github/learningmathstat/PythonNeuralNetNLP/src/PgmpyStudy/images/ \n",
      "\n"
     ]
    },
    {
     "data": {
      "text/plain": [
       "['/development/projects/statisticallyfit/github/learningmathstat/PythonNeuralNetNLP/src/PgmpyStudy',\n",
       " '/development/bin/python/conda3_ana/envs/pybayesian_env/lib/python37.zip',\n",
       " '/development/bin/python/conda3_ana/envs/pybayesian_env/lib/python3.7',\n",
       " '/development/bin/python/conda3_ana/envs/pybayesian_env/lib/python3.7/lib-dynload',\n",
       " '',\n",
       " '/development/bin/python/conda3_ana/envs/pybayesian_env/lib/python3.7/site-packages',\n",
       " '/development/bin/python/conda3_ana/envs/pybayesian_env/lib/python3.7/site-packages/IPython/extensions',\n",
       " '/home/statisticallyfit/.ipython',\n",
       " '/development/projects/statisticallyfit/github/learningmathstat/PythonNeuralNetNLP/src/utils/',\n",
       " '/development/projects/statisticallyfit/github/learningmathstat/PythonNeuralNetNLP/src/PgmpyStudy/']"
      ]
     },
     "execution_count": 3,
     "metadata": {},
     "output_type": "execute_result"
    }
   ],
   "source": [
    "import os\n",
    "import sys\n",
    "from typing import *\n",
    "from typing import Union, List, Any\n",
    "\n",
    "from networkx.classes.reportviews import OutEdgeDataView, OutEdgeView\n",
    "from pgmpy.independencies import Independencies\n",
    "import itertools\n",
    "\n",
    "os.getcwd()\n",
    "# Setting the baseline:\n",
    "os.chdir('/development/projects/statisticallyfit/github/learningmathstat/PythonNeuralNetNLP')\n",
    "\n",
    "\n",
    "curPath: str = os.getcwd() + \"/src/PgmpyStudy/\"\n",
    "\n",
    "dataPath: str = curPath + \"data/\"\n",
    "\n",
    "imagePath: str = curPath + 'images/'\n",
    "\n",
    "print(\"curPath = \", curPath, \"\\n\")\n",
    "print(\"dataPath = \", dataPath, \"\\n\")\n",
    "print('imagePath = ', imagePath, \"\\n\")\n",
    "\n",
    "\n",
    "# Making files in utils folder visible here: to import my local print functions for nn.Module objects\n",
    "sys.path.append(os.getcwd() + \"/src/utils/\")\n",
    "# For being able to import files within PgmpyStudy folder\n",
    "sys.path.append(curPath)\n",
    "\n",
    "sys.path"
   ]
  },
  {
   "cell_type": "code",
   "execution_count": 4,
   "metadata": {
    "lines_to_next_cell": 0,
    "title": "markdown"
   },
   "outputs": [],
   "source": [
    "# Science imports:"
   ]
  },
  {
   "cell_type": "code",
   "execution_count": 5,
   "metadata": {
    "lines_to_next_cell": 0,
    "title": "codecell"
   },
   "outputs": [],
   "source": [
    "from pgmpy.models import BayesianModel\n",
    "from pgmpy.inference import VariableElimination\n",
    "from pgmpy.factors.discrete import TabularCPD\n",
    "\n",
    "from src.utils.GraphvizUtil import *"
   ]
  },
  {
   "cell_type": "code",
   "execution_count": 6,
   "metadata": {
    "lines_to_next_cell": 0,
    "title": "markdown"
   },
   "outputs": [],
   "source": [
    "# ## Problem Statement: 2.5.1 Earthquake\n",
    "# **Example statement:** You have a new burglar alarm installed. It reliably detects burglary, but also responds to minor earthquakes. Two neighbors, John and Mary, promise to call the police when they hear the alarm. John always calls when he hears the alarm, but sometimes confuses the alarm with the phone ringing and calls then also. On the other hand, Mary likes loud music and sometimes doesn't hear the alarm. Given evidence about who has and hasn't called, you'd like to estimate the probability of a burglary alarm (from Pearl (1988)).\n",
    "#"
   ]
  },
  {
   "cell_type": "code",
   "execution_count": 7,
   "metadata": {
    "title": "codecell"
   },
   "outputs": [
    {
     "name": "stdout",
     "output_type": "stream",
     "text": [
      "+-----------------+-------+\n",
      "| Burglary(False) | 0.999 |\n",
      "+-----------------+-------+\n",
      "| Burglary(True)  | 0.001 |\n",
      "+-----------------+-------+\n",
      "+-------------------+-------+\n",
      "| Earthquake(True)  | 0.002 |\n",
      "+-------------------+-------+\n",
      "| Earthquake(False) | 0.998 |\n",
      "+-------------------+-------+\n",
      "+--------------+------------------+-------------------+------------------+-------------------+\n",
      "| Burglary     | Burglary(True)   | Burglary(True)    | Burglary(False)  | Burglary(False)   |\n",
      "+--------------+------------------+-------------------+------------------+-------------------+\n",
      "| Earthquake   | Earthquake(True) | Earthquake(False) | Earthquake(True) | Earthquake(False) |\n",
      "+--------------+------------------+-------------------+------------------+-------------------+\n",
      "| Alarm(True)  | 0.95             | 0.94              | 0.29             | 0.001             |\n",
      "+--------------+------------------+-------------------+------------------+-------------------+\n",
      "| Alarm(False) | 0.05             | 0.06              | 0.71             | 0.999             |\n",
      "+--------------+------------------+-------------------+------------------+-------------------+\n",
      "+------------------+-------------+--------------+\n",
      "| Alarm            | Alarm(True) | Alarm(False) |\n",
      "+------------------+-------------+--------------+\n",
      "| JohnCalls(True)  | 0.9         | 0.05         |\n",
      "+------------------+-------------+--------------+\n",
      "| JohnCalls(False) | 0.1         | 0.95         |\n",
      "+------------------+-------------+--------------+\n",
      "+------------------+-------------+--------------+\n",
      "| Alarm            | Alarm(True) | Alarm(False) |\n",
      "+------------------+-------------+--------------+\n",
      "| MaryCalls(True)  | 0.7         | 0.01         |\n",
      "+------------------+-------------+--------------+\n",
      "| MaryCalls(False) | 0.3         | 0.99         |\n",
      "+------------------+-------------+--------------+\n"
     ]
    }
   ],
   "source": [
    "# Defining the network structure:\n",
    "alarmModel: BayesianModel = BayesianModel([('Burglary', 'Alarm'),\n",
    "                                           ('Earthquake', 'Alarm'),\n",
    "                                           ('Alarm', 'JohnCalls'),\n",
    "                                           ('Alarm', 'MaryCalls')])\n",
    "\n",
    "# Defining parameters using CPT\n",
    "cpdBurglary: TabularCPD = TabularCPD(variable = 'Burglary', variable_card = 2,\n",
    "                                     values = [[0.999, 0.001]],\n",
    "                                     state_names = {'Burglary' : ['False', 'True']})\n",
    "print(cpdBurglary)\n",
    "cpdEarthquake: TabularCPD = TabularCPD(variable = 'Earthquake', variable_card = 2,\n",
    "                                       values = [[0.002, 0.998]],\n",
    "                                       state_names = {'Earthquake' : ['True', 'False']})\n",
    "\n",
    "print(cpdEarthquake)\n",
    "\n",
    "cpdAlarm: TabularCPD = TabularCPD(variable = 'Alarm', variable_card = 2,\n",
    "                                  values = [[0.95, 0.94, 0.29, 0.001],\n",
    "                                            [0.05, 0.06, 0.71, 0.999]],\n",
    "                                  evidence = ['Burglary', 'Earthquake'], evidence_card = [2,2],\n",
    "                                  state_names = {'Alarm': ['True', 'False'], 'Burglary':['True','False'],'Earthquake': ['True', 'False']})\n",
    "print(cpdAlarm)\n",
    "\n",
    "cpdJohnCalls: TabularCPD = TabularCPD(variable = 'JohnCalls', variable_card = 2,\n",
    "                                      values = [[0.90, 0.05],\n",
    "                                                [0.10, 0.95]],\n",
    "                                      evidence = ['Alarm'], evidence_card = [2],\n",
    "                                      state_names = {'JohnCalls': ['True', 'False'], 'Alarm' : ['True', 'False']})\n",
    "print(cpdJohnCalls)\n",
    "\n",
    "cpdMaryCalls: TabularCPD = TabularCPD(variable = 'MaryCalls', variable_card = 2,\n",
    "                                      values = [[0.70, 0.01],\n",
    "                                                [0.30, 0.99]],\n",
    "                                      evidence = ['Alarm'], evidence_card = [2],\n",
    "                                      state_names = {'MaryCalls': ['True', 'False'], 'Alarm' : ['True', 'False']})\n",
    "print(cpdMaryCalls)\n",
    "\n",
    "\n",
    "alarmModel.add_cpds(cpdBurglary, cpdEarthquake, cpdAlarm, cpdJohnCalls, cpdMaryCalls)\n",
    "\n",
    "assert alarmModel.check_model()"
   ]
  },
  {
   "cell_type": "code",
   "execution_count": 8,
   "metadata": {
    "lines_to_next_cell": 2,
    "title": "codecell"
   },
   "outputs": [
    {
     "data": {
      "image/svg+xml": [
       "<?xml version=\"1.0\" encoding=\"UTF-8\" standalone=\"no\"?>\n",
       "<!DOCTYPE svg PUBLIC \"-//W3C//DTD SVG 1.1//EN\"\n",
       " \"http://www.w3.org/Graphics/SVG/1.1/DTD/svg11.dtd\">\n",
       "<!-- Generated by graphviz version 2.38.0 (20140413.2041)\n",
       " -->\n",
       "<!-- Title: G Pages: 1 -->\n",
       "<svg width=\"640pt\" height=\"372pt\"\n",
       " viewBox=\"0.00 0.00 640.00 372.00\" xmlns=\"http://www.w3.org/2000/svg\" xmlns:xlink=\"http://www.w3.org/1999/xlink\">\n",
       "<g id=\"graph0\" class=\"graph\" transform=\"scale(1 1) rotate(0) translate(4 368)\">\n",
       "<title>G</title>\n",
       "<polygon fill=\"white\" stroke=\"none\" points=\"-4,4 -4,-368 636,-368 636,4 -4,4\"/>\n",
       "<!-- Burglary -->\n",
       "<g id=\"node1\" class=\"node\"><title>Burglary</title>\n",
       "<defs>\n",
       "<linearGradient id=\"l_0\" gradientUnits=\"userSpaceOnUse\" x1=\"72\" y1=\"-300\" x2=\"72\" y2=\"-336\" >\n",
       "<stop offset=\"0\" style=\"stop-color:#ceccff;stop-opacity:1.;\"/>\n",
       "<stop offset=\"1\" style=\"stop-color:white;stop-opacity:1.;\"/>\n",
       "</linearGradient>\n",
       "</defs>\n",
       "<ellipse fill=\"url(#l_0)\" stroke=\"#ff638d\" cx=\"72\" cy=\"-318\" rx=\"41.7203\" ry=\"18\"/>\n",
       "<text text-anchor=\"middle\" x=\"72\" y=\"-314.9\" font-family=\"Acme-Regular.ttf\" font-size=\"12.00\">Burglary</text>\n",
       "</g>\n",
       "<!-- Alarm -->\n",
       "<g id=\"node2\" class=\"node\"><title>Alarm</title>\n",
       "<defs>\n",
       "<linearGradient id=\"l_1\" gradientUnits=\"userSpaceOnUse\" x1=\"216\" y1=\"-186\" x2=\"216\" y2=\"-222\" >\n",
       "<stop offset=\"0\" style=\"stop-color:#ceccff;stop-opacity:1.;\"/>\n",
       "<stop offset=\"1\" style=\"stop-color:white;stop-opacity:1.;\"/>\n",
       "</linearGradient>\n",
       "</defs>\n",
       "<ellipse fill=\"url(#l_1)\" stroke=\"#ff638d\" cx=\"216\" cy=\"-204\" rx=\"32.7527\" ry=\"18\"/>\n",
       "<text text-anchor=\"middle\" x=\"216\" y=\"-200.9\" font-family=\"Acme-Regular.ttf\" font-size=\"12.00\">Alarm</text>\n",
       "</g>\n",
       "<!-- Burglary&#45;&gt;Alarm -->\n",
       "<g id=\"edge1\" class=\"edge\"><title>Burglary&#45;&gt;Alarm</title>\n",
       "<path fill=\"none\" stroke=\"#ff638d\" d=\"M88.7058,-301.096C98.2297,-292.252 110.521,-281.207 122,-272 143.188,-255.005 168.289,-237.225 187.221,-224.255\"/>\n",
       "<polygon fill=\"#ff638d\" stroke=\"#ff638d\" points=\"189.413,-226.997 195.711,-218.477 185.475,-221.21 189.413,-226.997\"/>\n",
       "</g>\n",
       "<!-- cpd_Burglary -->\n",
       "<g id=\"node6\" class=\"node\"><title>cpd_Burglary</title>\n",
       "<polygon fill=\"white\" stroke=\"none\" points=\"144,-229 0,-229 0,-179 144,-179 144,-229\"/>\n",
       "<polygon fill=\"none\" stroke=\"gray\" points=\"8,-211 8,-225 136,-225 136,-211 8,-211\"/>\n",
       "<text text-anchor=\"start\" x=\"56.5\" y=\"-216.4\" font-family=\"Acme-Regular.ttf\" font-size=\"7.00\">Burglary</text>\n",
       "<polygon fill=\"none\" stroke=\"gray\" points=\"8,-197 8,-211 73,-211 73,-197 8,-197\"/>\n",
       "<text text-anchor=\"start\" x=\"11\" y=\"-202.4\" font-family=\"Acme-Regular.ttf\" font-size=\"7.00\">Burglary = False</text>\n",
       "<polygon fill=\"none\" stroke=\"gray\" points=\"73,-197 73,-211 136,-211 136,-197 73,-197\"/>\n",
       "<text text-anchor=\"start\" x=\"76\" y=\"-202.4\" font-family=\"Acme-Regular.ttf\" font-size=\"7.00\">Burglary = True</text>\n",
       "<polygon fill=\"none\" stroke=\"gray\" points=\"8,-183 8,-197 73,-197 73,-183 8,-183\"/>\n",
       "<text text-anchor=\"start\" x=\"30\" y=\"-188.4\" font-family=\"Acme-Regular.ttf\" font-size=\"7.00\">0.999</text>\n",
       "<polygon fill=\"none\" stroke=\"gray\" points=\"73,-183 73,-197 136,-197 136,-183 73,-183\"/>\n",
       "<text text-anchor=\"start\" x=\"94\" y=\"-188.4\" font-family=\"Acme-Regular.ttf\" font-size=\"7.00\">0.001</text>\n",
       "</g>\n",
       "<!-- Burglary&#45;&gt;cpd_Burglary -->\n",
       "<!-- JohnCalls -->\n",
       "<g id=\"node3\" class=\"node\"><title>JohnCalls</title>\n",
       "<defs>\n",
       "<linearGradient id=\"l_2\" gradientUnits=\"userSpaceOnUse\" x1=\"216\" y1=\"-100\" x2=\"216\" y2=\"-136\" >\n",
       "<stop offset=\"0\" style=\"stop-color:#ceccff;stop-opacity:1.;\"/>\n",
       "<stop offset=\"1\" style=\"stop-color:white;stop-opacity:1.;\"/>\n",
       "</linearGradient>\n",
       "</defs>\n",
       "<ellipse fill=\"url(#l_2)\" stroke=\"#ff638d\" cx=\"216\" cy=\"-118\" rx=\"43.9143\" ry=\"18\"/>\n",
       "<text text-anchor=\"middle\" x=\"216\" y=\"-114.9\" font-family=\"Acme-Regular.ttf\" font-size=\"12.00\">JohnCalls</text>\n",
       "</g>\n",
       "<!-- Alarm&#45;&gt;JohnCalls -->\n",
       "<g id=\"edge2\" class=\"edge\"><title>Alarm&#45;&gt;JohnCalls</title>\n",
       "<path fill=\"none\" stroke=\"#ff638d\" d=\"M216,-185.595C216,-174.257 216,-159.227 216,-146.315\"/>\n",
       "<polygon fill=\"#ff638d\" stroke=\"#ff638d\" points=\"219.5,-146.095 216,-136.095 212.5,-146.095 219.5,-146.095\"/>\n",
       "</g>\n",
       "<!-- MaryCalls -->\n",
       "<g id=\"node4\" class=\"node\"><title>MaryCalls</title>\n",
       "<defs>\n",
       "<linearGradient id=\"l_3\" gradientUnits=\"userSpaceOnUse\" x1=\"340\" y1=\"-100\" x2=\"340\" y2=\"-136\" >\n",
       "<stop offset=\"0\" style=\"stop-color:#ceccff;stop-opacity:1.;\"/>\n",
       "<stop offset=\"1\" style=\"stop-color:white;stop-opacity:1.;\"/>\n",
       "</linearGradient>\n",
       "</defs>\n",
       "<ellipse fill=\"url(#l_3)\" stroke=\"#ff638d\" cx=\"340\" cy=\"-118\" rx=\"45.6069\" ry=\"18\"/>\n",
       "<text text-anchor=\"middle\" x=\"340\" y=\"-114.9\" font-family=\"Acme-Regular.ttf\" font-size=\"12.00\">MaryCalls</text>\n",
       "</g>\n",
       "<!-- Alarm&#45;&gt;MaryCalls -->\n",
       "<g id=\"edge3\" class=\"edge\"><title>Alarm&#45;&gt;MaryCalls</title>\n",
       "<path fill=\"none\" stroke=\"#ff638d\" d=\"M234.141,-188.797C241.187,-183.41 249.382,-177.3 257,-172 273.308,-160.655 291.911,-148.69 307.366,-139.005\"/>\n",
       "<polygon fill=\"#ff638d\" stroke=\"#ff638d\" points=\"309.424,-141.846 316.061,-133.588 305.723,-135.905 309.424,-141.846\"/>\n",
       "</g>\n",
       "<!-- cpd_JohnCalls -->\n",
       "<g id=\"node9\" class=\"node\"><title>cpd_JohnCalls</title>\n",
       "<polygon fill=\"white\" stroke=\"none\" points=\"305,-64 127,-64 127,-0 305,-0 305,-64\"/>\n",
       "<polygon fill=\"none\" stroke=\"gray\" points=\"135,-46 135,-60 297,-60 297,-46 135,-46\"/>\n",
       "<text text-anchor=\"start\" x=\"199\" y=\"-51.4\" font-family=\"Acme-Regular.ttf\" font-size=\"7.00\">JohnCalls</text>\n",
       "<polygon fill=\"none\" stroke=\"gray\" points=\"135,-32 135,-46 163,-46 163,-32 135,-32\"/>\n",
       "<text text-anchor=\"start\" x=\"138\" y=\"-37.4\" font-family=\"Acme-Regular.ttf\" font-size=\"7.00\">Alarm</text>\n",
       "<polygon fill=\"none\" stroke=\"gray\" points=\"163,-32 163,-46 229,-46 229,-32 163,-32\"/>\n",
       "<text text-anchor=\"start\" x=\"166\" y=\"-37.4\" font-family=\"Acme-Regular.ttf\" font-size=\"7.00\">JohnCalls = True</text>\n",
       "<polygon fill=\"none\" stroke=\"gray\" points=\"229,-32 229,-46 297,-46 297,-32 229,-32\"/>\n",
       "<text text-anchor=\"start\" x=\"232\" y=\"-37.4\" font-family=\"Acme-Regular.ttf\" font-size=\"7.00\">JohnCalls = False</text>\n",
       "<polygon fill=\"none\" stroke=\"gray\" points=\"135,-18 135,-32 163,-32 163,-18 135,-18\"/>\n",
       "<text text-anchor=\"start\" x=\"141\" y=\"-23.4\" font-family=\"Acme-Regular.ttf\" font-size=\"7.00\">True</text>\n",
       "<polygon fill=\"none\" stroke=\"gray\" points=\"163,-18 163,-32 229,-32 229,-18 163,-18\"/>\n",
       "<text text-anchor=\"start\" x=\"190\" y=\"-23.4\" font-family=\"Acme-Regular.ttf\" font-size=\"7.00\">0.9</text>\n",
       "<polygon fill=\"none\" stroke=\"gray\" points=\"229,-18 229,-32 297,-32 297,-18 229,-18\"/>\n",
       "<text text-anchor=\"start\" x=\"257\" y=\"-23.4\" font-family=\"Acme-Regular.ttf\" font-size=\"7.00\">0.1</text>\n",
       "<polygon fill=\"none\" stroke=\"gray\" points=\"135,-4 135,-18 163,-18 163,-4 135,-4\"/>\n",
       "<text text-anchor=\"start\" x=\"139.5\" y=\"-9.4\" font-family=\"Acme-Regular.ttf\" font-size=\"7.00\">False</text>\n",
       "<polygon fill=\"none\" stroke=\"gray\" points=\"163,-4 163,-18 229,-18 229,-4 163,-4\"/>\n",
       "<text text-anchor=\"start\" x=\"188\" y=\"-9.4\" font-family=\"Acme-Regular.ttf\" font-size=\"7.00\">0.05</text>\n",
       "<polygon fill=\"none\" stroke=\"gray\" points=\"229,-4 229,-18 297,-18 297,-4 229,-4\"/>\n",
       "<text text-anchor=\"start\" x=\"255\" y=\"-9.4\" font-family=\"Acme-Regular.ttf\" font-size=\"7.00\">0.95</text>\n",
       "</g>\n",
       "<!-- JohnCalls&#45;&gt;cpd_JohnCalls -->\n",
       "<!-- Earthquake -->\n",
       "<g id=\"node5\" class=\"node\"><title>Earthquake</title>\n",
       "<defs>\n",
       "<linearGradient id=\"l_4\" gradientUnits=\"userSpaceOnUse\" x1=\"481\" y1=\"-300\" x2=\"481\" y2=\"-336\" >\n",
       "<stop offset=\"0\" style=\"stop-color:#ceccff;stop-opacity:1.;\"/>\n",
       "<stop offset=\"1\" style=\"stop-color:white;stop-opacity:1.;\"/>\n",
       "</linearGradient>\n",
       "</defs>\n",
       "<ellipse fill=\"url(#l_4)\" stroke=\"#ff638d\" cx=\"481\" cy=\"-318\" rx=\"52.1504\" ry=\"18\"/>\n",
       "<text text-anchor=\"middle\" x=\"481\" y=\"-314.9\" font-family=\"Acme-Regular.ttf\" font-size=\"12.00\">Earthquake</text>\n",
       "</g>\n",
       "<!-- Earthquake&#45;&gt;Alarm -->\n",
       "<g id=\"edge4\" class=\"edge\"><title>Earthquake&#45;&gt;Alarm</title>\n",
       "<path fill=\"none\" stroke=\"#ff638d\" d=\"M445.128,-304.691C386.281,-284.4 274.037,-245.245 257,-236 251.573,-233.055 246.085,-229.438 240.965,-225.727\"/>\n",
       "<polygon fill=\"#ff638d\" stroke=\"#ff638d\" points=\"242.85,-222.763 232.772,-219.494 238.612,-228.334 242.85,-222.763\"/>\n",
       "</g>\n",
       "<!-- cpd_Earthquake -->\n",
       "<g id=\"node8\" class=\"node\"><title>cpd_Earthquake</title>\n",
       "<polygon fill=\"white\" stroke=\"none\" points=\"632,-229 466,-229 466,-179 632,-179 632,-229\"/>\n",
       "<polygon fill=\"none\" stroke=\"gray\" points=\"474,-211 474,-225 624,-225 624,-211 474,-211\"/>\n",
       "<text text-anchor=\"start\" x=\"528\" y=\"-216.4\" font-family=\"Acme-Regular.ttf\" font-size=\"7.00\">Earthquake</text>\n",
       "<polygon fill=\"none\" stroke=\"gray\" points=\"474,-197 474,-211 548,-211 548,-197 474,-197\"/>\n",
       "<text text-anchor=\"start\" x=\"477\" y=\"-202.4\" font-family=\"Acme-Regular.ttf\" font-size=\"7.00\">Earthquake = True</text>\n",
       "<polygon fill=\"none\" stroke=\"gray\" points=\"548,-197 548,-211 624,-211 624,-197 548,-197\"/>\n",
       "<text text-anchor=\"start\" x=\"551\" y=\"-202.4\" font-family=\"Acme-Regular.ttf\" font-size=\"7.00\">Earthquake = False</text>\n",
       "<polygon fill=\"none\" stroke=\"gray\" points=\"474,-183 474,-197 548,-197 548,-183 474,-183\"/>\n",
       "<text text-anchor=\"start\" x=\"500.5\" y=\"-188.4\" font-family=\"Acme-Regular.ttf\" font-size=\"7.00\">0.002</text>\n",
       "<polygon fill=\"none\" stroke=\"gray\" points=\"548,-183 548,-197 624,-197 624,-183 548,-183\"/>\n",
       "<text text-anchor=\"start\" x=\"575.5\" y=\"-188.4\" font-family=\"Acme-Regular.ttf\" font-size=\"7.00\">0.998</text>\n",
       "</g>\n",
       "<!-- Earthquake&#45;&gt;cpd_Earthquake -->\n",
       "<!-- cpd_Alarm -->\n",
       "<g id=\"node7\" class=\"node\"><title>cpd_Alarm</title>\n",
       "<polygon fill=\"white\" stroke=\"none\" points=\"342.5,-364 131.5,-364 131.5,-272 342.5,-272 342.5,-364\"/>\n",
       "<polygon fill=\"none\" stroke=\"gray\" points=\"140,-346 140,-360 335,-360 335,-346 140,-346\"/>\n",
       "<text text-anchor=\"start\" x=\"226.5\" y=\"-351.4\" font-family=\"Acme-Regular.ttf\" font-size=\"7.00\">Alarm</text>\n",
       "<polygon fill=\"none\" stroke=\"gray\" points=\"140,-332 140,-346 177,-346 177,-332 140,-332\"/>\n",
       "<text text-anchor=\"start\" x=\"143\" y=\"-337.4\" font-family=\"Acme-Regular.ttf\" font-size=\"7.00\">Burglary</text>\n",
       "<polygon fill=\"none\" stroke=\"gray\" points=\"177,-332 177,-346 225,-346 225,-332 177,-332\"/>\n",
       "<text text-anchor=\"start\" x=\"180\" y=\"-337.4\" font-family=\"Acme-Regular.ttf\" font-size=\"7.00\">Earthquake</text>\n",
       "<polygon fill=\"none\" stroke=\"gray\" points=\"225,-332 225,-346 279,-346 279,-332 225,-332\"/>\n",
       "<text text-anchor=\"start\" x=\"228\" y=\"-337.4\" font-family=\"Acme-Regular.ttf\" font-size=\"7.00\">Alarm = True</text>\n",
       "<polygon fill=\"none\" stroke=\"gray\" points=\"279,-332 279,-346 335,-346 335,-332 279,-332\"/>\n",
       "<text text-anchor=\"start\" x=\"282\" y=\"-337.4\" font-family=\"Acme-Regular.ttf\" font-size=\"7.00\">Alarm = False</text>\n",
       "<polygon fill=\"none\" stroke=\"gray\" points=\"140,-318 140,-332 177,-332 177,-318 140,-318\"/>\n",
       "<text text-anchor=\"start\" x=\"150.5\" y=\"-323.4\" font-family=\"Acme-Regular.ttf\" font-size=\"7.00\">True</text>\n",
       "<polygon fill=\"none\" stroke=\"gray\" points=\"177,-318 177,-332 225,-332 225,-318 177,-318\"/>\n",
       "<text text-anchor=\"start\" x=\"193\" y=\"-323.4\" font-family=\"Acme-Regular.ttf\" font-size=\"7.00\">True</text>\n",
       "<polygon fill=\"none\" stroke=\"gray\" points=\"225,-318 225,-332 279,-332 279,-318 225,-318\"/>\n",
       "<text text-anchor=\"start\" x=\"244\" y=\"-323.4\" font-family=\"Acme-Regular.ttf\" font-size=\"7.00\">0.95</text>\n",
       "<polygon fill=\"none\" stroke=\"gray\" points=\"279,-318 279,-332 335,-332 335,-318 279,-318\"/>\n",
       "<text text-anchor=\"start\" x=\"299\" y=\"-323.4\" font-family=\"Acme-Regular.ttf\" font-size=\"7.00\">0.05</text>\n",
       "<polygon fill=\"none\" stroke=\"gray\" points=\"140,-304 140,-318 177,-318 177,-304 140,-304\"/>\n",
       "<text text-anchor=\"start\" x=\"150.5\" y=\"-309.4\" font-family=\"Acme-Regular.ttf\" font-size=\"7.00\">True</text>\n",
       "<polygon fill=\"none\" stroke=\"gray\" points=\"177,-304 177,-318 225,-318 225,-304 177,-304\"/>\n",
       "<text text-anchor=\"start\" x=\"191.5\" y=\"-309.4\" font-family=\"Acme-Regular.ttf\" font-size=\"7.00\">False</text>\n",
       "<polygon fill=\"none\" stroke=\"gray\" points=\"225,-304 225,-318 279,-318 279,-304 225,-304\"/>\n",
       "<text text-anchor=\"start\" x=\"244\" y=\"-309.4\" font-family=\"Acme-Regular.ttf\" font-size=\"7.00\">0.94</text>\n",
       "<polygon fill=\"none\" stroke=\"gray\" points=\"279,-304 279,-318 335,-318 335,-304 279,-304\"/>\n",
       "<text text-anchor=\"start\" x=\"299\" y=\"-309.4\" font-family=\"Acme-Regular.ttf\" font-size=\"7.00\">0.06</text>\n",
       "<polygon fill=\"none\" stroke=\"gray\" points=\"140,-290 140,-304 177,-304 177,-290 140,-290\"/>\n",
       "<text text-anchor=\"start\" x=\"149\" y=\"-295.4\" font-family=\"Acme-Regular.ttf\" font-size=\"7.00\">False</text>\n",
       "<polygon fill=\"none\" stroke=\"gray\" points=\"177,-290 177,-304 225,-304 225,-290 177,-290\"/>\n",
       "<text text-anchor=\"start\" x=\"193\" y=\"-295.4\" font-family=\"Acme-Regular.ttf\" font-size=\"7.00\">True</text>\n",
       "<polygon fill=\"none\" stroke=\"gray\" points=\"225,-290 225,-304 279,-304 279,-290 225,-290\"/>\n",
       "<text text-anchor=\"start\" x=\"244\" y=\"-295.4\" font-family=\"Acme-Regular.ttf\" font-size=\"7.00\">0.29</text>\n",
       "<polygon fill=\"none\" stroke=\"gray\" points=\"279,-290 279,-304 335,-304 335,-290 279,-290\"/>\n",
       "<text text-anchor=\"start\" x=\"299\" y=\"-295.4\" font-family=\"Acme-Regular.ttf\" font-size=\"7.00\">0.71</text>\n",
       "<polygon fill=\"none\" stroke=\"gray\" points=\"140,-276 140,-290 177,-290 177,-276 140,-276\"/>\n",
       "<text text-anchor=\"start\" x=\"149\" y=\"-281.4\" font-family=\"Acme-Regular.ttf\" font-size=\"7.00\">False</text>\n",
       "<polygon fill=\"none\" stroke=\"gray\" points=\"177,-276 177,-290 225,-290 225,-276 177,-276\"/>\n",
       "<text text-anchor=\"start\" x=\"191.5\" y=\"-281.4\" font-family=\"Acme-Regular.ttf\" font-size=\"7.00\">False</text>\n",
       "<polygon fill=\"none\" stroke=\"gray\" points=\"225,-276 225,-290 279,-290 279,-276 225,-276\"/>\n",
       "<text text-anchor=\"start\" x=\"241.5\" y=\"-281.4\" font-family=\"Acme-Regular.ttf\" font-size=\"7.00\">0.001</text>\n",
       "<polygon fill=\"none\" stroke=\"gray\" points=\"279,-276 279,-290 335,-290 335,-276 279,-276\"/>\n",
       "<text text-anchor=\"start\" x=\"296.5\" y=\"-281.4\" font-family=\"Acme-Regular.ttf\" font-size=\"7.00\">0.999</text>\n",
       "</g>\n",
       "<!-- cpd_Alarm&#45;&gt;Alarm -->\n",
       "<!-- cpd_MaryCalls -->\n",
       "<g id=\"node10\" class=\"node\"><title>cpd_MaryCalls</title>\n",
       "<polygon fill=\"white\" stroke=\"none\" points=\"447.5,-236 266.5,-236 266.5,-172 447.5,-172 447.5,-236\"/>\n",
       "<polygon fill=\"none\" stroke=\"gray\" points=\"275,-218 275,-232 440,-232 440,-218 275,-218\"/>\n",
       "<text text-anchor=\"start\" x=\"340\" y=\"-223.4\" font-family=\"Acme-Regular.ttf\" font-size=\"7.00\">MaryCalls</text>\n",
       "<polygon fill=\"none\" stroke=\"gray\" points=\"275,-204 275,-218 303,-218 303,-204 275,-204\"/>\n",
       "<text text-anchor=\"start\" x=\"278\" y=\"-209.4\" font-family=\"Acme-Regular.ttf\" font-size=\"7.00\">Alarm</text>\n",
       "<polygon fill=\"none\" stroke=\"gray\" points=\"303,-204 303,-218 370,-218 370,-204 303,-204\"/>\n",
       "<text text-anchor=\"start\" x=\"306\" y=\"-209.4\" font-family=\"Acme-Regular.ttf\" font-size=\"7.00\">MaryCalls = True</text>\n",
       "<polygon fill=\"none\" stroke=\"gray\" points=\"370,-204 370,-218 440,-218 440,-204 370,-204\"/>\n",
       "<text text-anchor=\"start\" x=\"373\" y=\"-209.4\" font-family=\"Acme-Regular.ttf\" font-size=\"7.00\">MaryCalls = False</text>\n",
       "<polygon fill=\"none\" stroke=\"gray\" points=\"275,-190 275,-204 303,-204 303,-190 275,-190\"/>\n",
       "<text text-anchor=\"start\" x=\"281\" y=\"-195.4\" font-family=\"Acme-Regular.ttf\" font-size=\"7.00\">True</text>\n",
       "<polygon fill=\"none\" stroke=\"gray\" points=\"303,-190 303,-204 370,-204 370,-190 303,-190\"/>\n",
       "<text text-anchor=\"start\" x=\"330.5\" y=\"-195.4\" font-family=\"Acme-Regular.ttf\" font-size=\"7.00\">0.7</text>\n",
       "<polygon fill=\"none\" stroke=\"gray\" points=\"370,-190 370,-204 440,-204 440,-190 370,-190\"/>\n",
       "<text text-anchor=\"start\" x=\"399\" y=\"-195.4\" font-family=\"Acme-Regular.ttf\" font-size=\"7.00\">0.3</text>\n",
       "<polygon fill=\"none\" stroke=\"gray\" points=\"275,-176 275,-190 303,-190 303,-176 275,-176\"/>\n",
       "<text text-anchor=\"start\" x=\"279.5\" y=\"-181.4\" font-family=\"Acme-Regular.ttf\" font-size=\"7.00\">False</text>\n",
       "<polygon fill=\"none\" stroke=\"gray\" points=\"303,-176 303,-190 370,-190 370,-176 303,-176\"/>\n",
       "<text text-anchor=\"start\" x=\"328.5\" y=\"-181.4\" font-family=\"Acme-Regular.ttf\" font-size=\"7.00\">0.01</text>\n",
       "<polygon fill=\"none\" stroke=\"gray\" points=\"370,-176 370,-190 440,-190 440,-176 370,-176\"/>\n",
       "<text text-anchor=\"start\" x=\"397\" y=\"-181.4\" font-family=\"Acme-Regular.ttf\" font-size=\"7.00\">0.99</text>\n",
       "</g>\n",
       "<!-- cpd_MaryCalls&#45;&gt;MaryCalls -->\n",
       "</g>\n",
       "</svg>\n"
      ],
      "text/plain": [
       "<graphviz.dot.Digraph at 0x7f42b98b5690>"
      ]
     },
     "execution_count": 8,
     "metadata": {},
     "output_type": "execute_result"
    }
   ],
   "source": [
    "pgmpyToGraphCPD(model = alarmModel, shorten = False)"
   ]
  },
  {
   "cell_type": "code",
   "execution_count": 9,
   "metadata": {
    "lines_to_next_cell": 0,
    "title": "markdown"
   },
   "outputs": [],
   "source": [
    "# ### Study: Independencies of the Alarm Model"
   ]
  },
  {
   "cell_type": "code",
   "execution_count": 10,
   "metadata": {
    "lines_to_next_cell": 0,
    "title": "codecell"
   },
   "outputs": [
    {
     "data": {
      "text/plain": [
       "(Burglary _|_ Earthquake)"
      ]
     },
     "execution_count": 10,
     "metadata": {},
     "output_type": "execute_result"
    }
   ],
   "source": [
    "alarmModel.local_independencies('Burglary')"
   ]
  },
  {
   "cell_type": "code",
   "execution_count": 11,
   "metadata": {
    "lines_to_next_cell": 0,
    "title": "codecell"
   },
   "outputs": [
    {
     "data": {
      "text/plain": [
       "(Earthquake _|_ Burglary)"
      ]
     },
     "execution_count": 11,
     "metadata": {},
     "output_type": "execute_result"
    }
   ],
   "source": [
    "alarmModel.local_independencies('Earthquake')"
   ]
  },
  {
   "cell_type": "code",
   "execution_count": 12,
   "metadata": {
    "lines_to_next_cell": 0,
    "title": "codecell"
   },
   "outputs": [
    {
     "data": {
      "text/plain": []
     },
     "execution_count": 12,
     "metadata": {},
     "output_type": "execute_result"
    }
   ],
   "source": [
    "alarmModel.local_independencies('Alarm')"
   ]
  },
  {
   "cell_type": "code",
   "execution_count": 13,
   "metadata": {
    "lines_to_next_cell": 0,
    "title": "codecell"
   },
   "outputs": [
    {
     "data": {
      "text/plain": [
       "(MaryCalls _|_ Earthquake, Burglary, JohnCalls | Alarm)"
      ]
     },
     "execution_count": 13,
     "metadata": {},
     "output_type": "execute_result"
    }
   ],
   "source": [
    "alarmModel.local_independencies('MaryCalls')"
   ]
  },
  {
   "cell_type": "code",
   "execution_count": 14,
   "metadata": {
    "lines_to_next_cell": 0,
    "title": "codecell"
   },
   "outputs": [
    {
     "data": {
      "text/plain": [
       "(JohnCalls _|_ Earthquake, MaryCalls, Burglary | Alarm)"
      ]
     },
     "execution_count": 14,
     "metadata": {},
     "output_type": "execute_result"
    }
   ],
   "source": [
    "alarmModel.local_independencies('JohnCalls')"
   ]
  },
  {
   "cell_type": "code",
   "execution_count": 15,
   "metadata": {
    "title": "codecell"
   },
   "outputs": [
    {
     "data": {
      "text/plain": [
       "(Burglary _|_ Earthquake)\n",
       "(Burglary _|_ MaryCalls, JohnCalls | Alarm)\n",
       "(Burglary _|_ MaryCalls, JohnCalls | Alarm, Earthquake)\n",
       "(Burglary _|_ JohnCalls | Alarm, MaryCalls)\n",
       "(Burglary _|_ MaryCalls | Alarm, JohnCalls)\n",
       "(Burglary _|_ JohnCalls | Alarm, Earthquake, MaryCalls)\n",
       "(Burglary _|_ MaryCalls | Alarm, Earthquake, JohnCalls)\n",
       "(Earthquake _|_ Burglary)\n",
       "(Earthquake _|_ MaryCalls, JohnCalls | Alarm)\n",
       "(Earthquake _|_ JohnCalls | Alarm, MaryCalls)\n",
       "(Earthquake _|_ MaryCalls, JohnCalls | Alarm, Burglary)\n",
       "(Earthquake _|_ MaryCalls | Alarm, JohnCalls)\n",
       "(Earthquake _|_ JohnCalls | Alarm, MaryCalls, Burglary)\n",
       "(Earthquake _|_ MaryCalls | Alarm, JohnCalls, Burglary)\n",
       "(JohnCalls _|_ Earthquake, MaryCalls, Burglary | Alarm)\n",
       "(JohnCalls _|_ MaryCalls, Burglary | Alarm, Earthquake)\n",
       "(JohnCalls _|_ Earthquake, Burglary | Alarm, MaryCalls)\n",
       "(JohnCalls _|_ Earthquake, MaryCalls | Alarm, Burglary)\n",
       "(JohnCalls _|_ Burglary | Alarm, Earthquake, MaryCalls)\n",
       "(JohnCalls _|_ MaryCalls | Alarm, Earthquake, Burglary)\n",
       "(JohnCalls _|_ Earthquake | Alarm, MaryCalls, Burglary)\n",
       "(MaryCalls _|_ Earthquake, Burglary, JohnCalls | Alarm)\n",
       "(MaryCalls _|_ Burglary, JohnCalls | Alarm, Earthquake)\n",
       "(MaryCalls _|_ Earthquake, JohnCalls | Alarm, Burglary)\n",
       "(MaryCalls _|_ Earthquake, Burglary | Alarm, JohnCalls)\n",
       "(MaryCalls _|_ JohnCalls | Alarm, Earthquake, Burglary)\n",
       "(MaryCalls _|_ Burglary | Alarm, Earthquake, JohnCalls)\n",
       "(MaryCalls _|_ Earthquake | Alarm, JohnCalls, Burglary)"
      ]
     },
     "execution_count": 15,
     "metadata": {},
     "output_type": "execute_result"
    }
   ],
   "source": [
    "alarmModel.get_independencies()"
   ]
  }
 ],
 "metadata": {
  "jupytext": {
   "cell_metadata_filter": "title,-all"
  },
  "kernelspec": {
   "display_name": "pybayesian_env",
   "language": "python",
   "name": "pybayesian_env"
  },
  "language_info": {
   "codemirror_mode": {
    "name": "ipython",
    "version": 3
   },
   "file_extension": ".py",
   "mimetype": "text/x-python",
   "name": "python",
   "nbconvert_exporter": "python",
   "pygments_lexer": "ipython3",
   "version": "3.7.6"
  }
 },
 "nbformat": 4,
 "nbformat_minor": 4
}
