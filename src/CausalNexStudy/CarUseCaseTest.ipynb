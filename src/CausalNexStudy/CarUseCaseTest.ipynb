{
 "cells": [
  {
   "cell_type": "markdown",
   "metadata": {
    "title": "markdown"
   },
   "source": [
    "[Data source](https://github.com/KnowSciEng/tmmc/blob/master/data/usecase%231.csv)\n",
    "\n",
    "# Using CausalNex for Use Cases in Car Procedure Project"
   ]
  },
  {
   "cell_type": "code",
   "execution_count": 1,
   "metadata": {
    "lines_to_next_cell": 0,
    "title": "codecell"
   },
   "outputs": [
    {
     "name": "stdout",
     "output_type": "stream",
     "text": [
      "curPath =  /development/projects/statisticallyfit/github/learningmathstat/PythonNeuralNetNLP/src/CausalNexStudy/ \n",
      "\n",
      "dataPath =  /development/projects/statisticallyfit/github/learningmathstat/PythonNeuralNetNLP/src/CausalNexStudy/data/ \n",
      "\n"
     ]
    }
   ],
   "source": [
    "import os\n",
    "from typing import *\n",
    "\n",
    "\n",
    "os.getcwd()\n",
    "# Setting the baseline:\n",
    "os.chdir('/development/projects/statisticallyfit/github/learningmathstat/PythonNeuralNetNLP')\n",
    "\n",
    "\n",
    "curPath: str = os.getcwd() + \"/src/CausalNexStudy/\"\n",
    "\n",
    "dataPath: str = curPath + \"data/\"\n",
    "\n",
    "\n",
    "print(\"curPath = \", curPath, \"\\n\")\n",
    "print(\"dataPath = \", dataPath, \"\\n\")"
   ]
  },
  {
   "cell_type": "code",
   "execution_count": 2,
   "metadata": {
    "lines_to_next_cell": 0,
    "title": "codecell"
   },
   "outputs": [
    {
     "data": {
      "text/plain": [
       "['/development/projects/statisticallyfit/github/learningmathstat/PythonNeuralNetNLP/src/CausalNexStudy',\n",
       " '/development/bin/python/conda3_ana/envs/pybayesian_env/lib/python37.zip',\n",
       " '/development/bin/python/conda3_ana/envs/pybayesian_env/lib/python3.7',\n",
       " '/development/bin/python/conda3_ana/envs/pybayesian_env/lib/python3.7/lib-dynload',\n",
       " '',\n",
       " '/development/bin/python/conda3_ana/envs/pybayesian_env/lib/python3.7/site-packages',\n",
       " '/development/bin/python/conda3_ana/envs/pybayesian_env/lib/python3.7/site-packages/IPython/extensions',\n",
       " '/home/statisticallyfit/.ipython',\n",
       " '/development/projects/statisticallyfit/github/learningmathstat/PythonNeuralNetNLP/src/utils/',\n",
       " '/development/projects/statisticallyfit/github/learningmathstat/PythonNeuralNetNLP/src/CausalNexStudy/']"
      ]
     },
     "execution_count": 2,
     "metadata": {},
     "output_type": "execute_result"
    }
   ],
   "source": [
    "import sys\n",
    "# Making files in utils folder visible here: to import my local print functions for nn.Module objects\n",
    "sys.path.append(os.getcwd() + \"/src/utils/\")\n",
    "# For being able to import files within CausalNex folder\n",
    "sys.path.append(curPath)\n",
    "\n",
    "sys.path"
   ]
  },
  {
   "cell_type": "markdown",
   "metadata": {
    "lines_to_next_cell": 0,
    "title": "markdown"
   },
   "source": [
    "# 1/ Structure Learning\n",
    "## Structure from Domain Knowledge\n",
    "We can manually define a structure model by specifying the relationships between different features.\n",
    "First we must create an empty structure model."
   ]
  },
  {
   "cell_type": "code",
   "execution_count": 3,
   "metadata": {
    "title": "codecell"
   },
   "outputs": [],
   "source": [
    "from causalnex.structure import StructureModel\n",
    "\n",
    "carStructModel: StructureModel = StructureModel()"
   ]
  },
  {
   "cell_type": "markdown",
   "metadata": {
    "lines_to_next_cell": 0,
    "title": "markdown"
   },
   "source": [
    "## Learning the Structure\n",
    "Can use CausalNex to learn structure model from data, when number of variables grows or domain knowledge does not exist. (Algorithm used is the [NOTEARS algorithm](https://arxiv.org/abs/1803.01422)).\n",
    "* NOTE: not always necessary to train / test split because structure learning should be a joint effort between machine learning and domain experts.\n",
    "\n",
    "First must pre-process the data so the [NOTEARS algorithm](https://arxiv.org/abs/1803.01422) can be used.\n",
    "\n",
    "## Preparing the Data for Structure Learning\n",
    "* $\\color{red}{\\text{ALERT: }}$ very important, MUST have the column names have nonoe of these characters: ?! - ; else will get error from the `InferenceEngine.__init__` function as: `\"Variable names must match ^[0-9a-zA-Z_]+$ - please fix the following nodes: {0}\".format(bad_nodes)`\n",
    "\n",
    "* $\\color{red}{\\text{ALERT: }}$ key point, alawys use the '_' (underscore) instead of '-' (dash) character if you want to space out the column header names. Otherwise `InferenceEngine` won't work!"
   ]
  },
  {
   "cell_type": "code",
   "execution_count": 4,
   "metadata": {
    "lines_to_next_cell": 0,
    "title": "codecell"
   },
   "outputs": [
    {
     "data": {
      "text/html": [
       "<div>\n",
       "<style scoped>\n",
       "    .dataframe tbody tr th:only-of-type {\n",
       "        vertical-align: middle;\n",
       "    }\n",
       "\n",
       "    .dataframe tbody tr th {\n",
       "        vertical-align: top;\n",
       "    }\n",
       "\n",
       "    .dataframe thead th {\n",
       "        text-align: right;\n",
       "    }\n",
       "</style>\n",
       "<table border=\"1\" class=\"dataframe\">\n",
       "  <thead>\n",
       "    <tr style=\"text-align: right;\">\n",
       "      <th></th>\n",
       "      <th>ndx</th>\n",
       "      <th>process_type</th>\n",
       "      <th>tool_type</th>\n",
       "      <th>injury_type</th>\n",
       "      <th>absenteeism_level</th>\n",
       "    </tr>\n",
       "  </thead>\n",
       "  <tbody>\n",
       "    <tr>\n",
       "      <th>0</th>\n",
       "      <td>1</td>\n",
       "      <td>Engine-Mount</td>\n",
       "      <td>Power-Gun</td>\n",
       "      <td>Electrical-Burn</td>\n",
       "      <td>Absenteeism-00</td>\n",
       "    </tr>\n",
       "    <tr>\n",
       "      <th>1</th>\n",
       "      <td>2</td>\n",
       "      <td>Engine-Mount</td>\n",
       "      <td>Forklift</td>\n",
       "      <td>Contact-Contusion</td>\n",
       "      <td>Absenteeism-03</td>\n",
       "    </tr>\n",
       "    <tr>\n",
       "      <th>2</th>\n",
       "      <td>3</td>\n",
       "      <td>Engine-Wiring</td>\n",
       "      <td>Power-Gun</td>\n",
       "      <td>Electrical-Shock</td>\n",
       "      <td>Absenteeism-02</td>\n",
       "    </tr>\n",
       "    <tr>\n",
       "      <th>3</th>\n",
       "      <td>4</td>\n",
       "      <td>Engine-Mount</td>\n",
       "      <td>Forklift</td>\n",
       "      <td>Fall-Gtm</td>\n",
       "      <td>Absenteeism-03</td>\n",
       "    </tr>\n",
       "    <tr>\n",
       "      <th>4</th>\n",
       "      <td>5</td>\n",
       "      <td>Sun-Roof-Housing</td>\n",
       "      <td>Power-Gun</td>\n",
       "      <td>Electrical-Burn</td>\n",
       "      <td>Absenteeism-00</td>\n",
       "    </tr>\n",
       "    <tr>\n",
       "      <th>5</th>\n",
       "      <td>6</td>\n",
       "      <td>Accel-Pedal</td>\n",
       "      <td>Power-Gun</td>\n",
       "      <td>Electrical-Burn</td>\n",
       "      <td>Absenteeism-00</td>\n",
       "    </tr>\n",
       "    <tr>\n",
       "      <th>6</th>\n",
       "      <td>7</td>\n",
       "      <td>Oil-Fill</td>\n",
       "      <td>Oil</td>\n",
       "      <td>Chemical-Burn</td>\n",
       "      <td>Absenteeism-02</td>\n",
       "    </tr>\n",
       "  </tbody>\n",
       "</table>\n",
       "</div>"
      ],
      "text/plain": [
       "   ndx  process_type      tool_type  injury_type       absenteeism_level\n",
       "0    1  Engine-Mount      Power-Gun  Electrical-Burn      Absenteeism-00\n",
       "1    2  Engine-Mount      Forklift   Contact-Contusion    Absenteeism-03\n",
       "2    3  Engine-Wiring     Power-Gun  Electrical-Shock     Absenteeism-02\n",
       "3    4  Engine-Mount      Forklift   Fall-Gtm             Absenteeism-03\n",
       "4    5  Sun-Roof-Housing  Power-Gun  Electrical-Burn      Absenteeism-00\n",
       "5    6  Accel-Pedal       Power-Gun  Electrical-Burn      Absenteeism-00\n",
       "6    7  Oil-Fill          Oil        Chemical-Burn        Absenteeism-02"
      ]
     },
     "execution_count": 4,
     "metadata": {},
     "output_type": "execute_result"
    }
   ],
   "source": [
    "import pandas as pd\n",
    "from pandas.core.frame import DataFrame\n",
    "\n",
    "\n",
    "fileName: str = dataPath + 'usecase#1.csv'\n",
    "data: DataFrame = pd.read_csv(fileName, delimiter = ',')\n",
    "\n",
    "data"
   ]
  },
  {
   "cell_type": "code",
   "execution_count": 5,
   "metadata": {
    "lines_to_next_cell": 0,
    "title": "codecell"
   },
   "outputs": [
    {
     "data": {
      "text/plain": [
       "Index(['ndx', 'process_type    ', 'tool_type', 'injury_type      ',\n",
       "       'absenteeism_level'],\n",
       "      dtype='object')"
      ]
     },
     "execution_count": 5,
     "metadata": {},
     "output_type": "execute_result"
    }
   ],
   "source": [
    "data.columns"
   ]
  },
  {
   "cell_type": "code",
   "execution_count": 6,
   "metadata": {
    "title": "codecell"
   },
   "outputs": [],
   "source": [
    "# Removing whitespace from the column NAMES\n",
    "assert data.columns[1] == 'process_type    ' and not data.columns[1] == 'process_type'\n",
    "\n",
    "data = data.rename(columns=lambda x: x.strip()) # inplace = False\n",
    "assert data.columns[1] == 'process_type'\n",
    "\n",
    "\n",
    "# Removing whitespace from the column VALUES\n",
    "assert data['process_type'][1] == 'Engine-Mount    ' and not data['process_type'][1] == 'Engine-Mount'\n",
    "data = data.apply(lambda x: x.str.strip() if x.dtype == \"object\" else x)\n",
    "assert data['process_type'][1] == 'Engine-Mount'"
   ]
  },
  {
   "cell_type": "markdown",
   "metadata": {
    "lines_to_next_cell": 0,
    "title": "markdown"
   },
   "source": [
    "Dropping the useless 'ndx' column since that is not a variable:"
   ]
  },
  {
   "cell_type": "code",
   "execution_count": 7,
   "metadata": {
    "lines_to_next_cell": 0,
    "title": "codecell"
   },
   "outputs": [
    {
     "data": {
      "text/html": [
       "<div>\n",
       "<style scoped>\n",
       "    .dataframe tbody tr th:only-of-type {\n",
       "        vertical-align: middle;\n",
       "    }\n",
       "\n",
       "    .dataframe tbody tr th {\n",
       "        vertical-align: top;\n",
       "    }\n",
       "\n",
       "    .dataframe thead th {\n",
       "        text-align: right;\n",
       "    }\n",
       "</style>\n",
       "<table border=\"1\" class=\"dataframe\">\n",
       "  <thead>\n",
       "    <tr style=\"text-align: right;\">\n",
       "      <th></th>\n",
       "      <th>process_type</th>\n",
       "      <th>tool_type</th>\n",
       "      <th>injury_type</th>\n",
       "      <th>absenteeism_level</th>\n",
       "    </tr>\n",
       "  </thead>\n",
       "  <tbody>\n",
       "    <tr>\n",
       "      <th>0</th>\n",
       "      <td>Engine-Mount</td>\n",
       "      <td>Power-Gun</td>\n",
       "      <td>Electrical-Burn</td>\n",
       "      <td>Absenteeism-00</td>\n",
       "    </tr>\n",
       "    <tr>\n",
       "      <th>1</th>\n",
       "      <td>Engine-Mount</td>\n",
       "      <td>Forklift</td>\n",
       "      <td>Contact-Contusion</td>\n",
       "      <td>Absenteeism-03</td>\n",
       "    </tr>\n",
       "    <tr>\n",
       "      <th>2</th>\n",
       "      <td>Engine-Wiring</td>\n",
       "      <td>Power-Gun</td>\n",
       "      <td>Electrical-Shock</td>\n",
       "      <td>Absenteeism-02</td>\n",
       "    </tr>\n",
       "    <tr>\n",
       "      <th>3</th>\n",
       "      <td>Engine-Mount</td>\n",
       "      <td>Forklift</td>\n",
       "      <td>Fall-Gtm</td>\n",
       "      <td>Absenteeism-03</td>\n",
       "    </tr>\n",
       "    <tr>\n",
       "      <th>4</th>\n",
       "      <td>Sun-Roof-Housing</td>\n",
       "      <td>Power-Gun</td>\n",
       "      <td>Electrical-Burn</td>\n",
       "      <td>Absenteeism-00</td>\n",
       "    </tr>\n",
       "    <tr>\n",
       "      <th>5</th>\n",
       "      <td>Accel-Pedal</td>\n",
       "      <td>Power-Gun</td>\n",
       "      <td>Electrical-Burn</td>\n",
       "      <td>Absenteeism-00</td>\n",
       "    </tr>\n",
       "    <tr>\n",
       "      <th>6</th>\n",
       "      <td>Oil-Fill</td>\n",
       "      <td>Oil</td>\n",
       "      <td>Chemical-Burn</td>\n",
       "      <td>Absenteeism-02</td>\n",
       "    </tr>\n",
       "  </tbody>\n",
       "</table>\n",
       "</div>"
      ],
      "text/plain": [
       "       process_type  tool_type        injury_type absenteeism_level\n",
       "0      Engine-Mount  Power-Gun    Electrical-Burn    Absenteeism-00\n",
       "1      Engine-Mount   Forklift  Contact-Contusion    Absenteeism-03\n",
       "2     Engine-Wiring  Power-Gun   Electrical-Shock    Absenteeism-02\n",
       "3      Engine-Mount   Forklift           Fall-Gtm    Absenteeism-03\n",
       "4  Sun-Roof-Housing  Power-Gun    Electrical-Burn    Absenteeism-00\n",
       "5       Accel-Pedal  Power-Gun    Electrical-Burn    Absenteeism-00\n",
       "6          Oil-Fill        Oil      Chemical-Burn    Absenteeism-02"
      ]
     },
     "execution_count": 7,
     "metadata": {},
     "output_type": "execute_result"
    }
   ],
   "source": [
    "data: DataFrame = data.drop(columns = ['ndx'])\n",
    "data"
   ]
  },
  {
   "cell_type": "markdown",
   "metadata": {
    "lines_to_next_cell": 0,
    "title": "markdown"
   },
   "source": [
    "Next we want to make our data numeric since this is what the NOTEARS algorithm expects. We can do this by label-encoding the non-numeric variables (to make them also numeric, like the current numeric variables)."
   ]
  },
  {
   "cell_type": "code",
   "execution_count": 8,
   "metadata": {
    "lines_to_next_cell": 0,
    "title": "codecell"
   },
   "outputs": [
    {
     "data": {
      "text/html": [
       "<div>\n",
       "<style scoped>\n",
       "    .dataframe tbody tr th:only-of-type {\n",
       "        vertical-align: middle;\n",
       "    }\n",
       "\n",
       "    .dataframe tbody tr th {\n",
       "        vertical-align: top;\n",
       "    }\n",
       "\n",
       "    .dataframe thead th {\n",
       "        text-align: right;\n",
       "    }\n",
       "</style>\n",
       "<table border=\"1\" class=\"dataframe\">\n",
       "  <thead>\n",
       "    <tr style=\"text-align: right;\">\n",
       "      <th></th>\n",
       "      <th>process_type</th>\n",
       "      <th>tool_type</th>\n",
       "      <th>injury_type</th>\n",
       "      <th>absenteeism_level</th>\n",
       "    </tr>\n",
       "  </thead>\n",
       "  <tbody>\n",
       "    <tr>\n",
       "      <th>0</th>\n",
       "      <td>Engine-Mount</td>\n",
       "      <td>Power-Gun</td>\n",
       "      <td>Electrical-Burn</td>\n",
       "      <td>Absenteeism-00</td>\n",
       "    </tr>\n",
       "    <tr>\n",
       "      <th>1</th>\n",
       "      <td>Engine-Mount</td>\n",
       "      <td>Forklift</td>\n",
       "      <td>Contact-Contusion</td>\n",
       "      <td>Absenteeism-03</td>\n",
       "    </tr>\n",
       "    <tr>\n",
       "      <th>2</th>\n",
       "      <td>Engine-Wiring</td>\n",
       "      <td>Power-Gun</td>\n",
       "      <td>Electrical-Shock</td>\n",
       "      <td>Absenteeism-02</td>\n",
       "    </tr>\n",
       "    <tr>\n",
       "      <th>3</th>\n",
       "      <td>Engine-Mount</td>\n",
       "      <td>Forklift</td>\n",
       "      <td>Fall-Gtm</td>\n",
       "      <td>Absenteeism-03</td>\n",
       "    </tr>\n",
       "    <tr>\n",
       "      <th>4</th>\n",
       "      <td>Sun-Roof-Housing</td>\n",
       "      <td>Power-Gun</td>\n",
       "      <td>Electrical-Burn</td>\n",
       "      <td>Absenteeism-00</td>\n",
       "    </tr>\n",
       "    <tr>\n",
       "      <th>5</th>\n",
       "      <td>Accel-Pedal</td>\n",
       "      <td>Power-Gun</td>\n",
       "      <td>Electrical-Burn</td>\n",
       "      <td>Absenteeism-00</td>\n",
       "    </tr>\n",
       "    <tr>\n",
       "      <th>6</th>\n",
       "      <td>Oil-Fill</td>\n",
       "      <td>Oil</td>\n",
       "      <td>Chemical-Burn</td>\n",
       "      <td>Absenteeism-02</td>\n",
       "    </tr>\n",
       "  </tbody>\n",
       "</table>\n",
       "</div>"
      ],
      "text/plain": [
       "       process_type  tool_type        injury_type absenteeism_level\n",
       "0      Engine-Mount  Power-Gun    Electrical-Burn    Absenteeism-00\n",
       "1      Engine-Mount   Forklift  Contact-Contusion    Absenteeism-03\n",
       "2     Engine-Wiring  Power-Gun   Electrical-Shock    Absenteeism-02\n",
       "3      Engine-Mount   Forklift           Fall-Gtm    Absenteeism-03\n",
       "4  Sun-Roof-Housing  Power-Gun    Electrical-Burn    Absenteeism-00\n",
       "5       Accel-Pedal  Power-Gun    Electrical-Burn    Absenteeism-00\n",
       "6          Oil-Fill        Oil      Chemical-Burn    Absenteeism-02"
      ]
     },
     "execution_count": 8,
     "metadata": {},
     "output_type": "execute_result"
    }
   ],
   "source": [
    "import numpy as np\n",
    "\n",
    "labelEncData: DataFrame = data.copy()\n",
    "\n",
    "# This operation below excludes all column variables that are number variables (so keeping only categorical variables)\n",
    "labelEncData.select_dtypes(exclude=[np.number])"
   ]
  },
  {
   "cell_type": "code",
   "execution_count": 9,
   "metadata": {
    "lines_to_next_cell": 0,
    "title": "codecell"
   },
   "outputs": [
    {
     "data": {
      "text/plain": [
       "Index(['process_type', 'tool_type', 'injury_type', 'absenteeism_level'], dtype='object')"
      ]
     },
     "execution_count": 9,
     "metadata": {},
     "output_type": "execute_result"
    }
   ],
   "source": [
    "# Getting the names of the categorical variables (columns)\n",
    "labelEncData.select_dtypes(exclude=[np.number]).columns"
   ]
  },
  {
   "cell_type": "code",
   "execution_count": 10,
   "metadata": {
    "lines_to_next_cell": 0,
    "title": "codecell"
   },
   "outputs": [
    {
     "data": {
      "text/plain": [
       "['process_type', 'tool_type', 'injury_type', 'absenteeism_level']"
      ]
     },
     "execution_count": 10,
     "metadata": {},
     "output_type": "execute_result"
    }
   ],
   "source": [
    "namesOfCategoricalVars: List[str] = list(labelEncData.select_dtypes(exclude=[np.number]).columns)\n",
    "\n",
    "namesOfCategoricalVars"
   ]
  },
  {
   "cell_type": "code",
   "execution_count": 11,
   "metadata": {
    "title": "codecell"
   },
   "outputs": [],
   "source": [
    "from sklearn.preprocessing import LabelEncoder\n",
    "\n",
    "labelEncoder: LabelEncoder = LabelEncoder()\n",
    "\n",
    "# NOTE: structData keeps also the numeric columns, doesn't exclude them! just updates the non-numeric cols.\n",
    "for varName in namesOfCategoricalVars:\n",
    "    labelEncData[varName] = labelEncoder.fit_transform(y = labelEncData[varName])"
   ]
  },
  {
   "cell_type": "markdown",
   "metadata": {
    "lines_to_next_cell": 0,
    "title": "markdown"
   },
   "source": [
    "Comparing the converted numericalized `labelEncData` with the previous `data`:"
   ]
  },
  {
   "cell_type": "code",
   "execution_count": 12,
   "metadata": {
    "lines_to_next_cell": 0,
    "title": "codecell"
   },
   "outputs": [
    {
     "data": {
      "text/html": [
       "<div>\n",
       "<style scoped>\n",
       "    .dataframe tbody tr th:only-of-type {\n",
       "        vertical-align: middle;\n",
       "    }\n",
       "\n",
       "    .dataframe tbody tr th {\n",
       "        vertical-align: top;\n",
       "    }\n",
       "\n",
       "    .dataframe thead th {\n",
       "        text-align: right;\n",
       "    }\n",
       "</style>\n",
       "<table border=\"1\" class=\"dataframe\">\n",
       "  <thead>\n",
       "    <tr style=\"text-align: right;\">\n",
       "      <th></th>\n",
       "      <th>process_type</th>\n",
       "      <th>tool_type</th>\n",
       "      <th>injury_type</th>\n",
       "      <th>absenteeism_level</th>\n",
       "    </tr>\n",
       "  </thead>\n",
       "  <tbody>\n",
       "    <tr>\n",
       "      <th>0</th>\n",
       "      <td>1</td>\n",
       "      <td>2</td>\n",
       "      <td>2</td>\n",
       "      <td>0</td>\n",
       "    </tr>\n",
       "    <tr>\n",
       "      <th>1</th>\n",
       "      <td>1</td>\n",
       "      <td>0</td>\n",
       "      <td>1</td>\n",
       "      <td>2</td>\n",
       "    </tr>\n",
       "    <tr>\n",
       "      <th>2</th>\n",
       "      <td>2</td>\n",
       "      <td>2</td>\n",
       "      <td>3</td>\n",
       "      <td>1</td>\n",
       "    </tr>\n",
       "    <tr>\n",
       "      <th>3</th>\n",
       "      <td>1</td>\n",
       "      <td>0</td>\n",
       "      <td>4</td>\n",
       "      <td>2</td>\n",
       "    </tr>\n",
       "    <tr>\n",
       "      <th>4</th>\n",
       "      <td>4</td>\n",
       "      <td>2</td>\n",
       "      <td>2</td>\n",
       "      <td>0</td>\n",
       "    </tr>\n",
       "    <tr>\n",
       "      <th>5</th>\n",
       "      <td>0</td>\n",
       "      <td>2</td>\n",
       "      <td>2</td>\n",
       "      <td>0</td>\n",
       "    </tr>\n",
       "    <tr>\n",
       "      <th>6</th>\n",
       "      <td>3</td>\n",
       "      <td>1</td>\n",
       "      <td>0</td>\n",
       "      <td>1</td>\n",
       "    </tr>\n",
       "  </tbody>\n",
       "</table>\n",
       "</div>"
      ],
      "text/plain": [
       "   process_type  tool_type  injury_type  absenteeism_level\n",
       "0             1          2            2                  0\n",
       "1             1          0            1                  2\n",
       "2             2          2            3                  1\n",
       "3             1          0            4                  2\n",
       "4             4          2            2                  0\n",
       "5             0          2            2                  0\n",
       "6             3          1            0                  1"
      ]
     },
     "execution_count": 12,
     "metadata": {},
     "output_type": "execute_result"
    }
   ],
   "source": [
    "labelEncData"
   ]
  },
  {
   "cell_type": "code",
   "execution_count": 13,
   "metadata": {
    "lines_to_next_cell": 0,
    "title": "codecell"
   },
   "outputs": [
    {
     "data": {
      "text/html": [
       "<div>\n",
       "<style scoped>\n",
       "    .dataframe tbody tr th:only-of-type {\n",
       "        vertical-align: middle;\n",
       "    }\n",
       "\n",
       "    .dataframe tbody tr th {\n",
       "        vertical-align: top;\n",
       "    }\n",
       "\n",
       "    .dataframe thead th {\n",
       "        text-align: right;\n",
       "    }\n",
       "</style>\n",
       "<table border=\"1\" class=\"dataframe\">\n",
       "  <thead>\n",
       "    <tr style=\"text-align: right;\">\n",
       "      <th></th>\n",
       "      <th>process_type</th>\n",
       "      <th>tool_type</th>\n",
       "      <th>injury_type</th>\n",
       "      <th>absenteeism_level</th>\n",
       "    </tr>\n",
       "  </thead>\n",
       "  <tbody>\n",
       "    <tr>\n",
       "      <th>0</th>\n",
       "      <td>Engine-Mount</td>\n",
       "      <td>Power-Gun</td>\n",
       "      <td>Electrical-Burn</td>\n",
       "      <td>Absenteeism-00</td>\n",
       "    </tr>\n",
       "    <tr>\n",
       "      <th>1</th>\n",
       "      <td>Engine-Mount</td>\n",
       "      <td>Forklift</td>\n",
       "      <td>Contact-Contusion</td>\n",
       "      <td>Absenteeism-03</td>\n",
       "    </tr>\n",
       "    <tr>\n",
       "      <th>2</th>\n",
       "      <td>Engine-Wiring</td>\n",
       "      <td>Power-Gun</td>\n",
       "      <td>Electrical-Shock</td>\n",
       "      <td>Absenteeism-02</td>\n",
       "    </tr>\n",
       "    <tr>\n",
       "      <th>3</th>\n",
       "      <td>Engine-Mount</td>\n",
       "      <td>Forklift</td>\n",
       "      <td>Fall-Gtm</td>\n",
       "      <td>Absenteeism-03</td>\n",
       "    </tr>\n",
       "    <tr>\n",
       "      <th>4</th>\n",
       "      <td>Sun-Roof-Housing</td>\n",
       "      <td>Power-Gun</td>\n",
       "      <td>Electrical-Burn</td>\n",
       "      <td>Absenteeism-00</td>\n",
       "    </tr>\n",
       "    <tr>\n",
       "      <th>5</th>\n",
       "      <td>Accel-Pedal</td>\n",
       "      <td>Power-Gun</td>\n",
       "      <td>Electrical-Burn</td>\n",
       "      <td>Absenteeism-00</td>\n",
       "    </tr>\n",
       "    <tr>\n",
       "      <th>6</th>\n",
       "      <td>Oil-Fill</td>\n",
       "      <td>Oil</td>\n",
       "      <td>Chemical-Burn</td>\n",
       "      <td>Absenteeism-02</td>\n",
       "    </tr>\n",
       "  </tbody>\n",
       "</table>\n",
       "</div>"
      ],
      "text/plain": [
       "       process_type  tool_type        injury_type absenteeism_level\n",
       "0      Engine-Mount  Power-Gun    Electrical-Burn    Absenteeism-00\n",
       "1      Engine-Mount   Forklift  Contact-Contusion    Absenteeism-03\n",
       "2     Engine-Wiring  Power-Gun   Electrical-Shock    Absenteeism-02\n",
       "3      Engine-Mount   Forklift           Fall-Gtm    Absenteeism-03\n",
       "4  Sun-Roof-Housing  Power-Gun    Electrical-Burn    Absenteeism-00\n",
       "5       Accel-Pedal  Power-Gun    Electrical-Burn    Absenteeism-00\n",
       "6          Oil-Fill        Oil      Chemical-Burn    Absenteeism-02"
      ]
     },
     "execution_count": 13,
     "metadata": {},
     "output_type": "execute_result"
    }
   ],
   "source": [
    "data"
   ]
  },
  {
   "cell_type": "code",
   "execution_count": 14,
   "metadata": {
    "lines_to_next_cell": 2,
    "title": "codecell"
   },
   "outputs": [
    {
     "data": {
      "text/plain": [
       "{'process_type': array(['Engine-Mount', 'Engine-Wiring', 'Sun-Roof-Housing', 'Accel-Pedal',\n",
       "        'Oil-Fill'], dtype=object),\n",
       " 'tool_type': array(['Power-Gun', 'Forklift', 'Oil'], dtype=object),\n",
       " 'injury_type': array(['Electrical-Burn', 'Contact-Contusion', 'Electrical-Shock',\n",
       "        'Fall-Gtm', 'Chemical-Burn'], dtype=object),\n",
       " 'absenteeism_level': array(['Absenteeism-00', 'Absenteeism-03', 'Absenteeism-02'], dtype=object)}"
      ]
     },
     "execution_count": 14,
     "metadata": {},
     "output_type": "execute_result"
    }
   ],
   "source": [
    "# The different unique values of each column variable:\n",
    "dataVals = {var: data[var].unique() for var in data.columns}\n",
    "dataVals"
   ]
  },
  {
   "cell_type": "code",
   "execution_count": 15,
   "metadata": {
    "lines_to_next_cell": 1,
    "title": "codecell"
   },
   "outputs": [],
   "source": [
    "# All the values we convert in structData are binary, so testing how a non-binary one gets converted here:\n",
    "testMultivals: List[str] = ['A', 'B', 'C', 'D', 'E', 'F', 'G', 'H']\n",
    "\n",
    "assert list(labelEncoder.fit_transform(y = testMultivals)) == [0, 1, 2, 3, 4, 5, 6, 7]"
   ]
  },
  {
   "cell_type": "markdown",
   "metadata": {
    "title": "markdown"
   },
   "source": [
    "Now apply the NOTEARS algo to learn the structure:"
   ]
  },
  {
   "cell_type": "code",
   "execution_count": 16,
   "metadata": {
    "lines_to_next_cell": 1,
    "title": "codecell"
   },
   "outputs": [],
   "source": [
    "\n",
    "# from src.utils.Clock import *\n",
    "def clock(startTime, endTime):\n",
    "    elapsedTime = endTime - startTime\n",
    "    elapsedMins = int(elapsedTime / 60)\n",
    "    elapsedSecs = int(elapsedTime - (elapsedMins * 60))\n",
    "    return elapsedMins, elapsedSecs"
   ]
  },
  {
   "cell_type": "code",
   "execution_count": 17,
   "metadata": {
    "title": "codecell"
   },
   "outputs": [
    {
     "name": "stdout",
     "output_type": "stream",
     "text": [
      "Time taken = (0, 1)\n"
     ]
    }
   ],
   "source": [
    "from causalnex.structure.notears import from_pandas\n",
    "import time\n",
    "\n",
    "startTime: float = time.time()\n",
    "\n",
    "carStructLearned = from_pandas(X = labelEncData)\n",
    "\n",
    "print(f\"Time taken = {clock(startTime = startTime, endTime = time.time())}\")"
   ]
  },
  {
   "cell_type": "code",
   "execution_count": 18,
   "metadata": {
    "title": "codecell"
   },
   "outputs": [
    {
     "name": "stderr",
     "output_type": "stream",
     "text": [
      "/development/bin/python/conda3_ana/envs/pybayesian_env/lib/python3.7/site-packages/pygraphviz/agraph.py:1367: RuntimeWarning: Warning: node 'process_type', graph '%3' size too small for label\n",
      "Warning: node 'tool_type', graph '%3' size too small for label\n",
      "Warning: node 'injury_type', graph '%3' size too small for label\n",
      "Warning: node 'absenteeism_level', graph '%3' size too small for label\n",
      "\n",
      "  warnings.warn(b\"\".join(errors).decode(self.encoding), RuntimeWarning)\n"
     ]
    },
    {
     "data": {
      "image/png": "[encoded data removed]",
      "text/plain": [
       "<IPython.core.display.Image object>"
      ]
     },
     "execution_count": 18,
     "metadata": {},
     "output_type": "execute_result"
    }
   ],
   "source": [
    "from IPython.display import Image\n",
    "from causalnex.plots import plot_structure, NODE_STYLE, EDGE_STYLE\n",
    "\n",
    "# Now visualize it:\n",
    "viz = plot_structure(\n",
    "    carStructLearned,\n",
    "    graph_attributes={\"scale\": \"0.5\"},\n",
    "    all_node_attributes=NODE_STYLE.WEAK,\n",
    "    all_edge_attributes=EDGE_STYLE.WEAK)\n",
    "filename_carLearned = curPath + \"car_learnedStructure.png\"\n",
    "\n",
    "viz.draw(filename_carLearned)\n",
    "Image(filename_carLearned)\n",
    "\n"
   ]
  },
  {
   "cell_type": "markdown",
   "metadata": {
    "lines_to_next_cell": 0,
    "title": "markdown"
   },
   "source": [
    "Getting detailed view into the learned model:"
   ]
  },
  {
   "cell_type": "code",
   "execution_count": 19,
   "metadata": {
    "title": "codecell"
   },
   "outputs": [
    {
     "data": {
      "text/plain": [
       "AdjacencyView({'process_type': {'tool_type': {'origin': 'learned', 'weight': 1.6013884142415616e-05}, 'injury_type': {'origin': 'learned', 'weight': -4.1115279254464356e-05}, 'absenteeism_level': {'origin': 'learned', 'weight': 1.3208799237580814e-05}}, 'tool_type': {'process_type': {'origin': 'learned', 'weight': 1.2071187794204359}, 'injury_type': {'origin': 'learned', 'weight': 0.8760435347215887}, 'absenteeism_level': {'origin': 'learned', 'weight': 5.6556552801123675e-05}}, 'injury_type': {'process_type': {'origin': 'learned', 'weight': -0.364442866393215}, 'tool_type': {'origin': 'learned', 'weight': 3.104569670498457e-05}, 'absenteeism_level': {'origin': 'learned', 'weight': 1.9624416941608718e-05}}, 'absenteeism_level': {'process_type': {'origin': 'learned', 'weight': 1.010605904632349}, 'tool_type': {'origin': 'learned', 'weight': 0.2987294416064669}, 'injury_type': {'origin': 'learned', 'weight': 1.0374394487292051}}})"
      ]
     },
     "execution_count": 19,
     "metadata": {},
     "output_type": "execute_result"
    }
   ],
   "source": [
    "carStructLearned.adj"
   ]
  },
  {
   "cell_type": "code",
   "execution_count": 20,
   "metadata": {
    "title": "codecell"
   },
   "outputs": [
    {
     "data": {
      "text/plain": [
       "DiDegreeView({'process_type': 6, 'tool_type': 6, 'injury_type': 6, 'absenteeism_level': 6})"
      ]
     },
     "execution_count": 20,
     "metadata": {},
     "output_type": "execute_result"
    }
   ],
   "source": [
    "carStructLearned.degree"
   ]
  },
  {
   "cell_type": "code",
   "execution_count": 21,
   "metadata": {
    "lines_to_next_cell": 0,
    "title": "codecell"
   },
   "outputs": [
    {
     "data": {
      "text/plain": [
       "OutEdgeView([('process_type', 'tool_type'), ('process_type', 'injury_type'), ('process_type', 'absenteeism_level'), ('tool_type', 'process_type'), ('tool_type', 'injury_type'), ('tool_type', 'absenteeism_level'), ('injury_type', 'process_type'), ('injury_type', 'tool_type'), ('injury_type', 'absenteeism_level'), ('absenteeism_level', 'process_type'), ('absenteeism_level', 'tool_type'), ('absenteeism_level', 'injury_type')])"
      ]
     },
     "execution_count": 21,
     "metadata": {},
     "output_type": "execute_result"
    }
   ],
   "source": [
    "carStructLearned.edges"
   ]
  },
  {
   "cell_type": "code",
   "execution_count": 22,
   "metadata": {
    "lines_to_next_cell": 0,
    "title": "codecell"
   },
   "outputs": [
    {
     "data": {
      "text/plain": [
       "InDegreeView({'process_type': 3, 'tool_type': 3, 'injury_type': 3, 'absenteeism_level': 3})"
      ]
     },
     "execution_count": 22,
     "metadata": {},
     "output_type": "execute_result"
    }
   ],
   "source": [
    "carStructLearned.in_degree"
   ]
  },
  {
   "cell_type": "code",
   "execution_count": 23,
   "metadata": {
    "lines_to_next_cell": 0,
    "title": "codecell"
   },
   "outputs": [
    {
     "data": {
      "text/plain": [
       "InEdgeView([('tool_type', 'process_type'), ('injury_type', 'process_type'), ('absenteeism_level', 'process_type'), ('process_type', 'tool_type'), ('injury_type', 'tool_type'), ('absenteeism_level', 'tool_type'), ('process_type', 'injury_type'), ('tool_type', 'injury_type'), ('absenteeism_level', 'injury_type'), ('process_type', 'absenteeism_level'), ('tool_type', 'absenteeism_level'), ('injury_type', 'absenteeism_level')])"
      ]
     },
     "execution_count": 23,
     "metadata": {},
     "output_type": "execute_result"
    }
   ],
   "source": [
    "carStructLearned.in_edges"
   ]
  },
  {
   "cell_type": "code",
   "execution_count": 24,
   "metadata": {
    "title": "codecell"
   },
   "outputs": [
    {
     "data": {
      "text/plain": [
       "4"
      ]
     },
     "execution_count": 24,
     "metadata": {},
     "output_type": "execute_result"
    }
   ],
   "source": [
    "carStructLearned.number_of_nodes()"
   ]
  },
  {
   "cell_type": "code",
   "execution_count": 25,
   "metadata": {
    "title": "codecell"
   },
   "outputs": [
    {
     "data": {
      "text/plain": [
       "NodeView(('process_type', 'tool_type', 'injury_type', 'absenteeism_level'))"
      ]
     },
     "execution_count": 25,
     "metadata": {},
     "output_type": "execute_result"
    }
   ],
   "source": [
    "assert carStructLearned.node == carStructLearned.nodes\n",
    "\n",
    "carStructLearned.node"
   ]
  },
  {
   "cell_type": "code",
   "execution_count": 26,
   "metadata": {
    "lines_to_next_cell": 0,
    "title": "codecell"
   },
   "outputs": [
    {
     "data": {
      "text/plain": [
       "OutDegreeView({'process_type': 3, 'tool_type': 3, 'injury_type': 3, 'absenteeism_level': 3})"
      ]
     },
     "execution_count": 26,
     "metadata": {},
     "output_type": "execute_result"
    }
   ],
   "source": [
    "carStructLearned.out_degree"
   ]
  },
  {
   "cell_type": "code",
   "execution_count": 27,
   "metadata": {
    "title": "codecell"
   },
   "outputs": [
    {
     "data": {
      "text/plain": [
       "OutEdgeView([('process_type', 'tool_type'), ('process_type', 'injury_type'), ('process_type', 'absenteeism_level'), ('tool_type', 'process_type'), ('tool_type', 'injury_type'), ('tool_type', 'absenteeism_level'), ('injury_type', 'process_type'), ('injury_type', 'tool_type'), ('injury_type', 'absenteeism_level'), ('absenteeism_level', 'process_type'), ('absenteeism_level', 'tool_type'), ('absenteeism_level', 'injury_type')])"
      ]
     },
     "execution_count": 27,
     "metadata": {},
     "output_type": "execute_result"
    }
   ],
   "source": [
    "carStructLearned.out_edges"
   ]
  },
  {
   "cell_type": "code",
   "execution_count": 28,
   "metadata": {
    "title": "codecell"
   },
   "outputs": [
    {
     "data": {
      "text/plain": [
       "AdjacencyView({'process_type': {'tool_type': {'origin': 'learned', 'weight': 1.2071187794204359}, 'injury_type': {'origin': 'learned', 'weight': -0.364442866393215}, 'absenteeism_level': {'origin': 'learned', 'weight': 1.010605904632349}}, 'tool_type': {'process_type': {'origin': 'learned', 'weight': 1.6013884142415616e-05}, 'injury_type': {'origin': 'learned', 'weight': 3.104569670498457e-05}, 'absenteeism_level': {'origin': 'learned', 'weight': 0.2987294416064669}}, 'injury_type': {'process_type': {'origin': 'learned', 'weight': -4.1115279254464356e-05}, 'tool_type': {'origin': 'learned', 'weight': 0.8760435347215887}, 'absenteeism_level': {'origin': 'learned', 'weight': 1.0374394487292051}}, 'absenteeism_level': {'process_type': {'origin': 'learned', 'weight': 1.3208799237580814e-05}, 'tool_type': {'origin': 'learned', 'weight': 5.6556552801123675e-05}, 'injury_type': {'origin': 'learned', 'weight': 1.9624416941608718e-05}}})"
      ]
     },
     "execution_count": 28,
     "metadata": {},
     "output_type": "execute_result"
    }
   ],
   "source": [
    "# Adjacency object holding predecessors of each node\n",
    "carStructLearned.pred"
   ]
  },
  {
   "cell_type": "code",
   "execution_count": 29,
   "metadata": {
    "title": "codecell"
   },
   "outputs": [
    {
     "data": {
      "text/plain": [
       "AdjacencyView({'process_type': {'tool_type': {'origin': 'learned', 'weight': 1.6013884142415616e-05}, 'injury_type': {'origin': 'learned', 'weight': -4.1115279254464356e-05}, 'absenteeism_level': {'origin': 'learned', 'weight': 1.3208799237580814e-05}}, 'tool_type': {'process_type': {'origin': 'learned', 'weight': 1.2071187794204359}, 'injury_type': {'origin': 'learned', 'weight': 0.8760435347215887}, 'absenteeism_level': {'origin': 'learned', 'weight': 5.6556552801123675e-05}}, 'injury_type': {'process_type': {'origin': 'learned', 'weight': -0.364442866393215}, 'tool_type': {'origin': 'learned', 'weight': 3.104569670498457e-05}, 'absenteeism_level': {'origin': 'learned', 'weight': 1.9624416941608718e-05}}, 'absenteeism_level': {'process_type': {'origin': 'learned', 'weight': 1.010605904632349}, 'tool_type': {'origin': 'learned', 'weight': 0.2987294416064669}, 'injury_type': {'origin': 'learned', 'weight': 1.0374394487292051}}})"
      ]
     },
     "execution_count": 29,
     "metadata": {},
     "output_type": "execute_result"
    }
   ],
   "source": [
    "# Adjacency object holding the successors of each node\n",
    "carStructLearned.succ"
   ]
  },
  {
   "cell_type": "code",
   "execution_count": 30,
   "metadata": {
    "lines_to_next_cell": 0,
    "title": "codecell"
   },
   "outputs": [
    {
     "data": {
      "image/png": "[encoded data removed]",
      "text/plain": [
       "<IPython.core.display.Image object>"
      ]
     },
     "execution_count": 30,
     "metadata": {},
     "output_type": "execute_result"
    }
   ],
   "source": [
    "Image(filename_carLearned)"
   ]
  },
  {
   "cell_type": "code",
   "execution_count": 31,
   "metadata": {
    "lines_to_next_cell": 2,
    "title": "codecell"
   },
   "outputs": [
    {
     "data": {
      "text/plain": [
       "True"
      ]
     },
     "execution_count": 31,
     "metadata": {},
     "output_type": "execute_result"
    }
   ],
   "source": [
    "carStructLearned.has_edge(u = 'process_type', v= 'injury_type')"
   ]
  },
  {
   "cell_type": "code",
   "execution_count": 32,
   "metadata": {
    "lines_to_next_cell": 0,
    "title": "codecell"
   },
   "outputs": [],
   "source": [
    "assert carStructLearned.adj['process_type']['injury_type'] == carStructLearned.get_edge_data(u = 'process_type', v= 'injury_type')\n",
    "\n",
    "carStructLearned.get_edge_data(u = 'process-_type', v= 'injury_type')"
   ]
  },
  {
   "cell_type": "code",
   "execution_count": 33,
   "metadata": {
    "lines_to_next_cell": 2,
    "title": "codecell"
   },
   "outputs": [
    {
     "data": {
      "text/plain": [
       "AdjacencyView({'process_type': {'tool_type': {'origin': 'learned', 'weight': 1.6013884142415616e-05}, 'injury_type': {'origin': 'learned', 'weight': -4.1115279254464356e-05}, 'absenteeism_level': {'origin': 'learned', 'weight': 1.3208799237580814e-05}}, 'tool_type': {'process_type': {'origin': 'learned', 'weight': 1.2071187794204359}, 'injury_type': {'origin': 'learned', 'weight': 0.8760435347215887}, 'absenteeism_level': {'origin': 'learned', 'weight': 5.6556552801123675e-05}}, 'injury_type': {'process_type': {'origin': 'learned', 'weight': -0.364442866393215}, 'tool_type': {'origin': 'learned', 'weight': 3.104569670498457e-05}, 'absenteeism_level': {'origin': 'learned', 'weight': 1.9624416941608718e-05}}, 'absenteeism_level': {'process_type': {'origin': 'learned', 'weight': 1.010605904632349}, 'tool_type': {'origin': 'learned', 'weight': 0.2987294416064669}, 'injury_type': {'origin': 'learned', 'weight': 1.0374394487292051}}})"
      ]
     },
     "execution_count": 33,
     "metadata": {},
     "output_type": "execute_result"
    }
   ],
   "source": [
    "# Checking these relations are visible in the adjacency graph:\n",
    "carStructLearned.adj"
   ]
  },
  {
   "cell_type": "markdown",
   "metadata": {
    "lines_to_next_cell": 0,
    "title": "markdown"
   },
   "source": [
    "NOTE: sometimes the edge weights are NOT the same, going from opposite directions. For instance there is a greater edge weight from `absenteeism-level` --> `injury-type` but a very small edge weight the other way around, from `injury-type` --> `absenteeism-level`, because it is more likely for injury type to influence absenteeism\n",
    "* $\\color{red}{\\text{TODO: check if this is verified by the data}}$"
   ]
  },
  {
   "cell_type": "code",
   "execution_count": 34,
   "metadata": {
    "lines_to_next_cell": 0,
    "title": "codecell"
   },
   "outputs": [
    {
     "data": {
      "text/plain": [
       "{'origin': 'learned', 'weight': 1.0374394487292051}"
      ]
     },
     "execution_count": 34,
     "metadata": {},
     "output_type": "execute_result"
    }
   ],
   "source": [
    "carStructLearned.get_edge_data(u = 'absenteeism_level', v = 'injury_type')"
   ]
  },
  {
   "cell_type": "code",
   "execution_count": 35,
   "metadata": {
    "title": "codecell"
   },
   "outputs": [
    {
     "data": {
      "text/plain": [
       "{'origin': 'learned', 'weight': 1.9624416941608718e-05}"
      ]
     },
     "execution_count": 35,
     "metadata": {},
     "output_type": "execute_result"
    }
   ],
   "source": [
    "carStructLearned.get_edge_data(u = 'injury_type', v = 'absenteeism_level')"
   ]
  },
  {
   "cell_type": "code",
   "execution_count": 36,
   "metadata": {
    "title": "codecell"
   },
   "outputs": [
    {
     "data": {
      "text/plain": [
       "NodeView(('process_type', 'tool_type', 'injury_type', 'absenteeism_level'))"
      ]
     },
     "execution_count": 36,
     "metadata": {},
     "output_type": "execute_result"
    }
   ],
   "source": [
    "carStructLearned.nodes"
   ]
  },
  {
   "cell_type": "code",
   "execution_count": 37,
   "metadata": {
    "title": "codecell"
   },
   "outputs": [
    {
     "data": {
      "text/plain": [
       "[('process_type',\n",
       "  {'tool_type': {'origin': 'learned', 'weight': 1.6013884142415616e-05},\n",
       "   'injury_type': {'origin': 'learned', 'weight': -4.1115279254464356e-05},\n",
       "   'absenteeism_level': {'origin': 'learned',\n",
       "    'weight': 1.3208799237580814e-05}}),\n",
       " ('tool_type',\n",
       "  {'process_type': {'origin': 'learned', 'weight': 1.2071187794204359},\n",
       "   'injury_type': {'origin': 'learned', 'weight': 0.8760435347215887},\n",
       "   'absenteeism_level': {'origin': 'learned',\n",
       "    'weight': 5.6556552801123675e-05}}),\n",
       " ('injury_type',\n",
       "  {'process_type': {'origin': 'learned', 'weight': -0.364442866393215},\n",
       "   'tool_type': {'origin': 'learned', 'weight': 3.104569670498457e-05},\n",
       "   'absenteeism_level': {'origin': 'learned',\n",
       "    'weight': 1.9624416941608718e-05}}),\n",
       " ('absenteeism_level',\n",
       "  {'process_type': {'origin': 'learned', 'weight': 1.010605904632349},\n",
       "   'tool_type': {'origin': 'learned', 'weight': 0.2987294416064669},\n",
       "   'injury_type': {'origin': 'learned', 'weight': 1.0374394487292051}})]"
      ]
     },
     "execution_count": 37,
     "metadata": {},
     "output_type": "execute_result"
    }
   ],
   "source": [
    "# Checking that currently, there is only one subgraph and it is the entire subgraph\n",
    "assert carStructLearned.adj ==  carStructLearned.get_largest_subgraph().adj  == carStructLearned.get_target_subgraph(node = 'injury_type').adj == carStructLearned.get_target_subgraph(node = 'process_type').adj == carStructLearned.get_target_subgraph(node = 'tool_type').adj == carStructLearned.get_target_subgraph(node = 'absenteeism_level').adj\n",
    "\n",
    "# TODO: what does negative weight mean?\n",
    "# TODO: why are weights not probabilities?\n",
    "list(carStructLearned.adjacency())\n",
    "\n"
   ]
  },
  {
   "cell_type": "markdown",
   "metadata": {
    "lines_to_next_cell": 0,
    "title": "markdown"
   },
   "source": [
    "Must prune the model in effort to make the structure acyclic (prerequisite for the bayesian network)"
   ]
  },
  {
   "cell_type": "code",
   "execution_count": 38,
   "metadata": {
    "lines_to_next_cell": 2,
    "title": "codecell"
   },
   "outputs": [
    {
     "data": {
      "image/png": "[encoded data removed]",
      "text/plain": [
       "<IPython.core.display.Image object>"
      ]
     },
     "execution_count": 38,
     "metadata": {},
     "output_type": "execute_result"
    }
   ],
   "source": [
    "carStructPruned = carStructLearned.copy()\n",
    "carStructPruned.remove_edges_below_threshold(threshold = 0.1)\n",
    "\n",
    "# Now visualize:\n",
    "\n",
    "# Now visualize it:\n",
    "viz = plot_structure(\n",
    "    carStructPruned,\n",
    "    graph_attributes={\"scale\": \"0.5\"},\n",
    "    all_node_attributes=NODE_STYLE.WEAK,\n",
    "    all_edge_attributes=EDGE_STYLE.WEAK)\n",
    "filename_carPruned = curPath + \"car_prunedstructure.png\"\n",
    "\n",
    "viz.draw(filename_carPruned)\n",
    "Image(filename_carPruned)"
   ]
  },
  {
   "cell_type": "code",
   "execution_count": 39,
   "metadata": {
    "lines_to_next_cell": 0,
    "title": "codecell"
   },
   "outputs": [
    {
     "data": {
      "text/plain": [
       "[('process_type', {}),\n",
       " ('tool_type',\n",
       "  {'process_type': {'origin': 'learned', 'weight': 1.2071187794204359},\n",
       "   'injury_type': {'origin': 'learned', 'weight': 0.8760435347215887}}),\n",
       " ('injury_type',\n",
       "  {'process_type': {'origin': 'learned', 'weight': -0.364442866393215}}),\n",
       " ('absenteeism_level',\n",
       "  {'process_type': {'origin': 'learned', 'weight': 1.010605904632349},\n",
       "   'tool_type': {'origin': 'learned', 'weight': 0.2987294416064669},\n",
       "   'injury_type': {'origin': 'learned', 'weight': 1.0374394487292051}})]"
      ]
     },
     "execution_count": 39,
     "metadata": {},
     "output_type": "execute_result"
    }
   ],
   "source": [
    "# Quick view into the result\n",
    "list(carStructPruned.adjacency())"
   ]
  },
  {
   "cell_type": "code",
   "execution_count": 40,
   "metadata": {
    "lines_to_next_cell": 0,
    "title": "codecell"
   },
   "outputs": [
    {
     "data": {
      "text/plain": [
       "[('process_type',\n",
       "  {'tool_type': {'origin': 'learned', 'weight': 1.6013884142415616e-05},\n",
       "   'injury_type': {'origin': 'learned', 'weight': -4.1115279254464356e-05},\n",
       "   'absenteeism_level': {'origin': 'learned',\n",
       "    'weight': 1.3208799237580814e-05}}),\n",
       " ('tool_type',\n",
       "  {'process_type': {'origin': 'learned', 'weight': 1.2071187794204359},\n",
       "   'injury_type': {'origin': 'learned', 'weight': 0.8760435347215887},\n",
       "   'absenteeism_level': {'origin': 'learned',\n",
       "    'weight': 5.6556552801123675e-05}}),\n",
       " ('injury_type',\n",
       "  {'process_type': {'origin': 'learned', 'weight': -0.364442866393215},\n",
       "   'tool_type': {'origin': 'learned', 'weight': 3.104569670498457e-05},\n",
       "   'absenteeism_level': {'origin': 'learned',\n",
       "    'weight': 1.9624416941608718e-05}}),\n",
       " ('absenteeism_level',\n",
       "  {'process_type': {'origin': 'learned', 'weight': 1.010605904632349},\n",
       "   'tool_type': {'origin': 'learned', 'weight': 0.2987294416064669},\n",
       "   'injury_type': {'origin': 'learned', 'weight': 1.0374394487292051}})]"
      ]
     },
     "execution_count": 40,
     "metadata": {},
     "output_type": "execute_result"
    }
   ],
   "source": [
    "list(carStructLearned.adjacency())"
   ]
  },
  {
   "cell_type": "code",
   "execution_count": 41,
   "metadata": {
    "title": "codecell"
   },
   "outputs": [
    {
     "data": {
      "text/plain": [
       "DiDegreeView({'process_type': 3, 'tool_type': 3, 'injury_type': 3, 'absenteeism_level': 3})"
      ]
     },
     "execution_count": 41,
     "metadata": {},
     "output_type": "execute_result"
    }
   ],
   "source": [
    "carStructPruned.degree"
   ]
  },
  {
   "cell_type": "code",
   "execution_count": 42,
   "metadata": {
    "lines_to_next_cell": 0,
    "title": "codecell"
   },
   "outputs": [
    {
     "data": {
      "text/plain": [
       "OutEdgeView([('tool_type', 'process_type'), ('tool_type', 'injury_type'), ('injury_type', 'process_type'), ('absenteeism_level', 'process_type'), ('absenteeism_level', 'tool_type'), ('absenteeism_level', 'injury_type')])"
      ]
     },
     "execution_count": 42,
     "metadata": {},
     "output_type": "execute_result"
    }
   ],
   "source": [
    "carStructPruned.edges"
   ]
  },
  {
   "cell_type": "code",
   "execution_count": 43,
   "metadata": {
    "lines_to_next_cell": 0,
    "title": "codecell"
   },
   "outputs": [
    {
     "data": {
      "text/plain": [
       "InDegreeView({'process_type': 3, 'tool_type': 1, 'injury_type': 2, 'absenteeism_level': 0})"
      ]
     },
     "execution_count": 43,
     "metadata": {},
     "output_type": "execute_result"
    }
   ],
   "source": [
    "carStructPruned.in_degree"
   ]
  },
  {
   "cell_type": "code",
   "execution_count": 44,
   "metadata": {
    "lines_to_next_cell": 0,
    "title": "codecell"
   },
   "outputs": [
    {
     "data": {
      "text/plain": [
       "InEdgeView([('tool_type', 'process_type'), ('injury_type', 'process_type'), ('absenteeism_level', 'process_type'), ('absenteeism_level', 'tool_type'), ('tool_type', 'injury_type'), ('absenteeism_level', 'injury_type')])"
      ]
     },
     "execution_count": 44,
     "metadata": {},
     "output_type": "execute_result"
    }
   ],
   "source": [
    "carStructPruned.in_edges"
   ]
  },
  {
   "cell_type": "code",
   "execution_count": 45,
   "metadata": {
    "title": "codecell"
   },
   "outputs": [
    {
     "data": {
      "text/plain": [
       "4"
      ]
     },
     "execution_count": 45,
     "metadata": {},
     "output_type": "execute_result"
    }
   ],
   "source": [
    "carStructPruned.number_of_nodes()"
   ]
  },
  {
   "cell_type": "code",
   "execution_count": 46,
   "metadata": {
    "lines_to_next_cell": 0,
    "title": "codecell"
   },
   "outputs": [
    {
     "data": {
      "text/plain": [
       "OutDegreeView({'process_type': 0, 'tool_type': 2, 'injury_type': 1, 'absenteeism_level': 3})"
      ]
     },
     "execution_count": 46,
     "metadata": {},
     "output_type": "execute_result"
    }
   ],
   "source": [
    "carStructPruned.out_degree"
   ]
  },
  {
   "cell_type": "code",
   "execution_count": 47,
   "metadata": {
    "title": "codecell"
   },
   "outputs": [
    {
     "data": {
      "text/plain": [
       "OutEdgeView([('tool_type', 'process_type'), ('tool_type', 'injury_type'), ('injury_type', 'process_type'), ('absenteeism_level', 'process_type'), ('absenteeism_level', 'tool_type'), ('absenteeism_level', 'injury_type')])"
      ]
     },
     "execution_count": 47,
     "metadata": {},
     "output_type": "execute_result"
    }
   ],
   "source": [
    "carStructPruned.out_edges"
   ]
  },
  {
   "cell_type": "code",
   "execution_count": 48,
   "metadata": {
    "title": "codecell"
   },
   "outputs": [
    {
     "data": {
      "text/plain": [
       "AdjacencyView({'process_type': {'tool_type': {'origin': 'learned', 'weight': 1.2071187794204359}, 'injury_type': {'origin': 'learned', 'weight': -0.364442866393215}, 'absenteeism_level': {'origin': 'learned', 'weight': 1.010605904632349}}, 'tool_type': {'absenteeism_level': {'origin': 'learned', 'weight': 0.2987294416064669}}, 'injury_type': {'tool_type': {'origin': 'learned', 'weight': 0.8760435347215887}, 'absenteeism_level': {'origin': 'learned', 'weight': 1.0374394487292051}}, 'absenteeism_level': {}})"
      ]
     },
     "execution_count": 48,
     "metadata": {},
     "output_type": "execute_result"
    }
   ],
   "source": [
    "# Adjacency object holding predecessors of each node\n",
    "carStructPruned.pred"
   ]
  },
  {
   "cell_type": "code",
   "execution_count": 49,
   "metadata": {
    "title": "codecell"
   },
   "outputs": [
    {
     "data": {
      "text/plain": [
       "AdjacencyView({'process_type': {}, 'tool_type': {'process_type': {'origin': 'learned', 'weight': 1.2071187794204359}, 'injury_type': {'origin': 'learned', 'weight': 0.8760435347215887}}, 'injury_type': {'process_type': {'origin': 'learned', 'weight': -0.364442866393215}}, 'absenteeism_level': {'process_type': {'origin': 'learned', 'weight': 1.010605904632349}, 'tool_type': {'origin': 'learned', 'weight': 0.2987294416064669}, 'injury_type': {'origin': 'learned', 'weight': 1.0374394487292051}}})"
      ]
     },
     "execution_count": 49,
     "metadata": {},
     "output_type": "execute_result"
    }
   ],
   "source": [
    "# Adjacency object holding the successors of each node\n",
    "carStructPruned.succ"
   ]
  },
  {
   "cell_type": "code",
   "execution_count": 50,
   "metadata": {
    "lines_to_next_cell": 2,
    "title": "codecell"
   },
   "outputs": [],
   "source": [
    "# Checking that currently, there is only one subgraph and it is the entire subgraph, even in the pruned version:\n",
    "assert carStructPruned.adj ==  carStructPruned.get_largest_subgraph().adj  == carStructPruned.get_target_subgraph(node = 'injury_type').adj == carStructPruned.get_target_subgraph(node = 'process_type').adj == carStructPruned.get_target_subgraph(node = 'tool_type').adj == carStructPruned.get_target_subgraph(node = 'absenteeism_level').adj"
   ]
  },
  {
   "cell_type": "markdown",
   "metadata": {
    "lines_to_next_cell": 0,
    "title": "markdown"
   },
   "source": [
    "After deciding on how the final structure model should look, we can instantiate a `BayesianNetwork`:"
   ]
  },
  {
   "cell_type": "code",
   "execution_count": 51,
   "metadata": {
    "lines_to_next_cell": 0,
    "title": "codecell"
   },
   "outputs": [
    {
     "data": {
      "text/plain": [
       "{}"
      ]
     },
     "execution_count": 51,
     "metadata": {},
     "output_type": "execute_result"
    }
   ],
   "source": [
    "from causalnex.network import BayesianNetwork\n",
    "\n",
    "bayesNet: BayesianNetwork = BayesianNetwork(structure = carStructPruned)\n",
    "bayesNet.cpds"
   ]
  },
  {
   "cell_type": "code",
   "execution_count": 52,
   "metadata": {
    "lines_to_next_cell": 0,
    "title": "codecell"
   },
   "outputs": [
    {
     "data": {
      "text/plain": [
       "[('tool_type', 'process_type'),\n",
       " ('tool_type', 'injury_type'),\n",
       " ('injury_type', 'process_type'),\n",
       " ('absenteeism_level', 'process_type'),\n",
       " ('absenteeism_level', 'tool_type'),\n",
       " ('absenteeism_level', 'injury_type')]"
      ]
     },
     "execution_count": 52,
     "metadata": {},
     "output_type": "execute_result"
    }
   ],
   "source": [
    "bayesNet.edges\n",
    "#bayesNet.node_states # error"
   ]
  },
  {
   "cell_type": "code",
   "execution_count": 53,
   "metadata": {
    "title": "codecell"
   },
   "outputs": [
    {
     "data": {
      "text/plain": [
       "['tool_type', 'process_type', 'injury_type', 'absenteeism_level']"
      ]
     },
     "execution_count": 53,
     "metadata": {},
     "output_type": "execute_result"
    }
   ],
   "source": [
    "assert set(bayesNet.nodes) == set(list(iter(carStructPruned.nodes)))\n",
    "\n",
    "bayesNet.nodes"
   ]
  },
  {
   "cell_type": "markdown",
   "metadata": {
    "lines_to_next_cell": 0,
    "title": "markdown"
   },
   "source": [
    "Can now learn the conditional probability distribution of different features in this `BayesianNetwork`\n",
    "\n",
    "# 2/ Fitting the Conditional Distribution of the Bayesian Network\n",
    "## Preparing the Discretised Data\n",
    "Any continuous features should be discretised prior to fitting the Bayesian Network, since CausalNex networks support only discrete distributions.\n",
    "\n",
    "Should make numerical features categorical by discretisation then give the buckets meaningful labels.\n",
    "## 1. Reducing Cardinality of Categorical Features\n",
    "To reduce cardinality of categorical features (reduce number of values they take on), can define a map `{oldValue: newValue}` and use this to update the feature we will discretise. Example: for the `studytime` feature, if the studytime is more than $2$ then categorize it as `long-studytime` and the rest of the values are binned under `short_studytime`.\n",
    "\n",
    "* $\\color{orange}{\\text{NOTE: not needed here}}$"
   ]
  },
  {
   "cell_type": "code",
   "execution_count": 54,
   "metadata": {
    "lines_to_next_cell": 2,
    "title": "codecell"
   },
   "outputs": [],
   "source": [
    "#discrData: DataFrame = data.copy()\n",
    "\n",
    "# Getting unique values per variable\n",
    "#dataVals = {var: data[var].unique() for var in data.columns}\n",
    "#dataVals"
   ]
  },
  {
   "cell_type": "code",
   "execution_count": 55,
   "metadata": {
    "lines_to_next_cell": 2,
    "title": "codecell"
   },
   "outputs": [],
   "source": [
    "#failuresMap = {v: 'no_failure' if v == [0] else 'yes_failure'\n",
    "#               for v in dataVals['failures']} # 0, 1, 2, 3 (number of failures)\n",
    "#studytimeMap = {v: 'short_studytime' if v in [1,2] else 'long_studytime'\n",
    "#                for v in dataVals['studytime']}\n",
    "\n",
    "# Once we have defined the maps `{oldValue: newValue}` we can update each feature, applying the map transformation. The `map` function applies the given dictionary as a rule to the called dictionary.\n",
    "#discrData['failures'] = discrData['failures'].map(failuresMap)\n",
    "#discrData['studytime'] = discrData['studytime'].map(studytimeMap)"
   ]
  },
  {
   "cell_type": "markdown",
   "metadata": {
    "lines_to_next_cell": 0,
    "title": "markdown"
   },
   "source": [
    "## 2. Discretising Numeric Features\n",
    "To make numeric features categorical, they must first by discretised. The `causalnex.discretiser.Discretiser` helper class supports several discretisation methods.\n",
    "Here, the `fixed` method will be applied, providing static values that define the bucket boundaries. For instance, `absences` will be discretised into buckets `< 1`, `1 to 9`, and `>= 10`. Each bucket will be labelled as an integer, starting from zero.\n",
    "\n",
    "* $\\color{orange}{\\text{NOTE: not needed here}}$"
   ]
  },
  {
   "cell_type": "code",
   "execution_count": 56,
   "metadata": {
    "title": "codecell"
   },
   "outputs": [],
   "source": [
    "from causalnex.discretiser import Discretiser\n",
    "\n",
    "# Many values in absences, G1, G2, G3\n",
    "\n",
    "#discrData['absences'] = Discretiser(method = 'fixed', numeric_split_points = [1,10]).transform(data = data['absences'].values)\n",
    "#assert (np.unique(discrData['absences']) == np.array([0,1,2])).all()\n",
    "\n",
    "\n",
    "#discrData['G1'] = Discretiser(method = 'fixed', numeric_split_points = [10]).transform(data = data['G1'].values)\n",
    "#assert (np.unique(discrData['G1']) == np.array([0,1])).all()\n",
    "\n",
    "\n",
    "#discrData['G2'] = Discretiser(method = 'fixed', numeric_split_points = [10]).transform(data = data['G2'].values)\n",
    "#assert (np.unique(discrData['G2']) == np.array([0,1])).all()\n",
    "\n",
    "#discrData['G3'] = Discretiser(method = 'fixed', numeric_split_points = [10]).transform(data = data['G3'].values)\n",
    "#assert (np.unique(discrData['G3']) == np.array([0,1])).all()"
   ]
  },
  {
   "cell_type": "markdown",
   "metadata": {
    "lines_to_next_cell": 0,
    "title": "markdown"
   },
   "source": [
    "## 3. Create Labels for Numeric Features\n",
    "To make the discretised categories more readable, we can map the category labels onto something more meaningful in the same way we mapped category feature values.\n",
    "\n",
    "* $\\color{orange}{\\text{NOTE: not needed here}}$"
   ]
  },
  {
   "cell_type": "code",
   "execution_count": 57,
   "metadata": {
    "title": "codecell"
   },
   "outputs": [],
   "source": [
    "\n",
    "#absencesMap = {0: \"No-absence\", 1:\"Low-absence\", 2:\"High-absence\"}\n",
    "\n",
    "#G1Map = {0: \"Fail\", 1: \"Pass\"}\n",
    "#G2Map = {0: \"Fail\", 1: \"Pass\"}\n",
    "#G3Map = {0: \"Fail\", 1: \"Pass\"}\n",
    "\n",
    "#discrData['absences'] = discrData['absences'].map(absencesMap)\n",
    "\n",
    "#discrData['G1'] = discrData['G1'].map(G1Map)\n",
    "#discrData['G2'] = discrData['G2'].map(G2Map)\n",
    "#discrData['G3'] = discrData['G3'].map(G3Map)\n",
    "\n",
    "\n",
    "# Now for reference later get the discrete data values also:\n",
    "#discrDataVals = {var: discrData[var].unique() for var in discrData.columns}\n",
    "\n"
   ]
  },
  {
   "cell_type": "markdown",
   "metadata": {
    "lines_to_next_cell": 0,
    "title": "markdown"
   },
   "source": [
    "## 4. Train / Test Split\n",
    "Must train and test split data to help validate findings.\n",
    "Split 90% train and 10% test.\n",
    "\n",
    "* $\\color{orange}{\\text{NOTE: not needed here}}$"
   ]
  },
  {
   "cell_type": "code",
   "execution_count": 58,
   "metadata": {
    "lines_to_next_cell": 2,
    "title": "codecell"
   },
   "outputs": [],
   "source": [
    "#from sklearn.model_selection import train_test_split\n",
    "\n",
    "#train, test = train_test_split(discrData,\n",
    "#                               train_size = 0.9, test_size = 0.10,\n",
    "#                               random_state = 7)"
   ]
  },
  {
   "cell_type": "markdown",
   "metadata": {
    "lines_to_next_cell": 0,
    "title": "markdown"
   },
   "source": [
    "# 3/ Model Probability\n",
    "With the learnt structure model and discretised data, we can now fit the probability distribution of the Bayesian Network.\n",
    "\n",
    "**First Step:** The first step is to specify all the states that each node can take. Can be done from data or can provide dictionary of node values. Here, we use the full dataset to avoid cases where states in our test set do not exist in the training set. In the real world, those states would need to be provided using the dictionary method."
   ]
  },
  {
   "cell_type": "code",
   "execution_count": 59,
   "metadata": {
    "lines_to_next_cell": 0,
    "title": "codecell"
   },
   "outputs": [
    {
     "data": {
      "text/plain": [
       "{'process_type': {'Accel-Pedal',\n",
       "  'Engine-Mount',\n",
       "  'Engine-Wiring',\n",
       "  'Oil-Fill',\n",
       "  'Sun-Roof-Housing'},\n",
       " 'tool_type': {'Forklift', 'Oil', 'Power-Gun'},\n",
       " 'injury_type': {'Chemical-Burn',\n",
       "  'Contact-Contusion',\n",
       "  'Electrical-Burn',\n",
       "  'Electrical-Shock',\n",
       "  'Fall-Gtm'},\n",
       " 'absenteeism_level': {'Absenteeism-00', 'Absenteeism-02', 'Absenteeism-03'}}"
      ]
     },
     "execution_count": 59,
     "metadata": {},
     "output_type": "execute_result"
    }
   ],
   "source": [
    "import copy\n",
    "\n",
    "\n",
    "# First 'copying' the object so previous state is preserved:\n",
    "# SOURCE: https://www.geeksforgeeks.org/copy-python-deep-copy-shallow-copy/\n",
    "bayesNetNodeStates = copy.deepcopy(bayesNet)\n",
    "assert not bayesNetNodeStates == bayesNet, \"Deepcopy bayesnet object must work\"\n",
    "# bayesNetNodeStates = BayesianNetwork(bayesNet.structure)\n",
    "\n",
    "bayesNetNodeStates: BayesianNetwork = bayesNetNodeStates.fit_node_states(df = data)\n",
    "bayesNetNodeStates.node_states"
   ]
  },
  {
   "cell_type": "markdown",
   "metadata": {
    "lines_to_next_cell": 0,
    "title": "markdown"
   },
   "source": [
    "## Fit Conditional Probability Distributions\n",
    "The `fit_cpds` method of `BayesianNetwork` accepts a dataset to learn the conditional probability distributions (CPDs) of **each node** along with a method of how to do this fit."
   ]
  },
  {
   "cell_type": "code",
   "execution_count": 60,
   "metadata": {
    "title": "codecell"
   },
   "outputs": [
    {
     "name": "stderr",
     "output_type": "stream",
     "text": [
      "/development/bin/python/conda3_ana/envs/pybayesian_env/lib/python3.7/site-packages/pandas/core/generic.py:5191: FutureWarning: Attribute 'is_copy' is deprecated and will be removed in a future version.\n",
      "  object.__getattribute__(self, name)\n",
      "/development/bin/python/conda3_ana/envs/pybayesian_env/lib/python3.7/site-packages/pandas/core/generic.py:5192: FutureWarning: Attribute 'is_copy' is deprecated and will be removed in a future version.\n",
      "  return object.__setattr__(self, name, value)\n",
      "/development/bin/python/conda3_ana/envs/pybayesian_env/lib/python3.7/site-packages/pgmpy/estimators/base.py:54: FutureWarning: \n",
      ".ix is deprecated. Please use\n",
      ".loc for label based indexing or\n",
      ".iloc for positional indexing\n",
      "\n",
      "See the documentation here:\n",
      "http://pandas.pydata.org/pandas-docs/stable/user_guide/indexing.html#ix-indexer-is-deprecated\n",
      "  states = sorted(list(self.data.ix[:, variable].dropna().unique()))\n",
      "/development/bin/python/conda3_ana/envs/pybayesian_env/lib/python3.7/site-packages/pgmpy/estimators/base.py:111: FutureWarning: \n",
      ".ix is deprecated. Please use\n",
      ".loc for label based indexing or\n",
      ".iloc for positional indexing\n",
      "\n",
      "See the documentation here:\n",
      "http://pandas.pydata.org/pandas-docs/stable/user_guide/indexing.html#ix-indexer-is-deprecated\n",
      "  state_count_data = data.ix[:, variable].value_counts()\n"
     ]
    }
   ],
   "source": [
    "# Copying the object information\n",
    "bayesNetCPD: BayesianNetwork = copy.deepcopy(bayesNetNodeStates)\n",
    "\n",
    "# Fitting the CPDs\n",
    "bayesNetCPD: BayesianNetwork = bayesNetCPD.fit_cpds(data = data,\n",
    "                                                    method = \"BayesianEstimator\",\n",
    "                                                    bayes_prior = \"K2\")"
   ]
  },
  {
   "cell_type": "code",
   "execution_count": 61,
   "metadata": {
    "title": "codecell"
   },
   "outputs": [
    {
     "data": {
      "text/plain": [
       "{'tool_type': absenteeism_level Absenteeism-00 Absenteeism-02 Absenteeism-03\n",
       " tool_type                                                     \n",
       " Forklift                0.333333       0.333333       0.333333\n",
       " Oil                     0.333333       0.333333       0.333333\n",
       " Power-Gun               0.333333       0.333333       0.333333,\n",
       " 'process_type': absenteeism_level Absenteeism-00                                        \\\n",
       " injury_type        Chemical-Burn                Contact-Contusion        \n",
       " tool_type               Forklift  Oil Power-Gun          Forklift  Oil   \n",
       " process_type                                                             \n",
       " Accel-Pedal                  0.2  0.2       0.2               0.2  0.2   \n",
       " Engine-Mount                 0.2  0.2       0.2               0.2  0.2   \n",
       " Engine-Wiring                0.2  0.2       0.2               0.2  0.2   \n",
       " Oil-Fill                     0.2  0.2       0.2               0.2  0.2   \n",
       " Sun-Roof-Housing             0.2  0.2       0.2               0.2  0.2   \n",
       " \n",
       " absenteeism_level                                                            \\\n",
       " injury_type                 Electrical-Burn                Electrical-Shock   \n",
       " tool_type         Power-Gun        Forklift  Oil Power-Gun         Forklift   \n",
       " process_type                                                                  \n",
       " Accel-Pedal             0.2             0.2  0.2     0.250              0.2   \n",
       " Engine-Mount            0.2             0.2  0.2     0.250              0.2   \n",
       " Engine-Wiring           0.2             0.2  0.2     0.125              0.2   \n",
       " Oil-Fill                0.2             0.2  0.2     0.125              0.2   \n",
       " Sun-Roof-Housing        0.2             0.2  0.2     0.250              0.2   \n",
       " \n",
       " absenteeism_level  ...    Absenteeism-03                                 \\\n",
       " injury_type        ... Contact-Contusion Electrical-Burn                  \n",
       " tool_type          ...         Power-Gun        Forklift  Oil Power-Gun   \n",
       " process_type       ...                                                    \n",
       " Accel-Pedal        ...               0.2             0.2  0.2       0.2   \n",
       " Engine-Mount       ...               0.2             0.2  0.2       0.2   \n",
       " Engine-Wiring      ...               0.2             0.2  0.2       0.2   \n",
       " Oil-Fill           ...               0.2             0.2  0.2       0.2   \n",
       " Sun-Roof-Housing   ...               0.2             0.2  0.2       0.2   \n",
       " \n",
       " absenteeism_level                                                           \n",
       " injury_type       Electrical-Shock                 Fall-Gtm                 \n",
       " tool_type                 Forklift  Oil Power-Gun  Forklift  Oil Power-Gun  \n",
       " process_type                                                                \n",
       " Accel-Pedal                    0.2  0.2       0.2  0.166667  0.2       0.2  \n",
       " Engine-Mount                   0.2  0.2       0.2  0.333333  0.2       0.2  \n",
       " Engine-Wiring                  0.2  0.2       0.2  0.166667  0.2       0.2  \n",
       " Oil-Fill                       0.2  0.2       0.2  0.166667  0.2       0.2  \n",
       " Sun-Roof-Housing               0.2  0.2       0.2  0.166667  0.2       0.2  \n",
       " \n",
       " [5 rows x 45 columns],\n",
       " 'injury_type': absenteeism_level Absenteeism-00                Absenteeism-02            \\\n",
       " tool_type               Forklift  Oil Power-Gun       Forklift       Oil   \n",
       " injury_type                                                                \n",
       " Chemical-Burn                0.2  0.2     0.125            0.2  0.333333   \n",
       " Contact-Contusion            0.2  0.2     0.125            0.2  0.166667   \n",
       " Electrical-Burn              0.2  0.2     0.500            0.2  0.166667   \n",
       " Electrical-Shock             0.2  0.2     0.125            0.2  0.166667   \n",
       " Fall-Gtm                     0.2  0.2     0.125            0.2  0.166667   \n",
       " \n",
       " absenteeism_level           Absenteeism-03                 \n",
       " tool_type         Power-Gun       Forklift  Oil Power-Gun  \n",
       " injury_type                                                \n",
       " Chemical-Burn      0.166667       0.142857  0.2       0.2  \n",
       " Contact-Contusion  0.166667       0.285714  0.2       0.2  \n",
       " Electrical-Burn    0.166667       0.142857  0.2       0.2  \n",
       " Electrical-Shock   0.333333       0.142857  0.2       0.2  \n",
       " Fall-Gtm           0.166667       0.285714  0.2       0.2  ,\n",
       " 'absenteeism_level':                       \n",
       " absenteeism_level     \n",
       " Absenteeism-00     0.4\n",
       " Absenteeism-02     0.3\n",
       " Absenteeism-03     0.3}"
      ]
     },
     "execution_count": 61,
     "metadata": {},
     "output_type": "execute_result"
    }
   ],
   "source": [
    "bayesNetCPD.cpds"
   ]
  },
  {
   "cell_type": "code",
   "execution_count": 62,
   "metadata": {
    "lines_to_next_cell": 0,
    "title": "codecell"
   },
   "outputs": [
    {
     "data": {
      "image/png": "[encoded data removed]",
      "text/plain": [
       "<IPython.core.display.Image object>"
      ]
     },
     "execution_count": 62,
     "metadata": {},
     "output_type": "execute_result"
    }
   ],
   "source": [
    "# The size of the tables depends on how many connections a node has\n",
    "Image(filename_carPruned)"
   ]
  },
  {
   "cell_type": "code",
   "execution_count": 63,
   "metadata": {
    "lines_to_next_cell": 0,
    "title": "codecell"
   },
   "outputs": [
    {
     "data": {
      "text/html": [
       "<div>\n",
       "<style scoped>\n",
       "    .dataframe tbody tr th:only-of-type {\n",
       "        vertical-align: middle;\n",
       "    }\n",
       "\n",
       "    .dataframe tbody tr th {\n",
       "        vertical-align: top;\n",
       "    }\n",
       "\n",
       "    .dataframe thead th {\n",
       "        text-align: right;\n",
       "    }\n",
       "</style>\n",
       "<table border=\"1\" class=\"dataframe\">\n",
       "  <thead>\n",
       "    <tr style=\"text-align: right;\">\n",
       "      <th></th>\n",
       "      <th></th>\n",
       "    </tr>\n",
       "    <tr>\n",
       "      <th>absenteeism_level</th>\n",
       "      <th></th>\n",
       "    </tr>\n",
       "  </thead>\n",
       "  <tbody>\n",
       "    <tr>\n",
       "      <th>Absenteeism-00</th>\n",
       "      <td>0.4</td>\n",
       "    </tr>\n",
       "    <tr>\n",
       "      <th>Absenteeism-02</th>\n",
       "      <td>0.3</td>\n",
       "    </tr>\n",
       "    <tr>\n",
       "      <th>Absenteeism-03</th>\n",
       "      <td>0.3</td>\n",
       "    </tr>\n",
       "  </tbody>\n",
       "</table>\n",
       "</div>"
      ],
      "text/plain": [
       "                      \n",
       "absenteeism_level     \n",
       "Absenteeism-00     0.4\n",
       "Absenteeism-02     0.3\n",
       "Absenteeism-03     0.3"
      ]
     },
     "execution_count": 63,
     "metadata": {},
     "output_type": "execute_result"
    }
   ],
   "source": [
    "# G1 has many connections so its table holds all the combinations of conditional probabilities.\n",
    "bayesNetCPD.cpds['absenteeism_level']"
   ]
  },
  {
   "cell_type": "code",
   "execution_count": 64,
   "metadata": {
    "lines_to_next_cell": 0,
    "title": "codecell"
   },
   "outputs": [
    {
     "data": {
      "text/html": [
       "<div>\n",
       "<style scoped>\n",
       "    .dataframe tbody tr th:only-of-type {\n",
       "        vertical-align: middle;\n",
       "    }\n",
       "\n",
       "    .dataframe tbody tr th {\n",
       "        vertical-align: top;\n",
       "    }\n",
       "\n",
       "    .dataframe thead tr th {\n",
       "        text-align: left;\n",
       "    }\n",
       "\n",
       "    .dataframe thead tr:last-of-type th {\n",
       "        text-align: right;\n",
       "    }\n",
       "</style>\n",
       "<table border=\"1\" class=\"dataframe\">\n",
       "  <thead>\n",
       "    <tr>\n",
       "      <th>absenteeism_level</th>\n",
       "      <th colspan=\"10\" halign=\"left\">Absenteeism-00</th>\n",
       "      <th>...</th>\n",
       "      <th colspan=\"10\" halign=\"left\">Absenteeism-03</th>\n",
       "    </tr>\n",
       "    <tr>\n",
       "      <th>injury_type</th>\n",
       "      <th colspan=\"3\" halign=\"left\">Chemical-Burn</th>\n",
       "      <th colspan=\"3\" halign=\"left\">Contact-Contusion</th>\n",
       "      <th colspan=\"3\" halign=\"left\">Electrical-Burn</th>\n",
       "      <th>Electrical-Shock</th>\n",
       "      <th>...</th>\n",
       "      <th>Contact-Contusion</th>\n",
       "      <th colspan=\"3\" halign=\"left\">Electrical-Burn</th>\n",
       "      <th colspan=\"3\" halign=\"left\">Electrical-Shock</th>\n",
       "      <th colspan=\"3\" halign=\"left\">Fall-Gtm</th>\n",
       "    </tr>\n",
       "    <tr>\n",
       "      <th>tool_type</th>\n",
       "      <th>Forklift</th>\n",
       "      <th>Oil</th>\n",
       "      <th>Power-Gun</th>\n",
       "      <th>Forklift</th>\n",
       "      <th>Oil</th>\n",
       "      <th>Power-Gun</th>\n",
       "      <th>Forklift</th>\n",
       "      <th>Oil</th>\n",
       "      <th>Power-Gun</th>\n",
       "      <th>Forklift</th>\n",
       "      <th>...</th>\n",
       "      <th>Power-Gun</th>\n",
       "      <th>Forklift</th>\n",
       "      <th>Oil</th>\n",
       "      <th>Power-Gun</th>\n",
       "      <th>Forklift</th>\n",
       "      <th>Oil</th>\n",
       "      <th>Power-Gun</th>\n",
       "      <th>Forklift</th>\n",
       "      <th>Oil</th>\n",
       "      <th>Power-Gun</th>\n",
       "    </tr>\n",
       "    <tr>\n",
       "      <th>process_type</th>\n",
       "      <th></th>\n",
       "      <th></th>\n",
       "      <th></th>\n",
       "      <th></th>\n",
       "      <th></th>\n",
       "      <th></th>\n",
       "      <th></th>\n",
       "      <th></th>\n",
       "      <th></th>\n",
       "      <th></th>\n",
       "      <th></th>\n",
       "      <th></th>\n",
       "      <th></th>\n",
       "      <th></th>\n",
       "      <th></th>\n",
       "      <th></th>\n",
       "      <th></th>\n",
       "      <th></th>\n",
       "      <th></th>\n",
       "      <th></th>\n",
       "      <th></th>\n",
       "    </tr>\n",
       "  </thead>\n",
       "  <tbody>\n",
       "    <tr>\n",
       "      <th>Accel-Pedal</th>\n",
       "      <td>0.2</td>\n",
       "      <td>0.2</td>\n",
       "      <td>0.2</td>\n",
       "      <td>0.2</td>\n",
       "      <td>0.2</td>\n",
       "      <td>0.2</td>\n",
       "      <td>0.2</td>\n",
       "      <td>0.2</td>\n",
       "      <td>0.250</td>\n",
       "      <td>0.2</td>\n",
       "      <td>...</td>\n",
       "      <td>0.2</td>\n",
       "      <td>0.2</td>\n",
       "      <td>0.2</td>\n",
       "      <td>0.2</td>\n",
       "      <td>0.2</td>\n",
       "      <td>0.2</td>\n",
       "      <td>0.2</td>\n",
       "      <td>0.166667</td>\n",
       "      <td>0.2</td>\n",
       "      <td>0.2</td>\n",
       "    </tr>\n",
       "    <tr>\n",
       "      <th>Engine-Mount</th>\n",
       "      <td>0.2</td>\n",
       "      <td>0.2</td>\n",
       "      <td>0.2</td>\n",
       "      <td>0.2</td>\n",
       "      <td>0.2</td>\n",
       "      <td>0.2</td>\n",
       "      <td>0.2</td>\n",
       "      <td>0.2</td>\n",
       "      <td>0.250</td>\n",
       "      <td>0.2</td>\n",
       "      <td>...</td>\n",
       "      <td>0.2</td>\n",
       "      <td>0.2</td>\n",
       "      <td>0.2</td>\n",
       "      <td>0.2</td>\n",
       "      <td>0.2</td>\n",
       "      <td>0.2</td>\n",
       "      <td>0.2</td>\n",
       "      <td>0.333333</td>\n",
       "      <td>0.2</td>\n",
       "      <td>0.2</td>\n",
       "    </tr>\n",
       "    <tr>\n",
       "      <th>Engine-Wiring</th>\n",
       "      <td>0.2</td>\n",
       "      <td>0.2</td>\n",
       "      <td>0.2</td>\n",
       "      <td>0.2</td>\n",
       "      <td>0.2</td>\n",
       "      <td>0.2</td>\n",
       "      <td>0.2</td>\n",
       "      <td>0.2</td>\n",
       "      <td>0.125</td>\n",
       "      <td>0.2</td>\n",
       "      <td>...</td>\n",
       "      <td>0.2</td>\n",
       "      <td>0.2</td>\n",
       "      <td>0.2</td>\n",
       "      <td>0.2</td>\n",
       "      <td>0.2</td>\n",
       "      <td>0.2</td>\n",
       "      <td>0.2</td>\n",
       "      <td>0.166667</td>\n",
       "      <td>0.2</td>\n",
       "      <td>0.2</td>\n",
       "    </tr>\n",
       "    <tr>\n",
       "      <th>Oil-Fill</th>\n",
       "      <td>0.2</td>\n",
       "      <td>0.2</td>\n",
       "      <td>0.2</td>\n",
       "      <td>0.2</td>\n",
       "      <td>0.2</td>\n",
       "      <td>0.2</td>\n",
       "      <td>0.2</td>\n",
       "      <td>0.2</td>\n",
       "      <td>0.125</td>\n",
       "      <td>0.2</td>\n",
       "      <td>...</td>\n",
       "      <td>0.2</td>\n",
       "      <td>0.2</td>\n",
       "      <td>0.2</td>\n",
       "      <td>0.2</td>\n",
       "      <td>0.2</td>\n",
       "      <td>0.2</td>\n",
       "      <td>0.2</td>\n",
       "      <td>0.166667</td>\n",
       "      <td>0.2</td>\n",
       "      <td>0.2</td>\n",
       "    </tr>\n",
       "    <tr>\n",
       "      <th>Sun-Roof-Housing</th>\n",
       "      <td>0.2</td>\n",
       "      <td>0.2</td>\n",
       "      <td>0.2</td>\n",
       "      <td>0.2</td>\n",
       "      <td>0.2</td>\n",
       "      <td>0.2</td>\n",
       "      <td>0.2</td>\n",
       "      <td>0.2</td>\n",
       "      <td>0.250</td>\n",
       "      <td>0.2</td>\n",
       "      <td>...</td>\n",
       "      <td>0.2</td>\n",
       "      <td>0.2</td>\n",
       "      <td>0.2</td>\n",
       "      <td>0.2</td>\n",
       "      <td>0.2</td>\n",
       "      <td>0.2</td>\n",
       "      <td>0.2</td>\n",
       "      <td>0.166667</td>\n",
       "      <td>0.2</td>\n",
       "      <td>0.2</td>\n",
       "    </tr>\n",
       "  </tbody>\n",
       "</table>\n",
       "<p>5 rows × 45 columns</p>\n",
       "</div>"
      ],
      "text/plain": [
       "absenteeism_level Absenteeism-00                                        \\\n",
       "injury_type        Chemical-Burn                Contact-Contusion        \n",
       "tool_type               Forklift  Oil Power-Gun          Forklift  Oil   \n",
       "process_type                                                             \n",
       "Accel-Pedal                  0.2  0.2       0.2               0.2  0.2   \n",
       "Engine-Mount                 0.2  0.2       0.2               0.2  0.2   \n",
       "Engine-Wiring                0.2  0.2       0.2               0.2  0.2   \n",
       "Oil-Fill                     0.2  0.2       0.2               0.2  0.2   \n",
       "Sun-Roof-Housing             0.2  0.2       0.2               0.2  0.2   \n",
       "\n",
       "absenteeism_level                                                            \\\n",
       "injury_type                 Electrical-Burn                Electrical-Shock   \n",
       "tool_type         Power-Gun        Forklift  Oil Power-Gun         Forklift   \n",
       "process_type                                                                  \n",
       "Accel-Pedal             0.2             0.2  0.2     0.250              0.2   \n",
       "Engine-Mount            0.2             0.2  0.2     0.250              0.2   \n",
       "Engine-Wiring           0.2             0.2  0.2     0.125              0.2   \n",
       "Oil-Fill                0.2             0.2  0.2     0.125              0.2   \n",
       "Sun-Roof-Housing        0.2             0.2  0.2     0.250              0.2   \n",
       "\n",
       "absenteeism_level  ...    Absenteeism-03                                 \\\n",
       "injury_type        ... Contact-Contusion Electrical-Burn                  \n",
       "tool_type          ...         Power-Gun        Forklift  Oil Power-Gun   \n",
       "process_type       ...                                                    \n",
       "Accel-Pedal        ...               0.2             0.2  0.2       0.2   \n",
       "Engine-Mount       ...               0.2             0.2  0.2       0.2   \n",
       "Engine-Wiring      ...               0.2             0.2  0.2       0.2   \n",
       "Oil-Fill           ...               0.2             0.2  0.2       0.2   \n",
       "Sun-Roof-Housing   ...               0.2             0.2  0.2       0.2   \n",
       "\n",
       "absenteeism_level                                                           \n",
       "injury_type       Electrical-Shock                 Fall-Gtm                 \n",
       "tool_type                 Forklift  Oil Power-Gun  Forklift  Oil Power-Gun  \n",
       "process_type                                                                \n",
       "Accel-Pedal                    0.2  0.2       0.2  0.166667  0.2       0.2  \n",
       "Engine-Mount                   0.2  0.2       0.2  0.333333  0.2       0.2  \n",
       "Engine-Wiring                  0.2  0.2       0.2  0.166667  0.2       0.2  \n",
       "Oil-Fill                       0.2  0.2       0.2  0.166667  0.2       0.2  \n",
       "Sun-Roof-Housing               0.2  0.2       0.2  0.166667  0.2       0.2  \n",
       "\n",
       "[5 rows x 45 columns]"
      ]
     },
     "execution_count": 64,
     "metadata": {},
     "output_type": "execute_result"
    }
   ],
   "source": [
    "bayesNetCPD.cpds['process_type']"
   ]
  },
  {
   "cell_type": "code",
   "execution_count": 65,
   "metadata": {
    "lines_to_next_cell": 0,
    "title": "codecell"
   },
   "outputs": [
    {
     "data": {
      "text/html": [
       "<div>\n",
       "<style scoped>\n",
       "    .dataframe tbody tr th:only-of-type {\n",
       "        vertical-align: middle;\n",
       "    }\n",
       "\n",
       "    .dataframe tbody tr th {\n",
       "        vertical-align: top;\n",
       "    }\n",
       "\n",
       "    .dataframe thead tr th {\n",
       "        text-align: left;\n",
       "    }\n",
       "\n",
       "    .dataframe thead tr:last-of-type th {\n",
       "        text-align: right;\n",
       "    }\n",
       "</style>\n",
       "<table border=\"1\" class=\"dataframe\">\n",
       "  <thead>\n",
       "    <tr>\n",
       "      <th>absenteeism_level</th>\n",
       "      <th>Absenteeism-00</th>\n",
       "      <th>Absenteeism-02</th>\n",
       "      <th>Absenteeism-03</th>\n",
       "    </tr>\n",
       "    <tr>\n",
       "      <th>tool_type</th>\n",
       "      <th></th>\n",
       "      <th></th>\n",
       "      <th></th>\n",
       "    </tr>\n",
       "  </thead>\n",
       "  <tbody>\n",
       "    <tr>\n",
       "      <th>Forklift</th>\n",
       "      <td>0.333333</td>\n",
       "      <td>0.333333</td>\n",
       "      <td>0.333333</td>\n",
       "    </tr>\n",
       "    <tr>\n",
       "      <th>Oil</th>\n",
       "      <td>0.333333</td>\n",
       "      <td>0.333333</td>\n",
       "      <td>0.333333</td>\n",
       "    </tr>\n",
       "    <tr>\n",
       "      <th>Power-Gun</th>\n",
       "      <td>0.333333</td>\n",
       "      <td>0.333333</td>\n",
       "      <td>0.333333</td>\n",
       "    </tr>\n",
       "  </tbody>\n",
       "</table>\n",
       "</div>"
      ],
      "text/plain": [
       "absenteeism_level Absenteeism-00 Absenteeism-02 Absenteeism-03\n",
       "tool_type                                                     \n",
       "Forklift                0.333333       0.333333       0.333333\n",
       "Oil                     0.333333       0.333333       0.333333\n",
       "Power-Gun               0.333333       0.333333       0.333333"
      ]
     },
     "execution_count": 65,
     "metadata": {},
     "output_type": "execute_result"
    }
   ],
   "source": [
    "bayesNetCPD.cpds['tool_type']"
   ]
  },
  {
   "cell_type": "code",
   "execution_count": 66,
   "metadata": {
    "title": "codecell"
   },
   "outputs": [
    {
     "data": {
      "text/html": [
       "<div>\n",
       "<style scoped>\n",
       "    .dataframe tbody tr th:only-of-type {\n",
       "        vertical-align: middle;\n",
       "    }\n",
       "\n",
       "    .dataframe tbody tr th {\n",
       "        vertical-align: top;\n",
       "    }\n",
       "\n",
       "    .dataframe thead tr th {\n",
       "        text-align: left;\n",
       "    }\n",
       "\n",
       "    .dataframe thead tr:last-of-type th {\n",
       "        text-align: right;\n",
       "    }\n",
       "</style>\n",
       "<table border=\"1\" class=\"dataframe\">\n",
       "  <thead>\n",
       "    <tr>\n",
       "      <th>absenteeism_level</th>\n",
       "      <th colspan=\"3\" halign=\"left\">Absenteeism-00</th>\n",
       "      <th colspan=\"3\" halign=\"left\">Absenteeism-02</th>\n",
       "      <th colspan=\"3\" halign=\"left\">Absenteeism-03</th>\n",
       "    </tr>\n",
       "    <tr>\n",
       "      <th>tool_type</th>\n",
       "      <th>Forklift</th>\n",
       "      <th>Oil</th>\n",
       "      <th>Power-Gun</th>\n",
       "      <th>Forklift</th>\n",
       "      <th>Oil</th>\n",
       "      <th>Power-Gun</th>\n",
       "      <th>Forklift</th>\n",
       "      <th>Oil</th>\n",
       "      <th>Power-Gun</th>\n",
       "    </tr>\n",
       "    <tr>\n",
       "      <th>injury_type</th>\n",
       "      <th></th>\n",
       "      <th></th>\n",
       "      <th></th>\n",
       "      <th></th>\n",
       "      <th></th>\n",
       "      <th></th>\n",
       "      <th></th>\n",
       "      <th></th>\n",
       "      <th></th>\n",
       "    </tr>\n",
       "  </thead>\n",
       "  <tbody>\n",
       "    <tr>\n",
       "      <th>Chemical-Burn</th>\n",
       "      <td>0.2</td>\n",
       "      <td>0.2</td>\n",
       "      <td>0.125</td>\n",
       "      <td>0.2</td>\n",
       "      <td>0.333333</td>\n",
       "      <td>0.166667</td>\n",
       "      <td>0.142857</td>\n",
       "      <td>0.2</td>\n",
       "      <td>0.2</td>\n",
       "    </tr>\n",
       "    <tr>\n",
       "      <th>Contact-Contusion</th>\n",
       "      <td>0.2</td>\n",
       "      <td>0.2</td>\n",
       "      <td>0.125</td>\n",
       "      <td>0.2</td>\n",
       "      <td>0.166667</td>\n",
       "      <td>0.166667</td>\n",
       "      <td>0.285714</td>\n",
       "      <td>0.2</td>\n",
       "      <td>0.2</td>\n",
       "    </tr>\n",
       "    <tr>\n",
       "      <th>Electrical-Burn</th>\n",
       "      <td>0.2</td>\n",
       "      <td>0.2</td>\n",
       "      <td>0.500</td>\n",
       "      <td>0.2</td>\n",
       "      <td>0.166667</td>\n",
       "      <td>0.166667</td>\n",
       "      <td>0.142857</td>\n",
       "      <td>0.2</td>\n",
       "      <td>0.2</td>\n",
       "    </tr>\n",
       "    <tr>\n",
       "      <th>Electrical-Shock</th>\n",
       "      <td>0.2</td>\n",
       "      <td>0.2</td>\n",
       "      <td>0.125</td>\n",
       "      <td>0.2</td>\n",
       "      <td>0.166667</td>\n",
       "      <td>0.333333</td>\n",
       "      <td>0.142857</td>\n",
       "      <td>0.2</td>\n",
       "      <td>0.2</td>\n",
       "    </tr>\n",
       "    <tr>\n",
       "      <th>Fall-Gtm</th>\n",
       "      <td>0.2</td>\n",
       "      <td>0.2</td>\n",
       "      <td>0.125</td>\n",
       "      <td>0.2</td>\n",
       "      <td>0.166667</td>\n",
       "      <td>0.166667</td>\n",
       "      <td>0.285714</td>\n",
       "      <td>0.2</td>\n",
       "      <td>0.2</td>\n",
       "    </tr>\n",
       "  </tbody>\n",
       "</table>\n",
       "</div>"
      ],
      "text/plain": [
       "absenteeism_level Absenteeism-00                Absenteeism-02            \\\n",
       "tool_type               Forklift  Oil Power-Gun       Forklift       Oil   \n",
       "injury_type                                                                \n",
       "Chemical-Burn                0.2  0.2     0.125            0.2  0.333333   \n",
       "Contact-Contusion            0.2  0.2     0.125            0.2  0.166667   \n",
       "Electrical-Burn              0.2  0.2     0.500            0.2  0.166667   \n",
       "Electrical-Shock             0.2  0.2     0.125            0.2  0.166667   \n",
       "Fall-Gtm                     0.2  0.2     0.125            0.2  0.166667   \n",
       "\n",
       "absenteeism_level           Absenteeism-03                 \n",
       "tool_type         Power-Gun       Forklift  Oil Power-Gun  \n",
       "injury_type                                                \n",
       "Chemical-Burn      0.166667       0.142857  0.2       0.2  \n",
       "Contact-Contusion  0.166667       0.285714  0.2       0.2  \n",
       "Electrical-Burn    0.166667       0.142857  0.2       0.2  \n",
       "Electrical-Shock   0.333333       0.142857  0.2       0.2  \n",
       "Fall-Gtm           0.166667       0.285714  0.2       0.2  "
      ]
     },
     "execution_count": 66,
     "metadata": {},
     "output_type": "execute_result"
    }
   ],
   "source": [
    "bayesNetCPD.cpds['injury_type']"
   ]
  },
  {
   "cell_type": "markdown",
   "metadata": {
    "lines_to_next_cell": 0,
    "title": "markdown"
   },
   "source": [
    "The CPD dictionaries are multiindexed so the `loc` function can be a useful way to interact with them:"
   ]
  },
  {
   "cell_type": "code",
   "execution_count": 67,
   "metadata": {
    "title": "codecell"
   },
   "outputs": [
    {
     "data": {
      "text/html": [
       "<div>\n",
       "<style scoped>\n",
       "    .dataframe tbody tr th:only-of-type {\n",
       "        vertical-align: middle;\n",
       "    }\n",
       "\n",
       "    .dataframe tbody tr th {\n",
       "        vertical-align: top;\n",
       "    }\n",
       "\n",
       "    .dataframe thead th {\n",
       "        text-align: right;\n",
       "    }\n",
       "</style>\n",
       "<table border=\"1\" class=\"dataframe\">\n",
       "  <thead>\n",
       "    <tr style=\"text-align: right;\">\n",
       "      <th></th>\n",
       "      <th>process_type</th>\n",
       "      <th>tool_type</th>\n",
       "      <th>injury_type</th>\n",
       "      <th>absenteeism_level</th>\n",
       "    </tr>\n",
       "  </thead>\n",
       "  <tbody>\n",
       "    <tr>\n",
       "      <th>1</th>\n",
       "      <td>Engine-Mount</td>\n",
       "      <td>Forklift</td>\n",
       "      <td>Contact-Contusion</td>\n",
       "      <td>Absenteeism-03</td>\n",
       "    </tr>\n",
       "    <tr>\n",
       "      <th>2</th>\n",
       "      <td>Engine-Wiring</td>\n",
       "      <td>Power-Gun</td>\n",
       "      <td>Electrical-Shock</td>\n",
       "      <td>Absenteeism-02</td>\n",
       "    </tr>\n",
       "    <tr>\n",
       "      <th>3</th>\n",
       "      <td>Engine-Mount</td>\n",
       "      <td>Forklift</td>\n",
       "      <td>Fall-Gtm</td>\n",
       "      <td>Absenteeism-03</td>\n",
       "    </tr>\n",
       "    <tr>\n",
       "      <th>4</th>\n",
       "      <td>Sun-Roof-Housing</td>\n",
       "      <td>Power-Gun</td>\n",
       "      <td>Electrical-Burn</td>\n",
       "      <td>Absenteeism-00</td>\n",
       "    </tr>\n",
       "    <tr>\n",
       "      <th>5</th>\n",
       "      <td>Accel-Pedal</td>\n",
       "      <td>Power-Gun</td>\n",
       "      <td>Electrical-Burn</td>\n",
       "      <td>Absenteeism-00</td>\n",
       "    </tr>\n",
       "  </tbody>\n",
       "</table>\n",
       "</div>"
      ],
      "text/plain": [
       "       process_type  tool_type        injury_type absenteeism_level\n",
       "1      Engine-Mount   Forklift  Contact-Contusion    Absenteeism-03\n",
       "2     Engine-Wiring  Power-Gun   Electrical-Shock    Absenteeism-02\n",
       "3      Engine-Mount   Forklift           Fall-Gtm    Absenteeism-03\n",
       "4  Sun-Roof-Housing  Power-Gun    Electrical-Burn    Absenteeism-00\n",
       "5       Accel-Pedal  Power-Gun    Electrical-Burn    Absenteeism-00"
      ]
     },
     "execution_count": 67,
     "metadata": {},
     "output_type": "execute_result"
    }
   ],
   "source": [
    "# TODO: https://hyp.is/_95epIOuEeq_HdeYjzCPXQ/causalnex.readthedocs.io/en/latest/03_tutorial/03_tutorial.html\n",
    "data.loc[1:5,data.columns]\n",
    "\n"
   ]
  },
  {
   "cell_type": "markdown",
   "metadata": {
    "lines_to_next_cell": 0,
    "title": "markdown"
   },
   "source": [
    "## Predict the State given the Input Data\n",
    "The `predict` method of `BayesianNetwork` allos us to make predictions based on the data using the learnt network. For example we want to predict if a student passes of failes the exam based on the input data. Consider an incoming student data like this:"
   ]
  },
  {
   "cell_type": "code",
   "execution_count": 68,
   "metadata": {
    "lines_to_next_cell": 0,
    "title": "codecell"
   },
   "outputs": [
    {
     "data": {
      "text/plain": [
       "process_type       Engine-Wiring\n",
       "tool_type              Power-Gun\n",
       "injury_type     Electrical-Shock\n",
       "Name: 2, dtype: object"
      ]
     },
     "execution_count": 68,
     "metadata": {},
     "output_type": "execute_result"
    }
   ],
   "source": [
    "# Row number 2\n",
    "data.loc[2, data.columns != 'absenteeism_level']"
   ]
  },
  {
   "cell_type": "markdown",
   "metadata": {
    "lines_to_next_cell": 0,
    "title": "markdown"
   },
   "source": [
    "Here is the data again for reference. We see the absentee level is mid-range for this injury time `Electrical-Shock` and tool-type `Power-Gun` and process-type `Engine-Mount`"
   ]
  },
  {
   "cell_type": "code",
   "execution_count": 69,
   "metadata": {
    "lines_to_next_cell": 0,
    "title": "codecell"
   },
   "outputs": [
    {
     "data": {
      "text/html": [
       "<div>\n",
       "<style scoped>\n",
       "    .dataframe tbody tr th:only-of-type {\n",
       "        vertical-align: middle;\n",
       "    }\n",
       "\n",
       "    .dataframe tbody tr th {\n",
       "        vertical-align: top;\n",
       "    }\n",
       "\n",
       "    .dataframe thead th {\n",
       "        text-align: right;\n",
       "    }\n",
       "</style>\n",
       "<table border=\"1\" class=\"dataframe\">\n",
       "  <thead>\n",
       "    <tr style=\"text-align: right;\">\n",
       "      <th></th>\n",
       "      <th>process_type</th>\n",
       "      <th>tool_type</th>\n",
       "      <th>injury_type</th>\n",
       "      <th>absenteeism_level</th>\n",
       "    </tr>\n",
       "  </thead>\n",
       "  <tbody>\n",
       "    <tr>\n",
       "      <th>0</th>\n",
       "      <td>Engine-Mount</td>\n",
       "      <td>Power-Gun</td>\n",
       "      <td>Electrical-Burn</td>\n",
       "      <td>Absenteeism-00</td>\n",
       "    </tr>\n",
       "    <tr>\n",
       "      <th>1</th>\n",
       "      <td>Engine-Mount</td>\n",
       "      <td>Forklift</td>\n",
       "      <td>Contact-Contusion</td>\n",
       "      <td>Absenteeism-03</td>\n",
       "    </tr>\n",
       "    <tr>\n",
       "      <th>2</th>\n",
       "      <td>Engine-Wiring</td>\n",
       "      <td>Power-Gun</td>\n",
       "      <td>Electrical-Shock</td>\n",
       "      <td>Absenteeism-02</td>\n",
       "    </tr>\n",
       "    <tr>\n",
       "      <th>3</th>\n",
       "      <td>Engine-Mount</td>\n",
       "      <td>Forklift</td>\n",
       "      <td>Fall-Gtm</td>\n",
       "      <td>Absenteeism-03</td>\n",
       "    </tr>\n",
       "    <tr>\n",
       "      <th>4</th>\n",
       "      <td>Sun-Roof-Housing</td>\n",
       "      <td>Power-Gun</td>\n",
       "      <td>Electrical-Burn</td>\n",
       "      <td>Absenteeism-00</td>\n",
       "    </tr>\n",
       "    <tr>\n",
       "      <th>5</th>\n",
       "      <td>Accel-Pedal</td>\n",
       "      <td>Power-Gun</td>\n",
       "      <td>Electrical-Burn</td>\n",
       "      <td>Absenteeism-00</td>\n",
       "    </tr>\n",
       "    <tr>\n",
       "      <th>6</th>\n",
       "      <td>Oil-Fill</td>\n",
       "      <td>Oil</td>\n",
       "      <td>Chemical-Burn</td>\n",
       "      <td>Absenteeism-02</td>\n",
       "    </tr>\n",
       "  </tbody>\n",
       "</table>\n",
       "</div>"
      ],
      "text/plain": [
       "       process_type  tool_type        injury_type absenteeism_level\n",
       "0      Engine-Mount  Power-Gun    Electrical-Burn    Absenteeism-00\n",
       "1      Engine-Mount   Forklift  Contact-Contusion    Absenteeism-03\n",
       "2     Engine-Wiring  Power-Gun   Electrical-Shock    Absenteeism-02\n",
       "3      Engine-Mount   Forklift           Fall-Gtm    Absenteeism-03\n",
       "4  Sun-Roof-Housing  Power-Gun    Electrical-Burn    Absenteeism-00\n",
       "5       Accel-Pedal  Power-Gun    Electrical-Burn    Absenteeism-00\n",
       "6          Oil-Fill        Oil      Chemical-Burn    Absenteeism-02"
      ]
     },
     "execution_count": 69,
     "metadata": {},
     "output_type": "execute_result"
    }
   ],
   "source": [
    "data"
   ]
  },
  {
   "cell_type": "markdown",
   "metadata": {
    "lines_to_next_cell": 0,
    "title": "markdown"
   },
   "source": [
    "Based on this data, want to predict if this particular observation (worker) will have a high absence level.\n",
    "\n",
    "There are two kinds of prediction methods:\n",
    "* [`predict_probability(data, node)`](https://causalnex.readthedocs.io/en/latest/source/api_docs/causalnex.network.BayesianNetwork.html#causalnex.network.BayesianNetwork.predict_probability): Predict the **probability of each possible state of a node**, based on some input data.\n",
    "* [`predict(data, node)`](https://causalnex.readthedocs.io/en/latest/source/api_docs/causalnex.network.BayesianNetwork.html#causalnex.network.BayesianNetwork.predict): Predict the **state of a node ** based on some input data, using the Bayesian Network."
   ]
  },
  {
   "cell_type": "code",
   "execution_count": 70,
   "metadata": {
    "lines_to_next_cell": 0,
    "title": "codecell"
   },
   "outputs": [
    {
     "data": {
      "text/html": [
       "<div>\n",
       "<style scoped>\n",
       "    .dataframe tbody tr th:only-of-type {\n",
       "        vertical-align: middle;\n",
       "    }\n",
       "\n",
       "    .dataframe tbody tr th {\n",
       "        vertical-align: top;\n",
       "    }\n",
       "\n",
       "    .dataframe thead th {\n",
       "        text-align: right;\n",
       "    }\n",
       "</style>\n",
       "<table border=\"1\" class=\"dataframe\">\n",
       "  <thead>\n",
       "    <tr style=\"text-align: right;\">\n",
       "      <th></th>\n",
       "      <th>absenteeism_level_Absenteeism-02</th>\n",
       "      <th>absenteeism_level_Absenteeism-03</th>\n",
       "      <th>absenteeism_level_Absenteeism-00</th>\n",
       "    </tr>\n",
       "  </thead>\n",
       "  <tbody>\n",
       "    <tr>\n",
       "      <th>0</th>\n",
       "      <td>0.3</td>\n",
       "      <td>0.3</td>\n",
       "      <td>0.4</td>\n",
       "    </tr>\n",
       "    <tr>\n",
       "      <th>1</th>\n",
       "      <td>0.3</td>\n",
       "      <td>0.3</td>\n",
       "      <td>0.4</td>\n",
       "    </tr>\n",
       "    <tr>\n",
       "      <th>2</th>\n",
       "      <td>0.3</td>\n",
       "      <td>0.3</td>\n",
       "      <td>0.4</td>\n",
       "    </tr>\n",
       "    <tr>\n",
       "      <th>3</th>\n",
       "      <td>0.3</td>\n",
       "      <td>0.3</td>\n",
       "      <td>0.4</td>\n",
       "    </tr>\n",
       "    <tr>\n",
       "      <th>4</th>\n",
       "      <td>0.3</td>\n",
       "      <td>0.3</td>\n",
       "      <td>0.4</td>\n",
       "    </tr>\n",
       "    <tr>\n",
       "      <th>5</th>\n",
       "      <td>0.3</td>\n",
       "      <td>0.3</td>\n",
       "      <td>0.4</td>\n",
       "    </tr>\n",
       "    <tr>\n",
       "      <th>6</th>\n",
       "      <td>0.3</td>\n",
       "      <td>0.3</td>\n",
       "      <td>0.4</td>\n",
       "    </tr>\n",
       "  </tbody>\n",
       "</table>\n",
       "</div>"
      ],
      "text/plain": [
       "   absenteeism_level_Absenteeism-02  absenteeism_level_Absenteeism-03  \\\n",
       "0                               0.3                               0.3   \n",
       "1                               0.3                               0.3   \n",
       "2                               0.3                               0.3   \n",
       "3                               0.3                               0.3   \n",
       "4                               0.3                               0.3   \n",
       "5                               0.3                               0.3   \n",
       "6                               0.3                               0.3   \n",
       "\n",
       "   absenteeism_level_Absenteeism-00  \n",
       "0                               0.4  \n",
       "1                               0.4  \n",
       "2                               0.4  \n",
       "3                               0.4  \n",
       "4                               0.4  \n",
       "5                               0.4  \n",
       "6                               0.4  "
      ]
     },
     "execution_count": 70,
     "metadata": {},
     "output_type": "execute_result"
    }
   ],
   "source": [
    "\n",
    "predictionProbs = bayesNetCPD.predict_probability(data = data, node = 'absenteeism_level')\n",
    "predictionProbs"
   ]
  },
  {
   "cell_type": "code",
   "execution_count": 71,
   "metadata": {
    "lines_to_next_cell": 0,
    "title": "codecell"
   },
   "outputs": [
    {
     "data": {
      "text/plain": [
       "absenteeism_level_Absenteeism-02    0.3\n",
       "absenteeism_level_Absenteeism-03    0.3\n",
       "absenteeism_level_Absenteeism-00    0.4\n",
       "Name: 2, dtype: float64"
      ]
     },
     "execution_count": 71,
     "metadata": {},
     "output_type": "execute_result"
    }
   ],
   "source": [
    "# More likely to have no absentee level for those variables than to have absentee level 2\n",
    "predictionProbs.loc[2, :]"
   ]
  },
  {
   "cell_type": "code",
   "execution_count": 72,
   "metadata": {
    "title": "codecell"
   },
   "outputs": [
    {
     "data": {
      "text/html": [
       "<div>\n",
       "<style scoped>\n",
       "    .dataframe tbody tr th:only-of-type {\n",
       "        vertical-align: middle;\n",
       "    }\n",
       "\n",
       "    .dataframe tbody tr th {\n",
       "        vertical-align: top;\n",
       "    }\n",
       "\n",
       "    .dataframe thead th {\n",
       "        text-align: right;\n",
       "    }\n",
       "</style>\n",
       "<table border=\"1\" class=\"dataframe\">\n",
       "  <thead>\n",
       "    <tr style=\"text-align: right;\">\n",
       "      <th></th>\n",
       "      <th>absenteeism_level_prediction</th>\n",
       "    </tr>\n",
       "  </thead>\n",
       "  <tbody>\n",
       "    <tr>\n",
       "      <th>0</th>\n",
       "      <td>Absenteeism-00</td>\n",
       "    </tr>\n",
       "    <tr>\n",
       "      <th>1</th>\n",
       "      <td>Absenteeism-00</td>\n",
       "    </tr>\n",
       "    <tr>\n",
       "      <th>2</th>\n",
       "      <td>Absenteeism-00</td>\n",
       "    </tr>\n",
       "    <tr>\n",
       "      <th>3</th>\n",
       "      <td>Absenteeism-00</td>\n",
       "    </tr>\n",
       "    <tr>\n",
       "      <th>4</th>\n",
       "      <td>Absenteeism-00</td>\n",
       "    </tr>\n",
       "    <tr>\n",
       "      <th>5</th>\n",
       "      <td>Absenteeism-00</td>\n",
       "    </tr>\n",
       "    <tr>\n",
       "      <th>6</th>\n",
       "      <td>Absenteeism-00</td>\n",
       "    </tr>\n",
       "  </tbody>\n",
       "</table>\n",
       "</div>"
      ],
      "text/plain": [
       "  absenteeism_level_prediction\n",
       "0               Absenteeism-00\n",
       "1               Absenteeism-00\n",
       "2               Absenteeism-00\n",
       "3               Absenteeism-00\n",
       "4               Absenteeism-00\n",
       "5               Absenteeism-00\n",
       "6               Absenteeism-00"
      ]
     },
     "execution_count": 72,
     "metadata": {},
     "output_type": "execute_result"
    }
   ],
   "source": [
    "# This function does predictions for ALL observations (all workers)\n",
    "predictions = bayesNetCPD.predict(data = data, node = 'absenteeism_level')\n",
    "predictions"
   ]
  },
  {
   "cell_type": "markdown",
   "metadata": {
    "lines_to_next_cell": 0,
    "title": "markdown"
   },
   "source": [
    "Compare this prediction to the ground truth:"
   ]
  },
  {
   "cell_type": "code",
   "execution_count": 73,
   "metadata": {
    "lines_to_next_cell": 2,
    "title": "codecell"
   },
   "outputs": [
    {
     "data": {
      "text/html": [
       "<div>\n",
       "<style scoped>\n",
       "    .dataframe tbody tr th:only-of-type {\n",
       "        vertical-align: middle;\n",
       "    }\n",
       "\n",
       "    .dataframe tbody tr th {\n",
       "        vertical-align: top;\n",
       "    }\n",
       "\n",
       "    .dataframe thead th {\n",
       "        text-align: right;\n",
       "    }\n",
       "</style>\n",
       "<table border=\"1\" class=\"dataframe\">\n",
       "  <thead>\n",
       "    <tr style=\"text-align: right;\">\n",
       "      <th></th>\n",
       "      <th>process_type</th>\n",
       "      <th>tool_type</th>\n",
       "      <th>injury_type</th>\n",
       "      <th>absenteeism_level</th>\n",
       "    </tr>\n",
       "  </thead>\n",
       "  <tbody>\n",
       "    <tr>\n",
       "      <th>0</th>\n",
       "      <td>Engine-Mount</td>\n",
       "      <td>Power-Gun</td>\n",
       "      <td>Electrical-Burn</td>\n",
       "      <td>Absenteeism-00</td>\n",
       "    </tr>\n",
       "    <tr>\n",
       "      <th>1</th>\n",
       "      <td>Engine-Mount</td>\n",
       "      <td>Forklift</td>\n",
       "      <td>Contact-Contusion</td>\n",
       "      <td>Absenteeism-03</td>\n",
       "    </tr>\n",
       "    <tr>\n",
       "      <th>2</th>\n",
       "      <td>Engine-Wiring</td>\n",
       "      <td>Power-Gun</td>\n",
       "      <td>Electrical-Shock</td>\n",
       "      <td>Absenteeism-02</td>\n",
       "    </tr>\n",
       "    <tr>\n",
       "      <th>3</th>\n",
       "      <td>Engine-Mount</td>\n",
       "      <td>Forklift</td>\n",
       "      <td>Fall-Gtm</td>\n",
       "      <td>Absenteeism-03</td>\n",
       "    </tr>\n",
       "    <tr>\n",
       "      <th>4</th>\n",
       "      <td>Sun-Roof-Housing</td>\n",
       "      <td>Power-Gun</td>\n",
       "      <td>Electrical-Burn</td>\n",
       "      <td>Absenteeism-00</td>\n",
       "    </tr>\n",
       "    <tr>\n",
       "      <th>5</th>\n",
       "      <td>Accel-Pedal</td>\n",
       "      <td>Power-Gun</td>\n",
       "      <td>Electrical-Burn</td>\n",
       "      <td>Absenteeism-00</td>\n",
       "    </tr>\n",
       "    <tr>\n",
       "      <th>6</th>\n",
       "      <td>Oil-Fill</td>\n",
       "      <td>Oil</td>\n",
       "      <td>Chemical-Burn</td>\n",
       "      <td>Absenteeism-02</td>\n",
       "    </tr>\n",
       "  </tbody>\n",
       "</table>\n",
       "</div>"
      ],
      "text/plain": [
       "       process_type  tool_type        injury_type absenteeism_level\n",
       "0      Engine-Mount  Power-Gun    Electrical-Burn    Absenteeism-00\n",
       "1      Engine-Mount   Forklift  Contact-Contusion    Absenteeism-03\n",
       "2     Engine-Wiring  Power-Gun   Electrical-Shock    Absenteeism-02\n",
       "3      Engine-Mount   Forklift           Fall-Gtm    Absenteeism-03\n",
       "4  Sun-Roof-Housing  Power-Gun    Electrical-Burn    Absenteeism-00\n",
       "5       Accel-Pedal  Power-Gun    Electrical-Burn    Absenteeism-00\n",
       "6          Oil-Fill        Oil      Chemical-Burn    Absenteeism-02"
      ]
     },
     "execution_count": 73,
     "metadata": {},
     "output_type": "execute_result"
    }
   ],
   "source": [
    "data"
   ]
  },
  {
   "cell_type": "markdown",
   "metadata": {
    "lines_to_next_cell": 0,
    "title": "markdown"
   },
   "source": [
    "# 4/ Model Quality\n",
    "To evaluate the quality of the model that has been learned, CausalNex supports two main approaches: Classification Report and Reciever Operating Characteristics (ROC) / Area Under the ROC Curve (AUC).\n",
    "## Measure 1: Classification Report\n",
    "To obtain a classification report using a BN, we need to provide a test set and the node we are trying to classify. The classification report predicts the target node for all rows (observations) in the test set and evaluate how well those predictions are made, via the model."
   ]
  },
  {
   "cell_type": "code",
   "execution_count": 74,
   "metadata": {
    "lines_to_next_cell": 0,
    "title": "codecell"
   },
   "outputs": [
    {
     "name": "stderr",
     "output_type": "stream",
     "text": [
      "/development/bin/python/conda3_ana/envs/pybayesian_env/lib/python3.7/site-packages/sklearn/metrics/classification.py:1143: UndefinedMetricWarning: Precision and F-score are ill-defined and being set to 0.0 in labels with no predicted samples.\n",
      "  'precision', 'predicted', average, warn_for)\n"
     ]
    },
    {
     "data": {
      "text/html": [
       "<div>\n",
       "<style scoped>\n",
       "    .dataframe tbody tr th:only-of-type {\n",
       "        vertical-align: middle;\n",
       "    }\n",
       "\n",
       "    .dataframe tbody tr th {\n",
       "        vertical-align: top;\n",
       "    }\n",
       "\n",
       "    .dataframe thead th {\n",
       "        text-align: right;\n",
       "    }\n",
       "</style>\n",
       "<table border=\"1\" class=\"dataframe\">\n",
       "  <thead>\n",
       "    <tr style=\"text-align: right;\">\n",
       "      <th></th>\n",
       "      <th>precision</th>\n",
       "      <th>recall</th>\n",
       "      <th>f1-score</th>\n",
       "      <th>support</th>\n",
       "    </tr>\n",
       "  </thead>\n",
       "  <tbody>\n",
       "    <tr>\n",
       "      <th>absenteeism_level_Absenteeism-00</th>\n",
       "      <td>0.428571</td>\n",
       "      <td>1.000000</td>\n",
       "      <td>0.600000</td>\n",
       "      <td>3</td>\n",
       "    </tr>\n",
       "    <tr>\n",
       "      <th>absenteeism_level_Absenteeism-02</th>\n",
       "      <td>0.000000</td>\n",
       "      <td>0.000000</td>\n",
       "      <td>0.000000</td>\n",
       "      <td>2</td>\n",
       "    </tr>\n",
       "    <tr>\n",
       "      <th>absenteeism_level_Absenteeism-03</th>\n",
       "      <td>0.000000</td>\n",
       "      <td>0.000000</td>\n",
       "      <td>0.000000</td>\n",
       "      <td>2</td>\n",
       "    </tr>\n",
       "    <tr>\n",
       "      <th>micro avg</th>\n",
       "      <td>0.428571</td>\n",
       "      <td>0.428571</td>\n",
       "      <td>0.428571</td>\n",
       "      <td>7</td>\n",
       "    </tr>\n",
       "    <tr>\n",
       "      <th>macro avg</th>\n",
       "      <td>0.142857</td>\n",
       "      <td>0.333333</td>\n",
       "      <td>0.200000</td>\n",
       "      <td>7</td>\n",
       "    </tr>\n",
       "    <tr>\n",
       "      <th>weighted avg</th>\n",
       "      <td>0.183673</td>\n",
       "      <td>0.428571</td>\n",
       "      <td>0.257143</td>\n",
       "      <td>7</td>\n",
       "    </tr>\n",
       "  </tbody>\n",
       "</table>\n",
       "</div>"
      ],
      "text/plain": [
       "                                  precision    recall  f1-score  support\n",
       "absenteeism_level_Absenteeism-00   0.428571  1.000000  0.600000        3\n",
       "absenteeism_level_Absenteeism-02   0.000000  0.000000  0.000000        2\n",
       "absenteeism_level_Absenteeism-03   0.000000  0.000000  0.000000        2\n",
       "micro avg                          0.428571  0.428571  0.428571        7\n",
       "macro avg                          0.142857  0.333333  0.200000        7\n",
       "weighted avg                       0.183673  0.428571  0.257143        7"
      ]
     },
     "execution_count": 74,
     "metadata": {},
     "output_type": "execute_result"
    }
   ],
   "source": [
    "from causalnex.evaluation import classification_report\n",
    "\n",
    "classification_report(bn = bayesNetCPD, data = data, node = 'absenteeism_level')"
   ]
  },
  {
   "cell_type": "markdown",
   "metadata": {
    "lines_to_next_cell": 0,
    "title": "markdown"
   },
   "source": [
    "**Interpret Results of classification report:** Precisions are very low for the no absentee level, and both precions and recall are very low for other absentee levels, implying we are likely to miss some of the predictions we should have made. Perhaps these missing predictions are a result of something missing in our structure\n",
    "* $\\color{red}{\\text{ALERT:}}$  explore graph structure when the recall is bad\n",
    "\n",
    "\n",
    "## Measure 2: ROC / AUC\n",
    "The ROC and AUC can be obtained with `roc_auc` method within CausalNex metrics module.\n",
    "ROC curve is computed by micro-averaging predictions made across all states (classes) of the target node."
   ]
  },
  {
   "cell_type": "code",
   "execution_count": 75,
   "metadata": {
    "lines_to_next_cell": 0,
    "title": "codecell"
   },
   "outputs": [
    {
     "name": "stdout",
     "output_type": "stream",
     "text": [
      "ROC = \n",
      "[(0.0, 0.0), (0.2857142857142857, 0.42857142857142855), (1.0, 1.0)]\n",
      "\n",
      "AUC = 0.5714285714285714\n"
     ]
    }
   ],
   "source": [
    "from causalnex.evaluation import roc_auc\n",
    "\n",
    "roc, auc = roc_auc(bn = bayesNetCPD, data = data, node = 'absenteeism_level')\n",
    "\n",
    "print(f\"ROC = \\n{roc}\\n\")\n",
    "print(f\"AUC = {auc}\")"
   ]
  },
  {
   "cell_type": "markdown",
   "metadata": {
    "lines_to_next_cell": 0,
    "title": "markdown"
   },
   "source": [
    "High value of AUC gives confidence in model performance, low value of AUC implies poor model performance.\n",
    "\n",
    "\n",
    "\n",
    "# 5/ Querying Marginals\n",
    "After iterating over our model structure, CPDs, and validating our model quality, we can **query our model under different observations** to gain insights.\n",
    "\n",
    "## Baseline Marginals\n",
    "To query the model for baseline marginals that reflect the population as a whole, a `query` method can be used.\n",
    "\n",
    "**First:** update the model using the complete dataset since the one we currently have is built only from training data."
   ]
  },
  {
   "cell_type": "code",
   "execution_count": 76,
   "metadata": {
    "lines_to_next_cell": 0,
    "title": "codecell"
   },
   "outputs": [
    {
     "name": "stderr",
     "output_type": "stream",
     "text": [
      "WARNING:root:Replacing existing CPD for tool_type\n"
     ]
    },
    {
     "name": "stderr",
     "output_type": "stream",
     "text": [
      "WARNING:root:Replacing existing CPD for process_type\n"
     ]
    },
    {
     "name": "stderr",
     "output_type": "stream",
     "text": [
      "WARNING:root:Replacing existing CPD for injury_type\n"
     ]
    },
    {
     "name": "stderr",
     "output_type": "stream",
     "text": [
      "WARNING:root:Replacing existing CPD for absenteeism_level\n"
     ]
    }
   ],
   "source": [
    "# Copy object:\n",
    "bayesNetFull = copy.deepcopy(bayesNetCPD)\n",
    "\n",
    "# Fitting CPDs with full data\n",
    "bayesNetFull: BayesianNetwork = bayesNetFull.fit_cpds(data = data,\n",
    "                                                     method = \"BayesianEstimator\",\n",
    "                                                     bayes_prior = \"K2\")"
   ]
  },
  {
   "cell_type": "markdown",
   "metadata": {
    "title": "markdown"
   },
   "source": [
    "Get warnings, showing we are replacing the previously existing CPDs\n",
    "\n",
    "**Second**: For inference, must create a new `InferenceEngine` from our `BayesianNetwork`, which lets us query the model. The query method will compute the marginal likelihood of all states for all nodes. Query lets us get the marginal distributions, marginalizing to get rid of the conditioning variable(s) for each node variable."
   ]
  },
  {
   "cell_type": "code",
   "execution_count": 77,
   "metadata": {
    "lines_to_next_cell": 0,
    "title": "codecell"
   },
   "outputs": [
    {
     "data": {
      "text/plain": [
       "<causalnex.inference.inference.InferenceEngine at 0x7fb7f14984d0>"
      ]
     },
     "execution_count": 77,
     "metadata": {},
     "output_type": "execute_result"
    }
   ],
   "source": [
    "from causalnex.inference import InferenceEngine\n",
    "\n",
    "eng = InferenceEngine(bn = bayesNetFull)\n",
    "eng"
   ]
  },
  {
   "cell_type": "markdown",
   "metadata": {
    "lines_to_next_cell": 0,
    "title": "markdown"
   },
   "source": [
    "Query the baseline marginal distributions, which means querying marginals **as learned from data**:"
   ]
  },
  {
   "cell_type": "code",
   "execution_count": 78,
   "metadata": {
    "lines_to_next_cell": 0,
    "title": "codecell"
   },
   "outputs": [
    {
     "data": {
      "text/plain": [
       "{'tool_type': {'Forklift': 0.33333333333333315,\n",
       "  'Oil': 0.33333333333333326,\n",
       "  'Power-Gun': 0.33333333333333326},\n",
       " 'process_type': {'Accel-Pedal': 0.19920634920634925,\n",
       "  'Engine-Mount': 0.20873015873015874,\n",
       "  'Engine-Wiring': 0.19642857142857145,\n",
       "  'Oil-Fill': 0.19642857142857148,\n",
       "  'Sun-Roof-Housing': 0.19920634920634925},\n",
       " 'injury_type': {'Chemical-Burn': 0.19428571428571434,\n",
       "  'Contact-Contusion': 0.19190476190476194,\n",
       "  'Electrical-Burn': 0.22761904761904764,\n",
       "  'Electrical-Shock': 0.19428571428571434,\n",
       "  'Fall-Gtm': 0.19190476190476194},\n",
       " 'absenteeism_level': {'Absenteeism-00': 0.4000000000000006,\n",
       "  'Absenteeism-02': 0.3000000000000001,\n",
       "  'Absenteeism-03': 0.30000000000000016}}"
      ]
     },
     "execution_count": 78,
     "metadata": {},
     "output_type": "execute_result"
    }
   ],
   "source": [
    "marginalDistLearned: Dict[str, Dict[str, float]] = eng.query()\n",
    "marginalDistLearned"
   ]
  },
  {
   "cell_type": "code",
   "execution_count": 79,
   "metadata": {
    "lines_to_next_cell": 0,
    "title": "codecell"
   },
   "outputs": [
    {
     "data": {
      "text/plain": [
       "{'Chemical-Burn': 0.19428571428571434,\n",
       " 'Contact-Contusion': 0.19190476190476194,\n",
       " 'Electrical-Burn': 0.22761904761904764,\n",
       " 'Electrical-Shock': 0.19428571428571434,\n",
       " 'Fall-Gtm': 0.19190476190476194}"
      ]
     },
     "execution_count": 79,
     "metadata": {},
     "output_type": "execute_result"
    }
   ],
   "source": [
    "marginalDistLearned['injury_type']"
   ]
  },
  {
   "cell_type": "code",
   "execution_count": 80,
   "metadata": {
    "lines_to_next_cell": 2,
    "title": "codecell"
   },
   "outputs": [
    {
     "data": {
      "text/plain": [
       "{'Absenteeism-00': 0.4000000000000006,\n",
       " 'Absenteeism-02': 0.3000000000000001,\n",
       " 'Absenteeism-03': 0.30000000000000016}"
      ]
     },
     "execution_count": 80,
     "metadata": {},
     "output_type": "execute_result"
    }
   ],
   "source": [
    "marginalDistLearned['absenteeism_level']"
   ]
  },
  {
   "cell_type": "markdown",
   "metadata": {
    "lines_to_next_cell": 0,
    "title": "markdown"
   },
   "source": [
    "As a quick sanity check can compute the corresponding proportion of our data , which should give nearly the same result:"
   ]
  },
  {
   "cell_type": "code",
   "execution_count": 81,
   "metadata": {
    "title": "codecell"
   },
   "outputs": [
    {
     "name": "stdout",
     "output_type": "stream",
     "text": [
      "[('Absenteeism-00', 3), ('Absenteeism-02', 2), ('Absenteeism-03', 2)]\n",
      "\n",
      "Proportions for each label: \n",
      "\n"
     ]
    },
    {
     "data": {
      "text/plain": [
       "[('Absenteeism-00', 0.42857142857142855),\n",
       " ('Absenteeism-02', 0.2857142857142857),\n",
       " ('Absenteeism-03', 0.2857142857142857)]"
      ]
     },
     "execution_count": 81,
     "metadata": {},
     "output_type": "execute_result"
    }
   ],
   "source": [
    "import numpy as np\n",
    "\n",
    "labels, counts = np.unique(data['absenteeism_level'], return_counts = True)\n",
    "\n",
    "print(list(zip(labels, counts)))\n",
    "\n",
    "print('\\nProportions for each label: \\n') # The no-absentee level has highest probability, similar to the learned bayesian result.\n",
    "list(zip(labels, counts / sum(counts)))\n",
    "\n"
   ]
  },
  {
   "cell_type": "markdown",
   "metadata": {
    "lines_to_next_cell": 0,
    "title": "markdown"
   },
   "source": [
    "## Marginals After Observations\n",
    "Can query the marginal likelihood of states in our network, **given observations**.\n",
    "\n",
    "$\\color{red}{\\text{TODO}}$ is this using the Bayesian update rule?\n",
    "\n",
    "These observations can be made anywhere in the network and their impact will be propagated through to the node of interest."
   ]
  },
  {
   "cell_type": "code",
   "execution_count": 82,
   "metadata": {
    "lines_to_next_cell": 0,
    "title": "codecell"
   },
   "outputs": [
    {
     "data": {
      "text/plain": [
       "{'process_type': array(['Engine-Mount', 'Engine-Wiring', 'Sun-Roof-Housing', 'Accel-Pedal',\n",
       "        'Oil-Fill'], dtype=object),\n",
       " 'tool_type': array(['Power-Gun', 'Forklift', 'Oil'], dtype=object),\n",
       " 'injury_type': array(['Electrical-Burn', 'Contact-Contusion', 'Electrical-Shock',\n",
       "        'Fall-Gtm', 'Chemical-Burn'], dtype=object),\n",
       " 'absenteeism_level': array(['Absenteeism-00', 'Absenteeism-03', 'Absenteeism-02'], dtype=object)}"
      ]
     },
     "execution_count": 82,
     "metadata": {},
     "output_type": "execute_result"
    }
   ],
   "source": [
    "# Reminding of the data types for each variable:\n",
    "dataVals"
   ]
  },
  {
   "cell_type": "code",
   "execution_count": 83,
   "metadata": {
    "lines_to_next_cell": 0,
    "title": "codecell"
   },
   "outputs": [
    {
     "data": {
      "text/plain": [
       "['tool_type', 'process_type', 'injury_type', 'absenteeism_level']"
      ]
     },
     "execution_count": 83,
     "metadata": {},
     "output_type": "execute_result"
    }
   ],
   "source": [
    "# Reminder of nodes you CAN query (for instance putting a node name that doesn't exist would give an error)\n",
    "bayesNetFull.nodes"
   ]
  },
  {
   "cell_type": "code",
   "execution_count": 84,
   "metadata": {
    "title": "codecell"
   },
   "outputs": [],
   "source": [
    "# Trying to influence the injurytype variable and also later see how absentee is affected:\n",
    "#marginalDistObs_biasContusion: Dict[str, Dict[str, float]] = eng.query({'injury_type': 'Contact-Contusion' })\n",
    "\n",
    "# Seeing if biasing in favor of failing will influence the observed marginals:\n",
    "#marginalDistObs_biasShock: Dict[str, Dict[str, float]] = eng.query({'injury_type': 'Electrical-Shock'})"
   ]
  },
  {
   "cell_type": "code",
   "execution_count": 85,
   "metadata": {
    "lines_to_next_cell": 0,
    "title": "codecell"
   },
   "outputs": [
    {
     "data": {
      "text/plain": [
       "{'Chemical-Burn': 0.19428571428571434,\n",
       " 'Contact-Contusion': 0.19190476190476194,\n",
       " 'Electrical-Burn': 0.22761904761904764,\n",
       " 'Electrical-Shock': 0.19428571428571434,\n",
       " 'Fall-Gtm': 0.19190476190476194}"
      ]
     },
     "execution_count": 85,
     "metadata": {},
     "output_type": "execute_result"
    }
   ],
   "source": [
    "# Higher probability of passing when have the above observations, since they are another set of observations in favor of passing.\n",
    "marginalDistLearned['injury_type']"
   ]
  },
  {
   "cell_type": "code",
   "execution_count": 86,
   "metadata": {
    "lines_to_next_cell": 0,
    "title": "codecell"
   },
   "outputs": [
    {
     "data": {
      "text/plain": [
       "{'Chemical-Burn': 0.0,\n",
       " 'Contact-Contusion': 1.0,\n",
       " 'Electrical-Burn': 0.0,\n",
       " 'Electrical-Shock': 0.0,\n",
       " 'Fall-Gtm': 0.0}"
      ]
     },
     "execution_count": 86,
     "metadata": {},
     "output_type": "execute_result"
    }
   ],
   "source": [
    "# Biasing towards contusion type injury\n",
    "eng.query({'injury_type': 'Contact-Contusion' })['injury_type']"
   ]
  },
  {
   "cell_type": "code",
   "execution_count": 87,
   "metadata": {
    "lines_to_next_cell": 0,
    "title": "codecell"
   },
   "outputs": [
    {
     "data": {
      "text/plain": [
       "{'Chemical-Burn': 0.0,\n",
       " 'Contact-Contusion': 1.0,\n",
       " 'Electrical-Burn': 0.0,\n",
       " 'Electrical-Shock': 0.0,\n",
       " 'Fall-Gtm': 0.0}"
      ]
     },
     "execution_count": 87,
     "metadata": {},
     "output_type": "execute_result"
    }
   ],
   "source": [
    "eng.query({'injury_type': 'Contact-Contusion',\n",
    "           'tool_type': 'Forklift',\n",
    "           'process_type' : 'Sun-Roof-Housing' })['injury_type']"
   ]
  },
  {
   "cell_type": "code",
   "execution_count": 88,
   "metadata": {
    "lines_to_next_cell": 0,
    "title": "codecell"
   },
   "outputs": [
    {
     "data": {
      "text/plain": [
       "{'Chemical-Burn': 0.0,\n",
       " 'Contact-Contusion': 0.0,\n",
       " 'Electrical-Burn': 1.0,\n",
       " 'Electrical-Shock': 0.0,\n",
       " 'Fall-Gtm': 0.0}"
      ]
     },
     "execution_count": 88,
     "metadata": {},
     "output_type": "execute_result"
    }
   ],
   "source": [
    "# Biasing towards burn type injury\n",
    "# NOTE: so far, querying the biased variable results in too obvious an answer. Below we start querying the response variable, other than the one we bias on.\n",
    "eng.query({'injury_type': 'Electrical-Burn' })['injury_type']"
   ]
  },
  {
   "cell_type": "markdown",
   "metadata": {
    "lines_to_next_cell": 0,
    "title": "markdown"
   },
   "source": [
    "Interesting test cases: querying the response `absenteeism_level` after biasing, say, the `injury_type` and other variables.\n",
    "\n",
    "* **Biasing variable:** `injury_type`\n",
    "* **Querying variable:** `absenteeism_level`"
   ]
  },
  {
   "cell_type": "code",
   "execution_count": 89,
   "metadata": {
    "lines_to_next_cell": 0,
    "title": "codecell"
   },
   "outputs": [
    {
     "data": {
      "text/plain": [
       "{'Absenteeism-00': 0.4000000000000006,\n",
       " 'Absenteeism-02': 0.3000000000000001,\n",
       " 'Absenteeism-03': 0.30000000000000016}"
      ]
     },
     "execution_count": 89,
     "metadata": {},
     "output_type": "execute_result"
    }
   ],
   "source": [
    "bias: Dict[str, str] = {'injury_type' : 'Contact-Contusion'}\n",
    "query: str = 'absenteeism_level'\n",
    "\n",
    "marginalDistLearned[query]"
   ]
  },
  {
   "cell_type": "code",
   "execution_count": 90,
   "metadata": {
    "lines_to_next_cell": 0,
    "title": "codecell"
   },
   "outputs": [
    {
     "data": {
      "text/plain": [
       "{'Absenteeism-00': 0.36476426799007444,\n",
       " 'Absenteeism-02': 0.2779156327543425,\n",
       " 'Absenteeism-03': 0.3573200992555831}"
      ]
     },
     "execution_count": 90,
     "metadata": {},
     "output_type": "execute_result"
    }
   ],
   "source": [
    "# See absentee == 0 probability is lower than the learned version, given Contact Contusion injury, which is a serious injury\n",
    "higherProbAbsent: Dict[str, float] = eng.query(bias)[query]\n",
    "higherProbAbsent"
   ]
  },
  {
   "cell_type": "code",
   "execution_count": 91,
   "metadata": {
    "lines_to_next_cell": 0,
    "title": "codecell"
   },
   "outputs": [
    {
     "data": {
      "text/plain": [
       "{'Absenteeism-00': 0.5271966527196652,\n",
       " 'Absenteeism-02': 0.2343096234309624,\n",
       " 'Absenteeism-03': 0.2384937238493724}"
      ]
     },
     "execution_count": 91,
     "metadata": {},
     "output_type": "execute_result"
    }
   ],
   "source": [
    "# Testing less serious injury\n",
    "bias['injury_type'] = 'Electrical-Burn'\n",
    "\n",
    "# Got higher probability of no absenteeism for less serious burn!\n",
    "lessProbAbsent: Dict[str, float] = eng.query(bias)[query]\n",
    "lessProbAbsent"
   ]
  },
  {
   "cell_type": "code",
   "execution_count": 92,
   "metadata": {
    "lines_to_next_cell": 0,
    "title": "codecell"
   },
   "outputs": [],
   "source": [
    "assert lessProbAbsent['Absenteeism-00'] > higherProbAbsent['Absenteeism-00'], \"Should have higher probability of Absenteeism-00 for Electrical-Burn than for Contusion (burn is less serious than contusion)\"\n",
    "\n",
    "assert lessProbAbsent['Absenteeism-03'] < higherProbAbsent['Absenteeism-03'], \"Should have higher probability of Absenteeism-03 for Contusion than for Electrical-Burn (Contusion is more serious than burn)\""
   ]
  },
  {
   "cell_type": "code",
   "execution_count": null,
   "metadata": {
    "title": "codecell"
   },
   "outputs": [],
   "source": []
  }
 ],
 "metadata": {
  "jupytext": {
   "cell_metadata_filter": "title,-all"
  },
  "kernelspec": {
   "display_name": "pybayesian_env",
   "language": "python",
   "name": "pybayesian_env"
  },
  "language_info": {
   "codemirror_mode": {
    "name": "ipython",
    "version": 3
   },
   "file_extension": ".py",
   "mimetype": "text/x-python",
   "name": "python",
   "nbconvert_exporter": "python",
   "pygments_lexer": "ipython3",
   "version": "3.7.6"
  }
 },
 "nbformat": 4,
 "nbformat_minor": 4
}
