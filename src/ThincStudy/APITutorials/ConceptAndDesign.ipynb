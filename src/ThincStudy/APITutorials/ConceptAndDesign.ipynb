{
 "cells": [
  {
   "cell_type": "markdown",
   "metadata": {
    "lines_to_next_cell": 0,
    "title": "markdown"
   },
   "source": [
    "Source: [https://thinc.ai/docs/concept#annotations:rRYs7HvtEeqjKcMi29YdQw](https://thinc.ai/docs/concept#annotations:rRYs7HvtEeqjKcMi29YdQw)\n",
    "\n",
    "# [Concept and Design](https://hyp.is/rRYs7HvtEeqjKcMi29YdQw/thinc.ai/docs/concept)\n",
    "\n",
    "## Model Composition Problem\n",
    "\n",
    "The [central problem for a neural network](https://hyp.is/9KYtjE5DEeqIa_-fEBkiMQ/thinc.ai/docs/concept) implementation is this: during the forward pass, you compute results that will later be useful during the backward pass. How do you keep track of this arbitrary state, while making sure that layers can be cleanly composed?\n",
    "\n",
    "### Example: Uncomposable Model:\n",
    " The most obvious idea is that we have some thing called a model, and this thing holds some parameters (“weights”) and has a method to predict from some inputs to some outputs using the current weights. So far so good. But we also need a way to update the weights. The most obvious API for this is to add an update method, which will take a batch of inputs and a batch of correct labels, and compute the weight update."
   ]
  },
  {
   "cell_type": "code",
   "execution_count": 1,
   "metadata": {
    "title": "codecell"
   },
   "outputs": [],
   "source": [
    "class UncomposableModel:\n",
    "    def __init__(self, W):\n",
    "        self.W = W\n",
    "\n",
    "    def predict(self, inputs):\n",
    "        return inputs @ self.W.T\n",
    "\n",
    "    def update(self, inputs, targets, learningRate=0.001):\n",
    "        guesses = self.predict(inputs)\n",
    "        dGuesses = (guesses - targets) / targets.shape[0]  # gradient of loss w.r.t. output\n",
    "\n",
    "        # The @ is newish Python syntax for matrix multiplication\n",
    "        dInputs = dGuesses @ self.W\n",
    "\n",
    "        dW = dGuesses.T @ inputs  # gradient of parameters\n",
    "        self.W -= learningRate * dW  # update weights\n",
    "\n",
    "        return dInputs"
   ]
  },
  {
   "cell_type": "markdown",
   "metadata": {
    "title": "markdown"
   },
   "source": [
    "### Problem: Cannot Backprop Through Multiple Layers\n",
    "The `update()` method only works as the outer-level API. You wouldn’t be able to put another layer with the same API after this one and backpropagate through both of them. Let’s look at the steps for backpropagating through two matrix multiplications:"
   ]
  },
  {
   "cell_type": "code",
   "execution_count": 2,
   "metadata": {
    "lines_to_next_cell": 0,
    "title": "codecell"
   },
   "outputs": [],
   "source": [
    "def backpropTwoLayers(W1, W2, inputs, targets):\n",
    "    hiddens = inputs @ W1.T\n",
    "    guesses = hiddens @ W2.T\n",
    "\n",
    "    dGuesses = (guesses-targets) / targets.shape[0]  # gradient of loss w.r.t. output\n",
    "    dW2 = dGuesses @ hiddens.T\n",
    "    dHiddens = dGuesses @ W2\n",
    "    dW1 = dHiddens @ inputs.T\n",
    "    dInputs = dHiddens @ W1\n",
    "\n",
    "    return dW1, dW2, dInputs"
   ]
  },
  {
   "cell_type": "markdown",
   "metadata": {
    "lines_to_next_cell": 0,
    "title": "markdown"
   },
   "source": [
    "To update the first layer, we must know the **gradient with respect to its output**, but that is only revealed after the full forward pass, gradient of loss, and backpropagation through the second layer. Hence, the [`UncomposableModel` is uncomposable](https://hyp.is/cL4BsnvxEeqOtAf6xyOeLw/thinc.ai/docs/concept): the `update` method expects the input and target to both be available. This only works for the outermost API, but not for intermediate layers. We would need another API for intermediate layers.\n",
    "\n",
    "### Solution: Reverse-Model Auto-Differentiation\n",
    "[Solution is to base the API around the `predict` method](https://hyp.is/ftIl0HvxEeqgBZeOXtiyiw/thinc.ai/docs/concept), which doesn't have the same composition problem, since there is no problem with writing `model3.predict(model2.predict(model1.predict(X)))`, or `model3.predict(model2.predict(X) + model1.predict(X))`.\n",
    "\n",
    "**Key Idea of Thinc:** To fix the API problem directly to enable model composition, both forwards and backwards.\n",
    "\n",
    "## Key Design (1): [No (explicit) Computational Graph - Just Higher Order Functions](https://hyp.is/XMJRpk5FEeqjof-24zQhoA/thinc.ai/docs/concept)\n"
   ]
  },
  {
   "cell_type": "code",
   "execution_count": 3,
   "metadata": {
    "lines_to_next_cell": 1,
    "title": "codecell"
   },
   "outputs": [],
   "source": [
    "from thinc.types import *\n",
    "from typing import *\n",
    "\n",
    "def reduceSumLayer(X: Floats3d) -> Tuple[Floats2d, Callable[[Floats2d], Floats3d]]:\n",
    "    Y: Floats2d = X.sum(axis = 1)\n",
    "\n",
    "    # Backward pass runs from gradient-of-output (dY) to gradient-of-input (dX)\n",
    "    # This means we will always have two matching pairs:\n",
    "    # ---> (inputToForward, outputOfBackprop) == (X, dX), and\n",
    "    # ---> (outputOfForward, inputOfBackprop) == (Y, dY) TODO ??\n",
    "    def backpropReduceSum(dY: Floats2d) -> Floats3d:\n",
    "        (dyFirstDim, dySecDim) = dY.shape\n",
    "        dX: Floats3d = np.zeros(X.shape) # TODO thinc uses just `zeros` function -- from where??\n",
    "        dX += dY.reshape((dyFirstDim, 1, dySecDim))\n",
    "\n",
    "        return dX # d_inputs\n",
    "\n",
    "    # outputs, backpropFunc\n",
    "    return Y, backpropReduceSum\n",
    "\n",
    "\n",
    "def reluLayer(inputs: Floats2d) -> Tuple[Floats2d, Callable[[Floats2d], Floats2d]]:\n",
    "    mask: Floats2d = inputs >= 0\n",
    "    outputs: Floats2d = inputs * mask\n",
    "\n",
    "    def backpropRelu(dOutputs: Floats2d) -> Floats2d:\n",
    "        return dOutputs * mask # == dInputs\n",
    "\n",
    "    return outputs, backpropRelu"
   ]
  },
  {
   "cell_type": "markdown",
   "metadata": {
    "title": "markdown"
   },
   "source": [
    "### Example: Chain Combinator (using callbacks)\n",
    "The most basic we we will want to combine layers is in a feed-forward relationship. Calling this combinator `chain()`, after the calculus chain rule:"
   ]
  },
  {
   "cell_type": "code",
   "execution_count": 4,
   "metadata": {
    "lines_to_next_cell": 1,
    "title": "codecell"
   },
   "outputs": [],
   "source": [
    "def chain(firstLayer, secondLayer):\n",
    "    def forwardChain(X):\n",
    "        Y, getdX = firstLayer(X)\n",
    "        Z, getdY = secondLayer(Y)\n",
    "\n",
    "        def backpropChain(dZ):\n",
    "            dY = getdY(dZ)\n",
    "            dX = getdX(dY)\n",
    "\n",
    "            return dX\n",
    "\n",
    "        return Z, backpropChain\n",
    "\n",
    "    return forwardChain"
   ]
  },
  {
   "cell_type": "markdown",
   "metadata": {
    "lines_to_next_cell": 0,
    "title": "markdown"
   },
   "source": [
    "We can use the `chain()` combinator to build a function that runs our `reduceSUmLayer` and `reluLayer` layers in succession:"
   ]
  },
  {
   "cell_type": "code",
   "execution_count": 5,
   "metadata": {
    "lines_to_next_cell": 1,
    "title": "codecell"
   },
   "outputs": [],
   "source": [
    "\n",
    "# from thinc.api import glorot_uniform_init\n",
    "import numpy as np\n",
    "\n",
    "chainedForward = chain(firstLayer = reduceSumLayer, secondLayer = reluLayer)\n",
    "\n",
    "B, S, W = 2, 10, 6 # (batch size, sequence length, width)\n",
    "\n",
    "# TODO don't know which method thinc uses here: 'uniform' ???? Looked everywhere in thinc.api and thinc.backends but it's not available ...\n",
    "X = np.random.uniform(low = 0, high = 1, size = (B, S, W))\n",
    "dZ = np.random.uniform(low = 0, high = 1, size = (B, W))\n",
    "\n",
    "# Returns Z, backpropChain\n",
    "Z, getdX = chainedForward(X = X)\n",
    "# The backprop chain in action:\n",
    "dX = getdX(dZ = dZ)\n",
    "\n",
    "assert dX.shape == X.shape"
   ]
  },
  {
   "cell_type": "markdown",
   "metadata": {
    "lines_to_next_cell": 0,
    "title": "markdown"
   },
   "source": [
    "### Example: Chain Combinator (No Callbacks)\n",
    "Our `chain` combinator works because our **layers return callbacks**, ensuring no distinction in API between the outermost layer and a layer that is part of a larger network. Imagine the alternative, where the function expects the gradient with respect to the output along its input:"
   ]
  },
  {
   "cell_type": "code",
   "execution_count": 6,
   "metadata": {
    "title": "codecell"
   },
   "outputs": [],
   "source": [
    "def reduceSum_noCallback(X: Floats3d, dY: Floats2d) -> Tuple[Floats2d, Floats3d]:\n",
    "    Y: Floats2d = X.sum(axis = 1)\n",
    "\n",
    "    # This was in the backprop method of reduceSumLayer():\n",
    "    (dyFirstDim, dySecDim) = dY.shape\n",
    "\n",
    "    dX: Floats3d = np.zeros(X.shape) # TODO thinc uses just `zeros` function -- from where??\n",
    "    dX += dY.reshape((dyFirstDim, 1, dySecDim))\n",
    "\n",
    "    return Y, dX\n",
    "\n",
    "\n",
    "def relu_noCallback(inputs: Floats2d, dOutputs: Floats2d) -> Tuple[Floats2d, Floats2d]:\n",
    "    mask: Floats2d = inputs >= 0\n",
    "    outputs: Floats2d = inputs * mask\n",
    "\n",
    "    # NOTE: this was in the backprop of the relu() method\n",
    "    dInputs: Floats2d = dOutputs * mask\n",
    "    #def backpropRelu(dOutputs: Floats2d) -> Floats2d:\n",
    "    #    return dOutputs * mask\n",
    "    #return inputs * mask, backpropRelu\n",
    "    return outputs, dInputs\n",
    "\n",
    "\n",
    "# How do we call `firstLayer`?\n",
    "# We can't, because its signature expects dY  as part of its input – but we don't know dY yet!\n",
    "# We can only  compute dY once we have Y. That's why layers must return callbacks.\n",
    "def chain_noCallback(firstLayer, secondLayer):\n",
    "\n",
    "    def forwardChain_noCallback(X, dZ):\n",
    "\n",
    "        # NO CALLBACK:\n",
    "        # Y, dX = firstLayer(X = X, dY = ???) # this is the stumbling block\n",
    "\n",
    "        # WITH CALLBACK:  the callback way doesn't require firstLayer to take dY as its argument:\n",
    "        # Y, getdX = firstLayer(X)\n",
    "\n",
    "        raise NotImplementedError()"
   ]
  },
  {
   "cell_type": "markdown",
   "metadata": {
    "lines_to_next_cell": 0,
    "title": "markdown"
   },
   "source": [
    "## Key Design (2): Encapsulation, Modularity\n",
    "The problem with no callbacks is more than just functional: the extra parameters passed in the functions in the above No Callback case are not just another kind of input variable to the network. The parameters are not part of the neural network design. We can't just say that parameters (like dY in the `reduceSum_noCallback`) are part of the network because that is not how we want to use the network. We [want the parameters of a layer to be an internal detail - **we don't want to have to pass in the parameters on each input**. ](https://hyp.is/HQ2zhE53EeqE19foO7IuTQ/thinc.ai/docs/concept)\n",
    "\n",
    "[Parameters must be handled differently from input variables (of a network) because we want to specify them at different times. We'd like to specify the parameters once *when we create the function* and then have them be an internal detail that doesn't affect the function's signature.](https://hyp.is/MgSHrk53EeqvG1tywXRcJg/thinc.ai/docs/concept)\n",
    "\n",
    "[The most direct approach is to introduce another layer of closures, and make the parameters and their gradients arguments to the outer layer. The gradients can then be incremented during the backward pass:](https://hyp.is/mz0GKnv9Eeq3Jg9d-UOOhA/thinc.ai/docs/concept)"
   ]
  },
  {
   "cell_type": "code",
   "execution_count": 7,
   "metadata": {
    "lines_to_next_cell": 0,
    "title": "codecell"
   },
   "outputs": [
    {
     "data": {
      "text/plain": [
       "array([[0., 0., 0., 0., 0., 0., 0., 0., 0., 0., 0., 0., 0., 0., 0., 0.],\n",
       "       [0., 0., 0., 0., 0., 0., 0., 0., 0., 0., 0., 0., 0., 0., 0., 0.],\n",
       "       [0., 0., 0., 0., 0., 0., 0., 0., 0., 0., 0., 0., 0., 0., 0., 0.],\n",
       "       [0., 0., 0., 0., 0., 0., 0., 0., 0., 0., 0., 0., 0., 0., 0., 0.],\n",
       "       [0., 0., 0., 0., 0., 0., 0., 0., 0., 0., 0., 0., 0., 0., 0., 0.],\n",
       "       [0., 0., 0., 0., 0., 0., 0., 0., 0., 0., 0., 0., 0., 0., 0., 0.],\n",
       "       [0., 0., 0., 0., 0., 0., 0., 0., 0., 0., 0., 0., 0., 0., 0., 0.],\n",
       "       [0., 0., 0., 0., 0., 0., 0., 0., 0., 0., 0., 0., 0., 0., 0., 0.],\n",
       "       [0., 0., 0., 0., 0., 0., 0., 0., 0., 0., 0., 0., 0., 0., 0., 0.],\n",
       "       [0., 0., 0., 0., 0., 0., 0., 0., 0., 0., 0., 0., 0., 0., 0., 0.],\n",
       "       [0., 0., 0., 0., 0., 0., 0., 0., 0., 0., 0., 0., 0., 0., 0., 0.],\n",
       "       [0., 0., 0., 0., 0., 0., 0., 0., 0., 0., 0., 0., 0., 0., 0., 0.],\n",
       "       [0., 0., 0., 0., 0., 0., 0., 0., 0., 0., 0., 0., 0., 0., 0., 0.],\n",
       "       [0., 0., 0., 0., 0., 0., 0., 0., 0., 0., 0., 0., 0., 0., 0., 0.],\n",
       "       [0., 0., 0., 0., 0., 0., 0., 0., 0., 0., 0., 0., 0., 0., 0., 0.],\n",
       "       [0., 0., 0., 0., 0., 0., 0., 0., 0., 0., 0., 0., 0., 0., 0., 0.],\n",
       "       [0., 0., 0., 0., 0., 0., 0., 0., 0., 0., 0., 0., 0., 0., 0., 0.],\n",
       "       [0., 0., 0., 0., 0., 0., 0., 0., 0., 0., 0., 0., 0., 0., 0., 0.],\n",
       "       [0., 0., 0., 0., 0., 0., 0., 0., 0., 0., 0., 0., 0., 0., 0., 0.],\n",
       "       [0., 0., 0., 0., 0., 0., 0., 0., 0., 0., 0., 0., 0., 0., 0., 0.],\n",
       "       [0., 0., 0., 0., 0., 0., 0., 0., 0., 0., 0., 0., 0., 0., 0., 0.],\n",
       "       [0., 0., 0., 0., 0., 0., 0., 0., 0., 0., 0., 0., 0., 0., 0., 0.],\n",
       "       [0., 0., 0., 0., 0., 0., 0., 0., 0., 0., 0., 0., 0., 0., 0., 0.],\n",
       "       [0., 0., 0., 0., 0., 0., 0., 0., 0., 0., 0., 0., 0., 0., 0., 0.],\n",
       "       [0., 0., 0., 0., 0., 0., 0., 0., 0., 0., 0., 0., 0., 0., 0., 0.],\n",
       "       [0., 0., 0., 0., 0., 0., 0., 0., 0., 0., 0., 0., 0., 0., 0., 0.],\n",
       "       [0., 0., 0., 0., 0., 0., 0., 0., 0., 0., 0., 0., 0., 0., 0., 0.],\n",
       "       [0., 0., 0., 0., 0., 0., 0., 0., 0., 0., 0., 0., 0., 0., 0., 0.],\n",
       "       [0., 0., 0., 0., 0., 0., 0., 0., 0., 0., 0., 0., 0., 0., 0., 0.],\n",
       "       [0., 0., 0., 0., 0., 0., 0., 0., 0., 0., 0., 0., 0., 0., 0., 0.],\n",
       "       [0., 0., 0., 0., 0., 0., 0., 0., 0., 0., 0., 0., 0., 0., 0., 0.],\n",
       "       [0., 0., 0., 0., 0., 0., 0., 0., 0., 0., 0., 0., 0., 0., 0., 0.]])"
      ]
     },
     "execution_count": 7,
     "metadata": {},
     "output_type": "execute_result"
    }
   ],
   "source": [
    "\n",
    "# TODO ERROR this code piece has errors: says dW, db are referenced before assignment!!!\n",
    "\n",
    "\n",
    "def Linear(W, b, dW, db):\n",
    "\n",
    "    def forwardLinear(X):  # X = inputs\n",
    "\n",
    "        Y = X @ W.T + b  # Y = outputs\n",
    "\n",
    "        def backwardLinear(dY):  # dY = d_outputs\n",
    "            dW = np.zeros(shape = W.shape)\n",
    "            db = np.zeros(shape = b.shape)\n",
    "\n",
    "            dW += dY.T @ X\n",
    "            db += dY.sum(axis = 0)\n",
    "            #print(dW, db)\n",
    "            dX = dY @ W\n",
    "\n",
    "            return dX    # dX = d_inputs\n",
    "\n",
    "        return Y, backwardLinear\n",
    "\n",
    "    return forwardLinear\n",
    "\n",
    "\n",
    "(numBatches, nIn, nOut) = 128, 16, 32\n",
    "\n",
    "# Initializing the inputs to neural network\n",
    "W = np.random.uniform(low = 0, high = 1, size = (nOut, nIn)) # matrix\n",
    "b = np.random.uniform(low = 0, high = 1, size = (nOut, )) # vector\n",
    "\n",
    "# Initializing the derivatives\n",
    "# TODO ERROR: initializing the class, just to compile because otherwise RunTime error \"dW, db are referenced before assignment\"\n",
    "dW = np.zeros(shape = W.shape)\n",
    "db = np.zeros(shape = b.shape)\n",
    "\n",
    "X = np.random.uniform(low = 0, high = 1, size = (numBatches, nIn))\n",
    "YTrue = np.random.uniform(low = 0, high = 1, size = (numBatches, nOut))\n",
    "\n",
    "linear = Linear(W = W, b = b, dW = dW, db = db)\n",
    "YOut, getdX = linear(X = X) # forward linear\n",
    "\n",
    "dY = (YOut - YTrue) / numBatches # YTrue.shape[0]\n",
    "\n",
    "dX = getdX(dY = dY) # backward linear\n",
    "\n",
    "# Now we can do an optimization step like:\n",
    "W -= 0.001 * dW\n",
    "b -= 0.001 * db\n",
    "#dW.fill(0.0)\n",
    "#db.fill(0.0)\n",
    "dW"
   ]
  },
  {
   "cell_type": "markdown",
   "metadata": {
    "lines_to_next_cell": 0,
    "title": "markdown"
   },
   "source": [
    "Use a [`Model` class to **keep track of parameters, gradients, dimensions**](https://hyp.is/si5GiE5NEeqQF1_W9FWCsQ/thinc.ai/docs/concept) since handling parameters and their gradients explicitly quickly gets unwieldy.\n",
    "\n",
    "\n",
    "Two possible approaches:\n",
    "\n",
    "1. **Inheritance Approach:** introduce one class per layer type, with the forward pass implemented as a method on the class (like PyTorch)\n",
    "2. **Composition Approach:**\n",
    "      * Each layer constructs a `Model` instance, and passes its `forward` function to this `Model` instance upon construction [(example is in the `thinc.layers.linear`)](https://hyp.is/-ceWpn7rEeqqmEdE6eVieg/thinc.ai/docs/api-layers). The `Model` object lets you pass in an [`init` function to support **shape inference**](https://hyp.is/bPmnGH7sEeqgGAMHdNcZBw/thinc.ai/docs/concept).\n",
    "      * In the `forward` method, the `Model` instance is passed in as a parameter, giving you access to the dimensions, parameters, gradients, attributes, and layers. THe second argument of `forward` is the input data and the third argument is a boolean that lets layers run differently during training and prediction (customary feature).\n",
    "\n",
    "Want to be able to define complex neural networks passing [**only genuine configuration** - shouldn't have to pass in a lot of variables whose values are dictated by the rest of the network. ](https://hyp.is/fjUbCE5OEeqhWS9aPoAuWA/thinc.ai/docs/concept)\n",
    "\n",
    "In the [`Linear`](https://hyp.is/-ceWpn7rEeqqmEdE6eVieg/thinc.ai/docs/api-layers) example, there are many ways for the inputs to `Linear` to be invalid: the `W` and `dW` variables could be different shapes, size of `b` could fail to match first dimension of `W`, the second dimension of `W` could fail to match the second dimension of the input, etc. With separate inputs like these there is [no way we can expect functions to validate their inputs reliably](https://hyp.is/IiqFkHv-EeqFqTdLTRzgfQ/thinc.ai/docs/concept), leading to upredictable logic errors that making debugging hard.\n",
    "\n",
    "In a network with two `Linear` layers, only one dimension is an actual hyperparameter. The input size to the first layer and output size of the second layer are both **determined by the shape of the data.** Thus the only free variable is number of hidden units (this determines output size of the first layer and input size of second layer). [Goal to have missing dimensions **inferred layer** based on input and output data. ](https://hyp.is/9PUiHk53EeqInoNDcqoGLw/thinc.ai/docs/concept)\n",
    "\n",
    "**Example: Initialization logic:**\n",
    "\n",
    "To make this work, we need to specify the **initialization logic** for each layer in the network. For example, the initialization logic for the `Linear` and `chain` layers is:"
   ]
  },
  {
   "cell_type": "code",
   "execution_count": 8,
   "metadata": {
    "title": "codecell"
   },
   "outputs": [],
   "source": [
    "from typing import Optional\n",
    "\n",
    "from thinc.api import Model, glorot_uniform_init\n",
    "from thinc.types import Floats2d\n",
    "from thinc.util import get_width\n",
    "\n",
    "\n",
    "def initLogic(model: Model,\n",
    "              X: Optional[Floats2d] = None,\n",
    "              Y: Optional[Floats2d] = None) -> None:\n",
    "\n",
    "    if X is not None:\n",
    "        model.set_dim(name = \"nI\", value = get_width(X = X))\n",
    "\n",
    "    if Y is not None:\n",
    "        model.set_dim(name = \"nO\", value = get_width(Y))\n",
    "\n",
    "\n",
    "    W: Floats2d = model.ops.alloc2f(d0 = model.get_dim(name = \"nO\"),\n",
    "                                    d1 = model.get_dim(name = \"nI\"))\n",
    "\n",
    "    b: Floats1d = model.ops.alloc1f(d0 = model.get_dim(name = \"nO\"))\n",
    "\n",
    "    glorot_uniform_init(ops = model.ops, shape = W.shape)\n",
    "\n",
    "    model.set_param(name = \"W\", value = W)\n",
    "    model.set_param(name = \"b\", value = b)"
   ]
  }
 ],
 "metadata": {
  "jupytext": {
   "cell_metadata_filter": "title,-all"
  },
  "kernelspec": {
   "display_name": "pythinc_env",
   "language": "python",
   "name": "pythinc_env"
  },
  "language_info": {
   "codemirror_mode": {
    "name": "ipython",
    "version": 3
   },
   "file_extension": ".py",
   "mimetype": "text/x-python",
   "name": "python",
   "nbconvert_exporter": "python",
   "pygments_lexer": "ipython3",
   "version": "3.6.7"
  }
 },
 "nbformat": 4,
 "nbformat_minor": 4
}
