{
 "cells": [
  {
   "cell_type": "markdown",
   "metadata": {
    "lines_to_next_cell": 0,
    "title": "markdown"
   },
   "source": [
    "Source: https://github.com/explosion/thinc/blob/master/examples/05_visualizing_models.ipynb\n",
    "\n",
    "# Visualizing Thinc Models (with shape inference)\n",
    "**Goal**: to visualize Thinc models and their inputs and outputs.\n",
    "\n",
    "## 1. Define the Model\n",
    "Start by defining the model with a number of layers chained together using the `chain` combinator."
   ]
  },
  {
   "cell_type": "code",
   "execution_count": 1,
   "metadata": {
    "lines_to_next_cell": 0,
    "title": "codecell"
   },
   "outputs": [],
   "source": [
    "from typing import Dict, Any\n",
    "\n",
    "from pydot import Dot, Node\n",
    "from thinc.api import chain, expand_window, Relu, Maxout, Linear, Softmax, Model\n",
    "\n",
    "numHidden: int = 32\n",
    "dropout: float = 0.2\n",
    "\n",
    "model: Model = chain(\n",
    "    expand_window(window_size = 3),\n",
    "    Relu(nO = numHidden, dropout = dropout, normalize = True),\n",
    "    Maxout(nO = numHidden * 4),\n",
    "    Linear(nO = numHidden * 2),\n",
    "    Relu(nO = numHidden, dropout = dropout, normalize = True),\n",
    "    Linear(nO = numHidden),\n",
    "    Relu(nO = numHidden, dropout = dropout),\n",
    "    Softmax(),\n",
    ")"
   ]
  },
  {
   "cell_type": "code",
   "execution_count": 2,
   "metadata": {
    "lines_to_next_cell": 0,
    "title": "codecell"
   },
   "outputs": [
    {
     "data": {
      "text/plain": [
       "<thinc.model.Model at 0x7f978417da60>"
      ]
     },
     "execution_count": 2,
     "metadata": {},
     "output_type": "execute_result"
    }
   ],
   "source": [
    "model"
   ]
  },
  {
   "cell_type": "markdown",
   "metadata": {
    "lines_to_next_cell": 0,
    "title": "markdown"
   },
   "source": [
    "## 2. Visualizing the model\n",
    "Must add a node for each layer, edges connecting the nodes to the previous enode (except for first/last), and labels like \"`name | (nO, nI)`\", for instance \"`maxout | (128, 32)`\".\n",
    "\n",
    "Function below takes a Thinc layer (such as a `Model` instance) and returns a label with the layer name and its dimensions, if available:"
   ]
  },
  {
   "cell_type": "code",
   "execution_count": 3,
   "metadata": {
    "lines_to_next_cell": 1,
    "title": "codecell"
   },
   "outputs": [],
   "source": [
    "import thinc\n",
    "\n",
    "# todo: type?\n",
    "def getLabel(layer) -> str:\n",
    "    # todo type\n",
    "    layerName = layer.name\n",
    "    nO: int = layer.get_dim(\"nO\") if layer.has_dim(\"nO\") else \"?\"\n",
    "    nI: int = layer.get_dim(\"nI\") if layer.has_dim(\"nI\") else \"?\"\n",
    "\n",
    "    return f\"{layer.name}|({nO}, {nI})\".replace(\">\", \"&gt;\")"
   ]
  },
  {
   "cell_type": "markdown",
   "metadata": {
    "lines_to_next_cell": 0,
    "title": "markdown"
   },
   "source": [
    "Can now use `pydot` to create a visualization for a given model. Can customize the direction of the notes by setting \"`rankdir`\" (e.g. specifying \"`TB`\" for \"top to bottom\") and adjust the font and arrow styling. Call IPython's utilities so visualization renders nicely in the notebook."
   ]
  },
  {
   "cell_type": "code",
   "execution_count": 4,
   "metadata": {
    "title": "codecell"
   },
   "outputs": [],
   "source": [
    "import pydot\n",
    "\n",
    "#from pydot import Dot\n",
    "from IPython.display import SVG, display\n",
    "\n",
    "\n",
    "def visualizeModel(model: Model):\n",
    "\n",
    "    dot: Dot = pydot.Dot()\n",
    "\n",
    "    # Styling, using the graphics engine\n",
    "    dot.set(name = \"rankdir\", value = \"LR\")\n",
    "    dot.set_node_defaults(shape = \"record\", fontname = \"calibri\", fontsize = \"10\")\n",
    "    dot.set_edge_defaults(arrowsize = \"0.7\")\n",
    "\n",
    "    # Adding nodes\n",
    "    nodes: Dict[Any, Node] = {}\n",
    "\n",
    "    for i, layer in enumerate(model.layers):\n",
    "        label: str = getLabel(layer)\n",
    "\n",
    "        # Create node using graphics engine\n",
    "        node: Node = pydot.Node(name = layer.id, label = label)\n",
    "\n",
    "        # Telling graphics machine to add a node.\n",
    "        dot.add_node(graph_node = node)\n",
    "        # Storing the current node so that we can see if there exists an edge from one node to another.\n",
    "        nodes[layer.id] = node\n",
    "\n",
    "        if i == 0:\n",
    "            continue\n",
    "\n",
    "        fromNode: Node = nodes[model.layers[i - 1].id]\n",
    "        toNode: Node = nodes[layer.id]\n",
    "\n",
    "        # If there is no edge from one node to the other node, add the edge (using graphics engine\n",
    "        if not dot.get_edge(fromNode, toNode):\n",
    "            dot.add_edge(graph_edge= pydot.Edge(fromNode, toNode))\n",
    "\n",
    "    display(SVG(dot.create_svg()))\n",
    "# strange: dot.create_svg() Ctrl-B says \"cannot find declaration to go to\" in IntelliJ but the code still runs!? - why is this method not visible?"
   ]
  },
  {
   "cell_type": "markdown",
   "metadata": {
    "lines_to_next_cell": 0,
    "title": "markdown"
   },
   "source": [
    "Dimensions will show up as `(?, ?)` instead of the actual dimensions because Thinc allows the **defining of models with missing shapes** and can **infer the missing shapes from the data**."
   ]
  },
  {
   "cell_type": "code",
   "execution_count": 5,
   "metadata": {
    "title": "codecell"
   },
   "outputs": [
    {
     "data": {
      "image/svg+xml": [
       "<svg height=\"47pt\" viewBox=\"0.00 0.00 966.00 47.00\" width=\"966pt\" xmlns=\"http://www.w3.org/2000/svg\" xmlns:xlink=\"http://www.w3.org/1999/xlink\">\n",
       "<g class=\"graph\" id=\"graph0\" transform=\"scale(1 1) rotate(0) translate(4 43)\">\n",
       "<title>G</title>\n",
       "<polygon fill=\"white\" points=\"-4,4 -4,-43 962,-43 962,4 -4,4\" stroke=\"none\"/>\n",
       "<!-- 1 -->\n",
       "<g class=\"node\" id=\"node1\"><title>1</title>\n",
       "<polygon fill=\"none\" points=\"0,-0.5 0,-38.5 91,-38.5 91,-0.5 0,-0.5\" stroke=\"black\"/>\n",
       "<text font-family=\"calibri\" font-size=\"10.00\" text-anchor=\"middle\" x=\"45.5\" y=\"-26.5\">expand_window</text>\n",
       "<polyline fill=\"none\" points=\"0,-19.5 91,-19.5 \" stroke=\"black\"/>\n",
       "<text font-family=\"calibri\" font-size=\"10.00\" text-anchor=\"middle\" x=\"45.5\" y=\"-7.5\">(?, ?)</text>\n",
       "</g>\n",
       "<!-- 6 -->\n",
       "<g class=\"node\" id=\"node2\"><title>6</title>\n",
       "<polygon fill=\"none\" points=\"127,-0.5 127,-38.5 281,-38.5 281,-0.5 127,-0.5\" stroke=\"black\"/>\n",
       "<text font-family=\"calibri\" font-size=\"10.00\" text-anchor=\"middle\" x=\"204\" y=\"-26.5\">relu&gt;&gt;layernorm&gt;&gt;dropout</text>\n",
       "<polyline fill=\"none\" points=\"127,-19.5 281,-19.5 \" stroke=\"black\"/>\n",
       "<text font-family=\"calibri\" font-size=\"10.00\" text-anchor=\"middle\" x=\"204\" y=\"-7.5\">(?, ?)</text>\n",
       "</g>\n",
       "<!-- 1&#45;&gt;6 -->\n",
       "<g class=\"edge\" id=\"edge1\"><title>1-&gt;6</title>\n",
       "<path d=\"M91.3466,-19.5C100.286,-19.5 109.942,-19.5 119.704,-19.5\" fill=\"none\" stroke=\"black\"/>\n",
       "<polygon fill=\"black\" points=\"119.821,-21.9501 126.821,-19.5 119.821,-17.0501 119.821,-21.9501\" stroke=\"black\"/>\n",
       "</g>\n",
       "<!-- 7 -->\n",
       "<g class=\"node\" id=\"node3\"><title>7</title>\n",
       "<polygon fill=\"none\" points=\"317,-0.5 317,-38.5 371,-38.5 371,-0.5 317,-0.5\" stroke=\"black\"/>\n",
       "<text font-family=\"calibri\" font-size=\"10.00\" text-anchor=\"middle\" x=\"344\" y=\"-26.5\">maxout</text>\n",
       "<polyline fill=\"none\" points=\"317,-19.5 371,-19.5 \" stroke=\"black\"/>\n",
       "<text font-family=\"calibri\" font-size=\"10.00\" text-anchor=\"middle\" x=\"344\" y=\"-7.5\">(128, ?)</text>\n",
       "</g>\n",
       "<!-- 6&#45;&gt;7 -->\n",
       "<g class=\"edge\" id=\"edge2\"><title>6-&gt;7</title>\n",
       "<path d=\"M281.265,-19.5C291.297,-19.5 301.122,-19.5 309.879,-19.5\" fill=\"none\" stroke=\"black\"/>\n",
       "<polygon fill=\"black\" points=\"309.965,-21.9501 316.965,-19.5 309.965,-17.0501 309.965,-21.9501\" stroke=\"black\"/>\n",
       "</g>\n",
       "<!-- 8 -->\n",
       "<g class=\"node\" id=\"node4\"><title>8</title>\n",
       "<polygon fill=\"none\" points=\"407,-0.5 407,-38.5 461,-38.5 461,-0.5 407,-0.5\" stroke=\"black\"/>\n",
       "<text font-family=\"calibri\" font-size=\"10.00\" text-anchor=\"middle\" x=\"434\" y=\"-26.5\">linear</text>\n",
       "<polyline fill=\"none\" points=\"407,-19.5 461,-19.5 \" stroke=\"black\"/>\n",
       "<text font-family=\"calibri\" font-size=\"10.00\" text-anchor=\"middle\" x=\"434\" y=\"-7.5\">(64, ?)</text>\n",
       "</g>\n",
       "<!-- 7&#45;&gt;8 -->\n",
       "<g class=\"edge\" id=\"edge3\"><title>7-&gt;8</title>\n",
       "<path d=\"M371.403,-19.5C380.359,-19.5 390.48,-19.5 399.891,-19.5\" fill=\"none\" stroke=\"black\"/>\n",
       "<polygon fill=\"black\" points=\"399.919,-21.9501 406.919,-19.5 399.919,-17.0501 399.919,-21.9501\" stroke=\"black\"/>\n",
       "</g>\n",
       "<!-- 13 -->\n",
       "<g class=\"node\" id=\"node5\"><title>13</title>\n",
       "<polygon fill=\"none\" points=\"497,-0.5 497,-38.5 651,-38.5 651,-0.5 497,-0.5\" stroke=\"black\"/>\n",
       "<text font-family=\"calibri\" font-size=\"10.00\" text-anchor=\"middle\" x=\"574\" y=\"-26.5\">relu&gt;&gt;layernorm&gt;&gt;dropout</text>\n",
       "<polyline fill=\"none\" points=\"497,-19.5 651,-19.5 \" stroke=\"black\"/>\n",
       "<text font-family=\"calibri\" font-size=\"10.00\" text-anchor=\"middle\" x=\"574\" y=\"-7.5\">(?, ?)</text>\n",
       "</g>\n",
       "<!-- 8&#45;&gt;13 -->\n",
       "<g class=\"edge\" id=\"edge4\"><title>8-&gt;13</title>\n",
       "<path d=\"M461.282,-19.5C469.669,-19.5 479.444,-19.5 489.658,-19.5\" fill=\"none\" stroke=\"black\"/>\n",
       "<polygon fill=\"black\" points=\"489.788,-21.9501 496.788,-19.5 489.788,-17.0501 489.788,-21.9501\" stroke=\"black\"/>\n",
       "</g>\n",
       "<!-- 14 -->\n",
       "<g class=\"node\" id=\"node6\"><title>14</title>\n",
       "<polygon fill=\"none\" points=\"687,-0.5 687,-38.5 741,-38.5 741,-0.5 687,-0.5\" stroke=\"black\"/>\n",
       "<text font-family=\"calibri\" font-size=\"10.00\" text-anchor=\"middle\" x=\"714\" y=\"-26.5\">linear</text>\n",
       "<polyline fill=\"none\" points=\"687,-19.5 741,-19.5 \" stroke=\"black\"/>\n",
       "<text font-family=\"calibri\" font-size=\"10.00\" text-anchor=\"middle\" x=\"714\" y=\"-7.5\">(32, ?)</text>\n",
       "</g>\n",
       "<!-- 13&#45;&gt;14 -->\n",
       "<g class=\"edge\" id=\"edge5\"><title>13-&gt;14</title>\n",
       "<path d=\"M651.265,-19.5C661.297,-19.5 671.122,-19.5 679.879,-19.5\" fill=\"none\" stroke=\"black\"/>\n",
       "<polygon fill=\"black\" points=\"679.965,-21.9501 686.965,-19.5 679.965,-17.0501 679.965,-21.9501\" stroke=\"black\"/>\n",
       "</g>\n",
       "<!-- 17 -->\n",
       "<g class=\"node\" id=\"node7\"><title>17</title>\n",
       "<polygon fill=\"none\" points=\"777,-0.5 777,-38.5 866,-38.5 866,-0.5 777,-0.5\" stroke=\"black\"/>\n",
       "<text font-family=\"calibri\" font-size=\"10.00\" text-anchor=\"middle\" x=\"821.5\" y=\"-26.5\">relu&gt;&gt;dropout</text>\n",
       "<polyline fill=\"none\" points=\"777,-19.5 866,-19.5 \" stroke=\"black\"/>\n",
       "<text font-family=\"calibri\" font-size=\"10.00\" text-anchor=\"middle\" x=\"821.5\" y=\"-7.5\">(?, ?)</text>\n",
       "</g>\n",
       "<!-- 14&#45;&gt;17 -->\n",
       "<g class=\"edge\" id=\"edge6\"><title>14-&gt;17</title>\n",
       "<path d=\"M741.079,-19.5C749.72,-19.5 759.658,-19.5 769.514,-19.5\" fill=\"none\" stroke=\"black\"/>\n",
       "<polygon fill=\"black\" points=\"769.656,-21.9501 776.656,-19.5 769.656,-17.0501 769.656,-21.9501\" stroke=\"black\"/>\n",
       "</g>\n",
       "<!-- 18 -->\n",
       "<g class=\"node\" id=\"node8\"><title>18</title>\n",
       "<polygon fill=\"none\" points=\"902,-0.5 902,-38.5 958,-38.5 958,-0.5 902,-0.5\" stroke=\"black\"/>\n",
       "<text font-family=\"calibri\" font-size=\"10.00\" text-anchor=\"middle\" x=\"930\" y=\"-26.5\">softmax</text>\n",
       "<polyline fill=\"none\" points=\"902,-19.5 958,-19.5 \" stroke=\"black\"/>\n",
       "<text font-family=\"calibri\" font-size=\"10.00\" text-anchor=\"middle\" x=\"930\" y=\"-7.5\">(?, ?)</text>\n",
       "</g>\n",
       "<!-- 17&#45;&gt;18 -->\n",
       "<g class=\"edge\" id=\"edge7\"><title>17-&gt;18</title>\n",
       "<path d=\"M866.125,-19.5C875.644,-19.5 885.587,-19.5 894.683,-19.5\" fill=\"none\" stroke=\"black\"/>\n",
       "<polygon fill=\"black\" points=\"894.771,-21.9501 901.771,-19.5 894.771,-17.0501 894.771,-21.9501\" stroke=\"black\"/>\n",
       "</g>\n",
       "</g>\n",
       "</svg>"
      ],
      "text/plain": [
       "<IPython.core.display.SVG object>"
      ]
     },
     "metadata": {},
     "output_type": "display_data"
    }
   ],
   "source": [
    "visualizeModel(model = model)"
   ]
  },
  {
   "cell_type": "markdown",
   "metadata": {
    "lines_to_next_cell": 0,
    "title": "markdown"
   },
   "source": [
    "Call `model.initialize` to infer the missing shapes (using examples of expected input $X$ and expected output $Y$)."
   ]
  },
  {
   "cell_type": "code",
   "execution_count": 6,
   "metadata": {
    "title": "codecell"
   },
   "outputs": [
    {
     "data": {
      "text/plain": [
       "<thinc.model.Model at 0x7f978417da60>"
      ]
     },
     "execution_count": 6,
     "metadata": {},
     "output_type": "execute_result"
    }
   ],
   "source": [
    "import numpy\n",
    "\n",
    "X = numpy.zeros(shape=(5, 784), dtype=\"f\")\n",
    "Y = numpy.zeros(shape=(54000, 10), dtype=\"f\")\n",
    "\n",
    "model.initialize(X = X, Y = Y)"
   ]
  },
  {
   "cell_type": "code",
   "execution_count": 7,
   "metadata": {
    "title": "codecell"
   },
   "outputs": [
    {
     "data": {
      "image/svg+xml": [
       "<svg height=\"47pt\" viewBox=\"0.00 0.00 978.00 47.00\" width=\"978pt\" xmlns=\"http://www.w3.org/2000/svg\" xmlns:xlink=\"http://www.w3.org/1999/xlink\">\n",
       "<g class=\"graph\" id=\"graph0\" transform=\"scale(1 1) rotate(0) translate(4 43)\">\n",
       "<title>G</title>\n",
       "<polygon fill=\"white\" points=\"-4,4 -4,-43 974,-43 974,4 -4,4\" stroke=\"none\"/>\n",
       "<!-- 1 -->\n",
       "<g class=\"node\" id=\"node1\"><title>1</title>\n",
       "<polygon fill=\"none\" points=\"0,-0.5 0,-38.5 91,-38.5 91,-0.5 0,-0.5\" stroke=\"black\"/>\n",
       "<text font-family=\"calibri\" font-size=\"10.00\" text-anchor=\"middle\" x=\"45.5\" y=\"-26.5\">expand_window</text>\n",
       "<polyline fill=\"none\" points=\"0,-19.5 91,-19.5 \" stroke=\"black\"/>\n",
       "<text font-family=\"calibri\" font-size=\"10.00\" text-anchor=\"middle\" x=\"45.5\" y=\"-7.5\">(?, ?)</text>\n",
       "</g>\n",
       "<!-- 6 -->\n",
       "<g class=\"node\" id=\"node2\"><title>6</title>\n",
       "<polygon fill=\"none\" points=\"127,-0.5 127,-38.5 281,-38.5 281,-0.5 127,-0.5\" stroke=\"black\"/>\n",
       "<text font-family=\"calibri\" font-size=\"10.00\" text-anchor=\"middle\" x=\"204\" y=\"-26.5\">relu&gt;&gt;layernorm&gt;&gt;dropout</text>\n",
       "<polyline fill=\"none\" points=\"127,-19.5 281,-19.5 \" stroke=\"black\"/>\n",
       "<text font-family=\"calibri\" font-size=\"10.00\" text-anchor=\"middle\" x=\"204\" y=\"-7.5\">(32, 5488)</text>\n",
       "</g>\n",
       "<!-- 1&#45;&gt;6 -->\n",
       "<g class=\"edge\" id=\"edge1\"><title>1-&gt;6</title>\n",
       "<path d=\"M91.3466,-19.5C100.286,-19.5 109.942,-19.5 119.704,-19.5\" fill=\"none\" stroke=\"black\"/>\n",
       "<polygon fill=\"black\" points=\"119.821,-21.9501 126.821,-19.5 119.821,-17.0501 119.821,-21.9501\" stroke=\"black\"/>\n",
       "</g>\n",
       "<!-- 7 -->\n",
       "<g class=\"node\" id=\"node3\"><title>7</title>\n",
       "<polygon fill=\"none\" points=\"317,-0.5 317,-38.5 377,-38.5 377,-0.5 317,-0.5\" stroke=\"black\"/>\n",
       "<text font-family=\"calibri\" font-size=\"10.00\" text-anchor=\"middle\" x=\"347\" y=\"-26.5\">maxout</text>\n",
       "<polyline fill=\"none\" points=\"317,-19.5 377,-19.5 \" stroke=\"black\"/>\n",
       "<text font-family=\"calibri\" font-size=\"10.00\" text-anchor=\"middle\" x=\"347\" y=\"-7.5\">(128, 32)</text>\n",
       "</g>\n",
       "<!-- 6&#45;&gt;7 -->\n",
       "<g class=\"edge\" id=\"edge2\"><title>6-&gt;7</title>\n",
       "<path d=\"M281.277,-19.5C291.112,-19.5 300.796,-19.5 309.556,-19.5\" fill=\"none\" stroke=\"black\"/>\n",
       "<polygon fill=\"black\" points=\"309.68,-21.9501 316.68,-19.5 309.68,-17.0501 309.68,-21.9501\" stroke=\"black\"/>\n",
       "</g>\n",
       "<!-- 8 -->\n",
       "<g class=\"node\" id=\"node4\"><title>8</title>\n",
       "<polygon fill=\"none\" points=\"413,-0.5 413,-38.5 473,-38.5 473,-0.5 413,-0.5\" stroke=\"black\"/>\n",
       "<text font-family=\"calibri\" font-size=\"10.00\" text-anchor=\"middle\" x=\"443\" y=\"-26.5\">linear</text>\n",
       "<polyline fill=\"none\" points=\"413,-19.5 473,-19.5 \" stroke=\"black\"/>\n",
       "<text font-family=\"calibri\" font-size=\"10.00\" text-anchor=\"middle\" x=\"443\" y=\"-7.5\">(64, 128)</text>\n",
       "</g>\n",
       "<!-- 7&#45;&gt;8 -->\n",
       "<g class=\"edge\" id=\"edge3\"><title>7-&gt;8</title>\n",
       "<path d=\"M377.227,-19.5C386.246,-19.5 396.289,-19.5 405.723,-19.5\" fill=\"none\" stroke=\"black\"/>\n",
       "<polygon fill=\"black\" points=\"405.791,-21.9501 412.791,-19.5 405.791,-17.0501 405.791,-21.9501\" stroke=\"black\"/>\n",
       "</g>\n",
       "<!-- 13 -->\n",
       "<g class=\"node\" id=\"node5\"><title>13</title>\n",
       "<polygon fill=\"none\" points=\"509,-0.5 509,-38.5 663,-38.5 663,-0.5 509,-0.5\" stroke=\"black\"/>\n",
       "<text font-family=\"calibri\" font-size=\"10.00\" text-anchor=\"middle\" x=\"586\" y=\"-26.5\">relu&gt;&gt;layernorm&gt;&gt;dropout</text>\n",
       "<polyline fill=\"none\" points=\"509,-19.5 663,-19.5 \" stroke=\"black\"/>\n",
       "<text font-family=\"calibri\" font-size=\"10.00\" text-anchor=\"middle\" x=\"586\" y=\"-7.5\">(32, 64)</text>\n",
       "</g>\n",
       "<!-- 8&#45;&gt;13 -->\n",
       "<g class=\"edge\" id=\"edge4\"><title>8-&gt;13</title>\n",
       "<path d=\"M473.215,-19.5C481.801,-19.5 491.648,-19.5 501.861,-19.5\" fill=\"none\" stroke=\"black\"/>\n",
       "<polygon fill=\"black\" points=\"501.978,-21.9501 508.978,-19.5 501.978,-17.0501 501.978,-21.9501\" stroke=\"black\"/>\n",
       "</g>\n",
       "<!-- 14 -->\n",
       "<g class=\"node\" id=\"node6\"><title>14</title>\n",
       "<polygon fill=\"none\" points=\"699,-0.5 699,-38.5 753,-38.5 753,-0.5 699,-0.5\" stroke=\"black\"/>\n",
       "<text font-family=\"calibri\" font-size=\"10.00\" text-anchor=\"middle\" x=\"726\" y=\"-26.5\">linear</text>\n",
       "<polyline fill=\"none\" points=\"699,-19.5 753,-19.5 \" stroke=\"black\"/>\n",
       "<text font-family=\"calibri\" font-size=\"10.00\" text-anchor=\"middle\" x=\"726\" y=\"-7.5\">(32, 32)</text>\n",
       "</g>\n",
       "<!-- 13&#45;&gt;14 -->\n",
       "<g class=\"edge\" id=\"edge5\"><title>13-&gt;14</title>\n",
       "<path d=\"M663.265,-19.5C673.297,-19.5 683.122,-19.5 691.879,-19.5\" fill=\"none\" stroke=\"black\"/>\n",
       "<polygon fill=\"black\" points=\"691.965,-21.9501 698.965,-19.5 691.965,-17.0501 691.965,-21.9501\" stroke=\"black\"/>\n",
       "</g>\n",
       "<!-- 17 -->\n",
       "<g class=\"node\" id=\"node7\"><title>17</title>\n",
       "<polygon fill=\"none\" points=\"789,-0.5 789,-38.5 878,-38.5 878,-0.5 789,-0.5\" stroke=\"black\"/>\n",
       "<text font-family=\"calibri\" font-size=\"10.00\" text-anchor=\"middle\" x=\"833.5\" y=\"-26.5\">relu&gt;&gt;dropout</text>\n",
       "<polyline fill=\"none\" points=\"789,-19.5 878,-19.5 \" stroke=\"black\"/>\n",
       "<text font-family=\"calibri\" font-size=\"10.00\" text-anchor=\"middle\" x=\"833.5\" y=\"-7.5\">(32, 32)</text>\n",
       "</g>\n",
       "<!-- 14&#45;&gt;17 -->\n",
       "<g class=\"edge\" id=\"edge6\"><title>14-&gt;17</title>\n",
       "<path d=\"M753.079,-19.5C761.72,-19.5 771.658,-19.5 781.514,-19.5\" fill=\"none\" stroke=\"black\"/>\n",
       "<polygon fill=\"black\" points=\"781.656,-21.9501 788.656,-19.5 781.656,-17.0501 781.656,-21.9501\" stroke=\"black\"/>\n",
       "</g>\n",
       "<!-- 18 -->\n",
       "<g class=\"node\" id=\"node8\"><title>18</title>\n",
       "<polygon fill=\"none\" points=\"914,-0.5 914,-38.5 970,-38.5 970,-0.5 914,-0.5\" stroke=\"black\"/>\n",
       "<text font-family=\"calibri\" font-size=\"10.00\" text-anchor=\"middle\" x=\"942\" y=\"-26.5\">softmax</text>\n",
       "<polyline fill=\"none\" points=\"914,-19.5 970,-19.5 \" stroke=\"black\"/>\n",
       "<text font-family=\"calibri\" font-size=\"10.00\" text-anchor=\"middle\" x=\"942\" y=\"-7.5\">(10, 32)</text>\n",
       "</g>\n",
       "<!-- 17&#45;&gt;18 -->\n",
       "<g class=\"edge\" id=\"edge7\"><title>17-&gt;18</title>\n",
       "<path d=\"M878.125,-19.5C887.644,-19.5 897.587,-19.5 906.683,-19.5\" fill=\"none\" stroke=\"black\"/>\n",
       "<polygon fill=\"black\" points=\"906.771,-21.9501 913.771,-19.5 906.771,-17.0501 906.771,-21.9501\" stroke=\"black\"/>\n",
       "</g>\n",
       "</g>\n",
       "</svg>"
      ],
      "text/plain": [
       "<IPython.core.display.SVG object>"
      ]
     },
     "metadata": {},
     "output_type": "display_data"
    }
   ],
   "source": [
    "visualizeModel(model = model)"
   ]
  }
 ],
 "metadata": {
  "jupytext": {
   "cell_metadata_filter": "title,-all"
  },
  "kernelspec": {
   "display_name": "pythinc_env",
   "language": "python",
   "name": "pythinc_env"
  },
  "language_info": {
   "codemirror_mode": {
    "name": "ipython",
    "version": 3
   },
   "file_extension": ".py",
   "mimetype": "text/x-python",
   "name": "python",
   "nbconvert_exporter": "python",
   "pygments_lexer": "ipython3",
   "version": "3.6.7"
  }
 },
 "nbformat": 4,
 "nbformat_minor": 4
}
