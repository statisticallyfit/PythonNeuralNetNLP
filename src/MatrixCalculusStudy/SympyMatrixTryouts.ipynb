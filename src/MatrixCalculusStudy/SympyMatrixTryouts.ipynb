{
 "cells": [
  {
   "cell_type": "code",
   "execution_count": null,
   "metadata": {
    "lines_to_next_cell": 0,
    "title": "codecell"
   },
   "outputs": [],
   "source": [
    "from sympy import sin, cos, Matrix\n",
    "from sympy.abc import rho, phi\n",
    "X = Matrix([rho*cos(phi), rho*sin(phi), rho**2])\n",
    "Y = Matrix([rho, phi])\n",
    "\n",
    "X"
   ]
  },
  {
   "cell_type": "code",
   "execution_count": null,
   "metadata": {
    "title": "codecell"
   },
   "outputs": [],
   "source": [
    "Y"
   ]
  },
  {
   "cell_type": "code",
   "execution_count": null,
   "metadata": {
    "title": "codecell"
   },
   "outputs": [],
   "source": [
    "X.jacobian(Y)"
   ]
  },
  {
   "cell_type": "code",
   "execution_count": null,
   "metadata": {
    "lines_to_next_cell": 2,
    "title": "codecell"
   },
   "outputs": [],
   "source": [
    "from sympy import MatrixSymbol, Matrix\n",
    "from sympy.core.function import Function\n",
    "from sympy import FunctionMatrix, Lambda\n",
    "\n",
    "n, m, p = 3, 3, 2\n",
    "\n",
    "X = MatrixSymbol('X', n, m)\n",
    "W = MatrixSymbol('W', m, p)\n",
    "\n",
    "(X.T*X).I*W"
   ]
  },
  {
   "cell_type": "code",
   "execution_count": null,
   "metadata": {
    "lines_to_next_cell": 0,
    "title": "codecell"
   },
   "outputs": [],
   "source": [
    "Matrix(X)"
   ]
  },
  {
   "cell_type": "code",
   "execution_count": null,
   "metadata": {
    "title": "codecell"
   },
   "outputs": [],
   "source": [
    "Matrix(X * W)\n",
    "\n",
    "\n"
   ]
  },
  {
   "cell_type": "code",
   "execution_count": null,
   "metadata": {
    "lines_to_next_cell": 0,
    "title": "codecell"
   },
   "outputs": [],
   "source": [
    "from sympy import I, Matrix, symbols\n",
    "from sympy.physics.quantum import TensorProduct\n",
    "\n",
    "m1 = Matrix([[1,2],[3,4]])\n",
    "m2 = Matrix([[1,0],[0,1]])\n",
    "\n",
    "m1"
   ]
  },
  {
   "cell_type": "code",
   "execution_count": null,
   "metadata": {
    "title": "codecell"
   },
   "outputs": [],
   "source": [
    "TensorProduct(m1, m2)\n",
    "\n"
   ]
  },
  {
   "cell_type": "code",
   "execution_count": null,
   "metadata": {
    "lines_to_next_cell": 2,
    "title": "codecell"
   },
   "outputs": [],
   "source": [
    "f = Function('f')\n",
    "F = FunctionMatrix(3,4, f)\n",
    "Matrix(F)"
   ]
  },
  {
   "cell_type": "code",
   "execution_count": null,
   "metadata": {
    "lines_to_next_cell": 0,
    "title": "codecell"
   },
   "outputs": [],
   "source": [
    "y = Function('y')(X)\n",
    "y"
   ]
  },
  {
   "cell_type": "code",
   "execution_count": null,
   "metadata": {
    "title": "codecell"
   },
   "outputs": [],
   "source": [
    "# y.diff(X)\n",
    "from sympy.abc import x,y,z,t,e,r,a,b,c\n",
    "from sympy import derive_by_array\n",
    "from sympy import sin, exp, cos\n",
    "\n",
    "#basis = Matrix([x, y, z])\n",
    "Matrix(X)\n",
    "\n",
    "m = Matrix([[exp(x), sin(y*z), t*cos(x*y)], [x, x*y, t], [x,x,z] ])\n",
    "basis = Matrix([[x,y,z], [x,y,z], [x,y,z]])\n",
    "type(basis)\n",
    "X.as_explicit()\n",
    "M = Matrix([[x,y,z], [t,e,r], [a,b,c]])\n",
    "ax = derive_by_array(m, M)\n",
    "ax\n",
    "\n"
   ]
  },
  {
   "cell_type": "code",
   "execution_count": null,
   "metadata": {
    "title": "codecell"
   },
   "outputs": [],
   "source": [
    "Matrix(X)[1,2]\n",
    "x_12 = Matrix(X)[1,2]\n",
    "type(Matrix(X)[1,2])\n",
    "f = Function('f')\n",
    "g = Function('g')\n",
    "h = f(g(x_12))\n",
    "h\n",
    "h.diff(x_12)"
   ]
  },
  {
   "cell_type": "code",
   "execution_count": null,
   "metadata": {
    "title": "codecell"
   },
   "outputs": [],
   "source": [
    "\n",
    "\n"
   ]
  },
  {
   "cell_type": "code",
   "execution_count": null,
   "metadata": {
    "lines_to_next_cell": 0,
    "title": "codecell"
   },
   "outputs": [],
   "source": [
    "from sympy import Symbol\n",
    "from sympy.abc import i, j\n",
    "\n",
    "f = Function('f')\n",
    "\n",
    "#def makeF(i, j):\n",
    "#     x_ij = Symbol('x_{}{}'.format(i,j), is_commutative=True)\n",
    "#     return f(x_ij)\n",
    "\n",
    "\n",
    "def makeX(i, j):\n",
    "     x_ij = Symbol('x_{}{}'.format(i, j), is_commutative=True)\n",
    "     return x_ij #Lambda((i,j), x_ij)\n",
    "\n",
    "\n",
    "# NOTE: even if i, j are sympy Symbols, passing them here with python's lambda instead of sympy's Lambda lets the indices actually be seen!!!\n",
    "X = Matrix(2, 3, lambda i,j: makeX(i+1, j+1)); X\n",
    "# BAD\n",
    "#X = FunctionMatrix(2,3, Lambda((a,b), makeX(int(a), int(b))))"
   ]
  },
  {
   "cell_type": "code",
   "execution_count": null,
   "metadata": {
    "title": "codecell"
   },
   "outputs": [],
   "source": [
    "X[0,0]"
   ]
  },
  {
   "cell_type": "code",
   "execution_count": null,
   "metadata": {
    "lines_to_next_cell": 0,
    "title": "codecell"
   },
   "outputs": [],
   "source": [
    "from sympy import derive_by_array\n",
    "\n",
    "derive_by_array(Matrix(X), Matrix(X))"
   ]
  },
  {
   "cell_type": "code",
   "execution_count": null,
   "metadata": {
    "title": "codecell"
   },
   "outputs": [],
   "source": [
    "\n",
    "from sympy import Symbol\n",
    "x_11 = Symbol('x_11', is_commutative=True)\n",
    "x_12 = Symbol('x_12', is_commutative=True)\n",
    "x_13 = Symbol('x_13', is_commutative=True)\n",
    "x_21 = Symbol('x_21', is_commutative=True)\n",
    "x_22 = Symbol('x_22', is_commutative=True)\n",
    "x_23 = Symbol('x_23', is_commutative=True)\n",
    "x_31 = Symbol('x_31', is_commutative=True)\n",
    "x_32 = Symbol('x_32', is_commutative=True)\n",
    "x_33 = Symbol('x_33', is_commutative=True)\n",
    "X = Matrix([[x_11,x_12, x_13], [x_21,x_22,x_23], [x_31,x_32,x_33]]); X\n",
    "\n",
    "w_11 = Symbol('w_11', is_commutative=True)\n",
    "w_12 = Symbol('w_12', is_commutative=True)\n",
    "w_21 = Symbol('w_21', is_commutative=True)\n",
    "w_22 = Symbol('w_22', is_commutative=True)\n",
    "w_31 = Symbol('w_31', is_commutative=True)\n",
    "w_32 = Symbol('w_32', is_commutative=True)\n",
    "W = Matrix([[w_11, w_12], [w_21, w_22], [w_31,w_32]]); W\n",
    "\n",
    "\n",
    "y_11 = Function('y_11')\n",
    "y_12 = Function('y_12')\n",
    "y_21 = Function('y_21')\n",
    "y_22 = Function('y_22')\n",
    "Y = Matrix([[y_11(X),y_12(X)],[y_21(X),y_22(X)]])\n",
    "Y\n",
    "\n",
    "#Y.diff(X)\n",
    "\n",
    "#y = Function('y')"
   ]
  },
  {
   "cell_type": "code",
   "execution_count": null,
   "metadata": {
    "title": "codecell"
   },
   "outputs": [],
   "source": [
    "#derive_by_array(Y, X)"
   ]
  },
  {
   "cell_type": "code",
   "execution_count": null,
   "metadata": {
    "lines_to_next_cell": 0,
    "title": "codecell"
   },
   "outputs": [],
   "source": [
    "A = Matrix(MatrixSymbol('x', 3,3)); A\n",
    "B = Matrix(MatrixSymbol('w', 3,2)); B"
   ]
  },
  {
   "cell_type": "code",
   "execution_count": null,
   "metadata": {
    "lines_to_next_cell": 0,
    "title": "codecell"
   },
   "outputs": [],
   "source": [
    "A*B\n",
    "\n",
    "derive_by_array(A*B, A)"
   ]
  },
  {
   "cell_type": "code",
   "execution_count": null,
   "metadata": {
    "title": "codecell"
   },
   "outputs": [],
   "source": [
    "(A*B).diff(A)\n",
    "\n",
    "assert (A*B).diff(A) == derive_by_array(A*B, A)"
   ]
  },
  {
   "cell_type": "code",
   "execution_count": null,
   "metadata": {
    "lines_to_next_cell": 0,
    "title": "codecell"
   },
   "outputs": [],
   "source": [
    "X*W"
   ]
  },
  {
   "cell_type": "code",
   "execution_count": null,
   "metadata": {
    "lines_to_next_cell": 0,
    "title": "codecell"
   },
   "outputs": [],
   "source": [
    "derive_by_array(X*W, X)"
   ]
  },
  {
   "cell_type": "code",
   "execution_count": null,
   "metadata": {
    "title": "codecell"
   },
   "outputs": [],
   "source": [
    "(X*W).diff(X)"
   ]
  },
  {
   "cell_type": "code",
   "execution_count": null,
   "metadata": {
    "title": "codecell"
   },
   "outputs": [],
   "source": [
    "### JACOBIAN:\n",
    "def makeX(i, j):\n",
    "     x_ij = Symbol('x_{}{}'.format(i,j), is_commutative=True)\n",
    "     return x_ij #Lambda((i,j), x_ij)\n",
    "\n",
    "#u = lambda i,j : makeX(i,j)\n",
    "#FunctionMatrix(9,1, Lambda((i,j), makeX(i,j)))\n",
    "\n",
    "def makeYofX(i, j):\n",
    "     yx_ij = Symbol('y_{}{}'.format(i,j), is_commutative=True)\n",
    "     return yx_ij #Lambda((i,j), x_ij)\n",
    "\n"
   ]
  },
  {
   "cell_type": "code",
   "execution_count": null,
   "metadata": {
    "lines_to_next_cell": 0,
    "title": "codecell"
   },
   "outputs": [],
   "source": [
    "def var(letter: str, i: int, j: int) -> Symbol:\n",
    "     letter_ij = Symbol('{}_{}{}'.format(letter, i+1, j+1), is_commutative=True)\n",
    "     return letter_ij\n",
    "\n",
    "\n",
    "n,m,p = 3,3,2\n",
    "# NOTE: even if i, j are sympy Symbols, passing them here with python's lambda instead of sympy's Lambda lets the indices actually be seen!!!\n",
    "X = Matrix(n,m, lambda i,j: var('x', i,j)); X"
   ]
  },
  {
   "cell_type": "code",
   "execution_count": null,
   "metadata": {
    "lines_to_next_cell": 2,
    "title": "codecell"
   },
   "outputs": [],
   "source": [
    "W = Matrix(m,p, lambda i,j: var('w', i, j)); W"
   ]
  },
  {
   "cell_type": "code",
   "execution_count": null,
   "metadata": {
    "lines_to_next_cell": 0,
    "title": "codecell"
   },
   "outputs": [],
   "source": [
    "#res = y.subs({y[0]:x[0]**2* x[2] +x[1]}); res"
   ]
  },
  {
   "cell_type": "code",
   "execution_count": null,
   "metadata": {
    "lines_to_next_cell": 0,
    "title": "codecell"
   },
   "outputs": [],
   "source": [
    "#res.subs({x[0]: 23, x[1]: 14})"
   ]
  },
  {
   "cell_type": "code",
   "execution_count": null,
   "metadata": {
    "title": "codecell"
   },
   "outputs": [],
   "source": [
    "#derive_by_array(res[0], x[0])\n",
    "#derive_by_array(res[1], x[0])\n",
    "\n"
   ]
  },
  {
   "cell_type": "code",
   "execution_count": null,
   "metadata": {
    "title": "codecell"
   },
   "outputs": [],
   "source": [
    "#derive_by_array(y, x)"
   ]
  },
  {
   "cell_type": "code",
   "execution_count": null,
   "metadata": {
    "title": "codecell"
   },
   "outputs": [],
   "source": [
    "#y.diff(x)\n",
    "#y.jacobian(x)"
   ]
  },
  {
   "cell_type": "code",
   "execution_count": null,
   "metadata": {
    "lines_to_next_cell": 0,
    "title": "codecell"
   },
   "outputs": [],
   "source": [
    "from sympy import Function, hessian, pprint\n",
    "from sympy.abc import x, y\n",
    "f = Function('f')(x, y)\n",
    "g1 = Function('g')(x, y)\n",
    "g2 = x**2 + 3*y\n",
    "hessian(f, (x,y),[g1,g2])"
   ]
  },
  {
   "cell_type": "code",
   "execution_count": null,
   "metadata": {
    "title": "codecell"
   },
   "outputs": [],
   "source": [
    "#Matrix(FunctionMatrix(n, 1, Lambda((i,j), Function(\"y_{}{}\".format(i,j)))))\n",
    "rho = Matrix([[Symbol(\"r_{}{}\".format(i+1,j+1)) for j in range(5)] for i in range(5)])\n",
    "rho"
   ]
  },
  {
   "cell_type": "code",
   "execution_count": null,
   "metadata": {
    "lines_to_next_cell": 0,
    "title": "codecell"
   },
   "outputs": [],
   "source": [
    "derive_by_array(rho, rho[2,1])"
   ]
  },
  {
   "cell_type": "code",
   "execution_count": null,
   "metadata": {
    "lines_to_next_cell": 0,
    "title": "codecell"
   },
   "outputs": [],
   "source": [
    "derive_by_array(rho[2,1], rho)"
   ]
  },
  {
   "cell_type": "code",
   "execution_count": null,
   "metadata": {
    "title": "codecell"
   },
   "outputs": [],
   "source": [
    "rho.diff(rho[2,1])"
   ]
  },
  {
   "cell_type": "code",
   "execution_count": null,
   "metadata": {
    "title": "codecell"
   },
   "outputs": [],
   "source": [
    "from sympy.abc import x\n",
    "from sympy.utilities.lambdify import lambdify, implemented_function\n",
    "from sympy import Function\n",
    "\n",
    "f = implemented_function('f', lambda x: x)\n",
    "lam_f = lambdify(x, f(x))\n",
    "\n",
    "lam_f(4)"
   ]
  }
 ],
 "metadata": {
  "jupytext": {
   "cell_metadata_filter": "title,-all",
   "main_language": "python",
   "notebook_metadata_filter": "-all"
  }
 },
 "nbformat": 4,
 "nbformat_minor": 4
}
