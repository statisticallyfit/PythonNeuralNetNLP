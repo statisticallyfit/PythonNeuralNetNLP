{
 "cells": [
  {
   "cell_type": "code",
   "execution_count": 1,
   "metadata": {
    "execution": {
     "iopub.execute_input": "2020-10-04T19:01:53.241449Z",
     "iopub.status.busy": "2020-10-04T19:01:53.240284Z",
     "iopub.status.idle": "2020-10-04T19:01:54.777517Z",
     "shell.execute_reply": "2020-10-04T19:01:54.778891Z"
    },
    "lines_to_next_cell": 0,
    "title": "codecell"
   },
   "outputs": [
    {
     "data": {
      "text/latex": [
       "$\\displaystyle \\left[\\begin{matrix}\\rho \\cos{\\left(\\phi \\right)}\\\\\\rho \\sin{\\left(\\phi \\right)}\\\\\\rho^{2}\\end{matrix}\\right]$"
      ],
      "text/plain": [
       "Matrix([\n",
       "[rho*cos(phi)],\n",
       "[rho*sin(phi)],\n",
       "[      rho**2]])"
      ]
     },
     "execution_count": 1,
     "metadata": {},
     "output_type": "execute_result"
    }
   ],
   "source": [
    "from sympy import sin, cos, Matrix\n",
    "from sympy.abc import rho, phi\n",
    "X = Matrix([rho*cos(phi), rho*sin(phi), rho**2])\n",
    "Y = Matrix([rho, phi])\n",
    "\n",
    "X"
   ]
  },
  {
   "cell_type": "code",
   "execution_count": 2,
   "metadata": {
    "execution": {
     "iopub.execute_input": "2020-10-04T19:01:54.787931Z",
     "iopub.status.busy": "2020-10-04T19:01:54.783579Z",
     "iopub.status.idle": "2020-10-04T19:01:54.794085Z",
     "shell.execute_reply": "2020-10-04T19:01:54.795177Z"
    },
    "title": "codecell"
   },
   "outputs": [
    {
     "data": {
      "text/latex": [
       "$\\displaystyle \\left[\\begin{matrix}\\rho\\\\\\phi\\end{matrix}\\right]$"
      ],
      "text/plain": [
       "Matrix([\n",
       "[rho],\n",
       "[phi]])"
      ]
     },
     "execution_count": 1,
     "metadata": {},
     "output_type": "execute_result"
    }
   ],
   "source": [
    "Y"
   ]
  },
  {
   "cell_type": "code",
   "execution_count": 3,
   "metadata": {
    "execution": {
     "iopub.execute_input": "2020-10-04T19:01:54.800193Z",
     "iopub.status.busy": "2020-10-04T19:01:54.798586Z",
     "iopub.status.idle": "2020-10-04T19:01:54.831660Z",
     "shell.execute_reply": "2020-10-04T19:01:54.832834Z"
    },
    "title": "codecell"
   },
   "outputs": [
    {
     "data": {
      "text/latex": [
       "$\\displaystyle \\left[\\begin{matrix}\\cos{\\left(\\phi \\right)} & - \\rho \\sin{\\left(\\phi \\right)}\\\\\\sin{\\left(\\phi \\right)} & \\rho \\cos{\\left(\\phi \\right)}\\\\2 \\rho & 0\\end{matrix}\\right]$"
      ],
      "text/plain": [
       "Matrix([\n",
       "[cos(phi), -rho*sin(phi)],\n",
       "[sin(phi),  rho*cos(phi)],\n",
       "[   2*rho,             0]])"
      ]
     },
     "execution_count": 1,
     "metadata": {},
     "output_type": "execute_result"
    }
   ],
   "source": [
    "X.jacobian(Y)"
   ]
  },
  {
   "cell_type": "code",
   "execution_count": 4,
   "metadata": {
    "execution": {
     "iopub.execute_input": "2020-10-04T19:01:54.838118Z",
     "iopub.status.busy": "2020-10-04T19:01:54.836633Z",
     "iopub.status.idle": "2020-10-04T19:01:54.853914Z",
     "shell.execute_reply": "2020-10-04T19:01:54.855162Z"
    },
    "lines_to_next_cell": 2,
    "title": "codecell"
   },
   "outputs": [
    {
     "data": {
      "text/latex": [
       "$\\displaystyle X^{-1} \\left(X^{T}\\right)^{-1} W$"
      ],
      "text/plain": [
       "X**(-1)*X.T**(-1)*W"
      ]
     },
     "execution_count": 1,
     "metadata": {},
     "output_type": "execute_result"
    }
   ],
   "source": [
    "from sympy import MatrixSymbol, Matrix\n",
    "from sympy.core.function import Function\n",
    "from sympy import FunctionMatrix, Lambda\n",
    "\n",
    "n, m, p = 3, 3, 2\n",
    "\n",
    "X = MatrixSymbol('X', n, m)\n",
    "W = MatrixSymbol('W', m, p)\n",
    "\n",
    "(X.T*X).I*W"
   ]
  },
  {
   "cell_type": "code",
   "execution_count": 5,
   "metadata": {
    "execution": {
     "iopub.execute_input": "2020-10-04T19:01:54.860126Z",
     "iopub.status.busy": "2020-10-04T19:01:54.858548Z",
     "iopub.status.idle": "2020-10-04T19:01:54.873373Z",
     "shell.execute_reply": "2020-10-04T19:01:54.874729Z"
    },
    "lines_to_next_cell": 0,
    "title": "codecell"
   },
   "outputs": [
    {
     "data": {
      "text/latex": [
       "$\\displaystyle \\left[\\begin{array}{ccc}X_{0, 0} & X_{0, 1} & X_{0, 2}\\\\X_{1, 0} & X_{1, 1} & X_{1, 2}\\\\X_{2, 0} & X_{2, 1} & X_{2, 2}\\end{array}\\right]$"
      ],
      "text/plain": [
       "Matrix([\n",
       "[X[0, 0], X[0, 1], X[0, 2]],\n",
       "[X[1, 0], X[1, 1], X[1, 2]],\n",
       "[X[2, 0], X[2, 1], X[2, 2]]])"
      ]
     },
     "execution_count": 1,
     "metadata": {},
     "output_type": "execute_result"
    }
   ],
   "source": [
    "Matrix(X)"
   ]
  },
  {
   "cell_type": "code",
   "execution_count": 6,
   "metadata": {
    "execution": {
     "iopub.execute_input": "2020-10-04T19:01:54.880207Z",
     "iopub.status.busy": "2020-10-04T19:01:54.878631Z",
     "iopub.status.idle": "2020-10-04T19:01:55.064396Z",
     "shell.execute_reply": "2020-10-04T19:01:55.065508Z"
    },
    "title": "codecell"
   },
   "outputs": [
    {
     "data": {
      "text/latex": [
       "$\\displaystyle \\left[\\begin{array}{cc}W_{0, 0} X_{0, 0} + W_{1, 0} X_{0, 1} + W_{2, 0} X_{0, 2} & W_{0, 1} X_{0, 0} + W_{1, 1} X_{0, 1} + W_{2, 1} X_{0, 2}\\\\W_{0, 0} X_{1, 0} + W_{1, 0} X_{1, 1} + W_{2, 0} X_{1, 2} & W_{0, 1} X_{1, 0} + W_{1, 1} X_{1, 1} + W_{2, 1} X_{1, 2}\\\\W_{0, 0} X_{2, 0} + W_{1, 0} X_{2, 1} + W_{2, 0} X_{2, 2} & W_{0, 1} X_{2, 0} + W_{1, 1} X_{2, 1} + W_{2, 1} X_{2, 2}\\end{array}\\right]$"
      ],
      "text/plain": [
       "Matrix([\n",
       "[W[0, 0]*X[0, 0] + W[1, 0]*X[0, 1] + W[2, 0]*X[0, 2], W[0, 1]*X[0, 0] + W[1, 1]*X[0, 1] + W[2, 1]*X[0, 2]],\n",
       "[W[0, 0]*X[1, 0] + W[1, 0]*X[1, 1] + W[2, 0]*X[1, 2], W[0, 1]*X[1, 0] + W[1, 1]*X[1, 1] + W[2, 1]*X[1, 2]],\n",
       "[W[0, 0]*X[2, 0] + W[1, 0]*X[2, 1] + W[2, 0]*X[2, 2], W[0, 1]*X[2, 0] + W[1, 1]*X[2, 1] + W[2, 1]*X[2, 2]]])"
      ]
     },
     "execution_count": 1,
     "metadata": {},
     "output_type": "execute_result"
    }
   ],
   "source": [
    "Matrix(X * W)\n",
    "\n",
    "\n"
   ]
  },
  {
   "cell_type": "code",
   "execution_count": 7,
   "metadata": {
    "execution": {
     "iopub.execute_input": "2020-10-04T19:01:55.070545Z",
     "iopub.status.busy": "2020-10-04T19:01:55.069074Z",
     "iopub.status.idle": "2020-10-04T19:01:55.331666Z",
     "shell.execute_reply": "2020-10-04T19:01:55.332995Z"
    },
    "lines_to_next_cell": 0,
    "title": "codecell"
   },
   "outputs": [
    {
     "data": {
      "text/latex": [
       "$\\displaystyle \\left[\\begin{matrix}1 & 2\\\\3 & 4\\end{matrix}\\right]$"
      ],
      "text/plain": [
       "Matrix([\n",
       "[1, 2],\n",
       "[3, 4]])"
      ]
     },
     "execution_count": 1,
     "metadata": {},
     "output_type": "execute_result"
    }
   ],
   "source": [
    "from sympy import I, Matrix, symbols\n",
    "from sympy.physics.quantum import TensorProduct\n",
    "\n",
    "m1 = Matrix([[1,2],[3,4]])\n",
    "m2 = Matrix([[1,0],[0,1]])\n",
    "\n",
    "m1"
   ]
  },
  {
   "cell_type": "code",
   "execution_count": 8,
   "metadata": {
    "execution": {
     "iopub.execute_input": "2020-10-04T19:01:55.338416Z",
     "iopub.status.busy": "2020-10-04T19:01:55.336910Z",
     "iopub.status.idle": "2020-10-04T19:01:55.350926Z",
     "shell.execute_reply": "2020-10-04T19:01:55.352001Z"
    },
    "title": "codecell"
   },
   "outputs": [
    {
     "data": {
      "text/latex": [
       "$\\displaystyle \\left[\\begin{matrix}1 & 0 & 2 & 0\\\\0 & 1 & 0 & 2\\\\3 & 0 & 4 & 0\\\\0 & 3 & 0 & 4\\end{matrix}\\right]$"
      ],
      "text/plain": [
       "Matrix([\n",
       "[1, 0, 2, 0],\n",
       "[0, 1, 0, 2],\n",
       "[3, 0, 4, 0],\n",
       "[0, 3, 0, 4]])"
      ]
     },
     "execution_count": 1,
     "metadata": {},
     "output_type": "execute_result"
    }
   ],
   "source": [
    "TensorProduct(m1, m2)\n",
    "\n"
   ]
  },
  {
   "cell_type": "code",
   "execution_count": 9,
   "metadata": {
    "execution": {
     "iopub.execute_input": "2020-10-04T19:01:55.357257Z",
     "iopub.status.busy": "2020-10-04T19:01:55.355539Z",
     "iopub.status.idle": "2020-10-04T19:01:55.375027Z",
     "shell.execute_reply": "2020-10-04T19:01:55.376361Z"
    },
    "lines_to_next_cell": 2,
    "title": "codecell"
   },
   "outputs": [
    {
     "data": {
      "text/latex": [
       "$\\displaystyle \\left[\\begin{array}{cccc}f{\\left(0,0 \\right)} & f{\\left(0,1 \\right)} & f{\\left(0,2 \\right)} & f{\\left(0,3 \\right)}\\\\f{\\left(1,0 \\right)} & f{\\left(1,1 \\right)} & f{\\left(1,2 \\right)} & f{\\left(1,3 \\right)}\\\\f{\\left(2,0 \\right)} & f{\\left(2,1 \\right)} & f{\\left(2,2 \\right)} & f{\\left(2,3 \\right)}\\end{array}\\right]$"
      ],
      "text/plain": [
       "Matrix([\n",
       "[f(0, 0), f(0, 1), f(0, 2), f(0, 3)],\n",
       "[f(1, 0), f(1, 1), f(1, 2), f(1, 3)],\n",
       "[f(2, 0), f(2, 1), f(2, 2), f(2, 3)]])"
      ]
     },
     "execution_count": 1,
     "metadata": {},
     "output_type": "execute_result"
    }
   ],
   "source": [
    "f = Function('f')\n",
    "F = FunctionMatrix(3,4, f)\n",
    "Matrix(F)"
   ]
  },
  {
   "cell_type": "code",
   "execution_count": 10,
   "metadata": {
    "execution": {
     "iopub.execute_input": "2020-10-04T19:01:55.381402Z",
     "iopub.status.busy": "2020-10-04T19:01:55.379962Z",
     "iopub.status.idle": "2020-10-04T19:01:55.391551Z",
     "shell.execute_reply": "2020-10-04T19:01:55.392780Z"
    },
    "lines_to_next_cell": 0,
    "title": "codecell"
   },
   "outputs": [
    {
     "data": {
      "text/latex": [
       "$\\displaystyle y{\\left(X \\right)}$"
      ],
      "text/plain": [
       "y(X)"
      ]
     },
     "execution_count": 1,
     "metadata": {},
     "output_type": "execute_result"
    }
   ],
   "source": [
    "y = Function('y')(X)\n",
    "y"
   ]
  },
  {
   "cell_type": "code",
   "execution_count": 11,
   "metadata": {
    "execution": {
     "iopub.execute_input": "2020-10-04T19:01:55.398269Z",
     "iopub.status.busy": "2020-10-04T19:01:55.396549Z",
     "iopub.status.idle": "2020-10-04T19:01:55.507391Z",
     "shell.execute_reply": "2020-10-04T19:01:55.508564Z"
    },
    "title": "codecell"
   },
   "outputs": [
    {
     "data": {
      "text/latex": [
       "$\\displaystyle \\left[\\begin{matrix}\\left[\\begin{matrix}e^{x} & 0 & - t y \\sin{\\left(x y \\right)}\\\\1 & y & 0\\\\1 & 1 & 0\\end{matrix}\\right] & \\left[\\begin{matrix}0 & z \\cos{\\left(y z \\right)} & - t x \\sin{\\left(x y \\right)}\\\\0 & x & 0\\\\0 & 0 & 0\\end{matrix}\\right] & \\left[\\begin{matrix}0 & y \\cos{\\left(y z \\right)} & 0\\\\0 & 0 & 0\\\\0 & 0 & 1\\end{matrix}\\right]\\\\\\left[\\begin{matrix}0 & 0 & \\cos{\\left(x y \\right)}\\\\0 & 0 & 1\\\\0 & 0 & 0\\end{matrix}\\right] & \\left[\\begin{matrix}0 & 0 & 0\\\\0 & 0 & 0\\\\0 & 0 & 0\\end{matrix}\\right] & \\left[\\begin{matrix}0 & 0 & 0\\\\0 & 0 & 0\\\\0 & 0 & 0\\end{matrix}\\right]\\\\\\left[\\begin{matrix}0 & 0 & 0\\\\0 & 0 & 0\\\\0 & 0 & 0\\end{matrix}\\right] & \\left[\\begin{matrix}0 & 0 & 0\\\\0 & 0 & 0\\\\0 & 0 & 0\\end{matrix}\\right] & \\left[\\begin{matrix}0 & 0 & 0\\\\0 & 0 & 0\\\\0 & 0 & 0\\end{matrix}\\right]\\end{matrix}\\right]$"
      ],
      "text/plain": [
       "[[[[exp(x), 0, -t*y*sin(x*y)], [1, y, 0], [1, 1, 0]], [[0, z*cos(y*z), -t*x*sin(x*y)], [0, x, 0], [0, 0, 0]], [[0, y*cos(y*z), 0], [0, 0, 0], [0, 0, 1]]], [[[0, 0, cos(x*y)], [0, 0, 1], [0, 0, 0]], [[0, 0, 0], [0, 0, 0], [0, 0, 0]], [[0, 0, 0], [0, 0, 0], [0, 0, 0]]], [[[0, 0, 0], [0, 0, 0], [0, 0, 0]], [[0, 0, 0], [0, 0, 0], [0, 0, 0]], [[0, 0, 0], [0, 0, 0], [0, 0, 0]]]]"
      ]
     },
     "execution_count": 1,
     "metadata": {},
     "output_type": "execute_result"
    }
   ],
   "source": [
    "# y.diff(X)\n",
    "from sympy.abc import x,y,z,t,e,r,a,b,c\n",
    "from sympy import derive_by_array\n",
    "from sympy import sin, exp, cos\n",
    "\n",
    "#basis = Matrix([x, y, z])\n",
    "Matrix(X)\n",
    "\n",
    "m = Matrix([[exp(x), sin(y*z), t*cos(x*y)], [x, x*y, t], [x,x,z] ])\n",
    "basis = Matrix([[x,y,z], [x,y,z], [x,y,z]])\n",
    "type(basis)\n",
    "X.as_explicit()\n",
    "M = Matrix([[x,y,z], [t,e,r], [a,b,c]])\n",
    "ax = derive_by_array(m, M)\n",
    "ax\n",
    "\n"
   ]
  },
  {
   "cell_type": "code",
   "execution_count": 12,
   "metadata": {
    "execution": {
     "iopub.execute_input": "2020-10-04T19:01:55.513860Z",
     "iopub.status.busy": "2020-10-04T19:01:55.512367Z",
     "iopub.status.idle": "2020-10-04T19:01:55.543962Z",
     "shell.execute_reply": "2020-10-04T19:01:55.545190Z"
    },
    "title": "codecell"
   },
   "outputs": [
    {
     "data": {
      "text/latex": [
       "$\\displaystyle \\frac{d}{d g{\\left(X_{1, 2} \\right)}} f{\\left(g{\\left(X_{1, 2} \\right)} \\right)} \\frac{d}{d X_{1, 2}} g{\\left(X_{1, 2} \\right)}$"
      ],
      "text/plain": [
       "Derivative(f(g(X[1, 2])), g(X[1, 2]))*Derivative(g(X[1, 2]), X[1, 2])"
      ]
     },
     "execution_count": 1,
     "metadata": {},
     "output_type": "execute_result"
    }
   ],
   "source": [
    "Matrix(X)[1,2]\n",
    "x_12 = Matrix(X)[1,2]\n",
    "type(Matrix(X)[1,2])\n",
    "f = Function('f')\n",
    "g = Function('g')\n",
    "h = f(g(x_12))\n",
    "h\n",
    "h.diff(x_12)"
   ]
  },
  {
   "cell_type": "code",
   "execution_count": 13,
   "metadata": {
    "title": "codecell"
   },
   "outputs": [],
   "source": [
    "\n",
    "\n"
   ]
  },
  {
   "cell_type": "code",
   "execution_count": 13,
   "metadata": {
    "execution": {
     "iopub.execute_input": "2020-10-04T19:01:55.550310Z",
     "iopub.status.busy": "2020-10-04T19:01:55.548762Z",
     "iopub.status.idle": "2020-10-04T19:01:55.564846Z",
     "shell.execute_reply": "2020-10-04T19:01:55.566014Z"
    },
    "lines_to_next_cell": 0,
    "title": "codecell"
   },
   "outputs": [
    {
     "data": {
      "text/latex": [
       "$\\displaystyle \\left[\\begin{matrix}x_{11} & x_{12} & x_{13}\\\\x_{21} & x_{22} & x_{23}\\end{matrix}\\right]$"
      ],
      "text/plain": [
       "Matrix([\n",
       "[x_11, x_12, x_13],\n",
       "[x_21, x_22, x_23]])"
      ]
     },
     "execution_count": 1,
     "metadata": {},
     "output_type": "execute_result"
    }
   ],
   "source": [
    "from sympy import Symbol\n",
    "from sympy.abc import i, j\n",
    "\n",
    "f = Function('f')\n",
    "\n",
    "#def makeF(i, j):\n",
    "#     x_ij = Symbol('x_{}{}'.format(i,j), is_commutative=True)\n",
    "#     return f(x_ij)\n",
    "\n",
    "\n",
    "def makeX(i, j):\n",
    "     x_ij = Symbol('x_{}{}'.format(i, j), is_commutative=True)\n",
    "     return x_ij #Lambda((i,j), x_ij)\n",
    "\n",
    "\n",
    "# NOTE: even if i, j are sympy Symbols, passing them here with python's lambda instead of sympy's Lambda lets the indices actually be seen!!!\n",
    "X = Matrix(2, 3, lambda i,j: makeX(i+1, j+1)); X\n",
    "# BAD\n",
    "#X = FunctionMatrix(2,3, Lambda((a,b), makeX(int(a), int(b))))"
   ]
  },
  {
   "cell_type": "code",
   "execution_count": 14,
   "metadata": {
    "execution": {
     "iopub.execute_input": "2020-10-04T19:01:55.571469Z",
     "iopub.status.busy": "2020-10-04T19:01:55.569875Z",
     "iopub.status.idle": "2020-10-04T19:01:55.579685Z",
     "shell.execute_reply": "2020-10-04T19:01:55.580961Z"
    },
    "title": "codecell"
   },
   "outputs": [
    {
     "data": {
      "text/latex": [
       "$\\displaystyle x_{11}$"
      ],
      "text/plain": [
       "x_11"
      ]
     },
     "execution_count": 1,
     "metadata": {},
     "output_type": "execute_result"
    }
   ],
   "source": [
    "X[0,0]"
   ]
  },
  {
   "cell_type": "code",
   "execution_count": 15,
   "metadata": {
    "execution": {
     "iopub.execute_input": "2020-10-04T19:01:55.585963Z",
     "iopub.status.busy": "2020-10-04T19:01:55.584397Z",
     "iopub.status.idle": "2020-10-04T19:01:55.619406Z",
     "shell.execute_reply": "2020-10-04T19:01:55.620578Z"
    },
    "lines_to_next_cell": 0,
    "title": "codecell"
   },
   "outputs": [
    {
     "data": {
      "text/latex": [
       "$\\displaystyle \\left[\\begin{matrix}\\left[\\begin{matrix}1 & 0 & 0\\\\0 & 0 & 0\\end{matrix}\\right] & \\left[\\begin{matrix}0 & 1 & 0\\\\0 & 0 & 0\\end{matrix}\\right] & \\left[\\begin{matrix}0 & 0 & 1\\\\0 & 0 & 0\\end{matrix}\\right]\\\\\\left[\\begin{matrix}0 & 0 & 0\\\\1 & 0 & 0\\end{matrix}\\right] & \\left[\\begin{matrix}0 & 0 & 0\\\\0 & 1 & 0\\end{matrix}\\right] & \\left[\\begin{matrix}0 & 0 & 0\\\\0 & 0 & 1\\end{matrix}\\right]\\end{matrix}\\right]$"
      ],
      "text/plain": [
       "[[[[1, 0, 0], [0, 0, 0]], [[0, 1, 0], [0, 0, 0]], [[0, 0, 1], [0, 0, 0]]], [[[0, 0, 0], [1, 0, 0]], [[0, 0, 0], [0, 1, 0]], [[0, 0, 0], [0, 0, 1]]]]"
      ]
     },
     "execution_count": 1,
     "metadata": {},
     "output_type": "execute_result"
    }
   ],
   "source": [
    "from sympy import derive_by_array\n",
    "\n",
    "derive_by_array(Matrix(X), Matrix(X))"
   ]
  },
  {
   "cell_type": "code",
   "execution_count": 16,
   "metadata": {
    "execution": {
     "iopub.execute_input": "2020-10-04T19:01:55.625668Z",
     "iopub.status.busy": "2020-10-04T19:01:55.624129Z",
     "iopub.status.idle": "2020-10-04T19:01:55.724495Z",
     "shell.execute_reply": "2020-10-04T19:01:55.725693Z"
    },
    "title": "codecell"
   },
   "outputs": [
    {
     "data": {
      "text/latex": [
       "$\\displaystyle \\left[\\begin{matrix}\\operatorname{y_{11}}{\\left(\\left[\\begin{matrix}x_{11} & x_{12} & x_{13}\\\\x_{21} & x_{22} & x_{23}\\\\x_{31} & x_{32} & x_{33}\\end{matrix}\\right] \\right)} & \\operatorname{y_{12}}{\\left(\\left[\\begin{matrix}x_{11} & x_{12} & x_{13}\\\\x_{21} & x_{22} & x_{23}\\\\x_{31} & x_{32} & x_{33}\\end{matrix}\\right] \\right)}\\\\\\operatorname{y_{21}}{\\left(\\left[\\begin{matrix}x_{11} & x_{12} & x_{13}\\\\x_{21} & x_{22} & x_{23}\\\\x_{31} & x_{32} & x_{33}\\end{matrix}\\right] \\right)} & \\operatorname{y_{22}}{\\left(\\left[\\begin{matrix}x_{11} & x_{12} & x_{13}\\\\x_{21} & x_{22} & x_{23}\\\\x_{31} & x_{32} & x_{33}\\end{matrix}\\right] \\right)}\\end{matrix}\\right]$"
      ],
      "text/plain": [
       "Matrix([\n",
       "[y_11(Matrix([\n",
       "[x_11, x_12, x_13],\n",
       "[x_21, x_22, x_23],\n",
       "[x_31, x_32, x_33]])), y_12(Matrix([\n",
       "[x_11, x_12, x_13],\n",
       "[x_21, x_22, x_23],\n",
       "[x_31, x_32, x_33]]))],\n",
       "[y_21(Matrix([\n",
       "[x_11, x_12, x_13],\n",
       "[x_21, x_22, x_23],\n",
       "[x_31, x_32, x_33]])), y_22(Matrix([\n",
       "[x_11, x_12, x_13],\n",
       "[x_21, x_22, x_23],\n",
       "[x_31, x_32, x_33]]))]])"
      ]
     },
     "execution_count": 1,
     "metadata": {},
     "output_type": "execute_result"
    }
   ],
   "source": [
    "\n",
    "from sympy import Symbol\n",
    "x_11 = Symbol('x_11', is_commutative=True)\n",
    "x_12 = Symbol('x_12', is_commutative=True)\n",
    "x_13 = Symbol('x_13', is_commutative=True)\n",
    "x_21 = Symbol('x_21', is_commutative=True)\n",
    "x_22 = Symbol('x_22', is_commutative=True)\n",
    "x_23 = Symbol('x_23', is_commutative=True)\n",
    "x_31 = Symbol('x_31', is_commutative=True)\n",
    "x_32 = Symbol('x_32', is_commutative=True)\n",
    "x_33 = Symbol('x_33', is_commutative=True)\n",
    "X = Matrix([[x_11,x_12, x_13], [x_21,x_22,x_23], [x_31,x_32,x_33]]); X\n",
    "\n",
    "w_11 = Symbol('w_11', is_commutative=True)\n",
    "w_12 = Symbol('w_12', is_commutative=True)\n",
    "w_21 = Symbol('w_21', is_commutative=True)\n",
    "w_22 = Symbol('w_22', is_commutative=True)\n",
    "w_31 = Symbol('w_31', is_commutative=True)\n",
    "w_32 = Symbol('w_32', is_commutative=True)\n",
    "W = Matrix([[w_11, w_12], [w_21, w_22], [w_31,w_32]]); W\n",
    "\n",
    "\n",
    "y_11 = Function('y_11')\n",
    "y_12 = Function('y_12')\n",
    "y_21 = Function('y_21')\n",
    "y_22 = Function('y_22')\n",
    "Y = Matrix([[y_11(X),y_12(X)],[y_21(X),y_22(X)]])\n",
    "Y\n",
    "\n",
    "#Y.diff(X)\n",
    "\n",
    "#y = Function('y')"
   ]
  },
  {
   "cell_type": "code",
   "execution_count": 17,
   "metadata": {
    "execution": {
     "iopub.execute_input": "2020-10-04T19:01:55.730621Z",
     "iopub.status.busy": "2020-10-04T19:01:55.729162Z",
     "iopub.status.idle": "2020-10-04T19:01:55.734962Z",
     "shell.execute_reply": "2020-10-04T19:01:55.736026Z"
    },
    "title": "codecell"
   },
   "outputs": [],
   "source": [
    "#derive_by_array(Y, X)"
   ]
  },
  {
   "cell_type": "code",
   "execution_count": 18,
   "metadata": {
    "execution": {
     "iopub.execute_input": "2020-10-04T19:01:55.741598Z",
     "iopub.status.busy": "2020-10-04T19:01:55.739636Z",
     "iopub.status.idle": "2020-10-04T19:01:55.756089Z",
     "shell.execute_reply": "2020-10-04T19:01:55.757287Z"
    },
    "lines_to_next_cell": 0,
    "title": "codecell"
   },
   "outputs": [
    {
     "data": {
      "text/latex": [
       "$\\displaystyle \\left[\\begin{array}{cc}w_{0, 0} & w_{0, 1}\\\\w_{1, 0} & w_{1, 1}\\\\w_{2, 0} & w_{2, 1}\\end{array}\\right]$"
      ],
      "text/plain": [
       "Matrix([\n",
       "[w[0, 0], w[0, 1]],\n",
       "[w[1, 0], w[1, 1]],\n",
       "[w[2, 0], w[2, 1]]])"
      ]
     },
     "execution_count": 1,
     "metadata": {},
     "output_type": "execute_result"
    }
   ],
   "source": [
    "A = Matrix(MatrixSymbol('x', 3,3)); A\n",
    "B = Matrix(MatrixSymbol('w', 3,2)); B"
   ]
  },
  {
   "cell_type": "code",
   "execution_count": 19,
   "metadata": {
    "execution": {
     "iopub.execute_input": "2020-10-04T19:01:55.762357Z",
     "iopub.status.busy": "2020-10-04T19:01:55.760875Z",
     "iopub.status.idle": "2020-10-04T19:01:55.919219Z",
     "shell.execute_reply": "2020-10-04T19:01:55.920413Z"
    },
    "lines_to_next_cell": 0,
    "title": "codecell"
   },
   "outputs": [
    {
     "data": {
      "text/latex": [
       "$\\displaystyle \\left[\\begin{matrix}\\left[\\begin{matrix}w_{0, 0} & w_{0, 1}\\\\0 & 0\\\\0 & 0\\end{matrix}\\right] & \\left[\\begin{matrix}w_{1, 0} & w_{1, 1}\\\\0 & 0\\\\0 & 0\\end{matrix}\\right] & \\left[\\begin{matrix}w_{2, 0} & w_{2, 1}\\\\0 & 0\\\\0 & 0\\end{matrix}\\right]\\\\\\left[\\begin{matrix}0 & 0\\\\w_{0, 0} & w_{0, 1}\\\\0 & 0\\end{matrix}\\right] & \\left[\\begin{matrix}0 & 0\\\\w_{1, 0} & w_{1, 1}\\\\0 & 0\\end{matrix}\\right] & \\left[\\begin{matrix}0 & 0\\\\w_{2, 0} & w_{2, 1}\\\\0 & 0\\end{matrix}\\right]\\\\\\left[\\begin{matrix}0 & 0\\\\0 & 0\\\\w_{0, 0} & w_{0, 1}\\end{matrix}\\right] & \\left[\\begin{matrix}0 & 0\\\\0 & 0\\\\w_{1, 0} & w_{1, 1}\\end{matrix}\\right] & \\left[\\begin{matrix}0 & 0\\\\0 & 0\\\\w_{2, 0} & w_{2, 1}\\end{matrix}\\right]\\end{matrix}\\right]$"
      ],
      "text/plain": [
       "[[[[w[0, 0], w[0, 1]], [0, 0], [0, 0]], [[w[1, 0], w[1, 1]], [0, 0], [0, 0]], [[w[2, 0], w[2, 1]], [0, 0], [0, 0]]], [[[0, 0], [w[0, 0], w[0, 1]], [0, 0]], [[0, 0], [w[1, 0], w[1, 1]], [0, 0]], [[0, 0], [w[2, 0], w[2, 1]], [0, 0]]], [[[0, 0], [0, 0], [w[0, 0], w[0, 1]]], [[0, 0], [0, 0], [w[1, 0], w[1, 1]]], [[0, 0], [0, 0], [w[2, 0], w[2, 1]]]]]"
      ]
     },
     "execution_count": 1,
     "metadata": {},
     "output_type": "execute_result"
    }
   ],
   "source": [
    "A*B\n",
    "\n",
    "derive_by_array(A*B, A)"
   ]
  },
  {
   "cell_type": "code",
   "execution_count": 20,
   "metadata": {
    "execution": {
     "iopub.execute_input": "2020-10-04T19:01:55.925991Z",
     "iopub.status.busy": "2020-10-04T19:01:55.924292Z",
     "iopub.status.idle": "2020-10-04T19:01:56.082441Z",
     "shell.execute_reply": "2020-10-04T19:01:56.083626Z"
    },
    "title": "codecell"
   },
   "outputs": [],
   "source": [
    "(A*B).diff(A)\n",
    "\n",
    "assert (A*B).diff(A) == derive_by_array(A*B, A)"
   ]
  },
  {
   "cell_type": "code",
   "execution_count": 21,
   "metadata": {
    "execution": {
     "iopub.execute_input": "2020-10-04T19:01:56.089623Z",
     "iopub.status.busy": "2020-10-04T19:01:56.087264Z",
     "iopub.status.idle": "2020-10-04T19:01:56.130844Z",
     "shell.execute_reply": "2020-10-04T19:01:56.132084Z"
    },
    "lines_to_next_cell": 0,
    "title": "codecell"
   },
   "outputs": [
    {
     "data": {
      "text/latex": [
       "$\\displaystyle \\left[\\begin{matrix}w_{11} x_{11} + w_{21} x_{12} + w_{31} x_{13} & w_{12} x_{11} + w_{22} x_{12} + w_{32} x_{13}\\\\w_{11} x_{21} + w_{21} x_{22} + w_{31} x_{23} & w_{12} x_{21} + w_{22} x_{22} + w_{32} x_{23}\\\\w_{11} x_{31} + w_{21} x_{32} + w_{31} x_{33} & w_{12} x_{31} + w_{22} x_{32} + w_{32} x_{33}\\end{matrix}\\right]$"
      ],
      "text/plain": [
       "Matrix([\n",
       "[w_11*x_11 + w_21*x_12 + w_31*x_13, w_12*x_11 + w_22*x_12 + w_32*x_13],\n",
       "[w_11*x_21 + w_21*x_22 + w_31*x_23, w_12*x_21 + w_22*x_22 + w_32*x_23],\n",
       "[w_11*x_31 + w_21*x_32 + w_31*x_33, w_12*x_31 + w_22*x_32 + w_32*x_33]])"
      ]
     },
     "execution_count": 1,
     "metadata": {},
     "output_type": "execute_result"
    }
   ],
   "source": [
    "X*W"
   ]
  },
  {
   "cell_type": "code",
   "execution_count": 22,
   "metadata": {
    "execution": {
     "iopub.execute_input": "2020-10-04T19:01:56.137773Z",
     "iopub.status.busy": "2020-10-04T19:01:56.136123Z",
     "iopub.status.idle": "2020-10-04T19:01:56.212482Z",
     "shell.execute_reply": "2020-10-04T19:01:56.213699Z"
    },
    "lines_to_next_cell": 0,
    "title": "codecell"
   },
   "outputs": [
    {
     "data": {
      "text/latex": [
       "$\\displaystyle \\left[\\begin{matrix}\\left[\\begin{matrix}w_{11} & w_{12}\\\\0 & 0\\\\0 & 0\\end{matrix}\\right] & \\left[\\begin{matrix}w_{21} & w_{22}\\\\0 & 0\\\\0 & 0\\end{matrix}\\right] & \\left[\\begin{matrix}w_{31} & w_{32}\\\\0 & 0\\\\0 & 0\\end{matrix}\\right]\\\\\\left[\\begin{matrix}0 & 0\\\\w_{11} & w_{12}\\\\0 & 0\\end{matrix}\\right] & \\left[\\begin{matrix}0 & 0\\\\w_{21} & w_{22}\\\\0 & 0\\end{matrix}\\right] & \\left[\\begin{matrix}0 & 0\\\\w_{31} & w_{32}\\\\0 & 0\\end{matrix}\\right]\\\\\\left[\\begin{matrix}0 & 0\\\\0 & 0\\\\w_{11} & w_{12}\\end{matrix}\\right] & \\left[\\begin{matrix}0 & 0\\\\0 & 0\\\\w_{21} & w_{22}\\end{matrix}\\right] & \\left[\\begin{matrix}0 & 0\\\\0 & 0\\\\w_{31} & w_{32}\\end{matrix}\\right]\\end{matrix}\\right]$"
      ],
      "text/plain": [
       "[[[[w_11, w_12], [0, 0], [0, 0]], [[w_21, w_22], [0, 0], [0, 0]], [[w_31, w_32], [0, 0], [0, 0]]], [[[0, 0], [w_11, w_12], [0, 0]], [[0, 0], [w_21, w_22], [0, 0]], [[0, 0], [w_31, w_32], [0, 0]]], [[[0, 0], [0, 0], [w_11, w_12]], [[0, 0], [0, 0], [w_21, w_22]], [[0, 0], [0, 0], [w_31, w_32]]]]"
      ]
     },
     "execution_count": 1,
     "metadata": {},
     "output_type": "execute_result"
    }
   ],
   "source": [
    "derive_by_array(X*W, X)"
   ]
  },
  {
   "cell_type": "code",
   "execution_count": 23,
   "metadata": {
    "execution": {
     "iopub.execute_input": "2020-10-04T19:01:56.218911Z",
     "iopub.status.busy": "2020-10-04T19:01:56.217359Z",
     "iopub.status.idle": "2020-10-04T19:01:56.273151Z",
     "shell.execute_reply": "2020-10-04T19:01:56.274423Z"
    },
    "title": "codecell"
   },
   "outputs": [
    {
     "data": {
      "text/latex": [
       "$\\displaystyle \\left[\\begin{matrix}\\left[\\begin{matrix}w_{11} & w_{12}\\\\0 & 0\\\\0 & 0\\end{matrix}\\right] & \\left[\\begin{matrix}w_{21} & w_{22}\\\\0 & 0\\\\0 & 0\\end{matrix}\\right] & \\left[\\begin{matrix}w_{31} & w_{32}\\\\0 & 0\\\\0 & 0\\end{matrix}\\right]\\\\\\left[\\begin{matrix}0 & 0\\\\w_{11} & w_{12}\\\\0 & 0\\end{matrix}\\right] & \\left[\\begin{matrix}0 & 0\\\\w_{21} & w_{22}\\\\0 & 0\\end{matrix}\\right] & \\left[\\begin{matrix}0 & 0\\\\w_{31} & w_{32}\\\\0 & 0\\end{matrix}\\right]\\\\\\left[\\begin{matrix}0 & 0\\\\0 & 0\\\\w_{11} & w_{12}\\end{matrix}\\right] & \\left[\\begin{matrix}0 & 0\\\\0 & 0\\\\w_{21} & w_{22}\\end{matrix}\\right] & \\left[\\begin{matrix}0 & 0\\\\0 & 0\\\\w_{31} & w_{32}\\end{matrix}\\right]\\end{matrix}\\right]$"
      ],
      "text/plain": [
       "[[[[w_11, w_12], [0, 0], [0, 0]], [[w_21, w_22], [0, 0], [0, 0]], [[w_31, w_32], [0, 0], [0, 0]]], [[[0, 0], [w_11, w_12], [0, 0]], [[0, 0], [w_21, w_22], [0, 0]], [[0, 0], [w_31, w_32], [0, 0]]], [[[0, 0], [0, 0], [w_11, w_12]], [[0, 0], [0, 0], [w_21, w_22]], [[0, 0], [0, 0], [w_31, w_32]]]]"
      ]
     },
     "execution_count": 1,
     "metadata": {},
     "output_type": "execute_result"
    }
   ],
   "source": [
    "(X*W).diff(X)"
   ]
  },
  {
   "cell_type": "code",
   "execution_count": 24,
   "metadata": {
    "execution": {
     "iopub.execute_input": "2020-10-04T19:01:56.279993Z",
     "iopub.status.busy": "2020-10-04T19:01:56.278377Z",
     "iopub.status.idle": "2020-10-04T19:01:56.287304Z",
     "shell.execute_reply": "2020-10-04T19:01:56.288345Z"
    },
    "title": "codecell"
   },
   "outputs": [],
   "source": [
    "### JACOBIAN:\n",
    "def makeX(i, j):\n",
    "     x_ij = Symbol('x_{}{}'.format(i,j), is_commutative=True)\n",
    "     return x_ij #Lambda((i,j), x_ij)\n",
    "\n",
    "#u = lambda i,j : makeX(i,j)\n",
    "#FunctionMatrix(9,1, Lambda((i,j), makeX(i,j)))\n",
    "\n",
    "def makeYofX(i, j):\n",
    "     yx_ij = Symbol('y_{}{}'.format(i,j), is_commutative=True)\n",
    "     return yx_ij #Lambda((i,j), x_ij)\n",
    "\n"
   ]
  },
  {
   "cell_type": "code",
   "execution_count": 25,
   "metadata": {
    "execution": {
     "iopub.execute_input": "2020-10-04T19:01:56.293455Z",
     "iopub.status.busy": "2020-10-04T19:01:56.291850Z",
     "iopub.status.idle": "2020-10-04T19:01:56.308174Z",
     "shell.execute_reply": "2020-10-04T19:01:56.309759Z"
    },
    "lines_to_next_cell": 0,
    "title": "codecell"
   },
   "outputs": [
    {
     "data": {
      "text/latex": [
       "$\\displaystyle \\left[\\begin{matrix}x_{11} & x_{12} & x_{13}\\\\x_{21} & x_{22} & x_{23}\\\\x_{31} & x_{32} & x_{33}\\end{matrix}\\right]$"
      ],
      "text/plain": [
       "Matrix([\n",
       "[x_11, x_12, x_13],\n",
       "[x_21, x_22, x_23],\n",
       "[x_31, x_32, x_33]])"
      ]
     },
     "execution_count": 1,
     "metadata": {},
     "output_type": "execute_result"
    }
   ],
   "source": [
    "def var(letter: str, i: int, j: int) -> Symbol:\n",
    "     letter_ij = Symbol('{}_{}{}'.format(letter, i+1, j+1), is_commutative=True)\n",
    "     return letter_ij\n",
    "\n",
    "\n",
    "n,m,p = 3,3,2\n",
    "# NOTE: even if i, j are sympy Symbols, passing them here with python's lambda instead of sympy's Lambda lets the indices actually be seen!!!\n",
    "X = Matrix(n,m, lambda i,j: var('x', i,j)); X"
   ]
  },
  {
   "cell_type": "code",
   "execution_count": 26,
   "metadata": {
    "execution": {
     "iopub.execute_input": "2020-10-04T19:01:56.315082Z",
     "iopub.status.busy": "2020-10-04T19:01:56.313350Z",
     "iopub.status.idle": "2020-10-04T19:01:56.326373Z",
     "shell.execute_reply": "2020-10-04T19:01:56.327556Z"
    },
    "lines_to_next_cell": 2,
    "title": "codecell"
   },
   "outputs": [
    {
     "data": {
      "text/latex": [
       "$\\displaystyle \\left[\\begin{matrix}w_{11} & w_{12}\\\\w_{21} & w_{22}\\\\w_{31} & w_{32}\\end{matrix}\\right]$"
      ],
      "text/plain": [
       "Matrix([\n",
       "[w_11, w_12],\n",
       "[w_21, w_22],\n",
       "[w_31, w_32]])"
      ]
     },
     "execution_count": 1,
     "metadata": {},
     "output_type": "execute_result"
    }
   ],
   "source": [
    "W = Matrix(m,p, lambda i,j: var('w', i, j)); W"
   ]
  },
  {
   "cell_type": "code",
   "execution_count": 27,
   "metadata": {
    "execution": {
     "iopub.execute_input": "2020-10-04T19:01:56.332368Z",
     "iopub.status.busy": "2020-10-04T19:01:56.330915Z",
     "iopub.status.idle": "2020-10-04T19:01:56.336520Z",
     "shell.execute_reply": "2020-10-04T19:01:56.337740Z"
    },
    "lines_to_next_cell": 0,
    "title": "codecell"
   },
   "outputs": [],
   "source": [
    "#res = y.subs({y[0]:x[0]**2* x[2] +x[1]}); res"
   ]
  },
  {
   "cell_type": "code",
   "execution_count": 28,
   "metadata": {
    "execution": {
     "iopub.execute_input": "2020-10-04T19:01:56.342707Z",
     "iopub.status.busy": "2020-10-04T19:01:56.341135Z",
     "iopub.status.idle": "2020-10-04T19:01:56.346847Z",
     "shell.execute_reply": "2020-10-04T19:01:56.348427Z"
    },
    "lines_to_next_cell": 0,
    "title": "codecell"
   },
   "outputs": [],
   "source": [
    "#res.subs({x[0]: 23, x[1]: 14})"
   ]
  },
  {
   "cell_type": "code",
   "execution_count": 29,
   "metadata": {
    "execution": {
     "iopub.execute_input": "2020-10-04T19:01:56.353949Z",
     "iopub.status.busy": "2020-10-04T19:01:56.351732Z",
     "iopub.status.idle": "2020-10-04T19:01:56.357243Z",
     "shell.execute_reply": "2020-10-04T19:01:56.358315Z"
    },
    "title": "codecell"
   },
   "outputs": [],
   "source": [
    "#derive_by_array(res[0], x[0])\n",
    "#derive_by_array(res[1], x[0])\n",
    "\n"
   ]
  },
  {
   "cell_type": "code",
   "execution_count": 30,
   "metadata": {
    "execution": {
     "iopub.execute_input": "2020-10-04T19:01:56.364179Z",
     "iopub.status.busy": "2020-10-04T19:01:56.362209Z",
     "iopub.status.idle": "2020-10-04T19:01:56.367623Z",
     "shell.execute_reply": "2020-10-04T19:01:56.368952Z"
    },
    "title": "codecell"
   },
   "outputs": [],
   "source": [
    "#derive_by_array(y, x)"
   ]
  },
  {
   "cell_type": "code",
   "execution_count": 31,
   "metadata": {
    "execution": {
     "iopub.execute_input": "2020-10-04T19:01:56.373904Z",
     "iopub.status.busy": "2020-10-04T19:01:56.373068Z",
     "iopub.status.idle": "2020-10-04T19:01:56.377256Z",
     "shell.execute_reply": "2020-10-04T19:01:56.378575Z"
    },
    "title": "codecell"
   },
   "outputs": [],
   "source": [
    "#y.diff(x)\n",
    "#y.jacobian(x)"
   ]
  },
  {
   "cell_type": "code",
   "execution_count": 32,
   "metadata": {
    "execution": {
     "iopub.execute_input": "2020-10-04T19:01:56.383957Z",
     "iopub.status.busy": "2020-10-04T19:01:56.382970Z",
     "iopub.status.idle": "2020-10-04T19:01:56.426249Z",
     "shell.execute_reply": "2020-10-04T19:01:56.427461Z"
    },
    "lines_to_next_cell": 0,
    "title": "codecell"
   },
   "outputs": [
    {
     "data": {
      "text/latex": [
       "$\\displaystyle \\left[\\begin{matrix}0 & 0 & \\frac{\\partial}{\\partial x} g{\\left(x,y \\right)} & \\frac{\\partial}{\\partial y} g{\\left(x,y \\right)}\\\\0 & 0 & 2 x & 3\\\\\\frac{\\partial}{\\partial x} g{\\left(x,y \\right)} & 2 x & \\frac{\\partial^{2}}{\\partial x^{2}} f{\\left(x,y \\right)} & \\frac{\\partial^{2}}{\\partial y\\partial x} f{\\left(x,y \\right)}\\\\\\frac{\\partial}{\\partial y} g{\\left(x,y \\right)} & 3 & \\frac{\\partial^{2}}{\\partial y\\partial x} f{\\left(x,y \\right)} & \\frac{\\partial^{2}}{\\partial y^{2}} f{\\left(x,y \\right)}\\end{matrix}\\right]$"
      ],
      "text/plain": [
       "Matrix([\n",
       "[                     0,   0,      Derivative(g(x, y), x),      Derivative(g(x, y), y)],\n",
       "[                     0,   0,                         2*x,                           3],\n",
       "[Derivative(g(x, y), x), 2*x, Derivative(f(x, y), (x, 2)),   Derivative(f(x, y), x, y)],\n",
       "[Derivative(g(x, y), y),   3,   Derivative(f(x, y), x, y), Derivative(f(x, y), (y, 2))]])"
      ]
     },
     "execution_count": 1,
     "metadata": {},
     "output_type": "execute_result"
    }
   ],
   "source": [
    "from sympy import Function, hessian, pprint\n",
    "from sympy.abc import x, y\n",
    "f = Function('f')(x, y)\n",
    "g1 = Function('g')(x, y)\n",
    "g2 = x**2 + 3*y\n",
    "hessian(f, (x,y),[g1,g2])"
   ]
  },
  {
   "cell_type": "code",
   "execution_count": 33,
   "metadata": {
    "execution": {
     "iopub.execute_input": "2020-10-04T19:01:56.432549Z",
     "iopub.status.busy": "2020-10-04T19:01:56.431036Z",
     "iopub.status.idle": "2020-10-04T19:01:56.448278Z",
     "shell.execute_reply": "2020-10-04T19:01:56.449845Z"
    },
    "title": "codecell"
   },
   "outputs": [
    {
     "data": {
      "text/latex": [
       "$\\displaystyle \\left[\\begin{matrix}r_{11} & r_{12} & r_{13} & r_{14} & r_{15}\\\\r_{21} & r_{22} & r_{23} & r_{24} & r_{25}\\\\r_{31} & r_{32} & r_{33} & r_{34} & r_{35}\\\\r_{41} & r_{42} & r_{43} & r_{44} & r_{45}\\\\r_{51} & r_{52} & r_{53} & r_{54} & r_{55}\\end{matrix}\\right]$"
      ],
      "text/plain": [
       "Matrix([\n",
       "[r_11, r_12, r_13, r_14, r_15],\n",
       "[r_21, r_22, r_23, r_24, r_25],\n",
       "[r_31, r_32, r_33, r_34, r_35],\n",
       "[r_41, r_42, r_43, r_44, r_45],\n",
       "[r_51, r_52, r_53, r_54, r_55]])"
      ]
     },
     "execution_count": 1,
     "metadata": {},
     "output_type": "execute_result"
    }
   ],
   "source": [
    "#Matrix(FunctionMatrix(n, 1, Lambda((i,j), Function(\"y_{}{}\".format(i,j)))))\n",
    "rho = Matrix([[Symbol(\"r_{}{}\".format(i+1,j+1)) for j in range(5)] for i in range(5)])\n",
    "rho"
   ]
  },
  {
   "cell_type": "code",
   "execution_count": 34,
   "metadata": {
    "execution": {
     "iopub.execute_input": "2020-10-04T19:01:56.454976Z",
     "iopub.status.busy": "2020-10-04T19:01:56.453474Z",
     "iopub.status.idle": "2020-10-04T19:01:56.480119Z",
     "shell.execute_reply": "2020-10-04T19:01:56.481256Z"
    },
    "lines_to_next_cell": 0,
    "title": "codecell"
   },
   "outputs": [
    {
     "data": {
      "text/latex": [
       "$\\displaystyle \\left[\\begin{matrix}0 & 0 & 0 & 0 & 0\\\\0 & 0 & 0 & 0 & 0\\\\0 & 1 & 0 & 0 & 0\\\\0 & 0 & 0 & 0 & 0\\\\0 & 0 & 0 & 0 & 0\\end{matrix}\\right]$"
      ],
      "text/plain": [
       "[[0, 0, 0, 0, 0], [0, 0, 0, 0, 0], [0, 1, 0, 0, 0], [0, 0, 0, 0, 0], [0, 0, 0, 0, 0]]"
      ]
     },
     "execution_count": 1,
     "metadata": {},
     "output_type": "execute_result"
    }
   ],
   "source": [
    "derive_by_array(rho, rho[2,1])"
   ]
  },
  {
   "cell_type": "code",
   "execution_count": 35,
   "metadata": {
    "execution": {
     "iopub.execute_input": "2020-10-04T19:01:56.486365Z",
     "iopub.status.busy": "2020-10-04T19:01:56.484686Z",
     "iopub.status.idle": "2020-10-04T19:01:56.508418Z",
     "shell.execute_reply": "2020-10-04T19:01:56.509489Z"
    },
    "lines_to_next_cell": 0,
    "title": "codecell"
   },
   "outputs": [
    {
     "data": {
      "text/latex": [
       "$\\displaystyle \\left[\\begin{matrix}0 & 0 & 0 & 0 & 0\\\\0 & 0 & 0 & 0 & 0\\\\0 & 1 & 0 & 0 & 0\\\\0 & 0 & 0 & 0 & 0\\\\0 & 0 & 0 & 0 & 0\\end{matrix}\\right]$"
      ],
      "text/plain": [
       "[[0, 0, 0, 0, 0], [0, 0, 0, 0, 0], [0, 1, 0, 0, 0], [0, 0, 0, 0, 0], [0, 0, 0, 0, 0]]"
      ]
     },
     "execution_count": 1,
     "metadata": {},
     "output_type": "execute_result"
    }
   ],
   "source": [
    "derive_by_array(rho[2,1], rho)"
   ]
  },
  {
   "cell_type": "code",
   "execution_count": 36,
   "metadata": {
    "execution": {
     "iopub.execute_input": "2020-10-04T19:01:56.514532Z",
     "iopub.status.busy": "2020-10-04T19:01:56.513040Z",
     "iopub.status.idle": "2020-10-04T19:01:56.531555Z",
     "shell.execute_reply": "2020-10-04T19:01:56.532965Z"
    },
    "title": "codecell"
   },
   "outputs": [
    {
     "data": {
      "text/latex": [
       "$\\displaystyle \\left[\\begin{matrix}0 & 0 & 0 & 0 & 0\\\\0 & 0 & 0 & 0 & 0\\\\0 & 1 & 0 & 0 & 0\\\\0 & 0 & 0 & 0 & 0\\\\0 & 0 & 0 & 0 & 0\\end{matrix}\\right]$"
      ],
      "text/plain": [
       "Matrix([\n",
       "[0, 0, 0, 0, 0],\n",
       "[0, 0, 0, 0, 0],\n",
       "[0, 1, 0, 0, 0],\n",
       "[0, 0, 0, 0, 0],\n",
       "[0, 0, 0, 0, 0]])"
      ]
     },
     "execution_count": 1,
     "metadata": {},
     "output_type": "execute_result"
    }
   ],
   "source": [
    "rho.diff(rho[2,1])"
   ]
  },
  {
   "cell_type": "code",
   "execution_count": 37,
   "metadata": {
    "execution": {
     "iopub.execute_input": "2020-10-04T19:01:56.538209Z",
     "iopub.status.busy": "2020-10-04T19:01:56.536595Z",
     "iopub.status.idle": "2020-10-04T19:01:56.581500Z",
     "shell.execute_reply": "2020-10-04T19:01:56.582599Z"
    },
    "title": "codecell"
   },
   "outputs": [
    {
     "data": {
      "text/plain": [
       "4"
      ]
     },
     "execution_count": 1,
     "metadata": {},
     "output_type": "execute_result"
    }
   ],
   "source": [
    "from sympy.abc import x\n",
    "from sympy.utilities.lambdify import lambdify, implemented_function\n",
    "from sympy import Function\n",
    "\n",
    "f = implemented_function('f', lambda x: x)\n",
    "lam_f = lambdify(x, f(x))\n",
    "\n",
    "lam_f(4)"
   ]
  }
 ],
 "metadata": {
  "jupytext": {
   "cell_metadata_filter": "title,-all"
  },
  "kernelspec": {
   "display_name": "pymatrix_env",
   "language": "python",
   "name": "pymatrix_env"
  },
  "language_info": {
   "codemirror_mode": {
    "name": "ipython",
    "version": 3
   },
   "file_extension": ".py",
   "mimetype": "text/x-python",
   "name": "python",
   "nbconvert_exporter": "python",
   "pygments_lexer": "ipython3",
   "version": "3.7.8"
  }
 },
 "nbformat": 4,
 "nbformat_minor": 4
}
