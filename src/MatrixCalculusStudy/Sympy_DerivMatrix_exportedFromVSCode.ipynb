{
 "cells": [
  {
   "cell_type": "code",
   "execution_count": 21,
   "metadata": {},
   "outputs": [
    {
     "data": {
      "text/latex": [
       "$\\displaystyle \\left[\\begin{matrix}x_{11} & x_{12} & x_{13}\\\\x_{21} & x_{22} & x_{23}\\\\x_{31} & x_{32} & x_{33}\\end{matrix}\\right]$"
      ],
      "text/plain": [
       "⎡x₁₁  x₁₂  x₁₃⎤\n",
       "⎢             ⎥\n",
       "⎢x₂₁  x₂₂  x₂₃⎥\n",
       "⎢             ⎥\n",
       "⎣x₃₁  x₃₂  x₃₃⎦"
      ]
     },
     "metadata": {},
     "output_type": "display_data"
    }
   ],
   "source": [
    "from IPython.display import display\n",
    "\n",
    "from sympy import init_printing\n",
    "init_printing(pretty_print=True)\n",
    "\n",
    "\n",
    "from sympy import diff, sin, exp, symbols, Function, Matrix, MatrixSymbol, FunctionMatrix, derive_by_array, Derivative\n",
    "\n",
    "\n",
    "from sympy import Symbol\n",
    "from sympy import cos\n",
    "\n",
    "def var(letter: str, i: int, j: int) -> Symbol:\n",
    "     letter_ij = Symbol('{}_{}{}'.format(letter, i+1, j+1), is_commutative=True)\n",
    "     return letter_ij\n",
    "\n",
    "def func(i, j):\n",
    "     y_ij = Function('y_{}{}'.format(i+1,j+1))(*X)\n",
    "     return y_ij\n",
    "\n",
    "\n",
    "n,m,p = 3,3,2\n",
    "\n",
    "X = Matrix(n, m, lambda i, j: var('x', i, j))\n",
    "\n",
    "#X\n",
    "\n",
    "display(X)\n"
   ]
  }
 ],
 "metadata": {
  "kernelspec": {
   "display_name": "Python 3",
   "language": "python",
   "name": "python3"
  },
  "language_info": {
   "codemirror_mode": {
    "name": "ipython",
    "version": 3
   },
   "file_extension": ".py",
   "mimetype": "text/x-python",
   "name": "python",
   "nbconvert_exporter": "python",
   "pygments_lexer": "ipython3",
   "version": "3.7.8"
  }
 },
 "nbformat": 4,
 "nbformat_minor": 2
}
