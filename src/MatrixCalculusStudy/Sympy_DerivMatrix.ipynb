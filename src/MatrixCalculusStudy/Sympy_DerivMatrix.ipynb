{
 "cells": [
  {
   "cell_type": "code",
   "execution_count": null,
   "metadata": {},
   "outputs": [],
   "source": []
  },
  {
   "cell_type": "code",
   "execution_count": null,
   "metadata": {
    "lines_to_next_cell": 0,
    "title": "codecell"
   },
   "outputs": [],
   "source": [
    "from sympy import diff, sin, exp, symbols, Function, Matrix, MatrixSymbol, FunctionMatrix, derive_by_array\n",
    "\n",
    "\n",
    "from sympy import Symbol\n",
    "\n",
    "\n",
    "def var(letter: str, i: int, j: int) -> Symbol:\n",
    "     letter_ij = Symbol('{}_{}{}'.format(letter, i+1, j+1), is_commutative=True)\n",
    "     return letter_ij\n",
    "\n",
    "def func(i, j):\n",
    "     y_ij = Function('y_{}{}'.format(i+1,j+1))(*X)\n",
    "     return y_ij\n",
    "\n",
    "\n",
    "n,m,p = 3,3,2\n",
    "\n",
    "X = Matrix(n, m, lambda i, j: var('x', i, j)); X"
   ]
  },
  {
   "cell_type": "code",
   "execution_count": null,
   "metadata": {
    "title": "codecell"
   },
   "outputs": [],
   "source": [
    "#Y = MatrixSymbol(Function('y'), 2, 3); Matrix(Y)\n",
    "#M = MatrixSymbol('M',2,2); Matrix(M)\n",
    "#Y = Matrix(m, p, lambda i,j: Function('y_{}{}'.format(i+1,j+1))(X) ); Y\n",
    "\n",
    "Y = Matrix(m, p, lambda i,j:  func(i, j)); Y\n",
    "\n"
   ]
  },
  {
   "cell_type": "markdown",
   "metadata": {
    "title": "markdown"
   },
   "source": [
    "### Derivative of Matrix With Respect a Matrix\n",
    "Let $X = \\{ x_{ij} \\}$ be a matrix of order $m \\times n$ and let\n",
    "$$\n",
    "y = f(X)\n",
    "$$\n",
    "be a scalar function of $X$, so $y \\in \\mathbb{R}$ and $f: \\mathbb{R}^{m \\times n} \\rightarrow \\mathbb{R}$,\n",
    "\n",
    "Also let the matrix $Y = \\{y_{ij}(X) \\}$ be of size $p \\times q$.\n",
    "\n",
    "Then we can define the **derivative of $Y$ with respect to $X$** as the following matrix of order $mp \\times nq$:\n",
    "\n",
    "$$\n",
    "\\Large\n",
    "\\frac{\\partial Y}{\\partial X}\n",
    "= \\begin{pmatrix}\n",
    "   \\frac{\\partial Y}{\\partial x_{11}} & \\frac{\\partial Y}{\\partial x_{12}} & ... & \\frac{\\partial Y}{\\partial x_{1n}} \\\\\n",
    "   \\frac{\\partial Y}{\\partial x_{21}} & \\frac{\\partial Y}{\\partial x_{22}} & ... & \\frac{\\partial Y}{\\partial x_{23}} \\\\\n",
    "   \\vdots & \\vdots & & \\vdots \\\\\n",
    "   \\frac{\\partial Y}{\\partial x_{m1}} & \\frac{\\partial Y}{\\partial x_{m2}} & ... & \\frac{\\partial Y}{\\partial x_{mn}} \\\\\n",
    "\\end{pmatrix}\n",
    "= \\Bigg\\{ \\frac{\\partial y_{ij}}{\\partial x_{lk}} \\Bigg\\}\n",
    "$$"
   ]
  },
  {
   "cell_type": "code",
   "execution_count": null,
   "metadata": {
    "lines_to_next_cell": 0,
    "title": "codecell"
   },
   "outputs": [],
   "source": [
    "# GOT IT this is the definition of gradient matrix (matrix of partial derivatives or dY/dX)\n",
    "D = derive_by_array(Y, X); D"
   ]
  },
  {
   "cell_type": "code",
   "execution_count": null,
   "metadata": {
    "lines_to_next_cell": 0,
    "title": "codecell"
   },
   "outputs": [],
   "source": [
    "D.subs({Y[0,0]: X[0,0]**2 + X[1,0]}).doit()"
   ]
  },
  {
   "cell_type": "code",
   "execution_count": null,
   "metadata": {
    "title": "codecell"
   },
   "outputs": [],
   "source": [
    "Y.diff(X) ## GOT IT\n",
    "\n"
   ]
  },
  {
   "cell_type": "code",
   "execution_count": null,
   "metadata": {
    "lines_to_next_cell": 0,
    "title": "codecell"
   },
   "outputs": [],
   "source": [
    "Yval = Y.subs({Y[0,0]: X[0,0]**2 + X[0,1]*X[1,0] - X[1,1],\n",
    "        Y[0,1]: X[1,1]**3 + 4* X[0,1] + X[0,0] - X[1,0],\n",
    "        Y[1,0]: X[1,0] * X[0,0] + 3*X[0,1] * X[1,1],\n",
    "        Y[1,1]: X[1,1] + X[1,0] + X[0,1] + X[0,0],\n",
    "        Y[2,0]: 2*X[0,0]**2 * X[0,1] * 3*X[1,0] + 4*X[1,1],\n",
    "        Y[2,1]: 3*X[0,1] - 5*X[1,1] * X[0,0] - X[1,0]**2})\n",
    "\n",
    "Yval"
   ]
  },
  {
   "cell_type": "code",
   "execution_count": null,
   "metadata": {
    "lines_to_next_cell": 0,
    "title": "codecell"
   },
   "outputs": [],
   "source": [
    "DYval = D.subs({Y[0,0]: X[0,0]**2 + X[0,1]*X[1,0] - X[1,1],\n",
    "        Y[0,1]: X[1,1]**3 + 4* X[0,1] + X[0,0] - X[1,0],\n",
    "        Y[1,0]: X[1,0] * X[0,0] + 3*X[0,1] * X[1,1],\n",
    "        Y[1,1]: X[1,1] + X[1,0] + X[0,1] + X[0,0],\n",
    "        Y[2,0]: 2*X[0,0]**2 * X[0,1] * 3*X[1,0] + 4*X[1,1],\n",
    "        Y[2,1]: 3*X[0,1] - 5*X[1,1] * X[0,0] - X[1,0]**2})\n",
    "DYval"
   ]
  },
  {
   "cell_type": "code",
   "execution_count": null,
   "metadata": {
    "title": "codecell"
   },
   "outputs": [],
   "source": [
    "DYval.doit()\n",
    "\n",
    "\n"
   ]
  },
  {
   "cell_type": "code",
   "execution_count": null,
   "metadata": {
    "lines_to_next_cell": 0,
    "title": "codecell"
   },
   "outputs": [],
   "source": [
    "# ### GOAL: testing the A kronecker B rule for diff of Y = AXB\n",
    "from sympy import Lambda\n",
    "l, m, n, q = 3, 5, 4, 2\n",
    "\n",
    "A = Matrix(l, m, lambda i, j: var('a', i, j))\n",
    "X = Matrix(m, n, lambda i, j: var('x', i, j))\n",
    "W = Matrix(n, q, lambda i, j: var('w', i, j))\n",
    "Y = X*W; Y"
   ]
  },
  {
   "cell_type": "code",
   "execution_count": null,
   "metadata": {
    "lines_to_next_cell": 0,
    "title": "codecell"
   },
   "outputs": [],
   "source": [
    "from sympy.matrices import zeros\n",
    "E_12 = zeros(m, n)\n",
    "E_12[1-1,2-1] = 1\n",
    "E_12"
   ]
  },
  {
   "cell_type": "code",
   "execution_count": null,
   "metadata": {
    "lines_to_next_cell": 0,
    "title": "codecell"
   },
   "outputs": [],
   "source": [
    "Y = X*W; Y"
   ]
  },
  {
   "cell_type": "code",
   "execution_count": null,
   "metadata": {
    "lines_to_next_cell": 0,
    "title": "codecell"
   },
   "outputs": [],
   "source": [
    "E_12*W"
   ]
  },
  {
   "cell_type": "code",
   "execution_count": null,
   "metadata": {
    "lines_to_next_cell": 0,
    "title": "codecell"
   },
   "outputs": [],
   "source": [
    "derive_by_array(Y, X[0,1])"
   ]
  },
  {
   "cell_type": "code",
   "execution_count": null,
   "metadata": {
    "title": "codecell"
   },
   "outputs": [],
   "source": [
    "assert Matrix(derive_by_array(Y, X[0,1])) == E_12 * W\n",
    "\n",
    "assert Matrix(derive_by_array(Y, X[0,1])) == Y.diff(X[0,1])"
   ]
  }
 ],
 "metadata": {
  "jupytext": {
   "cell_metadata_filter": "title,-all",
   "main_language": "python",
   "notebook_metadata_filter": "-all"
  }
 },
 "nbformat": 4,
 "nbformat_minor": 4
}
