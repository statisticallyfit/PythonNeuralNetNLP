{
 "cells": [
  {
   "cell_type": "code",
   "execution_count": 1,
   "metadata": {},
   "outputs": [],
   "source": []
  },
  {
   "cell_type": "markdown",
   "execution_count": 1,
   "metadata": {
    "lines_to_next_cell": 0
   },
   "source": [
    "# Review: Derivative of a Matrix with Respect to a Matrix"
   ]
  },
  {
   "cell_type": "code",
   "execution_count": 1,
   "metadata": {
    "execution": {
     "iopub.execute_input": "2020-11-03T08:13:22.034102Z",
     "iopub.status.busy": "2020-11-03T08:13:22.033122Z",
     "iopub.status.idle": "2020-11-03T08:13:22.037935Z",
     "shell.execute_reply": "2020-11-03T08:13:22.038675Z"
    },
    "title": "codecell"
   },
   "outputs": [],
   "source": [
    "import sys\n",
    "import os\n",
    "\n",
    "PATH: str = '/development/projects/statisticallyfit/github/learningmathstat/PythonNeuralNetNLP'\n",
    "\n",
    "NEURALNET_PATH: str = PATH + '/src/MatrixCalculusStudy'\n",
    "\n",
    "sys.path.append(PATH)\n",
    "sys.path.append(NEURALNET_PATH)"
   ]
  },
  {
   "cell_type": "code",
   "execution_count": 2,
   "metadata": {
    "execution": {
     "iopub.execute_input": "2020-11-03T08:13:22.045773Z",
     "iopub.status.busy": "2020-11-03T08:13:22.044866Z",
     "iopub.status.idle": "2020-11-03T08:13:23.484603Z",
     "shell.execute_reply": "2020-11-03T08:13:23.485728Z"
    },
    "title": "codecell"
   },
   "outputs": [],
   "source": [
    "from src.utils.GeneralUtil import *\n",
    "from src.MatrixCalculusStudy.MatrixDerivLib.symbols import Deriv\n",
    "from src.MatrixCalculusStudy.MatrixDerivLib.diff import diffMatrix\n",
    "from src.MatrixCalculusStudy.MatrixDerivLib.printingLatex import myLatexPrinter\n",
    "\n",
    "from IPython.display import display, Math\n",
    "from sympy.interactive import printing\n",
    "printing.init_printing(use_latex='mathjax', latex_printer= lambda e, **kw: myLatexPrinter.doprint(e))"
   ]
  },
  {
   "cell_type": "code",
   "execution_count": 3,
   "metadata": {
    "execution": {
     "iopub.execute_input": "2020-11-03T08:13:23.490867Z",
     "iopub.status.busy": "2020-11-03T08:13:23.489346Z",
     "iopub.status.idle": "2020-11-03T08:13:23.495763Z",
     "shell.execute_reply": "2020-11-03T08:13:23.496864Z"
    }
   },
   "outputs": [],
   "source": [
    "\n",
    "from sympy import diff, sin, exp, symbols, Function, Matrix, MatrixSymbol, FunctionMatrix, derive_by_array, \\\n",
    "    Derivative, Symbol"
   ]
  },
  {
   "cell_type": "code",
   "execution_count": 4,
   "metadata": {
    "execution": {
     "iopub.execute_input": "2020-11-03T08:13:23.501983Z",
     "iopub.status.busy": "2020-11-03T08:13:23.500535Z",
     "iopub.status.idle": "2020-11-03T08:13:23.522146Z",
     "shell.execute_reply": "2020-11-03T08:13:23.523178Z"
    },
    "lines_to_next_cell": 0
   },
   "outputs": [
    {
     "data": {
      "text/latex": [
       "$\\displaystyle \\left[\\begin{matrix}x_{11} & x_{12} & x_{13}\\\\x_{21} & x_{22} & x_{23}\\\\x_{31} & x_{32} & x_{33}\\end{matrix}\\right]$"
      ],
      "text/plain": [
       "⎡x₁₁  x₁₂  x₁₃⎤\n",
       "⎢             ⎥\n",
       "⎢x₂₁  x₂₂  x₂₃⎥\n",
       "⎢             ⎥\n",
       "⎣x₃₁  x₃₂  x₃₃⎦"
      ]
     },
     "execution_count": 1,
     "metadata": {},
     "output_type": "execute_result"
    }
   ],
   "source": [
    "\n",
    "n,m,p = 3,3,2\n",
    "\n",
    "X = Matrix(n, m, lambda i, j: var_ij('x', i, j))\n",
    "X"
   ]
  },
  {
   "cell_type": "code",
   "execution_count": 5,
   "metadata": {
    "execution": {
     "iopub.execute_input": "2020-11-03T08:13:23.533324Z",
     "iopub.status.busy": "2020-11-03T08:13:23.526371Z",
     "iopub.status.idle": "2020-11-03T08:13:23.540106Z",
     "shell.execute_reply": "2020-11-03T08:13:23.541181Z"
    }
   },
   "outputs": [
    {
     "data": {
      "text/latex": [
       "$\\displaystyle \\left[\\begin{matrix}y_{11} & y_{12}\\\\y_{21} & y_{22}\\\\y_{31} & y_{32}\\end{matrix}\\right]$"
      ],
      "text/plain": [
       "⎡y₁₁  y₁₂⎤\n",
       "⎢        ⎥\n",
       "⎢y₂₁  y₂₂⎥\n",
       "⎢        ⎥\n",
       "⎣y₃₁  y₃₂⎦"
      ]
     },
     "execution_count": 1,
     "metadata": {},
     "output_type": "execute_result"
    }
   ],
   "source": [
    "#Y = MatrixSymbol(Function('y'), 2, 3); Matrix(Y)\n",
    "#M = MatrixSymbol('M',2,2); Matrix(M)\n",
    "#Y = Matrix(m, p, lambda i,j: Function('y_{}{}'.format(i+1,j+1))(X) ); Y\n",
    "\n",
    "Y = Matrix(m, p, lambda i,j:  var_ij('y', i, j))\n",
    "Y"
   ]
  },
  {
   "cell_type": "markdown",
   "execution_count": 6,
   "metadata": {},
   "source": [
    "### Derivative of Matrix With Respect a Matrix\n",
    "Let $X = \\{ x_{ij} \\}$ be a matrix of order $m \\times n$ and let\n",
    "$$\n",
    "y = f(X)\n",
    "$$\n",
    "be a scalar function of $X$, so $y \\in \\mathbb{R}$ and $f: \\mathbb{R}^{m \\times n} \\rightarrow \\mathbb{R}$,\n",
    "\n",
    "Also let the matrix $Y = \\{y_{ij}(X) \\}$ be of size $p \\times q$.\n",
    "\n",
    "Then we can define the **derivative of $Y$ with respect to $X$** as the following matrix of order $mp \\times nq$:\n",
    "\n",
    "$$\n",
    "\\Large\n",
    "\\frac{\\partial Y}{\\partial X}\n",
    "= \\begin{pmatrix}\n",
    "   \\frac{\\partial Y}{\\partial x_{11}} & \\frac{\\partial Y}{\\partial x_{12}} & ... & \\frac{\\partial Y}{\\partial x_{1n}} \\\\\n",
    "   \\frac{\\partial Y}{\\partial x_{21}} & \\frac{\\partial Y}{\\partial x_{22}} & ... & \\frac{\\partial Y}{\\partial x_{23}} \\\\\n",
    "   \\vdots & \\vdots & & \\vdots \\\\\n",
    "   \\frac{\\partial Y}{\\partial x_{m1}} & \\frac{\\partial Y}{\\partial x_{m2}} & ... & \\frac{\\partial Y}{\\partial x_{mn}} \\\\\n",
    "\\end{pmatrix}\n",
    "= \\Bigg\\{ \\frac{\\partial y_{ij}}{\\partial x_{lk}} \\Bigg\\}\n",
    "$$"
   ]
  },
  {
   "cell_type": "code",
   "execution_count": 6,
   "metadata": {
    "execution": {
     "iopub.execute_input": "2020-11-03T08:13:23.546322Z",
     "iopub.status.busy": "2020-11-03T08:13:23.544664Z",
     "iopub.status.idle": "2020-11-03T08:13:23.558431Z",
     "shell.execute_reply": "2020-11-03T08:13:23.559483Z"
    },
    "lines_to_next_cell": 0,
    "title": "codecell"
   },
   "outputs": [
    {
     "data": {
      "text/latex": [
       "$\\displaystyle \\left[\\begin{matrix}y_{11} & y_{12}\\\\y_{21} & y_{22}\\\\y_{31} & y_{32}\\end{matrix}\\right]$"
      ],
      "text/plain": [
       "⎡y₁₁  y₁₂⎤\n",
       "⎢        ⎥\n",
       "⎢y₂₁  y₂₂⎥\n",
       "⎢        ⎥\n",
       "⎣y₃₁  y₃₂⎦"
      ]
     },
     "execution_count": 1,
     "metadata": {},
     "output_type": "execute_result"
    }
   ],
   "source": [
    "Yelem = Matrix(m, p, lambda i, j: var_ij('y', i, j))\n",
    "Yelem"
   ]
  },
  {
   "cell_type": "code",
   "execution_count": 7,
   "metadata": {
    "execution": {
     "iopub.execute_input": "2020-11-03T08:13:23.564152Z",
     "iopub.status.busy": "2020-11-03T08:13:23.562626Z",
     "iopub.status.idle": "2020-11-03T08:13:23.581749Z",
     "shell.execute_reply": "2020-11-03T08:13:23.582772Z"
    },
    "title": "codecell"
   },
   "outputs": [
    {
     "data": {
      "text/latex": [
       "$\\displaystyle \\left[\\begin{matrix}y_{11} & y_{11}\\\\y_{12} & y_{12}\\\\y_{21} & y_{21}\\\\y_{22} & y_{22}\\\\y_{31} & y_{31}\\\\y_{32} & y_{32}\\end{matrix}\\right]$"
      ],
      "text/plain": [
       "⎡y₁₁  y₁₁⎤\n",
       "⎢        ⎥\n",
       "⎢y₁₂  y₁₂⎥\n",
       "⎢        ⎥\n",
       "⎢y₂₁  y₂₁⎥\n",
       "⎢        ⎥\n",
       "⎢y₂₂  y₂₂⎥\n",
       "⎢        ⎥\n",
       "⎢y₃₁  y₃₁⎥\n",
       "⎢        ⎥\n",
       "⎣y₃₂  y₃₂⎦"
      ]
     },
     "execution_count": 1,
     "metadata": {},
     "output_type": "execute_result"
    }
   ],
   "source": [
    "import itertools\n",
    "\n",
    "elemToFuncArgsD = dict(itertools.chain(*[[(Yelem[i, j], Y[i,j]) for j in range(p)] for i in range(m)]))\n",
    "\n",
    "elemToFuncArgs = list(elemToFuncArgsD.items())\n",
    "\n",
    "funcArgsToElemD = {v : k for k, v in elemToFuncArgsD.items()}\n",
    "\n",
    "funcArgsToElem = list(funcArgsToElemD.items())\n",
    "\n",
    "Matrix(funcArgsToElem)"
   ]
  },
  {
   "cell_type": "code",
   "execution_count": 8,
   "metadata": {
    "execution": {
     "iopub.execute_input": "2020-11-03T08:13:23.587635Z",
     "iopub.status.busy": "2020-11-03T08:13:23.586025Z",
     "iopub.status.idle": "2020-11-03T08:13:23.643885Z",
     "shell.execute_reply": "2020-11-03T08:13:23.645192Z"
    }
   },
   "outputs": [
    {
     "data": {
      "text/latex": [
       "$\\displaystyle \\left[\\begin{matrix}\\left[\\begin{matrix}0 & 0\\\\0 & 0\\\\0 & 0\\end{matrix}\\right] & \\left[\\begin{matrix}0 & 0\\\\0 & 0\\\\0 & 0\\end{matrix}\\right] & \\left[\\begin{matrix}0 & 0\\\\0 & 0\\\\0 & 0\\end{matrix}\\right]\\\\\\left[\\begin{matrix}0 & 0\\\\0 & 0\\\\0 & 0\\end{matrix}\\right] & \\left[\\begin{matrix}0 & 0\\\\0 & 0\\\\0 & 0\\end{matrix}\\right] & \\left[\\begin{matrix}0 & 0\\\\0 & 0\\\\0 & 0\\end{matrix}\\right]\\\\\\left[\\begin{matrix}0 & 0\\\\0 & 0\\\\0 & 0\\end{matrix}\\right] & \\left[\\begin{matrix}0 & 0\\\\0 & 0\\\\0 & 0\\end{matrix}\\right] & \\left[\\begin{matrix}0 & 0\\\\0 & 0\\\\0 & 0\\end{matrix}\\right]\\end{matrix}\\right]$"
      ],
      "text/plain": [
       "⎡⎡0  0⎤  ⎡0  0⎤  ⎡0  0⎤⎤\n",
       "⎢⎢    ⎥  ⎢    ⎥  ⎢    ⎥⎥\n",
       "⎢⎢0  0⎥  ⎢0  0⎥  ⎢0  0⎥⎥\n",
       "⎢⎢    ⎥  ⎢    ⎥  ⎢    ⎥⎥\n",
       "⎢⎣0  0⎦  ⎣0  0⎦  ⎣0  0⎦⎥\n",
       "⎢                      ⎥\n",
       "⎢⎡0  0⎤  ⎡0  0⎤  ⎡0  0⎤⎥\n",
       "⎢⎢    ⎥  ⎢    ⎥  ⎢    ⎥⎥\n",
       "⎢⎢0  0⎥  ⎢0  0⎥  ⎢0  0⎥⎥\n",
       "⎢⎢    ⎥  ⎢    ⎥  ⎢    ⎥⎥\n",
       "⎢⎣0  0⎦  ⎣0  0⎦  ⎣0  0⎦⎥\n",
       "⎢                      ⎥\n",
       "⎢⎡0  0⎤  ⎡0  0⎤  ⎡0  0⎤⎥\n",
       "⎢⎢    ⎥  ⎢    ⎥  ⎢    ⎥⎥\n",
       "⎢⎢0  0⎥  ⎢0  0⎥  ⎢0  0⎥⎥\n",
       "⎢⎢    ⎥  ⎢    ⎥  ⎢    ⎥⎥\n",
       "⎣⎣0  0⎦  ⎣0  0⎦  ⎣0  0⎦⎦"
      ]
     },
     "execution_count": 1,
     "metadata": {},
     "output_type": "execute_result"
    }
   ],
   "source": [
    "# GOT IT this is the definition of gradient matrix (matrix of partial derivatives or dY/dX)\n",
    "D = derive_by_array(Y, X)\n",
    "D"
   ]
  },
  {
   "cell_type": "code",
   "execution_count": 9,
   "metadata": {
    "execution": {
     "iopub.execute_input": "2020-11-03T08:13:23.652111Z",
     "iopub.status.busy": "2020-11-03T08:13:23.648578Z",
     "iopub.status.idle": "2020-11-03T08:13:23.698280Z",
     "shell.execute_reply": "2020-11-03T08:13:23.699409Z"
    },
    "lines_to_next_cell": 0,
    "title": "codecell"
   },
   "outputs": [
    {
     "data": {
      "text/latex": [
       "$\\displaystyle \\left[\\begin{matrix}\\left[\\begin{matrix}0 & 0\\\\0 & 0\\\\0 & 0\\end{matrix}\\right] & \\left[\\begin{matrix}0 & 0\\\\0 & 0\\\\0 & 0\\end{matrix}\\right] & \\left[\\begin{matrix}0 & 0\\\\0 & 0\\\\0 & 0\\end{matrix}\\right]\\\\\\left[\\begin{matrix}0 & 0\\\\0 & 0\\\\0 & 0\\end{matrix}\\right] & \\left[\\begin{matrix}0 & 0\\\\0 & 0\\\\0 & 0\\end{matrix}\\right] & \\left[\\begin{matrix}0 & 0\\\\0 & 0\\\\0 & 0\\end{matrix}\\right]\\\\\\left[\\begin{matrix}0 & 0\\\\0 & 0\\\\0 & 0\\end{matrix}\\right] & \\left[\\begin{matrix}0 & 0\\\\0 & 0\\\\0 & 0\\end{matrix}\\right] & \\left[\\begin{matrix}0 & 0\\\\0 & 0\\\\0 & 0\\end{matrix}\\right]\\end{matrix}\\right]$"
      ],
      "text/plain": [
       "⎡⎡0  0⎤  ⎡0  0⎤  ⎡0  0⎤⎤\n",
       "⎢⎢    ⎥  ⎢    ⎥  ⎢    ⎥⎥\n",
       "⎢⎢0  0⎥  ⎢0  0⎥  ⎢0  0⎥⎥\n",
       "⎢⎢    ⎥  ⎢    ⎥  ⎢    ⎥⎥\n",
       "⎢⎣0  0⎦  ⎣0  0⎦  ⎣0  0⎦⎥\n",
       "⎢                      ⎥\n",
       "⎢⎡0  0⎤  ⎡0  0⎤  ⎡0  0⎤⎥\n",
       "⎢⎢    ⎥  ⎢    ⎥  ⎢    ⎥⎥\n",
       "⎢⎢0  0⎥  ⎢0  0⎥  ⎢0  0⎥⎥\n",
       "⎢⎢    ⎥  ⎢    ⎥  ⎢    ⎥⎥\n",
       "⎢⎣0  0⎦  ⎣0  0⎦  ⎣0  0⎦⎥\n",
       "⎢                      ⎥\n",
       "⎢⎡0  0⎤  ⎡0  0⎤  ⎡0  0⎤⎥\n",
       "⎢⎢    ⎥  ⎢    ⎥  ⎢    ⎥⎥\n",
       "⎢⎢0  0⎥  ⎢0  0⎥  ⎢0  0⎥⎥\n",
       "⎢⎢    ⎥  ⎢    ⎥  ⎢    ⎥⎥\n",
       "⎣⎣0  0⎦  ⎣0  0⎦  ⎣0  0⎦⎦"
      ]
     },
     "execution_count": 1,
     "metadata": {},
     "output_type": "execute_result"
    }
   ],
   "source": [
    "#D.subs(funcArgsToElemD)\n",
    "\n",
    "# NOTE using substituion here makes output shorter (don't need to see all those x_ij arguments, just the function name y_ij)\n",
    "D.subs(funcArgsToElemD)"
   ]
  },
  {
   "cell_type": "code",
   "execution_count": 10,
   "metadata": {
    "execution": {
     "iopub.execute_input": "2020-11-03T08:13:23.704729Z",
     "iopub.status.busy": "2020-11-03T08:13:23.703191Z",
     "iopub.status.idle": "2020-11-03T08:13:23.758116Z",
     "shell.execute_reply": "2020-11-03T08:13:23.759178Z"
    },
    "lines_to_next_cell": 0,
    "title": "codecell"
   },
   "outputs": [
    {
     "data": {
      "text/latex": [
       "$\\displaystyle \\left[\\begin{matrix}\\left[\\begin{matrix}0 & 0\\\\0 & 0\\\\0 & 0\\end{matrix}\\right] & \\left[\\begin{matrix}0 & 0\\\\0 & 0\\\\0 & 0\\end{matrix}\\right] & \\left[\\begin{matrix}0 & 0\\\\0 & 0\\\\0 & 0\\end{matrix}\\right]\\\\\\left[\\begin{matrix}0 & 0\\\\0 & 0\\\\0 & 0\\end{matrix}\\right] & \\left[\\begin{matrix}0 & 0\\\\0 & 0\\\\0 & 0\\end{matrix}\\right] & \\left[\\begin{matrix}0 & 0\\\\0 & 0\\\\0 & 0\\end{matrix}\\right]\\\\\\left[\\begin{matrix}0 & 0\\\\0 & 0\\\\0 & 0\\end{matrix}\\right] & \\left[\\begin{matrix}0 & 0\\\\0 & 0\\\\0 & 0\\end{matrix}\\right] & \\left[\\begin{matrix}0 & 0\\\\0 & 0\\\\0 & 0\\end{matrix}\\right]\\end{matrix}\\right]$"
      ],
      "text/plain": [
       "⎡⎡0  0⎤  ⎡0  0⎤  ⎡0  0⎤⎤\n",
       "⎢⎢    ⎥  ⎢    ⎥  ⎢    ⎥⎥\n",
       "⎢⎢0  0⎥  ⎢0  0⎥  ⎢0  0⎥⎥\n",
       "⎢⎢    ⎥  ⎢    ⎥  ⎢    ⎥⎥\n",
       "⎢⎣0  0⎦  ⎣0  0⎦  ⎣0  0⎦⎥\n",
       "⎢                      ⎥\n",
       "⎢⎡0  0⎤  ⎡0  0⎤  ⎡0  0⎤⎥\n",
       "⎢⎢    ⎥  ⎢    ⎥  ⎢    ⎥⎥\n",
       "⎢⎢0  0⎥  ⎢0  0⎥  ⎢0  0⎥⎥\n",
       "⎢⎢    ⎥  ⎢    ⎥  ⎢    ⎥⎥\n",
       "⎢⎣0  0⎦  ⎣0  0⎦  ⎣0  0⎦⎥\n",
       "⎢                      ⎥\n",
       "⎢⎡0  0⎤  ⎡0  0⎤  ⎡0  0⎤⎥\n",
       "⎢⎢    ⎥  ⎢    ⎥  ⎢    ⎥⎥\n",
       "⎢⎢0  0⎥  ⎢0  0⎥  ⎢0  0⎥⎥\n",
       "⎢⎢    ⎥  ⎢    ⎥  ⎢    ⎥⎥\n",
       "⎣⎣0  0⎦  ⎣0  0⎦  ⎣0  0⎦⎦"
      ]
     },
     "execution_count": 1,
     "metadata": {},
     "output_type": "execute_result"
    }
   ],
   "source": [
    "\n",
    "# NOTE: interesting: the partial derivative symbol changes to simple 'd' when substituting the y_ij without arguments ... so sympy recognizes it is not differentiating a multivar_ijiable functino anymore.\n",
    "D.replace(Y[0,0], Yelem[0,0])"
   ]
  },
  {
   "cell_type": "code",
   "execution_count": 11,
   "metadata": {
    "execution": {
     "iopub.execute_input": "2020-11-03T08:13:23.763956Z",
     "iopub.status.busy": "2020-11-03T08:13:23.762456Z",
     "iopub.status.idle": "2020-11-03T08:13:23.774175Z",
     "shell.execute_reply": "2020-11-03T08:13:23.775212Z"
    },
    "lines_to_next_cell": 0,
    "title": "codecell"
   },
   "outputs": [
    {
     "data": {
      "text/latex": [
       "$\\displaystyle 0$"
      ],
      "text/plain": [
       "0"
      ]
     },
     "execution_count": 1,
     "metadata": {},
     "output_type": "execute_result"
    }
   ],
   "source": [
    "D[0,0][0,0].subs(Y[0,0], Yelem[0,0])"
   ]
  },
  {
   "cell_type": "code",
   "execution_count": 12,
   "metadata": {
    "execution": {
     "iopub.execute_input": "2020-11-03T08:13:23.780052Z",
     "iopub.status.busy": "2020-11-03T08:13:23.778566Z",
     "iopub.status.idle": "2020-11-03T08:13:23.788732Z",
     "shell.execute_reply": "2020-11-03T08:13:23.789756Z"
    },
    "lines_to_next_cell": 0,
    "title": "codecell"
   },
   "outputs": [
    {
     "data": {
      "text/latex": [
       "$\\displaystyle \\frac{d}{d x_{11}} y_{11}$"
      ],
      "text/plain": [
       " d       \n",
       "────(y₁₁)\n",
       "dx₁₁     "
      ]
     },
     "execution_count": 1,
     "metadata": {},
     "output_type": "execute_result"
    }
   ],
   "source": [
    "Derivative(Yelem[0,0], X[0,0])"
   ]
  },
  {
   "cell_type": "code",
   "execution_count": 13,
   "metadata": {
    "execution": {
     "iopub.execute_input": "2020-11-03T08:13:23.794564Z",
     "iopub.status.busy": "2020-11-03T08:13:23.792943Z",
     "iopub.status.idle": "2020-11-03T08:13:23.850795Z",
     "shell.execute_reply": "2020-11-03T08:13:23.851854Z"
    },
    "lines_to_next_cell": 0,
    "title": "codecell"
   },
   "outputs": [
    {
     "data": {
      "text/latex": [
       "$\\displaystyle \\left[\\begin{matrix}\\left[\\begin{matrix}0 & 0\\\\0 & 0\\\\0 & 0\\end{matrix}\\right] & \\left[\\begin{matrix}0 & 0\\\\0 & 0\\\\0 & 0\\end{matrix}\\right] & \\left[\\begin{matrix}0 & 0\\\\0 & 0\\\\0 & 0\\end{matrix}\\right]\\\\\\left[\\begin{matrix}0 & 0\\\\0 & 0\\\\0 & 0\\end{matrix}\\right] & \\left[\\begin{matrix}0 & 0\\\\0 & 0\\\\0 & 0\\end{matrix}\\right] & \\left[\\begin{matrix}0 & 0\\\\0 & 0\\\\0 & 0\\end{matrix}\\right]\\\\\\left[\\begin{matrix}0 & 0\\\\0 & 0\\\\0 & 0\\end{matrix}\\right] & \\left[\\begin{matrix}0 & 0\\\\0 & 0\\\\0 & 0\\end{matrix}\\right] & \\left[\\begin{matrix}0 & 0\\\\0 & 0\\\\0 & 0\\end{matrix}\\right]\\end{matrix}\\right]$"
      ],
      "text/plain": [
       "⎡⎡0  0⎤  ⎡0  0⎤  ⎡0  0⎤⎤\n",
       "⎢⎢    ⎥  ⎢    ⎥  ⎢    ⎥⎥\n",
       "⎢⎢0  0⎥  ⎢0  0⎥  ⎢0  0⎥⎥\n",
       "⎢⎢    ⎥  ⎢    ⎥  ⎢    ⎥⎥\n",
       "⎢⎣0  0⎦  ⎣0  0⎦  ⎣0  0⎦⎥\n",
       "⎢                      ⎥\n",
       "⎢⎡0  0⎤  ⎡0  0⎤  ⎡0  0⎤⎥\n",
       "⎢⎢    ⎥  ⎢    ⎥  ⎢    ⎥⎥\n",
       "⎢⎢0  0⎥  ⎢0  0⎥  ⎢0  0⎥⎥\n",
       "⎢⎢    ⎥  ⎢    ⎥  ⎢    ⎥⎥\n",
       "⎢⎣0  0⎦  ⎣0  0⎦  ⎣0  0⎦⎥\n",
       "⎢                      ⎥\n",
       "⎢⎡0  0⎤  ⎡0  0⎤  ⎡0  0⎤⎥\n",
       "⎢⎢    ⎥  ⎢    ⎥  ⎢    ⎥⎥\n",
       "⎢⎢0  0⎥  ⎢0  0⎥  ⎢0  0⎥⎥\n",
       "⎢⎢    ⎥  ⎢    ⎥  ⎢    ⎥⎥\n",
       "⎣⎣0  0⎦  ⎣0  0⎦  ⎣0  0⎦⎦"
      ]
     },
     "execution_count": 1,
     "metadata": {},
     "output_type": "execute_result"
    }
   ],
   "source": [
    "Derivative(Y, X).doit()"
   ]
  },
  {
   "cell_type": "code",
   "execution_count": 14,
   "metadata": {
    "execution": {
     "iopub.execute_input": "2020-11-03T08:13:23.856873Z",
     "iopub.status.busy": "2020-11-03T08:13:23.855334Z",
     "iopub.status.idle": "2020-11-03T08:13:23.910026Z",
     "shell.execute_reply": "2020-11-03T08:13:23.911075Z"
    },
    "title": "codecell"
   },
   "outputs": [
    {
     "data": {
      "text/latex": [
       "$\\displaystyle \\left[\\begin{matrix}\\left[\\begin{matrix}0 & 0\\\\0 & 0\\\\0 & 0\\end{matrix}\\right] & \\left[\\begin{matrix}0 & 0\\\\0 & 0\\\\0 & 0\\end{matrix}\\right] & \\left[\\begin{matrix}0 & 0\\\\0 & 0\\\\0 & 0\\end{matrix}\\right]\\\\\\left[\\begin{matrix}0 & 0\\\\0 & 0\\\\0 & 0\\end{matrix}\\right] & \\left[\\begin{matrix}0 & 0\\\\0 & 0\\\\0 & 0\\end{matrix}\\right] & \\left[\\begin{matrix}0 & 0\\\\0 & 0\\\\0 & 0\\end{matrix}\\right]\\\\\\left[\\begin{matrix}0 & 0\\\\0 & 0\\\\0 & 0\\end{matrix}\\right] & \\left[\\begin{matrix}0 & 0\\\\0 & 0\\\\0 & 0\\end{matrix}\\right] & \\left[\\begin{matrix}0 & 0\\\\0 & 0\\\\0 & 0\\end{matrix}\\right]\\end{matrix}\\right]$"
      ],
      "text/plain": [
       "⎡⎡0  0⎤  ⎡0  0⎤  ⎡0  0⎤⎤\n",
       "⎢⎢    ⎥  ⎢    ⎥  ⎢    ⎥⎥\n",
       "⎢⎢0  0⎥  ⎢0  0⎥  ⎢0  0⎥⎥\n",
       "⎢⎢    ⎥  ⎢    ⎥  ⎢    ⎥⎥\n",
       "⎢⎣0  0⎦  ⎣0  0⎦  ⎣0  0⎦⎥\n",
       "⎢                      ⎥\n",
       "⎢⎡0  0⎤  ⎡0  0⎤  ⎡0  0⎤⎥\n",
       "⎢⎢    ⎥  ⎢    ⎥  ⎢    ⎥⎥\n",
       "⎢⎢0  0⎥  ⎢0  0⎥  ⎢0  0⎥⎥\n",
       "⎢⎢    ⎥  ⎢    ⎥  ⎢    ⎥⎥\n",
       "⎢⎣0  0⎦  ⎣0  0⎦  ⎣0  0⎦⎥\n",
       "⎢                      ⎥\n",
       "⎢⎡0  0⎤  ⎡0  0⎤  ⎡0  0⎤⎥\n",
       "⎢⎢    ⎥  ⎢    ⎥  ⎢    ⎥⎥\n",
       "⎢⎢0  0⎥  ⎢0  0⎥  ⎢0  0⎥⎥\n",
       "⎢⎢    ⎥  ⎢    ⎥  ⎢    ⎥⎥\n",
       "⎣⎣0  0⎦  ⎣0  0⎦  ⎣0  0⎦⎦"
      ]
     },
     "execution_count": 1,
     "metadata": {},
     "output_type": "execute_result"
    }
   ],
   "source": [
    "D.subs({Y[0,0]: X[0,0]**2 + X[1,0]}).doit()"
   ]
  },
  {
   "cell_type": "code",
   "execution_count": 15,
   "metadata": {
    "execution": {
     "iopub.execute_input": "2020-11-03T08:13:23.915868Z",
     "iopub.status.busy": "2020-11-03T08:13:23.914343Z",
     "iopub.status.idle": "2020-11-03T08:13:23.979693Z",
     "shell.execute_reply": "2020-11-03T08:13:23.980778Z"
    },
    "title": "codecell"
   },
   "outputs": [
    {
     "data": {
      "text/latex": [
       "$\\displaystyle \\left[\\begin{matrix}\\left[\\begin{matrix}0 & 0\\\\0 & 0\\\\0 & 0\\end{matrix}\\right] & \\left[\\begin{matrix}0 & 0\\\\0 & 0\\\\0 & 0\\end{matrix}\\right] & \\left[\\begin{matrix}0 & 0\\\\0 & 0\\\\0 & 0\\end{matrix}\\right]\\\\\\left[\\begin{matrix}0 & 0\\\\0 & 0\\\\0 & 0\\end{matrix}\\right] & \\left[\\begin{matrix}0 & 0\\\\0 & 0\\\\0 & 0\\end{matrix}\\right] & \\left[\\begin{matrix}0 & 0\\\\0 & 0\\\\0 & 0\\end{matrix}\\right]\\\\\\left[\\begin{matrix}0 & 0\\\\0 & 0\\\\0 & 0\\end{matrix}\\right] & \\left[\\begin{matrix}0 & 0\\\\0 & 0\\\\0 & 0\\end{matrix}\\right] & \\left[\\begin{matrix}0 & 0\\\\0 & 0\\\\0 & 0\\end{matrix}\\right]\\end{matrix}\\right]$"
      ],
      "text/plain": [
       "⎡⎡0  0⎤  ⎡0  0⎤  ⎡0  0⎤⎤\n",
       "⎢⎢    ⎥  ⎢    ⎥  ⎢    ⎥⎥\n",
       "⎢⎢0  0⎥  ⎢0  0⎥  ⎢0  0⎥⎥\n",
       "⎢⎢    ⎥  ⎢    ⎥  ⎢    ⎥⎥\n",
       "⎢⎣0  0⎦  ⎣0  0⎦  ⎣0  0⎦⎥\n",
       "⎢                      ⎥\n",
       "⎢⎡0  0⎤  ⎡0  0⎤  ⎡0  0⎤⎥\n",
       "⎢⎢    ⎥  ⎢    ⎥  ⎢    ⎥⎥\n",
       "⎢⎢0  0⎥  ⎢0  0⎥  ⎢0  0⎥⎥\n",
       "⎢⎢    ⎥  ⎢    ⎥  ⎢    ⎥⎥\n",
       "⎢⎣0  0⎦  ⎣0  0⎦  ⎣0  0⎦⎥\n",
       "⎢                      ⎥\n",
       "⎢⎡0  0⎤  ⎡0  0⎤  ⎡0  0⎤⎥\n",
       "⎢⎢    ⎥  ⎢    ⎥  ⎢    ⎥⎥\n",
       "⎢⎢0  0⎥  ⎢0  0⎥  ⎢0  0⎥⎥\n",
       "⎢⎢    ⎥  ⎢    ⎥  ⎢    ⎥⎥\n",
       "⎣⎣0  0⎦  ⎣0  0⎦  ⎣0  0⎦⎦"
      ]
     },
     "execution_count": 1,
     "metadata": {},
     "output_type": "execute_result"
    }
   ],
   "source": [
    "Y.diff(X) ## GOT IT\n",
    "\n"
   ]
  },
  {
   "cell_type": "code",
   "execution_count": 16,
   "metadata": {
    "execution": {
     "iopub.execute_input": "2020-11-03T08:13:23.985723Z",
     "iopub.status.busy": "2020-11-03T08:13:23.984202Z",
     "iopub.status.idle": "2020-11-03T08:13:24.063161Z",
     "shell.execute_reply": "2020-11-03T08:13:24.064260Z"
    },
    "title": "codecell"
   },
   "outputs": [
    {
     "data": {
      "text/latex": [
       "$\\displaystyle \\left[\\begin{matrix}x_{11}^{2} + x_{12} x_{21} - x_{22} & x_{11} + 4 x_{12} - x_{21} + x_{22}^{3}\\\\x_{11} x_{21} + 3 x_{12} x_{22} & x_{11} + x_{12} + x_{21} + x_{22}\\\\6 x_{11}^{2} x_{12} x_{21} + 4 x_{22} & - 5 x_{11} x_{22} + 3 x_{12} - x_{21}^{2}\\end{matrix}\\right]$"
      ],
      "text/plain": [
       "⎡    2                                          3 ⎤\n",
       "⎢ x₁₁  + x₁₂⋅x₂₁ - x₂₂   x₁₁ + 4⋅x₁₂ - x₂₁ + x₂₂  ⎥\n",
       "⎢                                                 ⎥\n",
       "⎢ x₁₁⋅x₂₁ + 3⋅x₁₂⋅x₂₂      x₁₁ + x₁₂ + x₂₁ + x₂₂  ⎥\n",
       "⎢                                                 ⎥\n",
       "⎢     2                                          2⎥\n",
       "⎣6⋅x₁₁ ⋅x₁₂⋅x₂₁ + 4⋅x₂₂  -5⋅x₁₁⋅x₂₂ + 3⋅x₁₂ - x₂₁ ⎦"
      ]
     },
     "execution_count": 1,
     "metadata": {},
     "output_type": "execute_result"
    }
   ],
   "source": [
    "Yval = Y.subs({Y[0,0]: X[0,0]**2 + X[0,1]*X[1,0] - X[1,1],\n",
    "        Y[0,1]: X[1,1]**3 + 4* X[0,1] + X[0,0] - X[1,0],\n",
    "        Y[1,0]: X[1,0] * X[0,0] + 3*X[0,1] * X[1,1],\n",
    "        Y[1,1]: X[1,1] + X[1,0] + X[0,1] + X[0,0],\n",
    "        Y[2,0]: 2*X[0,0]**2 * X[0,1] * 3*X[1,0] + 4*X[1,1],\n",
    "        Y[2,1]: 3*X[0,1] - 5*X[1,1] * X[0,0] - X[1,0]**2})\n",
    "\n",
    "Yval"
   ]
  },
  {
   "cell_type": "code",
   "execution_count": 17,
   "metadata": {
    "execution": {
     "iopub.execute_input": "2020-11-03T08:13:24.069342Z",
     "iopub.status.busy": "2020-11-03T08:13:24.067791Z",
     "iopub.status.idle": "2020-11-03T08:13:24.142405Z",
     "shell.execute_reply": "2020-11-03T08:13:24.143469Z"
    },
    "lines_to_next_cell": 0,
    "title": "codecell"
   },
   "outputs": [
    {
     "data": {
      "text/latex": [
       "$\\displaystyle \\left[\\begin{matrix}\\left[\\begin{matrix}0 & 0\\\\0 & 0\\\\0 & 0\\end{matrix}\\right] & \\left[\\begin{matrix}0 & 0\\\\0 & 0\\\\0 & 0\\end{matrix}\\right] & \\left[\\begin{matrix}0 & 0\\\\0 & 0\\\\0 & 0\\end{matrix}\\right]\\\\\\left[\\begin{matrix}0 & 0\\\\0 & 0\\\\0 & 0\\end{matrix}\\right] & \\left[\\begin{matrix}0 & 0\\\\0 & 0\\\\0 & 0\\end{matrix}\\right] & \\left[\\begin{matrix}0 & 0\\\\0 & 0\\\\0 & 0\\end{matrix}\\right]\\\\\\left[\\begin{matrix}0 & 0\\\\0 & 0\\\\0 & 0\\end{matrix}\\right] & \\left[\\begin{matrix}0 & 0\\\\0 & 0\\\\0 & 0\\end{matrix}\\right] & \\left[\\begin{matrix}0 & 0\\\\0 & 0\\\\0 & 0\\end{matrix}\\right]\\end{matrix}\\right]$"
      ],
      "text/plain": [
       "⎡⎡0  0⎤  ⎡0  0⎤  ⎡0  0⎤⎤\n",
       "⎢⎢    ⎥  ⎢    ⎥  ⎢    ⎥⎥\n",
       "⎢⎢0  0⎥  ⎢0  0⎥  ⎢0  0⎥⎥\n",
       "⎢⎢    ⎥  ⎢    ⎥  ⎢    ⎥⎥\n",
       "⎢⎣0  0⎦  ⎣0  0⎦  ⎣0  0⎦⎥\n",
       "⎢                      ⎥\n",
       "⎢⎡0  0⎤  ⎡0  0⎤  ⎡0  0⎤⎥\n",
       "⎢⎢    ⎥  ⎢    ⎥  ⎢    ⎥⎥\n",
       "⎢⎢0  0⎥  ⎢0  0⎥  ⎢0  0⎥⎥\n",
       "⎢⎢    ⎥  ⎢    ⎥  ⎢    ⎥⎥\n",
       "⎢⎣0  0⎦  ⎣0  0⎦  ⎣0  0⎦⎥\n",
       "⎢                      ⎥\n",
       "⎢⎡0  0⎤  ⎡0  0⎤  ⎡0  0⎤⎥\n",
       "⎢⎢    ⎥  ⎢    ⎥  ⎢    ⎥⎥\n",
       "⎢⎢0  0⎥  ⎢0  0⎥  ⎢0  0⎥⎥\n",
       "⎢⎢    ⎥  ⎢    ⎥  ⎢    ⎥⎥\n",
       "⎣⎣0  0⎦  ⎣0  0⎦  ⎣0  0⎦⎦"
      ]
     },
     "execution_count": 1,
     "metadata": {},
     "output_type": "execute_result"
    }
   ],
   "source": [
    "DYval = D.subs({Y[0,0]: X[0,0]**2 + X[0,1]*X[1,0] - X[1,1],\n",
    "        Y[0,1]: X[1,1]**3 + 4* X[0,1] + X[0,0] - X[1,0],\n",
    "        Y[1,0]: X[1,0] * X[0,0] + 3*X[0,1] * X[1,1],\n",
    "        Y[1,1]: X[1,1] + X[1,0] + X[0,1] + X[0,0],\n",
    "        Y[2,0]: 2*X[0,0]**2 * X[0,1] * 3*X[1,0] + 4*X[1,1],\n",
    "        Y[2,1]: 3*X[0,1] - 5*X[1,1] * X[0,0] - X[1,0]**2})\n",
    "DYval"
   ]
  },
  {
   "cell_type": "code",
   "execution_count": 18,
   "metadata": {
    "execution": {
     "iopub.execute_input": "2020-11-03T08:13:24.148852Z",
     "iopub.status.busy": "2020-11-03T08:13:24.147172Z",
     "iopub.status.idle": "2020-11-03T08:13:24.196861Z",
     "shell.execute_reply": "2020-11-03T08:13:24.198280Z"
    },
    "title": "codecell"
   },
   "outputs": [
    {
     "data": {
      "text/latex": [
       "$\\displaystyle \\left[\\begin{matrix}\\left[\\begin{matrix}0 & 0\\\\0 & 0\\\\0 & 0\\end{matrix}\\right] & \\left[\\begin{matrix}0 & 0\\\\0 & 0\\\\0 & 0\\end{matrix}\\right] & \\left[\\begin{matrix}0 & 0\\\\0 & 0\\\\0 & 0\\end{matrix}\\right]\\\\\\left[\\begin{matrix}0 & 0\\\\0 & 0\\\\0 & 0\\end{matrix}\\right] & \\left[\\begin{matrix}0 & 0\\\\0 & 0\\\\0 & 0\\end{matrix}\\right] & \\left[\\begin{matrix}0 & 0\\\\0 & 0\\\\0 & 0\\end{matrix}\\right]\\\\\\left[\\begin{matrix}0 & 0\\\\0 & 0\\\\0 & 0\\end{matrix}\\right] & \\left[\\begin{matrix}0 & 0\\\\0 & 0\\\\0 & 0\\end{matrix}\\right] & \\left[\\begin{matrix}0 & 0\\\\0 & 0\\\\0 & 0\\end{matrix}\\right]\\end{matrix}\\right]$"
      ],
      "text/plain": [
       "⎡⎡0  0⎤  ⎡0  0⎤  ⎡0  0⎤⎤\n",
       "⎢⎢    ⎥  ⎢    ⎥  ⎢    ⎥⎥\n",
       "⎢⎢0  0⎥  ⎢0  0⎥  ⎢0  0⎥⎥\n",
       "⎢⎢    ⎥  ⎢    ⎥  ⎢    ⎥⎥\n",
       "⎢⎣0  0⎦  ⎣0  0⎦  ⎣0  0⎦⎥\n",
       "⎢                      ⎥\n",
       "⎢⎡0  0⎤  ⎡0  0⎤  ⎡0  0⎤⎥\n",
       "⎢⎢    ⎥  ⎢    ⎥  ⎢    ⎥⎥\n",
       "⎢⎢0  0⎥  ⎢0  0⎥  ⎢0  0⎥⎥\n",
       "⎢⎢    ⎥  ⎢    ⎥  ⎢    ⎥⎥\n",
       "⎢⎣0  0⎦  ⎣0  0⎦  ⎣0  0⎦⎥\n",
       "⎢                      ⎥\n",
       "⎢⎡0  0⎤  ⎡0  0⎤  ⎡0  0⎤⎥\n",
       "⎢⎢    ⎥  ⎢    ⎥  ⎢    ⎥⎥\n",
       "⎢⎢0  0⎥  ⎢0  0⎥  ⎢0  0⎥⎥\n",
       "⎢⎢    ⎥  ⎢    ⎥  ⎢    ⎥⎥\n",
       "⎣⎣0  0⎦  ⎣0  0⎦  ⎣0  0⎦⎦"
      ]
     },
     "execution_count": 1,
     "metadata": {},
     "output_type": "execute_result"
    }
   ],
   "source": [
    "DYval.doit()\n",
    "\n",
    "\n"
   ]
  },
  {
   "cell_type": "code",
   "execution_count": 19,
   "metadata": {
    "execution": {
     "iopub.execute_input": "2020-11-03T08:13:24.203042Z",
     "iopub.status.busy": "2020-11-03T08:13:24.201542Z",
     "iopub.status.idle": "2020-11-03T08:13:24.293043Z",
     "shell.execute_reply": "2020-11-03T08:13:24.294134Z"
    },
    "lines_to_next_cell": 2,
    "title": "codecell"
   },
   "outputs": [
    {
     "data": {
      "text/latex": [
       "$\\displaystyle \\left[\\begin{matrix}w_{11} x_{11} + w_{21} x_{12} + w_{31} x_{13} + w_{41} x_{14} & w_{12} x_{11} + w_{22} x_{12} + w_{32} x_{13} + w_{42} x_{14}\\\\w_{11} x_{21} + w_{21} x_{22} + w_{31} x_{23} + w_{41} x_{24} & w_{12} x_{21} + w_{22} x_{22} + w_{32} x_{23} + w_{42} x_{24}\\\\w_{11} x_{31} + w_{21} x_{32} + w_{31} x_{33} + w_{41} x_{34} & w_{12} x_{31} + w_{22} x_{32} + w_{32} x_{33} + w_{42} x_{34}\\\\w_{11} x_{41} + w_{21} x_{42} + w_{31} x_{43} + w_{41} x_{44} & w_{12} x_{41} + w_{22} x_{42} + w_{32} x_{43} + w_{42} x_{44}\\\\w_{11} x_{51} + w_{21} x_{52} + w_{31} x_{53} + w_{41} x_{54} & w_{12} x_{51} + w_{22} x_{52} + w_{32} x_{53} + w_{42} x_{54}\\end{matrix}\\right]$"
      ],
      "text/plain": [
       "⎡w₁₁⋅x₁₁ + w₂₁⋅x₁₂ + w₃₁⋅x₁₃ + w₄₁⋅x₁₄  w₁₂⋅x₁₁ + w₂₂⋅x₁₂ + w₃₂⋅x₁₃ + w₄₂⋅x₁₄⎤\n",
       "⎢                                                                            ⎥\n",
       "⎢w₁₁⋅x₂₁ + w₂₁⋅x₂₂ + w₃₁⋅x₂₃ + w₄₁⋅x₂₄  w₁₂⋅x₂₁ + w₂₂⋅x₂₂ + w₃₂⋅x₂₃ + w₄₂⋅x₂₄⎥\n",
       "⎢                                                                            ⎥\n",
       "⎢w₁₁⋅x₃₁ + w₂₁⋅x₃₂ + w₃₁⋅x₃₃ + w₄₁⋅x₃₄  w₁₂⋅x₃₁ + w₂₂⋅x₃₂ + w₃₂⋅x₃₃ + w₄₂⋅x₃₄⎥\n",
       "⎢                                                                            ⎥\n",
       "⎢w₁₁⋅x₄₁ + w₂₁⋅x₄₂ + w₃₁⋅x₄₃ + w₄₁⋅x₄₄  w₁₂⋅x₄₁ + w₂₂⋅x₄₂ + w₃₂⋅x₄₃ + w₄₂⋅x₄₄⎥\n",
       "⎢                                                                            ⎥\n",
       "⎣w₁₁⋅x₅₁ + w₂₁⋅x₅₂ + w₃₁⋅x₅₃ + w₄₁⋅x₅₄  w₁₂⋅x₅₁ + w₂₂⋅x₅₂ + w₃₂⋅x₅₃ + w₄₂⋅x₅₄⎦"
      ]
     },
     "execution_count": 1,
     "metadata": {},
     "output_type": "execute_result"
    }
   ],
   "source": [
    "# ### GOAL: testing the A kronecker B rule for diff of Y = AXB\n",
    "from sympy import Lambda\n",
    "l, m, n, q = 3, 5, 4, 2\n",
    "\n",
    "A = Matrix(l, m, lambda i, j: var_ij('a', i, j))\n",
    "X = Matrix(m, n, lambda i, j: var_ij('x', i, j))\n",
    "W = Matrix(n, q, lambda i, j: var_ij('w', i, j))\n",
    "Y = X*W\n",
    "\n",
    "Y"
   ]
  },
  {
   "cell_type": "code",
   "execution_count": 20,
   "metadata": {
    "execution": {
     "iopub.execute_input": "2020-11-03T08:13:24.299680Z",
     "iopub.status.busy": "2020-11-03T08:13:24.298108Z",
     "iopub.status.idle": "2020-11-03T08:13:24.315449Z",
     "shell.execute_reply": "2020-11-03T08:13:24.317369Z"
    },
    "title": "codecell"
   },
   "outputs": [
    {
     "data": {
      "text/latex": [
       "$\\displaystyle \\left[\\begin{matrix}0 & 1 & 0 & 0\\\\0 & 0 & 0 & 0\\\\0 & 0 & 0 & 0\\\\0 & 0 & 0 & 0\\\\0 & 0 & 0 & 0\\end{matrix}\\right]$"
      ],
      "text/plain": [
       "⎡0  1  0  0⎤\n",
       "⎢          ⎥\n",
       "⎢0  0  0  0⎥\n",
       "⎢          ⎥\n",
       "⎢0  0  0  0⎥\n",
       "⎢          ⎥\n",
       "⎢0  0  0  0⎥\n",
       "⎢          ⎥\n",
       "⎣0  0  0  0⎦"
      ]
     },
     "execution_count": 1,
     "metadata": {},
     "output_type": "execute_result"
    }
   ],
   "source": [
    "from sympy.matrices import zeros\n",
    "\n",
    "E_12 = zeros(m, n)\n",
    "E_12[1-1,2-1] = 1\n",
    "E_12"
   ]
  },
  {
   "cell_type": "code",
   "execution_count": 21,
   "metadata": {
    "execution": {
     "iopub.execute_input": "2020-11-03T08:13:24.322071Z",
     "iopub.status.busy": "2020-11-03T08:13:24.320587Z",
     "iopub.status.idle": "2020-11-03T08:13:24.340776Z",
     "shell.execute_reply": "2020-11-03T08:13:24.341835Z"
    },
    "title": "codecell"
   },
   "outputs": [
    {
     "data": {
      "text/latex": [
       "$\\displaystyle \\left[\\begin{matrix}w_{21} & w_{22}\\\\0 & 0\\\\0 & 0\\\\0 & 0\\\\0 & 0\\end{matrix}\\right]$"
      ],
      "text/plain": [
       "⎡w₂₁  w₂₂⎤\n",
       "⎢        ⎥\n",
       "⎢ 0    0 ⎥\n",
       "⎢        ⎥\n",
       "⎢ 0    0 ⎥\n",
       "⎢        ⎥\n",
       "⎢ 0    0 ⎥\n",
       "⎢        ⎥\n",
       "⎣ 0    0 ⎦"
      ]
     },
     "execution_count": 1,
     "metadata": {},
     "output_type": "execute_result"
    }
   ],
   "source": [
    "E_12*W"
   ]
  },
  {
   "cell_type": "code",
   "execution_count": 22,
   "metadata": {
    "execution": {
     "iopub.execute_input": "2020-11-03T08:13:24.346901Z",
     "iopub.status.busy": "2020-11-03T08:13:24.345448Z",
     "iopub.status.idle": "2020-11-03T08:13:24.369872Z",
     "shell.execute_reply": "2020-11-03T08:13:24.370921Z"
    },
    "title": "codecell"
   },
   "outputs": [
    {
     "data": {
      "text/latex": [
       "$\\displaystyle \\left[\\begin{matrix}w_{21} & w_{22}\\\\0 & 0\\\\0 & 0\\\\0 & 0\\\\0 & 0\\end{matrix}\\right]$"
      ],
      "text/plain": [
       "⎡w₂₁  w₂₂⎤\n",
       "⎢        ⎥\n",
       "⎢ 0    0 ⎥\n",
       "⎢        ⎥\n",
       "⎢ 0    0 ⎥\n",
       "⎢        ⎥\n",
       "⎢ 0    0 ⎥\n",
       "⎢        ⎥\n",
       "⎣ 0    0 ⎦"
      ]
     },
     "execution_count": 1,
     "metadata": {},
     "output_type": "execute_result"
    }
   ],
   "source": [
    "derive_by_array(Y, X[0,1])"
   ]
  },
  {
   "cell_type": "code",
   "execution_count": 23,
   "metadata": {
    "execution": {
     "iopub.execute_input": "2020-11-03T08:13:24.375664Z",
     "iopub.status.busy": "2020-11-03T08:13:24.374193Z",
     "iopub.status.idle": "2020-11-03T08:13:24.401978Z",
     "shell.execute_reply": "2020-11-03T08:13:24.403027Z"
    },
    "title": "codecell"
   },
   "outputs": [],
   "source": [
    "assert Matrix(derive_by_array(Y, X[0,1])) == E_12 * W\n",
    "\n",
    "assert Matrix(derive_by_array(Y, X[0,1])) == Y.diff(X[0,1])"
   ]
  },
  {
   "cell_type": "code",
   "execution_count": 24,
   "metadata": {},
   "outputs": [],
   "source": []
  }
 ],
 "metadata": {
  "jupytext": {
   "cell_metadata_filter": "title,-all"
  },
  "kernelspec": {
   "display_name": "pymatrix_env",
   "language": "python",
   "name": "pymatrix_env"
  },
  "language_info": {
   "codemirror_mode": {
    "name": "ipython",
    "version": 3
   },
   "file_extension": ".py",
   "mimetype": "text/x-python",
   "name": "python",
   "nbconvert_exporter": "python",
   "pygments_lexer": "ipython3",
   "version": "3.7.8"
  }
 },
 "nbformat": 4,
 "nbformat_minor": 4
}
