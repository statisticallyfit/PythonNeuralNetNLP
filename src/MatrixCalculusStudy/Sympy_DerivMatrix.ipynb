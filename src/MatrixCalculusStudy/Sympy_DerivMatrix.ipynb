{
 "cells": [
  {
   "cell_type": "code",
   "execution_count": 1,
   "metadata": {},
   "outputs": [],
   "source": []
  },
  {
   "cell_type": "code",
   "execution_count": 1,
   "metadata": {
    "execution": {
     "iopub.execute_input": "2020-10-04T18:59:09.841128Z",
     "iopub.status.busy": "2020-10-04T18:59:09.840117Z",
     "iopub.status.idle": "2020-10-04T18:59:10.635783Z",
     "shell.execute_reply": "2020-10-04T18:59:10.637118Z"
    },
    "lines_to_next_cell": 0,
    "title": "codecell"
   },
   "outputs": [
    {
     "data": {
      "text/latex": [
       "$\\displaystyle \\left[\\begin{matrix}x_{11} & x_{12} & x_{13}\\\\x_{21} & x_{22} & x_{23}\\\\x_{31} & x_{32} & x_{33}\\end{matrix}\\right]$"
      ],
      "text/plain": [
       "Matrix([\n",
       "[x_11, x_12, x_13],\n",
       "[x_21, x_22, x_23],\n",
       "[x_31, x_32, x_33]])"
      ]
     },
     "execution_count": 1,
     "metadata": {},
     "output_type": "execute_result"
    }
   ],
   "source": [
    "from sympy import diff, sin, exp, symbols, Function, Matrix, MatrixSymbol, FunctionMatrix, derive_by_array\n",
    "\n",
    "\n",
    "from sympy import Symbol\n",
    "\n",
    "\n",
    "def var(letter: str, i: int, j: int) -> Symbol:\n",
    "     letter_ij = Symbol('{}_{}{}'.format(letter, i+1, j+1), is_commutative=True)\n",
    "     return letter_ij\n",
    "\n",
    "def func(i, j):\n",
    "     y_ij = Function('y_{}{}'.format(i+1,j+1))(*X)\n",
    "     return y_ij\n",
    "\n",
    "\n",
    "n,m,p = 3,3,2\n",
    "\n",
    "X = Matrix(n, m, lambda i, j: var('x', i, j)); X"
   ]
  },
  {
   "cell_type": "code",
   "execution_count": 2,
   "metadata": {
    "execution": {
     "iopub.execute_input": "2020-10-04T18:59:10.644485Z",
     "iopub.status.busy": "2020-10-04T18:59:10.641255Z",
     "iopub.status.idle": "2020-10-04T18:59:10.665856Z",
     "shell.execute_reply": "2020-10-04T18:59:10.667043Z"
    },
    "title": "codecell"
   },
   "outputs": [
    {
     "data": {
      "text/latex": [
       "$\\displaystyle \\left[\\begin{matrix}\\operatorname{y_{11}}{\\left(x_{11},x_{12},x_{13},x_{21},x_{22},x_{23},x_{31},x_{32},x_{33} \\right)} & \\operatorname{y_{12}}{\\left(x_{11},x_{12},x_{13},x_{21},x_{22},x_{23},x_{31},x_{32},x_{33} \\right)}\\\\\\operatorname{y_{21}}{\\left(x_{11},x_{12},x_{13},x_{21},x_{22},x_{23},x_{31},x_{32},x_{33} \\right)} & \\operatorname{y_{22}}{\\left(x_{11},x_{12},x_{13},x_{21},x_{22},x_{23},x_{31},x_{32},x_{33} \\right)}\\\\\\operatorname{y_{31}}{\\left(x_{11},x_{12},x_{13},x_{21},x_{22},x_{23},x_{31},x_{32},x_{33} \\right)} & \\operatorname{y_{32}}{\\left(x_{11},x_{12},x_{13},x_{21},x_{22},x_{23},x_{31},x_{32},x_{33} \\right)}\\end{matrix}\\right]$"
      ],
      "text/plain": [
       "Matrix([\n",
       "[y_11(x_11, x_12, x_13, x_21, x_22, x_23, x_31, x_32, x_33), y_12(x_11, x_12, x_13, x_21, x_22, x_23, x_31, x_32, x_33)],\n",
       "[y_21(x_11, x_12, x_13, x_21, x_22, x_23, x_31, x_32, x_33), y_22(x_11, x_12, x_13, x_21, x_22, x_23, x_31, x_32, x_33)],\n",
       "[y_31(x_11, x_12, x_13, x_21, x_22, x_23, x_31, x_32, x_33), y_32(x_11, x_12, x_13, x_21, x_22, x_23, x_31, x_32, x_33)]])"
      ]
     },
     "execution_count": 1,
     "metadata": {},
     "output_type": "execute_result"
    }
   ],
   "source": [
    "#Y = MatrixSymbol(Function('y'), 2, 3); Matrix(Y)\n",
    "#M = MatrixSymbol('M',2,2); Matrix(M)\n",
    "#Y = Matrix(m, p, lambda i,j: Function('y_{}{}'.format(i+1,j+1))(X) ); Y\n",
    "\n",
    "Y = Matrix(m, p, lambda i,j:  func(i, j)); Y\n",
    "\n"
   ]
  },
  {
   "cell_type": "markdown",
   "execution_count": 3,
   "metadata": {
    "title": "markdown"
   },
   "source": [
    "### Derivative of Matrix With Respect a Matrix\n",
    "Let $X = \\{ x_{ij} \\}$ be a matrix of order $m \\times n$ and let\n",
    "$$\n",
    "y = f(X)\n",
    "$$\n",
    "be a scalar function of $X$, so $y \\in \\mathbb{R}$ and $f: \\mathbb{R}^{m \\times n} \\rightarrow \\mathbb{R}$,\n",
    "\n",
    "Also let the matrix $Y = \\{y_{ij}(X) \\}$ be of size $p \\times q$.\n",
    "\n",
    "Then we can define the **derivative of $Y$ with respect to $X$** as the following matrix of order $mp \\times nq$:\n",
    "\n",
    "$$\n",
    "\\Large\n",
    "\\frac{\\partial Y}{\\partial X}\n",
    "= \\begin{pmatrix}\n",
    "   \\frac{\\partial Y}{\\partial x_{11}} & \\frac{\\partial Y}{\\partial x_{12}} & ... & \\frac{\\partial Y}{\\partial x_{1n}} \\\\\n",
    "   \\frac{\\partial Y}{\\partial x_{21}} & \\frac{\\partial Y}{\\partial x_{22}} & ... & \\frac{\\partial Y}{\\partial x_{23}} \\\\\n",
    "   \\vdots & \\vdots & & \\vdots \\\\\n",
    "   \\frac{\\partial Y}{\\partial x_{m1}} & \\frac{\\partial Y}{\\partial x_{m2}} & ... & \\frac{\\partial Y}{\\partial x_{mn}} \\\\\n",
    "\\end{pmatrix}\n",
    "= \\Bigg\\{ \\frac{\\partial y_{ij}}{\\partial x_{lk}} \\Bigg\\}\n",
    "$$"
   ]
  },
  {
   "cell_type": "code",
   "execution_count": 3,
   "metadata": {
    "execution": {
     "iopub.execute_input": "2020-10-04T18:59:10.673037Z",
     "iopub.status.busy": "2020-10-04T18:59:10.671264Z",
     "iopub.status.idle": "2020-10-04T18:59:10.911013Z",
     "shell.execute_reply": "2020-10-04T18:59:10.912568Z"
    },
    "lines_to_next_cell": 0,
    "title": "codecell"
   },
   "outputs": [
    {
     "data": {
      "text/latex": [
       "$\\displaystyle \\left[\\begin{matrix}\\left[\\begin{matrix}\\frac{\\partial}{\\partial x_{11}} \\operatorname{y_{11}}{\\left(x_{11},x_{12},x_{13},x_{21},x_{22},x_{23},x_{31},x_{32},x_{33} \\right)} & \\frac{\\partial}{\\partial x_{11}} \\operatorname{y_{12}}{\\left(x_{11},x_{12},x_{13},x_{21},x_{22},x_{23},x_{31},x_{32},x_{33} \\right)}\\\\\\frac{\\partial}{\\partial x_{11}} \\operatorname{y_{21}}{\\left(x_{11},x_{12},x_{13},x_{21},x_{22},x_{23},x_{31},x_{32},x_{33} \\right)} & \\frac{\\partial}{\\partial x_{11}} \\operatorname{y_{22}}{\\left(x_{11},x_{12},x_{13},x_{21},x_{22},x_{23},x_{31},x_{32},x_{33} \\right)}\\\\\\frac{\\partial}{\\partial x_{11}} \\operatorname{y_{31}}{\\left(x_{11},x_{12},x_{13},x_{21},x_{22},x_{23},x_{31},x_{32},x_{33} \\right)} & \\frac{\\partial}{\\partial x_{11}} \\operatorname{y_{32}}{\\left(x_{11},x_{12},x_{13},x_{21},x_{22},x_{23},x_{31},x_{32},x_{33} \\right)}\\end{matrix}\\right] & \\left[\\begin{matrix}\\frac{\\partial}{\\partial x_{12}} \\operatorname{y_{11}}{\\left(x_{11},x_{12},x_{13},x_{21},x_{22},x_{23},x_{31},x_{32},x_{33} \\right)} & \\frac{\\partial}{\\partial x_{12}} \\operatorname{y_{12}}{\\left(x_{11},x_{12},x_{13},x_{21},x_{22},x_{23},x_{31},x_{32},x_{33} \\right)}\\\\\\frac{\\partial}{\\partial x_{12}} \\operatorname{y_{21}}{\\left(x_{11},x_{12},x_{13},x_{21},x_{22},x_{23},x_{31},x_{32},x_{33} \\right)} & \\frac{\\partial}{\\partial x_{12}} \\operatorname{y_{22}}{\\left(x_{11},x_{12},x_{13},x_{21},x_{22},x_{23},x_{31},x_{32},x_{33} \\right)}\\\\\\frac{\\partial}{\\partial x_{12}} \\operatorname{y_{31}}{\\left(x_{11},x_{12},x_{13},x_{21},x_{22},x_{23},x_{31},x_{32},x_{33} \\right)} & \\frac{\\partial}{\\partial x_{12}} \\operatorname{y_{32}}{\\left(x_{11},x_{12},x_{13},x_{21},x_{22},x_{23},x_{31},x_{32},x_{33} \\right)}\\end{matrix}\\right] & \\left[\\begin{matrix}\\frac{\\partial}{\\partial x_{13}} \\operatorname{y_{11}}{\\left(x_{11},x_{12},x_{13},x_{21},x_{22},x_{23},x_{31},x_{32},x_{33} \\right)} & \\frac{\\partial}{\\partial x_{13}} \\operatorname{y_{12}}{\\left(x_{11},x_{12},x_{13},x_{21},x_{22},x_{23},x_{31},x_{32},x_{33} \\right)}\\\\\\frac{\\partial}{\\partial x_{13}} \\operatorname{y_{21}}{\\left(x_{11},x_{12},x_{13},x_{21},x_{22},x_{23},x_{31},x_{32},x_{33} \\right)} & \\frac{\\partial}{\\partial x_{13}} \\operatorname{y_{22}}{\\left(x_{11},x_{12},x_{13},x_{21},x_{22},x_{23},x_{31},x_{32},x_{33} \\right)}\\\\\\frac{\\partial}{\\partial x_{13}} \\operatorname{y_{31}}{\\left(x_{11},x_{12},x_{13},x_{21},x_{22},x_{23},x_{31},x_{32},x_{33} \\right)} & \\frac{\\partial}{\\partial x_{13}} \\operatorname{y_{32}}{\\left(x_{11},x_{12},x_{13},x_{21},x_{22},x_{23},x_{31},x_{32},x_{33} \\right)}\\end{matrix}\\right]\\\\\\left[\\begin{matrix}\\frac{\\partial}{\\partial x_{21}} \\operatorname{y_{11}}{\\left(x_{11},x_{12},x_{13},x_{21},x_{22},x_{23},x_{31},x_{32},x_{33} \\right)} & \\frac{\\partial}{\\partial x_{21}} \\operatorname{y_{12}}{\\left(x_{11},x_{12},x_{13},x_{21},x_{22},x_{23},x_{31},x_{32},x_{33} \\right)}\\\\\\frac{\\partial}{\\partial x_{21}} \\operatorname{y_{21}}{\\left(x_{11},x_{12},x_{13},x_{21},x_{22},x_{23},x_{31},x_{32},x_{33} \\right)} & \\frac{\\partial}{\\partial x_{21}} \\operatorname{y_{22}}{\\left(x_{11},x_{12},x_{13},x_{21},x_{22},x_{23},x_{31},x_{32},x_{33} \\right)}\\\\\\frac{\\partial}{\\partial x_{21}} \\operatorname{y_{31}}{\\left(x_{11},x_{12},x_{13},x_{21},x_{22},x_{23},x_{31},x_{32},x_{33} \\right)} & \\frac{\\partial}{\\partial x_{21}} \\operatorname{y_{32}}{\\left(x_{11},x_{12},x_{13},x_{21},x_{22},x_{23},x_{31},x_{32},x_{33} \\right)}\\end{matrix}\\right] & \\left[\\begin{matrix}\\frac{\\partial}{\\partial x_{22}} \\operatorname{y_{11}}{\\left(x_{11},x_{12},x_{13},x_{21},x_{22},x_{23},x_{31},x_{32},x_{33} \\right)} & \\frac{\\partial}{\\partial x_{22}} \\operatorname{y_{12}}{\\left(x_{11},x_{12},x_{13},x_{21},x_{22},x_{23},x_{31},x_{32},x_{33} \\right)}\\\\\\frac{\\partial}{\\partial x_{22}} \\operatorname{y_{21}}{\\left(x_{11},x_{12},x_{13},x_{21},x_{22},x_{23},x_{31},x_{32},x_{33} \\right)} & \\frac{\\partial}{\\partial x_{22}} \\operatorname{y_{22}}{\\left(x_{11},x_{12},x_{13},x_{21},x_{22},x_{23},x_{31},x_{32},x_{33} \\right)}\\\\\\frac{\\partial}{\\partial x_{22}} \\operatorname{y_{31}}{\\left(x_{11},x_{12},x_{13},x_{21},x_{22},x_{23},x_{31},x_{32},x_{33} \\right)} & \\frac{\\partial}{\\partial x_{22}} \\operatorname{y_{32}}{\\left(x_{11},x_{12},x_{13},x_{21},x_{22},x_{23},x_{31},x_{32},x_{33} \\right)}\\end{matrix}\\right] & \\left[\\begin{matrix}\\frac{\\partial}{\\partial x_{23}} \\operatorname{y_{11}}{\\left(x_{11},x_{12},x_{13},x_{21},x_{22},x_{23},x_{31},x_{32},x_{33} \\right)} & \\frac{\\partial}{\\partial x_{23}} \\operatorname{y_{12}}{\\left(x_{11},x_{12},x_{13},x_{21},x_{22},x_{23},x_{31},x_{32},x_{33} \\right)}\\\\\\frac{\\partial}{\\partial x_{23}} \\operatorname{y_{21}}{\\left(x_{11},x_{12},x_{13},x_{21},x_{22},x_{23},x_{31},x_{32},x_{33} \\right)} & \\frac{\\partial}{\\partial x_{23}} \\operatorname{y_{22}}{\\left(x_{11},x_{12},x_{13},x_{21},x_{22},x_{23},x_{31},x_{32},x_{33} \\right)}\\\\\\frac{\\partial}{\\partial x_{23}} \\operatorname{y_{31}}{\\left(x_{11},x_{12},x_{13},x_{21},x_{22},x_{23},x_{31},x_{32},x_{33} \\right)} & \\frac{\\partial}{\\partial x_{23}} \\operatorname{y_{32}}{\\left(x_{11},x_{12},x_{13},x_{21},x_{22},x_{23},x_{31},x_{32},x_{33} \\right)}\\end{matrix}\\right]\\\\\\left[\\begin{matrix}\\frac{\\partial}{\\partial x_{31}} \\operatorname{y_{11}}{\\left(x_{11},x_{12},x_{13},x_{21},x_{22},x_{23},x_{31},x_{32},x_{33} \\right)} & \\frac{\\partial}{\\partial x_{31}} \\operatorname{y_{12}}{\\left(x_{11},x_{12},x_{13},x_{21},x_{22},x_{23},x_{31},x_{32},x_{33} \\right)}\\\\\\frac{\\partial}{\\partial x_{31}} \\operatorname{y_{21}}{\\left(x_{11},x_{12},x_{13},x_{21},x_{22},x_{23},x_{31},x_{32},x_{33} \\right)} & \\frac{\\partial}{\\partial x_{31}} \\operatorname{y_{22}}{\\left(x_{11},x_{12},x_{13},x_{21},x_{22},x_{23},x_{31},x_{32},x_{33} \\right)}\\\\\\frac{\\partial}{\\partial x_{31}} \\operatorname{y_{31}}{\\left(x_{11},x_{12},x_{13},x_{21},x_{22},x_{23},x_{31},x_{32},x_{33} \\right)} & \\frac{\\partial}{\\partial x_{31}} \\operatorname{y_{32}}{\\left(x_{11},x_{12},x_{13},x_{21},x_{22},x_{23},x_{31},x_{32},x_{33} \\right)}\\end{matrix}\\right] & \\left[\\begin{matrix}\\frac{\\partial}{\\partial x_{32}} \\operatorname{y_{11}}{\\left(x_{11},x_{12},x_{13},x_{21},x_{22},x_{23},x_{31},x_{32},x_{33} \\right)} & \\frac{\\partial}{\\partial x_{32}} \\operatorname{y_{12}}{\\left(x_{11},x_{12},x_{13},x_{21},x_{22},x_{23},x_{31},x_{32},x_{33} \\right)}\\\\\\frac{\\partial}{\\partial x_{32}} \\operatorname{y_{21}}{\\left(x_{11},x_{12},x_{13},x_{21},x_{22},x_{23},x_{31},x_{32},x_{33} \\right)} & \\frac{\\partial}{\\partial x_{32}} \\operatorname{y_{22}}{\\left(x_{11},x_{12},x_{13},x_{21},x_{22},x_{23},x_{31},x_{32},x_{33} \\right)}\\\\\\frac{\\partial}{\\partial x_{32}} \\operatorname{y_{31}}{\\left(x_{11},x_{12},x_{13},x_{21},x_{22},x_{23},x_{31},x_{32},x_{33} \\right)} & \\frac{\\partial}{\\partial x_{32}} \\operatorname{y_{32}}{\\left(x_{11},x_{12},x_{13},x_{21},x_{22},x_{23},x_{31},x_{32},x_{33} \\right)}\\end{matrix}\\right] & \\left[\\begin{matrix}\\frac{\\partial}{\\partial x_{33}} \\operatorname{y_{11}}{\\left(x_{11},x_{12},x_{13},x_{21},x_{22},x_{23},x_{31},x_{32},x_{33} \\right)} & \\frac{\\partial}{\\partial x_{33}} \\operatorname{y_{12}}{\\left(x_{11},x_{12},x_{13},x_{21},x_{22},x_{23},x_{31},x_{32},x_{33} \\right)}\\\\\\frac{\\partial}{\\partial x_{33}} \\operatorname{y_{21}}{\\left(x_{11},x_{12},x_{13},x_{21},x_{22},x_{23},x_{31},x_{32},x_{33} \\right)} & \\frac{\\partial}{\\partial x_{33}} \\operatorname{y_{22}}{\\left(x_{11},x_{12},x_{13},x_{21},x_{22},x_{23},x_{31},x_{32},x_{33} \\right)}\\\\\\frac{\\partial}{\\partial x_{33}} \\operatorname{y_{31}}{\\left(x_{11},x_{12},x_{13},x_{21},x_{22},x_{23},x_{31},x_{32},x_{33} \\right)} & \\frac{\\partial}{\\partial x_{33}} \\operatorname{y_{32}}{\\left(x_{11},x_{12},x_{13},x_{21},x_{22},x_{23},x_{31},x_{32},x_{33} \\right)}\\end{matrix}\\right]\\end{matrix}\\right]$"
      ],
      "text/plain": [
       "[[[[Derivative(y_11(x_11, x_12, x_13, x_21, x_22, x_23, x_31, x_32, x_33), x_11), Derivative(y_12(x_11, x_12, x_13, x_21, x_22, x_23, x_31, x_32, x_33), x_11)], [Derivative(y_21(x_11, x_12, x_13, x_21, x_22, x_23, x_31, x_32, x_33), x_11), Derivative(y_22(x_11, x_12, x_13, x_21, x_22, x_23, x_31, x_32, x_33), x_11)], [Derivative(y_31(x_11, x_12, x_13, x_21, x_22, x_23, x_31, x_32, x_33), x_11), Derivative(y_32(x_11, x_12, x_13, x_21, x_22, x_23, x_31, x_32, x_33), x_11)]], [[Derivative(y_11(x_11, x_12, x_13, x_21, x_22, x_23, x_31, x_32, x_33), x_12), Derivative(y_12(x_11, x_12, x_13, x_21, x_22, x_23, x_31, x_32, x_33), x_12)], [Derivative(y_21(x_11, x_12, x_13, x_21, x_22, x_23, x_31, x_32, x_33), x_12), Derivative(y_22(x_11, x_12, x_13, x_21, x_22, x_23, x_31, x_32, x_33), x_12)], [Derivative(y_31(x_11, x_12, x_13, x_21, x_22, x_23, x_31, x_32, x_33), x_12), Derivative(y_32(x_11, x_12, x_13, x_21, x_22, x_23, x_31, x_32, x_33), x_12)]], [[Derivative(y_11(x_11, x_12, x_13, x_21, x_22, x_23, x_31, x_32, x_33), x_13), Derivative(y_12(x_11, x_12, x_13, x_21, x_22, x_23, x_31, x_32, x_33), x_13)], [Derivative(y_21(x_11, x_12, x_13, x_21, x_22, x_23, x_31, x_32, x_33), x_13), Derivative(y_22(x_11, x_12, x_13, x_21, x_22, x_23, x_31, x_32, x_33), x_13)], [Derivative(y_31(x_11, x_12, x_13, x_21, x_22, x_23, x_31, x_32, x_33), x_13), Derivative(y_32(x_11, x_12, x_13, x_21, x_22, x_23, x_31, x_32, x_33), x_13)]]], [[[Derivative(y_11(x_11, x_12, x_13, x_21, x_22, x_23, x_31, x_32, x_33), x_21), Derivative(y_12(x_11, x_12, x_13, x_21, x_22, x_23, x_31, x_32, x_33), x_21)], [Derivative(y_21(x_11, x_12, x_13, x_21, x_22, x_23, x_31, x_32, x_33), x_21), Derivative(y_22(x_11, x_12, x_13, x_21, x_22, x_23, x_31, x_32, x_33), x_21)], [Derivative(y_31(x_11, x_12, x_13, x_21, x_22, x_23, x_31, x_32, x_33), x_21), Derivative(y_32(x_11, x_12, x_13, x_21, x_22, x_23, x_31, x_32, x_33), x_21)]], [[Derivative(y_11(x_11, x_12, x_13, x_21, x_22, x_23, x_31, x_32, x_33), x_22), Derivative(y_12(x_11, x_12, x_13, x_21, x_22, x_23, x_31, x_32, x_33), x_22)], [Derivative(y_21(x_11, x_12, x_13, x_21, x_22, x_23, x_31, x_32, x_33), x_22), Derivative(y_22(x_11, x_12, x_13, x_21, x_22, x_23, x_31, x_32, x_33), x_22)], [Derivative(y_31(x_11, x_12, x_13, x_21, x_22, x_23, x_31, x_32, x_33), x_22), Derivative(y_32(x_11, x_12, x_13, x_21, x_22, x_23, x_31, x_32, x_33), x_22)]], [[Derivative(y_11(x_11, x_12, x_13, x_21, x_22, x_23, x_31, x_32, x_33), x_23), Derivative(y_12(x_11, x_12, x_13, x_21, x_22, x_23, x_31, x_32, x_33), x_23)], [Derivative(y_21(x_11, x_12, x_13, x_21, x_22, x_23, x_31, x_32, x_33), x_23), Derivative(y_22(x_11, x_12, x_13, x_21, x_22, x_23, x_31, x_32, x_33), x_23)], [Derivative(y_31(x_11, x_12, x_13, x_21, x_22, x_23, x_31, x_32, x_33), x_23), Derivative(y_32(x_11, x_12, x_13, x_21, x_22, x_23, x_31, x_32, x_33), x_23)]]], [[[Derivative(y_11(x_11, x_12, x_13, x_21, x_22, x_23, x_31, x_32, x_33), x_31), Derivative(y_12(x_11, x_12, x_13, x_21, x_22, x_23, x_31, x_32, x_33), x_31)], [Derivative(y_21(x_11, x_12, x_13, x_21, x_22, x_23, x_31, x_32, x_33), x_31), Derivative(y_22(x_11, x_12, x_13, x_21, x_22, x_23, x_31, x_32, x_33), x_31)], [Derivative(y_31(x_11, x_12, x_13, x_21, x_22, x_23, x_31, x_32, x_33), x_31), Derivative(y_32(x_11, x_12, x_13, x_21, x_22, x_23, x_31, x_32, x_33), x_31)]], [[Derivative(y_11(x_11, x_12, x_13, x_21, x_22, x_23, x_31, x_32, x_33), x_32), Derivative(y_12(x_11, x_12, x_13, x_21, x_22, x_23, x_31, x_32, x_33), x_32)], [Derivative(y_21(x_11, x_12, x_13, x_21, x_22, x_23, x_31, x_32, x_33), x_32), Derivative(y_22(x_11, x_12, x_13, x_21, x_22, x_23, x_31, x_32, x_33), x_32)], [Derivative(y_31(x_11, x_12, x_13, x_21, x_22, x_23, x_31, x_32, x_33), x_32), Derivative(y_32(x_11, x_12, x_13, x_21, x_22, x_23, x_31, x_32, x_33), x_32)]], [[Derivative(y_11(x_11, x_12, x_13, x_21, x_22, x_23, x_31, x_32, x_33), x_33), Derivative(y_12(x_11, x_12, x_13, x_21, x_22, x_23, x_31, x_32, x_33), x_33)], [Derivative(y_21(x_11, x_12, x_13, x_21, x_22, x_23, x_31, x_32, x_33), x_33), Derivative(y_22(x_11, x_12, x_13, x_21, x_22, x_23, x_31, x_32, x_33), x_33)], [Derivative(y_31(x_11, x_12, x_13, x_21, x_22, x_23, x_31, x_32, x_33), x_33), Derivative(y_32(x_11, x_12, x_13, x_21, x_22, x_23, x_31, x_32, x_33), x_33)]]]]"
      ]
     },
     "execution_count": 1,
     "metadata": {},
     "output_type": "execute_result"
    }
   ],
   "source": [
    "# GOT IT this is the definition of gradient matrix (matrix of partial derivatives or dY/dX)\n",
    "D = derive_by_array(Y, X); D"
   ]
  },
  {
   "cell_type": "code",
   "execution_count": 4,
   "metadata": {
    "execution": {
     "iopub.execute_input": "2020-10-04T18:59:10.919824Z",
     "iopub.status.busy": "2020-10-04T18:59:10.916025Z",
     "iopub.status.idle": "2020-10-04T18:59:11.930928Z",
     "shell.execute_reply": "2020-10-04T18:59:11.932123Z"
    },
    "lines_to_next_cell": 0,
    "title": "codecell"
   },
   "outputs": [
    {
     "data": {
      "text/latex": [
       "$\\displaystyle \\left[\\begin{matrix}\\left[\\begin{matrix}2 x_{11} & \\frac{\\partial}{\\partial x_{11}} \\operatorname{y_{12}}{\\left(x_{11},x_{12},x_{13},x_{21},x_{22},x_{23},x_{31},x_{32},x_{33} \\right)}\\\\\\frac{\\partial}{\\partial x_{11}} \\operatorname{y_{21}}{\\left(x_{11},x_{12},x_{13},x_{21},x_{22},x_{23},x_{31},x_{32},x_{33} \\right)} & \\frac{\\partial}{\\partial x_{11}} \\operatorname{y_{22}}{\\left(x_{11},x_{12},x_{13},x_{21},x_{22},x_{23},x_{31},x_{32},x_{33} \\right)}\\\\\\frac{\\partial}{\\partial x_{11}} \\operatorname{y_{31}}{\\left(x_{11},x_{12},x_{13},x_{21},x_{22},x_{23},x_{31},x_{32},x_{33} \\right)} & \\frac{\\partial}{\\partial x_{11}} \\operatorname{y_{32}}{\\left(x_{11},x_{12},x_{13},x_{21},x_{22},x_{23},x_{31},x_{32},x_{33} \\right)}\\end{matrix}\\right] & \\left[\\begin{matrix}0 & \\frac{\\partial}{\\partial x_{12}} \\operatorname{y_{12}}{\\left(x_{11},x_{12},x_{13},x_{21},x_{22},x_{23},x_{31},x_{32},x_{33} \\right)}\\\\\\frac{\\partial}{\\partial x_{12}} \\operatorname{y_{21}}{\\left(x_{11},x_{12},x_{13},x_{21},x_{22},x_{23},x_{31},x_{32},x_{33} \\right)} & \\frac{\\partial}{\\partial x_{12}} \\operatorname{y_{22}}{\\left(x_{11},x_{12},x_{13},x_{21},x_{22},x_{23},x_{31},x_{32},x_{33} \\right)}\\\\\\frac{\\partial}{\\partial x_{12}} \\operatorname{y_{31}}{\\left(x_{11},x_{12},x_{13},x_{21},x_{22},x_{23},x_{31},x_{32},x_{33} \\right)} & \\frac{\\partial}{\\partial x_{12}} \\operatorname{y_{32}}{\\left(x_{11},x_{12},x_{13},x_{21},x_{22},x_{23},x_{31},x_{32},x_{33} \\right)}\\end{matrix}\\right] & \\left[\\begin{matrix}0 & \\frac{\\partial}{\\partial x_{13}} \\operatorname{y_{12}}{\\left(x_{11},x_{12},x_{13},x_{21},x_{22},x_{23},x_{31},x_{32},x_{33} \\right)}\\\\\\frac{\\partial}{\\partial x_{13}} \\operatorname{y_{21}}{\\left(x_{11},x_{12},x_{13},x_{21},x_{22},x_{23},x_{31},x_{32},x_{33} \\right)} & \\frac{\\partial}{\\partial x_{13}} \\operatorname{y_{22}}{\\left(x_{11},x_{12},x_{13},x_{21},x_{22},x_{23},x_{31},x_{32},x_{33} \\right)}\\\\\\frac{\\partial}{\\partial x_{13}} \\operatorname{y_{31}}{\\left(x_{11},x_{12},x_{13},x_{21},x_{22},x_{23},x_{31},x_{32},x_{33} \\right)} & \\frac{\\partial}{\\partial x_{13}} \\operatorname{y_{32}}{\\left(x_{11},x_{12},x_{13},x_{21},x_{22},x_{23},x_{31},x_{32},x_{33} \\right)}\\end{matrix}\\right]\\\\\\left[\\begin{matrix}1 & \\frac{\\partial}{\\partial x_{21}} \\operatorname{y_{12}}{\\left(x_{11},x_{12},x_{13},x_{21},x_{22},x_{23},x_{31},x_{32},x_{33} \\right)}\\\\\\frac{\\partial}{\\partial x_{21}} \\operatorname{y_{21}}{\\left(x_{11},x_{12},x_{13},x_{21},x_{22},x_{23},x_{31},x_{32},x_{33} \\right)} & \\frac{\\partial}{\\partial x_{21}} \\operatorname{y_{22}}{\\left(x_{11},x_{12},x_{13},x_{21},x_{22},x_{23},x_{31},x_{32},x_{33} \\right)}\\\\\\frac{\\partial}{\\partial x_{21}} \\operatorname{y_{31}}{\\left(x_{11},x_{12},x_{13},x_{21},x_{22},x_{23},x_{31},x_{32},x_{33} \\right)} & \\frac{\\partial}{\\partial x_{21}} \\operatorname{y_{32}}{\\left(x_{11},x_{12},x_{13},x_{21},x_{22},x_{23},x_{31},x_{32},x_{33} \\right)}\\end{matrix}\\right] & \\left[\\begin{matrix}0 & \\frac{\\partial}{\\partial x_{22}} \\operatorname{y_{12}}{\\left(x_{11},x_{12},x_{13},x_{21},x_{22},x_{23},x_{31},x_{32},x_{33} \\right)}\\\\\\frac{\\partial}{\\partial x_{22}} \\operatorname{y_{21}}{\\left(x_{11},x_{12},x_{13},x_{21},x_{22},x_{23},x_{31},x_{32},x_{33} \\right)} & \\frac{\\partial}{\\partial x_{22}} \\operatorname{y_{22}}{\\left(x_{11},x_{12},x_{13},x_{21},x_{22},x_{23},x_{31},x_{32},x_{33} \\right)}\\\\\\frac{\\partial}{\\partial x_{22}} \\operatorname{y_{31}}{\\left(x_{11},x_{12},x_{13},x_{21},x_{22},x_{23},x_{31},x_{32},x_{33} \\right)} & \\frac{\\partial}{\\partial x_{22}} \\operatorname{y_{32}}{\\left(x_{11},x_{12},x_{13},x_{21},x_{22},x_{23},x_{31},x_{32},x_{33} \\right)}\\end{matrix}\\right] & \\left[\\begin{matrix}0 & \\frac{\\partial}{\\partial x_{23}} \\operatorname{y_{12}}{\\left(x_{11},x_{12},x_{13},x_{21},x_{22},x_{23},x_{31},x_{32},x_{33} \\right)}\\\\\\frac{\\partial}{\\partial x_{23}} \\operatorname{y_{21}}{\\left(x_{11},x_{12},x_{13},x_{21},x_{22},x_{23},x_{31},x_{32},x_{33} \\right)} & \\frac{\\partial}{\\partial x_{23}} \\operatorname{y_{22}}{\\left(x_{11},x_{12},x_{13},x_{21},x_{22},x_{23},x_{31},x_{32},x_{33} \\right)}\\\\\\frac{\\partial}{\\partial x_{23}} \\operatorname{y_{31}}{\\left(x_{11},x_{12},x_{13},x_{21},x_{22},x_{23},x_{31},x_{32},x_{33} \\right)} & \\frac{\\partial}{\\partial x_{23}} \\operatorname{y_{32}}{\\left(x_{11},x_{12},x_{13},x_{21},x_{22},x_{23},x_{31},x_{32},x_{33} \\right)}\\end{matrix}\\right]\\\\\\left[\\begin{matrix}0 & \\frac{\\partial}{\\partial x_{31}} \\operatorname{y_{12}}{\\left(x_{11},x_{12},x_{13},x_{21},x_{22},x_{23},x_{31},x_{32},x_{33} \\right)}\\\\\\frac{\\partial}{\\partial x_{31}} \\operatorname{y_{21}}{\\left(x_{11},x_{12},x_{13},x_{21},x_{22},x_{23},x_{31},x_{32},x_{33} \\right)} & \\frac{\\partial}{\\partial x_{31}} \\operatorname{y_{22}}{\\left(x_{11},x_{12},x_{13},x_{21},x_{22},x_{23},x_{31},x_{32},x_{33} \\right)}\\\\\\frac{\\partial}{\\partial x_{31}} \\operatorname{y_{31}}{\\left(x_{11},x_{12},x_{13},x_{21},x_{22},x_{23},x_{31},x_{32},x_{33} \\right)} & \\frac{\\partial}{\\partial x_{31}} \\operatorname{y_{32}}{\\left(x_{11},x_{12},x_{13},x_{21},x_{22},x_{23},x_{31},x_{32},x_{33} \\right)}\\end{matrix}\\right] & \\left[\\begin{matrix}0 & \\frac{\\partial}{\\partial x_{32}} \\operatorname{y_{12}}{\\left(x_{11},x_{12},x_{13},x_{21},x_{22},x_{23},x_{31},x_{32},x_{33} \\right)}\\\\\\frac{\\partial}{\\partial x_{32}} \\operatorname{y_{21}}{\\left(x_{11},x_{12},x_{13},x_{21},x_{22},x_{23},x_{31},x_{32},x_{33} \\right)} & \\frac{\\partial}{\\partial x_{32}} \\operatorname{y_{22}}{\\left(x_{11},x_{12},x_{13},x_{21},x_{22},x_{23},x_{31},x_{32},x_{33} \\right)}\\\\\\frac{\\partial}{\\partial x_{32}} \\operatorname{y_{31}}{\\left(x_{11},x_{12},x_{13},x_{21},x_{22},x_{23},x_{31},x_{32},x_{33} \\right)} & \\frac{\\partial}{\\partial x_{32}} \\operatorname{y_{32}}{\\left(x_{11},x_{12},x_{13},x_{21},x_{22},x_{23},x_{31},x_{32},x_{33} \\right)}\\end{matrix}\\right] & \\left[\\begin{matrix}0 & \\frac{\\partial}{\\partial x_{33}} \\operatorname{y_{12}}{\\left(x_{11},x_{12},x_{13},x_{21},x_{22},x_{23},x_{31},x_{32},x_{33} \\right)}\\\\\\frac{\\partial}{\\partial x_{33}} \\operatorname{y_{21}}{\\left(x_{11},x_{12},x_{13},x_{21},x_{22},x_{23},x_{31},x_{32},x_{33} \\right)} & \\frac{\\partial}{\\partial x_{33}} \\operatorname{y_{22}}{\\left(x_{11},x_{12},x_{13},x_{21},x_{22},x_{23},x_{31},x_{32},x_{33} \\right)}\\\\\\frac{\\partial}{\\partial x_{33}} \\operatorname{y_{31}}{\\left(x_{11},x_{12},x_{13},x_{21},x_{22},x_{23},x_{31},x_{32},x_{33} \\right)} & \\frac{\\partial}{\\partial x_{33}} \\operatorname{y_{32}}{\\left(x_{11},x_{12},x_{13},x_{21},x_{22},x_{23},x_{31},x_{32},x_{33} \\right)}\\end{matrix}\\right]\\end{matrix}\\right]$"
      ],
      "text/plain": [
       "[[[[2*x_11, Derivative(y_12(x_11, x_12, x_13, x_21, x_22, x_23, x_31, x_32, x_33), x_11)], [Derivative(y_21(x_11, x_12, x_13, x_21, x_22, x_23, x_31, x_32, x_33), x_11), Derivative(y_22(x_11, x_12, x_13, x_21, x_22, x_23, x_31, x_32, x_33), x_11)], [Derivative(y_31(x_11, x_12, x_13, x_21, x_22, x_23, x_31, x_32, x_33), x_11), Derivative(y_32(x_11, x_12, x_13, x_21, x_22, x_23, x_31, x_32, x_33), x_11)]], [[0, Derivative(y_12(x_11, x_12, x_13, x_21, x_22, x_23, x_31, x_32, x_33), x_12)], [Derivative(y_21(x_11, x_12, x_13, x_21, x_22, x_23, x_31, x_32, x_33), x_12), Derivative(y_22(x_11, x_12, x_13, x_21, x_22, x_23, x_31, x_32, x_33), x_12)], [Derivative(y_31(x_11, x_12, x_13, x_21, x_22, x_23, x_31, x_32, x_33), x_12), Derivative(y_32(x_11, x_12, x_13, x_21, x_22, x_23, x_31, x_32, x_33), x_12)]], [[0, Derivative(y_12(x_11, x_12, x_13, x_21, x_22, x_23, x_31, x_32, x_33), x_13)], [Derivative(y_21(x_11, x_12, x_13, x_21, x_22, x_23, x_31, x_32, x_33), x_13), Derivative(y_22(x_11, x_12, x_13, x_21, x_22, x_23, x_31, x_32, x_33), x_13)], [Derivative(y_31(x_11, x_12, x_13, x_21, x_22, x_23, x_31, x_32, x_33), x_13), Derivative(y_32(x_11, x_12, x_13, x_21, x_22, x_23, x_31, x_32, x_33), x_13)]]], [[[1, Derivative(y_12(x_11, x_12, x_13, x_21, x_22, x_23, x_31, x_32, x_33), x_21)], [Derivative(y_21(x_11, x_12, x_13, x_21, x_22, x_23, x_31, x_32, x_33), x_21), Derivative(y_22(x_11, x_12, x_13, x_21, x_22, x_23, x_31, x_32, x_33), x_21)], [Derivative(y_31(x_11, x_12, x_13, x_21, x_22, x_23, x_31, x_32, x_33), x_21), Derivative(y_32(x_11, x_12, x_13, x_21, x_22, x_23, x_31, x_32, x_33), x_21)]], [[0, Derivative(y_12(x_11, x_12, x_13, x_21, x_22, x_23, x_31, x_32, x_33), x_22)], [Derivative(y_21(x_11, x_12, x_13, x_21, x_22, x_23, x_31, x_32, x_33), x_22), Derivative(y_22(x_11, x_12, x_13, x_21, x_22, x_23, x_31, x_32, x_33), x_22)], [Derivative(y_31(x_11, x_12, x_13, x_21, x_22, x_23, x_31, x_32, x_33), x_22), Derivative(y_32(x_11, x_12, x_13, x_21, x_22, x_23, x_31, x_32, x_33), x_22)]], [[0, Derivative(y_12(x_11, x_12, x_13, x_21, x_22, x_23, x_31, x_32, x_33), x_23)], [Derivative(y_21(x_11, x_12, x_13, x_21, x_22, x_23, x_31, x_32, x_33), x_23), Derivative(y_22(x_11, x_12, x_13, x_21, x_22, x_23, x_31, x_32, x_33), x_23)], [Derivative(y_31(x_11, x_12, x_13, x_21, x_22, x_23, x_31, x_32, x_33), x_23), Derivative(y_32(x_11, x_12, x_13, x_21, x_22, x_23, x_31, x_32, x_33), x_23)]]], [[[0, Derivative(y_12(x_11, x_12, x_13, x_21, x_22, x_23, x_31, x_32, x_33), x_31)], [Derivative(y_21(x_11, x_12, x_13, x_21, x_22, x_23, x_31, x_32, x_33), x_31), Derivative(y_22(x_11, x_12, x_13, x_21, x_22, x_23, x_31, x_32, x_33), x_31)], [Derivative(y_31(x_11, x_12, x_13, x_21, x_22, x_23, x_31, x_32, x_33), x_31), Derivative(y_32(x_11, x_12, x_13, x_21, x_22, x_23, x_31, x_32, x_33), x_31)]], [[0, Derivative(y_12(x_11, x_12, x_13, x_21, x_22, x_23, x_31, x_32, x_33), x_32)], [Derivative(y_21(x_11, x_12, x_13, x_21, x_22, x_23, x_31, x_32, x_33), x_32), Derivative(y_22(x_11, x_12, x_13, x_21, x_22, x_23, x_31, x_32, x_33), x_32)], [Derivative(y_31(x_11, x_12, x_13, x_21, x_22, x_23, x_31, x_32, x_33), x_32), Derivative(y_32(x_11, x_12, x_13, x_21, x_22, x_23, x_31, x_32, x_33), x_32)]], [[0, Derivative(y_12(x_11, x_12, x_13, x_21, x_22, x_23, x_31, x_32, x_33), x_33)], [Derivative(y_21(x_11, x_12, x_13, x_21, x_22, x_23, x_31, x_32, x_33), x_33), Derivative(y_22(x_11, x_12, x_13, x_21, x_22, x_23, x_31, x_32, x_33), x_33)], [Derivative(y_31(x_11, x_12, x_13, x_21, x_22, x_23, x_31, x_32, x_33), x_33), Derivative(y_32(x_11, x_12, x_13, x_21, x_22, x_23, x_31, x_32, x_33), x_33)]]]]"
      ]
     },
     "execution_count": 1,
     "metadata": {},
     "output_type": "execute_result"
    }
   ],
   "source": [
    "D.subs({Y[0,0]: X[0,0]**2 + X[1,0]}).doit()"
   ]
  },
  {
   "cell_type": "code",
   "execution_count": 5,
   "metadata": {
    "execution": {
     "iopub.execute_input": "2020-10-04T18:59:11.937426Z",
     "iopub.status.busy": "2020-10-04T18:59:11.935678Z",
     "iopub.status.idle": "2020-10-04T18:59:12.174288Z",
     "shell.execute_reply": "2020-10-04T18:59:12.175918Z"
    },
    "title": "codecell"
   },
   "outputs": [
    {
     "data": {
      "text/latex": [
       "$\\displaystyle \\left[\\begin{matrix}\\left[\\begin{matrix}\\frac{\\partial}{\\partial x_{11}} \\operatorname{y_{11}}{\\left(x_{11},x_{12},x_{13},x_{21},x_{22},x_{23},x_{31},x_{32},x_{33} \\right)} & \\frac{\\partial}{\\partial x_{11}} \\operatorname{y_{12}}{\\left(x_{11},x_{12},x_{13},x_{21},x_{22},x_{23},x_{31},x_{32},x_{33} \\right)}\\\\\\frac{\\partial}{\\partial x_{11}} \\operatorname{y_{21}}{\\left(x_{11},x_{12},x_{13},x_{21},x_{22},x_{23},x_{31},x_{32},x_{33} \\right)} & \\frac{\\partial}{\\partial x_{11}} \\operatorname{y_{22}}{\\left(x_{11},x_{12},x_{13},x_{21},x_{22},x_{23},x_{31},x_{32},x_{33} \\right)}\\\\\\frac{\\partial}{\\partial x_{11}} \\operatorname{y_{31}}{\\left(x_{11},x_{12},x_{13},x_{21},x_{22},x_{23},x_{31},x_{32},x_{33} \\right)} & \\frac{\\partial}{\\partial x_{11}} \\operatorname{y_{32}}{\\left(x_{11},x_{12},x_{13},x_{21},x_{22},x_{23},x_{31},x_{32},x_{33} \\right)}\\end{matrix}\\right] & \\left[\\begin{matrix}\\frac{\\partial}{\\partial x_{12}} \\operatorname{y_{11}}{\\left(x_{11},x_{12},x_{13},x_{21},x_{22},x_{23},x_{31},x_{32},x_{33} \\right)} & \\frac{\\partial}{\\partial x_{12}} \\operatorname{y_{12}}{\\left(x_{11},x_{12},x_{13},x_{21},x_{22},x_{23},x_{31},x_{32},x_{33} \\right)}\\\\\\frac{\\partial}{\\partial x_{12}} \\operatorname{y_{21}}{\\left(x_{11},x_{12},x_{13},x_{21},x_{22},x_{23},x_{31},x_{32},x_{33} \\right)} & \\frac{\\partial}{\\partial x_{12}} \\operatorname{y_{22}}{\\left(x_{11},x_{12},x_{13},x_{21},x_{22},x_{23},x_{31},x_{32},x_{33} \\right)}\\\\\\frac{\\partial}{\\partial x_{12}} \\operatorname{y_{31}}{\\left(x_{11},x_{12},x_{13},x_{21},x_{22},x_{23},x_{31},x_{32},x_{33} \\right)} & \\frac{\\partial}{\\partial x_{12}} \\operatorname{y_{32}}{\\left(x_{11},x_{12},x_{13},x_{21},x_{22},x_{23},x_{31},x_{32},x_{33} \\right)}\\end{matrix}\\right] & \\left[\\begin{matrix}\\frac{\\partial}{\\partial x_{13}} \\operatorname{y_{11}}{\\left(x_{11},x_{12},x_{13},x_{21},x_{22},x_{23},x_{31},x_{32},x_{33} \\right)} & \\frac{\\partial}{\\partial x_{13}} \\operatorname{y_{12}}{\\left(x_{11},x_{12},x_{13},x_{21},x_{22},x_{23},x_{31},x_{32},x_{33} \\right)}\\\\\\frac{\\partial}{\\partial x_{13}} \\operatorname{y_{21}}{\\left(x_{11},x_{12},x_{13},x_{21},x_{22},x_{23},x_{31},x_{32},x_{33} \\right)} & \\frac{\\partial}{\\partial x_{13}} \\operatorname{y_{22}}{\\left(x_{11},x_{12},x_{13},x_{21},x_{22},x_{23},x_{31},x_{32},x_{33} \\right)}\\\\\\frac{\\partial}{\\partial x_{13}} \\operatorname{y_{31}}{\\left(x_{11},x_{12},x_{13},x_{21},x_{22},x_{23},x_{31},x_{32},x_{33} \\right)} & \\frac{\\partial}{\\partial x_{13}} \\operatorname{y_{32}}{\\left(x_{11},x_{12},x_{13},x_{21},x_{22},x_{23},x_{31},x_{32},x_{33} \\right)}\\end{matrix}\\right]\\\\\\left[\\begin{matrix}\\frac{\\partial}{\\partial x_{21}} \\operatorname{y_{11}}{\\left(x_{11},x_{12},x_{13},x_{21},x_{22},x_{23},x_{31},x_{32},x_{33} \\right)} & \\frac{\\partial}{\\partial x_{21}} \\operatorname{y_{12}}{\\left(x_{11},x_{12},x_{13},x_{21},x_{22},x_{23},x_{31},x_{32},x_{33} \\right)}\\\\\\frac{\\partial}{\\partial x_{21}} \\operatorname{y_{21}}{\\left(x_{11},x_{12},x_{13},x_{21},x_{22},x_{23},x_{31},x_{32},x_{33} \\right)} & \\frac{\\partial}{\\partial x_{21}} \\operatorname{y_{22}}{\\left(x_{11},x_{12},x_{13},x_{21},x_{22},x_{23},x_{31},x_{32},x_{33} \\right)}\\\\\\frac{\\partial}{\\partial x_{21}} \\operatorname{y_{31}}{\\left(x_{11},x_{12},x_{13},x_{21},x_{22},x_{23},x_{31},x_{32},x_{33} \\right)} & \\frac{\\partial}{\\partial x_{21}} \\operatorname{y_{32}}{\\left(x_{11},x_{12},x_{13},x_{21},x_{22},x_{23},x_{31},x_{32},x_{33} \\right)}\\end{matrix}\\right] & \\left[\\begin{matrix}\\frac{\\partial}{\\partial x_{22}} \\operatorname{y_{11}}{\\left(x_{11},x_{12},x_{13},x_{21},x_{22},x_{23},x_{31},x_{32},x_{33} \\right)} & \\frac{\\partial}{\\partial x_{22}} \\operatorname{y_{12}}{\\left(x_{11},x_{12},x_{13},x_{21},x_{22},x_{23},x_{31},x_{32},x_{33} \\right)}\\\\\\frac{\\partial}{\\partial x_{22}} \\operatorname{y_{21}}{\\left(x_{11},x_{12},x_{13},x_{21},x_{22},x_{23},x_{31},x_{32},x_{33} \\right)} & \\frac{\\partial}{\\partial x_{22}} \\operatorname{y_{22}}{\\left(x_{11},x_{12},x_{13},x_{21},x_{22},x_{23},x_{31},x_{32},x_{33} \\right)}\\\\\\frac{\\partial}{\\partial x_{22}} \\operatorname{y_{31}}{\\left(x_{11},x_{12},x_{13},x_{21},x_{22},x_{23},x_{31},x_{32},x_{33} \\right)} & \\frac{\\partial}{\\partial x_{22}} \\operatorname{y_{32}}{\\left(x_{11},x_{12},x_{13},x_{21},x_{22},x_{23},x_{31},x_{32},x_{33} \\right)}\\end{matrix}\\right] & \\left[\\begin{matrix}\\frac{\\partial}{\\partial x_{23}} \\operatorname{y_{11}}{\\left(x_{11},x_{12},x_{13},x_{21},x_{22},x_{23},x_{31},x_{32},x_{33} \\right)} & \\frac{\\partial}{\\partial x_{23}} \\operatorname{y_{12}}{\\left(x_{11},x_{12},x_{13},x_{21},x_{22},x_{23},x_{31},x_{32},x_{33} \\right)}\\\\\\frac{\\partial}{\\partial x_{23}} \\operatorname{y_{21}}{\\left(x_{11},x_{12},x_{13},x_{21},x_{22},x_{23},x_{31},x_{32},x_{33} \\right)} & \\frac{\\partial}{\\partial x_{23}} \\operatorname{y_{22}}{\\left(x_{11},x_{12},x_{13},x_{21},x_{22},x_{23},x_{31},x_{32},x_{33} \\right)}\\\\\\frac{\\partial}{\\partial x_{23}} \\operatorname{y_{31}}{\\left(x_{11},x_{12},x_{13},x_{21},x_{22},x_{23},x_{31},x_{32},x_{33} \\right)} & \\frac{\\partial}{\\partial x_{23}} \\operatorname{y_{32}}{\\left(x_{11},x_{12},x_{13},x_{21},x_{22},x_{23},x_{31},x_{32},x_{33} \\right)}\\end{matrix}\\right]\\\\\\left[\\begin{matrix}\\frac{\\partial}{\\partial x_{31}} \\operatorname{y_{11}}{\\left(x_{11},x_{12},x_{13},x_{21},x_{22},x_{23},x_{31},x_{32},x_{33} \\right)} & \\frac{\\partial}{\\partial x_{31}} \\operatorname{y_{12}}{\\left(x_{11},x_{12},x_{13},x_{21},x_{22},x_{23},x_{31},x_{32},x_{33} \\right)}\\\\\\frac{\\partial}{\\partial x_{31}} \\operatorname{y_{21}}{\\left(x_{11},x_{12},x_{13},x_{21},x_{22},x_{23},x_{31},x_{32},x_{33} \\right)} & \\frac{\\partial}{\\partial x_{31}} \\operatorname{y_{22}}{\\left(x_{11},x_{12},x_{13},x_{21},x_{22},x_{23},x_{31},x_{32},x_{33} \\right)}\\\\\\frac{\\partial}{\\partial x_{31}} \\operatorname{y_{31}}{\\left(x_{11},x_{12},x_{13},x_{21},x_{22},x_{23},x_{31},x_{32},x_{33} \\right)} & \\frac{\\partial}{\\partial x_{31}} \\operatorname{y_{32}}{\\left(x_{11},x_{12},x_{13},x_{21},x_{22},x_{23},x_{31},x_{32},x_{33} \\right)}\\end{matrix}\\right] & \\left[\\begin{matrix}\\frac{\\partial}{\\partial x_{32}} \\operatorname{y_{11}}{\\left(x_{11},x_{12},x_{13},x_{21},x_{22},x_{23},x_{31},x_{32},x_{33} \\right)} & \\frac{\\partial}{\\partial x_{32}} \\operatorname{y_{12}}{\\left(x_{11},x_{12},x_{13},x_{21},x_{22},x_{23},x_{31},x_{32},x_{33} \\right)}\\\\\\frac{\\partial}{\\partial x_{32}} \\operatorname{y_{21}}{\\left(x_{11},x_{12},x_{13},x_{21},x_{22},x_{23},x_{31},x_{32},x_{33} \\right)} & \\frac{\\partial}{\\partial x_{32}} \\operatorname{y_{22}}{\\left(x_{11},x_{12},x_{13},x_{21},x_{22},x_{23},x_{31},x_{32},x_{33} \\right)}\\\\\\frac{\\partial}{\\partial x_{32}} \\operatorname{y_{31}}{\\left(x_{11},x_{12},x_{13},x_{21},x_{22},x_{23},x_{31},x_{32},x_{33} \\right)} & \\frac{\\partial}{\\partial x_{32}} \\operatorname{y_{32}}{\\left(x_{11},x_{12},x_{13},x_{21},x_{22},x_{23},x_{31},x_{32},x_{33} \\right)}\\end{matrix}\\right] & \\left[\\begin{matrix}\\frac{\\partial}{\\partial x_{33}} \\operatorname{y_{11}}{\\left(x_{11},x_{12},x_{13},x_{21},x_{22},x_{23},x_{31},x_{32},x_{33} \\right)} & \\frac{\\partial}{\\partial x_{33}} \\operatorname{y_{12}}{\\left(x_{11},x_{12},x_{13},x_{21},x_{22},x_{23},x_{31},x_{32},x_{33} \\right)}\\\\\\frac{\\partial}{\\partial x_{33}} \\operatorname{y_{21}}{\\left(x_{11},x_{12},x_{13},x_{21},x_{22},x_{23},x_{31},x_{32},x_{33} \\right)} & \\frac{\\partial}{\\partial x_{33}} \\operatorname{y_{22}}{\\left(x_{11},x_{12},x_{13},x_{21},x_{22},x_{23},x_{31},x_{32},x_{33} \\right)}\\\\\\frac{\\partial}{\\partial x_{33}} \\operatorname{y_{31}}{\\left(x_{11},x_{12},x_{13},x_{21},x_{22},x_{23},x_{31},x_{32},x_{33} \\right)} & \\frac{\\partial}{\\partial x_{33}} \\operatorname{y_{32}}{\\left(x_{11},x_{12},x_{13},x_{21},x_{22},x_{23},x_{31},x_{32},x_{33} \\right)}\\end{matrix}\\right]\\end{matrix}\\right]$"
      ],
      "text/plain": [
       "[[[[Derivative(y_11(x_11, x_12, x_13, x_21, x_22, x_23, x_31, x_32, x_33), x_11), Derivative(y_12(x_11, x_12, x_13, x_21, x_22, x_23, x_31, x_32, x_33), x_11)], [Derivative(y_21(x_11, x_12, x_13, x_21, x_22, x_23, x_31, x_32, x_33), x_11), Derivative(y_22(x_11, x_12, x_13, x_21, x_22, x_23, x_31, x_32, x_33), x_11)], [Derivative(y_31(x_11, x_12, x_13, x_21, x_22, x_23, x_31, x_32, x_33), x_11), Derivative(y_32(x_11, x_12, x_13, x_21, x_22, x_23, x_31, x_32, x_33), x_11)]], [[Derivative(y_11(x_11, x_12, x_13, x_21, x_22, x_23, x_31, x_32, x_33), x_12), Derivative(y_12(x_11, x_12, x_13, x_21, x_22, x_23, x_31, x_32, x_33), x_12)], [Derivative(y_21(x_11, x_12, x_13, x_21, x_22, x_23, x_31, x_32, x_33), x_12), Derivative(y_22(x_11, x_12, x_13, x_21, x_22, x_23, x_31, x_32, x_33), x_12)], [Derivative(y_31(x_11, x_12, x_13, x_21, x_22, x_23, x_31, x_32, x_33), x_12), Derivative(y_32(x_11, x_12, x_13, x_21, x_22, x_23, x_31, x_32, x_33), x_12)]], [[Derivative(y_11(x_11, x_12, x_13, x_21, x_22, x_23, x_31, x_32, x_33), x_13), Derivative(y_12(x_11, x_12, x_13, x_21, x_22, x_23, x_31, x_32, x_33), x_13)], [Derivative(y_21(x_11, x_12, x_13, x_21, x_22, x_23, x_31, x_32, x_33), x_13), Derivative(y_22(x_11, x_12, x_13, x_21, x_22, x_23, x_31, x_32, x_33), x_13)], [Derivative(y_31(x_11, x_12, x_13, x_21, x_22, x_23, x_31, x_32, x_33), x_13), Derivative(y_32(x_11, x_12, x_13, x_21, x_22, x_23, x_31, x_32, x_33), x_13)]]], [[[Derivative(y_11(x_11, x_12, x_13, x_21, x_22, x_23, x_31, x_32, x_33), x_21), Derivative(y_12(x_11, x_12, x_13, x_21, x_22, x_23, x_31, x_32, x_33), x_21)], [Derivative(y_21(x_11, x_12, x_13, x_21, x_22, x_23, x_31, x_32, x_33), x_21), Derivative(y_22(x_11, x_12, x_13, x_21, x_22, x_23, x_31, x_32, x_33), x_21)], [Derivative(y_31(x_11, x_12, x_13, x_21, x_22, x_23, x_31, x_32, x_33), x_21), Derivative(y_32(x_11, x_12, x_13, x_21, x_22, x_23, x_31, x_32, x_33), x_21)]], [[Derivative(y_11(x_11, x_12, x_13, x_21, x_22, x_23, x_31, x_32, x_33), x_22), Derivative(y_12(x_11, x_12, x_13, x_21, x_22, x_23, x_31, x_32, x_33), x_22)], [Derivative(y_21(x_11, x_12, x_13, x_21, x_22, x_23, x_31, x_32, x_33), x_22), Derivative(y_22(x_11, x_12, x_13, x_21, x_22, x_23, x_31, x_32, x_33), x_22)], [Derivative(y_31(x_11, x_12, x_13, x_21, x_22, x_23, x_31, x_32, x_33), x_22), Derivative(y_32(x_11, x_12, x_13, x_21, x_22, x_23, x_31, x_32, x_33), x_22)]], [[Derivative(y_11(x_11, x_12, x_13, x_21, x_22, x_23, x_31, x_32, x_33), x_23), Derivative(y_12(x_11, x_12, x_13, x_21, x_22, x_23, x_31, x_32, x_33), x_23)], [Derivative(y_21(x_11, x_12, x_13, x_21, x_22, x_23, x_31, x_32, x_33), x_23), Derivative(y_22(x_11, x_12, x_13, x_21, x_22, x_23, x_31, x_32, x_33), x_23)], [Derivative(y_31(x_11, x_12, x_13, x_21, x_22, x_23, x_31, x_32, x_33), x_23), Derivative(y_32(x_11, x_12, x_13, x_21, x_22, x_23, x_31, x_32, x_33), x_23)]]], [[[Derivative(y_11(x_11, x_12, x_13, x_21, x_22, x_23, x_31, x_32, x_33), x_31), Derivative(y_12(x_11, x_12, x_13, x_21, x_22, x_23, x_31, x_32, x_33), x_31)], [Derivative(y_21(x_11, x_12, x_13, x_21, x_22, x_23, x_31, x_32, x_33), x_31), Derivative(y_22(x_11, x_12, x_13, x_21, x_22, x_23, x_31, x_32, x_33), x_31)], [Derivative(y_31(x_11, x_12, x_13, x_21, x_22, x_23, x_31, x_32, x_33), x_31), Derivative(y_32(x_11, x_12, x_13, x_21, x_22, x_23, x_31, x_32, x_33), x_31)]], [[Derivative(y_11(x_11, x_12, x_13, x_21, x_22, x_23, x_31, x_32, x_33), x_32), Derivative(y_12(x_11, x_12, x_13, x_21, x_22, x_23, x_31, x_32, x_33), x_32)], [Derivative(y_21(x_11, x_12, x_13, x_21, x_22, x_23, x_31, x_32, x_33), x_32), Derivative(y_22(x_11, x_12, x_13, x_21, x_22, x_23, x_31, x_32, x_33), x_32)], [Derivative(y_31(x_11, x_12, x_13, x_21, x_22, x_23, x_31, x_32, x_33), x_32), Derivative(y_32(x_11, x_12, x_13, x_21, x_22, x_23, x_31, x_32, x_33), x_32)]], [[Derivative(y_11(x_11, x_12, x_13, x_21, x_22, x_23, x_31, x_32, x_33), x_33), Derivative(y_12(x_11, x_12, x_13, x_21, x_22, x_23, x_31, x_32, x_33), x_33)], [Derivative(y_21(x_11, x_12, x_13, x_21, x_22, x_23, x_31, x_32, x_33), x_33), Derivative(y_22(x_11, x_12, x_13, x_21, x_22, x_23, x_31, x_32, x_33), x_33)], [Derivative(y_31(x_11, x_12, x_13, x_21, x_22, x_23, x_31, x_32, x_33), x_33), Derivative(y_32(x_11, x_12, x_13, x_21, x_22, x_23, x_31, x_32, x_33), x_33)]]]]"
      ]
     },
     "execution_count": 1,
     "metadata": {},
     "output_type": "execute_result"
    }
   ],
   "source": [
    "Y.diff(X) ## GOT IT\n",
    "\n"
   ]
  },
  {
   "cell_type": "code",
   "execution_count": 6,
   "metadata": {
    "execution": {
     "iopub.execute_input": "2020-10-04T18:59:12.182846Z",
     "iopub.status.busy": "2020-10-04T18:59:12.179536Z",
     "iopub.status.idle": "2020-10-04T18:59:12.271752Z",
     "shell.execute_reply": "2020-10-04T18:59:12.273058Z"
    },
    "lines_to_next_cell": 0,
    "title": "codecell"
   },
   "outputs": [
    {
     "data": {
      "text/latex": [
       "$\\displaystyle \\left[\\begin{matrix}x_{11}^{2} + x_{12} x_{21} - x_{22} & x_{11} + 4 x_{12} - x_{21} + x_{22}^{3}\\\\x_{11} x_{21} + 3 x_{12} x_{22} & x_{11} + x_{12} + x_{21} + x_{22}\\\\6 x_{11}^{2} x_{12} x_{21} + 4 x_{22} & - 5 x_{11} x_{22} + 3 x_{12} - x_{21}^{2}\\end{matrix}\\right]$"
      ],
      "text/plain": [
       "Matrix([\n",
       "[  x_11**2 + x_12*x_21 - x_22,  x_11 + 4*x_12 - x_21 + x_22**3],\n",
       "[     x_11*x_21 + 3*x_12*x_22,       x_11 + x_12 + x_21 + x_22],\n",
       "[6*x_11**2*x_12*x_21 + 4*x_22, -5*x_11*x_22 + 3*x_12 - x_21**2]])"
      ]
     },
     "execution_count": 1,
     "metadata": {},
     "output_type": "execute_result"
    }
   ],
   "source": [
    "Yval = Y.subs({Y[0,0]: X[0,0]**2 + X[0,1]*X[1,0] - X[1,1],\n",
    "        Y[0,1]: X[1,1]**3 + 4* X[0,1] + X[0,0] - X[1,0],\n",
    "        Y[1,0]: X[1,0] * X[0,0] + 3*X[0,1] * X[1,1],\n",
    "        Y[1,1]: X[1,1] + X[1,0] + X[0,1] + X[0,0],\n",
    "        Y[2,0]: 2*X[0,0]**2 * X[0,1] * 3*X[1,0] + 4*X[1,1],\n",
    "        Y[2,1]: 3*X[0,1] - 5*X[1,1] * X[0,0] - X[1,0]**2})\n",
    "\n",
    "Yval"
   ]
  },
  {
   "cell_type": "code",
   "execution_count": 7,
   "metadata": {
    "execution": {
     "iopub.execute_input": "2020-10-04T18:59:12.278565Z",
     "iopub.status.busy": "2020-10-04T18:59:12.276988Z",
     "iopub.status.idle": "2020-10-04T18:59:12.683091Z",
     "shell.execute_reply": "2020-10-04T18:59:12.684342Z"
    },
    "lines_to_next_cell": 0,
    "title": "codecell"
   },
   "outputs": [
    {
     "data": {
      "text/latex": [
       "$\\displaystyle \\left[\\begin{matrix}\\left[\\begin{matrix}\\frac{\\partial}{\\partial x_{11}} \\left(x_{11}^{2} + x_{12} x_{21} - x_{22}\\right) & \\frac{\\partial}{\\partial x_{11}} \\left(x_{11} + 4 x_{12} - x_{21} + x_{22}^{3}\\right)\\\\\\frac{\\partial}{\\partial x_{11}} \\left(x_{11} x_{21} + 3 x_{12} x_{22}\\right) & \\frac{\\partial}{\\partial x_{11}} \\left(x_{11} + x_{12} + x_{21} + x_{22}\\right)\\\\\\frac{\\partial}{\\partial x_{11}} \\left(6 x_{11}^{2} x_{12} x_{21} + 4 x_{22}\\right) & \\frac{\\partial}{\\partial x_{11}} \\left(- 5 x_{11} x_{22} + 3 x_{12} - x_{21}^{2}\\right)\\end{matrix}\\right] & \\left[\\begin{matrix}\\frac{\\partial}{\\partial x_{12}} \\left(x_{11}^{2} + x_{12} x_{21} - x_{22}\\right) & \\frac{\\partial}{\\partial x_{12}} \\left(x_{11} + 4 x_{12} - x_{21} + x_{22}^{3}\\right)\\\\\\frac{\\partial}{\\partial x_{12}} \\left(x_{11} x_{21} + 3 x_{12} x_{22}\\right) & \\frac{\\partial}{\\partial x_{12}} \\left(x_{11} + x_{12} + x_{21} + x_{22}\\right)\\\\\\frac{\\partial}{\\partial x_{12}} \\left(6 x_{11}^{2} x_{12} x_{21} + 4 x_{22}\\right) & \\frac{\\partial}{\\partial x_{12}} \\left(- 5 x_{11} x_{22} + 3 x_{12} - x_{21}^{2}\\right)\\end{matrix}\\right] & \\left[\\begin{matrix}\\frac{\\partial}{\\partial x_{13}} \\left(x_{11}^{2} + x_{12} x_{21} - x_{22}\\right) & \\frac{\\partial}{\\partial x_{13}} \\left(x_{11} + 4 x_{12} - x_{21} + x_{22}^{3}\\right)\\\\\\frac{\\partial}{\\partial x_{13}} \\left(x_{11} x_{21} + 3 x_{12} x_{22}\\right) & \\frac{\\partial}{\\partial x_{13}} \\left(x_{11} + x_{12} + x_{21} + x_{22}\\right)\\\\\\frac{\\partial}{\\partial x_{13}} \\left(6 x_{11}^{2} x_{12} x_{21} + 4 x_{22}\\right) & \\frac{\\partial}{\\partial x_{13}} \\left(- 5 x_{11} x_{22} + 3 x_{12} - x_{21}^{2}\\right)\\end{matrix}\\right]\\\\\\left[\\begin{matrix}\\frac{\\partial}{\\partial x_{21}} \\left(x_{11}^{2} + x_{12} x_{21} - x_{22}\\right) & \\frac{\\partial}{\\partial x_{21}} \\left(x_{11} + 4 x_{12} - x_{21} + x_{22}^{3}\\right)\\\\\\frac{\\partial}{\\partial x_{21}} \\left(x_{11} x_{21} + 3 x_{12} x_{22}\\right) & \\frac{\\partial}{\\partial x_{21}} \\left(x_{11} + x_{12} + x_{21} + x_{22}\\right)\\\\\\frac{\\partial}{\\partial x_{21}} \\left(6 x_{11}^{2} x_{12} x_{21} + 4 x_{22}\\right) & \\frac{\\partial}{\\partial x_{21}} \\left(- 5 x_{11} x_{22} + 3 x_{12} - x_{21}^{2}\\right)\\end{matrix}\\right] & \\left[\\begin{matrix}\\frac{\\partial}{\\partial x_{22}} \\left(x_{11}^{2} + x_{12} x_{21} - x_{22}\\right) & \\frac{\\partial}{\\partial x_{22}} \\left(x_{11} + 4 x_{12} - x_{21} + x_{22}^{3}\\right)\\\\\\frac{\\partial}{\\partial x_{22}} \\left(x_{11} x_{21} + 3 x_{12} x_{22}\\right) & \\frac{\\partial}{\\partial x_{22}} \\left(x_{11} + x_{12} + x_{21} + x_{22}\\right)\\\\\\frac{\\partial}{\\partial x_{22}} \\left(6 x_{11}^{2} x_{12} x_{21} + 4 x_{22}\\right) & \\frac{\\partial}{\\partial x_{22}} \\left(- 5 x_{11} x_{22} + 3 x_{12} - x_{21}^{2}\\right)\\end{matrix}\\right] & \\left[\\begin{matrix}\\frac{\\partial}{\\partial x_{23}} \\left(x_{11}^{2} + x_{12} x_{21} - x_{22}\\right) & \\frac{\\partial}{\\partial x_{23}} \\left(x_{11} + 4 x_{12} - x_{21} + x_{22}^{3}\\right)\\\\\\frac{\\partial}{\\partial x_{23}} \\left(x_{11} x_{21} + 3 x_{12} x_{22}\\right) & \\frac{\\partial}{\\partial x_{23}} \\left(x_{11} + x_{12} + x_{21} + x_{22}\\right)\\\\\\frac{\\partial}{\\partial x_{23}} \\left(6 x_{11}^{2} x_{12} x_{21} + 4 x_{22}\\right) & \\frac{\\partial}{\\partial x_{23}} \\left(- 5 x_{11} x_{22} + 3 x_{12} - x_{21}^{2}\\right)\\end{matrix}\\right]\\\\\\left[\\begin{matrix}\\frac{\\partial}{\\partial x_{31}} \\left(x_{11}^{2} + x_{12} x_{21} - x_{22}\\right) & \\frac{\\partial}{\\partial x_{31}} \\left(x_{11} + 4 x_{12} - x_{21} + x_{22}^{3}\\right)\\\\\\frac{\\partial}{\\partial x_{31}} \\left(x_{11} x_{21} + 3 x_{12} x_{22}\\right) & \\frac{\\partial}{\\partial x_{31}} \\left(x_{11} + x_{12} + x_{21} + x_{22}\\right)\\\\\\frac{\\partial}{\\partial x_{31}} \\left(6 x_{11}^{2} x_{12} x_{21} + 4 x_{22}\\right) & \\frac{\\partial}{\\partial x_{31}} \\left(- 5 x_{11} x_{22} + 3 x_{12} - x_{21}^{2}\\right)\\end{matrix}\\right] & \\left[\\begin{matrix}\\frac{\\partial}{\\partial x_{32}} \\left(x_{11}^{2} + x_{12} x_{21} - x_{22}\\right) & \\frac{\\partial}{\\partial x_{32}} \\left(x_{11} + 4 x_{12} - x_{21} + x_{22}^{3}\\right)\\\\\\frac{\\partial}{\\partial x_{32}} \\left(x_{11} x_{21} + 3 x_{12} x_{22}\\right) & \\frac{\\partial}{\\partial x_{32}} \\left(x_{11} + x_{12} + x_{21} + x_{22}\\right)\\\\\\frac{\\partial}{\\partial x_{32}} \\left(6 x_{11}^{2} x_{12} x_{21} + 4 x_{22}\\right) & \\frac{\\partial}{\\partial x_{32}} \\left(- 5 x_{11} x_{22} + 3 x_{12} - x_{21}^{2}\\right)\\end{matrix}\\right] & \\left[\\begin{matrix}\\frac{\\partial}{\\partial x_{33}} \\left(x_{11}^{2} + x_{12} x_{21} - x_{22}\\right) & \\frac{\\partial}{\\partial x_{33}} \\left(x_{11} + 4 x_{12} - x_{21} + x_{22}^{3}\\right)\\\\\\frac{\\partial}{\\partial x_{33}} \\left(x_{11} x_{21} + 3 x_{12} x_{22}\\right) & \\frac{\\partial}{\\partial x_{33}} \\left(x_{11} + x_{12} + x_{21} + x_{22}\\right)\\\\\\frac{\\partial}{\\partial x_{33}} \\left(6 x_{11}^{2} x_{12} x_{21} + 4 x_{22}\\right) & \\frac{\\partial}{\\partial x_{33}} \\left(- 5 x_{11} x_{22} + 3 x_{12} - x_{21}^{2}\\right)\\end{matrix}\\right]\\end{matrix}\\right]$"
      ],
      "text/plain": [
       "[[[[Derivative(x_11**2 + x_12*x_21 - x_22, x_11), Derivative(x_11 + 4*x_12 - x_21 + x_22**3, x_11)], [Derivative(x_11*x_21 + 3*x_12*x_22, x_11), Derivative(x_11 + x_12 + x_21 + x_22, x_11)], [Derivative(6*x_11**2*x_12*x_21 + 4*x_22, x_11), Derivative(-5*x_11*x_22 + 3*x_12 - x_21**2, x_11)]], [[Derivative(x_11**2 + x_12*x_21 - x_22, x_12), Derivative(x_11 + 4*x_12 - x_21 + x_22**3, x_12)], [Derivative(x_11*x_21 + 3*x_12*x_22, x_12), Derivative(x_11 + x_12 + x_21 + x_22, x_12)], [Derivative(6*x_11**2*x_12*x_21 + 4*x_22, x_12), Derivative(-5*x_11*x_22 + 3*x_12 - x_21**2, x_12)]], [[Derivative(x_11**2 + x_12*x_21 - x_22, x_13), Derivative(x_11 + 4*x_12 - x_21 + x_22**3, x_13)], [Derivative(x_11*x_21 + 3*x_12*x_22, x_13), Derivative(x_11 + x_12 + x_21 + x_22, x_13)], [Derivative(6*x_11**2*x_12*x_21 + 4*x_22, x_13), Derivative(-5*x_11*x_22 + 3*x_12 - x_21**2, x_13)]]], [[[Derivative(x_11**2 + x_12*x_21 - x_22, x_21), Derivative(x_11 + 4*x_12 - x_21 + x_22**3, x_21)], [Derivative(x_11*x_21 + 3*x_12*x_22, x_21), Derivative(x_11 + x_12 + x_21 + x_22, x_21)], [Derivative(6*x_11**2*x_12*x_21 + 4*x_22, x_21), Derivative(-5*x_11*x_22 + 3*x_12 - x_21**2, x_21)]], [[Derivative(x_11**2 + x_12*x_21 - x_22, x_22), Derivative(x_11 + 4*x_12 - x_21 + x_22**3, x_22)], [Derivative(x_11*x_21 + 3*x_12*x_22, x_22), Derivative(x_11 + x_12 + x_21 + x_22, x_22)], [Derivative(6*x_11**2*x_12*x_21 + 4*x_22, x_22), Derivative(-5*x_11*x_22 + 3*x_12 - x_21**2, x_22)]], [[Derivative(x_11**2 + x_12*x_21 - x_22, x_23), Derivative(x_11 + 4*x_12 - x_21 + x_22**3, x_23)], [Derivative(x_11*x_21 + 3*x_12*x_22, x_23), Derivative(x_11 + x_12 + x_21 + x_22, x_23)], [Derivative(6*x_11**2*x_12*x_21 + 4*x_22, x_23), Derivative(-5*x_11*x_22 + 3*x_12 - x_21**2, x_23)]]], [[[Derivative(x_11**2 + x_12*x_21 - x_22, x_31), Derivative(x_11 + 4*x_12 - x_21 + x_22**3, x_31)], [Derivative(x_11*x_21 + 3*x_12*x_22, x_31), Derivative(x_11 + x_12 + x_21 + x_22, x_31)], [Derivative(6*x_11**2*x_12*x_21 + 4*x_22, x_31), Derivative(-5*x_11*x_22 + 3*x_12 - x_21**2, x_31)]], [[Derivative(x_11**2 + x_12*x_21 - x_22, x_32), Derivative(x_11 + 4*x_12 - x_21 + x_22**3, x_32)], [Derivative(x_11*x_21 + 3*x_12*x_22, x_32), Derivative(x_11 + x_12 + x_21 + x_22, x_32)], [Derivative(6*x_11**2*x_12*x_21 + 4*x_22, x_32), Derivative(-5*x_11*x_22 + 3*x_12 - x_21**2, x_32)]], [[Derivative(x_11**2 + x_12*x_21 - x_22, x_33), Derivative(x_11 + 4*x_12 - x_21 + x_22**3, x_33)], [Derivative(x_11*x_21 + 3*x_12*x_22, x_33), Derivative(x_11 + x_12 + x_21 + x_22, x_33)], [Derivative(6*x_11**2*x_12*x_21 + 4*x_22, x_33), Derivative(-5*x_11*x_22 + 3*x_12 - x_21**2, x_33)]]]]"
      ]
     },
     "execution_count": 1,
     "metadata": {},
     "output_type": "execute_result"
    }
   ],
   "source": [
    "DYval = D.subs({Y[0,0]: X[0,0]**2 + X[0,1]*X[1,0] - X[1,1],\n",
    "        Y[0,1]: X[1,1]**3 + 4* X[0,1] + X[0,0] - X[1,0],\n",
    "        Y[1,0]: X[1,0] * X[0,0] + 3*X[0,1] * X[1,1],\n",
    "        Y[1,1]: X[1,1] + X[1,0] + X[0,1] + X[0,0],\n",
    "        Y[2,0]: 2*X[0,0]**2 * X[0,1] * 3*X[1,0] + 4*X[1,1],\n",
    "        Y[2,1]: 3*X[0,1] - 5*X[1,1] * X[0,0] - X[1,0]**2})\n",
    "DYval"
   ]
  },
  {
   "cell_type": "code",
   "execution_count": 8,
   "metadata": {
    "execution": {
     "iopub.execute_input": "2020-10-04T18:59:12.690065Z",
     "iopub.status.busy": "2020-10-04T18:59:12.687735Z",
     "iopub.status.idle": "2020-10-04T18:59:12.810441Z",
     "shell.execute_reply": "2020-10-04T18:59:12.811552Z"
    },
    "title": "codecell"
   },
   "outputs": [
    {
     "data": {
      "text/latex": [
       "$\\displaystyle \\left[\\begin{matrix}\\left[\\begin{matrix}2 x_{11} & 1\\\\x_{21} & 1\\\\12 x_{11} x_{12} x_{21} & - 5 x_{22}\\end{matrix}\\right] & \\left[\\begin{matrix}x_{21} & 4\\\\3 x_{22} & 1\\\\6 x_{11}^{2} x_{21} & 3\\end{matrix}\\right] & \\left[\\begin{matrix}0 & 0\\\\0 & 0\\\\0 & 0\\end{matrix}\\right]\\\\\\left[\\begin{matrix}x_{12} & -1\\\\x_{11} & 1\\\\6 x_{11}^{2} x_{12} & - 2 x_{21}\\end{matrix}\\right] & \\left[\\begin{matrix}-1 & 3 x_{22}^{2}\\\\3 x_{12} & 1\\\\4 & - 5 x_{11}\\end{matrix}\\right] & \\left[\\begin{matrix}0 & 0\\\\0 & 0\\\\0 & 0\\end{matrix}\\right]\\\\\\left[\\begin{matrix}0 & 0\\\\0 & 0\\\\0 & 0\\end{matrix}\\right] & \\left[\\begin{matrix}0 & 0\\\\0 & 0\\\\0 & 0\\end{matrix}\\right] & \\left[\\begin{matrix}0 & 0\\\\0 & 0\\\\0 & 0\\end{matrix}\\right]\\end{matrix}\\right]$"
      ],
      "text/plain": [
       "[[[[2*x_11, 1], [x_21, 1], [12*x_11*x_12*x_21, -5*x_22]], [[x_21, 4], [3*x_22, 1], [6*x_11**2*x_21, 3]], [[0, 0], [0, 0], [0, 0]]], [[[x_12, -1], [x_11, 1], [6*x_11**2*x_12, -2*x_21]], [[-1, 3*x_22**2], [3*x_12, 1], [4, -5*x_11]], [[0, 0], [0, 0], [0, 0]]], [[[0, 0], [0, 0], [0, 0]], [[0, 0], [0, 0], [0, 0]], [[0, 0], [0, 0], [0, 0]]]]"
      ]
     },
     "execution_count": 1,
     "metadata": {},
     "output_type": "execute_result"
    }
   ],
   "source": [
    "DYval.doit()\n",
    "\n",
    "\n"
   ]
  },
  {
   "cell_type": "code",
   "execution_count": 9,
   "metadata": {
    "execution": {
     "iopub.execute_input": "2020-10-04T18:59:12.816984Z",
     "iopub.status.busy": "2020-10-04T18:59:12.815516Z",
     "iopub.status.idle": "2020-10-04T18:59:12.897085Z",
     "shell.execute_reply": "2020-10-04T18:59:12.898244Z"
    },
    "lines_to_next_cell": 0,
    "title": "codecell"
   },
   "outputs": [
    {
     "data": {
      "text/latex": [
       "$\\displaystyle \\left[\\begin{matrix}w_{11} x_{11} + w_{21} x_{12} + w_{31} x_{13} + w_{41} x_{14} & w_{12} x_{11} + w_{22} x_{12} + w_{32} x_{13} + w_{42} x_{14}\\\\w_{11} x_{21} + w_{21} x_{22} + w_{31} x_{23} + w_{41} x_{24} & w_{12} x_{21} + w_{22} x_{22} + w_{32} x_{23} + w_{42} x_{24}\\\\w_{11} x_{31} + w_{21} x_{32} + w_{31} x_{33} + w_{41} x_{34} & w_{12} x_{31} + w_{22} x_{32} + w_{32} x_{33} + w_{42} x_{34}\\\\w_{11} x_{41} + w_{21} x_{42} + w_{31} x_{43} + w_{41} x_{44} & w_{12} x_{41} + w_{22} x_{42} + w_{32} x_{43} + w_{42} x_{44}\\\\w_{11} x_{51} + w_{21} x_{52} + w_{31} x_{53} + w_{41} x_{54} & w_{12} x_{51} + w_{22} x_{52} + w_{32} x_{53} + w_{42} x_{54}\\end{matrix}\\right]$"
      ],
      "text/plain": [
       "Matrix([\n",
       "[w_11*x_11 + w_21*x_12 + w_31*x_13 + w_41*x_14, w_12*x_11 + w_22*x_12 + w_32*x_13 + w_42*x_14],\n",
       "[w_11*x_21 + w_21*x_22 + w_31*x_23 + w_41*x_24, w_12*x_21 + w_22*x_22 + w_32*x_23 + w_42*x_24],\n",
       "[w_11*x_31 + w_21*x_32 + w_31*x_33 + w_41*x_34, w_12*x_31 + w_22*x_32 + w_32*x_33 + w_42*x_34],\n",
       "[w_11*x_41 + w_21*x_42 + w_31*x_43 + w_41*x_44, w_12*x_41 + w_22*x_42 + w_32*x_43 + w_42*x_44],\n",
       "[w_11*x_51 + w_21*x_52 + w_31*x_53 + w_41*x_54, w_12*x_51 + w_22*x_52 + w_32*x_53 + w_42*x_54]])"
      ]
     },
     "execution_count": 1,
     "metadata": {},
     "output_type": "execute_result"
    }
   ],
   "source": [
    "# ### GOAL: testing the A kronecker B rule for diff of Y = AXB\n",
    "from sympy import Lambda\n",
    "l, m, n, q = 3, 5, 4, 2\n",
    "\n",
    "A = Matrix(l, m, lambda i, j: var('a', i, j))\n",
    "X = Matrix(m, n, lambda i, j: var('x', i, j))\n",
    "W = Matrix(n, q, lambda i, j: var('w', i, j))\n",
    "Y = X*W; Y"
   ]
  },
  {
   "cell_type": "code",
   "execution_count": 10,
   "metadata": {
    "execution": {
     "iopub.execute_input": "2020-10-04T18:59:12.904370Z",
     "iopub.status.busy": "2020-10-04T18:59:12.902033Z",
     "iopub.status.idle": "2020-10-04T18:59:12.916142Z",
     "shell.execute_reply": "2020-10-04T18:59:12.917424Z"
    },
    "lines_to_next_cell": 0,
    "title": "codecell"
   },
   "outputs": [
    {
     "data": {
      "text/latex": [
       "$\\displaystyle \\left[\\begin{matrix}0 & 1 & 0 & 0\\\\0 & 0 & 0 & 0\\\\0 & 0 & 0 & 0\\\\0 & 0 & 0 & 0\\\\0 & 0 & 0 & 0\\end{matrix}\\right]$"
      ],
      "text/plain": [
       "Matrix([\n",
       "[0, 1, 0, 0],\n",
       "[0, 0, 0, 0],\n",
       "[0, 0, 0, 0],\n",
       "[0, 0, 0, 0],\n",
       "[0, 0, 0, 0]])"
      ]
     },
     "execution_count": 1,
     "metadata": {},
     "output_type": "execute_result"
    }
   ],
   "source": [
    "from sympy.matrices import zeros\n",
    "E_12 = zeros(m, n)\n",
    "E_12[1-1,2-1] = 1\n",
    "E_12"
   ]
  },
  {
   "cell_type": "code",
   "execution_count": 11,
   "metadata": {
    "execution": {
     "iopub.execute_input": "2020-10-04T18:59:12.922547Z",
     "iopub.status.busy": "2020-10-04T18:59:12.921008Z",
     "iopub.status.idle": "2020-10-04T18:59:12.971483Z",
     "shell.execute_reply": "2020-10-04T18:59:12.972676Z"
    },
    "lines_to_next_cell": 0,
    "title": "codecell"
   },
   "outputs": [
    {
     "data": {
      "text/latex": [
       "$\\displaystyle \\left[\\begin{matrix}w_{11} x_{11} + w_{21} x_{12} + w_{31} x_{13} + w_{41} x_{14} & w_{12} x_{11} + w_{22} x_{12} + w_{32} x_{13} + w_{42} x_{14}\\\\w_{11} x_{21} + w_{21} x_{22} + w_{31} x_{23} + w_{41} x_{24} & w_{12} x_{21} + w_{22} x_{22} + w_{32} x_{23} + w_{42} x_{24}\\\\w_{11} x_{31} + w_{21} x_{32} + w_{31} x_{33} + w_{41} x_{34} & w_{12} x_{31} + w_{22} x_{32} + w_{32} x_{33} + w_{42} x_{34}\\\\w_{11} x_{41} + w_{21} x_{42} + w_{31} x_{43} + w_{41} x_{44} & w_{12} x_{41} + w_{22} x_{42} + w_{32} x_{43} + w_{42} x_{44}\\\\w_{11} x_{51} + w_{21} x_{52} + w_{31} x_{53} + w_{41} x_{54} & w_{12} x_{51} + w_{22} x_{52} + w_{32} x_{53} + w_{42} x_{54}\\end{matrix}\\right]$"
      ],
      "text/plain": [
       "Matrix([\n",
       "[w_11*x_11 + w_21*x_12 + w_31*x_13 + w_41*x_14, w_12*x_11 + w_22*x_12 + w_32*x_13 + w_42*x_14],\n",
       "[w_11*x_21 + w_21*x_22 + w_31*x_23 + w_41*x_24, w_12*x_21 + w_22*x_22 + w_32*x_23 + w_42*x_24],\n",
       "[w_11*x_31 + w_21*x_32 + w_31*x_33 + w_41*x_34, w_12*x_31 + w_22*x_32 + w_32*x_33 + w_42*x_34],\n",
       "[w_11*x_41 + w_21*x_42 + w_31*x_43 + w_41*x_44, w_12*x_41 + w_22*x_42 + w_32*x_43 + w_42*x_44],\n",
       "[w_11*x_51 + w_21*x_52 + w_31*x_53 + w_41*x_54, w_12*x_51 + w_22*x_52 + w_32*x_53 + w_42*x_54]])"
      ]
     },
     "execution_count": 1,
     "metadata": {},
     "output_type": "execute_result"
    }
   ],
   "source": [
    "Y = X*W; Y"
   ]
  },
  {
   "cell_type": "code",
   "execution_count": 12,
   "metadata": {
    "execution": {
     "iopub.execute_input": "2020-10-04T18:59:12.977841Z",
     "iopub.status.busy": "2020-10-04T18:59:12.976364Z",
     "iopub.status.idle": "2020-10-04T18:59:12.992361Z",
     "shell.execute_reply": "2020-10-04T18:59:12.993462Z"
    },
    "lines_to_next_cell": 0,
    "title": "codecell"
   },
   "outputs": [
    {
     "data": {
      "text/latex": [
       "$\\displaystyle \\left[\\begin{matrix}w_{21} & w_{22}\\\\0 & 0\\\\0 & 0\\\\0 & 0\\\\0 & 0\\end{matrix}\\right]$"
      ],
      "text/plain": [
       "Matrix([\n",
       "[w_21, w_22],\n",
       "[   0,    0],\n",
       "[   0,    0],\n",
       "[   0,    0],\n",
       "[   0,    0]])"
      ]
     },
     "execution_count": 1,
     "metadata": {},
     "output_type": "execute_result"
    }
   ],
   "source": [
    "E_12*W"
   ]
  },
  {
   "cell_type": "code",
   "execution_count": 13,
   "metadata": {
    "execution": {
     "iopub.execute_input": "2020-10-04T18:59:12.998941Z",
     "iopub.status.busy": "2020-10-04T18:59:12.997364Z",
     "iopub.status.idle": "2020-10-04T18:59:13.020076Z",
     "shell.execute_reply": "2020-10-04T18:59:13.021217Z"
    },
    "lines_to_next_cell": 0,
    "title": "codecell"
   },
   "outputs": [
    {
     "data": {
      "text/latex": [
       "$\\displaystyle \\left[\\begin{matrix}w_{21} & w_{22}\\\\0 & 0\\\\0 & 0\\\\0 & 0\\\\0 & 0\\end{matrix}\\right]$"
      ],
      "text/plain": [
       "[[w_21, w_22], [0, 0], [0, 0], [0, 0], [0, 0]]"
      ]
     },
     "execution_count": 1,
     "metadata": {},
     "output_type": "execute_result"
    }
   ],
   "source": [
    "derive_by_array(Y, X[0,1])"
   ]
  },
  {
   "cell_type": "code",
   "execution_count": 14,
   "metadata": {
    "execution": {
     "iopub.execute_input": "2020-10-04T18:59:13.026441Z",
     "iopub.status.busy": "2020-10-04T18:59:13.024788Z",
     "iopub.status.idle": "2020-10-04T18:59:13.054631Z",
     "shell.execute_reply": "2020-10-04T18:59:13.055800Z"
    },
    "title": "codecell"
   },
   "outputs": [],
   "source": [
    "assert Matrix(derive_by_array(Y, X[0,1])) == E_12 * W\n",
    "\n",
    "assert Matrix(derive_by_array(Y, X[0,1])) == Y.diff(X[0,1])"
   ]
  }
 ],
 "metadata": {
  "jupytext": {
   "cell_metadata_filter": "title,-all"
  },
  "kernelspec": {
   "display_name": "pymatrix_env",
   "language": "python",
   "name": "pymatrix_env"
  },
  "language_info": {
   "codemirror_mode": {
    "name": "ipython",
    "version": 3
   },
   "file_extension": ".py",
   "mimetype": "text/x-python",
   "name": "python",
   "nbconvert_exporter": "python",
   "pygments_lexer": "ipython3",
   "version": "3.7.8"
  }
 },
 "nbformat": 4,
 "nbformat_minor": 4
}
