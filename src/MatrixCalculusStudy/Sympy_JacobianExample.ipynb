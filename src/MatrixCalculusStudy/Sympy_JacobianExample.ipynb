{
 "cells": [
  {
   "cell_type": "code",
   "execution_count": 1,
   "metadata": {
    "execution": {
     "iopub.execute_input": "2020-10-04T19:01:20.838361Z",
     "iopub.status.busy": "2020-10-04T19:01:20.837299Z",
     "iopub.status.idle": "2020-10-04T19:01:21.602080Z",
     "shell.execute_reply": "2020-10-04T19:01:21.603361Z"
    },
    "lines_to_next_cell": 0,
    "title": "codecell"
   },
   "outputs": [
    {
     "data": {
      "text/latex": [
       "$\\displaystyle \\left[\\begin{array}{cc}w_{0, 0} & w_{0, 1}\\\\w_{1, 0} & w_{1, 1}\\\\w_{2, 0} & w_{2, 1}\\end{array}\\right]$"
      ],
      "text/plain": [
       "Matrix([\n",
       "[w[0, 0], w[0, 1]],\n",
       "[w[1, 0], w[1, 1]],\n",
       "[w[2, 0], w[2, 1]]])"
      ]
     },
     "execution_count": 1,
     "metadata": {},
     "output_type": "execute_result"
    }
   ],
   "source": [
    "from sympy import Matrix, MatrixSymbol, Symbol, derive_by_array\n",
    "\n",
    "\n",
    "\n",
    "X = Matrix(MatrixSymbol('x', 3,3)); X\n",
    "W = Matrix(MatrixSymbol('w', 3,2)); W"
   ]
  },
  {
   "cell_type": "code",
   "execution_count": 2,
   "metadata": {
    "execution": {
     "iopub.execute_input": "2020-10-04T19:01:21.612800Z",
     "iopub.status.busy": "2020-10-04T19:01:21.607540Z",
     "iopub.status.idle": "2020-10-04T19:01:22.420869Z",
     "shell.execute_reply": "2020-10-04T19:01:22.422074Z"
    },
    "title": "codecell"
   },
   "outputs": [
    {
     "data": {
      "text/latex": [
       "$\\displaystyle \\left[\\begin{array}{cc}w_{0, 0} x_{0, 0} + w_{1, 0} x_{0, 1} + w_{2, 0} x_{0, 2} & w_{0, 1} x_{0, 0} + w_{1, 1} x_{0, 1} + w_{2, 1} x_{0, 2}\\\\w_{0, 0} x_{1, 0} + w_{1, 0} x_{1, 1} + w_{2, 0} x_{1, 2} & w_{0, 1} x_{1, 0} + w_{1, 1} x_{1, 1} + w_{2, 1} x_{1, 2}\\\\w_{0, 0} x_{2, 0} + w_{1, 0} x_{2, 1} + w_{2, 0} x_{2, 2} & w_{0, 1} x_{2, 0} + w_{1, 1} x_{2, 1} + w_{2, 1} x_{2, 2}\\end{array}\\right]$"
      ],
      "text/plain": [
       "Matrix([\n",
       "[w[0, 0]*x[0, 0] + w[1, 0]*x[0, 1] + w[2, 0]*x[0, 2], w[0, 1]*x[0, 0] + w[1, 1]*x[0, 1] + w[2, 1]*x[0, 2]],\n",
       "[w[0, 0]*x[1, 0] + w[1, 0]*x[1, 1] + w[2, 0]*x[1, 2], w[0, 1]*x[1, 0] + w[1, 1]*x[1, 1] + w[2, 1]*x[1, 2]],\n",
       "[w[0, 0]*x[2, 0] + w[1, 0]*x[2, 1] + w[2, 0]*x[2, 2], w[0, 1]*x[2, 0] + w[1, 1]*x[2, 1] + w[2, 1]*x[2, 2]]])"
      ]
     },
     "execution_count": 1,
     "metadata": {},
     "output_type": "execute_result"
    }
   ],
   "source": [
    "X*W"
   ]
  },
  {
   "cell_type": "code",
   "execution_count": 3,
   "metadata": {
    "execution": {
     "iopub.execute_input": "2020-10-04T19:01:22.427069Z",
     "iopub.status.busy": "2020-10-04T19:01:22.425538Z",
     "iopub.status.idle": "2020-10-04T19:01:22.589107Z",
     "shell.execute_reply": "2020-10-04T19:01:22.590409Z"
    },
    "lines_to_next_cell": 0,
    "title": "codecell"
   },
   "outputs": [
    {
     "data": {
      "text/latex": [
       "$\\displaystyle \\left[\\begin{matrix}\\left[\\begin{matrix}w_{0, 0} & w_{0, 1}\\\\0 & 0\\\\0 & 0\\end{matrix}\\right] & \\left[\\begin{matrix}w_{1, 0} & w_{1, 1}\\\\0 & 0\\\\0 & 0\\end{matrix}\\right] & \\left[\\begin{matrix}w_{2, 0} & w_{2, 1}\\\\0 & 0\\\\0 & 0\\end{matrix}\\right]\\\\\\left[\\begin{matrix}0 & 0\\\\w_{0, 0} & w_{0, 1}\\\\0 & 0\\end{matrix}\\right] & \\left[\\begin{matrix}0 & 0\\\\w_{1, 0} & w_{1, 1}\\\\0 & 0\\end{matrix}\\right] & \\left[\\begin{matrix}0 & 0\\\\w_{2, 0} & w_{2, 1}\\\\0 & 0\\end{matrix}\\right]\\\\\\left[\\begin{matrix}0 & 0\\\\0 & 0\\\\w_{0, 0} & w_{0, 1}\\end{matrix}\\right] & \\left[\\begin{matrix}0 & 0\\\\0 & 0\\\\w_{1, 0} & w_{1, 1}\\end{matrix}\\right] & \\left[\\begin{matrix}0 & 0\\\\0 & 0\\\\w_{2, 0} & w_{2, 1}\\end{matrix}\\right]\\end{matrix}\\right]$"
      ],
      "text/plain": [
       "[[[[w[0, 0], w[0, 1]], [0, 0], [0, 0]], [[w[1, 0], w[1, 1]], [0, 0], [0, 0]], [[w[2, 0], w[2, 1]], [0, 0], [0, 0]]], [[[0, 0], [w[0, 0], w[0, 1]], [0, 0]], [[0, 0], [w[1, 0], w[1, 1]], [0, 0]], [[0, 0], [w[2, 0], w[2, 1]], [0, 0]]], [[[0, 0], [0, 0], [w[0, 0], w[0, 1]]], [[0, 0], [0, 0], [w[1, 0], w[1, 1]]], [[0, 0], [0, 0], [w[2, 0], w[2, 1]]]]]"
      ]
     },
     "execution_count": 1,
     "metadata": {},
     "output_type": "execute_result"
    }
   ],
   "source": [
    "derive_by_array(X*W, X)"
   ]
  },
  {
   "cell_type": "code",
   "execution_count": 4,
   "metadata": {
    "execution": {
     "iopub.execute_input": "2020-10-04T19:01:22.595990Z",
     "iopub.status.busy": "2020-10-04T19:01:22.594248Z",
     "iopub.status.idle": "2020-10-04T19:01:22.662830Z",
     "shell.execute_reply": "2020-10-04T19:01:22.664056Z"
    },
    "title": "codecell"
   },
   "outputs": [
    {
     "data": {
      "text/latex": [
       "$\\displaystyle \\left[\\begin{matrix}\\left[\\begin{matrix}w_{0, 0} & w_{0, 1}\\\\0 & 0\\\\0 & 0\\end{matrix}\\right] & \\left[\\begin{matrix}w_{1, 0} & w_{1, 1}\\\\0 & 0\\\\0 & 0\\end{matrix}\\right] & \\left[\\begin{matrix}w_{2, 0} & w_{2, 1}\\\\0 & 0\\\\0 & 0\\end{matrix}\\right]\\\\\\left[\\begin{matrix}0 & 0\\\\w_{0, 0} & w_{0, 1}\\\\0 & 0\\end{matrix}\\right] & \\left[\\begin{matrix}0 & 0\\\\w_{1, 0} & w_{1, 1}\\\\0 & 0\\end{matrix}\\right] & \\left[\\begin{matrix}0 & 0\\\\w_{2, 0} & w_{2, 1}\\\\0 & 0\\end{matrix}\\right]\\\\\\left[\\begin{matrix}0 & 0\\\\0 & 0\\\\w_{0, 0} & w_{0, 1}\\end{matrix}\\right] & \\left[\\begin{matrix}0 & 0\\\\0 & 0\\\\w_{1, 0} & w_{1, 1}\\end{matrix}\\right] & \\left[\\begin{matrix}0 & 0\\\\0 & 0\\\\w_{2, 0} & w_{2, 1}\\end{matrix}\\right]\\end{matrix}\\right]$"
      ],
      "text/plain": [
       "[[[[w[0, 0], w[0, 1]], [0, 0], [0, 0]], [[w[1, 0], w[1, 1]], [0, 0], [0, 0]], [[w[2, 0], w[2, 1]], [0, 0], [0, 0]]], [[[0, 0], [w[0, 0], w[0, 1]], [0, 0]], [[0, 0], [w[1, 0], w[1, 1]], [0, 0]], [[0, 0], [w[2, 0], w[2, 1]], [0, 0]]], [[[0, 0], [0, 0], [w[0, 0], w[0, 1]]], [[0, 0], [0, 0], [w[1, 0], w[1, 1]]], [[0, 0], [0, 0], [w[2, 0], w[2, 1]]]]]"
      ]
     },
     "execution_count": 1,
     "metadata": {},
     "output_type": "execute_result"
    }
   ],
   "source": [
    "(X*W).diff(X)\n",
    "\n",
    "\n"
   ]
  },
  {
   "cell_type": "code",
   "execution_count": 5,
   "metadata": {
    "execution": {
     "iopub.execute_input": "2020-10-04T19:01:22.669206Z",
     "iopub.status.busy": "2020-10-04T19:01:22.667575Z",
     "iopub.status.idle": "2020-10-04T19:01:22.683591Z",
     "shell.execute_reply": "2020-10-04T19:01:22.684698Z"
    },
    "lines_to_next_cell": 0,
    "title": "codecell"
   },
   "outputs": [
    {
     "data": {
      "text/plain": [
       "[f(x, y, z), g(x, y, z), h(x, y, z)]"
      ]
     },
     "execution_count": 1,
     "metadata": {},
     "output_type": "execute_result"
    }
   ],
   "source": [
    "from sympy import diff, sin, exp, symbols, Function\n",
    "#from sympy.core.multidimensional import vectorize #\n",
    "\n",
    "#@vectorize(0,1)\n",
    "#def vdiff(func, arg):\n",
    "#     return diff(func, arg)\n",
    "\n",
    "\n",
    "\n",
    "x, y, z = symbols('x y z')\n",
    "f, g, h = list(map(Function, 'fgh'))\n",
    "\n",
    "xv = x,y,z\n",
    "#f(xv).subs({x:1, y:2,z:3})\n",
    "yv = [f(*xv), g(*xv), h(*xv)]; yv"
   ]
  },
  {
   "cell_type": "code",
   "execution_count": 6,
   "metadata": {
    "execution": {
     "iopub.execute_input": "2020-10-04T19:01:22.689875Z",
     "iopub.status.busy": "2020-10-04T19:01:22.688183Z",
     "iopub.status.idle": "2020-10-04T19:01:22.700148Z",
     "shell.execute_reply": "2020-10-04T19:01:22.701273Z"
    },
    "lines_to_next_cell": 0,
    "title": "codecell"
   },
   "outputs": [
    {
     "data": {
      "text/latex": [
       "$\\displaystyle \\left[\\begin{matrix}f{\\left(x,y,z \\right)}\\\\g{\\left(x,y,z \\right)}\\\\h{\\left(x,y,z \\right)}\\end{matrix}\\right]$"
      ],
      "text/plain": [
       "Matrix([\n",
       "[f(x, y, z)],\n",
       "[g(x, y, z)],\n",
       "[h(x, y, z)]])"
      ]
     },
     "execution_count": 1,
     "metadata": {},
     "output_type": "execute_result"
    }
   ],
   "source": [
    "Matrix(yv)"
   ]
  },
  {
   "cell_type": "code",
   "execution_count": 7,
   "metadata": {
    "execution": {
     "iopub.execute_input": "2020-10-04T19:01:22.706250Z",
     "iopub.status.busy": "2020-10-04T19:01:22.704775Z",
     "iopub.status.idle": "2020-10-04T19:01:22.715420Z",
     "shell.execute_reply": "2020-10-04T19:01:22.716632Z"
    },
    "lines_to_next_cell": 0,
    "title": "codecell"
   },
   "outputs": [
    {
     "data": {
      "text/latex": [
       "$\\displaystyle \\left[\\begin{matrix}x\\\\y\\\\z\\end{matrix}\\right]$"
      ],
      "text/plain": [
       "Matrix([\n",
       "[x],\n",
       "[y],\n",
       "[z]])"
      ]
     },
     "execution_count": 1,
     "metadata": {},
     "output_type": "execute_result"
    }
   ],
   "source": [
    "Matrix(xv)"
   ]
  },
  {
   "cell_type": "code",
   "execution_count": 8,
   "metadata": {
    "execution": {
     "iopub.execute_input": "2020-10-04T19:01:22.721791Z",
     "iopub.status.busy": "2020-10-04T19:01:22.720275Z",
     "iopub.status.idle": "2020-10-04T19:01:22.750679Z",
     "shell.execute_reply": "2020-10-04T19:01:22.751905Z"
    },
    "title": "codecell"
   },
   "outputs": [
    {
     "data": {
      "text/latex": [
       "$\\displaystyle \\left[\\begin{matrix}\\frac{\\partial}{\\partial x} f{\\left(x,y,z \\right)} & \\frac{\\partial}{\\partial y} f{\\left(x,y,z \\right)} & \\frac{\\partial}{\\partial z} f{\\left(x,y,z \\right)}\\\\\\frac{\\partial}{\\partial x} g{\\left(x,y,z \\right)} & \\frac{\\partial}{\\partial y} g{\\left(x,y,z \\right)} & \\frac{\\partial}{\\partial z} g{\\left(x,y,z \\right)}\\\\\\frac{\\partial}{\\partial x} h{\\left(x,y,z \\right)} & \\frac{\\partial}{\\partial y} h{\\left(x,y,z \\right)} & \\frac{\\partial}{\\partial z} h{\\left(x,y,z \\right)}\\end{matrix}\\right]$"
      ],
      "text/plain": [
       "Matrix([\n",
       "[Derivative(f(x, y, z), x), Derivative(f(x, y, z), y), Derivative(f(x, y, z), z)],\n",
       "[Derivative(g(x, y, z), x), Derivative(g(x, y, z), y), Derivative(g(x, y, z), z)],\n",
       "[Derivative(h(x, y, z), x), Derivative(h(x, y, z), y), Derivative(h(x, y, z), z)]])"
      ]
     },
     "execution_count": 1,
     "metadata": {},
     "output_type": "execute_result"
    }
   ],
   "source": [
    "Matrix(yv).jacobian(xv)\n",
    "\n"
   ]
  },
  {
   "cell_type": "code",
   "execution_count": 9,
   "metadata": {
    "execution": {
     "iopub.execute_input": "2020-10-04T19:01:22.756990Z",
     "iopub.status.busy": "2020-10-04T19:01:22.755370Z",
     "iopub.status.idle": "2020-10-04T19:01:22.785938Z",
     "shell.execute_reply": "2020-10-04T19:01:22.787034Z"
    },
    "title": "codecell"
   },
   "outputs": [
    {
     "data": {
      "text/latex": [
       "$\\displaystyle \\left[\\begin{matrix}\\frac{\\partial}{\\partial x} f{\\left(x,y,z \\right)} & \\frac{\\partial}{\\partial x} g{\\left(x,y,z \\right)} & \\frac{\\partial}{\\partial x} h{\\left(x,y,z \\right)}\\\\\\frac{\\partial}{\\partial y} f{\\left(x,y,z \\right)} & \\frac{\\partial}{\\partial y} g{\\left(x,y,z \\right)} & \\frac{\\partial}{\\partial y} h{\\left(x,y,z \\right)}\\\\\\frac{\\partial}{\\partial z} f{\\left(x,y,z \\right)} & \\frac{\\partial}{\\partial z} g{\\left(x,y,z \\right)} & \\frac{\\partial}{\\partial z} h{\\left(x,y,z \\right)}\\end{matrix}\\right]$"
      ],
      "text/plain": [
       "[[Derivative(f(x, y, z), x), Derivative(g(x, y, z), x), Derivative(h(x, y, z), x)], [Derivative(f(x, y, z), y), Derivative(g(x, y, z), y), Derivative(h(x, y, z), y)], [Derivative(f(x, y, z), z), Derivative(g(x, y, z), z), Derivative(h(x, y, z), z)]]"
      ]
     },
     "execution_count": 1,
     "metadata": {},
     "output_type": "execute_result"
    }
   ],
   "source": [
    "derive_by_array(yv, xv)"
   ]
  },
  {
   "cell_type": "code",
   "execution_count": 10,
   "metadata": {
    "execution": {
     "iopub.execute_input": "2020-10-04T19:01:22.792175Z",
     "iopub.status.busy": "2020-10-04T19:01:22.790618Z",
     "iopub.status.idle": "2020-10-04T19:01:22.819290Z",
     "shell.execute_reply": "2020-10-04T19:01:22.820511Z"
    },
    "title": "codecell"
   },
   "outputs": [],
   "source": [
    "assert Matrix(derive_by_array(yv, xv)).transpose() == Matrix(yv).jacobian(xv)"
   ]
  },
  {
   "cell_type": "code",
   "execution_count": 11,
   "metadata": {
    "execution": {
     "iopub.execute_input": "2020-10-04T19:01:22.827545Z",
     "iopub.status.busy": "2020-10-04T19:01:22.823788Z",
     "iopub.status.idle": "2020-10-04T19:01:22.882360Z",
     "shell.execute_reply": "2020-10-04T19:01:22.883629Z"
    },
    "title": "codecell"
   },
   "outputs": [
    {
     "data": {
      "text/latex": [
       "$\\displaystyle \\left[\\begin{matrix}\\left. \\frac{d}{d x} f{\\left(x,2,3 \\right)} \\right|_{\\substack{ x=1 }} & \\left. \\frac{d}{d y} f{\\left(1,y,3 \\right)} \\right|_{\\substack{ y=2 }} & \\left. \\frac{d}{d z} f{\\left(1,2,z \\right)} \\right|_{\\substack{ z=3 }}\\\\\\left. \\frac{d}{d x} g{\\left(x,2,3 \\right)} \\right|_{\\substack{ x=1 }} & \\left. \\frac{d}{d y} g{\\left(1,y,3 \\right)} \\right|_{\\substack{ y=2 }} & \\left. \\frac{d}{d z} g{\\left(1,2,z \\right)} \\right|_{\\substack{ z=3 }}\\\\\\left. \\frac{d}{d x} h{\\left(x,2,3 \\right)} \\right|_{\\substack{ x=1 }} & \\left. \\frac{d}{d y} h{\\left(1,y,3 \\right)} \\right|_{\\substack{ y=2 }} & \\left. \\frac{d}{d z} h{\\left(1,2,z \\right)} \\right|_{\\substack{ z=3 }}\\end{matrix}\\right]$"
      ],
      "text/plain": [
       "Matrix([\n",
       "[Subs(Derivative(f(x, 2, 3), x), x, 1), Subs(Derivative(f(1, y, 3), y), y, 2), Subs(Derivative(f(1, 2, z), z), z, 3)],\n",
       "[Subs(Derivative(g(x, 2, 3), x), x, 1), Subs(Derivative(g(1, y, 3), y), y, 2), Subs(Derivative(g(1, 2, z), z), z, 3)],\n",
       "[Subs(Derivative(h(x, 2, 3), x), x, 1), Subs(Derivative(h(1, y, 3), y), y, 2), Subs(Derivative(h(1, 2, z), z), z, 3)]])"
      ]
     },
     "execution_count": 1,
     "metadata": {},
     "output_type": "execute_result"
    }
   ],
   "source": [
    "\n",
    "### TEST 2: substituting values\n",
    "m = Matrix(yv).jacobian(xv)\n",
    "m.subs({x:1, y:2, z:3})"
   ]
  },
  {
   "cell_type": "code",
   "execution_count": 12,
   "metadata": {
    "execution": {
     "iopub.execute_input": "2020-10-04T19:01:22.888847Z",
     "iopub.status.busy": "2020-10-04T19:01:22.887269Z",
     "iopub.status.idle": "2020-10-04T19:01:22.946963Z",
     "shell.execute_reply": "2020-10-04T19:01:22.948166Z"
    },
    "title": "codecell"
   },
   "outputs": [
    {
     "data": {
      "text/latex": [
       "$\\displaystyle \\left[\\begin{matrix}\\frac{\\partial}{\\partial x} x^{2} y z & \\frac{\\partial}{\\partial y} x^{2} y z & \\frac{\\partial}{\\partial z} x^{2} y z\\\\\\frac{\\partial}{\\partial x} \\sin{\\left(3 x y z \\right)} & \\frac{\\partial}{\\partial y} \\sin{\\left(3 x y z \\right)} & \\frac{\\partial}{\\partial z} \\sin{\\left(3 x y z \\right)}\\\\\\frac{\\partial}{\\partial x} \\left(y + z e^{x}\\right) & \\frac{\\partial}{\\partial y} \\left(y + z e^{x}\\right) & \\frac{\\partial}{\\partial z} \\left(y + z e^{x}\\right)\\end{matrix}\\right]$"
      ],
      "text/plain": [
       "Matrix([\n",
       "[    Derivative(x**2*y*z, x),     Derivative(x**2*y*z, y),     Derivative(x**2*y*z, z)],\n",
       "[Derivative(sin(3*x*y*z), x), Derivative(sin(3*x*y*z), y), Derivative(sin(3*x*y*z), z)],\n",
       "[Derivative(y + z*exp(x), x), Derivative(y + z*exp(x), y), Derivative(y + z*exp(x), z)]])"
      ]
     },
     "execution_count": 1,
     "metadata": {},
     "output_type": "execute_result"
    }
   ],
   "source": [
    "m.subs({f(*xv):x**2 * y*z, g(*xv):sin(x*y*z*3), h(*xv):y + z*exp(x)})"
   ]
  },
  {
   "cell_type": "code",
   "execution_count": 13,
   "metadata": {
    "execution": {
     "iopub.execute_input": "2020-10-04T19:01:22.954362Z",
     "iopub.status.busy": "2020-10-04T19:01:22.951505Z",
     "iopub.status.idle": "2020-10-04T19:01:23.020949Z",
     "shell.execute_reply": "2020-10-04T19:01:23.022228Z"
    },
    "title": "codecell"
   },
   "outputs": [
    {
     "data": {
      "text/latex": [
       "$\\displaystyle \\left[\\begin{matrix}2 x y z & x^{2} z & x^{2} y\\\\3 y z \\cos{\\left(3 x y z \\right)} & 3 x z \\cos{\\left(3 x y z \\right)} & 3 x y \\cos{\\left(3 x y z \\right)}\\\\z e^{x} & 1 & e^{x}\\end{matrix}\\right]$"
      ],
      "text/plain": [
       "Matrix([\n",
       "[           2*x*y*z,             x**2*z,             x**2*y],\n",
       "[3*y*z*cos(3*x*y*z), 3*x*z*cos(3*x*y*z), 3*x*y*cos(3*x*y*z)],\n",
       "[          z*exp(x),                  1,             exp(x)]])"
      ]
     },
     "execution_count": 1,
     "metadata": {},
     "output_type": "execute_result"
    }
   ],
   "source": [
    "m_subs = m.subs({f(*xv):x**2 * y*z, g(*xv):sin(x*y*z*3), h(*xv):y + z*exp(x)})\n",
    "m_subs.doit()"
   ]
  },
  {
   "cell_type": "code",
   "execution_count": 14,
   "metadata": {
    "execution": {
     "iopub.execute_input": "2020-10-04T19:01:23.027565Z",
     "iopub.status.busy": "2020-10-04T19:01:23.025820Z",
     "iopub.status.idle": "2020-10-04T19:01:23.061168Z",
     "shell.execute_reply": "2020-10-04T19:01:23.062262Z"
    },
    "lines_to_next_cell": 0,
    "title": "codecell"
   },
   "outputs": [
    {
     "data": {
      "text/latex": [
       "$\\displaystyle \\left[\\begin{matrix}12 & 3 & 2\\\\18 \\cos{\\left(18 \\right)} & 9 \\cos{\\left(18 \\right)} & 6 \\cos{\\left(18 \\right)}\\\\3 e & 1 & e\\end{matrix}\\right]$"
      ],
      "text/plain": [
       "Matrix([\n",
       "[        12,         3,         2],\n",
       "[18*cos(18), 9*cos(18), 6*cos(18)],\n",
       "[       3*E,         1,         E]])"
      ]
     },
     "execution_count": 1,
     "metadata": {},
     "output_type": "execute_result"
    }
   ],
   "source": [
    "m_subs.doit().subs({x:1, y:2, z:3})"
   ]
  },
  {
   "cell_type": "code",
   "execution_count": 15,
   "metadata": {
    "title": "codecell"
   },
   "outputs": [],
   "source": []
  }
 ],
 "metadata": {
  "jupytext": {
   "cell_metadata_filter": "title,-all"
  },
  "kernelspec": {
   "display_name": "pymatrix_env",
   "language": "python",
   "name": "pymatrix_env"
  },
  "language_info": {
   "codemirror_mode": {
    "name": "ipython",
    "version": 3
   },
   "file_extension": ".py",
   "mimetype": "text/x-python",
   "name": "python",
   "nbconvert_exporter": "python",
   "pygments_lexer": "ipython3",
   "version": "3.7.8"
  }
 },
 "nbformat": 4,
 "nbformat_minor": 4
}
