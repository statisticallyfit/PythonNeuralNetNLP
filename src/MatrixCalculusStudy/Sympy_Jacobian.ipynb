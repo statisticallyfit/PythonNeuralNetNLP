{
 "cells": [
  {
   "cell_type": "markdown",
   "execution_count": 1,
   "metadata": {},
   "source": [
    "# Review: Jacobian Matrix"
   ]
  },
  {
   "cell_type": "code",
   "execution_count": 1,
   "metadata": {
    "execution": {
     "iopub.execute_input": "2020-11-03T08:31:50.468147Z",
     "iopub.status.busy": "2020-11-03T08:31:50.467113Z",
     "iopub.status.idle": "2020-11-03T08:31:50.472326Z",
     "shell.execute_reply": "2020-11-03T08:31:50.473073Z"
    },
    "title": "codecell"
   },
   "outputs": [],
   "source": [
    "import sys\n",
    "import os\n",
    "\n",
    "PATH: str = '/development/projects/statisticallyfit/github/learningmathstat/PythonNeuralNetNLP'\n",
    "\n",
    "NEURALNET_PATH: str = PATH + '/src/MatrixCalculusStudy'\n",
    "\n",
    "sys.path.append(PATH)\n",
    "sys.path.append(NEURALNET_PATH)"
   ]
  },
  {
   "cell_type": "code",
   "execution_count": 2,
   "metadata": {
    "execution": {
     "iopub.execute_input": "2020-11-03T08:31:50.478566Z",
     "iopub.status.busy": "2020-11-03T08:31:50.477658Z",
     "iopub.status.idle": "2020-11-03T08:31:51.276690Z",
     "shell.execute_reply": "2020-11-03T08:31:51.277826Z"
    },
    "lines_to_next_cell": 2,
    "title": "codecell"
   },
   "outputs": [],
   "source": [
    "from sympy import Matrix, MatrixSymbol, Symbol, derive_by_array, diff, sin, exp, symbols, Function\n",
    "from sympy.abc import i, j"
   ]
  },
  {
   "cell_type": "code",
   "execution_count": 3,
   "metadata": {
    "execution": {
     "iopub.execute_input": "2020-11-03T08:31:51.285596Z",
     "iopub.status.busy": "2020-11-03T08:31:51.281268Z",
     "iopub.status.idle": "2020-11-03T08:31:51.988944Z",
     "shell.execute_reply": "2020-11-03T08:31:51.990139Z"
    }
   },
   "outputs": [],
   "source": [
    "from src.utils.GeneralUtil import *\n",
    "from src.MatrixCalculusStudy.MatrixDerivLib.symbols import Deriv\n",
    "from src.MatrixCalculusStudy.MatrixDerivLib.diff import diffMatrix\n",
    "from src.MatrixCalculusStudy.MatrixDerivLib.printingLatex import myLatexPrinter\n",
    "\n",
    "from IPython.display import display, Math\n",
    "from sympy.interactive import printing\n",
    "printing.init_printing(use_latex='mathjax', latex_printer= lambda e, **kw: myLatexPrinter.doprint(e))"
   ]
  },
  {
   "cell_type": "markdown",
   "execution_count": 4,
   "metadata": {},
   "source": [
    "### Jacobian Matrix and Multivariable Functions\n",
    "A vector $\\mathbf{f} = \\big( f_1, f_2, ..., f_m \\big)$ of $m$ functions, each depending on $n$ variables $\\mathbf{x} = \\big(x_1, x_2, ..., x_n \\big)$ defines a transformation or function from $\\mathbb{R}^n$ to $\\mathbb{R}^m$. Specifically, if $\\mathbf{x} \\in \\mathbb{R}^n$ and if:\n",
    "$$\n",
    "y_1 = f_1 \\big(x_1,x_2,...,x_n \\big) \\\\\n",
    "y_2 = f_2 \\big(x_1,x_2,...,x_n \\big) \\\\\n",
    "\\vdots \\\\\n",
    "y_m = f_m \\big(x_1,x_2,...,x_n \\big)\n",
    "$$\n",
    "then $\\mathbf{y} = \\big(y_1, y_2, ..., y_m \\big)$ is the point in $\\mathbb{R}^m$ that corresponds to $\\mathbf{x}$ under the transformation $\\mathbf{f}$. We can write these equations more compactly as:\n",
    "$$\n",
    "\\mathbf{y} = \\mathbf{f}(\\mathbf{x})\n",
    "$$\n",
    "Information about the rate of change of $\\mathbf{y}$ with respect to $\\mathbf{x}$ is contained in the various partial derivatives $\\frac{\\partial y_i}{\\partial x_j}$ for $1 \\leq i \\leq m, 1 \\leq j \\leq n$ and is conveniently organized into an $m \\times n$ matrix $\\frac{\\partial \\mathbf{y}}{\\partial \\mathbf{x}}$ called the **Jacobian matrix** of the transformation $\\mathbf{f}$. The Jacobian matrix is the collection of all $m \\times n$ possible partial derivatives ($m$ rows and $n$ columns), which is the stack of $m$ gradients with respect to $\\mathbf{x}$:\n",
    "$$\n",
    "\\Large\n",
    "\\begin{aligned}\n",
    "\\frac{\\partial \\mathbf{y}}{\\partial \\mathbf{x}} &= \\begin{pmatrix}\n",
    "   \\nabla f_1(\\mathbf{x}) \\\\\n",
    "   \\nabla f_2(\\mathbf{x}) \\\\\n",
    "   \\vdots \\\\\n",
    "   \\nabla f_m(\\mathbf{x})\n",
    "\\end{pmatrix}\n",
    "= \\begin{pmatrix}\n",
    "   \\frac{\\partial}{\\partial \\mathbf{x}} f_1(\\mathbf{x}) \\\\\n",
    "   \\frac{\\partial}{\\partial \\mathbf{x}} f_2(\\mathbf{x}) \\\\\n",
    "   \\vdots \\\\\n",
    "   \\frac{\\partial}{\\partial \\mathbf{x}} f_m(\\mathbf{x})\n",
    "\\end{pmatrix} \\\\\n",
    "&= \\begin{pmatrix}\n",
    "  \\frac{\\partial}{\\partial x_1} f_1(\\mathbf{x}) & \\frac{\\partial}{\\partial x_2} f_1(\\mathbf{x}) & ... & \\frac{\\partial}{\\partial x_n} f_1(\\mathbf{x}) \\\\\n",
    "  \\frac{\\partial}{\\partial x_1} f_2(\\mathbf{x}) & \\frac{\\partial}{\\partial x_2} f_2(\\mathbf{x}) & ... & \\frac{\\partial}{\\partial x_n} f_2(\\mathbf{x}) \\\\\n",
    "  \\vdots & \\vdots &  & \\vdots \\\\\n",
    "  \\frac{\\partial}{\\partial x_1} f_m(\\mathbf{x}) & \\frac{\\partial}{\\partial x_2} f_m(\\mathbf{x}) & ... & \\frac{\\partial}{\\partial x_n} f_m(\\mathbf{x})\n",
    "\\end{pmatrix} \\\\\n",
    "\n",
    "\\frac{\\partial \\mathbf{y}}{\\partial \\mathbf{x}} &= \\begin{pmatrix}\n",
    "  \\frac{\\partial f_1}{\\partial x_1} & \\frac{\\partial f_1}{\\partial x_2} & ... & \\frac{\\partial f_1}{\\partial x_n} \\\\\n",
    "  \\frac{\\partial f_2}{\\partial x_1} & \\frac{\\partial f_2}{\\partial x_2} & ... & \\frac{\\partial f_2}{\\partial x_n} \\\\\n",
    "  \\vdots & \\vdots &  & \\vdots \\\\\n",
    "  \\frac{\\partial f_m}{\\partial x_1} & \\frac{\\partial f_m}{\\partial x_2} & ... & \\frac{\\partial f_m}{\\partial x_n}\n",
    "\\end{pmatrix}\n",
    "\\end{aligned}\n",
    "$$\n",
    "This linear transformation represented by the Jacobian matrix is called **the derivative** of the transformation $\\mathbf{f}$.\n",
    "\n",
    "Each $\\frac{\\partial f_i}{\\partial \\mathbf{x}}$ is a horizontal $n$-vector because the partial derivative is with respect to a vector $\\mathbf{x}$ whose length is $n = |\\mathbf{x}|$, making the width of the Jacobian $n$ (there are $n$ parameters that are variable, each potentially changing the function's value).\n"
   ]
  },
  {
   "cell_type": "code",
   "execution_count": 4,
   "metadata": {
    "execution": {
     "iopub.execute_input": "2020-11-03T08:31:51.998479Z",
     "iopub.status.busy": "2020-11-03T08:31:51.993886Z",
     "iopub.status.idle": "2020-11-03T08:31:52.017679Z",
     "shell.execute_reply": "2020-11-03T08:31:52.018763Z"
    },
    "lines_to_next_cell": 0
   },
   "outputs": [
    {
     "data": {
      "text/latex": [
       "$\\displaystyle \\left[\\begin{array}{ccc}x_{0, 0} & x_{0, 1} & x_{0, 2}\\\\x_{1, 0} & x_{1, 1} & x_{1, 2}\\\\x_{2, 0} & x_{2, 1} & x_{2, 2}\\end{array}\\right]$"
      ],
      "text/plain": [
       "⎡x₀₀  x₀₁  x₀₂⎤\n",
       "⎢             ⎥\n",
       "⎢x₁₀  x₁₁  x₁₂⎥\n",
       "⎢             ⎥\n",
       "⎣x₂₀  x₂₁  x₂₂⎦"
      ]
     },
     "execution_count": 1,
     "metadata": {},
     "output_type": "execute_result"
    }
   ],
   "source": [
    "X = Matrix(MatrixSymbol('x', 3,3))\n",
    "X"
   ]
  },
  {
   "cell_type": "code",
   "execution_count": 5,
   "metadata": {
    "execution": {
     "iopub.execute_input": "2020-11-03T08:31:52.029560Z",
     "iopub.status.busy": "2020-11-03T08:31:52.022545Z",
     "iopub.status.idle": "2020-11-03T08:31:52.037462Z",
     "shell.execute_reply": "2020-11-03T08:31:52.038534Z"
    },
    "lines_to_next_cell": 0
   },
   "outputs": [
    {
     "data": {
      "text/latex": [
       "$\\displaystyle \\left[\\begin{array}{cc}w_{0, 0} & w_{0, 1}\\\\w_{1, 0} & w_{1, 1}\\\\w_{2, 0} & w_{2, 1}\\end{array}\\right]$"
      ],
      "text/plain": [
       "⎡w₀₀  w₀₁⎤\n",
       "⎢        ⎥\n",
       "⎢w₁₀  w₁₁⎥\n",
       "⎢        ⎥\n",
       "⎣w₂₀  w₂₁⎦"
      ]
     },
     "execution_count": 1,
     "metadata": {},
     "output_type": "execute_result"
    }
   ],
   "source": [
    "W = Matrix(MatrixSymbol('w', 3,2))\n",
    "W"
   ]
  },
  {
   "cell_type": "code",
   "execution_count": 6,
   "metadata": {
    "execution": {
     "iopub.execute_input": "2020-11-03T08:31:52.043865Z",
     "iopub.status.busy": "2020-11-03T08:31:52.042287Z",
     "iopub.status.idle": "2020-11-03T08:31:52.101855Z",
     "shell.execute_reply": "2020-11-03T08:31:52.103027Z"
    },
    "title": "codecell"
   },
   "outputs": [
    {
     "data": {
      "text/latex": [
       "$\\displaystyle \\left[\\begin{array}{cc}w_{0, 0} x_{0, 0} + w_{1, 0} x_{0, 1} + w_{2, 0} x_{0, 2} & w_{0, 1} x_{0, 0} + w_{1, 1} x_{0, 1} + w_{2, 1} x_{0, 2}\\\\w_{0, 0} x_{1, 0} + w_{1, 0} x_{1, 1} + w_{2, 0} x_{1, 2} & w_{0, 1} x_{1, 0} + w_{1, 1} x_{1, 1} + w_{2, 1} x_{1, 2}\\\\w_{0, 0} x_{2, 0} + w_{1, 0} x_{2, 1} + w_{2, 0} x_{2, 2} & w_{0, 1} x_{2, 0} + w_{1, 1} x_{2, 1} + w_{2, 1} x_{2, 2}\\end{array}\\right]$"
      ],
      "text/plain": [
       "⎡w₀₀⋅x₀₀ + w₁₀⋅x₀₁ + w₂₀⋅x₀₂  w₀₁⋅x₀₀ + w₁₁⋅x₀₁ + w₂₁⋅x₀₂⎤\n",
       "⎢                                                        ⎥\n",
       "⎢w₀₀⋅x₁₀ + w₁₀⋅x₁₁ + w₂₀⋅x₁₂  w₀₁⋅x₁₀ + w₁₁⋅x₁₁ + w₂₁⋅x₁₂⎥\n",
       "⎢                                                        ⎥\n",
       "⎣w₀₀⋅x₂₀ + w₁₀⋅x₂₁ + w₂₀⋅x₂₂  w₀₁⋅x₂₀ + w₁₁⋅x₂₁ + w₂₁⋅x₂₂⎦"
      ]
     },
     "execution_count": 1,
     "metadata": {},
     "output_type": "execute_result"
    }
   ],
   "source": [
    "X*W"
   ]
  },
  {
   "cell_type": "code",
   "execution_count": 7,
   "metadata": {
    "execution": {
     "iopub.execute_input": "2020-11-03T08:31:52.109107Z",
     "iopub.status.busy": "2020-11-03T08:31:52.106910Z",
     "iopub.status.idle": "2020-11-03T08:31:52.305946Z",
     "shell.execute_reply": "2020-11-03T08:31:52.307068Z"
    },
    "lines_to_next_cell": 0,
    "title": "codecell"
   },
   "outputs": [
    {
     "data": {
      "text/latex": [
       "$\\displaystyle \\left[\\begin{matrix}\\left[\\begin{matrix}w_{0, 0} & w_{0, 1}\\\\0 & 0\\\\0 & 0\\end{matrix}\\right] & \\left[\\begin{matrix}w_{1, 0} & w_{1, 1}\\\\0 & 0\\\\0 & 0\\end{matrix}\\right] & \\left[\\begin{matrix}w_{2, 0} & w_{2, 1}\\\\0 & 0\\\\0 & 0\\end{matrix}\\right]\\\\\\left[\\begin{matrix}0 & 0\\\\w_{0, 0} & w_{0, 1}\\\\0 & 0\\end{matrix}\\right] & \\left[\\begin{matrix}0 & 0\\\\w_{1, 0} & w_{1, 1}\\\\0 & 0\\end{matrix}\\right] & \\left[\\begin{matrix}0 & 0\\\\w_{2, 0} & w_{2, 1}\\\\0 & 0\\end{matrix}\\right]\\\\\\left[\\begin{matrix}0 & 0\\\\0 & 0\\\\w_{0, 0} & w_{0, 1}\\end{matrix}\\right] & \\left[\\begin{matrix}0 & 0\\\\0 & 0\\\\w_{1, 0} & w_{1, 1}\\end{matrix}\\right] & \\left[\\begin{matrix}0 & 0\\\\0 & 0\\\\w_{2, 0} & w_{2, 1}\\end{matrix}\\right]\\end{matrix}\\right]$"
      ],
      "text/plain": [
       "⎡⎡w₀₀  w₀₁⎤  ⎡w₁₀  w₁₁⎤  ⎡w₂₀  w₂₁⎤⎤\n",
       "⎢⎢        ⎥  ⎢        ⎥  ⎢        ⎥⎥\n",
       "⎢⎢ 0    0 ⎥  ⎢ 0    0 ⎥  ⎢ 0    0 ⎥⎥\n",
       "⎢⎢        ⎥  ⎢        ⎥  ⎢        ⎥⎥\n",
       "⎢⎣ 0    0 ⎦  ⎣ 0    0 ⎦  ⎣ 0    0 ⎦⎥\n",
       "⎢                                  ⎥\n",
       "⎢⎡ 0    0 ⎤  ⎡ 0    0 ⎤  ⎡ 0    0 ⎤⎥\n",
       "⎢⎢        ⎥  ⎢        ⎥  ⎢        ⎥⎥\n",
       "⎢⎢w₀₀  w₀₁⎥  ⎢w₁₀  w₁₁⎥  ⎢w₂₀  w₂₁⎥⎥\n",
       "⎢⎢        ⎥  ⎢        ⎥  ⎢        ⎥⎥\n",
       "⎢⎣ 0    0 ⎦  ⎣ 0    0 ⎦  ⎣ 0    0 ⎦⎥\n",
       "⎢                                  ⎥\n",
       "⎢⎡ 0    0 ⎤  ⎡ 0    0 ⎤  ⎡ 0    0 ⎤⎥\n",
       "⎢⎢        ⎥  ⎢        ⎥  ⎢        ⎥⎥\n",
       "⎢⎢ 0    0 ⎥  ⎢ 0    0 ⎥  ⎢ 0    0 ⎥⎥\n",
       "⎢⎢        ⎥  ⎢        ⎥  ⎢        ⎥⎥\n",
       "⎣⎣w₀₀  w₀₁⎦  ⎣w₁₀  w₁₁⎦  ⎣w₂₀  w₂₁⎦⎦"
      ]
     },
     "execution_count": 1,
     "metadata": {},
     "output_type": "execute_result"
    }
   ],
   "source": [
    "derive_by_array(X*W, X)"
   ]
  },
  {
   "cell_type": "code",
   "execution_count": 8,
   "metadata": {
    "execution": {
     "iopub.execute_input": "2020-11-03T08:31:52.313028Z",
     "iopub.status.busy": "2020-11-03T08:31:52.311321Z",
     "iopub.status.idle": "2020-11-03T08:31:52.403874Z",
     "shell.execute_reply": "2020-11-03T08:31:52.405010Z"
    },
    "title": "codecell"
   },
   "outputs": [
    {
     "data": {
      "text/latex": [
       "$\\displaystyle \\left[\\begin{matrix}\\left[\\begin{matrix}w_{0, 0} & w_{0, 1}\\\\0 & 0\\\\0 & 0\\end{matrix}\\right] & \\left[\\begin{matrix}w_{1, 0} & w_{1, 1}\\\\0 & 0\\\\0 & 0\\end{matrix}\\right] & \\left[\\begin{matrix}w_{2, 0} & w_{2, 1}\\\\0 & 0\\\\0 & 0\\end{matrix}\\right]\\\\\\left[\\begin{matrix}0 & 0\\\\w_{0, 0} & w_{0, 1}\\\\0 & 0\\end{matrix}\\right] & \\left[\\begin{matrix}0 & 0\\\\w_{1, 0} & w_{1, 1}\\\\0 & 0\\end{matrix}\\right] & \\left[\\begin{matrix}0 & 0\\\\w_{2, 0} & w_{2, 1}\\\\0 & 0\\end{matrix}\\right]\\\\\\left[\\begin{matrix}0 & 0\\\\0 & 0\\\\w_{0, 0} & w_{0, 1}\\end{matrix}\\right] & \\left[\\begin{matrix}0 & 0\\\\0 & 0\\\\w_{1, 0} & w_{1, 1}\\end{matrix}\\right] & \\left[\\begin{matrix}0 & 0\\\\0 & 0\\\\w_{2, 0} & w_{2, 1}\\end{matrix}\\right]\\end{matrix}\\right]$"
      ],
      "text/plain": [
       "⎡⎡w₀₀  w₀₁⎤  ⎡w₁₀  w₁₁⎤  ⎡w₂₀  w₂₁⎤⎤\n",
       "⎢⎢        ⎥  ⎢        ⎥  ⎢        ⎥⎥\n",
       "⎢⎢ 0    0 ⎥  ⎢ 0    0 ⎥  ⎢ 0    0 ⎥⎥\n",
       "⎢⎢        ⎥  ⎢        ⎥  ⎢        ⎥⎥\n",
       "⎢⎣ 0    0 ⎦  ⎣ 0    0 ⎦  ⎣ 0    0 ⎦⎥\n",
       "⎢                                  ⎥\n",
       "⎢⎡ 0    0 ⎤  ⎡ 0    0 ⎤  ⎡ 0    0 ⎤⎥\n",
       "⎢⎢        ⎥  ⎢        ⎥  ⎢        ⎥⎥\n",
       "⎢⎢w₀₀  w₀₁⎥  ⎢w₁₀  w₁₁⎥  ⎢w₂₀  w₂₁⎥⎥\n",
       "⎢⎢        ⎥  ⎢        ⎥  ⎢        ⎥⎥\n",
       "⎢⎣ 0    0 ⎦  ⎣ 0    0 ⎦  ⎣ 0    0 ⎦⎥\n",
       "⎢                                  ⎥\n",
       "⎢⎡ 0    0 ⎤  ⎡ 0    0 ⎤  ⎡ 0    0 ⎤⎥\n",
       "⎢⎢        ⎥  ⎢        ⎥  ⎢        ⎥⎥\n",
       "⎢⎢ 0    0 ⎥  ⎢ 0    0 ⎥  ⎢ 0    0 ⎥⎥\n",
       "⎢⎢        ⎥  ⎢        ⎥  ⎢        ⎥⎥\n",
       "⎣⎣w₀₀  w₀₁⎦  ⎣w₁₀  w₁₁⎦  ⎣w₂₀  w₂₁⎦⎦"
      ]
     },
     "execution_count": 1,
     "metadata": {},
     "output_type": "execute_result"
    }
   ],
   "source": [
    "(X*W).diff(X)\n",
    "\n",
    "\n"
   ]
  },
  {
   "cell_type": "code",
   "execution_count": 9,
   "metadata": {
    "execution": {
     "iopub.execute_input": "2020-11-03T08:31:52.412388Z",
     "iopub.status.busy": "2020-11-03T08:31:52.408347Z",
     "iopub.status.idle": "2020-11-03T08:31:52.421646Z",
     "shell.execute_reply": "2020-11-03T08:31:52.422713Z"
    },
    "lines_to_next_cell": 0,
    "title": "codecell"
   },
   "outputs": [
    {
     "data": {
      "text/latex": [
       "$\\displaystyle \\left( x, \\  y, \\  z\\right)$"
      ],
      "text/plain": [
       "(x, y, z)"
      ]
     },
     "execution_count": 1,
     "metadata": {},
     "output_type": "execute_result"
    }
   ],
   "source": [
    "\n",
    "x, y, z = symbols('x y z')\n",
    "f, g, h = list(map(Function, 'fgh'))\n",
    "\n",
    "xv = x,y,z\n",
    "xv"
   ]
  },
  {
   "cell_type": "code",
   "execution_count": 10,
   "metadata": {
    "execution": {
     "iopub.execute_input": "2020-11-03T08:31:52.427636Z",
     "iopub.status.busy": "2020-11-03T08:31:52.426145Z",
     "iopub.status.idle": "2020-11-03T08:31:52.439422Z",
     "shell.execute_reply": "2020-11-03T08:31:52.440490Z"
    },
    "lines_to_next_cell": 0
   },
   "outputs": [
    {
     "data": {
      "text/latex": [
       "$\\displaystyle \\left[ f{\\left(x,y,z \\right)}, \\  g{\\left(x,y,z \\right)}, \\  h{\\left(x,y,z \\right)}\\right]$"
      ],
      "text/plain": [
       "[f(x, y, z), g(x, y, z), h(x, y, z)]"
      ]
     },
     "execution_count": 1,
     "metadata": {},
     "output_type": "execute_result"
    }
   ],
   "source": [
    "yv = [f(*xv), g(*xv), h(*xv)]\n",
    "yv"
   ]
  },
  {
   "cell_type": "code",
   "execution_count": 11,
   "metadata": {
    "execution": {
     "iopub.execute_input": "2020-11-03T08:31:52.445324Z",
     "iopub.status.busy": "2020-11-03T08:31:52.443796Z",
     "iopub.status.idle": "2020-11-03T08:31:52.457863Z",
     "shell.execute_reply": "2020-11-03T08:31:52.458927Z"
    },
    "title": "codecell"
   },
   "outputs": [
    {
     "data": {
      "text/latex": [
       "$\\displaystyle \\left[\\begin{matrix}f{\\left(x,y,z \\right)}\\\\g{\\left(x,y,z \\right)}\\\\h{\\left(x,y,z \\right)}\\end{matrix}\\right]$"
      ],
      "text/plain": [
       "⎡f(x, y, z)⎤\n",
       "⎢          ⎥\n",
       "⎢g(x, y, z)⎥\n",
       "⎢          ⎥\n",
       "⎣h(x, y, z)⎦"
      ]
     },
     "execution_count": 1,
     "metadata": {},
     "output_type": "execute_result"
    }
   ],
   "source": [
    "Matrix(yv)"
   ]
  },
  {
   "cell_type": "code",
   "execution_count": 12,
   "metadata": {
    "execution": {
     "iopub.execute_input": "2020-11-03T08:31:52.464028Z",
     "iopub.status.busy": "2020-11-03T08:31:52.462490Z",
     "iopub.status.idle": "2020-11-03T08:31:52.506389Z",
     "shell.execute_reply": "2020-11-03T08:31:52.507538Z"
    },
    "title": "codecell"
   },
   "outputs": [
    {
     "data": {
      "text/latex": [
       "$\\displaystyle \\left[\\begin{matrix}\\frac{\\partial}{\\partial x} f{\\left(x,y,z \\right)} & \\frac{\\partial}{\\partial y} f{\\left(x,y,z \\right)} & \\frac{\\partial}{\\partial z} f{\\left(x,y,z \\right)}\\\\\\frac{\\partial}{\\partial x} g{\\left(x,y,z \\right)} & \\frac{\\partial}{\\partial y} g{\\left(x,y,z \\right)} & \\frac{\\partial}{\\partial z} g{\\left(x,y,z \\right)}\\\\\\frac{\\partial}{\\partial x} h{\\left(x,y,z \\right)} & \\frac{\\partial}{\\partial y} h{\\left(x,y,z \\right)} & \\frac{\\partial}{\\partial z} h{\\left(x,y,z \\right)}\\end{matrix}\\right]$"
      ],
      "text/plain": [
       "⎡∂               ∂               ∂             ⎤\n",
       "⎢──(f(x, y, z))  ──(f(x, y, z))  ──(f(x, y, z))⎥\n",
       "⎢∂x              ∂y              ∂z            ⎥\n",
       "⎢                                              ⎥\n",
       "⎢∂               ∂               ∂             ⎥\n",
       "⎢──(g(x, y, z))  ──(g(x, y, z))  ──(g(x, y, z))⎥\n",
       "⎢∂x              ∂y              ∂z            ⎥\n",
       "⎢                                              ⎥\n",
       "⎢∂               ∂               ∂             ⎥\n",
       "⎢──(h(x, y, z))  ──(h(x, y, z))  ──(h(x, y, z))⎥\n",
       "⎣∂x              ∂y              ∂z            ⎦"
      ]
     },
     "execution_count": 1,
     "metadata": {},
     "output_type": "execute_result"
    }
   ],
   "source": [
    "#display(Matrix(yv).jacobian(xv))\n",
    "Matrix(yv).jacobian(Matrix(xv))\n",
    "#display(yv.jacobian(xv))"
   ]
  },
  {
   "cell_type": "code",
   "execution_count": 13,
   "metadata": {
    "execution": {
     "iopub.execute_input": "2020-11-03T08:31:52.512628Z",
     "iopub.status.busy": "2020-11-03T08:31:52.511090Z",
     "iopub.status.idle": "2020-11-03T08:31:52.554727Z",
     "shell.execute_reply": "2020-11-03T08:31:52.555800Z"
    },
    "title": "codecell"
   },
   "outputs": [
    {
     "data": {
      "text/latex": [
       "$\\displaystyle \\left[\\begin{matrix}\\frac{\\partial}{\\partial x} f{\\left(x,y,z \\right)} & \\frac{\\partial}{\\partial x} g{\\left(x,y,z \\right)} & \\frac{\\partial}{\\partial x} h{\\left(x,y,z \\right)}\\\\\\frac{\\partial}{\\partial y} f{\\left(x,y,z \\right)} & \\frac{\\partial}{\\partial y} g{\\left(x,y,z \\right)} & \\frac{\\partial}{\\partial y} h{\\left(x,y,z \\right)}\\\\\\frac{\\partial}{\\partial z} f{\\left(x,y,z \\right)} & \\frac{\\partial}{\\partial z} g{\\left(x,y,z \\right)} & \\frac{\\partial}{\\partial z} h{\\left(x,y,z \\right)}\\end{matrix}\\right]$"
      ],
      "text/plain": [
       "⎡∂               ∂               ∂             ⎤\n",
       "⎢──(f(x, y, z))  ──(g(x, y, z))  ──(h(x, y, z))⎥\n",
       "⎢∂x              ∂x              ∂x            ⎥\n",
       "⎢                                              ⎥\n",
       "⎢∂               ∂               ∂             ⎥\n",
       "⎢──(f(x, y, z))  ──(g(x, y, z))  ──(h(x, y, z))⎥\n",
       "⎢∂y              ∂y              ∂y            ⎥\n",
       "⎢                                              ⎥\n",
       "⎢∂               ∂               ∂             ⎥\n",
       "⎢──(f(x, y, z))  ──(g(x, y, z))  ──(h(x, y, z))⎥\n",
       "⎣∂z              ∂z              ∂z            ⎦"
      ]
     },
     "execution_count": 1,
     "metadata": {},
     "output_type": "execute_result"
    }
   ],
   "source": [
    "derive_by_array(yv, xv)"
   ]
  },
  {
   "cell_type": "code",
   "execution_count": 14,
   "metadata": {
    "execution": {
     "iopub.execute_input": "2020-11-03T08:31:52.561039Z",
     "iopub.status.busy": "2020-11-03T08:31:52.559533Z",
     "iopub.status.idle": "2020-11-03T08:31:52.587511Z",
     "shell.execute_reply": "2020-11-03T08:31:52.588684Z"
    },
    "title": "codecell"
   },
   "outputs": [],
   "source": [
    "assert Matrix(derive_by_array(yv, xv)).transpose() == Matrix(yv).jacobian(xv)"
   ]
  },
  {
   "cell_type": "code",
   "execution_count": 15,
   "metadata": {
    "execution": {
     "iopub.execute_input": "2020-11-03T08:31:52.597310Z",
     "iopub.status.busy": "2020-11-03T08:31:52.592321Z",
     "iopub.status.idle": "2020-11-03T08:31:52.678205Z",
     "shell.execute_reply": "2020-11-03T08:31:52.679332Z"
    },
    "title": "codecell"
   },
   "outputs": [
    {
     "data": {
      "text/latex": [
       "$\\displaystyle \\left[\\begin{matrix}\\left. \\frac{d}{d x} f{\\left(x,2,3 \\right)} \\right|_{\\substack{ x=1 }} & \\left. \\frac{d}{d y} f{\\left(1,y,3 \\right)} \\right|_{\\substack{ y=2 }} & \\left. \\frac{d}{d z} f{\\left(1,2,z \\right)} \\right|_{\\substack{ z=3 }}\\\\\\left. \\frac{d}{d x} g{\\left(x,2,3 \\right)} \\right|_{\\substack{ x=1 }} & \\left. \\frac{d}{d y} g{\\left(1,y,3 \\right)} \\right|_{\\substack{ y=2 }} & \\left. \\frac{d}{d z} g{\\left(1,2,z \\right)} \\right|_{\\substack{ z=3 }}\\\\\\left. \\frac{d}{d x} h{\\left(x,2,3 \\right)} \\right|_{\\substack{ x=1 }} & \\left. \\frac{d}{d y} h{\\left(1,y,3 \\right)} \\right|_{\\substack{ y=2 }} & \\left. \\frac{d}{d z} h{\\left(1,2,z \\right)} \\right|_{\\substack{ z=3 }}\\end{matrix}\\right]$"
      ],
      "text/plain": [
       "⎡⎛d             ⎞│     ⎛d             ⎞│     ⎛d             ⎞│   ⎤\n",
       "⎢⎜──(f(x, 2, 3))⎟│     ⎜──(f(1, y, 3))⎟│     ⎜──(f(1, 2, z))⎟│   ⎥\n",
       "⎢⎝dx            ⎠│x=1  ⎝dy            ⎠│y=2  ⎝dz            ⎠│z=3⎥\n",
       "⎢                                                                ⎥\n",
       "⎢⎛d             ⎞│     ⎛d             ⎞│     ⎛d             ⎞│   ⎥\n",
       "⎢⎜──(g(x, 2, 3))⎟│     ⎜──(g(1, y, 3))⎟│     ⎜──(g(1, 2, z))⎟│   ⎥\n",
       "⎢⎝dx            ⎠│x=1  ⎝dy            ⎠│y=2  ⎝dz            ⎠│z=3⎥\n",
       "⎢                                                                ⎥\n",
       "⎢⎛d             ⎞│     ⎛d             ⎞│     ⎛d             ⎞│   ⎥\n",
       "⎢⎜──(h(x, 2, 3))⎟│     ⎜──(h(1, y, 3))⎟│     ⎜──(h(1, 2, z))⎟│   ⎥\n",
       "⎣⎝dx            ⎠│x=1  ⎝dy            ⎠│y=2  ⎝dz            ⎠│z=3⎦"
      ]
     },
     "execution_count": 1,
     "metadata": {},
     "output_type": "execute_result"
    }
   ],
   "source": [
    "### TEST 2: substituting values\n",
    "m = Matrix(yv).jacobian(xv)\n",
    "m.subs({x:1, y:2, z:3})"
   ]
  },
  {
   "cell_type": "code",
   "execution_count": 16,
   "metadata": {
    "execution": {
     "iopub.execute_input": "2020-11-03T08:31:52.684370Z",
     "iopub.status.busy": "2020-11-03T08:31:52.682812Z",
     "iopub.status.idle": "2020-11-03T08:31:52.759023Z",
     "shell.execute_reply": "2020-11-03T08:31:52.760453Z"
    },
    "title": "codecell"
   },
   "outputs": [
    {
     "data": {
      "text/latex": [
       "$\\displaystyle \\left[\\begin{matrix}\\frac{\\partial}{\\partial x} x^{2} y z & \\frac{\\partial}{\\partial y} x^{2} y z & \\frac{\\partial}{\\partial z} x^{2} y z\\\\\\frac{\\partial}{\\partial x} \\sin{\\left(3 x y z \\right)} & \\frac{\\partial}{\\partial y} \\sin{\\left(3 x y z \\right)} & \\frac{\\partial}{\\partial z} \\sin{\\left(3 x y z \\right)}\\\\\\frac{\\partial}{\\partial x} \\left(y + z e^{x}\\right) & \\frac{\\partial}{\\partial y} \\left(y + z e^{x}\\right) & \\frac{\\partial}{\\partial z} \\left(y + z e^{x}\\right)\\end{matrix}\\right]$"
      ],
      "text/plain": [
       "⎡   ∂ ⎛ 2    ⎞        ∂ ⎛ 2    ⎞        ∂ ⎛ 2    ⎞   ⎤\n",
       "⎢   ──⎝x ⋅y⋅z⎠        ──⎝x ⋅y⋅z⎠        ──⎝x ⋅y⋅z⎠   ⎥\n",
       "⎢   ∂x                ∂y                ∂z           ⎥\n",
       "⎢                                                    ⎥\n",
       "⎢∂                 ∂                 ∂               ⎥\n",
       "⎢──(sin(3⋅x⋅y⋅z))  ──(sin(3⋅x⋅y⋅z))  ──(sin(3⋅x⋅y⋅z))⎥\n",
       "⎢∂x                ∂y                ∂z              ⎥\n",
       "⎢                                                    ⎥\n",
       "⎢  ∂ ⎛       x⎞      ∂ ⎛       x⎞      ∂ ⎛       x⎞  ⎥\n",
       "⎢  ──⎝y + z⋅ℯ ⎠      ──⎝y + z⋅ℯ ⎠      ──⎝y + z⋅ℯ ⎠  ⎥\n",
       "⎣  ∂x                ∂y                ∂z            ⎦"
      ]
     },
     "execution_count": 1,
     "metadata": {},
     "output_type": "execute_result"
    }
   ],
   "source": [
    "m.subs({f(*xv):x**2 * y*z, g(*xv):sin(x*y*z*3), h(*xv):y + z*exp(x)})"
   ]
  },
  {
   "cell_type": "code",
   "execution_count": 17,
   "metadata": {
    "execution": {
     "iopub.execute_input": "2020-11-03T08:31:52.765399Z",
     "iopub.status.busy": "2020-11-03T08:31:52.763841Z",
     "iopub.status.idle": "2020-11-03T08:31:52.839575Z",
     "shell.execute_reply": "2020-11-03T08:31:52.840714Z"
    },
    "title": "codecell"
   },
   "outputs": [
    {
     "data": {
      "text/latex": [
       "$\\displaystyle \\left[\\begin{matrix}2 x y z & x^{2} z & x^{2} y\\\\3 y z \\cos{\\left(3 x y z \\right)} & 3 x z \\cos{\\left(3 x y z \\right)} & 3 x y \\cos{\\left(3 x y z \\right)}\\\\z e^{x} & 1 & e^{x}\\end{matrix}\\right]$"
      ],
      "text/plain": [
       "⎡                            2                   2         ⎤\n",
       "⎢     2⋅x⋅y⋅z               x ⋅z                x ⋅y       ⎥\n",
       "⎢                                                          ⎥\n",
       "⎢3⋅y⋅z⋅cos(3⋅x⋅y⋅z)  3⋅x⋅z⋅cos(3⋅x⋅y⋅z)  3⋅x⋅y⋅cos(3⋅x⋅y⋅z)⎥\n",
       "⎢                                                          ⎥\n",
       "⎢          x                                      x        ⎥\n",
       "⎣       z⋅ℯ                  1                   ℯ         ⎦"
      ]
     },
     "execution_count": 1,
     "metadata": {},
     "output_type": "execute_result"
    }
   ],
   "source": [
    "m_subs = m.subs({f(*xv):x**2 * y*z, g(*xv):sin(x*y*z*3), h(*xv):y + z*exp(x)})\n",
    "\n",
    "m_subs.doit()"
   ]
  },
  {
   "cell_type": "code",
   "execution_count": 18,
   "metadata": {
    "execution": {
     "iopub.execute_input": "2020-11-03T08:31:52.845805Z",
     "iopub.status.busy": "2020-11-03T08:31:52.844314Z",
     "iopub.status.idle": "2020-11-03T08:31:52.887348Z",
     "shell.execute_reply": "2020-11-03T08:31:52.888503Z"
    },
    "title": "codecell"
   },
   "outputs": [
    {
     "data": {
      "text/latex": [
       "$\\displaystyle \\left[\\begin{matrix}12 & 3 & 2\\\\18 \\cos{\\left(18 \\right)} & 9 \\cos{\\left(18 \\right)} & 6 \\cos{\\left(18 \\right)}\\\\3 e & 1 & e\\end{matrix}\\right]$"
      ],
      "text/plain": [
       "⎡    12          3          2    ⎤\n",
       "⎢                                ⎥\n",
       "⎢18⋅cos(18)  9⋅cos(18)  6⋅cos(18)⎥\n",
       "⎢                                ⎥\n",
       "⎣   3⋅ℯ          1          ℯ    ⎦"
      ]
     },
     "execution_count": 1,
     "metadata": {},
     "output_type": "execute_result"
    }
   ],
   "source": [
    "m_subs.doit().subs({x:1, y:2, z:3})\n",
    "\n"
   ]
  },
  {
   "cell_type": "code",
   "execution_count": 19,
   "metadata": {
    "execution": {
     "iopub.execute_input": "2020-11-03T08:31:52.893533Z",
     "iopub.status.busy": "2020-11-03T08:31:52.891912Z",
     "iopub.status.idle": "2020-11-03T08:31:52.945668Z",
     "shell.execute_reply": "2020-11-03T08:31:52.946769Z"
    },
    "title": "codecell"
   },
   "outputs": [
    {
     "data": {
      "text/latex": [
       "$\\displaystyle \\left[\\begin{matrix}x_{1}\\\\x_{2}\\\\x_{3}\\\\x_{4}\\\\x_{5}\\end{matrix}\\right]$"
      ],
      "text/plain": [
       "⎡x₁⎤\n",
       "⎢  ⎥\n",
       "⎢x₂⎥\n",
       "⎢  ⎥\n",
       "⎢x₃⎥\n",
       "⎢  ⎥\n",
       "⎢x₄⎥\n",
       "⎢  ⎥\n",
       "⎣x₅⎦"
      ]
     },
     "metadata": {},
     "output_type": "display_data"
    },
    {
     "data": {
      "text/latex": [
       "$\\displaystyle \\left[\\begin{matrix}\\operatorname{f_{1}}{\\left(x_{1},x_{2},x_{3},x_{4},x_{5} \\right)}\\\\\\operatorname{f_{2}}{\\left(x_{1},x_{2},x_{3},x_{4},x_{5} \\right)}\\\\\\operatorname{f_{3}}{\\left(x_{1},x_{2},x_{3},x_{4},x_{5} \\right)}\\\\\\operatorname{f_{4}}{\\left(x_{1},x_{2},x_{3},x_{4},x_{5} \\right)}\\\\\\operatorname{f_{5}}{\\left(x_{1},x_{2},x_{3},x_{4},x_{5} \\right)}\\\\\\operatorname{f_{6}}{\\left(x_{1},x_{2},x_{3},x_{4},x_{5} \\right)}\\\\\\operatorname{f_{7}}{\\left(x_{1},x_{2},x_{3},x_{4},x_{5} \\right)}\\end{matrix}\\right]$"
      ],
      "text/plain": [
       "⎡f₁(x₁, x₂, x₃, x₄, x₅)⎤\n",
       "⎢                      ⎥\n",
       "⎢f₂(x₁, x₂, x₃, x₄, x₅)⎥\n",
       "⎢                      ⎥\n",
       "⎢f₃(x₁, x₂, x₃, x₄, x₅)⎥\n",
       "⎢                      ⎥\n",
       "⎢f₄(x₁, x₂, x₃, x₄, x₅)⎥\n",
       "⎢                      ⎥\n",
       "⎢f₅(x₁, x₂, x₃, x₄, x₅)⎥\n",
       "⎢                      ⎥\n",
       "⎢f₆(x₁, x₂, x₃, x₄, x₅)⎥\n",
       "⎢                      ⎥\n",
       "⎣f₇(x₁, x₂, x₃, x₄, x₅)⎦"
      ]
     },
     "metadata": {},
     "output_type": "display_data"
    },
    {
     "data": {
      "text/latex": [
       "$\\displaystyle \\left[\\begin{matrix}f_{1}\\\\f_{2}\\\\f_{3}\\\\f_{4}\\\\f_{5}\\\\f_{6}\\\\f_{7}\\end{matrix}\\right]$"
      ],
      "text/plain": [
       "⎡f₁⎤\n",
       "⎢  ⎥\n",
       "⎢f₂⎥\n",
       "⎢  ⎥\n",
       "⎢f₃⎥\n",
       "⎢  ⎥\n",
       "⎢f₄⎥\n",
       "⎢  ⎥\n",
       "⎢f₅⎥\n",
       "⎢  ⎥\n",
       "⎢f₆⎥\n",
       "⎢  ⎥\n",
       "⎣f₇⎦"
      ]
     },
     "metadata": {},
     "output_type": "display_data"
    }
   ],
   "source": [
    "# More general / abstract example:\n",
    "\n",
    "n,m = 5,7\n",
    "\n",
    "xv = Matrix(n, 1, lambda i,j : var_i('x', i+1))\n",
    "\n",
    "fs = Matrix(m, 1, lambda i,_ : var_i('f', i+1))\n",
    "\n",
    "fv = Matrix(m, 1, lambda i,_: func_i('f', i, xLetter = 'x', xLen = n))\n",
    "\n",
    "mapFFuncToF = dict(zip(fv, fs))\n",
    "mapFToFFunc = dict(zip(fs, fv))\n",
    "\n",
    "showGroup([xv, fv, fs])"
   ]
  },
  {
   "cell_type": "code",
   "execution_count": 20,
   "metadata": {
    "execution": {
     "iopub.execute_input": "2020-11-03T08:31:52.952097Z",
     "iopub.status.busy": "2020-11-03T08:31:52.950573Z",
     "iopub.status.idle": "2020-11-03T08:31:53.241051Z",
     "shell.execute_reply": "2020-11-03T08:31:53.242216Z"
    },
    "lines_to_next_cell": 2,
    "title": "codecell"
   },
   "outputs": [
    {
     "data": {
      "text/latex": [
       "$\\displaystyle \\left[\\begin{matrix}\\frac{d}{d x_{1}} f_{1} & \\frac{d}{d x_{2}} f_{1} & \\frac{d}{d x_{3}} f_{1} & \\frac{d}{d x_{4}} f_{1} & \\frac{d}{d x_{5}} f_{1}\\\\\\frac{d}{d x_{1}} f_{2} & \\frac{d}{d x_{2}} f_{2} & \\frac{d}{d x_{3}} f_{2} & \\frac{d}{d x_{4}} f_{2} & \\frac{d}{d x_{5}} f_{2}\\\\\\frac{d}{d x_{1}} f_{3} & \\frac{d}{d x_{2}} f_{3} & \\frac{d}{d x_{3}} f_{3} & \\frac{d}{d x_{4}} f_{3} & \\frac{d}{d x_{5}} f_{3}\\\\\\frac{d}{d x_{1}} f_{4} & \\frac{d}{d x_{2}} f_{4} & \\frac{d}{d x_{3}} f_{4} & \\frac{d}{d x_{4}} f_{4} & \\frac{d}{d x_{5}} f_{4}\\\\\\frac{d}{d x_{1}} f_{5} & \\frac{d}{d x_{2}} f_{5} & \\frac{d}{d x_{3}} f_{5} & \\frac{d}{d x_{4}} f_{5} & \\frac{d}{d x_{5}} f_{5}\\\\\\frac{d}{d x_{1}} f_{6} & \\frac{d}{d x_{2}} f_{6} & \\frac{d}{d x_{3}} f_{6} & \\frac{d}{d x_{4}} f_{6} & \\frac{d}{d x_{5}} f_{6}\\\\\\frac{d}{d x_{1}} f_{7} & \\frac{d}{d x_{2}} f_{7} & \\frac{d}{d x_{3}} f_{7} & \\frac{d}{d x_{4}} f_{7} & \\frac{d}{d x_{5}} f_{7}\\end{matrix}\\right]$"
      ],
      "text/plain": [
       "⎡ d        d        d        d        d     ⎤\n",
       "⎢───(f₁)  ───(f₁)  ───(f₁)  ───(f₁)  ───(f₁)⎥\n",
       "⎢dx₁      dx₂      dx₃      dx₄      dx₅    ⎥\n",
       "⎢                                           ⎥\n",
       "⎢ d        d        d        d        d     ⎥\n",
       "⎢───(f₂)  ───(f₂)  ───(f₂)  ───(f₂)  ───(f₂)⎥\n",
       "⎢dx₁      dx₂      dx₃      dx₄      dx₅    ⎥\n",
       "⎢                                           ⎥\n",
       "⎢ d        d        d        d        d     ⎥\n",
       "⎢───(f₃)  ───(f₃)  ───(f₃)  ───(f₃)  ───(f₃)⎥\n",
       "⎢dx₁      dx₂      dx₃      dx₄      dx₅    ⎥\n",
       "⎢                                           ⎥\n",
       "⎢ d        d        d        d        d     ⎥\n",
       "⎢───(f₄)  ───(f₄)  ───(f₄)  ───(f₄)  ───(f₄)⎥\n",
       "⎢dx₁      dx₂      dx₃      dx₄      dx₅    ⎥\n",
       "⎢                                           ⎥\n",
       "⎢ d        d        d        d        d     ⎥\n",
       "⎢───(f₅)  ───(f₅)  ───(f₅)  ───(f₅)  ───(f₅)⎥\n",
       "⎢dx₁      dx₂      dx₃      dx₄      dx₅    ⎥\n",
       "⎢                                           ⎥\n",
       "⎢ d        d        d        d        d     ⎥\n",
       "⎢───(f₆)  ───(f₆)  ───(f₆)  ───(f₆)  ───(f₆)⎥\n",
       "⎢dx₁      dx₂      dx₃      dx₄      dx₅    ⎥\n",
       "⎢                                           ⎥\n",
       "⎢ d        d        d        d        d     ⎥\n",
       "⎢───(f₇)  ───(f₇)  ───(f₇)  ───(f₇)  ───(f₇)⎥\n",
       "⎣dx₁      dx₂      dx₃      dx₄      dx₅    ⎦"
      ]
     },
     "execution_count": 1,
     "metadata": {},
     "output_type": "execute_result"
    }
   ],
   "source": [
    "fv.jacobian(xv)\n",
    "\n",
    "# The final jacobian (simplified)\n",
    "jacF = fv.jacobian(xv).subs(mapFFuncToF)\n",
    "jacF"
   ]
  },
  {
   "cell_type": "code",
   "execution_count": 21,
   "metadata": {
    "execution": {
     "iopub.execute_input": "2020-11-03T08:31:53.247593Z",
     "iopub.status.busy": "2020-11-03T08:31:53.245831Z",
     "iopub.status.idle": "2020-11-03T08:31:53.413806Z",
     "shell.execute_reply": "2020-11-03T08:31:53.414915Z"
    },
    "title": "codecell"
   },
   "outputs": [
    {
     "data": {
      "text/latex": [
       "$\\displaystyle \\left[\\begin{matrix}\\frac{d}{d x_{1}} f_{1} & \\frac{d}{d x_{2}} f_{1} & \\frac{d}{d x_{3}} f_{1} & \\frac{d}{d x_{4}} f_{1} & \\frac{d}{d x_{5}} f_{1}\\\\\\frac{d}{d x_{1}} f_{2} & \\frac{d}{d x_{2}} f_{2} & \\frac{d}{d x_{3}} f_{2} & \\frac{d}{d x_{4}} f_{2} & \\frac{d}{d x_{5}} f_{2}\\\\\\frac{d}{d x_{1}} f_{3} & \\frac{d}{d x_{2}} f_{3} & \\frac{d}{d x_{3}} f_{3} & \\frac{d}{d x_{4}} f_{3} & \\frac{d}{d x_{5}} f_{3}\\\\\\frac{d}{d x_{1}} f_{4} & \\frac{d}{d x_{2}} f_{4} & \\frac{d}{d x_{3}} f_{4} & \\frac{d}{d x_{4}} f_{4} & \\frac{d}{d x_{5}} f_{4}\\\\\\frac{d}{d x_{1}} f_{5} & \\frac{d}{d x_{2}} f_{5} & \\frac{d}{d x_{3}} f_{5} & \\frac{d}{d x_{4}} f_{5} & \\frac{d}{d x_{5}} f_{5}\\\\\\frac{d}{d x_{1}} f_{6} & \\frac{d}{d x_{2}} f_{6} & \\frac{d}{d x_{3}} f_{6} & \\frac{d}{d x_{4}} f_{6} & \\frac{d}{d x_{5}} f_{6}\\\\\\frac{d}{d x_{1}} f_{7} & \\frac{d}{d x_{2}} f_{7} & \\frac{d}{d x_{3}} f_{7} & \\frac{d}{d x_{4}} f_{7} & \\frac{d}{d x_{5}} f_{7}\\end{matrix}\\right]$"
      ],
      "text/plain": [
       "⎡ d        d        d        d        d     ⎤\n",
       "⎢───(f₁)  ───(f₁)  ───(f₁)  ───(f₁)  ───(f₁)⎥\n",
       "⎢dx₁      dx₂      dx₃      dx₄      dx₅    ⎥\n",
       "⎢                                           ⎥\n",
       "⎢ d        d        d        d        d     ⎥\n",
       "⎢───(f₂)  ───(f₂)  ───(f₂)  ───(f₂)  ───(f₂)⎥\n",
       "⎢dx₁      dx₂      dx₃      dx₄      dx₅    ⎥\n",
       "⎢                                           ⎥\n",
       "⎢ d        d        d        d        d     ⎥\n",
       "⎢───(f₃)  ───(f₃)  ───(f₃)  ───(f₃)  ───(f₃)⎥\n",
       "⎢dx₁      dx₂      dx₃      dx₄      dx₅    ⎥\n",
       "⎢                                           ⎥\n",
       "⎢ d        d        d        d        d     ⎥\n",
       "⎢───(f₄)  ───(f₄)  ───(f₄)  ───(f₄)  ───(f₄)⎥\n",
       "⎢dx₁      dx₂      dx₃      dx₄      dx₅    ⎥\n",
       "⎢                                           ⎥\n",
       "⎢ d        d        d        d        d     ⎥\n",
       "⎢───(f₅)  ───(f₅)  ───(f₅)  ───(f₅)  ───(f₅)⎥\n",
       "⎢dx₁      dx₂      dx₃      dx₄      dx₅    ⎥\n",
       "⎢                                           ⎥\n",
       "⎢ d        d        d        d        d     ⎥\n",
       "⎢───(f₆)  ───(f₆)  ───(f₆)  ───(f₆)  ───(f₆)⎥\n",
       "⎢dx₁      dx₂      dx₃      dx₄      dx₅    ⎥\n",
       "⎢                                           ⎥\n",
       "⎢ d        d        d        d        d     ⎥\n",
       "⎢───(f₇)  ───(f₇)  ───(f₇)  ───(f₇)  ───(f₇)⎥\n",
       "⎣dx₁      dx₂      dx₃      dx₄      dx₅    ⎦"
      ]
     },
     "execution_count": 1,
     "metadata": {},
     "output_type": "execute_result"
    }
   ],
   "source": [
    "\n",
    "# Doing it the derive_by_array way\n",
    "import itertools\n",
    "\n",
    "fv_list = list(itertools.chain(*fv.tolist()))\n",
    "xv_list = list(itertools.chain(*xv.tolist()))\n",
    "\n",
    "\n",
    "jacF_derive = Matrix(derive_by_array(fv_list, xv_list)).transpose().subs(mapFFuncToF)\n",
    "\n",
    "jacF_derive"
   ]
  },
  {
   "cell_type": "code",
   "execution_count": 22,
   "metadata": {
    "execution": {
     "iopub.execute_input": "2020-11-03T08:31:53.419969Z",
     "iopub.status.busy": "2020-11-03T08:31:53.418494Z",
     "iopub.status.idle": "2020-11-03T08:31:53.424836Z",
     "shell.execute_reply": "2020-11-03T08:31:53.425892Z"
    },
    "lines_to_next_cell": 0,
    "title": "codecell"
   },
   "outputs": [],
   "source": [
    "assert jacF == jacF_derive"
   ]
  },
  {
   "cell_type": "code",
   "execution_count": 23,
   "metadata": {
    "title": "codecell"
   },
   "outputs": [],
   "source": []
  }
 ],
 "metadata": {
  "jupytext": {
   "cell_metadata_filter": "title,-all"
  },
  "kernelspec": {
   "display_name": "pymatrix_env",
   "language": "python",
   "name": "pymatrix_env"
  },
  "language_info": {
   "codemirror_mode": {
    "name": "ipython",
    "version": 3
   },
   "file_extension": ".py",
   "mimetype": "text/x-python",
   "name": "python",
   "nbconvert_exporter": "python",
   "pygments_lexer": "ipython3",
   "version": "3.7.8"
  }
 },
 "nbformat": 4,
 "nbformat_minor": 4
}
