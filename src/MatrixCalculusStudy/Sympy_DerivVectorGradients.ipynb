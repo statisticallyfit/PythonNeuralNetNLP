{
 "cells": [
  {
   "cell_type": "code",
   "execution_count": null,
   "metadata": {
    "title": "codecell"
   },
   "outputs": [],
   "source": [
    "\n",
    "from sympy import diff, sin, exp, symbols, Function, Matrix, MatrixSymbol, FunctionMatrix, derive_by_array\n",
    "\n",
    "\n",
    "from sympy import Symbol\n",
    "\n",
    "\n",
    "x, y, z = symbols('x y z')\n",
    "f, g, h = list(map(Function, 'fgh'))"
   ]
  },
  {
   "cell_type": "code",
   "execution_count": null,
   "metadata": {
    "lines_to_next_cell": 0,
    "title": "codecell"
   },
   "outputs": [],
   "source": [
    "# 1) manualy declaration of vector variables\n",
    "xv = x,y,z\n",
    "#f(xv).subs({x:1, y:2,z:3})\n",
    "Matrix(xv)"
   ]
  },
  {
   "cell_type": "code",
   "execution_count": null,
   "metadata": {
    "lines_to_next_cell": 0,
    "title": "codecell"
   },
   "outputs": [],
   "source": [
    "yv = [f(*xv), g(*xv), h(*xv)]; yv"
   ]
  },
  {
   "cell_type": "code",
   "execution_count": null,
   "metadata": {
    "lines_to_next_cell": 2,
    "title": "codecell"
   },
   "outputs": [],
   "source": [
    "Matrix(yv)"
   ]
  },
  {
   "cell_type": "code",
   "execution_count": null,
   "metadata": {
    "title": "codecell"
   },
   "outputs": [],
   "source": [
    "from sympy.abc import i,j\n",
    "\n",
    "# 2) Dynamic way of declaring the vector variables\n",
    "def var(letter: str, i: int) -> Symbol:\n",
    "    letter_i = Symbol('{}_{}'.format(letter, i+1), is_commutative=True)\n",
    "    return letter_i\n",
    "\n",
    "n,m,p = 5,7,4\n",
    "\n",
    "xv = Matrix(n, 1, lambda i,j : var('x', i)); xv"
   ]
  },
  {
   "cell_type": "code",
   "execution_count": null,
   "metadata": {
    "lines_to_next_cell": 2,
    "title": "codecell"
   },
   "outputs": [],
   "source": [
    "def func(i):\n",
    "    y_i = Function('y_{}'.format(i+1))(*xv)\n",
    "    return y_i\n",
    "\n",
    "yv = Matrix( m, 1, lambda i,_:  func(i)); yv"
   ]
  },
  {
   "cell_type": "markdown",
   "metadata": {
    "lines_to_next_cell": 0,
    "title": "markdown"
   },
   "source": [
    "### Gradient Vector\n",
    "Let $f(\\mathbf{x})$ be a differentiable real-valued function of the real $m \\times 1$ vector $\\mathbf{x} = \\begin{pmatrix} x_1 \\\\ x_2 \\\\ \\vdots \\\\ x_m \\end{pmatrix}$.\n",
    "\n",
    "Then the **vector of first order partial derivative**s $\\frac{\\partial f}{\\partial \\mathbf{x}}$, also called the **gradient vector**, is defined as:\n",
    "$$\n",
    "\\frac{\\partial f}{\\partial \\mathbf{x}} = \\Large\\begin{pmatrix}\n",
    "   \\frac{\\partial f}{\\partial x_1} \\\\\n",
    "   \\frac{\\partial f}{\\partial x_2} \\\\\n",
    "   \\vdots \\\\\n",
    "   \\frac{\\partial f}{\\partial x_m}\n",
    "\\end{pmatrix}\n",
    "$$\n",
    "\n",
    "The **vector of first order partial derivative**s $\\frac{\\partial f}{\\partial \\mathbf{x}^T}$ is defined as:\n",
    "$$\n",
    "\\frac{\\partial f}{\\partial \\mathbf{x}^T}\n",
    "= \\Bigg( \\frac{\\partial f}{\\partial \\mathbf{x}} \\Bigg)^T\n",
    "= \\Large\\begin{pmatrix}\n",
    "   \\frac{\\partial f}{\\partial x_1} &\n",
    "   \\frac{\\partial f}{\\partial x_2} & ... &\n",
    "   \\frac{\\partial f}{\\partial x_m}\n",
    "\\end{pmatrix}\n",
    "$$"
   ]
  },
  {
   "cell_type": "code",
   "execution_count": null,
   "metadata": {
    "title": "codecell"
   },
   "outputs": [],
   "source": [
    "# ### for deriv of scalar-valued multivariate function with respect to the vector\n",
    "\n",
    "f(*xv).diff(xv)"
   ]
  },
  {
   "cell_type": "code",
   "execution_count": null,
   "metadata": {
    "lines_to_next_cell": 2,
    "title": "codecell"
   },
   "outputs": [],
   "source": [
    "derive_by_array(f(*xv), xv)"
   ]
  },
  {
   "cell_type": "code",
   "execution_count": null,
   "metadata": {
    "title": "codecell"
   },
   "outputs": [],
   "source": [
    "assert Matrix(derive_by_array(f(*xv), xv)) == f(*xv).diff(xv)\n",
    "\n"
   ]
  },
  {
   "cell_type": "markdown",
   "metadata": {
    "title": "markdown"
   },
   "source": [
    "### Derivative of Vector with Respect to Scalar\n",
    "Let $\\mathbf{y}(x) = \\begin{pmatrix} y_1(x) \\\\ y_2(x) \\\\ \\vdots \\\\ y_m(x) \\end{pmatrix}$ be a vector of order $m$, where each of the elements $y_i$ are functions of the scalar variable $x$. Specifically, $y_i = f_i(x), 1 \\leq i \\leq m$, where $f_i : \\mathbb{R} \\rightarrow \\mathbb{R}$ and $\\mathbf{y} : \\mathbb{R} \\rightarrow \\mathbb{R}^m$.\n",
    "\n",
    "Then the **derivative of the vector $\\mathbf{y}$ with respect to scalar $x$** is defined as:\n",
    "$$\n",
    "\\frac{\\partial \\mathbf{y}}{\\partial x} = \\Large\\begin{pmatrix}\n",
    "   \\frac{\\partial y_1}{\\partial x} & \\frac{\\partial y_2}{\\partial x} & ... & \\frac{\\partial y_m}{\\partial x}\n",
    "\\end{pmatrix}\n",
    "$$"
   ]
  },
  {
   "cell_type": "code",
   "execution_count": null,
   "metadata": {
    "title": "codecell"
   },
   "outputs": [],
   "source": [
    "# ### for deriv of a vector-valued function by its scalar argument\n",
    "#yv = [f(x), g(x), h(x)]; yv\n",
    "from sympy.abc import x\n",
    "\n",
    "yv = Matrix( 1, m, lambda _, j:  Function('y_{}'.format(j+1))(x)); yv\n",
    "\n"
   ]
  },
  {
   "cell_type": "code",
   "execution_count": null,
   "metadata": {
    "title": "codecell"
   },
   "outputs": [],
   "source": [
    "yv.diff(x)\n",
    "\n",
    " # NOTE: incorrect shape (is column-wise, must be row-wise like below) when defining the yv matrix to be m x 1 instead of 1 x m. Ideally want to define a regular m x 1 y-vector of functions y_i and to have the diff by x to be 1 x m."
   ]
  },
  {
   "cell_type": "code",
   "execution_count": null,
   "metadata": {
    "lines_to_next_cell": 0,
    "title": "codecell"
   },
   "outputs": [],
   "source": [
    "derive_by_array(yv, x) # Correct shape (row-wise)"
   ]
  },
  {
   "cell_type": "code",
   "execution_count": null,
   "metadata": {
    "lines_to_next_cell": 0,
    "title": "codecell"
   },
   "outputs": [],
   "source": [
    "Matrix(derive_by_array(yv, x))"
   ]
  },
  {
   "cell_type": "code",
   "execution_count": null,
   "metadata": {
    "title": "codecell"
   },
   "outputs": [],
   "source": [
    "assert Matrix(derive_by_array(yv, x)) == Matrix(yv).diff(x)\n",
    "\n"
   ]
  },
  {
   "cell_type": "markdown",
   "metadata": {
    "lines_to_next_cell": 0,
    "title": "markdown"
   },
   "source": [
    "### Vector Chain Rule"
   ]
  },
  {
   "cell_type": "code",
   "execution_count": null,
   "metadata": {
    "title": "codecell"
   },
   "outputs": [],
   "source": [
    "# ### for vector chain rule"
   ]
  }
 ],
 "metadata": {
  "jupytext": {
   "cell_metadata_filter": "title,-all",
   "main_language": "python",
   "notebook_metadata_filter": "-all"
  }
 },
 "nbformat": 4,
 "nbformat_minor": 4
}
