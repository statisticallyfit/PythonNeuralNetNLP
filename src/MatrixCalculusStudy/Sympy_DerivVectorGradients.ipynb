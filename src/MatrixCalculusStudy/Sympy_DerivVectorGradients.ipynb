{
 "cells": [
  {
   "cell_type": "code",
   "execution_count": 1,
   "metadata": {
    "execution": {
     "iopub.execute_input": "2020-10-04T19:00:45.080672Z",
     "iopub.status.busy": "2020-10-04T19:00:45.077500Z",
     "iopub.status.idle": "2020-10-04T19:00:45.820288Z",
     "shell.execute_reply": "2020-10-04T19:00:45.821483Z"
    },
    "title": "codecell"
   },
   "outputs": [],
   "source": [
    "\n",
    "from sympy import diff, sin, exp, symbols, Function, Matrix, MatrixSymbol, FunctionMatrix, derive_by_array\n",
    "\n",
    "\n",
    "from sympy import Symbol\n",
    "\n",
    "\n",
    "x, y, z = symbols('x y z')\n",
    "f, g, h = list(map(Function, 'fgh'))"
   ]
  },
  {
   "cell_type": "code",
   "execution_count": 2,
   "metadata": {
    "execution": {
     "iopub.execute_input": "2020-10-04T19:00:45.829405Z",
     "iopub.status.busy": "2020-10-04T19:00:45.825349Z",
     "iopub.status.idle": "2020-10-04T19:00:45.852413Z",
     "shell.execute_reply": "2020-10-04T19:00:45.853658Z"
    },
    "lines_to_next_cell": 0,
    "title": "codecell"
   },
   "outputs": [
    {
     "data": {
      "text/latex": [
       "$\\displaystyle \\left[\\begin{matrix}x\\\\y\\\\z\\end{matrix}\\right]$"
      ],
      "text/plain": [
       "Matrix([\n",
       "[x],\n",
       "[y],\n",
       "[z]])"
      ]
     },
     "execution_count": 1,
     "metadata": {},
     "output_type": "execute_result"
    }
   ],
   "source": [
    "# 1) manualy declaration of vector variables\n",
    "xv = x,y,z\n",
    "#f(xv).subs({x:1, y:2,z:3})\n",
    "Matrix(xv)"
   ]
  },
  {
   "cell_type": "code",
   "execution_count": 3,
   "metadata": {
    "execution": {
     "iopub.execute_input": "2020-10-04T19:00:45.858983Z",
     "iopub.status.busy": "2020-10-04T19:00:45.857433Z",
     "iopub.status.idle": "2020-10-04T19:00:45.869427Z",
     "shell.execute_reply": "2020-10-04T19:00:45.870605Z"
    },
    "lines_to_next_cell": 0,
    "title": "codecell"
   },
   "outputs": [
    {
     "data": {
      "text/plain": [
       "[f(x, y, z), g(x, y, z), h(x, y, z)]"
      ]
     },
     "execution_count": 1,
     "metadata": {},
     "output_type": "execute_result"
    }
   ],
   "source": [
    "yv = [f(*xv), g(*xv), h(*xv)]; yv"
   ]
  },
  {
   "cell_type": "code",
   "execution_count": 4,
   "metadata": {
    "execution": {
     "iopub.execute_input": "2020-10-04T19:00:45.875860Z",
     "iopub.status.busy": "2020-10-04T19:00:45.874135Z",
     "iopub.status.idle": "2020-10-04T19:00:45.886460Z",
     "shell.execute_reply": "2020-10-04T19:00:45.887617Z"
    },
    "lines_to_next_cell": 2,
    "title": "codecell"
   },
   "outputs": [
    {
     "data": {
      "text/latex": [
       "$\\displaystyle \\left[\\begin{matrix}f{\\left(x,y,z \\right)}\\\\g{\\left(x,y,z \\right)}\\\\h{\\left(x,y,z \\right)}\\end{matrix}\\right]$"
      ],
      "text/plain": [
       "Matrix([\n",
       "[f(x, y, z)],\n",
       "[g(x, y, z)],\n",
       "[h(x, y, z)]])"
      ]
     },
     "execution_count": 1,
     "metadata": {},
     "output_type": "execute_result"
    }
   ],
   "source": [
    "Matrix(yv)"
   ]
  },
  {
   "cell_type": "code",
   "execution_count": 5,
   "metadata": {
    "execution": {
     "iopub.execute_input": "2020-10-04T19:00:45.892668Z",
     "iopub.status.busy": "2020-10-04T19:00:45.891115Z",
     "iopub.status.idle": "2020-10-04T19:00:45.982629Z",
     "shell.execute_reply": "2020-10-04T19:00:45.983796Z"
    },
    "title": "codecell"
   },
   "outputs": [
    {
     "data": {
      "text/latex": [
       "$\\displaystyle \\left[\\begin{matrix}x_{1}\\\\x_{2}\\\\x_{3}\\\\x_{4}\\\\x_{5}\\end{matrix}\\right]$"
      ],
      "text/plain": [
       "Matrix([\n",
       "[x_1],\n",
       "[x_2],\n",
       "[x_3],\n",
       "[x_4],\n",
       "[x_5]])"
      ]
     },
     "execution_count": 1,
     "metadata": {},
     "output_type": "execute_result"
    }
   ],
   "source": [
    "from sympy.abc import i,j\n",
    "\n",
    "# 2) Dynamic way of declaring the vector variables\n",
    "def var(letter: str, i: int) -> Symbol:\n",
    "    letter_i = Symbol('{}_{}'.format(letter, i+1), is_commutative=True)\n",
    "    return letter_i\n",
    "\n",
    "n,m,p = 5,7,4\n",
    "\n",
    "xv = Matrix(n, 1, lambda i,j : var('x', i)); xv"
   ]
  },
  {
   "cell_type": "code",
   "execution_count": 6,
   "metadata": {
    "execution": {
     "iopub.execute_input": "2020-10-04T19:00:45.988963Z",
     "iopub.status.busy": "2020-10-04T19:00:45.987222Z",
     "iopub.status.idle": "2020-10-04T19:00:46.011746Z",
     "shell.execute_reply": "2020-10-04T19:00:46.012896Z"
    },
    "lines_to_next_cell": 2,
    "title": "codecell"
   },
   "outputs": [
    {
     "data": {
      "text/latex": [
       "$\\displaystyle \\left[\\begin{matrix}\\operatorname{y_{1}}{\\left(x_{1},x_{2},x_{3},x_{4},x_{5} \\right)}\\\\\\operatorname{y_{2}}{\\left(x_{1},x_{2},x_{3},x_{4},x_{5} \\right)}\\\\\\operatorname{y_{3}}{\\left(x_{1},x_{2},x_{3},x_{4},x_{5} \\right)}\\\\\\operatorname{y_{4}}{\\left(x_{1},x_{2},x_{3},x_{4},x_{5} \\right)}\\\\\\operatorname{y_{5}}{\\left(x_{1},x_{2},x_{3},x_{4},x_{5} \\right)}\\\\\\operatorname{y_{6}}{\\left(x_{1},x_{2},x_{3},x_{4},x_{5} \\right)}\\\\\\operatorname{y_{7}}{\\left(x_{1},x_{2},x_{3},x_{4},x_{5} \\right)}\\end{matrix}\\right]$"
      ],
      "text/plain": [
       "Matrix([\n",
       "[y_1(x_1, x_2, x_3, x_4, x_5)],\n",
       "[y_2(x_1, x_2, x_3, x_4, x_5)],\n",
       "[y_3(x_1, x_2, x_3, x_4, x_5)],\n",
       "[y_4(x_1, x_2, x_3, x_4, x_5)],\n",
       "[y_5(x_1, x_2, x_3, x_4, x_5)],\n",
       "[y_6(x_1, x_2, x_3, x_4, x_5)],\n",
       "[y_7(x_1, x_2, x_3, x_4, x_5)]])"
      ]
     },
     "execution_count": 1,
     "metadata": {},
     "output_type": "execute_result"
    }
   ],
   "source": [
    "def func(i):\n",
    "    y_i = Function('y_{}'.format(i+1))(*xv)\n",
    "    return y_i\n",
    "\n",
    "yv = Matrix( m, 1, lambda i,_:  func(i)); yv"
   ]
  },
  {
   "cell_type": "markdown",
   "execution_count": 7,
   "metadata": {
    "lines_to_next_cell": 0,
    "title": "markdown"
   },
   "source": [
    "### Gradient Vector\n",
    "Let $f(\\mathbf{x})$ be a differentiable real-valued function of the real $m \\times 1$ vector $\\mathbf{x} = \\begin{pmatrix} x_1 \\\\ x_2 \\\\ \\vdots \\\\ x_m \\end{pmatrix}$.\n",
    "\n",
    "Then the **vector of first order partial derivative**s $\\frac{\\partial f}{\\partial \\mathbf{x}}$, also called the **gradient vector**, is defined as:\n",
    "$$\n",
    "\\frac{\\partial f}{\\partial \\mathbf{x}} = \\Large\\begin{pmatrix}\n",
    "   \\frac{\\partial f}{\\partial x_1} \\\\\n",
    "   \\frac{\\partial f}{\\partial x_2} \\\\\n",
    "   \\vdots \\\\\n",
    "   \\frac{\\partial f}{\\partial x_m}\n",
    "\\end{pmatrix}\n",
    "$$\n",
    "\n",
    "The **vector of first order partial derivative**s $\\frac{\\partial f}{\\partial \\mathbf{x}^T}$ is defined as:\n",
    "$$\n",
    "\\frac{\\partial f}{\\partial \\mathbf{x}^T}\n",
    "= \\Bigg( \\frac{\\partial f}{\\partial \\mathbf{x}} \\Bigg)^T\n",
    "= \\Large\\begin{pmatrix}\n",
    "   \\frac{\\partial f}{\\partial x_1} &\n",
    "   \\frac{\\partial f}{\\partial x_2} & ... &\n",
    "   \\frac{\\partial f}{\\partial x_m}\n",
    "\\end{pmatrix}\n",
    "$$"
   ]
  },
  {
   "cell_type": "code",
   "execution_count": 7,
   "metadata": {
    "execution": {
     "iopub.execute_input": "2020-10-04T19:00:46.018087Z",
     "iopub.status.busy": "2020-10-04T19:00:46.016614Z",
     "iopub.status.idle": "2020-10-04T19:00:46.044813Z",
     "shell.execute_reply": "2020-10-04T19:00:46.045991Z"
    },
    "title": "codecell"
   },
   "outputs": [
    {
     "data": {
      "text/latex": [
       "$\\displaystyle \\left[\\begin{matrix}\\frac{\\partial}{\\partial x_{1}} f{\\left(x_{1},x_{2},x_{3},x_{4},x_{5} \\right)}\\\\\\frac{\\partial}{\\partial x_{2}} f{\\left(x_{1},x_{2},x_{3},x_{4},x_{5} \\right)}\\\\\\frac{\\partial}{\\partial x_{3}} f{\\left(x_{1},x_{2},x_{3},x_{4},x_{5} \\right)}\\\\\\frac{\\partial}{\\partial x_{4}} f{\\left(x_{1},x_{2},x_{3},x_{4},x_{5} \\right)}\\\\\\frac{\\partial}{\\partial x_{5}} f{\\left(x_{1},x_{2},x_{3},x_{4},x_{5} \\right)}\\end{matrix}\\right]$"
      ],
      "text/plain": [
       "Matrix([\n",
       "[Derivative(f(x_1, x_2, x_3, x_4, x_5), x_1)],\n",
       "[Derivative(f(x_1, x_2, x_3, x_4, x_5), x_2)],\n",
       "[Derivative(f(x_1, x_2, x_3, x_4, x_5), x_3)],\n",
       "[Derivative(f(x_1, x_2, x_3, x_4, x_5), x_4)],\n",
       "[Derivative(f(x_1, x_2, x_3, x_4, x_5), x_5)]])"
      ]
     },
     "execution_count": 1,
     "metadata": {},
     "output_type": "execute_result"
    }
   ],
   "source": [
    "# ### for deriv of scalar-valued multivariate function with respect to the vector\n",
    "\n",
    "f(*xv).diff(xv)"
   ]
  },
  {
   "cell_type": "code",
   "execution_count": 8,
   "metadata": {
    "execution": {
     "iopub.execute_input": "2020-10-04T19:00:46.051021Z",
     "iopub.status.busy": "2020-10-04T19:00:46.049570Z",
     "iopub.status.idle": "2020-10-04T19:00:46.075213Z",
     "shell.execute_reply": "2020-10-04T19:00:46.076624Z"
    },
    "lines_to_next_cell": 2,
    "title": "codecell"
   },
   "outputs": [
    {
     "data": {
      "text/latex": [
       "$\\displaystyle \\left[\\begin{matrix}\\frac{\\partial}{\\partial x_{1}} f{\\left(x_{1},x_{2},x_{3},x_{4},x_{5} \\right)}\\\\\\frac{\\partial}{\\partial x_{2}} f{\\left(x_{1},x_{2},x_{3},x_{4},x_{5} \\right)}\\\\\\frac{\\partial}{\\partial x_{3}} f{\\left(x_{1},x_{2},x_{3},x_{4},x_{5} \\right)}\\\\\\frac{\\partial}{\\partial x_{4}} f{\\left(x_{1},x_{2},x_{3},x_{4},x_{5} \\right)}\\\\\\frac{\\partial}{\\partial x_{5}} f{\\left(x_{1},x_{2},x_{3},x_{4},x_{5} \\right)}\\end{matrix}\\right]$"
      ],
      "text/plain": [
       "[[Derivative(f(x_1, x_2, x_3, x_4, x_5), x_1)], [Derivative(f(x_1, x_2, x_3, x_4, x_5), x_2)], [Derivative(f(x_1, x_2, x_3, x_4, x_5), x_3)], [Derivative(f(x_1, x_2, x_3, x_4, x_5), x_4)], [Derivative(f(x_1, x_2, x_3, x_4, x_5), x_5)]]"
      ]
     },
     "execution_count": 1,
     "metadata": {},
     "output_type": "execute_result"
    }
   ],
   "source": [
    "derive_by_array(f(*xv), xv)"
   ]
  },
  {
   "cell_type": "code",
   "execution_count": 9,
   "metadata": {
    "execution": {
     "iopub.execute_input": "2020-10-04T19:00:46.081979Z",
     "iopub.status.busy": "2020-10-04T19:00:46.080426Z",
     "iopub.status.idle": "2020-10-04T19:00:46.105685Z",
     "shell.execute_reply": "2020-10-04T19:00:46.106901Z"
    },
    "title": "codecell"
   },
   "outputs": [],
   "source": [
    "assert Matrix(derive_by_array(f(*xv), xv)) == f(*xv).diff(xv)\n",
    "\n"
   ]
  },
  {
   "cell_type": "markdown",
   "execution_count": 10,
   "metadata": {
    "title": "markdown"
   },
   "source": [
    "### Derivative of Vector with Respect to Scalar\n",
    "Let $\\mathbf{y}(x) = \\begin{pmatrix} y_1(x) \\\\ y_2(x) \\\\ \\vdots \\\\ y_m(x) \\end{pmatrix}$ be a vector of order $m$, where each of the elements $y_i$ are functions of the scalar variable $x$. Specifically, $y_i = f_i(x), 1 \\leq i \\leq m$, where $f_i : \\mathbb{R} \\rightarrow \\mathbb{R}$ and $\\mathbf{y} : \\mathbb{R} \\rightarrow \\mathbb{R}^m$.\n",
    "\n",
    "Then the **derivative of the vector $\\mathbf{y}$ with respect to scalar $x$** is defined as:\n",
    "$$\n",
    "\\frac{\\partial \\mathbf{y}}{\\partial x} = \\Large\\begin{pmatrix}\n",
    "   \\frac{\\partial y_1}{\\partial x} & \\frac{\\partial y_2}{\\partial x} & ... & \\frac{\\partial y_m}{\\partial x}\n",
    "\\end{pmatrix}\n",
    "$$"
   ]
  },
  {
   "cell_type": "code",
   "execution_count": 10,
   "metadata": {
    "execution": {
     "iopub.execute_input": "2020-10-04T19:00:46.118363Z",
     "iopub.status.busy": "2020-10-04T19:00:46.110531Z",
     "iopub.status.idle": "2020-10-04T19:00:46.131467Z",
     "shell.execute_reply": "2020-10-04T19:00:46.132649Z"
    },
    "title": "codecell"
   },
   "outputs": [
    {
     "data": {
      "text/latex": [
       "$\\displaystyle \\left[\\begin{matrix}\\operatorname{y_{1}}{\\left(x \\right)} & \\operatorname{y_{2}}{\\left(x \\right)} & \\operatorname{y_{3}}{\\left(x \\right)} & \\operatorname{y_{4}}{\\left(x \\right)} & \\operatorname{y_{5}}{\\left(x \\right)} & \\operatorname{y_{6}}{\\left(x \\right)} & \\operatorname{y_{7}}{\\left(x \\right)}\\end{matrix}\\right]$"
      ],
      "text/plain": [
       "Matrix([[y_1(x), y_2(x), y_3(x), y_4(x), y_5(x), y_6(x), y_7(x)]])"
      ]
     },
     "execution_count": 1,
     "metadata": {},
     "output_type": "execute_result"
    }
   ],
   "source": [
    "# ### for deriv of a vector-valued function by its scalar argument\n",
    "#yv = [f(x), g(x), h(x)]; yv\n",
    "from sympy.abc import x\n",
    "\n",
    "yv = Matrix( 1, m, lambda _, j:  Function('y_{}'.format(j+1))(x)); yv\n",
    "\n"
   ]
  },
  {
   "cell_type": "code",
   "execution_count": 11,
   "metadata": {
    "execution": {
     "iopub.execute_input": "2020-10-04T19:00:46.138403Z",
     "iopub.status.busy": "2020-10-04T19:00:46.136807Z",
     "iopub.status.idle": "2020-10-04T19:00:46.162023Z",
     "shell.execute_reply": "2020-10-04T19:00:46.163575Z"
    },
    "title": "codecell"
   },
   "outputs": [
    {
     "data": {
      "text/latex": [
       "$\\displaystyle \\left[\\begin{matrix}\\frac{d}{d x} \\operatorname{y_{1}}{\\left(x \\right)} & \\frac{d}{d x} \\operatorname{y_{2}}{\\left(x \\right)} & \\frac{d}{d x} \\operatorname{y_{3}}{\\left(x \\right)} & \\frac{d}{d x} \\operatorname{y_{4}}{\\left(x \\right)} & \\frac{d}{d x} \\operatorname{y_{5}}{\\left(x \\right)} & \\frac{d}{d x} \\operatorname{y_{6}}{\\left(x \\right)} & \\frac{d}{d x} \\operatorname{y_{7}}{\\left(x \\right)}\\end{matrix}\\right]$"
      ],
      "text/plain": [
       "Matrix([[Derivative(y_1(x), x), Derivative(y_2(x), x), Derivative(y_3(x), x), Derivative(y_4(x), x), Derivative(y_5(x), x), Derivative(y_6(x), x), Derivative(y_7(x), x)]])"
      ]
     },
     "execution_count": 1,
     "metadata": {},
     "output_type": "execute_result"
    }
   ],
   "source": [
    "yv.diff(x)\n",
    "\n",
    " # NOTE: incorrect shape (is column-wise, must be row-wise like below) when defining the yv matrix to be m x 1 instead of 1 x m. Ideally want to define a regular m x 1 y-vector of functions y_i and to have the diff by x to be 1 x m."
   ]
  },
  {
   "cell_type": "code",
   "execution_count": 12,
   "metadata": {
    "execution": {
     "iopub.execute_input": "2020-10-04T19:00:46.168644Z",
     "iopub.status.busy": "2020-10-04T19:00:46.167156Z",
     "iopub.status.idle": "2020-10-04T19:00:46.192190Z",
     "shell.execute_reply": "2020-10-04T19:00:46.193355Z"
    },
    "lines_to_next_cell": 0,
    "title": "codecell"
   },
   "outputs": [
    {
     "data": {
      "text/latex": [
       "$\\displaystyle \\left[\\left[\\begin{matrix}\\frac{d}{d x} \\operatorname{y_{1}}{\\left(x \\right)} & \\frac{d}{d x} \\operatorname{y_{2}}{\\left(x \\right)} & \\frac{d}{d x} \\operatorname{y_{3}}{\\left(x \\right)} & \\frac{d}{d x} \\operatorname{y_{4}}{\\left(x \\right)} & \\frac{d}{d x} \\operatorname{y_{5}}{\\left(x \\right)} & \\frac{d}{d x} \\operatorname{y_{6}}{\\left(x \\right)} & \\frac{d}{d x} \\operatorname{y_{7}}{\\left(x \\right)}\\end{matrix}\\right]\\right]$"
      ],
      "text/plain": [
       "[[Derivative(y_1(x), x), Derivative(y_2(x), x), Derivative(y_3(x), x), Derivative(y_4(x), x), Derivative(y_5(x), x), Derivative(y_6(x), x), Derivative(y_7(x), x)]]"
      ]
     },
     "execution_count": 1,
     "metadata": {},
     "output_type": "execute_result"
    }
   ],
   "source": [
    "derive_by_array(yv, x) # Correct shape (row-wise)"
   ]
  },
  {
   "cell_type": "code",
   "execution_count": 13,
   "metadata": {
    "execution": {
     "iopub.execute_input": "2020-10-04T19:00:46.198891Z",
     "iopub.status.busy": "2020-10-04T19:00:46.197313Z",
     "iopub.status.idle": "2020-10-04T19:00:46.221953Z",
     "shell.execute_reply": "2020-10-04T19:00:46.223301Z"
    },
    "lines_to_next_cell": 0,
    "title": "codecell"
   },
   "outputs": [
    {
     "data": {
      "text/latex": [
       "$\\displaystyle \\left[\\begin{matrix}\\frac{d}{d x} \\operatorname{y_{1}}{\\left(x \\right)} & \\frac{d}{d x} \\operatorname{y_{2}}{\\left(x \\right)} & \\frac{d}{d x} \\operatorname{y_{3}}{\\left(x \\right)} & \\frac{d}{d x} \\operatorname{y_{4}}{\\left(x \\right)} & \\frac{d}{d x} \\operatorname{y_{5}}{\\left(x \\right)} & \\frac{d}{d x} \\operatorname{y_{6}}{\\left(x \\right)} & \\frac{d}{d x} \\operatorname{y_{7}}{\\left(x \\right)}\\end{matrix}\\right]$"
      ],
      "text/plain": [
       "Matrix([[Derivative(y_1(x), x), Derivative(y_2(x), x), Derivative(y_3(x), x), Derivative(y_4(x), x), Derivative(y_5(x), x), Derivative(y_6(x), x), Derivative(y_7(x), x)]])"
      ]
     },
     "execution_count": 1,
     "metadata": {},
     "output_type": "execute_result"
    }
   ],
   "source": [
    "Matrix(derive_by_array(yv, x))"
   ]
  },
  {
   "cell_type": "code",
   "execution_count": 14,
   "metadata": {
    "execution": {
     "iopub.execute_input": "2020-10-04T19:00:46.229682Z",
     "iopub.status.busy": "2020-10-04T19:00:46.227016Z",
     "iopub.status.idle": "2020-10-04T19:00:46.254400Z",
     "shell.execute_reply": "2020-10-04T19:00:46.255693Z"
    },
    "title": "codecell"
   },
   "outputs": [],
   "source": [
    "assert Matrix(derive_by_array(yv, x)) == Matrix(yv).diff(x)\n",
    "\n"
   ]
  },
  {
   "cell_type": "markdown",
   "execution_count": 15,
   "metadata": {
    "lines_to_next_cell": 0,
    "title": "markdown"
   },
   "source": [
    "### Vector Chain Rule"
   ]
  },
  {
   "cell_type": "code",
   "execution_count": 15,
   "metadata": {
    "execution": {
     "iopub.execute_input": "2020-10-04T19:00:46.262062Z",
     "iopub.status.busy": "2020-10-04T19:00:46.259668Z",
     "iopub.status.idle": "2020-10-04T19:00:46.266032Z",
     "shell.execute_reply": "2020-10-04T19:00:46.267621Z"
    },
    "title": "codecell"
   },
   "outputs": [],
   "source": [
    "# ### for vector chain rule"
   ]
  }
 ],
 "metadata": {
  "jupytext": {
   "cell_metadata_filter": "title,-all"
  },
  "kernelspec": {
   "display_name": "pymatrix_env",
   "language": "python",
   "name": "pymatrix_env"
  },
  "language_info": {
   "codemirror_mode": {
    "name": "ipython",
    "version": 3
   },
   "file_extension": ".py",
   "mimetype": "text/x-python",
   "name": "python",
   "nbconvert_exporter": "python",
   "pygments_lexer": "ipython3",
   "version": "3.7.8"
  }
 },
 "nbformat": 4,
 "nbformat_minor": 4
}
