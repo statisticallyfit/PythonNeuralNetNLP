{
 "cells": [
  {
   "cell_type": "markdown",
   "execution_count": 1,
   "metadata": {},
   "source": [
    "# Review: Gradient and Vector Chain Rule"
   ]
  },
  {
   "cell_type": "code",
   "execution_count": 1,
   "metadata": {
    "execution": {
     "iopub.execute_input": "2020-11-03T08:25:03.428687Z",
     "iopub.status.busy": "2020-11-03T08:25:03.423035Z",
     "iopub.status.idle": "2020-11-03T08:25:04.128888Z",
     "shell.execute_reply": "2020-11-03T08:25:04.130182Z"
    },
    "title": "codecell"
   },
   "outputs": [],
   "source": [
    "from sympy import diff, sin, exp, symbols, Function, Matrix, MatrixSymbol, FunctionMatrix, derive_by_array, Symbol\n",
    "\n"
   ]
  },
  {
   "cell_type": "code",
   "execution_count": 2,
   "metadata": {
    "execution": {
     "iopub.execute_input": "2020-11-03T08:25:04.137853Z",
     "iopub.status.busy": "2020-11-03T08:25:04.134321Z",
     "iopub.status.idle": "2020-11-03T08:25:04.141925Z",
     "shell.execute_reply": "2020-11-03T08:25:04.142984Z"
    }
   },
   "outputs": [],
   "source": [
    "import os, sys \n",
    "\n",
    "\n",
    "PATH: str = '/development/projects/statisticallyfit/github/learningmathstat/PythonNeuralNetNLP'\n",
    "\n",
    "#UTIL_DISPLAY_PATH: str = PATH + \"/src/utils/GeneralUtil/\"\n",
    "\n",
    "NEURALNET_PATH: str = PATH + '/src/NeuralNetworkStudy/books/SethWeidman_DeepLearningFromScratch'\n",
    "\n",
    "#sys.path.append(UTIL_DISPLAY_PATH)\n",
    "sys.path.append(PATH)\n",
    "sys.path.append(NEURALNET_PATH)"
   ]
  },
  {
   "cell_type": "code",
   "execution_count": 3,
   "metadata": {
    "execution": {
     "iopub.execute_input": "2020-11-03T08:25:04.148170Z",
     "iopub.status.busy": "2020-11-03T08:25:04.146424Z",
     "iopub.status.idle": "2020-11-03T08:25:04.929092Z",
     "shell.execute_reply": "2020-11-03T08:25:04.930278Z"
    }
   },
   "outputs": [],
   "source": [
    "from src.utils.GeneralUtil import *\n",
    "from src.MatrixCalculusStudy.MatrixDerivLib.symbols import Deriv\n",
    "from src.MatrixCalculusStudy.MatrixDerivLib.diff import diffMatrix\n",
    "from src.MatrixCalculusStudy.MatrixDerivLib.printingLatex import myLatexPrinter\n",
    "\n",
    "from IPython.display import display, Math\n",
    "from sympy.interactive import printing\n",
    "printing.init_printing(use_latex='mathjax', latex_printer= lambda e, **kw: myLatexPrinter.doprint(e))"
   ]
  },
  {
   "cell_type": "code",
   "execution_count": 4,
   "metadata": {
    "execution": {
     "iopub.execute_input": "2020-11-03T08:25:04.936031Z",
     "iopub.status.busy": "2020-11-03T08:25:04.933752Z",
     "iopub.status.idle": "2020-11-03T08:25:04.942348Z",
     "shell.execute_reply": "2020-11-03T08:25:04.943442Z"
    }
   },
   "outputs": [],
   "source": [
    "x, y, z = symbols('x y z')\n",
    "f, g, h = list(map(Function, 'fgh'))"
   ]
  },
  {
   "cell_type": "code",
   "execution_count": 5,
   "metadata": {
    "execution": {
     "iopub.execute_input": "2020-11-03T08:25:04.948695Z",
     "iopub.status.busy": "2020-11-03T08:25:04.946942Z",
     "iopub.status.idle": "2020-11-03T08:25:04.964435Z",
     "shell.execute_reply": "2020-11-03T08:25:04.965523Z"
    },
    "lines_to_next_cell": 0,
    "title": "codecell"
   },
   "outputs": [
    {
     "data": {
      "text/latex": [
       "$\\displaystyle \\left[\\begin{matrix}x\\\\y\\\\z\\end{matrix}\\right]$"
      ],
      "text/plain": [
       "⎡x⎤\n",
       "⎢ ⎥\n",
       "⎢y⎥\n",
       "⎢ ⎥\n",
       "⎣z⎦"
      ]
     },
     "execution_count": 1,
     "metadata": {},
     "output_type": "execute_result"
    }
   ],
   "source": [
    "# 1) manualy declaration of vector variables\n",
    "xv = x,y,z\n",
    "#f(xv).subs({x:1, y:2,z:3})\n",
    "#Matrix(xv)\n",
    "Matrix(xv)"
   ]
  },
  {
   "cell_type": "code",
   "execution_count": 6,
   "metadata": {
    "execution": {
     "iopub.execute_input": "2020-11-03T08:25:04.977139Z",
     "iopub.status.busy": "2020-11-03T08:25:04.969153Z",
     "iopub.status.idle": "2020-11-03T08:25:04.984101Z",
     "shell.execute_reply": "2020-11-03T08:25:04.985193Z"
    },
    "title": "codecell"
   },
   "outputs": [
    {
     "data": {
      "text/latex": [
       "$\\displaystyle \\left[\\begin{matrix}f{\\left(x,y,z \\right)}\\\\g{\\left(x,y,z \\right)}\\\\h{\\left(x,y,z \\right)}\\end{matrix}\\right]$"
      ],
      "text/plain": [
       "⎡f(x, y, z)⎤\n",
       "⎢          ⎥\n",
       "⎢g(x, y, z)⎥\n",
       "⎢          ⎥\n",
       "⎣h(x, y, z)⎦"
      ]
     },
     "execution_count": 1,
     "metadata": {},
     "output_type": "execute_result"
    }
   ],
   "source": [
    "yv = [f(*xv), g(*xv), h(*xv)]\n",
    "\n",
    "Matrix(yv)\n",
    "\n",
    "\n"
   ]
  },
  {
   "cell_type": "code",
   "execution_count": 7,
   "metadata": {
    "execution": {
     "iopub.execute_input": "2020-11-03T08:25:04.990360Z",
     "iopub.status.busy": "2020-11-03T08:25:04.988890Z",
     "iopub.status.idle": "2020-11-03T08:25:05.002887Z",
     "shell.execute_reply": "2020-11-03T08:25:05.003933Z"
    },
    "title": "codecell"
   },
   "outputs": [
    {
     "data": {
      "text/latex": [
       "$\\displaystyle \\left[\\begin{matrix}x_{1}\\\\x_{2}\\\\x_{3}\\\\x_{4}\\\\x_{5}\\end{matrix}\\right]$"
      ],
      "text/plain": [
       "⎡x₁⎤\n",
       "⎢  ⎥\n",
       "⎢x₂⎥\n",
       "⎢  ⎥\n",
       "⎢x₃⎥\n",
       "⎢  ⎥\n",
       "⎢x₄⎥\n",
       "⎢  ⎥\n",
       "⎣x₅⎦"
      ]
     },
     "execution_count": 1,
     "metadata": {},
     "output_type": "execute_result"
    }
   ],
   "source": [
    "n,m,p = 5,7,4\n",
    "\n",
    "xv = Matrix(n, 1, lambda i,j : var_i('x', i+1))\n",
    "xv"
   ]
  },
  {
   "cell_type": "code",
   "execution_count": 8,
   "metadata": {
    "execution": {
     "iopub.execute_input": "2020-11-03T08:25:05.008620Z",
     "iopub.status.busy": "2020-11-03T08:25:05.007143Z",
     "iopub.status.idle": "2020-11-03T08:25:05.039729Z",
     "shell.execute_reply": "2020-11-03T08:25:05.041039Z"
    },
    "lines_to_next_cell": 2,
    "title": "codecell"
   },
   "outputs": [
    {
     "data": {
      "text/latex": [
       "$\\displaystyle \\left[\\begin{matrix}\\operatorname{y_{1}}{\\left(x_{1},x_{2},x_{3},x_{4},x_{5} \\right)}\\\\\\operatorname{y_{2}}{\\left(x_{1},x_{2},x_{3},x_{4},x_{5} \\right)}\\\\\\operatorname{y_{3}}{\\left(x_{1},x_{2},x_{3},x_{4},x_{5} \\right)}\\\\\\operatorname{y_{4}}{\\left(x_{1},x_{2},x_{3},x_{4},x_{5} \\right)}\\\\\\operatorname{y_{5}}{\\left(x_{1},x_{2},x_{3},x_{4},x_{5} \\right)}\\\\\\operatorname{y_{6}}{\\left(x_{1},x_{2},x_{3},x_{4},x_{5} \\right)}\\\\\\operatorname{y_{7}}{\\left(x_{1},x_{2},x_{3},x_{4},x_{5} \\right)}\\end{matrix}\\right]$"
      ],
      "text/plain": [
       "⎡y₁(x₁, x₂, x₃, x₄, x₅)⎤\n",
       "⎢                      ⎥\n",
       "⎢y₂(x₁, x₂, x₃, x₄, x₅)⎥\n",
       "⎢                      ⎥\n",
       "⎢y₃(x₁, x₂, x₃, x₄, x₅)⎥\n",
       "⎢                      ⎥\n",
       "⎢y₄(x₁, x₂, x₃, x₄, x₅)⎥\n",
       "⎢                      ⎥\n",
       "⎢y₅(x₁, x₂, x₃, x₄, x₅)⎥\n",
       "⎢                      ⎥\n",
       "⎢y₆(x₁, x₂, x₃, x₄, x₅)⎥\n",
       "⎢                      ⎥\n",
       "⎣y₇(x₁, x₂, x₃, x₄, x₅)⎦"
      ]
     },
     "execution_count": 1,
     "metadata": {},
     "output_type": "execute_result"
    }
   ],
   "source": [
    "yv = Matrix( m, 1, lambda i,_:  func_i('y', i, xLetter = 'x', xLen = n))\n",
    "yv"
   ]
  },
  {
   "cell_type": "markdown",
   "execution_count": 9,
   "metadata": {},
   "source": [
    "### Derivative of Real-Valued, Multivariate Function with Respect to Vector: The Gradient Vector\n",
    "\n",
    "Let the multivariate and real-valued function $f(\\mathbf{x}) = f(x_1,x_2,...,x_n)$ from $\\mathbb{R}^n \\longrightarrow \\mathbb{R}$  be a function of the real $n \\times 1$ vector $\\mathbf{x} = \\begin{pmatrix} x_1 \\\\ x_2 \\\\ \\vdots \\\\ x_n \\end{pmatrix}$.\n",
    "\n",
    "Then the **vector of first order partial derivative**s $\\frac{\\partial f}{\\partial \\mathbf{x}}$, also called the **gradient vector**, is defined as:\n",
    "\n",
    "* Notation with arguments:\n",
    "\n",
    "$$\n",
    "\\nabla f(\\mathbf{x}) = \\frac{\\partial}{\\partial \\mathbf{x}} f(\\mathbf{x})\n",
    "{\\Large\n",
    "= \\begin{pmatrix}\n",
    "        \\frac{\\partial }{\\partial x_1} f(\\mathbf{x}) \\\\\n",
    "        \\frac{\\partial }{\\partial x_2} f(\\mathbf{x}) \\\\\n",
    "        \\vdots \\\\\n",
    "        \\frac{\\partial }{\\partial x_n} f(\\mathbf{x})\n",
    "\\end{pmatrix} }\n",
    "$$\n",
    "\n",
    "* Notation without arguments:\n",
    "\n",
    "$$\n",
    "\\nabla f = \\frac{\\partial f}{\\partial \\mathbf{x}} = \\Large\\begin{pmatrix}\n",
    "   \\frac{\\partial f}{\\partial x_1} \\\\\n",
    "   \\frac{\\partial f}{\\partial x_2} \\\\\n",
    "   \\vdots \\\\\n",
    "   \\frac{\\partial f}{\\partial x_n}\n",
    "\\end{pmatrix}\n",
    "$$\n",
    "\n",
    "\n"
   ]
  },
  {
   "cell_type": "markdown",
   "execution_count": 9,
   "metadata": {},
   "source": [
    "### Vector of First Order Partial Derivatives\n",
    "\n",
    "The **vector of first order partial derivative**s $\\frac{\\partial f}{\\partial \\mathbf{x}^T}$ is defined as the transpose of the **gradient** of $f$:\n",
    "$$\n",
    "\\frac{\\partial f}{\\partial \\mathbf{x}^T}\n",
    "= (\\nabla f)^T\n",
    "= \\Bigg( \\frac{\\partial f}{\\partial \\mathbf{x}} \\Bigg)^T\n",
    "= \\Large\\begin{pmatrix}\n",
    "   \\frac{\\partial f}{\\partial x_1} &\n",
    "   \\frac{\\partial f}{\\partial x_2} & ... &\n",
    "   \\frac{\\partial f}{\\partial x_m}\n",
    "\\end{pmatrix}\n",
    "$$\n",
    "\n",
    "\n",
    "\n",
    "\n"
   ]
  },
  {
   "cell_type": "code",
   "execution_count": 9,
   "metadata": {
    "execution": {
     "iopub.execute_input": "2020-11-03T08:25:05.046134Z",
     "iopub.status.busy": "2020-11-03T08:25:05.044668Z",
     "iopub.status.idle": "2020-11-03T08:25:05.086823Z",
     "shell.execute_reply": "2020-11-03T08:25:05.088047Z"
    },
    "title": "codecell"
   },
   "outputs": [
    {
     "data": {
      "text/latex": [
       "$\\displaystyle \\left[\\begin{matrix}\\frac{\\partial}{\\partial x_{1}} f{\\left(x_{1},x_{2},x_{3},x_{4},x_{5} \\right)}\\\\\\frac{\\partial}{\\partial x_{2}} f{\\left(x_{1},x_{2},x_{3},x_{4},x_{5} \\right)}\\\\\\frac{\\partial}{\\partial x_{3}} f{\\left(x_{1},x_{2},x_{3},x_{4},x_{5} \\right)}\\\\\\frac{\\partial}{\\partial x_{4}} f{\\left(x_{1},x_{2},x_{3},x_{4},x_{5} \\right)}\\\\\\frac{\\partial}{\\partial x_{5}} f{\\left(x_{1},x_{2},x_{3},x_{4},x_{5} \\right)}\\end{matrix}\\right]$"
      ],
      "text/plain": [
       "⎡ ∂                        ⎤\n",
       "⎢───(f(x₁, x₂, x₃, x₄, x₅))⎥\n",
       "⎢∂x₁                       ⎥\n",
       "⎢                          ⎥\n",
       "⎢ ∂                        ⎥\n",
       "⎢───(f(x₁, x₂, x₃, x₄, x₅))⎥\n",
       "⎢∂x₂                       ⎥\n",
       "⎢                          ⎥\n",
       "⎢ ∂                        ⎥\n",
       "⎢───(f(x₁, x₂, x₃, x₄, x₅))⎥\n",
       "⎢∂x₃                       ⎥\n",
       "⎢                          ⎥\n",
       "⎢ ∂                        ⎥\n",
       "⎢───(f(x₁, x₂, x₃, x₄, x₅))⎥\n",
       "⎢∂x₄                       ⎥\n",
       "⎢                          ⎥\n",
       "⎢ ∂                        ⎥\n",
       "⎢───(f(x₁, x₂, x₃, x₄, x₅))⎥\n",
       "⎣∂x₅                       ⎦"
      ]
     },
     "execution_count": 1,
     "metadata": {},
     "output_type": "execute_result"
    }
   ],
   "source": [
    "# ### for deriv of scalar-valued multivariate function with respect to the vector\n",
    "\n",
    "#f(*xv).diff(xv)\n",
    "\n",
    "f(*xv).diff(xv)"
   ]
  },
  {
   "cell_type": "code",
   "execution_count": 10,
   "metadata": {
    "execution": {
     "iopub.execute_input": "2020-11-03T08:25:05.093191Z",
     "iopub.status.busy": "2020-11-03T08:25:05.091648Z",
     "iopub.status.idle": "2020-11-03T08:25:05.128244Z",
     "shell.execute_reply": "2020-11-03T08:25:05.129326Z"
    },
    "title": "codecell"
   },
   "outputs": [
    {
     "data": {
      "text/latex": [
       "$\\displaystyle \\left[\\begin{matrix}\\frac{\\partial}{\\partial x_{1}} f{\\left(x_{1},x_{2},x_{3},x_{4},x_{5} \\right)}\\\\\\frac{\\partial}{\\partial x_{2}} f{\\left(x_{1},x_{2},x_{3},x_{4},x_{5} \\right)}\\\\\\frac{\\partial}{\\partial x_{3}} f{\\left(x_{1},x_{2},x_{3},x_{4},x_{5} \\right)}\\\\\\frac{\\partial}{\\partial x_{4}} f{\\left(x_{1},x_{2},x_{3},x_{4},x_{5} \\right)}\\\\\\frac{\\partial}{\\partial x_{5}} f{\\left(x_{1},x_{2},x_{3},x_{4},x_{5} \\right)}\\end{matrix}\\right]$"
      ],
      "text/plain": [
       "⎡ ∂                        ⎤\n",
       "⎢───(f(x₁, x₂, x₃, x₄, x₅))⎥\n",
       "⎢∂x₁                       ⎥\n",
       "⎢                          ⎥\n",
       "⎢ ∂                        ⎥\n",
       "⎢───(f(x₁, x₂, x₃, x₄, x₅))⎥\n",
       "⎢∂x₂                       ⎥\n",
       "⎢                          ⎥\n",
       "⎢ ∂                        ⎥\n",
       "⎢───(f(x₁, x₂, x₃, x₄, x₅))⎥\n",
       "⎢∂x₃                       ⎥\n",
       "⎢                          ⎥\n",
       "⎢ ∂                        ⎥\n",
       "⎢───(f(x₁, x₂, x₃, x₄, x₅))⎥\n",
       "⎢∂x₄                       ⎥\n",
       "⎢                          ⎥\n",
       "⎢ ∂                        ⎥\n",
       "⎢───(f(x₁, x₂, x₃, x₄, x₅))⎥\n",
       "⎣∂x₅                       ⎦"
      ]
     },
     "execution_count": 1,
     "metadata": {},
     "output_type": "execute_result"
    }
   ],
   "source": [
    "#derive_by_array(f(*xv), xv)\n",
    "derive_by_array(f(*xv), xv)"
   ]
  },
  {
   "cell_type": "code",
   "execution_count": 11,
   "metadata": {
    "execution": {
     "iopub.execute_input": "2020-11-03T08:25:05.134232Z",
     "iopub.status.busy": "2020-11-03T08:25:05.132766Z",
     "iopub.status.idle": "2020-11-03T08:25:05.155854Z",
     "shell.execute_reply": "2020-11-03T08:25:05.156968Z"
    },
    "title": "codecell"
   },
   "outputs": [],
   "source": [
    "assert Matrix(derive_by_array(f(*xv), xv)) == f(*xv).diff(xv)\n",
    "\n"
   ]
  },
  {
   "cell_type": "markdown",
   "execution_count": 12,
   "metadata": {},
   "source": [
    "### Derivative of Vector-Valued, Single Variable Function with Respect to Scalar\n",
    "Let $\\mathbf{y}(x) = \\begin{pmatrix} y_1(x) \\\\ y_2(x) \\\\ \\vdots \\\\ y_m(x) \\end{pmatrix}$ be a vector of order $m$, where each of the elements $y_i$ are functions of the scalar variable $x$. Specifically, $y_i = f_i(x), 1 \\leq i \\leq m$, where $f_i : \\mathbb{R} \\rightarrow \\mathbb{R}$ and $\\mathbf{y} : \\mathbb{R} \\rightarrow \\mathbb{R}^m$.\n",
    "\n",
    "Then the **derivative of the vector-valued function $\\mathbf{y}$ with respect to its ginle variable $x$** is defined as:\n",
    "$$\n",
    "\\frac{\\partial \\mathbf{y}}{\\partial x} = \\Large\\begin{pmatrix}\n",
    "   \\frac{\\partial y_1}{\\partial x} & \\frac{\\partial y_2}{\\partial x} & ... & \\frac{\\partial y_m}{\\partial x}\n",
    "\\end{pmatrix}\n",
    "$$"
   ]
  },
  {
   "cell_type": "code",
   "execution_count": 12,
   "metadata": {
    "execution": {
     "iopub.execute_input": "2020-11-03T08:25:05.161922Z",
     "iopub.status.busy": "2020-11-03T08:25:05.160419Z",
     "iopub.status.idle": "2020-11-03T08:25:05.184907Z",
     "shell.execute_reply": "2020-11-03T08:25:05.185987Z"
    },
    "lines_to_next_cell": 2,
    "title": "codecell"
   },
   "outputs": [
    {
     "data": {
      "text/latex": [
       "$\\displaystyle \\left[\\begin{matrix}\\operatorname{y_{1}}{\\left(x \\right)} & \\operatorname{y_{2}}{\\left(x \\right)} & \\operatorname{y_{3}}{\\left(x \\right)} & \\operatorname{y_{4}}{\\left(x \\right)} & \\operatorname{y_{5}}{\\left(x \\right)} & \\operatorname{y_{6}}{\\left(x \\right)} & \\operatorname{y_{7}}{\\left(x \\right)}\\end{matrix}\\right]$"
      ],
      "text/plain": [
       "[y₁(x)  y₂(x)  y₃(x)  y₄(x)  y₅(x)  y₆(x)  y₇(x)]"
      ]
     },
     "execution_count": 1,
     "metadata": {},
     "output_type": "execute_result"
    }
   ],
   "source": [
    "# ### for deriv of a vector-valued function by its scalar argument\n",
    "#yv = [f(x), g(x), h(x)]; yv\n",
    "from sympy.abc import x\n",
    "\n",
    "yv = Matrix( 1, m, lambda _, j:  Function('y_{}'.format(j+1))(x))\n",
    "yv"
   ]
  },
  {
   "cell_type": "code",
   "execution_count": 13,
   "metadata": {
    "execution": {
     "iopub.execute_input": "2020-11-03T08:25:05.191450Z",
     "iopub.status.busy": "2020-11-03T08:25:05.189935Z",
     "iopub.status.idle": "2020-11-03T08:25:05.222735Z",
     "shell.execute_reply": "2020-11-03T08:25:05.223818Z"
    },
    "title": "codecell"
   },
   "outputs": [
    {
     "data": {
      "text/latex": [
       "$\\displaystyle \\left[\\begin{matrix}\\frac{d}{d x} \\operatorname{y_{1}}{\\left(x \\right)} & \\frac{d}{d x} \\operatorname{y_{2}}{\\left(x \\right)} & \\frac{d}{d x} \\operatorname{y_{3}}{\\left(x \\right)} & \\frac{d}{d x} \\operatorname{y_{4}}{\\left(x \\right)} & \\frac{d}{d x} \\operatorname{y_{5}}{\\left(x \\right)} & \\frac{d}{d x} \\operatorname{y_{6}}{\\left(x \\right)} & \\frac{d}{d x} \\operatorname{y_{7}}{\\left(x \\right)}\\end{matrix}\\right]$"
      ],
      "text/plain": [
       "⎡d          d          d          d          d          d          d        ⎤\n",
       "⎢──(y₁(x))  ──(y₂(x))  ──(y₃(x))  ──(y₄(x))  ──(y₅(x))  ──(y₆(x))  ──(y₇(x))⎥\n",
       "⎣dx         dx         dx         dx         dx         dx         dx       ⎦"
      ]
     },
     "execution_count": 1,
     "metadata": {},
     "output_type": "execute_result"
    }
   ],
   "source": [
    "yv.diff(x)\n",
    "\n",
    " # NOTE: incorrect shape (is column-wise, must be row-wise like below) when defining the yv matrix to be m x 1 instead of 1 x m. Ideally want to define a regular m x 1 y-vector of functions y_i and to have the diff by x to be 1 x m."
   ]
  },
  {
   "cell_type": "code",
   "execution_count": 14,
   "metadata": {
    "execution": {
     "iopub.execute_input": "2020-11-03T08:25:05.228834Z",
     "iopub.status.busy": "2020-11-03T08:25:05.227201Z",
     "iopub.status.idle": "2020-11-03T08:25:05.232789Z",
     "shell.execute_reply": "2020-11-03T08:25:05.233838Z"
    },
    "lines_to_next_cell": 0,
    "title": "codecell"
   },
   "outputs": [],
   "source": [
    "#derive_by_array(yv, x) # Correct shape (row-wise)\n",
    "#display(derive_by_array(yv, x))\n",
    "# NOTE: this displays double matrix dimension, so no need for it here, need to convert result to matrix as below"
   ]
  },
  {
   "cell_type": "code",
   "execution_count": 15,
   "metadata": {
    "execution": {
     "iopub.execute_input": "2020-11-03T08:25:05.240331Z",
     "iopub.status.busy": "2020-11-03T08:25:05.237442Z",
     "iopub.status.idle": "2020-11-03T08:25:05.268941Z",
     "shell.execute_reply": "2020-11-03T08:25:05.270002Z"
    },
    "lines_to_next_cell": 0,
    "title": "codecell"
   },
   "outputs": [
    {
     "data": {
      "text/latex": [
       "$\\displaystyle \\left[\\begin{matrix}\\frac{d}{d x} \\operatorname{y_{1}}{\\left(x \\right)} & \\frac{d}{d x} \\operatorname{y_{2}}{\\left(x \\right)} & \\frac{d}{d x} \\operatorname{y_{3}}{\\left(x \\right)} & \\frac{d}{d x} \\operatorname{y_{4}}{\\left(x \\right)} & \\frac{d}{d x} \\operatorname{y_{5}}{\\left(x \\right)} & \\frac{d}{d x} \\operatorname{y_{6}}{\\left(x \\right)} & \\frac{d}{d x} \\operatorname{y_{7}}{\\left(x \\right)}\\end{matrix}\\right]$"
      ],
      "text/plain": [
       "⎡d          d          d          d          d          d          d        ⎤\n",
       "⎢──(y₁(x))  ──(y₂(x))  ──(y₃(x))  ──(y₄(x))  ──(y₅(x))  ──(y₆(x))  ──(y₇(x))⎥\n",
       "⎣dx         dx         dx         dx         dx         dx         dx       ⎦"
      ]
     },
     "execution_count": 1,
     "metadata": {},
     "output_type": "execute_result"
    }
   ],
   "source": [
    "#Matrix(derive_by_array(yv, x))\n",
    "Matrix(derive_by_array(yv, x))"
   ]
  },
  {
   "cell_type": "code",
   "execution_count": 16,
   "metadata": {
    "execution": {
     "iopub.execute_input": "2020-11-03T08:25:05.274746Z",
     "iopub.status.busy": "2020-11-03T08:25:05.273287Z",
     "iopub.status.idle": "2020-11-03T08:25:05.298340Z",
     "shell.execute_reply": "2020-11-03T08:25:05.299616Z"
    },
    "title": "codecell"
   },
   "outputs": [],
   "source": [
    "assert Matrix(derive_by_array(yv, x)) == Matrix(yv).diff(x)\n",
    "\n",
    "\n",
    "\n"
   ]
  },
  {
   "cell_type": "markdown",
   "execution_count": 17,
   "metadata": {
    "lines_to_next_cell": 2
   },
   "source": [
    "### Vector Chain Rule\n",
    "In general the Jacobian matrix of the composition of two vector-valued functions of a vector variable is the matrix product of their Jacobian matrices.\n",
    "\n",
    "To see this let $\\mathbf{z} = \\mathbf{f}(\\mathbf{y})$ be a transformation from $\\mathbb{R}^k$ to $\\mathbb{R}^m$ given by:\n",
    "$$\n",
    "z_1 = f_1 \\big(y_1,y_2,...,y_k \\big) \\\\\n",
    "z_2 = f_2 \\big(y_1,y_2,...,y_k \\big) \\\\\n",
    "\\vdots \\\\\n",
    "z_m = f_m \\big(y_1,y_2,...,y_k \\big)\n",
    "$$\n",
    "which has the $m \\times k$ Jacobian matrix:\n",
    "$$\n",
    "\\Large\n",
    "\\frac{\\partial \\mathbf{f}}{\\partial \\mathbf{y}} = \\begin{pmatrix}\n",
    "  \\frac{\\partial f_1}{\\partial y_1} & \\frac{\\partial f_1}{\\partial y_2} & ... & \\frac{\\partial f_1}{\\partial y_k} \\\\\n",
    "  \\frac{\\partial f_2}{\\partial y_1} & \\frac{\\partial f_2}{\\partial y_2} & ... & \\frac{\\partial f_2}{\\partial y_k} \\\\\n",
    "  \\vdots & \\vdots &  & \\vdots \\\\\n",
    "  \\frac{\\partial f_m}{\\partial y_1} & \\frac{\\partial f_m}{\\partial y_2} & ... & \\frac{\\partial f_m}{\\partial y_k}\n",
    "\\end{pmatrix}\n",
    "$$\n",
    "\n",
    "\n",
    "and let $\\mathbf{y} = \\mathbf{g}(\\mathbf{x})$ be another such transformation from $\\mathbb{R}^n$ to $\\mathbb{R}^k$ given by:\n",
    "\n",
    "$$\n",
    "y_1 = g_1 \\big(x_1,x_2,...,x_n \\big) \\\\\n",
    "y_2 = g_2 \\big(x_1,x_2,...,x_n \\big) \\\\\n",
    "\\vdots \\\\\n",
    "y_k = g_k \\big(x_1,x_2,...,x_n \\big)\n",
    "$$\n",
    "which has the $k \\times n$ Jacobian matrix:\n",
    "$$\n",
    "\\Large\n",
    "\\frac{\\partial \\mathbf{g}}{\\partial \\mathbf{x}} = \\begin{pmatrix}\n",
    "  \\frac{\\partial g_1}{\\partial x_1} & \\frac{\\partial g_1}{\\partial x_2} & ... & \\frac{\\partial g_1}{\\partial x_n} \\\\\n",
    "  \\frac{\\partial g_2}{\\partial x_1} & \\frac{\\partial g_2}{\\partial x_2} & ... & \\frac{\\partial g_2}{\\partial x_n} \\\\\n",
    "  \\vdots & \\vdots &  & \\vdots \\\\\n",
    "  \\frac{\\partial g_k}{\\partial x_1} & \\frac{\\partial g_k}{\\partial x_2} & ... & \\frac{\\partial g_k}{\\partial x_n}\n",
    "\\end{pmatrix}\n",
    "$$\n",
    "\n",
    "Then the composition $\\mathbf{z} = (\\mathbf{f} \\circ \\mathbf{g})(\\mathbf{x}) = \\mathbf{f}(\\mathbf{g}(\\mathbf{x}))$ given by :\n",
    "$$\n",
    "z_1 = f_1 \\big( g_1 \\big( x_1,...,x_n \\big),..., g_k \\big( x_1,...,x_n \\big) \\big) \\\\\n",
    "z_2 = f_2 \\big( g_1 \\big( x_1,...,x_n \\big),..., g_k \\big( x_1,...,x_n \\big) \\big) \\\\\n",
    "\\vdots \\\\\n",
    "z_k = f_m \\big( g_1 \\big( x_1,...,x_n \\big),..., g_k \\big( x_1,...,x_n \\big) \\big)\n",
    "$$\n",
    "\n",
    "has, according to the Chain Rule, the $m \\times n$ Jacobian matrix\n",
    "\n",
    "$$\n",
    "\\Large\n",
    "\\begin{aligned}\n",
    "\n",
    "\\frac{\\partial}{\\partial \\mathbf{x}} \\mathbf{f} \\big( \\mathbf{g}(\\mathbf{x}) \\big) &= \\frac{\\partial \\mathbf{f}}{\\partial \\mathbf{g}} \\times \\frac{\\partial \\mathbf{g}}{\\partial \\mathbf{x}} \\\\\n",
    "\n",
    "\\begin{pmatrix}\n",
    "\\frac{\\partial f_1}{\\partial x_1} & \\frac{\\partial f_1}{\\partial x_2} & ... & \\frac{\\partial f_1}{\\partial x_n} \\\\\n",
    "\\frac{\\partial f_2}{\\partial x_1} & \\frac{\\partial f_2}{\\partial x_2} & ... & \\frac{\\partial f_2}{\\partial x_n} \\\\\n",
    "\\vdots & \\vdots & & \\vdots \\\\\n",
    "\\frac{\\partial f_m}{\\partial x_1} & \\frac{\\partial f_m}{\\partial x_2} & ... & \\frac{\\partial f_m}{\\partial x_n}\n",
    "\\end{pmatrix}\n",
    "\n",
    "&= \\begin{pmatrix}\n",
    "\\frac{\\partial f_1}{\\partial g_1} & \\frac{\\partial f_1}{\\partial g_2} & ... & \\frac{\\partial f_1}{\\partial g_k} \\\\\n",
    "\\frac{\\partial f_2}{\\partial g_1} & \\frac{\\partial f_2}{\\partial g_2} & ... & \\frac{\\partial f_2}{\\partial g_k} \\\\\n",
    "\\vdots & \\vdots & & \\vdots \\\\\n",
    "\\frac{\\partial f_m}{\\partial g_1} & \\frac{\\partial f_m}{\\partial g_2} & ... & \\frac{\\partial f_m}{\\partial g_k}\n",
    "\\end{pmatrix}\n",
    "\n",
    "\\times\n",
    "\n",
    "\\begin{pmatrix}\n",
    "\\frac{\\partial g_1}{\\partial x_1} & \\frac{\\partial g_1}{\\partial x_2} & ... & \\frac{\\partial g_1}{\\partial x_n} \\\\\n",
    "\\frac{\\partial g_2}{\\partial x_1} & \\frac{\\partial g_2}{\\partial x_2} & ... & \\frac{\\partial g_2}{\\partial x_n} \\\\\n",
    "\\vdots & \\vdots & & \\vdots \\\\\n",
    "\\frac{\\partial g_k}{\\partial x_1} & \\frac{\\partial g_k}{\\partial x_2} & ... & \\frac{\\partial g_k}{\\partial x_n}\n",
    "\\end{pmatrix}\n",
    "\n",
    "\\end{aligned}\n",
    "$$\n",
    "where $\\times$ denotes matrix multiplication, and $m = |\\mathbf{f}|, n = |\\mathbf{x}|$ and $k = |\\mathbf{g}|$.\n",
    "\n",
    "\n",
    "**SOURCES:**\n",
    "* R.A Adams - Calculus: A Complete Course (sections 12.5 and 12.6)\n",
    "* Thomas Weir - Calculus (section 14.4)\n",
    "* [Medium's blog post on \"The Matrix Calculus you Need for Deep Learning\"](https://medium.com/@rohitrpatil/the-matrix-calculus-you-need-for-deep-learning-notes-from-a-paper-by-terence-parr-and-jeremy-4f4263b7bb8)"
   ]
  },
  {
   "cell_type": "code",
   "execution_count": 17,
   "metadata": {
    "execution": {
     "iopub.execute_input": "2020-11-03T08:25:05.304704Z",
     "iopub.status.busy": "2020-11-03T08:25:05.303156Z",
     "iopub.status.idle": "2020-11-03T08:25:05.315723Z",
     "shell.execute_reply": "2020-11-03T08:25:05.316872Z"
    },
    "title": "codecell"
   },
   "outputs": [
    {
     "data": {
      "text/latex": [
       "$\\displaystyle \\left[\\begin{matrix}x_{1}\\\\x_{2}\\\\x_{3}\\end{matrix}\\right]$"
      ],
      "text/plain": [
       "⎡x₁⎤\n",
       "⎢  ⎥\n",
       "⎢x₂⎥\n",
       "⎢  ⎥\n",
       "⎣x₃⎦"
      ]
     },
     "execution_count": 1,
     "metadata": {},
     "output_type": "execute_result"
    }
   ],
   "source": [
    "n, k, m = 3, 4, 5\n",
    "\n",
    "xv = Matrix(n, 1, lambda i,j : var_i('x', i+1))\n",
    "xv"
   ]
  },
  {
   "cell_type": "code",
   "execution_count": 18,
   "metadata": {
    "execution": {
     "iopub.execute_input": "2020-11-03T08:25:05.321684Z",
     "iopub.status.busy": "2020-11-03T08:25:05.320050Z",
     "iopub.status.idle": "2020-11-03T08:25:05.339889Z",
     "shell.execute_reply": "2020-11-03T08:25:05.341243Z"
    },
    "title": "codecell"
   },
   "outputs": [
    {
     "data": {
      "text/latex": [
       "$\\displaystyle \\left[\\begin{matrix}\\operatorname{g_{1}}{\\left(x_{1},x_{2},x_{3} \\right)}\\\\\\operatorname{g_{2}}{\\left(x_{1},x_{2},x_{3} \\right)}\\\\\\operatorname{g_{3}}{\\left(x_{1},x_{2},x_{3} \\right)}\\\\\\operatorname{g_{4}}{\\left(x_{1},x_{2},x_{3} \\right)}\\end{matrix}\\right]$"
      ],
      "text/plain": [
       "⎡g₁(x₁, x₂, x₃)⎤\n",
       "⎢              ⎥\n",
       "⎢g₂(x₁, x₂, x₃)⎥\n",
       "⎢              ⎥\n",
       "⎢g₃(x₁, x₂, x₃)⎥\n",
       "⎢              ⎥\n",
       "⎣g₄(x₁, x₂, x₃)⎦"
      ]
     },
     "execution_count": 1,
     "metadata": {},
     "output_type": "execute_result"
    }
   ],
   "source": [
    "gv = Matrix( k, 1, lambda i,_:  func_i('g', i, xLetter = 'x', xLen = n))\n",
    "gv"
   ]
  },
  {
   "cell_type": "code",
   "execution_count": 19,
   "metadata": {
    "execution": {
     "iopub.execute_input": "2020-11-03T08:25:05.346088Z",
     "iopub.status.busy": "2020-11-03T08:25:05.344625Z",
     "iopub.status.idle": "2020-11-03T08:25:05.368928Z",
     "shell.execute_reply": "2020-11-03T08:25:05.369997Z"
    },
    "lines_to_next_cell": 2,
    "title": "codecell"
   },
   "outputs": [
    {
     "data": {
      "text/latex": [
       "$\\displaystyle \\left[\\begin{matrix}\\operatorname{f_{1}}{\\left(y_{1},y_{2},y_{3},y_{4} \\right)}\\\\\\operatorname{f_{2}}{\\left(y_{1},y_{2},y_{3},y_{4} \\right)}\\\\\\operatorname{f_{3}}{\\left(y_{1},y_{2},y_{3},y_{4} \\right)}\\\\\\operatorname{f_{4}}{\\left(y_{1},y_{2},y_{3},y_{4} \\right)}\\\\\\operatorname{f_{5}}{\\left(y_{1},y_{2},y_{3},y_{4} \\right)}\\end{matrix}\\right]$"
      ],
      "text/plain": [
       "⎡f₁(y₁, y₂, y₃, y₄)⎤\n",
       "⎢                  ⎥\n",
       "⎢f₂(y₁, y₂, y₃, y₄)⎥\n",
       "⎢                  ⎥\n",
       "⎢f₃(y₁, y₂, y₃, y₄)⎥\n",
       "⎢                  ⎥\n",
       "⎢f₄(y₁, y₂, y₃, y₄)⎥\n",
       "⎢                  ⎥\n",
       "⎣f₅(y₁, y₂, y₃, y₄)⎦"
      ]
     },
     "execution_count": 1,
     "metadata": {},
     "output_type": "execute_result"
    }
   ],
   "source": [
    "\n",
    "fv = Matrix(m, 1, lambda i,_: func_i('f', i, xLetter = 'y', xLen = k))\n",
    "fv"
   ]
  },
  {
   "cell_type": "code",
   "execution_count": 20,
   "metadata": {
    "execution": {
     "iopub.execute_input": "2020-11-03T08:25:05.374878Z",
     "iopub.status.busy": "2020-11-03T08:25:05.373359Z",
     "iopub.status.idle": "2020-11-03T08:25:05.502691Z",
     "shell.execute_reply": "2020-11-03T08:25:05.503794Z"
    },
    "lines_to_next_cell": 2,
    "title": "codecell"
   },
   "outputs": [
    {
     "data": {
      "text/latex": [
       "$\\displaystyle \\left\\{ y_{1} : \\operatorname{g_{1}}{\\left(x_{1},x_{2},x_{3} \\right)}, \\  y_{2} : \\operatorname{g_{2}}{\\left(x_{1},x_{2},x_{3} \\right)}, \\  y_{3} : \\operatorname{g_{3}}{\\left(x_{1},x_{2},x_{3} \\right)}, \\  y_{4} : \\operatorname{g_{4}}{\\left(x_{1},x_{2},x_{3} \\right)}\\right\\}$"
      ],
      "text/plain": [
       "{y₁: g₁(x₁, x₂, x₃), y₂: g₂(x₁, x₂, x₃), y₃: g₃(x₁, x₂, x₃), y₄: g₄(x₁, x₂, x₃\n",
       ")}"
      ]
     },
     "metadata": {},
     "output_type": "display_data"
    },
    {
     "data": {
      "text/latex": [
       "$\\displaystyle \\left\\{ f_{1} : \\operatorname{f_{1}}{\\left(\\operatorname{g_{1}}{\\left(x_{1},x_{2},x_{3} \\right)},\\operatorname{g_{2}}{\\left(x_{1},x_{2},x_{3} \\right)},\\operatorname{g_{3}}{\\left(x_{1},x_{2},x_{3} \\right)},\\operatorname{g_{4}}{\\left(x_{1},x_{2},x_{3} \\right)} \\right)}, \\  f_{2} : \\operatorname{f_{2}}{\\left(\\operatorname{g_{1}}{\\left(x_{1},x_{2},x_{3} \\right)},\\operatorname{g_{2}}{\\left(x_{1},x_{2},x_{3} \\right)},\\operatorname{g_{3}}{\\left(x_{1},x_{2},x_{3} \\right)},\\operatorname{g_{4}}{\\left(x_{1},x_{2},x_{3} \\right)} \\right)}, \\  f_{3} : \\operatorname{f_{3}}{\\left(\\operatorname{g_{1}}{\\left(x_{1},x_{2},x_{3} \\right)},\\operatorname{g_{2}}{\\left(x_{1},x_{2},x_{3} \\right)},\\operatorname{g_{3}}{\\left(x_{1},x_{2},x_{3} \\right)},\\operatorname{g_{4}}{\\left(x_{1},x_{2},x_{3} \\right)} \\right)}, \\  f_{4} : \\operatorname{f_{4}}{\\left(\\operatorname{g_{1}}{\\left(x_{1},x_{2},x_{3} \\right)},\\operatorname{g_{2}}{\\left(x_{1},x_{2},x_{3} \\right)},\\operatorname{g_{3}}{\\left(x_{1},x_{2},x_{3} \\right)},\\operatorname{g_{4}}{\\left(x_{1},x_{2},x_{3} \\right)} \\right)}, \\  f_{5} : \\operatorname{f_{5}}{\\left(\\operatorname{g_{1}}{\\left(x_{1},x_{2},x_{3} \\right)},\\operatorname{g_{2}}{\\left(x_{1},x_{2},x_{3} \\right)},\\operatorname{g_{3}}{\\left(x_{1},x_{2},x_{3} \\right)},\\operatorname{g_{4}}{\\left(x_{1},x_{2},x_{3} \\right)} \\right)}\\right\\}$"
      ],
      "text/plain": [
       "{f₁: f₁(g₁(x₁, x₂, x₃), g₂(x₁, x₂, x₃), g₃(x₁, x₂, x₃), g₄(x₁, x₂, x₃)), f₂: f\n",
       "₂(g₁(x₁, x₂, x₃), g₂(x₁, x₂, x₃), g₃(x₁, x₂, x₃), g₄(x₁, x₂, x₃)), f₃: f₃(g₁(x\n",
       "₁, x₂, x₃), g₂(x₁, x₂, x₃), g₃(x₁, x₂, x₃), g₄(x₁, x₂, x₃)), f₄: f₄(g₁(x₁, x₂,\n",
       " x₃), g₂(x₁, x₂, x₃), g₃(x₁, x₂, x₃), g₄(x₁, x₂, x₃)), f₅: f₅(g₁(x₁, x₂, x₃), \n",
       "g₂(x₁, x₂, x₃), g₃(x₁, x₂, x₃), g₄(x₁, x₂, x₃))}"
      ]
     },
     "metadata": {},
     "output_type": "display_data"
    },
    {
     "data": {
      "text/latex": [
       "$\\displaystyle \\left\\{ g_{1} : \\operatorname{g_{1}}{\\left(x_{1},x_{2},x_{3} \\right)}, \\  g_{2} : \\operatorname{g_{2}}{\\left(x_{1},x_{2},x_{3} \\right)}, \\  g_{3} : \\operatorname{g_{3}}{\\left(x_{1},x_{2},x_{3} \\right)}, \\  g_{4} : \\operatorname{g_{4}}{\\left(x_{1},x_{2},x_{3} \\right)}\\right\\}$"
      ],
      "text/plain": [
       "{g₁: g₁(x₁, x₂, x₃), g₂: g₂(x₁, x₂, x₃), g₃: g₃(x₁, x₂, x₃), g₄: g₄(x₁, x₂, x₃\n",
       ")}"
      ]
     },
     "metadata": {},
     "output_type": "display_data"
    }
   ],
   "source": [
    "ys = Matrix(k, 1, lambda i,_: var_i('y', i+1))\n",
    "fs = Matrix(m, 1, lambda i, _: var_i('f', i+1))\n",
    "gs = Matrix(k, 1, lambda i, _: var_i('g', i+1))\n",
    "\n",
    "mapYToGFunc = dict(zip(ys, gv))\n",
    "mapGFuncToY = dict(zip(gv, ys))\n",
    "\n",
    "zv = fv.subs(mapYToGFunc)\n",
    "\n",
    "mapFToFGFunc = dict(zip(fs, zv))\n",
    "mapFGFuncToF = dict(zip(zv, fs))\n",
    "\n",
    "mapGToGFunc = dict(zip(gs, gv))\n",
    "mapGFuncToG = dict(zip(gv, gs))\n",
    "\n",
    "showGroup([\n",
    "    mapYToGFunc, \n",
    "    mapFToFGFunc, \n",
    "    mapGToGFunc\n",
    "])\n",
    "\n",
    "assert zv.subs(mapFGFuncToF) == fs\n",
    "assert fv.subs(mapYToGFunc) == zv\n",
    "\n",
    "assert zv.shape == fv.shape == (m, 1)\n",
    "assert ys.shape == gv.shape == (k, 1)\n",
    "assert xv.shape == (n, 1)"
   ]
  },
  {
   "cell_type": "code",
   "execution_count": 21,
   "metadata": {
    "execution": {
     "iopub.execute_input": "2020-11-03T08:25:05.508945Z",
     "iopub.status.busy": "2020-11-03T08:25:05.507341Z",
     "iopub.status.idle": "2020-11-03T08:25:05.659301Z",
     "shell.execute_reply": "2020-11-03T08:25:05.660412Z"
    },
    "lines_to_next_cell": 2,
    "title": "codecell"
   },
   "outputs": [
    {
     "data": {
      "text/latex": [
       "$\\displaystyle \\left[\\begin{matrix}\\frac{\\partial}{\\partial x_{1}} \\operatorname{g_{1}}{\\left(x_{1},x_{2},x_{3} \\right)} & \\frac{\\partial}{\\partial x_{2}} \\operatorname{g_{1}}{\\left(x_{1},x_{2},x_{3} \\right)} & \\frac{\\partial}{\\partial x_{3}} \\operatorname{g_{1}}{\\left(x_{1},x_{2},x_{3} \\right)}\\\\\\frac{\\partial}{\\partial x_{1}} \\operatorname{g_{2}}{\\left(x_{1},x_{2},x_{3} \\right)} & \\frac{\\partial}{\\partial x_{2}} \\operatorname{g_{2}}{\\left(x_{1},x_{2},x_{3} \\right)} & \\frac{\\partial}{\\partial x_{3}} \\operatorname{g_{2}}{\\left(x_{1},x_{2},x_{3} \\right)}\\\\\\frac{\\partial}{\\partial x_{1}} \\operatorname{g_{3}}{\\left(x_{1},x_{2},x_{3} \\right)} & \\frac{\\partial}{\\partial x_{2}} \\operatorname{g_{3}}{\\left(x_{1},x_{2},x_{3} \\right)} & \\frac{\\partial}{\\partial x_{3}} \\operatorname{g_{3}}{\\left(x_{1},x_{2},x_{3} \\right)}\\\\\\frac{\\partial}{\\partial x_{1}} \\operatorname{g_{4}}{\\left(x_{1},x_{2},x_{3} \\right)} & \\frac{\\partial}{\\partial x_{2}} \\operatorname{g_{4}}{\\left(x_{1},x_{2},x_{3} \\right)} & \\frac{\\partial}{\\partial x_{3}} \\operatorname{g_{4}}{\\left(x_{1},x_{2},x_{3} \\right)}\\end{matrix}\\right]$"
      ],
      "text/plain": [
       "⎡ ∂                    ∂                    ∂                 ⎤\n",
       "⎢───(g₁(x₁, x₂, x₃))  ───(g₁(x₁, x₂, x₃))  ───(g₁(x₁, x₂, x₃))⎥\n",
       "⎢∂x₁                  ∂x₂                  ∂x₃                ⎥\n",
       "⎢                                                             ⎥\n",
       "⎢ ∂                    ∂                    ∂                 ⎥\n",
       "⎢───(g₂(x₁, x₂, x₃))  ───(g₂(x₁, x₂, x₃))  ───(g₂(x₁, x₂, x₃))⎥\n",
       "⎢∂x₁                  ∂x₂                  ∂x₃                ⎥\n",
       "⎢                                                             ⎥\n",
       "⎢ ∂                    ∂                    ∂                 ⎥\n",
       "⎢───(g₃(x₁, x₂, x₃))  ───(g₃(x₁, x₂, x₃))  ───(g₃(x₁, x₂, x₃))⎥\n",
       "⎢∂x₁                  ∂x₂                  ∂x₃                ⎥\n",
       "⎢                                                             ⎥\n",
       "⎢ ∂                    ∂                    ∂                 ⎥\n",
       "⎢───(g₄(x₁, x₂, x₃))  ───(g₄(x₁, x₂, x₃))  ───(g₄(x₁, x₂, x₃))⎥\n",
       "⎣∂x₁                  ∂x₂                  ∂x₃                ⎦"
      ]
     },
     "metadata": {},
     "output_type": "display_data"
    },
    {
     "data": {
      "text/latex": [
       "$\\displaystyle \\left[\\begin{matrix}\\frac{d}{d x_{1}} g_{1} & \\frac{d}{d x_{2}} g_{1} & \\frac{d}{d x_{3}} g_{1}\\\\\\frac{d}{d x_{1}} g_{2} & \\frac{d}{d x_{2}} g_{2} & \\frac{d}{d x_{3}} g_{2}\\\\\\frac{d}{d x_{1}} g_{3} & \\frac{d}{d x_{2}} g_{3} & \\frac{d}{d x_{3}} g_{3}\\\\\\frac{d}{d x_{1}} g_{4} & \\frac{d}{d x_{2}} g_{4} & \\frac{d}{d x_{3}} g_{4}\\end{matrix}\\right]$"
      ],
      "text/plain": [
       "⎡ d        d        d     ⎤\n",
       "⎢───(g₁)  ───(g₁)  ───(g₁)⎥\n",
       "⎢dx₁      dx₂      dx₃    ⎥\n",
       "⎢                         ⎥\n",
       "⎢ d        d        d     ⎥\n",
       "⎢───(g₂)  ───(g₂)  ───(g₂)⎥\n",
       "⎢dx₁      dx₂      dx₃    ⎥\n",
       "⎢                         ⎥\n",
       "⎢ d        d        d     ⎥\n",
       "⎢───(g₃)  ───(g₃)  ───(g₃)⎥\n",
       "⎢dx₁      dx₂      dx₃    ⎥\n",
       "⎢                         ⎥\n",
       "⎢ d        d        d     ⎥\n",
       "⎢───(g₄)  ───(g₄)  ───(g₄)⎥\n",
       "⎣dx₁      dx₂      dx₃    ⎦"
      ]
     },
     "metadata": {},
     "output_type": "display_data"
    },
    {
     "data": {
      "text/latex": [
       "$\\displaystyle \\left[\\begin{matrix}\\frac{d}{d x_{1}} y_{1} & \\frac{d}{d x_{2}} y_{1} & \\frac{d}{d x_{3}} y_{1}\\\\\\frac{d}{d x_{1}} y_{2} & \\frac{d}{d x_{2}} y_{2} & \\frac{d}{d x_{3}} y_{2}\\\\\\frac{d}{d x_{1}} y_{3} & \\frac{d}{d x_{2}} y_{3} & \\frac{d}{d x_{3}} y_{3}\\\\\\frac{d}{d x_{1}} y_{4} & \\frac{d}{d x_{2}} y_{4} & \\frac{d}{d x_{3}} y_{4}\\end{matrix}\\right]$"
      ],
      "text/plain": [
       "⎡ d        d        d     ⎤\n",
       "⎢───(y₁)  ───(y₁)  ───(y₁)⎥\n",
       "⎢dx₁      dx₂      dx₃    ⎥\n",
       "⎢                         ⎥\n",
       "⎢ d        d        d     ⎥\n",
       "⎢───(y₂)  ───(y₂)  ───(y₂)⎥\n",
       "⎢dx₁      dx₂      dx₃    ⎥\n",
       "⎢                         ⎥\n",
       "⎢ d        d        d     ⎥\n",
       "⎢───(y₃)  ───(y₃)  ───(y₃)⎥\n",
       "⎢dx₁      dx₂      dx₃    ⎥\n",
       "⎢                         ⎥\n",
       "⎢ d        d        d     ⎥\n",
       "⎢───(y₄)  ───(y₄)  ───(y₄)⎥\n",
       "⎣dx₁      dx₂      dx₃    ⎦"
      ]
     },
     "metadata": {},
     "output_type": "display_data"
    }
   ],
   "source": [
    "jacG = gv.jacobian(xv)\n",
    "\n",
    "showGroup([\n",
    "    jacG, \n",
    "    jacG.subs(mapGFuncToG),\n",
    "    jacG.subs(mapGFuncToY)\n",
    "])"
   ]
  },
  {
   "cell_type": "code",
   "execution_count": 22,
   "metadata": {
    "execution": {
     "iopub.execute_input": "2020-11-03T08:25:05.665258Z",
     "iopub.status.busy": "2020-11-03T08:25:05.663773Z",
     "iopub.status.idle": "2020-11-03T08:25:05.772895Z",
     "shell.execute_reply": "2020-11-03T08:25:05.773980Z"
    },
    "lines_to_next_cell": 0,
    "title": "codecell"
   },
   "outputs": [
    {
     "data": {
      "text/latex": [
       "$\\displaystyle \\left[\\begin{matrix}\\frac{\\partial}{\\partial y_{1}} \\operatorname{f_{1}}{\\left(y_{1},y_{2},y_{3},y_{4} \\right)} & \\frac{\\partial}{\\partial y_{2}} \\operatorname{f_{1}}{\\left(y_{1},y_{2},y_{3},y_{4} \\right)} & \\frac{\\partial}{\\partial y_{3}} \\operatorname{f_{1}}{\\left(y_{1},y_{2},y_{3},y_{4} \\right)} & \\frac{\\partial}{\\partial y_{4}} \\operatorname{f_{1}}{\\left(y_{1},y_{2},y_{3},y_{4} \\right)}\\\\\\frac{\\partial}{\\partial y_{1}} \\operatorname{f_{2}}{\\left(y_{1},y_{2},y_{3},y_{4} \\right)} & \\frac{\\partial}{\\partial y_{2}} \\operatorname{f_{2}}{\\left(y_{1},y_{2},y_{3},y_{4} \\right)} & \\frac{\\partial}{\\partial y_{3}} \\operatorname{f_{2}}{\\left(y_{1},y_{2},y_{3},y_{4} \\right)} & \\frac{\\partial}{\\partial y_{4}} \\operatorname{f_{2}}{\\left(y_{1},y_{2},y_{3},y_{4} \\right)}\\\\\\frac{\\partial}{\\partial y_{1}} \\operatorname{f_{3}}{\\left(y_{1},y_{2},y_{3},y_{4} \\right)} & \\frac{\\partial}{\\partial y_{2}} \\operatorname{f_{3}}{\\left(y_{1},y_{2},y_{3},y_{4} \\right)} & \\frac{\\partial}{\\partial y_{3}} \\operatorname{f_{3}}{\\left(y_{1},y_{2},y_{3},y_{4} \\right)} & \\frac{\\partial}{\\partial y_{4}} \\operatorname{f_{3}}{\\left(y_{1},y_{2},y_{3},y_{4} \\right)}\\\\\\frac{\\partial}{\\partial y_{1}} \\operatorname{f_{4}}{\\left(y_{1},y_{2},y_{3},y_{4} \\right)} & \\frac{\\partial}{\\partial y_{2}} \\operatorname{f_{4}}{\\left(y_{1},y_{2},y_{3},y_{4} \\right)} & \\frac{\\partial}{\\partial y_{3}} \\operatorname{f_{4}}{\\left(y_{1},y_{2},y_{3},y_{4} \\right)} & \\frac{\\partial}{\\partial y_{4}} \\operatorname{f_{4}}{\\left(y_{1},y_{2},y_{3},y_{4} \\right)}\\\\\\frac{\\partial}{\\partial y_{1}} \\operatorname{f_{5}}{\\left(y_{1},y_{2},y_{3},y_{4} \\right)} & \\frac{\\partial}{\\partial y_{2}} \\operatorname{f_{5}}{\\left(y_{1},y_{2},y_{3},y_{4} \\right)} & \\frac{\\partial}{\\partial y_{3}} \\operatorname{f_{5}}{\\left(y_{1},y_{2},y_{3},y_{4} \\right)} & \\frac{\\partial}{\\partial y_{4}} \\operatorname{f_{5}}{\\left(y_{1},y_{2},y_{3},y_{4} \\right)}\\end{matrix}\\right]$"
      ],
      "text/plain": [
       "⎡ ∂                        ∂                        ∂                        ∂\n",
       "⎢───(f₁(y₁, y₂, y₃, y₄))  ───(f₁(y₁, y₂, y₃, y₄))  ───(f₁(y₁, y₂, y₃, y₄))  ──\n",
       "⎢∂y₁                      ∂y₂                      ∂y₃                      ∂y\n",
       "⎢                                                                             \n",
       "⎢ ∂                        ∂                        ∂                        ∂\n",
       "⎢───(f₂(y₁, y₂, y₃, y₄))  ───(f₂(y₁, y₂, y₃, y₄))  ───(f₂(y₁, y₂, y₃, y₄))  ──\n",
       "⎢∂y₁                      ∂y₂                      ∂y₃                      ∂y\n",
       "⎢                                                                             \n",
       "⎢ ∂                        ∂                        ∂                        ∂\n",
       "⎢───(f₃(y₁, y₂, y₃, y₄))  ───(f₃(y₁, y₂, y₃, y₄))  ───(f₃(y₁, y₂, y₃, y₄))  ──\n",
       "⎢∂y₁                      ∂y₂                      ∂y₃                      ∂y\n",
       "⎢                                                                             \n",
       "⎢ ∂                        ∂                        ∂                        ∂\n",
       "⎢───(f₄(y₁, y₂, y₃, y₄))  ───(f₄(y₁, y₂, y₃, y₄))  ───(f₄(y₁, y₂, y₃, y₄))  ──\n",
       "⎢∂y₁                      ∂y₂                      ∂y₃                      ∂y\n",
       "⎢                                                                             \n",
       "⎢ ∂                        ∂                        ∂                        ∂\n",
       "⎢───(f₅(y₁, y₂, y₃, y₄))  ───(f₅(y₁, y₂, y₃, y₄))  ───(f₅(y₁, y₂, y₃, y₄))  ──\n",
       "⎣∂y₁                      ∂y₂                      ∂y₃                      ∂y\n",
       "\n",
       "                     ⎤\n",
       "─(f₁(y₁, y₂, y₃, y₄))⎥\n",
       "₄                    ⎥\n",
       "                     ⎥\n",
       "                     ⎥\n",
       "─(f₂(y₁, y₂, y₃, y₄))⎥\n",
       "₄                    ⎥\n",
       "                     ⎥\n",
       "                     ⎥\n",
       "─(f₃(y₁, y₂, y₃, y₄))⎥\n",
       "₄                    ⎥\n",
       "                     ⎥\n",
       "                     ⎥\n",
       "─(f₄(y₁, y₂, y₃, y₄))⎥\n",
       "₄                    ⎥\n",
       "                     ⎥\n",
       "                     ⎥\n",
       "─(f₅(y₁, y₂, y₃, y₄))⎥\n",
       "₄                    ⎦"
      ]
     },
     "execution_count": 1,
     "metadata": {},
     "output_type": "execute_result"
    }
   ],
   "source": [
    "jacFY = fv.jacobian(ys)\n",
    "jacFY"
   ]
  },
  {
   "cell_type": "code",
   "execution_count": 23,
   "metadata": {
    "execution": {
     "iopub.execute_input": "2020-11-03T08:25:05.785553Z",
     "iopub.status.busy": "2020-11-03T08:25:05.778406Z",
     "iopub.status.idle": "2020-11-03T08:25:06.106681Z",
     "shell.execute_reply": "2020-11-03T08:25:06.107792Z"
    }
   },
   "outputs": [
    {
     "data": {
      "text/latex": [
       "$\\displaystyle \\left[\\begin{matrix}\\frac{\\partial}{\\partial \\operatorname{g_{1}}{\\left(x_{1},x_{2},x_{3} \\right)}} \\operatorname{f_{1}}{\\left(\\operatorname{g_{1}}{\\left(x_{1},x_{2},x_{3} \\right)},\\operatorname{g_{2}}{\\left(x_{1},x_{2},x_{3} \\right)},\\operatorname{g_{3}}{\\left(x_{1},x_{2},x_{3} \\right)},\\operatorname{g_{4}}{\\left(x_{1},x_{2},x_{3} \\right)} \\right)} & \\frac{\\partial}{\\partial \\operatorname{g_{2}}{\\left(x_{1},x_{2},x_{3} \\right)}} \\operatorname{f_{1}}{\\left(\\operatorname{g_{1}}{\\left(x_{1},x_{2},x_{3} \\right)},\\operatorname{g_{2}}{\\left(x_{1},x_{2},x_{3} \\right)},\\operatorname{g_{3}}{\\left(x_{1},x_{2},x_{3} \\right)},\\operatorname{g_{4}}{\\left(x_{1},x_{2},x_{3} \\right)} \\right)} & \\frac{\\partial}{\\partial \\operatorname{g_{3}}{\\left(x_{1},x_{2},x_{3} \\right)}} \\operatorname{f_{1}}{\\left(\\operatorname{g_{1}}{\\left(x_{1},x_{2},x_{3} \\right)},\\operatorname{g_{2}}{\\left(x_{1},x_{2},x_{3} \\right)},\\operatorname{g_{3}}{\\left(x_{1},x_{2},x_{3} \\right)},\\operatorname{g_{4}}{\\left(x_{1},x_{2},x_{3} \\right)} \\right)} & \\frac{\\partial}{\\partial \\operatorname{g_{4}}{\\left(x_{1},x_{2},x_{3} \\right)}} \\operatorname{f_{1}}{\\left(\\operatorname{g_{1}}{\\left(x_{1},x_{2},x_{3} \\right)},\\operatorname{g_{2}}{\\left(x_{1},x_{2},x_{3} \\right)},\\operatorname{g_{3}}{\\left(x_{1},x_{2},x_{3} \\right)},\\operatorname{g_{4}}{\\left(x_{1},x_{2},x_{3} \\right)} \\right)}\\\\\\frac{\\partial}{\\partial \\operatorname{g_{1}}{\\left(x_{1},x_{2},x_{3} \\right)}} \\operatorname{f_{2}}{\\left(\\operatorname{g_{1}}{\\left(x_{1},x_{2},x_{3} \\right)},\\operatorname{g_{2}}{\\left(x_{1},x_{2},x_{3} \\right)},\\operatorname{g_{3}}{\\left(x_{1},x_{2},x_{3} \\right)},\\operatorname{g_{4}}{\\left(x_{1},x_{2},x_{3} \\right)} \\right)} & \\frac{\\partial}{\\partial \\operatorname{g_{2}}{\\left(x_{1},x_{2},x_{3} \\right)}} \\operatorname{f_{2}}{\\left(\\operatorname{g_{1}}{\\left(x_{1},x_{2},x_{3} \\right)},\\operatorname{g_{2}}{\\left(x_{1},x_{2},x_{3} \\right)},\\operatorname{g_{3}}{\\left(x_{1},x_{2},x_{3} \\right)},\\operatorname{g_{4}}{\\left(x_{1},x_{2},x_{3} \\right)} \\right)} & \\frac{\\partial}{\\partial \\operatorname{g_{3}}{\\left(x_{1},x_{2},x_{3} \\right)}} \\operatorname{f_{2}}{\\left(\\operatorname{g_{1}}{\\left(x_{1},x_{2},x_{3} \\right)},\\operatorname{g_{2}}{\\left(x_{1},x_{2},x_{3} \\right)},\\operatorname{g_{3}}{\\left(x_{1},x_{2},x_{3} \\right)},\\operatorname{g_{4}}{\\left(x_{1},x_{2},x_{3} \\right)} \\right)} & \\frac{\\partial}{\\partial \\operatorname{g_{4}}{\\left(x_{1},x_{2},x_{3} \\right)}} \\operatorname{f_{2}}{\\left(\\operatorname{g_{1}}{\\left(x_{1},x_{2},x_{3} \\right)},\\operatorname{g_{2}}{\\left(x_{1},x_{2},x_{3} \\right)},\\operatorname{g_{3}}{\\left(x_{1},x_{2},x_{3} \\right)},\\operatorname{g_{4}}{\\left(x_{1},x_{2},x_{3} \\right)} \\right)}\\\\\\frac{\\partial}{\\partial \\operatorname{g_{1}}{\\left(x_{1},x_{2},x_{3} \\right)}} \\operatorname{f_{3}}{\\left(\\operatorname{g_{1}}{\\left(x_{1},x_{2},x_{3} \\right)},\\operatorname{g_{2}}{\\left(x_{1},x_{2},x_{3} \\right)},\\operatorname{g_{3}}{\\left(x_{1},x_{2},x_{3} \\right)},\\operatorname{g_{4}}{\\left(x_{1},x_{2},x_{3} \\right)} \\right)} & \\frac{\\partial}{\\partial \\operatorname{g_{2}}{\\left(x_{1},x_{2},x_{3} \\right)}} \\operatorname{f_{3}}{\\left(\\operatorname{g_{1}}{\\left(x_{1},x_{2},x_{3} \\right)},\\operatorname{g_{2}}{\\left(x_{1},x_{2},x_{3} \\right)},\\operatorname{g_{3}}{\\left(x_{1},x_{2},x_{3} \\right)},\\operatorname{g_{4}}{\\left(x_{1},x_{2},x_{3} \\right)} \\right)} & \\frac{\\partial}{\\partial \\operatorname{g_{3}}{\\left(x_{1},x_{2},x_{3} \\right)}} \\operatorname{f_{3}}{\\left(\\operatorname{g_{1}}{\\left(x_{1},x_{2},x_{3} \\right)},\\operatorname{g_{2}}{\\left(x_{1},x_{2},x_{3} \\right)},\\operatorname{g_{3}}{\\left(x_{1},x_{2},x_{3} \\right)},\\operatorname{g_{4}}{\\left(x_{1},x_{2},x_{3} \\right)} \\right)} & \\frac{\\partial}{\\partial \\operatorname{g_{4}}{\\left(x_{1},x_{2},x_{3} \\right)}} \\operatorname{f_{3}}{\\left(\\operatorname{g_{1}}{\\left(x_{1},x_{2},x_{3} \\right)},\\operatorname{g_{2}}{\\left(x_{1},x_{2},x_{3} \\right)},\\operatorname{g_{3}}{\\left(x_{1},x_{2},x_{3} \\right)},\\operatorname{g_{4}}{\\left(x_{1},x_{2},x_{3} \\right)} \\right)}\\\\\\frac{\\partial}{\\partial \\operatorname{g_{1}}{\\left(x_{1},x_{2},x_{3} \\right)}} \\operatorname{f_{4}}{\\left(\\operatorname{g_{1}}{\\left(x_{1},x_{2},x_{3} \\right)},\\operatorname{g_{2}}{\\left(x_{1},x_{2},x_{3} \\right)},\\operatorname{g_{3}}{\\left(x_{1},x_{2},x_{3} \\right)},\\operatorname{g_{4}}{\\left(x_{1},x_{2},x_{3} \\right)} \\right)} & \\frac{\\partial}{\\partial \\operatorname{g_{2}}{\\left(x_{1},x_{2},x_{3} \\right)}} \\operatorname{f_{4}}{\\left(\\operatorname{g_{1}}{\\left(x_{1},x_{2},x_{3} \\right)},\\operatorname{g_{2}}{\\left(x_{1},x_{2},x_{3} \\right)},\\operatorname{g_{3}}{\\left(x_{1},x_{2},x_{3} \\right)},\\operatorname{g_{4}}{\\left(x_{1},x_{2},x_{3} \\right)} \\right)} & \\frac{\\partial}{\\partial \\operatorname{g_{3}}{\\left(x_{1},x_{2},x_{3} \\right)}} \\operatorname{f_{4}}{\\left(\\operatorname{g_{1}}{\\left(x_{1},x_{2},x_{3} \\right)},\\operatorname{g_{2}}{\\left(x_{1},x_{2},x_{3} \\right)},\\operatorname{g_{3}}{\\left(x_{1},x_{2},x_{3} \\right)},\\operatorname{g_{4}}{\\left(x_{1},x_{2},x_{3} \\right)} \\right)} & \\frac{\\partial}{\\partial \\operatorname{g_{4}}{\\left(x_{1},x_{2},x_{3} \\right)}} \\operatorname{f_{4}}{\\left(\\operatorname{g_{1}}{\\left(x_{1},x_{2},x_{3} \\right)},\\operatorname{g_{2}}{\\left(x_{1},x_{2},x_{3} \\right)},\\operatorname{g_{3}}{\\left(x_{1},x_{2},x_{3} \\right)},\\operatorname{g_{4}}{\\left(x_{1},x_{2},x_{3} \\right)} \\right)}\\\\\\frac{\\partial}{\\partial \\operatorname{g_{1}}{\\left(x_{1},x_{2},x_{3} \\right)}} \\operatorname{f_{5}}{\\left(\\operatorname{g_{1}}{\\left(x_{1},x_{2},x_{3} \\right)},\\operatorname{g_{2}}{\\left(x_{1},x_{2},x_{3} \\right)},\\operatorname{g_{3}}{\\left(x_{1},x_{2},x_{3} \\right)},\\operatorname{g_{4}}{\\left(x_{1},x_{2},x_{3} \\right)} \\right)} & \\frac{\\partial}{\\partial \\operatorname{g_{2}}{\\left(x_{1},x_{2},x_{3} \\right)}} \\operatorname{f_{5}}{\\left(\\operatorname{g_{1}}{\\left(x_{1},x_{2},x_{3} \\right)},\\operatorname{g_{2}}{\\left(x_{1},x_{2},x_{3} \\right)},\\operatorname{g_{3}}{\\left(x_{1},x_{2},x_{3} \\right)},\\operatorname{g_{4}}{\\left(x_{1},x_{2},x_{3} \\right)} \\right)} & \\frac{\\partial}{\\partial \\operatorname{g_{3}}{\\left(x_{1},x_{2},x_{3} \\right)}} \\operatorname{f_{5}}{\\left(\\operatorname{g_{1}}{\\left(x_{1},x_{2},x_{3} \\right)},\\operatorname{g_{2}}{\\left(x_{1},x_{2},x_{3} \\right)},\\operatorname{g_{3}}{\\left(x_{1},x_{2},x_{3} \\right)},\\operatorname{g_{4}}{\\left(x_{1},x_{2},x_{3} \\right)} \\right)} & \\frac{\\partial}{\\partial \\operatorname{g_{4}}{\\left(x_{1},x_{2},x_{3} \\right)}} \\operatorname{f_{5}}{\\left(\\operatorname{g_{1}}{\\left(x_{1},x_{2},x_{3} \\right)},\\operatorname{g_{2}}{\\left(x_{1},x_{2},x_{3} \\right)},\\operatorname{g_{3}}{\\left(x_{1},x_{2},x_{3} \\right)},\\operatorname{g_{4}}{\\left(x_{1},x_{2},x_{3} \\right)} \\right)}\\end{matrix}\\right]$"
      ],
      "text/plain": [
       "⎡       ∂                                                                     \n",
       "⎢───────────────(f₁(g₁(x₁, x₂, x₃), g₂(x₁, x₂, x₃), g₃(x₁, x₂, x₃), g₄(x₁, x₂,\n",
       "⎢∂g₁(x₁, x₂, x₃)                                                              \n",
       "⎢                                                                             \n",
       "⎢       ∂                                                                     \n",
       "⎢───────────────(f₂(g₁(x₁, x₂, x₃), g₂(x₁, x₂, x₃), g₃(x₁, x₂, x₃), g₄(x₁, x₂,\n",
       "⎢∂g₁(x₁, x₂, x₃)                                                              \n",
       "⎢                                                                             \n",
       "⎢       ∂                                                                     \n",
       "⎢───────────────(f₃(g₁(x₁, x₂, x₃), g₂(x₁, x₂, x₃), g₃(x₁, x₂, x₃), g₄(x₁, x₂,\n",
       "⎢∂g₁(x₁, x₂, x₃)                                                              \n",
       "⎢                                                                             \n",
       "⎢       ∂                                                                     \n",
       "⎢───────────────(f₄(g₁(x₁, x₂, x₃), g₂(x₁, x₂, x₃), g₃(x₁, x₂, x₃), g₄(x₁, x₂,\n",
       "⎢∂g₁(x₁, x₂, x₃)                                                              \n",
       "⎢                                                                             \n",
       "⎢       ∂                                                                     \n",
       "⎢───────────────(f₅(g₁(x₁, x₂, x₃), g₂(x₁, x₂, x₃), g₃(x₁, x₂, x₃), g₄(x₁, x₂,\n",
       "⎣∂g₁(x₁, x₂, x₃)                                                              \n",
       "\n",
       "               ∂                                                              \n",
       " x₃)))  ───────────────(f₁(g₁(x₁, x₂, x₃), g₂(x₁, x₂, x₃), g₃(x₁, x₂, x₃), g₄(\n",
       "        ∂g₂(x₁, x₂, x₃)                                                       \n",
       "                                                                              \n",
       "               ∂                                                              \n",
       " x₃)))  ───────────────(f₂(g₁(x₁, x₂, x₃), g₂(x₁, x₂, x₃), g₃(x₁, x₂, x₃), g₄(\n",
       "        ∂g₂(x₁, x₂, x₃)                                                       \n",
       "                                                                              \n",
       "               ∂                                                              \n",
       " x₃)))  ───────────────(f₃(g₁(x₁, x₂, x₃), g₂(x₁, x₂, x₃), g₃(x₁, x₂, x₃), g₄(\n",
       "        ∂g₂(x₁, x₂, x₃)                                                       \n",
       "                                                                              \n",
       "               ∂                                                              \n",
       " x₃)))  ───────────────(f₄(g₁(x₁, x₂, x₃), g₂(x₁, x₂, x₃), g₃(x₁, x₂, x₃), g₄(\n",
       "        ∂g₂(x₁, x₂, x₃)                                                       \n",
       "                                                                              \n",
       "               ∂                                                              \n",
       " x₃)))  ───────────────(f₅(g₁(x₁, x₂, x₃), g₂(x₁, x₂, x₃), g₃(x₁, x₂, x₃), g₄(\n",
       "        ∂g₂(x₁, x₂, x₃)                                                       \n",
       "\n",
       "                      ∂                                                       \n",
       "x₁, x₂, x₃)))  ───────────────(f₁(g₁(x₁, x₂, x₃), g₂(x₁, x₂, x₃), g₃(x₁, x₂, x\n",
       "               ∂g₃(x₁, x₂, x₃)                                                \n",
       "                                                                              \n",
       "                      ∂                                                       \n",
       "x₁, x₂, x₃)))  ───────────────(f₂(g₁(x₁, x₂, x₃), g₂(x₁, x₂, x₃), g₃(x₁, x₂, x\n",
       "               ∂g₃(x₁, x₂, x₃)                                                \n",
       "                                                                              \n",
       "                      ∂                                                       \n",
       "x₁, x₂, x₃)))  ───────────────(f₃(g₁(x₁, x₂, x₃), g₂(x₁, x₂, x₃), g₃(x₁, x₂, x\n",
       "               ∂g₃(x₁, x₂, x₃)                                                \n",
       "                                                                              \n",
       "                      ∂                                                       \n",
       "x₁, x₂, x₃)))  ───────────────(f₄(g₁(x₁, x₂, x₃), g₂(x₁, x₂, x₃), g₃(x₁, x₂, x\n",
       "               ∂g₃(x₁, x₂, x₃)                                                \n",
       "                                                                              \n",
       "                      ∂                                                       \n",
       "x₁, x₂, x₃)))  ───────────────(f₅(g₁(x₁, x₂, x₃), g₂(x₁, x₂, x₃), g₃(x₁, x₂, x\n",
       "               ∂g₃(x₁, x₂, x₃)                                                \n",
       "\n",
       "                             ∂                                                \n",
       "₃), g₄(x₁, x₂, x₃)))  ───────────────(f₁(g₁(x₁, x₂, x₃), g₂(x₁, x₂, x₃), g₃(x₁\n",
       "                      ∂g₄(x₁, x₂, x₃)                                         \n",
       "                                                                              \n",
       "                             ∂                                                \n",
       "₃), g₄(x₁, x₂, x₃)))  ───────────────(f₂(g₁(x₁, x₂, x₃), g₂(x₁, x₂, x₃), g₃(x₁\n",
       "                      ∂g₄(x₁, x₂, x₃)                                         \n",
       "                                                                              \n",
       "                             ∂                                                \n",
       "₃), g₄(x₁, x₂, x₃)))  ───────────────(f₃(g₁(x₁, x₂, x₃), g₂(x₁, x₂, x₃), g₃(x₁\n",
       "                      ∂g₄(x₁, x₂, x₃)                                         \n",
       "                                                                              \n",
       "                             ∂                                                \n",
       "₃), g₄(x₁, x₂, x₃)))  ───────────────(f₄(g₁(x₁, x₂, x₃), g₂(x₁, x₂, x₃), g₃(x₁\n",
       "                      ∂g₄(x₁, x₂, x₃)                                         \n",
       "                                                                              \n",
       "                             ∂                                                \n",
       "₃), g₄(x₁, x₂, x₃)))  ───────────────(f₅(g₁(x₁, x₂, x₃), g₂(x₁, x₂, x₃), g₃(x₁\n",
       "                      ∂g₄(x₁, x₂, x₃)                                         \n",
       "\n",
       "                           ⎤\n",
       ", x₂, x₃), g₄(x₁, x₂, x₃)))⎥\n",
       "                           ⎥\n",
       "                           ⎥\n",
       "                           ⎥\n",
       ", x₂, x₃), g₄(x₁, x₂, x₃)))⎥\n",
       "                           ⎥\n",
       "                           ⎥\n",
       "                           ⎥\n",
       ", x₂, x₃), g₄(x₁, x₂, x₃)))⎥\n",
       "                           ⎥\n",
       "                           ⎥\n",
       "                           ⎥\n",
       ", x₂, x₃), g₄(x₁, x₂, x₃)))⎥\n",
       "                           ⎥\n",
       "                           ⎥\n",
       "                           ⎥\n",
       ", x₂, x₃), g₄(x₁, x₂, x₃)))⎥\n",
       "                           ⎦"
      ]
     },
     "execution_count": 1,
     "metadata": {},
     "output_type": "execute_result"
    }
   ],
   "source": [
    "jacFG = fv.jacobian(ys).subs(mapYToGFunc)\n",
    "jacFG"
   ]
  },
  {
   "cell_type": "code",
   "execution_count": 24,
   "metadata": {
    "execution": {
     "iopub.execute_input": "2020-11-03T08:25:06.114056Z",
     "iopub.status.busy": "2020-11-03T08:25:06.111562Z",
     "iopub.status.idle": "2020-11-03T08:25:06.396146Z",
     "shell.execute_reply": "2020-11-03T08:25:06.397384Z"
    },
    "lines_to_next_cell": 0,
    "title": "codecell"
   },
   "outputs": [],
   "source": [
    "jacComposed = fv.subs(mapYToGFunc).jacobian(xv)"
   ]
  },
  {
   "cell_type": "code",
   "execution_count": 25,
   "metadata": {
    "execution": {
     "iopub.execute_input": "2020-11-03T08:25:06.405514Z",
     "iopub.status.busy": "2020-11-03T08:25:06.401354Z",
     "iopub.status.idle": "2020-11-03T08:25:07.375853Z",
     "shell.execute_reply": "2020-11-03T08:25:07.376686Z"
    }
   },
   "outputs": [
    {
     "data": {
      "text/latex": [
       "$\\displaystyle \\left[\\begin{matrix}\\frac{\\partial}{\\partial \\operatorname{g_{1}}{\\left(x_{1},x_{2},x_{3} \\right)}} \\operatorname{f_{1}}{\\left(\\operatorname{g_{1}}{\\left(x_{1},x_{2},x_{3} \\right)},\\operatorname{g_{2}}{\\left(x_{1},x_{2},x_{3} \\right)},\\operatorname{g_{3}}{\\left(x_{1},x_{2},x_{3} \\right)},\\operatorname{g_{4}}{\\left(x_{1},x_{2},x_{3} \\right)} \\right)} \\frac{\\partial}{\\partial x_{1}} \\operatorname{g_{1}}{\\left(x_{1},x_{2},x_{3} \\right)} + \\frac{\\partial}{\\partial \\operatorname{g_{2}}{\\left(x_{1},x_{2},x_{3} \\right)}} \\operatorname{f_{1}}{\\left(\\operatorname{g_{1}}{\\left(x_{1},x_{2},x_{3} \\right)},\\operatorname{g_{2}}{\\left(x_{1},x_{2},x_{3} \\right)},\\operatorname{g_{3}}{\\left(x_{1},x_{2},x_{3} \\right)},\\operatorname{g_{4}}{\\left(x_{1},x_{2},x_{3} \\right)} \\right)} \\frac{\\partial}{\\partial x_{1}} \\operatorname{g_{2}}{\\left(x_{1},x_{2},x_{3} \\right)} + \\frac{\\partial}{\\partial \\operatorname{g_{3}}{\\left(x_{1},x_{2},x_{3} \\right)}} \\operatorname{f_{1}}{\\left(\\operatorname{g_{1}}{\\left(x_{1},x_{2},x_{3} \\right)},\\operatorname{g_{2}}{\\left(x_{1},x_{2},x_{3} \\right)},\\operatorname{g_{3}}{\\left(x_{1},x_{2},x_{3} \\right)},\\operatorname{g_{4}}{\\left(x_{1},x_{2},x_{3} \\right)} \\right)} \\frac{\\partial}{\\partial x_{1}} \\operatorname{g_{3}}{\\left(x_{1},x_{2},x_{3} \\right)} + \\frac{\\partial}{\\partial \\operatorname{g_{4}}{\\left(x_{1},x_{2},x_{3} \\right)}} \\operatorname{f_{1}}{\\left(\\operatorname{g_{1}}{\\left(x_{1},x_{2},x_{3} \\right)},\\operatorname{g_{2}}{\\left(x_{1},x_{2},x_{3} \\right)},\\operatorname{g_{3}}{\\left(x_{1},x_{2},x_{3} \\right)},\\operatorname{g_{4}}{\\left(x_{1},x_{2},x_{3} \\right)} \\right)} \\frac{\\partial}{\\partial x_{1}} \\operatorname{g_{4}}{\\left(x_{1},x_{2},x_{3} \\right)} & \\frac{\\partial}{\\partial \\operatorname{g_{1}}{\\left(x_{1},x_{2},x_{3} \\right)}} \\operatorname{f_{1}}{\\left(\\operatorname{g_{1}}{\\left(x_{1},x_{2},x_{3} \\right)},\\operatorname{g_{2}}{\\left(x_{1},x_{2},x_{3} \\right)},\\operatorname{g_{3}}{\\left(x_{1},x_{2},x_{3} \\right)},\\operatorname{g_{4}}{\\left(x_{1},x_{2},x_{3} \\right)} \\right)} \\frac{\\partial}{\\partial x_{2}} \\operatorname{g_{1}}{\\left(x_{1},x_{2},x_{3} \\right)} + \\frac{\\partial}{\\partial \\operatorname{g_{2}}{\\left(x_{1},x_{2},x_{3} \\right)}} \\operatorname{f_{1}}{\\left(\\operatorname{g_{1}}{\\left(x_{1},x_{2},x_{3} \\right)},\\operatorname{g_{2}}{\\left(x_{1},x_{2},x_{3} \\right)},\\operatorname{g_{3}}{\\left(x_{1},x_{2},x_{3} \\right)},\\operatorname{g_{4}}{\\left(x_{1},x_{2},x_{3} \\right)} \\right)} \\frac{\\partial}{\\partial x_{2}} \\operatorname{g_{2}}{\\left(x_{1},x_{2},x_{3} \\right)} + \\frac{\\partial}{\\partial \\operatorname{g_{3}}{\\left(x_{1},x_{2},x_{3} \\right)}} \\operatorname{f_{1}}{\\left(\\operatorname{g_{1}}{\\left(x_{1},x_{2},x_{3} \\right)},\\operatorname{g_{2}}{\\left(x_{1},x_{2},x_{3} \\right)},\\operatorname{g_{3}}{\\left(x_{1},x_{2},x_{3} \\right)},\\operatorname{g_{4}}{\\left(x_{1},x_{2},x_{3} \\right)} \\right)} \\frac{\\partial}{\\partial x_{2}} \\operatorname{g_{3}}{\\left(x_{1},x_{2},x_{3} \\right)} + \\frac{\\partial}{\\partial \\operatorname{g_{4}}{\\left(x_{1},x_{2},x_{3} \\right)}} \\operatorname{f_{1}}{\\left(\\operatorname{g_{1}}{\\left(x_{1},x_{2},x_{3} \\right)},\\operatorname{g_{2}}{\\left(x_{1},x_{2},x_{3} \\right)},\\operatorname{g_{3}}{\\left(x_{1},x_{2},x_{3} \\right)},\\operatorname{g_{4}}{\\left(x_{1},x_{2},x_{3} \\right)} \\right)} \\frac{\\partial}{\\partial x_{2}} \\operatorname{g_{4}}{\\left(x_{1},x_{2},x_{3} \\right)} & \\frac{\\partial}{\\partial \\operatorname{g_{1}}{\\left(x_{1},x_{2},x_{3} \\right)}} \\operatorname{f_{1}}{\\left(\\operatorname{g_{1}}{\\left(x_{1},x_{2},x_{3} \\right)},\\operatorname{g_{2}}{\\left(x_{1},x_{2},x_{3} \\right)},\\operatorname{g_{3}}{\\left(x_{1},x_{2},x_{3} \\right)},\\operatorname{g_{4}}{\\left(x_{1},x_{2},x_{3} \\right)} \\right)} \\frac{\\partial}{\\partial x_{3}} \\operatorname{g_{1}}{\\left(x_{1},x_{2},x_{3} \\right)} + \\frac{\\partial}{\\partial \\operatorname{g_{2}}{\\left(x_{1},x_{2},x_{3} \\right)}} \\operatorname{f_{1}}{\\left(\\operatorname{g_{1}}{\\left(x_{1},x_{2},x_{3} \\right)},\\operatorname{g_{2}}{\\left(x_{1},x_{2},x_{3} \\right)},\\operatorname{g_{3}}{\\left(x_{1},x_{2},x_{3} \\right)},\\operatorname{g_{4}}{\\left(x_{1},x_{2},x_{3} \\right)} \\right)} \\frac{\\partial}{\\partial x_{3}} \\operatorname{g_{2}}{\\left(x_{1},x_{2},x_{3} \\right)} + \\frac{\\partial}{\\partial \\operatorname{g_{3}}{\\left(x_{1},x_{2},x_{3} \\right)}} \\operatorname{f_{1}}{\\left(\\operatorname{g_{1}}{\\left(x_{1},x_{2},x_{3} \\right)},\\operatorname{g_{2}}{\\left(x_{1},x_{2},x_{3} \\right)},\\operatorname{g_{3}}{\\left(x_{1},x_{2},x_{3} \\right)},\\operatorname{g_{4}}{\\left(x_{1},x_{2},x_{3} \\right)} \\right)} \\frac{\\partial}{\\partial x_{3}} \\operatorname{g_{3}}{\\left(x_{1},x_{2},x_{3} \\right)} + \\frac{\\partial}{\\partial \\operatorname{g_{4}}{\\left(x_{1},x_{2},x_{3} \\right)}} \\operatorname{f_{1}}{\\left(\\operatorname{g_{1}}{\\left(x_{1},x_{2},x_{3} \\right)},\\operatorname{g_{2}}{\\left(x_{1},x_{2},x_{3} \\right)},\\operatorname{g_{3}}{\\left(x_{1},x_{2},x_{3} \\right)},\\operatorname{g_{4}}{\\left(x_{1},x_{2},x_{3} \\right)} \\right)} \\frac{\\partial}{\\partial x_{3}} \\operatorname{g_{4}}{\\left(x_{1},x_{2},x_{3} \\right)}\\\\\\frac{\\partial}{\\partial \\operatorname{g_{1}}{\\left(x_{1},x_{2},x_{3} \\right)}} \\operatorname{f_{2}}{\\left(\\operatorname{g_{1}}{\\left(x_{1},x_{2},x_{3} \\right)},\\operatorname{g_{2}}{\\left(x_{1},x_{2},x_{3} \\right)},\\operatorname{g_{3}}{\\left(x_{1},x_{2},x_{3} \\right)},\\operatorname{g_{4}}{\\left(x_{1},x_{2},x_{3} \\right)} \\right)} \\frac{\\partial}{\\partial x_{1}} \\operatorname{g_{1}}{\\left(x_{1},x_{2},x_{3} \\right)} + \\frac{\\partial}{\\partial \\operatorname{g_{2}}{\\left(x_{1},x_{2},x_{3} \\right)}} \\operatorname{f_{2}}{\\left(\\operatorname{g_{1}}{\\left(x_{1},x_{2},x_{3} \\right)},\\operatorname{g_{2}}{\\left(x_{1},x_{2},x_{3} \\right)},\\operatorname{g_{3}}{\\left(x_{1},x_{2},x_{3} \\right)},\\operatorname{g_{4}}{\\left(x_{1},x_{2},x_{3} \\right)} \\right)} \\frac{\\partial}{\\partial x_{1}} \\operatorname{g_{2}}{\\left(x_{1},x_{2},x_{3} \\right)} + \\frac{\\partial}{\\partial \\operatorname{g_{3}}{\\left(x_{1},x_{2},x_{3} \\right)}} \\operatorname{f_{2}}{\\left(\\operatorname{g_{1}}{\\left(x_{1},x_{2},x_{3} \\right)},\\operatorname{g_{2}}{\\left(x_{1},x_{2},x_{3} \\right)},\\operatorname{g_{3}}{\\left(x_{1},x_{2},x_{3} \\right)},\\operatorname{g_{4}}{\\left(x_{1},x_{2},x_{3} \\right)} \\right)} \\frac{\\partial}{\\partial x_{1}} \\operatorname{g_{3}}{\\left(x_{1},x_{2},x_{3} \\right)} + \\frac{\\partial}{\\partial \\operatorname{g_{4}}{\\left(x_{1},x_{2},x_{3} \\right)}} \\operatorname{f_{2}}{\\left(\\operatorname{g_{1}}{\\left(x_{1},x_{2},x_{3} \\right)},\\operatorname{g_{2}}{\\left(x_{1},x_{2},x_{3} \\right)},\\operatorname{g_{3}}{\\left(x_{1},x_{2},x_{3} \\right)},\\operatorname{g_{4}}{\\left(x_{1},x_{2},x_{3} \\right)} \\right)} \\frac{\\partial}{\\partial x_{1}} \\operatorname{g_{4}}{\\left(x_{1},x_{2},x_{3} \\right)} & \\frac{\\partial}{\\partial \\operatorname{g_{1}}{\\left(x_{1},x_{2},x_{3} \\right)}} \\operatorname{f_{2}}{\\left(\\operatorname{g_{1}}{\\left(x_{1},x_{2},x_{3} \\right)},\\operatorname{g_{2}}{\\left(x_{1},x_{2},x_{3} \\right)},\\operatorname{g_{3}}{\\left(x_{1},x_{2},x_{3} \\right)},\\operatorname{g_{4}}{\\left(x_{1},x_{2},x_{3} \\right)} \\right)} \\frac{\\partial}{\\partial x_{2}} \\operatorname{g_{1}}{\\left(x_{1},x_{2},x_{3} \\right)} + \\frac{\\partial}{\\partial \\operatorname{g_{2}}{\\left(x_{1},x_{2},x_{3} \\right)}} \\operatorname{f_{2}}{\\left(\\operatorname{g_{1}}{\\left(x_{1},x_{2},x_{3} \\right)},\\operatorname{g_{2}}{\\left(x_{1},x_{2},x_{3} \\right)},\\operatorname{g_{3}}{\\left(x_{1},x_{2},x_{3} \\right)},\\operatorname{g_{4}}{\\left(x_{1},x_{2},x_{3} \\right)} \\right)} \\frac{\\partial}{\\partial x_{2}} \\operatorname{g_{2}}{\\left(x_{1},x_{2},x_{3} \\right)} + \\frac{\\partial}{\\partial \\operatorname{g_{3}}{\\left(x_{1},x_{2},x_{3} \\right)}} \\operatorname{f_{2}}{\\left(\\operatorname{g_{1}}{\\left(x_{1},x_{2},x_{3} \\right)},\\operatorname{g_{2}}{\\left(x_{1},x_{2},x_{3} \\right)},\\operatorname{g_{3}}{\\left(x_{1},x_{2},x_{3} \\right)},\\operatorname{g_{4}}{\\left(x_{1},x_{2},x_{3} \\right)} \\right)} \\frac{\\partial}{\\partial x_{2}} \\operatorname{g_{3}}{\\left(x_{1},x_{2},x_{3} \\right)} + \\frac{\\partial}{\\partial \\operatorname{g_{4}}{\\left(x_{1},x_{2},x_{3} \\right)}} \\operatorname{f_{2}}{\\left(\\operatorname{g_{1}}{\\left(x_{1},x_{2},x_{3} \\right)},\\operatorname{g_{2}}{\\left(x_{1},x_{2},x_{3} \\right)},\\operatorname{g_{3}}{\\left(x_{1},x_{2},x_{3} \\right)},\\operatorname{g_{4}}{\\left(x_{1},x_{2},x_{3} \\right)} \\right)} \\frac{\\partial}{\\partial x_{2}} \\operatorname{g_{4}}{\\left(x_{1},x_{2},x_{3} \\right)} & \\frac{\\partial}{\\partial \\operatorname{g_{1}}{\\left(x_{1},x_{2},x_{3} \\right)}} \\operatorname{f_{2}}{\\left(\\operatorname{g_{1}}{\\left(x_{1},x_{2},x_{3} \\right)},\\operatorname{g_{2}}{\\left(x_{1},x_{2},x_{3} \\right)},\\operatorname{g_{3}}{\\left(x_{1},x_{2},x_{3} \\right)},\\operatorname{g_{4}}{\\left(x_{1},x_{2},x_{3} \\right)} \\right)} \\frac{\\partial}{\\partial x_{3}} \\operatorname{g_{1}}{\\left(x_{1},x_{2},x_{3} \\right)} + \\frac{\\partial}{\\partial \\operatorname{g_{2}}{\\left(x_{1},x_{2},x_{3} \\right)}} \\operatorname{f_{2}}{\\left(\\operatorname{g_{1}}{\\left(x_{1},x_{2},x_{3} \\right)},\\operatorname{g_{2}}{\\left(x_{1},x_{2},x_{3} \\right)},\\operatorname{g_{3}}{\\left(x_{1},x_{2},x_{3} \\right)},\\operatorname{g_{4}}{\\left(x_{1},x_{2},x_{3} \\right)} \\right)} \\frac{\\partial}{\\partial x_{3}} \\operatorname{g_{2}}{\\left(x_{1},x_{2},x_{3} \\right)} + \\frac{\\partial}{\\partial \\operatorname{g_{3}}{\\left(x_{1},x_{2},x_{3} \\right)}} \\operatorname{f_{2}}{\\left(\\operatorname{g_{1}}{\\left(x_{1},x_{2},x_{3} \\right)},\\operatorname{g_{2}}{\\left(x_{1},x_{2},x_{3} \\right)},\\operatorname{g_{3}}{\\left(x_{1},x_{2},x_{3} \\right)},\\operatorname{g_{4}}{\\left(x_{1},x_{2},x_{3} \\right)} \\right)} \\frac{\\partial}{\\partial x_{3}} \\operatorname{g_{3}}{\\left(x_{1},x_{2},x_{3} \\right)} + \\frac{\\partial}{\\partial \\operatorname{g_{4}}{\\left(x_{1},x_{2},x_{3} \\right)}} \\operatorname{f_{2}}{\\left(\\operatorname{g_{1}}{\\left(x_{1},x_{2},x_{3} \\right)},\\operatorname{g_{2}}{\\left(x_{1},x_{2},x_{3} \\right)},\\operatorname{g_{3}}{\\left(x_{1},x_{2},x_{3} \\right)},\\operatorname{g_{4}}{\\left(x_{1},x_{2},x_{3} \\right)} \\right)} \\frac{\\partial}{\\partial x_{3}} \\operatorname{g_{4}}{\\left(x_{1},x_{2},x_{3} \\right)}\\\\\\frac{\\partial}{\\partial \\operatorname{g_{1}}{\\left(x_{1},x_{2},x_{3} \\right)}} \\operatorname{f_{3}}{\\left(\\operatorname{g_{1}}{\\left(x_{1},x_{2},x_{3} \\right)},\\operatorname{g_{2}}{\\left(x_{1},x_{2},x_{3} \\right)},\\operatorname{g_{3}}{\\left(x_{1},x_{2},x_{3} \\right)},\\operatorname{g_{4}}{\\left(x_{1},x_{2},x_{3} \\right)} \\right)} \\frac{\\partial}{\\partial x_{1}} \\operatorname{g_{1}}{\\left(x_{1},x_{2},x_{3} \\right)} + \\frac{\\partial}{\\partial \\operatorname{g_{2}}{\\left(x_{1},x_{2},x_{3} \\right)}} \\operatorname{f_{3}}{\\left(\\operatorname{g_{1}}{\\left(x_{1},x_{2},x_{3} \\right)},\\operatorname{g_{2}}{\\left(x_{1},x_{2},x_{3} \\right)},\\operatorname{g_{3}}{\\left(x_{1},x_{2},x_{3} \\right)},\\operatorname{g_{4}}{\\left(x_{1},x_{2},x_{3} \\right)} \\right)} \\frac{\\partial}{\\partial x_{1}} \\operatorname{g_{2}}{\\left(x_{1},x_{2},x_{3} \\right)} + \\frac{\\partial}{\\partial \\operatorname{g_{3}}{\\left(x_{1},x_{2},x_{3} \\right)}} \\operatorname{f_{3}}{\\left(\\operatorname{g_{1}}{\\left(x_{1},x_{2},x_{3} \\right)},\\operatorname{g_{2}}{\\left(x_{1},x_{2},x_{3} \\right)},\\operatorname{g_{3}}{\\left(x_{1},x_{2},x_{3} \\right)},\\operatorname{g_{4}}{\\left(x_{1},x_{2},x_{3} \\right)} \\right)} \\frac{\\partial}{\\partial x_{1}} \\operatorname{g_{3}}{\\left(x_{1},x_{2},x_{3} \\right)} + \\frac{\\partial}{\\partial \\operatorname{g_{4}}{\\left(x_{1},x_{2},x_{3} \\right)}} \\operatorname{f_{3}}{\\left(\\operatorname{g_{1}}{\\left(x_{1},x_{2},x_{3} \\right)},\\operatorname{g_{2}}{\\left(x_{1},x_{2},x_{3} \\right)},\\operatorname{g_{3}}{\\left(x_{1},x_{2},x_{3} \\right)},\\operatorname{g_{4}}{\\left(x_{1},x_{2},x_{3} \\right)} \\right)} \\frac{\\partial}{\\partial x_{1}} \\operatorname{g_{4}}{\\left(x_{1},x_{2},x_{3} \\right)} & \\frac{\\partial}{\\partial \\operatorname{g_{1}}{\\left(x_{1},x_{2},x_{3} \\right)}} \\operatorname{f_{3}}{\\left(\\operatorname{g_{1}}{\\left(x_{1},x_{2},x_{3} \\right)},\\operatorname{g_{2}}{\\left(x_{1},x_{2},x_{3} \\right)},\\operatorname{g_{3}}{\\left(x_{1},x_{2},x_{3} \\right)},\\operatorname{g_{4}}{\\left(x_{1},x_{2},x_{3} \\right)} \\right)} \\frac{\\partial}{\\partial x_{2}} \\operatorname{g_{1}}{\\left(x_{1},x_{2},x_{3} \\right)} + \\frac{\\partial}{\\partial \\operatorname{g_{2}}{\\left(x_{1},x_{2},x_{3} \\right)}} \\operatorname{f_{3}}{\\left(\\operatorname{g_{1}}{\\left(x_{1},x_{2},x_{3} \\right)},\\operatorname{g_{2}}{\\left(x_{1},x_{2},x_{3} \\right)},\\operatorname{g_{3}}{\\left(x_{1},x_{2},x_{3} \\right)},\\operatorname{g_{4}}{\\left(x_{1},x_{2},x_{3} \\right)} \\right)} \\frac{\\partial}{\\partial x_{2}} \\operatorname{g_{2}}{\\left(x_{1},x_{2},x_{3} \\right)} + \\frac{\\partial}{\\partial \\operatorname{g_{3}}{\\left(x_{1},x_{2},x_{3} \\right)}} \\operatorname{f_{3}}{\\left(\\operatorname{g_{1}}{\\left(x_{1},x_{2},x_{3} \\right)},\\operatorname{g_{2}}{\\left(x_{1},x_{2},x_{3} \\right)},\\operatorname{g_{3}}{\\left(x_{1},x_{2},x_{3} \\right)},\\operatorname{g_{4}}{\\left(x_{1},x_{2},x_{3} \\right)} \\right)} \\frac{\\partial}{\\partial x_{2}} \\operatorname{g_{3}}{\\left(x_{1},x_{2},x_{3} \\right)} + \\frac{\\partial}{\\partial \\operatorname{g_{4}}{\\left(x_{1},x_{2},x_{3} \\right)}} \\operatorname{f_{3}}{\\left(\\operatorname{g_{1}}{\\left(x_{1},x_{2},x_{3} \\right)},\\operatorname{g_{2}}{\\left(x_{1},x_{2},x_{3} \\right)},\\operatorname{g_{3}}{\\left(x_{1},x_{2},x_{3} \\right)},\\operatorname{g_{4}}{\\left(x_{1},x_{2},x_{3} \\right)} \\right)} \\frac{\\partial}{\\partial x_{2}} \\operatorname{g_{4}}{\\left(x_{1},x_{2},x_{3} \\right)} & \\frac{\\partial}{\\partial \\operatorname{g_{1}}{\\left(x_{1},x_{2},x_{3} \\right)}} \\operatorname{f_{3}}{\\left(\\operatorname{g_{1}}{\\left(x_{1},x_{2},x_{3} \\right)},\\operatorname{g_{2}}{\\left(x_{1},x_{2},x_{3} \\right)},\\operatorname{g_{3}}{\\left(x_{1},x_{2},x_{3} \\right)},\\operatorname{g_{4}}{\\left(x_{1},x_{2},x_{3} \\right)} \\right)} \\frac{\\partial}{\\partial x_{3}} \\operatorname{g_{1}}{\\left(x_{1},x_{2},x_{3} \\right)} + \\frac{\\partial}{\\partial \\operatorname{g_{2}}{\\left(x_{1},x_{2},x_{3} \\right)}} \\operatorname{f_{3}}{\\left(\\operatorname{g_{1}}{\\left(x_{1},x_{2},x_{3} \\right)},\\operatorname{g_{2}}{\\left(x_{1},x_{2},x_{3} \\right)},\\operatorname{g_{3}}{\\left(x_{1},x_{2},x_{3} \\right)},\\operatorname{g_{4}}{\\left(x_{1},x_{2},x_{3} \\right)} \\right)} \\frac{\\partial}{\\partial x_{3}} \\operatorname{g_{2}}{\\left(x_{1},x_{2},x_{3} \\right)} + \\frac{\\partial}{\\partial \\operatorname{g_{3}}{\\left(x_{1},x_{2},x_{3} \\right)}} \\operatorname{f_{3}}{\\left(\\operatorname{g_{1}}{\\left(x_{1},x_{2},x_{3} \\right)},\\operatorname{g_{2}}{\\left(x_{1},x_{2},x_{3} \\right)},\\operatorname{g_{3}}{\\left(x_{1},x_{2},x_{3} \\right)},\\operatorname{g_{4}}{\\left(x_{1},x_{2},x_{3} \\right)} \\right)} \\frac{\\partial}{\\partial x_{3}} \\operatorname{g_{3}}{\\left(x_{1},x_{2},x_{3} \\right)} + \\frac{\\partial}{\\partial \\operatorname{g_{4}}{\\left(x_{1},x_{2},x_{3} \\right)}} \\operatorname{f_{3}}{\\left(\\operatorname{g_{1}}{\\left(x_{1},x_{2},x_{3} \\right)},\\operatorname{g_{2}}{\\left(x_{1},x_{2},x_{3} \\right)},\\operatorname{g_{3}}{\\left(x_{1},x_{2},x_{3} \\right)},\\operatorname{g_{4}}{\\left(x_{1},x_{2},x_{3} \\right)} \\right)} \\frac{\\partial}{\\partial x_{3}} \\operatorname{g_{4}}{\\left(x_{1},x_{2},x_{3} \\right)}\\\\\\frac{\\partial}{\\partial \\operatorname{g_{1}}{\\left(x_{1},x_{2},x_{3} \\right)}} \\operatorname{f_{4}}{\\left(\\operatorname{g_{1}}{\\left(x_{1},x_{2},x_{3} \\right)},\\operatorname{g_{2}}{\\left(x_{1},x_{2},x_{3} \\right)},\\operatorname{g_{3}}{\\left(x_{1},x_{2},x_{3} \\right)},\\operatorname{g_{4}}{\\left(x_{1},x_{2},x_{3} \\right)} \\right)} \\frac{\\partial}{\\partial x_{1}} \\operatorname{g_{1}}{\\left(x_{1},x_{2},x_{3} \\right)} + \\frac{\\partial}{\\partial \\operatorname{g_{2}}{\\left(x_{1},x_{2},x_{3} \\right)}} \\operatorname{f_{4}}{\\left(\\operatorname{g_{1}}{\\left(x_{1},x_{2},x_{3} \\right)},\\operatorname{g_{2}}{\\left(x_{1},x_{2},x_{3} \\right)},\\operatorname{g_{3}}{\\left(x_{1},x_{2},x_{3} \\right)},\\operatorname{g_{4}}{\\left(x_{1},x_{2},x_{3} \\right)} \\right)} \\frac{\\partial}{\\partial x_{1}} \\operatorname{g_{2}}{\\left(x_{1},x_{2},x_{3} \\right)} + \\frac{\\partial}{\\partial \\operatorname{g_{3}}{\\left(x_{1},x_{2},x_{3} \\right)}} \\operatorname{f_{4}}{\\left(\\operatorname{g_{1}}{\\left(x_{1},x_{2},x_{3} \\right)},\\operatorname{g_{2}}{\\left(x_{1},x_{2},x_{3} \\right)},\\operatorname{g_{3}}{\\left(x_{1},x_{2},x_{3} \\right)},\\operatorname{g_{4}}{\\left(x_{1},x_{2},x_{3} \\right)} \\right)} \\frac{\\partial}{\\partial x_{1}} \\operatorname{g_{3}}{\\left(x_{1},x_{2},x_{3} \\right)} + \\frac{\\partial}{\\partial \\operatorname{g_{4}}{\\left(x_{1},x_{2},x_{3} \\right)}} \\operatorname{f_{4}}{\\left(\\operatorname{g_{1}}{\\left(x_{1},x_{2},x_{3} \\right)},\\operatorname{g_{2}}{\\left(x_{1},x_{2},x_{3} \\right)},\\operatorname{g_{3}}{\\left(x_{1},x_{2},x_{3} \\right)},\\operatorname{g_{4}}{\\left(x_{1},x_{2},x_{3} \\right)} \\right)} \\frac{\\partial}{\\partial x_{1}} \\operatorname{g_{4}}{\\left(x_{1},x_{2},x_{3} \\right)} & \\frac{\\partial}{\\partial \\operatorname{g_{1}}{\\left(x_{1},x_{2},x_{3} \\right)}} \\operatorname{f_{4}}{\\left(\\operatorname{g_{1}}{\\left(x_{1},x_{2},x_{3} \\right)},\\operatorname{g_{2}}{\\left(x_{1},x_{2},x_{3} \\right)},\\operatorname{g_{3}}{\\left(x_{1},x_{2},x_{3} \\right)},\\operatorname{g_{4}}{\\left(x_{1},x_{2},x_{3} \\right)} \\right)} \\frac{\\partial}{\\partial x_{2}} \\operatorname{g_{1}}{\\left(x_{1},x_{2},x_{3} \\right)} + \\frac{\\partial}{\\partial \\operatorname{g_{2}}{\\left(x_{1},x_{2},x_{3} \\right)}} \\operatorname{f_{4}}{\\left(\\operatorname{g_{1}}{\\left(x_{1},x_{2},x_{3} \\right)},\\operatorname{g_{2}}{\\left(x_{1},x_{2},x_{3} \\right)},\\operatorname{g_{3}}{\\left(x_{1},x_{2},x_{3} \\right)},\\operatorname{g_{4}}{\\left(x_{1},x_{2},x_{3} \\right)} \\right)} \\frac{\\partial}{\\partial x_{2}} \\operatorname{g_{2}}{\\left(x_{1},x_{2},x_{3} \\right)} + \\frac{\\partial}{\\partial \\operatorname{g_{3}}{\\left(x_{1},x_{2},x_{3} \\right)}} \\operatorname{f_{4}}{\\left(\\operatorname{g_{1}}{\\left(x_{1},x_{2},x_{3} \\right)},\\operatorname{g_{2}}{\\left(x_{1},x_{2},x_{3} \\right)},\\operatorname{g_{3}}{\\left(x_{1},x_{2},x_{3} \\right)},\\operatorname{g_{4}}{\\left(x_{1},x_{2},x_{3} \\right)} \\right)} \\frac{\\partial}{\\partial x_{2}} \\operatorname{g_{3}}{\\left(x_{1},x_{2},x_{3} \\right)} + \\frac{\\partial}{\\partial \\operatorname{g_{4}}{\\left(x_{1},x_{2},x_{3} \\right)}} \\operatorname{f_{4}}{\\left(\\operatorname{g_{1}}{\\left(x_{1},x_{2},x_{3} \\right)},\\operatorname{g_{2}}{\\left(x_{1},x_{2},x_{3} \\right)},\\operatorname{g_{3}}{\\left(x_{1},x_{2},x_{3} \\right)},\\operatorname{g_{4}}{\\left(x_{1},x_{2},x_{3} \\right)} \\right)} \\frac{\\partial}{\\partial x_{2}} \\operatorname{g_{4}}{\\left(x_{1},x_{2},x_{3} \\right)} & \\frac{\\partial}{\\partial \\operatorname{g_{1}}{\\left(x_{1},x_{2},x_{3} \\right)}} \\operatorname{f_{4}}{\\left(\\operatorname{g_{1}}{\\left(x_{1},x_{2},x_{3} \\right)},\\operatorname{g_{2}}{\\left(x_{1},x_{2},x_{3} \\right)},\\operatorname{g_{3}}{\\left(x_{1},x_{2},x_{3} \\right)},\\operatorname{g_{4}}{\\left(x_{1},x_{2},x_{3} \\right)} \\right)} \\frac{\\partial}{\\partial x_{3}} \\operatorname{g_{1}}{\\left(x_{1},x_{2},x_{3} \\right)} + \\frac{\\partial}{\\partial \\operatorname{g_{2}}{\\left(x_{1},x_{2},x_{3} \\right)}} \\operatorname{f_{4}}{\\left(\\operatorname{g_{1}}{\\left(x_{1},x_{2},x_{3} \\right)},\\operatorname{g_{2}}{\\left(x_{1},x_{2},x_{3} \\right)},\\operatorname{g_{3}}{\\left(x_{1},x_{2},x_{3} \\right)},\\operatorname{g_{4}}{\\left(x_{1},x_{2},x_{3} \\right)} \\right)} \\frac{\\partial}{\\partial x_{3}} \\operatorname{g_{2}}{\\left(x_{1},x_{2},x_{3} \\right)} + \\frac{\\partial}{\\partial \\operatorname{g_{3}}{\\left(x_{1},x_{2},x_{3} \\right)}} \\operatorname{f_{4}}{\\left(\\operatorname{g_{1}}{\\left(x_{1},x_{2},x_{3} \\right)},\\operatorname{g_{2}}{\\left(x_{1},x_{2},x_{3} \\right)},\\operatorname{g_{3}}{\\left(x_{1},x_{2},x_{3} \\right)},\\operatorname{g_{4}}{\\left(x_{1},x_{2},x_{3} \\right)} \\right)} \\frac{\\partial}{\\partial x_{3}} \\operatorname{g_{3}}{\\left(x_{1},x_{2},x_{3} \\right)} + \\frac{\\partial}{\\partial \\operatorname{g_{4}}{\\left(x_{1},x_{2},x_{3} \\right)}} \\operatorname{f_{4}}{\\left(\\operatorname{g_{1}}{\\left(x_{1},x_{2},x_{3} \\right)},\\operatorname{g_{2}}{\\left(x_{1},x_{2},x_{3} \\right)},\\operatorname{g_{3}}{\\left(x_{1},x_{2},x_{3} \\right)},\\operatorname{g_{4}}{\\left(x_{1},x_{2},x_{3} \\right)} \\right)} \\frac{\\partial}{\\partial x_{3}} \\operatorname{g_{4}}{\\left(x_{1},x_{2},x_{3} \\right)}\\\\\\frac{\\partial}{\\partial \\operatorname{g_{1}}{\\left(x_{1},x_{2},x_{3} \\right)}} \\operatorname{f_{5}}{\\left(\\operatorname{g_{1}}{\\left(x_{1},x_{2},x_{3} \\right)},\\operatorname{g_{2}}{\\left(x_{1},x_{2},x_{3} \\right)},\\operatorname{g_{3}}{\\left(x_{1},x_{2},x_{3} \\right)},\\operatorname{g_{4}}{\\left(x_{1},x_{2},x_{3} \\right)} \\right)} \\frac{\\partial}{\\partial x_{1}} \\operatorname{g_{1}}{\\left(x_{1},x_{2},x_{3} \\right)} + \\frac{\\partial}{\\partial \\operatorname{g_{2}}{\\left(x_{1},x_{2},x_{3} \\right)}} \\operatorname{f_{5}}{\\left(\\operatorname{g_{1}}{\\left(x_{1},x_{2},x_{3} \\right)},\\operatorname{g_{2}}{\\left(x_{1},x_{2},x_{3} \\right)},\\operatorname{g_{3}}{\\left(x_{1},x_{2},x_{3} \\right)},\\operatorname{g_{4}}{\\left(x_{1},x_{2},x_{3} \\right)} \\right)} \\frac{\\partial}{\\partial x_{1}} \\operatorname{g_{2}}{\\left(x_{1},x_{2},x_{3} \\right)} + \\frac{\\partial}{\\partial \\operatorname{g_{3}}{\\left(x_{1},x_{2},x_{3} \\right)}} \\operatorname{f_{5}}{\\left(\\operatorname{g_{1}}{\\left(x_{1},x_{2},x_{3} \\right)},\\operatorname{g_{2}}{\\left(x_{1},x_{2},x_{3} \\right)},\\operatorname{g_{3}}{\\left(x_{1},x_{2},x_{3} \\right)},\\operatorname{g_{4}}{\\left(x_{1},x_{2},x_{3} \\right)} \\right)} \\frac{\\partial}{\\partial x_{1}} \\operatorname{g_{3}}{\\left(x_{1},x_{2},x_{3} \\right)} + \\frac{\\partial}{\\partial \\operatorname{g_{4}}{\\left(x_{1},x_{2},x_{3} \\right)}} \\operatorname{f_{5}}{\\left(\\operatorname{g_{1}}{\\left(x_{1},x_{2},x_{3} \\right)},\\operatorname{g_{2}}{\\left(x_{1},x_{2},x_{3} \\right)},\\operatorname{g_{3}}{\\left(x_{1},x_{2},x_{3} \\right)},\\operatorname{g_{4}}{\\left(x_{1},x_{2},x_{3} \\right)} \\right)} \\frac{\\partial}{\\partial x_{1}} \\operatorname{g_{4}}{\\left(x_{1},x_{2},x_{3} \\right)} & \\frac{\\partial}{\\partial \\operatorname{g_{1}}{\\left(x_{1},x_{2},x_{3} \\right)}} \\operatorname{f_{5}}{\\left(\\operatorname{g_{1}}{\\left(x_{1},x_{2},x_{3} \\right)},\\operatorname{g_{2}}{\\left(x_{1},x_{2},x_{3} \\right)},\\operatorname{g_{3}}{\\left(x_{1},x_{2},x_{3} \\right)},\\operatorname{g_{4}}{\\left(x_{1},x_{2},x_{3} \\right)} \\right)} \\frac{\\partial}{\\partial x_{2}} \\operatorname{g_{1}}{\\left(x_{1},x_{2},x_{3} \\right)} + \\frac{\\partial}{\\partial \\operatorname{g_{2}}{\\left(x_{1},x_{2},x_{3} \\right)}} \\operatorname{f_{5}}{\\left(\\operatorname{g_{1}}{\\left(x_{1},x_{2},x_{3} \\right)},\\operatorname{g_{2}}{\\left(x_{1},x_{2},x_{3} \\right)},\\operatorname{g_{3}}{\\left(x_{1},x_{2},x_{3} \\right)},\\operatorname{g_{4}}{\\left(x_{1},x_{2},x_{3} \\right)} \\right)} \\frac{\\partial}{\\partial x_{2}} \\operatorname{g_{2}}{\\left(x_{1},x_{2},x_{3} \\right)} + \\frac{\\partial}{\\partial \\operatorname{g_{3}}{\\left(x_{1},x_{2},x_{3} \\right)}} \\operatorname{f_{5}}{\\left(\\operatorname{g_{1}}{\\left(x_{1},x_{2},x_{3} \\right)},\\operatorname{g_{2}}{\\left(x_{1},x_{2},x_{3} \\right)},\\operatorname{g_{3}}{\\left(x_{1},x_{2},x_{3} \\right)},\\operatorname{g_{4}}{\\left(x_{1},x_{2},x_{3} \\right)} \\right)} \\frac{\\partial}{\\partial x_{2}} \\operatorname{g_{3}}{\\left(x_{1},x_{2},x_{3} \\right)} + \\frac{\\partial}{\\partial \\operatorname{g_{4}}{\\left(x_{1},x_{2},x_{3} \\right)}} \\operatorname{f_{5}}{\\left(\\operatorname{g_{1}}{\\left(x_{1},x_{2},x_{3} \\right)},\\operatorname{g_{2}}{\\left(x_{1},x_{2},x_{3} \\right)},\\operatorname{g_{3}}{\\left(x_{1},x_{2},x_{3} \\right)},\\operatorname{g_{4}}{\\left(x_{1},x_{2},x_{3} \\right)} \\right)} \\frac{\\partial}{\\partial x_{2}} \\operatorname{g_{4}}{\\left(x_{1},x_{2},x_{3} \\right)} & \\frac{\\partial}{\\partial \\operatorname{g_{1}}{\\left(x_{1},x_{2},x_{3} \\right)}} \\operatorname{f_{5}}{\\left(\\operatorname{g_{1}}{\\left(x_{1},x_{2},x_{3} \\right)},\\operatorname{g_{2}}{\\left(x_{1},x_{2},x_{3} \\right)},\\operatorname{g_{3}}{\\left(x_{1},x_{2},x_{3} \\right)},\\operatorname{g_{4}}{\\left(x_{1},x_{2},x_{3} \\right)} \\right)} \\frac{\\partial}{\\partial x_{3}} \\operatorname{g_{1}}{\\left(x_{1},x_{2},x_{3} \\right)} + \\frac{\\partial}{\\partial \\operatorname{g_{2}}{\\left(x_{1},x_{2},x_{3} \\right)}} \\operatorname{f_{5}}{\\left(\\operatorname{g_{1}}{\\left(x_{1},x_{2},x_{3} \\right)},\\operatorname{g_{2}}{\\left(x_{1},x_{2},x_{3} \\right)},\\operatorname{g_{3}}{\\left(x_{1},x_{2},x_{3} \\right)},\\operatorname{g_{4}}{\\left(x_{1},x_{2},x_{3} \\right)} \\right)} \\frac{\\partial}{\\partial x_{3}} \\operatorname{g_{2}}{\\left(x_{1},x_{2},x_{3} \\right)} + \\frac{\\partial}{\\partial \\operatorname{g_{3}}{\\left(x_{1},x_{2},x_{3} \\right)}} \\operatorname{f_{5}}{\\left(\\operatorname{g_{1}}{\\left(x_{1},x_{2},x_{3} \\right)},\\operatorname{g_{2}}{\\left(x_{1},x_{2},x_{3} \\right)},\\operatorname{g_{3}}{\\left(x_{1},x_{2},x_{3} \\right)},\\operatorname{g_{4}}{\\left(x_{1},x_{2},x_{3} \\right)} \\right)} \\frac{\\partial}{\\partial x_{3}} \\operatorname{g_{3}}{\\left(x_{1},x_{2},x_{3} \\right)} + \\frac{\\partial}{\\partial \\operatorname{g_{4}}{\\left(x_{1},x_{2},x_{3} \\right)}} \\operatorname{f_{5}}{\\left(\\operatorname{g_{1}}{\\left(x_{1},x_{2},x_{3} \\right)},\\operatorname{g_{2}}{\\left(x_{1},x_{2},x_{3} \\right)},\\operatorname{g_{3}}{\\left(x_{1},x_{2},x_{3} \\right)},\\operatorname{g_{4}}{\\left(x_{1},x_{2},x_{3} \\right)} \\right)} \\frac{\\partial}{\\partial x_{3}} \\operatorname{g_{4}}{\\left(x_{1},x_{2},x_{3} \\right)}\\end{matrix}\\right]$"
      ],
      "text/plain": [
       "⎡       ∂                                                                     \n",
       "⎢───────────────(f₁(g₁(x₁, x₂, x₃), g₂(x₁, x₂, x₃), g₃(x₁, x₂, x₃), g₄(x₁, x₂,\n",
       "⎢∂g₁(x₁, x₂, x₃)                                                              \n",
       "⎢                                                                             \n",
       "⎢       ∂                                                                     \n",
       "⎢───────────────(f₂(g₁(x₁, x₂, x₃), g₂(x₁, x₂, x₃), g₃(x₁, x₂, x₃), g₄(x₁, x₂,\n",
       "⎢∂g₁(x₁, x₂, x₃)                                                              \n",
       "⎢                                                                             \n",
       "⎢       ∂                                                                     \n",
       "⎢───────────────(f₃(g₁(x₁, x₂, x₃), g₂(x₁, x₂, x₃), g₃(x₁, x₂, x₃), g₄(x₁, x₂,\n",
       "⎢∂g₁(x₁, x₂, x₃)                                                              \n",
       "⎢                                                                             \n",
       "⎢       ∂                                                                     \n",
       "⎢───────────────(f₄(g₁(x₁, x₂, x₃), g₂(x₁, x₂, x₃), g₃(x₁, x₂, x₃), g₄(x₁, x₂,\n",
       "⎢∂g₁(x₁, x₂, x₃)                                                              \n",
       "⎢                                                                             \n",
       "⎢       ∂                                                                     \n",
       "⎢───────────────(f₅(g₁(x₁, x₂, x₃), g₂(x₁, x₂, x₃), g₃(x₁, x₂, x₃), g₄(x₁, x₂,\n",
       "⎣∂g₁(x₁, x₂, x₃)                                                              \n",
       "\n",
       "        ∂                           ∂                                         \n",
       " x₃)))⋅───(g₁(x₁, x₂, x₃)) + ───────────────(f₁(g₁(x₁, x₂, x₃), g₂(x₁, x₂, x₃)\n",
       "       ∂x₁                   ∂g₂(x₁, x₂, x₃)                                  \n",
       "                                                                              \n",
       "        ∂                           ∂                                         \n",
       " x₃)))⋅───(g₁(x₁, x₂, x₃)) + ───────────────(f₂(g₁(x₁, x₂, x₃), g₂(x₁, x₂, x₃)\n",
       "       ∂x₁                   ∂g₂(x₁, x₂, x₃)                                  \n",
       "                                                                              \n",
       "        ∂                           ∂                                         \n",
       " x₃)))⋅───(g₁(x₁, x₂, x₃)) + ───────────────(f₃(g₁(x₁, x₂, x₃), g₂(x₁, x₂, x₃)\n",
       "       ∂x₁                   ∂g₂(x₁, x₂, x₃)                                  \n",
       "                                                                              \n",
       "        ∂                           ∂                                         \n",
       " x₃)))⋅───(g₁(x₁, x₂, x₃)) + ───────────────(f₄(g₁(x₁, x₂, x₃), g₂(x₁, x₂, x₃)\n",
       "       ∂x₁                   ∂g₂(x₁, x₂, x₃)                                  \n",
       "                                                                              \n",
       "        ∂                           ∂                                         \n",
       " x₃)))⋅───(g₁(x₁, x₂, x₃)) + ───────────────(f₅(g₁(x₁, x₂, x₃), g₂(x₁, x₂, x₃)\n",
       "       ∂x₁                   ∂g₂(x₁, x₂, x₃)                                  \n",
       "\n",
       "                                    ∂                           ∂             \n",
       ", g₃(x₁, x₂, x₃), g₄(x₁, x₂, x₃)))⋅───(g₂(x₁, x₂, x₃)) + ───────────────(f₁(g₁\n",
       "                                   ∂x₁                   ∂g₃(x₁, x₂, x₃)      \n",
       "                                                                              \n",
       "                                    ∂                           ∂             \n",
       ", g₃(x₁, x₂, x₃), g₄(x₁, x₂, x₃)))⋅───(g₂(x₁, x₂, x₃)) + ───────────────(f₂(g₁\n",
       "                                   ∂x₁                   ∂g₃(x₁, x₂, x₃)      \n",
       "                                                                              \n",
       "                                    ∂                           ∂             \n",
       ", g₃(x₁, x₂, x₃), g₄(x₁, x₂, x₃)))⋅───(g₂(x₁, x₂, x₃)) + ───────────────(f₃(g₁\n",
       "                                   ∂x₁                   ∂g₃(x₁, x₂, x₃)      \n",
       "                                                                              \n",
       "                                    ∂                           ∂             \n",
       ", g₃(x₁, x₂, x₃), g₄(x₁, x₂, x₃)))⋅───(g₂(x₁, x₂, x₃)) + ───────────────(f₄(g₁\n",
       "                                   ∂x₁                   ∂g₃(x₁, x₂, x₃)      \n",
       "                                                                              \n",
       "                                    ∂                           ∂             \n",
       ", g₃(x₁, x₂, x₃), g₄(x₁, x₂, x₃)))⋅───(g₂(x₁, x₂, x₃)) + ───────────────(f₅(g₁\n",
       "                                   ∂x₁                   ∂g₃(x₁, x₂, x₃)      \n",
       "\n",
       "                                                                ∂             \n",
       "(x₁, x₂, x₃), g₂(x₁, x₂, x₃), g₃(x₁, x₂, x₃), g₄(x₁, x₂, x₃)))⋅───(g₃(x₁, x₂, \n",
       "                                                               ∂x₁            \n",
       "                                                                              \n",
       "                                                                ∂             \n",
       "(x₁, x₂, x₃), g₂(x₁, x₂, x₃), g₃(x₁, x₂, x₃), g₄(x₁, x₂, x₃)))⋅───(g₃(x₁, x₂, \n",
       "                                                               ∂x₁            \n",
       "                                                                              \n",
       "                                                                ∂             \n",
       "(x₁, x₂, x₃), g₂(x₁, x₂, x₃), g₃(x₁, x₂, x₃), g₄(x₁, x₂, x₃)))⋅───(g₃(x₁, x₂, \n",
       "                                                               ∂x₁            \n",
       "                                                                              \n",
       "                                                                ∂             \n",
       "(x₁, x₂, x₃), g₂(x₁, x₂, x₃), g₃(x₁, x₂, x₃), g₄(x₁, x₂, x₃)))⋅───(g₃(x₁, x₂, \n",
       "                                                               ∂x₁            \n",
       "                                                                              \n",
       "                                                                ∂             \n",
       "(x₁, x₂, x₃), g₂(x₁, x₂, x₃), g₃(x₁, x₂, x₃), g₄(x₁, x₂, x₃)))⋅───(g₃(x₁, x₂, \n",
       "                                                               ∂x₁            \n",
       "\n",
       "              ∂                                                               \n",
       "x₃)) + ───────────────(f₁(g₁(x₁, x₂, x₃), g₂(x₁, x₂, x₃), g₃(x₁, x₂, x₃), g₄(x\n",
       "       ∂g₄(x₁, x₂, x₃)                                                        \n",
       "                                                                              \n",
       "              ∂                                                               \n",
       "x₃)) + ───────────────(f₂(g₁(x₁, x₂, x₃), g₂(x₁, x₂, x₃), g₃(x₁, x₂, x₃), g₄(x\n",
       "       ∂g₄(x₁, x₂, x₃)                                                        \n",
       "                                                                              \n",
       "              ∂                                                               \n",
       "x₃)) + ───────────────(f₃(g₁(x₁, x₂, x₃), g₂(x₁, x₂, x₃), g₃(x₁, x₂, x₃), g₄(x\n",
       "       ∂g₄(x₁, x₂, x₃)                                                        \n",
       "                                                                              \n",
       "              ∂                                                               \n",
       "x₃)) + ───────────────(f₄(g₁(x₁, x₂, x₃), g₂(x₁, x₂, x₃), g₃(x₁, x₂, x₃), g₄(x\n",
       "       ∂g₄(x₁, x₂, x₃)                                                        \n",
       "                                                                              \n",
       "              ∂                                                               \n",
       "x₃)) + ───────────────(f₅(g₁(x₁, x₂, x₃), g₂(x₁, x₂, x₃), g₃(x₁, x₂, x₃), g₄(x\n",
       "       ∂g₄(x₁, x₂, x₃)                                                        \n",
       "\n",
       "              ∂                          ∂                                    \n",
       "₁, x₂, x₃)))⋅───(g₄(x₁, x₂, x₃))  ───────────────(f₁(g₁(x₁, x₂, x₃), g₂(x₁, x₂\n",
       "             ∂x₁                  ∂g₁(x₁, x₂, x₃)                             \n",
       "                                                                              \n",
       "              ∂                          ∂                                    \n",
       "₁, x₂, x₃)))⋅───(g₄(x₁, x₂, x₃))  ───────────────(f₂(g₁(x₁, x₂, x₃), g₂(x₁, x₂\n",
       "             ∂x₁                  ∂g₁(x₁, x₂, x₃)                             \n",
       "                                                                              \n",
       "              ∂                          ∂                                    \n",
       "₁, x₂, x₃)))⋅───(g₄(x₁, x₂, x₃))  ───────────────(f₃(g₁(x₁, x₂, x₃), g₂(x₁, x₂\n",
       "             ∂x₁                  ∂g₁(x₁, x₂, x₃)                             \n",
       "                                                                              \n",
       "              ∂                          ∂                                    \n",
       "₁, x₂, x₃)))⋅───(g₄(x₁, x₂, x₃))  ───────────────(f₄(g₁(x₁, x₂, x₃), g₂(x₁, x₂\n",
       "             ∂x₁                  ∂g₁(x₁, x₂, x₃)                             \n",
       "                                                                              \n",
       "              ∂                          ∂                                    \n",
       "₁, x₂, x₃)))⋅───(g₄(x₁, x₂, x₃))  ───────────────(f₅(g₁(x₁, x₂, x₃), g₂(x₁, x₂\n",
       "             ∂x₁                  ∂g₁(x₁, x₂, x₃)                             \n",
       "\n",
       "                                         ∂                           ∂        \n",
       ", x₃), g₃(x₁, x₂, x₃), g₄(x₁, x₂, x₃)))⋅───(g₁(x₁, x₂, x₃)) + ───────────────(\n",
       "                                        ∂x₂                   ∂g₂(x₁, x₂, x₃) \n",
       "                                                                              \n",
       "                                         ∂                           ∂        \n",
       ", x₃), g₃(x₁, x₂, x₃), g₄(x₁, x₂, x₃)))⋅───(g₁(x₁, x₂, x₃)) + ───────────────(\n",
       "                                        ∂x₂                   ∂g₂(x₁, x₂, x₃) \n",
       "                                                                              \n",
       "                                         ∂                           ∂        \n",
       ", x₃), g₃(x₁, x₂, x₃), g₄(x₁, x₂, x₃)))⋅───(g₁(x₁, x₂, x₃)) + ───────────────(\n",
       "                                        ∂x₂                   ∂g₂(x₁, x₂, x₃) \n",
       "                                                                              \n",
       "                                         ∂                           ∂        \n",
       ", x₃), g₃(x₁, x₂, x₃), g₄(x₁, x₂, x₃)))⋅───(g₁(x₁, x₂, x₃)) + ───────────────(\n",
       "                                        ∂x₂                   ∂g₂(x₁, x₂, x₃) \n",
       "                                                                              \n",
       "                                         ∂                           ∂        \n",
       ", x₃), g₃(x₁, x₂, x₃), g₄(x₁, x₂, x₃)))⋅───(g₁(x₁, x₂, x₃)) + ───────────────(\n",
       "                                        ∂x₂                   ∂g₂(x₁, x₂, x₃) \n",
       "\n",
       "                                                                     ∂        \n",
       "f₁(g₁(x₁, x₂, x₃), g₂(x₁, x₂, x₃), g₃(x₁, x₂, x₃), g₄(x₁, x₂, x₃)))⋅───(g₂(x₁,\n",
       "                                                                    ∂x₂       \n",
       "                                                                              \n",
       "                                                                     ∂        \n",
       "f₂(g₁(x₁, x₂, x₃), g₂(x₁, x₂, x₃), g₃(x₁, x₂, x₃), g₄(x₁, x₂, x₃)))⋅───(g₂(x₁,\n",
       "                                                                    ∂x₂       \n",
       "                                                                              \n",
       "                                                                     ∂        \n",
       "f₃(g₁(x₁, x₂, x₃), g₂(x₁, x₂, x₃), g₃(x₁, x₂, x₃), g₄(x₁, x₂, x₃)))⋅───(g₂(x₁,\n",
       "                                                                    ∂x₂       \n",
       "                                                                              \n",
       "                                                                     ∂        \n",
       "f₄(g₁(x₁, x₂, x₃), g₂(x₁, x₂, x₃), g₃(x₁, x₂, x₃), g₄(x₁, x₂, x₃)))⋅───(g₂(x₁,\n",
       "                                                                    ∂x₂       \n",
       "                                                                              \n",
       "                                                                     ∂        \n",
       "f₅(g₁(x₁, x₂, x₃), g₂(x₁, x₂, x₃), g₃(x₁, x₂, x₃), g₄(x₁, x₂, x₃)))⋅───(g₂(x₁,\n",
       "                                                                    ∂x₂       \n",
       "\n",
       "                   ∂                                                          \n",
       " x₂, x₃)) + ───────────────(f₁(g₁(x₁, x₂, x₃), g₂(x₁, x₂, x₃), g₃(x₁, x₂, x₃),\n",
       "            ∂g₃(x₁, x₂, x₃)                                                   \n",
       "                                                                              \n",
       "                   ∂                                                          \n",
       " x₂, x₃)) + ───────────────(f₂(g₁(x₁, x₂, x₃), g₂(x₁, x₂, x₃), g₃(x₁, x₂, x₃),\n",
       "            ∂g₃(x₁, x₂, x₃)                                                   \n",
       "                                                                              \n",
       "                   ∂                                                          \n",
       " x₂, x₃)) + ───────────────(f₃(g₁(x₁, x₂, x₃), g₂(x₁, x₂, x₃), g₃(x₁, x₂, x₃),\n",
       "            ∂g₃(x₁, x₂, x₃)                                                   \n",
       "                                                                              \n",
       "                   ∂                                                          \n",
       " x₂, x₃)) + ───────────────(f₄(g₁(x₁, x₂, x₃), g₂(x₁, x₂, x₃), g₃(x₁, x₂, x₃),\n",
       "            ∂g₃(x₁, x₂, x₃)                                                   \n",
       "                                                                              \n",
       "                   ∂                                                          \n",
       " x₂, x₃)) + ───────────────(f₅(g₁(x₁, x₂, x₃), g₂(x₁, x₂, x₃), g₃(x₁, x₂, x₃),\n",
       "            ∂g₃(x₁, x₂, x₃)                                                   \n",
       "\n",
       "                   ∂                           ∂                              \n",
       " g₄(x₁, x₂, x₃)))⋅───(g₃(x₁, x₂, x₃)) + ───────────────(f₁(g₁(x₁, x₂, x₃), g₂(\n",
       "                  ∂x₂                   ∂g₄(x₁, x₂, x₃)                       \n",
       "                                                                              \n",
       "                   ∂                           ∂                              \n",
       " g₄(x₁, x₂, x₃)))⋅───(g₃(x₁, x₂, x₃)) + ───────────────(f₂(g₁(x₁, x₂, x₃), g₂(\n",
       "                  ∂x₂                   ∂g₄(x₁, x₂, x₃)                       \n",
       "                                                                              \n",
       "                   ∂                           ∂                              \n",
       " g₄(x₁, x₂, x₃)))⋅───(g₃(x₁, x₂, x₃)) + ───────────────(f₃(g₁(x₁, x₂, x₃), g₂(\n",
       "                  ∂x₂                   ∂g₄(x₁, x₂, x₃)                       \n",
       "                                                                              \n",
       "                   ∂                           ∂                              \n",
       " g₄(x₁, x₂, x₃)))⋅───(g₃(x₁, x₂, x₃)) + ───────────────(f₄(g₁(x₁, x₂, x₃), g₂(\n",
       "                  ∂x₂                   ∂g₄(x₁, x₂, x₃)                       \n",
       "                                                                              \n",
       "                   ∂                           ∂                              \n",
       " g₄(x₁, x₂, x₃)))⋅───(g₃(x₁, x₂, x₃)) + ───────────────(f₅(g₁(x₁, x₂, x₃), g₂(\n",
       "                  ∂x₂                   ∂g₄(x₁, x₂, x₃)                       \n",
       "\n",
       "                                               ∂                          ∂   \n",
       "x₁, x₂, x₃), g₃(x₁, x₂, x₃), g₄(x₁, x₂, x₃)))⋅───(g₄(x₁, x₂, x₃))  ───────────\n",
       "                                              ∂x₂                  ∂g₁(x₁, x₂,\n",
       "                                                                              \n",
       "                                               ∂                          ∂   \n",
       "x₁, x₂, x₃), g₃(x₁, x₂, x₃), g₄(x₁, x₂, x₃)))⋅───(g₄(x₁, x₂, x₃))  ───────────\n",
       "                                              ∂x₂                  ∂g₁(x₁, x₂,\n",
       "                                                                              \n",
       "                                               ∂                          ∂   \n",
       "x₁, x₂, x₃), g₃(x₁, x₂, x₃), g₄(x₁, x₂, x₃)))⋅───(g₄(x₁, x₂, x₃))  ───────────\n",
       "                                              ∂x₂                  ∂g₁(x₁, x₂,\n",
       "                                                                              \n",
       "                                               ∂                          ∂   \n",
       "x₁, x₂, x₃), g₃(x₁, x₂, x₃), g₄(x₁, x₂, x₃)))⋅───(g₄(x₁, x₂, x₃))  ───────────\n",
       "                                              ∂x₂                  ∂g₁(x₁, x₂,\n",
       "                                                                              \n",
       "                                               ∂                          ∂   \n",
       "x₁, x₂, x₃), g₃(x₁, x₂, x₃), g₄(x₁, x₂, x₃)))⋅───(g₄(x₁, x₂, x₃))  ───────────\n",
       "                                              ∂x₂                  ∂g₁(x₁, x₂,\n",
       "\n",
       "                                                                          ∂   \n",
       "────(f₁(g₁(x₁, x₂, x₃), g₂(x₁, x₂, x₃), g₃(x₁, x₂, x₃), g₄(x₁, x₂, x₃)))⋅───(g\n",
       " x₃)                                                                     ∂x₃  \n",
       "                                                                              \n",
       "                                                                          ∂   \n",
       "────(f₂(g₁(x₁, x₂, x₃), g₂(x₁, x₂, x₃), g₃(x₁, x₂, x₃), g₄(x₁, x₂, x₃)))⋅───(g\n",
       " x₃)                                                                     ∂x₃  \n",
       "                                                                              \n",
       "                                                                          ∂   \n",
       "────(f₃(g₁(x₁, x₂, x₃), g₂(x₁, x₂, x₃), g₃(x₁, x₂, x₃), g₄(x₁, x₂, x₃)))⋅───(g\n",
       " x₃)                                                                     ∂x₃  \n",
       "                                                                              \n",
       "                                                                          ∂   \n",
       "────(f₄(g₁(x₁, x₂, x₃), g₂(x₁, x₂, x₃), g₃(x₁, x₂, x₃), g₄(x₁, x₂, x₃)))⋅───(g\n",
       " x₃)                                                                     ∂x₃  \n",
       "                                                                              \n",
       "                                                                          ∂   \n",
       "────(f₅(g₁(x₁, x₂, x₃), g₂(x₁, x₂, x₃), g₃(x₁, x₂, x₃), g₄(x₁, x₂, x₃)))⋅───(g\n",
       " x₃)                                                                     ∂x₃  \n",
       "\n",
       "                        ∂                                                     \n",
       "₁(x₁, x₂, x₃)) + ───────────────(f₁(g₁(x₁, x₂, x₃), g₂(x₁, x₂, x₃), g₃(x₁, x₂,\n",
       "                 ∂g₂(x₁, x₂, x₃)                                              \n",
       "                                                                              \n",
       "                        ∂                                                     \n",
       "₁(x₁, x₂, x₃)) + ───────────────(f₂(g₁(x₁, x₂, x₃), g₂(x₁, x₂, x₃), g₃(x₁, x₂,\n",
       "                 ∂g₂(x₁, x₂, x₃)                                              \n",
       "                                                                              \n",
       "                        ∂                                                     \n",
       "₁(x₁, x₂, x₃)) + ───────────────(f₃(g₁(x₁, x₂, x₃), g₂(x₁, x₂, x₃), g₃(x₁, x₂,\n",
       "                 ∂g₂(x₁, x₂, x₃)                                              \n",
       "                                                                              \n",
       "                        ∂                                                     \n",
       "₁(x₁, x₂, x₃)) + ───────────────(f₄(g₁(x₁, x₂, x₃), g₂(x₁, x₂, x₃), g₃(x₁, x₂,\n",
       "                 ∂g₂(x₁, x₂, x₃)                                              \n",
       "                                                                              \n",
       "                        ∂                                                     \n",
       "₁(x₁, x₂, x₃)) + ───────────────(f₅(g₁(x₁, x₂, x₃), g₂(x₁, x₂, x₃), g₃(x₁, x₂,\n",
       "                 ∂g₂(x₁, x₂, x₃)                                              \n",
       "\n",
       "                        ∂                           ∂                         \n",
       " x₃), g₄(x₁, x₂, x₃)))⋅───(g₂(x₁, x₂, x₃)) + ───────────────(f₁(g₁(x₁, x₂, x₃)\n",
       "                       ∂x₃                   ∂g₃(x₁, x₂, x₃)                  \n",
       "                                                                              \n",
       "                        ∂                           ∂                         \n",
       " x₃), g₄(x₁, x₂, x₃)))⋅───(g₂(x₁, x₂, x₃)) + ───────────────(f₂(g₁(x₁, x₂, x₃)\n",
       "                       ∂x₃                   ∂g₃(x₁, x₂, x₃)                  \n",
       "                                                                              \n",
       "                        ∂                           ∂                         \n",
       " x₃), g₄(x₁, x₂, x₃)))⋅───(g₂(x₁, x₂, x₃)) + ───────────────(f₃(g₁(x₁, x₂, x₃)\n",
       "                       ∂x₃                   ∂g₃(x₁, x₂, x₃)                  \n",
       "                                                                              \n",
       "                        ∂                           ∂                         \n",
       " x₃), g₄(x₁, x₂, x₃)))⋅───(g₂(x₁, x₂, x₃)) + ───────────────(f₄(g₁(x₁, x₂, x₃)\n",
       "                       ∂x₃                   ∂g₃(x₁, x₂, x₃)                  \n",
       "                                                                              \n",
       "                        ∂                           ∂                         \n",
       " x₃), g₄(x₁, x₂, x₃)))⋅───(g₂(x₁, x₂, x₃)) + ───────────────(f₅(g₁(x₁, x₂, x₃)\n",
       "                       ∂x₃                   ∂g₃(x₁, x₂, x₃)                  \n",
       "\n",
       "                                                    ∂                         \n",
       ", g₂(x₁, x₂, x₃), g₃(x₁, x₂, x₃), g₄(x₁, x₂, x₃)))⋅───(g₃(x₁, x₂, x₃)) + ─────\n",
       "                                                   ∂x₃                   ∂g₄(x\n",
       "                                                                              \n",
       "                                                    ∂                         \n",
       ", g₂(x₁, x₂, x₃), g₃(x₁, x₂, x₃), g₄(x₁, x₂, x₃)))⋅───(g₃(x₁, x₂, x₃)) + ─────\n",
       "                                                   ∂x₃                   ∂g₄(x\n",
       "                                                                              \n",
       "                                                    ∂                         \n",
       ", g₂(x₁, x₂, x₃), g₃(x₁, x₂, x₃), g₄(x₁, x₂, x₃)))⋅───(g₃(x₁, x₂, x₃)) + ─────\n",
       "                                                   ∂x₃                   ∂g₄(x\n",
       "                                                                              \n",
       "                                                    ∂                         \n",
       ", g₂(x₁, x₂, x₃), g₃(x₁, x₂, x₃), g₄(x₁, x₂, x₃)))⋅───(g₃(x₁, x₂, x₃)) + ─────\n",
       "                                                   ∂x₃                   ∂g₄(x\n",
       "                                                                              \n",
       "                                                    ∂                         \n",
       ", g₂(x₁, x₂, x₃), g₃(x₁, x₂, x₃), g₄(x₁, x₂, x₃)))⋅───(g₃(x₁, x₂, x₃)) + ─────\n",
       "                                                   ∂x₃                   ∂g₄(x\n",
       "\n",
       "  ∂                                                                           \n",
       "──────────(f₁(g₁(x₁, x₂, x₃), g₂(x₁, x₂, x₃), g₃(x₁, x₂, x₃), g₄(x₁, x₂, x₃)))\n",
       "₁, x₂, x₃)                                                                    \n",
       "                                                                              \n",
       "  ∂                                                                           \n",
       "──────────(f₂(g₁(x₁, x₂, x₃), g₂(x₁, x₂, x₃), g₃(x₁, x₂, x₃), g₄(x₁, x₂, x₃)))\n",
       "₁, x₂, x₃)                                                                    \n",
       "                                                                              \n",
       "  ∂                                                                           \n",
       "──────────(f₃(g₁(x₁, x₂, x₃), g₂(x₁, x₂, x₃), g₃(x₁, x₂, x₃), g₄(x₁, x₂, x₃)))\n",
       "₁, x₂, x₃)                                                                    \n",
       "                                                                              \n",
       "  ∂                                                                           \n",
       "──────────(f₄(g₁(x₁, x₂, x₃), g₂(x₁, x₂, x₃), g₃(x₁, x₂, x₃), g₄(x₁, x₂, x₃)))\n",
       "₁, x₂, x₃)                                                                    \n",
       "                                                                              \n",
       "  ∂                                                                           \n",
       "──────────(f₅(g₁(x₁, x₂, x₃), g₂(x₁, x₂, x₃), g₃(x₁, x₂, x₃), g₄(x₁, x₂, x₃)))\n",
       "₁, x₂, x₃)                                                                    \n",
       "\n",
       "  ∂                 ⎤\n",
       "⋅───(g₄(x₁, x₂, x₃))⎥\n",
       " ∂x₃                ⎥\n",
       "                    ⎥\n",
       "  ∂                 ⎥\n",
       "⋅───(g₄(x₁, x₂, x₃))⎥\n",
       " ∂x₃                ⎥\n",
       "                    ⎥\n",
       "  ∂                 ⎥\n",
       "⋅───(g₄(x₁, x₂, x₃))⎥\n",
       " ∂x₃                ⎥\n",
       "                    ⎥\n",
       "  ∂                 ⎥\n",
       "⋅───(g₄(x₁, x₂, x₃))⎥\n",
       " ∂x₃                ⎥\n",
       "                    ⎥\n",
       "  ∂                 ⎥\n",
       "⋅───(g₄(x₁, x₂, x₃))⎥\n",
       " ∂x₃                ⎦"
      ]
     },
     "execution_count": 1,
     "metadata": {},
     "output_type": "execute_result"
    }
   ],
   "source": [
    "jacComposed"
   ]
  },
  {
   "cell_type": "code",
   "execution_count": 26,
   "metadata": {
    "execution": {
     "iopub.execute_input": "2020-11-03T08:25:07.382476Z",
     "iopub.status.busy": "2020-11-03T08:25:07.381562Z",
     "iopub.status.idle": "2020-11-03T08:25:08.532181Z",
     "shell.execute_reply": "2020-11-03T08:25:08.533326Z"
    },
    "title": "codecell"
   },
   "outputs": [
    {
     "data": {
      "text/latex": [
       "$\\displaystyle \\left[\\begin{matrix}\\frac{d}{d g_{1}} f_{1} & \\frac{d}{d g_{2}} f_{1} & \\frac{d}{d g_{3}} f_{1} & \\frac{d}{d g_{4}} f_{1}\\\\\\frac{d}{d g_{1}} f_{2} & \\frac{d}{d g_{2}} f_{2} & \\frac{d}{d g_{3}} f_{2} & \\frac{d}{d g_{4}} f_{2}\\\\\\frac{d}{d g_{1}} f_{3} & \\frac{d}{d g_{2}} f_{3} & \\frac{d}{d g_{3}} f_{3} & \\frac{d}{d g_{4}} f_{3}\\\\\\frac{d}{d g_{1}} f_{4} & \\frac{d}{d g_{2}} f_{4} & \\frac{d}{d g_{3}} f_{4} & \\frac{d}{d g_{4}} f_{4}\\\\\\frac{d}{d g_{1}} f_{5} & \\frac{d}{d g_{2}} f_{5} & \\frac{d}{d g_{3}} f_{5} & \\frac{d}{d g_{4}} f_{5}\\end{matrix}\\right]$"
      ],
      "text/plain": [
       "⎡ d        d        d        d     ⎤\n",
       "⎢───(f₁)  ───(f₁)  ───(f₁)  ───(f₁)⎥\n",
       "⎢dg₁      dg₂      dg₃      dg₄    ⎥\n",
       "⎢                                  ⎥\n",
       "⎢ d        d        d        d     ⎥\n",
       "⎢───(f₂)  ───(f₂)  ───(f₂)  ───(f₂)⎥\n",
       "⎢dg₁      dg₂      dg₃      dg₄    ⎥\n",
       "⎢                                  ⎥\n",
       "⎢ d        d        d        d     ⎥\n",
       "⎢───(f₃)  ───(f₃)  ───(f₃)  ───(f₃)⎥\n",
       "⎢dg₁      dg₂      dg₃      dg₄    ⎥\n",
       "⎢                                  ⎥\n",
       "⎢ d        d        d        d     ⎥\n",
       "⎢───(f₄)  ───(f₄)  ───(f₄)  ───(f₄)⎥\n",
       "⎢dg₁      dg₂      dg₃      dg₄    ⎥\n",
       "⎢                                  ⎥\n",
       "⎢ d        d        d        d     ⎥\n",
       "⎢───(f₅)  ───(f₅)  ───(f₅)  ───(f₅)⎥\n",
       "⎣dg₁      dg₂      dg₃      dg₄    ⎦"
      ]
     },
     "metadata": {},
     "output_type": "display_data"
    },
    {
     "data": {
      "text/latex": [
       "$\\displaystyle \\left[\\begin{matrix}\\frac{d}{d x_{1}} g_{1} & \\frac{d}{d x_{2}} g_{1} & \\frac{d}{d x_{3}} g_{1}\\\\\\frac{d}{d x_{1}} g_{2} & \\frac{d}{d x_{2}} g_{2} & \\frac{d}{d x_{3}} g_{2}\\\\\\frac{d}{d x_{1}} g_{3} & \\frac{d}{d x_{2}} g_{3} & \\frac{d}{d x_{3}} g_{3}\\\\\\frac{d}{d x_{1}} g_{4} & \\frac{d}{d x_{2}} g_{4} & \\frac{d}{d x_{3}} g_{4}\\end{matrix}\\right]$"
      ],
      "text/plain": [
       "⎡ d        d        d     ⎤\n",
       "⎢───(g₁)  ───(g₁)  ───(g₁)⎥\n",
       "⎢dx₁      dx₂      dx₃    ⎥\n",
       "⎢                         ⎥\n",
       "⎢ d        d        d     ⎥\n",
       "⎢───(g₂)  ───(g₂)  ───(g₂)⎥\n",
       "⎢dx₁      dx₂      dx₃    ⎥\n",
       "⎢                         ⎥\n",
       "⎢ d        d        d     ⎥\n",
       "⎢───(g₃)  ───(g₃)  ───(g₃)⎥\n",
       "⎢dx₁      dx₂      dx₃    ⎥\n",
       "⎢                         ⎥\n",
       "⎢ d        d        d     ⎥\n",
       "⎢───(g₄)  ───(g₄)  ───(g₄)⎥\n",
       "⎣dx₁      dx₂      dx₃    ⎦"
      ]
     },
     "metadata": {},
     "output_type": "display_data"
    },
    {
     "data": {
      "text/latex": [
       "$\\displaystyle \\left[\\begin{matrix}\\frac{d}{d g_{1}} f_{1} \\frac{d}{d x_{1}} g_{1} + \\frac{d}{d g_{2}} f_{1} \\frac{d}{d x_{1}} g_{2} + \\frac{d}{d g_{3}} f_{1} \\frac{d}{d x_{1}} g_{3} + \\frac{d}{d g_{4}} f_{1} \\frac{d}{d x_{1}} g_{4} & \\frac{d}{d g_{1}} f_{1} \\frac{d}{d x_{2}} g_{1} + \\frac{d}{d g_{2}} f_{1} \\frac{d}{d x_{2}} g_{2} + \\frac{d}{d g_{3}} f_{1} \\frac{d}{d x_{2}} g_{3} + \\frac{d}{d g_{4}} f_{1} \\frac{d}{d x_{2}} g_{4} & \\frac{d}{d g_{1}} f_{1} \\frac{d}{d x_{3}} g_{1} + \\frac{d}{d g_{2}} f_{1} \\frac{d}{d x_{3}} g_{2} + \\frac{d}{d g_{3}} f_{1} \\frac{d}{d x_{3}} g_{3} + \\frac{d}{d g_{4}} f_{1} \\frac{d}{d x_{3}} g_{4}\\\\\\frac{d}{d g_{1}} f_{2} \\frac{d}{d x_{1}} g_{1} + \\frac{d}{d g_{2}} f_{2} \\frac{d}{d x_{1}} g_{2} + \\frac{d}{d g_{3}} f_{2} \\frac{d}{d x_{1}} g_{3} + \\frac{d}{d g_{4}} f_{2} \\frac{d}{d x_{1}} g_{4} & \\frac{d}{d g_{1}} f_{2} \\frac{d}{d x_{2}} g_{1} + \\frac{d}{d g_{2}} f_{2} \\frac{d}{d x_{2}} g_{2} + \\frac{d}{d g_{3}} f_{2} \\frac{d}{d x_{2}} g_{3} + \\frac{d}{d g_{4}} f_{2} \\frac{d}{d x_{2}} g_{4} & \\frac{d}{d g_{1}} f_{2} \\frac{d}{d x_{3}} g_{1} + \\frac{d}{d g_{2}} f_{2} \\frac{d}{d x_{3}} g_{2} + \\frac{d}{d g_{3}} f_{2} \\frac{d}{d x_{3}} g_{3} + \\frac{d}{d g_{4}} f_{2} \\frac{d}{d x_{3}} g_{4}\\\\\\frac{d}{d g_{1}} f_{3} \\frac{d}{d x_{1}} g_{1} + \\frac{d}{d g_{2}} f_{3} \\frac{d}{d x_{1}} g_{2} + \\frac{d}{d g_{3}} f_{3} \\frac{d}{d x_{1}} g_{3} + \\frac{d}{d g_{4}} f_{3} \\frac{d}{d x_{1}} g_{4} & \\frac{d}{d g_{1}} f_{3} \\frac{d}{d x_{2}} g_{1} + \\frac{d}{d g_{2}} f_{3} \\frac{d}{d x_{2}} g_{2} + \\frac{d}{d g_{3}} f_{3} \\frac{d}{d x_{2}} g_{3} + \\frac{d}{d g_{4}} f_{3} \\frac{d}{d x_{2}} g_{4} & \\frac{d}{d g_{1}} f_{3} \\frac{d}{d x_{3}} g_{1} + \\frac{d}{d g_{2}} f_{3} \\frac{d}{d x_{3}} g_{2} + \\frac{d}{d g_{3}} f_{3} \\frac{d}{d x_{3}} g_{3} + \\frac{d}{d g_{4}} f_{3} \\frac{d}{d x_{3}} g_{4}\\\\\\frac{d}{d g_{1}} f_{4} \\frac{d}{d x_{1}} g_{1} + \\frac{d}{d g_{2}} f_{4} \\frac{d}{d x_{1}} g_{2} + \\frac{d}{d g_{3}} f_{4} \\frac{d}{d x_{1}} g_{3} + \\frac{d}{d g_{4}} f_{4} \\frac{d}{d x_{1}} g_{4} & \\frac{d}{d g_{1}} f_{4} \\frac{d}{d x_{2}} g_{1} + \\frac{d}{d g_{2}} f_{4} \\frac{d}{d x_{2}} g_{2} + \\frac{d}{d g_{3}} f_{4} \\frac{d}{d x_{2}} g_{3} + \\frac{d}{d g_{4}} f_{4} \\frac{d}{d x_{2}} g_{4} & \\frac{d}{d g_{1}} f_{4} \\frac{d}{d x_{3}} g_{1} + \\frac{d}{d g_{2}} f_{4} \\frac{d}{d x_{3}} g_{2} + \\frac{d}{d g_{3}} f_{4} \\frac{d}{d x_{3}} g_{3} + \\frac{d}{d g_{4}} f_{4} \\frac{d}{d x_{3}} g_{4}\\\\\\frac{d}{d g_{1}} f_{5} \\frac{d}{d x_{1}} g_{1} + \\frac{d}{d g_{2}} f_{5} \\frac{d}{d x_{1}} g_{2} + \\frac{d}{d g_{3}} f_{5} \\frac{d}{d x_{1}} g_{3} + \\frac{d}{d g_{4}} f_{5} \\frac{d}{d x_{1}} g_{4} & \\frac{d}{d g_{1}} f_{5} \\frac{d}{d x_{2}} g_{1} + \\frac{d}{d g_{2}} f_{5} \\frac{d}{d x_{2}} g_{2} + \\frac{d}{d g_{3}} f_{5} \\frac{d}{d x_{2}} g_{3} + \\frac{d}{d g_{4}} f_{5} \\frac{d}{d x_{2}} g_{4} & \\frac{d}{d g_{1}} f_{5} \\frac{d}{d x_{3}} g_{1} + \\frac{d}{d g_{2}} f_{5} \\frac{d}{d x_{3}} g_{2} + \\frac{d}{d g_{3}} f_{5} \\frac{d}{d x_{3}} g_{3} + \\frac{d}{d g_{4}} f_{5} \\frac{d}{d x_{3}} g_{4}\\end{matrix}\\right]$"
      ],
      "text/plain": [
       "⎡ d       d         d       d         d       d         d       d        d    \n",
       "⎢───(f₁)⋅───(g₁) + ───(f₁)⋅───(g₂) + ───(f₁)⋅───(g₃) + ───(f₁)⋅───(g₄)  ───(f₁\n",
       "⎢dg₁     dx₁       dg₂     dx₁       dg₃     dx₁       dg₄     dx₁      dg₁   \n",
       "⎢                                                                             \n",
       "⎢ d       d         d       d         d       d         d       d        d    \n",
       "⎢───(f₂)⋅───(g₁) + ───(f₂)⋅───(g₂) + ───(f₂)⋅───(g₃) + ───(f₂)⋅───(g₄)  ───(f₂\n",
       "⎢dg₁     dx₁       dg₂     dx₁       dg₃     dx₁       dg₄     dx₁      dg₁   \n",
       "⎢                                                                             \n",
       "⎢ d       d         d       d         d       d         d       d        d    \n",
       "⎢───(f₃)⋅───(g₁) + ───(f₃)⋅───(g₂) + ───(f₃)⋅───(g₃) + ───(f₃)⋅───(g₄)  ───(f₃\n",
       "⎢dg₁     dx₁       dg₂     dx₁       dg₃     dx₁       dg₄     dx₁      dg₁   \n",
       "⎢                                                                             \n",
       "⎢ d       d         d       d         d       d         d       d        d    \n",
       "⎢───(f₄)⋅───(g₁) + ───(f₄)⋅───(g₂) + ───(f₄)⋅───(g₃) + ───(f₄)⋅───(g₄)  ───(f₄\n",
       "⎢dg₁     dx₁       dg₂     dx₁       dg₃     dx₁       dg₄     dx₁      dg₁   \n",
       "⎢                                                                             \n",
       "⎢ d       d         d       d         d       d         d       d        d    \n",
       "⎢───(f₅)⋅───(g₁) + ───(f₅)⋅───(g₂) + ───(f₅)⋅───(g₃) + ───(f₅)⋅───(g₄)  ───(f₅\n",
       "⎣dg₁     dx₁       dg₂     dx₁       dg₃     dx₁       dg₄     dx₁      dg₁   \n",
       "\n",
       "   d         d       d         d       d         d       d        d       d   \n",
       ")⋅───(g₁) + ───(f₁)⋅───(g₂) + ───(f₁)⋅───(g₃) + ───(f₁)⋅───(g₄)  ───(f₁)⋅───(g\n",
       "  dx₂       dg₂     dx₂       dg₃     dx₂       dg₄     dx₂      dg₁     dx₃  \n",
       "                                                                              \n",
       "   d         d       d         d       d         d       d        d       d   \n",
       ")⋅───(g₁) + ───(f₂)⋅───(g₂) + ───(f₂)⋅───(g₃) + ───(f₂)⋅───(g₄)  ───(f₂)⋅───(g\n",
       "  dx₂       dg₂     dx₂       dg₃     dx₂       dg₄     dx₂      dg₁     dx₃  \n",
       "                                                                              \n",
       "   d         d       d         d       d         d       d        d       d   \n",
       ")⋅───(g₁) + ───(f₃)⋅───(g₂) + ───(f₃)⋅───(g₃) + ───(f₃)⋅───(g₄)  ───(f₃)⋅───(g\n",
       "  dx₂       dg₂     dx₂       dg₃     dx₂       dg₄     dx₂      dg₁     dx₃  \n",
       "                                                                              \n",
       "   d         d       d         d       d         d       d        d       d   \n",
       ")⋅───(g₁) + ───(f₄)⋅───(g₂) + ───(f₄)⋅───(g₃) + ───(f₄)⋅───(g₄)  ───(f₄)⋅───(g\n",
       "  dx₂       dg₂     dx₂       dg₃     dx₂       dg₄     dx₂      dg₁     dx₃  \n",
       "                                                                              \n",
       "   d         d       d         d       d         d       d        d       d   \n",
       ")⋅───(g₁) + ───(f₅)⋅───(g₂) + ───(f₅)⋅───(g₃) + ───(f₅)⋅───(g₄)  ───(f₅)⋅───(g\n",
       "  dx₂       dg₂     dx₂       dg₃     dx₂       dg₄     dx₂      dg₁     dx₃  \n",
       "\n",
       "      d       d         d       d         d       d     ⎤\n",
       "₁) + ───(f₁)⋅───(g₂) + ───(f₁)⋅───(g₃) + ───(f₁)⋅───(g₄)⎥\n",
       "     dg₂     dx₃       dg₃     dx₃       dg₄     dx₃    ⎥\n",
       "                                                        ⎥\n",
       "      d       d         d       d         d       d     ⎥\n",
       "₁) + ───(f₂)⋅───(g₂) + ───(f₂)⋅───(g₃) + ───(f₂)⋅───(g₄)⎥\n",
       "     dg₂     dx₃       dg₃     dx₃       dg₄     dx₃    ⎥\n",
       "                                                        ⎥\n",
       "      d       d         d       d         d       d     ⎥\n",
       "₁) + ───(f₃)⋅───(g₂) + ───(f₃)⋅───(g₃) + ───(f₃)⋅───(g₄)⎥\n",
       "     dg₂     dx₃       dg₃     dx₃       dg₄     dx₃    ⎥\n",
       "                                                        ⎥\n",
       "      d       d         d       d         d       d     ⎥\n",
       "₁) + ───(f₄)⋅───(g₂) + ───(f₄)⋅───(g₃) + ───(f₄)⋅───(g₄)⎥\n",
       "     dg₂     dx₃       dg₃     dx₃       dg₄     dx₃    ⎥\n",
       "                                                        ⎥\n",
       "      d       d         d       d         d       d     ⎥\n",
       "₁) + ───(f₅)⋅───(g₂) + ───(f₅)⋅───(g₃) + ───(f₅)⋅───(g₄)⎥\n",
       "     dg₂     dx₃       dg₃     dx₃       dg₄     dx₃    ⎦"
      ]
     },
     "metadata": {},
     "output_type": "display_data"
    }
   ],
   "source": [
    "df_dg = jacFG.subs(mapFGFuncToF).subs(mapGFuncToG)\n",
    "dg_dx = gv.jacobian(xv).subs(mapGFuncToG)\n",
    "dfg_x = jacComposed.subs(mapFGFuncToF).subs(mapGFuncToG)\n",
    "\n",
    "showGroup([\n",
    "    df_dg, \n",
    "    dg_dx, \n",
    "    dfg_x\n",
    "])"
   ]
  },
  {
   "cell_type": "code",
   "execution_count": 27,
   "metadata": {
    "execution": {
     "iopub.execute_input": "2020-11-03T08:25:08.540115Z",
     "iopub.status.busy": "2020-11-03T08:25:08.537093Z",
     "iopub.status.idle": "2020-11-03T08:25:08.545119Z",
     "shell.execute_reply": "2020-11-03T08:25:08.546174Z"
    },
    "lines_to_next_cell": 0,
    "title": "codecell"
   },
   "outputs": [],
   "source": [
    "# The final test:\n",
    "assert dfg_x == df_dg * dg_dx"
   ]
  },
  {
   "cell_type": "code",
   "execution_count": 28,
   "metadata": {
    "title": "codecell"
   },
   "outputs": [],
   "source": []
  }
 ],
 "metadata": {
  "jupytext": {
   "cell_metadata_filter": "title,-all"
  },
  "kernelspec": {
   "display_name": "pymatrix_env",
   "language": "python",
   "name": "pymatrix_env"
  },
  "language_info": {
   "codemirror_mode": {
    "name": "ipython",
    "version": 3
   },
   "file_extension": ".py",
   "mimetype": "text/x-python",
   "name": "python",
   "nbconvert_exporter": "python",
   "pygments_lexer": "ipython3",
   "version": "3.7.8"
  }
 },
 "nbformat": 4,
 "nbformat_minor": 4
}
