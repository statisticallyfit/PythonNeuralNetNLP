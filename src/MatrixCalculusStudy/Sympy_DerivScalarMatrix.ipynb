{
 "cells": [
  {
   "cell_type": "code",
   "execution_count": null,
   "metadata": {
    "title": "codecell"
   },
   "outputs": [],
   "source": [
    "from sympy import diff, sin, exp, symbols, Function, Matrix, MatrixSymbol, FunctionMatrix, derive_by_array\n",
    "\n",
    "\n",
    "\n"
   ]
  },
  {
   "cell_type": "code",
   "execution_count": null,
   "metadata": {
    "lines_to_next_cell": 0,
    "title": "codecell"
   },
   "outputs": [],
   "source": [
    "from sympy import Symbol\n",
    "\n",
    "def var(letter: str, i: int, j: int) -> Symbol:\n",
    "     letter_ij = Symbol('{}_{}{}'.format(letter, i+1, j+1), is_commutative=True)\n",
    "     return letter_ij\n",
    "\n",
    "def func(i, j):\n",
    "     y_ij = Function('y_{}{}'.format(i+1,j+1))(*X)\n",
    "     return y_ij\n",
    "\n",
    "\n",
    "n,m,p = 3,3,2\n",
    "\n",
    "X = Matrix(n, m, lambda i, j: var('x', i, j)); X"
   ]
  },
  {
   "cell_type": "code",
   "execution_count": null,
   "metadata": {
    "title": "codecell"
   },
   "outputs": [],
   "source": [
    "#Y = MatrixSymbol(Function('y'), 2, 3); Matrix(Y)\n",
    "#M = MatrixSymbol('M',2,2); Matrix(M)\n",
    "#Y = Matrix(m, p, lambda i,j: Function('y_{}{}'.format(i+1,j+1))(X) ); Y\n",
    "\n",
    "Y = Matrix(m, p, lambda i,j:  func(i, j)); Y"
   ]
  },
  {
   "cell_type": "markdown",
   "metadata": {
    "lines_to_next_cell": 0,
    "title": "markdown"
   },
   "source": [
    "### Derivative of Scalar Function of a Matrix with Respect to the Matrix\n",
    "Let $X = \\{ x_{ij} \\}$ be a matrix of order $m \\times n$ and let\n",
    "$$\n",
    "y = f(X)\n",
    "$$\n",
    "be a scalar function of $X$, so $y \\in \\mathbb{R}$ and $f: \\mathbb{R}^{m \\times n} \\rightarrow \\mathbb{R}$,\n",
    "Then we can define the **derivative of y with respect to $X$** as the following matrix of order $m \\times n$:\n",
    "$$\n",
    "\\Large\n",
    "\\begin{aligned}\n",
    "\\frac{\\partial y}{\\partial X} = \\begin{pmatrix}\n",
    "   \\frac{\\partial y}{\\partial x_{11}} & \\frac{\\partial y}{\\partial x_{12}} & ... & \\frac{\\partial y}{\\partial x_{1n}} \\\\\n",
    "   \\frac{\\partial y}{\\partial x_{21}} & \\frac{\\partial y}{\\partial x_{22}} & ... & \\frac{\\partial y}{\\partial x_{2n}} \\\\\n",
    "   \\vdots & \\vdots & & \\vdots \\\\\n",
    "   \\frac{\\partial y}{\\partial x_{m1}} & \\frac{\\partial y}{\\partial x_{m2}} & ... & \\frac{\\partial y}{\\partial x_{mn}} \\\\\n",
    "\\end{pmatrix}\n",
    "= \\Bigg\\{ \\frac{\\partial y}{\\partial x_{ij}} \\Bigg\\}\n",
    "\\end{aligned}\n",
    "$$\n",
    "The matrix $\\frac{\\partial y}{\\partial X}$ is called the **gradient matrix**."
   ]
  },
  {
   "cell_type": "code",
   "execution_count": null,
   "metadata": {
    "title": "codecell"
   },
   "outputs": [],
   "source": [
    "derive_by_array(Y[0,0], X)\n",
    "\n"
   ]
  },
  {
   "cell_type": "markdown",
   "metadata": {
    "lines_to_next_cell": 0,
    "title": "markdown"
   },
   "source": [
    "### Derivative of Matrix With Respect to Scalar Element of Matrix\n",
    "Let $X = \\{ x_{ij} \\}$ be a matrix of order $m \\times n$ and let\n",
    "$$\n",
    "y = f(X)\n",
    "$$\n",
    "be a scalar function of $X$, so $y \\in \\mathbb{R}$ and $f: \\mathbb{R}^{m \\times n} \\rightarrow \\mathbb{R}$,\n",
    "\n",
    "Also let the matrix $Y = \\{y_{ij}(X) \\}$ be of size $p \\times q$.\n",
    "\n",
    "Then we can define the **derivative of $Y$ with respect to an element $x$ in $X$** as the following matrix of order $p \\times q$:\n",
    "$$\n",
    "\\Large\n",
    "\\begin{aligned}\n",
    "\\frac{\\partial Y}{\\partial x} = \\begin{pmatrix}\n",
    "   \\frac{\\partial Y}{\\partial x} & \\frac{\\partial Y}{\\partial x} & ... & \\frac{\\partial Y}{\\partial x} \\\\\n",
    "   \\frac{\\partial Y}{\\partial x} & \\frac{\\partial Y}{\\partial x} & ... & \\frac{\\partial Y}{\\partial x} \\\\\n",
    "   \\vdots & \\vdots & & \\vdots \\\\\n",
    "   \\frac{\\partial Y}{\\partial x} & \\frac{\\partial Y}{\\partial x} & ... & \\frac{\\partial Y}{\\partial x} \\\\\n",
    "\\end{pmatrix}\n",
    "= \\Bigg\\{ \\frac{\\partial y_{ij}}{\\partial x} \\Bigg\\}\n",
    "\\end{aligned}\n",
    "$$"
   ]
  },
  {
   "cell_type": "code",
   "execution_count": null,
   "metadata": {
    "title": "codecell"
   },
   "outputs": [],
   "source": [
    "derive_by_array(Y, X[1-1,2-1])"
   ]
  }
 ],
 "metadata": {
  "jupytext": {
   "cell_metadata_filter": "title,-all",
   "main_language": "python",
   "notebook_metadata_filter": "-all"
  }
 },
 "nbformat": 4,
 "nbformat_minor": 4
}
