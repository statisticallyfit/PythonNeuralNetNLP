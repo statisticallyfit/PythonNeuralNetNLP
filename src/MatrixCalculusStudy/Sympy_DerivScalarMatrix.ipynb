{
 "cells": [
  {
   "cell_type": "markdown",
   "execution_count": 1,
   "metadata": {},
   "source": [
    "# Review: Derivative of a Scalar Function with Respect to a Matrix\n"
   ]
  },
  {
   "cell_type": "code",
   "execution_count": 1,
   "metadata": {
    "execution": {
     "iopub.execute_input": "2020-11-03T08:22:00.347521Z",
     "iopub.status.busy": "2020-11-03T08:22:00.346290Z",
     "iopub.status.idle": "2020-11-03T08:22:00.352971Z",
     "shell.execute_reply": "2020-11-03T08:22:00.354097Z"
    },
    "lines_to_next_cell": 2,
    "title": "codecell"
   },
   "outputs": [],
   "source": [
    "import sys\n",
    "import os\n",
    "\n",
    "PATH: str = '/development/projects/statisticallyfit/github/learningmathstat/PythonNeuralNetNLP'\n",
    "\n",
    "NEURALNET_PATH: str = PATH + '/src/MatrixCalculusStudy'\n",
    "\n",
    "sys.path.append(PATH)\n",
    "sys.path.append(NEURALNET_PATH)"
   ]
  },
  {
   "cell_type": "code",
   "execution_count": 2,
   "metadata": {
    "execution": {
     "iopub.execute_input": "2020-11-03T08:22:00.365159Z",
     "iopub.status.busy": "2020-11-03T08:22:00.357770Z",
     "iopub.status.idle": "2020-11-03T08:22:01.063022Z",
     "shell.execute_reply": "2020-11-03T08:22:01.064304Z"
    },
    "title": "codecell"
   },
   "outputs": [],
   "source": [
    "from sympy import diff, sin, exp, symbols, Function, Matrix, MatrixSymbol, FunctionMatrix, derive_by_array, Symbol"
   ]
  },
  {
   "cell_type": "code",
   "execution_count": 3,
   "metadata": {
    "execution": {
     "iopub.execute_input": "2020-11-03T08:22:01.069630Z",
     "iopub.status.busy": "2020-11-03T08:22:01.068005Z",
     "iopub.status.idle": "2020-11-03T08:22:01.830524Z",
     "shell.execute_reply": "2020-11-03T08:22:01.831678Z"
    }
   },
   "outputs": [],
   "source": [
    "from src.utils.GeneralUtil import *\n",
    "from src.MatrixCalculusStudy.MatrixDerivLib.symbols import Deriv\n",
    "from src.MatrixCalculusStudy.MatrixDerivLib.diff import diffMatrix\n",
    "from src.MatrixCalculusStudy.MatrixDerivLib.printingLatex import myLatexPrinter\n",
    "\n",
    "from IPython.display import display, Math\n",
    "from sympy.interactive import printing\n",
    "printing.init_printing(use_latex='mathjax', latex_printer= lambda e, **kw: myLatexPrinter.doprint(e))\n",
    "\n"
   ]
  },
  {
   "cell_type": "code",
   "execution_count": 4,
   "metadata": {
    "execution": {
     "iopub.execute_input": "2020-11-03T08:22:01.837447Z",
     "iopub.status.busy": "2020-11-03T08:22:01.835149Z",
     "iopub.status.idle": "2020-11-03T08:22:01.857382Z",
     "shell.execute_reply": "2020-11-03T08:22:01.858456Z"
    },
    "title": "codecell"
   },
   "outputs": [
    {
     "data": {
      "text/latex": [
       "$\\displaystyle \\left[\\begin{matrix}x_{11} & x_{12} & x_{13}\\\\x_{21} & x_{22} & x_{23}\\\\x_{31} & x_{32} & x_{33}\\end{matrix}\\right]$"
      ],
      "text/plain": [
       "⎡x₁₁  x₁₂  x₁₃⎤\n",
       "⎢             ⎥\n",
       "⎢x₂₁  x₂₂  x₂₃⎥\n",
       "⎢             ⎥\n",
       "⎣x₃₁  x₃₂  x₃₃⎦"
      ]
     },
     "execution_count": 1,
     "metadata": {},
     "output_type": "execute_result"
    }
   ],
   "source": [
    "\n",
    "n,m,p = 3,3,2\n",
    "\n",
    "X = Matrix(n, m, lambda i, j: var_ij('x', i, j))\n",
    "X"
   ]
  },
  {
   "cell_type": "code",
   "execution_count": 5,
   "metadata": {
    "execution": {
     "iopub.execute_input": "2020-11-03T08:22:01.869483Z",
     "iopub.status.busy": "2020-11-03T08:22:01.861841Z",
     "iopub.status.idle": "2020-11-03T08:22:01.903935Z",
     "shell.execute_reply": "2020-11-03T08:22:01.905073Z"
    },
    "title": "codecell"
   },
   "outputs": [
    {
     "data": {
      "text/latex": [
       "$\\displaystyle \\left[\\begin{matrix}\\operatorname{y_{11}}{\\left(x_{11},x_{12},x_{13},x_{21},x_{22},x_{23},x_{31},x_{32},x_{33} \\right)} & \\operatorname{y_{12}}{\\left(x_{11},x_{12},x_{13},x_{21},x_{22},x_{23},x_{31},x_{32},x_{33} \\right)}\\\\\\operatorname{y_{21}}{\\left(x_{11},x_{12},x_{13},x_{21},x_{22},x_{23},x_{31},x_{32},x_{33} \\right)} & \\operatorname{y_{22}}{\\left(x_{11},x_{12},x_{13},x_{21},x_{22},x_{23},x_{31},x_{32},x_{33} \\right)}\\\\\\operatorname{y_{31}}{\\left(x_{11},x_{12},x_{13},x_{21},x_{22},x_{23},x_{31},x_{32},x_{33} \\right)} & \\operatorname{y_{32}}{\\left(x_{11},x_{12},x_{13},x_{21},x_{22},x_{23},x_{31},x_{32},x_{33} \\right)}\\end{matrix}\\right]$"
      ],
      "text/plain": [
       "⎡y₁₁(x₁₁, x₁₂, x₁₃, x₂₁, x₂₂, x₂₃, x₃₁, x₃₂, x₃₃)  y₁₂(x₁₁, x₁₂, x₁₃, x₂₁, x₂₂\n",
       "⎢                                                                             \n",
       "⎢y₂₁(x₁₁, x₁₂, x₁₃, x₂₁, x₂₂, x₂₃, x₃₁, x₃₂, x₃₃)  y₂₂(x₁₁, x₁₂, x₁₃, x₂₁, x₂₂\n",
       "⎢                                                                             \n",
       "⎣y₃₁(x₁₁, x₁₂, x₁₃, x₂₁, x₂₂, x₂₃, x₃₁, x₃₂, x₃₃)  y₃₂(x₁₁, x₁₂, x₁₃, x₂₁, x₂₂\n",
       "\n",
       ", x₂₃, x₃₁, x₃₂, x₃₃)⎤\n",
       "                     ⎥\n",
       ", x₂₃, x₃₁, x₃₂, x₃₃)⎥\n",
       "                     ⎥\n",
       ", x₂₃, x₃₁, x₃₂, x₃₃)⎦"
      ]
     },
     "execution_count": 1,
     "metadata": {},
     "output_type": "execute_result"
    }
   ],
   "source": [
    "\n",
    "Yfunc = Matrix(m, p, lambda i,j:  func_ij('y', i, j, X))\n",
    "Yfunc\n",
    "\n"
   ]
  },
  {
   "cell_type": "code",
   "execution_count": 6,
   "metadata": {
    "execution": {
     "iopub.execute_input": "2020-11-03T08:22:01.909814Z",
     "iopub.status.busy": "2020-11-03T08:22:01.908310Z",
     "iopub.status.idle": "2020-11-03T08:22:01.921884Z",
     "shell.execute_reply": "2020-11-03T08:22:01.922930Z"
    },
    "lines_to_next_cell": 0,
    "title": "codecell"
   },
   "outputs": [
    {
     "data": {
      "text/latex": [
       "$\\displaystyle \\left[\\begin{matrix}y_{11} & y_{12}\\\\y_{21} & y_{22}\\\\y_{31} & y_{32}\\end{matrix}\\right]$"
      ],
      "text/plain": [
       "⎡y₁₁  y₁₂⎤\n",
       "⎢        ⎥\n",
       "⎢y₂₁  y₂₂⎥\n",
       "⎢        ⎥\n",
       "⎣y₃₁  y₃₂⎦"
      ]
     },
     "execution_count": 1,
     "metadata": {},
     "output_type": "execute_result"
    }
   ],
   "source": [
    "Yelem = Matrix(m, p, lambda i, j: var_ij('y', i, j))\n",
    "Yelem"
   ]
  },
  {
   "cell_type": "code",
   "execution_count": 7,
   "metadata": {
    "execution": {
     "iopub.execute_input": "2020-11-03T08:22:01.927800Z",
     "iopub.status.busy": "2020-11-03T08:22:01.926295Z",
     "iopub.status.idle": "2020-11-03T08:22:01.975474Z",
     "shell.execute_reply": "2020-11-03T08:22:01.976597Z"
    },
    "title": "codecell"
   },
   "outputs": [
    {
     "data": {
      "text/latex": [
       "$\\displaystyle \\left[\\begin{matrix}\\operatorname{y_{11}}{\\left(x_{11},x_{12},x_{13},x_{21},x_{22},x_{23},x_{31},x_{32},x_{33} \\right)} & y_{11}\\\\\\operatorname{y_{12}}{\\left(x_{11},x_{12},x_{13},x_{21},x_{22},x_{23},x_{31},x_{32},x_{33} \\right)} & y_{12}\\\\\\operatorname{y_{21}}{\\left(x_{11},x_{12},x_{13},x_{21},x_{22},x_{23},x_{31},x_{32},x_{33} \\right)} & y_{21}\\\\\\operatorname{y_{22}}{\\left(x_{11},x_{12},x_{13},x_{21},x_{22},x_{23},x_{31},x_{32},x_{33} \\right)} & y_{22}\\\\\\operatorname{y_{31}}{\\left(x_{11},x_{12},x_{13},x_{21},x_{22},x_{23},x_{31},x_{32},x_{33} \\right)} & y_{31}\\\\\\operatorname{y_{32}}{\\left(x_{11},x_{12},x_{13},x_{21},x_{22},x_{23},x_{31},x_{32},x_{33} \\right)} & y_{32}\\end{matrix}\\right]$"
      ],
      "text/plain": [
       "⎡y₁₁(x₁₁, x₁₂, x₁₃, x₂₁, x₂₂, x₂₃, x₃₁, x₃₂, x₃₃)  y₁₁⎤\n",
       "⎢                                                     ⎥\n",
       "⎢y₁₂(x₁₁, x₁₂, x₁₃, x₂₁, x₂₂, x₂₃, x₃₁, x₃₂, x₃₃)  y₁₂⎥\n",
       "⎢                                                     ⎥\n",
       "⎢y₂₁(x₁₁, x₁₂, x₁₃, x₂₁, x₂₂, x₂₃, x₃₁, x₃₂, x₃₃)  y₂₁⎥\n",
       "⎢                                                     ⎥\n",
       "⎢y₂₂(x₁₁, x₁₂, x₁₃, x₂₁, x₂₂, x₂₃, x₃₁, x₃₂, x₃₃)  y₂₂⎥\n",
       "⎢                                                     ⎥\n",
       "⎢y₃₁(x₁₁, x₁₂, x₁₃, x₂₁, x₂₂, x₂₃, x₃₁, x₃₂, x₃₃)  y₃₁⎥\n",
       "⎢                                                     ⎥\n",
       "⎣y₃₂(x₁₁, x₁₂, x₁₃, x₂₁, x₂₂, x₂₃, x₃₁, x₃₂, x₃₃)  y₃₂⎦"
      ]
     },
     "execution_count": 1,
     "metadata": {},
     "output_type": "execute_result"
    }
   ],
   "source": [
    "import itertools\n",
    "\n",
    "elemToFuncArgsD = dict(itertools.chain(*[[(Yelem[i, j], Yfunc[i,j]) for j in range(p)] for i in range(m)]))\n",
    "\n",
    "elemToFuncArgs = list(elemToFuncArgsD.items())\n",
    "\n",
    "funcArgsToElemD = {v : k for k, v in elemToFuncArgsD.items()}\n",
    "\n",
    "funcArgsToElem = list(funcArgsToElemD.items())\n",
    "\n",
    "# Matrix(funcArgsToElem)\n",
    "Matrix(funcArgsToElem)\n",
    "\n"
   ]
  },
  {
   "cell_type": "markdown",
   "execution_count": 8,
   "metadata": {},
   "source": [
    "### Derivative of Scalar Function of a Matrix with Respect to the Matrix\n",
    "Let $X = \\{ x_{ij} \\}$ be a matrix of order $m \\times n$ and let\n",
    "$$\n",
    "y = f(X)\n",
    "$$\n",
    "be a scalar function of $X$, so $y \\in \\mathbb{R}$ and $f: \\mathbb{R}^{m \\times n} \\rightarrow \\mathbb{R}$,\n",
    "Then we can define the **derivative of y with respect to $X$** as the following matrix of order $m \\times n$:\n",
    "$$\n",
    "\\Large\n",
    "\\begin{aligned}\n",
    "\\frac{\\partial y}{\\partial X} = \\begin{pmatrix}\n",
    "   \\frac{\\partial y}{\\partial x_{11}} & \\frac{\\partial y}{\\partial x_{12}} & ... & \\frac{\\partial y}{\\partial x_{1n}} \\\\\n",
    "   \\frac{\\partial y}{\\partial x_{21}} & \\frac{\\partial y}{\\partial x_{22}} & ... & \\frac{\\partial y}{\\partial x_{2n}} \\\\\n",
    "   \\vdots & \\vdots & & \\vdots \\\\\n",
    "   \\frac{\\partial y}{\\partial x_{m1}} & \\frac{\\partial y}{\\partial x_{m2}} & ... & \\frac{\\partial y}{\\partial x_{mn}} \\\\\n",
    "\\end{pmatrix}\n",
    "= \\Bigg\\{ \\frac{\\partial y}{\\partial x_{ij}} \\Bigg\\}\n",
    "\\end{aligned}\n",
    "$$\n",
    "The matrix $\\frac{\\partial y}{\\partial X}$ is called the **gradient matrix**.\n",
    "\n"
   ]
  },
  {
   "cell_type": "code",
   "execution_count": 8,
   "metadata": {
    "execution": {
     "iopub.execute_input": "2020-11-03T08:22:01.981815Z",
     "iopub.status.busy": "2020-11-03T08:22:01.980035Z",
     "iopub.status.idle": "2020-11-03T08:22:02.063251Z",
     "shell.execute_reply": "2020-11-03T08:22:02.064396Z"
    },
    "lines_to_next_cell": 2,
    "title": "codecell"
   },
   "outputs": [
    {
     "data": {
      "text/latex": [
       "$\\displaystyle \\left[\\begin{matrix}\\frac{d}{d x_{11}} y_{11} & \\frac{d}{d x_{12}} y_{11} & \\frac{d}{d x_{13}} y_{11}\\\\\\frac{d}{d x_{21}} y_{11} & \\frac{d}{d x_{22}} y_{11} & \\frac{d}{d x_{23}} y_{11}\\\\\\frac{d}{d x_{31}} y_{11} & \\frac{d}{d x_{32}} y_{11} & \\frac{d}{d x_{33}} y_{11}\\end{matrix}\\right]$"
      ],
      "text/plain": [
       "⎡ d          d          d       ⎤\n",
       "⎢────(y₁₁)  ────(y₁₁)  ────(y₁₁)⎥\n",
       "⎢dx₁₁       dx₁₂       dx₁₃     ⎥\n",
       "⎢                               ⎥\n",
       "⎢ d          d          d       ⎥\n",
       "⎢────(y₁₁)  ────(y₁₁)  ────(y₁₁)⎥\n",
       "⎢dx₂₁       dx₂₂       dx₂₃     ⎥\n",
       "⎢                               ⎥\n",
       "⎢ d          d          d       ⎥\n",
       "⎢────(y₁₁)  ────(y₁₁)  ────(y₁₁)⎥\n",
       "⎣dx₃₁       dx₃₂       dx₃₃     ⎦"
      ]
     },
     "execution_count": 1,
     "metadata": {},
     "output_type": "execute_result"
    }
   ],
   "source": [
    "#derive_by_array(Y\n",
    "#[0,0], X)\n",
    "#display(derive_by_array(Y[0,0], X))\n",
    "derivScalarByMatrix = derive_by_array(Yfunc[0,0], X)\n",
    "\n",
    "derivScalarByMatrix.subs(funcArgsToElemD)"
   ]
  },
  {
   "cell_type": "markdown",
   "execution_count": 9,
   "metadata": {},
   "source": [
    "### Derivative of Matrix With Respect to Scalar Element of Matrix\n",
    "Let $X = \\{ x_{ij} \\}$ be a matrix of order $m \\times n$ and let\n",
    "$$\n",
    "y = f(X)\n",
    "$$\n",
    "be a scalar function of $X$, so $y \\in \\mathbb{R}$ and $f: \\mathbb{R}^{m \\times n} \\rightarrow \\mathbb{R}$,\n",
    "\n",
    "Also let the matrix $Y\n",
    "= \\{y_{ij}(X) \\}$ be of size $p \\times q$.\n",
    "\n",
    "Then we can define the **derivative of $Y\n",
    "$ with respect to an element $x$ in $X$** as the following matrix of order $p \\times q$:\n",
    "$$\n",
    "\\Large\n",
    "\\begin{aligned}\n",
    "\\frac{\\partial Y\n",
    "}{\\partial x} = \\begin{pmatrix}\n",
    "   \\frac{\\partial Y\n",
    "}{\\partial x} & \\frac{\\partial Y\n",
    "}{\\partial x} & ... & \\frac{\\partial Y\n",
    "}{\\partial x} \\\\\n",
    "   \\frac{\\partial Y\n",
    "}{\\partial x} & \\frac{\\partial Y\n",
    "}{\\partial x} & ... & \\frac{\\partial Y\n",
    "}{\\partial x} \\\\\n",
    "   \\vdots & \\vdots & & \\vdots \\\\\n",
    "   \\frac{\\partial Y\n",
    "}{\\partial x} & \\frac{\\partial Y\n",
    "}{\\partial x} & ... & \\frac{\\partial Y\n",
    "}{\\partial x} \\\\\n",
    "\\end{pmatrix}\n",
    "= \\Bigg\\{ \\frac{\\partial y_{ij}}{\\partial x} \\Bigg\\}\n",
    "\\end{aligned}\n",
    "$$\n"
   ]
  },
  {
   "cell_type": "code",
   "execution_count": 9,
   "metadata": {
    "execution": {
     "iopub.execute_input": "2020-11-03T08:22:02.069427Z",
     "iopub.status.busy": "2020-11-03T08:22:02.067883Z",
     "iopub.status.idle": "2020-11-03T08:22:02.135723Z",
     "shell.execute_reply": "2020-11-03T08:22:02.136853Z"
    },
    "lines_to_next_cell": 0,
    "title": "codecell"
   },
   "outputs": [
    {
     "data": {
      "text/latex": [
       "$\\displaystyle \\left[\\begin{matrix}\\frac{d}{d x_{12}} y_{11} & \\frac{d}{d x_{12}} y_{12}\\\\\\frac{d}{d x_{12}} y_{21} & \\frac{d}{d x_{12}} y_{22}\\\\\\frac{d}{d x_{12}} y_{31} & \\frac{d}{d x_{12}} y_{32}\\end{matrix}\\right]$"
      ],
      "text/plain": [
       "⎡ d          d       ⎤\n",
       "⎢────(y₁₁)  ────(y₁₂)⎥\n",
       "⎢dx₁₂       dx₁₂     ⎥\n",
       "⎢                    ⎥\n",
       "⎢ d          d       ⎥\n",
       "⎢────(y₂₁)  ────(y₂₂)⎥\n",
       "⎢dx₁₂       dx₁₂     ⎥\n",
       "⎢                    ⎥\n",
       "⎢ d          d       ⎥\n",
       "⎢────(y₃₁)  ────(y₃₂)⎥\n",
       "⎣dx₁₂       dx₁₂     ⎦"
      ]
     },
     "execution_count": 1,
     "metadata": {},
     "output_type": "execute_result"
    }
   ],
   "source": [
    "#derive_by_array(Y#, X[1-1,2-1])\n",
    "derivMatrixByScalar = derive_by_array(Yfunc, X[1-1,2-1])\n",
    "\n",
    "derivMatrixByScalar.subs(funcArgsToElemD)\n",
    "\n"
   ]
  },
  {
   "cell_type": "markdown",
   "execution_count": 10,
   "metadata": {},
   "source": []
  }
 ],
 "metadata": {
  "jupytext": {
   "cell_metadata_filter": "title,-all"
  },
  "kernelspec": {
   "display_name": "pymatrix_env",
   "language": "python",
   "name": "pymatrix_env"
  },
  "language_info": {
   "codemirror_mode": {
    "name": "ipython",
    "version": 3
   },
   "file_extension": ".py",
   "mimetype": "text/x-python",
   "name": "python",
   "nbconvert_exporter": "python",
   "pygments_lexer": "ipython3",
   "version": "3.7.8"
  }
 },
 "nbformat": 4,
 "nbformat_minor": 4
}
