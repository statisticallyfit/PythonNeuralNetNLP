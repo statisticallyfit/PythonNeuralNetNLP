{
 "cells": [
  {
   "cell_type": "code",
   "execution_count": 1,
   "metadata": {
    "execution": {
     "iopub.execute_input": "2020-10-04T19:00:08.572189Z",
     "iopub.status.busy": "2020-10-04T19:00:08.570099Z",
     "iopub.status.idle": "2020-10-04T19:00:09.302442Z",
     "shell.execute_reply": "2020-10-04T19:00:09.303790Z"
    },
    "title": "codecell"
   },
   "outputs": [],
   "source": [
    "from sympy import diff, sin, exp, symbols, Function, Matrix, MatrixSymbol, FunctionMatrix, derive_by_array\n",
    "\n",
    "\n",
    "\n"
   ]
  },
  {
   "cell_type": "code",
   "execution_count": 2,
   "metadata": {
    "execution": {
     "iopub.execute_input": "2020-10-04T19:00:09.310092Z",
     "iopub.status.busy": "2020-10-04T19:00:09.307530Z",
     "iopub.status.idle": "2020-10-04T19:00:09.342196Z",
     "shell.execute_reply": "2020-10-04T19:00:09.343395Z"
    },
    "lines_to_next_cell": 0,
    "title": "codecell"
   },
   "outputs": [
    {
     "data": {
      "text/latex": [
       "$\\displaystyle \\left[\\begin{matrix}x_{11} & x_{12} & x_{13}\\\\x_{21} & x_{22} & x_{23}\\\\x_{31} & x_{32} & x_{33}\\end{matrix}\\right]$"
      ],
      "text/plain": [
       "Matrix([\n",
       "[x_11, x_12, x_13],\n",
       "[x_21, x_22, x_23],\n",
       "[x_31, x_32, x_33]])"
      ]
     },
     "execution_count": 1,
     "metadata": {},
     "output_type": "execute_result"
    }
   ],
   "source": [
    "from sympy import Symbol\n",
    "\n",
    "def var(letter: str, i: int, j: int) -> Symbol:\n",
    "     letter_ij = Symbol('{}_{}{}'.format(letter, i+1, j+1), is_commutative=True)\n",
    "     return letter_ij\n",
    "\n",
    "def func(i, j):\n",
    "     y_ij = Function('y_{}{}'.format(i+1,j+1))(*X)\n",
    "     return y_ij\n",
    "\n",
    "\n",
    "n,m,p = 3,3,2\n",
    "\n",
    "X = Matrix(n, m, lambda i, j: var('x', i, j)); X"
   ]
  },
  {
   "cell_type": "code",
   "execution_count": 3,
   "metadata": {
    "execution": {
     "iopub.execute_input": "2020-10-04T19:00:09.351498Z",
     "iopub.status.busy": "2020-10-04T19:00:09.347617Z",
     "iopub.status.idle": "2020-10-04T19:00:09.371981Z",
     "shell.execute_reply": "2020-10-04T19:00:09.373297Z"
    },
    "title": "codecell"
   },
   "outputs": [
    {
     "data": {
      "text/latex": [
       "$\\displaystyle \\left[\\begin{matrix}\\operatorname{y_{11}}{\\left(x_{11},x_{12},x_{13},x_{21},x_{22},x_{23},x_{31},x_{32},x_{33} \\right)} & \\operatorname{y_{12}}{\\left(x_{11},x_{12},x_{13},x_{21},x_{22},x_{23},x_{31},x_{32},x_{33} \\right)}\\\\\\operatorname{y_{21}}{\\left(x_{11},x_{12},x_{13},x_{21},x_{22},x_{23},x_{31},x_{32},x_{33} \\right)} & \\operatorname{y_{22}}{\\left(x_{11},x_{12},x_{13},x_{21},x_{22},x_{23},x_{31},x_{32},x_{33} \\right)}\\\\\\operatorname{y_{31}}{\\left(x_{11},x_{12},x_{13},x_{21},x_{22},x_{23},x_{31},x_{32},x_{33} \\right)} & \\operatorname{y_{32}}{\\left(x_{11},x_{12},x_{13},x_{21},x_{22},x_{23},x_{31},x_{32},x_{33} \\right)}\\end{matrix}\\right]$"
      ],
      "text/plain": [
       "Matrix([\n",
       "[y_11(x_11, x_12, x_13, x_21, x_22, x_23, x_31, x_32, x_33), y_12(x_11, x_12, x_13, x_21, x_22, x_23, x_31, x_32, x_33)],\n",
       "[y_21(x_11, x_12, x_13, x_21, x_22, x_23, x_31, x_32, x_33), y_22(x_11, x_12, x_13, x_21, x_22, x_23, x_31, x_32, x_33)],\n",
       "[y_31(x_11, x_12, x_13, x_21, x_22, x_23, x_31, x_32, x_33), y_32(x_11, x_12, x_13, x_21, x_22, x_23, x_31, x_32, x_33)]])"
      ]
     },
     "execution_count": 1,
     "metadata": {},
     "output_type": "execute_result"
    }
   ],
   "source": [
    "#Y = MatrixSymbol(Function('y'), 2, 3); Matrix(Y)\n",
    "#M = MatrixSymbol('M',2,2); Matrix(M)\n",
    "#Y = Matrix(m, p, lambda i,j: Function('y_{}{}'.format(i+1,j+1))(X) ); Y\n",
    "\n",
    "Y = Matrix(m, p, lambda i,j:  func(i, j)); Y"
   ]
  },
  {
   "cell_type": "markdown",
   "execution_count": 4,
   "metadata": {
    "lines_to_next_cell": 0,
    "title": "markdown"
   },
   "source": [
    "### Derivative of Scalar Function of a Matrix with Respect to the Matrix\n",
    "Let $X = \\{ x_{ij} \\}$ be a matrix of order $m \\times n$ and let\n",
    "$$\n",
    "y = f(X)\n",
    "$$\n",
    "be a scalar function of $X$, so $y \\in \\mathbb{R}$ and $f: \\mathbb{R}^{m \\times n} \\rightarrow \\mathbb{R}$,\n",
    "Then we can define the **derivative of y with respect to $X$** as the following matrix of order $m \\times n$:\n",
    "$$\n",
    "\\Large\n",
    "\\begin{aligned}\n",
    "\\frac{\\partial y}{\\partial X} = \\begin{pmatrix}\n",
    "   \\frac{\\partial y}{\\partial x_{11}} & \\frac{\\partial y}{\\partial x_{12}} & ... & \\frac{\\partial y}{\\partial x_{1n}} \\\\\n",
    "   \\frac{\\partial y}{\\partial x_{21}} & \\frac{\\partial y}{\\partial x_{22}} & ... & \\frac{\\partial y}{\\partial x_{2n}} \\\\\n",
    "   \\vdots & \\vdots & & \\vdots \\\\\n",
    "   \\frac{\\partial y}{\\partial x_{m1}} & \\frac{\\partial y}{\\partial x_{m2}} & ... & \\frac{\\partial y}{\\partial x_{mn}} \\\\\n",
    "\\end{pmatrix}\n",
    "= \\Bigg\\{ \\frac{\\partial y}{\\partial x_{ij}} \\Bigg\\}\n",
    "\\end{aligned}\n",
    "$$\n",
    "The matrix $\\frac{\\partial y}{\\partial X}$ is called the **gradient matrix**."
   ]
  },
  {
   "cell_type": "code",
   "execution_count": 4,
   "metadata": {
    "execution": {
     "iopub.execute_input": "2020-10-04T19:00:09.378771Z",
     "iopub.status.busy": "2020-10-04T19:00:09.377119Z",
     "iopub.status.idle": "2020-10-04T19:00:09.425671Z",
     "shell.execute_reply": "2020-10-04T19:00:09.426874Z"
    },
    "title": "codecell"
   },
   "outputs": [
    {
     "data": {
      "text/latex": [
       "$\\displaystyle \\left[\\begin{matrix}\\frac{\\partial}{\\partial x_{11}} \\operatorname{y_{11}}{\\left(x_{11},x_{12},x_{13},x_{21},x_{22},x_{23},x_{31},x_{32},x_{33} \\right)} & \\frac{\\partial}{\\partial x_{12}} \\operatorname{y_{11}}{\\left(x_{11},x_{12},x_{13},x_{21},x_{22},x_{23},x_{31},x_{32},x_{33} \\right)} & \\frac{\\partial}{\\partial x_{13}} \\operatorname{y_{11}}{\\left(x_{11},x_{12},x_{13},x_{21},x_{22},x_{23},x_{31},x_{32},x_{33} \\right)}\\\\\\frac{\\partial}{\\partial x_{21}} \\operatorname{y_{11}}{\\left(x_{11},x_{12},x_{13},x_{21},x_{22},x_{23},x_{31},x_{32},x_{33} \\right)} & \\frac{\\partial}{\\partial x_{22}} \\operatorname{y_{11}}{\\left(x_{11},x_{12},x_{13},x_{21},x_{22},x_{23},x_{31},x_{32},x_{33} \\right)} & \\frac{\\partial}{\\partial x_{23}} \\operatorname{y_{11}}{\\left(x_{11},x_{12},x_{13},x_{21},x_{22},x_{23},x_{31},x_{32},x_{33} \\right)}\\\\\\frac{\\partial}{\\partial x_{31}} \\operatorname{y_{11}}{\\left(x_{11},x_{12},x_{13},x_{21},x_{22},x_{23},x_{31},x_{32},x_{33} \\right)} & \\frac{\\partial}{\\partial x_{32}} \\operatorname{y_{11}}{\\left(x_{11},x_{12},x_{13},x_{21},x_{22},x_{23},x_{31},x_{32},x_{33} \\right)} & \\frac{\\partial}{\\partial x_{33}} \\operatorname{y_{11}}{\\left(x_{11},x_{12},x_{13},x_{21},x_{22},x_{23},x_{31},x_{32},x_{33} \\right)}\\end{matrix}\\right]$"
      ],
      "text/plain": [
       "[[Derivative(y_11(x_11, x_12, x_13, x_21, x_22, x_23, x_31, x_32, x_33), x_11), Derivative(y_11(x_11, x_12, x_13, x_21, x_22, x_23, x_31, x_32, x_33), x_12), Derivative(y_11(x_11, x_12, x_13, x_21, x_22, x_23, x_31, x_32, x_33), x_13)], [Derivative(y_11(x_11, x_12, x_13, x_21, x_22, x_23, x_31, x_32, x_33), x_21), Derivative(y_11(x_11, x_12, x_13, x_21, x_22, x_23, x_31, x_32, x_33), x_22), Derivative(y_11(x_11, x_12, x_13, x_21, x_22, x_23, x_31, x_32, x_33), x_23)], [Derivative(y_11(x_11, x_12, x_13, x_21, x_22, x_23, x_31, x_32, x_33), x_31), Derivative(y_11(x_11, x_12, x_13, x_21, x_22, x_23, x_31, x_32, x_33), x_32), Derivative(y_11(x_11, x_12, x_13, x_21, x_22, x_23, x_31, x_32, x_33), x_33)]]"
      ]
     },
     "execution_count": 1,
     "metadata": {},
     "output_type": "execute_result"
    }
   ],
   "source": [
    "derive_by_array(Y[0,0], X)\n",
    "\n"
   ]
  },
  {
   "cell_type": "markdown",
   "execution_count": 5,
   "metadata": {
    "lines_to_next_cell": 0,
    "title": "markdown"
   },
   "source": [
    "### Derivative of Matrix With Respect to Scalar Element of Matrix\n",
    "Let $X = \\{ x_{ij} \\}$ be a matrix of order $m \\times n$ and let\n",
    "$$\n",
    "y = f(X)\n",
    "$$\n",
    "be a scalar function of $X$, so $y \\in \\mathbb{R}$ and $f: \\mathbb{R}^{m \\times n} \\rightarrow \\mathbb{R}$,\n",
    "\n",
    "Also let the matrix $Y = \\{y_{ij}(X) \\}$ be of size $p \\times q$.\n",
    "\n",
    "Then we can define the **derivative of $Y$ with respect to an element $x$ in $X$** as the following matrix of order $p \\times q$:\n",
    "$$\n",
    "\\Large\n",
    "\\begin{aligned}\n",
    "\\frac{\\partial Y}{\\partial x} = \\begin{pmatrix}\n",
    "   \\frac{\\partial Y}{\\partial x} & \\frac{\\partial Y}{\\partial x} & ... & \\frac{\\partial Y}{\\partial x} \\\\\n",
    "   \\frac{\\partial Y}{\\partial x} & \\frac{\\partial Y}{\\partial x} & ... & \\frac{\\partial Y}{\\partial x} \\\\\n",
    "   \\vdots & \\vdots & & \\vdots \\\\\n",
    "   \\frac{\\partial Y}{\\partial x} & \\frac{\\partial Y}{\\partial x} & ... & \\frac{\\partial Y}{\\partial x} \\\\\n",
    "\\end{pmatrix}\n",
    "= \\Bigg\\{ \\frac{\\partial y_{ij}}{\\partial x} \\Bigg\\}\n",
    "\\end{aligned}\n",
    "$$"
   ]
  },
  {
   "cell_type": "code",
   "execution_count": 5,
   "metadata": {
    "execution": {
     "iopub.execute_input": "2020-10-04T19:00:09.432141Z",
     "iopub.status.busy": "2020-10-04T19:00:09.430603Z",
     "iopub.status.idle": "2020-10-04T19:00:09.467024Z",
     "shell.execute_reply": "2020-10-04T19:00:09.468157Z"
    },
    "title": "codecell"
   },
   "outputs": [
    {
     "data": {
      "text/latex": [
       "$\\displaystyle \\left[\\begin{matrix}\\frac{\\partial}{\\partial x_{12}} \\operatorname{y_{11}}{\\left(x_{11},x_{12},x_{13},x_{21},x_{22},x_{23},x_{31},x_{32},x_{33} \\right)} & \\frac{\\partial}{\\partial x_{12}} \\operatorname{y_{12}}{\\left(x_{11},x_{12},x_{13},x_{21},x_{22},x_{23},x_{31},x_{32},x_{33} \\right)}\\\\\\frac{\\partial}{\\partial x_{12}} \\operatorname{y_{21}}{\\left(x_{11},x_{12},x_{13},x_{21},x_{22},x_{23},x_{31},x_{32},x_{33} \\right)} & \\frac{\\partial}{\\partial x_{12}} \\operatorname{y_{22}}{\\left(x_{11},x_{12},x_{13},x_{21},x_{22},x_{23},x_{31},x_{32},x_{33} \\right)}\\\\\\frac{\\partial}{\\partial x_{12}} \\operatorname{y_{31}}{\\left(x_{11},x_{12},x_{13},x_{21},x_{22},x_{23},x_{31},x_{32},x_{33} \\right)} & \\frac{\\partial}{\\partial x_{12}} \\operatorname{y_{32}}{\\left(x_{11},x_{12},x_{13},x_{21},x_{22},x_{23},x_{31},x_{32},x_{33} \\right)}\\end{matrix}\\right]$"
      ],
      "text/plain": [
       "[[Derivative(y_11(x_11, x_12, x_13, x_21, x_22, x_23, x_31, x_32, x_33), x_12), Derivative(y_12(x_11, x_12, x_13, x_21, x_22, x_23, x_31, x_32, x_33), x_12)], [Derivative(y_21(x_11, x_12, x_13, x_21, x_22, x_23, x_31, x_32, x_33), x_12), Derivative(y_22(x_11, x_12, x_13, x_21, x_22, x_23, x_31, x_32, x_33), x_12)], [Derivative(y_31(x_11, x_12, x_13, x_21, x_22, x_23, x_31, x_32, x_33), x_12), Derivative(y_32(x_11, x_12, x_13, x_21, x_22, x_23, x_31, x_32, x_33), x_12)]]"
      ]
     },
     "execution_count": 1,
     "metadata": {},
     "output_type": "execute_result"
    }
   ],
   "source": [
    "derive_by_array(Y, X[1-1,2-1])"
   ]
  }
 ],
 "metadata": {
  "jupytext": {
   "cell_metadata_filter": "title,-all"
  },
  "kernelspec": {
   "display_name": "pymatrix_env",
   "language": "python",
   "name": "pymatrix_env"
  },
  "language_info": {
   "codemirror_mode": {
    "name": "ipython",
    "version": 3
   },
   "file_extension": ".py",
   "mimetype": "text/x-python",
   "name": "python",
   "nbconvert_exporter": "python",
   "pygments_lexer": "ipython3",
   "version": "3.7.8"
  }
 },
 "nbformat": 4,
 "nbformat_minor": 4
}
