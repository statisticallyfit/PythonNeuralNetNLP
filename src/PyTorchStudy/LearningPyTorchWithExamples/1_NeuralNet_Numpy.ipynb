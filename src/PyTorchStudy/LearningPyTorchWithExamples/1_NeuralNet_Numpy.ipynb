{
 "cells": [
  {
   "cell_type": "code",
   "execution_count": 1,
   "metadata": {
    "collapsed": true
   },
   "outputs": [],
   "source": [
    "# SOURCE: http://seba1511.net/tutorials/beginner/pytorch_with_examples.html#annotations:E9HdvPynEemYwidYvwe30g"
   ]
  },
  {
   "cell_type": "code",
   "execution_count": 4,
   "metadata": {},
   "outputs": [],
   "source": [
    "import numpy as np "
   ]
  },
  {
   "cell_type": "code",
   "execution_count": 5,
   "metadata": {},
   "outputs": [],
   "source": [
    "# N = batch size\n",
    "# D_int = input dimension\n",
    "# H = hidden dimension\n",
    "# D_out = output dimension\n",
    "N, D_in, H, D_out = 64, 1000, 100, 10"
   ]
  },
  {
   "cell_type": "code",
   "execution_count": 6,
   "metadata": {},
   "outputs": [],
   "source": [
    "# Create random input and output data\n",
    "X = np.random.randn(N, D_in)\n",
    "Y = np.random.randn(N, D_out)"
   ]
  },
  {
   "cell_type": "code",
   "execution_count": 26,
   "metadata": {},
   "outputs": [],
   "source": [
    "# Randomly initialize weight matrices\n",
    "W1 = np.random.randn(D_in, H)\n",
    "W2 = np.random.randn(H, D_out)"
   ]
  },
  {
   "cell_type": "code",
   "execution_count": 27,
   "metadata": {},
   "outputs": [
    {
     "name": "stdout",
     "output_type": "stream",
     "text": [
      "100000\n(1000, 100)\n2\n[[-0.97715192 -2.88131144 -0.55665066 ...  1.15401246  1.03631132\n  -0.06544656]\n [-0.09563685 -0.6043792  -0.77961975 ...  0.93635221  0.16211923\n   0.41793995]\n [ 0.17024296 -0.44727355 -0.57248143 ... -0.3375605  -0.74085993\n   0.04636279]\n ...\n [ 1.06222645 -0.52530015  0.05445713 ...  0.04323961  0.77899456\n   0.97769997]\n [-0.38986548  0.11878066  1.01837989 ... -0.3681384  -1.95292468\n  -0.59109922]\n [ 1.00601107  0.79283641  0.40232939 ... -0.28800349  0.41720622\n   0.65545669]]\n"
     ]
    }
   ],
   "source": [
    "print(W1.size)\n",
    "print(W1.shape)\n",
    "print(W1.ndim)\n",
    "\n",
    "print(W1)\n"
   ]
  },
  {
   "cell_type": "code",
   "execution_count": 28,
   "metadata": {},
   "outputs": [
    {
     "name": "stdout",
     "output_type": "stream",
     "text": [
      "1000\n(100, 10)\n2\n"
     ]
    }
   ],
   "source": [
    "print(W2.size)\n",
    "print(W2.shape)\n",
    "print(W2.ndim)\n",
    "\n",
    "#print(W2)\n"
   ]
  },
  {
   "cell_type": "code",
   "execution_count": 29,
   "metadata": {},
   "outputs": [
    {
     "name": "stdout",
     "output_type": "stream",
     "text": [
      "iter =  0 ; loss =  34481216.849029094\n"
     ]
    },
    {
     "name": "stdout",
     "output_type": "stream",
     "text": [
      "iter =  50 ; loss =  14120.090733839746\n"
     ]
    },
    {
     "name": "stdout",
     "output_type": "stream",
     "text": [
      "iter =  100 ; loss =  584.3255874496194\niter =  150 ; loss =  39.50614340182294\n"
     ]
    },
    {
     "name": "stdout",
     "output_type": "stream",
     "text": [
      "iter =  200 ; loss =  3.2136160801548597\niter =  250 ; loss =  0.284333425557712\n"
     ]
    },
    {
     "name": "stdout",
     "output_type": "stream",
     "text": [
      "iter =  300 ; loss =  0.026318500213249968\niter =  350 ; loss =  0.002506662570647806\niter =  400 ; loss =  0.00024361964774208513\niter =  450 ; loss =  2.4044694780965686e-05\n"
     ]
    }
   ],
   "source": [
    "learningRate = 1e-6\n",
    "NUM_ITER = 500\n",
    "\n",
    "for t in range(NUM_ITER):\n",
    "    # Forward pass: compute predicted outputs y\n",
    "    h = X.dot(W1) # activation for hidden layer \n",
    "    hRELU = np.maximum(h, 0)\n",
    "    yPred = hRELU.dot(W2) # activation for output layer\n",
    "    \n",
    "    # Compute and print loss\n",
    "    loss = np.square(yPred - Y).sum()\n",
    "    if t % 50 == 0:\n",
    "        print(\"iter = \", t, \"; loss = \", loss)\n",
    "    \n",
    "    # Backprop to compute gradients of W1, W2 with \n",
    "    #  respect to loss (objective function)\n",
    "    gradYPred = 2.0 * (yPred - Y)\n",
    "    gradW2 = hRELU.T.dot(gradYPred)\n",
    "    gradHiddenRELU = gradYPred.dot(W2.T)\n",
    "    gradH = gradHiddenRELU.copy()\n",
    "    gradH[h < 0] = 0\n",
    "    gradW1 = X.T.dot(gradH)\n",
    "    \n",
    "    # Learning rule: Update weights\n",
    "    W1 -= learningRate * gradW1\n",
    "    W2 -= learningRate * gradW2 \n",
    "    "
   ]
  },
  {
   "cell_type": "code",
   "execution_count": 2,
   "metadata": {},
   "outputs": [],
   "source": []
  },
  {
   "cell_type": "code",
   "execution_count": 2,
   "metadata": {},
   "outputs": [],
   "source": []
  },
  {
   "cell_type": "code",
   "execution_count": null,
   "metadata": {},
   "outputs": [],
   "source": []
  }
 ],
 "metadata": {
  "kernelspec": {
   "display_name": "Python 2",
   "language": "python",
   "name": "python2"
  },
  "language_info": {
   "codemirror_mode": {
    "name": "ipython",
    "version": 2
   },
   "file_extension": ".py",
   "mimetype": "text/x-python",
   "name": "python",
   "nbconvert_exporter": "python",
   "pygments_lexer": "ipython2",
   "version": "2.7.6"
  }
 },
 "nbformat": 4,
 "nbformat_minor": 0
}
