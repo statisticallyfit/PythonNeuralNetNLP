{
 "cells": [
  {
   "cell_type": "markdown",
   "metadata": {},
   "source": [
    "SOURCE: http://seba1511.net/tutorials/beginner/pytorch_with_examples.html#annotations:E9HdvPynEemYwidYvwe30g"
   ]
  },
  {
   "cell_type": "markdown",
   "metadata": {},
   "source": [
    "Up to this point we have updated the weights of our models by manually \n",
    "mutating the .data member for Variables holding learnable parameters. \n",
    "This is not a huge burden for simple optimization algorithms like stochastic \n",
    "gradient descent, but in practice we often train neural networks using more \n",
    "sophisticated optimizers like AdaGrad, RMSProp, Adam, etc."
   ]
  },
  {
   "cell_type": "code",
   "execution_count": 15,
   "metadata": {},
   "outputs": [],
   "source": [
    "import random \n",
    "import torch\n",
    "from torch.autograd import Variable "
   ]
  },
  {
   "cell_type": "code",
   "execution_count": 3,
   "metadata": {},
   "outputs": [],
   "source": [
    "# N = batch size\n",
    "# D_int = input dimension\n",
    "# H = hidden dimension\n",
    "# D_out = output dimension\n",
    "N, D_in, H, D_out = 64, 1000, 100, 10"
   ]
  },
  {
   "cell_type": "code",
   "execution_count": 4,
   "metadata": {},
   "outputs": [
    {
     "name": "stdout",
     "output_type": "stream",
     "text": [
      "tensor([[ 0.4982, -0.0304, -1.0053,  ...,  0.5441,  0.1433,  0.6231],\n        [-0.9197,  1.0919, -0.0601,  ..., -0.0545, -1.3559,  1.0987],\n        [ 0.9304, -2.2657, -0.1634,  ...,  1.8251, -0.8529, -1.2458],\n        ...,\n        [-0.0934,  1.6510, -0.9247,  ...,  1.3982,  1.1994, -0.7206],\n        [ 0.2294, -1.0295,  1.2909,  ..., -0.5983,  1.1539, -0.9727],\n        [ 1.8106, -0.0495,  0.2552,  ...,  1.0680, -0.5148, -0.0756]])\n"
     ]
    }
   ],
   "source": [
    "# Create placeholders for the input and target data; these will be filled\n",
    "# with real data when we execute the graph.\n",
    "X = Variable(torch.randn(N, D_in))\n",
    "Y = Variable(torch.randn(N, D_out), requires_grad=False)\n",
    "print(X)"
   ]
  },
  {
   "cell_type": "code",
   "execution_count": 16,
   "metadata": {},
   "outputs": [],
   "source": [
    "class DynamicNet(torch.nn.Module):\n",
    "    def __init__(self, D_in, H, D_out):\n",
    "        \"\"\"\n",
    "        In the constructor we construct three nn.Linear instances to use\n",
    "        in the forward pass. \n",
    "        :param D_in: \n",
    "        :param H: \n",
    "        :param D_out: \n",
    "        \"\"\"\n",
    "        super(DynamicNet, self).__init__()\n",
    "        self.inputLinear = torch.nn.Linear(D_in, H)\n",
    "        self.middleLinear = torch.nn.Linear(H, H)\n",
    "        self.outputLinear = torch.nn.Linear(H, D_out)\n",
    "        \n",
    "    def forward(self, X):\n",
    "        \"\"\"\n",
    "        For the forward pass of the model, we randomly choose either 0,1,2, or 3\n",
    "        and reuse the middle_linear Module that many times to compute the \n",
    "        hidden layer representations. \n",
    "        \n",
    "        Since each forward pass builds a dynamic computation graph, \n",
    "        we can use normal python control-flow operators (loops etc) when\n",
    "        defining the forward pass of the model. \n",
    "        \n",
    "        Safe to reuse the same Model many times when defining a computational\n",
    "        graph (improvement over Lua Torch)\n",
    "        \n",
    "        :param self: \n",
    "        :param X: N x I matrix of input data: has N of the I-dimensional \n",
    "        input vectors on the rows\n",
    "        :return: \n",
    "        \"\"\"\n",
    "        hiddenRELU = self.inputLinear(X).clamp(min = 0)\n",
    "        \n",
    "        for _ in range(random.randint(0, 3)):\n",
    "            hiddenRELU = self.middleLinear(hiddenRELU).clamp(min = 0)\n",
    "            \n",
    "        yPred = self.outputLinear(hiddenRELU)\n",
    "        \n",
    "        return yPred "
   ]
  },
  {
   "cell_type": "code",
   "execution_count": 17,
   "metadata": {},
   "outputs": [],
   "source": [
    "# Construct our model by instantiating the class defined above\n",
    "model = DynamicNet(D_in, H, D_out)"
   ]
  },
  {
   "cell_type": "code",
   "execution_count": 18,
   "metadata": {},
   "outputs": [
    {
     "name": "stdout",
     "output_type": "stream",
     "text": [
      "DynamicNet(\n  (inputLinear): Linear(in_features=1000, out_features=100, bias=True)\n  (middleLinear): Linear(in_features=100, out_features=100, bias=True)\n  (outputLinear): Linear(in_features=100, out_features=10, bias=True)\n)\n"
     ]
    }
   ],
   "source": [
    "print(model)"
   ]
  },
  {
   "cell_type": "code",
   "execution_count": 19,
   "metadata": {
    "lines_to_next_cell": 0.0
   },
   "outputs": [
    {
     "name": "stderr",
     "output_type": "stream",
     "text": [
      "/development/bin/python/conda3_ana/envs/pynlp_env/lib/python3.6/site-packages/ipykernel_launcher.py:21: UserWarning: invalid index of a 0-dim tensor. This will be an error in PyTorch 0.5. Use tensor.item() to convert a 0-dim tensor to a Python number\n"
     ]
    },
    {
     "name": "stdout",
     "output_type": "stream",
     "text": [
      "iter =  0 ; iter =  tensor(671.1199)\n"
     ]
    },
    {
     "name": "stdout",
     "output_type": "stream",
     "text": [
      "iter =  50 ; iter =  tensor(54.3738)\n"
     ]
    },
    {
     "name": "stdout",
     "output_type": "stream",
     "text": [
      "iter =  100 ; iter =  tensor(14.7922)\n"
     ]
    },
    {
     "name": "stdout",
     "output_type": "stream",
     "text": [
      "iter =  150 ; iter =  tensor(6.7499)\niter =  200 ; iter =  tensor(5.6436)\n"
     ]
    },
    {
     "name": "stdout",
     "output_type": "stream",
     "text": [
      "iter =  250 ; iter =  tensor(3.3773)\n"
     ]
    },
    {
     "name": "stdout",
     "output_type": "stream",
     "text": [
      "iter =  300 ; iter =  tensor(20.7784)\n"
     ]
    },
    {
     "name": "stdout",
     "output_type": "stream",
     "text": [
      "iter =  350 ; iter =  tensor(0.8784)\n"
     ]
    },
    {
     "name": "stdout",
     "output_type": "stream",
     "text": [
      "iter =  400 ; iter =  tensor(1.9417)\n"
     ]
    },
    {
     "name": "stdout",
     "output_type": "stream",
     "text": [
      "iter =  450 ; iter =  tensor(0.3471)\n"
     ]
    }
   ],
   "source": [
    "\n",
    "\n",
    "learningRate = 1e-4\n",
    "NUM_ITER = 500\n",
    "\n",
    "# The nn package contains definitions of commonly used loss functions\n",
    "# In this case we use Mean Squared Error (MSE)\n",
    "lossFunction = torch.nn.MSELoss(size_average=False)\n",
    "\n",
    "# Using the Adam optimizer\n",
    "optimizer = torch.optim.SGD(model.parameters(), lr = learningRate, \n",
    "                            momentum=0.9)\n",
    "# note: using momentum since training this strange model with SGD is hard\n",
    "\n",
    "for t in range(NUM_ITER):\n",
    "    # Forward pass: compute predicted y by passing x to the model. \n",
    "    yPred = model(X) # Variable type of output data\n",
    "    \n",
    "    # Compute and print loss. \n",
    "    loss = lossFunction(yPred, Y)\n",
    "\n",
    "    if t % 50 == 0:\n",
    "        print(\"iter = \", t, \"; iter = \", loss.data[0])\n",
    "    \n",
    "    # Zero gradients, do backward pass,a nd update the weights\n",
    "    optimizer.zero_grad()\n",
    "    loss.backward()\n",
    "    optimizer.step()\n"
   ]
  },
  {
   "cell_type": "code",
   "execution_count": 10,
   "metadata": {},
   "outputs": [],
   "source": []
  },
  {
   "cell_type": "code",
   "execution_count": null,
   "metadata": {},
   "outputs": [],
   "source": []
  },
  {
   "cell_type": "code",
   "execution_count": null,
   "metadata": {
    "lines_to_next_cell": 2.0
   },
   "outputs": [],
   "source": []
  }
 ],
 "metadata": {
  "kernelspec": {
   "display_name": "Python 2",
   "language": "python",
   "name": "python2"
  }
 },
 "nbformat": 4,
 "nbformat_minor": 2
}
