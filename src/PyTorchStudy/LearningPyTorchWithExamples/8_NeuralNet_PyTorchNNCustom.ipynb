{
 "cells": [
  {
   "cell_type": "markdown",
   "metadata": {},
   "source": [
    "SOURCE: http://seba1511.net/tutorials/beginner/pytorch_with_examples.html#annotations:E9HdvPynEemYwidYvwe30g"
   ]
  },
  {
   "cell_type": "markdown",
   "metadata": {},
   "source": [
    "Up to this point we have updated the weights of our models by manually \n",
    "mutating the .data member for Variables holding learnable parameters. \n",
    "This is not a huge burden for simple optimization algorithms like stochastic \n",
    "gradient descent, but in practice we often train neural networks using more \n",
    "sophisticated optimizers like AdaGrad, RMSProp, Adam, etc."
   ]
  },
  {
   "cell_type": "code",
   "execution_count": 2,
   "metadata": {},
   "outputs": [],
   "source": [
    "import torch\n",
    "from torch.autograd import Variable "
   ]
  },
  {
   "cell_type": "code",
   "execution_count": 3,
   "metadata": {},
   "outputs": [],
   "source": [
    "# N = batch size\n",
    "# D_int = input dimension\n",
    "# H = hidden dimension\n",
    "# D_out = output dimension\n",
    "N, D_in, H, D_out = 64, 1000, 100, 10"
   ]
  },
  {
   "cell_type": "code",
   "execution_count": 4,
   "metadata": {},
   "outputs": [
    {
     "name": "stdout",
     "output_type": "stream",
     "text": [
      "tensor([[-1.9821,  1.2998, -1.2432,  ...,  0.3471, -0.1869, -2.1496],\n        [ 1.1134, -1.7166,  1.1465,  ...,  0.8283, -0.1118, -0.1481],\n        [-1.5844, -1.0330, -1.6781,  ...,  0.2609,  0.7575,  0.4259],\n        ...,\n        [-0.5775, -2.6201,  1.1906,  ...,  0.5092, -1.0822, -0.9081],\n        [ 1.9886,  0.8149, -0.2275,  ...,  0.4871, -3.9406, -1.0719],\n        [-0.8647, -1.8757,  0.1472,  ..., -0.5207,  1.2549, -0.8986]])\n"
     ]
    }
   ],
   "source": [
    "# Create placeholders for the input and target data; these will be filled\n",
    "# with real data when we execute the graph.\n",
    "X = Variable(torch.randn(N, D_in))\n",
    "Y = Variable(torch.randn(N, D_out), requires_grad=False)\n",
    "print(X)"
   ]
  },
  {
   "cell_type": "code",
   "execution_count": 10,
   "metadata": {},
   "outputs": [],
   "source": [
    "class TwoLayerNet(torch.nn.Module):\n",
    "    def __init__(self, D_in, H, D_out):\n",
    "        \"\"\"\n",
    "        In the constructor we instantiate two nn.Linear modules and assign\n",
    "        them as member variables. \n",
    "        :param D_in: \n",
    "        :param H: \n",
    "        :param D_out: \n",
    "        \"\"\"\n",
    "        super(TwoLayerNet, self).__init__()\n",
    "        self.linear1 = torch.nn.Linear(D_in, H)\n",
    "        self.linear2 = torch.nn.Linear(H, D_out)\n",
    "        \n",
    "    def forward(self, X):\n",
    "        \"\"\"\n",
    "        In the forward function we accept a Variable of input data and \n",
    "        we must return a Variable of output data. We can use Modules defined\n",
    "        in the constructor as well as arbitrary operators on Variables. \n",
    "        :param self: \n",
    "        :param X: N x I matrix of input data: has N of the I-dimensional \n",
    "        input vectors on the rows\n",
    "        :return: \n",
    "        \"\"\"\n",
    "        hiddenRELU = self.linear1(X).clamp(min=0)\n",
    "        yPred = self.linear2(hiddenRELU)\n",
    "        return yPred "
   ]
  },
  {
   "cell_type": "code",
   "execution_count": 11,
   "metadata": {},
   "outputs": [],
   "source": [
    "# Construct our model by instantiating the class defined above\n",
    "model = TwoLayerNet(D_in, H, D_out)"
   ]
  },
  {
   "cell_type": "code",
   "execution_count": 12,
   "metadata": {},
   "outputs": [
    {
     "name": "stdout",
     "output_type": "stream",
     "text": [
      "TwoLayerNet(\n  (linear1): Linear(in_features=1000, out_features=100, bias=True)\n  (linear2): Linear(in_features=100, out_features=10, bias=True)\n)\n"
     ]
    }
   ],
   "source": [
    "print(model)"
   ]
  },
  {
   "cell_type": "code",
   "execution_count": 13,
   "metadata": {
    "lines_to_next_cell": 2.0
   },
   "outputs": [],
   "source": [
    "# The nn package contains definitions of commonly used loss functions\n",
    "# In this case we use Mean Squared Error (MSE)\n",
    "lossFunction = torch.nn.MSELoss(size_average=False)\n",
    "\n",
    "print(lossFunction) "
   ]
  },
  {
   "cell_type": "code",
   "execution_count": 14,
   "metadata": {
    "lines_to_next_cell": 0.0
   },
   "outputs": [
    {
     "name": "stderr",
     "output_type": "stream",
     "text": [
      "/development/bin/python/conda3_ana/envs/pynlp_env/lib/python3.6/site-packages/ipykernel_launcher.py:16: UserWarning: invalid index of a 0-dim tensor. This will be an error in PyTorch 0.5. Use tensor.item() to convert a 0-dim tensor to a Python number\n  app.launch_new_instance()\n"
     ]
    },
    {
     "name": "stdout",
     "output_type": "stream",
     "text": [
      "iter =  0 ; iter =  tensor(654.9244)\n"
     ]
    },
    {
     "name": "stdout",
     "output_type": "stream",
     "text": [
      "iter =  50 ; iter =  tensor(31.9283)\n"
     ]
    },
    {
     "name": "stdout",
     "output_type": "stream",
     "text": [
      "iter =  100 ; iter =  tensor(2.1200)\niter =  150 ; iter =  tensor(0.2173)"
     ]
    },
    {
     "name": "stdout",
     "output_type": "stream",
     "text": [
      "\n"
     ]
    },
    {
     "name": "stdout",
     "output_type": "stream",
     "text": [
      "iter =  200 ; iter =  tensor(0.0276)\niter =  250 ; iter =  tensor(0.0040)\n"
     ]
    },
    {
     "name": "stdout",
     "output_type": "stream",
     "text": [
      "iter =  300 ; iter =  tensor(0.0006)\niter =  350 ; iter =  tensor(0.0001)\n"
     ]
    },
    {
     "name": "stdout",
     "output_type": "stream",
     "text": [
      "iter =  400 ; iter =  tensor(0.0000)\niter =  450 ; iter =  tensor(3.2694e-06)\n"
     ]
    }
   ],
   "source": [
    "\n",
    "learningRate = 1e-4\n",
    "NUM_ITER = 500\n",
    "\n",
    "# Using the Adam optimizer\n",
    "optimizer = torch.optim.SGD(model.parameters(), lr = learningRate)\n",
    "\n",
    "for t in range(NUM_ITER):\n",
    "    # Forward pass: compute predicted y by passing x to the model. \n",
    "    yPred = model(X) # Variable type of output data\n",
    "    \n",
    "    # Compute and print loss. \n",
    "    loss = lossFunction(yPred, Y)\n",
    "    \n",
    "    \n",
    "    if t % 50 == 0:\n",
    "        print(\"iter = \", t, \"; iter = \", loss.data[0])\n",
    "    \n",
    "    # Before the backward pass, use the optimizer object to zero all the\n",
    "    # gradients for the variables it will update (the learnable weights\n",
    "    # of the model)\n",
    "    optimizer.zero_grad()\n",
    "    #model.zero_grad()\n",
    "    \n",
    "    # Backward pass: compute gradient of the loss with respect to all the \n",
    "    # learnable parameters of the model. \n",
    "    loss.backward()\n",
    "    \n",
    "    # Calling the step function on an Optimizer makes an update to its\n",
    "    # parameters\n",
    "    optimizer.step() \n",
    "    \n",
    "    \n",
    "    # Update the weights using gradient descent algo.\n",
    "    #for param in model.parameters():\n",
    "    #    param.data -= learningRate * param.grad.data \n"
   ]
  },
  {
   "cell_type": "code",
   "execution_count": 10,
   "metadata": {},
   "outputs": [],
   "source": []
  },
  {
   "cell_type": "code",
   "execution_count": null,
   "metadata": {},
   "outputs": [],
   "source": []
  },
  {
   "cell_type": "code",
   "execution_count": null,
   "metadata": {
    "lines_to_next_cell": 2.0
   },
   "outputs": [],
   "source": []
  }
 ],
 "metadata": {
  "kernelspec": {
   "display_name": "Python 2",
   "language": "python",
   "name": "python2"
  }
 },
 "nbformat": 4,
 "nbformat_minor": 2
}
