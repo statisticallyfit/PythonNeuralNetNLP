{
 "cells": [
  {
   "cell_type": "markdown",
   "metadata": {},
   "source": [
    "SOURCE: http://seba1511.net/tutorials/beginner/pytorch_with_examples.html#annotations:E9HdvPynEemYwidYvwe30g"
   ]
  },
  {
   "cell_type": "heading",
   "metadata": {},
   "level": 1,
   "source": [
    "Up to this point we have updated the weights of our models by manually \n",
    "mutating the .data member for Variables holding learnable parameters. \n",
    "This is not a huge burden for simple optimization algorithms like stochastic \n",
    "gradient descent, but in practice we often train neural networks using more \n",
    "sophisticated optimizers like AdaGrad, RMSProp, Adam, etc."
   ]
  },
  {
   "cell_type": "code",
   "execution_count": 1,
   "metadata": {},
   "outputs": [],
   "source": [
    "import torch\n",
    "from torch.autograd import Variable "
   ]
  },
  {
   "cell_type": "code",
   "execution_count": 2,
   "metadata": {},
   "outputs": [],
   "source": [
    "# N = batch size\n",
    "# D_int = input dimension\n",
    "# H = hidden dimension\n",
    "# D_out = output dimension\n",
    "N, D_in, H, D_out = 64, 1000, 100, 10"
   ]
  },
  {
   "cell_type": "code",
   "execution_count": 3,
   "metadata": {},
   "outputs": [
    {
     "name": "stdout",
     "output_type": "stream",
     "text": [
      "tensor([[ 0.7483,  1.8029, -1.5558,  ..., -1.6039,  0.5111,  1.6139],\n        [-1.4247,  1.1071, -2.5245,  ...,  0.3467, -1.3447,  0.4035],\n        [ 0.8062,  0.1142,  0.0766,  ...,  0.9742,  1.0919, -1.7502],\n        ...,\n        [ 0.1537,  0.7524,  0.9337,  ...,  0.2307,  0.0325,  0.3579],\n        [-0.8071, -0.1237, -0.2793,  ..., -2.1205, -0.2394,  0.7320],\n        [ 0.3878,  0.7689,  1.2398,  ..., -0.5109,  2.1228,  1.7780]])\n"
     ]
    }
   ],
   "source": [
    "# Create placeholders for the input and target data; these will be filled\n",
    "# with real data when we execute the graph.\n",
    "X = Variable(torch.randn(N, D_in))\n",
    "Y = Variable(torch.randn(N, D_out), requires_grad=False)\n",
    "print(X)"
   ]
  },
  {
   "cell_type": "code",
   "execution_count": 4,
   "metadata": {},
   "outputs": [
    {
     "name": "stdout",
     "output_type": "stream",
     "text": [
      "Sequential(\n  (0): Linear(in_features=1000, out_features=100, bias=True)\n  (1): ReLU()\n  (2): Linear(in_features=100, out_features=10, bias=True)\n)\n"
     ]
    }
   ],
   "source": [
    "# Use the nn package to define our model as a sequence of layers. \n",
    "# nn.Sequential is a Module which contains other Modules and applies\n",
    "# them in sequence to produce its output. \n",
    "# Each Linear Module computes output from input using a linear function, \n",
    "# and holds internal Variables for its weight and bias. \n",
    "model = torch.nn.Sequential(\n",
    "    torch.nn.Linear(D_in, H),\n",
    "    torch.nn.ReLU(),\n",
    "    torch.nn.Linear(H, D_out)\n",
    ")\n",
    "print(model)"
   ]
  },
  {
   "cell_type": "code",
   "execution_count": 5,
   "metadata": {
    "lines_to_next_cell": 2.0
   },
   "outputs": [
    {
     "name": "stdout",
     "output_type": "stream",
     "text": [
      "MSELoss()\n"
     ]
    },
    {
     "name": "stderr",
     "output_type": "stream",
     "text": [
      "/development/bin/python/conda3_ana/envs/pynlp_env/lib/python3.6/site-packages/torch/nn/functional.py:52: UserWarning: size_average and reduce args will be deprecated, please use reduction='sum' instead.\n  warnings.warn(warning.format(ret))\n"
     ]
    }
   ],
   "source": [
    "# The nn package contains definitions of commonly used loss functions\n",
    "# In this case we use Mean Squared Error (MSE)\n",
    "lossFunction = torch.nn.MSELoss(size_average=False)\n",
    "\n",
    "print(lossFunction) "
   ]
  },
  {
   "cell_type": "code",
   "execution_count": 6,
   "metadata": {
    "lines_to_next_cell": 0.0
   },
   "outputs": [
    {
     "name": "stderr",
     "output_type": "stream",
     "text": [
      "/development/bin/python/conda3_ana/envs/pynlp_env/lib/python3.6/site-packages/ipykernel_launcher.py:16: UserWarning: invalid index of a 0-dim tensor. This will be an error in PyTorch 0.5. Use tensor.item() to convert a 0-dim tensor to a Python number\n  app.launch_new_instance()\n"
     ]
    },
    {
     "name": "stdout",
     "output_type": "stream",
     "text": [
      "iter =  0 ; iter =  tensor(637.9098)\n"
     ]
    },
    {
     "name": "stdout",
     "output_type": "stream",
     "text": [
      "iter =  50 ; iter =  tensor(190.0909)\n"
     ]
    },
    {
     "name": "stdout",
     "output_type": "stream",
     "text": [
      "iter =  100 ; iter =  tensor(45.4412)\n"
     ]
    },
    {
     "name": "stdout",
     "output_type": "stream",
     "text": [
      "iter =  150 ; iter =  tensor(6.7878)\n"
     ]
    },
    {
     "name": "stdout",
     "output_type": "stream",
     "text": [
      "iter =  200 ; iter =  tensor(0.9177)\niter =  250 ; iter =  tensor(0.1736)\n"
     ]
    },
    {
     "name": "stdout",
     "output_type": "stream",
     "text": [
      "iter =  300 ; iter =  tensor(0.0347)\n"
     ]
    },
    {
     "name": "stdout",
     "output_type": "stream",
     "text": [
      "iter =  350 ; iter =  tensor(0.0057)\niter =  400 ; iter =  tensor(0.0007)\n"
     ]
    },
    {
     "name": "stdout",
     "output_type": "stream",
     "text": [
      "iter =  450 ; iter =  tensor(0.0001)\n"
     ]
    }
   ],
   "source": [
    "\n",
    "learningRate = 1e-4\n",
    "NUM_ITER = 500\n",
    "\n",
    "# Using the Adam optimizer\n",
    "optimizer = torch.optim.Adam(model.parameters(), lr = learningRate)\n",
    "\n",
    "for t in range(NUM_ITER):\n",
    "    # Forward pass: compute predicted y by passing x to the model. \n",
    "    yPred = model(X) # Variable type of output data\n",
    "    \n",
    "    # Compute and print loss. \n",
    "    loss = lossFunction(yPred, Y)\n",
    "    \n",
    "    \n",
    "    if t % 50 == 0:\n",
    "        print(\"iter = \", t, \"; iter = \", loss.data[0])\n",
    "    \n",
    "    # Before the backward pass, use the optimizer object to zero all the\n",
    "    # gradients for the variables it will update (the learnable weights\n",
    "    # of the model)\n",
    "    optimizer.zero_grad()\n",
    "    #model.zero_grad()\n",
    "    \n",
    "    # Backward pass: compute gradient of the loss with respect to all the \n",
    "    # learnable parameters of the model. \n",
    "    loss.backward()\n",
    "    \n",
    "    # Calling the step function on an Optimizer makes an update to its\n",
    "    # parameters\n",
    "    optimizer.step() \n",
    "    \n",
    "    \n",
    "    # Update the weights using gradient descent algo.\n",
    "    #for param in model.parameters():\n",
    "    #    param.data -= learningRate * param.grad.data \n"
   ]
  },
  {
   "cell_type": "code",
   "execution_count": 10,
   "metadata": {},
   "outputs": [],
   "source": []
  },
  {
   "cell_type": "code",
   "execution_count": null,
   "metadata": {},
   "outputs": [],
   "source": []
  },
  {
   "cell_type": "code",
   "execution_count": null,
   "metadata": {
    "lines_to_next_cell": 2.0
   },
   "outputs": [],
   "source": []
  }
 ],
 "metadata": {
  "kernelspec": {
   "display_name": "Python 2",
   "language": "python",
   "name": "python2"
  }
 },
 "nbformat": 4,
 "nbformat_minor": 2
}
