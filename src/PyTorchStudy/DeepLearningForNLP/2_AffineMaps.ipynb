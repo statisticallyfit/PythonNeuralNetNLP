{
 "cells": [
  {
   "cell_type": "markdown",
   "metadata": {
    "collapsed": true
   },
   "source": [
    "Deep learning consists of composing linearities with non-linearities in clever ways. The introduction of non-linearities allows for powerful models. In this section, we will play with these core components, make up an objective function, and see how the model is trained."
   ]
  },
  {
   "cell_type": "markdown",
   "metadata": {},
   "source": [
    ""
   ]
  },
  {
   "cell_type": "code",
   "execution_count": 1,
   "metadata": {},
   "outputs": [
    {
     "data": {
      "text/plain": [
       "<torch._C.Generator at 0x7fecb3649eb0>"
      ]
     },
     "execution_count": 1,
     "metadata": {},
     "output_type": "execute_result"
    }
   ],
   "source": [
    "import torch\n",
    "import torch.autograd as autograd\n",
    "import torch.nn as nn\n",
    "import torch.nn.functional as F\n",
    "import torch.optim as optim\n",
    "\n",
    "torch.manual_seed(1)"
   ]
  },
  {
   "cell_type": "code",
   "execution_count": 2,
   "metadata": {},
   "outputs": [
    {
     "data": {
      "text/plain": [
       "Linear(in_features=5, out_features=3, bias=True)"
      ]
     },
     "execution_count": 2,
     "metadata": {},
     "output_type": "execute_result"
    }
   ],
   "source": [
    "lin = nn.Linear(5, 3) # maps from R^5 to R^3\n",
    "lin"
   ]
  },
  {
   "cell_type": "code",
   "execution_count": 4,
   "metadata": {},
   "outputs": [
    {
     "name": "stdout",
     "output_type": "stream",
     "text": [
      "tensor([[ 0.1755, -0.3268, -0.5069],\n        [-0.6602,  0.2260,  0.1089]], grad_fn=<ThAddmmBackward>)\n"
     ]
    }
   ],
   "source": [
    "data = autograd.Variable(torch.randn(2, 5))\n",
    "print(lin(data))"
   ]
  },
  {
   "cell_type": "code",
   "execution_count": 5,
   "metadata": {},
   "outputs": [
    {
     "name": "stdout",
     "output_type": "stream",
     "text": [
      "tensor([[-0.5404, -2.2102],\n        [ 2.1130, -0.0040]])\ntensor([[0.0000, 0.0000],\n        [2.1130, 0.0000]])\n"
     ]
    }
   ],
   "source": [
    "# In pytorch, most non-linearities are in torch.functional (we have it imported as F)\n",
    "# Note that non-linearites typically don't have parameters like affine maps do.\n",
    "# That is, they don't have weights that are updated during training.\n",
    "data = autograd.Variable(torch.randn(2, 2))\n",
    "print(data)\n",
    "print(F.relu(data))"
   ]
  },
  {
   "cell_type": "code",
   "execution_count": 8,
   "metadata": {},
   "outputs": [
    {
     "name": "stdout",
     "output_type": "stream",
     "text": [
      "tensor([ 2.2820, -1.2080,  1.1120,  2.2174, -0.4269])\ntensor([0.4264, 0.0130, 0.1324, 0.3998, 0.0284])\ntensor(1.)\ntensor([-0.8523, -4.3423, -2.0222, -0.9168, -3.5611])\n"
     ]
    },
    {
     "name": "stderr",
     "output_type": "stream",
     "text": [
      "/development/bin/python/conda3_ana/envs/pynlp_env/lib/python3.6/site-packages/ipykernel_launcher.py:4: UserWarning: Implicit dimension choice for softmax has been deprecated. Change the call to include dim=X as an argument.\n  after removing the cwd from sys.path.\n/development/bin/python/conda3_ana/envs/pynlp_env/lib/python3.6/site-packages/ipykernel_launcher.py:5: UserWarning: Implicit dimension choice for softmax has been deprecated. Change the call to include dim=X as an argument.\n  \"\"\"\n/development/bin/python/conda3_ana/envs/pynlp_env/lib/python3.6/site-packages/ipykernel_launcher.py:6: UserWarning: Implicit dimension choice for log_softmax has been deprecated. Change the call to include dim=X as an argument.\n  \n"
     ]
    }
   ],
   "source": [
    "# Softmax is also in torch.nn.functional\n",
    "data = autograd.Variable(torch.randn(5))\n",
    "print(data)\n",
    "print(F.softmax(data))\n",
    "print(F.softmax(data).sum())  # Sums to 1 because it is a distribution!\n",
    "print(F.log_softmax(data))  # theres also log_softmax"
   ]
  },
  {
   "cell_type": "code",
   "execution_count": 9,
   "metadata": {},
   "outputs": [
    {
     "name": "stdout",
     "output_type": "stream",
     "text": [
      "{'me': 0, 'gusta': 1, 'comer': 2, 'en': 3, 'la': 4, 'cafeteria': 5, 'Give': 6, 'it': 7, 'to': 8, 'No': 9, 'creo': 10, 'que': 11, 'sea': 12, 'una': 13, 'buena': 14, 'idea': 15, 'is': 16, 'not': 17, 'a': 18, 'good': 19, 'get': 20, 'lost': 21, 'at': 22, 'Yo': 23, 'si': 24, 'on': 25}\n"
     ]
    }
   ],
   "source": [
    "# Example: Logistic Regression bag of Words Classifier. \n",
    "\n",
    "data = [(\"me gusta comer en la cafeteria\".split(), \"SPANISH\"), \n",
    "        (\"Give it to me\".split(), \"ENGLISH\"), \n",
    "        (\"No creo que sea una buena idea\".split(), \"SPANISH\"),\n",
    "        (\"No it is not a good idea to get lost at sea\".split(), \"ENGLISH\")]\n",
    "\n",
    "testData = [(\"Yo creo que si\".split(), \"SPANISH\"),\n",
    "            (\"it is lost on me\".split(), \"ENGLISH\")]\n",
    "\n",
    "# mapping each word in the vocab to a unique integer which will be\n",
    "# its index into the bag of words vector\n",
    "wordToIx = {}\n",
    "\n",
    "for sent, _ in data + testData:\n",
    "    for word in sent: \n",
    "        if word not in wordToIx:\n",
    "            wordToIx[word] = len(wordToIx)\n",
    "            \n",
    "print(wordToIx)\n",
    "\n",
    "VOCAB_SIZE = len(wordToIx)\n",
    "NUM_LABELS = 2\n"
   ]
  },
  {
   "cell_type": "code",
   "execution_count": 11,
   "metadata": {},
   "outputs": [],
   "source": [
    "class BoWClassifier(nn.Module): # inheriting from nn.Module\n",
    "    \n",
    "    def __init__(self, numLabels, vocabSize):\n",
    "        # Calls the init function of nn.Module\n",
    "        super(BoWClassifier, self).__init__()\n",
    "\n",
    "        # Define the parameters that you will need.  In this case, we need A and b,\n",
    "        # the parameters of the affine mapping.\n",
    "        # nn.Linear() provides the affine map.\n",
    "        self.linear = nn.Linear(vocabSize, numLabels)\n",
    "        \n",
    "    def forward(self, bowVector):\n",
    "        # Pass the input through the linear layer, then pass\n",
    "        # that through log_softmax\n",
    "        return F.log_softmax(self.linear(bowVector))\n",
    "    \n",
    "    \n",
    "    \n",
    "def makeBowVector(sentence, wordToIx):\n",
    "    "
   ]
  },
  {
   "cell_type": "code",
   "execution_count": 13,
   "metadata": {},
   "outputs": [
    {
     "name": "stdout",
     "output_type": "stream",
     "text": [
      "Parameter containing:\ntensor([[ 0.1692,  0.1300,  0.1222,  0.1394,  0.1240,  0.0507, -0.1341, -0.1647,\n         -0.0899, -0.0228, -0.1202,  0.0717,  0.0607, -0.0444,  0.0754,  0.0634,\n          0.1197,  0.1321, -0.0664,  0.1916, -0.0227, -0.0067, -0.1851, -0.1262,\n         -0.1146, -0.0839],\n        [ 0.1394, -0.0641, -0.1466,  0.0755,  0.0628,  0.1270, -0.1015,  0.0425,\n         -0.0714, -0.0441, -0.1563, -0.0894, -0.0601,  0.0839,  0.0358,  0.0484,\n          0.1957,  0.1911,  0.1338,  0.0062, -0.1357,  0.1533, -0.0490, -0.0159,\n         -0.1690, -0.0387]], requires_grad=True)\nParameter containing:\ntensor([-0.1265,  0.1802], requires_grad=True)\n"
     ]
    }
   ],
   "source": [
    "model = BoWClassifier(NUM_LABELS, VOCAB_SIZE)\n",
    "\n",
    "\n",
    "# BoWClassifier (our module) will store knowledge of the nn.Linear's\n",
    "# parameters (? when you assign a component to a class variable in the\n",
    "# __init__ function of our module?)\n",
    "for param in model.parameters():\n",
    "    print(param) # parameters are: numlabels, and vocabsize\n",
    "    "
   ]
  },
  {
   "cell_type": "code",
   "execution_count": 14,
   "metadata": {},
   "outputs": [
    {
     "ename": "NameError",
     "evalue": "name 'make_bow_vector' is not defined",
     "traceback": [
      "\u001b[0;31m---------------------------------------------------------------------------\u001b[0m",
      "\u001b[0;31mNameError\u001b[0m                                 Traceback (most recent call last)",
      "\u001b[0;32m<ipython-input-14-d7a4e139667f>\u001b[0m in \u001b[0;36m<module>\u001b[0;34m\u001b[0m\n\u001b[1;32m      3\u001b[0m \u001b[0msample\u001b[0m \u001b[0;34m=\u001b[0m \u001b[0mdata\u001b[0m\u001b[0;34m[\u001b[0m\u001b[0;36m0\u001b[0m\u001b[0;34m]\u001b[0m\u001b[0;34m\u001b[0m\u001b[0;34m\u001b[0m\u001b[0m\n\u001b[1;32m      4\u001b[0m \u001b[0;34m\u001b[0m\u001b[0m\n\u001b[0;32m----> 5\u001b[0;31m \u001b[0mbowVector\u001b[0m \u001b[0;34m=\u001b[0m \u001b[0mmake_bow_vector\u001b[0m\u001b[0;34m(\u001b[0m\u001b[0msample\u001b[0m\u001b[0;34m[\u001b[0m\u001b[0;36m0\u001b[0m\u001b[0;34m]\u001b[0m\u001b[0;34m,\u001b[0m \u001b[0mwordToIx\u001b[0m\u001b[0;34m)\u001b[0m\u001b[0;34m\u001b[0m\u001b[0;34m\u001b[0m\u001b[0m\n\u001b[0m\u001b[1;32m      6\u001b[0m \u001b[0mlogProbabilities\u001b[0m \u001b[0;34m=\u001b[0m \u001b[0mmodel\u001b[0m\u001b[0;34m(\u001b[0m\u001b[0mautograd\u001b[0m\u001b[0;34m.\u001b[0m\u001b[0mVariable\u001b[0m\u001b[0;34m(\u001b[0m\u001b[0mbowVector\u001b[0m\u001b[0;34m)\u001b[0m\u001b[0;34m)\u001b[0m\u001b[0;34m\u001b[0m\u001b[0;34m\u001b[0m\u001b[0m\n\u001b[1;32m      7\u001b[0m \u001b[0mprint\u001b[0m\u001b[0;34m(\u001b[0m\u001b[0;34m\"bowVector: \"\u001b[0m\u001b[0;34m,\u001b[0m \u001b[0mbowVector\u001b[0m\u001b[0;34m)\u001b[0m\u001b[0;34m\u001b[0m\u001b[0;34m\u001b[0m\u001b[0m\n",
      "\u001b[0;31mNameError\u001b[0m: name 'make_bow_vector' is not defined"
     ],
     "output_type": "error"
    }
   ],
   "source": [
    "# To run the model, pass in a BoW vector but wrapped in an\n",
    "# autograd.Variable\n",
    "sample = data[0]\n",
    "\n",
    "bowVector = make_bow_vector(sample[0], wordToIx)\n",
    "logProbabilities = model(autograd.Variable(bowVector))\n",
    "print(\"bowVector: \", bowVector)\n",
    "print(\"logprobs: \", logProbabilities)"
   ]
  },
  {
   "cell_type": "code",
   "execution_count": null,
   "metadata": {},
   "outputs": [],
   "source": []
  },
  {
   "cell_type": "code",
   "execution_count": null,
   "metadata": {},
   "outputs": [],
   "source": []
  },
  {
   "cell_type": "code",
   "execution_count": null,
   "metadata": {},
   "outputs": [],
   "source": []
  },
  {
   "cell_type": "code",
   "execution_count": null,
   "metadata": {},
   "outputs": [],
   "source": []
  },
  {
   "cell_type": "code",
   "execution_count": null,
   "metadata": {},
   "outputs": [],
   "source": []
  },
  {
   "cell_type": "code",
   "execution_count": null,
   "metadata": {},
   "outputs": [],
   "source": []
  },
  {
   "cell_type": "code",
   "execution_count": null,
   "metadata": {},
   "outputs": [],
   "source": []
  },
  {
   "cell_type": "code",
   "execution_count": null,
   "metadata": {},
   "outputs": [],
   "source": []
  },
  {
   "cell_type": "code",
   "execution_count": null,
   "metadata": {},
   "outputs": [],
   "source": []
  }
 ],
 "metadata": {
  "kernelspec": {
   "display_name": "Python 2",
   "language": "python",
   "name": "python2"
  },
  "language_info": {
   "codemirror_mode": {
    "name": "ipython",
    "version": 2
   },
   "file_extension": ".py",
   "mimetype": "text/x-python",
   "name": "python",
   "nbconvert_exporter": "python",
   "pygments_lexer": "ipython2",
   "version": "2.7.6"
  }
 },
 "nbformat": 4,
 "nbformat_minor": 0
}
