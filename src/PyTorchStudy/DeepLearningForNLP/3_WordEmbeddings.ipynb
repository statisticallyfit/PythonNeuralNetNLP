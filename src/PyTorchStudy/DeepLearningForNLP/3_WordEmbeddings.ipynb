{
 "cells": [
  {
   "cell_type": "markdown",
   "metadata": {
    "collapsed": true
   },
   "source": [
    "Source:\n",
    "http://seba1511.net/tutorials/beginner/nlp/word_embeddings_tutorial.html#annotations:L7uIBvyoEem7yT_qOQZJ0A"
   ]
  },
  {
   "cell_type": "markdown",
   "metadata": {},
   "source": []
  },
  {
   "cell_type": "markdown",
   "metadata": {},
   "source": [
    "This is what we mean by a notion of similarity: we mean semantic similarity, not simply having similar orthographic representations. It is a technique to combat the sparsity of linguistic data, by connecting the dots between what we have seen and what we haven’t. This example of course relies on a fundamental linguistic assumption: that words appearing in similar contexts are related to each other semantically. This is called the distributional hypothesis."
   ]
  },
  {
   "cell_type": "markdown",
   "metadata": {},
   "source": [
    "### Getting Dense Word Embeddings\n",
    "\n",
    "https://hyp.is/rGnQWABrEequN0vinIOvdw/seba1511.net/tutorials/beginner/nlp/word_embeddings_tutorial.html"
   ]
  },
  {
   "cell_type": "code",
   "execution_count": 1,
   "metadata": {},
   "outputs": [
    {
     "data": {
      "text/plain": [
       "<torch._C.Generator at 0x7fb0ec96de90>"
      ]
     },
     "execution_count": 1,
     "metadata": {},
     "output_type": "execute_result"
    }
   ],
   "source": [
    "import torch\n",
    "import torch.autograd as autograd\n",
    "import torch.nn as nn\n",
    "import torch.nn.functional as F\n",
    "import torch.optim as optim\n",
    "\n",
    "torch.manual_seed(1)"
   ]
  },
  {
   "cell_type": "code",
   "execution_count": 6,
   "metadata": {},
   "outputs": [
    {
     "name": "stdout",
     "output_type": "stream",
     "text": [
      "tensor([[ 0.6614,  0.2669,  0.0617,  0.6213, -0.4519]], grad_fn=<EmbeddingBackward>)\n"
     ]
    }
   ],
   "source": [
    "## Small example of how to make a word embedding\n",
    "\n",
    "# Dictionary wordToIx is a mapping from words to indices\n",
    "\n",
    "## index = the unique index for a word in a word embedding\n",
    "\n",
    "## Embeddings are stored as: |V| x D matrix, where \n",
    "### D = dimensionality of the embeddings such that the word\n",
    "# assigned index i has its embedding stored in the ith\n",
    "# row of the matrix\n",
    "### |V| = dimension of the vocabulary V\n",
    "\n",
    "wordToIndex = {\"hello\":0, \"world\": 1}\n",
    "\n",
    "# 2 words in vocab, 5 dimensional embeddings\n",
    "embed = nn.Embedding(2, 5)\n",
    "\n",
    "# Getting the word embedding for the word \"hello\" using\n",
    "# the lookup dictionary's index 0\n",
    "lookupTensor = torch.LongTensor([wordToIndex[\"hello\"]])\n",
    "helloEmbedding = embed(autograd.Variable(lookupTensor))\n",
    "\n",
    "print(helloEmbedding)"
   ]
  },
  {
   "cell_type": "markdown",
   "metadata": {},
   "source": [
    "### Example: N-Gram Language Modelling"
   ]
  },
  {
   "cell_type": "markdown",
   "metadata": {},
   "source": [
    "$$\n",
    "P(w_i | w_{i-1}, w_{i-2}, ..., w_{i - n+1})\n",
    "\n",
    "where w_i is the ith word of the sequence.\n",
    "$$"
   ]
  },
  {
   "cell_type": "code",
   "execution_count": 9,
   "metadata": {},
   "outputs": [
    {
     "name": "stdout",
     "output_type": "stream",
     "text": [
      "[(['When', 'forty'], 'winters'), (['forty', 'winters'], 'shall'), (['winters', 'shall'], 'besiege')]\n\n [(['besiege', 'thy'], 'brow,'), (['thy', 'brow,'], 'And')]\n"
     ]
    }
   ],
   "source": [
    "CONTEXT_SIZE = 2\n",
    "EMBEDDING_DIM = 10\n",
    "\n",
    "# Using Shakespeare Sonnet 2\n",
    "testSentence = \"\"\"When forty winters shall besiege thy brow,\n",
    "And dig deep trenches in thy beauty's field,\n",
    "Thy youth's proud livery so gazed on now,\n",
    "Will be a totter'd weed of small worth held:\n",
    "Then being asked, where all thy beauty lies,\n",
    "Where all the treasure of thy lusty days;\n",
    "To say, within thine own deep sunken eyes,\n",
    "Were an all-eating shame, and thriftless praise.\n",
    "How much more praise deserv'd thy beauty's use,\n",
    "If thou couldst answer 'This fair child of mine\n",
    "Shall sum my count, and make my old excuse,'\n",
    "Proving his beauty by succession thine!\n",
    "This were to be new made when thou art old,\n",
    "And see thy blood warm when thou feel'st it cold.\"\"\".split()\n",
    "\n",
    "# NOTE: input above should be tokenized but we ignore that\n",
    "# for now and build a list of tuples. \n",
    "# Each tuple is ([word_i-2, word_i-1], targetWord)\n",
    "L = len(testSentence) - 2\n",
    "\n",
    "trigrams = [([testSentence[i], testSentence[i+1]], \n",
    "             testSentence[i+2]) for i in range(L)]\n",
    "\n",
    "# peeking into how the trigrams look like\n",
    "print(trigrams[0:3], \"\\n\")\n",
    "print(trigrams[4:6])"
   ]
  },
  {
   "cell_type": "code",
   "execution_count": 12,
   "metadata": {},
   "outputs": [
    {
     "name": "stdout",
     "output_type": "stream",
     "text": [
      "{'treasure', 'days;', 'mine', 'field,', 'his', 'thine', 'beauty', 'and', 'lies,', 'To', 'Where', 'see', 'forty', 'thine!', 'lusty', \"beauty's\", 'old,', 'Proving', 'thy', 'Will', 'own', 'How', 'much', \"'This\", 'of', \"deserv'd\", 'on', 'warm', 'sum', 'sunken', 'all', 'Then', 'it', 'in', 'shall', 'be', 'fair', 'Shall', 'an', 'brow,', 'count,', 'couldst', 'say,', 'deep', 'a', 'succession', 'the', 'blood', 'asked,', 'praise.', 'thriftless', 'cold.', 'small', 'old', \"totter'd\", 'This', 'made', 'praise', 'being', 'proud', \"excuse,'\", 'more', 'thou', 'Thy', 'where', 'so', 'worth', 'held:', 'Were', 'art', 'winters', \"youth's\", 'new', 'make', 'trenches', 'answer', \"feel'st\", 'to', 'within', 'dig', 'When', 'now,', 'when', 'all-eating', 'by', 'livery', 'child', 'weed', 'eyes,', 'gazed', 'If', 'shame,', 'were', 'use,', 'my', 'And', 'besiege'}\n"
     ]
    }
   ],
   "source": [
    "vocab = set(testSentence) # create the vocabulary from the sonnet\n",
    "print(vocab) # vocab is the unique words in the sonnet"
   ]
  },
  {
   "cell_type": "code",
   "execution_count": 18,
   "metadata": {},
   "outputs": [
    {
     "data": {
      "text/plain": [
       "[(0, 'treasure'),\n (1, 'days;'),\n (2, 'mine'),\n (3, 'field,'),\n (4, 'his'),\n (5, 'thine'),\n (6, 'beauty'),\n (7, 'and'),\n (8, 'lies,'),\n (9, 'To')]"
      ]
     },
     "execution_count": 18,
     "metadata": {},
     "output_type": "execute_result"
    }
   ],
   "source": [
    "# note: use enumerate below to support the for loop\n",
    "list(enumerate(vocab))[:10]"
   ]
  },
  {
   "cell_type": "code",
   "execution_count": 22,
   "metadata": {},
   "outputs": [
    {
     "data": {
      "text/plain": [
       "{'treasure': 0,\n 'days;': 1,\n 'mine': 2,\n 'field,': 3,\n 'his': 4,\n 'thine': 5,\n 'beauty': 6,\n 'and': 7,\n 'lies,': 8,\n 'To': 9,\n 'Where': 10,\n 'see': 11,\n 'forty': 12,\n 'thine!': 13,\n 'lusty': 14,\n \"beauty's\": 15,\n 'old,': 16,\n 'Proving': 17,\n 'thy': 18,\n 'Will': 19,\n 'own': 20,\n 'How': 21,\n 'much': 22,\n \"'This\": 23,\n 'of': 24,\n \"deserv'd\": 25,\n 'on': 26,\n 'warm': 27,\n 'sum': 28,\n 'sunken': 29,\n 'all': 30,\n 'Then': 31,\n 'it': 32,\n 'in': 33,\n 'shall': 34,\n 'be': 35,\n 'fair': 36,\n 'Shall': 37,\n 'an': 38,\n 'brow,': 39,\n 'count,': 40,\n 'couldst': 41,\n 'say,': 42,\n 'deep': 43,\n 'a': 44,\n 'succession': 45,\n 'the': 46,\n 'blood': 47,\n 'asked,': 48,\n 'praise.': 49,\n 'thriftless': 50,\n 'cold.': 51,\n 'small': 52,\n 'old': 53,\n \"totter'd\": 54,\n 'This': 55,\n 'made': 56,\n 'praise': 57,\n 'being': 58,\n 'proud': 59,\n \"excuse,'\": 60,\n 'more': 61,\n 'thou': 62,\n 'Thy': 63,\n 'where': 64,\n 'so': 65,\n 'worth': 66,\n 'held:': 67,\n 'Were': 68,\n 'art': 69,\n 'winters': 70,\n \"youth's\": 71,\n 'new': 72,\n 'make': 73,\n 'trenches': 74,\n 'answer': 75,\n \"feel'st\": 76,\n 'to': 77,\n 'within': 78,\n 'dig': 79,\n 'When': 80,\n 'now,': 81,\n 'when': 82,\n 'all-eating': 83,\n 'by': 84,\n 'livery': 85,\n 'child': 86,\n 'weed': 87,\n 'eyes,': 88,\n 'gazed': 89,\n 'If': 90,\n 'shame,': 91,\n 'were': 92,\n 'use,': 93,\n 'my': 94,\n 'And': 95,\n 'besiege': 96}"
      ]
     },
     "execution_count": 22,
     "metadata": {},
     "output_type": "execute_result"
    }
   ],
   "source": [
    "# Create the mapping from words to indices\n",
    "wordToIndex = {word: i for i, word in enumerate(vocab)}\n",
    "wordToIndex # just seems to invert the output of enumeration method"
   ]
  },
  {
   "cell_type": "code",
   "execution_count": 21,
   "metadata": {},
   "outputs": [],
   "source": [
    "class NGramLanguageModeler(nn.Module):\n",
    "    \n",
    "    def __init__(self, vocabSize, embeddingDim, contextSize):\n",
    "        super(NGramLanguageModeler, self).__init__()\n",
    "        self.embeddings = nn.Embedding(vocabSize, embeddingDim)\n",
    "        self.linear1 = nn.Linear(contextSize * embeddingDim, 128)\n",
    "        self.linear2 = nn.Linear(128, vocabSize)\n",
    "        \n",
    "    def forward(self, inputs):\n",
    "        embed = self.embeddings(inputs).view((1,-1))\n",
    "        hidden = F.relu(self.linear1(embed))\n",
    "        out = self.linear2(hidden)\n",
    "        logProbs = F.log_softmax(out)\n",
    "        \n",
    "        return logProbs\n",
    "        "
   ]
  },
  {
   "cell_type": "code",
   "execution_count": 23,
   "metadata": {},
   "outputs": [
    {
     "name": "stderr",
     "output_type": "stream",
     "text": [
      "/development/bin/python/conda3_ana/envs/pynlp_env/lib/python3.6/site-packages/ipykernel_launcher.py:13: UserWarning: Implicit dimension choice for log_softmax has been deprecated. Change the call to include dim=X as an argument.\n  del sys.path[0]\n"
     ]
    },
    {
     "name": "stdout",
     "output_type": "stream",
     "text": [
      "[tensor([525.7220]), tensor([523.0779]), tensor([520.4536]), tensor([517.8464]), tensor([515.2574]), tensor([512.6856]), tensor([510.1309]), tensor([507.5912]), tensor([505.0671]), tensor([502.5582])]\n"
     ]
    }
   ],
   "source": [
    "losses = []\n",
    "lossFunction = nn.NLLLoss()\n",
    "\n",
    "model = NGramLanguageModeler(len(vocab), EMBEDDING_DIM, CONTEXT_SIZE)\n",
    "optimizer = optim.SGD(model.parameters(), lr = 0.001)\n",
    "\n",
    "NUM_ITER = 10\n",
    "\n",
    "for epoch in range(NUM_ITER):\n",
    "    totalLoss = torch.Tensor([0]) # make tensor of [0]\n",
    "    \n",
    "    for context, target in trigrams: \n",
    "        \n",
    "        # Step 1: prepare the inputs to be passed into the\n",
    "        # model (turn the words into integer indices\n",
    "        # and wrap them in variables)\n",
    "        contextIndices = [wordToIndex[w] for w in context]\n",
    "        # Create a lookup variable tensor from the contextindices\n",
    "        contextVar = autograd.Variable(torch.LongTensor(contextIndices))\n",
    "        # Target words should be wrapped in a variable\n",
    "        targetVar = autograd.Variable(torch.LongTensor([wordToIndex[target]]))\n",
    "        \n",
    "        # Step 2: torch *accumulates* gradients so before passing\n",
    "        # in a new instance, we need to zero out the gradients\n",
    "        # from the old instance.\n",
    "        model.zero_grad()\n",
    "        \n",
    "        # Step 3: run the forward pass, getting log probabilities\n",
    "        # over the words\n",
    "        logProbs = model(contextVar)\n",
    "        \n",
    "        # Step 4: Compute the loss (target words should be wrapped\n",
    "        # in a variable)\n",
    "        loss = lossFunction(logProbs, targetVar)\n",
    "        \n",
    "        # Step 5: do backward pass and update the gradient\n",
    "        loss.backward()\n",
    "        optimizer.step()\n",
    "        \n",
    "        \n",
    "        totalLoss += loss.data\n",
    "        \n",
    "    losses.append(totalLoss)\n",
    "    \n",
    "    \n",
    "print(losses) # the loss decreased every iteration over the training data!\n"
   ]
  },
  {
   "cell_type": "code",
   "execution_count": null,
   "metadata": {},
   "outputs": [],
   "source": [
    "# TODO: CBOW EXAMPLE:\n",
    "# https://hyp.is/_77goACNEeqXXaetmVEPww/seba1511.net/tutorials/beginner/nlp/word_embeddings_tutorial.html"
   ]
  },
  {
   "cell_type": "code",
   "execution_count": null,
   "metadata": {},
   "outputs": [],
   "source": []
  },
  {
   "cell_type": "code",
   "execution_count": null,
   "metadata": {},
   "outputs": [],
   "source": []
  },
  {
   "cell_type": "code",
   "execution_count": null,
   "metadata": {},
   "outputs": [],
   "source": []
  }
 ],
 "metadata": {
  "kernelspec": {
   "display_name": "Python 2",
   "language": "python",
   "name": "python2"
  },
  "language_info": {
   "codemirror_mode": {
    "name": "ipython",
    "version": 2
   },
   "file_extension": ".py",
   "mimetype": "text/x-python",
   "name": "python",
   "nbconvert_exporter": "python",
   "pygments_lexer": "ipython2",
   "version": "2.7.6"
  }
 },
 "nbformat": 4,
 "nbformat_minor": 0
}
