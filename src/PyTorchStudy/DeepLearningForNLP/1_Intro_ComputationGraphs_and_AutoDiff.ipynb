{
 "cells": [
  {
   "cell_type": "markdown",
   "metadata": {
    "collapsed": true
   },
   "source": []
  },
  {
   "cell_type": "code",
   "execution_count": 1,
   "metadata": {},
   "outputs": [],
   "source": [
    "import torch\n",
    "import torch.autograd as autograd\n",
    "import torch.nn as nn\n",
    "import torch.nn.functional as F\n",
    "import torch.optim as optim"
   ]
  },
  {
   "cell_type": "code",
   "execution_count": 2,
   "metadata": {},
   "outputs": [
    {
     "name": "stdout",
     "output_type": "stream",
     "text": [
      "tensor([1., 2., 3.])\ntensor([5., 7., 9.])\n<ThAddBackward object at 0x7f6eab0ae320>\n"
     ]
    }
   ],
   "source": [
    "# Understanding Variables\n",
    "x = autograd.Variable(torch.Tensor([1,2,3]), requires_grad=True)\n",
    "\n",
    "# Can access data\n",
    "print(x.data)\n",
    "\n",
    "# Can do same operations with Tensors using Variables\n",
    "y = autograd.Variable(torch.Tensor([4,5,6]), requires_grad=True)\n",
    "\n",
    "z = x + y\n",
    "\n",
    "print(z.data)\n",
    "\n",
    "# Variables know what created them: \n",
    "print(z.grad_fn)"
   ]
  },
  {
   "cell_type": "code",
   "execution_count": 3,
   "metadata": {},
   "outputs": [
    {
     "name": "stdout",
     "output_type": "stream",
     "text": [
      "tensor(21., grad_fn=<SumBackward0>)\n<SumBackward0 object at 0x7f6eab0a2e80>\n"
     ]
    }
   ],
   "source": [
    "# Summing up all entries in z\n",
    "s = z.sum()\n",
    "print(s)\n",
    "print(s.grad_fn)"
   ]
  },
  {
   "cell_type": "code",
   "execution_count": 4,
   "metadata": {},
   "outputs": [
    {
     "name": "stdout",
     "output_type": "stream",
     "text": [
      "tensor([1., 1., 1.])\n"
     ]
    }
   ],
   "source": [
    "# Finding the gradient by doing the backprop algorithm: \n",
    "s.backward()\n",
    "print(x.grad) # stores the result in the .grad property"
   ]
  },
  {
   "cell_type": "code",
   "execution_count": 6,
   "metadata": {},
   "outputs": [
    {
     "name": "stdout",
     "output_type": "stream",
     "text": [
      "None\n"
     ]
    }
   ],
   "source": [
    "x = torch.randn((2,2))\n",
    "y = torch.randn((2,2))\n",
    "z = x + y # these are tensor types so backprop is not possible\n",
    "\n",
    "# only putting requires_grad = True will allow backprop to \n",
    "# happen. \n",
    "xVar = autograd.Variable(x)\n",
    "yVar = autograd.Variable(y)\n",
    "# Variables contain enough info to compute gradients\n",
    "zVar = xVar + yVar\n",
    "print(zVar.grad_fn)\n"
   ]
  },
  {
   "cell_type": "code",
   "execution_count": 11,
   "metadata": {},
   "outputs": [
    {
     "name": "stdout",
     "output_type": "stream",
     "text": [
      "tensor([[-1.2537,  1.0114],\n        [-0.6253, -2.9577]])\ntensor([[-1.2537,  1.0114],\n        [-0.6253, -2.9577]])\n"
     ]
    }
   ],
   "source": [
    "# Get the warpped tensor object out of var_z\n",
    "zVarData = zVar.data\n",
    "print(zVarData)\n",
    "\n",
    "# re-wrap the tensor in a new variable\n",
    "newZVar = autograd.Variable(zVarData)\n",
    "print(newZVar)\n",
    "\n",
    "# NOTE: newZVar does NOT have info to backprop to x and y\n",
    "# because we took out the ensor from zVar (using .data) and\n",
    "# the resulting tensor doesn't know how it was computed\n",
    "# Passing it into a new Variable also doesn't add info on\n",
    "# how it was computed. \n",
    "# If zVarData doesn't know how it was computed, neither will\n",
    "# the new zvar"
   ]
  },
  {
   "cell_type": "markdown",
   "metadata": {},
   "source": []
  }
 ],
 "metadata": {
  "kernelspec": {
   "display_name": "Python 2",
   "language": "python",
   "name": "python2"
  },
  "language_info": {
   "codemirror_mode": {
    "name": "ipython",
    "version": 2
   },
   "file_extension": ".py",
   "mimetype": "text/x-python",
   "name": "python",
   "nbconvert_exporter": "python",
   "pygments_lexer": "ipython2",
   "version": "2.7.6"
  }
 },
 "nbformat": 4,
 "nbformat_minor": 0
}
