{
 "cells": [
  {
   "cell_type": "markdown",
   "metadata": {
    "lines_to_next_cell": 0,
    "title": "markdown"
   },
   "source": [
    "#### Conda Environment: pytensorly_env (for most recent version of pytorch 1.4.0)\n",
    "\n",
    "#### SOURCES:\n",
    "[(experimental) Named Tensors Introduction)](https://pytorch.org/tutorials/intermediate/named_tensor_tutorial.html#annotations:VOh11nKBEeqlHi8b3rPBxg)\n",
    "$\\hspace{1em}$ | $\\hspace{1em}$\n",
    "[Named Tensors (API doc)](https://pytorch.org/docs/stable/named_tensor.html#torch.Tensor.align_to)\n",
    "$\\hspace{1em}$ | $\\hspace{1em}$\n",
    "[Named Tensor Operator Coverage](https://pytorch.org/docs/stable/name_inference.html)\n",
    "$\\hspace{1em}$ | $\\hspace{1em}$\n",
    "[PyTorch Tensors (API Doc)](https://pytorch.org/docs/stable/tensors.html)\n",
    "\n",
    "\n",
    "# Tutorial: Named Tensors and Named Inference in PyTorch\n",
    "### Definition: Named Tensor\n",
    "Named Tensors aim to make tensors easier to use by allowing users to associate explicit names with tensor dimensions. In most cases, operations that take dimension parameters will accept dimension names, avoiding the need to track dimensions by position. In addition, named tensors use names to automatically check that APIs are being used correctly at runtime, providing extra safety. Names can also be used to rearrange dimensions, for example, to support **“broadcasting by name” rather than “broadcasting by position”.**\n",
    "\n",
    "### Name Inference Rules\n",
    "1. [Keeps Input Names](https://pytorch.org/docs/stable/name_inference.html#keeps-input-names)\n",
    "2. [Removes Dimensions](https://pytorch.org/docs/stable/name_inference.html#removes-dimensions)\n",
    "3. [Unifies Names from Inputs](https://pytorch.org/docs/stable/name_inference.html#unifies-names-from-inputs)\n",
    "4. [Permutes Dimensions](https://pytorch.org/docs/stable/name_inference.html#permutes-dimensions)\n",
    "5. [Contracts away Dims](https://pytorch.org/docs/stable/name_inference.html#contracts-away-dims)\n",
    "6. [Factory Functions Take Names](https://pytorch.org/docs/stable/name_inference.html#factory-functions)\n",
    "7. [Out Function and In-Place Variant Rules](https://pytorch.org/docs/stable/name_inference.html#out-function-and-in-place-variants)\n",
    "\n",
    "#### Workaround for Operations Not Supported by Named Tensors:\n",
    "As a workaround, drop names via `tensor = tensor.rename(None)` before using any function that does not yet support named tensors.\n",
    "\n",
    "### Currently Supported:\n",
    "* [named tensors operator coverage](https://pytorch.org/docs/stable/name_inference.html#name-inference-reference-doc)\n",
    "\n",
    "### Goal of Tutorial:\n",
    "This tutorial is intended as a guide to the functionality that will be included with the 1.3 launch. By the end of it, you will be able to:\n",
    "\n",
    "1. Create Tensors with named dimensions, as well as remove or rename those dimensions.\n",
    "2. Understand the basics of how operations propagate dimension names.\n",
    "3. See how naming dimensions enables clearer code in two key areas:\n",
    "      * Broadcasting operations\n",
    "      * Flattening and unflattening dimensions\n",
    "4. Put these ideas into practice by writing a multi-head attention module using named tensors.\n",
    "\n",
    "### Basics: Named Dimensions\n",
    "PyTorch allows `Tensor`s to have named dimensions; factory functions take a new *names* argument that associates a name with each dimension. This works with most factory functions such as: `tensor, empty, ones, zeros, randn, rand`. Here we construct a `Tensor` with names:"
   ]
  },
  {
   "cell_type": "code",
   "execution_count": 1,
   "metadata": {
    "lines_to_next_cell": 0,
    "title": "codecell"
   },
   "outputs": [
    {
     "name": "stderr",
     "output_type": "stream",
     "text": [
      "/tmp/pip-req-build-808afw3c/c10/core/TensorImpl.h:845: UserWarning: Named tensors and all their associated APIs are an experimental feature and subject to change. Please do not use them for anything important until they are released as stable.\n"
     ]
    },
    {
     "data": {
      "text/plain": [
       "tensor([[[[-0.1385,  1.6887,  0.8455],\n",
       "          [ 0.3446, -1.6485, -0.1019]],\n",
       "\n",
       "         [[ 2.4281,  0.1821, -1.0656],\n",
       "          [ 0.3829,  0.8461,  0.4466]]]], names=('N', 'C', 'H', 'W'))"
      ]
     },
     "execution_count": 1,
     "metadata": {},
     "output_type": "execute_result"
    }
   ],
   "source": [
    "import torch\n",
    "import torch.tensor as Tensor\n",
    "from typing import *\n",
    "\n",
    "tensor: Tensor = torch.randn(1, 2, 2, 3, names = ('N', 'C', 'H', 'W'))\n",
    "assert tensor.names == ('N', 'C', 'H', 'W')\n",
    "\n",
    "tensor"
   ]
  },
  {
   "cell_type": "markdown",
   "metadata": {
    "lines_to_next_cell": 0,
    "title": "markdown"
   },
   "source": [
    "Unlike in the [original named tensors blogpost](http://nlp.seas.harvard.edu/NamedTensor), named dimensions are ordered: `tensor.names[i]` is the name of the `i`th dimension of `tensor`."
   ]
  },
  {
   "cell_type": "code",
   "execution_count": 2,
   "metadata": {
    "title": "codecell"
   },
   "outputs": [],
   "source": [
    "assert tensor.names[0] == 'N' and \\\n",
    "       tensor.names[1] == 'C' and \\\n",
    "       tensor.names[2] == 'H' and \\\n",
    "       tensor.names[3] == 'W'"
   ]
  },
  {
   "cell_type": "markdown",
   "metadata": {
    "lines_to_next_cell": 0,
    "title": "markdown"
   },
   "source": [
    "### Renaming `Tensor`'s dimensions:\n",
    "**Method 1:** Set the `.names` attribute directly, as equal to a list. This changes the name in-place."
   ]
  },
  {
   "cell_type": "code",
   "execution_count": 3,
   "metadata": {
    "lines_to_next_cell": 0,
    "title": "codecell"
   },
   "outputs": [
    {
     "data": {
      "text/plain": [
       "tensor([[[[-0.1385,  1.6887,  0.8455],\n",
       "          [ 0.3446, -1.6485, -0.1019]],\n",
       "\n",
       "         [[ 2.4281,  0.1821, -1.0656],\n",
       "          [ 0.3829,  0.8461,  0.4466]]]],\n",
       "       names=('batch', 'channel', 'width', 'height'))"
      ]
     },
     "execution_count": 3,
     "metadata": {},
     "output_type": "execute_result"
    }
   ],
   "source": [
    "tensor.names: List[str] = ['batch', 'channel', 'width', 'height']\n",
    "\n",
    "assert tensor.names == ('batch', 'channel', 'width', 'height')\n",
    "\n",
    "tensor"
   ]
  },
  {
   "cell_type": "markdown",
   "metadata": {
    "lines_to_next_cell": 0,
    "title": "markdown"
   },
   "source": [
    "**Method 2:** Specify new names, changing the names out-of-place"
   ]
  },
  {
   "cell_type": "code",
   "execution_count": 4,
   "metadata": {
    "lines_to_next_cell": 0,
    "title": "codecell"
   },
   "outputs": [
    {
     "data": {
      "text/plain": [
       "tensor([[[[-0.1385,  1.6887,  0.8455],\n",
       "          [ 0.3446, -1.6485, -0.1019]],\n",
       "\n",
       "         [[ 2.4281,  0.1821, -1.0656],\n",
       "          [ 0.3829,  0.8461,  0.4466]]]], names=('batch', 'C', 'W', 'H'))"
      ]
     },
     "execution_count": 4,
     "metadata": {},
     "output_type": "execute_result"
    }
   ],
   "source": [
    "tensor: Tensor = tensor.rename(channel = 'C', width = 'W', height = 'H')\n",
    "\n",
    "assert tensor.names == ('batch', 'C', 'W', 'H')\n",
    "\n",
    "tensor"
   ]
  },
  {
   "cell_type": "markdown",
   "metadata": {
    "lines_to_next_cell": 0,
    "title": "markdown"
   },
   "source": [
    "### Removing Names\n",
    "The preferred way to remove names is to call `tensor.rename(None)`"
   ]
  },
  {
   "cell_type": "code",
   "execution_count": 5,
   "metadata": {
    "lines_to_next_cell": 0,
    "title": "codecell"
   },
   "outputs": [
    {
     "data": {
      "text/plain": [
       "tensor([[[[-0.1385,  1.6887,  0.8455],\n",
       "          [ 0.3446, -1.6485, -0.1019]],\n",
       "\n",
       "         [[ 2.4281,  0.1821, -1.0656],\n",
       "          [ 0.3829,  0.8461,  0.4466]]]])"
      ]
     },
     "execution_count": 5,
     "metadata": {},
     "output_type": "execute_result"
    }
   ],
   "source": [
    "tensor: Tensor = tensor.rename(None)\n",
    "assert tensor.names == (None, None, None, None)\n",
    "\n",
    "tensor"
   ]
  },
  {
   "cell_type": "markdown",
   "metadata": {
    "lines_to_next_cell": 0,
    "title": "markdown"
   },
   "source": [
    "### About Unnamed Tensors\n",
    "Unnamed tensors (with no named dimensions) still work normally and do not have names in their `repr`."
   ]
  },
  {
   "cell_type": "code",
   "execution_count": 6,
   "metadata": {
    "lines_to_next_cell": 0,
    "title": "codecell"
   },
   "outputs": [
    {
     "data": {
      "text/plain": [
       "tensor([[[ 1.7115, -0.2589,  0.0125]],\n",
       "\n",
       "        [[ 0.3416, -0.3964,  1.0142]]])"
      ]
     },
     "execution_count": 6,
     "metadata": {},
     "output_type": "execute_result"
    }
   ],
   "source": [
    "unnamedTensor: Tensor = torch.randn(2, 1, 3)\n",
    "assert unnamedTensor.names == (None, None, None)\n",
    "\n",
    "unnamedTensor"
   ]
  },
  {
   "cell_type": "markdown",
   "metadata": {
    "lines_to_next_cell": 0,
    "title": "markdown"
   },
   "source": [
    "Named tensors (or partially named tensors) do not require that all dimensions are named. Some dimensions can be `None`."
   ]
  },
  {
   "cell_type": "code",
   "execution_count": 7,
   "metadata": {
    "title": "codecell"
   },
   "outputs": [
    {
     "data": {
      "text/plain": [
       "tensor([[[[-1.0814, -0.0129]]],\n",
       "\n",
       "\n",
       "        [[[-0.1742,  0.9564]]],\n",
       "\n",
       "\n",
       "        [[[ 1.7118,  0.7292]]]], names=('B', None, None, None))"
      ]
     },
     "execution_count": 7,
     "metadata": {},
     "output_type": "execute_result"
    }
   ],
   "source": [
    "partiallyNamedTensor: Tensor = torch.randn(3,1,1,2, names = ('B', None, None, None))\n",
    "assert partiallyNamedTensor.names == ('B', None, None, None)\n",
    "\n",
    "partiallyNamedTensor"
   ]
  },
  {
   "cell_type": "markdown",
   "metadata": {
    "lines_to_next_cell": 0,
    "title": "markdown"
   },
   "source": [
    "### Refining Dimensions\n",
    "Because named tensors can co-exist with unnamed tensors, we need a nice way to write named tensor-aware code that **works with both named and unnamed tensors.** The function [`tensor.refine_names(*names)`](https://pytorch.org/docs/stable/named_tensor.html#torch.Tensor.refine_names) works to refine dimensions and lift unnamed dims to named dims. Refining a dimension is like a \"rename\" but also with the following additional constraints:\n",
    "\n",
    "* A `None` dimension can be refined to have **any** name.\n",
    "* A named dimension can **only** be refined to have the same name (so a dimension named \"apples\" cannot be renamed to \"oranges\")"
   ]
  },
  {
   "cell_type": "code",
   "execution_count": 8,
   "metadata": {
    "lines_to_next_cell": 1,
    "title": "codecell"
   },
   "outputs": [],
   "source": [
    "tensor: Tensor = torch.randn(3,1,1,2)\n",
    "namedTensor: Tensor = tensor.refine_names('N', 'C', 'H', 'W')\n",
    "\n",
    "# Refine the last two dimensions to `H` and `W`\n",
    "partiallyNamedTensor: Tensor = tensor.refine_names(..., 'H', 'W')\n",
    "\n",
    "assert tensor.names == (None, None, None, None)\n",
    "assert namedTensor.names == ('N', 'C', 'H', 'W')\n",
    "assert partiallyNamedTensor.names == (None, None, 'H', 'W')"
   ]
  },
  {
   "cell_type": "code",
   "execution_count": 9,
   "metadata": {
    "lines_to_next_cell": 1,
    "title": "codecell"
   },
   "outputs": [],
   "source": [
    "# Function to catch the errors from the passed function argument\n",
    "def catchError(func):\n",
    "    try:\n",
    "        func() # execute the function passed as argument\n",
    "        # assert False # TODO what is the point of this? If the function works, this assertion fails, so it messes up the partiallyNamedTensor test below...\n",
    "    except RuntimeError as err:\n",
    "        err: str = str(err) # make the error into string form\n",
    "        if (len(err) > 180): # then shorten the printout\n",
    "            err = err[0:180] + \" ... (truncated)\"\n",
    "        print(f\"ERROR!: {err}\")"
   ]
  },
  {
   "cell_type": "markdown",
   "metadata": {
    "lines_to_next_cell": 0,
    "title": "markdown"
   },
   "source": [
    "Seeing how we cannot \"rename\" dimensions when refining."
   ]
  },
  {
   "cell_type": "code",
   "execution_count": 10,
   "metadata": {
    "lines_to_next_cell": 0,
    "title": "codecell"
   },
   "outputs": [
    {
     "name": "stdout",
     "output_type": "stream",
     "text": [
      "ERROR!: refine_names: cannot coerce Tensor['N', 'C', 'H', 'W'] to Tensor['N', 'C', 'H', 'width'] because 'W' is different from 'width' at index 3\n"
     ]
    }
   ],
   "source": [
    "catchError(lambda: namedTensor.refine_names('N', 'C', 'H', 'width'))"
   ]
  },
  {
   "cell_type": "markdown",
   "metadata": {
    "lines_to_next_cell": 0,
    "title": "markdown"
   },
   "source": [
    "Seeing how we can refine the unnamed dimensions, which is the purpose of the [`refine_names()`](https://pytorch.org/docs/stable/named_tensor.html#torch.Tensor.refine_names) function:"
   ]
  },
  {
   "cell_type": "code",
   "execution_count": 11,
   "metadata": {
    "title": "codecell"
   },
   "outputs": [
    {
     "data": {
      "text/plain": [
       "tensor([[[[-0.9862, -1.8336]]],\n",
       "\n",
       "\n",
       "        [[[-0.6554, -0.4065]]],\n",
       "\n",
       "\n",
       "        [[[-0.0721,  0.3997]]]], names=('batchSize', 'channelSize', 'H', 'W'))"
      ]
     },
     "execution_count": 11,
     "metadata": {},
     "output_type": "execute_result"
    }
   ],
   "source": [
    "tensorRefinedTwoDims = partiallyNamedTensor.refine_names('batchSize', 'channelSize', ...)\n",
    "\n",
    "catchError(lambda: tensorRefinedTwoDims)\n",
    "\n",
    "assert tensorRefinedTwoDims.names == ('batchSize', 'channelSize', 'H', 'W')\n",
    "\n",
    "tensorRefinedTwoDims"
   ]
  },
  {
   "cell_type": "markdown",
   "metadata": {
    "lines_to_next_cell": 0,
    "title": "markdown"
   },
   "source": [
    "### Accessors and Reduction\n",
    "One can use dimension names to refer to dimensions instead of the positional dimension. These operations also propagate names.\n",
    "* NOTE: Indexing (basic and advanced) has not yet been implemented."
   ]
  },
  {
   "cell_type": "code",
   "execution_count": 12,
   "metadata": {
    "title": "codecell"
   },
   "outputs": [],
   "source": [
    "assert torch.equal( namedTensor.softmax(dim = 'N'), namedTensor.softmax(dim = 0))\n",
    "assert torch.equal(namedTensor.sum(dim = 'C'), namedTensor.sum(dim = 1))\n",
    "\n",
    "# Slicing (get one image)\n",
    "assert torch.equal(namedTensor.select(dim = 0, index = 0), namedTensor.select(dim = 'N', index = 0))\n",
    "\n"
   ]
  },
  {
   "cell_type": "markdown",
   "metadata": {
    "lines_to_next_cell": 0,
    "title": "markdown"
   },
   "source": [
    "### Propagation of Names\n",
    "Most simple operations propagate names. The ultimate goal for named tensors is for all operations to propagate names in a reasonable, intuitive manner."
   ]
  },
  {
   "cell_type": "code",
   "execution_count": 13,
   "metadata": {
    "lines_to_next_cell": 2,
    "title": "codecell"
   },
   "outputs": [],
   "source": [
    "assert namedTensor.abs().names == ('N', 'C', 'H', 'W')\n",
    "\n",
    "assert namedTensor.transpose(0, 1).names == ('C', 'N', 'H', 'W')\n",
    "\n",
    "assert namedTensor.align_to('W', 'N', 'H', 'C').names == ('W', 'N', 'H', 'C')\n",
    "\n",
    "assert namedTensor.atan().names == ('N', 'C', 'H', 'W')\n",
    "\n",
    "assert namedTensor.bool().names == ('N', 'C', 'H', 'W')\n",
    "\n",
    "assert namedTensor.byte().names == ('N', 'C', 'H', 'W')\n",
    "\n",
    "# namedTensor.cholesky() # not supported\n",
    "\n",
    "assert namedTensor.conj().names == ('N', 'C', 'H', 'W')\n",
    "\n",
    "# Chunk result on dim = 0\n",
    "# TODO: pytorch library needs to update its methods so they do their operations according to NAMED DIMENSIONS, so we don't have to use the dimension numbers. Here would say dim = 'N' or something.\n",
    "c1, c2 = namedTensor.chunk(chunks = 2, dim = 0)\n",
    "assert c1.names == ('N', 'C', 'H', 'W')\n",
    "assert c2.names == ('N', 'C', 'H', 'W')\n",
    "assert c1.shape == (2, 1, 1, 2)\n",
    "assert c2.shape == (1, 1, 1, 2)\n",
    "assert namedTensor.shape == (3, 1, 1, 2)\n",
    "assert c1.shape[0] + c2.shape[0] == namedTensor.shape[0]\n",
    "\n",
    "# Another chunk example on a dim, where numChunks > dimSize\n",
    "t = namedTensor.chunk(chunks = 2, dim = 1)\n",
    "assert t[0].shape == (3,1,1,2)\n",
    "assert t[0].names == ('N', 'C', 'H', 'W')\n",
    "\n",
    "# Checking names of the .data information\n",
    "assert namedTensor.data.names == ('N', 'C', 'H', 'W')\n",
    "# namedTensor.det() # det() not supported with named tensors\n",
    "# namedTensor.argmin(dim = 1) # argmin not supported with named tensors\n",
    "# namedTensor.diag(diagonal = 0) # not supported\n",
    "# namedTensor.grad # does nothing\n",
    "\n",
    "# Check can refer to named dims instead of the numbers\n",
    "assert torch.equal(namedTensor.mean('N'), namedTensor.mean(dim = 0))\n",
    "# Checking mean result shape on all dimensions\n",
    "assert namedTensor.mean().names == ()\n",
    "assert namedTensor.mean('N').names == ('C', 'H', 'W')\n",
    "assert namedTensor.mean('C').names == ('N', 'H', 'W')\n",
    "assert namedTensor.mean('H').names == ('N', 'C', 'W')\n",
    "assert namedTensor.mean('W').names == ('N', 'C', 'H')\n",
    "\n",
    "# Checking min() shape on first dimensions, similar to mean()\n",
    "assert namedTensor.min('N').values.names == ('C', 'H', 'W')\n",
    "\n",
    "# namedTensor.permute(0,2,1) # permute() not supported with named tensors\n",
    "\n",
    "assert namedTensor.pow(exponent = 2).names == ('N', 'C', 'H', 'W')\n",
    "\n",
    "# Check can refer to named dimensions instead of number dims\n",
    "assert (namedTensor.softmax('C') == namedTensor.softmax(dim = 1)).all()\n",
    "# Checking softmax shape on all dimensions\n",
    "# assert namedTensor.softmax(dim = 0).names == ('N', 'C', 'H', 'W')\n",
    "assert namedTensor.softmax('N').names == ('N', 'C', 'H', 'W')\n",
    "assert namedTensor.softmax('C').names == ('N', 'C', 'H', 'W')\n",
    "assert namedTensor.softmax('H').names == ('N', 'C', 'H', 'W')\n",
    "assert namedTensor.softmax('W').names == ('N', 'C', 'H', 'W')\n",
    "\n",
    "\n",
    "# Checking what `squeeze()` does on different dimensions to the names:\n",
    "assert namedTensor.names == ('N', 'C', 'H', 'W')\n",
    "\n",
    "# Confirm can refer to named dims instead of numbers for squeeze()\n",
    "assert torch.equal(namedTensor.squeeze('N'), namedTensor.squeeze(0))\n",
    "\n",
    "# On dims 0, 3 there is no size 1-dim tensor to squeeze out, so shapes stay the same (however names get renamed to None unfortunately, they shouldn't!!)\n",
    "assert namedTensor.squeeze('N').names == namedTensor.squeeze('W').names == (None, None, None, None)\n",
    "assert namedTensor.squeeze('N').shape == namedTensor.squeeze('W').shape == namedTensor.shape == (3,1,1,2)\n",
    "\n",
    "# Now squeezing on either dim = 1 or dim = 2 we get a different shape because on those dims, the tensor of size 1 so the squeeze() method squeezes it out. The names get changed likewise.\n",
    "assert namedTensor.squeeze('C').names == ('N', 'H', 'W') and namedTensor.squeeze('C').shape == (3,1,2)\n",
    "assert namedTensor.squeeze('H').names == ('N', 'C', 'W') and namedTensor.squeeze('H').shape == (3,1,2)\n",
    "\n",
    "# NOTE: squeeze() just removes the 1-dim tensors everywhere\n",
    "t1: Tensor = torch.arange(2*5*3).reshape(2,3,5)\n",
    "t1.names = ['A', 'B', 'C']\n",
    "\n",
    "# No shape or name was changed for t1 because it has no tensors of dim size == 1\n",
    "assert t1.shape == t1.squeeze().shape == (2,3,5) and t1.names == t1.squeeze().names == ('A', 'B', 'C')\n",
    "# But namedTensor has ALL its dim-1 tensors removed after calling squeeze()\n",
    "assert namedTensor.names == ('N', 'C', 'H', 'W') \\\n",
    "       and namedTensor.shape == (3,1,1,2) \\\n",
    "       and namedTensor.squeeze().shape == (3,2) \\\n",
    "       and namedTensor.squeeze().names == ('N', 'W')\n",
    "\n",
    "# namedTensor.unsqueeze(dim = 0) # unsqueeze NOT supported with named tensors!\n",
    "\n",
    "# namedTensor.trace() # not supported with named tensors"
   ]
  },
  {
   "cell_type": "markdown",
   "metadata": {
    "lines_to_next_cell": 0,
    "title": "markdown"
   },
   "source": [
    "### Name Inference\n",
    "Names are propagated on operations in a two-step process called **name inference:**\n",
    "\n",
    "1. **Check names:** an operator may perform automatic checks at runtime that check that certain dimension names must match.\n",
    "2. **Propagate names:** name inference propagates output names to output tensors.\n",
    "\n",
    "Example of adding two $1$-dim tensors with no broadcasting."
   ]
  },
  {
   "cell_type": "code",
   "execution_count": 14,
   "metadata": {
    "lines_to_next_cell": 0,
    "title": "codecell"
   },
   "outputs": [],
   "source": [
    "x: Tensor = torch.randn(3, names = ('X', ))\n",
    "y: Tensor = torch.randn(3)\n",
    "z: Tensor = torch.randn(3, names = ('Z',))"
   ]
  },
  {
   "cell_type": "markdown",
   "metadata": {
    "lines_to_next_cell": 0,
    "title": "markdown"
   },
   "source": [
    "**Example: Check Names:** First check if the names of these two tensors *match*. Two names match if and only if they are equal (by string equality) or at least one is `None`."
   ]
  },
  {
   "cell_type": "code",
   "execution_count": 15,
   "metadata": {
    "title": "codecell"
   },
   "outputs": [
    {
     "name": "stdout",
     "output_type": "stream",
     "text": [
      "ERROR!: Error when attempting to broadcast dims ['X'] and dims ['Z']: dim 'X' and dim 'Z' are at the same position from the right but do not match.\n"
     ]
    }
   ],
   "source": [
    "catchError(lambda: x + z)"
   ]
  },
  {
   "cell_type": "markdown",
   "metadata": {
    "lines_to_next_cell": 0,
    "title": "markdown"
   },
   "source": [
    "**Example: Propagate names:** *unify* the two names by returning the most refined name of the two. With `x + y`, the name `X` is more refined than `None`."
   ]
  },
  {
   "cell_type": "code",
   "execution_count": 16,
   "metadata": {
    "lines_to_next_cell": 2,
    "title": "codecell"
   },
   "outputs": [],
   "source": [
    "assert (x + y).names == ('X',)"
   ]
  },
  {
   "cell_type": "markdown",
   "metadata": {
    "lines_to_next_cell": 0,
    "title": "markdown"
   },
   "source": [
    "### Name Inference (broadcasting)\n",
    "Named tensors do not change broadcasting behavior, they still broadcast by position. But when checking two dimensions if they can be broadcasted, PyTorch also checks that the names of those dimensions match. In other words PyTorch does broadcasting by checking for two things:\n",
    "\n",
    "1. Checks if the two dimensions can be broadcasted (structurally)\n",
    "2. Checks the names of those dimensions are equal (else it doesn't broadcast)\n",
    "\n",
    "This results in named tensors preventing unintended alignment during operations that broadcast.\n",
    "\n",
    "**Example: Apply a `perBatchScale` to the `tensor`:** Below, without `names` the `perBatchScale` tensor is aligned with the last dimension of `tensor`, which is `W` but an error is thrown since this doesn't match the name of the dimension `N` of the `perBatchScale` tensor. (Later: will talk about explicit broadcasting by names for how to align tensors by name).\n",
    "But what we wanted instead was to perform the operation by aligning `perBatchScale` with the batch dimension `N` of `tensor`."
   ]
  },
  {
   "cell_type": "code",
   "execution_count": 17,
   "metadata": {
    "lines_to_next_cell": 0,
    "title": "codecell"
   },
   "outputs": [
    {
     "name": "stdout",
     "output_type": "stream",
     "text": [
      "ERROR!: Error when attempting to broadcast dims ['N', 'C', 'H', 'W'] and dims ['N']: dim 'W' and dim 'N' are at the same position from the right but do not match.\n"
     ]
    }
   ],
   "source": [
    "tensor: Tensor = torch.randn(2,2,2,2, names = ('N', 'C', 'H', 'W'))\n",
    "perBatchScale: Tensor = torch.rand(2, names = ('N', ))\n",
    "catchError(lambda : tensor * perBatchScale)"
   ]
  },
  {
   "cell_type": "markdown",
   "metadata": {
    "lines_to_next_cell": 0,
    "title": "markdown"
   },
   "source": [
    "### Name Inference (for Matrix Multiply)\n",
    "The function [`torch.mm(A, B)`](https://pytorch.org/docs/stable/torch.html#torch.mm) performs dot (cross?) product between the second dim of `A` and the first dim of `B`, returning a tensor with the first dim of `A` and the second dim of `B`, returning a two-dim tensor with the first dim of `A` and the second dim of `B`. **Key point:** matrix multiplication does NOT check if the contracted dimensions (in this case `D` and `in`) have the same name."
   ]
  },
  {
   "cell_type": "code",
   "execution_count": 18,
   "metadata": {
    "title": "codecell"
   },
   "outputs": [],
   "source": [
    "markovStates: Tensor = torch.randn(128, 5, names = ('batch', 'D'))\n",
    "transitionMatrix: Tensor = torch.randn(5, 7, names = ('in', 'out'))\n",
    "\n",
    "# Apply one transition\n",
    "newState: Tensor = markovStates @ transitionMatrix\n",
    "\n",
    "# Asserting multiplication still allowed on `D` and `in` even though they are not the same name.\n",
    "assert newState.names == ('batch', 'out')\n",
    "assert newState.shape == (128, 7)"
   ]
  },
  {
   "cell_type": "markdown",
   "metadata": {
    "lines_to_next_cell": 0,
    "title": "markdown"
   },
   "source": [
    "### Explicit Broadcasting by Names\n",
    "Main complaints about working with multiple dimensions is the need to [`unsqueeze()`](https://pytorch.org/docs/stable/torch.html#torch.unsqueeze) (to introduce / add) dummy dimensions so that operations can occur. For the `perBatchScale` example, to multiply the unnamed versions of the tensors we would [`unsqueeze()`](https://pytorch.org/docs/stable/torch.html#torch.unsqueeze) as follows.\n",
    "\n",
    "**Old Method: [`unsqueeze()`](https://pytorch.org/docs/stable/torch.html#torch.unsqueeze)**"
   ]
  },
  {
   "cell_type": "code",
   "execution_count": 19,
   "metadata": {
    "title": "codecell"
   },
   "outputs": [
    {
     "name": "stdout",
     "output_type": "stream",
     "text": [
      "perBatchScale = tensor([0.1972, 0.8488])\n",
      "\n",
      "\n",
      "tensor = tensor([[[[ 0.2561,  0.9590],\n",
      "          [-0.5347,  0.1992]],\n",
      "\n",
      "         [[ 0.7747, -0.8571],\n",
      "          [-2.3241,  0.1443]]],\n",
      "\n",
      "\n",
      "        [[[-0.6847,  0.1652],\n",
      "          [ 0.2259, -0.7142]],\n",
      "\n",
      "         [[-0.1237, -0.1353],\n",
      "          [-1.0265,  1.2167]]]])\n"
     ]
    }
   ],
   "source": [
    "tensor_: Tensor = torch.randn(2,2,2,2) # N, C, H, W\n",
    "perBatchScale_: Tensor = torch.rand(2) # N\n",
    "\n",
    "assert tensor_.shape == (2,2,2,2)\n",
    "assert perBatchScale_.view(2,1,1,1).shape == (2,1,1,1)\n",
    "\n",
    "print(f\"perBatchScale = {perBatchScale_}\\n\\n\")\n",
    "print(f\"tensor = {tensor_}\")"
   ]
  },
  {
   "cell_type": "markdown",
   "metadata": {
    "lines_to_next_cell": 0,
    "title": "markdown"
   },
   "source": [
    "Showing that [`view()`](https://pytorch.org/docs/stable/tensors.html#torch.Tensor.view) and [`expand_as()`](https://pytorch.org/docs/stable/tensors.html#torch.Tensor.expand_as) are not the same:"
   ]
  },
  {
   "cell_type": "code",
   "execution_count": 20,
   "metadata": {
    "lines_to_next_cell": 0,
    "title": "codecell"
   },
   "outputs": [
    {
     "data": {
      "text/plain": [
       "tensor([[[[0.1972]]],\n",
       "\n",
       "\n",
       "        [[[0.8488]]]])"
      ]
     },
     "execution_count": 20,
     "metadata": {},
     "output_type": "execute_result"
    }
   ],
   "source": [
    "perBatchScale_.view(2,1,1,1)"
   ]
  },
  {
   "cell_type": "code",
   "execution_count": 21,
   "metadata": {
    "lines_to_next_cell": 0,
    "title": "codecell"
   },
   "outputs": [
    {
     "data": {
      "text/plain": [
       "tensor([[[[0.1972, 0.8488],\n",
       "          [0.1972, 0.8488]],\n",
       "\n",
       "         [[0.1972, 0.8488],\n",
       "          [0.1972, 0.8488]]],\n",
       "\n",
       "\n",
       "        [[[0.1972, 0.8488],\n",
       "          [0.1972, 0.8488]],\n",
       "\n",
       "         [[0.1972, 0.8488],\n",
       "          [0.1972, 0.8488]]]])"
      ]
     },
     "execution_count": 21,
     "metadata": {},
     "output_type": "execute_result"
    }
   ],
   "source": [
    "perBatchScale_.expand_as(tensor_)"
   ]
  },
  {
   "cell_type": "code",
   "execution_count": 22,
   "metadata": {
    "title": "codecell"
   },
   "outputs": [],
   "source": [
    "# Broadcasting so that can multiply along dimension `N`\n",
    "# NOTE: view is semantically the right choice\n",
    "correctResult_: Tensor = tensor_ * perBatchScale_.view(2,1,1,1) # N, C, H, W\n",
    "# NOTE: expand_as is semantically incorrect\n",
    "incorrectResult_: Tensor = tensor_ * perBatchScale_.expand_as(tensor_)\n",
    "\n",
    "assert correctResult_.shape == incorrectResult_.shape == (2,2,2,2)\n",
    "# Even though they have the same shape, they are not the same\n",
    "assert not torch.allclose(correctResult_, incorrectResult_)"
   ]
  },
  {
   "cell_type": "markdown",
   "metadata": {
    "lines_to_next_cell": 0,
    "title": "markdown"
   },
   "source": [
    "**New Method: [`align_as()`](https://pytorch.org/docs/stable/named_tensor.html#torch.Tensor.align_as) or [`align_to()`](https://pytorch.org/docs/stable/named_tensor.html#torch.Tensor.align_to)**\n",
    "\n",
    "We can make the multiplication operations safer (and easily agnostic to the number of dimensions) by using names. The new [`tensor.align_as(other)`](https://pytorch.org/docs/stable/named_tensor.html#torch.Tensor.align_as) operations permutes the dimensions of `tensor` to match the order specified in `other.names`, adding one-sized dimensions where appropriate (basically doing the work of [`permute()`](https://pytorch.org/docs/stable/tensors.html#torch.Tensor.permute) and [`view()`](https://pytorch.org/docs/stable/tensors.html#torch.Tensor.view)).\n",
    "\n",
    "* $\\color{orange}{\\text{WARNING:}}$ [`align_to()`](https://pytorch.org/docs/stable/named_tensor.html#torch.Tensor.align_to) and [`align_as()`]((https://pytorch.org/docs/stable/named_tensor.html#torch.Tensor.align_as)) are not necessarily doing the same work as [`view()`](https://pytorch.org/docs/stable/tensors.html#torch.Tensor.view). In the below example when some dimensions are missing and we need to fill them in with 1-dim tensors, then using [`view()`](https://pytorch.org/docs/stable/tensors.html#torch.Tensor.view) to fill them in results in the same tensor as using [`align_to()`](https://pytorch.org/docs/stable/named_tensor.html#torch.Tensor.align_to) or [`align_as()`]((https://pytorch.org/docs/stable/named_tensor.html#torch.Tensor.align_as)). But see below in `Manipulation Dimensions` that when permuting (not adding more) dimensions, [`view()`](https://pytorch.org/docs/stable/tensors.html#torch.Tensor.view) does not give the same result tensor as [`align_to()`](https://pytorch.org/docs/stable/named_tensor.html#torch.Tensor.align_to)."
   ]
  },
  {
   "cell_type": "code",
   "execution_count": 23,
   "metadata": {
    "title": "codecell"
   },
   "outputs": [
    {
     "data": {
      "text/plain": [
       "tensor([[[[0.1972]]],\n",
       "\n",
       "\n",
       "        [[[0.8488]]]], names=('N', 'C', 'H', 'W'))"
      ]
     },
     "execution_count": 23,
     "metadata": {},
     "output_type": "execute_result"
    }
   ],
   "source": [
    "tensor: Tensor = tensor_.refine_names('N', 'C', 'H', 'W')\n",
    "perBatchScale: Tensor = perBatchScale_.refine_names('N')\n",
    "\n",
    "assert tensor.names == ('N', 'C', 'H', 'W')\n",
    "assert perBatchScale.names == ('N',)\n",
    "\n",
    "# Check that view()'s effect on the tensor is the same as align_as()\n",
    "assert torch.equal(perBatchScale.align_as(tensor).rename(None), perBatchScale_.view(2,1,1,1))\n",
    "\n",
    "# Check that align_as() gives the resulting tensor the entire dimension names of the `tensor` we want to align as.\n",
    "assert perBatchScale.align_as(tensor).names == ('N', 'C', 'H', 'W')\n",
    "\n",
    "perBatchScale.align_as(tensor)"
   ]
  },
  {
   "cell_type": "markdown",
   "metadata": {
    "lines_to_next_cell": 0,
    "title": "markdown"
   },
   "source": [
    "Now do the calculation with [`align_as()`](https://pytorch.org/docs/stable/named_tensor.html#torch.Tensor.align_as) instead of [`view()`](https://pytorch.org/docs/stable/tensors.html#torch.Tensor.view):"
   ]
  },
  {
   "cell_type": "code",
   "execution_count": 24,
   "metadata": {
    "title": "codecell"
   },
   "outputs": [],
   "source": [
    "scaledResult: Tensor = tensor * perBatchScale.align_as(tensor)\n",
    "\n",
    "# Check scaled result gets the names:\n",
    "assert scaledResult.names == ('N', 'C', 'H', 'W')\n",
    "# Check the previous unnamed result is equal to the named one here:\n",
    "assert torch.equal(scaledResult.rename(None), correctResult_)\n",
    "# Another way to check:\n",
    "assert torch.equal(scaledResult, correctResult_.refine_names('N', 'C', 'H', 'W'))"
   ]
  },
  {
   "cell_type": "markdown",
   "metadata": {
    "lines_to_next_cell": 0,
    "title": "markdown"
   },
   "source": [
    "### [Explicit Alignment by Names](https://pytorch.org/docs/stable/named_tensor.html#explicit-alignment-by-names)\n",
    "Use [`align_as()`](https://pytorch.org/docs/stable/named_tensor.html#torch.Tensor.align_as) or [`align_to()`](https://pytorch.org/docs/stable/named_tensor.html#torch.Tensor.align_to) to align tensor dimensions by name to a specified ordering. Useful for doing broadcasting by names."
   ]
  },
  {
   "cell_type": "code",
   "execution_count": 25,
   "metadata": {
    "lines_to_next_cell": 1,
    "title": "codecell"
   },
   "outputs": [],
   "source": [
    "# This function is agnostic to dimension ordering of input, so long as it has a `C` dimension SOMEWHERE\n",
    "def scaleChannels(input: Tensor, scale: Tensor) -> Tensor:\n",
    "    scaleNamed: Tensor = scale.refine_names('C')\n",
    "    return input * scaleNamed.align_as(input)"
   ]
  },
  {
   "cell_type": "code",
   "execution_count": 26,
   "metadata": {
    "lines_to_next_cell": 2,
    "title": "codecell"
   },
   "outputs": [],
   "source": [
    "# Initializing the variables:\n",
    "B, H, C, W, D = 5, 4, 3, 2, 7 # C = num channels\n",
    "scale: Tensor = torch.randn(C, names = ('C',))\n",
    "scale_: Tensor = scale.rename(None)\n",
    "imgs: Tensor = torch.rand(B, H, W, C, names = ('B', 'H', 'W', 'C'))\n",
    "imgs_: Tensor = imgs.rename(None)\n",
    "moreImgs: Tensor = torch.rand(B, C, H, W, names = ('B', 'C', 'H', 'W'))\n",
    "moreImgs_: Tensor = moreImgs.rename(None)\n",
    "videos: Tensor = torch.randn(B, C, H, W, D, names = ('B', 'C', 'H', 'W', 'D'))\n",
    "videos_: Tensor = videos.rename(None)\n",
    "\n",
    "assert scale.shape == (C,) and scale.names == ('C',)\n",
    "\n",
    "# NOTE: when writing view_as result is not same as align_as when the tensors added are not each 1-dim\n",
    "assert scale.align_as(imgs).names == imgs.names\n",
    "assert scale.align_as(imgs).shape == (1,1,1,C)\n",
    "# scale_.view(imgs.shape) # assertion error\n",
    "# scale_.view_as(imgs).shape == (1,1,1,C) #RuntimeError: shape '[5, 4, 2, 3]' is invalid for input of size 3\n",
    "\n",
    "assert scale.align_as(moreImgs).shape == (1,C,1,1)\n",
    "assert scale.align_as(moreImgs).names == moreImgs.names\n",
    "\n",
    "assert scale.align_as(videos).shape == (1,C,1,1, 1)\n",
    "assert scale.align_as(videos).names == videos.names"
   ]
  },
  {
   "cell_type": "code",
   "execution_count": 27,
   "metadata": {
    "lines_to_next_cell": 0,
    "title": "codecell"
   },
   "outputs": [],
   "source": [
    "resImgs: Tensor = scaleChannels(input = imgs, scale = scale)\n",
    "assert resImgs.shape == (B, H, W, C)\n",
    "assert resImgs.names == imgs.names\n",
    "\n",
    "resMore: Tensor = scaleChannels(input = moreImgs, scale = scale)\n",
    "assert resMore.shape == (B, C, H, W)\n",
    "assert resMore.names == moreImgs.names\n",
    "\n",
    "resVideos: Tensor = scaleChannels(input = videos, scale = scale)\n",
    "assert resVideos.shape == (B, C, H, W, D)\n",
    "assert resVideos.names == videos.names"
   ]
  },
  {
   "cell_type": "markdown",
   "metadata": {
    "lines_to_next_cell": 0,
    "title": "markdown"
   },
   "source": [
    "### Flattening and Unflattening Dimensions by Names\n",
    "\n",
    "**Old Method: [`view()`](https://pytorch.org/docs/stable/tensors.html#torch.Tensor.view), [`reshape()`](https://pytorch.org/docs/stable/tensors.html#torch.Tensor.reshape), [`flatten()`](https://hyp.is/P03oZHQMEeqVWnehE0Axew/pytorch.org/docs/stable/named_tensor.html):**\n",
    "\n",
    "One common operation is flattening and unflattening dimensions. Right now, users perform this using either [`view()`](https://pytorch.org/docs/stable/tensors.html#torch.Tensor.view), [`reshape()`](https://pytorch.org/docs/stable/tensors.html#torch.Tensor.reshape), or [`flatten()`](https://hyp.is/P03oZHQMEeqVWnehE0Axew/pytorch.org/docs/stable/named_tensor.html). Use cases include flattening batch dimensions to send tensors into operators that are forced to take inputs with a certain number of dimensions (for instance `Conv2D` takes 4D input)"
   ]
  },
  {
   "cell_type": "code",
   "execution_count": null,
   "metadata": {
    "title": "codecell"
   },
   "outputs": [],
   "source": []
  },
  {
   "cell_type": "markdown",
   "metadata": {
    "lines_to_next_cell": 0,
    "title": "markdown"
   },
   "source": [
    "**New Method 1: [`flatten()`](https://hyp.is/P03oZHQMEeqVWnehE0Axew/pytorch.org/docs/stable/named_tensor.html):**\n",
    "\n",
    "To make the operations more semantically meaningful  than [`view()`](https://pytorch.org/docs/stable/tensors.html#torch.Tensor.view) and [`reshape()`](https://pytorch.org/docs/stable/tensors.html#torch.Tensor.reshape), we must introduce new [`tensor.unflatten(dim, namedshape)`](https://pytorch.org/docs/stable/named_tensor.html#torch.Tensor.unflatten) method and update [`flatten()`](https://hyp.is/P03oZHQMEeqVWnehE0Axew/pytorch.org/docs/stable/named_tensor.html) to work with names: [`tensor.flatten(dims, new_dim)`](https://hyp.is/P03oZHQMEeqVWnehE0Axew/pytorch.org/docs/stable/named_tensor.html)\n",
    "\n",
    "[`flatten()`](https://hyp.is/P03oZHQMEeqVWnehE0Axew/pytorch.org/docs/stable/named_tensor.html) can only flatten adjacent dimensions but also works on non-contiguous dimensions (in memory)."
   ]
  },
  {
   "cell_type": "code",
   "execution_count": 28,
   "metadata": {
    "lines_to_next_cell": 0,
    "title": "codecell"
   },
   "outputs": [
    {
     "data": {
      "text/plain": [
       "tensor([[[[ 0,  1],\n",
       "          [ 2,  3],\n",
       "          [ 4,  5],\n",
       "          [ 6,  7]],\n",
       "\n",
       "         [[ 8,  9],\n",
       "          [10, 11],\n",
       "          [12, 13],\n",
       "          [14, 15]],\n",
       "\n",
       "         [[16, 17],\n",
       "          [18, 19],\n",
       "          [20, 21],\n",
       "          [22, 23]]]], names=('N', 'C', 'H', 'W'))"
      ]
     },
     "execution_count": 28,
     "metadata": {},
     "output_type": "execute_result"
    }
   ],
   "source": [
    "tensor: Tensor = torch.arange(2*3*4*1).reshape(1,3,4,2) # N, C, H, W\n",
    "tensor.names = ('N', 'C', 'H', 'W')\n",
    "\n",
    "tensor"
   ]
  },
  {
   "cell_type": "code",
   "execution_count": 29,
   "metadata": {
    "title": "codecell"
   },
   "outputs": [],
   "source": [
    "# NOTE: the dimensions to be flattened must be consecutive\n",
    "\n",
    "# Flattening C, H, W into one dimension titled 'features'\n",
    "flatTensor: Tensor = tensor.flatten(dims = ['C', 'H', 'W'], out_dim = 'features')\n",
    "assert flatTensor.shape == (1, 24)\n",
    "assert flatTensor.names == ('N', 'features')\n",
    "\n",
    "\n",
    "flatTensor2: Tensor = tensor.flatten(dims = ['C', 'H'], out_dim = 'CH')\n",
    "assert flatTensor2.shape == (1, 12, 2)\n",
    "assert flatTensor2.names == ('N', 'CH', 'W')"
   ]
  },
  {
   "cell_type": "markdown",
   "metadata": {
    "lines_to_next_cell": 0,
    "title": "markdown"
   },
   "source": [
    "**New Method 2: [`unflatten()`](https://pytorch.org/docs/stable/named_tensor.html#torch.Tensor.unflatten)**\n",
    "\n",
    "Unflattens the named dimension `dim`, viewing it in the shape specified by `namedshape`.\n",
    "\n",
    " One must pass into [`unflatten()`](https://pytorch.org/docs/stable/named_tensor.html#torch.Tensor.unflatten) a **named shape**, which is a list of `(dim, size)` tuples, to specify how to unflatten the dim.\n",
    "* NOTE: work in progress for pytorch to save the sizes during a [`flatten()`](https://hyp.is/P03oZHQMEeqVWnehE0Axew/pytorch.org/docs/stable/named_tensor.html) for [`unflatten()`](https://pytorch.org/docs/stable/named_tensor.html#torch.Tensor.unflatten)"
   ]
  },
  {
   "cell_type": "code",
   "execution_count": 30,
   "metadata": {
    "title": "codecell"
   },
   "outputs": [],
   "source": [
    "\n",
    "tensorRemade: Tensor = flatTensor.unflatten(dim='features', namedshape=(('C', 3), ('H', 4), ('W', 2)))\n",
    "assert torch.equal(tensor, tensorRemade)\n",
    "assert tensorRemade.names == ('N', 'C', 'H', 'W')\n",
    "\n",
    "tensorRemade2: Tensor = flatTensor2.unflatten(dim = 'CH', namedshape=(('C', 3), ('H', 4)))\n",
    "assert torch.equal(tensor, tensorRemade2)\n",
    "assert tensorRemade2.names == ('N', 'C', 'H', 'W')\n",
    "\n",
    "\n",
    "\n",
    "\n"
   ]
  },
  {
   "cell_type": "markdown",
   "metadata": {
    "lines_to_next_cell": 0,
    "title": "markdown"
   },
   "source": [
    "### [Manipulating Dimensions](https://pytorch.org/docs/stable/named_tensor.html#explicit-alignment-by-names)\n",
    "\n",
    "# $\\color{red}{\\text{TODO: compare the effects of } \\texttt{align_as, view, unflatten, flatten} \\text{ to verify if  they are the same, and then compare the effects of } \\texttt{align_to, permute} \\text{to see if they are the same} }$\n",
    "\n",
    "**CASE: Permuting (unnamed) vs. Aligning (named)**\n",
    "\n",
    "Use [`align_to()`](https://pytorch.org/docs/stable/named_tensor.html#torch.Tensor.align_to) to permute large amounts of dimensions without menionting all of them as in required by [`permute()`](https://pytorch.org/docs/stable/tensors.html#torch.Tensor.permute)."
   ]
  },
  {
   "cell_type": "code",
   "execution_count": 31,
   "metadata": {
    "title": "codecell"
   },
   "outputs": [],
   "source": [
    "A, B, C, D, E, F = 0, 1, 2, 3, 4, 5\n",
    "tensor_: Tensor = torch.randn(A, B, C, D, E, F)\n",
    "tensor: Tensor = tensor_.refine_names('A', 'B', 'C', 'D', 'E', 'F')\n",
    "\n",
    "assert tensor.shape == tensor_.shape == (A, B, C, D, E, F)\n",
    "\n",
    "# Move F (5th dim) and dimension E (4th dim) to the front while keeping the rest in the same order.\n",
    "# Old way: (non-named)\n",
    "assert tensor_.permute(5,4,0,1,2,3).shape == (F, E, A, B, C, D)\n",
    "# Better way: (named)\n",
    "assert tensor.align_to('F', 'E', ...).names == ('F', 'E', 'A', 'B', 'C', 'D')\n",
    "# Sanity check: permute == align results:\n",
    "assert (tensor_.permute(5,4,0,1,2,3) == tensor.align_to('F', 'E', ...)).all()"
   ]
  },
  {
   "cell_type": "markdown",
   "metadata": {
    "lines_to_next_cell": 0,
    "title": "markdown"
   },
   "source": [
    "**CASE: Flattening (named) vs. View (unnamed)**\n",
    "\n",
    "Use [`flatten()`](https://pytorch.org/docs/stable/tensors.html#torch.Tensor.flatten) and [`unflatten()`](https://pytorch.org/docs/stable/named_tensor.html#torch.Tensor.unflatten) to flatten and unflatten dimensions, respectively. These have more semantic meaning than [`view()`](https://pytorch.org/docs/stable/tensors.html#torch.Tensor.view) and [`reshape()`](https://pytorch.org/docs/stable/tensors.html#torch.Tensor.reshape)."
   ]
  },
  {
   "cell_type": "code",
   "execution_count": 32,
   "metadata": {
    "lines_to_next_cell": 2,
    "title": "codecell"
   },
   "outputs": [],
   "source": [
    "N, C, H, W = 32, 3, 128, 128\n",
    "imgs_: Tensor = torch.randn(N, C, H, W)\n",
    "imgs: Tensor = imgs_.refine_names('N', 'C', 'H', 'W')\n",
    "\n",
    "# Flattening C, H, W into one dimension of size C*H*W\n",
    "flatImgs_: Tensor = imgs_.view(N, -1)\n",
    "assert flatImgs_.shape == (N, C*H*W)\n",
    "\n",
    "# Flattening via named dimensions\n",
    "flatImgs: Tensor = imgs.flatten(dims = ['C', 'H', 'W'], out_dim = 'features')\n",
    "assert flatImgs.names == ('N', 'features')\n",
    "assert flatImgs.shape == (N, C*H*W)\n",
    "\n",
    "# Unflattening  the non-named tensor\n",
    "unflattenedImgs_: Tensor = flatImgs_.view(N, C, H, W)\n",
    "assert unflattenedImgs_.shape == imgs.shape\n",
    "\n",
    "# Unflattening the named tensor\n",
    "unflattenedImgs: Tensor = flatImgs.unflatten(dim = 'features', namedshape = [('C', 3), ('H', 128), ('W', 128)])\n",
    "assert unflattenedImgs.shape == imgs.shape\n",
    "assert unflattenedImgs.names == imgs.names"
   ]
  },
  {
   "cell_type": "markdown",
   "metadata": {
    "lines_to_next_cell": 0,
    "title": "markdown"
   },
   "source": [
    "**COMPARISON: Permute, Align, Reshape, Transpose, View:**"
   ]
  },
  {
   "cell_type": "code",
   "execution_count": 33,
   "metadata": {
    "lines_to_next_cell": 0,
    "title": "codecell"
   },
   "outputs": [
    {
     "data": {
      "text/plain": [
       "tensor([[[ 0,  1,  2,  3],\n",
       "         [ 4,  5,  6,  7],\n",
       "         [ 8,  9, 10, 11],\n",
       "         [12, 13, 14, 15],\n",
       "         [16, 17, 18, 19],\n",
       "         [20, 21, 22, 23]],\n",
       "\n",
       "        [[24, 25, 26, 27],\n",
       "         [28, 29, 30, 31],\n",
       "         [32, 33, 34, 35],\n",
       "         [36, 37, 38, 39],\n",
       "         [40, 41, 42, 43],\n",
       "         [44, 45, 46, 47]]], names=('S', 'P_plus_S', 'B'))"
      ]
     },
     "execution_count": 33,
     "metadata": {},
     "output_type": "execute_result"
    }
   ],
   "source": [
    "s, p, b = 2, 3, 4\n",
    "x = torch.arange(s*(p+s+1)*b).reshape(s, p+s+1, b).refine_names('S', 'P_plus_S', 'B')\n",
    "x_ = x.rename(None)\n",
    "\n",
    "# Sanity basic check:\n",
    "assert (x_.view(s, p+s+1, b) == x_).all() # sanity check\n",
    "assert (x.align_as(x) == x).all() # sanity check\n",
    "\n",
    "x"
   ]
  },
  {
   "cell_type": "code",
   "execution_count": 34,
   "metadata": {
    "lines_to_next_cell": 0,
    "title": "codecell"
   },
   "outputs": [
    {
     "data": {
      "text/plain": [
       "tensor([[[ 0,  1,  2,  3],\n",
       "         [ 4,  5,  6,  7]],\n",
       "\n",
       "        [[ 8,  9, 10, 11],\n",
       "         [12, 13, 14, 15]],\n",
       "\n",
       "        [[16, 17, 18, 19],\n",
       "         [20, 21, 22, 23]],\n",
       "\n",
       "        [[24, 25, 26, 27],\n",
       "         [28, 29, 30, 31]],\n",
       "\n",
       "        [[32, 33, 34, 35],\n",
       "         [36, 37, 38, 39]],\n",
       "\n",
       "        [[40, 41, 42, 43],\n",
       "         [44, 45, 46, 47]]])"
      ]
     },
     "execution_count": 34,
     "metadata": {},
     "output_type": "execute_result"
    }
   ],
   "source": [
    "### View\n",
    "tensorView_ = x_.view(p+s+1,s,b)\n",
    "tensorView_"
   ]
  },
  {
   "cell_type": "code",
   "execution_count": 35,
   "metadata": {
    "lines_to_next_cell": 0,
    "title": "codecell"
   },
   "outputs": [],
   "source": [
    "### Reshape\n",
    "tensorReshape_ = x_.reshape(p+s+1, s, b)\n",
    "tensorReshape_\n",
    "\n",
    "assert (tensorReshape_ == tensorView_).all()"
   ]
  },
  {
   "cell_type": "code",
   "execution_count": 36,
   "metadata": {
    "title": "codecell"
   },
   "outputs": [],
   "source": [
    "### Transpose\n",
    "tensorTranspose = x.transpose('S', 'P_plus_S')\n",
    "tensorTranspose\n",
    "assert not (tensorTranspose == tensorView_).all()\n",
    "assert not (tensorTranspose == tensorReshape_).all()\n",
    "# NOTE: confirms that view() and transpose() are not necessarily the same, as in the below link:\n",
    "# https://pytorch.org/docs/stable/tensors.html#torch.Tensor.view"
   ]
  },
  {
   "cell_type": "code",
   "execution_count": 37,
   "metadata": {
    "title": "codecell"
   },
   "outputs": [],
   "source": [
    "### Align To:\n",
    "tensorAlign = x.align_to('P_plus_S', 'S', ...) # 6,2,4\n",
    "tensorAlign\n",
    "\n",
    "assert (tensorAlign == tensorTranspose).all()"
   ]
  },
  {
   "cell_type": "code",
   "execution_count": 38,
   "metadata": {
    "title": "codecell"
   },
   "outputs": [],
   "source": [
    "### Permute\n",
    "tensorPermute_ = x_.permute(1,0,2)\n",
    "tensorPermute_\n",
    "assert (tensorPermute_ == tensorAlign).all()"
   ]
  },
  {
   "cell_type": "code",
   "execution_count": 39,
   "metadata": {
    "lines_to_next_cell": 2,
    "title": "codecell"
   },
   "outputs": [],
   "source": [
    "# Checking relations between align_to(), permute(), and transpose()\n",
    "assert (tensorAlign == tensorTranspose).all()\n",
    "assert (tensorAlign == tensorPermute_).all()\n",
    "assert (tensorPermute_ == tensorTranspose).all()\n",
    "\n",
    "assert not (tensorAlign == tensorReshape_).all()\n",
    "# THEREFORE: align_to() == permute() == transpose()"
   ]
  },
  {
   "cell_type": "markdown",
   "metadata": {
    "lines_to_next_cell": 0,
    "title": "markdown"
   },
   "source": [
    "### Autograd (Not yet supported)\n",
    "Autograd currently ignores names on all tensors and treats them like regular tensors. Gradient computation is correct but we lose the safety that names give us.\n",
    "* NOTE: this is a work in progress to handle names in autograd"
   ]
  },
  {
   "cell_type": "code",
   "execution_count": 40,
   "metadata": {
    "title": "codecell"
   },
   "outputs": [],
   "source": [
    "x: Tensor = torch.randn(3, names = ('D',))\n",
    "weight: Tensor = torch.randn(3, names = ('D', ), requires_grad = True)\n",
    "\n",
    "# Checking that weight gradient is empty\n",
    "assert str(weight.grad) == 'None'\n",
    "\n",
    "loss: Tensor = (x - weight).abs()\n",
    "assert str(loss.grad) == 'None'\n",
    "\n",
    "# Create a random value for grad loss as argument to loss backward()\n",
    "gradLoss: Tensor = torch.randn(3)"
   ]
  },
  {
   "cell_type": "code",
   "execution_count": 41,
   "metadata": {
    "title": "codecell"
   },
   "outputs": [],
   "source": [
    "loss.backward(gradLoss)\n",
    "\n",
    "assert str(loss.grad) == 'None' # remains the same\n",
    "\n",
    "assert str(weight.grad) != 'None' # not empty anymore after backward()\n",
    "assert weight.grad.shape == (3,) # see, tensor exists in grad\n",
    "assert weight.grad.names == (None,) # note not yet named, will be named in future\n",
    "\n",
    "# Record the correct gradient\n",
    "# NOTE: this is not yet named, will be named in the future\n",
    "correctGrad: Tensor = weight.grad.clone()\n",
    "correctGrad\n",
    "\n",
    "weight.grad.zero_() #set to zero\n",
    "assert torch.equal(weight.grad, Tensor([0,0,0],dtype=torch.float))"
   ]
  },
  {
   "cell_type": "code",
   "execution_count": 42,
   "metadata": {
    "lines_to_next_cell": 2,
    "title": "codecell"
   },
   "outputs": [
    {
     "name": "stderr",
     "output_type": "stream",
     "text": [
      "/tmp/pip-req-build-808afw3c/torch/csrc/autograd/python_engine.cpp:159: UserWarning: Autograd was passed a named grad tensor with dims ['C']. Autograd does not yet support named tensor semantics, so all names will be ignored. In practice all computed gradients will still be correct according to regular tensor semantics.\n"
     ]
    }
   ],
   "source": [
    "gradLoss: Tensor = gradLoss.refine_names('C') # set the only dimension as name C\n",
    "loss: Tensor = (x - weight).abs()\n",
    "loss.backward(gradLoss)\n",
    "\n",
    "# Stil unnamed even though the gradLoss was named\n",
    "assert weight.grad.names == (None, )\n",
    "assert torch.allclose(weight.grad, correctGrad)"
   ]
  },
  {
   "cell_type": "markdown",
   "metadata": {
    "lines_to_next_cell": 0,
    "title": "markdown"
   },
   "source": [
    "### Application Example: [Multi-Head Attention](https://synergo.atlassian.net/wiki/spaces/KnowRes/pages/1446445463/multi-head+attention+mechanism)\n",
    "Going through a complete example of implementing a common PyTorch `nn.Module`: [multi-head attention](https://synergo.atlassian.net/wiki/spaces/KnowRes/pages/1446445463/multi-head+attention+mechanism).\n",
    "\n",
    "Adapting implementation: We adapt the implementation of [multi-head attention](https://synergo.atlassian.net/wiki/spaces/KnowRes/pages/1446445463/multi-head+attention+mechanism) in [this code resource at ParlAI. ](https://github.com/facebookresearch/ParlAI/blob/f7db35cba3f3faf6097b3e6b208442cd564783d9/parlai/agents/transformer/modules.py#L907). Note there are four places labeled (I), (II), (III), and (IV) where using named tensors enables more readable code, and we will dive into each of these after the code block.\n",
    "\n",
    "* (I) **Refining the input tensor dims: ** the [`query = query.refine_names(..., 'T', 'D')`](https://pytorch.org/docs/stable/named_tensor.html#torch.Tensor.refine_names) serves as enforcable documentation and lifts input dimensions to being named. Checks that the last two dimensions can be refined to `['T', 'D']`, preventing potentially silent or confusing size mismatch errors later down the line.\n",
    "* (II) **Manipulating dimensions in `_prepareHead()`: **CLEARLY state sth einput and output dimensions. The input tensor must end with the `T` and `D` dims and the output tensor ends in `H`, `T`, and `D_head` dims. Secondly, it is clear to see what is going on: `_prepareHead()` takes the key, query and value and splits the embedding dimension `D` into multiple heads, finally rearranging embedding dim `D` order to be `[..., 'H', 'T', 'D_head']`. To contrast, the [original implementation](https://github.com/facebookresearch/ParlAI/blob/f7db35cba3f3faf6097b3e6b208442cd564783d9/parlai/agents/transformer/modules.py#L947-L957) uses the non-semantically clear [`view()`](https://pytorch.org/docs/stable/tensors.html#torch.Tensor.view) and [`transpose()`](https://pytorch.org/docs/stable/torch.html#torch.transpose) operations.\n",
    "* (III) **Explicit Broadcasting by names:** To make `mask` broadcast correctly with `dotProd`, we would usually [`unsqueeze()`](https://pytorch.org/docs/stable/torch.html#torch.unsqueeze) dims 1 (for `H`) and `-1` (for `T_key`) in the case of self attention or [`unsqueeze()`](https://pytorch.org/docs/stable/torch.html#torch.unsqueeze) dim `1` in the case of encoder attention (to stand in for the dimension called `H`). But using named tensors, we simply align the `attnMask` to the shape and names of `dotProd` using [`align_as()`](https://pytorch.org/docs/stable/named_tensor.html#torch.Tensor.align_as) so no need to worry about where to [`unsqueeze()`](https://pytorch.org/docs/stable/torch.html#torch.unsqueeze) dims.\n",
    "* (IV) **More Dimension manipulation using [`align_to()`](https://pytorch.org/docs/stable/named_tensor.html#torch.Tensor.align_to) and [`flatten()`](https://hyp.is/P03oZHQMEeqVWnehE0Axew/pytorch.org/docs/stable/named_tensor.html):** Here as in (II), the [`align_to()`](https://pytorch.org/docs/stable/named_tensor.html#torch.Tensor.align_to) and [`flatten()`](https://hyp.is/P03oZHQMEeqVWnehE0Axew/pytorch.org/docs/stable/named_tensor.html) are more semantically meaningful than [`view()`](https://pytorch.org/docs/stable/tensors.html#torch.Tensor.view) and [`transpose()`](https://pytorch.org/docs/stable/torch.html#torch.transpose) despite being more verbose."
   ]
  },
  {
   "cell_type": "code",
   "execution_count": 43,
   "metadata": {
    "title": "codecell"
   },
   "outputs": [],
   "source": [
    "import torch.tensor as Tensor\n",
    "import torch.nn as nn\n",
    "from torch.nn import Dropout, Linear, LayerNorm\n",
    "import torch.nn.functional as F\n",
    "import math\n",
    "\n",
    "\n",
    "class MultiHeadAttention(nn.Module):\n",
    "\n",
    "    def __init__(self, numHeads: int, dim: int, dropout = 0):\n",
    "        super(MultiHeadAttention, self).__init__()\n",
    "        self.numHeads: int = numHeads\n",
    "        self.dim: int = dim\n",
    "\n",
    "        self.attnDropout: Dropout = Dropout(p = dropout)\n",
    "\n",
    "        # The linear layers through which we pass the word embedding matrix in order to create the query (Q),\n",
    "        # key (K) and value (V) matrices.\n",
    "        self.linearQ: Linear = Linear(in_features=dim, out_features=dim)\n",
    "        self.linearK: Linear = Linear(in_features=dim, out_features=dim)\n",
    "        self.linearV: Linear = Linear(in_features=dim, out_features=dim)\n",
    "\n",
    "        # Initializing the weight matrices of these linear layers\n",
    "        nn.init.xavier_normal_(self.linearQ.weight)\n",
    "        nn.init.xavier_normal_(self.linearK.weight)\n",
    "        nn.init.xavier_normal_(self.linearV.weight)\n",
    "\n",
    "        # The linear layer for the output\n",
    "        self.linearOut: Linear = Linear(in_features=dim, out_features=dim)\n",
    "\n",
    "        # Initializing the weight matrix in the linear output layer\n",
    "        nn.init.xavier_normal_(self.linearOut.weight)\n",
    "\n",
    "\n",
    "\n",
    "\n",
    "    def forward(self, queryNamed: Tensor, key: Tensor = None, value: Tensor = None,\n",
    "                mask: Tensor = None) -> Tensor:\n",
    "\n",
    "        # (I) ------------------------------------------------------------------------------------\n",
    "\n",
    "        # Renaming the tensor's last two dimensions from None to T and D\n",
    "        queryNamed: Tensor = queryNamed.refine_names(..., 'T', 'D')\n",
    "        # queryNamed shape == (B, T, D)\n",
    "        # NOTE: this marks whether the attention to calculate is of the type 1) self attention, or 2) encoder  attention.\n",
    "        isSelfAttnType: Tensor = key is None and value is None\n",
    "        # It is self attention if both key, value are None\n",
    "        if isSelfAttnType: # then last dim has dim T\n",
    "            mask: Tensor = mask.refine_names(..., 'T')\n",
    "            # mask shape == (B, T)\n",
    "        else: # if attention is of type encoder attention, last dims are T, T_key\n",
    "            mask: Tensor = mask.refine_names(..., 'T', 'T_key')\n",
    "            # make shape == (B, T, T_key)\n",
    "\n",
    "\n",
    "        dim: int = queryNamed.size('D')\n",
    "        assert dim == self.dim, f\"Dimensions do not match: {dim} query vs {self.dim} configured\"\n",
    "        assert mask is not None, \"Mask is None, please specify a mask\"\n",
    "\n",
    "        numHeads: int = self.numHeads\n",
    "        dimPerHead: int = dim // numHeads\n",
    "        scale: float = math.sqrt(dimPerHead)\n",
    "\n",
    "\n",
    "        # (II) ------------------------------------------------------------------------------------\n",
    "        # Manipulating dimensions in prepareHead\n",
    "        def _prepareHead(tensor: Tensor) -> Tensor:\n",
    "            tensorNamed: Tensor = tensor.refine_names(..., 'T', 'D')\n",
    "            return (tensorNamed # shape == (B, T, H, D_head)\n",
    "                    .unflatten(dim = 'D', namedshape = (('H', numHeads), ('D_head', dimPerHead)))\n",
    "                    .align_to(..., 'H', 'T', 'D_head')) # shape == (B, H, T, D_head)\n",
    "\n",
    "\n",
    "        assert value is None # TODO why?\n",
    "\n",
    "        if isSelfAttnType:\n",
    "            key = value = queryNamed # this places query's value into both key and value matrices.\n",
    "            # key shape == value shape == (B, T, D)\n",
    "        elif value is None:\n",
    "            # Then key and value are the same, but query differs\n",
    "            key: Tensor = key.refine_names(..., 'T', 'D')\n",
    "            # key shape == TODO\n",
    "            value: Tensor = key\n",
    "            # value shape == TODO\n",
    "\n",
    "        #dim: int = key.size('D')\n",
    "\n",
    "\n",
    "        ### Distinguish between queryLen (T) and keyLen (T_key) dims.\n",
    "\n",
    "        # if self attention: weightsKey (D (None),D (None)) * key (B, T, D) ---> (B, T, None)\n",
    "        # if encoder attention: TODO weightsKey (D (None),D (None)) * key () ---> ()\n",
    "        K: Tensor = _prepareHead(self.linearK(key)).rename(T = 'T_key') # key shape == (B, T, D)\n",
    "        # K shape == (B, H, T_key, D_head)\n",
    "\n",
    "        # if self attention: weightsValue (D (None),D (None)) * value (B, T, D) ---> (B, T, None)\n",
    "        # if encoder attention: TODO # weightsValue (D (None),D (None)) * value (B, T, D) ---> (B, T, None)\n",
    "        V: Tensor = _prepareHead(self.linearV(value)).rename(T = 'T_key')\n",
    "        # V shape == (B, H, T_key, D_head)\n",
    "\n",
    "        # if self attention: weightsQuery (D (None),D (None)) * query (B, T, D) --> (B, T, None)\n",
    "        # if encoder attention: TODO weightsQuery (D (None),D (None)) * query (B, T, D) --> (B, T, None)\n",
    "        Q: Tensor = _prepareHead(self.linearQ(queryNamed)) # the T dim stays the same\n",
    "        # Q shape == (B, H, T, D_head)\n",
    "\n",
    "\n",
    "        # if self attention: Q matrix (B, H, T, D_head) * K.aligned (B, H, D_head, T_key) ---> (B, H, T, T_key)\n",
    "        # TODO if encoder attention: Q matrix (B, H, T, D_head) * K.aligned (B, H, D_head, T_key) ---> (B, H, T, T_key)\n",
    "        dotProd: Tensor = Q.div_(scale).matmul(K.align_to(..., 'D_head', 'T_key'))\n",
    "        # for self attention: dotProd shape == (B, H, T, T_key)\n",
    "        # for encoder attention: TODO dotProd shape == (B, H, T, T_key)\n",
    "\n",
    "        dotProd.refine_names(..., 'H', 'T', 'T_key') # just a check\n",
    "        # for self attention: dotProd shape == (B, H, T, T_key)\n",
    "        # for encoder attention: TODO\n",
    "\n",
    "        # (III) ------------------------------------------------------------------------------------\n",
    "\n",
    "        # mask: shape == (B, T) for self attention or (B, T, T_key) for encoder attention\n",
    "        attnMask: Tensor = (mask == 0).align_as(dotProd)\n",
    "        # attnMask shape == (B, H, T, T_key)\n",
    "\n",
    "        # Mask dot product according to the attention mask\n",
    "        dotProd.masked_fill_(mask = attnMask, value = -float(1e20))\n",
    "        # dotProd shape == (B, H, T, T_key)\n",
    "\n",
    "        attnWeights: Tensor = self.attnDropout(F.softmax(dotProd / scale, dim = 'T_key'))\n",
    "        # attnWeights shape == (B, H, T, T_key)\n",
    "\n",
    "        # (IV) ------------------------------------------------------------------------------------\n",
    "        # Step: multiplying the softmaxed results with the value matrix V, as in the attention formula. Then reshaping the result.\n",
    "        attentioned: Tensor = (\n",
    "            # attnWeights (B, H, T, T_key) * VALUES V (B, H, T_key, D_head) ---> (B, H, T, D_head)\n",
    "            attnWeights\n",
    "                .matmul(V).refine_names(..., 'H', 'T', 'D_head') # shape == (B, H, T, D_head)\n",
    "                .align_to(..., 'T', 'H', 'D_head') # shape == (B, T, H, D_head)\n",
    "                .flatten(dims = ['H', 'D_head'], out_dim = 'D') # shape == (B, T, D)\n",
    "        )\n",
    "        # attentioned shape == (B, T, D)\n",
    "\n",
    "        # Creating output by passing attentions through linear layer, then making sure of the result's name shape.\n",
    "        # weightsOut (D (None), D (None)) * attentioned (B, T, D) ---> (B, T, None)\n",
    "        output: Tensor = self.linearOut(attentioned).refine_names(..., 'T', 'D')\n",
    "        # output shape == (B, T, D)\n",
    "\n",
    "        return output # output shape == (B, T, D)"
   ]
  },
  {
   "cell_type": "code",
   "execution_count": 44,
   "metadata": {
    "lines_to_next_cell": 0,
    "title": "codecell"
   },
   "outputs": [
    {
     "data": {
      "text/plain": [
       "MultiHeadAttention(\n",
       "  (attnDropout): Dropout(p=0, inplace=False)\n",
       "  (linearQ): Linear(in_features=6, out_features=6, bias=True)\n",
       "  (linearK): Linear(in_features=6, out_features=6, bias=True)\n",
       "  (linearV): Linear(in_features=6, out_features=6, bias=True)\n",
       "  (linearOut): Linear(in_features=6, out_features=6, bias=True)\n",
       ")"
      ]
     },
     "execution_count": 44,
     "metadata": {},
     "output_type": "execute_result"
    }
   ],
   "source": [
    "B, T, D, H = 7, 5, 2*3, 3\n",
    "query: Tensor = torch.randn(B, T, D, names = ('B', 'T', 'D'))\n",
    "mask: Tensor = torch.ones(B, T, names = ('B', 'T'))\n",
    "attn = MultiHeadAttention(numHeads = H, dim = D)\n",
    "attn"
   ]
  },
  {
   "cell_type": "code",
   "execution_count": 45,
   "metadata": {
    "title": "codecell"
   },
   "outputs": [],
   "source": [
    "output = attn(query, mask = mask)\n",
    "assert output.shape == (B, T, D) and output.names == ('B', 'T', 'D')"
   ]
  },
  {
   "cell_type": "code",
   "execution_count": 46,
   "metadata": {
    "title": "codecell"
   },
   "outputs": [],
   "source": [
    "# Showing MultiHeadAttention module is agnostic to the existence of batch dimensions.\n",
    "query = torch.randn(T, D, names=('T', 'D'))\n",
    "mask = torch.ones(T, names=('T',))\n",
    "output = attn(query, mask=mask)\n",
    "assert output.names == ('T', 'D') and output.shape == (T, D)"
   ]
  }
 ],
 "metadata": {
  "jupytext": {
   "cell_metadata_filter": "title,-all"
  },
  "kernelspec": {
   "display_name": "pytensorly_env",
   "language": "python",
   "name": "pytensorly_env"
  },
  "language_info": {
   "codemirror_mode": {
    "name": "ipython",
    "version": 3
   },
   "file_extension": ".py",
   "mimetype": "text/x-python",
   "name": "python",
   "nbconvert_exporter": "python",
   "pygments_lexer": "ipython3",
   "version": "3.6.10"
  }
 },
 "nbformat": 4,
 "nbformat_minor": 4
}
