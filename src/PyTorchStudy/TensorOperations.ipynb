{
 "cells": [
  {
   "cell_type": "markdown",
   "metadata": {
    "collapsed": true
   },
   "source": [
    "Sources: \n",
    "\n",
    "1. https://medium.com/biaslyai/learn-pytorch-basics-6d433f186b7a#annotations:RuQUgvymEemFu8tmdAybiw\n",
    "2. https://johnwlambert.github.io/pytorch-tutorial/#annotations:h5Vj4vylEemviMtX6J8WuQ\n",
    "3. https://jhui.github.io/2018/02/09/PyTorch-Basic-operations/#annotations:4-d5lvylEemWP6uACcixlg"
   ]
  },
  {
   "cell_type": "markdown",
   "metadata": {},
   "source": []
  },
  {
   "cell_type": "code",
   "execution_count": 1,
   "metadata": {},
   "outputs": [],
   "source": [
    "import torch "
   ]
  },
  {
   "cell_type": "code",
   "execution_count": 2,
   "metadata": {},
   "outputs": [
    {
     "data": {
      "text/plain": [
       "tensor([[1., 2.],\n        [3., 4.]])"
      ]
     },
     "execution_count": 2,
     "metadata": {},
     "output_type": "execute_result"
    }
   ],
   "source": [
    "# Create a tensor\n",
    "torch.Tensor([[1,2], [3,4]])"
   ]
  },
  {
   "cell_type": "code",
   "execution_count": 3,
   "metadata": {},
   "outputs": [
    {
     "data": {
      "text/plain": [
       "tensor([[-0.0000,  0.0000, -0.0000],\n        [ 0.0000,  0.0000,  0.0000]])"
      ]
     },
     "execution_count": 3,
     "metadata": {},
     "output_type": "execute_result"
    }
   ],
   "source": [
    "# create 2 x 3 tensor with zero values\n",
    "torch.Tensor(2,3)"
   ]
  },
  {
   "cell_type": "code",
   "execution_count": 4,
   "metadata": {},
   "outputs": [
    {
     "data": {
      "text/plain": [
       "tensor([[ 0.3845,  0.1931, -0.7631],\n        [ 0.4475, -0.8197,  0.1667]])"
      ]
     },
     "execution_count": 4,
     "metadata": {},
     "output_type": "execute_result"
    }
   ],
   "source": [
    "# create 2x3 tensor with random uniform values between -1, 1\n",
    "torch.Tensor(2, 3).uniform_(-1,1)"
   ]
  },
  {
   "cell_type": "code",
   "execution_count": 5,
   "metadata": {},
   "outputs": [
    {
     "data": {
      "text/plain": [
       "tensor([[-6.5972e-38,  4.5619e-41, -9.4068e-36]])"
      ]
     },
     "execution_count": 5,
     "metadata": {},
     "output_type": "execute_result"
    }
   ],
   "source": [
    "torch.empty(1,3)"
   ]
  },
  {
   "cell_type": "markdown",
   "metadata": {},
   "source": [
    "Tensor Accessing Examples"
   ]
  },
  {
   "cell_type": "code",
   "execution_count": 7,
   "metadata": {},
   "outputs": [
    {
     "data": {
      "text/plain": [
       "tensor([[1., 2.],\n        [3., 4.]])"
      ]
     },
     "execution_count": 7,
     "metadata": {},
     "output_type": "execute_result"
    }
   ],
   "source": [
    "tensor = torch.Tensor([[1,2], [3,4]])\n",
    "tensor"
   ]
  },
  {
   "cell_type": "code",
   "execution_count": 9,
   "metadata": {},
   "outputs": [
    {
     "data": {
      "text/plain": [
       "tensor([[  1., 433.],\n        [  3.,   4.]])"
      ]
     },
     "execution_count": 9,
     "metadata": {},
     "output_type": "execute_result"
    }
   ],
   "source": [
    "# Replacing an element at 0,1\n",
    "tensor[0][1] = 433\n",
    "tensor"
   ]
  },
  {
   "cell_type": "code",
   "execution_count": 12,
   "metadata": {},
   "outputs": [
    {
     "name": "stdout",
     "output_type": "stream",
     "text": [
      "tensor(3.)\n3.0\n"
     ]
    }
   ],
   "source": [
    "# Get an elemen at position 1, 0\n",
    "print(tensor[1][0])\n",
    "print(tensor[1][0].item())"
   ]
  },
  {
   "cell_type": "code",
   "execution_count": 72,
   "metadata": {},
   "outputs": [
    {
     "data": {
      "text/plain": [
       "tensor([ 0,  1,  2,  3,  4,  5,  6,  7,  8,  9, 10, 11])"
      ]
     },
     "execution_count": 72,
     "metadata": {},
     "output_type": "execute_result"
    }
   ],
   "source": [
    "# Indexing examples\n",
    "x = torch.arange(4*3)\n",
    "x"
   ]
  },
  {
   "cell_type": "code",
   "execution_count": 73,
   "metadata": {},
   "outputs": [
    {
     "data": {
      "text/plain": [
       "tensor([[[ 0,  1],\n         [ 2,  3]],\n\n        [[ 4,  5],\n         [ 6,  7]],\n\n        [[ 8,  9],\n         [10, 11]]])"
      ]
     },
     "execution_count": 73,
     "metadata": {},
     "output_type": "execute_result"
    }
   ],
   "source": [
    "x = x.reshape(3,2,2)\n",
    "x"
   ]
  },
  {
   "cell_type": "code",
   "execution_count": 74,
   "metadata": {},
   "outputs": [
    {
     "data": {
      "text/plain": [
       "tensor([[0, 1],\n        [2, 3]])"
      ]
     },
     "execution_count": 74,
     "metadata": {},
     "output_type": "execute_result"
    }
   ],
   "source": [
    "x[0, :, :] # prints 0th channel image"
   ]
  },
  {
   "cell_type": "code",
   "execution_count": 75,
   "metadata": {},
   "outputs": [
    {
     "data": {
      "text/plain": [
       "tensor([[4, 5],\n        [6, 7]])"
      ]
     },
     "execution_count": 75,
     "metadata": {},
     "output_type": "execute_result"
    }
   ],
   "source": [
    "x[1, :, :] # prints 1st channel image"
   ]
  },
  {
   "cell_type": "code",
   "execution_count": 76,
   "metadata": {},
   "outputs": [
    {
     "data": {
      "text/plain": [
       "tensor([[ 8,  9],\n        [10, 11]])"
      ]
     },
     "execution_count": 76,
     "metadata": {},
     "output_type": "execute_result"
    }
   ],
   "source": [
    "x[2, :, :] # prints 2nd channel image"
   ]
  },
  {
   "cell_type": "code",
   "execution_count": 77,
   "metadata": {},
   "outputs": [
    {
     "data": {
      "text/plain": [
       "tensor([0, 4, 8])"
      ]
     },
     "execution_count": 77,
     "metadata": {},
     "output_type": "execute_result"
    }
   ],
   "source": [
    "# index to get all channels for 0th row, 0th col\n",
    "x[:, 0, 0]"
   ]
  },
  {
   "cell_type": "markdown",
   "metadata": {},
   "source": []
  },
  {
   "cell_type": "code",
   "execution_count": 92,
   "metadata": {},
   "outputs": [
    {
     "data": {
      "text/plain": [
       "tensor([[[ 0,  1],\n         [ 2,  3]],\n\n        [[ 4,  5],\n         [ 6,  7]],\n\n        [[ 8,  9],\n         [10, 11]]])"
      ]
     },
     "execution_count": 92,
     "metadata": {},
     "output_type": "execute_result"
    }
   ],
   "source": [
    "x"
   ]
  },
  {
   "cell_type": "code",
   "execution_count": 93,
   "metadata": {},
   "outputs": [
    {
     "name": "stdout",
     "output_type": "stream",
     "text": [
      "torch.Size([1, 3, 2, 2])\ntensor([[ 0,  1],\n        [ 2,  3],\n        [ 4,  5],\n        [ 6,  7],\n        [ 8,  9],\n        [10, 11]])\n"
     ]
    }
   ],
   "source": [
    "# Adding a batch dimension \n",
    "print(x.unsqueeze(0).shape)\n",
    "print(x.view(6, 2))"
   ]
  },
  {
   "cell_type": "markdown",
   "metadata": {},
   "source": [
    "Reshaping tensors"
   ]
  },
  {
   "cell_type": "code",
   "execution_count": 80,
   "metadata": {},
   "outputs": [
    {
     "data": {
      "text/plain": [
       "tensor([[[ 0,  1],\n         [ 2,  3]],\n\n        [[ 4,  5],\n         [ 6,  7]],\n\n        [[ 8,  9],\n         [10, 11]]])"
      ]
     },
     "execution_count": 80,
     "metadata": {},
     "output_type": "execute_result"
    }
   ],
   "source": [
    "x"
   ]
  },
  {
   "cell_type": "code",
   "execution_count": 78,
   "metadata": {},
   "outputs": [
    {
     "data": {
      "text/plain": [
       "torch.Size([3, 2, 2])"
      ]
     },
     "execution_count": 78,
     "metadata": {},
     "output_type": "execute_result"
    }
   ],
   "source": [
    "# squeeze returns tensor with all dimensions of input of\n",
    "# size 1 removed\n",
    "x.squeeze().shape "
   ]
  },
  {
   "cell_type": "code",
   "execution_count": 83,
   "metadata": {},
   "outputs": [
    {
     "name": "stdout",
     "output_type": "stream",
     "text": [
      "torch.Size([1, 3, 2, 2])\n4\ntensor([[[[ 0,  1],\n          [ 2,  3]],\n\n         [[ 4,  5],\n          [ 6,  7]],\n\n         [[ 8,  9],\n          [10, 11]]]])\n"
     ]
    }
   ],
   "source": [
    "# unsqueeze(i) returns new tensor with dimension of size one\n",
    "# inserted at position (i)\n",
    "print(x.unsqueeze(0).size())\n",
    "print(x.unsqueeze(0).dim())\n",
    "print(x.unsqueeze(0))"
   ]
  },
  {
   "cell_type": "code",
   "execution_count": 82,
   "metadata": {},
   "outputs": [
    {
     "name": "stdout",
     "output_type": "stream",
     "text": [
      "tensor([[[[ 0,  1],\n          [ 2,  3]]],\n\n\n        [[[ 4,  5],\n          [ 6,  7]]],\n\n\n        [[[ 8,  9],\n          [10, 11]]]])\ntorch.Size([3, 1, 2, 2])\n4\n"
     ]
    }
   ],
   "source": [
    "# unsqueeze(i) returns new tensor with dimension of size one\n",
    "# inserted at position (i)\n",
    "print(x.unsqueeze(1).size())\n",
    "print(x.unsqueeze(1).dim())\n",
    "print(x.unsqueeze(1))"
   ]
  },
  {
   "cell_type": "code",
   "execution_count": 84,
   "metadata": {},
   "outputs": [
    {
     "name": "stdout",
     "output_type": "stream",
     "text": [
      "torch.Size([3, 2, 1, 2])\n4\ntensor([[[[ 0,  1]],\n\n         [[ 2,  3]]],\n\n\n        [[[ 4,  5]],\n\n         [[ 6,  7]]],\n\n\n        [[[ 8,  9]],\n\n         [[10, 11]]]])\n"
     ]
    }
   ],
   "source": [
    "# unsqueeze(i) returns new tensor with dimension of size one\n",
    "# inserted at position (i)\n",
    "print(x.unsqueeze(2).size())\n",
    "print(x.unsqueeze(2).dim())\n",
    "print(x.unsqueeze(2))"
   ]
  },
  {
   "cell_type": "code",
   "execution_count": 85,
   "metadata": {},
   "outputs": [
    {
     "name": "stdout",
     "output_type": "stream",
     "text": [
      "torch.Size([3, 2, 2, 1])\n4\ntensor([[[[ 0],\n          [ 1]],\n\n         [[ 2],\n          [ 3]]],\n\n\n        [[[ 4],\n          [ 5]],\n\n         [[ 6],\n          [ 7]]],\n\n\n        [[[ 8],\n          [ 9]],\n\n         [[10],\n          [11]]]])\n"
     ]
    }
   ],
   "source": [
    "# unsqueeze(i) returns new tensor with dimension of size one\n",
    "# inserted at position (i)\n",
    "print(x.unsqueeze(3).size())\n",
    "print(x.unsqueeze(3).dim())\n",
    "print(x.unsqueeze(3))"
   ]
  },
  {
   "cell_type": "code",
   "execution_count": 87,
   "metadata": {},
   "outputs": [
    {
     "name": "stdout",
     "output_type": "stream",
     "text": [
      "torch.Size([3, 2, 2, 1])\n4\ntensor([[[[ 0],\n          [ 1]],\n\n         [[ 2],\n          [ 3]]],\n\n\n        [[[ 4],\n          [ 5]],\n\n         [[ 6],\n          [ 7]]],\n\n\n        [[[ 8],\n          [ 9]],\n\n         [[10],\n          [11]]]])\n"
     ]
    }
   ],
   "source": [
    "# unsqueeze(i) returns new tensor with dimension of size one\n",
    "# inserted at position (i)\n",
    "print(x.unsqueeze(-1).size())\n",
    "print(x.unsqueeze(-1).dim())\n",
    "print(x.unsqueeze(-1))"
   ]
  },
  {
   "cell_type": "code",
   "execution_count": 89,
   "metadata": {},
   "outputs": [
    {
     "name": "stdout",
     "output_type": "stream",
     "text": [
      "torch.Size([3, 2, 1, 2])\n4\ntensor([[[[ 0,  1]],\n\n         [[ 2,  3]]],\n\n\n        [[[ 4,  5]],\n\n         [[ 6,  7]]],\n\n\n        [[[ 8,  9]],\n\n         [[10, 11]]]])\n"
     ]
    }
   ],
   "source": [
    "# unsqueeze(i) returns new tensor with dimension of size one\n",
    "# inserted at position (i)\n",
    "print(x.unsqueeze(-2).size())\n",
    "print(x.unsqueeze(-2).dim())\n",
    "print(x.unsqueeze(-2))"
   ]
  },
  {
   "cell_type": "code",
   "execution_count": 90,
   "metadata": {},
   "outputs": [
    {
     "name": "stdout",
     "output_type": "stream",
     "text": [
      "torch.Size([3, 1, 2, 2])\n4\ntensor([[[[ 0,  1],\n          [ 2,  3]]],\n\n\n        [[[ 4,  5],\n          [ 6,  7]]],\n\n\n        [[[ 8,  9],\n          [10, 11]]]])\n"
     ]
    }
   ],
   "source": [
    "# unsqueeze(i) returns new tensor with dimension of size one\n",
    "# inserted at position (i)\n",
    "print(x.unsqueeze(-3).size())\n",
    "print(x.unsqueeze(-3).dim())\n",
    "print(x.unsqueeze(-3))"
   ]
  },
  {
   "cell_type": "code",
   "execution_count": 91,
   "metadata": {},
   "outputs": [
    {
     "name": "stdout",
     "output_type": "stream",
     "text": [
      "torch.Size([1, 3, 2, 2])\n4\ntensor([[[[ 0,  1],\n          [ 2,  3]],\n\n         [[ 4,  5],\n          [ 6,  7]],\n\n         [[ 8,  9],\n          [10, 11]]]])\n"
     ]
    }
   ],
   "source": [
    "# unsqueeze(i) returns new tensor with dimension of size one\n",
    "# inserted at position (i)\n",
    "print(x.unsqueeze(-4).size())\n",
    "print(x.unsqueeze(-4).dim())\n",
    "print(x.unsqueeze(-4))"
   ]
  },
  {
   "cell_type": "markdown",
   "metadata": {},
   "source": [
    "Tensor Slicing Examples"
   ]
  },
  {
   "cell_type": "code",
   "execution_count": 17,
   "metadata": {},
   "outputs": [
    {
     "data": {
      "text/plain": [
       "tensor([[1., 2., 3.],\n        [4., 5., 6.],\n        [7., 8., 9.]])"
      ]
     },
     "execution_count": 17,
     "metadata": {},
     "output_type": "execute_result"
    }
   ],
   "source": [
    "sliceTensor = torch.Tensor([[1,2,3], [4,5,6], [7,8,9]])\n",
    "sliceTensor"
   ]
  },
  {
   "cell_type": "code",
   "execution_count": 18,
   "metadata": {},
   "outputs": [
    {
     "data": {
      "text/plain": [
       "tensor([1., 4., 7.])"
      ]
     },
     "execution_count": 18,
     "metadata": {},
     "output_type": "execute_result"
    }
   ],
   "source": [
    "# elements from every row, first column\n",
    "sliceTensor[:, 0]"
   ]
  },
  {
   "cell_type": "code",
   "execution_count": 19,
   "metadata": {},
   "outputs": [
    {
     "data": {
      "text/plain": [
       "tensor([3., 6., 9.])"
      ]
     },
     "execution_count": 19,
     "metadata": {},
     "output_type": "execute_result"
    }
   ],
   "source": [
    "# elements from every row, last column\n",
    "sliceTensor[:, -1]"
   ]
  },
  {
   "cell_type": "code",
   "execution_count": 21,
   "metadata": {},
   "outputs": [
    {
     "data": {
      "text/plain": [
       "tensor([4., 5., 6.])"
      ]
     },
     "execution_count": 21,
     "metadata": {},
     "output_type": "execute_result"
    }
   ],
   "source": [
    "# all elements on the second row\n",
    "sliceTensor[1, :]"
   ]
  },
  {
   "cell_type": "code",
   "execution_count": 22,
   "metadata": {},
   "outputs": [
    {
     "data": {
      "text/plain": [
       "tensor([[1., 2., 3.],\n        [4., 5., 6.]])"
      ]
     },
     "execution_count": 22,
     "metadata": {},
     "output_type": "execute_result"
    }
   ],
   "source": [
    "# all elements from the first two rows\n",
    "sliceTensor[0:2, :]"
   ]
  },
  {
   "cell_type": "markdown",
   "metadata": {},
   "source": [
    "Get Tensor Information"
   ]
  },
  {
   "cell_type": "code",
   "execution_count": 25,
   "metadata": {},
   "outputs": [
    {
     "data": {
      "text/plain": [
       "tensor([[1., 2.],\n        [3., 4.]])"
      ]
     },
     "execution_count": 25,
     "metadata": {},
     "output_type": "execute_result"
    }
   ],
   "source": [
    "tensor = torch.Tensor([[1,2], [3,4]])\n",
    "tensor"
   ]
  },
  {
   "cell_type": "code",
   "execution_count": 29,
   "metadata": {},
   "outputs": [
    {
     "name": "stdout",
     "output_type": "stream",
     "text": [
      "torch.FloatTensor\ntorch.Size([2, 2])\ntorch.Size([2, 2])\n2\n"
     ]
    }
   ],
   "source": [
    "print(tensor.type())\n",
    "print(tensor.shape)\n",
    "print(tensor.size())\n",
    "print(tensor.dim())"
   ]
  },
  {
   "cell_type": "code",
   "execution_count": 31,
   "metadata": {},
   "outputs": [
    {
     "name": "stdout",
     "output_type": "stream",
     "text": [
      "tensor([[1., 2., 3., 4.]])\ntorch.Size([1, 4])\n2\n"
     ]
    }
   ],
   "source": [
    "# reshape tensor in n x m tensor\n",
    "reshaped1 = tensor.view(1, 4)\n",
    "print(reshaped1)\n",
    "print(reshaped1.size())\n",
    "print(reshaped1.dim())"
   ]
  },
  {
   "cell_type": "code",
   "execution_count": 33,
   "metadata": {},
   "outputs": [
    {
     "name": "stdout",
     "output_type": "stream",
     "text": [
      "tensor([[1.],\n        [2.],\n        [3.],\n        [4.]])\ntorch.Size([4, 1])\n2\n"
     ]
    }
   ],
   "source": [
    "reshaped2 = tensor.view(4, 1)\n",
    "print(reshaped2)\n",
    "print(reshaped2.size())\n",
    "print(reshaped2.dim())"
   ]
  },
  {
   "cell_type": "markdown",
   "metadata": {},
   "source": [
    "# Conversion between numpy ndarray to pytorch tensor\n"
   ]
  },
  {
   "cell_type": "code",
   "execution_count": 34,
   "metadata": {},
   "outputs": [],
   "source": [
    "import numpy as np"
   ]
  },
  {
   "cell_type": "code",
   "execution_count": 36,
   "metadata": {},
   "outputs": [
    {
     "name": "stdout",
     "output_type": "stream",
     "text": [
      "tensor([[-0.6859,  0.7078],\n        [-0.2202, -0.6382]], dtype=torch.float64)\n"
     ]
    }
   ],
   "source": [
    "npArray = np.random.randn(2,2)\n",
    "\n",
    "# From ndarray to tensor\n",
    "toTensor = torch.from_numpy(npArray)\n",
    "print(toTensor)\n"
   ]
  },
  {
   "cell_type": "code",
   "execution_count": 37,
   "metadata": {},
   "outputs": [
    {
     "name": "stdout",
     "output_type": "stream",
     "text": [
      "[[-0.68589138  0.70778997]\n [-0.22016197 -0.6382417 ]]\n"
     ]
    }
   ],
   "source": [
    "# From tensor to numpy ndarrray\n",
    "toArray = toTensor.numpy()\n",
    "print(toArray)"
   ]
  },
  {
   "cell_type": "markdown",
   "metadata": {},
   "source": []
  },
  {
   "cell_type": "code",
   "execution_count": 64,
   "metadata": {},
   "outputs": [
    {
     "name": "stdout",
     "output_type": "stream",
     "text": [
      "tensor([[1., 1., 4., 5.],\n        [6., 7., 3., 2.],\n        [5., 5., 5., 2.]])\ntensor([[0., 4., 2., 2.],\n        [1., 1., 3., 1.],\n        [1., 9., 7., 8.]])\ntensor([[1., 1.],\n        [2., 2.],\n        [0., 5.]])\n"
     ]
    }
   ],
   "source": [
    "a = torch.Tensor([[1,1,4,5], [6,7,3,2], [5,5,5,2]])\n",
    "b = torch.Tensor([[0,4,2,2], [1,1,3,1], [1,9,7,8]])\n",
    "c = torch.Tensor([[1,1], [2,2], [0,5]])\n",
    "print(a)\n",
    "print(b)\n",
    "print(c)"
   ]
  },
  {
   "cell_type": "code",
   "execution_count": 66,
   "metadata": {},
   "outputs": [
    {
     "data": {
      "text/plain": [
       "tensor([[1., 6., 5.],\n        [1., 7., 5.],\n        [4., 3., 5.],\n        [5., 2., 2.]])"
      ]
     },
     "execution_count": 66,
     "metadata": {},
     "output_type": "execute_result"
    }
   ],
   "source": [
    "# transpose\n",
    "a.t()"
   ]
  },
  {
   "cell_type": "code",
   "execution_count": 57,
   "metadata": {},
   "outputs": [
    {
     "data": {
      "text/plain": [
       "tensor([[  1.,  58.,   6.,  14.],\n        [ -1.,  11., -18., -36.],\n        [  1., -27.,   6.,   1.]])"
      ]
     },
     "execution_count": 57,
     "metadata": {},
     "output_type": "execute_result"
    }
   ],
   "source": [
    "# cross product\n",
    "a.cross(b)"
   ]
  },
  {
   "cell_type": "code",
   "execution_count": 69,
   "metadata": {},
   "outputs": [
    {
     "data": {
      "text/plain": [
       "tensor([[13., 38.],\n        [15., 40.],\n        [10., 35.],\n        [ 9., 19.]])"
      ]
     },
     "execution_count": 69,
     "metadata": {},
     "output_type": "execute_result"
    }
   ],
   "source": [
    "# matrix product\n",
    "a.t().mm(c)"
   ]
  },
  {
   "cell_type": "code",
   "execution_count": null,
   "metadata": {},
   "outputs": [],
   "source": []
  },
  {
   "cell_type": "code",
   "execution_count": null,
   "metadata": {},
   "outputs": [],
   "source": []
  },
  {
   "cell_type": "code",
   "execution_count": null,
   "metadata": {},
   "outputs": [],
   "source": []
  }
 ],
 "metadata": {
  "kernelspec": {
   "display_name": "Python 2",
   "language": "python",
   "name": "python2"
  },
  "language_info": {
   "codemirror_mode": {
    "name": "ipython",
    "version": 2
   },
   "file_extension": ".py",
   "mimetype": "text/x-python",
   "name": "python",
   "nbconvert_exporter": "python",
   "pygments_lexer": "ipython2",
   "version": "2.7.6"
  }
 },
 "nbformat": 4,
 "nbformat_minor": 0
}
