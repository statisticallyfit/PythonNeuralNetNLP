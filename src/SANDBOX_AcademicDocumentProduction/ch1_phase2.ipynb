{
 "cells": [
  {
   "cell_type": "code",
   "execution_count": 1,
   "metadata": {
    "execution": {
     "iopub.execute_input": "2020-09-21T07:06:47.952885Z",
     "iopub.status.busy": "2020-09-21T07:06:47.948315Z",
     "iopub.status.idle": "2020-09-21T07:06:48.724596Z",
     "shell.execute_reply": "2020-09-21T07:06:48.725789Z"
    },
    "title": "codecell"
   },
   "outputs": [],
   "source": [
    "from sympy import Matrix, Symbol, derive_by_array, Lambda, Function, MatrixSymbol, Derivative, diff, symbols\n",
    "from sympy import var\n",
    "from sympy.abc import x, i, j, a, b"
   ]
  },
  {
   "cell_type": "code",
   "execution_count": 2,
   "metadata": {
    "execution": {
     "iopub.execute_input": "2020-09-21T07:06:48.733634Z",
     "iopub.status.busy": "2020-09-21T07:06:48.729611Z",
     "iopub.status.idle": "2020-09-21T07:06:48.759768Z",
     "shell.execute_reply": "2020-09-21T07:06:48.760866Z"
    },
    "lines_to_next_cell": 0,
    "title": "codecell"
   },
   "outputs": [
    {
     "data": {
      "text/latex": [
       "$\\displaystyle \\left[\\begin{matrix}x_{11} & x_{12} & x_{13}\\\\x_{21} & x_{22} & x_{23}\\\\x_{31} & x_{32} & x_{33}\\end{matrix}\\right]$"
      ],
      "text/plain": [
       "Matrix([\n",
       "[x_11, x_12, x_13],\n",
       "[x_21, x_22, x_23],\n",
       "[x_31, x_32, x_33]])"
      ]
     },
     "execution_count": 1,
     "metadata": {},
     "output_type": "execute_result"
    }
   ],
   "source": [
    "def myvar(letter: str, i: int, j: int) -> Symbol:\n",
    "    letter_ij = Symbol('{}_{}{}'.format(letter, i+1, j+1), is_commutative=True)\n",
    "    return letter_ij\n",
    "\n",
    "\n",
    "n,m,p = 3,3,2\n",
    "\n",
    "X = Matrix(n, m, lambda i,j : myvar('x', i, j)); X"
   ]
  },
  {
   "cell_type": "code",
   "execution_count": 3,
   "metadata": {
    "execution": {
     "iopub.execute_input": "2020-09-21T07:06:48.769768Z",
     "iopub.status.busy": "2020-09-21T07:06:48.764216Z",
     "iopub.status.idle": "2020-09-21T07:06:48.776593Z",
     "shell.execute_reply": "2020-09-21T07:06:48.777649Z"
    },
    "lines_to_next_cell": 0,
    "title": "codecell"
   },
   "outputs": [
    {
     "data": {
      "text/latex": [
       "$\\displaystyle \\left[\\begin{matrix}w_{11} & w_{12}\\\\w_{21} & w_{22}\\\\w_{31} & w_{32}\\end{matrix}\\right]$"
      ],
      "text/plain": [
       "Matrix([\n",
       "[w_11, w_12],\n",
       "[w_21, w_22],\n",
       "[w_31, w_32]])"
      ]
     },
     "execution_count": 1,
     "metadata": {},
     "output_type": "execute_result"
    }
   ],
   "source": [
    "W = Matrix(m, p, lambda i,j : myvar('w', i, j)); W"
   ]
  },
  {
   "cell_type": "code",
   "execution_count": 4,
   "metadata": {
    "execution": {
     "iopub.execute_input": "2020-09-21T07:06:48.782269Z",
     "iopub.status.busy": "2020-09-21T07:06:48.780807Z",
     "iopub.status.idle": "2020-09-21T07:06:48.789964Z",
     "shell.execute_reply": "2020-09-21T07:06:48.790998Z"
    },
    "title": "codecell"
   },
   "outputs": [],
   "source": [
    "A = MatrixSymbol('X',3,3); Matrix(A)\n",
    "B = MatrixSymbol('W',3,2)"
   ]
  },
  {
   "cell_type": "code",
   "execution_count": 5,
   "metadata": {
    "lines_to_next_cell": 0,
    "title": "codecell"
   },
   "outputs": [],
   "source": []
  },
  {
   "cell_type": "code",
   "execution_count": 5,
   "metadata": {
    "lines_to_next_cell": 0,
    "title": "codecell"
   },
   "outputs": [],
   "source": []
  },
  {
   "cell_type": "code",
   "execution_count": 5,
   "metadata": {
    "execution": {
     "iopub.execute_input": "2020-09-21T07:06:48.795970Z",
     "iopub.status.busy": "2020-09-21T07:06:48.794490Z",
     "iopub.status.idle": "2020-09-21T07:06:48.811403Z",
     "shell.execute_reply": "2020-09-21T07:06:48.812822Z"
    },
    "title": "codecell"
   },
   "outputs": [
    {
     "data": {
      "text/latex": [
       "$\\displaystyle \\left[\\begin{matrix}n_{11} & n_{12}\\\\n_{21} & n_{22}\\\\n_{31} & n_{32}\\end{matrix}\\right]$"
      ],
      "text/plain": [
       "Matrix([\n",
       "[n_11, n_12],\n",
       "[n_21, n_22],\n",
       "[n_31, n_32]])"
      ]
     },
     "execution_count": 1,
     "metadata": {},
     "output_type": "execute_result"
    }
   ],
   "source": [
    "v = lambda a,b: a*b\n",
    "\n",
    "vL = Lambda((a,b), a*b)\n",
    "\n",
    "n = Function('v') #, Lambda((a,b), a*b))\n",
    "\n",
    "vN = lambda mat1, mat2: Matrix(mat1.shape[0], mat2.shape[1], lambda i, j: Symbol(\"n_{}{}\".format(i+1, j+1))); vN\n",
    "\n",
    "Nelem = vN(X, W); Nelem"
   ]
  },
  {
   "cell_type": "code",
   "execution_count": 6,
   "metadata": {
    "execution": {
     "iopub.execute_input": "2020-09-21T07:06:48.817587Z",
     "iopub.status.busy": "2020-09-21T07:06:48.816031Z",
     "iopub.status.idle": "2020-09-21T07:06:48.829366Z",
     "shell.execute_reply": "2020-09-21T07:06:48.830400Z"
    },
    "lines_to_next_cell": 0,
    "title": "codecell"
   },
   "outputs": [
    {
     "data": {
      "text/latex": [
       "$\\displaystyle v{\\left(\\left[\\begin{matrix}x_{11} & x_{12} & x_{13}\\\\x_{21} & x_{22} & x_{23}\\\\x_{31} & x_{32} & x_{33}\\end{matrix}\\right],\\left[\\begin{matrix}w_{11} & w_{12}\\\\w_{21} & w_{22}\\\\w_{31} & w_{32}\\end{matrix}\\right] \\right)}$"
      ],
      "text/plain": [
       "v(Matrix([\n",
       "[x_11, x_12, x_13],\n",
       "[x_21, x_22, x_23],\n",
       "[x_31, x_32, x_33]]), Matrix([\n",
       "[w_11, w_12],\n",
       "[w_21, w_22],\n",
       "[w_31, w_32]]))"
      ]
     },
     "execution_count": 1,
     "metadata": {},
     "output_type": "execute_result"
    }
   ],
   "source": [
    "n(X,W)"
   ]
  },
  {
   "cell_type": "code",
   "execution_count": 7,
   "metadata": {
    "execution": {
     "iopub.execute_input": "2020-09-21T07:06:48.835202Z",
     "iopub.status.busy": "2020-09-21T07:06:48.833770Z",
     "iopub.status.idle": "2020-09-21T07:06:48.843663Z",
     "shell.execute_reply": "2020-09-21T07:06:48.844741Z"
    },
    "lines_to_next_cell": 0,
    "title": "codecell"
   },
   "outputs": [
    {
     "data": {
      "text/latex": [
       "$\\displaystyle v{\\left(X,W \\right)}$"
      ],
      "text/plain": [
       "v(X, W)"
      ]
     },
     "execution_count": 1,
     "metadata": {},
     "output_type": "execute_result"
    }
   ],
   "source": [
    "n(A,B)"
   ]
  },
  {
   "cell_type": "code",
   "execution_count": 8,
   "metadata": {
    "execution": {
     "iopub.execute_input": "2020-09-21T07:06:48.849412Z",
     "iopub.status.busy": "2020-09-21T07:06:48.847919Z",
     "iopub.status.idle": "2020-09-21T07:06:49.541506Z",
     "shell.execute_reply": "2020-09-21T07:06:49.542636Z"
    },
    "lines_to_next_cell": 0,
    "title": "codecell"
   },
   "outputs": [
    {
     "data": {
      "text/latex": [
       "$\\displaystyle \\left[\\begin{matrix}w_{11} x_{11} + w_{21} x_{12} + w_{31} x_{13} & w_{12} x_{11} + w_{22} x_{12} + w_{32} x_{13}\\\\w_{11} x_{21} + w_{21} x_{22} + w_{31} x_{23} & w_{12} x_{21} + w_{22} x_{22} + w_{32} x_{23}\\\\w_{11} x_{31} + w_{21} x_{32} + w_{31} x_{33} & w_{12} x_{31} + w_{22} x_{32} + w_{32} x_{33}\\end{matrix}\\right]$"
      ],
      "text/plain": [
       "Matrix([\n",
       "[w_11*x_11 + w_21*x_12 + w_31*x_13, w_12*x_11 + w_22*x_12 + w_32*x_13],\n",
       "[w_11*x_21 + w_21*x_22 + w_31*x_23, w_12*x_21 + w_22*x_22 + w_32*x_23],\n",
       "[w_11*x_31 + w_21*x_32 + w_31*x_33, w_12*x_31 + w_22*x_32 + w_32*x_33]])"
      ]
     },
     "execution_count": 1,
     "metadata": {},
     "output_type": "execute_result"
    }
   ],
   "source": [
    "n(X,W).replace(n, v) # replace works when v = python lambda"
   ]
  },
  {
   "cell_type": "code",
   "execution_count": 9,
   "metadata": {
    "execution": {
     "iopub.execute_input": "2020-09-21T07:06:49.547687Z",
     "iopub.status.busy": "2020-09-21T07:06:49.546195Z",
     "iopub.status.idle": "2020-09-21T07:06:49.579251Z",
     "shell.execute_reply": "2020-09-21T07:06:49.580312Z"
    },
    "lines_to_next_cell": 0,
    "title": "codecell"
   },
   "outputs": [
    {
     "data": {
      "text/latex": [
       "$\\displaystyle \\left[\\begin{matrix}w_{11} x_{11} + w_{21} x_{12} + w_{31} x_{13} & w_{12} x_{11} + w_{22} x_{12} + w_{32} x_{13}\\\\w_{11} x_{21} + w_{21} x_{22} + w_{31} x_{23} & w_{12} x_{21} + w_{22} x_{22} + w_{32} x_{23}\\\\w_{11} x_{31} + w_{21} x_{32} + w_{31} x_{33} & w_{12} x_{31} + w_{22} x_{32} + w_{32} x_{33}\\end{matrix}\\right]$"
      ],
      "text/plain": [
       "Matrix([\n",
       "[w_11*x_11 + w_21*x_12 + w_31*x_13, w_12*x_11 + w_22*x_12 + w_32*x_13],\n",
       "[w_11*x_21 + w_21*x_22 + w_31*x_23, w_12*x_21 + w_22*x_22 + w_32*x_23],\n",
       "[w_11*x_31 + w_21*x_32 + w_31*x_33, w_12*x_31 + w_22*x_32 + w_32*x_33]])"
      ]
     },
     "execution_count": 1,
     "metadata": {},
     "output_type": "execute_result"
    }
   ],
   "source": [
    "n(X,W).subs({n: vL}) # subs works when v = sympy lambda"
   ]
  },
  {
   "cell_type": "code",
   "execution_count": 10,
   "metadata": {
    "execution": {
     "iopub.execute_input": "2020-09-21T07:06:49.585142Z",
     "iopub.status.busy": "2020-09-21T07:06:49.583622Z",
     "iopub.status.idle": "2020-09-21T07:06:49.611189Z",
     "shell.execute_reply": "2020-09-21T07:06:49.612237Z"
    },
    "lines_to_next_cell": 0,
    "title": "codecell"
   },
   "outputs": [
    {
     "data": {
      "text/latex": [
       "$\\displaystyle \\left[\\begin{matrix}w_{11} x_{11} + w_{21} x_{12} + w_{31} x_{13} & w_{12} x_{11} + w_{22} x_{12} + w_{32} x_{13}\\\\w_{11} x_{21} + w_{21} x_{22} + w_{31} x_{23} & w_{12} x_{21} + w_{22} x_{22} + w_{32} x_{23}\\\\w_{11} x_{31} + w_{21} x_{32} + w_{31} x_{33} & w_{12} x_{31} + w_{22} x_{32} + w_{32} x_{33}\\end{matrix}\\right]$"
      ],
      "text/plain": [
       "Matrix([\n",
       "[w_11*x_11 + w_21*x_12 + w_31*x_13, w_12*x_11 + w_22*x_12 + w_32*x_13],\n",
       "[w_11*x_21 + w_21*x_22 + w_31*x_23, w_12*x_21 + w_22*x_22 + w_32*x_23],\n",
       "[w_11*x_31 + w_21*x_32 + w_31*x_33, w_12*x_31 + w_22*x_32 + w_32*x_33]])"
      ]
     },
     "execution_count": 1,
     "metadata": {},
     "output_type": "execute_result"
    }
   ],
   "source": [
    "n(X,W).replace(n, vL)"
   ]
  },
  {
   "cell_type": "code",
   "execution_count": 11,
   "metadata": {
    "execution": {
     "iopub.execute_input": "2020-09-21T07:06:49.617632Z",
     "iopub.status.busy": "2020-09-21T07:06:49.616076Z",
     "iopub.status.idle": "2020-09-21T07:06:49.629604Z",
     "shell.execute_reply": "2020-09-21T07:06:49.630667Z"
    },
    "title": "codecell"
   },
   "outputs": [
    {
     "data": {
      "text/latex": [
       "$\\displaystyle v{\\left(\\left[\\begin{matrix}x_{11} & x_{12} & x_{13}\\\\x_{21} & x_{22} & x_{23}\\\\x_{31} & x_{32} & x_{33}\\end{matrix}\\right],\\left[\\begin{matrix}w_{11} & w_{12}\\\\w_{21} & w_{22}\\\\w_{31} & w_{32}\\end{matrix}\\right] \\right)}$"
      ],
      "text/plain": [
       "v(Matrix([\n",
       "[x_11, x_12, x_13],\n",
       "[x_21, x_22, x_23],\n",
       "[x_31, x_32, x_33]]), Matrix([\n",
       "[w_11, w_12],\n",
       "[w_21, w_22],\n",
       "[w_31, w_32]]))"
      ]
     },
     "execution_count": 1,
     "metadata": {},
     "output_type": "execute_result"
    }
   ],
   "source": [
    "n(X,W).subs({n: v})# subs() doesn't work when v is python lambda"
   ]
  },
  {
   "cell_type": "code",
   "execution_count": 12,
   "metadata": {
    "execution": {
     "iopub.execute_input": "2020-09-21T07:06:49.635338Z",
     "iopub.status.busy": "2020-09-21T07:06:49.633855Z",
     "iopub.status.idle": "2020-09-21T07:06:49.807942Z",
     "shell.execute_reply": "2020-09-21T07:06:49.809045Z"
    },
    "lines_to_next_cell": 2,
    "title": "codecell"
   },
   "outputs": [
    {
     "data": {
      "text/latex": [
       "$\\displaystyle \\left[\\begin{array}{cc}W_{0, 0} X_{0, 0} + W_{1, 0} X_{0, 1} + W_{2, 0} X_{0, 2} & W_{0, 1} X_{0, 0} + W_{1, 1} X_{0, 1} + W_{2, 1} X_{0, 2}\\\\W_{0, 0} X_{1, 0} + W_{1, 0} X_{1, 1} + W_{2, 0} X_{1, 2} & W_{0, 1} X_{1, 0} + W_{1, 1} X_{1, 1} + W_{2, 1} X_{1, 2}\\\\W_{0, 0} X_{2, 0} + W_{1, 0} X_{2, 1} + W_{2, 0} X_{2, 2} & W_{0, 1} X_{2, 0} + W_{1, 1} X_{2, 1} + W_{2, 1} X_{2, 2}\\end{array}\\right]$"
      ],
      "text/plain": [
       "Matrix([\n",
       "[W[0, 0]*X[0, 0] + W[1, 0]*X[0, 1] + W[2, 0]*X[0, 2], W[0, 1]*X[0, 0] + W[1, 1]*X[0, 1] + W[2, 1]*X[0, 2]],\n",
       "[W[0, 0]*X[1, 0] + W[1, 0]*X[1, 1] + W[2, 0]*X[1, 2], W[0, 1]*X[1, 0] + W[1, 1]*X[1, 1] + W[2, 1]*X[1, 2]],\n",
       "[W[0, 0]*X[2, 0] + W[1, 0]*X[2, 1] + W[2, 0]*X[2, 2], W[0, 1]*X[2, 0] + W[1, 1]*X[2, 1] + W[2, 1]*X[2, 2]]])"
      ]
     },
     "execution_count": 1,
     "metadata": {},
     "output_type": "execute_result"
    }
   ],
   "source": [
    "Matrix(n(A,B).subs({n: vL}))"
   ]
  },
  {
   "cell_type": "code",
   "execution_count": 13,
   "metadata": {
    "execution": {
     "iopub.execute_input": "2020-09-21T07:06:49.813903Z",
     "iopub.status.busy": "2020-09-21T07:06:49.812429Z",
     "iopub.status.idle": "2020-09-21T07:06:49.822699Z",
     "shell.execute_reply": "2020-09-21T07:06:49.823764Z"
    },
    "lines_to_next_cell": 0,
    "title": "codecell"
   },
   "outputs": [
    {
     "data": {
      "text/latex": [
       "$\\displaystyle v{\\left(X,W \\right)}$"
      ],
      "text/plain": [
       "v(X, W)"
      ]
     },
     "execution_count": 1,
     "metadata": {},
     "output_type": "execute_result"
    }
   ],
   "source": [
    "#N = v(X, W); N\n",
    "N = n(A,B); N"
   ]
  },
  {
   "cell_type": "code",
   "execution_count": 14,
   "metadata": {
    "execution": {
     "iopub.execute_input": "2020-09-21T07:06:49.828505Z",
     "iopub.status.busy": "2020-09-21T07:06:49.827055Z",
     "iopub.status.idle": "2020-09-21T07:06:49.837618Z",
     "shell.execute_reply": "2020-09-21T07:06:49.838644Z"
    },
    "lines_to_next_cell": 0,
    "title": "codecell"
   },
   "outputs": [
    {
     "data": {
      "text/latex": [
       "$\\displaystyle X W$"
      ],
      "text/plain": [
       "X*W"
      ]
     },
     "execution_count": 1,
     "metadata": {},
     "output_type": "execute_result"
    }
   ],
   "source": [
    "N.replace(n, v)"
   ]
  },
  {
   "cell_type": "code",
   "execution_count": 15,
   "metadata": {
    "execution": {
     "iopub.execute_input": "2020-09-21T07:06:49.843502Z",
     "iopub.status.busy": "2020-09-21T07:06:49.841966Z",
     "iopub.status.idle": "2020-09-21T07:06:49.859061Z",
     "shell.execute_reply": "2020-09-21T07:06:49.860109Z"
    },
    "title": "codecell"
   },
   "outputs": [
    {
     "data": {
      "text/latex": [
       "$\\displaystyle \\left[\\begin{matrix}x_{11} & x_{12} & x_{13}\\\\x_{21} & x_{22} & x_{23}\\\\x_{31} & x_{32} & x_{33}\\end{matrix}\\right] \\left[\\begin{matrix}w_{11} & w_{12}\\\\w_{21} & w_{22}\\\\w_{31} & w_{32}\\end{matrix}\\right]$"
      ],
      "text/plain": [
       "Matrix([\n",
       "[x_11, x_12, x_13],\n",
       "[x_21, x_22, x_23],\n",
       "[x_31, x_32, x_33]])*Matrix([\n",
       "[w_11, w_12],\n",
       "[w_21, w_22],\n",
       "[w_31, w_32]])"
      ]
     },
     "execution_count": 1,
     "metadata": {},
     "output_type": "execute_result"
    }
   ],
   "source": [
    "N.replace(n, v).subs({A: X, B:W}) # replacing ariable values after doing function doesn't make the function apply directly on the values (matrices), need to replace values before the function is replaced, so that the function can act on them while they are given/alive."
   ]
  },
  {
   "cell_type": "code",
   "execution_count": 16,
   "metadata": {
    "execution": {
     "iopub.execute_input": "2020-09-21T07:06:49.864783Z",
     "iopub.status.busy": "2020-09-21T07:06:49.863252Z",
     "iopub.status.idle": "2020-09-21T07:06:49.892413Z",
     "shell.execute_reply": "2020-09-21T07:06:49.893532Z"
    },
    "lines_to_next_cell": 0,
    "title": "codecell"
   },
   "outputs": [
    {
     "data": {
      "text/latex": [
       "$\\displaystyle \\left[\\begin{matrix}w_{11} x_{11} + w_{21} x_{12} + w_{31} x_{13} & w_{12} x_{11} + w_{22} x_{12} + w_{32} x_{13}\\\\w_{11} x_{21} + w_{21} x_{22} + w_{31} x_{23} & w_{12} x_{21} + w_{22} x_{22} + w_{32} x_{23}\\\\w_{11} x_{31} + w_{21} x_{32} + w_{31} x_{33} & w_{12} x_{31} + w_{22} x_{32} + w_{32} x_{33}\\end{matrix}\\right]$"
      ],
      "text/plain": [
       "Matrix([\n",
       "[w_11*x_11 + w_21*x_12 + w_31*x_13, w_12*x_11 + w_22*x_12 + w_32*x_13],\n",
       "[w_11*x_21 + w_21*x_22 + w_31*x_23, w_12*x_21 + w_22*x_22 + w_32*x_23],\n",
       "[w_11*x_31 + w_21*x_32 + w_31*x_33, w_12*x_31 + w_22*x_32 + w_32*x_33]])"
      ]
     },
     "execution_count": 1,
     "metadata": {},
     "output_type": "execute_result"
    }
   ],
   "source": [
    "N.subs({n: vL, A:X, B:W})"
   ]
  },
  {
   "cell_type": "code",
   "execution_count": 17,
   "metadata": {
    "execution": {
     "iopub.execute_input": "2020-09-21T07:06:49.898484Z",
     "iopub.status.busy": "2020-09-21T07:06:49.896979Z",
     "iopub.status.idle": "2020-09-21T07:06:49.926271Z",
     "shell.execute_reply": "2020-09-21T07:06:49.927368Z"
    },
    "lines_to_next_cell": 0,
    "title": "codecell"
   },
   "outputs": [
    {
     "data": {
      "text/latex": [
       "$\\displaystyle \\left[\\begin{matrix}w_{11} x_{11} + w_{21} x_{12} + w_{31} x_{13} & w_{12} x_{11} + w_{22} x_{12} + w_{32} x_{13}\\\\w_{11} x_{21} + w_{21} x_{22} + w_{31} x_{23} & w_{12} x_{21} + w_{22} x_{22} + w_{32} x_{23}\\\\w_{11} x_{31} + w_{21} x_{32} + w_{31} x_{33} & w_{12} x_{31} + w_{22} x_{32} + w_{32} x_{33}\\end{matrix}\\right]$"
      ],
      "text/plain": [
       "Matrix([\n",
       "[w_11*x_11 + w_21*x_12 + w_31*x_13, w_12*x_11 + w_22*x_12 + w_32*x_13],\n",
       "[w_11*x_21 + w_21*x_22 + w_31*x_23, w_12*x_21 + w_22*x_22 + w_32*x_23],\n",
       "[w_11*x_31 + w_21*x_32 + w_31*x_33, w_12*x_31 + w_22*x_32 + w_32*x_33]])"
      ]
     },
     "execution_count": 1,
     "metadata": {},
     "output_type": "execute_result"
    }
   ],
   "source": [
    "Nspec = N.subs({A:X, B:W}).replace(n, v); Nspec"
   ]
  },
  {
   "cell_type": "code",
   "execution_count": 18,
   "metadata": {
    "lines_to_next_cell": 0,
    "title": "codecell"
   },
   "outputs": [],
   "source": []
  },
  {
   "cell_type": "code",
   "execution_count": 18,
   "metadata": {
    "execution": {
     "iopub.execute_input": "2020-09-21T07:06:49.932180Z",
     "iopub.status.busy": "2020-09-21T07:06:49.930701Z",
     "iopub.status.idle": "2020-09-21T07:06:49.941464Z",
     "shell.execute_reply": "2020-09-21T07:06:49.942500Z"
    },
    "lines_to_next_cell": 0,
    "title": "codecell"
   },
   "outputs": [
    {
     "data": {
      "text/latex": [
       "$\\displaystyle 1$"
      ],
      "text/plain": [
       "1"
      ]
     },
     "execution_count": 1,
     "metadata": {},
     "output_type": "execute_result"
    }
   ],
   "source": [
    "N.diff(N)"
   ]
  },
  {
   "cell_type": "code",
   "execution_count": 19,
   "metadata": {
    "execution": {
     "iopub.execute_input": "2020-09-21T07:06:49.947311Z",
     "iopub.status.busy": "2020-09-21T07:06:49.945875Z",
     "iopub.status.idle": "2020-09-21T07:06:49.959565Z",
     "shell.execute_reply": "2020-09-21T07:06:49.960656Z"
    },
    "lines_to_next_cell": 0,
    "title": "codecell"
   },
   "outputs": [
    {
     "data": {
      "text/latex": [
       "$\\displaystyle \\left[\\begin{matrix}0 & 0 & 0\\\\0 & 0 & 0\\\\0 & 0 & 0\\end{matrix}\\right]$"
      ],
      "text/plain": [
       "Matrix([\n",
       "[0, 0, 0],\n",
       "[0, 0, 0],\n",
       "[0, 0, 0]])"
      ]
     },
     "execution_count": 1,
     "metadata": {},
     "output_type": "execute_result"
    }
   ],
   "source": [
    "N.diff(X)"
   ]
  },
  {
   "cell_type": "code",
   "execution_count": 20,
   "metadata": {
    "lines_to_next_cell": 0,
    "title": "codecell"
   },
   "outputs": [],
   "source": []
  },
  {
   "cell_type": "code",
   "execution_count": 20,
   "metadata": {
    "title": "codecell"
   },
   "outputs": [],
   "source": [
    "\n",
    "\n"
   ]
  },
  {
   "cell_type": "code",
   "execution_count": 20,
   "metadata": {
    "execution": {
     "iopub.execute_input": "2020-09-21T07:06:49.965586Z",
     "iopub.status.busy": "2020-09-21T07:06:49.964066Z",
     "iopub.status.idle": "2020-09-21T07:06:49.976037Z",
     "shell.execute_reply": "2020-09-21T07:06:49.977113Z"
    },
    "lines_to_next_cell": 0,
    "title": "codecell"
   },
   "outputs": [
    {
     "data": {
      "text/latex": [
       "$\\displaystyle \\sigma_{apply}{\\left(X \\right)}$"
      ],
      "text/plain": [
       "sigma_apply(X)"
      ]
     },
     "execution_count": 1,
     "metadata": {},
     "output_type": "execute_result"
    }
   ],
   "source": [
    "# way 2 of declaring S (better way)\n",
    "sigma = Function('sigma')\n",
    "\n",
    "sigmaApply = Function(\"sigma_apply\") #lambda matrix:  matrix.applyfunc(sigma)\n",
    "\n",
    "sigmaApply_ = lambda matrix: matrix.applyfunc(sigma)\n",
    "\n",
    "sigmaApply(A)"
   ]
  },
  {
   "cell_type": "code",
   "execution_count": 21,
   "metadata": {
    "execution": {
     "iopub.execute_input": "2020-09-21T07:06:49.981900Z",
     "iopub.status.busy": "2020-09-21T07:06:49.980377Z",
     "iopub.status.idle": "2020-09-21T07:06:49.992516Z",
     "shell.execute_reply": "2020-09-21T07:06:49.993550Z"
    },
    "lines_to_next_cell": 0,
    "title": "codecell"
   },
   "outputs": [
    {
     "data": {
      "text/latex": [
       "$\\displaystyle \\sigma_{apply}{\\left(\\left[\\begin{matrix}x_{11} & x_{12} & x_{13}\\\\x_{21} & x_{22} & x_{23}\\\\x_{31} & x_{32} & x_{33}\\end{matrix}\\right] \\right)}$"
      ],
      "text/plain": [
       "sigma_apply(Matrix([\n",
       "[x_11, x_12, x_13],\n",
       "[x_21, x_22, x_23],\n",
       "[x_31, x_32, x_33]]))"
      ]
     },
     "execution_count": 1,
     "metadata": {},
     "output_type": "execute_result"
    }
   ],
   "source": [
    "sigmaApply(A).subs({A: X})"
   ]
  },
  {
   "cell_type": "code",
   "execution_count": 22,
   "metadata": {
    "execution": {
     "iopub.execute_input": "2020-09-21T07:06:49.998296Z",
     "iopub.status.busy": "2020-09-21T07:06:49.996816Z",
     "iopub.status.idle": "2020-09-21T07:06:50.007083Z",
     "shell.execute_reply": "2020-09-21T07:06:50.008125Z"
    },
    "title": "codecell"
   },
   "outputs": [
    {
     "data": {
      "text/latex": [
       "$\\displaystyle {\\left( d \\mapsto \\sigma{\\left(d \\right)} \\right)}_{\\circ}\\left({X}\\right)$"
      ],
      "text/plain": [
       "Lambda(_d, sigma(_d)).(X)"
      ]
     },
     "execution_count": 1,
     "metadata": {},
     "output_type": "execute_result"
    }
   ],
   "source": [
    "sigmaApply_(A)"
   ]
  },
  {
   "cell_type": "code",
   "execution_count": 23,
   "metadata": {
    "execution": {
     "iopub.execute_input": "2020-09-21T07:06:50.013013Z",
     "iopub.status.busy": "2020-09-21T07:06:50.011470Z",
     "iopub.status.idle": "2020-09-21T07:06:50.027074Z",
     "shell.execute_reply": "2020-09-21T07:06:50.028122Z"
    },
    "lines_to_next_cell": 2,
    "title": "codecell"
   },
   "outputs": [
    {
     "data": {
      "text/latex": [
       "$\\displaystyle \\left[\\begin{matrix}\\sigma{\\left(x_{11} \\right)} & \\sigma{\\left(x_{12} \\right)} & \\sigma{\\left(x_{13} \\right)}\\\\\\sigma{\\left(x_{21} \\right)} & \\sigma{\\left(x_{22} \\right)} & \\sigma{\\left(x_{23} \\right)}\\\\\\sigma{\\left(x_{31} \\right)} & \\sigma{\\left(x_{32} \\right)} & \\sigma{\\left(x_{33} \\right)}\\end{matrix}\\right]$"
      ],
      "text/plain": [
       "Matrix([\n",
       "[sigma(x_11), sigma(x_12), sigma(x_13)],\n",
       "[sigma(x_21), sigma(x_22), sigma(x_23)],\n",
       "[sigma(x_31), sigma(x_32), sigma(x_33)]])"
      ]
     },
     "execution_count": 1,
     "metadata": {},
     "output_type": "execute_result"
    }
   ],
   "source": [
    "sigmaApply(A).subs({A: X}).replace(sigmaApply, sigmaApply_) # NOTE: subs of functions doesn't work, replace actually evaluates the replaced function!"
   ]
  },
  {
   "cell_type": "code",
   "execution_count": 24,
   "metadata": {
    "execution": {
     "iopub.execute_input": "2020-09-21T07:06:50.032814Z",
     "iopub.status.busy": "2020-09-21T07:06:50.031323Z",
     "iopub.status.idle": "2020-09-21T07:06:50.041443Z",
     "shell.execute_reply": "2020-09-21T07:06:50.042488Z"
    },
    "lines_to_next_cell": 0,
    "title": "codecell"
   },
   "outputs": [
    {
     "data": {
      "text/latex": [
       "$\\displaystyle \\sigma_{apply}{\\left(v{\\left(X,W \\right)} \\right)}$"
      ],
      "text/plain": [
       "sigma_apply(v(X, W))"
      ]
     },
     "execution_count": 1,
     "metadata": {},
     "output_type": "execute_result"
    }
   ],
   "source": [
    "S = sigmaApply(N); S"
   ]
  },
  {
   "cell_type": "code",
   "execution_count": 25,
   "metadata": {
    "execution": {
     "iopub.execute_input": "2020-09-21T07:06:50.047232Z",
     "iopub.status.busy": "2020-09-21T07:06:50.045784Z",
     "iopub.status.idle": "2020-09-21T07:06:50.055592Z",
     "shell.execute_reply": "2020-09-21T07:06:50.056674Z"
    },
    "lines_to_next_cell": 0,
    "title": "codecell"
   },
   "outputs": [
    {
     "data": {
      "text/latex": [
       "$\\displaystyle \\frac{\\partial}{\\partial \\sigma_{apply}{\\left(v{\\left(X,W \\right)} \\right)}} \\sigma_{apply}{\\left(v{\\left(X,W \\right)} \\right)}$"
      ],
      "text/plain": [
       "Derivative(sigma_apply(v(X, W)), sigma_apply(v(X, W)))"
      ]
     },
     "execution_count": 1,
     "metadata": {},
     "output_type": "execute_result"
    }
   ],
   "source": [
    "Derivative(S, S)"
   ]
  },
  {
   "cell_type": "code",
   "execution_count": 26,
   "metadata": {
    "execution": {
     "iopub.execute_input": "2020-09-21T07:06:50.061280Z",
     "iopub.status.busy": "2020-09-21T07:06:50.059790Z",
     "iopub.status.idle": "2020-09-21T07:06:50.070912Z",
     "shell.execute_reply": "2020-09-21T07:06:50.072039Z"
    },
    "lines_to_next_cell": 0,
    "title": "codecell"
   },
   "outputs": [
    {
     "data": {
      "text/latex": [
       "$\\displaystyle 1$"
      ],
      "text/plain": [
       "1"
      ]
     },
     "execution_count": 1,
     "metadata": {},
     "output_type": "execute_result"
    }
   ],
   "source": [
    "Derivative(S, S).doit()"
   ]
  },
  {
   "cell_type": "code",
   "execution_count": 27,
   "metadata": {
    "execution": {
     "iopub.execute_input": "2020-09-21T07:06:50.076904Z",
     "iopub.status.busy": "2020-09-21T07:06:50.075377Z",
     "iopub.status.idle": "2020-09-21T07:06:50.089129Z",
     "shell.execute_reply": "2020-09-21T07:06:50.090166Z"
    },
    "lines_to_next_cell": 0,
    "title": "codecell"
   },
   "outputs": [
    {
     "data": {
      "text/latex": [
       "$\\displaystyle \\frac{\\partial}{\\partial v{\\left(X,W \\right)}} \\sigma_{apply}{\\left(v{\\left(X,W \\right)} \\right)}$"
      ],
      "text/plain": [
       "Derivative(sigma_apply(v(X, W)), v(X, W))"
      ]
     },
     "execution_count": 1,
     "metadata": {},
     "output_type": "execute_result"
    }
   ],
   "source": [
    "Derivative(S, n(A,B)).doit()"
   ]
  },
  {
   "cell_type": "code",
   "execution_count": 28,
   "metadata": {
    "execution": {
     "iopub.execute_input": "2020-09-21T07:06:50.094813Z",
     "iopub.status.busy": "2020-09-21T07:06:50.093363Z",
     "iopub.status.idle": "2020-09-21T07:06:50.098802Z",
     "shell.execute_reply": "2020-09-21T07:06:50.099823Z"
    },
    "lines_to_next_cell": 2,
    "title": "codecell"
   },
   "outputs": [],
   "source": [
    "#lambd = Function(\"lambda\")\n",
    "#Lagain = lambd(sigmaApply(n(A))); Lagain\n",
    "\n",
    "\n",
    "\n",
    "# diff(Lagain, A) # never execute\n",
    "#"
   ]
  },
  {
   "cell_type": "code",
   "execution_count": 29,
   "metadata": {
    "execution": {
     "iopub.execute_input": "2020-09-21T07:06:50.109392Z",
     "iopub.status.busy": "2020-09-21T07:06:50.103099Z",
     "iopub.status.idle": "2020-09-21T07:06:50.118880Z",
     "shell.execute_reply": "2020-09-21T07:06:50.119912Z"
    },
    "title": "codecell"
   },
   "outputs": [
    {
     "data": {
      "text/latex": [
       "$\\displaystyle \\sigma_{apply}{\\left(v{\\left(\\left[\\begin{matrix}x_{11} & x_{12} & x_{13}\\\\x_{21} & x_{22} & x_{23}\\\\x_{31} & x_{32} & x_{33}\\end{matrix}\\right],\\left[\\begin{matrix}w_{11} & w_{12}\\\\w_{21} & w_{22}\\\\w_{31} & w_{32}\\end{matrix}\\right] \\right)} \\right)}$"
      ],
      "text/plain": [
       "sigma_apply(v(Matrix([\n",
       "[x_11, x_12, x_13],\n",
       "[x_21, x_22, x_23],\n",
       "[x_31, x_32, x_33]]), Matrix([\n",
       "[w_11, w_12],\n",
       "[w_21, w_22],\n",
       "[w_31, w_32]])))"
      ]
     },
     "execution_count": 1,
     "metadata": {},
     "output_type": "execute_result"
    }
   ],
   "source": [
    "S.replace(A,X).replace(B,W)"
   ]
  },
  {
   "cell_type": "code",
   "execution_count": 30,
   "metadata": {
    "execution": {
     "iopub.execute_input": "2020-09-21T07:06:50.124827Z",
     "iopub.status.busy": "2020-09-21T07:06:50.123194Z",
     "iopub.status.idle": "2020-09-21T07:06:50.134252Z",
     "shell.execute_reply": "2020-09-21T07:06:50.135296Z"
    },
    "lines_to_next_cell": 0,
    "title": "codecell"
   },
   "outputs": [
    {
     "data": {
      "text/latex": [
       "$\\displaystyle \\sigma_{apply}{\\left(X W \\right)}$"
      ],
      "text/plain": [
       "sigma_apply(X*W)"
      ]
     },
     "execution_count": 1,
     "metadata": {},
     "output_type": "execute_result"
    }
   ],
   "source": [
    "S.replace(n, v)"
   ]
  },
  {
   "cell_type": "code",
   "execution_count": 31,
   "metadata": {
    "execution": {
     "iopub.execute_input": "2020-09-21T07:06:50.140111Z",
     "iopub.status.busy": "2020-09-21T07:06:50.138640Z",
     "iopub.status.idle": "2020-09-21T07:06:50.168749Z",
     "shell.execute_reply": "2020-09-21T07:06:50.169953Z"
    },
    "lines_to_next_cell": 0,
    "title": "codecell"
   },
   "outputs": [
    {
     "data": {
      "text/latex": [
       "$\\displaystyle \\sigma_{apply}{\\left(\\left[\\begin{matrix}w_{11} x_{11} + w_{21} x_{12} + w_{31} x_{13} & w_{12} x_{11} + w_{22} x_{12} + w_{32} x_{13}\\\\w_{11} x_{21} + w_{21} x_{22} + w_{31} x_{23} & w_{12} x_{21} + w_{22} x_{22} + w_{32} x_{23}\\\\w_{11} x_{31} + w_{21} x_{32} + w_{31} x_{33} & w_{12} x_{31} + w_{22} x_{32} + w_{32} x_{33}\\end{matrix}\\right] \\right)}$"
      ],
      "text/plain": [
       "sigma_apply(Matrix([\n",
       "[w_11*x_11 + w_21*x_12 + w_31*x_13, w_12*x_11 + w_22*x_12 + w_32*x_13],\n",
       "[w_11*x_21 + w_21*x_22 + w_31*x_23, w_12*x_21 + w_22*x_22 + w_32*x_23],\n",
       "[w_11*x_31 + w_21*x_32 + w_31*x_33, w_12*x_31 + w_22*x_32 + w_32*x_33]]))"
      ]
     },
     "execution_count": 1,
     "metadata": {},
     "output_type": "execute_result"
    }
   ],
   "source": [
    "S.subs({A:X, B:W}).replace(n, v)"
   ]
  },
  {
   "cell_type": "code",
   "execution_count": 32,
   "metadata": {
    "execution": {
     "iopub.execute_input": "2020-09-21T07:06:50.174890Z",
     "iopub.status.busy": "2020-09-21T07:06:50.173417Z",
     "iopub.status.idle": "2020-09-21T07:06:50.204936Z",
     "shell.execute_reply": "2020-09-21T07:06:50.206024Z"
    },
    "lines_to_next_cell": 0,
    "title": "codecell"
   },
   "outputs": [
    {
     "data": {
      "text/latex": [
       "$\\displaystyle \\left[\\begin{matrix}\\sigma{\\left(w_{11} x_{11} + w_{21} x_{12} + w_{31} x_{13} \\right)} & \\sigma{\\left(w_{12} x_{11} + w_{22} x_{12} + w_{32} x_{13} \\right)}\\\\\\sigma{\\left(w_{11} x_{21} + w_{21} x_{22} + w_{31} x_{23} \\right)} & \\sigma{\\left(w_{12} x_{21} + w_{22} x_{22} + w_{32} x_{23} \\right)}\\\\\\sigma{\\left(w_{11} x_{31} + w_{21} x_{32} + w_{31} x_{33} \\right)} & \\sigma{\\left(w_{12} x_{31} + w_{22} x_{32} + w_{32} x_{33} \\right)}\\end{matrix}\\right]$"
      ],
      "text/plain": [
       "Matrix([\n",
       "[sigma(w_11*x_11 + w_21*x_12 + w_31*x_13), sigma(w_12*x_11 + w_22*x_12 + w_32*x_13)],\n",
       "[sigma(w_11*x_21 + w_21*x_22 + w_31*x_23), sigma(w_12*x_21 + w_22*x_22 + w_32*x_23)],\n",
       "[sigma(w_11*x_31 + w_21*x_32 + w_31*x_33), sigma(w_12*x_31 + w_22*x_32 + w_32*x_33)]])"
      ]
     },
     "execution_count": 1,
     "metadata": {},
     "output_type": "execute_result"
    }
   ],
   "source": [
    "Sspec = S.subs({A:X, B:W}).replace(n, v).replace(sigmaApply, sigmaApply_)\n",
    "Sspec"
   ]
  },
  {
   "cell_type": "code",
   "execution_count": 33,
   "metadata": {
    "execution": {
     "iopub.execute_input": "2020-09-21T07:06:50.210898Z",
     "iopub.status.busy": "2020-09-21T07:06:50.209459Z",
     "iopub.status.idle": "2020-09-21T07:06:50.222152Z",
     "shell.execute_reply": "2020-09-21T07:06:50.223245Z"
    },
    "lines_to_next_cell": 0,
    "title": "codecell"
   },
   "outputs": [
    {
     "data": {
      "text/latex": [
       "$\\displaystyle \\sigma_{apply}{\\left(\\left[\\begin{matrix}n_{11} & n_{12}\\\\n_{21} & n_{22}\\\\n_{31} & n_{32}\\end{matrix}\\right] \\right)}$"
      ],
      "text/plain": [
       "sigma_apply(Matrix([\n",
       "[n_11, n_12],\n",
       "[n_21, n_22],\n",
       "[n_31, n_32]]))"
      ]
     },
     "execution_count": 1,
     "metadata": {},
     "output_type": "execute_result"
    }
   ],
   "source": [
    "S.replace(n, vN) #.replace(sigmaApply, sigmaApply_)"
   ]
  },
  {
   "cell_type": "code",
   "execution_count": 34,
   "metadata": {
    "execution": {
     "iopub.execute_input": "2020-09-21T07:06:50.228058Z",
     "iopub.status.busy": "2020-09-21T07:06:50.226580Z",
     "iopub.status.idle": "2020-09-21T07:06:50.240749Z",
     "shell.execute_reply": "2020-09-21T07:06:50.241767Z"
    },
    "title": "codecell"
   },
   "outputs": [
    {
     "data": {
      "text/latex": [
       "$\\displaystyle \\left[\\begin{matrix}\\sigma{\\left(n_{11} \\right)} & \\sigma{\\left(n_{12} \\right)}\\\\\\sigma{\\left(n_{21} \\right)} & \\sigma{\\left(n_{22} \\right)}\\\\\\sigma{\\left(n_{31} \\right)} & \\sigma{\\left(n_{32} \\right)}\\end{matrix}\\right]$"
      ],
      "text/plain": [
       "Matrix([\n",
       "[sigma(n_11), sigma(n_12)],\n",
       "[sigma(n_21), sigma(n_22)],\n",
       "[sigma(n_31), sigma(n_32)]])"
      ]
     },
     "execution_count": 1,
     "metadata": {},
     "output_type": "execute_result"
    }
   ],
   "source": [
    "Selem = S.replace(n, vN).replace(sigmaApply, sigmaApply_); Selem"
   ]
  },
  {
   "cell_type": "code",
   "execution_count": 35,
   "metadata": {
    "execution": {
     "iopub.execute_input": "2020-09-21T07:06:50.250000Z",
     "iopub.status.busy": "2020-09-21T07:06:50.248094Z",
     "iopub.status.idle": "2020-09-21T07:06:50.278574Z",
     "shell.execute_reply": "2020-09-21T07:06:50.279657Z"
    },
    "lines_to_next_cell": 0,
    "title": "codecell"
   },
   "outputs": [
    {
     "data": {
      "text/latex": [
       "$\\displaystyle \\left[\\begin{matrix}n_{11} & w_{11} x_{11} + w_{21} x_{12} + w_{31} x_{13}\\\\n_{12} & w_{12} x_{11} + w_{22} x_{12} + w_{32} x_{13}\\\\n_{21} & w_{11} x_{21} + w_{21} x_{22} + w_{31} x_{23}\\\\n_{22} & w_{12} x_{21} + w_{22} x_{22} + w_{32} x_{23}\\\\n_{31} & w_{11} x_{31} + w_{21} x_{32} + w_{31} x_{33}\\\\n_{32} & w_{12} x_{31} + w_{22} x_{32} + w_{32} x_{33}\\end{matrix}\\right]$"
      ],
      "text/plain": [
       "Matrix([\n",
       "[n_11, w_11*x_11 + w_21*x_12 + w_31*x_13],\n",
       "[n_12, w_12*x_11 + w_22*x_12 + w_32*x_13],\n",
       "[n_21, w_11*x_21 + w_21*x_22 + w_31*x_23],\n",
       "[n_22, w_12*x_21 + w_22*x_22 + w_32*x_23],\n",
       "[n_31, w_11*x_31 + w_21*x_32 + w_31*x_33],\n",
       "[n_32, w_12*x_31 + w_22*x_32 + w_32*x_33]])"
      ]
     },
     "execution_count": 1,
     "metadata": {},
     "output_type": "execute_result"
    }
   ],
   "source": [
    "import itertools\n",
    "\n",
    "elemToSpecD = dict(itertools.chain(*[[(Nelem[i, j], Nspec[i, j]) for j in range(2)] for i in range(3)]))\n",
    "\n",
    "elemToSpec = list(elemToSpecD.items())\n",
    "\n",
    "Matrix(elemToSpec)"
   ]
  },
  {
   "cell_type": "code",
   "execution_count": 36,
   "metadata": {
    "execution": {
     "iopub.execute_input": "2020-09-21T07:06:50.284610Z",
     "iopub.status.busy": "2020-09-21T07:06:50.283058Z",
     "iopub.status.idle": "2020-09-21T07:06:50.317370Z",
     "shell.execute_reply": "2020-09-21T07:06:50.318403Z"
    },
    "lines_to_next_cell": 0,
    "title": "codecell"
   },
   "outputs": [
    {
     "data": {
      "text/latex": [
       "$\\displaystyle \\left[\\begin{matrix}n_{11} & \\operatorname{n_{11}}{\\left(w_{11} x_{11} + w_{21} x_{12} + w_{31} x_{13} \\right)}\\\\n_{12} & \\operatorname{n_{12}}{\\left(w_{12} x_{11} + w_{22} x_{12} + w_{32} x_{13} \\right)}\\\\n_{21} & \\operatorname{n_{21}}{\\left(w_{11} x_{21} + w_{21} x_{22} + w_{31} x_{23} \\right)}\\\\n_{22} & \\operatorname{n_{22}}{\\left(w_{12} x_{21} + w_{22} x_{22} + w_{32} x_{23} \\right)}\\\\n_{31} & \\operatorname{n_{31}}{\\left(w_{11} x_{31} + w_{21} x_{32} + w_{31} x_{33} \\right)}\\\\n_{32} & \\operatorname{n_{32}}{\\left(w_{12} x_{31} + w_{22} x_{32} + w_{32} x_{33} \\right)}\\end{matrix}\\right]$"
      ],
      "text/plain": [
       "Matrix([\n",
       "[n_11, n_11(w_11*x_11 + w_21*x_12 + w_31*x_13)],\n",
       "[n_12, n_12(w_12*x_11 + w_22*x_12 + w_32*x_13)],\n",
       "[n_21, n_21(w_11*x_21 + w_21*x_22 + w_31*x_23)],\n",
       "[n_22, n_22(w_12*x_21 + w_22*x_22 + w_32*x_23)],\n",
       "[n_31, n_31(w_11*x_31 + w_21*x_32 + w_31*x_33)],\n",
       "[n_32, n_32(w_12*x_31 + w_22*x_32 + w_32*x_33)]])"
      ]
     },
     "execution_count": 1,
     "metadata": {},
     "output_type": "execute_result"
    }
   ],
   "source": [
    "elemToSpecFuncD = dict(itertools.chain(*[[(Nelem[i, j], Function(\"n_{}{}\".format(i + 1, j + 1))(Nspec[i, j])) for j in range(2)] for i in range(3)]))\n",
    "\n",
    "elemToSpecFunc = list(elemToSpecFuncD.items())\n",
    "\n",
    "Matrix(elemToSpecFunc)"
   ]
  },
  {
   "cell_type": "code",
   "execution_count": 37,
   "metadata": {
    "execution": {
     "iopub.execute_input": "2020-09-21T07:06:50.323646Z",
     "iopub.status.busy": "2020-09-21T07:06:50.322169Z",
     "iopub.status.idle": "2020-09-21T07:06:50.350098Z",
     "shell.execute_reply": "2020-09-21T07:06:50.351141Z"
    },
    "lines_to_next_cell": 0,
    "title": "codecell"
   },
   "outputs": [
    {
     "data": {
      "text/latex": [
       "$\\displaystyle \\left[\\begin{matrix}n_{11} & \\operatorname{n_{11}}{\\left(x_{11},x_{12},x_{13},x_{21},x_{22},x_{23},x_{31},x_{32},x_{33},w_{11},w_{12},w_{21},w_{22},w_{31},w_{32} \\right)}\\\\n_{12} & \\operatorname{n_{12}}{\\left(x_{11},x_{12},x_{13},x_{21},x_{22},x_{23},x_{31},x_{32},x_{33},w_{11},w_{12},w_{21},w_{22},w_{31},w_{32} \\right)}\\\\n_{21} & \\operatorname{n_{21}}{\\left(x_{11},x_{12},x_{13},x_{21},x_{22},x_{23},x_{31},x_{32},x_{33},w_{11},w_{12},w_{21},w_{22},w_{31},w_{32} \\right)}\\\\n_{22} & \\operatorname{n_{22}}{\\left(x_{11},x_{12},x_{13},x_{21},x_{22},x_{23},x_{31},x_{32},x_{33},w_{11},w_{12},w_{21},w_{22},w_{31},w_{32} \\right)}\\\\n_{31} & \\operatorname{n_{31}}{\\left(x_{11},x_{12},x_{13},x_{21},x_{22},x_{23},x_{31},x_{32},x_{33},w_{11},w_{12},w_{21},w_{22},w_{31},w_{32} \\right)}\\\\n_{32} & \\operatorname{n_{32}}{\\left(x_{11},x_{12},x_{13},x_{21},x_{22},x_{23},x_{31},x_{32},x_{33},w_{11},w_{12},w_{21},w_{22},w_{31},w_{32} \\right)}\\end{matrix}\\right]$"
      ],
      "text/plain": [
       "Matrix([\n",
       "[n_11, n_11(x_11, x_12, x_13, x_21, x_22, x_23, x_31, x_32, x_33, w_11, w_12, w_21, w_22, w_31, w_32)],\n",
       "[n_12, n_12(x_11, x_12, x_13, x_21, x_22, x_23, x_31, x_32, x_33, w_11, w_12, w_21, w_22, w_31, w_32)],\n",
       "[n_21, n_21(x_11, x_12, x_13, x_21, x_22, x_23, x_31, x_32, x_33, w_11, w_12, w_21, w_22, w_31, w_32)],\n",
       "[n_22, n_22(x_11, x_12, x_13, x_21, x_22, x_23, x_31, x_32, x_33, w_11, w_12, w_21, w_22, w_31, w_32)],\n",
       "[n_31, n_31(x_11, x_12, x_13, x_21, x_22, x_23, x_31, x_32, x_33, w_11, w_12, w_21, w_22, w_31, w_32)],\n",
       "[n_32, n_32(x_11, x_12, x_13, x_21, x_22, x_23, x_31, x_32, x_33, w_11, w_12, w_21, w_22, w_31, w_32)]])"
      ]
     },
     "execution_count": 1,
     "metadata": {},
     "output_type": "execute_result"
    }
   ],
   "source": [
    "elemToSpecFuncArgsD = dict(itertools.chain(*[[(Nelem[i, j], Function(\"n_{}{}\".format(i + 1, j + 1))(*X,*W)) for j in range(2)] for i in range(3)]))\n",
    "\n",
    "elemToSpecFuncArgs = list(elemToSpecFuncArgsD.items())\n",
    "\n",
    "Matrix(elemToSpecFuncArgs)"
   ]
  },
  {
   "cell_type": "code",
   "execution_count": 38,
   "metadata": {
    "execution": {
     "iopub.execute_input": "2020-09-21T07:06:50.355901Z",
     "iopub.status.busy": "2020-09-21T07:06:50.354443Z",
     "iopub.status.idle": "2020-09-21T07:06:50.365724Z",
     "shell.execute_reply": "2020-09-21T07:06:50.366779Z"
    },
    "lines_to_next_cell": 0,
    "title": "codecell"
   },
   "outputs": [
    {
     "data": {
      "text/latex": [
       "$\\displaystyle \\left[\\begin{matrix}\\sigma{\\left(n_{11} \\right)} & \\sigma{\\left(n_{12} \\right)}\\\\\\sigma{\\left(n_{21} \\right)} & \\sigma{\\left(n_{22} \\right)}\\\\\\sigma{\\left(n_{31} \\right)} & \\sigma{\\left(n_{32} \\right)}\\end{matrix}\\right]$"
      ],
      "text/plain": [
       "Matrix([\n",
       "[sigma(n_11), sigma(n_12)],\n",
       "[sigma(n_21), sigma(n_22)],\n",
       "[sigma(n_31), sigma(n_32)]])"
      ]
     },
     "execution_count": 1,
     "metadata": {},
     "output_type": "execute_result"
    }
   ],
   "source": [
    "Selem"
   ]
  },
  {
   "cell_type": "code",
   "execution_count": 39,
   "metadata": {
    "execution": {
     "iopub.execute_input": "2020-09-21T07:06:50.371457Z",
     "iopub.status.busy": "2020-09-21T07:06:50.370026Z",
     "iopub.status.idle": "2020-09-21T07:06:50.423559Z",
     "shell.execute_reply": "2020-09-21T07:06:50.424672Z"
    },
    "lines_to_next_cell": 0,
    "title": "codecell"
   },
   "outputs": [
    {
     "data": {
      "text/latex": [
       "$\\displaystyle \\left[\\begin{matrix}\\sigma{\\left(w_{11} x_{11} + w_{21} x_{12} + w_{31} x_{13} \\right)} & \\sigma{\\left(w_{12} x_{11} + w_{22} x_{12} + w_{32} x_{13} \\right)}\\\\\\sigma{\\left(w_{11} x_{21} + w_{21} x_{22} + w_{31} x_{23} \\right)} & \\sigma{\\left(w_{12} x_{21} + w_{22} x_{22} + w_{32} x_{23} \\right)}\\\\\\sigma{\\left(w_{11} x_{31} + w_{21} x_{32} + w_{31} x_{33} \\right)} & \\sigma{\\left(w_{12} x_{31} + w_{22} x_{32} + w_{32} x_{33} \\right)}\\end{matrix}\\right]$"
      ],
      "text/plain": [
       "Matrix([\n",
       "[sigma(w_11*x_11 + w_21*x_12 + w_31*x_13), sigma(w_12*x_11 + w_22*x_12 + w_32*x_13)],\n",
       "[sigma(w_11*x_21 + w_21*x_22 + w_31*x_23), sigma(w_12*x_21 + w_22*x_22 + w_32*x_23)],\n",
       "[sigma(w_11*x_31 + w_21*x_32 + w_31*x_33), sigma(w_12*x_31 + w_22*x_32 + w_32*x_33)]])"
      ]
     },
     "execution_count": 1,
     "metadata": {},
     "output_type": "execute_result"
    }
   ],
   "source": [
    "Selem.subs(elemToSpecD)"
   ]
  },
  {
   "cell_type": "code",
   "execution_count": 40,
   "metadata": {
    "execution": {
     "iopub.execute_input": "2020-09-21T07:06:50.429506Z",
     "iopub.status.busy": "2020-09-21T07:06:50.428008Z",
     "iopub.status.idle": "2020-09-21T07:06:50.440645Z",
     "shell.execute_reply": "2020-09-21T07:06:50.441736Z"
    },
    "lines_to_next_cell": 0,
    "title": "codecell"
   },
   "outputs": [
    {
     "data": {
      "text/latex": [
       "$\\displaystyle \\frac{d}{d n_{12}} \\sigma{\\left(n_{12} \\right)}$"
      ],
      "text/plain": [
       "Derivative(sigma(n_12), n_12)"
      ]
     },
     "execution_count": 1,
     "metadata": {},
     "output_type": "execute_result"
    }
   ],
   "source": [
    "Selem[0,1].diff(Nelem[0,1])"
   ]
  },
  {
   "cell_type": "code",
   "execution_count": 41,
   "metadata": {
    "execution": {
     "iopub.execute_input": "2020-09-21T07:06:50.446545Z",
     "iopub.status.busy": "2020-09-21T07:06:50.445133Z",
     "iopub.status.idle": "2020-09-21T07:06:50.462109Z",
     "shell.execute_reply": "2020-09-21T07:06:50.463198Z"
    },
    "title": "codecell"
   },
   "outputs": [
    {
     "data": {
      "text/latex": [
       "$\\displaystyle \\left. \\frac{d}{d n_{12}} \\sigma{\\left(n_{12} \\right)} \\right|_{\\substack{ n_{12}=w_{12} x_{11} + w_{22} x_{12} + w_{32} x_{13} }}$"
      ],
      "text/plain": [
       "Subs(Derivative(sigma(n_12), n_12), n_12, w_12*x_11 + w_22*x_12 + w_32*x_13)"
      ]
     },
     "execution_count": 1,
     "metadata": {},
     "output_type": "execute_result"
    }
   ],
   "source": [
    "Selem[0,1].diff(Nelem[0,1]).subs({Nelem[0,1] : Nspec[0,1]})\n",
    "#Selem[0,1].diff(Nelem[0,1]).subs(dict([{Nelem[0,1] : Nspec[0,1]}]))"
   ]
  },
  {
   "cell_type": "code",
   "execution_count": 42,
   "metadata": {
    "execution": {
     "iopub.execute_input": "2020-09-21T07:06:50.468020Z",
     "iopub.status.busy": "2020-09-21T07:06:50.466569Z",
     "iopub.status.idle": "2020-09-21T07:06:50.480913Z",
     "shell.execute_reply": "2020-09-21T07:06:50.481954Z"
    },
    "lines_to_next_cell": 0,
    "title": "codecell"
   },
   "outputs": [
    {
     "data": {
      "text/latex": [
       "$\\displaystyle \\left. \\frac{d}{d n_{12}} \\sigma{\\left(n_{12} \\right)} \\right|_{\\substack{ n_{12}=23 }}$"
      ],
      "text/plain": [
       "Subs(Derivative(sigma(n_12), n_12), n_12, 23)"
      ]
     },
     "execution_count": 1,
     "metadata": {},
     "output_type": "execute_result"
    }
   ],
   "source": [
    "Selem[0,1].diff(Nelem[0,1]).subs({Nelem[0,1] : Nspec[0,1]}).subs({Nspec[0,1] : 23})"
   ]
  },
  {
   "cell_type": "code",
   "execution_count": 43,
   "metadata": {
    "execution": {
     "iopub.execute_input": "2020-09-21T07:06:50.486810Z",
     "iopub.status.busy": "2020-09-21T07:06:50.485346Z",
     "iopub.status.idle": "2020-09-21T07:06:50.506020Z",
     "shell.execute_reply": "2020-09-21T07:06:50.507055Z"
    },
    "lines_to_next_cell": 0,
    "title": "codecell"
   },
   "outputs": [
    {
     "data": {
      "text/latex": [
       "$\\displaystyle \\left. \\frac{d}{d n_{12}} 8 n_{12}^{3} \\right|_{\\substack{ n_{12}=w_{12} x_{11} + w_{22} x_{12} + w_{32} x_{13} }}$"
      ],
      "text/plain": [
       "Subs(Derivative(8*n_12**3, n_12), n_12, w_12*x_11 + w_22*x_12 + w_32*x_13)"
      ]
     },
     "execution_count": 1,
     "metadata": {},
     "output_type": "execute_result"
    }
   ],
   "source": [
    "Selem[0,1].diff(Nelem[0,1]).subs({Nelem[0,1] : Nspec[0,1]}).replace(sigma, lambda x: 8*x**3)"
   ]
  },
  {
   "cell_type": "code",
   "execution_count": 44,
   "metadata": {
    "execution": {
     "iopub.execute_input": "2020-09-21T07:06:50.511709Z",
     "iopub.status.busy": "2020-09-21T07:06:50.510281Z",
     "iopub.status.idle": "2020-09-21T07:06:50.523398Z",
     "shell.execute_reply": "2020-09-21T07:06:50.524819Z"
    },
    "lines_to_next_cell": 0,
    "title": "codecell"
   },
   "outputs": [
    {
     "data": {
      "text/latex": [
       "$\\displaystyle \\frac{d}{d n_{12}} 8 n_{12}^{3}$"
      ],
      "text/plain": [
       "Derivative(8*n_12**3, n_12)"
      ]
     },
     "execution_count": 1,
     "metadata": {},
     "output_type": "execute_result"
    }
   ],
   "source": [
    "Selem[0,1].diff(Nelem[0,1]).replace(sigma, lambda x: 8*x**3)"
   ]
  },
  {
   "cell_type": "code",
   "execution_count": 45,
   "metadata": {
    "execution": {
     "iopub.execute_input": "2020-09-21T07:06:50.529709Z",
     "iopub.status.busy": "2020-09-21T07:06:50.528159Z",
     "iopub.status.idle": "2020-09-21T07:06:50.554305Z",
     "shell.execute_reply": "2020-09-21T07:06:50.555362Z"
    },
    "lines_to_next_cell": 0,
    "title": "codecell"
   },
   "outputs": [
    {
     "data": {
      "text/latex": [
       "$\\displaystyle 24 n_{12}^{2}$"
      ],
      "text/plain": [
       "24*n_12**2"
      ]
     },
     "execution_count": 1,
     "metadata": {},
     "output_type": "execute_result"
    }
   ],
   "source": [
    "Selem[0,1].diff(Nelem[0,1]).replace(sigma, lambda x: 8*x**3).doit()"
   ]
  },
  {
   "cell_type": "code",
   "execution_count": 46,
   "metadata": {
    "execution": {
     "iopub.execute_input": "2020-09-21T07:06:50.560084Z",
     "iopub.status.busy": "2020-09-21T07:06:50.558626Z",
     "iopub.status.idle": "2020-09-21T07:06:50.581891Z",
     "shell.execute_reply": "2020-09-21T07:06:50.582948Z"
    },
    "lines_to_next_cell": 0,
    "title": "codecell"
   },
   "outputs": [
    {
     "data": {
      "text/latex": [
       "$\\displaystyle 24 \\left(w_{12} x_{11} + w_{22} x_{12} + w_{32} x_{13}\\right)^{2}$"
      ],
      "text/plain": [
       "24*(w_12*x_11 + w_22*x_12 + w_32*x_13)**2"
      ]
     },
     "execution_count": 1,
     "metadata": {},
     "output_type": "execute_result"
    }
   ],
   "source": [
    "# ### GOT IT: can replace now with expression and do derivative with respect to that expression.\n",
    "Selem[0,1].diff(Nelem[0,1]).subs({Nelem[0,1] : Nspec[0,1]}).replace(sigma, lambda x: 8*x**3).doit()"
   ]
  },
  {
   "cell_type": "code",
   "execution_count": 47,
   "metadata": {
    "execution": {
     "iopub.execute_input": "2020-09-21T07:06:50.587840Z",
     "iopub.status.busy": "2020-09-21T07:06:50.586420Z",
     "iopub.status.idle": "2020-09-21T07:06:50.607822Z",
     "shell.execute_reply": "2020-09-21T07:06:50.608922Z"
    },
    "lines_to_next_cell": 0,
    "title": "codecell"
   },
   "outputs": [
    {
     "data": {
      "text/latex": [
       "$\\displaystyle w_{22} \\left. \\frac{d}{d \\xi_{1}} \\sigma{\\left(\\xi_{1} \\right)} \\right|_{\\substack{ \\xi_{1}=w_{12} x_{11} + w_{22} x_{12} + w_{32} x_{13} }}$"
      ],
      "text/plain": [
       "w_22*Subs(Derivative(sigma(_xi_1), _xi_1), _xi_1, w_12*x_11 + w_22*x_12 + w_32*x_13)"
      ]
     },
     "execution_count": 1,
     "metadata": {},
     "output_type": "execute_result"
    }
   ],
   "source": [
    "Selem[0,1].subs({Nelem[0,1] : Nspec[0,1]}).diff(X[0,1])#.subs({Nelem[0,1] : Nspec[0,1]})"
   ]
  },
  {
   "cell_type": "code",
   "execution_count": 48,
   "metadata": {
    "execution": {
     "iopub.execute_input": "2020-09-21T07:06:50.613640Z",
     "iopub.status.busy": "2020-09-21T07:06:50.612098Z",
     "iopub.status.idle": "2020-09-21T07:06:50.623871Z",
     "shell.execute_reply": "2020-09-21T07:06:50.624946Z"
    },
    "title": "codecell"
   },
   "outputs": [
    {
     "data": {
      "text/latex": [
       "$\\displaystyle \\left[\\begin{matrix}\\sigma{\\left(n_{11} \\right)} & \\sigma{\\left(n_{12} \\right)}\\\\\\sigma{\\left(n_{21} \\right)} & \\sigma{\\left(n_{22} \\right)}\\\\\\sigma{\\left(n_{31} \\right)} & \\sigma{\\left(n_{32} \\right)}\\end{matrix}\\right]$"
      ],
      "text/plain": [
       "Matrix([\n",
       "[sigma(n_11), sigma(n_12)],\n",
       "[sigma(n_21), sigma(n_22)],\n",
       "[sigma(n_31), sigma(n_32)]])"
      ]
     },
     "execution_count": 1,
     "metadata": {},
     "output_type": "execute_result"
    }
   ],
   "source": [
    "Selem"
   ]
  },
  {
   "cell_type": "code",
   "execution_count": 49,
   "metadata": {
    "execution": {
     "iopub.execute_input": "2020-09-21T07:06:50.629671Z",
     "iopub.status.busy": "2020-09-21T07:06:50.628228Z",
     "iopub.status.idle": "2020-09-21T07:06:50.681639Z",
     "shell.execute_reply": "2020-09-21T07:06:50.682723Z"
    },
    "lines_to_next_cell": 0,
    "title": "codecell"
   },
   "outputs": [
    {
     "data": {
      "text/latex": [
       "$\\displaystyle \\left[\\begin{matrix}\\operatorname{n_{11}}{\\left(w_{11} x_{11} + w_{21} x_{12} + w_{31} x_{13} \\right)} & \\operatorname{n_{12}}{\\left(w_{12} x_{11} + w_{22} x_{12} + w_{32} x_{13} \\right)}\\\\\\operatorname{n_{21}}{\\left(w_{11} x_{21} + w_{21} x_{22} + w_{31} x_{23} \\right)} & \\operatorname{n_{22}}{\\left(w_{12} x_{21} + w_{22} x_{22} + w_{32} x_{23} \\right)}\\\\\\operatorname{n_{31}}{\\left(w_{11} x_{31} + w_{21} x_{32} + w_{31} x_{33} \\right)} & \\operatorname{n_{32}}{\\left(w_{12} x_{31} + w_{22} x_{32} + w_{32} x_{33} \\right)}\\end{matrix}\\right]$"
      ],
      "text/plain": [
       "Matrix([\n",
       "[n_11(w_11*x_11 + w_21*x_12 + w_31*x_13), n_12(w_12*x_11 + w_22*x_12 + w_32*x_13)],\n",
       "[n_21(w_11*x_21 + w_21*x_22 + w_31*x_23), n_22(w_12*x_21 + w_22*x_22 + w_32*x_23)],\n",
       "[n_31(w_11*x_31 + w_21*x_32 + w_31*x_33), n_32(w_12*x_31 + w_22*x_32 + w_32*x_33)]])"
      ]
     },
     "execution_count": 1,
     "metadata": {},
     "output_type": "execute_result"
    }
   ],
   "source": [
    "nt = Nelem.subs(elemToSpecFunc); nt"
   ]
  },
  {
   "cell_type": "code",
   "execution_count": 50,
   "metadata": {
    "execution": {
     "iopub.execute_input": "2020-09-21T07:06:50.687486Z",
     "iopub.status.busy": "2020-09-21T07:06:50.686045Z",
     "iopub.status.idle": "2020-09-21T07:06:50.726149Z",
     "shell.execute_reply": "2020-09-21T07:06:50.727185Z"
    },
    "lines_to_next_cell": 0,
    "title": "codecell"
   },
   "outputs": [
    {
     "data": {
      "text/latex": [
       "$\\displaystyle \\left[\\begin{matrix}\\sigma{\\left(\\operatorname{n_{11}}{\\left(w_{11} x_{11} + w_{21} x_{12} + w_{31} x_{13} \\right)} \\right)} & \\sigma{\\left(\\operatorname{n_{12}}{\\left(w_{12} x_{11} + w_{22} x_{12} + w_{32} x_{13} \\right)} \\right)}\\\\\\sigma{\\left(\\operatorname{n_{21}}{\\left(w_{11} x_{21} + w_{21} x_{22} + w_{31} x_{23} \\right)} \\right)} & \\sigma{\\left(\\operatorname{n_{22}}{\\left(w_{12} x_{21} + w_{22} x_{22} + w_{32} x_{23} \\right)} \\right)}\\\\\\sigma{\\left(\\operatorname{n_{31}}{\\left(w_{11} x_{31} + w_{21} x_{32} + w_{31} x_{33} \\right)} \\right)} & \\sigma{\\left(\\operatorname{n_{32}}{\\left(w_{12} x_{31} + w_{22} x_{32} + w_{32} x_{33} \\right)} \\right)}\\end{matrix}\\right]$"
      ],
      "text/plain": [
       "Matrix([\n",
       "[sigma(n_11(w_11*x_11 + w_21*x_12 + w_31*x_13)), sigma(n_12(w_12*x_11 + w_22*x_12 + w_32*x_13))],\n",
       "[sigma(n_21(w_11*x_21 + w_21*x_22 + w_31*x_23)), sigma(n_22(w_12*x_21 + w_22*x_22 + w_32*x_23))],\n",
       "[sigma(n_31(w_11*x_31 + w_21*x_32 + w_31*x_33)), sigma(n_32(w_12*x_31 + w_22*x_32 + w_32*x_33))]])"
      ]
     },
     "execution_count": 1,
     "metadata": {},
     "output_type": "execute_result"
    }
   ],
   "source": [
    "st = Selem.subs(elemToSpecFunc); st"
   ]
  },
  {
   "cell_type": "code",
   "execution_count": 51,
   "metadata": {
    "execution": {
     "iopub.execute_input": "2020-09-21T07:06:50.732168Z",
     "iopub.status.busy": "2020-09-21T07:06:50.730601Z",
     "iopub.status.idle": "2020-09-21T07:06:50.830386Z",
     "shell.execute_reply": "2020-09-21T07:06:50.831442Z"
    },
    "lines_to_next_cell": 0,
    "title": "codecell"
   },
   "outputs": [
    {
     "data": {
      "text/latex": [
       "$\\displaystyle \\left[\\begin{matrix}\\left[\\begin{matrix}\\frac{\\partial}{\\partial \\operatorname{n_{11}}{\\left(w_{11} x_{11} + w_{21} x_{12} + w_{31} x_{13} \\right)}} \\sigma{\\left(\\operatorname{n_{11}}{\\left(w_{11} x_{11} + w_{21} x_{12} + w_{31} x_{13} \\right)} \\right)} & 0\\\\0 & 0\\\\0 & 0\\end{matrix}\\right] & \\left[\\begin{matrix}0 & \\frac{\\partial}{\\partial \\operatorname{n_{12}}{\\left(w_{12} x_{11} + w_{22} x_{12} + w_{32} x_{13} \\right)}} \\sigma{\\left(\\operatorname{n_{12}}{\\left(w_{12} x_{11} + w_{22} x_{12} + w_{32} x_{13} \\right)} \\right)}\\\\0 & 0\\\\0 & 0\\end{matrix}\\right]\\\\\\left[\\begin{matrix}0 & 0\\\\\\frac{\\partial}{\\partial \\operatorname{n_{21}}{\\left(w_{11} x_{21} + w_{21} x_{22} + w_{31} x_{23} \\right)}} \\sigma{\\left(\\operatorname{n_{21}}{\\left(w_{11} x_{21} + w_{21} x_{22} + w_{31} x_{23} \\right)} \\right)} & 0\\\\0 & 0\\end{matrix}\\right] & \\left[\\begin{matrix}0 & 0\\\\0 & \\frac{\\partial}{\\partial \\operatorname{n_{22}}{\\left(w_{12} x_{21} + w_{22} x_{22} + w_{32} x_{23} \\right)}} \\sigma{\\left(\\operatorname{n_{22}}{\\left(w_{12} x_{21} + w_{22} x_{22} + w_{32} x_{23} \\right)} \\right)}\\\\0 & 0\\end{matrix}\\right]\\\\\\left[\\begin{matrix}0 & 0\\\\0 & 0\\\\\\frac{\\partial}{\\partial \\operatorname{n_{31}}{\\left(w_{11} x_{31} + w_{21} x_{32} + w_{31} x_{33} \\right)}} \\sigma{\\left(\\operatorname{n_{31}}{\\left(w_{11} x_{31} + w_{21} x_{32} + w_{31} x_{33} \\right)} \\right)} & 0\\end{matrix}\\right] & \\left[\\begin{matrix}0 & 0\\\\0 & 0\\\\0 & \\frac{\\partial}{\\partial \\operatorname{n_{32}}{\\left(w_{12} x_{31} + w_{22} x_{32} + w_{32} x_{33} \\right)}} \\sigma{\\left(\\operatorname{n_{32}}{\\left(w_{12} x_{31} + w_{22} x_{32} + w_{32} x_{33} \\right)} \\right)}\\end{matrix}\\right]\\end{matrix}\\right]$"
      ],
      "text/plain": [
       "[[[[Derivative(sigma(n_11(w_11*x_11 + w_21*x_12 + w_31*x_13)), n_11(w_11*x_11 + w_21*x_12 + w_31*x_13)), 0], [0, 0], [0, 0]], [[0, Derivative(sigma(n_12(w_12*x_11 + w_22*x_12 + w_32*x_13)), n_12(w_12*x_11 + w_22*x_12 + w_32*x_13))], [0, 0], [0, 0]]], [[[0, 0], [Derivative(sigma(n_21(w_11*x_21 + w_21*x_22 + w_31*x_23)), n_21(w_11*x_21 + w_21*x_22 + w_31*x_23)), 0], [0, 0]], [[0, 0], [0, Derivative(sigma(n_22(w_12*x_21 + w_22*x_22 + w_32*x_23)), n_22(w_12*x_21 + w_22*x_22 + w_32*x_23))], [0, 0]]], [[[0, 0], [0, 0], [Derivative(sigma(n_31(w_11*x_31 + w_21*x_32 + w_31*x_33)), n_31(w_11*x_31 + w_21*x_32 + w_31*x_33)), 0]], [[0, 0], [0, 0], [0, Derivative(sigma(n_32(w_12*x_31 + w_22*x_32 + w_32*x_33)), n_32(w_12*x_31 + w_22*x_32 + w_32*x_33))]]]]"
      ]
     },
     "execution_count": 1,
     "metadata": {},
     "output_type": "execute_result"
    }
   ],
   "source": [
    "st.diff(nt)"
   ]
  },
  {
   "cell_type": "code",
   "execution_count": 52,
   "metadata": {
    "execution": {
     "iopub.execute_input": "2020-09-21T07:06:50.836351Z",
     "iopub.status.busy": "2020-09-21T07:06:50.834823Z",
     "iopub.status.idle": "2020-09-21T07:06:50.854775Z",
     "shell.execute_reply": "2020-09-21T07:06:50.855889Z"
    },
    "lines_to_next_cell": 0,
    "title": "codecell"
   },
   "outputs": [
    {
     "data": {
      "text/latex": [
       "$\\displaystyle \\frac{\\partial}{\\partial \\operatorname{n_{11}}{\\left(w_{11} x_{11} + w_{21} x_{12} + w_{31} x_{13} \\right)}} \\sigma{\\left(\\operatorname{n_{11}}{\\left(w_{11} x_{11} + w_{21} x_{12} + w_{31} x_{13} \\right)} \\right)}$"
      ],
      "text/plain": [
       "Derivative(sigma(n_11(w_11*x_11 + w_21*x_12 + w_31*x_13)), n_11(w_11*x_11 + w_21*x_12 + w_31*x_13))"
      ]
     },
     "execution_count": 1,
     "metadata": {},
     "output_type": "execute_result"
    }
   ],
   "source": [
    "st[0,0].diff(st[0,0].args[0])"
   ]
  },
  {
   "cell_type": "code",
   "execution_count": 53,
   "metadata": {
    "execution": {
     "iopub.execute_input": "2020-09-21T07:06:50.863894Z",
     "iopub.status.busy": "2020-09-21T07:06:50.862300Z",
     "iopub.status.idle": "2020-09-21T07:06:50.894952Z",
     "shell.execute_reply": "2020-09-21T07:06:50.895995Z"
    },
    "lines_to_next_cell": 0,
    "title": "codecell"
   },
   "outputs": [
    {
     "data": {
      "text/latex": [
       "$\\displaystyle w_{11} \\frac{\\partial}{\\partial \\operatorname{n_{11}}{\\left(w_{11} x_{11} + w_{21} x_{12} + w_{31} x_{13} \\right)}} \\sigma{\\left(\\operatorname{n_{11}}{\\left(w_{11} x_{11} + w_{21} x_{12} + w_{31} x_{13} \\right)} \\right)} \\left. \\frac{d}{d \\xi_{1}} \\operatorname{n_{11}}{\\left(\\xi_{1} \\right)} \\right|_{\\substack{ \\xi_{1}=w_{11} x_{11} + w_{21} x_{12} + w_{31} x_{13} }}$"
      ],
      "text/plain": [
       "w_11*Derivative(sigma(n_11(w_11*x_11 + w_21*x_12 + w_31*x_13)), n_11(w_11*x_11 + w_21*x_12 + w_31*x_13))*Subs(Derivative(n_11(_xi_1), _xi_1), _xi_1, w_11*x_11 + w_21*x_12 + w_31*x_13)"
      ]
     },
     "execution_count": 1,
     "metadata": {},
     "output_type": "execute_result"
    }
   ],
   "source": [
    "st[0,0].diff(X[0,0])"
   ]
  },
  {
   "cell_type": "code",
   "execution_count": 54,
   "metadata": {
    "execution": {
     "iopub.execute_input": "2020-09-21T07:06:50.900757Z",
     "iopub.status.busy": "2020-09-21T07:06:50.899265Z",
     "iopub.status.idle": "2020-09-21T07:06:50.910022Z",
     "shell.execute_reply": "2020-09-21T07:06:50.911060Z"
    },
    "lines_to_next_cell": 0,
    "title": "codecell"
   },
   "outputs": [
    {
     "data": {
      "text/latex": [
       "$\\displaystyle 0$"
      ],
      "text/plain": [
       "0"
      ]
     },
     "execution_count": 1,
     "metadata": {},
     "output_type": "execute_result"
    }
   ],
   "source": [
    "st[0,0].diff(st[1,0].args[0])"
   ]
  },
  {
   "cell_type": "code",
   "execution_count": 55,
   "metadata": {
    "execution": {
     "iopub.execute_input": "2020-09-21T07:06:50.915902Z",
     "iopub.status.busy": "2020-09-21T07:06:50.914451Z",
     "iopub.status.idle": "2020-09-21T07:06:50.957137Z",
     "shell.execute_reply": "2020-09-21T07:06:50.958265Z"
    },
    "lines_to_next_cell": 0,
    "title": "codecell"
   },
   "outputs": [
    {
     "data": {
      "text/latex": [
       "$\\displaystyle \\left[\\begin{matrix}\\left[\\begin{matrix}\\frac{d}{d n_{11}} \\sigma{\\left(n_{11} \\right)} & 0\\\\0 & 0\\\\0 & 0\\end{matrix}\\right] & \\left[\\begin{matrix}0 & \\frac{d}{d n_{12}} \\sigma{\\left(n_{12} \\right)}\\\\0 & 0\\\\0 & 0\\end{matrix}\\right]\\\\\\left[\\begin{matrix}0 & 0\\\\\\frac{d}{d n_{21}} \\sigma{\\left(n_{21} \\right)} & 0\\\\0 & 0\\end{matrix}\\right] & \\left[\\begin{matrix}0 & 0\\\\0 & \\frac{d}{d n_{22}} \\sigma{\\left(n_{22} \\right)}\\\\0 & 0\\end{matrix}\\right]\\\\\\left[\\begin{matrix}0 & 0\\\\0 & 0\\\\\\frac{d}{d n_{31}} \\sigma{\\left(n_{31} \\right)} & 0\\end{matrix}\\right] & \\left[\\begin{matrix}0 & 0\\\\0 & 0\\\\0 & \\frac{d}{d n_{32}} \\sigma{\\left(n_{32} \\right)}\\end{matrix}\\right]\\end{matrix}\\right]$"
      ],
      "text/plain": [
       "[[[[Derivative(sigma(n_11), n_11), 0], [0, 0], [0, 0]], [[0, Derivative(sigma(n_12), n_12)], [0, 0], [0, 0]]], [[[0, 0], [Derivative(sigma(n_21), n_21), 0], [0, 0]], [[0, 0], [0, Derivative(sigma(n_22), n_22)], [0, 0]]], [[[0, 0], [0, 0], [Derivative(sigma(n_31), n_31), 0]], [[0, 0], [0, 0], [0, Derivative(sigma(n_32), n_32)]]]]"
      ]
     },
     "execution_count": 1,
     "metadata": {},
     "output_type": "execute_result"
    }
   ],
   "source": [
    "Selem.diff(Nelem)"
   ]
  },
  {
   "cell_type": "code",
   "execution_count": 56,
   "metadata": {
    "execution": {
     "iopub.execute_input": "2020-09-21T07:06:50.962900Z",
     "iopub.status.busy": "2020-09-21T07:06:50.961488Z",
     "iopub.status.idle": "2020-09-21T07:06:51.083832Z",
     "shell.execute_reply": "2020-09-21T07:06:51.084945Z"
    },
    "lines_to_next_cell": 0,
    "title": "codecell"
   },
   "outputs": [
    {
     "data": {
      "text/latex": [
       "$\\displaystyle \\left[\\begin{matrix}\\left[\\begin{matrix}\\frac{\\partial}{\\partial \\operatorname{n_{11}}{\\left(w_{11} x_{11} + w_{21} x_{12} + w_{31} x_{13} \\right)}} \\sigma{\\left(\\operatorname{n_{11}}{\\left(w_{11} x_{11} + w_{21} x_{12} + w_{31} x_{13} \\right)} \\right)} & 0\\\\0 & 0\\\\0 & 0\\end{matrix}\\right] & \\left[\\begin{matrix}0 & \\frac{\\partial}{\\partial \\operatorname{n_{12}}{\\left(w_{12} x_{11} + w_{22} x_{12} + w_{32} x_{13} \\right)}} \\sigma{\\left(\\operatorname{n_{12}}{\\left(w_{12} x_{11} + w_{22} x_{12} + w_{32} x_{13} \\right)} \\right)}\\\\0 & 0\\\\0 & 0\\end{matrix}\\right]\\\\\\left[\\begin{matrix}0 & 0\\\\\\frac{\\partial}{\\partial \\operatorname{n_{21}}{\\left(w_{11} x_{21} + w_{21} x_{22} + w_{31} x_{23} \\right)}} \\sigma{\\left(\\operatorname{n_{21}}{\\left(w_{11} x_{21} + w_{21} x_{22} + w_{31} x_{23} \\right)} \\right)} & 0\\\\0 & 0\\end{matrix}\\right] & \\left[\\begin{matrix}0 & 0\\\\0 & \\frac{\\partial}{\\partial \\operatorname{n_{22}}{\\left(w_{12} x_{21} + w_{22} x_{22} + w_{32} x_{23} \\right)}} \\sigma{\\left(\\operatorname{n_{22}}{\\left(w_{12} x_{21} + w_{22} x_{22} + w_{32} x_{23} \\right)} \\right)}\\\\0 & 0\\end{matrix}\\right]\\\\\\left[\\begin{matrix}0 & 0\\\\0 & 0\\\\\\frac{\\partial}{\\partial \\operatorname{n_{31}}{\\left(w_{11} x_{31} + w_{21} x_{32} + w_{31} x_{33} \\right)}} \\sigma{\\left(\\operatorname{n_{31}}{\\left(w_{11} x_{31} + w_{21} x_{32} + w_{31} x_{33} \\right)} \\right)} & 0\\end{matrix}\\right] & \\left[\\begin{matrix}0 & 0\\\\0 & 0\\\\0 & \\frac{\\partial}{\\partial \\operatorname{n_{32}}{\\left(w_{12} x_{31} + w_{22} x_{32} + w_{32} x_{33} \\right)}} \\sigma{\\left(\\operatorname{n_{32}}{\\left(w_{12} x_{31} + w_{22} x_{32} + w_{32} x_{33} \\right)} \\right)}\\end{matrix}\\right]\\end{matrix}\\right]$"
      ],
      "text/plain": [
       "[[[[Derivative(sigma(n_11(w_11*x_11 + w_21*x_12 + w_31*x_13)), n_11(w_11*x_11 + w_21*x_12 + w_31*x_13)), 0], [0, 0], [0, 0]], [[0, Derivative(sigma(n_12(w_12*x_11 + w_22*x_12 + w_32*x_13)), n_12(w_12*x_11 + w_22*x_12 + w_32*x_13))], [0, 0], [0, 0]]], [[[0, 0], [Derivative(sigma(n_21(w_11*x_21 + w_21*x_22 + w_31*x_23)), n_21(w_11*x_21 + w_21*x_22 + w_31*x_23)), 0], [0, 0]], [[0, 0], [0, Derivative(sigma(n_22(w_12*x_21 + w_22*x_22 + w_32*x_23)), n_22(w_12*x_21 + w_22*x_22 + w_32*x_23))], [0, 0]]], [[[0, 0], [0, 0], [Derivative(sigma(n_31(w_11*x_31 + w_21*x_32 + w_31*x_33)), n_31(w_11*x_31 + w_21*x_32 + w_31*x_33)), 0]], [[0, 0], [0, 0], [0, Derivative(sigma(n_32(w_12*x_31 + w_22*x_32 + w_32*x_33)), n_32(w_12*x_31 + w_22*x_32 + w_32*x_33))]]]]"
      ]
     },
     "execution_count": 1,
     "metadata": {},
     "output_type": "execute_result"
    }
   ],
   "source": [
    "Selem.diff(Nelem).subs(elemToSpecFunc)"
   ]
  },
  {
   "cell_type": "code",
   "execution_count": 57,
   "metadata": {
    "execution": {
     "iopub.execute_input": "2020-09-21T07:06:51.090019Z",
     "iopub.status.busy": "2020-09-21T07:06:51.088490Z",
     "iopub.status.idle": "2020-09-21T07:06:51.209577Z",
     "shell.execute_reply": "2020-09-21T07:06:51.210657Z"
    },
    "title": "codecell"
   },
   "outputs": [
    {
     "data": {
      "text/latex": [
       "$\\displaystyle \\left[\\begin{matrix}6 & 2 w_{12} x_{11} + 2 w_{22} x_{12} + 2 w_{32} x_{13}\\\\2 w_{11} x_{21} + 2 w_{21} x_{22} + 2 w_{31} x_{23} & 2 w_{12} x_{21} + 2 w_{22} x_{22} + 2 w_{32} x_{23}\\\\2 w_{11} x_{31} + 2 w_{21} x_{32} + 2 w_{31} x_{33} & 4\\end{matrix}\\right]$"
      ],
      "text/plain": [
       "Matrix([\n",
       "[                                      6, 2*w_12*x_11 + 2*w_22*x_12 + 2*w_32*x_13],\n",
       "[2*w_11*x_21 + 2*w_21*x_22 + 2*w_31*x_23, 2*w_12*x_21 + 2*w_22*x_22 + 2*w_32*x_23],\n",
       "[2*w_11*x_31 + 2*w_21*x_32 + 2*w_31*x_33,                                       4]])"
      ]
     },
     "execution_count": 1,
     "metadata": {},
     "output_type": "execute_result"
    }
   ],
   "source": [
    "# CAN even replace elements after have done an operation on them!!! replacing n_21 * 2 with the number 4.\n",
    "Sspec.subs({Nspec[0, 0]: 3}).replace(sigma, lambda x: 2 * x).replace(Nspec[2, 1] * 2, 4)\n",
    "\n",
    "\n"
   ]
  },
  {
   "cell_type": "code",
   "execution_count": 58,
   "metadata": {
    "execution": {
     "iopub.execute_input": "2020-09-21T07:06:51.215457Z",
     "iopub.status.busy": "2020-09-21T07:06:51.213838Z",
     "iopub.status.idle": "2020-09-21T07:06:51.226819Z",
     "shell.execute_reply": "2020-09-21T07:06:51.227854Z"
    },
    "lines_to_next_cell": 0,
    "title": "codecell"
   },
   "outputs": [
    {
     "data": {
      "text/latex": [
       "$\\displaystyle \\left[\\begin{matrix}n_{11} & n_{12}\\\\n_{21} & n_{22}\\\\n_{31} & n_{32}\\end{matrix}\\right]$"
      ],
      "text/plain": [
       "Matrix([\n",
       "[n_11, n_12],\n",
       "[n_21, n_22],\n",
       "[n_31, n_32]])"
      ]
     },
     "execution_count": 1,
     "metadata": {},
     "output_type": "execute_result"
    }
   ],
   "source": [
    "lambd = Function(\"lambda\")\n",
    "lambd_ = lambda matrix : sum(matrix)\n",
    "\n",
    "\n",
    "vN(X, W)"
   ]
  },
  {
   "cell_type": "code",
   "execution_count": 59,
   "metadata": {
    "execution": {
     "iopub.execute_input": "2020-09-21T07:06:51.232593Z",
     "iopub.status.busy": "2020-09-21T07:06:51.231147Z",
     "iopub.status.idle": "2020-09-21T07:06:51.242438Z",
     "shell.execute_reply": "2020-09-21T07:06:51.243477Z"
    },
    "lines_to_next_cell": 0,
    "title": "codecell"
   },
   "outputs": [
    {
     "data": {
      "text/latex": [
       "$\\displaystyle \\left[\\begin{matrix}n_{11} & n_{12}\\\\n_{21} & n_{22}\\\\n_{31} & n_{32}\\end{matrix}\\right]$"
      ],
      "text/plain": [
       "Matrix([\n",
       "[n_11, n_12],\n",
       "[n_21, n_22],\n",
       "[n_31, n_32]])"
      ]
     },
     "execution_count": 1,
     "metadata": {},
     "output_type": "execute_result"
    }
   ],
   "source": [
    "vN(A, B)"
   ]
  },
  {
   "cell_type": "code",
   "execution_count": 60,
   "metadata": {
    "execution": {
     "iopub.execute_input": "2020-09-21T07:06:51.248199Z",
     "iopub.status.busy": "2020-09-21T07:06:51.246741Z",
     "iopub.status.idle": "2020-09-21T07:06:51.256621Z",
     "shell.execute_reply": "2020-09-21T07:06:51.257653Z"
    },
    "lines_to_next_cell": 0,
    "title": "codecell"
   },
   "outputs": [
    {
     "data": {
      "text/latex": [
       "$\\displaystyle \\lambda{\\left(\\sigma_{apply}{\\left(v{\\left(X,W \\right)} \\right)} \\right)}$"
      ],
      "text/plain": [
       "lambda(sigma_apply(v(X, W)))"
      ]
     },
     "execution_count": 1,
     "metadata": {},
     "output_type": "execute_result"
    }
   ],
   "source": [
    "L = lambd(S); L"
   ]
  },
  {
   "cell_type": "code",
   "execution_count": 61,
   "metadata": {
    "execution": {
     "iopub.execute_input": "2020-09-21T07:06:51.262404Z",
     "iopub.status.busy": "2020-09-21T07:06:51.261002Z",
     "iopub.status.idle": "2020-09-21T07:06:51.271844Z",
     "shell.execute_reply": "2020-09-21T07:06:51.272883Z"
    },
    "lines_to_next_cell": 0,
    "title": "codecell"
   },
   "outputs": [
    {
     "data": {
      "text/latex": [
       "$\\displaystyle \\left[\\begin{matrix}n_{11} & n_{12}\\\\n_{21} & n_{22}\\\\n_{31} & n_{32}\\end{matrix}\\right]$"
      ],
      "text/plain": [
       "Matrix([\n",
       "[n_11, n_12],\n",
       "[n_21, n_22],\n",
       "[n_31, n_32]])"
      ]
     },
     "execution_count": 1,
     "metadata": {},
     "output_type": "execute_result"
    }
   ],
   "source": [
    "Nelem"
   ]
  },
  {
   "cell_type": "code",
   "execution_count": 62,
   "metadata": {
    "execution": {
     "iopub.execute_input": "2020-09-21T07:06:51.277531Z",
     "iopub.status.busy": "2020-09-21T07:06:51.276049Z",
     "iopub.status.idle": "2020-09-21T07:06:51.288353Z",
     "shell.execute_reply": "2020-09-21T07:06:51.289394Z"
    },
    "lines_to_next_cell": 0,
    "title": "codecell"
   },
   "outputs": [
    {
     "data": {
      "text/latex": [
       "$\\displaystyle \\lambda{\\left(\\sigma_{apply}{\\left(\\left[\\begin{matrix}n_{11} & n_{12}\\\\n_{21} & n_{22}\\\\n_{31} & n_{32}\\end{matrix}\\right] \\right)} \\right)}$"
      ],
      "text/plain": [
       "lambda(sigma_apply(Matrix([\n",
       "[n_11, n_12],\n",
       "[n_21, n_22],\n",
       "[n_31, n_32]])))"
      ]
     },
     "execution_count": 1,
     "metadata": {},
     "output_type": "execute_result"
    }
   ],
   "source": [
    "L.replace(n, vN)"
   ]
  },
  {
   "cell_type": "code",
   "execution_count": 63,
   "metadata": {
    "execution": {
     "iopub.execute_input": "2020-09-21T07:06:51.294368Z",
     "iopub.status.busy": "2020-09-21T07:06:51.292868Z",
     "iopub.status.idle": "2020-09-21T07:06:51.306638Z",
     "shell.execute_reply": "2020-09-21T07:06:51.307678Z"
    },
    "lines_to_next_cell": 0,
    "title": "codecell"
   },
   "outputs": [
    {
     "data": {
      "text/latex": [
       "$\\displaystyle \\lambda{\\left(\\left[\\begin{matrix}\\sigma{\\left(n_{11} \\right)} & \\sigma{\\left(n_{12} \\right)}\\\\\\sigma{\\left(n_{21} \\right)} & \\sigma{\\left(n_{22} \\right)}\\\\\\sigma{\\left(n_{31} \\right)} & \\sigma{\\left(n_{32} \\right)}\\end{matrix}\\right] \\right)}$"
      ],
      "text/plain": [
       "lambda(Matrix([\n",
       "[sigma(n_11), sigma(n_12)],\n",
       "[sigma(n_21), sigma(n_22)],\n",
       "[sigma(n_31), sigma(n_32)]]))"
      ]
     },
     "execution_count": 1,
     "metadata": {},
     "output_type": "execute_result"
    }
   ],
   "source": [
    "L.replace(n, vN).replace(sigmaApply, sigmaApply_)"
   ]
  },
  {
   "cell_type": "code",
   "execution_count": 64,
   "metadata": {
    "execution": {
     "iopub.execute_input": "2020-09-21T07:06:51.312283Z",
     "iopub.status.busy": "2020-09-21T07:06:51.310861Z",
     "iopub.status.idle": "2020-09-21T07:06:51.322082Z",
     "shell.execute_reply": "2020-09-21T07:06:51.323116Z"
    },
    "lines_to_next_cell": 0,
    "title": "codecell"
   },
   "outputs": [
    {
     "data": {
      "text/latex": [
       "$\\displaystyle \\lambda{\\left(\\sigma_{apply}{\\left(X W \\right)} \\right)}$"
      ],
      "text/plain": [
       "lambda(sigma_apply(X*W))"
      ]
     },
     "execution_count": 1,
     "metadata": {},
     "output_type": "execute_result"
    }
   ],
   "source": [
    "L.replace(n, v)"
   ]
  },
  {
   "cell_type": "code",
   "execution_count": 65,
   "metadata": {
    "execution": {
     "iopub.execute_input": "2020-09-21T07:06:51.328499Z",
     "iopub.status.busy": "2020-09-21T07:06:51.327005Z",
     "iopub.status.idle": "2020-09-21T07:06:51.339417Z",
     "shell.execute_reply": "2020-09-21T07:06:51.340429Z"
    },
    "title": "codecell"
   },
   "outputs": [
    {
     "data": {
      "text/latex": [
       "$\\displaystyle \\lambda{\\left({\\left( d \\mapsto \\sigma{\\left(d \\right)} \\right)}_{\\circ}\\left({X W}\\right) \\right)}$"
      ],
      "text/plain": [
       "lambda(Lambda(_d, sigma(_d)).(X*W))"
      ]
     },
     "execution_count": 1,
     "metadata": {},
     "output_type": "execute_result"
    }
   ],
   "source": [
    "\n",
    "L.replace(n, v).replace(sigmaApply, sigmaApply_)"
   ]
  },
  {
   "cell_type": "code",
   "execution_count": 66,
   "metadata": {
    "execution": {
     "iopub.execute_input": "2020-09-21T07:06:51.345238Z",
     "iopub.status.busy": "2020-09-21T07:06:51.343726Z",
     "iopub.status.idle": "2020-09-21T07:06:51.375109Z",
     "shell.execute_reply": "2020-09-21T07:06:51.376162Z"
    },
    "lines_to_next_cell": 0,
    "title": "codecell"
   },
   "outputs": [
    {
     "data": {
      "text/latex": [
       "$\\displaystyle \\lambda{\\left(\\left[\\begin{matrix}\\sigma{\\left(w_{11} x_{11} + w_{21} x_{12} + w_{31} x_{13} \\right)} & \\sigma{\\left(w_{12} x_{11} + w_{22} x_{12} + w_{32} x_{13} \\right)}\\\\\\sigma{\\left(w_{11} x_{21} + w_{21} x_{22} + w_{31} x_{23} \\right)} & \\sigma{\\left(w_{12} x_{21} + w_{22} x_{22} + w_{32} x_{23} \\right)}\\\\\\sigma{\\left(w_{11} x_{31} + w_{21} x_{32} + w_{31} x_{33} \\right)} & \\sigma{\\left(w_{12} x_{31} + w_{22} x_{32} + w_{32} x_{33} \\right)}\\end{matrix}\\right] \\right)}$"
      ],
      "text/plain": [
       "lambda(Matrix([\n",
       "[sigma(w_11*x_11 + w_21*x_12 + w_31*x_13), sigma(w_12*x_11 + w_22*x_12 + w_32*x_13)],\n",
       "[sigma(w_11*x_21 + w_21*x_22 + w_31*x_23), sigma(w_12*x_21 + w_22*x_22 + w_32*x_23)],\n",
       "[sigma(w_11*x_31 + w_21*x_32 + w_31*x_33), sigma(w_12*x_31 + w_22*x_32 + w_32*x_33)]]))"
      ]
     },
     "execution_count": 1,
     "metadata": {},
     "output_type": "execute_result"
    }
   ],
   "source": [
    "L.subs({A:X, B:W}).replace(n, vL).replace(sigmaApply, sigmaApply_)"
   ]
  },
  {
   "cell_type": "code",
   "execution_count": 67,
   "metadata": {
    "execution": {
     "iopub.execute_input": "2020-09-21T07:06:51.380932Z",
     "iopub.status.busy": "2020-09-21T07:06:51.379476Z",
     "iopub.status.idle": "2020-09-21T07:06:51.391585Z",
     "shell.execute_reply": "2020-09-21T07:06:51.392820Z"
    },
    "title": "codecell"
   },
   "outputs": [
    {
     "data": {
      "text/latex": [
       "$\\displaystyle \\lambda{\\left(\\sigma_{apply}{\\left(\\left[\\begin{matrix}n_{11} & n_{12}\\\\n_{21} & n_{22}\\\\n_{31} & n_{32}\\end{matrix}\\right] \\right)} \\right)}$"
      ],
      "text/plain": [
       "lambda(sigma_apply(Matrix([\n",
       "[n_11, n_12],\n",
       "[n_21, n_22],\n",
       "[n_31, n_32]])))"
      ]
     },
     "execution_count": 1,
     "metadata": {},
     "output_type": "execute_result"
    }
   ],
   "source": [
    "L.replace(n, vN)"
   ]
  },
  {
   "cell_type": "code",
   "execution_count": 68,
   "metadata": {
    "execution": {
     "iopub.execute_input": "2020-09-21T07:06:51.397491Z",
     "iopub.status.busy": "2020-09-21T07:06:51.396017Z",
     "iopub.status.idle": "2020-09-21T07:06:51.420437Z",
     "shell.execute_reply": "2020-09-21T07:06:51.421510Z"
    },
    "title": "codecell"
   },
   "outputs": [
    {
     "data": {
      "text/latex": [
       "$\\displaystyle \\sigma{\\left(n_{11} \\right)} + \\sigma{\\left(n_{12} \\right)} + \\sigma{\\left(n_{21} \\right)} + \\sigma{\\left(n_{22} \\right)} + \\sigma{\\left(n_{31} \\right)} + \\sigma{\\left(n_{32} \\right)}$"
      ],
      "text/plain": [
       "sigma(n_11) + sigma(n_12) + sigma(n_21) + sigma(n_22) + sigma(n_31) + sigma(n_32)"
      ]
     },
     "execution_count": 1,
     "metadata": {},
     "output_type": "execute_result"
    }
   ],
   "source": [
    "L.replace(n, vN).subs({A:X, B:W}).replace(sigmaApply, sigmaApply_).replace(lambd, lambd_)\n",
    "\n",
    "\n",
    "\n",
    "\n",
    "\n"
   ]
  },
  {
   "cell_type": "code",
   "execution_count": 69,
   "metadata": {
    "execution": {
     "iopub.execute_input": "2020-09-21T07:06:51.426678Z",
     "iopub.status.busy": "2020-09-21T07:06:51.425220Z",
     "iopub.status.idle": "2020-09-21T07:06:51.442582Z",
     "shell.execute_reply": "2020-09-21T07:06:51.443761Z"
    },
    "title": "codecell"
   },
   "outputs": [
    {
     "data": {
      "text/latex": [
       "$\\displaystyle \\frac{d}{d f{\\left(x \\right)}} g{\\left(f{\\left(x \\right)} \\right)}$"
      ],
      "text/plain": [
       "Derivative(g(f(x)), f(x))"
      ]
     },
     "execution_count": 1,
     "metadata": {},
     "output_type": "execute_result"
    }
   ],
   "source": [
    "from sympy import symbols, Derivative\n",
    "\n",
    "x, y, r, t = symbols('x y r t') # r (radius), t (angle theta)\n",
    "f, g, h = symbols('f g h', cls=Function)\n",
    "h = g(f(x))\n",
    "\n",
    "Derivative(h, f(x)).doit()"
   ]
  },
  {
   "cell_type": "code",
   "execution_count": 70,
   "metadata": {
    "execution": {
     "iopub.execute_input": "2020-09-21T07:06:51.449344Z",
     "iopub.status.busy": "2020-09-21T07:06:51.447053Z",
     "iopub.status.idle": "2020-09-21T07:06:51.453150Z",
     "shell.execute_reply": "2020-09-21T07:06:51.454212Z"
    },
    "title": "codecell"
   },
   "outputs": [],
   "source": [
    "# Never do this gives recursion ERROR (max depth exceeded)\n",
    "# h = g(f(A))\n",
    "# Derivative(h, A).doit()"
   ]
  },
  {
   "cell_type": "code",
   "execution_count": 71,
   "metadata": {
    "lines_to_next_cell": 2,
    "title": "codecell"
   },
   "outputs": [],
   "source": []
  },
  {
   "cell_type": "code",
   "execution_count": 71,
   "metadata": {
    "execution": {
     "iopub.execute_input": "2020-09-21T07:06:51.462233Z",
     "iopub.status.busy": "2020-09-21T07:06:51.457624Z",
     "iopub.status.idle": "2020-09-21T07:06:51.471664Z",
     "shell.execute_reply": "2020-09-21T07:06:51.472799Z"
    },
    "lines_to_next_cell": 0,
    "title": "codecell"
   },
   "outputs": [
    {
     "data": {
      "text/latex": [
       "$\\displaystyle \\lambda{\\left(\\sigma_{apply}{\\left(v{\\left(a,b \\right)} \\right)} \\right)}$"
      ],
      "text/plain": [
       "lambda(sigma_apply(v(a, b)))"
      ]
     },
     "execution_count": 1,
     "metadata": {},
     "output_type": "execute_result"
    }
   ],
   "source": [
    "from sympy.abc import a, b\n",
    "\n",
    "Llower = lambd(sigmaApply(n(a, b)))\n",
    "Llower"
   ]
  },
  {
   "cell_type": "code",
   "execution_count": 72,
   "metadata": {
    "execution": {
     "iopub.execute_input": "2020-09-21T07:06:51.477564Z",
     "iopub.status.busy": "2020-09-21T07:06:51.476057Z",
     "iopub.status.idle": "2020-09-21T07:06:51.504158Z",
     "shell.execute_reply": "2020-09-21T07:06:51.505267Z"
    },
    "lines_to_next_cell": 0,
    "title": "codecell"
   },
   "outputs": [
    {
     "data": {
      "text/latex": [
       "$\\displaystyle \\frac{\\partial}{\\partial \\sigma_{apply}{\\left(v{\\left(a,b \\right)} \\right)}} \\lambda{\\left(\\sigma_{apply}{\\left(v{\\left(a,b \\right)} \\right)} \\right)} \\frac{\\partial}{\\partial v{\\left(a,b \\right)}} \\sigma_{apply}{\\left(v{\\left(a,b \\right)} \\right)} \\frac{\\partial}{\\partial a} v{\\left(a,b \\right)}$"
      ],
      "text/plain": [
       "Derivative(lambda(sigma_apply(v(a, b))), sigma_apply(v(a, b)))*Derivative(sigma_apply(v(a, b)), v(a, b))*Derivative(v(a, b), a)"
      ]
     },
     "execution_count": 1,
     "metadata": {},
     "output_type": "execute_result"
    }
   ],
   "source": [
    "Derivative(Llower, a).doit()"
   ]
  },
  {
   "cell_type": "code",
   "execution_count": 73,
   "metadata": {
    "title": "codecell"
   },
   "outputs": [],
   "source": []
  },
  {
   "cell_type": "code",
   "execution_count": 73,
   "metadata": {
    "execution": {
     "iopub.execute_input": "2020-09-21T07:06:51.510359Z",
     "iopub.status.busy": "2020-09-21T07:06:51.508896Z",
     "iopub.status.idle": "2020-09-21T07:06:51.519611Z",
     "shell.execute_reply": "2020-09-21T07:06:51.520734Z"
    },
    "title": "codecell"
   },
   "outputs": [
    {
     "data": {
      "text/latex": [
       "$\\displaystyle \\operatorname{n_{ij}}{\\left(X,W \\right)}$"
      ],
      "text/plain": [
       "n_ij(X, W)"
      ]
     },
     "execution_count": 1,
     "metadata": {},
     "output_type": "execute_result"
    }
   ],
   "source": [
    "# ### WAY 1: of substituting to differentiate with respect to expression:\n",
    "n_ij = Function('n_ij')\n",
    "n_ij(A,B) # (N[0,0]); n_ij"
   ]
  },
  {
   "cell_type": "code",
   "execution_count": 74,
   "metadata": {
    "execution": {
     "iopub.execute_input": "2020-09-21T07:06:51.525751Z",
     "iopub.status.busy": "2020-09-21T07:06:51.523863Z",
     "iopub.status.idle": "2020-09-21T07:06:51.533350Z",
     "shell.execute_reply": "2020-09-21T07:06:51.534450Z"
    },
    "title": "codecell"
   },
   "outputs": [
    {
     "data": {
      "text/plain": [
       "(X, W)"
      ]
     },
     "execution_count": 1,
     "metadata": {},
     "output_type": "execute_result"
    }
   ],
   "source": [
    "n_ij(A,B).args"
   ]
  },
  {
   "cell_type": "code",
   "execution_count": 75,
   "metadata": {
    "execution": {
     "iopub.execute_input": "2020-09-21T07:06:51.539285Z",
     "iopub.status.busy": "2020-09-21T07:06:51.537805Z",
     "iopub.status.idle": "2020-09-21T07:06:51.551937Z",
     "shell.execute_reply": "2020-09-21T07:06:51.553041Z"
    },
    "lines_to_next_cell": 0,
    "title": "codecell"
   },
   "outputs": [
    {
     "data": {
      "text/latex": [
       "$\\displaystyle \\frac{\\partial}{\\partial \\operatorname{n_{ij}}{\\left(X,W \\right)}} \\sigma{\\left(\\operatorname{n_{ij}}{\\left(X,W \\right)} \\right)}$"
      ],
      "text/plain": [
       "Derivative(sigma(n_ij(X, W)), n_ij(X, W))"
      ]
     },
     "execution_count": 1,
     "metadata": {},
     "output_type": "execute_result"
    }
   ],
   "source": [
    "# sigma(n_ij).diff(n_ij).replace(n_ij, N[0,0]) # ERROR cannot deriv wi.r.t to the expression w11*x11 + ...\n",
    "\n",
    "sigma(n_ij(A,B)).diff(n_ij(A,B))"
   ]
  },
  {
   "cell_type": "code",
   "execution_count": 76,
   "metadata": {
    "execution": {
     "iopub.execute_input": "2020-09-21T07:06:51.561435Z",
     "iopub.status.busy": "2020-09-21T07:06:51.556474Z",
     "iopub.status.idle": "2020-09-21T07:06:51.580919Z",
     "shell.execute_reply": "2020-09-21T07:06:51.581960Z"
    },
    "lines_to_next_cell": 0,
    "title": "codecell"
   },
   "outputs": [
    {
     "data": {
      "text/latex": [
       "$\\displaystyle \\frac{\\partial}{\\partial x_{11}} \\operatorname{n_{ij}}{\\left(x_{11},x_{12},x_{13},x_{21},x_{22},x_{23},x_{31},x_{32},x_{33},w_{11},w_{12},w_{21},w_{22},w_{31},w_{32} \\right)} \\frac{\\partial}{\\partial \\operatorname{n_{ij}}{\\left(x_{11},x_{12},x_{13},x_{21},x_{22},x_{23},x_{31},x_{32},x_{33},w_{11},w_{12},w_{21},w_{22},w_{31},w_{32} \\right)}} \\sigma{\\left(\\operatorname{n_{ij}}{\\left(x_{11},x_{12},x_{13},x_{21},x_{22},x_{23},x_{31},x_{32},x_{33},w_{11},w_{12},w_{21},w_{22},w_{31},w_{32} \\right)} \\right)}$"
      ],
      "text/plain": [
       "Derivative(n_ij(x_11, x_12, x_13, x_21, x_22, x_23, x_31, x_32, x_33, w_11, w_12, w_21, w_22, w_31, w_32), x_11)*Derivative(sigma(n_ij(x_11, x_12, x_13, x_21, x_22, x_23, x_31, x_32, x_33, w_11, w_12, w_21, w_22, w_31, w_32)), n_ij(x_11, x_12, x_13, x_21, x_22, x_23, x_31, x_32, x_33, w_11, w_12, w_21, w_22, w_31, w_32))"
      ]
     },
     "execution_count": 1,
     "metadata": {},
     "output_type": "execute_result"
    }
   ],
   "source": [
    "sigma(n_ij(*X,*W)).diff(X[0,0])"
   ]
  },
  {
   "cell_type": "code",
   "execution_count": 77,
   "metadata": {
    "execution": {
     "iopub.execute_input": "2020-09-21T07:06:51.586810Z",
     "iopub.status.busy": "2020-09-21T07:06:51.585396Z",
     "iopub.status.idle": "2020-09-21T07:06:51.598417Z",
     "shell.execute_reply": "2020-09-21T07:06:51.599427Z"
    },
    "lines_to_next_cell": 0,
    "title": "codecell"
   },
   "outputs": [
    {
     "data": {
      "text/latex": [
       "$\\displaystyle \\frac{\\partial}{\\partial \\operatorname{n_{ij}}{\\left(X,W \\right)}} \\sigma{\\left(\\operatorname{n_{ij}}{\\left(X,W \\right)} \\right)}$"
      ],
      "text/plain": [
       "Derivative(sigma(n_ij(X, W)), n_ij(X, W))"
      ]
     },
     "execution_count": 1,
     "metadata": {},
     "output_type": "execute_result"
    }
   ],
   "source": [
    "nab_ij = n_ij(A,B)\n",
    "sigma(nab_ij).diff(nab_ij)#.subs({nab_ij : Nspec[0, 0]})"
   ]
  },
  {
   "cell_type": "code",
   "execution_count": 78,
   "metadata": {
    "execution": {
     "iopub.execute_input": "2020-09-21T07:06:51.604090Z",
     "iopub.status.busy": "2020-09-21T07:06:51.602619Z",
     "iopub.status.idle": "2020-09-21T07:06:51.623555Z",
     "shell.execute_reply": "2020-09-21T07:06:51.625393Z"
    },
    "title": "codecell"
   },
   "outputs": [
    {
     "data": {
      "text/latex": [
       "$\\displaystyle \\left. \\frac{d}{d \\xi} \\sigma{\\left(\\xi \\right)} \\right|_{\\substack{ \\xi=w_{12} x_{31} + w_{22} x_{32} + w_{32} x_{33} }}$"
      ],
      "text/plain": [
       "Subs(Derivative(sigma(_xi), _xi), _xi, w_12*x_31 + w_22*x_32 + w_32*x_33)"
      ]
     },
     "execution_count": 1,
     "metadata": {},
     "output_type": "execute_result"
    }
   ],
   "source": [
    "sigma(nab_ij).diff(nab_ij).subs({nab_ij : Nspec[2, 1]})"
   ]
  },
  {
   "cell_type": "code",
   "execution_count": 79,
   "metadata": {
    "execution": {
     "iopub.execute_input": "2020-09-21T07:06:51.634579Z",
     "iopub.status.busy": "2020-09-21T07:06:51.633636Z",
     "iopub.status.idle": "2020-09-21T07:06:51.650971Z",
     "shell.execute_reply": "2020-09-21T07:06:51.651989Z"
    },
    "lines_to_next_cell": 0,
    "title": "codecell"
   },
   "outputs": [
    {
     "data": {
      "text/latex": [
       "$\\displaystyle \\left. \\frac{d}{d \\xi} \\sigma{\\left(\\xi \\right)} \\right|_{\\substack{ \\xi=w_{12} x_{31} + 77777 w_{22} + w_{32} x_{33} }}$"
      ],
      "text/plain": [
       "Subs(Derivative(sigma(_xi), _xi), _xi, w_12*x_31 + 77777*w_22 + w_32*x_33)"
      ]
     },
     "execution_count": 1,
     "metadata": {},
     "output_type": "execute_result"
    }
   ],
   "source": [
    "sigma(nab_ij).diff(nab_ij).subs({nab_ij : Nspec[2,1]}).subs({X[2,1]:77777})"
   ]
  },
  {
   "cell_type": "code",
   "execution_count": 80,
   "metadata": {
    "execution": {
     "iopub.execute_input": "2020-09-21T07:06:51.656777Z",
     "iopub.status.busy": "2020-09-21T07:06:51.655267Z",
     "iopub.status.idle": "2020-09-21T07:06:51.669535Z",
     "shell.execute_reply": "2020-09-21T07:06:51.670585Z"
    },
    "title": "codecell"
   },
   "outputs": [
    {
     "data": {
      "text/latex": [
       "$\\displaystyle \\left. \\frac{d}{d \\xi} \\sigma{\\left(\\xi \\right)} \\right|_{\\substack{ \\xi=23 }}$"
      ],
      "text/plain": [
       "Subs(Derivative(sigma(_xi), _xi), _xi, 23)"
      ]
     },
     "execution_count": 1,
     "metadata": {},
     "output_type": "execute_result"
    }
   ],
   "source": [
    "sigma(nab_ij).diff(nab_ij).subs({nab_ij : 23}) # ERROR if using replace() since it says can't calc derivs w.r.t to the x_11*w_11 + ..."
   ]
  },
  {
   "cell_type": "code",
   "execution_count": 81,
   "metadata": {
    "execution": {
     "iopub.execute_input": "2020-09-21T07:06:51.675395Z",
     "iopub.status.busy": "2020-09-21T07:06:51.673964Z",
     "iopub.status.idle": "2020-09-21T07:06:51.694041Z",
     "shell.execute_reply": "2020-09-21T07:06:51.695082Z"
    },
    "lines_to_next_cell": 0,
    "title": "codecell"
   },
   "outputs": [
    {
     "data": {
      "text/latex": [
       "$\\displaystyle \\left. \\frac{d}{d \\xi} \\sigma{\\left(\\xi \\right)} \\right|_{\\substack{ \\xi=w_{12} x_{31} + w_{22} x_{32} + w_{32} x_{33} }}$"
      ],
      "text/plain": [
       "Subs(Derivative(sigma(_xi), _xi), _xi, w_12*x_31 + w_22*x_32 + w_32*x_33)"
      ]
     },
     "execution_count": 1,
     "metadata": {},
     "output_type": "execute_result"
    }
   ],
   "source": [
    "sigma(nab_ij).diff(nab_ij).subs({nab_ij : Nspec[2,1]}).doit()"
   ]
  },
  {
   "cell_type": "code",
   "execution_count": 82,
   "metadata": {
    "execution": {
     "iopub.execute_input": "2020-09-21T07:06:51.699934Z",
     "iopub.status.busy": "2020-09-21T07:06:51.698484Z",
     "iopub.status.idle": "2020-09-21T07:06:51.711882Z",
     "shell.execute_reply": "2020-09-21T07:06:51.712981Z"
    },
    "lines_to_next_cell": 0,
    "title": "codecell"
   },
   "outputs": [
    {
     "data": {
      "text/latex": [
       "$\\displaystyle \\sigma{\\left(w_{12} x_{31} + w_{22} x_{32} + w_{32} x_{33} \\right)}$"
      ],
      "text/plain": [
       "sigma(w_12*x_31 + w_22*x_32 + w_32*x_33)"
      ]
     },
     "execution_count": 1,
     "metadata": {},
     "output_type": "execute_result"
    }
   ],
   "source": [
    "sigma(nab_ij).subs({nab_ij : Nspec[2,1]})#.diff(X[2,1])"
   ]
  },
  {
   "cell_type": "code",
   "execution_count": 83,
   "metadata": {
    "execution": {
     "iopub.execute_input": "2020-09-21T07:06:51.717868Z",
     "iopub.status.busy": "2020-09-21T07:06:51.716304Z",
     "iopub.status.idle": "2020-09-21T07:06:51.737588Z",
     "shell.execute_reply": "2020-09-21T07:06:51.738619Z"
    },
    "lines_to_next_cell": 2,
    "title": "codecell"
   },
   "outputs": [
    {
     "data": {
      "text/latex": [
       "$\\displaystyle w_{22} \\left. \\frac{d}{d \\xi_{1}} \\sigma{\\left(\\xi_{1} \\right)} \\right|_{\\substack{ \\xi_{1}=w_{12} x_{31} + w_{22} x_{32} + w_{32} x_{33} }}$"
      ],
      "text/plain": [
       "w_22*Subs(Derivative(sigma(_xi_1), _xi_1), _xi_1, w_12*x_31 + w_22*x_32 + w_32*x_33)"
      ]
     },
     "execution_count": 1,
     "metadata": {},
     "output_type": "execute_result"
    }
   ],
   "source": [
    "# Substituting the value of the function n_ij first, and THEN differentiating with respect to something in that substitution. (X_21)\n",
    "sigma(nab_ij).subs({nab_ij : Nspec[2,1]}).diff(X[2,1])"
   ]
  },
  {
   "cell_type": "code",
   "execution_count": 84,
   "metadata": {
    "execution": {
     "iopub.execute_input": "2020-09-21T07:06:51.743228Z",
     "iopub.status.busy": "2020-09-21T07:06:51.741759Z",
     "iopub.status.idle": "2020-09-21T07:06:51.758905Z",
     "shell.execute_reply": "2020-09-21T07:06:51.759937Z"
    },
    "title": "codecell"
   },
   "outputs": [
    {
     "data": {
      "text/latex": [
       "$\\displaystyle w_{22} \\left. \\frac{d}{d \\xi_{1}} \\sigma{\\left(\\xi_{1} \\right)} \\right|_{\\substack{ \\xi_{1}=w_{12} x_{31} + w_{22} x_{32} + w_{32} x_{33} }}$"
      ],
      "text/plain": [
       "w_22*Subs(Derivative(sigma(_xi_1), _xi_1), _xi_1, w_12*x_31 + w_22*x_32 + w_32*x_33)"
      ]
     },
     "execution_count": 1,
     "metadata": {},
     "output_type": "execute_result"
    }
   ],
   "source": [
    "Selem[2,1].subs({Nelem[2,1] : Nspec[2,1]}).diff(X[2,1])\n",
    "\n",
    "\n"
   ]
  },
  {
   "cell_type": "code",
   "execution_count": 85,
   "metadata": {
    "execution": {
     "iopub.execute_input": "2020-09-21T07:06:51.764835Z",
     "iopub.status.busy": "2020-09-21T07:06:51.763296Z",
     "iopub.status.idle": "2020-09-21T07:06:51.775738Z",
     "shell.execute_reply": "2020-09-21T07:06:51.776761Z"
    },
    "title": "codecell"
   },
   "outputs": [
    {
     "data": {
      "text/latex": [
       "$\\displaystyle \\operatorname{n_{11}}{\\left(w_{11} x_{11} + w_{21} x_{12} + w_{31} x_{13} \\right)}$"
      ],
      "text/plain": [
       "n_11(w_11*x_11 + w_21*x_12 + w_31*x_13)"
      ]
     },
     "execution_count": 1,
     "metadata": {},
     "output_type": "execute_result"
    }
   ],
   "source": [
    "# ### WAY 2:\n",
    "n_11 = Function('n_11')(Nspec[0, 0]); n_11"
   ]
  },
  {
   "cell_type": "code",
   "execution_count": 86,
   "metadata": {
    "execution": {
     "iopub.execute_input": "2020-09-21T07:06:51.781359Z",
     "iopub.status.busy": "2020-09-21T07:06:51.779891Z",
     "iopub.status.idle": "2020-09-21T07:06:51.791886Z",
     "shell.execute_reply": "2020-09-21T07:06:51.792981Z"
    },
    "lines_to_next_cell": 0,
    "title": "codecell"
   },
   "outputs": [
    {
     "data": {
      "text/latex": [
       "$\\displaystyle \\sigma{\\left(\\operatorname{n_{11}}{\\left(w_{11} x_{11} + w_{21} x_{12} + w_{31} x_{13} \\right)} \\right)}$"
      ],
      "text/plain": [
       "sigma(n_11(w_11*x_11 + w_21*x_12 + w_31*x_13))"
      ]
     },
     "execution_count": 1,
     "metadata": {},
     "output_type": "execute_result"
    }
   ],
   "source": [
    "sigma(n_11)"
   ]
  },
  {
   "cell_type": "code",
   "execution_count": 87,
   "metadata": {
    "execution": {
     "iopub.execute_input": "2020-09-21T07:06:51.797672Z",
     "iopub.status.busy": "2020-09-21T07:06:51.796223Z",
     "iopub.status.idle": "2020-09-21T07:06:51.810114Z",
     "shell.execute_reply": "2020-09-21T07:06:51.811131Z"
    },
    "lines_to_next_cell": 0,
    "title": "codecell"
   },
   "outputs": [
    {
     "data": {
      "text/latex": [
       "$\\displaystyle \\sigma{\\left(w_{11} x_{11} + w_{21} x_{12} + w_{31} x_{13} \\right)}$"
      ],
      "text/plain": [
       "sigma(w_11*x_11 + w_21*x_12 + w_31*x_13)"
      ]
     },
     "execution_count": 1,
     "metadata": {},
     "output_type": "execute_result"
    }
   ],
   "source": [
    "assert Nspec[0,0] == n_11.args[0]\n",
    "\n",
    "sigma(n_11).subs({n_11 : n_11.args[0]})"
   ]
  },
  {
   "cell_type": "code",
   "execution_count": 88,
   "metadata": {
    "execution": {
     "iopub.execute_input": "2020-09-21T07:06:51.815825Z",
     "iopub.status.busy": "2020-09-21T07:06:51.814426Z",
     "iopub.status.idle": "2020-09-21T07:06:51.839320Z",
     "shell.execute_reply": "2020-09-21T07:06:51.840354Z"
    },
    "lines_to_next_cell": 0,
    "title": "codecell"
   },
   "outputs": [
    {
     "data": {
      "text/latex": [
       "$\\displaystyle \\frac{\\partial}{\\partial \\operatorname{n_{11}}{\\left(w_{11} x_{11} + w_{21} x_{12} + w_{31} x_{13} \\right)}} \\sigma{\\left(\\operatorname{n_{11}}{\\left(w_{11} x_{11} + w_{21} x_{12} + w_{31} x_{13} \\right)} \\right)}$"
      ],
      "text/plain": [
       "Derivative(sigma(n_11(w_11*x_11 + w_21*x_12 + w_31*x_13)), n_11(w_11*x_11 + w_21*x_12 + w_31*x_13))"
      ]
     },
     "execution_count": 1,
     "metadata": {},
     "output_type": "execute_result"
    }
   ],
   "source": [
    "sigma(n_11).diff(n_11) #.replace(n_ij, n_ij.args[0])"
   ]
  },
  {
   "cell_type": "code",
   "execution_count": 89,
   "metadata": {
    "execution": {
     "iopub.execute_input": "2020-09-21T07:06:51.845187Z",
     "iopub.status.busy": "2020-09-21T07:06:51.843680Z",
     "iopub.status.idle": "2020-09-21T07:06:51.867840Z",
     "shell.execute_reply": "2020-09-21T07:06:51.868919Z"
    },
    "lines_to_next_cell": 0,
    "title": "codecell"
   },
   "outputs": [
    {
     "data": {
      "text/latex": [
       "$\\displaystyle \\left. \\frac{d}{d \\xi} \\sigma{\\left(\\xi \\right)} \\right|_{\\substack{ \\xi=77777 w_{11} + w_{21} x_{12} + w_{31} x_{13} }}$"
      ],
      "text/plain": [
       "Subs(Derivative(sigma(_xi), _xi), _xi, 77777*w_11 + w_21*x_12 + w_31*x_13)"
      ]
     },
     "execution_count": 1,
     "metadata": {},
     "output_type": "execute_result"
    }
   ],
   "source": [
    "sigma(n_11).diff(n_11).subs({n_11 : n_11.args[0]}).subs({X[0,0]:77777})"
   ]
  },
  {
   "cell_type": "code",
   "execution_count": 90,
   "metadata": {
    "execution": {
     "iopub.execute_input": "2020-09-21T07:06:51.873669Z",
     "iopub.status.busy": "2020-09-21T07:06:51.872116Z",
     "iopub.status.idle": "2020-09-21T07:06:51.897725Z",
     "shell.execute_reply": "2020-09-21T07:06:51.898744Z"
    },
    "title": "codecell"
   },
   "outputs": [
    {
     "data": {
      "text/latex": [
       "$\\displaystyle \\left. \\frac{d}{d \\xi} \\sigma{\\left(\\xi \\right)} \\right|_{\\substack{ \\xi=23 }}$"
      ],
      "text/plain": [
       "Subs(Derivative(sigma(_xi), _xi), _xi, 23)"
      ]
     },
     "execution_count": 1,
     "metadata": {},
     "output_type": "execute_result"
    }
   ],
   "source": [
    "sigma(n_11).diff(n_11).subs({n_11 : n_11.args[0]}).replace(n_11.args[0], 23) # same as subs in this case"
   ]
  },
  {
   "cell_type": "code",
   "execution_count": 91,
   "metadata": {
    "execution": {
     "iopub.execute_input": "2020-09-21T07:06:51.903731Z",
     "iopub.status.busy": "2020-09-21T07:06:51.902282Z",
     "iopub.status.idle": "2020-09-21T07:06:51.925129Z",
     "shell.execute_reply": "2020-09-21T07:06:51.926160Z"
    },
    "lines_to_next_cell": 0,
    "title": "codecell"
   },
   "outputs": [
    {
     "data": {
      "text/latex": [
       "$\\displaystyle w_{11} \\frac{\\partial}{\\partial \\operatorname{n_{11}}{\\left(w_{11} x_{11} + w_{21} x_{12} + w_{31} x_{13} \\right)}} \\sigma{\\left(\\operatorname{n_{11}}{\\left(w_{11} x_{11} + w_{21} x_{12} + w_{31} x_{13} \\right)} \\right)} \\left. \\frac{d}{d \\xi_{1}} \\operatorname{n_{11}}{\\left(\\xi_{1} \\right)} \\right|_{\\substack{ \\xi_{1}=w_{11} x_{11} + w_{21} x_{12} + w_{31} x_{13} }}$"
      ],
      "text/plain": [
       "w_11*Derivative(sigma(n_11(w_11*x_11 + w_21*x_12 + w_31*x_13)), n_11(w_11*x_11 + w_21*x_12 + w_31*x_13))*Subs(Derivative(n_11(_xi_1), _xi_1), _xi_1, w_11*x_11 + w_21*x_12 + w_31*x_13)"
      ]
     },
     "execution_count": 1,
     "metadata": {},
     "output_type": "execute_result"
    }
   ],
   "source": [
    "sigma(n_11).diff(X[0,0])"
   ]
  },
  {
   "cell_type": "code",
   "execution_count": 92,
   "metadata": {
    "execution": {
     "iopub.execute_input": "2020-09-21T07:06:51.931217Z",
     "iopub.status.busy": "2020-09-21T07:06:51.929817Z",
     "iopub.status.idle": "2020-09-21T07:06:51.957597Z",
     "shell.execute_reply": "2020-09-21T07:06:51.958631Z"
    },
    "title": "codecell"
   },
   "outputs": [
    {
     "data": {
      "text/latex": [
       "$\\displaystyle w_{11} \\left. \\frac{d}{d \\xi_{1}} \\operatorname{n_{11}}{\\left(\\xi_{1} \\right)} \\right|_{\\substack{ \\xi_{1}=w_{11} x_{11} + w_{21} x_{12} + w_{31} x_{13} }} \\left. \\frac{d}{d \\xi} \\sigma{\\left(\\xi \\right)} \\right|_{\\substack{ \\xi=\\left( x \\mapsto x \\right) }}$"
      ],
      "text/plain": [
       "w_11*Subs(Derivative(n_11(_xi_1), _xi_1), _xi_1, w_11*x_11 + w_21*x_12 + w_31*x_13)*Subs(Derivative(sigma(_xi), _xi), _xi, Lambda(_x, _x))"
      ]
     },
     "execution_count": 1,
     "metadata": {},
     "output_type": "execute_result"
    }
   ],
   "source": [
    "id = Lambda(x, x)\n",
    "\n",
    "sigma(n_11).diff(X[0,0]).subs({n_11 : id})"
   ]
  },
  {
   "cell_type": "code",
   "execution_count": 93,
   "metadata": {
    "execution": {
     "iopub.execute_input": "2020-09-21T07:06:51.963380Z",
     "iopub.status.busy": "2020-09-21T07:06:51.961978Z",
     "iopub.status.idle": "2020-09-21T07:06:51.989273Z",
     "shell.execute_reply": "2020-09-21T07:06:51.990304Z"
    },
    "lines_to_next_cell": 0,
    "title": "codecell"
   },
   "outputs": [
    {
     "data": {
      "text/latex": [
       "$\\displaystyle w_{11} \\left. \\frac{d}{d \\xi_{1}} \\operatorname{n_{11}}{\\left(\\xi_{1} \\right)} \\right|_{\\substack{ \\xi_{1}=w_{11} x_{11} + w_{21} x_{12} + w_{31} x_{13} }} \\left. \\frac{d}{d \\xi} \\sigma{\\left(\\xi \\right)} \\right|_{\\substack{ \\xi=w_{11} x_{11} + w_{21} x_{12} + w_{31} x_{13} }}$"
      ],
      "text/plain": [
       "w_11*Subs(Derivative(n_11(_xi_1), _xi_1), _xi_1, w_11*x_11 + w_21*x_12 + w_31*x_13)*Subs(Derivative(sigma(_xi), _xi), _xi, w_11*x_11 + w_21*x_12 + w_31*x_13)"
      ]
     },
     "execution_count": 1,
     "metadata": {},
     "output_type": "execute_result"
    }
   ],
   "source": [
    "# NOTE: so I don't think WAY 2 is correct because here it doesn't simplify the derivative d n11 / d eps11, since this should equal 1 because now n11 = eps11. Correct one is below (repeated from above)\n",
    "sigma(n_11).diff(X[0,0]).subs({n_11 : Nspec[0,0]})"
   ]
  },
  {
   "cell_type": "code",
   "execution_count": 94,
   "metadata": {
    "execution": {
     "iopub.execute_input": "2020-09-21T07:06:51.994952Z",
     "iopub.status.busy": "2020-09-21T07:06:51.993490Z",
     "iopub.status.idle": "2020-09-21T07:06:52.013271Z",
     "shell.execute_reply": "2020-09-21T07:06:52.014401Z"
    },
    "lines_to_next_cell": 0,
    "title": "codecell"
   },
   "outputs": [
    {
     "data": {
      "text/latex": [
       "$\\displaystyle w_{11} \\left. \\frac{d}{d \\xi_{1}} \\sigma{\\left(\\xi_{1} \\right)} \\right|_{\\substack{ \\xi_{1}=w_{11} x_{11} + w_{21} x_{12} + w_{31} x_{13} }}$"
      ],
      "text/plain": [
       "w_11*Subs(Derivative(sigma(_xi_1), _xi_1), _xi_1, w_11*x_11 + w_21*x_12 + w_31*x_13)"
      ]
     },
     "execution_count": 1,
     "metadata": {},
     "output_type": "execute_result"
    }
   ],
   "source": [
    "# CORRECT WAY 1\n",
    "sigma(n_11).subs({n_11 : Nspec[0,0]}).diff(X[0,0])"
   ]
  },
  {
   "cell_type": "code",
   "execution_count": 95,
   "metadata": {
    "execution": {
     "iopub.execute_input": "2020-09-21T07:06:52.019673Z",
     "iopub.status.busy": "2020-09-21T07:06:52.018079Z",
     "iopub.status.idle": "2020-09-21T07:06:52.039089Z",
     "shell.execute_reply": "2020-09-21T07:06:52.040169Z"
    },
    "lines_to_next_cell": 0,
    "title": "codecell"
   },
   "outputs": [
    {
     "data": {
      "text/latex": [
       "$\\displaystyle w_{11} \\left. \\frac{d}{d \\xi_{1}} \\sigma{\\left(\\xi_{1} \\right)} \\right|_{\\substack{ \\xi_{1}=w_{11} x_{11} + w_{21} x_{12} + w_{31} x_{13} }}$"
      ],
      "text/plain": [
       "w_11*Subs(Derivative(sigma(_xi_1), _xi_1), _xi_1, w_11*x_11 + w_21*x_12 + w_31*x_13)"
      ]
     },
     "execution_count": 1,
     "metadata": {},
     "output_type": "execute_result"
    }
   ],
   "source": [
    "# CORRECT WAY 2\n",
    "\n",
    "sigma(nab_ij).subs({nab_ij : Nspec[0,0]}).diff(X[0,0])"
   ]
  },
  {
   "cell_type": "code",
   "execution_count": 96,
   "metadata": {
    "execution": {
     "iopub.execute_input": "2020-09-21T07:06:52.050190Z",
     "iopub.status.busy": "2020-09-21T07:06:52.043488Z",
     "iopub.status.idle": "2020-09-21T07:06:52.064581Z",
     "shell.execute_reply": "2020-09-21T07:06:52.065792Z"
    },
    "title": "codecell"
   },
   "outputs": [
    {
     "data": {
      "text/latex": [
       "$\\displaystyle w_{22} \\left. \\frac{d}{d \\xi_{1}} \\sigma{\\left(\\xi_{1} \\right)} \\right|_{\\substack{ \\xi_{1}=w_{12} x_{31} + w_{22} x_{32} + w_{32} x_{33} }}$"
      ],
      "text/plain": [
       "w_22*Subs(Derivative(sigma(_xi_1), _xi_1), _xi_1, w_12*x_31 + w_22*x_32 + w_32*x_33)"
      ]
     },
     "execution_count": 1,
     "metadata": {},
     "output_type": "execute_result"
    }
   ],
   "source": [
    "# CORRECT WAY 3\n",
    "Selem[2,1].subs({Nelem[2,1] : Nspec[2,1]}).diff(X[2,1])"
   ]
  },
  {
   "cell_type": "code",
   "execution_count": 97,
   "metadata": {
    "execution": {
     "iopub.execute_input": "2020-09-21T07:06:52.070731Z",
     "iopub.status.busy": "2020-09-21T07:06:52.069279Z",
     "iopub.status.idle": "2020-09-21T07:06:52.081708Z",
     "shell.execute_reply": "2020-09-21T07:06:52.082726Z"
    },
    "lines_to_next_cell": 0,
    "title": "codecell"
   },
   "outputs": [
    {
     "data": {
      "text/latex": [
       "$\\displaystyle \\sigma{\\left(\\operatorname{n_{11}}{\\left(w_{11} x_{11} + w_{21} x_{12} + w_{31} x_{13} \\right)} \\right)}$"
      ],
      "text/plain": [
       "sigma(n_11(w_11*x_11 + w_21*x_12 + w_31*x_13))"
      ]
     },
     "execution_count": 1,
     "metadata": {},
     "output_type": "execute_result"
    }
   ],
   "source": [
    "sigma(n_11) # WAY 1: sigma argument is already hardcoded"
   ]
  },
  {
   "cell_type": "code",
   "execution_count": 98,
   "metadata": {
    "execution": {
     "iopub.execute_input": "2020-09-21T07:06:52.087410Z",
     "iopub.status.busy": "2020-09-21T07:06:52.085998Z",
     "iopub.status.idle": "2020-09-21T07:06:52.095627Z",
     "shell.execute_reply": "2020-09-21T07:06:52.096712Z"
    },
    "lines_to_next_cell": 0,
    "title": "codecell"
   },
   "outputs": [
    {
     "data": {
      "text/latex": [
       "$\\displaystyle \\sigma{\\left(\\operatorname{n_{ij}}{\\left(X,W \\right)} \\right)}$"
      ],
      "text/plain": [
       "sigma(n_ij(X, W))"
      ]
     },
     "execution_count": 1,
     "metadata": {},
     "output_type": "execute_result"
    }
   ],
   "source": [
    "sigma(nab_ij) # Way 2: sigma argument is function of matrixsymbol (better than 1)"
   ]
  },
  {
   "cell_type": "code",
   "execution_count": 99,
   "metadata": {
    "execution": {
     "iopub.execute_input": "2020-09-21T07:06:52.101496Z",
     "iopub.status.busy": "2020-09-21T07:06:52.100027Z",
     "iopub.status.idle": "2020-09-21T07:06:52.109625Z",
     "shell.execute_reply": "2020-09-21T07:06:52.110642Z"
    },
    "title": "codecell"
   },
   "outputs": [
    {
     "data": {
      "text/latex": [
       "$\\displaystyle \\sigma{\\left(n_{32} \\right)}$"
      ],
      "text/plain": [
       "sigma(n_32)"
      ]
     },
     "execution_count": 1,
     "metadata": {},
     "output_type": "execute_result"
    }
   ],
   "source": [
    "Selem[2,1] # WAY 3: sigma argument is just symbol and we replace it as function with argument hardcoded only later. (better than 2)\n",
    "\n",
    "\n"
   ]
  },
  {
   "cell_type": "code",
   "execution_count": 100,
   "metadata": {
    "execution": {
     "iopub.execute_input": "2020-09-21T07:06:52.115307Z",
     "iopub.status.busy": "2020-09-21T07:06:52.113841Z",
     "iopub.status.idle": "2020-09-21T07:06:52.123386Z",
     "shell.execute_reply": "2020-09-21T07:06:52.124663Z"
    },
    "title": "codecell"
   },
   "outputs": [
    {
     "data": {
      "text/latex": [
       "$\\displaystyle \\lambda{\\left(\\sigma_{apply}{\\left(v{\\left(X,W \\right)} \\right)} \\right)}$"
      ],
      "text/plain": [
       "lambda(sigma_apply(v(X, W)))"
      ]
     },
     "execution_count": 1,
     "metadata": {},
     "output_type": "execute_result"
    }
   ],
   "source": [
    "L"
   ]
  },
  {
   "cell_type": "code",
   "execution_count": 101,
   "metadata": {
    "execution": {
     "iopub.execute_input": "2020-09-21T07:06:52.129856Z",
     "iopub.status.busy": "2020-09-21T07:06:52.128361Z",
     "iopub.status.idle": "2020-09-21T07:06:52.142191Z",
     "shell.execute_reply": "2020-09-21T07:06:52.143242Z"
    },
    "title": "codecell"
   },
   "outputs": [
    {
     "data": {
      "text/latex": [
       "$\\displaystyle \\left[\\begin{matrix}\\sigma{\\left(n_{11} \\right)} & \\sigma{\\left(n_{12} \\right)}\\\\\\sigma{\\left(n_{21} \\right)} & \\sigma{\\left(n_{22} \\right)}\\\\\\sigma{\\left(n_{31} \\right)} & \\sigma{\\left(n_{32} \\right)}\\end{matrix}\\right]$"
      ],
      "text/plain": [
       "Matrix([\n",
       "[sigma(n_11), sigma(n_12)],\n",
       "[sigma(n_21), sigma(n_22)],\n",
       "[sigma(n_31), sigma(n_32)]])"
      ]
     },
     "execution_count": 1,
     "metadata": {},
     "output_type": "execute_result"
    }
   ],
   "source": [
    "assert Selem == S.replace(n, vN).replace(sigmaApply, sigmaApply_)\n",
    "\n",
    "Selem"
   ]
  },
  {
   "cell_type": "code",
   "execution_count": 102,
   "metadata": {
    "execution": {
     "iopub.execute_input": "2020-09-21T07:06:52.148001Z",
     "iopub.status.busy": "2020-09-21T07:06:52.146527Z",
     "iopub.status.idle": "2020-09-21T07:06:52.160487Z",
     "shell.execute_reply": "2020-09-21T07:06:52.161837Z"
    },
    "lines_to_next_cell": 0,
    "title": "codecell"
   },
   "outputs": [
    {
     "data": {
      "text/latex": [
       "$\\displaystyle \\lambda{\\left(\\left[\\begin{matrix}\\sigma{\\left(n_{11} \\right)} & \\sigma{\\left(n_{12} \\right)}\\\\\\sigma{\\left(n_{21} \\right)} & \\sigma{\\left(n_{22} \\right)}\\\\\\sigma{\\left(n_{31} \\right)} & \\sigma{\\left(n_{32} \\right)}\\end{matrix}\\right] \\right)}$"
      ],
      "text/plain": [
       "lambda(Matrix([\n",
       "[sigma(n_11), sigma(n_12)],\n",
       "[sigma(n_21), sigma(n_22)],\n",
       "[sigma(n_31), sigma(n_32)]]))"
      ]
     },
     "execution_count": 1,
     "metadata": {},
     "output_type": "execute_result"
    }
   ],
   "source": [
    "L.replace(n, vN).replace(sigmaApply, sigmaApply_)"
   ]
  },
  {
   "cell_type": "code",
   "execution_count": 103,
   "metadata": {
    "execution": {
     "iopub.execute_input": "2020-09-21T07:06:52.166662Z",
     "iopub.status.busy": "2020-09-21T07:06:52.165201Z",
     "iopub.status.idle": "2020-09-21T07:06:52.170459Z",
     "shell.execute_reply": "2020-09-21T07:06:52.171492Z"
    },
    "title": "codecell"
   },
   "outputs": [],
   "source": [
    "#L.replace(n, vN).replace(sigmaApply, sigmaApply_).diff(Nelem[0,0])"
   ]
  },
  {
   "cell_type": "code",
   "execution_count": 104,
   "metadata": {
    "execution": {
     "iopub.execute_input": "2020-09-21T07:06:52.176112Z",
     "iopub.status.busy": "2020-09-21T07:06:52.174618Z",
     "iopub.status.idle": "2020-09-21T07:06:52.191502Z",
     "shell.execute_reply": "2020-09-21T07:06:52.192556Z"
    },
    "lines_to_next_cell": 0,
    "title": "codecell"
   },
   "outputs": [
    {
     "data": {
      "text/latex": [
       "$\\displaystyle \\sigma{\\left(n_{11} \\right)} + \\sigma{\\left(n_{12} \\right)} + \\sigma{\\left(n_{21} \\right)} + \\sigma{\\left(n_{22} \\right)} + \\sigma{\\left(n_{31} \\right)} + \\sigma{\\left(n_{32} \\right)}$"
      ],
      "text/plain": [
       "sigma(n_11) + sigma(n_12) + sigma(n_21) + sigma(n_22) + sigma(n_31) + sigma(n_32)"
      ]
     },
     "execution_count": 1,
     "metadata": {},
     "output_type": "execute_result"
    }
   ],
   "source": [
    "Lsum = L.replace(n, vN).replace(sigmaApply, sigmaApply_).replace(lambd, lambd_)\n",
    "Lsum"
   ]
  },
  {
   "cell_type": "code",
   "execution_count": 105,
   "metadata": {
    "execution": {
     "iopub.execute_input": "2020-09-21T07:06:52.197415Z",
     "iopub.status.busy": "2020-09-21T07:06:52.195920Z",
     "iopub.status.idle": "2020-09-21T07:06:52.221179Z",
     "shell.execute_reply": "2020-09-21T07:06:52.222232Z"
    },
    "lines_to_next_cell": 0,
    "title": "codecell"
   },
   "outputs": [
    {
     "data": {
      "text/latex": [
       "$\\displaystyle \\left[\\begin{matrix}\\frac{d}{d n_{11}} \\sigma{\\left(n_{11} \\right)} & \\frac{d}{d n_{12}} \\sigma{\\left(n_{12} \\right)}\\\\\\frac{d}{d n_{21}} \\sigma{\\left(n_{21} \\right)} & \\frac{d}{d n_{22}} \\sigma{\\left(n_{22} \\right)}\\\\\\frac{d}{d n_{31}} \\sigma{\\left(n_{31} \\right)} & \\frac{d}{d n_{32}} \\sigma{\\left(n_{32} \\right)}\\end{matrix}\\right]$"
      ],
      "text/plain": [
       "Matrix([\n",
       "[Derivative(sigma(n_11), n_11), Derivative(sigma(n_12), n_12)],\n",
       "[Derivative(sigma(n_21), n_21), Derivative(sigma(n_22), n_22)],\n",
       "[Derivative(sigma(n_31), n_31), Derivative(sigma(n_32), n_32)]])"
      ]
     },
     "execution_count": 1,
     "metadata": {},
     "output_type": "execute_result"
    }
   ],
   "source": [
    "Lsum.diff(Nelem)"
   ]
  },
  {
   "cell_type": "code",
   "execution_count": 106,
   "metadata": {
    "execution": {
     "iopub.execute_input": "2020-09-21T07:06:52.226996Z",
     "iopub.status.busy": "2020-09-21T07:06:52.225482Z",
     "iopub.status.idle": "2020-09-21T07:06:52.271475Z",
     "shell.execute_reply": "2020-09-21T07:06:52.272518Z"
    },
    "lines_to_next_cell": 0,
    "title": "codecell"
   },
   "outputs": [
    {
     "data": {
      "text/latex": [
       "$\\displaystyle \\sigma{\\left(w_{11} x_{11} + w_{21} x_{12} + w_{31} x_{13} \\right)} + \\sigma{\\left(w_{11} x_{21} + w_{21} x_{22} + w_{31} x_{23} \\right)} + \\sigma{\\left(w_{11} x_{31} + w_{21} x_{32} + w_{31} x_{33} \\right)} + \\sigma{\\left(w_{12} x_{11} + w_{22} x_{12} + w_{32} x_{13} \\right)} + \\sigma{\\left(w_{12} x_{21} + w_{22} x_{22} + w_{32} x_{23} \\right)} + \\sigma{\\left(w_{12} x_{31} + w_{22} x_{32} + w_{32} x_{33} \\right)}$"
      ],
      "text/plain": [
       "sigma(w_11*x_11 + w_21*x_12 + w_31*x_13) + sigma(w_11*x_21 + w_21*x_22 + w_31*x_23) + sigma(w_11*x_31 + w_21*x_32 + w_31*x_33) + sigma(w_12*x_11 + w_22*x_12 + w_32*x_13) + sigma(w_12*x_21 + w_22*x_22 + w_32*x_23) + sigma(w_12*x_31 + w_22*x_32 + w_32*x_33)"
      ]
     },
     "execution_count": 1,
     "metadata": {},
     "output_type": "execute_result"
    }
   ],
   "source": [
    "Lsum.subs(elemToSpec)#.diff(X[2,1])"
   ]
  },
  {
   "cell_type": "code",
   "execution_count": 107,
   "metadata": {
    "execution": {
     "iopub.execute_input": "2020-09-21T07:06:52.277487Z",
     "iopub.status.busy": "2020-09-21T07:06:52.275942Z",
     "iopub.status.idle": "2020-09-21T07:06:52.534337Z",
     "shell.execute_reply": "2020-09-21T07:06:52.535406Z"
    },
    "lines_to_next_cell": 0,
    "title": "codecell"
   },
   "outputs": [
    {
     "data": {
      "text/latex": [
       "$\\displaystyle \\left[\\begin{matrix}w_{11} \\left. \\frac{d}{d \\xi_{1}} \\sigma{\\left(\\xi_{1} \\right)} \\right|_{\\substack{ \\xi_{1}=w_{11} x_{11} + w_{21} x_{12} + w_{31} x_{13} }} + w_{12} \\left. \\frac{d}{d \\xi_{1}} \\sigma{\\left(\\xi_{1} \\right)} \\right|_{\\substack{ \\xi_{1}=w_{12} x_{11} + w_{22} x_{12} + w_{32} x_{13} }} & w_{21} \\left. \\frac{d}{d \\xi_{1}} \\sigma{\\left(\\xi_{1} \\right)} \\right|_{\\substack{ \\xi_{1}=w_{11} x_{11} + w_{21} x_{12} + w_{31} x_{13} }} + w_{22} \\left. \\frac{d}{d \\xi_{1}} \\sigma{\\left(\\xi_{1} \\right)} \\right|_{\\substack{ \\xi_{1}=w_{12} x_{11} + w_{22} x_{12} + w_{32} x_{13} }} & w_{31} \\left. \\frac{d}{d \\xi_{1}} \\sigma{\\left(\\xi_{1} \\right)} \\right|_{\\substack{ \\xi_{1}=w_{11} x_{11} + w_{21} x_{12} + w_{31} x_{13} }} + w_{32} \\left. \\frac{d}{d \\xi_{1}} \\sigma{\\left(\\xi_{1} \\right)} \\right|_{\\substack{ \\xi_{1}=w_{12} x_{11} + w_{22} x_{12} + w_{32} x_{13} }}\\\\w_{11} \\left. \\frac{d}{d \\xi_{1}} \\sigma{\\left(\\xi_{1} \\right)} \\right|_{\\substack{ \\xi_{1}=w_{11} x_{21} + w_{21} x_{22} + w_{31} x_{23} }} + w_{12} \\left. \\frac{d}{d \\xi_{1}} \\sigma{\\left(\\xi_{1} \\right)} \\right|_{\\substack{ \\xi_{1}=w_{12} x_{21} + w_{22} x_{22} + w_{32} x_{23} }} & w_{21} \\left. \\frac{d}{d \\xi_{1}} \\sigma{\\left(\\xi_{1} \\right)} \\right|_{\\substack{ \\xi_{1}=w_{11} x_{21} + w_{21} x_{22} + w_{31} x_{23} }} + w_{22} \\left. \\frac{d}{d \\xi_{1}} \\sigma{\\left(\\xi_{1} \\right)} \\right|_{\\substack{ \\xi_{1}=w_{12} x_{21} + w_{22} x_{22} + w_{32} x_{23} }} & w_{31} \\left. \\frac{d}{d \\xi_{1}} \\sigma{\\left(\\xi_{1} \\right)} \\right|_{\\substack{ \\xi_{1}=w_{11} x_{21} + w_{21} x_{22} + w_{31} x_{23} }} + w_{32} \\left. \\frac{d}{d \\xi_{1}} \\sigma{\\left(\\xi_{1} \\right)} \\right|_{\\substack{ \\xi_{1}=w_{12} x_{21} + w_{22} x_{22} + w_{32} x_{23} }}\\\\w_{11} \\left. \\frac{d}{d \\xi_{1}} \\sigma{\\left(\\xi_{1} \\right)} \\right|_{\\substack{ \\xi_{1}=w_{11} x_{31} + w_{21} x_{32} + w_{31} x_{33} }} + w_{12} \\left. \\frac{d}{d \\xi_{1}} \\sigma{\\left(\\xi_{1} \\right)} \\right|_{\\substack{ \\xi_{1}=w_{12} x_{31} + w_{22} x_{32} + w_{32} x_{33} }} & w_{21} \\left. \\frac{d}{d \\xi_{1}} \\sigma{\\left(\\xi_{1} \\right)} \\right|_{\\substack{ \\xi_{1}=w_{11} x_{31} + w_{21} x_{32} + w_{31} x_{33} }} + w_{22} \\left. \\frac{d}{d \\xi_{1}} \\sigma{\\left(\\xi_{1} \\right)} \\right|_{\\substack{ \\xi_{1}=w_{12} x_{31} + w_{22} x_{32} + w_{32} x_{33} }} & w_{31} \\left. \\frac{d}{d \\xi_{1}} \\sigma{\\left(\\xi_{1} \\right)} \\right|_{\\substack{ \\xi_{1}=w_{11} x_{31} + w_{21} x_{32} + w_{31} x_{33} }} + w_{32} \\left. \\frac{d}{d \\xi_{1}} \\sigma{\\left(\\xi_{1} \\right)} \\right|_{\\substack{ \\xi_{1}=w_{12} x_{31} + w_{22} x_{32} + w_{32} x_{33} }}\\end{matrix}\\right]$"
      ],
      "text/plain": [
       "Matrix([\n",
       "[w_11*Subs(Derivative(sigma(_xi_1), _xi_1), _xi_1, w_11*x_11 + w_21*x_12 + w_31*x_13) + w_12*Subs(Derivative(sigma(_xi_1), _xi_1), _xi_1, w_12*x_11 + w_22*x_12 + w_32*x_13), w_21*Subs(Derivative(sigma(_xi_1), _xi_1), _xi_1, w_11*x_11 + w_21*x_12 + w_31*x_13) + w_22*Subs(Derivative(sigma(_xi_1), _xi_1), _xi_1, w_12*x_11 + w_22*x_12 + w_32*x_13), w_31*Subs(Derivative(sigma(_xi_1), _xi_1), _xi_1, w_11*x_11 + w_21*x_12 + w_31*x_13) + w_32*Subs(Derivative(sigma(_xi_1), _xi_1), _xi_1, w_12*x_11 + w_22*x_12 + w_32*x_13)],\n",
       "[w_11*Subs(Derivative(sigma(_xi_1), _xi_1), _xi_1, w_11*x_21 + w_21*x_22 + w_31*x_23) + w_12*Subs(Derivative(sigma(_xi_1), _xi_1), _xi_1, w_12*x_21 + w_22*x_22 + w_32*x_23), w_21*Subs(Derivative(sigma(_xi_1), _xi_1), _xi_1, w_11*x_21 + w_21*x_22 + w_31*x_23) + w_22*Subs(Derivative(sigma(_xi_1), _xi_1), _xi_1, w_12*x_21 + w_22*x_22 + w_32*x_23), w_31*Subs(Derivative(sigma(_xi_1), _xi_1), _xi_1, w_11*x_21 + w_21*x_22 + w_31*x_23) + w_32*Subs(Derivative(sigma(_xi_1), _xi_1), _xi_1, w_12*x_21 + w_22*x_22 + w_32*x_23)],\n",
       "[w_11*Subs(Derivative(sigma(_xi_1), _xi_1), _xi_1, w_11*x_31 + w_21*x_32 + w_31*x_33) + w_12*Subs(Derivative(sigma(_xi_1), _xi_1), _xi_1, w_12*x_31 + w_22*x_32 + w_32*x_33), w_21*Subs(Derivative(sigma(_xi_1), _xi_1), _xi_1, w_11*x_31 + w_21*x_32 + w_31*x_33) + w_22*Subs(Derivative(sigma(_xi_1), _xi_1), _xi_1, w_12*x_31 + w_22*x_32 + w_32*x_33), w_31*Subs(Derivative(sigma(_xi_1), _xi_1), _xi_1, w_11*x_31 + w_21*x_32 + w_31*x_33) + w_32*Subs(Derivative(sigma(_xi_1), _xi_1), _xi_1, w_12*x_31 + w_22*x_32 + w_32*x_33)]])"
      ]
     },
     "execution_count": 1,
     "metadata": {},
     "output_type": "execute_result"
    }
   ],
   "source": [
    "Lsum.subs(elemToSpec).diff(X)"
   ]
  },
  {
   "cell_type": "code",
   "execution_count": 108,
   "metadata": {
    "execution": {
     "iopub.execute_input": "2020-09-21T07:06:52.540229Z",
     "iopub.status.busy": "2020-09-21T07:06:52.538791Z",
     "iopub.status.idle": "2020-09-21T07:06:52.909776Z",
     "shell.execute_reply": "2020-09-21T07:06:52.910851Z"
    },
    "title": "codecell"
   },
   "outputs": [
    {
     "data": {
      "text/latex": [
       "$\\displaystyle \\left[\\begin{matrix}w_{11} \\left. \\frac{d}{d \\xi_{1}} \\sigma{\\left(\\xi_{1} \\right)} \\right|_{\\substack{ \\xi_{1}=n_{11} }} + w_{12} \\left. \\frac{d}{d \\xi_{1}} \\sigma{\\left(\\xi_{1} \\right)} \\right|_{\\substack{ \\xi_{1}=n_{12} }} & w_{21} \\left. \\frac{d}{d \\xi_{1}} \\sigma{\\left(\\xi_{1} \\right)} \\right|_{\\substack{ \\xi_{1}=n_{11} }} + w_{22} \\left. \\frac{d}{d \\xi_{1}} \\sigma{\\left(\\xi_{1} \\right)} \\right|_{\\substack{ \\xi_{1}=n_{12} }} & w_{31} \\left. \\frac{d}{d \\xi_{1}} \\sigma{\\left(\\xi_{1} \\right)} \\right|_{\\substack{ \\xi_{1}=n_{11} }} + w_{32} \\left. \\frac{d}{d \\xi_{1}} \\sigma{\\left(\\xi_{1} \\right)} \\right|_{\\substack{ \\xi_{1}=n_{12} }}\\\\w_{11} \\left. \\frac{d}{d \\xi_{1}} \\sigma{\\left(\\xi_{1} \\right)} \\right|_{\\substack{ \\xi_{1}=n_{21} }} + w_{12} \\left. \\frac{d}{d \\xi_{1}} \\sigma{\\left(\\xi_{1} \\right)} \\right|_{\\substack{ \\xi_{1}=n_{22} }} & w_{21} \\left. \\frac{d}{d \\xi_{1}} \\sigma{\\left(\\xi_{1} \\right)} \\right|_{\\substack{ \\xi_{1}=n_{21} }} + w_{22} \\left. \\frac{d}{d \\xi_{1}} \\sigma{\\left(\\xi_{1} \\right)} \\right|_{\\substack{ \\xi_{1}=n_{22} }} & w_{31} \\left. \\frac{d}{d \\xi_{1}} \\sigma{\\left(\\xi_{1} \\right)} \\right|_{\\substack{ \\xi_{1}=n_{21} }} + w_{32} \\left. \\frac{d}{d \\xi_{1}} \\sigma{\\left(\\xi_{1} \\right)} \\right|_{\\substack{ \\xi_{1}=n_{22} }}\\\\w_{11} \\left. \\frac{d}{d \\xi_{1}} \\sigma{\\left(\\xi_{1} \\right)} \\right|_{\\substack{ \\xi_{1}=n_{31} }} + w_{12} \\left. \\frac{d}{d \\xi_{1}} \\sigma{\\left(\\xi_{1} \\right)} \\right|_{\\substack{ \\xi_{1}=n_{32} }} & w_{21} \\left. \\frac{d}{d \\xi_{1}} \\sigma{\\left(\\xi_{1} \\right)} \\right|_{\\substack{ \\xi_{1}=n_{31} }} + w_{22} \\left. \\frac{d}{d \\xi_{1}} \\sigma{\\left(\\xi_{1} \\right)} \\right|_{\\substack{ \\xi_{1}=n_{32} }} & w_{31} \\left. \\frac{d}{d \\xi_{1}} \\sigma{\\left(\\xi_{1} \\right)} \\right|_{\\substack{ \\xi_{1}=n_{31} }} + w_{32} \\left. \\frac{d}{d \\xi_{1}} \\sigma{\\left(\\xi_{1} \\right)} \\right|_{\\substack{ \\xi_{1}=n_{32} }}\\end{matrix}\\right]$"
      ],
      "text/plain": [
       "Matrix([\n",
       "[w_11*Subs(Derivative(sigma(_xi_1), _xi_1), _xi_1, n_11) + w_12*Subs(Derivative(sigma(_xi_1), _xi_1), _xi_1, n_12), w_21*Subs(Derivative(sigma(_xi_1), _xi_1), _xi_1, n_11) + w_22*Subs(Derivative(sigma(_xi_1), _xi_1), _xi_1, n_12), w_31*Subs(Derivative(sigma(_xi_1), _xi_1), _xi_1, n_11) + w_32*Subs(Derivative(sigma(_xi_1), _xi_1), _xi_1, n_12)],\n",
       "[w_11*Subs(Derivative(sigma(_xi_1), _xi_1), _xi_1, n_21) + w_12*Subs(Derivative(sigma(_xi_1), _xi_1), _xi_1, n_22), w_21*Subs(Derivative(sigma(_xi_1), _xi_1), _xi_1, n_21) + w_22*Subs(Derivative(sigma(_xi_1), _xi_1), _xi_1, n_22), w_31*Subs(Derivative(sigma(_xi_1), _xi_1), _xi_1, n_21) + w_32*Subs(Derivative(sigma(_xi_1), _xi_1), _xi_1, n_22)],\n",
       "[w_11*Subs(Derivative(sigma(_xi_1), _xi_1), _xi_1, n_31) + w_12*Subs(Derivative(sigma(_xi_1), _xi_1), _xi_1, n_32), w_21*Subs(Derivative(sigma(_xi_1), _xi_1), _xi_1, n_31) + w_22*Subs(Derivative(sigma(_xi_1), _xi_1), _xi_1, n_32), w_31*Subs(Derivative(sigma(_xi_1), _xi_1), _xi_1, n_31) + w_32*Subs(Derivative(sigma(_xi_1), _xi_1), _xi_1, n_32)]])"
      ]
     },
     "execution_count": 1,
     "metadata": {},
     "output_type": "execute_result"
    }
   ],
   "source": [
    "\n",
    "specToElemD = {v : k for k, v in elemToSpecD.items()}\n",
    "\n",
    "Lsum.subs(elemToSpecD).diff(X).subs(specToElemD)"
   ]
  }
 ],
 "metadata": {
  "jupytext": {
   "cell_metadata_filter": "title,-all"
  },
  "kernelspec": {
   "display_name": "pymatrix_env",
   "language": "python",
   "name": "pymatrix_env"
  },
  "language_info": {
   "codemirror_mode": {
    "name": "ipython",
    "version": 3
   },
   "file_extension": ".py",
   "mimetype": "text/x-python",
   "name": "python",
   "nbconvert_exporter": "python",
   "pygments_lexer": "ipython3",
   "version": "3.7.8"
  }
 },
 "nbformat": 4,
 "nbformat_minor": 4
}
