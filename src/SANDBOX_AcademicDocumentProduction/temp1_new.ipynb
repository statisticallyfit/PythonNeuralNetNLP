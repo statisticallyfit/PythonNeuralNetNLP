{
 "cells": [
  {
   "cell_type": "markdown",
   "execution_count": 1,
   "metadata": {
    "lines_to_next_cell": 2,
    "title": "markdown"
   },
   "source": [
    "#### Question 1a.\n",
    "\n",
    "$$\n",
    "\\mathbf{S} = \\left[\\begin{array}\n",
    "{rr}\n",
    "10.9 & -12.7 \\\\\n",
    "-12.7 & 26.7\n",
    "\\end{array}\\right]\n",
    "$$\n",
    "\n",
    "$$\n",
    "\\begin{array}{ll}\n",
    "r_t = \\text{sigmoid}(W_{ir} x_t + b_{ir} + W_{hr} h_{t-1} + b_{hr}) \\\\\n",
    "z_t = \\text{sigmoid}(W_{iz} x_t + b_{iz} + W_{hz} h_{t-1} + b_{hz}) \\\\\n",
    "n_t = \\text{tanh}(W_{in} x_t + b_{in} + r_t * (W_{hn} h_{t-1} + b_{hn})) \\\\\n",
    "h_t = (1 - z_t) * n_t + z_t + h_{t-1} \\\\\n",
    "\\end{array}\n",
    "$$\n"
   ]
  },
  {
   "cell_type": "code",
   "execution_count": 1,
   "metadata": {
    "execution": {
     "iopub.execute_input": "2020-09-30T07:21:46.066503Z",
     "iopub.status.busy": "2020-09-30T07:21:46.063176Z",
     "iopub.status.idle": "2020-09-30T07:21:46.072262Z",
     "shell.execute_reply": "2020-09-30T07:21:46.073043Z"
    },
    "lines_to_next_cell": 2,
    "title": "codecell"
   },
   "outputs": [
    {
     "name": "stdout",
     "output_type": "stream",
     "text": [
      "[1, 2, 3, 4]\n"
     ]
    }
   ],
   "source": [
    "mylist = [1,2,3,4]\n",
    "print(mylist)"
   ]
  },
  {
   "cell_type": "markdown",
   "execution_count": 2,
   "metadata": {
    "lines_to_next_cell": 0,
    "title": "markdown"
   },
   "source": [
    "This is a formula here:\n",
    "$$\n",
    "x^2 + y^3 + 4*zyx\n",
    "$$"
   ]
  },
  {
   "cell_type": "code",
   "execution_count": 2,
   "metadata": {
    "execution": {
     "iopub.execute_input": "2020-09-30T07:21:46.082408Z",
     "iopub.status.busy": "2020-09-30T07:21:46.081497Z",
     "iopub.status.idle": "2020-09-30T07:21:46.100884Z",
     "shell.execute_reply": "2020-09-30T07:21:46.102050Z"
    },
    "title": "codecell"
   },
   "outputs": [
    {
     "data": {
      "text/plain": [
       "[1, 2, 3, 4, 5]"
      ]
     },
     "execution_count": 1,
     "metadata": {},
     "output_type": "execute_result"
    }
   ],
   "source": [
    "mylist.append(5)\n",
    "mylist"
   ]
  },
  {
   "cell_type": "code",
   "execution_count": 3,
   "metadata": {
    "execution": {
     "iopub.execute_input": "2020-09-30T07:21:46.108333Z",
     "iopub.status.busy": "2020-09-30T07:21:46.105520Z",
     "iopub.status.idle": "2020-09-30T07:21:46.113912Z",
     "shell.execute_reply": "2020-09-30T07:21:46.114979Z"
    },
    "lines_to_next_cell": 0,
    "title": "codecell"
   },
   "outputs": [
    {
     "name": "stdout",
     "output_type": "stream",
     "text": [
      "hi my name is giraffe i like to pirouette during nutracker ballet\n"
     ]
    }
   ],
   "source": [
    "print(\"hi my name is giraffe i like to pirouette during nutracker ballet\")"
   ]
  },
  {
   "cell_type": "markdown",
   "execution_count": 4,
   "metadata": {
    "title": "markdown"
   },
   "source": [
    "$$\n",
    "\\sum_{n = 0}^{\\infty} \\frac {x^n} {n!}\n",
    "$$"
   ]
  }
 ],
 "metadata": {
  "jupytext": {
   "cell_metadata_filter": "title,-all"
  },
  "kernelspec": {
   "display_name": "pymatrix_env",
   "language": "python",
   "name": "pymatrix_env"
  },
  "language_info": {
   "codemirror_mode": {
    "name": "ipython",
    "version": 3
   },
   "file_extension": ".py",
   "mimetype": "text/x-python",
   "name": "python",
   "nbconvert_exporter": "python",
   "pygments_lexer": "ipython3",
   "version": "3.7.8"
  }
 },
 "nbformat": 4,
 "nbformat_minor": 4
}
