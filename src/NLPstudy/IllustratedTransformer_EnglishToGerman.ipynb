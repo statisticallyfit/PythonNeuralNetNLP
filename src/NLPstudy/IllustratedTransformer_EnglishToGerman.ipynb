{
 "cells": [
  {
   "cell_type": "code",
   "execution_count": 11,
   "metadata": {},
   "outputs": [],
   "source": [
    "# Imports we need.\n",
    "import tensorflow as tf\n",
    "import matplotlib.pyplot as plt\n",
    "import numpy as np\n",
    "import os\n",
    "import collections\n",
    "\n",
    "from tensor2tensor import models\n",
    "from tensor2tensor import problems\n",
    "from tensor2tensor.layers import common_layers\n",
    "from tensor2tensor.utils import trainer_lib\n",
    "from tensor2tensor.utils import t2t_model\n",
    "from tensor2tensor.utils import registry\n",
    "from tensor2tensor.utils import metrics"
   ]
  },
  {
   "cell_type": "markdown",
   "metadata": {},
   "source": [
    "import tensor2tensor as t2t"
   ]
  },
  {
   "cell_type": "code",
   "execution_count": 4,
   "metadata": {
    "lines_to_next_cell": 2.0
   },
   "outputs": [],
   "source": []
  },
  {
   "cell_type": "code",
   "execution_count": 5,
   "metadata": {},
   "outputs": [],
   "source": [
    "# Enable TF Eager execution\n",
    "tfe = tf.contrib.eager\n",
    "tfe.enable_eager_execution()"
   ]
  },
  {
   "cell_type": "code",
   "execution_count": 6,
   "metadata": {},
   "outputs": [],
   "source": [
    "# Other setup\n",
    "Modes = tf.estimator.ModeKeys"
   ]
  },
  {
   "cell_type": "code",
   "execution_count": 7,
   "metadata": {},
   "outputs": [],
   "source": [
    "# Setup some directories\n",
    "data_dir = os.path.expanduser(\"~/t2t/data\")\n",
    "tmp_dir = os.path.expanduser(\"~/t2t/tmp\")\n",
    "train_dir = os.path.expanduser(\"~/t2t/train\")\n",
    "checkpoint_dir = os.path.expanduser(\"~/t2t/checkpoints\")\n",
    "tf.gfile.MakeDirs(data_dir)\n",
    "tf.gfile.MakeDirs(tmp_dir)\n",
    "tf.gfile.MakeDirs(train_dir)\n",
    "tf.gfile.MakeDirs(checkpoint_dir)\n",
    "gs_data_dir = \"gs://tensor2tensor-data\"\n",
    "gs_ckpt_dir = \"gs://tensor2tensor-checkpoints/\""
   ]
  },
  {
   "cell_type": "code",
   "execution_count": 7,
   "metadata": {
    "lines_to_next_cell": 2.0
   },
   "outputs": [],
   "source": []
  },
  {
   "cell_type": "code",
   "execution_count": 8,
   "metadata": {},
   "outputs": [
    {
     "name": "stdout",
     "output_type": "stream",
     "text": [
      "algorithmic_addition_binary40\nalgorithmic_addition_decimal40\nalgorithmic_cipher_shift200\nalgorithmic_cipher_shift5\nalgorithmic_cipher_vigenere200\nalgorithmic_cipher_vigenere5\nalgorithmic_identity_binary40\nalgorithmic_identity_decimal40\nalgorithmic_identity_vocab95_train20_eval30\nalgorithmic_math_deepmind_all\nalgorithmic_math_two_variables\nalgorithmic_multiplication_binary40\nalgorithmic_multiplication_decimal40\nalgorithmic_reverse_binary40\nalgorithmic_reverse_binary40_test\nalgorithmic_reverse_decimal40\nalgorithmic_reverse_nlplike32k\nalgorithmic_reverse_nlplike8k\nalgorithmic_shift_decimal40\nalgorithmic_sort_problem\naudio_timit_characters_tune\naudio_timit_tokens8k_test\naudio_timit_tokens8k_tune\nbabi_qa_concat_all_tasks_10k\nbabi_qa_concat_all_tasks_1k\nbabi_qa_concat_task10_10k\nbabi_qa_concat_task10_1k\nbabi_qa_concat_task11_10k\nbabi_qa_concat_task11_1k\nbabi_qa_concat_task12_10k\nbabi_qa_concat_task12_1k\nbabi_qa_concat_task13_10k\nbabi_qa_concat_task13_1k\nbabi_qa_concat_task14_10k\nbabi_qa_concat_task14_1k\nbabi_qa_concat_task15_10k\nbabi_qa_concat_task15_1k\nbabi_qa_concat_task16_10k\nbabi_qa_concat_task16_1k\nbabi_qa_concat_task17_10k\nbabi_qa_concat_task17_1k\nbabi_qa_concat_task18_10k\nbabi_qa_concat_task18_1k\nbabi_qa_concat_task19_10k\nbabi_qa_concat_task19_1k\nbabi_qa_concat_task1_10k\nbabi_qa_concat_task1_1k\nbabi_qa_concat_task20_10k\nbabi_qa_concat_task20_1k\nbabi_qa_concat_task2_10k\nbabi_qa_concat_task2_1k\nbabi_qa_concat_task3_10k\nbabi_qa_concat_task3_1k\nbabi_qa_concat_task4_10k\nbabi_qa_concat_task4_1k\nbabi_qa_concat_task5_10k\nbabi_qa_concat_task5_1k\nbabi_qa_concat_task6_10k\nbabi_qa_concat_task6_1k\nbabi_qa_concat_task7_10k\nbabi_qa_concat_task7_1k\nbabi_qa_concat_task8_10k\nbabi_qa_concat_task8_1k\nbabi_qa_concat_task9_10k\nbabi_qa_concat_task9_1k\ncola\ncola_characters\ncommon_voice\ncommon_voice_clean\ncommon_voice_noisy\ncommon_voice_train_full_test_clean\ncopy_sequence\ncopy_sequence_small\ndialog_cornell32k\ndialog_dailydialog16k\ndialog_opensubtitles64k2009\ndialog_opensubtitles64k2011\ndialog_opensubtitles64k2012\ndialog_opensubtitles64k2013\ndialog_opensubtitles64k2016\ndialog_opensubtitles64k2018\ndialog_personachat16k\nenwik8_l65k\nflip_bi_gram_sequence\ngenomics_expression_cage10\ngenomics_expression_gm12878\ngenomics_expression_l262k\ngithub_function_docstring\ngym_air_raid-v0_random\ngym_air_raid-v4_random\ngym_air_raid_deterministic-v0_random\ngym_air_raid_deterministic-v4_random\ngym_air_raid_no_frameskip-v0_random\ngym_air_raid_no_frameskip-v4_random\ngym_alien-v0_random\ngym_alien-v4_random\ngym_alien_deterministic-v0_random\ngym_alien_deterministic-v4_random\ngym_alien_no_frameskip-v0_random\ngym_alien_no_frameskip-v4_random\ngym_amidar-v0_random\ngym_amidar-v4_random\ngym_amidar_deterministic-v0_random\ngym_amidar_deterministic-v4_random\ngym_amidar_no_frameskip-v0_random\ngym_amidar_no_frameskip-v4_random\ngym_assault-v0_random\ngym_assault-v4_random\ngym_assault_deterministic-v0_random\ngym_assault_deterministic-v4_random\ngym_assault_no_frameskip-v0_random\ngym_assault_no_frameskip-v4_random\ngym_asterix-v0_random\ngym_asterix-v4_random\ngym_asterix_deterministic-v0_random\ngym_asterix_deterministic-v4_random\ngym_asterix_no_frameskip-v0_random\ngym_asterix_no_frameskip-v4_random\ngym_asteroids-v0_random\ngym_asteroids-v4_random\ngym_asteroids_deterministic-v0_random\ngym_asteroids_deterministic-v4_random\ngym_asteroids_no_frameskip-v0_random\ngym_asteroids_no_frameskip-v4_random\ngym_atlantis-v0_random\ngym_atlantis-v4_random\ngym_atlantis_deterministic-v0_random\ngym_atlantis_deterministic-v4_random\ngym_atlantis_no_frameskip-v0_random\ngym_atlantis_no_frameskip-v4_random\ngym_bank_heist-v0_random\ngym_bank_heist-v4_random\ngym_bank_heist_deterministic-v0_random\ngym_bank_heist_deterministic-v4_random\ngym_bank_heist_no_frameskip-v0_random\ngym_bank_heist_no_frameskip-v4_random\ngym_battle_zone-v0_random\ngym_battle_zone-v4_random\ngym_battle_zone_deterministic-v0_random\ngym_battle_zone_deterministic-v4_random\ngym_battle_zone_no_frameskip-v0_random\ngym_battle_zone_no_frameskip-v4_random\ngym_beam_rider-v0_random\ngym_beam_rider-v4_random\ngym_beam_rider_deterministic-v0_random\ngym_beam_rider_deterministic-v4_random\ngym_beam_rider_no_frameskip-v0_random\ngym_beam_rider_no_frameskip-v4_random\ngym_berzerk-v0_random\ngym_berzerk-v4_random\ngym_berzerk_deterministic-v0_random\ngym_berzerk_deterministic-v4_random\ngym_berzerk_no_frameskip-v0_random\ngym_berzerk_no_frameskip-v4_random\ngym_bowling-v0_random\ngym_bowling-v4_random\ngym_bowling_deterministic-v0_random\ngym_bowling_deterministic-v4_random\ngym_bowling_no_frameskip-v0_random\ngym_bowling_no_frameskip-v4_random\ngym_boxing-v0_random\ngym_boxing-v4_random\ngym_boxing_deterministic-v0_random\ngym_boxing_deterministic-v4_random\ngym_boxing_no_frameskip-v0_random\ngym_boxing_no_frameskip-v4_random\ngym_breakout-v0_random\ngym_breakout-v4_random\ngym_breakout_deterministic-v0_random\ngym_breakout_deterministic-v4_random\ngym_breakout_no_frameskip-v0_random\ngym_breakout_no_frameskip-v4_random\ngym_carnival-v0_random\ngym_carnival-v4_random\ngym_carnival_deterministic-v0_random\ngym_carnival_deterministic-v4_random\ngym_carnival_no_frameskip-v0_random\ngym_carnival_no_frameskip-v4_random\ngym_centipede-v0_random\ngym_centipede-v4_random\ngym_centipede_deterministic-v0_random\ngym_centipede_deterministic-v4_random\ngym_centipede_no_frameskip-v0_random\ngym_centipede_no_frameskip-v4_random\ngym_chopper_command-v0_random\ngym_chopper_command-v4_random\ngym_chopper_command_deterministic-v0_random\ngym_chopper_command_deterministic-v4_random\ngym_chopper_command_no_frameskip-v0_random\ngym_chopper_command_no_frameskip-v4_random\ngym_crazy_climber-v0_random\ngym_crazy_climber-v4_random\ngym_crazy_climber_deterministic-v0_random\ngym_crazy_climber_deterministic-v4_random\ngym_crazy_climber_no_frameskip-v0_random\ngym_crazy_climber_no_frameskip-v4_random\ngym_demon_attack-v0_random\ngym_demon_attack-v4_random\ngym_demon_attack_deterministic-v0_random\ngym_demon_attack_deterministic-v4_random\ngym_demon_attack_no_frameskip-v0_random\ngym_demon_attack_no_frameskip-v4_random\ngym_double_dunk-v0_random\ngym_double_dunk-v4_random\ngym_double_dunk_deterministic-v0_random\ngym_double_dunk_deterministic-v4_random\ngym_double_dunk_no_frameskip-v0_random\ngym_double_dunk_no_frameskip-v4_random\ngym_elevator_action-v0_random\ngym_elevator_action-v4_random\ngym_elevator_action_deterministic-v0_random\ngym_elevator_action_deterministic-v4_random\ngym_elevator_action_no_frameskip-v0_random\ngym_elevator_action_no_frameskip-v4_random\ngym_enduro-v0_random\ngym_enduro-v4_random\ngym_enduro_deterministic-v0_random\ngym_enduro_deterministic-v4_random\ngym_enduro_no_frameskip-v0_random\ngym_enduro_no_frameskip-v4_random\ngym_fishing_derby-v0_random\ngym_fishing_derby-v4_random\ngym_fishing_derby_deterministic-v0_random\ngym_fishing_derby_deterministic-v4_random\ngym_fishing_derby_no_frameskip-v0_random\ngym_fishing_derby_no_frameskip-v4_random\ngym_freeway-v0_random\ngym_freeway-v4_random\ngym_freeway_deterministic-v0_random\ngym_freeway_deterministic-v4_random\ngym_freeway_no_frameskip-v0_random\ngym_freeway_no_frameskip-v4_random\ngym_frostbite-v0_random\ngym_frostbite-v4_random\ngym_frostbite_deterministic-v0_random\ngym_frostbite_deterministic-v4_random\ngym_frostbite_no_frameskip-v0_random\ngym_frostbite_no_frameskip-v4_random\ngym_gopher-v0_random\ngym_gopher-v4_random\ngym_gopher_deterministic-v0_random\ngym_gopher_deterministic-v4_random\ngym_gopher_no_frameskip-v0_random\ngym_gopher_no_frameskip-v4_random\ngym_gravitar-v0_random\ngym_gravitar-v4_random\ngym_gravitar_deterministic-v0_random\ngym_gravitar_deterministic-v4_random\ngym_gravitar_no_frameskip-v0_random\ngym_gravitar_no_frameskip-v4_random\ngym_hero-v0_random\ngym_hero-v4_random\ngym_hero_deterministic-v0_random\ngym_hero_deterministic-v4_random\ngym_hero_no_frameskip-v0_random\ngym_hero_no_frameskip-v4_random\ngym_ice_hockey-v0_random\ngym_ice_hockey-v4_random\ngym_ice_hockey_deterministic-v0_random\ngym_ice_hockey_deterministic-v4_random\ngym_ice_hockey_no_frameskip-v0_random\ngym_ice_hockey_no_frameskip-v4_random\ngym_jamesbond-v0_random\ngym_jamesbond-v4_random\ngym_jamesbond_deterministic-v0_random\ngym_jamesbond_deterministic-v4_random\ngym_jamesbond_no_frameskip-v0_random\ngym_jamesbond_no_frameskip-v4_random\ngym_journey_escape-v0_random\ngym_journey_escape-v4_random\ngym_journey_escape_deterministic-v0_random\ngym_journey_escape_deterministic-v4_random\ngym_journey_escape_no_frameskip-v0_random\ngym_journey_escape_no_frameskip-v4_random\ngym_kangaroo-v0_random\ngym_kangaroo-v4_random\ngym_kangaroo_deterministic-v0_random\ngym_kangaroo_deterministic-v4_random\ngym_kangaroo_no_frameskip-v0_random\ngym_kangaroo_no_frameskip-v4_random\ngym_krull-v0_random\ngym_krull-v4_random\ngym_krull_deterministic-v0_random\ngym_krull_deterministic-v4_random\ngym_krull_no_frameskip-v0_random\ngym_krull_no_frameskip-v4_random\ngym_kung_fu_master-v0_random\ngym_kung_fu_master-v4_random\ngym_kung_fu_master_deterministic-v0_random\ngym_kung_fu_master_deterministic-v4_random\ngym_kung_fu_master_no_frameskip-v0_random\ngym_kung_fu_master_no_frameskip-v4_random\ngym_montezuma_revenge-v0_random\ngym_montezuma_revenge-v4_random\ngym_montezuma_revenge_deterministic-v0_random\ngym_montezuma_revenge_deterministic-v4_random\ngym_montezuma_revenge_no_frameskip-v0_random\ngym_montezuma_revenge_no_frameskip-v4_random\ngym_ms_pacman-v0_random\ngym_ms_pacman-v4_random\ngym_ms_pacman_deterministic-v0_random\ngym_ms_pacman_deterministic-v4_random\ngym_ms_pacman_no_frameskip-v0_random\ngym_ms_pacman_no_frameskip-v4_random\ngym_name_this_game-v0_random\ngym_name_this_game-v4_random\ngym_name_this_game_deterministic-v0_random\ngym_name_this_game_deterministic-v4_random\ngym_name_this_game_no_frameskip-v0_random\ngym_name_this_game_no_frameskip-v4_random\ngym_phoenix-v0_random\ngym_phoenix-v4_random\ngym_phoenix_deterministic-v0_random\ngym_phoenix_deterministic-v4_random\ngym_phoenix_no_frameskip-v0_random\ngym_phoenix_no_frameskip-v4_random\ngym_pitfall-v0_random\ngym_pitfall-v4_random\ngym_pitfall_deterministic-v0_random\ngym_pitfall_deterministic-v4_random\ngym_pitfall_no_frameskip-v0_random\ngym_pitfall_no_frameskip-v4_random\ngym_pong-v0_random\ngym_pong-v4_random\ngym_pong_deterministic-v0_random\ngym_pong_deterministic-v4_random\ngym_pong_no_frameskip-v0_random\ngym_pong_no_frameskip-v4_random\ngym_pooyan-v0_random\ngym_pooyan-v4_random\ngym_pooyan_deterministic-v0_random\ngym_pooyan_deterministic-v4_random\ngym_pooyan_no_frameskip-v0_random\ngym_pooyan_no_frameskip-v4_random\ngym_private_eye-v0_random\ngym_private_eye-v4_random\ngym_private_eye_deterministic-v0_random\ngym_private_eye_deterministic-v4_random\ngym_private_eye_no_frameskip-v0_random\ngym_private_eye_no_frameskip-v4_random\ngym_qbert-v0_random\ngym_qbert-v4_random\ngym_qbert_deterministic-v0_random\ngym_qbert_deterministic-v4_random\ngym_qbert_no_frameskip-v0_random\ngym_qbert_no_frameskip-v4_random\ngym_riverraid-v0_random\ngym_riverraid-v4_random\ngym_riverraid_deterministic-v0_random\ngym_riverraid_deterministic-v4_random\ngym_riverraid_no_frameskip-v0_random\ngym_riverraid_no_frameskip-v4_random\ngym_road_runner-v0_random\ngym_road_runner-v4_random\ngym_road_runner_deterministic-v0_random\ngym_road_runner_deterministic-v4_random\ngym_road_runner_no_frameskip-v0_random\ngym_road_runner_no_frameskip-v4_random\ngym_robotank-v0_random\ngym_robotank-v4_random\ngym_robotank_deterministic-v0_random\ngym_robotank_deterministic-v4_random\ngym_robotank_no_frameskip-v0_random\ngym_robotank_no_frameskip-v4_random\ngym_seaquest-v0_random\ngym_seaquest-v4_random\ngym_seaquest_deterministic-v0_random\ngym_seaquest_deterministic-v4_random\ngym_seaquest_no_frameskip-v0_random\ngym_seaquest_no_frameskip-v4_random\ngym_skiing-v0_random\ngym_skiing-v4_random\ngym_skiing_deterministic-v0_random\ngym_skiing_deterministic-v4_random\ngym_skiing_no_frameskip-v0_random\ngym_skiing_no_frameskip-v4_random\ngym_solaris-v0_random\ngym_solaris-v4_random\ngym_solaris_deterministic-v0_random\ngym_solaris_deterministic-v4_random\ngym_solaris_no_frameskip-v0_random\ngym_solaris_no_frameskip-v4_random\ngym_space_invaders-v0_random\ngym_space_invaders-v4_random\ngym_space_invaders_deterministic-v0_random\ngym_space_invaders_deterministic-v4_random\ngym_space_invaders_no_frameskip-v0_random\ngym_space_invaders_no_frameskip-v4_random\ngym_star_gunner-v0_random\ngym_star_gunner-v4_random\ngym_star_gunner_deterministic-v0_random\ngym_star_gunner_deterministic-v4_random\ngym_star_gunner_no_frameskip-v0_random\ngym_star_gunner_no_frameskip-v4_random\ngym_tennis-v0_random\ngym_tennis-v4_random\ngym_tennis_deterministic-v0_random\ngym_tennis_deterministic-v4_random\ngym_tennis_no_frameskip-v0_random\ngym_tennis_no_frameskip-v4_random\ngym_time_pilot-v0_random\ngym_time_pilot-v4_random\ngym_time_pilot_deterministic-v0_random\ngym_time_pilot_deterministic-v4_random\ngym_time_pilot_no_frameskip-v0_random\ngym_time_pilot_no_frameskip-v4_random\ngym_tutankham-v0_random\ngym_tutankham-v4_random\ngym_tutankham_deterministic-v0_random\ngym_tutankham_deterministic-v4_random\ngym_tutankham_no_frameskip-v0_random\ngym_tutankham_no_frameskip-v4_random\ngym_up_n_down-v0_random\ngym_up_n_down-v4_random\ngym_up_n_down_deterministic-v0_random\ngym_up_n_down_deterministic-v4_random\ngym_up_n_down_no_frameskip-v0_random\ngym_up_n_down_no_frameskip-v4_random\ngym_venture-v0_random\ngym_venture-v4_random\ngym_venture_deterministic-v0_random\ngym_venture_deterministic-v4_random\ngym_venture_no_frameskip-v0_random\ngym_venture_no_frameskip-v4_random\ngym_video_pinball-v0_random\ngym_video_pinball-v4_random\ngym_video_pinball_deterministic-v0_random\ngym_video_pinball_deterministic-v4_random\ngym_video_pinball_no_frameskip-v0_random\ngym_video_pinball_no_frameskip-v4_random\ngym_wizard_of_wor-v0_random\ngym_wizard_of_wor-v4_random\ngym_wizard_of_wor_deterministic-v0_random\ngym_wizard_of_wor_deterministic-v4_random\ngym_wizard_of_wor_no_frameskip-v0_random\ngym_wizard_of_wor_no_frameskip-v4_random\ngym_yars_revenge-v0_random\ngym_yars_revenge-v4_random\ngym_yars_revenge_deterministic-v0_random\ngym_yars_revenge_deterministic-v4_random\ngym_yars_revenge_no_frameskip-v0_random\ngym_yars_revenge_no_frameskip-v4_random\ngym_zaxxon-v0_random\ngym_zaxxon-v4_random\ngym_zaxxon_deterministic-v0_random\ngym_zaxxon_deterministic-v4_random\ngym_zaxxon_no_frameskip-v0_random\ngym_zaxxon_no_frameskip-v4_random\nimage_celeba\nimage_celeba32\nimage_celeba64\nimage_celeba_multi_resolution\nimage_celebahq128\nimage_celebahq128_dmol\nimage_celebahq256\nimage_celebahq256_dmol\nimage_cifar10\nimage_cifar100\nimage_cifar100_plain\nimage_cifar100_plain8\nimage_cifar100_plain_gen\nimage_cifar100_tune\nimage_cifar10_plain\nimage_cifar10_plain8\nimage_cifar10_plain_gen\nimage_cifar10_plain_gen_dmol\nimage_cifar10_plain_gen_flat\nimage_cifar10_plain_random_shift\nimage_cifar10_tune\nimage_cifar20\nimage_cifar20_plain\nimage_cifar20_plain8\nimage_cifar20_plain_gen\nimage_cifar20_tune\nimage_fashion_mnist\nimage_fsns\nimage_imagenet\nimage_imagenet224\nimage_imagenet224_no_normalization\nimage_imagenet256\nimage_imagenet32\nimage_imagenet32_gen\nimage_imagenet32_small\nimage_imagenet64\nimage_imagenet64_gen\nimage_imagenet64_gen_flat\nimage_imagenet_multi_resolution_gen\nimage_lsun_bedrooms\nimage_mnist\nimage_mnist_tune\nimage_ms_coco_characters\nimage_ms_coco_tokens32k\nimage_text_ms_coco\nimage_text_ms_coco_multi_resolution\nimage_vqav2_rcnn_feature_tokens10k_labels3k\nimage_vqav2_tokens10k_labels3k\nimg2img_allen_brain\nimg2img_allen_brain_dim16to16_paint1\nimg2img_allen_brain_dim48to64\nimg2img_allen_brain_dim8to32\nimg2img_celeba\nimg2img_celeba64\nimg2img_cifar10\nimg2img_cifar100\nimg2img_imagenet\nlambada_lm\nlambada_lm_control\nlambada_rc\nlambada_rc_control\nlanguagemodel_de_en_fr_ro_wiki64k\nlanguagemodel_de_en_fr_ro_wiki64k_fitb_packed1k\nlanguagemodel_de_wiki32k\nlanguagemodel_de_wiki64k\nlanguagemodel_en_wiki32k\nlanguagemodel_en_wiki64k\nlanguagemodel_en_wiki64k_shorter\nlanguagemodel_en_wiki_lm_multi_nli_subwords\nlanguagemodel_en_wiki_lm_multi_nli_subwords64k\nlanguagemodel_en_wiki_lm_multi_nli_subwords_v2\nlanguagemodel_en_wiki_lm_short_multi_nli_subwords64k\nlanguagemodel_en_wiki_lm_squad_concat_subwords\nlanguagemodel_en_wiki_lm_summarize_cnndm_subwords\nlanguagemodel_en_wiki_lm_summarize_cnndm_subwords64k\nlanguagemodel_en_wiki_lm_summarize_frac10_cnndm_subwords64k\nlanguagemodel_en_wiki_lm_summarize_frac1_cnndm_subwords64k\nlanguagemodel_en_wiki_lm_summarize_frac20_cnndm_subwords64k\nlanguagemodel_en_wiki_lm_summarize_frac2_cnndm_subwords64k\nlanguagemodel_en_wiki_lm_summarize_frac50_cnndm_subwords64k\nlanguagemodel_en_wiki_lm_summarize_frac5_cnndm_subwords64k\nlanguagemodel_fr_wiki32k\nlanguagemodel_fr_wiki64k\nlanguagemodel_lm1b32k\nlanguagemodel_lm1b32k_packed\nlanguagemodel_lm1b8k\nlanguagemodel_lm1b8k_packed\nlanguagemodel_lm1b_characters\nlanguagemodel_lm1b_characters_packed\nlanguagemodel_lm1b_multi_nli\nlanguagemodel_lm1b_multi_nli_subwords\nlanguagemodel_lm1b_sentiment_imdb\nlanguagemodel_multi_wiki_translate\nlanguagemodel_multi_wiki_translate_fr\nlanguagemodel_multi_wiki_translate_packed1k\nlanguagemodel_multi_wiki_translate_packed1k_v2\nlanguagemodel_ptb10k\nlanguagemodel_ptb_characters\nlanguagemodel_ro_wiki32k\nlanguagemodel_ro_wiki64k\nlanguagemodel_wiki_noref_v128k_l1k\nlanguagemodel_wiki_noref_v32k_l16k\nlanguagemodel_wiki_noref_v32k_l1k\nlanguagemodel_wiki_noref_v8k_l16k\nlanguagemodel_wiki_noref_v8k_l1k\nlanguagemodel_wiki_scramble_l128\nlanguagemodel_wiki_scramble_l1k\nlanguagemodel_wiki_xml_v8k_l1k\nlanguagemodel_wiki_xml_v8k_l4k\nlanguagemodel_wikitext103\nlanguagemodel_wikitext103_characters\nlanguagemodel_wikitext103_l16k\nlanguagemodel_wikitext103_l4k\nlibrispeech\nlibrispeech_clean\nlibrispeech_clean_small\nlibrispeech_noisy\nlibrispeech_train_full_test_clean\nlibrispeech_train_full_test_other\nmsr_paraphrase_corpus\nmsr_paraphrase_corpus_characters\nmulti_nli\nmulti_nli_characters\nmulti_nli_shared_vocab\nmulti_nli_text2text\nmulti_nli_text2text_multi64k_packed1k\nmulti_nli_wiki_lm_multi_vocab64k\nmulti_nli_wiki_lm_shared_vocab\nmulti_nli_wiki_lm_shared_vocab64k\nocr_test\nparaphrase_generation_ms_coco_problem1d\nparaphrase_generation_ms_coco_problem1d_characters\nparaphrase_generation_ms_coco_problem2d\nparaphrase_generation_ms_coco_problem2d_characters\nparsing_english_ptb16k\nparsing_english_ptb8k\nparsing_icelandic16k\nprogram_search_algolisp\nprogramming_desc2code_cpp\nprogramming_desc2code_py\nquestion_nli\nquestion_nli_characters\nquora_question_pairs\nquora_question_pairs_characters\nreverse_sequence\nreverse_sequence_small\nrte\nrte_characters\nsci_tail\nsci_tail_characters\nsci_tail_shared_vocab\nsentiment_imdb\nsentiment_imdb_characters\nsentiment_sst_binary\nsentiment_sst_binary_characters\nsentiment_yelp_full\nsentiment_yelp_full_characters\nsentiment_yelp_polarity\nsentiment_yelp_polarity_characters\nsquad\nsquad_concat\nsquad_concat_multi64k\nsquad_concat_positioned\nsquad_concat_shared_vocab\nsquad_text2text\nsquad_text2text_multi64k_packed1k\nstanford_nli\nstanford_nli_characters\nstanford_nli_shared_vocab\nstanford_nli_wiki_lm_shared_vocab\nstanford_nli_wiki_lm_shared_vocab64k\nstyle_transfer_modern_to_shakespeare\nstyle_transfer_modern_to_shakespeare_characters\nstyle_transfer_shakespeare_to_modern\nstyle_transfer_shakespeare_to_modern_characters\nsummarize_cnn_dailymail32k\nsummarize_cnn_dailymail_multi64k_packed1k\nsummarize_cnn_dailymail_wiki_lm_multi_vocab64k\nsummarize_cnn_dailymail_wiki_lm_shared_vocab\nsummarize_cnn_dailymail_wiki_lm_shared_vocab64k\nsummarize_frac0p1_cnn_dailymail_wiki_lm_shared_vocab64k\nsummarize_frac10_cnn_dailymail_wiki_lm_shared_vocab64k\nsummarize_frac1_cnn_dailymail_wiki_lm_shared_vocab64k\nsummarize_frac20_cnn_dailymail_wiki_lm_shared_vocab64k\nsummarize_frac2_cnn_dailymail_wiki_lm_shared_vocab64k\nsummarize_frac50_cnn_dailymail_wiki_lm_shared_vocab64k\nsummarize_frac5_cnn_dailymail_wiki_lm_shared_vocab64k\nsummarize_frac_cnn_dailymail_wiki_lm_shared_vocab64k\nsva_language_modeling\nsva_number_prediction\ntext2text_copyable_tokens\ntext2text_tmpdir\ntext2text_tmpdir_tokens\ntimeseries_synthetic_data_series10_samples100k\ntimeseries_toy_problem\ntimeseries_toy_problem_no_inputs\ntiny_algo\ntranslate_encs_wmt32k\ntranslate_encs_wmt_characters\ntranslate_ende2018_wmt32k\ntranslate_ende_pc32k\ntranslate_ende_pc_clean32k\ntranslate_ende_wmt32k\ntranslate_ende_wmt32k_packed\ntranslate_ende_wmt8k\ntranslate_ende_wmt8k_packed\ntranslate_ende_wmt_characters\ntranslate_ende_wmt_clean32k\ntranslate_ende_wmt_clean_pc32k\ntranslate_ende_wmt_clean_pc_clean32k\ntranslate_ende_wmt_multi64k\ntranslate_ende_wmt_multi64k_packed1k\ntranslate_ende_wmt_pc32k\ntranslate_ende_wmt_pc_clean32k\ntranslate_enes_wmt32k\ntranslate_enes_wmt32k_packed\ntranslate_enes_wmt8k\ntranslate_enes_wmt8k_packed\ntranslate_enes_wmt_characters\ntranslate_enes_wmt_clean32k\ntranslate_enet_wmt32k\ntranslate_enet_wmt_characters\ntranslate_enfr_wmt32k\ntranslate_enfr_wmt32k_packed\ntranslate_enfr_wmt32k_with_backtranslate_en\ntranslate_enfr_wmt32k_with_backtranslate_fr\ntranslate_enfr_wmt8k\ntranslate_enfr_wmt_characters\ntranslate_enfr_wmt_multi64k\ntranslate_enfr_wmt_multi64k_packed1k\ntranslate_enfr_wmt_small32k\ntranslate_enfr_wmt_small8k\ntranslate_enfr_wmt_small_characters\ntranslate_enid_iwslt32k\ntranslate_enmk_setimes32k\ntranslate_enmk_setimes_characters\ntranslate_enro_wmt32k\ntranslate_enro_wmt8k\ntranslate_enro_wmt_characters\ntranslate_enro_wmt_multi64k\ntranslate_enro_wmt_multi_small64k\ntranslate_enro_wmt_multi_tiny64k\ntranslate_enro_wmt_multi_tiny64k_packed1k\ntranslate_envi_iwslt32k\ntranslate_enzh_wmt32k\ntranslate_enzh_wmt8k\nvideo_bair_robot_pushing\nvideo_bair_robot_pushing_with_actions\nvideo_google_robot_pushing\nvideo_moving_mnist\nvideo_stochastic_shapes10k\nwiki_revision\nwiki_revision_packed1k\nwiki_revision_packed256\nwikisum_commoncrawl\nwikisum_commoncrawl_lead_section\nwikisum_web\nwikisum_web_lead_section\nwinograd_nli\nwinograd_nli_characters\nwsj_parsing\n"
     ]
    }
   ],
   "source": [
    "# A Problem is a dataset together with some fixed pre-processing.\n",
    "# It could be a translation dataset with a specific tokenization,\n",
    "# or an image dataset with a specific resolution.\n",
    "#\n",
    "# There are many problems available in Tensor2Tensor\n",
    "print(\"\\n\".join(problems.available()))"
   ]
  },
  {
   "cell_type": "code",
   "execution_count": 8,
   "metadata": {},
   "outputs": [],
   "source": []
  },
  {
   "cell_type": "code",
   "execution_count": 9,
   "metadata": {},
   "outputs": [
    {
     "name": "stdout",
     "output_type": "stream",
     "text": [
      "WARNING:tensorflow:From /development/bin/python/conda3_ana/envs/pynlp_env/lib/python3.6/site-packages/tensor2tensor/data_generators/generator_utils.py:230: The name tf.gfile.MakeDirs is deprecated. Please use tf.io.gfile.makedirs instead.\n\n"
     ]
    },
    {
     "name": "stderr",
     "output_type": "stream",
     "text": [
      "WARNING:tensorflow:From /development/bin/python/conda3_ana/envs/pynlp_env/lib/python3.6/site-packages/tensor2tensor/data_generators/generator_utils.py:230: The name tf.gfile.MakeDirs is deprecated. Please use tf.io.gfile.makedirs instead.\n\n"
     ]
    },
    {
     "name": "stdout",
     "output_type": "stream",
     "text": [
      "WARNING:tensorflow:From /development/bin/python/conda3_ana/envs/pynlp_env/lib/python3.6/site-packages/tensor2tensor/data_generators/generator_utils.py:232: The name tf.gfile.Exists is deprecated. Please use tf.io.gfile.exists instead.\n\n"
     ]
    },
    {
     "name": "stderr",
     "output_type": "stream",
     "text": [
      "WARNING:tensorflow:From /development/bin/python/conda3_ana/envs/pynlp_env/lib/python3.6/site-packages/tensor2tensor/data_generators/generator_utils.py:232: The name tf.gfile.Exists is deprecated. Please use tf.io.gfile.exists instead.\n\n"
     ]
    },
    {
     "name": "stdout",
     "output_type": "stream",
     "text": [
      "WARNING:tensorflow:From /development/bin/python/conda3_ana/envs/pynlp_env/lib/python3.6/site-packages/tensor2tensor/data_generators/generator_utils.py:233: The name tf.logging.info is deprecated. Please use tf.compat.v1.logging.info instead.\n\n"
     ]
    },
    {
     "name": "stderr",
     "output_type": "stream",
     "text": [
      "WARNING:tensorflow:From /development/bin/python/conda3_ana/envs/pynlp_env/lib/python3.6/site-packages/tensor2tensor/data_generators/generator_utils.py:233: The name tf.logging.info is deprecated. Please use tf.compat.v1.logging.info instead.\n\n"
     ]
    },
    {
     "name": "stdout",
     "output_type": "stream",
     "text": [
      "INFO:tensorflow:Not downloading, file already found: /home/statisticallyfit/t2t/tmp/train-images-idx3-ubyte.gz\n"
     ]
    },
    {
     "name": "stderr",
     "output_type": "stream",
     "text": [
      "INFO:tensorflow:Not downloading, file already found: /home/statisticallyfit/t2t/tmp/train-images-idx3-ubyte.gz\n"
     ]
    },
    {
     "name": "stdout",
     "output_type": "stream",
     "text": [
      "INFO:tensorflow:Not downloading, file already found: /home/statisticallyfit/t2t/tmp/train-labels-idx1-ubyte.gz\n"
     ]
    },
    {
     "name": "stderr",
     "output_type": "stream",
     "text": [
      "INFO:tensorflow:Not downloading, file already found: /home/statisticallyfit/t2t/tmp/train-labels-idx1-ubyte.gz\n"
     ]
    },
    {
     "name": "stdout",
     "output_type": "stream",
     "text": [
      "INFO:tensorflow:Not downloading, file already found: /home/statisticallyfit/t2t/tmp/t10k-images-idx3-ubyte.gz\n"
     ]
    },
    {
     "name": "stderr",
     "output_type": "stream",
     "text": [
      "INFO:tensorflow:Not downloading, file already found: /home/statisticallyfit/t2t/tmp/t10k-images-idx3-ubyte.gz\n"
     ]
    },
    {
     "name": "stdout",
     "output_type": "stream",
     "text": [
      "INFO:tensorflow:Not downloading, file already found: /home/statisticallyfit/t2t/tmp/t10k-labels-idx1-ubyte.gz\n"
     ]
    },
    {
     "name": "stderr",
     "output_type": "stream",
     "text": [
      "INFO:tensorflow:Not downloading, file already found: /home/statisticallyfit/t2t/tmp/t10k-labels-idx1-ubyte.gz\n"
     ]
    },
    {
     "name": "stdout",
     "output_type": "stream",
     "text": [
      "INFO:tensorflow:Not downloading, file already found: /home/statisticallyfit/t2t/tmp/train-images-idx3-ubyte.gz\n"
     ]
    },
    {
     "name": "stderr",
     "output_type": "stream",
     "text": [
      "INFO:tensorflow:Not downloading, file already found: /home/statisticallyfit/t2t/tmp/train-images-idx3-ubyte.gz\n"
     ]
    },
    {
     "name": "stdout",
     "output_type": "stream",
     "text": [
      "INFO:tensorflow:Not downloading, file already found: /home/statisticallyfit/t2t/tmp/train-labels-idx1-ubyte.gz\n"
     ]
    },
    {
     "name": "stderr",
     "output_type": "stream",
     "text": [
      "INFO:tensorflow:Not downloading, file already found: /home/statisticallyfit/t2t/tmp/train-labels-idx1-ubyte.gz\n"
     ]
    },
    {
     "name": "stdout",
     "output_type": "stream",
     "text": [
      "INFO:tensorflow:Not downloading, file already found: /home/statisticallyfit/t2t/tmp/t10k-images-idx3-ubyte.gz\n"
     ]
    },
    {
     "name": "stderr",
     "output_type": "stream",
     "text": [
      "INFO:tensorflow:Not downloading, file already found: /home/statisticallyfit/t2t/tmp/t10k-images-idx3-ubyte.gz\n"
     ]
    },
    {
     "name": "stdout",
     "output_type": "stream",
     "text": [
      "INFO:tensorflow:Not downloading, file already found: /home/statisticallyfit/t2t/tmp/t10k-labels-idx1-ubyte.gz\n"
     ]
    },
    {
     "name": "stderr",
     "output_type": "stream",
     "text": [
      "INFO:tensorflow:Not downloading, file already found: /home/statisticallyfit/t2t/tmp/t10k-labels-idx1-ubyte.gz\n"
     ]
    },
    {
     "name": "stdout",
     "output_type": "stream",
     "text": [
      "INFO:tensorflow:Skipping generator because outputs files exists at ['/home/statisticallyfit/t2t/data/image_mnist-unshuffled-train-00000-of-00010', '/home/statisticallyfit/t2t/data/image_mnist-unshuffled-train-00001-of-00010', '/home/statisticallyfit/t2t/data/image_mnist-unshuffled-train-00002-of-00010', '/home/statisticallyfit/t2t/data/image_mnist-unshuffled-train-00003-of-00010', '/home/statisticallyfit/t2t/data/image_mnist-unshuffled-train-00004-of-00010', '/home/statisticallyfit/t2t/data/image_mnist-unshuffled-train-00005-of-00010', '/home/statisticallyfit/t2t/data/image_mnist-unshuffled-train-00006-of-00010', '/home/statisticallyfit/t2t/data/image_mnist-unshuffled-train-00007-of-00010', '/home/statisticallyfit/t2t/data/image_mnist-unshuffled-train-00008-of-00010', '/home/statisticallyfit/t2t/data/image_mnist-unshuffled-train-00009-of-00010']\n"
     ]
    },
    {
     "name": "stderr",
     "output_type": "stream",
     "text": [
      "INFO:tensorflow:Skipping generator because outputs files exists at ['/home/statisticallyfit/t2t/data/image_mnist-unshuffled-train-00000-of-00010', '/home/statisticallyfit/t2t/data/image_mnist-unshuffled-train-00001-of-00010', '/home/statisticallyfit/t2t/data/image_mnist-unshuffled-train-00002-of-00010', '/home/statisticallyfit/t2t/data/image_mnist-unshuffled-train-00003-of-00010', '/home/statisticallyfit/t2t/data/image_mnist-unshuffled-train-00004-of-00010', '/home/statisticallyfit/t2t/data/image_mnist-unshuffled-train-00005-of-00010', '/home/statisticallyfit/t2t/data/image_mnist-unshuffled-train-00006-of-00010', '/home/statisticallyfit/t2t/data/image_mnist-unshuffled-train-00007-of-00010', '/home/statisticallyfit/t2t/data/image_mnist-unshuffled-train-00008-of-00010', '/home/statisticallyfit/t2t/data/image_mnist-unshuffled-train-00009-of-00010']\n"
     ]
    },
    {
     "name": "stdout",
     "output_type": "stream",
     "text": [
      "INFO:tensorflow:Skipping generator because outputs files exists at ['/home/statisticallyfit/t2t/data/image_mnist-unshuffled-dev-00000-of-00001']\n"
     ]
    },
    {
     "name": "stderr",
     "output_type": "stream",
     "text": [
      "INFO:tensorflow:Skipping generator because outputs files exists at ['/home/statisticallyfit/t2t/data/image_mnist-unshuffled-dev-00000-of-00001']\n"
     ]
    },
    {
     "name": "stdout",
     "output_type": "stream",
     "text": [
      "INFO:tensorflow:Skipping shuffle because output files exist\n"
     ]
    },
    {
     "name": "stderr",
     "output_type": "stream",
     "text": [
      "INFO:tensorflow:Skipping shuffle because output files exist\n"
     ]
    }
   ],
   "source": [
    "# Fetch the MNIST problem\n",
    "mnist_problem = problems.problem(\"image_mnist\")\n",
    "# The generate_data method of a problem will download data and process it into\n",
    "# a standard format ready for training and evaluation.\n",
    "mnist_problem.generate_data(data_dir, tmp_dir)"
   ]
  },
  {
   "cell_type": "code",
   "execution_count": 13,
   "metadata": {},
   "outputs": [
    {
     "name": "stdout",
     "output_type": "stream",
     "text": [
      "INFO:tensorflow:Reading data files from /home/statisticallyfit/t2t/data/image_mnist-train*\n"
     ]
    },
    {
     "name": "stderr",
     "output_type": "stream",
     "text": [
      "INFO:tensorflow:Reading data files from /home/statisticallyfit/t2t/data/image_mnist-train*\n"
     ]
    },
    {
     "name": "stdout",
     "output_type": "stream",
     "text": [
      "INFO:tensorflow:partition: 0 num_data_files: 10\n"
     ]
    },
    {
     "name": "stderr",
     "output_type": "stream",
     "text": [
      "INFO:tensorflow:partition: 0 num_data_files: 10\n"
     ]
    },
    {
     "name": "stdout",
     "output_type": "stream",
     "text": [
      "WARNING:tensorflow:From /development/bin/python/conda3_ana/envs/pynlp_env/lib/python3.6/site-packages/tensor2tensor/data_generators/problem.py:680: parallel_interleave (from tensorflow.python.data.experimental.ops.interleave_ops) is deprecated and will be removed in a future version.\nInstructions for updating:\nUse `tf.data.Dataset.interleave(map_func, cycle_length, block_length, num_parallel_calls=tf.data.experimental.AUTOTUNE)` instead. If sloppy execution is desired, use `tf.data.Options.experimental_determinstic`.\n"
     ]
    },
    {
     "name": "stderr",
     "output_type": "stream",
     "text": [
      "WARNING:tensorflow:From /development/bin/python/conda3_ana/envs/pynlp_env/lib/python3.6/site-packages/tensor2tensor/data_generators/problem.py:680: parallel_interleave (from tensorflow.python.data.experimental.ops.interleave_ops) is deprecated and will be removed in a future version.\nInstructions for updating:\nUse `tf.data.Dataset.interleave(map_func, cycle_length, block_length, num_parallel_calls=tf.data.experimental.AUTOTUNE)` instead. If sloppy execution is desired, use `tf.data.Options.experimental_determinstic`.\n"
     ]
    },
    {
     "name": "stdout",
     "output_type": "stream",
     "text": [
      "WARNING:tensorflow:From /development/bin/python/conda3_ana/envs/pynlp_env/lib/python3.6/site-packages/tensor2tensor/data_generators/image_utils.py:169: The name tf.FixedLenFeature is deprecated. Please use tf.io.FixedLenFeature instead.\n\n"
     ]
    },
    {
     "name": "stderr",
     "output_type": "stream",
     "text": [
      "WARNING:tensorflow:From /development/bin/python/conda3_ana/envs/pynlp_env/lib/python3.6/site-packages/tensor2tensor/data_generators/image_utils.py:169: The name tf.FixedLenFeature is deprecated. Please use tf.io.FixedLenFeature instead.\n\n"
     ]
    },
    {
     "name": "stdout",
     "output_type": "stream",
     "text": [
      "WARNING:tensorflow:From /development/bin/python/conda3_ana/envs/pynlp_env/lib/python3.6/site-packages/tensorflow/python/ops/image_ops_impl.py:1514: div (from tensorflow.python.ops.math_ops) is deprecated and will be removed in a future version.\nInstructions for updating:\nDeprecated in favor of operator or tf.math.divide.\n"
     ]
    },
    {
     "name": "stderr",
     "output_type": "stream",
     "text": [
      "WARNING:tensorflow:From /development/bin/python/conda3_ana/envs/pynlp_env/lib/python3.6/site-packages/tensorflow/python/ops/image_ops_impl.py:1514: div (from tensorflow.python.ops.math_ops) is deprecated and will be removed in a future version.\nInstructions for updating:\nDeprecated in favor of operator or tf.math.divide.\n"
     ]
    }
   ],
   "source": [
    "# Now let's see the training MNIST data as Tensors.\n",
    "mnist_example = tfe.Iterator(mnist_problem.dataset(Modes.TRAIN, data_dir)).next()\n",
    "image = mnist_example[\"inputs\"]\n",
    "label = mnist_example[\"targets\"]"
   ]
  },
  {
   "cell_type": "code",
   "execution_count": 14,
   "metadata": {},
   "outputs": [
    {
     "name": "stdout",
     "output_type": "stream",
     "text": [
      "Label: 4\n"
     ]
    }
   ],
   "source": [
    "plt.imshow(image.numpy()[:, :, 0].astype(np.float32), cmap=plt.get_cmap('gray'))\n",
    "print(\"Label: %d\" % label.numpy())"
   ]
  },
  {
   "cell_type": "code",
   "execution_count": 16,
   "metadata": {},
   "outputs": [
    {
     "name": "stdout",
     "output_type": "stream",
     "text": [
      "/bin/sh: 1: gsutil: not found\r\n"
     ]
    },
    {
     "ename": "ValueError",
     "evalue": "File /home/statisticallyfit/t2t/data/vocab.translate_ende_wmt32k.32768.subwords not found",
     "traceback": [
      "\u001b[0;31m---------------------------------------------------------------------------\u001b[0m",
      "\u001b[0;31mValueError\u001b[0m                                Traceback (most recent call last)",
      "\u001b[0;32m<ipython-input-16-8b65eb446f19>\u001b[0m in \u001b[0;36m<module>\u001b[0;34m\u001b[0m\n\u001b[1;32m     11\u001b[0m \u001b[0;34m\u001b[0m\u001b[0m\n\u001b[1;32m     12\u001b[0m \u001b[0;31m# Get the encoders from the problem\u001b[0m\u001b[0;34m\u001b[0m\u001b[0;34m\u001b[0m\u001b[0;34m\u001b[0m\u001b[0m\n\u001b[0;32m---> 13\u001b[0;31m \u001b[0mencoders\u001b[0m \u001b[0;34m=\u001b[0m \u001b[0mende_problem\u001b[0m\u001b[0;34m.\u001b[0m\u001b[0mfeature_encoders\u001b[0m\u001b[0;34m(\u001b[0m\u001b[0mdata_dir\u001b[0m\u001b[0;34m)\u001b[0m\u001b[0;34m\u001b[0m\u001b[0;34m\u001b[0m\u001b[0m\n\u001b[0m\u001b[1;32m     14\u001b[0m \u001b[0;34m\u001b[0m\u001b[0m\n\u001b[1;32m     15\u001b[0m \u001b[0;31m# Setup helper functions for encoding and decoding\u001b[0m\u001b[0;34m\u001b[0m\u001b[0;34m\u001b[0m\u001b[0;34m\u001b[0m\u001b[0m\n",
      "\u001b[0;32m/development/bin/python/conda3_ana/envs/pynlp_env/lib/python3.6/site-packages/tensor2tensor/data_generators/text_problems.py\u001b[0m in \u001b[0;36mfeature_encoders\u001b[0;34m(self, data_dir)\u001b[0m\n\u001b[1;32m    197\u001b[0m \u001b[0;34m\u001b[0m\u001b[0m\n\u001b[1;32m    198\u001b[0m   \u001b[0;32mdef\u001b[0m \u001b[0mfeature_encoders\u001b[0m\u001b[0;34m(\u001b[0m\u001b[0mself\u001b[0m\u001b[0;34m,\u001b[0m \u001b[0mdata_dir\u001b[0m\u001b[0;34m)\u001b[0m\u001b[0;34m:\u001b[0m\u001b[0;34m\u001b[0m\u001b[0;34m\u001b[0m\u001b[0m\n\u001b[0;32m--> 199\u001b[0;31m     \u001b[0mencoder\u001b[0m \u001b[0;34m=\u001b[0m \u001b[0mself\u001b[0m\u001b[0;34m.\u001b[0m\u001b[0mget_or_create_vocab\u001b[0m\u001b[0;34m(\u001b[0m\u001b[0mdata_dir\u001b[0m\u001b[0;34m,\u001b[0m \u001b[0;32mNone\u001b[0m\u001b[0;34m,\u001b[0m \u001b[0mforce_get\u001b[0m\u001b[0;34m=\u001b[0m\u001b[0;32mTrue\u001b[0m\u001b[0;34m)\u001b[0m\u001b[0;34m\u001b[0m\u001b[0;34m\u001b[0m\u001b[0m\n\u001b[0m\u001b[1;32m    200\u001b[0m     \u001b[0mencoders\u001b[0m \u001b[0;34m=\u001b[0m \u001b[0;34m{\u001b[0m\u001b[0;34m\"targets\"\u001b[0m\u001b[0;34m:\u001b[0m \u001b[0mencoder\u001b[0m\u001b[0;34m}\u001b[0m\u001b[0;34m\u001b[0m\u001b[0;34m\u001b[0m\u001b[0m\n\u001b[1;32m    201\u001b[0m     \u001b[0;32mif\u001b[0m \u001b[0mself\u001b[0m\u001b[0;34m.\u001b[0m\u001b[0mhas_inputs\u001b[0m\u001b[0;34m:\u001b[0m\u001b[0;34m\u001b[0m\u001b[0;34m\u001b[0m\u001b[0m\n",
      "\u001b[0;32m/development/bin/python/conda3_ana/envs/pynlp_env/lib/python3.6/site-packages/tensor2tensor/data_generators/text_problems.py\u001b[0m in \u001b[0;36mget_or_create_vocab\u001b[0;34m(self, data_dir, tmp_dir, force_get)\u001b[0m\n\u001b[1;32m    242\u001b[0m       \u001b[0;32mif\u001b[0m \u001b[0mforce_get\u001b[0m\u001b[0;34m:\u001b[0m\u001b[0;34m\u001b[0m\u001b[0;34m\u001b[0m\u001b[0m\n\u001b[1;32m    243\u001b[0m         \u001b[0mvocab_filepath\u001b[0m \u001b[0;34m=\u001b[0m \u001b[0mos\u001b[0m\u001b[0;34m.\u001b[0m\u001b[0mpath\u001b[0m\u001b[0;34m.\u001b[0m\u001b[0mjoin\u001b[0m\u001b[0;34m(\u001b[0m\u001b[0mdata_dir\u001b[0m\u001b[0;34m,\u001b[0m \u001b[0mself\u001b[0m\u001b[0;34m.\u001b[0m\u001b[0mvocab_filename\u001b[0m\u001b[0;34m)\u001b[0m\u001b[0;34m\u001b[0m\u001b[0;34m\u001b[0m\u001b[0m\n\u001b[0;32m--> 244\u001b[0;31m         \u001b[0mencoder\u001b[0m \u001b[0;34m=\u001b[0m \u001b[0mtext_encoder\u001b[0m\u001b[0;34m.\u001b[0m\u001b[0mSubwordTextEncoder\u001b[0m\u001b[0;34m(\u001b[0m\u001b[0mvocab_filepath\u001b[0m\u001b[0;34m)\u001b[0m\u001b[0;34m\u001b[0m\u001b[0;34m\u001b[0m\u001b[0m\n\u001b[0m\u001b[1;32m    245\u001b[0m       \u001b[0;32melse\u001b[0m\u001b[0;34m:\u001b[0m\u001b[0;34m\u001b[0m\u001b[0;34m\u001b[0m\u001b[0m\n\u001b[1;32m    246\u001b[0m         \u001b[0mother_problem\u001b[0m \u001b[0;34m=\u001b[0m \u001b[0mself\u001b[0m\u001b[0;34m.\u001b[0m\u001b[0muse_vocab_from_other_problem\u001b[0m\u001b[0;34m\u001b[0m\u001b[0;34m\u001b[0m\u001b[0m\n",
      "\u001b[0;32m/development/bin/python/conda3_ana/envs/pynlp_env/lib/python3.6/site-packages/tensor2tensor/data_generators/text_encoder.py\u001b[0m in \u001b[0;36m__init__\u001b[0;34m(self, filename)\u001b[0m\n\u001b[1;32m    489\u001b[0m     \u001b[0mself\u001b[0m\u001b[0;34m.\u001b[0m\u001b[0mfilename\u001b[0m \u001b[0;34m=\u001b[0m \u001b[0mfilename\u001b[0m\u001b[0;34m\u001b[0m\u001b[0;34m\u001b[0m\u001b[0m\n\u001b[1;32m    490\u001b[0m     \u001b[0;32mif\u001b[0m \u001b[0mfilename\u001b[0m \u001b[0;32mis\u001b[0m \u001b[0;32mnot\u001b[0m \u001b[0;32mNone\u001b[0m\u001b[0;34m:\u001b[0m\u001b[0;34m\u001b[0m\u001b[0;34m\u001b[0m\u001b[0m\n\u001b[0;32m--> 491\u001b[0;31m       \u001b[0mself\u001b[0m\u001b[0;34m.\u001b[0m\u001b[0m_load_from_file\u001b[0m\u001b[0;34m(\u001b[0m\u001b[0mfilename\u001b[0m\u001b[0;34m)\u001b[0m\u001b[0;34m\u001b[0m\u001b[0;34m\u001b[0m\u001b[0m\n\u001b[0m\u001b[1;32m    492\u001b[0m     \u001b[0msuper\u001b[0m\u001b[0;34m(\u001b[0m\u001b[0mSubwordTextEncoder\u001b[0m\u001b[0;34m,\u001b[0m \u001b[0mself\u001b[0m\u001b[0;34m)\u001b[0m\u001b[0;34m.\u001b[0m\u001b[0m__init__\u001b[0m\u001b[0;34m(\u001b[0m\u001b[0;34m)\u001b[0m\u001b[0;34m\u001b[0m\u001b[0;34m\u001b[0m\u001b[0m\n\u001b[1;32m    493\u001b[0m \u001b[0;34m\u001b[0m\u001b[0m\n",
      "\u001b[0;32m/development/bin/python/conda3_ana/envs/pynlp_env/lib/python3.6/site-packages/tensor2tensor/data_generators/text_encoder.py\u001b[0m in \u001b[0;36m_load_from_file\u001b[0;34m(self, filename)\u001b[0m\n\u001b[1;32m    937\u001b[0m     \u001b[0;34m\"\"\"Load from a vocab file.\"\"\"\u001b[0m\u001b[0;34m\u001b[0m\u001b[0;34m\u001b[0m\u001b[0m\n\u001b[1;32m    938\u001b[0m     \u001b[0;32mif\u001b[0m \u001b[0;32mnot\u001b[0m \u001b[0mtf\u001b[0m\u001b[0;34m.\u001b[0m\u001b[0mgfile\u001b[0m\u001b[0;34m.\u001b[0m\u001b[0mExists\u001b[0m\u001b[0;34m(\u001b[0m\u001b[0mfilename\u001b[0m\u001b[0;34m)\u001b[0m\u001b[0;34m:\u001b[0m\u001b[0;34m\u001b[0m\u001b[0;34m\u001b[0m\u001b[0m\n\u001b[0;32m--> 939\u001b[0;31m       \u001b[0;32mraise\u001b[0m \u001b[0mValueError\u001b[0m\u001b[0;34m(\u001b[0m\u001b[0;34m\"File %s not found\"\u001b[0m \u001b[0;34m%\u001b[0m \u001b[0mfilename\u001b[0m\u001b[0;34m)\u001b[0m\u001b[0;34m\u001b[0m\u001b[0;34m\u001b[0m\u001b[0m\n\u001b[0m\u001b[1;32m    940\u001b[0m     \u001b[0;32mwith\u001b[0m \u001b[0mtf\u001b[0m\u001b[0;34m.\u001b[0m\u001b[0mgfile\u001b[0m\u001b[0;34m.\u001b[0m\u001b[0mOpen\u001b[0m\u001b[0;34m(\u001b[0m\u001b[0mfilename\u001b[0m\u001b[0;34m)\u001b[0m \u001b[0;32mas\u001b[0m \u001b[0mf\u001b[0m\u001b[0;34m:\u001b[0m\u001b[0;34m\u001b[0m\u001b[0;34m\u001b[0m\u001b[0m\n\u001b[1;32m    941\u001b[0m       \u001b[0mself\u001b[0m\u001b[0;34m.\u001b[0m\u001b[0m_load_from_file_object\u001b[0m\u001b[0;34m(\u001b[0m\u001b[0mf\u001b[0m\u001b[0;34m)\u001b[0m\u001b[0;34m\u001b[0m\u001b[0;34m\u001b[0m\u001b[0m\n",
      "\u001b[0;31mValueError\u001b[0m: File /home/statisticallyfit/t2t/data/vocab.translate_ende_wmt32k.32768.subwords not found"
     ],
     "output_type": "error"
    }
   ],
   "source": [
    "# TRANSLATE FROM ENGLISH TO GERMAN WITH PRE_TRAINED MODEL\n",
    "\n",
    "# Fetch the problem\n",
    "ende_problem = problems.problem(\"translate_ende_wmt32k\")\n",
    "\n",
    "# Copy the vocab file locally so we can encode inputs and decode model outputs\n",
    "# All vocabs are stored on GCS\n",
    "vocab_name = \"vocab.translate_ende_wmt32k.32768.subwords\"\n",
    "vocab_file = os.path.join(gs_data_dir, vocab_name)\n",
    "!gsutil cp {vocab_file} {data_dir}\n",
    "\n",
    "# Get the encoders from the problem\n",
    "encoders = ende_problem.feature_encoders(data_dir)\n",
    "\n",
    "# Setup helper functions for encoding and decoding\n",
    "def encode(input_str, output_str=None): \n",
    "    \"\"\"Input str to features dict, ready for inference\"\"\" \n",
    "    inputs = encoders[\"inputs\"].encode(input_str) + [1]  # add EOS id\n",
    "    batch_inputs = tf.reshape(inputs, [1, -1, 1])  # Make it 3D.\n",
    "    return {\"inputs\": batch_inputs}\n",
    "\n",
    "def decode(integers): \n",
    "    \"\"\"List of ints to str\"\"\" \n",
    "    integers = list(np.squeeze(integers)) \n",
    "    if 1 in integers: \n",
    "        integers = integers[:integers.index(1)] \n",
    "    return encoders[\"inputs\"].decode(np.squeeze(integers))"
   ]
  },
  {
   "cell_type": "code",
   "execution_count": null,
   "metadata": {},
   "outputs": [],
   "source": []
  }
 ],
 "metadata": {
  "jupytext": {
   "cell_metadata_filter": "-all",
   "main_language": "python",
   "notebook_metadata_filter": "-all"
  }
 },
 "nbformat": 4,
 "nbformat_minor": 2
}
