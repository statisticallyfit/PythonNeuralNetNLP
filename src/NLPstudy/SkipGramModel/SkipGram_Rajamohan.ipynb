{
  "nbformat": 4,
  "nbformat_minor": 0,
  "metadata": {
    "jupytext": {
      "cell_metadata_filter": "title,-all",
      "main_language": "python",
      "notebook_metadata_filter": "-all"
    },
    "colab": {
      "name": "SkipGram_Rajamohan.ipynb",
      "provenance": [],
      "collapsed_sections": [],
      "toc_visible": true,
      "include_colab_link": true
    },
    "kernelspec": {
      "name": "python3",
      "display_name": "Python 3"
    }
  },
  "cells": [
    {
      "cell_type": "markdown",
      "metadata": {
        "id": "view-in-github",
        "colab_type": "text"
      },
      "source": [
        "<a href=\"https://colab.research.google.com/github/statisticallyfit/PythonNeuralNetNLP/blob/master/SkipGram_Rajamohan.ipynb\" target=\"_parent\"><img src=\"https://colab.research.google.com/assets/colab-badge.svg\" alt=\"Open In Colab\"/></a>"
      ]
    },
    {
      "cell_type": "markdown",
      "metadata": {
        "lines_to_next_cell": 0,
        "title": "markdown",
        "id": "WybVeT7KnPcu",
        "colab_type": "text"
      },
      "source": [
        "Author: Ana-Maria Vintila, based off work from Srijith Rajamohan based off the work by Robert Guthrie\n",
        "\n",
        "Source: https://srijithr.gitlab.io/post/word2vec/"
      ]
    },
    {
      "cell_type": "code",
      "metadata": {
        "lines_to_next_cell": 0,
        "title": "codecell",
        "id": "ZPYrfYYenPcx",
        "colab_type": "code",
        "colab": {
          "base_uri": "https://localhost:8080/",
          "height": 35
        },
        "outputId": "2e4d0a60-935b-4b3a-838e-b40bc8ac3cae"
      },
      "source": [
        "import os\n",
        "from IPython.display import Image\n",
        "\n",
        "pth = os.getcwd()\n",
        "pth"
      ],
      "execution_count": 6,
      "outputs": [
        {
          "output_type": "execute_result",
          "data": {
            "text/plain": [
              "'/content/gdrive/My Drive/StatFitScholarshipProject/PythonNeuralNetNLP'"
            ]
          },
          "metadata": {
            "tags": []
          },
          "execution_count": 6
        }
      ]
    },
    
    {
      "cell_type": "markdown",
      "metadata": {
        "lines_to_next_cell": 0,
        "title": "markdown",
        "id": "bl7TV25-nPc6",
        "colab_type": "text"
      },
      "source": [
        "Loading the imports:"
      ]
    },
    {
      "cell_type": "code",
      "metadata": {
        "title": "codecell",
        "id": "3Lw3XQ4inPc6",
        "colab_type": "code",
        "colab": {
          "base_uri": "https://localhost:8080/",
          "height": 35
        },
        "outputId": "f1929e65-bda2-4df6-8a28-96dd8737a69c"
      },
      "source": [
        "import torch\n",
        "import torch.tensor as Tensor\n",
        "import torch.nn as nn\n",
        "import torch.nn.functional as F\n",
        "import torch.optim as optim\n",
        "import numpy as np\n",
        "import urllib.request\n",
        "from nltk.tokenize import RegexpTokenizer\n",
        "from nltk.corpus import stopwords\n",
        "from nltk import word_tokenize\n",
        "import sklearn\n",
        "from sklearn.cluster import KMeans\n",
        "from sklearn.metrics.pairwise import euclidean_distances\n",
        "\n",
        "torch.manual_seed(1)"
      ],
      "execution_count": 8,
      "outputs": [
        {
          "output_type": "execute_result",
          "data": {
            "text/plain": [
              "<torch._C.Generator at 0x7f9c3be47370>"
            ]
          },
          "metadata": {
            "tags": []
          },
          "execution_count": 8
        }
      ]
    },
    {
      "cell_type": "markdown",
      "metadata": {
        "lines_to_next_cell": 0,
        "title": "markdown",
        "id": "fFPotyTAnPc9",
        "colab_type": "text"
      },
      "source": [
        "# Step 1: Initialization\n",
        "Here we set the context window size to $3$ words and the word embedding dimension to $10$, and also pass in the text corpora from which we build vocabulary.\n",
        "\n",
        "Tokenizing the text occurs later while reading in the data."
      ]
    },
    {
      "cell_type": "code",
      "metadata": {
        "lines_to_next_cell": 2,
        "title": "codecell",
        "id": "gHNljpwunPc-",
        "colab_type": "code",
        "colab": {}
      },
      "source": [
        "CONTEXT_SIZE = 3\n",
        "EMBEDDING_DIM = 10\n",
        "\n",
        "testSentence = \"\"\"Empathy for the poor may not come easily to people who never experienced it.\n",
        "They may blame the victims and insist their predicament can be overcome through determination\n",
        "and hard work.\n",
        "But they may not realize that extreme poverty can be psychologically and physically\n",
        "incapacitating — a perpetual cycle of bad diets, health care and education exacerbated\n",
        "by the shaming and self-fulfilling prophecies that define it in the public imagination.\n",
        "Gordon Parks — perhaps more than any artist — saw poverty as “the most savage of all human\n",
        "afflictions” and realized the power of empathy to help us understand it. It was neither an\n",
        "abstract problem nor political symbol, but something he endured growing up destitute in rural\n",
        "Kansas and having spent years documenting poverty throughout the world, including the United\n",
        "States.\n",
        "That sensitivity informed “Freedom’s Fearful Foe: Poverty,” his celebrated photo essay published\n",
        " in Life magazine in June 1961. He took readers into the lives of a Brazilian boy, Flavio\n",
        " da Silva, and his family, who lived in the ramshackle Catacumba favela in the hills outside\n",
        " Rio de Janeiro. These stark photographs are the subject of a new book, “Gordon Parks: The\n",
        "  Flavio Story” (Steidl/The Gordon Parks Foundation), which accompanies a traveling exhibition\n",
        "  co-organized by the Ryerson Image Centre in Toronto, where it opens this week, and\n",
        "  the J. Paul Getty Museum. Edited with texts by the exhibition’s co-curators, Paul Roth and\n",
        "  Amanda Maddox, the book also includes a recent interview with Mr. da Silva and essays by\n",
        "  Beatriz Jaguaribe, Maria Alice Rezende de Carvalho and Sérgio Burgi.\n",
        "\"\"\".split()"
      ],
      "execution_count": 0,
      "outputs": []
    },
    {
      "cell_type": "markdown",
      "metadata": {
        "lines_to_next_cell": 0,
        "title": "markdown",
        "id": "XDPFdh4WnPdA",
        "colab_type": "text"
      },
      "source": [
        "# Step 2: Build the $n$-grams\n",
        "Next we build the $n$-grams, or sequence of words, as a list of tuples.\n",
        "\n",
        "Each tuple is ([ `word`$_{i-2}$, `word`$_{i-1}$ ], `targetWord`)"
      ]
    },
    {
      "cell_type": "code",
      "metadata": {
        "title": "codecell",
        "id": "lfbFEjWmnPdB",
        "colab_type": "code",
        "colab": {}
      },
      "source": [
        "ngrams = []\n",
        "for i in range(len(testSentence) - CONTEXT_SIZE):\n",
        "    tup = [testSentence[j] for j in np.arange(i + 1, i + CONTEXT_SIZE + 1)]\n",
        "    # skip-gram way of appending:\n",
        "    ngrams.append( (testSentence[i], tup) )\n",
        "    # cbow# ngrams.append( (tup, testSentence[i + CONTEXT_SIZE]) )"
      ],
      "execution_count": 0,
      "outputs": []
    },
    {
      "cell_type": "code",
      "metadata": {
        "id": "FdnwTxVXiooH",
        "colab_type": "code",
        "colab": {
          "base_uri": "https://localhost:8080/",
          "height": 372
        },
        "outputId": "567e06b9-a8ed-4896-b4af-22edbb72e6c9"
      },
      "source": [
        "ngrams[:20] # showing a few sample n-grams"
      ],
      "execution_count": 13,
      "outputs": [
        {
          "output_type": "execute_result",
          "data": {
            "text/plain": [
              "[('Empathy', ['for', 'the', 'poor']),\n",
              " ('for', ['the', 'poor', 'may']),\n",
              " ('the', ['poor', 'may', 'not']),\n",
              " ('poor', ['may', 'not', 'come']),\n",
              " ('may', ['not', 'come', 'easily']),\n",
              " ('not', ['come', 'easily', 'to']),\n",
              " ('come', ['easily', 'to', 'people']),\n",
              " ('easily', ['to', 'people', 'who']),\n",
              " ('to', ['people', 'who', 'never']),\n",
              " ('people', ['who', 'never', 'experienced']),\n",
              " ('who', ['never', 'experienced', 'it.']),\n",
              " ('never', ['experienced', 'it.', 'They']),\n",
              " ('experienced', ['it.', 'They', 'may']),\n",
              " ('it.', ['They', 'may', 'blame']),\n",
              " ('They', ['may', 'blame', 'the']),\n",
              " ('may', ['blame', 'the', 'victims']),\n",
              " ('blame', ['the', 'victims', 'and']),\n",
              " ('the', ['victims', 'and', 'insist']),\n",
              " ('victims', ['and', 'insist', 'their']),\n",
              " ('and', ['insist', 'their', 'predicament'])]"
            ]
          },
          "metadata": {
            "tags": []
          },
          "execution_count": 13
        }
      ]
    },
    {
      "cell_type": "markdown",
      "metadata": {
        "title": "markdown",
        "id": "m7k8bwLvnPdD",
        "colab_type": "text"
      },
      "source": [
        "# Step 3: Create Vocabulary\n",
        "Create the vocabulary by converting the text into a `set` to remove duplicate words."
      ]
    },
    {
      "cell_type": "code",
      "metadata": {
        "title": "codecell",
        "id": "Oa-hEHSHnPdE",
        "colab_type": "code",
        "colab": {}
      },
      "source": [
        "vocabulary = set(testSentence)"
      ],
      "execution_count": 0,
      "outputs": []
    },
    {
      "cell_type": "code",
      "metadata": {
        "id": "n3b3mk2UizlR",
        "colab_type": "code",
        "colab": {
          "base_uri": "https://localhost:8080/",
          "height": 372
        },
        "outputId": "953dd6b1-220c-4548-80ba-20f37edb2580"
      },
      "source": [
        "len(vocabulary)\n",
        "list(vocabulary)[:20] # showing first 20 words in vocabulary"
      ],
      "execution_count": 23,
      "outputs": [
        {
          "output_type": "execute_result",
          "data": {
            "text/plain": [
              "['lived',\n",
              " 'psychologically',\n",
              " 'prophecies',\n",
              " 'Gordon',\n",
              " 'Silva',\n",
              " 'They',\n",
              " 'abstract',\n",
              " 'perpetual',\n",
              " 'hills',\n",
              " 'Silva,',\n",
              " 'power',\n",
              " 'magazine',\n",
              " 'imagination.',\n",
              " 'something',\n",
              " 'recent',\n",
              " 'all',\n",
              " 'may',\n",
              " 'understand',\n",
              " 'cycle',\n",
              " 'who']"
            ]
          },
          "metadata": {
            "tags": []
          },
          "execution_count": 23
        }
      ]
    },
    {
      "cell_type": "markdown",
      "metadata": {
        "title": "markdown",
        "id": "IIubqOH4nPdH",
        "colab_type": "text"
      },
      "source": [
        "# Step 4: Create Map of Words to Indices\n",
        "\n",
        "Creating word to index map that prints the key (word) corresponding to the given index in the dictionary argument. Basically, we get a list of tuples (number, word) from zipping the sequence $0,1,2,3 ....$ with the vocabulary word list."
      ]
    },
    {
      "cell_type": "code",
      "metadata": {
        "id": "SnkikDS2jH6F",
        "colab_type": "code",
        "colab": {}
      },
      "source": [
        "wordToIndex = {word : i for i, word in enumerate(vocabulary)}"
      ],
      "execution_count": 0,
      "outputs": []
    },
    {
      "cell_type": "code",
      "metadata": {
        "id": "P5Qa2zTJjJE1",
        "colab_type": "code",
        "colab": {
          "base_uri": "https://localhost:8080/",
          "height": 372
        },
        "outputId": "60820934-8aec-45b1-db66-c1f7dcdcfc2b"
      },
      "source": [
        "# Showing first 20 word to index pairs\n",
        "len(wordToIndex)\n",
        "itemsList = list(wordToIndex.items())\n",
        "itemsList[:20]"
      ],
      "execution_count": 31,
      "outputs": [
        {
          "output_type": "execute_result",
          "data": {
            "text/plain": [
              "[('lived', 0),\n",
              " ('psychologically', 1),\n",
              " ('prophecies', 2),\n",
              " ('Gordon', 3),\n",
              " ('Silva', 4),\n",
              " ('They', 5),\n",
              " ('abstract', 6),\n",
              " ('perpetual', 7),\n",
              " ('hills', 8),\n",
              " ('Silva,', 9),\n",
              " ('power', 10),\n",
              " ('magazine', 11),\n",
              " ('imagination.', 12),\n",
              " ('something', 13),\n",
              " ('recent', 14),\n",
              " ('all', 15),\n",
              " ('may', 16),\n",
              " ('understand', 17),\n",
              " ('cycle', 18),\n",
              " ('who', 19)]"
            ]
          },
          "metadata": {
            "tags": []
          },
          "execution_count": 31
        }
      ]
    },
    {
      "cell_type": "code",
      "metadata": {
        "lines_to_next_cell": 1,
        "title": "codecell",
        "id": "S6PIl8zgnPdH",
        "colab_type": "code",
        "colab": {}
      },
      "source": [
        "def printKey(iWord, wordToIndexDict):\n",
        "    \"\"\"\n",
        "    Prints the key (the word) corresponding to the given index in the given dictionary.\n",
        "\n",
        "    :param iWord: index of a word in the given dict\n",
        "    :param wordToIndexDict: the dictionary\n",
        "    :return: key\n",
        "    \"\"\"\n",
        "    for key, index in wordToIndexDict.items():\n",
        "        if(index == iWord):\n",
        "            print(key)\n",
        "\n",
        "\n",
        "\n",
        "def clusterEmbeddings(filename, numClusters):\n",
        "    X = np.load(filename)\n",
        "    kmeans = KMeans(n_clusters=numClusters, random_state=  0).fit(X) # from sklearn\n",
        "    center = kmeans.cluster_centers_\n",
        "    distances = euclidean_distances(X, center)\n",
        "\n",
        "    for i in np.arange(0, distances.shape[1]):\n",
        "\n",
        "        # get the index of the minimum distance in the ith row of the dist matrix\n",
        "        iMinWord = np.argmin(distances[:, i])\n",
        "        print(iMinWord)\n",
        "        printKey(iWord=iMinWord, wordToIndexDict= wordToIndex)\n",
        "\n",
        "\n",
        "def readData(filePath):\n",
        "    tokenizer = RegexpTokenizer(r'\\w+')\n",
        "    data = urllib.request.urlopen(filePath)\n",
        "    data = data.read().decode('utf8')\n",
        "    tokenizedData = word_tokenize(data)\n",
        "\n",
        "    # note: stopwords are from nltk\n",
        "    stopWordsSet = set(stopwords.words('english'))\n",
        "    stopWordsSet.update(['.',',',':',';','(',')','#','--','...','\"'])\n",
        "    cleanedWords = [word for word in tokenizedData if word not in stopWordsSet]\n",
        "\n",
        "    return cleanedWords"
      ],
      "execution_count": 0,
      "outputs": []
    },
    {
      "cell_type": "markdown",
      "metadata": {
        "lines_to_next_cell": 0,
        "title": "markdown",
        "id": "DCTMcUKpnPdK",
        "colab_type": "text"
      },
      "source": [
        "# Step 6: Create Skip-Gram Model\n",
        "The skip-gram neural network has three components:\n",
        "\n",
        "1. embedding layer, created using pytorch's `nn.Embedding`, to convert tensors into word embeddings.\n",
        "2. hidden layer, in this case it is a linear layer.\n",
        "3. output layer, in this case also linear layer.\n",
        "\n",
        "### Forward Pass of Skip-Gram:\n",
        "1. Convert the tensor `inputs` to word embeddings via the skip-gram's `nn.Embedding` layer\n",
        "2. Pass the embeddings to the hidden layer and transform the result using the `relu` function\n",
        "3. Transform the hidden layer results using the output layer.\n",
        "4. Finally, create a probability distribution over words using the `softmax` function. (Here we actually use the `log_softmax` so the results are log probabilities instead of probabilities. )\n",
        "\n",
        "### Predictions:\n",
        "To generate predictions we need to execute the `forward` pass of the skip-gram model and get the index of the maximum probability from the output layer. Then that index is used to find the corresponding prediction word.\n"
      ]
    },
    {
      "cell_type": "code",
      "metadata": {
        "lines_to_next_cell": 2,
        "title": "codecell",
        "id": "8QERKFfUnPdK",
        "colab_type": "code",
        "colab": {}
      },
      "source": [
        "class SkipGramModeler(nn.Module):\n",
        "\n",
        "    def __init__(self, vocabSize: int, embeddingDim: int, contextSize: int):\n",
        "        super(SkipGramModeler, self).__init__()\n",
        "\n",
        "        # see docs: https://hyp.is/cv2pSAeqEeqIRHv7JAjgtA/pytorch.org/docs/stable/nn.html\n",
        "        # num_embeddings = size of the dictionary embeddings\n",
        "        # embedding_dim = the size of each embedding vector\n",
        "        # Creating an embedding model that contains (vocabSize) tensors each of size (embeddingDim)\n",
        "        self.embeddings = nn.Embedding(num_embeddings=vocabSize,\n",
        "                                       embedding_dim=embeddingDim,\n",
        "                                       padding_idx=contextSize)\n",
        "\n",
        "        # see nn.Linear docs\n",
        "        # https://hyp.is/XEDPhgerEeqFhHssJYoa-w/pytorch.org/docs/stable/nn.html\n",
        "        # note: in_features = size of each input sample\n",
        "        # note: out_features = size of each output sample\n",
        "        self.hiddenLayer = nn.Linear(in_features=embeddingDim,\n",
        "                                     out_features=128)\n",
        "\n",
        "        self.outputLayer = nn.Linear(in_features=128,\n",
        "                                     out_features=contextSize * vocabSize)\n",
        "\n",
        "\n",
        "    def forward(self, inputs: Tensor) -> Tensor:\n",
        "        \"\"\"\n",
        "\n",
        "        :param inputs: 1-dim tensor\n",
        "        :return:\n",
        "        \"\"\"\n",
        "        # note: -1 implies the size inferred for that index from the size of data\n",
        "        # is a tensor\n",
        "        inputEmbeddings: Tensor = self.embeddings(inputs).view((1,-1))\n",
        "\n",
        "        # output at hidden layer\n",
        "        hiddenRELUResults: Tensor = F.relu(self.hiddenLayer(inputEmbeddings))\n",
        "        # output at final layer\n",
        "        outputResults: Tensor = self.outputLayer(hiddenRELUResults)\n",
        "\n",
        "        logProbs: Tensor = F.log_softmax(input=outputResults, dim=1).view(CONTEXT_SIZE, -1)\n",
        "\n",
        "        return logProbs\n",
        "\n",
        "\n",
        "\n",
        "    def predict(self, inputStr: str, wordToIndexDict: dict) -> list:\n",
        "        \"\"\"\n",
        "\n",
        "        :param inputStr: single word (targetword) from which we predict context list\n",
        "        :return:\n",
        "        \"\"\"\n",
        "        contextIndices: Tensor = torch.tensor([wordToIndexDict[inputStr]],\n",
        "                                              dtype=torch.long)\n",
        "\n",
        "        logProbs: Tensor = self.forward(contextIndices)\n",
        "\n",
        "        # get index of maximum log probability from output layer\n",
        "        #iMaxLogProbs: Tensor = torch.argmax(logProbs)\n",
        "\n",
        "        # returns log probs sorted in descending order and\n",
        "        # iSorted = indices of elements in the input tensor\n",
        "        logProbsDecr, iSorted = logProbs.sort(descending=True)\n",
        "\n",
        "        # same as logs.squeeze()[:3] (erasing first dimension)\n",
        "        # since the tensor is [[...]]\n",
        "\n",
        "        # getting sorted indices, the first one in each row of iSorted\n",
        "        # (there are three rows in the iSorted, 2-dim tensor)\n",
        "        numRows, numCols = iSorted.size()\n",
        "        iFirstCol = 0\n",
        "        indices = [iSorted[r][iFirstCol] for r in np.arange(0, numRows)]\n",
        "\n",
        "\n",
        "        keyIndFilteredPairs: list = []\n",
        "\n",
        "        for i in indices:\n",
        "\n",
        "            keyIndFilteredPairs.append( [ (key, index)\n",
        "                                       for key, index in wordToIndexDict.items()\n",
        "                                       if index == i ]  )\n",
        "\n",
        "        return keyIndFilteredPairs\n",
        "\n",
        "    def printLayerParamers(self):\n",
        "        for name, child in self.named_children():\n",
        "            print(\"\\nname = {}, child = {}\".format(name, child))\n",
        "\n",
        "            # TODO: type of child?\n",
        "            for names, params in child.named_parameters():\n",
        "                print(\"names = {}, params = {}\".format(names, params))\n",
        "                print(\"params.size() = {}\".format(params.size()))\n",
        "\n",
        "\n",
        "    def writeEmbeddingToFile(self, filename: str):\n",
        "        for i in self.embeddings.parameters():\n",
        "            weights = i.data.numpy()\n",
        "        np.save(filename, weights)"
      ],
      "execution_count": 0,
      "outputs": []
    },
    {
      "cell_type": "code",
      "metadata": {
        "title": "codecell",
        "id": "yj89ed-4nPdN",
        "colab_type": "code",
        "colab": {
          "base_uri": "https://localhost:8080/",
          "height": 70
        },
        "outputId": "36fd0d71-6de5-48f0-90c5-db80e48b59d5"
      },
      "source": [
        "# Trial : testing out the predict() inner workings\n",
        "\n",
        "inputStr = \"psychologically\"\n",
        "\n",
        "contextIndices: Tensor = torch.tensor([wordToIndex[inputStr]],\n",
        "                                      dtype=torch.long)\n",
        "print(\"contextIndices: \", contextIndices)\n",
        "print(\"contextIndices dim: \", contextIndices.dim())\n",
        "print(\"contextIndices size: \", contextIndices.size())\n",
        "\n"
      ],
      "execution_count": 14,
      "outputs": [
        {
          "output_type": "stream",
          "text": [
            "contextIndices:  tensor([137])\n",
            "contextIndices dim:  1\n",
            "contextIndices size:  torch.Size([1])\n"
          ],
          "name": "stdout"
        }
      ]
    },
    {
      "cell_type": "code",
      "metadata": {
        "title": "codecell",
        "id": "N-JICdzhnPdP",
        "colab_type": "code",
        "colab": {
          "base_uri": "https://localhost:8080/",
          "height": 337
        },
        "outputId": "f2bb3783-3572-4c56-8037-9494f288aa30"
      },
      "source": [
        "dummyModel = SkipGramModeler(vocabSize=len(vocabulary), embeddingDim=EMBEDDING_DIM,\n",
        "                         contextSize=CONTEXT_SIZE)\n",
        "\n",
        "logProbs: Tensor = dummyModel(contextIndices)\n",
        "\n",
        "\n",
        "# returns log probs sorted in descending order and\n",
        "# iSorted = indices of elements in the input tensor\n",
        "logProbsDecr, iSorted = logProbs.sort(descending=True)\n",
        "print(\"logProbsDecr dim : \", logProbsDecr.dim())\n",
        "print(\"logProbsDecr shape : \", logProbsDecr.shape)\n",
        "print(\"logProbsDecr squeezed: \", logProbsDecr.squeeze()[:, :5])\n",
        "print(\"logProbsDecr squeezed dim :  \", logProbsDecr.squeeze().dim())\n",
        "print(\"logProbsDecr squeezed shape: \", logProbsDecr.squeeze().shape)\n",
        "\n",
        "print(\"\\niSorted dim: \", iSorted.dim())\n",
        "# note: in this case, squeezing is same as the original tensor; has no effect\n",
        "print(\"iSorted: \", iSorted[:, :5])\n",
        "\n",
        "logProbsDecr = logProbsDecr.squeeze()   # logProbsDecr[0][:3]\n",
        "iSorted = iSorted.squeeze()\n",
        "\n",
        "\n",
        "\n",
        "# getting sorted indices, the first one in each row of iSorted\n",
        "# (there are three rows in the iSorted, 2-dim tensor)\n",
        "numRows, numCols = iSorted.size()\n",
        "iFirstCol = 0\n",
        "indices = [iSorted[r][iFirstCol] for r in np.arange(0, numRows)]\n",
        "\n",
        "print(\"\\nindices = \", indices)\n",
        "\n",
        "\n",
        "# it length will be numRows of iSorted (numRows = 3)\n",
        "# which equals CONTEXT_SIZE\n",
        "keyIndFilteredPairs: list = []\n",
        "\n",
        "for i in indices:\n",
        "\n",
        "    keyIndFilteredPairs.append( [ (key, index)\n",
        "                                  for key, index in wordToIndex.items()\n",
        "                                  if index == i ]  )\n",
        "\n",
        "print(\"\\nlength of key,ind pairs: \", len(keyIndFilteredPairs))\n",
        "print(\"keyIndFilteredPairs: \", keyIndFilteredPairs)"
      ],
      "execution_count": 15,
      "outputs": [
        {
          "output_type": "stream",
          "text": [
            "logProbsDecr dim :  2\n",
            "logProbsDecr shape :  torch.Size([3, 195])\n",
            "logProbsDecr squeezed:  tensor([[-5.7581, -5.7919, -5.8080, -5.8146, -5.8202],\n",
            "        [-5.5920, -5.6021, -5.6844, -5.7157, -5.7189],\n",
            "        [-5.6294, -5.6362, -5.6638, -5.6691, -5.7091]],\n",
            "       grad_fn=<SliceBackward>)\n",
            "logProbsDecr squeezed dim :   2\n",
            "logProbsDecr squeezed shape:  torch.Size([3, 195])\n",
            "\n",
            "iSorted dim:  2\n",
            "iSorted:  tensor([[107,  95,  74,  63,  11],\n",
            "        [142, 106, 100,  10,  93],\n",
            "        [167,   1,  44,   9,   8]])\n",
            "\n",
            "indices =  [tensor(107), tensor(142), tensor(167)]\n",
            "\n",
            "length of key,ind pairs:  3\n",
            "keyIndFilteredPairs:  [[('traveling', 107)], [('outside', 142)], [('Foundation),', 167)]]\n"
          ],
          "name": "stdout"
        }
      ]
    },
    {
      "cell_type": "markdown",
      "metadata": {
        "title": "markdown",
        "id": "qlOBRZngnPdR",
        "colab_type": "text"
      },
      "source": [
        "# Step 7: Train the Skip-Gram Model\n",
        "Training the model requires the following steps:\n",
        "\n",
        "1. Convert the context words into integer indices using the `wordToIndex` dictionary, and make their type a `Tensor`.\n",
        "2. Set the model gradients to zero so they do not accumulate artificially (feature of pytorch)\n",
        "3. Do the `forward` pass of the Skip-Gram model, resulting in the log probabilities of the context words.\n",
        "4. For each word in the correct target context wrods, convert it to an index using the `wordToIndex` dictionary and wrap it in a `Tensor` type.\n",
        "5. Compute the loss between the log probabilities and target contexts.\n",
        "6. Do the `backward` pass over the neural network to update the gradients by calling `loss.backward()`.\n",
        "7. Do one step using the optimizer, so that weights are updated using stochastic gradient descent.\n",
        "8. Increment the total loss by this epoch's current loss."
      ]
    },
    {
      "cell_type": "code",
      "metadata": {
        "title": "codecell",
        "id": "2FAQN9YynPdS",
        "colab_type": "code",
        "colab": {
          "base_uri": "https://localhost:8080/",
          "height": 248
        },
        "outputId": "9dd9195f-0aa7-40dc-d74d-47150cf3ae91"
      },
      "source": [
        "%time\n",
        "\n",
        "learningRate = 0.001\n",
        "NUM_EPOCHS = 550\n",
        "\n",
        "losses = []\n",
        "lossFunction = nn.NLLLoss()\n",
        "skipGramModel = SkipGramModeler(vocabSize = len(vocabulary),\n",
        "                        embeddingDim=EMBEDDING_DIM,\n",
        "                        contextSize=CONTEXT_SIZE)\n",
        "# Using the stochastic-gradient descent optimizer.\n",
        "optimizer = optim.SGD(skipGramModel.parameters(), lr = learningRate)\n",
        "\n",
        "# Preserve the data by freezing the embedding layer\n",
        "#skipGramModel.freezeLayer(\"embeddingsSkipGram\")\n",
        "\n",
        "for epoch in range(NUM_EPOCHS):\n",
        "    totalLoss = 0\n",
        "\n",
        "    # note: skipgram predicts CONTEXT from single word\n",
        "    # while CBOW predicts single TARGET word from CONTEXT list\n",
        "    for contextWord, targetContext in ngrams:\n",
        "\n",
        "        # Step 1: Prepare the inputs to be passed to the model (means\n",
        "        # turn the words into integer indices and wrap them in tensors)\n",
        "        contextIndices: Tensor = torch.tensor([wordToIndex[contextWord]],\n",
        "                                              dtype=torch.long)\n",
        "\n",
        "        # Step 2:\n",
        "        skipGramModel.zero_grad()\n",
        "\n",
        "        # Step 3: run forward pass, getting log probs over the next words\n",
        "        logProbs = skipGramModel(contextIndices)\n",
        "\n",
        "        # Step 4: compute loss, where target word is wrapped in a tensor\n",
        "        targetContextTensor: Tensor = torch.tensor([wordToIndex[w] for w in targetContext],\n",
        "                                           dtype=torch.long)\n",
        "\n",
        "        loss = lossFunction(logProbs, targetContextTensor)\n",
        "\n",
        "        # Step 5: do backward pass and update gradient\n",
        "        loss.backward()\n",
        "        optimizer.step()\n",
        "\n",
        "        totalLoss += loss.item()\n",
        "\n",
        "    if(epoch % 50 == 0):\n",
        "        print(\"Epoch = {}, Total loss = {}\".format(epoch, totalLoss))\n",
        "\n",
        "    losses.append(totalLoss)"
      ],
      "execution_count": 16,
      "outputs": [
        {
          "output_type": "stream",
          "text": [
            "CPU times: user 2 µs, sys: 0 ns, total: 2 µs\n",
            "Wall time: 4.53 µs\n",
            "Epoch = 0, Total loss = 1640.9999227523804\n",
            "Epoch = 50, Total loss = 1518.4927296638489\n",
            "Epoch = 100, Total loss = 1414.1443753242493\n",
            "Epoch = 150, Total loss = 1292.492782831192\n",
            "Epoch = 200, Total loss = 1149.2484674453735\n",
            "Epoch = 250, Total loss = 998.4024060964584\n",
            "Epoch = 300, Total loss = 857.8129457235336\n",
            "Epoch = 350, Total loss = 742.0071568489075\n",
            "Epoch = 400, Total loss = 655.678228020668\n",
            "Epoch = 450, Total loss = 594.8056415319443\n",
            "Epoch = 500, Total loss = 552.3266983032227\n"
          ],
          "name": "stdout"
        }
      ]
    },
    {
      "cell_type": "code",
      "metadata": {
        "lines_to_next_cell": 0,
        "title": "codecell",
        "id": "PTLbd3GtnPdV",
        "colab_type": "code",
        "colab": {}
      },
      "source": [
        "skipGramModel.predict(inputStr = \"psychologically\", wordToIndexDict=wordToIndex)\n",
        "skipGramModel.writeEmbeddingToFile(filename = pth + \"/src/NLPstudy/SkipGramModel/rajamohan_skipgram_embeddings.txt\")"
      ],
      "execution_count": 0,
      "outputs": []
    },
    {
      "cell_type": "code",
      "metadata": {
        "title": "codecell",
        "id": "_NxCQQk9nPdY",
        "colab_type": "code",
        "colab": {
          "base_uri": "https://localhost:8080/",
          "height": 195
        },
        "outputId": "a960c08f-ddd4-4a82-e603-0ca8ab630a70"
      },
      "source": [
        "clusterEmbeddings(filename = pth + \"/src/NLPstudy/SkipGramModel/rajamohan_skipgram_embeddings.txt.npy\", numClusters=5)"
      ],
      "execution_count": 19,
      "outputs": [
        {
          "output_type": "stream",
          "text": [
            "3\n",
            "shaming\n",
            "28\n",
            "victims\n",
            "191\n",
            "It\n",
            "18\n",
            "book,\n",
            "87\n",
            "Silva,\n"
          ],
          "name": "stdout"
        }
      ]
    },
    {
      "cell_type": "code",
      "metadata": {
        "id": "eiVCOqssslbV",
        "colab_type": "code",
        "colab": {}
      },
      "source": [
        ""
      ],
      "execution_count": 0,
      "outputs": []
    }
  ]
}
