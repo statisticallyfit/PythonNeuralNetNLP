{
 "cells": [
  {
   "cell_type": "markdown",
   "metadata": {
    "collapsed": true
   },
   "source": [
    "Source: [xssChauhan/word2vec] (https://github.com/xssChauhan/word2vec/blob/master/pytorch/CBOW.ipynb)"
   ]
  },
  {
   "cell_type": "code",
   "execution_count": 2,
   "metadata": {},
   "outputs": [],
   "source": [
    "import torch\n",
    "import torch.nn as nn\n",
    "import torch.optim as optim\n",
    "\n",
    "import torch.nn.functional as F\n",
    "from torch.autograd import Variable"
   ]
  },
  {
   "cell_type": "code",
   "execution_count": 3,
   "metadata": {},
   "outputs": [],
   "source": [
    "from nltk.tokenize import word_tokenize\n",
    "\n",
    "# Source for text excerpt: \n",
    "# https://www.advancedwriters.com/blog/descriptive-essay-on-nature/\n",
    "\n",
    "text = '''Man has appreciated nature and still does. He is both challenged \n",
    "and pacified by it. Not only is nature beautiful, it is every changing through \n",
    "different seasons, or timelessly unchanged in it fixed elements such as its \n",
    "great mountain ranges. It has a wild beauty to it. There is a valley in central \n",
    "Africa that when you are there it seems as if you went back in time. This is \n",
    "the Zambezi river valley that starts in the wetlands of the Okavango swamps. \n",
    "The valley is 1500 miles of wilderness, totally unspoiled by man’s encroachment. \n",
    "You see only the wildness of nature. The river flows proudly through the valley. \n",
    "It is a surging force as it goes through rocky rapids, or wide and tranquil where \n",
    "it finds space. On its banks are mud flats and reeds, where crocodiles lie in the sun, \n",
    "and further away dense trees and forests of Mopani trees, interspersed with huge grey \n",
    "prehistoric baobab trees with branches that look like roots. In the day, the sun is a \n",
    "burning yellow fire, and everything wilts under it. Even the wild life finds shade and \n",
    "lies down. As the evening comes the setting sun paints the sky with streaks of pink and \n",
    "orange, and the animals emerge.\n",
    "\n",
    "They come individually or in groups. In the water large hippopotamus frolic, \n",
    "not intimidated by the presence of crocodiles. Nervous buck come dancing to \n",
    "the river.\n",
    "\n",
    "Large tan colored kudu, as tall as a horse, with their white flashes and meter \n",
    "long spiral horns, smaller dark brown impala with short spiked horns, tiny \n",
    "brown duiker.\n",
    "\n",
    "They carefully approach; stopping to be sure, no predators are near. They dip \n",
    "their heads gracefully to drink. Some suddenly will jump and struggle as a \n",
    "crocodile grabs it and drags it under the water. Elephants come and splash \n",
    "around squirting water over themselves with their long trunks, or rolling in \n",
    "the mud, which is to them a treat.\n",
    "\n",
    "Lions eventually arrive in a pride, causing the buck to move nervously away. \n",
    "The dusk gives way to the sudden blackness of the night sky studded with silver \n",
    "stars and a huge silver moon. Soon the animals were gone; the river flows on \n",
    "into the night.\n",
    "\n",
    "Not far away there was a noise like thunder that sounded constantly. In the \n",
    "early morning, flowing the river alive and sparkling in the sun, crocodiles \n",
    "basking in the warmth, animals drinking while it was still cool, the river \n",
    "broadened and flowed in channels around green islands. Then it fell down a \n",
    "100-meter chasm as a magnificent waterfall, 1708 meters wide. As the river \n",
    "fell down the chasm the sound was as thunder, and water spray rose high in \n",
    "the sky, white like the smoke of a bush fire. The bush is like a tropical \n",
    "forest as the spray rains down on it continually, and it is untouched by man. \n",
    "From here, it flows into a great lake and thence to the Indian Ocean.''' \\\n",
    "    .lower() # note no splitting here like in CBOW\n",
    "\n",
    "\n",
    "# NOTE: must download nltk's punkt tokenizer (technicalities evernote) for this to work. \n",
    "words = word_tokenize(text)\n",
    "\n",
    "vocabulary = set(words)\n",
    "wordToIndex = {w:i for i, w in enumerate(vocabulary)}\n",
    "indexToWord = {i:w for i, w in enumerate(vocabulary)}"
   ]
  },
  {
   "cell_type": "code",
   "execution_count": null,
   "metadata": {},
   "outputs": [
    {
     "name": "stdout",
     "output_type": "stream",
     "text": [
      "556\n['man', 'has', 'appreciated', 'nature', 'and', 'still', 'does', '.', 'he', 'is']\n"
     ]
    }
   ],
   "source": [
    "print(len(words)) # tokenized words\n",
    "print(words[:50])"
   ]
  },
  {
   "cell_type": "code",
   "execution_count": 3,
   "metadata": {},
   "outputs": [
    {
     "name": "stdout",
     "output_type": "stream",
     "text": [
      "262\n{'surging': 0, 'carefully': 1, 'warmth': 2, 'splash': 3, 'encroachment': 4, 'comes': 5, 'spiral': 6, 'continually': 7, 'space': 8, 'totally': 9, 'treat': 10, 'channels': 11, 'further': 12, 'night': 13, ';': 14, 'huge': 15, 'way': 16, 'there': 17, 'dusk': 18, 'duiker': 19, 'finds': 20, 'away': 21, 'islands': 22, 'its': 23, 'approach': 24, 'or': 25, '1500': 26, 'drags': 27, 'come': 28, 'tall': 29, 'chasm': 30, 'spray': 31, 'baobab': 32, 'short': 33, 'wilts': 34, 'groups': 35, 'smoke': 36, 'like': 37, 'dark': 38, 'hippopotamus': 39, 'appreciated': 40, 'timelessly': 41, 'drink': 42, 'elephants': 43, 'smaller': 44, 'causing': 45, 'crocodiles': 46, 'zambezi': 47, 'paints': 48, 'presence': 49, 'nature': 50, 'wild': 51, '1708': 52, 'when': 53, 'burning': 54, 'individually': 55, 'drinking': 56, 'swamps': 57, 'pacified': 58, 'okavango': 59, 'gives': 60, '.': 61, 'setting': 62, 'sounded': 63, 'will': 64, 'force': 65, 'tranquil': 66, 'with': 67, 'brown': 68, 'flowed': 69, 'rocky': 70, 'day': 71, 'seasons': 72, 'everything': 73, 'if': 74, 'mud': 75, 'high': 76, 'fire': 77, 'streaks': 78, 'themselves': 79, 'cool': 80, 'morning': 81, 'white': 82, 'lie': 83, 'fell': 84, 'even': 85, 'sun': 86, 'under': 87, 'kudu': 88, 'some': 89, 'dense': 90, 'soon': 91, 'were': 92, 'sparkling': 93, 'suddenly': 94, 'emerge': 95, 'goes': 96, 'dip': 97, 'trunks': 98, 'different': 99, 'elements': 100, 'rains': 101, 'then': 102, 'ocean': 103, 'impala': 104, 'was': 105, 'from': 106, 'through': 107, 'wilderness': 108, 'flashes': 109, 'eventually': 110, 'heads': 111, 'proudly': 112, 'africa': 113, 'magnificent': 114, 'rapids': 115, 'life': 116, 'near': 117, 'by': 118, 'around': 119, 'lions': 120, 'gone': 121, 'spiked': 122, 'they': 123, 'basking': 124, 'into': 125, 'stars': 126, 'in': 127, 'rolling': 128, 'branches': 129, 'large': 130, 'mopani': 131, 'lake': 132, 'tiny': 133, 'nervous': 134, 'meters': 135, 'thence': 136, 'which': 137, '’': 138, 'predators': 139, 'and': 140, 'tan': 141, 'reeds': 142, 'every': 143, 'that': 144, 'prehistoric': 145, 'pride': 146, 'sky': 147, 'forest': 148, 'look': 149, 'changing': 150, 'shade': 151, '100-meter': 152, 'he': 153, 'alive': 154, 'on': 155, 'water': 156, 'fixed': 157, 'over': 158, 'broadened': 159, 'buck': 160, 'to': 161, 'them': 162, 'the': 163, 'silver': 164, 'their': 165, 'constantly': 166, 'back': 167, 'beauty': 168, 'squirting': 169, 'stopping': 170, 'arrive': 171, 'horse': 172, 'challenged': 173, 'long': 174, 'animals': 175, 'jump': 176, 'pink': 177, 'only': 178, 'thunder': 179, 'unchanged': 180, 'miles': 181, 'flats': 182, 'be': 183, 'mountain': 184, 'has': 185, 'are': 186, 'beautiful': 187, 'colored': 188, 'time': 189, 'you': 190, 'meter': 191, 'starts': 192, 'valley': 193, 'roots': 194, 'both': 195, 'grabs': 196, 'banks': 197, 'wide': 198, 'down': 199, 'yellow': 200, 'great': 201, 'horns': 202, 'rose': 203, 'such': 204, 'wetlands': 205, 'sound': 206, 'tropical': 207, 'untouched': 208, 'here': 209, 'not': 210, 'of': 211, 'dancing': 212, 'seems': 213, 'orange': 214, 'intimidated': 215, 'evening': 216, 'went': 217, 'nervously': 218, 'this': 219, 'waterfall': 220, 'does': 221, 'early': 222, 'trees': 223, 'where': 224, 'grey': 225, 'moon': 226, 'while': 227, 's': 228, 'flows': 229, 'crocodile': 230, 'gracefully': 231, 'blackness': 232, ',': 233, 'flowing': 234, 'move': 235, 'is': 236, 'man': 237, 'central': 238, 'as': 239, 'wildness': 240, 'see': 241, 'forests': 242, 'ranges': 243, 'far': 244, 'noise': 245, 'it': 246, 'green': 247, 'frolic': 248, 'struggle': 249, 'interspersed': 250, 'lies': 251, 'river': 252, 'indian': 253, 'sudden': 254, 'a': 255, 'no': 256, 'sure': 257, 'unspoiled': 258, 'still': 259, 'studded': 260, 'bush': 261}\n"
     ]
    }
   ],
   "source": [
    "print(len(wordToIndex))\n",
    "print(wordToIndex)"
   ]
  },
  {
   "cell_type": "code",
   "execution_count": 4,
   "metadata": {},
   "outputs": [],
   "source": [
    "from types import SimpleNamespace\n",
    "import random\n",
    "random.seed(42)"
   ]
  },
  {
   "cell_type": "code",
   "execution_count": 5,
   "metadata": {},
   "outputs": [],
   "source": [
    "def generateNegativeSamples(targetIndex, indexRange, k):\n",
    "    \"\"\"\n",
    "    \n",
    "    :param targetIndex: \n",
    "    :param indexRange: ranges of index to select from\n",
    "    :param k: \n",
    "    :return: \n",
    "    \"\"\"\n",
    "    \n",
    "    randomIndicesSample = random.sample(population=indexRange, k=6)\n",
    "    \n",
    "    return SimpleNamespace(\n",
    "        target=wordToIndex[words[targetIndex]], \n",
    "        context=[wordToIndex[word] for word in [words[index] for index in randomIndicesSample]],\n",
    "        label = 0\n",
    "    )"
   ]
  },
  {
   "cell_type": "code",
   "execution_count": 6,
   "metadata": {},
   "outputs": [],
   "source": [
    "def textToTrain(words, contextWindowSize=2, k=6):\n",
    "    \"\"\"\n",
    "    Make training data from words. \n",
    "    For 1 positive sample, generate `k` negative samples\n",
    "    \n",
    "    :param words: \n",
    "    :param contextWindowSize: \n",
    "    :param k: \n",
    "    :return: \n",
    "    \"\"\"\n",
    "    # TODO: are these samples words / tensors??\n",
    "    posSamples = []\n",
    "    negSamples = []\n",
    "    \n",
    "    contextRange = range(-contextWindowSize, contextWindowSize + 1)\n",
    "    \n",
    "    for currIndex in range(contextWindowSize, len(words) - contextWindowSize):\n",
    "        \n",
    "        # Create positive samples\n",
    "        for relativeIndex in contextRange:\n",
    "            if currIndex + relativeIndex != currIndex:\n",
    "                posSamples.append(SimpleNamespace(\n",
    "                    target=wordToIndex[words[currIndex]],\n",
    "                    context=wordToIndex[words[currIndex + relativeIndex]],\n",
    "                    label = 1\n",
    "                ))\n",
    "                \n",
    "        # Create negative samples\n",
    "        for _ in contextRange:\n",
    "            \n",
    "            randNum = random.random()\n",
    "            \n",
    "            leftSideIndexRange = None\n",
    "            rightSideIndexRange = None \n",
    "            \n",
    "            # Select from left hand side of target\n",
    "            if (currIndex - contextWindowSize - 2*k) > 0:\n",
    "                # This also accounts for the fact that there should be\n",
    "                # enough samples on the LHS to select from\n",
    "                leftSideIndexRange = range(0, currIndex - contextWindowSize)\n",
    "                \n",
    "            if (currIndex + contextWindowSize + 2*k) < len(words):\n",
    "                # If random value is >= 0.5 or there are not enough samples\n",
    "                # on the LHS, then ...\n",
    "                rightSideIndexRange = range(currIndex + contextWindowSize, len(words))\n",
    "                \n",
    "            if leftSideIndexRange and rightSideIndexRange:\n",
    "                # pick the left or right arbitrarily\n",
    "                indexRange = random.choice([leftSideIndexRange, rightSideIndexRange])\n",
    "            elif leftSideIndexRange:\n",
    "                indexRange = leftSideIndexRange\n",
    "            else:\n",
    "                indexRange = rightSideIndexRange\n",
    "                \n",
    "            negSamples.append(\n",
    "                generateNegativeSamples(\n",
    "                    targetIndex=currIndex, \n",
    "                    indexRange=indexRange, \n",
    "                    k=k\n",
    "                )\n",
    "            )\n",
    "            \n",
    "    return posSamples, negSamples"
   ]
  },
  {
   "cell_type": "code",
   "execution_count": 7,
   "metadata": {},
   "outputs": [
    {
     "name": "stdout",
     "output_type": "stream",
     "text": [
      "[namespace(context=237, label=1, target=40), namespace(context=185, label=1, target=40), namespace(context=50, label=1, target=40), namespace(context=140, label=1, target=40), namespace(context=185, label=1, target=50), namespace(context=40, label=1, target=50), namespace(context=140, label=1, target=50), namespace(context=259, label=1, target=50), namespace(context=40, label=1, target=140), namespace(context=50, label=1, target=140)]\n\n\n[namespace(context=[72, 233, 211, 175, 197, 241], label=0, target=40), namespace(context=[236, 163, 157, 127, 9, 140], label=0, target=40), namespace(context=[25, 20, 81, 233, 69, 68], label=0, target=40), namespace(context=[195, 211, 163, 233, 68, 90], label=0, target=40), namespace(context=[67, 241, 233, 260, 138, 146], label=0, target=40), namespace(context=[233, 168, 152, 103, 70, 147], label=0, target=50), namespace(context=[183, 160, 246, 236, 246, 25], label=0, target=50), namespace(context=[211, 163, 241, 67, 104, 61], label=0, target=50), namespace(context=[218, 250, 16, 171, 86, 82], label=0, target=50), namespace(context=[47, 144, 161, 46, 67, 255], label=0, target=50)]\n"
     ]
    }
   ],
   "source": [
    "posData, negData = textToTrain(words)\n",
    "\n",
    "print(posData[:10])\n",
    "print(\"\\n\")\n",
    "print(negData[:10])"
   ]
  },
  {
   "cell_type": "code",
   "execution_count": 8,
   "metadata": {},
   "outputs": [],
   "source": [
    "def unpackDataPoint(dataPoint):\n",
    "    return dataPoint.target, dataPoint.context, dataPoint.label \n",
    "\n",
    "def dataToVariable(data, dtype=torch.LongTensor):\n",
    "    tensor = Variable(dtype(data))\n",
    "    return tensor "
   ]
  },
  {
   "cell_type": "code",
   "execution_count": 9,
   "metadata": {},
   "outputs": [],
   "source": [
    "class SkipGram(nn.Module):\n",
    "    \n",
    "    def __init__(self, vocabSize, embeddingSize):\n",
    "        super().__init__()\n",
    "        self.targetEmbedding = nn.Embedding(vocabSize, embeddingSize)\n",
    "        self.contextEmbedding = nn.Embedding(vocabSize, embeddingSize)\n",
    "        \n",
    "        \n",
    "    def forward(self, target, positiveContext, negativeContext):\n",
    "        targetTensor = dataToVariable([target])\n",
    "        posContextTensor = dataToVariable([positiveContext])\n",
    "        negContextTensor = dataToVariable([negativeContext])\n",
    "        \n",
    "        posEmbedding = self.contextEmbedding(posContextTensor)\n",
    "        negEmbedding = self.contextEmbedding(negContextTensor)\n",
    "        targetEmbedding = self.targetEmbedding(targetTensor)\n",
    "        \n",
    "        posDot = torch.matmul(posEmbedding, torch.t(targetEmbedding))\n",
    "        negDot = torch.matmul(targetEmbedding, torch.t(-negEmbedding.squeeze()))\n",
    "        \n",
    "        # Calculate the loss\n",
    "        loss = -(F.logsigmoid(posDot) + F.logsigmoid(negDot).sum())\n",
    "        \n",
    "        # Maximize the `loss`, hence, minimize the `negative loss`\n",
    "        return loss \n",
    "        "
   ]
  },
  {
   "cell_type": "code",
   "execution_count": 10,
   "metadata": {},
   "outputs": [],
   "source": [
    "# Testing the model with dummy data\n",
    "\n",
    "from torch.autograd import Variable "
   ]
  },
  {
   "cell_type": "code",
   "execution_count": 14,
   "metadata": {},
   "outputs": [
    {
     "name": "stdout",
     "output_type": "stream",
     "text": [
      "model:  SkipGram(\n  (targetEmbedding): Embedding(20, 10)\n  (contextEmbedding): Embedding(20, 10)\n)\nloss:  tensor([[6.3753]], grad_fn=<NegBackward>)\n\nnegData[1] =  namespace(context=[236, 163, 157, 127, 9, 140], label=0, target=40)\ntgt:  40\nctx:  [72, 233, 211, 175, 197, 241]\nlbl:  0\n\ntarget as variable:  tensor([40])\n"
     ]
    }
   ],
   "source": [
    "# Testing the model with dummy data\n",
    "\n",
    "posSample = 1\n",
    "negSample = [10,11,12]\n",
    "target = 0\n",
    "\n",
    "model = SkipGram(vocabSize=20, embeddingSize=10)\n",
    "loss = model(target, posSample, negSample)\n",
    "print(\"model: \", model)\n",
    "print(\"loss: \", loss)\n",
    "\n",
    "del model \n",
    "del loss\n",
    "\n",
    "print(\"\\nnegData[1] = \", negData[1])\n",
    "tgt, ctx, lbl = unpackDataPoint(negData[0])\n",
    "print(\"tgt: \", tgt)\n",
    "print(\"ctx: \", ctx)\n",
    "print(\"lbl: \", lbl)\n",
    "\n",
    "print(\"\\ntarget as variable: \", dataToVariable([tgt]))"
   ]
  },
  {
   "cell_type": "code",
   "execution_count": 16,
   "metadata": {},
   "outputs": [
    {
     "name": "stdout",
     "output_type": "stream",
     "text": [
      "Total Loss is:  99797.25351513142\n"
     ]
    },
    {
     "name": "stdout",
     "output_type": "stream",
     "text": [
      "Total Loss is:  42779.99877175875\n"
     ]
    },
    {
     "name": "stdout",
     "output_type": "stream",
     "text": [
      "Total Loss is:  22691.12763435021\n"
     ]
    },
    {
     "name": "stdout",
     "output_type": "stream",
     "text": [
      "Total Loss is:  12783.476384799927\n"
     ]
    },
    {
     "name": "stdout",
     "output_type": "stream",
     "text": [
      "Total Loss is:  7583.480258860625\n"
     ]
    },
    {
     "name": "stdout",
     "output_type": "stream",
     "text": [
      "Total Loss is:  4957.011727543548\n"
     ]
    },
    {
     "name": "stdout",
     "output_type": "stream",
     "text": [
      "Total Loss is:  3659.5537886896636\n"
     ]
    },
    {
     "name": "stdout",
     "output_type": "stream",
     "text": [
      "Total Loss is:  3047.1999963966664\n"
     ]
    },
    {
     "name": "stdout",
     "output_type": "stream",
     "text": [
      "Total Loss is:  2753.285797930206\n"
     ]
    },
    {
     "name": "stdout",
     "output_type": "stream",
     "text": [
      "Total Loss is:  2625.3124019170646\n"
     ]
    },
    {
     "name": "stdout",
     "output_type": "stream",
     "text": [
      "CPU times: user 18min 21s, sys: 13min 32s, total: 31min 53s\nWall time: 8min 26s\n"
     ]
    }
   ],
   "source": [
    "%%time\n",
    "\n",
    "\n",
    "\n",
    "## Train the model\n",
    "\n",
    "learningRate = 0.001\n",
    "NUM_EPOCHS = 100\n",
    "\n",
    "model = SkipGram(vocabSize=len(vocabulary), embeddingSize=300)\n",
    "optimizer = optim.SGD(model.parameters(), lr = learningRate)\n",
    "\n",
    "losses = []\n",
    "\n",
    "\n",
    "\n",
    "for epoch in range(NUM_EPOCHS):\n",
    "    totalLoss = 0\n",
    "    for pos, neg in zip(posData, negData):\n",
    "        posTgt, posCtx, posLbl = unpackDataPoint(pos)\n",
    "        negTgt, negCtx, negLbl = unpackDataPoint(neg)\n",
    "        \n",
    "        model.zero_grad()\n",
    "        loss = model(target=negTgt, positiveContext=posCtx, negativeContext=negCtx)\n",
    "        \n",
    "        loss.backward()\n",
    "        optimizer.step()\n",
    "        \n",
    "        totalLoss += loss.item()\n",
    "        \n",
    "    if epoch % 10 == 0:\n",
    "        print(\"Total Loss is: \", totalLoss)\n",
    "        \n",
    "    losses.append(totalLoss)"
   ]
  },
  {
   "cell_type": "code",
   "execution_count": 17,
   "metadata": {},
   "outputs": [],
   "source": [
    ""
   ]
  },
  {
   "cell_type": "code",
   "execution_count": null,
   "metadata": {},
   "outputs": [],
   "source": []
  },
  {
   "cell_type": "code",
   "execution_count": null,
   "metadata": {},
   "outputs": [],
   "source": []
  },
  {
   "cell_type": "code",
   "execution_count": null,
   "metadata": {},
   "outputs": [],
   "source": []
  }
 ],
 "metadata": {
  "kernelspec": {
   "display_name": "Python 2",
   "language": "python",
   "name": "python2"
  },
  "language_info": {
   "codemirror_mode": {
    "name": "ipython",
    "version": 2
   },
   "file_extension": ".py",
   "mimetype": "text/x-python",
   "name": "python",
   "nbconvert_exporter": "python",
   "pygments_lexer": "ipython2",
   "version": "2.7.6"
  }
 },
 "nbformat": 4,
 "nbformat_minor": 0
}
