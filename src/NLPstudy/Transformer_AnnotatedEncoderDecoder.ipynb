{
 "cells": [
  {
   "cell_type": "markdown",
   "metadata": {
    "colab_type": "text",
    "id": "jsuglIZhifas"
   },
   "source": [
    "# The Annotated Encoder-Decoder with Attention\n",
    "\n",
    "Recently, Alexander Rush wrote a blog post called [The Annotated Transformer](http://nlp.seas.harvard.edu/2018/04/03/attention.html), describing the Transformer model from the paper [Attention is All You Need](https://arxiv.org/abs/1706.03762). This post can be seen as a **prequel** to that: *we will implement an Encoder-Decoder with Attention* using (Gated) Recurrent Neural Networks, very closely following the original attention-based neural machine translation paper [\"Neural Machine Translation by Jointly Learning to Align and Translate\"](https://arxiv.org/abs/1409.0473) of Bahdanau et al. (2015).\n",
    "\n",
    "The idea is that going through both blog posts will make you familiar with two very influential sequence-to-sequence architectures. If you have any comments or suggestions, please let me know on Twitter [@joostbastings](https://twitter.com/joostbastings) or e-mail me at *firstname dot lastname @ gmail dot com*."
   ]
  },
  {
   "cell_type": "markdown",
   "metadata": {
    "colab_type": "text",
    "id": "XE4dg371ifaw"
   },
   "source": [
    "# Model Architecture\n",
    "\n",
    "We will model the probability $p(Y\\mid X)$ of a target sequence $Y=(y_1, \\dots, y_{N})$ given a source sequence $X=(x_1, \\dots, x_M)$ directly with a neural network: an Encoder-Decoder.\n",
    "\n",
    "<img src=\"https://github.com/bastings/annotated_encoder_decoder/blob/master/images/bahdanau.png?raw=1\" width=\"636\">\n",
    "\n",
    "#### Encoder\n",
    "\n",
    "The encoder reads in the source sentence (*at the bottom of the figure*) and produces a sequence of hidden states $\\mathbf{h}_1, \\dots, \\mathbf{h}_M$, one for each source word. These states should capture the meaning of a word in its context of the given sentence.\n",
    "\n",
    "We will use a bi-directional recurrent neural network (Bi-RNN) as the encoder; a Bi-GRU in particular.\n",
    "\n",
    "First of all we **embed** the source words.\n",
    "We simply look up the **word embedding** for each word in a (randomly initialized) lookup table.\n",
    "We will denote the word embedding for word $i$ in a given sentence with $\\mathbf{x}_i$.\n",
    "By embedding words, our model may exploit the fact that certain words (e.g. *cat* and *dog*) are semantically similar, and can be processed in a similar way.\n",
    "\n",
    "Now, how do we get hidden states $\\mathbf{h}_1, \\dots, \\mathbf{h}_M$? A forward GRU reads the source sentence left-to-right, while a backward GRU reads it right-to-left.\n",
    "Each of them follows a simple recursive formula: \\\n",
    "$$\\mathbf{h}_j = \\text{GRU}( \\mathbf{x}_j , \\mathbf{h}_{j - 1} )$$\n",
    "i.e. we obtain the next state from the previous state and the current input word embedding.\n",
    "\n",
    "The hidden state of the forward GRU at time step $j$ will know what words **precede** the word at that time step, but it doesn't know what words will follow. In contrast, the backward GRU will only know what words **follow** the word at time step $j$. By **concatenating** those two hidden states (*shown in blue in the figure*), we get $\\mathbf{h}_j$, which captures word $j$ in its full sentence context.\n",
    "\n",
    "\n",
    "#### Decoder\n",
    "\n",
    "The decoder (*at the top of the figure*) is a GRU with hidden state $\\mathbf{s_i}$. It follows a similar formula to the encoder, but takes one extra input $\\mathbf{c}_{i}$ (*shown in yellow*).\n",
    "\n",
    "$$\\mathbf{s}_{i} = f( \\mathbf{s}_{i - 1}, \\mathbf{y}_{i - 1}, \\mathbf{c}_i )$$\n",
    "\n",
    "Here, $\\mathbf{y}_{i - 1}$ is the previously generated target word (*not shown*).\n",
    "\n",
    "At each time step, an **attention mechanism** dynamically selects that part of the source sentence that is most relevant for predicting the current target word. It does so by comparing the last decoder state with each source hidden state. The result is a context vector $\\mathbf{c_i}$ (*shown in yellow*).\n",
    "Later the attention mechanism is explained in more detail.\n",
    "\n",
    "After computing the decoder state $\\mathbf{s}_i$, a non-linear function $g$ (which applies a [softmax](https://en.wikipedia.org/wiki/Softmax_function)) gives us the probability of the target word $y_i$ for this time step:\n",
    "\n",
    "$$ p(y_i \\mid y_{<i}, x_1^M) = g(\\mathbf{s}_i, \\mathbf{c}_i, \\mathbf{y}_{i - 1})$$\n",
    "\n",
    "Because $g$ applies a softmax, it provides a vector the size of the output vocabulary that sums to 1.0: it is a distribution over all target words. During test time, we would select the word with the highest probability for our translation.\n",
    "\n",
    "Now, for optimization, a [cross-entropy loss](https://ml-cheatsheet.readthedocs.io/en/latest/loss_functions.html#cross-entropy) is used to maximize the probability of selecting the correct word at this time step. All parameters (including word embeddings) are then updated to maximize this probability.\n",
    "\n"
   ]
  },
  {
   "cell_type": "markdown",
   "metadata": {
    "colab_type": "text",
    "id": "EFZyGFBOifax"
   },
   "source": [
    "# Prelims\n",
    "\n",
    "This tutorial requires **PyTorch >= 0.4.1** and was tested with **Python 3.6**.\n",
    "\n",
    "Make sure you have those versions, and install the packages below if you don't have them yet."
   ]
  },
  {
   "cell_type": "code",
   "execution_count": null,
   "metadata": {
    "colab": {},
    "colab_type": "code",
    "id": "QfIUMvqTifay"
   },
   "outputs": [],
   "source": [
    "#!pip install torch numpy matplotlib sacrebleu"
   ]
  },
  {
   "cell_type": "code",
   "execution_count": 12,
   "metadata": {
    "colab": {},
    "colab_type": "code",
    "id": "dsMe2Pk7ifa2",
    "outputId": "9ae1d2ca-1336-4fd5-e2f5-5666a28bd523"
   },
   "outputs": [
    {
     "data": {
      "text/plain": [
       "<torch._C.Generator at 0x7fb7e94240f0>"
      ]
     },
     "execution_count": 12,
     "metadata": {},
     "output_type": "execute_result"
    }
   ],
   "source": [
    "\n",
    "%matplotlib inline\n",
    "import numpy as np\n",
    "import torch\n",
    "import torch.nn as nn\n",
    "import torch.nn.functional as F\n",
    "import math, copy, time\n",
    "import matplotlib.pyplot as plt\n",
    "from torch.nn.utils.rnn import pack_padded_sequence, pad_packed_sequence\n",
    "from IPython.core.debugger import set_trace\n",
    "\n",
    "# we will use CUDA if it is available\n",
    "USE_CUDA = False # torch.cuda.is_available()\n",
    "#DEVICE=torch.device('cuda:0') # or set to 'cpu'\n",
    "#print(\"CUDA:\", USE_CUDA)\n",
    "#print(DEVICE)\n",
    "\n",
    "seed = 42\n",
    "np.random.seed(seed)\n",
    "torch.manual_seed(seed)\n",
    "#torch.cuda.manual_seed(seed)"
   ]
  },
  {
   "cell_type": "markdown",
   "metadata": {
    "colab_type": "text",
    "id": "yTXp4up9ifa6"
   },
   "source": [
    "# Let's start coding!\n",
    "\n",
    "## Model class\n",
    "\n",
    "Our base model class `EncoderDecoder` is very similar to the one in *The Annotated Transformer*.\n",
    "\n",
    "One difference is that our encoder also returns its final states (`encoder_final` below), which is used to initialize the decoder RNN. We also provide the sequence lengths as the RNNs require those."
   ]
  },
  {
   "cell_type": "code",
   "execution_count": 14,
   "metadata": {
    "colab": {},
    "colab_type": "code",
    "id": "h9bTDzuPifa7"
   },
   "outputs": [],
   "source": [
    "class EncoderDecoder(nn.Module):\n",
    "    \"\"\"\n",
    "    A standard Encoder-Decoder architecture. Base for this and many\n",
    "    other models.\n",
    "    \n",
    "    Arguments:\n",
    "        :param: encoder\n",
    "        :param: decoder\n",
    "        :param: sourceEmbedding: the word embedding of the source sentence\n",
    "        :param: targetEmbedding\n",
    "        :param: generator: \n",
    "        \n",
    "        \n",
    "    Returns: \n",
    "    \"\"\"\n",
    "    def __init__(self, encoder, decoder, sourceEmbedding, targetEmbedding, generator):\n",
    "        super(EncoderDecoder, self).__init__()\n",
    "        self.encoder = encoder\n",
    "        self.decoder = decoder\n",
    "        self.sourceEmbedding = sourceEmbedding\n",
    "        self.targetEmbedding = targetEmbedding\n",
    "        self.generator = generator\n",
    "\n",
    "    def forward(self, source, target, sourceMask, targetMask, sourceLengths, targetLengths):\n",
    "        \"\"\"Take in and process masked src and target sequences.\"\"\"\n",
    "        encoderHidden, encoderFinal = self.encode(source, sourceMask, sourceLengths)\n",
    "        return self.decode(encoderHidden, encoderFinal, sourceMask, target, targetMask)\n",
    "\n",
    "    def encode(self, source, sourceMask, sourceLengths):\n",
    "        return self.encoder(self.sourceEmbedding(source), sourceMask, sourceLengths)\n",
    "\n",
    "    def decode(self, encoderHidden, encoderFinal, sourceMask, target, targetMask,\n",
    "               decoderHidden=None):\n",
    "        return self.decoder(self.targetEmbedding(target), encoderHidden, encoderFinal,\n",
    "                            sourceMask, targetMask, hidden=decoderHidden)"
   ]
  },
  {
   "cell_type": "markdown",
   "metadata": {
    "colab_type": "text",
    "id": "HgTrXapVifa-"
   },
   "source": [
    "To keep things easy we also keep the `Generator` class the same.\n",
    "It simply projects the pre-output layer ($x$ in the `forward` function below) to obtain the output layer, so that the final dimension is the target vocabulary size."
   ]
  },
  {
   "cell_type": "code",
   "execution_count": 15,
   "metadata": {
    "colab": {},
    "colab_type": "code",
    "id": "3D0WIyrCifa-"
   },
   "outputs": [],
   "source": [
    "class Generator(nn.Module):\n",
    "    \"\"\"\n",
    "    Define standard linear + softmax generation step.\n",
    "    \n",
    "    Job of Generator: to project the pre-output layer  to \n",
    "    obtain the output layer, so the final dimension is the target vocabulary size. \n",
    "    \"\"\"\n",
    "    def __init__(self, hiddenSize, vocabSize):\n",
    "        super(Generator, self).__init__()\n",
    "        self.proj = nn.Linear(hiddenSize, vocabSize, bias=False)\n",
    "\n",
    "\n",
    "    def forward(self, preOutputLayer):\n",
    "        \"\"\"\n",
    "        \n",
    "        :param preOutputLayer: \n",
    "        :return: \n",
    "        \"\"\"\n",
    "        return F.log_softmax(self.proj(preOutputLayer), dim=-1)"
   ]
  },
  {
   "cell_type": "markdown",
   "metadata": {
    "colab_type": "text",
    "id": "5RKsNRajifbB"
   },
   "source": [
    "## Encoder\n",
    "\n",
    "Our encoder is a bi-directional GRU.\n",
    "\n",
    "Because we want to process multiple sentences at the same time for speed reasons (it is more effcient on GPU), we need to support **mini-batches**. Sentences in a mini-batch may have different lengths, which means that the RNN needs to unroll further for certain sentences while it might already have finished for others:\n",
    "\n",
    "```\n",
    "Example: mini-batch with 3 source sentences of different lengths (7, 5, and 3).\n",
    "End-of-sequence is marked with a \"3\" here, and padding positions with \"1\".\n",
    "\n",
    "# +---------------+\n",
    "| 4 5 9 8 7 8 3 |\n",
    "# +---------------+\n",
    "| 5 4 8 7 3 1 1 |\n",
    "# +---------------+\n",
    "| 5 8 3 1 1 1 1 |\n",
    "# +---------------+\n",
    "```\n",
    "You can see that, when computing hidden states for this mini-batch, for sentence #2 and #3 we will need to stop updating the hidden state after we have encountered \"3\". We don't want to incorporate the padding values (1s).\n",
    "\n",
    "Luckily, PyTorch has convenient helper functions called `pack_padded_sequence` and `pad_packed_sequence`.\n",
    "These functions take care of masking and padding, so that the resulting word representations are simply zeros after a sentence stops.\n",
    "\n",
    "The code below reads in a source sentence (a sequence of word embeddings) and produces the hidden states.\n",
    "It also returns a final vector, a summary of the complete sentence, by concatenating the first and the last hidden states (they have both seen the whole sentence, each in a different direction). We will use the final vector to initialize the decoder."
   ]
  },
  {
   "cell_type": "code",
   "execution_count": 16,
   "metadata": {
    "colab": {},
    "colab_type": "code",
    "id": "q2bIABEoifbC"
   },
   "outputs": [],
   "source": [
    "class Encoder(nn.Module):\n",
    "    \"\"\"Encodes a sequence of word embeddings\n",
    "    \n",
    "    The Encoder is a bidirectional GRU. \n",
    "    \n",
    "    Similar to previous one in Annotated Transformer but here Encoder also returns its\n",
    "    final states (encoderFinalStates) to initialize the decoder RNN. \n",
    "    \n",
    "    Arguments: \n",
    "        :param: inputSize:\n",
    "        :param: hiddenSize: \n",
    "        :param:numLayers: \n",
    "        :param: dropout \n",
    "    Returns: \n",
    "        sequence of hidden states h_1, ..., h_M after reading in a source sentence (a\n",
    "        sequence of word embeddings).\n",
    "    \"\"\"\n",
    "    def __init__(self, inputSize, hiddenSize, numLayers=1, dropout=0.):\n",
    "        super(Encoder, self).__init__()\n",
    "        self.num_layers = numLayers\n",
    "        self.rnn = nn.GRU(inputSize, hiddenSize, numLayers,\n",
    "                          batch_first=True, bidirectional=True, dropout=dropout)\n",
    "\n",
    "    def forward(self, wordEmbeddings, mask, lengths):\n",
    "        \"\"\"\n",
    "        Applies a bidirectional GRU to sequence of embeddings x.\n",
    "        The input mini-batch x needs to be sorted by length.\n",
    "        x should have dimensions [batch, time, dim].\n",
    "        \n",
    "        Arguments: \n",
    "            :param: wordEmbeddings = sequence of word embeddings, (was renamed from x, \n",
    "            where x_i is the word embedding for word (i). \n",
    "            :param: mask \n",
    "            :param: lengths\n",
    "            TODO: are these the sequence lengths?\n",
    "            https://hyp.is/SBrYxARqEeqYQVugq1n0_w/bastings.github.io/annotated_encoder_decoder/\n",
    "            \n",
    "        Returns: \n",
    "            the concatenated forward-backward hidden states\n",
    "        \"\"\"\n",
    "        \n",
    "        # note: pack_padded_sequence etc take care of masking and padding so the\n",
    "        # resulting word representations are zero after a sentence stops. \n",
    "        packed = pack_padded_sequence(wordEmbeddings, lengths, batch_first=True)\n",
    "        \n",
    "        # TODO: is this where we \"obtain the next state from previous state?\"\n",
    "        # https://hyp.is/scdj5gJiEeqtYhtdO0gpEw/bastings.github.io/annotated_encoder_decoder/\n",
    "        output, final = self.rnn(packed)\n",
    "        output, _ = pad_packed_sequence(output, batch_first=True)\n",
    "\n",
    "        # Building the final vector, which is a summary of the complete sentence, by\n",
    "        # concatenating the first and last hidden states, which have seen the whole\n",
    "        # sentence, each in either forward or backward direction. \n",
    "        forwardFinal = final[0:final.size(0):2] # forward-encoded word embeddings\n",
    "        backwardFinal = final[1:final.size(0):2] # backward-encoded word embeddings\n",
    "\n",
    "\n",
    "        # Need to manually concatenate the final states for both directions\n",
    "        # Final vector will be used to initialize the decoder. \n",
    "        final = torch.cat([forwardFinal, backwardFinal], dim=2)  # [num_layers, batch, 2*dim]\n",
    "\n",
    "        return output, final"
   ]
  },
  {
   "cell_type": "markdown",
   "metadata": {
    "colab_type": "text",
    "id": "M-Drf7_SifbE"
   },
   "source": [
    "### Decoder\n",
    "\n",
    "The decoder is a conditional GRU. Rather than starting with an empty state like the encoder, its initial hidden state results from a projection of the encoder final vector.\n",
    "\n",
    "#### Training\n",
    "In `forward` you can find a for-loop that computes the decoder hidden states one time step at a time.\n",
    "Note that, during training, we know exactly what the target words should be! (They are in `trg_embed`.) This means that we are not even checking here what the prediction is! We simply feed the correct previous target word embedding to the GRU at each time step. This is called teacher forcing.\n",
    "\n",
    "The `forward` function returns all decoder hidden states and pre-output vectors. Elsewhere these are used to compute the loss, after which the parameters are updated.\n",
    "\n",
    "#### Prediction\n",
    "For prediction time, for forward function is only used for a single time step. After predicting a word from the returned pre-output vector, we can call it again, supplying it the word embedding of the previously predicted word and the last state."
   ]
  },
  {
   "cell_type": "code",
   "execution_count": 29,
   "metadata": {
    "colab": {},
    "colab_type": "code",
    "id": "R-Dv5PUFifbF"
   },
   "outputs": [],
   "source": [
    "class Decoder(nn.Module):\n",
    "    \"\"\"A conditional RNN decoder with attention.\n",
    "    \n",
    "    Arguments: \n",
    "        :param: attention = the attention mechanism that selects relevant parts of source\n",
    "        sentence using hidden state.\n",
    "        :param: embeddingSize = \n",
    "        :param: hiddenSize = \n",
    "        :param:  numLayers = number of decoder layers\n",
    "        :param: dropout =  \n",
    "        \n",
    "    \"\"\"\n",
    "\n",
    "    def __init__(self, embeddingSize, hiddenSize, attention, numLayers=1, dropout=0.5,\n",
    "                 bridge=True):\n",
    "        super(Decoder, self).__init__()\n",
    "\n",
    "        self.hiddenSize = hiddenSize\n",
    "        self.numLayers = numLayers\n",
    "        self.attention = attention\n",
    "        self.dropout = dropout\n",
    "\n",
    "        self.rnn = nn.GRU(embeddingSize + 2 * hiddenSize, hiddenSize, numLayers,\n",
    "                          batch_first=True, dropout=dropout)\n",
    "\n",
    "        # to initialize from the final encoder state\n",
    "        self.bridge = nn.Linear(2 * hiddenSize, hiddenSize, bias=True) if bridge else None\n",
    "\n",
    "        self.dropout = nn.Dropout(p=dropout)\n",
    "        self.preOutputLayer = nn.Linear(hiddenSize + 2 * hiddenSize + embeddingSize,\n",
    "                                        hiddenSize, bias=False)\n",
    "\n",
    "\n",
    "    # TODO: which variable contains the hidden states? h_1, ... h_M\n",
    "    # https://hyp.is/C4gISASBEeqEyD--m5AQUw/bastings.github.io/annotated_encoder_decoder/\n",
    "    def forwardStep(self, prevEmbedding, encoderHidden, sourceMask, projKey, hidden):\n",
    "        \"\"\"\n",
    "        Perform a single decoder step (1 word). \n",
    "        Does MLP with tanh-activation taking current decoder state s_i and each encoder \n",
    "        state h_j and projects these to a single scalar value called attention energy e_ij. \n",
    "        \n",
    "        :param prevEmbedding: \n",
    "        :param encoderHidden: \n",
    "        :param sourceMask: \n",
    "        :param projKey: \n",
    "        :param hidden: \n",
    "        :return: \n",
    "        \"\"\"\n",
    "\n",
    "        # compute context vector using attention mechanism\n",
    "        #query = hidden[-1].unsqueeze(1)  # [#layers, B, D] -> [B, 1, D]\n",
    "        currDecoderState = hidden[-1].unsqueeze(1)  # [#layers, B, D] -> [B, 1, D]\n",
    "        \n",
    "        # For each time step (this method) the attention mechanism dynamically selects\n",
    "        # that part of the source sentence that is most relevant for predicting the\n",
    "        # current target word. Does so by comparing the last decoder state with \n",
    "        # each source hidden state. Result is a context vecotr. \n",
    "        context, attentionProbs = self.attention(\n",
    "            query=currDecoderState, projKey=projKey,\n",
    "            value=encoderHidden, mask=sourceMask)\n",
    "\n",
    "        # update rnn hidden state: using previous embedding, context for rnn's input\n",
    "        # and rnn gives output and next hidden state (?)\n",
    "        rnnInput = torch.cat([prevEmbedding, context], dim=2)\n",
    "        output, hidden = self.rnn(rnnInput, hidden)\n",
    "\n",
    "        preOutput = torch.cat([prevEmbedding, output, context], dim=2)\n",
    "        preOutput = self.dropout(preOutput)\n",
    "        preOutput = self.preOutputLayer(preOutput)\n",
    "\n",
    "        return output, hidden, preOutput\n",
    "\n",
    "    def forward(self, targetEmbedding, encoderHidden, encoderFinal,\n",
    "                sourceMask, targetMask, hidden=None, maxLength=None):\n",
    "        \"\"\"\n",
    "        Unroll the decoder one step at a time.\n",
    "        \n",
    "        :param targetEmbedding: contains the target words; known during training only. \n",
    "        We feed he correct previous target word embedding to the GRU at each time step\n",
    "        This is called \"teacher forcing\". \n",
    "         \n",
    "        :param encoderHidden: \n",
    "        :param encoderFinal: \n",
    "        :param sourceMask: \n",
    "        :param targetMask: \n",
    "        :param hidden: \n",
    "        :param maxLength:\n",
    "         \n",
    "        :return: the decoder hidden states and preoutput vectors, used to compute loss later.  \n",
    "        \"\"\"\n",
    "\n",
    "        # the maximum number of steps to unroll the RNN\n",
    "        if maxLength is None:\n",
    "            maxLength = targetMask.size(-1)\n",
    "\n",
    "        # initialize decoder hidden state\n",
    "        if hidden is None:\n",
    "            hidden = self.initHidden(encoderFinal)\n",
    "\n",
    "        # pre-compute projected encoder hidden states\n",
    "        # (the \"keys\" for the attention mechanism)\n",
    "        # this is only done for efficiency\n",
    "        projKey = self.attention.keyLayer(encoderHidden)\n",
    "\n",
    "        # here we store all intermediate hidden states and pre-output vectors\n",
    "        decoderStates = []\n",
    "        preOutputVectors = []\n",
    "\n",
    "        # unroll the decoder RNN for max_len steps\n",
    "        # At each time step, the attention mechanism selects the context vector by comparing\n",
    "        # the last decoder state with each source hidden state. \n",
    "        # End result is the decoder  hidden states. \n",
    "        for i in range(maxLength):\n",
    "            prevEmbedding = targetEmbedding[:, i].unsqueeze(1)\n",
    "            output, hidden, preOutput = self.forwardStep(\n",
    "              prevEmbedding, encoderHidden, sourceMask, projKey, hidden)\n",
    "            \n",
    "            # Decoder state s_i (goal) is the output produced by attention and RNN. \n",
    "            decoderStates.append(output)\n",
    "            preOutputVectors.append(preOutput)\n",
    "\n",
    "        decoderStates = torch.cat(decoderStates, dim=1)\n",
    "        preOutputVectors = torch.cat(preOutputVectors, dim=1)\n",
    "        return decoderStates, hidden, preOutputVectors  # [B, N, D]\n",
    "\n",
    "    def initHidden(self, encoderFinal):\n",
    "        \"\"\"Returns the initial decoder state,\n",
    "        conditioned on the final encoder state.\"\"\"\n",
    "\n",
    "        if encoderFinal is None:\n",
    "            return None  # start with zeros\n",
    "\n",
    "        return torch.tanh(self.bridge(encoderFinal))\n"
   ]
  },
  {
   "cell_type": "markdown",
   "metadata": {
    "colab_type": "text",
    "id": "wu6TZdhxifbI"
   },
   "source": [
    "### Attention\n",
    "\n",
    "At every time step, the decoder has access to *all* source word representations $\\mathbf{h}_1, \\dots, \\mathbf{h}_M$.\n",
    "An attention mechanism allows the model to focus on the currently most relevant part of the source sentence.\n",
    "The state of the decoder is represented by GRU hidden state $\\mathbf{s}_i$.\n",
    "So if we want to know which source word representation(s) $\\mathbf{h}_j$ are most relevant, we will need to define a function that takes those two things as input.\n",
    "\n",
    "Here we use the MLP-based, additive attention that was used in Bahdanau et al.:\n",
    "\n",
    "<img src=\"https://github.com/bastings/annotated_encoder_decoder/blob/master/images/attention.png?raw=1\" width=\"280\">\n",
    "\n",
    "\n",
    "We apply an MLP with tanh-activation to both the current decoder state $\\bf s_i$ (the *query*) and each encoder state $\\bf h_j$ (the *key*), and then project this to a single value (i.e. a scalar) to get the *attention energy* $e_{ij}$.\n",
    "\n",
    "Once all energies are computed, they are normalized by a softmax so that they sum to one:\n",
    "\n",
    "$$ \\alpha_{ij} = \\text{softmax}(\\mathbf{e}_i)[j] $$\n",
    "\n",
    "$$\\sum_j \\alpha_{ij} = 1.0$$\n",
    "\n",
    "The context vector for time step $i$ is then a weighted sum of the encoder hidden states (the *values*):\n",
    "$$\\mathbf{c}_i = \\sum_j \\alpha_{ij} \\mathbf{h}_j$$"
   ]
  },
  {
   "cell_type": "code",
   "execution_count": 30,
   "metadata": {
    "colab": {},
    "colab_type": "code",
    "id": "Ub1cynilifbI"
   },
   "outputs": [],
   "source": [
    "class BahdanauAttention(nn.Module):\n",
    "    \"\"\"Implements Bahdanau (MLP) attention\"\"\"\n",
    "\n",
    "    def __init__(self, hiddenSize, keySize=None, querySize=None):\n",
    "        \"\"\"\n",
    "        query = current decoder state, s_i\n",
    "        key = encoder state, h_j \n",
    "        \n",
    "        :param hiddenSize: \n",
    "        :param keySize: \n",
    "        :param querySize: \n",
    "        \"\"\"\n",
    "        super(BahdanauAttention, self).__init__()\n",
    "\n",
    "        # We assume a bi-directional encoder so key_size is 2*hidden_size\n",
    "        keySize = 2 * hiddenSize if keySize is None else keySize\n",
    "        querySize = hiddenSize if querySize is None else querySize\n",
    "\n",
    "        self.keyLayer = nn.Linear(keySize, hiddenSize, bias=False)\n",
    "        self.queryLayer = nn.Linear(querySize, hiddenSize, bias=False)\n",
    "        self.energyLayer = nn.Linear(hiddenSize, 1, bias=False)\n",
    "\n",
    "        # to store attention scores\n",
    "        self.alphas = None\n",
    "        \n",
    "        \n",
    "\n",
    "    def forward(self, query=None, projKey=None, value=None, mask=None):\n",
    "        \"\"\"\n",
    "        Implements attention formula using the hidden states\n",
    "        \n",
    "        :param query:  current decoder state, s_i\n",
    "        :param projKey: encoder state, h_j \n",
    "        :param value: \n",
    "        :param mask: \n",
    "        :return: \n",
    "        \"\"\"\n",
    "        assert mask is not None, \"mask is required\"\n",
    "\n",
    "        # We first project the query (the decoder state).\n",
    "        # The projected keys (the encoder states) were already pre-computated.\n",
    "        query = self.queryLayer(query)\n",
    "\n",
    "        # Calculate scores.\n",
    "        scores = self.energyLayer(torch.tanh(query + projKey))\n",
    "        scores = scores.squeeze(2).unsqueeze(1)\n",
    "\n",
    "        # Mask out invalid positions.\n",
    "        # The mask marks valid positions so we invert it using `mask & 0`.\n",
    "        scores.data.masked_fill_(mask == 0, -float('inf'))\n",
    "\n",
    "        # Turn scores to probabilities.\n",
    "        alphas = F.softmax(scores, dim=-1) # applying the softmax like in formula. \n",
    "        self.alphas = alphas\n",
    "\n",
    "        # The context vector is the weighted sum of the values.\n",
    "        # TODO: aren't they weighted sum of alphas and h_j? Thought key meant h_j not value. \n",
    "        # https://hyp.is/xT-LgASBEeqYsCeMWlUKyw/bastings.github.io/annotated_encoder_decoder/\n",
    "        contextVector = torch.bmm(alphas, value)\n",
    "\n",
    "        # context shape: [B, 1, 2D], alphas shape: [B, 1, M]\n",
    "        return contextVector, alphas"
   ]
  },
  {
   "cell_type": "markdown",
   "metadata": {
    "colab_type": "text",
    "id": "kl40SxRqifbL"
   },
   "source": [
    "## Embeddings and Softmax\n",
    "We use learned embeddings to convert the input tokens and output tokens to vectors of dimension `emb_size`.\n",
    "\n",
    "We will simply use PyTorch's [nn.Embedding](https://pytorch.org/docs/stable/nn.html?highlight=embedding#torch.nn.Embedding) class."
   ]
  },
  {
   "cell_type": "markdown",
   "metadata": {
    "colab_type": "text",
    "id": "3xBbUYs_ifbM"
   },
   "source": [
    "## Full Model\n",
    "\n",
    "Here we define a function from hyperparameters to a full model."
   ]
  },
  {
   "cell_type": "code",
   "execution_count": 31,
   "metadata": {
    "colab": {},
    "colab_type": "code",
    "id": "v7Mje4LtifbM"
   },
   "outputs": [],
   "source": [
    "def makeModel(sourceVocab, targetVocab, embeddingSize=256, hiddenSize=512, numLayers=1, dropout=0.1):\n",
    "    \"Helper: Construct a model from hyperparameters.\"\n",
    "\n",
    "    attention = BahdanauAttention(hiddenSize)\n",
    "\n",
    "    model = EncoderDecoder(\n",
    "        Encoder(embeddingSize, hiddenSize, numLayers=numLayers, dropout=dropout),\n",
    "        Decoder(embeddingSize, hiddenSize, attention, numLayers=numLayers, dropout=dropout),\n",
    "        nn.Embedding(sourceVocab, embeddingSize),\n",
    "        nn.Embedding(targetVocab, embeddingSize),\n",
    "        Generator(hiddenSize, targetVocab))\n",
    "\n",
    "    return model # model.cuda() if USE_CUDA else model"
   ]
  },
  {
   "cell_type": "markdown",
   "metadata": {
    "colab_type": "text",
    "id": "uluPbLBNifbP"
   },
   "source": [
    "# Training\n",
    "\n",
    "This section describes the training regime for our models."
   ]
  },
  {
   "cell_type": "markdown",
   "metadata": {
    "colab_type": "text",
    "id": "XzbgN0HEifbP"
   },
   "source": [
    "We stop for a quick interlude to introduce some of the tools\n",
    "needed to train a standard encoder decoder model. First we define a batch object that holds the src and target sentences for training, as well as their lengths and masks."
   ]
  },
  {
   "cell_type": "markdown",
   "metadata": {
    "colab_type": "text",
    "id": "Xn7kVAiMifbR"
   },
   "source": [
    "## Batches and Masking"
   ]
  },
  {
   "cell_type": "code",
   "execution_count": 32,
   "metadata": {
    "colab": {},
    "colab_type": "code",
    "id": "tNrMh8VgifbS"
   },
   "outputs": [],
   "source": [
    "class Batch:\n",
    "    \"\"\"Object for holding a batch of data with mask during training.\n",
    "    Input is a batch from a torch text iterator.\n",
    "    \n",
    "    Define a batch object that holds the src and target sentences for training, \n",
    "    as well as their lengths and masks.\n",
    "    \"\"\"\n",
    "    def __init__(self, source, tgt, padIndex=0):\n",
    "        \"\"\"\n",
    "        \n",
    "        :param source: source sentence \n",
    "        :param tgt:  target sentence\n",
    "        :param padIndex: \n",
    "        \"\"\"\n",
    "\n",
    "        source, sourceLengths = source\n",
    "\n",
    "        self.source = source\n",
    "        self.sourceLengths = sourceLengths\n",
    "        self.sourceMask = (source != padIndex).unsqueeze(-2)\n",
    "        self.numSeqs = source.size(0)\n",
    "\n",
    "        self.target = None\n",
    "        self.targetY = None\n",
    "        self.targetMask = None\n",
    "        self.targetLengths = None\n",
    "        self.numTokens = None\n",
    "\n",
    "        if tgt is not None:\n",
    "            tgt, tgtLens = tgt\n",
    "            self.target = tgt[:, :-1]\n",
    "            self.targetLengths = tgtLens\n",
    "            self.targetY = tgt[:, 1:]\n",
    "            self.targetMask = (self.targetY != padIndex)\n",
    "            self.numTokens = (self.targetY != padIndex).data.sum().item()\n",
    "\n",
    "        #if USE_CUDA:\n",
    "        #    self.source = self.source.cuda()\n",
    "        #    self.sourceMask = self.sourceMask.cuda()\n",
    "\n",
    "        #    if tgt is not None:\n",
    "        #        self.target = self.target.cuda()\n",
    "        #        self.targetY = self.targetY.cuda()\n",
    "        #        self.targetMask = self.targetMask.cuda()\n"
   ]
  },
  {
   "cell_type": "markdown",
   "metadata": {
    "colab_type": "text",
    "id": "VnrhT4WTifbV"
   },
   "source": [
    "## Training Loop\n",
    "The code below trains the model for 1 epoch (=1 pass through the training data)."
   ]
  },
  {
   "cell_type": "code",
   "execution_count": 33,
   "metadata": {
    "colab": {},
    "colab_type": "code",
    "id": "0kPb7k12ifbV"
   },
   "outputs": [],
   "source": [
    "def runEpoch(dataIter, model, lossCompute, printEvery=50):\n",
    "    \"\"\"Standard Training and Logging Function \n",
    "    Trains the model for 1 epoch (one pass through training data) \n",
    "    \"\"\"\n",
    "\n",
    "    start = time.time()\n",
    "    numTotalTokens = 0\n",
    "    totalLoss = 0\n",
    "    printTokens = 0\n",
    "\n",
    "    for i, batch in enumerate(dataIter, 1):\n",
    "\n",
    "        out, _, preOutput = model.forward(batch.source, batch.target,\n",
    "                                           batch.sourceMask, batch.targetMask,\n",
    "                                           batch.sourceLengths, batch.targetLengths)\n",
    "        loss = lossCompute(preOutput, batch.targetY, batch.numSeqs)\n",
    "        totalLoss += loss\n",
    "        numTotalTokens += batch.numTokens\n",
    "        printTokens += batch.numTokens\n",
    "\n",
    "        if model.training and i % printEvery == 0:\n",
    "            elapsed = time.time() - start\n",
    "            print(\"Epoch Step: %d Loss: %f Tokens per Sec: %f\" %\n",
    "                    (i, loss / batch.numSeqs, printTokens / elapsed))\n",
    "            start = time.time()\n",
    "            printTokens = 0\n",
    "\n",
    "    return math.exp(totalLoss / float(numTotalTokens))"
   ]
  },
  {
   "cell_type": "markdown",
   "metadata": {
    "colab_type": "text",
    "id": "bkECdv--ifbY"
   },
   "source": [
    "## Training Data and Batching\n",
    "\n",
    "We will use torch text for batching. This is discussed in more detail below."
   ]
  },
  {
   "cell_type": "markdown",
   "metadata": {
    "colab_type": "text",
    "id": "P4DjHJQiifbZ"
   },
   "source": [
    "## Optimizer\n",
    "\n",
    "We will use the [Adam optimizer](https://arxiv.org/abs/1412.6980) with default settings ($\\beta_1=0.9$, $\\beta_2=0.999$ and $\\epsilon=10^{-8}$).\n",
    "\n",
    "We will use $0.0003$ as the learning rate here, but for different problems another learning rate may be more appropriate. You will have to tune that."
   ]
  },
  {
   "cell_type": "markdown",
   "metadata": {
    "colab_type": "text",
    "id": "NkVkIBKrifbZ"
   },
   "source": [
    "# A First  Example\n",
    "\n",
    "We can begin by trying out a simple copy-task. Given a random set of input symbols from a small vocabulary, the goal is to generate back those same symbols."
   ]
  },
  {
   "cell_type": "markdown",
   "metadata": {
    "colab_type": "text",
    "id": "M2v3dTpvifba"
   },
   "source": [
    "## Synthetic Data"
   ]
  },
  {
   "cell_type": "code",
   "execution_count": 34,
   "metadata": {
    "colab": {},
    "colab_type": "code",
    "id": "Ge3GrP7kifbb"
   },
   "outputs": [],
   "source": [
    "def dataGen(numWords=11, batchSize=16, numBatches=100, length=10, padIndex=0, sosIndex=1):\n",
    "    \"\"\"Generate random data for a src-tgt copy task.\"\"\"\n",
    "    for i in range(numBatches):\n",
    "        data = torch.from_numpy(\n",
    "          np.random.randint(1, numWords, size=(batchSize, length)))\n",
    "        data[:, 0] = sosIndex\n",
    "        #data = data.cuda() if USE_CUDA else data\n",
    "        src = data[:, 1:]\n",
    "        tgt = data\n",
    "        srcLengths = [length-1] * batchSize\n",
    "        tgtLengths = [length] * batchSize\n",
    "        yield Batch((src, srcLengths), (tgt, tgtLengths), padIndex=padIndex)"
   ]
  },
  {
   "cell_type": "markdown",
   "metadata": {
    "colab_type": "text",
    "id": "wHjaTTekifbe"
   },
   "source": [
    "## Loss Computation"
   ]
  },
  {
   "cell_type": "code",
   "execution_count": 35,
   "metadata": {
    "colab": {},
    "colab_type": "code",
    "id": "fl2aa81Fifbe"
   },
   "outputs": [],
   "source": [
    "class SimpleLossCompute:\n",
    "    \"\"\"A simple loss compute and train function.\"\"\"\n",
    "\n",
    "    def __init__(self, generator, criterion, opt=None):\n",
    "        self.generator = generator\n",
    "        self.criterion = criterion\n",
    "        self.opt = opt\n",
    "\n",
    "    def __call__(self, x, y, norm):\n",
    "        x = self.generator(x)\n",
    "        loss = self.criterion(x.contiguous().view(-1, x.size(-1)),\n",
    "                              y.contiguous().view(-1))\n",
    "        loss = loss / norm\n",
    "\n",
    "        if self.opt is not None:\n",
    "            loss.backward()\n",
    "            self.opt.step()\n",
    "            self.opt.zero_grad()\n",
    "\n",
    "        return loss.data.item() * norm"
   ]
  },
  {
   "cell_type": "markdown",
   "metadata": {
    "colab_type": "text",
    "id": "dAm_JNoPifbh"
   },
   "source": [
    "### Printing examples\n",
    "\n",
    "To monitor progress during training, we will translate a few examples.\n",
    "\n",
    "We use greedy decoding for simplicity; that is, at each time step, starting at the first token, we choose the one with that maximum probability, and we never revisit that choice."
   ]
  },
  {
   "cell_type": "code",
   "execution_count": 36,
   "metadata": {
    "colab": {},
    "colab_type": "code",
    "id": "riYrtDoAifbh"
   },
   "outputs": [],
   "source": [
    "def greedyDecode(model, src, srcMask, srcLengths, maxLen=100, sosIndex=1, eosIndex=None):\n",
    "    \"\"\"Greedily decode a sentence.\n",
    "    Method: at each time step, starting at first token we choose the token with max probability\n",
    "    and never revisit that choice. \n",
    "    \"\"\"\n",
    "\n",
    "    with torch.no_grad():\n",
    "        encoderHidden, encoderFinal = model.encode(src, srcMask, srcLengths)\n",
    "        prevY = torch.ones(1, 1).fill_(sosIndex).type_as(src)\n",
    "        trgMask = torch.ones_like(prevY)\n",
    "\n",
    "    output = []\n",
    "    attentionScores = []\n",
    "    hiddenLayer = None\n",
    "\n",
    "    for i in range(maxLen):\n",
    "        with torch.no_grad():\n",
    "            outputLayer, hiddenLayer, preOutputLayer = model.decode(encoderHidden, encoderFinal, \n",
    "                                                   srcMask, prevY, trgMask, hiddenLayer)\n",
    "\n",
    "            # we predict from the pre-output layer, which is\n",
    "            # a combination of Decoder state, prev emb, and context\n",
    "            prob = model.generator(preOutputLayer[:, -1]) # probabilities\n",
    "\n",
    "        _, nextWord = torch.max(prob, dim=1) # find index where probs is maximum. \n",
    "        nextWord = nextWord.data.item()\n",
    "        output.append(nextWord)\n",
    "        prevY = torch.ones(1, 1).type_as(src).fill_(nextWord)\n",
    "        attentionScores.append(model.decoder.attention.alphas.cpu().numpy())\n",
    "\n",
    "    output = np.array(output)\n",
    "\n",
    "    # cut off everything starting from </s>\n",
    "    # (only when eos_index provided)\n",
    "    if eosIndex is not None:\n",
    "        firstEos = np.where(output == eosIndex)[0]\n",
    "        if len(firstEos) > 0:\n",
    "            output = output[:firstEos[0]]\n",
    "\n",
    "    return output, np.concatenate(attentionScores, axis=1)\n",
    "\n",
    "\n",
    "\n",
    "\n",
    "def lookupWords(x, vocab=None):\n",
    "    if vocab is not None:\n",
    "        x = [vocab.itos[i] for i in x]\n",
    "\n",
    "    return [str(t) for t in x]"
   ]
  },
  {
   "cell_type": "code",
   "execution_count": 37,
   "metadata": {
    "colab": {},
    "colab_type": "code",
    "id": "UUEfH7PRifbk"
   },
   "outputs": [],
   "source": [
    "def printExamples(exampleIter, model, n=2, maxLen=100,\n",
    "                  sosIndex=1,\n",
    "                  srcEosIndex=None,\n",
    "                  trgEosIndex=None,\n",
    "                  srcVocab=None, trgVocab=None):\n",
    "    \"\"\"Prints N examples. Assumes batch size of 1.\"\"\"\n",
    "\n",
    "    model.eval()\n",
    "    count = 0\n",
    "    print()\n",
    "\n",
    "    if srcVocab is not None and trgVocab is not None:\n",
    "        srcEosIndex = srcVocab.stoi[EOS_TOKEN]\n",
    "        trgSosIndex = trgVocab.stoi[SOS_TOKEN]\n",
    "        trgEosIndex = trgVocab.stoi[EOS_TOKEN]\n",
    "    else:\n",
    "        srcEosIndex = None\n",
    "        trgSosIndex = 1\n",
    "        trgEosIndex = None\n",
    "\n",
    "    for i, batch in enumerate(exampleIter):\n",
    "\n",
    "        src = batch.source.cpu().numpy()[0, :]\n",
    "        trg = batch.targetY.cpu().numpy()[0, :]\n",
    "\n",
    "        # remove </s> (if it is there)\n",
    "        src = src[:-1] if src[-1] == srcEosIndex else src\n",
    "        trg = trg[:-1] if trg[-1] == trgEosIndex else trg\n",
    "\n",
    "        result, _ = greedyDecode(\n",
    "          model, batch.source, batch.sourceMask, batch.sourceLengths,\n",
    "          maxLen=maxLen, sosIndex=trgSosIndex, eosIndex=trgEosIndex)\n",
    "        print(\"Example #%d\" % (i+1))\n",
    "        print(\"Src : \", \" \".join(lookupWords(src, vocab=srcVocab)))\n",
    "        print(\"Trg : \", \" \".join(lookupWords(trg, vocab=trgVocab)))\n",
    "        print(\"Pred: \", \" \".join(lookupWords(result, vocab=trgVocab)))\n",
    "        print()\n",
    "\n",
    "        count += 1\n",
    "        if count == n:\n",
    "            break"
   ]
  },
  {
   "cell_type": "markdown",
   "metadata": {
    "colab_type": "text",
    "id": "AGjYaH6uifbm"
   },
   "source": [
    "## Training the copy task: the copy task is just repeating the words back. "
   ]
  },
  {
   "cell_type": "code",
   "execution_count": 38,
   "metadata": {
    "colab": {},
    "colab_type": "code",
    "id": "K_ydRvPIifbn"
   },
   "outputs": [],
   "source": [
    "def trainCopyTask():\n",
    "    \"\"\"Train the simple copy task.\"\"\"\n",
    "    numWords = 11\n",
    "    criterion = nn.NLLLoss(reduction=\"sum\", ignore_index=0)\n",
    "    model = makeModel(numWords, numWords, embeddingSize=32, hiddenSize=64)\n",
    "    optim = torch.optim.Adam(model.parameters(), lr=0.0003)\n",
    "    evalData = list(dataGen(numWords=numWords, batchSize=1, numBatches=100))\n",
    "\n",
    "    devPerplexities = []\n",
    "\n",
    "    #if USE_CUDA:\n",
    "    #    model.cuda()\n",
    "\n",
    "    for epoch in range(10):\n",
    "\n",
    "        print(\"Epoch %d\" % epoch)\n",
    "\n",
    "        # train\n",
    "        model.train()\n",
    "        data = dataGen(numWords=numWords, batchSize=32, numBatches=100)\n",
    "        runEpoch(data, model,\n",
    "                 SimpleLossCompute(model.generator, criterion, optim))\n",
    "\n",
    "        # evaluate\n",
    "        model.eval()\n",
    "        with torch.no_grad():\n",
    "            perplexity = runEpoch(evalData, model,\n",
    "                                  SimpleLossCompute(model.generator, criterion, None))\n",
    "            print(\"Evaluation perplexity: %f\" % perplexity)\n",
    "            devPerplexities.append(perplexity)\n",
    "            printExamples(evalData, model, n=2, maxLen=9)\n",
    "\n",
    "    return devPerplexities"
   ]
  },
  {
   "cell_type": "code",
   "execution_count": 40,
   "metadata": {
    "colab": {},
    "colab_type": "code",
    "id": "zroL7O14ifbr",
    "outputId": "14c7b325-c8e9-4031-bee5-512f489cfef8"
   },
   "outputs": [
    {
     "name": "stdout",
     "output_type": "stream",
     "text": [
      "Epoch 0\n"
     ]
    },
    {
     "name": "stdout",
     "output_type": "stream",
     "text": [
      "Epoch Step: 50 Loss: 19.668865 Tokens per Sec: 1330.380442\n"
     ]
    },
    {
     "name": "stdout",
     "output_type": "stream",
     "text": [
      "Epoch Step: 100 Loss: 18.014767 Tokens per Sec: 1607.983490\n"
     ]
    },
    {
     "name": "stdout",
     "output_type": "stream",
     "text": [
      "Evaluation perplexity: 7.435378\n\nExample #1\nSrc :  5 1 6 10 5 8 1 9 9\nTrg :  5 1 6 10 5 8 1 9 9\nPred:  8 8 1 8 10 8 9 8 8\n\nExample #2\nSrc :  7 3 10 5 1 2 6 3 3\nTrg :  7 3 10 5 1 2 6 3 3\nPred:  3 3 3 3 3 3 3 3 3\n\nEpoch 1\n"
     ]
    },
    {
     "name": "stdout",
     "output_type": "stream",
     "text": [
      "Epoch Step: 50 Loss: 15.848557 Tokens per Sec: 1466.624259\n"
     ]
    },
    {
     "name": "stdout",
     "output_type": "stream",
     "text": [
      "Epoch Step: 100 Loss: 11.757614 Tokens per Sec: 2828.715477\n"
     ]
    },
    {
     "name": "stdout",
     "output_type": "stream",
     "text": [
      "Evaluation perplexity: 3.648479\n\nExample #1\nSrc :  5 1 6 10 5 8 1 9 9\nTrg :  5 1 6 10 5 8 1 9 9\nPred:  5 1 8 1 9 1 8 9 9\n\nExample #2\nSrc :  7 3 10 5 1 2 6 3 3\nTrg :  7 3 10 5 1 2 6 3 3\nPred:  3 3 7 6 3 3 3 2 6\n\nEpoch 2\n"
     ]
    },
    {
     "name": "stdout",
     "output_type": "stream",
     "text": [
      "Epoch Step: 50 Loss: 8.551805 Tokens per Sec: 2386.786088\n"
     ]
    },
    {
     "name": "stdout",
     "output_type": "stream",
     "text": [
      "Epoch Step: 100 Loss: 5.857079 Tokens per Sec: 3253.914032\n"
     ]
    },
    {
     "name": "stdout",
     "output_type": "stream",
     "text": [
      "Evaluation perplexity: 1.822477\n\nExample #1\nSrc :  5 1 6 10 5 8 1 9 9\nTrg :  5 1 6 10 5 8 1 9 9\nPred:  5 1 6 1 5 10 9 8 1\n\nExample #2\nSrc :  7 3 10 5 1 2 6 3 3\nTrg :  7 3 10 5 1 2 6 3 3\nPred:  7 3 10 5 6 3 2 3 6\n\nEpoch 3\n"
     ]
    },
    {
     "name": "stdout",
     "output_type": "stream",
     "text": [
      "Epoch Step: 50 Loss: 3.270595 Tokens per Sec: 2446.782129\n"
     ]
    },
    {
     "name": "stdout",
     "output_type": "stream",
     "text": [
      "Epoch Step: 100 Loss: 2.006668 Tokens per Sec: 3217.143560\n"
     ]
    },
    {
     "name": "stdout",
     "output_type": "stream",
     "text": [
      "Evaluation perplexity: 1.232504\n\nExample #1\nSrc :  5 1 6 10 5 8 1 9 9\nTrg :  5 1 6 10 5 8 1 9 9\nPred:  5 1 6 10 5 8 1 9 9\n\nExample #2\nSrc :  7 3 10 5 1 2 6 3 3\nTrg :  7 3 10 5 1 2 6 3 3\nPred:  7 3 10 5 1 2 6 3 3\n\nEpoch 4\n"
     ]
    },
    {
     "name": "stdout",
     "output_type": "stream",
     "text": [
      "Epoch Step: 50 Loss: 1.306161 Tokens per Sec: 3110.008259\n"
     ]
    },
    {
     "name": "stdout",
     "output_type": "stream",
     "text": [
      "Epoch Step: 100 Loss: 0.720510 Tokens per Sec: 3255.652916\n"
     ]
    },
    {
     "name": "stdout",
     "output_type": "stream",
     "text": [
      "Evaluation perplexity: 1.079799\n\nExample #1\nSrc :  5 1 6 10 5 8 1 9 9\nTrg :  5 1 6 10 5 8 1 9 9\nPred:  5 1 6 10 5 8 1 9 9\n\nExample #2\nSrc :  7 3 10 5 1 2 6 3 3\nTrg :  7 3 10 5 1 2 6 3 3\nPred:  7 3 10 5 1 2 6 3 3\n\nEpoch 5\n"
     ]
    },
    {
     "name": "stdout",
     "output_type": "stream",
     "text": [
      "Epoch Step: 50 Loss: 0.601257 Tokens per Sec: 3038.698090\n"
     ]
    },
    {
     "name": "stdout",
     "output_type": "stream",
     "text": [
      "Epoch Step: 100 Loss: 0.391066 Tokens per Sec: 2490.458733\n"
     ]
    },
    {
     "name": "stdout",
     "output_type": "stream",
     "text": [
      "Evaluation perplexity: 1.032872\n\nExample #1\nSrc :  5 1 6 10 5 8 1 9 9\nTrg :  5 1 6 10 5 8 1 9 9\nPred:  5 1 6 10 5 8 1 9 9\n\nExample #2\nSrc :  7 3 10 5 1 2 6 3 3\nTrg :  7 3 10 5 1 2 6 3 3\nPred:  7 3 10 5 1 2 6 3 3\n\nEpoch 6\n"
     ]
    },
    {
     "name": "stdout",
     "output_type": "stream",
     "text": [
      "Epoch Step: 50 Loss: 0.247899 Tokens per Sec: 2255.919460\n"
     ]
    },
    {
     "name": "stdout",
     "output_type": "stream",
     "text": [
      "Epoch Step: 100 Loss: 0.182298 Tokens per Sec: 2613.481473\n"
     ]
    },
    {
     "name": "stdout",
     "output_type": "stream",
     "text": [
      "Evaluation perplexity: 1.018786\n\nExample #1\nSrc :  5 1 6 10 5 8 1 9 9\nTrg :  5 1 6 10 5 8 1 9 9\nPred:  5 1 6 10 5 8 1 9 9\n\nExample #2\nSrc :  7 3 10 5 1 2 6 3 3\nTrg :  7 3 10 5 1 2 6 3 3\nPred:  7 3 10 5 1 2 6 3 3\n\nEpoch 7\n"
     ]
    },
    {
     "name": "stdout",
     "output_type": "stream",
     "text": [
      "Epoch Step: 50 Loss: 0.168632 Tokens per Sec: 2686.183314\n"
     ]
    },
    {
     "name": "stdout",
     "output_type": "stream",
     "text": [
      "Epoch Step: 100 Loss: 0.122987 Tokens per Sec: 2883.233056\n"
     ]
    },
    {
     "name": "stdout",
     "output_type": "stream",
     "text": [
      "Evaluation perplexity: 1.011001\n\nExample #1\nSrc :  5 1 6 10 5 8 1 9 9\nTrg :  5 1 6 10 5 8 1 9 9\nPred:  5 1 6 10 5 8 1 9 9\n\nExample #2\nSrc :  7 3 10 5 1 2 6 3 3\nTrg :  7 3 10 5 1 2 6 3 3\nPred:  7 3 10 5 1 2 6 3 3\n\nEpoch 8\n"
     ]
    },
    {
     "name": "stdout",
     "output_type": "stream",
     "text": [
      "Epoch Step: 50 Loss: 0.111529 Tokens per Sec: 3045.321682\n"
     ]
    },
    {
     "name": "stdout",
     "output_type": "stream",
     "text": [
      "Epoch Step: 100 Loss: 0.083482 Tokens per Sec: 3046.882529\n"
     ]
    },
    {
     "name": "stdout",
     "output_type": "stream",
     "text": [
      "Evaluation perplexity: 1.007313\n\nExample #1\nSrc :  5 1 6 10 5 8 1 9 9\nTrg :  5 1 6 10 5 8 1 9 9\nPred:  5 1 6 10 5 8 1 9 9\n\nExample #2\nSrc :  7 3 10 5 1 2 6 3 3\nTrg :  7 3 10 5 1 2 6 3 3\nPred:  7 3 10 5 1 2 6 3 3\n\nEpoch 9\n"
     ]
    },
    {
     "name": "stdout",
     "output_type": "stream",
     "text": [
      "Epoch Step: 50 Loss: 0.072957 Tokens per Sec: 2573.907503\n"
     ]
    },
    {
     "name": "stdout",
     "output_type": "stream",
     "text": [
      "Epoch Step: 100 Loss: 0.053967 Tokens per Sec: 2891.302284\n"
     ]
    },
    {
     "name": "stdout",
     "output_type": "stream",
     "text": [
      "Evaluation perplexity: 1.005393\n\nExample #1\nSrc :  5 1 6 10 5 8 1 9 9\nTrg :  5 1 6 10 5 8 1 9 9\nPred:  5 1 6 10 5 8 1 9 9\n\nExample #2\nSrc :  7 3 10 5 1 2 6 3 3\nTrg :  7 3 10 5 1 2 6 3 3\nPred:  7 3 10 5 1 2 6 3 3\n\n"
     ]
    }
   ],
   "source": [
    "# train the copy task\n",
    "devPerplexities = trainCopyTask()"
   ]
  },
  {
   "cell_type": "code",
   "execution_count": 43,
   "metadata": {},
   "outputs": [
    {
     "data": {
      "image/png": "[encoded data removed]",
      "text/plain": [
       "<Figure size 432x288 with 1 Axes>"
      ]
     },
     "metadata": {},
     "output_type": "display_data"
    },
    {
     "data": {
      "image/png": "[encoded data removed]",
      "text/plain": [
       "<Figure size 432x288 with 1 Axes>"
      ]
     },
     "metadata": {},
     "output_type": "display_data"
    }
   ],
   "source": [
    "\n",
    "def plotPerplexity(perplexities):\n",
    "    \"\"\"plot perplexities\"\"\"\n",
    "    plt.title(\"Perplexity per Epoch\")\n",
    "    plt.xlabel(\"Epoch\")\n",
    "    plt.ylabel(\"Perplexity\")\n",
    "    plt.figure(facecolor=\"white\")\n",
    "    plt.plot(perplexities)\n",
    "\n",
    "plotPerplexity(devPerplexities)"
   ]
  },
  {
   "cell_type": "markdown",
   "metadata": {
    "colab_type": "text",
    "id": "cCj-E3KSifbu"
   },
   "source": [
    "You can see that the model managed to correctly 'translate' the two examples in the end.\n",
    "\n",
    "Moreover, the perplexity of the development data nicely went down towards 1."
   ]
  },
  {
   "cell_type": "markdown",
   "metadata": {
    "colab_type": "text",
    "id": "5767Pru2ifbv"
   },
   "source": [
    "# A Real World Example\n",
    "\n",
    "Now we consider a real-world example using the IWSLT German-English Translation task.\n",
    "This task is much smaller than usual, but it illustrates the whole system.\n",
    "\n",
    "The cell below installs torch text and spacy. This might take a while."
   ]
  },
  {
   "cell_type": "code",
   "execution_count": null,
   "metadata": {
    "colab": {},
    "colab_type": "code",
    "id": "6vC3Tywsifbw"
   },
   "outputs": [],
   "source": [
    "#!pip install git+git://github.com/pytorch/text spacy\n",
    "#!python -m spacy download en\n",
    "#!python -m spacy download de"
   ]
  },
  {
   "cell_type": "markdown",
   "metadata": {
    "colab_type": "text",
    "id": "KC4OF_muifby"
   },
   "source": [
    "## Data Loading\n",
    "\n",
    "We will load the dataset using torchtext and spacy for tokenization.\n",
    "\n",
    "This cell might take a while to run the first time, as it will download and tokenize the IWSLT data.\n",
    "\n",
    "For speed we only include short sentences, and we include a word in the vocabulary only if it occurs at least 5 times. In this case we also lowercase the data.\n",
    "\n",
    "If you have **issues** with torch text in the cell below (e.g. an `ascii` error), try running `export LC_ALL=\"en_US.UTF-8\"` before you start `jupyter notebook`."
   ]
  },
  {
   "cell_type": "code",
   "execution_count": null,
   "metadata": {
    "colab": {},
    "colab_type": "code",
    "id": "InjSIfqDifbz"
   },
   "outputs": [],
   "source": [
    "# For data loading.\n",
    "from torchtext import data, datasets\n",
    "\n",
    "if True:\n",
    "    import spacy\n",
    "    spacy_de = spacy.load('de')\n",
    "    spacy_en = spacy.load('en')\n",
    "\n",
    "    def tokenizeDE(text):\n",
    "        return [tok.text for tok in spacy_de.tokenizer(text)]\n",
    "\n",
    "    def tokenizeEN(text):\n",
    "        return [tok.text for tok in spacy_en.tokenizer(text)]\n",
    "\n",
    "    UNK_TOKEN = \"<unk>\"\n",
    "    PAD_TOKEN = \"<pad>\"\n",
    "    SOS_TOKEN = \"<s>\"\n",
    "    EOS_TOKEN = \"</s>\"\n",
    "    LOWER = True\n",
    "\n",
    "    # we include lengths to provide to the RNNs\n",
    "    SRC = data.Field(tokenize=tokenizeDE,\n",
    "                     batch_first=True, lower=LOWER, include_lengths=True,\n",
    "                     unk_token=UNK_TOKEN, pad_token=PAD_TOKEN, init_token=None, eos_token=EOS_TOKEN)\n",
    "    TRG = data.Field(tokenize=tokenizeEN,\n",
    "                     batch_first=True, lower=LOWER, include_lengths=True,\n",
    "                     unk_token=UNK_TOKEN, pad_token=PAD_TOKEN, init_token=SOS_TOKEN, eos_token=EOS_TOKEN)\n",
    "\n",
    "    MAX_LEN = 25  # NOTE: we filter out a lot of sentences for speed\n",
    "    trainData, validData, testData = datasets.IWSLT.splits(\n",
    "        exts=('.de', '.en'), fields=(SRC, TRG),\n",
    "        filter_pred=lambda x: len(vars(x)['src']) <= MAX_LEN and\n",
    "            len(vars(x)['trg']) <= MAX_LEN)\n",
    "    MIN_FREQ = 5  # NOTE: we limit the vocabulary to frequent words for speed\n",
    "    SRC.build_vocab(trainData.src, min_freq=MIN_FREQ)\n",
    "    TRG.build_vocab(trainData.trg, min_freq=MIN_FREQ)\n",
    "\n",
    "    PAD_INDEX = TRG.vocab.stoi[PAD_TOKEN]"
   ]
  },
  {
   "cell_type": "markdown",
   "metadata": {
    "colab_type": "text",
    "id": "hMdKJxh_ifb2"
   },
   "source": [
    "### Let's look at the data\n",
    "\n",
    "It never hurts to look at your data and some statistics."
   ]
  },
  {
   "cell_type": "code",
   "execution_count": null,
   "metadata": {
    "colab": {},
    "colab_type": "code",
    "id": "kM3hqeZPifb3",
    "outputId": "635cbc62-19a3-43dc-be06-3012baf98c3a"
   },
   "outputs": [],
   "source": [
    "def printDataInfo(trainData, validationData, testData, sourceField, targetField):\n",
    "    \"\"\" This prints some useful stuff about our data sets. \"\"\"\n",
    "\n",
    "    print(\"Data set sizes (number of sentence pairs):\")\n",
    "    print('train', len(trainData))\n",
    "    print('valid', len(validationData))\n",
    "    print('test', len(testData), \"\\n\")\n",
    "\n",
    "    print(\"First training example:\")\n",
    "    print(\"src:\", \" \".join(vars(trainData[0])['src']))\n",
    "    print(\"trg:\", \" \".join(vars(trainData[0])['trg']), \"\\n\")\n",
    "\n",
    "    print(\"Most common words (src):\")\n",
    "    print(\"\\n\".join([\"%10s %10d\" % x for x in sourceField.vocab.freqs.most_common(10)]), \"\\n\")\n",
    "    print(\"Most common words (trg):\")\n",
    "    print(\"\\n\".join([\"%10s %10d\" % x for x in targetField.vocab.freqs.most_common(10)]), \"\\n\")\n",
    "\n",
    "    print(\"First 10 words (src):\")\n",
    "    print(\"\\n\".join(\n",
    "        '%02d %s' % (i, t) for i, t in enumerate(sourceField.vocab.itos[:10])), \"\\n\")\n",
    "    print(\"First 10 words (trg):\")\n",
    "    print(\"\\n\".join(\n",
    "        '%02d %s' % (i, t) for i, t in enumerate(targetField.vocab.itos[:10])), \"\\n\")\n",
    "\n",
    "    print(\"Number of German words (types):\", len(sourceField.vocab))\n",
    "    print(\"Number of English words (types):\", len(targetField.vocab), \"\\n\")\n",
    "\n",
    "\n",
    "printDataInfo(trainData, validData, testData, SRC, TRG)"
   ]
  },
  {
   "cell_type": "markdown",
   "metadata": {
    "colab_type": "text",
    "id": "_r9QosTiifb5"
   },
   "source": [
    "## Iterators\n",
    "Batching matters a ton for speed. We will use torch text's BucketIterator here to get batches containing sentences of (almost) the same length.\n",
    "\n",
    "#### Note on sorting batches for RNNs in PyTorch\n",
    "\n",
    "For effiency reasons, PyTorch RNNs require that batches have been sorted by length, with the longest sentence in the batch first. For training, we simply sort each batch.\n",
    "For validation, we would run into trouble if we want to compare our translations with some external file that was not sorted. Therefore we simply set the validation batch size to 1, so that we can keep it in the original order."
   ]
  },
  {
   "cell_type": "code",
   "execution_count": null,
   "metadata": {
    "colab": {},
    "colab_type": "code",
    "id": "vx2FEuU8ifb6"
   },
   "outputs": [],
   "source": [
    "trainIter = data.BucketIterator(trainData, batch_size=64, train=True,\n",
    "                                sort_within_batch=True,\n",
    "                                sort_key=lambda x: (len(x.src), len(x.trg)), repeat=False,\n",
    "                                device=DEVICE)\n",
    "validIter = data.Iterator(validData, batch_size=1, train=False, sort=False, repeat=False,\n",
    "                          device=DEVICE)\n",
    "\n",
    "\n",
    "def rebatch(padIndex, batch):\n",
    "    \"\"\"Wrap torchtext batch into our own Batch class for pre-processing\"\"\"\n",
    "    return Batch(batch.src, batch.trg, padIndex)"
   ]
  },
  {
   "cell_type": "markdown",
   "metadata": {
    "colab_type": "text",
    "id": "nWCES06Vifb-"
   },
   "source": [
    "## Training the System\n",
    "\n",
    "Now we train the model.\n",
    "\n",
    "On a Titan X GPU, this runs at ~18,000 tokens per second with a batch size of 64."
   ]
  },
  {
   "cell_type": "code",
   "execution_count": null,
   "metadata": {
    "colab": {},
    "colab_type": "code",
    "id": "agdmcnzhifb_"
   },
   "outputs": [],
   "source": [
    "def train(model, numEpochs=10, learningRate=0.0003, printEvery=100):\n",
    "    \"\"\"Train a model on IWSLT\"\"\"\n",
    "\n",
    "    #if USE_CUDA:\n",
    "    #    model.cuda()\n",
    "\n",
    "    # optionally add label smoothing; see the Annotated Transformer\n",
    "    criterion = nn.NLLLoss(reduction=\"sum\", ignore_index=PAD_INDEX)\n",
    "    optim = torch.optim.Adam(model.parameters(), lr=learningRate)\n",
    "\n",
    "    devPerplexities = []\n",
    "\n",
    "    for epoch in range(numEpochs):\n",
    "\n",
    "        print(\"Epoch\", epoch)\n",
    "        model.train()\n",
    "        trainPerplexity = runEpoch((rebatch(PAD_INDEX, b) for b in trainIter),\n",
    "                                    model,\n",
    "                                    SimpleLossCompute(model.generator, criterion, optim),\n",
    "                                    printEvery=printEvery)\n",
    "\n",
    "        model.eval()\n",
    "        with torch.no_grad():\n",
    "            printExamples((rebatch(PAD_INDEX, x) for x in validIter),\n",
    "                          model, n=3, srcVocab=SRC.vocab, trgVocab=TRG.vocab)\n",
    "\n",
    "            dev_perplexity = runEpoch((rebatch(PAD_INDEX, b) for b in validIter),\n",
    "                                      model,\n",
    "                                      SimpleLossCompute(model.generator, criterion, None))\n",
    "            print(\"Validation perplexity: %f\" % dev_perplexity)\n",
    "            devPerplexities.append(dev_perplexity)\n",
    "\n",
    "    return devPerplexities\n"
   ]
  },
  {
   "cell_type": "code",
   "execution_count": null,
   "metadata": {
    "colab": {},
    "colab_type": "code",
    "id": "gjbUVKe0ifcB",
    "outputId": "44413977-cb49-4a67-8b6b-7bf4feae378d"
   },
   "outputs": [],
   "source": [
    "model = makeModel(len(SRC.vocab), len(TRG.vocab),\n",
    "                  embeddingSize=256, hiddenSize=256,\n",
    "                  numLayers=1, dropout=0.2)\n",
    "devPerplexities = train(model, printEvery=100)"
   ]
  },
  {
   "cell_type": "code",
   "execution_count": null,
   "metadata": {
    "colab": {},
    "colab_type": "code",
    "id": "PmHv2tChifcE",
    "outputId": "a1d173a5-15fc-4596-86fc-964656abc688"
   },
   "outputs": [],
   "source": [
    "plotPerplexity(devPerplexities)"
   ]
  },
  {
   "cell_type": "markdown",
   "metadata": {
    "colab_type": "text",
    "id": "JO0OvTZiifcH"
   },
   "source": [
    "## Prediction and Evaluation\n",
    "\n",
    "Once trained we can use the model to produce a set of translations.\n",
    "\n",
    "If we translate the whole validation set, we can use [SacreBLEU](https://github.com/mjpost/sacreBLEU) to get a [BLEU score](https://en.wikipedia.org/wiki/BLEU), which is the most common way to evaluate translations.\n",
    "\n",
    "#### Important sidenote\n",
    "Typically you would use SacreBLEU from the **command line** using the output file and original (possibly tokenized) development reference file. This will give you a nice version string that shows how the BLEU score was calculated; for example, if it was lowercased, if it was tokenized (and how), and what smoothing was used. If you want to learn more about how BLEU scores are (and should be) reported, check out [this paper](https://arxiv.org/abs/1804.08771).\n",
    "\n",
    "However, right now our pre-processed data is only in memory, so we'll calculate the BLEU score right from this notebook for demonstration purposes.\n",
    "\n",
    "We'll first test the raw BLEU function:"
   ]
  },
  {
   "cell_type": "code",
   "execution_count": null,
   "metadata": {
    "colab": {},
    "colab_type": "code",
    "id": "LM_B23YRifcI"
   },
   "outputs": [],
   "source": [
    "import sacrebleu"
   ]
  },
  {
   "cell_type": "code",
   "execution_count": null,
   "metadata": {
    "colab": {},
    "colab_type": "code",
    "id": "mUSKbOp5ifcJ",
    "outputId": "07a253ca-b312-4fcc-fcf5-67182eb74526"
   },
   "outputs": [],
   "source": [
    "# this should result in a perfect BLEU of 100%\n",
    "hypotheses = [\"this is a test\"]\n",
    "references = [\"this is a test\"]\n",
    "bleu = sacrebleu.raw_corpus_bleu(hypotheses, [references], .01).score\n",
    "print(bleu)"
   ]
  },
  {
   "cell_type": "code",
   "execution_count": null,
   "metadata": {
    "colab": {},
    "colab_type": "code",
    "id": "ndsc1nqrifcM",
    "outputId": "3973054b-90cd-42e3-fe43-5f314f2058d2"
   },
   "outputs": [],
   "source": [
    "# here the BLEU score will be lower, because some n-grams won't match\n",
    "hypotheses = [\"this is a test\"]\n",
    "references = [\"this is a fest\"]\n",
    "bleu = sacrebleu.raw_corpus_bleu(hypotheses, [references], .01).score\n",
    "print(bleu)"
   ]
  },
  {
   "cell_type": "markdown",
   "metadata": {
    "colab_type": "text",
    "id": "hAJvO6BHifcP"
   },
   "source": [
    "Since we did some filtering for speed, our validation set contains 690 sentences.\n",
    "The references are the tokenized versions, but they should not contain out-of-vocabulary UNKs that our network might have seen. So we'll take the references straight out of the `valid_data` object:"
   ]
  },
  {
   "cell_type": "code",
   "execution_count": null,
   "metadata": {
    "colab": {},
    "colab_type": "code",
    "id": "DuujF_McifcP",
    "outputId": "f3e1898b-04d2-4404-d08b-5b2110ee7320"
   },
   "outputs": [],
   "source": [
    "len(validData)"
   ]
  },
  {
   "cell_type": "code",
   "execution_count": null,
   "metadata": {
    "colab": {},
    "colab_type": "code",
    "id": "IkxZ1lWSifcR",
    "outputId": "54808406-03bf-46ca-b815-e740d386f2da"
   },
   "outputs": [],
   "source": [
    "references = [\" \".join(example.trg) for example in validData]\n",
    "print(len(references))\n",
    "print(references[0])"
   ]
  },
  {
   "cell_type": "code",
   "execution_count": null,
   "metadata": {
    "colab": {},
    "colab_type": "code",
    "id": "kZj1hB0GifcT",
    "outputId": "a50c5597-eb9d-4680-c9ed-80ca54ff5621"
   },
   "outputs": [],
   "source": [
    "references[-2]"
   ]
  },
  {
   "cell_type": "markdown",
   "metadata": {
    "colab_type": "text",
    "id": "4R0frMmzifcW"
   },
   "source": [
    "**Now we translate the validation set!**\n",
    "\n",
    "This might take a little bit of time.\n",
    "\n",
    "Note that `greedy_decode` will cut-off the sentence when it encounters the end-of-sequence symbol, if we provide it the index of that symbol."
   ]
  },
  {
   "cell_type": "code",
   "execution_count": null,
   "metadata": {
    "colab": {},
    "colab_type": "code",
    "id": "5LyObwmnifcX"
   },
   "outputs": [],
   "source": [
    "hypotheses = []\n",
    "alphas = []  # save the last attention scores\n",
    "for batch in validIter:\n",
    "  batch = rebatch(PAD_INDEX, batch)\n",
    "  pred, attention = greedyDecode(\n",
    "    model, batch.source, batch.sourceMask, batch.sourceLengths, maxLen=25,\n",
    "    sosIndex=TRG.vocab.stoi[SOS_TOKEN],\n",
    "    eosIndex=TRG.vocab.stoi[EOS_TOKEN])\n",
    "  hypotheses.append(pred)\n",
    "  alphas.append(attention)"
   ]
  },
  {
   "cell_type": "code",
   "execution_count": null,
   "metadata": {
    "colab": {},
    "colab_type": "code",
    "id": "fbroMAA1ifcZ",
    "outputId": "07ce2910-48c0-4ffc-e028-97238e9de895"
   },
   "outputs": [],
   "source": [
    "# we will still need to convert the indices to actual words!\n",
    "hypotheses[0]"
   ]
  },
  {
   "cell_type": "code",
   "execution_count": null,
   "metadata": {
    "colab": {},
    "colab_type": "code",
    "id": "0ZX5JPP6ifcc",
    "outputId": "cf0fd1ef-2305-4155-b005-1eab041774cf"
   },
   "outputs": [],
   "source": [
    "hypotheses = [lookupWords(x, TRG.vocab) for x in hypotheses]\n",
    "hypotheses[0]"
   ]
  },
  {
   "cell_type": "code",
   "execution_count": null,
   "metadata": {
    "colab": {},
    "colab_type": "code",
    "id": "4Yheo7E9ifce",
    "outputId": "a1ee2147-7ffa-45cb-b8cc-c4693dd33539"
   },
   "outputs": [],
   "source": [
    "# finally, the SacreBLEU raw scorer requires string input, so we convert the lists to strings\n",
    "hypotheses = [\" \".join(x) for x in hypotheses]\n",
    "print(len(hypotheses))\n",
    "print(hypotheses[0])"
   ]
  },
  {
   "cell_type": "code",
   "execution_count": null,
   "metadata": {
    "colab": {},
    "colab_type": "code",
    "id": "RPmWIt5lifcg",
    "outputId": "a980640d-65a3-419a-b8f6-708d03831c47"
   },
   "outputs": [],
   "source": [
    "# now we can compute the BLEU score!\n",
    "bleu = sacrebleu.raw_corpus_bleu(hypotheses, [references], .01).score\n",
    "print(bleu)"
   ]
  },
  {
   "cell_type": "markdown",
   "metadata": {
    "colab_type": "text",
    "id": "_CXOwKzKifcj"
   },
   "source": [
    "## Attention Visualization\n",
    "\n",
    "We can also visualize the attention scores of the decoder."
   ]
  },
  {
   "cell_type": "code",
   "execution_count": null,
   "metadata": {
    "colab": {},
    "colab_type": "code",
    "id": "s84snWxRifcj"
   },
   "outputs": [],
   "source": [
    "def plotHeatmap(src, trg, scores):\n",
    "\n",
    "    fig, ax = plt.subplots()\n",
    "    heatmap = ax.pcolor(scores, cmap='viridis')\n",
    "\n",
    "    ax.set_xticklabels(trg, minor=False, rotation='vertical')\n",
    "    ax.set_yticklabels(src, minor=False)\n",
    "\n",
    "    # put the major ticks at the middle of each cell\n",
    "    # and the x-ticks on top\n",
    "    ax.xaxis.tick_top()\n",
    "    ax.set_xticks(np.arange(scores.shape[1]) + 0.5, minor=False)\n",
    "    ax.set_yticks(np.arange(scores.shape[0]) + 0.5, minor=False)\n",
    "    ax.invert_yaxis()\n",
    "\n",
    "    plt.colorbar(heatmap)\n",
    "    plt.show()"
   ]
  },
  {
   "cell_type": "code",
   "execution_count": null,
   "metadata": {
    "colab": {},
    "colab_type": "code",
    "id": "xXbm1Sy9ifcn",
    "outputId": "5a1613ec-ee51-4460-bf24-461795504f3f"
   },
   "outputs": [],
   "source": [
    "# This plots a chosen sentence, for which we saved the attention scores above.\n",
    "idx = 5\n",
    "src = validData[idx].src + [\"</s>\"]\n",
    "trg = validData[idx].trg + [\"</s>\"]\n",
    "pred = hypotheses[idx].split() + [\"</s>\"]\n",
    "predAtt = alphas[idx][0].T[:, :len(pred)]\n",
    "print(\"src\", src)\n",
    "print(\"ref\", trg)\n",
    "print(\"pred\", pred)\n",
    "plotHeatmap(src, pred, predAtt)"
   ]
  },
  {
   "cell_type": "markdown",
   "metadata": {
    "colab_type": "text",
    "id": "Ichf4Mb2ifcp"
   },
   "source": [
    "# Congratulations! You've finished this notebook.\n",
    "\n",
    "What didn't we cover?\n",
    "\n",
    "- Subwords / Byte Pair Encoding [[paper]](https://arxiv.org/abs/1508.07909) [[github]](https://github.com/rsennrich/subword-nmt) let you deal with unknown words.\n",
    "- You can implement a [multiplicative/bilinear attention mechanism](https://arxiv.org/abs/1508.04025) instead of the additive one used here.\n",
    "- We used greedy decoding here to get translations, but you can get better results with beam search.\n",
    "- The original model only uses a single dropout layer (in the decoder), but you can experiment with adding more dropout layers, for example on the word embeddings and the source word representations.\n",
    "- You can experiment with multiple encoder/decoder layers.- Experiment with a benchmarked and improved codebase: [Joey NMT](https://github.com/joeynmt/joeynmt)"
   ]
  },
  {
   "cell_type": "markdown",
   "metadata": {
    "colab_type": "text",
    "id": "FT72mrOcifcq"
   },
   "source": [
    "If this was useful to your research, please consider citing:\n",
    "\n",
    "> Joost Bastings. 2018. The Annotated Encoder-Decoder with Attention. https://bastings.github.io/annotated_encoder_decoder/\n",
    "\n",
    "Or use the following `Bibtex`:\n",
    "```\n",
    "@misc{bastings2018annotated,\n",
    "  title={The Annotated Encoder-Decoder with Attention},\n",
    "  author={Bastings, Joost},\n",
    "  journal={https://bastings.github.io/annotated\\_encoder\\_decoder/},\n",
    "  year={2018}\n",
    "}```"
   ]
  }
 ],
 "metadata": {
  "kernelspec": {
   "display_name": "Python 3",
   "language": "python",
   "name": "python3"
  }
 },
 "nbformat": 4,
 "nbformat_minor": 2
}
