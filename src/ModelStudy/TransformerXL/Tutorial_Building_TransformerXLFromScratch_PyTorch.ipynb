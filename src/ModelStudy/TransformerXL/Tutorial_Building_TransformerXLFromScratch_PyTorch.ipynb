{
 "cells": [
  {
   "cell_type": "markdown",
   "metadata": {
    "lines_to_next_cell": 0,
    "title": "markdown"
   },
   "source": [
    "[Blog Source](https://synergo.atlassian.net/wiki/spaces/DataScience/pages/1511359082/Building+the+Transformer+XL+from+Scratch)\n",
    "$\\hspace{1em}$ | $\\hspace{1em}$\n",
    "[Code Source](https://github.com/keitakurita/Practical_NLP_in_PyTorch/blob/master/deep_dives/transformer_xl_from_scratch.ipynb)\n",
    "# Building the [Transformer XL](https://synergo.atlassian.net/wiki/spaces/KnowRes/pages/1513586716) from Sratch"
   ]
  },
  {
   "cell_type": "code",
   "execution_count": null,
   "metadata": {
    "title": "codecell"
   },
   "outputs": [],
   "source": [
    "import numpy as np\n",
    "\n",
    "import torch\n",
    "import torch.nn as nn\n",
    "import torch.tensor as Tensor\n",
    "from torch import Size, Tensor\n",
    "from torch.nn.parameter import Parameter\n",
    "from torch.nn import Dropout, LayerNorm, Linear, Sequential, ReLU, Embedding, ModuleList, CrossEntropyLoss\n",
    "\n",
    "import matplotlib.pyplot as plt\n",
    "import sys\n",
    "import os\n",
    "from IPython.display import Image\n",
    "\n",
    "from typing import *\n",
    "\n",
    "# Making files in utils folder visible here: to import my local print functions for nn.Module objects\n",
    "sys.path.append(os.getcwd() + \"/src/utils/\")\n",
    "from src.utils.ModelUtil import *\n",
    "\n",
    "# Preparing to show images:\n",
    "# import ImageResizer\n",
    "\n",
    "# Building pathname for images\n",
    "# Set current working directory\n",
    "os.chdir('/development/projects/statisticallyfit/github/learningmathstat/PythonNeuralNetNLP')\n",
    "imagePath = os.getcwd() # now path is the above\n",
    "print(f\"imagePath = {imagePath}\\n\")\n",
    "imagePath += \"/src/ModelStudy/images/\"\n",
    "print(f\"imagePath = {imagePath}\")\n",
    "\n",
    "\n"
   ]
  },
  {
   "cell_type": "markdown",
   "metadata": {
    "lines_to_next_cell": 0,
    "title": "markdown"
   },
   "source": [
    "## A Single [Attention Head](https://synergo.atlassian.net/wiki/spaces/KnowRes/pages/1447035008/self+attention+mechanism)\n",
    "Let us start by implementing a [single attention head](https://synergo.atlassian.net/wiki/spaces/KnowRes/pages/1447035008/self+attention+mechanism) in a [`MultiHeadAttention` layer](https://synergo.atlassian.net/wiki/spaces/KnowRes/pages/1446445463/multi-head+attention+mechanism).\n",
    "### Assumptions:\n",
    "* Considering the **first** layer only now\n",
    "* Receive an input of [word embeddings](https://synergo.atlassian.net/wiki/spaces/KnowRes/pages/87666969) of shape `(seq = 7, batchSize = 3, embeddingDim = 32)`\n",
    "NOTE: the [Transformer XL](https://synergo.atlassian.net/wiki/spaces/KnowRes/pages/1513586716) does not add [positional embeddings](https://synergo.atlassian.net/wiki/spaces/KnowRes/pages/1470169419) to the input."
   ]
  },
  {
   "cell_type": "code",
   "execution_count": null,
   "metadata": {
    "lines_to_next_cell": 0,
    "title": "codecell"
   },
   "outputs": [],
   "source": [
    "Image(filename =imagePath + \"transformerXL_extendedContext.gif\")"
   ]
  },
  {
   "cell_type": "code",
   "execution_count": null,
   "metadata": {
    "title": "codecell"
   },
   "outputs": [],
   "source": [
    "seqSize, batchSize, embeddingDim = 7, 3, 32\n",
    "# short names\n",
    "(S, B, E) = (seqSize, batchSize, embeddingDim)\n",
    "\n",
    "wordEmbeddings: Tensor = torch.rand(seqSize, batchSize, embeddingDim, names = ('sequenceSize', 'batchSize', 'embeddingDim'))\n",
    "\n",
    "assert wordEmbeddings.names == ('sequenceSize', 'batchSize', 'embeddingDim')\n",
    "\n",
    "# Method 1 for renaming:\n",
    "wordEmbeddings.names = ['seqLen', 'batchSize', 'embDim']\n",
    "assert wordEmbeddings.names == ('seqLen', 'batchSize', 'embDim')\n",
    "\n",
    "# Method 2 for renaming:\n",
    "wordEmbeddings: Tensor = wordEmbeddings.rename(seqLen = 'S', batchSize = 'B', embDim = 'E')\n",
    "assert wordEmbeddings.names == ('S', 'B', 'E')\n",
    "assert wordEmbeddings.shape == (S, B, E) == (7, 3, 32)\n",
    "assert wordEmbeddings.ndim == 3"
   ]
  },
  {
   "cell_type": "code",
   "execution_count": null,
   "metadata": {
    "lines_to_next_cell": 0,
    "title": "codecell"
   },
   "outputs": [],
   "source": [
    "# Gets the first element of wordEmbeddings tensor (first chunk in the seven, along first dimension)\n",
    "assert wordEmbeddings[0,:,:].ndim == 2\n",
    "assert wordEmbeddings[0,:,:].shape == (B, E) == (3, 32)\n",
    "\n",
    "# Indexing along elements along the second dimension, to get elements along the second dimension\n",
    "assert wordEmbeddings[:,0,:].shape == (S, E) == (7, 32)\n",
    "\n",
    "# Indexing along the third dimension, to get elements along third dimension\n",
    "assert wordEmbeddings[:,:,0].shape == (S, B) == (7, 3)"
   ]
  },
  {
   "cell_type": "markdown",
   "metadata": {
    "lines_to_next_cell": 0,
    "title": "markdown"
   },
   "source": [
    "#### Notes about the [Transformer XL](https://synergo.atlassian.net/wiki/spaces/KnowRes/pages/1513586716/transformer-XL+model+ml)\n",
    "* [Segment-level recurrence mechanism](https://synergo.atlassian.net/wiki/spaces/KnowRes/pages/1527480493): we feed the cached outputs of the model for the previous sequence (here this means we are feeding the [word embeddings](https://synergo.atlassian.net/wiki/spaces/KnowRes/pages/87666969/word+embedding+ml) from the previous sequence as an additional input to our model)\n",
    "* [Transformer XL](https://synergo.atlassian.net/wiki/spaces/KnowRes/pages/1513586716/transformer-XL+model+ml) does not add the [positional embeddings](https://synergo.atlassian.net/wiki/spaces/KnowRes/pages/1470169419) to the input, only in the [multi-head attention](https://synergo.atlassian.net/wiki/spaces/KnowRes/pages/1446445463/multi-head+attention+mechanism) module.\n",
    "\n",
    "As an example, let the previous sequence have length $6$, and let [`memory`](https://synergo.atlassian.net/wiki/spaces/KnowRes/pages/1527480493) denote the hidden states (`Tensor`) from the previous sequence."
   ]
  },
  {
   "cell_type": "code",
   "execution_count": null,
   "metadata": {
    "lines_to_next_cell": 2,
    "title": "codecell"
   },
   "outputs": [],
   "source": [
    "prevSeqSize: int = 6\n",
    "# short name\n",
    "P: int = prevSeqSize\n",
    "# These are the hidden states from the previous sequence, as an example\n",
    "memory: Tensor = torch.rand(prevSeqSize, batchSize, embeddingDim, names = ('P', 'B', 'E'))\n",
    "\n",
    "assert memory.shape == (P, B, E) == (6, 3, 32)\n",
    "assert memory.names == ('P', 'B', 'E')"
   ]
  },
  {
   "cell_type": "markdown",
   "metadata": {
    "lines_to_next_cell": 0,
    "title": "markdown"
   },
   "source": [
    "Each [self-attention head](https://synergo.atlassian.net/wiki/spaces/KnowRes/pages/1447035008/self+attention+mechanism) takes keys, queries, and values as input. The procedure in the single [attention head](https://synergo.atlassian.net/wiki/spaces/KnowRes/pages/1447035008/self+attention+mechanism) is as follows:\n",
    "\n",
    "1. Apply a separate linear transformation to each of the keys, queries, and values.\n",
    "2. Compute the [attention scores](https://synergo.atlassian.net/wiki/spaces/KnowRes/pages/1447035008/self+attention+mechanism) for each of the values.\n",
    "3. For each query, compute an [attention-weighted](https://synergo.atlassian.net/wiki/spaces/KnowRes/pages/1447035008/self+attention+mechanism) sum of the values.\n",
    "4. Apply a [residual connection](https://synergo.atlassian.net/wiki/spaces/KnowRes/pages/1511358877/residual+connection+layer+ml) and [layer normalization](https://synergo.atlassian.net/wiki/spaces/KnowRes/pages/1450213381/layer+normalization).\n",
    "\n",
    "### Step 1: Linear Transformation over $Q, K, V$ Matrices"
   ]
  },
  {
   "cell_type": "code",
   "execution_count": null,
   "metadata": {
    "lines_to_next_cell": 0,
    "title": "codecell"
   },
   "outputs": [],
   "source": [
    "\n",
    "innerDim: int = 17 # this is the internal dimension size\n",
    "I = innerDim # short form\n",
    "\n",
    "linearK: Linear = Linear(in_features = embeddingDim, out_features = innerDim)\n",
    "linearK.weight.names = ('I', 'E')\n",
    "linearK.bias.names = ('I',)\n",
    "\n",
    "linearV: Linear = Linear(in_features = embeddingDim, out_features = innerDim)\n",
    "linearV.weight.names = ('I', 'E')\n",
    "linearV.bias.names = ('I',)\n",
    "\n",
    "linearQ: Linear = Linear(in_features = embeddingDim, out_features = innerDim)\n",
    "linearQ.weight.names = ('I', 'E')\n",
    "linearQ.bias.names = ('I',)\n",
    "\n",
    "\n",
    "assert linearK.weight.shape == linearV.weight.shape == linearQ.weight.shape == (I, E)\n",
    "assert linearK.bias.shape == linearV.bias.shape == linearQ.bias.shape == (I, )"
   ]
  },
  {
   "cell_type": "markdown",
   "metadata": {
    "lines_to_next_cell": 0,
    "title": "markdown"
   },
   "source": [
    "#### Analysis of Linear Layer that Will Create Keys Matrix $K$:"
   ]
  },
  {
   "cell_type": "code",
   "execution_count": null,
   "metadata": {
    "lines_to_next_cell": 0,
    "title": "codecell"
   },
   "outputs": [],
   "source": [
    "printParamInfo(linearK)"
   ]
  },
  {
   "cell_type": "code",
   "execution_count": null,
   "metadata": {
    "title": "codecell"
   },
   "outputs": [],
   "source": [
    "getChildInfo(linearK)"
   ]
  },
  {
   "cell_type": "markdown",
   "metadata": {
    "lines_to_next_cell": 0,
    "title": "markdown"
   },
   "source": [
    "#### Analysis of Linear Layer that Will Create Values Matrix $V$:"
   ]
  },
  {
   "cell_type": "code",
   "execution_count": null,
   "metadata": {
    "lines_to_next_cell": 0,
    "title": "codecell"
   },
   "outputs": [],
   "source": [
    "printParamInfo(linearV)"
   ]
  },
  {
   "cell_type": "code",
   "execution_count": null,
   "metadata": {
    "lines_to_next_cell": 0,
    "title": "codecell"
   },
   "outputs": [],
   "source": [
    "getChildInfo(linearV)"
   ]
  },
  {
   "cell_type": "markdown",
   "metadata": {
    "lines_to_next_cell": 0,
    "title": "markdown"
   },
   "source": [
    "#### Analysis of Linear Layer that Will Create Query Matrix $Q$:"
   ]
  },
  {
   "cell_type": "code",
   "execution_count": null,
   "metadata": {
    "lines_to_next_cell": 0,
    "title": "codecell"
   },
   "outputs": [],
   "source": [
    "printParamInfo(linearQ)"
   ]
  },
  {
   "cell_type": "code",
   "execution_count": null,
   "metadata": {
    "lines_to_next_cell": 0,
    "title": "codecell"
   },
   "outputs": [],
   "source": [
    "getChildInfo(linearQ)"
   ]
  },
  {
   "cell_type": "markdown",
   "metadata": {
    "title": "markdown"
   },
   "source": [
    "The [memory (sequence of hidden states)](https://synergo.atlassian.net/wiki/spaces/KnowRes/pages/1527480493/segment-level+recurrence+mechanism+ml) is concatenated across the sequence dimension and fed as keys / values.\n",
    "\n",
    "* $\\color{orange}{\\textbf{WARNING}}$: the memory is not concatenated with the queries, since each query represents one word we want to predict, so it wouldn't make sense to modify the number of queries."
   ]
  },
  {
   "cell_type": "code",
   "execution_count": null,
   "metadata": {
    "title": "codecell"
   },
   "outputs": [],
   "source": [
    "# Concatenate the memory and embeddings at dimension = 0 (first dimension)\n",
    "assert memory.names == ('P', 'B', 'E')\n",
    "assert wordEmbeddings.names == ('S', 'B', 'E')\n",
    "\n",
    "# torch.cat([memory, wordEmbeddings], dim = 0)\n",
    "# WARNING: torch.cat() cannot handle named tensors when concatenating ALONG the dimension which has different names! Must drop the names here:\n",
    "wordEmbsWordMemory: Tensor = torch.cat([memory.rename(None), wordEmbeddings.rename(None)], dim = 0)\n",
    "assert wordEmbsWordMemory.names == (None, None, None)\n",
    "\n",
    "# Temporary fix- why can't concatenate make the name 'P + S' ??\n",
    "wordEmbsWordMemory.names = ['P_plus_S', 'B', 'E']\n",
    "\n",
    "# Testing the tensors have been concatenated along their first dimension\n",
    "assert memory.shape == (P, B, E) == (6, 3, 32), \"Test memory shape\"\n",
    "assert wordEmbeddings.shape == (S, B, E) == (7, 3, 32), \"Test wordEmbeddings shape\"\n",
    "assert wordEmbsWordMemory.shape == (P + S, B, E) == (13, 3, 32), \"Test wordEmbs ++ memory shape\""
   ]
  },
  {
   "cell_type": "code",
   "execution_count": null,
   "metadata": {
    "title": "codecell"
   },
   "outputs": [],
   "source": [
    "(P, S, B, I, E) = (6, 7, 3, 17, 32) # Reminder: Dimension names\n",
    "\n",
    "# Passing each word Embedding ++ Memory(hiddenstates) through the layers by multiplication to create the\n",
    "# corresponding matrices. Just like transformer calculation: the query, key, value matrices are formed by m\n",
    "# ultiplying the word embedding matrix with the weights in the corresponding linear layer.\n",
    "\n",
    "# Multiplying along dimension E: weightsK x embeddings: (I, E) x (P+S, B, E) ---> (P+S, B, I)\n",
    "keys: Tensor = linearK(wordEmbsWordMemory) # shape == (P+S, B, None)\n",
    "assert keys.names == ('P_plus_S', 'B', 'I')\n",
    "assert keys.shape == (P + S, B, I)\n",
    "# no need for this since renamed the weights in the linearK layer:\n",
    "# keys: Tensor = keys.refine_names(..., 'I') # last dim is unnamed because of linearK weights matrix\n",
    "\n",
    "# Multiplying along dimension E: weightsV x embeddings: (I, E) x (P+S, B, E) ---> (P+S, B, I)\n",
    "values: Tensor = linearV(wordEmbsWordMemory)\n",
    "assert values.shape == (P + S, B, I)\n",
    "assert  values.names == ('P_plus_S', 'B', 'I')\n",
    "\n",
    "# NOTE: here is where the warning above applies: there is no memory for the queries\n",
    "# Multiplying along dimension E: weightsQ x embeddings: (I, E) x (S, B, E) ---> (S, B, I)\n",
    "queries: Tensor= linearQ(wordEmbeddings)\n",
    "assert queries.names == ('S', 'B', 'I')\n",
    "assert queries.shape == (S, B, I)"
   ]
  },
  {
   "cell_type": "code",
   "execution_count": null,
   "metadata": {
    "title": "codecell"
   },
   "outputs": [],
   "source": [
    "# Do the chunking way as it is in the actuall MaskedMultiHeadAttention class\n",
    "linearKV: Linear = Linear(in_features= E, out_features= (I *  2),  bias = False)\n",
    "linearKV.weight.names = ('I', 'E')\n",
    "\n",
    "assert linearKV.weight.shape == (I*2, E)\n",
    "\n",
    "# Pass through layer, prepare to chunk:\n",
    "keysAndValues: Tensor = linearKV(wordEmbsWordMemory)\n",
    "\n",
    "assert keysAndValues.shape == (P+S, B, I*2) == (13, 3, 34)\n",
    "assert keysAndValues.names == ('P_plus_S', 'B', 'I')\n",
    "\n",
    "\n",
    "# Chunking along the last dimension:\n",
    "lastDim: int = keysAndValues.ndim - 1 # or can write dim = -1\n",
    "keys, values = torch.chunk(keysAndValues, chunks = 2, dim = lastDim)\n",
    "# k, v = torch.chunk(keysAndValues, chunks = 2, dim = 'I') # gives error, dim must be INT not STR\n",
    "assert keys.names == values.names == ('P_plus_S', 'B', 'I')\n",
    "assert keys.shape == values.shape == (P+S, B, I)"
   ]
  },
  {
   "cell_type": "markdown",
   "metadata": {
    "title": "markdown"
   },
   "source": [
    "### Step 2: Compute [Attention](https://synergo.atlassian.net/wiki/spaces/KnowRes/pages/1447035008/self+attention+mechanism) Scores\n",
    "Now we compute [scaled dot product attention](https://synergo.atlassian.net/wiki/spaces/KnowRes/pages/1671856135/scaled+dot+product+attention) as per the usual [Transformer](https://synergo.atlassian.net/wiki/spaces/KnowRes/pages/1370095641/transformer+model+ml) model. [Scaled dot product attention](https://synergo.atlassian.net/wiki/spaces/KnowRes/pages/1671856135/scaled+dot+product+attention) computes the [attention](https://synergo.atlassian.net/wiki/spaces/KnowRes/pages/1447035008/self+attention+mechanism) score as the dot product between the query and key vectors. (To prevent values from exploding as the dimensionality of the vectors increases, we divide the raw attention score by the sqrt of the [embedding](https://synergo.atlassian.net/wiki/spaces/KnowRes/pages/1474331193/embedding%2Bml) size).\n",
    "\n",
    "$$\n",
    "\\text{Attention}(Q, K, V) = \\text{softmax}\\Bigg( \\frac{Q K^T }{\\sqrt{d_k}} \\Bigg) V\n",
    "$$\n",
    "* NOTE: Going to use [einsum notation](https://synergo.atlassian.net/wiki/spaces/KnowRes/pages/1441366077/einsum) to make code easier to read. Einsum denotes the shape of the inputs and outputs using one letter to represent each dimension, same letter representing same size. Einsum is computed by taking the dot product across dimensions with the same character."
   ]
  },
  {
   "cell_type": "code",
   "execution_count": null,
   "metadata": {
    "lines_to_next_cell": 0,
    "title": "codecell"
   },
   "outputs": [],
   "source": [
    "Image(filename =imagePath + \"ModalNet-19.png\")"
   ]
  },
  {
   "cell_type": "code",
   "execution_count": null,
   "metadata": {
    "title": "codecell"
   },
   "outputs": [],
   "source": [
    "\n",
    "### Calculating first the QK part with scaling\n",
    "# queries shape == (S, B, I)\n",
    "# values shape == (P + S, B, I)\n",
    "# keys shape == (P + S, B, I)\n",
    "# (calling J = P + S)\n",
    "# This calculation here means multiplication along inner dimension I = 17\n",
    "\n",
    "# NOTE: einsum not supported with named tensors\n",
    "contentAttn: Tensor = torch.einsum('sbi, jbi -> sjb', [queries.rename(None), keys.rename(None)]) / (E ** 0.5)\n",
    "# QK^T shape must be == (7, 13, 3) == (S, P + S, B)\n",
    "assert contentAttn.shape == (S, P+S, B) == (7, 13, 3)\n",
    "contentAttn: Tensor = contentAttn.refine_names('S', 'P_plus_S', 'B')"
   ]
  },
  {
   "cell_type": "markdown",
   "metadata": {
    "title": "markdown"
   },
   "source": [
    "### Step 3: Relative Positional Encodings\n",
    "Before applying softmax, we need [**relative positional encodings**](https://synergo.atlassian.net/wiki/spaces/KnowRes/pages/1492622435/relative+positional+encoding+ml). Instead of having a single embedding represent each **absolute** position, the [Transformer XL](https://synergo.atlassian.net/wiki/spaces/KnowRes/pages/1513586716) computes an embedding that represents the **relative** distance between any two tokens. This is called the [**relative positional embedding**](https://synergo.atlassian.net/wiki/spaces/KnowRes/pages/1492622435/relative+positional+encoding+ml) and is used to compute the attention between the two word tokens.\n",
    "\n",
    "In the [Transformer model](https://synergo.atlassian.net/wiki/spaces/KnowRes/pages/1370095641/transformer+model+ml), the [attention score](https://synergo.atlassian.net/wiki/spaces/KnowRes/pages/1447035008/self+attention+mechanism) between query $q_i$ and key vector $k_j$ within the same [segment embedding](https://synergo.atlassian.net/wiki/spaces/KnowRes/pages/1511391715/segment+encoding+ml) can be decomposed as:\n",
    "$$\n",
    "\\mathbf{A_{ij}}^\\textbf{abs} = \\underbrace{\\mathbf{E_{x_i}}^T \\mathbf{W_q}^T \\mathbf{W_k} \\mathbf{E_{x_j}}}_{(a)} + \\underbrace{\\mathbf{E_{x_i}}^T \\mathbf{W_q}^T \\mathbf{W_k} \\mathbf{U_j}}_{(b)} + \\underbrace{ \\Big( \\mathbf{U_i}^T \\mathbf{W_q}^T \\Big) \\mathbf{W_k} \\mathbf{E_{x_j}}}_{(c)} + \\underbrace{ \\Big( \\mathbf{U_i}^T \\mathbf{W_q}^T \\Big) \\mathbf{W_k} \\mathbf{U_j}}_{(d)}\n",
    "$$\n",
    "where $E_x$ is the [word embedding](https://synergo.atlassian.net/wiki/spaces/KnowRes/pages/87666969/word+embedding+ml) for token $x$ and the $W$ are all transformation matrices.\n",
    "\n",
    "But for the [Transformer XL](https://synergo.atlassian.net/wiki/spaces/KnowRes/pages/1513586716) the terms are reparametrized as follows (to rely on relative positional information):\n",
    "$$\n",
    "\\mathbf{A_{ij}}^\\textbf{rel} = \\underbrace{\\mathbf{E_{x_i}}^T \\mathbf{W_q}^T \\mathbf{W_{k, E}} \\mathbf{E_{x_j}}}_{(a)} + \\underbrace{\\mathbf{E_{x_i}}^T \\mathbf{W_q}^T \\mathbf{W_{k, R}} \\color{cyan}{\\mathbf{R_{i-j}}} }_{(b)} + \\underbrace{ {\\color{red}{\\mathbf{u}^T}} \\mathbf{W_{k, E}} \\mathbf{E_{x_j}}}_{(c)} + \\underbrace{ {\\color{red}{\\mathbf{v}^T}} \\mathbf{W_{k,R}} \\color{cyan}{\\mathbf{R_{i-j}}} }_{(d)}\n",
    "$$\n",
    "\n",
    "**Describing the Changes:**\n",
    "\n",
    "1. Replace all absolute positional embeddings $\\mathbf{U_j}$ with the equivalent counterpart relative positional embedding $\\color{cyan}{\\mathbf{R_{i-j}}}$, since only relative distance matters in the attention calculation. NOTE: $\\color{cyan}{\\mathbf{R}}$ is a sinusoid encoding matrix without learnable parameters.\n",
    "2. Introduce trainable parameter $\\color{red}{u} \\in \\mathbb{R}^d$ to replace the query $\\Big( \\mathbf{U_i}^T \\mathbf{W_q}^T \\Big)$, just in term $(c)$. It was replaced because, in this case, since this query vector is the same for all query positions, the attentive bias towards different words should remain the same regardless of the query position. Similarly, a trainable parameter $\\color{red}{v} \\in \\mathbb{R}^d$ substitutes the query term $\\Big( \\mathbf{U_i}^T \\mathbf{W_q}^T \\Big)$ in term $(d)$.\n",
    "3. Separate the two weight matrices $\\mathbf{W}_{k, E}$ and $\\mathbf{W}_{k, R}$ for producing the content-based key vectors and location-based key vectors respectively.\n",
    "\n",
    "**Describing Intuition Behind the Changes:**\n",
    "\n",
    "Under this reparametrizing, every term has an intuitive meaning:\n",
    "* **Content-based addressing:** is term $(a)$, represents the original attention score without any [positional encoding](https://synergo.atlassian.net/wiki/spaces/KnowRes/pages/1470169419/positional+embedding+ml).\n",
    "* **Content-dependent positional bias:** is term $(b)$, and is a positional bias with respect to the current query $Q_i$. It uses a sinusoidal function that gets *relative* distance between tokens (like $i - j$) instead of *absolute* position of a current token.\n",
    "* **Learned global content bias:** is term $(c)$, is a learned vector that accounts for the other tokens in the key matrix $K$.\n",
    "* **Learned global positional bias:** is term $(d)$, is a learned vector that adjusts the importance based only on distance between tokens, using the intuition that recent previous words are more relevant than words from previous paragraphs."
   ]
  },
  {
   "cell_type": "markdown",
   "metadata": {
    "lines_to_next_cell": 0,
    "title": "markdown"
   },
   "source": [
    "Implementing term $\\large (c)$:\n",
    "\n",
    "$$\n",
    "\\mathbf{A_{ij}}^\\textbf{rel} = \\underbrace{\\mathbf{E_{x_i}}^T \\mathbf{W_q}^T \\mathbf{W_{k, E}} \\mathbf{E_{x_j}}}_{(a)} + \\underbrace{\\mathbf{E_{x_i}}^T \\mathbf{W_q}^T \\mathbf{W_{k, R}} \\color{cyan}{\\mathbf{R_{i-j}}} }_{(b)} + {\\Large \\underbrace{ {\\color{red}{\\mathbf{u}^T}} \\mathbf{W_{k, E}} \\mathbf{E_{x_j}}}_{(c)}} + \\underbrace{ {\\color{red}{\\mathbf{v}^T}} \\mathbf{W_{k,R}} \\color{cyan}{\\mathbf{R_{i-j}}} }_{(d)}\n",
    "$$"
   ]
  },
  {
   "cell_type": "code",
   "execution_count": null,
   "metadata": {
    "lines_to_next_cell": 2,
    "title": "codecell"
   },
   "outputs": [],
   "source": [
    "u: Tensor = torch.rand(I).expand_as(queries.rename(None)).refine_names('S', 'B', 'I')\n",
    "\n",
    "assert u.shape == queries.shape == (S, B, I) == (7, 3, 17), \"Test u.shape == queries.shape\"\n",
    "\n",
    "assert keys.shape == (P + S, B, I), \"Test keys.shape\"\n",
    "assert keys.names == ('P_plus_S', 'B', 'I')\n",
    "\n",
    "assert contentAttn.shape == (S, P+S, B) == (7, 13, 3), \"Test content Attn shape before\"\n",
    "assert contentAttn.names == ('S', 'P_plus_S', 'B')\n",
    "\n",
    "### Calculate term C, multiply along dimension I:    u x keys :     (S, B, I) x (P+S, B, I) ---> (S, P+S, B)\n",
    "## GOAL: to get result after multiplying to have shape equal to contentAttn.shape which is 'sjb' so set the result shape to 'sjb' instead of other way 'jsb'\n",
    "c: Tensor = torch.einsum('sbi, jbi -> sjb', [u.rename(None), keys.rename(None)])\n",
    "c: Tensor = c.refine_names('S', 'P_plus_S', 'B')\n",
    "contentAttn_C: Tensor = contentAttn + c / (E ** 0.5)\n",
    "\n",
    "assert contentAttn_C.shape == (S, P+S, B), \"Test content attention shape after adding term (c)\"\n",
    "assert contentAttn_C.names == ('S', 'P_plus_S', 'B')"
   ]
  },
  {
   "cell_type": "markdown",
   "metadata": {
    "lines_to_next_cell": 0,
    "title": "markdown"
   },
   "source": [
    "Next: compute [relative positional embeddings](https://synergo.atlassian.net/wiki/spaces/KnowRes/pages/1492622435/relative+positional+encoding+ml) necessary for the positional attention terms. For the the [relative positional embeddings](https://synergo.atlassian.net/wiki/spaces/KnowRes/pages/1492622435/relative+positional+encoding+ml), the [Transformer XL](https://synergo.atlassian.net/wiki/spaces/KnowRes/pages/1513586716) uses fixed sinusoidal embeddings."
   ]
  },
  {
   "cell_type": "code",
   "execution_count": null,
   "metadata": {
    "title": "codecell"
   },
   "outputs": [],
   "source": [
    "posIndices: Tensor = torch.arange(S + P - 1, -1, -1.0, dtype = torch.float)\n",
    "posIndices.names = ('P_plus_S',)\n",
    "\n",
    "assert posIndices.shape == (P+S, ) == (13,)"
   ]
  },
  {
   "cell_type": "code",
   "execution_count": null,
   "metadata": {
    "title": "codecell"
   },
   "outputs": [],
   "source": [
    "invFreq: Tensor = (1 / (10000 ** (torch.arange(0.0, E, 2.0) / E))).refine_names('E')# naming this dimension as E even though its size is currently E/2\n",
    "assert invFreq.shape == (E/2,) == (16, )\n",
    "\n",
    "# Outer Product to get sinusoidal tensor: This notation i, j -> ij means to keep both dimensions (cross product or outer product)\n",
    "sinusoidInp: Tensor = torch.einsum('i, j -> ij', [posIndices.rename(None), invFreq.rename(None)])\n",
    "sinusoidInp.names = ('P_plus_S', 'E') # need to do this manually ebcause einsum doesn'ts upport named tensors\n",
    "assert sinusoidInp.shape == (P+S, E/2) == (13, 16)\n",
    "\n",
    "\n",
    "# Plotting the sinusoidals on some dimensions:\n",
    "plt.plot(sinusoidInp[0, :].detach().numpy());\n",
    "plt.plot(sinusoidInp[3, :].detach().numpy());\n",
    "plt.plot(sinusoidInp[6, :].detach().numpy());\n",
    "plt.plot(sinusoidInp[9, :].detach().numpy());\n",
    "plt.plot(sinusoidInp[12, :].detach().numpy());"
   ]
  },
  {
   "cell_type": "code",
   "execution_count": null,
   "metadata": {
    "lines_to_next_cell": 2,
    "title": "codecell"
   },
   "outputs": [],
   "source": [
    "# NOTE: dim = -1 means last dimension, so concatenating on last dimension here, only then adding tensor of dim 1 at dim 1\n",
    "sinusoidInp_: Tensor = sinusoidInp.rename(None)\n",
    "a = torch.cat([sinusoidInp_.sin(), sinusoidInp_.cos()], dim = -1)[:, None,:]\n",
    "b = torch.cat([sinusoidInp_.sin(), sinusoidInp_.cos()], dim = -1).unsqueeze(1)\n",
    "assert torch.equal(a, b), \"Test another way of adding tensor of dim = 1 in a tensor\"\n",
    "\n",
    "# NOTE: Here torch.cat() works because we are concatenating along a dimension where names do not clash at all (at the last dimension, unnamed)\n",
    "assert torch.cat([sinusoidInp.sin(), sinusoidInp.cos()], dim = -1).names == ('P_plus_S', 'E')\n",
    "\n",
    "# Now can use align_to() to insert batch dimension B (with size 1) instead of using unsqueeze(1)\n",
    "relPosEmbsTensor: Tensor = torch.cat([sinusoidInp.sin(), sinusoidInp.cos()], dim = -1).align_to('P_plus_S', 'B', 'E')\n",
    "assert relPosEmbsTensor.names == ('P_plus_S', 'B', 'E')\n",
    "assert relPosEmbsTensor.shape == b.shape == a.shape\n",
    "# Check the view() is same as align_to()\n",
    "assert torch.equal(relPosEmbsTensor.rename(None), b)\n",
    "\n",
    "# B batch size = 1 now\n",
    "assert relPosEmbsTensor.shape == (P+S, 1, E) == (13, 1, 32), \"Test relative positional embeddings shape\""
   ]
  },
  {
   "cell_type": "markdown",
   "metadata": {
    "lines_to_next_cell": 0,
    "title": "markdown"
   },
   "source": [
    "Gathering up all the above information into a class for [relative positional embeddings](https://synergo.atlassian.net/wiki/spaces/KnowRes/pages/1492622435/relative+positional+encoding+ml):"
   ]
  },
  {
   "cell_type": "code",
   "execution_count": null,
   "metadata": {
    "lines_to_next_cell": 2,
    "title": "codecell"
   },
   "outputs": [],
   "source": [
    "from src.ModelStudy.TransformerXL.RelativePositionalEmbedding import RelativePositionalEmbedding\n",
    "\n",
    "# Testing to see if this class if working:\n",
    "rpe: RelativePositionalEmbedding = RelativePositionalEmbedding(embedDim= E)\n",
    "#rpe\n",
    "\n",
    "iPos: Tensor = torch.rand(P+S)\n",
    "relPosEmbsTensor: Tensor = rpe(iPos)\n",
    "\n",
    "assert relPosEmbsTensor.shape == (P+S, 1, E) == (13, 1, 32)\n",
    "assert relPosEmbsTensor.names == ('P_plus_S', 'B', 'E')"
   ]
  },
  {
   "cell_type": "markdown",
   "metadata": {
    "title": "markdown"
   },
   "source": [
    "Apply transformations to the [relative positional embeddings](https://synergo.atlassian.net/wiki/spaces/KnowRes/pages/1492622435/relative+positional+encoding+ml) separate from the values and keys matrices, $V$ and $K$:"
   ]
  },
  {
   "cell_type": "code",
   "execution_count": null,
   "metadata": {
    "lines_to_next_cell": 0,
    "title": "codecell"
   },
   "outputs": [],
   "source": [
    "linearP: Linear = Linear(in_features = E, out_features = I)\n",
    "linearP.weight.names = ('I', 'E')\n",
    "linearP.bias.names = ('I',)\n",
    "\n",
    "print(f\"linearP: {linearP}\")\n",
    "printParamInfo(linearP)"
   ]
  },
  {
   "cell_type": "code",
   "execution_count": null,
   "metadata": {
    "title": "codecell"
   },
   "outputs": [],
   "source": [
    "assert relPosEmbsTensor.names == ('P_plus_S', 'B', 'E')\n",
    "\n",
    "# weightsLinearP x relPosEmbsTensor  ----> posEmbsTensor\n",
    "# (I, E) x (P+S, B=1, E) ---> (P+S, B=1, I)\n",
    "posEmbsTensor: Tensor = linearP(relPosEmbsTensor)\n",
    "\n",
    "assert posEmbsTensor.names == ('P_plus_S', 'B', 'I')\n",
    "assert relPosEmbsTensor.shape == (P+S, 1, E) == (13, 1, 32)\n",
    "assert posEmbsTensor.shape == (P+S, 1, I) == (13, 1, 17)"
   ]
  },
  {
   "cell_type": "markdown",
   "metadata": {
    "lines_to_next_cell": 0,
    "title": "markdown"
   },
   "source": [
    "Adding positional bias during attention computation:"
   ]
  },
  {
   "cell_type": "code",
   "execution_count": null,
   "metadata": {
    "title": "codecell"
   },
   "outputs": [],
   "source": [
    "# Positional bias (v)\n",
    "v: Tensor = torch.randn(I).refine_names('I')\n",
    "\n",
    "# The pos_tfmd just without the middle dimension\n",
    "# NOTE: need to use squeeze() still, no replacement for this method like align_to() replaces view()\n",
    "posEmbsTensor_squeezed: Tensor = posEmbsTensor.squeeze('B')\n",
    "posEmbsTensor_view: Tensor = posEmbsTensor.rename(None).view(P+S, I)\n",
    "\n",
    "assert (posEmbsTensor_view == posEmbsTensor_squeezed).all()\n",
    "\n",
    "# WARNING!!! this is only true when the batch dimension B == 1\n",
    "assert (posEmbsTensor[:, 0, :] == posEmbsTensor.squeeze('B')).all(), \"Test alternate way of choosing first element of a dimension in a tensor\"\n",
    "\n",
    "assert posEmbsTensor_squeezed.names == ('P_plus_S', 'I')\n",
    "assert posEmbsTensor_squeezed.shape == posEmbsTensor_view.shape == (P+S, I) == (13, 17)\n",
    "\n",
    "### Calculate positional attention, multiplying along dimension I: (queries + v) x posNoMid\n",
    "# (S, B, I) x (P+S, I) ---> (S, P+S, B)\n",
    "# TODO: why not have: 'sbi, ji -> sbj' ??\n",
    "queries_, v_, posEmbsTensor_ = queries.rename(None), v.rename(None), posEmbsTensor_squeezed.rename(None)\n",
    "posAttn_: Tensor = torch.einsum('sbi, ji -> sjb', [queries_ + v_, posEmbsTensor_])\n",
    "posAttn: Tensor = posAttn_.refine_names('S', 'P_plus_S', 'B')\n",
    "\n",
    "assert posAttn.shape == (S, P+S, B) == (7, 13, 3)"
   ]
  },
  {
   "cell_type": "markdown",
   "metadata": {
    "lines_to_next_cell": 0,
    "title": "markdown"
   },
   "source": [
    "Since we compute a [relative positional embedding](https://synergo.atlassian.net/wiki/spaces/KnowRes/pages/1492622435/relative+positional+encoding+ml) for each key-query pair, a naive implementation of [attention](https://synergo.atlassian.net/wiki/spaces/KnowRes/pages/1447035008/self+attention+mechanism) using [relative positional embedding](https://synergo.atlassian.net/wiki/spaces/KnowRes/pages/1492622435/relative+positional+encoding+ml)s would be $O(n^2)$ in terms of computational complexity. Dai et al. (2019) can reduce this to $O(n)$ time by computing the [attention](https://synergo.atlassian.net/wiki/spaces/KnowRes/pages/1447035008/self+attention+mechanism) for one query then shifting the [relative positional embedding](https://synergo.atlassian.net/wiki/spaces/KnowRes/pages/1492622435/relative+positional+encoding+ml) for different query positions."
   ]
  },
  {
   "cell_type": "code",
   "execution_count": null,
   "metadata": {
    "lines_to_next_cell": 2,
    "title": "codecell"
   },
   "outputs": [],
   "source": [
    "zeroPad_: Tensor = torch.zeros( (S, 1, B), dtype = torch.float)\n",
    "zeroPad: Tensor = zeroPad_.refine_names('S', 'P_plus_S', 'B')\n",
    "\n",
    "assert posAttn.names == ('S', 'P_plus_S', 'B')\n",
    "\n",
    "assert posAttn_.shape == (S, P+S, B) == (7, 13, 3)\n",
    "assert zeroPad_.shape == (S, 1, B) == (7, 1, 3)\n",
    "\n",
    "assert torch.equal(zeroPad_, zeroPad.rename(None))\n",
    "assert torch.equal(posAttn_, posAttn.rename(None))\n",
    "\n",
    "\n",
    "\n",
    "# --------------------------------------------------------------------------------------------------------\n",
    "# RELATIVE SHIFTING: This padding + shifting efficiently computes the attention for all\n",
    "# Concatenate the zero pad with posAttn on dimension = 1 (works here for named tensors since dim = 1 has same name)\n",
    "shift_: Tensor = torch.cat([zeroPad_, posAttn_], dim = 1) # unnamed shift\n",
    "assert shift_.names == (None, None, None)\n",
    "assert shift_.shape == (S, P+S+1, B) == (7, 14, 3)\n",
    "\n",
    "shift: Tensor = torch.cat([zeroPad, posAttn], dim = 'P_plus_S') # named shift\n",
    "assert shift.names == ('S', 'P_plus_S', 'B')\n",
    "assert shift.shape == (S, P+S+1, B) == (7, 14, 3)\n",
    "\n",
    "# Checking both shifts are equal:\n",
    "assert torch.equal(shift_, shift.rename(None))\n",
    "\n",
    "\n",
    "# --------------------------------------------------------------------------------------------------------\n",
    "# Reshaping the shift_ with view() and named shift with align_as() to remove first element at P+S\n",
    "shiftCut_: Tensor = shift_.view(P+S+1, S, B)[1:] # in relativeShift function : view(firstDim, secondDim, remainDims)[1:]\n",
    "assert shiftCut_.shape == (P+S, S, B) == (13, 7, 3)\n",
    "assert shiftCut_.names == (None, None, None)\n",
    "\n",
    "\n",
    "shiftCut: Tensor = shift.align_to('P_plus_S', 'S', 'B')[1:] # align_to() is same as permute(), transpose()\n",
    "assert shiftCut.shape == (P+S, S, B) == (13, 7, 3)\n",
    "assert shift.names == ('S', 'P_plus_S', 'B')\n",
    "assert shiftCut.names == ('P_plus_S', 'S', 'B') # dims 1, 2 have been switched around\n",
    "\n",
    "### TODO LEFT OFF HERE TROUBLE\n",
    "torch.equal(shiftCut_, shiftCut.rename(None))\n",
    "\n",
    "# --------------------------------------------------------------------------------------------------------\n",
    "# Last step: reshaping the SHIFT to be the same as posAttn shape\n",
    "\n",
    "#posAttnPadded_: Tensor = (torch.cat([zeroPad_, posAttn_], dim = 1)\n",
    "#                         .view(P+S+1, S, B)[1:] # switch dims to be P+S+1, S, and cut from dim=0 (P+S,S,B)\n",
    "#                         .view_as(posAttn_)) # switching dims to be S, P+S (shape == (S, P+S, B)\n",
    "\n",
    "\n",
    "#posAttnPadded: Tensor = (torch.cat([zeroPad, posAttn], dim = 'P_plus_S')\n",
    "#                         .align_to('P_plus_S', 'S', 'B')[1:]\n",
    "#                         .align_as(posAttn))\n",
    "\n",
    "\n",
    "# Constructing the padded attention the unnamed way:\n",
    "posAttnPadded_: Tensor = shiftCut_.view_as(posAttn_)\n",
    "assert posAttnPadded_.shape == posAttn_.shape == (S, P+S, B) == (7, 13, 3)\n",
    "assert posAttnPadded_.names == (None, None, None)\n",
    "\n",
    "# Constructing the padded attention the NAMED way:\n",
    "posAttnPadded: Tensor = shiftCut.align_as(posAttn)\n",
    "\n",
    "assert posAttnPadded.names == posAttn.names == ('S', 'P_plus_S', 'B')\n",
    "assert posAttnPadded.shape == posAttn.shape == (S, P+S, B) == (7, 13, 3)"
   ]
  },
  {
   "cell_type": "markdown",
   "metadata": {
    "lines_to_next_cell": 0,
    "title": "markdown"
   },
   "source": [
    "The attention is computed as the **sum of the content and positional attention**:"
   ]
  },
  {
   "cell_type": "code",
   "execution_count": null,
   "metadata": {
    "title": "codecell"
   },
   "outputs": [],
   "source": [
    "\n",
    "rawAttn: Tensor = contentAttn_C + posAttnPadded\n",
    "\n",
    "assert rawAttn.names == contentAttn_C.names == posAttnPadded.names == ('S', 'P_plus_S', 'B')\n",
    "assert rawAttn.shape == contentAttn_C.shape == posAttnPadded.shape == (S, P+S, B) == (7, 13, 3)"
   ]
  },
  {
   "cell_type": "markdown",
   "metadata": {
    "lines_to_next_cell": 0,
    "title": "markdown"
   },
   "source": [
    "When doing language modeling, we must prevent the model from 'cheating' (from looking at the word it should be predicting). In the [Transformer's decoder](https://synergo.atlassian.net/wiki/spaces/KnowRes/pages/1521090937/decoder+self+attention+in+transformer), the [Transformer](https://synergo.atlassian.net/wiki/spaces/KnowRes/pages/1370095641/transformer+model+ml) hides prediction words by setting the [attention](https://synergo.atlassian.net/wiki/spaces/KnowRes/pages/1447035008/self+attention+mechanism) score to zero, to [mask](https://synergo.atlassian.net/wiki/spaces/KnowRes/pages/1462730780/mask) out words the model should not see.\n",
    "\n",
    "Adopting the same [attention masking in the `MultiHeadAttention` module](https://synergo.atlassian.net/wiki/spaces/KnowRes/pages/1521090937/decoder+self+attention+in+transformer) for the [Transformer-XL](https://synergo.atlassian.net/wiki/spaces/KnowRes/pages/1513586716/transformer-XL+model+ml):"
   ]
  },
  {
   "cell_type": "code",
   "execution_count": null,
   "metadata": {
    "title": "codecell"
   },
   "outputs": [],
   "source": [
    "# NOTE: triu concatenates upper triangular matrix, starting at upper row index = diagonal = 1+P = 8\n",
    "torch.triu(torch.ones((S, P+S)), diagonal = 1+P ).byte()"
   ]
  },
  {
   "cell_type": "code",
   "execution_count": null,
   "metadata": {
    "lines_to_next_cell": 2,
    "title": "codecell"
   },
   "outputs": [],
   "source": [
    "longvec = torch.ones((S, P+S, S, P+S, S))\n",
    "endDim: int = longvec.ndim\n",
    "assert endDim == 5\n",
    "\n",
    "resultUnsqueeze_ = torch.triu(longvec, diagonal = 1+P, ).byte().unsqueeze(endDim)\n",
    "resultNone_ = torch.triu(longvec, diagonal = 1+P, ).byte()[...,None]\n",
    "resultAlign = torch.triu(longvec, diagonal = 1+P, ).byte().align_to(..., 'END_DIM') # insert size 1 tensor at last dim\n",
    "resultView_ = torch.triu(longvec, diagonal = 1+P, ).byte().view(*longvec.shape, 1)\n",
    "\n",
    "\n",
    "assert resultUnsqueeze_.shape == resultNone_.shape == resultAlign.shape == resultView_.shape == (S, P+S, S, P+S, S, 1) == (7, 13, 7, 13, 7, 1)\n",
    "assert resultUnsqueeze_.names == resultNone_.names == resultView_.names == (None, None, None, None, None, None)\n",
    "assert resultAlign.names == (None, None, None, None, None, 'END_DIM')\n",
    "\n",
    "# Checking: all combinations are equal: unsqueeze() == None method == align_to() == view() when inserting 1-dim tensors\n",
    "resultAlign_ = resultAlign.rename(None)\n",
    "\n",
    "assert (resultUnsqueeze_ == resultNone_).all()\n",
    "assert (resultUnsqueeze_ == resultAlign_).all()\n",
    "assert (resultUnsqueeze_ == resultView_).all()\n",
    "assert (resultNone_ == resultAlign_).all()\n",
    "assert (resultNone_ == resultView_).all()\n",
    "# NOTE align_to() == view() because we added a dimension here, and were not permuting\n",
    "assert (resultAlign_ == resultView_).all()"
   ]
  },
  {
   "cell_type": "code",
   "execution_count": null,
   "metadata": {
    "lines_to_next_cell": 0,
    "title": "codecell"
   },
   "outputs": [],
   "source": [
    "# Now applying the same strategy to the mask\n",
    "mask_: Tensor = torch.triu(torch.ones((S, P+S)), diagonal = 1+P, ).byte().align_to(..., 'B')\n",
    "# mask: Tensor = torch.triu(torch.ones((S, P+S)), diagonal = 1+P, ).byte().unsqueeze(2)\n",
    "assert mask_.names == (None, None, 'B')\n",
    "\n",
    "mask: Tensor = mask_.refine_names('S', 'P_plus_S', ...)\n",
    "assert mask.names == ('S', 'P_plus_S', 'B')\n",
    "assert mask.shape == (S, P+S, 1) == (7, 13, 1)\n",
    "\n",
    "mask"
   ]
  },
  {
   "cell_type": "code",
   "execution_count": null,
   "metadata": {
    "title": "codecell"
   },
   "outputs": [],
   "source": [
    "# NOTE: changing mask to use type bool since mask with type byte is deprecated\n",
    "maskBool = mask.bool()\n",
    "rawAttnMasked: Tensor = rawAttn.masked_fill(mask = maskBool, value = -float('inf'))\n",
    "\n",
    "assert maskBool.names == rawAttn.names == rawAttnMasked.names == ('S', 'P_plus_S', 'B')\n",
    "assert rawAttn.shape == rawAttnMasked.shape == (S, P+S, B) == (7, 13, 3)\n",
    "assert maskBool.shape == (S, P+S, 1)"
   ]
  },
  {
   "cell_type": "markdown",
   "metadata": {
    "lines_to_next_cell": 0,
    "title": "markdown"
   },
   "source": [
    "Compute the outputs as the weighted sum of the value vectors in value matrix $V$, using the attention scores:"
   ]
  },
  {
   "cell_type": "code",
   "execution_count": null,
   "metadata": {
    "title": "codecell"
   },
   "outputs": [],
   "source": [
    "# Doing softmax on dim=1, which has size 13\n",
    "attn: Tensor = torch.softmax(rawAttnMasked, dim = 'P_plus_S')\n",
    "\n",
    "assert attn.names == rawAttnMasked.names == ('S', 'P_plus_S', 'B')\n",
    "assert attn.shape == (S, P+S, B) == (7, 13, 3)\n",
    "\n",
    "assert values.names == ('P_plus_S', 'B', 'I')\n",
    "assert values.shape == (P + S, B, I) == (13, 3, 17)\n",
    "\n",
    "# TODO: how to know which dimensions on which to do the calculations? Why is the shape 'sji' the one that is required?\n",
    "# NOTE: doing calculation on dimension j = P+S so that result has shape SBI\n",
    "attn_, values_ = attn.rename(None), values.rename(None)\n",
    "attnWeightedSum: Tensor = torch.einsum('sjb, jbi -> sbi', [attn_, values_]).refine_names('S', 'B', 'I')\n",
    "\n",
    "assert attnWeightedSum.shape == (S, B, I) == (7, 3, 17)\n",
    "assert attnWeightedSum.names == ('S', 'B', 'I')"
   ]
  },
  {
   "cell_type": "markdown",
   "metadata": {
    "lines_to_next_cell": 0,
    "title": "markdown"
   },
   "source": [
    "Final step: project the attention weighted sums back to their original dimension and apply a residual connection and layer normalization:"
   ]
  },
  {
   "cell_type": "code",
   "execution_count": null,
   "metadata": {
    "lines_to_next_cell": 0,
    "title": "codecell"
   },
   "outputs": [],
   "source": [
    "\n",
    "linearOut: Linear = Linear(in_features= I, out_features=E) # I = innerDim, E = embeddingDim\n",
    "linearOut.weight.names = ('E', 'I')\n",
    "linearOut.bias.names = ('E',)\n",
    "print(linearOut)\n",
    "printParamInfo(linearOut)"
   ]
  },
  {
   "cell_type": "code",
   "execution_count": null,
   "metadata": {
    "lines_to_next_cell": 0,
    "title": "codecell"
   },
   "outputs": [],
   "source": [
    "layerNorm: LayerNorm = LayerNorm(normalized_shape= E) # E = embeddingDim\n",
    "# WARNING: LayerNorm object  not supported with named tensors\n",
    "# layerNorm.weight.names = ('E',)\n",
    "# layerNorm.bias.names = ('E',)\n",
    "print(layerNorm)\n",
    "printParamInfo(layerNorm)"
   ]
  },
  {
   "cell_type": "code",
   "execution_count": null,
   "metadata": {
    "lines_to_next_cell": 2,
    "title": "codecell"
   },
   "outputs": [],
   "source": [
    "assert wordEmbeddings.names == ('S', 'B', 'E')\n",
    "assert attnWeightedSum.names == ('S', 'B', 'I')\n",
    "\n",
    "assert wordEmbeddings.shape == (S, B, E) == (7, 3, 32)\n",
    "assert attnWeightedSum.shape == (S, B, I) == (7, 3, 17)\n",
    "\n",
    "# Weights x attnWeightedSum ----> linearOut   (multiplying along dimension I)\n",
    "# (E, I) x (S, B, I) ----> (S, B, E)\n",
    "assert linearOut(attnWeightedSum).shape == (S, B, E) == (7, 3, 32)\n",
    "assert linearOut(attnWeightedSum).names == ('S', 'B', 'E')\n",
    "\n",
    "# WARNING: LayerNorm object  not supported with named tensors\n",
    "# weightsLayerNorm (E) * layerNormInput (S, B, E) ---> (S, B, E)\n",
    "output_: Tensor = layerNorm((wordEmbeddings + linearOut(attnWeightedSum)).rename(None))\n",
    "output: Tensor = output_.refine_names('S', 'B', 'E')\n",
    "\n",
    "assert output.shape == (S, B, E) == (7, 3, 32)"
   ]
  },
  {
   "cell_type": "markdown",
   "metadata": {
    "lines_to_next_cell": 0,
    "title": "markdown"
   },
   "source": [
    "### Step 4: MultiHeadAttention: The Core Component\n",
    "Aggregating all the above and applying some optimizations by grouping computations and adding dropout, we can create the `MultiHeadAttention` module:"
   ]
  },
  {
   "cell_type": "code",
   "execution_count": null,
   "metadata": {
    "lines_to_next_cell": 0,
    "title": "codecell"
   },
   "outputs": [],
   "source": [
    "from src.ModelStudy.TransformerXL.MaskedMultiHeadAttention import MaskedMultiHeadAttention\n",
    "\n",
    "# Mini-test to see if this class runs successfully:\n",
    "H = 4\n",
    "mha: MaskedMultiHeadAttention = MaskedMultiHeadAttention(embedDim= E,  # 32\n",
    "                                                         innerDim = I,  # 17\n",
    "                                                         numHeads = H,  # 4\n",
    "                                                         dropoutO = 0.3)\n",
    "mha"
   ]
  },
  {
   "cell_type": "code",
   "execution_count": null,
   "metadata": {
    "lines_to_next_cell": 2,
    "title": "codecell"
   },
   "outputs": [],
   "source": [
    "printParamInfo(mha) # so dropout is not a parameter"
   ]
  },
  {
   "cell_type": "code",
   "execution_count": null,
   "metadata": {
    "title": "codecell"
   },
   "outputs": [],
   "source": [
    "torch.manual_seed(123)\n",
    "\n",
    "inputWordEmbs: Tensor = torch.rand(S, B, E).refine_names('S', 'B', 'E')\n",
    "# NOTE: putting in a batch dimension here even though the source tutorial doesn't, since otherwise error is thrown in\n",
    "# the named tensor operation in MHA class at pos reshaping:\n",
    "#     .flatten(dims = ['B', 'H'], out_dim = 'HB'))\n",
    "# RuntimeError: Name 'B' not found in Tensor['P_plus_S', 'H', 'I'].\n",
    "relPosEmbs: Tensor = torch.rand(P+S, B, E).refine_names('P_plus_S', 'B' , 'E')\n",
    "memory: Tensor = torch.rand(P, B, E).refine_names('P', 'B', 'E')\n",
    "u, v = torch.rand(H, I).refine_names('H', 'I'), torch.rand(H, I).refine_names('H', 'I')\n",
    "\n",
    "outputMHA: Tensor = mha(inputWordEmbs, relPosEmbs, u, v, memory)\n",
    "\n",
    "assert outputMHA.shape == (S, B, E) == (7, 3, 32)\n",
    "assert outputMHA.names == ('S', 'B', 'E')"
   ]
  },
  {
   "cell_type": "markdown",
   "metadata": {
    "lines_to_next_cell": 2,
    "title": "markdown"
   },
   "source": [
    "### Step 5: Positionwise Feed Forward Layer\n",
    "After the [`MultiHeadAttention`](https://synergo.atlassian.net/wiki/spaces/KnowRes/pages/1446445463/multi-head+attention+mechanism) layer is the [`PositionwiseFeedForward`](https://synergo.atlassian.net/wiki/spaces/KnowRes/pages/126190352/feed+forward+neural+network+FNN) layer. Both are the key components in the Decoder block."
   ]
  },
  {
   "cell_type": "code",
   "execution_count": null,
   "metadata": {
    "title": "codecell"
   },
   "outputs": [],
   "source": [
    "from src.ModelStudy.TransformerXL.PositionwiseFeedForward import PositionwiseFeedForward\n",
    "\n",
    "\n",
    "F = 71\n",
    "# Testing the module:\n",
    "posFF: PositionwiseFeedForward = PositionwiseFeedForward(embedDim = E, innerDim = F, dropoutO = 0.3)\n",
    "posFF"
   ]
  },
  {
   "cell_type": "code",
   "execution_count": null,
   "metadata": {
    "lines_to_next_cell": 0,
    "title": "codecell"
   },
   "outputs": [],
   "source": [
    "printParamInfo(posFF)"
   ]
  },
  {
   "cell_type": "code",
   "execution_count": null,
   "metadata": {
    "lines_to_next_cell": 0,
    "title": "codecell"
   },
   "outputs": [],
   "source": [
    "printChildInfo(posFF.feedForward) # all the items in Sequential() object"
   ]
  },
  {
   "cell_type": "code",
   "execution_count": null,
   "metadata": {
    "lines_to_next_cell": 0,
    "title": "codecell"
   },
   "outputs": [],
   "source": [
    "briefParams(posFF)"
   ]
  },
  {
   "cell_type": "code",
   "execution_count": null,
   "metadata": {
    "lines_to_next_cell": 2,
    "title": "codecell"
   },
   "outputs": [],
   "source": [
    "seqFF = posFF.feedForward\n",
    "\n",
    "assert seqFF[0].weight.names == ('F', 'E')\n",
    "assert seqFF[0].bias.names == ('F',)\n",
    "assert seqFF[3].weight.names == ('E', 'F')\n",
    "assert seqFF[3].bias.names == ('E',)"
   ]
  },
  {
   "cell_type": "code",
   "execution_count": null,
   "metadata": {
    "title": "codecell"
   },
   "outputs": [],
   "source": [
    "inputFF: Tensor = torch.rand(S, B, E).refine_names('S', 'B', 'E')\n",
    "\n",
    "outputFF: Tensor = posFF(inputFF)\n",
    "\n",
    "assert outputFF.shape == (S, B, E) == (7, 3, 32)\n",
    "assert outputFF.names == ('S', 'B', 'E')"
   ]
  },
  {
   "cell_type": "markdown",
   "metadata": {
    "lines_to_next_cell": 0,
    "title": "markdown"
   },
   "source": [
    "### Step 6: Build the Decoder\n",
    "To construct the decoder block, all we need in addition to the [`MultiHeadAttention`](https://synergo.atlassian.net/wiki/spaces/KnowRes/pages/1446445463/multi-head+attention+mechanism) layer is the [`PositionwiseFeedForward`](https://synergo.atlassian.net/wiki/spaces/KnowRes/pages/126190352/feed+forward+neural+network+FNN) layer.\n",
    "\n",
    "**NOTE:** The [Transformer](https://synergo.atlassian.net/wiki/spaces/KnowRes/pages/1370095641/transformer+model+ml)'s Encoder is SIMILAR to the [TransformerXL](https://synergo.atlassian.net/wiki/spaces/KnowRes/pages/1513586716/transformer-XL+model+ml)'s Decoder. The [Transformer](https://synergo.atlassian.net/wiki/spaces/KnowRes/pages/1370095641/transformer+model+ml)'s Encoder block uses un-masked [multi-head attention](https://synergo.atlassian.net/wiki/spaces/KnowRes/pages/1446445463/multi-head+attention+mechanism) layer while the [TransformerXL](https://synergo.atlassian.net/wiki/spaces/KnowRes/pages/1513586716/transformer-XL+model+ml) Decoder block uses [**masked** multi head attention](https://synergo.atlassian.net/wiki/spaces/KnowRes/pages/1520894410/masked+multi-head+attention) layer. [TransformerXL](https://synergo.atlassian.net/wiki/spaces/KnowRes/pages/1513586716/transformer-XL+model+ml)'s Decoder consists of the following components:\n",
    "\n",
    "* A [masked multi-head attention](https://synergo.atlassian.net/wiki/spaces/KnowRes/pages/1521090937/decoder+self+attention+in+transformer) block\n",
    "* A simple [feedforward neural network](https://synergo.atlassian.net/wiki/spaces/KnowRes/pages/126190352/feed+forward+neural+network+FNN)\n",
    "\n",
    "These components are connected using [residual connection](https://synergo.atlassian.net/wiki/spaces/KnowRes/pages/1511358877/residual+connection+layer+ml)s and [layer normalization](https://synergo.atlassian.net/wiki/spaces/KnowRes/pages/1450213381/layer+normalization)"
   ]
  },
  {
   "cell_type": "code",
   "execution_count": null,
   "metadata": {
    "title": "codecell"
   },
   "outputs": [],
   "source": [
    "Image(filename = imagePath + \"transformerEncoder_is_transXLDecoder.png\")"
   ]
  },
  {
   "cell_type": "code",
   "execution_count": null,
   "metadata": {
    "lines_to_next_cell": 0,
    "title": "codecell"
   },
   "outputs": [],
   "source": [
    "from src.ModelStudy.TransformerXL.TransXLDecoderBlock import TransXLDecoderBlock\n",
    "\n",
    "\n",
    "decoder: TransXLDecoderBlock = TransXLDecoderBlock(numHeads = H, embedDim = E, mhaInnerDim= I, ffInnerDim=F,\n",
    "                                                   dropoutO = 0.3)"
   ]
  },
  {
   "cell_type": "code",
   "execution_count": null,
   "metadata": {
    "lines_to_next_cell": 0,
    "title": "codecell"
   },
   "outputs": [],
   "source": [
    "decoder"
   ]
  },
  {
   "cell_type": "markdown",
   "metadata": {
    "lines_to_next_cell": 0,
    "title": "markdown"
   },
   "source": [
    "Testing that `mha` and `decoder.maskedMultiHeadAttention` are made of the same layers which have same parameter sizes and named dimensions."
   ]
  },
  {
   "cell_type": "code",
   "execution_count": null,
   "metadata": {
    "lines_to_next_cell": 0,
    "title": "codecell"
   },
   "outputs": [],
   "source": [
    "assert isEqualStructure(mha, decoder.maskedMultiHeadAttention)\n",
    "assert isEqualStructure(posFF, decoder.poswiseFeedForward)\n",
    "\n",
    "briefParams(decoder)"
   ]
  },
  {
   "cell_type": "code",
   "execution_count": null,
   "metadata": {
    "lines_to_next_cell": 0,
    "title": "codecell"
   },
   "outputs": [],
   "source": [
    "briefParams(mha)"
   ]
  },
  {
   "cell_type": "code",
   "execution_count": null,
   "metadata": {
    "lines_to_next_cell": 0,
    "title": "codecell"
   },
   "outputs": [],
   "source": [
    "briefParams(posFF)"
   ]
  },
  {
   "cell_type": "code",
   "execution_count": null,
   "metadata": {
    "title": "codecell"
   },
   "outputs": [],
   "source": [
    "# Setting seed to be same as for MHA example\n",
    "torch.manual_seed(123)\n",
    "\n",
    "inputWordEmbs: Tensor = torch.rand(S, B, E).refine_names('S', 'B', 'E')\n",
    "# NOTE: like in above, putting here a batch dimension even though none in the original notebook test\n",
    "relPosEmbs: Tensor = torch.rand(P+S, B, E).refine_names('P_plus_S', 'B','E')\n",
    "memory: Tensor = torch.rand(P, B, E).refine_names('P', 'B', 'E')\n",
    "u, v = torch.rand(H, I).refine_names('H', 'I'), torch.rand(H, I).refine_names('H', 'I')\n",
    "\n",
    "outputDecoder: Tensor = decoder(inputWordEmbs, relPosEmbs, u, v, memory = memory)\n",
    "\n",
    "assert outputDecoder.shape == (S, B, E) == (7, 3, 32)\n",
    "assert outputDecoder.names == ('S', 'B', 'E')\n",
    "\n",
    "# WARNING: this won't be true because the layers of each object have different initialization weights.\n",
    "# assert (outputDecoder == posFF(mha(inputWordEmbs, relPosEmbs, u, v, memory))).all()"
   ]
  },
  {
   "cell_type": "markdown",
   "metadata": {
    "title": "markdown"
   },
   "source": [
    "### Step 7: Full [TransformerXL](https://synergo.atlassian.net/wiki/spaces/KnowRes/pages/1513586716/transformer-XL+model+ml)\n",
    "Now will all these components we can build the full [Transformer XL model](https://synergo.atlassian.net/wiki/spaces/KnowRes/pages/1513586716/transformer-XL+model+ml).\n",
    "\n",
    "#### [Weight-Tying](https://hyp.is/CFMUBm6eEeqnFUdyYjJC_Q/arxiv.org/pdf/1608.05859.pdf) Trick in [Language Modeling](https://synergo.atlassian.net/wiki/spaces/KnowRes/pages/1474691325/language+model+ml):\n",
    "A common trick on [language modeling](https://synergo.atlassian.net/wiki/spaces/KnowRes/pages/1474691325/language+model+ml) is [weight tying, or tying the input embedding matrix $E$ and output projection matrix $P$](https://hyp.is/CFMUBm6eEeqnFUdyYjJC_Q/arxiv.org/pdf/1608.05859.pdf). Remember, a [language model](https://synergo.atlassian.net/wiki/spaces/KnowRes/pages/1474691325/language+model+ml) predicts the next token in a sequence so its output dimension is $\\mathbb{R}^{|V|}$ where $|V| =$ vocabulary size. If we constrain the penultimate layer output to be the same dimension as the [embeddings](https://synergo.atlassian.net/wiki/spaces/KnowRes/pages/1474331193/embedding%2Bml) $d$, the [embedding](https://synergo.atlassian.net/wiki/spaces/KnowRes/pages/1474331193/embedding%2Bml) matrix $E$ will have shape $\\mathbb{R}^{|V| \\times d}$ and the output projection matrix $P$ will have shape $\\mathbb{R}^{d \\times |V|}$.\n",
    "\n",
    "#### Result of [Weight-Tying](https://hyp.is/CFMUBm6eEeqnFUdyYjJC_Q/arxiv.org/pdf/1608.05859.pdf):\n",
    "Authors found [here]((https://hyp.is/iOhfhG6gEeqdJ5-92qbKvQ/arxiv.org/pdf/1608.05859.pdf)) that this [weight-tying](https://hyp.is/CFMUBm6eEeqnFUdyYjJC_Q/arxiv.org/pdf/1608.05859.pdf) by constraining the matrices such that $P = E^T$ improved performance while greatly reducing the total parameter count (and thus memory usage) of two of the three considered models.\n",
    "* **NOTE 1:** For the [TransformerXL](https://synergo.atlassian.net/wiki/spaces/KnowRes/pages/1513586716/transformer-XL+model+ml) model, instead of using the exact same weights, we scale the [embeddings](https://synergo.atlassian.net/wiki/spaces/KnowRes/pages/1474331193/embedding%2Bml) by the [embedding](https://synergo.atlassian.net/wiki/spaces/KnowRes/pages/1474331193/embedding%2Bml) dimension.\n",
    "* **NOTE 2:** this trick is included in the codebase but not mentioned in the paper. ($\\color{red}{\\texttt{Question: in the transformer xl paper??}}$)"
   ]
  },
  {
   "cell_type": "code",
   "execution_count": null,
   "metadata": {
    "lines_to_next_cell": 0,
    "title": "codecell"
   },
   "outputs": [],
   "source": [
    "from src.ModelStudy.TransformerXL.StandardWordEmbedding import StandardWordEmbedding\n",
    "\n",
    "# Testing here how Embedding layer looks like and how it changes the dimension of the embedding matrix in order to accomplish weight-tying\n",
    "N, E = 10, 32\n",
    "swe: StandardWordEmbedding = StandardWordEmbedding(numEmbeddings=N, # N\n",
    "                                                   embeddingDim = E)  # E\n",
    "# WARNING: named tensors not supported in Embedding!\n",
    "# swe.embedding.weight.names = ('N', 'E')\n",
    "\n",
    "assert swe.embedding.weight.shape == (N, E)"
   ]
  },
  {
   "cell_type": "code",
   "execution_count": null,
   "metadata": {
    "lines_to_next_cell": 0,
    "title": "codecell"
   },
   "outputs": [],
   "source": [
    "briefParams(swe)"
   ]
  },
  {
   "cell_type": "code",
   "execution_count": null,
   "metadata": {
    "lines_to_next_cell": 2,
    "title": "codecell"
   },
   "outputs": [],
   "source": [
    "idx: torch.LongTensor = torch.LongTensor(torch.arange(S*B).reshape(S, B))\n",
    "# swe(idx)\n",
    "\n",
    "# TODO why does this give error????"
   ]
  },
  {
   "cell_type": "markdown",
   "metadata": {
    "title": "markdown"
   },
   "source": [
    "### Step 8: Build [Transformer XL Model](https://synergo.atlassian.net/wiki/spaces/KnowRes/pages/1513586716/transformer-XL+model+ml)\n",
    "Putting everything together:"
   ]
  },
  {
   "cell_type": "code",
   "execution_count": null,
   "metadata": {
    "lines_to_next_cell": 0,
    "title": "codecell"
   },
   "outputs": [],
   "source": [
    "# from src.ModelStudy.package.module import classname\n",
    "from src.ModelStudy.TransformerXL.TransformerXL import TransformerXL\n",
    "\n",
    "\n",
    "N = 1000\n",
    "L = 4\n",
    "M = 5 # memory length\n",
    "H = 4\n",
    "\n",
    "assert (S, P, B, E, I, F) == (7, 6, 3, 32, 17, 71)\n",
    "\n",
    "transformerXL: TransformerXL = TransformerXL(numEmbeddings= N, numLayers=L, numHeads = H,\n",
    "                                             modelDim = E, mhaInnerDim= I, ffInnerDim= F,\n",
    "                                             memoryLen = M)\n",
    "transformerXL"
   ]
  },
  {
   "cell_type": "code",
   "execution_count": null,
   "metadata": {
    "lines_to_next_cell": 0,
    "title": "codecell"
   },
   "outputs": [],
   "source": [
    "\n",
    "briefParams(transformerXL)"
   ]
  },
  {
   "cell_type": "code",
   "execution_count": null,
   "metadata": {
    "lines_to_next_cell": 0,
    "title": "codecell"
   },
   "outputs": [],
   "source": [
    "getUniqueModules(transformerXL) # show all modules at a glance, referred once, can even see which are hand-made classes by the __main__ prefix versus which moduels are from pytorch"
   ]
  },
  {
   "cell_type": "code",
   "execution_count": null,
   "metadata": {
    "lines_to_next_cell": 2,
    "title": "codecell"
   },
   "outputs": [],
   "source": [
    "# Getting some technicalities tested first:\n",
    "a = torch.arange(start = P+S - 1, end = -1, step = -1, out = Tensor([-1.0]), dtype=torch.float)\n",
    "b = torch.arange(start = P+S - 1, end = -1, step = -1, dtype=torch.float)\n",
    "\n",
    "assert (a == b).all(), \"Test that 'out' argument in 'torch.arange' makes no difference (note: it is also optional).\""
   ]
  },
  {
   "cell_type": "code",
   "execution_count": null,
   "metadata": {
    "title": "codecell"
   },
   "outputs": [],
   "source": [
    "# Feeding random inputs to confirm model is working\n",
    "indices: torch.LongTensor = torch.randint(N, (S, B)).refine_names('S', 'B')\n",
    "targets: torch.LongTensor = torch.randint(N, (S, B)).refine_names('S', 'B')\n",
    "# memory:\n",
    "\n",
    "result: Dict[str, Tensor] = transformerXL(indices, targets)\n",
    "resultLoss = list(result.values())[0]\n",
    "resultLogits = list(result.values())[1]\n",
    "resultMemoryList = list(result.values())[2]\n",
    "\n",
    "assert resultLogits.shape == (S, B, N) and resultLogits.names == ('S', 'B', 'N')\n",
    "assert [mem.shape == (M, B, E) and mem.names == ('M', 'B', 'E') for mem in resultMemoryList]\n",
    "\n",
    "resultLoss"
   ]
  }
 ],
 "metadata": {
  "jupytext": {
   "cell_metadata_filter": "title,-all",
   "main_language": "python",
   "notebook_metadata_filter": "-all"
  }
 },
 "nbformat": 4,
 "nbformat_minor": 4
}
