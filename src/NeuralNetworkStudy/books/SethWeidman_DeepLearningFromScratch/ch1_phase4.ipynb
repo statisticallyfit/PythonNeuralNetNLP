{
 "cells": [
  {
   "cell_type": "code",
   "execution_count": 1,
   "metadata": {
    "execution": {
     "iopub.execute_input": "2020-10-04T18:38:26.643656Z",
     "iopub.status.busy": "2020-10-04T18:38:26.641028Z",
     "iopub.status.idle": "2020-10-04T18:38:28.427148Z",
     "shell.execute_reply": "2020-10-04T18:38:28.428621Z"
    },
    "title": "codecell"
   },
   "outputs": [],
   "source": [
    "from sympy import Matrix, Symbol, derive_by_array, Lambda, Function, MatrixSymbol, Derivative, symbols, diff\n",
    "from sympy import var\n",
    "from sympy.abc import x, i, j, a, b"
   ]
  },
  {
   "cell_type": "code",
   "execution_count": 2,
   "metadata": {
    "execution": {
     "iopub.execute_input": "2020-10-04T18:38:28.440713Z",
     "iopub.status.busy": "2020-10-04T18:38:28.439727Z",
     "iopub.status.idle": "2020-10-04T18:38:28.510135Z",
     "shell.execute_reply": "2020-10-04T18:38:28.511280Z"
    },
    "lines_to_next_cell": 0,
    "title": "codecell"
   },
   "outputs": [
    {
     "data": {
      "text/latex": [
       "$\\displaystyle \\left[\\begin{matrix}x_{11} & x_{12} & x_{13}\\\\x_{21} & x_{22} & x_{23}\\\\x_{31} & x_{32} & x_{33}\\end{matrix}\\right]$"
      ],
      "text/plain": [
       "Matrix([\n",
       "[x_11, x_12, x_13],\n",
       "[x_21, x_22, x_23],\n",
       "[x_31, x_32, x_33]])"
      ]
     },
     "execution_count": 1,
     "metadata": {},
     "output_type": "execute_result"
    }
   ],
   "source": [
    "def myvar(letter: str, i: int, j: int) -> Symbol:\n",
    "    letter_ij = Symbol('{}_{}{}'.format(letter, i+1, j+1), is_commutative=True)\n",
    "    return letter_ij\n",
    "\n",
    "\n",
    "n,m,p = 3,3,2\n",
    "\n",
    "X = Matrix(n, m, lambda i,j : myvar('x', i, j)); X"
   ]
  },
  {
   "cell_type": "code",
   "execution_count": 3,
   "metadata": {
    "execution": {
     "iopub.execute_input": "2020-10-04T18:38:28.519564Z",
     "iopub.status.busy": "2020-10-04T18:38:28.515078Z",
     "iopub.status.idle": "2020-10-04T18:38:28.534567Z",
     "shell.execute_reply": "2020-10-04T18:38:28.535715Z"
    },
    "lines_to_next_cell": 0,
    "title": "codecell"
   },
   "outputs": [
    {
     "data": {
      "text/latex": [
       "$\\displaystyle \\left[\\begin{matrix}w_{11} & w_{12}\\\\w_{21} & w_{22}\\\\w_{31} & w_{32}\\end{matrix}\\right]$"
      ],
      "text/plain": [
       "Matrix([\n",
       "[w_11, w_12],\n",
       "[w_21, w_22],\n",
       "[w_31, w_32]])"
      ]
     },
     "execution_count": 1,
     "metadata": {},
     "output_type": "execute_result"
    }
   ],
   "source": [
    "W = Matrix(m, p, lambda i,j : myvar('w', i, j)); W"
   ]
  },
  {
   "cell_type": "code",
   "execution_count": 4,
   "metadata": {
    "execution": {
     "iopub.execute_input": "2020-10-04T18:38:28.544786Z",
     "iopub.status.busy": "2020-10-04T18:38:28.543303Z",
     "iopub.status.idle": "2020-10-04T18:38:28.557329Z",
     "shell.execute_reply": "2020-10-04T18:38:28.558765Z"
    },
    "title": "codecell"
   },
   "outputs": [],
   "source": [
    "A = MatrixSymbol('X',3,3); Matrix(A)\n",
    "B = MatrixSymbol('W',3,2)\n",
    "\n",
    "\n",
    "\n"
   ]
  },
  {
   "cell_type": "code",
   "execution_count": 5,
   "metadata": {
    "execution": {
     "iopub.execute_input": "2020-10-04T18:38:28.565927Z",
     "iopub.status.busy": "2020-10-04T18:38:28.565006Z",
     "iopub.status.idle": "2020-10-04T18:38:28.597075Z",
     "shell.execute_reply": "2020-10-04T18:38:28.598447Z"
    },
    "title": "codecell"
   },
   "outputs": [
    {
     "data": {
      "text/latex": [
       "$\\displaystyle \\left[\\begin{matrix}n_{11} & n_{12}\\\\n_{21} & n_{22}\\\\n_{31} & n_{32}\\end{matrix}\\right]$"
      ],
      "text/plain": [
       "Matrix([\n",
       "[n_11, n_12],\n",
       "[n_21, n_22],\n",
       "[n_31, n_32]])"
      ]
     },
     "execution_count": 1,
     "metadata": {},
     "output_type": "execute_result"
    }
   ],
   "source": [
    "v = lambda a,b: a*b\n",
    "\n",
    "vL = Lambda((a,b), a*b)\n",
    "\n",
    "vL2 = Lambda((A,B), A*B)\n",
    "\n",
    "n = Function('v') #, Lambda((a,b), a*b))\n",
    "\n",
    "vN = lambda mat1, mat2: Matrix(mat1.shape[0], mat2.shape[1], lambda i, j: Symbol(\"n_{}{}\".format(i+1, j+1))); vN\n",
    "\n",
    "\n",
    "Nelem = vN(X, W)\n",
    "Nelem"
   ]
  },
  {
   "cell_type": "code",
   "execution_count": 6,
   "metadata": {
    "execution": {
     "iopub.execute_input": "2020-10-04T18:38:28.608418Z",
     "iopub.status.busy": "2020-10-04T18:38:28.602072Z",
     "iopub.status.idle": "2020-10-04T18:38:30.087046Z",
     "shell.execute_reply": "2020-10-04T18:38:30.089547Z"
    },
    "lines_to_next_cell": 0,
    "title": "codecell"
   },
   "outputs": [
    {
     "data": {
      "text/latex": [
       "$\\displaystyle \\left[\\begin{matrix}w_{11} x_{11} + w_{21} x_{12} + w_{31} x_{13} & w_{12} x_{11} + w_{22} x_{12} + w_{32} x_{13}\\\\w_{11} x_{21} + w_{21} x_{22} + w_{31} x_{23} & w_{12} x_{21} + w_{22} x_{22} + w_{32} x_{23}\\\\w_{11} x_{31} + w_{21} x_{32} + w_{31} x_{33} & w_{12} x_{31} + w_{22} x_{32} + w_{32} x_{33}\\end{matrix}\\right]$"
      ],
      "text/plain": [
       "Matrix([\n",
       "[w_11*x_11 + w_21*x_12 + w_31*x_13, w_12*x_11 + w_22*x_12 + w_32*x_13],\n",
       "[w_11*x_21 + w_21*x_22 + w_31*x_23, w_12*x_21 + w_22*x_22 + w_32*x_23],\n",
       "[w_11*x_31 + w_21*x_32 + w_31*x_33, w_12*x_31 + w_22*x_32 + w_32*x_33]])"
      ]
     },
     "execution_count": 1,
     "metadata": {},
     "output_type": "execute_result"
    }
   ],
   "source": [
    "Nspec = v(X,W)\n",
    "Nspec"
   ]
  },
  {
   "cell_type": "code",
   "execution_count": 7,
   "metadata": {
    "execution": {
     "iopub.execute_input": "2020-10-04T18:38:30.097073Z",
     "iopub.status.busy": "2020-10-04T18:38:30.092953Z",
     "iopub.status.idle": "2020-10-04T18:38:30.112815Z",
     "shell.execute_reply": "2020-10-04T18:38:30.113904Z"
    },
    "title": "codecell"
   },
   "outputs": [
    {
     "data": {
      "text/latex": [
       "$\\displaystyle v{\\left(X,W \\right)}$"
      ],
      "text/plain": [
       "v(X, W)"
      ]
     },
     "execution_count": 1,
     "metadata": {},
     "output_type": "execute_result"
    }
   ],
   "source": [
    "#N = v(X, W); N\n",
    "N = n(A,B)\n",
    "N\n",
    "\n",
    "\n",
    "\n"
   ]
  },
  {
   "cell_type": "code",
   "execution_count": 8,
   "metadata": {
    "execution": {
     "iopub.execute_input": "2020-10-04T18:38:30.123809Z",
     "iopub.status.busy": "2020-10-04T18:38:30.117797Z",
     "iopub.status.idle": "2020-10-04T18:38:30.142602Z",
     "shell.execute_reply": "2020-10-04T18:38:30.143993Z"
    },
    "title": "codecell"
   },
   "outputs": [
    {
     "data": {
      "text/latex": [
       "$\\displaystyle \\sigma_{apply}{\\left(v{\\left(X,W \\right)} \\right)}$"
      ],
      "text/plain": [
       "sigma_apply(v(X, W))"
      ]
     },
     "execution_count": 1,
     "metadata": {},
     "output_type": "execute_result"
    }
   ],
   "source": [
    "# way 2 of declaring S (better way)\n",
    "sigma = Function('sigma')\n",
    "\n",
    "sigmaApply = Function(\"sigma_apply\") #lambda matrix:  matrix.applyfunc(sigma)\n",
    "\n",
    "sigmaApply_ = lambda matrix: matrix.applyfunc(sigma)\n",
    "\n",
    "\n",
    "S = sigmaApply(N); S"
   ]
  },
  {
   "cell_type": "code",
   "execution_count": 9,
   "metadata": {
    "execution": {
     "iopub.execute_input": "2020-10-04T18:38:30.154556Z",
     "iopub.status.busy": "2020-10-04T18:38:30.153654Z",
     "iopub.status.idle": "2020-10-04T18:38:30.256870Z",
     "shell.execute_reply": "2020-10-04T18:38:30.257938Z"
    },
    "lines_to_next_cell": 0,
    "title": "codecell"
   },
   "outputs": [
    {
     "data": {
      "text/latex": [
       "$\\displaystyle \\left[\\begin{matrix}\\sigma{\\left(w_{11} x_{11} + w_{21} x_{12} + w_{31} x_{13} \\right)} & \\sigma{\\left(w_{12} x_{11} + w_{22} x_{12} + w_{32} x_{13} \\right)}\\\\\\sigma{\\left(w_{11} x_{21} + w_{21} x_{22} + w_{31} x_{23} \\right)} & \\sigma{\\left(w_{12} x_{21} + w_{22} x_{22} + w_{32} x_{23} \\right)}\\\\\\sigma{\\left(w_{11} x_{31} + w_{21} x_{32} + w_{31} x_{33} \\right)} & \\sigma{\\left(w_{12} x_{31} + w_{22} x_{32} + w_{32} x_{33} \\right)}\\end{matrix}\\right]$"
      ],
      "text/plain": [
       "Matrix([\n",
       "[sigma(w_11*x_11 + w_21*x_12 + w_31*x_13), sigma(w_12*x_11 + w_22*x_12 + w_32*x_13)],\n",
       "[sigma(w_11*x_21 + w_21*x_22 + w_31*x_23), sigma(w_12*x_21 + w_22*x_22 + w_32*x_23)],\n",
       "[sigma(w_11*x_31 + w_21*x_32 + w_31*x_33), sigma(w_12*x_31 + w_22*x_32 + w_32*x_33)]])"
      ]
     },
     "execution_count": 1,
     "metadata": {},
     "output_type": "execute_result"
    }
   ],
   "source": [
    "Sspec = S.subs({A:X, B:W}).replace(n, v).replace(sigmaApply, sigmaApply_)\n",
    "Sspec"
   ]
  },
  {
   "cell_type": "code",
   "execution_count": 10,
   "metadata": {
    "execution": {
     "iopub.execute_input": "2020-10-04T18:38:30.270398Z",
     "iopub.status.busy": "2020-10-04T18:38:30.268788Z",
     "iopub.status.idle": "2020-10-04T18:38:30.304159Z",
     "shell.execute_reply": "2020-10-04T18:38:30.305270Z"
    },
    "lines_to_next_cell": 2,
    "title": "codecell"
   },
   "outputs": [
    {
     "data": {
      "text/latex": [
       "$\\displaystyle \\left[\\begin{matrix}\\sigma{\\left(n_{11} \\right)} & \\sigma{\\left(n_{12} \\right)}\\\\\\sigma{\\left(n_{21} \\right)} & \\sigma{\\left(n_{22} \\right)}\\\\\\sigma{\\left(n_{31} \\right)} & \\sigma{\\left(n_{32} \\right)}\\end{matrix}\\right]$"
      ],
      "text/plain": [
       "Matrix([\n",
       "[sigma(n_11), sigma(n_12)],\n",
       "[sigma(n_21), sigma(n_22)],\n",
       "[sigma(n_31), sigma(n_32)]])"
      ]
     },
     "execution_count": 1,
     "metadata": {},
     "output_type": "execute_result"
    }
   ],
   "source": [
    "Selem = S.replace(n, vN).replace(sigmaApply, sigmaApply_)\n",
    "Selem"
   ]
  },
  {
   "cell_type": "code",
   "execution_count": 11,
   "metadata": {
    "execution": {
     "iopub.execute_input": "2020-10-04T18:38:30.315011Z",
     "iopub.status.busy": "2020-10-04T18:38:30.313495Z",
     "iopub.status.idle": "2020-10-04T18:38:30.370024Z",
     "shell.execute_reply": "2020-10-04T18:38:30.371113Z"
    },
    "lines_to_next_cell": 0,
    "title": "codecell"
   },
   "outputs": [
    {
     "data": {
      "text/latex": [
       "$\\displaystyle \\left[\\begin{matrix}n_{11} & w_{11} x_{11} + w_{21} x_{12} + w_{31} x_{13}\\\\n_{12} & w_{12} x_{11} + w_{22} x_{12} + w_{32} x_{13}\\\\n_{21} & w_{11} x_{21} + w_{21} x_{22} + w_{31} x_{23}\\\\n_{22} & w_{12} x_{21} + w_{22} x_{22} + w_{32} x_{23}\\\\n_{31} & w_{11} x_{31} + w_{21} x_{32} + w_{31} x_{33}\\\\n_{32} & w_{12} x_{31} + w_{22} x_{32} + w_{32} x_{33}\\end{matrix}\\right]$"
      ],
      "text/plain": [
       "Matrix([\n",
       "[n_11, w_11*x_11 + w_21*x_12 + w_31*x_13],\n",
       "[n_12, w_12*x_11 + w_22*x_12 + w_32*x_13],\n",
       "[n_21, w_11*x_21 + w_21*x_22 + w_31*x_23],\n",
       "[n_22, w_12*x_21 + w_22*x_22 + w_32*x_23],\n",
       "[n_31, w_11*x_31 + w_21*x_32 + w_31*x_33],\n",
       "[n_32, w_12*x_31 + w_22*x_32 + w_32*x_33]])"
      ]
     },
     "execution_count": 1,
     "metadata": {},
     "output_type": "execute_result"
    }
   ],
   "source": [
    "import itertools\n",
    "\n",
    "elemToSpecD = dict(itertools.chain(*[[(Nelem[i, j], Nspec[i, j]) for j in range(2)] for i in range(3)]))\n",
    "\n",
    "elemToSpec = list(elemToSpecD.items())\n",
    "\n",
    "Matrix(elemToSpec)"
   ]
  },
  {
   "cell_type": "code",
   "execution_count": 12,
   "metadata": {
    "execution": {
     "iopub.execute_input": "2020-10-04T18:38:30.384453Z",
     "iopub.status.busy": "2020-10-04T18:38:30.374748Z",
     "iopub.status.idle": "2020-10-04T18:38:30.432453Z",
     "shell.execute_reply": "2020-10-04T18:38:30.433551Z"
    },
    "lines_to_next_cell": 0,
    "title": "codecell"
   },
   "outputs": [
    {
     "data": {
      "text/latex": [
       "$\\displaystyle \\left[\\begin{matrix}w_{11} x_{11} + w_{21} x_{12} + w_{31} x_{13} & n_{11}\\\\w_{12} x_{11} + w_{22} x_{12} + w_{32} x_{13} & n_{12}\\\\w_{11} x_{21} + w_{21} x_{22} + w_{31} x_{23} & n_{21}\\\\w_{12} x_{21} + w_{22} x_{22} + w_{32} x_{23} & n_{22}\\\\w_{11} x_{31} + w_{21} x_{32} + w_{31} x_{33} & n_{31}\\\\w_{12} x_{31} + w_{22} x_{32} + w_{32} x_{33} & n_{32}\\end{matrix}\\right]$"
      ],
      "text/plain": [
       "Matrix([\n",
       "[w_11*x_11 + w_21*x_12 + w_31*x_13, n_11],\n",
       "[w_12*x_11 + w_22*x_12 + w_32*x_13, n_12],\n",
       "[w_11*x_21 + w_21*x_22 + w_31*x_23, n_21],\n",
       "[w_12*x_21 + w_22*x_22 + w_32*x_23, n_22],\n",
       "[w_11*x_31 + w_21*x_32 + w_31*x_33, n_31],\n",
       "[w_12*x_31 + w_22*x_32 + w_32*x_33, n_32]])"
      ]
     },
     "execution_count": 1,
     "metadata": {},
     "output_type": "execute_result"
    }
   ],
   "source": [
    "specToElemD = {v:k for k,v in elemToSpecD.items()}\n",
    "specToElem = list(specToElemD.items())\n",
    "Matrix(specToElem)"
   ]
  },
  {
   "cell_type": "code",
   "execution_count": 13,
   "metadata": {
    "execution": {
     "iopub.execute_input": "2020-10-04T18:38:30.438640Z",
     "iopub.status.busy": "2020-10-04T18:38:30.437104Z",
     "iopub.status.idle": "2020-10-04T18:38:30.504341Z",
     "shell.execute_reply": "2020-10-04T18:38:30.505564Z"
    },
    "lines_to_next_cell": 0,
    "title": "codecell"
   },
   "outputs": [
    {
     "data": {
      "text/latex": [
       "$\\displaystyle \\left[\\begin{matrix}n_{11} & \\operatorname{n_{11}}{\\left(w_{11} x_{11} + w_{21} x_{12} + w_{31} x_{13} \\right)}\\\\n_{12} & \\operatorname{n_{12}}{\\left(w_{12} x_{11} + w_{22} x_{12} + w_{32} x_{13} \\right)}\\\\n_{21} & \\operatorname{n_{21}}{\\left(w_{11} x_{21} + w_{21} x_{22} + w_{31} x_{23} \\right)}\\\\n_{22} & \\operatorname{n_{22}}{\\left(w_{12} x_{21} + w_{22} x_{22} + w_{32} x_{23} \\right)}\\\\n_{31} & \\operatorname{n_{31}}{\\left(w_{11} x_{31} + w_{21} x_{32} + w_{31} x_{33} \\right)}\\\\n_{32} & \\operatorname{n_{32}}{\\left(w_{12} x_{31} + w_{22} x_{32} + w_{32} x_{33} \\right)}\\end{matrix}\\right]$"
      ],
      "text/plain": [
       "Matrix([\n",
       "[n_11, n_11(w_11*x_11 + w_21*x_12 + w_31*x_13)],\n",
       "[n_12, n_12(w_12*x_11 + w_22*x_12 + w_32*x_13)],\n",
       "[n_21, n_21(w_11*x_21 + w_21*x_22 + w_31*x_23)],\n",
       "[n_22, n_22(w_12*x_21 + w_22*x_22 + w_32*x_23)],\n",
       "[n_31, n_31(w_11*x_31 + w_21*x_32 + w_31*x_33)],\n",
       "[n_32, n_32(w_12*x_31 + w_22*x_32 + w_32*x_33)]])"
      ]
     },
     "execution_count": 1,
     "metadata": {},
     "output_type": "execute_result"
    }
   ],
   "source": [
    "elemToSpecFuncD = dict(itertools.chain(*[[(Nelem[i, j], Function(\"n_{}{}\".format(i + 1, j + 1))(Nspec[i, j])) for j in range(2)] for i in range(3)]))\n",
    "\n",
    "elemToSpecFunc = list(elemToSpecFuncD.items())\n",
    "\n",
    "Matrix(elemToSpecFunc)"
   ]
  },
  {
   "cell_type": "code",
   "execution_count": 14,
   "metadata": {
    "execution": {
     "iopub.execute_input": "2020-10-04T18:38:30.512893Z",
     "iopub.status.busy": "2020-10-04T18:38:30.508978Z",
     "iopub.status.idle": "2020-10-04T18:38:30.561342Z",
     "shell.execute_reply": "2020-10-04T18:38:30.565115Z"
    },
    "lines_to_next_cell": 0,
    "title": "codecell"
   },
   "outputs": [
    {
     "data": {
      "text/latex": [
       "$\\displaystyle \\left[\\begin{matrix}n_{11} & \\operatorname{n_{11}}{\\left(x_{11},x_{12},x_{13},x_{21},x_{22},x_{23},x_{31},x_{32},x_{33},w_{11},w_{12},w_{21},w_{22},w_{31},w_{32} \\right)}\\\\n_{12} & \\operatorname{n_{12}}{\\left(x_{11},x_{12},x_{13},x_{21},x_{22},x_{23},x_{31},x_{32},x_{33},w_{11},w_{12},w_{21},w_{22},w_{31},w_{32} \\right)}\\\\n_{21} & \\operatorname{n_{21}}{\\left(x_{11},x_{12},x_{13},x_{21},x_{22},x_{23},x_{31},x_{32},x_{33},w_{11},w_{12},w_{21},w_{22},w_{31},w_{32} \\right)}\\\\n_{22} & \\operatorname{n_{22}}{\\left(x_{11},x_{12},x_{13},x_{21},x_{22},x_{23},x_{31},x_{32},x_{33},w_{11},w_{12},w_{21},w_{22},w_{31},w_{32} \\right)}\\\\n_{31} & \\operatorname{n_{31}}{\\left(x_{11},x_{12},x_{13},x_{21},x_{22},x_{23},x_{31},x_{32},x_{33},w_{11},w_{12},w_{21},w_{22},w_{31},w_{32} \\right)}\\\\n_{32} & \\operatorname{n_{32}}{\\left(x_{11},x_{12},x_{13},x_{21},x_{22},x_{23},x_{31},x_{32},x_{33},w_{11},w_{12},w_{21},w_{22},w_{31},w_{32} \\right)}\\end{matrix}\\right]$"
      ],
      "text/plain": [
       "Matrix([\n",
       "[n_11, n_11(x_11, x_12, x_13, x_21, x_22, x_23, x_31, x_32, x_33, w_11, w_12, w_21, w_22, w_31, w_32)],\n",
       "[n_12, n_12(x_11, x_12, x_13, x_21, x_22, x_23, x_31, x_32, x_33, w_11, w_12, w_21, w_22, w_31, w_32)],\n",
       "[n_21, n_21(x_11, x_12, x_13, x_21, x_22, x_23, x_31, x_32, x_33, w_11, w_12, w_21, w_22, w_31, w_32)],\n",
       "[n_22, n_22(x_11, x_12, x_13, x_21, x_22, x_23, x_31, x_32, x_33, w_11, w_12, w_21, w_22, w_31, w_32)],\n",
       "[n_31, n_31(x_11, x_12, x_13, x_21, x_22, x_23, x_31, x_32, x_33, w_11, w_12, w_21, w_22, w_31, w_32)],\n",
       "[n_32, n_32(x_11, x_12, x_13, x_21, x_22, x_23, x_31, x_32, x_33, w_11, w_12, w_21, w_22, w_31, w_32)]])"
      ]
     },
     "execution_count": 1,
     "metadata": {},
     "output_type": "execute_result"
    }
   ],
   "source": [
    "elemToSpecFuncArgsD = dict(itertools.chain(*[[(Nelem[i, j], Function(\"n_{}{}\".format(i + 1, j + 1))(*X,*W)) for j in range(2)] for i in range(3)]))\n",
    "\n",
    "elemToSpecFuncArgs = list(elemToSpecFuncArgsD.items())\n",
    "\n",
    "Matrix(elemToSpecFuncArgs)"
   ]
  },
  {
   "cell_type": "code",
   "execution_count": 15,
   "metadata": {
    "execution": {
     "iopub.execute_input": "2020-10-04T18:38:30.570167Z",
     "iopub.status.busy": "2020-10-04T18:38:30.568635Z",
     "iopub.status.idle": "2020-10-04T18:38:30.597557Z",
     "shell.execute_reply": "2020-10-04T18:38:30.599849Z"
    },
    "title": "codecell"
   },
   "outputs": [
    {
     "data": {
      "text/latex": [
       "$\\displaystyle \\left[\\begin{matrix}n_{11} & \\operatorname{n_{11}}{\\left(X,W \\right)}\\\\n_{12} & \\operatorname{n_{12}}{\\left(X,W \\right)}\\\\n_{21} & \\operatorname{n_{21}}{\\left(X,W \\right)}\\\\n_{22} & \\operatorname{n_{22}}{\\left(X,W \\right)}\\\\n_{31} & \\operatorname{n_{31}}{\\left(X,W \\right)}\\\\n_{32} & \\operatorname{n_{32}}{\\left(X,W \\right)}\\end{matrix}\\right]$"
      ],
      "text/plain": [
       "Matrix([\n",
       "[n_11, n_11(X, W)],\n",
       "[n_12, n_12(X, W)],\n",
       "[n_21, n_21(X, W)],\n",
       "[n_22, n_22(X, W)],\n",
       "[n_31, n_31(X, W)],\n",
       "[n_32, n_32(X, W)]])"
      ]
     },
     "execution_count": 1,
     "metadata": {},
     "output_type": "execute_result"
    }
   ],
   "source": [
    "elemToMatArgD = dict(itertools.chain(*[[(Nelem[i, j], Function(\"n_{}{}\".format(i+1,j+1))(A,B) ) for j in range(2)] for i in range(3)]))\n",
    "\n",
    "elemToMatArg = list(elemToMatArgD.items())\n",
    "\n",
    "Matrix(elemToMatArg)"
   ]
  },
  {
   "cell_type": "code",
   "execution_count": 16,
   "metadata": {
    "execution": {
     "iopub.execute_input": "2020-10-04T18:38:30.605438Z",
     "iopub.status.busy": "2020-10-04T18:38:30.603198Z",
     "iopub.status.idle": "2020-10-04T18:38:30.672716Z",
     "shell.execute_reply": "2020-10-04T18:38:30.673846Z"
    },
    "lines_to_next_cell": 2,
    "title": "codecell"
   },
   "outputs": [
    {
     "data": {
      "text/latex": [
       "$\\displaystyle \\left[\\begin{matrix}\\operatorname{n_{11}}{\\left(X,W \\right)} & w_{11} x_{11} + w_{21} x_{12} + w_{31} x_{13}\\\\\\operatorname{n_{12}}{\\left(X,W \\right)} & w_{12} x_{11} + w_{22} x_{12} + w_{32} x_{13}\\\\\\operatorname{n_{21}}{\\left(X,W \\right)} & w_{11} x_{21} + w_{21} x_{22} + w_{31} x_{23}\\\\\\operatorname{n_{22}}{\\left(X,W \\right)} & w_{12} x_{21} + w_{22} x_{22} + w_{32} x_{23}\\\\\\operatorname{n_{31}}{\\left(X,W \\right)} & w_{11} x_{31} + w_{21} x_{32} + w_{31} x_{33}\\\\\\operatorname{n_{32}}{\\left(X,W \\right)} & w_{12} x_{31} + w_{22} x_{32} + w_{32} x_{33}\\end{matrix}\\right]$"
      ],
      "text/plain": [
       "Matrix([\n",
       "[n_11(X, W), w_11*x_11 + w_21*x_12 + w_31*x_13],\n",
       "[n_12(X, W), w_12*x_11 + w_22*x_12 + w_32*x_13],\n",
       "[n_21(X, W), w_11*x_21 + w_21*x_22 + w_31*x_23],\n",
       "[n_22(X, W), w_12*x_21 + w_22*x_22 + w_32*x_23],\n",
       "[n_31(X, W), w_11*x_31 + w_21*x_32 + w_31*x_33],\n",
       "[n_32(X, W), w_12*x_31 + w_22*x_32 + w_32*x_33]])"
      ]
     },
     "execution_count": 1,
     "metadata": {},
     "output_type": "execute_result"
    }
   ],
   "source": [
    "matargToSpecD = dict(zip(elemToMatArgD.values(), elemToSpecD.values()))\n",
    "\n",
    "matargToSpec = list(matargToSpecD.items())\n",
    "\n",
    "Matrix(matargToSpec)"
   ]
  },
  {
   "cell_type": "code",
   "execution_count": 17,
   "metadata": {
    "execution": {
     "iopub.execute_input": "2020-10-04T18:38:30.681963Z",
     "iopub.status.busy": "2020-10-04T18:38:30.680378Z",
     "iopub.status.idle": "2020-10-04T18:38:30.699404Z",
     "shell.execute_reply": "2020-10-04T18:38:30.703268Z"
    },
    "lines_to_next_cell": 0,
    "title": "codecell"
   },
   "outputs": [
    {
     "data": {
      "text/latex": [
       "$\\displaystyle \\left[\\begin{matrix}\\sigma{\\left(n_{11} \\right)} & \\sigma{\\left(n_{12} \\right)}\\\\\\sigma{\\left(n_{21} \\right)} & \\sigma{\\left(n_{22} \\right)}\\\\\\sigma{\\left(n_{31} \\right)} & \\sigma{\\left(n_{32} \\right)}\\end{matrix}\\right]$"
      ],
      "text/plain": [
       "Matrix([\n",
       "[sigma(n_11), sigma(n_12)],\n",
       "[sigma(n_21), sigma(n_22)],\n",
       "[sigma(n_31), sigma(n_32)]])"
      ]
     },
     "execution_count": 1,
     "metadata": {},
     "output_type": "execute_result"
    }
   ],
   "source": [
    "Selem"
   ]
  },
  {
   "cell_type": "code",
   "execution_count": 18,
   "metadata": {
    "execution": {
     "iopub.execute_input": "2020-10-04T18:38:30.708230Z",
     "iopub.status.busy": "2020-10-04T18:38:30.706771Z",
     "iopub.status.idle": "2020-10-04T18:38:30.821992Z",
     "shell.execute_reply": "2020-10-04T18:38:30.823441Z"
    },
    "title": "codecell"
   },
   "outputs": [
    {
     "data": {
      "text/latex": [
       "$\\displaystyle \\left[\\begin{matrix}\\sigma{\\left(w_{11} x_{11} + w_{21} x_{12} + w_{31} x_{13} \\right)} & \\sigma{\\left(w_{12} x_{11} + w_{22} x_{12} + w_{32} x_{13} \\right)}\\\\\\sigma{\\left(w_{11} x_{21} + w_{21} x_{22} + w_{31} x_{23} \\right)} & \\sigma{\\left(w_{12} x_{21} + w_{22} x_{22} + w_{32} x_{23} \\right)}\\\\\\sigma{\\left(w_{11} x_{31} + w_{21} x_{32} + w_{31} x_{33} \\right)} & \\sigma{\\left(w_{12} x_{31} + w_{22} x_{32} + w_{32} x_{33} \\right)}\\end{matrix}\\right]$"
      ],
      "text/plain": [
       "Matrix([\n",
       "[sigma(w_11*x_11 + w_21*x_12 + w_31*x_13), sigma(w_12*x_11 + w_22*x_12 + w_32*x_13)],\n",
       "[sigma(w_11*x_21 + w_21*x_22 + w_31*x_23), sigma(w_12*x_21 + w_22*x_22 + w_32*x_23)],\n",
       "[sigma(w_11*x_31 + w_21*x_32 + w_31*x_33), sigma(w_12*x_31 + w_22*x_32 + w_32*x_33)]])"
      ]
     },
     "execution_count": 1,
     "metadata": {},
     "output_type": "execute_result"
    }
   ],
   "source": [
    "Sspec = Selem.subs(elemToSpecD)\n",
    "Sspec"
   ]
  },
  {
   "cell_type": "code",
   "execution_count": 19,
   "metadata": {
    "execution": {
     "iopub.execute_input": "2020-10-04T18:38:30.830970Z",
     "iopub.status.busy": "2020-10-04T18:38:30.828076Z",
     "iopub.status.idle": "2020-10-04T18:38:31.089552Z",
     "shell.execute_reply": "2020-10-04T18:38:31.091968Z"
    },
    "title": "codecell"
   },
   "outputs": [
    {
     "data": {
      "text/latex": [
       "$\\displaystyle \\left[\\begin{matrix}6 & 2 w_{12} x_{11} + 2 w_{22} x_{12} + 2 w_{32} x_{13}\\\\2 w_{11} x_{21} + 2 w_{21} x_{22} + 2 w_{31} x_{23} & 2 w_{12} x_{21} + 2 w_{22} x_{22} + 2 w_{32} x_{23}\\\\2 w_{11} x_{31} + 2 w_{21} x_{32} + 2 w_{31} x_{33} & 4\\end{matrix}\\right]$"
      ],
      "text/plain": [
       "Matrix([\n",
       "[                                      6, 2*w_12*x_11 + 2*w_22*x_12 + 2*w_32*x_13],\n",
       "[2*w_11*x_21 + 2*w_21*x_22 + 2*w_31*x_23, 2*w_12*x_21 + 2*w_22*x_22 + 2*w_32*x_23],\n",
       "[2*w_11*x_31 + 2*w_21*x_32 + 2*w_31*x_33,                                       4]])"
      ]
     },
     "execution_count": 1,
     "metadata": {},
     "output_type": "execute_result"
    }
   ],
   "source": [
    "# CAN even replace elements after have done an operation on them!!! replacing n_21 * 2 with the number 4.\n",
    "Sspec.subs({Nspec[0, 0]: 3}).replace(sigma, lambda x: 2 * x).replace(Nspec[2, 1] * 2, 4)\n",
    "\n",
    "\n",
    "\n",
    "\n",
    "\n",
    "\n",
    "\n"
   ]
  },
  {
   "cell_type": "code",
   "execution_count": 20,
   "metadata": {
    "execution": {
     "iopub.execute_input": "2020-10-04T18:38:31.101424Z",
     "iopub.status.busy": "2020-10-04T18:38:31.095354Z",
     "iopub.status.idle": "2020-10-04T18:38:31.129720Z",
     "shell.execute_reply": "2020-10-04T18:38:31.130822Z"
    },
    "lines_to_next_cell": 0,
    "title": "codecell"
   },
   "outputs": [
    {
     "data": {
      "text/latex": [
       "$\\displaystyle \\lambda{\\left(\\sigma_{apply}{\\left(\\nu{\\left(X,W \\right)} \\right)} \\right)}$"
      ],
      "text/plain": [
       "lambda(sigma_apply(nu(X, W)))"
      ]
     },
     "execution_count": 1,
     "metadata": {},
     "output_type": "execute_result"
    }
   ],
   "source": [
    "lambd = Function(\"lambda\")\n",
    "lambd_ = lambda matrix : sum(matrix)\n",
    "\n",
    "i, j = symbols('i j')\n",
    "M = MatrixSymbol('M', i, j)# abstract shape\n",
    "#sigmaApply_L = Lambda(M, M.applyfunc(sigma))\n",
    "\n",
    "lambda_L = Lambda(M, sum(M))\n",
    "\n",
    "n = Function(\"nu\",applyfunc=True)\n",
    "\n",
    "L = lambd(sigmaApply(n(A,B))); L"
   ]
  },
  {
   "cell_type": "code",
   "execution_count": 21,
   "metadata": {
    "execution": {
     "iopub.execute_input": "2020-10-04T18:38:31.135873Z",
     "iopub.status.busy": "2020-10-04T18:38:31.134313Z",
     "iopub.status.idle": "2020-10-04T18:38:31.429095Z",
     "shell.execute_reply": "2020-10-04T18:38:31.430439Z"
    },
    "lines_to_next_cell": 0,
    "title": "codecell"
   },
   "outputs": [
    {
     "data": {
      "text/latex": [
       "$\\displaystyle \\left. \\frac{d}{d \\xi_{1}} \\lambda{\\left(\\xi_{1} \\right)} \\right|_{\\substack{ \\xi_{1}={\\left( d \\mapsto \\sigma{\\left(d \\right)} \\right)}_{\\circ}\\left({X W}\\right) }} X^{T} {\\left( d \\mapsto \\frac{d}{d d} \\sigma{\\left(d \\right)} \\right)}_{\\circ}\\left({X W}\\right)$"
      ],
      "text/plain": [
       "Subs(Derivative(lambda(_xi_1), _xi_1), _xi_1, Lambda(_d, sigma(_d)).(X*W))*X.T*Lambda(_d, Derivative(sigma(_d), _d)).(X*W)"
      ]
     },
     "execution_count": 1,
     "metadata": {},
     "output_type": "execute_result"
    }
   ],
   "source": [
    "L.replace(n,v).replace(sigmaApply, sigmaApply_).diff(B)"
   ]
  },
  {
   "cell_type": "code",
   "execution_count": 22,
   "metadata": {
    "execution": {
     "iopub.execute_input": "2020-10-04T18:38:31.437597Z",
     "iopub.status.busy": "2020-10-04T18:38:31.436708Z",
     "iopub.status.idle": "2020-10-04T18:38:31.458666Z",
     "shell.execute_reply": "2020-10-04T18:38:31.459810Z"
    },
    "lines_to_next_cell": 0,
    "title": "codecell"
   },
   "outputs": [
    {
     "data": {
      "text/latex": [
       "$\\displaystyle \\lambda{\\left(\\left[\\begin{matrix}\\sigma{\\left(n_{11} \\right)} & \\sigma{\\left(n_{12} \\right)}\\\\\\sigma{\\left(n_{21} \\right)} & \\sigma{\\left(n_{22} \\right)}\\\\\\sigma{\\left(n_{31} \\right)} & \\sigma{\\left(n_{32} \\right)}\\end{matrix}\\right] \\right)}$"
      ],
      "text/plain": [
       "lambda(Matrix([\n",
       "[sigma(n_11), sigma(n_12)],\n",
       "[sigma(n_21), sigma(n_22)],\n",
       "[sigma(n_31), sigma(n_32)]]))"
      ]
     },
     "execution_count": 1,
     "metadata": {},
     "output_type": "execute_result"
    }
   ],
   "source": [
    "L.replace(n,vN).replace(sigmaApply, sigmaApply_)"
   ]
  },
  {
   "cell_type": "code",
   "execution_count": 23,
   "metadata": {
    "execution": {
     "iopub.execute_input": "2020-10-04T18:38:31.470665Z",
     "iopub.status.busy": "2020-10-04T18:38:31.467859Z",
     "iopub.status.idle": "2020-10-04T18:38:31.506587Z",
     "shell.execute_reply": "2020-10-04T18:38:31.507729Z"
    },
    "lines_to_next_cell": 0,
    "title": "codecell"
   },
   "outputs": [
    {
     "data": {
      "text/latex": [
       "$\\displaystyle \\sigma{\\left(n_{11} \\right)} + \\sigma{\\left(n_{12} \\right)} + \\sigma{\\left(n_{21} \\right)} + \\sigma{\\left(n_{22} \\right)} + \\sigma{\\left(n_{31} \\right)} + \\sigma{\\left(n_{32} \\right)}$"
      ],
      "text/plain": [
       "sigma(n_11) + sigma(n_12) + sigma(n_21) + sigma(n_22) + sigma(n_31) + sigma(n_32)"
      ]
     },
     "execution_count": 1,
     "metadata": {},
     "output_type": "execute_result"
    }
   ],
   "source": [
    "L.replace(n, vN).replace(sigmaApply, sigmaApply_).replace(lambd, lambd_)"
   ]
  },
  {
   "cell_type": "code",
   "execution_count": 24,
   "metadata": {
    "execution": {
     "iopub.execute_input": "2020-10-04T18:38:31.516626Z",
     "iopub.status.busy": "2020-10-04T18:38:31.512888Z",
     "iopub.status.idle": "2020-10-04T18:38:31.634239Z",
     "shell.execute_reply": "2020-10-04T18:38:31.635660Z"
    },
    "title": "codecell"
   },
   "outputs": [
    {
     "data": {
      "text/latex": [
       "$\\displaystyle \\sigma{\\left(w_{11} x_{11} + w_{21} x_{12} + w_{31} x_{13} \\right)} + \\sigma{\\left(w_{11} x_{21} + w_{21} x_{22} + w_{31} x_{23} \\right)} + \\sigma{\\left(w_{11} x_{31} + w_{21} x_{32} + w_{31} x_{33} \\right)} + \\sigma{\\left(w_{12} x_{11} + w_{22} x_{12} + w_{32} x_{13} \\right)} + \\sigma{\\left(w_{12} x_{21} + w_{22} x_{22} + w_{32} x_{23} \\right)} + \\sigma{\\left(w_{12} x_{31} + w_{22} x_{32} + w_{32} x_{33} \\right)}$"
      ],
      "text/plain": [
       "sigma(w_11*x_11 + w_21*x_12 + w_31*x_13) + sigma(w_11*x_21 + w_21*x_22 + w_31*x_23) + sigma(w_11*x_31 + w_21*x_32 + w_31*x_33) + sigma(w_12*x_11 + w_22*x_12 + w_32*x_13) + sigma(w_12*x_21 + w_22*x_22 + w_32*x_23) + sigma(w_12*x_31 + w_22*x_32 + w_32*x_33)"
      ]
     },
     "execution_count": 1,
     "metadata": {},
     "output_type": "execute_result"
    }
   ],
   "source": [
    "L.replace(n, vN).replace(sigmaApply, sigmaApply_).replace(lambd, lambd_).subs(elemToSpecD)"
   ]
  },
  {
   "cell_type": "code",
   "execution_count": 25,
   "metadata": {
    "execution": {
     "iopub.execute_input": "2020-10-04T18:38:31.644961Z",
     "iopub.status.busy": "2020-10-04T18:38:31.643991Z",
     "iopub.status.idle": "2020-10-04T18:38:32.761062Z",
     "shell.execute_reply": "2020-10-04T18:38:32.762129Z"
    },
    "lines_to_next_cell": 2,
    "title": "codecell"
   },
   "outputs": [
    {
     "data": {
      "text/latex": [
       "$\\displaystyle \\left[\\begin{matrix}x_{11} \\left. \\frac{d}{d \\xi_{1}} \\sigma{\\left(\\xi_{1} \\right)} \\right|_{\\substack{ \\xi_{1}=n_{11} }} + x_{21} \\left. \\frac{d}{d \\xi_{1}} \\sigma{\\left(\\xi_{1} \\right)} \\right|_{\\substack{ \\xi_{1}=n_{21} }} + x_{31} \\left. \\frac{d}{d \\xi_{1}} \\sigma{\\left(\\xi_{1} \\right)} \\right|_{\\substack{ \\xi_{1}=n_{31} }} & x_{11} \\left. \\frac{d}{d \\xi_{1}} \\sigma{\\left(\\xi_{1} \\right)} \\right|_{\\substack{ \\xi_{1}=n_{12} }} + x_{21} \\left. \\frac{d}{d \\xi_{1}} \\sigma{\\left(\\xi_{1} \\right)} \\right|_{\\substack{ \\xi_{1}=n_{22} }} + x_{31} \\left. \\frac{d}{d \\xi_{1}} \\sigma{\\left(\\xi_{1} \\right)} \\right|_{\\substack{ \\xi_{1}=n_{32} }}\\\\x_{12} \\left. \\frac{d}{d \\xi_{1}} \\sigma{\\left(\\xi_{1} \\right)} \\right|_{\\substack{ \\xi_{1}=n_{11} }} + x_{22} \\left. \\frac{d}{d \\xi_{1}} \\sigma{\\left(\\xi_{1} \\right)} \\right|_{\\substack{ \\xi_{1}=n_{21} }} + x_{32} \\left. \\frac{d}{d \\xi_{1}} \\sigma{\\left(\\xi_{1} \\right)} \\right|_{\\substack{ \\xi_{1}=n_{31} }} & x_{12} \\left. \\frac{d}{d \\xi_{1}} \\sigma{\\left(\\xi_{1} \\right)} \\right|_{\\substack{ \\xi_{1}=n_{12} }} + x_{22} \\left. \\frac{d}{d \\xi_{1}} \\sigma{\\left(\\xi_{1} \\right)} \\right|_{\\substack{ \\xi_{1}=n_{22} }} + x_{32} \\left. \\frac{d}{d \\xi_{1}} \\sigma{\\left(\\xi_{1} \\right)} \\right|_{\\substack{ \\xi_{1}=n_{32} }}\\\\x_{13} \\left. \\frac{d}{d \\xi_{1}} \\sigma{\\left(\\xi_{1} \\right)} \\right|_{\\substack{ \\xi_{1}=n_{11} }} + x_{23} \\left. \\frac{d}{d \\xi_{1}} \\sigma{\\left(\\xi_{1} \\right)} \\right|_{\\substack{ \\xi_{1}=n_{21} }} + x_{33} \\left. \\frac{d}{d \\xi_{1}} \\sigma{\\left(\\xi_{1} \\right)} \\right|_{\\substack{ \\xi_{1}=n_{31} }} & x_{13} \\left. \\frac{d}{d \\xi_{1}} \\sigma{\\left(\\xi_{1} \\right)} \\right|_{\\substack{ \\xi_{1}=n_{12} }} + x_{23} \\left. \\frac{d}{d \\xi_{1}} \\sigma{\\left(\\xi_{1} \\right)} \\right|_{\\substack{ \\xi_{1}=n_{22} }} + x_{33} \\left. \\frac{d}{d \\xi_{1}} \\sigma{\\left(\\xi_{1} \\right)} \\right|_{\\substack{ \\xi_{1}=n_{32} }}\\end{matrix}\\right]$"
      ],
      "text/plain": [
       "Matrix([\n",
       "[x_11*Subs(Derivative(sigma(_xi_1), _xi_1), _xi_1, n_11) + x_21*Subs(Derivative(sigma(_xi_1), _xi_1), _xi_1, n_21) + x_31*Subs(Derivative(sigma(_xi_1), _xi_1), _xi_1, n_31), x_11*Subs(Derivative(sigma(_xi_1), _xi_1), _xi_1, n_12) + x_21*Subs(Derivative(sigma(_xi_1), _xi_1), _xi_1, n_22) + x_31*Subs(Derivative(sigma(_xi_1), _xi_1), _xi_1, n_32)],\n",
       "[x_12*Subs(Derivative(sigma(_xi_1), _xi_1), _xi_1, n_11) + x_22*Subs(Derivative(sigma(_xi_1), _xi_1), _xi_1, n_21) + x_32*Subs(Derivative(sigma(_xi_1), _xi_1), _xi_1, n_31), x_12*Subs(Derivative(sigma(_xi_1), _xi_1), _xi_1, n_12) + x_22*Subs(Derivative(sigma(_xi_1), _xi_1), _xi_1, n_22) + x_32*Subs(Derivative(sigma(_xi_1), _xi_1), _xi_1, n_32)],\n",
       "[x_13*Subs(Derivative(sigma(_xi_1), _xi_1), _xi_1, n_11) + x_23*Subs(Derivative(sigma(_xi_1), _xi_1), _xi_1, n_21) + x_33*Subs(Derivative(sigma(_xi_1), _xi_1), _xi_1, n_31), x_13*Subs(Derivative(sigma(_xi_1), _xi_1), _xi_1, n_12) + x_23*Subs(Derivative(sigma(_xi_1), _xi_1), _xi_1, n_22) + x_33*Subs(Derivative(sigma(_xi_1), _xi_1), _xi_1, n_32)]])"
      ]
     },
     "execution_count": 1,
     "metadata": {},
     "output_type": "execute_result"
    }
   ],
   "source": [
    "L.replace(n, vN).replace(sigmaApply, sigmaApply_).replace(lambd, lambd_).subs(elemToSpecD).diff(W).subs(specToElemD)"
   ]
  },
  {
   "cell_type": "code",
   "execution_count": 26,
   "metadata": {
    "execution": {
     "iopub.execute_input": "2020-10-04T18:38:32.769416Z",
     "iopub.status.busy": "2020-10-04T18:38:32.765944Z",
     "iopub.status.idle": "2020-10-04T18:38:32.981546Z",
     "shell.execute_reply": "2020-10-04T18:38:32.982607Z"
    },
    "lines_to_next_cell": 0,
    "title": "codecell"
   },
   "outputs": [
    {
     "data": {
      "text/latex": [
       "$\\displaystyle \\left. \\frac{d}{d \\xi_{1}} \\lambda{\\left(\\xi_{1} \\right)} \\right|_{\\substack{ \\xi_{1}={\\left( d \\mapsto \\sigma{\\left(d \\right)} \\right)}_{\\circ}\\left({X W}\\right) }} X^{T} {\\left( d \\mapsto \\frac{d}{d d} \\sigma{\\left(d \\right)} \\right)}_{\\circ}\\left({X W}\\right)$"
      ],
      "text/plain": [
       "Subs(Derivative(lambda(_xi_1), _xi_1), _xi_1, Lambda(_d, sigma(_d)).(X*W))*X.T*Lambda(_d, Derivative(sigma(_d), _d)).(X*W)"
      ]
     },
     "execution_count": 1,
     "metadata": {},
     "output_type": "execute_result"
    }
   ],
   "source": [
    "# Now verifying the above rule by applying the composition thing piece by piece via multiplication:\n",
    "L.replace(n,vL).replace(sigmaApply, sigmaApply_).diff(B)"
   ]
  },
  {
   "cell_type": "code",
   "execution_count": 27,
   "metadata": {
    "execution": {
     "iopub.execute_input": "2020-10-04T18:38:32.991601Z",
     "iopub.status.busy": "2020-10-04T18:38:32.986277Z",
     "iopub.status.idle": "2020-10-04T18:38:33.009733Z",
     "shell.execute_reply": "2020-10-04T18:38:33.010793Z"
    },
    "lines_to_next_cell": 0,
    "title": "codecell"
   },
   "outputs": [
    {
     "data": {
      "text/latex": [
       "$\\displaystyle \\lambda{\\left({\\left( d \\mapsto \\sigma{\\left(d \\right)} \\right)}_{\\circ}\\left({X W}\\right) \\right)}$"
      ],
      "text/plain": [
       "lambda(Lambda(_d, sigma(_d)).(X*W))"
      ]
     },
     "execution_count": 1,
     "metadata": {},
     "output_type": "execute_result"
    }
   ],
   "source": [
    "L.replace(n,vL).replace(sigmaApply,sigmaApply_)#.diff()"
   ]
  },
  {
   "cell_type": "code",
   "execution_count": 28,
   "metadata": {
    "execution": {
     "iopub.execute_input": "2020-10-04T18:38:33.017859Z",
     "iopub.status.busy": "2020-10-04T18:38:33.014198Z",
     "iopub.status.idle": "2020-10-04T18:38:33.033237Z",
     "shell.execute_reply": "2020-10-04T18:38:33.036532Z"
    },
    "lines_to_next_cell": 0,
    "title": "codecell"
   },
   "outputs": [
    {
     "data": {
      "text/latex": [
       "$\\displaystyle \\lambda{\\left(\\sigma_{apply}{\\left(X W \\right)} \\right)}$"
      ],
      "text/plain": [
       "lambda(sigma_apply(X*W))"
      ]
     },
     "execution_count": 1,
     "metadata": {},
     "output_type": "execute_result"
    }
   ],
   "source": [
    "L.replace(n,vL)"
   ]
  },
  {
   "cell_type": "code",
   "execution_count": 29,
   "metadata": {
    "execution": {
     "iopub.execute_input": "2020-10-04T18:38:33.043342Z",
     "iopub.status.busy": "2020-10-04T18:38:33.040351Z",
     "iopub.status.idle": "2020-10-04T18:38:33.070431Z",
     "shell.execute_reply": "2020-10-04T18:38:33.071550Z"
    },
    "lines_to_next_cell": 0,
    "title": "codecell"
   },
   "outputs": [
    {
     "data": {
      "text/latex": [
       "$\\displaystyle \\frac{\\partial}{\\partial \\sigma_{apply}{\\left(X W \\right)}} \\lambda{\\left(\\sigma_{apply}{\\left(X W \\right)} \\right)}$"
      ],
      "text/plain": [
       "Derivative(lambda(sigma_apply(X*W)), sigma_apply(X*W))"
      ]
     },
     "execution_count": 1,
     "metadata": {},
     "output_type": "execute_result"
    }
   ],
   "source": [
    "L.replace(n,vL).diff(sigmaApply(A*B))"
   ]
  },
  {
   "cell_type": "code",
   "execution_count": 30,
   "metadata": {
    "execution": {
     "iopub.execute_input": "2020-10-04T18:38:33.081290Z",
     "iopub.status.busy": "2020-10-04T18:38:33.075499Z",
     "iopub.status.idle": "2020-10-04T18:38:33.084760Z",
     "shell.execute_reply": "2020-10-04T18:38:33.086204Z"
    },
    "lines_to_next_cell": 0,
    "title": "codecell"
   },
   "outputs": [],
   "source": [
    "#L.replace(n,vL).diff(sigmaApply(A*B)).replace(sigmaApply,sigmaApply_)\n",
    "## ERROR cannot do that"
   ]
  },
  {
   "cell_type": "code",
   "execution_count": 31,
   "metadata": {
    "execution": {
     "iopub.execute_input": "2020-10-04T18:38:33.094730Z",
     "iopub.status.busy": "2020-10-04T18:38:33.093794Z",
     "iopub.status.idle": "2020-10-04T18:38:33.111041Z",
     "shell.execute_reply": "2020-10-04T18:38:33.112452Z"
    },
    "lines_to_next_cell": 2,
    "title": "codecell"
   },
   "outputs": [
    {
     "data": {
      "text/latex": [
       "$\\displaystyle \\left( \\left( X, \\  W\\right) \\mapsto \\nu{\\left(X,W \\right)} \\right)$"
      ],
      "text/plain": [
       "Lambda((X, W), nu(X, W))"
      ]
     },
     "execution_count": 1,
     "metadata": {},
     "output_type": "execute_result"
    }
   ],
   "source": [
    "sigmaApply_L = Lambda(M, M.applyfunc(sigma))\n",
    "#L.replace(n,vL).diff(sigmaApply(A*B)).subs(sigmaApply,sigmaApply_L) ## ERROR\n",
    "\n",
    "nL = Lambda((A,B), n(A,B)); nL"
   ]
  },
  {
   "cell_type": "code",
   "execution_count": 32,
   "metadata": {
    "execution": {
     "iopub.execute_input": "2020-10-04T18:38:33.119721Z",
     "iopub.status.busy": "2020-10-04T18:38:33.118757Z",
     "iopub.status.idle": "2020-10-04T18:38:33.129629Z",
     "shell.execute_reply": "2020-10-04T18:38:33.130755Z"
    },
    "title": "codecell"
   },
   "outputs": [],
   "source": [
    "# Try to create function cpmpositions :\n",
    "from functools import reduce\n",
    "\n",
    "def compose2(f, g):\n",
    "    return lambda *a, **kw: f(g(*a, **kw))\n",
    "\n",
    "def compose(*fs):\n",
    "    return reduce(compose2, fs)"
   ]
  },
  {
   "cell_type": "code",
   "execution_count": 33,
   "metadata": {
    "execution": {
     "iopub.execute_input": "2020-10-04T18:38:33.141090Z",
     "iopub.status.busy": "2020-10-04T18:38:33.134005Z",
     "iopub.status.idle": "2020-10-04T18:38:33.177852Z",
     "shell.execute_reply": "2020-10-04T18:38:33.178936Z"
    },
    "lines_to_next_cell": 0,
    "title": "codecell"
   },
   "outputs": [
    {
     "data": {
      "text/latex": [
       "$\\displaystyle \\frac{d}{d g{\\left(h{\\left(x \\right)} \\right)}} f{\\left(g{\\left(h{\\left(x \\right)} \\right)} \\right)} \\frac{d}{d h{\\left(x \\right)}} g{\\left(h{\\left(x \\right)} \\right)} \\frac{d}{d x} h{\\left(x \\right)}$"
      ],
      "text/plain": [
       "Derivative(f(g(h(x))), g(h(x)))*Derivative(g(h(x)), h(x))*Derivative(h(x), x)"
      ]
     },
     "execution_count": 1,
     "metadata": {},
     "output_type": "execute_result"
    }
   ],
   "source": [
    "f, g, h = symbols(\"f g h \", cls=Function)\n",
    "diff(f(g(h(x))), x)"
   ]
  },
  {
   "cell_type": "code",
   "execution_count": 34,
   "metadata": {
    "execution": {
     "iopub.execute_input": "2020-10-04T18:38:33.187271Z",
     "iopub.status.busy": "2020-10-04T18:38:33.183946Z",
     "iopub.status.idle": "2020-10-04T18:38:33.200387Z",
     "shell.execute_reply": "2020-10-04T18:38:33.203054Z"
    },
    "lines_to_next_cell": 0,
    "title": "codecell"
   },
   "outputs": [
    {
     "data": {
      "text/latex": [
       "$\\displaystyle f{\\left(g{\\left(h{\\left(x \\right)} \\right)} \\right)}$"
      ],
      "text/plain": [
       "f(g(h(x)))"
      ]
     },
     "execution_count": 1,
     "metadata": {},
     "output_type": "execute_result"
    }
   ],
   "source": [
    "compose(f,g,h)(x)"
   ]
  },
  {
   "cell_type": "code",
   "execution_count": 35,
   "metadata": {
    "execution": {
     "iopub.execute_input": "2020-10-04T18:38:33.208774Z",
     "iopub.status.busy": "2020-10-04T18:38:33.206393Z",
     "iopub.status.idle": "2020-10-04T18:38:33.221781Z",
     "shell.execute_reply": "2020-10-04T18:38:33.223225Z"
    },
    "lines_to_next_cell": 0,
    "title": "codecell"
   },
   "outputs": [
    {
     "data": {
      "text/plain": [
       "<function __main__.compose2.<locals>.<lambda>(*a, **kw)>"
      ]
     },
     "execution_count": 1,
     "metadata": {},
     "output_type": "execute_result"
    }
   ],
   "source": [
    "compose(f,g,h)"
   ]
  },
  {
   "cell_type": "code",
   "execution_count": 36,
   "metadata": {
    "execution": {
     "iopub.execute_input": "2020-10-04T18:38:33.232467Z",
     "iopub.status.busy": "2020-10-04T18:38:33.228224Z",
     "iopub.status.idle": "2020-10-04T18:38:33.244681Z",
     "shell.execute_reply": "2020-10-04T18:38:33.245796Z"
    },
    "lines_to_next_cell": 0,
    "title": "codecell"
   },
   "outputs": [
    {
     "data": {
      "text/latex": [
       "$\\displaystyle \\lambda{\\left(\\sigma_{apply}{\\left(\\nu{\\left(X,W \\right)} \\right)} \\right)}$"
      ],
      "text/plain": [
       "lambda(sigma_apply(nu(X, W)))"
      ]
     },
     "execution_count": 1,
     "metadata": {},
     "output_type": "execute_result"
    }
   ],
   "source": [
    "compose(lambd, sigmaApply, n)(A,B)"
   ]
  },
  {
   "cell_type": "code",
   "execution_count": 37,
   "metadata": {
    "execution": {
     "iopub.execute_input": "2020-10-04T18:38:33.256128Z",
     "iopub.status.busy": "2020-10-04T18:38:33.252156Z",
     "iopub.status.idle": "2020-10-04T18:38:33.273471Z",
     "shell.execute_reply": "2020-10-04T18:38:33.274855Z"
    },
    "title": "codecell"
   },
   "outputs": [
    {
     "data": {
      "text/latex": [
       "$\\displaystyle 1$"
      ],
      "text/plain": [
       "1"
      ]
     },
     "execution_count": 1,
     "metadata": {},
     "output_type": "execute_result"
    }
   ],
   "source": [
    "#diff(compose(lambd, sigmaApply, n)(A.T,B), A)\n",
    "\n",
    "\n",
    "#compose(lambd, sigmaApply, n)(A,B).diff(lambd)\n",
    "diff(compose(lambd, sigmaApply, n)(A,B), compose(lambd, sigmaApply, n)(A,B))"
   ]
  },
  {
   "cell_type": "code",
   "execution_count": 38,
   "metadata": {
    "execution": {
     "iopub.execute_input": "2020-10-04T18:38:33.281918Z",
     "iopub.status.busy": "2020-10-04T18:38:33.281015Z",
     "iopub.status.idle": "2020-10-04T18:38:33.330428Z",
     "shell.execute_reply": "2020-10-04T18:38:33.331602Z"
    },
    "lines_to_next_cell": 0,
    "title": "codecell"
   },
   "outputs": [
    {
     "data": {
      "text/latex": [
       "$\\displaystyle \\frac{\\partial}{\\partial \\sigma_{apply}{\\left(\\nu{\\left(X,W \\right)} \\right)}} \\lambda{\\left(\\sigma_{apply}{\\left(\\nu{\\left(X,W \\right)} \\right)} \\right)} \\frac{\\partial}{\\partial \\nu{\\left(X,W \\right)}} \\sigma_{apply}{\\left(\\nu{\\left(X,W \\right)} \\right)}$"
      ],
      "text/plain": [
       "Derivative(lambda(sigma_apply(nu(X, W))), sigma_apply(nu(X, W)))*Derivative(sigma_apply(nu(X, W)), nu(X, W))"
      ]
     },
     "execution_count": 1,
     "metadata": {},
     "output_type": "execute_result"
    }
   ],
   "source": [
    "d = diff(compose(lambd, sigmaApply, n)(A,B), n(A,B)); d"
   ]
  },
  {
   "cell_type": "code",
   "execution_count": 39,
   "metadata": {
    "execution": {
     "iopub.execute_input": "2020-10-04T18:38:33.339052Z",
     "iopub.status.busy": "2020-10-04T18:38:33.337473Z",
     "iopub.status.idle": "2020-10-04T18:38:33.361352Z",
     "shell.execute_reply": "2020-10-04T18:38:33.362451Z"
    },
    "lines_to_next_cell": 0,
    "title": "codecell"
   },
   "outputs": [
    {
     "data": {
      "text/latex": [
       "$\\displaystyle \\lambda{\\left({\\left( d \\mapsto \\sigma{\\left(d \\right)} \\right)}_{\\circ}\\left({X W}\\right) \\right)}$"
      ],
      "text/plain": [
       "lambda(Lambda(_d, sigma(_d)).(X*W))"
      ]
     },
     "execution_count": 1,
     "metadata": {},
     "output_type": "execute_result"
    }
   ],
   "source": [
    "#compose(lambd, sigmaApply, n)(A,B).diff(A) # ERROR\n",
    "Lc = compose(lambd, sigmaApply, n)(A, B)\n",
    "Lc.replace(n, vL).replace(sigmaApply, sigmaApply_)"
   ]
  },
  {
   "cell_type": "code",
   "execution_count": 40,
   "metadata": {
    "execution": {
     "iopub.execute_input": "2020-10-04T18:38:33.367606Z",
     "iopub.status.busy": "2020-10-04T18:38:33.366035Z",
     "iopub.status.idle": "2020-10-04T18:38:33.565355Z",
     "shell.execute_reply": "2020-10-04T18:38:33.566469Z"
    },
    "title": "codecell"
   },
   "outputs": [
    {
     "data": {
      "text/latex": [
       "$\\displaystyle \\left. \\frac{d}{d \\xi_{1}} \\lambda{\\left(\\xi_{1} \\right)} \\right|_{\\substack{ \\xi_{1}={\\left( d \\mapsto \\sigma{\\left(d \\right)} \\right)}_{\\circ}\\left({X W}\\right) }} X^{T} {\\left( d \\mapsto \\frac{d}{d d} \\sigma{\\left(d \\right)} \\right)}_{\\circ}\\left({X W}\\right)$"
      ],
      "text/plain": [
       "Subs(Derivative(lambda(_xi_1), _xi_1), _xi_1, Lambda(_d, sigma(_d)).(X*W))*X.T*Lambda(_d, Derivative(sigma(_d), _d)).(X*W)"
      ]
     },
     "execution_count": 1,
     "metadata": {},
     "output_type": "execute_result"
    }
   ],
   "source": [
    "# Same result as replacing in L\n",
    "#Lc.replace(n, vL).replace(sigmaApply, sigmaApply_).diff(B)\n",
    "Lc.replace(n, v).replace(sigmaApply, sigmaApply_).diff(B)"
   ]
  },
  {
   "cell_type": "code",
   "execution_count": 41,
   "metadata": {
    "execution": {
     "iopub.execute_input": "2020-10-04T18:38:33.576972Z",
     "iopub.status.busy": "2020-10-04T18:38:33.569893Z",
     "iopub.status.idle": "2020-10-04T18:38:33.597593Z",
     "shell.execute_reply": "2020-10-04T18:38:33.598993Z"
    },
    "lines_to_next_cell": 0,
    "title": "codecell"
   },
   "outputs": [
    {
     "data": {
      "text/latex": [
       "$\\displaystyle \\nu{\\left(X,W \\right)}$"
      ],
      "text/plain": [
       "nu(X, W)"
      ]
     },
     "execution_count": 1,
     "metadata": {},
     "output_type": "execute_result"
    }
   ],
   "source": [
    "\n",
    "funcToMat = lambda func_i: Matrix([func_i])\n",
    "funcToMat(f)\n",
    "A.applyfunc(sigma)\n",
    "#funcToMat(f).applyfunc(sigma)\n",
    "from sympy import FunctionMatrix\n",
    "F = MatrixSymbol(\"F\",3,3)#(FunctionMatrix(3,3, f))\n",
    "FL = Lambda(F, n(A,B))\n",
    "FL\n",
    "gL = lambda A: A.applyfunc(sigma)\n",
    "gL(A)\n",
    "temp = lambda n : n\n",
    "temp(n(A,B))\n",
    "#sigmaApply_L(A).subs(A, Lambda((A,B), vL(A,B)))# arg must be matrix instance"
   ]
  },
  {
   "cell_type": "code",
   "execution_count": 42,
   "metadata": {
    "execution": {
     "iopub.execute_input": "2020-10-04T18:38:33.603881Z",
     "iopub.status.busy": "2020-10-04T18:38:33.602961Z",
     "iopub.status.idle": "2020-10-04T18:38:33.730515Z",
     "shell.execute_reply": "2020-10-04T18:38:33.736691Z"
    },
    "lines_to_next_cell": 0,
    "title": "codecell"
   },
   "outputs": [
    {
     "data": {
      "text/latex": [
       "$\\displaystyle X^{T} {\\left( d \\mapsto \\frac{d}{d d} \\sigma{\\left(d \\right)} \\right)}_{\\circ}\\left({X W}\\right)$"
      ],
      "text/plain": [
       "X.T*Lambda(_d, Derivative(sigma(_d), _d)).(X*W)"
      ]
     },
     "execution_count": 1,
     "metadata": {},
     "output_type": "execute_result"
    }
   ],
   "source": [
    "sigmaApply_L(A*B).diff(B)"
   ]
  },
  {
   "cell_type": "code",
   "execution_count": 43,
   "metadata": {
    "execution": {
     "iopub.execute_input": "2020-10-04T18:38:33.741655Z",
     "iopub.status.busy": "2020-10-04T18:38:33.740172Z",
     "iopub.status.idle": "2020-10-04T18:38:33.842642Z",
     "shell.execute_reply": "2020-10-04T18:38:33.844069Z"
    },
    "lines_to_next_cell": 0,
    "title": "codecell"
   },
   "outputs": [
    {
     "data": {
      "text/latex": [
       "$\\displaystyle \\left[\\begin{matrix}\\frac{d}{d x_{11}} \\sigma{\\left(x_{11} \\right)} & \\frac{d}{d x_{12}} \\sigma{\\left(x_{12} \\right)} & \\frac{d}{d x_{13}} \\sigma{\\left(x_{13} \\right)}\\\\\\frac{d}{d x_{21}} \\sigma{\\left(x_{21} \\right)} & \\frac{d}{d x_{22}} \\sigma{\\left(x_{22} \\right)} & \\frac{d}{d x_{23}} \\sigma{\\left(x_{23} \\right)}\\\\\\frac{d}{d x_{31}} \\sigma{\\left(x_{31} \\right)} & \\frac{d}{d x_{32}} \\sigma{\\left(x_{32} \\right)} & \\frac{d}{d x_{33}} \\sigma{\\left(x_{33} \\right)}\\end{matrix}\\right]$"
      ],
      "text/plain": [
       "Matrix([\n",
       "[Derivative(sigma(x_11), x_11), Derivative(sigma(x_12), x_12), Derivative(sigma(x_13), x_13)],\n",
       "[Derivative(sigma(x_21), x_21), Derivative(sigma(x_22), x_22), Derivative(sigma(x_23), x_23)],\n",
       "[Derivative(sigma(x_31), x_31), Derivative(sigma(x_32), x_32), Derivative(sigma(x_33), x_33)]])"
      ]
     },
     "execution_count": 1,
     "metadata": {},
     "output_type": "execute_result"
    }
   ],
   "source": [
    "sigmaApply_L(A).diff(A).subs(A,X).doit()"
   ]
  },
  {
   "cell_type": "code",
   "execution_count": 44,
   "metadata": {
    "title": "codecell"
   },
   "outputs": [],
   "source": []
  },
  {
   "cell_type": "code",
   "execution_count": 44,
   "metadata": {
    "execution": {
     "iopub.execute_input": "2020-10-04T18:38:33.853340Z",
     "iopub.status.busy": "2020-10-04T18:38:33.847948Z",
     "iopub.status.idle": "2020-10-04T18:38:33.991126Z",
     "shell.execute_reply": "2020-10-04T18:38:33.992227Z"
    },
    "lines_to_next_cell": 0,
    "title": "codecell"
   },
   "outputs": [
    {
     "data": {
      "text/latex": [
       "$\\displaystyle \\left(\\left[\\begin{matrix}x_{11} & x_{12} & x_{13}\\\\x_{21} & x_{22} & x_{23}\\\\x_{31} & x_{32} & x_{33}\\end{matrix}\\right]\\right)^{T} {\\left( d \\mapsto \\frac{d}{d d} \\sigma{\\left(d \\right)} \\right)}_{\\circ}\\left({\\left[\\begin{matrix}x_{11} & x_{12} & x_{13}\\\\x_{21} & x_{22} & x_{23}\\\\x_{31} & x_{32} & x_{33}\\end{matrix}\\right] \\left[\\begin{matrix}w_{11} & w_{12}\\\\w_{21} & w_{22}\\\\w_{31} & w_{32}\\end{matrix}\\right]}\\right)$"
      ],
      "text/plain": [
       "Matrix([\n",
       "[x_11, x_12, x_13],\n",
       "[x_21, x_22, x_23],\n",
       "[x_31, x_32, x_33]]).T*Lambda(_d, Derivative(sigma(_d), _d)).(Matrix([\n",
       "[x_11, x_12, x_13],\n",
       "[x_21, x_22, x_23],\n",
       "[x_31, x_32, x_33]])*Matrix([\n",
       "[w_11, w_12],\n",
       "[w_21, w_22],\n",
       "[w_31, w_32]]))"
      ]
     },
     "execution_count": 1,
     "metadata": {},
     "output_type": "execute_result"
    }
   ],
   "source": [
    "sigmaApply_L(A*B).diff(B).subs(A,X).subs(B,W)#.doit()\n",
    "### CANNOT go farther here because of noncommutative scalars in matrix error"
   ]
  },
  {
   "cell_type": "code",
   "execution_count": 45,
   "metadata": {
    "execution": {
     "iopub.execute_input": "2020-10-04T18:38:34.003048Z",
     "iopub.status.busy": "2020-10-04T18:38:34.000511Z",
     "iopub.status.idle": "2020-10-04T18:38:34.006680Z",
     "shell.execute_reply": "2020-10-04T18:38:34.007832Z"
    },
    "lines_to_next_cell": 0,
    "title": "codecell"
   },
   "outputs": [],
   "source": [
    "#sigmaApply_L(X*W).subs(specToElemD).subs(elemToMatArgD).diff(B)#"
   ]
  },
  {
   "cell_type": "code",
   "execution_count": 46,
   "metadata": {
    "execution": {
     "iopub.execute_input": "2020-10-04T18:38:34.017170Z",
     "iopub.status.busy": "2020-10-04T18:38:34.011242Z",
     "iopub.status.idle": "2020-10-04T18:38:34.141174Z",
     "shell.execute_reply": "2020-10-04T18:38:34.142332Z"
    },
    "title": "codecell"
   },
   "outputs": [
    {
     "data": {
      "text/latex": [
       "$\\displaystyle X^{T} {\\left( d \\mapsto \\frac{d}{d d} \\sigma{\\left(d \\right)} \\right)}_{\\circ}\\left({X W}\\right)$"
      ],
      "text/plain": [
       "X.T*Lambda(_d, Derivative(sigma(_d), _d)).(X*W)"
      ]
     },
     "execution_count": 1,
     "metadata": {},
     "output_type": "execute_result"
    }
   ],
   "source": [
    "sigmaApply_L(A*B).diff(B)#.replace(A,X).replace(B,W).replace(X*W,Nelem)"
   ]
  },
  {
   "cell_type": "code",
   "execution_count": 47,
   "metadata": {
    "execution": {
     "iopub.execute_input": "2020-10-04T18:38:34.156432Z",
     "iopub.status.busy": "2020-10-04T18:38:34.145951Z",
     "iopub.status.idle": "2020-10-04T18:38:34.387535Z",
     "shell.execute_reply": "2020-10-04T18:38:34.388676Z"
    },
    "lines_to_next_cell": 0,
    "title": "codecell"
   },
   "outputs": [
    {
     "data": {
      "text/latex": [
       "$\\displaystyle X^{T} {\\left( d \\mapsto \\frac{d}{d d} \\sigma{\\left(d \\right)} \\right)}_{\\circ}\\left({\\left[\\begin{matrix}n_{11} & n_{12}\\\\n_{21} & n_{22}\\\\n_{31} & n_{32}\\end{matrix}\\right]}\\right)$"
      ],
      "text/plain": [
       "X.T*Lambda(_d, Derivative(sigma(_d), _d)).(Matrix([\n",
       "[n_11, n_12],\n",
       "[n_21, n_22],\n",
       "[n_31, n_32]]))"
      ]
     },
     "execution_count": 1,
     "metadata": {},
     "output_type": "execute_result"
    }
   ],
   "source": [
    "sigmaApply_L(A*B).diff(B).subs({A*B : vN(A,B)})"
   ]
  },
  {
   "cell_type": "code",
   "execution_count": 48,
   "metadata": {
    "execution": {
     "iopub.execute_input": "2020-10-04T18:38:34.400367Z",
     "iopub.status.busy": "2020-10-04T18:38:34.397207Z",
     "iopub.status.idle": "2020-10-04T18:38:34.543886Z",
     "shell.execute_reply": "2020-10-04T18:38:34.546454Z"
    },
    "lines_to_next_cell": 0,
    "title": "codecell"
   },
   "outputs": [
    {
     "data": {
      "text/latex": [
       "$\\displaystyle X^{T} \\left[\\begin{matrix}\\frac{d}{d n_{11}} \\sigma{\\left(n_{11} \\right)} & \\frac{d}{d n_{12}} \\sigma{\\left(n_{12} \\right)}\\\\\\frac{d}{d n_{21}} \\sigma{\\left(n_{21} \\right)} & \\frac{d}{d n_{22}} \\sigma{\\left(n_{22} \\right)}\\\\\\frac{d}{d n_{31}} \\sigma{\\left(n_{31} \\right)} & \\frac{d}{d n_{32}} \\sigma{\\left(n_{32} \\right)}\\end{matrix}\\right]$"
      ],
      "text/plain": [
       "X.T*Matrix([\n",
       "[Derivative(sigma(n_11), n_11), Derivative(sigma(n_12), n_12)],\n",
       "[Derivative(sigma(n_21), n_21), Derivative(sigma(n_22), n_22)],\n",
       "[Derivative(sigma(n_31), n_31), Derivative(sigma(n_32), n_32)]])"
      ]
     },
     "execution_count": 1,
     "metadata": {},
     "output_type": "execute_result"
    }
   ],
   "source": [
    "sigmaApply_L(A*B).diff(B).subs({A*B : vN(A,B)}).doit()"
   ]
  },
  {
   "cell_type": "code",
   "execution_count": 49,
   "metadata": {
    "execution": {
     "iopub.execute_input": "2020-10-04T18:38:34.557675Z",
     "iopub.status.busy": "2020-10-04T18:38:34.549784Z",
     "iopub.status.idle": "2020-10-04T18:38:34.781500Z",
     "shell.execute_reply": "2020-10-04T18:38:34.782775Z"
    },
    "lines_to_next_cell": 0,
    "title": "codecell"
   },
   "outputs": [
    {
     "data": {
      "text/latex": [
       "$\\displaystyle X^{T} {\\left( d \\mapsto \\frac{d}{d d} \\sigma{\\left(d \\right)} \\right)}_{\\circ}\\left({\\left[\\begin{matrix}\\operatorname{n_{11}}{\\left(X,W \\right)} & \\operatorname{n_{12}}{\\left(X,W \\right)}\\\\\\operatorname{n_{21}}{\\left(X,W \\right)} & \\operatorname{n_{22}}{\\left(X,W \\right)}\\\\\\operatorname{n_{31}}{\\left(X,W \\right)} & \\operatorname{n_{32}}{\\left(X,W \\right)}\\end{matrix}\\right]}\\right)$"
      ],
      "text/plain": [
       "X.T*Lambda(_d, Derivative(sigma(_d), _d)).(Matrix([\n",
       "[n_11(X, W), n_12(X, W)],\n",
       "[n_21(X, W), n_22(X, W)],\n",
       "[n_31(X, W), n_32(X, W)]]))"
      ]
     },
     "execution_count": 1,
     "metadata": {},
     "output_type": "execute_result"
    }
   ],
   "source": [
    "sigmaApply_L(A*B).diff(B).subs({A*B : vN(A,B)}).subs(elemToMatArgD)"
   ]
  },
  {
   "cell_type": "code",
   "execution_count": 50,
   "metadata": {
    "execution": {
     "iopub.execute_input": "2020-10-04T18:38:34.787763Z",
     "iopub.status.busy": "2020-10-04T18:38:34.786242Z",
     "iopub.status.idle": "2020-10-04T18:38:34.941583Z",
     "shell.execute_reply": "2020-10-04T18:38:34.943013Z"
    },
    "lines_to_next_cell": 0,
    "title": "codecell"
   },
   "outputs": [
    {
     "data": {
      "text/latex": [
       "$\\displaystyle X^{T} \\left[\\begin{matrix}\\frac{\\partial}{\\partial \\operatorname{n_{11}}{\\left(X,W \\right)}} \\sigma{\\left(\\operatorname{n_{11}}{\\left(X,W \\right)} \\right)} & \\frac{\\partial}{\\partial \\operatorname{n_{12}}{\\left(X,W \\right)}} \\sigma{\\left(\\operatorname{n_{12}}{\\left(X,W \\right)} \\right)}\\\\\\frac{\\partial}{\\partial \\operatorname{n_{21}}{\\left(X,W \\right)}} \\sigma{\\left(\\operatorname{n_{21}}{\\left(X,W \\right)} \\right)} & \\frac{\\partial}{\\partial \\operatorname{n_{22}}{\\left(X,W \\right)}} \\sigma{\\left(\\operatorname{n_{22}}{\\left(X,W \\right)} \\right)}\\\\\\frac{\\partial}{\\partial \\operatorname{n_{31}}{\\left(X,W \\right)}} \\sigma{\\left(\\operatorname{n_{31}}{\\left(X,W \\right)} \\right)} & \\frac{\\partial}{\\partial \\operatorname{n_{32}}{\\left(X,W \\right)}} \\sigma{\\left(\\operatorname{n_{32}}{\\left(X,W \\right)} \\right)}\\end{matrix}\\right]$"
      ],
      "text/plain": [
       "X.T*Matrix([\n",
       "[Derivative(sigma(n_11(X, W)), n_11(X, W)), Derivative(sigma(n_12(X, W)), n_12(X, W))],\n",
       "[Derivative(sigma(n_21(X, W)), n_21(X, W)), Derivative(sigma(n_22(X, W)), n_22(X, W))],\n",
       "[Derivative(sigma(n_31(X, W)), n_31(X, W)), Derivative(sigma(n_32(X, W)), n_32(X, W))]])"
      ]
     },
     "execution_count": 1,
     "metadata": {},
     "output_type": "execute_result"
    }
   ],
   "source": [
    "sigmaApply_L(A*B).diff(B).subs({A*B : vN(A,B)}).subs(elemToMatArgD).doit()"
   ]
  },
  {
   "cell_type": "code",
   "execution_count": 51,
   "metadata": {
    "execution": {
     "iopub.execute_input": "2020-10-04T18:38:34.948152Z",
     "iopub.status.busy": "2020-10-04T18:38:34.947259Z",
     "iopub.status.idle": "2020-10-04T18:38:35.075379Z",
     "shell.execute_reply": "2020-10-04T18:38:35.076828Z"
    },
    "lines_to_next_cell": 0,
    "title": "codecell"
   },
   "outputs": [
    {
     "data": {
      "text/latex": [
       "$\\displaystyle X^{T} \\left[\\begin{matrix}\\frac{d}{d n_{11}} \\sigma{\\left(n_{11} \\right)} & \\frac{d}{d n_{12}} \\sigma{\\left(n_{12} \\right)}\\\\\\frac{d}{d n_{21}} \\sigma{\\left(n_{21} \\right)} & \\frac{d}{d n_{22}} \\sigma{\\left(n_{22} \\right)}\\\\\\frac{d}{d n_{31}} \\sigma{\\left(n_{31} \\right)} & \\frac{d}{d n_{32}} \\sigma{\\left(n_{32} \\right)}\\end{matrix}\\right]$"
      ],
      "text/plain": [
       "X.T*Matrix([\n",
       "[Derivative(sigma(n_11), n_11), Derivative(sigma(n_12), n_12)],\n",
       "[Derivative(sigma(n_21), n_21), Derivative(sigma(n_22), n_22)],\n",
       "[Derivative(sigma(n_31), n_31), Derivative(sigma(n_32), n_32)]])"
      ]
     },
     "execution_count": 1,
     "metadata": {},
     "output_type": "execute_result"
    }
   ],
   "source": [
    "sigmaApply_L(A*B).diff(B).subs({A*B : vN(A,B)}).doit()"
   ]
  },
  {
   "cell_type": "code",
   "execution_count": 52,
   "metadata": {
    "execution": {
     "iopub.execute_input": "2020-10-04T18:38:35.082095Z",
     "iopub.status.busy": "2020-10-04T18:38:35.081180Z",
     "iopub.status.idle": "2020-10-04T18:38:35.089472Z",
     "shell.execute_reply": "2020-10-04T18:38:35.090847Z"
    },
    "lines_to_next_cell": 0,
    "title": "codecell"
   },
   "outputs": [],
   "source": [
    "#part1=sigmaApply_L(A*B).diff(B).subs({A*B : vN(A,B)}).doit()"
   ]
  },
  {
   "cell_type": "code",
   "execution_count": 53,
   "metadata": {
    "execution": {
     "iopub.execute_input": "2020-10-04T18:38:35.098800Z",
     "iopub.status.busy": "2020-10-04T18:38:35.097861Z",
     "iopub.status.idle": "2020-10-04T18:38:35.241749Z",
     "shell.execute_reply": "2020-10-04T18:38:35.242874Z"
    },
    "lines_to_next_cell": 0,
    "title": "codecell"
   },
   "outputs": [
    {
     "data": {
      "text/latex": [
       "$\\displaystyle \\left(\\left[\\begin{matrix}x_{11} & x_{12} & x_{13}\\\\x_{21} & x_{22} & x_{23}\\\\x_{31} & x_{32} & x_{33}\\end{matrix}\\right]\\right)^{T} \\left[\\begin{matrix}\\frac{d}{d n_{11}} \\sigma{\\left(n_{11} \\right)} & \\frac{d}{d n_{12}} \\sigma{\\left(n_{12} \\right)}\\\\\\frac{d}{d n_{21}} \\sigma{\\left(n_{21} \\right)} & \\frac{d}{d n_{22}} \\sigma{\\left(n_{22} \\right)}\\\\\\frac{d}{d n_{31}} \\sigma{\\left(n_{31} \\right)} & \\frac{d}{d n_{32}} \\sigma{\\left(n_{32} \\right)}\\end{matrix}\\right]$"
      ],
      "text/plain": [
       "Matrix([\n",
       "[x_11, x_12, x_13],\n",
       "[x_21, x_22, x_23],\n",
       "[x_31, x_32, x_33]]).T*Matrix([\n",
       "[Derivative(sigma(n_11), n_11), Derivative(sigma(n_12), n_12)],\n",
       "[Derivative(sigma(n_21), n_21), Derivative(sigma(n_22), n_22)],\n",
       "[Derivative(sigma(n_31), n_31), Derivative(sigma(n_32), n_32)]])"
      ]
     },
     "execution_count": 1,
     "metadata": {},
     "output_type": "execute_result"
    }
   ],
   "source": [
    "part1 = compose(sigmaApply, n)(A,B).replace(n, v).replace(sigmaApply, sigmaApply_).diff(B).subs({A*B : vN(A,B)}).doit()\n",
    "\n",
    "\n",
    "part1.subs({A:X}) # replace won't work here"
   ]
  },
  {
   "cell_type": "code",
   "execution_count": 54,
   "metadata": {
    "execution": {
     "iopub.execute_input": "2020-10-04T18:38:35.253172Z",
     "iopub.status.busy": "2020-10-04T18:38:35.247975Z",
     "iopub.status.idle": "2020-10-04T18:38:35.342790Z",
     "shell.execute_reply": "2020-10-04T18:38:35.343922Z"
    },
    "lines_to_next_cell": 0,
    "title": "codecell"
   },
   "outputs": [
    {
     "data": {
      "text/latex": [
       "$\\displaystyle \\left[\\begin{matrix}x_{11} \\frac{d}{d n_{11}} \\sigma{\\left(n_{11} \\right)} + x_{21} \\frac{d}{d n_{21}} \\sigma{\\left(n_{21} \\right)} + x_{31} \\frac{d}{d n_{31}} \\sigma{\\left(n_{31} \\right)} & x_{11} \\frac{d}{d n_{12}} \\sigma{\\left(n_{12} \\right)} + x_{21} \\frac{d}{d n_{22}} \\sigma{\\left(n_{22} \\right)} + x_{31} \\frac{d}{d n_{32}} \\sigma{\\left(n_{32} \\right)}\\\\x_{12} \\frac{d}{d n_{11}} \\sigma{\\left(n_{11} \\right)} + x_{22} \\frac{d}{d n_{21}} \\sigma{\\left(n_{21} \\right)} + x_{32} \\frac{d}{d n_{31}} \\sigma{\\left(n_{31} \\right)} & x_{12} \\frac{d}{d n_{12}} \\sigma{\\left(n_{12} \\right)} + x_{22} \\frac{d}{d n_{22}} \\sigma{\\left(n_{22} \\right)} + x_{32} \\frac{d}{d n_{32}} \\sigma{\\left(n_{32} \\right)}\\\\x_{13} \\frac{d}{d n_{11}} \\sigma{\\left(n_{11} \\right)} + x_{23} \\frac{d}{d n_{21}} \\sigma{\\left(n_{21} \\right)} + x_{33} \\frac{d}{d n_{31}} \\sigma{\\left(n_{31} \\right)} & x_{13} \\frac{d}{d n_{12}} \\sigma{\\left(n_{12} \\right)} + x_{23} \\frac{d}{d n_{22}} \\sigma{\\left(n_{22} \\right)} + x_{33} \\frac{d}{d n_{32}} \\sigma{\\left(n_{32} \\right)}\\end{matrix}\\right]$"
      ],
      "text/plain": [
       "Matrix([\n",
       "[x_11*Derivative(sigma(n_11), n_11) + x_21*Derivative(sigma(n_21), n_21) + x_31*Derivative(sigma(n_31), n_31), x_11*Derivative(sigma(n_12), n_12) + x_21*Derivative(sigma(n_22), n_22) + x_31*Derivative(sigma(n_32), n_32)],\n",
       "[x_12*Derivative(sigma(n_11), n_11) + x_22*Derivative(sigma(n_21), n_21) + x_32*Derivative(sigma(n_31), n_31), x_12*Derivative(sigma(n_12), n_12) + x_22*Derivative(sigma(n_22), n_22) + x_32*Derivative(sigma(n_32), n_32)],\n",
       "[x_13*Derivative(sigma(n_11), n_11) + x_23*Derivative(sigma(n_21), n_21) + x_33*Derivative(sigma(n_31), n_31), x_13*Derivative(sigma(n_12), n_12) + x_23*Derivative(sigma(n_22), n_22) + x_33*Derivative(sigma(n_32), n_32)]])"
      ]
     },
     "execution_count": 1,
     "metadata": {},
     "output_type": "execute_result"
    }
   ],
   "source": [
    "part1.subs({A:X}).doit()"
   ]
  },
  {
   "cell_type": "markdown",
   "execution_count": 55,
   "metadata": {
    "lines_to_next_cell": 0,
    "title": "markdown"
   },
   "source": [
    "### COMPARE: Symbolic form vs. Direct form vs. Step by Step form (which goes from symbolic to direct form by replacing)\n",
    "#### Symbolic Abstract Form (with respect to W):"
   ]
  },
  {
   "cell_type": "code",
   "execution_count": 55,
   "metadata": {
    "execution": {
     "iopub.execute_input": "2020-10-04T18:38:35.354656Z",
     "iopub.status.busy": "2020-10-04T18:38:35.348664Z",
     "iopub.status.idle": "2020-10-04T18:38:35.552189Z",
     "shell.execute_reply": "2020-10-04T18:38:35.553306Z"
    },
    "lines_to_next_cell": 0,
    "title": "codecell"
   },
   "outputs": [
    {
     "data": {
      "text/latex": [
       "$\\displaystyle \\left. \\frac{d}{d \\xi_{1}} \\lambda{\\left(\\xi_{1} \\right)} \\right|_{\\substack{ \\xi_{1}={\\left( d \\mapsto \\sigma{\\left(d \\right)} \\right)}_{\\circ}\\left({X W}\\right) }} X^{T} {\\left( d \\mapsto \\frac{d}{d d} \\sigma{\\left(d \\right)} \\right)}_{\\circ}\\left({X W}\\right)$"
      ],
      "text/plain": [
       "Subs(Derivative(lambda(_xi_1), _xi_1), _xi_1, Lambda(_d, sigma(_d)).(X*W))*X.T*Lambda(_d, Derivative(sigma(_d), _d)).(X*W)"
      ]
     },
     "execution_count": 1,
     "metadata": {},
     "output_type": "execute_result"
    }
   ],
   "source": [
    "Lc = compose(lambd, sigmaApply, n)(A, B)\n",
    "symb = Lc.replace(n, v).replace(sigmaApply, sigmaApply_).diff(B)\n",
    "symb"
   ]
  },
  {
   "cell_type": "markdown",
   "execution_count": 56,
   "metadata": {
    "lines_to_next_cell": 0,
    "title": "markdown"
   },
   "source": [
    "#### Direct form: (after the symbolic form)"
   ]
  },
  {
   "cell_type": "code",
   "execution_count": 56,
   "metadata": {
    "execution": {
     "iopub.execute_input": "2020-10-04T18:38:35.563567Z",
     "iopub.status.busy": "2020-10-04T18:38:35.560853Z",
     "iopub.status.idle": "2020-10-04T18:38:35.682982Z",
     "shell.execute_reply": "2020-10-04T18:38:35.684466Z"
    },
    "lines_to_next_cell": 0,
    "title": "codecell"
   },
   "outputs": [
    {
     "data": {
      "text/latex": [
       "$\\displaystyle \\left[\\begin{matrix}x_{11} \\left. \\frac{d}{d \\xi_{1}} \\sigma{\\left(\\xi_{1} \\right)} \\right|_{\\substack{ \\xi_{1}=n_{11} }} + x_{21} \\left. \\frac{d}{d \\xi_{1}} \\sigma{\\left(\\xi_{1} \\right)} \\right|_{\\substack{ \\xi_{1}=n_{21} }} + x_{31} \\left. \\frac{d}{d \\xi_{1}} \\sigma{\\left(\\xi_{1} \\right)} \\right|_{\\substack{ \\xi_{1}=n_{31} }} & x_{11} \\left. \\frac{d}{d \\xi_{1}} \\sigma{\\left(\\xi_{1} \\right)} \\right|_{\\substack{ \\xi_{1}=n_{12} }} + x_{21} \\left. \\frac{d}{d \\xi_{1}} \\sigma{\\left(\\xi_{1} \\right)} \\right|_{\\substack{ \\xi_{1}=n_{22} }} + x_{31} \\left. \\frac{d}{d \\xi_{1}} \\sigma{\\left(\\xi_{1} \\right)} \\right|_{\\substack{ \\xi_{1}=n_{32} }}\\\\x_{12} \\left. \\frac{d}{d \\xi_{1}} \\sigma{\\left(\\xi_{1} \\right)} \\right|_{\\substack{ \\xi_{1}=n_{11} }} + x_{22} \\left. \\frac{d}{d \\xi_{1}} \\sigma{\\left(\\xi_{1} \\right)} \\right|_{\\substack{ \\xi_{1}=n_{21} }} + x_{32} \\left. \\frac{d}{d \\xi_{1}} \\sigma{\\left(\\xi_{1} \\right)} \\right|_{\\substack{ \\xi_{1}=n_{31} }} & x_{12} \\left. \\frac{d}{d \\xi_{1}} \\sigma{\\left(\\xi_{1} \\right)} \\right|_{\\substack{ \\xi_{1}=n_{12} }} + x_{22} \\left. \\frac{d}{d \\xi_{1}} \\sigma{\\left(\\xi_{1} \\right)} \\right|_{\\substack{ \\xi_{1}=n_{22} }} + x_{32} \\left. \\frac{d}{d \\xi_{1}} \\sigma{\\left(\\xi_{1} \\right)} \\right|_{\\substack{ \\xi_{1}=n_{32} }}\\\\x_{13} \\left. \\frac{d}{d \\xi_{1}} \\sigma{\\left(\\xi_{1} \\right)} \\right|_{\\substack{ \\xi_{1}=n_{11} }} + x_{23} \\left. \\frac{d}{d \\xi_{1}} \\sigma{\\left(\\xi_{1} \\right)} \\right|_{\\substack{ \\xi_{1}=n_{21} }} + x_{33} \\left. \\frac{d}{d \\xi_{1}} \\sigma{\\left(\\xi_{1} \\right)} \\right|_{\\substack{ \\xi_{1}=n_{31} }} & x_{13} \\left. \\frac{d}{d \\xi_{1}} \\sigma{\\left(\\xi_{1} \\right)} \\right|_{\\substack{ \\xi_{1}=n_{12} }} + x_{23} \\left. \\frac{d}{d \\xi_{1}} \\sigma{\\left(\\xi_{1} \\right)} \\right|_{\\substack{ \\xi_{1}=n_{22} }} + x_{33} \\left. \\frac{d}{d \\xi_{1}} \\sigma{\\left(\\xi_{1} \\right)} \\right|_{\\substack{ \\xi_{1}=n_{32} }}\\end{matrix}\\right]$"
      ],
      "text/plain": [
       "Matrix([\n",
       "[x_11*Subs(Derivative(sigma(_xi_1), _xi_1), _xi_1, n_11) + x_21*Subs(Derivative(sigma(_xi_1), _xi_1), _xi_1, n_21) + x_31*Subs(Derivative(sigma(_xi_1), _xi_1), _xi_1, n_31), x_11*Subs(Derivative(sigma(_xi_1), _xi_1), _xi_1, n_12) + x_21*Subs(Derivative(sigma(_xi_1), _xi_1), _xi_1, n_22) + x_31*Subs(Derivative(sigma(_xi_1), _xi_1), _xi_1, n_32)],\n",
       "[x_12*Subs(Derivative(sigma(_xi_1), _xi_1), _xi_1, n_11) + x_22*Subs(Derivative(sigma(_xi_1), _xi_1), _xi_1, n_21) + x_32*Subs(Derivative(sigma(_xi_1), _xi_1), _xi_1, n_31), x_12*Subs(Derivative(sigma(_xi_1), _xi_1), _xi_1, n_12) + x_22*Subs(Derivative(sigma(_xi_1), _xi_1), _xi_1, n_22) + x_32*Subs(Derivative(sigma(_xi_1), _xi_1), _xi_1, n_32)],\n",
       "[x_13*Subs(Derivative(sigma(_xi_1), _xi_1), _xi_1, n_11) + x_23*Subs(Derivative(sigma(_xi_1), _xi_1), _xi_1, n_21) + x_33*Subs(Derivative(sigma(_xi_1), _xi_1), _xi_1, n_31), x_13*Subs(Derivative(sigma(_xi_1), _xi_1), _xi_1, n_12) + x_23*Subs(Derivative(sigma(_xi_1), _xi_1), _xi_1, n_22) + x_33*Subs(Derivative(sigma(_xi_1), _xi_1), _xi_1, n_32)]])"
      ]
     },
     "execution_count": 1,
     "metadata": {},
     "output_type": "execute_result"
    }
   ],
   "source": [
    "Lc.replace(n, vN).replace(sigmaApply, sigmaApply_).replace(lambd, lambd_).subs(elemToSpecD).diff(W).subs(specToElemD)"
   ]
  },
  {
   "cell_type": "markdown",
   "execution_count": 57,
   "metadata": {
    "lines_to_next_cell": 0,
    "title": "markdown"
   },
   "source": [
    "Just placing the \"n\" values right in place of the \"epsilons\" using the \"doit\" function:"
   ]
  },
  {
   "cell_type": "code",
   "execution_count": 57,
   "metadata": {
    "execution": {
     "iopub.execute_input": "2020-10-04T18:38:35.695864Z",
     "iopub.status.busy": "2020-10-04T18:38:35.688460Z",
     "iopub.status.idle": "2020-10-04T18:38:35.947723Z",
     "shell.execute_reply": "2020-10-04T18:38:35.952412Z"
    },
    "lines_to_next_cell": 0,
    "title": "codecell"
   },
   "outputs": [
    {
     "data": {
      "text/latex": [
       "$\\displaystyle \\left[\\begin{matrix}x_{11} \\frac{d}{d n_{11}} \\sigma{\\left(n_{11} \\right)} + x_{21} \\frac{d}{d n_{21}} \\sigma{\\left(n_{21} \\right)} + x_{31} \\frac{d}{d n_{31}} \\sigma{\\left(n_{31} \\right)} & x_{11} \\frac{d}{d n_{12}} \\sigma{\\left(n_{12} \\right)} + x_{21} \\frac{d}{d n_{22}} \\sigma{\\left(n_{22} \\right)} + x_{31} \\frac{d}{d n_{32}} \\sigma{\\left(n_{32} \\right)}\\\\x_{12} \\frac{d}{d n_{11}} \\sigma{\\left(n_{11} \\right)} + x_{22} \\frac{d}{d n_{21}} \\sigma{\\left(n_{21} \\right)} + x_{32} \\frac{d}{d n_{31}} \\sigma{\\left(n_{31} \\right)} & x_{12} \\frac{d}{d n_{12}} \\sigma{\\left(n_{12} \\right)} + x_{22} \\frac{d}{d n_{22}} \\sigma{\\left(n_{22} \\right)} + x_{32} \\frac{d}{d n_{32}} \\sigma{\\left(n_{32} \\right)}\\\\x_{13} \\frac{d}{d n_{11}} \\sigma{\\left(n_{11} \\right)} + x_{23} \\frac{d}{d n_{21}} \\sigma{\\left(n_{21} \\right)} + x_{33} \\frac{d}{d n_{31}} \\sigma{\\left(n_{31} \\right)} & x_{13} \\frac{d}{d n_{12}} \\sigma{\\left(n_{12} \\right)} + x_{23} \\frac{d}{d n_{22}} \\sigma{\\left(n_{22} \\right)} + x_{33} \\frac{d}{d n_{32}} \\sigma{\\left(n_{32} \\right)}\\end{matrix}\\right]$"
      ],
      "text/plain": [
       "Matrix([\n",
       "[x_11*Derivative(sigma(n_11), n_11) + x_21*Derivative(sigma(n_21), n_21) + x_31*Derivative(sigma(n_31), n_31), x_11*Derivative(sigma(n_12), n_12) + x_21*Derivative(sigma(n_22), n_22) + x_31*Derivative(sigma(n_32), n_32)],\n",
       "[x_12*Derivative(sigma(n_11), n_11) + x_22*Derivative(sigma(n_21), n_21) + x_32*Derivative(sigma(n_31), n_31), x_12*Derivative(sigma(n_12), n_12) + x_22*Derivative(sigma(n_22), n_22) + x_32*Derivative(sigma(n_32), n_32)],\n",
       "[x_13*Derivative(sigma(n_11), n_11) + x_23*Derivative(sigma(n_21), n_21) + x_33*Derivative(sigma(n_31), n_31), x_13*Derivative(sigma(n_12), n_12) + x_23*Derivative(sigma(n_22), n_22) + x_33*Derivative(sigma(n_32), n_32)]])"
      ]
     },
     "execution_count": 1,
     "metadata": {},
     "output_type": "execute_result"
    }
   ],
   "source": [
    "direct = Lc.replace(n, vN).replace(sigmaApply, sigmaApply_).replace(lambd, lambd_).subs(elemToSpecD).diff(W).subs(specToElemD).doit()\n",
    "direct"
   ]
  },
  {
   "cell_type": "markdown",
   "execution_count": 58,
   "metadata": {
    "lines_to_next_cell": 0,
    "title": "markdown"
   },
   "source": [
    "#### Step by Step Form:"
   ]
  },
  {
   "cell_type": "code",
   "execution_count": 58,
   "metadata": {
    "execution": {
     "iopub.execute_input": "2020-10-04T18:38:35.962288Z",
     "iopub.status.busy": "2020-10-04T18:38:35.960653Z",
     "iopub.status.idle": "2020-10-04T18:38:36.194715Z",
     "shell.execute_reply": "2020-10-04T18:38:36.195898Z"
    },
    "lines_to_next_cell": 0,
    "title": "codecell"
   },
   "outputs": [
    {
     "data": {
      "text/latex": [
       "$\\displaystyle \\left. \\frac{d}{d \\xi_{1}} \\lambda{\\left(\\xi_{1} \\right)} \\right|_{\\substack{ \\xi_{1}={\\left( d \\mapsto \\sigma{\\left(d \\right)} \\right)}_{\\circ}\\left({\\left[\\begin{matrix}n_{11} & n_{12}\\\\n_{21} & n_{22}\\\\n_{31} & n_{32}\\end{matrix}\\right]}\\right) }} X^{T} {\\left( d \\mapsto \\frac{d}{d d} \\sigma{\\left(d \\right)} \\right)}_{\\circ}\\left({\\left[\\begin{matrix}n_{11} & n_{12}\\\\n_{21} & n_{22}\\\\n_{31} & n_{32}\\end{matrix}\\right]}\\right)$"
      ],
      "text/plain": [
       "Subs(Derivative(lambda(_xi_1), _xi_1), _xi_1, Lambda(_d, sigma(_d)).(Matrix([\n",
       "[n_11, n_12],\n",
       "[n_21, n_22],\n",
       "[n_31, n_32]])))*X.T*Lambda(_d, Derivative(sigma(_d), _d)).(Matrix([\n",
       "[n_11, n_12],\n",
       "[n_21, n_22],\n",
       "[n_31, n_32]]))"
      ]
     },
     "execution_count": 1,
     "metadata": {},
     "output_type": "execute_result"
    }
   ],
   "source": [
    "assert symb == Lc.replace(n, v).replace(sigmaApply, sigmaApply_).diff(B)\n",
    "\n",
    "symb.subs({A*B : vN(A,B)})#.doit()"
   ]
  },
  {
   "cell_type": "code",
   "execution_count": 59,
   "metadata": {
    "execution": {
     "iopub.execute_input": "2020-10-04T18:38:36.204372Z",
     "iopub.status.busy": "2020-10-04T18:38:36.202734Z",
     "iopub.status.idle": "2020-10-04T18:38:36.263764Z",
     "shell.execute_reply": "2020-10-04T18:38:36.264871Z"
    },
    "lines_to_next_cell": 0,
    "title": "codecell"
   },
   "outputs": [
    {
     "data": {
      "text/latex": [
       "$\\displaystyle \\left. \\frac{d}{d \\xi_{1}} \\lambda{\\left(\\xi_{1} \\right)} \\right|_{\\substack{ \\xi_{1}={\\left( d \\mapsto \\sigma{\\left(d \\right)} \\right)}_{\\circ}\\left({\\left[\\begin{matrix}n_{11} & n_{12}\\\\n_{21} & n_{22}\\\\n_{31} & n_{32}\\end{matrix}\\right]}\\right) }} X^{T} \\left[\\begin{matrix}\\frac{d}{d n_{11}} \\sigma{\\left(n_{11} \\right)} & \\frac{d}{d n_{12}} \\sigma{\\left(n_{12} \\right)}\\\\\\frac{d}{d n_{21}} \\sigma{\\left(n_{21} \\right)} & \\frac{d}{d n_{22}} \\sigma{\\left(n_{22} \\right)}\\\\\\frac{d}{d n_{31}} \\sigma{\\left(n_{31} \\right)} & \\frac{d}{d n_{32}} \\sigma{\\left(n_{32} \\right)}\\end{matrix}\\right]$"
      ],
      "text/plain": [
       "Subs(Derivative(lambda(_xi_1), _xi_1), _xi_1, Lambda(_d, sigma(_d)).(Matrix([\n",
       "[n_11, n_12],\n",
       "[n_21, n_22],\n",
       "[n_31, n_32]])))*X.T*Matrix([\n",
       "[Derivative(sigma(n_11), n_11), Derivative(sigma(n_12), n_12)],\n",
       "[Derivative(sigma(n_21), n_21), Derivative(sigma(n_22), n_22)],\n",
       "[Derivative(sigma(n_31), n_31), Derivative(sigma(n_32), n_32)]])"
      ]
     },
     "execution_count": 1,
     "metadata": {},
     "output_type": "execute_result"
    }
   ],
   "source": [
    "symb.subs({A*B : vN(A,B)}).doit() # the dummy variable for lambda still stays unapplied"
   ]
  },
  {
   "cell_type": "code",
   "execution_count": 60,
   "metadata": {
    "execution": {
     "iopub.execute_input": "2020-10-04T18:38:36.278359Z",
     "iopub.status.busy": "2020-10-04T18:38:36.273303Z",
     "iopub.status.idle": "2020-10-04T18:38:36.388929Z",
     "shell.execute_reply": "2020-10-04T18:38:36.392535Z"
    },
    "lines_to_next_cell": 0,
    "title": "codecell"
   },
   "outputs": [
    {
     "data": {
      "text/latex": [
       "$\\displaystyle \\left. \\frac{d}{d \\xi_{1}} \\lambda{\\left(\\xi_{1} \\right)} \\right|_{\\substack{ \\xi_{1}={\\left( d \\mapsto \\sigma{\\left(d \\right)} \\right)}_{\\circ}\\left({\\left[\\begin{matrix}n_{11} & n_{12}\\\\n_{21} & n_{22}\\\\n_{31} & n_{32}\\end{matrix}\\right]}\\right) }} \\left[\\begin{matrix}x_{11} \\frac{d}{d n_{11}} \\sigma{\\left(n_{11} \\right)} + x_{21} \\frac{d}{d n_{21}} \\sigma{\\left(n_{21} \\right)} + x_{31} \\frac{d}{d n_{31}} \\sigma{\\left(n_{31} \\right)} & x_{11} \\frac{d}{d n_{12}} \\sigma{\\left(n_{12} \\right)} + x_{21} \\frac{d}{d n_{22}} \\sigma{\\left(n_{22} \\right)} + x_{31} \\frac{d}{d n_{32}} \\sigma{\\left(n_{32} \\right)}\\\\x_{12} \\frac{d}{d n_{11}} \\sigma{\\left(n_{11} \\right)} + x_{22} \\frac{d}{d n_{21}} \\sigma{\\left(n_{21} \\right)} + x_{32} \\frac{d}{d n_{31}} \\sigma{\\left(n_{31} \\right)} & x_{12} \\frac{d}{d n_{12}} \\sigma{\\left(n_{12} \\right)} + x_{22} \\frac{d}{d n_{22}} \\sigma{\\left(n_{22} \\right)} + x_{32} \\frac{d}{d n_{32}} \\sigma{\\left(n_{32} \\right)}\\\\x_{13} \\frac{d}{d n_{11}} \\sigma{\\left(n_{11} \\right)} + x_{23} \\frac{d}{d n_{21}} \\sigma{\\left(n_{21} \\right)} + x_{33} \\frac{d}{d n_{31}} \\sigma{\\left(n_{31} \\right)} & x_{13} \\frac{d}{d n_{12}} \\sigma{\\left(n_{12} \\right)} + x_{23} \\frac{d}{d n_{22}} \\sigma{\\left(n_{22} \\right)} + x_{33} \\frac{d}{d n_{32}} \\sigma{\\left(n_{32} \\right)}\\end{matrix}\\right]$"
      ],
      "text/plain": [
       "Subs(Derivative(lambda(_xi_1), _xi_1), _xi_1, Lambda(_d, sigma(_d)).(Matrix([\n",
       "[n_11, n_12],\n",
       "[n_21, n_22],\n",
       "[n_31, n_32]])))*Matrix([\n",
       "[x_11*Derivative(sigma(n_11), n_11) + x_21*Derivative(sigma(n_21), n_21) + x_31*Derivative(sigma(n_31), n_31), x_11*Derivative(sigma(n_12), n_12) + x_21*Derivative(sigma(n_22), n_22) + x_31*Derivative(sigma(n_32), n_32)],\n",
       "[x_12*Derivative(sigma(n_11), n_11) + x_22*Derivative(sigma(n_21), n_21) + x_32*Derivative(sigma(n_31), n_31), x_12*Derivative(sigma(n_12), n_12) + x_22*Derivative(sigma(n_22), n_22) + x_32*Derivative(sigma(n_32), n_32)],\n",
       "[x_13*Derivative(sigma(n_11), n_11) + x_23*Derivative(sigma(n_21), n_21) + x_33*Derivative(sigma(n_31), n_31), x_13*Derivative(sigma(n_12), n_12) + x_23*Derivative(sigma(n_22), n_22) + x_33*Derivative(sigma(n_32), n_32)]])"
      ]
     },
     "execution_count": 1,
     "metadata": {},
     "output_type": "execute_result"
    }
   ],
   "source": [
    "symb.subs({A*B : vN(A,B)}).subs({A:X}).doit() # two doits are equivalent to the last one at the end"
   ]
  },
  {
   "cell_type": "code",
   "execution_count": 61,
   "metadata": {
    "execution": {
     "iopub.execute_input": "2020-10-04T18:38:36.397660Z",
     "iopub.status.busy": "2020-10-04T18:38:36.396069Z",
     "iopub.status.idle": "2020-10-04T18:38:36.501105Z",
     "shell.execute_reply": "2020-10-04T18:38:36.506500Z"
    },
    "title": "codecell"
   },
   "outputs": [
    {
     "data": {
      "text/latex": [
       "$\\displaystyle \\left. \\frac{d}{d \\xi_{1}} \\lambda{\\left(\\xi_{1} \\right)} \\right|_{\\substack{ \\xi_{1}={\\left( d \\mapsto \\sigma{\\left(d \\right)} \\right)}_{\\circ}\\left({\\left[\\begin{matrix}n_{11} & n_{12}\\\\n_{21} & n_{22}\\\\n_{31} & n_{32}\\end{matrix}\\right]}\\right) }} \\left[\\begin{matrix}x_{11} \\frac{d}{d n_{11}} \\sigma{\\left(n_{11} \\right)} + x_{21} \\frac{d}{d n_{21}} \\sigma{\\left(n_{21} \\right)} + x_{31} \\frac{d}{d n_{31}} \\sigma{\\left(n_{31} \\right)} & x_{11} \\frac{d}{d n_{12}} \\sigma{\\left(n_{12} \\right)} + x_{21} \\frac{d}{d n_{22}} \\sigma{\\left(n_{22} \\right)} + x_{31} \\frac{d}{d n_{32}} \\sigma{\\left(n_{32} \\right)}\\\\x_{12} \\frac{d}{d n_{11}} \\sigma{\\left(n_{11} \\right)} + x_{22} \\frac{d}{d n_{21}} \\sigma{\\left(n_{21} \\right)} + x_{32} \\frac{d}{d n_{31}} \\sigma{\\left(n_{31} \\right)} & x_{12} \\frac{d}{d n_{12}} \\sigma{\\left(n_{12} \\right)} + x_{22} \\frac{d}{d n_{22}} \\sigma{\\left(n_{22} \\right)} + x_{32} \\frac{d}{d n_{32}} \\sigma{\\left(n_{32} \\right)}\\\\x_{13} \\frac{d}{d n_{11}} \\sigma{\\left(n_{11} \\right)} + x_{23} \\frac{d}{d n_{21}} \\sigma{\\left(n_{21} \\right)} + x_{33} \\frac{d}{d n_{31}} \\sigma{\\left(n_{31} \\right)} & x_{13} \\frac{d}{d n_{12}} \\sigma{\\left(n_{12} \\right)} + x_{23} \\frac{d}{d n_{22}} \\sigma{\\left(n_{22} \\right)} + x_{33} \\frac{d}{d n_{32}} \\sigma{\\left(n_{32} \\right)}\\end{matrix}\\right]$"
      ],
      "text/plain": [
       "Subs(Derivative(lambda(_xi_1), _xi_1), _xi_1, Lambda(_d, sigma(_d)).(Matrix([\n",
       "[n_11, n_12],\n",
       "[n_21, n_22],\n",
       "[n_31, n_32]])))*Matrix([\n",
       "[x_11*Derivative(sigma(n_11), n_11) + x_21*Derivative(sigma(n_21), n_21) + x_31*Derivative(sigma(n_31), n_31), x_11*Derivative(sigma(n_12), n_12) + x_21*Derivative(sigma(n_22), n_22) + x_31*Derivative(sigma(n_32), n_32)],\n",
       "[x_12*Derivative(sigma(n_11), n_11) + x_22*Derivative(sigma(n_21), n_21) + x_32*Derivative(sigma(n_31), n_31), x_12*Derivative(sigma(n_12), n_12) + x_22*Derivative(sigma(n_22), n_22) + x_32*Derivative(sigma(n_32), n_32)],\n",
       "[x_13*Derivative(sigma(n_11), n_11) + x_23*Derivative(sigma(n_21), n_21) + x_33*Derivative(sigma(n_31), n_31), x_13*Derivative(sigma(n_12), n_12) + x_23*Derivative(sigma(n_22), n_22) + x_33*Derivative(sigma(n_32), n_32)]])"
      ]
     },
     "execution_count": 1,
     "metadata": {},
     "output_type": "execute_result"
    }
   ],
   "source": [
    "# Creating a special symbol just for the lambda_L function that has the appropriate shape after multiplying A*B. Supposed to represent a matrix R s.t. R == A * B (so that the indices after applying lambda_L are correct)\n",
    "ABres = MatrixSymbol(\"R\", A.shape[0], B.shape[1])\n",
    "lambd_L = Lambda(ABres, sum(ABres))\n",
    "\n",
    "\n",
    "symb.subs({A*B : vN(A,B)}).subs({A:X}).doit()#subs({lambd: lambd_L}).doit()"
   ]
  },
  {
   "cell_type": "code",
   "execution_count": 62,
   "metadata": {
    "execution": {
     "iopub.execute_input": "2020-10-04T18:38:36.511702Z",
     "iopub.status.busy": "2020-10-04T18:38:36.510138Z",
     "iopub.status.idle": "2020-10-04T18:38:36.626275Z",
     "shell.execute_reply": "2020-10-04T18:38:36.627717Z"
    },
    "title": "codecell"
   },
   "outputs": [
    {
     "data": {
      "text/latex": [
       "$\\displaystyle \\left. \\frac{d}{d \\xi_{1}} \\lambda{\\left(\\xi_{1} \\right)} \\right|_{\\substack{ \\xi_{1}=\\left[\\begin{matrix}\\sigma{\\left(n_{11} \\right)} & \\sigma{\\left(n_{12} \\right)}\\\\\\sigma{\\left(n_{21} \\right)} & \\sigma{\\left(n_{22} \\right)}\\\\\\sigma{\\left(n_{31} \\right)} & \\sigma{\\left(n_{32} \\right)}\\end{matrix}\\right] }} \\left[\\begin{matrix}x_{11} \\frac{d}{d n_{11}} \\sigma{\\left(n_{11} \\right)} + x_{21} \\frac{d}{d n_{21}} \\sigma{\\left(n_{21} \\right)} + x_{31} \\frac{d}{d n_{31}} \\sigma{\\left(n_{31} \\right)} & x_{11} \\frac{d}{d n_{12}} \\sigma{\\left(n_{12} \\right)} + x_{21} \\frac{d}{d n_{22}} \\sigma{\\left(n_{22} \\right)} + x_{31} \\frac{d}{d n_{32}} \\sigma{\\left(n_{32} \\right)}\\\\x_{12} \\frac{d}{d n_{11}} \\sigma{\\left(n_{11} \\right)} + x_{22} \\frac{d}{d n_{21}} \\sigma{\\left(n_{21} \\right)} + x_{32} \\frac{d}{d n_{31}} \\sigma{\\left(n_{31} \\right)} & x_{12} \\frac{d}{d n_{12}} \\sigma{\\left(n_{12} \\right)} + x_{22} \\frac{d}{d n_{22}} \\sigma{\\left(n_{22} \\right)} + x_{32} \\frac{d}{d n_{32}} \\sigma{\\left(n_{32} \\right)}\\\\x_{13} \\frac{d}{d n_{11}} \\sigma{\\left(n_{11} \\right)} + x_{23} \\frac{d}{d n_{21}} \\sigma{\\left(n_{21} \\right)} + x_{33} \\frac{d}{d n_{31}} \\sigma{\\left(n_{31} \\right)} & x_{13} \\frac{d}{d n_{12}} \\sigma{\\left(n_{12} \\right)} + x_{23} \\frac{d}{d n_{22}} \\sigma{\\left(n_{22} \\right)} + x_{33} \\frac{d}{d n_{32}} \\sigma{\\left(n_{32} \\right)}\\end{matrix}\\right]$"
      ],
      "text/plain": [
       "Subs(Derivative(lambda(_xi_1), _xi_1), _xi_1, Matrix([\n",
       "[sigma(n_11), sigma(n_12)],\n",
       "[sigma(n_21), sigma(n_22)],\n",
       "[sigma(n_31), sigma(n_32)]]))*Matrix([\n",
       "[x_11*Derivative(sigma(n_11), n_11) + x_21*Derivative(sigma(n_21), n_21) + x_31*Derivative(sigma(n_31), n_31), x_11*Derivative(sigma(n_12), n_12) + x_21*Derivative(sigma(n_22), n_22) + x_31*Derivative(sigma(n_32), n_32)],\n",
       "[x_12*Derivative(sigma(n_11), n_11) + x_22*Derivative(sigma(n_21), n_21) + x_32*Derivative(sigma(n_31), n_31), x_12*Derivative(sigma(n_12), n_12) + x_22*Derivative(sigma(n_22), n_22) + x_32*Derivative(sigma(n_32), n_32)],\n",
       "[x_13*Derivative(sigma(n_11), n_11) + x_23*Derivative(sigma(n_21), n_21) + x_33*Derivative(sigma(n_31), n_31), x_13*Derivative(sigma(n_12), n_12) + x_23*Derivative(sigma(n_22), n_22) + x_33*Derivative(sigma(n_32), n_32)]])"
      ]
     },
     "execution_count": 1,
     "metadata": {},
     "output_type": "execute_result"
    }
   ],
   "source": [
    "# yay finall got the dummy variable in the lambd to be applied!!\n",
    "unapplied = sigmaApply_L(vN(A,B))\n",
    "applied = unapplied.doit()\n",
    "\n",
    "symb.subs({A*B : vN(A,B)}).subs({A:X}).doit().replace(unapplied, applied)"
   ]
  },
  {
   "cell_type": "code",
   "execution_count": 63,
   "metadata": {
    "execution": {
     "iopub.execute_input": "2020-10-04T18:38:36.636482Z",
     "iopub.status.busy": "2020-10-04T18:38:36.633398Z",
     "iopub.status.idle": "2020-10-04T18:38:37.155028Z",
     "shell.execute_reply": "2020-10-04T18:38:37.156240Z"
    },
    "lines_to_next_cell": 0,
    "title": "codecell"
   },
   "outputs": [
    {
     "data": {
      "text/latex": [
       "$\\displaystyle \\left[\\begin{matrix}\\left[\\begin{matrix}\\left[\\begin{matrix}1 & 1\\\\1 & 1\\\\1 & 1\\end{matrix}\\right] & 0\\\\0 & 0\\\\0 & 0\\end{matrix}\\right] & \\left[\\begin{matrix}0 & \\left[\\begin{matrix}1 & 1\\\\1 & 1\\\\1 & 1\\end{matrix}\\right]\\\\0 & 0\\\\0 & 0\\end{matrix}\\right]\\\\\\left[\\begin{matrix}0 & 0\\\\\\left[\\begin{matrix}1 & 1\\\\1 & 1\\\\1 & 1\\end{matrix}\\right] & 0\\\\0 & 0\\end{matrix}\\right] & \\left[\\begin{matrix}0 & 0\\\\0 & \\left[\\begin{matrix}1 & 1\\\\1 & 1\\\\1 & 1\\end{matrix}\\right]\\\\0 & 0\\end{matrix}\\right]\\\\\\left[\\begin{matrix}0 & 0\\\\0 & 0\\\\\\left[\\begin{matrix}1 & 1\\\\1 & 1\\\\1 & 1\\end{matrix}\\right] & 0\\end{matrix}\\right] & \\left[\\begin{matrix}0 & 0\\\\0 & 0\\\\0 & \\left[\\begin{matrix}1 & 1\\\\1 & 1\\\\1 & 1\\end{matrix}\\right]\\end{matrix}\\right]\\end{matrix}\\right]$"
      ],
      "text/plain": [
       "Matrix([\n",
       "[Matrix([\n",
       "[Matrix([\n",
       "[1, 1],\n",
       "[1, 1],\n",
       "[1, 1]]), 0],\n",
       "[                                0, 0],\n",
       "[                                0, 0]]), Matrix([\n",
       "[0, Matrix([\n",
       "[1, 1],\n",
       "[1, 1],\n",
       "[1, 1]])],\n",
       "[0,                                 0],\n",
       "[0,                                 0]])],\n",
       "[Matrix([\n",
       "[                                0, 0],\n",
       "[Matrix([\n",
       "[1, 1],\n",
       "[1, 1],\n",
       "[1, 1]]), 0],\n",
       "[                                0, 0]]), Matrix([\n",
       "[0,                                 0],\n",
       "[0, Matrix([\n",
       "[1, 1],\n",
       "[1, 1],\n",
       "[1, 1]])],\n",
       "[0,                                 0]])],\n",
       "[Matrix([\n",
       "[                                0, 0],\n",
       "[                                0, 0],\n",
       "[Matrix([\n",
       "[1, 1],\n",
       "[1, 1],\n",
       "[1, 1]]), 0]]), Matrix([\n",
       "[0,                                 0],\n",
       "[0,                                 0],\n",
       "[0, Matrix([\n",
       "[1, 1],\n",
       "[1, 1],\n",
       "[1, 1]])]])]])"
      ]
     },
     "execution_count": 1,
     "metadata": {},
     "output_type": "execute_result"
    }
   ],
   "source": [
    "# THIS SEEMS WRONG : ??? how to tell for sure?\n",
    "lambd(Selem).diff(Selem).replace(lambd, lambd_L).doit()"
   ]
  },
  {
   "cell_type": "code",
   "execution_count": 64,
   "metadata": {
    "execution": {
     "iopub.execute_input": "2020-10-04T18:38:37.168368Z",
     "iopub.status.busy": "2020-10-04T18:38:37.162880Z",
     "iopub.status.idle": "2020-10-04T18:38:37.227817Z",
     "shell.execute_reply": "2020-10-04T18:38:37.229414Z"
    },
    "lines_to_next_cell": 0,
    "title": "codecell"
   },
   "outputs": [
    {
     "data": {
      "text/latex": [
       "$\\displaystyle \\left[\\begin{matrix}1 & 1\\\\1 & 1\\\\1 & 1\\end{matrix}\\right]$"
      ],
      "text/plain": [
       "Matrix([\n",
       "[1, 1],\n",
       "[1, 1],\n",
       "[1, 1]])"
      ]
     },
     "execution_count": 1,
     "metadata": {},
     "output_type": "execute_result"
    }
   ],
   "source": [
    "# THis seems right:\n",
    "dL_dS = lambd(Selem).replace(lambd, lambd_L).diff(Selem)\n",
    "dL_dS"
   ]
  },
  {
   "cell_type": "code",
   "execution_count": 65,
   "metadata": {
    "execution": {
     "iopub.execute_input": "2020-10-04T18:38:37.234249Z",
     "iopub.status.busy": "2020-10-04T18:38:37.233296Z",
     "iopub.status.idle": "2020-10-04T18:38:37.254960Z",
     "shell.execute_reply": "2020-10-04T18:38:37.256547Z"
    },
    "lines_to_next_cell": 0,
    "title": "codecell"
   },
   "outputs": [
    {
     "data": {
      "text/latex": [
       "$\\displaystyle \\lambda{\\left(\\left[\\begin{matrix}\\sigma{\\left(n_{11} \\right)} & \\sigma{\\left(n_{12} \\right)}\\\\\\sigma{\\left(n_{21} \\right)} & \\sigma{\\left(n_{22} \\right)}\\\\\\sigma{\\left(n_{31} \\right)} & \\sigma{\\left(n_{32} \\right)}\\end{matrix}\\right] \\right)}$"
      ],
      "text/plain": [
       "lambda(Matrix([\n",
       "[sigma(n_11), sigma(n_12)],\n",
       "[sigma(n_21), sigma(n_22)],\n",
       "[sigma(n_31), sigma(n_32)]]))"
      ]
     },
     "execution_count": 1,
     "metadata": {},
     "output_type": "execute_result"
    }
   ],
   "source": [
    "lambd(Selem)"
   ]
  },
  {
   "cell_type": "code",
   "execution_count": 66,
   "metadata": {
    "execution": {
     "iopub.execute_input": "2020-10-04T18:38:37.265466Z",
     "iopub.status.busy": "2020-10-04T18:38:37.264530Z",
     "iopub.status.idle": "2020-10-04T18:38:37.405486Z",
     "shell.execute_reply": "2020-10-04T18:38:37.411022Z"
    },
    "lines_to_next_cell": 0,
    "title": "codecell"
   },
   "outputs": [
    {
     "data": {
      "text/latex": [
       "$\\displaystyle X^{T} \\left[\\begin{matrix}\\frac{d}{d n_{11}} \\sigma{\\left(n_{11} \\right)} & \\frac{d}{d n_{12}} \\sigma{\\left(n_{12} \\right)}\\\\\\frac{d}{d n_{21}} \\sigma{\\left(n_{21} \\right)} & \\frac{d}{d n_{22}} \\sigma{\\left(n_{22} \\right)}\\\\\\frac{d}{d n_{31}} \\sigma{\\left(n_{31} \\right)} & \\frac{d}{d n_{32}} \\sigma{\\left(n_{32} \\right)}\\end{matrix}\\right]$"
      ],
      "text/plain": [
       "X.T*Matrix([\n",
       "[Derivative(sigma(n_11), n_11), Derivative(sigma(n_12), n_12)],\n",
       "[Derivative(sigma(n_21), n_21), Derivative(sigma(n_22), n_22)],\n",
       "[Derivative(sigma(n_31), n_31), Derivative(sigma(n_32), n_32)]])"
      ]
     },
     "execution_count": 1,
     "metadata": {},
     "output_type": "execute_result"
    }
   ],
   "source": [
    "# This is the X^T * dS/dN part\n",
    "compose(sigmaApply, n)(A,B).replace(n, v).replace(sigmaApply, sigmaApply_).diff(B).subs({A*B : vN(A,B)}).doit()"
   ]
  },
  {
   "cell_type": "code",
   "execution_count": 67,
   "metadata": {
    "execution": {
     "iopub.execute_input": "2020-10-04T18:38:37.420368Z",
     "iopub.status.busy": "2020-10-04T18:38:37.414618Z",
     "iopub.status.idle": "2020-10-04T18:38:37.446153Z",
     "shell.execute_reply": "2020-10-04T18:38:37.447273Z"
    },
    "lines_to_next_cell": 0,
    "title": "codecell"
   },
   "outputs": [
    {
     "data": {
      "text/latex": [
       "$\\displaystyle \\left[\\begin{array}{cc}N_{0, 0} & N_{0, 1}\\\\N_{1, 0} & N_{1, 1}\\\\N_{2, 0} & N_{2, 1}\\end{array}\\right]$"
      ],
      "text/plain": [
       "Matrix([\n",
       "[N[0, 0], N[0, 1]],\n",
       "[N[1, 0], N[1, 1]],\n",
       "[N[2, 0], N[2, 1]]])"
      ]
     },
     "execution_count": 1,
     "metadata": {},
     "output_type": "execute_result"
    }
   ],
   "source": [
    "N = MatrixSymbol(\"N\", A.shape[0], B.shape[1])\n",
    "Matrix(N)"
   ]
  },
  {
   "cell_type": "code",
   "execution_count": 68,
   "metadata": {
    "execution": {
     "iopub.execute_input": "2020-10-04T18:38:37.452445Z",
     "iopub.status.busy": "2020-10-04T18:38:37.450963Z",
     "iopub.status.idle": "2020-10-04T18:38:37.557578Z",
     "shell.execute_reply": "2020-10-04T18:38:37.558688Z"
    },
    "title": "codecell"
   },
   "outputs": [
    {
     "data": {
      "text/latex": [
       "$\\displaystyle \\left[\\begin{matrix}\\frac{d}{d n_{11}} \\sigma{\\left(n_{11} \\right)} & \\frac{d}{d n_{12}} \\sigma{\\left(n_{12} \\right)}\\\\\\frac{d}{d n_{21}} \\sigma{\\left(n_{21} \\right)} & \\frac{d}{d n_{22}} \\sigma{\\left(n_{22} \\right)}\\\\\\frac{d}{d n_{31}} \\sigma{\\left(n_{31} \\right)} & \\frac{d}{d n_{32}} \\sigma{\\left(n_{32} \\right)}\\end{matrix}\\right]$"
      ],
      "text/plain": [
       "Matrix([\n",
       "[Derivative(sigma(n_11), n_11), Derivative(sigma(n_12), n_12)],\n",
       "[Derivative(sigma(n_21), n_21), Derivative(sigma(n_22), n_22)],\n",
       "[Derivative(sigma(n_31), n_31), Derivative(sigma(n_32), n_32)]])"
      ]
     },
     "execution_count": 1,
     "metadata": {},
     "output_type": "execute_result"
    }
   ],
   "source": [
    "dS_dN = compose(sigmaApply)(N).replace(sigmaApply, sigmaApply_).diff(N).subs({N : vN(A,B)}).doit()\n",
    "# WRONG:\n",
    "#dS_dN = sigmaApply(Nelem).replace(sigmaApply, sigmaApply_).diff(Matrix(Nelem))\n",
    "dS_dN"
   ]
  },
  {
   "cell_type": "code",
   "execution_count": 69,
   "metadata": {
    "execution": {
     "iopub.execute_input": "2020-10-04T18:38:37.566517Z",
     "iopub.status.busy": "2020-10-04T18:38:37.564169Z",
     "iopub.status.idle": "2020-10-04T18:38:38.134550Z",
     "shell.execute_reply": "2020-10-04T18:38:38.135772Z"
    },
    "lines_to_next_cell": 0,
    "title": "codecell"
   },
   "outputs": [
    {
     "data": {
      "text/latex": [
       "$\\displaystyle \\left[\\begin{matrix}x_{11} \\frac{d}{d n_{11}} \\sigma{\\left(n_{11} \\right)} + x_{21} \\frac{d}{d n_{21}} \\sigma{\\left(n_{21} \\right)} + x_{31} \\frac{d}{d n_{31}} \\sigma{\\left(n_{31} \\right)} & x_{11} \\frac{d}{d n_{12}} \\sigma{\\left(n_{12} \\right)} + x_{21} \\frac{d}{d n_{22}} \\sigma{\\left(n_{22} \\right)} + x_{31} \\frac{d}{d n_{32}} \\sigma{\\left(n_{32} \\right)}\\\\x_{12} \\frac{d}{d n_{11}} \\sigma{\\left(n_{11} \\right)} + x_{22} \\frac{d}{d n_{21}} \\sigma{\\left(n_{21} \\right)} + x_{32} \\frac{d}{d n_{31}} \\sigma{\\left(n_{31} \\right)} & x_{12} \\frac{d}{d n_{12}} \\sigma{\\left(n_{12} \\right)} + x_{22} \\frac{d}{d n_{22}} \\sigma{\\left(n_{22} \\right)} + x_{32} \\frac{d}{d n_{32}} \\sigma{\\left(n_{32} \\right)}\\\\x_{13} \\frac{d}{d n_{11}} \\sigma{\\left(n_{11} \\right)} + x_{23} \\frac{d}{d n_{21}} \\sigma{\\left(n_{21} \\right)} + x_{33} \\frac{d}{d n_{31}} \\sigma{\\left(n_{31} \\right)} & x_{13} \\frac{d}{d n_{12}} \\sigma{\\left(n_{12} \\right)} + x_{23} \\frac{d}{d n_{22}} \\sigma{\\left(n_{22} \\right)} + x_{33} \\frac{d}{d n_{32}} \\sigma{\\left(n_{32} \\right)}\\end{matrix}\\right]$"
      ],
      "text/plain": [
       "Matrix([\n",
       "[x_11*Derivative(sigma(n_11), n_11) + x_21*Derivative(sigma(n_21), n_21) + x_31*Derivative(sigma(n_31), n_31), x_11*Derivative(sigma(n_12), n_12) + x_21*Derivative(sigma(n_22), n_22) + x_31*Derivative(sigma(n_32), n_32)],\n",
       "[x_12*Derivative(sigma(n_11), n_11) + x_22*Derivative(sigma(n_21), n_21) + x_32*Derivative(sigma(n_31), n_31), x_12*Derivative(sigma(n_12), n_12) + x_22*Derivative(sigma(n_22), n_22) + x_32*Derivative(sigma(n_32), n_32)],\n",
       "[x_13*Derivative(sigma(n_11), n_11) + x_23*Derivative(sigma(n_21), n_21) + x_33*Derivative(sigma(n_31), n_31), x_13*Derivative(sigma(n_12), n_12) + x_23*Derivative(sigma(n_22), n_22) + x_33*Derivative(sigma(n_32), n_32)]])"
      ]
     },
     "execution_count": 1,
     "metadata": {},
     "output_type": "execute_result"
    }
   ],
   "source": [
    "from sympy.physics.quantum import TensorProduct\n",
    "\n",
    "#TensorProduct( X.T, dS_dN)\n",
    "\n",
    "\n",
    "dN_dW = X.T\n",
    "dS_dW = dN_dW * dS_dN\n",
    "dS_dW\n",
    "#HadamardProduct(X.T, dS_dN)"
   ]
  },
  {
   "cell_type": "code",
   "execution_count": 70,
   "metadata": {
    "execution": {
     "iopub.execute_input": "2020-10-04T18:38:38.144240Z",
     "iopub.status.busy": "2020-10-04T18:38:38.142510Z",
     "iopub.status.idle": "2020-10-04T18:38:38.227083Z",
     "shell.execute_reply": "2020-10-04T18:38:38.231976Z"
    },
    "lines_to_next_cell": 0,
    "title": "codecell"
   },
   "outputs": [
    {
     "data": {
      "text/latex": [
       "$\\displaystyle \\left[\\begin{matrix}x_{11} \\frac{d}{d n_{11}} \\sigma{\\left(n_{11} \\right)} + x_{21} \\frac{d}{d n_{21}} \\sigma{\\left(n_{21} \\right)} + x_{31} \\frac{d}{d n_{31}} \\sigma{\\left(n_{31} \\right)} & x_{11} \\frac{d}{d n_{12}} \\sigma{\\left(n_{12} \\right)} + x_{21} \\frac{d}{d n_{22}} \\sigma{\\left(n_{22} \\right)} + x_{31} \\frac{d}{d n_{32}} \\sigma{\\left(n_{32} \\right)}\\\\x_{12} \\frac{d}{d n_{11}} \\sigma{\\left(n_{11} \\right)} + x_{22} \\frac{d}{d n_{21}} \\sigma{\\left(n_{21} \\right)} + x_{32} \\frac{d}{d n_{31}} \\sigma{\\left(n_{31} \\right)} & x_{12} \\frac{d}{d n_{12}} \\sigma{\\left(n_{12} \\right)} + x_{22} \\frac{d}{d n_{22}} \\sigma{\\left(n_{22} \\right)} + x_{32} \\frac{d}{d n_{32}} \\sigma{\\left(n_{32} \\right)}\\\\x_{13} \\frac{d}{d n_{11}} \\sigma{\\left(n_{11} \\right)} + x_{23} \\frac{d}{d n_{21}} \\sigma{\\left(n_{21} \\right)} + x_{33} \\frac{d}{d n_{31}} \\sigma{\\left(n_{31} \\right)} & x_{13} \\frac{d}{d n_{12}} \\sigma{\\left(n_{12} \\right)} + x_{23} \\frac{d}{d n_{22}} \\sigma{\\left(n_{22} \\right)} + x_{33} \\frac{d}{d n_{32}} \\sigma{\\left(n_{32} \\right)}\\end{matrix}\\right] \\circ \\left[\\begin{matrix}1 & 1\\\\1 & 1\\\\1 & 1\\end{matrix}\\right]$"
      ],
      "text/plain": [
       "HadamardProduct(Matrix([\n",
       "[x_11*Derivative(sigma(n_11), n_11) + x_21*Derivative(sigma(n_21), n_21) + x_31*Derivative(sigma(n_31), n_31), x_11*Derivative(sigma(n_12), n_12) + x_21*Derivative(sigma(n_22), n_22) + x_31*Derivative(sigma(n_32), n_32)],\n",
       "[x_12*Derivative(sigma(n_11), n_11) + x_22*Derivative(sigma(n_21), n_21) + x_32*Derivative(sigma(n_31), n_31), x_12*Derivative(sigma(n_12), n_12) + x_22*Derivative(sigma(n_22), n_22) + x_32*Derivative(sigma(n_32), n_32)],\n",
       "[x_13*Derivative(sigma(n_11), n_11) + x_23*Derivative(sigma(n_21), n_21) + x_33*Derivative(sigma(n_31), n_31), x_13*Derivative(sigma(n_12), n_12) + x_23*Derivative(sigma(n_22), n_22) + x_33*Derivative(sigma(n_32), n_32)]]), Matrix([\n",
       "[1, 1],\n",
       "[1, 1],\n",
       "[1, 1]]))"
      ]
     },
     "execution_count": 1,
     "metadata": {},
     "output_type": "execute_result"
    }
   ],
   "source": [
    "from sympy import HadamardProduct\n",
    "\n",
    "dL_dW = HadamardProduct(dS_dW , dL_dS)\n",
    "dL_dW"
   ]
  },
  {
   "cell_type": "markdown",
   "execution_count": 71,
   "metadata": {
    "lines_to_next_cell": 0,
    "title": "markdown"
   },
   "source": [
    "One more time as complete symbolic form:\n",
    "$$\n",
    "\\begin{aligned}\n",
    "\\frac{\\partial L}{\\partial W} &= \\frac{\\partial N}{\\partial W} \\times \\frac{\\partial S}{\\partial N} \\odot \\frac{\\partial L}{\\partial S} \\\\\n",
    "&= X^T \\times  \\frac{\\partial S}{\\partial N} \\odot \\frac{\\partial L}{\\partial S}\n",
    "\\end{aligned}\n",
    "$$\n",
    "where $\\odot$ signifies the Hadamard product and $\\times$ is matrix multiplication."
   ]
  },
  {
   "cell_type": "code",
   "execution_count": 71,
   "metadata": {
    "execution": {
     "iopub.execute_input": "2020-10-04T18:38:38.242889Z",
     "iopub.status.busy": "2020-10-04T18:38:38.239974Z",
     "iopub.status.idle": "2020-10-04T18:38:38.396806Z",
     "shell.execute_reply": "2020-10-04T18:38:38.398665Z"
    },
    "lines_to_next_cell": 0,
    "title": "codecell"
   },
   "outputs": [
    {
     "data": {
      "text/latex": [
       "$\\displaystyle \\left[\\begin{matrix}x_{11} \\frac{d}{d n_{11}} \\sigma{\\left(n_{11} \\right)} + x_{21} \\frac{d}{d n_{21}} \\sigma{\\left(n_{21} \\right)} + x_{31} \\frac{d}{d n_{31}} \\sigma{\\left(n_{31} \\right)} & x_{11} \\frac{d}{d n_{12}} \\sigma{\\left(n_{12} \\right)} + x_{21} \\frac{d}{d n_{22}} \\sigma{\\left(n_{22} \\right)} + x_{31} \\frac{d}{d n_{32}} \\sigma{\\left(n_{32} \\right)}\\\\x_{12} \\frac{d}{d n_{11}} \\sigma{\\left(n_{11} \\right)} + x_{22} \\frac{d}{d n_{21}} \\sigma{\\left(n_{21} \\right)} + x_{32} \\frac{d}{d n_{31}} \\sigma{\\left(n_{31} \\right)} & x_{12} \\frac{d}{d n_{12}} \\sigma{\\left(n_{12} \\right)} + x_{22} \\frac{d}{d n_{22}} \\sigma{\\left(n_{22} \\right)} + x_{32} \\frac{d}{d n_{32}} \\sigma{\\left(n_{32} \\right)}\\\\x_{13} \\frac{d}{d n_{11}} \\sigma{\\left(n_{11} \\right)} + x_{23} \\frac{d}{d n_{21}} \\sigma{\\left(n_{21} \\right)} + x_{33} \\frac{d}{d n_{31}} \\sigma{\\left(n_{31} \\right)} & x_{13} \\frac{d}{d n_{12}} \\sigma{\\left(n_{12} \\right)} + x_{23} \\frac{d}{d n_{22}} \\sigma{\\left(n_{22} \\right)} + x_{33} \\frac{d}{d n_{32}} \\sigma{\\left(n_{32} \\right)}\\end{matrix}\\right] \\circ \\left[\\begin{matrix}1 & 1\\\\1 & 1\\\\1 & 1\\end{matrix}\\right]$"
      ],
      "text/plain": [
       "HadamardProduct(Matrix([\n",
       "[x_11*Derivative(sigma(n_11), n_11) + x_21*Derivative(sigma(n_21), n_21) + x_31*Derivative(sigma(n_31), n_31), x_11*Derivative(sigma(n_12), n_12) + x_21*Derivative(sigma(n_22), n_22) + x_31*Derivative(sigma(n_32), n_32)],\n",
       "[x_12*Derivative(sigma(n_11), n_11) + x_22*Derivative(sigma(n_21), n_21) + x_32*Derivative(sigma(n_31), n_31), x_12*Derivative(sigma(n_12), n_12) + x_22*Derivative(sigma(n_22), n_22) + x_32*Derivative(sigma(n_32), n_32)],\n",
       "[x_13*Derivative(sigma(n_11), n_11) + x_23*Derivative(sigma(n_21), n_21) + x_33*Derivative(sigma(n_31), n_31), x_13*Derivative(sigma(n_12), n_12) + x_23*Derivative(sigma(n_22), n_22) + x_33*Derivative(sigma(n_32), n_32)]]), Matrix([\n",
       "[1, 1],\n",
       "[1, 1],\n",
       "[1, 1]]))"
      ]
     },
     "execution_count": 1,
     "metadata": {},
     "output_type": "execute_result"
    }
   ],
   "source": [
    "HadamardProduct(dN_dW * dS_dN, dL_dS)"
   ]
  },
  {
   "cell_type": "code",
   "execution_count": 72,
   "metadata": {
    "execution": {
     "iopub.execute_input": "2020-10-04T18:38:38.416982Z",
     "iopub.status.busy": "2020-10-04T18:38:38.411132Z",
     "iopub.status.idle": "2020-10-04T18:38:38.649728Z",
     "shell.execute_reply": "2020-10-04T18:38:38.651528Z"
    },
    "lines_to_next_cell": 0,
    "title": "codecell"
   },
   "outputs": [
    {
     "data": {
      "text/latex": [
       "$\\displaystyle \\left[\\begin{matrix}x_{11} \\frac{d}{d n_{11}} \\sigma{\\left(n_{11} \\right)} + x_{21} \\frac{d}{d n_{21}} \\sigma{\\left(n_{21} \\right)} + x_{31} \\frac{d}{d n_{31}} \\sigma{\\left(n_{31} \\right)} & x_{11} \\frac{d}{d n_{12}} \\sigma{\\left(n_{12} \\right)} + x_{21} \\frac{d}{d n_{22}} \\sigma{\\left(n_{22} \\right)} + x_{31} \\frac{d}{d n_{32}} \\sigma{\\left(n_{32} \\right)}\\\\x_{12} \\frac{d}{d n_{11}} \\sigma{\\left(n_{11} \\right)} + x_{22} \\frac{d}{d n_{21}} \\sigma{\\left(n_{21} \\right)} + x_{32} \\frac{d}{d n_{31}} \\sigma{\\left(n_{31} \\right)} & x_{12} \\frac{d}{d n_{12}} \\sigma{\\left(n_{12} \\right)} + x_{22} \\frac{d}{d n_{22}} \\sigma{\\left(n_{22} \\right)} + x_{32} \\frac{d}{d n_{32}} \\sigma{\\left(n_{32} \\right)}\\\\x_{13} \\frac{d}{d n_{11}} \\sigma{\\left(n_{11} \\right)} + x_{23} \\frac{d}{d n_{21}} \\sigma{\\left(n_{21} \\right)} + x_{33} \\frac{d}{d n_{31}} \\sigma{\\left(n_{31} \\right)} & x_{13} \\frac{d}{d n_{12}} \\sigma{\\left(n_{12} \\right)} + x_{23} \\frac{d}{d n_{22}} \\sigma{\\left(n_{22} \\right)} + x_{33} \\frac{d}{d n_{32}} \\sigma{\\left(n_{32} \\right)}\\end{matrix}\\right]$"
      ],
      "text/plain": [
       "Matrix([\n",
       "[x_11*Derivative(sigma(n_11), n_11) + x_21*Derivative(sigma(n_21), n_21) + x_31*Derivative(sigma(n_31), n_31), x_11*Derivative(sigma(n_12), n_12) + x_21*Derivative(sigma(n_22), n_22) + x_31*Derivative(sigma(n_32), n_32)],\n",
       "[x_12*Derivative(sigma(n_11), n_11) + x_22*Derivative(sigma(n_21), n_21) + x_32*Derivative(sigma(n_31), n_31), x_12*Derivative(sigma(n_12), n_12) + x_22*Derivative(sigma(n_22), n_22) + x_32*Derivative(sigma(n_32), n_32)],\n",
       "[x_13*Derivative(sigma(n_11), n_11) + x_23*Derivative(sigma(n_21), n_21) + x_33*Derivative(sigma(n_31), n_31), x_13*Derivative(sigma(n_12), n_12) + x_23*Derivative(sigma(n_22), n_22) + x_33*Derivative(sigma(n_32), n_32)]])"
      ]
     },
     "execution_count": 1,
     "metadata": {},
     "output_type": "execute_result"
    }
   ],
   "source": [
    "direct"
   ]
  },
  {
   "cell_type": "code",
   "execution_count": 73,
   "metadata": {
    "execution": {
     "iopub.execute_input": "2020-10-04T18:38:38.669687Z",
     "iopub.status.busy": "2020-10-04T18:38:38.659385Z",
     "iopub.status.idle": "2020-10-04T18:38:38.699450Z",
     "shell.execute_reply": "2020-10-04T18:38:38.706750Z"
    },
    "lines_to_next_cell": 0,
    "title": "codecell"
   },
   "outputs": [],
   "source": [
    "assert HadamardProduct(dN_dW * dS_dN, dL_dS).equals(direct)"
   ]
  },
  {
   "cell_type": "code",
   "execution_count": 74,
   "metadata": {
    "execution": {
     "iopub.execute_input": "2020-10-04T18:38:38.734812Z",
     "iopub.status.busy": "2020-10-04T18:38:38.733274Z",
     "iopub.status.idle": "2020-10-04T18:38:39.194340Z",
     "shell.execute_reply": "2020-10-04T18:38:39.196677Z"
    },
    "lines_to_next_cell": 0,
    "title": "codecell"
   },
   "outputs": [
    {
     "data": {
      "text/latex": [
       "$\\displaystyle \\left. \\frac{d}{d \\xi_{1}} \\left(\\xi_{1}_{0, 0} + \\xi_{1}_{0, 1} + \\xi_{1}_{1, 0} + \\xi_{1}_{1, 1} + \\xi_{1}_{2, 0} + \\xi_{1}_{2, 1}\\right) \\right|_{\\substack{ \\xi_{1}={\\left( d \\mapsto \\sigma{\\left(d \\right)} \\right)}_{\\circ}\\left({\\left[\\begin{matrix}n_{11} & n_{12}\\\\n_{21} & n_{22}\\\\n_{31} & n_{32}\\end{matrix}\\right]}\\right) }} \\left[\\begin{matrix}x_{11} \\frac{d}{d n_{11}} \\sigma{\\left(n_{11} \\right)} + x_{21} \\frac{d}{d n_{21}} \\sigma{\\left(n_{21} \\right)} + x_{31} \\frac{d}{d n_{31}} \\sigma{\\left(n_{31} \\right)} & x_{11} \\frac{d}{d n_{12}} \\sigma{\\left(n_{12} \\right)} + x_{21} \\frac{d}{d n_{22}} \\sigma{\\left(n_{22} \\right)} + x_{31} \\frac{d}{d n_{32}} \\sigma{\\left(n_{32} \\right)}\\\\x_{12} \\frac{d}{d n_{11}} \\sigma{\\left(n_{11} \\right)} + x_{22} \\frac{d}{d n_{21}} \\sigma{\\left(n_{21} \\right)} + x_{32} \\frac{d}{d n_{31}} \\sigma{\\left(n_{31} \\right)} & x_{12} \\frac{d}{d n_{12}} \\sigma{\\left(n_{12} \\right)} + x_{22} \\frac{d}{d n_{22}} \\sigma{\\left(n_{22} \\right)} + x_{32} \\frac{d}{d n_{32}} \\sigma{\\left(n_{32} \\right)}\\\\x_{13} \\frac{d}{d n_{11}} \\sigma{\\left(n_{11} \\right)} + x_{23} \\frac{d}{d n_{21}} \\sigma{\\left(n_{21} \\right)} + x_{33} \\frac{d}{d n_{31}} \\sigma{\\left(n_{31} \\right)} & x_{13} \\frac{d}{d n_{12}} \\sigma{\\left(n_{12} \\right)} + x_{23} \\frac{d}{d n_{22}} \\sigma{\\left(n_{22} \\right)} + x_{33} \\frac{d}{d n_{32}} \\sigma{\\left(n_{32} \\right)}\\end{matrix}\\right]$"
      ],
      "text/plain": [
       "Subs(Derivative(_xi_1[0, 0] + _xi_1[0, 1] + _xi_1[1, 0] + _xi_1[1, 1] + _xi_1[2, 0] + _xi_1[2, 1], _xi_1), _xi_1, Lambda(_d, sigma(_d)).(Matrix([\n",
       "[n_11, n_12],\n",
       "[n_21, n_22],\n",
       "[n_31, n_32]])))*Matrix([\n",
       "[x_11*Derivative(sigma(n_11), n_11) + x_21*Derivative(sigma(n_21), n_21) + x_31*Derivative(sigma(n_31), n_31), x_11*Derivative(sigma(n_12), n_12) + x_21*Derivative(sigma(n_22), n_22) + x_31*Derivative(sigma(n_32), n_32)],\n",
       "[x_12*Derivative(sigma(n_11), n_11) + x_22*Derivative(sigma(n_21), n_21) + x_32*Derivative(sigma(n_31), n_31), x_12*Derivative(sigma(n_12), n_12) + x_22*Derivative(sigma(n_22), n_22) + x_32*Derivative(sigma(n_32), n_32)],\n",
       "[x_13*Derivative(sigma(n_11), n_11) + x_23*Derivative(sigma(n_21), n_21) + x_33*Derivative(sigma(n_31), n_31), x_13*Derivative(sigma(n_12), n_12) + x_23*Derivative(sigma(n_22), n_22) + x_33*Derivative(sigma(n_32), n_32)]])"
      ]
     },
     "execution_count": 1,
     "metadata": {},
     "output_type": "execute_result"
    }
   ],
   "source": [
    "# too long to see in editor:\n",
    "symb.subs({A*B : vN(A,B)}).subs({A:X}).doit().replace(lambd, lambd_L)"
   ]
  },
  {
   "cell_type": "code",
   "execution_count": 75,
   "metadata": {
    "execution": {
     "iopub.execute_input": "2020-10-04T18:38:39.216302Z",
     "iopub.status.busy": "2020-10-04T18:38:39.207795Z",
     "iopub.status.idle": "2020-10-04T18:38:39.328867Z",
     "shell.execute_reply": "2020-10-04T18:38:39.334098Z"
    },
    "lines_to_next_cell": 0,
    "title": "codecell"
   },
   "outputs": [
    {
     "data": {
      "text/latex": [
       "$\\displaystyle \\left. \\frac{d}{d \\xi_{1}} \\left(\\xi_{1}_{0, 0} + \\xi_{1}_{0, 1} + \\xi_{1}_{1, 0} + \\xi_{1}_{1, 1} + \\xi_{1}_{2, 0} + \\xi_{1}_{2, 1}\\right) \\right|_{\\substack{ \\xi_{1}={\\left( d \\mapsto \\sigma{\\left(d \\right)} \\right)}_{\\circ}\\left({X W}\\right) }} X^{T} {\\left( d \\mapsto \\frac{d}{d d} \\sigma{\\left(d \\right)} \\right)}_{\\circ}\\left({X W}\\right)$"
      ],
      "text/plain": [
       "Subs(Derivative(_xi_1[0, 0] + _xi_1[0, 1] + _xi_1[1, 0] + _xi_1[1, 1] + _xi_1[2, 0] + _xi_1[2, 1], _xi_1), _xi_1, Lambda(_d, sigma(_d)).(X*W))*X.T*Lambda(_d, Derivative(sigma(_d), _d)).(X*W)"
      ]
     },
     "execution_count": 1,
     "metadata": {},
     "output_type": "execute_result"
    }
   ],
   "source": [
    "symb.subs({lambd: lambd_L})"
   ]
  },
  {
   "cell_type": "code",
   "execution_count": 76,
   "metadata": {
    "execution": {
     "iopub.execute_input": "2020-10-04T18:38:39.360430Z",
     "iopub.status.busy": "2020-10-04T18:38:39.352574Z",
     "iopub.status.idle": "2020-10-04T18:38:39.385707Z",
     "shell.execute_reply": "2020-10-04T18:38:39.386986Z"
    },
    "lines_to_next_cell": 2,
    "title": "codecell"
   },
   "outputs": [
    {
     "name": "stdout",
     "output_type": "stream",
     "text": [
      "Subs(Derivative(_xi_1[0, 0] + _xi_1[0, 1] + _xi_1[1, 0] + _xi_1[1, 1] + _xi_1[2, 0] + _xi_1[2, 1], _xi_1), _xi_1, Lambda(_d, sigma(_d)).(X*W))*X.T*Lambda(_d, Derivative(sigma(_d), _d)).(X*W)\n"
     ]
    }
   ],
   "source": [
    "print(symb.subs({lambd: lambd_L}))"
   ]
  },
  {
   "cell_type": "code",
   "execution_count": 77,
   "metadata": {
    "execution": {
     "iopub.execute_input": "2020-10-04T18:38:39.399340Z",
     "iopub.status.busy": "2020-10-04T18:38:39.392331Z",
     "iopub.status.idle": "2020-10-04T18:38:39.437922Z",
     "shell.execute_reply": "2020-10-04T18:38:39.439198Z"
    },
    "lines_to_next_cell": 0,
    "title": "codecell"
   },
   "outputs": [
    {
     "data": {
      "text/latex": [
       "$\\displaystyle \\left(\\sigma_{apply}{\\left(\\nu{\\left(X,W \\right)} \\right)}\\right)_{0, 0} + \\left(\\sigma_{apply}{\\left(\\nu{\\left(X,W \\right)} \\right)}\\right)_{0, 1} + \\left(\\sigma_{apply}{\\left(\\nu{\\left(X,W \\right)} \\right)}\\right)_{1, 0} + \\left(\\sigma_{apply}{\\left(\\nu{\\left(X,W \\right)} \\right)}\\right)_{1, 1} + \\left(\\sigma_{apply}{\\left(\\nu{\\left(X,W \\right)} \\right)}\\right)_{2, 0} + \\left(\\sigma_{apply}{\\left(\\nu{\\left(X,W \\right)} \\right)}\\right)_{2, 1}$"
      ],
      "text/plain": [
       "(sigma_apply(nu(X, W)))[0, 0] + (sigma_apply(nu(X, W)))[0, 1] + (sigma_apply(nu(X, W)))[1, 0] + (sigma_apply(nu(X, W)))[1, 1] + (sigma_apply(nu(X, W)))[2, 0] + (sigma_apply(nu(X, W)))[2, 1]"
      ]
     },
     "execution_count": 1,
     "metadata": {},
     "output_type": "execute_result"
    }
   ],
   "source": [
    "LcL = compose(lambd_L, sigmaApply, n)(A, B)\n",
    "LcL"
   ]
  },
  {
   "cell_type": "code",
   "execution_count": 78,
   "metadata": {
    "execution": {
     "iopub.execute_input": "2020-10-04T18:38:39.451880Z",
     "iopub.status.busy": "2020-10-04T18:38:39.445967Z",
     "iopub.status.idle": "2020-10-04T18:38:39.571161Z",
     "shell.execute_reply": "2020-10-04T18:38:39.576587Z"
    },
    "lines_to_next_cell": 0,
    "title": "codecell"
   },
   "outputs": [
    {
     "data": {
      "text/latex": [
       "$\\displaystyle {\\left( d \\mapsto \\sigma{\\left(d \\right)} \\right)}_{\\circ}\\left({X W}\\right)_{0, 0} + {\\left( d \\mapsto \\sigma{\\left(d \\right)} \\right)}_{\\circ}\\left({X W}\\right)_{0, 1} + {\\left( d \\mapsto \\sigma{\\left(d \\right)} \\right)}_{\\circ}\\left({X W}\\right)_{1, 0} + {\\left( d \\mapsto \\sigma{\\left(d \\right)} \\right)}_{\\circ}\\left({X W}\\right)_{1, 1} + {\\left( d \\mapsto \\sigma{\\left(d \\right)} \\right)}_{\\circ}\\left({X W}\\right)_{2, 0} + {\\left( d \\mapsto \\sigma{\\left(d \\right)} \\right)}_{\\circ}\\left({X W}\\right)_{2, 1}$"
      ],
      "text/plain": [
       "Lambda(_d, sigma(_d)).(X*W)[0, 0] + Lambda(_d, sigma(_d)).(X*W)[0, 1] + Lambda(_d, sigma(_d)).(X*W)[1, 0] + Lambda(_d, sigma(_d)).(X*W)[1, 1] + Lambda(_d, sigma(_d)).(X*W)[2, 0] + Lambda(_d, sigma(_d)).(X*W)[2, 1]"
      ]
     },
     "execution_count": 1,
     "metadata": {},
     "output_type": "execute_result"
    }
   ],
   "source": [
    "symbL = LcL.replace(n, v).replace(sigmaApply, sigmaApply_)#.diff(A)\n",
    "symbL"
   ]
  },
  {
   "cell_type": "code",
   "execution_count": 79,
   "metadata": {
    "execution": {
     "iopub.execute_input": "2020-10-04T18:38:39.587227Z",
     "iopub.status.busy": "2020-10-04T18:38:39.585078Z",
     "iopub.status.idle": "2020-10-04T18:38:39.630042Z",
     "shell.execute_reply": "2020-10-04T18:38:39.631260Z"
    },
    "lines_to_next_cell": 0,
    "title": "codecell"
   },
   "outputs": [
    {
     "data": {
      "text/latex": [
       "$\\displaystyle \\left(\\sigma_{apply}{\\left(X W \\right)}\\right)_{0, 0} + \\left(\\sigma_{apply}{\\left(X W \\right)}\\right)_{0, 1} + \\left(\\sigma_{apply}{\\left(X W \\right)}\\right)_{1, 0} + \\left(\\sigma_{apply}{\\left(X W \\right)}\\right)_{1, 1} + \\left(\\sigma_{apply}{\\left(X W \\right)}\\right)_{2, 0} + \\left(\\sigma_{apply}{\\left(X W \\right)}\\right)_{2, 1}$"
      ],
      "text/plain": [
       "(sigma_apply(X*W))[0, 0] + (sigma_apply(X*W))[0, 1] + (sigma_apply(X*W))[1, 0] + (sigma_apply(X*W))[1, 1] + (sigma_apply(X*W))[2, 0] + (sigma_apply(X*W))[2, 1]"
      ]
     },
     "execution_count": 1,
     "metadata": {},
     "output_type": "execute_result"
    }
   ],
   "source": [
    "compose(lambd, sigmaApply, n)(A,B).replace(n,v).subs({lambd:lambd_L})#.subs({sigmaApply : sigmaApply_L})"
   ]
  },
  {
   "cell_type": "code",
   "execution_count": 80,
   "metadata": {
    "execution": {
     "iopub.execute_input": "2020-10-04T18:38:39.644640Z",
     "iopub.status.busy": "2020-10-04T18:38:39.637444Z",
     "iopub.status.idle": "2020-10-04T18:38:39.692738Z",
     "shell.execute_reply": "2020-10-04T18:38:39.697220Z"
    },
    "lines_to_next_cell": 0,
    "title": "codecell"
   },
   "outputs": [
    {
     "data": {
      "text/latex": [
       "$\\displaystyle {\\left( d \\mapsto \\sigma{\\left(d \\right)} \\right)}_{\\circ}\\left({X W}\\right)_{0, 0} + {\\left( d \\mapsto \\sigma{\\left(d \\right)} \\right)}_{\\circ}\\left({X W}\\right)_{0, 1} + {\\left( d \\mapsto \\sigma{\\left(d \\right)} \\right)}_{\\circ}\\left({X W}\\right)_{1, 0} + {\\left( d \\mapsto \\sigma{\\left(d \\right)} \\right)}_{\\circ}\\left({X W}\\right)_{1, 1} + {\\left( d \\mapsto \\sigma{\\left(d \\right)} \\right)}_{\\circ}\\left({X W}\\right)_{2, 0} + {\\left( d \\mapsto \\sigma{\\left(d \\right)} \\right)}_{\\circ}\\left({X W}\\right)_{2, 1}$"
      ],
      "text/plain": [
       "Lambda(_d, sigma(_d)).(X*W)[0, 0] + Lambda(_d, sigma(_d)).(X*W)[0, 1] + Lambda(_d, sigma(_d)).(X*W)[1, 0] + Lambda(_d, sigma(_d)).(X*W)[1, 1] + Lambda(_d, sigma(_d)).(X*W)[2, 0] + Lambda(_d, sigma(_d)).(X*W)[2, 1]"
      ]
     },
     "execution_count": 1,
     "metadata": {},
     "output_type": "execute_result"
    }
   ],
   "source": [
    "compose(lambd, sigmaApply, n)(A,B).replace(n,v).replace(sigmaApply, sigmaApply_).replace(lambd, lambd_L)"
   ]
  },
  {
   "cell_type": "code",
   "execution_count": 81,
   "metadata": {
    "execution": {
     "iopub.execute_input": "2020-10-04T18:38:39.716489Z",
     "iopub.status.busy": "2020-10-04T18:38:39.705268Z",
     "iopub.status.idle": "2020-10-04T18:38:40.341802Z",
     "shell.execute_reply": "2020-10-04T18:38:40.343026Z"
    },
    "lines_to_next_cell": 0,
    "title": "codecell"
   },
   "outputs": [
    {
     "data": {
      "text/latex": [
       "$\\displaystyle \\sigma{\\left(W_{0, 0} X_{0, 0} + W_{1, 0} X_{0, 1} + W_{2, 0} X_{0, 2} \\right)} + \\sigma{\\left(W_{0, 0} X_{1, 0} + W_{1, 0} X_{1, 1} + W_{2, 0} X_{1, 2} \\right)} + \\sigma{\\left(W_{0, 0} X_{2, 0} + W_{1, 0} X_{2, 1} + W_{2, 0} X_{2, 2} \\right)} + \\sigma{\\left(W_{0, 1} X_{0, 0} + W_{1, 1} X_{0, 1} + W_{2, 1} X_{0, 2} \\right)} + \\sigma{\\left(W_{0, 1} X_{1, 0} + W_{1, 1} X_{1, 1} + W_{2, 1} X_{1, 2} \\right)} + \\sigma{\\left(W_{0, 1} X_{2, 0} + W_{1, 1} X_{2, 1} + W_{2, 1} X_{2, 2} \\right)}$"
      ],
      "text/plain": [
       "sigma(W[0, 0]*X[0, 0] + W[1, 0]*X[0, 1] + W[2, 0]*X[0, 2]) + sigma(W[0, 0]*X[1, 0] + W[1, 0]*X[1, 1] + W[2, 0]*X[1, 2]) + sigma(W[0, 0]*X[2, 0] + W[1, 0]*X[2, 1] + W[2, 0]*X[2, 2]) + sigma(W[0, 1]*X[0, 0] + W[1, 1]*X[0, 1] + W[2, 1]*X[0, 2]) + sigma(W[0, 1]*X[1, 0] + W[1, 1]*X[1, 1] + W[2, 1]*X[1, 2]) + sigma(W[0, 1]*X[2, 0] + W[1, 1]*X[2, 1] + W[2, 1]*X[2, 2])"
      ]
     },
     "execution_count": 1,
     "metadata": {},
     "output_type": "execute_result"
    }
   ],
   "source": [
    "compose(lambd, sigmaApply, n)(A,B).replace(n,v).replace(sigmaApply, sigmaApply_).replace(lambd, lambd_L).doit()"
   ]
  },
  {
   "cell_type": "code",
   "execution_count": 82,
   "metadata": {
    "execution": {
     "iopub.execute_input": "2020-10-04T18:38:40.353226Z",
     "iopub.status.busy": "2020-10-04T18:38:40.351233Z",
     "iopub.status.idle": "2020-10-04T18:38:40.502481Z",
     "shell.execute_reply": "2020-10-04T18:38:40.503812Z"
    },
    "lines_to_next_cell": 0,
    "title": "codecell"
   },
   "outputs": [
    {
     "data": {
      "text/latex": [
       "$\\displaystyle \\left. \\frac{d}{d \\xi_{1}} \\sigma_{apply}{\\left(\\xi_{1} \\right)} \\right|_{\\substack{ \\xi_{1}=X W }} \\frac{\\partial}{\\partial \\sigma_{apply}{\\left(X W \\right)}} \\lambda{\\left(\\sigma_{apply}{\\left(X W \\right)} \\right)} \\frac{\\partial}{\\partial W} X W$"
      ],
      "text/plain": [
       "Subs(Derivative(sigma_apply(_xi_1), _xi_1), _xi_1, X*W)*Derivative(lambda(sigma_apply(X*W)), sigma_apply(X*W))*Derivative(X*W, W)"
      ]
     },
     "execution_count": 1,
     "metadata": {},
     "output_type": "execute_result"
    }
   ],
   "source": [
    "compose(lambd, sigmaApply, n)(A,B).replace(n,v).diff(B).doit()#replace(sigmaApply, sigmaApply_)#.replace(lambd, lambd_L).diff(B)"
   ]
  },
  {
   "cell_type": "code",
   "execution_count": 83,
   "metadata": {
    "execution": {
     "iopub.execute_input": "2020-10-04T18:38:40.513349Z",
     "iopub.status.busy": "2020-10-04T18:38:40.508014Z",
     "iopub.status.idle": "2020-10-04T18:38:40.647113Z",
     "shell.execute_reply": "2020-10-04T18:38:40.648778Z"
    },
    "lines_to_next_cell": 0,
    "title": "codecell"
   },
   "outputs": [
    {
     "data": {
      "text/latex": [
       "$\\displaystyle \\frac{\\partial}{\\partial \\sigma_{apply}{\\left(X W \\right)}} \\left(\\left(\\sigma_{apply}{\\left(X W \\right)}\\right)_{0, 0} + \\left(\\sigma_{apply}{\\left(X W \\right)}\\right)_{0, 1} + \\left(\\sigma_{apply}{\\left(X W \\right)}\\right)_{1, 0} + \\left(\\sigma_{apply}{\\left(X W \\right)}\\right)_{1, 1} + \\left(\\sigma_{apply}{\\left(X W \\right)}\\right)_{2, 0} + \\left(\\sigma_{apply}{\\left(X W \\right)}\\right)_{2, 1}\\right) \\left. \\frac{d}{d \\xi_{1}} \\sigma_{apply}{\\left(\\xi_{1} \\right)} \\right|_{\\substack{ \\xi_{1}=X W }} \\frac{\\partial}{\\partial W} X W$"
      ],
      "text/plain": [
       "Derivative((sigma_apply(X*W))[0, 0] + (sigma_apply(X*W))[0, 1] + (sigma_apply(X*W))[1, 0] + (sigma_apply(X*W))[1, 1] + (sigma_apply(X*W))[2, 0] + (sigma_apply(X*W))[2, 1], sigma_apply(X*W))*Subs(Derivative(sigma_apply(_xi_1), _xi_1), _xi_1, X*W)*Derivative(X*W, W)"
      ]
     },
     "execution_count": 1,
     "metadata": {},
     "output_type": "execute_result"
    }
   ],
   "source": [
    "compose(lambd, sigmaApply, n)(A,B).replace(n,v).diff(B).replace(lambd, lambd_L)"
   ]
  },
  {
   "cell_type": "code",
   "execution_count": 84,
   "metadata": {
    "execution": {
     "iopub.execute_input": "2020-10-04T18:38:40.659225Z",
     "iopub.status.busy": "2020-10-04T18:38:40.656124Z",
     "iopub.status.idle": "2020-10-04T18:38:40.688053Z",
     "shell.execute_reply": "2020-10-04T18:38:40.689495Z"
    },
    "lines_to_next_cell": 0,
    "title": "codecell"
   },
   "outputs": [
    {
     "data": {
      "text/latex": [
       "$\\displaystyle \\left(\\sigma_{apply}{\\left(\\nu{\\left(X,W \\right)} \\right)}\\right)_{0, 0} + \\left(\\sigma_{apply}{\\left(\\nu{\\left(X,W \\right)} \\right)}\\right)_{0, 1} + \\left(\\sigma_{apply}{\\left(\\nu{\\left(X,W \\right)} \\right)}\\right)_{1, 0} + \\left(\\sigma_{apply}{\\left(\\nu{\\left(X,W \\right)} \\right)}\\right)_{1, 1} + \\left(\\sigma_{apply}{\\left(\\nu{\\left(X,W \\right)} \\right)}\\right)_{2, 0} + \\left(\\sigma_{apply}{\\left(\\nu{\\left(X,W \\right)} \\right)}\\right)_{2, 1}$"
      ],
      "text/plain": [
       "(sigma_apply(nu(X, W)))[0, 0] + (sigma_apply(nu(X, W)))[0, 1] + (sigma_apply(nu(X, W)))[1, 0] + (sigma_apply(nu(X, W)))[1, 1] + (sigma_apply(nu(X, W)))[2, 0] + (sigma_apply(nu(X, W)))[2, 1]"
      ]
     },
     "execution_count": 1,
     "metadata": {},
     "output_type": "execute_result"
    }
   ],
   "source": [
    "compose(lambd, sigmaApply, n)(A,B).replace(lambd, lambd_L)"
   ]
  },
  {
   "cell_type": "code",
   "execution_count": 85,
   "metadata": {
    "execution": {
     "iopub.execute_input": "2020-10-04T18:38:40.697246Z",
     "iopub.status.busy": "2020-10-04T18:38:40.695647Z",
     "iopub.status.idle": "2020-10-04T18:38:40.811080Z",
     "shell.execute_reply": "2020-10-04T18:38:40.812370Z"
    },
    "lines_to_next_cell": 0,
    "title": "codecell"
   },
   "outputs": [
    {
     "data": {
      "text/latex": [
       "$\\displaystyle {\\left( d \\mapsto \\sigma{\\left(d \\right)} \\right)}_{\\circ}\\left({X W}\\right)_{0, 0} + {\\left( d \\mapsto \\sigma{\\left(d \\right)} \\right)}_{\\circ}\\left({X W}\\right)_{0, 1} + {\\left( d \\mapsto \\sigma{\\left(d \\right)} \\right)}_{\\circ}\\left({X W}\\right)_{1, 0} + {\\left( d \\mapsto \\sigma{\\left(d \\right)} \\right)}_{\\circ}\\left({X W}\\right)_{1, 1} + {\\left( d \\mapsto \\sigma{\\left(d \\right)} \\right)}_{\\circ}\\left({X W}\\right)_{2, 0} + {\\left( d \\mapsto \\sigma{\\left(d \\right)} \\right)}_{\\circ}\\left({X W}\\right)_{2, 1}$"
      ],
      "text/plain": [
       "Lambda(_d, sigma(_d)).(X*W)[0, 0] + Lambda(_d, sigma(_d)).(X*W)[0, 1] + Lambda(_d, sigma(_d)).(X*W)[1, 0] + Lambda(_d, sigma(_d)).(X*W)[1, 1] + Lambda(_d, sigma(_d)).(X*W)[2, 0] + Lambda(_d, sigma(_d)).(X*W)[2, 1]"
      ]
     },
     "execution_count": 1,
     "metadata": {},
     "output_type": "execute_result"
    }
   ],
   "source": [
    "compose(lambd, sigmaApply, n)(A,B).replace(lambd, lambd_L).replace(n, v).replace(sigmaApply, sigmaApply_)"
   ]
  },
  {
   "cell_type": "code",
   "execution_count": 86,
   "metadata": {
    "execution": {
     "iopub.execute_input": "2020-10-04T18:38:40.830367Z",
     "iopub.status.busy": "2020-10-04T18:38:40.829441Z",
     "iopub.status.idle": "2020-10-04T18:38:41.280587Z",
     "shell.execute_reply": "2020-10-04T18:38:41.288463Z"
    },
    "lines_to_next_cell": 0,
    "title": "codecell"
   },
   "outputs": [
    {
     "data": {
      "text/latex": [
       "$\\displaystyle \\sigma{\\left(W_{0, 0} X_{0, 0} + W_{1, 0} X_{0, 1} + W_{2, 0} X_{0, 2} \\right)} + \\sigma{\\left(W_{0, 0} X_{1, 0} + W_{1, 0} X_{1, 1} + W_{2, 0} X_{1, 2} \\right)} + \\sigma{\\left(W_{0, 0} X_{2, 0} + W_{1, 0} X_{2, 1} + W_{2, 0} X_{2, 2} \\right)} + \\sigma{\\left(W_{0, 1} X_{0, 0} + W_{1, 1} X_{0, 1} + W_{2, 1} X_{0, 2} \\right)} + \\sigma{\\left(W_{0, 1} X_{1, 0} + W_{1, 1} X_{1, 1} + W_{2, 1} X_{1, 2} \\right)} + \\sigma{\\left(W_{0, 1} X_{2, 0} + W_{1, 1} X_{2, 1} + W_{2, 1} X_{2, 2} \\right)}$"
      ],
      "text/plain": [
       "sigma(W[0, 0]*X[0, 0] + W[1, 0]*X[0, 1] + W[2, 0]*X[0, 2]) + sigma(W[0, 0]*X[1, 0] + W[1, 0]*X[1, 1] + W[2, 0]*X[1, 2]) + sigma(W[0, 0]*X[2, 0] + W[1, 0]*X[2, 1] + W[2, 0]*X[2, 2]) + sigma(W[0, 1]*X[0, 0] + W[1, 1]*X[0, 1] + W[2, 1]*X[0, 2]) + sigma(W[0, 1]*X[1, 0] + W[1, 1]*X[1, 1] + W[2, 1]*X[1, 2]) + sigma(W[0, 1]*X[2, 0] + W[1, 1]*X[2, 1] + W[2, 1]*X[2, 2])"
      ]
     },
     "execution_count": 1,
     "metadata": {},
     "output_type": "execute_result"
    }
   ],
   "source": [
    "compose(lambd, sigmaApply, n)(A,B).replace(lambd, lambd_L).replace(n, v).replace(sigmaApply, sigmaApply_).doit()#.diff(B)"
   ]
  },
  {
   "cell_type": "code",
   "execution_count": 87,
   "metadata": {
    "execution": {
     "iopub.execute_input": "2020-10-04T18:38:41.300792Z",
     "iopub.status.busy": "2020-10-04T18:38:41.297227Z",
     "iopub.status.idle": "2020-10-04T18:38:42.678408Z",
     "shell.execute_reply": "2020-10-04T18:38:42.679839Z"
    },
    "title": "codecell"
   },
   "outputs": [
    {
     "data": {
      "text/latex": [
       "$\\displaystyle \\left[\\begin{matrix}X_{0, 0} \\left. \\frac{d}{d \\xi_{1}} \\sigma{\\left(\\xi_{1} \\right)} \\right|_{\\substack{ \\xi_{1}=W_{0, 0} X_{0, 0} + W_{1, 0} X_{0, 1} + W_{2, 0} X_{0, 2} }} + X_{1, 0} \\left. \\frac{d}{d \\xi_{1}} \\sigma{\\left(\\xi_{1} \\right)} \\right|_{\\substack{ \\xi_{1}=W_{0, 0} X_{1, 0} + W_{1, 0} X_{1, 1} + W_{2, 0} X_{1, 2} }} + X_{2, 0} \\left. \\frac{d}{d \\xi_{1}} \\sigma{\\left(\\xi_{1} \\right)} \\right|_{\\substack{ \\xi_{1}=W_{0, 0} X_{2, 0} + W_{1, 0} X_{2, 1} + W_{2, 0} X_{2, 2} }} & X_{0, 0} \\left. \\frac{d}{d \\xi_{1}} \\sigma{\\left(\\xi_{1} \\right)} \\right|_{\\substack{ \\xi_{1}=W_{0, 1} X_{0, 0} + W_{1, 1} X_{0, 1} + W_{2, 1} X_{0, 2} }} + X_{1, 0} \\left. \\frac{d}{d \\xi_{1}} \\sigma{\\left(\\xi_{1} \\right)} \\right|_{\\substack{ \\xi_{1}=W_{0, 1} X_{1, 0} + W_{1, 1} X_{1, 1} + W_{2, 1} X_{1, 2} }} + X_{2, 0} \\left. \\frac{d}{d \\xi_{1}} \\sigma{\\left(\\xi_{1} \\right)} \\right|_{\\substack{ \\xi_{1}=W_{0, 1} X_{2, 0} + W_{1, 1} X_{2, 1} + W_{2, 1} X_{2, 2} }}\\\\X_{0, 1} \\left. \\frac{d}{d \\xi_{1}} \\sigma{\\left(\\xi_{1} \\right)} \\right|_{\\substack{ \\xi_{1}=W_{0, 0} X_{0, 0} + W_{1, 0} X_{0, 1} + W_{2, 0} X_{0, 2} }} + X_{1, 1} \\left. \\frac{d}{d \\xi_{1}} \\sigma{\\left(\\xi_{1} \\right)} \\right|_{\\substack{ \\xi_{1}=W_{0, 0} X_{1, 0} + W_{1, 0} X_{1, 1} + W_{2, 0} X_{1, 2} }} + X_{2, 1} \\left. \\frac{d}{d \\xi_{1}} \\sigma{\\left(\\xi_{1} \\right)} \\right|_{\\substack{ \\xi_{1}=W_{0, 0} X_{2, 0} + W_{1, 0} X_{2, 1} + W_{2, 0} X_{2, 2} }} & X_{0, 1} \\left. \\frac{d}{d \\xi_{1}} \\sigma{\\left(\\xi_{1} \\right)} \\right|_{\\substack{ \\xi_{1}=W_{0, 1} X_{0, 0} + W_{1, 1} X_{0, 1} + W_{2, 1} X_{0, 2} }} + X_{1, 1} \\left. \\frac{d}{d \\xi_{1}} \\sigma{\\left(\\xi_{1} \\right)} \\right|_{\\substack{ \\xi_{1}=W_{0, 1} X_{1, 0} + W_{1, 1} X_{1, 1} + W_{2, 1} X_{1, 2} }} + X_{2, 1} \\left. \\frac{d}{d \\xi_{1}} \\sigma{\\left(\\xi_{1} \\right)} \\right|_{\\substack{ \\xi_{1}=W_{0, 1} X_{2, 0} + W_{1, 1} X_{2, 1} + W_{2, 1} X_{2, 2} }}\\\\X_{0, 2} \\left. \\frac{d}{d \\xi_{1}} \\sigma{\\left(\\xi_{1} \\right)} \\right|_{\\substack{ \\xi_{1}=W_{0, 0} X_{0, 0} + W_{1, 0} X_{0, 1} + W_{2, 0} X_{0, 2} }} + X_{1, 2} \\left. \\frac{d}{d \\xi_{1}} \\sigma{\\left(\\xi_{1} \\right)} \\right|_{\\substack{ \\xi_{1}=W_{0, 0} X_{1, 0} + W_{1, 0} X_{1, 1} + W_{2, 0} X_{1, 2} }} + X_{2, 2} \\left. \\frac{d}{d \\xi_{1}} \\sigma{\\left(\\xi_{1} \\right)} \\right|_{\\substack{ \\xi_{1}=W_{0, 0} X_{2, 0} + W_{1, 0} X_{2, 1} + W_{2, 0} X_{2, 2} }} & X_{0, 2} \\left. \\frac{d}{d \\xi_{1}} \\sigma{\\left(\\xi_{1} \\right)} \\right|_{\\substack{ \\xi_{1}=W_{0, 1} X_{0, 0} + W_{1, 1} X_{0, 1} + W_{2, 1} X_{0, 2} }} + X_{1, 2} \\left. \\frac{d}{d \\xi_{1}} \\sigma{\\left(\\xi_{1} \\right)} \\right|_{\\substack{ \\xi_{1}=W_{0, 1} X_{1, 0} + W_{1, 1} X_{1, 1} + W_{2, 1} X_{1, 2} }} + X_{2, 2} \\left. \\frac{d}{d \\xi_{1}} \\sigma{\\left(\\xi_{1} \\right)} \\right|_{\\substack{ \\xi_{1}=W_{0, 1} X_{2, 0} + W_{1, 1} X_{2, 1} + W_{2, 1} X_{2, 2} }}\\end{matrix}\\right]$"
      ],
      "text/plain": [
       "Matrix([\n",
       "[X[0, 0]*Subs(Derivative(sigma(_xi_1), _xi_1), _xi_1, W[0, 0]*X[0, 0] + W[1, 0]*X[0, 1] + W[2, 0]*X[0, 2]) + X[1, 0]*Subs(Derivative(sigma(_xi_1), _xi_1), _xi_1, W[0, 0]*X[1, 0] + W[1, 0]*X[1, 1] + W[2, 0]*X[1, 2]) + X[2, 0]*Subs(Derivative(sigma(_xi_1), _xi_1), _xi_1, W[0, 0]*X[2, 0] + W[1, 0]*X[2, 1] + W[2, 0]*X[2, 2]), X[0, 0]*Subs(Derivative(sigma(_xi_1), _xi_1), _xi_1, W[0, 1]*X[0, 0] + W[1, 1]*X[0, 1] + W[2, 1]*X[0, 2]) + X[1, 0]*Subs(Derivative(sigma(_xi_1), _xi_1), _xi_1, W[0, 1]*X[1, 0] + W[1, 1]*X[1, 1] + W[2, 1]*X[1, 2]) + X[2, 0]*Subs(Derivative(sigma(_xi_1), _xi_1), _xi_1, W[0, 1]*X[2, 0] + W[1, 1]*X[2, 1] + W[2, 1]*X[2, 2])],\n",
       "[X[0, 1]*Subs(Derivative(sigma(_xi_1), _xi_1), _xi_1, W[0, 0]*X[0, 0] + W[1, 0]*X[0, 1] + W[2, 0]*X[0, 2]) + X[1, 1]*Subs(Derivative(sigma(_xi_1), _xi_1), _xi_1, W[0, 0]*X[1, 0] + W[1, 0]*X[1, 1] + W[2, 0]*X[1, 2]) + X[2, 1]*Subs(Derivative(sigma(_xi_1), _xi_1), _xi_1, W[0, 0]*X[2, 0] + W[1, 0]*X[2, 1] + W[2, 0]*X[2, 2]), X[0, 1]*Subs(Derivative(sigma(_xi_1), _xi_1), _xi_1, W[0, 1]*X[0, 0] + W[1, 1]*X[0, 1] + W[2, 1]*X[0, 2]) + X[1, 1]*Subs(Derivative(sigma(_xi_1), _xi_1), _xi_1, W[0, 1]*X[1, 0] + W[1, 1]*X[1, 1] + W[2, 1]*X[1, 2]) + X[2, 1]*Subs(Derivative(sigma(_xi_1), _xi_1), _xi_1, W[0, 1]*X[2, 0] + W[1, 1]*X[2, 1] + W[2, 1]*X[2, 2])],\n",
       "[X[0, 2]*Subs(Derivative(sigma(_xi_1), _xi_1), _xi_1, W[0, 0]*X[0, 0] + W[1, 0]*X[0, 1] + W[2, 0]*X[0, 2]) + X[1, 2]*Subs(Derivative(sigma(_xi_1), _xi_1), _xi_1, W[0, 0]*X[1, 0] + W[1, 0]*X[1, 1] + W[2, 0]*X[1, 2]) + X[2, 2]*Subs(Derivative(sigma(_xi_1), _xi_1), _xi_1, W[0, 0]*X[2, 0] + W[1, 0]*X[2, 1] + W[2, 0]*X[2, 2]), X[0, 2]*Subs(Derivative(sigma(_xi_1), _xi_1), _xi_1, W[0, 1]*X[0, 0] + W[1, 1]*X[0, 1] + W[2, 1]*X[0, 2]) + X[1, 2]*Subs(Derivative(sigma(_xi_1), _xi_1), _xi_1, W[0, 1]*X[1, 0] + W[1, 1]*X[1, 1] + W[2, 1]*X[1, 2]) + X[2, 2]*Subs(Derivative(sigma(_xi_1), _xi_1), _xi_1, W[0, 1]*X[2, 0] + W[1, 1]*X[2, 1] + W[2, 1]*X[2, 2])]])"
      ]
     },
     "execution_count": 1,
     "metadata": {},
     "output_type": "execute_result"
    }
   ],
   "source": [
    "compose(lambd, sigmaApply, n)(A,B).replace(lambd, lambd_L).replace(n, v).replace(sigmaApply, sigmaApply_).doit().diff(Matrix(B)).doit()"
   ]
  },
  {
   "cell_type": "code",
   "execution_count": 88,
   "metadata": {
    "execution": {
     "iopub.execute_input": "2020-10-04T18:38:42.688430Z",
     "iopub.status.busy": "2020-10-04T18:38:42.687425Z",
     "iopub.status.idle": "2020-10-04T18:38:42.693838Z",
     "shell.execute_reply": "2020-10-04T18:38:42.696869Z"
    },
    "title": "codecell"
   },
   "outputs": [],
   "source": [
    "sigmaApply = Function(\"sigma_apply\", subscriptable=True)\n",
    "\n",
    "#compose(lambd, sigmaApply, n)(A,B).replace(n,v).diff(B).replace(lambd, lambd_L).doit()# ERROR sigma apply is not subscriptable\n",
    "\n",
    "#compose(lambd, sigmaApply, n)(A,B).replace(n,v).diff(B).subs({sigmaApply: sigmaApply_L})\n",
    "\n",
    "\n",
    "\n",
    "\n",
    "\n",
    "\n",
    "\n"
   ]
  },
  {
   "cell_type": "code",
   "execution_count": 89,
   "metadata": {
    "execution": {
     "iopub.execute_input": "2020-10-04T18:38:42.709479Z",
     "iopub.status.busy": "2020-10-04T18:38:42.705084Z",
     "iopub.status.idle": "2020-10-04T18:38:42.727215Z",
     "shell.execute_reply": "2020-10-04T18:38:42.728688Z"
    },
    "lines_to_next_cell": 0,
    "title": "codecell"
   },
   "outputs": [
    {
     "data": {
      "text/latex": [
       "$\\displaystyle {\\left( d \\mapsto \\sigma{\\left(d \\right)} \\right)}_{\\circ}\\left({{\\left( d \\mapsto \\sigma{\\left(d \\right)} \\right)}_{\\circ}\\left({X}\\right)}\\right)$"
      ],
      "text/plain": [
       "Lambda(_d, sigma(_d)).(Lambda(_d, sigma(_d)).(X))"
      ]
     },
     "execution_count": 1,
     "metadata": {},
     "output_type": "execute_result"
    }
   ],
   "source": [
    "compose(sigmaApply_L, sigmaApply_L)(A)"
   ]
  },
  {
   "cell_type": "code",
   "execution_count": 90,
   "metadata": {
    "execution": {
     "iopub.execute_input": "2020-10-04T18:38:42.738109Z",
     "iopub.status.busy": "2020-10-04T18:38:42.737153Z",
     "iopub.status.idle": "2020-10-04T18:38:42.755105Z",
     "shell.execute_reply": "2020-10-04T18:38:42.756571Z"
    },
    "lines_to_next_cell": 0,
    "title": "codecell"
   },
   "outputs": [
    {
     "data": {
      "text/latex": [
       "$\\displaystyle {\\left( d \\mapsto \\sigma{\\left(d \\right)} \\right)}_{\\circ}\\left({{\\left( d \\mapsto \\sigma{\\left(d \\right)} \\right)}_{\\circ}\\left({X}\\right)}\\right)$"
      ],
      "text/plain": [
       "Lambda(_d, sigma(_d)).(Lambda(_d, sigma(_d)).(X))"
      ]
     },
     "execution_count": 1,
     "metadata": {},
     "output_type": "execute_result"
    }
   ],
   "source": [
    "x = Symbol('x', applyfunc=True)\n",
    "#compose(sigmaApply_, sigmaApply_)(x)##ERROR\n",
    "compose(sigmaApply_, sigmaApply_)(A)#.replace(A,f(x))"
   ]
  },
  {
   "cell_type": "code",
   "execution_count": 91,
   "metadata": {
    "execution": {
     "iopub.execute_input": "2020-10-04T18:38:42.768235Z",
     "iopub.status.busy": "2020-10-04T18:38:42.761908Z",
     "iopub.status.idle": "2020-10-04T18:38:42.781715Z",
     "shell.execute_reply": "2020-10-04T18:38:42.782800Z"
    },
    "lines_to_next_cell": 0,
    "title": "codecell"
   },
   "outputs": [
    {
     "data": {
      "text/latex": [
       "$\\displaystyle 0$"
      ],
      "text/plain": [
       "0"
      ]
     },
     "execution_count": 1,
     "metadata": {},
     "output_type": "execute_result"
    }
   ],
   "source": [
    "compose(lambda_L, nL)(A,B)"
   ]
  },
  {
   "cell_type": "code",
   "execution_count": 92,
   "metadata": {
    "execution": {
     "iopub.execute_input": "2020-10-04T18:38:42.789343Z",
     "iopub.status.busy": "2020-10-04T18:38:42.787269Z",
     "iopub.status.idle": "2020-10-04T18:38:42.803716Z",
     "shell.execute_reply": "2020-10-04T18:38:42.805194Z"
    },
    "title": "codecell"
   },
   "outputs": [],
   "source": [
    "n = Function(\"v\", subscriptable=True) # doesn't work for below\n",
    "#compose(lambda_L, n)(A,B).doit()"
   ]
  },
  {
   "cell_type": "code",
   "execution_count": 93,
   "metadata": {
    "execution": {
     "iopub.execute_input": "2020-10-04T18:38:42.812883Z",
     "iopub.status.busy": "2020-10-04T18:38:42.811947Z",
     "iopub.status.idle": "2020-10-04T18:38:42.831032Z",
     "shell.execute_reply": "2020-10-04T18:38:42.832809Z"
    },
    "lines_to_next_cell": 0,
    "title": "codecell"
   },
   "outputs": [
    {
     "data": {
      "text/latex": [
       "$\\displaystyle \\left( \\left( X, \\  W\\right) \\mapsto \\left( \\left( X, \\  W\\right) \\mapsto V \\right) \\right)$"
      ],
      "text/plain": [
       "Lambda((X, W), Lambda((X, W), V))"
      ]
     },
     "execution_count": 1,
     "metadata": {},
     "output_type": "execute_result"
    }
   ],
   "source": [
    "VL = Lambda((A,B), Lambda((A,B), MatrixSymbol(\"V\", A.shape[0], B.shape[1])))\n",
    "VL"
   ]
  },
  {
   "cell_type": "code",
   "execution_count": 94,
   "metadata": {
    "execution": {
     "iopub.execute_input": "2020-10-04T18:38:42.844141Z",
     "iopub.status.busy": "2020-10-04T18:38:42.838848Z",
     "iopub.status.idle": "2020-10-04T18:38:42.854428Z",
     "shell.execute_reply": "2020-10-04T18:38:42.859171Z"
    },
    "lines_to_next_cell": 0,
    "title": "codecell"
   },
   "outputs": [
    {
     "data": {
      "text/latex": [
       "$\\displaystyle \\left( \\left( X, \\  W\\right) \\mapsto V \\right)$"
      ],
      "text/plain": [
       "Lambda((X, W), V)"
      ]
     },
     "execution_count": 1,
     "metadata": {},
     "output_type": "execute_result"
    }
   ],
   "source": [
    "VL(A,B)"
   ]
  },
  {
   "cell_type": "code",
   "execution_count": 95,
   "metadata": {
    "execution": {
     "iopub.execute_input": "2020-10-04T18:38:42.868643Z",
     "iopub.status.busy": "2020-10-04T18:38:42.863193Z",
     "iopub.status.idle": "2020-10-04T18:38:42.888122Z",
     "shell.execute_reply": "2020-10-04T18:38:42.890454Z"
    },
    "lines_to_next_cell": 0,
    "title": "codecell"
   },
   "outputs": [
    {
     "data": {
      "text/latex": [
       "$\\displaystyle \\sigma{\\left(v{\\left(X,W \\right)} \\right)}$"
      ],
      "text/plain": [
       "sigma(v(X, W))"
      ]
     },
     "execution_count": 1,
     "metadata": {},
     "output_type": "execute_result"
    }
   ],
   "source": [
    "#saL = Lambda(A, Lambda(A, sigma(A)))\n",
    "saL = Lambda(x, Lambda(x, sigma(x)))\n",
    "#saL(n(A,B))## ERROR : the ultimate test failed: cannot even make this take an arbitrary function\n",
    "#saL(n)\n",
    "#s = lambda x : Lambda(x, sigma(x))\n",
    "s = lambda x : sigma(x)\n",
    "s(n(A,B))"
   ]
  },
  {
   "cell_type": "code",
   "execution_count": 96,
   "metadata": {
    "execution": {
     "iopub.execute_input": "2020-10-04T18:38:42.904121Z",
     "iopub.status.busy": "2020-10-04T18:38:42.900508Z",
     "iopub.status.idle": "2020-10-04T18:38:42.917685Z",
     "shell.execute_reply": "2020-10-04T18:38:42.919004Z"
    },
    "title": "codecell"
   },
   "outputs": [
    {
     "data": {
      "text/latex": [
       "$\\displaystyle \\left( x \\mapsto \\left( x \\mapsto \\sigma{\\left(x \\right)} \\right) \\right)$"
      ],
      "text/plain": [
       "Lambda(x, Lambda(x, sigma(x)))"
      ]
     },
     "execution_count": 1,
     "metadata": {},
     "output_type": "execute_result"
    }
   ],
   "source": [
    "#sL = lambda x : Lambda(x, sigma(x))\n",
    "#sL = Lambda(x, lambda x: sigma(x))\n",
    "\n",
    "sL = Lambda(x, Lambda(x, sigma(x)))\n",
    "sL\n",
    "#sL(A)"
   ]
  }
 ],
 "metadata": {
  "jupytext": {
   "cell_metadata_filter": "title,-all"
  },
  "kernelspec": {
   "display_name": "pymatrix_env",
   "language": "python",
   "name": "pymatrix_env"
  },
  "language_info": {
   "codemirror_mode": {
    "name": "ipython",
    "version": 3
   },
   "file_extension": ".py",
   "mimetype": "text/x-python",
   "name": "python",
   "nbconvert_exporter": "python",
   "pygments_lexer": "ipython3",
   "version": "3.7.8"
  }
 },
 "nbformat": 4,
 "nbformat_minor": 4
}
