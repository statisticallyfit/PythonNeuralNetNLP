{
 "cells": [
  {
   "cell_type": "code",
   "execution_count": null,
   "metadata": {
    "title": "codecell"
   },
   "outputs": [],
   "source": [
    "from sympy import Matrix, Symbol, derive_by_array, Lambda, symbols, Derivative, diff\n",
    "from sympy.abc import x, y, i, j, a, b"
   ]
  },
  {
   "cell_type": "markdown",
   "metadata": {
    "lines_to_next_cell": 0,
    "title": "markdown"
   },
   "source": [
    "\n",
    "Defining variable-element matrices $X \\in \\mathbb{R}^{n \\times m}$ and $W \\in \\mathbb{R}^{m \\times p}$:"
   ]
  },
  {
   "cell_type": "code",
   "execution_count": null,
   "metadata": {
    "lines_to_next_cell": 0,
    "title": "codecell"
   },
   "outputs": [],
   "source": [
    "def var(letter: str, i: int, j: int) -> Symbol:\n",
    "    letter_ij = Symbol('{}_{}{}'.format(letter, i+1, j+1), is_commutative=True)\n",
    "    return letter_ij\n",
    "\n",
    "\n",
    "n,m,p = 3,3,2\n",
    "\n",
    "X = Matrix(n, m, lambda i,j : var('x', i, j)); X"
   ]
  },
  {
   "cell_type": "code",
   "execution_count": null,
   "metadata": {
    "title": "codecell"
   },
   "outputs": [],
   "source": [
    "W = Matrix(m, p, lambda i,j : var('w', i, j)); W"
   ]
  },
  {
   "cell_type": "markdown",
   "metadata": {
    "lines_to_next_cell": 0,
    "title": "markdown"
   },
   "source": [
    "Defining $N = \\nu(X, W) = X \\times W$\n",
    "\n",
    "* $\\nu : \\mathbb{R}^{(n \\times m) \\times (m \\times p)} \\rightarrow \\mathbb{R}^{n \\times p}$\n",
    "* $N \\in \\mathbb{R}^{n \\times p}$"
   ]
  },
  {
   "cell_type": "code",
   "execution_count": null,
   "metadata": {
    "title": "codecell"
   },
   "outputs": [],
   "source": [
    "v = Lambda((a,b), a*b); v"
   ]
  },
  {
   "cell_type": "code",
   "execution_count": null,
   "metadata": {
    "title": "codecell"
   },
   "outputs": [],
   "source": [
    "N = v(X, W); N"
   ]
  },
  {
   "cell_type": "markdown",
   "metadata": {
    "lines_to_next_cell": 0,
    "title": "markdown"
   },
   "source": [
    "\n",
    "Defining $S = \\sigma_{\\text{apply}}(N) = \\sigma_{\\text{apply}}(\\nu(X,W)) = \\sigma_\\text{apply}(X \\times W) = \\Big \\{ \\sigma(XW_{ij}) \\Big\\}$.\n",
    "\n",
    "\n",
    "Assume that $\\sigma_{\\text{apply}} : \\mathbb{R}^{n \\times p} \\rightarrow \\mathbb{R}^{n \\times p}$ while $\\sigma : \\mathbb{R} \\rightarrow \\mathbb{R}$, so the function $\\sigma_{\\text{apply}}$ takes in a matrix and returns a matrix while the simple $\\sigma$ acts on the individual elements $N_{ij} = XW_{ij}$ in the matrix argument $N$ of $\\sigma_{\\text{apply}}$.\n",
    "\n",
    "* $\\sigma : \\mathbb{R} \\rightarrow \\mathbb{R}$\n",
    "* $\\sigma_\\text{apply} : \\mathbb{R}^{n \\times p} \\rightarrow \\mathbb{R}^{n \\times p}$\n",
    "* $S \\in \\mathbb{R}^{n \\times p}$"
   ]
  },
  {
   "cell_type": "code",
   "execution_count": null,
   "metadata": {
    "title": "codecell"
   },
   "outputs": [],
   "source": [
    "from sympy import Function\n",
    "\n",
    "# Nvec = Symbol('N', commutative=False)\n",
    "\n",
    "sigma = Function('sigma')\n",
    "sigma(N[0,0])"
   ]
  },
  {
   "cell_type": "code",
   "execution_count": null,
   "metadata": {
    "lines_to_next_cell": 0,
    "title": "codecell"
   },
   "outputs": [],
   "source": [
    "# way 1 of declaring S\n",
    "S = N.applyfunc(sigma); S\n",
    "#type(S)\n",
    "#Matrix(3, 2, lambda i, j: sigma(N[i,j]))"
   ]
  },
  {
   "cell_type": "code",
   "execution_count": null,
   "metadata": {
    "title": "codecell"
   },
   "outputs": [],
   "source": [
    "# way 2 of declaring S (better way)\n",
    "sigmaApply = lambda matrix:  matrix.applyfunc(sigma)\n",
    "\n",
    "sigmaApply(N)"
   ]
  },
  {
   "cell_type": "code",
   "execution_count": null,
   "metadata": {
    "lines_to_next_cell": 0,
    "title": "codecell"
   },
   "outputs": [],
   "source": [
    "sigmaApply(X**2) # can apply this function to any matrix argument."
   ]
  },
  {
   "cell_type": "code",
   "execution_count": null,
   "metadata": {
    "title": "codecell"
   },
   "outputs": [],
   "source": [
    "S = sigmaApply(v(X,W)) # composing\n",
    "S"
   ]
  },
  {
   "cell_type": "markdown",
   "metadata": {
    "lines_to_next_cell": 0,
    "title": "markdown"
   },
   "source": [
    "Defining $L = \\Lambda(S) = \\Lambda(\\sigma_\\text{apply}(\\nu(X,W))) = \\Lambda \\Big(\\Big \\{ \\sigma(XW_{ij}) \\Big\\} \\Big)$. In general, let the function be defined as:\n",
    "\n",
    "$\\begin{aligned}\n",
    "L &= \\Lambda \\begin{pmatrix}\n",
    "   \\sigma(XW_{11}) & \\sigma(XW_{12}) & ... & \\sigma(XW_{1p}) \\\\\n",
    "   \\sigma(XW_{21}) & \\sigma(XW_{22}) & ... & \\sigma(XW_{2p}) \\\\\n",
    "   \\vdots & \\vdots & & \\vdots \\\\\n",
    "   \\sigma(XW_{n1}) & \\sigma(XW_{n2}) & ... & \\sigma(XW_{np})\n",
    "\\end{pmatrix} \\\\\n",
    "&= \\sum_{i=1}^p \\sum_{j = 1}^n  \\sigma(XW_{ij}) \\\\\n",
    "&= \\sigma(XW_{11}) + \\sigma{XW_{12}} + ... + \\sigma(XW_{np})\n",
    "\\end{aligned}$\n",
    "\n",
    "NOTE HERE:\n",
    "* $\\Lambda: \\mathbb{R}^{n \\times p} \\rightarrow \\mathbb{R}$\n",
    "* $L \\in \\mathbb{R}$"
   ]
  },
  {
   "cell_type": "code",
   "execution_count": null,
   "metadata": {
    "lines_to_next_cell": 0,
    "title": "codecell"
   },
   "outputs": [],
   "source": [
    "lambdaF = lambda matrix : sum(matrix)\n",
    "lambdaF(S)"
   ]
  },
  {
   "cell_type": "code",
   "execution_count": null,
   "metadata": {
    "lines_to_next_cell": 2,
    "title": "codecell"
   },
   "outputs": [],
   "source": [
    "L = lambdaF(sigmaApply(v(X, W)))\n",
    "L\n",
    "#L = lambda mat1, mat2: lambdaF(sigmaApply(v(mat1, mat2)))\n",
    "#L(X, W)"
   ]
  },
  {
   "cell_type": "markdown",
   "metadata": {
    "lines_to_next_cell": 0,
    "title": "markdown"
   },
   "source": []
  },
  {
   "cell_type": "code",
   "execution_count": null,
   "metadata": {
    "lines_to_next_cell": 0,
    "title": "codecell"
   },
   "outputs": [],
   "source": [
    "#derive_by_array(L, X)"
   ]
  },
  {
   "cell_type": "code",
   "execution_count": null,
   "metadata": {
    "lines_to_next_cell": 0,
    "title": "codecell"
   },
   "outputs": [],
   "source": [
    "derive_by_array(L, S)"
   ]
  },
  {
   "cell_type": "code",
   "execution_count": null,
   "metadata": {
    "title": "codecell"
   },
   "outputs": [],
   "source": [
    "from sympy import sympify, lambdify\n",
    "n = lambdify((X[0,0],X[0,1],X[0,2],W[0,0],W[1,0],W[2,0]), N[0,0])\n",
    "n(1,2,3,4,3,2)"
   ]
  },
  {
   "cell_type": "code",
   "execution_count": null,
   "metadata": {
    "lines_to_next_cell": 0,
    "title": "codecell"
   },
   "outputs": [],
   "source": [
    "f = Function('f') #(sympify(N[0,0]))\n",
    "f(N[0,0])"
   ]
  },
  {
   "cell_type": "code",
   "execution_count": null,
   "metadata": {
    "title": "codecell"
   },
   "outputs": [],
   "source": [
    "f(N[0,0]).diff(X[0,0])\n",
    "\n",
    "\n"
   ]
  },
  {
   "cell_type": "code",
   "execution_count": null,
   "metadata": {
    "lines_to_next_cell": 0,
    "title": "codecell"
   },
   "outputs": [],
   "source": [
    "n = v(X,W); n\n",
    "n11 = Function('{}'.format(n[0,0]))\n",
    "n11"
   ]
  },
  {
   "cell_type": "code",
   "execution_count": null,
   "metadata": {
    "lines_to_next_cell": 2,
    "title": "codecell"
   },
   "outputs": [],
   "source": [
    "s_ij = Function('s_ij')\n",
    "sig = Function('sig')(x)"
   ]
  },
  {
   "cell_type": "code",
   "execution_count": null,
   "metadata": {
    "title": "codecell"
   },
   "outputs": [],
   "source": [
    "\n",
    "# KEY: got not expecting UndefinedFunction error again here too\n",
    "#S_ij = Matrix(3, 2, lambda i,j: Function('s_{}{}'.format(i+1,j+1))(Function('{}'.format(N[i,j]))))\n",
    "\n"
   ]
  },
  {
   "cell_type": "code",
   "execution_count": null,
   "metadata": {
    "title": "codecell"
   },
   "outputs": [],
   "source": [
    "#S_ij[0,0](sympify(N[0,0])).diff(sympify(N[0,0]))\n",
    "F = 3*x*y\n",
    "\n",
    "xy = Symbol('{}'.format(F))\n",
    "xy.subs({x:3})\n",
    "sympify(xy).subs({x:3})"
   ]
  },
  {
   "cell_type": "markdown",
   "metadata": {
    "lines_to_next_cell": 0,
    "title": "markdown"
   },
   "source": [
    "Sympy Example of trying to differentiate with respect to an **expression** not just a variable."
   ]
  },
  {
   "cell_type": "code",
   "execution_count": null,
   "metadata": {
    "title": "codecell"
   },
   "outputs": [],
   "source": [
    "from sympy.abc import t\n",
    "\n",
    "F = Function('F')\n",
    "f = Function('f')\n",
    "U = f(t)\n",
    "V = U.diff(t)\n",
    "\n",
    "direct = F(t, U, V).diff(U); direct"
   ]
  },
  {
   "cell_type": "code",
   "execution_count": null,
   "metadata": {
    "lines_to_next_cell": 0,
    "title": "codecell"
   },
   "outputs": [],
   "source": [
    "F(t,U,V)"
   ]
  },
  {
   "cell_type": "code",
   "execution_count": null,
   "metadata": {
    "lines_to_next_cell": 0,
    "title": "codecell"
   },
   "outputs": [],
   "source": [
    "F(t,U,V).subs(U,x)"
   ]
  },
  {
   "cell_type": "code",
   "execution_count": null,
   "metadata": {
    "lines_to_next_cell": 0,
    "title": "codecell"
   },
   "outputs": [],
   "source": [
    "F(t,U,V).subs(U,x).diff(x)"
   ]
  },
  {
   "cell_type": "code",
   "execution_count": null,
   "metadata": {
    "lines_to_next_cell": 0,
    "title": "codecell"
   },
   "outputs": [],
   "source": [
    "F(t,U,V).subs(U,x).diff(x).subs(x, U)"
   ]
  },
  {
   "cell_type": "code",
   "execution_count": null,
   "metadata": {
    "lines_to_next_cell": 0,
    "title": "codecell"
   },
   "outputs": [],
   "source": [
    "indirect = F(t,U,V).subs(U, x).diff(x).subs(x,U); indirect"
   ]
  },
  {
   "cell_type": "code",
   "execution_count": null,
   "metadata": {
    "lines_to_next_cell": 0,
    "title": "codecell"
   },
   "outputs": [],
   "source": [
    "F = Lambda((x,y), 3*x* y)\n",
    "F(1,2)"
   ]
  },
  {
   "cell_type": "code",
   "execution_count": null,
   "metadata": {
    "lines_to_next_cell": 0,
    "title": "codecell"
   },
   "outputs": [],
   "source": [
    "U = x*y\n",
    "G = 3*x*y\n",
    "xy"
   ]
  },
  {
   "cell_type": "code",
   "execution_count": null,
   "metadata": {
    "lines_to_next_cell": 0,
    "title": "codecell"
   },
   "outputs": [],
   "source": [
    "F.diff(xy)"
   ]
  },
  {
   "cell_type": "code",
   "execution_count": null,
   "metadata": {
    "title": "codecell"
   },
   "outputs": [],
   "source": [
    "# derive_by_array(S, N) # ERROR"
   ]
  },
  {
   "cell_type": "code",
   "execution_count": null,
   "metadata": {
    "lines_to_next_cell": 0,
    "title": "codecell"
   },
   "outputs": [],
   "source": [
    "s11 = S[0,0]\n",
    "s11"
   ]
  },
  {
   "cell_type": "code",
   "execution_count": null,
   "metadata": {
    "title": "codecell"
   },
   "outputs": [],
   "source": [
    "\n",
    "#s11.diff(n11)"
   ]
  },
  {
   "cell_type": "code",
   "execution_count": null,
   "metadata": {
    "lines_to_next_cell": 2,
    "title": "codecell"
   },
   "outputs": [],
   "source": [
    "derive_by_array(L, S)"
   ]
  },
  {
   "cell_type": "code",
   "execution_count": null,
   "metadata": {
    "title": "codecell"
   },
   "outputs": [],
   "source": [
    "\n",
    "x, y, r, t = symbols('x y r t') # r (radius), t (angle theta)\n",
    "f, g, h = symbols('f g h', cls=Function)\n",
    "h = g(f(x))\n",
    "Derivative(h, f(x)).doit()\n",
    "\n",
    "\n"
   ]
  },
  {
   "cell_type": "code",
   "execution_count": null,
   "metadata": {
    "lines_to_next_cell": 2,
    "title": "codecell"
   },
   "outputs": [],
   "source": [
    "h.args[0]\n",
    "h.diff(h.args[0])"
   ]
  },
  {
   "cell_type": "code",
   "execution_count": null,
   "metadata": {
    "title": "codecell"
   },
   "outputs": [],
   "source": [
    "S = sigmaApply(v(X,W)); S"
   ]
  },
  {
   "cell_type": "code",
   "execution_count": null,
   "metadata": {
    "lines_to_next_cell": 0,
    "title": "codecell"
   },
   "outputs": [],
   "source": [
    "from sympy.abc import n\n",
    "\n",
    "n11 = (X*W)[0,0]\n",
    "m = lambda mat1, mat2: sympify(Symbol('{}'.format((mat1 * mat2)[0,0] )))\n",
    "s = sigma(m(X,W)); s"
   ]
  },
  {
   "cell_type": "code",
   "execution_count": null,
   "metadata": {
    "lines_to_next_cell": 0,
    "title": "codecell"
   },
   "outputs": [],
   "source": [
    "s.subs({W[0,0]: 14}) # doesn't work to substitute into an undefined function"
   ]
  },
  {
   "cell_type": "code",
   "execution_count": null,
   "metadata": {
    "lines_to_next_cell": 0,
    "title": "codecell"
   },
   "outputs": [],
   "source": [
    "Derivative(s, m(X,W)).doit()"
   ]
  },
  {
   "cell_type": "code",
   "execution_count": null,
   "metadata": {
    "lines_to_next_cell": 0,
    "title": "codecell"
   },
   "outputs": [],
   "source": [
    "\n",
    "#s11 = Function('s_{11}')(n11); s11\n",
    "#sigma(n11).diff(n11)\n",
    "\n",
    "#s11.diff(n11)\n",
    "sigma(n11)"
   ]
  },
  {
   "cell_type": "code",
   "execution_count": null,
   "metadata": {
    "lines_to_next_cell": 0,
    "title": "codecell"
   },
   "outputs": [],
   "source": [
    "# ERROR HERE TOO\n",
    "type(sigma(n11).args[0])"
   ]
  },
  {
   "cell_type": "code",
   "execution_count": null,
   "metadata": {
    "lines_to_next_cell": 0,
    "title": "codecell"
   },
   "outputs": [],
   "source": [
    "type(n11)"
   ]
  },
  {
   "cell_type": "code",
   "execution_count": null,
   "metadata": {
    "lines_to_next_cell": 0,
    "title": "codecell"
   },
   "outputs": [],
   "source": [
    "#sigma(n11).diff(sigma(n11).args[0]) ## ERROR"
   ]
  },
  {
   "cell_type": "code",
   "execution_count": null,
   "metadata": {
    "title": "codecell"
   },
   "outputs": [],
   "source": []
  },
  {
   "cell_type": "code",
   "execution_count": null,
   "metadata": {
    "lines_to_next_cell": 2,
    "title": "codecell"
   },
   "outputs": [],
   "source": [
    "b = Symbol('{}'.format(n11))\n",
    "ns_11 = Function(b, real=True)\n",
    "ns_11\n",
    "\n",
    "\n",
    "# ERROR cannot diff wi.r. to undefinedfunction\n",
    "# sigma(n11).diff(ns_11)\n",
    "\n",
    "\n",
    "#\n",
    "#sigma(b).diff(b).subs({b:1})"
   ]
  },
  {
   "cell_type": "code",
   "execution_count": null,
   "metadata": {
    "lines_to_next_cell": 0,
    "title": "codecell"
   },
   "outputs": [],
   "source": [
    "f, g = symbols('f g', cls=Function)\n",
    "xy = Symbol('x*y'); xy\n",
    "#sympify(xy).subs({x:2, y:4})\n",
    "f(g(x,y)).diff(xy)"
   ]
  },
  {
   "cell_type": "code",
   "execution_count": null,
   "metadata": {
    "lines_to_next_cell": 0,
    "title": "codecell"
   },
   "outputs": [],
   "source": [
    "# TODO SEEM to have got the expression but it is not working since can't substitute anything .... ???\n",
    "f(xy).diff(xy).subs({x:2})"
   ]
  },
  {
   "cell_type": "code",
   "execution_count": null,
   "metadata": {
    "title": "codecell"
   },
   "outputs": [],
   "source": [
    "Function(\"x*y\")(x,y)\n",
    "xyf = lambdify([x,y],xy)\n",
    "xyf(3,4)\n",
    "f(g(xy)).diff(xy)\n",
    "#"
   ]
  },
  {
   "cell_type": "code",
   "execution_count": null,
   "metadata": {
    "title": "codecell"
   },
   "outputs": [],
   "source": [
    "xyd = Derivative(x*y, x*y,0).doit();xyd\n",
    "\n",
    "#Derivative(3*xyd, xyd, 1).doit() ### ERROR can't calc deriv w.r.t to x*y"
   ]
  },
  {
   "cell_type": "code",
   "execution_count": null,
   "metadata": {
    "title": "codecell"
   },
   "outputs": [],
   "source": [
    "#derive_by_array(S, N)\n",
    "\n",
    "\n",
    "\n"
   ]
  },
  {
   "cell_type": "code",
   "execution_count": null,
   "metadata": {
    "lines_to_next_cell": 0,
    "title": "codecell"
   },
   "outputs": [],
   "source": []
  },
  {
   "cell_type": "code",
   "execution_count": null,
   "metadata": {
    "title": "codecell"
   },
   "outputs": [],
   "source": []
  }
 ],
 "metadata": {
  "jupytext": {
   "cell_metadata_filter": "title,-all"
  },
  "kernelspec": {
   "display_name": "pymatrix_env",
   "language": "python",
   "name": "pymatrix_env"
  }
 },
 "nbformat": 4,
 "nbformat_minor": 4
}
