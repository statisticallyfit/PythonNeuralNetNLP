{
 "cells": [
  {
   "cell_type": "code",
   "execution_count": 1,
   "metadata": {
    "execution": {
     "iopub.execute_input": "2020-09-21T06:45:20.776107Z",
     "iopub.status.busy": "2020-09-21T06:45:20.774954Z",
     "iopub.status.idle": "2020-09-21T06:45:21.495630Z",
     "shell.execute_reply": "2020-09-21T06:45:21.496806Z"
    },
    "title": "codecell"
   },
   "outputs": [
    {
     "data": {
      "text/latex": [
       "$\\displaystyle \\left[\\begin{array}{cccc}A_{0, 0} & A_{0, 1} & A_{0, 2} & A_{0, 3}\\\\A_{1, 0} & A_{1, 1} & A_{1, 2} & A_{1, 3}\\\\A_{2, 0} & A_{2, 1} & A_{2, 2} & A_{2, 3}\\end{array}\\right]$"
      ],
      "text/plain": [
       "Matrix([\n",
       "[A[0, 0], A[0, 1], A[0, 2], A[0, 3]],\n",
       "[A[1, 0], A[1, 1], A[1, 2], A[1, 3]],\n",
       "[A[2, 0], A[2, 1], A[2, 2], A[2, 3]]])"
      ]
     },
     "execution_count": 1,
     "metadata": {},
     "output_type": "execute_result"
    }
   ],
   "source": [
    "# SOURCE = https://www.kannon.link/free/2019/10/30/symbolic-matrix-differentiation-with-sympy/\n",
    "from sympy import diff, symbols, MatrixSymbol, Transpose, Trace, Matrix, Function\n",
    "\n",
    "\n",
    "def squared_frobenius_norm(expr):\n",
    "    return Trace(expr * Transpose(expr))\n",
    "\n",
    "k, m, n = symbols('k m n')\n",
    "\n",
    "X = MatrixSymbol('X', m, k)\n",
    "W = MatrixSymbol('W', k, n)\n",
    "Y = MatrixSymbol('Y', m, n)\n",
    "\n",
    "# Matrix(X)\n",
    "A = MatrixSymbol('A', 3, 4)\n",
    "B = MatrixSymbol('B', 4, 2)\n",
    "C = MatrixSymbol('C', 3, 2)\n",
    "Matrix(A)"
   ]
  },
  {
   "cell_type": "code",
   "execution_count": 2,
   "metadata": {
    "execution": {
     "iopub.execute_input": "2020-09-21T06:45:21.505249Z",
     "iopub.status.busy": "2020-09-21T06:45:21.500810Z",
     "iopub.status.idle": "2020-09-21T06:45:21.640073Z",
     "shell.execute_reply": "2020-09-21T06:45:21.641248Z"
    },
    "lines_to_next_cell": 0,
    "title": "codecell"
   },
   "outputs": [
    {
     "data": {
      "text/latex": [
       "$\\displaystyle 2 X^{T} \\left(X W - Y\\right)$"
      ],
      "text/plain": [
       "2*X.T*(X*W - Y)"
      ]
     },
     "execution_count": 1,
     "metadata": {},
     "output_type": "execute_result"
    }
   ],
   "source": [
    "diff(squared_frobenius_norm(X*W - Y), W)"
   ]
  },
  {
   "cell_type": "code",
   "execution_count": 3,
   "metadata": {
    "execution": {
     "iopub.execute_input": "2020-09-21T06:45:21.646233Z",
     "iopub.status.busy": "2020-09-21T06:45:21.644743Z",
     "iopub.status.idle": "2020-09-21T06:45:21.669515Z",
     "shell.execute_reply": "2020-09-21T06:45:21.670547Z"
    },
    "lines_to_next_cell": 0,
    "title": "codecell"
   },
   "outputs": [
    {
     "data": {
      "text/latex": [
       "$\\displaystyle \\operatorname{tr}\\left(\\left(A B - C\\right) \\left(B^{T} A^{T} - C^{T}\\right) \\right)$"
      ],
      "text/plain": [
       "Trace((A*B - C)*(B.T*A.T - C.T))"
      ]
     },
     "execution_count": 1,
     "metadata": {},
     "output_type": "execute_result"
    }
   ],
   "source": [
    "sq = squared_frobenius_norm(A*B - C); sq"
   ]
  },
  {
   "cell_type": "code",
   "execution_count": 4,
   "metadata": {
    "execution": {
     "iopub.execute_input": "2020-09-21T06:45:21.675299Z",
     "iopub.status.busy": "2020-09-21T06:45:21.673740Z",
     "iopub.status.idle": "2020-09-21T06:45:21.732319Z",
     "shell.execute_reply": "2020-09-21T06:45:21.733451Z"
    },
    "title": "codecell"
   },
   "outputs": [
    {
     "data": {
      "text/latex": [
       "$\\displaystyle 2 A^{T} \\left(A B - C\\right)$"
      ],
      "text/plain": [
       "2*A.T*(A*B - C)"
      ]
     },
     "execution_count": 1,
     "metadata": {},
     "output_type": "execute_result"
    }
   ],
   "source": [
    "diff(squared_frobenius_norm(A*B - C), B)"
   ]
  },
  {
   "cell_type": "code",
   "execution_count": 5,
   "metadata": {
    "execution": {
     "iopub.execute_input": "2020-09-21T06:45:21.738502Z",
     "iopub.status.busy": "2020-09-21T06:45:21.736996Z",
     "iopub.status.idle": "2020-09-21T06:45:21.751297Z",
     "shell.execute_reply": "2020-09-21T06:45:21.752305Z"
    },
    "lines_to_next_cell": 0,
    "title": "codecell"
   },
   "outputs": [
    {
     "data": {
      "text/latex": [
       "$\\displaystyle \\left(A B - C\\right) \\left(B^{T} A^{T} - C^{T}\\right)$"
      ],
      "text/plain": [
       "(A*B - C)*(B.T*A.T - C.T)"
      ]
     },
     "execution_count": 1,
     "metadata": {},
     "output_type": "execute_result"
    }
   ],
   "source": [
    "sq.args[0]"
   ]
  },
  {
   "cell_type": "code",
   "execution_count": 6,
   "metadata": {
    "execution": {
     "iopub.execute_input": "2020-09-21T06:45:21.757292Z",
     "iopub.status.busy": "2020-09-21T06:45:21.755575Z",
     "iopub.status.idle": "2020-09-21T06:45:21.794860Z",
     "shell.execute_reply": "2020-09-21T06:45:21.795927Z"
    },
    "lines_to_next_cell": 0,
    "title": "codecell"
   },
   "outputs": [
    {
     "data": {
      "text/latex": [
       "$\\displaystyle A B B^{T} A^{T} - A B C^{T} - C B^{T} A^{T} + C C^{T}$"
      ],
      "text/plain": [
       "A*B*B.T*A.T - A*B*C.T - C*B.T*A.T + C*C.T"
      ]
     },
     "execution_count": 1,
     "metadata": {},
     "output_type": "execute_result"
    }
   ],
   "source": [
    "from sympy import srepr, expand, simplify, collect, factor, cancel, apart\n",
    "\n",
    "#srepr(sq.args[0])\n",
    "expand(sq.args[0])"
   ]
  },
  {
   "cell_type": "code",
   "execution_count": 7,
   "metadata": {
    "execution": {
     "iopub.execute_input": "2020-09-21T06:45:21.800861Z",
     "iopub.status.busy": "2020-09-21T06:45:21.799381Z",
     "iopub.status.idle": "2020-09-21T06:45:21.810876Z",
     "shell.execute_reply": "2020-09-21T06:45:21.811918Z"
    },
    "title": "codecell"
   },
   "outputs": [],
   "source": [
    "#diff(sq.args[0], B)\n",
    "#diff(expand(sq.args[0]), B).doit()\n",
    "from sympy import Symbol\n",
    "Xm = Matrix(3,3, lambda i,j : Symbol(\"x_{}{}\".format(i+1,j+1), commutative=True))\n",
    "Wm = Matrix(3,2, lambda i,j : Symbol(\"w_{}{}\".format(i+1,j+1), commutative=True))\n",
    "\n",
    "X = MatrixSymbol('X',3,3)\n",
    "W = MatrixSymbol('W', 3,2);"
   ]
  },
  {
   "cell_type": "code",
   "execution_count": 8,
   "metadata": {
    "execution": {
     "iopub.execute_input": "2020-09-21T06:45:21.817215Z",
     "iopub.status.busy": "2020-09-21T06:45:21.815210Z",
     "iopub.status.idle": "2020-09-21T06:45:21.831850Z",
     "shell.execute_reply": "2020-09-21T06:45:21.832910Z"
    },
    "lines_to_next_cell": 0,
    "title": "codecell"
   },
   "outputs": [
    {
     "data": {
      "text/latex": [
       "$\\displaystyle \\frac{\\partial}{\\partial X} X W$"
      ],
      "text/plain": [
       "Derivative(X*W, X)"
      ]
     },
     "execution_count": 1,
     "metadata": {},
     "output_type": "execute_result"
    }
   ],
   "source": [
    "diff(X*W, X)"
   ]
  },
  {
   "cell_type": "code",
   "execution_count": 9,
   "metadata": {
    "execution": {
     "iopub.execute_input": "2020-09-21T06:45:21.837937Z",
     "iopub.status.busy": "2020-09-21T06:45:21.836357Z",
     "iopub.status.idle": "2020-09-21T06:45:21.855102Z",
     "shell.execute_reply": "2020-09-21T06:45:21.856159Z"
    },
    "lines_to_next_cell": 0,
    "title": "codecell"
   },
   "outputs": [
    {
     "data": {
      "text/latex": [
       "$\\displaystyle \\frac{\\partial}{\\partial \\left[\\begin{matrix}x_{11} & x_{12} & x_{13}\\\\x_{21} & x_{22} & x_{23}\\\\x_{31} & x_{32} & x_{33}\\end{matrix}\\right]} \\left[\\begin{matrix}x_{11} & x_{12} & x_{13}\\\\x_{21} & x_{22} & x_{23}\\\\x_{31} & x_{32} & x_{33}\\end{matrix}\\right] W$"
      ],
      "text/plain": [
       "Derivative(Matrix([\n",
       "[x_11, x_12, x_13],\n",
       "[x_21, x_22, x_23],\n",
       "[x_31, x_32, x_33]])*W, Matrix([\n",
       "[x_11, x_12, x_13],\n",
       "[x_21, x_22, x_23],\n",
       "[x_31, x_32, x_33]]))"
      ]
     },
     "execution_count": 1,
     "metadata": {},
     "output_type": "execute_result"
    }
   ],
   "source": [
    "diff(X*W, X).subs({X:Xm})"
   ]
  },
  {
   "cell_type": "code",
   "execution_count": 10,
   "metadata": {
    "execution": {
     "iopub.execute_input": "2020-09-21T06:45:21.861036Z",
     "iopub.status.busy": "2020-09-21T06:45:21.859516Z",
     "iopub.status.idle": "2020-09-21T06:45:21.930597Z",
     "shell.execute_reply": "2020-09-21T06:45:21.931700Z"
    },
    "lines_to_next_cell": 0,
    "title": "codecell"
   },
   "outputs": [
    {
     "data": {
      "text/latex": [
       "$\\displaystyle \\left[\\begin{matrix}\\left[\\begin{matrix}1 & 0 & 0\\\\0 & 0 & 0\\\\0 & 0 & 0\\end{matrix}\\right] W & \\left[\\begin{matrix}0 & 1 & 0\\\\0 & 0 & 0\\\\0 & 0 & 0\\end{matrix}\\right] W & \\left[\\begin{matrix}0 & 0 & 1\\\\0 & 0 & 0\\\\0 & 0 & 0\\end{matrix}\\right] W\\\\\\left[\\begin{matrix}0 & 0 & 0\\\\1 & 0 & 0\\\\0 & 0 & 0\\end{matrix}\\right] W & \\left[\\begin{matrix}0 & 0 & 0\\\\0 & 1 & 0\\\\0 & 0 & 0\\end{matrix}\\right] W & \\left[\\begin{matrix}0 & 0 & 0\\\\0 & 0 & 1\\\\0 & 0 & 0\\end{matrix}\\right] W\\\\\\left[\\begin{matrix}0 & 0 & 0\\\\0 & 0 & 0\\\\1 & 0 & 0\\end{matrix}\\right] W & \\left[\\begin{matrix}0 & 0 & 0\\\\0 & 0 & 0\\\\0 & 1 & 0\\end{matrix}\\right] W & \\left[\\begin{matrix}0 & 0 & 0\\\\0 & 0 & 0\\\\0 & 0 & 1\\end{matrix}\\right] W\\end{matrix}\\right]$"
      ],
      "text/plain": [
       "[[Matrix([\n",
       "[1, 0, 0],\n",
       "[0, 0, 0],\n",
       "[0, 0, 0]])*W, Matrix([\n",
       "[0, 1, 0],\n",
       "[0, 0, 0],\n",
       "[0, 0, 0]])*W, Matrix([\n",
       "[0, 0, 1],\n",
       "[0, 0, 0],\n",
       "[0, 0, 0]])*W], [Matrix([\n",
       "[0, 0, 0],\n",
       "[1, 0, 0],\n",
       "[0, 0, 0]])*W, Matrix([\n",
       "[0, 0, 0],\n",
       "[0, 1, 0],\n",
       "[0, 0, 0]])*W, Matrix([\n",
       "[0, 0, 0],\n",
       "[0, 0, 1],\n",
       "[0, 0, 0]])*W], [Matrix([\n",
       "[0, 0, 0],\n",
       "[0, 0, 0],\n",
       "[1, 0, 0]])*W, Matrix([\n",
       "[0, 0, 0],\n",
       "[0, 0, 0],\n",
       "[0, 1, 0]])*W, Matrix([\n",
       "[0, 0, 0],\n",
       "[0, 0, 0],\n",
       "[0, 0, 1]])*W]]"
      ]
     },
     "execution_count": 1,
     "metadata": {},
     "output_type": "execute_result"
    }
   ],
   "source": [
    "diff(X*W, X).subs({X:Xm}).doit()"
   ]
  },
  {
   "cell_type": "code",
   "execution_count": 11,
   "metadata": {
    "execution": {
     "iopub.execute_input": "2020-09-21T06:45:21.936715Z",
     "iopub.status.busy": "2020-09-21T06:45:21.935198Z",
     "iopub.status.idle": "2020-09-21T06:45:21.999746Z",
     "shell.execute_reply": "2020-09-21T06:45:22.000879Z"
    },
    "title": "codecell"
   },
   "outputs": [
    {
     "data": {
      "text/latex": [
       "$\\displaystyle \\left[\\begin{matrix}\\left[\\begin{matrix}1 & 0 & 0\\\\0 & 0 & 0\\\\0 & 0 & 0\\end{matrix}\\right] \\left[\\begin{matrix}w_{11} & w_{12}\\\\w_{21} & w_{22}\\\\w_{31} & w_{32}\\end{matrix}\\right] & \\left[\\begin{matrix}0 & 1 & 0\\\\0 & 0 & 0\\\\0 & 0 & 0\\end{matrix}\\right] \\left[\\begin{matrix}w_{11} & w_{12}\\\\w_{21} & w_{22}\\\\w_{31} & w_{32}\\end{matrix}\\right] & \\left[\\begin{matrix}0 & 0 & 1\\\\0 & 0 & 0\\\\0 & 0 & 0\\end{matrix}\\right] \\left[\\begin{matrix}w_{11} & w_{12}\\\\w_{21} & w_{22}\\\\w_{31} & w_{32}\\end{matrix}\\right]\\\\\\left[\\begin{matrix}0 & 0 & 0\\\\1 & 0 & 0\\\\0 & 0 & 0\\end{matrix}\\right] \\left[\\begin{matrix}w_{11} & w_{12}\\\\w_{21} & w_{22}\\\\w_{31} & w_{32}\\end{matrix}\\right] & \\left[\\begin{matrix}0 & 0 & 0\\\\0 & 1 & 0\\\\0 & 0 & 0\\end{matrix}\\right] \\left[\\begin{matrix}w_{11} & w_{12}\\\\w_{21} & w_{22}\\\\w_{31} & w_{32}\\end{matrix}\\right] & \\left[\\begin{matrix}0 & 0 & 0\\\\0 & 0 & 1\\\\0 & 0 & 0\\end{matrix}\\right] \\left[\\begin{matrix}w_{11} & w_{12}\\\\w_{21} & w_{22}\\\\w_{31} & w_{32}\\end{matrix}\\right]\\\\\\left[\\begin{matrix}0 & 0 & 0\\\\0 & 0 & 0\\\\1 & 0 & 0\\end{matrix}\\right] \\left[\\begin{matrix}w_{11} & w_{12}\\\\w_{21} & w_{22}\\\\w_{31} & w_{32}\\end{matrix}\\right] & \\left[\\begin{matrix}0 & 0 & 0\\\\0 & 0 & 0\\\\0 & 1 & 0\\end{matrix}\\right] \\left[\\begin{matrix}w_{11} & w_{12}\\\\w_{21} & w_{22}\\\\w_{31} & w_{32}\\end{matrix}\\right] & \\left[\\begin{matrix}0 & 0 & 0\\\\0 & 0 & 0\\\\0 & 0 & 1\\end{matrix}\\right] \\left[\\begin{matrix}w_{11} & w_{12}\\\\w_{21} & w_{22}\\\\w_{31} & w_{32}\\end{matrix}\\right]\\end{matrix}\\right]$"
      ],
      "text/plain": [
       "[[Matrix([\n",
       "[1, 0, 0],\n",
       "[0, 0, 0],\n",
       "[0, 0, 0]])*Matrix([\n",
       "[w_11, w_12],\n",
       "[w_21, w_22],\n",
       "[w_31, w_32]]), Matrix([\n",
       "[0, 1, 0],\n",
       "[0, 0, 0],\n",
       "[0, 0, 0]])*Matrix([\n",
       "[w_11, w_12],\n",
       "[w_21, w_22],\n",
       "[w_31, w_32]]), Matrix([\n",
       "[0, 0, 1],\n",
       "[0, 0, 0],\n",
       "[0, 0, 0]])*Matrix([\n",
       "[w_11, w_12],\n",
       "[w_21, w_22],\n",
       "[w_31, w_32]])], [Matrix([\n",
       "[0, 0, 0],\n",
       "[1, 0, 0],\n",
       "[0, 0, 0]])*Matrix([\n",
       "[w_11, w_12],\n",
       "[w_21, w_22],\n",
       "[w_31, w_32]]), Matrix([\n",
       "[0, 0, 0],\n",
       "[0, 1, 0],\n",
       "[0, 0, 0]])*Matrix([\n",
       "[w_11, w_12],\n",
       "[w_21, w_22],\n",
       "[w_31, w_32]]), Matrix([\n",
       "[0, 0, 0],\n",
       "[0, 0, 1],\n",
       "[0, 0, 0]])*Matrix([\n",
       "[w_11, w_12],\n",
       "[w_21, w_22],\n",
       "[w_31, w_32]])], [Matrix([\n",
       "[0, 0, 0],\n",
       "[0, 0, 0],\n",
       "[1, 0, 0]])*Matrix([\n",
       "[w_11, w_12],\n",
       "[w_21, w_22],\n",
       "[w_31, w_32]]), Matrix([\n",
       "[0, 0, 0],\n",
       "[0, 0, 0],\n",
       "[0, 1, 0]])*Matrix([\n",
       "[w_11, w_12],\n",
       "[w_21, w_22],\n",
       "[w_31, w_32]]), Matrix([\n",
       "[0, 0, 0],\n",
       "[0, 0, 0],\n",
       "[0, 0, 1]])*Matrix([\n",
       "[w_11, w_12],\n",
       "[w_21, w_22],\n",
       "[w_31, w_32]])]]"
      ]
     },
     "execution_count": 1,
     "metadata": {},
     "output_type": "execute_result"
    }
   ],
   "source": [
    "diff(X*W, X).subs({X:Xm}).doit().subs({W:Wm})"
   ]
  },
  {
   "cell_type": "code",
   "execution_count": 12,
   "metadata": {
    "execution": {
     "iopub.execute_input": "2020-09-21T06:45:22.010144Z",
     "iopub.status.busy": "2020-09-21T06:45:22.004292Z",
     "iopub.status.idle": "2020-09-21T06:45:22.091632Z",
     "shell.execute_reply": "2020-09-21T06:45:22.092798Z"
    },
    "title": "codecell"
   },
   "outputs": [
    {
     "data": {
      "text/latex": [
       "$\\displaystyle \\left[\\begin{matrix}\\left[\\begin{matrix}w_{11} & w_{12}\\\\0 & 0\\\\0 & 0\\end{matrix}\\right] & \\left[\\begin{matrix}w_{21} & w_{22}\\\\0 & 0\\\\0 & 0\\end{matrix}\\right] & \\left[\\begin{matrix}w_{31} & w_{32}\\\\0 & 0\\\\0 & 0\\end{matrix}\\right]\\\\\\left[\\begin{matrix}0 & 0\\\\w_{11} & w_{12}\\\\0 & 0\\end{matrix}\\right] & \\left[\\begin{matrix}0 & 0\\\\w_{21} & w_{22}\\\\0 & 0\\end{matrix}\\right] & \\left[\\begin{matrix}0 & 0\\\\w_{31} & w_{32}\\\\0 & 0\\end{matrix}\\right]\\\\\\left[\\begin{matrix}0 & 0\\\\0 & 0\\\\w_{11} & w_{12}\\end{matrix}\\right] & \\left[\\begin{matrix}0 & 0\\\\0 & 0\\\\w_{21} & w_{22}\\end{matrix}\\right] & \\left[\\begin{matrix}0 & 0\\\\0 & 0\\\\w_{31} & w_{32}\\end{matrix}\\right]\\end{matrix}\\right]$"
      ],
      "text/plain": [
       "[[[[w_11, w_12], [0, 0], [0, 0]], [[w_21, w_22], [0, 0], [0, 0]], [[w_31, w_32], [0, 0], [0, 0]]], [[[0, 0], [w_11, w_12], [0, 0]], [[0, 0], [w_21, w_22], [0, 0]], [[0, 0], [w_31, w_32], [0, 0]]], [[[0, 0], [0, 0], [w_11, w_12]], [[0, 0], [0, 0], [w_21, w_22]], [[0, 0], [0, 0], [w_31, w_32]]]]"
      ]
     },
     "execution_count": 1,
     "metadata": {},
     "output_type": "execute_result"
    }
   ],
   "source": [
    "# expand(diff(X*W, X).subs({X:Xm}).doit().subs({W:Wm}))# STUCK doesn't work to expand out from here\n",
    "#diff(X*W, X).replace(X,Xm)# ERROR so I must use subs instead (noncommutatitve scalars in matrix multiplication not supported)\n",
    "diff(X*W, X).subs({X:Xm, W:Wm}).doit()"
   ]
  },
  {
   "cell_type": "code",
   "execution_count": 13,
   "metadata": {
    "execution": {
     "iopub.execute_input": "2020-09-21T06:45:22.097840Z",
     "iopub.status.busy": "2020-09-21T06:45:22.096342Z",
     "iopub.status.idle": "2020-09-21T06:45:22.768595Z",
     "shell.execute_reply": "2020-09-21T06:45:22.769700Z"
    },
    "lines_to_next_cell": 0,
    "title": "codecell"
   },
   "outputs": [
    {
     "data": {
      "text/latex": [
       "$\\displaystyle \\left. \\frac{d}{d \\xi_{1}} f{\\left(\\xi_{1} \\right)} \\right|_{\\substack{ \\xi_{1}=X }} \\frac{d}{d X} X$"
      ],
      "text/plain": [
       "Subs(Derivative(f(_xi_1), _xi_1), _xi_1, X)*Derivative(X, X)"
      ]
     },
     "execution_count": 1,
     "metadata": {},
     "output_type": "execute_result"
    }
   ],
   "source": [
    "g,f = symbols('g f', cls = Function)\n",
    "f(X).replace(X, X.T).diff(X).replace(X.T, X)"
   ]
  },
  {
   "cell_type": "code",
   "execution_count": 14,
   "metadata": {
    "execution": {
     "iopub.execute_input": "2020-09-21T06:45:22.774631Z",
     "iopub.status.busy": "2020-09-21T06:45:22.773066Z",
     "iopub.status.idle": "2020-09-21T06:45:22.817280Z",
     "shell.execute_reply": "2020-09-21T06:45:22.818364Z"
    },
    "lines_to_next_cell": 0,
    "title": "codecell"
   },
   "outputs": [
    {
     "data": {
      "text/latex": [
       "$\\displaystyle \\left. \\frac{d}{d \\xi_{1}} f{\\left(\\xi_{1} \\right)} \\right|_{\\substack{ \\xi_{1}=X }} \\frac{d}{d f{\\left(X \\right)}} g{\\left(f{\\left(X \\right)} \\right)} \\frac{d}{d X} X$"
      ],
      "text/plain": [
       "Subs(Derivative(f(_xi_1), _xi_1), _xi_1, X)*Derivative(g(f(X)), f(X))*Derivative(X, X)"
      ]
     },
     "execution_count": 1,
     "metadata": {},
     "output_type": "execute_result"
    }
   ],
   "source": [
    "g(f(X)).replace(X, X.T).diff(X).replace(X.T, X)"
   ]
  },
  {
   "cell_type": "code",
   "execution_count": 15,
   "metadata": {
    "execution": {
     "iopub.execute_input": "2020-09-21T06:45:22.823781Z",
     "iopub.status.busy": "2020-09-21T06:45:22.822242Z",
     "iopub.status.idle": "2020-09-21T06:45:22.827794Z",
     "shell.execute_reply": "2020-09-21T06:45:22.828870Z"
    },
    "title": "codecell"
   },
   "outputs": [],
   "source": [
    "# f(X,W).replace(X,X.T).diff(X)### CRASHES"
   ]
  },
  {
   "cell_type": "code",
   "execution_count": 16,
   "metadata": {
    "lines_to_next_cell": 0,
    "title": "codecell"
   },
   "outputs": [],
   "source": []
  },
  {
   "cell_type": "code",
   "execution_count": 16,
   "metadata": {
    "lines_to_next_cell": 0,
    "title": "codecell"
   },
   "outputs": [],
   "source": []
  },
  {
   "cell_type": "code",
   "execution_count": 16,
   "metadata": {
    "lines_to_next_cell": 0,
    "title": "codecell"
   },
   "outputs": [],
   "source": []
  },
  {
   "cell_type": "code",
   "execution_count": 16,
   "metadata": {
    "lines_to_next_cell": 0,
    "title": "codecell"
   },
   "outputs": [],
   "source": []
  },
  {
   "cell_type": "code",
   "execution_count": 16,
   "metadata": {
    "title": "codecell"
   },
   "outputs": [],
   "source": [
    "\n",
    "\n"
   ]
  },
  {
   "cell_type": "code",
   "execution_count": 16,
   "metadata": {
    "execution": {
     "iopub.execute_input": "2020-09-21T06:45:22.834964Z",
     "iopub.status.busy": "2020-09-21T06:45:22.832888Z",
     "iopub.status.idle": "2020-09-21T06:45:22.841529Z",
     "shell.execute_reply": "2020-09-21T06:45:22.842565Z"
    },
    "lines_to_next_cell": 0,
    "title": "codecell"
   },
   "outputs": [
    {
     "data": {
      "text/plain": [
       "sympy.matrices.expressions.matmul.MatMul"
      ]
     },
     "execution_count": 1,
     "metadata": {},
     "output_type": "execute_result"
    }
   ],
   "source": [
    "type(sq.args[0])"
   ]
  },
  {
   "cell_type": "code",
   "execution_count": 17,
   "metadata": {
    "execution": {
     "iopub.execute_input": "2020-09-21T06:45:22.849500Z",
     "iopub.status.busy": "2020-09-21T06:45:22.845897Z",
     "iopub.status.idle": "2020-09-21T06:45:22.862457Z",
     "shell.execute_reply": "2020-09-21T06:45:22.863535Z"
    },
    "lines_to_next_cell": 0,
    "title": "codecell"
   },
   "outputs": [
    {
     "data": {
      "text/latex": [
       "$\\displaystyle g{\\left(f{\\left(\\left(A B - C\\right) \\left(B^{T} A^{T} - C^{T}\\right) \\right)} \\right)}$"
      ],
      "text/plain": [
       "g(f((A*B - C)*(B.T*A.T - C.T)))"
      ]
     },
     "execution_count": 1,
     "metadata": {},
     "output_type": "execute_result"
    }
   ],
   "source": [
    "from sympy import symbols, Function\n",
    "\n",
    "#h,g,f = symbols('h g f', cls=Function)\n",
    "f = Function('f')\n",
    "g = Function('g')\n",
    "h = g(f(sq.args[0]))\n",
    "h"
   ]
  },
  {
   "cell_type": "code",
   "execution_count": 18,
   "metadata": {
    "execution": {
     "iopub.execute_input": "2020-09-21T06:45:22.868220Z",
     "iopub.status.busy": "2020-09-21T06:45:22.866753Z",
     "iopub.status.idle": "2020-09-21T06:45:23.055804Z",
     "shell.execute_reply": "2020-09-21T06:45:23.057054Z"
    },
    "title": "codecell"
   },
   "outputs": [
    {
     "data": {
      "text/latex": [
       "$\\displaystyle \\left. \\frac{d}{d \\xi_{1}} f{\\left(\\xi_{1} \\right)} \\right|_{\\substack{ \\xi_{1}=\\left(A B - C\\right) \\left(B^{T} A^{T} - C^{T}\\right) }} \\frac{\\partial}{\\partial f{\\left(\\left(A B - C\\right) \\left(B^{T} A^{T} - C^{T}\\right) \\right)}} g{\\left(f{\\left(\\left(A B - C\\right) \\left(B^{T} A^{T} - C^{T}\\right) \\right)} \\right)} \\frac{\\partial}{\\partial B} \\left(A B - C\\right) \\left(B^{T} A^{T} - C^{T}\\right)$"
      ],
      "text/plain": [
       "Subs(Derivative(f(_xi_1), _xi_1), _xi_1, (A*B - C)*(B.T*A.T - C.T))*Derivative(g(f((A*B - C)*(B.T*A.T - C.T))), f((A*B - C)*(B.T*A.T - C.T)))*Derivative((A*B - C)*(B.T*A.T - C.T), B)"
      ]
     },
     "execution_count": 1,
     "metadata": {},
     "output_type": "execute_result"
    }
   ],
   "source": [
    "diff(h, B)"
   ]
  },
  {
   "cell_type": "code",
   "execution_count": 19,
   "metadata": {
    "execution": {
     "iopub.execute_input": "2020-09-21T06:45:23.062109Z",
     "iopub.status.busy": "2020-09-21T06:45:23.060595Z",
     "iopub.status.idle": "2020-09-21T06:45:23.066255Z",
     "shell.execute_reply": "2020-09-21T06:45:23.067284Z"
    },
    "title": "codecell"
   },
   "outputs": [],
   "source": [
    "from sympy import Derivative\n",
    "\n",
    "#h.replace(f, Trace)"
   ]
  },
  {
   "cell_type": "code",
   "execution_count": 20,
   "metadata": {
    "execution": {
     "iopub.execute_input": "2020-09-21T06:45:23.071835Z",
     "iopub.status.busy": "2020-09-21T06:45:23.070372Z",
     "iopub.status.idle": "2020-09-21T06:45:23.105480Z",
     "shell.execute_reply": "2020-09-21T06:45:23.106535Z"
    },
    "lines_to_next_cell": 0,
    "title": "codecell"
   },
   "outputs": [
    {
     "data": {
      "text/latex": [
       "$\\displaystyle \\frac{\\partial}{\\partial B} \\left(A B - C\\right) \\left(B^{T} A^{T} - C^{T}\\right)$"
      ],
      "text/plain": [
       "Derivative((A*B - C)*(B.T*A.T - C.T), B)"
      ]
     },
     "execution_count": 1,
     "metadata": {},
     "output_type": "execute_result"
    }
   ],
   "source": [
    "diff(sq.args[0], B)"
   ]
  },
  {
   "cell_type": "code",
   "execution_count": 21,
   "metadata": {
    "execution": {
     "iopub.execute_input": "2020-09-21T06:45:23.111621Z",
     "iopub.status.busy": "2020-09-21T06:45:23.110104Z",
     "iopub.status.idle": "2020-09-21T06:45:23.199971Z",
     "shell.execute_reply": "2020-09-21T06:45:23.201089Z"
    },
    "lines_to_next_cell": 0,
    "title": "codecell"
   },
   "outputs": [
    {
     "data": {
      "text/latex": [
       "$\\displaystyle 2 \\left. \\frac{d}{d \\xi_{1}} f{\\left(\\xi_{1} \\right)} \\right|_{\\substack{ \\xi_{1}=\\operatorname{tr}\\left(\\left(A B - C\\right) \\left(B^{T} A^{T} - C^{T}\\right) \\right) }} A^{T} \\left(A B - C\\right)$"
      ],
      "text/plain": [
       "(2*Subs(Derivative(f(_xi_1), _xi_1), _xi_1, Trace((A*B - C)*(B.T*A.T - C.T))))*A.T*(A*B - C)"
      ]
     },
     "execution_count": 1,
     "metadata": {},
     "output_type": "execute_result"
    }
   ],
   "source": [
    "from sympy import Trace\n",
    "\n",
    "\n",
    "h = f(Trace(sq.args[0]))\n",
    "\n",
    "diff(h, B)"
   ]
  },
  {
   "cell_type": "code",
   "execution_count": 22,
   "metadata": {
    "execution": {
     "iopub.execute_input": "2020-09-21T06:45:23.206149Z",
     "iopub.status.busy": "2020-09-21T06:45:23.204643Z",
     "iopub.status.idle": "2020-09-21T06:45:23.215821Z",
     "shell.execute_reply": "2020-09-21T06:45:23.216894Z"
    },
    "title": "codecell"
   },
   "outputs": [
    {
     "data": {
      "text/latex": [
       "$\\displaystyle g{\\left(f{\\left(A B \\right)} \\right)}$"
      ],
      "text/plain": [
       "g(f(A*B))"
      ]
     },
     "execution_count": 1,
     "metadata": {},
     "output_type": "execute_result"
    }
   ],
   "source": [
    "h = g(f(A*B))\n",
    "h"
   ]
  },
  {
   "cell_type": "code",
   "execution_count": 23,
   "metadata": {
    "execution": {
     "iopub.execute_input": "2020-09-21T06:45:23.222172Z",
     "iopub.status.busy": "2020-09-21T06:45:23.220694Z",
     "iopub.status.idle": "2020-09-21T06:45:23.268357Z",
     "shell.execute_reply": "2020-09-21T06:45:23.269435Z"
    },
    "lines_to_next_cell": 0,
    "title": "codecell"
   },
   "outputs": [
    {
     "data": {
      "text/latex": [
       "$\\displaystyle \\left. \\frac{d}{d \\xi_{1}} f{\\left(\\xi_{1} \\right)} \\right|_{\\substack{ \\xi_{1}=A B }} \\frac{\\partial}{\\partial f{\\left(A B \\right)}} g{\\left(f{\\left(A B \\right)} \\right)} \\frac{\\partial}{\\partial A} A B$"
      ],
      "text/plain": [
       "Subs(Derivative(f(_xi_1), _xi_1), _xi_1, A*B)*Derivative(g(f(A*B)), f(A*B))*Derivative(A*B, A)"
      ]
     },
     "execution_count": 1,
     "metadata": {},
     "output_type": "execute_result"
    }
   ],
   "source": [
    "diff(h, A)"
   ]
  },
  {
   "cell_type": "code",
   "execution_count": 24,
   "metadata": {
    "execution": {
     "iopub.execute_input": "2020-09-21T06:45:23.274146Z",
     "iopub.status.busy": "2020-09-21T06:45:23.272639Z",
     "iopub.status.idle": "2020-09-21T06:45:23.285761Z",
     "shell.execute_reply": "2020-09-21T06:45:23.286796Z"
    },
    "lines_to_next_cell": 0,
    "title": "codecell"
   },
   "outputs": [
    {
     "data": {
      "text/latex": [
       "$\\displaystyle \\left[\\begin{array}{cccc}0 & 0 & 0 & 0\\\\0 & 0 & 0 & 0\\\\0 & 0 & 0 & 0\\end{array}\\right]$"
      ],
      "text/plain": [
       "Matrix([\n",
       "[0, 0, 0, 0],\n",
       "[0, 0, 0, 0],\n",
       "[0, 0, 0, 0]])"
      ]
     },
     "execution_count": 1,
     "metadata": {},
     "output_type": "execute_result"
    }
   ],
   "source": [
    "from sympy import ZeroMatrix\n",
    "Z = ZeroMatrix(3,4); Z\n",
    "Matrix(Z)"
   ]
  },
  {
   "cell_type": "code",
   "execution_count": 25,
   "metadata": {
    "execution": {
     "iopub.execute_input": "2020-09-21T06:45:23.291684Z",
     "iopub.status.busy": "2020-09-21T06:45:23.290251Z",
     "iopub.status.idle": "2020-09-21T06:45:23.298866Z",
     "shell.execute_reply": "2020-09-21T06:45:23.299879Z"
    },
    "lines_to_next_cell": 0,
    "title": "codecell"
   },
   "outputs": [
    {
     "data": {
      "text/plain": [
       "sympy.matrices.expressions.transpose.Transpose"
      ]
     },
     "execution_count": 1,
     "metadata": {},
     "output_type": "execute_result"
    }
   ],
   "source": [
    "type(A.T)"
   ]
  },
  {
   "cell_type": "code",
   "execution_count": 26,
   "metadata": {
    "execution": {
     "iopub.execute_input": "2020-09-21T06:45:23.304462Z",
     "iopub.status.busy": "2020-09-21T06:45:23.303013Z",
     "iopub.status.idle": "2020-09-21T06:45:23.311904Z",
     "shell.execute_reply": "2020-09-21T06:45:23.312993Z"
    },
    "lines_to_next_cell": 0,
    "title": "codecell"
   },
   "outputs": [
    {
     "data": {
      "text/plain": [
       "sympy.matrices.expressions.matexpr.MatrixSymbol"
      ]
     },
     "execution_count": 1,
     "metadata": {},
     "output_type": "execute_result"
    }
   ],
   "source": [
    "type(Z + A)"
   ]
  },
  {
   "cell_type": "code",
   "execution_count": 27,
   "metadata": {
    "execution": {
     "iopub.execute_input": "2020-09-21T06:45:23.317776Z",
     "iopub.status.busy": "2020-09-21T06:45:23.316271Z",
     "iopub.status.idle": "2020-09-21T06:45:23.325808Z",
     "shell.execute_reply": "2020-09-21T06:45:23.326848Z"
    },
    "lines_to_next_cell": 0,
    "title": "codecell"
   },
   "outputs": [
    {
     "data": {
      "text/plain": [
       "sympy.matrices.expressions.matexpr.MatrixSymbol"
      ]
     },
     "execution_count": 1,
     "metadata": {},
     "output_type": "execute_result"
    }
   ],
   "source": [
    "type(A*1)"
   ]
  },
  {
   "cell_type": "code",
   "execution_count": 28,
   "metadata": {
    "execution": {
     "iopub.execute_input": "2020-09-21T06:45:23.331783Z",
     "iopub.status.busy": "2020-09-21T06:45:23.329980Z",
     "iopub.status.idle": "2020-09-21T06:45:23.339050Z",
     "shell.execute_reply": "2020-09-21T06:45:23.340095Z"
    },
    "lines_to_next_cell": 0,
    "title": "codecell"
   },
   "outputs": [
    {
     "data": {
      "text/plain": [
       "sympy.matrices.expressions.matexpr.MatrixSymbol"
      ]
     },
     "execution_count": 1,
     "metadata": {},
     "output_type": "execute_result"
    }
   ],
   "source": [
    "type(A)"
   ]
  },
  {
   "cell_type": "code",
   "execution_count": 29,
   "metadata": {
    "execution": {
     "iopub.execute_input": "2020-09-21T06:45:23.345163Z",
     "iopub.status.busy": "2020-09-21T06:45:23.343415Z",
     "iopub.status.idle": "2020-09-21T06:45:23.353006Z",
     "shell.execute_reply": "2020-09-21T06:45:23.354048Z"
    },
    "lines_to_next_cell": 0,
    "title": "codecell"
   },
   "outputs": [
    {
     "data": {
      "text/plain": [
       "sympy.matrices.expressions.matmul.MatMul"
      ]
     },
     "execution_count": 1,
     "metadata": {},
     "output_type": "execute_result"
    }
   ],
   "source": [
    "type(A*B)"
   ]
  },
  {
   "cell_type": "code",
   "execution_count": 30,
   "metadata": {
    "execution": {
     "iopub.execute_input": "2020-09-21T06:45:23.358827Z",
     "iopub.status.busy": "2020-09-21T06:45:23.357301Z",
     "iopub.status.idle": "2020-09-21T06:45:23.363204Z",
     "shell.execute_reply": "2020-09-21T06:45:23.364248Z"
    },
    "lines_to_next_cell": 0,
    "title": "codecell"
   },
   "outputs": [],
   "source": [
    "from sympy.matrices.expressions.matexpr import MatrixExpr\n",
    "\n",
    "#Matrix(MatrixExpr(A)) # ERROR"
   ]
  },
  {
   "cell_type": "code",
   "execution_count": 31,
   "metadata": {
    "lines_to_next_cell": 0,
    "title": "codecell"
   },
   "outputs": [],
   "source": []
  },
  {
   "cell_type": "code",
   "execution_count": 31,
   "metadata": {
    "execution": {
     "iopub.execute_input": "2020-09-21T06:45:23.369177Z",
     "iopub.status.busy": "2020-09-21T06:45:23.367682Z",
     "iopub.status.idle": "2020-09-21T06:45:23.387411Z",
     "shell.execute_reply": "2020-09-21T06:45:23.388493Z"
    },
    "lines_to_next_cell": 0,
    "title": "codecell"
   },
   "outputs": [
    {
     "data": {
      "text/latex": [
       "$\\displaystyle g{\\left(f{\\left(A^{T} \\right)} \\right)}$"
      ],
      "text/plain": [
       "g(f(A.T))"
      ]
     },
     "execution_count": 1,
     "metadata": {},
     "output_type": "execute_result"
    }
   ],
   "source": [
    "# diff(h, A) # WHAT THIS IS STILL BAD\n",
    "\n",
    "# This is why:\n",
    "assert type(A.T) != type(A.T.T)\n",
    "#h = g(f(Z + A))\n",
    "#D = MatrixSymbol('D', 3,4)\n",
    "\n",
    "#ad = A+D\n",
    "from sympy.abc import i,j,x,a,b,c\n",
    "\n",
    "h = g(f(A.T))\n",
    "\n",
    "h"
   ]
  },
  {
   "cell_type": "code",
   "execution_count": 32,
   "metadata": {
    "execution": {
     "iopub.execute_input": "2020-09-21T06:45:23.393242Z",
     "iopub.status.busy": "2020-09-21T06:45:23.391723Z",
     "iopub.status.idle": "2020-09-21T06:45:23.436131Z",
     "shell.execute_reply": "2020-09-21T06:45:23.437247Z"
    },
    "lines_to_next_cell": 0,
    "title": "codecell"
   },
   "outputs": [
    {
     "data": {
      "text/latex": [
       "$\\displaystyle \\left. \\frac{d}{d \\xi_{1}} f{\\left(\\xi_{1} \\right)} \\right|_{\\substack{ \\xi_{1}=A }} \\frac{d}{d f{\\left(A \\right)}} g{\\left(f{\\left(A \\right)} \\right)} \\frac{d}{d A} A$"
      ],
      "text/plain": [
       "Subs(Derivative(f(_xi_1), _xi_1), _xi_1, A)*Derivative(g(f(A)), f(A))*Derivative(A, A)"
      ]
     },
     "execution_count": 1,
     "metadata": {},
     "output_type": "execute_result"
    }
   ],
   "source": [
    "\n",
    "diff(h, A).replace(A.T,A)"
   ]
  },
  {
   "cell_type": "code",
   "execution_count": 33,
   "metadata": {
    "execution": {
     "iopub.execute_input": "2020-09-21T06:45:23.442247Z",
     "iopub.status.busy": "2020-09-21T06:45:23.440780Z",
     "iopub.status.idle": "2020-09-21T06:45:23.451949Z",
     "shell.execute_reply": "2020-09-21T06:45:23.453024Z"
    },
    "title": "codecell"
   },
   "outputs": [
    {
     "data": {
      "text/latex": [
       "$\\displaystyle \\frac{d}{d A} A$"
      ],
      "text/plain": [
       "Derivative(A, A)"
      ]
     },
     "execution_count": 1,
     "metadata": {},
     "output_type": "execute_result"
    }
   ],
   "source": [
    "diff(A.T, A).replace(A.T, A)"
   ]
  },
  {
   "cell_type": "code",
   "execution_count": 34,
   "metadata": {
    "execution": {
     "iopub.execute_input": "2020-09-21T06:45:23.457699Z",
     "iopub.status.busy": "2020-09-21T06:45:23.456182Z",
     "iopub.status.idle": "2020-09-21T06:45:23.478162Z",
     "shell.execute_reply": "2020-09-21T06:45:23.479250Z"
    },
    "lines_to_next_cell": 0,
    "title": "codecell"
   },
   "outputs": [
    {
     "data": {
      "text/latex": [
       "$\\displaystyle \\frac{d}{d \\left[\\begin{matrix}A_{0, 0} & A_{0, 1} & A_{0, 2} & A_{0, 3}\\\\A_{1, 0} & A_{1, 1} & A_{1, 2} & A_{1, 3}\\\\A_{2, 0} & A_{2, 1} & A_{2, 2} & A_{2, 3}\\end{matrix}\\right]} \\left(\\left[\\begin{matrix}A_{0, 0} & A_{0, 1} & A_{0, 2} & A_{0, 3}\\\\A_{1, 0} & A_{1, 1} & A_{1, 2} & A_{1, 3}\\\\A_{2, 0} & A_{2, 1} & A_{2, 2} & A_{2, 3}\\end{matrix}\\right]\\right)^{T}$"
      ],
      "text/plain": [
       "Derivative(Matrix([\n",
       "[A[0, 0], A[0, 1], A[0, 2], A[0, 3]],\n",
       "[A[1, 0], A[1, 1], A[1, 2], A[1, 3]],\n",
       "[A[2, 0], A[2, 1], A[2, 2], A[2, 3]]]).T, Matrix([\n",
       "[A[0, 0], A[0, 1], A[0, 2], A[0, 3]],\n",
       "[A[1, 0], A[1, 1], A[1, 2], A[1, 3]],\n",
       "[A[2, 0], A[2, 1], A[2, 2], A[2, 3]]]))"
      ]
     },
     "execution_count": 1,
     "metadata": {},
     "output_type": "execute_result"
    }
   ],
   "source": [
    "diff(A.T, A).replace(A, Matrix(A))#.doit()"
   ]
  },
  {
   "cell_type": "code",
   "execution_count": 35,
   "metadata": {
    "execution": {
     "iopub.execute_input": "2020-09-21T06:45:23.484114Z",
     "iopub.status.busy": "2020-09-21T06:45:23.482684Z",
     "iopub.status.idle": "2020-09-21T06:45:23.610471Z",
     "shell.execute_reply": "2020-09-21T06:45:23.611553Z"
    },
    "lines_to_next_cell": 2,
    "title": "codecell"
   },
   "outputs": [
    {
     "data": {
      "text/latex": [
       "$\\displaystyle \\left[\\begin{matrix}\\left[\\begin{matrix}1 & 0 & 0\\\\0 & 0 & 0\\\\0 & 0 & 0\\\\0 & 0 & 0\\end{matrix}\\right] & \\left[\\begin{matrix}0 & 0 & 0\\\\1 & 0 & 0\\\\0 & 0 & 0\\\\0 & 0 & 0\\end{matrix}\\right] & \\left[\\begin{matrix}0 & 0 & 0\\\\0 & 0 & 0\\\\1 & 0 & 0\\\\0 & 0 & 0\\end{matrix}\\right] & \\left[\\begin{matrix}0 & 0 & 0\\\\0 & 0 & 0\\\\0 & 0 & 0\\\\1 & 0 & 0\\end{matrix}\\right]\\\\\\left[\\begin{matrix}0 & 1 & 0\\\\0 & 0 & 0\\\\0 & 0 & 0\\\\0 & 0 & 0\\end{matrix}\\right] & \\left[\\begin{matrix}0 & 0 & 0\\\\0 & 1 & 0\\\\0 & 0 & 0\\\\0 & 0 & 0\\end{matrix}\\right] & \\left[\\begin{matrix}0 & 0 & 0\\\\0 & 0 & 0\\\\0 & 1 & 0\\\\0 & 0 & 0\\end{matrix}\\right] & \\left[\\begin{matrix}0 & 0 & 0\\\\0 & 0 & 0\\\\0 & 0 & 0\\\\0 & 1 & 0\\end{matrix}\\right]\\\\\\left[\\begin{matrix}0 & 0 & 1\\\\0 & 0 & 0\\\\0 & 0 & 0\\\\0 & 0 & 0\\end{matrix}\\right] & \\left[\\begin{matrix}0 & 0 & 0\\\\0 & 0 & 1\\\\0 & 0 & 0\\\\0 & 0 & 0\\end{matrix}\\right] & \\left[\\begin{matrix}0 & 0 & 0\\\\0 & 0 & 0\\\\0 & 0 & 1\\\\0 & 0 & 0\\end{matrix}\\right] & \\left[\\begin{matrix}0 & 0 & 0\\\\0 & 0 & 0\\\\0 & 0 & 0\\\\0 & 0 & 1\\end{matrix}\\right]\\end{matrix}\\right]$"
      ],
      "text/plain": [
       "[[[[1, 0, 0], [0, 0, 0], [0, 0, 0], [0, 0, 0]], [[0, 0, 0], [1, 0, 0], [0, 0, 0], [0, 0, 0]], [[0, 0, 0], [0, 0, 0], [1, 0, 0], [0, 0, 0]], [[0, 0, 0], [0, 0, 0], [0, 0, 0], [1, 0, 0]]], [[[0, 1, 0], [0, 0, 0], [0, 0, 0], [0, 0, 0]], [[0, 0, 0], [0, 1, 0], [0, 0, 0], [0, 0, 0]], [[0, 0, 0], [0, 0, 0], [0, 1, 0], [0, 0, 0]], [[0, 0, 0], [0, 0, 0], [0, 0, 0], [0, 1, 0]]], [[[0, 0, 1], [0, 0, 0], [0, 0, 0], [0, 0, 0]], [[0, 0, 0], [0, 0, 1], [0, 0, 0], [0, 0, 0]], [[0, 0, 0], [0, 0, 0], [0, 0, 1], [0, 0, 0]], [[0, 0, 0], [0, 0, 0], [0, 0, 0], [0, 0, 1]]]]"
      ]
     },
     "execution_count": 1,
     "metadata": {},
     "output_type": "execute_result"
    }
   ],
   "source": [
    "diff(A.T, A).replace(A, Matrix(A)).doit()"
   ]
  },
  {
   "cell_type": "code",
   "execution_count": 36,
   "metadata": {
    "execution": {
     "iopub.execute_input": "2020-09-21T06:45:23.616563Z",
     "iopub.status.busy": "2020-09-21T06:45:23.615006Z",
     "iopub.status.idle": "2020-09-21T06:45:23.630210Z",
     "shell.execute_reply": "2020-09-21T06:45:23.631280Z"
    },
    "lines_to_next_cell": 0,
    "title": "codecell"
   },
   "outputs": [
    {
     "data": {
      "text/latex": [
       "$\\displaystyle \\left[\\begin{matrix}x_{11} & x_{12} & x_{13} & x_{14}\\\\x_{21} & x_{22} & x_{23} & x_{24}\\\\x_{31} & x_{32} & x_{33} & x_{34}\\end{matrix}\\right]$"
      ],
      "text/plain": [
       "Matrix([\n",
       "[x_11, x_12, x_13, x_14],\n",
       "[x_21, x_22, x_23, x_24],\n",
       "[x_31, x_32, x_33, x_34]])"
      ]
     },
     "execution_count": 1,
     "metadata": {},
     "output_type": "execute_result"
    }
   ],
   "source": [
    "from sympy import Symbol\n",
    "from sympy.abc import b\n",
    "\n",
    "#A = MatrixSymbol('A', 3,4)\n",
    "M = Matrix(3,4, lambda i,j : Symbol('x_{}{}'.format(i+1,j+1)))\n",
    "Matrix(M)"
   ]
  },
  {
   "cell_type": "code",
   "execution_count": 37,
   "metadata": {
    "execution": {
     "iopub.execute_input": "2020-09-21T06:45:23.636162Z",
     "iopub.status.busy": "2020-09-21T06:45:23.634668Z",
     "iopub.status.idle": "2020-09-21T06:45:23.649854Z",
     "shell.execute_reply": "2020-09-21T06:45:23.650966Z"
    },
    "lines_to_next_cell": 0,
    "title": "codecell"
   },
   "outputs": [
    {
     "data": {
      "text/latex": [
       "$\\displaystyle \\left[\\begin{array}{cccc}A_{0, 0} & A_{0, 1} & A_{0, 2} & A_{0, 3}\\\\A_{1, 0} & A_{1, 1} & A_{1, 2} & A_{1, 3}\\\\A_{2, 0} & A_{2, 1} & A_{2, 2} & A_{2, 3}\\end{array}\\right]$"
      ],
      "text/plain": [
       "Matrix([\n",
       "[A[0, 0], A[0, 1], A[0, 2], A[0, 3]],\n",
       "[A[1, 0], A[1, 1], A[1, 2], A[1, 3]],\n",
       "[A[2, 0], A[2, 1], A[2, 2], A[2, 3]]])"
      ]
     },
     "execution_count": 1,
     "metadata": {},
     "output_type": "execute_result"
    }
   ],
   "source": [
    "Matrix(A)"
   ]
  },
  {
   "cell_type": "code",
   "execution_count": 38,
   "metadata": {
    "execution": {
     "iopub.execute_input": "2020-09-21T06:45:23.655665Z",
     "iopub.status.busy": "2020-09-21T06:45:23.654187Z",
     "iopub.status.idle": "2020-09-21T06:45:23.682532Z",
     "shell.execute_reply": "2020-09-21T06:45:23.683617Z"
    },
    "title": "codecell"
   },
   "outputs": [
    {
     "data": {
      "text/latex": [
       "$\\displaystyle \\frac{\\partial}{\\partial f{\\left(\\left[\\begin{matrix}x_{11} & x_{12} & x_{13} & x_{14}\\\\x_{21} & x_{22} & x_{23} & x_{24}\\\\x_{31} & x_{32} & x_{33} & x_{34}\\end{matrix}\\right],b \\right)}} g{\\left(f{\\left(\\left[\\begin{matrix}x_{11} & x_{12} & x_{13} & x_{14}\\\\x_{21} & x_{22} & x_{23} & x_{24}\\\\x_{31} & x_{32} & x_{33} & x_{34}\\end{matrix}\\right],b \\right)} \\right)} \\left(\\frac{\\partial}{\\partial b} f{\\left(\\left[\\begin{matrix}x_{11} & x_{12} & x_{13} & x_{14}\\\\x_{21} & x_{22} & x_{23} & x_{24}\\\\x_{31} & x_{32} & x_{33} & x_{34}\\end{matrix}\\right],b \\right)} + \\left[\\begin{matrix}0 & 0 & 0 & 0\\\\0 & 0 & 0 & 0\\\\0 & 0 & 0 & 0\\end{matrix}\\right]\\right)$"
      ],
      "text/plain": [
       "Derivative(g(f(Matrix([\n",
       "[x_11, x_12, x_13, x_14],\n",
       "[x_21, x_22, x_23, x_24],\n",
       "[x_31, x_32, x_33, x_34]]), b)), f(Matrix([\n",
       "[x_11, x_12, x_13, x_14],\n",
       "[x_21, x_22, x_23, x_24],\n",
       "[x_31, x_32, x_33, x_34]]), b))*(Derivative(f(Matrix([\n",
       "[x_11, x_12, x_13, x_14],\n",
       "[x_21, x_22, x_23, x_24],\n",
       "[x_31, x_32, x_33, x_34]]), b), b) + Matrix([\n",
       "[0, 0, 0, 0],\n",
       "[0, 0, 0, 0],\n",
       "[0, 0, 0, 0]]))"
      ]
     },
     "execution_count": 1,
     "metadata": {},
     "output_type": "execute_result"
    }
   ],
   "source": [
    "g, f = symbols('g f', cls = Function)\n",
    "\n",
    "#__ = lambda mat: mat.T # transposes matrix symbol\n",
    "\n",
    "diff( g(f(M,b)), b)"
   ]
  },
  {
   "cell_type": "code",
   "execution_count": 39,
   "metadata": {
    "execution": {
     "iopub.execute_input": "2020-09-21T06:45:23.688572Z",
     "iopub.status.busy": "2020-09-21T06:45:23.687021Z",
     "iopub.status.idle": "2020-09-21T06:45:23.710710Z",
     "shell.execute_reply": "2020-09-21T06:45:23.711760Z"
    },
    "lines_to_next_cell": 0,
    "title": "codecell"
   },
   "outputs": [
    {
     "data": {
      "text/latex": [
       "$\\displaystyle \\frac{\\partial}{\\partial f{\\left(A,b \\right)}} g{\\left(f{\\left(A,b \\right)} \\right)} \\left(\\frac{\\partial}{\\partial b} f{\\left(A,b \\right)} + \\left[\\begin{matrix}0 & 0 & 0 & 0\\\\0 & 0 & 0 & 0\\\\0 & 0 & 0 & 0\\end{matrix}\\right]\\right)$"
      ],
      "text/plain": [
       "Derivative(g(f(A, b)), f(A, b))*(Derivative(f(A, b), b) + Matrix([\n",
       "[0, 0, 0, 0],\n",
       "[0, 0, 0, 0],\n",
       "[0, 0, 0, 0]]))"
      ]
     },
     "execution_count": 1,
     "metadata": {},
     "output_type": "execute_result"
    }
   ],
   "source": [
    "diff( g(f(M,b)), b).replace(M, A)"
   ]
  },
  {
   "cell_type": "code",
   "execution_count": 40,
   "metadata": {
    "execution": {
     "iopub.execute_input": "2020-09-21T06:45:23.716629Z",
     "iopub.status.busy": "2020-09-21T06:45:23.715115Z",
     "iopub.status.idle": "2020-09-21T06:45:23.793449Z",
     "shell.execute_reply": "2020-09-21T06:45:23.794549Z"
    },
    "lines_to_next_cell": 0,
    "title": "codecell"
   },
   "outputs": [
    {
     "data": {
      "text/latex": [
       "$\\displaystyle \\left[\\begin{matrix}\\left[\\begin{matrix}\\frac{\\partial}{\\partial \\left[\\begin{matrix}d_{11} & d_{12}\\\\d_{21} & d_{22}\\end{matrix}\\right]} f{\\left(\\left[\\begin{matrix}m_{11} & m_{12}\\\\m_{21} & m_{22}\\end{matrix}\\right],\\left[\\begin{matrix}d_{11} & d_{12}\\\\d_{21} & d_{22}\\end{matrix}\\right] \\right)} \\frac{\\partial}{\\partial f{\\left(\\left[\\begin{matrix}m_{11} & m_{12}\\\\m_{21} & m_{22}\\end{matrix}\\right],\\left[\\begin{matrix}d_{11} & d_{12}\\\\d_{21} & d_{22}\\end{matrix}\\right] \\right)}} g{\\left(f{\\left(\\left[\\begin{matrix}m_{11} & m_{12}\\\\m_{21} & m_{22}\\end{matrix}\\right],\\left[\\begin{matrix}d_{11} & d_{12}\\\\d_{21} & d_{22}\\end{matrix}\\right] \\right)} \\right)} & 0\\\\0 & 0\\end{matrix}\\right] & \\left[\\begin{matrix}0 & \\frac{\\partial}{\\partial \\left[\\begin{matrix}d_{11} & d_{12}\\\\d_{21} & d_{22}\\end{matrix}\\right]} f{\\left(\\left[\\begin{matrix}m_{11} & m_{12}\\\\m_{21} & m_{22}\\end{matrix}\\right],\\left[\\begin{matrix}d_{11} & d_{12}\\\\d_{21} & d_{22}\\end{matrix}\\right] \\right)} \\frac{\\partial}{\\partial f{\\left(\\left[\\begin{matrix}m_{11} & m_{12}\\\\m_{21} & m_{22}\\end{matrix}\\right],\\left[\\begin{matrix}d_{11} & d_{12}\\\\d_{21} & d_{22}\\end{matrix}\\right] \\right)}} g{\\left(f{\\left(\\left[\\begin{matrix}m_{11} & m_{12}\\\\m_{21} & m_{22}\\end{matrix}\\right],\\left[\\begin{matrix}d_{11} & d_{12}\\\\d_{21} & d_{22}\\end{matrix}\\right] \\right)} \\right)}\\\\0 & 0\\end{matrix}\\right]\\\\\\left[\\begin{matrix}0 & 0\\\\\\frac{\\partial}{\\partial \\left[\\begin{matrix}d_{11} & d_{12}\\\\d_{21} & d_{22}\\end{matrix}\\right]} f{\\left(\\left[\\begin{matrix}m_{11} & m_{12}\\\\m_{21} & m_{22}\\end{matrix}\\right],\\left[\\begin{matrix}d_{11} & d_{12}\\\\d_{21} & d_{22}\\end{matrix}\\right] \\right)} \\frac{\\partial}{\\partial f{\\left(\\left[\\begin{matrix}m_{11} & m_{12}\\\\m_{21} & m_{22}\\end{matrix}\\right],\\left[\\begin{matrix}d_{11} & d_{12}\\\\d_{21} & d_{22}\\end{matrix}\\right] \\right)}} g{\\left(f{\\left(\\left[\\begin{matrix}m_{11} & m_{12}\\\\m_{21} & m_{22}\\end{matrix}\\right],\\left[\\begin{matrix}d_{11} & d_{12}\\\\d_{21} & d_{22}\\end{matrix}\\right] \\right)} \\right)} & 0\\end{matrix}\\right] & \\left[\\begin{matrix}0 & 0\\\\0 & \\frac{\\partial}{\\partial \\left[\\begin{matrix}d_{11} & d_{12}\\\\d_{21} & d_{22}\\end{matrix}\\right]} f{\\left(\\left[\\begin{matrix}m_{11} & m_{12}\\\\m_{21} & m_{22}\\end{matrix}\\right],\\left[\\begin{matrix}d_{11} & d_{12}\\\\d_{21} & d_{22}\\end{matrix}\\right] \\right)} \\frac{\\partial}{\\partial f{\\left(\\left[\\begin{matrix}m_{11} & m_{12}\\\\m_{21} & m_{22}\\end{matrix}\\right],\\left[\\begin{matrix}d_{11} & d_{12}\\\\d_{21} & d_{22}\\end{matrix}\\right] \\right)}} g{\\left(f{\\left(\\left[\\begin{matrix}m_{11} & m_{12}\\\\m_{21} & m_{22}\\end{matrix}\\right],\\left[\\begin{matrix}d_{11} & d_{12}\\\\d_{21} & d_{22}\\end{matrix}\\right] \\right)} \\right)}\\end{matrix}\\right]\\end{matrix}\\right]$"
      ],
      "text/plain": [
       "Matrix([\n",
       "[Matrix([\n",
       "[Derivative(f(Matrix([\n",
       "[m_11, m_12],\n",
       "[m_21, m_22]]), Matrix([\n",
       "[d_11, d_12],\n",
       "[d_21, d_22]])), Matrix([\n",
       "[d_11, d_12],\n",
       "[d_21, d_22]]))*Derivative(g(f(Matrix([\n",
       "[m_11, m_12],\n",
       "[m_21, m_22]]), Matrix([\n",
       "[d_11, d_12],\n",
       "[d_21, d_22]]))), f(Matrix([\n",
       "[m_11, m_12],\n",
       "[m_21, m_22]]), Matrix([\n",
       "[d_11, d_12],\n",
       "[d_21, d_22]]))), 0],\n",
       "[                                                                                                                                                                                                                                                                                                                 0, 0]]), Matrix([\n",
       "[0, Derivative(f(Matrix([\n",
       "[m_11, m_12],\n",
       "[m_21, m_22]]), Matrix([\n",
       "[d_11, d_12],\n",
       "[d_21, d_22]])), Matrix([\n",
       "[d_11, d_12],\n",
       "[d_21, d_22]]))*Derivative(g(f(Matrix([\n",
       "[m_11, m_12],\n",
       "[m_21, m_22]]), Matrix([\n",
       "[d_11, d_12],\n",
       "[d_21, d_22]]))), f(Matrix([\n",
       "[m_11, m_12],\n",
       "[m_21, m_22]]), Matrix([\n",
       "[d_11, d_12],\n",
       "[d_21, d_22]])))],\n",
       "[0,                                                                                                                                                                                                                                                                                                                  0]])],\n",
       "[Matrix([\n",
       "[                                                                                                                                                                                                                                                                                                                 0, 0],\n",
       "[Derivative(f(Matrix([\n",
       "[m_11, m_12],\n",
       "[m_21, m_22]]), Matrix([\n",
       "[d_11, d_12],\n",
       "[d_21, d_22]])), Matrix([\n",
       "[d_11, d_12],\n",
       "[d_21, d_22]]))*Derivative(g(f(Matrix([\n",
       "[m_11, m_12],\n",
       "[m_21, m_22]]), Matrix([\n",
       "[d_11, d_12],\n",
       "[d_21, d_22]]))), f(Matrix([\n",
       "[m_11, m_12],\n",
       "[m_21, m_22]]), Matrix([\n",
       "[d_11, d_12],\n",
       "[d_21, d_22]]))), 0]]), Matrix([\n",
       "[0,                                                                                                                                                                                                                                                                                                                  0],\n",
       "[0, Derivative(f(Matrix([\n",
       "[m_11, m_12],\n",
       "[m_21, m_22]]), Matrix([\n",
       "[d_11, d_12],\n",
       "[d_21, d_22]])), Matrix([\n",
       "[d_11, d_12],\n",
       "[d_21, d_22]]))*Derivative(g(f(Matrix([\n",
       "[m_11, m_12],\n",
       "[m_21, m_22]]), Matrix([\n",
       "[d_11, d_12],\n",
       "[d_21, d_22]]))), f(Matrix([\n",
       "[m_11, m_12],\n",
       "[m_21, m_22]]), Matrix([\n",
       "[d_11, d_12],\n",
       "[d_21, d_22]])))]])]])"
      ]
     },
     "execution_count": 1,
     "metadata": {},
     "output_type": "execute_result"
    }
   ],
   "source": [
    "Ms = MatrixSymbol('M',2,2)\n",
    "Ds = MatrixSymbol('D',2,2)\n",
    "M = Matrix(2,2, lambda i,j: Symbol(\"m_{}{}\".format(i+1,j+1)))\n",
    "D = Matrix(2,2, lambda i,j: Symbol(\"d_{}{}\".format(i+1,j+1)))\n",
    "\n",
    "diff( g(f(M, D)), D )"
   ]
  },
  {
   "cell_type": "code",
   "execution_count": 41,
   "metadata": {
    "execution": {
     "iopub.execute_input": "2020-09-21T06:45:23.799534Z",
     "iopub.status.busy": "2020-09-21T06:45:23.798080Z",
     "iopub.status.idle": "2020-09-21T06:45:23.887797Z",
     "shell.execute_reply": "2020-09-21T06:45:23.888946Z"
    },
    "lines_to_next_cell": 0,
    "title": "codecell"
   },
   "outputs": [
    {
     "data": {
      "text/latex": [
       "$\\displaystyle \\left[\\begin{matrix}\\left[\\begin{matrix}\\frac{\\partial}{\\partial D} f{\\left(M,D \\right)} \\frac{\\partial}{\\partial f{\\left(M,D \\right)}} g{\\left(f{\\left(M,D \\right)} \\right)} & 0\\\\0 & 0\\end{matrix}\\right] & \\left[\\begin{matrix}0 & \\frac{\\partial}{\\partial D} f{\\left(M,D \\right)} \\frac{\\partial}{\\partial f{\\left(M,D \\right)}} g{\\left(f{\\left(M,D \\right)} \\right)}\\\\0 & 0\\end{matrix}\\right]\\\\\\left[\\begin{matrix}0 & 0\\\\\\frac{\\partial}{\\partial D} f{\\left(M,D \\right)} \\frac{\\partial}{\\partial f{\\left(M,D \\right)}} g{\\left(f{\\left(M,D \\right)} \\right)} & 0\\end{matrix}\\right] & \\left[\\begin{matrix}0 & 0\\\\0 & \\frac{\\partial}{\\partial D} f{\\left(M,D \\right)} \\frac{\\partial}{\\partial f{\\left(M,D \\right)}} g{\\left(f{\\left(M,D \\right)} \\right)}\\end{matrix}\\right]\\end{matrix}\\right]$"
      ],
      "text/plain": [
       "Matrix([\n",
       "[Matrix([\n",
       "[Derivative(f(M, D), D)*Derivative(g(f(M, D)), f(M, D)), 0],\n",
       "[                                                     0, 0]]), Matrix([\n",
       "[0, Derivative(f(M, D), D)*Derivative(g(f(M, D)), f(M, D))],\n",
       "[0,                                                      0]])],\n",
       "[Matrix([\n",
       "[                                                     0, 0],\n",
       "[Derivative(f(M, D), D)*Derivative(g(f(M, D)), f(M, D)), 0]]), Matrix([\n",
       "[0,                                                      0],\n",
       "[0, Derivative(f(M, D), D)*Derivative(g(f(M, D)), f(M, D))]])]])"
      ]
     },
     "execution_count": 1,
     "metadata": {},
     "output_type": "execute_result"
    }
   ],
   "source": [
    "diff( g(f(M, D)), D ).replace(D, Ds).replace(M, Ms)"
   ]
  },
  {
   "cell_type": "code",
   "execution_count": 42,
   "metadata": {
    "execution": {
     "iopub.execute_input": "2020-09-21T06:45:23.893920Z",
     "iopub.status.busy": "2020-09-21T06:45:23.892326Z",
     "iopub.status.idle": "2020-09-21T06:45:23.917043Z",
     "shell.execute_reply": "2020-09-21T06:45:23.918139Z"
    },
    "title": "codecell"
   },
   "outputs": [
    {
     "data": {
      "text/latex": [
       "$\\displaystyle \\left[\\begin{matrix}\\left[\\begin{matrix}1 & 0\\\\0 & 0\\end{matrix}\\right] & \\left[\\begin{matrix}0 & 1\\\\0 & 0\\end{matrix}\\right]\\\\\\left[\\begin{matrix}0 & 0\\\\1 & 0\\end{matrix}\\right] & \\left[\\begin{matrix}0 & 0\\\\0 & 1\\end{matrix}\\right]\\end{matrix}\\right]$"
      ],
      "text/plain": [
       "[[[[1, 0], [0, 0]], [[0, 1], [0, 0]]], [[[0, 0], [1, 0]], [[0, 0], [0, 1]]]]"
      ]
     },
     "execution_count": 1,
     "metadata": {},
     "output_type": "execute_result"
    }
   ],
   "source": [
    "diff(Ds,Ds).replace(Ds,D).doit()"
   ]
  },
  {
   "cell_type": "code",
   "execution_count": 43,
   "metadata": {
    "execution": {
     "iopub.execute_input": "2020-09-21T06:45:23.923100Z",
     "iopub.status.busy": "2020-09-21T06:45:23.921615Z",
     "iopub.status.idle": "2020-09-21T06:45:23.927528Z",
     "shell.execute_reply": "2020-09-21T06:45:23.928613Z"
    },
    "lines_to_next_cell": 0,
    "title": "codecell"
   },
   "outputs": [],
   "source": [
    "#diff( g(f(Ms, Ds.T)), Ds )#.replace(Ds.T, Ds)"
   ]
  },
  {
   "cell_type": "code",
   "execution_count": 44,
   "metadata": {
    "lines_to_next_cell": 0,
    "title": "codecell"
   },
   "outputs": [],
   "source": []
  },
  {
   "cell_type": "code",
   "execution_count": 44,
   "metadata": {
    "lines_to_next_cell": 0,
    "title": "codecell"
   },
   "outputs": [],
   "source": []
  },
  {
   "cell_type": "code",
   "execution_count": 44,
   "metadata": {
    "title": "codecell"
   },
   "outputs": [],
   "source": []
  }
 ],
 "metadata": {
  "jupytext": {
   "cell_metadata_filter": "title,-all"
  },
  "kernelspec": {
   "display_name": "pymatrix_env",
   "language": "python",
   "name": "pymatrix_env"
  },
  "language_info": {
   "codemirror_mode": {
    "name": "ipython",
    "version": 3
   },
   "file_extension": ".py",
   "mimetype": "text/x-python",
   "name": "python",
   "nbconvert_exporter": "python",
   "pygments_lexer": "ipython3",
   "version": "3.7.8"
  }
 },
 "nbformat": 4,
 "nbformat_minor": 4
}
