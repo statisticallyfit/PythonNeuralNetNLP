{
 "cells": [
  {
   "cell_type": "code",
   "execution_count": 1,
   "metadata": {
    "execution": {
     "iopub.execute_input": "2020-09-30T07:20:10.040667Z",
     "iopub.status.busy": "2020-09-30T07:20:10.035521Z",
     "iopub.status.idle": "2020-09-30T07:20:10.806811Z",
     "shell.execute_reply": "2020-09-30T07:20:10.807904Z"
    },
    "lines_to_next_cell": 1,
    "title": "codecell"
   },
   "outputs": [],
   "source": [
    "from sympy import Matrix, Symbol, derive_by_array, Lambda, symbols, Derivative, diff\n",
    "from sympy.abc import x, y, i, j, a, b"
   ]
  },
  {
   "cell_type": "markdown",
   "execution_count": 2,
   "metadata": {
    "lines_to_next_cell": 0,
    "title": "markdown"
   },
   "source": [
    "\n",
    "Defining variable-element matrices $X \\in \\mathbb{R}^{n \\times m}$ and $W \\in \\mathbb{R}^{m \\times p}$:"
   ]
  },
  {
   "cell_type": "code",
   "execution_count": 2,
   "metadata": {
    "execution": {
     "iopub.execute_input": "2020-09-30T07:20:10.816978Z",
     "iopub.status.busy": "2020-09-30T07:20:10.811733Z",
     "iopub.status.idle": "2020-09-30T07:20:10.841940Z",
     "shell.execute_reply": "2020-09-30T07:20:10.843039Z"
    },
    "lines_to_next_cell": 0,
    "title": "codecell"
   },
   "outputs": [
    {
     "data": {
      "text/latex": [
       "$\\displaystyle \\left[\\begin{matrix}x_{11} & x_{12} & x_{13}\\\\x_{21} & x_{22} & x_{23}\\\\x_{31} & x_{32} & x_{33}\\end{matrix}\\right]$"
      ],
      "text/plain": [
       "Matrix([\n",
       "[x_11, x_12, x_13],\n",
       "[x_21, x_22, x_23],\n",
       "[x_31, x_32, x_33]])"
      ]
     },
     "execution_count": 1,
     "metadata": {},
     "output_type": "execute_result"
    }
   ],
   "source": [
    "def var(letter: str, i: int, j: int) -> Symbol:\n",
    "    letter_ij = Symbol('{}_{}{}'.format(letter, i+1, j+1), is_commutative=True)\n",
    "    return letter_ij\n",
    "\n",
    "\n",
    "n,m,p = 3,3,2\n",
    "\n",
    "X = Matrix(n, m, lambda i,j : var('x', i, j)); X"
   ]
  },
  {
   "cell_type": "code",
   "execution_count": 3,
   "metadata": {
    "execution": {
     "iopub.execute_input": "2020-09-30T07:20:10.852959Z",
     "iopub.status.busy": "2020-09-30T07:20:10.846507Z",
     "iopub.status.idle": "2020-09-30T07:20:10.859425Z",
     "shell.execute_reply": "2020-09-30T07:20:10.860510Z"
    },
    "title": "codecell"
   },
   "outputs": [
    {
     "data": {
      "text/latex": [
       "$\\displaystyle \\left[\\begin{matrix}w_{11} & w_{12}\\\\w_{21} & w_{22}\\\\w_{31} & w_{32}\\end{matrix}\\right]$"
      ],
      "text/plain": [
       "Matrix([\n",
       "[w_11, w_12],\n",
       "[w_21, w_22],\n",
       "[w_31, w_32]])"
      ]
     },
     "execution_count": 1,
     "metadata": {},
     "output_type": "execute_result"
    }
   ],
   "source": [
    "W = Matrix(m, p, lambda i,j : var('w', i, j)); W"
   ]
  },
  {
   "cell_type": "markdown",
   "execution_count": 4,
   "metadata": {
    "lines_to_next_cell": 0,
    "title": "markdown"
   },
   "source": [
    "Defining $N = \\nu(X, W) = X \\times W$\n",
    "\n",
    "* $\\nu : \\mathbb{R}^{(n \\times m) \\times (m \\times p)} \\rightarrow \\mathbb{R}^{n \\times p}$\n",
    "* $N \\in \\mathbb{R}^{n \\times p}$"
   ]
  },
  {
   "cell_type": "code",
   "execution_count": 4,
   "metadata": {
    "execution": {
     "iopub.execute_input": "2020-09-30T07:20:10.865551Z",
     "iopub.status.busy": "2020-09-30T07:20:10.863936Z",
     "iopub.status.idle": "2020-09-30T07:20:11.535659Z",
     "shell.execute_reply": "2020-09-30T07:20:11.536835Z"
    },
    "title": "codecell"
   },
   "outputs": [
    {
     "data": {
      "text/latex": [
       "$\\displaystyle \\left( \\left( a, \\  b\\right) \\mapsto a b \\right)$"
      ],
      "text/plain": [
       "Lambda((a, b), a*b)"
      ]
     },
     "execution_count": 1,
     "metadata": {},
     "output_type": "execute_result"
    }
   ],
   "source": [
    "v = Lambda((a,b), a*b); v"
   ]
  },
  {
   "cell_type": "code",
   "execution_count": 5,
   "metadata": {
    "execution": {
     "iopub.execute_input": "2020-09-30T07:20:11.541798Z",
     "iopub.status.busy": "2020-09-30T07:20:11.540334Z",
     "iopub.status.idle": "2020-09-30T07:20:11.578955Z",
     "shell.execute_reply": "2020-09-30T07:20:11.580031Z"
    },
    "title": "codecell"
   },
   "outputs": [
    {
     "data": {
      "text/latex": [
       "$\\displaystyle \\left[\\begin{matrix}w_{11} x_{11} + w_{21} x_{12} + w_{31} x_{13} & w_{12} x_{11} + w_{22} x_{12} + w_{32} x_{13}\\\\w_{11} x_{21} + w_{21} x_{22} + w_{31} x_{23} & w_{12} x_{21} + w_{22} x_{22} + w_{32} x_{23}\\\\w_{11} x_{31} + w_{21} x_{32} + w_{31} x_{33} & w_{12} x_{31} + w_{22} x_{32} + w_{32} x_{33}\\end{matrix}\\right]$"
      ],
      "text/plain": [
       "Matrix([\n",
       "[w_11*x_11 + w_21*x_12 + w_31*x_13, w_12*x_11 + w_22*x_12 + w_32*x_13],\n",
       "[w_11*x_21 + w_21*x_22 + w_31*x_23, w_12*x_21 + w_22*x_22 + w_32*x_23],\n",
       "[w_11*x_31 + w_21*x_32 + w_31*x_33, w_12*x_31 + w_22*x_32 + w_32*x_33]])"
      ]
     },
     "execution_count": 1,
     "metadata": {},
     "output_type": "execute_result"
    }
   ],
   "source": [
    "N = v(X, W); N"
   ]
  },
  {
   "cell_type": "markdown",
   "execution_count": 6,
   "metadata": {
    "lines_to_next_cell": 0,
    "title": "markdown"
   },
   "source": [
    "\n",
    "Defining $S = \\sigma_{\\text{apply}}(N) = \\sigma_{\\text{apply}}(\\nu(X,W)) = \\sigma_\\text{apply}(X \\times W) = \\Big \\{ \\sigma(XW_{ij}) \\Big\\}$.\n",
    "\n",
    "\n",
    "Assume that $\\sigma_{\\text{apply}} : \\mathbb{R}^{n \\times p} \\rightarrow \\mathbb{R}^{n \\times p}$ while $\\sigma : \\mathbb{R} \\rightarrow \\mathbb{R}$, so the function $\\sigma_{\\text{apply}}$ takes in a matrix and returns a matrix while the simple $\\sigma$ acts on the individual elements $N_{ij} = XW_{ij}$ in the matrix argument $N$ of $\\sigma_{\\text{apply}}$.\n",
    "\n",
    "* $\\sigma : \\mathbb{R} \\rightarrow \\mathbb{R}$\n",
    "* $\\sigma_\\text{apply} : \\mathbb{R}^{n \\times p} \\rightarrow \\mathbb{R}^{n \\times p}$\n",
    "* $S \\in \\mathbb{R}^{n \\times p}$"
   ]
  },
  {
   "cell_type": "code",
   "execution_count": 6,
   "metadata": {
    "execution": {
     "iopub.execute_input": "2020-09-30T07:20:11.584963Z",
     "iopub.status.busy": "2020-09-30T07:20:11.583439Z",
     "iopub.status.idle": "2020-09-30T07:20:11.597273Z",
     "shell.execute_reply": "2020-09-30T07:20:11.598339Z"
    },
    "title": "codecell"
   },
   "outputs": [
    {
     "data": {
      "text/latex": [
       "$\\displaystyle \\sigma{\\left(w_{11} x_{11} + w_{21} x_{12} + w_{31} x_{13} \\right)}$"
      ],
      "text/plain": [
       "sigma(w_11*x_11 + w_21*x_12 + w_31*x_13)"
      ]
     },
     "execution_count": 1,
     "metadata": {},
     "output_type": "execute_result"
    }
   ],
   "source": [
    "from sympy import Function\n",
    "\n",
    "# Nvec = Symbol('N', commutative=False)\n",
    "\n",
    "sigma = Function('sigma')\n",
    "sigma(N[0,0])"
   ]
  },
  {
   "cell_type": "code",
   "execution_count": 7,
   "metadata": {
    "execution": {
     "iopub.execute_input": "2020-09-30T07:20:11.603342Z",
     "iopub.status.busy": "2020-09-30T07:20:11.601825Z",
     "iopub.status.idle": "2020-09-30T07:20:11.629821Z",
     "shell.execute_reply": "2020-09-30T07:20:11.630916Z"
    },
    "lines_to_next_cell": 0,
    "title": "codecell"
   },
   "outputs": [
    {
     "data": {
      "text/latex": [
       "$\\displaystyle \\left[\\begin{matrix}\\sigma{\\left(w_{11} x_{11} + w_{21} x_{12} + w_{31} x_{13} \\right)} & \\sigma{\\left(w_{12} x_{11} + w_{22} x_{12} + w_{32} x_{13} \\right)}\\\\\\sigma{\\left(w_{11} x_{21} + w_{21} x_{22} + w_{31} x_{23} \\right)} & \\sigma{\\left(w_{12} x_{21} + w_{22} x_{22} + w_{32} x_{23} \\right)}\\\\\\sigma{\\left(w_{11} x_{31} + w_{21} x_{32} + w_{31} x_{33} \\right)} & \\sigma{\\left(w_{12} x_{31} + w_{22} x_{32} + w_{32} x_{33} \\right)}\\end{matrix}\\right]$"
      ],
      "text/plain": [
       "Matrix([\n",
       "[sigma(w_11*x_11 + w_21*x_12 + w_31*x_13), sigma(w_12*x_11 + w_22*x_12 + w_32*x_13)],\n",
       "[sigma(w_11*x_21 + w_21*x_22 + w_31*x_23), sigma(w_12*x_21 + w_22*x_22 + w_32*x_23)],\n",
       "[sigma(w_11*x_31 + w_21*x_32 + w_31*x_33), sigma(w_12*x_31 + w_22*x_32 + w_32*x_33)]])"
      ]
     },
     "execution_count": 1,
     "metadata": {},
     "output_type": "execute_result"
    }
   ],
   "source": [
    "# way 1 of declaring S\n",
    "S = N.applyfunc(sigma); S\n",
    "#type(S)\n",
    "#Matrix(3, 2, lambda i, j: sigma(N[i,j]))"
   ]
  },
  {
   "cell_type": "code",
   "execution_count": 8,
   "metadata": {
    "execution": {
     "iopub.execute_input": "2020-09-30T07:20:11.635704Z",
     "iopub.status.busy": "2020-09-30T07:20:11.634220Z",
     "iopub.status.idle": "2020-09-30T07:20:11.661651Z",
     "shell.execute_reply": "2020-09-30T07:20:11.662730Z"
    },
    "title": "codecell"
   },
   "outputs": [
    {
     "data": {
      "text/latex": [
       "$\\displaystyle \\left[\\begin{matrix}\\sigma{\\left(w_{11} x_{11} + w_{21} x_{12} + w_{31} x_{13} \\right)} & \\sigma{\\left(w_{12} x_{11} + w_{22} x_{12} + w_{32} x_{13} \\right)}\\\\\\sigma{\\left(w_{11} x_{21} + w_{21} x_{22} + w_{31} x_{23} \\right)} & \\sigma{\\left(w_{12} x_{21} + w_{22} x_{22} + w_{32} x_{23} \\right)}\\\\\\sigma{\\left(w_{11} x_{31} + w_{21} x_{32} + w_{31} x_{33} \\right)} & \\sigma{\\left(w_{12} x_{31} + w_{22} x_{32} + w_{32} x_{33} \\right)}\\end{matrix}\\right]$"
      ],
      "text/plain": [
       "Matrix([\n",
       "[sigma(w_11*x_11 + w_21*x_12 + w_31*x_13), sigma(w_12*x_11 + w_22*x_12 + w_32*x_13)],\n",
       "[sigma(w_11*x_21 + w_21*x_22 + w_31*x_23), sigma(w_12*x_21 + w_22*x_22 + w_32*x_23)],\n",
       "[sigma(w_11*x_31 + w_21*x_32 + w_31*x_33), sigma(w_12*x_31 + w_22*x_32 + w_32*x_33)]])"
      ]
     },
     "execution_count": 1,
     "metadata": {},
     "output_type": "execute_result"
    }
   ],
   "source": [
    "# way 2 of declaring S (better way)\n",
    "sigmaApply = lambda matrix:  matrix.applyfunc(sigma)\n",
    "\n",
    "sigmaApply(N)"
   ]
  },
  {
   "cell_type": "code",
   "execution_count": 9,
   "metadata": {
    "execution": {
     "iopub.execute_input": "2020-09-30T07:20:11.667693Z",
     "iopub.status.busy": "2020-09-30T07:20:11.666192Z",
     "iopub.status.idle": "2020-09-30T07:20:11.716087Z",
     "shell.execute_reply": "2020-09-30T07:20:11.717160Z"
    },
    "lines_to_next_cell": 0,
    "title": "codecell"
   },
   "outputs": [
    {
     "data": {
      "text/latex": [
       "$\\displaystyle \\left[\\begin{matrix}\\sigma{\\left(x_{11}^{2} + x_{12} x_{21} + x_{13} x_{31} \\right)} & \\sigma{\\left(x_{11} x_{12} + x_{12} x_{22} + x_{13} x_{32} \\right)} & \\sigma{\\left(x_{11} x_{13} + x_{12} x_{23} + x_{13} x_{33} \\right)}\\\\\\sigma{\\left(x_{11} x_{21} + x_{21} x_{22} + x_{23} x_{31} \\right)} & \\sigma{\\left(x_{12} x_{21} + x_{22}^{2} + x_{23} x_{32} \\right)} & \\sigma{\\left(x_{13} x_{21} + x_{22} x_{23} + x_{23} x_{33} \\right)}\\\\\\sigma{\\left(x_{11} x_{31} + x_{21} x_{32} + x_{31} x_{33} \\right)} & \\sigma{\\left(x_{12} x_{31} + x_{22} x_{32} + x_{32} x_{33} \\right)} & \\sigma{\\left(x_{13} x_{31} + x_{23} x_{32} + x_{33}^{2} \\right)}\\end{matrix}\\right]$"
      ],
      "text/plain": [
       "Matrix([\n",
       "[  sigma(x_11**2 + x_12*x_21 + x_13*x_31), sigma(x_11*x_12 + x_12*x_22 + x_13*x_32), sigma(x_11*x_13 + x_12*x_23 + x_13*x_33)],\n",
       "[sigma(x_11*x_21 + x_21*x_22 + x_23*x_31),   sigma(x_12*x_21 + x_22**2 + x_23*x_32), sigma(x_13*x_21 + x_22*x_23 + x_23*x_33)],\n",
       "[sigma(x_11*x_31 + x_21*x_32 + x_31*x_33), sigma(x_12*x_31 + x_22*x_32 + x_32*x_33),   sigma(x_13*x_31 + x_23*x_32 + x_33**2)]])"
      ]
     },
     "execution_count": 1,
     "metadata": {},
     "output_type": "execute_result"
    }
   ],
   "source": [
    "sigmaApply(X**2) # can apply this function to any matrix argument."
   ]
  },
  {
   "cell_type": "code",
   "execution_count": 10,
   "metadata": {
    "execution": {
     "iopub.execute_input": "2020-09-30T07:20:11.721920Z",
     "iopub.status.busy": "2020-09-30T07:20:11.720414Z",
     "iopub.status.idle": "2020-09-30T07:20:11.750158Z",
     "shell.execute_reply": "2020-09-30T07:20:11.751242Z"
    },
    "title": "codecell"
   },
   "outputs": [
    {
     "data": {
      "text/latex": [
       "$\\displaystyle \\left[\\begin{matrix}\\sigma{\\left(w_{11} x_{11} + w_{21} x_{12} + w_{31} x_{13} \\right)} & \\sigma{\\left(w_{12} x_{11} + w_{22} x_{12} + w_{32} x_{13} \\right)}\\\\\\sigma{\\left(w_{11} x_{21} + w_{21} x_{22} + w_{31} x_{23} \\right)} & \\sigma{\\left(w_{12} x_{21} + w_{22} x_{22} + w_{32} x_{23} \\right)}\\\\\\sigma{\\left(w_{11} x_{31} + w_{21} x_{32} + w_{31} x_{33} \\right)} & \\sigma{\\left(w_{12} x_{31} + w_{22} x_{32} + w_{32} x_{33} \\right)}\\end{matrix}\\right]$"
      ],
      "text/plain": [
       "Matrix([\n",
       "[sigma(w_11*x_11 + w_21*x_12 + w_31*x_13), sigma(w_12*x_11 + w_22*x_12 + w_32*x_13)],\n",
       "[sigma(w_11*x_21 + w_21*x_22 + w_31*x_23), sigma(w_12*x_21 + w_22*x_22 + w_32*x_23)],\n",
       "[sigma(w_11*x_31 + w_21*x_32 + w_31*x_33), sigma(w_12*x_31 + w_22*x_32 + w_32*x_33)]])"
      ]
     },
     "execution_count": 1,
     "metadata": {},
     "output_type": "execute_result"
    }
   ],
   "source": [
    "S = sigmaApply(v(X,W)) # composing\n",
    "S"
   ]
  },
  {
   "cell_type": "markdown",
   "execution_count": 11,
   "metadata": {
    "lines_to_next_cell": 0,
    "title": "markdown"
   },
   "source": [
    "Defining $L = \\Lambda(S) = \\Lambda(\\sigma_\\text{apply}(\\nu(X,W))) = \\Lambda \\Big(\\Big \\{ \\sigma(XW_{ij}) \\Big\\} \\Big)$. In general, let the function be defined as:\n",
    "$$\n",
    "\\begin{align}\n",
    "L &= \\Lambda \\begin{pmatrix}\n",
    "   \\sigma(XW_{11}) & \\sigma(XW_{12}) & ... & \\sigma(XW_{1p}) \\\\\n",
    "   \\sigma(XW_{21}) & \\sigma(XW_{22}) & ... & \\sigma(XW_{2p}) \\\\\n",
    "   \\vdots & \\vdots & & \\vdots \\\\\n",
    "   \\sigma(XW_{n1}) & \\sigma(XW_{n2}) & ... & \\sigma(XW_{np})\n",
    "\\end{pmatrix} \\\\\n",
    "\n",
    "&= \\sum_{i=1}^p \\sum_{j = 1}^n  \\sigma(XW_{ij}) \\\\\n",
    "\n",
    "&= \\sigma(XW_{11}) + \\sigma{XW_{12}} + ... + \\sigma(XW_{np})\n",
    "\\end{align}\n",
    "$$\n",
    "* $\\Lambda: \\mathbb{R}^{n \\times p} \\rightarrow \\mathbb{R}$\n",
    "* $L \\in \\mathbb{R}$"
   ]
  },
  {
   "cell_type": "code",
   "execution_count": 11,
   "metadata": {
    "execution": {
     "iopub.execute_input": "2020-09-30T07:20:11.756482Z",
     "iopub.status.busy": "2020-09-30T07:20:11.754948Z",
     "iopub.status.idle": "2020-09-30T07:20:11.799504Z",
     "shell.execute_reply": "2020-09-30T07:20:11.800706Z"
    },
    "lines_to_next_cell": 0,
    "title": "codecell"
   },
   "outputs": [
    {
     "data": {
      "text/latex": [
       "$\\displaystyle \\sigma{\\left(w_{11} x_{11} + w_{21} x_{12} + w_{31} x_{13} \\right)} + \\sigma{\\left(w_{11} x_{21} + w_{21} x_{22} + w_{31} x_{23} \\right)} + \\sigma{\\left(w_{11} x_{31} + w_{21} x_{32} + w_{31} x_{33} \\right)} + \\sigma{\\left(w_{12} x_{11} + w_{22} x_{12} + w_{32} x_{13} \\right)} + \\sigma{\\left(w_{12} x_{21} + w_{22} x_{22} + w_{32} x_{23} \\right)} + \\sigma{\\left(w_{12} x_{31} + w_{22} x_{32} + w_{32} x_{33} \\right)}$"
      ],
      "text/plain": [
       "sigma(w_11*x_11 + w_21*x_12 + w_31*x_13) + sigma(w_11*x_21 + w_21*x_22 + w_31*x_23) + sigma(w_11*x_31 + w_21*x_32 + w_31*x_33) + sigma(w_12*x_11 + w_22*x_12 + w_32*x_13) + sigma(w_12*x_21 + w_22*x_22 + w_32*x_23) + sigma(w_12*x_31 + w_22*x_32 + w_32*x_33)"
      ]
     },
     "execution_count": 1,
     "metadata": {},
     "output_type": "execute_result"
    }
   ],
   "source": [
    "lambdaF = lambda matrix : sum(matrix)\n",
    "lambdaF(S)"
   ]
  },
  {
   "cell_type": "code",
   "execution_count": 12,
   "metadata": {
    "execution": {
     "iopub.execute_input": "2020-09-30T07:20:11.805916Z",
     "iopub.status.busy": "2020-09-30T07:20:11.804371Z",
     "iopub.status.idle": "2020-09-30T07:20:11.835107Z",
     "shell.execute_reply": "2020-09-30T07:20:11.836212Z"
    },
    "lines_to_next_cell": 2,
    "title": "codecell"
   },
   "outputs": [
    {
     "data": {
      "text/latex": [
       "$\\displaystyle \\sigma{\\left(w_{11} x_{11} + w_{21} x_{12} + w_{31} x_{13} \\right)} + \\sigma{\\left(w_{11} x_{21} + w_{21} x_{22} + w_{31} x_{23} \\right)} + \\sigma{\\left(w_{11} x_{31} + w_{21} x_{32} + w_{31} x_{33} \\right)} + \\sigma{\\left(w_{12} x_{11} + w_{22} x_{12} + w_{32} x_{13} \\right)} + \\sigma{\\left(w_{12} x_{21} + w_{22} x_{22} + w_{32} x_{23} \\right)} + \\sigma{\\left(w_{12} x_{31} + w_{22} x_{32} + w_{32} x_{33} \\right)}$"
      ],
      "text/plain": [
       "sigma(w_11*x_11 + w_21*x_12 + w_31*x_13) + sigma(w_11*x_21 + w_21*x_22 + w_31*x_23) + sigma(w_11*x_31 + w_21*x_32 + w_31*x_33) + sigma(w_12*x_11 + w_22*x_12 + w_32*x_13) + sigma(w_12*x_21 + w_22*x_22 + w_32*x_23) + sigma(w_12*x_31 + w_22*x_32 + w_32*x_33)"
      ]
     },
     "execution_count": 1,
     "metadata": {},
     "output_type": "execute_result"
    }
   ],
   "source": [
    "L = lambdaF(sigmaApply(v(X, W)))\n",
    "L\n",
    "#L = lambda mat1, mat2: lambdaF(sigmaApply(v(mat1, mat2)))\n",
    "#L(X, W)"
   ]
  },
  {
   "cell_type": "markdown",
   "execution_count": 13,
   "metadata": {
    "lines_to_next_cell": 0,
    "title": "markdown"
   },
   "source": []
  },
  {
   "cell_type": "code",
   "execution_count": 13,
   "metadata": {
    "execution": {
     "iopub.execute_input": "2020-09-30T07:20:11.841402Z",
     "iopub.status.busy": "2020-09-30T07:20:11.839844Z",
     "iopub.status.idle": "2020-09-30T07:20:11.845604Z",
     "shell.execute_reply": "2020-09-30T07:20:11.846657Z"
    },
    "lines_to_next_cell": 0,
    "title": "codecell"
   },
   "outputs": [],
   "source": [
    "#derive_by_array(L, X)"
   ]
  },
  {
   "cell_type": "code",
   "execution_count": 14,
   "metadata": {
    "execution": {
     "iopub.execute_input": "2020-09-30T07:20:11.851558Z",
     "iopub.status.busy": "2020-09-30T07:20:11.849884Z",
     "iopub.status.idle": "2020-09-30T07:20:11.888867Z",
     "shell.execute_reply": "2020-09-30T07:20:11.889926Z"
    },
    "lines_to_next_cell": 0,
    "title": "codecell"
   },
   "outputs": [
    {
     "data": {
      "text/latex": [
       "$\\displaystyle \\left[\\begin{matrix}1 & 1\\\\1 & 1\\\\1 & 1\\end{matrix}\\right]$"
      ],
      "text/plain": [
       "[[1, 1], [1, 1], [1, 1]]"
      ]
     },
     "execution_count": 1,
     "metadata": {},
     "output_type": "execute_result"
    }
   ],
   "source": [
    "derive_by_array(L, S)"
   ]
  },
  {
   "cell_type": "code",
   "execution_count": 15,
   "metadata": {
    "execution": {
     "iopub.execute_input": "2020-09-30T07:20:11.895024Z",
     "iopub.status.busy": "2020-09-30T07:20:11.893464Z",
     "iopub.status.idle": "2020-09-30T07:20:12.127579Z",
     "shell.execute_reply": "2020-09-30T07:20:12.128710Z"
    },
    "title": "codecell"
   },
   "outputs": [
    {
     "data": {
      "text/plain": [
       "16"
      ]
     },
     "execution_count": 1,
     "metadata": {},
     "output_type": "execute_result"
    }
   ],
   "source": [
    "from sympy import sympify, lambdify\n",
    "n = lambdify((X[0,0],X[0,1],X[0,2],W[0,0],W[1,0],W[2,0]), N[0,0])\n",
    "n(1,2,3,4,3,2)"
   ]
  },
  {
   "cell_type": "code",
   "execution_count": 16,
   "metadata": {
    "execution": {
     "iopub.execute_input": "2020-09-30T07:20:12.133484Z",
     "iopub.status.busy": "2020-09-30T07:20:12.131959Z",
     "iopub.status.idle": "2020-09-30T07:20:12.145775Z",
     "shell.execute_reply": "2020-09-30T07:20:12.146831Z"
    },
    "lines_to_next_cell": 0,
    "title": "codecell"
   },
   "outputs": [
    {
     "data": {
      "text/latex": [
       "$\\displaystyle f{\\left(w_{11} x_{11} + w_{21} x_{12} + w_{31} x_{13} \\right)}$"
      ],
      "text/plain": [
       "f(w_11*x_11 + w_21*x_12 + w_31*x_13)"
      ]
     },
     "execution_count": 1,
     "metadata": {},
     "output_type": "execute_result"
    }
   ],
   "source": [
    "f = Function('f') #(sympify(N[0,0]))\n",
    "f(N[0,0])"
   ]
  },
  {
   "cell_type": "code",
   "execution_count": 17,
   "metadata": {
    "execution": {
     "iopub.execute_input": "2020-09-30T07:20:12.151739Z",
     "iopub.status.busy": "2020-09-30T07:20:12.150259Z",
     "iopub.status.idle": "2020-09-30T07:20:12.172420Z",
     "shell.execute_reply": "2020-09-30T07:20:12.173507Z"
    },
    "title": "codecell"
   },
   "outputs": [
    {
     "data": {
      "text/latex": [
       "$\\displaystyle w_{11} \\left. \\frac{d}{d \\xi_{1}} f{\\left(\\xi_{1} \\right)} \\right|_{\\substack{ \\xi_{1}=w_{11} x_{11} + w_{21} x_{12} + w_{31} x_{13} }}$"
      ],
      "text/plain": [
       "w_11*Subs(Derivative(f(_xi_1), _xi_1), _xi_1, w_11*x_11 + w_21*x_12 + w_31*x_13)"
      ]
     },
     "execution_count": 1,
     "metadata": {},
     "output_type": "execute_result"
    }
   ],
   "source": [
    "f(N[0,0]).diff(X[0,0])\n",
    "\n",
    "\n"
   ]
  },
  {
   "cell_type": "code",
   "execution_count": 18,
   "metadata": {
    "execution": {
     "iopub.execute_input": "2020-09-30T07:20:12.178409Z",
     "iopub.status.busy": "2020-09-30T07:20:12.176873Z",
     "iopub.status.idle": "2020-09-30T07:20:12.191062Z",
     "shell.execute_reply": "2020-09-30T07:20:12.192197Z"
    },
    "lines_to_next_cell": 0,
    "title": "codecell"
   },
   "outputs": [
    {
     "data": {
      "text/plain": [
       "w_11*x_11 + w_21*x_12 + w_31*x_13"
      ]
     },
     "execution_count": 1,
     "metadata": {},
     "output_type": "execute_result"
    }
   ],
   "source": [
    "n = v(X,W); n\n",
    "n11 = Function('{}'.format(n[0,0]))\n",
    "n11"
   ]
  },
  {
   "cell_type": "code",
   "execution_count": 19,
   "metadata": {
    "execution": {
     "iopub.execute_input": "2020-09-30T07:20:12.197262Z",
     "iopub.status.busy": "2020-09-30T07:20:12.195723Z",
     "iopub.status.idle": "2020-09-30T07:20:12.203037Z",
     "shell.execute_reply": "2020-09-30T07:20:12.204144Z"
    },
    "lines_to_next_cell": 2,
    "title": "codecell"
   },
   "outputs": [],
   "source": [
    "s_ij = Function('s_ij')\n",
    "sig = Function('sig')(x)"
   ]
  },
  {
   "cell_type": "code",
   "execution_count": 20,
   "metadata": {
    "execution": {
     "iopub.execute_input": "2020-09-30T07:20:12.209011Z",
     "iopub.status.busy": "2020-09-30T07:20:12.207509Z",
     "iopub.status.idle": "2020-09-30T07:20:12.212790Z",
     "shell.execute_reply": "2020-09-30T07:20:12.213839Z"
    },
    "title": "codecell"
   },
   "outputs": [],
   "source": [
    "\n",
    "# KEY: got not expecting UndefinedFunction error again here too\n",
    "#S_ij = Matrix(3, 2, lambda i,j: Function('s_{}{}'.format(i+1,j+1))(Function('{}'.format(N[i,j]))))\n",
    "\n"
   ]
  },
  {
   "cell_type": "code",
   "execution_count": 21,
   "metadata": {
    "execution": {
     "iopub.execute_input": "2020-09-30T07:20:12.220966Z",
     "iopub.status.busy": "2020-09-30T07:20:12.217200Z",
     "iopub.status.idle": "2020-09-30T07:20:12.231327Z",
     "shell.execute_reply": "2020-09-30T07:20:12.232466Z"
    },
    "title": "codecell"
   },
   "outputs": [
    {
     "data": {
      "text/latex": [
       "$\\displaystyle 3*x*y$"
      ],
      "text/plain": [
       "3*x*y"
      ]
     },
     "execution_count": 1,
     "metadata": {},
     "output_type": "execute_result"
    }
   ],
   "source": [
    "#S_ij[0,0](sympify(N[0,0])).diff(sympify(N[0,0]))\n",
    "F = 3*x*y\n",
    "\n",
    "xy = Symbol('{}'.format(F))\n",
    "xy.subs({x:3})\n",
    "sympify(xy).subs({x:3})"
   ]
  },
  {
   "cell_type": "markdown",
   "execution_count": 22,
   "metadata": {
    "lines_to_next_cell": 0,
    "title": "markdown"
   },
   "source": [
    "Sympy Example of trying to differentiate with respect to an **expression** not just a variable."
   ]
  },
  {
   "cell_type": "code",
   "execution_count": 22,
   "metadata": {
    "execution": {
     "iopub.execute_input": "2020-09-30T07:20:12.237292Z",
     "iopub.status.busy": "2020-09-30T07:20:12.235758Z",
     "iopub.status.idle": "2020-09-30T07:20:12.258023Z",
     "shell.execute_reply": "2020-09-30T07:20:12.259098Z"
    },
    "title": "codecell"
   },
   "outputs": [
    {
     "data": {
      "text/latex": [
       "$\\displaystyle \\left. \\frac{\\partial}{\\partial \\xi_{2}} F{\\left(t,\\xi_{2},\\frac{d}{d t} f{\\left(t \\right)} \\right)} \\right|_{\\substack{ \\xi_{2}=f{\\left(t \\right)} }}$"
      ],
      "text/plain": [
       "Subs(Derivative(F(t, _xi_2, Derivative(f(t), t)), _xi_2), _xi_2, f(t))"
      ]
     },
     "execution_count": 1,
     "metadata": {},
     "output_type": "execute_result"
    }
   ],
   "source": [
    "from sympy.abc import t\n",
    "\n",
    "F = Function('F')\n",
    "f = Function('f')\n",
    "U = f(t)\n",
    "V = U.diff(t)\n",
    "\n",
    "direct = F(t, U, V).diff(U); direct"
   ]
  },
  {
   "cell_type": "code",
   "execution_count": 23,
   "metadata": {
    "execution": {
     "iopub.execute_input": "2020-09-30T07:20:12.264469Z",
     "iopub.status.busy": "2020-09-30T07:20:12.262903Z",
     "iopub.status.idle": "2020-09-30T07:20:12.273247Z",
     "shell.execute_reply": "2020-09-30T07:20:12.274343Z"
    },
    "lines_to_next_cell": 0,
    "title": "codecell"
   },
   "outputs": [
    {
     "data": {
      "text/latex": [
       "$\\displaystyle F{\\left(t,f{\\left(t \\right)},\\frac{d}{d t} f{\\left(t \\right)} \\right)}$"
      ],
      "text/plain": [
       "F(t, f(t), Derivative(f(t), t))"
      ]
     },
     "execution_count": 1,
     "metadata": {},
     "output_type": "execute_result"
    }
   ],
   "source": [
    "F(t,U,V)"
   ]
  },
  {
   "cell_type": "code",
   "execution_count": 24,
   "metadata": {
    "execution": {
     "iopub.execute_input": "2020-09-30T07:20:12.279029Z",
     "iopub.status.busy": "2020-09-30T07:20:12.277548Z",
     "iopub.status.idle": "2020-09-30T07:20:12.289091Z",
     "shell.execute_reply": "2020-09-30T07:20:12.290120Z"
    },
    "lines_to_next_cell": 0,
    "title": "codecell"
   },
   "outputs": [
    {
     "data": {
      "text/latex": [
       "$\\displaystyle F{\\left(t,x,\\frac{d}{d t} x \\right)}$"
      ],
      "text/plain": [
       "F(t, x, Derivative(x, t))"
      ]
     },
     "execution_count": 1,
     "metadata": {},
     "output_type": "execute_result"
    }
   ],
   "source": [
    "F(t,U,V).subs(U,x)"
   ]
  },
  {
   "cell_type": "code",
   "execution_count": 25,
   "metadata": {
    "execution": {
     "iopub.execute_input": "2020-09-30T07:20:12.294989Z",
     "iopub.status.busy": "2020-09-30T07:20:12.293506Z",
     "iopub.status.idle": "2020-09-30T07:20:12.307240Z",
     "shell.execute_reply": "2020-09-30T07:20:12.308340Z"
    },
    "lines_to_next_cell": 0,
    "title": "codecell"
   },
   "outputs": [
    {
     "data": {
      "text/latex": [
       "$\\displaystyle \\left. \\frac{\\partial}{\\partial \\xi_{2}} F{\\left(t,\\xi_{2},\\frac{d}{d t} x \\right)} \\right|_{\\substack{ \\xi_{2}=x }}$"
      ],
      "text/plain": [
       "Subs(Derivative(F(t, _xi_2, Derivative(x, t)), _xi_2), _xi_2, x)"
      ]
     },
     "execution_count": 1,
     "metadata": {},
     "output_type": "execute_result"
    }
   ],
   "source": [
    "F(t,U,V).subs(U,x).diff(x)"
   ]
  },
  {
   "cell_type": "code",
   "execution_count": 26,
   "metadata": {
    "execution": {
     "iopub.execute_input": "2020-09-30T07:20:12.313073Z",
     "iopub.status.busy": "2020-09-30T07:20:12.311551Z",
     "iopub.status.idle": "2020-09-30T07:20:12.327621Z",
     "shell.execute_reply": "2020-09-30T07:20:12.328737Z"
    },
    "lines_to_next_cell": 0,
    "title": "codecell"
   },
   "outputs": [
    {
     "data": {
      "text/latex": [
       "$\\displaystyle \\left. \\frac{\\partial}{\\partial \\xi_{2}} F{\\left(t,\\xi_{2},\\frac{d}{d t} f{\\left(t \\right)} \\right)} \\right|_{\\substack{ \\xi_{2}=f{\\left(t \\right)} }}$"
      ],
      "text/plain": [
       "Subs(Derivative(F(t, _xi_2, Derivative(f(t), t)), _xi_2), _xi_2, f(t))"
      ]
     },
     "execution_count": 1,
     "metadata": {},
     "output_type": "execute_result"
    }
   ],
   "source": [
    "F(t,U,V).subs(U,x).diff(x).subs(x, U)"
   ]
  },
  {
   "cell_type": "code",
   "execution_count": 27,
   "metadata": {
    "execution": {
     "iopub.execute_input": "2020-09-30T07:20:12.333583Z",
     "iopub.status.busy": "2020-09-30T07:20:12.332089Z",
     "iopub.status.idle": "2020-09-30T07:20:12.346395Z",
     "shell.execute_reply": "2020-09-30T07:20:12.347444Z"
    },
    "lines_to_next_cell": 0,
    "title": "codecell"
   },
   "outputs": [
    {
     "data": {
      "text/latex": [
       "$\\displaystyle \\left. \\frac{\\partial}{\\partial \\xi_{2}} F{\\left(t,\\xi_{2},\\frac{d}{d t} f{\\left(t \\right)} \\right)} \\right|_{\\substack{ \\xi_{2}=f{\\left(t \\right)} }}$"
      ],
      "text/plain": [
       "Subs(Derivative(F(t, _xi_2, Derivative(f(t), t)), _xi_2), _xi_2, f(t))"
      ]
     },
     "execution_count": 1,
     "metadata": {},
     "output_type": "execute_result"
    }
   ],
   "source": [
    "indirect = F(t,U,V).subs(U, x).diff(x).subs(x,U); indirect"
   ]
  },
  {
   "cell_type": "code",
   "execution_count": 28,
   "metadata": {
    "execution": {
     "iopub.execute_input": "2020-09-30T07:20:12.352191Z",
     "iopub.status.busy": "2020-09-30T07:20:12.350660Z",
     "iopub.status.idle": "2020-09-30T07:20:12.361794Z",
     "shell.execute_reply": "2020-09-30T07:20:12.362851Z"
    },
    "lines_to_next_cell": 0,
    "title": "codecell"
   },
   "outputs": [
    {
     "data": {
      "text/latex": [
       "$\\displaystyle 6$"
      ],
      "text/plain": [
       "6"
      ]
     },
     "execution_count": 1,
     "metadata": {},
     "output_type": "execute_result"
    }
   ],
   "source": [
    "F = Lambda((x,y), 3*x* y)\n",
    "F(1,2)"
   ]
  },
  {
   "cell_type": "code",
   "execution_count": 29,
   "metadata": {
    "execution": {
     "iopub.execute_input": "2020-09-30T07:20:12.367723Z",
     "iopub.status.busy": "2020-09-30T07:20:12.366294Z",
     "iopub.status.idle": "2020-09-30T07:20:12.376010Z",
     "shell.execute_reply": "2020-09-30T07:20:12.377098Z"
    },
    "lines_to_next_cell": 0,
    "title": "codecell"
   },
   "outputs": [
    {
     "data": {
      "text/latex": [
       "$\\displaystyle 3*x*y$"
      ],
      "text/plain": [
       "3*x*y"
      ]
     },
     "execution_count": 1,
     "metadata": {},
     "output_type": "execute_result"
    }
   ],
   "source": [
    "U = x*y\n",
    "G = 3*x*y\n",
    "xy"
   ]
  },
  {
   "cell_type": "code",
   "execution_count": 30,
   "metadata": {
    "execution": {
     "iopub.execute_input": "2020-09-30T07:20:12.382587Z",
     "iopub.status.busy": "2020-09-30T07:20:12.381110Z",
     "iopub.status.idle": "2020-09-30T07:20:12.394297Z",
     "shell.execute_reply": "2020-09-30T07:20:12.395346Z"
    },
    "lines_to_next_cell": 0,
    "title": "codecell"
   },
   "outputs": [
    {
     "data": {
      "text/latex": [
       "$\\displaystyle 0$"
      ],
      "text/plain": [
       "0"
      ]
     },
     "execution_count": 1,
     "metadata": {},
     "output_type": "execute_result"
    }
   ],
   "source": [
    "F.diff(xy)"
   ]
  },
  {
   "cell_type": "code",
   "execution_count": 31,
   "metadata": {
    "execution": {
     "iopub.execute_input": "2020-09-30T07:20:12.400259Z",
     "iopub.status.busy": "2020-09-30T07:20:12.398742Z",
     "iopub.status.idle": "2020-09-30T07:20:12.404451Z",
     "shell.execute_reply": "2020-09-30T07:20:12.405605Z"
    },
    "title": "codecell"
   },
   "outputs": [],
   "source": [
    "# derive_by_array(S, N) # ERROR"
   ]
  },
  {
   "cell_type": "code",
   "execution_count": 32,
   "metadata": {
    "execution": {
     "iopub.execute_input": "2020-09-30T07:20:12.410684Z",
     "iopub.status.busy": "2020-09-30T07:20:12.408915Z",
     "iopub.status.idle": "2020-09-30T07:20:12.422046Z",
     "shell.execute_reply": "2020-09-30T07:20:12.423076Z"
    },
    "lines_to_next_cell": 0,
    "title": "codecell"
   },
   "outputs": [
    {
     "data": {
      "text/latex": [
       "$\\displaystyle \\sigma{\\left(w_{11} x_{11} + w_{21} x_{12} + w_{31} x_{13} \\right)}$"
      ],
      "text/plain": [
       "sigma(w_11*x_11 + w_21*x_12 + w_31*x_13)"
      ]
     },
     "execution_count": 1,
     "metadata": {},
     "output_type": "execute_result"
    }
   ],
   "source": [
    "s11 = S[0,0]\n",
    "s11"
   ]
  },
  {
   "cell_type": "code",
   "execution_count": 33,
   "metadata": {
    "execution": {
     "iopub.execute_input": "2020-09-30T07:20:12.428048Z",
     "iopub.status.busy": "2020-09-30T07:20:12.426528Z",
     "iopub.status.idle": "2020-09-30T07:20:12.432159Z",
     "shell.execute_reply": "2020-09-30T07:20:12.433284Z"
    },
    "title": "codecell"
   },
   "outputs": [],
   "source": [
    "\n",
    "#s11.diff(n11)"
   ]
  },
  {
   "cell_type": "code",
   "execution_count": 34,
   "metadata": {
    "execution": {
     "iopub.execute_input": "2020-09-30T07:20:12.437937Z",
     "iopub.status.busy": "2020-09-30T07:20:12.436516Z",
     "iopub.status.idle": "2020-09-30T07:20:12.475457Z",
     "shell.execute_reply": "2020-09-30T07:20:12.476557Z"
    },
    "lines_to_next_cell": 2,
    "title": "codecell"
   },
   "outputs": [
    {
     "data": {
      "text/latex": [
       "$\\displaystyle \\left[\\begin{matrix}1 & 1\\\\1 & 1\\\\1 & 1\\end{matrix}\\right]$"
      ],
      "text/plain": [
       "[[1, 1], [1, 1], [1, 1]]"
      ]
     },
     "execution_count": 1,
     "metadata": {},
     "output_type": "execute_result"
    }
   ],
   "source": [
    "derive_by_array(L, S)"
   ]
  },
  {
   "cell_type": "code",
   "execution_count": 35,
   "metadata": {
    "execution": {
     "iopub.execute_input": "2020-09-30T07:20:12.481604Z",
     "iopub.status.busy": "2020-09-30T07:20:12.480057Z",
     "iopub.status.idle": "2020-09-30T07:20:12.496820Z",
     "shell.execute_reply": "2020-09-30T07:20:12.497851Z"
    },
    "title": "codecell"
   },
   "outputs": [
    {
     "data": {
      "text/latex": [
       "$\\displaystyle \\frac{d}{d f{\\left(x \\right)}} g{\\left(f{\\left(x \\right)} \\right)}$"
      ],
      "text/plain": [
       "Derivative(g(f(x)), f(x))"
      ]
     },
     "execution_count": 1,
     "metadata": {},
     "output_type": "execute_result"
    }
   ],
   "source": [
    "\n",
    "x, y, r, t = symbols('x y r t') # r (radius), t (angle theta)\n",
    "f, g, h = symbols('f g h', cls=Function)\n",
    "h = g(f(x))\n",
    "Derivative(h, f(x)).doit()\n",
    "\n",
    "\n"
   ]
  },
  {
   "cell_type": "code",
   "execution_count": 36,
   "metadata": {
    "execution": {
     "iopub.execute_input": "2020-09-30T07:20:12.502573Z",
     "iopub.status.busy": "2020-09-30T07:20:12.501068Z",
     "iopub.status.idle": "2020-09-30T07:20:12.513873Z",
     "shell.execute_reply": "2020-09-30T07:20:12.514926Z"
    },
    "lines_to_next_cell": 2,
    "title": "codecell"
   },
   "outputs": [
    {
     "data": {
      "text/latex": [
       "$\\displaystyle \\frac{d}{d f{\\left(x \\right)}} g{\\left(f{\\left(x \\right)} \\right)}$"
      ],
      "text/plain": [
       "Derivative(g(f(x)), f(x))"
      ]
     },
     "execution_count": 1,
     "metadata": {},
     "output_type": "execute_result"
    }
   ],
   "source": [
    "h.args[0]\n",
    "h.diff(h.args[0])"
   ]
  },
  {
   "cell_type": "code",
   "execution_count": 37,
   "metadata": {
    "execution": {
     "iopub.execute_input": "2020-09-30T07:20:12.519745Z",
     "iopub.status.busy": "2020-09-30T07:20:12.518178Z",
     "iopub.status.idle": "2020-09-30T07:20:12.547929Z",
     "shell.execute_reply": "2020-09-30T07:20:12.548999Z"
    },
    "title": "codecell"
   },
   "outputs": [
    {
     "data": {
      "text/latex": [
       "$\\displaystyle \\left[\\begin{matrix}\\sigma{\\left(w_{11} x_{11} + w_{21} x_{12} + w_{31} x_{13} \\right)} & \\sigma{\\left(w_{12} x_{11} + w_{22} x_{12} + w_{32} x_{13} \\right)}\\\\\\sigma{\\left(w_{11} x_{21} + w_{21} x_{22} + w_{31} x_{23} \\right)} & \\sigma{\\left(w_{12} x_{21} + w_{22} x_{22} + w_{32} x_{23} \\right)}\\\\\\sigma{\\left(w_{11} x_{31} + w_{21} x_{32} + w_{31} x_{33} \\right)} & \\sigma{\\left(w_{12} x_{31} + w_{22} x_{32} + w_{32} x_{33} \\right)}\\end{matrix}\\right]$"
      ],
      "text/plain": [
       "Matrix([\n",
       "[sigma(w_11*x_11 + w_21*x_12 + w_31*x_13), sigma(w_12*x_11 + w_22*x_12 + w_32*x_13)],\n",
       "[sigma(w_11*x_21 + w_21*x_22 + w_31*x_23), sigma(w_12*x_21 + w_22*x_22 + w_32*x_23)],\n",
       "[sigma(w_11*x_31 + w_21*x_32 + w_31*x_33), sigma(w_12*x_31 + w_22*x_32 + w_32*x_33)]])"
      ]
     },
     "execution_count": 1,
     "metadata": {},
     "output_type": "execute_result"
    }
   ],
   "source": [
    "S = sigmaApply(v(X,W)); S"
   ]
  },
  {
   "cell_type": "code",
   "execution_count": 38,
   "metadata": {
    "execution": {
     "iopub.execute_input": "2020-09-30T07:20:12.553950Z",
     "iopub.status.busy": "2020-09-30T07:20:12.552322Z",
     "iopub.status.idle": "2020-09-30T07:20:12.566662Z",
     "shell.execute_reply": "2020-09-30T07:20:12.567717Z"
    },
    "lines_to_next_cell": 0,
    "title": "codecell"
   },
   "outputs": [
    {
     "data": {
      "text/latex": [
       "$\\displaystyle \\sigma{\\left(w_{11*x 11 + w 21*x 12 + w 31*x 13} \\right)}$"
      ],
      "text/plain": [
       "sigma(w_11*x_11 + w_21*x_12 + w_31*x_13)"
      ]
     },
     "execution_count": 1,
     "metadata": {},
     "output_type": "execute_result"
    }
   ],
   "source": [
    "from sympy.abc import n\n",
    "\n",
    "n11 = (X*W)[0,0]\n",
    "m = lambda mat1, mat2: sympify(Symbol('{}'.format((mat1 * mat2)[0,0] )))\n",
    "s = sigma(m(X,W)); s"
   ]
  },
  {
   "cell_type": "code",
   "execution_count": 39,
   "metadata": {
    "execution": {
     "iopub.execute_input": "2020-09-30T07:20:12.572651Z",
     "iopub.status.busy": "2020-09-30T07:20:12.571183Z",
     "iopub.status.idle": "2020-09-30T07:20:12.581697Z",
     "shell.execute_reply": "2020-09-30T07:20:12.582749Z"
    },
    "lines_to_next_cell": 0,
    "title": "codecell"
   },
   "outputs": [
    {
     "data": {
      "text/latex": [
       "$\\displaystyle \\sigma{\\left(w_{11*x 11 + w 21*x 12 + w 31*x 13} \\right)}$"
      ],
      "text/plain": [
       "sigma(w_11*x_11 + w_21*x_12 + w_31*x_13)"
      ]
     },
     "execution_count": 1,
     "metadata": {},
     "output_type": "execute_result"
    }
   ],
   "source": [
    "s.subs({W[0,0]: 14}) # doesn't work to substitute into an undefined function"
   ]
  },
  {
   "cell_type": "code",
   "execution_count": 40,
   "metadata": {
    "execution": {
     "iopub.execute_input": "2020-09-30T07:20:12.587590Z",
     "iopub.status.busy": "2020-09-30T07:20:12.586086Z",
     "iopub.status.idle": "2020-09-30T07:20:12.599133Z",
     "shell.execute_reply": "2020-09-30T07:20:12.600227Z"
    },
    "lines_to_next_cell": 0,
    "title": "codecell"
   },
   "outputs": [
    {
     "data": {
      "text/latex": [
       "$\\displaystyle \\frac{d}{d w_{11*x 11 + w 21*x 12 + w 31*x 13}} \\sigma{\\left(w_{11*x 11 + w 21*x 12 + w 31*x 13} \\right)}$"
      ],
      "text/plain": [
       "Derivative(sigma(w_11*x_11 + w_21*x_12 + w_31*x_13), w_11*x_11 + w_21*x_12 + w_31*x_13)"
      ]
     },
     "execution_count": 1,
     "metadata": {},
     "output_type": "execute_result"
    }
   ],
   "source": [
    "Derivative(s, m(X,W)).doit()"
   ]
  },
  {
   "cell_type": "code",
   "execution_count": 41,
   "metadata": {
    "execution": {
     "iopub.execute_input": "2020-09-30T07:20:12.605222Z",
     "iopub.status.busy": "2020-09-30T07:20:12.603701Z",
     "iopub.status.idle": "2020-09-30T07:20:12.615892Z",
     "shell.execute_reply": "2020-09-30T07:20:12.617021Z"
    },
    "lines_to_next_cell": 0,
    "title": "codecell"
   },
   "outputs": [
    {
     "data": {
      "text/latex": [
       "$\\displaystyle \\sigma{\\left(w_{11} x_{11} + w_{21} x_{12} + w_{31} x_{13} \\right)}$"
      ],
      "text/plain": [
       "sigma(w_11*x_11 + w_21*x_12 + w_31*x_13)"
      ]
     },
     "execution_count": 1,
     "metadata": {},
     "output_type": "execute_result"
    }
   ],
   "source": [
    "\n",
    "#s11 = Function('s_{11}')(n11); s11\n",
    "#sigma(n11).diff(n11)\n",
    "\n",
    "#s11.diff(n11)\n",
    "sigma(n11)"
   ]
  },
  {
   "cell_type": "code",
   "execution_count": 42,
   "metadata": {
    "execution": {
     "iopub.execute_input": "2020-09-30T07:20:12.621703Z",
     "iopub.status.busy": "2020-09-30T07:20:12.620211Z",
     "iopub.status.idle": "2020-09-30T07:20:12.629115Z",
     "shell.execute_reply": "2020-09-30T07:20:12.630255Z"
    },
    "lines_to_next_cell": 0,
    "title": "codecell"
   },
   "outputs": [
    {
     "data": {
      "text/plain": [
       "sympy.core.add.Add"
      ]
     },
     "execution_count": 1,
     "metadata": {},
     "output_type": "execute_result"
    }
   ],
   "source": [
    "# ERROR HERE TOO\n",
    "type(sigma(n11).args[0])"
   ]
  },
  {
   "cell_type": "code",
   "execution_count": 43,
   "metadata": {
    "execution": {
     "iopub.execute_input": "2020-09-30T07:20:12.635101Z",
     "iopub.status.busy": "2020-09-30T07:20:12.633612Z",
     "iopub.status.idle": "2020-09-30T07:20:12.642236Z",
     "shell.execute_reply": "2020-09-30T07:20:12.643265Z"
    },
    "lines_to_next_cell": 0,
    "title": "codecell"
   },
   "outputs": [
    {
     "data": {
      "text/plain": [
       "sympy.core.add.Add"
      ]
     },
     "execution_count": 1,
     "metadata": {},
     "output_type": "execute_result"
    }
   ],
   "source": [
    "type(n11)"
   ]
  },
  {
   "cell_type": "code",
   "execution_count": 44,
   "metadata": {
    "execution": {
     "iopub.execute_input": "2020-09-30T07:20:12.648039Z",
     "iopub.status.busy": "2020-09-30T07:20:12.646529Z",
     "iopub.status.idle": "2020-09-30T07:20:12.652347Z",
     "shell.execute_reply": "2020-09-30T07:20:12.653606Z"
    },
    "lines_to_next_cell": 0,
    "title": "codecell"
   },
   "outputs": [],
   "source": [
    "#sigma(n11).diff(sigma(n11).args[0]) ## ERROR"
   ]
  },
  {
   "cell_type": "code",
   "execution_count": 45,
   "metadata": {
    "title": "codecell"
   },
   "outputs": [],
   "source": []
  },
  {
   "cell_type": "code",
   "execution_count": 45,
   "metadata": {
    "execution": {
     "iopub.execute_input": "2020-09-30T07:20:12.660885Z",
     "iopub.status.busy": "2020-09-30T07:20:12.657079Z",
     "iopub.status.idle": "2020-09-30T07:20:12.669088Z",
     "shell.execute_reply": "2020-09-30T07:20:12.670175Z"
    },
    "lines_to_next_cell": 2,
    "title": "codecell"
   },
   "outputs": [
    {
     "data": {
      "text/plain": [
       "w_11*x_11 + w_21*x_12 + w_31*x_13"
      ]
     },
     "execution_count": 1,
     "metadata": {},
     "output_type": "execute_result"
    }
   ],
   "source": [
    "b = Symbol('{}'.format(n11))\n",
    "ns_11 = Function(b, real=True)\n",
    "ns_11\n",
    "\n",
    "\n",
    "# ERROR cannot diff wi.r. to undefinedfunction\n",
    "# sigma(n11).diff(ns_11)\n",
    "\n",
    "\n",
    "#\n",
    "#sigma(b).diff(b).subs({b:1})"
   ]
  },
  {
   "cell_type": "code",
   "execution_count": 46,
   "metadata": {
    "execution": {
     "iopub.execute_input": "2020-09-30T07:20:12.674918Z",
     "iopub.status.busy": "2020-09-30T07:20:12.673458Z",
     "iopub.status.idle": "2020-09-30T07:20:12.684702Z",
     "shell.execute_reply": "2020-09-30T07:20:12.685743Z"
    },
    "lines_to_next_cell": 0,
    "title": "codecell"
   },
   "outputs": [
    {
     "data": {
      "text/latex": [
       "$\\displaystyle 0$"
      ],
      "text/plain": [
       "0"
      ]
     },
     "execution_count": 1,
     "metadata": {},
     "output_type": "execute_result"
    }
   ],
   "source": [
    "f, g = symbols('f g', cls=Function)\n",
    "xy = Symbol('x*y'); xy\n",
    "#sympify(xy).subs({x:2, y:4})\n",
    "f(g(x,y)).diff(xy)"
   ]
  },
  {
   "cell_type": "code",
   "execution_count": 47,
   "metadata": {
    "execution": {
     "iopub.execute_input": "2020-09-30T07:20:12.690589Z",
     "iopub.status.busy": "2020-09-30T07:20:12.689051Z",
     "iopub.status.idle": "2020-09-30T07:20:12.700991Z",
     "shell.execute_reply": "2020-09-30T07:20:12.702067Z"
    },
    "lines_to_next_cell": 0,
    "title": "codecell"
   },
   "outputs": [
    {
     "data": {
      "text/latex": [
       "$\\displaystyle \\frac{d}{d x*y} f{\\left(x*y \\right)}$"
      ],
      "text/plain": [
       "Derivative(f(x*y), x*y)"
      ]
     },
     "execution_count": 1,
     "metadata": {},
     "output_type": "execute_result"
    }
   ],
   "source": [
    "# TODO SEEM to have got the expression but it is not working since can't substitute anything .... ???\n",
    "f(xy).diff(xy).subs({x:2})"
   ]
  },
  {
   "cell_type": "code",
   "execution_count": 48,
   "metadata": {
    "execution": {
     "iopub.execute_input": "2020-09-30T07:20:12.706790Z",
     "iopub.status.busy": "2020-09-30T07:20:12.705318Z",
     "iopub.status.idle": "2020-09-30T07:20:12.724001Z",
     "shell.execute_reply": "2020-09-30T07:20:12.725099Z"
    },
    "title": "codecell"
   },
   "outputs": [
    {
     "data": {
      "text/latex": [
       "$\\displaystyle \\frac{d}{d g{\\left(x*y \\right)}} f{\\left(g{\\left(x*y \\right)} \\right)} \\frac{d}{d x*y} g{\\left(x*y \\right)}$"
      ],
      "text/plain": [
       "Derivative(f(g(x*y)), g(x*y))*Derivative(g(x*y), x*y)"
      ]
     },
     "execution_count": 1,
     "metadata": {},
     "output_type": "execute_result"
    }
   ],
   "source": [
    "Function(\"x*y\")(x,y)\n",
    "xyf = lambdify([x,y],xy)\n",
    "xyf(3,4)\n",
    "f(g(xy)).diff(xy)\n",
    "#"
   ]
  },
  {
   "cell_type": "code",
   "execution_count": 49,
   "metadata": {
    "execution": {
     "iopub.execute_input": "2020-09-30T07:20:12.729838Z",
     "iopub.status.busy": "2020-09-30T07:20:12.728355Z",
     "iopub.status.idle": "2020-09-30T07:20:12.738781Z",
     "shell.execute_reply": "2020-09-30T07:20:12.739865Z"
    },
    "title": "codecell"
   },
   "outputs": [
    {
     "data": {
      "text/latex": [
       "$\\displaystyle x y$"
      ],
      "text/plain": [
       "x*y"
      ]
     },
     "execution_count": 1,
     "metadata": {},
     "output_type": "execute_result"
    }
   ],
   "source": [
    "xyd = Derivative(x*y, x*y,0).doit();xyd\n",
    "\n",
    "#Derivative(3*xyd, xyd, 1).doit() ### ERROR can't calc deriv w.r.t to x*y"
   ]
  },
  {
   "cell_type": "code",
   "execution_count": 50,
   "metadata": {
    "execution": {
     "iopub.execute_input": "2020-09-30T07:20:12.744634Z",
     "iopub.status.busy": "2020-09-30T07:20:12.743091Z",
     "iopub.status.idle": "2020-09-30T07:20:12.748379Z",
     "shell.execute_reply": "2020-09-30T07:20:12.749389Z"
    },
    "title": "codecell"
   },
   "outputs": [],
   "source": [
    "#derive_by_array(S, N)\n",
    "\n",
    "\n",
    "\n"
   ]
  },
  {
   "cell_type": "code",
   "execution_count": 51,
   "metadata": {
    "lines_to_next_cell": 0,
    "title": "codecell"
   },
   "outputs": [],
   "source": []
  },
  {
   "cell_type": "code",
   "execution_count": 51,
   "metadata": {
    "title": "codecell"
   },
   "outputs": [],
   "source": []
  }
 ],
 "metadata": {
  "jupytext": {
   "cell_metadata_filter": "title,-all"
  },
  "kernelspec": {
   "display_name": "pymatrix_env",
   "language": "python",
   "name": "pymatrix_env"
  },
  "language_info": {
   "codemirror_mode": {
    "name": "ipython",
    "version": 3
   },
   "file_extension": ".py",
   "mimetype": "text/x-python",
   "name": "python",
   "nbconvert_exporter": "python",
   "pygments_lexer": "ipython3",
   "version": "3.7.8"
  }
 },
 "nbformat": 4,
 "nbformat_minor": 4
}
