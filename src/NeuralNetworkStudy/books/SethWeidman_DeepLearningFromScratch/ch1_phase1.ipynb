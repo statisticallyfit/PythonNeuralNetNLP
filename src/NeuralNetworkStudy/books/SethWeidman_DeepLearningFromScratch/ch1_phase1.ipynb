{
 "cells": [
  {
   "cell_type": "code",
   "execution_count": 1,
   "metadata": {
    "execution": {
     "iopub.execute_input": "2020-10-04T18:07:24.748143Z",
     "iopub.status.busy": "2020-10-04T18:07:24.746097Z",
     "iopub.status.idle": "2020-10-04T18:07:25.544563Z",
     "shell.execute_reply": "2020-10-04T18:07:25.545774Z"
    },
    "title": "codecell"
   },
   "outputs": [],
   "source": [
    "from sympy import Matrix, Symbol, derive_by_array, Lambda, symbols, Derivative, diff\n",
    "from sympy.abc import x, y, i, j, a, b"
   ]
  },
  {
   "cell_type": "markdown",
   "execution_count": 2,
   "metadata": {
    "lines_to_next_cell": 0,
    "title": "markdown"
   },
   "source": [
    "\n",
    "Defining variable-element matrices $X \\in \\mathbb{R}^{n \\times m}$ and $W \\in \\mathbb{R}^{m \\times p}$:"
   ]
  },
  {
   "cell_type": "code",
   "execution_count": 2,
   "metadata": {
    "execution": {
     "iopub.execute_input": "2020-10-04T18:07:25.553026Z",
     "iopub.status.busy": "2020-10-04T18:07:25.549682Z",
     "iopub.status.idle": "2020-10-04T18:07:25.581557Z",
     "shell.execute_reply": "2020-10-04T18:07:25.582703Z"
    },
    "lines_to_next_cell": 0,
    "title": "codecell"
   },
   "outputs": [
    {
     "data": {
      "text/latex": [
       "$\\displaystyle \\left[\\begin{matrix}x_{11} & x_{12} & x_{13}\\\\x_{21} & x_{22} & x_{23}\\\\x_{31} & x_{32} & x_{33}\\end{matrix}\\right]$"
      ],
      "text/plain": [
       "Matrix([\n",
       "[x_11, x_12, x_13],\n",
       "[x_21, x_22, x_23],\n",
       "[x_31, x_32, x_33]])"
      ]
     },
     "execution_count": 1,
     "metadata": {},
     "output_type": "execute_result"
    }
   ],
   "source": [
    "def var(letter: str, i: int, j: int) -> Symbol:\n",
    "    letter_ij = Symbol('{}_{}{}'.format(letter, i+1, j+1), is_commutative=True)\n",
    "    return letter_ij\n",
    "\n",
    "\n",
    "n,m,p = 3,3,2\n",
    "\n",
    "X = Matrix(n, m, lambda i,j : var('x', i, j)); X"
   ]
  },
  {
   "cell_type": "code",
   "execution_count": 3,
   "metadata": {
    "execution": {
     "iopub.execute_input": "2020-10-04T18:07:25.588168Z",
     "iopub.status.busy": "2020-10-04T18:07:25.586423Z",
     "iopub.status.idle": "2020-10-04T18:07:25.599969Z",
     "shell.execute_reply": "2020-10-04T18:07:25.601066Z"
    },
    "title": "codecell"
   },
   "outputs": [
    {
     "data": {
      "text/latex": [
       "$\\displaystyle \\left[\\begin{matrix}w_{11} & w_{12}\\\\w_{21} & w_{22}\\\\w_{31} & w_{32}\\end{matrix}\\right]$"
      ],
      "text/plain": [
       "Matrix([\n",
       "[w_11, w_12],\n",
       "[w_21, w_22],\n",
       "[w_31, w_32]])"
      ]
     },
     "execution_count": 1,
     "metadata": {},
     "output_type": "execute_result"
    }
   ],
   "source": [
    "W = Matrix(m, p, lambda i,j : var('w', i, j)); W"
   ]
  },
  {
   "cell_type": "markdown",
   "execution_count": 4,
   "metadata": {
    "lines_to_next_cell": 0,
    "title": "markdown"
   },
   "source": [
    "\n",
    "Defining $N = \\nu(X, W) = X \\times W$\n",
    "\n",
    "* $\\nu : \\mathbb{R}^{(n \\times m) \\times (m \\times p)} \\rightarrow \\mathbb{R}^{n \\times p}$\n",
    "* $N \\in \\mathbb{R}^{n \\times p}$"
   ]
  },
  {
   "cell_type": "code",
   "execution_count": 4,
   "metadata": {
    "execution": {
     "iopub.execute_input": "2020-10-04T18:07:25.606172Z",
     "iopub.status.busy": "2020-10-04T18:07:25.604670Z",
     "iopub.status.idle": "2020-10-04T18:07:26.311228Z",
     "shell.execute_reply": "2020-10-04T18:07:26.312330Z"
    },
    "title": "codecell"
   },
   "outputs": [
    {
     "data": {
      "text/latex": [
       "$\\displaystyle \\left( \\left( a, \\  b\\right) \\mapsto a b \\right)$"
      ],
      "text/plain": [
       "Lambda((a, b), a*b)"
      ]
     },
     "execution_count": 1,
     "metadata": {},
     "output_type": "execute_result"
    }
   ],
   "source": [
    "v = Lambda((a,b), a*b); v"
   ]
  },
  {
   "cell_type": "code",
   "execution_count": 5,
   "metadata": {
    "execution": {
     "iopub.execute_input": "2020-10-04T18:07:26.317810Z",
     "iopub.status.busy": "2020-10-04T18:07:26.316188Z",
     "iopub.status.idle": "2020-10-04T18:07:26.357748Z",
     "shell.execute_reply": "2020-10-04T18:07:26.359236Z"
    },
    "title": "codecell"
   },
   "outputs": [
    {
     "data": {
      "text/latex": [
       "$\\displaystyle \\left[\\begin{matrix}w_{11} x_{11} + w_{21} x_{12} + w_{31} x_{13} & w_{12} x_{11} + w_{22} x_{12} + w_{32} x_{13}\\\\w_{11} x_{21} + w_{21} x_{22} + w_{31} x_{23} & w_{12} x_{21} + w_{22} x_{22} + w_{32} x_{23}\\\\w_{11} x_{31} + w_{21} x_{32} + w_{31} x_{33} & w_{12} x_{31} + w_{22} x_{32} + w_{32} x_{33}\\end{matrix}\\right]$"
      ],
      "text/plain": [
       "Matrix([\n",
       "[w_11*x_11 + w_21*x_12 + w_31*x_13, w_12*x_11 + w_22*x_12 + w_32*x_13],\n",
       "[w_11*x_21 + w_21*x_22 + w_31*x_23, w_12*x_21 + w_22*x_22 + w_32*x_23],\n",
       "[w_11*x_31 + w_21*x_32 + w_31*x_33, w_12*x_31 + w_22*x_32 + w_32*x_33]])"
      ]
     },
     "execution_count": 1,
     "metadata": {},
     "output_type": "execute_result"
    }
   ],
   "source": [
    "N = v(X, W); N"
   ]
  },
  {
   "cell_type": "markdown",
   "execution_count": 6,
   "metadata": {
    "lines_to_next_cell": 0,
    "title": "markdown"
   },
   "source": [
    "\n",
    "Defining $S = \\sigma_{\\text{apply}}(N) = \\sigma_{\\text{apply}}(\\nu(X,W)) = \\sigma_\\text{apply}(X \\times W) = \\Big \\{ \\sigma(XW_{ij}) \\Big\\}$.\n",
    "\n",
    "\n",
    "Assume that $\\sigma_{\\text{apply}} : \\mathbb{R}^{n \\times p} \\rightarrow \\mathbb{R}^{n \\times p}$ while $\\sigma : \\mathbb{R} \\rightarrow \\mathbb{R}$, so the function $\\sigma_{\\text{apply}}$ takes in a matrix and returns a matrix while the simple $\\sigma$ acts on the individual elements $N_{ij} = XW_{ij}$ in the matrix argument $N$ of $\\sigma_{\\text{apply}}$.\n",
    "\n",
    "* $\\sigma : \\mathbb{R} \\rightarrow \\mathbb{R}$\n",
    "* $\\sigma_\\text{apply} : \\mathbb{R}^{n \\times p} \\rightarrow \\mathbb{R}^{n \\times p}$\n",
    "* $S \\in \\mathbb{R}^{n \\times p}$"
   ]
  },
  {
   "cell_type": "code",
   "execution_count": 6,
   "metadata": {
    "execution": {
     "iopub.execute_input": "2020-10-04T18:07:26.364596Z",
     "iopub.status.busy": "2020-10-04T18:07:26.363051Z",
     "iopub.status.idle": "2020-10-04T18:07:26.377773Z",
     "shell.execute_reply": "2020-10-04T18:07:26.378834Z"
    },
    "title": "codecell"
   },
   "outputs": [
    {
     "data": {
      "text/latex": [
       "$\\displaystyle \\sigma{\\left(w_{11} x_{11} + w_{21} x_{12} + w_{31} x_{13} \\right)}$"
      ],
      "text/plain": [
       "sigma(w_11*x_11 + w_21*x_12 + w_31*x_13)"
      ]
     },
     "execution_count": 1,
     "metadata": {},
     "output_type": "execute_result"
    }
   ],
   "source": [
    "from sympy import Function\n",
    "\n",
    "# Nvec = Symbol('N', commutative=False)\n",
    "\n",
    "sigma = Function('sigma')\n",
    "sigma(N[0,0])"
   ]
  },
  {
   "cell_type": "code",
   "execution_count": 7,
   "metadata": {
    "execution": {
     "iopub.execute_input": "2020-10-04T18:07:26.384285Z",
     "iopub.status.busy": "2020-10-04T18:07:26.382720Z",
     "iopub.status.idle": "2020-10-04T18:07:26.411667Z",
     "shell.execute_reply": "2020-10-04T18:07:26.412743Z"
    },
    "lines_to_next_cell": 0,
    "title": "codecell"
   },
   "outputs": [
    {
     "data": {
      "text/latex": [
       "$\\displaystyle \\left[\\begin{matrix}\\sigma{\\left(w_{11} x_{11} + w_{21} x_{12} + w_{31} x_{13} \\right)} & \\sigma{\\left(w_{12} x_{11} + w_{22} x_{12} + w_{32} x_{13} \\right)}\\\\\\sigma{\\left(w_{11} x_{21} + w_{21} x_{22} + w_{31} x_{23} \\right)} & \\sigma{\\left(w_{12} x_{21} + w_{22} x_{22} + w_{32} x_{23} \\right)}\\\\\\sigma{\\left(w_{11} x_{31} + w_{21} x_{32} + w_{31} x_{33} \\right)} & \\sigma{\\left(w_{12} x_{31} + w_{22} x_{32} + w_{32} x_{33} \\right)}\\end{matrix}\\right]$"
      ],
      "text/plain": [
       "Matrix([\n",
       "[sigma(w_11*x_11 + w_21*x_12 + w_31*x_13), sigma(w_12*x_11 + w_22*x_12 + w_32*x_13)],\n",
       "[sigma(w_11*x_21 + w_21*x_22 + w_31*x_23), sigma(w_12*x_21 + w_22*x_22 + w_32*x_23)],\n",
       "[sigma(w_11*x_31 + w_21*x_32 + w_31*x_33), sigma(w_12*x_31 + w_22*x_32 + w_32*x_33)]])"
      ]
     },
     "execution_count": 1,
     "metadata": {},
     "output_type": "execute_result"
    }
   ],
   "source": [
    "# way 1 of declaring S\n",
    "S = N.applyfunc(sigma); S\n",
    "#type(S)\n",
    "#Matrix(3, 2, lambda i, j: sigma(N[i,j]))"
   ]
  },
  {
   "cell_type": "code",
   "execution_count": 8,
   "metadata": {
    "execution": {
     "iopub.execute_input": "2020-10-04T18:07:26.417698Z",
     "iopub.status.busy": "2020-10-04T18:07:26.416215Z",
     "iopub.status.idle": "2020-10-04T18:07:26.444874Z",
     "shell.execute_reply": "2020-10-04T18:07:26.446027Z"
    },
    "title": "codecell"
   },
   "outputs": [
    {
     "data": {
      "text/latex": [
       "$\\displaystyle \\left[\\begin{matrix}\\sigma{\\left(w_{11} x_{11} + w_{21} x_{12} + w_{31} x_{13} \\right)} & \\sigma{\\left(w_{12} x_{11} + w_{22} x_{12} + w_{32} x_{13} \\right)}\\\\\\sigma{\\left(w_{11} x_{21} + w_{21} x_{22} + w_{31} x_{23} \\right)} & \\sigma{\\left(w_{12} x_{21} + w_{22} x_{22} + w_{32} x_{23} \\right)}\\\\\\sigma{\\left(w_{11} x_{31} + w_{21} x_{32} + w_{31} x_{33} \\right)} & \\sigma{\\left(w_{12} x_{31} + w_{22} x_{32} + w_{32} x_{33} \\right)}\\end{matrix}\\right]$"
      ],
      "text/plain": [
       "Matrix([\n",
       "[sigma(w_11*x_11 + w_21*x_12 + w_31*x_13), sigma(w_12*x_11 + w_22*x_12 + w_32*x_13)],\n",
       "[sigma(w_11*x_21 + w_21*x_22 + w_31*x_23), sigma(w_12*x_21 + w_22*x_22 + w_32*x_23)],\n",
       "[sigma(w_11*x_31 + w_21*x_32 + w_31*x_33), sigma(w_12*x_31 + w_22*x_32 + w_32*x_33)]])"
      ]
     },
     "execution_count": 1,
     "metadata": {},
     "output_type": "execute_result"
    }
   ],
   "source": [
    "# way 2 of declaring S (better way)\n",
    "sigmaApply = lambda matrix:  matrix.applyfunc(sigma)\n",
    "\n",
    "sigmaApply(N)"
   ]
  },
  {
   "cell_type": "code",
   "execution_count": 9,
   "metadata": {
    "execution": {
     "iopub.execute_input": "2020-10-04T18:07:26.451301Z",
     "iopub.status.busy": "2020-10-04T18:07:26.449734Z",
     "iopub.status.idle": "2020-10-04T18:07:26.503441Z",
     "shell.execute_reply": "2020-10-04T18:07:26.504733Z"
    },
    "lines_to_next_cell": 0,
    "title": "codecell"
   },
   "outputs": [
    {
     "data": {
      "text/latex": [
       "$\\displaystyle \\left[\\begin{matrix}\\sigma{\\left(x_{11}^{2} + x_{12} x_{21} + x_{13} x_{31} \\right)} & \\sigma{\\left(x_{11} x_{12} + x_{12} x_{22} + x_{13} x_{32} \\right)} & \\sigma{\\left(x_{11} x_{13} + x_{12} x_{23} + x_{13} x_{33} \\right)}\\\\\\sigma{\\left(x_{11} x_{21} + x_{21} x_{22} + x_{23} x_{31} \\right)} & \\sigma{\\left(x_{12} x_{21} + x_{22}^{2} + x_{23} x_{32} \\right)} & \\sigma{\\left(x_{13} x_{21} + x_{22} x_{23} + x_{23} x_{33} \\right)}\\\\\\sigma{\\left(x_{11} x_{31} + x_{21} x_{32} + x_{31} x_{33} \\right)} & \\sigma{\\left(x_{12} x_{31} + x_{22} x_{32} + x_{32} x_{33} \\right)} & \\sigma{\\left(x_{13} x_{31} + x_{23} x_{32} + x_{33}^{2} \\right)}\\end{matrix}\\right]$"
      ],
      "text/plain": [
       "Matrix([\n",
       "[  sigma(x_11**2 + x_12*x_21 + x_13*x_31), sigma(x_11*x_12 + x_12*x_22 + x_13*x_32), sigma(x_11*x_13 + x_12*x_23 + x_13*x_33)],\n",
       "[sigma(x_11*x_21 + x_21*x_22 + x_23*x_31),   sigma(x_12*x_21 + x_22**2 + x_23*x_32), sigma(x_13*x_21 + x_22*x_23 + x_23*x_33)],\n",
       "[sigma(x_11*x_31 + x_21*x_32 + x_31*x_33), sigma(x_12*x_31 + x_22*x_32 + x_32*x_33),   sigma(x_13*x_31 + x_23*x_32 + x_33**2)]])"
      ]
     },
     "execution_count": 1,
     "metadata": {},
     "output_type": "execute_result"
    }
   ],
   "source": [
    "sigmaApply(X**2) # can apply this function to any matrix argument."
   ]
  },
  {
   "cell_type": "code",
   "execution_count": 10,
   "metadata": {
    "execution": {
     "iopub.execute_input": "2020-10-04T18:07:26.509783Z",
     "iopub.status.busy": "2020-10-04T18:07:26.508195Z",
     "iopub.status.idle": "2020-10-04T18:07:26.538677Z",
     "shell.execute_reply": "2020-10-04T18:07:26.539877Z"
    },
    "title": "codecell"
   },
   "outputs": [
    {
     "data": {
      "text/latex": [
       "$\\displaystyle \\left[\\begin{matrix}\\sigma{\\left(w_{11} x_{11} + w_{21} x_{12} + w_{31} x_{13} \\right)} & \\sigma{\\left(w_{12} x_{11} + w_{22} x_{12} + w_{32} x_{13} \\right)}\\\\\\sigma{\\left(w_{11} x_{21} + w_{21} x_{22} + w_{31} x_{23} \\right)} & \\sigma{\\left(w_{12} x_{21} + w_{22} x_{22} + w_{32} x_{23} \\right)}\\\\\\sigma{\\left(w_{11} x_{31} + w_{21} x_{32} + w_{31} x_{33} \\right)} & \\sigma{\\left(w_{12} x_{31} + w_{22} x_{32} + w_{32} x_{33} \\right)}\\end{matrix}\\right]$"
      ],
      "text/plain": [
       "Matrix([\n",
       "[sigma(w_11*x_11 + w_21*x_12 + w_31*x_13), sigma(w_12*x_11 + w_22*x_12 + w_32*x_13)],\n",
       "[sigma(w_11*x_21 + w_21*x_22 + w_31*x_23), sigma(w_12*x_21 + w_22*x_22 + w_32*x_23)],\n",
       "[sigma(w_11*x_31 + w_21*x_32 + w_31*x_33), sigma(w_12*x_31 + w_22*x_32 + w_32*x_33)]])"
      ]
     },
     "execution_count": 1,
     "metadata": {},
     "output_type": "execute_result"
    }
   ],
   "source": [
    "S = sigmaApply(v(X,W)) # composing\n",
    "S"
   ]
  },
  {
   "cell_type": "markdown",
   "execution_count": 11,
   "metadata": {
    "lines_to_next_cell": 0,
    "title": "markdown"
   },
   "source": [
    "\n",
    "Defining $L = \\Lambda(S) = \\Lambda(\\sigma_\\text{apply}(\\nu(X,W))) = \\Lambda \\Big(\\Big \\{ \\sigma(XW_{ij}) \\Big\\} \\Big)$. In general, let the function be defined as:\n",
    "\n",
    "$$\n",
    "\\begin{aligned}\n",
    "L &= \\Lambda \\begin{pmatrix}\n",
    "   \\sigma(XW_{11}) & \\sigma(XW_{12}) & ... & \\sigma(XW_{1p}) \\\\\n",
    "   \\sigma(XW_{21}) & \\sigma(XW_{22}) & ... & \\sigma(XW_{2p}) \\\\\n",
    "   \\vdots & \\vdots & & \\vdots \\\\\n",
    "   \\sigma(XW_{n1}) & \\sigma(XW_{n2}) & ... & \\sigma(XW_{np})\n",
    "\\end{pmatrix} \\\\\n",
    "&= \\sum_{i=1}^p \\sum_{j = 1}^n  \\sigma(XW_{ij}) \\\\\n",
    "&= \\sigma(XW_{11}) + \\sigma{XW_{12}} + ... + \\sigma(XW_{np})\n",
    "\\end{aligned}\n",
    "$$"
   ]
  },
  {
   "cell_type": "markdown",
   "execution_count": 11,
   "metadata": {
    "lines_to_next_cell": 0,
    "title": "markdown"
   },
   "source": [
    "NOTE HERE:\n",
    "* $\\Lambda: \\mathbb{R}^{n \\times p} \\rightarrow \\mathbb{R}$\n",
    "* $L \\in \\mathbb{R}$"
   ]
  },
  {
   "cell_type": "code",
   "execution_count": 11,
   "metadata": {
    "execution": {
     "iopub.execute_input": "2020-10-04T18:07:26.545463Z",
     "iopub.status.busy": "2020-10-04T18:07:26.543816Z",
     "iopub.status.idle": "2020-10-04T18:07:26.584317Z",
     "shell.execute_reply": "2020-10-04T18:07:26.585510Z"
    },
    "lines_to_next_cell": 0,
    "title": "codecell"
   },
   "outputs": [
    {
     "data": {
      "text/latex": [
       "$\\displaystyle \\sigma{\\left(w_{11} x_{11} + w_{21} x_{12} + w_{31} x_{13} \\right)} + \\sigma{\\left(w_{11} x_{21} + w_{21} x_{22} + w_{31} x_{23} \\right)} + \\sigma{\\left(w_{11} x_{31} + w_{21} x_{32} + w_{31} x_{33} \\right)} + \\sigma{\\left(w_{12} x_{11} + w_{22} x_{12} + w_{32} x_{13} \\right)} + \\sigma{\\left(w_{12} x_{21} + w_{22} x_{22} + w_{32} x_{23} \\right)} + \\sigma{\\left(w_{12} x_{31} + w_{22} x_{32} + w_{32} x_{33} \\right)}$"
      ],
      "text/plain": [
       "sigma(w_11*x_11 + w_21*x_12 + w_31*x_13) + sigma(w_11*x_21 + w_21*x_22 + w_31*x_23) + sigma(w_11*x_31 + w_21*x_32 + w_31*x_33) + sigma(w_12*x_11 + w_22*x_12 + w_32*x_13) + sigma(w_12*x_21 + w_22*x_22 + w_32*x_23) + sigma(w_12*x_31 + w_22*x_32 + w_32*x_33)"
      ]
     },
     "execution_count": 1,
     "metadata": {},
     "output_type": "execute_result"
    }
   ],
   "source": [
    "lambdaF = lambda matrix : sum(matrix)\n",
    "lambdaF(S)"
   ]
  },
  {
   "cell_type": "code",
   "execution_count": 12,
   "metadata": {
    "execution": {
     "iopub.execute_input": "2020-10-04T18:07:26.591128Z",
     "iopub.status.busy": "2020-10-04T18:07:26.589399Z",
     "iopub.status.idle": "2020-10-04T18:07:26.622204Z",
     "shell.execute_reply": "2020-10-04T18:07:26.623344Z"
    },
    "title": "codecell"
   },
   "outputs": [
    {
     "data": {
      "text/latex": [
       "$\\displaystyle \\sigma{\\left(w_{11} x_{11} + w_{21} x_{12} + w_{31} x_{13} \\right)} + \\sigma{\\left(w_{11} x_{21} + w_{21} x_{22} + w_{31} x_{23} \\right)} + \\sigma{\\left(w_{11} x_{31} + w_{21} x_{32} + w_{31} x_{33} \\right)} + \\sigma{\\left(w_{12} x_{11} + w_{22} x_{12} + w_{32} x_{13} \\right)} + \\sigma{\\left(w_{12} x_{21} + w_{22} x_{22} + w_{32} x_{23} \\right)} + \\sigma{\\left(w_{12} x_{31} + w_{22} x_{32} + w_{32} x_{33} \\right)}$"
      ],
      "text/plain": [
       "sigma(w_11*x_11 + w_21*x_12 + w_31*x_13) + sigma(w_11*x_21 + w_21*x_22 + w_31*x_23) + sigma(w_11*x_31 + w_21*x_32 + w_31*x_33) + sigma(w_12*x_11 + w_22*x_12 + w_32*x_13) + sigma(w_12*x_21 + w_22*x_22 + w_32*x_23) + sigma(w_12*x_31 + w_22*x_32 + w_32*x_33)"
      ]
     },
     "execution_count": 1,
     "metadata": {},
     "output_type": "execute_result"
    }
   ],
   "source": [
    "L = lambdaF(sigmaApply(v(X, W)))\n",
    "L\n",
    "#L = lambda mat1, mat2: lambdaF(sigmaApply(v(mat1, mat2)))\n",
    "#L(X, W)\n",
    "\n"
   ]
  },
  {
   "cell_type": "code",
   "execution_count": 13,
   "metadata": {
    "execution": {
     "iopub.execute_input": "2020-10-04T18:07:26.628543Z",
     "iopub.status.busy": "2020-10-04T18:07:26.626916Z",
     "iopub.status.idle": "2020-10-04T18:07:26.632747Z",
     "shell.execute_reply": "2020-10-04T18:07:26.633994Z"
    },
    "lines_to_next_cell": 0,
    "title": "codecell"
   },
   "outputs": [],
   "source": [
    "#derive_by_array(L, X)"
   ]
  },
  {
   "cell_type": "code",
   "execution_count": 14,
   "metadata": {
    "execution": {
     "iopub.execute_input": "2020-10-04T18:07:26.639643Z",
     "iopub.status.busy": "2020-10-04T18:07:26.637380Z",
     "iopub.status.idle": "2020-10-04T18:07:26.678222Z",
     "shell.execute_reply": "2020-10-04T18:07:26.679577Z"
    },
    "lines_to_next_cell": 0,
    "title": "codecell"
   },
   "outputs": [
    {
     "data": {
      "text/latex": [
       "$\\displaystyle \\left[\\begin{matrix}1 & 1\\\\1 & 1\\\\1 & 1\\end{matrix}\\right]$"
      ],
      "text/plain": [
       "[[1, 1], [1, 1], [1, 1]]"
      ]
     },
     "execution_count": 1,
     "metadata": {},
     "output_type": "execute_result"
    }
   ],
   "source": [
    "derive_by_array(L, S)"
   ]
  },
  {
   "cell_type": "code",
   "execution_count": 15,
   "metadata": {
    "execution": {
     "iopub.execute_input": "2020-10-04T18:07:26.684864Z",
     "iopub.status.busy": "2020-10-04T18:07:26.683170Z",
     "iopub.status.idle": "2020-10-04T18:07:27.051440Z",
     "shell.execute_reply": "2020-10-04T18:07:27.052579Z"
    },
    "title": "codecell"
   },
   "outputs": [
    {
     "data": {
      "text/plain": [
       "16"
      ]
     },
     "execution_count": 1,
     "metadata": {},
     "output_type": "execute_result"
    }
   ],
   "source": [
    "from sympy import sympify, lambdify\n",
    "n = lambdify((X[0,0],X[0,1],X[0,2],W[0,0],W[1,0],W[2,0]), N[0,0])\n",
    "n(1,2,3,4,3,2)"
   ]
  },
  {
   "cell_type": "code",
   "execution_count": 16,
   "metadata": {
    "execution": {
     "iopub.execute_input": "2020-10-04T18:07:27.058105Z",
     "iopub.status.busy": "2020-10-04T18:07:27.056385Z",
     "iopub.status.idle": "2020-10-04T18:07:27.071318Z",
     "shell.execute_reply": "2020-10-04T18:07:27.072604Z"
    },
    "lines_to_next_cell": 0,
    "title": "codecell"
   },
   "outputs": [
    {
     "data": {
      "text/latex": [
       "$\\displaystyle f{\\left(w_{11} x_{11} + w_{21} x_{12} + w_{31} x_{13} \\right)}$"
      ],
      "text/plain": [
       "f(w_11*x_11 + w_21*x_12 + w_31*x_13)"
      ]
     },
     "execution_count": 1,
     "metadata": {},
     "output_type": "execute_result"
    }
   ],
   "source": [
    "f = Function('f') #(sympify(N[0,0]))\n",
    "f(N[0,0])"
   ]
  },
  {
   "cell_type": "code",
   "execution_count": 17,
   "metadata": {
    "execution": {
     "iopub.execute_input": "2020-10-04T18:07:27.078050Z",
     "iopub.status.busy": "2020-10-04T18:07:27.076471Z",
     "iopub.status.idle": "2020-10-04T18:07:27.099904Z",
     "shell.execute_reply": "2020-10-04T18:07:27.100983Z"
    },
    "title": "codecell"
   },
   "outputs": [
    {
     "data": {
      "text/latex": [
       "$\\displaystyle w_{11} \\left. \\frac{d}{d \\xi_{1}} f{\\left(\\xi_{1} \\right)} \\right|_{\\substack{ \\xi_{1}=w_{11} x_{11} + w_{21} x_{12} + w_{31} x_{13} }}$"
      ],
      "text/plain": [
       "w_11*Subs(Derivative(f(_xi_1), _xi_1), _xi_1, w_11*x_11 + w_21*x_12 + w_31*x_13)"
      ]
     },
     "execution_count": 1,
     "metadata": {},
     "output_type": "execute_result"
    }
   ],
   "source": [
    "f(N[0,0]).diff(X[0,0])\n",
    "\n",
    "\n"
   ]
  },
  {
   "cell_type": "code",
   "execution_count": 18,
   "metadata": {
    "execution": {
     "iopub.execute_input": "2020-10-04T18:07:27.106149Z",
     "iopub.status.busy": "2020-10-04T18:07:27.104698Z",
     "iopub.status.idle": "2020-10-04T18:07:27.118930Z",
     "shell.execute_reply": "2020-10-04T18:07:27.120062Z"
    },
    "lines_to_next_cell": 0,
    "title": "codecell"
   },
   "outputs": [
    {
     "data": {
      "text/plain": [
       "w_11*x_11 + w_21*x_12 + w_31*x_13"
      ]
     },
     "execution_count": 1,
     "metadata": {},
     "output_type": "execute_result"
    }
   ],
   "source": [
    "n = v(X,W); n\n",
    "n11 = Function('{}'.format(n[0,0]))\n",
    "n11"
   ]
  },
  {
   "cell_type": "code",
   "execution_count": 19,
   "metadata": {
    "execution": {
     "iopub.execute_input": "2020-10-04T18:07:27.125397Z",
     "iopub.status.busy": "2020-10-04T18:07:27.123712Z",
     "iopub.status.idle": "2020-10-04T18:07:27.131216Z",
     "shell.execute_reply": "2020-10-04T18:07:27.132344Z"
    },
    "lines_to_next_cell": 2,
    "title": "codecell"
   },
   "outputs": [],
   "source": [
    "s_ij = Function('s_ij')\n",
    "sig = Function('sig')(x)"
   ]
  },
  {
   "cell_type": "code",
   "execution_count": 20,
   "metadata": {
    "execution": {
     "iopub.execute_input": "2020-10-04T18:07:27.137181Z",
     "iopub.status.busy": "2020-10-04T18:07:27.135536Z",
     "iopub.status.idle": "2020-10-04T18:07:27.141714Z",
     "shell.execute_reply": "2020-10-04T18:07:27.142835Z"
    },
    "title": "codecell"
   },
   "outputs": [],
   "source": [
    "\n",
    "# KEY: got not expecting UndefinedFunction error again here too\n",
    "#S_ij = Matrix(3, 2, lambda i,j: Function('s_{}{}'.format(i+1,j+1))(Function('{}'.format(N[i,j]))))\n",
    "\n"
   ]
  },
  {
   "cell_type": "code",
   "execution_count": 21,
   "metadata": {
    "execution": {
     "iopub.execute_input": "2020-10-04T18:07:27.148418Z",
     "iopub.status.busy": "2020-10-04T18:07:27.146434Z",
     "iopub.status.idle": "2020-10-04T18:07:27.160932Z",
     "shell.execute_reply": "2020-10-04T18:07:27.162487Z"
    },
    "title": "codecell"
   },
   "outputs": [
    {
     "data": {
      "text/latex": [
       "$\\displaystyle 3*x*y$"
      ],
      "text/plain": [
       "3*x*y"
      ]
     },
     "execution_count": 1,
     "metadata": {},
     "output_type": "execute_result"
    }
   ],
   "source": [
    "#S_ij[0,0](sympify(N[0,0])).diff(sympify(N[0,0]))\n",
    "F = 3*x*y\n",
    "\n",
    "xy = Symbol('{}'.format(F))\n",
    "xy.subs({x:3})\n",
    "sympify(xy).subs({x:3})"
   ]
  },
  {
   "cell_type": "markdown",
   "execution_count": 22,
   "metadata": {
    "lines_to_next_cell": 0,
    "title": "markdown"
   },
   "source": [
    "Sympy Example of trying to differentiate with respect to an **expression** not just a variable."
   ]
  },
  {
   "cell_type": "code",
   "execution_count": 22,
   "metadata": {
    "execution": {
     "iopub.execute_input": "2020-10-04T18:07:27.167629Z",
     "iopub.status.busy": "2020-10-04T18:07:27.165930Z",
     "iopub.status.idle": "2020-10-04T18:07:27.189016Z",
     "shell.execute_reply": "2020-10-04T18:07:27.190172Z"
    },
    "title": "codecell"
   },
   "outputs": [
    {
     "data": {
      "text/latex": [
       "$\\displaystyle \\left. \\frac{\\partial}{\\partial \\xi_{2}} F{\\left(t,\\xi_{2},\\frac{d}{d t} f{\\left(t \\right)} \\right)} \\right|_{\\substack{ \\xi_{2}=f{\\left(t \\right)} }}$"
      ],
      "text/plain": [
       "Subs(Derivative(F(t, _xi_2, Derivative(f(t), t)), _xi_2), _xi_2, f(t))"
      ]
     },
     "execution_count": 1,
     "metadata": {},
     "output_type": "execute_result"
    }
   ],
   "source": [
    "from sympy.abc import t\n",
    "\n",
    "F = Function('F')\n",
    "f = Function('f')\n",
    "U = f(t)\n",
    "V = U.diff(t)\n",
    "\n",
    "direct = F(t, U, V).diff(U); direct"
   ]
  },
  {
   "cell_type": "code",
   "execution_count": 23,
   "metadata": {
    "execution": {
     "iopub.execute_input": "2020-10-04T18:07:27.195425Z",
     "iopub.status.busy": "2020-10-04T18:07:27.193769Z",
     "iopub.status.idle": "2020-10-04T18:07:27.204388Z",
     "shell.execute_reply": "2020-10-04T18:07:27.205552Z"
    },
    "lines_to_next_cell": 0,
    "title": "codecell"
   },
   "outputs": [
    {
     "data": {
      "text/latex": [
       "$\\displaystyle F{\\left(t,f{\\left(t \\right)},\\frac{d}{d t} f{\\left(t \\right)} \\right)}$"
      ],
      "text/plain": [
       "F(t, f(t), Derivative(f(t), t))"
      ]
     },
     "execution_count": 1,
     "metadata": {},
     "output_type": "execute_result"
    }
   ],
   "source": [
    "F(t,U,V)"
   ]
  },
  {
   "cell_type": "code",
   "execution_count": 24,
   "metadata": {
    "execution": {
     "iopub.execute_input": "2020-10-04T18:07:27.210434Z",
     "iopub.status.busy": "2020-10-04T18:07:27.208862Z",
     "iopub.status.idle": "2020-10-04T18:07:27.220641Z",
     "shell.execute_reply": "2020-10-04T18:07:27.221797Z"
    },
    "lines_to_next_cell": 0,
    "title": "codecell"
   },
   "outputs": [
    {
     "data": {
      "text/latex": [
       "$\\displaystyle F{\\left(t,x,\\frac{d}{d t} x \\right)}$"
      ],
      "text/plain": [
       "F(t, x, Derivative(x, t))"
      ]
     },
     "execution_count": 1,
     "metadata": {},
     "output_type": "execute_result"
    }
   ],
   "source": [
    "F(t,U,V).subs(U,x)"
   ]
  },
  {
   "cell_type": "code",
   "execution_count": 25,
   "metadata": {
    "execution": {
     "iopub.execute_input": "2020-10-04T18:07:27.226764Z",
     "iopub.status.busy": "2020-10-04T18:07:27.225170Z",
     "iopub.status.idle": "2020-10-04T18:07:27.239496Z",
     "shell.execute_reply": "2020-10-04T18:07:27.240577Z"
    },
    "lines_to_next_cell": 0,
    "title": "codecell"
   },
   "outputs": [
    {
     "data": {
      "text/latex": [
       "$\\displaystyle \\left. \\frac{\\partial}{\\partial \\xi_{2}} F{\\left(t,\\xi_{2},\\frac{d}{d t} x \\right)} \\right|_{\\substack{ \\xi_{2}=x }}$"
      ],
      "text/plain": [
       "Subs(Derivative(F(t, _xi_2, Derivative(x, t)), _xi_2), _xi_2, x)"
      ]
     },
     "execution_count": 1,
     "metadata": {},
     "output_type": "execute_result"
    }
   ],
   "source": [
    "F(t,U,V).subs(U,x).diff(x)"
   ]
  },
  {
   "cell_type": "code",
   "execution_count": 26,
   "metadata": {
    "execution": {
     "iopub.execute_input": "2020-10-04T18:07:27.245667Z",
     "iopub.status.busy": "2020-10-04T18:07:27.244139Z",
     "iopub.status.idle": "2020-10-04T18:07:27.261069Z",
     "shell.execute_reply": "2020-10-04T18:07:27.262209Z"
    },
    "lines_to_next_cell": 0,
    "title": "codecell"
   },
   "outputs": [
    {
     "data": {
      "text/latex": [
       "$\\displaystyle \\left. \\frac{\\partial}{\\partial \\xi_{2}} F{\\left(t,\\xi_{2},\\frac{d}{d t} f{\\left(t \\right)} \\right)} \\right|_{\\substack{ \\xi_{2}=f{\\left(t \\right)} }}$"
      ],
      "text/plain": [
       "Subs(Derivative(F(t, _xi_2, Derivative(f(t), t)), _xi_2), _xi_2, f(t))"
      ]
     },
     "execution_count": 1,
     "metadata": {},
     "output_type": "execute_result"
    }
   ],
   "source": [
    "F(t,U,V).subs(U,x).diff(x).subs(x, U)"
   ]
  },
  {
   "cell_type": "code",
   "execution_count": 27,
   "metadata": {
    "execution": {
     "iopub.execute_input": "2020-10-04T18:07:27.267942Z",
     "iopub.status.busy": "2020-10-04T18:07:27.266330Z",
     "iopub.status.idle": "2020-10-04T18:07:27.281557Z",
     "shell.execute_reply": "2020-10-04T18:07:27.282696Z"
    },
    "lines_to_next_cell": 0,
    "title": "codecell"
   },
   "outputs": [
    {
     "data": {
      "text/latex": [
       "$\\displaystyle \\left. \\frac{\\partial}{\\partial \\xi_{2}} F{\\left(t,\\xi_{2},\\frac{d}{d t} f{\\left(t \\right)} \\right)} \\right|_{\\substack{ \\xi_{2}=f{\\left(t \\right)} }}$"
      ],
      "text/plain": [
       "Subs(Derivative(F(t, _xi_2, Derivative(f(t), t)), _xi_2), _xi_2, f(t))"
      ]
     },
     "execution_count": 1,
     "metadata": {},
     "output_type": "execute_result"
    }
   ],
   "source": [
    "indirect = F(t,U,V).subs(U, x).diff(x).subs(x,U); indirect"
   ]
  },
  {
   "cell_type": "code",
   "execution_count": 28,
   "metadata": {
    "execution": {
     "iopub.execute_input": "2020-10-04T18:07:27.287709Z",
     "iopub.status.busy": "2020-10-04T18:07:27.286109Z",
     "iopub.status.idle": "2020-10-04T18:07:27.297166Z",
     "shell.execute_reply": "2020-10-04T18:07:27.298262Z"
    },
    "lines_to_next_cell": 0,
    "title": "codecell"
   },
   "outputs": [
    {
     "data": {
      "text/latex": [
       "$\\displaystyle 6$"
      ],
      "text/plain": [
       "6"
      ]
     },
     "execution_count": 1,
     "metadata": {},
     "output_type": "execute_result"
    }
   ],
   "source": [
    "F = Lambda((x,y), 3*x* y)\n",
    "F(1,2)"
   ]
  },
  {
   "cell_type": "code",
   "execution_count": 29,
   "metadata": {
    "execution": {
     "iopub.execute_input": "2020-10-04T18:07:27.303678Z",
     "iopub.status.busy": "2020-10-04T18:07:27.302109Z",
     "iopub.status.idle": "2020-10-04T18:07:27.312143Z",
     "shell.execute_reply": "2020-10-04T18:07:27.313211Z"
    },
    "lines_to_next_cell": 0,
    "title": "codecell"
   },
   "outputs": [
    {
     "data": {
      "text/latex": [
       "$\\displaystyle 3*x*y$"
      ],
      "text/plain": [
       "3*x*y"
      ]
     },
     "execution_count": 1,
     "metadata": {},
     "output_type": "execute_result"
    }
   ],
   "source": [
    "U = x*y\n",
    "G = 3*x*y\n",
    "xy"
   ]
  },
  {
   "cell_type": "code",
   "execution_count": 30,
   "metadata": {
    "execution": {
     "iopub.execute_input": "2020-10-04T18:07:27.318211Z",
     "iopub.status.busy": "2020-10-04T18:07:27.316733Z",
     "iopub.status.idle": "2020-10-04T18:07:27.326402Z",
     "shell.execute_reply": "2020-10-04T18:07:27.327464Z"
    },
    "lines_to_next_cell": 0,
    "title": "codecell"
   },
   "outputs": [
    {
     "data": {
      "text/latex": [
       "$\\displaystyle 0$"
      ],
      "text/plain": [
       "0"
      ]
     },
     "execution_count": 1,
     "metadata": {},
     "output_type": "execute_result"
    }
   ],
   "source": [
    "F.diff(xy)"
   ]
  },
  {
   "cell_type": "code",
   "execution_count": 31,
   "metadata": {
    "execution": {
     "iopub.execute_input": "2020-10-04T18:07:27.332545Z",
     "iopub.status.busy": "2020-10-04T18:07:27.330877Z",
     "iopub.status.idle": "2020-10-04T18:07:27.336962Z",
     "shell.execute_reply": "2020-10-04T18:07:27.338050Z"
    },
    "title": "codecell"
   },
   "outputs": [],
   "source": [
    "# derive_by_array(S, N) # ERROR"
   ]
  },
  {
   "cell_type": "code",
   "execution_count": 32,
   "metadata": {
    "execution": {
     "iopub.execute_input": "2020-10-04T18:07:27.343507Z",
     "iopub.status.busy": "2020-10-04T18:07:27.341853Z",
     "iopub.status.idle": "2020-10-04T18:07:27.355126Z",
     "shell.execute_reply": "2020-10-04T18:07:27.356400Z"
    },
    "lines_to_next_cell": 0,
    "title": "codecell"
   },
   "outputs": [
    {
     "data": {
      "text/latex": [
       "$\\displaystyle \\sigma{\\left(w_{11} x_{11} + w_{21} x_{12} + w_{31} x_{13} \\right)}$"
      ],
      "text/plain": [
       "sigma(w_11*x_11 + w_21*x_12 + w_31*x_13)"
      ]
     },
     "execution_count": 1,
     "metadata": {},
     "output_type": "execute_result"
    }
   ],
   "source": [
    "s11 = S[0,0]\n",
    "s11"
   ]
  },
  {
   "cell_type": "code",
   "execution_count": 33,
   "metadata": {
    "execution": {
     "iopub.execute_input": "2020-10-04T18:07:27.361623Z",
     "iopub.status.busy": "2020-10-04T18:07:27.360070Z",
     "iopub.status.idle": "2020-10-04T18:07:27.366242Z",
     "shell.execute_reply": "2020-10-04T18:07:27.367389Z"
    },
    "title": "codecell"
   },
   "outputs": [],
   "source": [
    "\n",
    "#s11.diff(n11)"
   ]
  },
  {
   "cell_type": "code",
   "execution_count": 34,
   "metadata": {
    "execution": {
     "iopub.execute_input": "2020-10-04T18:07:27.372374Z",
     "iopub.status.busy": "2020-10-04T18:07:27.370605Z",
     "iopub.status.idle": "2020-10-04T18:07:27.411505Z",
     "shell.execute_reply": "2020-10-04T18:07:27.412563Z"
    },
    "lines_to_next_cell": 2,
    "title": "codecell"
   },
   "outputs": [
    {
     "data": {
      "text/latex": [
       "$\\displaystyle \\left[\\begin{matrix}1 & 1\\\\1 & 1\\\\1 & 1\\end{matrix}\\right]$"
      ],
      "text/plain": [
       "[[1, 1], [1, 1], [1, 1]]"
      ]
     },
     "execution_count": 1,
     "metadata": {},
     "output_type": "execute_result"
    }
   ],
   "source": [
    "derive_by_array(L, S)"
   ]
  },
  {
   "cell_type": "code",
   "execution_count": 35,
   "metadata": {
    "execution": {
     "iopub.execute_input": "2020-10-04T18:07:27.418071Z",
     "iopub.status.busy": "2020-10-04T18:07:27.416389Z",
     "iopub.status.idle": "2020-10-04T18:07:27.438767Z",
     "shell.execute_reply": "2020-10-04T18:07:27.439997Z"
    },
    "title": "codecell"
   },
   "outputs": [
    {
     "data": {
      "text/latex": [
       "$\\displaystyle \\frac{d}{d f{\\left(x \\right)}} g{\\left(f{\\left(x \\right)} \\right)}$"
      ],
      "text/plain": [
       "Derivative(g(f(x)), f(x))"
      ]
     },
     "execution_count": 1,
     "metadata": {},
     "output_type": "execute_result"
    }
   ],
   "source": [
    "\n",
    "x, y, r, t = symbols('x y r t') # r (radius), t (angle theta)\n",
    "f, g, h = symbols('f g h', cls=Function)\n",
    "h = g(f(x))\n",
    "Derivative(h, f(x)).doit()\n",
    "\n",
    "\n"
   ]
  },
  {
   "cell_type": "code",
   "execution_count": 36,
   "metadata": {
    "execution": {
     "iopub.execute_input": "2020-10-04T18:07:27.445269Z",
     "iopub.status.busy": "2020-10-04T18:07:27.443459Z",
     "iopub.status.idle": "2020-10-04T18:07:27.457516Z",
     "shell.execute_reply": "2020-10-04T18:07:27.458834Z"
    },
    "lines_to_next_cell": 2,
    "title": "codecell"
   },
   "outputs": [
    {
     "data": {
      "text/latex": [
       "$\\displaystyle \\frac{d}{d f{\\left(x \\right)}} g{\\left(f{\\left(x \\right)} \\right)}$"
      ],
      "text/plain": [
       "Derivative(g(f(x)), f(x))"
      ]
     },
     "execution_count": 1,
     "metadata": {},
     "output_type": "execute_result"
    }
   ],
   "source": [
    "h.args[0]\n",
    "h.diff(h.args[0])"
   ]
  },
  {
   "cell_type": "code",
   "execution_count": 37,
   "metadata": {
    "execution": {
     "iopub.execute_input": "2020-10-04T18:07:27.464551Z",
     "iopub.status.busy": "2020-10-04T18:07:27.462526Z",
     "iopub.status.idle": "2020-10-04T18:07:27.494952Z",
     "shell.execute_reply": "2020-10-04T18:07:27.496185Z"
    },
    "title": "codecell"
   },
   "outputs": [
    {
     "data": {
      "text/latex": [
       "$\\displaystyle \\left[\\begin{matrix}\\sigma{\\left(w_{11} x_{11} + w_{21} x_{12} + w_{31} x_{13} \\right)} & \\sigma{\\left(w_{12} x_{11} + w_{22} x_{12} + w_{32} x_{13} \\right)}\\\\\\sigma{\\left(w_{11} x_{21} + w_{21} x_{22} + w_{31} x_{23} \\right)} & \\sigma{\\left(w_{12} x_{21} + w_{22} x_{22} + w_{32} x_{23} \\right)}\\\\\\sigma{\\left(w_{11} x_{31} + w_{21} x_{32} + w_{31} x_{33} \\right)} & \\sigma{\\left(w_{12} x_{31} + w_{22} x_{32} + w_{32} x_{33} \\right)}\\end{matrix}\\right]$"
      ],
      "text/plain": [
       "Matrix([\n",
       "[sigma(w_11*x_11 + w_21*x_12 + w_31*x_13), sigma(w_12*x_11 + w_22*x_12 + w_32*x_13)],\n",
       "[sigma(w_11*x_21 + w_21*x_22 + w_31*x_23), sigma(w_12*x_21 + w_22*x_22 + w_32*x_23)],\n",
       "[sigma(w_11*x_31 + w_21*x_32 + w_31*x_33), sigma(w_12*x_31 + w_22*x_32 + w_32*x_33)]])"
      ]
     },
     "execution_count": 1,
     "metadata": {},
     "output_type": "execute_result"
    }
   ],
   "source": [
    "S = sigmaApply(v(X,W)); S"
   ]
  },
  {
   "cell_type": "code",
   "execution_count": 38,
   "metadata": {
    "execution": {
     "iopub.execute_input": "2020-10-04T18:07:27.502605Z",
     "iopub.status.busy": "2020-10-04T18:07:27.499817Z",
     "iopub.status.idle": "2020-10-04T18:07:27.516037Z",
     "shell.execute_reply": "2020-10-04T18:07:27.517192Z"
    },
    "lines_to_next_cell": 0,
    "title": "codecell"
   },
   "outputs": [
    {
     "data": {
      "text/latex": [
       "$\\displaystyle \\sigma{\\left(w_{11*x 11 + w 21*x 12 + w 31*x 13} \\right)}$"
      ],
      "text/plain": [
       "sigma(w_11*x_11 + w_21*x_12 + w_31*x_13)"
      ]
     },
     "execution_count": 1,
     "metadata": {},
     "output_type": "execute_result"
    }
   ],
   "source": [
    "from sympy.abc import n\n",
    "\n",
    "n11 = (X*W)[0,0]\n",
    "m = lambda mat1, mat2: sympify(Symbol('{}'.format((mat1 * mat2)[0,0] )))\n",
    "s = sigma(m(X,W)); s"
   ]
  },
  {
   "cell_type": "code",
   "execution_count": 39,
   "metadata": {
    "execution": {
     "iopub.execute_input": "2020-10-04T18:07:27.522604Z",
     "iopub.status.busy": "2020-10-04T18:07:27.521029Z",
     "iopub.status.idle": "2020-10-04T18:07:27.531928Z",
     "shell.execute_reply": "2020-10-04T18:07:27.532999Z"
    },
    "lines_to_next_cell": 0,
    "title": "codecell"
   },
   "outputs": [
    {
     "data": {
      "text/latex": [
       "$\\displaystyle \\sigma{\\left(w_{11*x 11 + w 21*x 12 + w 31*x 13} \\right)}$"
      ],
      "text/plain": [
       "sigma(w_11*x_11 + w_21*x_12 + w_31*x_13)"
      ]
     },
     "execution_count": 1,
     "metadata": {},
     "output_type": "execute_result"
    }
   ],
   "source": [
    "s.subs({W[0,0]: 14}) # doesn't work to substitute into an undefined function"
   ]
  },
  {
   "cell_type": "code",
   "execution_count": 40,
   "metadata": {
    "execution": {
     "iopub.execute_input": "2020-10-04T18:07:27.537902Z",
     "iopub.status.busy": "2020-10-04T18:07:27.536404Z",
     "iopub.status.idle": "2020-10-04T18:07:27.549975Z",
     "shell.execute_reply": "2020-10-04T18:07:27.551081Z"
    },
    "lines_to_next_cell": 0,
    "title": "codecell"
   },
   "outputs": [
    {
     "data": {
      "text/latex": [
       "$\\displaystyle \\frac{d}{d w_{11*x 11 + w 21*x 12 + w 31*x 13}} \\sigma{\\left(w_{11*x 11 + w 21*x 12 + w 31*x 13} \\right)}$"
      ],
      "text/plain": [
       "Derivative(sigma(w_11*x_11 + w_21*x_12 + w_31*x_13), w_11*x_11 + w_21*x_12 + w_31*x_13)"
      ]
     },
     "execution_count": 1,
     "metadata": {},
     "output_type": "execute_result"
    }
   ],
   "source": [
    "Derivative(s, m(X,W)).doit()"
   ]
  },
  {
   "cell_type": "code",
   "execution_count": 41,
   "metadata": {
    "execution": {
     "iopub.execute_input": "2020-10-04T18:07:27.556228Z",
     "iopub.status.busy": "2020-10-04T18:07:27.554595Z",
     "iopub.status.idle": "2020-10-04T18:07:27.567651Z",
     "shell.execute_reply": "2020-10-04T18:07:27.568789Z"
    },
    "lines_to_next_cell": 0,
    "title": "codecell"
   },
   "outputs": [
    {
     "data": {
      "text/latex": [
       "$\\displaystyle \\sigma{\\left(w_{11} x_{11} + w_{21} x_{12} + w_{31} x_{13} \\right)}$"
      ],
      "text/plain": [
       "sigma(w_11*x_11 + w_21*x_12 + w_31*x_13)"
      ]
     },
     "execution_count": 1,
     "metadata": {},
     "output_type": "execute_result"
    }
   ],
   "source": [
    "\n",
    "#s11 = Function('s_{11}')(n11); s11\n",
    "#sigma(n11).diff(n11)\n",
    "\n",
    "#s11.diff(n11)\n",
    "sigma(n11)"
   ]
  },
  {
   "cell_type": "code",
   "execution_count": 42,
   "metadata": {
    "execution": {
     "iopub.execute_input": "2020-10-04T18:07:27.573820Z",
     "iopub.status.busy": "2020-10-04T18:07:27.572108Z",
     "iopub.status.idle": "2020-10-04T18:07:27.581588Z",
     "shell.execute_reply": "2020-10-04T18:07:27.582849Z"
    },
    "lines_to_next_cell": 0,
    "title": "codecell"
   },
   "outputs": [
    {
     "data": {
      "text/plain": [
       "sympy.core.add.Add"
      ]
     },
     "execution_count": 1,
     "metadata": {},
     "output_type": "execute_result"
    }
   ],
   "source": [
    "# ERROR HERE TOO\n",
    "type(sigma(n11).args[0])"
   ]
  },
  {
   "cell_type": "code",
   "execution_count": 43,
   "metadata": {
    "execution": {
     "iopub.execute_input": "2020-10-04T18:07:27.587771Z",
     "iopub.status.busy": "2020-10-04T18:07:27.586220Z",
     "iopub.status.idle": "2020-10-04T18:07:27.595515Z",
     "shell.execute_reply": "2020-10-04T18:07:27.596577Z"
    },
    "lines_to_next_cell": 0,
    "title": "codecell"
   },
   "outputs": [
    {
     "data": {
      "text/plain": [
       "sympy.core.add.Add"
      ]
     },
     "execution_count": 1,
     "metadata": {},
     "output_type": "execute_result"
    }
   ],
   "source": [
    "type(n11)"
   ]
  },
  {
   "cell_type": "code",
   "execution_count": 44,
   "metadata": {
    "execution": {
     "iopub.execute_input": "2020-10-04T18:07:27.601729Z",
     "iopub.status.busy": "2020-10-04T18:07:27.600145Z",
     "iopub.status.idle": "2020-10-04T18:07:27.605981Z",
     "shell.execute_reply": "2020-10-04T18:07:27.607092Z"
    },
    "lines_to_next_cell": 0,
    "title": "codecell"
   },
   "outputs": [],
   "source": [
    "#sigma(n11).diff(sigma(n11).args[0]) ## ERROR"
   ]
  },
  {
   "cell_type": "code",
   "execution_count": 45,
   "metadata": {
    "title": "codecell"
   },
   "outputs": [],
   "source": []
  },
  {
   "cell_type": "code",
   "execution_count": 45,
   "metadata": {
    "execution": {
     "iopub.execute_input": "2020-10-04T18:07:27.612345Z",
     "iopub.status.busy": "2020-10-04T18:07:27.610760Z",
     "iopub.status.idle": "2020-10-04T18:07:27.622827Z",
     "shell.execute_reply": "2020-10-04T18:07:27.624065Z"
    },
    "lines_to_next_cell": 2,
    "title": "codecell"
   },
   "outputs": [
    {
     "data": {
      "text/plain": [
       "w_11*x_11 + w_21*x_12 + w_31*x_13"
      ]
     },
     "execution_count": 1,
     "metadata": {},
     "output_type": "execute_result"
    }
   ],
   "source": [
    "b = Symbol('{}'.format(n11))\n",
    "ns_11 = Function(b, real=True)\n",
    "ns_11\n",
    "\n",
    "\n",
    "# ERROR cannot diff wi.r. to undefinedfunction\n",
    "# sigma(n11).diff(ns_11)\n",
    "\n",
    "\n",
    "#\n",
    "#sigma(b).diff(b).subs({b:1})"
   ]
  },
  {
   "cell_type": "code",
   "execution_count": 46,
   "metadata": {
    "execution": {
     "iopub.execute_input": "2020-10-04T18:07:27.628918Z",
     "iopub.status.busy": "2020-10-04T18:07:27.627221Z",
     "iopub.status.idle": "2020-10-04T18:07:27.638992Z",
     "shell.execute_reply": "2020-10-04T18:07:27.640138Z"
    },
    "lines_to_next_cell": 0,
    "title": "codecell"
   },
   "outputs": [
    {
     "data": {
      "text/latex": [
       "$\\displaystyle 0$"
      ],
      "text/plain": [
       "0"
      ]
     },
     "execution_count": 1,
     "metadata": {},
     "output_type": "execute_result"
    }
   ],
   "source": [
    "f, g = symbols('f g', cls=Function)\n",
    "xy = Symbol('x*y'); xy\n",
    "#sympify(xy).subs({x:2, y:4})\n",
    "f(g(x,y)).diff(xy)"
   ]
  },
  {
   "cell_type": "code",
   "execution_count": 47,
   "metadata": {
    "execution": {
     "iopub.execute_input": "2020-10-04T18:07:27.645187Z",
     "iopub.status.busy": "2020-10-04T18:07:27.643612Z",
     "iopub.status.idle": "2020-10-04T18:07:27.655952Z",
     "shell.execute_reply": "2020-10-04T18:07:27.657044Z"
    },
    "lines_to_next_cell": 0,
    "title": "codecell"
   },
   "outputs": [
    {
     "data": {
      "text/latex": [
       "$\\displaystyle \\frac{d}{d x*y} f{\\left(x*y \\right)}$"
      ],
      "text/plain": [
       "Derivative(f(x*y), x*y)"
      ]
     },
     "execution_count": 1,
     "metadata": {},
     "output_type": "execute_result"
    }
   ],
   "source": [
    "# TODO SEEM to have got the expression but it is not working since can't substitute anything .... ???\n",
    "f(xy).diff(xy).subs({x:2})"
   ]
  },
  {
   "cell_type": "code",
   "execution_count": 48,
   "metadata": {
    "execution": {
     "iopub.execute_input": "2020-10-04T18:07:27.662156Z",
     "iopub.status.busy": "2020-10-04T18:07:27.660467Z",
     "iopub.status.idle": "2020-10-04T18:07:27.681011Z",
     "shell.execute_reply": "2020-10-04T18:07:27.682194Z"
    },
    "title": "codecell"
   },
   "outputs": [
    {
     "data": {
      "text/latex": [
       "$\\displaystyle \\frac{d}{d g{\\left(x*y \\right)}} f{\\left(g{\\left(x*y \\right)} \\right)} \\frac{d}{d x*y} g{\\left(x*y \\right)}$"
      ],
      "text/plain": [
       "Derivative(f(g(x*y)), g(x*y))*Derivative(g(x*y), x*y)"
      ]
     },
     "execution_count": 1,
     "metadata": {},
     "output_type": "execute_result"
    }
   ],
   "source": [
    "Function(\"x*y\")(x,y)\n",
    "xyf = lambdify([x,y],xy)\n",
    "xyf(3,4)\n",
    "f(g(xy)).diff(xy)\n",
    "#"
   ]
  },
  {
   "cell_type": "code",
   "execution_count": 49,
   "metadata": {
    "execution": {
     "iopub.execute_input": "2020-10-04T18:07:27.687512Z",
     "iopub.status.busy": "2020-10-04T18:07:27.685910Z",
     "iopub.status.idle": "2020-10-04T18:07:27.696902Z",
     "shell.execute_reply": "2020-10-04T18:07:27.698129Z"
    },
    "title": "codecell"
   },
   "outputs": [
    {
     "data": {
      "text/latex": [
       "$\\displaystyle x y$"
      ],
      "text/plain": [
       "x*y"
      ]
     },
     "execution_count": 1,
     "metadata": {},
     "output_type": "execute_result"
    }
   ],
   "source": [
    "xyd = Derivative(x*y, x*y,0).doit();xyd\n",
    "\n",
    "#Derivative(3*xyd, xyd, 1).doit() ### ERROR can't calc deriv w.r.t to x*y"
   ]
  },
  {
   "cell_type": "code",
   "execution_count": 50,
   "metadata": {
    "execution": {
     "iopub.execute_input": "2020-10-04T18:07:27.703350Z",
     "iopub.status.busy": "2020-10-04T18:07:27.701657Z",
     "iopub.status.idle": "2020-10-04T18:07:27.707123Z",
     "shell.execute_reply": "2020-10-04T18:07:27.708306Z"
    },
    "title": "codecell"
   },
   "outputs": [],
   "source": [
    "#derive_by_array(S, N)\n",
    "\n",
    "\n",
    "\n"
   ]
  },
  {
   "cell_type": "code",
   "execution_count": 51,
   "metadata": {
    "lines_to_next_cell": 0,
    "title": "codecell"
   },
   "outputs": [],
   "source": []
  },
  {
   "cell_type": "code",
   "execution_count": 51,
   "metadata": {
    "title": "codecell"
   },
   "outputs": [],
   "source": []
  }
 ],
 "metadata": {
  "jupytext": {
   "cell_metadata_filter": "title,-all"
  },
  "kernelspec": {
   "display_name": "pymatrix_env",
   "language": "python",
   "name": "pymatrix_env"
  },
  "language_info": {
   "codemirror_mode": {
    "name": "ipython",
    "version": 3
   },
   "file_extension": ".py",
   "mimetype": "text/x-python",
   "name": "python",
   "nbconvert_exporter": "python",
   "pygments_lexer": "ipython3",
   "version": "3.7.8"
  }
 },
 "nbformat": 4,
 "nbformat_minor": 4
}
