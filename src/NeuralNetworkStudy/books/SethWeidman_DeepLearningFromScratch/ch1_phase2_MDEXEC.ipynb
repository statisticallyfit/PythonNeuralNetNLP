{
 "cells": [
  {
   "cell_type": "code",
   "execution_count": 1,
   "metadata": {
    "execution": {
     "iopub.execute_input": "2020-09-30T08:26:02.313181Z",
     "iopub.status.busy": "2020-09-30T08:26:02.311905Z",
     "iopub.status.idle": "2020-09-30T08:26:06.275757Z",
     "shell.execute_reply": "2020-09-30T08:26:06.277207Z"
    },
    "title": "codecell"
   },
   "outputs": [],
   "source": [
    "from sympy import Matrix, Symbol, derive_by_array, Lambda, Function, MatrixSymbol, Derivative, diff, symbols\n",
    "from sympy import var\n",
    "from sympy.abc import x, i, j, a, b\n",
    "\n",
    "\n",
    "from sympy.interactive import init_printing\n",
    "\n",
    "init_printing(pretty_print=True, wrap_line=True, num_columns=60)"
   ]
  },
  {
   "cell_type": "code",
   "execution_count": 2,
   "metadata": {
    "execution": {
     "iopub.execute_input": "2020-09-30T08:26:06.290305Z",
     "iopub.status.busy": "2020-09-30T08:26:06.289372Z",
     "iopub.status.idle": "2020-09-30T08:26:08.754599Z",
     "shell.execute_reply": "2020-09-30T08:26:08.755704Z"
    },
    "lines_to_next_cell": 0,
    "title": "codecell"
   },
   "outputs": [
    {
     "data": {
      "text/latex": [
       "$\\displaystyle \\left[\\begin{matrix}x_{11} & x_{12} & x_{13}\\\\x_{21} & x_{22} & x_{23}\\\\x_{31} & x_{32} & x_{33}\\end{matrix}\\right]$"
      ],
      "text/plain": [
       "⎡x₁₁  x₁₂  x₁₃⎤\n",
       "⎢             ⎥\n",
       "⎢x₂₁  x₂₂  x₂₃⎥\n",
       "⎢             ⎥\n",
       "⎣x₃₁  x₃₂  x₃₃⎦"
      ]
     },
     "execution_count": 1,
     "metadata": {},
     "output_type": "execute_result"
    }
   ],
   "source": [
    "def myvar(letter: str, i: int, j: int) -> Symbol:\n",
    "    letter_ij = Symbol('{}_{}{}'.format(letter, i+1, j+1), is_commutative=True)\n",
    "    return letter_ij\n",
    "\n",
    "\n",
    "n,m,p = 3,3,2\n",
    "\n",
    "X = Matrix(n, m, lambda i,j : myvar('x', i, j)); X"
   ]
  },
  {
   "cell_type": "code",
   "execution_count": 3,
   "metadata": {
    "execution": {
     "iopub.execute_input": "2020-09-30T08:26:08.765502Z",
     "iopub.status.busy": "2020-09-30T08:26:08.760908Z",
     "iopub.status.idle": "2020-09-30T08:26:08.929954Z",
     "shell.execute_reply": "2020-09-30T08:26:08.931031Z"
    },
    "lines_to_next_cell": 0,
    "title": "codecell"
   },
   "outputs": [
    {
     "data": {
      "text/latex": [
       "$\\displaystyle \\left[\\begin{matrix}w_{11} & w_{12}\\\\w_{21} & w_{22}\\\\w_{31} & w_{32}\\end{matrix}\\right]$"
      ],
      "text/plain": [
       "⎡w₁₁  w₁₂⎤\n",
       "⎢        ⎥\n",
       "⎢w₂₁  w₂₂⎥\n",
       "⎢        ⎥\n",
       "⎣w₃₁  w₃₂⎦"
      ]
     },
     "execution_count": 1,
     "metadata": {},
     "output_type": "execute_result"
    }
   ],
   "source": [
    "W = Matrix(m, p, lambda i,j : myvar('w', i, j)); W"
   ]
  },
  {
   "cell_type": "code",
   "execution_count": 4,
   "metadata": {
    "execution": {
     "iopub.execute_input": "2020-09-30T08:26:08.936656Z",
     "iopub.status.busy": "2020-09-30T08:26:08.934744Z",
     "iopub.status.idle": "2020-09-30T08:26:08.943481Z",
     "shell.execute_reply": "2020-09-30T08:26:08.944587Z"
    },
    "title": "codecell"
   },
   "outputs": [],
   "source": [
    "A = MatrixSymbol('X',3,3); Matrix(A)\n",
    "B = MatrixSymbol('W',3,2)"
   ]
  },
  {
   "cell_type": "code",
   "execution_count": 5,
   "metadata": {
    "lines_to_next_cell": 0,
    "title": "codecell"
   },
   "outputs": [],
   "source": []
  },
  {
   "cell_type": "code",
   "execution_count": 5,
   "metadata": {
    "lines_to_next_cell": 0,
    "title": "codecell"
   },
   "outputs": [],
   "source": []
  },
  {
   "cell_type": "code",
   "execution_count": 5,
   "metadata": {
    "execution": {
     "iopub.execute_input": "2020-09-30T08:26:08.953008Z",
     "iopub.status.busy": "2020-09-30T08:26:08.948154Z",
     "iopub.status.idle": "2020-09-30T08:26:09.167873Z",
     "shell.execute_reply": "2020-09-30T08:26:09.169086Z"
    },
    "title": "codecell"
   },
   "outputs": [
    {
     "data": {
      "text/latex": [
       "$\\displaystyle \\left[\\begin{matrix}n_{11} & n_{12}\\\\n_{21} & n_{22}\\\\n_{31} & n_{32}\\end{matrix}\\right]$"
      ],
      "text/plain": [
       "⎡n₁₁  n₁₂⎤\n",
       "⎢        ⎥\n",
       "⎢n₂₁  n₂₂⎥\n",
       "⎢        ⎥\n",
       "⎣n₃₁  n₃₂⎦"
      ]
     },
     "execution_count": 1,
     "metadata": {},
     "output_type": "execute_result"
    }
   ],
   "source": [
    "v = lambda a,b: a*b\n",
    "\n",
    "vL = Lambda((a,b), a*b)\n",
    "\n",
    "n = Function('v') #, Lambda((a,b), a*b))\n",
    "\n",
    "vN = lambda mat1, mat2: Matrix(mat1.shape[0], mat2.shape[1], lambda i, j: Symbol(\"n_{}{}\".format(i+1, j+1))); vN\n",
    "\n",
    "Nelem = vN(X, W); Nelem"
   ]
  },
  {
   "cell_type": "code",
   "execution_count": 6,
   "metadata": {
    "execution": {
     "iopub.execute_input": "2020-09-30T08:26:09.175183Z",
     "iopub.status.busy": "2020-09-30T08:26:09.173589Z",
     "iopub.status.idle": "2020-09-30T08:26:09.760592Z",
     "shell.execute_reply": "2020-09-30T08:26:09.762029Z"
    },
    "lines_to_next_cell": 0,
    "title": "codecell"
   },
   "outputs": [
    {
     "data": {
      "text/latex": [
       "$\\displaystyle v{\\left(\\left[\\begin{matrix}x_{11} & x_{12} & x_{13}\\\\x_{21} & x_{22} & x_{23}\\\\x_{31} & x_{32} & x_{33}\\end{matrix}\\right],\\left[\\begin{matrix}w_{11} & w_{12}\\\\w_{21} & w_{22}\\\\w_{31} & w_{32}\\end{matrix}\\right] \\right)}$"
      ],
      "text/plain": [
       " ⎛⎡x₁₁  x₁₂  x₁₃⎤  ⎡w₁₁  w₁₂⎤⎞\n",
       " ⎜⎢             ⎥  ⎢        ⎥⎟\n",
       "v⎜⎢x₂₁  x₂₂  x₂₃⎥, ⎢w₂₁  w₂₂⎥⎟\n",
       " ⎜⎢             ⎥  ⎢        ⎥⎟\n",
       " ⎝⎣x₃₁  x₃₂  x₃₃⎦  ⎣w₃₁  w₃₂⎦⎠"
      ]
     },
     "execution_count": 1,
     "metadata": {},
     "output_type": "execute_result"
    }
   ],
   "source": [
    "n(X,W)"
   ]
  },
  {
   "cell_type": "code",
   "execution_count": 7,
   "metadata": {
    "execution": {
     "iopub.execute_input": "2020-09-30T08:26:09.776222Z",
     "iopub.status.busy": "2020-09-30T08:26:09.765601Z",
     "iopub.status.idle": "2020-09-30T08:26:10.492005Z",
     "shell.execute_reply": "2020-09-30T08:26:10.493241Z"
    },
    "lines_to_next_cell": 0,
    "title": "codecell"
   },
   "outputs": [
    {
     "data": {
      "image/png": "[encoded data removed]",
      "text/latex": [
       "$\\displaystyle v{\\left(X,W \\right)}$"
      ],
      "text/plain": [
       "v(X, W)"
      ]
     },
     "execution_count": 1,
     "metadata": {},
     "output_type": "execute_result"
    }
   ],
   "source": [
    "n(A,B)"
   ]
  },
  {
   "cell_type": "code",
   "execution_count": 8,
   "metadata": {
    "execution": {
     "iopub.execute_input": "2020-09-30T08:26:10.506266Z",
     "iopub.status.busy": "2020-09-30T08:26:10.502448Z",
     "iopub.status.idle": "2020-09-30T08:26:11.195195Z",
     "shell.execute_reply": "2020-09-30T08:26:11.196922Z"
    },
    "lines_to_next_cell": 0,
    "title": "codecell"
   },
   "outputs": [
    {
     "data": {
      "text/latex": [
       "$\\displaystyle \\left[\\begin{matrix}w_{11} x_{11} + w_{21} x_{12} + w_{31} x_{13} & w_{12} x_{11} + w_{22} x_{12} + w_{32} x_{13}\\\\w_{11} x_{21} + w_{21} x_{22} + w_{31} x_{23} & w_{12} x_{21} + w_{22} x_{22} + w_{32} x_{23}\\\\w_{11} x_{31} + w_{21} x_{32} + w_{31} x_{33} & w_{12} x_{31} + w_{22} x_{32} + w_{32} x_{33}\\end{matrix}\\right]$"
      ],
      "text/plain": [
       "⎡w₁₁⋅x₁₁ + w₂₁⋅x₁₂ + w₃₁⋅x₁₃  w₁₂⋅x₁₁ + w₂₂⋅x₁₂ + w₃₂⋅x₁₃⎤\n",
       "⎢                                                        ⎥\n",
       "⎢w₁₁⋅x₂₁ + w₂₁⋅x₂₂ + w₃₁⋅x₂₃  w₁₂⋅x₂₁ + w₂₂⋅x₂₂ + w₃₂⋅x₂₃⎥\n",
       "⎢                                                        ⎥\n",
       "⎣w₁₁⋅x₃₁ + w₂₁⋅x₃₂ + w₃₁⋅x₃₃  w₁₂⋅x₃₁ + w₂₂⋅x₃₂ + w₃₂⋅x₃₃⎦"
      ]
     },
     "execution_count": 1,
     "metadata": {},
     "output_type": "execute_result"
    }
   ],
   "source": [
    "n(X,W).replace(n, v) # replace works when v = python lambda"
   ]
  },
  {
   "cell_type": "code",
   "execution_count": 9,
   "metadata": {
    "execution": {
     "iopub.execute_input": "2020-09-30T08:26:11.207260Z",
     "iopub.status.busy": "2020-09-30T08:26:11.202583Z",
     "iopub.status.idle": "2020-09-30T08:26:11.697010Z",
     "shell.execute_reply": "2020-09-30T08:26:11.698113Z"
    },
    "lines_to_next_cell": 0,
    "title": "codecell"
   },
   "outputs": [
    {
     "data": {
      "text/latex": [
       "$\\displaystyle \\left[\\begin{matrix}w_{11} x_{11} + w_{21} x_{12} + w_{31} x_{13} & w_{12} x_{11} + w_{22} x_{12} + w_{32} x_{13}\\\\w_{11} x_{21} + w_{21} x_{22} + w_{31} x_{23} & w_{12} x_{21} + w_{22} x_{22} + w_{32} x_{23}\\\\w_{11} x_{31} + w_{21} x_{32} + w_{31} x_{33} & w_{12} x_{31} + w_{22} x_{32} + w_{32} x_{33}\\end{matrix}\\right]$"
      ],
      "text/plain": [
       "⎡w₁₁⋅x₁₁ + w₂₁⋅x₁₂ + w₃₁⋅x₁₃  w₁₂⋅x₁₁ + w₂₂⋅x₁₂ + w₃₂⋅x₁₃⎤\n",
       "⎢                                                        ⎥\n",
       "⎢w₁₁⋅x₂₁ + w₂₁⋅x₂₂ + w₃₁⋅x₂₃  w₁₂⋅x₂₁ + w₂₂⋅x₂₂ + w₃₂⋅x₂₃⎥\n",
       "⎢                                                        ⎥\n",
       "⎣w₁₁⋅x₃₁ + w₂₁⋅x₃₂ + w₃₁⋅x₃₃  w₁₂⋅x₃₁ + w₂₂⋅x₃₂ + w₃₂⋅x₃₃⎦"
      ]
     },
     "execution_count": 1,
     "metadata": {},
     "output_type": "execute_result"
    }
   ],
   "source": [
    "n(X,W).subs({n: vL}) # subs works when v = sympy lambda"
   ]
  },
  {
   "cell_type": "code",
   "execution_count": 10,
   "metadata": {
    "execution": {
     "iopub.execute_input": "2020-09-30T08:26:11.704188Z",
     "iopub.status.busy": "2020-09-30T08:26:11.702659Z",
     "iopub.status.idle": "2020-09-30T08:26:11.986127Z",
     "shell.execute_reply": "2020-09-30T08:26:11.987237Z"
    },
    "lines_to_next_cell": 0,
    "title": "codecell"
   },
   "outputs": [
    {
     "data": {
      "text/latex": [
       "$\\displaystyle \\left[\\begin{matrix}w_{11} x_{11} + w_{21} x_{12} + w_{31} x_{13} & w_{12} x_{11} + w_{22} x_{12} + w_{32} x_{13}\\\\w_{11} x_{21} + w_{21} x_{22} + w_{31} x_{23} & w_{12} x_{21} + w_{22} x_{22} + w_{32} x_{23}\\\\w_{11} x_{31} + w_{21} x_{32} + w_{31} x_{33} & w_{12} x_{31} + w_{22} x_{32} + w_{32} x_{33}\\end{matrix}\\right]$"
      ],
      "text/plain": [
       "⎡w₁₁⋅x₁₁ + w₂₁⋅x₁₂ + w₃₁⋅x₁₃  w₁₂⋅x₁₁ + w₂₂⋅x₁₂ + w₃₂⋅x₁₃⎤\n",
       "⎢                                                        ⎥\n",
       "⎢w₁₁⋅x₂₁ + w₂₁⋅x₂₂ + w₃₁⋅x₂₃  w₁₂⋅x₂₁ + w₂₂⋅x₂₂ + w₃₂⋅x₂₃⎥\n",
       "⎢                                                        ⎥\n",
       "⎣w₁₁⋅x₃₁ + w₂₁⋅x₃₂ + w₃₁⋅x₃₃  w₁₂⋅x₃₁ + w₂₂⋅x₃₂ + w₃₂⋅x₃₃⎦"
      ]
     },
     "execution_count": 1,
     "metadata": {},
     "output_type": "execute_result"
    }
   ],
   "source": [
    "n(X,W).replace(n, vL)"
   ]
  },
  {
   "cell_type": "code",
   "execution_count": 11,
   "metadata": {
    "execution": {
     "iopub.execute_input": "2020-09-30T08:26:11.992480Z",
     "iopub.status.busy": "2020-09-30T08:26:11.990951Z",
     "iopub.status.idle": "2020-09-30T08:26:12.183171Z",
     "shell.execute_reply": "2020-09-30T08:26:12.184291Z"
    },
    "title": "codecell"
   },
   "outputs": [
    {
     "data": {
      "text/latex": [
       "$\\displaystyle v{\\left(\\left[\\begin{matrix}x_{11} & x_{12} & x_{13}\\\\x_{21} & x_{22} & x_{23}\\\\x_{31} & x_{32} & x_{33}\\end{matrix}\\right],\\left[\\begin{matrix}w_{11} & w_{12}\\\\w_{21} & w_{22}\\\\w_{31} & w_{32}\\end{matrix}\\right] \\right)}$"
      ],
      "text/plain": [
       " ⎛⎡x₁₁  x₁₂  x₁₃⎤  ⎡w₁₁  w₁₂⎤⎞\n",
       " ⎜⎢             ⎥  ⎢        ⎥⎟\n",
       "v⎜⎢x₂₁  x₂₂  x₂₃⎥, ⎢w₂₁  w₂₂⎥⎟\n",
       " ⎜⎢             ⎥  ⎢        ⎥⎟\n",
       " ⎝⎣x₃₁  x₃₂  x₃₃⎦  ⎣w₃₁  w₃₂⎦⎠"
      ]
     },
     "execution_count": 1,
     "metadata": {},
     "output_type": "execute_result"
    }
   ],
   "source": [
    "n(X,W).subs({n: v})# subs() doesn't work when v is python lambda"
   ]
  },
  {
   "cell_type": "code",
   "execution_count": 12,
   "metadata": {
    "execution": {
     "iopub.execute_input": "2020-09-30T08:26:12.197385Z",
     "iopub.status.busy": "2020-09-30T08:26:12.195811Z",
     "iopub.status.idle": "2020-09-30T08:26:12.634789Z",
     "shell.execute_reply": "2020-09-30T08:26:12.635923Z"
    },
    "lines_to_next_cell": 2,
    "title": "codecell"
   },
   "outputs": [
    {
     "data": {
      "text/latex": [
       "$\\displaystyle \\left[\\begin{array}{cc}W_{0, 0} X_{0, 0} + W_{1, 0} X_{0, 1} + W_{2, 0} X_{0, 2} & W_{0, 1} X_{0, 0} + W_{1, 1} X_{0, 1} + W_{2, 1} X_{0, 2}\\\\W_{0, 0} X_{1, 0} + W_{1, 0} X_{1, 1} + W_{2, 0} X_{1, 2} & W_{0, 1} X_{1, 0} + W_{1, 1} X_{1, 1} + W_{2, 1} X_{1, 2}\\\\W_{0, 0} X_{2, 0} + W_{1, 0} X_{2, 1} + W_{2, 0} X_{2, 2} & W_{0, 1} X_{2, 0} + W_{1, 1} X_{2, 1} + W_{2, 1} X_{2, 2}\\end{array}\\right]$"
      ],
      "text/plain": [
       "⎡W₀₀⋅X₀₀ + W₁₀⋅X₀₁ + W₂₀⋅X₀₂  W₀₁⋅X₀₀ + W₁₁⋅X₀₁ + W₂₁⋅X₀₂⎤\n",
       "⎢                                                        ⎥\n",
       "⎢W₀₀⋅X₁₀ + W₁₀⋅X₁₁ + W₂₀⋅X₁₂  W₀₁⋅X₁₀ + W₁₁⋅X₁₁ + W₂₁⋅X₁₂⎥\n",
       "⎢                                                        ⎥\n",
       "⎣W₀₀⋅X₂₀ + W₁₀⋅X₂₁ + W₂₀⋅X₂₂  W₀₁⋅X₂₀ + W₁₁⋅X₂₁ + W₂₁⋅X₂₂⎦"
      ]
     },
     "execution_count": 1,
     "metadata": {},
     "output_type": "execute_result"
    }
   ],
   "source": [
    "Matrix(n(A,B).subs({n: vL}))"
   ]
  },
  {
   "cell_type": "code",
   "execution_count": 13,
   "metadata": {
    "execution": {
     "iopub.execute_input": "2020-09-30T08:26:12.641251Z",
     "iopub.status.busy": "2020-09-30T08:26:12.639729Z",
     "iopub.status.idle": "2020-09-30T08:26:12.839290Z",
     "shell.execute_reply": "2020-09-30T08:26:12.840399Z"
    },
    "lines_to_next_cell": 0,
    "title": "codecell"
   },
   "outputs": [
    {
     "data": {
      "image/png": "[encoded data removed]",
      "text/latex": [
       "$\\displaystyle v{\\left(X,W \\right)}$"
      ],
      "text/plain": [
       "v(X, W)"
      ]
     },
     "execution_count": 1,
     "metadata": {},
     "output_type": "execute_result"
    }
   ],
   "source": [
    "#N = v(X, W); N\n",
    "N = n(A,B); N"
   ]
  },
  {
   "cell_type": "code",
   "execution_count": 14,
   "metadata": {
    "execution": {
     "iopub.execute_input": "2020-09-30T08:26:12.845442Z",
     "iopub.status.busy": "2020-09-30T08:26:12.843921Z",
     "iopub.status.idle": "2020-09-30T08:26:13.038440Z",
     "shell.execute_reply": "2020-09-30T08:26:13.039526Z"
    },
    "lines_to_next_cell": 0,
    "title": "codecell"
   },
   "outputs": [
    {
     "data": {
      "image/png": "[encoded data removed]",
      "text/latex": [
       "$\\displaystyle X W$"
      ],
      "text/plain": [
       "X⋅W"
      ]
     },
     "execution_count": 1,
     "metadata": {},
     "output_type": "execute_result"
    }
   ],
   "source": [
    "N.replace(n, v)"
   ]
  },
  {
   "cell_type": "code",
   "execution_count": 15,
   "metadata": {
    "execution": {
     "iopub.execute_input": "2020-09-30T08:26:13.047961Z",
     "iopub.status.busy": "2020-09-30T08:26:13.043674Z",
     "iopub.status.idle": "2020-09-30T08:26:13.228158Z",
     "shell.execute_reply": "2020-09-30T08:26:13.229215Z"
    },
    "title": "codecell"
   },
   "outputs": [
    {
     "data": {
      "text/latex": [
       "$\\displaystyle \\left[\\begin{matrix}x_{11} & x_{12} & x_{13}\\\\x_{21} & x_{22} & x_{23}\\\\x_{31} & x_{32} & x_{33}\\end{matrix}\\right] \\left[\\begin{matrix}w_{11} & w_{12}\\\\w_{21} & w_{22}\\\\w_{31} & w_{32}\\end{matrix}\\right]$"
      ],
      "text/plain": [
       "⎡x₁₁  x₁₂  x₁₃⎤ ⎡w₁₁  w₁₂⎤\n",
       "⎢             ⎥ ⎢        ⎥\n",
       "⎢x₂₁  x₂₂  x₂₃⎥⋅⎢w₂₁  w₂₂⎥\n",
       "⎢             ⎥ ⎢        ⎥\n",
       "⎣x₃₁  x₃₂  x₃₃⎦ ⎣w₃₁  w₃₂⎦"
      ]
     },
     "execution_count": 1,
     "metadata": {},
     "output_type": "execute_result"
    }
   ],
   "source": [
    "N.replace(n, v).subs({A: X, B:W}) # replacing ariable values after doing function doesn't make the function apply directly on the values (matrices), need to replace values before the function is replaced, so that the function can act on them while they are given/alive."
   ]
  },
  {
   "cell_type": "code",
   "execution_count": 16,
   "metadata": {
    "execution": {
     "iopub.execute_input": "2020-09-30T08:26:13.234688Z",
     "iopub.status.busy": "2020-09-30T08:26:13.233232Z",
     "iopub.status.idle": "2020-09-30T08:26:13.471103Z",
     "shell.execute_reply": "2020-09-30T08:26:13.472233Z"
    },
    "lines_to_next_cell": 0,
    "title": "codecell"
   },
   "outputs": [
    {
     "data": {
      "text/latex": [
       "$\\displaystyle \\left[\\begin{matrix}w_{11} x_{11} + w_{21} x_{12} + w_{31} x_{13} & w_{12} x_{11} + w_{22} x_{12} + w_{32} x_{13}\\\\w_{11} x_{21} + w_{21} x_{22} + w_{31} x_{23} & w_{12} x_{21} + w_{22} x_{22} + w_{32} x_{23}\\\\w_{11} x_{31} + w_{21} x_{32} + w_{31} x_{33} & w_{12} x_{31} + w_{22} x_{32} + w_{32} x_{33}\\end{matrix}\\right]$"
      ],
      "text/plain": [
       "⎡w₁₁⋅x₁₁ + w₂₁⋅x₁₂ + w₃₁⋅x₁₃  w₁₂⋅x₁₁ + w₂₂⋅x₁₂ + w₃₂⋅x₁₃⎤\n",
       "⎢                                                        ⎥\n",
       "⎢w₁₁⋅x₂₁ + w₂₁⋅x₂₂ + w₃₁⋅x₂₃  w₁₂⋅x₂₁ + w₂₂⋅x₂₂ + w₃₂⋅x₂₃⎥\n",
       "⎢                                                        ⎥\n",
       "⎣w₁₁⋅x₃₁ + w₂₁⋅x₃₂ + w₃₁⋅x₃₃  w₁₂⋅x₃₁ + w₂₂⋅x₃₂ + w₃₂⋅x₃₃⎦"
      ]
     },
     "execution_count": 1,
     "metadata": {},
     "output_type": "execute_result"
    }
   ],
   "source": [
    "N.subs({n: vL, A:X, B:W})"
   ]
  },
  {
   "cell_type": "code",
   "execution_count": 17,
   "metadata": {
    "execution": {
     "iopub.execute_input": "2020-09-30T08:26:13.477371Z",
     "iopub.status.busy": "2020-09-30T08:26:13.475856Z",
     "iopub.status.idle": "2020-09-30T08:26:13.691579Z",
     "shell.execute_reply": "2020-09-30T08:26:13.692954Z"
    },
    "lines_to_next_cell": 0,
    "title": "codecell"
   },
   "outputs": [
    {
     "data": {
      "text/latex": [
       "$\\displaystyle \\left[\\begin{matrix}w_{11} x_{11} + w_{21} x_{12} + w_{31} x_{13} & w_{12} x_{11} + w_{22} x_{12} + w_{32} x_{13}\\\\w_{11} x_{21} + w_{21} x_{22} + w_{31} x_{23} & w_{12} x_{21} + w_{22} x_{22} + w_{32} x_{23}\\\\w_{11} x_{31} + w_{21} x_{32} + w_{31} x_{33} & w_{12} x_{31} + w_{22} x_{32} + w_{32} x_{33}\\end{matrix}\\right]$"
      ],
      "text/plain": [
       "⎡w₁₁⋅x₁₁ + w₂₁⋅x₁₂ + w₃₁⋅x₁₃  w₁₂⋅x₁₁ + w₂₂⋅x₁₂ + w₃₂⋅x₁₃⎤\n",
       "⎢                                                        ⎥\n",
       "⎢w₁₁⋅x₂₁ + w₂₁⋅x₂₂ + w₃₁⋅x₂₃  w₁₂⋅x₂₁ + w₂₂⋅x₂₂ + w₃₂⋅x₂₃⎥\n",
       "⎢                                                        ⎥\n",
       "⎣w₁₁⋅x₃₁ + w₂₁⋅x₃₂ + w₃₁⋅x₃₃  w₁₂⋅x₃₁ + w₂₂⋅x₃₂ + w₃₂⋅x₃₃⎦"
      ]
     },
     "execution_count": 1,
     "metadata": {},
     "output_type": "execute_result"
    }
   ],
   "source": [
    "Nspec = N.subs({A:X, B:W}).replace(n, v); Nspec"
   ]
  },
  {
   "cell_type": "code",
   "execution_count": 18,
   "metadata": {
    "lines_to_next_cell": 0,
    "title": "codecell"
   },
   "outputs": [],
   "source": []
  },
  {
   "cell_type": "code",
   "execution_count": 18,
   "metadata": {
    "execution": {
     "iopub.execute_input": "2020-09-30T08:26:13.698249Z",
     "iopub.status.busy": "2020-09-30T08:26:13.696767Z",
     "iopub.status.idle": "2020-09-30T08:26:13.894197Z",
     "shell.execute_reply": "2020-09-30T08:26:13.895270Z"
    },
    "lines_to_next_cell": 0,
    "title": "codecell"
   },
   "outputs": [
    {
     "data": {
      "image/png": "[encoded data removed]",
      "text/latex": [
       "$\\displaystyle 1$"
      ],
      "text/plain": [
       "1"
      ]
     },
     "execution_count": 1,
     "metadata": {},
     "output_type": "execute_result"
    }
   ],
   "source": [
    "N.diff(N)"
   ]
  },
  {
   "cell_type": "code",
   "execution_count": 19,
   "metadata": {
    "execution": {
     "iopub.execute_input": "2020-09-30T08:26:13.900856Z",
     "iopub.status.busy": "2020-09-30T08:26:13.899338Z",
     "iopub.status.idle": "2020-09-30T08:26:14.208773Z",
     "shell.execute_reply": "2020-09-30T08:26:14.209910Z"
    },
    "lines_to_next_cell": 0,
    "title": "codecell"
   },
   "outputs": [
    {
     "data": {
      "text/latex": [
       "$\\displaystyle \\left[\\begin{matrix}0 & 0 & 0\\\\0 & 0 & 0\\\\0 & 0 & 0\\end{matrix}\\right]$"
      ],
      "text/plain": [
       "⎡0  0  0⎤\n",
       "⎢       ⎥\n",
       "⎢0  0  0⎥\n",
       "⎢       ⎥\n",
       "⎣0  0  0⎦"
      ]
     },
     "execution_count": 1,
     "metadata": {},
     "output_type": "execute_result"
    }
   ],
   "source": [
    "N.diff(X)"
   ]
  },
  {
   "cell_type": "code",
   "execution_count": 20,
   "metadata": {
    "lines_to_next_cell": 0,
    "title": "codecell"
   },
   "outputs": [],
   "source": []
  },
  {
   "cell_type": "code",
   "execution_count": 20,
   "metadata": {
    "title": "codecell"
   },
   "outputs": [],
   "source": [
    "\n",
    "\n"
   ]
  },
  {
   "cell_type": "code",
   "execution_count": 20,
   "metadata": {
    "execution": {
     "iopub.execute_input": "2020-09-30T08:26:14.220785Z",
     "iopub.status.busy": "2020-09-30T08:26:14.219224Z",
     "iopub.status.idle": "2020-09-30T08:26:14.526779Z",
     "shell.execute_reply": "2020-09-30T08:26:14.529076Z"
    },
    "lines_to_next_cell": 0,
    "title": "codecell"
   },
   "outputs": [
    {
     "data": {
      "image/png": "[encoded data removed]",
      "text/latex": [
       "$\\displaystyle \\sigma_{apply}{\\left(X \\right)}$"
      ],
      "text/plain": [
       "σ_apply(X)"
      ]
     },
     "execution_count": 1,
     "metadata": {},
     "output_type": "execute_result"
    }
   ],
   "source": [
    "# way 2 of declaring S (better way)\n",
    "sigma = Function('sigma')\n",
    "\n",
    "sigmaApply = Function(\"sigma_apply\") #lambda matrix:  matrix.applyfunc(sigma)\n",
    "\n",
    "sigmaApply_ = lambda matrix: matrix.applyfunc(sigma)\n",
    "\n",
    "sigmaApply(A)"
   ]
  },
  {
   "cell_type": "code",
   "execution_count": 21,
   "metadata": {
    "execution": {
     "iopub.execute_input": "2020-09-30T08:26:14.545705Z",
     "iopub.status.busy": "2020-09-30T08:26:14.540581Z",
     "iopub.status.idle": "2020-09-30T08:26:14.850864Z",
     "shell.execute_reply": "2020-09-30T08:26:14.852383Z"
    },
    "lines_to_next_cell": 0,
    "title": "codecell"
   },
   "outputs": [
    {
     "data": {
      "text/latex": [
       "$\\displaystyle \\sigma_{apply}{\\left(\\left[\\begin{matrix}x_{11} & x_{12} & x_{13}\\\\x_{21} & x_{22} & x_{23}\\\\x_{31} & x_{32} & x_{33}\\end{matrix}\\right] \\right)}$"
      ],
      "text/plain": [
       "       ⎛⎡x₁₁  x₁₂  x₁₃⎤⎞\n",
       "       ⎜⎢             ⎥⎟\n",
       "σ_apply⎜⎢x₂₁  x₂₂  x₂₃⎥⎟\n",
       "       ⎜⎢             ⎥⎟\n",
       "       ⎝⎣x₃₁  x₃₂  x₃₃⎦⎠"
      ]
     },
     "execution_count": 1,
     "metadata": {},
     "output_type": "execute_result"
    }
   ],
   "source": [
    "sigmaApply(A).subs({A: X})"
   ]
  },
  {
   "cell_type": "code",
   "execution_count": 22,
   "metadata": {
    "execution": {
     "iopub.execute_input": "2020-09-30T08:26:14.857517Z",
     "iopub.status.busy": "2020-09-30T08:26:14.855922Z",
     "iopub.status.idle": "2020-09-30T08:26:15.114059Z",
     "shell.execute_reply": "2020-09-30T08:26:15.115251Z"
    },
    "title": "codecell"
   },
   "outputs": [
    {
     "data": {
      "image/png": "[encoded data removed]",
      "text/latex": [
       "$\\displaystyle {\\left( d \\mapsto \\sigma{\\left(d \\right)} \\right)}_{\\circ}\\left({X}\\right)$"
      ],
      "text/plain": [
       "(d ↦ σ(d))˳(X)"
      ]
     },
     "execution_count": 1,
     "metadata": {},
     "output_type": "execute_result"
    }
   ],
   "source": [
    "sigmaApply_(A)"
   ]
  },
  {
   "cell_type": "code",
   "execution_count": 23,
   "metadata": {
    "execution": {
     "iopub.execute_input": "2020-09-30T08:26:15.121678Z",
     "iopub.status.busy": "2020-09-30T08:26:15.120149Z",
     "iopub.status.idle": "2020-09-30T08:26:15.353897Z",
     "shell.execute_reply": "2020-09-30T08:26:15.357459Z"
    },
    "lines_to_next_cell": 2,
    "title": "codecell"
   },
   "outputs": [
    {
     "data": {
      "text/latex": [
       "$\\displaystyle \\left[\\begin{matrix}\\sigma{\\left(x_{11} \\right)} & \\sigma{\\left(x_{12} \\right)} & \\sigma{\\left(x_{13} \\right)}\\\\\\sigma{\\left(x_{21} \\right)} & \\sigma{\\left(x_{22} \\right)} & \\sigma{\\left(x_{23} \\right)}\\\\\\sigma{\\left(x_{31} \\right)} & \\sigma{\\left(x_{32} \\right)} & \\sigma{\\left(x_{33} \\right)}\\end{matrix}\\right]$"
      ],
      "text/plain": [
       "⎡σ(x₁₁)  σ(x₁₂)  σ(x₁₃)⎤\n",
       "⎢                      ⎥\n",
       "⎢σ(x₂₁)  σ(x₂₂)  σ(x₂₃)⎥\n",
       "⎢                      ⎥\n",
       "⎣σ(x₃₁)  σ(x₃₂)  σ(x₃₃)⎦"
      ]
     },
     "execution_count": 1,
     "metadata": {},
     "output_type": "execute_result"
    }
   ],
   "source": [
    "sigmaApply(A).subs({A: X}).replace(sigmaApply, sigmaApply_) # NOTE: subs of functions doesn't work, replace actually evaluates the replaced function!"
   ]
  },
  {
   "cell_type": "code",
   "execution_count": 24,
   "metadata": {
    "execution": {
     "iopub.execute_input": "2020-09-30T08:26:15.365311Z",
     "iopub.status.busy": "2020-09-30T08:26:15.361329Z",
     "iopub.status.idle": "2020-09-30T08:26:15.718662Z",
     "shell.execute_reply": "2020-09-30T08:26:15.719803Z"
    },
    "lines_to_next_cell": 0,
    "title": "codecell"
   },
   "outputs": [
    {
     "data": {
      "image/png": "[encoded data removed]",
      "text/latex": [
       "$\\displaystyle \\sigma_{apply}{\\left(v{\\left(X,W \\right)} \\right)}$"
      ],
      "text/plain": [
       "σ_apply(v(X, W))"
      ]
     },
     "execution_count": 1,
     "metadata": {},
     "output_type": "execute_result"
    }
   ],
   "source": [
    "S = sigmaApply(N); S"
   ]
  },
  {
   "cell_type": "code",
   "execution_count": 25,
   "metadata": {
    "execution": {
     "iopub.execute_input": "2020-09-30T08:26:15.728480Z",
     "iopub.status.busy": "2020-09-30T08:26:15.724386Z",
     "iopub.status.idle": "2020-09-30T08:26:16.106833Z",
     "shell.execute_reply": "2020-09-30T08:26:16.108081Z"
    },
    "lines_to_next_cell": 0,
    "title": "codecell"
   },
   "outputs": [
    {
     "data": {
      "image/png": "[encoded data removed]",
      "text/latex": [
       "$\\displaystyle \\frac{\\partial}{\\partial \\sigma_{apply}{\\left(v{\\left(X,W \\right)} \\right)}} \\sigma_{apply}{\\left(v{\\left(X,W \\right)} \\right)}$"
      ],
      "text/plain": [
       "        ∂                          \n",
       "─────────────────(σ_apply(v(X, W)))\n",
       "∂σ_apply(v(X, W))                  "
      ]
     },
     "execution_count": 1,
     "metadata": {},
     "output_type": "execute_result"
    }
   ],
   "source": [
    "Derivative(S, S)"
   ]
  },
  {
   "cell_type": "code",
   "execution_count": 26,
   "metadata": {
    "execution": {
     "iopub.execute_input": "2020-09-30T08:26:16.113580Z",
     "iopub.status.busy": "2020-09-30T08:26:16.111973Z",
     "iopub.status.idle": "2020-09-30T08:26:16.317429Z",
     "shell.execute_reply": "2020-09-30T08:26:16.318568Z"
    },
    "lines_to_next_cell": 0,
    "title": "codecell"
   },
   "outputs": [
    {
     "data": {
      "image/png": "[encoded data removed]",
      "text/latex": [
       "$\\displaystyle 1$"
      ],
      "text/plain": [
       "1"
      ]
     },
     "execution_count": 1,
     "metadata": {},
     "output_type": "execute_result"
    }
   ],
   "source": [
    "Derivative(S, S).doit()"
   ]
  },
  {
   "cell_type": "code",
   "execution_count": 27,
   "metadata": {
    "execution": {
     "iopub.execute_input": "2020-09-30T08:26:16.323854Z",
     "iopub.status.busy": "2020-09-30T08:26:16.322336Z",
     "iopub.status.idle": "2020-09-30T08:26:16.558627Z",
     "shell.execute_reply": "2020-09-30T08:26:16.559727Z"
    },
    "lines_to_next_cell": 0,
    "title": "codecell"
   },
   "outputs": [
    {
     "data": {
      "image/png": "[encoded data removed]",
      "text/latex": [
       "$\\displaystyle \\frac{\\partial}{\\partial v{\\left(X,W \\right)}} \\sigma_{apply}{\\left(v{\\left(X,W \\right)} \\right)}$"
      ],
      "text/plain": [
       "   ∂                      \n",
       "────────(σ_apply(v(X, W)))\n",
       "∂v(X, W)                  "
      ]
     },
     "execution_count": 1,
     "metadata": {},
     "output_type": "execute_result"
    }
   ],
   "source": [
    "Derivative(S, n(A,B)).doit()"
   ]
  },
  {
   "cell_type": "code",
   "execution_count": 28,
   "metadata": {
    "execution": {
     "iopub.execute_input": "2020-09-30T08:26:16.564781Z",
     "iopub.status.busy": "2020-09-30T08:26:16.563267Z",
     "iopub.status.idle": "2020-09-30T08:26:16.573529Z",
     "shell.execute_reply": "2020-09-30T08:26:16.574635Z"
    },
    "lines_to_next_cell": 2,
    "title": "codecell"
   },
   "outputs": [],
   "source": [
    "#lambd = Function(\"lambda\")\n",
    "#Lagain = lambd(sigmaApply(n(A))); Lagain\n",
    "\n",
    "\n",
    "\n",
    "# diff(Lagain, A) # never execute\n",
    "#"
   ]
  },
  {
   "cell_type": "code",
   "execution_count": 29,
   "metadata": {
    "execution": {
     "iopub.execute_input": "2020-09-30T08:26:16.581428Z",
     "iopub.status.busy": "2020-09-30T08:26:16.579885Z",
     "iopub.status.idle": "2020-09-30T08:26:16.806104Z",
     "shell.execute_reply": "2020-09-30T08:26:16.807175Z"
    },
    "title": "codecell"
   },
   "outputs": [
    {
     "data": {
      "text/latex": [
       "$\\displaystyle \\sigma_{apply}{\\left(v{\\left(\\left[\\begin{matrix}x_{11} & x_{12} & x_{13}\\\\x_{21} & x_{22} & x_{23}\\\\x_{31} & x_{32} & x_{33}\\end{matrix}\\right],\\left[\\begin{matrix}w_{11} & w_{12}\\\\w_{21} & w_{22}\\\\w_{31} & w_{32}\\end{matrix}\\right] \\right)} \\right)}$"
      ],
      "text/plain": [
       "       ⎛ ⎛⎡x₁₁  x₁₂  x₁₃⎤  ⎡w₁₁  w₁₂⎤⎞⎞\n",
       "       ⎜ ⎜⎢             ⎥  ⎢        ⎥⎟⎟\n",
       "σ_apply⎜v⎜⎢x₂₁  x₂₂  x₂₃⎥, ⎢w₂₁  w₂₂⎥⎟⎟\n",
       "       ⎜ ⎜⎢             ⎥  ⎢        ⎥⎟⎟\n",
       "       ⎝ ⎝⎣x₃₁  x₃₂  x₃₃⎦  ⎣w₃₁  w₃₂⎦⎠⎠"
      ]
     },
     "execution_count": 1,
     "metadata": {},
     "output_type": "execute_result"
    }
   ],
   "source": [
    "S.replace(A,X).replace(B,W)"
   ]
  },
  {
   "cell_type": "code",
   "execution_count": 30,
   "metadata": {
    "execution": {
     "iopub.execute_input": "2020-09-30T08:26:16.812152Z",
     "iopub.status.busy": "2020-09-30T08:26:16.810651Z",
     "iopub.status.idle": "2020-09-30T08:26:17.027444Z",
     "shell.execute_reply": "2020-09-30T08:26:17.028568Z"
    },
    "lines_to_next_cell": 0,
    "title": "codecell"
   },
   "outputs": [
    {
     "data": {
      "image/png": "[encoded data removed]",
      "text/latex": [
       "$\\displaystyle \\sigma_{apply}{\\left(X W \\right)}$"
      ],
      "text/plain": [
       "σ_apply(X⋅W)"
      ]
     },
     "execution_count": 1,
     "metadata": {},
     "output_type": "execute_result"
    }
   ],
   "source": [
    "S.replace(n, v)"
   ]
  },
  {
   "cell_type": "code",
   "execution_count": 31,
   "metadata": {
    "execution": {
     "iopub.execute_input": "2020-09-30T08:26:17.033789Z",
     "iopub.status.busy": "2020-09-30T08:26:17.032295Z",
     "iopub.status.idle": "2020-09-30T08:26:17.274711Z",
     "shell.execute_reply": "2020-09-30T08:26:17.276237Z"
    },
    "lines_to_next_cell": 0,
    "title": "codecell"
   },
   "outputs": [
    {
     "data": {
      "text/latex": [
       "$\\displaystyle \\sigma_{apply}{\\left(\\left[\\begin{matrix}w_{11} x_{11} + w_{21} x_{12} + w_{31} x_{13} & w_{12} x_{11} + w_{22} x_{12} + w_{32} x_{13}\\\\w_{11} x_{21} + w_{21} x_{22} + w_{31} x_{23} & w_{12} x_{21} + w_{22} x_{22} + w_{32} x_{23}\\\\w_{11} x_{31} + w_{21} x_{32} + w_{31} x_{33} & w_{12} x_{31} + w_{22} x_{32} + w_{32} x_{33}\\end{matrix}\\right] \\right)}$"
      ],
      "text/plain": [
       "       ⎛⎡w₁₁⋅x₁₁ + w₂₁⋅x₁₂ + w₃₁⋅x₁₃  w₁₂⋅x₁₁ + w₂₂⋅x₁₂ + \n",
       "       ⎜⎢                                                 \n",
       "σ_apply⎜⎢w₁₁⋅x₂₁ + w₂₁⋅x₂₂ + w₃₁⋅x₂₃  w₁₂⋅x₂₁ + w₂₂⋅x₂₂ + \n",
       "       ⎜⎢                                                 \n",
       "       ⎝⎣w₁₁⋅x₃₁ + w₂₁⋅x₃₂ + w₃₁⋅x₃₃  w₁₂⋅x₃₁ + w₂₂⋅x₃₂ + \n",
       "\n",
       "w₃₂⋅x₁₃⎤⎞\n",
       "       ⎥⎟\n",
       "w₃₂⋅x₂₃⎥⎟\n",
       "       ⎥⎟\n",
       "w₃₂⋅x₃₃⎦⎠"
      ]
     },
     "execution_count": 1,
     "metadata": {},
     "output_type": "execute_result"
    }
   ],
   "source": [
    "S.subs({A:X, B:W}).replace(n, v)"
   ]
  },
  {
   "cell_type": "code",
   "execution_count": 32,
   "metadata": {
    "execution": {
     "iopub.execute_input": "2020-09-30T08:26:17.290932Z",
     "iopub.status.busy": "2020-09-30T08:26:17.281773Z",
     "iopub.status.idle": "2020-09-30T08:26:17.557388Z",
     "shell.execute_reply": "2020-09-30T08:26:17.558438Z"
    },
    "lines_to_next_cell": 0,
    "title": "codecell"
   },
   "outputs": [
    {
     "data": {
      "text/latex": [
       "$\\displaystyle \\left[\\begin{matrix}\\sigma{\\left(w_{11} x_{11} + w_{21} x_{12} + w_{31} x_{13} \\right)} & \\sigma{\\left(w_{12} x_{11} + w_{22} x_{12} + w_{32} x_{13} \\right)}\\\\\\sigma{\\left(w_{11} x_{21} + w_{21} x_{22} + w_{31} x_{23} \\right)} & \\sigma{\\left(w_{12} x_{21} + w_{22} x_{22} + w_{32} x_{23} \\right)}\\\\\\sigma{\\left(w_{11} x_{31} + w_{21} x_{32} + w_{31} x_{33} \\right)} & \\sigma{\\left(w_{12} x_{31} + w_{22} x_{32} + w_{32} x_{33} \\right)}\\end{matrix}\\right]$"
      ],
      "text/plain": [
       "⎡σ(w₁₁⋅x₁₁ + w₂₁⋅x₁₂ + w₃₁⋅x₁₃)  σ(w₁₂⋅x₁₁ + w₂₂⋅x₁₂ + w₃₂\n",
       "⎢                                                         \n",
       "⎢σ(w₁₁⋅x₂₁ + w₂₁⋅x₂₂ + w₃₁⋅x₂₃)  σ(w₁₂⋅x₂₁ + w₂₂⋅x₂₂ + w₃₂\n",
       "⎢                                                         \n",
       "⎣σ(w₁₁⋅x₃₁ + w₂₁⋅x₃₂ + w₃₁⋅x₃₃)  σ(w₁₂⋅x₃₁ + w₂₂⋅x₃₂ + w₃₂\n",
       "\n",
       "⋅x₁₃)⎤\n",
       "     ⎥\n",
       "⋅x₂₃)⎥\n",
       "     ⎥\n",
       "⋅x₃₃)⎦"
      ]
     },
     "execution_count": 1,
     "metadata": {},
     "output_type": "execute_result"
    }
   ],
   "source": [
    "Sspec = S.subs({A:X, B:W}).replace(n, v).replace(sigmaApply, sigmaApply_)\n",
    "Sspec"
   ]
  },
  {
   "cell_type": "code",
   "execution_count": 33,
   "metadata": {
    "execution": {
     "iopub.execute_input": "2020-09-30T08:26:17.563593Z",
     "iopub.status.busy": "2020-09-30T08:26:17.562062Z",
     "iopub.status.idle": "2020-09-30T08:26:17.772563Z",
     "shell.execute_reply": "2020-09-30T08:26:17.774136Z"
    },
    "lines_to_next_cell": 0,
    "title": "codecell"
   },
   "outputs": [
    {
     "data": {
      "text/latex": [
       "$\\displaystyle \\sigma_{apply}{\\left(\\left[\\begin{matrix}n_{11} & n_{12}\\\\n_{21} & n_{22}\\\\n_{31} & n_{32}\\end{matrix}\\right] \\right)}$"
      ],
      "text/plain": [
       "       ⎛⎡n₁₁  n₁₂⎤⎞\n",
       "       ⎜⎢        ⎥⎟\n",
       "σ_apply⎜⎢n₂₁  n₂₂⎥⎟\n",
       "       ⎜⎢        ⎥⎟\n",
       "       ⎝⎣n₃₁  n₃₂⎦⎠"
      ]
     },
     "execution_count": 1,
     "metadata": {},
     "output_type": "execute_result"
    }
   ],
   "source": [
    "S.replace(n, vN) #.replace(sigmaApply, sigmaApply_)"
   ]
  },
  {
   "cell_type": "code",
   "execution_count": 34,
   "metadata": {
    "execution": {
     "iopub.execute_input": "2020-09-30T08:26:17.782524Z",
     "iopub.status.busy": "2020-09-30T08:26:17.779389Z",
     "iopub.status.idle": "2020-09-30T08:26:18.057575Z",
     "shell.execute_reply": "2020-09-30T08:26:18.058725Z"
    },
    "title": "codecell"
   },
   "outputs": [
    {
     "data": {
      "text/latex": [
       "$\\displaystyle \\left[\\begin{matrix}\\sigma{\\left(n_{11} \\right)} & \\sigma{\\left(n_{12} \\right)}\\\\\\sigma{\\left(n_{21} \\right)} & \\sigma{\\left(n_{22} \\right)}\\\\\\sigma{\\left(n_{31} \\right)} & \\sigma{\\left(n_{32} \\right)}\\end{matrix}\\right]$"
      ],
      "text/plain": [
       "⎡σ(n₁₁)  σ(n₁₂)⎤\n",
       "⎢              ⎥\n",
       "⎢σ(n₂₁)  σ(n₂₂)⎥\n",
       "⎢              ⎥\n",
       "⎣σ(n₃₁)  σ(n₃₂)⎦"
      ]
     },
     "execution_count": 1,
     "metadata": {},
     "output_type": "execute_result"
    }
   ],
   "source": [
    "Selem = S.replace(n, vN).replace(sigmaApply, sigmaApply_); Selem"
   ]
  },
  {
   "cell_type": "code",
   "execution_count": 35,
   "metadata": {
    "execution": {
     "iopub.execute_input": "2020-09-30T08:26:18.063868Z",
     "iopub.status.busy": "2020-09-30T08:26:18.062371Z",
     "iopub.status.idle": "2020-09-30T08:26:18.661904Z",
     "shell.execute_reply": "2020-09-30T08:26:18.662992Z"
    },
    "lines_to_next_cell": 0,
    "title": "codecell"
   },
   "outputs": [
    {
     "data": {
      "text/latex": [
       "$\\displaystyle \\left[\\begin{matrix}n_{11} & w_{11} x_{11} + w_{21} x_{12} + w_{31} x_{13}\\\\n_{12} & w_{12} x_{11} + w_{22} x_{12} + w_{32} x_{13}\\\\n_{21} & w_{11} x_{21} + w_{21} x_{22} + w_{31} x_{23}\\\\n_{22} & w_{12} x_{21} + w_{22} x_{22} + w_{32} x_{23}\\\\n_{31} & w_{11} x_{31} + w_{21} x_{32} + w_{31} x_{33}\\\\n_{32} & w_{12} x_{31} + w_{22} x_{32} + w_{32} x_{33}\\end{matrix}\\right]$"
      ],
      "text/plain": [
       "⎡n₁₁  w₁₁⋅x₁₁ + w₂₁⋅x₁₂ + w₃₁⋅x₁₃⎤\n",
       "⎢                                ⎥\n",
       "⎢n₁₂  w₁₂⋅x₁₁ + w₂₂⋅x₁₂ + w₃₂⋅x₁₃⎥\n",
       "⎢                                ⎥\n",
       "⎢n₂₁  w₁₁⋅x₂₁ + w₂₁⋅x₂₂ + w₃₁⋅x₂₃⎥\n",
       "⎢                                ⎥\n",
       "⎢n₂₂  w₁₂⋅x₂₁ + w₂₂⋅x₂₂ + w₃₂⋅x₂₃⎥\n",
       "⎢                                ⎥\n",
       "⎢n₃₁  w₁₁⋅x₃₁ + w₂₁⋅x₃₂ + w₃₁⋅x₃₃⎥\n",
       "⎢                                ⎥\n",
       "⎣n₃₂  w₁₂⋅x₃₁ + w₂₂⋅x₃₂ + w₃₂⋅x₃₃⎦"
      ]
     },
     "execution_count": 1,
     "metadata": {},
     "output_type": "execute_result"
    }
   ],
   "source": [
    "import itertools\n",
    "\n",
    "elemToSpecD = dict(itertools.chain(*[[(Nelem[i, j], Nspec[i, j]) for j in range(2)] for i in range(3)]))\n",
    "\n",
    "elemToSpec = list(elemToSpecD.items())\n",
    "\n",
    "Matrix(elemToSpec)"
   ]
  },
  {
   "cell_type": "code",
   "execution_count": 36,
   "metadata": {
    "execution": {
     "iopub.execute_input": "2020-09-30T08:26:18.676469Z",
     "iopub.status.busy": "2020-09-30T08:26:18.671056Z",
     "iopub.status.idle": "2020-09-30T08:26:19.380681Z",
     "shell.execute_reply": "2020-09-30T08:26:19.384137Z"
    },
    "lines_to_next_cell": 0,
    "title": "codecell"
   },
   "outputs": [
    {
     "data": {
      "text/latex": [
       "$\\displaystyle \\left[\\begin{matrix}n_{11} & \\operatorname{n_{11}}{\\left(w_{11} x_{11} + w_{21} x_{12} + w_{31} x_{13} \\right)}\\\\n_{12} & \\operatorname{n_{12}}{\\left(w_{12} x_{11} + w_{22} x_{12} + w_{32} x_{13} \\right)}\\\\n_{21} & \\operatorname{n_{21}}{\\left(w_{11} x_{21} + w_{21} x_{22} + w_{31} x_{23} \\right)}\\\\n_{22} & \\operatorname{n_{22}}{\\left(w_{12} x_{21} + w_{22} x_{22} + w_{32} x_{23} \\right)}\\\\n_{31} & \\operatorname{n_{31}}{\\left(w_{11} x_{31} + w_{21} x_{32} + w_{31} x_{33} \\right)}\\\\n_{32} & \\operatorname{n_{32}}{\\left(w_{12} x_{31} + w_{22} x_{32} + w_{32} x_{33} \\right)}\\end{matrix}\\right]$"
      ],
      "text/plain": [
       "⎡n₁₁  n₁₁(w₁₁⋅x₁₁ + w₂₁⋅x₁₂ + w₃₁⋅x₁₃)⎤\n",
       "⎢                                     ⎥\n",
       "⎢n₁₂  n₁₂(w₁₂⋅x₁₁ + w₂₂⋅x₁₂ + w₃₂⋅x₁₃)⎥\n",
       "⎢                                     ⎥\n",
       "⎢n₂₁  n₂₁(w₁₁⋅x₂₁ + w₂₁⋅x₂₂ + w₃₁⋅x₂₃)⎥\n",
       "⎢                                     ⎥\n",
       "⎢n₂₂  n₂₂(w₁₂⋅x₂₁ + w₂₂⋅x₂₂ + w₃₂⋅x₂₃)⎥\n",
       "⎢                                     ⎥\n",
       "⎢n₃₁  n₃₁(w₁₁⋅x₃₁ + w₂₁⋅x₃₂ + w₃₁⋅x₃₃)⎥\n",
       "⎢                                     ⎥\n",
       "⎣n₃₂  n₃₂(w₁₂⋅x₃₁ + w₂₂⋅x₃₂ + w₃₂⋅x₃₃)⎦"
      ]
     },
     "execution_count": 1,
     "metadata": {},
     "output_type": "execute_result"
    }
   ],
   "source": [
    "elemToSpecFuncD = dict(itertools.chain(*[[(Nelem[i, j], Function(\"n_{}{}\".format(i + 1, j + 1))(Nspec[i, j])) for j in range(2)] for i in range(3)]))\n",
    "\n",
    "elemToSpecFunc = list(elemToSpecFuncD.items())\n",
    "\n",
    "Matrix(elemToSpecFunc)"
   ]
  },
  {
   "cell_type": "code",
   "execution_count": 37,
   "metadata": {
    "execution": {
     "iopub.execute_input": "2020-09-30T08:26:19.396839Z",
     "iopub.status.busy": "2020-09-30T08:26:19.392346Z",
     "iopub.status.idle": "2020-09-30T08:26:19.871513Z",
     "shell.execute_reply": "2020-09-30T08:26:19.872739Z"
    },
    "lines_to_next_cell": 0,
    "title": "codecell"
   },
   "outputs": [
    {
     "data": {
      "text/latex": [
       "$\\displaystyle \\left[\\begin{matrix}n_{11} & \\operatorname{n_{11}}{\\left(x_{11},x_{12},x_{13},x_{21},x_{22},x_{23},x_{31},x_{32},x_{33},w_{11},w_{12},w_{21},w_{22},w_{31},w_{32} \\right)}\\\\n_{12} & \\operatorname{n_{12}}{\\left(x_{11},x_{12},x_{13},x_{21},x_{22},x_{23},x_{31},x_{32},x_{33},w_{11},w_{12},w_{21},w_{22},w_{31},w_{32} \\right)}\\\\n_{21} & \\operatorname{n_{21}}{\\left(x_{11},x_{12},x_{13},x_{21},x_{22},x_{23},x_{31},x_{32},x_{33},w_{11},w_{12},w_{21},w_{22},w_{31},w_{32} \\right)}\\\\n_{22} & \\operatorname{n_{22}}{\\left(x_{11},x_{12},x_{13},x_{21},x_{22},x_{23},x_{31},x_{32},x_{33},w_{11},w_{12},w_{21},w_{22},w_{31},w_{32} \\right)}\\\\n_{31} & \\operatorname{n_{31}}{\\left(x_{11},x_{12},x_{13},x_{21},x_{22},x_{23},x_{31},x_{32},x_{33},w_{11},w_{12},w_{21},w_{22},w_{31},w_{32} \\right)}\\\\n_{32} & \\operatorname{n_{32}}{\\left(x_{11},x_{12},x_{13},x_{21},x_{22},x_{23},x_{31},x_{32},x_{33},w_{11},w_{12},w_{21},w_{22},w_{31},w_{32} \\right)}\\end{matrix}\\right]$"
      ],
      "text/plain": [
       "⎡n₁₁  n₁₁(x₁₁, x₁₂, x₁₃, x₂₁, x₂₂, x₂₃, x₃₁, x₃₂, x₃₃, w₁₁\n",
       "⎢                                                         \n",
       "⎢n₁₂  n₁₂(x₁₁, x₁₂, x₁₃, x₂₁, x₂₂, x₂₃, x₃₁, x₃₂, x₃₃, w₁₁\n",
       "⎢                                                         \n",
       "⎢n₂₁  n₂₁(x₁₁, x₁₂, x₁₃, x₂₁, x₂₂, x₂₃, x₃₁, x₃₂, x₃₃, w₁₁\n",
       "⎢                                                         \n",
       "⎢n₂₂  n₂₂(x₁₁, x₁₂, x₁₃, x₂₁, x₂₂, x₂₃, x₃₁, x₃₂, x₃₃, w₁₁\n",
       "⎢                                                         \n",
       "⎢n₃₁  n₃₁(x₁₁, x₁₂, x₁₃, x₂₁, x₂₂, x₂₃, x₃₁, x₃₂, x₃₃, w₁₁\n",
       "⎢                                                         \n",
       "⎣n₃₂  n₃₂(x₁₁, x₁₂, x₁₃, x₂₁, x₂₂, x₂₃, x₃₁, x₃₂, x₃₃, w₁₁\n",
       "\n",
       ", w₁₂, w₂₁, w₂₂, w₃₁, w₃₂)⎤\n",
       "                          ⎥\n",
       ", w₁₂, w₂₁, w₂₂, w₃₁, w₃₂)⎥\n",
       "                          ⎥\n",
       ", w₁₂, w₂₁, w₂₂, w₃₁, w₃₂)⎥\n",
       "                          ⎥\n",
       ", w₁₂, w₂₁, w₂₂, w₃₁, w₃₂)⎥\n",
       "                          ⎥\n",
       ", w₁₂, w₂₁, w₂₂, w₃₁, w₃₂)⎥\n",
       "                          ⎥\n",
       ", w₁₂, w₂₁, w₂₂, w₃₁, w₃₂)⎦"
      ]
     },
     "execution_count": 1,
     "metadata": {},
     "output_type": "execute_result"
    }
   ],
   "source": [
    "elemToSpecFuncArgsD = dict(itertools.chain(*[[(Nelem[i, j], Function(\"n_{}{}\".format(i + 1, j + 1))(*X,*W)) for j in range(2)] for i in range(3)]))\n",
    "\n",
    "elemToSpecFuncArgs = list(elemToSpecFuncArgsD.items())\n",
    "\n",
    "Matrix(elemToSpecFuncArgs)"
   ]
  },
  {
   "cell_type": "code",
   "execution_count": 38,
   "metadata": {
    "execution": {
     "iopub.execute_input": "2020-09-30T08:26:19.878169Z",
     "iopub.status.busy": "2020-09-30T08:26:19.876664Z",
     "iopub.status.idle": "2020-09-30T08:26:20.071445Z",
     "shell.execute_reply": "2020-09-30T08:26:20.072580Z"
    },
    "lines_to_next_cell": 0,
    "title": "codecell"
   },
   "outputs": [
    {
     "data": {
      "text/latex": [
       "$\\displaystyle \\left[\\begin{matrix}\\sigma{\\left(n_{11} \\right)} & \\sigma{\\left(n_{12} \\right)}\\\\\\sigma{\\left(n_{21} \\right)} & \\sigma{\\left(n_{22} \\right)}\\\\\\sigma{\\left(n_{31} \\right)} & \\sigma{\\left(n_{32} \\right)}\\end{matrix}\\right]$"
      ],
      "text/plain": [
       "⎡σ(n₁₁)  σ(n₁₂)⎤\n",
       "⎢              ⎥\n",
       "⎢σ(n₂₁)  σ(n₂₂)⎥\n",
       "⎢              ⎥\n",
       "⎣σ(n₃₁)  σ(n₃₂)⎦"
      ]
     },
     "execution_count": 1,
     "metadata": {},
     "output_type": "execute_result"
    }
   ],
   "source": [
    "Selem"
   ]
  },
  {
   "cell_type": "code",
   "execution_count": 39,
   "metadata": {
    "execution": {
     "iopub.execute_input": "2020-09-30T08:26:20.077931Z",
     "iopub.status.busy": "2020-09-30T08:26:20.076430Z",
     "iopub.status.idle": "2020-09-30T08:26:20.413914Z",
     "shell.execute_reply": "2020-09-30T08:26:20.415007Z"
    },
    "lines_to_next_cell": 0,
    "title": "codecell"
   },
   "outputs": [
    {
     "data": {
      "text/latex": [
       "$\\displaystyle \\left[\\begin{matrix}\\sigma{\\left(w_{11} x_{11} + w_{21} x_{12} + w_{31} x_{13} \\right)} & \\sigma{\\left(w_{12} x_{11} + w_{22} x_{12} + w_{32} x_{13} \\right)}\\\\\\sigma{\\left(w_{11} x_{21} + w_{21} x_{22} + w_{31} x_{23} \\right)} & \\sigma{\\left(w_{12} x_{21} + w_{22} x_{22} + w_{32} x_{23} \\right)}\\\\\\sigma{\\left(w_{11} x_{31} + w_{21} x_{32} + w_{31} x_{33} \\right)} & \\sigma{\\left(w_{12} x_{31} + w_{22} x_{32} + w_{32} x_{33} \\right)}\\end{matrix}\\right]$"
      ],
      "text/plain": [
       "⎡σ(w₁₁⋅x₁₁ + w₂₁⋅x₁₂ + w₃₁⋅x₁₃)  σ(w₁₂⋅x₁₁ + w₂₂⋅x₁₂ + w₃₂\n",
       "⎢                                                         \n",
       "⎢σ(w₁₁⋅x₂₁ + w₂₁⋅x₂₂ + w₃₁⋅x₂₃)  σ(w₁₂⋅x₂₁ + w₂₂⋅x₂₂ + w₃₂\n",
       "⎢                                                         \n",
       "⎣σ(w₁₁⋅x₃₁ + w₂₁⋅x₃₂ + w₃₁⋅x₃₃)  σ(w₁₂⋅x₃₁ + w₂₂⋅x₃₂ + w₃₂\n",
       "\n",
       "⋅x₁₃)⎤\n",
       "     ⎥\n",
       "⋅x₂₃)⎥\n",
       "     ⎥\n",
       "⋅x₃₃)⎦"
      ]
     },
     "execution_count": 1,
     "metadata": {},
     "output_type": "execute_result"
    }
   ],
   "source": [
    "Selem.subs(elemToSpecD)"
   ]
  },
  {
   "cell_type": "code",
   "execution_count": 40,
   "metadata": {
    "execution": {
     "iopub.execute_input": "2020-09-30T08:26:20.420091Z",
     "iopub.status.busy": "2020-09-30T08:26:20.418619Z",
     "iopub.status.idle": "2020-09-30T08:26:20.652691Z",
     "shell.execute_reply": "2020-09-30T08:26:20.653864Z"
    },
    "lines_to_next_cell": 0,
    "title": "codecell"
   },
   "outputs": [
    {
     "data": {
      "image/png": "[encoded data removed]",
      "text/latex": [
       "$\\displaystyle \\frac{d}{d n_{12}} \\sigma{\\left(n_{12} \\right)}$"
      ],
      "text/plain": [
       " d          \n",
       "────(σ(n₁₂))\n",
       "dn₁₂        "
      ]
     },
     "execution_count": 1,
     "metadata": {},
     "output_type": "execute_result"
    }
   ],
   "source": [
    "Selem[0,1].diff(Nelem[0,1])"
   ]
  },
  {
   "cell_type": "code",
   "execution_count": 41,
   "metadata": {
    "execution": {
     "iopub.execute_input": "2020-09-30T08:26:20.659103Z",
     "iopub.status.busy": "2020-09-30T08:26:20.657575Z",
     "iopub.status.idle": "2020-09-30T08:26:20.999691Z",
     "shell.execute_reply": "2020-09-30T08:26:21.000909Z"
    },
    "title": "codecell"
   },
   "outputs": [
    {
     "data": {
      "text/latex": [
       "$\\displaystyle \\left. \\frac{d}{d n_{12}} \\sigma{\\left(n_{12} \\right)} \\right|_{\\substack{ n_{12}=w_{12} x_{11} + w_{22} x_{12} + w_{32} x_{13} }}$"
      ],
      "text/plain": [
       "⎛ d          ⎞│                               \n",
       "⎜────(σ(n₁₂))⎟│                               \n",
       "⎝dn₁₂        ⎠│n₁₂=w₁₂⋅x₁₁ + w₂₂⋅x₁₂ + w₃₂⋅x₁₃"
      ]
     },
     "execution_count": 1,
     "metadata": {},
     "output_type": "execute_result"
    }
   ],
   "source": [
    "Selem[0,1].diff(Nelem[0,1]).subs({Nelem[0,1] : Nspec[0,1]})\n",
    "#Selem[0,1].diff(Nelem[0,1]).subs(dict([{Nelem[0,1] : Nspec[0,1]}]))"
   ]
  },
  {
   "cell_type": "code",
   "execution_count": 42,
   "metadata": {
    "execution": {
     "iopub.execute_input": "2020-09-30T08:26:21.011165Z",
     "iopub.status.busy": "2020-09-30T08:26:21.006792Z",
     "iopub.status.idle": "2020-09-30T08:26:21.324655Z",
     "shell.execute_reply": "2020-09-30T08:26:21.326332Z"
    },
    "lines_to_next_cell": 0,
    "title": "codecell"
   },
   "outputs": [
    {
     "data": {
      "text/latex": [
       "$\\displaystyle \\left. \\frac{d}{d n_{12}} \\sigma{\\left(n_{12} \\right)} \\right|_{\\substack{ n_{12}=23 }}$"
      ],
      "text/plain": [
       "⎛ d          ⎞│      \n",
       "⎜────(σ(n₁₂))⎟│      \n",
       "⎝dn₁₂        ⎠│n₁₂=23"
      ]
     },
     "execution_count": 1,
     "metadata": {},
     "output_type": "execute_result"
    }
   ],
   "source": [
    "Selem[0,1].diff(Nelem[0,1]).subs({Nelem[0,1] : Nspec[0,1]}).subs({Nspec[0,1] : 23})"
   ]
  },
  {
   "cell_type": "code",
   "execution_count": 43,
   "metadata": {
    "execution": {
     "iopub.execute_input": "2020-09-30T08:26:21.332137Z",
     "iopub.status.busy": "2020-09-30T08:26:21.330137Z",
     "iopub.status.idle": "2020-09-30T08:26:21.780069Z",
     "shell.execute_reply": "2020-09-30T08:26:21.781545Z"
    },
    "lines_to_next_cell": 0,
    "title": "codecell"
   },
   "outputs": [
    {
     "data": {
      "text/latex": [
       "$\\displaystyle \\left. \\frac{d}{d n_{12}} 8 n_{12}^{3} \\right|_{\\substack{ n_{12}=w_{12} x_{11} + w_{22} x_{12} + w_{32} x_{13} }}$"
      ],
      "text/plain": [
       "⎛ d  ⎛     3⎞⎞│                               \n",
       "⎜────⎝8⋅n₁₂ ⎠⎟│                               \n",
       "⎝dn₁₂        ⎠│n₁₂=w₁₂⋅x₁₁ + w₂₂⋅x₁₂ + w₃₂⋅x₁₃"
      ]
     },
     "execution_count": 1,
     "metadata": {},
     "output_type": "execute_result"
    }
   ],
   "source": [
    "Selem[0,1].diff(Nelem[0,1]).subs({Nelem[0,1] : Nspec[0,1]}).replace(sigma, lambda x: 8*x**3)"
   ]
  },
  {
   "cell_type": "code",
   "execution_count": 44,
   "metadata": {
    "execution": {
     "iopub.execute_input": "2020-09-30T08:26:21.797292Z",
     "iopub.status.busy": "2020-09-30T08:26:21.787640Z",
     "iopub.status.idle": "2020-09-30T08:26:22.243412Z",
     "shell.execute_reply": "2020-09-30T08:26:22.249186Z"
    },
    "lines_to_next_cell": 0,
    "title": "codecell"
   },
   "outputs": [
    {
     "data": {
      "image/png": "[encoded data removed]",
      "text/latex": [
       "$\\displaystyle \\frac{d}{d n_{12}} 8 n_{12}^{3}$"
      ],
      "text/plain": [
       " d  ⎛     3⎞\n",
       "────⎝8⋅n₁₂ ⎠\n",
       "dn₁₂        "
      ]
     },
     "execution_count": 1,
     "metadata": {},
     "output_type": "execute_result"
    }
   ],
   "source": [
    "Selem[0,1].diff(Nelem[0,1]).replace(sigma, lambda x: 8*x**3)"
   ]
  },
  {
   "cell_type": "code",
   "execution_count": 45,
   "metadata": {
    "execution": {
     "iopub.execute_input": "2020-09-30T08:26:22.256849Z",
     "iopub.status.busy": "2020-09-30T08:26:22.253112Z",
     "iopub.status.idle": "2020-09-30T08:26:22.487453Z",
     "shell.execute_reply": "2020-09-30T08:26:22.488580Z"
    },
    "lines_to_next_cell": 0,
    "title": "codecell"
   },
   "outputs": [
    {
     "data": {
      "image/png": "[encoded data removed]",
      "text/latex": [
       "$\\displaystyle 24 n_{12}^{2}$"
      ],
      "text/plain": [
       "      2\n",
       "24⋅n₁₂ "
      ]
     },
     "execution_count": 1,
     "metadata": {},
     "output_type": "execute_result"
    }
   ],
   "source": [
    "Selem[0,1].diff(Nelem[0,1]).replace(sigma, lambda x: 8*x**3).doit()"
   ]
  },
  {
   "cell_type": "code",
   "execution_count": 46,
   "metadata": {
    "execution": {
     "iopub.execute_input": "2020-09-30T08:26:22.493801Z",
     "iopub.status.busy": "2020-09-30T08:26:22.492262Z",
     "iopub.status.idle": "2020-09-30T08:26:22.736799Z",
     "shell.execute_reply": "2020-09-30T08:26:22.737892Z"
    },
    "lines_to_next_cell": 0,
    "title": "codecell"
   },
   "outputs": [
    {
     "data": {
      "image/png": "[encoded data removed]",
      "text/latex": [
       "$\\displaystyle 24 \\left(w_{12} x_{11} + w_{22} x_{12} + w_{32} x_{13}\\right)^{2}$"
      ],
      "text/plain": [
       "                                2\n",
       "24⋅(w₁₂⋅x₁₁ + w₂₂⋅x₁₂ + w₃₂⋅x₁₃) "
      ]
     },
     "execution_count": 1,
     "metadata": {},
     "output_type": "execute_result"
    }
   ],
   "source": [
    "# ### GOT IT: can replace now with expression and do derivative with respect to that expression.\n",
    "Selem[0,1].diff(Nelem[0,1]).subs({Nelem[0,1] : Nspec[0,1]}).replace(sigma, lambda x: 8*x**3).doit()"
   ]
  },
  {
   "cell_type": "code",
   "execution_count": 47,
   "metadata": {
    "execution": {
     "iopub.execute_input": "2020-09-30T08:26:22.743029Z",
     "iopub.status.busy": "2020-09-30T08:26:22.741478Z",
     "iopub.status.idle": "2020-09-30T08:26:22.973719Z",
     "shell.execute_reply": "2020-09-30T08:26:22.974807Z"
    },
    "lines_to_next_cell": 0,
    "title": "codecell"
   },
   "outputs": [
    {
     "data": {
      "text/latex": [
       "$\\displaystyle w_{22} \\left. \\frac{d}{d \\xi_{1}} \\sigma{\\left(\\xi_{1} \\right)} \\right|_{\\substack{ \\xi_{1}=w_{12} x_{11} + w_{22} x_{12} + w_{32} x_{13} }}$"
      ],
      "text/plain": [
       "    ⎛ d        ⎞│                              \n",
       "w₂₂⋅⎜───(σ(ξ₁))⎟│                              \n",
       "    ⎝dξ₁       ⎠│ξ₁=w₁₂⋅x₁₁ + w₂₂⋅x₁₂ + w₃₂⋅x₁₃"
      ]
     },
     "execution_count": 1,
     "metadata": {},
     "output_type": "execute_result"
    }
   ],
   "source": [
    "Selem[0,1].subs({Nelem[0,1] : Nspec[0,1]}).diff(X[0,1])#.subs({Nelem[0,1] : Nspec[0,1]})"
   ]
  },
  {
   "cell_type": "code",
   "execution_count": 48,
   "metadata": {
    "execution": {
     "iopub.execute_input": "2020-09-30T08:26:22.980411Z",
     "iopub.status.busy": "2020-09-30T08:26:22.978520Z",
     "iopub.status.idle": "2020-09-30T08:26:23.148466Z",
     "shell.execute_reply": "2020-09-30T08:26:23.149616Z"
    },
    "title": "codecell"
   },
   "outputs": [
    {
     "data": {
      "text/latex": [
       "$\\displaystyle \\left[\\begin{matrix}\\sigma{\\left(n_{11} \\right)} & \\sigma{\\left(n_{12} \\right)}\\\\\\sigma{\\left(n_{21} \\right)} & \\sigma{\\left(n_{22} \\right)}\\\\\\sigma{\\left(n_{31} \\right)} & \\sigma{\\left(n_{32} \\right)}\\end{matrix}\\right]$"
      ],
      "text/plain": [
       "⎡σ(n₁₁)  σ(n₁₂)⎤\n",
       "⎢              ⎥\n",
       "⎢σ(n₂₁)  σ(n₂₂)⎥\n",
       "⎢              ⎥\n",
       "⎣σ(n₃₁)  σ(n₃₂)⎦"
      ]
     },
     "execution_count": 1,
     "metadata": {},
     "output_type": "execute_result"
    }
   ],
   "source": [
    "Selem"
   ]
  },
  {
   "cell_type": "code",
   "execution_count": 49,
   "metadata": {
    "execution": {
     "iopub.execute_input": "2020-09-30T08:26:23.154601Z",
     "iopub.status.busy": "2020-09-30T08:26:23.153138Z",
     "iopub.status.idle": "2020-09-30T08:26:23.408541Z",
     "shell.execute_reply": "2020-09-30T08:26:23.409643Z"
    },
    "lines_to_next_cell": 0,
    "title": "codecell"
   },
   "outputs": [
    {
     "data": {
      "text/latex": [
       "$\\displaystyle \\left[\\begin{matrix}\\operatorname{n_{11}}{\\left(w_{11} x_{11} + w_{21} x_{12} + w_{31} x_{13} \\right)} & \\operatorname{n_{12}}{\\left(w_{12} x_{11} + w_{22} x_{12} + w_{32} x_{13} \\right)}\\\\\\operatorname{n_{21}}{\\left(w_{11} x_{21} + w_{21} x_{22} + w_{31} x_{23} \\right)} & \\operatorname{n_{22}}{\\left(w_{12} x_{21} + w_{22} x_{22} + w_{32} x_{23} \\right)}\\\\\\operatorname{n_{31}}{\\left(w_{11} x_{31} + w_{21} x_{32} + w_{31} x_{33} \\right)} & \\operatorname{n_{32}}{\\left(w_{12} x_{31} + w_{22} x_{32} + w_{32} x_{33} \\right)}\\end{matrix}\\right]$"
      ],
      "text/plain": [
       "⎡n₁₁(w₁₁⋅x₁₁ + w₂₁⋅x₁₂ + w₃₁⋅x₁₃)  n₁₂(w₁₂⋅x₁₁ + w₂₂⋅x₁₂ +\n",
       "⎢                                                         \n",
       "⎢n₂₁(w₁₁⋅x₂₁ + w₂₁⋅x₂₂ + w₃₁⋅x₂₃)  n₂₂(w₁₂⋅x₂₁ + w₂₂⋅x₂₂ +\n",
       "⎢                                                         \n",
       "⎣n₃₁(w₁₁⋅x₃₁ + w₂₁⋅x₃₂ + w₃₁⋅x₃₃)  n₃₂(w₁₂⋅x₃₁ + w₂₂⋅x₃₂ +\n",
       "\n",
       " w₃₂⋅x₁₃)⎤\n",
       "         ⎥\n",
       " w₃₂⋅x₂₃)⎥\n",
       "         ⎥\n",
       " w₃₂⋅x₃₃)⎦"
      ]
     },
     "execution_count": 1,
     "metadata": {},
     "output_type": "execute_result"
    }
   ],
   "source": [
    "nt = Nelem.subs(elemToSpecFunc); nt"
   ]
  },
  {
   "cell_type": "code",
   "execution_count": 50,
   "metadata": {
    "execution": {
     "iopub.execute_input": "2020-09-30T08:26:23.414815Z",
     "iopub.status.busy": "2020-09-30T08:26:23.413327Z",
     "iopub.status.idle": "2020-09-30T08:26:23.725452Z",
     "shell.execute_reply": "2020-09-30T08:26:23.726696Z"
    },
    "lines_to_next_cell": 0,
    "title": "codecell"
   },
   "outputs": [
    {
     "data": {
      "text/latex": [
       "$\\displaystyle \\left[\\begin{matrix}\\sigma{\\left(\\operatorname{n_{11}}{\\left(w_{11} x_{11} + w_{21} x_{12} + w_{31} x_{13} \\right)} \\right)} & \\sigma{\\left(\\operatorname{n_{12}}{\\left(w_{12} x_{11} + w_{22} x_{12} + w_{32} x_{13} \\right)} \\right)}\\\\\\sigma{\\left(\\operatorname{n_{21}}{\\left(w_{11} x_{21} + w_{21} x_{22} + w_{31} x_{23} \\right)} \\right)} & \\sigma{\\left(\\operatorname{n_{22}}{\\left(w_{12} x_{21} + w_{22} x_{22} + w_{32} x_{23} \\right)} \\right)}\\\\\\sigma{\\left(\\operatorname{n_{31}}{\\left(w_{11} x_{31} + w_{21} x_{32} + w_{31} x_{33} \\right)} \\right)} & \\sigma{\\left(\\operatorname{n_{32}}{\\left(w_{12} x_{31} + w_{22} x_{32} + w_{32} x_{33} \\right)} \\right)}\\end{matrix}\\right]$"
      ],
      "text/plain": [
       "⎡σ(n₁₁(w₁₁⋅x₁₁ + w₂₁⋅x₁₂ + w₃₁⋅x₁₃))  σ(n₁₂(w₁₂⋅x₁₁ + w₂₂⋅\n",
       "⎢                                                         \n",
       "⎢σ(n₂₁(w₁₁⋅x₂₁ + w₂₁⋅x₂₂ + w₃₁⋅x₂₃))  σ(n₂₂(w₁₂⋅x₂₁ + w₂₂⋅\n",
       "⎢                                                         \n",
       "⎣σ(n₃₁(w₁₁⋅x₃₁ + w₂₁⋅x₃₂ + w₃₁⋅x₃₃))  σ(n₃₂(w₁₂⋅x₃₁ + w₂₂⋅\n",
       "\n",
       "x₁₂ + w₃₂⋅x₁₃))⎤\n",
       "               ⎥\n",
       "x₂₂ + w₃₂⋅x₂₃))⎥\n",
       "               ⎥\n",
       "x₃₂ + w₃₂⋅x₃₃))⎦"
      ]
     },
     "execution_count": 1,
     "metadata": {},
     "output_type": "execute_result"
    }
   ],
   "source": [
    "st = Selem.subs(elemToSpecFunc); st"
   ]
  },
  {
   "cell_type": "code",
   "execution_count": 51,
   "metadata": {
    "execution": {
     "iopub.execute_input": "2020-09-30T08:26:23.731835Z",
     "iopub.status.busy": "2020-09-30T08:26:23.730368Z",
     "iopub.status.idle": "2020-09-30T08:26:24.143780Z",
     "shell.execute_reply": "2020-09-30T08:26:24.144890Z"
    },
    "lines_to_next_cell": 0,
    "title": "codecell"
   },
   "outputs": [
    {
     "data": {
      "text/latex": [
       "$\\displaystyle \\left[\\begin{matrix}\\left[\\begin{matrix}\\frac{\\partial}{\\partial \\operatorname{n_{11}}{\\left(w_{11} x_{11} + w_{21} x_{12} + w_{31} x_{13} \\right)}} \\sigma{\\left(\\operatorname{n_{11}}{\\left(w_{11} x_{11} + w_{21} x_{12} + w_{31} x_{13} \\right)} \\right)} & 0\\\\0 & 0\\\\0 & 0\\end{matrix}\\right] & \\left[\\begin{matrix}0 & \\frac{\\partial}{\\partial \\operatorname{n_{12}}{\\left(w_{12} x_{11} + w_{22} x_{12} + w_{32} x_{13} \\right)}} \\sigma{\\left(\\operatorname{n_{12}}{\\left(w_{12} x_{11} + w_{22} x_{12} + w_{32} x_{13} \\right)} \\right)}\\\\0 & 0\\\\0 & 0\\end{matrix}\\right]\\\\\\left[\\begin{matrix}0 & 0\\\\\\frac{\\partial}{\\partial \\operatorname{n_{21}}{\\left(w_{11} x_{21} + w_{21} x_{22} + w_{31} x_{23} \\right)}} \\sigma{\\left(\\operatorname{n_{21}}{\\left(w_{11} x_{21} + w_{21} x_{22} + w_{31} x_{23} \\right)} \\right)} & 0\\\\0 & 0\\end{matrix}\\right] & \\left[\\begin{matrix}0 & 0\\\\0 & \\frac{\\partial}{\\partial \\operatorname{n_{22}}{\\left(w_{12} x_{21} + w_{22} x_{22} + w_{32} x_{23} \\right)}} \\sigma{\\left(\\operatorname{n_{22}}{\\left(w_{12} x_{21} + w_{22} x_{22} + w_{32} x_{23} \\right)} \\right)}\\\\0 & 0\\end{matrix}\\right]\\\\\\left[\\begin{matrix}0 & 0\\\\0 & 0\\\\\\frac{\\partial}{\\partial \\operatorname{n_{31}}{\\left(w_{11} x_{31} + w_{21} x_{32} + w_{31} x_{33} \\right)}} \\sigma{\\left(\\operatorname{n_{31}}{\\left(w_{11} x_{31} + w_{21} x_{32} + w_{31} x_{33} \\right)} \\right)} & 0\\end{matrix}\\right] & \\left[\\begin{matrix}0 & 0\\\\0 & 0\\\\0 & \\frac{\\partial}{\\partial \\operatorname{n_{32}}{\\left(w_{12} x_{31} + w_{22} x_{32} + w_{32} x_{33} \\right)}} \\sigma{\\left(\\operatorname{n_{32}}{\\left(w_{12} x_{31} + w_{22} x_{32} + w_{32} x_{33} \\right)} \\right)}\\end{matrix}\\right]\\end{matrix}\\right]$"
      ],
      "text/plain": [
       "⎡⎡      \n",
       "⎢⎢──────\n",
       "⎢⎢∂n₁₁(w\n",
       "⎢⎢      \n",
       "⎢⎢      \n",
       "⎢⎢      \n",
       "⎢⎣      \n",
       "⎢       \n",
       "⎢⎡      \n",
       "⎢⎢      \n",
       "⎢⎢      \n",
       "⎢⎢──────\n",
       "⎢⎢∂n₂₁(w\n",
       "⎢⎢      \n",
       "⎢⎣      \n",
       "⎢       \n",
       "⎢⎡      \n",
       "⎢⎢      \n",
       "⎢⎢      \n",
       "⎢⎢      \n",
       "⎢⎢      \n",
       "⎢⎢──────\n",
       "⎣⎣∂n₃₁(w\n",
       "\n",
       "        \n",
       "────────\n",
       "₁₁⋅x₁₁ +\n",
       "        \n",
       "        \n",
       "        \n",
       "        \n",
       "        \n",
       "        \n",
       "        \n",
       "        \n",
       "────────\n",
       "₁₁⋅x₂₁ +\n",
       "        \n",
       "        \n",
       "        \n",
       "        \n",
       "        \n",
       "        \n",
       "        \n",
       "        \n",
       "────────\n",
       "₁₁⋅x₃₁ +\n",
       "\n",
       "  ∂     \n",
       "────────\n",
       " w₂₁⋅x₁₂\n",
       "        \n",
       "        \n",
       "        \n",
       "        \n",
       "        \n",
       "        \n",
       "        \n",
       "  ∂     \n",
       "────────\n",
       " w₂₁⋅x₂₂\n",
       "        \n",
       "        \n",
       "        \n",
       "        \n",
       "        \n",
       "        \n",
       "        \n",
       "  ∂     \n",
       "────────\n",
       " w₂₁⋅x₃₂\n",
       "\n",
       "        \n",
       "────────\n",
       " + w₃₁⋅x\n",
       "        \n",
       "        \n",
       "        \n",
       "        \n",
       "        \n",
       "        \n",
       "        \n",
       "        \n",
       "────────\n",
       " + w₃₁⋅x\n",
       "        \n",
       "        \n",
       "        \n",
       "        \n",
       "        \n",
       "        \n",
       "        \n",
       "        \n",
       "────────\n",
       " + w₃₁⋅x\n",
       "\n",
       "        \n",
       "───(σ(n₁\n",
       "₁₃)     \n",
       "        \n",
       "    0   \n",
       "        \n",
       "    0   \n",
       "        \n",
       "    0   \n",
       "        \n",
       "        \n",
       "───(σ(n₂\n",
       "₂₃)     \n",
       "        \n",
       "    0   \n",
       "        \n",
       "    0   \n",
       "        \n",
       "    0   \n",
       "        \n",
       "        \n",
       "───(σ(n₃\n",
       "₃₃)     \n",
       "\n",
       "        \n",
       "₁(w₁₁⋅x₁\n",
       "        \n",
       "        \n",
       "        \n",
       "        \n",
       "        \n",
       "        \n",
       "        \n",
       "        \n",
       "        \n",
       "₁(w₁₁⋅x₂\n",
       "        \n",
       "        \n",
       "        \n",
       "        \n",
       "        \n",
       "        \n",
       "        \n",
       "        \n",
       "        \n",
       "₁(w₁₁⋅x₃\n",
       "        \n",
       "\n",
       "        \n",
       "₁ + w₂₁⋅\n",
       "        \n",
       "        \n",
       "        \n",
       "        \n",
       "        \n",
       "        \n",
       "        \n",
       "        \n",
       "        \n",
       "₁ + w₂₁⋅\n",
       "        \n",
       "        \n",
       "        \n",
       "        \n",
       "        \n",
       "        \n",
       "        \n",
       "        \n",
       "        \n",
       "₁ + w₂₁⋅\n",
       "        \n",
       "\n",
       "        \n",
       "x₁₂ + w₃\n",
       "        \n",
       "        \n",
       "        \n",
       "        \n",
       "        \n",
       "        \n",
       "        \n",
       "        \n",
       "        \n",
       "x₂₂ + w₃\n",
       "        \n",
       "        \n",
       "        \n",
       "        \n",
       "        \n",
       "        \n",
       "        \n",
       "        \n",
       "        \n",
       "x₃₂ + w₃\n",
       "        \n",
       "\n",
       "        \n",
       "₁⋅x₁₃)))\n",
       "        \n",
       "        \n",
       "        \n",
       "        \n",
       "        \n",
       "        \n",
       "        \n",
       "        \n",
       "        \n",
       "₁⋅x₂₃)))\n",
       "        \n",
       "        \n",
       "        \n",
       "        \n",
       "        \n",
       "        \n",
       "        \n",
       "        \n",
       "        \n",
       "₁⋅x₃₃)))\n",
       "        \n",
       "\n",
       "   ⎤  ⎡ \n",
       "  0⎥  ⎢0\n",
       "   ⎥  ⎢ \n",
       "   ⎥  ⎢ \n",
       "  0⎥  ⎢0\n",
       "   ⎥  ⎢ \n",
       "  0⎦  ⎣0\n",
       "        \n",
       "  0⎤  ⎡0\n",
       "   ⎥  ⎢ \n",
       "   ⎥  ⎢ \n",
       "  0⎥  ⎢0\n",
       "   ⎥  ⎢ \n",
       "   ⎥  ⎢ \n",
       "  0⎦  ⎣0\n",
       "        \n",
       "  0⎤  ⎡0\n",
       "   ⎥  ⎢ \n",
       "  0⎥  ⎢0\n",
       "   ⎥  ⎢ \n",
       "   ⎥  ⎢ \n",
       "  0⎥  ⎢0\n",
       "   ⎦  ⎣ \n",
       "\n",
       "        \n",
       "  ──────\n",
       "  ∂n₁₂(w\n",
       "        \n",
       "        \n",
       "        \n",
       "        \n",
       "        \n",
       "        \n",
       "        \n",
       "        \n",
       "  ──────\n",
       "  ∂n₂₂(w\n",
       "        \n",
       "        \n",
       "        \n",
       "        \n",
       "        \n",
       "        \n",
       "        \n",
       "        \n",
       "  ──────\n",
       "  ∂n₃₂(w\n",
       "\n",
       "        \n",
       "────────\n",
       "₁₂⋅x₁₁ +\n",
       "        \n",
       "        \n",
       "        \n",
       "        \n",
       "        \n",
       "        \n",
       "        \n",
       "        \n",
       "────────\n",
       "₁₂⋅x₂₁ +\n",
       "        \n",
       "        \n",
       "        \n",
       "        \n",
       "        \n",
       "        \n",
       "        \n",
       "        \n",
       "────────\n",
       "₁₂⋅x₃₁ +\n",
       "\n",
       "  ∂     \n",
       "────────\n",
       " w₂₂⋅x₁₂\n",
       "        \n",
       "        \n",
       "        \n",
       "        \n",
       "        \n",
       "        \n",
       "        \n",
       "  ∂     \n",
       "────────\n",
       " w₂₂⋅x₂₂\n",
       "        \n",
       "        \n",
       "        \n",
       "        \n",
       "        \n",
       "        \n",
       "        \n",
       "  ∂     \n",
       "────────\n",
       " w₂₂⋅x₃₂\n",
       "\n",
       "        \n",
       "────────\n",
       " + w₃₂⋅x\n",
       "        \n",
       "        \n",
       "        \n",
       "        \n",
       "        \n",
       "        \n",
       "        \n",
       "        \n",
       "────────\n",
       " + w₃₂⋅x\n",
       "        \n",
       "        \n",
       "        \n",
       "        \n",
       "        \n",
       "        \n",
       "        \n",
       "        \n",
       "────────\n",
       " + w₃₂⋅x\n",
       "\n",
       "        \n",
       "───(σ(n₁\n",
       "₁₃)     \n",
       "        \n",
       "    0   \n",
       "        \n",
       "    0   \n",
       "        \n",
       "    0   \n",
       "        \n",
       "        \n",
       "───(σ(n₂\n",
       "₂₃)     \n",
       "        \n",
       "    0   \n",
       "        \n",
       "    0   \n",
       "        \n",
       "    0   \n",
       "        \n",
       "        \n",
       "───(σ(n₃\n",
       "₃₃)     \n",
       "\n",
       "        \n",
       "₂(w₁₂⋅x₁\n",
       "        \n",
       "        \n",
       "        \n",
       "        \n",
       "        \n",
       "        \n",
       "        \n",
       "        \n",
       "        \n",
       "₂(w₁₂⋅x₂\n",
       "        \n",
       "        \n",
       "        \n",
       "        \n",
       "        \n",
       "        \n",
       "        \n",
       "        \n",
       "        \n",
       "₂(w₁₂⋅x₃\n",
       "        \n",
       "\n",
       "        \n",
       "₁ + w₂₂⋅\n",
       "        \n",
       "        \n",
       "        \n",
       "        \n",
       "        \n",
       "        \n",
       "        \n",
       "        \n",
       "        \n",
       "₁ + w₂₂⋅\n",
       "        \n",
       "        \n",
       "        \n",
       "        \n",
       "        \n",
       "        \n",
       "        \n",
       "        \n",
       "        \n",
       "₁ + w₂₂⋅\n",
       "        \n",
       "\n",
       "        \n",
       "x₁₂ + w₃\n",
       "        \n",
       "        \n",
       "        \n",
       "        \n",
       "        \n",
       "        \n",
       "        \n",
       "        \n",
       "        \n",
       "x₂₂ + w₃\n",
       "        \n",
       "        \n",
       "        \n",
       "        \n",
       "        \n",
       "        \n",
       "        \n",
       "        \n",
       "        \n",
       "x₃₂ + w₃\n",
       "        \n",
       "\n",
       "        \n",
       "₂⋅x₁₃)))\n",
       "        \n",
       "        \n",
       "        \n",
       "        \n",
       "        \n",
       "        \n",
       "        \n",
       "        \n",
       "        \n",
       "₂⋅x₂₃)))\n",
       "        \n",
       "        \n",
       "        \n",
       "        \n",
       "        \n",
       "        \n",
       "        \n",
       "        \n",
       "        \n",
       "₂⋅x₃₃)))\n",
       "        \n",
       "\n",
       "⎤⎤\n",
       "⎥⎥\n",
       "⎥⎥\n",
       "⎥⎥\n",
       "⎥⎥\n",
       "⎥⎥\n",
       "⎦⎥\n",
       " ⎥\n",
       "⎤⎥\n",
       "⎥⎥\n",
       "⎥⎥\n",
       "⎥⎥\n",
       "⎥⎥\n",
       "⎥⎥\n",
       "⎦⎥\n",
       " ⎥\n",
       "⎤⎥\n",
       "⎥⎥\n",
       "⎥⎥\n",
       "⎥⎥\n",
       "⎥⎥\n",
       "⎥⎥\n",
       "⎦⎦"
      ]
     },
     "execution_count": 1,
     "metadata": {},
     "output_type": "execute_result"
    }
   ],
   "source": [
    "\n",
    "init_printing(num_columns=10, wrap_line=True, pretty_print=True)#\n",
    "\n",
    "\n",
    "\n",
    "\n",
    "st.diff(nt)"
   ]
  },
  {
   "cell_type": "code",
   "execution_count": 52,
   "metadata": {
    "execution": {
     "iopub.execute_input": "2020-09-30T08:26:24.150177Z",
     "iopub.status.busy": "2020-09-30T08:26:24.148669Z",
     "iopub.status.idle": "2020-09-30T08:26:24.473909Z",
     "shell.execute_reply": "2020-09-30T08:26:24.475008Z"
    },
    "lines_to_next_cell": 0,
    "title": "codecell"
   },
   "outputs": [
    {
     "data": {
      "image/png": "[encoded data removed]",
      "text/latex": [
       "$\\displaystyle \\frac{\\partial}{\\partial \\operatorname{n_{11}}{\\left(w_{11} x_{11} + w_{21} x_{12} + w_{31} x_{13} \\right)}} \\sigma{\\left(\\operatorname{n_{11}}{\\left(w_{11} x_{11} + w_{21} x_{12} + w_{31} x_{13} \\right)} \\right)}$"
      ],
      "text/plain": [
       "        \n",
       "────────\n",
       "∂n₁₁(w₁₁\n",
       "\n",
       "        \n",
       "────────\n",
       "⋅x₁₁ + w\n",
       "\n",
       "∂       \n",
       "────────\n",
       "₂₁⋅x₁₂ +\n",
       "\n",
       "        \n",
       "────────\n",
       " w₃₁⋅x₁₃\n",
       "\n",
       "        \n",
       "─(σ(n₁₁(\n",
       ")       \n",
       "\n",
       "        \n",
       "w₁₁⋅x₁₁ \n",
       "        \n",
       "\n",
       "        \n",
       "+ w₂₁⋅x₁\n",
       "        \n",
       "\n",
       "        \n",
       "₂ + w₃₁⋅\n",
       "        \n",
       "\n",
       "      \n",
       "x₁₃)))\n",
       "      "
      ]
     },
     "execution_count": 1,
     "metadata": {},
     "output_type": "execute_result"
    }
   ],
   "source": [
    "st[0,0].diff(st[0,0].args[0])"
   ]
  },
  {
   "cell_type": "code",
   "execution_count": 53,
   "metadata": {
    "execution": {
     "iopub.execute_input": "2020-09-30T08:26:24.480054Z",
     "iopub.status.busy": "2020-09-30T08:26:24.478458Z",
     "iopub.status.idle": "2020-09-30T08:26:24.874306Z",
     "shell.execute_reply": "2020-09-30T08:26:24.875436Z"
    },
    "lines_to_next_cell": 0,
    "title": "codecell"
   },
   "outputs": [
    {
     "data": {
      "text/latex": [
       "$\\displaystyle w_{11} \\frac{\\partial}{\\partial \\operatorname{n_{11}}{\\left(w_{11} x_{11} + w_{21} x_{12} + w_{31} x_{13} \\right)}} \\sigma{\\left(\\operatorname{n_{11}}{\\left(w_{11} x_{11} + w_{21} x_{12} + w_{31} x_{13} \\right)} \\right)} \\left. \\frac{d}{d \\xi_{1}} \\operatorname{n_{11}}{\\left(\\xi_{1} \\right)} \\right|_{\\substack{ \\xi_{1}=w_{11} x_{11} + w_{21} x_{12} + w_{31} x_{13} }}$"
      ],
      "text/plain": [
       "        \n",
       "w₁₁⋅────\n",
       "    ∂n₁₁\n",
       "\n",
       "        \n",
       "────────\n",
       "(w₁₁⋅x₁₁\n",
       "\n",
       "    ∂   \n",
       "────────\n",
       " + w₂₁⋅x\n",
       "\n",
       "        \n",
       "────────\n",
       "₁₂ + w₃₁\n",
       "\n",
       "        \n",
       "─────(σ(\n",
       "⋅x₁₃)   \n",
       "\n",
       "        \n",
       "n₁₁(w₁₁⋅\n",
       "        \n",
       "\n",
       "        \n",
       "x₁₁ + w₂\n",
       "        \n",
       "\n",
       "        \n",
       "₁⋅x₁₂ + \n",
       "        \n",
       "\n",
       "        \n",
       "w₃₁⋅x₁₃)\n",
       "        \n",
       "\n",
       "   ⎛ d  \n",
       "))⋅⎜───(\n",
       "   ⎝dξ₁ \n",
       "\n",
       "        \n",
       "n₁₁(ξ₁))\n",
       "        \n",
       "\n",
       "⎞│      \n",
       "⎟│      \n",
       "⎠│ξ₁=w₁₁\n",
       "\n",
       "        \n",
       "        \n",
       "⋅x₁₁ + w\n",
       "\n",
       "        \n",
       "        \n",
       "₂₁⋅x₁₂ +\n",
       "\n",
       "        \n",
       "        \n",
       " w₃₁⋅x₁₃"
      ]
     },
     "execution_count": 1,
     "metadata": {},
     "output_type": "execute_result"
    }
   ],
   "source": [
    "st[0,0].diff(X[0,0])"
   ]
  },
  {
   "cell_type": "code",
   "execution_count": 54,
   "metadata": {
    "execution": {
     "iopub.execute_input": "2020-09-30T08:26:24.880620Z",
     "iopub.status.busy": "2020-09-30T08:26:24.879106Z",
     "iopub.status.idle": "2020-09-30T08:26:25.044270Z",
     "shell.execute_reply": "2020-09-30T08:26:25.045366Z"
    },
    "lines_to_next_cell": 0,
    "title": "codecell"
   },
   "outputs": [
    {
     "data": {
      "image/png": "[encoded data removed]",
      "text/latex": [
       "$\\displaystyle 0$"
      ],
      "text/plain": [
       "0"
      ]
     },
     "execution_count": 1,
     "metadata": {},
     "output_type": "execute_result"
    }
   ],
   "source": [
    "st[0,0].diff(st[1,0].args[0])"
   ]
  },
  {
   "cell_type": "code",
   "execution_count": 55,
   "metadata": {
    "execution": {
     "iopub.execute_input": "2020-09-30T08:26:25.050386Z",
     "iopub.status.busy": "2020-09-30T08:26:25.048862Z",
     "iopub.status.idle": "2020-09-30T08:26:25.296751Z",
     "shell.execute_reply": "2020-09-30T08:26:25.297834Z"
    },
    "lines_to_next_cell": 0,
    "title": "codecell"
   },
   "outputs": [
    {
     "data": {
      "text/latex": [
       "$\\displaystyle \\left[\\begin{matrix}\\left[\\begin{matrix}\\frac{d}{d n_{11}} \\sigma{\\left(n_{11} \\right)} & 0\\\\0 & 0\\\\0 & 0\\end{matrix}\\right] & \\left[\\begin{matrix}0 & \\frac{d}{d n_{12}} \\sigma{\\left(n_{12} \\right)}\\\\0 & 0\\\\0 & 0\\end{matrix}\\right]\\\\\\left[\\begin{matrix}0 & 0\\\\\\frac{d}{d n_{21}} \\sigma{\\left(n_{21} \\right)} & 0\\\\0 & 0\\end{matrix}\\right] & \\left[\\begin{matrix}0 & 0\\\\0 & \\frac{d}{d n_{22}} \\sigma{\\left(n_{22} \\right)}\\\\0 & 0\\end{matrix}\\right]\\\\\\left[\\begin{matrix}0 & 0\\\\0 & 0\\\\\\frac{d}{d n_{31}} \\sigma{\\left(n_{31} \\right)} & 0\\end{matrix}\\right] & \\left[\\begin{matrix}0 & 0\\\\0 & 0\\\\0 & \\frac{d}{d n_{32}} \\sigma{\\left(n_{32} \\right)}\\end{matrix}\\right]\\end{matrix}\\right]$"
      ],
      "text/plain": [
       "⎡⎡ d    \n",
       "⎢⎢────(σ\n",
       "⎢⎢dn₁₁  \n",
       "⎢⎢      \n",
       "⎢⎢     0\n",
       "⎢⎢      \n",
       "⎢⎣     0\n",
       "⎢       \n",
       "⎢⎡     0\n",
       "⎢⎢      \n",
       "⎢⎢ d    \n",
       "⎢⎢────(σ\n",
       "⎢⎢dn₂₁  \n",
       "⎢⎢      \n",
       "⎢⎣     0\n",
       "⎢       \n",
       "⎢⎡     0\n",
       "⎢⎢      \n",
       "⎢⎢     0\n",
       "⎢⎢      \n",
       "⎢⎢ d    \n",
       "⎢⎢────(σ\n",
       "⎣⎣dn₃₁  \n",
       "\n",
       "        \n",
       "(n₁₁))  \n",
       "        \n",
       "        \n",
       "        \n",
       "        \n",
       "        \n",
       "        \n",
       "        \n",
       "        \n",
       "        \n",
       "(n₂₁))  \n",
       "        \n",
       "        \n",
       "        \n",
       "        \n",
       "        \n",
       "        \n",
       "        \n",
       "        \n",
       "        \n",
       "(n₃₁))  \n",
       "        \n",
       "\n",
       " ⎤  ⎡   \n",
       "0⎥  ⎢0  \n",
       " ⎥  ⎢   \n",
       " ⎥  ⎢   \n",
       "0⎥  ⎢0  \n",
       " ⎥  ⎢   \n",
       "0⎦  ⎣0  \n",
       "        \n",
       "0⎤  ⎡0  \n",
       " ⎥  ⎢   \n",
       " ⎥  ⎢   \n",
       "0⎥  ⎢0  \n",
       " ⎥  ⎢   \n",
       " ⎥  ⎢   \n",
       "0⎦  ⎣0  \n",
       "        \n",
       "0⎤  ⎡0  \n",
       " ⎥  ⎢   \n",
       "0⎥  ⎢0  \n",
       " ⎥  ⎢   \n",
       " ⎥  ⎢   \n",
       "0⎥  ⎢0  \n",
       " ⎦  ⎣   \n",
       "\n",
       " d      \n",
       "────(σ(n\n",
       "dn₁₂    \n",
       "        \n",
       "     0  \n",
       "        \n",
       "     0  \n",
       "        \n",
       "     0  \n",
       "        \n",
       " d      \n",
       "────(σ(n\n",
       "dn₂₂    \n",
       "        \n",
       "     0  \n",
       "        \n",
       "     0  \n",
       "        \n",
       "     0  \n",
       "        \n",
       " d      \n",
       "────(σ(n\n",
       "dn₃₂    \n",
       "\n",
       "    ⎤⎤\n",
       "₁₂))⎥⎥\n",
       "    ⎥⎥\n",
       "    ⎥⎥\n",
       "    ⎥⎥\n",
       "    ⎥⎥\n",
       "    ⎦⎥\n",
       "     ⎥\n",
       "    ⎤⎥\n",
       "    ⎥⎥\n",
       "    ⎥⎥\n",
       "₂₂))⎥⎥\n",
       "    ⎥⎥\n",
       "    ⎥⎥\n",
       "    ⎦⎥\n",
       "     ⎥\n",
       "    ⎤⎥\n",
       "    ⎥⎥\n",
       "    ⎥⎥\n",
       "    ⎥⎥\n",
       "    ⎥⎥\n",
       "₃₂))⎥⎥\n",
       "    ⎦⎦"
      ]
     },
     "execution_count": 1,
     "metadata": {},
     "output_type": "execute_result"
    }
   ],
   "source": [
    "Selem.diff(Nelem)"
   ]
  },
  {
   "cell_type": "code",
   "execution_count": 56,
   "metadata": {
    "execution": {
     "iopub.execute_input": "2020-09-30T08:26:25.303019Z",
     "iopub.status.busy": "2020-09-30T08:26:25.301517Z",
     "iopub.status.idle": "2020-09-30T08:26:25.738616Z",
     "shell.execute_reply": "2020-09-30T08:26:25.739812Z"
    },
    "lines_to_next_cell": 0,
    "title": "codecell"
   },
   "outputs": [
    {
     "data": {
      "text/latex": [
       "$\\displaystyle \\left[\\begin{matrix}\\left[\\begin{matrix}\\frac{\\partial}{\\partial \\operatorname{n_{11}}{\\left(w_{11} x_{11} + w_{21} x_{12} + w_{31} x_{13} \\right)}} \\sigma{\\left(\\operatorname{n_{11}}{\\left(w_{11} x_{11} + w_{21} x_{12} + w_{31} x_{13} \\right)} \\right)} & 0\\\\0 & 0\\\\0 & 0\\end{matrix}\\right] & \\left[\\begin{matrix}0 & \\frac{\\partial}{\\partial \\operatorname{n_{12}}{\\left(w_{12} x_{11} + w_{22} x_{12} + w_{32} x_{13} \\right)}} \\sigma{\\left(\\operatorname{n_{12}}{\\left(w_{12} x_{11} + w_{22} x_{12} + w_{32} x_{13} \\right)} \\right)}\\\\0 & 0\\\\0 & 0\\end{matrix}\\right]\\\\\\left[\\begin{matrix}0 & 0\\\\\\frac{\\partial}{\\partial \\operatorname{n_{21}}{\\left(w_{11} x_{21} + w_{21} x_{22} + w_{31} x_{23} \\right)}} \\sigma{\\left(\\operatorname{n_{21}}{\\left(w_{11} x_{21} + w_{21} x_{22} + w_{31} x_{23} \\right)} \\right)} & 0\\\\0 & 0\\end{matrix}\\right] & \\left[\\begin{matrix}0 & 0\\\\0 & \\frac{\\partial}{\\partial \\operatorname{n_{22}}{\\left(w_{12} x_{21} + w_{22} x_{22} + w_{32} x_{23} \\right)}} \\sigma{\\left(\\operatorname{n_{22}}{\\left(w_{12} x_{21} + w_{22} x_{22} + w_{32} x_{23} \\right)} \\right)}\\\\0 & 0\\end{matrix}\\right]\\\\\\left[\\begin{matrix}0 & 0\\\\0 & 0\\\\\\frac{\\partial}{\\partial \\operatorname{n_{31}}{\\left(w_{11} x_{31} + w_{21} x_{32} + w_{31} x_{33} \\right)}} \\sigma{\\left(\\operatorname{n_{31}}{\\left(w_{11} x_{31} + w_{21} x_{32} + w_{31} x_{33} \\right)} \\right)} & 0\\end{matrix}\\right] & \\left[\\begin{matrix}0 & 0\\\\0 & 0\\\\0 & \\frac{\\partial}{\\partial \\operatorname{n_{32}}{\\left(w_{12} x_{31} + w_{22} x_{32} + w_{32} x_{33} \\right)}} \\sigma{\\left(\\operatorname{n_{32}}{\\left(w_{12} x_{31} + w_{22} x_{32} + w_{32} x_{33} \\right)} \\right)}\\end{matrix}\\right]\\end{matrix}\\right]$"
      ],
      "text/plain": [
       "⎡⎡      \n",
       "⎢⎢──────\n",
       "⎢⎢∂n₁₁(w\n",
       "⎢⎢      \n",
       "⎢⎢      \n",
       "⎢⎢      \n",
       "⎢⎣      \n",
       "⎢       \n",
       "⎢⎡      \n",
       "⎢⎢      \n",
       "⎢⎢      \n",
       "⎢⎢──────\n",
       "⎢⎢∂n₂₁(w\n",
       "⎢⎢      \n",
       "⎢⎣      \n",
       "⎢       \n",
       "⎢⎡      \n",
       "⎢⎢      \n",
       "⎢⎢      \n",
       "⎢⎢      \n",
       "⎢⎢      \n",
       "⎢⎢──────\n",
       "⎣⎣∂n₃₁(w\n",
       "\n",
       "        \n",
       "────────\n",
       "₁₁⋅x₁₁ +\n",
       "        \n",
       "        \n",
       "        \n",
       "        \n",
       "        \n",
       "        \n",
       "        \n",
       "        \n",
       "────────\n",
       "₁₁⋅x₂₁ +\n",
       "        \n",
       "        \n",
       "        \n",
       "        \n",
       "        \n",
       "        \n",
       "        \n",
       "        \n",
       "────────\n",
       "₁₁⋅x₃₁ +\n",
       "\n",
       "  ∂     \n",
       "────────\n",
       " w₂₁⋅x₁₂\n",
       "        \n",
       "        \n",
       "        \n",
       "        \n",
       "        \n",
       "        \n",
       "        \n",
       "  ∂     \n",
       "────────\n",
       " w₂₁⋅x₂₂\n",
       "        \n",
       "        \n",
       "        \n",
       "        \n",
       "        \n",
       "        \n",
       "        \n",
       "  ∂     \n",
       "────────\n",
       " w₂₁⋅x₃₂\n",
       "\n",
       "        \n",
       "────────\n",
       " + w₃₁⋅x\n",
       "        \n",
       "        \n",
       "        \n",
       "        \n",
       "        \n",
       "        \n",
       "        \n",
       "        \n",
       "────────\n",
       " + w₃₁⋅x\n",
       "        \n",
       "        \n",
       "        \n",
       "        \n",
       "        \n",
       "        \n",
       "        \n",
       "        \n",
       "────────\n",
       " + w₃₁⋅x\n",
       "\n",
       "        \n",
       "───(σ(n₁\n",
       "₁₃)     \n",
       "        \n",
       "    0   \n",
       "        \n",
       "    0   \n",
       "        \n",
       "    0   \n",
       "        \n",
       "        \n",
       "───(σ(n₂\n",
       "₂₃)     \n",
       "        \n",
       "    0   \n",
       "        \n",
       "    0   \n",
       "        \n",
       "    0   \n",
       "        \n",
       "        \n",
       "───(σ(n₃\n",
       "₃₃)     \n",
       "\n",
       "        \n",
       "₁(w₁₁⋅x₁\n",
       "        \n",
       "        \n",
       "        \n",
       "        \n",
       "        \n",
       "        \n",
       "        \n",
       "        \n",
       "        \n",
       "₁(w₁₁⋅x₂\n",
       "        \n",
       "        \n",
       "        \n",
       "        \n",
       "        \n",
       "        \n",
       "        \n",
       "        \n",
       "        \n",
       "₁(w₁₁⋅x₃\n",
       "        \n",
       "\n",
       "        \n",
       "₁ + w₂₁⋅\n",
       "        \n",
       "        \n",
       "        \n",
       "        \n",
       "        \n",
       "        \n",
       "        \n",
       "        \n",
       "        \n",
       "₁ + w₂₁⋅\n",
       "        \n",
       "        \n",
       "        \n",
       "        \n",
       "        \n",
       "        \n",
       "        \n",
       "        \n",
       "        \n",
       "₁ + w₂₁⋅\n",
       "        \n",
       "\n",
       "        \n",
       "x₁₂ + w₃\n",
       "        \n",
       "        \n",
       "        \n",
       "        \n",
       "        \n",
       "        \n",
       "        \n",
       "        \n",
       "        \n",
       "x₂₂ + w₃\n",
       "        \n",
       "        \n",
       "        \n",
       "        \n",
       "        \n",
       "        \n",
       "        \n",
       "        \n",
       "        \n",
       "x₃₂ + w₃\n",
       "        \n",
       "\n",
       "        \n",
       "₁⋅x₁₃)))\n",
       "        \n",
       "        \n",
       "        \n",
       "        \n",
       "        \n",
       "        \n",
       "        \n",
       "        \n",
       "        \n",
       "₁⋅x₂₃)))\n",
       "        \n",
       "        \n",
       "        \n",
       "        \n",
       "        \n",
       "        \n",
       "        \n",
       "        \n",
       "        \n",
       "₁⋅x₃₃)))\n",
       "        \n",
       "\n",
       "   ⎤  ⎡ \n",
       "  0⎥  ⎢0\n",
       "   ⎥  ⎢ \n",
       "   ⎥  ⎢ \n",
       "  0⎥  ⎢0\n",
       "   ⎥  ⎢ \n",
       "  0⎦  ⎣0\n",
       "        \n",
       "  0⎤  ⎡0\n",
       "   ⎥  ⎢ \n",
       "   ⎥  ⎢ \n",
       "  0⎥  ⎢0\n",
       "   ⎥  ⎢ \n",
       "   ⎥  ⎢ \n",
       "  0⎦  ⎣0\n",
       "        \n",
       "  0⎤  ⎡0\n",
       "   ⎥  ⎢ \n",
       "  0⎥  ⎢0\n",
       "   ⎥  ⎢ \n",
       "   ⎥  ⎢ \n",
       "  0⎥  ⎢0\n",
       "   ⎦  ⎣ \n",
       "\n",
       "        \n",
       "  ──────\n",
       "  ∂n₁₂(w\n",
       "        \n",
       "        \n",
       "        \n",
       "        \n",
       "        \n",
       "        \n",
       "        \n",
       "        \n",
       "  ──────\n",
       "  ∂n₂₂(w\n",
       "        \n",
       "        \n",
       "        \n",
       "        \n",
       "        \n",
       "        \n",
       "        \n",
       "        \n",
       "  ──────\n",
       "  ∂n₃₂(w\n",
       "\n",
       "        \n",
       "────────\n",
       "₁₂⋅x₁₁ +\n",
       "        \n",
       "        \n",
       "        \n",
       "        \n",
       "        \n",
       "        \n",
       "        \n",
       "        \n",
       "────────\n",
       "₁₂⋅x₂₁ +\n",
       "        \n",
       "        \n",
       "        \n",
       "        \n",
       "        \n",
       "        \n",
       "        \n",
       "        \n",
       "────────\n",
       "₁₂⋅x₃₁ +\n",
       "\n",
       "  ∂     \n",
       "────────\n",
       " w₂₂⋅x₁₂\n",
       "        \n",
       "        \n",
       "        \n",
       "        \n",
       "        \n",
       "        \n",
       "        \n",
       "  ∂     \n",
       "────────\n",
       " w₂₂⋅x₂₂\n",
       "        \n",
       "        \n",
       "        \n",
       "        \n",
       "        \n",
       "        \n",
       "        \n",
       "  ∂     \n",
       "────────\n",
       " w₂₂⋅x₃₂\n",
       "\n",
       "        \n",
       "────────\n",
       " + w₃₂⋅x\n",
       "        \n",
       "        \n",
       "        \n",
       "        \n",
       "        \n",
       "        \n",
       "        \n",
       "        \n",
       "────────\n",
       " + w₃₂⋅x\n",
       "        \n",
       "        \n",
       "        \n",
       "        \n",
       "        \n",
       "        \n",
       "        \n",
       "        \n",
       "────────\n",
       " + w₃₂⋅x\n",
       "\n",
       "        \n",
       "───(σ(n₁\n",
       "₁₃)     \n",
       "        \n",
       "    0   \n",
       "        \n",
       "    0   \n",
       "        \n",
       "    0   \n",
       "        \n",
       "        \n",
       "───(σ(n₂\n",
       "₂₃)     \n",
       "        \n",
       "    0   \n",
       "        \n",
       "    0   \n",
       "        \n",
       "    0   \n",
       "        \n",
       "        \n",
       "───(σ(n₃\n",
       "₃₃)     \n",
       "\n",
       "        \n",
       "₂(w₁₂⋅x₁\n",
       "        \n",
       "        \n",
       "        \n",
       "        \n",
       "        \n",
       "        \n",
       "        \n",
       "        \n",
       "        \n",
       "₂(w₁₂⋅x₂\n",
       "        \n",
       "        \n",
       "        \n",
       "        \n",
       "        \n",
       "        \n",
       "        \n",
       "        \n",
       "        \n",
       "₂(w₁₂⋅x₃\n",
       "        \n",
       "\n",
       "        \n",
       "₁ + w₂₂⋅\n",
       "        \n",
       "        \n",
       "        \n",
       "        \n",
       "        \n",
       "        \n",
       "        \n",
       "        \n",
       "        \n",
       "₁ + w₂₂⋅\n",
       "        \n",
       "        \n",
       "        \n",
       "        \n",
       "        \n",
       "        \n",
       "        \n",
       "        \n",
       "        \n",
       "₁ + w₂₂⋅\n",
       "        \n",
       "\n",
       "        \n",
       "x₁₂ + w₃\n",
       "        \n",
       "        \n",
       "        \n",
       "        \n",
       "        \n",
       "        \n",
       "        \n",
       "        \n",
       "        \n",
       "x₂₂ + w₃\n",
       "        \n",
       "        \n",
       "        \n",
       "        \n",
       "        \n",
       "        \n",
       "        \n",
       "        \n",
       "        \n",
       "x₃₂ + w₃\n",
       "        \n",
       "\n",
       "        \n",
       "₂⋅x₁₃)))\n",
       "        \n",
       "        \n",
       "        \n",
       "        \n",
       "        \n",
       "        \n",
       "        \n",
       "        \n",
       "        \n",
       "₂⋅x₂₃)))\n",
       "        \n",
       "        \n",
       "        \n",
       "        \n",
       "        \n",
       "        \n",
       "        \n",
       "        \n",
       "        \n",
       "₂⋅x₃₃)))\n",
       "        \n",
       "\n",
       "⎤⎤\n",
       "⎥⎥\n",
       "⎥⎥\n",
       "⎥⎥\n",
       "⎥⎥\n",
       "⎥⎥\n",
       "⎦⎥\n",
       " ⎥\n",
       "⎤⎥\n",
       "⎥⎥\n",
       "⎥⎥\n",
       "⎥⎥\n",
       "⎥⎥\n",
       "⎥⎥\n",
       "⎦⎥\n",
       " ⎥\n",
       "⎤⎥\n",
       "⎥⎥\n",
       "⎥⎥\n",
       "⎥⎥\n",
       "⎥⎥\n",
       "⎥⎥\n",
       "⎦⎦"
      ]
     },
     "execution_count": 1,
     "metadata": {},
     "output_type": "execute_result"
    }
   ],
   "source": [
    "Selem.diff(Nelem).subs(elemToSpecFunc)"
   ]
  },
  {
   "cell_type": "code",
   "execution_count": 57,
   "metadata": {
    "execution": {
     "iopub.execute_input": "2020-09-30T08:26:25.744868Z",
     "iopub.status.busy": "2020-09-30T08:26:25.743379Z",
     "iopub.status.idle": "2020-09-30T08:26:26.044484Z",
     "shell.execute_reply": "2020-09-30T08:26:26.045579Z"
    },
    "title": "codecell"
   },
   "outputs": [
    {
     "data": {
      "text/latex": [
       "$\\displaystyle \\left[\\begin{matrix}6 & 2 w_{12} x_{11} + 2 w_{22} x_{12} + 2 w_{32} x_{13}\\\\2 w_{11} x_{21} + 2 w_{21} x_{22} + 2 w_{31} x_{23} & 2 w_{12} x_{21} + 2 w_{22} x_{22} + 2 w_{32} x_{23}\\\\2 w_{11} x_{31} + 2 w_{21} x_{32} + 2 w_{31} x_{33} & 4\\end{matrix}\\right]$"
      ],
      "text/plain": [
       "⎡       \n",
       "⎢       \n",
       "⎢2⋅w₁₁⋅x\n",
       "⎢       \n",
       "⎣2⋅w₁₁⋅x\n",
       "\n",
       "        \n",
       "        \n",
       "₂₁ + 2⋅w\n",
       "        \n",
       "₃₁ + 2⋅w\n",
       "\n",
       " 6      \n",
       "        \n",
       "₂₁⋅x₂₂ +\n",
       "        \n",
       "₂₁⋅x₃₂ +\n",
       "\n",
       "        \n",
       "        \n",
       " 2⋅w₃₁⋅x\n",
       "        \n",
       " 2⋅w₃₁⋅x\n",
       "\n",
       "    2⋅w₁\n",
       "        \n",
       "₂₃  2⋅w₁\n",
       "        \n",
       "₃₃      \n",
       "\n",
       "₂⋅x₁₁ + \n",
       "        \n",
       "₂⋅x₂₁ + \n",
       "        \n",
       "        \n",
       "\n",
       "2⋅w₂₂⋅x₁\n",
       "        \n",
       "2⋅w₂₂⋅x₂\n",
       "        \n",
       "    4   \n",
       "\n",
       "₂ + 2⋅w₃\n",
       "        \n",
       "₂ + 2⋅w₃\n",
       "        \n",
       "        \n",
       "\n",
       "₂⋅x₁₃⎤\n",
       "     ⎥\n",
       "₂⋅x₂₃⎥\n",
       "     ⎥\n",
       "     ⎦"
      ]
     },
     "execution_count": 1,
     "metadata": {},
     "output_type": "execute_result"
    }
   ],
   "source": [
    "# CAN even replace elements after have done an operation on them!!! replacing n_21 * 2 with the number 4.\n",
    "Sspec.subs({Nspec[0, 0]: 3}).replace(sigma, lambda x: 2 * x).replace(Nspec[2, 1] * 2, 4)\n",
    "\n",
    "\n"
   ]
  },
  {
   "cell_type": "code",
   "execution_count": 58,
   "metadata": {
    "execution": {
     "iopub.execute_input": "2020-09-30T08:26:26.050853Z",
     "iopub.status.busy": "2020-09-30T08:26:26.049357Z",
     "iopub.status.idle": "2020-09-30T08:26:26.220047Z",
     "shell.execute_reply": "2020-09-30T08:26:26.221257Z"
    },
    "lines_to_next_cell": 0,
    "title": "codecell"
   },
   "outputs": [
    {
     "data": {
      "text/latex": [
       "$\\displaystyle \\left[\\begin{matrix}n_{11} & n_{12}\\\\n_{21} & n_{22}\\\\n_{31} & n_{32}\\end{matrix}\\right]$"
      ],
      "text/plain": [
       "⎡n₁₁  n₁\n",
       "⎢       \n",
       "⎢n₂₁  n₂\n",
       "⎢       \n",
       "⎣n₃₁  n₃\n",
       "\n",
       "₂⎤\n",
       " ⎥\n",
       "₂⎥\n",
       " ⎥\n",
       "₂⎦"
      ]
     },
     "execution_count": 1,
     "metadata": {},
     "output_type": "execute_result"
    }
   ],
   "source": [
    "lambd = Function(\"lambda\")\n",
    "lambd_ = lambda matrix : sum(matrix)\n",
    "\n",
    "\n",
    "vN(X, W)"
   ]
  },
  {
   "cell_type": "code",
   "execution_count": 59,
   "metadata": {
    "execution": {
     "iopub.execute_input": "2020-09-30T08:26:26.226395Z",
     "iopub.status.busy": "2020-09-30T08:26:26.224907Z",
     "iopub.status.idle": "2020-09-30T08:26:26.399550Z",
     "shell.execute_reply": "2020-09-30T08:26:26.400661Z"
    },
    "lines_to_next_cell": 0,
    "title": "codecell"
   },
   "outputs": [
    {
     "data": {
      "text/latex": [
       "$\\displaystyle \\left[\\begin{matrix}n_{11} & n_{12}\\\\n_{21} & n_{22}\\\\n_{31} & n_{32}\\end{matrix}\\right]$"
      ],
      "text/plain": [
       "⎡n₁₁  n₁\n",
       "⎢       \n",
       "⎢n₂₁  n₂\n",
       "⎢       \n",
       "⎣n₃₁  n₃\n",
       "\n",
       "₂⎤\n",
       " ⎥\n",
       "₂⎥\n",
       " ⎥\n",
       "₂⎦"
      ]
     },
     "execution_count": 1,
     "metadata": {},
     "output_type": "execute_result"
    }
   ],
   "source": [
    "vN(A, B)"
   ]
  },
  {
   "cell_type": "code",
   "execution_count": 60,
   "metadata": {
    "execution": {
     "iopub.execute_input": "2020-09-30T08:26:26.406191Z",
     "iopub.status.busy": "2020-09-30T08:26:26.404434Z",
     "iopub.status.idle": "2020-09-30T08:26:26.619757Z",
     "shell.execute_reply": "2020-09-30T08:26:26.620909Z"
    },
    "lines_to_next_cell": 0,
    "title": "codecell"
   },
   "outputs": [
    {
     "data": {
      "image/png": "[encoded data removed]",
      "text/latex": [
       "$\\displaystyle \\lambda{\\left(\\sigma_{apply}{\\left(v{\\left(X,W \\right)} \\right)} \\right)}$"
      ],
      "text/plain": [
       "λ(σ_appl\n",
       "y(v(X, W\n",
       ")))"
      ]
     },
     "execution_count": 1,
     "metadata": {},
     "output_type": "execute_result"
    }
   ],
   "source": [
    "L = lambd(S); L"
   ]
  },
  {
   "cell_type": "code",
   "execution_count": 61,
   "metadata": {
    "execution": {
     "iopub.execute_input": "2020-09-30T08:26:26.625926Z",
     "iopub.status.busy": "2020-09-30T08:26:26.624418Z",
     "iopub.status.idle": "2020-09-30T08:26:26.795983Z",
     "shell.execute_reply": "2020-09-30T08:26:26.797414Z"
    },
    "lines_to_next_cell": 0,
    "title": "codecell"
   },
   "outputs": [
    {
     "data": {
      "text/latex": [
       "$\\displaystyle \\left[\\begin{matrix}n_{11} & n_{12}\\\\n_{21} & n_{22}\\\\n_{31} & n_{32}\\end{matrix}\\right]$"
      ],
      "text/plain": [
       "⎡n₁₁  n₁\n",
       "⎢       \n",
       "⎢n₂₁  n₂\n",
       "⎢       \n",
       "⎣n₃₁  n₃\n",
       "\n",
       "₂⎤\n",
       " ⎥\n",
       "₂⎥\n",
       " ⎥\n",
       "₂⎦"
      ]
     },
     "execution_count": 1,
     "metadata": {},
     "output_type": "execute_result"
    }
   ],
   "source": [
    "Nelem"
   ]
  },
  {
   "cell_type": "code",
   "execution_count": 62,
   "metadata": {
    "execution": {
     "iopub.execute_input": "2020-09-30T08:26:26.802518Z",
     "iopub.status.busy": "2020-09-30T08:26:26.801034Z",
     "iopub.status.idle": "2020-09-30T08:26:26.996081Z",
     "shell.execute_reply": "2020-09-30T08:26:26.997593Z"
    },
    "lines_to_next_cell": 0,
    "title": "codecell"
   },
   "outputs": [
    {
     "data": {
      "text/latex": [
       "$\\displaystyle \\lambda{\\left(\\sigma_{apply}{\\left(\\left[\\begin{matrix}n_{11} & n_{12}\\\\n_{21} & n_{22}\\\\n_{31} & n_{32}\\end{matrix}\\right] \\right)} \\right)}$"
      ],
      "text/plain": [
       " ⎛      \n",
       " ⎜      \n",
       "λ⎜σ_appl\n",
       " ⎜      \n",
       " ⎝      \n",
       "\n",
       " ⎛⎡n₁₁  \n",
       " ⎜⎢     \n",
       "y⎜⎢n₂₁  \n",
       " ⎜⎢     \n",
       " ⎝⎣n₃₁  \n",
       "\n",
       "n₁₂⎤⎞⎞\n",
       "   ⎥⎟⎟\n",
       "n₂₂⎥⎟⎟\n",
       "   ⎥⎟⎟\n",
       "n₃₂⎦⎠⎠"
      ]
     },
     "execution_count": 1,
     "metadata": {},
     "output_type": "execute_result"
    }
   ],
   "source": [
    "L.replace(n, vN)"
   ]
  },
  {
   "cell_type": "code",
   "execution_count": 63,
   "metadata": {
    "execution": {
     "iopub.execute_input": "2020-09-30T08:26:27.002673Z",
     "iopub.status.busy": "2020-09-30T08:26:27.001169Z",
     "iopub.status.idle": "2020-09-30T08:26:27.195513Z",
     "shell.execute_reply": "2020-09-30T08:26:27.196642Z"
    },
    "lines_to_next_cell": 0,
    "title": "codecell"
   },
   "outputs": [
    {
     "data": {
      "text/latex": [
       "$\\displaystyle \\lambda{\\left(\\left[\\begin{matrix}\\sigma{\\left(n_{11} \\right)} & \\sigma{\\left(n_{12} \\right)}\\\\\\sigma{\\left(n_{21} \\right)} & \\sigma{\\left(n_{22} \\right)}\\\\\\sigma{\\left(n_{31} \\right)} & \\sigma{\\left(n_{32} \\right)}\\end{matrix}\\right] \\right)}$"
      ],
      "text/plain": [
       " ⎛⎡σ(n₁₁\n",
       " ⎜⎢     \n",
       "λ⎜⎢σ(n₂₁\n",
       " ⎜⎢     \n",
       " ⎝⎣σ(n₃₁\n",
       "\n",
       ")  σ(n₁₂\n",
       "        \n",
       ")  σ(n₂₂\n",
       "        \n",
       ")  σ(n₃₂\n",
       "\n",
       ")⎤⎞\n",
       " ⎥⎟\n",
       ")⎥⎟\n",
       " ⎥⎟\n",
       ")⎦⎠"
      ]
     },
     "execution_count": 1,
     "metadata": {},
     "output_type": "execute_result"
    }
   ],
   "source": [
    "L.replace(n, vN).replace(sigmaApply, sigmaApply_)"
   ]
  },
  {
   "cell_type": "code",
   "execution_count": 64,
   "metadata": {
    "execution": {
     "iopub.execute_input": "2020-09-30T08:26:27.202187Z",
     "iopub.status.busy": "2020-09-30T08:26:27.200660Z",
     "iopub.status.idle": "2020-09-30T08:26:27.402784Z",
     "shell.execute_reply": "2020-09-30T08:26:27.403928Z"
    },
    "lines_to_next_cell": 0,
    "title": "codecell"
   },
   "outputs": [
    {
     "data": {
      "image/png": "[encoded data removed]",
      "text/latex": [
       "$\\displaystyle \\lambda{\\left(\\sigma_{apply}{\\left(X W \\right)} \\right)}$"
      ],
      "text/plain": [
       "λ(σ_appl\n",
       "y(X⋅W))"
      ]
     },
     "execution_count": 1,
     "metadata": {},
     "output_type": "execute_result"
    }
   ],
   "source": [
    "L.replace(n, v)"
   ]
  },
  {
   "cell_type": "code",
   "execution_count": 65,
   "metadata": {
    "execution": {
     "iopub.execute_input": "2020-09-30T08:26:27.409151Z",
     "iopub.status.busy": "2020-09-30T08:26:27.407613Z",
     "iopub.status.idle": "2020-09-30T08:26:27.639483Z",
     "shell.execute_reply": "2020-09-30T08:26:27.640641Z"
    },
    "title": "codecell"
   },
   "outputs": [
    {
     "data": {
      "image/png": "[encoded data removed]",
      "text/latex": [
       "$\\displaystyle \\lambda{\\left({\\left( d \\mapsto \\sigma{\\left(d \\right)} \\right)}_{\\circ}\\left({X W}\\right) \\right)}$"
      ],
      "text/plain": [
       "λ((d ↦ σ\n",
       "(d))˳(X⋅\n",
       "W))"
      ]
     },
     "execution_count": 1,
     "metadata": {},
     "output_type": "execute_result"
    }
   ],
   "source": [
    "\n",
    "L.replace(n, v).replace(sigmaApply, sigmaApply_)"
   ]
  },
  {
   "cell_type": "code",
   "execution_count": 66,
   "metadata": {
    "execution": {
     "iopub.execute_input": "2020-09-30T08:26:27.645926Z",
     "iopub.status.busy": "2020-09-30T08:26:27.644473Z",
     "iopub.status.idle": "2020-09-30T08:26:27.924641Z",
     "shell.execute_reply": "2020-09-30T08:26:27.926316Z"
    },
    "lines_to_next_cell": 0,
    "title": "codecell"
   },
   "outputs": [
    {
     "data": {
      "text/latex": [
       "$\\displaystyle \\lambda{\\left(\\left[\\begin{matrix}\\sigma{\\left(w_{11} x_{11} + w_{21} x_{12} + w_{31} x_{13} \\right)} & \\sigma{\\left(w_{12} x_{11} + w_{22} x_{12} + w_{32} x_{13} \\right)}\\\\\\sigma{\\left(w_{11} x_{21} + w_{21} x_{22} + w_{31} x_{23} \\right)} & \\sigma{\\left(w_{12} x_{21} + w_{22} x_{22} + w_{32} x_{23} \\right)}\\\\\\sigma{\\left(w_{11} x_{31} + w_{21} x_{32} + w_{31} x_{33} \\right)} & \\sigma{\\left(w_{12} x_{31} + w_{22} x_{32} + w_{32} x_{33} \\right)}\\end{matrix}\\right] \\right)}$"
      ],
      "text/plain": [
       " ⎛⎡σ(w₁₁\n",
       " ⎜⎢     \n",
       "λ⎜⎢σ(w₁₁\n",
       " ⎜⎢     \n",
       " ⎝⎣σ(w₁₁\n",
       "\n",
       "⋅x₁₁ + w\n",
       "        \n",
       "⋅x₂₁ + w\n",
       "        \n",
       "⋅x₃₁ + w\n",
       "\n",
       "₂₁⋅x₁₂ +\n",
       "        \n",
       "₂₁⋅x₂₂ +\n",
       "        \n",
       "₂₁⋅x₃₂ +\n",
       "\n",
       " w₃₁⋅x₁₃\n",
       "        \n",
       " w₃₁⋅x₂₃\n",
       "        \n",
       " w₃₁⋅x₃₃\n",
       "\n",
       ")  σ(w₁₂\n",
       "        \n",
       ")  σ(w₁₂\n",
       "        \n",
       ")  σ(w₁₂\n",
       "\n",
       "⋅x₁₁ + w\n",
       "        \n",
       "⋅x₂₁ + w\n",
       "        \n",
       "⋅x₃₁ + w\n",
       "\n",
       "₂₂⋅x₁₂ +\n",
       "        \n",
       "₂₂⋅x₂₂ +\n",
       "        \n",
       "₂₂⋅x₃₂ +\n",
       "\n",
       " w₃₂⋅x₁₃\n",
       "        \n",
       " w₃₂⋅x₂₃\n",
       "        \n",
       " w₃₂⋅x₃₃\n",
       "\n",
       ")⎤⎞\n",
       " ⎥⎟\n",
       ")⎥⎟\n",
       " ⎥⎟\n",
       ")⎦⎠"
      ]
     },
     "execution_count": 1,
     "metadata": {},
     "output_type": "execute_result"
    }
   ],
   "source": [
    "L.subs({A:X, B:W}).replace(n, vL).replace(sigmaApply, sigmaApply_)"
   ]
  },
  {
   "cell_type": "code",
   "execution_count": 67,
   "metadata": {
    "execution": {
     "iopub.execute_input": "2020-09-30T08:26:27.931493Z",
     "iopub.status.busy": "2020-09-30T08:26:27.929924Z",
     "iopub.status.idle": "2020-09-30T08:26:28.172701Z",
     "shell.execute_reply": "2020-09-30T08:26:28.175848Z"
    },
    "title": "codecell"
   },
   "outputs": [
    {
     "data": {
      "text/latex": [
       "$\\displaystyle \\lambda{\\left(\\sigma_{apply}{\\left(\\left[\\begin{matrix}n_{11} & n_{12}\\\\n_{21} & n_{22}\\\\n_{31} & n_{32}\\end{matrix}\\right] \\right)} \\right)}$"
      ],
      "text/plain": [
       " ⎛      \n",
       " ⎜      \n",
       "λ⎜σ_appl\n",
       " ⎜      \n",
       " ⎝      \n",
       "\n",
       " ⎛⎡n₁₁  \n",
       " ⎜⎢     \n",
       "y⎜⎢n₂₁  \n",
       " ⎜⎢     \n",
       " ⎝⎣n₃₁  \n",
       "\n",
       "n₁₂⎤⎞⎞\n",
       "   ⎥⎟⎟\n",
       "n₂₂⎥⎟⎟\n",
       "   ⎥⎟⎟\n",
       "n₃₂⎦⎠⎠"
      ]
     },
     "execution_count": 1,
     "metadata": {},
     "output_type": "execute_result"
    }
   ],
   "source": [
    "L.replace(n, vN)"
   ]
  },
  {
   "cell_type": "code",
   "execution_count": 68,
   "metadata": {
    "execution": {
     "iopub.execute_input": "2020-09-30T08:26:28.188970Z",
     "iopub.status.busy": "2020-09-30T08:26:28.185105Z",
     "iopub.status.idle": "2020-09-30T08:26:29.158764Z",
     "shell.execute_reply": "2020-09-30T08:26:29.159941Z"
    },
    "title": "codecell"
   },
   "outputs": [
    {
     "data": {
      "image/png": "[encoded data removed]",
      "text/latex": [
       "$\\displaystyle \\sigma{\\left(n_{11} \\right)} + \\sigma{\\left(n_{12} \\right)} + \\sigma{\\left(n_{21} \\right)} + \\sigma{\\left(n_{22} \\right)} + \\sigma{\\left(n_{31} \\right)} + \\sigma{\\left(n_{32} \\right)}$"
      ],
      "text/plain": [
       "σ(n₁₁) +\n",
       " σ(n₁₂) \n",
       "+ σ(n₂₁)\n",
       " + σ(n₂₂\n",
       ") + σ(n₃\n",
       "₁) + σ(n\n",
       "₃₂)"
      ]
     },
     "execution_count": 1,
     "metadata": {},
     "output_type": "execute_result"
    }
   ],
   "source": [
    "L.replace(n, vN).subs({A:X, B:W}).replace(sigmaApply, sigmaApply_).replace(lambd, lambd_)\n",
    "\n",
    "\n",
    "\n",
    "\n",
    "\n"
   ]
  },
  {
   "cell_type": "code",
   "execution_count": 69,
   "metadata": {
    "execution": {
     "iopub.execute_input": "2020-09-30T08:26:29.171458Z",
     "iopub.status.busy": "2020-09-30T08:26:29.169829Z",
     "iopub.status.idle": "2020-09-30T08:26:29.874965Z",
     "shell.execute_reply": "2020-09-30T08:26:29.876561Z"
    },
    "title": "codecell"
   },
   "outputs": [
    {
     "data": {
      "image/png": "[encoded data removed]",
      "text/latex": [
       "$\\displaystyle \\frac{d}{d f{\\left(x \\right)}} g{\\left(f{\\left(x \\right)} \\right)}$"
      ],
      "text/plain": [
       "  d     \n",
       "─────(g(\n",
       "df(x)   \n",
       "\n",
       "      \n",
       "f(x)))\n",
       "      "
      ]
     },
     "execution_count": 1,
     "metadata": {},
     "output_type": "execute_result"
    }
   ],
   "source": [
    "from sympy import symbols, Derivative\n",
    "\n",
    "x, y, r, t = symbols('x y r t') # r (radius), t (angle theta)\n",
    "f, g, h = symbols('f g h', cls=Function)\n",
    "h = g(f(x))\n",
    "\n",
    "Derivative(h, f(x)).doit()"
   ]
  },
  {
   "cell_type": "code",
   "execution_count": 70,
   "metadata": {
    "execution": {
     "iopub.execute_input": "2020-09-30T08:26:29.884728Z",
     "iopub.status.busy": "2020-09-30T08:26:29.883790Z",
     "iopub.status.idle": "2020-09-30T08:26:29.891716Z",
     "shell.execute_reply": "2020-09-30T08:26:29.893125Z"
    },
    "title": "codecell"
   },
   "outputs": [],
   "source": [
    "# Never do this gives recursion ERROR (max depth exceeded)\n",
    "# h = g(f(A))\n",
    "# Derivative(h, A).doit()"
   ]
  },
  {
   "cell_type": "code",
   "execution_count": 71,
   "metadata": {
    "lines_to_next_cell": 2,
    "title": "codecell"
   },
   "outputs": [],
   "source": []
  },
  {
   "cell_type": "code",
   "execution_count": 71,
   "metadata": {
    "execution": {
     "iopub.execute_input": "2020-09-30T08:26:29.898127Z",
     "iopub.status.busy": "2020-09-30T08:26:29.897218Z",
     "iopub.status.idle": "2020-09-30T08:26:30.215347Z",
     "shell.execute_reply": "2020-09-30T08:26:30.216494Z"
    },
    "lines_to_next_cell": 0,
    "title": "codecell"
   },
   "outputs": [
    {
     "data": {
      "image/png": "[encoded data removed]",
      "text/latex": [
       "$\\displaystyle \\lambda{\\left(\\sigma_{apply}{\\left(v{\\left(a,b \\right)} \\right)} \\right)}$"
      ],
      "text/plain": [
       "λ(σ_appl\n",
       "y(v(a, b\n",
       ")))"
      ]
     },
     "execution_count": 1,
     "metadata": {},
     "output_type": "execute_result"
    }
   ],
   "source": [
    "from sympy.abc import a, b\n",
    "\n",
    "Llower = lambd(sigmaApply(n(a, b)))\n",
    "Llower"
   ]
  },
  {
   "cell_type": "code",
   "execution_count": 72,
   "metadata": {
    "execution": {
     "iopub.execute_input": "2020-09-30T08:26:30.221589Z",
     "iopub.status.busy": "2020-09-30T08:26:30.220065Z",
     "iopub.status.idle": "2020-09-30T08:26:30.680128Z",
     "shell.execute_reply": "2020-09-30T08:26:30.681253Z"
    },
    "lines_to_next_cell": 0,
    "title": "codecell"
   },
   "outputs": [
    {
     "data": {
      "image/png": "[encoded data removed]",
      "text/latex": [
       "$\\displaystyle \\frac{\\partial}{\\partial \\sigma_{apply}{\\left(v{\\left(a,b \\right)} \\right)}} \\lambda{\\left(\\sigma_{apply}{\\left(v{\\left(a,b \\right)} \\right)} \\right)} \\frac{\\partial}{\\partial v{\\left(a,b \\right)}} \\sigma_{apply}{\\left(v{\\left(a,b \\right)} \\right)} \\frac{\\partial}{\\partial a} v{\\left(a,b \\right)}$"
      ],
      "text/plain": [
       "        \n",
       "────────\n",
       "∂σ_apply\n",
       "\n",
       "∂       \n",
       "────────\n",
       "(v(a, b)\n",
       "\n",
       "        \n",
       "─(λ(σ_ap\n",
       ")       \n",
       "\n",
       "        \n",
       "ply(v(a,\n",
       "        \n",
       "\n",
       "        \n",
       " b))))⋅─\n",
       "       ∂\n",
       "\n",
       "  ∂     \n",
       "───────(\n",
       "v(a, b) \n",
       "\n",
       "        \n",
       "σ_apply(\n",
       "        \n",
       "\n",
       "        \n",
       "v(a, b))\n",
       "        \n",
       "\n",
       "  ∂     \n",
       ")⋅──(v(a\n",
       "  ∂a    \n",
       "\n",
       "     \n",
       ", b))\n",
       "     "
      ]
     },
     "execution_count": 1,
     "metadata": {},
     "output_type": "execute_result"
    }
   ],
   "source": [
    "Derivative(Llower, a).doit()"
   ]
  },
  {
   "cell_type": "code",
   "execution_count": 73,
   "metadata": {
    "title": "codecell"
   },
   "outputs": [],
   "source": []
  },
  {
   "cell_type": "code",
   "execution_count": 73,
   "metadata": {
    "execution": {
     "iopub.execute_input": "2020-09-30T08:26:30.686647Z",
     "iopub.status.busy": "2020-09-30T08:26:30.685111Z",
     "iopub.status.idle": "2020-09-30T08:26:30.931398Z",
     "shell.execute_reply": "2020-09-30T08:26:30.932595Z"
    },
    "title": "codecell"
   },
   "outputs": [
    {
     "data": {
      "image/png": "[encoded data removed]",
      "text/latex": [
       "$\\displaystyle \\operatorname{n_{ij}}{\\left(X,W \\right)}$"
      ],
      "text/plain": [
       "n_ij(X, \n",
       "W)"
      ]
     },
     "execution_count": 1,
     "metadata": {},
     "output_type": "execute_result"
    }
   ],
   "source": [
    "# ### WAY 1: of substituting to differentiate with respect to expression:\n",
    "n_ij = Function('n_ij')\n",
    "n_ij(A,B) # (N[0,0]); n_ij"
   ]
  },
  {
   "cell_type": "code",
   "execution_count": 74,
   "metadata": {
    "execution": {
     "iopub.execute_input": "2020-09-30T08:26:30.937733Z",
     "iopub.status.busy": "2020-09-30T08:26:30.936243Z",
     "iopub.status.idle": "2020-09-30T08:26:31.477402Z",
     "shell.execute_reply": "2020-09-30T08:26:31.478551Z"
    },
    "title": "codecell"
   },
   "outputs": [
    {
     "data": {
      "image/png": "[encoded data removed]",
      "text/latex": [
       "$\\displaystyle \\left( X, \\  W\\right)$"
      ],
      "text/plain": [
       "(X, W)"
      ]
     },
     "execution_count": 1,
     "metadata": {},
     "output_type": "execute_result"
    }
   ],
   "source": [
    "n_ij(A,B).args"
   ]
  },
  {
   "cell_type": "code",
   "execution_count": 75,
   "metadata": {
    "execution": {
     "iopub.execute_input": "2020-09-30T08:26:31.492733Z",
     "iopub.status.busy": "2020-09-30T08:26:31.489394Z",
     "iopub.status.idle": "2020-09-30T08:26:32.172537Z",
     "shell.execute_reply": "2020-09-30T08:26:32.176121Z"
    },
    "lines_to_next_cell": 0,
    "title": "codecell"
   },
   "outputs": [
    {
     "data": {
      "image/png": "[encoded data removed]",
      "text/latex": [
       "$\\displaystyle \\frac{\\partial}{\\partial \\operatorname{n_{ij}}{\\left(X,W \\right)}} \\sigma{\\left(\\operatorname{n_{ij}}{\\left(X,W \\right)} \\right)}$"
      ],
      "text/plain": [
       "     ∂  \n",
       "────────\n",
       "∂n_ij(X,\n",
       "\n",
       "        \n",
       "───(σ(n_\n",
       " W)     \n",
       "\n",
       "        \n",
       "ij(X, W)\n",
       "        \n",
       "\n",
       "  \n",
       "))\n",
       "  "
      ]
     },
     "execution_count": 1,
     "metadata": {},
     "output_type": "execute_result"
    }
   ],
   "source": [
    "# sigma(n_ij).diff(n_ij).replace(n_ij, N[0,0]) # ERROR cannot deriv wi.r.t to the expression w11*x11 + ...\n",
    "\n",
    "sigma(n_ij(A,B)).diff(n_ij(A,B))"
   ]
  },
  {
   "cell_type": "code",
   "execution_count": 76,
   "metadata": {
    "execution": {
     "iopub.execute_input": "2020-09-30T08:26:32.181264Z",
     "iopub.status.busy": "2020-09-30T08:26:32.179722Z",
     "iopub.status.idle": "2020-09-30T08:26:34.100200Z",
     "shell.execute_reply": "2020-09-30T08:26:34.105289Z"
    },
    "lines_to_next_cell": 0,
    "title": "codecell"
   },
   "outputs": [
    {
     "data": {
      "image/png": "[encoded data removed]",
      "text/latex": [
       "$\\displaystyle \\frac{\\partial}{\\partial x_{11}} \\operatorname{n_{ij}}{\\left(x_{11},x_{12},x_{13},x_{21},x_{22},x_{23},x_{31},x_{32},x_{33},w_{11},w_{12},w_{21},w_{22},w_{31},w_{32} \\right)} \\frac{\\partial}{\\partial \\operatorname{n_{ij}}{\\left(x_{11},x_{12},x_{13},x_{21},x_{22},x_{23},x_{31},x_{32},x_{33},w_{11},w_{12},w_{21},w_{22},w_{31},w_{32} \\right)}} \\sigma{\\left(\\operatorname{n_{ij}}{\\left(x_{11},x_{12},x_{13},x_{21},x_{22},x_{23},x_{31},x_{32},x_{33},w_{11},w_{12},w_{21},w_{22},w_{31},w_{32} \\right)} \\right)}$"
      ],
      "text/plain": [
       " ∂      \n",
       "────(n_i\n",
       "∂x₁₁    \n",
       "\n",
       "        \n",
       "j(x₁₁, x\n",
       "        \n",
       "\n",
       "        \n",
       "₁₂, x₁₃,\n",
       "        \n",
       "\n",
       "        \n",
       " x₂₁, x₂\n",
       "        \n",
       "\n",
       "        \n",
       "₂, x₂₃, \n",
       "        \n",
       "\n",
       "        \n",
       "x₃₁, x₃₂\n",
       "        \n",
       "\n",
       "        \n",
       ", x₃₃, w\n",
       "        \n",
       "\n",
       "        \n",
       "₁₁, w₁₂,\n",
       "        \n",
       "\n",
       "        \n",
       " w₂₁, w₂\n",
       "        \n",
       "\n",
       "        \n",
       "₂, w₃₁, \n",
       "        \n",
       "\n",
       "        \n",
       "w₃₂))⋅──\n",
       "      ∂n\n",
       "\n",
       "        \n",
       "────────\n",
       "_ij(x₁₁,\n",
       "\n",
       "        \n",
       "────────\n",
       " x₁₂, x₁\n",
       "\n",
       "        \n",
       "────────\n",
       "₃, x₂₁, \n",
       "\n",
       "        \n",
       "────────\n",
       "x₂₂, x₂₃\n",
       "\n",
       "     ∂  \n",
       "────────\n",
       ", x₃₁, x\n",
       "\n",
       "        \n",
       "────────\n",
       "₃₂, x₃₃,\n",
       "\n",
       "        \n",
       "────────\n",
       " w₁₁, w₁\n",
       "\n",
       "        \n",
       "────────\n",
       "₂, w₂₁, \n",
       "\n",
       "        \n",
       "────────\n",
       "w₂₂, w₃₁\n",
       "\n",
       "        \n",
       "──────(σ\n",
       ", w₃₂)  \n",
       "\n",
       "        \n",
       "(n_ij(x₁\n",
       "        \n",
       "\n",
       "        \n",
       "₁, x₁₂, \n",
       "        \n",
       "\n",
       "        \n",
       "x₁₃, x₂₁\n",
       "        \n",
       "\n",
       "        \n",
       ", x₂₂, x\n",
       "        \n",
       "\n",
       "        \n",
       "₂₃, x₃₁,\n",
       "        \n",
       "\n",
       "        \n",
       " x₃₂, x₃\n",
       "        \n",
       "\n",
       "        \n",
       "₃, w₁₁, \n",
       "        \n",
       "\n",
       "        \n",
       "w₁₂, w₂₁\n",
       "        \n",
       "\n",
       "        \n",
       ", w₂₂, w\n",
       "        \n",
       "\n",
       "        \n",
       "₃₁, w₃₂)\n",
       "        \n",
       "\n",
       "  \n",
       "))\n",
       "  "
      ]
     },
     "execution_count": 1,
     "metadata": {},
     "output_type": "execute_result"
    }
   ],
   "source": [
    "sigma(n_ij(*X,*W)).diff(X[0,0])"
   ]
  },
  {
   "cell_type": "code",
   "execution_count": 77,
   "metadata": {
    "execution": {
     "iopub.execute_input": "2020-09-30T08:26:34.112941Z",
     "iopub.status.busy": "2020-09-30T08:26:34.109063Z",
     "iopub.status.idle": "2020-09-30T08:26:34.623137Z",
     "shell.execute_reply": "2020-09-30T08:26:34.629134Z"
    },
    "lines_to_next_cell": 0,
    "title": "codecell"
   },
   "outputs": [
    {
     "data": {
      "image/png": "[encoded data removed]",
      "text/latex": [
       "$\\displaystyle \\frac{\\partial}{\\partial \\operatorname{n_{ij}}{\\left(X,W \\right)}} \\sigma{\\left(\\operatorname{n_{ij}}{\\left(X,W \\right)} \\right)}$"
      ],
      "text/plain": [
       "     ∂  \n",
       "────────\n",
       "∂n_ij(X,\n",
       "\n",
       "        \n",
       "───(σ(n_\n",
       " W)     \n",
       "\n",
       "        \n",
       "ij(X, W)\n",
       "        \n",
       "\n",
       "  \n",
       "))\n",
       "  "
      ]
     },
     "execution_count": 1,
     "metadata": {},
     "output_type": "execute_result"
    }
   ],
   "source": [
    "nab_ij = n_ij(A,B)\n",
    "sigma(nab_ij).diff(nab_ij)#.subs({nab_ij : Nspec[0, 0]})"
   ]
  },
  {
   "cell_type": "code",
   "execution_count": 78,
   "metadata": {
    "execution": {
     "iopub.execute_input": "2020-09-30T08:26:34.634509Z",
     "iopub.status.busy": "2020-09-30T08:26:34.632951Z",
     "iopub.status.idle": "2020-09-30T08:26:35.150121Z",
     "shell.execute_reply": "2020-09-30T08:26:35.151259Z"
    },
    "title": "codecell"
   },
   "outputs": [
    {
     "data": {
      "text/latex": [
       "$\\displaystyle \\left. \\frac{d}{d \\xi} \\sigma{\\left(\\xi \\right)} \\right|_{\\substack{ \\xi=w_{12} x_{31} + w_{22} x_{32} + w_{32} x_{33} }}$"
      ],
      "text/plain": [
       "⎛d      \n",
       "⎜──(σ(ξ)\n",
       "⎝dξ     \n",
       "\n",
       " ⎞│     \n",
       ")⎟│     \n",
       " ⎠│ξ=w₁₂\n",
       "\n",
       "        \n",
       "        \n",
       "⋅x₃₁ + w\n",
       "\n",
       "        \n",
       "        \n",
       "₂₂⋅x₃₂ +\n",
       "\n",
       "        \n",
       "        \n",
       " w₃₂⋅x₃₃"
      ]
     },
     "execution_count": 1,
     "metadata": {},
     "output_type": "execute_result"
    }
   ],
   "source": [
    "sigma(nab_ij).diff(nab_ij).subs({nab_ij : Nspec[2, 1]})"
   ]
  },
  {
   "cell_type": "code",
   "execution_count": 79,
   "metadata": {
    "execution": {
     "iopub.execute_input": "2020-09-30T08:26:35.161598Z",
     "iopub.status.busy": "2020-09-30T08:26:35.155106Z",
     "iopub.status.idle": "2020-09-30T08:26:35.708890Z",
     "shell.execute_reply": "2020-09-30T08:26:35.710437Z"
    },
    "lines_to_next_cell": 0,
    "title": "codecell"
   },
   "outputs": [
    {
     "data": {
      "text/latex": [
       "$\\displaystyle \\left. \\frac{d}{d \\xi} \\sigma{\\left(\\xi \\right)} \\right|_{\\substack{ \\xi=w_{12} x_{31} + 77777 w_{22} + w_{32} x_{33} }}$"
      ],
      "text/plain": [
       "⎛d      \n",
       "⎜──(σ(ξ)\n",
       "⎝dξ     \n",
       "\n",
       " ⎞│     \n",
       ")⎟│     \n",
       " ⎠│ξ=w₁₂\n",
       "\n",
       "        \n",
       "        \n",
       "⋅x₃₁ + 7\n",
       "\n",
       "        \n",
       "        \n",
       "7777⋅w₂₂\n",
       "\n",
       "        \n",
       "        \n",
       " + w₃₂⋅x\n",
       "\n",
       "  \n",
       "  \n",
       "₃₃"
      ]
     },
     "execution_count": 1,
     "metadata": {},
     "output_type": "execute_result"
    }
   ],
   "source": [
    "sigma(nab_ij).diff(nab_ij).subs({nab_ij : Nspec[2,1]}).subs({X[2,1]:77777})"
   ]
  },
  {
   "cell_type": "code",
   "execution_count": 80,
   "metadata": {
    "execution": {
     "iopub.execute_input": "2020-09-30T08:26:35.721394Z",
     "iopub.status.busy": "2020-09-30T08:26:35.717133Z",
     "iopub.status.idle": "2020-09-30T08:26:36.124336Z",
     "shell.execute_reply": "2020-09-30T08:26:36.125872Z"
    },
    "title": "codecell"
   },
   "outputs": [
    {
     "data": {
      "text/latex": [
       "$\\displaystyle \\left. \\frac{d}{d \\xi} \\sigma{\\left(\\xi \\right)} \\right|_{\\substack{ \\xi=23 }}$"
      ],
      "text/plain": [
       "⎛d      \n",
       "⎜──(σ(ξ)\n",
       "⎝dξ     \n",
       "\n",
       " ⎞│    \n",
       ")⎟│    \n",
       " ⎠│ξ=23"
      ]
     },
     "execution_count": 1,
     "metadata": {},
     "output_type": "execute_result"
    }
   ],
   "source": [
    "sigma(nab_ij).diff(nab_ij).subs({nab_ij : 23}) # ERROR if using replace() since it says can't calc derivs w.r.t to the x_11*w_11 + ..."
   ]
  },
  {
   "cell_type": "code",
   "execution_count": 81,
   "metadata": {
    "execution": {
     "iopub.execute_input": "2020-09-30T08:26:36.137309Z",
     "iopub.status.busy": "2020-09-30T08:26:36.131268Z",
     "iopub.status.idle": "2020-09-30T08:26:36.570243Z",
     "shell.execute_reply": "2020-09-30T08:26:36.571364Z"
    },
    "lines_to_next_cell": 0,
    "title": "codecell"
   },
   "outputs": [
    {
     "data": {
      "text/latex": [
       "$\\displaystyle \\left. \\frac{d}{d \\xi} \\sigma{\\left(\\xi \\right)} \\right|_{\\substack{ \\xi=w_{12} x_{31} + w_{22} x_{32} + w_{32} x_{33} }}$"
      ],
      "text/plain": [
       "⎛d      \n",
       "⎜──(σ(ξ)\n",
       "⎝dξ     \n",
       "\n",
       " ⎞│     \n",
       ")⎟│     \n",
       " ⎠│ξ=w₁₂\n",
       "\n",
       "        \n",
       "        \n",
       "⋅x₃₁ + w\n",
       "\n",
       "        \n",
       "        \n",
       "₂₂⋅x₃₂ +\n",
       "\n",
       "        \n",
       "        \n",
       " w₃₂⋅x₃₃"
      ]
     },
     "execution_count": 1,
     "metadata": {},
     "output_type": "execute_result"
    }
   ],
   "source": [
    "sigma(nab_ij).diff(nab_ij).subs({nab_ij : Nspec[2,1]}).doit()"
   ]
  },
  {
   "cell_type": "code",
   "execution_count": 82,
   "metadata": {
    "execution": {
     "iopub.execute_input": "2020-09-30T08:26:36.580967Z",
     "iopub.status.busy": "2020-09-30T08:26:36.575293Z",
     "iopub.status.idle": "2020-09-30T08:26:37.044809Z",
     "shell.execute_reply": "2020-09-30T08:26:37.046291Z"
    },
    "lines_to_next_cell": 0,
    "title": "codecell"
   },
   "outputs": [
    {
     "data": {
      "image/png": "[encoded data removed]",
      "text/latex": [
       "$\\displaystyle \\sigma{\\left(w_{12} x_{31} + w_{22} x_{32} + w_{32} x_{33} \\right)}$"
      ],
      "text/plain": [
       "σ(w₁₂⋅x₃\n",
       "₁ + w₂₂⋅\n",
       "x₃₂ + w₃\n",
       "₂⋅x₃₃)"
      ]
     },
     "execution_count": 1,
     "metadata": {},
     "output_type": "execute_result"
    }
   ],
   "source": [
    "sigma(nab_ij).subs({nab_ij : Nspec[2,1]})#.diff(X[2,1])"
   ]
  },
  {
   "cell_type": "code",
   "execution_count": 83,
   "metadata": {
    "execution": {
     "iopub.execute_input": "2020-09-30T08:26:37.054420Z",
     "iopub.status.busy": "2020-09-30T08:26:37.053520Z",
     "iopub.status.idle": "2020-09-30T08:26:37.514471Z",
     "shell.execute_reply": "2020-09-30T08:26:37.515614Z"
    },
    "lines_to_next_cell": 2,
    "title": "codecell"
   },
   "outputs": [
    {
     "data": {
      "text/latex": [
       "$\\displaystyle w_{22} \\left. \\frac{d}{d \\xi_{1}} \\sigma{\\left(\\xi_{1} \\right)} \\right|_{\\substack{ \\xi_{1}=w_{12} x_{31} + w_{22} x_{32} + w_{32} x_{33} }}$"
      ],
      "text/plain": [
       "    ⎛ d \n",
       "w₂₂⋅⎜───\n",
       "    ⎝dξ₁\n",
       "\n",
       "       ⎞\n",
       "(σ(ξ₁))⎟\n",
       "       ⎠\n",
       "\n",
       "│       \n",
       "│       \n",
       "│ξ₁=w₁₂⋅\n",
       "\n",
       "        \n",
       "        \n",
       "x₃₁ + w₂\n",
       "\n",
       "        \n",
       "        \n",
       "₂⋅x₃₂ + \n",
       "\n",
       "       \n",
       "       \n",
       "w₃₂⋅x₃₃"
      ]
     },
     "execution_count": 1,
     "metadata": {},
     "output_type": "execute_result"
    }
   ],
   "source": [
    "# Substituting the value of the function n_ij first, and THEN differentiating with respect to something in that substitution. (X_21)\n",
    "sigma(nab_ij).subs({nab_ij : Nspec[2,1]}).diff(X[2,1])"
   ]
  },
  {
   "cell_type": "code",
   "execution_count": 84,
   "metadata": {
    "execution": {
     "iopub.execute_input": "2020-09-30T08:26:37.525966Z",
     "iopub.status.busy": "2020-09-30T08:26:37.519147Z",
     "iopub.status.idle": "2020-09-30T08:26:37.990784Z",
     "shell.execute_reply": "2020-09-30T08:26:37.991946Z"
    },
    "title": "codecell"
   },
   "outputs": [
    {
     "data": {
      "text/latex": [
       "$\\displaystyle w_{22} \\left. \\frac{d}{d \\xi_{1}} \\sigma{\\left(\\xi_{1} \\right)} \\right|_{\\substack{ \\xi_{1}=w_{12} x_{31} + w_{22} x_{32} + w_{32} x_{33} }}$"
      ],
      "text/plain": [
       "    ⎛ d \n",
       "w₂₂⋅⎜───\n",
       "    ⎝dξ₁\n",
       "\n",
       "       ⎞\n",
       "(σ(ξ₁))⎟\n",
       "       ⎠\n",
       "\n",
       "│       \n",
       "│       \n",
       "│ξ₁=w₁₂⋅\n",
       "\n",
       "        \n",
       "        \n",
       "x₃₁ + w₂\n",
       "\n",
       "        \n",
       "        \n",
       "₂⋅x₃₂ + \n",
       "\n",
       "       \n",
       "       \n",
       "w₃₂⋅x₃₃"
      ]
     },
     "execution_count": 1,
     "metadata": {},
     "output_type": "execute_result"
    }
   ],
   "source": [
    "Selem[2,1].subs({Nelem[2,1] : Nspec[2,1]}).diff(X[2,1])\n",
    "\n",
    "\n"
   ]
  },
  {
   "cell_type": "code",
   "execution_count": 85,
   "metadata": {
    "execution": {
     "iopub.execute_input": "2020-09-30T08:26:38.006046Z",
     "iopub.status.busy": "2020-09-30T08:26:37.997726Z",
     "iopub.status.idle": "2020-09-30T08:26:38.529251Z",
     "shell.execute_reply": "2020-09-30T08:26:38.530342Z"
    },
    "title": "codecell"
   },
   "outputs": [
    {
     "data": {
      "image/png": "[encoded data removed]",
      "text/latex": [
       "$\\displaystyle \\operatorname{n_{11}}{\\left(w_{11} x_{11} + w_{21} x_{12} + w_{31} x_{13} \\right)}$"
      ],
      "text/plain": [
       "n₁₁(w₁₁⋅\n",
       "x₁₁ + w₂\n",
       "₁⋅x₁₂ + \n",
       "w₃₁⋅x₁₃)"
      ]
     },
     "execution_count": 1,
     "metadata": {},
     "output_type": "execute_result"
    }
   ],
   "source": [
    "# ### WAY 2:\n",
    "n_11 = Function('n_11')(Nspec[0, 0]); n_11"
   ]
  },
  {
   "cell_type": "code",
   "execution_count": 86,
   "metadata": {
    "execution": {
     "iopub.execute_input": "2020-09-30T08:26:38.541000Z",
     "iopub.status.busy": "2020-09-30T08:26:38.537225Z",
     "iopub.status.idle": "2020-09-30T08:26:39.063325Z",
     "shell.execute_reply": "2020-09-30T08:26:39.064921Z"
    },
    "lines_to_next_cell": 0,
    "title": "codecell"
   },
   "outputs": [
    {
     "data": {
      "image/png": "[encoded data removed]",
      "text/latex": [
       "$\\displaystyle \\sigma{\\left(\\operatorname{n_{11}}{\\left(w_{11} x_{11} + w_{21} x_{12} + w_{31} x_{13} \\right)} \\right)}$"
      ],
      "text/plain": [
       "σ(n₁₁(w₁\n",
       "₁⋅x₁₁ + \n",
       "w₂₁⋅x₁₂ \n",
       "+ w₃₁⋅x₁\n",
       "₃))"
      ]
     },
     "execution_count": 1,
     "metadata": {},
     "output_type": "execute_result"
    }
   ],
   "source": [
    "sigma(n_11)"
   ]
  },
  {
   "cell_type": "code",
   "execution_count": 87,
   "metadata": {
    "execution": {
     "iopub.execute_input": "2020-09-30T08:26:39.070397Z",
     "iopub.status.busy": "2020-09-30T08:26:39.069524Z",
     "iopub.status.idle": "2020-09-30T08:26:39.629651Z",
     "shell.execute_reply": "2020-09-30T08:26:39.630733Z"
    },
    "lines_to_next_cell": 0,
    "title": "codecell"
   },
   "outputs": [
    {
     "data": {
      "image/png": "[encoded data removed]",
      "text/latex": [
       "$\\displaystyle \\sigma{\\left(w_{11} x_{11} + w_{21} x_{12} + w_{31} x_{13} \\right)}$"
      ],
      "text/plain": [
       "σ(w₁₁⋅x₁\n",
       "₁ + w₂₁⋅\n",
       "x₁₂ + w₃\n",
       "₁⋅x₁₃)"
      ]
     },
     "execution_count": 1,
     "metadata": {},
     "output_type": "execute_result"
    }
   ],
   "source": [
    "assert Nspec[0,0] == n_11.args[0]\n",
    "\n",
    "sigma(n_11).subs({n_11 : n_11.args[0]})"
   ]
  },
  {
   "cell_type": "code",
   "execution_count": 88,
   "metadata": {
    "execution": {
     "iopub.execute_input": "2020-09-30T08:26:39.642040Z",
     "iopub.status.busy": "2020-09-30T08:26:39.634378Z",
     "iopub.status.idle": "2020-09-30T08:26:40.434400Z",
     "shell.execute_reply": "2020-09-30T08:26:40.439552Z"
    },
    "lines_to_next_cell": 0,
    "title": "codecell"
   },
   "outputs": [
    {
     "data": {
      "image/png": "[encoded data removed]",
      "text/latex": [
       "$\\displaystyle \\frac{\\partial}{\\partial \\operatorname{n_{11}}{\\left(w_{11} x_{11} + w_{21} x_{12} + w_{31} x_{13} \\right)}} \\sigma{\\left(\\operatorname{n_{11}}{\\left(w_{11} x_{11} + w_{21} x_{12} + w_{31} x_{13} \\right)} \\right)}$"
      ],
      "text/plain": [
       "        \n",
       "────────\n",
       "∂n₁₁(w₁₁\n",
       "\n",
       "        \n",
       "────────\n",
       "⋅x₁₁ + w\n",
       "\n",
       "∂       \n",
       "────────\n",
       "₂₁⋅x₁₂ +\n",
       "\n",
       "        \n",
       "────────\n",
       " w₃₁⋅x₁₃\n",
       "\n",
       "        \n",
       "─(σ(n₁₁(\n",
       ")       \n",
       "\n",
       "        \n",
       "w₁₁⋅x₁₁ \n",
       "        \n",
       "\n",
       "        \n",
       "+ w₂₁⋅x₁\n",
       "        \n",
       "\n",
       "        \n",
       "₂ + w₃₁⋅\n",
       "        \n",
       "\n",
       "      \n",
       "x₁₃)))\n",
       "      "
      ]
     },
     "execution_count": 1,
     "metadata": {},
     "output_type": "execute_result"
    }
   ],
   "source": [
    "sigma(n_11).diff(n_11) #.replace(n_ij, n_ij.args[0])"
   ]
  },
  {
   "cell_type": "code",
   "execution_count": 89,
   "metadata": {
    "execution": {
     "iopub.execute_input": "2020-09-30T08:26:40.445008Z",
     "iopub.status.busy": "2020-09-30T08:26:40.443462Z",
     "iopub.status.idle": "2020-09-30T08:26:40.887368Z",
     "shell.execute_reply": "2020-09-30T08:26:40.888536Z"
    },
    "lines_to_next_cell": 0,
    "title": "codecell"
   },
   "outputs": [
    {
     "data": {
      "text/latex": [
       "$\\displaystyle \\left. \\frac{d}{d \\xi} \\sigma{\\left(\\xi \\right)} \\right|_{\\substack{ \\xi=77777 w_{11} + w_{21} x_{12} + w_{31} x_{13} }}$"
      ],
      "text/plain": [
       "⎛d      \n",
       "⎜──(σ(ξ)\n",
       "⎝dξ     \n",
       "\n",
       " ⎞│     \n",
       ")⎟│     \n",
       " ⎠│ξ=777\n",
       "\n",
       "        \n",
       "        \n",
       "77⋅w₁₁ +\n",
       "\n",
       "        \n",
       "        \n",
       " w₂₁⋅x₁₂\n",
       "\n",
       "        \n",
       "        \n",
       " + w₃₁⋅x\n",
       "\n",
       "  \n",
       "  \n",
       "₁₃"
      ]
     },
     "execution_count": 1,
     "metadata": {},
     "output_type": "execute_result"
    }
   ],
   "source": [
    "sigma(n_11).diff(n_11).subs({n_11 : n_11.args[0]}).subs({X[0,0]:77777})"
   ]
  },
  {
   "cell_type": "code",
   "execution_count": 90,
   "metadata": {
    "execution": {
     "iopub.execute_input": "2020-09-30T08:26:40.901119Z",
     "iopub.status.busy": "2020-09-30T08:26:40.897296Z",
     "iopub.status.idle": "2020-09-30T08:26:41.518741Z",
     "shell.execute_reply": "2020-09-30T08:26:41.524937Z"
    },
    "title": "codecell"
   },
   "outputs": [
    {
     "data": {
      "text/latex": [
       "$\\displaystyle \\left. \\frac{d}{d \\xi} \\sigma{\\left(\\xi \\right)} \\right|_{\\substack{ \\xi=23 }}$"
      ],
      "text/plain": [
       "⎛d      \n",
       "⎜──(σ(ξ)\n",
       "⎝dξ     \n",
       "\n",
       " ⎞│    \n",
       ")⎟│    \n",
       " ⎠│ξ=23"
      ]
     },
     "execution_count": 1,
     "metadata": {},
     "output_type": "execute_result"
    }
   ],
   "source": [
    "sigma(n_11).diff(n_11).subs({n_11 : n_11.args[0]}).replace(n_11.args[0], 23) # same as subs in this case"
   ]
  },
  {
   "cell_type": "code",
   "execution_count": 91,
   "metadata": {
    "execution": {
     "iopub.execute_input": "2020-09-30T08:26:41.530214Z",
     "iopub.status.busy": "2020-09-30T08:26:41.528706Z",
     "iopub.status.idle": "2020-09-30T08:26:42.526499Z",
     "shell.execute_reply": "2020-09-30T08:26:42.533514Z"
    },
    "lines_to_next_cell": 0,
    "title": "codecell"
   },
   "outputs": [
    {
     "data": {
      "text/latex": [
       "$\\displaystyle w_{11} \\frac{\\partial}{\\partial \\operatorname{n_{11}}{\\left(w_{11} x_{11} + w_{21} x_{12} + w_{31} x_{13} \\right)}} \\sigma{\\left(\\operatorname{n_{11}}{\\left(w_{11} x_{11} + w_{21} x_{12} + w_{31} x_{13} \\right)} \\right)} \\left. \\frac{d}{d \\xi_{1}} \\operatorname{n_{11}}{\\left(\\xi_{1} \\right)} \\right|_{\\substack{ \\xi_{1}=w_{11} x_{11} + w_{21} x_{12} + w_{31} x_{13} }}$"
      ],
      "text/plain": [
       "        \n",
       "w₁₁⋅────\n",
       "    ∂n₁₁\n",
       "\n",
       "        \n",
       "────────\n",
       "(w₁₁⋅x₁₁\n",
       "\n",
       "    ∂   \n",
       "────────\n",
       " + w₂₁⋅x\n",
       "\n",
       "        \n",
       "────────\n",
       "₁₂ + w₃₁\n",
       "\n",
       "        \n",
       "─────(σ(\n",
       "⋅x₁₃)   \n",
       "\n",
       "        \n",
       "n₁₁(w₁₁⋅\n",
       "        \n",
       "\n",
       "        \n",
       "x₁₁ + w₂\n",
       "        \n",
       "\n",
       "        \n",
       "₁⋅x₁₂ + \n",
       "        \n",
       "\n",
       "        \n",
       "w₃₁⋅x₁₃)\n",
       "        \n",
       "\n",
       "   ⎛ d  \n",
       "))⋅⎜───(\n",
       "   ⎝dξ₁ \n",
       "\n",
       "        \n",
       "n₁₁(ξ₁))\n",
       "        \n",
       "\n",
       "⎞│      \n",
       "⎟│      \n",
       "⎠│ξ₁=w₁₁\n",
       "\n",
       "        \n",
       "        \n",
       "⋅x₁₁ + w\n",
       "\n",
       "        \n",
       "        \n",
       "₂₁⋅x₁₂ +\n",
       "\n",
       "        \n",
       "        \n",
       " w₃₁⋅x₁₃"
      ]
     },
     "execution_count": 1,
     "metadata": {},
     "output_type": "execute_result"
    }
   ],
   "source": [
    "sigma(n_11).diff(X[0,0])"
   ]
  },
  {
   "cell_type": "code",
   "execution_count": 92,
   "metadata": {
    "execution": {
     "iopub.execute_input": "2020-09-30T08:26:42.543038Z",
     "iopub.status.busy": "2020-09-30T08:26:42.541495Z",
     "iopub.status.idle": "2020-09-30T08:26:43.308452Z",
     "shell.execute_reply": "2020-09-30T08:26:43.310050Z"
    },
    "title": "codecell"
   },
   "outputs": [
    {
     "data": {
      "text/latex": [
       "$\\displaystyle w_{11} \\left. \\frac{d}{d \\xi_{1}} \\operatorname{n_{11}}{\\left(\\xi_{1} \\right)} \\right|_{\\substack{ \\xi_{1}=w_{11} x_{11} + w_{21} x_{12} + w_{31} x_{13} }} \\left. \\frac{d}{d \\xi} \\sigma{\\left(\\xi \\right)} \\right|_{\\substack{ \\xi=\\left( x \\mapsto x \\right) }}$"
      ],
      "text/plain": [
       "    ⎛ d \n",
       "w₁₁⋅⎜───\n",
       "    ⎝dξ₁\n",
       "\n",
       "        \n",
       "(n₁₁(ξ₁)\n",
       "        \n",
       "\n",
       " ⎞│     \n",
       ")⎟│     \n",
       " ⎠│ξ₁=w₁\n",
       "\n",
       "        \n",
       "        \n",
       "₁⋅x₁₁ + \n",
       "\n",
       "        \n",
       "        \n",
       "w₂₁⋅x₁₂ \n",
       "\n",
       "        \n",
       "        \n",
       "+ w₃₁⋅x₁\n",
       "\n",
       "  ⎛d    \n",
       " ⋅⎜──(σ(\n",
       "₃ ⎝dξ   \n",
       "\n",
       "   ⎞│   \n",
       "ξ))⎟│   \n",
       "   ⎠│ξ=x\n",
       "\n",
       "    \n",
       "    \n",
       " ↦ x"
      ]
     },
     "execution_count": 1,
     "metadata": {},
     "output_type": "execute_result"
    }
   ],
   "source": [
    "id = Lambda(x, x)\n",
    "\n",
    "sigma(n_11).diff(X[0,0]).subs({n_11 : id})"
   ]
  },
  {
   "cell_type": "code",
   "execution_count": 93,
   "metadata": {
    "execution": {
     "iopub.execute_input": "2020-09-30T08:26:43.321620Z",
     "iopub.status.busy": "2020-09-30T08:26:43.315149Z",
     "iopub.status.idle": "2020-09-30T08:26:43.920451Z",
     "shell.execute_reply": "2020-09-30T08:26:43.922002Z"
    },
    "lines_to_next_cell": 0,
    "title": "codecell"
   },
   "outputs": [
    {
     "data": {
      "text/latex": [
       "$\\displaystyle w_{11} \\left. \\frac{d}{d \\xi_{1}} \\operatorname{n_{11}}{\\left(\\xi_{1} \\right)} \\right|_{\\substack{ \\xi_{1}=w_{11} x_{11} + w_{21} x_{12} + w_{31} x_{13} }} \\left. \\frac{d}{d \\xi} \\sigma{\\left(\\xi \\right)} \\right|_{\\substack{ \\xi=w_{11} x_{11} + w_{21} x_{12} + w_{31} x_{13} }}$"
      ],
      "text/plain": [
       "    ⎛ d \n",
       "w₁₁⋅⎜───\n",
       "    ⎝dξ₁\n",
       "\n",
       "        \n",
       "(n₁₁(ξ₁)\n",
       "        \n",
       "\n",
       " ⎞│     \n",
       ")⎟│     \n",
       " ⎠│ξ₁=w₁\n",
       "\n",
       "        \n",
       "        \n",
       "₁⋅x₁₁ + \n",
       "\n",
       "        \n",
       "        \n",
       "w₂₁⋅x₁₂ \n",
       "\n",
       "        \n",
       "        \n",
       "+ w₃₁⋅x₁\n",
       "\n",
       "  ⎛d    \n",
       " ⋅⎜──(σ(\n",
       "₃ ⎝dξ   \n",
       "\n",
       "   ⎞│   \n",
       "ξ))⎟│   \n",
       "   ⎠│ξ=w\n",
       "\n",
       "        \n",
       "        \n",
       "₁₁⋅x₁₁ +\n",
       "\n",
       "        \n",
       "        \n",
       " w₂₁⋅x₁₂\n",
       "\n",
       "        \n",
       "        \n",
       " + w₃₁⋅x\n",
       "\n",
       "  \n",
       "  \n",
       "₁₃"
      ]
     },
     "execution_count": 1,
     "metadata": {},
     "output_type": "execute_result"
    }
   ],
   "source": [
    "# NOTE: so I don't think WAY 2 is correct because here it doesn't simplify the derivative d n11 / d eps11, since this should equal 1 because now n11 = eps11. Correct one is below (repeated from above)\n",
    "sigma(n_11).diff(X[0,0]).subs({n_11 : Nspec[0,0]})"
   ]
  },
  {
   "cell_type": "code",
   "execution_count": 94,
   "metadata": {
    "execution": {
     "iopub.execute_input": "2020-09-30T08:26:43.930202Z",
     "iopub.status.busy": "2020-09-30T08:26:43.929303Z",
     "iopub.status.idle": "2020-09-30T08:26:44.449417Z",
     "shell.execute_reply": "2020-09-30T08:26:44.450509Z"
    },
    "lines_to_next_cell": 0,
    "title": "codecell"
   },
   "outputs": [
    {
     "data": {
      "text/latex": [
       "$\\displaystyle w_{11} \\left. \\frac{d}{d \\xi_{1}} \\sigma{\\left(\\xi_{1} \\right)} \\right|_{\\substack{ \\xi_{1}=w_{11} x_{11} + w_{21} x_{12} + w_{31} x_{13} }}$"
      ],
      "text/plain": [
       "    ⎛ d \n",
       "w₁₁⋅⎜───\n",
       "    ⎝dξ₁\n",
       "\n",
       "       ⎞\n",
       "(σ(ξ₁))⎟\n",
       "       ⎠\n",
       "\n",
       "│       \n",
       "│       \n",
       "│ξ₁=w₁₁⋅\n",
       "\n",
       "        \n",
       "        \n",
       "x₁₁ + w₂\n",
       "\n",
       "        \n",
       "        \n",
       "₁⋅x₁₂ + \n",
       "\n",
       "       \n",
       "       \n",
       "w₃₁⋅x₁₃"
      ]
     },
     "execution_count": 1,
     "metadata": {},
     "output_type": "execute_result"
    }
   ],
   "source": [
    "# CORRECT WAY 1\n",
    "sigma(n_11).subs({n_11 : Nspec[0,0]}).diff(X[0,0])"
   ]
  },
  {
   "cell_type": "code",
   "execution_count": 95,
   "metadata": {
    "execution": {
     "iopub.execute_input": "2020-09-30T08:26:44.457372Z",
     "iopub.status.busy": "2020-09-30T08:26:44.454093Z",
     "iopub.status.idle": "2020-09-30T08:26:44.911980Z",
     "shell.execute_reply": "2020-09-30T08:26:44.913558Z"
    },
    "lines_to_next_cell": 0,
    "title": "codecell"
   },
   "outputs": [
    {
     "data": {
      "text/latex": [
       "$\\displaystyle w_{11} \\left. \\frac{d}{d \\xi_{1}} \\sigma{\\left(\\xi_{1} \\right)} \\right|_{\\substack{ \\xi_{1}=w_{11} x_{11} + w_{21} x_{12} + w_{31} x_{13} }}$"
      ],
      "text/plain": [
       "    ⎛ d \n",
       "w₁₁⋅⎜───\n",
       "    ⎝dξ₁\n",
       "\n",
       "       ⎞\n",
       "(σ(ξ₁))⎟\n",
       "       ⎠\n",
       "\n",
       "│       \n",
       "│       \n",
       "│ξ₁=w₁₁⋅\n",
       "\n",
       "        \n",
       "        \n",
       "x₁₁ + w₂\n",
       "\n",
       "        \n",
       "        \n",
       "₁⋅x₁₂ + \n",
       "\n",
       "       \n",
       "       \n",
       "w₃₁⋅x₁₃"
      ]
     },
     "execution_count": 1,
     "metadata": {},
     "output_type": "execute_result"
    }
   ],
   "source": [
    "# CORRECT WAY 2\n",
    "\n",
    "sigma(nab_ij).subs({nab_ij : Nspec[0,0]}).diff(X[0,0])"
   ]
  },
  {
   "cell_type": "code",
   "execution_count": 96,
   "metadata": {
    "execution": {
     "iopub.execute_input": "2020-09-30T08:26:44.920491Z",
     "iopub.status.busy": "2020-09-30T08:26:44.919532Z",
     "iopub.status.idle": "2020-09-30T08:26:45.434954Z",
     "shell.execute_reply": "2020-09-30T08:26:45.436500Z"
    },
    "title": "codecell"
   },
   "outputs": [
    {
     "data": {
      "text/latex": [
       "$\\displaystyle w_{22} \\left. \\frac{d}{d \\xi_{1}} \\sigma{\\left(\\xi_{1} \\right)} \\right|_{\\substack{ \\xi_{1}=w_{12} x_{31} + w_{22} x_{32} + w_{32} x_{33} }}$"
      ],
      "text/plain": [
       "    ⎛ d \n",
       "w₂₂⋅⎜───\n",
       "    ⎝dξ₁\n",
       "\n",
       "       ⎞\n",
       "(σ(ξ₁))⎟\n",
       "       ⎠\n",
       "\n",
       "│       \n",
       "│       \n",
       "│ξ₁=w₁₂⋅\n",
       "\n",
       "        \n",
       "        \n",
       "x₃₁ + w₂\n",
       "\n",
       "        \n",
       "        \n",
       "₂⋅x₃₂ + \n",
       "\n",
       "       \n",
       "       \n",
       "w₃₂⋅x₃₃"
      ]
     },
     "execution_count": 1,
     "metadata": {},
     "output_type": "execute_result"
    }
   ],
   "source": [
    "# CORRECT WAY 3\n",
    "Selem[2,1].subs({Nelem[2,1] : Nspec[2,1]}).diff(X[2,1])"
   ]
  },
  {
   "cell_type": "code",
   "execution_count": 97,
   "metadata": {
    "execution": {
     "iopub.execute_input": "2020-09-30T08:26:45.453310Z",
     "iopub.status.busy": "2020-09-30T08:26:45.443681Z",
     "iopub.status.idle": "2020-09-30T08:26:45.973610Z",
     "shell.execute_reply": "2020-09-30T08:26:45.974702Z"
    },
    "lines_to_next_cell": 0,
    "title": "codecell"
   },
   "outputs": [
    {
     "data": {
      "image/png": "[encoded data removed]",
      "text/latex": [
       "$\\displaystyle \\sigma{\\left(\\operatorname{n_{11}}{\\left(w_{11} x_{11} + w_{21} x_{12} + w_{31} x_{13} \\right)} \\right)}$"
      ],
      "text/plain": [
       "σ(n₁₁(w₁\n",
       "₁⋅x₁₁ + \n",
       "w₂₁⋅x₁₂ \n",
       "+ w₃₁⋅x₁\n",
       "₃))"
      ]
     },
     "execution_count": 1,
     "metadata": {},
     "output_type": "execute_result"
    }
   ],
   "source": [
    "sigma(n_11) # WAY 1: sigma argument is already hardcoded"
   ]
  },
  {
   "cell_type": "code",
   "execution_count": 98,
   "metadata": {
    "execution": {
     "iopub.execute_input": "2020-09-30T08:26:45.981751Z",
     "iopub.status.busy": "2020-09-30T08:26:45.978384Z",
     "iopub.status.idle": "2020-09-30T08:26:46.506645Z",
     "shell.execute_reply": "2020-09-30T08:26:46.507806Z"
    },
    "lines_to_next_cell": 0,
    "title": "codecell"
   },
   "outputs": [
    {
     "data": {
      "image/png": "[encoded data removed]",
      "text/latex": [
       "$\\displaystyle \\sigma{\\left(\\operatorname{n_{ij}}{\\left(X,W \\right)} \\right)}$"
      ],
      "text/plain": [
       "σ(n_ij(X\n",
       ", W))"
      ]
     },
     "execution_count": 1,
     "metadata": {},
     "output_type": "execute_result"
    }
   ],
   "source": [
    "sigma(nab_ij) # Way 2: sigma argument is function of matrixsymbol (better than 1)"
   ]
  },
  {
   "cell_type": "code",
   "execution_count": 99,
   "metadata": {
    "execution": {
     "iopub.execute_input": "2020-09-30T08:26:46.514621Z",
     "iopub.status.busy": "2020-09-30T08:26:46.513098Z",
     "iopub.status.idle": "2020-09-30T08:26:46.956693Z",
     "shell.execute_reply": "2020-09-30T08:26:46.965084Z"
    },
    "title": "codecell"
   },
   "outputs": [
    {
     "data": {
      "image/png": "[encoded data removed]",
      "text/latex": [
       "$\\displaystyle \\sigma{\\left(n_{32} \\right)}$"
      ],
      "text/plain": [
       "σ(n₃₂)"
      ]
     },
     "execution_count": 1,
     "metadata": {},
     "output_type": "execute_result"
    }
   ],
   "source": [
    "Selem[2,1] # WAY 3: sigma argument is just symbol and we replace it as function with argument hardcoded only later. (better than 2)\n",
    "\n",
    "\n"
   ]
  },
  {
   "cell_type": "code",
   "execution_count": 100,
   "metadata": {
    "execution": {
     "iopub.execute_input": "2020-09-30T08:26:46.973260Z",
     "iopub.status.busy": "2020-09-30T08:26:46.968991Z",
     "iopub.status.idle": "2020-09-30T08:26:47.456144Z",
     "shell.execute_reply": "2020-09-30T08:26:47.457588Z"
    },
    "title": "codecell"
   },
   "outputs": [
    {
     "data": {
      "image/png": "[encoded data removed]",
      "text/latex": [
       "$\\displaystyle \\lambda{\\left(\\sigma_{apply}{\\left(v{\\left(X,W \\right)} \\right)} \\right)}$"
      ],
      "text/plain": [
       "λ(σ_appl\n",
       "y(v(X, W\n",
       ")))"
      ]
     },
     "execution_count": 1,
     "metadata": {},
     "output_type": "execute_result"
    }
   ],
   "source": [
    "L"
   ]
  },
  {
   "cell_type": "code",
   "execution_count": 101,
   "metadata": {
    "execution": {
     "iopub.execute_input": "2020-09-30T08:26:47.467645Z",
     "iopub.status.busy": "2020-09-30T08:26:47.466727Z",
     "iopub.status.idle": "2020-09-30T08:26:47.811732Z",
     "shell.execute_reply": "2020-09-30T08:26:47.813434Z"
    },
    "title": "codecell"
   },
   "outputs": [
    {
     "data": {
      "text/latex": [
       "$\\displaystyle \\left[\\begin{matrix}\\sigma{\\left(n_{11} \\right)} & \\sigma{\\left(n_{12} \\right)}\\\\\\sigma{\\left(n_{21} \\right)} & \\sigma{\\left(n_{22} \\right)}\\\\\\sigma{\\left(n_{31} \\right)} & \\sigma{\\left(n_{32} \\right)}\\end{matrix}\\right]$"
      ],
      "text/plain": [
       "⎡σ(n₁₁) \n",
       "⎢       \n",
       "⎢σ(n₂₁) \n",
       "⎢       \n",
       "⎣σ(n₃₁) \n",
       "\n",
       " σ(n₁₂)⎤\n",
       "       ⎥\n",
       " σ(n₂₂)⎥\n",
       "       ⎥\n",
       " σ(n₃₂)⎦"
      ]
     },
     "execution_count": 1,
     "metadata": {},
     "output_type": "execute_result"
    }
   ],
   "source": [
    "assert Selem == S.replace(n, vN).replace(sigmaApply, sigmaApply_)\n",
    "\n",
    "Selem"
   ]
  },
  {
   "cell_type": "code",
   "execution_count": 102,
   "metadata": {
    "execution": {
     "iopub.execute_input": "2020-09-30T08:26:47.822801Z",
     "iopub.status.busy": "2020-09-30T08:26:47.821324Z",
     "iopub.status.idle": "2020-09-30T08:26:48.317707Z",
     "shell.execute_reply": "2020-09-30T08:26:48.318823Z"
    },
    "lines_to_next_cell": 0,
    "title": "codecell"
   },
   "outputs": [
    {
     "data": {
      "text/latex": [
       "$\\displaystyle \\lambda{\\left(\\left[\\begin{matrix}\\sigma{\\left(n_{11} \\right)} & \\sigma{\\left(n_{12} \\right)}\\\\\\sigma{\\left(n_{21} \\right)} & \\sigma{\\left(n_{22} \\right)}\\\\\\sigma{\\left(n_{31} \\right)} & \\sigma{\\left(n_{32} \\right)}\\end{matrix}\\right] \\right)}$"
      ],
      "text/plain": [
       " ⎛⎡σ(n₁₁\n",
       " ⎜⎢     \n",
       "λ⎜⎢σ(n₂₁\n",
       " ⎜⎢     \n",
       " ⎝⎣σ(n₃₁\n",
       "\n",
       ")  σ(n₁₂\n",
       "        \n",
       ")  σ(n₂₂\n",
       "        \n",
       ")  σ(n₃₂\n",
       "\n",
       ")⎤⎞\n",
       " ⎥⎟\n",
       ")⎥⎟\n",
       " ⎥⎟\n",
       ")⎦⎠"
      ]
     },
     "execution_count": 1,
     "metadata": {},
     "output_type": "execute_result"
    }
   ],
   "source": [
    "L.replace(n, vN).replace(sigmaApply, sigmaApply_)"
   ]
  },
  {
   "cell_type": "code",
   "execution_count": 103,
   "metadata": {
    "execution": {
     "iopub.execute_input": "2020-09-30T08:26:48.324282Z",
     "iopub.status.busy": "2020-09-30T08:26:48.322672Z",
     "iopub.status.idle": "2020-09-30T08:26:48.333237Z",
     "shell.execute_reply": "2020-09-30T08:26:48.334684Z"
    },
    "title": "codecell"
   },
   "outputs": [],
   "source": [
    "#L.replace(n, vN).replace(sigmaApply, sigmaApply_).diff(Nelem[0,0])"
   ]
  },
  {
   "cell_type": "code",
   "execution_count": 104,
   "metadata": {
    "execution": {
     "iopub.execute_input": "2020-09-30T08:26:48.345060Z",
     "iopub.status.busy": "2020-09-30T08:26:48.341501Z",
     "iopub.status.idle": "2020-09-30T08:26:48.912159Z",
     "shell.execute_reply": "2020-09-30T08:26:48.913767Z"
    },
    "lines_to_next_cell": 0,
    "title": "codecell"
   },
   "outputs": [
    {
     "data": {
      "image/png": "[encoded data removed]",
      "text/latex": [
       "$\\displaystyle \\sigma{\\left(n_{11} \\right)} + \\sigma{\\left(n_{12} \\right)} + \\sigma{\\left(n_{21} \\right)} + \\sigma{\\left(n_{22} \\right)} + \\sigma{\\left(n_{31} \\right)} + \\sigma{\\left(n_{32} \\right)}$"
      ],
      "text/plain": [
       "σ(n₁₁) +\n",
       " σ(n₁₂) \n",
       "+ σ(n₂₁)\n",
       " + σ(n₂₂\n",
       ") + σ(n₃\n",
       "₁) + σ(n\n",
       "₃₂)"
      ]
     },
     "execution_count": 1,
     "metadata": {},
     "output_type": "execute_result"
    }
   ],
   "source": [
    "Lsum = L.replace(n, vN).replace(sigmaApply, sigmaApply_).replace(lambd, lambd_)\n",
    "Lsum"
   ]
  },
  {
   "cell_type": "code",
   "execution_count": 105,
   "metadata": {
    "execution": {
     "iopub.execute_input": "2020-09-30T08:26:48.924344Z",
     "iopub.status.busy": "2020-09-30T08:26:48.918575Z",
     "iopub.status.idle": "2020-09-30T08:26:49.328160Z",
     "shell.execute_reply": "2020-09-30T08:26:49.332240Z"
    },
    "lines_to_next_cell": 0,
    "title": "codecell"
   },
   "outputs": [
    {
     "data": {
      "text/latex": [
       "$\\displaystyle \\left[\\begin{matrix}\\frac{d}{d n_{11}} \\sigma{\\left(n_{11} \\right)} & \\frac{d}{d n_{12}} \\sigma{\\left(n_{12} \\right)}\\\\\\frac{d}{d n_{21}} \\sigma{\\left(n_{21} \\right)} & \\frac{d}{d n_{22}} \\sigma{\\left(n_{22} \\right)}\\\\\\frac{d}{d n_{31}} \\sigma{\\left(n_{31} \\right)} & \\frac{d}{d n_{32}} \\sigma{\\left(n_{32} \\right)}\\end{matrix}\\right]$"
      ],
      "text/plain": [
       "⎡ d     \n",
       "⎢────(σ(\n",
       "⎢dn₁₁   \n",
       "⎢       \n",
       "⎢ d     \n",
       "⎢────(σ(\n",
       "⎢dn₂₁   \n",
       "⎢       \n",
       "⎢ d     \n",
       "⎢────(σ(\n",
       "⎣dn₃₁   \n",
       "\n",
       "        \n",
       "n₁₁))  ─\n",
       "       d\n",
       "        \n",
       "        \n",
       "n₂₁))  ─\n",
       "       d\n",
       "        \n",
       "        \n",
       "n₃₁))  ─\n",
       "       d\n",
       "\n",
       "d       \n",
       "───(σ(n₁\n",
       "n₁₂     \n",
       "        \n",
       "d       \n",
       "───(σ(n₂\n",
       "n₂₂     \n",
       "        \n",
       "d       \n",
       "───(σ(n₃\n",
       "n₃₂     \n",
       "\n",
       "   ⎤\n",
       "₂))⎥\n",
       "   ⎥\n",
       "   ⎥\n",
       "   ⎥\n",
       "₂))⎥\n",
       "   ⎥\n",
       "   ⎥\n",
       "   ⎥\n",
       "₂))⎥\n",
       "   ⎦"
      ]
     },
     "execution_count": 1,
     "metadata": {},
     "output_type": "execute_result"
    }
   ],
   "source": [
    "Lsum.diff(Nelem)"
   ]
  },
  {
   "cell_type": "code",
   "execution_count": 106,
   "metadata": {
    "execution": {
     "iopub.execute_input": "2020-09-30T08:26:49.337559Z",
     "iopub.status.busy": "2020-09-30T08:26:49.336016Z",
     "iopub.status.idle": "2020-09-30T08:26:50.960176Z",
     "shell.execute_reply": "2020-09-30T08:26:50.961357Z"
    },
    "lines_to_next_cell": 0,
    "title": "codecell"
   },
   "outputs": [
    {
     "data": {
      "image/png": "[encoded data removed]",
      "text/latex": [
       "$\\displaystyle \\sigma{\\left(w_{11} x_{11} + w_{21} x_{12} + w_{31} x_{13} \\right)} + \\sigma{\\left(w_{11} x_{21} + w_{21} x_{22} + w_{31} x_{23} \\right)} + \\sigma{\\left(w_{11} x_{31} + w_{21} x_{32} + w_{31} x_{33} \\right)} + \\sigma{\\left(w_{12} x_{11} + w_{22} x_{12} + w_{32} x_{13} \\right)} + \\sigma{\\left(w_{12} x_{21} + w_{22} x_{22} + w_{32} x_{23} \\right)} + \\sigma{\\left(w_{12} x_{31} + w_{22} x_{32} + w_{32} x_{33} \\right)}$"
      ],
      "text/plain": [
       "σ(w₁₁⋅x₁\n",
       "₁ + w₂₁⋅\n",
       "x₁₂ + w₃\n",
       "₁⋅x₁₃) +\n",
       " σ(w₁₁⋅x\n",
       "₂₁ + w₂₁\n",
       "⋅x₂₂ + w\n",
       "₃₁⋅x₂₃) \n",
       "+ σ(w₁₁⋅\n",
       "x₃₁ + w₂\n",
       "₁⋅x₃₂ + \n",
       "w₃₁⋅x₃₃)\n",
       " + σ(w₁₂\n",
       "⋅x₁₁ + w\n",
       "₂₂⋅x₁₂ +\n",
       " w₃₂⋅x₁₃\n",
       ") + σ(w₁\n",
       "₂⋅x₂₁ + \n",
       "w₂₂⋅x₂₂ \n",
       "+ w₃₂⋅x₂\n",
       "₃) + σ(w\n",
       "₁₂⋅x₃₁ +\n",
       " w₂₂⋅x₃₂\n",
       " + w₃₂⋅x\n",
       "₃₃)"
      ]
     },
     "execution_count": 1,
     "metadata": {},
     "output_type": "execute_result"
    }
   ],
   "source": [
    "Lsum.subs(elemToSpec)#.diff(X[2,1])"
   ]
  },
  {
   "cell_type": "code",
   "execution_count": 107,
   "metadata": {
    "execution": {
     "iopub.execute_input": "2020-09-30T08:26:50.973800Z",
     "iopub.status.busy": "2020-09-30T08:26:50.972014Z",
     "iopub.status.idle": "2020-09-30T08:26:52.823702Z",
     "shell.execute_reply": "2020-09-30T08:26:52.824910Z"
    },
    "lines_to_next_cell": 0,
    "title": "codecell"
   },
   "outputs": [
    {
     "data": {
      "text/latex": [
       "$\\displaystyle \\left[\\begin{matrix}w_{11} \\left. \\frac{d}{d \\xi_{1}} \\sigma{\\left(\\xi_{1} \\right)} \\right|_{\\substack{ \\xi_{1}=w_{11} x_{11} + w_{21} x_{12} + w_{31} x_{13} }} + w_{12} \\left. \\frac{d}{d \\xi_{1}} \\sigma{\\left(\\xi_{1} \\right)} \\right|_{\\substack{ \\xi_{1}=w_{12} x_{11} + w_{22} x_{12} + w_{32} x_{13} }} & w_{21} \\left. \\frac{d}{d \\xi_{1}} \\sigma{\\left(\\xi_{1} \\right)} \\right|_{\\substack{ \\xi_{1}=w_{11} x_{11} + w_{21} x_{12} + w_{31} x_{13} }} + w_{22} \\left. \\frac{d}{d \\xi_{1}} \\sigma{\\left(\\xi_{1} \\right)} \\right|_{\\substack{ \\xi_{1}=w_{12} x_{11} + w_{22} x_{12} + w_{32} x_{13} }} & w_{31} \\left. \\frac{d}{d \\xi_{1}} \\sigma{\\left(\\xi_{1} \\right)} \\right|_{\\substack{ \\xi_{1}=w_{11} x_{11} + w_{21} x_{12} + w_{31} x_{13} }} + w_{32} \\left. \\frac{d}{d \\xi_{1}} \\sigma{\\left(\\xi_{1} \\right)} \\right|_{\\substack{ \\xi_{1}=w_{12} x_{11} + w_{22} x_{12} + w_{32} x_{13} }}\\\\w_{11} \\left. \\frac{d}{d \\xi_{1}} \\sigma{\\left(\\xi_{1} \\right)} \\right|_{\\substack{ \\xi_{1}=w_{11} x_{21} + w_{21} x_{22} + w_{31} x_{23} }} + w_{12} \\left. \\frac{d}{d \\xi_{1}} \\sigma{\\left(\\xi_{1} \\right)} \\right|_{\\substack{ \\xi_{1}=w_{12} x_{21} + w_{22} x_{22} + w_{32} x_{23} }} & w_{21} \\left. \\frac{d}{d \\xi_{1}} \\sigma{\\left(\\xi_{1} \\right)} \\right|_{\\substack{ \\xi_{1}=w_{11} x_{21} + w_{21} x_{22} + w_{31} x_{23} }} + w_{22} \\left. \\frac{d}{d \\xi_{1}} \\sigma{\\left(\\xi_{1} \\right)} \\right|_{\\substack{ \\xi_{1}=w_{12} x_{21} + w_{22} x_{22} + w_{32} x_{23} }} & w_{31} \\left. \\frac{d}{d \\xi_{1}} \\sigma{\\left(\\xi_{1} \\right)} \\right|_{\\substack{ \\xi_{1}=w_{11} x_{21} + w_{21} x_{22} + w_{31} x_{23} }} + w_{32} \\left. \\frac{d}{d \\xi_{1}} \\sigma{\\left(\\xi_{1} \\right)} \\right|_{\\substack{ \\xi_{1}=w_{12} x_{21} + w_{22} x_{22} + w_{32} x_{23} }}\\\\w_{11} \\left. \\frac{d}{d \\xi_{1}} \\sigma{\\left(\\xi_{1} \\right)} \\right|_{\\substack{ \\xi_{1}=w_{11} x_{31} + w_{21} x_{32} + w_{31} x_{33} }} + w_{12} \\left. \\frac{d}{d \\xi_{1}} \\sigma{\\left(\\xi_{1} \\right)} \\right|_{\\substack{ \\xi_{1}=w_{12} x_{31} + w_{22} x_{32} + w_{32} x_{33} }} & w_{21} \\left. \\frac{d}{d \\xi_{1}} \\sigma{\\left(\\xi_{1} \\right)} \\right|_{\\substack{ \\xi_{1}=w_{11} x_{31} + w_{21} x_{32} + w_{31} x_{33} }} + w_{22} \\left. \\frac{d}{d \\xi_{1}} \\sigma{\\left(\\xi_{1} \\right)} \\right|_{\\substack{ \\xi_{1}=w_{12} x_{31} + w_{22} x_{32} + w_{32} x_{33} }} & w_{31} \\left. \\frac{d}{d \\xi_{1}} \\sigma{\\left(\\xi_{1} \\right)} \\right|_{\\substack{ \\xi_{1}=w_{11} x_{31} + w_{21} x_{32} + w_{31} x_{33} }} + w_{32} \\left. \\frac{d}{d \\xi_{1}} \\sigma{\\left(\\xi_{1} \\right)} \\right|_{\\substack{ \\xi_{1}=w_{12} x_{31} + w_{22} x_{32} + w_{32} x_{33} }}\\end{matrix}\\right]$"
      ],
      "text/plain": [
       "⎡    ⎛ d\n",
       "⎢w₁₁⋅⎜──\n",
       "⎢    ⎝dξ\n",
       "⎢       \n",
       "⎢    ⎛ d\n",
       "⎢w₁₁⋅⎜──\n",
       "⎢    ⎝dξ\n",
       "⎢       \n",
       "⎢    ⎛ d\n",
       "⎢w₁₁⋅⎜──\n",
       "⎣    ⎝dξ\n",
       "\n",
       "        \n",
       "─(σ(ξ₁))\n",
       "₁       \n",
       "        \n",
       "        \n",
       "─(σ(ξ₁))\n",
       "₁       \n",
       "        \n",
       "        \n",
       "─(σ(ξ₁))\n",
       "₁       \n",
       "\n",
       "⎞│      \n",
       "⎟│      \n",
       "⎠│ξ₁=w₁₁\n",
       "        \n",
       "⎞│      \n",
       "⎟│      \n",
       "⎠│ξ₁=w₁₁\n",
       "        \n",
       "⎞│      \n",
       "⎟│      \n",
       "⎠│ξ₁=w₁₁\n",
       "\n",
       "        \n",
       "        \n",
       "⋅x₁₁ + w\n",
       "        \n",
       "        \n",
       "        \n",
       "⋅x₂₁ + w\n",
       "        \n",
       "        \n",
       "        \n",
       "⋅x₃₁ + w\n",
       "\n",
       "        \n",
       "        \n",
       "₂₁⋅x₁₂ +\n",
       "        \n",
       "        \n",
       "        \n",
       "₂₁⋅x₂₂ +\n",
       "        \n",
       "        \n",
       "        \n",
       "₂₁⋅x₃₂ +\n",
       "\n",
       "        \n",
       "        \n",
       " w₃₁⋅x₁₃\n",
       "        \n",
       "        \n",
       "        \n",
       " w₃₁⋅x₂₃\n",
       "        \n",
       "        \n",
       "        \n",
       " w₃₁⋅x₃₃\n",
       "\n",
       "       ⎛\n",
       " + w₁₂⋅⎜\n",
       "       ⎝\n",
       "        \n",
       "       ⎛\n",
       " + w₁₂⋅⎜\n",
       "       ⎝\n",
       "        \n",
       "       ⎛\n",
       " + w₁₂⋅⎜\n",
       "       ⎝\n",
       "\n",
       " d      \n",
       "───(σ(ξ₁\n",
       "dξ₁     \n",
       "        \n",
       " d      \n",
       "───(σ(ξ₁\n",
       "dξ₁     \n",
       "        \n",
       " d      \n",
       "───(σ(ξ₁\n",
       "dξ₁     \n",
       "\n",
       "  ⎞│    \n",
       "))⎟│    \n",
       "  ⎠│ξ₁=w\n",
       "        \n",
       "  ⎞│    \n",
       "))⎟│    \n",
       "  ⎠│ξ₁=w\n",
       "        \n",
       "  ⎞│    \n",
       "))⎟│    \n",
       "  ⎠│ξ₁=w\n",
       "\n",
       "        \n",
       "        \n",
       "₁₂⋅x₁₁ +\n",
       "        \n",
       "        \n",
       "        \n",
       "₁₂⋅x₂₁ +\n",
       "        \n",
       "        \n",
       "        \n",
       "₁₂⋅x₃₁ +\n",
       "\n",
       "        \n",
       "        \n",
       " w₂₂⋅x₁₂\n",
       "        \n",
       "        \n",
       "        \n",
       " w₂₂⋅x₂₂\n",
       "        \n",
       "        \n",
       "        \n",
       " w₂₂⋅x₃₂\n",
       "\n",
       "        \n",
       "        \n",
       " + w₃₂⋅x\n",
       "        \n",
       "        \n",
       "        \n",
       " + w₃₂⋅x\n",
       "        \n",
       "        \n",
       "        \n",
       " + w₃₂⋅x\n",
       "\n",
       "        \n",
       "    w₂₁⋅\n",
       "₁₃      \n",
       "        \n",
       "        \n",
       "    w₂₁⋅\n",
       "₂₃      \n",
       "        \n",
       "        \n",
       "    w₂₁⋅\n",
       "₃₃      \n",
       "\n",
       "⎛ d     \n",
       "⎜───(σ(ξ\n",
       "⎝dξ₁    \n",
       "        \n",
       "⎛ d     \n",
       "⎜───(σ(ξ\n",
       "⎝dξ₁    \n",
       "        \n",
       "⎛ d     \n",
       "⎜───(σ(ξ\n",
       "⎝dξ₁    \n",
       "\n",
       "   ⎞│   \n",
       "₁))⎟│   \n",
       "   ⎠│ξ₁=\n",
       "        \n",
       "   ⎞│   \n",
       "₁))⎟│   \n",
       "   ⎠│ξ₁=\n",
       "        \n",
       "   ⎞│   \n",
       "₁))⎟│   \n",
       "   ⎠│ξ₁=\n",
       "\n",
       "        \n",
       "        \n",
       "w₁₁⋅x₁₁ \n",
       "        \n",
       "        \n",
       "        \n",
       "w₁₁⋅x₂₁ \n",
       "        \n",
       "        \n",
       "        \n",
       "w₁₁⋅x₃₁ \n",
       "\n",
       "        \n",
       "        \n",
       "+ w₂₁⋅x₁\n",
       "        \n",
       "        \n",
       "        \n",
       "+ w₂₁⋅x₂\n",
       "        \n",
       "        \n",
       "        \n",
       "+ w₂₁⋅x₃\n",
       "\n",
       "        \n",
       "        \n",
       "₂ + w₃₁⋅\n",
       "        \n",
       "        \n",
       "        \n",
       "₂ + w₃₁⋅\n",
       "        \n",
       "        \n",
       "        \n",
       "₂ + w₃₁⋅\n",
       "\n",
       "        \n",
       "    + w₂\n",
       "x₁₃     \n",
       "        \n",
       "        \n",
       "    + w₂\n",
       "x₂₃     \n",
       "        \n",
       "        \n",
       "    + w₂\n",
       "x₃₃     \n",
       "\n",
       "  ⎛ d   \n",
       "₂⋅⎜───(σ\n",
       "  ⎝dξ₁  \n",
       "        \n",
       "  ⎛ d   \n",
       "₂⋅⎜───(σ\n",
       "  ⎝dξ₁  \n",
       "        \n",
       "  ⎛ d   \n",
       "₂⋅⎜───(σ\n",
       "  ⎝dξ₁  \n",
       "\n",
       "     ⎞│ \n",
       "(ξ₁))⎟│ \n",
       "     ⎠│ξ\n",
       "        \n",
       "     ⎞│ \n",
       "(ξ₁))⎟│ \n",
       "     ⎠│ξ\n",
       "        \n",
       "     ⎞│ \n",
       "(ξ₁))⎟│ \n",
       "     ⎠│ξ\n",
       "\n",
       "        \n",
       "        \n",
       "₁=w₁₂⋅x₁\n",
       "        \n",
       "        \n",
       "        \n",
       "₁=w₁₂⋅x₂\n",
       "        \n",
       "        \n",
       "        \n",
       "₁=w₁₂⋅x₃\n",
       "\n",
       "        \n",
       "        \n",
       "₁ + w₂₂⋅\n",
       "        \n",
       "        \n",
       "        \n",
       "₁ + w₂₂⋅\n",
       "        \n",
       "        \n",
       "        \n",
       "₁ + w₂₂⋅\n",
       "\n",
       "        \n",
       "        \n",
       "x₁₂ + w₃\n",
       "        \n",
       "        \n",
       "        \n",
       "x₂₂ + w₃\n",
       "        \n",
       "        \n",
       "        \n",
       "x₃₂ + w₃\n",
       "\n",
       "        \n",
       "       w\n",
       "₂⋅x₁₃   \n",
       "        \n",
       "        \n",
       "       w\n",
       "₂⋅x₂₃   \n",
       "        \n",
       "        \n",
       "       w\n",
       "₂⋅x₃₃   \n",
       "\n",
       "   ⎛ d  \n",
       "₃₁⋅⎜───(\n",
       "   ⎝dξ₁ \n",
       "        \n",
       "   ⎛ d  \n",
       "₃₁⋅⎜───(\n",
       "   ⎝dξ₁ \n",
       "        \n",
       "   ⎛ d  \n",
       "₃₁⋅⎜───(\n",
       "   ⎝dξ₁ \n",
       "\n",
       "      ⎞│\n",
       "σ(ξ₁))⎟│\n",
       "      ⎠│\n",
       "        \n",
       "      ⎞│\n",
       "σ(ξ₁))⎟│\n",
       "      ⎠│\n",
       "        \n",
       "      ⎞│\n",
       "σ(ξ₁))⎟│\n",
       "      ⎠│\n",
       "\n",
       "        \n",
       "        \n",
       "ξ₁=w₁₁⋅x\n",
       "        \n",
       "        \n",
       "        \n",
       "ξ₁=w₁₁⋅x\n",
       "        \n",
       "        \n",
       "        \n",
       "ξ₁=w₁₁⋅x\n",
       "\n",
       "        \n",
       "        \n",
       "₁₁ + w₂₁\n",
       "        \n",
       "        \n",
       "        \n",
       "₂₁ + w₂₁\n",
       "        \n",
       "        \n",
       "        \n",
       "₃₁ + w₂₁\n",
       "\n",
       "        \n",
       "        \n",
       "⋅x₁₂ + w\n",
       "        \n",
       "        \n",
       "        \n",
       "⋅x₂₂ + w\n",
       "        \n",
       "        \n",
       "        \n",
       "⋅x₃₂ + w\n",
       "\n",
       "        \n",
       "       +\n",
       "₃₁⋅x₁₃  \n",
       "        \n",
       "        \n",
       "       +\n",
       "₃₁⋅x₂₃  \n",
       "        \n",
       "        \n",
       "       +\n",
       "₃₁⋅x₃₃  \n",
       "\n",
       "     ⎛ d\n",
       " w₃₂⋅⎜──\n",
       "     ⎝dξ\n",
       "        \n",
       "     ⎛ d\n",
       " w₃₂⋅⎜──\n",
       "     ⎝dξ\n",
       "        \n",
       "     ⎛ d\n",
       " w₃₂⋅⎜──\n",
       "     ⎝dξ\n",
       "\n",
       "        \n",
       "─(σ(ξ₁))\n",
       "₁       \n",
       "        \n",
       "        \n",
       "─(σ(ξ₁))\n",
       "₁       \n",
       "        \n",
       "        \n",
       "─(σ(ξ₁))\n",
       "₁       \n",
       "\n",
       "⎞│      \n",
       "⎟│      \n",
       "⎠│ξ₁=w₁₂\n",
       "        \n",
       "⎞│      \n",
       "⎟│      \n",
       "⎠│ξ₁=w₁₂\n",
       "        \n",
       "⎞│      \n",
       "⎟│      \n",
       "⎠│ξ₁=w₁₂\n",
       "\n",
       "        \n",
       "        \n",
       "⋅x₁₁ + w\n",
       "        \n",
       "        \n",
       "        \n",
       "⋅x₂₁ + w\n",
       "        \n",
       "        \n",
       "        \n",
       "⋅x₃₁ + w\n",
       "\n",
       "        \n",
       "        \n",
       "₂₂⋅x₁₂ +\n",
       "        \n",
       "        \n",
       "        \n",
       "₂₂⋅x₂₂ +\n",
       "        \n",
       "        \n",
       "        \n",
       "₂₂⋅x₃₂ +\n",
       "\n",
       "        \n",
       "        \n",
       " w₃₂⋅x₁₃\n",
       "        \n",
       "        \n",
       "        \n",
       " w₃₂⋅x₂₃\n",
       "        \n",
       "        \n",
       "        \n",
       " w₃₂⋅x₃₃\n",
       "\n",
       "⎤\n",
       "⎥\n",
       "⎥\n",
       "⎥\n",
       "⎥\n",
       "⎥\n",
       "⎥\n",
       "⎥\n",
       "⎥\n",
       "⎥\n",
       "⎦"
      ]
     },
     "execution_count": 1,
     "metadata": {},
     "output_type": "execute_result"
    }
   ],
   "source": [
    "Lsum.subs(elemToSpec).diff(X)"
   ]
  },
  {
   "cell_type": "code",
   "execution_count": 108,
   "metadata": {
    "execution": {
     "iopub.execute_input": "2020-09-30T08:26:52.833663Z",
     "iopub.status.busy": "2020-09-30T08:26:52.831865Z",
     "iopub.status.idle": "2020-09-30T08:26:54.528761Z",
     "shell.execute_reply": "2020-09-30T08:26:54.531476Z"
    },
    "title": "codecell"
   },
   "outputs": [
    {
     "data": {
      "text/latex": [
       "$\\displaystyle \\left[\\begin{matrix}w_{11} \\left. \\frac{d}{d \\xi_{1}} \\sigma{\\left(\\xi_{1} \\right)} \\right|_{\\substack{ \\xi_{1}=n_{11} }} + w_{12} \\left. \\frac{d}{d \\xi_{1}} \\sigma{\\left(\\xi_{1} \\right)} \\right|_{\\substack{ \\xi_{1}=n_{12} }} & w_{21} \\left. \\frac{d}{d \\xi_{1}} \\sigma{\\left(\\xi_{1} \\right)} \\right|_{\\substack{ \\xi_{1}=n_{11} }} + w_{22} \\left. \\frac{d}{d \\xi_{1}} \\sigma{\\left(\\xi_{1} \\right)} \\right|_{\\substack{ \\xi_{1}=n_{12} }} & w_{31} \\left. \\frac{d}{d \\xi_{1}} \\sigma{\\left(\\xi_{1} \\right)} \\right|_{\\substack{ \\xi_{1}=n_{11} }} + w_{32} \\left. \\frac{d}{d \\xi_{1}} \\sigma{\\left(\\xi_{1} \\right)} \\right|_{\\substack{ \\xi_{1}=n_{12} }}\\\\w_{11} \\left. \\frac{d}{d \\xi_{1}} \\sigma{\\left(\\xi_{1} \\right)} \\right|_{\\substack{ \\xi_{1}=n_{21} }} + w_{12} \\left. \\frac{d}{d \\xi_{1}} \\sigma{\\left(\\xi_{1} \\right)} \\right|_{\\substack{ \\xi_{1}=n_{22} }} & w_{21} \\left. \\frac{d}{d \\xi_{1}} \\sigma{\\left(\\xi_{1} \\right)} \\right|_{\\substack{ \\xi_{1}=n_{21} }} + w_{22} \\left. \\frac{d}{d \\xi_{1}} \\sigma{\\left(\\xi_{1} \\right)} \\right|_{\\substack{ \\xi_{1}=n_{22} }} & w_{31} \\left. \\frac{d}{d \\xi_{1}} \\sigma{\\left(\\xi_{1} \\right)} \\right|_{\\substack{ \\xi_{1}=n_{21} }} + w_{32} \\left. \\frac{d}{d \\xi_{1}} \\sigma{\\left(\\xi_{1} \\right)} \\right|_{\\substack{ \\xi_{1}=n_{22} }}\\\\w_{11} \\left. \\frac{d}{d \\xi_{1}} \\sigma{\\left(\\xi_{1} \\right)} \\right|_{\\substack{ \\xi_{1}=n_{31} }} + w_{12} \\left. \\frac{d}{d \\xi_{1}} \\sigma{\\left(\\xi_{1} \\right)} \\right|_{\\substack{ \\xi_{1}=n_{32} }} & w_{21} \\left. \\frac{d}{d \\xi_{1}} \\sigma{\\left(\\xi_{1} \\right)} \\right|_{\\substack{ \\xi_{1}=n_{31} }} + w_{22} \\left. \\frac{d}{d \\xi_{1}} \\sigma{\\left(\\xi_{1} \\right)} \\right|_{\\substack{ \\xi_{1}=n_{32} }} & w_{31} \\left. \\frac{d}{d \\xi_{1}} \\sigma{\\left(\\xi_{1} \\right)} \\right|_{\\substack{ \\xi_{1}=n_{31} }} + w_{32} \\left. \\frac{d}{d \\xi_{1}} \\sigma{\\left(\\xi_{1} \\right)} \\right|_{\\substack{ \\xi_{1}=n_{32} }}\\end{matrix}\\right]$"
      ],
      "text/plain": [
       "⎡    ⎛ d\n",
       "⎢w₁₁⋅⎜──\n",
       "⎢    ⎝dξ\n",
       "⎢       \n",
       "⎢    ⎛ d\n",
       "⎢w₁₁⋅⎜──\n",
       "⎢    ⎝dξ\n",
       "⎢       \n",
       "⎢    ⎛ d\n",
       "⎢w₁₁⋅⎜──\n",
       "⎣    ⎝dξ\n",
       "\n",
       "        \n",
       "─(σ(ξ₁))\n",
       "₁       \n",
       "        \n",
       "        \n",
       "─(σ(ξ₁))\n",
       "₁       \n",
       "        \n",
       "        \n",
       "─(σ(ξ₁))\n",
       "₁       \n",
       "\n",
       "⎞│      \n",
       "⎟│      \n",
       "⎠│ξ₁=n₁₁\n",
       "        \n",
       "⎞│      \n",
       "⎟│      \n",
       "⎠│ξ₁=n₂₁\n",
       "        \n",
       "⎞│      \n",
       "⎟│      \n",
       "⎠│ξ₁=n₃₁\n",
       "\n",
       "       ⎛\n",
       " + w₁₂⋅⎜\n",
       "       ⎝\n",
       "        \n",
       "       ⎛\n",
       " + w₁₂⋅⎜\n",
       "       ⎝\n",
       "        \n",
       "       ⎛\n",
       " + w₁₂⋅⎜\n",
       "       ⎝\n",
       "\n",
       " d      \n",
       "───(σ(ξ₁\n",
       "dξ₁     \n",
       "        \n",
       " d      \n",
       "───(σ(ξ₁\n",
       "dξ₁     \n",
       "        \n",
       " d      \n",
       "───(σ(ξ₁\n",
       "dξ₁     \n",
       "\n",
       "  ⎞│    \n",
       "))⎟│    \n",
       "  ⎠│ξ₁=n\n",
       "        \n",
       "  ⎞│    \n",
       "))⎟│    \n",
       "  ⎠│ξ₁=n\n",
       "        \n",
       "  ⎞│    \n",
       "))⎟│    \n",
       "  ⎠│ξ₁=n\n",
       "\n",
       "        \n",
       "    w₂₁⋅\n",
       "₁₂      \n",
       "        \n",
       "        \n",
       "    w₂₁⋅\n",
       "₂₂      \n",
       "        \n",
       "        \n",
       "    w₂₁⋅\n",
       "₃₂      \n",
       "\n",
       "⎛ d     \n",
       "⎜───(σ(ξ\n",
       "⎝dξ₁    \n",
       "        \n",
       "⎛ d     \n",
       "⎜───(σ(ξ\n",
       "⎝dξ₁    \n",
       "        \n",
       "⎛ d     \n",
       "⎜───(σ(ξ\n",
       "⎝dξ₁    \n",
       "\n",
       "   ⎞│   \n",
       "₁))⎟│   \n",
       "   ⎠│ξ₁=\n",
       "        \n",
       "   ⎞│   \n",
       "₁))⎟│   \n",
       "   ⎠│ξ₁=\n",
       "        \n",
       "   ⎞│   \n",
       "₁))⎟│   \n",
       "   ⎠│ξ₁=\n",
       "\n",
       "        \n",
       "    + w₂\n",
       "n₁₁     \n",
       "        \n",
       "        \n",
       "    + w₂\n",
       "n₂₁     \n",
       "        \n",
       "        \n",
       "    + w₂\n",
       "n₃₁     \n",
       "\n",
       "  ⎛ d   \n",
       "₂⋅⎜───(σ\n",
       "  ⎝dξ₁  \n",
       "        \n",
       "  ⎛ d   \n",
       "₂⋅⎜───(σ\n",
       "  ⎝dξ₁  \n",
       "        \n",
       "  ⎛ d   \n",
       "₂⋅⎜───(σ\n",
       "  ⎝dξ₁  \n",
       "\n",
       "     ⎞│ \n",
       "(ξ₁))⎟│ \n",
       "     ⎠│ξ\n",
       "        \n",
       "     ⎞│ \n",
       "(ξ₁))⎟│ \n",
       "     ⎠│ξ\n",
       "        \n",
       "     ⎞│ \n",
       "(ξ₁))⎟│ \n",
       "     ⎠│ξ\n",
       "\n",
       "        \n",
       "       w\n",
       "₁=n₁₂   \n",
       "        \n",
       "        \n",
       "       w\n",
       "₁=n₂₂   \n",
       "        \n",
       "        \n",
       "       w\n",
       "₁=n₃₂   \n",
       "\n",
       "   ⎛ d  \n",
       "₃₁⋅⎜───(\n",
       "   ⎝dξ₁ \n",
       "        \n",
       "   ⎛ d  \n",
       "₃₁⋅⎜───(\n",
       "   ⎝dξ₁ \n",
       "        \n",
       "   ⎛ d  \n",
       "₃₁⋅⎜───(\n",
       "   ⎝dξ₁ \n",
       "\n",
       "      ⎞│\n",
       "σ(ξ₁))⎟│\n",
       "      ⎠│\n",
       "        \n",
       "      ⎞│\n",
       "σ(ξ₁))⎟│\n",
       "      ⎠│\n",
       "        \n",
       "      ⎞│\n",
       "σ(ξ₁))⎟│\n",
       "      ⎠│\n",
       "\n",
       "        \n",
       "       +\n",
       "ξ₁=n₁₁  \n",
       "        \n",
       "        \n",
       "       +\n",
       "ξ₁=n₂₁  \n",
       "        \n",
       "        \n",
       "       +\n",
       "ξ₁=n₃₁  \n",
       "\n",
       "     ⎛ d\n",
       " w₃₂⋅⎜──\n",
       "     ⎝dξ\n",
       "        \n",
       "     ⎛ d\n",
       " w₃₂⋅⎜──\n",
       "     ⎝dξ\n",
       "        \n",
       "     ⎛ d\n",
       " w₃₂⋅⎜──\n",
       "     ⎝dξ\n",
       "\n",
       "        \n",
       "─(σ(ξ₁))\n",
       "₁       \n",
       "        \n",
       "        \n",
       "─(σ(ξ₁))\n",
       "₁       \n",
       "        \n",
       "        \n",
       "─(σ(ξ₁))\n",
       "₁       \n",
       "\n",
       "⎞│      \n",
       "⎟│      \n",
       "⎠│ξ₁=n₁₂\n",
       "        \n",
       "⎞│      \n",
       "⎟│      \n",
       "⎠│ξ₁=n₂₂\n",
       "        \n",
       "⎞│      \n",
       "⎟│      \n",
       "⎠│ξ₁=n₃₂\n",
       "\n",
       "⎤\n",
       "⎥\n",
       "⎥\n",
       "⎥\n",
       "⎥\n",
       "⎥\n",
       "⎥\n",
       "⎥\n",
       "⎥\n",
       "⎥\n",
       "⎦"
      ]
     },
     "execution_count": 1,
     "metadata": {},
     "output_type": "execute_result"
    }
   ],
   "source": [
    "\n",
    "specToElemD = {v : k for k, v in elemToSpecD.items()}\n",
    "\n",
    "Lsum.subs(elemToSpecD).diff(X).subs(specToElemD)"
   ]
  }
 ],
 "metadata": {
  "jupytext": {
   "cell_metadata_filter": "title,-all"
  },
  "kernelspec": {
   "display_name": "pymatrix_env",
   "language": "python",
   "name": "pymatrix_env"
  },
  "language_info": {
   "codemirror_mode": {
    "name": "ipython",
    "version": 3
   },
   "file_extension": ".py",
   "mimetype": "text/x-python",
   "name": "python",
   "nbconvert_exporter": "python",
   "pygments_lexer": "ipython3",
   "version": "3.7.8"
  }
 },
 "nbformat": 4,
 "nbformat_minor": 4
}
