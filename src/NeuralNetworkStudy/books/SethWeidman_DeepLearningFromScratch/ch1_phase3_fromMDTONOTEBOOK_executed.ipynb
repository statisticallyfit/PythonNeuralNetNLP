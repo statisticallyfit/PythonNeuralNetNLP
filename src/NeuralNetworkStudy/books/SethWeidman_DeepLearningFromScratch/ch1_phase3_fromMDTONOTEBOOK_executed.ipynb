{
 "cells": [
  {
   "cell_type": "code",
   "execution_count": 1,
   "metadata": {
    "execution": {
     "iopub.execute_input": "2020-10-03T08:31:22.140326Z",
     "iopub.status.busy": "2020-10-03T08:31:22.131723Z",
     "iopub.status.idle": "2020-10-03T08:31:24.878610Z",
     "shell.execute_reply": "2020-10-03T08:31:24.883925Z"
    },
    "title": "codecell"
   },
   "outputs": [],
   "source": [
    "from sympy import Matrix, Symbol, derive_by_array, Lambda, Function, MatrixSymbol, Derivative\n",
    "from sympy import var\n",
    "from sympy.abc import x, i, j, a, b, c, d\n",
    "\n",
    "\n"
   ]
  },
  {
   "cell_type": "code",
   "execution_count": 2,
   "metadata": {
    "execution": {
     "iopub.execute_input": "2020-10-03T08:31:24.897346Z",
     "iopub.status.busy": "2020-10-03T08:31:24.892395Z",
     "iopub.status.idle": "2020-10-03T08:31:25.010143Z",
     "shell.execute_reply": "2020-10-03T08:31:25.012171Z"
    },
    "lines_to_next_cell": 0,
    "title": "codecell"
   },
   "outputs": [
    {
     "data": {
      "text/latex": [
       "$\\displaystyle \\left[\\begin{matrix}x_{11} & x_{12} & x_{13}\\\\x_{21} & x_{22} & x_{23}\\\\x_{31} & x_{32} & x_{33}\\end{matrix}\\right]$"
      ],
      "text/plain": [
       "Matrix([\n",
       "[x_11, x_12, x_13],\n",
       "[x_21, x_22, x_23],\n",
       "[x_31, x_32, x_33]])"
      ]
     },
     "execution_count": 1,
     "metadata": {},
     "output_type": "execute_result"
    }
   ],
   "source": [
    "def myvar(letter: str, i: int, j: int) -> Symbol:\n",
    "    letter_ij = Symbol('{}_{}{}'.format(letter, i+1, j+1), is_commutative=True)\n",
    "    return letter_ij\n",
    "\n",
    "\n",
    "ns,ms,ps = 3,3,2\n",
    "\n",
    "X = Matrix(ns, ms, lambda i,j : myvar('x', i, j)); X"
   ]
  },
  {
   "cell_type": "code",
   "execution_count": 3,
   "metadata": {
    "execution": {
     "iopub.execute_input": "2020-10-03T08:31:25.026500Z",
     "iopub.status.busy": "2020-10-03T08:31:25.018978Z",
     "iopub.status.idle": "2020-10-03T08:31:25.057458Z",
     "shell.execute_reply": "2020-10-03T08:31:25.061654Z"
    },
    "lines_to_next_cell": 0,
    "title": "codecell"
   },
   "outputs": [
    {
     "data": {
      "text/latex": [
       "$\\displaystyle \\left[\\begin{matrix}w_{11} & w_{12}\\\\w_{21} & w_{22}\\\\w_{31} & w_{32}\\end{matrix}\\right]$"
      ],
      "text/plain": [
       "Matrix([\n",
       "[w_11, w_12],\n",
       "[w_21, w_22],\n",
       "[w_31, w_32]])"
      ]
     },
     "execution_count": 1,
     "metadata": {},
     "output_type": "execute_result"
    }
   ],
   "source": [
    "W = Matrix(ms, ps, lambda i,j : myvar('w', i, j)); W"
   ]
  },
  {
   "cell_type": "code",
   "execution_count": 4,
   "metadata": {
    "execution": {
     "iopub.execute_input": "2020-10-03T08:31:25.072416Z",
     "iopub.status.busy": "2020-10-03T08:31:25.070761Z",
     "iopub.status.idle": "2020-10-03T08:31:25.093950Z",
     "shell.execute_reply": "2020-10-03T08:31:25.101691Z"
    },
    "title": "codecell"
   },
   "outputs": [],
   "source": [
    "#TODO how to make matrix symbols commutative?\n",
    "# A = MatrixSymbol('X',ns,ms, is_commutative=True); Matrix(A)\n",
    "A = MatrixSymbol('X',ns,ms); Matrix(A)\n",
    "B = MatrixSymbol('W',ms,ps)\n",
    "\n",
    "\n",
    "\n",
    "\n",
    "\n"
   ]
  },
  {
   "cell_type": "code",
   "execution_count": 5,
   "metadata": {
    "execution": {
     "iopub.execute_input": "2020-10-03T08:31:25.114131Z",
     "iopub.status.busy": "2020-10-03T08:31:25.111785Z",
     "iopub.status.idle": "2020-10-03T08:31:25.158754Z",
     "shell.execute_reply": "2020-10-03T08:31:25.159844Z"
    },
    "title": "codecell"
   },
   "outputs": [
    {
     "data": {
      "text/latex": [
       "$\\displaystyle \\left[\\begin{matrix}n_{11} & n_{12}\\\\n_{21} & n_{22}\\\\n_{31} & n_{32}\\end{matrix}\\right]$"
      ],
      "text/plain": [
       "Matrix([\n",
       "[n_11, n_12],\n",
       "[n_21, n_22],\n",
       "[n_31, n_32]])"
      ]
     },
     "execution_count": 1,
     "metadata": {},
     "output_type": "execute_result"
    }
   ],
   "source": [
    "v = lambda a,b: a*b\n",
    "\n",
    "vL = Lambda((a,b), a*b)\n",
    "\n",
    "n = Function('v') #, Lambda((a,b), a*b))\n",
    "\n",
    "vN = lambda mat1, mat2: Matrix(mat1.shape[0], mat2.shape[1], lambda i, j: Symbol(\"n_{}{}\".format(i+1, j+1))); vN\n",
    "\n",
    "\n",
    "Nelem = vN(X, W)\n",
    "Nelem"
   ]
  },
  {
   "cell_type": "code",
   "execution_count": 6,
   "metadata": {
    "execution": {
     "iopub.execute_input": "2020-10-03T08:31:25.181120Z",
     "iopub.status.busy": "2020-10-03T08:31:25.171366Z",
     "iopub.status.idle": "2020-10-03T08:31:27.623958Z",
     "shell.execute_reply": "2020-10-03T08:31:27.625386Z"
    },
    "lines_to_next_cell": 0,
    "title": "codecell"
   },
   "outputs": [
    {
     "data": {
      "text/latex": [
       "$\\displaystyle \\left[\\begin{matrix}w_{11} x_{11} + w_{21} x_{12} + w_{31} x_{13} & w_{12} x_{11} + w_{22} x_{12} + w_{32} x_{13}\\\\w_{11} x_{21} + w_{21} x_{22} + w_{31} x_{23} & w_{12} x_{21} + w_{22} x_{22} + w_{32} x_{23}\\\\w_{11} x_{31} + w_{21} x_{32} + w_{31} x_{33} & w_{12} x_{31} + w_{22} x_{32} + w_{32} x_{33}\\end{matrix}\\right]$"
      ],
      "text/plain": [
       "Matrix([\n",
       "[w_11*x_11 + w_21*x_12 + w_31*x_13, w_12*x_11 + w_22*x_12 + w_32*x_13],\n",
       "[w_11*x_21 + w_21*x_22 + w_31*x_23, w_12*x_21 + w_22*x_22 + w_32*x_23],\n",
       "[w_11*x_31 + w_21*x_32 + w_31*x_33, w_12*x_31 + w_22*x_32 + w_32*x_33]])"
      ]
     },
     "execution_count": 1,
     "metadata": {},
     "output_type": "execute_result"
    }
   ],
   "source": [
    "Nspec = v(X,W)\n",
    "Nspec"
   ]
  },
  {
   "cell_type": "code",
   "execution_count": 7,
   "metadata": {
    "execution": {
     "iopub.execute_input": "2020-10-03T08:31:27.635274Z",
     "iopub.status.busy": "2020-10-03T08:31:27.631564Z",
     "iopub.status.idle": "2020-10-03T08:31:27.660624Z",
     "shell.execute_reply": "2020-10-03T08:31:27.661909Z"
    },
    "title": "codecell"
   },
   "outputs": [
    {
     "data": {
      "text/latex": [
       "$\\displaystyle v{\\left(X,W \\right)}$"
      ],
      "text/plain": [
       "v(X, W)"
      ]
     },
     "execution_count": 1,
     "metadata": {},
     "output_type": "execute_result"
    }
   ],
   "source": [
    "#N = v(X, W); N\n",
    "N = n(A,B)\n",
    "N\n",
    "\n",
    "\n",
    "\n",
    "\n",
    "\n",
    "\n",
    "\n"
   ]
  },
  {
   "cell_type": "code",
   "execution_count": 8,
   "metadata": {
    "execution": {
     "iopub.execute_input": "2020-10-03T08:31:27.669709Z",
     "iopub.status.busy": "2020-10-03T08:31:27.666943Z",
     "iopub.status.idle": "2020-10-03T08:31:27.718978Z",
     "shell.execute_reply": "2020-10-03T08:31:27.720145Z"
    },
    "lines_to_next_cell": 0,
    "title": "codecell"
   },
   "outputs": [
    {
     "data": {
      "text/latex": [
       "$\\displaystyle \\sigma_{apply}{\\left(v{\\left(X,W \\right)} \\right)}$"
      ],
      "text/plain": [
       "sigma_apply(v(X, W))"
      ]
     },
     "execution_count": 1,
     "metadata": {},
     "output_type": "execute_result"
    }
   ],
   "source": [
    "\n",
    "def siga(mat: Matrix) -> Matrix:\n",
    "     #lst = mat.tolist()\n",
    "     nr, nc = mat.shape\n",
    "\n",
    "     applied = [[sigma(mat[i,j]) for j in range(0, nc)] for i in range(0, nr)]\n",
    "\n",
    "     return Matrix(applied)\n",
    "\n",
    "\n",
    "# way 2 of declaring S (better way)\n",
    "sigma = Function('sigma')\n",
    "\n",
    "sigmaApply = Function(\"sigma_apply\") #lambda matrix:  matrix.applyfunc(sigma)\n",
    "\n",
    "sigmaApply_ = lambda matrix: matrix.applyfunc(sigma)\n",
    "\n",
    "sigmaApply_2 = lambda matrix: siga(matrix)\n",
    "\n",
    "S = sigmaApply(N); S"
   ]
  },
  {
   "cell_type": "code",
   "execution_count": 9,
   "metadata": {
    "execution": {
     "iopub.execute_input": "2020-10-03T08:31:27.730301Z",
     "iopub.status.busy": "2020-10-03T08:31:27.728620Z",
     "iopub.status.idle": "2020-10-03T08:31:27.762898Z",
     "shell.execute_reply": "2020-10-03T08:31:27.765439Z"
    },
    "lines_to_next_cell": 0,
    "title": "codecell"
   },
   "outputs": [
    {
     "data": {
      "text/latex": [
       "$\\displaystyle \\left[\\begin{matrix}\\sigma{\\left(n_{11} \\right)} & \\sigma{\\left(n_{12} \\right)}\\\\\\sigma{\\left(n_{21} \\right)} & \\sigma{\\left(n_{22} \\right)}\\\\\\sigma{\\left(n_{31} \\right)} & \\sigma{\\left(n_{32} \\right)}\\end{matrix}\\right]$"
      ],
      "text/plain": [
       "Matrix([\n",
       "[sigma(n_11), sigma(n_12)],\n",
       "[sigma(n_21), sigma(n_22)],\n",
       "[sigma(n_31), sigma(n_32)]])"
      ]
     },
     "execution_count": 1,
     "metadata": {},
     "output_type": "execute_result"
    }
   ],
   "source": [
    "sigmaApply_(Nelem)"
   ]
  },
  {
   "cell_type": "code",
   "execution_count": 10,
   "metadata": {
    "execution": {
     "iopub.execute_input": "2020-10-03T08:31:27.774778Z",
     "iopub.status.busy": "2020-10-03T08:31:27.773154Z",
     "iopub.status.idle": "2020-10-03T08:31:27.799566Z",
     "shell.execute_reply": "2020-10-03T08:31:27.800725Z"
    },
    "lines_to_next_cell": 0,
    "title": "codecell"
   },
   "outputs": [
    {
     "data": {
      "text/latex": [
       "$\\displaystyle \\left[\\begin{matrix}\\sigma{\\left(n_{11} \\right)} & \\sigma{\\left(n_{12} \\right)}\\\\\\sigma{\\left(n_{21} \\right)} & \\sigma{\\left(n_{22} \\right)}\\\\\\sigma{\\left(n_{31} \\right)} & \\sigma{\\left(n_{32} \\right)}\\end{matrix}\\right]$"
      ],
      "text/plain": [
       "Matrix([\n",
       "[sigma(n_11), sigma(n_12)],\n",
       "[sigma(n_21), sigma(n_22)],\n",
       "[sigma(n_31), sigma(n_32)]])"
      ]
     },
     "execution_count": 1,
     "metadata": {},
     "output_type": "execute_result"
    }
   ],
   "source": [
    "sigmaApply_2(Nelem)"
   ]
  },
  {
   "cell_type": "code",
   "execution_count": 11,
   "metadata": {
    "execution": {
     "iopub.execute_input": "2020-10-03T08:31:27.811366Z",
     "iopub.status.busy": "2020-10-03T08:31:27.809480Z",
     "iopub.status.idle": "2020-10-03T08:31:27.816514Z",
     "shell.execute_reply": "2020-10-03T08:31:27.826975Z"
    },
    "title": "codecell"
   },
   "outputs": [],
   "source": [
    "#sigmaApply_2(A*B).diff(Matrix(A))"
   ]
  },
  {
   "cell_type": "code",
   "execution_count": 12,
   "metadata": {
    "execution": {
     "iopub.execute_input": "2020-10-03T08:31:27.839783Z",
     "iopub.status.busy": "2020-10-03T08:31:27.830947Z",
     "iopub.status.idle": "2020-10-03T08:31:27.944536Z",
     "shell.execute_reply": "2020-10-03T08:31:27.945801Z"
    },
    "lines_to_next_cell": 0,
    "title": "codecell"
   },
   "outputs": [
    {
     "data": {
      "text/latex": [
       "$\\displaystyle \\left[\\begin{matrix}\\sigma{\\left(w_{11} x_{11} + w_{21} x_{12} + w_{31} x_{13} \\right)} & \\sigma{\\left(w_{12} x_{11} + w_{22} x_{12} + w_{32} x_{13} \\right)}\\\\\\sigma{\\left(w_{11} x_{21} + w_{21} x_{22} + w_{31} x_{23} \\right)} & \\sigma{\\left(w_{12} x_{21} + w_{22} x_{22} + w_{32} x_{23} \\right)}\\\\\\sigma{\\left(w_{11} x_{31} + w_{21} x_{32} + w_{31} x_{33} \\right)} & \\sigma{\\left(w_{12} x_{31} + w_{22} x_{32} + w_{32} x_{33} \\right)}\\end{matrix}\\right]$"
      ],
      "text/plain": [
       "Matrix([\n",
       "[sigma(w_11*x_11 + w_21*x_12 + w_31*x_13), sigma(w_12*x_11 + w_22*x_12 + w_32*x_13)],\n",
       "[sigma(w_11*x_21 + w_21*x_22 + w_31*x_23), sigma(w_12*x_21 + w_22*x_22 + w_32*x_23)],\n",
       "[sigma(w_11*x_31 + w_21*x_32 + w_31*x_33), sigma(w_12*x_31 + w_22*x_32 + w_32*x_33)]])"
      ]
     },
     "execution_count": 1,
     "metadata": {},
     "output_type": "execute_result"
    }
   ],
   "source": [
    "Sspec = S.subs({A:X, B:W}).replace(n, v).replace(sigmaApply, sigmaApply_)\n",
    "Sspec"
   ]
  },
  {
   "cell_type": "code",
   "execution_count": 13,
   "metadata": {
    "execution": {
     "iopub.execute_input": "2020-10-03T08:31:27.955396Z",
     "iopub.status.busy": "2020-10-03T08:31:27.953245Z",
     "iopub.status.idle": "2020-10-03T08:31:27.991687Z",
     "shell.execute_reply": "2020-10-03T08:31:27.994677Z"
    },
    "lines_to_next_cell": 2,
    "title": "codecell"
   },
   "outputs": [
    {
     "data": {
      "text/latex": [
       "$\\displaystyle \\left[\\begin{matrix}\\sigma{\\left(n_{11} \\right)} & \\sigma{\\left(n_{12} \\right)}\\\\\\sigma{\\left(n_{21} \\right)} & \\sigma{\\left(n_{22} \\right)}\\\\\\sigma{\\left(n_{31} \\right)} & \\sigma{\\left(n_{32} \\right)}\\end{matrix}\\right]$"
      ],
      "text/plain": [
       "Matrix([\n",
       "[sigma(n_11), sigma(n_12)],\n",
       "[sigma(n_21), sigma(n_22)],\n",
       "[sigma(n_31), sigma(n_32)]])"
      ]
     },
     "execution_count": 1,
     "metadata": {},
     "output_type": "execute_result"
    }
   ],
   "source": [
    "Selem = S.replace(n, vN).replace(sigmaApply, sigmaApply_)\n",
    "Selem"
   ]
  },
  {
   "cell_type": "code",
   "execution_count": 14,
   "metadata": {
    "execution": {
     "iopub.execute_input": "2020-10-03T08:31:28.002210Z",
     "iopub.status.busy": "2020-10-03T08:31:28.000730Z",
     "iopub.status.idle": "2020-10-03T08:31:28.096182Z",
     "shell.execute_reply": "2020-10-03T08:31:28.100588Z"
    },
    "lines_to_next_cell": 0,
    "title": "codecell"
   },
   "outputs": [
    {
     "data": {
      "text/latex": [
       "$\\displaystyle \\left[\\begin{matrix}n_{11} & w_{11} x_{11} + w_{21} x_{12} + w_{31} x_{13}\\\\n_{12} & w_{12} x_{11} + w_{22} x_{12} + w_{32} x_{13}\\\\n_{21} & w_{11} x_{21} + w_{21} x_{22} + w_{31} x_{23}\\\\n_{22} & w_{12} x_{21} + w_{22} x_{22} + w_{32} x_{23}\\\\n_{31} & w_{11} x_{31} + w_{21} x_{32} + w_{31} x_{33}\\\\n_{32} & w_{12} x_{31} + w_{22} x_{32} + w_{32} x_{33}\\end{matrix}\\right]$"
      ],
      "text/plain": [
       "Matrix([\n",
       "[n_11, w_11*x_11 + w_21*x_12 + w_31*x_13],\n",
       "[n_12, w_12*x_11 + w_22*x_12 + w_32*x_13],\n",
       "[n_21, w_11*x_21 + w_21*x_22 + w_31*x_23],\n",
       "[n_22, w_12*x_21 + w_22*x_22 + w_32*x_23],\n",
       "[n_31, w_11*x_31 + w_21*x_32 + w_31*x_33],\n",
       "[n_32, w_12*x_31 + w_22*x_32 + w_32*x_33]])"
      ]
     },
     "execution_count": 1,
     "metadata": {},
     "output_type": "execute_result"
    }
   ],
   "source": [
    "import itertools\n",
    "\n",
    "elemToSpecD = dict(itertools.chain(*[[(Nelem[i, j], Nspec[i, j]) for j in range(2)] for i in range(3)]))\n",
    "\n",
    "elemToSpec = list(elemToSpecD.items())\n",
    "\n",
    "Matrix(elemToSpec)"
   ]
  },
  {
   "cell_type": "code",
   "execution_count": 15,
   "metadata": {
    "execution": {
     "iopub.execute_input": "2020-10-03T08:31:28.108185Z",
     "iopub.status.busy": "2020-10-03T08:31:28.104342Z",
     "iopub.status.idle": "2020-10-03T08:31:28.214945Z",
     "shell.execute_reply": "2020-10-03T08:31:28.216795Z"
    },
    "lines_to_next_cell": 0,
    "title": "codecell"
   },
   "outputs": [
    {
     "data": {
      "text/latex": [
       "$\\displaystyle \\left[\\begin{matrix}n_{11} & \\operatorname{n_{11}}{\\left(w_{11} x_{11} + w_{21} x_{12} + w_{31} x_{13} \\right)}\\\\n_{12} & \\operatorname{n_{12}}{\\left(w_{12} x_{11} + w_{22} x_{12} + w_{32} x_{13} \\right)}\\\\n_{21} & \\operatorname{n_{21}}{\\left(w_{11} x_{21} + w_{21} x_{22} + w_{31} x_{23} \\right)}\\\\n_{22} & \\operatorname{n_{22}}{\\left(w_{12} x_{21} + w_{22} x_{22} + w_{32} x_{23} \\right)}\\\\n_{31} & \\operatorname{n_{31}}{\\left(w_{11} x_{31} + w_{21} x_{32} + w_{31} x_{33} \\right)}\\\\n_{32} & \\operatorname{n_{32}}{\\left(w_{12} x_{31} + w_{22} x_{32} + w_{32} x_{33} \\right)}\\end{matrix}\\right]$"
      ],
      "text/plain": [
       "Matrix([\n",
       "[n_11, n_11(w_11*x_11 + w_21*x_12 + w_31*x_13)],\n",
       "[n_12, n_12(w_12*x_11 + w_22*x_12 + w_32*x_13)],\n",
       "[n_21, n_21(w_11*x_21 + w_21*x_22 + w_31*x_23)],\n",
       "[n_22, n_22(w_12*x_21 + w_22*x_22 + w_32*x_23)],\n",
       "[n_31, n_31(w_11*x_31 + w_21*x_32 + w_31*x_33)],\n",
       "[n_32, n_32(w_12*x_31 + w_22*x_32 + w_32*x_33)]])"
      ]
     },
     "execution_count": 1,
     "metadata": {},
     "output_type": "execute_result"
    }
   ],
   "source": [
    "elemToSpecFuncD = dict(itertools.chain(*[[(Nelem[i, j], Function(\"n_{}{}\".format(i + 1, j + 1))(Nspec[i, j])) for j in range(2)] for i in range(3)]))\n",
    "\n",
    "elemToSpecFunc = list(elemToSpecFuncD.items())\n",
    "\n",
    "Matrix(elemToSpecFunc)"
   ]
  },
  {
   "cell_type": "code",
   "execution_count": 16,
   "metadata": {
    "execution": {
     "iopub.execute_input": "2020-10-03T08:31:28.229448Z",
     "iopub.status.busy": "2020-10-03T08:31:28.227318Z",
     "iopub.status.idle": "2020-10-03T08:31:28.312641Z",
     "shell.execute_reply": "2020-10-03T08:31:28.314044Z"
    },
    "lines_to_next_cell": 2,
    "title": "codecell"
   },
   "outputs": [
    {
     "data": {
      "text/latex": [
       "$\\displaystyle \\left[\\begin{matrix}n_{11} & \\operatorname{n_{11}}{\\left(x_{11},x_{12},x_{13},x_{21},x_{22},x_{23},x_{31},x_{32},x_{33},w_{11},w_{12},w_{21},w_{22},w_{31},w_{32} \\right)}\\\\n_{12} & \\operatorname{n_{12}}{\\left(x_{11},x_{12},x_{13},x_{21},x_{22},x_{23},x_{31},x_{32},x_{33},w_{11},w_{12},w_{21},w_{22},w_{31},w_{32} \\right)}\\\\n_{21} & \\operatorname{n_{21}}{\\left(x_{11},x_{12},x_{13},x_{21},x_{22},x_{23},x_{31},x_{32},x_{33},w_{11},w_{12},w_{21},w_{22},w_{31},w_{32} \\right)}\\\\n_{22} & \\operatorname{n_{22}}{\\left(x_{11},x_{12},x_{13},x_{21},x_{22},x_{23},x_{31},x_{32},x_{33},w_{11},w_{12},w_{21},w_{22},w_{31},w_{32} \\right)}\\\\n_{31} & \\operatorname{n_{31}}{\\left(x_{11},x_{12},x_{13},x_{21},x_{22},x_{23},x_{31},x_{32},x_{33},w_{11},w_{12},w_{21},w_{22},w_{31},w_{32} \\right)}\\\\n_{32} & \\operatorname{n_{32}}{\\left(x_{11},x_{12},x_{13},x_{21},x_{22},x_{23},x_{31},x_{32},x_{33},w_{11},w_{12},w_{21},w_{22},w_{31},w_{32} \\right)}\\end{matrix}\\right]$"
      ],
      "text/plain": [
       "Matrix([\n",
       "[n_11, n_11(x_11, x_12, x_13, x_21, x_22, x_23, x_31, x_32, x_33, w_11, w_12, w_21, w_22, w_31, w_32)],\n",
       "[n_12, n_12(x_11, x_12, x_13, x_21, x_22, x_23, x_31, x_32, x_33, w_11, w_12, w_21, w_22, w_31, w_32)],\n",
       "[n_21, n_21(x_11, x_12, x_13, x_21, x_22, x_23, x_31, x_32, x_33, w_11, w_12, w_21, w_22, w_31, w_32)],\n",
       "[n_22, n_22(x_11, x_12, x_13, x_21, x_22, x_23, x_31, x_32, x_33, w_11, w_12, w_21, w_22, w_31, w_32)],\n",
       "[n_31, n_31(x_11, x_12, x_13, x_21, x_22, x_23, x_31, x_32, x_33, w_11, w_12, w_21, w_22, w_31, w_32)],\n",
       "[n_32, n_32(x_11, x_12, x_13, x_21, x_22, x_23, x_31, x_32, x_33, w_11, w_12, w_21, w_22, w_31, w_32)]])"
      ]
     },
     "execution_count": 1,
     "metadata": {},
     "output_type": "execute_result"
    }
   ],
   "source": [
    "elemToSpecFuncArgsD = dict(itertools.chain(*[[(Nelem[i, j], Function(\"n_{}{}\".format(i + 1, j + 1))(*X,*W)) for j in range(2)] for i in range(3)]))\n",
    "\n",
    "elemToSpecFuncArgs = list(elemToSpecFuncArgsD.items())\n",
    "\n",
    "Matrix(elemToSpecFuncArgs)"
   ]
  },
  {
   "cell_type": "code",
   "execution_count": 17,
   "metadata": {
    "execution": {
     "iopub.execute_input": "2020-10-03T08:31:28.324791Z",
     "iopub.status.busy": "2020-10-03T08:31:28.322989Z",
     "iopub.status.idle": "2020-10-03T08:31:28.365692Z",
     "shell.execute_reply": "2020-10-03T08:31:28.372779Z"
    },
    "title": "codecell"
   },
   "outputs": [
    {
     "data": {
      "text/latex": [
       "$\\displaystyle \\left[\\begin{matrix}n_{11} & \\operatorname{n_{11}}{\\left(X,W \\right)}\\\\n_{12} & \\operatorname{n_{12}}{\\left(X,W \\right)}\\\\n_{21} & \\operatorname{n_{21}}{\\left(X,W \\right)}\\\\n_{22} & \\operatorname{n_{22}}{\\left(X,W \\right)}\\\\n_{31} & \\operatorname{n_{31}}{\\left(X,W \\right)}\\\\n_{32} & \\operatorname{n_{32}}{\\left(X,W \\right)}\\end{matrix}\\right]$"
      ],
      "text/plain": [
       "Matrix([\n",
       "[n_11, n_11(X, W)],\n",
       "[n_12, n_12(X, W)],\n",
       "[n_21, n_21(X, W)],\n",
       "[n_22, n_22(X, W)],\n",
       "[n_31, n_31(X, W)],\n",
       "[n_32, n_32(X, W)]])"
      ]
     },
     "execution_count": 1,
     "metadata": {},
     "output_type": "execute_result"
    }
   ],
   "source": [
    "elemToMatArgD = dict(itertools.chain(*[[(Nelem[i, j], Function(\"n_{}{}\".format(i+1,j+1))(A,B) ) for j in range(2)] for i in range(3)]))\n",
    "\n",
    "elemToMatArg = list(elemToMatArgD.items())\n",
    "\n",
    "Matrix(elemToMatArg)"
   ]
  },
  {
   "cell_type": "code",
   "execution_count": 18,
   "metadata": {
    "execution": {
     "iopub.execute_input": "2020-10-03T08:31:28.383182Z",
     "iopub.status.busy": "2020-10-03T08:31:28.381529Z",
     "iopub.status.idle": "2020-10-03T08:31:28.478569Z",
     "shell.execute_reply": "2020-10-03T08:31:28.481103Z"
    },
    "lines_to_next_cell": 2,
    "title": "codecell"
   },
   "outputs": [
    {
     "data": {
      "text/latex": [
       "$\\displaystyle \\left[\\begin{matrix}\\operatorname{n_{11}}{\\left(X,W \\right)} & w_{11} x_{11} + w_{21} x_{12} + w_{31} x_{13}\\\\\\operatorname{n_{12}}{\\left(X,W \\right)} & w_{12} x_{11} + w_{22} x_{12} + w_{32} x_{13}\\\\\\operatorname{n_{21}}{\\left(X,W \\right)} & w_{11} x_{21} + w_{21} x_{22} + w_{31} x_{23}\\\\\\operatorname{n_{22}}{\\left(X,W \\right)} & w_{12} x_{21} + w_{22} x_{22} + w_{32} x_{23}\\\\\\operatorname{n_{31}}{\\left(X,W \\right)} & w_{11} x_{31} + w_{21} x_{32} + w_{31} x_{33}\\\\\\operatorname{n_{32}}{\\left(X,W \\right)} & w_{12} x_{31} + w_{22} x_{32} + w_{32} x_{33}\\end{matrix}\\right]$"
      ],
      "text/plain": [
       "Matrix([\n",
       "[n_11(X, W), w_11*x_11 + w_21*x_12 + w_31*x_13],\n",
       "[n_12(X, W), w_12*x_11 + w_22*x_12 + w_32*x_13],\n",
       "[n_21(X, W), w_11*x_21 + w_21*x_22 + w_31*x_23],\n",
       "[n_22(X, W), w_12*x_21 + w_22*x_22 + w_32*x_23],\n",
       "[n_31(X, W), w_11*x_31 + w_21*x_32 + w_31*x_33],\n",
       "[n_32(X, W), w_12*x_31 + w_22*x_32 + w_32*x_33]])"
      ]
     },
     "execution_count": 1,
     "metadata": {},
     "output_type": "execute_result"
    }
   ],
   "source": [
    "matargToSpecD = dict(zip(elemToMatArgD.values(), elemToSpecD.values()))\n",
    "\n",
    "matargToSpec = list(matargToSpecD.items())\n",
    "\n",
    "Matrix(matargToSpec)"
   ]
  },
  {
   "cell_type": "code",
   "execution_count": 19,
   "metadata": {
    "execution": {
     "iopub.execute_input": "2020-10-03T08:31:28.490071Z",
     "iopub.status.busy": "2020-10-03T08:31:28.488367Z",
     "iopub.status.idle": "2020-10-03T08:31:28.521816Z",
     "shell.execute_reply": "2020-10-03T08:31:28.523088Z"
    },
    "lines_to_next_cell": 0,
    "title": "codecell"
   },
   "outputs": [
    {
     "data": {
      "text/latex": [
       "$\\displaystyle \\left[\\begin{matrix}\\sigma{\\left(n_{11} \\right)} & \\sigma{\\left(n_{12} \\right)}\\\\\\sigma{\\left(n_{21} \\right)} & \\sigma{\\left(n_{22} \\right)}\\\\\\sigma{\\left(n_{31} \\right)} & \\sigma{\\left(n_{32} \\right)}\\end{matrix}\\right]$"
      ],
      "text/plain": [
       "Matrix([\n",
       "[sigma(n_11), sigma(n_12)],\n",
       "[sigma(n_21), sigma(n_22)],\n",
       "[sigma(n_31), sigma(n_32)]])"
      ]
     },
     "execution_count": 1,
     "metadata": {},
     "output_type": "execute_result"
    }
   ],
   "source": [
    "Selem"
   ]
  },
  {
   "cell_type": "code",
   "execution_count": 20,
   "metadata": {
    "execution": {
     "iopub.execute_input": "2020-10-03T08:31:28.537311Z",
     "iopub.status.busy": "2020-10-03T08:31:28.532138Z",
     "iopub.status.idle": "2020-10-03T08:31:28.717619Z",
     "shell.execute_reply": "2020-10-03T08:31:28.718718Z"
    },
    "lines_to_next_cell": 0,
    "title": "codecell"
   },
   "outputs": [
    {
     "data": {
      "text/latex": [
       "$\\displaystyle \\left[\\begin{matrix}\\sigma{\\left(w_{11} x_{11} + w_{21} x_{12} + w_{31} x_{13} \\right)} & \\sigma{\\left(w_{12} x_{11} + w_{22} x_{12} + w_{32} x_{13} \\right)}\\\\\\sigma{\\left(w_{11} x_{21} + w_{21} x_{22} + w_{31} x_{23} \\right)} & \\sigma{\\left(w_{12} x_{21} + w_{22} x_{22} + w_{32} x_{23} \\right)}\\\\\\sigma{\\left(w_{11} x_{31} + w_{21} x_{32} + w_{31} x_{33} \\right)} & \\sigma{\\left(w_{12} x_{31} + w_{22} x_{32} + w_{32} x_{33} \\right)}\\end{matrix}\\right]$"
      ],
      "text/plain": [
       "Matrix([\n",
       "[sigma(w_11*x_11 + w_21*x_12 + w_31*x_13), sigma(w_12*x_11 + w_22*x_12 + w_32*x_13)],\n",
       "[sigma(w_11*x_21 + w_21*x_22 + w_31*x_23), sigma(w_12*x_21 + w_22*x_22 + w_32*x_23)],\n",
       "[sigma(w_11*x_31 + w_21*x_32 + w_31*x_33), sigma(w_12*x_31 + w_22*x_32 + w_32*x_33)]])"
      ]
     },
     "execution_count": 1,
     "metadata": {},
     "output_type": "execute_result"
    }
   ],
   "source": [
    "Selem.subs(elemToSpecD)"
   ]
  },
  {
   "cell_type": "code",
   "execution_count": 21,
   "metadata": {
    "execution": {
     "iopub.execute_input": "2020-10-03T08:31:28.734247Z",
     "iopub.status.busy": "2020-10-03T08:31:28.727262Z",
     "iopub.status.idle": "2020-10-03T08:31:28.758271Z",
     "shell.execute_reply": "2020-10-03T08:31:28.761598Z"
    },
    "lines_to_next_cell": 0,
    "title": "codecell"
   },
   "outputs": [
    {
     "data": {
      "text/latex": [
       "$\\displaystyle \\frac{d}{d n_{12}} \\sigma{\\left(n_{12} \\right)}$"
      ],
      "text/plain": [
       "Derivative(sigma(n_12), n_12)"
      ]
     },
     "execution_count": 1,
     "metadata": {},
     "output_type": "execute_result"
    }
   ],
   "source": [
    "Selem[0,1].diff(Nelem[0,1])"
   ]
  },
  {
   "cell_type": "code",
   "execution_count": 22,
   "metadata": {
    "execution": {
     "iopub.execute_input": "2020-10-03T08:31:28.770134Z",
     "iopub.status.busy": "2020-10-03T08:31:28.768236Z",
     "iopub.status.idle": "2020-10-03T08:31:28.822089Z",
     "shell.execute_reply": "2020-10-03T08:31:28.825964Z"
    },
    "title": "codecell"
   },
   "outputs": [
    {
     "data": {
      "text/latex": [
       "$\\displaystyle \\left. \\frac{d}{d n_{12}} \\sigma{\\left(n_{12} \\right)} \\right|_{\\substack{ n_{12}=w_{12} x_{11} + w_{22} x_{12} + w_{32} x_{13} }}$"
      ],
      "text/plain": [
       "Subs(Derivative(sigma(n_12), n_12), n_12, w_12*x_11 + w_22*x_12 + w_32*x_13)"
      ]
     },
     "execution_count": 1,
     "metadata": {},
     "output_type": "execute_result"
    }
   ],
   "source": [
    "Selem[0,1].diff(Nelem[0,1]).subs({Nelem[0,1] : Nspec[0,1]})\n",
    "#Selem[0,1].diff(Nelem[0,1]).subs(dict([{Nelem[0,1] : Nspec[0,1]}]))"
   ]
  },
  {
   "cell_type": "code",
   "execution_count": 23,
   "metadata": {
    "execution": {
     "iopub.execute_input": "2020-10-03T08:31:28.838846Z",
     "iopub.status.busy": "2020-10-03T08:31:28.837240Z",
     "iopub.status.idle": "2020-10-03T08:31:28.879369Z",
     "shell.execute_reply": "2020-10-03T08:31:28.880851Z"
    },
    "lines_to_next_cell": 0,
    "title": "codecell"
   },
   "outputs": [
    {
     "data": {
      "text/latex": [
       "$\\displaystyle \\left. \\frac{d}{d n_{12}} \\sigma{\\left(n_{12} \\right)} \\right|_{\\substack{ n_{12}=23 }}$"
      ],
      "text/plain": [
       "Subs(Derivative(sigma(n_12), n_12), n_12, 23)"
      ]
     },
     "execution_count": 1,
     "metadata": {},
     "output_type": "execute_result"
    }
   ],
   "source": [
    "Selem[0,1].diff(Nelem[0,1]).subs({Nelem[0,1] : Nspec[0,1]}).subs({Nspec[0,1] : 23})"
   ]
  },
  {
   "cell_type": "code",
   "execution_count": 24,
   "metadata": {
    "execution": {
     "iopub.execute_input": "2020-10-03T08:31:28.893424Z",
     "iopub.status.busy": "2020-10-03T08:31:28.891588Z",
     "iopub.status.idle": "2020-10-03T08:31:28.949935Z",
     "shell.execute_reply": "2020-10-03T08:31:28.958170Z"
    },
    "lines_to_next_cell": 0,
    "title": "codecell"
   },
   "outputs": [
    {
     "data": {
      "text/latex": [
       "$\\displaystyle \\left. \\frac{d}{d n_{12}} 8 n_{12}^{3} \\right|_{\\substack{ n_{12}=w_{12} x_{11} + w_{22} x_{12} + w_{32} x_{13} }}$"
      ],
      "text/plain": [
       "Subs(Derivative(8*n_12**3, n_12), n_12, w_12*x_11 + w_22*x_12 + w_32*x_13)"
      ]
     },
     "execution_count": 1,
     "metadata": {},
     "output_type": "execute_result"
    }
   ],
   "source": [
    "Selem[0,1].diff(Nelem[0,1]).subs({Nelem[0,1] : Nspec[0,1]}).replace(sigma, lambda x: 8*x**3)"
   ]
  },
  {
   "cell_type": "code",
   "execution_count": 25,
   "metadata": {
    "execution": {
     "iopub.execute_input": "2020-10-03T08:31:28.967483Z",
     "iopub.status.busy": "2020-10-03T08:31:28.965556Z",
     "iopub.status.idle": "2020-10-03T08:31:29.000791Z",
     "shell.execute_reply": "2020-10-03T08:31:29.004634Z"
    },
    "lines_to_next_cell": 0,
    "title": "codecell"
   },
   "outputs": [
    {
     "data": {
      "text/latex": [
       "$\\displaystyle \\frac{d}{d n_{12}} 8 n_{12}^{3}$"
      ],
      "text/plain": [
       "Derivative(8*n_12**3, n_12)"
      ]
     },
     "execution_count": 1,
     "metadata": {},
     "output_type": "execute_result"
    }
   ],
   "source": [
    "Selem[0,1].diff(Nelem[0,1]).replace(sigma, lambda x: 8*x**3)"
   ]
  },
  {
   "cell_type": "code",
   "execution_count": 26,
   "metadata": {
    "execution": {
     "iopub.execute_input": "2020-10-03T08:31:29.014258Z",
     "iopub.status.busy": "2020-10-03T08:31:29.012394Z",
     "iopub.status.idle": "2020-10-03T08:31:29.097330Z",
     "shell.execute_reply": "2020-10-03T08:31:29.098751Z"
    },
    "lines_to_next_cell": 0,
    "title": "codecell"
   },
   "outputs": [
    {
     "data": {
      "text/latex": [
       "$\\displaystyle 24 n_{12}^{2}$"
      ],
      "text/plain": [
       "24*n_12**2"
      ]
     },
     "execution_count": 1,
     "metadata": {},
     "output_type": "execute_result"
    }
   ],
   "source": [
    "Selem[0,1].diff(Nelem[0,1]).replace(sigma, lambda x: 8*x**3).doit()"
   ]
  },
  {
   "cell_type": "code",
   "execution_count": 27,
   "metadata": {
    "execution": {
     "iopub.execute_input": "2020-10-03T08:31:29.110131Z",
     "iopub.status.busy": "2020-10-03T08:31:29.103302Z",
     "iopub.status.idle": "2020-10-03T08:31:29.180951Z",
     "shell.execute_reply": "2020-10-03T08:31:29.183579Z"
    },
    "lines_to_next_cell": 0,
    "title": "codecell"
   },
   "outputs": [
    {
     "data": {
      "text/latex": [
       "$\\displaystyle 24 \\left(w_{12} x_{11} + w_{22} x_{12} + w_{32} x_{13}\\right)^{2}$"
      ],
      "text/plain": [
       "24*(w_12*x_11 + w_22*x_12 + w_32*x_13)**2"
      ]
     },
     "execution_count": 1,
     "metadata": {},
     "output_type": "execute_result"
    }
   ],
   "source": [
    "# ### GOT IT: can replace now with expression and do derivative with respect to that expression.\n",
    "Selem[0,1].diff(Nelem[0,1]).subs({Nelem[0,1] : Nspec[0,1]}).replace(sigma, lambda x: 8*x**3).doit()"
   ]
  },
  {
   "cell_type": "code",
   "execution_count": 28,
   "metadata": {
    "execution": {
     "iopub.execute_input": "2020-10-03T08:31:29.191012Z",
     "iopub.status.busy": "2020-10-03T08:31:29.187228Z",
     "iopub.status.idle": "2020-10-03T08:31:29.259167Z",
     "shell.execute_reply": "2020-10-03T08:31:29.260341Z"
    },
    "lines_to_next_cell": 0,
    "title": "codecell"
   },
   "outputs": [
    {
     "data": {
      "text/latex": [
       "$\\displaystyle w_{22} \\left. \\frac{d}{d \\xi_{1}} \\sigma{\\left(\\xi_{1} \\right)} \\right|_{\\substack{ \\xi_{1}=w_{12} x_{11} + w_{22} x_{12} + w_{32} x_{13} }}$"
      ],
      "text/plain": [
       "w_22*Subs(Derivative(sigma(_xi_1), _xi_1), _xi_1, w_12*x_11 + w_22*x_12 + w_32*x_13)"
      ]
     },
     "execution_count": 1,
     "metadata": {},
     "output_type": "execute_result"
    }
   ],
   "source": [
    "Selem[0,1].subs({Nelem[0,1] : Nspec[0,1]}).diff(X[0,1])#.subs({Nelem[0,1] : Nspec[0,1]})"
   ]
  },
  {
   "cell_type": "code",
   "execution_count": 29,
   "metadata": {
    "execution": {
     "iopub.execute_input": "2020-10-03T08:31:29.276710Z",
     "iopub.status.busy": "2020-10-03T08:31:29.265706Z",
     "iopub.status.idle": "2020-10-03T08:31:29.303325Z",
     "shell.execute_reply": "2020-10-03T08:31:29.304476Z"
    },
    "title": "codecell"
   },
   "outputs": [
    {
     "data": {
      "text/latex": [
       "$\\displaystyle \\left[\\begin{matrix}\\sigma{\\left(n_{11} \\right)} & \\sigma{\\left(n_{12} \\right)}\\\\\\sigma{\\left(n_{21} \\right)} & \\sigma{\\left(n_{22} \\right)}\\\\\\sigma{\\left(n_{31} \\right)} & \\sigma{\\left(n_{32} \\right)}\\end{matrix}\\right]$"
      ],
      "text/plain": [
       "Matrix([\n",
       "[sigma(n_11), sigma(n_12)],\n",
       "[sigma(n_21), sigma(n_22)],\n",
       "[sigma(n_31), sigma(n_32)]])"
      ]
     },
     "execution_count": 1,
     "metadata": {},
     "output_type": "execute_result"
    }
   ],
   "source": [
    "Selem"
   ]
  },
  {
   "cell_type": "code",
   "execution_count": 30,
   "metadata": {
    "execution": {
     "iopub.execute_input": "2020-10-03T08:31:29.311884Z",
     "iopub.status.busy": "2020-10-03T08:31:29.309786Z",
     "iopub.status.idle": "2020-10-03T08:31:29.489439Z",
     "shell.execute_reply": "2020-10-03T08:31:29.490804Z"
    },
    "lines_to_next_cell": 0,
    "title": "codecell"
   },
   "outputs": [
    {
     "data": {
      "text/latex": [
       "$\\displaystyle \\left[\\begin{matrix}\\operatorname{n_{11}}{\\left(w_{11} x_{11} + w_{21} x_{12} + w_{31} x_{13} \\right)} & \\operatorname{n_{12}}{\\left(w_{12} x_{11} + w_{22} x_{12} + w_{32} x_{13} \\right)}\\\\\\operatorname{n_{21}}{\\left(w_{11} x_{21} + w_{21} x_{22} + w_{31} x_{23} \\right)} & \\operatorname{n_{22}}{\\left(w_{12} x_{21} + w_{22} x_{22} + w_{32} x_{23} \\right)}\\\\\\operatorname{n_{31}}{\\left(w_{11} x_{31} + w_{21} x_{32} + w_{31} x_{33} \\right)} & \\operatorname{n_{32}}{\\left(w_{12} x_{31} + w_{22} x_{32} + w_{32} x_{33} \\right)}\\end{matrix}\\right]$"
      ],
      "text/plain": [
       "Matrix([\n",
       "[n_11(w_11*x_11 + w_21*x_12 + w_31*x_13), n_12(w_12*x_11 + w_22*x_12 + w_32*x_13)],\n",
       "[n_21(w_11*x_21 + w_21*x_22 + w_31*x_23), n_22(w_12*x_21 + w_22*x_22 + w_32*x_23)],\n",
       "[n_31(w_11*x_31 + w_21*x_32 + w_31*x_33), n_32(w_12*x_31 + w_22*x_32 + w_32*x_33)]])"
      ]
     },
     "execution_count": 1,
     "metadata": {},
     "output_type": "execute_result"
    }
   ],
   "source": [
    "nt = Nelem.subs(elemToSpecFunc); nt"
   ]
  },
  {
   "cell_type": "code",
   "execution_count": 31,
   "metadata": {
    "execution": {
     "iopub.execute_input": "2020-10-03T08:31:29.497303Z",
     "iopub.status.busy": "2020-10-03T08:31:29.494772Z",
     "iopub.status.idle": "2020-10-03T08:31:29.629518Z",
     "shell.execute_reply": "2020-10-03T08:31:29.632218Z"
    },
    "lines_to_next_cell": 0,
    "title": "codecell"
   },
   "outputs": [
    {
     "data": {
      "text/latex": [
       "$\\displaystyle \\left[\\begin{matrix}\\sigma{\\left(\\operatorname{n_{11}}{\\left(w_{11} x_{11} + w_{21} x_{12} + w_{31} x_{13} \\right)} \\right)} & \\sigma{\\left(\\operatorname{n_{12}}{\\left(w_{12} x_{11} + w_{22} x_{12} + w_{32} x_{13} \\right)} \\right)}\\\\\\sigma{\\left(\\operatorname{n_{21}}{\\left(w_{11} x_{21} + w_{21} x_{22} + w_{31} x_{23} \\right)} \\right)} & \\sigma{\\left(\\operatorname{n_{22}}{\\left(w_{12} x_{21} + w_{22} x_{22} + w_{32} x_{23} \\right)} \\right)}\\\\\\sigma{\\left(\\operatorname{n_{31}}{\\left(w_{11} x_{31} + w_{21} x_{32} + w_{31} x_{33} \\right)} \\right)} & \\sigma{\\left(\\operatorname{n_{32}}{\\left(w_{12} x_{31} + w_{22} x_{32} + w_{32} x_{33} \\right)} \\right)}\\end{matrix}\\right]$"
      ],
      "text/plain": [
       "Matrix([\n",
       "[sigma(n_11(w_11*x_11 + w_21*x_12 + w_31*x_13)), sigma(n_12(w_12*x_11 + w_22*x_12 + w_32*x_13))],\n",
       "[sigma(n_21(w_11*x_21 + w_21*x_22 + w_31*x_23)), sigma(n_22(w_12*x_21 + w_22*x_22 + w_32*x_23))],\n",
       "[sigma(n_31(w_11*x_31 + w_21*x_32 + w_31*x_33)), sigma(n_32(w_12*x_31 + w_22*x_32 + w_32*x_33))]])"
      ]
     },
     "execution_count": 1,
     "metadata": {},
     "output_type": "execute_result"
    }
   ],
   "source": [
    "st = Selem.subs(elemToSpecFunc); st"
   ]
  },
  {
   "cell_type": "code",
   "execution_count": 32,
   "metadata": {
    "execution": {
     "iopub.execute_input": "2020-10-03T08:31:29.644404Z",
     "iopub.status.busy": "2020-10-03T08:31:29.636242Z",
     "iopub.status.idle": "2020-10-03T08:31:29.984617Z",
     "shell.execute_reply": "2020-10-03T08:31:29.988425Z"
    },
    "lines_to_next_cell": 0,
    "title": "codecell"
   },
   "outputs": [
    {
     "data": {
      "text/latex": [
       "$\\displaystyle \\left[\\begin{matrix}\\left[\\begin{matrix}\\frac{\\partial}{\\partial \\operatorname{n_{11}}{\\left(w_{11} x_{11} + w_{21} x_{12} + w_{31} x_{13} \\right)}} \\sigma{\\left(\\operatorname{n_{11}}{\\left(w_{11} x_{11} + w_{21} x_{12} + w_{31} x_{13} \\right)} \\right)} & 0\\\\0 & 0\\\\0 & 0\\end{matrix}\\right] & \\left[\\begin{matrix}0 & \\frac{\\partial}{\\partial \\operatorname{n_{12}}{\\left(w_{12} x_{11} + w_{22} x_{12} + w_{32} x_{13} \\right)}} \\sigma{\\left(\\operatorname{n_{12}}{\\left(w_{12} x_{11} + w_{22} x_{12} + w_{32} x_{13} \\right)} \\right)}\\\\0 & 0\\\\0 & 0\\end{matrix}\\right]\\\\\\left[\\begin{matrix}0 & 0\\\\\\frac{\\partial}{\\partial \\operatorname{n_{21}}{\\left(w_{11} x_{21} + w_{21} x_{22} + w_{31} x_{23} \\right)}} \\sigma{\\left(\\operatorname{n_{21}}{\\left(w_{11} x_{21} + w_{21} x_{22} + w_{31} x_{23} \\right)} \\right)} & 0\\\\0 & 0\\end{matrix}\\right] & \\left[\\begin{matrix}0 & 0\\\\0 & \\frac{\\partial}{\\partial \\operatorname{n_{22}}{\\left(w_{12} x_{21} + w_{22} x_{22} + w_{32} x_{23} \\right)}} \\sigma{\\left(\\operatorname{n_{22}}{\\left(w_{12} x_{21} + w_{22} x_{22} + w_{32} x_{23} \\right)} \\right)}\\\\0 & 0\\end{matrix}\\right]\\\\\\left[\\begin{matrix}0 & 0\\\\0 & 0\\\\\\frac{\\partial}{\\partial \\operatorname{n_{31}}{\\left(w_{11} x_{31} + w_{21} x_{32} + w_{31} x_{33} \\right)}} \\sigma{\\left(\\operatorname{n_{31}}{\\left(w_{11} x_{31} + w_{21} x_{32} + w_{31} x_{33} \\right)} \\right)} & 0\\end{matrix}\\right] & \\left[\\begin{matrix}0 & 0\\\\0 & 0\\\\0 & \\frac{\\partial}{\\partial \\operatorname{n_{32}}{\\left(w_{12} x_{31} + w_{22} x_{32} + w_{32} x_{33} \\right)}} \\sigma{\\left(\\operatorname{n_{32}}{\\left(w_{12} x_{31} + w_{22} x_{32} + w_{32} x_{33} \\right)} \\right)}\\end{matrix}\\right]\\end{matrix}\\right]$"
      ],
      "text/plain": [
       "[[[[Derivative(sigma(n_11(w_11*x_11 + w_21*x_12 + w_31*x_13)), n_11(w_11*x_11 + w_21*x_12 + w_31*x_13)), 0], [0, 0], [0, 0]], [[0, Derivative(sigma(n_12(w_12*x_11 + w_22*x_12 + w_32*x_13)), n_12(w_12*x_11 + w_22*x_12 + w_32*x_13))], [0, 0], [0, 0]]], [[[0, 0], [Derivative(sigma(n_21(w_11*x_21 + w_21*x_22 + w_31*x_23)), n_21(w_11*x_21 + w_21*x_22 + w_31*x_23)), 0], [0, 0]], [[0, 0], [0, Derivative(sigma(n_22(w_12*x_21 + w_22*x_22 + w_32*x_23)), n_22(w_12*x_21 + w_22*x_22 + w_32*x_23))], [0, 0]]], [[[0, 0], [0, 0], [Derivative(sigma(n_31(w_11*x_31 + w_21*x_32 + w_31*x_33)), n_31(w_11*x_31 + w_21*x_32 + w_31*x_33)), 0]], [[0, 0], [0, 0], [0, Derivative(sigma(n_32(w_12*x_31 + w_22*x_32 + w_32*x_33)), n_32(w_12*x_31 + w_22*x_32 + w_32*x_33))]]]]"
      ]
     },
     "execution_count": 1,
     "metadata": {},
     "output_type": "execute_result"
    }
   ],
   "source": [
    "st.diff(nt)"
   ]
  },
  {
   "cell_type": "code",
   "execution_count": 33,
   "metadata": {
    "execution": {
     "iopub.execute_input": "2020-10-03T08:31:30.000629Z",
     "iopub.status.busy": "2020-10-03T08:31:29.998572Z",
     "iopub.status.idle": "2020-10-03T08:31:30.058080Z",
     "shell.execute_reply": "2020-10-03T08:31:30.059533Z"
    },
    "lines_to_next_cell": 0,
    "title": "codecell"
   },
   "outputs": [
    {
     "data": {
      "text/latex": [
       "$\\displaystyle \\frac{\\partial}{\\partial \\operatorname{n_{11}}{\\left(w_{11} x_{11} + w_{21} x_{12} + w_{31} x_{13} \\right)}} \\sigma{\\left(\\operatorname{n_{11}}{\\left(w_{11} x_{11} + w_{21} x_{12} + w_{31} x_{13} \\right)} \\right)}$"
      ],
      "text/plain": [
       "Derivative(sigma(n_11(w_11*x_11 + w_21*x_12 + w_31*x_13)), n_11(w_11*x_11 + w_21*x_12 + w_31*x_13))"
      ]
     },
     "execution_count": 1,
     "metadata": {},
     "output_type": "execute_result"
    }
   ],
   "source": [
    "st[0,0].diff(st[0,0].args[0])"
   ]
  },
  {
   "cell_type": "code",
   "execution_count": 34,
   "metadata": {
    "execution": {
     "iopub.execute_input": "2020-10-03T08:31:30.074391Z",
     "iopub.status.busy": "2020-10-03T08:31:30.065942Z",
     "iopub.status.idle": "2020-10-03T08:31:30.176701Z",
     "shell.execute_reply": "2020-10-03T08:31:30.177843Z"
    },
    "title": "codecell"
   },
   "outputs": [
    {
     "data": {
      "text/latex": [
       "$\\displaystyle w_{11} \\frac{\\partial}{\\partial \\operatorname{n_{11}}{\\left(w_{11} x_{11} + w_{21} x_{12} + w_{31} x_{13} \\right)}} \\sigma{\\left(\\operatorname{n_{11}}{\\left(w_{11} x_{11} + w_{21} x_{12} + w_{31} x_{13} \\right)} \\right)} \\left. \\frac{d}{d \\xi_{1}} \\operatorname{n_{11}}{\\left(\\xi_{1} \\right)} \\right|_{\\substack{ \\xi_{1}=w_{11} x_{11} + w_{21} x_{12} + w_{31} x_{13} }}$"
      ],
      "text/plain": [
       "w_11*Derivative(sigma(n_11(w_11*x_11 + w_21*x_12 + w_31*x_13)), n_11(w_11*x_11 + w_21*x_12 + w_31*x_13))*Subs(Derivative(n_11(_xi_1), _xi_1), _xi_1, w_11*x_11 + w_21*x_12 + w_31*x_13)"
      ]
     },
     "execution_count": 1,
     "metadata": {},
     "output_type": "execute_result"
    }
   ],
   "source": [
    "temp = st[0,0].diff(X[0,0]); temp\n",
    "\n",
    "#nt[0,0]\n",
    "\n",
    "#temp.replace(Function(\"n_11\")(nt[0,0].args[0]), nt[0,0].args[0])\n",
    "\n",
    "#temp.subs({nt[0,0] : nt[0,0].args[0]})\n",
    "\n"
   ]
  },
  {
   "cell_type": "code",
   "execution_count": 35,
   "metadata": {
    "execution": {
     "iopub.execute_input": "2020-10-03T08:31:30.188581Z",
     "iopub.status.busy": "2020-10-03T08:31:30.185938Z",
     "iopub.status.idle": "2020-10-03T08:31:30.212968Z",
     "shell.execute_reply": "2020-10-03T08:31:30.214042Z"
    },
    "lines_to_next_cell": 0,
    "title": "codecell"
   },
   "outputs": [
    {
     "data": {
      "text/latex": [
       "$\\displaystyle 0$"
      ],
      "text/plain": [
       "0"
      ]
     },
     "execution_count": 1,
     "metadata": {},
     "output_type": "execute_result"
    }
   ],
   "source": [
    "st[0,0].diff(st[1,0].args[0])"
   ]
  },
  {
   "cell_type": "code",
   "execution_count": 36,
   "metadata": {
    "execution": {
     "iopub.execute_input": "2020-10-03T08:31:30.231801Z",
     "iopub.status.busy": "2020-10-03T08:31:30.226723Z",
     "iopub.status.idle": "2020-10-03T08:31:30.374197Z",
     "shell.execute_reply": "2020-10-03T08:31:30.375337Z"
    },
    "lines_to_next_cell": 0,
    "title": "codecell"
   },
   "outputs": [
    {
     "data": {
      "text/latex": [
       "$\\displaystyle \\left[\\begin{matrix}\\left[\\begin{matrix}\\frac{d}{d n_{11}} \\sigma{\\left(n_{11} \\right)} & 0\\\\0 & 0\\\\0 & 0\\end{matrix}\\right] & \\left[\\begin{matrix}0 & \\frac{d}{d n_{12}} \\sigma{\\left(n_{12} \\right)}\\\\0 & 0\\\\0 & 0\\end{matrix}\\right]\\\\\\left[\\begin{matrix}0 & 0\\\\\\frac{d}{d n_{21}} \\sigma{\\left(n_{21} \\right)} & 0\\\\0 & 0\\end{matrix}\\right] & \\left[\\begin{matrix}0 & 0\\\\0 & \\frac{d}{d n_{22}} \\sigma{\\left(n_{22} \\right)}\\\\0 & 0\\end{matrix}\\right]\\\\\\left[\\begin{matrix}0 & 0\\\\0 & 0\\\\\\frac{d}{d n_{31}} \\sigma{\\left(n_{31} \\right)} & 0\\end{matrix}\\right] & \\left[\\begin{matrix}0 & 0\\\\0 & 0\\\\0 & \\frac{d}{d n_{32}} \\sigma{\\left(n_{32} \\right)}\\end{matrix}\\right]\\end{matrix}\\right]$"
      ],
      "text/plain": [
       "[[[[Derivative(sigma(n_11), n_11), 0], [0, 0], [0, 0]], [[0, Derivative(sigma(n_12), n_12)], [0, 0], [0, 0]]], [[[0, 0], [Derivative(sigma(n_21), n_21), 0], [0, 0]], [[0, 0], [0, Derivative(sigma(n_22), n_22)], [0, 0]]], [[[0, 0], [0, 0], [Derivative(sigma(n_31), n_31), 0]], [[0, 0], [0, 0], [0, Derivative(sigma(n_32), n_32)]]]]"
      ]
     },
     "execution_count": 1,
     "metadata": {},
     "output_type": "execute_result"
    }
   ],
   "source": [
    "Selem.diff(Nelem)"
   ]
  },
  {
   "cell_type": "code",
   "execution_count": 37,
   "metadata": {
    "execution": {
     "iopub.execute_input": "2020-10-03T08:31:30.381041Z",
     "iopub.status.busy": "2020-10-03T08:31:30.379396Z",
     "iopub.status.idle": "2020-10-03T08:31:30.765160Z",
     "shell.execute_reply": "2020-10-03T08:31:30.768871Z"
    },
    "title": "codecell"
   },
   "outputs": [
    {
     "data": {
      "text/latex": [
       "$\\displaystyle \\left[\\begin{matrix}\\left[\\begin{matrix}\\frac{\\partial}{\\partial \\operatorname{n_{11}}{\\left(w_{11} x_{11} + w_{21} x_{12} + w_{31} x_{13} \\right)}} \\sigma{\\left(\\operatorname{n_{11}}{\\left(w_{11} x_{11} + w_{21} x_{12} + w_{31} x_{13} \\right)} \\right)} & 0\\\\0 & 0\\\\0 & 0\\end{matrix}\\right] & \\left[\\begin{matrix}0 & \\frac{\\partial}{\\partial \\operatorname{n_{12}}{\\left(w_{12} x_{11} + w_{22} x_{12} + w_{32} x_{13} \\right)}} \\sigma{\\left(\\operatorname{n_{12}}{\\left(w_{12} x_{11} + w_{22} x_{12} + w_{32} x_{13} \\right)} \\right)}\\\\0 & 0\\\\0 & 0\\end{matrix}\\right]\\\\\\left[\\begin{matrix}0 & 0\\\\\\frac{\\partial}{\\partial \\operatorname{n_{21}}{\\left(w_{11} x_{21} + w_{21} x_{22} + w_{31} x_{23} \\right)}} \\sigma{\\left(\\operatorname{n_{21}}{\\left(w_{11} x_{21} + w_{21} x_{22} + w_{31} x_{23} \\right)} \\right)} & 0\\\\0 & 0\\end{matrix}\\right] & \\left[\\begin{matrix}0 & 0\\\\0 & \\frac{\\partial}{\\partial \\operatorname{n_{22}}{\\left(w_{12} x_{21} + w_{22} x_{22} + w_{32} x_{23} \\right)}} \\sigma{\\left(\\operatorname{n_{22}}{\\left(w_{12} x_{21} + w_{22} x_{22} + w_{32} x_{23} \\right)} \\right)}\\\\0 & 0\\end{matrix}\\right]\\\\\\left[\\begin{matrix}0 & 0\\\\0 & 0\\\\\\frac{\\partial}{\\partial \\operatorname{n_{31}}{\\left(w_{11} x_{31} + w_{21} x_{32} + w_{31} x_{33} \\right)}} \\sigma{\\left(\\operatorname{n_{31}}{\\left(w_{11} x_{31} + w_{21} x_{32} + w_{31} x_{33} \\right)} \\right)} & 0\\end{matrix}\\right] & \\left[\\begin{matrix}0 & 0\\\\0 & 0\\\\0 & \\frac{\\partial}{\\partial \\operatorname{n_{32}}{\\left(w_{12} x_{31} + w_{22} x_{32} + w_{32} x_{33} \\right)}} \\sigma{\\left(\\operatorname{n_{32}}{\\left(w_{12} x_{31} + w_{22} x_{32} + w_{32} x_{33} \\right)} \\right)}\\end{matrix}\\right]\\end{matrix}\\right]$"
      ],
      "text/plain": [
       "[[[[Derivative(sigma(n_11(w_11*x_11 + w_21*x_12 + w_31*x_13)), n_11(w_11*x_11 + w_21*x_12 + w_31*x_13)), 0], [0, 0], [0, 0]], [[0, Derivative(sigma(n_12(w_12*x_11 + w_22*x_12 + w_32*x_13)), n_12(w_12*x_11 + w_22*x_12 + w_32*x_13))], [0, 0], [0, 0]]], [[[0, 0], [Derivative(sigma(n_21(w_11*x_21 + w_21*x_22 + w_31*x_23)), n_21(w_11*x_21 + w_21*x_22 + w_31*x_23)), 0], [0, 0]], [[0, 0], [0, Derivative(sigma(n_22(w_12*x_21 + w_22*x_22 + w_32*x_23)), n_22(w_12*x_21 + w_22*x_22 + w_32*x_23))], [0, 0]]], [[[0, 0], [0, 0], [Derivative(sigma(n_31(w_11*x_31 + w_21*x_32 + w_31*x_33)), n_31(w_11*x_31 + w_21*x_32 + w_31*x_33)), 0]], [[0, 0], [0, 0], [0, Derivative(sigma(n_32(w_12*x_31 + w_22*x_32 + w_32*x_33)), n_32(w_12*x_31 + w_22*x_32 + w_32*x_33))]]]]"
      ]
     },
     "execution_count": 1,
     "metadata": {},
     "output_type": "execute_result"
    }
   ],
   "source": [
    "Selem.diff(Nelem).subs(elemToSpecFunc)"
   ]
  },
  {
   "cell_type": "code",
   "execution_count": 38,
   "metadata": {
    "execution": {
     "iopub.execute_input": "2020-10-03T08:31:30.779450Z",
     "iopub.status.busy": "2020-10-03T08:31:30.772907Z",
     "iopub.status.idle": "2020-10-03T08:31:31.198607Z",
     "shell.execute_reply": "2020-10-03T08:31:31.199798Z"
    },
    "title": "codecell"
   },
   "outputs": [
    {
     "data": {
      "text/latex": [
       "$\\displaystyle \\left[\\begin{matrix}6 & 2 w_{12} x_{11} + 2 w_{22} x_{12} + 2 w_{32} x_{13}\\\\2 w_{11} x_{21} + 2 w_{21} x_{22} + 2 w_{31} x_{23} & 2 w_{12} x_{21} + 2 w_{22} x_{22} + 2 w_{32} x_{23}\\\\2 w_{11} x_{31} + 2 w_{21} x_{32} + 2 w_{31} x_{33} & 4\\end{matrix}\\right]$"
      ],
      "text/plain": [
       "Matrix([\n",
       "[                                      6, 2*w_12*x_11 + 2*w_22*x_12 + 2*w_32*x_13],\n",
       "[2*w_11*x_21 + 2*w_21*x_22 + 2*w_31*x_23, 2*w_12*x_21 + 2*w_22*x_22 + 2*w_32*x_23],\n",
       "[2*w_11*x_31 + 2*w_21*x_32 + 2*w_31*x_33,                                       4]])"
      ]
     },
     "execution_count": 1,
     "metadata": {},
     "output_type": "execute_result"
    }
   ],
   "source": [
    "# CAN even replace elements after have done an operation on them!!! replacing n_21 * 2 with the number 4.\n",
    "Sspec.subs({Nspec[0, 0]: 3}).replace(sigma, lambda x: 2 * x).replace(Nspec[2, 1] * 2, 4)\n",
    "\n",
    "\n",
    "\n",
    "\n",
    "\n",
    "\n",
    "\n"
   ]
  },
  {
   "cell_type": "code",
   "execution_count": 39,
   "metadata": {
    "execution": {
     "iopub.execute_input": "2020-10-03T08:31:31.210481Z",
     "iopub.status.busy": "2020-10-03T08:31:31.208577Z",
     "iopub.status.idle": "2020-10-03T08:31:31.235310Z",
     "shell.execute_reply": "2020-10-03T08:31:31.237043Z"
    },
    "lines_to_next_cell": 0,
    "title": "codecell"
   },
   "outputs": [
    {
     "data": {
      "text/latex": [
       "$\\displaystyle \\lambda{\\left(\\sigma_{apply}{\\left(v{\\left(X,W \\right)} \\right)} \\right)}$"
      ],
      "text/plain": [
       "lambda(sigma_apply(v(X, W)))"
      ]
     },
     "execution_count": 1,
     "metadata": {},
     "output_type": "execute_result"
    }
   ],
   "source": [
    "lambd = Function(\"lambda\")\n",
    "lambd_ = lambda matrix : sum(matrix)\n",
    "\n",
    "L = lambd(S); L"
   ]
  },
  {
   "cell_type": "code",
   "execution_count": 40,
   "metadata": {
    "execution": {
     "iopub.execute_input": "2020-10-03T08:31:31.247577Z",
     "iopub.status.busy": "2020-10-03T08:31:31.241979Z",
     "iopub.status.idle": "2020-10-03T08:31:31.285818Z",
     "shell.execute_reply": "2020-10-03T08:31:31.292998Z"
    },
    "lines_to_next_cell": 0,
    "title": "codecell"
   },
   "outputs": [
    {
     "data": {
      "text/latex": [
       "$\\displaystyle \\lambda{\\left(\\left[\\begin{matrix}\\sigma{\\left(n_{11} \\right)} & \\sigma{\\left(n_{12} \\right)}\\\\\\sigma{\\left(n_{21} \\right)} & \\sigma{\\left(n_{22} \\right)}\\\\\\sigma{\\left(n_{31} \\right)} & \\sigma{\\left(n_{32} \\right)}\\end{matrix}\\right] \\right)}$"
      ],
      "text/plain": [
       "lambda(Matrix([\n",
       "[sigma(n_11), sigma(n_12)],\n",
       "[sigma(n_21), sigma(n_22)],\n",
       "[sigma(n_31), sigma(n_32)]]))"
      ]
     },
     "execution_count": 1,
     "metadata": {},
     "output_type": "execute_result"
    }
   ],
   "source": [
    "L.replace(n, vN).replace(sigmaApply, sigmaApply_)"
   ]
  },
  {
   "cell_type": "code",
   "execution_count": 41,
   "metadata": {
    "execution": {
     "iopub.execute_input": "2020-10-03T08:31:31.303141Z",
     "iopub.status.busy": "2020-10-03T08:31:31.296808Z",
     "iopub.status.idle": "2020-10-03T08:31:31.308010Z",
     "shell.execute_reply": "2020-10-03T08:31:31.313152Z"
    },
    "title": "codecell"
   },
   "outputs": [],
   "source": [
    "#L.replace(n, vN).replace(sigmaApply, sigmaApply_).diff(Nelem[0,0])"
   ]
  },
  {
   "cell_type": "code",
   "execution_count": 42,
   "metadata": {
    "execution": {
     "iopub.execute_input": "2020-10-03T08:31:31.324969Z",
     "iopub.status.busy": "2020-10-03T08:31:31.316719Z",
     "iopub.status.idle": "2020-10-03T08:31:31.380098Z",
     "shell.execute_reply": "2020-10-03T08:31:31.382883Z"
    },
    "lines_to_next_cell": 0,
    "title": "codecell"
   },
   "outputs": [
    {
     "data": {
      "text/latex": [
       "$\\displaystyle \\sigma{\\left(n_{11} \\right)} + \\sigma{\\left(n_{12} \\right)} + \\sigma{\\left(n_{21} \\right)} + \\sigma{\\left(n_{22} \\right)} + \\sigma{\\left(n_{31} \\right)} + \\sigma{\\left(n_{32} \\right)}$"
      ],
      "text/plain": [
       "sigma(n_11) + sigma(n_12) + sigma(n_21) + sigma(n_22) + sigma(n_31) + sigma(n_32)"
      ]
     },
     "execution_count": 1,
     "metadata": {},
     "output_type": "execute_result"
    }
   ],
   "source": [
    "Lsum = L.replace(n, vN).replace(sigmaApply, sigmaApply_).replace(lambd, lambd_)\n",
    "Lsum"
   ]
  },
  {
   "cell_type": "code",
   "execution_count": 43,
   "metadata": {
    "execution": {
     "iopub.execute_input": "2020-10-03T08:31:31.390846Z",
     "iopub.status.busy": "2020-10-03T08:31:31.386722Z",
     "iopub.status.idle": "2020-10-03T08:31:31.465352Z",
     "shell.execute_reply": "2020-10-03T08:31:31.467850Z"
    },
    "lines_to_next_cell": 0,
    "title": "codecell"
   },
   "outputs": [
    {
     "data": {
      "text/latex": [
       "$\\displaystyle \\left[\\begin{matrix}\\frac{d}{d n_{11}} \\sigma{\\left(n_{11} \\right)} & \\frac{d}{d n_{12}} \\sigma{\\left(n_{12} \\right)}\\\\\\frac{d}{d n_{21}} \\sigma{\\left(n_{21} \\right)} & \\frac{d}{d n_{22}} \\sigma{\\left(n_{22} \\right)}\\\\\\frac{d}{d n_{31}} \\sigma{\\left(n_{31} \\right)} & \\frac{d}{d n_{32}} \\sigma{\\left(n_{32} \\right)}\\end{matrix}\\right]$"
      ],
      "text/plain": [
       "Matrix([\n",
       "[Derivative(sigma(n_11), n_11), Derivative(sigma(n_12), n_12)],\n",
       "[Derivative(sigma(n_21), n_21), Derivative(sigma(n_22), n_22)],\n",
       "[Derivative(sigma(n_31), n_31), Derivative(sigma(n_32), n_32)]])"
      ]
     },
     "execution_count": 1,
     "metadata": {},
     "output_type": "execute_result"
    }
   ],
   "source": [
    "Lsum.diff(Nelem)"
   ]
  },
  {
   "cell_type": "code",
   "execution_count": 44,
   "metadata": {
    "execution": {
     "iopub.execute_input": "2020-10-03T08:31:31.476282Z",
     "iopub.status.busy": "2020-10-03T08:31:31.474637Z",
     "iopub.status.idle": "2020-10-03T08:31:31.635026Z",
     "shell.execute_reply": "2020-10-03T08:31:31.636230Z"
    },
    "lines_to_next_cell": 0,
    "title": "codecell"
   },
   "outputs": [
    {
     "data": {
      "text/latex": [
       "$\\displaystyle \\sigma{\\left(w_{11} x_{11} + w_{21} x_{12} + w_{31} x_{13} \\right)} + \\sigma{\\left(w_{11} x_{21} + w_{21} x_{22} + w_{31} x_{23} \\right)} + \\sigma{\\left(w_{11} x_{31} + w_{21} x_{32} + w_{31} x_{33} \\right)} + \\sigma{\\left(w_{12} x_{11} + w_{22} x_{12} + w_{32} x_{13} \\right)} + \\sigma{\\left(w_{12} x_{21} + w_{22} x_{22} + w_{32} x_{23} \\right)} + \\sigma{\\left(w_{12} x_{31} + w_{22} x_{32} + w_{32} x_{33} \\right)}$"
      ],
      "text/plain": [
       "sigma(w_11*x_11 + w_21*x_12 + w_31*x_13) + sigma(w_11*x_21 + w_21*x_22 + w_31*x_23) + sigma(w_11*x_31 + w_21*x_32 + w_31*x_33) + sigma(w_12*x_11 + w_22*x_12 + w_32*x_13) + sigma(w_12*x_21 + w_22*x_22 + w_32*x_23) + sigma(w_12*x_31 + w_22*x_32 + w_32*x_33)"
      ]
     },
     "execution_count": 1,
     "metadata": {},
     "output_type": "execute_result"
    }
   ],
   "source": [
    "Lsum.subs(elemToSpecD)#.diff(X[2,1])"
   ]
  },
  {
   "cell_type": "code",
   "execution_count": 45,
   "metadata": {
    "execution": {
     "iopub.execute_input": "2020-10-03T08:31:31.644376Z",
     "iopub.status.busy": "2020-10-03T08:31:31.640338Z",
     "iopub.status.idle": "2020-10-03T08:31:32.581944Z",
     "shell.execute_reply": "2020-10-03T08:31:32.583062Z"
    },
    "lines_to_next_cell": 0,
    "title": "codecell"
   },
   "outputs": [
    {
     "data": {
      "text/latex": [
       "$\\displaystyle \\left[\\begin{matrix}w_{11} \\left. \\frac{d}{d \\xi_{1}} \\sigma{\\left(\\xi_{1} \\right)} \\right|_{\\substack{ \\xi_{1}=w_{11} x_{11} + w_{21} x_{12} + w_{31} x_{13} }} + w_{12} \\left. \\frac{d}{d \\xi_{1}} \\sigma{\\left(\\xi_{1} \\right)} \\right|_{\\substack{ \\xi_{1}=w_{12} x_{11} + w_{22} x_{12} + w_{32} x_{13} }} & w_{21} \\left. \\frac{d}{d \\xi_{1}} \\sigma{\\left(\\xi_{1} \\right)} \\right|_{\\substack{ \\xi_{1}=w_{11} x_{11} + w_{21} x_{12} + w_{31} x_{13} }} + w_{22} \\left. \\frac{d}{d \\xi_{1}} \\sigma{\\left(\\xi_{1} \\right)} \\right|_{\\substack{ \\xi_{1}=w_{12} x_{11} + w_{22} x_{12} + w_{32} x_{13} }} & w_{31} \\left. \\frac{d}{d \\xi_{1}} \\sigma{\\left(\\xi_{1} \\right)} \\right|_{\\substack{ \\xi_{1}=w_{11} x_{11} + w_{21} x_{12} + w_{31} x_{13} }} + w_{32} \\left. \\frac{d}{d \\xi_{1}} \\sigma{\\left(\\xi_{1} \\right)} \\right|_{\\substack{ \\xi_{1}=w_{12} x_{11} + w_{22} x_{12} + w_{32} x_{13} }}\\\\w_{11} \\left. \\frac{d}{d \\xi_{1}} \\sigma{\\left(\\xi_{1} \\right)} \\right|_{\\substack{ \\xi_{1}=w_{11} x_{21} + w_{21} x_{22} + w_{31} x_{23} }} + w_{12} \\left. \\frac{d}{d \\xi_{1}} \\sigma{\\left(\\xi_{1} \\right)} \\right|_{\\substack{ \\xi_{1}=w_{12} x_{21} + w_{22} x_{22} + w_{32} x_{23} }} & w_{21} \\left. \\frac{d}{d \\xi_{1}} \\sigma{\\left(\\xi_{1} \\right)} \\right|_{\\substack{ \\xi_{1}=w_{11} x_{21} + w_{21} x_{22} + w_{31} x_{23} }} + w_{22} \\left. \\frac{d}{d \\xi_{1}} \\sigma{\\left(\\xi_{1} \\right)} \\right|_{\\substack{ \\xi_{1}=w_{12} x_{21} + w_{22} x_{22} + w_{32} x_{23} }} & w_{31} \\left. \\frac{d}{d \\xi_{1}} \\sigma{\\left(\\xi_{1} \\right)} \\right|_{\\substack{ \\xi_{1}=w_{11} x_{21} + w_{21} x_{22} + w_{31} x_{23} }} + w_{32} \\left. \\frac{d}{d \\xi_{1}} \\sigma{\\left(\\xi_{1} \\right)} \\right|_{\\substack{ \\xi_{1}=w_{12} x_{21} + w_{22} x_{22} + w_{32} x_{23} }}\\\\w_{11} \\left. \\frac{d}{d \\xi_{1}} \\sigma{\\left(\\xi_{1} \\right)} \\right|_{\\substack{ \\xi_{1}=w_{11} x_{31} + w_{21} x_{32} + w_{31} x_{33} }} + w_{12} \\left. \\frac{d}{d \\xi_{1}} \\sigma{\\left(\\xi_{1} \\right)} \\right|_{\\substack{ \\xi_{1}=w_{12} x_{31} + w_{22} x_{32} + w_{32} x_{33} }} & w_{21} \\left. \\frac{d}{d \\xi_{1}} \\sigma{\\left(\\xi_{1} \\right)} \\right|_{\\substack{ \\xi_{1}=w_{11} x_{31} + w_{21} x_{32} + w_{31} x_{33} }} + w_{22} \\left. \\frac{d}{d \\xi_{1}} \\sigma{\\left(\\xi_{1} \\right)} \\right|_{\\substack{ \\xi_{1}=w_{12} x_{31} + w_{22} x_{32} + w_{32} x_{33} }} & w_{31} \\left. \\frac{d}{d \\xi_{1}} \\sigma{\\left(\\xi_{1} \\right)} \\right|_{\\substack{ \\xi_{1}=w_{11} x_{31} + w_{21} x_{32} + w_{31} x_{33} }} + w_{32} \\left. \\frac{d}{d \\xi_{1}} \\sigma{\\left(\\xi_{1} \\right)} \\right|_{\\substack{ \\xi_{1}=w_{12} x_{31} + w_{22} x_{32} + w_{32} x_{33} }}\\end{matrix}\\right]$"
      ],
      "text/plain": [
       "Matrix([\n",
       "[w_11*Subs(Derivative(sigma(_xi_1), _xi_1), _xi_1, w_11*x_11 + w_21*x_12 + w_31*x_13) + w_12*Subs(Derivative(sigma(_xi_1), _xi_1), _xi_1, w_12*x_11 + w_22*x_12 + w_32*x_13), w_21*Subs(Derivative(sigma(_xi_1), _xi_1), _xi_1, w_11*x_11 + w_21*x_12 + w_31*x_13) + w_22*Subs(Derivative(sigma(_xi_1), _xi_1), _xi_1, w_12*x_11 + w_22*x_12 + w_32*x_13), w_31*Subs(Derivative(sigma(_xi_1), _xi_1), _xi_1, w_11*x_11 + w_21*x_12 + w_31*x_13) + w_32*Subs(Derivative(sigma(_xi_1), _xi_1), _xi_1, w_12*x_11 + w_22*x_12 + w_32*x_13)],\n",
       "[w_11*Subs(Derivative(sigma(_xi_1), _xi_1), _xi_1, w_11*x_21 + w_21*x_22 + w_31*x_23) + w_12*Subs(Derivative(sigma(_xi_1), _xi_1), _xi_1, w_12*x_21 + w_22*x_22 + w_32*x_23), w_21*Subs(Derivative(sigma(_xi_1), _xi_1), _xi_1, w_11*x_21 + w_21*x_22 + w_31*x_23) + w_22*Subs(Derivative(sigma(_xi_1), _xi_1), _xi_1, w_12*x_21 + w_22*x_22 + w_32*x_23), w_31*Subs(Derivative(sigma(_xi_1), _xi_1), _xi_1, w_11*x_21 + w_21*x_22 + w_31*x_23) + w_32*Subs(Derivative(sigma(_xi_1), _xi_1), _xi_1, w_12*x_21 + w_22*x_22 + w_32*x_23)],\n",
       "[w_11*Subs(Derivative(sigma(_xi_1), _xi_1), _xi_1, w_11*x_31 + w_21*x_32 + w_31*x_33) + w_12*Subs(Derivative(sigma(_xi_1), _xi_1), _xi_1, w_12*x_31 + w_22*x_32 + w_32*x_33), w_21*Subs(Derivative(sigma(_xi_1), _xi_1), _xi_1, w_11*x_31 + w_21*x_32 + w_31*x_33) + w_22*Subs(Derivative(sigma(_xi_1), _xi_1), _xi_1, w_12*x_31 + w_22*x_32 + w_32*x_33), w_31*Subs(Derivative(sigma(_xi_1), _xi_1), _xi_1, w_11*x_31 + w_21*x_32 + w_31*x_33) + w_32*Subs(Derivative(sigma(_xi_1), _xi_1), _xi_1, w_12*x_31 + w_22*x_32 + w_32*x_33)]])"
      ]
     },
     "execution_count": 1,
     "metadata": {},
     "output_type": "execute_result"
    }
   ],
   "source": [
    "Lsum.subs(elemToSpecD).diff(X)"
   ]
  },
  {
   "cell_type": "code",
   "execution_count": 46,
   "metadata": {
    "execution": {
     "iopub.execute_input": "2020-10-03T08:31:32.596603Z",
     "iopub.status.busy": "2020-10-03T08:31:32.588276Z",
     "iopub.status.idle": "2020-10-03T08:31:33.866096Z",
     "shell.execute_reply": "2020-10-03T08:31:33.868619Z"
    },
    "title": "codecell"
   },
   "outputs": [
    {
     "data": {
      "text/latex": [
       "$\\displaystyle \\left[\\begin{matrix}w_{11} \\left. \\frac{d}{d \\xi_{1}} \\sigma{\\left(\\xi_{1} \\right)} \\right|_{\\substack{ \\xi_{1}=n_{11} }} + w_{12} \\left. \\frac{d}{d \\xi_{1}} \\sigma{\\left(\\xi_{1} \\right)} \\right|_{\\substack{ \\xi_{1}=n_{12} }} & w_{21} \\left. \\frac{d}{d \\xi_{1}} \\sigma{\\left(\\xi_{1} \\right)} \\right|_{\\substack{ \\xi_{1}=n_{11} }} + w_{22} \\left. \\frac{d}{d \\xi_{1}} \\sigma{\\left(\\xi_{1} \\right)} \\right|_{\\substack{ \\xi_{1}=n_{12} }} & w_{31} \\left. \\frac{d}{d \\xi_{1}} \\sigma{\\left(\\xi_{1} \\right)} \\right|_{\\substack{ \\xi_{1}=n_{11} }} + w_{32} \\left. \\frac{d}{d \\xi_{1}} \\sigma{\\left(\\xi_{1} \\right)} \\right|_{\\substack{ \\xi_{1}=n_{12} }}\\\\w_{11} \\left. \\frac{d}{d \\xi_{1}} \\sigma{\\left(\\xi_{1} \\right)} \\right|_{\\substack{ \\xi_{1}=n_{21} }} + w_{12} \\left. \\frac{d}{d \\xi_{1}} \\sigma{\\left(\\xi_{1} \\right)} \\right|_{\\substack{ \\xi_{1}=n_{22} }} & w_{21} \\left. \\frac{d}{d \\xi_{1}} \\sigma{\\left(\\xi_{1} \\right)} \\right|_{\\substack{ \\xi_{1}=n_{21} }} + w_{22} \\left. \\frac{d}{d \\xi_{1}} \\sigma{\\left(\\xi_{1} \\right)} \\right|_{\\substack{ \\xi_{1}=n_{22} }} & w_{31} \\left. \\frac{d}{d \\xi_{1}} \\sigma{\\left(\\xi_{1} \\right)} \\right|_{\\substack{ \\xi_{1}=n_{21} }} + w_{32} \\left. \\frac{d}{d \\xi_{1}} \\sigma{\\left(\\xi_{1} \\right)} \\right|_{\\substack{ \\xi_{1}=n_{22} }}\\\\w_{11} \\left. \\frac{d}{d \\xi_{1}} \\sigma{\\left(\\xi_{1} \\right)} \\right|_{\\substack{ \\xi_{1}=n_{31} }} + w_{12} \\left. \\frac{d}{d \\xi_{1}} \\sigma{\\left(\\xi_{1} \\right)} \\right|_{\\substack{ \\xi_{1}=n_{32} }} & w_{21} \\left. \\frac{d}{d \\xi_{1}} \\sigma{\\left(\\xi_{1} \\right)} \\right|_{\\substack{ \\xi_{1}=n_{31} }} + w_{22} \\left. \\frac{d}{d \\xi_{1}} \\sigma{\\left(\\xi_{1} \\right)} \\right|_{\\substack{ \\xi_{1}=n_{32} }} & w_{31} \\left. \\frac{d}{d \\xi_{1}} \\sigma{\\left(\\xi_{1} \\right)} \\right|_{\\substack{ \\xi_{1}=n_{31} }} + w_{32} \\left. \\frac{d}{d \\xi_{1}} \\sigma{\\left(\\xi_{1} \\right)} \\right|_{\\substack{ \\xi_{1}=n_{32} }}\\end{matrix}\\right]$"
      ],
      "text/plain": [
       "Matrix([\n",
       "[w_11*Subs(Derivative(sigma(_xi_1), _xi_1), _xi_1, n_11) + w_12*Subs(Derivative(sigma(_xi_1), _xi_1), _xi_1, n_12), w_21*Subs(Derivative(sigma(_xi_1), _xi_1), _xi_1, n_11) + w_22*Subs(Derivative(sigma(_xi_1), _xi_1), _xi_1, n_12), w_31*Subs(Derivative(sigma(_xi_1), _xi_1), _xi_1, n_11) + w_32*Subs(Derivative(sigma(_xi_1), _xi_1), _xi_1, n_12)],\n",
       "[w_11*Subs(Derivative(sigma(_xi_1), _xi_1), _xi_1, n_21) + w_12*Subs(Derivative(sigma(_xi_1), _xi_1), _xi_1, n_22), w_21*Subs(Derivative(sigma(_xi_1), _xi_1), _xi_1, n_21) + w_22*Subs(Derivative(sigma(_xi_1), _xi_1), _xi_1, n_22), w_31*Subs(Derivative(sigma(_xi_1), _xi_1), _xi_1, n_21) + w_32*Subs(Derivative(sigma(_xi_1), _xi_1), _xi_1, n_22)],\n",
       "[w_11*Subs(Derivative(sigma(_xi_1), _xi_1), _xi_1, n_31) + w_12*Subs(Derivative(sigma(_xi_1), _xi_1), _xi_1, n_32), w_21*Subs(Derivative(sigma(_xi_1), _xi_1), _xi_1, n_31) + w_22*Subs(Derivative(sigma(_xi_1), _xi_1), _xi_1, n_32), w_31*Subs(Derivative(sigma(_xi_1), _xi_1), _xi_1, n_31) + w_32*Subs(Derivative(sigma(_xi_1), _xi_1), _xi_1, n_32)]])"
      ]
     },
     "execution_count": 1,
     "metadata": {},
     "output_type": "execute_result"
    }
   ],
   "source": [
    "# METHOD 1: direct matrix diff\n",
    "#\n",
    "### END RESULT ACHIEVED HERE (this is the end result and the most specific form of the result of the  matrix differentiation, when sigma is unknown)\n",
    "specToElemD = {v:k for k,v in elemToSpecD.items()}\n",
    "\n",
    "assert Lsum == L.replace(n, vN).replace(sigmaApply, sigmaApply_).replace(lambd, lambd_)\n",
    "Lsum.subs(elemToSpecD).diff(X).subs(specToElemD)\n",
    "\n"
   ]
  },
  {
   "cell_type": "code",
   "execution_count": 47,
   "metadata": {
    "execution": {
     "iopub.execute_input": "2020-10-03T08:31:33.882792Z",
     "iopub.status.busy": "2020-10-03T08:31:33.880997Z",
     "iopub.status.idle": "2020-10-03T08:31:33.909395Z",
     "shell.execute_reply": "2020-10-03T08:31:33.917239Z"
    },
    "lines_to_next_cell": 0,
    "title": "codecell"
   },
   "outputs": [
    {
     "data": {
      "text/latex": [
       "$\\displaystyle \\left[\\begin{matrix}\\sigma{\\left(n_{11} \\right)} & \\sigma{\\left(n_{12} \\right)}\\\\\\sigma{\\left(n_{21} \\right)} & \\sigma{\\left(n_{22} \\right)}\\\\\\sigma{\\left(n_{31} \\right)} & \\sigma{\\left(n_{32} \\right)}\\end{matrix}\\right]$"
      ],
      "text/plain": [
       "Matrix([\n",
       "[sigma(n_11), sigma(n_12)],\n",
       "[sigma(n_21), sigma(n_22)],\n",
       "[sigma(n_31), sigma(n_32)]])"
      ]
     },
     "execution_count": 1,
     "metadata": {},
     "output_type": "execute_result"
    }
   ],
   "source": [
    "# METHOD 2: doing matrix symbol diff\n",
    "#\n",
    "#### NOW DOING THE MATRIX SYMBOL DIFF EXPRESSION (trying to achieve a form that shows the chain rule w.r.t to matrix symbol)\n",
    "Selem"
   ]
  },
  {
   "cell_type": "code",
   "execution_count": 48,
   "metadata": {
    "execution": {
     "iopub.execute_input": "2020-10-03T08:31:33.924451Z",
     "iopub.status.busy": "2020-10-03T08:31:33.920996Z",
     "iopub.status.idle": "2020-10-03T08:31:33.948665Z",
     "shell.execute_reply": "2020-10-03T08:31:33.951580Z"
    },
    "lines_to_next_cell": 0,
    "title": "codecell"
   },
   "outputs": [
    {
     "data": {
      "text/latex": [
       "$\\displaystyle \\lambda{\\left(\\sigma_{apply}{\\left(v{\\left(X,W \\right)} \\right)} \\right)}$"
      ],
      "text/plain": [
       "lambda(sigma_apply(v(X, W)))"
      ]
     },
     "execution_count": 1,
     "metadata": {},
     "output_type": "execute_result"
    }
   ],
   "source": [
    "L"
   ]
  },
  {
   "cell_type": "code",
   "execution_count": 49,
   "metadata": {
    "execution": {
     "iopub.execute_input": "2020-10-03T08:31:33.961249Z",
     "iopub.status.busy": "2020-10-03T08:31:33.955555Z",
     "iopub.status.idle": "2020-10-03T08:31:33.965953Z",
     "shell.execute_reply": "2020-10-03T08:31:33.967038Z"
    },
    "title": "codecell"
   },
   "outputs": [],
   "source": [
    "#L.replace(A, A.T).diff(A) #ERROR: fatal python error ... why??"
   ]
  },
  {
   "cell_type": "code",
   "execution_count": 50,
   "metadata": {
    "execution": {
     "iopub.execute_input": "2020-10-03T08:31:33.981463Z",
     "iopub.status.busy": "2020-10-03T08:31:33.979014Z",
     "iopub.status.idle": "2020-10-03T08:31:33.994500Z",
     "shell.execute_reply": "2020-10-03T08:31:33.995962Z"
    },
    "title": "codecell"
   },
   "outputs": [],
   "source": [
    "#L.replace(n,v).diff(A).replace(sigmaApply, sigmaApply_) # ERROR\n",
    "#L.replace(n,vN).subs(elemToSpecFuncD).replace(sigmaApply, sigmaApply_).diff(X) # why the zero matrix?"
   ]
  },
  {
   "cell_type": "code",
   "execution_count": 51,
   "metadata": {
    "execution": {
     "iopub.execute_input": "2020-10-03T08:31:34.005744Z",
     "iopub.status.busy": "2020-10-03T08:31:34.001055Z",
     "iopub.status.idle": "2020-10-03T08:31:34.188086Z",
     "shell.execute_reply": "2020-10-03T08:31:34.191280Z"
    },
    "lines_to_next_cell": 0,
    "title": "codecell"
   },
   "outputs": [
    {
     "data": {
      "text/latex": [
       "$\\displaystyle \\left. \\frac{d}{d \\xi_{1}} \\sigma_{apply}{\\left(\\xi_{1} \\right)} \\right|_{\\substack{ \\xi_{1}=X W }} \\frac{\\partial}{\\partial \\sigma_{apply}{\\left(X W \\right)}} \\lambda{\\left(\\sigma_{apply}{\\left(X W \\right)} \\right)} \\frac{\\partial}{\\partial X} X W$"
      ],
      "text/plain": [
       "Subs(Derivative(sigma_apply(_xi_1), _xi_1), _xi_1, X*W)*Derivative(lambda(sigma_apply(X*W)), sigma_apply(X*W))*Derivative(X*W, X)"
      ]
     },
     "execution_count": 1,
     "metadata": {},
     "output_type": "execute_result"
    }
   ],
   "source": [
    "L.replace(n,v).diff(A)"
   ]
  },
  {
   "cell_type": "code",
   "execution_count": 52,
   "metadata": {
    "execution": {
     "iopub.execute_input": "2020-10-03T08:31:34.199453Z",
     "iopub.status.busy": "2020-10-03T08:31:34.195052Z",
     "iopub.status.idle": "2020-10-03T08:31:34.348915Z",
     "shell.execute_reply": "2020-10-03T08:31:34.351023Z"
    },
    "title": "codecell"
   },
   "outputs": [
    {
     "data": {
      "text/latex": [
       "$\\displaystyle \\left. \\frac{d}{d \\xi_{1}} \\sigma_{apply}{\\left(\\xi_{1} \\right)} \\right|_{\\substack{ \\xi_{1}=X W }} \\frac{\\partial}{\\partial \\sigma_{apply}{\\left(X W \\right)}} \\lambda{\\left(\\sigma_{apply}{\\left(X W \\right)} \\right)} \\frac{\\partial}{\\partial X} X W$"
      ],
      "text/plain": [
       "Subs(Derivative(sigma_apply(_xi_1), _xi_1), _xi_1, X*W)*Derivative(lambda(sigma_apply(X*W)), sigma_apply(X*W))*Derivative(X*W, X)"
      ]
     },
     "execution_count": 1,
     "metadata": {},
     "output_type": "execute_result"
    }
   ],
   "source": [
    "L.replace(n,vL).diff(A)"
   ]
  },
  {
   "cell_type": "code",
   "execution_count": 53,
   "metadata": {
    "title": "codecell"
   },
   "outputs": [],
   "source": []
  },
  {
   "cell_type": "code",
   "execution_count": 53,
   "metadata": {
    "lines_to_next_cell": 0,
    "title": "codecell"
   },
   "outputs": [],
   "source": []
  },
  {
   "cell_type": "code",
   "execution_count": 53,
   "metadata": {
    "lines_to_next_cell": 0,
    "title": "codecell"
   },
   "outputs": [],
   "source": []
  },
  {
   "cell_type": "code",
   "execution_count": 53,
   "metadata": {
    "lines_to_next_cell": 0,
    "title": "codecell"
   },
   "outputs": [],
   "source": []
  },
  {
   "cell_type": "code",
   "execution_count": 53,
   "metadata": {
    "execution": {
     "iopub.execute_input": "2020-10-03T08:31:34.362146Z",
     "iopub.status.busy": "2020-10-03T08:31:34.358942Z",
     "iopub.status.idle": "2020-10-03T08:31:34.373710Z",
     "shell.execute_reply": "2020-10-03T08:31:34.375779Z"
    },
    "lines_to_next_cell": 0,
    "title": "codecell"
   },
   "outputs": [],
   "source": [
    "#L.replace(n,v).diff(A).replace(lambd,lambd_) ### ERROR sigma object is not iterable\n",
    "#L.replace(n,vL).diff(A).replace(sigmaApply, sigmaApply_)### ERROR\n",
    "#L.replace(n,v).diff(A).replace(sigmaApply, sigmaApply_) ### ERROR dummy object has no attribute applyfunc"
   ]
  },
  {
   "cell_type": "code",
   "execution_count": 54,
   "metadata": {
    "execution": {
     "iopub.execute_input": "2020-10-03T08:31:34.385346Z",
     "iopub.status.busy": "2020-10-03T08:31:34.381874Z",
     "iopub.status.idle": "2020-10-03T08:31:34.422045Z",
     "shell.execute_reply": "2020-10-03T08:31:34.423270Z"
    },
    "lines_to_next_cell": 0,
    "title": "codecell"
   },
   "outputs": [
    {
     "data": {
      "text/latex": [
       "$\\displaystyle \\lambda{\\left({\\left( d \\mapsto \\sigma{\\left(d \\right)} \\right)}_{\\circ}\\left({X W}\\right) \\right)}$"
      ],
      "text/plain": [
       "lambda(Lambda(_d, sigma(_d)).(X*W))"
      ]
     },
     "execution_count": 1,
     "metadata": {},
     "output_type": "execute_result"
    }
   ],
   "source": [
    "#L.replace(sigmaApply, sigmaApply_).diff(A) # ERROR\n",
    "# L.replace(lambd, lambd_) # ERROR\n",
    "\n",
    "#L.replace(n, v).replace(sigmaApply, sigmaApply_2)# shows matrix results, too specific, want the function composition notation as below but just applied to the function v(X,W) in abstract way\n",
    "### METHOD 0: (prepare by substituting n --> v, then sigmaApply --> sigma)\n",
    "L.replace(n, v).replace(sigmaApply, sigmaApply_)#.replace(lambd, lambd_)"
   ]
  },
  {
   "cell_type": "code",
   "execution_count": 55,
   "metadata": {
    "execution": {
     "iopub.execute_input": "2020-10-03T08:31:34.433457Z",
     "iopub.status.busy": "2020-10-03T08:31:34.427444Z",
     "iopub.status.idle": "2020-10-03T08:31:34.462578Z",
     "shell.execute_reply": "2020-10-03T08:31:34.464376Z"
    },
    "lines_to_next_cell": 0,
    "title": "codecell"
   },
   "outputs": [
    {
     "data": {
      "text/latex": [
       "$\\displaystyle \\lambda{\\left(\\sigma{\\left(v{\\left(X,W \\right)} \\right)} \\right)}$"
      ],
      "text/plain": [
       "lambda(sigma(v(X, W)))"
      ]
     },
     "execution_count": 1,
     "metadata": {},
     "output_type": "execute_result"
    }
   ],
   "source": [
    "\n",
    "# NOTE: the point here is that even replacing with a sympy Lambda doesn't give same result as above since above uses the V.applyfunc(sigma) within the Lambda.\n",
    "L.replace(sigmaApply, Lambda(d, sigma(d)))"
   ]
  },
  {
   "cell_type": "code",
   "execution_count": 56,
   "metadata": {
    "execution": {
     "iopub.execute_input": "2020-10-03T08:31:34.473183Z",
     "iopub.status.busy": "2020-10-03T08:31:34.471566Z",
     "iopub.status.idle": "2020-10-03T08:31:34.499040Z",
     "shell.execute_reply": "2020-10-03T08:31:34.501910Z"
    },
    "lines_to_next_cell": 0,
    "title": "codecell"
   },
   "outputs": [
    {
     "data": {
      "text/latex": [
       "$\\displaystyle \\lambda{\\left(\\sigma_{apply}{\\left(v \\right)} \\right)}$"
      ],
      "text/plain": [
       "lambda(sigma_apply(v))"
      ]
     },
     "execution_count": 1,
     "metadata": {},
     "output_type": "execute_result"
    }
   ],
   "source": [
    "\n",
    "vSym = Symbol('v', applyfunc=True)\n",
    "L.replace(n(A,B), vSym)"
   ]
  },
  {
   "cell_type": "code",
   "execution_count": 57,
   "metadata": {
    "execution": {
     "iopub.execute_input": "2020-10-03T08:31:34.518931Z",
     "iopub.status.busy": "2020-10-03T08:31:34.515033Z",
     "iopub.status.idle": "2020-10-03T08:31:34.542824Z",
     "shell.execute_reply": "2020-10-03T08:31:34.544266Z"
    },
    "lines_to_next_cell": 0,
    "title": "codecell"
   },
   "outputs": [
    {
     "data": {
      "text/latex": [
       "$\\displaystyle V$"
      ],
      "text/plain": [
       "V"
      ]
     },
     "execution_count": 1,
     "metadata": {},
     "output_type": "execute_result"
    }
   ],
   "source": [
    "#L.replace(n(A,B), vSym).replace(sigmaApply, sigmaApply_)# ERROR because Symbol has no atttribute applyfunc (that is the one we want though so must use matrix symbol which for some reason works instead of just an ordinary symbol v\n",
    "#V = MatrixSymbol()\n",
    "# Takes in the symbols A and B matrices and returns the matrix symbol with the shape that is supposed to result after A*B\n",
    "V = lambda matA, matB: MatrixSymbol('V', matA.shape[0], matB.shape[1])\n",
    "V\n",
    "V(A,B)#.shape"
   ]
  },
  {
   "cell_type": "code",
   "execution_count": 58,
   "metadata": {
    "execution": {
     "iopub.execute_input": "2020-10-03T08:31:34.552391Z",
     "iopub.status.busy": "2020-10-03T08:31:34.547726Z",
     "iopub.status.idle": "2020-10-03T08:31:34.581027Z",
     "shell.execute_reply": "2020-10-03T08:31:34.585691Z"
    },
    "lines_to_next_cell": 0,
    "title": "codecell"
   },
   "outputs": [],
   "source": [
    "from sympy import symbols\n",
    "#V = MatrixSymbol('V', X.shape[0], W.shape[1])\n",
    "i, j = symbols('i j')\n",
    "M = MatrixSymbol('M', i, j)# abstract shape\n",
    "sigmaApply_L = Lambda(M, M.applyfunc(sigma))\n",
    "lambda_L = Lambda(M, sum(M))"
   ]
  },
  {
   "cell_type": "code",
   "execution_count": 59,
   "metadata": {
    "execution": {
     "iopub.execute_input": "2020-10-03T08:31:34.592359Z",
     "iopub.status.busy": "2020-10-03T08:31:34.589562Z",
     "iopub.status.idle": "2020-10-03T08:31:34.614521Z",
     "shell.execute_reply": "2020-10-03T08:31:34.615661Z"
    },
    "lines_to_next_cell": 0,
    "title": "codecell"
   },
   "outputs": [
    {
     "data": {
      "text/latex": [
       "$\\displaystyle {\\left( d \\mapsto \\sigma{\\left(d \\right)} \\right)}_{\\circ}\\left({X}\\right)$"
      ],
      "text/plain": [
       "Lambda(_d, sigma(_d)).(X)"
      ]
     },
     "execution_count": 1,
     "metadata": {},
     "output_type": "execute_result"
    }
   ],
   "source": [
    "sigmaApply_L(A)"
   ]
  },
  {
   "cell_type": "code",
   "execution_count": 60,
   "metadata": {
    "execution": {
     "iopub.execute_input": "2020-10-03T08:31:34.630417Z",
     "iopub.status.busy": "2020-10-03T08:31:34.628297Z",
     "iopub.status.idle": "2020-10-03T08:31:34.657458Z",
     "shell.execute_reply": "2020-10-03T08:31:34.659647Z"
    },
    "lines_to_next_cell": 0,
    "title": "codecell"
   },
   "outputs": [
    {
     "data": {
      "text/latex": [
       "$\\displaystyle \\left( \\left( X, \\  W\\right) \\mapsto V \\right)$"
      ],
      "text/plain": [
       "Lambda((X, W), V)"
      ]
     },
     "execution_count": 1,
     "metadata": {},
     "output_type": "execute_result"
    }
   ],
   "source": [
    "# TODO: trying to figure out how to write L so that it is in terms of lambdas so get the form (d ---> sigma(d) COMPOAED ((X,W) -> V)) instead of (sigmaApply(v(X,W)))\n",
    "Vs = MatrixSymbol(\"Vs\", A.shape[0], B.shape[1])\n",
    "VL = Lambda((A,B), MatrixSymbol('V', A.shape[0], B.shape[1]))\n",
    "VL"
   ]
  },
  {
   "cell_type": "code",
   "execution_count": 61,
   "metadata": {
    "execution": {
     "iopub.execute_input": "2020-10-03T08:31:34.674085Z",
     "iopub.status.busy": "2020-10-03T08:31:34.669685Z",
     "iopub.status.idle": "2020-10-03T08:31:34.698117Z",
     "shell.execute_reply": "2020-10-03T08:31:34.701923Z"
    },
    "title": "codecell"
   },
   "outputs": [
    {
     "data": {
      "text/latex": [
       "$\\displaystyle \\lambda{\\left(\\sigma_{apply}{\\left(V \\right)} \\right)}$"
      ],
      "text/plain": [
       "lambda(sigma_apply(V))"
      ]
     },
     "execution_count": 1,
     "metadata": {},
     "output_type": "execute_result"
    }
   ],
   "source": [
    "L.replace(n, VL)#.replace(sigmaApply, sigmaApply_L).subs({V:VL})"
   ]
  },
  {
   "cell_type": "code",
   "execution_count": 62,
   "metadata": {
    "execution": {
     "iopub.execute_input": "2020-10-03T08:31:34.713641Z",
     "iopub.status.busy": "2020-10-03T08:31:34.709080Z",
     "iopub.status.idle": "2020-10-03T08:31:34.747389Z",
     "shell.execute_reply": "2020-10-03T08:31:34.749770Z"
    },
    "lines_to_next_cell": 0,
    "title": "codecell"
   },
   "outputs": [
    {
     "data": {
      "text/latex": [
       "$\\displaystyle \\left( \\left( X, \\  W\\right) \\mapsto V \\right)$"
      ],
      "text/plain": [
       "Lambda((X, W), V)"
      ]
     },
     "execution_count": 1,
     "metadata": {},
     "output_type": "execute_result"
    }
   ],
   "source": [
    "L.replace(n, VL).replace(sigmaApply, sigmaApply_)#.subs({VL(A,B) : n(A,B)}) ### ERROR\n",
    "# This is v(X,W) in Lambda form:\n",
    "VL"
   ]
  },
  {
   "cell_type": "code",
   "execution_count": 63,
   "metadata": {
    "execution": {
     "iopub.execute_input": "2020-10-03T08:31:34.758970Z",
     "iopub.status.busy": "2020-10-03T08:31:34.757304Z",
     "iopub.status.idle": "2020-10-03T08:31:34.778740Z",
     "shell.execute_reply": "2020-10-03T08:31:34.785817Z"
    },
    "title": "codecell"
   },
   "outputs": [
    {
     "data": {
      "text/latex": [
       "$\\displaystyle V$"
      ],
      "text/plain": [
       "V"
      ]
     },
     "execution_count": 1,
     "metadata": {},
     "output_type": "execute_result"
    }
   ],
   "source": [
    "VL(A,B)\n",
    "#L.subs({n: V})"
   ]
  },
  {
   "cell_type": "code",
   "execution_count": 64,
   "metadata": {
    "execution": {
     "iopub.execute_input": "2020-10-03T08:31:34.792411Z",
     "iopub.status.busy": "2020-10-03T08:31:34.789622Z",
     "iopub.status.idle": "2020-10-03T08:31:34.821507Z",
     "shell.execute_reply": "2020-10-03T08:31:34.824391Z"
    },
    "lines_to_next_cell": 0,
    "title": "codecell"
   },
   "outputs": [
    {
     "data": {
      "text/latex": [
       "$\\displaystyle \\lambda{\\left(\\sigma_{apply}{\\left(V \\right)} \\right)}$"
      ],
      "text/plain": [
       "lambda(sigma_apply(V))"
      ]
     },
     "execution_count": 1,
     "metadata": {},
     "output_type": "execute_result"
    }
   ],
   "source": [
    "L.replace(n(A,B), VL(A,B))#.replace(sigmaApply, sigmaApply_).subs({V(A,B) : n})"
   ]
  },
  {
   "cell_type": "code",
   "execution_count": 65,
   "metadata": {
    "execution": {
     "iopub.execute_input": "2020-10-03T08:31:34.836756Z",
     "iopub.status.busy": "2020-10-03T08:31:34.833796Z",
     "iopub.status.idle": "2020-10-03T08:31:34.861891Z",
     "shell.execute_reply": "2020-10-03T08:31:34.866195Z"
    },
    "lines_to_next_cell": 0,
    "title": "codecell"
   },
   "outputs": [
    {
     "data": {
      "text/latex": [
       "$\\displaystyle \\lambda{\\left(\\sigma_{apply}{\\left(\\left( \\left( X, \\  W\\right) \\mapsto V \\right) \\right)} \\right)}$"
      ],
      "text/plain": [
       "lambda(sigma_apply(Lambda((X, W), V)))"
      ]
     },
     "execution_count": 1,
     "metadata": {},
     "output_type": "execute_result"
    }
   ],
   "source": [
    "lambd(sigmaApply(VL))"
   ]
  },
  {
   "cell_type": "code",
   "execution_count": 66,
   "metadata": {
    "execution": {
     "iopub.execute_input": "2020-10-03T08:31:34.871996Z",
     "iopub.status.busy": "2020-10-03T08:31:34.869781Z",
     "iopub.status.idle": "2020-10-03T08:31:34.899989Z",
     "shell.execute_reply": "2020-10-03T08:31:34.902337Z"
    },
    "lines_to_next_cell": 0,
    "title": "codecell"
   },
   "outputs": [
    {
     "data": {
      "text/latex": [
       "$\\displaystyle \\lambda{\\left(\\sigma_{apply}{\\left(v{\\left(X,W \\right)} \\right)} \\right)}$"
      ],
      "text/plain": [
       "lambda(sigma_apply(v(X, W)))"
      ]
     },
     "execution_count": 1,
     "metadata": {},
     "output_type": "execute_result"
    }
   ],
   "source": [
    "lambd(sigmaApply(VL)).replace(VL, n(A,B))"
   ]
  },
  {
   "cell_type": "code",
   "execution_count": 67,
   "metadata": {
    "execution": {
     "iopub.execute_input": "2020-10-03T08:31:34.921985Z",
     "iopub.status.busy": "2020-10-03T08:31:34.913826Z",
     "iopub.status.idle": "2020-10-03T08:31:35.073622Z",
     "shell.execute_reply": "2020-10-03T08:31:35.074853Z"
    },
    "lines_to_next_cell": 0,
    "title": "codecell"
   },
   "outputs": [
    {
     "data": {
      "text/latex": [
       "$\\displaystyle \\left. \\frac{d}{d \\xi_{1}} \\sigma_{apply}{\\left(\\xi_{1} \\right)} \\right|_{\\substack{ \\xi_{1}=\\left( \\left( X, \\  W\\right) \\mapsto V \\right) }} \\frac{d}{d \\sigma_{apply}{\\left(\\left( \\left( X, \\  W\\right) \\mapsto V \\right) \\right)}} \\lambda{\\left(\\sigma_{apply}{\\left(\\left( \\left( X, \\  W\\right) \\mapsto V \\right) \\right)} \\right)} \\frac{d}{d X} \\left(\\left( \\left( X, \\  W\\right) \\mapsto V \\right)\\right)$"
      ],
      "text/plain": [
       "Subs(Derivative(sigma_apply(_xi_1), _xi_1), _xi_1, Lambda((X, W), V))*Derivative(lambda(sigma_apply(Lambda((X, W), V))), sigma_apply(Lambda((X, W), V)))*Derivative(Lambda((X, W), V), X)"
      ]
     },
     "execution_count": 1,
     "metadata": {},
     "output_type": "execute_result"
    }
   ],
   "source": [
    "lambd(sigmaApply(VL)).diff(A)"
   ]
  },
  {
   "cell_type": "code",
   "execution_count": 68,
   "metadata": {
    "execution": {
     "iopub.execute_input": "2020-10-03T08:31:35.085385Z",
     "iopub.status.busy": "2020-10-03T08:31:35.082070Z",
     "iopub.status.idle": "2020-10-03T08:31:35.232880Z",
     "shell.execute_reply": "2020-10-03T08:31:35.234053Z"
    },
    "lines_to_next_cell": 0,
    "title": "codecell"
   },
   "outputs": [
    {
     "data": {
      "text/latex": [
       "$\\displaystyle \\left. \\frac{d}{d \\xi_{1}} \\sigma_{apply}{\\left(\\xi_{1} \\right)} \\right|_{\\substack{ \\xi_{1}=v{\\left(X,W \\right)} }} \\frac{\\partial}{\\partial \\sigma_{apply}{\\left(v{\\left(X,W \\right)} \\right)}} \\lambda{\\left(\\sigma_{apply}{\\left(v{\\left(X,W \\right)} \\right)} \\right)} \\frac{\\partial}{\\partial X} v{\\left(X,W \\right)}$"
      ],
      "text/plain": [
       "Subs(Derivative(sigma_apply(_xi_1), _xi_1), _xi_1, v(X, W))*Derivative(lambda(sigma_apply(v(X, W))), sigma_apply(v(X, W)))*Derivative(v(X, W), X)"
      ]
     },
     "execution_count": 1,
     "metadata": {},
     "output_type": "execute_result"
    }
   ],
   "source": [
    "lambd(sigmaApply(VL)).diff(A).replace(VL, n(A,B))"
   ]
  },
  {
   "cell_type": "code",
   "execution_count": 69,
   "metadata": {
    "execution": {
     "iopub.execute_input": "2020-10-03T08:31:35.242538Z",
     "iopub.status.busy": "2020-10-03T08:31:35.239018Z",
     "iopub.status.idle": "2020-10-03T08:31:35.265302Z",
     "shell.execute_reply": "2020-10-03T08:31:35.267992Z"
    },
    "lines_to_next_cell": 0,
    "title": "codecell"
   },
   "outputs": [
    {
     "data": {
      "text/latex": [
       "$\\displaystyle \\lambda{\\left(\\sigma_{apply}{\\left(\\left( \\left( X, \\  W\\right) \\mapsto V \\right) \\right)} \\right)}$"
      ],
      "text/plain": [
       "lambda(sigma_apply(Lambda((X, W), V)))"
      ]
     },
     "execution_count": 1,
     "metadata": {},
     "output_type": "execute_result"
    }
   ],
   "source": [
    "lambd(sigmaApply(VL))#.replace(sigmaApply, sigmaApply_)#replace(V, n(A,B)).replace(sigmaApply, sigmaApply_)"
   ]
  },
  {
   "cell_type": "code",
   "execution_count": 70,
   "metadata": {
    "execution": {
     "iopub.execute_input": "2020-10-03T08:31:35.282467Z",
     "iopub.status.busy": "2020-10-03T08:31:35.274582Z",
     "iopub.status.idle": "2020-10-03T08:31:35.309562Z",
     "shell.execute_reply": "2020-10-03T08:31:35.312771Z"
    },
    "lines_to_next_cell": 0,
    "title": "codecell"
   },
   "outputs": [
    {
     "data": {
      "text/latex": [
       "$\\displaystyle {\\left( d \\mapsto \\sigma{\\left(d \\right)} \\right)}_{\\circ}\\left({X}\\right)$"
      ],
      "text/plain": [
       "Lambda(_d, sigma(_d)).(X)"
      ]
     },
     "execution_count": 1,
     "metadata": {},
     "output_type": "execute_result"
    }
   ],
   "source": [
    "# GOAL: want both sigma_apply to be in ---> form composed with the above x,w ---> V form\n",
    "#lambd(sigmaApply(V)).replace(V, Vs).replace(sigmaApply, sigmaApply_).replace(Vs, V(A,B))### ERROR\n",
    "lambd(sigmaApply(n(A,B))).replace(n(A,B), VL)\n",
    "sigmaApply_(A)\n",
    "sigmaApply_L(A)"
   ]
  },
  {
   "cell_type": "code",
   "execution_count": 71,
   "metadata": {
    "execution": {
     "iopub.execute_input": "2020-10-03T08:31:35.324014Z",
     "iopub.status.busy": "2020-10-03T08:31:35.322123Z",
     "iopub.status.idle": "2020-10-03T08:31:35.346998Z",
     "shell.execute_reply": "2020-10-03T08:31:35.348380Z"
    },
    "lines_to_next_cell": 0,
    "title": "codecell"
   },
   "outputs": [
    {
     "data": {
      "text/latex": [
       "$\\displaystyle {\\left( d \\mapsto \\sigma{\\left(d \\right)} \\right)}_{\\circ}\\left({Vs}\\right)$"
      ],
      "text/plain": [
       "Lambda(_d, sigma(_d)).(Vs)"
      ]
     },
     "execution_count": 1,
     "metadata": {},
     "output_type": "execute_result"
    }
   ],
   "source": [
    "sigmaApply(Vs).replace(sigmaApply, sigmaApply_)"
   ]
  },
  {
   "cell_type": "code",
   "execution_count": 72,
   "metadata": {
    "execution": {
     "iopub.execute_input": "2020-10-03T08:31:35.365155Z",
     "iopub.status.busy": "2020-10-03T08:31:35.360646Z",
     "iopub.status.idle": "2020-10-03T08:31:35.389254Z",
     "shell.execute_reply": "2020-10-03T08:31:35.391287Z"
    },
    "title": "codecell"
   },
   "outputs": [
    {
     "data": {
      "text/latex": [
       "$\\displaystyle {\\left( d \\mapsto \\sigma{\\left(d \\right)} \\right)}_{\\circ}\\left({V}\\right)$"
      ],
      "text/plain": [
       "Lambda(_d, sigma(_d)).(V)"
      ]
     },
     "execution_count": 1,
     "metadata": {},
     "output_type": "execute_result"
    }
   ],
   "source": [
    "sigmaApply(VL(A,B)).replace(sigmaApply, sigmaApply_)#.replace(V(A,B), V)#.subs({sigmaApply: sigmaApply_L})"
   ]
  },
  {
   "cell_type": "code",
   "execution_count": 73,
   "metadata": {
    "execution": {
     "iopub.execute_input": "2020-10-03T08:31:35.403075Z",
     "iopub.status.busy": "2020-10-03T08:31:35.396214Z",
     "iopub.status.idle": "2020-10-03T08:31:35.413119Z",
     "shell.execute_reply": "2020-10-03T08:31:35.414285Z"
    },
    "title": "codecell"
   },
   "outputs": [],
   "source": [
    "#sigmaApply(Vs).subs({Vs : V, sigmaApply: sigmaApply_L}) ### ERROR must be matrix instance\n",
    "#sigmaApply(Vs).replace(sigmaApply , sigmaApply_L).subs({Vs : V})\n",
    "#sigmaApply(V).replace(sigmaApply, sigmaApply_L)"
   ]
  },
  {
   "cell_type": "code",
   "execution_count": 74,
   "metadata": {
    "execution": {
     "iopub.execute_input": "2020-10-03T08:31:35.429288Z",
     "iopub.status.busy": "2020-10-03T08:31:35.419472Z",
     "iopub.status.idle": "2020-10-03T08:31:35.451006Z",
     "shell.execute_reply": "2020-10-03T08:31:35.454235Z"
    },
    "lines_to_next_cell": 0,
    "title": "codecell"
   },
   "outputs": [
    {
     "data": {
      "text/latex": [
       "$\\displaystyle \\left( \\left( X, \\  W\\right) \\mapsto \\left( \\left( X, \\  W\\right) \\mapsto V \\right) \\right)$"
      ],
      "text/plain": [
       "Lambda((X, W), Lambda((X, W), V))"
      ]
     },
     "execution_count": 1,
     "metadata": {},
     "output_type": "execute_result"
    }
   ],
   "source": [
    "\n",
    "sa = Lambda((A,B), VL)\n",
    "sa"
   ]
  },
  {
   "cell_type": "code",
   "execution_count": 75,
   "metadata": {
    "execution": {
     "iopub.execute_input": "2020-10-03T08:31:35.460543Z",
     "iopub.status.busy": "2020-10-03T08:31:35.458005Z",
     "iopub.status.idle": "2020-10-03T08:31:35.469821Z",
     "shell.execute_reply": "2020-10-03T08:31:35.476474Z"
    },
    "lines_to_next_cell": 0,
    "title": "codecell"
   },
   "outputs": [],
   "source": [
    "### ALTERNATE try of declaring a sigma-apply kind of function\n",
    "#sas = Lambda((A,B), Vs.applyfunc(sigma))"
   ]
  },
  {
   "cell_type": "code",
   "execution_count": 76,
   "metadata": {
    "execution": {
     "iopub.execute_input": "2020-10-03T08:31:35.489393Z",
     "iopub.status.busy": "2020-10-03T08:31:35.481559Z",
     "iopub.status.idle": "2020-10-03T08:31:35.507557Z",
     "shell.execute_reply": "2020-10-03T08:31:35.512524Z"
    },
    "lines_to_next_cell": 0,
    "title": "codecell"
   },
   "outputs": [
    {
     "data": {
      "text/latex": [
       "$\\displaystyle \\left( \\left( X, \\  W\\right) \\mapsto \\sigma{\\left(\\left( \\left( X, \\  W\\right) \\mapsto V \\right) \\right)} \\right)$"
      ],
      "text/plain": [
       "Lambda((X, W), sigma(Lambda((X, W), V)))"
      ]
     },
     "execution_count": 1,
     "metadata": {},
     "output_type": "execute_result"
    }
   ],
   "source": [
    "Lambda((A,B), sigma(VL))"
   ]
  },
  {
   "cell_type": "code",
   "execution_count": 77,
   "metadata": {
    "execution": {
     "iopub.execute_input": "2020-10-03T08:31:35.519457Z",
     "iopub.status.busy": "2020-10-03T08:31:35.516380Z",
     "iopub.status.idle": "2020-10-03T08:31:35.549934Z",
     "shell.execute_reply": "2020-10-03T08:31:35.551048Z"
    },
    "title": "codecell"
   },
   "outputs": [
    {
     "data": {
      "text/latex": [
       "$\\displaystyle \\frac{d}{d X} \\left(\\left( \\left( X, \\  W\\right) \\mapsto \\sigma{\\left(\\left( \\left( X, \\  W\\right) \\mapsto V \\right) \\right)} \\right)\\right)$"
      ],
      "text/plain": [
       "Derivative(Lambda((X, W), sigma(Lambda((X, W), V))), X)"
      ]
     },
     "execution_count": 1,
     "metadata": {},
     "output_type": "execute_result"
    }
   ],
   "source": [
    "Lambda((A,B), sigma(VL)).diff(A) # nothing useful with this format, and weird-wrong since doesn't do chain rule wi.r. to sigma"
   ]
  },
  {
   "cell_type": "code",
   "execution_count": 78,
   "metadata": {
    "execution": {
     "iopub.execute_input": "2020-10-03T08:31:35.565199Z",
     "iopub.status.busy": "2020-10-03T08:31:35.560263Z",
     "iopub.status.idle": "2020-10-03T08:31:35.584246Z",
     "shell.execute_reply": "2020-10-03T08:31:35.585375Z"
    },
    "lines_to_next_cell": 0,
    "title": "codecell"
   },
   "outputs": [
    {
     "data": {
      "text/latex": [
       "$\\displaystyle \\left( \\left( X, \\  W\\right) \\mapsto \\sigma{\\left(V \\right)} \\right)$"
      ],
      "text/plain": [
       "Lambda((X, W), sigma(V))"
      ]
     },
     "execution_count": 1,
     "metadata": {},
     "output_type": "execute_result"
    }
   ],
   "source": [
    "Lambda((A,B), sigma(VL(A,B)))"
   ]
  },
  {
   "cell_type": "code",
   "execution_count": 79,
   "metadata": {
    "execution": {
     "iopub.execute_input": "2020-10-03T08:31:35.597481Z",
     "iopub.status.busy": "2020-10-03T08:31:35.595875Z",
     "iopub.status.idle": "2020-10-03T08:31:35.622848Z",
     "shell.execute_reply": "2020-10-03T08:31:35.627781Z"
    },
    "lines_to_next_cell": 0,
    "title": "codecell"
   },
   "outputs": [
    {
     "data": {
      "text/latex": [
       "$\\displaystyle \\left( \\left( X, \\  W\\right) \\mapsto {\\left( d \\mapsto \\sigma{\\left(d \\right)} \\right)}_{\\circ}\\left({V}\\right) \\right)$"
      ],
      "text/plain": [
       "Lambda((X, W), Lambda(_d, sigma(_d)).(V))"
      ]
     },
     "execution_count": 1,
     "metadata": {},
     "output_type": "execute_result"
    }
   ],
   "source": [
    "sas = Lambda((A,B), VL(A,B).applyfunc(sigma))\n",
    "\n",
    "sas"
   ]
  },
  {
   "cell_type": "code",
   "execution_count": 80,
   "metadata": {
    "execution": {
     "iopub.execute_input": "2020-10-03T08:31:35.633988Z",
     "iopub.status.busy": "2020-10-03T08:31:35.632429Z",
     "iopub.status.idle": "2020-10-03T08:31:35.663044Z",
     "shell.execute_reply": "2020-10-03T08:31:35.665486Z"
    },
    "lines_to_next_cell": 0,
    "title": "codecell"
   },
   "outputs": [
    {
     "data": {
      "text/latex": [
       "$\\displaystyle \\sigma{\\left(\\left( \\left( X, \\  W\\right) \\mapsto V \\right) \\right)}$"
      ],
      "text/plain": [
       "sigma(Lambda((X, W), V))"
      ]
     },
     "execution_count": 1,
     "metadata": {},
     "output_type": "execute_result"
    }
   ],
   "source": [
    "# YAY this works now I can replace MATRIX SYMBOLS with ordinary sympy LAMBDAS (replace cano only replace same kind of thing / type)\n",
    "sigma(Vs).subs(Vs, VL)\n",
    "#"
   ]
  },
  {
   "cell_type": "code",
   "execution_count": 81,
   "metadata": {
    "execution": {
     "iopub.execute_input": "2020-10-03T08:31:35.674828Z",
     "iopub.status.busy": "2020-10-03T08:31:35.669468Z",
     "iopub.status.idle": "2020-10-03T08:31:35.697707Z",
     "shell.execute_reply": "2020-10-03T08:31:35.700176Z"
    },
    "lines_to_next_cell": 0,
    "title": "codecell"
   },
   "outputs": [
    {
     "data": {
      "text/latex": [
       "$\\displaystyle {\\left( d \\mapsto \\sigma{\\left(d \\right)} \\right)}_{\\circ}\\left({V}\\right)$"
      ],
      "text/plain": [
       "Lambda(_d, sigma(_d)).(V)"
      ]
     },
     "execution_count": 1,
     "metadata": {},
     "output_type": "execute_result"
    }
   ],
   "source": [
    "sas(A,B)"
   ]
  },
  {
   "cell_type": "code",
   "execution_count": 82,
   "metadata": {
    "execution": {
     "iopub.execute_input": "2020-10-03T08:31:35.714603Z",
     "iopub.status.busy": "2020-10-03T08:31:35.703825Z",
     "iopub.status.idle": "2020-10-03T08:31:35.735307Z",
     "shell.execute_reply": "2020-10-03T08:31:35.736485Z"
    },
    "lines_to_next_cell": 0,
    "title": "codecell"
   },
   "outputs": [
    {
     "data": {
      "text/latex": [
       "$\\displaystyle \\lambda{\\left(\\sigma_{apply}{\\left(v{\\left(X,W \\right)} \\right)} \\right)}$"
      ],
      "text/plain": [
       "lambda(sigma_apply(v(X, W)))"
      ]
     },
     "execution_count": 1,
     "metadata": {},
     "output_type": "execute_result"
    }
   ],
   "source": [
    "# A.applyfunc(sigma).subs(A, VL)# subs method doesn't work here with applyfunc\n",
    "L"
   ]
  },
  {
   "cell_type": "code",
   "execution_count": 83,
   "metadata": {
    "execution": {
     "iopub.execute_input": "2020-10-03T08:31:35.746507Z",
     "iopub.status.busy": "2020-10-03T08:31:35.741543Z",
     "iopub.status.idle": "2020-10-03T08:31:35.754011Z",
     "shell.execute_reply": "2020-10-03T08:31:35.762624Z"
    },
    "title": "codecell"
   },
   "outputs": [],
   "source": [
    "#sas(A,B).replace(V, V(A,B))"
   ]
  },
  {
   "cell_type": "code",
   "execution_count": 84,
   "metadata": {
    "execution": {
     "iopub.execute_input": "2020-10-03T08:31:35.771720Z",
     "iopub.status.busy": "2020-10-03T08:31:35.769979Z",
     "iopub.status.idle": "2020-10-03T08:31:35.792875Z",
     "shell.execute_reply": "2020-10-03T08:31:35.795425Z"
    },
    "title": "codecell"
   },
   "outputs": [
    {
     "data": {
      "text/latex": [
       "$\\displaystyle \\left( M \\mapsto {\\left( d \\mapsto \\sigma{\\left(d \\right)} \\right)}_{\\circ}\\left({M}\\right) \\right)$"
      ],
      "text/plain": [
       "Lambda(M, Lambda(_d, sigma(_d)).(M))"
      ]
     },
     "execution_count": 1,
     "metadata": {},
     "output_type": "execute_result"
    }
   ],
   "source": [
    "sigmaApply_L"
   ]
  },
  {
   "cell_type": "code",
   "execution_count": 85,
   "metadata": {
    "execution": {
     "iopub.execute_input": "2020-10-03T08:31:35.812937Z",
     "iopub.status.busy": "2020-10-03T08:31:35.806961Z",
     "iopub.status.idle": "2020-10-03T08:31:35.831016Z",
     "shell.execute_reply": "2020-10-03T08:31:35.837414Z"
    },
    "lines_to_next_cell": 0,
    "title": "codecell"
   },
   "outputs": [
    {
     "data": {
      "text/latex": [
       "$\\displaystyle {\\left( d \\mapsto \\sigma{\\left(d \\right)} \\right)}_{\\circ}\\left({M}\\right)$"
      ],
      "text/plain": [
       "Lambda(_d, sigma(_d)).(M)"
      ]
     },
     "execution_count": 1,
     "metadata": {},
     "output_type": "execute_result"
    }
   ],
   "source": [
    "sigmaApply_L(M)"
   ]
  },
  {
   "cell_type": "code",
   "execution_count": 86,
   "metadata": {
    "execution": {
     "iopub.execute_input": "2020-10-03T08:31:35.843807Z",
     "iopub.status.busy": "2020-10-03T08:31:35.841152Z",
     "iopub.status.idle": "2020-10-03T08:31:35.868683Z",
     "shell.execute_reply": "2020-10-03T08:31:35.870683Z"
    },
    "lines_to_next_cell": 0,
    "title": "codecell"
   },
   "outputs": [
    {
     "data": {
      "text/latex": [
       "$\\displaystyle {\\left( d \\mapsto \\sigma{\\left(d \\right)} \\right)}_{\\circ}\\left({M}\\right)$"
      ],
      "text/plain": [
       "Lambda(_d, sigma(_d)).(M)"
      ]
     },
     "execution_count": 1,
     "metadata": {},
     "output_type": "execute_result"
    }
   ],
   "source": [
    "#sigmaApply_LFake = Lambda(M, M.applyfunc(sigma))\n",
    "sigmaApply(M).replace(sigmaApply, sigmaApply_L)"
   ]
  },
  {
   "cell_type": "code",
   "execution_count": 87,
   "metadata": {
    "execution": {
     "iopub.execute_input": "2020-10-03T08:31:35.886038Z",
     "iopub.status.busy": "2020-10-03T08:31:35.881805Z",
     "iopub.status.idle": "2020-10-03T08:31:35.902025Z",
     "shell.execute_reply": "2020-10-03T08:31:35.903209Z"
    },
    "title": "codecell"
   },
   "outputs": [],
   "source": [
    "#sigmaApply(M).replace(sigmaApply, sigmaApply_).subs(M, n(A,B))\n",
    "n = Function(\"v\", applyfunc=True)\n",
    "#sigmaApply_(Vs.subs(Vs, Lambda((A,B), n(A,B))))\n",
    "from sympy import lambdify\n",
    "#sigma(lambdify([A,B], n(A,B)))\n",
    "\n",
    "#inner = Lambda((A,B), n(A,B)); inner\n",
    "\n",
    "#sigmaApply_(n(A,B))\n",
    "#sigmaApply(inner).replace(sigmaApply, Lambda(A, sigma(A)))"
   ]
  },
  {
   "cell_type": "code",
   "execution_count": 88,
   "metadata": {
    "execution": {
     "iopub.execute_input": "2020-10-03T08:31:35.911240Z",
     "iopub.status.busy": "2020-10-03T08:31:35.909619Z",
     "iopub.status.idle": "2020-10-03T08:31:35.935148Z",
     "shell.execute_reply": "2020-10-03T08:31:35.936541Z"
    },
    "lines_to_next_cell": 0,
    "title": "codecell"
   },
   "outputs": [
    {
     "data": {
      "text/latex": [
       "$\\displaystyle \\left( d \\mapsto \\sigma{\\left(d \\right)} \\right)$"
      ],
      "text/plain": [
       "Lambda(d, sigma(d))"
      ]
     },
     "execution_count": 1,
     "metadata": {},
     "output_type": "execute_result"
    }
   ],
   "source": [
    "#sigmaApply_L(M).subs(M, inner)\n",
    "Lambda(d, sigma(d))"
   ]
  },
  {
   "cell_type": "code",
   "execution_count": 89,
   "metadata": {
    "execution": {
     "iopub.execute_input": "2020-10-03T08:31:35.946730Z",
     "iopub.status.busy": "2020-10-03T08:31:35.945081Z",
     "iopub.status.idle": "2020-10-03T08:31:35.958649Z",
     "shell.execute_reply": "2020-10-03T08:31:35.959771Z"
    },
    "lines_to_next_cell": 2,
    "title": "codecell"
   },
   "outputs": [],
   "source": [
    "### CLOSEST ever gotten to function composition (?) with sympy ....\n",
    "#Lambda(d, sigma(inner))"
   ]
  },
  {
   "cell_type": "code",
   "execution_count": 90,
   "metadata": {
    "execution": {
     "iopub.execute_input": "2020-10-03T08:31:35.970378Z",
     "iopub.status.busy": "2020-10-03T08:31:35.967864Z",
     "iopub.status.idle": "2020-10-03T08:31:35.979220Z",
     "shell.execute_reply": "2020-10-03T08:31:35.983020Z"
    },
    "lines_to_next_cell": 0,
    "title": "codecell"
   },
   "outputs": [],
   "source": [
    "#Lambda(d, sigma(inner)).diff(A)"
   ]
  },
  {
   "cell_type": "code",
   "execution_count": 91,
   "metadata": {
    "execution": {
     "iopub.execute_input": "2020-10-03T08:31:35.996126Z",
     "iopub.status.busy": "2020-10-03T08:31:35.988890Z",
     "iopub.status.idle": "2020-10-03T08:31:36.004450Z",
     "shell.execute_reply": "2020-10-03T08:31:36.006935Z"
    },
    "title": "codecell"
   },
   "outputs": [],
   "source": [
    "#Lambda(d, sigma(inner)).replace(inner, vL(A,B)).diff(A)"
   ]
  },
  {
   "cell_type": "code",
   "execution_count": 92,
   "metadata": {
    "lines_to_next_cell": 0,
    "title": "codecell"
   },
   "outputs": [],
   "source": []
  },
  {
   "cell_type": "code",
   "execution_count": 92,
   "metadata": {
    "lines_to_next_cell": 0,
    "title": "codecell"
   },
   "outputs": [],
   "source": []
  },
  {
   "cell_type": "code",
   "execution_count": 92,
   "metadata": {
    "execution": {
     "iopub.execute_input": "2020-10-03T08:31:36.020173Z",
     "iopub.status.busy": "2020-10-03T08:31:36.013451Z",
     "iopub.status.idle": "2020-10-03T08:31:36.025905Z",
     "shell.execute_reply": "2020-10-03T08:31:36.032670Z"
    },
    "lines_to_next_cell": 0,
    "title": "codecell"
   },
   "outputs": [],
   "source": [
    "# sigmaApply_L(M).subs(M, VL)# new subs method fails here too\n",
    "#sigmaApply_(M).subs(M, VL)"
   ]
  },
  {
   "cell_type": "code",
   "execution_count": 93,
   "metadata": {
    "execution": {
     "iopub.execute_input": "2020-10-03T08:31:36.038751Z",
     "iopub.status.busy": "2020-10-03T08:31:36.037733Z",
     "iopub.status.idle": "2020-10-03T08:31:36.224246Z",
     "shell.execute_reply": "2020-10-03T08:31:36.228805Z"
    },
    "lines_to_next_cell": 0,
    "title": "codecell"
   },
   "outputs": [
    {
     "data": {
      "text/latex": [
       "$\\displaystyle {\\left( d \\mapsto \\frac{d}{d d} \\sigma{\\left(d \\right)} \\right)}_{\\circ}\\left({M}\\right)$"
      ],
      "text/plain": [
       "Lambda(_d, Derivative(sigma(_d), _d)).(M)"
      ]
     },
     "execution_count": 1,
     "metadata": {},
     "output_type": "execute_result"
    }
   ],
   "source": [
    "sigmaApply_L(M).diff(M)"
   ]
  },
  {
   "cell_type": "code",
   "execution_count": 94,
   "metadata": {
    "lines_to_next_cell": 0,
    "title": "codecell"
   },
   "outputs": [],
   "source": []
  },
  {
   "cell_type": "code",
   "execution_count": 94,
   "metadata": {
    "lines_to_next_cell": 0,
    "title": "codecell"
   },
   "outputs": [],
   "source": []
  },
  {
   "cell_type": "code",
   "execution_count": 94,
   "metadata": {
    "execution": {
     "iopub.execute_input": "2020-10-03T08:31:36.237550Z",
     "iopub.status.busy": "2020-10-03T08:31:36.233025Z",
     "iopub.status.idle": "2020-10-03T08:31:36.265430Z",
     "shell.execute_reply": "2020-10-03T08:31:36.266605Z"
    },
    "lines_to_next_cell": 0,
    "title": "codecell"
   },
   "outputs": [
    {
     "data": {
      "text/latex": [
       "$\\displaystyle \\sigma{\\left(\\left( \\left( X, \\  W\\right) \\mapsto V \\right) \\right)}$"
      ],
      "text/plain": [
       "sigma(Lambda((X, W), V))"
      ]
     },
     "execution_count": 1,
     "metadata": {},
     "output_type": "execute_result"
    }
   ],
   "source": [
    "sigma(VL)#.replace(V, V(A,B))"
   ]
  },
  {
   "cell_type": "code",
   "execution_count": 95,
   "metadata": {
    "execution": {
     "iopub.execute_input": "2020-10-03T08:31:36.277556Z",
     "iopub.status.busy": "2020-10-03T08:31:36.273334Z",
     "iopub.status.idle": "2020-10-03T08:31:36.300876Z",
     "shell.execute_reply": "2020-10-03T08:31:36.305862Z"
    },
    "lines_to_next_cell": 0,
    "title": "codecell"
   },
   "outputs": [
    {
     "data": {
      "text/latex": [
       "$\\displaystyle \\sigma{\\left(V \\right)}$"
      ],
      "text/plain": [
       "sigma(V)"
      ]
     },
     "execution_count": 1,
     "metadata": {},
     "output_type": "execute_result"
    }
   ],
   "source": [
    "sigma(VL).replace(VL, VL(A,B))"
   ]
  },
  {
   "cell_type": "code",
   "execution_count": 96,
   "metadata": {
    "execution": {
     "iopub.execute_input": "2020-10-03T08:31:36.312318Z",
     "iopub.status.busy": "2020-10-03T08:31:36.309467Z",
     "iopub.status.idle": "2020-10-03T08:31:36.322634Z",
     "shell.execute_reply": "2020-10-03T08:31:36.329667Z"
    },
    "title": "codecell"
   },
   "outputs": [],
   "source": [
    "#sigma(V).replace(V, VL)"
   ]
  },
  {
   "cell_type": "code",
   "execution_count": 97,
   "metadata": {
    "lines_to_next_cell": 0,
    "title": "codecell"
   },
   "outputs": [],
   "source": []
  },
  {
   "cell_type": "code",
   "execution_count": 97,
   "metadata": {
    "title": "codecell"
   },
   "outputs": [],
   "source": []
  },
  {
   "cell_type": "code",
   "execution_count": 97,
   "metadata": {
    "execution": {
     "iopub.execute_input": "2020-10-03T08:31:36.335603Z",
     "iopub.status.busy": "2020-10-03T08:31:36.333771Z",
     "iopub.status.idle": "2020-10-03T08:31:36.370743Z",
     "shell.execute_reply": "2020-10-03T08:31:36.375909Z"
    },
    "lines_to_next_cell": 0,
    "title": "codecell"
   },
   "outputs": [
    {
     "data": {
      "text/latex": [
       "$\\displaystyle f{\\left(\\left( x \\mapsto x \\right) \\right)}$"
      ],
      "text/plain": [
       "f(Lambda(_x, _x))"
      ]
     },
     "execution_count": 1,
     "metadata": {},
     "output_type": "execute_result"
    }
   ],
   "source": [
    "f = Function('f')\n",
    "xtoxL = Lambda(a, a)\n",
    "xtox = lambda a: a\n",
    "\n",
    "f(x).subs({x : xtoxL})"
   ]
  },
  {
   "cell_type": "code",
   "execution_count": 98,
   "metadata": {
    "execution": {
     "iopub.execute_input": "2020-10-03T08:31:36.385099Z",
     "iopub.status.busy": "2020-10-03T08:31:36.380435Z",
     "iopub.status.idle": "2020-10-03T08:31:36.405190Z",
     "shell.execute_reply": "2020-10-03T08:31:36.406254Z"
    },
    "lines_to_next_cell": 0,
    "title": "codecell"
   },
   "outputs": [
    {
     "data": {
      "text/latex": [
       "$\\displaystyle f{\\left(x \\right)}$"
      ],
      "text/plain": [
       "f(x)"
      ]
     },
     "execution_count": 1,
     "metadata": {},
     "output_type": "execute_result"
    }
   ],
   "source": [
    "f(x).subs(x, xtox)# works but below one with replace doesn't. When replacing arg with function uses SUBS without dictionary (instead of replace)"
   ]
  },
  {
   "cell_type": "code",
   "execution_count": 99,
   "metadata": {
    "execution": {
     "iopub.execute_input": "2020-10-03T08:31:36.421190Z",
     "iopub.status.busy": "2020-10-03T08:31:36.419391Z",
     "iopub.status.idle": "2020-10-03T08:31:36.438796Z",
     "shell.execute_reply": "2020-10-03T08:31:36.447105Z"
    },
    "lines_to_next_cell": 0,
    "title": "codecell"
   },
   "outputs": [
    {
     "data": {
      "text/latex": [
       "$\\displaystyle f{\\left(\\left( x \\mapsto x \\right) \\right)}$"
      ],
      "text/plain": [
       "f(Lambda(_x, _x))"
      ]
     },
     "execution_count": 1,
     "metadata": {},
     "output_type": "execute_result"
    }
   ],
   "source": [
    "# f(x).replace(x, xtox)### ERROR xtox expects one positional argument ( I think replace only replaces the same kind of thing, never for instance a matrix symbol for a function or vice versa. the replacement needs to be of the same type / kind. But Lambda seems to work (as above))\n",
    "f(x).replace(x, xtoxL)"
   ]
  },
  {
   "cell_type": "code",
   "execution_count": 100,
   "metadata": {
    "lines_to_next_cell": 0,
    "title": "codecell"
   },
   "outputs": [],
   "source": []
  },
  {
   "cell_type": "code",
   "execution_count": 100,
   "metadata": {
    "lines_to_next_cell": 0,
    "title": "codecell"
   },
   "outputs": [],
   "source": []
  },
  {
   "cell_type": "code",
   "execution_count": 100,
   "metadata": {
    "execution": {
     "iopub.execute_input": "2020-10-03T08:31:36.457315Z",
     "iopub.status.busy": "2020-10-03T08:31:36.452300Z",
     "iopub.status.idle": "2020-10-03T08:31:36.463629Z",
     "shell.execute_reply": "2020-10-03T08:31:36.464802Z"
    },
    "lines_to_next_cell": 2,
    "title": "codecell"
   },
   "outputs": [],
   "source": [
    "#lambd(sigmaApply(n(A,B))).replace(n(A,B), Vs).replace(sigmaApply, sigmaApply_).replace(Vs, V)# ### ERROR rec replace must be matrix instance ...."
   ]
  },
  {
   "cell_type": "code",
   "execution_count": 101,
   "metadata": {
    "lines_to_next_cell": 0,
    "title": "codecell"
   },
   "outputs": [],
   "source": []
  },
  {
   "cell_type": "code",
   "execution_count": 101,
   "metadata": {
    "title": "codecell"
   },
   "outputs": [],
   "source": []
  },
  {
   "cell_type": "code",
   "execution_count": 101,
   "metadata": {
    "lines_to_next_cell": 0,
    "title": "codecell"
   },
   "outputs": [],
   "source": []
  },
  {
   "cell_type": "code",
   "execution_count": 101,
   "metadata": {
    "execution": {
     "iopub.execute_input": "2020-10-03T08:31:36.483912Z",
     "iopub.status.busy": "2020-10-03T08:31:36.476737Z",
     "iopub.status.idle": "2020-10-03T08:31:36.552622Z",
     "shell.execute_reply": "2020-10-03T08:31:36.555469Z"
    },
    "lines_to_next_cell": 0,
    "title": "codecell"
   },
   "outputs": [
    {
     "data": {
      "text/latex": [
       "$\\displaystyle X_{0, 0} + X_{0, 1} + X_{0, 2} + X_{1, 0} + X_{1, 1} + X_{1, 2} + X_{2, 0} + X_{2, 1} + X_{2, 2}$"
      ],
      "text/plain": [
       "X[0, 0] + X[0, 1] + X[0, 2] + X[1, 0] + X[1, 1] + X[1, 2] + X[2, 0] + X[2, 1] + X[2, 2]"
      ]
     },
     "execution_count": 1,
     "metadata": {},
     "output_type": "execute_result"
    }
   ],
   "source": [
    "### METHOD 0: the matrix diff rule in the most abstract form possible\n",
    "n = Function(\"v\", applyfunc=True) # necessary\n",
    "L = lambd(sigmaApply(n(A,B)))\n",
    "\n",
    "lambd_L = Lambda(A, sum(A))\n",
    "\n",
    "lambd_L(A)"
   ]
  },
  {
   "cell_type": "code",
   "execution_count": 102,
   "metadata": {
    "execution": {
     "iopub.execute_input": "2020-10-03T08:31:36.563471Z",
     "iopub.status.busy": "2020-10-03T08:31:36.559039Z",
     "iopub.status.idle": "2020-10-03T08:31:36.619545Z",
     "shell.execute_reply": "2020-10-03T08:31:36.620758Z"
    },
    "title": "codecell"
   },
   "outputs": [
    {
     "data": {
      "text/latex": [
       "$\\displaystyle \\left(\\sigma_{apply}{\\left(v{\\left(X,W \\right)} \\right)}\\right)_{0, 0} + \\left(\\sigma_{apply}{\\left(v{\\left(X,W \\right)} \\right)}\\right)_{0, 1} + \\left(\\sigma_{apply}{\\left(v{\\left(X,W \\right)} \\right)}\\right)_{0, 2} + \\left(\\sigma_{apply}{\\left(v{\\left(X,W \\right)} \\right)}\\right)_{1, 0} + \\left(\\sigma_{apply}{\\left(v{\\left(X,W \\right)} \\right)}\\right)_{1, 1} + \\left(\\sigma_{apply}{\\left(v{\\left(X,W \\right)} \\right)}\\right)_{1, 2} + \\left(\\sigma_{apply}{\\left(v{\\left(X,W \\right)} \\right)}\\right)_{2, 0} + \\left(\\sigma_{apply}{\\left(v{\\left(X,W \\right)} \\right)}\\right)_{2, 1} + \\left(\\sigma_{apply}{\\left(v{\\left(X,W \\right)} \\right)}\\right)_{2, 2}$"
      ],
      "text/plain": [
       "(sigma_apply(v(X, W)))[0, 0] + (sigma_apply(v(X, W)))[0, 1] + (sigma_apply(v(X, W)))[0, 2] + (sigma_apply(v(X, W)))[1, 0] + (sigma_apply(v(X, W)))[1, 1] + (sigma_apply(v(X, W)))[1, 2] + (sigma_apply(v(X, W)))[2, 0] + (sigma_apply(v(X, W)))[2, 1] + (sigma_apply(v(X, W)))[2, 2]"
      ]
     },
     "execution_count": 1,
     "metadata": {},
     "output_type": "execute_result"
    }
   ],
   "source": [
    "lambd_L(sigmaApply(n(A,B)))#.replace(n, vL).replace(sigmaApply, sigmaApply_).replace(lambd, lambd_L)"
   ]
  },
  {
   "cell_type": "code",
   "execution_count": 103,
   "metadata": {
    "execution": {
     "iopub.execute_input": "2020-10-03T08:31:36.629701Z",
     "iopub.status.busy": "2020-10-03T08:31:36.624489Z",
     "iopub.status.idle": "2020-10-03T08:31:36.954899Z",
     "shell.execute_reply": "2020-10-03T08:31:36.957169Z"
    },
    "lines_to_next_cell": 0,
    "title": "codecell"
   },
   "outputs": [
    {
     "data": {
      "text/latex": [
       "$\\displaystyle \\left. \\frac{d}{d \\xi_{1}} \\lambda{\\left(\\xi_{1} \\right)} \\right|_{\\substack{ \\xi_{1}={\\left( d \\mapsto \\sigma{\\left(d \\right)} \\right)}_{\\circ}\\left({X W}\\right) }} {\\left( d \\mapsto \\frac{d}{d d} \\sigma{\\left(d \\right)} \\right)}_{\\circ}\\left({X W}\\right) W^{T}$"
      ],
      "text/plain": [
       "Subs(Derivative(lambda(_xi_1), _xi_1), _xi_1, Lambda(_d, sigma(_d)).(X*W))*Lambda(_d, Derivative(sigma(_d), _d)).(X*W)*W.T"
      ]
     },
     "execution_count": 1,
     "metadata": {},
     "output_type": "execute_result"
    }
   ],
   "source": [
    "L.replace(n,vL).replace(sigmaApply, sigmaApply_).diff(A)"
   ]
  },
  {
   "cell_type": "code",
   "execution_count": 104,
   "metadata": {
    "execution": {
     "iopub.execute_input": "2020-10-03T08:31:36.969717Z",
     "iopub.status.busy": "2020-10-03T08:31:36.963593Z",
     "iopub.status.idle": "2020-10-03T08:31:37.298191Z",
     "shell.execute_reply": "2020-10-03T08:31:37.299918Z"
    },
    "lines_to_next_cell": 0,
    "title": "codecell"
   },
   "outputs": [
    {
     "data": {
      "text/latex": [
       "$\\displaystyle \\left. \\frac{d}{d \\xi_{1}} \\lambda{\\left(\\xi_{1} \\right)} \\right|_{\\substack{ \\xi_{1}={\\left( d \\mapsto \\sigma{\\left(d \\right)} \\right)}_{\\circ}\\left({X W}\\right) }} X^{T} {\\left( d \\mapsto \\frac{d}{d d} \\sigma{\\left(d \\right)} \\right)}_{\\circ}\\left({X W}\\right)$"
      ],
      "text/plain": [
       "Subs(Derivative(lambda(_xi_1), _xi_1), _xi_1, Lambda(_d, sigma(_d)).(X*W))*X.T*Lambda(_d, Derivative(sigma(_d), _d)).(X*W)"
      ]
     },
     "execution_count": 1,
     "metadata": {},
     "output_type": "execute_result"
    }
   ],
   "source": [
    "### SUCCESS! We see now that the matrix chain rule indeed makes the X transpose factor out on the left!!! (while compared to the above, the matrix transpose W^T factors out on the right, just like the book says (page 45 in the NOTE section of Seth Weidman book))\n",
    "L.replace(n,v).replace(sigmaApply, sigmaApply_).diff(B)"
   ]
  },
  {
   "cell_type": "code",
   "execution_count": 105,
   "metadata": {
    "execution": {
     "iopub.execute_input": "2020-10-03T08:31:37.314584Z",
     "iopub.status.busy": "2020-10-03T08:31:37.311520Z",
     "iopub.status.idle": "2020-10-03T08:31:37.681734Z",
     "shell.execute_reply": "2020-10-03T08:31:37.686423Z"
    },
    "lines_to_next_cell": 0,
    "title": "codecell"
   },
   "outputs": [
    {
     "data": {
      "text/latex": [
       "$\\displaystyle \\left. \\frac{d}{d \\xi_{1}} \\left(\\xi_{1}_{0, 0} + \\xi_{1}_{0, 1} + \\xi_{1}_{0, 2} + \\xi_{1}_{1, 0} + \\xi_{1}_{1, 1} + \\xi_{1}_{1, 2} + \\xi_{1}_{2, 0} + \\xi_{1}_{2, 1} + \\xi_{1}_{2, 2}\\right) \\right|_{\\substack{ \\xi_{1}={\\left( d \\mapsto \\sigma{\\left(d \\right)} \\right)}_{\\circ}\\left({X W}\\right) }} X^{T} {\\left( d \\mapsto \\frac{d}{d d} \\sigma{\\left(d \\right)} \\right)}_{\\circ}\\left({X W}\\right)$"
      ],
      "text/plain": [
       "Subs(Derivative(_xi_1[0, 0] + _xi_1[0, 1] + _xi_1[0, 2] + _xi_1[1, 0] + _xi_1[1, 1] + _xi_1[1, 2] + _xi_1[2, 0] + _xi_1[2, 1] + _xi_1[2, 2], _xi_1), _xi_1, Lambda(_d, sigma(_d)).(X*W))*X.T*Lambda(_d, Derivative(sigma(_d), _d)).(X*W)"
      ]
     },
     "execution_count": 1,
     "metadata": {},
     "output_type": "execute_result"
    }
   ],
   "source": [
    "# Not showing ???\n",
    "L.replace(n,v).replace(sigmaApply, sigmaApply_).diff(B).replace(lambd, lambd_L)"
   ]
  },
  {
   "cell_type": "code",
   "execution_count": 106,
   "metadata": {
    "execution": {
     "iopub.execute_input": "2020-10-03T08:31:37.696931Z",
     "iopub.status.busy": "2020-10-03T08:31:37.694098Z",
     "iopub.status.idle": "2020-10-03T08:31:37.705955Z",
     "shell.execute_reply": "2020-10-03T08:31:37.709403Z"
    },
    "lines_to_next_cell": 0,
    "title": "codecell"
   },
   "outputs": [],
   "source": [
    "#L.replace(n,v).replace(sigmaApply, sigmaApply_).diff(B).replace(B,W).replace(A,X) # ## ERROR non commutative scalars in matrix\n",
    "# L.replace(n,v).replace(sigmaApply, sigmaApply_).diff(B).replace(lambd, lambd_).replace(B,W).replace(A,X)# ## ERROR dummy object not iterable"
   ]
  },
  {
   "cell_type": "code",
   "execution_count": 107,
   "metadata": {
    "execution": {
     "iopub.execute_input": "2020-10-03T08:31:37.719635Z",
     "iopub.status.busy": "2020-10-03T08:31:37.717867Z",
     "iopub.status.idle": "2020-10-03T08:31:37.733201Z",
     "shell.execute_reply": "2020-10-03T08:31:37.734317Z"
    },
    "lines_to_next_cell": 0,
    "title": "codecell"
   },
   "outputs": [],
   "source": [
    "\n",
    "#L.replace(n,vL).replace(sigmaApply, sigmaApply_).diff(A).replace(lambd, lambd_) ### ERROR: dummy object not iterable (probably means when in the above expression we have epsilon = sigmaApply(XW) that we cannot iterate over this expression)"
   ]
  },
  {
   "cell_type": "code",
   "execution_count": 108,
   "metadata": {
    "execution": {
     "iopub.execute_input": "2020-10-03T08:31:37.745469Z",
     "iopub.status.busy": "2020-10-03T08:31:37.740574Z",
     "iopub.status.idle": "2020-10-03T08:31:37.754873Z",
     "shell.execute_reply": "2020-10-03T08:31:37.758918Z"
    },
    "lines_to_next_cell": 0,
    "title": "codecell"
   },
   "outputs": [],
   "source": [
    "# Replacing lambda first: BAD\n",
    "#L.replace(n, v).replace(lambd, lambd_) ## ERROR sigma apply object not ieterable\n",
    "# Replacing sigma first: BAD\n",
    "# L.replace(sigmaApply, sigmaApply_)### ERROR v object has no attribute applyfunc"
   ]
  },
  {
   "cell_type": "code",
   "execution_count": 109,
   "metadata": {
    "execution": {
     "iopub.execute_input": "2020-10-03T08:31:37.769434Z",
     "iopub.status.busy": "2020-10-03T08:31:37.762771Z",
     "iopub.status.idle": "2020-10-03T08:31:38.596794Z",
     "shell.execute_reply": "2020-10-03T08:31:38.599974Z"
    },
    "lines_to_next_cell": 0,
    "title": "codecell"
   },
   "outputs": [
    {
     "data": {
      "text/latex": [
       "$\\displaystyle \\sigma{\\left(W_{0, 0} X_{0, 0} + W_{1, 0} X_{0, 1} + W_{2, 0} X_{0, 2} \\right)} + \\sigma{\\left(W_{0, 0} X_{1, 0} + W_{1, 0} X_{1, 1} + W_{2, 0} X_{1, 2} \\right)} + \\sigma{\\left(W_{0, 0} X_{2, 0} + W_{1, 0} X_{2, 1} + W_{2, 0} X_{2, 2} \\right)} + \\sigma{\\left(W_{0, 1} X_{0, 0} + W_{1, 1} X_{0, 1} + W_{2, 1} X_{0, 2} \\right)} + \\sigma{\\left(W_{0, 1} X_{1, 0} + W_{1, 1} X_{1, 1} + W_{2, 1} X_{1, 2} \\right)} + \\sigma{\\left(W_{0, 1} X_{2, 0} + W_{1, 1} X_{2, 1} + W_{2, 1} X_{2, 2} \\right)}$"
      ],
      "text/plain": [
       "sigma(W[0, 0]*X[0, 0] + W[1, 0]*X[0, 1] + W[2, 0]*X[0, 2]) + sigma(W[0, 0]*X[1, 0] + W[1, 0]*X[1, 1] + W[2, 0]*X[1, 2]) + sigma(W[0, 0]*X[2, 0] + W[1, 0]*X[2, 1] + W[2, 0]*X[2, 2]) + sigma(W[0, 1]*X[0, 0] + W[1, 1]*X[0, 1] + W[2, 1]*X[0, 2]) + sigma(W[0, 1]*X[1, 0] + W[1, 1]*X[1, 1] + W[2, 1]*X[1, 2]) + sigma(W[0, 1]*X[2, 0] + W[1, 1]*X[2, 1] + W[2, 1]*X[2, 2])"
      ]
     },
     "execution_count": 1,
     "metadata": {},
     "output_type": "execute_result"
    }
   ],
   "source": [
    "# Replacing n first: GOOD (need to go from inner nesting to outermost function, never any other way)\n",
    "L.replace(n, v).replace(sigmaApply, sigmaApply_).replace(lambd, lambd_)"
   ]
  },
  {
   "cell_type": "code",
   "execution_count": 110,
   "metadata": {
    "execution": {
     "iopub.execute_input": "2020-10-03T08:31:38.611188Z",
     "iopub.status.busy": "2020-10-03T08:31:38.608806Z",
     "iopub.status.idle": "2020-10-03T08:31:40.661901Z",
     "shell.execute_reply": "2020-10-03T08:31:40.669428Z"
    },
    "lines_to_next_cell": 0,
    "title": "codecell"
   },
   "outputs": [
    {
     "data": {
      "text/latex": [
       "$\\displaystyle \\left[\\begin{matrix}W_{0, 0} \\left. \\frac{d}{d \\xi_{1}} \\sigma{\\left(\\xi_{1} \\right)} \\right|_{\\substack{ \\xi_{1}=W_{0, 0} X_{0, 0} + W_{1, 0} X_{0, 1} + W_{2, 0} X_{0, 2} }} + W_{0, 1} \\left. \\frac{d}{d \\xi_{1}} \\sigma{\\left(\\xi_{1} \\right)} \\right|_{\\substack{ \\xi_{1}=W_{0, 1} X_{0, 0} + W_{1, 1} X_{0, 1} + W_{2, 1} X_{0, 2} }} & W_{1, 0} \\left. \\frac{d}{d \\xi_{1}} \\sigma{\\left(\\xi_{1} \\right)} \\right|_{\\substack{ \\xi_{1}=W_{0, 0} X_{0, 0} + W_{1, 0} X_{0, 1} + W_{2, 0} X_{0, 2} }} + W_{1, 1} \\left. \\frac{d}{d \\xi_{1}} \\sigma{\\left(\\xi_{1} \\right)} \\right|_{\\substack{ \\xi_{1}=W_{0, 1} X_{0, 0} + W_{1, 1} X_{0, 1} + W_{2, 1} X_{0, 2} }} & W_{2, 0} \\left. \\frac{d}{d \\xi_{1}} \\sigma{\\left(\\xi_{1} \\right)} \\right|_{\\substack{ \\xi_{1}=W_{0, 0} X_{0, 0} + W_{1, 0} X_{0, 1} + W_{2, 0} X_{0, 2} }} + W_{2, 1} \\left. \\frac{d}{d \\xi_{1}} \\sigma{\\left(\\xi_{1} \\right)} \\right|_{\\substack{ \\xi_{1}=W_{0, 1} X_{0, 0} + W_{1, 1} X_{0, 1} + W_{2, 1} X_{0, 2} }}\\\\W_{0, 0} \\left. \\frac{d}{d \\xi_{1}} \\sigma{\\left(\\xi_{1} \\right)} \\right|_{\\substack{ \\xi_{1}=W_{0, 0} X_{1, 0} + W_{1, 0} X_{1, 1} + W_{2, 0} X_{1, 2} }} + W_{0, 1} \\left. \\frac{d}{d \\xi_{1}} \\sigma{\\left(\\xi_{1} \\right)} \\right|_{\\substack{ \\xi_{1}=W_{0, 1} X_{1, 0} + W_{1, 1} X_{1, 1} + W_{2, 1} X_{1, 2} }} & W_{1, 0} \\left. \\frac{d}{d \\xi_{1}} \\sigma{\\left(\\xi_{1} \\right)} \\right|_{\\substack{ \\xi_{1}=W_{0, 0} X_{1, 0} + W_{1, 0} X_{1, 1} + W_{2, 0} X_{1, 2} }} + W_{1, 1} \\left. \\frac{d}{d \\xi_{1}} \\sigma{\\left(\\xi_{1} \\right)} \\right|_{\\substack{ \\xi_{1}=W_{0, 1} X_{1, 0} + W_{1, 1} X_{1, 1} + W_{2, 1} X_{1, 2} }} & W_{2, 0} \\left. \\frac{d}{d \\xi_{1}} \\sigma{\\left(\\xi_{1} \\right)} \\right|_{\\substack{ \\xi_{1}=W_{0, 0} X_{1, 0} + W_{1, 0} X_{1, 1} + W_{2, 0} X_{1, 2} }} + W_{2, 1} \\left. \\frac{d}{d \\xi_{1}} \\sigma{\\left(\\xi_{1} \\right)} \\right|_{\\substack{ \\xi_{1}=W_{0, 1} X_{1, 0} + W_{1, 1} X_{1, 1} + W_{2, 1} X_{1, 2} }}\\\\W_{0, 0} \\left. \\frac{d}{d \\xi_{1}} \\sigma{\\left(\\xi_{1} \\right)} \\right|_{\\substack{ \\xi_{1}=W_{0, 0} X_{2, 0} + W_{1, 0} X_{2, 1} + W_{2, 0} X_{2, 2} }} + W_{0, 1} \\left. \\frac{d}{d \\xi_{1}} \\sigma{\\left(\\xi_{1} \\right)} \\right|_{\\substack{ \\xi_{1}=W_{0, 1} X_{2, 0} + W_{1, 1} X_{2, 1} + W_{2, 1} X_{2, 2} }} & W_{1, 0} \\left. \\frac{d}{d \\xi_{1}} \\sigma{\\left(\\xi_{1} \\right)} \\right|_{\\substack{ \\xi_{1}=W_{0, 0} X_{2, 0} + W_{1, 0} X_{2, 1} + W_{2, 0} X_{2, 2} }} + W_{1, 1} \\left. \\frac{d}{d \\xi_{1}} \\sigma{\\left(\\xi_{1} \\right)} \\right|_{\\substack{ \\xi_{1}=W_{0, 1} X_{2, 0} + W_{1, 1} X_{2, 1} + W_{2, 1} X_{2, 2} }} & W_{2, 0} \\left. \\frac{d}{d \\xi_{1}} \\sigma{\\left(\\xi_{1} \\right)} \\right|_{\\substack{ \\xi_{1}=W_{0, 0} X_{2, 0} + W_{1, 0} X_{2, 1} + W_{2, 0} X_{2, 2} }} + W_{2, 1} \\left. \\frac{d}{d \\xi_{1}} \\sigma{\\left(\\xi_{1} \\right)} \\right|_{\\substack{ \\xi_{1}=W_{0, 1} X_{2, 0} + W_{1, 1} X_{2, 1} + W_{2, 1} X_{2, 2} }}\\end{matrix}\\right]$"
      ],
      "text/plain": [
       "Matrix([\n",
       "[W[0, 0]*Subs(Derivative(sigma(_xi_1), _xi_1), _xi_1, W[0, 0]*X[0, 0] + W[1, 0]*X[0, 1] + W[2, 0]*X[0, 2]) + W[0, 1]*Subs(Derivative(sigma(_xi_1), _xi_1), _xi_1, W[0, 1]*X[0, 0] + W[1, 1]*X[0, 1] + W[2, 1]*X[0, 2]), W[1, 0]*Subs(Derivative(sigma(_xi_1), _xi_1), _xi_1, W[0, 0]*X[0, 0] + W[1, 0]*X[0, 1] + W[2, 0]*X[0, 2]) + W[1, 1]*Subs(Derivative(sigma(_xi_1), _xi_1), _xi_1, W[0, 1]*X[0, 0] + W[1, 1]*X[0, 1] + W[2, 1]*X[0, 2]), W[2, 0]*Subs(Derivative(sigma(_xi_1), _xi_1), _xi_1, W[0, 0]*X[0, 0] + W[1, 0]*X[0, 1] + W[2, 0]*X[0, 2]) + W[2, 1]*Subs(Derivative(sigma(_xi_1), _xi_1), _xi_1, W[0, 1]*X[0, 0] + W[1, 1]*X[0, 1] + W[2, 1]*X[0, 2])],\n",
       "[W[0, 0]*Subs(Derivative(sigma(_xi_1), _xi_1), _xi_1, W[0, 0]*X[1, 0] + W[1, 0]*X[1, 1] + W[2, 0]*X[1, 2]) + W[0, 1]*Subs(Derivative(sigma(_xi_1), _xi_1), _xi_1, W[0, 1]*X[1, 0] + W[1, 1]*X[1, 1] + W[2, 1]*X[1, 2]), W[1, 0]*Subs(Derivative(sigma(_xi_1), _xi_1), _xi_1, W[0, 0]*X[1, 0] + W[1, 0]*X[1, 1] + W[2, 0]*X[1, 2]) + W[1, 1]*Subs(Derivative(sigma(_xi_1), _xi_1), _xi_1, W[0, 1]*X[1, 0] + W[1, 1]*X[1, 1] + W[2, 1]*X[1, 2]), W[2, 0]*Subs(Derivative(sigma(_xi_1), _xi_1), _xi_1, W[0, 0]*X[1, 0] + W[1, 0]*X[1, 1] + W[2, 0]*X[1, 2]) + W[2, 1]*Subs(Derivative(sigma(_xi_1), _xi_1), _xi_1, W[0, 1]*X[1, 0] + W[1, 1]*X[1, 1] + W[2, 1]*X[1, 2])],\n",
       "[W[0, 0]*Subs(Derivative(sigma(_xi_1), _xi_1), _xi_1, W[0, 0]*X[2, 0] + W[1, 0]*X[2, 1] + W[2, 0]*X[2, 2]) + W[0, 1]*Subs(Derivative(sigma(_xi_1), _xi_1), _xi_1, W[0, 1]*X[2, 0] + W[1, 1]*X[2, 1] + W[2, 1]*X[2, 2]), W[1, 0]*Subs(Derivative(sigma(_xi_1), _xi_1), _xi_1, W[0, 0]*X[2, 0] + W[1, 0]*X[2, 1] + W[2, 0]*X[2, 2]) + W[1, 1]*Subs(Derivative(sigma(_xi_1), _xi_1), _xi_1, W[0, 1]*X[2, 0] + W[1, 1]*X[2, 1] + W[2, 1]*X[2, 2]), W[2, 0]*Subs(Derivative(sigma(_xi_1), _xi_1), _xi_1, W[0, 0]*X[2, 0] + W[1, 0]*X[2, 1] + W[2, 0]*X[2, 2]) + W[2, 1]*Subs(Derivative(sigma(_xi_1), _xi_1), _xi_1, W[0, 1]*X[2, 0] + W[1, 1]*X[2, 1] + W[2, 1]*X[2, 2])]])"
      ]
     },
     "execution_count": 1,
     "metadata": {},
     "output_type": "execute_result"
    }
   ],
   "source": [
    "# ### END RESULT of METHOD 2:\n",
    "L.replace(n, v).replace(sigmaApply, sigmaApply_).replace(lambd, lambd_).diff(Matrix(A))"
   ]
  },
  {
   "cell_type": "markdown",
   "execution_count": 111,
   "metadata": {
    "lines_to_next_cell": 0,
    "title": "markdown"
   },
   "source": [
    "Compare the above matrix symbol way with the Lsum way:\n",
    "\n",
    "### END RESULT of METHOD 1:"
   ]
  },
  {
   "cell_type": "code",
   "execution_count": 111,
   "metadata": {
    "execution": {
     "iopub.execute_input": "2020-10-03T08:31:40.675292Z",
     "iopub.status.busy": "2020-10-03T08:31:40.673700Z",
     "iopub.status.idle": "2020-10-03T08:31:41.148568Z",
     "shell.execute_reply": "2020-10-03T08:31:41.152687Z"
    },
    "lines_to_next_cell": 0,
    "title": "codecell"
   },
   "outputs": [
    {
     "data": {
      "text/latex": [
       "$\\displaystyle \\left[\\begin{matrix}w_{11} \\left. \\frac{d}{d \\xi_{1}} \\sigma{\\left(\\xi_{1} \\right)} \\right|_{\\substack{ \\xi_{1}=w_{11} x_{11} + w_{21} x_{12} + w_{31} x_{13} }} + w_{12} \\left. \\frac{d}{d \\xi_{1}} \\sigma{\\left(\\xi_{1} \\right)} \\right|_{\\substack{ \\xi_{1}=w_{12} x_{11} + w_{22} x_{12} + w_{32} x_{13} }} & w_{21} \\left. \\frac{d}{d \\xi_{1}} \\sigma{\\left(\\xi_{1} \\right)} \\right|_{\\substack{ \\xi_{1}=w_{11} x_{11} + w_{21} x_{12} + w_{31} x_{13} }} + w_{22} \\left. \\frac{d}{d \\xi_{1}} \\sigma{\\left(\\xi_{1} \\right)} \\right|_{\\substack{ \\xi_{1}=w_{12} x_{11} + w_{22} x_{12} + w_{32} x_{13} }} & w_{31} \\left. \\frac{d}{d \\xi_{1}} \\sigma{\\left(\\xi_{1} \\right)} \\right|_{\\substack{ \\xi_{1}=w_{11} x_{11} + w_{21} x_{12} + w_{31} x_{13} }} + w_{32} \\left. \\frac{d}{d \\xi_{1}} \\sigma{\\left(\\xi_{1} \\right)} \\right|_{\\substack{ \\xi_{1}=w_{12} x_{11} + w_{22} x_{12} + w_{32} x_{13} }}\\\\w_{11} \\left. \\frac{d}{d \\xi_{1}} \\sigma{\\left(\\xi_{1} \\right)} \\right|_{\\substack{ \\xi_{1}=w_{11} x_{21} + w_{21} x_{22} + w_{31} x_{23} }} + w_{12} \\left. \\frac{d}{d \\xi_{1}} \\sigma{\\left(\\xi_{1} \\right)} \\right|_{\\substack{ \\xi_{1}=w_{12} x_{21} + w_{22} x_{22} + w_{32} x_{23} }} & w_{21} \\left. \\frac{d}{d \\xi_{1}} \\sigma{\\left(\\xi_{1} \\right)} \\right|_{\\substack{ \\xi_{1}=w_{11} x_{21} + w_{21} x_{22} + w_{31} x_{23} }} + w_{22} \\left. \\frac{d}{d \\xi_{1}} \\sigma{\\left(\\xi_{1} \\right)} \\right|_{\\substack{ \\xi_{1}=w_{12} x_{21} + w_{22} x_{22} + w_{32} x_{23} }} & w_{31} \\left. \\frac{d}{d \\xi_{1}} \\sigma{\\left(\\xi_{1} \\right)} \\right|_{\\substack{ \\xi_{1}=w_{11} x_{21} + w_{21} x_{22} + w_{31} x_{23} }} + w_{32} \\left. \\frac{d}{d \\xi_{1}} \\sigma{\\left(\\xi_{1} \\right)} \\right|_{\\substack{ \\xi_{1}=w_{12} x_{21} + w_{22} x_{22} + w_{32} x_{23} }}\\\\w_{11} \\left. \\frac{d}{d \\xi_{1}} \\sigma{\\left(\\xi_{1} \\right)} \\right|_{\\substack{ \\xi_{1}=w_{11} x_{31} + w_{21} x_{32} + w_{31} x_{33} }} + w_{12} \\left. \\frac{d}{d \\xi_{1}} \\sigma{\\left(\\xi_{1} \\right)} \\right|_{\\substack{ \\xi_{1}=w_{12} x_{31} + w_{22} x_{32} + w_{32} x_{33} }} & w_{21} \\left. \\frac{d}{d \\xi_{1}} \\sigma{\\left(\\xi_{1} \\right)} \\right|_{\\substack{ \\xi_{1}=w_{11} x_{31} + w_{21} x_{32} + w_{31} x_{33} }} + w_{22} \\left. \\frac{d}{d \\xi_{1}} \\sigma{\\left(\\xi_{1} \\right)} \\right|_{\\substack{ \\xi_{1}=w_{12} x_{31} + w_{22} x_{32} + w_{32} x_{33} }} & w_{31} \\left. \\frac{d}{d \\xi_{1}} \\sigma{\\left(\\xi_{1} \\right)} \\right|_{\\substack{ \\xi_{1}=w_{11} x_{31} + w_{21} x_{32} + w_{31} x_{33} }} + w_{32} \\left. \\frac{d}{d \\xi_{1}} \\sigma{\\left(\\xi_{1} \\right)} \\right|_{\\substack{ \\xi_{1}=w_{12} x_{31} + w_{22} x_{32} + w_{32} x_{33} }}\\end{matrix}\\right]$"
      ],
      "text/plain": [
       "Matrix([\n",
       "[w_11*Subs(Derivative(sigma(_xi_1), _xi_1), _xi_1, w_11*x_11 + w_21*x_12 + w_31*x_13) + w_12*Subs(Derivative(sigma(_xi_1), _xi_1), _xi_1, w_12*x_11 + w_22*x_12 + w_32*x_13), w_21*Subs(Derivative(sigma(_xi_1), _xi_1), _xi_1, w_11*x_11 + w_21*x_12 + w_31*x_13) + w_22*Subs(Derivative(sigma(_xi_1), _xi_1), _xi_1, w_12*x_11 + w_22*x_12 + w_32*x_13), w_31*Subs(Derivative(sigma(_xi_1), _xi_1), _xi_1, w_11*x_11 + w_21*x_12 + w_31*x_13) + w_32*Subs(Derivative(sigma(_xi_1), _xi_1), _xi_1, w_12*x_11 + w_22*x_12 + w_32*x_13)],\n",
       "[w_11*Subs(Derivative(sigma(_xi_1), _xi_1), _xi_1, w_11*x_21 + w_21*x_22 + w_31*x_23) + w_12*Subs(Derivative(sigma(_xi_1), _xi_1), _xi_1, w_12*x_21 + w_22*x_22 + w_32*x_23), w_21*Subs(Derivative(sigma(_xi_1), _xi_1), _xi_1, w_11*x_21 + w_21*x_22 + w_31*x_23) + w_22*Subs(Derivative(sigma(_xi_1), _xi_1), _xi_1, w_12*x_21 + w_22*x_22 + w_32*x_23), w_31*Subs(Derivative(sigma(_xi_1), _xi_1), _xi_1, w_11*x_21 + w_21*x_22 + w_31*x_23) + w_32*Subs(Derivative(sigma(_xi_1), _xi_1), _xi_1, w_12*x_21 + w_22*x_22 + w_32*x_23)],\n",
       "[w_11*Subs(Derivative(sigma(_xi_1), _xi_1), _xi_1, w_11*x_31 + w_21*x_32 + w_31*x_33) + w_12*Subs(Derivative(sigma(_xi_1), _xi_1), _xi_1, w_12*x_31 + w_22*x_32 + w_32*x_33), w_21*Subs(Derivative(sigma(_xi_1), _xi_1), _xi_1, w_11*x_31 + w_21*x_32 + w_31*x_33) + w_22*Subs(Derivative(sigma(_xi_1), _xi_1), _xi_1, w_12*x_31 + w_22*x_32 + w_32*x_33), w_31*Subs(Derivative(sigma(_xi_1), _xi_1), _xi_1, w_11*x_31 + w_21*x_32 + w_31*x_33) + w_32*Subs(Derivative(sigma(_xi_1), _xi_1), _xi_1, w_12*x_31 + w_22*x_32 + w_32*x_33)]])"
      ]
     },
     "execution_count": 1,
     "metadata": {},
     "output_type": "execute_result"
    }
   ],
   "source": [
    "#Lsum = L.replace(n, vN).replace(sigmaApply, sigmaApply_).replace(lambd, lambd_)\n",
    "\n",
    "L.replace(n, vN).replace(sigmaApply, sigmaApply_).replace(lambd, lambd_).subs(elemToSpecD).diff(X)#.subs(specToElemD)"
   ]
  },
  {
   "cell_type": "code",
   "execution_count": 112,
   "metadata": {
    "lines_to_next_cell": 2,
    "title": "codecell"
   },
   "outputs": [],
   "source": []
  },
  {
   "cell_type": "markdown",
   "execution_count": 112,
   "metadata": {
    "lines_to_next_cell": 0,
    "title": "markdown"
   },
   "source": [
    "COMPARING METHOD 0 (abstract way) with METHOD 2 (direct way) when differentiating .w.r.t to X vs. w.r.t to W\n",
    "### With respect to X (abstract)"
   ]
  },
  {
   "cell_type": "code",
   "execution_count": 112,
   "metadata": {
    "execution": {
     "iopub.execute_input": "2020-10-03T08:31:41.160860Z",
     "iopub.status.busy": "2020-10-03T08:31:41.156541Z",
     "iopub.status.idle": "2020-10-03T08:31:41.469548Z",
     "shell.execute_reply": "2020-10-03T08:31:41.471520Z"
    },
    "title": "codecell"
   },
   "outputs": [
    {
     "data": {
      "text/latex": [
       "$\\displaystyle \\left. \\frac{d}{d \\xi_{1}} \\lambda{\\left(\\xi_{1} \\right)} \\right|_{\\substack{ \\xi_{1}={\\left( d \\mapsto \\sigma{\\left(d \\right)} \\right)}_{\\circ}\\left({X W}\\right) }} {\\left( d \\mapsto \\frac{d}{d d} \\sigma{\\left(d \\right)} \\right)}_{\\circ}\\left({X W}\\right) W^{T}$"
      ],
      "text/plain": [
       "Subs(Derivative(lambda(_xi_1), _xi_1), _xi_1, Lambda(_d, sigma(_d)).(X*W))*Lambda(_d, Derivative(sigma(_d), _d)).(X*W)*W.T"
      ]
     },
     "execution_count": 1,
     "metadata": {},
     "output_type": "execute_result"
    }
   ],
   "source": [
    "L.replace(n,vL).replace(sigmaApply, sigmaApply_).diff(A)"
   ]
  },
  {
   "cell_type": "markdown",
   "execution_count": 113,
   "metadata": {
    "lines_to_next_cell": 0,
    "title": "markdown"
   },
   "source": [
    "### With respect to X (direct)"
   ]
  },
  {
   "cell_type": "code",
   "execution_count": 113,
   "metadata": {
    "execution": {
     "iopub.execute_input": "2020-10-03T08:31:41.483406Z",
     "iopub.status.busy": "2020-10-03T08:31:41.480988Z",
     "iopub.status.idle": "2020-10-03T08:31:41.714425Z",
     "shell.execute_reply": "2020-10-03T08:31:41.722014Z"
    },
    "title": "codecell"
   },
   "outputs": [
    {
     "data": {
      "text/latex": [
       "$\\displaystyle \\left[\\begin{matrix}w_{11} \\left. \\frac{d}{d \\xi_{1}} \\sigma{\\left(\\xi_{1} \\right)} \\right|_{\\substack{ \\xi_{1}=n_{11} }} + w_{12} \\left. \\frac{d}{d \\xi_{1}} \\sigma{\\left(\\xi_{1} \\right)} \\right|_{\\substack{ \\xi_{1}=n_{12} }} & w_{21} \\left. \\frac{d}{d \\xi_{1}} \\sigma{\\left(\\xi_{1} \\right)} \\right|_{\\substack{ \\xi_{1}=n_{11} }} + w_{22} \\left. \\frac{d}{d \\xi_{1}} \\sigma{\\left(\\xi_{1} \\right)} \\right|_{\\substack{ \\xi_{1}=n_{12} }} & w_{31} \\left. \\frac{d}{d \\xi_{1}} \\sigma{\\left(\\xi_{1} \\right)} \\right|_{\\substack{ \\xi_{1}=n_{11} }} + w_{32} \\left. \\frac{d}{d \\xi_{1}} \\sigma{\\left(\\xi_{1} \\right)} \\right|_{\\substack{ \\xi_{1}=n_{12} }}\\\\w_{11} \\left. \\frac{d}{d \\xi_{1}} \\sigma{\\left(\\xi_{1} \\right)} \\right|_{\\substack{ \\xi_{1}=n_{21} }} + w_{12} \\left. \\frac{d}{d \\xi_{1}} \\sigma{\\left(\\xi_{1} \\right)} \\right|_{\\substack{ \\xi_{1}=n_{22} }} & w_{21} \\left. \\frac{d}{d \\xi_{1}} \\sigma{\\left(\\xi_{1} \\right)} \\right|_{\\substack{ \\xi_{1}=n_{21} }} + w_{22} \\left. \\frac{d}{d \\xi_{1}} \\sigma{\\left(\\xi_{1} \\right)} \\right|_{\\substack{ \\xi_{1}=n_{22} }} & w_{31} \\left. \\frac{d}{d \\xi_{1}} \\sigma{\\left(\\xi_{1} \\right)} \\right|_{\\substack{ \\xi_{1}=n_{21} }} + w_{32} \\left. \\frac{d}{d \\xi_{1}} \\sigma{\\left(\\xi_{1} \\right)} \\right|_{\\substack{ \\xi_{1}=n_{22} }}\\\\w_{11} \\left. \\frac{d}{d \\xi_{1}} \\sigma{\\left(\\xi_{1} \\right)} \\right|_{\\substack{ \\xi_{1}=n_{31} }} + w_{12} \\left. \\frac{d}{d \\xi_{1}} \\sigma{\\left(\\xi_{1} \\right)} \\right|_{\\substack{ \\xi_{1}=n_{32} }} & w_{21} \\left. \\frac{d}{d \\xi_{1}} \\sigma{\\left(\\xi_{1} \\right)} \\right|_{\\substack{ \\xi_{1}=n_{31} }} + w_{22} \\left. \\frac{d}{d \\xi_{1}} \\sigma{\\left(\\xi_{1} \\right)} \\right|_{\\substack{ \\xi_{1}=n_{32} }} & w_{31} \\left. \\frac{d}{d \\xi_{1}} \\sigma{\\left(\\xi_{1} \\right)} \\right|_{\\substack{ \\xi_{1}=n_{31} }} + w_{32} \\left. \\frac{d}{d \\xi_{1}} \\sigma{\\left(\\xi_{1} \\right)} \\right|_{\\substack{ \\xi_{1}=n_{32} }}\\end{matrix}\\right]$"
      ],
      "text/plain": [
       "Matrix([\n",
       "[w_11*Subs(Derivative(sigma(_xi_1), _xi_1), _xi_1, n_11) + w_12*Subs(Derivative(sigma(_xi_1), _xi_1), _xi_1, n_12), w_21*Subs(Derivative(sigma(_xi_1), _xi_1), _xi_1, n_11) + w_22*Subs(Derivative(sigma(_xi_1), _xi_1), _xi_1, n_12), w_31*Subs(Derivative(sigma(_xi_1), _xi_1), _xi_1, n_11) + w_32*Subs(Derivative(sigma(_xi_1), _xi_1), _xi_1, n_12)],\n",
       "[w_11*Subs(Derivative(sigma(_xi_1), _xi_1), _xi_1, n_21) + w_12*Subs(Derivative(sigma(_xi_1), _xi_1), _xi_1, n_22), w_21*Subs(Derivative(sigma(_xi_1), _xi_1), _xi_1, n_21) + w_22*Subs(Derivative(sigma(_xi_1), _xi_1), _xi_1, n_22), w_31*Subs(Derivative(sigma(_xi_1), _xi_1), _xi_1, n_21) + w_32*Subs(Derivative(sigma(_xi_1), _xi_1), _xi_1, n_22)],\n",
       "[w_11*Subs(Derivative(sigma(_xi_1), _xi_1), _xi_1, n_31) + w_12*Subs(Derivative(sigma(_xi_1), _xi_1), _xi_1, n_32), w_21*Subs(Derivative(sigma(_xi_1), _xi_1), _xi_1, n_31) + w_22*Subs(Derivative(sigma(_xi_1), _xi_1), _xi_1, n_32), w_31*Subs(Derivative(sigma(_xi_1), _xi_1), _xi_1, n_31) + w_32*Subs(Derivative(sigma(_xi_1), _xi_1), _xi_1, n_32)]])"
      ]
     },
     "execution_count": 1,
     "metadata": {},
     "output_type": "execute_result"
    }
   ],
   "source": [
    "L.replace(n, vN).replace(sigmaApply, sigmaApply_).replace(lambd, lambd_).subs(elemToSpecD).diff(X).subs(specToElemD)"
   ]
  },
  {
   "cell_type": "markdown",
   "execution_count": 114,
   "metadata": {
    "lines_to_next_cell": 0,
    "title": "markdown"
   },
   "source": [
    "### With respect to W (abstract)"
   ]
  },
  {
   "cell_type": "code",
   "execution_count": 114,
   "metadata": {
    "execution": {
     "iopub.execute_input": "2020-10-03T08:31:41.733009Z",
     "iopub.status.busy": "2020-10-03T08:31:41.728321Z",
     "iopub.status.idle": "2020-10-03T08:31:42.076401Z",
     "shell.execute_reply": "2020-10-03T08:31:42.078845Z"
    },
    "title": "codecell"
   },
   "outputs": [
    {
     "data": {
      "text/latex": [
       "$\\displaystyle \\left. \\frac{d}{d \\xi_{1}} \\lambda{\\left(\\xi_{1} \\right)} \\right|_{\\substack{ \\xi_{1}={\\left( d \\mapsto \\sigma{\\left(d \\right)} \\right)}_{\\circ}\\left({X W}\\right) }} X^{T} {\\left( d \\mapsto \\frac{d}{d d} \\sigma{\\left(d \\right)} \\right)}_{\\circ}\\left({X W}\\right)$"
      ],
      "text/plain": [
       "Subs(Derivative(lambda(_xi_1), _xi_1), _xi_1, Lambda(_d, sigma(_d)).(X*W))*X.T*Lambda(_d, Derivative(sigma(_d), _d)).(X*W)"
      ]
     },
     "execution_count": 1,
     "metadata": {},
     "output_type": "execute_result"
    }
   ],
   "source": [
    "L.replace(n,vL).replace(sigmaApply, sigmaApply_).diff(B)"
   ]
  },
  {
   "cell_type": "markdown",
   "execution_count": 115,
   "metadata": {
    "lines_to_next_cell": 0,
    "title": "markdown"
   },
   "source": [
    "### With respect to W (direct)"
   ]
  },
  {
   "cell_type": "code",
   "execution_count": 115,
   "metadata": {
    "execution": {
     "iopub.execute_input": "2020-10-03T08:31:42.087206Z",
     "iopub.status.busy": "2020-10-03T08:31:42.085170Z",
     "iopub.status.idle": "2020-10-03T08:31:43.617430Z",
     "shell.execute_reply": "2020-10-03T08:31:43.618554Z"
    },
    "lines_to_next_cell": 0,
    "title": "codecell"
   },
   "outputs": [
    {
     "data": {
      "text/latex": [
       "$\\displaystyle \\left[\\begin{matrix}x_{11} \\left. \\frac{d}{d \\xi_{1}} \\sigma{\\left(\\xi_{1} \\right)} \\right|_{\\substack{ \\xi_{1}=n_{11} }} + x_{21} \\left. \\frac{d}{d \\xi_{1}} \\sigma{\\left(\\xi_{1} \\right)} \\right|_{\\substack{ \\xi_{1}=n_{21} }} + x_{31} \\left. \\frac{d}{d \\xi_{1}} \\sigma{\\left(\\xi_{1} \\right)} \\right|_{\\substack{ \\xi_{1}=n_{31} }} & x_{11} \\left. \\frac{d}{d \\xi_{1}} \\sigma{\\left(\\xi_{1} \\right)} \\right|_{\\substack{ \\xi_{1}=n_{12} }} + x_{21} \\left. \\frac{d}{d \\xi_{1}} \\sigma{\\left(\\xi_{1} \\right)} \\right|_{\\substack{ \\xi_{1}=n_{22} }} + x_{31} \\left. \\frac{d}{d \\xi_{1}} \\sigma{\\left(\\xi_{1} \\right)} \\right|_{\\substack{ \\xi_{1}=n_{32} }}\\\\x_{12} \\left. \\frac{d}{d \\xi_{1}} \\sigma{\\left(\\xi_{1} \\right)} \\right|_{\\substack{ \\xi_{1}=n_{11} }} + x_{22} \\left. \\frac{d}{d \\xi_{1}} \\sigma{\\left(\\xi_{1} \\right)} \\right|_{\\substack{ \\xi_{1}=n_{21} }} + x_{32} \\left. \\frac{d}{d \\xi_{1}} \\sigma{\\left(\\xi_{1} \\right)} \\right|_{\\substack{ \\xi_{1}=n_{31} }} & x_{12} \\left. \\frac{d}{d \\xi_{1}} \\sigma{\\left(\\xi_{1} \\right)} \\right|_{\\substack{ \\xi_{1}=n_{12} }} + x_{22} \\left. \\frac{d}{d \\xi_{1}} \\sigma{\\left(\\xi_{1} \\right)} \\right|_{\\substack{ \\xi_{1}=n_{22} }} + x_{32} \\left. \\frac{d}{d \\xi_{1}} \\sigma{\\left(\\xi_{1} \\right)} \\right|_{\\substack{ \\xi_{1}=n_{32} }}\\\\x_{13} \\left. \\frac{d}{d \\xi_{1}} \\sigma{\\left(\\xi_{1} \\right)} \\right|_{\\substack{ \\xi_{1}=n_{11} }} + x_{23} \\left. \\frac{d}{d \\xi_{1}} \\sigma{\\left(\\xi_{1} \\right)} \\right|_{\\substack{ \\xi_{1}=n_{21} }} + x_{33} \\left. \\frac{d}{d \\xi_{1}} \\sigma{\\left(\\xi_{1} \\right)} \\right|_{\\substack{ \\xi_{1}=n_{31} }} & x_{13} \\left. \\frac{d}{d \\xi_{1}} \\sigma{\\left(\\xi_{1} \\right)} \\right|_{\\substack{ \\xi_{1}=n_{12} }} + x_{23} \\left. \\frac{d}{d \\xi_{1}} \\sigma{\\left(\\xi_{1} \\right)} \\right|_{\\substack{ \\xi_{1}=n_{22} }} + x_{33} \\left. \\frac{d}{d \\xi_{1}} \\sigma{\\left(\\xi_{1} \\right)} \\right|_{\\substack{ \\xi_{1}=n_{32} }}\\end{matrix}\\right]$"
      ],
      "text/plain": [
       "Matrix([\n",
       "[x_11*Subs(Derivative(sigma(_xi_1), _xi_1), _xi_1, n_11) + x_21*Subs(Derivative(sigma(_xi_1), _xi_1), _xi_1, n_21) + x_31*Subs(Derivative(sigma(_xi_1), _xi_1), _xi_1, n_31), x_11*Subs(Derivative(sigma(_xi_1), _xi_1), _xi_1, n_12) + x_21*Subs(Derivative(sigma(_xi_1), _xi_1), _xi_1, n_22) + x_31*Subs(Derivative(sigma(_xi_1), _xi_1), _xi_1, n_32)],\n",
       "[x_12*Subs(Derivative(sigma(_xi_1), _xi_1), _xi_1, n_11) + x_22*Subs(Derivative(sigma(_xi_1), _xi_1), _xi_1, n_21) + x_32*Subs(Derivative(sigma(_xi_1), _xi_1), _xi_1, n_31), x_12*Subs(Derivative(sigma(_xi_1), _xi_1), _xi_1, n_12) + x_22*Subs(Derivative(sigma(_xi_1), _xi_1), _xi_1, n_22) + x_32*Subs(Derivative(sigma(_xi_1), _xi_1), _xi_1, n_32)],\n",
       "[x_13*Subs(Derivative(sigma(_xi_1), _xi_1), _xi_1, n_11) + x_23*Subs(Derivative(sigma(_xi_1), _xi_1), _xi_1, n_21) + x_33*Subs(Derivative(sigma(_xi_1), _xi_1), _xi_1, n_31), x_13*Subs(Derivative(sigma(_xi_1), _xi_1), _xi_1, n_12) + x_23*Subs(Derivative(sigma(_xi_1), _xi_1), _xi_1, n_22) + x_33*Subs(Derivative(sigma(_xi_1), _xi_1), _xi_1, n_32)]])"
      ]
     },
     "execution_count": 1,
     "metadata": {},
     "output_type": "execute_result"
    }
   ],
   "source": [
    "L.replace(n, vN).replace(sigmaApply, sigmaApply_).replace(lambd, lambd_).subs(elemToSpecD).diff(W).subs(specToElemD)"
   ]
  },
  {
   "cell_type": "code",
   "execution_count": 116,
   "metadata": {
    "lines_to_next_cell": 0,
    "title": "codecell"
   },
   "outputs": [],
   "source": []
  },
  {
   "cell_type": "code",
   "execution_count": 116,
   "metadata": {
    "lines_to_next_cell": 0,
    "title": "codecell"
   },
   "outputs": [],
   "source": []
  },
  {
   "cell_type": "code",
   "execution_count": 116,
   "metadata": {
    "lines_to_next_cell": 0,
    "title": "codecell"
   },
   "outputs": [],
   "source": []
  },
  {
   "cell_type": "code",
   "execution_count": 116,
   "metadata": {
    "lines_to_next_cell": 0,
    "title": "codecell"
   },
   "outputs": [],
   "source": []
  },
  {
   "cell_type": "markdown",
   "execution_count": 116,
   "metadata": {
    "lines_to_next_cell": 0,
    "title": "markdown"
   },
   "source": [
    "### NEXT: try to substitute the X, W matrices step by step to see if you can come to the same result as the direct forms above (from method 2 or 1)"
   ]
  },
  {
   "cell_type": "code",
   "execution_count": 116,
   "metadata": {
    "execution": {
     "iopub.execute_input": "2020-10-03T08:31:43.634057Z",
     "iopub.status.busy": "2020-10-03T08:31:43.627607Z",
     "iopub.status.idle": "2020-10-03T08:31:44.046225Z",
     "shell.execute_reply": "2020-10-03T08:31:44.051980Z"
    },
    "lines_to_next_cell": 0,
    "title": "codecell"
   },
   "outputs": [
    {
     "data": {
      "text/latex": [
       "$\\displaystyle \\left. \\frac{d}{d \\xi_{1}} \\lambda{\\left(\\xi_{1} \\right)} \\right|_{\\substack{ \\xi_{1}={\\left( d \\mapsto \\sigma{\\left(d \\right)} \\right)}_{\\circ}\\left({\\left[\\begin{matrix}x_{11} & x_{12} & x_{13}\\\\x_{21} & x_{22} & x_{23}\\\\x_{31} & x_{32} & x_{33}\\end{matrix}\\right] \\left[\\begin{matrix}w_{11} & w_{12}\\\\w_{21} & w_{22}\\\\w_{31} & w_{32}\\end{matrix}\\right]}\\right) }} \\left(\\left[\\begin{matrix}x_{11} & x_{12} & x_{13}\\\\x_{21} & x_{22} & x_{23}\\\\x_{31} & x_{32} & x_{33}\\end{matrix}\\right]\\right)^{T} {\\left( d \\mapsto \\frac{d}{d d} \\sigma{\\left(d \\right)} \\right)}_{\\circ}\\left({\\left[\\begin{matrix}x_{11} & x_{12} & x_{13}\\\\x_{21} & x_{22} & x_{23}\\\\x_{31} & x_{32} & x_{33}\\end{matrix}\\right] \\left[\\begin{matrix}w_{11} & w_{12}\\\\w_{21} & w_{22}\\\\w_{31} & w_{32}\\end{matrix}\\right]}\\right)$"
      ],
      "text/plain": [
       "Subs(Derivative(lambda(_xi_1), _xi_1), _xi_1, Lambda(_d, sigma(_d)).(Matrix([\n",
       "[x_11, x_12, x_13],\n",
       "[x_21, x_22, x_23],\n",
       "[x_31, x_32, x_33]])*Matrix([\n",
       "[w_11, w_12],\n",
       "[w_21, w_22],\n",
       "[w_31, w_32]])))*Matrix([\n",
       "[x_11, x_12, x_13],\n",
       "[x_21, x_22, x_23],\n",
       "[x_31, x_32, x_33]]).T*Lambda(_d, Derivative(sigma(_d), _d)).(Matrix([\n",
       "[x_11, x_12, x_13],\n",
       "[x_21, x_22, x_23],\n",
       "[x_31, x_32, x_33]])*Matrix([\n",
       "[w_11, w_12],\n",
       "[w_21, w_22],\n",
       "[w_31, w_32]]))"
      ]
     },
     "execution_count": 1,
     "metadata": {},
     "output_type": "execute_result"
    }
   ],
   "source": [
    "from sympy import simplify, expand\n",
    "\n",
    "#simplify(L.replace(n,vL).replace(sigmaApply, sigmaApply_).diff(B).subs({A:X, B:W})) ### ERROR max recursion depth exceeded\n",
    "L.replace(n,vL).replace(sigmaApply, sigmaApply_).diff(B).subs({A:X, B:W})"
   ]
  },
  {
   "cell_type": "code",
   "execution_count": 117,
   "metadata": {
    "execution": {
     "iopub.execute_input": "2020-10-03T08:31:44.064800Z",
     "iopub.status.busy": "2020-10-03T08:31:44.059477Z",
     "iopub.status.idle": "2020-10-03T08:31:44.409051Z",
     "shell.execute_reply": "2020-10-03T08:31:44.410319Z"
    },
    "lines_to_next_cell": 2,
    "title": "codecell"
   },
   "outputs": [
    {
     "data": {
      "text/latex": [
       "$\\displaystyle \\left. \\frac{d}{d \\xi_{1}} \\lambda{\\left(\\xi_{1} \\right)} \\right|_{\\substack{ \\xi_{1}={\\left( d \\mapsto \\sigma{\\left(d \\right)} \\right)}_{\\circ}\\left({X W}\\right) }} X^{T} {\\left( d \\mapsto \\frac{d}{d d} \\sigma{\\left(d \\right)} \\right)}_{\\circ}\\left({X W}\\right)$"
      ],
      "text/plain": [
       "Subs(Derivative(lambda(_xi_1), _xi_1), _xi_1, Lambda(_d, sigma(_d)).(X*W))*X.T*Lambda(_d, Derivative(sigma(_d), _d)).(X*W)"
      ]
     },
     "execution_count": 1,
     "metadata": {},
     "output_type": "execute_result"
    }
   ],
   "source": [
    "L.replace(n,v).replace(sigmaApply, sigmaApply_).diff(B)#.subs({A:X, B:W})"
   ]
  },
  {
   "cell_type": "code",
   "execution_count": 118,
   "metadata": {
    "execution": {
     "iopub.execute_input": "2020-10-03T08:31:44.422887Z",
     "iopub.status.busy": "2020-10-03T08:31:44.417865Z",
     "iopub.status.idle": "2020-10-03T08:31:44.757515Z",
     "shell.execute_reply": "2020-10-03T08:31:44.758837Z"
    },
    "lines_to_next_cell": 0,
    "title": "codecell"
   },
   "outputs": [
    {
     "data": {
      "text/latex": [
       "$\\displaystyle \\left. \\frac{d}{d \\xi_{1}} \\lambda{\\left(\\xi_{1} \\right)} \\right|_{\\substack{ \\xi_{1}={\\left( d \\mapsto \\sigma{\\left(d \\right)} \\right)}_{\\circ}\\left({X W}\\right) }} X^{T} {\\left( d \\mapsto \\frac{d}{d d} \\sigma{\\left(d \\right)} \\right)}_{\\circ}\\left({X W}\\right)$"
      ],
      "text/plain": [
       "Subs(Derivative(lambda(_xi_1), _xi_1), _xi_1, Lambda(_d, sigma(_d)).(X*W))*X.T*Lambda(_d, Derivative(sigma(_d), _d)).(X*W)"
      ]
     },
     "execution_count": 1,
     "metadata": {},
     "output_type": "execute_result"
    }
   ],
   "source": [
    "L.replace(n,v).replace(sigmaApply, sigmaApply_).diff(B)"
   ]
  },
  {
   "cell_type": "code",
   "execution_count": 119,
   "metadata": {
    "execution": {
     "iopub.execute_input": "2020-10-03T08:31:44.770015Z",
     "iopub.status.busy": "2020-10-03T08:31:44.766855Z",
     "iopub.status.idle": "2020-10-03T08:31:44.780594Z",
     "shell.execute_reply": "2020-10-03T08:31:44.782590Z"
    },
    "title": "codecell"
   },
   "outputs": [],
   "source": [
    "#L.replace(n,v).replace(sigmaApply, sigmaApply_).replace(lambd, lambd_)"
   ]
  },
  {
   "cell_type": "code",
   "execution_count": 120,
   "metadata": {
    "execution": {
     "iopub.execute_input": "2020-10-03T08:31:44.793929Z",
     "iopub.status.busy": "2020-10-03T08:31:44.791981Z",
     "iopub.status.idle": "2020-10-03T08:31:44.936665Z",
     "shell.execute_reply": "2020-10-03T08:31:44.937928Z"
    },
    "lines_to_next_cell": 0,
    "title": "codecell"
   },
   "outputs": [
    {
     "data": {
      "text/latex": [
       "$\\displaystyle \\left. \\frac{d}{d \\xi_{1}} \\sigma_{apply}{\\left(\\xi_{1} \\right)} \\right|_{\\substack{ \\xi_{1}=X W }} \\frac{\\partial}{\\partial \\sigma_{apply}{\\left(X W \\right)}} \\lambda{\\left(\\sigma_{apply}{\\left(X W \\right)} \\right)} \\frac{\\partial}{\\partial X} X W$"
      ],
      "text/plain": [
       "Subs(Derivative(sigma_apply(_xi_1), _xi_1), _xi_1, X*W)*Derivative(lambda(sigma_apply(X*W)), sigma_apply(X*W))*Derivative(X*W, X)"
      ]
     },
     "execution_count": 1,
     "metadata": {},
     "output_type": "execute_result"
    }
   ],
   "source": [
    "#L.replace(n,v).replace(sigmaApply, sigmaApply_).diff(B).subs({A:X, B:W}).replace(lambd, lambd_) ### ERROR dummy object not iterable\n",
    "L.replace(n,v).diff(A)"
   ]
  },
  {
   "cell_type": "code",
   "execution_count": 121,
   "metadata": {
    "title": "codecell"
   },
   "outputs": [],
   "source": []
  },
  {
   "cell_type": "code",
   "execution_count": 121,
   "metadata": {
    "execution": {
     "iopub.execute_input": "2020-10-03T08:31:44.950327Z",
     "iopub.status.busy": "2020-10-03T08:31:44.941855Z",
     "iopub.status.idle": "2020-10-03T08:31:44.988315Z",
     "shell.execute_reply": "2020-10-03T08:31:44.989511Z"
    },
    "lines_to_next_cell": 0,
    "title": "codecell"
   },
   "outputs": [
    {
     "data": {
      "text/latex": [
       "$\\displaystyle \\lambda{\\left(\\sigma_{apply}{\\left(v{\\left(X^{T},W^{T} \\right)} \\right)} \\right)}$"
      ],
      "text/plain": [
       "lambda(sigma_apply(v(X.T, W.T)))"
      ]
     },
     "execution_count": 1,
     "metadata": {},
     "output_type": "execute_result"
    }
   ],
   "source": [
    "#L.replace(n,v).replace(sigmaApply, sigmaApply_).diff(A).replace(A,Matrix(A))##ERROR noncommutative matrix scalars\n",
    "# WANT: to be able to do diff and have the expression come out as above with X^T on left and W^T on right, when using just this form, with abstract form v:\n",
    "L.replace(A,A.T).replace(B,B.T)"
   ]
  },
  {
   "cell_type": "code",
   "execution_count": 122,
   "metadata": {
    "execution": {
     "iopub.execute_input": "2020-10-03T08:31:44.998597Z",
     "iopub.status.busy": "2020-10-03T08:31:44.993095Z",
     "iopub.status.idle": "2020-10-03T08:31:45.010925Z",
     "shell.execute_reply": "2020-10-03T08:31:45.012326Z"
    },
    "title": "codecell"
   },
   "outputs": [],
   "source": [
    "# Error if applying sigma to the v function because it sais v has no attribute applyfunc to trying now to making it have the attriute applyfunc.\n",
    "y = Function('y', applyfunc=True, real=True)\n",
    "\n"
   ]
  },
  {
   "cell_type": "code",
   "execution_count": 123,
   "metadata": {
    "execution": {
     "iopub.execute_input": "2020-10-03T08:31:45.031254Z",
     "iopub.status.busy": "2020-10-03T08:31:45.025038Z",
     "iopub.status.idle": "2020-10-03T08:31:45.050588Z",
     "shell.execute_reply": "2020-10-03T08:31:45.054049Z"
    },
    "lines_to_next_cell": 0,
    "title": "codecell"
   },
   "outputs": [
    {
     "data": {
      "text/latex": [
       "$\\displaystyle \\lambda{\\left(\\sigma_{apply}{\\left(y{\\left(X,W \\right)} \\right)} \\right)}$"
      ],
      "text/plain": [
       "lambda(sigma_apply(y(X, W)))"
      ]
     },
     "execution_count": 1,
     "metadata": {},
     "output_type": "execute_result"
    }
   ],
   "source": [
    "Ly = lambd(sigmaApply(y(A,B)))\n",
    "Ly"
   ]
  },
  {
   "cell_type": "code",
   "execution_count": 124,
   "metadata": {
    "execution": {
     "iopub.execute_input": "2020-10-03T08:31:45.060976Z",
     "iopub.status.busy": "2020-10-03T08:31:45.057850Z",
     "iopub.status.idle": "2020-10-03T08:31:45.100636Z",
     "shell.execute_reply": "2020-10-03T08:31:45.102503Z"
    },
    "lines_to_next_cell": 0,
    "title": "codecell"
   },
   "outputs": [
    {
     "data": {
      "text/latex": [
       "$\\displaystyle \\lambda{\\left(\\sigma_{apply}{\\left(y{\\left(X^{T},W^{T} \\right)} \\right)} \\right)}$"
      ],
      "text/plain": [
       "lambda(sigma_apply(y(X.T, W.T)))"
      ]
     },
     "execution_count": 1,
     "metadata": {},
     "output_type": "execute_result"
    }
   ],
   "source": [
    "\n",
    "Ly.replace(A,A.T).replace(B,B.T)#.replace(sigmaApply, sigmaApply_)"
   ]
  },
  {
   "cell_type": "code",
   "execution_count": 125,
   "metadata": {
    "execution": {
     "iopub.execute_input": "2020-10-03T08:31:45.115680Z",
     "iopub.status.busy": "2020-10-03T08:31:45.112570Z",
     "iopub.status.idle": "2020-10-03T08:31:45.145526Z",
     "shell.execute_reply": "2020-10-03T08:31:45.147873Z"
    },
    "title": "codecell"
   },
   "outputs": [
    {
     "data": {
      "text/latex": [
       "$\\displaystyle \\lambda{\\left(\\sigma_{apply}{\\left(y{\\left(X^{T},W^{T} \\right)} \\right)} \\right)}$"
      ],
      "text/plain": [
       "lambda(sigma_apply(y(X.T, W.T)))"
      ]
     },
     "execution_count": 1,
     "metadata": {},
     "output_type": "execute_result"
    }
   ],
   "source": [
    "# TODO next step: to apply the sigma to get that applied functor expression but here get error saying bol object not callable ...??\n",
    "Ly.replace(A,A.T).replace(B,B.T)#.replace(sigmaApply, sigmaApply_)"
   ]
  },
  {
   "cell_type": "code",
   "execution_count": 126,
   "metadata": {
    "execution": {
     "iopub.execute_input": "2020-10-03T08:31:45.158585Z",
     "iopub.status.busy": "2020-10-03T08:31:45.156692Z",
     "iopub.status.idle": "2020-10-03T08:31:45.170300Z",
     "shell.execute_reply": "2020-10-03T08:31:45.171790Z"
    },
    "lines_to_next_cell": 0,
    "title": "codecell"
   },
   "outputs": [],
   "source": [
    "# TODO always get fatal python error here, as if it can't deal with two matrix args!!\n",
    "#Ly.replace(A,A.T).replace(B,B.T).diff(A)\n",
    "\n",
    "#siga2 = Lambda(a, siga(a))"
   ]
  },
  {
   "cell_type": "code",
   "execution_count": 127,
   "metadata": {
    "execution": {
     "iopub.execute_input": "2020-10-03T08:31:45.185168Z",
     "iopub.status.busy": "2020-10-03T08:31:45.177484Z",
     "iopub.status.idle": "2020-10-03T08:31:45.289697Z",
     "shell.execute_reply": "2020-10-03T08:31:45.292643Z"
    },
    "lines_to_next_cell": 0,
    "title": "codecell"
   },
   "outputs": [
    {
     "data": {
      "text/latex": [
       "$\\displaystyle \\frac{\\partial}{\\partial \\sigma_{apply}{\\left(y{\\left(X^{T},b \\right)} \\right)}} \\lambda{\\left(\\sigma_{apply}{\\left(y{\\left(X^{T},b \\right)} \\right)} \\right)} \\frac{\\partial}{\\partial y{\\left(X^{T},b \\right)}} \\sigma_{apply}{\\left(y{\\left(X^{T},b \\right)} \\right)} \\left(\\frac{\\partial}{\\partial b} y{\\left(X^{T},b \\right)} + \\mathbb{0}\\right)$"
      ],
      "text/plain": [
       "Derivative(lambda(sigma_apply(y(X.T, b))), sigma_apply(y(X.T, b)))*Derivative(sigma_apply(y(X.T, b)), y(X.T, b))*(Derivative(y(X.T, b), b) + 0)"
      ]
     },
     "execution_count": 1,
     "metadata": {},
     "output_type": "execute_result"
    }
   ],
   "source": [
    "Ly.replace(A, A.T).replace(B, b).diff(b)#.replace(sigmaApply, siga)"
   ]
  },
  {
   "cell_type": "code",
   "execution_count": 128,
   "metadata": {
    "execution": {
     "iopub.execute_input": "2020-10-03T08:31:45.299637Z",
     "iopub.status.busy": "2020-10-03T08:31:45.296092Z",
     "iopub.status.idle": "2020-10-03T08:31:45.439051Z",
     "shell.execute_reply": "2020-10-03T08:31:45.440270Z"
    },
    "lines_to_next_cell": 0,
    "title": "codecell"
   },
   "outputs": [
    {
     "data": {
      "text/latex": [
       "$\\displaystyle \\lambda{\\left(\\left[\\begin{matrix}\\sigma{\\left(\\operatorname{n_{11}}{\\left(X,W \\right)} \\right)} & \\sigma{\\left(\\operatorname{n_{12}}{\\left(X,W \\right)} \\right)}\\\\\\sigma{\\left(\\operatorname{n_{21}}{\\left(X,W \\right)} \\right)} & \\sigma{\\left(\\operatorname{n_{22}}{\\left(X,W \\right)} \\right)}\\\\\\sigma{\\left(\\operatorname{n_{31}}{\\left(X,W \\right)} \\right)} & \\sigma{\\left(\\operatorname{n_{32}}{\\left(X,W \\right)} \\right)}\\end{matrix}\\right] \\right)}$"
      ],
      "text/plain": [
       "lambda(Matrix([\n",
       "[sigma(n_11(X, W)), sigma(n_12(X, W))],\n",
       "[sigma(n_21(X, W)), sigma(n_22(X, W))],\n",
       "[sigma(n_31(X, W)), sigma(n_32(X, W))]]))"
      ]
     },
     "execution_count": 1,
     "metadata": {},
     "output_type": "execute_result"
    }
   ],
   "source": [
    "L.replace(n, vN).replace(sigmaApply, sigmaApply_).subs(elemToMatArgD)"
   ]
  },
  {
   "cell_type": "code",
   "execution_count": 129,
   "metadata": {
    "execution": {
     "iopub.execute_input": "2020-10-03T08:31:45.454556Z",
     "iopub.status.busy": "2020-10-03T08:31:45.444228Z",
     "iopub.status.idle": "2020-10-03T08:31:46.074150Z",
     "shell.execute_reply": "2020-10-03T08:31:46.075263Z"
    },
    "lines_to_next_cell": 0,
    "title": "codecell"
   },
   "outputs": [
    {
     "data": {
      "text/latex": [
       "$\\displaystyle \\left[\\begin{matrix}\\left[\\begin{matrix}\\frac{\\partial}{\\partial \\operatorname{n_{11}}{\\left(X,W \\right)}} \\sigma{\\left(\\operatorname{n_{11}}{\\left(X,W \\right)} \\right)} \\frac{\\partial}{\\partial \\left[\\begin{matrix}\\sigma{\\left(\\operatorname{n_{11}}{\\left(X,W \\right)} \\right)} & \\sigma{\\left(\\operatorname{n_{12}}{\\left(X,W \\right)} \\right)}\\\\\\sigma{\\left(\\operatorname{n_{21}}{\\left(X,W \\right)} \\right)} & \\sigma{\\left(\\operatorname{n_{22}}{\\left(X,W \\right)} \\right)}\\\\\\sigma{\\left(\\operatorname{n_{31}}{\\left(X,W \\right)} \\right)} & \\sigma{\\left(\\operatorname{n_{32}}{\\left(X,W \\right)} \\right)}\\end{matrix}\\right]} \\lambda{\\left(\\left[\\begin{matrix}\\sigma{\\left(\\operatorname{n_{11}}{\\left(X,W \\right)} \\right)} & \\sigma{\\left(\\operatorname{n_{12}}{\\left(X,W \\right)} \\right)}\\\\\\sigma{\\left(\\operatorname{n_{21}}{\\left(X,W \\right)} \\right)} & \\sigma{\\left(\\operatorname{n_{22}}{\\left(X,W \\right)} \\right)}\\\\\\sigma{\\left(\\operatorname{n_{31}}{\\left(X,W \\right)} \\right)} & \\sigma{\\left(\\operatorname{n_{32}}{\\left(X,W \\right)} \\right)}\\end{matrix}\\right] \\right)} & 0\\\\0 & 0\\\\0 & 0\\end{matrix}\\right] & \\left[\\begin{matrix}0 & \\frac{\\partial}{\\partial \\operatorname{n_{12}}{\\left(X,W \\right)}} \\sigma{\\left(\\operatorname{n_{12}}{\\left(X,W \\right)} \\right)} \\frac{\\partial}{\\partial \\left[\\begin{matrix}\\sigma{\\left(\\operatorname{n_{11}}{\\left(X,W \\right)} \\right)} & \\sigma{\\left(\\operatorname{n_{12}}{\\left(X,W \\right)} \\right)}\\\\\\sigma{\\left(\\operatorname{n_{21}}{\\left(X,W \\right)} \\right)} & \\sigma{\\left(\\operatorname{n_{22}}{\\left(X,W \\right)} \\right)}\\\\\\sigma{\\left(\\operatorname{n_{31}}{\\left(X,W \\right)} \\right)} & \\sigma{\\left(\\operatorname{n_{32}}{\\left(X,W \\right)} \\right)}\\end{matrix}\\right]} \\lambda{\\left(\\left[\\begin{matrix}\\sigma{\\left(\\operatorname{n_{11}}{\\left(X,W \\right)} \\right)} & \\sigma{\\left(\\operatorname{n_{12}}{\\left(X,W \\right)} \\right)}\\\\\\sigma{\\left(\\operatorname{n_{21}}{\\left(X,W \\right)} \\right)} & \\sigma{\\left(\\operatorname{n_{22}}{\\left(X,W \\right)} \\right)}\\\\\\sigma{\\left(\\operatorname{n_{31}}{\\left(X,W \\right)} \\right)} & \\sigma{\\left(\\operatorname{n_{32}}{\\left(X,W \\right)} \\right)}\\end{matrix}\\right] \\right)}\\\\0 & 0\\\\0 & 0\\end{matrix}\\right]\\\\\\left[\\begin{matrix}0 & 0\\\\\\frac{\\partial}{\\partial \\operatorname{n_{21}}{\\left(X,W \\right)}} \\sigma{\\left(\\operatorname{n_{21}}{\\left(X,W \\right)} \\right)} \\frac{\\partial}{\\partial \\left[\\begin{matrix}\\sigma{\\left(\\operatorname{n_{11}}{\\left(X,W \\right)} \\right)} & \\sigma{\\left(\\operatorname{n_{12}}{\\left(X,W \\right)} \\right)}\\\\\\sigma{\\left(\\operatorname{n_{21}}{\\left(X,W \\right)} \\right)} & \\sigma{\\left(\\operatorname{n_{22}}{\\left(X,W \\right)} \\right)}\\\\\\sigma{\\left(\\operatorname{n_{31}}{\\left(X,W \\right)} \\right)} & \\sigma{\\left(\\operatorname{n_{32}}{\\left(X,W \\right)} \\right)}\\end{matrix}\\right]} \\lambda{\\left(\\left[\\begin{matrix}\\sigma{\\left(\\operatorname{n_{11}}{\\left(X,W \\right)} \\right)} & \\sigma{\\left(\\operatorname{n_{12}}{\\left(X,W \\right)} \\right)}\\\\\\sigma{\\left(\\operatorname{n_{21}}{\\left(X,W \\right)} \\right)} & \\sigma{\\left(\\operatorname{n_{22}}{\\left(X,W \\right)} \\right)}\\\\\\sigma{\\left(\\operatorname{n_{31}}{\\left(X,W \\right)} \\right)} & \\sigma{\\left(\\operatorname{n_{32}}{\\left(X,W \\right)} \\right)}\\end{matrix}\\right] \\right)} & 0\\\\0 & 0\\end{matrix}\\right] & \\left[\\begin{matrix}0 & 0\\\\0 & \\frac{\\partial}{\\partial \\operatorname{n_{22}}{\\left(X,W \\right)}} \\sigma{\\left(\\operatorname{n_{22}}{\\left(X,W \\right)} \\right)} \\frac{\\partial}{\\partial \\left[\\begin{matrix}\\sigma{\\left(\\operatorname{n_{11}}{\\left(X,W \\right)} \\right)} & \\sigma{\\left(\\operatorname{n_{12}}{\\left(X,W \\right)} \\right)}\\\\\\sigma{\\left(\\operatorname{n_{21}}{\\left(X,W \\right)} \\right)} & \\sigma{\\left(\\operatorname{n_{22}}{\\left(X,W \\right)} \\right)}\\\\\\sigma{\\left(\\operatorname{n_{31}}{\\left(X,W \\right)} \\right)} & \\sigma{\\left(\\operatorname{n_{32}}{\\left(X,W \\right)} \\right)}\\end{matrix}\\right]} \\lambda{\\left(\\left[\\begin{matrix}\\sigma{\\left(\\operatorname{n_{11}}{\\left(X,W \\right)} \\right)} & \\sigma{\\left(\\operatorname{n_{12}}{\\left(X,W \\right)} \\right)}\\\\\\sigma{\\left(\\operatorname{n_{21}}{\\left(X,W \\right)} \\right)} & \\sigma{\\left(\\operatorname{n_{22}}{\\left(X,W \\right)} \\right)}\\\\\\sigma{\\left(\\operatorname{n_{31}}{\\left(X,W \\right)} \\right)} & \\sigma{\\left(\\operatorname{n_{32}}{\\left(X,W \\right)} \\right)}\\end{matrix}\\right] \\right)}\\\\0 & 0\\end{matrix}\\right]\\\\\\left[\\begin{matrix}0 & 0\\\\0 & 0\\\\\\frac{\\partial}{\\partial \\operatorname{n_{31}}{\\left(X,W \\right)}} \\sigma{\\left(\\operatorname{n_{31}}{\\left(X,W \\right)} \\right)} \\frac{\\partial}{\\partial \\left[\\begin{matrix}\\sigma{\\left(\\operatorname{n_{11}}{\\left(X,W \\right)} \\right)} & \\sigma{\\left(\\operatorname{n_{12}}{\\left(X,W \\right)} \\right)}\\\\\\sigma{\\left(\\operatorname{n_{21}}{\\left(X,W \\right)} \\right)} & \\sigma{\\left(\\operatorname{n_{22}}{\\left(X,W \\right)} \\right)}\\\\\\sigma{\\left(\\operatorname{n_{31}}{\\left(X,W \\right)} \\right)} & \\sigma{\\left(\\operatorname{n_{32}}{\\left(X,W \\right)} \\right)}\\end{matrix}\\right]} \\lambda{\\left(\\left[\\begin{matrix}\\sigma{\\left(\\operatorname{n_{11}}{\\left(X,W \\right)} \\right)} & \\sigma{\\left(\\operatorname{n_{12}}{\\left(X,W \\right)} \\right)}\\\\\\sigma{\\left(\\operatorname{n_{21}}{\\left(X,W \\right)} \\right)} & \\sigma{\\left(\\operatorname{n_{22}}{\\left(X,W \\right)} \\right)}\\\\\\sigma{\\left(\\operatorname{n_{31}}{\\left(X,W \\right)} \\right)} & \\sigma{\\left(\\operatorname{n_{32}}{\\left(X,W \\right)} \\right)}\\end{matrix}\\right] \\right)} & 0\\end{matrix}\\right] & \\left[\\begin{matrix}0 & 0\\\\0 & 0\\\\0 & \\frac{\\partial}{\\partial \\operatorname{n_{32}}{\\left(X,W \\right)}} \\sigma{\\left(\\operatorname{n_{32}}{\\left(X,W \\right)} \\right)} \\frac{\\partial}{\\partial \\left[\\begin{matrix}\\sigma{\\left(\\operatorname{n_{11}}{\\left(X,W \\right)} \\right)} & \\sigma{\\left(\\operatorname{n_{12}}{\\left(X,W \\right)} \\right)}\\\\\\sigma{\\left(\\operatorname{n_{21}}{\\left(X,W \\right)} \\right)} & \\sigma{\\left(\\operatorname{n_{22}}{\\left(X,W \\right)} \\right)}\\\\\\sigma{\\left(\\operatorname{n_{31}}{\\left(X,W \\right)} \\right)} & \\sigma{\\left(\\operatorname{n_{32}}{\\left(X,W \\right)} \\right)}\\end{matrix}\\right]} \\lambda{\\left(\\left[\\begin{matrix}\\sigma{\\left(\\operatorname{n_{11}}{\\left(X,W \\right)} \\right)} & \\sigma{\\left(\\operatorname{n_{12}}{\\left(X,W \\right)} \\right)}\\\\\\sigma{\\left(\\operatorname{n_{21}}{\\left(X,W \\right)} \\right)} & \\sigma{\\left(\\operatorname{n_{22}}{\\left(X,W \\right)} \\right)}\\\\\\sigma{\\left(\\operatorname{n_{31}}{\\left(X,W \\right)} \\right)} & \\sigma{\\left(\\operatorname{n_{32}}{\\left(X,W \\right)} \\right)}\\end{matrix}\\right] \\right)}\\end{matrix}\\right]\\end{matrix}\\right]$"
      ],
      "text/plain": [
       "Matrix([\n",
       "[Matrix([\n",
       "[Derivative(sigma(n_11(X, W)), n_11(X, W))*Derivative(lambda(Matrix([\n",
       "[sigma(n_11(X, W)), sigma(n_12(X, W))],\n",
       "[sigma(n_21(X, W)), sigma(n_22(X, W))],\n",
       "[sigma(n_31(X, W)), sigma(n_32(X, W))]])), Matrix([\n",
       "[sigma(n_11(X, W)), sigma(n_12(X, W))],\n",
       "[sigma(n_21(X, W)), sigma(n_22(X, W))],\n",
       "[sigma(n_31(X, W)), sigma(n_32(X, W))]])), 0],\n",
       "[                                                                                                                                                                                                                                                                                                                                 0, 0],\n",
       "[                                                                                                                                                                                                                                                                                                                                 0, 0]]), Matrix([\n",
       "[0, Derivative(sigma(n_12(X, W)), n_12(X, W))*Derivative(lambda(Matrix([\n",
       "[sigma(n_11(X, W)), sigma(n_12(X, W))],\n",
       "[sigma(n_21(X, W)), sigma(n_22(X, W))],\n",
       "[sigma(n_31(X, W)), sigma(n_32(X, W))]])), Matrix([\n",
       "[sigma(n_11(X, W)), sigma(n_12(X, W))],\n",
       "[sigma(n_21(X, W)), sigma(n_22(X, W))],\n",
       "[sigma(n_31(X, W)), sigma(n_32(X, W))]]))],\n",
       "[0,                                                                                                                                                                                                                                                                                                                                  0],\n",
       "[0,                                                                                                                                                                                                                                                                                                                                  0]])],\n",
       "[Matrix([\n",
       "[                                                                                                                                                                                                                                                                                                                                 0, 0],\n",
       "[Derivative(sigma(n_21(X, W)), n_21(X, W))*Derivative(lambda(Matrix([\n",
       "[sigma(n_11(X, W)), sigma(n_12(X, W))],\n",
       "[sigma(n_21(X, W)), sigma(n_22(X, W))],\n",
       "[sigma(n_31(X, W)), sigma(n_32(X, W))]])), Matrix([\n",
       "[sigma(n_11(X, W)), sigma(n_12(X, W))],\n",
       "[sigma(n_21(X, W)), sigma(n_22(X, W))],\n",
       "[sigma(n_31(X, W)), sigma(n_32(X, W))]])), 0],\n",
       "[                                                                                                                                                                                                                                                                                                                                 0, 0]]), Matrix([\n",
       "[0,                                                                                                                                                                                                                                                                                                                                  0],\n",
       "[0, Derivative(sigma(n_22(X, W)), n_22(X, W))*Derivative(lambda(Matrix([\n",
       "[sigma(n_11(X, W)), sigma(n_12(X, W))],\n",
       "[sigma(n_21(X, W)), sigma(n_22(X, W))],\n",
       "[sigma(n_31(X, W)), sigma(n_32(X, W))]])), Matrix([\n",
       "[sigma(n_11(X, W)), sigma(n_12(X, W))],\n",
       "[sigma(n_21(X, W)), sigma(n_22(X, W))],\n",
       "[sigma(n_31(X, W)), sigma(n_32(X, W))]]))],\n",
       "[0,                                                                                                                                                                                                                                                                                                                                  0]])],\n",
       "[Matrix([\n",
       "[                                                                                                                                                                                                                                                                                                                                 0, 0],\n",
       "[                                                                                                                                                                                                                                                                                                                                 0, 0],\n",
       "[Derivative(sigma(n_31(X, W)), n_31(X, W))*Derivative(lambda(Matrix([\n",
       "[sigma(n_11(X, W)), sigma(n_12(X, W))],\n",
       "[sigma(n_21(X, W)), sigma(n_22(X, W))],\n",
       "[sigma(n_31(X, W)), sigma(n_32(X, W))]])), Matrix([\n",
       "[sigma(n_11(X, W)), sigma(n_12(X, W))],\n",
       "[sigma(n_21(X, W)), sigma(n_22(X, W))],\n",
       "[sigma(n_31(X, W)), sigma(n_32(X, W))]])), 0]]), Matrix([\n",
       "[0,                                                                                                                                                                                                                                                                                                                                  0],\n",
       "[0,                                                                                                                                                                                                                                                                                                                                  0],\n",
       "[0, Derivative(sigma(n_32(X, W)), n_32(X, W))*Derivative(lambda(Matrix([\n",
       "[sigma(n_11(X, W)), sigma(n_12(X, W))],\n",
       "[sigma(n_21(X, W)), sigma(n_22(X, W))],\n",
       "[sigma(n_31(X, W)), sigma(n_32(X, W))]])), Matrix([\n",
       "[sigma(n_11(X, W)), sigma(n_12(X, W))],\n",
       "[sigma(n_21(X, W)), sigma(n_22(X, W))],\n",
       "[sigma(n_31(X, W)), sigma(n_32(X, W))]]))]])]])"
      ]
     },
     "execution_count": 1,
     "metadata": {},
     "output_type": "execute_result"
    }
   ],
   "source": [
    "#L.replace(n, vN).replace(sigmaApply, sigmaApply_).subs(elemToMatArgD).diff(A)## ERROR: max recursion depth eceeded\n",
    "\n",
    "L.replace(n, vN).replace(sigmaApply, sigmaApply_).subs(elemToMatArgD).diff(Matrix(3,2,list(elemToMatArgD.values())))"
   ]
  },
  {
   "cell_type": "code",
   "execution_count": 130,
   "metadata": {
    "execution": {
     "iopub.execute_input": "2020-10-03T08:31:46.088971Z",
     "iopub.status.busy": "2020-10-03T08:31:46.083314Z",
     "iopub.status.idle": "2020-10-03T08:31:46.108778Z",
     "shell.execute_reply": "2020-10-03T08:31:46.111040Z"
    },
    "lines_to_next_cell": 0,
    "title": "codecell"
   },
   "outputs": [
    {
     "data": {
      "text/latex": [
       "$\\displaystyle {\\left( d \\mapsto \\sigma{\\left(d \\right)} \\right)}_{\\circ}\\left({X}\\right)$"
      ],
      "text/plain": [
       "Lambda(_d, sigma(_d)).(X)"
      ]
     },
     "execution_count": 1,
     "metadata": {},
     "output_type": "execute_result"
    }
   ],
   "source": [
    "A.applyfunc(sigma)"
   ]
  },
  {
   "cell_type": "code",
   "execution_count": 131,
   "metadata": {
    "execution": {
     "iopub.execute_input": "2020-10-03T08:31:46.123864Z",
     "iopub.status.busy": "2020-10-03T08:31:46.122139Z",
     "iopub.status.idle": "2020-10-03T08:31:46.136945Z",
     "shell.execute_reply": "2020-10-03T08:31:46.145191Z"
    },
    "lines_to_next_cell": 0,
    "title": "codecell"
   },
   "outputs": [],
   "source": [
    "sigma = Function(\"sigma\", applyfunc=True, bool=False)"
   ]
  },
  {
   "cell_type": "code",
   "execution_count": 132,
   "metadata": {
    "execution": {
     "iopub.execute_input": "2020-10-03T08:31:46.150621Z",
     "iopub.status.busy": "2020-10-03T08:31:46.148816Z",
     "iopub.status.idle": "2020-10-03T08:31:46.174552Z",
     "shell.execute_reply": "2020-10-03T08:31:46.177049Z"
    },
    "lines_to_next_cell": 0,
    "title": "codecell"
   },
   "outputs": [
    {
     "data": {
      "text/plain": [
       "mappingproxy({'applyfunc': True,\n",
       "              'bool': False,\n",
       "              '_kwargs': {'applyfunc': True, 'bool': False},\n",
       "              '__module__': None,\n",
       "              '__doc__': None,\n",
       "              'name': 'sigma',\n",
       "              '_sage_': <sympy.core.function.UndefSageHelper at 0x7fea7613ae50>,\n",
       "              '_nargs': None,\n",
       "              '__sympy__': <property at 0x7fea74d761d0>,\n",
       "              '_explicit_class_assumptions': {},\n",
       "              'default_assumptions': {},\n",
       "              '_prop_handler': {'extended_positive': <function sympy.core.expr.Expr._eval_is_extended_positive(self)>,\n",
       "               'positive': <function sympy.core.expr.Expr._eval_is_positive(self)>,\n",
       "               'negative': <function sympy.core.expr.Expr._eval_is_negative(self)>,\n",
       "               'extended_negative': <function sympy.core.expr.Expr._eval_is_extended_negative(self)>,\n",
       "               'commutative': <function sympy.core.function.Function._eval_is_commutative(self)>}})"
      ]
     },
     "execution_count": 1,
     "metadata": {},
     "output_type": "execute_result"
    }
   ],
   "source": [
    "sigma.__dict__"
   ]
  },
  {
   "cell_type": "code",
   "execution_count": 133,
   "metadata": {
    "execution": {
     "iopub.execute_input": "2020-10-03T08:31:46.191159Z",
     "iopub.status.busy": "2020-10-03T08:31:46.189059Z",
     "iopub.status.idle": "2020-10-03T08:31:46.218887Z",
     "shell.execute_reply": "2020-10-03T08:31:46.220935Z"
    },
    "lines_to_next_cell": 0,
    "title": "codecell"
   },
   "outputs": [
    {
     "data": {
      "text/latex": [
       "$\\displaystyle \\lambda{\\left(\\sigma_{apply}{\\left(y{\\left(X,W \\right)} \\right)} \\right)}$"
      ],
      "text/plain": [
       "lambda(sigma_apply(y(X, W)))"
      ]
     },
     "execution_count": 1,
     "metadata": {},
     "output_type": "execute_result"
    }
   ],
   "source": [
    "Ly = lambd(sigmaApply(y(A,B))); Ly"
   ]
  },
  {
   "cell_type": "code",
   "execution_count": 134,
   "metadata": {
    "execution": {
     "iopub.execute_input": "2020-10-03T08:31:46.227752Z",
     "iopub.status.busy": "2020-10-03T08:31:46.224445Z",
     "iopub.status.idle": "2020-10-03T08:31:46.315994Z",
     "shell.execute_reply": "2020-10-03T08:31:46.319238Z"
    },
    "lines_to_next_cell": 0,
    "title": "codecell"
   },
   "outputs": [
    {
     "data": {
      "text/latex": [
       "$\\displaystyle \\left[\\begin{matrix}\\sigma{\\left(w_{11} x_{11} + w_{21} x_{12} + w_{31} x_{13} \\right)} & \\sigma{\\left(w_{12} x_{11} + w_{22} x_{12} + w_{32} x_{13} \\right)}\\\\\\sigma{\\left(w_{11} x_{21} + w_{21} x_{22} + w_{31} x_{23} \\right)} & \\sigma{\\left(w_{12} x_{21} + w_{22} x_{22} + w_{32} x_{23} \\right)}\\\\\\sigma{\\left(w_{11} x_{31} + w_{21} x_{32} + w_{31} x_{33} \\right)} & \\sigma{\\left(w_{12} x_{31} + w_{22} x_{32} + w_{32} x_{33} \\right)}\\end{matrix}\\right]$"
      ],
      "text/plain": [
       "Matrix([\n",
       "[sigma(w_11*x_11 + w_21*x_12 + w_31*x_13), sigma(w_12*x_11 + w_22*x_12 + w_32*x_13)],\n",
       "[sigma(w_11*x_21 + w_21*x_22 + w_31*x_23), sigma(w_12*x_21 + w_22*x_22 + w_32*x_23)],\n",
       "[sigma(w_11*x_31 + w_21*x_32 + w_31*x_33), sigma(w_12*x_31 + w_22*x_32 + w_32*x_33)]])"
      ]
     },
     "execution_count": 1,
     "metadata": {},
     "output_type": "execute_result"
    }
   ],
   "source": [
    "(X*W).applyfunc(sigma)"
   ]
  },
  {
   "cell_type": "code",
   "execution_count": 135,
   "metadata": {
    "execution": {
     "iopub.execute_input": "2020-10-03T08:31:46.331379Z",
     "iopub.status.busy": "2020-10-03T08:31:46.329745Z",
     "iopub.status.idle": "2020-10-03T08:31:46.360094Z",
     "shell.execute_reply": "2020-10-03T08:31:46.361266Z"
    },
    "lines_to_next_cell": 0,
    "title": "codecell"
   },
   "outputs": [
    {
     "data": {
      "text/latex": [
       "$\\displaystyle {\\left( d \\mapsto \\sigma{\\left(d \\right)} \\right)}_{\\circ}\\left({X W}\\right)$"
      ],
      "text/plain": [
       "Lambda(_d, sigma(_d)).(X*W)"
      ]
     },
     "execution_count": 1,
     "metadata": {},
     "output_type": "execute_result"
    }
   ],
   "source": [
    "(A*B).applyfunc(sigma)"
   ]
  },
  {
   "cell_type": "code",
   "execution_count": 136,
   "metadata": {
    "execution": {
     "iopub.execute_input": "2020-10-03T08:31:46.371610Z",
     "iopub.status.busy": "2020-10-03T08:31:46.368651Z",
     "iopub.status.idle": "2020-10-03T08:31:46.410797Z",
     "shell.execute_reply": "2020-10-03T08:31:46.411965Z"
    },
    "lines_to_next_cell": 0,
    "title": "codecell"
   },
   "outputs": [
    {
     "data": {
      "text/latex": [
       "$\\displaystyle \\left[\\begin{matrix}\\sigma{\\left(X_{0, 0} \\right)} & \\sigma{\\left(X_{0, 1} \\right)} & \\sigma{\\left(X_{0, 2} \\right)}\\\\\\sigma{\\left(X_{1, 0} \\right)} & \\sigma{\\left(X_{1, 1} \\right)} & \\sigma{\\left(X_{1, 2} \\right)}\\\\\\sigma{\\left(X_{2, 0} \\right)} & \\sigma{\\left(X_{2, 1} \\right)} & \\sigma{\\left(X_{2, 2} \\right)}\\end{matrix}\\right]$"
      ],
      "text/plain": [
       "Matrix([\n",
       "[sigma(X[0, 0]), sigma(X[0, 1]), sigma(X[0, 2])],\n",
       "[sigma(X[1, 0]), sigma(X[1, 1]), sigma(X[1, 2])],\n",
       "[sigma(X[2, 0]), sigma(X[2, 1]), sigma(X[2, 2])]])"
      ]
     },
     "execution_count": 1,
     "metadata": {},
     "output_type": "execute_result"
    }
   ],
   "source": [
    "siga(A)\n",
    "#A.applyfunc(siga) ### ERROR dumy object has no attribute shape"
   ]
  },
  {
   "cell_type": "code",
   "execution_count": 137,
   "metadata": {
    "execution": {
     "iopub.execute_input": "2020-10-03T08:31:46.425622Z",
     "iopub.status.busy": "2020-10-03T08:31:46.423866Z",
     "iopub.status.idle": "2020-10-03T08:31:46.447285Z",
     "shell.execute_reply": "2020-10-03T08:31:46.448973Z"
    },
    "lines_to_next_cell": 0,
    "title": "codecell"
   },
   "outputs": [
    {
     "data": {
      "text/plain": [
       "(3, 3)"
      ]
     },
     "execution_count": 1,
     "metadata": {},
     "output_type": "execute_result"
    }
   ],
   "source": [
    "y = Function(\"y\", applyfunc = True, bool=False, shape=(3,3))\n",
    "y.shape"
   ]
  },
  {
   "cell_type": "code",
   "execution_count": 138,
   "metadata": {
    "execution": {
     "iopub.execute_input": "2020-10-03T08:31:46.460284Z",
     "iopub.status.busy": "2020-10-03T08:31:46.458589Z",
     "iopub.status.idle": "2020-10-03T08:31:46.470955Z",
     "shell.execute_reply": "2020-10-03T08:31:46.473322Z"
    },
    "lines_to_next_cell": 0,
    "title": "codecell"
   },
   "outputs": [],
   "source": [
    "# siga(y(A,B))### ERROR: function y is not subscriptable"
   ]
  },
  {
   "cell_type": "code",
   "execution_count": 139,
   "metadata": {
    "lines_to_next_cell": 0,
    "title": "codecell"
   },
   "outputs": [],
   "source": []
  },
  {
   "cell_type": "code",
   "execution_count": 139,
   "metadata": {
    "lines_to_next_cell": 0,
    "title": "codecell"
   },
   "outputs": [],
   "source": []
  },
  {
   "cell_type": "code",
   "execution_count": 139,
   "metadata": {
    "lines_to_next_cell": 0,
    "title": "codecell"
   },
   "outputs": [],
   "source": []
  },
  {
   "cell_type": "code",
   "execution_count": 139,
   "metadata": {
    "lines_to_next_cell": 0,
    "title": "codecell"
   },
   "outputs": [],
   "source": []
  },
  {
   "cell_type": "code",
   "execution_count": 139,
   "metadata": {
    "execution": {
     "iopub.execute_input": "2020-10-03T08:31:46.485532Z",
     "iopub.status.busy": "2020-10-03T08:31:46.481956Z",
     "iopub.status.idle": "2020-10-03T08:31:46.592588Z",
     "shell.execute_reply": "2020-10-03T08:31:46.594642Z"
    },
    "lines_to_next_cell": 0,
    "title": "codecell"
   },
   "outputs": [
    {
     "data": {
      "text/latex": [
       "$\\displaystyle \\frac{\\partial}{\\partial \\sigma_{apply}{\\left(y{\\left(X,W \\right)} \\right)}} \\lambda{\\left(\\sigma_{apply}{\\left(y{\\left(X,W \\right)} \\right)} \\right)} \\frac{\\partial}{\\partial y{\\left(X,W \\right)}} \\sigma_{apply}{\\left(y{\\left(X,W \\right)} \\right)} \\frac{\\partial}{\\partial W} y{\\left(X,W \\right)}$"
      ],
      "text/plain": [
       "Derivative(lambda(sigma_apply(y(X, W))), sigma_apply(y(X, W)))*Derivative(sigma_apply(y(X, W)), y(X, W))*Derivative(y(X, W), W)"
      ]
     },
     "execution_count": 1,
     "metadata": {},
     "output_type": "execute_result"
    }
   ],
   "source": [
    "Ly.subs({A:a,B:b}).diff(b).subs({a:A, b:B})#.replace(sigmaApply, sigmaApply_)"
   ]
  },
  {
   "cell_type": "code",
   "execution_count": 140,
   "metadata": {
    "execution": {
     "iopub.execute_input": "2020-10-03T08:31:46.604455Z",
     "iopub.status.busy": "2020-10-03T08:31:46.602772Z",
     "iopub.status.idle": "2020-10-03T08:31:46.713537Z",
     "shell.execute_reply": "2020-10-03T08:31:46.718577Z"
    },
    "lines_to_next_cell": 0,
    "title": "codecell"
   },
   "outputs": [
    {
     "data": {
      "text/latex": [
       "$\\displaystyle \\frac{\\partial}{\\partial \\sigma_{apply}{\\left(v{\\left(X,W \\right)} \\right)}} \\lambda{\\left(\\sigma_{apply}{\\left(v{\\left(X,W \\right)} \\right)} \\right)} \\frac{\\partial}{\\partial v{\\left(X,W \\right)}} \\sigma_{apply}{\\left(v{\\left(X,W \\right)} \\right)} \\frac{\\partial}{\\partial W} v{\\left(X,W \\right)}$"
      ],
      "text/plain": [
       "Derivative(lambda(sigma_apply(v(X, W))), sigma_apply(v(X, W)))*Derivative(sigma_apply(v(X, W)), v(X, W))*Derivative(v(X, W), W)"
      ]
     },
     "execution_count": 1,
     "metadata": {},
     "output_type": "execute_result"
    }
   ],
   "source": [
    "L.replace(A,a).replace(B,b).diff(b).subs({a:A,b:B})#.replace(sigmaApply, sigmaApply_)#.diff(b)"
   ]
  },
  {
   "cell_type": "code",
   "execution_count": 141,
   "metadata": {
    "execution": {
     "iopub.execute_input": "2020-10-03T08:31:46.725624Z",
     "iopub.status.busy": "2020-10-03T08:31:46.723746Z",
     "iopub.status.idle": "2020-10-03T08:31:47.119137Z",
     "shell.execute_reply": "2020-10-03T08:31:47.121137Z"
    },
    "title": "codecell"
   },
   "outputs": [
    {
     "data": {
      "text/latex": [
       "$\\displaystyle \\left. \\frac{d}{d \\xi_{1}} \\lambda{\\left(\\xi_{1} \\right)} \\right|_{\\substack{ \\xi_{1}={\\left( d \\mapsto \\sigma{\\left(d \\right)} \\right)}_{\\circ}\\left({X W}\\right) }} {\\left( d \\mapsto \\frac{d}{d d} \\sigma{\\left(d \\right)} \\right)}_{\\circ}\\left({X W}\\right) W^{T}$"
      ],
      "text/plain": [
       "Subs(Derivative(lambda(_xi_1), _xi_1), _xi_1, Lambda(_d, sigma(_d)).(X*W))*Lambda(_d, Derivative(sigma(_d), _d)).(X*W)*W.T"
      ]
     },
     "execution_count": 1,
     "metadata": {},
     "output_type": "execute_result"
    }
   ],
   "source": [
    "sigma = Function(\"sigma\", applyfunc=True, real=True)\n",
    "sigmaApply_ = lambda mat: mat.applyfunc(sigma)\n",
    "L = lambd(sigmaApply(n(A,B)))\n",
    "\n",
    "#L.replace(A,a).replace(B,b).diff(b).subs({a:A,b:B}).replace(sigmaApply, sigmaApply_)\n",
    "L.replace(n, v).replace(sigmaApply, sigmaApply_).diff(A)\n",
    "#m = Symbol(\"m\", shape=(3,2))\n",
    "#m.shape\n",
    "\n",
    "#sigmaApply_3 = Lambda(m, siga(m))\n",
    "\n",
    "#L.replace(A,a).replace(B,b).diff(b).replace(b,B).replace(a,A).subs({n:vL}).replace(sigmaApply, sigmaApply_2) ### ERROR: Dummy object has no attribute shape"
   ]
  },
  {
   "cell_type": "code",
   "execution_count": 142,
   "metadata": {
    "execution": {
     "iopub.execute_input": "2020-10-03T08:31:47.136962Z",
     "iopub.status.busy": "2020-10-03T08:31:47.129030Z",
     "iopub.status.idle": "2020-10-03T08:31:47.258780Z",
     "shell.execute_reply": "2020-10-03T08:31:47.261085Z"
    },
    "lines_to_next_cell": 0,
    "title": "codecell"
   },
   "outputs": [
    {
     "data": {
      "text/latex": [
       "$\\displaystyle \\frac{\\partial}{\\partial \\sigma_{apply}{\\left(y{\\left(X,W \\right)} \\right)}} \\lambda{\\left(\\sigma_{apply}{\\left(y{\\left(X,W \\right)} \\right)} \\right)} \\frac{\\partial}{\\partial y{\\left(X,W \\right)}} \\sigma_{apply}{\\left(y{\\left(X,W \\right)} \\right)} \\left(\\frac{\\partial}{\\partial W} y{\\left(X,W \\right)} + \\mathbb{0}\\right)$"
      ],
      "text/plain": [
       "Derivative(lambda(sigma_apply(y(X, W))), sigma_apply(y(X, W)))*Derivative(sigma_apply(y(X, W)), y(X, W))*(Derivative(y(X, W), W) + 0)"
      ]
     },
     "execution_count": 1,
     "metadata": {},
     "output_type": "execute_result"
    }
   ],
   "source": [
    "# Ly.replace(B, b).diff(A)#.replace(sigmaApply, siga)### ERROR noncommutative matrix scalars not supported\n",
    "Ly.replace(A, A.T).replace(B, b).diff(b).replace(b, B).replace(A.T, A)#.replace(sigmaApply, siga)"
   ]
  },
  {
   "cell_type": "code",
   "execution_count": 143,
   "metadata": {
    "execution": {
     "iopub.execute_input": "2020-10-03T08:31:47.271916Z",
     "iopub.status.busy": "2020-10-03T08:31:47.270163Z",
     "iopub.status.idle": "2020-10-03T08:31:47.283155Z",
     "shell.execute_reply": "2020-10-03T08:31:47.286904Z"
    },
    "lines_to_next_cell": 0,
    "title": "codecell"
   },
   "outputs": [],
   "source": [
    "#Ly.replace(B,b).diff(b).replace(b,B) ### ERROR"
   ]
  },
  {
   "cell_type": "code",
   "execution_count": 144,
   "metadata": {
    "execution": {
     "iopub.execute_input": "2020-10-03T08:31:47.294572Z",
     "iopub.status.busy": "2020-10-03T08:31:47.292225Z",
     "iopub.status.idle": "2020-10-03T08:31:47.317771Z",
     "shell.execute_reply": "2020-10-03T08:31:47.322987Z"
    },
    "lines_to_next_cell": 0,
    "title": "codecell"
   },
   "outputs": [
    {
     "data": {
      "text/plain": [
       "mappingproxy({'applyfunc': True,\n",
       "              '_kwargs': {'applyfunc': True},\n",
       "              '__module__': None,\n",
       "              '__doc__': None,\n",
       "              'name': 'v',\n",
       "              '_sage_': <sympy.core.function.UndefSageHelper at 0x7fea7613ae50>,\n",
       "              '_nargs': None,\n",
       "              '__sympy__': <property at 0x7fea74bf9170>,\n",
       "              '_explicit_class_assumptions': {},\n",
       "              'default_assumptions': {},\n",
       "              '_prop_handler': {'extended_positive': <function sympy.core.expr.Expr._eval_is_extended_positive(self)>,\n",
       "               'positive': <function sympy.core.expr.Expr._eval_is_positive(self)>,\n",
       "               'negative': <function sympy.core.expr.Expr._eval_is_negative(self)>,\n",
       "               'extended_negative': <function sympy.core.expr.Expr._eval_is_extended_negative(self)>,\n",
       "               'commutative': <function sympy.core.function.Function._eval_is_commutative(self)>}})"
      ]
     },
     "execution_count": 1,
     "metadata": {},
     "output_type": "execute_result"
    }
   ],
   "source": [
    "# NEXT: try to replace the sigma apply, not working\n",
    "n.__dict__"
   ]
  },
  {
   "cell_type": "code",
   "execution_count": 145,
   "metadata": {
    "execution": {
     "iopub.execute_input": "2020-10-03T08:31:47.334872Z",
     "iopub.status.busy": "2020-10-03T08:31:47.333246Z",
     "iopub.status.idle": "2020-10-03T08:31:47.357602Z",
     "shell.execute_reply": "2020-10-03T08:31:47.360395Z"
    },
    "lines_to_next_cell": 0,
    "title": "codecell"
   },
   "outputs": [
    {
     "data": {
      "text/plain": [
       "mappingproxy({'applyfunc': True,\n",
       "              'bool': False,\n",
       "              'shape': (3, 3),\n",
       "              '_kwargs': {'applyfunc': True, 'bool': False, 'shape': (3, 3)},\n",
       "              '__module__': None,\n",
       "              '__doc__': None,\n",
       "              'name': 'y',\n",
       "              '_sage_': <sympy.core.function.UndefSageHelper at 0x7fea7613ae50>,\n",
       "              '_nargs': None,\n",
       "              '__sympy__': <property at 0x7fea74a22110>,\n",
       "              '_explicit_class_assumptions': {},\n",
       "              'default_assumptions': {},\n",
       "              '_prop_handler': {'extended_positive': <function sympy.core.expr.Expr._eval_is_extended_positive(self)>,\n",
       "               'positive': <function sympy.core.expr.Expr._eval_is_positive(self)>,\n",
       "               'negative': <function sympy.core.expr.Expr._eval_is_negative(self)>,\n",
       "               'extended_negative': <function sympy.core.expr.Expr._eval_is_extended_negative(self)>,\n",
       "               'commutative': <function sympy.core.function.Function._eval_is_commutative(self)>}})"
      ]
     },
     "execution_count": 1,
     "metadata": {},
     "output_type": "execute_result"
    }
   ],
   "source": [
    "y.__dict__\n",
    "# TODO HERE\n",
    "#https://stackoverflow.com/questions/12614334/typeerror-bool-object-is-not-callable"
   ]
  },
  {
   "cell_type": "code",
   "execution_count": 146,
   "metadata": {
    "lines_to_next_cell": 0,
    "title": "codecell"
   },
   "outputs": [],
   "source": []
  },
  {
   "cell_type": "code",
   "execution_count": 146,
   "metadata": {
    "lines_to_next_cell": 0,
    "title": "codecell"
   },
   "outputs": [],
   "source": []
  },
  {
   "cell_type": "code",
   "execution_count": 146,
   "metadata": {
    "execution": {
     "iopub.execute_input": "2020-10-03T08:31:47.373309Z",
     "iopub.status.busy": "2020-10-03T08:31:47.371475Z",
     "iopub.status.idle": "2020-10-03T08:31:47.407508Z",
     "shell.execute_reply": "2020-10-03T08:31:47.410524Z"
    },
    "lines_to_next_cell": 0,
    "title": "codecell"
   },
   "outputs": [
    {
     "data": {
      "text/latex": [
       "$\\displaystyle \\left[\\begin{matrix}t_{11} & t_{12} & t_{13}\\\\t_{21} & t_{22} & t_{23}\\\\t_{31} & t_{32} & t_{33}\\end{matrix}\\right]$"
      ],
      "text/plain": [
       "Matrix([\n",
       "[t_11, t_12, t_13],\n",
       "[t_21, t_22, t_23],\n",
       "[t_31, t_32, t_33]])"
      ]
     },
     "execution_count": 1,
     "metadata": {},
     "output_type": "execute_result"
    }
   ],
   "source": [
    "from sympy import diff\n",
    "# ### WARNING: this only works when size(X) == size(Y) else since size(W) != size(X) cannot subst B with W, so this operation won't work in my case.\n",
    "\n",
    "#X = Matrix(3,3, lambda i,j: Symbol(\"x_{}{}\".format(i+1,j+1))); Matrix(X)\n",
    "# Create another matrix instead of W so that it matches size of X during diff(X) operation, since otherwise the diff by X doesn't work, says X and W need to be same size.\n",
    "\n",
    "Wtemp = Matrix(*X.shape, lambda i,j: Symbol(\"t_{}{}\".format(i+1,j+1))); Matrix(Wtemp)"
   ]
  },
  {
   "cell_type": "code",
   "execution_count": 147,
   "metadata": {
    "execution": {
     "iopub.execute_input": "2020-10-03T08:31:47.423776Z",
     "iopub.status.busy": "2020-10-03T08:31:47.420166Z",
     "iopub.status.idle": "2020-10-03T08:31:47.431232Z",
     "shell.execute_reply": "2020-10-03T08:31:47.442025Z"
    },
    "title": "codecell"
   },
   "outputs": [],
   "source": [
    "#L.subs({A:X, B:Wtemp}).diff(X)[0,0][0,0].replace(n,vN).replace(sigmaApply, sigmaApply_)#.doit()\n",
    "#diff(L.replace(A,A.T), A) # ERROR max recursion depth exceeded"
   ]
  },
  {
   "cell_type": "code",
   "execution_count": 148,
   "metadata": {
    "execution": {
     "iopub.execute_input": "2020-10-03T08:31:47.447260Z",
     "iopub.status.busy": "2020-10-03T08:31:47.445687Z",
     "iopub.status.idle": "2020-10-03T08:31:48.845091Z",
     "shell.execute_reply": "2020-10-03T08:31:48.846302Z"
    },
    "lines_to_next_cell": 0,
    "title": "codecell"
   },
   "outputs": [
    {
     "data": {
      "text/latex": [
       "$\\displaystyle \\left[\\begin{matrix}\\left[\\begin{matrix}\\frac{\\partial}{\\partial X} v{\\left(X,W \\right)} \\frac{\\partial}{\\partial v{\\left(X,W \\right)}} \\sigma_{apply}{\\left(v{\\left(X,W \\right)} \\right)} \\frac{\\partial}{\\partial \\sigma_{apply}{\\left(v{\\left(X,W \\right)} \\right)}} \\lambda{\\left(\\sigma_{apply}{\\left(v{\\left(X,W \\right)} \\right)} \\right)} & 0 & 0\\\\0 & 0 & 0\\\\0 & 0 & 0\\end{matrix}\\right] & \\left[\\begin{matrix}0 & \\frac{\\partial}{\\partial X} v{\\left(X,W \\right)} \\frac{\\partial}{\\partial v{\\left(X,W \\right)}} \\sigma_{apply}{\\left(v{\\left(X,W \\right)} \\right)} \\frac{\\partial}{\\partial \\sigma_{apply}{\\left(v{\\left(X,W \\right)} \\right)}} \\lambda{\\left(\\sigma_{apply}{\\left(v{\\left(X,W \\right)} \\right)} \\right)} & 0\\\\0 & 0 & 0\\\\0 & 0 & 0\\end{matrix}\\right] & \\left[\\begin{matrix}0 & 0 & \\frac{\\partial}{\\partial X} v{\\left(X,W \\right)} \\frac{\\partial}{\\partial v{\\left(X,W \\right)}} \\sigma_{apply}{\\left(v{\\left(X,W \\right)} \\right)} \\frac{\\partial}{\\partial \\sigma_{apply}{\\left(v{\\left(X,W \\right)} \\right)}} \\lambda{\\left(\\sigma_{apply}{\\left(v{\\left(X,W \\right)} \\right)} \\right)}\\\\0 & 0 & 0\\\\0 & 0 & 0\\end{matrix}\\right]\\\\\\left[\\begin{matrix}0 & 0 & 0\\\\\\frac{\\partial}{\\partial X} v{\\left(X,W \\right)} \\frac{\\partial}{\\partial v{\\left(X,W \\right)}} \\sigma_{apply}{\\left(v{\\left(X,W \\right)} \\right)} \\frac{\\partial}{\\partial \\sigma_{apply}{\\left(v{\\left(X,W \\right)} \\right)}} \\lambda{\\left(\\sigma_{apply}{\\left(v{\\left(X,W \\right)} \\right)} \\right)} & 0 & 0\\\\0 & 0 & 0\\end{matrix}\\right] & \\left[\\begin{matrix}0 & 0 & 0\\\\0 & \\frac{\\partial}{\\partial X} v{\\left(X,W \\right)} \\frac{\\partial}{\\partial v{\\left(X,W \\right)}} \\sigma_{apply}{\\left(v{\\left(X,W \\right)} \\right)} \\frac{\\partial}{\\partial \\sigma_{apply}{\\left(v{\\left(X,W \\right)} \\right)}} \\lambda{\\left(\\sigma_{apply}{\\left(v{\\left(X,W \\right)} \\right)} \\right)} & 0\\\\0 & 0 & 0\\end{matrix}\\right] & \\left[\\begin{matrix}0 & 0 & 0\\\\0 & 0 & \\frac{\\partial}{\\partial X} v{\\left(X,W \\right)} \\frac{\\partial}{\\partial v{\\left(X,W \\right)}} \\sigma_{apply}{\\left(v{\\left(X,W \\right)} \\right)} \\frac{\\partial}{\\partial \\sigma_{apply}{\\left(v{\\left(X,W \\right)} \\right)}} \\lambda{\\left(\\sigma_{apply}{\\left(v{\\left(X,W \\right)} \\right)} \\right)}\\\\0 & 0 & 0\\end{matrix}\\right]\\\\\\left[\\begin{matrix}0 & 0 & 0\\\\0 & 0 & 0\\\\\\frac{\\partial}{\\partial X} v{\\left(X,W \\right)} \\frac{\\partial}{\\partial v{\\left(X,W \\right)}} \\sigma_{apply}{\\left(v{\\left(X,W \\right)} \\right)} \\frac{\\partial}{\\partial \\sigma_{apply}{\\left(v{\\left(X,W \\right)} \\right)}} \\lambda{\\left(\\sigma_{apply}{\\left(v{\\left(X,W \\right)} \\right)} \\right)} & 0 & 0\\end{matrix}\\right] & \\left[\\begin{matrix}0 & 0 & 0\\\\0 & 0 & 0\\\\0 & \\frac{\\partial}{\\partial X} v{\\left(X,W \\right)} \\frac{\\partial}{\\partial v{\\left(X,W \\right)}} \\sigma_{apply}{\\left(v{\\left(X,W \\right)} \\right)} \\frac{\\partial}{\\partial \\sigma_{apply}{\\left(v{\\left(X,W \\right)} \\right)}} \\lambda{\\left(\\sigma_{apply}{\\left(v{\\left(X,W \\right)} \\right)} \\right)} & 0\\end{matrix}\\right] & \\left[\\begin{matrix}0 & 0 & 0\\\\0 & 0 & 0\\\\0 & 0 & \\frac{\\partial}{\\partial X} v{\\left(X,W \\right)} \\frac{\\partial}{\\partial v{\\left(X,W \\right)}} \\sigma_{apply}{\\left(v{\\left(X,W \\right)} \\right)} \\frac{\\partial}{\\partial \\sigma_{apply}{\\left(v{\\left(X,W \\right)} \\right)}} \\lambda{\\left(\\sigma_{apply}{\\left(v{\\left(X,W \\right)} \\right)} \\right)}\\end{matrix}\\right]\\end{matrix}\\right]$"
      ],
      "text/plain": [
       "Matrix([\n",
       "[Matrix([\n",
       "[Derivative(v(X, W), X)*Derivative(sigma_apply(v(X, W)), v(X, W))*Derivative(lambda(sigma_apply(v(X, W))), sigma_apply(v(X, W))), 0, 0],\n",
       "[                                                                                                                              0, 0, 0],\n",
       "[                                                                                                                              0, 0, 0]]), Matrix([\n",
       "[0, Derivative(v(X, W), X)*Derivative(sigma_apply(v(X, W)), v(X, W))*Derivative(lambda(sigma_apply(v(X, W))), sigma_apply(v(X, W))), 0],\n",
       "[0,                                                                                                                               0, 0],\n",
       "[0,                                                                                                                               0, 0]]), Matrix([\n",
       "[0, 0, Derivative(v(X, W), X)*Derivative(sigma_apply(v(X, W)), v(X, W))*Derivative(lambda(sigma_apply(v(X, W))), sigma_apply(v(X, W)))],\n",
       "[0, 0,                                                                                                                               0],\n",
       "[0, 0,                                                                                                                               0]])],\n",
       "[Matrix([\n",
       "[                                                                                                                              0, 0, 0],\n",
       "[Derivative(v(X, W), X)*Derivative(sigma_apply(v(X, W)), v(X, W))*Derivative(lambda(sigma_apply(v(X, W))), sigma_apply(v(X, W))), 0, 0],\n",
       "[                                                                                                                              0, 0, 0]]), Matrix([\n",
       "[0,                                                                                                                               0, 0],\n",
       "[0, Derivative(v(X, W), X)*Derivative(sigma_apply(v(X, W)), v(X, W))*Derivative(lambda(sigma_apply(v(X, W))), sigma_apply(v(X, W))), 0],\n",
       "[0,                                                                                                                               0, 0]]), Matrix([\n",
       "[0, 0,                                                                                                                               0],\n",
       "[0, 0, Derivative(v(X, W), X)*Derivative(sigma_apply(v(X, W)), v(X, W))*Derivative(lambda(sigma_apply(v(X, W))), sigma_apply(v(X, W)))],\n",
       "[0, 0,                                                                                                                               0]])],\n",
       "[Matrix([\n",
       "[                                                                                                                              0, 0, 0],\n",
       "[                                                                                                                              0, 0, 0],\n",
       "[Derivative(v(X, W), X)*Derivative(sigma_apply(v(X, W)), v(X, W))*Derivative(lambda(sigma_apply(v(X, W))), sigma_apply(v(X, W))), 0, 0]]), Matrix([\n",
       "[0,                                                                                                                               0, 0],\n",
       "[0,                                                                                                                               0, 0],\n",
       "[0, Derivative(v(X, W), X)*Derivative(sigma_apply(v(X, W)), v(X, W))*Derivative(lambda(sigma_apply(v(X, W))), sigma_apply(v(X, W))), 0]]), Matrix([\n",
       "[0, 0,                                                                                                                               0],\n",
       "[0, 0,                                                                                                                               0],\n",
       "[0, 0, Derivative(v(X, W), X)*Derivative(sigma_apply(v(X, W)), v(X, W))*Derivative(lambda(sigma_apply(v(X, W))), sigma_apply(v(X, W)))]])]])"
      ]
     },
     "execution_count": 1,
     "metadata": {},
     "output_type": "execute_result"
    }
   ],
   "source": [
    "#Lmat = L.subs({A:X, B:Wtemp}).diff(X).subs({X:A, Wtemp: B}); Lmat #replace(X, A).replace(Y,B); Lmat\n",
    "# NOTE need to do replace at the end (instead of subs) else it says unhasable type mutabledensematrix.\n",
    "Lmat = L.subs({A:X, B:Wtemp}).diff(X).replace(X, A).replace(Wtemp,B); Lmat\n",
    "#L.diff(A) # HELL ON THE EDITOR NEVER TRY THIS AGAIN"
   ]
  },
  {
   "cell_type": "code",
   "execution_count": 149,
   "metadata": {
    "execution": {
     "iopub.execute_input": "2020-10-03T08:31:48.856951Z",
     "iopub.status.busy": "2020-10-03T08:31:48.855392Z",
     "iopub.status.idle": "2020-10-03T08:31:48.864595Z",
     "shell.execute_reply": "2020-10-03T08:31:48.869406Z"
    },
    "title": "codecell"
   },
   "outputs": [],
   "source": [
    "#L.replace(A,X).replace(B,W)"
   ]
  },
  {
   "cell_type": "code",
   "execution_count": 150,
   "metadata": {
    "execution": {
     "iopub.execute_input": "2020-10-03T08:31:48.881853Z",
     "iopub.status.busy": "2020-10-03T08:31:48.879817Z",
     "iopub.status.idle": "2020-10-03T08:31:48.895035Z",
     "shell.execute_reply": "2020-10-03T08:31:48.896436Z"
    },
    "lines_to_next_cell": 0,
    "title": "codecell"
   },
   "outputs": [],
   "source": [
    "# Method 2 approach for comparison:\n",
    "#L.replace(n, vN).replace(sigmaApply, sigmaApply_).replace(lambd, lambd_).subs(elemToSpecD).diff(X)#.subs(specToElemD)"
   ]
  },
  {
   "cell_type": "code",
   "execution_count": 151,
   "metadata": {
    "execution": {
     "iopub.execute_input": "2020-10-03T08:31:48.904980Z",
     "iopub.status.busy": "2020-10-03T08:31:48.901463Z",
     "iopub.status.idle": "2020-10-03T08:31:48.932269Z",
     "shell.execute_reply": "2020-10-03T08:31:48.934173Z"
    },
    "lines_to_next_cell": 0,
    "title": "codecell"
   },
   "outputs": [
    {
     "data": {
      "text/latex": [
       "$\\displaystyle \\frac{\\partial}{\\partial X} v{\\left(X,W \\right)} \\frac{\\partial}{\\partial v{\\left(X,W \\right)}} \\sigma_{apply}{\\left(v{\\left(X,W \\right)} \\right)} \\frac{\\partial}{\\partial \\sigma_{apply}{\\left(v{\\left(X,W \\right)} \\right)}} \\lambda{\\left(\\sigma_{apply}{\\left(v{\\left(X,W \\right)} \\right)} \\right)}$"
      ],
      "text/plain": [
       "Derivative(v(X, W), X)*Derivative(sigma_apply(v(X, W)), v(X, W))*Derivative(lambda(sigma_apply(v(X, W))), sigma_apply(v(X, W)))"
      ]
     },
     "execution_count": 1,
     "metadata": {},
     "output_type": "execute_result"
    }
   ],
   "source": [
    "elem = Lmat[0,0][0,0];elem"
   ]
  },
  {
   "cell_type": "code",
   "execution_count": 152,
   "metadata": {
    "execution": {
     "iopub.execute_input": "2020-10-03T08:31:48.950614Z",
     "iopub.status.busy": "2020-10-03T08:31:48.947114Z",
     "iopub.status.idle": "2020-10-03T08:31:49.012142Z",
     "shell.execute_reply": "2020-10-03T08:31:49.013255Z"
    },
    "title": "codecell"
   },
   "outputs": [
    {
     "data": {
      "text/latex": [
       "$\\displaystyle \\left. \\frac{d}{d \\xi_{0}} \\sigma_{apply}{\\left(\\xi_{0} \\right)} \\right|_{\\substack{ \\xi_{0}=X W }} \\frac{\\partial}{\\partial X} X W \\frac{\\partial}{\\partial \\sigma_{apply}{\\left(X W \\right)}} \\lambda{\\left(\\sigma_{apply}{\\left(X W \\right)} \\right)}$"
      ],
      "text/plain": [
       "Subs(Derivative(sigma_apply(_xi_0), _xi_0), _xi_0, X*W)*Derivative(X*W, X)*Derivative(lambda(sigma_apply(X*W)), sigma_apply(X*W))"
      ]
     },
     "execution_count": 1,
     "metadata": {},
     "output_type": "execute_result"
    }
   ],
   "source": [
    "#Lmat.replace(n, vL) # error can't calc deriv .w.r.t to x11*w11 +...\n",
    "# Lmat.replace(n, v) # error can't calc deriv .w.r.t to x11*w11 +...\n",
    "elem.subs(n, vL)"
   ]
  },
  {
   "cell_type": "code",
   "execution_count": 153,
   "metadata": {
    "execution": {
     "iopub.execute_input": "2020-10-03T08:31:49.022674Z",
     "iopub.status.busy": "2020-10-03T08:31:49.018221Z",
     "iopub.status.idle": "2020-10-03T08:31:49.036174Z",
     "shell.execute_reply": "2020-10-03T08:31:49.037429Z"
    },
    "lines_to_next_cell": 0,
    "title": "codecell"
   },
   "outputs": [],
   "source": [
    "#elem.replace(n, v) # error cannot deriv wrt to X*W"
   ]
  },
  {
   "cell_type": "code",
   "execution_count": 154,
   "metadata": {
    "execution": {
     "iopub.execute_input": "2020-10-03T08:31:49.049553Z",
     "iopub.status.busy": "2020-10-03T08:31:49.042316Z",
     "iopub.status.idle": "2020-10-03T08:31:49.074768Z",
     "shell.execute_reply": "2020-10-03T08:31:49.077873Z"
    },
    "lines_to_next_cell": 0,
    "title": "codecell"
   },
   "outputs": [
    {
     "data": {
      "text/latex": [
       "$\\displaystyle \\left[\\begin{matrix}\\sigma{\\left(n_{11} \\right)} & \\sigma{\\left(n_{12} \\right)}\\\\\\sigma{\\left(n_{21} \\right)} & \\sigma{\\left(n_{22} \\right)}\\\\\\sigma{\\left(n_{31} \\right)} & \\sigma{\\left(n_{32} \\right)}\\end{matrix}\\right]$"
      ],
      "text/plain": [
       "Matrix([\n",
       "[sigma(n_11), sigma(n_12)],\n",
       "[sigma(n_21), sigma(n_22)],\n",
       "[sigma(n_31), sigma(n_32)]])"
      ]
     },
     "execution_count": 1,
     "metadata": {},
     "output_type": "execute_result"
    }
   ],
   "source": [
    "Selem"
   ]
  },
  {
   "cell_type": "code",
   "execution_count": 155,
   "metadata": {
    "execution": {
     "iopub.execute_input": "2020-10-03T08:31:49.085714Z",
     "iopub.status.busy": "2020-10-03T08:31:49.083997Z",
     "iopub.status.idle": "2020-10-03T08:31:49.248989Z",
     "shell.execute_reply": "2020-10-03T08:31:49.250075Z"
    },
    "lines_to_next_cell": 0,
    "title": "codecell"
   },
   "outputs": [
    {
     "data": {
      "text/latex": [
       "$\\displaystyle \\frac{\\partial}{\\partial \\left[\\begin{matrix}x_{11} & x_{12} & x_{13}\\\\x_{21} & x_{22} & x_{23}\\\\x_{31} & x_{32} & x_{33}\\end{matrix}\\right]} \\left[\\begin{matrix}n_{11} & n_{12}\\\\n_{21} & n_{22}\\\\n_{31} & n_{32}\\end{matrix}\\right] \\frac{\\partial}{\\partial \\left[\\begin{matrix}n_{11} & n_{12}\\\\n_{21} & n_{22}\\\\n_{31} & n_{32}\\end{matrix}\\right]} \\left[\\begin{matrix}\\sigma{\\left(n_{11} \\right)} & \\sigma{\\left(n_{12} \\right)}\\\\\\sigma{\\left(n_{21} \\right)} & \\sigma{\\left(n_{22} \\right)}\\\\\\sigma{\\left(n_{31} \\right)} & \\sigma{\\left(n_{32} \\right)}\\end{matrix}\\right] \\frac{\\partial}{\\partial \\left[\\begin{matrix}\\sigma{\\left(n_{11} \\right)} & \\sigma{\\left(n_{12} \\right)}\\\\\\sigma{\\left(n_{21} \\right)} & \\sigma{\\left(n_{22} \\right)}\\\\\\sigma{\\left(n_{31} \\right)} & \\sigma{\\left(n_{32} \\right)}\\end{matrix}\\right]} \\lambda{\\left(\\left[\\begin{matrix}\\sigma{\\left(n_{11} \\right)} & \\sigma{\\left(n_{12} \\right)}\\\\\\sigma{\\left(n_{21} \\right)} & \\sigma{\\left(n_{22} \\right)}\\\\\\sigma{\\left(n_{31} \\right)} & \\sigma{\\left(n_{32} \\right)}\\end{matrix}\\right] \\right)}$"
      ],
      "text/plain": [
       "Derivative(Matrix([\n",
       "[n_11, n_12],\n",
       "[n_21, n_22],\n",
       "[n_31, n_32]]), Matrix([\n",
       "[x_11, x_12, x_13],\n",
       "[x_21, x_22, x_23],\n",
       "[x_31, x_32, x_33]]))*Derivative(Matrix([\n",
       "[sigma(n_11), sigma(n_12)],\n",
       "[sigma(n_21), sigma(n_22)],\n",
       "[sigma(n_31), sigma(n_32)]]), Matrix([\n",
       "[n_11, n_12],\n",
       "[n_21, n_22],\n",
       "[n_31, n_32]]))*Derivative(lambda(Matrix([\n",
       "[sigma(n_11), sigma(n_12)],\n",
       "[sigma(n_21), sigma(n_22)],\n",
       "[sigma(n_31), sigma(n_32)]])), Matrix([\n",
       "[sigma(n_11), sigma(n_12)],\n",
       "[sigma(n_21), sigma(n_22)],\n",
       "[sigma(n_31), sigma(n_32)]]))"
      ]
     },
     "execution_count": 1,
     "metadata": {},
     "output_type": "execute_result"
    }
   ],
   "source": [
    "# use replace n with vN instead of subs n with vL to get less specific output so it is easier to see since vL returns the xww*w11 +.... expressions\n",
    "elem.subs({A:X, B:W}).replace(n, vN).replace(sigmaApply, sigmaApply_)"
   ]
  },
  {
   "cell_type": "code",
   "execution_count": 156,
   "metadata": {
    "execution": {
     "iopub.execute_input": "2020-10-03T08:31:49.259232Z",
     "iopub.status.busy": "2020-10-03T08:31:49.254720Z",
     "iopub.status.idle": "2020-10-03T08:31:49.397998Z",
     "shell.execute_reply": "2020-10-03T08:31:49.401108Z"
    },
    "lines_to_next_cell": 0,
    "title": "codecell"
   },
   "outputs": [
    {
     "data": {
      "text/latex": [
       "$\\displaystyle \\frac{d}{d X} N \\frac{\\partial}{\\partial N} \\left[\\begin{matrix}\\sigma{\\left(n_{11} \\right)} & \\sigma{\\left(n_{12} \\right)}\\\\\\sigma{\\left(n_{21} \\right)} & \\sigma{\\left(n_{22} \\right)}\\\\\\sigma{\\left(n_{31} \\right)} & \\sigma{\\left(n_{32} \\right)}\\end{matrix}\\right] \\frac{\\partial}{\\partial \\left[\\begin{matrix}\\sigma{\\left(n_{11} \\right)} & \\sigma{\\left(n_{12} \\right)}\\\\\\sigma{\\left(n_{21} \\right)} & \\sigma{\\left(n_{22} \\right)}\\\\\\sigma{\\left(n_{31} \\right)} & \\sigma{\\left(n_{32} \\right)}\\end{matrix}\\right]} \\lambda{\\left(\\left[\\begin{matrix}\\sigma{\\left(n_{11} \\right)} & \\sigma{\\left(n_{12} \\right)}\\\\\\sigma{\\left(n_{21} \\right)} & \\sigma{\\left(n_{22} \\right)}\\\\\\sigma{\\left(n_{31} \\right)} & \\sigma{\\left(n_{32} \\right)}\\end{matrix}\\right] \\right)}$"
      ],
      "text/plain": [
       "Derivative(N, X)*Derivative(Matrix([\n",
       "[sigma(n_11), sigma(n_12)],\n",
       "[sigma(n_21), sigma(n_22)],\n",
       "[sigma(n_31), sigma(n_32)]]), N)*Derivative(lambda(Matrix([\n",
       "[sigma(n_11), sigma(n_12)],\n",
       "[sigma(n_21), sigma(n_22)],\n",
       "[sigma(n_31), sigma(n_32)]])), Matrix([\n",
       "[sigma(n_11), sigma(n_12)],\n",
       "[sigma(n_21), sigma(n_22)],\n",
       "[sigma(n_31), sigma(n_32)]]))"
      ]
     },
     "execution_count": 1,
     "metadata": {},
     "output_type": "execute_result"
    }
   ],
   "source": [
    "# Making matrix symbols again\n",
    "Ss = MatrixSymbol('S', 3,2) #n by p\n",
    "Ns = MatrixSymbol('N', 3,2) #n by p\n",
    "\n",
    "\n",
    "\n",
    "short = elem.subs({A:X, B:W}).replace(n, vN).replace(sigmaApply, sigmaApply_).replace(X,A).replace(Nelem, Ns).replace(Selem ,Ss)\n",
    "short"
   ]
  },
  {
   "cell_type": "code",
   "execution_count": 157,
   "metadata": {
    "execution": {
     "iopub.execute_input": "2020-10-03T08:31:49.414666Z",
     "iopub.status.busy": "2020-10-03T08:31:49.412986Z",
     "iopub.status.idle": "2020-10-03T08:31:49.563466Z",
     "shell.execute_reply": "2020-10-03T08:31:49.565033Z"
    },
    "lines_to_next_cell": 0,
    "title": "codecell"
   },
   "outputs": [
    {
     "data": {
      "text/latex": [
       "$\\displaystyle \\frac{\\partial}{\\partial \\left[\\begin{matrix}\\sigma{\\left(n_{11} \\right)} & \\sigma{\\left(n_{12} \\right)}\\\\\\sigma{\\left(n_{21} \\right)} & \\sigma{\\left(n_{22} \\right)}\\\\\\sigma{\\left(n_{31} \\right)} & \\sigma{\\left(n_{32} \\right)}\\end{matrix}\\right]} \\left(\\sigma{\\left(n_{11} \\right)} + \\sigma{\\left(n_{12} \\right)} + \\sigma{\\left(n_{21} \\right)} + \\sigma{\\left(n_{22} \\right)} + \\sigma{\\left(n_{31} \\right)} + \\sigma{\\left(n_{32} \\right)}\\right) \\frac{\\partial}{\\partial \\left[\\begin{matrix}x_{11} & x_{12} & x_{13}\\\\x_{21} & x_{22} & x_{23}\\\\x_{31} & x_{32} & x_{33}\\end{matrix}\\right]} \\left[\\begin{matrix}n_{11} & n_{12}\\\\n_{21} & n_{22}\\\\n_{31} & n_{32}\\end{matrix}\\right] \\frac{\\partial}{\\partial \\left[\\begin{matrix}n_{11} & n_{12}\\\\n_{21} & n_{22}\\\\n_{31} & n_{32}\\end{matrix}\\right]} \\left[\\begin{matrix}\\sigma{\\left(n_{11} \\right)} & \\sigma{\\left(n_{12} \\right)}\\\\\\sigma{\\left(n_{21} \\right)} & \\sigma{\\left(n_{22} \\right)}\\\\\\sigma{\\left(n_{31} \\right)} & \\sigma{\\left(n_{32} \\right)}\\end{matrix}\\right]$"
      ],
      "text/plain": [
       "Derivative(sigma(n_11) + sigma(n_12) + sigma(n_21) + sigma(n_22) + sigma(n_31) + sigma(n_32), Matrix([\n",
       "[sigma(n_11), sigma(n_12)],\n",
       "[sigma(n_21), sigma(n_22)],\n",
       "[sigma(n_31), sigma(n_32)]]))*Derivative(Matrix([\n",
       "[n_11, n_12],\n",
       "[n_21, n_22],\n",
       "[n_31, n_32]]), Matrix([\n",
       "[x_11, x_12, x_13],\n",
       "[x_21, x_22, x_23],\n",
       "[x_31, x_32, x_33]]))*Derivative(Matrix([\n",
       "[sigma(n_11), sigma(n_12)],\n",
       "[sigma(n_21), sigma(n_22)],\n",
       "[sigma(n_31), sigma(n_32)]]), Matrix([\n",
       "[n_11, n_12],\n",
       "[n_21, n_22],\n",
       "[n_31, n_32]]))"
      ]
     },
     "execution_count": 1,
     "metadata": {},
     "output_type": "execute_result"
    }
   ],
   "source": [
    "# Now going back to matrix form just to apply the last function LAMBDA\n",
    "elem.subs({A:X, B:W}).replace(n, vN).replace(sigmaApply, sigmaApply_).replace(lambd, lambd_)"
   ]
  },
  {
   "cell_type": "code",
   "execution_count": 158,
   "metadata": {
    "execution": {
     "iopub.execute_input": "2020-10-03T08:31:49.576519Z",
     "iopub.status.busy": "2020-10-03T08:31:49.573874Z",
     "iopub.status.idle": "2020-10-03T08:31:49.647309Z",
     "shell.execute_reply": "2020-10-03T08:31:49.648642Z"
    },
    "lines_to_next_cell": 0,
    "title": "codecell"
   },
   "outputs": [
    {
     "data": {
      "text/latex": [
       "$\\displaystyle \\left[\\begin{matrix}n_{11} & \\operatorname{n_{11}}{\\left(x_{11},x_{12},x_{13},x_{21},x_{22},x_{23},x_{31},x_{32},x_{33},w_{11},w_{12},w_{21},w_{22},w_{31},w_{32} \\right)}\\\\n_{12} & \\operatorname{n_{12}}{\\left(x_{11},x_{12},x_{13},x_{21},x_{22},x_{23},x_{31},x_{32},x_{33},w_{11},w_{12},w_{21},w_{22},w_{31},w_{32} \\right)}\\\\n_{21} & \\operatorname{n_{21}}{\\left(x_{11},x_{12},x_{13},x_{21},x_{22},x_{23},x_{31},x_{32},x_{33},w_{11},w_{12},w_{21},w_{22},w_{31},w_{32} \\right)}\\\\n_{22} & \\operatorname{n_{22}}{\\left(x_{11},x_{12},x_{13},x_{21},x_{22},x_{23},x_{31},x_{32},x_{33},w_{11},w_{12},w_{21},w_{22},w_{31},w_{32} \\right)}\\\\n_{31} & \\operatorname{n_{31}}{\\left(x_{11},x_{12},x_{13},x_{21},x_{22},x_{23},x_{31},x_{32},x_{33},w_{11},w_{12},w_{21},w_{22},w_{31},w_{32} \\right)}\\\\n_{32} & \\operatorname{n_{32}}{\\left(x_{11},x_{12},x_{13},x_{21},x_{22},x_{23},x_{31},x_{32},x_{33},w_{11},w_{12},w_{21},w_{22},w_{31},w_{32} \\right)}\\end{matrix}\\right]$"
      ],
      "text/plain": [
       "Matrix([\n",
       "[n_11, n_11(x_11, x_12, x_13, x_21, x_22, x_23, x_31, x_32, x_33, w_11, w_12, w_21, w_22, w_31, w_32)],\n",
       "[n_12, n_12(x_11, x_12, x_13, x_21, x_22, x_23, x_31, x_32, x_33, w_11, w_12, w_21, w_22, w_31, w_32)],\n",
       "[n_21, n_21(x_11, x_12, x_13, x_21, x_22, x_23, x_31, x_32, x_33, w_11, w_12, w_21, w_22, w_31, w_32)],\n",
       "[n_22, n_22(x_11, x_12, x_13, x_21, x_22, x_23, x_31, x_32, x_33, w_11, w_12, w_21, w_22, w_31, w_32)],\n",
       "[n_31, n_31(x_11, x_12, x_13, x_21, x_22, x_23, x_31, x_32, x_33, w_11, w_12, w_21, w_22, w_31, w_32)],\n",
       "[n_32, n_32(x_11, x_12, x_13, x_21, x_22, x_23, x_31, x_32, x_33, w_11, w_12, w_21, w_22, w_31, w_32)]])"
      ]
     },
     "execution_count": 1,
     "metadata": {},
     "output_type": "execute_result"
    }
   ],
   "source": [
    "# Making each of the n_ijs a function\n",
    "#elem.subs({A:X, B:W}).replace(n, vN).replace(sigmaApply, sigmaApply_).replace(lambd, lambd_).subs(elemToSpecD)\n",
    "\n",
    "Matrix(elemToSpecFuncArgs)"
   ]
  },
  {
   "cell_type": "code",
   "execution_count": 159,
   "metadata": {
    "execution": {
     "iopub.execute_input": "2020-10-03T08:31:49.661411Z",
     "iopub.status.busy": "2020-10-03T08:31:49.659119Z",
     "iopub.status.idle": "2020-10-03T08:31:50.466304Z",
     "shell.execute_reply": "2020-10-03T08:31:50.467789Z"
    },
    "lines_to_next_cell": 0,
    "title": "codecell"
   },
   "outputs": [
    {
     "data": {
      "text/latex": [
       "$\\displaystyle \\frac{\\partial}{\\partial \\left[\\begin{matrix}\\sigma{\\left(\\operatorname{n_{11}}{\\left(x_{11},x_{12},x_{13},x_{21},x_{22},x_{23},x_{31},x_{32},x_{33},w_{11},w_{12},w_{21},w_{22},w_{31},w_{32} \\right)} \\right)} & \\sigma{\\left(\\operatorname{n_{12}}{\\left(x_{11},x_{12},x_{13},x_{21},x_{22},x_{23},x_{31},x_{32},x_{33},w_{11},w_{12},w_{21},w_{22},w_{31},w_{32} \\right)} \\right)}\\\\\\sigma{\\left(\\operatorname{n_{21}}{\\left(x_{11},x_{12},x_{13},x_{21},x_{22},x_{23},x_{31},x_{32},x_{33},w_{11},w_{12},w_{21},w_{22},w_{31},w_{32} \\right)} \\right)} & \\sigma{\\left(\\operatorname{n_{22}}{\\left(x_{11},x_{12},x_{13},x_{21},x_{22},x_{23},x_{31},x_{32},x_{33},w_{11},w_{12},w_{21},w_{22},w_{31},w_{32} \\right)} \\right)}\\\\\\sigma{\\left(\\operatorname{n_{31}}{\\left(x_{11},x_{12},x_{13},x_{21},x_{22},x_{23},x_{31},x_{32},x_{33},w_{11},w_{12},w_{21},w_{22},w_{31},w_{32} \\right)} \\right)} & \\sigma{\\left(\\operatorname{n_{32}}{\\left(x_{11},x_{12},x_{13},x_{21},x_{22},x_{23},x_{31},x_{32},x_{33},w_{11},w_{12},w_{21},w_{22},w_{31},w_{32} \\right)} \\right)}\\end{matrix}\\right]} \\left(\\sigma{\\left(\\operatorname{n_{11}}{\\left(x_{11},x_{12},x_{13},x_{21},x_{22},x_{23},x_{31},x_{32},x_{33},w_{11},w_{12},w_{21},w_{22},w_{31},w_{32} \\right)} \\right)} + \\sigma{\\left(\\operatorname{n_{12}}{\\left(x_{11},x_{12},x_{13},x_{21},x_{22},x_{23},x_{31},x_{32},x_{33},w_{11},w_{12},w_{21},w_{22},w_{31},w_{32} \\right)} \\right)} + \\sigma{\\left(\\operatorname{n_{21}}{\\left(x_{11},x_{12},x_{13},x_{21},x_{22},x_{23},x_{31},x_{32},x_{33},w_{11},w_{12},w_{21},w_{22},w_{31},w_{32} \\right)} \\right)} + \\sigma{\\left(\\operatorname{n_{22}}{\\left(x_{11},x_{12},x_{13},x_{21},x_{22},x_{23},x_{31},x_{32},x_{33},w_{11},w_{12},w_{21},w_{22},w_{31},w_{32} \\right)} \\right)} + \\sigma{\\left(\\operatorname{n_{31}}{\\left(x_{11},x_{12},x_{13},x_{21},x_{22},x_{23},x_{31},x_{32},x_{33},w_{11},w_{12},w_{21},w_{22},w_{31},w_{32} \\right)} \\right)} + \\sigma{\\left(\\operatorname{n_{32}}{\\left(x_{11},x_{12},x_{13},x_{21},x_{22},x_{23},x_{31},x_{32},x_{33},w_{11},w_{12},w_{21},w_{22},w_{31},w_{32} \\right)} \\right)}\\right) \\frac{\\partial}{\\partial \\left[\\begin{matrix}x_{11} & x_{12} & x_{13}\\\\x_{21} & x_{22} & x_{23}\\\\x_{31} & x_{32} & x_{33}\\end{matrix}\\right]} \\left[\\begin{matrix}\\operatorname{n_{11}}{\\left(x_{11},x_{12},x_{13},x_{21},x_{22},x_{23},x_{31},x_{32},x_{33},w_{11},w_{12},w_{21},w_{22},w_{31},w_{32} \\right)} & \\operatorname{n_{12}}{\\left(x_{11},x_{12},x_{13},x_{21},x_{22},x_{23},x_{31},x_{32},x_{33},w_{11},w_{12},w_{21},w_{22},w_{31},w_{32} \\right)}\\\\\\operatorname{n_{21}}{\\left(x_{11},x_{12},x_{13},x_{21},x_{22},x_{23},x_{31},x_{32},x_{33},w_{11},w_{12},w_{21},w_{22},w_{31},w_{32} \\right)} & \\operatorname{n_{22}}{\\left(x_{11},x_{12},x_{13},x_{21},x_{22},x_{23},x_{31},x_{32},x_{33},w_{11},w_{12},w_{21},w_{22},w_{31},w_{32} \\right)}\\\\\\operatorname{n_{31}}{\\left(x_{11},x_{12},x_{13},x_{21},x_{22},x_{23},x_{31},x_{32},x_{33},w_{11},w_{12},w_{21},w_{22},w_{31},w_{32} \\right)} & \\operatorname{n_{32}}{\\left(x_{11},x_{12},x_{13},x_{21},x_{22},x_{23},x_{31},x_{32},x_{33},w_{11},w_{12},w_{21},w_{22},w_{31},w_{32} \\right)}\\end{matrix}\\right] \\frac{\\partial}{\\partial \\left[\\begin{matrix}\\operatorname{n_{11}}{\\left(x_{11},x_{12},x_{13},x_{21},x_{22},x_{23},x_{31},x_{32},x_{33},w_{11},w_{12},w_{21},w_{22},w_{31},w_{32} \\right)} & \\operatorname{n_{12}}{\\left(x_{11},x_{12},x_{13},x_{21},x_{22},x_{23},x_{31},x_{32},x_{33},w_{11},w_{12},w_{21},w_{22},w_{31},w_{32} \\right)}\\\\\\operatorname{n_{21}}{\\left(x_{11},x_{12},x_{13},x_{21},x_{22},x_{23},x_{31},x_{32},x_{33},w_{11},w_{12},w_{21},w_{22},w_{31},w_{32} \\right)} & \\operatorname{n_{22}}{\\left(x_{11},x_{12},x_{13},x_{21},x_{22},x_{23},x_{31},x_{32},x_{33},w_{11},w_{12},w_{21},w_{22},w_{31},w_{32} \\right)}\\\\\\operatorname{n_{31}}{\\left(x_{11},x_{12},x_{13},x_{21},x_{22},x_{23},x_{31},x_{32},x_{33},w_{11},w_{12},w_{21},w_{22},w_{31},w_{32} \\right)} & \\operatorname{n_{32}}{\\left(x_{11},x_{12},x_{13},x_{21},x_{22},x_{23},x_{31},x_{32},x_{33},w_{11},w_{12},w_{21},w_{22},w_{31},w_{32} \\right)}\\end{matrix}\\right]} \\left[\\begin{matrix}\\sigma{\\left(\\operatorname{n_{11}}{\\left(x_{11},x_{12},x_{13},x_{21},x_{22},x_{23},x_{31},x_{32},x_{33},w_{11},w_{12},w_{21},w_{22},w_{31},w_{32} \\right)} \\right)} & \\sigma{\\left(\\operatorname{n_{12}}{\\left(x_{11},x_{12},x_{13},x_{21},x_{22},x_{23},x_{31},x_{32},x_{33},w_{11},w_{12},w_{21},w_{22},w_{31},w_{32} \\right)} \\right)}\\\\\\sigma{\\left(\\operatorname{n_{21}}{\\left(x_{11},x_{12},x_{13},x_{21},x_{22},x_{23},x_{31},x_{32},x_{33},w_{11},w_{12},w_{21},w_{22},w_{31},w_{32} \\right)} \\right)} & \\sigma{\\left(\\operatorname{n_{22}}{\\left(x_{11},x_{12},x_{13},x_{21},x_{22},x_{23},x_{31},x_{32},x_{33},w_{11},w_{12},w_{21},w_{22},w_{31},w_{32} \\right)} \\right)}\\\\\\sigma{\\left(\\operatorname{n_{31}}{\\left(x_{11},x_{12},x_{13},x_{21},x_{22},x_{23},x_{31},x_{32},x_{33},w_{11},w_{12},w_{21},w_{22},w_{31},w_{32} \\right)} \\right)} & \\sigma{\\left(\\operatorname{n_{32}}{\\left(x_{11},x_{12},x_{13},x_{21},x_{22},x_{23},x_{31},x_{32},x_{33},w_{11},w_{12},w_{21},w_{22},w_{31},w_{32} \\right)} \\right)}\\end{matrix}\\right]$"
      ],
      "text/plain": [
       "Derivative(sigma(n_11(x_11, x_12, x_13, x_21, x_22, x_23, x_31, x_32, x_33, w_11, w_12, w_21, w_22, w_31, w_32)) + sigma(n_12(x_11, x_12, x_13, x_21, x_22, x_23, x_31, x_32, x_33, w_11, w_12, w_21, w_22, w_31, w_32)) + sigma(n_21(x_11, x_12, x_13, x_21, x_22, x_23, x_31, x_32, x_33, w_11, w_12, w_21, w_22, w_31, w_32)) + sigma(n_22(x_11, x_12, x_13, x_21, x_22, x_23, x_31, x_32, x_33, w_11, w_12, w_21, w_22, w_31, w_32)) + sigma(n_31(x_11, x_12, x_13, x_21, x_22, x_23, x_31, x_32, x_33, w_11, w_12, w_21, w_22, w_31, w_32)) + sigma(n_32(x_11, x_12, x_13, x_21, x_22, x_23, x_31, x_32, x_33, w_11, w_12, w_21, w_22, w_31, w_32)), Matrix([\n",
       "[sigma(n_11(x_11, x_12, x_13, x_21, x_22, x_23, x_31, x_32, x_33, w_11, w_12, w_21, w_22, w_31, w_32)), sigma(n_12(x_11, x_12, x_13, x_21, x_22, x_23, x_31, x_32, x_33, w_11, w_12, w_21, w_22, w_31, w_32))],\n",
       "[sigma(n_21(x_11, x_12, x_13, x_21, x_22, x_23, x_31, x_32, x_33, w_11, w_12, w_21, w_22, w_31, w_32)), sigma(n_22(x_11, x_12, x_13, x_21, x_22, x_23, x_31, x_32, x_33, w_11, w_12, w_21, w_22, w_31, w_32))],\n",
       "[sigma(n_31(x_11, x_12, x_13, x_21, x_22, x_23, x_31, x_32, x_33, w_11, w_12, w_21, w_22, w_31, w_32)), sigma(n_32(x_11, x_12, x_13, x_21, x_22, x_23, x_31, x_32, x_33, w_11, w_12, w_21, w_22, w_31, w_32))]]))*Derivative(Matrix([\n",
       "[n_11(x_11, x_12, x_13, x_21, x_22, x_23, x_31, x_32, x_33, w_11, w_12, w_21, w_22, w_31, w_32), n_12(x_11, x_12, x_13, x_21, x_22, x_23, x_31, x_32, x_33, w_11, w_12, w_21, w_22, w_31, w_32)],\n",
       "[n_21(x_11, x_12, x_13, x_21, x_22, x_23, x_31, x_32, x_33, w_11, w_12, w_21, w_22, w_31, w_32), n_22(x_11, x_12, x_13, x_21, x_22, x_23, x_31, x_32, x_33, w_11, w_12, w_21, w_22, w_31, w_32)],\n",
       "[n_31(x_11, x_12, x_13, x_21, x_22, x_23, x_31, x_32, x_33, w_11, w_12, w_21, w_22, w_31, w_32), n_32(x_11, x_12, x_13, x_21, x_22, x_23, x_31, x_32, x_33, w_11, w_12, w_21, w_22, w_31, w_32)]]), Matrix([\n",
       "[x_11, x_12, x_13],\n",
       "[x_21, x_22, x_23],\n",
       "[x_31, x_32, x_33]]))*Derivative(Matrix([\n",
       "[sigma(n_11(x_11, x_12, x_13, x_21, x_22, x_23, x_31, x_32, x_33, w_11, w_12, w_21, w_22, w_31, w_32)), sigma(n_12(x_11, x_12, x_13, x_21, x_22, x_23, x_31, x_32, x_33, w_11, w_12, w_21, w_22, w_31, w_32))],\n",
       "[sigma(n_21(x_11, x_12, x_13, x_21, x_22, x_23, x_31, x_32, x_33, w_11, w_12, w_21, w_22, w_31, w_32)), sigma(n_22(x_11, x_12, x_13, x_21, x_22, x_23, x_31, x_32, x_33, w_11, w_12, w_21, w_22, w_31, w_32))],\n",
       "[sigma(n_31(x_11, x_12, x_13, x_21, x_22, x_23, x_31, x_32, x_33, w_11, w_12, w_21, w_22, w_31, w_32)), sigma(n_32(x_11, x_12, x_13, x_21, x_22, x_23, x_31, x_32, x_33, w_11, w_12, w_21, w_22, w_31, w_32))]]), Matrix([\n",
       "[n_11(x_11, x_12, x_13, x_21, x_22, x_23, x_31, x_32, x_33, w_11, w_12, w_21, w_22, w_31, w_32), n_12(x_11, x_12, x_13, x_21, x_22, x_23, x_31, x_32, x_33, w_11, w_12, w_21, w_22, w_31, w_32)],\n",
       "[n_21(x_11, x_12, x_13, x_21, x_22, x_23, x_31, x_32, x_33, w_11, w_12, w_21, w_22, w_31, w_32), n_22(x_11, x_12, x_13, x_21, x_22, x_23, x_31, x_32, x_33, w_11, w_12, w_21, w_22, w_31, w_32)],\n",
       "[n_31(x_11, x_12, x_13, x_21, x_22, x_23, x_31, x_32, x_33, w_11, w_12, w_21, w_22, w_31, w_32), n_32(x_11, x_12, x_13, x_21, x_22, x_23, x_31, x_32, x_33, w_11, w_12, w_21, w_22, w_31, w_32)]]))"
      ]
     },
     "execution_count": 1,
     "metadata": {},
     "output_type": "execute_result"
    }
   ],
   "source": [
    "\n",
    "long = elem.subs({A:X, B:W}).replace(n, vN).replace(sigmaApply, sigmaApply_).replace(lambd, lambd_).subs(elemToSpecFuncArgsD)\n",
    "long"
   ]
  },
  {
   "cell_type": "code",
   "execution_count": 160,
   "metadata": {
    "execution": {
     "iopub.execute_input": "2020-10-03T08:31:50.481855Z",
     "iopub.status.busy": "2020-10-03T08:31:50.480145Z",
     "iopub.status.idle": "2020-10-03T08:31:50.520293Z",
     "shell.execute_reply": "2020-10-03T08:31:50.521866Z"
    },
    "lines_to_next_cell": 0,
    "title": "codecell"
   },
   "outputs": [
    {
     "data": {
      "text/latex": [
       "$\\displaystyle \\frac{d}{d X} N \\frac{\\partial}{\\partial N} \\left[\\begin{matrix}\\sigma{\\left(n_{11} \\right)} & \\sigma{\\left(n_{12} \\right)}\\\\\\sigma{\\left(n_{21} \\right)} & \\sigma{\\left(n_{22} \\right)}\\\\\\sigma{\\left(n_{31} \\right)} & \\sigma{\\left(n_{32} \\right)}\\end{matrix}\\right] \\frac{\\partial}{\\partial \\left[\\begin{matrix}\\sigma{\\left(n_{11} \\right)} & \\sigma{\\left(n_{12} \\right)}\\\\\\sigma{\\left(n_{21} \\right)} & \\sigma{\\left(n_{22} \\right)}\\\\\\sigma{\\left(n_{31} \\right)} & \\sigma{\\left(n_{32} \\right)}\\end{matrix}\\right]} \\lambda{\\left(\\left[\\begin{matrix}\\sigma{\\left(n_{11} \\right)} & \\sigma{\\left(n_{12} \\right)}\\\\\\sigma{\\left(n_{21} \\right)} & \\sigma{\\left(n_{22} \\right)}\\\\\\sigma{\\left(n_{31} \\right)} & \\sigma{\\left(n_{32} \\right)}\\end{matrix}\\right] \\right)}$"
      ],
      "text/plain": [
       "Derivative(N, X)*Derivative(Matrix([\n",
       "[sigma(n_11), sigma(n_12)],\n",
       "[sigma(n_21), sigma(n_22)],\n",
       "[sigma(n_31), sigma(n_32)]]), N)*Derivative(lambda(Matrix([\n",
       "[sigma(n_11), sigma(n_12)],\n",
       "[sigma(n_21), sigma(n_22)],\n",
       "[sigma(n_31), sigma(n_32)]])), Matrix([\n",
       "[sigma(n_11), sigma(n_12)],\n",
       "[sigma(n_21), sigma(n_22)],\n",
       "[sigma(n_31), sigma(n_32)]]))"
      ]
     },
     "execution_count": 1,
     "metadata": {},
     "output_type": "execute_result"
    }
   ],
   "source": [
    "# short version again:\n",
    "short"
   ]
  },
  {
   "cell_type": "code",
   "execution_count": 161,
   "metadata": {
    "execution": {
     "iopub.execute_input": "2020-10-03T08:31:50.530623Z",
     "iopub.status.busy": "2020-10-03T08:31:50.528938Z",
     "iopub.status.idle": "2020-10-03T08:31:50.544677Z",
     "shell.execute_reply": "2020-10-03T08:31:50.545928Z"
    },
    "lines_to_next_cell": 0,
    "title": "codecell"
   },
   "outputs": [],
   "source": [
    "# long.doit() # error as base exp thing"
   ]
  },
  {
   "cell_type": "code",
   "execution_count": 162,
   "metadata": {
    "execution": {
     "iopub.execute_input": "2020-10-03T08:31:50.556078Z",
     "iopub.status.busy": "2020-10-03T08:31:50.551122Z",
     "iopub.status.idle": "2020-10-03T08:31:50.699266Z",
     "shell.execute_reply": "2020-10-03T08:31:50.700651Z"
    },
    "lines_to_next_cell": 0,
    "title": "codecell"
   },
   "outputs": [
    {
     "data": {
      "text/latex": [
       "$\\displaystyle \\frac{\\partial}{\\partial \\left[\\begin{matrix}\\sigma{\\left(n_{11} \\right)} & \\sigma{\\left(n_{12} \\right)}\\\\\\sigma{\\left(n_{21} \\right)} & \\sigma{\\left(n_{22} \\right)}\\\\\\sigma{\\left(n_{31} \\right)} & \\sigma{\\left(n_{32} \\right)}\\end{matrix}\\right]} \\left(\\sigma{\\left(n_{11} \\right)} + \\sigma{\\left(n_{12} \\right)} + \\sigma{\\left(n_{21} \\right)} + \\sigma{\\left(n_{22} \\right)} + \\sigma{\\left(n_{31} \\right)} + \\sigma{\\left(n_{32} \\right)}\\right) \\frac{d}{d X} N \\frac{\\partial}{\\partial N} \\left[\\begin{matrix}\\sigma{\\left(n_{11} \\right)} & \\sigma{\\left(n_{12} \\right)}\\\\\\sigma{\\left(n_{21} \\right)} & \\sigma{\\left(n_{22} \\right)}\\\\\\sigma{\\left(n_{31} \\right)} & \\sigma{\\left(n_{32} \\right)}\\end{matrix}\\right]$"
      ],
      "text/plain": [
       "Derivative(sigma(n_11) + sigma(n_12) + sigma(n_21) + sigma(n_22) + sigma(n_31) + sigma(n_32), Matrix([\n",
       "[sigma(n_11), sigma(n_12)],\n",
       "[sigma(n_21), sigma(n_22)],\n",
       "[sigma(n_31), sigma(n_32)]]))*Derivative(N, X)*Derivative(Matrix([\n",
       "[sigma(n_11), sigma(n_12)],\n",
       "[sigma(n_21), sigma(n_22)],\n",
       "[sigma(n_31), sigma(n_32)]]), N)"
      ]
     },
     "execution_count": 1,
     "metadata": {},
     "output_type": "execute_result"
    }
   ],
   "source": [
    "# Trying step by step replacement approach:\n",
    "elem.subs({A:X, B:W}).replace(n, vN).replace(sigmaApply, sigmaApply_).replace(lambd, lambd_).replace(Nelem, Ns).replace(X,A)"
   ]
  },
  {
   "cell_type": "code",
   "execution_count": 163,
   "metadata": {
    "execution": {
     "iopub.execute_input": "2020-10-03T08:31:50.712619Z",
     "iopub.status.busy": "2020-10-03T08:31:50.708902Z",
     "iopub.status.idle": "2020-10-03T08:31:50.971098Z",
     "shell.execute_reply": "2020-10-03T08:31:50.973431Z"
    },
    "lines_to_next_cell": 0,
    "title": "codecell"
   },
   "outputs": [
    {
     "data": {
      "text/latex": [
       "$\\displaystyle \\left[\\begin{matrix}\\frac{d}{d X} N \\frac{\\partial}{\\partial N} \\left[\\begin{matrix}\\sigma{\\left(n_{11} \\right)} & \\sigma{\\left(n_{12} \\right)}\\\\\\sigma{\\left(n_{21} \\right)} & \\sigma{\\left(n_{22} \\right)}\\\\\\sigma{\\left(n_{31} \\right)} & \\sigma{\\left(n_{32} \\right)}\\end{matrix}\\right] & \\frac{d}{d X} N \\frac{\\partial}{\\partial N} \\left[\\begin{matrix}\\sigma{\\left(n_{11} \\right)} & \\sigma{\\left(n_{12} \\right)}\\\\\\sigma{\\left(n_{21} \\right)} & \\sigma{\\left(n_{22} \\right)}\\\\\\sigma{\\left(n_{31} \\right)} & \\sigma{\\left(n_{32} \\right)}\\end{matrix}\\right]\\\\\\frac{d}{d X} N \\frac{\\partial}{\\partial N} \\left[\\begin{matrix}\\sigma{\\left(n_{11} \\right)} & \\sigma{\\left(n_{12} \\right)}\\\\\\sigma{\\left(n_{21} \\right)} & \\sigma{\\left(n_{22} \\right)}\\\\\\sigma{\\left(n_{31} \\right)} & \\sigma{\\left(n_{32} \\right)}\\end{matrix}\\right] & \\frac{d}{d X} N \\frac{\\partial}{\\partial N} \\left[\\begin{matrix}\\sigma{\\left(n_{11} \\right)} & \\sigma{\\left(n_{12} \\right)}\\\\\\sigma{\\left(n_{21} \\right)} & \\sigma{\\left(n_{22} \\right)}\\\\\\sigma{\\left(n_{31} \\right)} & \\sigma{\\left(n_{32} \\right)}\\end{matrix}\\right]\\\\\\frac{d}{d X} N \\frac{\\partial}{\\partial N} \\left[\\begin{matrix}\\sigma{\\left(n_{11} \\right)} & \\sigma{\\left(n_{12} \\right)}\\\\\\sigma{\\left(n_{21} \\right)} & \\sigma{\\left(n_{22} \\right)}\\\\\\sigma{\\left(n_{31} \\right)} & \\sigma{\\left(n_{32} \\right)}\\end{matrix}\\right] & \\frac{d}{d X} N \\frac{\\partial}{\\partial N} \\left[\\begin{matrix}\\sigma{\\left(n_{11} \\right)} & \\sigma{\\left(n_{12} \\right)}\\\\\\sigma{\\left(n_{21} \\right)} & \\sigma{\\left(n_{22} \\right)}\\\\\\sigma{\\left(n_{31} \\right)} & \\sigma{\\left(n_{32} \\right)}\\end{matrix}\\right]\\end{matrix}\\right]$"
      ],
      "text/plain": [
       "Matrix([\n",
       "[Derivative(N, X)*Derivative(Matrix([\n",
       "[sigma(n_11), sigma(n_12)],\n",
       "[sigma(n_21), sigma(n_22)],\n",
       "[sigma(n_31), sigma(n_32)]]), N), Derivative(N, X)*Derivative(Matrix([\n",
       "[sigma(n_11), sigma(n_12)],\n",
       "[sigma(n_21), sigma(n_22)],\n",
       "[sigma(n_31), sigma(n_32)]]), N)],\n",
       "[Derivative(N, X)*Derivative(Matrix([\n",
       "[sigma(n_11), sigma(n_12)],\n",
       "[sigma(n_21), sigma(n_22)],\n",
       "[sigma(n_31), sigma(n_32)]]), N), Derivative(N, X)*Derivative(Matrix([\n",
       "[sigma(n_11), sigma(n_12)],\n",
       "[sigma(n_21), sigma(n_22)],\n",
       "[sigma(n_31), sigma(n_32)]]), N)],\n",
       "[Derivative(N, X)*Derivative(Matrix([\n",
       "[sigma(n_11), sigma(n_12)],\n",
       "[sigma(n_21), sigma(n_22)],\n",
       "[sigma(n_31), sigma(n_32)]]), N), Derivative(N, X)*Derivative(Matrix([\n",
       "[sigma(n_11), sigma(n_12)],\n",
       "[sigma(n_21), sigma(n_22)],\n",
       "[sigma(n_31), sigma(n_32)]]), N)]])"
      ]
     },
     "execution_count": 1,
     "metadata": {},
     "output_type": "execute_result"
    }
   ],
   "source": [
    "# Seeing if replacing the order of replacing Ns matrix with Xs matrix makes a difference: ...\n",
    "step = elem.subs({A:X, B:W}).replace(n, vN).replace(sigmaApply, sigmaApply_).replace(lambd, lambd_).replace(Nelem, Ns).replace(X,A).doit()\n",
    "step"
   ]
  },
  {
   "cell_type": "code",
   "execution_count": 164,
   "metadata": {
    "execution": {
     "iopub.execute_input": "2020-10-03T08:31:50.980758Z",
     "iopub.status.busy": "2020-10-03T08:31:50.977005Z",
     "iopub.status.idle": "2020-10-03T08:31:51.232178Z",
     "shell.execute_reply": "2020-10-03T08:31:51.233373Z"
    },
    "title": "codecell"
   },
   "outputs": [
    {
     "data": {
      "text/latex": [
       "$\\displaystyle \\left[\\begin{matrix}\\frac{d}{d X} N \\frac{\\partial}{\\partial N} \\left[\\begin{matrix}\\sigma{\\left(n_{11} \\right)} & \\sigma{\\left(n_{12} \\right)}\\\\\\sigma{\\left(n_{21} \\right)} & \\sigma{\\left(n_{22} \\right)}\\\\\\sigma{\\left(n_{31} \\right)} & \\sigma{\\left(n_{32} \\right)}\\end{matrix}\\right] & \\frac{d}{d X} N \\frac{\\partial}{\\partial N} \\left[\\begin{matrix}\\sigma{\\left(n_{11} \\right)} & \\sigma{\\left(n_{12} \\right)}\\\\\\sigma{\\left(n_{21} \\right)} & \\sigma{\\left(n_{22} \\right)}\\\\\\sigma{\\left(n_{31} \\right)} & \\sigma{\\left(n_{32} \\right)}\\end{matrix}\\right]\\\\\\frac{d}{d X} N \\frac{\\partial}{\\partial N} \\left[\\begin{matrix}\\sigma{\\left(n_{11} \\right)} & \\sigma{\\left(n_{12} \\right)}\\\\\\sigma{\\left(n_{21} \\right)} & \\sigma{\\left(n_{22} \\right)}\\\\\\sigma{\\left(n_{31} \\right)} & \\sigma{\\left(n_{32} \\right)}\\end{matrix}\\right] & \\frac{d}{d X} N \\frac{\\partial}{\\partial N} \\left[\\begin{matrix}\\sigma{\\left(n_{11} \\right)} & \\sigma{\\left(n_{12} \\right)}\\\\\\sigma{\\left(n_{21} \\right)} & \\sigma{\\left(n_{22} \\right)}\\\\\\sigma{\\left(n_{31} \\right)} & \\sigma{\\left(n_{32} \\right)}\\end{matrix}\\right]\\\\\\frac{d}{d X} N \\frac{\\partial}{\\partial N} \\left[\\begin{matrix}\\sigma{\\left(n_{11} \\right)} & \\sigma{\\left(n_{12} \\right)}\\\\\\sigma{\\left(n_{21} \\right)} & \\sigma{\\left(n_{22} \\right)}\\\\\\sigma{\\left(n_{31} \\right)} & \\sigma{\\left(n_{32} \\right)}\\end{matrix}\\right] & \\frac{d}{d X} N \\frac{\\partial}{\\partial N} \\left[\\begin{matrix}\\sigma{\\left(n_{11} \\right)} & \\sigma{\\left(n_{12} \\right)}\\\\\\sigma{\\left(n_{21} \\right)} & \\sigma{\\left(n_{22} \\right)}\\\\\\sigma{\\left(n_{31} \\right)} & \\sigma{\\left(n_{32} \\right)}\\end{matrix}\\right]\\end{matrix}\\right]$"
      ],
      "text/plain": [
       "Matrix([\n",
       "[Derivative(N, X)*Derivative(Matrix([\n",
       "[sigma(n_11), sigma(n_12)],\n",
       "[sigma(n_21), sigma(n_22)],\n",
       "[sigma(n_31), sigma(n_32)]]), N), Derivative(N, X)*Derivative(Matrix([\n",
       "[sigma(n_11), sigma(n_12)],\n",
       "[sigma(n_21), sigma(n_22)],\n",
       "[sigma(n_31), sigma(n_32)]]), N)],\n",
       "[Derivative(N, X)*Derivative(Matrix([\n",
       "[sigma(n_11), sigma(n_12)],\n",
       "[sigma(n_21), sigma(n_22)],\n",
       "[sigma(n_31), sigma(n_32)]]), N), Derivative(N, X)*Derivative(Matrix([\n",
       "[sigma(n_11), sigma(n_12)],\n",
       "[sigma(n_21), sigma(n_22)],\n",
       "[sigma(n_31), sigma(n_32)]]), N)],\n",
       "[Derivative(N, X)*Derivative(Matrix([\n",
       "[sigma(n_11), sigma(n_12)],\n",
       "[sigma(n_21), sigma(n_22)],\n",
       "[sigma(n_31), sigma(n_32)]]), N), Derivative(N, X)*Derivative(Matrix([\n",
       "[sigma(n_11), sigma(n_12)],\n",
       "[sigma(n_21), sigma(n_22)],\n",
       "[sigma(n_31), sigma(n_32)]]), N)]])"
      ]
     },
     "execution_count": 1,
     "metadata": {},
     "output_type": "execute_result"
    }
   ],
   "source": [
    "elem.subs({A:X, B:W}).replace(n, vN).replace(sigmaApply, sigmaApply_).replace(lambd, lambd_).replace(X,A).replace(Nelem, Ns).doit()"
   ]
  },
  {
   "cell_type": "code",
   "execution_count": 165,
   "metadata": {
    "execution": {
     "iopub.execute_input": "2020-10-03T08:31:51.240058Z",
     "iopub.status.busy": "2020-10-03T08:31:51.238544Z",
     "iopub.status.idle": "2020-10-03T08:31:51.437637Z",
     "shell.execute_reply": "2020-10-03T08:31:51.443139Z"
    },
    "lines_to_next_cell": 0,
    "title": "codecell"
   },
   "outputs": [
    {
     "data": {
      "text/latex": [
       "$\\displaystyle \\left[\\begin{matrix}\\frac{\\partial}{\\partial X} \\left[\\begin{matrix}n_{11} & n_{12}\\\\n_{21} & n_{22}\\\\n_{31} & n_{32}\\end{matrix}\\right] \\frac{\\partial}{\\partial \\left[\\begin{matrix}n_{11} & n_{12}\\\\n_{21} & n_{22}\\\\n_{31} & n_{32}\\end{matrix}\\right]} \\left[\\begin{matrix}\\sigma{\\left(n_{11} \\right)} & \\sigma{\\left(n_{12} \\right)}\\\\\\sigma{\\left(n_{21} \\right)} & \\sigma{\\left(n_{22} \\right)}\\\\\\sigma{\\left(n_{31} \\right)} & \\sigma{\\left(n_{32} \\right)}\\end{matrix}\\right] & \\frac{\\partial}{\\partial X} \\left[\\begin{matrix}n_{11} & n_{12}\\\\n_{21} & n_{22}\\\\n_{31} & n_{32}\\end{matrix}\\right] \\frac{\\partial}{\\partial \\left[\\begin{matrix}n_{11} & n_{12}\\\\n_{21} & n_{22}\\\\n_{31} & n_{32}\\end{matrix}\\right]} \\left[\\begin{matrix}\\sigma{\\left(n_{11} \\right)} & \\sigma{\\left(n_{12} \\right)}\\\\\\sigma{\\left(n_{21} \\right)} & \\sigma{\\left(n_{22} \\right)}\\\\\\sigma{\\left(n_{31} \\right)} & \\sigma{\\left(n_{32} \\right)}\\end{matrix}\\right]\\\\\\frac{\\partial}{\\partial X} \\left[\\begin{matrix}n_{11} & n_{12}\\\\n_{21} & n_{22}\\\\n_{31} & n_{32}\\end{matrix}\\right] \\frac{\\partial}{\\partial \\left[\\begin{matrix}n_{11} & n_{12}\\\\n_{21} & n_{22}\\\\n_{31} & n_{32}\\end{matrix}\\right]} \\left[\\begin{matrix}\\sigma{\\left(n_{11} \\right)} & \\sigma{\\left(n_{12} \\right)}\\\\\\sigma{\\left(n_{21} \\right)} & \\sigma{\\left(n_{22} \\right)}\\\\\\sigma{\\left(n_{31} \\right)} & \\sigma{\\left(n_{32} \\right)}\\end{matrix}\\right] & \\frac{\\partial}{\\partial X} \\left[\\begin{matrix}n_{11} & n_{12}\\\\n_{21} & n_{22}\\\\n_{31} & n_{32}\\end{matrix}\\right] \\frac{\\partial}{\\partial \\left[\\begin{matrix}n_{11} & n_{12}\\\\n_{21} & n_{22}\\\\n_{31} & n_{32}\\end{matrix}\\right]} \\left[\\begin{matrix}\\sigma{\\left(n_{11} \\right)} & \\sigma{\\left(n_{12} \\right)}\\\\\\sigma{\\left(n_{21} \\right)} & \\sigma{\\left(n_{22} \\right)}\\\\\\sigma{\\left(n_{31} \\right)} & \\sigma{\\left(n_{32} \\right)}\\end{matrix}\\right]\\\\\\frac{\\partial}{\\partial X} \\left[\\begin{matrix}n_{11} & n_{12}\\\\n_{21} & n_{22}\\\\n_{31} & n_{32}\\end{matrix}\\right] \\frac{\\partial}{\\partial \\left[\\begin{matrix}n_{11} & n_{12}\\\\n_{21} & n_{22}\\\\n_{31} & n_{32}\\end{matrix}\\right]} \\left[\\begin{matrix}\\sigma{\\left(n_{11} \\right)} & \\sigma{\\left(n_{12} \\right)}\\\\\\sigma{\\left(n_{21} \\right)} & \\sigma{\\left(n_{22} \\right)}\\\\\\sigma{\\left(n_{31} \\right)} & \\sigma{\\left(n_{32} \\right)}\\end{matrix}\\right] & \\frac{\\partial}{\\partial X} \\left[\\begin{matrix}n_{11} & n_{12}\\\\n_{21} & n_{22}\\\\n_{31} & n_{32}\\end{matrix}\\right] \\frac{\\partial}{\\partial \\left[\\begin{matrix}n_{11} & n_{12}\\\\n_{21} & n_{22}\\\\n_{31} & n_{32}\\end{matrix}\\right]} \\left[\\begin{matrix}\\sigma{\\left(n_{11} \\right)} & \\sigma{\\left(n_{12} \\right)}\\\\\\sigma{\\left(n_{21} \\right)} & \\sigma{\\left(n_{22} \\right)}\\\\\\sigma{\\left(n_{31} \\right)} & \\sigma{\\left(n_{32} \\right)}\\end{matrix}\\right]\\end{matrix}\\right]$"
      ],
      "text/plain": [
       "Matrix([\n",
       "[Derivative(Matrix([\n",
       "[n_11, n_12],\n",
       "[n_21, n_22],\n",
       "[n_31, n_32]]), X)*Derivative(Matrix([\n",
       "[sigma(n_11), sigma(n_12)],\n",
       "[sigma(n_21), sigma(n_22)],\n",
       "[sigma(n_31), sigma(n_32)]]), Matrix([\n",
       "[n_11, n_12],\n",
       "[n_21, n_22],\n",
       "[n_31, n_32]])), Derivative(Matrix([\n",
       "[n_11, n_12],\n",
       "[n_21, n_22],\n",
       "[n_31, n_32]]), X)*Derivative(Matrix([\n",
       "[sigma(n_11), sigma(n_12)],\n",
       "[sigma(n_21), sigma(n_22)],\n",
       "[sigma(n_31), sigma(n_32)]]), Matrix([\n",
       "[n_11, n_12],\n",
       "[n_21, n_22],\n",
       "[n_31, n_32]]))],\n",
       "[Derivative(Matrix([\n",
       "[n_11, n_12],\n",
       "[n_21, n_22],\n",
       "[n_31, n_32]]), X)*Derivative(Matrix([\n",
       "[sigma(n_11), sigma(n_12)],\n",
       "[sigma(n_21), sigma(n_22)],\n",
       "[sigma(n_31), sigma(n_32)]]), Matrix([\n",
       "[n_11, n_12],\n",
       "[n_21, n_22],\n",
       "[n_31, n_32]])), Derivative(Matrix([\n",
       "[n_11, n_12],\n",
       "[n_21, n_22],\n",
       "[n_31, n_32]]), X)*Derivative(Matrix([\n",
       "[sigma(n_11), sigma(n_12)],\n",
       "[sigma(n_21), sigma(n_22)],\n",
       "[sigma(n_31), sigma(n_32)]]), Matrix([\n",
       "[n_11, n_12],\n",
       "[n_21, n_22],\n",
       "[n_31, n_32]]))],\n",
       "[Derivative(Matrix([\n",
       "[n_11, n_12],\n",
       "[n_21, n_22],\n",
       "[n_31, n_32]]), X)*Derivative(Matrix([\n",
       "[sigma(n_11), sigma(n_12)],\n",
       "[sigma(n_21), sigma(n_22)],\n",
       "[sigma(n_31), sigma(n_32)]]), Matrix([\n",
       "[n_11, n_12],\n",
       "[n_21, n_22],\n",
       "[n_31, n_32]])), Derivative(Matrix([\n",
       "[n_11, n_12],\n",
       "[n_21, n_22],\n",
       "[n_31, n_32]]), X)*Derivative(Matrix([\n",
       "[sigma(n_11), sigma(n_12)],\n",
       "[sigma(n_21), sigma(n_22)],\n",
       "[sigma(n_31), sigma(n_32)]]), Matrix([\n",
       "[n_11, n_12],\n",
       "[n_21, n_22],\n",
       "[n_31, n_32]]))]])"
      ]
     },
     "execution_count": 1,
     "metadata": {},
     "output_type": "execute_result"
    }
   ],
   "source": [
    "step.replace(Ns, Nelem)"
   ]
  },
  {
   "cell_type": "code",
   "execution_count": 166,
   "metadata": {
    "execution": {
     "iopub.execute_input": "2020-10-03T08:31:51.456603Z",
     "iopub.status.busy": "2020-10-03T08:31:51.453048Z",
     "iopub.status.idle": "2020-10-03T08:31:51.647382Z",
     "shell.execute_reply": "2020-10-03T08:31:51.652715Z"
    },
    "title": "codecell"
   },
   "outputs": [
    {
     "data": {
      "text/latex": [
       "$\\displaystyle \\frac{\\partial}{\\partial \\left[\\begin{matrix}x_{11} & x_{12} & x_{13}\\\\x_{21} & x_{22} & x_{23}\\\\x_{31} & x_{32} & x_{33}\\end{matrix}\\right]} \\left[\\begin{matrix}\\operatorname{n_{11}}{\\left(x_{11},x_{12},x_{13},x_{21},x_{22},x_{23},x_{31},x_{32},x_{33},w_{11},w_{12},w_{21},w_{22},w_{31},w_{32} \\right)} & \\operatorname{n_{12}}{\\left(x_{11},x_{12},x_{13},x_{21},x_{22},x_{23},x_{31},x_{32},x_{33},w_{11},w_{12},w_{21},w_{22},w_{31},w_{32} \\right)}\\\\\\operatorname{n_{21}}{\\left(x_{11},x_{12},x_{13},x_{21},x_{22},x_{23},x_{31},x_{32},x_{33},w_{11},w_{12},w_{21},w_{22},w_{31},w_{32} \\right)} & \\operatorname{n_{22}}{\\left(x_{11},x_{12},x_{13},x_{21},x_{22},x_{23},x_{31},x_{32},x_{33},w_{11},w_{12},w_{21},w_{22},w_{31},w_{32} \\right)}\\\\\\operatorname{n_{31}}{\\left(x_{11},x_{12},x_{13},x_{21},x_{22},x_{23},x_{31},x_{32},x_{33},w_{11},w_{12},w_{21},w_{22},w_{31},w_{32} \\right)} & \\operatorname{n_{32}}{\\left(x_{11},x_{12},x_{13},x_{21},x_{22},x_{23},x_{31},x_{32},x_{33},w_{11},w_{12},w_{21},w_{22},w_{31},w_{32} \\right)}\\end{matrix}\\right] \\frac{\\partial}{\\partial \\left[\\begin{matrix}\\operatorname{n_{11}}{\\left(x_{11},x_{12},x_{13},x_{21},x_{22},x_{23},x_{31},x_{32},x_{33},w_{11},w_{12},w_{21},w_{22},w_{31},w_{32} \\right)} & \\operatorname{n_{12}}{\\left(x_{11},x_{12},x_{13},x_{21},x_{22},x_{23},x_{31},x_{32},x_{33},w_{11},w_{12},w_{21},w_{22},w_{31},w_{32} \\right)}\\\\\\operatorname{n_{21}}{\\left(x_{11},x_{12},x_{13},x_{21},x_{22},x_{23},x_{31},x_{32},x_{33},w_{11},w_{12},w_{21},w_{22},w_{31},w_{32} \\right)} & \\operatorname{n_{22}}{\\left(x_{11},x_{12},x_{13},x_{21},x_{22},x_{23},x_{31},x_{32},x_{33},w_{11},w_{12},w_{21},w_{22},w_{31},w_{32} \\right)}\\\\\\operatorname{n_{31}}{\\left(x_{11},x_{12},x_{13},x_{21},x_{22},x_{23},x_{31},x_{32},x_{33},w_{11},w_{12},w_{21},w_{22},w_{31},w_{32} \\right)} & \\operatorname{n_{32}}{\\left(x_{11},x_{12},x_{13},x_{21},x_{22},x_{23},x_{31},x_{32},x_{33},w_{11},w_{12},w_{21},w_{22},w_{31},w_{32} \\right)}\\end{matrix}\\right]} \\left[\\begin{matrix}\\sigma{\\left(\\operatorname{n_{11}}{\\left(x_{11},x_{12},x_{13},x_{21},x_{22},x_{23},x_{31},x_{32},x_{33},w_{11},w_{12},w_{21},w_{22},w_{31},w_{32} \\right)} \\right)} & \\sigma{\\left(\\operatorname{n_{12}}{\\left(x_{11},x_{12},x_{13},x_{21},x_{22},x_{23},x_{31},x_{32},x_{33},w_{11},w_{12},w_{21},w_{22},w_{31},w_{32} \\right)} \\right)}\\\\\\sigma{\\left(\\operatorname{n_{21}}{\\left(x_{11},x_{12},x_{13},x_{21},x_{22},x_{23},x_{31},x_{32},x_{33},w_{11},w_{12},w_{21},w_{22},w_{31},w_{32} \\right)} \\right)} & \\sigma{\\left(\\operatorname{n_{22}}{\\left(x_{11},x_{12},x_{13},x_{21},x_{22},x_{23},x_{31},x_{32},x_{33},w_{11},w_{12},w_{21},w_{22},w_{31},w_{32} \\right)} \\right)}\\\\\\sigma{\\left(\\operatorname{n_{31}}{\\left(x_{11},x_{12},x_{13},x_{21},x_{22},x_{23},x_{31},x_{32},x_{33},w_{11},w_{12},w_{21},w_{22},w_{31},w_{32} \\right)} \\right)} & \\sigma{\\left(\\operatorname{n_{32}}{\\left(x_{11},x_{12},x_{13},x_{21},x_{22},x_{23},x_{31},x_{32},x_{33},w_{11},w_{12},w_{21},w_{22},w_{31},w_{32} \\right)} \\right)}\\end{matrix}\\right]$"
      ],
      "text/plain": [
       "Derivative(Matrix([\n",
       "[n_11(x_11, x_12, x_13, x_21, x_22, x_23, x_31, x_32, x_33, w_11, w_12, w_21, w_22, w_31, w_32), n_12(x_11, x_12, x_13, x_21, x_22, x_23, x_31, x_32, x_33, w_11, w_12, w_21, w_22, w_31, w_32)],\n",
       "[n_21(x_11, x_12, x_13, x_21, x_22, x_23, x_31, x_32, x_33, w_11, w_12, w_21, w_22, w_31, w_32), n_22(x_11, x_12, x_13, x_21, x_22, x_23, x_31, x_32, x_33, w_11, w_12, w_21, w_22, w_31, w_32)],\n",
       "[n_31(x_11, x_12, x_13, x_21, x_22, x_23, x_31, x_32, x_33, w_11, w_12, w_21, w_22, w_31, w_32), n_32(x_11, x_12, x_13, x_21, x_22, x_23, x_31, x_32, x_33, w_11, w_12, w_21, w_22, w_31, w_32)]]), Matrix([\n",
       "[x_11, x_12, x_13],\n",
       "[x_21, x_22, x_23],\n",
       "[x_31, x_32, x_33]]))*Derivative(Matrix([\n",
       "[sigma(n_11(x_11, x_12, x_13, x_21, x_22, x_23, x_31, x_32, x_33, w_11, w_12, w_21, w_22, w_31, w_32)), sigma(n_12(x_11, x_12, x_13, x_21, x_22, x_23, x_31, x_32, x_33, w_11, w_12, w_21, w_22, w_31, w_32))],\n",
       "[sigma(n_21(x_11, x_12, x_13, x_21, x_22, x_23, x_31, x_32, x_33, w_11, w_12, w_21, w_22, w_31, w_32)), sigma(n_22(x_11, x_12, x_13, x_21, x_22, x_23, x_31, x_32, x_33, w_11, w_12, w_21, w_22, w_31, w_32))],\n",
       "[sigma(n_31(x_11, x_12, x_13, x_21, x_22, x_23, x_31, x_32, x_33, w_11, w_12, w_21, w_22, w_31, w_32)), sigma(n_32(x_11, x_12, x_13, x_21, x_22, x_23, x_31, x_32, x_33, w_11, w_12, w_21, w_22, w_31, w_32))]]), Matrix([\n",
       "[n_11(x_11, x_12, x_13, x_21, x_22, x_23, x_31, x_32, x_33, w_11, w_12, w_21, w_22, w_31, w_32), n_12(x_11, x_12, x_13, x_21, x_22, x_23, x_31, x_32, x_33, w_11, w_12, w_21, w_22, w_31, w_32)],\n",
       "[n_21(x_11, x_12, x_13, x_21, x_22, x_23, x_31, x_32, x_33, w_11, w_12, w_21, w_22, w_31, w_32), n_22(x_11, x_12, x_13, x_21, x_22, x_23, x_31, x_32, x_33, w_11, w_12, w_21, w_22, w_31, w_32)],\n",
       "[n_31(x_11, x_12, x_13, x_21, x_22, x_23, x_31, x_32, x_33, w_11, w_12, w_21, w_22, w_31, w_32), n_32(x_11, x_12, x_13, x_21, x_22, x_23, x_31, x_32, x_33, w_11, w_12, w_21, w_22, w_31, w_32)]]))"
      ]
     },
     "execution_count": 1,
     "metadata": {},
     "output_type": "execute_result"
    }
   ],
   "source": [
    "#step.replace(Ns, Nelem).replace(A,X).doit()#error immutable dense array has no attribute as base exp ...\n",
    "elem2 = step[0,0].replace(Ns, Nelem)\n",
    "elem2.replace(A,X).subs(elemToSpecFuncArgsD)"
   ]
  },
  {
   "cell_type": "code",
   "execution_count": 167,
   "metadata": {
    "execution": {
     "iopub.execute_input": "2020-10-03T08:31:51.659713Z",
     "iopub.status.busy": "2020-10-03T08:31:51.656522Z",
     "iopub.status.idle": "2020-10-03T08:31:51.743612Z",
     "shell.execute_reply": "2020-10-03T08:31:51.747298Z"
    },
    "lines_to_next_cell": 0,
    "title": "codecell"
   },
   "outputs": [
    {
     "data": {
      "text/latex": [
       "$\\displaystyle \\left[\\begin{matrix}\\operatorname{n_{11}}{\\left(x_{11},x_{12},x_{13},x_{21},x_{22},x_{23},x_{31},x_{32},x_{33},w_{11},w_{12},w_{21},w_{22},w_{31},w_{32} \\right)} & \\operatorname{n_{12}}{\\left(x_{11},x_{12},x_{13},x_{21},x_{22},x_{23},x_{31},x_{32},x_{33},w_{11},w_{12},w_{21},w_{22},w_{31},w_{32} \\right)}\\\\\\operatorname{n_{21}}{\\left(x_{11},x_{12},x_{13},x_{21},x_{22},x_{23},x_{31},x_{32},x_{33},w_{11},w_{12},w_{21},w_{22},w_{31},w_{32} \\right)} & \\operatorname{n_{22}}{\\left(x_{11},x_{12},x_{13},x_{21},x_{22},x_{23},x_{31},x_{32},x_{33},w_{11},w_{12},w_{21},w_{22},w_{31},w_{32} \\right)}\\\\\\operatorname{n_{31}}{\\left(x_{11},x_{12},x_{13},x_{21},x_{22},x_{23},x_{31},x_{32},x_{33},w_{11},w_{12},w_{21},w_{22},w_{31},w_{32} \\right)} & \\operatorname{n_{32}}{\\left(x_{11},x_{12},x_{13},x_{21},x_{22},x_{23},x_{31},x_{32},x_{33},w_{11},w_{12},w_{21},w_{22},w_{31},w_{32} \\right)}\\end{matrix}\\right]$"
      ],
      "text/plain": [
       "Matrix([\n",
       "[n_11(x_11, x_12, x_13, x_21, x_22, x_23, x_31, x_32, x_33, w_11, w_12, w_21, w_22, w_31, w_32), n_12(x_11, x_12, x_13, x_21, x_22, x_23, x_31, x_32, x_33, w_11, w_12, w_21, w_22, w_31, w_32)],\n",
       "[n_21(x_11, x_12, x_13, x_21, x_22, x_23, x_31, x_32, x_33, w_11, w_12, w_21, w_22, w_31, w_32), n_22(x_11, x_12, x_13, x_21, x_22, x_23, x_31, x_32, x_33, w_11, w_12, w_21, w_22, w_31, w_32)],\n",
       "[n_31(x_11, x_12, x_13, x_21, x_22, x_23, x_31, x_32, x_33, w_11, w_12, w_21, w_22, w_31, w_32), n_32(x_11, x_12, x_13, x_21, x_22, x_23, x_31, x_32, x_33, w_11, w_12, w_21, w_22, w_31, w_32)]])"
      ]
     },
     "execution_count": 1,
     "metadata": {},
     "output_type": "execute_result"
    }
   ],
   "source": [
    "#elem2.replace(A,X).subs(elemToSpecFuncArgsD).doit()\n",
    "F = Nelem.subs(elemToSpecFuncArgsD); F"
   ]
  },
  {
   "cell_type": "code",
   "execution_count": 168,
   "metadata": {
    "execution": {
     "iopub.execute_input": "2020-10-03T08:31:51.757474Z",
     "iopub.status.busy": "2020-10-03T08:31:51.751078Z",
     "iopub.status.idle": "2020-10-03T08:31:51.798364Z",
     "shell.execute_reply": "2020-10-03T08:31:51.799453Z"
    },
    "lines_to_next_cell": 2,
    "title": "codecell"
   },
   "outputs": [
    {
     "data": {
      "text/latex": [
       "$\\displaystyle \\frac{\\partial}{\\partial x_{11}} \\operatorname{n_{11}}{\\left(x_{11},x_{12},x_{13},x_{21},x_{22},x_{23},x_{31},x_{32},x_{33},w_{11},w_{12},w_{21},w_{22},w_{31},w_{32} \\right)}$"
      ],
      "text/plain": [
       "Derivative(n_11(x_11, x_12, x_13, x_21, x_22, x_23, x_31, x_32, x_33, w_11, w_12, w_21, w_22, w_31, w_32), x_11)"
      ]
     },
     "execution_count": 1,
     "metadata": {},
     "output_type": "execute_result"
    }
   ],
   "source": [
    "F[0,0].diff(X[0,0])"
   ]
  },
  {
   "cell_type": "code",
   "execution_count": 169,
   "metadata": {
    "execution": {
     "iopub.execute_input": "2020-10-03T08:31:51.809719Z",
     "iopub.status.busy": "2020-10-03T08:31:51.807808Z",
     "iopub.status.idle": "2020-10-03T08:31:51.988798Z",
     "shell.execute_reply": "2020-10-03T08:31:51.996749Z"
    },
    "lines_to_next_cell": 0,
    "title": "codecell"
   },
   "outputs": [
    {
     "data": {
      "text/latex": [
       "$\\displaystyle \\left[\\begin{matrix}\\frac{\\partial}{\\partial x_{11}} \\operatorname{n_{11}}{\\left(x_{11},x_{12},x_{13},x_{21},x_{22},x_{23},x_{31},x_{32},x_{33},w_{11},w_{12},w_{21},w_{22},w_{31},w_{32} \\right)} & \\frac{\\partial}{\\partial x_{12}} \\operatorname{n_{11}}{\\left(x_{11},x_{12},x_{13},x_{21},x_{22},x_{23},x_{31},x_{32},x_{33},w_{11},w_{12},w_{21},w_{22},w_{31},w_{32} \\right)} & \\frac{\\partial}{\\partial x_{13}} \\operatorname{n_{11}}{\\left(x_{11},x_{12},x_{13},x_{21},x_{22},x_{23},x_{31},x_{32},x_{33},w_{11},w_{12},w_{21},w_{22},w_{31},w_{32} \\right)}\\\\\\frac{\\partial}{\\partial x_{21}} \\operatorname{n_{11}}{\\left(x_{11},x_{12},x_{13},x_{21},x_{22},x_{23},x_{31},x_{32},x_{33},w_{11},w_{12},w_{21},w_{22},w_{31},w_{32} \\right)} & \\frac{\\partial}{\\partial x_{22}} \\operatorname{n_{11}}{\\left(x_{11},x_{12},x_{13},x_{21},x_{22},x_{23},x_{31},x_{32},x_{33},w_{11},w_{12},w_{21},w_{22},w_{31},w_{32} \\right)} & \\frac{\\partial}{\\partial x_{23}} \\operatorname{n_{11}}{\\left(x_{11},x_{12},x_{13},x_{21},x_{22},x_{23},x_{31},x_{32},x_{33},w_{11},w_{12},w_{21},w_{22},w_{31},w_{32} \\right)}\\\\\\frac{\\partial}{\\partial x_{31}} \\operatorname{n_{11}}{\\left(x_{11},x_{12},x_{13},x_{21},x_{22},x_{23},x_{31},x_{32},x_{33},w_{11},w_{12},w_{21},w_{22},w_{31},w_{32} \\right)} & \\frac{\\partial}{\\partial x_{32}} \\operatorname{n_{11}}{\\left(x_{11},x_{12},x_{13},x_{21},x_{22},x_{23},x_{31},x_{32},x_{33},w_{11},w_{12},w_{21},w_{22},w_{31},w_{32} \\right)} & \\frac{\\partial}{\\partial x_{33}} \\operatorname{n_{11}}{\\left(x_{11},x_{12},x_{13},x_{21},x_{22},x_{23},x_{31},x_{32},x_{33},w_{11},w_{12},w_{21},w_{22},w_{31},w_{32} \\right)}\\end{matrix}\\right]$"
      ],
      "text/plain": [
       "Matrix([\n",
       "[Derivative(n_11(x_11, x_12, x_13, x_21, x_22, x_23, x_31, x_32, x_33, w_11, w_12, w_21, w_22, w_31, w_32), x_11), Derivative(n_11(x_11, x_12, x_13, x_21, x_22, x_23, x_31, x_32, x_33, w_11, w_12, w_21, w_22, w_31, w_32), x_12), Derivative(n_11(x_11, x_12, x_13, x_21, x_22, x_23, x_31, x_32, x_33, w_11, w_12, w_21, w_22, w_31, w_32), x_13)],\n",
       "[Derivative(n_11(x_11, x_12, x_13, x_21, x_22, x_23, x_31, x_32, x_33, w_11, w_12, w_21, w_22, w_31, w_32), x_21), Derivative(n_11(x_11, x_12, x_13, x_21, x_22, x_23, x_31, x_32, x_33, w_11, w_12, w_21, w_22, w_31, w_32), x_22), Derivative(n_11(x_11, x_12, x_13, x_21, x_22, x_23, x_31, x_32, x_33, w_11, w_12, w_21, w_22, w_31, w_32), x_23)],\n",
       "[Derivative(n_11(x_11, x_12, x_13, x_21, x_22, x_23, x_31, x_32, x_33, w_11, w_12, w_21, w_22, w_31, w_32), x_31), Derivative(n_11(x_11, x_12, x_13, x_21, x_22, x_23, x_31, x_32, x_33, w_11, w_12, w_21, w_22, w_31, w_32), x_32), Derivative(n_11(x_11, x_12, x_13, x_21, x_22, x_23, x_31, x_32, x_33, w_11, w_12, w_21, w_22, w_31, w_32), x_33)]])"
      ]
     },
     "execution_count": 1,
     "metadata": {},
     "output_type": "execute_result"
    }
   ],
   "source": [
    "F[0,0].diff(X)"
   ]
  },
  {
   "cell_type": "code",
   "execution_count": 170,
   "metadata": {
    "execution": {
     "iopub.execute_input": "2020-10-03T08:31:52.005288Z",
     "iopub.status.busy": "2020-10-03T08:31:52.000490Z",
     "iopub.status.idle": "2020-10-03T08:31:53.000318Z",
     "shell.execute_reply": "2020-10-03T08:31:53.001868Z"
    },
    "lines_to_next_cell": 0,
    "title": "codecell"
   },
   "outputs": [
    {
     "data": {
      "text/latex": [
       "$\\displaystyle \\left[\\begin{matrix}\\left[\\begin{matrix}\\frac{\\partial}{\\partial x_{11}} \\operatorname{n_{11}}{\\left(x_{11},x_{12},x_{13},x_{21},x_{22},x_{23},x_{31},x_{32},x_{33},w_{11},w_{12},w_{21},w_{22},w_{31},w_{32} \\right)} & \\frac{\\partial}{\\partial x_{11}} \\operatorname{n_{12}}{\\left(x_{11},x_{12},x_{13},x_{21},x_{22},x_{23},x_{31},x_{32},x_{33},w_{11},w_{12},w_{21},w_{22},w_{31},w_{32} \\right)}\\\\\\frac{\\partial}{\\partial x_{11}} \\operatorname{n_{21}}{\\left(x_{11},x_{12},x_{13},x_{21},x_{22},x_{23},x_{31},x_{32},x_{33},w_{11},w_{12},w_{21},w_{22},w_{31},w_{32} \\right)} & \\frac{\\partial}{\\partial x_{11}} \\operatorname{n_{22}}{\\left(x_{11},x_{12},x_{13},x_{21},x_{22},x_{23},x_{31},x_{32},x_{33},w_{11},w_{12},w_{21},w_{22},w_{31},w_{32} \\right)}\\\\\\frac{\\partial}{\\partial x_{11}} \\operatorname{n_{31}}{\\left(x_{11},x_{12},x_{13},x_{21},x_{22},x_{23},x_{31},x_{32},x_{33},w_{11},w_{12},w_{21},w_{22},w_{31},w_{32} \\right)} & \\frac{\\partial}{\\partial x_{11}} \\operatorname{n_{32}}{\\left(x_{11},x_{12},x_{13},x_{21},x_{22},x_{23},x_{31},x_{32},x_{33},w_{11},w_{12},w_{21},w_{22},w_{31},w_{32} \\right)}\\end{matrix}\\right] & \\left[\\begin{matrix}\\frac{\\partial}{\\partial x_{12}} \\operatorname{n_{11}}{\\left(x_{11},x_{12},x_{13},x_{21},x_{22},x_{23},x_{31},x_{32},x_{33},w_{11},w_{12},w_{21},w_{22},w_{31},w_{32} \\right)} & \\frac{\\partial}{\\partial x_{12}} \\operatorname{n_{12}}{\\left(x_{11},x_{12},x_{13},x_{21},x_{22},x_{23},x_{31},x_{32},x_{33},w_{11},w_{12},w_{21},w_{22},w_{31},w_{32} \\right)}\\\\\\frac{\\partial}{\\partial x_{12}} \\operatorname{n_{21}}{\\left(x_{11},x_{12},x_{13},x_{21},x_{22},x_{23},x_{31},x_{32},x_{33},w_{11},w_{12},w_{21},w_{22},w_{31},w_{32} \\right)} & \\frac{\\partial}{\\partial x_{12}} \\operatorname{n_{22}}{\\left(x_{11},x_{12},x_{13},x_{21},x_{22},x_{23},x_{31},x_{32},x_{33},w_{11},w_{12},w_{21},w_{22},w_{31},w_{32} \\right)}\\\\\\frac{\\partial}{\\partial x_{12}} \\operatorname{n_{31}}{\\left(x_{11},x_{12},x_{13},x_{21},x_{22},x_{23},x_{31},x_{32},x_{33},w_{11},w_{12},w_{21},w_{22},w_{31},w_{32} \\right)} & \\frac{\\partial}{\\partial x_{12}} \\operatorname{n_{32}}{\\left(x_{11},x_{12},x_{13},x_{21},x_{22},x_{23},x_{31},x_{32},x_{33},w_{11},w_{12},w_{21},w_{22},w_{31},w_{32} \\right)}\\end{matrix}\\right] & \\left[\\begin{matrix}\\frac{\\partial}{\\partial x_{13}} \\operatorname{n_{11}}{\\left(x_{11},x_{12},x_{13},x_{21},x_{22},x_{23},x_{31},x_{32},x_{33},w_{11},w_{12},w_{21},w_{22},w_{31},w_{32} \\right)} & \\frac{\\partial}{\\partial x_{13}} \\operatorname{n_{12}}{\\left(x_{11},x_{12},x_{13},x_{21},x_{22},x_{23},x_{31},x_{32},x_{33},w_{11},w_{12},w_{21},w_{22},w_{31},w_{32} \\right)}\\\\\\frac{\\partial}{\\partial x_{13}} \\operatorname{n_{21}}{\\left(x_{11},x_{12},x_{13},x_{21},x_{22},x_{23},x_{31},x_{32},x_{33},w_{11},w_{12},w_{21},w_{22},w_{31},w_{32} \\right)} & \\frac{\\partial}{\\partial x_{13}} \\operatorname{n_{22}}{\\left(x_{11},x_{12},x_{13},x_{21},x_{22},x_{23},x_{31},x_{32},x_{33},w_{11},w_{12},w_{21},w_{22},w_{31},w_{32} \\right)}\\\\\\frac{\\partial}{\\partial x_{13}} \\operatorname{n_{31}}{\\left(x_{11},x_{12},x_{13},x_{21},x_{22},x_{23},x_{31},x_{32},x_{33},w_{11},w_{12},w_{21},w_{22},w_{31},w_{32} \\right)} & \\frac{\\partial}{\\partial x_{13}} \\operatorname{n_{32}}{\\left(x_{11},x_{12},x_{13},x_{21},x_{22},x_{23},x_{31},x_{32},x_{33},w_{11},w_{12},w_{21},w_{22},w_{31},w_{32} \\right)}\\end{matrix}\\right]\\\\\\left[\\begin{matrix}\\frac{\\partial}{\\partial x_{21}} \\operatorname{n_{11}}{\\left(x_{11},x_{12},x_{13},x_{21},x_{22},x_{23},x_{31},x_{32},x_{33},w_{11},w_{12},w_{21},w_{22},w_{31},w_{32} \\right)} & \\frac{\\partial}{\\partial x_{21}} \\operatorname{n_{12}}{\\left(x_{11},x_{12},x_{13},x_{21},x_{22},x_{23},x_{31},x_{32},x_{33},w_{11},w_{12},w_{21},w_{22},w_{31},w_{32} \\right)}\\\\\\frac{\\partial}{\\partial x_{21}} \\operatorname{n_{21}}{\\left(x_{11},x_{12},x_{13},x_{21},x_{22},x_{23},x_{31},x_{32},x_{33},w_{11},w_{12},w_{21},w_{22},w_{31},w_{32} \\right)} & \\frac{\\partial}{\\partial x_{21}} \\operatorname{n_{22}}{\\left(x_{11},x_{12},x_{13},x_{21},x_{22},x_{23},x_{31},x_{32},x_{33},w_{11},w_{12},w_{21},w_{22},w_{31},w_{32} \\right)}\\\\\\frac{\\partial}{\\partial x_{21}} \\operatorname{n_{31}}{\\left(x_{11},x_{12},x_{13},x_{21},x_{22},x_{23},x_{31},x_{32},x_{33},w_{11},w_{12},w_{21},w_{22},w_{31},w_{32} \\right)} & \\frac{\\partial}{\\partial x_{21}} \\operatorname{n_{32}}{\\left(x_{11},x_{12},x_{13},x_{21},x_{22},x_{23},x_{31},x_{32},x_{33},w_{11},w_{12},w_{21},w_{22},w_{31},w_{32} \\right)}\\end{matrix}\\right] & \\left[\\begin{matrix}\\frac{\\partial}{\\partial x_{22}} \\operatorname{n_{11}}{\\left(x_{11},x_{12},x_{13},x_{21},x_{22},x_{23},x_{31},x_{32},x_{33},w_{11},w_{12},w_{21},w_{22},w_{31},w_{32} \\right)} & \\frac{\\partial}{\\partial x_{22}} \\operatorname{n_{12}}{\\left(x_{11},x_{12},x_{13},x_{21},x_{22},x_{23},x_{31},x_{32},x_{33},w_{11},w_{12},w_{21},w_{22},w_{31},w_{32} \\right)}\\\\\\frac{\\partial}{\\partial x_{22}} \\operatorname{n_{21}}{\\left(x_{11},x_{12},x_{13},x_{21},x_{22},x_{23},x_{31},x_{32},x_{33},w_{11},w_{12},w_{21},w_{22},w_{31},w_{32} \\right)} & \\frac{\\partial}{\\partial x_{22}} \\operatorname{n_{22}}{\\left(x_{11},x_{12},x_{13},x_{21},x_{22},x_{23},x_{31},x_{32},x_{33},w_{11},w_{12},w_{21},w_{22},w_{31},w_{32} \\right)}\\\\\\frac{\\partial}{\\partial x_{22}} \\operatorname{n_{31}}{\\left(x_{11},x_{12},x_{13},x_{21},x_{22},x_{23},x_{31},x_{32},x_{33},w_{11},w_{12},w_{21},w_{22},w_{31},w_{32} \\right)} & \\frac{\\partial}{\\partial x_{22}} \\operatorname{n_{32}}{\\left(x_{11},x_{12},x_{13},x_{21},x_{22},x_{23},x_{31},x_{32},x_{33},w_{11},w_{12},w_{21},w_{22},w_{31},w_{32} \\right)}\\end{matrix}\\right] & \\left[\\begin{matrix}\\frac{\\partial}{\\partial x_{23}} \\operatorname{n_{11}}{\\left(x_{11},x_{12},x_{13},x_{21},x_{22},x_{23},x_{31},x_{32},x_{33},w_{11},w_{12},w_{21},w_{22},w_{31},w_{32} \\right)} & \\frac{\\partial}{\\partial x_{23}} \\operatorname{n_{12}}{\\left(x_{11},x_{12},x_{13},x_{21},x_{22},x_{23},x_{31},x_{32},x_{33},w_{11},w_{12},w_{21},w_{22},w_{31},w_{32} \\right)}\\\\\\frac{\\partial}{\\partial x_{23}} \\operatorname{n_{21}}{\\left(x_{11},x_{12},x_{13},x_{21},x_{22},x_{23},x_{31},x_{32},x_{33},w_{11},w_{12},w_{21},w_{22},w_{31},w_{32} \\right)} & \\frac{\\partial}{\\partial x_{23}} \\operatorname{n_{22}}{\\left(x_{11},x_{12},x_{13},x_{21},x_{22},x_{23},x_{31},x_{32},x_{33},w_{11},w_{12},w_{21},w_{22},w_{31},w_{32} \\right)}\\\\\\frac{\\partial}{\\partial x_{23}} \\operatorname{n_{31}}{\\left(x_{11},x_{12},x_{13},x_{21},x_{22},x_{23},x_{31},x_{32},x_{33},w_{11},w_{12},w_{21},w_{22},w_{31},w_{32} \\right)} & \\frac{\\partial}{\\partial x_{23}} \\operatorname{n_{32}}{\\left(x_{11},x_{12},x_{13},x_{21},x_{22},x_{23},x_{31},x_{32},x_{33},w_{11},w_{12},w_{21},w_{22},w_{31},w_{32} \\right)}\\end{matrix}\\right]\\\\\\left[\\begin{matrix}\\frac{\\partial}{\\partial x_{31}} \\operatorname{n_{11}}{\\left(x_{11},x_{12},x_{13},x_{21},x_{22},x_{23},x_{31},x_{32},x_{33},w_{11},w_{12},w_{21},w_{22},w_{31},w_{32} \\right)} & \\frac{\\partial}{\\partial x_{31}} \\operatorname{n_{12}}{\\left(x_{11},x_{12},x_{13},x_{21},x_{22},x_{23},x_{31},x_{32},x_{33},w_{11},w_{12},w_{21},w_{22},w_{31},w_{32} \\right)}\\\\\\frac{\\partial}{\\partial x_{31}} \\operatorname{n_{21}}{\\left(x_{11},x_{12},x_{13},x_{21},x_{22},x_{23},x_{31},x_{32},x_{33},w_{11},w_{12},w_{21},w_{22},w_{31},w_{32} \\right)} & \\frac{\\partial}{\\partial x_{31}} \\operatorname{n_{22}}{\\left(x_{11},x_{12},x_{13},x_{21},x_{22},x_{23},x_{31},x_{32},x_{33},w_{11},w_{12},w_{21},w_{22},w_{31},w_{32} \\right)}\\\\\\frac{\\partial}{\\partial x_{31}} \\operatorname{n_{31}}{\\left(x_{11},x_{12},x_{13},x_{21},x_{22},x_{23},x_{31},x_{32},x_{33},w_{11},w_{12},w_{21},w_{22},w_{31},w_{32} \\right)} & \\frac{\\partial}{\\partial x_{31}} \\operatorname{n_{32}}{\\left(x_{11},x_{12},x_{13},x_{21},x_{22},x_{23},x_{31},x_{32},x_{33},w_{11},w_{12},w_{21},w_{22},w_{31},w_{32} \\right)}\\end{matrix}\\right] & \\left[\\begin{matrix}\\frac{\\partial}{\\partial x_{32}} \\operatorname{n_{11}}{\\left(x_{11},x_{12},x_{13},x_{21},x_{22},x_{23},x_{31},x_{32},x_{33},w_{11},w_{12},w_{21},w_{22},w_{31},w_{32} \\right)} & \\frac{\\partial}{\\partial x_{32}} \\operatorname{n_{12}}{\\left(x_{11},x_{12},x_{13},x_{21},x_{22},x_{23},x_{31},x_{32},x_{33},w_{11},w_{12},w_{21},w_{22},w_{31},w_{32} \\right)}\\\\\\frac{\\partial}{\\partial x_{32}} \\operatorname{n_{21}}{\\left(x_{11},x_{12},x_{13},x_{21},x_{22},x_{23},x_{31},x_{32},x_{33},w_{11},w_{12},w_{21},w_{22},w_{31},w_{32} \\right)} & \\frac{\\partial}{\\partial x_{32}} \\operatorname{n_{22}}{\\left(x_{11},x_{12},x_{13},x_{21},x_{22},x_{23},x_{31},x_{32},x_{33},w_{11},w_{12},w_{21},w_{22},w_{31},w_{32} \\right)}\\\\\\frac{\\partial}{\\partial x_{32}} \\operatorname{n_{31}}{\\left(x_{11},x_{12},x_{13},x_{21},x_{22},x_{23},x_{31},x_{32},x_{33},w_{11},w_{12},w_{21},w_{22},w_{31},w_{32} \\right)} & \\frac{\\partial}{\\partial x_{32}} \\operatorname{n_{32}}{\\left(x_{11},x_{12},x_{13},x_{21},x_{22},x_{23},x_{31},x_{32},x_{33},w_{11},w_{12},w_{21},w_{22},w_{31},w_{32} \\right)}\\end{matrix}\\right] & \\left[\\begin{matrix}\\frac{\\partial}{\\partial x_{33}} \\operatorname{n_{11}}{\\left(x_{11},x_{12},x_{13},x_{21},x_{22},x_{23},x_{31},x_{32},x_{33},w_{11},w_{12},w_{21},w_{22},w_{31},w_{32} \\right)} & \\frac{\\partial}{\\partial x_{33}} \\operatorname{n_{12}}{\\left(x_{11},x_{12},x_{13},x_{21},x_{22},x_{23},x_{31},x_{32},x_{33},w_{11},w_{12},w_{21},w_{22},w_{31},w_{32} \\right)}\\\\\\frac{\\partial}{\\partial x_{33}} \\operatorname{n_{21}}{\\left(x_{11},x_{12},x_{13},x_{21},x_{22},x_{23},x_{31},x_{32},x_{33},w_{11},w_{12},w_{21},w_{22},w_{31},w_{32} \\right)} & \\frac{\\partial}{\\partial x_{33}} \\operatorname{n_{22}}{\\left(x_{11},x_{12},x_{13},x_{21},x_{22},x_{23},x_{31},x_{32},x_{33},w_{11},w_{12},w_{21},w_{22},w_{31},w_{32} \\right)}\\\\\\frac{\\partial}{\\partial x_{33}} \\operatorname{n_{31}}{\\left(x_{11},x_{12},x_{13},x_{21},x_{22},x_{23},x_{31},x_{32},x_{33},w_{11},w_{12},w_{21},w_{22},w_{31},w_{32} \\right)} & \\frac{\\partial}{\\partial x_{33}} \\operatorname{n_{32}}{\\left(x_{11},x_{12},x_{13},x_{21},x_{22},x_{23},x_{31},x_{32},x_{33},w_{11},w_{12},w_{21},w_{22},w_{31},w_{32} \\right)}\\end{matrix}\\right]\\end{matrix}\\right]$"
      ],
      "text/plain": [
       "[[[[Derivative(n_11(x_11, x_12, x_13, x_21, x_22, x_23, x_31, x_32, x_33, w_11, w_12, w_21, w_22, w_31, w_32), x_11), Derivative(n_12(x_11, x_12, x_13, x_21, x_22, x_23, x_31, x_32, x_33, w_11, w_12, w_21, w_22, w_31, w_32), x_11)], [Derivative(n_21(x_11, x_12, x_13, x_21, x_22, x_23, x_31, x_32, x_33, w_11, w_12, w_21, w_22, w_31, w_32), x_11), Derivative(n_22(x_11, x_12, x_13, x_21, x_22, x_23, x_31, x_32, x_33, w_11, w_12, w_21, w_22, w_31, w_32), x_11)], [Derivative(n_31(x_11, x_12, x_13, x_21, x_22, x_23, x_31, x_32, x_33, w_11, w_12, w_21, w_22, w_31, w_32), x_11), Derivative(n_32(x_11, x_12, x_13, x_21, x_22, x_23, x_31, x_32, x_33, w_11, w_12, w_21, w_22, w_31, w_32), x_11)]], [[Derivative(n_11(x_11, x_12, x_13, x_21, x_22, x_23, x_31, x_32, x_33, w_11, w_12, w_21, w_22, w_31, w_32), x_12), Derivative(n_12(x_11, x_12, x_13, x_21, x_22, x_23, x_31, x_32, x_33, w_11, w_12, w_21, w_22, w_31, w_32), x_12)], [Derivative(n_21(x_11, x_12, x_13, x_21, x_22, x_23, x_31, x_32, x_33, w_11, w_12, w_21, w_22, w_31, w_32), x_12), Derivative(n_22(x_11, x_12, x_13, x_21, x_22, x_23, x_31, x_32, x_33, w_11, w_12, w_21, w_22, w_31, w_32), x_12)], [Derivative(n_31(x_11, x_12, x_13, x_21, x_22, x_23, x_31, x_32, x_33, w_11, w_12, w_21, w_22, w_31, w_32), x_12), Derivative(n_32(x_11, x_12, x_13, x_21, x_22, x_23, x_31, x_32, x_33, w_11, w_12, w_21, w_22, w_31, w_32), x_12)]], [[Derivative(n_11(x_11, x_12, x_13, x_21, x_22, x_23, x_31, x_32, x_33, w_11, w_12, w_21, w_22, w_31, w_32), x_13), Derivative(n_12(x_11, x_12, x_13, x_21, x_22, x_23, x_31, x_32, x_33, w_11, w_12, w_21, w_22, w_31, w_32), x_13)], [Derivative(n_21(x_11, x_12, x_13, x_21, x_22, x_23, x_31, x_32, x_33, w_11, w_12, w_21, w_22, w_31, w_32), x_13), Derivative(n_22(x_11, x_12, x_13, x_21, x_22, x_23, x_31, x_32, x_33, w_11, w_12, w_21, w_22, w_31, w_32), x_13)], [Derivative(n_31(x_11, x_12, x_13, x_21, x_22, x_23, x_31, x_32, x_33, w_11, w_12, w_21, w_22, w_31, w_32), x_13), Derivative(n_32(x_11, x_12, x_13, x_21, x_22, x_23, x_31, x_32, x_33, w_11, w_12, w_21, w_22, w_31, w_32), x_13)]]], [[[Derivative(n_11(x_11, x_12, x_13, x_21, x_22, x_23, x_31, x_32, x_33, w_11, w_12, w_21, w_22, w_31, w_32), x_21), Derivative(n_12(x_11, x_12, x_13, x_21, x_22, x_23, x_31, x_32, x_33, w_11, w_12, w_21, w_22, w_31, w_32), x_21)], [Derivative(n_21(x_11, x_12, x_13, x_21, x_22, x_23, x_31, x_32, x_33, w_11, w_12, w_21, w_22, w_31, w_32), x_21), Derivative(n_22(x_11, x_12, x_13, x_21, x_22, x_23, x_31, x_32, x_33, w_11, w_12, w_21, w_22, w_31, w_32), x_21)], [Derivative(n_31(x_11, x_12, x_13, x_21, x_22, x_23, x_31, x_32, x_33, w_11, w_12, w_21, w_22, w_31, w_32), x_21), Derivative(n_32(x_11, x_12, x_13, x_21, x_22, x_23, x_31, x_32, x_33, w_11, w_12, w_21, w_22, w_31, w_32), x_21)]], [[Derivative(n_11(x_11, x_12, x_13, x_21, x_22, x_23, x_31, x_32, x_33, w_11, w_12, w_21, w_22, w_31, w_32), x_22), Derivative(n_12(x_11, x_12, x_13, x_21, x_22, x_23, x_31, x_32, x_33, w_11, w_12, w_21, w_22, w_31, w_32), x_22)], [Derivative(n_21(x_11, x_12, x_13, x_21, x_22, x_23, x_31, x_32, x_33, w_11, w_12, w_21, w_22, w_31, w_32), x_22), Derivative(n_22(x_11, x_12, x_13, x_21, x_22, x_23, x_31, x_32, x_33, w_11, w_12, w_21, w_22, w_31, w_32), x_22)], [Derivative(n_31(x_11, x_12, x_13, x_21, x_22, x_23, x_31, x_32, x_33, w_11, w_12, w_21, w_22, w_31, w_32), x_22), Derivative(n_32(x_11, x_12, x_13, x_21, x_22, x_23, x_31, x_32, x_33, w_11, w_12, w_21, w_22, w_31, w_32), x_22)]], [[Derivative(n_11(x_11, x_12, x_13, x_21, x_22, x_23, x_31, x_32, x_33, w_11, w_12, w_21, w_22, w_31, w_32), x_23), Derivative(n_12(x_11, x_12, x_13, x_21, x_22, x_23, x_31, x_32, x_33, w_11, w_12, w_21, w_22, w_31, w_32), x_23)], [Derivative(n_21(x_11, x_12, x_13, x_21, x_22, x_23, x_31, x_32, x_33, w_11, w_12, w_21, w_22, w_31, w_32), x_23), Derivative(n_22(x_11, x_12, x_13, x_21, x_22, x_23, x_31, x_32, x_33, w_11, w_12, w_21, w_22, w_31, w_32), x_23)], [Derivative(n_31(x_11, x_12, x_13, x_21, x_22, x_23, x_31, x_32, x_33, w_11, w_12, w_21, w_22, w_31, w_32), x_23), Derivative(n_32(x_11, x_12, x_13, x_21, x_22, x_23, x_31, x_32, x_33, w_11, w_12, w_21, w_22, w_31, w_32), x_23)]]], [[[Derivative(n_11(x_11, x_12, x_13, x_21, x_22, x_23, x_31, x_32, x_33, w_11, w_12, w_21, w_22, w_31, w_32), x_31), Derivative(n_12(x_11, x_12, x_13, x_21, x_22, x_23, x_31, x_32, x_33, w_11, w_12, w_21, w_22, w_31, w_32), x_31)], [Derivative(n_21(x_11, x_12, x_13, x_21, x_22, x_23, x_31, x_32, x_33, w_11, w_12, w_21, w_22, w_31, w_32), x_31), Derivative(n_22(x_11, x_12, x_13, x_21, x_22, x_23, x_31, x_32, x_33, w_11, w_12, w_21, w_22, w_31, w_32), x_31)], [Derivative(n_31(x_11, x_12, x_13, x_21, x_22, x_23, x_31, x_32, x_33, w_11, w_12, w_21, w_22, w_31, w_32), x_31), Derivative(n_32(x_11, x_12, x_13, x_21, x_22, x_23, x_31, x_32, x_33, w_11, w_12, w_21, w_22, w_31, w_32), x_31)]], [[Derivative(n_11(x_11, x_12, x_13, x_21, x_22, x_23, x_31, x_32, x_33, w_11, w_12, w_21, w_22, w_31, w_32), x_32), Derivative(n_12(x_11, x_12, x_13, x_21, x_22, x_23, x_31, x_32, x_33, w_11, w_12, w_21, w_22, w_31, w_32), x_32)], [Derivative(n_21(x_11, x_12, x_13, x_21, x_22, x_23, x_31, x_32, x_33, w_11, w_12, w_21, w_22, w_31, w_32), x_32), Derivative(n_22(x_11, x_12, x_13, x_21, x_22, x_23, x_31, x_32, x_33, w_11, w_12, w_21, w_22, w_31, w_32), x_32)], [Derivative(n_31(x_11, x_12, x_13, x_21, x_22, x_23, x_31, x_32, x_33, w_11, w_12, w_21, w_22, w_31, w_32), x_32), Derivative(n_32(x_11, x_12, x_13, x_21, x_22, x_23, x_31, x_32, x_33, w_11, w_12, w_21, w_22, w_31, w_32), x_32)]], [[Derivative(n_11(x_11, x_12, x_13, x_21, x_22, x_23, x_31, x_32, x_33, w_11, w_12, w_21, w_22, w_31, w_32), x_33), Derivative(n_12(x_11, x_12, x_13, x_21, x_22, x_23, x_31, x_32, x_33, w_11, w_12, w_21, w_22, w_31, w_32), x_33)], [Derivative(n_21(x_11, x_12, x_13, x_21, x_22, x_23, x_31, x_32, x_33, w_11, w_12, w_21, w_22, w_31, w_32), x_33), Derivative(n_22(x_11, x_12, x_13, x_21, x_22, x_23, x_31, x_32, x_33, w_11, w_12, w_21, w_22, w_31, w_32), x_33)], [Derivative(n_31(x_11, x_12, x_13, x_21, x_22, x_23, x_31, x_32, x_33, w_11, w_12, w_21, w_22, w_31, w_32), x_33), Derivative(n_32(x_11, x_12, x_13, x_21, x_22, x_23, x_31, x_32, x_33, w_11, w_12, w_21, w_22, w_31, w_32), x_33)]]]]"
      ]
     },
     "execution_count": 1,
     "metadata": {},
     "output_type": "execute_result"
    }
   ],
   "source": [
    "F.diff(X)"
   ]
  },
  {
   "cell_type": "code",
   "execution_count": 171,
   "metadata": {
    "execution": {
     "iopub.execute_input": "2020-10-03T08:31:53.012896Z",
     "iopub.status.busy": "2020-10-03T08:31:53.007229Z",
     "iopub.status.idle": "2020-10-03T08:31:53.133886Z",
     "shell.execute_reply": "2020-10-03T08:31:53.138426Z"
    },
    "lines_to_next_cell": 0,
    "title": "codecell"
   },
   "outputs": [
    {
     "data": {
      "text/latex": [
       "$\\displaystyle \\left[\\begin{matrix}\\operatorname{n_{11}}{\\left(x_{11},x_{12},x_{13},x_{21},x_{22},x_{23},x_{31},x_{32},x_{33},w_{11},w_{12},w_{21},w_{22},w_{31},w_{32} \\right)} & w_{11} x_{11} + w_{21} x_{12} + w_{31} x_{13}\\\\\\operatorname{n_{12}}{\\left(x_{11},x_{12},x_{13},x_{21},x_{22},x_{23},x_{31},x_{32},x_{33},w_{11},w_{12},w_{21},w_{22},w_{31},w_{32} \\right)} & w_{12} x_{11} + w_{22} x_{12} + w_{32} x_{13}\\\\\\operatorname{n_{21}}{\\left(x_{11},x_{12},x_{13},x_{21},x_{22},x_{23},x_{31},x_{32},x_{33},w_{11},w_{12},w_{21},w_{22},w_{31},w_{32} \\right)} & w_{11} x_{21} + w_{21} x_{22} + w_{31} x_{23}\\\\\\operatorname{n_{22}}{\\left(x_{11},x_{12},x_{13},x_{21},x_{22},x_{23},x_{31},x_{32},x_{33},w_{11},w_{12},w_{21},w_{22},w_{31},w_{32} \\right)} & w_{12} x_{21} + w_{22} x_{22} + w_{32} x_{23}\\\\\\operatorname{n_{31}}{\\left(x_{11},x_{12},x_{13},x_{21},x_{22},x_{23},x_{31},x_{32},x_{33},w_{11},w_{12},w_{21},w_{22},w_{31},w_{32} \\right)} & w_{11} x_{31} + w_{21} x_{32} + w_{31} x_{33}\\\\\\operatorname{n_{32}}{\\left(x_{11},x_{12},x_{13},x_{21},x_{22},x_{23},x_{31},x_{32},x_{33},w_{11},w_{12},w_{21},w_{22},w_{31},w_{32} \\right)} & w_{12} x_{31} + w_{22} x_{32} + w_{32} x_{33}\\end{matrix}\\right]$"
      ],
      "text/plain": [
       "Matrix([\n",
       "[n_11(x_11, x_12, x_13, x_21, x_22, x_23, x_31, x_32, x_33, w_11, w_12, w_21, w_22, w_31, w_32), w_11*x_11 + w_21*x_12 + w_31*x_13],\n",
       "[n_12(x_11, x_12, x_13, x_21, x_22, x_23, x_31, x_32, x_33, w_11, w_12, w_21, w_22, w_31, w_32), w_12*x_11 + w_22*x_12 + w_32*x_13],\n",
       "[n_21(x_11, x_12, x_13, x_21, x_22, x_23, x_31, x_32, x_33, w_11, w_12, w_21, w_22, w_31, w_32), w_11*x_21 + w_21*x_22 + w_31*x_23],\n",
       "[n_22(x_11, x_12, x_13, x_21, x_22, x_23, x_31, x_32, x_33, w_11, w_12, w_21, w_22, w_31, w_32), w_12*x_21 + w_22*x_22 + w_32*x_23],\n",
       "[n_31(x_11, x_12, x_13, x_21, x_22, x_23, x_31, x_32, x_33, w_11, w_12, w_21, w_22, w_31, w_32), w_11*x_31 + w_21*x_32 + w_31*x_33],\n",
       "[n_32(x_11, x_12, x_13, x_21, x_22, x_23, x_31, x_32, x_33, w_11, w_12, w_21, w_22, w_31, w_32), w_12*x_31 + w_22*x_32 + w_32*x_33]])"
      ]
     },
     "execution_count": 1,
     "metadata": {},
     "output_type": "execute_result"
    }
   ],
   "source": [
    "argsToSpecD = dict(zip(elemToSpecFuncArgsD.values(), elemToSpecD.values()))\n",
    "argsToSpec = list(argsToSpecD.items())\n",
    "Matrix(argsToSpec)"
   ]
  },
  {
   "cell_type": "code",
   "execution_count": 172,
   "metadata": {
    "execution": {
     "iopub.execute_input": "2020-10-03T08:31:53.151546Z",
     "iopub.status.busy": "2020-10-03T08:31:53.148759Z",
     "iopub.status.idle": "2020-10-03T08:31:53.225758Z",
     "shell.execute_reply": "2020-10-03T08:31:53.233786Z"
    },
    "lines_to_next_cell": 0,
    "title": "codecell"
   },
   "outputs": [
    {
     "data": {
      "text/latex": [
       "$\\displaystyle \\frac{\\partial}{\\partial x_{11}} \\left(w_{11} x_{11} + w_{21} x_{12} + w_{31} x_{13}\\right)$"
      ],
      "text/plain": [
       "Derivative(w_11*x_11 + w_21*x_12 + w_31*x_13, x_11)"
      ]
     },
     "execution_count": 1,
     "metadata": {},
     "output_type": "execute_result"
    }
   ],
   "source": [
    "F[0,0].diff(X[0,0]).subs(argsToSpecD)#.subs({elemToSpecFuncArgs[0][1] : Nspec[0,0]})"
   ]
  },
  {
   "cell_type": "code",
   "execution_count": 173,
   "metadata": {
    "execution": {
     "iopub.execute_input": "2020-10-03T08:31:53.243404Z",
     "iopub.status.busy": "2020-10-03T08:31:53.241621Z",
     "iopub.status.idle": "2020-10-03T08:31:53.287396Z",
     "shell.execute_reply": "2020-10-03T08:31:53.288578Z"
    },
    "lines_to_next_cell": 0,
    "title": "codecell"
   },
   "outputs": [
    {
     "data": {
      "text/latex": [
       "$\\displaystyle w_{11}$"
      ],
      "text/plain": [
       "w_11"
      ]
     },
     "execution_count": 1,
     "metadata": {},
     "output_type": "execute_result"
    }
   ],
   "source": [
    "F[0,0].diff(X[0,0]).subs(argsToSpecD).doit()"
   ]
  },
  {
   "cell_type": "code",
   "execution_count": 174,
   "metadata": {
    "execution": {
     "iopub.execute_input": "2020-10-03T08:31:53.294376Z",
     "iopub.status.busy": "2020-10-03T08:31:53.292842Z",
     "iopub.status.idle": "2020-10-03T08:31:55.336265Z",
     "shell.execute_reply": "2020-10-03T08:31:55.338200Z"
    },
    "title": "codecell"
   },
   "outputs": [
    {
     "data": {
      "text/latex": [
       "$\\displaystyle \\left[\\begin{matrix}\\left[\\begin{matrix}\\frac{\\partial}{\\partial x_{11}} \\left(w_{11} x_{11} + w_{21} x_{12} + w_{31} x_{13}\\right) & \\frac{\\partial}{\\partial x_{11}} \\left(w_{12} x_{11} + w_{22} x_{12} + w_{32} x_{13}\\right)\\\\\\frac{\\partial}{\\partial x_{11}} \\left(w_{11} x_{21} + w_{21} x_{22} + w_{31} x_{23}\\right) & \\frac{\\partial}{\\partial x_{11}} \\left(w_{12} x_{21} + w_{22} x_{22} + w_{32} x_{23}\\right)\\\\\\frac{\\partial}{\\partial x_{11}} \\left(w_{11} x_{31} + w_{21} x_{32} + w_{31} x_{33}\\right) & \\frac{\\partial}{\\partial x_{11}} \\left(w_{12} x_{31} + w_{22} x_{32} + w_{32} x_{33}\\right)\\end{matrix}\\right] & \\left[\\begin{matrix}\\frac{\\partial}{\\partial x_{12}} \\left(w_{11} x_{11} + w_{21} x_{12} + w_{31} x_{13}\\right) & \\frac{\\partial}{\\partial x_{12}} \\left(w_{12} x_{11} + w_{22} x_{12} + w_{32} x_{13}\\right)\\\\\\frac{\\partial}{\\partial x_{12}} \\left(w_{11} x_{21} + w_{21} x_{22} + w_{31} x_{23}\\right) & \\frac{\\partial}{\\partial x_{12}} \\left(w_{12} x_{21} + w_{22} x_{22} + w_{32} x_{23}\\right)\\\\\\frac{\\partial}{\\partial x_{12}} \\left(w_{11} x_{31} + w_{21} x_{32} + w_{31} x_{33}\\right) & \\frac{\\partial}{\\partial x_{12}} \\left(w_{12} x_{31} + w_{22} x_{32} + w_{32} x_{33}\\right)\\end{matrix}\\right] & \\left[\\begin{matrix}\\frac{\\partial}{\\partial x_{13}} \\left(w_{11} x_{11} + w_{21} x_{12} + w_{31} x_{13}\\right) & \\frac{\\partial}{\\partial x_{13}} \\left(w_{12} x_{11} + w_{22} x_{12} + w_{32} x_{13}\\right)\\\\\\frac{\\partial}{\\partial x_{13}} \\left(w_{11} x_{21} + w_{21} x_{22} + w_{31} x_{23}\\right) & \\frac{\\partial}{\\partial x_{13}} \\left(w_{12} x_{21} + w_{22} x_{22} + w_{32} x_{23}\\right)\\\\\\frac{\\partial}{\\partial x_{13}} \\left(w_{11} x_{31} + w_{21} x_{32} + w_{31} x_{33}\\right) & \\frac{\\partial}{\\partial x_{13}} \\left(w_{12} x_{31} + w_{22} x_{32} + w_{32} x_{33}\\right)\\end{matrix}\\right]\\\\\\left[\\begin{matrix}\\frac{\\partial}{\\partial x_{21}} \\left(w_{11} x_{11} + w_{21} x_{12} + w_{31} x_{13}\\right) & \\frac{\\partial}{\\partial x_{21}} \\left(w_{12} x_{11} + w_{22} x_{12} + w_{32} x_{13}\\right)\\\\\\frac{\\partial}{\\partial x_{21}} \\left(w_{11} x_{21} + w_{21} x_{22} + w_{31} x_{23}\\right) & \\frac{\\partial}{\\partial x_{21}} \\left(w_{12} x_{21} + w_{22} x_{22} + w_{32} x_{23}\\right)\\\\\\frac{\\partial}{\\partial x_{21}} \\left(w_{11} x_{31} + w_{21} x_{32} + w_{31} x_{33}\\right) & \\frac{\\partial}{\\partial x_{21}} \\left(w_{12} x_{31} + w_{22} x_{32} + w_{32} x_{33}\\right)\\end{matrix}\\right] & \\left[\\begin{matrix}\\frac{\\partial}{\\partial x_{22}} \\left(w_{11} x_{11} + w_{21} x_{12} + w_{31} x_{13}\\right) & \\frac{\\partial}{\\partial x_{22}} \\left(w_{12} x_{11} + w_{22} x_{12} + w_{32} x_{13}\\right)\\\\\\frac{\\partial}{\\partial x_{22}} \\left(w_{11} x_{21} + w_{21} x_{22} + w_{31} x_{23}\\right) & \\frac{\\partial}{\\partial x_{22}} \\left(w_{12} x_{21} + w_{22} x_{22} + w_{32} x_{23}\\right)\\\\\\frac{\\partial}{\\partial x_{22}} \\left(w_{11} x_{31} + w_{21} x_{32} + w_{31} x_{33}\\right) & \\frac{\\partial}{\\partial x_{22}} \\left(w_{12} x_{31} + w_{22} x_{32} + w_{32} x_{33}\\right)\\end{matrix}\\right] & \\left[\\begin{matrix}\\frac{\\partial}{\\partial x_{23}} \\left(w_{11} x_{11} + w_{21} x_{12} + w_{31} x_{13}\\right) & \\frac{\\partial}{\\partial x_{23}} \\left(w_{12} x_{11} + w_{22} x_{12} + w_{32} x_{13}\\right)\\\\\\frac{\\partial}{\\partial x_{23}} \\left(w_{11} x_{21} + w_{21} x_{22} + w_{31} x_{23}\\right) & \\frac{\\partial}{\\partial x_{23}} \\left(w_{12} x_{21} + w_{22} x_{22} + w_{32} x_{23}\\right)\\\\\\frac{\\partial}{\\partial x_{23}} \\left(w_{11} x_{31} + w_{21} x_{32} + w_{31} x_{33}\\right) & \\frac{\\partial}{\\partial x_{23}} \\left(w_{12} x_{31} + w_{22} x_{32} + w_{32} x_{33}\\right)\\end{matrix}\\right]\\\\\\left[\\begin{matrix}\\frac{\\partial}{\\partial x_{31}} \\left(w_{11} x_{11} + w_{21} x_{12} + w_{31} x_{13}\\right) & \\frac{\\partial}{\\partial x_{31}} \\left(w_{12} x_{11} + w_{22} x_{12} + w_{32} x_{13}\\right)\\\\\\frac{\\partial}{\\partial x_{31}} \\left(w_{11} x_{21} + w_{21} x_{22} + w_{31} x_{23}\\right) & \\frac{\\partial}{\\partial x_{31}} \\left(w_{12} x_{21} + w_{22} x_{22} + w_{32} x_{23}\\right)\\\\\\frac{\\partial}{\\partial x_{31}} \\left(w_{11} x_{31} + w_{21} x_{32} + w_{31} x_{33}\\right) & \\frac{\\partial}{\\partial x_{31}} \\left(w_{12} x_{31} + w_{22} x_{32} + w_{32} x_{33}\\right)\\end{matrix}\\right] & \\left[\\begin{matrix}\\frac{\\partial}{\\partial x_{32}} \\left(w_{11} x_{11} + w_{21} x_{12} + w_{31} x_{13}\\right) & \\frac{\\partial}{\\partial x_{32}} \\left(w_{12} x_{11} + w_{22} x_{12} + w_{32} x_{13}\\right)\\\\\\frac{\\partial}{\\partial x_{32}} \\left(w_{11} x_{21} + w_{21} x_{22} + w_{31} x_{23}\\right) & \\frac{\\partial}{\\partial x_{32}} \\left(w_{12} x_{21} + w_{22} x_{22} + w_{32} x_{23}\\right)\\\\\\frac{\\partial}{\\partial x_{32}} \\left(w_{11} x_{31} + w_{21} x_{32} + w_{31} x_{33}\\right) & \\frac{\\partial}{\\partial x_{32}} \\left(w_{12} x_{31} + w_{22} x_{32} + w_{32} x_{33}\\right)\\end{matrix}\\right] & \\left[\\begin{matrix}\\frac{\\partial}{\\partial x_{33}} \\left(w_{11} x_{11} + w_{21} x_{12} + w_{31} x_{13}\\right) & \\frac{\\partial}{\\partial x_{33}} \\left(w_{12} x_{11} + w_{22} x_{12} + w_{32} x_{13}\\right)\\\\\\frac{\\partial}{\\partial x_{33}} \\left(w_{11} x_{21} + w_{21} x_{22} + w_{31} x_{23}\\right) & \\frac{\\partial}{\\partial x_{33}} \\left(w_{12} x_{21} + w_{22} x_{22} + w_{32} x_{23}\\right)\\\\\\frac{\\partial}{\\partial x_{33}} \\left(w_{11} x_{31} + w_{21} x_{32} + w_{31} x_{33}\\right) & \\frac{\\partial}{\\partial x_{33}} \\left(w_{12} x_{31} + w_{22} x_{32} + w_{32} x_{33}\\right)\\end{matrix}\\right]\\end{matrix}\\right]$"
      ],
      "text/plain": [
       "[[[[Derivative(w_11*x_11 + w_21*x_12 + w_31*x_13, x_11), Derivative(w_12*x_11 + w_22*x_12 + w_32*x_13, x_11)], [Derivative(w_11*x_21 + w_21*x_22 + w_31*x_23, x_11), Derivative(w_12*x_21 + w_22*x_22 + w_32*x_23, x_11)], [Derivative(w_11*x_31 + w_21*x_32 + w_31*x_33, x_11), Derivative(w_12*x_31 + w_22*x_32 + w_32*x_33, x_11)]], [[Derivative(w_11*x_11 + w_21*x_12 + w_31*x_13, x_12), Derivative(w_12*x_11 + w_22*x_12 + w_32*x_13, x_12)], [Derivative(w_11*x_21 + w_21*x_22 + w_31*x_23, x_12), Derivative(w_12*x_21 + w_22*x_22 + w_32*x_23, x_12)], [Derivative(w_11*x_31 + w_21*x_32 + w_31*x_33, x_12), Derivative(w_12*x_31 + w_22*x_32 + w_32*x_33, x_12)]], [[Derivative(w_11*x_11 + w_21*x_12 + w_31*x_13, x_13), Derivative(w_12*x_11 + w_22*x_12 + w_32*x_13, x_13)], [Derivative(w_11*x_21 + w_21*x_22 + w_31*x_23, x_13), Derivative(w_12*x_21 + w_22*x_22 + w_32*x_23, x_13)], [Derivative(w_11*x_31 + w_21*x_32 + w_31*x_33, x_13), Derivative(w_12*x_31 + w_22*x_32 + w_32*x_33, x_13)]]], [[[Derivative(w_11*x_11 + w_21*x_12 + w_31*x_13, x_21), Derivative(w_12*x_11 + w_22*x_12 + w_32*x_13, x_21)], [Derivative(w_11*x_21 + w_21*x_22 + w_31*x_23, x_21), Derivative(w_12*x_21 + w_22*x_22 + w_32*x_23, x_21)], [Derivative(w_11*x_31 + w_21*x_32 + w_31*x_33, x_21), Derivative(w_12*x_31 + w_22*x_32 + w_32*x_33, x_21)]], [[Derivative(w_11*x_11 + w_21*x_12 + w_31*x_13, x_22), Derivative(w_12*x_11 + w_22*x_12 + w_32*x_13, x_22)], [Derivative(w_11*x_21 + w_21*x_22 + w_31*x_23, x_22), Derivative(w_12*x_21 + w_22*x_22 + w_32*x_23, x_22)], [Derivative(w_11*x_31 + w_21*x_32 + w_31*x_33, x_22), Derivative(w_12*x_31 + w_22*x_32 + w_32*x_33, x_22)]], [[Derivative(w_11*x_11 + w_21*x_12 + w_31*x_13, x_23), Derivative(w_12*x_11 + w_22*x_12 + w_32*x_13, x_23)], [Derivative(w_11*x_21 + w_21*x_22 + w_31*x_23, x_23), Derivative(w_12*x_21 + w_22*x_22 + w_32*x_23, x_23)], [Derivative(w_11*x_31 + w_21*x_32 + w_31*x_33, x_23), Derivative(w_12*x_31 + w_22*x_32 + w_32*x_33, x_23)]]], [[[Derivative(w_11*x_11 + w_21*x_12 + w_31*x_13, x_31), Derivative(w_12*x_11 + w_22*x_12 + w_32*x_13, x_31)], [Derivative(w_11*x_21 + w_21*x_22 + w_31*x_23, x_31), Derivative(w_12*x_21 + w_22*x_22 + w_32*x_23, x_31)], [Derivative(w_11*x_31 + w_21*x_32 + w_31*x_33, x_31), Derivative(w_12*x_31 + w_22*x_32 + w_32*x_33, x_31)]], [[Derivative(w_11*x_11 + w_21*x_12 + w_31*x_13, x_32), Derivative(w_12*x_11 + w_22*x_12 + w_32*x_13, x_32)], [Derivative(w_11*x_21 + w_21*x_22 + w_31*x_23, x_32), Derivative(w_12*x_21 + w_22*x_22 + w_32*x_23, x_32)], [Derivative(w_11*x_31 + w_21*x_32 + w_31*x_33, x_32), Derivative(w_12*x_31 + w_22*x_32 + w_32*x_33, x_32)]], [[Derivative(w_11*x_11 + w_21*x_12 + w_31*x_13, x_33), Derivative(w_12*x_11 + w_22*x_12 + w_32*x_13, x_33)], [Derivative(w_11*x_21 + w_21*x_22 + w_31*x_23, x_33), Derivative(w_12*x_21 + w_22*x_22 + w_32*x_23, x_33)], [Derivative(w_11*x_31 + w_21*x_32 + w_31*x_33, x_33), Derivative(w_12*x_31 + w_22*x_32 + w_32*x_33, x_33)]]]]"
      ]
     },
     "execution_count": 1,
     "metadata": {},
     "output_type": "execute_result"
    }
   ],
   "source": [
    "# NOTE: using diff did not work, said immutable dense array cannot be subs-ed\n",
    "derive_by_array(F, X).subs(argsToSpecD)"
   ]
  },
  {
   "cell_type": "code",
   "execution_count": 175,
   "metadata": {
    "execution": {
     "iopub.execute_input": "2020-10-03T08:31:55.350078Z",
     "iopub.status.busy": "2020-10-03T08:31:55.348340Z",
     "iopub.status.idle": "2020-10-03T08:31:56.062226Z",
     "shell.execute_reply": "2020-10-03T08:31:56.063354Z"
    },
    "lines_to_next_cell": 0,
    "title": "codecell"
   },
   "outputs": [
    {
     "data": {
      "text/latex": [
       "$\\displaystyle \\left[\\begin{matrix}\\left[\\begin{matrix}w_{11} & w_{12}\\\\0 & 0\\\\0 & 0\\end{matrix}\\right] & \\left[\\begin{matrix}w_{21} & w_{22}\\\\0 & 0\\\\0 & 0\\end{matrix}\\right] & \\left[\\begin{matrix}w_{31} & w_{32}\\\\0 & 0\\\\0 & 0\\end{matrix}\\right]\\\\\\left[\\begin{matrix}0 & 0\\\\w_{11} & w_{12}\\\\0 & 0\\end{matrix}\\right] & \\left[\\begin{matrix}0 & 0\\\\w_{21} & w_{22}\\\\0 & 0\\end{matrix}\\right] & \\left[\\begin{matrix}0 & 0\\\\w_{31} & w_{32}\\\\0 & 0\\end{matrix}\\right]\\\\\\left[\\begin{matrix}0 & 0\\\\0 & 0\\\\w_{11} & w_{12}\\end{matrix}\\right] & \\left[\\begin{matrix}0 & 0\\\\0 & 0\\\\w_{21} & w_{22}\\end{matrix}\\right] & \\left[\\begin{matrix}0 & 0\\\\0 & 0\\\\w_{31} & w_{32}\\end{matrix}\\right]\\end{matrix}\\right]$"
      ],
      "text/plain": [
       "[[[[w_11, w_12], [0, 0], [0, 0]], [[w_21, w_22], [0, 0], [0, 0]], [[w_31, w_32], [0, 0], [0, 0]]], [[[0, 0], [w_11, w_12], [0, 0]], [[0, 0], [w_21, w_22], [0, 0]], [[0, 0], [w_31, w_32], [0, 0]]], [[[0, 0], [0, 0], [w_11, w_12]], [[0, 0], [0, 0], [w_21, w_22]], [[0, 0], [0, 0], [w_31, w_32]]]]"
      ]
     },
     "execution_count": 1,
     "metadata": {},
     "output_type": "execute_result"
    }
   ],
   "source": [
    "derive_by_array(F, X).subs(argsToSpecD).doit()"
   ]
  },
  {
   "cell_type": "code",
   "execution_count": 176,
   "metadata": {
    "execution": {
     "iopub.execute_input": "2020-10-03T08:31:56.069984Z",
     "iopub.status.busy": "2020-10-03T08:31:56.066948Z",
     "iopub.status.idle": "2020-10-03T08:31:57.037408Z",
     "shell.execute_reply": "2020-10-03T08:31:57.039673Z"
    },
    "title": "codecell"
   },
   "outputs": [
    {
     "data": {
      "text/latex": [
       "$\\displaystyle \\left[\\begin{matrix}\\left[\\begin{matrix}x_{11} & 0\\\\x_{21} & 0\\\\x_{31} & 0\\end{matrix}\\right] & \\left[\\begin{matrix}0 & x_{11}\\\\0 & x_{21}\\\\0 & x_{31}\\end{matrix}\\right]\\\\\\left[\\begin{matrix}x_{12} & 0\\\\x_{22} & 0\\\\x_{32} & 0\\end{matrix}\\right] & \\left[\\begin{matrix}0 & x_{12}\\\\0 & x_{22}\\\\0 & x_{32}\\end{matrix}\\right]\\\\\\left[\\begin{matrix}x_{13} & 0\\\\x_{23} & 0\\\\x_{33} & 0\\end{matrix}\\right] & \\left[\\begin{matrix}0 & x_{13}\\\\0 & x_{23}\\\\0 & x_{33}\\end{matrix}\\right]\\end{matrix}\\right]$"
      ],
      "text/plain": [
       "[[[[x_11, 0], [x_21, 0], [x_31, 0]], [[0, x_11], [0, x_21], [0, x_31]]], [[[x_12, 0], [x_22, 0], [x_32, 0]], [[0, x_12], [0, x_22], [0, x_32]]], [[[x_13, 0], [x_23, 0], [x_33, 0]], [[0, x_13], [0, x_23], [0, x_33]]]]"
      ]
     },
     "execution_count": 1,
     "metadata": {},
     "output_type": "execute_result"
    }
   ],
   "source": [
    "derive_by_array(F, W).subs(argsToSpecD).doit()\n",
    "\n",
    "\n"
   ]
  },
  {
   "cell_type": "code",
   "execution_count": 177,
   "metadata": {
    "execution": {
     "iopub.execute_input": "2020-10-03T08:31:57.047104Z",
     "iopub.status.busy": "2020-10-03T08:31:57.045635Z",
     "iopub.status.idle": "2020-10-03T08:31:57.078578Z",
     "shell.execute_reply": "2020-10-03T08:31:57.079696Z"
    },
    "lines_to_next_cell": 0,
    "title": "codecell"
   },
   "outputs": [
    {
     "data": {
      "text/latex": [
       "$\\displaystyle \\frac{\\partial}{\\partial X} \\left[\\begin{matrix}n_{11} & n_{12}\\\\n_{21} & n_{22}\\\\n_{31} & n_{32}\\end{matrix}\\right] \\frac{\\partial}{\\partial \\left[\\begin{matrix}n_{11} & n_{12}\\\\n_{21} & n_{22}\\\\n_{31} & n_{32}\\end{matrix}\\right]} \\left[\\begin{matrix}\\sigma{\\left(n_{11} \\right)} & \\sigma{\\left(n_{12} \\right)}\\\\\\sigma{\\left(n_{21} \\right)} & \\sigma{\\left(n_{22} \\right)}\\\\\\sigma{\\left(n_{31} \\right)} & \\sigma{\\left(n_{32} \\right)}\\end{matrix}\\right]$"
      ],
      "text/plain": [
       "Derivative(Matrix([\n",
       "[n_11, n_12],\n",
       "[n_21, n_22],\n",
       "[n_31, n_32]]), X)*Derivative(Matrix([\n",
       "[sigma(n_11), sigma(n_12)],\n",
       "[sigma(n_21), sigma(n_22)],\n",
       "[sigma(n_31), sigma(n_32)]]), Matrix([\n",
       "[n_11, n_12],\n",
       "[n_21, n_22],\n",
       "[n_31, n_32]]))"
      ]
     },
     "execution_count": 1,
     "metadata": {},
     "output_type": "execute_result"
    }
   ],
   "source": [
    "elem2"
   ]
  },
  {
   "cell_type": "code",
   "execution_count": 178,
   "metadata": {
    "execution": {
     "iopub.execute_input": "2020-10-03T08:31:57.087121Z",
     "iopub.status.busy": "2020-10-03T08:31:57.085344Z",
     "iopub.status.idle": "2020-10-03T08:31:57.297829Z",
     "shell.execute_reply": "2020-10-03T08:31:57.298901Z"
    },
    "title": "codecell"
   },
   "outputs": [
    {
     "data": {
      "text/latex": [
       "$\\displaystyle \\frac{\\partial}{\\partial \\left[\\begin{matrix}x_{11} & x_{12} & x_{13}\\\\x_{21} & x_{22} & x_{23}\\\\x_{31} & x_{32} & x_{33}\\end{matrix}\\right]} \\left[\\begin{matrix}\\operatorname{n_{11}}{\\left(x_{11},x_{12},x_{13},x_{21},x_{22},x_{23},x_{31},x_{32},x_{33},w_{11},w_{12},w_{21},w_{22},w_{31},w_{32} \\right)} & \\operatorname{n_{12}}{\\left(x_{11},x_{12},x_{13},x_{21},x_{22},x_{23},x_{31},x_{32},x_{33},w_{11},w_{12},w_{21},w_{22},w_{31},w_{32} \\right)}\\\\\\operatorname{n_{21}}{\\left(x_{11},x_{12},x_{13},x_{21},x_{22},x_{23},x_{31},x_{32},x_{33},w_{11},w_{12},w_{21},w_{22},w_{31},w_{32} \\right)} & \\operatorname{n_{22}}{\\left(x_{11},x_{12},x_{13},x_{21},x_{22},x_{23},x_{31},x_{32},x_{33},w_{11},w_{12},w_{21},w_{22},w_{31},w_{32} \\right)}\\\\\\operatorname{n_{31}}{\\left(x_{11},x_{12},x_{13},x_{21},x_{22},x_{23},x_{31},x_{32},x_{33},w_{11},w_{12},w_{21},w_{22},w_{31},w_{32} \\right)} & \\operatorname{n_{32}}{\\left(x_{11},x_{12},x_{13},x_{21},x_{22},x_{23},x_{31},x_{32},x_{33},w_{11},w_{12},w_{21},w_{22},w_{31},w_{32} \\right)}\\end{matrix}\\right] \\frac{\\partial}{\\partial \\left[\\begin{matrix}\\operatorname{n_{11}}{\\left(x_{11},x_{12},x_{13},x_{21},x_{22},x_{23},x_{31},x_{32},x_{33},w_{11},w_{12},w_{21},w_{22},w_{31},w_{32} \\right)} & \\operatorname{n_{12}}{\\left(x_{11},x_{12},x_{13},x_{21},x_{22},x_{23},x_{31},x_{32},x_{33},w_{11},w_{12},w_{21},w_{22},w_{31},w_{32} \\right)}\\\\\\operatorname{n_{21}}{\\left(x_{11},x_{12},x_{13},x_{21},x_{22},x_{23},x_{31},x_{32},x_{33},w_{11},w_{12},w_{21},w_{22},w_{31},w_{32} \\right)} & \\operatorname{n_{22}}{\\left(x_{11},x_{12},x_{13},x_{21},x_{22},x_{23},x_{31},x_{32},x_{33},w_{11},w_{12},w_{21},w_{22},w_{31},w_{32} \\right)}\\\\\\operatorname{n_{31}}{\\left(x_{11},x_{12},x_{13},x_{21},x_{22},x_{23},x_{31},x_{32},x_{33},w_{11},w_{12},w_{21},w_{22},w_{31},w_{32} \\right)} & \\operatorname{n_{32}}{\\left(x_{11},x_{12},x_{13},x_{21},x_{22},x_{23},x_{31},x_{32},x_{33},w_{11},w_{12},w_{21},w_{22},w_{31},w_{32} \\right)}\\end{matrix}\\right]} \\left[\\begin{matrix}\\sigma{\\left(\\operatorname{n_{11}}{\\left(x_{11},x_{12},x_{13},x_{21},x_{22},x_{23},x_{31},x_{32},x_{33},w_{11},w_{12},w_{21},w_{22},w_{31},w_{32} \\right)} \\right)} & \\sigma{\\left(\\operatorname{n_{12}}{\\left(x_{11},x_{12},x_{13},x_{21},x_{22},x_{23},x_{31},x_{32},x_{33},w_{11},w_{12},w_{21},w_{22},w_{31},w_{32} \\right)} \\right)}\\\\\\sigma{\\left(\\operatorname{n_{21}}{\\left(x_{11},x_{12},x_{13},x_{21},x_{22},x_{23},x_{31},x_{32},x_{33},w_{11},w_{12},w_{21},w_{22},w_{31},w_{32} \\right)} \\right)} & \\sigma{\\left(\\operatorname{n_{22}}{\\left(x_{11},x_{12},x_{13},x_{21},x_{22},x_{23},x_{31},x_{32},x_{33},w_{11},w_{12},w_{21},w_{22},w_{31},w_{32} \\right)} \\right)}\\\\\\sigma{\\left(\\operatorname{n_{31}}{\\left(x_{11},x_{12},x_{13},x_{21},x_{22},x_{23},x_{31},x_{32},x_{33},w_{11},w_{12},w_{21},w_{22},w_{31},w_{32} \\right)} \\right)} & \\sigma{\\left(\\operatorname{n_{32}}{\\left(x_{11},x_{12},x_{13},x_{21},x_{22},x_{23},x_{31},x_{32},x_{33},w_{11},w_{12},w_{21},w_{22},w_{31},w_{32} \\right)} \\right)}\\end{matrix}\\right]$"
      ],
      "text/plain": [
       "Derivative(Matrix([\n",
       "[n_11(x_11, x_12, x_13, x_21, x_22, x_23, x_31, x_32, x_33, w_11, w_12, w_21, w_22, w_31, w_32), n_12(x_11, x_12, x_13, x_21, x_22, x_23, x_31, x_32, x_33, w_11, w_12, w_21, w_22, w_31, w_32)],\n",
       "[n_21(x_11, x_12, x_13, x_21, x_22, x_23, x_31, x_32, x_33, w_11, w_12, w_21, w_22, w_31, w_32), n_22(x_11, x_12, x_13, x_21, x_22, x_23, x_31, x_32, x_33, w_11, w_12, w_21, w_22, w_31, w_32)],\n",
       "[n_31(x_11, x_12, x_13, x_21, x_22, x_23, x_31, x_32, x_33, w_11, w_12, w_21, w_22, w_31, w_32), n_32(x_11, x_12, x_13, x_21, x_22, x_23, x_31, x_32, x_33, w_11, w_12, w_21, w_22, w_31, w_32)]]), Matrix([\n",
       "[x_11, x_12, x_13],\n",
       "[x_21, x_22, x_23],\n",
       "[x_31, x_32, x_33]]))*Derivative(Matrix([\n",
       "[sigma(n_11(x_11, x_12, x_13, x_21, x_22, x_23, x_31, x_32, x_33, w_11, w_12, w_21, w_22, w_31, w_32)), sigma(n_12(x_11, x_12, x_13, x_21, x_22, x_23, x_31, x_32, x_33, w_11, w_12, w_21, w_22, w_31, w_32))],\n",
       "[sigma(n_21(x_11, x_12, x_13, x_21, x_22, x_23, x_31, x_32, x_33, w_11, w_12, w_21, w_22, w_31, w_32)), sigma(n_22(x_11, x_12, x_13, x_21, x_22, x_23, x_31, x_32, x_33, w_11, w_12, w_21, w_22, w_31, w_32))],\n",
       "[sigma(n_31(x_11, x_12, x_13, x_21, x_22, x_23, x_31, x_32, x_33, w_11, w_12, w_21, w_22, w_31, w_32)), sigma(n_32(x_11, x_12, x_13, x_21, x_22, x_23, x_31, x_32, x_33, w_11, w_12, w_21, w_22, w_31, w_32))]]), Matrix([\n",
       "[n_11(x_11, x_12, x_13, x_21, x_22, x_23, x_31, x_32, x_33, w_11, w_12, w_21, w_22, w_31, w_32), n_12(x_11, x_12, x_13, x_21, x_22, x_23, x_31, x_32, x_33, w_11, w_12, w_21, w_22, w_31, w_32)],\n",
       "[n_21(x_11, x_12, x_13, x_21, x_22, x_23, x_31, x_32, x_33, w_11, w_12, w_21, w_22, w_31, w_32), n_22(x_11, x_12, x_13, x_21, x_22, x_23, x_31, x_32, x_33, w_11, w_12, w_21, w_22, w_31, w_32)],\n",
       "[n_31(x_11, x_12, x_13, x_21, x_22, x_23, x_31, x_32, x_33, w_11, w_12, w_21, w_22, w_31, w_32), n_32(x_11, x_12, x_13, x_21, x_22, x_23, x_31, x_32, x_33, w_11, w_12, w_21, w_22, w_31, w_32)]]))"
      ]
     },
     "execution_count": 1,
     "metadata": {},
     "output_type": "execute_result"
    }
   ],
   "source": [
    "\n",
    "funcMat = elem2.subs(elemToSpecFuncArgsD).replace(A,X)#.diff(X)\n",
    "funcMat"
   ]
  },
  {
   "cell_type": "code",
   "execution_count": 179,
   "metadata": {
    "execution": {
     "iopub.execute_input": "2020-10-03T08:31:57.306755Z",
     "iopub.status.busy": "2020-10-03T08:31:57.305297Z",
     "iopub.status.idle": "2020-10-03T08:31:57.312471Z",
     "shell.execute_reply": "2020-10-03T08:31:57.315945Z"
    },
    "lines_to_next_cell": 0,
    "title": "codecell"
   },
   "outputs": [],
   "source": [
    "#funcMat.doit() # error\n",
    "#derive_by_array(funcMat, X)"
   ]
  },
  {
   "cell_type": "code",
   "execution_count": 180,
   "metadata": {
    "execution": {
     "iopub.execute_input": "2020-10-03T08:31:57.324496Z",
     "iopub.status.busy": "2020-10-03T08:31:57.319282Z",
     "iopub.status.idle": "2020-10-03T08:31:57.778658Z",
     "shell.execute_reply": "2020-10-03T08:31:57.779841Z"
    },
    "lines_to_next_cell": 0,
    "title": "codecell"
   },
   "outputs": [
    {
     "data": {
      "text/latex": [
       "$\\displaystyle \\frac{\\partial}{\\partial \\left[\\begin{matrix}x_{11} & x_{12} & x_{13}\\\\x_{21} & x_{22} & x_{23}\\\\x_{31} & x_{32} & x_{33}\\end{matrix}\\right]} \\left[\\begin{matrix}\\operatorname{n_{11}}{\\left(w_{11} x_{11} + w_{21} x_{12} + w_{31} x_{13} \\right)} & \\operatorname{n_{12}}{\\left(w_{12} x_{11} + w_{22} x_{12} + w_{32} x_{13} \\right)}\\\\\\operatorname{n_{21}}{\\left(w_{11} x_{21} + w_{21} x_{22} + w_{31} x_{23} \\right)} & \\operatorname{n_{22}}{\\left(w_{12} x_{21} + w_{22} x_{22} + w_{32} x_{23} \\right)}\\\\\\operatorname{n_{31}}{\\left(w_{11} x_{31} + w_{21} x_{32} + w_{31} x_{33} \\right)} & \\operatorname{n_{32}}{\\left(w_{12} x_{31} + w_{22} x_{32} + w_{32} x_{33} \\right)}\\end{matrix}\\right] \\frac{\\partial}{\\partial \\left[\\begin{matrix}\\operatorname{n_{11}}{\\left(w_{11} x_{11} + w_{21} x_{12} + w_{31} x_{13} \\right)} & \\operatorname{n_{12}}{\\left(w_{12} x_{11} + w_{22} x_{12} + w_{32} x_{13} \\right)}\\\\\\operatorname{n_{21}}{\\left(w_{11} x_{21} + w_{21} x_{22} + w_{31} x_{23} \\right)} & \\operatorname{n_{22}}{\\left(w_{12} x_{21} + w_{22} x_{22} + w_{32} x_{23} \\right)}\\\\\\operatorname{n_{31}}{\\left(w_{11} x_{31} + w_{21} x_{32} + w_{31} x_{33} \\right)} & \\operatorname{n_{32}}{\\left(w_{12} x_{31} + w_{22} x_{32} + w_{32} x_{33} \\right)}\\end{matrix}\\right]} \\left[\\begin{matrix}\\sigma{\\left(\\operatorname{n_{11}}{\\left(w_{11} x_{11} + w_{21} x_{12} + w_{31} x_{13} \\right)} \\right)} & \\sigma{\\left(\\operatorname{n_{12}}{\\left(w_{12} x_{11} + w_{22} x_{12} + w_{32} x_{13} \\right)} \\right)}\\\\\\sigma{\\left(\\operatorname{n_{21}}{\\left(w_{11} x_{21} + w_{21} x_{22} + w_{31} x_{23} \\right)} \\right)} & \\sigma{\\left(\\operatorname{n_{22}}{\\left(w_{12} x_{21} + w_{22} x_{22} + w_{32} x_{23} \\right)} \\right)}\\\\\\sigma{\\left(\\operatorname{n_{31}}{\\left(w_{11} x_{31} + w_{21} x_{32} + w_{31} x_{33} \\right)} \\right)} & \\sigma{\\left(\\operatorname{n_{32}}{\\left(w_{12} x_{31} + w_{22} x_{32} + w_{32} x_{33} \\right)} \\right)}\\end{matrix}\\right]$"
      ],
      "text/plain": [
       "Derivative(Matrix([\n",
       "[n_11(w_11*x_11 + w_21*x_12 + w_31*x_13), n_12(w_12*x_11 + w_22*x_12 + w_32*x_13)],\n",
       "[n_21(w_11*x_21 + w_21*x_22 + w_31*x_23), n_22(w_12*x_21 + w_22*x_22 + w_32*x_23)],\n",
       "[n_31(w_11*x_31 + w_21*x_32 + w_31*x_33), n_32(w_12*x_31 + w_22*x_32 + w_32*x_33)]]), Matrix([\n",
       "[x_11, x_12, x_13],\n",
       "[x_21, x_22, x_23],\n",
       "[x_31, x_32, x_33]]))*Derivative(Matrix([\n",
       "[sigma(n_11(w_11*x_11 + w_21*x_12 + w_31*x_13)), sigma(n_12(w_12*x_11 + w_22*x_12 + w_32*x_13))],\n",
       "[sigma(n_21(w_11*x_21 + w_21*x_22 + w_31*x_23)), sigma(n_22(w_12*x_21 + w_22*x_22 + w_32*x_23))],\n",
       "[sigma(n_31(w_11*x_31 + w_21*x_32 + w_31*x_33)), sigma(n_32(w_12*x_31 + w_22*x_32 + w_32*x_33))]]), Matrix([\n",
       "[n_11(w_11*x_11 + w_21*x_12 + w_31*x_13), n_12(w_12*x_11 + w_22*x_12 + w_32*x_13)],\n",
       "[n_21(w_11*x_21 + w_21*x_22 + w_31*x_23), n_22(w_12*x_21 + w_22*x_22 + w_32*x_23)],\n",
       "[n_31(w_11*x_31 + w_21*x_32 + w_31*x_33), n_32(w_12*x_31 + w_22*x_32 + w_32*x_33)]]))"
      ]
     },
     "execution_count": 1,
     "metadata": {},
     "output_type": "execute_result"
    }
   ],
   "source": [
    "funcMat = elem2.subs(elemToSpecFuncD).replace(A,X)#.diff(X)\n",
    "funcMat"
   ]
  },
  {
   "cell_type": "code",
   "execution_count": 181,
   "metadata": {
    "execution": {
     "iopub.execute_input": "2020-10-03T08:31:57.791346Z",
     "iopub.status.busy": "2020-10-03T08:31:57.787755Z",
     "iopub.status.idle": "2020-10-03T08:31:57.833973Z",
     "shell.execute_reply": "2020-10-03T08:31:57.835091Z"
    },
    "title": "codecell"
   },
   "outputs": [
    {
     "data": {
      "text/latex": [
       "$\\displaystyle \\frac{\\partial}{\\partial X} \\left[\\begin{matrix}n_{11} & n_{12}\\\\n_{21} & n_{22}\\\\n_{31} & n_{32}\\end{matrix}\\right] \\frac{\\partial}{\\partial \\left[\\begin{matrix}n_{11} & n_{12}\\\\n_{21} & n_{22}\\\\n_{31} & n_{32}\\end{matrix}\\right]} \\left[\\begin{matrix}\\sigma{\\left(n_{11} \\right)} & \\sigma{\\left(n_{12} \\right)}\\\\\\sigma{\\left(n_{21} \\right)} & \\sigma{\\left(n_{22} \\right)}\\\\\\sigma{\\left(n_{31} \\right)} & \\sigma{\\left(n_{32} \\right)}\\end{matrix}\\right]$"
      ],
      "text/plain": [
       "Derivative(Matrix([\n",
       "[n_11, n_12],\n",
       "[n_21, n_22],\n",
       "[n_31, n_32]]), X)*Derivative(Matrix([\n",
       "[sigma(n_11), sigma(n_12)],\n",
       "[sigma(n_21), sigma(n_22)],\n",
       "[sigma(n_31), sigma(n_32)]]), Matrix([\n",
       "[n_11, n_12],\n",
       "[n_21, n_22],\n",
       "[n_31, n_32]]))"
      ]
     },
     "execution_count": 1,
     "metadata": {},
     "output_type": "execute_result"
    }
   ],
   "source": [
    "#funcMat.doit() # same error\n",
    "#elem2.subs(elemToSpecFuncD).doit() # error\n",
    "elem2"
   ]
  },
  {
   "cell_type": "code",
   "execution_count": 182,
   "metadata": {
    "execution": {
     "iopub.execute_input": "2020-10-03T08:31:57.845934Z",
     "iopub.status.busy": "2020-10-03T08:31:57.843245Z",
     "iopub.status.idle": "2020-10-03T08:31:57.853432Z",
     "shell.execute_reply": "2020-10-03T08:31:57.854599Z"
    },
    "lines_to_next_cell": 0,
    "title": "codecell"
   },
   "outputs": [],
   "source": [
    "# elem2.replace(A,X).doit() # error"
   ]
  },
  {
   "cell_type": "code",
   "execution_count": 183,
   "metadata": {
    "execution": {
     "iopub.execute_input": "2020-10-03T08:31:57.869800Z",
     "iopub.status.busy": "2020-10-03T08:31:57.865570Z",
     "iopub.status.idle": "2020-10-03T08:31:57.879617Z",
     "shell.execute_reply": "2020-10-03T08:31:57.886118Z"
    },
    "lines_to_next_cell": 0,
    "title": "codecell"
   },
   "outputs": [],
   "source": [
    "#elem2.replace(A,a).doit()#.subs(elemToSpecFuncArgsD).doit()\n",
    "# ERROR everywhere what next todo? this approach worked before, where I make w.r.t. thing a real matrix, and leave the others a symbol so why isn't it working now?"
   ]
  },
  {
   "cell_type": "code",
   "execution_count": 184,
   "metadata": {
    "execution": {
     "iopub.execute_input": "2020-10-03T08:31:57.893770Z",
     "iopub.status.busy": "2020-10-03T08:31:57.890122Z",
     "iopub.status.idle": "2020-10-03T08:31:57.898120Z",
     "shell.execute_reply": "2020-10-03T08:31:57.903973Z"
    },
    "title": "codecell"
   },
   "outputs": [],
   "source": [
    "#elem2.replace(A,X).subs(elemToSpecFuncD).doit()\n",
    "# ERROR this has to work though! Then can simply replace n_ijs with lambda\n",
    "\n"
   ]
  },
  {
   "cell_type": "code",
   "execution_count": 185,
   "metadata": {
    "execution": {
     "iopub.execute_input": "2020-10-03T08:31:57.917974Z",
     "iopub.status.busy": "2020-10-03T08:31:57.915573Z",
     "iopub.status.idle": "2020-10-03T08:31:57.923865Z",
     "shell.execute_reply": "2020-10-03T08:31:57.928481Z"
    },
    "title": "codecell"
   },
   "outputs": [],
   "source": [
    "#elem2.subs(elemToMatArgD).doit()#ERROR max recursion depth exceeeded"
   ]
  }
 ],
 "metadata": {
  "jupytext": {
   "cell_metadata_filter": "title,-all"
  },
  "kernelspec": {
   "display_name": "pymatrix_env",
   "language": "python",
   "name": "pymatrix_env"
  },
  "language_info": {
   "codemirror_mode": {
    "name": "ipython",
    "version": 3
   },
   "file_extension": ".py",
   "mimetype": "text/x-python",
   "name": "python",
   "nbconvert_exporter": "python",
   "pygments_lexer": "ipython3",
   "version": "3.7.8"
  }
 },
 "nbformat": 4,
 "nbformat_minor": 4
}
