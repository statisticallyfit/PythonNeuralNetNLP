{
 "cells": [
  {
   "cell_type": "markdown",
   "execution_count": 1,
   "metadata": {},
   "source": [
    "# Derivations For Matrix Derivative Rule of $L = \\lambda( \\sigma_{\\text{apply}}( \\nu(X, W) ) )$"
   ]
  },
  {
   "cell_type": "code",
   "execution_count": 1,
   "metadata": {
    "execution": {
     "iopub.execute_input": "2020-11-03T20:52:37.090383Z",
     "iopub.status.busy": "2020-11-03T20:52:37.089394Z",
     "iopub.status.idle": "2020-11-03T20:52:37.884881Z",
     "shell.execute_reply": "2020-11-03T20:52:37.886033Z"
    }
   },
   "outputs": [],
   "source": [
    "from sympy import Matrix, Symbol, derive_by_array, Lambda, Function, MatrixSymbol, Identity, Derivative, symbols, diff\n",
    "from sympy.abc import x, i, j, a, b"
   ]
  },
  {
   "cell_type": "code",
   "execution_count": 2,
   "metadata": {
    "execution": {
     "iopub.execute_input": "2020-11-03T20:52:37.896332Z",
     "iopub.status.busy": "2020-11-03T20:52:37.889811Z",
     "iopub.status.idle": "2020-11-03T20:52:37.900022Z",
     "shell.execute_reply": "2020-11-03T20:52:37.901113Z"
    }
   },
   "outputs": [],
   "source": [
    "from functools import reduce\n",
    "import itertools \n",
    "\n",
    "from typing import *\n",
    "import sys\n",
    "import os\n",
    "\n",
    "PATH: str = '/development/projects/statisticallyfit/github/learningmathstat/PythonNeuralNetNLP'\n",
    "\n",
    "UTIL_DISPLAY_PATH: str = PATH + \"/src/utils/GeneralUtil/\"\n",
    "\n",
    "NEURALNET_PATH: str = PATH + '/src/NeuralNetworkStudy/books/SethWeidman_DeepLearningFromScratch'\n",
    "\n",
    "#os.chdir(PATH)\n",
    "#assert os.getcwd() == NEURALNET_PATH\n",
    "\n",
    "sys.path.append(PATH)\n",
    "#assert PATH in sys.path\n",
    "\n",
    "sys.path.append(UTIL_DISPLAY_PATH)\n",
    "#assert UTIL_DISPLAY_PATH in sys.path\n",
    "\n",
    "sys.path.append(NEURALNET_PATH)#\n",
    "#assert NEURALNET_PATH in sys.path\n",
    "\n"
   ]
  },
  {
   "cell_type": "code",
   "execution_count": 3,
   "metadata": {
    "execution": {
     "iopub.execute_input": "2020-11-03T20:52:37.905988Z",
     "iopub.status.busy": "2020-11-03T20:52:37.904487Z",
     "iopub.status.idle": "2020-11-03T20:52:38.594968Z",
     "shell.execute_reply": "2020-11-03T20:52:38.596141Z"
    },
    "title": "codecell"
   },
   "outputs": [],
   "source": [
    "from src.utils.GeneralUtil import *\n",
    "from src.MatrixCalculusStudy.MatrixDerivLib.symbols import Deriv\n",
    "from src.MatrixCalculusStudy.MatrixDerivLib.diff import diffMatrix\n",
    "from src.MatrixCalculusStudy.MatrixDerivLib.printingLatex import myLatexPrinter\n",
    "\n",
    "from IPython.display import display, Math\n",
    "from sympy.interactive import printing\n",
    "printing.init_printing(use_latex='mathjax', latex_printer= lambda e, **kw: myLatexPrinter.doprint(e))"
   ]
  },
  {
   "cell_type": "code",
   "execution_count": 4,
   "metadata": {
    "execution": {
     "iopub.execute_input": "2020-11-03T20:52:38.603159Z",
     "iopub.status.busy": "2020-11-03T20:52:38.600189Z",
     "iopub.status.idle": "2020-11-03T20:52:38.606358Z",
     "shell.execute_reply": "2020-11-03T20:52:38.607410Z"
    }
   },
   "outputs": [],
   "source": [
    "import itertools\n",
    "\n",
    "from functools import reduce\n",
    "\n",
    "from typing import *"
   ]
  },
  {
   "cell_type": "code",
   "execution_count": 5,
   "metadata": {
    "execution": {
     "iopub.execute_input": "2020-11-03T20:52:38.612342Z",
     "iopub.status.busy": "2020-11-03T20:52:38.610837Z",
     "iopub.status.idle": "2020-11-03T20:52:38.624887Z",
     "shell.execute_reply": "2020-11-03T20:52:38.626037Z"
    },
    "lines_to_next_cell": 0,
    "title": "codecell"
   },
   "outputs": [],
   "source": [
    "n,m,p = 3,3,2\n",
    "\n",
    "\n",
    "xi  = Symbol('xi')\n",
    "xi_1  = Symbol('xi_1')\n",
    "beta = Symbol('beta')\n",
    "\n",
    "\n",
    "X = Matrix(n, m, lambda i,j : var_ij('x', i, j))\n",
    "W = Matrix(m, p, lambda i,j : var_ij('w', i, j))\n",
    "\n",
    "A = MatrixSymbol('X',n,m)\n",
    "B = MatrixSymbol('W',m,p)\n",
    "\n",
    "# matrix variable for sympy Lambda function arguments\n",
    "M = MatrixSymbol('M', i, j)# abstract shape"
   ]
  },
  {
   "cell_type": "code",
   "execution_count": 6,
   "metadata": {
    "execution": {
     "iopub.execute_input": "2020-11-03T20:52:38.630772Z",
     "iopub.status.busy": "2020-11-03T20:52:38.629312Z",
     "iopub.status.idle": "2020-11-03T20:52:38.635156Z",
     "shell.execute_reply": "2020-11-03T20:52:38.636220Z"
    },
    "lines_to_next_cell": 0,
    "title": "codecell"
   },
   "outputs": [],
   "source": [
    "#compose(sigmaApply)(N).replace(sigmaApply, sigmaApply_).diff(N).subs({N : vN(A,B)}).doit()"
   ]
  },
  {
   "cell_type": "code",
   "execution_count": 7,
   "metadata": {
    "execution": {
     "iopub.execute_input": "2020-11-03T20:52:38.641256Z",
     "iopub.status.busy": "2020-11-03T20:52:38.639563Z",
     "iopub.status.idle": "2020-11-03T20:52:38.677029Z",
     "shell.execute_reply": "2020-11-03T20:52:38.678084Z"
    },
    "title": "codecell"
   },
   "outputs": [
    {
     "data": {
      "text/latex": [
       "$\\displaystyle \\left[\\begin{matrix}x_{11} & x_{12} & x_{13}\\\\x_{21} & x_{22} & x_{23}\\\\x_{31} & x_{32} & x_{33}\\end{matrix}\\right]$"
      ],
      "text/plain": [
       "⎡x₁₁  x₁₂  x₁₃⎤\n",
       "⎢             ⎥\n",
       "⎢x₂₁  x₂₂  x₂₃⎥\n",
       "⎢             ⎥\n",
       "⎣x₃₁  x₃₂  x₃₃⎦"
      ]
     },
     "metadata": {},
     "output_type": "display_data"
    },
    {
     "data": {
      "text/latex": [
       "$\\displaystyle \\left[\\begin{matrix}w_{11} & w_{12}\\\\w_{21} & w_{22}\\\\w_{31} & w_{32}\\end{matrix}\\right]$"
      ],
      "text/plain": [
       "⎡w₁₁  w₁₂⎤\n",
       "⎢        ⎥\n",
       "⎢w₂₁  w₂₂⎥\n",
       "⎢        ⎥\n",
       "⎣w₃₁  w₃₂⎦"
      ]
     },
     "metadata": {},
     "output_type": "display_data"
    },
    {
     "data": {
      "text/latex": [
       "$\\displaystyle \\left[\\begin{array}{ccc}X_{0, 0} & X_{0, 1} & X_{0, 2}\\\\X_{1, 0} & X_{1, 1} & X_{1, 2}\\\\X_{2, 0} & X_{2, 1} & X_{2, 2}\\end{array}\\right]$"
      ],
      "text/plain": [
       "⎡X₀₀  X₀₁  X₀₂⎤\n",
       "⎢             ⎥\n",
       "⎢X₁₀  X₁₁  X₁₂⎥\n",
       "⎢             ⎥\n",
       "⎣X₂₀  X₂₁  X₂₂⎦"
      ]
     },
     "metadata": {},
     "output_type": "display_data"
    }
   ],
   "source": [
    "###N = MatrixSymbol(\"N\", n, p)# shape of A*B### use Nelem below\n",
    "\n",
    "\n",
    "showGroup([\n",
    "    X, W, Matrix(A)\n",
    "])"
   ]
  },
  {
   "cell_type": "code",
   "execution_count": 8,
   "metadata": {
    "execution": {
     "iopub.execute_input": "2020-11-03T20:52:38.682813Z",
     "iopub.status.busy": "2020-11-03T20:52:38.681306Z",
     "iopub.status.idle": "2020-11-03T20:52:38.750498Z",
     "shell.execute_reply": "2020-11-03T20:52:38.751786Z"
    },
    "lines_to_next_cell": 2,
    "title": "codecell"
   },
   "outputs": [
    {
     "data": {
      "text/latex": [
       "$\\displaystyle \\left[\\begin{matrix}n_{11} & n_{12}\\\\n_{21} & n_{22}\\\\n_{31} & n_{32}\\end{matrix}\\right]$"
      ],
      "text/plain": [
       "⎡n₁₁  n₁₂⎤\n",
       "⎢        ⎥\n",
       "⎢n₂₁  n₂₂⎥\n",
       "⎢        ⎥\n",
       "⎣n₃₁  n₃₂⎦"
      ]
     },
     "metadata": {},
     "output_type": "display_data"
    },
    {
     "data": {
      "text/latex": [
       "$\\displaystyle \\left[\\begin{matrix}w_{11} x_{11} + w_{21} x_{12} + w_{31} x_{13} & w_{12} x_{11} + w_{22} x_{12} + w_{32} x_{13}\\\\w_{11} x_{21} + w_{21} x_{22} + w_{31} x_{23} & w_{12} x_{21} + w_{22} x_{22} + w_{32} x_{23}\\\\w_{11} x_{31} + w_{21} x_{32} + w_{31} x_{33} & w_{12} x_{31} + w_{22} x_{32} + w_{32} x_{33}\\end{matrix}\\right]$"
      ],
      "text/plain": [
       "⎡w₁₁⋅x₁₁ + w₂₁⋅x₁₂ + w₃₁⋅x₁₃  w₁₂⋅x₁₁ + w₂₂⋅x₁₂ + w₃₂⋅x₁₃⎤\n",
       "⎢                                                        ⎥\n",
       "⎢w₁₁⋅x₂₁ + w₂₁⋅x₂₂ + w₃₁⋅x₂₃  w₁₂⋅x₂₁ + w₂₂⋅x₂₂ + w₃₂⋅x₂₃⎥\n",
       "⎢                                                        ⎥\n",
       "⎣w₁₁⋅x₃₁ + w₂₁⋅x₃₂ + w₃₁⋅x₃₃  w₁₂⋅x₃₁ + w₂₂⋅x₃₂ + w₃₂⋅x₃₃⎦"
      ]
     },
     "metadata": {},
     "output_type": "display_data"
    },
    {
     "data": {
      "text/latex": [
       "$\\displaystyle \\nu{\\left(X,W \\right)}$"
      ],
      "text/plain": [
       "ν(X, W)"
      ]
     },
     "metadata": {},
     "output_type": "display_data"
    },
    {
     "data": {
      "text/latex": [
       "$\\displaystyle \\left( \\left( X, \\  W\\right) \\mapsto V \\right)$"
      ],
      "text/plain": [
       "(X, W) ↦ V"
      ]
     },
     "metadata": {},
     "output_type": "display_data"
    }
   ],
   "source": [
    "v = Function(\"nu\",applyfunc=True)\n",
    "v_ = lambda a,b: a*b\n",
    "vL = Lambda((a,b), a*b)\n",
    "VL = Lambda((A,B), MatrixSymbol('V', A.shape[0], B.shape[1]))\n",
    "vN = lambda mat1, mat2: Matrix(mat1.shape[0], mat2.shape[1], lambda i, j: Symbol(\"n_{}{}\".format(i+1, j+1))); vN\n",
    "\n",
    "Nelem = vN(X, W)\n",
    "Nspec = v_(X,W)\n",
    "N = v(A,B)\n",
    "\n",
    "\n",
    "showGroup([\n",
    "    Nelem, Nspec, N, VL\n",
    "])"
   ]
  },
  {
   "cell_type": "code",
   "execution_count": 9,
   "metadata": {
    "execution": {
     "iopub.execute_input": "2020-11-03T20:52:38.756798Z",
     "iopub.status.busy": "2020-11-03T20:52:38.755283Z",
     "iopub.status.idle": "2020-11-03T20:52:38.828853Z",
     "shell.execute_reply": "2020-11-03T20:52:38.829942Z"
    },
    "lines_to_next_cell": 2
   },
   "outputs": [
    {
     "data": {
      "text/latex": [
       "$\\displaystyle \\sigma_{apply}{\\left(\\nu{\\left(X,W \\right)} \\right)}$"
      ],
      "text/plain": [
       "σ_apply(ν(X, W))"
      ]
     },
     "metadata": {},
     "output_type": "display_data"
    },
    {
     "data": {
      "text/latex": [
       "$\\displaystyle \\left[\\begin{matrix}\\sigma{\\left(w_{11} x_{11} + w_{21} x_{12} + w_{31} x_{13} \\right)} & \\sigma{\\left(w_{12} x_{11} + w_{22} x_{12} + w_{32} x_{13} \\right)}\\\\\\sigma{\\left(w_{11} x_{21} + w_{21} x_{22} + w_{31} x_{23} \\right)} & \\sigma{\\left(w_{12} x_{21} + w_{22} x_{22} + w_{32} x_{23} \\right)}\\\\\\sigma{\\left(w_{11} x_{31} + w_{21} x_{32} + w_{31} x_{33} \\right)} & \\sigma{\\left(w_{12} x_{31} + w_{22} x_{32} + w_{32} x_{33} \\right)}\\end{matrix}\\right]$"
      ],
      "text/plain": [
       "⎡σ(w₁₁⋅x₁₁ + w₂₁⋅x₁₂ + w₃₁⋅x₁₃)  σ(w₁₂⋅x₁₁ + w₂₂⋅x₁₂ + w₃₂⋅x₁₃)⎤\n",
       "⎢                                                              ⎥\n",
       "⎢σ(w₁₁⋅x₂₁ + w₂₁⋅x₂₂ + w₃₁⋅x₂₃)  σ(w₁₂⋅x₂₁ + w₂₂⋅x₂₂ + w₃₂⋅x₂₃)⎥\n",
       "⎢                                                              ⎥\n",
       "⎣σ(w₁₁⋅x₃₁ + w₂₁⋅x₃₂ + w₃₁⋅x₃₃)  σ(w₁₂⋅x₃₁ + w₂₂⋅x₃₂ + w₃₂⋅x₃₃)⎦"
      ]
     },
     "metadata": {},
     "output_type": "display_data"
    },
    {
     "data": {
      "text/latex": [
       "$\\displaystyle \\left[\\begin{matrix}\\sigma{\\left(n_{11} \\right)} & \\sigma{\\left(n_{12} \\right)}\\\\\\sigma{\\left(n_{21} \\right)} & \\sigma{\\left(n_{22} \\right)}\\\\\\sigma{\\left(n_{31} \\right)} & \\sigma{\\left(n_{32} \\right)}\\end{matrix}\\right]$"
      ],
      "text/plain": [
       "⎡σ(n₁₁)  σ(n₁₂)⎤\n",
       "⎢              ⎥\n",
       "⎢σ(n₂₁)  σ(n₂₂)⎥\n",
       "⎢              ⎥\n",
       "⎣σ(n₃₁)  σ(n₃₂)⎦"
      ]
     },
     "metadata": {},
     "output_type": "display_data"
    }
   ],
   "source": [
    "sigma = Function('sigma')\n",
    "sigmaApply = Function(\"sigma_apply\") #lambda matrix:  matrix.applyfunc(sigma)\n",
    "sigmaApply_ = lambda matrix: matrix.applyfunc(sigma)\n",
    "sigmaApply_L = Lambda(M, M.applyfunc(sigma))\n",
    "\n",
    "\n",
    "S = sigmaApply(N)\n",
    "Sspec = S.subs({A:X, B:W}).replace(v, v_).replace(sigmaApply, sigmaApply_)\n",
    "Selem = S.replace(v, vN).replace(sigmaApply, sigmaApply_)\n",
    "\n",
    "\n",
    "showGroup([\n",
    "    S, Sspec, Selem\n",
    "])"
   ]
  },
  {
   "cell_type": "code",
   "execution_count": 10,
   "metadata": {
    "execution": {
     "iopub.execute_input": "2020-11-03T20:52:38.834806Z",
     "iopub.status.busy": "2020-11-03T20:52:38.833303Z",
     "iopub.status.idle": "2020-11-03T20:52:38.851011Z",
     "shell.execute_reply": "2020-11-03T20:52:38.852084Z"
    }
   },
   "outputs": [
    {
     "data": {
      "text/latex": [
       "$\\displaystyle \\lambda{\\left(\\sigma_{apply}{\\left(\\nu{\\left(X,W \\right)} \\right)} \\right)}$"
      ],
      "text/plain": [
       "λ(σ_apply(ν(X, W)))"
      ]
     },
     "execution_count": 1,
     "metadata": {},
     "output_type": "execute_result"
    }
   ],
   "source": [
    "lambd = Function(\"lambda\")\n",
    "lambd_ = lambda matrix : sum(matrix)\n",
    "#lambda_L = Lambda(M, sum(M))\n",
    "\n",
    "ABres = MatrixSymbol(\"R\", A.shape[0], B.shape[1])\n",
    "lambd_L = Lambda(ABres, sum(ABres))\n",
    "\n",
    "#L = lambd(sigmaApply(v(A,B)))\n",
    "L = compose(lambd, sigmaApply, v)(A, B)\n",
    "L\n",
    "\n"
   ]
  },
  {
   "cell_type": "code",
   "execution_count": 11,
   "metadata": {
    "execution": {
     "iopub.execute_input": "2020-11-03T20:52:38.857073Z",
     "iopub.status.busy": "2020-11-03T20:52:38.855513Z",
     "iopub.status.idle": "2020-11-03T20:52:38.897485Z",
     "shell.execute_reply": "2020-11-03T20:52:38.898964Z"
    },
    "title": "codecell"
   },
   "outputs": [
    {
     "data": {
      "text/latex": [
       "$\\displaystyle \\left[\\begin{matrix}n_{11} & w_{11} x_{11} + w_{21} x_{12} + w_{31} x_{13}\\\\n_{12} & w_{12} x_{11} + w_{22} x_{12} + w_{32} x_{13}\\\\n_{21} & w_{11} x_{21} + w_{21} x_{22} + w_{31} x_{23}\\\\n_{22} & w_{12} x_{21} + w_{22} x_{22} + w_{32} x_{23}\\\\n_{31} & w_{11} x_{31} + w_{21} x_{32} + w_{31} x_{33}\\\\n_{32} & w_{12} x_{31} + w_{22} x_{32} + w_{32} x_{33}\\end{matrix}\\right]$"
      ],
      "text/plain": [
       "⎡n₁₁  w₁₁⋅x₁₁ + w₂₁⋅x₁₂ + w₃₁⋅x₁₃⎤\n",
       "⎢                                ⎥\n",
       "⎢n₁₂  w₁₂⋅x₁₁ + w₂₂⋅x₁₂ + w₃₂⋅x₁₃⎥\n",
       "⎢                                ⎥\n",
       "⎢n₂₁  w₁₁⋅x₂₁ + w₂₁⋅x₂₂ + w₃₁⋅x₂₃⎥\n",
       "⎢                                ⎥\n",
       "⎢n₂₂  w₁₂⋅x₂₁ + w₂₂⋅x₂₂ + w₃₂⋅x₂₃⎥\n",
       "⎢                                ⎥\n",
       "⎢n₃₁  w₁₁⋅x₃₁ + w₂₁⋅x₃₂ + w₃₁⋅x₃₃⎥\n",
       "⎢                                ⎥\n",
       "⎣n₃₂  w₁₂⋅x₃₁ + w₂₂⋅x₃₂ + w₃₂⋅x₃₃⎦"
      ]
     },
     "execution_count": 1,
     "metadata": {},
     "output_type": "execute_result"
    }
   ],
   "source": [
    "elemToSpecD = dict(itertools.chain(*[[(Nelem[i, j], Nspec[i, j]) for j in range(p)] for i in range(n)]))\n",
    "elemToSpec = list(elemToSpecD.items())\n",
    "\n",
    "specToElemD = {val:key for key, val in elemToSpecD.items()}\n",
    "specToElem = list(specToElemD.items())\n",
    "\n",
    "Matrix(elemToSpec)"
   ]
  },
  {
   "cell_type": "code",
   "execution_count": 12,
   "metadata": {
    "execution": {
     "iopub.execute_input": "2020-11-03T20:52:38.903802Z",
     "iopub.status.busy": "2020-11-03T20:52:38.902255Z",
     "iopub.status.idle": "2020-11-03T20:52:38.952855Z",
     "shell.execute_reply": "2020-11-03T20:52:38.953936Z"
    },
    "title": "codecell"
   },
   "outputs": [
    {
     "data": {
      "text/latex": [
       "$\\displaystyle \\left[\\begin{matrix}n_{11} & \\operatorname{n_{11}}{\\left(w_{11} x_{11} + w_{21} x_{12} + w_{31} x_{13} \\right)}\\\\n_{12} & \\operatorname{n_{12}}{\\left(w_{12} x_{11} + w_{22} x_{12} + w_{32} x_{13} \\right)}\\\\n_{21} & \\operatorname{n_{21}}{\\left(w_{11} x_{21} + w_{21} x_{22} + w_{31} x_{23} \\right)}\\\\n_{22} & \\operatorname{n_{22}}{\\left(w_{12} x_{21} + w_{22} x_{22} + w_{32} x_{23} \\right)}\\\\n_{31} & \\operatorname{n_{31}}{\\left(w_{11} x_{31} + w_{21} x_{32} + w_{31} x_{33} \\right)}\\\\n_{32} & \\operatorname{n_{32}}{\\left(w_{12} x_{31} + w_{22} x_{32} + w_{32} x_{33} \\right)}\\end{matrix}\\right]$"
      ],
      "text/plain": [
       "⎡n₁₁  n₁₁(w₁₁⋅x₁₁ + w₂₁⋅x₁₂ + w₃₁⋅x₁₃)⎤\n",
       "⎢                                     ⎥\n",
       "⎢n₁₂  n₁₂(w₁₂⋅x₁₁ + w₂₂⋅x₁₂ + w₃₂⋅x₁₃)⎥\n",
       "⎢                                     ⎥\n",
       "⎢n₂₁  n₂₁(w₁₁⋅x₂₁ + w₂₁⋅x₂₂ + w₃₁⋅x₂₃)⎥\n",
       "⎢                                     ⎥\n",
       "⎢n₂₂  n₂₂(w₁₂⋅x₂₁ + w₂₂⋅x₂₂ + w₃₂⋅x₂₃)⎥\n",
       "⎢                                     ⎥\n",
       "⎢n₃₁  n₃₁(w₁₁⋅x₃₁ + w₂₁⋅x₃₂ + w₃₁⋅x₃₃)⎥\n",
       "⎢                                     ⎥\n",
       "⎣n₃₂  n₃₂(w₁₂⋅x₃₁ + w₂₂⋅x₃₂ + w₃₂⋅x₃₃)⎦"
      ]
     },
     "execution_count": 1,
     "metadata": {},
     "output_type": "execute_result"
    }
   ],
   "source": [
    "\n",
    "elemToSpecFuncD = dict(itertools.chain(*[[(Nelem[i, j], Function(\"n_{}{}\".format(i + 1, j + 1))(Nspec[i, j])) for j in range(p)] for i in range(n)]))\n",
    "\n",
    "elemToSpecFunc = list(elemToSpecFuncD.items())\n",
    "\n",
    "specFuncToElemD = {val : key for key , val in elemToSpecFuncD.items()}\n",
    "specFuncToElem = list(specFuncToElemD.items())\n",
    "\n",
    "Matrix(elemToSpecFunc)\n",
    "\n"
   ]
  },
  {
   "cell_type": "code",
   "execution_count": 13,
   "metadata": {
    "execution": {
     "iopub.execute_input": "2020-11-03T20:52:38.959058Z",
     "iopub.status.busy": "2020-11-03T20:52:38.957558Z",
     "iopub.status.idle": "2020-11-03T20:52:39.026646Z",
     "shell.execute_reply": "2020-11-03T20:52:39.027753Z"
    },
    "title": "codecell"
   },
   "outputs": [
    {
     "data": {
      "text/latex": [
       "$\\displaystyle \\left[\\begin{matrix}n_{11} & \\operatorname{n_{11}}{\\left(x_{11},x_{12},x_{13},x_{21},x_{22},x_{23},x_{31},x_{32},x_{33},w_{11},w_{12},w_{21},w_{22},w_{31},w_{32} \\right)}\\\\n_{12} & \\operatorname{n_{12}}{\\left(x_{11},x_{12},x_{13},x_{21},x_{22},x_{23},x_{31},x_{32},x_{33},w_{11},w_{12},w_{21},w_{22},w_{31},w_{32} \\right)}\\\\n_{21} & \\operatorname{n_{21}}{\\left(x_{11},x_{12},x_{13},x_{21},x_{22},x_{23},x_{31},x_{32},x_{33},w_{11},w_{12},w_{21},w_{22},w_{31},w_{32} \\right)}\\\\n_{22} & \\operatorname{n_{22}}{\\left(x_{11},x_{12},x_{13},x_{21},x_{22},x_{23},x_{31},x_{32},x_{33},w_{11},w_{12},w_{21},w_{22},w_{31},w_{32} \\right)}\\\\n_{31} & \\operatorname{n_{31}}{\\left(x_{11},x_{12},x_{13},x_{21},x_{22},x_{23},x_{31},x_{32},x_{33},w_{11},w_{12},w_{21},w_{22},w_{31},w_{32} \\right)}\\\\n_{32} & \\operatorname{n_{32}}{\\left(x_{11},x_{12},x_{13},x_{21},x_{22},x_{23},x_{31},x_{32},x_{33},w_{11},w_{12},w_{21},w_{22},w_{31},w_{32} \\right)}\\end{matrix}\\right]$"
      ],
      "text/plain": [
       "⎡n₁₁  n₁₁(x₁₁, x₁₂, x₁₃, x₂₁, x₂₂, x₂₃, x₃₁, x₃₂, x₃₃, w₁₁, w₁₂, w₂₁, w₂₂, w₃₁\n",
       "⎢                                                                             \n",
       "⎢n₁₂  n₁₂(x₁₁, x₁₂, x₁₃, x₂₁, x₂₂, x₂₃, x₃₁, x₃₂, x₃₃, w₁₁, w₁₂, w₂₁, w₂₂, w₃₁\n",
       "⎢                                                                             \n",
       "⎢n₂₁  n₂₁(x₁₁, x₁₂, x₁₃, x₂₁, x₂₂, x₂₃, x₃₁, x₃₂, x₃₃, w₁₁, w₁₂, w₂₁, w₂₂, w₃₁\n",
       "⎢                                                                             \n",
       "⎢n₂₂  n₂₂(x₁₁, x₁₂, x₁₃, x₂₁, x₂₂, x₂₃, x₃₁, x₃₂, x₃₃, w₁₁, w₁₂, w₂₁, w₂₂, w₃₁\n",
       "⎢                                                                             \n",
       "⎢n₃₁  n₃₁(x₁₁, x₁₂, x₁₃, x₂₁, x₂₂, x₂₃, x₃₁, x₃₂, x₃₃, w₁₁, w₁₂, w₂₁, w₂₂, w₃₁\n",
       "⎢                                                                             \n",
       "⎣n₃₂  n₃₂(x₁₁, x₁₂, x₁₃, x₂₁, x₂₂, x₂₃, x₃₁, x₃₂, x₃₃, w₁₁, w₁₂, w₂₁, w₂₂, w₃₁\n",
       "\n",
       ", w₃₂)⎤\n",
       "      ⎥\n",
       ", w₃₂)⎥\n",
       "      ⎥\n",
       ", w₃₂)⎥\n",
       "      ⎥\n",
       ", w₃₂)⎥\n",
       "      ⎥\n",
       ", w₃₂)⎥\n",
       "      ⎥\n",
       ", w₃₂)⎦"
      ]
     },
     "execution_count": 1,
     "metadata": {},
     "output_type": "execute_result"
    }
   ],
   "source": [
    "elemToNFuncD = dict(itertools.chain(*[[(Nelem[i, j], Function(\"n_{}{}\".format(i + 1, j + 1))(*X,*W)) for j in range(p)] for i in range(n)]))\n",
    "\n",
    "elemToNFunc = list(elemToNFuncD.items())\n",
    "\n",
    "nfuncToElemD = {val: key for key, val in elemToNFuncD.items()}\n",
    "nfuncToElem = list(nfuncToElemD.items())\n",
    "\n",
    "Matrix(elemToNFunc)\n",
    "\n"
   ]
  },
  {
   "cell_type": "code",
   "execution_count": 14,
   "metadata": {
    "execution": {
     "iopub.execute_input": "2020-11-03T20:52:39.032706Z",
     "iopub.status.busy": "2020-11-03T20:52:39.031108Z",
     "iopub.status.idle": "2020-11-03T20:52:39.056836Z",
     "shell.execute_reply": "2020-11-03T20:52:39.057913Z"
    },
    "title": "codecell"
   },
   "outputs": [
    {
     "data": {
      "text/latex": [
       "$\\displaystyle \\left[\\begin{matrix}n_{11} & \\operatorname{n_{11}}{\\left(X,W \\right)}\\\\n_{12} & \\operatorname{n_{12}}{\\left(X,W \\right)}\\\\n_{21} & \\operatorname{n_{21}}{\\left(X,W \\right)}\\\\n_{22} & \\operatorname{n_{22}}{\\left(X,W \\right)}\\\\n_{31} & \\operatorname{n_{31}}{\\left(X,W \\right)}\\\\n_{32} & \\operatorname{n_{32}}{\\left(X,W \\right)}\\end{matrix}\\right]$"
      ],
      "text/plain": [
       "⎡n₁₁  n₁₁(X, W)⎤\n",
       "⎢              ⎥\n",
       "⎢n₁₂  n₁₂(X, W)⎥\n",
       "⎢              ⎥\n",
       "⎢n₂₁  n₂₁(X, W)⎥\n",
       "⎢              ⎥\n",
       "⎢n₂₂  n₂₂(X, W)⎥\n",
       "⎢              ⎥\n",
       "⎢n₃₁  n₃₁(X, W)⎥\n",
       "⎢              ⎥\n",
       "⎣n₃₂  n₃₂(X, W)⎦"
      ]
     },
     "execution_count": 1,
     "metadata": {},
     "output_type": "execute_result"
    }
   ],
   "source": [
    "elemToNmatfuncD = dict(itertools.chain(*[[(Nelem[i, j], Function(\"n_{}{}\".format(i+1,j+1))(A,B) ) for j in range(p)] for i in range(n)]))\n",
    "\n",
    "elemToNmatfunc = list(elemToNmatfuncD.items())\n",
    "\n",
    "nmatfuncToElemD = {val: key for key, val in elemToNmatfuncD.items()}\n",
    "nmatfuncToElem = list(nmatfuncToElemD.items())\n",
    "\n",
    "Matrix(elemToNmatfunc)\n",
    "\n"
   ]
  },
  {
   "cell_type": "code",
   "execution_count": 15,
   "metadata": {
    "execution": {
     "iopub.execute_input": "2020-11-03T20:52:39.062743Z",
     "iopub.status.busy": "2020-11-03T20:52:39.061300Z",
     "iopub.status.idle": "2020-11-03T20:52:39.105467Z",
     "shell.execute_reply": "2020-11-03T20:52:39.106532Z"
    },
    "lines_to_next_cell": 2,
    "title": "codecell"
   },
   "outputs": [
    {
     "data": {
      "text/latex": [
       "$\\displaystyle \\left[\\begin{matrix}\\operatorname{n_{11}}{\\left(X,W \\right)} & w_{11} x_{11} + w_{21} x_{12} + w_{31} x_{13}\\\\\\operatorname{n_{12}}{\\left(X,W \\right)} & w_{12} x_{11} + w_{22} x_{12} + w_{32} x_{13}\\\\\\operatorname{n_{21}}{\\left(X,W \\right)} & w_{11} x_{21} + w_{21} x_{22} + w_{31} x_{23}\\\\\\operatorname{n_{22}}{\\left(X,W \\right)} & w_{12} x_{21} + w_{22} x_{22} + w_{32} x_{23}\\\\\\operatorname{n_{31}}{\\left(X,W \\right)} & w_{11} x_{31} + w_{21} x_{32} + w_{31} x_{33}\\\\\\operatorname{n_{32}}{\\left(X,W \\right)} & w_{12} x_{31} + w_{22} x_{32} + w_{32} x_{33}\\end{matrix}\\right]$"
      ],
      "text/plain": [
       "⎡n₁₁(X, W)  w₁₁⋅x₁₁ + w₂₁⋅x₁₂ + w₃₁⋅x₁₃⎤\n",
       "⎢                                      ⎥\n",
       "⎢n₁₂(X, W)  w₁₂⋅x₁₁ + w₂₂⋅x₁₂ + w₃₂⋅x₁₃⎥\n",
       "⎢                                      ⎥\n",
       "⎢n₂₁(X, W)  w₁₁⋅x₂₁ + w₂₁⋅x₂₂ + w₃₁⋅x₂₃⎥\n",
       "⎢                                      ⎥\n",
       "⎢n₂₂(X, W)  w₁₂⋅x₂₁ + w₂₂⋅x₂₂ + w₃₂⋅x₂₃⎥\n",
       "⎢                                      ⎥\n",
       "⎢n₃₁(X, W)  w₁₁⋅x₃₁ + w₂₁⋅x₃₂ + w₃₁⋅x₃₃⎥\n",
       "⎢                                      ⎥\n",
       "⎣n₃₂(X, W)  w₁₂⋅x₃₁ + w₂₂⋅x₃₂ + w₃₂⋅x₃₃⎦"
      ]
     },
     "execution_count": 1,
     "metadata": {},
     "output_type": "execute_result"
    }
   ],
   "source": [
    "nmatfuncToSpecD = dict(zip(elemToNmatfuncD.values(), elemToSpecD.values()))\n",
    "\n",
    "nmatfuncToSpec = list(nmatfuncToSpecD.items())\n",
    "\n",
    "Matrix(nmatfuncToSpec)"
   ]
  },
  {
   "cell_type": "code",
   "execution_count": 16,
   "metadata": {
    "execution": {
     "iopub.execute_input": "2020-11-03T20:52:39.111314Z",
     "iopub.status.busy": "2020-11-03T20:52:39.109816Z",
     "iopub.status.idle": "2020-11-03T20:52:39.225375Z",
     "shell.execute_reply": "2020-11-03T20:52:39.226451Z"
    }
   },
   "outputs": [
    {
     "data": {
      "text/latex": [
       "$\\displaystyle \\left. \\frac{d}{d \\xi_{1}} \\sigma_{apply}{\\left(\\xi_{1} \\right)} \\right|_{\\substack{ \\xi_{1}=\\nu{\\left(X,W \\right)} }} \\frac{\\partial}{\\partial \\sigma_{apply}{\\left(\\nu{\\left(X,W \\right)} \\right)}} \\lambda{\\left(\\sigma_{apply}{\\left(\\nu{\\left(X,W \\right)} \\right)} \\right)} \\frac{\\partial}{\\partial X} \\nu{\\left(X,W \\right)}$"
      ],
      "text/plain": [
       "⎛ d              ⎞│                   ∂                              ∂        \n",
       "⎜───(σ_apply(ξ₁))⎟│          ⋅─────────────────(λ(σ_apply(ν(X, W))))⋅──(ν(X, W\n",
       "⎝dξ₁             ⎠│ξ₁=ν(X, W) ∂σ_apply(ν(X, W))                      ∂X       \n",
       "\n",
       "  \n",
       "))\n",
       "  "
      ]
     },
     "metadata": {},
     "output_type": "display_data"
    },
    {
     "data": {
      "text/latex": [
       "$\\displaystyle \\left. \\frac{d}{d \\xi_{1}} \\sigma_{apply}{\\left(\\xi_{1} \\right)} \\right|_{\\substack{ \\xi_{1}=\\nu{\\left(X,W \\right)} }} \\frac{\\partial}{\\partial \\sigma_{apply}{\\left(\\nu{\\left(X,W \\right)} \\right)}} \\lambda{\\left(\\sigma_{apply}{\\left(\\nu{\\left(X,W \\right)} \\right)} \\right)} \\frac{\\partial}{\\partial W} \\nu{\\left(X,W \\right)}$"
      ],
      "text/plain": [
       "⎛ d              ⎞│                   ∂                              ∂        \n",
       "⎜───(σ_apply(ξ₁))⎟│          ⋅─────────────────(λ(σ_apply(ν(X, W))))⋅──(ν(X, W\n",
       "⎝dξ₁             ⎠│ξ₁=ν(X, W) ∂σ_apply(ν(X, W))                      ∂W       \n",
       "\n",
       "  \n",
       "))\n",
       "  "
      ]
     },
     "metadata": {},
     "output_type": "display_data"
    }
   ],
   "source": [
    "\n",
    "# Overall abstract\n",
    "dL_dX_overallAbstract = compose(lambd, sigmaApply)(VL).diff(A).replace(VL, v(A, B))\n",
    "\n",
    "dL_dW_overallAbstract = compose(lambd, sigmaApply)(VL).diff(B).replace(VL, v(A, B))\n",
    "\n",
    "showGroup([\n",
    "    dL_dX_overallAbstract, \n",
    "    dL_dW_overallAbstract\n",
    "])"
   ]
  },
  {
   "cell_type": "code",
   "execution_count": 17,
   "metadata": {
    "execution": {
     "iopub.execute_input": "2020-11-03T20:52:39.231421Z",
     "iopub.status.busy": "2020-11-03T20:52:39.229932Z",
     "iopub.status.idle": "2020-11-03T20:52:39.385095Z",
     "shell.execute_reply": "2020-11-03T20:52:39.386185Z"
    },
    "title": "codecell"
   },
   "outputs": [
    {
     "data": {
      "text/latex": [
       "$\\displaystyle \\left. \\frac{d}{d \\xi_{1}} \\lambda{\\left(\\xi_{1} \\right)} \\right|_{\\substack{ \\xi_{1}={\\left( d \\mapsto \\sigma{\\left(d \\right)} \\right)}_{\\circ}\\left({X W}\\right) }} X^{T} {\\left( d \\mapsto \\frac{d}{d d} \\sigma{\\left(d \\right)} \\right)}_{\\circ}\\left({X W}\\right)$"
      ],
      "text/plain": [
       "⎛ d        ⎞│                     T ⎛    d       ⎞      \n",
       "⎜───(λ(ξ₁))⎟│                   ⋅X ⋅⎜d ↦ ──(σ(d))⎟˳(X⋅W)\n",
       "⎝dξ₁       ⎠│ξ₁=(d ↦ σ(d))˳(X⋅W)    ⎝    dd      ⎠      "
      ]
     },
     "metadata": {},
     "output_type": "display_data"
    },
    {
     "data": {
      "text/latex": [
       "$\\displaystyle \\left. \\frac{d}{d \\xi_{1}} \\left(\\xi_{1}_{0, 0} + \\xi_{1}_{0, 1} + \\xi_{1}_{1, 0} + \\xi_{1}_{1, 1} + \\xi_{1}_{2, 0} + \\xi_{1}_{2, 1}\\right) \\right|_{\\substack{ \\xi_{1}={\\left( d \\mapsto \\sigma{\\left(d \\right)} \\right)}_{\\circ}\\left({X W}\\right) }} X^{T} {\\left( d \\mapsto \\frac{d}{d d} \\sigma{\\left(d \\right)} \\right)}_{\\circ}\\left({X W}\\right)$"
      ],
      "text/plain": [
       "⎛ d                                                                           \n",
       "⎜───((ξ₁)[0, 0] + (ξ₁)[0, 1] + (ξ₁)[1, 0] + (ξ₁)[1, 1] + (ξ₁)[2, 0] + (ξ₁)[2, \n",
       "⎝dξ₁                                                                          \n",
       "\n",
       "   ⎞│                     T ⎛    d       ⎞      \n",
       "1])⎟│                   ⋅X ⋅⎜d ↦ ──(σ(d))⎟˳(X⋅W)\n",
       "   ⎠│ξ₁=(d ↦ σ(d))˳(X⋅W)    ⎝    dd      ⎠      "
      ]
     },
     "metadata": {},
     "output_type": "display_data"
    }
   ],
   "source": [
    "#L.replace(v,v_).replace(sigmaApply, sigmaApply_).diff(B)\n",
    "\n",
    "dL_dW_abstract = L.replace(v,v_).replace(sigmaApply, sigmaApply_).diff(B)\n",
    "\n",
    "showGroup([\n",
    "    dL_dW_abstract,\n",
    "    dL_dW_abstract.subs({lambd : lambd_L})\n",
    "])"
   ]
  },
  {
   "cell_type": "code",
   "execution_count": 18,
   "metadata": {
    "execution": {
     "iopub.execute_input": "2020-11-03T20:52:39.391063Z",
     "iopub.status.busy": "2020-11-03T20:52:39.389568Z",
     "iopub.status.idle": "2020-11-03T20:52:39.486018Z",
     "shell.execute_reply": "2020-11-03T20:52:39.487133Z"
    },
    "lines_to_next_cell": 2
   },
   "outputs": [
    {
     "data": {
      "text/latex": [
       "$\\displaystyle \\left. \\frac{d}{d \\xi_{1}} \\lambda{\\left(\\xi_{1} \\right)} \\right|_{\\substack{ \\xi_{1}={\\left( d \\mapsto \\sigma{\\left(d \\right)} \\right)}_{\\circ}\\left({X W}\\right) }} {\\left( d \\mapsto \\frac{d}{d d} \\sigma{\\left(d \\right)} \\right)}_{\\circ}\\left({X W}\\right) W^{T}$"
      ],
      "text/plain": [
       "⎛ d        ⎞│                    ⎛    d       ⎞        T\n",
       "⎜───(λ(ξ₁))⎟│                   ⋅⎜d ↦ ──(σ(d))⎟˳(X⋅W)⋅W \n",
       "⎝dξ₁       ⎠│ξ₁=(d ↦ σ(d))˳(X⋅W) ⎝    dd      ⎠         "
      ]
     },
     "execution_count": 1,
     "metadata": {},
     "output_type": "execute_result"
    }
   ],
   "source": [
    "dL_dX_abstract = L.replace(v, v_).replace(sigmaApply, sigmaApply_).diff(A)\n",
    "\n",
    "dL_dX_abstract"
   ]
  },
  {
   "cell_type": "code",
   "execution_count": 19,
   "metadata": {
    "execution": {
     "iopub.execute_input": "2020-11-03T20:52:39.492179Z",
     "iopub.status.busy": "2020-11-03T20:52:39.490620Z",
     "iopub.status.idle": "2020-11-03T20:52:40.100043Z",
     "shell.execute_reply": "2020-11-03T20:52:40.101193Z"
    },
    "lines_to_next_cell": 0,
    "title": "codecell"
   },
   "outputs": [
    {
     "data": {
      "text/latex": [
       "$\\displaystyle \\left[\\begin{matrix}x_{11} \\frac{d}{d n_{11}} \\sigma{\\left(n_{11} \\right)} + x_{21} \\frac{d}{d n_{21}} \\sigma{\\left(n_{21} \\right)} + x_{31} \\frac{d}{d n_{31}} \\sigma{\\left(n_{31} \\right)} & x_{11} \\frac{d}{d n_{12}} \\sigma{\\left(n_{12} \\right)} + x_{21} \\frac{d}{d n_{22}} \\sigma{\\left(n_{22} \\right)} + x_{31} \\frac{d}{d n_{32}} \\sigma{\\left(n_{32} \\right)}\\\\x_{12} \\frac{d}{d n_{11}} \\sigma{\\left(n_{11} \\right)} + x_{22} \\frac{d}{d n_{21}} \\sigma{\\left(n_{21} \\right)} + x_{32} \\frac{d}{d n_{31}} \\sigma{\\left(n_{31} \\right)} & x_{12} \\frac{d}{d n_{12}} \\sigma{\\left(n_{12} \\right)} + x_{22} \\frac{d}{d n_{22}} \\sigma{\\left(n_{22} \\right)} + x_{32} \\frac{d}{d n_{32}} \\sigma{\\left(n_{32} \\right)}\\\\x_{13} \\frac{d}{d n_{11}} \\sigma{\\left(n_{11} \\right)} + x_{23} \\frac{d}{d n_{21}} \\sigma{\\left(n_{21} \\right)} + x_{33} \\frac{d}{d n_{31}} \\sigma{\\left(n_{31} \\right)} & x_{13} \\frac{d}{d n_{12}} \\sigma{\\left(n_{12} \\right)} + x_{23} \\frac{d}{d n_{22}} \\sigma{\\left(n_{22} \\right)} + x_{33} \\frac{d}{d n_{32}} \\sigma{\\left(n_{32} \\right)}\\end{matrix}\\right]$"
      ],
      "text/plain": [
       "⎡     d                  d                  d                 d               \n",
       "⎢x₁₁⋅────(σ(n₁₁)) + x₂₁⋅────(σ(n₂₁)) + x₃₁⋅────(σ(n₃₁))  x₁₁⋅────(σ(n₁₂)) + x₂\n",
       "⎢    dn₁₁               dn₂₁               dn₃₁              dn₁₂             \n",
       "⎢                                                                             \n",
       "⎢     d                  d                  d                 d               \n",
       "⎢x₁₂⋅────(σ(n₁₁)) + x₂₂⋅────(σ(n₂₁)) + x₃₂⋅────(σ(n₃₁))  x₁₂⋅────(σ(n₁₂)) + x₂\n",
       "⎢    dn₁₁               dn₂₁               dn₃₁              dn₁₂             \n",
       "⎢                                                                             \n",
       "⎢     d                  d                  d                 d               \n",
       "⎢x₁₃⋅────(σ(n₁₁)) + x₂₃⋅────(σ(n₂₁)) + x₃₃⋅────(σ(n₃₁))  x₁₃⋅────(σ(n₁₂)) + x₂\n",
       "⎣    dn₁₁               dn₂₁               dn₃₁              dn₁₂             \n",
       "\n",
       "   d                  d          ⎤\n",
       "₁⋅────(σ(n₂₂)) + x₃₁⋅────(σ(n₃₂))⎥\n",
       "  dn₂₂               dn₃₂        ⎥\n",
       "                                 ⎥\n",
       "   d                  d          ⎥\n",
       "₂⋅────(σ(n₂₂)) + x₃₂⋅────(σ(n₃₂))⎥\n",
       "  dn₂₂               dn₃₂        ⎥\n",
       "                                 ⎥\n",
       "   d                  d          ⎥\n",
       "₃⋅────(σ(n₂₂)) + x₃₃⋅────(σ(n₃₂))⎥\n",
       "  dn₂₂               dn₃₂        ⎦"
      ]
     },
     "execution_count": 1,
     "metadata": {},
     "output_type": "execute_result"
    }
   ],
   "source": [
    "dL_dW_direct = L.replace(v, vN).replace(sigmaApply, sigmaApply_).replace(lambd, lambd_).subs(elemToSpecD).diff(W).subs(specToElemD)\n",
    "\n",
    "dL_dW_direct = dL_dW_direct.doit()\n",
    "\n",
    "dL_dW_direct"
   ]
  },
  {
   "cell_type": "code",
   "execution_count": 20,
   "metadata": {
    "execution": {
     "iopub.execute_input": "2020-11-03T20:52:40.108147Z",
     "iopub.status.busy": "2020-11-03T20:52:40.104739Z",
     "iopub.status.idle": "2020-11-03T20:52:40.623092Z",
     "shell.execute_reply": "2020-11-03T20:52:40.624234Z"
    }
   },
   "outputs": [
    {
     "data": {
      "text/latex": [
       "$\\displaystyle \\left[\\begin{matrix}w_{11} \\frac{d}{d n_{11}} \\sigma{\\left(n_{11} \\right)} + w_{12} \\frac{d}{d n_{12}} \\sigma{\\left(n_{12} \\right)} & w_{21} \\frac{d}{d n_{11}} \\sigma{\\left(n_{11} \\right)} + w_{22} \\frac{d}{d n_{12}} \\sigma{\\left(n_{12} \\right)} & w_{31} \\frac{d}{d n_{11}} \\sigma{\\left(n_{11} \\right)} + w_{32} \\frac{d}{d n_{12}} \\sigma{\\left(n_{12} \\right)}\\\\w_{11} \\frac{d}{d n_{21}} \\sigma{\\left(n_{21} \\right)} + w_{12} \\frac{d}{d n_{22}} \\sigma{\\left(n_{22} \\right)} & w_{21} \\frac{d}{d n_{21}} \\sigma{\\left(n_{21} \\right)} + w_{22} \\frac{d}{d n_{22}} \\sigma{\\left(n_{22} \\right)} & w_{31} \\frac{d}{d n_{21}} \\sigma{\\left(n_{21} \\right)} + w_{32} \\frac{d}{d n_{22}} \\sigma{\\left(n_{22} \\right)}\\\\w_{11} \\frac{d}{d n_{31}} \\sigma{\\left(n_{31} \\right)} + w_{12} \\frac{d}{d n_{32}} \\sigma{\\left(n_{32} \\right)} & w_{21} \\frac{d}{d n_{31}} \\sigma{\\left(n_{31} \\right)} + w_{22} \\frac{d}{d n_{32}} \\sigma{\\left(n_{32} \\right)} & w_{31} \\frac{d}{d n_{31}} \\sigma{\\left(n_{31} \\right)} + w_{32} \\frac{d}{d n_{32}} \\sigma{\\left(n_{32} \\right)}\\end{matrix}\\right]$"
      ],
      "text/plain": [
       "⎡     d                  d                 d                  d               \n",
       "⎢w₁₁⋅────(σ(n₁₁)) + w₁₂⋅────(σ(n₁₂))  w₂₁⋅────(σ(n₁₁)) + w₂₂⋅────(σ(n₁₂))  w₃₁\n",
       "⎢    dn₁₁               dn₁₂              dn₁₁               dn₁₂             \n",
       "⎢                                                                             \n",
       "⎢     d                  d                 d                  d               \n",
       "⎢w₁₁⋅────(σ(n₂₁)) + w₁₂⋅────(σ(n₂₂))  w₂₁⋅────(σ(n₂₁)) + w₂₂⋅────(σ(n₂₂))  w₃₁\n",
       "⎢    dn₂₁               dn₂₂              dn₂₁               dn₂₂             \n",
       "⎢                                                                             \n",
       "⎢     d                  d                 d                  d               \n",
       "⎢w₁₁⋅────(σ(n₃₁)) + w₁₂⋅────(σ(n₃₂))  w₂₁⋅────(σ(n₃₁)) + w₂₂⋅────(σ(n₃₂))  w₃₁\n",
       "⎣    dn₃₁               dn₃₂              dn₃₁               dn₃₂             \n",
       "\n",
       "  d                  d          ⎤\n",
       "⋅────(σ(n₁₁)) + w₃₂⋅────(σ(n₁₂))⎥\n",
       " dn₁₁               dn₁₂        ⎥\n",
       "                                ⎥\n",
       "  d                  d          ⎥\n",
       "⋅────(σ(n₂₁)) + w₃₂⋅────(σ(n₂₂))⎥\n",
       " dn₂₁               dn₂₂        ⎥\n",
       "                                ⎥\n",
       "  d                  d          ⎥\n",
       "⋅────(σ(n₃₁)) + w₃₂⋅────(σ(n₃₂))⎥\n",
       " dn₃₁               dn₃₂        ⎦"
      ]
     },
     "execution_count": 1,
     "metadata": {},
     "output_type": "execute_result"
    }
   ],
   "source": [
    "dL_dX_direct = L.replace(v, vN).replace(sigmaApply, sigmaApply_).replace(lambd, lambd_).subs(elemToSpecD).diff(X).subs(specToElemD)\n",
    "\n",
    "dL_dX_direct = dL_dX_direct.doit()\n",
    "\n",
    "dL_dX_direct"
   ]
  },
  {
   "cell_type": "code",
   "execution_count": 21,
   "metadata": {
    "execution": {
     "iopub.execute_input": "2020-11-03T20:52:40.629451Z",
     "iopub.status.busy": "2020-11-03T20:52:40.627877Z",
     "iopub.status.idle": "2020-11-03T20:52:40.653529Z",
     "shell.execute_reply": "2020-11-03T20:52:40.654622Z"
    },
    "lines_to_next_cell": 0
   },
   "outputs": [
    {
     "data": {
      "text/latex": [
       "$\\displaystyle {\\left( d \\mapsto \\sigma{\\left(d \\right)} \\right)}_{\\circ}\\left({\\left[\\begin{matrix}n_{11} & n_{12}\\\\n_{21} & n_{22}\\\\n_{31} & n_{32}\\end{matrix}\\right]}\\right)$"
      ],
      "text/plain": [
       "           ⎛⎡n₁₁  n₁₂⎤⎞\n",
       "           ⎜⎢        ⎥⎟\n",
       "(d ↦ σ(d))˳⎜⎢n₂₁  n₂₂⎥⎟\n",
       "           ⎜⎢        ⎥⎟\n",
       "           ⎝⎣n₃₁  n₃₂⎦⎠"
      ]
     },
     "execution_count": 1,
     "metadata": {},
     "output_type": "execute_result"
    }
   ],
   "source": [
    "unapplied = sigmaApply_L(vN(A,B))\n",
    "unapplied\n",
    "# Also works: same as above:\n",
    "#compose(sigmaApply, v)(A,B).replace(v, vN).replace(sigmaApply , sigmaApply_L)"
   ]
  },
  {
   "cell_type": "code",
   "execution_count": 22,
   "metadata": {
    "execution": {
     "iopub.execute_input": "2020-11-03T20:52:40.659697Z",
     "iopub.status.busy": "2020-11-03T20:52:40.658218Z",
     "iopub.status.idle": "2020-11-03T20:52:40.673943Z",
     "shell.execute_reply": "2020-11-03T20:52:40.675003Z"
    }
   },
   "outputs": [
    {
     "data": {
      "text/latex": [
       "$\\displaystyle \\left[\\begin{matrix}\\sigma{\\left(n_{11} \\right)} & \\sigma{\\left(n_{12} \\right)}\\\\\\sigma{\\left(n_{21} \\right)} & \\sigma{\\left(n_{22} \\right)}\\\\\\sigma{\\left(n_{31} \\right)} & \\sigma{\\left(n_{32} \\right)}\\end{matrix}\\right]$"
      ],
      "text/plain": [
       "⎡σ(n₁₁)  σ(n₁₂)⎤\n",
       "⎢              ⎥\n",
       "⎢σ(n₂₁)  σ(n₂₂)⎥\n",
       "⎢              ⎥\n",
       "⎣σ(n₃₁)  σ(n₃₂)⎦"
      ]
     },
     "execution_count": 1,
     "metadata": {},
     "output_type": "execute_result"
    }
   ],
   "source": [
    "applied = unapplied.doit()\n",
    "applied"
   ]
  },
  {
   "cell_type": "code",
   "execution_count": 23,
   "metadata": {
    "execution": {
     "iopub.execute_input": "2020-11-03T20:52:40.679879Z",
     "iopub.status.busy": "2020-11-03T20:52:40.678400Z",
     "iopub.status.idle": "2020-11-03T20:52:41.035345Z",
     "shell.execute_reply": "2020-11-03T20:52:41.036503Z"
    }
   },
   "outputs": [
    {
     "data": {
      "text/latex": [
       "$\\displaystyle \\left. \\frac{d}{d \\xi_{1}} \\lambda{\\left(\\xi_{1} \\right)} \\right|_{\\substack{ \\xi_{1}={\\left( d \\mapsto \\sigma{\\left(d \\right)} \\right)}_{\\circ}\\left({\\left[\\begin{matrix}n_{11} & n_{12}\\\\n_{21} & n_{22}\\\\n_{31} & n_{32}\\end{matrix}\\right]}\\right) }} X^{T} \\left[\\begin{matrix}\\frac{d}{d n_{11}} \\sigma{\\left(n_{11} \\right)} & \\frac{d}{d n_{12}} \\sigma{\\left(n_{12} \\right)}\\\\\\frac{d}{d n_{21}} \\sigma{\\left(n_{21} \\right)} & \\frac{d}{d n_{22}} \\sigma{\\left(n_{22} \\right)}\\\\\\frac{d}{d n_{31}} \\sigma{\\left(n_{31} \\right)} & \\frac{d}{d n_{32}} \\sigma{\\left(n_{32} \\right)}\\end{matrix}\\right]$"
      ],
      "text/plain": [
       "                                           ⎡ d             d          ⎤\n",
       "                                           ⎢────(σ(n₁₁))  ────(σ(n₁₂))⎥\n",
       "                                           ⎢dn₁₁          dn₁₂        ⎥\n",
       "                                           ⎢                          ⎥\n",
       "⎛ d        ⎞│              ⎛⎡n₁₁  n₁₂⎤⎞  T ⎢ d             d          ⎥\n",
       "⎜───(λ(ξ₁))⎟│              ⎜⎢        ⎥⎟⋅X ⋅⎢────(σ(n₂₁))  ────(σ(n₂₂))⎥\n",
       "⎝dξ₁       ⎠│ξ₁=(d ↦ σ(d))˳⎜⎢n₂₁  n₂₂⎥⎟    ⎢dn₂₁          dn₂₂        ⎥\n",
       "                           ⎜⎢        ⎥⎟    ⎢                          ⎥\n",
       "                           ⎝⎣n₃₁  n₃₂⎦⎠    ⎢ d             d          ⎥\n",
       "                                           ⎢────(σ(n₃₁))  ────(σ(n₃₂))⎥\n",
       "                                           ⎣dn₃₁          dn₃₂        ⎦"
      ]
     },
     "metadata": {},
     "output_type": "display_data"
    },
    {
     "data": {
      "text/latex": [
       "$\\displaystyle \\left. \\frac{d}{d \\xi_{1}} \\lambda{\\left(\\xi_{1} \\right)} \\right|_{\\substack{ \\xi_{1}=\\left[\\begin{matrix}\\sigma{\\left(n_{11} \\right)} & \\sigma{\\left(n_{12} \\right)}\\\\\\sigma{\\left(n_{21} \\right)} & \\sigma{\\left(n_{22} \\right)}\\\\\\sigma{\\left(n_{31} \\right)} & \\sigma{\\left(n_{32} \\right)}\\end{matrix}\\right] }} X^{T} \\left[\\begin{matrix}\\frac{d}{d n_{11}} \\sigma{\\left(n_{11} \\right)} & \\frac{d}{d n_{12}} \\sigma{\\left(n_{12} \\right)}\\\\\\frac{d}{d n_{21}} \\sigma{\\left(n_{21} \\right)} & \\frac{d}{d n_{22}} \\sigma{\\left(n_{22} \\right)}\\\\\\frac{d}{d n_{31}} \\sigma{\\left(n_{31} \\right)} & \\frac{d}{d n_{32}} \\sigma{\\left(n_{32} \\right)}\\end{matrix}\\right]$"
      ],
      "text/plain": [
       "                                    ⎡ d             d          ⎤\n",
       "                                    ⎢────(σ(n₁₁))  ────(σ(n₁₂))⎥\n",
       "                                    ⎢dn₁₁          dn₁₂        ⎥\n",
       "                                    ⎢                          ⎥\n",
       "⎛ d        ⎞│   ⎡σ(n₁₁)  σ(n₁₂)⎤  T ⎢ d             d          ⎥\n",
       "⎜───(λ(ξ₁))⎟│   ⎢              ⎥⋅X ⋅⎢────(σ(n₂₁))  ────(σ(n₂₂))⎥\n",
       "⎝dξ₁       ⎠│ξ₁=⎢σ(n₂₁)  σ(n₂₂)⎥    ⎢dn₂₁          dn₂₂        ⎥\n",
       "                ⎢              ⎥    ⎢                          ⎥\n",
       "                ⎣σ(n₃₁)  σ(n₃₂)⎦    ⎢ d             d          ⎥\n",
       "                                    ⎢────(σ(n₃₁))  ────(σ(n₃₂))⎥\n",
       "                                    ⎣dn₃₁          dn₃₂        ⎦"
      ]
     },
     "metadata": {},
     "output_type": "display_data"
    },
    {
     "data": {
      "text/latex": [
       "$\\displaystyle \\left. \\frac{d}{d \\xi_{1}} \\lambda{\\left(\\xi_{1} \\right)} \\right|_{\\substack{ \\xi_{1}={\\left( d \\mapsto \\sigma{\\left(d \\right)} \\right)}_{\\circ}\\left({\\left[\\begin{matrix}n_{11} & n_{12}\\\\n_{21} & n_{22}\\\\n_{31} & n_{32}\\end{matrix}\\right]}\\right) }} \\left[\\begin{matrix}x_{11} \\frac{d}{d n_{11}} \\sigma{\\left(n_{11} \\right)} + x_{21} \\frac{d}{d n_{21}} \\sigma{\\left(n_{21} \\right)} + x_{31} \\frac{d}{d n_{31}} \\sigma{\\left(n_{31} \\right)} & x_{11} \\frac{d}{d n_{12}} \\sigma{\\left(n_{12} \\right)} + x_{21} \\frac{d}{d n_{22}} \\sigma{\\left(n_{22} \\right)} + x_{31} \\frac{d}{d n_{32}} \\sigma{\\left(n_{32} \\right)}\\\\x_{12} \\frac{d}{d n_{11}} \\sigma{\\left(n_{11} \\right)} + x_{22} \\frac{d}{d n_{21}} \\sigma{\\left(n_{21} \\right)} + x_{32} \\frac{d}{d n_{31}} \\sigma{\\left(n_{31} \\right)} & x_{12} \\frac{d}{d n_{12}} \\sigma{\\left(n_{12} \\right)} + x_{22} \\frac{d}{d n_{22}} \\sigma{\\left(n_{22} \\right)} + x_{32} \\frac{d}{d n_{32}} \\sigma{\\left(n_{32} \\right)}\\\\x_{13} \\frac{d}{d n_{11}} \\sigma{\\left(n_{11} \\right)} + x_{23} \\frac{d}{d n_{21}} \\sigma{\\left(n_{21} \\right)} + x_{33} \\frac{d}{d n_{31}} \\sigma{\\left(n_{31} \\right)} & x_{13} \\frac{d}{d n_{12}} \\sigma{\\left(n_{12} \\right)} + x_{23} \\frac{d}{d n_{22}} \\sigma{\\left(n_{22} \\right)} + x_{33} \\frac{d}{d n_{32}} \\sigma{\\left(n_{32} \\right)}\\end{matrix}\\right]$"
      ],
      "text/plain": [
       "                                        ⎡     d                  d            \n",
       "                                        ⎢x₁₁⋅────(σ(n₁₁)) + x₂₁⋅────(σ(n₂₁)) +\n",
       "                                        ⎢    dn₁₁               dn₂₁          \n",
       "                                        ⎢                                     \n",
       "⎛ d        ⎞│              ⎛⎡n₁₁  n₁₂⎤⎞ ⎢     d                  d            \n",
       "⎜───(λ(ξ₁))⎟│              ⎜⎢        ⎥⎟⋅⎢x₁₂⋅────(σ(n₁₁)) + x₂₂⋅────(σ(n₂₁)) +\n",
       "⎝dξ₁       ⎠│ξ₁=(d ↦ σ(d))˳⎜⎢n₂₁  n₂₂⎥⎟ ⎢    dn₁₁               dn₂₁          \n",
       "                           ⎜⎢        ⎥⎟ ⎢                                     \n",
       "                           ⎝⎣n₃₁  n₃₂⎦⎠ ⎢     d                  d            \n",
       "                                        ⎢x₁₃⋅────(σ(n₁₁)) + x₂₃⋅────(σ(n₂₁)) +\n",
       "                                        ⎣    dn₁₁               dn₂₁          \n",
       "\n",
       "      d                 d                  d                  d          ⎤\n",
       " x₃₁⋅────(σ(n₃₁))  x₁₁⋅────(σ(n₁₂)) + x₂₁⋅────(σ(n₂₂)) + x₃₁⋅────(σ(n₃₂))⎥\n",
       "     dn₃₁              dn₁₂               dn₂₂               dn₃₂        ⎥\n",
       "                                                                         ⎥\n",
       "      d                 d                  d                  d          ⎥\n",
       " x₃₂⋅────(σ(n₃₁))  x₁₂⋅────(σ(n₁₂)) + x₂₂⋅────(σ(n₂₂)) + x₃₂⋅────(σ(n₃₂))⎥\n",
       "     dn₃₁              dn₁₂               dn₂₂               dn₃₂        ⎥\n",
       "                                                                         ⎥\n",
       "      d                 d                  d                  d          ⎥\n",
       " x₃₃⋅────(σ(n₃₁))  x₁₃⋅────(σ(n₁₂)) + x₂₃⋅────(σ(n₂₂)) + x₃₃⋅────(σ(n₃₂))⎥\n",
       "     dn₃₁              dn₁₂               dn₂₂               dn₃₂        ⎦"
      ]
     },
     "metadata": {},
     "output_type": "display_data"
    },
    {
     "data": {
      "text/latex": [
       "$\\displaystyle \\left. \\frac{d}{d \\xi_{1}} \\lambda{\\left(\\xi_{1} \\right)} \\right|_{\\substack{ \\xi_{1}=\\left[\\begin{matrix}\\sigma{\\left(n_{11} \\right)} & \\sigma{\\left(n_{12} \\right)}\\\\\\sigma{\\left(n_{21} \\right)} & \\sigma{\\left(n_{22} \\right)}\\\\\\sigma{\\left(n_{31} \\right)} & \\sigma{\\left(n_{32} \\right)}\\end{matrix}\\right] }} \\left[\\begin{matrix}x_{11} \\frac{d}{d n_{11}} \\sigma{\\left(n_{11} \\right)} + x_{21} \\frac{d}{d n_{21}} \\sigma{\\left(n_{21} \\right)} + x_{31} \\frac{d}{d n_{31}} \\sigma{\\left(n_{31} \\right)} & x_{11} \\frac{d}{d n_{12}} \\sigma{\\left(n_{12} \\right)} + x_{21} \\frac{d}{d n_{22}} \\sigma{\\left(n_{22} \\right)} + x_{31} \\frac{d}{d n_{32}} \\sigma{\\left(n_{32} \\right)}\\\\x_{12} \\frac{d}{d n_{11}} \\sigma{\\left(n_{11} \\right)} + x_{22} \\frac{d}{d n_{21}} \\sigma{\\left(n_{21} \\right)} + x_{32} \\frac{d}{d n_{31}} \\sigma{\\left(n_{31} \\right)} & x_{12} \\frac{d}{d n_{12}} \\sigma{\\left(n_{12} \\right)} + x_{22} \\frac{d}{d n_{22}} \\sigma{\\left(n_{22} \\right)} + x_{32} \\frac{d}{d n_{32}} \\sigma{\\left(n_{32} \\right)}\\\\x_{13} \\frac{d}{d n_{11}} \\sigma{\\left(n_{11} \\right)} + x_{23} \\frac{d}{d n_{21}} \\sigma{\\left(n_{21} \\right)} + x_{33} \\frac{d}{d n_{31}} \\sigma{\\left(n_{31} \\right)} & x_{13} \\frac{d}{d n_{12}} \\sigma{\\left(n_{12} \\right)} + x_{23} \\frac{d}{d n_{22}} \\sigma{\\left(n_{22} \\right)} + x_{33} \\frac{d}{d n_{32}} \\sigma{\\left(n_{32} \\right)}\\end{matrix}\\right]$"
      ],
      "text/plain": [
       "                                 ⎡     d                  d                  d\n",
       "                                 ⎢x₁₁⋅────(σ(n₁₁)) + x₂₁⋅────(σ(n₂₁)) + x₃₁⋅──\n",
       "                                 ⎢    dn₁₁               dn₂₁               dn\n",
       "                                 ⎢                                            \n",
       "⎛ d        ⎞│   ⎡σ(n₁₁)  σ(n₁₂)⎤ ⎢     d                  d                  d\n",
       "⎜───(λ(ξ₁))⎟│   ⎢              ⎥⋅⎢x₁₂⋅────(σ(n₁₁)) + x₂₂⋅────(σ(n₂₁)) + x₃₂⋅──\n",
       "⎝dξ₁       ⎠│ξ₁=⎢σ(n₂₁)  σ(n₂₂)⎥ ⎢    dn₁₁               dn₂₁               dn\n",
       "                ⎢              ⎥ ⎢                                            \n",
       "                ⎣σ(n₃₁)  σ(n₃₂)⎦ ⎢     d                  d                  d\n",
       "                                 ⎢x₁₃⋅────(σ(n₁₁)) + x₂₃⋅────(σ(n₂₁)) + x₃₃⋅──\n",
       "                                 ⎣    dn₁₁               dn₂₁               dn\n",
       "\n",
       "                 d                  d                  d          ⎤\n",
       "──(σ(n₃₁))  x₁₁⋅────(σ(n₁₂)) + x₂₁⋅────(σ(n₂₂)) + x₃₁⋅────(σ(n₃₂))⎥\n",
       "₃₁              dn₁₂               dn₂₂               dn₃₂        ⎥\n",
       "                                                                  ⎥\n",
       "                 d                  d                  d          ⎥\n",
       "──(σ(n₃₁))  x₁₂⋅────(σ(n₁₂)) + x₂₂⋅────(σ(n₂₂)) + x₃₂⋅────(σ(n₃₂))⎥\n",
       "₃₁              dn₁₂               dn₂₂               dn₃₂        ⎥\n",
       "                                                                  ⎥\n",
       "                 d                  d                  d          ⎥\n",
       "──(σ(n₃₁))  x₁₃⋅────(σ(n₁₂)) + x₂₃⋅────(σ(n₂₂)) + x₃₃⋅────(σ(n₃₂))⎥\n",
       "₃₁              dn₁₂               dn₂₂               dn₃₂        ⎦"
      ]
     },
     "metadata": {},
     "output_type": "display_data"
    }
   ],
   "source": [
    "dL_dW_step = compose(lambd, sigmaApply, v)(A,B).replace(v, v_).replace(sigmaApply, sigmaApply_).diff(B).subs({A*B : vN(A,B)}).doit()\n",
    "\n",
    "showGroup([\n",
    "    dL_dW_step,\n",
    "    dL_dW_step.replace(unapplied, applied),\n",
    "    # Carrying out the multplication:\n",
    "    dL_dW_step.subs({A:X}).doit(), # replace won't work here\n",
    "    dL_dW_step.subs({A:X}).doit().replace(unapplied, applied)\n",
    "])\n",
    "\n"
   ]
  },
  {
   "cell_type": "code",
   "execution_count": 24,
   "metadata": {
    "execution": {
     "iopub.execute_input": "2020-11-03T20:52:41.041621Z",
     "iopub.status.busy": "2020-11-03T20:52:41.040082Z",
     "iopub.status.idle": "2020-11-03T20:52:41.458813Z",
     "shell.execute_reply": "2020-11-03T20:52:41.459986Z"
    }
   },
   "outputs": [
    {
     "data": {
      "text/latex": [
       "$\\displaystyle \\left. \\frac{d}{d \\xi_{1}} \\lambda{\\left(\\xi_{1} \\right)} \\right|_{\\substack{ \\xi_{1}={\\left( d \\mapsto \\sigma{\\left(d \\right)} \\right)}_{\\circ}\\left({\\left[\\begin{matrix}n_{11} & n_{12}\\\\n_{21} & n_{22}\\\\n_{31} & n_{32}\\end{matrix}\\right]}\\right) }} \\left[\\begin{matrix}\\frac{d}{d n_{11}} \\sigma{\\left(n_{11} \\right)} & \\frac{d}{d n_{12}} \\sigma{\\left(n_{12} \\right)}\\\\\\frac{d}{d n_{21}} \\sigma{\\left(n_{21} \\right)} & \\frac{d}{d n_{22}} \\sigma{\\left(n_{22} \\right)}\\\\\\frac{d}{d n_{31}} \\sigma{\\left(n_{31} \\right)} & \\frac{d}{d n_{32}} \\sigma{\\left(n_{32} \\right)}\\end{matrix}\\right] W^{T}$"
      ],
      "text/plain": [
       "                                        ⎡ d             d          ⎤   \n",
       "                                        ⎢────(σ(n₁₁))  ────(σ(n₁₂))⎥   \n",
       "                                        ⎢dn₁₁          dn₁₂        ⎥   \n",
       "                                        ⎢                          ⎥   \n",
       "⎛ d        ⎞│              ⎛⎡n₁₁  n₁₂⎤⎞ ⎢ d             d          ⎥  T\n",
       "⎜───(λ(ξ₁))⎟│              ⎜⎢        ⎥⎟⋅⎢────(σ(n₂₁))  ────(σ(n₂₂))⎥⋅W \n",
       "⎝dξ₁       ⎠│ξ₁=(d ↦ σ(d))˳⎜⎢n₂₁  n₂₂⎥⎟ ⎢dn₂₁          dn₂₂        ⎥   \n",
       "                           ⎜⎢        ⎥⎟ ⎢                          ⎥   \n",
       "                           ⎝⎣n₃₁  n₃₂⎦⎠ ⎢ d             d          ⎥   \n",
       "                                        ⎢────(σ(n₃₁))  ────(σ(n₃₂))⎥   \n",
       "                                        ⎣dn₃₁          dn₃₂        ⎦   "
      ]
     },
     "metadata": {},
     "output_type": "display_data"
    },
    {
     "data": {
      "text/latex": [
       "$\\displaystyle \\left. \\frac{d}{d \\xi_{1}} \\lambda{\\left(\\xi_{1} \\right)} \\right|_{\\substack{ \\xi_{1}=\\left[\\begin{matrix}\\sigma{\\left(n_{11} \\right)} & \\sigma{\\left(n_{12} \\right)}\\\\\\sigma{\\left(n_{21} \\right)} & \\sigma{\\left(n_{22} \\right)}\\\\\\sigma{\\left(n_{31} \\right)} & \\sigma{\\left(n_{32} \\right)}\\end{matrix}\\right] }} \\left[\\begin{matrix}\\frac{d}{d n_{11}} \\sigma{\\left(n_{11} \\right)} & \\frac{d}{d n_{12}} \\sigma{\\left(n_{12} \\right)}\\\\\\frac{d}{d n_{21}} \\sigma{\\left(n_{21} \\right)} & \\frac{d}{d n_{22}} \\sigma{\\left(n_{22} \\right)}\\\\\\frac{d}{d n_{31}} \\sigma{\\left(n_{31} \\right)} & \\frac{d}{d n_{32}} \\sigma{\\left(n_{32} \\right)}\\end{matrix}\\right] W^{T}$"
      ],
      "text/plain": [
       "                                 ⎡ d             d          ⎤   \n",
       "                                 ⎢────(σ(n₁₁))  ────(σ(n₁₂))⎥   \n",
       "                                 ⎢dn₁₁          dn₁₂        ⎥   \n",
       "                                 ⎢                          ⎥   \n",
       "⎛ d        ⎞│   ⎡σ(n₁₁)  σ(n₁₂)⎤ ⎢ d             d          ⎥  T\n",
       "⎜───(λ(ξ₁))⎟│   ⎢              ⎥⋅⎢────(σ(n₂₁))  ────(σ(n₂₂))⎥⋅W \n",
       "⎝dξ₁       ⎠│ξ₁=⎢σ(n₂₁)  σ(n₂₂)⎥ ⎢dn₂₁          dn₂₂        ⎥   \n",
       "                ⎢              ⎥ ⎢                          ⎥   \n",
       "                ⎣σ(n₃₁)  σ(n₃₂)⎦ ⎢ d             d          ⎥   \n",
       "                                 ⎢────(σ(n₃₁))  ────(σ(n₃₂))⎥   \n",
       "                                 ⎣dn₃₁          dn₃₂        ⎦   "
      ]
     },
     "metadata": {},
     "output_type": "display_data"
    },
    {
     "data": {
      "text/latex": [
       "$\\displaystyle \\left. \\frac{d}{d \\xi_{1}} \\lambda{\\left(\\xi_{1} \\right)} \\right|_{\\substack{ \\xi_{1}={\\left( d \\mapsto \\sigma{\\left(d \\right)} \\right)}_{\\circ}\\left({\\left[\\begin{matrix}n_{11} & n_{12}\\\\n_{21} & n_{22}\\\\n_{31} & n_{32}\\end{matrix}\\right]}\\right) }} \\left[\\begin{matrix}w_{11} \\frac{d}{d n_{11}} \\sigma{\\left(n_{11} \\right)} + w_{12} \\frac{d}{d n_{12}} \\sigma{\\left(n_{12} \\right)} & w_{21} \\frac{d}{d n_{11}} \\sigma{\\left(n_{11} \\right)} + w_{22} \\frac{d}{d n_{12}} \\sigma{\\left(n_{12} \\right)} & w_{31} \\frac{d}{d n_{11}} \\sigma{\\left(n_{11} \\right)} + w_{32} \\frac{d}{d n_{12}} \\sigma{\\left(n_{12} \\right)}\\\\w_{11} \\frac{d}{d n_{21}} \\sigma{\\left(n_{21} \\right)} + w_{12} \\frac{d}{d n_{22}} \\sigma{\\left(n_{22} \\right)} & w_{21} \\frac{d}{d n_{21}} \\sigma{\\left(n_{21} \\right)} + w_{22} \\frac{d}{d n_{22}} \\sigma{\\left(n_{22} \\right)} & w_{31} \\frac{d}{d n_{21}} \\sigma{\\left(n_{21} \\right)} + w_{32} \\frac{d}{d n_{22}} \\sigma{\\left(n_{22} \\right)}\\\\w_{11} \\frac{d}{d n_{31}} \\sigma{\\left(n_{31} \\right)} + w_{12} \\frac{d}{d n_{32}} \\sigma{\\left(n_{32} \\right)} & w_{21} \\frac{d}{d n_{31}} \\sigma{\\left(n_{31} \\right)} + w_{22} \\frac{d}{d n_{32}} \\sigma{\\left(n_{32} \\right)} & w_{31} \\frac{d}{d n_{31}} \\sigma{\\left(n_{31} \\right)} + w_{32} \\frac{d}{d n_{32}} \\sigma{\\left(n_{32} \\right)}\\end{matrix}\\right]$"
      ],
      "text/plain": [
       "                                        ⎡     d                  d            \n",
       "                                        ⎢w₁₁⋅────(σ(n₁₁)) + w₁₂⋅────(σ(n₁₂))  \n",
       "                                        ⎢    dn₁₁               dn₁₂          \n",
       "                                        ⎢                                     \n",
       "⎛ d        ⎞│              ⎛⎡n₁₁  n₁₂⎤⎞ ⎢     d                  d            \n",
       "⎜───(λ(ξ₁))⎟│              ⎜⎢        ⎥⎟⋅⎢w₁₁⋅────(σ(n₂₁)) + w₁₂⋅────(σ(n₂₂))  \n",
       "⎝dξ₁       ⎠│ξ₁=(d ↦ σ(d))˳⎜⎢n₂₁  n₂₂⎥⎟ ⎢    dn₂₁               dn₂₂          \n",
       "                           ⎜⎢        ⎥⎟ ⎢                                     \n",
       "                           ⎝⎣n₃₁  n₃₂⎦⎠ ⎢     d                  d            \n",
       "                                        ⎢w₁₁⋅────(σ(n₃₁)) + w₁₂⋅────(σ(n₃₂))  \n",
       "                                        ⎣    dn₃₁               dn₃₂          \n",
       "\n",
       "     d                  d                 d                  d          ⎤\n",
       "w₂₁⋅────(σ(n₁₁)) + w₂₂⋅────(σ(n₁₂))  w₃₁⋅────(σ(n₁₁)) + w₃₂⋅────(σ(n₁₂))⎥\n",
       "    dn₁₁               dn₁₂              dn₁₁               dn₁₂        ⎥\n",
       "                                                                        ⎥\n",
       "     d                  d                 d                  d          ⎥\n",
       "w₂₁⋅────(σ(n₂₁)) + w₂₂⋅────(σ(n₂₂))  w₃₁⋅────(σ(n₂₁)) + w₃₂⋅────(σ(n₂₂))⎥\n",
       "    dn₂₁               dn₂₂              dn₂₁               dn₂₂        ⎥\n",
       "                                                                        ⎥\n",
       "     d                  d                 d                  d          ⎥\n",
       "w₂₁⋅────(σ(n₃₁)) + w₂₂⋅────(σ(n₃₂))  w₃₁⋅────(σ(n₃₁)) + w₃₂⋅────(σ(n₃₂))⎥\n",
       "    dn₃₁               dn₃₂              dn₃₁               dn₃₂        ⎦"
      ]
     },
     "metadata": {},
     "output_type": "display_data"
    },
    {
     "data": {
      "text/latex": [
       "$\\displaystyle \\left. \\frac{d}{d \\xi_{1}} \\lambda{\\left(\\xi_{1} \\right)} \\right|_{\\substack{ \\xi_{1}=\\left[\\begin{matrix}\\sigma{\\left(n_{11} \\right)} & \\sigma{\\left(n_{12} \\right)}\\\\\\sigma{\\left(n_{21} \\right)} & \\sigma{\\left(n_{22} \\right)}\\\\\\sigma{\\left(n_{31} \\right)} & \\sigma{\\left(n_{32} \\right)}\\end{matrix}\\right] }} \\left[\\begin{matrix}w_{11} \\frac{d}{d n_{11}} \\sigma{\\left(n_{11} \\right)} + w_{12} \\frac{d}{d n_{12}} \\sigma{\\left(n_{12} \\right)} & w_{21} \\frac{d}{d n_{11}} \\sigma{\\left(n_{11} \\right)} + w_{22} \\frac{d}{d n_{12}} \\sigma{\\left(n_{12} \\right)} & w_{31} \\frac{d}{d n_{11}} \\sigma{\\left(n_{11} \\right)} + w_{32} \\frac{d}{d n_{12}} \\sigma{\\left(n_{12} \\right)}\\\\w_{11} \\frac{d}{d n_{21}} \\sigma{\\left(n_{21} \\right)} + w_{12} \\frac{d}{d n_{22}} \\sigma{\\left(n_{22} \\right)} & w_{21} \\frac{d}{d n_{21}} \\sigma{\\left(n_{21} \\right)} + w_{22} \\frac{d}{d n_{22}} \\sigma{\\left(n_{22} \\right)} & w_{31} \\frac{d}{d n_{21}} \\sigma{\\left(n_{21} \\right)} + w_{32} \\frac{d}{d n_{22}} \\sigma{\\left(n_{22} \\right)}\\\\w_{11} \\frac{d}{d n_{31}} \\sigma{\\left(n_{31} \\right)} + w_{12} \\frac{d}{d n_{32}} \\sigma{\\left(n_{32} \\right)} & w_{21} \\frac{d}{d n_{31}} \\sigma{\\left(n_{31} \\right)} + w_{22} \\frac{d}{d n_{32}} \\sigma{\\left(n_{32} \\right)} & w_{31} \\frac{d}{d n_{31}} \\sigma{\\left(n_{31} \\right)} + w_{32} \\frac{d}{d n_{32}} \\sigma{\\left(n_{32} \\right)}\\end{matrix}\\right]$"
      ],
      "text/plain": [
       "                                 ⎡     d                  d                 d \n",
       "                                 ⎢w₁₁⋅────(σ(n₁₁)) + w₁₂⋅────(σ(n₁₂))  w₂₁⋅───\n",
       "                                 ⎢    dn₁₁               dn₁₂              dn₁\n",
       "                                 ⎢                                            \n",
       "⎛ d        ⎞│   ⎡σ(n₁₁)  σ(n₁₂)⎤ ⎢     d                  d                 d \n",
       "⎜───(λ(ξ₁))⎟│   ⎢              ⎥⋅⎢w₁₁⋅────(σ(n₂₁)) + w₁₂⋅────(σ(n₂₂))  w₂₁⋅───\n",
       "⎝dξ₁       ⎠│ξ₁=⎢σ(n₂₁)  σ(n₂₂)⎥ ⎢    dn₂₁               dn₂₂              dn₂\n",
       "                ⎢              ⎥ ⎢                                            \n",
       "                ⎣σ(n₃₁)  σ(n₃₂)⎦ ⎢     d                  d                 d \n",
       "                                 ⎢w₁₁⋅────(σ(n₃₁)) + w₁₂⋅────(σ(n₃₂))  w₂₁⋅───\n",
       "                                 ⎣    dn₃₁               dn₃₂              dn₃\n",
       "\n",
       "                 d                 d                  d          ⎤\n",
       "─(σ(n₁₁)) + w₂₂⋅────(σ(n₁₂))  w₃₁⋅────(σ(n₁₁)) + w₃₂⋅────(σ(n₁₂))⎥\n",
       "₁               dn₁₂              dn₁₁               dn₁₂        ⎥\n",
       "                                                                 ⎥\n",
       "                 d                 d                  d          ⎥\n",
       "─(σ(n₂₁)) + w₂₂⋅────(σ(n₂₂))  w₃₁⋅────(σ(n₂₁)) + w₃₂⋅────(σ(n₂₂))⎥\n",
       "₁               dn₂₂              dn₂₁               dn₂₂        ⎥\n",
       "                                                                 ⎥\n",
       "                 d                 d                  d          ⎥\n",
       "─(σ(n₃₁)) + w₂₂⋅────(σ(n₃₂))  w₃₁⋅────(σ(n₃₁)) + w₃₂⋅────(σ(n₃₂))⎥\n",
       "₁               dn₃₂              dn₃₁               dn₃₂        ⎦"
      ]
     },
     "metadata": {},
     "output_type": "display_data"
    }
   ],
   "source": [
    "dL_dX_step = compose(lambd, sigmaApply, v)(A,B).replace(v, v_).replace(sigmaApply, sigmaApply_).diff(A).subs({A*B : vN(A,B)}).doit()\n",
    "\n",
    "\n",
    "showGroup([\n",
    "    dL_dX_step,\n",
    "    dL_dX_step.replace(unapplied, applied),\n",
    "    dL_dX_step.subs({B:W}).doit(),\n",
    "    dL_dX_step.subs({B:W}).doit().replace(unapplied, applied)\n",
    "])\n",
    "\n"
   ]
  },
  {
   "cell_type": "markdown",
   "execution_count": 25,
   "metadata": {
    "lines_to_next_cell": 0
   },
   "source": [
    "Trying to replace further to get the ones matrix for the deriv of lambda expression, but doesn't work, see code below for why (hadamard is not present, just matrix multiplication. Chain rule in this form doesn't know there should be hadamard product between deriv of $\\lambda$ expression and $\\frac{dS}{dX}$ expression)"
   ]
  },
  {
   "cell_type": "code",
   "execution_count": 25,
   "metadata": {
    "execution": {
     "iopub.execute_input": "2020-11-03T20:52:41.465155Z",
     "iopub.status.busy": "2020-11-03T20:52:41.463597Z",
     "iopub.status.idle": "2020-11-03T20:52:41.515423Z",
     "shell.execute_reply": "2020-11-03T20:52:41.516607Z"
    },
    "lines_to_next_cell": 0
   },
   "outputs": [
    {
     "data": {
      "text/latex": [
       "$\\displaystyle \\frac{d}{d \\xi} \\lambda{\\left(\\xi \\right)}$"
      ],
      "text/plain": [
       "d       \n",
       "──(λ(ξ))\n",
       "dξ      "
      ]
     },
     "metadata": {},
     "output_type": "display_data"
    },
    {
     "data": {
      "text/latex": [
       "$\\displaystyle \\frac{\\partial}{\\partial \\left[\\begin{matrix}\\sigma{\\left(n_{11} \\right)} & \\sigma{\\left(n_{12} \\right)}\\\\\\sigma{\\left(n_{21} \\right)} & \\sigma{\\left(n_{22} \\right)}\\\\\\sigma{\\left(n_{31} \\right)} & \\sigma{\\left(n_{32} \\right)}\\end{matrix}\\right]} \\left(\\sigma{\\left(n_{11} \\right)} + \\sigma{\\left(n_{12} \\right)} + \\sigma{\\left(n_{21} \\right)} + \\sigma{\\left(n_{22} \\right)} + \\sigma{\\left(n_{31} \\right)} + \\sigma{\\left(n_{32} \\right)}\\right)$"
      ],
      "text/plain": [
       "        ∂                                                             \n",
       "─────────────────(σ(n₁₁) + σ(n₁₂) + σ(n₂₁) + σ(n₂₂) + σ(n₃₁) + σ(n₃₂))\n",
       " ⎡σ(n₁₁)  σ(n₁₂)⎤                                                     \n",
       " ⎢              ⎥                                                     \n",
       "∂⎢σ(n₂₁)  σ(n₂₂)⎥                                                     \n",
       " ⎢              ⎥                                                     \n",
       " ⎣σ(n₃₁)  σ(n₃₂)⎦                                                     "
      ]
     },
     "metadata": {},
     "output_type": "display_data"
    }
   ],
   "source": [
    "dle = lambd(xi).diff(xi)\n",
    "dle_repl = lambd(xi).diff(xi).subs(xi, applied).replace(lambd, lambd_L)\n",
    "\n",
    "showGroup([\n",
    "    dle,\n",
    "    dle_repl\n",
    "])"
   ]
  },
  {
   "cell_type": "code",
   "execution_count": 26,
   "metadata": {
    "execution": {
     "iopub.execute_input": "2020-11-03T20:52:41.521638Z",
     "iopub.status.busy": "2020-11-03T20:52:41.520076Z",
     "iopub.status.idle": "2020-11-03T20:52:41.585923Z",
     "shell.execute_reply": "2020-11-03T20:52:41.587132Z"
    }
   },
   "outputs": [
    {
     "data": {
      "text/latex": [
       "$\\displaystyle \\left. \\frac{d}{d \\xi_{1}} \\lambda{\\left(\\xi_{1} \\right)} \\right|_{\\substack{ \\xi_{1}=\\xi }} X^{T} {\\left( d \\mapsto \\frac{d}{d d} \\sigma{\\left(d \\right)} \\right)}_{\\circ}\\left({X W}\\right)$"
      ],
      "text/plain": [
       "⎛ d        ⎞│      T ⎛    d       ⎞      \n",
       "⎜───(λ(ξ₁))⎟│    ⋅X ⋅⎜d ↦ ──(σ(d))⎟˳(X⋅W)\n",
       "⎝dξ₁       ⎠│ξ₁=ξ    ⎝    dd      ⎠      "
      ]
     },
     "metadata": {},
     "output_type": "display_data"
    },
    {
     "data": {
      "text/latex": [
       "$\\displaystyle \\left(\\frac{d}{d \\xi} \\lambda{\\left(\\xi \\right)}\\right) X^{T} {\\left( d \\mapsto \\frac{d}{d d} \\sigma{\\left(d \\right)} \\right)}_{\\circ}\\left({X W}\\right)$"
      ],
      "text/plain": [
       "d         T ⎛    d       ⎞      \n",
       "──(λ(ξ))⋅X ⋅⎜d ↦ ──(σ(d))⎟˳(X⋅W)\n",
       "dξ          ⎝    dd      ⎠      "
      ]
     },
     "metadata": {},
     "output_type": "display_data"
    },
    {
     "data": {
      "text/latex": [
       "$\\displaystyle \\left(\\frac{\\partial}{\\partial \\left[\\begin{matrix}\\sigma{\\left(n_{11} \\right)} & \\sigma{\\left(n_{12} \\right)}\\\\\\sigma{\\left(n_{21} \\right)} & \\sigma{\\left(n_{22} \\right)}\\\\\\sigma{\\left(n_{31} \\right)} & \\sigma{\\left(n_{32} \\right)}\\end{matrix}\\right]} \\left(\\sigma{\\left(n_{11} \\right)} + \\sigma{\\left(n_{12} \\right)} + \\sigma{\\left(n_{21} \\right)} + \\sigma{\\left(n_{22} \\right)} + \\sigma{\\left(n_{31} \\right)} + \\sigma{\\left(n_{32} \\right)}\\right)\\right) X^{T} {\\left( d \\mapsto \\frac{d}{d d} \\sigma{\\left(d \\right)} \\right)}_{\\circ}\\left({X W}\\right)$"
      ],
      "text/plain": [
       "        ∂                                                               T ⎛   \n",
       "─────────────────(σ(n₁₁) + σ(n₁₂) + σ(n₂₁) + σ(n₂₂) + σ(n₃₁) + σ(n₃₂))⋅X ⋅⎜d ↦\n",
       " ⎡σ(n₁₁)  σ(n₁₂)⎤                                                         ⎝   \n",
       " ⎢              ⎥                                                             \n",
       "∂⎢σ(n₂₁)  σ(n₂₂)⎥                                                             \n",
       " ⎢              ⎥                                                             \n",
       " ⎣σ(n₃₁)  σ(n₃₂)⎦                                                             \n",
       "\n",
       " d       ⎞      \n",
       " ──(σ(d))⎟˳(X⋅W)\n",
       " dd      ⎠      \n",
       "                \n",
       "                \n",
       "                \n",
       "                "
      ]
     },
     "metadata": {},
     "output_type": "display_data"
    }
   ],
   "source": [
    "showGroup([\n",
    "    dL_dW_abstract.replace(sigmaApply_L(A*B), xi),\n",
    "    dL_dW_abstract.replace(sigmaApply_L(A*B), xi).doit(),\n",
    "    dL_dW_abstract.replace(sigmaApply_L(A*B), xi).doit().replace(dle, dle_repl) #.doit())\n",
    "])\n",
    "\n",
    "# NOTE here it says the matrices are not aligned if we execute doit() to reveal the ones matrix that is dL_dS. True since assumption here is matrix multplication with dL_dS and right hand side, but in fact it is hadamard multiplication.\n",
    "\n"
   ]
  },
  {
   "cell_type": "markdown",
   "execution_count": 27,
   "metadata": {
    "lines_to_next_cell": 0
   },
   "source": [
    "The first part: $\\frac{dL}{dS}$\n",
    "\n",
    "Direct substitution way:"
   ]
  },
  {
   "cell_type": "code",
   "execution_count": 27,
   "metadata": {
    "execution": {
     "iopub.execute_input": "2020-11-03T20:52:41.592196Z",
     "iopub.status.busy": "2020-11-03T20:52:41.590719Z",
     "iopub.status.idle": "2020-11-03T20:52:41.664256Z",
     "shell.execute_reply": "2020-11-03T20:52:41.665694Z"
    }
   },
   "outputs": [
    {
     "data": {
      "text/latex": [
       "$\\displaystyle \\frac{\\partial}{\\partial \\left[\\begin{matrix}\\sigma{\\left(n_{11} \\right)} & \\sigma{\\left(n_{12} \\right)}\\\\\\sigma{\\left(n_{21} \\right)} & \\sigma{\\left(n_{22} \\right)}\\\\\\sigma{\\left(n_{31} \\right)} & \\sigma{\\left(n_{32} \\right)}\\end{matrix}\\right]} \\lambda{\\left(\\left[\\begin{matrix}\\sigma{\\left(n_{11} \\right)} & \\sigma{\\left(n_{12} \\right)}\\\\\\sigma{\\left(n_{21} \\right)} & \\sigma{\\left(n_{22} \\right)}\\\\\\sigma{\\left(n_{31} \\right)} & \\sigma{\\left(n_{32} \\right)}\\end{matrix}\\right] \\right)}$"
      ],
      "text/plain": [
       "                 ⎛ ⎛⎡σ(n₁₁)  σ(n₁₂)⎤⎞⎞\n",
       "        ∂        ⎜ ⎜⎢              ⎥⎟⎟\n",
       "─────────────────⎜λ⎜⎢σ(n₂₁)  σ(n₂₂)⎥⎟⎟\n",
       " ⎡σ(n₁₁)  σ(n₁₂)⎤⎜ ⎜⎢              ⎥⎟⎟\n",
       " ⎢              ⎥⎝ ⎝⎣σ(n₃₁)  σ(n₃₂)⎦⎠⎠\n",
       "∂⎢σ(n₂₁)  σ(n₂₂)⎥                     \n",
       " ⎢              ⎥                     \n",
       " ⎣σ(n₃₁)  σ(n₃₂)⎦                     "
      ]
     },
     "metadata": {},
     "output_type": "display_data"
    },
    {
     "data": {
      "text/latex": [
       "$\\displaystyle \\frac{\\partial}{\\partial \\left[\\begin{matrix}\\sigma{\\left(n_{11} \\right)} & \\sigma{\\left(n_{12} \\right)}\\\\\\sigma{\\left(n_{21} \\right)} & \\sigma{\\left(n_{22} \\right)}\\\\\\sigma{\\left(n_{31} \\right)} & \\sigma{\\left(n_{32} \\right)}\\end{matrix}\\right]} \\left(\\sigma{\\left(n_{11} \\right)} + \\sigma{\\left(n_{12} \\right)} + \\sigma{\\left(n_{21} \\right)} + \\sigma{\\left(n_{22} \\right)} + \\sigma{\\left(n_{31} \\right)} + \\sigma{\\left(n_{32} \\right)}\\right)$"
      ],
      "text/plain": [
       "        ∂                                                             \n",
       "─────────────────(σ(n₁₁) + σ(n₁₂) + σ(n₂₁) + σ(n₂₂) + σ(n₃₁) + σ(n₃₂))\n",
       " ⎡σ(n₁₁)  σ(n₁₂)⎤                                                     \n",
       " ⎢              ⎥                                                     \n",
       "∂⎢σ(n₂₁)  σ(n₂₂)⎥                                                     \n",
       " ⎢              ⎥                                                     \n",
       " ⎣σ(n₃₁)  σ(n₃₂)⎦                                                     "
      ]
     },
     "metadata": {},
     "output_type": "display_data"
    },
    {
     "data": {
      "text/latex": [
       "$\\displaystyle \\left[\\begin{matrix}1 & 1\\\\1 & 1\\\\1 & 1\\end{matrix}\\right]$"
      ],
      "text/plain": [
       "⎡1  1⎤\n",
       "⎢    ⎥\n",
       "⎢1  1⎥\n",
       "⎢    ⎥\n",
       "⎣1  1⎦"
      ]
     },
     "metadata": {},
     "output_type": "display_data"
    }
   ],
   "source": [
    "showGroup([\n",
    "    lambd(xi).diff(xi).subs(xi, applied),\n",
    "    lambd(xi).diff(xi).subs(xi, applied).replace(lambd, lambd_L),\n",
    "    lambd(xi).diff(xi).subs(xi, applied).replace(lambd, lambd_L).doit()\n",
    "])"
   ]
  },
  {
   "cell_type": "markdown",
   "execution_count": 28,
   "metadata": {
    "lines_to_next_cell": 0
   },
   "source": [
    "The substitute into derivative way:"
   ]
  },
  {
   "cell_type": "code",
   "execution_count": 28,
   "metadata": {
    "execution": {
     "iopub.execute_input": "2020-11-03T20:52:41.673621Z",
     "iopub.status.busy": "2020-11-03T20:52:41.669345Z",
     "iopub.status.idle": "2020-11-03T20:52:41.731778Z",
     "shell.execute_reply": "2020-11-03T20:52:41.732916Z"
    }
   },
   "outputs": [
    {
     "data": {
      "text/latex": [
       "$\\displaystyle \\left. \\frac{d}{d \\xi} \\lambda{\\left(\\xi \\right)} \\right|_{\\substack{ \\xi={\\left( d \\mapsto \\sigma{\\left(d \\right)} \\right)}_{\\circ}\\left({\\left[\\begin{matrix}n_{11} & n_{12}\\\\n_{21} & n_{22}\\\\n_{31} & n_{32}\\end{matrix}\\right]}\\right) }}$"
      ],
      "text/plain": [
       "⎛d       ⎞│             ⎛⎡n₁₁  n₁₂⎤⎞\n",
       "⎜──(λ(ξ))⎟│             ⎜⎢        ⎥⎟\n",
       "⎝dξ      ⎠│ξ=(d ↦ σ(d))˳⎜⎢n₂₁  n₂₂⎥⎟\n",
       "                        ⎜⎢        ⎥⎟\n",
       "                        ⎝⎣n₃₁  n₃₂⎦⎠"
      ]
     },
     "metadata": {},
     "output_type": "display_data"
    },
    {
     "data": {
      "text/latex": [
       "$\\displaystyle \\left. \\frac{d}{d \\xi} \\lambda{\\left(\\xi \\right)} \\right|_{\\substack{ \\xi=\\left[\\begin{matrix}\\sigma{\\left(n_{11} \\right)} & \\sigma{\\left(n_{12} \\right)}\\\\\\sigma{\\left(n_{21} \\right)} & \\sigma{\\left(n_{22} \\right)}\\\\\\sigma{\\left(n_{31} \\right)} & \\sigma{\\left(n_{32} \\right)}\\end{matrix}\\right] }}$"
      ],
      "text/plain": [
       "⎛d       ⎞│  ⎡σ(n₁₁)  σ(n₁₂)⎤\n",
       "⎜──(λ(ξ))⎟│  ⎢              ⎥\n",
       "⎝dξ      ⎠│ξ=⎢σ(n₂₁)  σ(n₂₂)⎥\n",
       "             ⎢              ⎥\n",
       "             ⎣σ(n₃₁)  σ(n₃₂)⎦"
      ]
     },
     "metadata": {},
     "output_type": "display_data"
    },
    {
     "data": {
      "text/latex": [
       "$\\displaystyle \\left. \\frac{d}{d \\xi} \\left(\\xi_{0, 0} + \\xi_{0, 1} + \\xi_{1, 0} + \\xi_{1, 1} + \\xi_{2, 0} + \\xi_{2, 1}\\right) \\right|_{\\substack{ \\xi=\\left[\\begin{matrix}\\sigma{\\left(n_{11} \\right)} & \\sigma{\\left(n_{12} \\right)}\\\\\\sigma{\\left(n_{21} \\right)} & \\sigma{\\left(n_{22} \\right)}\\\\\\sigma{\\left(n_{31} \\right)} & \\sigma{\\left(n_{32} \\right)}\\end{matrix}\\right] }}$"
      ],
      "text/plain": [
       "⎛d                                                                        ⎞│  \n",
       "⎜──((ξ)[0, 0] + (ξ)[0, 1] + (ξ)[1, 0] + (ξ)[1, 1] + (ξ)[2, 0] + (ξ)[2, 1])⎟│  \n",
       "⎝dξ                                                                       ⎠│ξ=\n",
       "                                                                              \n",
       "                                                                              \n",
       "\n",
       "⎡σ(n₁₁)  σ(n₁₂)⎤\n",
       "⎢              ⎥\n",
       "⎢σ(n₂₁)  σ(n₂₂)⎥\n",
       "⎢              ⎥\n",
       "⎣σ(n₃₁)  σ(n₃₂)⎦"
      ]
     },
     "metadata": {},
     "output_type": "display_data"
    }
   ],
   "source": [
    "showGroup([\n",
    "    lambd(xi).diff(xi).subs(xi, unapplied),\n",
    "    lambd(xi).diff(xi).subs(xi, unapplied).replace(unapplied, applied),\n",
    "    # gives same expression as in dldx\n",
    "    lambd(xi).diff(xi).subs(xi, unapplied).replace(unapplied, applied).replace(lambd, lambd_L)\n",
    "])\n",
    "\n"
   ]
  },
  {
   "cell_type": "markdown",
   "execution_count": 29,
   "metadata": {},
   "source": [
    "The second part: $\\frac{\\partial N}{\\partial X} \\times \\frac{\\partial S}{\\partial N}$\n"
   ]
  },
  {
   "cell_type": "code",
   "execution_count": 29,
   "metadata": {
    "execution": {
     "iopub.execute_input": "2020-11-03T20:52:41.738119Z",
     "iopub.status.busy": "2020-11-03T20:52:41.736512Z",
     "iopub.status.idle": "2020-11-03T20:52:41.958400Z",
     "shell.execute_reply": "2020-11-03T20:52:41.959487Z"
    },
    "title": "codecell"
   },
   "outputs": [
    {
     "data": {
      "text/latex": [
       "$\\displaystyle X^{T} \\left[\\begin{matrix}\\frac{d}{d n_{11}} \\sigma{\\left(n_{11} \\right)} & \\frac{d}{d n_{12}} \\sigma{\\left(n_{12} \\right)}\\\\\\frac{d}{d n_{21}} \\sigma{\\left(n_{21} \\right)} & \\frac{d}{d n_{22}} \\sigma{\\left(n_{22} \\right)}\\\\\\frac{d}{d n_{31}} \\sigma{\\left(n_{31} \\right)} & \\frac{d}{d n_{32}} \\sigma{\\left(n_{32} \\right)}\\end{matrix}\\right]$"
      ],
      "text/plain": [
       "   ⎡ d             d          ⎤\n",
       "   ⎢────(σ(n₁₁))  ────(σ(n₁₂))⎥\n",
       "   ⎢dn₁₁          dn₁₂        ⎥\n",
       "   ⎢                          ⎥\n",
       " T ⎢ d             d          ⎥\n",
       "X ⋅⎢────(σ(n₂₁))  ────(σ(n₂₂))⎥\n",
       "   ⎢dn₂₁          dn₂₂        ⎥\n",
       "   ⎢                          ⎥\n",
       "   ⎢ d             d          ⎥\n",
       "   ⎢────(σ(n₃₁))  ────(σ(n₃₂))⎥\n",
       "   ⎣dn₃₁          dn₃₂        ⎦"
      ]
     },
     "metadata": {},
     "output_type": "display_data"
    },
    {
     "data": {
      "text/latex": [
       "$\\displaystyle \\left(\\left[\\begin{matrix}x_{11} & x_{12} & x_{13}\\\\x_{21} & x_{22} & x_{23}\\\\x_{31} & x_{32} & x_{33}\\end{matrix}\\right]\\right)^{T} \\left[\\begin{matrix}\\frac{d}{d n_{11}} \\sigma{\\left(n_{11} \\right)} & \\frac{d}{d n_{12}} \\sigma{\\left(n_{12} \\right)}\\\\\\frac{d}{d n_{21}} \\sigma{\\left(n_{21} \\right)} & \\frac{d}{d n_{22}} \\sigma{\\left(n_{22} \\right)}\\\\\\frac{d}{d n_{31}} \\sigma{\\left(n_{31} \\right)} & \\frac{d}{d n_{32}} \\sigma{\\left(n_{32} \\right)}\\end{matrix}\\right]$"
      ],
      "text/plain": [
       "                   ⎡ d             d          ⎤\n",
       "                   ⎢────(σ(n₁₁))  ────(σ(n₁₂))⎥\n",
       "                 T ⎢dn₁₁          dn₁₂        ⎥\n",
       "⎛⎡x₁₁  x₁₂  x₁₃⎤⎞  ⎢                          ⎥\n",
       "⎜⎢             ⎥⎟  ⎢ d             d          ⎥\n",
       "⎜⎢x₂₁  x₂₂  x₂₃⎥⎟ ⋅⎢────(σ(n₂₁))  ────(σ(n₂₂))⎥\n",
       "⎜⎢             ⎥⎟  ⎢dn₂₁          dn₂₂        ⎥\n",
       "⎝⎣x₃₁  x₃₂  x₃₃⎦⎠  ⎢                          ⎥\n",
       "                   ⎢ d             d          ⎥\n",
       "                   ⎢────(σ(n₃₁))  ────(σ(n₃₂))⎥\n",
       "                   ⎣dn₃₁          dn₃₂        ⎦"
      ]
     },
     "metadata": {},
     "output_type": "display_data"
    },
    {
     "data": {
      "text/latex": [
       "$\\displaystyle \\left[\\begin{matrix}x_{11} \\frac{d}{d n_{11}} \\sigma{\\left(n_{11} \\right)} + x_{21} \\frac{d}{d n_{21}} \\sigma{\\left(n_{21} \\right)} + x_{31} \\frac{d}{d n_{31}} \\sigma{\\left(n_{31} \\right)} & x_{11} \\frac{d}{d n_{12}} \\sigma{\\left(n_{12} \\right)} + x_{21} \\frac{d}{d n_{22}} \\sigma{\\left(n_{22} \\right)} + x_{31} \\frac{d}{d n_{32}} \\sigma{\\left(n_{32} \\right)}\\\\x_{12} \\frac{d}{d n_{11}} \\sigma{\\left(n_{11} \\right)} + x_{22} \\frac{d}{d n_{21}} \\sigma{\\left(n_{21} \\right)} + x_{32} \\frac{d}{d n_{31}} \\sigma{\\left(n_{31} \\right)} & x_{12} \\frac{d}{d n_{12}} \\sigma{\\left(n_{12} \\right)} + x_{22} \\frac{d}{d n_{22}} \\sigma{\\left(n_{22} \\right)} + x_{32} \\frac{d}{d n_{32}} \\sigma{\\left(n_{32} \\right)}\\\\x_{13} \\frac{d}{d n_{11}} \\sigma{\\left(n_{11} \\right)} + x_{23} \\frac{d}{d n_{21}} \\sigma{\\left(n_{21} \\right)} + x_{33} \\frac{d}{d n_{31}} \\sigma{\\left(n_{31} \\right)} & x_{13} \\frac{d}{d n_{12}} \\sigma{\\left(n_{12} \\right)} + x_{23} \\frac{d}{d n_{22}} \\sigma{\\left(n_{22} \\right)} + x_{33} \\frac{d}{d n_{32}} \\sigma{\\left(n_{32} \\right)}\\end{matrix}\\right]$"
      ],
      "text/plain": [
       "⎡     d                  d                  d                 d               \n",
       "⎢x₁₁⋅────(σ(n₁₁)) + x₂₁⋅────(σ(n₂₁)) + x₃₁⋅────(σ(n₃₁))  x₁₁⋅────(σ(n₁₂)) + x₂\n",
       "⎢    dn₁₁               dn₂₁               dn₃₁              dn₁₂             \n",
       "⎢                                                                             \n",
       "⎢     d                  d                  d                 d               \n",
       "⎢x₁₂⋅────(σ(n₁₁)) + x₂₂⋅────(σ(n₂₁)) + x₃₂⋅────(σ(n₃₁))  x₁₂⋅────(σ(n₁₂)) + x₂\n",
       "⎢    dn₁₁               dn₂₁               dn₃₁              dn₁₂             \n",
       "⎢                                                                             \n",
       "⎢     d                  d                  d                 d               \n",
       "⎢x₁₃⋅────(σ(n₁₁)) + x₂₃⋅────(σ(n₂₁)) + x₃₃⋅────(σ(n₃₁))  x₁₃⋅────(σ(n₁₂)) + x₂\n",
       "⎣    dn₁₁               dn₂₁               dn₃₁              dn₁₂             \n",
       "\n",
       "   d                  d          ⎤\n",
       "₁⋅────(σ(n₂₂)) + x₃₁⋅────(σ(n₃₂))⎥\n",
       "  dn₂₂               dn₃₂        ⎥\n",
       "                                 ⎥\n",
       "   d                  d          ⎥\n",
       "₂⋅────(σ(n₂₂)) + x₃₂⋅────(σ(n₃₂))⎥\n",
       "  dn₂₂               dn₃₂        ⎥\n",
       "                                 ⎥\n",
       "   d                  d          ⎥\n",
       "₃⋅────(σ(n₂₂)) + x₃₃⋅────(σ(n₃₂))⎥\n",
       "  dn₂₂               dn₃₂        ⎦"
      ]
     },
     "metadata": {},
     "output_type": "display_data"
    }
   ],
   "source": [
    "dN_dW_times_dS_dN = compose(sigmaApply, v)(A,B).replace(v, v_).replace(sigmaApply, sigmaApply_).diff(B).subs({A*B : vN(A,B)}).doit()\n",
    "\n",
    "showGroup([\n",
    "    dN_dW_times_dS_dN,\n",
    "    dN_dW_times_dS_dN.subs({A:X}), # replace won't work here\n",
    "    # Carrying out the multplication:\n",
    "    dN_dW_times_dS_dN.subs({A:X}).doit() # replace won't work here\n",
    "])"
   ]
  },
  {
   "cell_type": "code",
   "execution_count": 30,
   "metadata": {
    "execution": {
     "iopub.execute_input": "2020-11-03T20:52:41.964379Z",
     "iopub.status.busy": "2020-11-03T20:52:41.962848Z",
     "iopub.status.idle": "2020-11-03T20:52:42.120950Z",
     "shell.execute_reply": "2020-11-03T20:52:42.122059Z"
    }
   },
   "outputs": [
    {
     "data": {
      "text/latex": [
       "$\\displaystyle \\left[\\begin{matrix}\\frac{d}{d n_{11}} \\sigma{\\left(n_{11} \\right)} & \\frac{d}{d n_{12}} \\sigma{\\left(n_{12} \\right)}\\\\\\frac{d}{d n_{21}} \\sigma{\\left(n_{21} \\right)} & \\frac{d}{d n_{22}} \\sigma{\\left(n_{22} \\right)}\\\\\\frac{d}{d n_{31}} \\sigma{\\left(n_{31} \\right)} & \\frac{d}{d n_{32}} \\sigma{\\left(n_{32} \\right)}\\end{matrix}\\right] W^{T}$"
      ],
      "text/plain": [
       "⎡ d             d          ⎤   \n",
       "⎢────(σ(n₁₁))  ────(σ(n₁₂))⎥   \n",
       "⎢dn₁₁          dn₁₂        ⎥   \n",
       "⎢                          ⎥   \n",
       "⎢ d             d          ⎥  T\n",
       "⎢────(σ(n₂₁))  ────(σ(n₂₂))⎥⋅W \n",
       "⎢dn₂₁          dn₂₂        ⎥   \n",
       "⎢                          ⎥   \n",
       "⎢ d             d          ⎥   \n",
       "⎢────(σ(n₃₁))  ────(σ(n₃₂))⎥   \n",
       "⎣dn₃₁          dn₃₂        ⎦   "
      ]
     },
     "metadata": {},
     "output_type": "display_data"
    },
    {
     "data": {
      "text/latex": [
       "$\\displaystyle \\left[\\begin{matrix}\\frac{d}{d n_{11}} \\sigma{\\left(n_{11} \\right)} & \\frac{d}{d n_{12}} \\sigma{\\left(n_{12} \\right)}\\\\\\frac{d}{d n_{21}} \\sigma{\\left(n_{21} \\right)} & \\frac{d}{d n_{22}} \\sigma{\\left(n_{22} \\right)}\\\\\\frac{d}{d n_{31}} \\sigma{\\left(n_{31} \\right)} & \\frac{d}{d n_{32}} \\sigma{\\left(n_{32} \\right)}\\end{matrix}\\right] \\left(\\left[\\begin{matrix}w_{11} & w_{12}\\\\w_{21} & w_{22}\\\\w_{31} & w_{32}\\end{matrix}\\right]\\right)^{T}$"
      ],
      "text/plain": [
       "⎡ d             d          ⎤              \n",
       "⎢────(σ(n₁₁))  ────(σ(n₁₂))⎥              \n",
       "⎢dn₁₁          dn₁₂        ⎥             T\n",
       "⎢                          ⎥ ⎛⎡w₁₁  w₁₂⎤⎞ \n",
       "⎢ d             d          ⎥ ⎜⎢        ⎥⎟ \n",
       "⎢────(σ(n₂₁))  ────(σ(n₂₂))⎥⋅⎜⎢w₂₁  w₂₂⎥⎟ \n",
       "⎢dn₂₁          dn₂₂        ⎥ ⎜⎢        ⎥⎟ \n",
       "⎢                          ⎥ ⎝⎣w₃₁  w₃₂⎦⎠ \n",
       "⎢ d             d          ⎥              \n",
       "⎢────(σ(n₃₁))  ────(σ(n₃₂))⎥              \n",
       "⎣dn₃₁          dn₃₂        ⎦              "
      ]
     },
     "metadata": {},
     "output_type": "display_data"
    },
    {
     "data": {
      "text/latex": [
       "$\\displaystyle \\left[\\begin{matrix}w_{11} \\frac{d}{d n_{11}} \\sigma{\\left(n_{11} \\right)} + w_{12} \\frac{d}{d n_{12}} \\sigma{\\left(n_{12} \\right)} & w_{21} \\frac{d}{d n_{11}} \\sigma{\\left(n_{11} \\right)} + w_{22} \\frac{d}{d n_{12}} \\sigma{\\left(n_{12} \\right)} & w_{31} \\frac{d}{d n_{11}} \\sigma{\\left(n_{11} \\right)} + w_{32} \\frac{d}{d n_{12}} \\sigma{\\left(n_{12} \\right)}\\\\w_{11} \\frac{d}{d n_{21}} \\sigma{\\left(n_{21} \\right)} + w_{12} \\frac{d}{d n_{22}} \\sigma{\\left(n_{22} \\right)} & w_{21} \\frac{d}{d n_{21}} \\sigma{\\left(n_{21} \\right)} + w_{22} \\frac{d}{d n_{22}} \\sigma{\\left(n_{22} \\right)} & w_{31} \\frac{d}{d n_{21}} \\sigma{\\left(n_{21} \\right)} + w_{32} \\frac{d}{d n_{22}} \\sigma{\\left(n_{22} \\right)}\\\\w_{11} \\frac{d}{d n_{31}} \\sigma{\\left(n_{31} \\right)} + w_{12} \\frac{d}{d n_{32}} \\sigma{\\left(n_{32} \\right)} & w_{21} \\frac{d}{d n_{31}} \\sigma{\\left(n_{31} \\right)} + w_{22} \\frac{d}{d n_{32}} \\sigma{\\left(n_{32} \\right)} & w_{31} \\frac{d}{d n_{31}} \\sigma{\\left(n_{31} \\right)} + w_{32} \\frac{d}{d n_{32}} \\sigma{\\left(n_{32} \\right)}\\end{matrix}\\right]$"
      ],
      "text/plain": [
       "⎡     d                  d                 d                  d               \n",
       "⎢w₁₁⋅────(σ(n₁₁)) + w₁₂⋅────(σ(n₁₂))  w₂₁⋅────(σ(n₁₁)) + w₂₂⋅────(σ(n₁₂))  w₃₁\n",
       "⎢    dn₁₁               dn₁₂              dn₁₁               dn₁₂             \n",
       "⎢                                                                             \n",
       "⎢     d                  d                 d                  d               \n",
       "⎢w₁₁⋅────(σ(n₂₁)) + w₁₂⋅────(σ(n₂₂))  w₂₁⋅────(σ(n₂₁)) + w₂₂⋅────(σ(n₂₂))  w₃₁\n",
       "⎢    dn₂₁               dn₂₂              dn₂₁               dn₂₂             \n",
       "⎢                                                                             \n",
       "⎢     d                  d                 d                  d               \n",
       "⎢w₁₁⋅────(σ(n₃₁)) + w₁₂⋅────(σ(n₃₂))  w₂₁⋅────(σ(n₃₁)) + w₂₂⋅────(σ(n₃₂))  w₃₁\n",
       "⎣    dn₃₁               dn₃₂              dn₃₁               dn₃₂             \n",
       "\n",
       "  d                  d          ⎤\n",
       "⋅────(σ(n₁₁)) + w₃₂⋅────(σ(n₁₂))⎥\n",
       " dn₁₁               dn₁₂        ⎥\n",
       "                                ⎥\n",
       "  d                  d          ⎥\n",
       "⋅────(σ(n₂₁)) + w₃₂⋅────(σ(n₂₂))⎥\n",
       " dn₂₁               dn₂₂        ⎥\n",
       "                                ⎥\n",
       "  d                  d          ⎥\n",
       "⋅────(σ(n₃₁)) + w₃₂⋅────(σ(n₃₂))⎥\n",
       " dn₃₁               dn₃₂        ⎦"
      ]
     },
     "metadata": {},
     "output_type": "display_data"
    }
   ],
   "source": [
    "dN_dX_times_dS_dN = compose(sigmaApply, v)(A,B).replace(v, v_).replace(sigmaApply, sigmaApply_).diff(A).subs({A*B : vN(A,B)}).doit()\n",
    "\n",
    "showGroup([\n",
    "    dN_dX_times_dS_dN,\n",
    "    dN_dX_times_dS_dN.subs({B:W}), # replace won't work here\n",
    "    # Carrying out the multplication:\n",
    "    dN_dX_times_dS_dN.subs({B:W}).doit() # replace won't work here\n",
    "])\n",
    "\n",
    "\n"
   ]
  },
  {
   "cell_type": "code",
   "execution_count": 31,
   "metadata": {
    "execution": {
     "iopub.execute_input": "2020-11-03T20:52:42.127156Z",
     "iopub.status.busy": "2020-11-03T20:52:42.125597Z",
     "iopub.status.idle": "2020-11-03T20:52:42.158459Z",
     "shell.execute_reply": "2020-11-03T20:52:42.159531Z"
    },
    "lines_to_next_cell": 2,
    "title": "codecell"
   },
   "outputs": [
    {
     "data": {
      "text/latex": [
       "$\\displaystyle \\left[\\begin{matrix}1 & 1\\\\1 & 1\\\\1 & 1\\end{matrix}\\right]$"
      ],
      "text/plain": [
       "⎡1  1⎤\n",
       "⎢    ⎥\n",
       "⎢1  1⎥\n",
       "⎢    ⎥\n",
       "⎣1  1⎦"
      ]
     },
     "execution_count": 1,
     "metadata": {},
     "output_type": "execute_result"
    }
   ],
   "source": [
    "# THis seems right:\n",
    "dL_dS = lambd(Selem).replace(lambd, lambd_L).diff(Selem)\n",
    "# ANOTHER WAY: lambd(xi).diff(xi).subs(xi, applied).replace(lambd, lambd_L).doit()\n",
    "\n",
    "# THIS SEEMS WRONG : ??? how to tell for sure?\n",
    "#lambd(Selem).diff(Selem).replace(lambd, lambd_L).doit()\n",
    "\n",
    "dL_dS"
   ]
  },
  {
   "cell_type": "code",
   "execution_count": 32,
   "metadata": {
    "execution": {
     "iopub.execute_input": "2020-11-03T20:52:42.164316Z",
     "iopub.status.busy": "2020-11-03T20:52:42.162813Z",
     "iopub.status.idle": "2020-11-03T20:52:42.271272Z",
     "shell.execute_reply": "2020-11-03T20:52:42.272404Z"
    },
    "lines_to_next_cell": 2,
    "title": "codecell"
   },
   "outputs": [
    {
     "data": {
      "text/latex": [
       "$\\displaystyle \\left[\\begin{matrix}\\frac{d}{d n_{11}} \\sigma{\\left(n_{11} \\right)} & \\frac{d}{d n_{12}} \\sigma{\\left(n_{12} \\right)}\\\\\\frac{d}{d n_{21}} \\sigma{\\left(n_{21} \\right)} & \\frac{d}{d n_{22}} \\sigma{\\left(n_{22} \\right)}\\\\\\frac{d}{d n_{31}} \\sigma{\\left(n_{31} \\right)} & \\frac{d}{d n_{32}} \\sigma{\\left(n_{32} \\right)}\\end{matrix}\\right]$"
      ],
      "text/plain": [
       "⎡ d             d          ⎤\n",
       "⎢────(σ(n₁₁))  ────(σ(n₁₂))⎥\n",
       "⎢dn₁₁          dn₁₂        ⎥\n",
       "⎢                          ⎥\n",
       "⎢ d             d          ⎥\n",
       "⎢────(σ(n₂₁))  ────(σ(n₂₂))⎥\n",
       "⎢dn₂₁          dn₂₂        ⎥\n",
       "⎢                          ⎥\n",
       "⎢ d             d          ⎥\n",
       "⎢────(σ(n₃₁))  ────(σ(n₃₂))⎥\n",
       "⎣dn₃₁          dn₃₂        ⎦"
      ]
     },
     "metadata": {},
     "output_type": "display_data"
    },
    {
     "data": {
      "text/latex": [
       "$\\displaystyle {\\left( d \\mapsto \\frac{d}{d d} \\sigma{\\left(d \\right)} \\right)}_{\\circ}\\left({X W}\\right)$"
      ],
      "text/plain": [
       "⎛    d       ⎞      \n",
       "⎜d ↦ ──(σ(d))⎟˳(X⋅W)\n",
       "⎝    dd      ⎠      "
      ]
     },
     "metadata": {},
     "output_type": "display_data"
    }
   ],
   "source": [
    "\n",
    "dS_dN = compose(sigmaApply)(M).replace(sigmaApply, sigmaApply_).diff(M).subs({M : vN(A,B)}).doit()\n",
    "\n",
    "dS_dN_abstract = compose(sigmaApply)(M).replace(sigmaApply, sigmaApply_).diff(M).subs(M, v_(A,B))\n",
    "# ANOTHER WAY: sigmaApply_L(M).diff(M).subs({M : Nelem}).doit()\n",
    "# WRONG:\n",
    "#dS_dN = sigmaApply(Nelem).replace(sigmaApply, sigmaApply_).diff(Matrix(Nelem))\n",
    "showGroup([\n",
    "    dS_dN,\n",
    "    dS_dN_abstract\n",
    "])"
   ]
  },
  {
   "cell_type": "code",
   "execution_count": 33,
   "metadata": {
    "execution": {
     "iopub.execute_input": "2020-11-03T20:52:42.277474Z",
     "iopub.status.busy": "2020-11-03T20:52:42.275872Z",
     "iopub.status.idle": "2020-11-03T20:52:42.529790Z",
     "shell.execute_reply": "2020-11-03T20:52:42.530887Z"
    },
    "lines_to_next_cell": 2,
    "title": "codecell"
   },
   "outputs": [
    {
     "data": {
      "text/latex": [
       "$\\displaystyle X^{T} \\left[\\begin{matrix}\\frac{d}{d n_{11}} \\sigma{\\left(n_{11} \\right)} & \\frac{d}{d n_{12}} \\sigma{\\left(n_{12} \\right)}\\\\\\frac{d}{d n_{21}} \\sigma{\\left(n_{21} \\right)} & \\frac{d}{d n_{22}} \\sigma{\\left(n_{22} \\right)}\\\\\\frac{d}{d n_{31}} \\sigma{\\left(n_{31} \\right)} & \\frac{d}{d n_{32}} \\sigma{\\left(n_{32} \\right)}\\end{matrix}\\right]$"
      ],
      "text/plain": [
       "   ⎡ d             d          ⎤\n",
       "   ⎢────(σ(n₁₁))  ────(σ(n₁₂))⎥\n",
       "   ⎢dn₁₁          dn₁₂        ⎥\n",
       "   ⎢                          ⎥\n",
       " T ⎢ d             d          ⎥\n",
       "X ⋅⎢────(σ(n₂₁))  ────(σ(n₂₂))⎥\n",
       "   ⎢dn₂₁          dn₂₂        ⎥\n",
       "   ⎢                          ⎥\n",
       "   ⎢ d             d          ⎥\n",
       "   ⎢────(σ(n₃₁))  ────(σ(n₃₂))⎥\n",
       "   ⎣dn₃₁          dn₃₂        ⎦"
      ]
     },
     "metadata": {},
     "output_type": "display_data"
    },
    {
     "data": {
      "text/latex": [
       "$\\displaystyle X^{T} {\\left( d \\mapsto \\frac{d}{d d} \\sigma{\\left(d \\right)} \\right)}_{\\circ}\\left({X W}\\right)$"
      ],
      "text/plain": [
       " T ⎛    d       ⎞      \n",
       "X ⋅⎜d ↦ ──(σ(d))⎟˳(X⋅W)\n",
       "   ⎝    dd      ⎠      "
      ]
     },
     "metadata": {},
     "output_type": "display_data"
    },
    {
     "data": {
      "text/latex": [
       "$\\displaystyle \\left[\\begin{matrix}x_{11} \\frac{d}{d n_{11}} \\sigma{\\left(n_{11} \\right)} + x_{21} \\frac{d}{d n_{21}} \\sigma{\\left(n_{21} \\right)} + x_{31} \\frac{d}{d n_{31}} \\sigma{\\left(n_{31} \\right)} & x_{11} \\frac{d}{d n_{12}} \\sigma{\\left(n_{12} \\right)} + x_{21} \\frac{d}{d n_{22}} \\sigma{\\left(n_{22} \\right)} + x_{31} \\frac{d}{d n_{32}} \\sigma{\\left(n_{32} \\right)}\\\\x_{12} \\frac{d}{d n_{11}} \\sigma{\\left(n_{11} \\right)} + x_{22} \\frac{d}{d n_{21}} \\sigma{\\left(n_{21} \\right)} + x_{32} \\frac{d}{d n_{31}} \\sigma{\\left(n_{31} \\right)} & x_{12} \\frac{d}{d n_{12}} \\sigma{\\left(n_{12} \\right)} + x_{22} \\frac{d}{d n_{22}} \\sigma{\\left(n_{22} \\right)} + x_{32} \\frac{d}{d n_{32}} \\sigma{\\left(n_{32} \\right)}\\\\x_{13} \\frac{d}{d n_{11}} \\sigma{\\left(n_{11} \\right)} + x_{23} \\frac{d}{d n_{21}} \\sigma{\\left(n_{21} \\right)} + x_{33} \\frac{d}{d n_{31}} \\sigma{\\left(n_{31} \\right)} & x_{13} \\frac{d}{d n_{12}} \\sigma{\\left(n_{12} \\right)} + x_{23} \\frac{d}{d n_{22}} \\sigma{\\left(n_{22} \\right)} + x_{33} \\frac{d}{d n_{32}} \\sigma{\\left(n_{32} \\right)}\\end{matrix}\\right]$"
      ],
      "text/plain": [
       "⎡     d                  d                  d                 d               \n",
       "⎢x₁₁⋅────(σ(n₁₁)) + x₂₁⋅────(σ(n₂₁)) + x₃₁⋅────(σ(n₃₁))  x₁₁⋅────(σ(n₁₂)) + x₂\n",
       "⎢    dn₁₁               dn₂₁               dn₃₁              dn₁₂             \n",
       "⎢                                                                             \n",
       "⎢     d                  d                  d                 d               \n",
       "⎢x₁₂⋅────(σ(n₁₁)) + x₂₂⋅────(σ(n₂₁)) + x₃₂⋅────(σ(n₃₁))  x₁₂⋅────(σ(n₁₂)) + x₂\n",
       "⎢    dn₁₁               dn₂₁               dn₃₁              dn₁₂             \n",
       "⎢                                                                             \n",
       "⎢     d                  d                  d                 d               \n",
       "⎢x₁₃⋅────(σ(n₁₁)) + x₂₃⋅────(σ(n₂₁)) + x₃₃⋅────(σ(n₃₁))  x₁₃⋅────(σ(n₁₂)) + x₂\n",
       "⎣    dn₁₁               dn₂₁               dn₃₁              dn₁₂             \n",
       "\n",
       "   d                  d          ⎤\n",
       "₁⋅────(σ(n₂₂)) + x₃₁⋅────(σ(n₃₂))⎥\n",
       "  dn₂₂               dn₃₂        ⎥\n",
       "                                 ⎥\n",
       "   d                  d          ⎥\n",
       "₂⋅────(σ(n₂₂)) + x₃₂⋅────(σ(n₃₂))⎥\n",
       "  dn₂₂               dn₃₂        ⎥\n",
       "                                 ⎥\n",
       "   d                  d          ⎥\n",
       "₃⋅────(σ(n₂₂)) + x₃₃⋅────(σ(n₃₂))⎥\n",
       "  dn₂₂               dn₃₂        ⎦"
      ]
     },
     "metadata": {},
     "output_type": "display_data"
    },
    {
     "data": {
      "text/latex": [
       "$\\displaystyle \\left[\\begin{matrix}1 & 1\\\\1 & 1\\\\1 & 1\\end{matrix}\\right] \\circ \\left(X^{T} \\left[\\begin{matrix}\\frac{d}{d n_{11}} \\sigma{\\left(n_{11} \\right)} & \\frac{d}{d n_{12}} \\sigma{\\left(n_{12} \\right)}\\\\\\frac{d}{d n_{21}} \\sigma{\\left(n_{21} \\right)} & \\frac{d}{d n_{22}} \\sigma{\\left(n_{22} \\right)}\\\\\\frac{d}{d n_{31}} \\sigma{\\left(n_{31} \\right)} & \\frac{d}{d n_{32}} \\sigma{\\left(n_{32} \\right)}\\end{matrix}\\right]\\right)$"
      ],
      "text/plain": [
       "       ⎛   ⎡ d             d          ⎤⎞\n",
       "       ⎜   ⎢────(σ(n₁₁))  ────(σ(n₁₂))⎥⎟\n",
       "       ⎜   ⎢dn₁₁          dn₁₂        ⎥⎟\n",
       "⎡1  1⎤ ⎜   ⎢                          ⎥⎟\n",
       "⎢    ⎥ ⎜ T ⎢ d             d          ⎥⎟\n",
       "⎢1  1⎥∘⎜X ⋅⎢────(σ(n₂₁))  ────(σ(n₂₂))⎥⎟\n",
       "⎢    ⎥ ⎜   ⎢dn₂₁          dn₂₂        ⎥⎟\n",
       "⎣1  1⎦ ⎜   ⎢                          ⎥⎟\n",
       "       ⎜   ⎢ d             d          ⎥⎟\n",
       "       ⎜   ⎢────(σ(n₃₁))  ────(σ(n₃₂))⎥⎟\n",
       "       ⎝   ⎣dn₃₁          dn₃₂        ⎦⎠"
      ]
     },
     "metadata": {},
     "output_type": "display_data"
    },
    {
     "data": {
      "text/latex": [
       "$\\displaystyle \\left[\\begin{matrix}x_{11} \\frac{d}{d n_{11}} \\sigma{\\left(n_{11} \\right)} + x_{21} \\frac{d}{d n_{21}} \\sigma{\\left(n_{21} \\right)} + x_{31} \\frac{d}{d n_{31}} \\sigma{\\left(n_{31} \\right)} & x_{11} \\frac{d}{d n_{12}} \\sigma{\\left(n_{12} \\right)} + x_{21} \\frac{d}{d n_{22}} \\sigma{\\left(n_{22} \\right)} + x_{31} \\frac{d}{d n_{32}} \\sigma{\\left(n_{32} \\right)}\\\\x_{12} \\frac{d}{d n_{11}} \\sigma{\\left(n_{11} \\right)} + x_{22} \\frac{d}{d n_{21}} \\sigma{\\left(n_{21} \\right)} + x_{32} \\frac{d}{d n_{31}} \\sigma{\\left(n_{31} \\right)} & x_{12} \\frac{d}{d n_{12}} \\sigma{\\left(n_{12} \\right)} + x_{22} \\frac{d}{d n_{22}} \\sigma{\\left(n_{22} \\right)} + x_{32} \\frac{d}{d n_{32}} \\sigma{\\left(n_{32} \\right)}\\\\x_{13} \\frac{d}{d n_{11}} \\sigma{\\left(n_{11} \\right)} + x_{23} \\frac{d}{d n_{21}} \\sigma{\\left(n_{21} \\right)} + x_{33} \\frac{d}{d n_{31}} \\sigma{\\left(n_{31} \\right)} & x_{13} \\frac{d}{d n_{12}} \\sigma{\\left(n_{12} \\right)} + x_{23} \\frac{d}{d n_{22}} \\sigma{\\left(n_{22} \\right)} + x_{33} \\frac{d}{d n_{32}} \\sigma{\\left(n_{32} \\right)}\\end{matrix}\\right]$"
      ],
      "text/plain": [
       "⎡     d                  d                  d                 d               \n",
       "⎢x₁₁⋅────(σ(n₁₁)) + x₂₁⋅────(σ(n₂₁)) + x₃₁⋅────(σ(n₃₁))  x₁₁⋅────(σ(n₁₂)) + x₂\n",
       "⎢    dn₁₁               dn₂₁               dn₃₁              dn₁₂             \n",
       "⎢                                                                             \n",
       "⎢     d                  d                  d                 d               \n",
       "⎢x₁₂⋅────(σ(n₁₁)) + x₂₂⋅────(σ(n₂₁)) + x₃₂⋅────(σ(n₃₁))  x₁₂⋅────(σ(n₁₂)) + x₂\n",
       "⎢    dn₁₁               dn₂₁               dn₃₁              dn₁₂             \n",
       "⎢                                                                             \n",
       "⎢     d                  d                  d                 d               \n",
       "⎢x₁₃⋅────(σ(n₁₁)) + x₂₃⋅────(σ(n₂₁)) + x₃₃⋅────(σ(n₃₁))  x₁₃⋅────(σ(n₁₂)) + x₂\n",
       "⎣    dn₁₁               dn₂₁               dn₃₁              dn₁₂             \n",
       "\n",
       "   d                  d          ⎤\n",
       "₁⋅────(σ(n₂₂)) + x₃₁⋅────(σ(n₃₂))⎥\n",
       "  dn₂₂               dn₃₂        ⎥\n",
       "                                 ⎥\n",
       "   d                  d          ⎥\n",
       "₂⋅────(σ(n₂₂)) + x₃₂⋅────(σ(n₃₂))⎥\n",
       "  dn₂₂               dn₃₂        ⎥\n",
       "                                 ⎥\n",
       "   d                  d          ⎥\n",
       "₃⋅────(σ(n₂₂)) + x₃₃⋅────(σ(n₃₂))⎥\n",
       "  dn₂₂               dn₃₂        ⎦"
      ]
     },
     "metadata": {},
     "output_type": "display_data"
    }
   ],
   "source": [
    "from sympy import HadamardProduct\n",
    "\n",
    "dN_dW = A.transpose()\n",
    "\n",
    "dS_dW = dN_dW * dS_dN\n",
    "dS_dW_abstract = compose(sigmaApply, v)(A,B).replace(v, v_).replace(sigmaApply, sigmaApply_).diff(B)\n",
    "\n",
    "dL_dW = HadamardProduct(dL_dS, dS_dW)\n",
    "dL_dW_hadamard = dL_dW.subs(A,X).doit()\n",
    "\n",
    "assert dL_dW == HadamardProduct(dL_dS, dN_dW * dS_dN )\n",
    "\n",
    "showGroup([\n",
    "    dS_dW, \n",
    "    dS_dW_abstract, \n",
    "    dS_dW.subs(A, X).doit(), \n",
    "    dL_dW, \n",
    "    dL_dW_hadamard\n",
    "])"
   ]
  },
  {
   "cell_type": "code",
   "execution_count": 34,
   "metadata": {
    "execution": {
     "iopub.execute_input": "2020-11-03T20:52:42.535778Z",
     "iopub.status.busy": "2020-11-03T20:52:42.534269Z",
     "iopub.status.idle": "2020-11-03T20:52:42.745775Z",
     "shell.execute_reply": "2020-11-03T20:52:42.746871Z"
    }
   },
   "outputs": [
    {
     "data": {
      "text/latex": [
       "$\\displaystyle \\left[\\begin{matrix}\\frac{d}{d n_{11}} \\sigma{\\left(n_{11} \\right)} & \\frac{d}{d n_{12}} \\sigma{\\left(n_{12} \\right)}\\\\\\frac{d}{d n_{21}} \\sigma{\\left(n_{21} \\right)} & \\frac{d}{d n_{22}} \\sigma{\\left(n_{22} \\right)}\\\\\\frac{d}{d n_{31}} \\sigma{\\left(n_{31} \\right)} & \\frac{d}{d n_{32}} \\sigma{\\left(n_{32} \\right)}\\end{matrix}\\right] W^{T}$"
      ],
      "text/plain": [
       "⎡ d             d          ⎤   \n",
       "⎢────(σ(n₁₁))  ────(σ(n₁₂))⎥   \n",
       "⎢dn₁₁          dn₁₂        ⎥   \n",
       "⎢                          ⎥   \n",
       "⎢ d             d          ⎥  T\n",
       "⎢────(σ(n₂₁))  ────(σ(n₂₂))⎥⋅W \n",
       "⎢dn₂₁          dn₂₂        ⎥   \n",
       "⎢                          ⎥   \n",
       "⎢ d             d          ⎥   \n",
       "⎢────(σ(n₃₁))  ────(σ(n₃₂))⎥   \n",
       "⎣dn₃₁          dn₃₂        ⎦   "
      ]
     },
     "metadata": {},
     "output_type": "display_data"
    },
    {
     "data": {
      "text/latex": [
       "$\\displaystyle \\left[\\begin{matrix}\\frac{d}{d n_{11}} \\sigma{\\left(n_{11} \\right)} & \\frac{d}{d n_{12}} \\sigma{\\left(n_{12} \\right)}\\\\\\frac{d}{d n_{21}} \\sigma{\\left(n_{21} \\right)} & \\frac{d}{d n_{22}} \\sigma{\\left(n_{22} \\right)}\\\\\\frac{d}{d n_{31}} \\sigma{\\left(n_{31} \\right)} & \\frac{d}{d n_{32}} \\sigma{\\left(n_{32} \\right)}\\end{matrix}\\right] \\left(\\left[\\begin{matrix}w_{11} & w_{12}\\\\w_{21} & w_{22}\\\\w_{31} & w_{32}\\end{matrix}\\right]\\right)^{T}$"
      ],
      "text/plain": [
       "⎡ d             d          ⎤              \n",
       "⎢────(σ(n₁₁))  ────(σ(n₁₂))⎥              \n",
       "⎢dn₁₁          dn₁₂        ⎥             T\n",
       "⎢                          ⎥ ⎛⎡w₁₁  w₁₂⎤⎞ \n",
       "⎢ d             d          ⎥ ⎜⎢        ⎥⎟ \n",
       "⎢────(σ(n₂₁))  ────(σ(n₂₂))⎥⋅⎜⎢w₂₁  w₂₂⎥⎟ \n",
       "⎢dn₂₁          dn₂₂        ⎥ ⎜⎢        ⎥⎟ \n",
       "⎢                          ⎥ ⎝⎣w₃₁  w₃₂⎦⎠ \n",
       "⎢ d             d          ⎥              \n",
       "⎢────(σ(n₃₁))  ────(σ(n₃₂))⎥              \n",
       "⎣dn₃₁          dn₃₂        ⎦              "
      ]
     },
     "metadata": {},
     "output_type": "display_data"
    },
    {
     "data": {
      "text/latex": [
       "$\\displaystyle {\\left( d \\mapsto \\frac{d}{d d} \\sigma{\\left(d \\right)} \\right)}_{\\circ}\\left({X W}\\right) W^{T}$"
      ],
      "text/plain": [
       "⎛    d       ⎞        T\n",
       "⎜d ↦ ──(σ(d))⎟˳(X⋅W)⋅W \n",
       "⎝    dd      ⎠         "
      ]
     },
     "metadata": {},
     "output_type": "display_data"
    },
    {
     "data": {
      "text/latex": [
       "$\\displaystyle \\left[\\begin{matrix}1 & 1\\\\1 & 1\\\\1 & 1\\end{matrix}\\right] \\circ \\left[\\begin{matrix}\\frac{d}{d n_{11}} \\sigma{\\left(n_{11} \\right)} & \\frac{d}{d n_{12}} \\sigma{\\left(n_{12} \\right)}\\\\\\frac{d}{d n_{21}} \\sigma{\\left(n_{21} \\right)} & \\frac{d}{d n_{22}} \\sigma{\\left(n_{22} \\right)}\\\\\\frac{d}{d n_{31}} \\sigma{\\left(n_{31} \\right)} & \\frac{d}{d n_{32}} \\sigma{\\left(n_{32} \\right)}\\end{matrix}\\right]$"
      ],
      "text/plain": [
       "       ⎡ d             d          ⎤\n",
       "       ⎢────(σ(n₁₁))  ────(σ(n₁₂))⎥\n",
       "       ⎢dn₁₁          dn₁₂        ⎥\n",
       "⎡1  1⎤ ⎢                          ⎥\n",
       "⎢    ⎥ ⎢ d             d          ⎥\n",
       "⎢1  1⎥∘⎢────(σ(n₂₁))  ────(σ(n₂₂))⎥\n",
       "⎢    ⎥ ⎢dn₂₁          dn₂₂        ⎥\n",
       "⎣1  1⎦ ⎢                          ⎥\n",
       "       ⎢ d             d          ⎥\n",
       "       ⎢────(σ(n₃₁))  ────(σ(n₃₂))⎥\n",
       "       ⎣dn₃₁          dn₃₂        ⎦"
      ]
     },
     "metadata": {},
     "output_type": "display_data"
    },
    {
     "data": {
      "text/latex": [
       "$\\displaystyle \\left[\\begin{matrix}\\frac{d}{d n_{11}} \\sigma{\\left(n_{11} \\right)} & \\frac{d}{d n_{12}} \\sigma{\\left(n_{12} \\right)}\\\\\\frac{d}{d n_{21}} \\sigma{\\left(n_{21} \\right)} & \\frac{d}{d n_{22}} \\sigma{\\left(n_{22} \\right)}\\\\\\frac{d}{d n_{31}} \\sigma{\\left(n_{31} \\right)} & \\frac{d}{d n_{32}} \\sigma{\\left(n_{32} \\right)}\\end{matrix}\\right] W^{T}$"
      ],
      "text/plain": [
       "⎡ d             d          ⎤   \n",
       "⎢────(σ(n₁₁))  ────(σ(n₁₂))⎥   \n",
       "⎢dn₁₁          dn₁₂        ⎥   \n",
       "⎢                          ⎥   \n",
       "⎢ d             d          ⎥  T\n",
       "⎢────(σ(n₂₁))  ────(σ(n₂₂))⎥⋅W \n",
       "⎢dn₂₁          dn₂₂        ⎥   \n",
       "⎢                          ⎥   \n",
       "⎢ d             d          ⎥   \n",
       "⎢────(σ(n₃₁))  ────(σ(n₃₂))⎥   \n",
       "⎣dn₃₁          dn₃₂        ⎦   "
      ]
     },
     "metadata": {},
     "output_type": "display_data"
    },
    {
     "data": {
      "text/latex": [
       "$\\displaystyle \\left[\\begin{matrix}w_{11} \\frac{d}{d n_{11}} \\sigma{\\left(n_{11} \\right)} + w_{12} \\frac{d}{d n_{12}} \\sigma{\\left(n_{12} \\right)} & w_{21} \\frac{d}{d n_{11}} \\sigma{\\left(n_{11} \\right)} + w_{22} \\frac{d}{d n_{12}} \\sigma{\\left(n_{12} \\right)} & w_{31} \\frac{d}{d n_{11}} \\sigma{\\left(n_{11} \\right)} + w_{32} \\frac{d}{d n_{12}} \\sigma{\\left(n_{12} \\right)}\\\\w_{11} \\frac{d}{d n_{21}} \\sigma{\\left(n_{21} \\right)} + w_{12} \\frac{d}{d n_{22}} \\sigma{\\left(n_{22} \\right)} & w_{21} \\frac{d}{d n_{21}} \\sigma{\\left(n_{21} \\right)} + w_{22} \\frac{d}{d n_{22}} \\sigma{\\left(n_{22} \\right)} & w_{31} \\frac{d}{d n_{21}} \\sigma{\\left(n_{21} \\right)} + w_{32} \\frac{d}{d n_{22}} \\sigma{\\left(n_{22} \\right)}\\\\w_{11} \\frac{d}{d n_{31}} \\sigma{\\left(n_{31} \\right)} + w_{12} \\frac{d}{d n_{32}} \\sigma{\\left(n_{32} \\right)} & w_{21} \\frac{d}{d n_{31}} \\sigma{\\left(n_{31} \\right)} + w_{22} \\frac{d}{d n_{32}} \\sigma{\\left(n_{32} \\right)} & w_{31} \\frac{d}{d n_{31}} \\sigma{\\left(n_{31} \\right)} + w_{32} \\frac{d}{d n_{32}} \\sigma{\\left(n_{32} \\right)}\\end{matrix}\\right]$"
      ],
      "text/plain": [
       "⎡     d                  d                 d                  d               \n",
       "⎢w₁₁⋅────(σ(n₁₁)) + w₁₂⋅────(σ(n₁₂))  w₂₁⋅────(σ(n₁₁)) + w₂₂⋅────(σ(n₁₂))  w₃₁\n",
       "⎢    dn₁₁               dn₁₂              dn₁₁               dn₁₂             \n",
       "⎢                                                                             \n",
       "⎢     d                  d                 d                  d               \n",
       "⎢w₁₁⋅────(σ(n₂₁)) + w₁₂⋅────(σ(n₂₂))  w₂₁⋅────(σ(n₂₁)) + w₂₂⋅────(σ(n₂₂))  w₃₁\n",
       "⎢    dn₂₁               dn₂₂              dn₂₁               dn₂₂             \n",
       "⎢                                                                             \n",
       "⎢     d                  d                 d                  d               \n",
       "⎢w₁₁⋅────(σ(n₃₁)) + w₁₂⋅────(σ(n₃₂))  w₂₁⋅────(σ(n₃₁)) + w₂₂⋅────(σ(n₃₂))  w₃₁\n",
       "⎣    dn₃₁               dn₃₂              dn₃₁               dn₃₂             \n",
       "\n",
       "  d                  d          ⎤\n",
       "⋅────(σ(n₁₁)) + w₃₂⋅────(σ(n₁₂))⎥\n",
       " dn₁₁               dn₁₂        ⎥\n",
       "                                ⎥\n",
       "  d                  d          ⎥\n",
       "⋅────(σ(n₂₁)) + w₃₂⋅────(σ(n₂₂))⎥\n",
       " dn₂₁               dn₂₂        ⎥\n",
       "                                ⎥\n",
       "  d                  d          ⎥\n",
       "⋅────(σ(n₃₁)) + w₃₂⋅────(σ(n₃₂))⎥\n",
       " dn₃₁               dn₃₂        ⎦"
      ]
     },
     "metadata": {},
     "output_type": "display_data"
    }
   ],
   "source": [
    "dN_dX = B.transpose()\n",
    "\n",
    "dS_dX = dS_dN * dN_dX\n",
    "dS_dX_abstract = compose(sigmaApply, v)(A,B).replace(v, v_).replace(sigmaApply, sigmaApply_).diff(A)\n",
    "\n",
    "dL_dN = HadamardProduct(dL_dS, dS_dN)\n",
    "\n",
    "dL_dX = dL_dN * dN_dX #).subs(B, W).doit()\n",
    "dL_dX_hadamard = dL_dX.subs(B, W).doit()\n",
    "\n",
    "assert dL_dX == HadamardProduct(dL_dS, dS_dN) * dN_dX\n",
    "\n",
    "showGroup([\n",
    "    dS_dX, \n",
    "    dS_dX.subs(B, W),\n",
    "    dS_dX_abstract, \n",
    "    dL_dN, \n",
    "#    dS_dX.subs(B, W).doit(), \n",
    "    dL_dX, \n",
    "    dL_dX_hadamard\n",
    "])"
   ]
  },
  {
   "cell_type": "markdown",
   "execution_count": 35,
   "metadata": {
    "lines_to_next_cell": 0
   },
   "source": [
    "$$\n",
    "\\begin{aligned}\n",
    "\\frac{\\partial L}{\\partial X} &= \\bigg( \\frac{\\partial L}{\\partial S} \\odot  \\frac{\\partial S}{\\partial N} \\bigg) \\times \\frac{\\partial N}{\\partial X}  \\\\\n",
    "&= \\bigg( \\frac{\\partial L}{\\partial S} \\odot \\frac{\\partial S}{\\partial N} \\bigg) \\times W^T \n",
    "\\end{aligned}\n",
    "$$\n",
    "where $\\odot$ signifies the Hadamard product and $\\times$ is matrix multiplication."
   ]
  },
  {
   "cell_type": "code",
   "execution_count": 35,
   "metadata": {
    "execution": {
     "iopub.execute_input": "2020-11-03T20:52:42.752783Z",
     "iopub.status.busy": "2020-11-03T20:52:42.750917Z",
     "iopub.status.idle": "2020-11-03T20:52:42.862200Z",
     "shell.execute_reply": "2020-11-03T20:52:42.863346Z"
    },
    "lines_to_next_cell": 0
   },
   "outputs": [
    {
     "data": {
      "text/latex": [
       "$\\displaystyle \\left. \\frac{d}{d \\xi_{1}} \\lambda{\\left(\\xi_{1} \\right)} \\right|_{\\substack{ \\xi_{1}={\\left( d \\mapsto \\sigma{\\left(d \\right)} \\right)}_{\\circ}\\left({X W}\\right) }} {\\left( d \\mapsto \\frac{d}{d d} \\sigma{\\left(d \\right)} \\right)}_{\\circ}\\left({X W}\\right) W^{T}$"
      ],
      "text/plain": [
       "⎛ d        ⎞│                    ⎛    d       ⎞        T\n",
       "⎜───(λ(ξ₁))⎟│                   ⋅⎜d ↦ ──(σ(d))⎟˳(X⋅W)⋅W \n",
       "⎝dξ₁       ⎠│ξ₁=(d ↦ σ(d))˳(X⋅W) ⎝    dd      ⎠         "
      ]
     },
     "metadata": {},
     "output_type": "display_data"
    },
    {
     "data": {
      "text/latex": [
       "$\\displaystyle \\left. \\frac{d}{d \\xi_{1}} \\lambda{\\left(\\xi_{1} \\right)} \\right|_{\\substack{ \\xi_{1}={\\left( d \\mapsto \\sigma{\\left(d \\right)} \\right)}_{\\circ}\\left({\\left[\\begin{matrix}n_{11} & n_{12}\\\\n_{21} & n_{22}\\\\n_{31} & n_{32}\\end{matrix}\\right]}\\right) }} \\left[\\begin{matrix}\\frac{d}{d n_{11}} \\sigma{\\left(n_{11} \\right)} & \\frac{d}{d n_{12}} \\sigma{\\left(n_{12} \\right)}\\\\\\frac{d}{d n_{21}} \\sigma{\\left(n_{21} \\right)} & \\frac{d}{d n_{22}} \\sigma{\\left(n_{22} \\right)}\\\\\\frac{d}{d n_{31}} \\sigma{\\left(n_{31} \\right)} & \\frac{d}{d n_{32}} \\sigma{\\left(n_{32} \\right)}\\end{matrix}\\right] W^{T}$"
      ],
      "text/plain": [
       "                                        ⎡ d             d          ⎤   \n",
       "                                        ⎢────(σ(n₁₁))  ────(σ(n₁₂))⎥   \n",
       "                                        ⎢dn₁₁          dn₁₂        ⎥   \n",
       "                                        ⎢                          ⎥   \n",
       "⎛ d        ⎞│              ⎛⎡n₁₁  n₁₂⎤⎞ ⎢ d             d          ⎥  T\n",
       "⎜───(λ(ξ₁))⎟│              ⎜⎢        ⎥⎟⋅⎢────(σ(n₂₁))  ────(σ(n₂₂))⎥⋅W \n",
       "⎝dξ₁       ⎠│ξ₁=(d ↦ σ(d))˳⎜⎢n₂₁  n₂₂⎥⎟ ⎢dn₂₁          dn₂₂        ⎥   \n",
       "                           ⎜⎢        ⎥⎟ ⎢                          ⎥   \n",
       "                           ⎝⎣n₃₁  n₃₂⎦⎠ ⎢ d             d          ⎥   \n",
       "                                        ⎢────(σ(n₃₁))  ────(σ(n₃₂))⎥   \n",
       "                                        ⎣dn₃₁          dn₃₂        ⎦   "
      ]
     },
     "metadata": {},
     "output_type": "display_data"
    },
    {
     "data": {
      "text/latex": [
       "$\\displaystyle \\left[\\begin{matrix}\\frac{d}{d n_{11}} \\sigma{\\left(n_{11} \\right)} & \\frac{d}{d n_{12}} \\sigma{\\left(n_{12} \\right)}\\\\\\frac{d}{d n_{21}} \\sigma{\\left(n_{21} \\right)} & \\frac{d}{d n_{22}} \\sigma{\\left(n_{22} \\right)}\\\\\\frac{d}{d n_{31}} \\sigma{\\left(n_{31} \\right)} & \\frac{d}{d n_{32}} \\sigma{\\left(n_{32} \\right)}\\end{matrix}\\right] W^{T}$"
      ],
      "text/plain": [
       "⎡ d             d          ⎤   \n",
       "⎢────(σ(n₁₁))  ────(σ(n₁₂))⎥   \n",
       "⎢dn₁₁          dn₁₂        ⎥   \n",
       "⎢                          ⎥   \n",
       "⎢ d             d          ⎥  T\n",
       "⎢────(σ(n₂₁))  ────(σ(n₂₂))⎥⋅W \n",
       "⎢dn₂₁          dn₂₂        ⎥   \n",
       "⎢                          ⎥   \n",
       "⎢ d             d          ⎥   \n",
       "⎢────(σ(n₃₁))  ────(σ(n₃₂))⎥   \n",
       "⎣dn₃₁          dn₃₂        ⎦   "
      ]
     },
     "metadata": {},
     "output_type": "display_data"
    },
    {
     "data": {
      "text/latex": [
       "$\\displaystyle \\left[\\begin{matrix}w_{11} \\frac{d}{d n_{11}} \\sigma{\\left(n_{11} \\right)} + w_{12} \\frac{d}{d n_{12}} \\sigma{\\left(n_{12} \\right)} & w_{21} \\frac{d}{d n_{11}} \\sigma{\\left(n_{11} \\right)} + w_{22} \\frac{d}{d n_{12}} \\sigma{\\left(n_{12} \\right)} & w_{31} \\frac{d}{d n_{11}} \\sigma{\\left(n_{11} \\right)} + w_{32} \\frac{d}{d n_{12}} \\sigma{\\left(n_{12} \\right)}\\\\w_{11} \\frac{d}{d n_{21}} \\sigma{\\left(n_{21} \\right)} + w_{12} \\frac{d}{d n_{22}} \\sigma{\\left(n_{22} \\right)} & w_{21} \\frac{d}{d n_{21}} \\sigma{\\left(n_{21} \\right)} + w_{22} \\frac{d}{d n_{22}} \\sigma{\\left(n_{22} \\right)} & w_{31} \\frac{d}{d n_{21}} \\sigma{\\left(n_{21} \\right)} + w_{32} \\frac{d}{d n_{22}} \\sigma{\\left(n_{22} \\right)}\\\\w_{11} \\frac{d}{d n_{31}} \\sigma{\\left(n_{31} \\right)} + w_{12} \\frac{d}{d n_{32}} \\sigma{\\left(n_{32} \\right)} & w_{21} \\frac{d}{d n_{31}} \\sigma{\\left(n_{31} \\right)} + w_{22} \\frac{d}{d n_{32}} \\sigma{\\left(n_{32} \\right)} & w_{31} \\frac{d}{d n_{31}} \\sigma{\\left(n_{31} \\right)} + w_{32} \\frac{d}{d n_{32}} \\sigma{\\left(n_{32} \\right)}\\end{matrix}\\right]$"
      ],
      "text/plain": [
       "⎡     d                  d                 d                  d               \n",
       "⎢w₁₁⋅────(σ(n₁₁)) + w₁₂⋅────(σ(n₁₂))  w₂₁⋅────(σ(n₁₁)) + w₂₂⋅────(σ(n₁₂))  w₃₁\n",
       "⎢    dn₁₁               dn₁₂              dn₁₁               dn₁₂             \n",
       "⎢                                                                             \n",
       "⎢     d                  d                 d                  d               \n",
       "⎢w₁₁⋅────(σ(n₂₁)) + w₁₂⋅────(σ(n₂₂))  w₂₁⋅────(σ(n₂₁)) + w₂₂⋅────(σ(n₂₂))  w₃₁\n",
       "⎢    dn₂₁               dn₂₂              dn₂₁               dn₂₂             \n",
       "⎢                                                                             \n",
       "⎢     d                  d                 d                  d               \n",
       "⎢w₁₁⋅────(σ(n₃₁)) + w₁₂⋅────(σ(n₃₂))  w₂₁⋅────(σ(n₃₁)) + w₂₂⋅────(σ(n₃₂))  w₃₁\n",
       "⎣    dn₃₁               dn₃₂              dn₃₁               dn₃₂             \n",
       "\n",
       "  d                  d          ⎤\n",
       "⋅────(σ(n₁₁)) + w₃₂⋅────(σ(n₁₂))⎥\n",
       " dn₁₁               dn₁₂        ⎥\n",
       "                                ⎥\n",
       "  d                  d          ⎥\n",
       "⋅────(σ(n₂₁)) + w₃₂⋅────(σ(n₂₂))⎥\n",
       " dn₂₁               dn₂₂        ⎥\n",
       "                                ⎥\n",
       "  d                  d          ⎥\n",
       "⋅────(σ(n₃₁)) + w₃₂⋅────(σ(n₃₂))⎥\n",
       " dn₃₁               dn₃₂        ⎦"
      ]
     },
     "metadata": {},
     "output_type": "display_data"
    }
   ],
   "source": [
    "showGroup([\n",
    "    dL_dX_abstract, \n",
    "    dL_dX_step, \n",
    "    dL_dX, \n",
    "    dL_dX_hadamard\n",
    "])"
   ]
  },
  {
   "cell_type": "markdown",
   "execution_count": 36,
   "metadata": {
    "lines_to_next_cell": 0
   },
   "source": [
    "$$\n",
    "\\begin{aligned}\n",
    "\\frac{\\partial L}{\\partial W} &= \\frac{\\partial L}{\\partial S} \\odot \\bigg( \\frac{\\partial N}{\\partial W} \\times \\frac{\\partial S}{\\partial N} \\bigg) \\\\\n",
    "&= \\frac{\\partial L}{\\partial S} \\odot \\bigg( X^T \\times  \\frac{\\partial S}{\\partial N} \\bigg)\n",
    "\\end{aligned}\n",
    "$$\n",
    "where $\\odot$ signifies the Hadamard product and $\\times$ is matrix multiplication."
   ]
  },
  {
   "cell_type": "code",
   "execution_count": 36,
   "metadata": {
    "execution": {
     "iopub.execute_input": "2020-11-03T20:52:42.873468Z",
     "iopub.status.busy": "2020-11-03T20:52:42.866854Z",
     "iopub.status.idle": "2020-11-03T20:52:42.979877Z",
     "shell.execute_reply": "2020-11-03T20:52:42.981068Z"
    }
   },
   "outputs": [
    {
     "data": {
      "text/latex": [
       "$\\displaystyle \\left. \\frac{d}{d \\xi_{1}} \\lambda{\\left(\\xi_{1} \\right)} \\right|_{\\substack{ \\xi_{1}={\\left( d \\mapsto \\sigma{\\left(d \\right)} \\right)}_{\\circ}\\left({X W}\\right) }} X^{T} {\\left( d \\mapsto \\frac{d}{d d} \\sigma{\\left(d \\right)} \\right)}_{\\circ}\\left({X W}\\right)$"
      ],
      "text/plain": [
       "⎛ d        ⎞│                     T ⎛    d       ⎞      \n",
       "⎜───(λ(ξ₁))⎟│                   ⋅X ⋅⎜d ↦ ──(σ(d))⎟˳(X⋅W)\n",
       "⎝dξ₁       ⎠│ξ₁=(d ↦ σ(d))˳(X⋅W)    ⎝    dd      ⎠      "
      ]
     },
     "metadata": {},
     "output_type": "display_data"
    },
    {
     "data": {
      "text/latex": [
       "$\\displaystyle \\left. \\frac{d}{d \\xi_{1}} \\lambda{\\left(\\xi_{1} \\right)} \\right|_{\\substack{ \\xi_{1}={\\left( d \\mapsto \\sigma{\\left(d \\right)} \\right)}_{\\circ}\\left({\\left[\\begin{matrix}n_{11} & n_{12}\\\\n_{21} & n_{22}\\\\n_{31} & n_{32}\\end{matrix}\\right]}\\right) }} X^{T} \\left[\\begin{matrix}\\frac{d}{d n_{11}} \\sigma{\\left(n_{11} \\right)} & \\frac{d}{d n_{12}} \\sigma{\\left(n_{12} \\right)}\\\\\\frac{d}{d n_{21}} \\sigma{\\left(n_{21} \\right)} & \\frac{d}{d n_{22}} \\sigma{\\left(n_{22} \\right)}\\\\\\frac{d}{d n_{31}} \\sigma{\\left(n_{31} \\right)} & \\frac{d}{d n_{32}} \\sigma{\\left(n_{32} \\right)}\\end{matrix}\\right]$"
      ],
      "text/plain": [
       "                                           ⎡ d             d          ⎤\n",
       "                                           ⎢────(σ(n₁₁))  ────(σ(n₁₂))⎥\n",
       "                                           ⎢dn₁₁          dn₁₂        ⎥\n",
       "                                           ⎢                          ⎥\n",
       "⎛ d        ⎞│              ⎛⎡n₁₁  n₁₂⎤⎞  T ⎢ d             d          ⎥\n",
       "⎜───(λ(ξ₁))⎟│              ⎜⎢        ⎥⎟⋅X ⋅⎢────(σ(n₂₁))  ────(σ(n₂₂))⎥\n",
       "⎝dξ₁       ⎠│ξ₁=(d ↦ σ(d))˳⎜⎢n₂₁  n₂₂⎥⎟    ⎢dn₂₁          dn₂₂        ⎥\n",
       "                           ⎜⎢        ⎥⎟    ⎢                          ⎥\n",
       "                           ⎝⎣n₃₁  n₃₂⎦⎠    ⎢ d             d          ⎥\n",
       "                                           ⎢────(σ(n₃₁))  ────(σ(n₃₂))⎥\n",
       "                                           ⎣dn₃₁          dn₃₂        ⎦"
      ]
     },
     "metadata": {},
     "output_type": "display_data"
    },
    {
     "data": {
      "text/latex": [
       "$\\displaystyle \\left[\\begin{matrix}1 & 1\\\\1 & 1\\\\1 & 1\\end{matrix}\\right] \\circ \\left(X^{T} \\left[\\begin{matrix}\\frac{d}{d n_{11}} \\sigma{\\left(n_{11} \\right)} & \\frac{d}{d n_{12}} \\sigma{\\left(n_{12} \\right)}\\\\\\frac{d}{d n_{21}} \\sigma{\\left(n_{21} \\right)} & \\frac{d}{d n_{22}} \\sigma{\\left(n_{22} \\right)}\\\\\\frac{d}{d n_{31}} \\sigma{\\left(n_{31} \\right)} & \\frac{d}{d n_{32}} \\sigma{\\left(n_{32} \\right)}\\end{matrix}\\right]\\right)$"
      ],
      "text/plain": [
       "       ⎛   ⎡ d             d          ⎤⎞\n",
       "       ⎜   ⎢────(σ(n₁₁))  ────(σ(n₁₂))⎥⎟\n",
       "       ⎜   ⎢dn₁₁          dn₁₂        ⎥⎟\n",
       "⎡1  1⎤ ⎜   ⎢                          ⎥⎟\n",
       "⎢    ⎥ ⎜ T ⎢ d             d          ⎥⎟\n",
       "⎢1  1⎥∘⎜X ⋅⎢────(σ(n₂₁))  ────(σ(n₂₂))⎥⎟\n",
       "⎢    ⎥ ⎜   ⎢dn₂₁          dn₂₂        ⎥⎟\n",
       "⎣1  1⎦ ⎜   ⎢                          ⎥⎟\n",
       "       ⎜   ⎢ d             d          ⎥⎟\n",
       "       ⎜   ⎢────(σ(n₃₁))  ────(σ(n₃₂))⎥⎟\n",
       "       ⎝   ⎣dn₃₁          dn₃₂        ⎦⎠"
      ]
     },
     "metadata": {},
     "output_type": "display_data"
    },
    {
     "data": {
      "text/latex": [
       "$\\displaystyle \\left[\\begin{matrix}x_{11} \\frac{d}{d n_{11}} \\sigma{\\left(n_{11} \\right)} + x_{21} \\frac{d}{d n_{21}} \\sigma{\\left(n_{21} \\right)} + x_{31} \\frac{d}{d n_{31}} \\sigma{\\left(n_{31} \\right)} & x_{11} \\frac{d}{d n_{12}} \\sigma{\\left(n_{12} \\right)} + x_{21} \\frac{d}{d n_{22}} \\sigma{\\left(n_{22} \\right)} + x_{31} \\frac{d}{d n_{32}} \\sigma{\\left(n_{32} \\right)}\\\\x_{12} \\frac{d}{d n_{11}} \\sigma{\\left(n_{11} \\right)} + x_{22} \\frac{d}{d n_{21}} \\sigma{\\left(n_{21} \\right)} + x_{32} \\frac{d}{d n_{31}} \\sigma{\\left(n_{31} \\right)} & x_{12} \\frac{d}{d n_{12}} \\sigma{\\left(n_{12} \\right)} + x_{22} \\frac{d}{d n_{22}} \\sigma{\\left(n_{22} \\right)} + x_{32} \\frac{d}{d n_{32}} \\sigma{\\left(n_{32} \\right)}\\\\x_{13} \\frac{d}{d n_{11}} \\sigma{\\left(n_{11} \\right)} + x_{23} \\frac{d}{d n_{21}} \\sigma{\\left(n_{21} \\right)} + x_{33} \\frac{d}{d n_{31}} \\sigma{\\left(n_{31} \\right)} & x_{13} \\frac{d}{d n_{12}} \\sigma{\\left(n_{12} \\right)} + x_{23} \\frac{d}{d n_{22}} \\sigma{\\left(n_{22} \\right)} + x_{33} \\frac{d}{d n_{32}} \\sigma{\\left(n_{32} \\right)}\\end{matrix}\\right]$"
      ],
      "text/plain": [
       "⎡     d                  d                  d                 d               \n",
       "⎢x₁₁⋅────(σ(n₁₁)) + x₂₁⋅────(σ(n₂₁)) + x₃₁⋅────(σ(n₃₁))  x₁₁⋅────(σ(n₁₂)) + x₂\n",
       "⎢    dn₁₁               dn₂₁               dn₃₁              dn₁₂             \n",
       "⎢                                                                             \n",
       "⎢     d                  d                  d                 d               \n",
       "⎢x₁₂⋅────(σ(n₁₁)) + x₂₂⋅────(σ(n₂₁)) + x₃₂⋅────(σ(n₃₁))  x₁₂⋅────(σ(n₁₂)) + x₂\n",
       "⎢    dn₁₁               dn₂₁               dn₃₁              dn₁₂             \n",
       "⎢                                                                             \n",
       "⎢     d                  d                  d                 d               \n",
       "⎢x₁₃⋅────(σ(n₁₁)) + x₂₃⋅────(σ(n₂₁)) + x₃₃⋅────(σ(n₃₁))  x₁₃⋅────(σ(n₁₂)) + x₂\n",
       "⎣    dn₁₁               dn₂₁               dn₃₁              dn₁₂             \n",
       "\n",
       "   d                  d          ⎤\n",
       "₁⋅────(σ(n₂₂)) + x₃₁⋅────(σ(n₃₂))⎥\n",
       "  dn₂₂               dn₃₂        ⎥\n",
       "                                 ⎥\n",
       "   d                  d          ⎥\n",
       "₂⋅────(σ(n₂₂)) + x₃₂⋅────(σ(n₃₂))⎥\n",
       "  dn₂₂               dn₃₂        ⎥\n",
       "                                 ⎥\n",
       "   d                  d          ⎥\n",
       "₃⋅────(σ(n₂₂)) + x₃₃⋅────(σ(n₃₂))⎥\n",
       "  dn₂₂               dn₃₂        ⎦"
      ]
     },
     "metadata": {},
     "output_type": "display_data"
    }
   ],
   "source": [
    "showGroup([\n",
    "    dL_dW_abstract, \n",
    "    dL_dW_step, \n",
    "    dL_dW, \n",
    "    dL_dW_hadamard\n",
    "])"
   ]
  },
  {
   "cell_type": "code",
   "execution_count": 37,
   "metadata": {
    "execution": {
     "iopub.execute_input": "2020-11-03T20:52:42.986974Z",
     "iopub.status.busy": "2020-11-03T20:52:42.985492Z",
     "iopub.status.idle": "2020-11-03T20:52:43.016411Z",
     "shell.execute_reply": "2020-11-03T20:52:43.017526Z"
    },
    "lines_to_next_cell": 0,
    "title": "codecell"
   },
   "outputs": [
    {
     "data": {
      "text/latex": [
       "$\\displaystyle \\left(\\sigma_{apply}{\\left(\\nu{\\left(X,W \\right)} \\right)}\\right)_{0, 0} + \\left(\\sigma_{apply}{\\left(\\nu{\\left(X,W \\right)} \\right)}\\right)_{0, 1} + \\left(\\sigma_{apply}{\\left(\\nu{\\left(X,W \\right)} \\right)}\\right)_{1, 0} + \\left(\\sigma_{apply}{\\left(\\nu{\\left(X,W \\right)} \\right)}\\right)_{1, 1} + \\left(\\sigma_{apply}{\\left(\\nu{\\left(X,W \\right)} \\right)}\\right)_{2, 0} + \\left(\\sigma_{apply}{\\left(\\nu{\\left(X,W \\right)} \\right)}\\right)_{2, 1}$"
      ],
      "text/plain": [
       "(σ_apply(ν(X, W)))[0, 0] + (σ_apply(ν(X, W)))[0, 1] + (σ_apply(ν(X, W)))[1, 0]\n",
       " + (σ_apply(ν(X, W)))[1, 1] + (σ_apply(ν(X, W)))[2, 0] + (σ_apply(ν(X, W)))[2,\n",
       " 1]"
      ]
     },
     "execution_count": 1,
     "metadata": {},
     "output_type": "execute_result"
    }
   ],
   "source": [
    "compose(lambd, sigmaApply, v)(A,B).replace(lambd, lambd_L)"
   ]
  },
  {
   "cell_type": "code",
   "execution_count": 38,
   "metadata": {
    "execution": {
     "iopub.execute_input": "2020-11-03T20:52:43.022335Z",
     "iopub.status.busy": "2020-11-03T20:52:43.020848Z",
     "iopub.status.idle": "2020-11-03T20:52:43.052296Z",
     "shell.execute_reply": "2020-11-03T20:52:43.053853Z"
    },
    "lines_to_next_cell": 0,
    "title": "codecell"
   },
   "outputs": [
    {
     "data": {
      "text/latex": [
       "$\\displaystyle \\left(\\sigma_{apply}{\\left(X W \\right)}\\right)_{0, 0} + \\left(\\sigma_{apply}{\\left(X W \\right)}\\right)_{0, 1} + \\left(\\sigma_{apply}{\\left(X W \\right)}\\right)_{1, 0} + \\left(\\sigma_{apply}{\\left(X W \\right)}\\right)_{1, 1} + \\left(\\sigma_{apply}{\\left(X W \\right)}\\right)_{2, 0} + \\left(\\sigma_{apply}{\\left(X W \\right)}\\right)_{2, 1}$"
      ],
      "text/plain": [
       "(σ_apply(X⋅W))[0, 0] + (σ_apply(X⋅W))[0, 1] + (σ_apply(X⋅W))[1, 0] + (σ_apply(\n",
       "X⋅W))[1, 1] + (σ_apply(X⋅W))[2, 0] + (σ_apply(X⋅W))[2, 1]"
      ]
     },
     "execution_count": 1,
     "metadata": {},
     "output_type": "execute_result"
    }
   ],
   "source": [
    "compose(lambd, sigmaApply, v)(A,B).replace(v,v_).subs({lambd:lambd_L})#.subs({sigmaApply : sigmaApply_L})"
   ]
  },
  {
   "cell_type": "code",
   "execution_count": 39,
   "metadata": {
    "execution": {
     "iopub.execute_input": "2020-11-03T20:52:43.060361Z",
     "iopub.status.busy": "2020-11-03T20:52:43.057802Z",
     "iopub.status.idle": "2020-11-03T20:52:43.088567Z",
     "shell.execute_reply": "2020-11-03T20:52:43.089642Z"
    },
    "lines_to_next_cell": 0,
    "title": "codecell"
   },
   "outputs": [
    {
     "data": {
      "text/latex": [
       "$\\displaystyle {\\left( d \\mapsto \\sigma{\\left(d \\right)} \\right)}_{\\circ}\\left({X W}\\right)_{0, 0} + {\\left( d \\mapsto \\sigma{\\left(d \\right)} \\right)}_{\\circ}\\left({X W}\\right)_{0, 1} + {\\left( d \\mapsto \\sigma{\\left(d \\right)} \\right)}_{\\circ}\\left({X W}\\right)_{1, 0} + {\\left( d \\mapsto \\sigma{\\left(d \\right)} \\right)}_{\\circ}\\left({X W}\\right)_{1, 1} + {\\left( d \\mapsto \\sigma{\\left(d \\right)} \\right)}_{\\circ}\\left({X W}\\right)_{2, 0} + {\\left( d \\mapsto \\sigma{\\left(d \\right)} \\right)}_{\\circ}\\left({X W}\\right)_{2, 1}$"
      ],
      "text/plain": [
       "((d ↦ σ(d))˳(X⋅W))[0, 0] + ((d ↦ σ(d))˳(X⋅W))[0, 1] + ((d ↦ σ(d))˳(X⋅W))[1, 0]\n",
       " + ((d ↦ σ(d))˳(X⋅W))[1, 1] + ((d ↦ σ(d))˳(X⋅W))[2, 0] + ((d ↦ σ(d))˳(X⋅W))[2,\n",
       " 1]"
      ]
     },
     "execution_count": 1,
     "metadata": {},
     "output_type": "execute_result"
    }
   ],
   "source": [
    "compose(lambd, sigmaApply, v)(A,B).replace(v,v_).replace(sigmaApply, sigmaApply_).replace(lambd, lambd_L)"
   ]
  },
  {
   "cell_type": "code",
   "execution_count": 40,
   "metadata": {
    "execution": {
     "iopub.execute_input": "2020-11-03T20:52:43.094402Z",
     "iopub.status.busy": "2020-11-03T20:52:43.092937Z",
     "iopub.status.idle": "2020-11-03T20:52:43.143411Z",
     "shell.execute_reply": "2020-11-03T20:52:43.144555Z"
    },
    "title": "codecell"
   },
   "outputs": [
    {
     "data": {
      "text/latex": [
       "$\\displaystyle {\\left( d \\mapsto \\sigma{\\left(d \\right)} \\right)}_{\\circ}\\left({X W}\\right)_{0, 0} + {\\left( d \\mapsto \\sigma{\\left(d \\right)} \\right)}_{\\circ}\\left({X W}\\right)_{0, 1} + {\\left( d \\mapsto \\sigma{\\left(d \\right)} \\right)}_{\\circ}\\left({X W}\\right)_{1, 0} + {\\left( d \\mapsto \\sigma{\\left(d \\right)} \\right)}_{\\circ}\\left({X W}\\right)_{1, 1} + {\\left( d \\mapsto \\sigma{\\left(d \\right)} \\right)}_{\\circ}\\left({X W}\\right)_{2, 0} + {\\left( d \\mapsto \\sigma{\\left(d \\right)} \\right)}_{\\circ}\\left({X W}\\right)_{2, 1}$"
      ],
      "text/plain": [
       "((d ↦ σ(d))˳(X⋅W))[0, 0] + ((d ↦ σ(d))˳(X⋅W))[0, 1] + ((d ↦ σ(d))˳(X⋅W))[1, 0]\n",
       " + ((d ↦ σ(d))˳(X⋅W))[1, 1] + ((d ↦ σ(d))˳(X⋅W))[2, 0] + ((d ↦ σ(d))˳(X⋅W))[2,\n",
       " 1]"
      ]
     },
     "execution_count": 1,
     "metadata": {},
     "output_type": "execute_result"
    }
   ],
   "source": [
    "compose(lambd, sigmaApply, v)(A,B).replace(lambd, lambd_L).replace(v, v_).replace(sigmaApply, sigmaApply_)"
   ]
  },
  {
   "cell_type": "code",
   "execution_count": 41,
   "metadata": {
    "execution": {
     "iopub.execute_input": "2020-11-03T20:52:43.149958Z",
     "iopub.status.busy": "2020-11-03T20:52:43.148215Z",
     "iopub.status.idle": "2020-11-03T20:52:43.340795Z",
     "shell.execute_reply": "2020-11-03T20:52:43.341921Z"
    },
    "title": "codecell"
   },
   "outputs": [
    {
     "data": {
      "text/latex": [
       "$\\displaystyle \\sigma{\\left(W_{0, 0} X_{0, 0} + W_{1, 0} X_{0, 1} + W_{2, 0} X_{0, 2} \\right)} + \\sigma{\\left(W_{0, 0} X_{1, 0} + W_{1, 0} X_{1, 1} + W_{2, 0} X_{1, 2} \\right)} + \\sigma{\\left(W_{0, 0} X_{2, 0} + W_{1, 0} X_{2, 1} + W_{2, 0} X_{2, 2} \\right)} + \\sigma{\\left(W_{0, 1} X_{0, 0} + W_{1, 1} X_{0, 1} + W_{2, 1} X_{0, 2} \\right)} + \\sigma{\\left(W_{0, 1} X_{1, 0} + W_{1, 1} X_{1, 1} + W_{2, 1} X_{1, 2} \\right)} + \\sigma{\\left(W_{0, 1} X_{2, 0} + W_{1, 1} X_{2, 1} + W_{2, 1} X_{2, 2} \\right)}$"
      ],
      "text/plain": [
       "σ(W₀₀⋅X₀₀ + W₁₀⋅X₀₁ + W₂₀⋅X₀₂) + σ(W₀₀⋅X₁₀ + W₁₀⋅X₁₁ + W₂₀⋅X₁₂) + σ(W₀₀⋅X₂₀ + \n",
       "W₁₀⋅X₂₁ + W₂₀⋅X₂₂) + σ(W₀₁⋅X₀₀ + W₁₁⋅X₀₁ + W₂₁⋅X₀₂) + σ(W₀₁⋅X₁₀ + W₁₁⋅X₁₁ + W₂\n",
       "₁⋅X₁₂) + σ(W₀₁⋅X₂₀ + W₁₁⋅X₂₁ + W₂₁⋅X₂₂)"
      ]
     },
     "execution_count": 1,
     "metadata": {},
     "output_type": "execute_result"
    }
   ],
   "source": [
    "\n",
    "compose(lambd, sigmaApply, v)(A,B).replace(v,v_).replace(sigmaApply, sigmaApply_).replace(lambd, lambd_L).doit()"
   ]
  },
  {
   "cell_type": "code",
   "execution_count": 42,
   "metadata": {
    "execution": {
     "iopub.execute_input": "2020-11-03T20:52:43.347022Z",
     "iopub.status.busy": "2020-11-03T20:52:43.345485Z",
     "iopub.status.idle": "2020-11-03T20:52:43.387558Z",
     "shell.execute_reply": "2020-11-03T20:52:43.388719Z"
    },
    "lines_to_next_cell": 2
   },
   "outputs": [
    {
     "data": {
      "text/latex": [
       "$\\displaystyle \\sigma{\\left(w_{11} x_{11} + w_{21} x_{12} + w_{31} x_{13} \\right)} + \\sigma{\\left(w_{11} x_{21} + w_{21} x_{22} + w_{31} x_{23} \\right)} + \\sigma{\\left(w_{11} x_{31} + w_{21} x_{32} + w_{31} x_{33} \\right)} + \\sigma{\\left(w_{12} x_{11} + w_{22} x_{12} + w_{32} x_{13} \\right)} + \\sigma{\\left(w_{12} x_{21} + w_{22} x_{22} + w_{32} x_{23} \\right)} + \\sigma{\\left(w_{12} x_{31} + w_{22} x_{32} + w_{32} x_{33} \\right)}$"
      ],
      "text/plain": [
       "σ(w₁₁⋅x₁₁ + w₂₁⋅x₁₂ + w₃₁⋅x₁₃) + σ(w₁₁⋅x₂₁ + w₂₁⋅x₂₂ + w₃₁⋅x₂₃) + σ(w₁₁⋅x₃₁ + \n",
       "w₂₁⋅x₃₂ + w₃₁⋅x₃₃) + σ(w₁₂⋅x₁₁ + w₂₂⋅x₁₂ + w₃₂⋅x₁₃) + σ(w₁₂⋅x₂₁ + w₂₂⋅x₂₂ + w₃\n",
       "₂⋅x₂₃) + σ(w₁₂⋅x₃₁ + w₂₂⋅x₃₂ + w₃₂⋅x₃₃)"
      ]
     },
     "execution_count": 1,
     "metadata": {},
     "output_type": "execute_result"
    }
   ],
   "source": [
    "# Alternative to the above: using the lower case matrix element names rather than upper case (from MatrixSymbol)\n",
    "compose(lambd, sigmaApply, v)(A, B).replace(v, vN).replace(sigmaApply, sigmaApply_).replace(lambd, lambd_).subs(elemToSpecD)"
   ]
  },
  {
   "cell_type": "code",
   "execution_count": 43,
   "metadata": {
    "execution": {
     "iopub.execute_input": "2020-11-03T20:52:43.397301Z",
     "iopub.status.busy": "2020-11-03T20:52:43.392271Z",
     "iopub.status.idle": "2020-11-03T20:52:43.456195Z",
     "shell.execute_reply": "2020-11-03T20:52:43.457369Z"
    },
    "lines_to_next_cell": 0,
    "title": "codecell"
   },
   "outputs": [
    {
     "data": {
      "text/latex": [
       "$\\displaystyle \\left. \\frac{d}{d \\xi_{1}} \\sigma_{apply}{\\left(\\xi_{1} \\right)} \\right|_{\\substack{ \\xi_{1}=X W }} \\frac{\\partial}{\\partial \\sigma_{apply}{\\left(X W \\right)}} \\lambda{\\left(\\sigma_{apply}{\\left(X W \\right)} \\right)} \\frac{\\partial}{\\partial W} X W$"
      ],
      "text/plain": [
       "⎛ d              ⎞│             ∂                        ∂      \n",
       "⎜───(σ_apply(ξ₁))⎟│      ⋅─────────────(λ(σ_apply(X⋅W)))⋅──(X⋅W)\n",
       "⎝dξ₁             ⎠│ξ₁=X⋅W ∂σ_apply(X⋅W)                  ∂W     "
      ]
     },
     "execution_count": 1,
     "metadata": {},
     "output_type": "execute_result"
    }
   ],
   "source": [
    "compose(lambd, sigmaApply, v)(A,B).replace(v,v_).diff(B).doit()#replace(sigmaApply, sigmaApply_)#.replace(lambd, lambd_L).diff(B)"
   ]
  },
  {
   "cell_type": "code",
   "execution_count": 44,
   "metadata": {
    "execution": {
     "iopub.execute_input": "2020-11-03T20:52:43.462222Z",
     "iopub.status.busy": "2020-11-03T20:52:43.460716Z",
     "iopub.status.idle": "2020-11-03T20:52:43.530664Z",
     "shell.execute_reply": "2020-11-03T20:52:43.531768Z"
    },
    "lines_to_next_cell": 0,
    "title": "codecell"
   },
   "outputs": [
    {
     "data": {
      "text/latex": [
       "$\\displaystyle \\frac{\\partial}{\\partial \\sigma_{apply}{\\left(X W \\right)}} \\left(\\left(\\sigma_{apply}{\\left(X W \\right)}\\right)_{0, 0} + \\left(\\sigma_{apply}{\\left(X W \\right)}\\right)_{0, 1} + \\left(\\sigma_{apply}{\\left(X W \\right)}\\right)_{1, 0} + \\left(\\sigma_{apply}{\\left(X W \\right)}\\right)_{1, 1} + \\left(\\sigma_{apply}{\\left(X W \\right)}\\right)_{2, 0} + \\left(\\sigma_{apply}{\\left(X W \\right)}\\right)_{2, 1}\\right) \\left. \\frac{d}{d \\xi_{1}} \\sigma_{apply}{\\left(\\xi_{1} \\right)} \\right|_{\\substack{ \\xi_{1}=X W }} \\frac{\\partial}{\\partial W} X W$"
      ],
      "text/plain": [
       "      ∂                                                                       \n",
       "─────────────((σ_apply(X⋅W))[0, 0] + (σ_apply(X⋅W))[0, 1] + (σ_apply(X⋅W))[1, \n",
       "∂σ_apply(X⋅W)                                                                 \n",
       "\n",
       "                                                                         ⎛ d  \n",
       "0] + (σ_apply(X⋅W))[1, 1] + (σ_apply(X⋅W))[2, 0] + (σ_apply(X⋅W))[2, 1])⋅⎜───(\n",
       "                                                                         ⎝dξ₁ \n",
       "\n",
       "            ⎞│       ∂      \n",
       "σ_apply(ξ₁))⎟│      ⋅──(X⋅W)\n",
       "            ⎠│ξ₁=X⋅W ∂W     "
      ]
     },
     "execution_count": 1,
     "metadata": {},
     "output_type": "execute_result"
    }
   ],
   "source": [
    "compose(lambd, sigmaApply, v)(A,B).replace(v,v_).diff(B).replace(lambd, lambd_L)\n",
    "\n"
   ]
  },
  {
   "cell_type": "markdown",
   "execution_count": 45,
   "metadata": {},
   "source": []
  }
 ],
 "metadata": {
  "jupytext": {
   "cell_metadata_filter": "title,-all"
  },
  "kernelspec": {
   "display_name": "pymatrix_env",
   "language": "python",
   "name": "pymatrix_env"
  },
  "language_info": {
   "codemirror_mode": {
    "name": "ipython",
    "version": 3
   },
   "file_extension": ".py",
   "mimetype": "text/x-python",
   "name": "python",
   "nbconvert_exporter": "python",
   "pygments_lexer": "ipython3",
   "version": "3.7.8"
  }
 },
 "nbformat": 4,
 "nbformat_minor": 4
}
