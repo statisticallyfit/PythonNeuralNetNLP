{
 "cells": [
  {
   "cell_type": "markdown",
   "execution_count": 1,
   "metadata": {},
   "source": [
    "``` {.python}\n",
    "from IPython.display import Markdown\n",
    "\n",
    "from sympy import Matrix, Symbol, derive_by_array, Lambda, symbols, Derivative, diff\n",
    "from sympy.abc import x, y, i, j, a, b\n",
    "```\n"
   ]
  },
  {
   "cell_type": "markdown",
   "execution_count": 1,
   "metadata": {},
   "source": [
    "``` {.python}\n",
    "# Defining variable-element matrices $X \\in \\mathbb{R}^{n \\times m}$ and $W \\in \\mathbb{R}^{m \\times p}$:\n",
    "```\n"
   ]
  },
  {
   "cell_type": "markdown",
   "execution_count": 1,
   "metadata": {},
   "source": [
    "``` {.python}\n",
    "def var(letter: str, i: int, j: int) -> Symbol:\n",
    "    letter_ij = Symbol('{}_{}{}'.format(letter, i+1, j+1), is_commutative=True)\n",
    "    return letter_ij\n",
    "\n",
    "\n",
    "n,m,p = 3,3,2\n",
    "\n",
    "X = Matrix(n, m, lambda i,j : var('x', i, j)); X\n",
    "```\n"
   ]
  },
  {
   "cell_type": "markdown",
   "execution_count": 1,
   "metadata": {},
   "source": [
    "```{=latex}\n",
    "$\\displaystyle \\left[\\begin{matrix}x_{11} & x_{12} & x_{13}\\\\x_{21} & x_{22} & x_{23}\\\\x_{31} & x_{32} & x_{33}\\end{matrix}\\right]$\n",
    "```\n"
   ]
  },
  {
   "cell_type": "markdown",
   "execution_count": 1,
   "metadata": {},
   "source": [
    "``` {.python}\n",
    "W = Matrix(m, p, lambda i,j : var('w', i, j)); W\n",
    "```\n"
   ]
  },
  {
   "cell_type": "markdown",
   "execution_count": 1,
   "metadata": {},
   "source": [
    "```{=latex}\n",
    "$\\displaystyle \\left[\\begin{matrix}w_{11} & w_{12}\\\\w_{21} & w_{22}\\\\w_{31} & w_{32}\\end{matrix}\\right]$\n",
    "```\n"
   ]
  },
  {
   "cell_type": "markdown",
   "execution_count": 1,
   "metadata": {},
   "source": [
    "``` {.python}\n",
    "# Defining $N = \\nu(X, W) = X \\times W$\n",
    "#\n",
    "# * $\\nu : \\mathbb{R}^{(n \\times m) \\times (m \\times p)} \\rightarrow \\mathbb{R}^{n \\times p}$\n",
    "# * $N \\in \\mathbb{R}^{n \\times p}$\n",
    "```\n"
   ]
  },
  {
   "cell_type": "markdown",
   "execution_count": 1,
   "metadata": {},
   "source": [
    "``` {.python}\n",
    "v = Lambda((a,b), a*b); v\n",
    "```\n"
   ]
  },
  {
   "cell_type": "markdown",
   "execution_count": 1,
   "metadata": {},
   "source": [
    "```{=latex}\n",
    "$\\displaystyle \\left( \\left( a, \\  b\\right) \\mapsto a b \\right)$\n",
    "```\n"
   ]
  },
  {
   "cell_type": "markdown",
   "execution_count": 1,
   "metadata": {},
   "source": [
    "``` {.python}\n",
    "N = v(X, W); N\n",
    "```\n"
   ]
  },
  {
   "cell_type": "markdown",
   "execution_count": 1,
   "metadata": {},
   "source": [
    "```{=latex}\n",
    "$\\displaystyle \\left[\\begin{matrix}w_{11} x_{11} + w_{21} x_{12} + w_{31} x_{13} & w_{12} x_{11} + w_{22} x_{12} + w_{32} x_{13}\\\\w_{11} x_{21} + w_{21} x_{22} + w_{31} x_{23} & w_{12} x_{21} + w_{22} x_{22} + w_{32} x_{23}\\\\w_{11} x_{31} + w_{21} x_{32} + w_{31} x_{33} & w_{12} x_{31} + w_{22} x_{32} + w_{32} x_{33}\\end{matrix}\\right]$\n",
    "```\n"
   ]
  },
  {
   "cell_type": "markdown",
   "execution_count": 1,
   "metadata": {},
   "source": [
    "``` {.python}\n",
    "# Defining $S = \\sigma_{\\text{apply}}(N) = \\sigma_{\\text{apply}}(\\nu(X,W)) = \\sigma_\\text{apply}(X \\times W) = \\Big \\{ \\sigma(XW_{ij}) \\Big\\}$.\n",
    "#\n",
    "#\n",
    "# Assume that $\\sigma_{\\text{apply}} : \\mathbb{R}^{n \\times p} \\rightarrow \\mathbb{R}^{n \\times p}$ while $\\sigma : \\mathbb{R} \\rightarrow \\mathbb{R}$, so the function $\\sigma_{\\text{apply}}$ takes in a matrix and returns a matrix while the simple $\\sigma$ acts on the individual elements $N_{ij} = XW_{ij}$ in the matrix argument $N$ of $\\sigma_{\\text{apply}}$.\n",
    "#\n",
    "# * $\\sigma : \\mathbb{R} \\rightarrow \\mathbb{R}$\n",
    "# * $\\sigma_\\text{apply} : \\mathbb{R}^{n \\times p} \\rightarrow \\mathbb{R}^{n \\times p}$\n",
    "# * $S \\in \\mathbb{R}^{n \\times p}$\n",
    "```\n"
   ]
  },
  {
   "cell_type": "markdown",
   "execution_count": 1,
   "metadata": {},
   "source": [
    "``` {.python}\n",
    "from sympy import Function\n",
    "\n",
    "# Nvec = Symbol('N', commutative=False)\n",
    "\n",
    "sigma = Function('sigma')\n",
    "sigma(N[0,0])\n",
    "```\n"
   ]
  },
  {
   "cell_type": "markdown",
   "execution_count": 1,
   "metadata": {},
   "source": [
    "```{=latex}\n",
    "$\\displaystyle \\sigma{\\left(w_{11} x_{11} + w_{21} x_{12} + w_{31} x_{13} \\right)}$\n",
    "```\n"
   ]
  },
  {
   "cell_type": "markdown",
   "execution_count": 1,
   "metadata": {},
   "source": [
    "``` {.python}\n",
    "# way 1 of declaring S\n",
    "S = N.applyfunc(sigma); S\n",
    "```\n"
   ]
  },
  {
   "cell_type": "markdown",
   "execution_count": 1,
   "metadata": {},
   "source": [
    "```{=latex}\n",
    "$\\displaystyle \\left[\\begin{matrix}\\sigma{\\left(w_{11} x_{11} + w_{21} x_{12} + w_{31} x_{13} \\right)} & \\sigma{\\left(w_{12} x_{11} + w_{22} x_{12} + w_{32} x_{13} \\right)}\\\\\\sigma{\\left(w_{11} x_{21} + w_{21} x_{22} + w_{31} x_{23} \\right)} & \\sigma{\\left(w_{12} x_{21} + w_{22} x_{22} + w_{32} x_{23} \\right)}\\\\\\sigma{\\left(w_{11} x_{31} + w_{21} x_{32} + w_{31} x_{33} \\right)} & \\sigma{\\left(w_{12} x_{31} + w_{22} x_{32} + w_{32} x_{33} \\right)}\\end{matrix}\\right]$\n",
    "```\n"
   ]
  },
  {
   "cell_type": "markdown",
   "execution_count": 1,
   "metadata": {},
   "source": [
    "``` {.python}\n",
    "# way 2 of declaring S (better way)\n",
    "sigmaApply = lambda matrix:  matrix.applyfunc(sigma)\n",
    "\n",
    "sigmaApply(N)\n",
    "```\n"
   ]
  },
  {
   "cell_type": "markdown",
   "execution_count": 1,
   "metadata": {},
   "source": [
    "```{=latex}\n",
    "$\\displaystyle \\left[\\begin{matrix}\\sigma{\\left(w_{11} x_{11} + w_{21} x_{12} + w_{31} x_{13} \\right)} & \\sigma{\\left(w_{12} x_{11} + w_{22} x_{12} + w_{32} x_{13} \\right)}\\\\\\sigma{\\left(w_{11} x_{21} + w_{21} x_{22} + w_{31} x_{23} \\right)} & \\sigma{\\left(w_{12} x_{21} + w_{22} x_{22} + w_{32} x_{23} \\right)}\\\\\\sigma{\\left(w_{11} x_{31} + w_{21} x_{32} + w_{31} x_{33} \\right)} & \\sigma{\\left(w_{12} x_{31} + w_{22} x_{32} + w_{32} x_{33} \\right)}\\end{matrix}\\right]$\n",
    "```\n"
   ]
  },
  {
   "cell_type": "markdown",
   "execution_count": 1,
   "metadata": {},
   "source": [
    "``` {.python}\n",
    "sigmaApply(X**2) # can apply this function to any matrix argument.\n",
    "```\n"
   ]
  },
  {
   "cell_type": "markdown",
   "execution_count": 1,
   "metadata": {},
   "source": [
    "```{=latex}\n",
    "$\\displaystyle \\left[\\begin{matrix}\\sigma{\\left(x_{11}^{2} + x_{12} x_{21} + x_{13} x_{31} \\right)} & \\sigma{\\left(x_{11} x_{12} + x_{12} x_{22} + x_{13} x_{32} \\right)} & \\sigma{\\left(x_{11} x_{13} + x_{12} x_{23} + x_{13} x_{33} \\right)}\\\\\\sigma{\\left(x_{11} x_{21} + x_{21} x_{22} + x_{23} x_{31} \\right)} & \\sigma{\\left(x_{12} x_{21} + x_{22}^{2} + x_{23} x_{32} \\right)} & \\sigma{\\left(x_{13} x_{21} + x_{22} x_{23} + x_{23} x_{33} \\right)}\\\\\\sigma{\\left(x_{11} x_{31} + x_{21} x_{32} + x_{31} x_{33} \\right)} & \\sigma{\\left(x_{12} x_{31} + x_{22} x_{32} + x_{32} x_{33} \\right)} & \\sigma{\\left(x_{13} x_{31} + x_{23} x_{32} + x_{33}^{2} \\right)}\\end{matrix}\\right]$\n",
    "```\n"
   ]
  },
  {
   "cell_type": "markdown",
   "execution_count": 1,
   "metadata": {},
   "source": [
    "``` {.python}\n",
    "S = sigmaApply(v(X,W)) # composing\n",
    "S\n",
    "```\n"
   ]
  },
  {
   "cell_type": "markdown",
   "execution_count": 1,
   "metadata": {},
   "source": [
    "```{=latex}\n",
    "$\\displaystyle \\left[\\begin{matrix}\\sigma{\\left(w_{11} x_{11} + w_{21} x_{12} + w_{31} x_{13} \\right)} & \\sigma{\\left(w_{12} x_{11} + w_{22} x_{12} + w_{32} x_{13} \\right)}\\\\\\sigma{\\left(w_{11} x_{21} + w_{21} x_{22} + w_{31} x_{23} \\right)} & \\sigma{\\left(w_{12} x_{21} + w_{22} x_{22} + w_{32} x_{23} \\right)}\\\\\\sigma{\\left(w_{11} x_{31} + w_{21} x_{32} + w_{31} x_{33} \\right)} & \\sigma{\\left(w_{12} x_{31} + w_{22} x_{32} + w_{32} x_{33} \\right)}\\end{matrix}\\right]$\n",
    "```\n"
   ]
  }
 ],
 "metadata": {
  "ccsDelim": ", ",
  "ccsLabelSep": " --- ",
  "ccsTemplate": "$$i$$$$ccsLabelSep$$$$t$$",
  "chapDelim": ".",
  "chaptersDepth": 1,
  "comments-map": {
   "js": [
    "//",
    "/\\*",
    "\\*/"
   ],
   "py": [
    "\\#",
    "'''",
    "'''",
    "\\\"\\\"\\\"",
    "\\\"\\\"\\\""
   ],
   "r": [
    "\\#",
    "\\\"",
    "\\\""
   ]
  },
  "crossrefYaml": "pandoc-crossref.yaml",
  "echo": true,
  "eqLabels": "arabic",
  "eqnPrefix": [
   "eq.",
   "eqns."
  ],
  "eqnPrefixTemplate": "$$p$$ $$i$$",
  "error": "raise",
  "eval": true,
  "figLabels": "arabic",
  "figPrefix": [
   "fig.",
   "figs."
  ],
  "figPrefixTemplate": "$$p$$ $$i$$",
  "figureTemplate": "$$figureTitle$$ $$i$$$$titleDelim$$ $$t$$",
  "figureTitle": "Figure",
  "kernels-map": {
   "py": "python3",
   "r": "ir"
  },
  "kernelspec": {
   "display_name": "Python 3",
   "language": "python",
   "name": "python3"
  },
  "language_info": {
   "codemirror_mode": {
    "name": "ipython",
    "version": 3
   },
   "file_extension": ".py",
   "mimetype": "text/x-python",
   "name": "python",
   "nbconvert_exporter": "python",
   "pygments_lexer": "ipython3",
   "version": "3.7.8"
  },
  "lastDelim": ", ",
  "listingTemplate": "$$listingTitle$$ $$i$$$$titleDelim$$ $$t$$",
  "listingTitle": "Listing",
  "lofTitle": "List of Figures\n===============\n",
  "lolTitle": "List of Listings\n================\n",
  "lotTitle": "List of Tables\n==============\n",
  "lstLabels": "arabic",
  "lstPrefix": [
   "lst.",
   "lsts."
  ],
  "lstPrefixTemplate": "$$p$$ $$i$$",
  "pairDelim": ", ",
  "pandoctools": {
   "out": "\\*.ipynb",
   "profile": "Kiwi"
  },
  "rangeDelim": "-",
  "refDelim": ", ",
  "refIndexTemplate": "$$i$$$$suf$$",
  "secHeaderDelim": null,
  "secHeaderTemplate": "$$i$$$$secHeaderDelim$$$$t$$",
  "secLabels": "arabic",
  "secPrefix": [
   "sec.",
   "secs."
  ],
  "secPrefixTemplate": "$$p$$ $$i$$",
  "sectionsDepth": 0,
  "styles-map": {
   "py": "python"
  },
  "subfigLabels": "alpha a",
  "subfigureChildTemplate": "$$i$$",
  "subfigureRefIndexTemplate": "$$i$$$$suf$$ ($$s$$)",
  "subfigureTemplate": "$$figureTitle$$ $$i$$$$titleDelim$$ $$t$$. $$ccs$$",
  "tableTemplate": "$$tableTitle$$ $$i$$$$titleDelim$$ $$t$$",
  "tableTitle": "Table",
  "tblLabels": "arabic",
  "tblPrefix": [
   "tbl.",
   "tbls."
  ],
  "tblPrefixTemplate": "$$p$$ $$i$$",
  "titleDelim": ":"
 },
 "nbformat": 4,
 "nbformat_minor": 4
}
