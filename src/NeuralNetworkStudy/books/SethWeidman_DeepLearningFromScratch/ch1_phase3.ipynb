{
 "cells": [
  {
   "cell_type": "code",
   "execution_count": 1,
   "metadata": {
    "execution": {
     "iopub.execute_input": "2020-09-24T18:25:02.709111Z",
     "iopub.status.busy": "2020-09-24T18:25:02.706155Z",
     "iopub.status.idle": "2020-09-24T18:25:04.411600Z",
     "shell.execute_reply": "2020-09-24T18:25:04.414820Z"
    },
    "title": "codecell"
   },
   "outputs": [],
   "source": [
    "from sympy import Matrix, Symbol, derive_by_array, Lambda, Function, MatrixSymbol, Derivative\n",
    "from sympy import var\n",
    "from sympy.abc import x, i, j, a, b, c, d\n",
    "\n",
    "\n"
   ]
  },
  {
   "cell_type": "code",
   "execution_count": 2,
   "metadata": {
    "execution": {
     "iopub.execute_input": "2020-09-24T18:25:04.424484Z",
     "iopub.status.busy": "2020-09-24T18:25:04.422697Z",
     "iopub.status.idle": "2020-09-24T18:25:04.503976Z",
     "shell.execute_reply": "2020-09-24T18:25:04.506226Z"
    },
    "lines_to_next_cell": 0,
    "title": "codecell"
   },
   "outputs": [
    {
     "data": {
      "text/latex": [
       "$\\displaystyle \\left[\\begin{matrix}x_{11} & x_{12} & x_{13}\\\\x_{21} & x_{22} & x_{23}\\\\x_{31} & x_{32} & x_{33}\\end{matrix}\\right]$"
      ],
      "text/plain": [
       "Matrix([\n",
       "[x_11, x_12, x_13],\n",
       "[x_21, x_22, x_23],\n",
       "[x_31, x_32, x_33]])"
      ]
     },
     "execution_count": 1,
     "metadata": {},
     "output_type": "execute_result"
    }
   ],
   "source": [
    "def myvar(letter: str, i: int, j: int) -> Symbol:\n",
    "    letter_ij = Symbol('{}_{}{}'.format(letter, i+1, j+1), is_commutative=True)\n",
    "    return letter_ij\n",
    "\n",
    "\n",
    "ns,ms,ps = 3,3,2\n",
    "\n",
    "X = Matrix(ns, ms, lambda i,j : myvar('x', i, j)); X"
   ]
  },
  {
   "cell_type": "code",
   "execution_count": 3,
   "metadata": {
    "execution": {
     "iopub.execute_input": "2020-09-24T18:25:04.521104Z",
     "iopub.status.busy": "2020-09-24T18:25:04.513032Z",
     "iopub.status.idle": "2020-09-24T18:25:04.544063Z",
     "shell.execute_reply": "2020-09-24T18:25:04.548499Z"
    },
    "lines_to_next_cell": 0,
    "title": "codecell"
   },
   "outputs": [
    {
     "data": {
      "text/latex": [
       "$\\displaystyle \\left[\\begin{matrix}w_{11} & w_{12}\\\\w_{21} & w_{22}\\\\w_{31} & w_{32}\\end{matrix}\\right]$"
      ],
      "text/plain": [
       "Matrix([\n",
       "[w_11, w_12],\n",
       "[w_21, w_22],\n",
       "[w_31, w_32]])"
      ]
     },
     "execution_count": 1,
     "metadata": {},
     "output_type": "execute_result"
    }
   ],
   "source": [
    "W = Matrix(ms, ps, lambda i,j : myvar('w', i, j)); W"
   ]
  },
  {
   "cell_type": "code",
   "execution_count": 4,
   "metadata": {
    "execution": {
     "iopub.execute_input": "2020-09-24T18:25:04.561954Z",
     "iopub.status.busy": "2020-09-24T18:25:04.558789Z",
     "iopub.status.idle": "2020-09-24T18:25:04.580832Z",
     "shell.execute_reply": "2020-09-24T18:25:04.585409Z"
    },
    "title": "codecell"
   },
   "outputs": [],
   "source": [
    "#TODO how to make matrix symbols commutative?\n",
    "# A = MatrixSymbol('X',ns,ms, is_commutative=True); Matrix(A)\n",
    "A = MatrixSymbol('X',ns,ms); Matrix(A)\n",
    "B = MatrixSymbol('W',ms,ps)\n",
    "\n",
    "\n",
    "\n",
    "\n",
    "\n"
   ]
  },
  {
   "cell_type": "code",
   "execution_count": 5,
   "metadata": {
    "execution": {
     "iopub.execute_input": "2020-09-24T18:25:04.596259Z",
     "iopub.status.busy": "2020-09-24T18:25:04.589255Z",
     "iopub.status.idle": "2020-09-24T18:25:04.636010Z",
     "shell.execute_reply": "2020-09-24T18:25:04.638270Z"
    },
    "title": "codecell"
   },
   "outputs": [
    {
     "data": {
      "text/latex": [
       "$\\displaystyle \\left[\\begin{matrix}n_{11} & n_{12}\\\\n_{21} & n_{22}\\\\n_{31} & n_{32}\\end{matrix}\\right]$"
      ],
      "text/plain": [
       "Matrix([\n",
       "[n_11, n_12],\n",
       "[n_21, n_22],\n",
       "[n_31, n_32]])"
      ]
     },
     "execution_count": 1,
     "metadata": {},
     "output_type": "execute_result"
    }
   ],
   "source": [
    "v = lambda a,b: a*b\n",
    "\n",
    "vL = Lambda((a,b), a*b)\n",
    "\n",
    "n = Function('v') #, Lambda((a,b), a*b))\n",
    "\n",
    "vN = lambda mat1, mat2: Matrix(mat1.shape[0], mat2.shape[1], lambda i, j: Symbol(\"n_{}{}\".format(i+1, j+1))); vN\n",
    "\n",
    "\n",
    "Nelem = vN(X, W)\n",
    "Nelem"
   ]
  },
  {
   "cell_type": "code",
   "execution_count": 6,
   "metadata": {
    "execution": {
     "iopub.execute_input": "2020-09-24T18:25:04.648031Z",
     "iopub.status.busy": "2020-09-24T18:25:04.646318Z",
     "iopub.status.idle": "2020-09-24T18:25:05.489717Z",
     "shell.execute_reply": "2020-09-24T18:25:05.490799Z"
    },
    "lines_to_next_cell": 0,
    "title": "codecell"
   },
   "outputs": [
    {
     "data": {
      "text/latex": [
       "$\\displaystyle \\left[\\begin{matrix}w_{11} x_{11} + w_{21} x_{12} + w_{31} x_{13} & w_{12} x_{11} + w_{22} x_{12} + w_{32} x_{13}\\\\w_{11} x_{21} + w_{21} x_{22} + w_{31} x_{23} & w_{12} x_{21} + w_{22} x_{22} + w_{32} x_{23}\\\\w_{11} x_{31} + w_{21} x_{32} + w_{31} x_{33} & w_{12} x_{31} + w_{22} x_{32} + w_{32} x_{33}\\end{matrix}\\right]$"
      ],
      "text/plain": [
       "Matrix([\n",
       "[w_11*x_11 + w_21*x_12 + w_31*x_13, w_12*x_11 + w_22*x_12 + w_32*x_13],\n",
       "[w_11*x_21 + w_21*x_22 + w_31*x_23, w_12*x_21 + w_22*x_22 + w_32*x_23],\n",
       "[w_11*x_31 + w_21*x_32 + w_31*x_33, w_12*x_31 + w_22*x_32 + w_32*x_33]])"
      ]
     },
     "execution_count": 1,
     "metadata": {},
     "output_type": "execute_result"
    }
   ],
   "source": [
    "Nspec = v(X,W)\n",
    "Nspec"
   ]
  },
  {
   "cell_type": "code",
   "execution_count": 7,
   "metadata": {
    "execution": {
     "iopub.execute_input": "2020-09-24T18:25:05.497003Z",
     "iopub.status.busy": "2020-09-24T18:25:05.495116Z",
     "iopub.status.idle": "2020-09-24T18:25:05.507493Z",
     "shell.execute_reply": "2020-09-24T18:25:05.508527Z"
    },
    "title": "codecell"
   },
   "outputs": [
    {
     "data": {
      "text/latex": [
       "$\\displaystyle v{\\left(X,W \\right)}$"
      ],
      "text/plain": [
       "v(X, W)"
      ]
     },
     "execution_count": 1,
     "metadata": {},
     "output_type": "execute_result"
    }
   ],
   "source": [
    "#N = v(X, W); N\n",
    "N = n(A,B)\n",
    "N\n",
    "\n",
    "\n",
    "\n",
    "\n",
    "\n",
    "\n",
    "\n"
   ]
  },
  {
   "cell_type": "code",
   "execution_count": 8,
   "metadata": {
    "execution": {
     "iopub.execute_input": "2020-09-24T18:25:05.514330Z",
     "iopub.status.busy": "2020-09-24T18:25:05.512805Z",
     "iopub.status.idle": "2020-09-24T18:25:05.531152Z",
     "shell.execute_reply": "2020-09-24T18:25:05.532288Z"
    },
    "lines_to_next_cell": 0,
    "title": "codecell"
   },
   "outputs": [
    {
     "data": {
      "text/latex": [
       "$\\displaystyle \\sigma_{apply}{\\left(v{\\left(X,W \\right)} \\right)}$"
      ],
      "text/plain": [
       "sigma_apply(v(X, W))"
      ]
     },
     "execution_count": 1,
     "metadata": {},
     "output_type": "execute_result"
    }
   ],
   "source": [
    "\n",
    "def siga(mat: Matrix) -> Matrix:\n",
    "     #lst = mat.tolist()\n",
    "     nr, nc = mat.shape\n",
    "\n",
    "     applied = [[sigma(mat[i,j]) for j in range(0, nc)] for i in range(0, nr)]\n",
    "\n",
    "     return Matrix(applied)\n",
    "\n",
    "\n",
    "# way 2 of declaring S (better way)\n",
    "sigma = Function('sigma')\n",
    "\n",
    "sigmaApply = Function(\"sigma_apply\") #lambda matrix:  matrix.applyfunc(sigma)\n",
    "\n",
    "sigmaApply_ = lambda matrix: matrix.applyfunc(sigma)\n",
    "\n",
    "sigmaApply_2 = lambda matrix: siga(matrix)\n",
    "\n",
    "S = sigmaApply(N); S"
   ]
  },
  {
   "cell_type": "code",
   "execution_count": 9,
   "metadata": {
    "execution": {
     "iopub.execute_input": "2020-09-24T18:25:05.538286Z",
     "iopub.status.busy": "2020-09-24T18:25:05.536709Z",
     "iopub.status.idle": "2020-09-24T18:25:05.550145Z",
     "shell.execute_reply": "2020-09-24T18:25:05.551208Z"
    },
    "lines_to_next_cell": 0,
    "title": "codecell"
   },
   "outputs": [
    {
     "data": {
      "text/latex": [
       "$\\displaystyle \\left[\\begin{matrix}\\sigma{\\left(n_{11} \\right)} & \\sigma{\\left(n_{12} \\right)}\\\\\\sigma{\\left(n_{21} \\right)} & \\sigma{\\left(n_{22} \\right)}\\\\\\sigma{\\left(n_{31} \\right)} & \\sigma{\\left(n_{32} \\right)}\\end{matrix}\\right]$"
      ],
      "text/plain": [
       "Matrix([\n",
       "[sigma(n_11), sigma(n_12)],\n",
       "[sigma(n_21), sigma(n_22)],\n",
       "[sigma(n_31), sigma(n_32)]])"
      ]
     },
     "execution_count": 1,
     "metadata": {},
     "output_type": "execute_result"
    }
   ],
   "source": [
    "sigmaApply_(Nelem)"
   ]
  },
  {
   "cell_type": "code",
   "execution_count": 10,
   "metadata": {
    "execution": {
     "iopub.execute_input": "2020-09-24T18:25:05.556168Z",
     "iopub.status.busy": "2020-09-24T18:25:05.554626Z",
     "iopub.status.idle": "2020-09-24T18:25:05.568481Z",
     "shell.execute_reply": "2020-09-24T18:25:05.569679Z"
    },
    "lines_to_next_cell": 0,
    "title": "codecell"
   },
   "outputs": [
    {
     "data": {
      "text/latex": [
       "$\\displaystyle \\left[\\begin{matrix}\\sigma{\\left(n_{11} \\right)} & \\sigma{\\left(n_{12} \\right)}\\\\\\sigma{\\left(n_{21} \\right)} & \\sigma{\\left(n_{22} \\right)}\\\\\\sigma{\\left(n_{31} \\right)} & \\sigma{\\left(n_{32} \\right)}\\end{matrix}\\right]$"
      ],
      "text/plain": [
       "Matrix([\n",
       "[sigma(n_11), sigma(n_12)],\n",
       "[sigma(n_21), sigma(n_22)],\n",
       "[sigma(n_31), sigma(n_32)]])"
      ]
     },
     "execution_count": 1,
     "metadata": {},
     "output_type": "execute_result"
    }
   ],
   "source": [
    "sigmaApply_2(Nelem)"
   ]
  },
  {
   "cell_type": "code",
   "execution_count": 11,
   "metadata": {
    "execution": {
     "iopub.execute_input": "2020-09-24T18:25:05.574749Z",
     "iopub.status.busy": "2020-09-24T18:25:05.573156Z",
     "iopub.status.idle": "2020-09-24T18:25:05.578963Z",
     "shell.execute_reply": "2020-09-24T18:25:05.580056Z"
    },
    "title": "codecell"
   },
   "outputs": [],
   "source": [
    "#sigmaApply_2(A*B).diff(Matrix(A))"
   ]
  },
  {
   "cell_type": "code",
   "execution_count": 12,
   "metadata": {
    "execution": {
     "iopub.execute_input": "2020-09-24T18:25:05.584804Z",
     "iopub.status.busy": "2020-09-24T18:25:05.583351Z",
     "iopub.status.idle": "2020-09-24T18:25:05.619203Z",
     "shell.execute_reply": "2020-09-24T18:25:05.620477Z"
    },
    "lines_to_next_cell": 0,
    "title": "codecell"
   },
   "outputs": [
    {
     "data": {
      "text/latex": [
       "$\\displaystyle \\left[\\begin{matrix}\\sigma{\\left(w_{11} x_{11} + w_{21} x_{12} + w_{31} x_{13} \\right)} & \\sigma{\\left(w_{12} x_{11} + w_{22} x_{12} + w_{32} x_{13} \\right)}\\\\\\sigma{\\left(w_{11} x_{21} + w_{21} x_{22} + w_{31} x_{23} \\right)} & \\sigma{\\left(w_{12} x_{21} + w_{22} x_{22} + w_{32} x_{23} \\right)}\\\\\\sigma{\\left(w_{11} x_{31} + w_{21} x_{32} + w_{31} x_{33} \\right)} & \\sigma{\\left(w_{12} x_{31} + w_{22} x_{32} + w_{32} x_{33} \\right)}\\end{matrix}\\right]$"
      ],
      "text/plain": [
       "Matrix([\n",
       "[sigma(w_11*x_11 + w_21*x_12 + w_31*x_13), sigma(w_12*x_11 + w_22*x_12 + w_32*x_13)],\n",
       "[sigma(w_11*x_21 + w_21*x_22 + w_31*x_23), sigma(w_12*x_21 + w_22*x_22 + w_32*x_23)],\n",
       "[sigma(w_11*x_31 + w_21*x_32 + w_31*x_33), sigma(w_12*x_31 + w_22*x_32 + w_32*x_33)]])"
      ]
     },
     "execution_count": 1,
     "metadata": {},
     "output_type": "execute_result"
    }
   ],
   "source": [
    "Sspec = S.subs({A:X, B:W}).replace(n, v).replace(sigmaApply, sigmaApply_)\n",
    "Sspec"
   ]
  },
  {
   "cell_type": "code",
   "execution_count": 13,
   "metadata": {
    "execution": {
     "iopub.execute_input": "2020-09-24T18:25:05.625816Z",
     "iopub.status.busy": "2020-09-24T18:25:05.624230Z",
     "iopub.status.idle": "2020-09-24T18:25:05.640995Z",
     "shell.execute_reply": "2020-09-24T18:25:05.642225Z"
    },
    "lines_to_next_cell": 2,
    "title": "codecell"
   },
   "outputs": [
    {
     "data": {
      "text/latex": [
       "$\\displaystyle \\left[\\begin{matrix}\\sigma{\\left(n_{11} \\right)} & \\sigma{\\left(n_{12} \\right)}\\\\\\sigma{\\left(n_{21} \\right)} & \\sigma{\\left(n_{22} \\right)}\\\\\\sigma{\\left(n_{31} \\right)} & \\sigma{\\left(n_{32} \\right)}\\end{matrix}\\right]$"
      ],
      "text/plain": [
       "Matrix([\n",
       "[sigma(n_11), sigma(n_12)],\n",
       "[sigma(n_21), sigma(n_22)],\n",
       "[sigma(n_31), sigma(n_32)]])"
      ]
     },
     "execution_count": 1,
     "metadata": {},
     "output_type": "execute_result"
    }
   ],
   "source": [
    "Selem = S.replace(n, vN).replace(sigmaApply, sigmaApply_)\n",
    "Selem"
   ]
  },
  {
   "cell_type": "code",
   "execution_count": 14,
   "metadata": {
    "execution": {
     "iopub.execute_input": "2020-09-24T18:25:05.652132Z",
     "iopub.status.busy": "2020-09-24T18:25:05.645705Z",
     "iopub.status.idle": "2020-09-24T18:25:05.677309Z",
     "shell.execute_reply": "2020-09-24T18:25:05.678383Z"
    },
    "lines_to_next_cell": 0,
    "title": "codecell"
   },
   "outputs": [
    {
     "data": {
      "text/latex": [
       "$\\displaystyle \\left[\\begin{matrix}n_{11} & w_{11} x_{11} + w_{21} x_{12} + w_{31} x_{13}\\\\n_{12} & w_{12} x_{11} + w_{22} x_{12} + w_{32} x_{13}\\\\n_{21} & w_{11} x_{21} + w_{21} x_{22} + w_{31} x_{23}\\\\n_{22} & w_{12} x_{21} + w_{22} x_{22} + w_{32} x_{23}\\\\n_{31} & w_{11} x_{31} + w_{21} x_{32} + w_{31} x_{33}\\\\n_{32} & w_{12} x_{31} + w_{22} x_{32} + w_{32} x_{33}\\end{matrix}\\right]$"
      ],
      "text/plain": [
       "Matrix([\n",
       "[n_11, w_11*x_11 + w_21*x_12 + w_31*x_13],\n",
       "[n_12, w_12*x_11 + w_22*x_12 + w_32*x_13],\n",
       "[n_21, w_11*x_21 + w_21*x_22 + w_31*x_23],\n",
       "[n_22, w_12*x_21 + w_22*x_22 + w_32*x_23],\n",
       "[n_31, w_11*x_31 + w_21*x_32 + w_31*x_33],\n",
       "[n_32, w_12*x_31 + w_22*x_32 + w_32*x_33]])"
      ]
     },
     "execution_count": 1,
     "metadata": {},
     "output_type": "execute_result"
    }
   ],
   "source": [
    "import itertools\n",
    "\n",
    "elemToSpecD = dict(itertools.chain(*[[(Nelem[i, j], Nspec[i, j]) for j in range(2)] for i in range(3)]))\n",
    "\n",
    "elemToSpec = list(elemToSpecD.items())\n",
    "\n",
    "Matrix(elemToSpec)"
   ]
  },
  {
   "cell_type": "code",
   "execution_count": 15,
   "metadata": {
    "execution": {
     "iopub.execute_input": "2020-09-24T18:25:05.683483Z",
     "iopub.status.busy": "2020-09-24T18:25:05.681879Z",
     "iopub.status.idle": "2020-09-24T18:25:05.720019Z",
     "shell.execute_reply": "2020-09-24T18:25:05.721134Z"
    },
    "lines_to_next_cell": 0,
    "title": "codecell"
   },
   "outputs": [
    {
     "data": {
      "text/latex": [
       "$\\displaystyle \\left[\\begin{matrix}n_{11} & \\operatorname{n_{11}}{\\left(w_{11} x_{11} + w_{21} x_{12} + w_{31} x_{13} \\right)}\\\\n_{12} & \\operatorname{n_{12}}{\\left(w_{12} x_{11} + w_{22} x_{12} + w_{32} x_{13} \\right)}\\\\n_{21} & \\operatorname{n_{21}}{\\left(w_{11} x_{21} + w_{21} x_{22} + w_{31} x_{23} \\right)}\\\\n_{22} & \\operatorname{n_{22}}{\\left(w_{12} x_{21} + w_{22} x_{22} + w_{32} x_{23} \\right)}\\\\n_{31} & \\operatorname{n_{31}}{\\left(w_{11} x_{31} + w_{21} x_{32} + w_{31} x_{33} \\right)}\\\\n_{32} & \\operatorname{n_{32}}{\\left(w_{12} x_{31} + w_{22} x_{32} + w_{32} x_{33} \\right)}\\end{matrix}\\right]$"
      ],
      "text/plain": [
       "Matrix([\n",
       "[n_11, n_11(w_11*x_11 + w_21*x_12 + w_31*x_13)],\n",
       "[n_12, n_12(w_12*x_11 + w_22*x_12 + w_32*x_13)],\n",
       "[n_21, n_21(w_11*x_21 + w_21*x_22 + w_31*x_23)],\n",
       "[n_22, n_22(w_12*x_21 + w_22*x_22 + w_32*x_23)],\n",
       "[n_31, n_31(w_11*x_31 + w_21*x_32 + w_31*x_33)],\n",
       "[n_32, n_32(w_12*x_31 + w_22*x_32 + w_32*x_33)]])"
      ]
     },
     "execution_count": 1,
     "metadata": {},
     "output_type": "execute_result"
    }
   ],
   "source": [
    "elemToSpecFuncD = dict(itertools.chain(*[[(Nelem[i, j], Function(\"n_{}{}\".format(i + 1, j + 1))(Nspec[i, j])) for j in range(2)] for i in range(3)]))\n",
    "\n",
    "elemToSpecFunc = list(elemToSpecFuncD.items())\n",
    "\n",
    "Matrix(elemToSpecFunc)"
   ]
  },
  {
   "cell_type": "code",
   "execution_count": 16,
   "metadata": {
    "execution": {
     "iopub.execute_input": "2020-09-24T18:25:05.726859Z",
     "iopub.status.busy": "2020-09-24T18:25:05.724464Z",
     "iopub.status.idle": "2020-09-24T18:25:05.754909Z",
     "shell.execute_reply": "2020-09-24T18:25:05.756167Z"
    },
    "lines_to_next_cell": 2,
    "title": "codecell"
   },
   "outputs": [
    {
     "data": {
      "text/latex": [
       "$\\displaystyle \\left[\\begin{matrix}n_{11} & \\operatorname{n_{11}}{\\left(x_{11},x_{12},x_{13},x_{21},x_{22},x_{23},x_{31},x_{32},x_{33},w_{11},w_{12},w_{21},w_{22},w_{31},w_{32} \\right)}\\\\n_{12} & \\operatorname{n_{12}}{\\left(x_{11},x_{12},x_{13},x_{21},x_{22},x_{23},x_{31},x_{32},x_{33},w_{11},w_{12},w_{21},w_{22},w_{31},w_{32} \\right)}\\\\n_{21} & \\operatorname{n_{21}}{\\left(x_{11},x_{12},x_{13},x_{21},x_{22},x_{23},x_{31},x_{32},x_{33},w_{11},w_{12},w_{21},w_{22},w_{31},w_{32} \\right)}\\\\n_{22} & \\operatorname{n_{22}}{\\left(x_{11},x_{12},x_{13},x_{21},x_{22},x_{23},x_{31},x_{32},x_{33},w_{11},w_{12},w_{21},w_{22},w_{31},w_{32} \\right)}\\\\n_{31} & \\operatorname{n_{31}}{\\left(x_{11},x_{12},x_{13},x_{21},x_{22},x_{23},x_{31},x_{32},x_{33},w_{11},w_{12},w_{21},w_{22},w_{31},w_{32} \\right)}\\\\n_{32} & \\operatorname{n_{32}}{\\left(x_{11},x_{12},x_{13},x_{21},x_{22},x_{23},x_{31},x_{32},x_{33},w_{11},w_{12},w_{21},w_{22},w_{31},w_{32} \\right)}\\end{matrix}\\right]$"
      ],
      "text/plain": [
       "Matrix([\n",
       "[n_11, n_11(x_11, x_12, x_13, x_21, x_22, x_23, x_31, x_32, x_33, w_11, w_12, w_21, w_22, w_31, w_32)],\n",
       "[n_12, n_12(x_11, x_12, x_13, x_21, x_22, x_23, x_31, x_32, x_33, w_11, w_12, w_21, w_22, w_31, w_32)],\n",
       "[n_21, n_21(x_11, x_12, x_13, x_21, x_22, x_23, x_31, x_32, x_33, w_11, w_12, w_21, w_22, w_31, w_32)],\n",
       "[n_22, n_22(x_11, x_12, x_13, x_21, x_22, x_23, x_31, x_32, x_33, w_11, w_12, w_21, w_22, w_31, w_32)],\n",
       "[n_31, n_31(x_11, x_12, x_13, x_21, x_22, x_23, x_31, x_32, x_33, w_11, w_12, w_21, w_22, w_31, w_32)],\n",
       "[n_32, n_32(x_11, x_12, x_13, x_21, x_22, x_23, x_31, x_32, x_33, w_11, w_12, w_21, w_22, w_31, w_32)]])"
      ]
     },
     "execution_count": 1,
     "metadata": {},
     "output_type": "execute_result"
    }
   ],
   "source": [
    "elemToSpecFuncArgsD = dict(itertools.chain(*[[(Nelem[i, j], Function(\"n_{}{}\".format(i + 1, j + 1))(*X,*W)) for j in range(2)] for i in range(3)]))\n",
    "\n",
    "elemToSpecFuncArgs = list(elemToSpecFuncArgsD.items())\n",
    "\n",
    "Matrix(elemToSpecFuncArgs)"
   ]
  },
  {
   "cell_type": "code",
   "execution_count": 17,
   "metadata": {
    "execution": {
     "iopub.execute_input": "2020-09-24T18:25:05.761354Z",
     "iopub.status.busy": "2020-09-24T18:25:05.759828Z",
     "iopub.status.idle": "2020-09-24T18:25:05.777255Z",
     "shell.execute_reply": "2020-09-24T18:25:05.778362Z"
    },
    "title": "codecell"
   },
   "outputs": [
    {
     "data": {
      "text/latex": [
       "$\\displaystyle \\left[\\begin{matrix}n_{11} & \\operatorname{n_{11}}{\\left(X,W \\right)}\\\\n_{12} & \\operatorname{n_{12}}{\\left(X,W \\right)}\\\\n_{21} & \\operatorname{n_{21}}{\\left(X,W \\right)}\\\\n_{22} & \\operatorname{n_{22}}{\\left(X,W \\right)}\\\\n_{31} & \\operatorname{n_{31}}{\\left(X,W \\right)}\\\\n_{32} & \\operatorname{n_{32}}{\\left(X,W \\right)}\\end{matrix}\\right]$"
      ],
      "text/plain": [
       "Matrix([\n",
       "[n_11, n_11(X, W)],\n",
       "[n_12, n_12(X, W)],\n",
       "[n_21, n_21(X, W)],\n",
       "[n_22, n_22(X, W)],\n",
       "[n_31, n_31(X, W)],\n",
       "[n_32, n_32(X, W)]])"
      ]
     },
     "execution_count": 1,
     "metadata": {},
     "output_type": "execute_result"
    }
   ],
   "source": [
    "elemToMatArgD = dict(itertools.chain(*[[(Nelem[i, j], Function(\"n_{}{}\".format(i+1,j+1))(A,B) ) for j in range(2)] for i in range(3)]))\n",
    "\n",
    "elemToMatArg = list(elemToMatArgD.items())\n",
    "\n",
    "Matrix(elemToMatArg)"
   ]
  },
  {
   "cell_type": "code",
   "execution_count": 18,
   "metadata": {
    "execution": {
     "iopub.execute_input": "2020-09-24T18:25:05.783360Z",
     "iopub.status.busy": "2020-09-24T18:25:05.781870Z",
     "iopub.status.idle": "2020-09-24T18:25:05.819867Z",
     "shell.execute_reply": "2020-09-24T18:25:05.820953Z"
    },
    "lines_to_next_cell": 2,
    "title": "codecell"
   },
   "outputs": [
    {
     "data": {
      "text/latex": [
       "$\\displaystyle \\left[\\begin{matrix}\\operatorname{n_{11}}{\\left(X,W \\right)} & w_{11} x_{11} + w_{21} x_{12} + w_{31} x_{13}\\\\\\operatorname{n_{12}}{\\left(X,W \\right)} & w_{12} x_{11} + w_{22} x_{12} + w_{32} x_{13}\\\\\\operatorname{n_{21}}{\\left(X,W \\right)} & w_{11} x_{21} + w_{21} x_{22} + w_{31} x_{23}\\\\\\operatorname{n_{22}}{\\left(X,W \\right)} & w_{12} x_{21} + w_{22} x_{22} + w_{32} x_{23}\\\\\\operatorname{n_{31}}{\\left(X,W \\right)} & w_{11} x_{31} + w_{21} x_{32} + w_{31} x_{33}\\\\\\operatorname{n_{32}}{\\left(X,W \\right)} & w_{12} x_{31} + w_{22} x_{32} + w_{32} x_{33}\\end{matrix}\\right]$"
      ],
      "text/plain": [
       "Matrix([\n",
       "[n_11(X, W), w_11*x_11 + w_21*x_12 + w_31*x_13],\n",
       "[n_12(X, W), w_12*x_11 + w_22*x_12 + w_32*x_13],\n",
       "[n_21(X, W), w_11*x_21 + w_21*x_22 + w_31*x_23],\n",
       "[n_22(X, W), w_12*x_21 + w_22*x_22 + w_32*x_23],\n",
       "[n_31(X, W), w_11*x_31 + w_21*x_32 + w_31*x_33],\n",
       "[n_32(X, W), w_12*x_31 + w_22*x_32 + w_32*x_33]])"
      ]
     },
     "execution_count": 1,
     "metadata": {},
     "output_type": "execute_result"
    }
   ],
   "source": [
    "matargToSpecD = dict(zip(elemToMatArgD.values(), elemToSpecD.values()))\n",
    "\n",
    "matargToSpec = list(matargToSpecD.items())\n",
    "\n",
    "Matrix(matargToSpec)"
   ]
  },
  {
   "cell_type": "code",
   "execution_count": 19,
   "metadata": {
    "execution": {
     "iopub.execute_input": "2020-09-24T18:25:05.825999Z",
     "iopub.status.busy": "2020-09-24T18:25:05.824555Z",
     "iopub.status.idle": "2020-09-24T18:25:05.837434Z",
     "shell.execute_reply": "2020-09-24T18:25:05.838616Z"
    },
    "lines_to_next_cell": 0,
    "title": "codecell"
   },
   "outputs": [
    {
     "data": {
      "text/latex": [
       "$\\displaystyle \\left[\\begin{matrix}\\sigma{\\left(n_{11} \\right)} & \\sigma{\\left(n_{12} \\right)}\\\\\\sigma{\\left(n_{21} \\right)} & \\sigma{\\left(n_{22} \\right)}\\\\\\sigma{\\left(n_{31} \\right)} & \\sigma{\\left(n_{32} \\right)}\\end{matrix}\\right]$"
      ],
      "text/plain": [
       "Matrix([\n",
       "[sigma(n_11), sigma(n_12)],\n",
       "[sigma(n_21), sigma(n_22)],\n",
       "[sigma(n_31), sigma(n_32)]])"
      ]
     },
     "execution_count": 1,
     "metadata": {},
     "output_type": "execute_result"
    }
   ],
   "source": [
    "Selem"
   ]
  },
  {
   "cell_type": "code",
   "execution_count": 20,
   "metadata": {
    "execution": {
     "iopub.execute_input": "2020-09-24T18:25:05.845597Z",
     "iopub.status.busy": "2020-09-24T18:25:05.843130Z",
     "iopub.status.idle": "2020-09-24T18:25:05.905170Z",
     "shell.execute_reply": "2020-09-24T18:25:05.906246Z"
    },
    "lines_to_next_cell": 0,
    "title": "codecell"
   },
   "outputs": [
    {
     "data": {
      "text/latex": [
       "$\\displaystyle \\left[\\begin{matrix}\\sigma{\\left(w_{11} x_{11} + w_{21} x_{12} + w_{31} x_{13} \\right)} & \\sigma{\\left(w_{12} x_{11} + w_{22} x_{12} + w_{32} x_{13} \\right)}\\\\\\sigma{\\left(w_{11} x_{21} + w_{21} x_{22} + w_{31} x_{23} \\right)} & \\sigma{\\left(w_{12} x_{21} + w_{22} x_{22} + w_{32} x_{23} \\right)}\\\\\\sigma{\\left(w_{11} x_{31} + w_{21} x_{32} + w_{31} x_{33} \\right)} & \\sigma{\\left(w_{12} x_{31} + w_{22} x_{32} + w_{32} x_{33} \\right)}\\end{matrix}\\right]$"
      ],
      "text/plain": [
       "Matrix([\n",
       "[sigma(w_11*x_11 + w_21*x_12 + w_31*x_13), sigma(w_12*x_11 + w_22*x_12 + w_32*x_13)],\n",
       "[sigma(w_11*x_21 + w_21*x_22 + w_31*x_23), sigma(w_12*x_21 + w_22*x_22 + w_32*x_23)],\n",
       "[sigma(w_11*x_31 + w_21*x_32 + w_31*x_33), sigma(w_12*x_31 + w_22*x_32 + w_32*x_33)]])"
      ]
     },
     "execution_count": 1,
     "metadata": {},
     "output_type": "execute_result"
    }
   ],
   "source": [
    "Selem.subs(elemToSpecD)"
   ]
  },
  {
   "cell_type": "code",
   "execution_count": 21,
   "metadata": {
    "execution": {
     "iopub.execute_input": "2020-09-24T18:25:05.912216Z",
     "iopub.status.busy": "2020-09-24T18:25:05.910639Z",
     "iopub.status.idle": "2020-09-24T18:25:05.922858Z",
     "shell.execute_reply": "2020-09-24T18:25:05.923949Z"
    },
    "lines_to_next_cell": 0,
    "title": "codecell"
   },
   "outputs": [
    {
     "data": {
      "text/latex": [
       "$\\displaystyle \\frac{d}{d n_{12}} \\sigma{\\left(n_{12} \\right)}$"
      ],
      "text/plain": [
       "Derivative(sigma(n_12), n_12)"
      ]
     },
     "execution_count": 1,
     "metadata": {},
     "output_type": "execute_result"
    }
   ],
   "source": [
    "Selem[0,1].diff(Nelem[0,1])"
   ]
  },
  {
   "cell_type": "code",
   "execution_count": 22,
   "metadata": {
    "execution": {
     "iopub.execute_input": "2020-09-24T18:25:05.928945Z",
     "iopub.status.busy": "2020-09-24T18:25:05.927285Z",
     "iopub.status.idle": "2020-09-24T18:25:05.946723Z",
     "shell.execute_reply": "2020-09-24T18:25:05.947831Z"
    },
    "title": "codecell"
   },
   "outputs": [
    {
     "data": {
      "text/latex": [
       "$\\displaystyle \\left. \\frac{d}{d n_{12}} \\sigma{\\left(n_{12} \\right)} \\right|_{\\substack{ n_{12}=w_{12} x_{11} + w_{22} x_{12} + w_{32} x_{13} }}$"
      ],
      "text/plain": [
       "Subs(Derivative(sigma(n_12), n_12), n_12, w_12*x_11 + w_22*x_12 + w_32*x_13)"
      ]
     },
     "execution_count": 1,
     "metadata": {},
     "output_type": "execute_result"
    }
   ],
   "source": [
    "Selem[0,1].diff(Nelem[0,1]).subs({Nelem[0,1] : Nspec[0,1]})\n",
    "#Selem[0,1].diff(Nelem[0,1]).subs(dict([{Nelem[0,1] : Nspec[0,1]}]))"
   ]
  },
  {
   "cell_type": "code",
   "execution_count": 23,
   "metadata": {
    "execution": {
     "iopub.execute_input": "2020-09-24T18:25:05.952861Z",
     "iopub.status.busy": "2020-09-24T18:25:05.951352Z",
     "iopub.status.idle": "2020-09-24T18:25:05.966411Z",
     "shell.execute_reply": "2020-09-24T18:25:05.967546Z"
    },
    "lines_to_next_cell": 0,
    "title": "codecell"
   },
   "outputs": [
    {
     "data": {
      "text/latex": [
       "$\\displaystyle \\left. \\frac{d}{d n_{12}} \\sigma{\\left(n_{12} \\right)} \\right|_{\\substack{ n_{12}=23 }}$"
      ],
      "text/plain": [
       "Subs(Derivative(sigma(n_12), n_12), n_12, 23)"
      ]
     },
     "execution_count": 1,
     "metadata": {},
     "output_type": "execute_result"
    }
   ],
   "source": [
    "Selem[0,1].diff(Nelem[0,1]).subs({Nelem[0,1] : Nspec[0,1]}).subs({Nspec[0,1] : 23})"
   ]
  },
  {
   "cell_type": "code",
   "execution_count": 24,
   "metadata": {
    "execution": {
     "iopub.execute_input": "2020-09-24T18:25:05.972385Z",
     "iopub.status.busy": "2020-09-24T18:25:05.970737Z",
     "iopub.status.idle": "2020-09-24T18:25:05.991818Z",
     "shell.execute_reply": "2020-09-24T18:25:05.992958Z"
    },
    "lines_to_next_cell": 0,
    "title": "codecell"
   },
   "outputs": [
    {
     "data": {
      "text/latex": [
       "$\\displaystyle \\left. \\frac{d}{d n_{12}} 8 n_{12}^{3} \\right|_{\\substack{ n_{12}=w_{12} x_{11} + w_{22} x_{12} + w_{32} x_{13} }}$"
      ],
      "text/plain": [
       "Subs(Derivative(8*n_12**3, n_12), n_12, w_12*x_11 + w_22*x_12 + w_32*x_13)"
      ]
     },
     "execution_count": 1,
     "metadata": {},
     "output_type": "execute_result"
    }
   ],
   "source": [
    "Selem[0,1].diff(Nelem[0,1]).subs({Nelem[0,1] : Nspec[0,1]}).replace(sigma, lambda x: 8*x**3)"
   ]
  },
  {
   "cell_type": "code",
   "execution_count": 25,
   "metadata": {
    "execution": {
     "iopub.execute_input": "2020-09-24T18:25:05.997877Z",
     "iopub.status.busy": "2020-09-24T18:25:05.996423Z",
     "iopub.status.idle": "2020-09-24T18:25:06.009167Z",
     "shell.execute_reply": "2020-09-24T18:25:06.010254Z"
    },
    "lines_to_next_cell": 0,
    "title": "codecell"
   },
   "outputs": [
    {
     "data": {
      "text/latex": [
       "$\\displaystyle \\frac{d}{d n_{12}} 8 n_{12}^{3}$"
      ],
      "text/plain": [
       "Derivative(8*n_12**3, n_12)"
      ]
     },
     "execution_count": 1,
     "metadata": {},
     "output_type": "execute_result"
    }
   ],
   "source": [
    "Selem[0,1].diff(Nelem[0,1]).replace(sigma, lambda x: 8*x**3)"
   ]
  },
  {
   "cell_type": "code",
   "execution_count": 26,
   "metadata": {
    "execution": {
     "iopub.execute_input": "2020-09-24T18:25:06.016285Z",
     "iopub.status.busy": "2020-09-24T18:25:06.014595Z",
     "iopub.status.idle": "2020-09-24T18:25:06.041421Z",
     "shell.execute_reply": "2020-09-24T18:25:06.042530Z"
    },
    "lines_to_next_cell": 0,
    "title": "codecell"
   },
   "outputs": [
    {
     "data": {
      "text/latex": [
       "$\\displaystyle 24 n_{12}^{2}$"
      ],
      "text/plain": [
       "24*n_12**2"
      ]
     },
     "execution_count": 1,
     "metadata": {},
     "output_type": "execute_result"
    }
   ],
   "source": [
    "Selem[0,1].diff(Nelem[0,1]).replace(sigma, lambda x: 8*x**3).doit()"
   ]
  },
  {
   "cell_type": "code",
   "execution_count": 27,
   "metadata": {
    "execution": {
     "iopub.execute_input": "2020-09-24T18:25:06.047638Z",
     "iopub.status.busy": "2020-09-24T18:25:06.046045Z",
     "iopub.status.idle": "2020-09-24T18:25:06.087818Z",
     "shell.execute_reply": "2020-09-24T18:25:06.089092Z"
    },
    "lines_to_next_cell": 0,
    "title": "codecell"
   },
   "outputs": [
    {
     "data": {
      "text/latex": [
       "$\\displaystyle 24 \\left(w_{12} x_{11} + w_{22} x_{12} + w_{32} x_{13}\\right)^{2}$"
      ],
      "text/plain": [
       "24*(w_12*x_11 + w_22*x_12 + w_32*x_13)**2"
      ]
     },
     "execution_count": 1,
     "metadata": {},
     "output_type": "execute_result"
    }
   ],
   "source": [
    "# ### GOT IT: can replace now with expression and do derivative with respect to that expression.\n",
    "Selem[0,1].diff(Nelem[0,1]).subs({Nelem[0,1] : Nspec[0,1]}).replace(sigma, lambda x: 8*x**3).doit()"
   ]
  },
  {
   "cell_type": "code",
   "execution_count": 28,
   "metadata": {
    "execution": {
     "iopub.execute_input": "2020-09-24T18:25:06.094109Z",
     "iopub.status.busy": "2020-09-24T18:25:06.092514Z",
     "iopub.status.idle": "2020-09-24T18:25:06.116349Z",
     "shell.execute_reply": "2020-09-24T18:25:06.117545Z"
    },
    "lines_to_next_cell": 0,
    "title": "codecell"
   },
   "outputs": [
    {
     "data": {
      "text/latex": [
       "$\\displaystyle w_{22} \\left. \\frac{d}{d \\xi_{1}} \\sigma{\\left(\\xi_{1} \\right)} \\right|_{\\substack{ \\xi_{1}=w_{12} x_{11} + w_{22} x_{12} + w_{32} x_{13} }}$"
      ],
      "text/plain": [
       "w_22*Subs(Derivative(sigma(_xi_1), _xi_1), _xi_1, w_12*x_11 + w_22*x_12 + w_32*x_13)"
      ]
     },
     "execution_count": 1,
     "metadata": {},
     "output_type": "execute_result"
    }
   ],
   "source": [
    "Selem[0,1].subs({Nelem[0,1] : Nspec[0,1]}).diff(X[0,1])#.subs({Nelem[0,1] : Nspec[0,1]})"
   ]
  },
  {
   "cell_type": "code",
   "execution_count": 29,
   "metadata": {
    "execution": {
     "iopub.execute_input": "2020-09-24T18:25:06.122578Z",
     "iopub.status.busy": "2020-09-24T18:25:06.121053Z",
     "iopub.status.idle": "2020-09-24T18:25:06.132739Z",
     "shell.execute_reply": "2020-09-24T18:25:06.133859Z"
    },
    "title": "codecell"
   },
   "outputs": [
    {
     "data": {
      "text/latex": [
       "$\\displaystyle \\left[\\begin{matrix}\\sigma{\\left(n_{11} \\right)} & \\sigma{\\left(n_{12} \\right)}\\\\\\sigma{\\left(n_{21} \\right)} & \\sigma{\\left(n_{22} \\right)}\\\\\\sigma{\\left(n_{31} \\right)} & \\sigma{\\left(n_{32} \\right)}\\end{matrix}\\right]$"
      ],
      "text/plain": [
       "Matrix([\n",
       "[sigma(n_11), sigma(n_12)],\n",
       "[sigma(n_21), sigma(n_22)],\n",
       "[sigma(n_31), sigma(n_32)]])"
      ]
     },
     "execution_count": 1,
     "metadata": {},
     "output_type": "execute_result"
    }
   ],
   "source": [
    "Selem"
   ]
  },
  {
   "cell_type": "code",
   "execution_count": 30,
   "metadata": {
    "execution": {
     "iopub.execute_input": "2020-09-24T18:25:06.139175Z",
     "iopub.status.busy": "2020-09-24T18:25:06.137632Z",
     "iopub.status.idle": "2020-09-24T18:25:06.202159Z",
     "shell.execute_reply": "2020-09-24T18:25:06.203573Z"
    },
    "lines_to_next_cell": 0,
    "title": "codecell"
   },
   "outputs": [
    {
     "data": {
      "text/latex": [
       "$\\displaystyle \\left[\\begin{matrix}\\operatorname{n_{11}}{\\left(w_{11} x_{11} + w_{21} x_{12} + w_{31} x_{13} \\right)} & \\operatorname{n_{12}}{\\left(w_{12} x_{11} + w_{22} x_{12} + w_{32} x_{13} \\right)}\\\\\\operatorname{n_{21}}{\\left(w_{11} x_{21} + w_{21} x_{22} + w_{31} x_{23} \\right)} & \\operatorname{n_{22}}{\\left(w_{12} x_{21} + w_{22} x_{22} + w_{32} x_{23} \\right)}\\\\\\operatorname{n_{31}}{\\left(w_{11} x_{31} + w_{21} x_{32} + w_{31} x_{33} \\right)} & \\operatorname{n_{32}}{\\left(w_{12} x_{31} + w_{22} x_{32} + w_{32} x_{33} \\right)}\\end{matrix}\\right]$"
      ],
      "text/plain": [
       "Matrix([\n",
       "[n_11(w_11*x_11 + w_21*x_12 + w_31*x_13), n_12(w_12*x_11 + w_22*x_12 + w_32*x_13)],\n",
       "[n_21(w_11*x_21 + w_21*x_22 + w_31*x_23), n_22(w_12*x_21 + w_22*x_22 + w_32*x_23)],\n",
       "[n_31(w_11*x_31 + w_21*x_32 + w_31*x_33), n_32(w_12*x_31 + w_22*x_32 + w_32*x_33)]])"
      ]
     },
     "execution_count": 1,
     "metadata": {},
     "output_type": "execute_result"
    }
   ],
   "source": [
    "nt = Nelem.subs(elemToSpecFunc); nt"
   ]
  },
  {
   "cell_type": "code",
   "execution_count": 31,
   "metadata": {
    "execution": {
     "iopub.execute_input": "2020-09-24T18:25:06.211948Z",
     "iopub.status.busy": "2020-09-24T18:25:06.207697Z",
     "iopub.status.idle": "2020-09-24T18:25:06.250512Z",
     "shell.execute_reply": "2020-09-24T18:25:06.251619Z"
    },
    "lines_to_next_cell": 0,
    "title": "codecell"
   },
   "outputs": [
    {
     "data": {
      "text/latex": [
       "$\\displaystyle \\left[\\begin{matrix}\\sigma{\\left(\\operatorname{n_{11}}{\\left(w_{11} x_{11} + w_{21} x_{12} + w_{31} x_{13} \\right)} \\right)} & \\sigma{\\left(\\operatorname{n_{12}}{\\left(w_{12} x_{11} + w_{22} x_{12} + w_{32} x_{13} \\right)} \\right)}\\\\\\sigma{\\left(\\operatorname{n_{21}}{\\left(w_{11} x_{21} + w_{21} x_{22} + w_{31} x_{23} \\right)} \\right)} & \\sigma{\\left(\\operatorname{n_{22}}{\\left(w_{12} x_{21} + w_{22} x_{22} + w_{32} x_{23} \\right)} \\right)}\\\\\\sigma{\\left(\\operatorname{n_{31}}{\\left(w_{11} x_{31} + w_{21} x_{32} + w_{31} x_{33} \\right)} \\right)} & \\sigma{\\left(\\operatorname{n_{32}}{\\left(w_{12} x_{31} + w_{22} x_{32} + w_{32} x_{33} \\right)} \\right)}\\end{matrix}\\right]$"
      ],
      "text/plain": [
       "Matrix([\n",
       "[sigma(n_11(w_11*x_11 + w_21*x_12 + w_31*x_13)), sigma(n_12(w_12*x_11 + w_22*x_12 + w_32*x_13))],\n",
       "[sigma(n_21(w_11*x_21 + w_21*x_22 + w_31*x_23)), sigma(n_22(w_12*x_21 + w_22*x_22 + w_32*x_23))],\n",
       "[sigma(n_31(w_11*x_31 + w_21*x_32 + w_31*x_33)), sigma(n_32(w_12*x_31 + w_22*x_32 + w_32*x_33))]])"
      ]
     },
     "execution_count": 1,
     "metadata": {},
     "output_type": "execute_result"
    }
   ],
   "source": [
    "st = Selem.subs(elemToSpecFunc); st"
   ]
  },
  {
   "cell_type": "code",
   "execution_count": 32,
   "metadata": {
    "execution": {
     "iopub.execute_input": "2020-09-24T18:25:06.257318Z",
     "iopub.status.busy": "2020-09-24T18:25:06.255755Z",
     "iopub.status.idle": "2020-09-24T18:25:06.361500Z",
     "shell.execute_reply": "2020-09-24T18:25:06.362577Z"
    },
    "lines_to_next_cell": 0,
    "title": "codecell"
   },
   "outputs": [
    {
     "data": {
      "text/latex": [
       "$\\displaystyle \\left[\\begin{matrix}\\left[\\begin{matrix}\\frac{\\partial}{\\partial \\operatorname{n_{11}}{\\left(w_{11} x_{11} + w_{21} x_{12} + w_{31} x_{13} \\right)}} \\sigma{\\left(\\operatorname{n_{11}}{\\left(w_{11} x_{11} + w_{21} x_{12} + w_{31} x_{13} \\right)} \\right)} & 0\\\\0 & 0\\\\0 & 0\\end{matrix}\\right] & \\left[\\begin{matrix}0 & \\frac{\\partial}{\\partial \\operatorname{n_{12}}{\\left(w_{12} x_{11} + w_{22} x_{12} + w_{32} x_{13} \\right)}} \\sigma{\\left(\\operatorname{n_{12}}{\\left(w_{12} x_{11} + w_{22} x_{12} + w_{32} x_{13} \\right)} \\right)}\\\\0 & 0\\\\0 & 0\\end{matrix}\\right]\\\\\\left[\\begin{matrix}0 & 0\\\\\\frac{\\partial}{\\partial \\operatorname{n_{21}}{\\left(w_{11} x_{21} + w_{21} x_{22} + w_{31} x_{23} \\right)}} \\sigma{\\left(\\operatorname{n_{21}}{\\left(w_{11} x_{21} + w_{21} x_{22} + w_{31} x_{23} \\right)} \\right)} & 0\\\\0 & 0\\end{matrix}\\right] & \\left[\\begin{matrix}0 & 0\\\\0 & \\frac{\\partial}{\\partial \\operatorname{n_{22}}{\\left(w_{12} x_{21} + w_{22} x_{22} + w_{32} x_{23} \\right)}} \\sigma{\\left(\\operatorname{n_{22}}{\\left(w_{12} x_{21} + w_{22} x_{22} + w_{32} x_{23} \\right)} \\right)}\\\\0 & 0\\end{matrix}\\right]\\\\\\left[\\begin{matrix}0 & 0\\\\0 & 0\\\\\\frac{\\partial}{\\partial \\operatorname{n_{31}}{\\left(w_{11} x_{31} + w_{21} x_{32} + w_{31} x_{33} \\right)}} \\sigma{\\left(\\operatorname{n_{31}}{\\left(w_{11} x_{31} + w_{21} x_{32} + w_{31} x_{33} \\right)} \\right)} & 0\\end{matrix}\\right] & \\left[\\begin{matrix}0 & 0\\\\0 & 0\\\\0 & \\frac{\\partial}{\\partial \\operatorname{n_{32}}{\\left(w_{12} x_{31} + w_{22} x_{32} + w_{32} x_{33} \\right)}} \\sigma{\\left(\\operatorname{n_{32}}{\\left(w_{12} x_{31} + w_{22} x_{32} + w_{32} x_{33} \\right)} \\right)}\\end{matrix}\\right]\\end{matrix}\\right]$"
      ],
      "text/plain": [
       "[[[[Derivative(sigma(n_11(w_11*x_11 + w_21*x_12 + w_31*x_13)), n_11(w_11*x_11 + w_21*x_12 + w_31*x_13)), 0], [0, 0], [0, 0]], [[0, Derivative(sigma(n_12(w_12*x_11 + w_22*x_12 + w_32*x_13)), n_12(w_12*x_11 + w_22*x_12 + w_32*x_13))], [0, 0], [0, 0]]], [[[0, 0], [Derivative(sigma(n_21(w_11*x_21 + w_21*x_22 + w_31*x_23)), n_21(w_11*x_21 + w_21*x_22 + w_31*x_23)), 0], [0, 0]], [[0, 0], [0, Derivative(sigma(n_22(w_12*x_21 + w_22*x_22 + w_32*x_23)), n_22(w_12*x_21 + w_22*x_22 + w_32*x_23))], [0, 0]]], [[[0, 0], [0, 0], [Derivative(sigma(n_31(w_11*x_31 + w_21*x_32 + w_31*x_33)), n_31(w_11*x_31 + w_21*x_32 + w_31*x_33)), 0]], [[0, 0], [0, 0], [0, Derivative(sigma(n_32(w_12*x_31 + w_22*x_32 + w_32*x_33)), n_32(w_12*x_31 + w_22*x_32 + w_32*x_33))]]]]"
      ]
     },
     "execution_count": 1,
     "metadata": {},
     "output_type": "execute_result"
    }
   ],
   "source": [
    "st.diff(nt)"
   ]
  },
  {
   "cell_type": "code",
   "execution_count": 33,
   "metadata": {
    "execution": {
     "iopub.execute_input": "2020-09-24T18:25:06.367618Z",
     "iopub.status.busy": "2020-09-24T18:25:06.366104Z",
     "iopub.status.idle": "2020-09-24T18:25:06.387310Z",
     "shell.execute_reply": "2020-09-24T18:25:06.388398Z"
    },
    "lines_to_next_cell": 0,
    "title": "codecell"
   },
   "outputs": [
    {
     "data": {
      "text/latex": [
       "$\\displaystyle \\frac{\\partial}{\\partial \\operatorname{n_{11}}{\\left(w_{11} x_{11} + w_{21} x_{12} + w_{31} x_{13} \\right)}} \\sigma{\\left(\\operatorname{n_{11}}{\\left(w_{11} x_{11} + w_{21} x_{12} + w_{31} x_{13} \\right)} \\right)}$"
      ],
      "text/plain": [
       "Derivative(sigma(n_11(w_11*x_11 + w_21*x_12 + w_31*x_13)), n_11(w_11*x_11 + w_21*x_12 + w_31*x_13))"
      ]
     },
     "execution_count": 1,
     "metadata": {},
     "output_type": "execute_result"
    }
   ],
   "source": [
    "st[0,0].diff(st[0,0].args[0])"
   ]
  },
  {
   "cell_type": "code",
   "execution_count": 34,
   "metadata": {
    "execution": {
     "iopub.execute_input": "2020-09-24T18:25:06.397411Z",
     "iopub.status.busy": "2020-09-24T18:25:06.394817Z",
     "iopub.status.idle": "2020-09-24T18:25:06.431572Z",
     "shell.execute_reply": "2020-09-24T18:25:06.432660Z"
    },
    "title": "codecell"
   },
   "outputs": [
    {
     "data": {
      "text/latex": [
       "$\\displaystyle w_{11} \\frac{\\partial}{\\partial \\operatorname{n_{11}}{\\left(w_{11} x_{11} + w_{21} x_{12} + w_{31} x_{13} \\right)}} \\sigma{\\left(\\operatorname{n_{11}}{\\left(w_{11} x_{11} + w_{21} x_{12} + w_{31} x_{13} \\right)} \\right)} \\left. \\frac{d}{d \\xi_{1}} \\operatorname{n_{11}}{\\left(\\xi_{1} \\right)} \\right|_{\\substack{ \\xi_{1}=w_{11} x_{11} + w_{21} x_{12} + w_{31} x_{13} }}$"
      ],
      "text/plain": [
       "w_11*Derivative(sigma(n_11(w_11*x_11 + w_21*x_12 + w_31*x_13)), n_11(w_11*x_11 + w_21*x_12 + w_31*x_13))*Subs(Derivative(n_11(_xi_1), _xi_1), _xi_1, w_11*x_11 + w_21*x_12 + w_31*x_13)"
      ]
     },
     "execution_count": 1,
     "metadata": {},
     "output_type": "execute_result"
    }
   ],
   "source": [
    "temp = st[0,0].diff(X[0,0]); temp\n",
    "\n",
    "#nt[0,0]\n",
    "\n",
    "#temp.replace(Function(\"n_11\")(nt[0,0].args[0]), nt[0,0].args[0])\n",
    "\n",
    "#temp.subs({nt[0,0] : nt[0,0].args[0]})\n",
    "\n"
   ]
  },
  {
   "cell_type": "code",
   "execution_count": 35,
   "metadata": {
    "execution": {
     "iopub.execute_input": "2020-09-24T18:25:06.437756Z",
     "iopub.status.busy": "2020-09-24T18:25:06.436257Z",
     "iopub.status.idle": "2020-09-24T18:25:06.448214Z",
     "shell.execute_reply": "2020-09-24T18:25:06.449315Z"
    },
    "lines_to_next_cell": 0,
    "title": "codecell"
   },
   "outputs": [
    {
     "data": {
      "text/latex": [
       "$\\displaystyle 0$"
      ],
      "text/plain": [
       "0"
      ]
     },
     "execution_count": 1,
     "metadata": {},
     "output_type": "execute_result"
    }
   ],
   "source": [
    "st[0,0].diff(st[1,0].args[0])"
   ]
  },
  {
   "cell_type": "code",
   "execution_count": 36,
   "metadata": {
    "execution": {
     "iopub.execute_input": "2020-09-24T18:25:06.454751Z",
     "iopub.status.busy": "2020-09-24T18:25:06.452647Z",
     "iopub.status.idle": "2020-09-24T18:25:06.498264Z",
     "shell.execute_reply": "2020-09-24T18:25:06.499395Z"
    },
    "lines_to_next_cell": 0,
    "title": "codecell"
   },
   "outputs": [
    {
     "data": {
      "text/latex": [
       "$\\displaystyle \\left[\\begin{matrix}\\left[\\begin{matrix}\\frac{d}{d n_{11}} \\sigma{\\left(n_{11} \\right)} & 0\\\\0 & 0\\\\0 & 0\\end{matrix}\\right] & \\left[\\begin{matrix}0 & \\frac{d}{d n_{12}} \\sigma{\\left(n_{12} \\right)}\\\\0 & 0\\\\0 & 0\\end{matrix}\\right]\\\\\\left[\\begin{matrix}0 & 0\\\\\\frac{d}{d n_{21}} \\sigma{\\left(n_{21} \\right)} & 0\\\\0 & 0\\end{matrix}\\right] & \\left[\\begin{matrix}0 & 0\\\\0 & \\frac{d}{d n_{22}} \\sigma{\\left(n_{22} \\right)}\\\\0 & 0\\end{matrix}\\right]\\\\\\left[\\begin{matrix}0 & 0\\\\0 & 0\\\\\\frac{d}{d n_{31}} \\sigma{\\left(n_{31} \\right)} & 0\\end{matrix}\\right] & \\left[\\begin{matrix}0 & 0\\\\0 & 0\\\\0 & \\frac{d}{d n_{32}} \\sigma{\\left(n_{32} \\right)}\\end{matrix}\\right]\\end{matrix}\\right]$"
      ],
      "text/plain": [
       "[[[[Derivative(sigma(n_11), n_11), 0], [0, 0], [0, 0]], [[0, Derivative(sigma(n_12), n_12)], [0, 0], [0, 0]]], [[[0, 0], [Derivative(sigma(n_21), n_21), 0], [0, 0]], [[0, 0], [0, Derivative(sigma(n_22), n_22)], [0, 0]]], [[[0, 0], [0, 0], [Derivative(sigma(n_31), n_31), 0]], [[0, 0], [0, 0], [0, Derivative(sigma(n_32), n_32)]]]]"
      ]
     },
     "execution_count": 1,
     "metadata": {},
     "output_type": "execute_result"
    }
   ],
   "source": [
    "Selem.diff(Nelem)"
   ]
  },
  {
   "cell_type": "code",
   "execution_count": 37,
   "metadata": {
    "execution": {
     "iopub.execute_input": "2020-09-24T18:25:06.504761Z",
     "iopub.status.busy": "2020-09-24T18:25:06.503281Z",
     "iopub.status.idle": "2020-09-24T18:25:06.631741Z",
     "shell.execute_reply": "2020-09-24T18:25:06.632912Z"
    },
    "title": "codecell"
   },
   "outputs": [
    {
     "data": {
      "text/latex": [
       "$\\displaystyle \\left[\\begin{matrix}\\left[\\begin{matrix}\\frac{\\partial}{\\partial \\operatorname{n_{11}}{\\left(w_{11} x_{11} + w_{21} x_{12} + w_{31} x_{13} \\right)}} \\sigma{\\left(\\operatorname{n_{11}}{\\left(w_{11} x_{11} + w_{21} x_{12} + w_{31} x_{13} \\right)} \\right)} & 0\\\\0 & 0\\\\0 & 0\\end{matrix}\\right] & \\left[\\begin{matrix}0 & \\frac{\\partial}{\\partial \\operatorname{n_{12}}{\\left(w_{12} x_{11} + w_{22} x_{12} + w_{32} x_{13} \\right)}} \\sigma{\\left(\\operatorname{n_{12}}{\\left(w_{12} x_{11} + w_{22} x_{12} + w_{32} x_{13} \\right)} \\right)}\\\\0 & 0\\\\0 & 0\\end{matrix}\\right]\\\\\\left[\\begin{matrix}0 & 0\\\\\\frac{\\partial}{\\partial \\operatorname{n_{21}}{\\left(w_{11} x_{21} + w_{21} x_{22} + w_{31} x_{23} \\right)}} \\sigma{\\left(\\operatorname{n_{21}}{\\left(w_{11} x_{21} + w_{21} x_{22} + w_{31} x_{23} \\right)} \\right)} & 0\\\\0 & 0\\end{matrix}\\right] & \\left[\\begin{matrix}0 & 0\\\\0 & \\frac{\\partial}{\\partial \\operatorname{n_{22}}{\\left(w_{12} x_{21} + w_{22} x_{22} + w_{32} x_{23} \\right)}} \\sigma{\\left(\\operatorname{n_{22}}{\\left(w_{12} x_{21} + w_{22} x_{22} + w_{32} x_{23} \\right)} \\right)}\\\\0 & 0\\end{matrix}\\right]\\\\\\left[\\begin{matrix}0 & 0\\\\0 & 0\\\\\\frac{\\partial}{\\partial \\operatorname{n_{31}}{\\left(w_{11} x_{31} + w_{21} x_{32} + w_{31} x_{33} \\right)}} \\sigma{\\left(\\operatorname{n_{31}}{\\left(w_{11} x_{31} + w_{21} x_{32} + w_{31} x_{33} \\right)} \\right)} & 0\\end{matrix}\\right] & \\left[\\begin{matrix}0 & 0\\\\0 & 0\\\\0 & \\frac{\\partial}{\\partial \\operatorname{n_{32}}{\\left(w_{12} x_{31} + w_{22} x_{32} + w_{32} x_{33} \\right)}} \\sigma{\\left(\\operatorname{n_{32}}{\\left(w_{12} x_{31} + w_{22} x_{32} + w_{32} x_{33} \\right)} \\right)}\\end{matrix}\\right]\\end{matrix}\\right]$"
      ],
      "text/plain": [
       "[[[[Derivative(sigma(n_11(w_11*x_11 + w_21*x_12 + w_31*x_13)), n_11(w_11*x_11 + w_21*x_12 + w_31*x_13)), 0], [0, 0], [0, 0]], [[0, Derivative(sigma(n_12(w_12*x_11 + w_22*x_12 + w_32*x_13)), n_12(w_12*x_11 + w_22*x_12 + w_32*x_13))], [0, 0], [0, 0]]], [[[0, 0], [Derivative(sigma(n_21(w_11*x_21 + w_21*x_22 + w_31*x_23)), n_21(w_11*x_21 + w_21*x_22 + w_31*x_23)), 0], [0, 0]], [[0, 0], [0, Derivative(sigma(n_22(w_12*x_21 + w_22*x_22 + w_32*x_23)), n_22(w_12*x_21 + w_22*x_22 + w_32*x_23))], [0, 0]]], [[[0, 0], [0, 0], [Derivative(sigma(n_31(w_11*x_31 + w_21*x_32 + w_31*x_33)), n_31(w_11*x_31 + w_21*x_32 + w_31*x_33)), 0]], [[0, 0], [0, 0], [0, Derivative(sigma(n_32(w_12*x_31 + w_22*x_32 + w_32*x_33)), n_32(w_12*x_31 + w_22*x_32 + w_32*x_33))]]]]"
      ]
     },
     "execution_count": 1,
     "metadata": {},
     "output_type": "execute_result"
    }
   ],
   "source": [
    "Selem.diff(Nelem).subs(elemToSpecFunc)"
   ]
  },
  {
   "cell_type": "code",
   "execution_count": 38,
   "metadata": {
    "execution": {
     "iopub.execute_input": "2020-09-24T18:25:06.638545Z",
     "iopub.status.busy": "2020-09-24T18:25:06.636179Z",
     "iopub.status.idle": "2020-09-24T18:25:06.764770Z",
     "shell.execute_reply": "2020-09-24T18:25:06.765841Z"
    },
    "title": "codecell"
   },
   "outputs": [
    {
     "data": {
      "text/latex": [
       "$\\displaystyle \\left[\\begin{matrix}6 & 2 w_{12} x_{11} + 2 w_{22} x_{12} + 2 w_{32} x_{13}\\\\2 w_{11} x_{21} + 2 w_{21} x_{22} + 2 w_{31} x_{23} & 2 w_{12} x_{21} + 2 w_{22} x_{22} + 2 w_{32} x_{23}\\\\2 w_{11} x_{31} + 2 w_{21} x_{32} + 2 w_{31} x_{33} & 4\\end{matrix}\\right]$"
      ],
      "text/plain": [
       "Matrix([\n",
       "[                                      6, 2*w_12*x_11 + 2*w_22*x_12 + 2*w_32*x_13],\n",
       "[2*w_11*x_21 + 2*w_21*x_22 + 2*w_31*x_23, 2*w_12*x_21 + 2*w_22*x_22 + 2*w_32*x_23],\n",
       "[2*w_11*x_31 + 2*w_21*x_32 + 2*w_31*x_33,                                       4]])"
      ]
     },
     "execution_count": 1,
     "metadata": {},
     "output_type": "execute_result"
    }
   ],
   "source": [
    "# CAN even replace elements after have done an operation on them!!! replacing n_21 * 2 with the number 4.\n",
    "Sspec.subs({Nspec[0, 0]: 3}).replace(sigma, lambda x: 2 * x).replace(Nspec[2, 1] * 2, 4)\n",
    "\n",
    "\n",
    "\n",
    "\n",
    "\n",
    "\n",
    "\n"
   ]
  },
  {
   "cell_type": "code",
   "execution_count": 39,
   "metadata": {
    "execution": {
     "iopub.execute_input": "2020-09-24T18:25:06.770849Z",
     "iopub.status.busy": "2020-09-24T18:25:06.769370Z",
     "iopub.status.idle": "2020-09-24T18:25:06.781166Z",
     "shell.execute_reply": "2020-09-24T18:25:06.783064Z"
    },
    "lines_to_next_cell": 0,
    "title": "codecell"
   },
   "outputs": [
    {
     "data": {
      "text/latex": [
       "$\\displaystyle \\lambda{\\left(\\sigma_{apply}{\\left(v{\\left(X,W \\right)} \\right)} \\right)}$"
      ],
      "text/plain": [
       "lambda(sigma_apply(v(X, W)))"
      ]
     },
     "execution_count": 1,
     "metadata": {},
     "output_type": "execute_result"
    }
   ],
   "source": [
    "lambd = Function(\"lambda\")\n",
    "lambd_ = lambda matrix : sum(matrix)\n",
    "\n",
    "L = lambd(S); L"
   ]
  },
  {
   "cell_type": "code",
   "execution_count": 40,
   "metadata": {
    "execution": {
     "iopub.execute_input": "2020-09-24T18:25:06.788042Z",
     "iopub.status.busy": "2020-09-24T18:25:06.786438Z",
     "iopub.status.idle": "2020-09-24T18:25:06.802126Z",
     "shell.execute_reply": "2020-09-24T18:25:06.803539Z"
    },
    "lines_to_next_cell": 0,
    "title": "codecell"
   },
   "outputs": [
    {
     "data": {
      "text/latex": [
       "$\\displaystyle \\lambda{\\left(\\left[\\begin{matrix}\\sigma{\\left(n_{11} \\right)} & \\sigma{\\left(n_{12} \\right)}\\\\\\sigma{\\left(n_{21} \\right)} & \\sigma{\\left(n_{22} \\right)}\\\\\\sigma{\\left(n_{31} \\right)} & \\sigma{\\left(n_{32} \\right)}\\end{matrix}\\right] \\right)}$"
      ],
      "text/plain": [
       "lambda(Matrix([\n",
       "[sigma(n_11), sigma(n_12)],\n",
       "[sigma(n_21), sigma(n_22)],\n",
       "[sigma(n_31), sigma(n_32)]]))"
      ]
     },
     "execution_count": 1,
     "metadata": {},
     "output_type": "execute_result"
    }
   ],
   "source": [
    "L.replace(n, vN).replace(sigmaApply, sigmaApply_)"
   ]
  },
  {
   "cell_type": "code",
   "execution_count": 41,
   "metadata": {
    "execution": {
     "iopub.execute_input": "2020-09-24T18:25:06.808851Z",
     "iopub.status.busy": "2020-09-24T18:25:06.807251Z",
     "iopub.status.idle": "2020-09-24T18:25:06.812936Z",
     "shell.execute_reply": "2020-09-24T18:25:06.814542Z"
    },
    "title": "codecell"
   },
   "outputs": [],
   "source": [
    "#L.replace(n, vN).replace(sigmaApply, sigmaApply_).diff(Nelem[0,0])"
   ]
  },
  {
   "cell_type": "code",
   "execution_count": 42,
   "metadata": {
    "execution": {
     "iopub.execute_input": "2020-09-24T18:25:06.819750Z",
     "iopub.status.busy": "2020-09-24T18:25:06.817801Z",
     "iopub.status.idle": "2020-09-24T18:25:06.838151Z",
     "shell.execute_reply": "2020-09-24T18:25:06.839221Z"
    },
    "lines_to_next_cell": 0,
    "title": "codecell"
   },
   "outputs": [
    {
     "data": {
      "text/latex": [
       "$\\displaystyle \\sigma{\\left(n_{11} \\right)} + \\sigma{\\left(n_{12} \\right)} + \\sigma{\\left(n_{21} \\right)} + \\sigma{\\left(n_{22} \\right)} + \\sigma{\\left(n_{31} \\right)} + \\sigma{\\left(n_{32} \\right)}$"
      ],
      "text/plain": [
       "sigma(n_11) + sigma(n_12) + sigma(n_21) + sigma(n_22) + sigma(n_31) + sigma(n_32)"
      ]
     },
     "execution_count": 1,
     "metadata": {},
     "output_type": "execute_result"
    }
   ],
   "source": [
    "Lsum = L.replace(n, vN).replace(sigmaApply, sigmaApply_).replace(lambd, lambd_)\n",
    "Lsum"
   ]
  },
  {
   "cell_type": "code",
   "execution_count": 43,
   "metadata": {
    "execution": {
     "iopub.execute_input": "2020-09-24T18:25:06.844261Z",
     "iopub.status.busy": "2020-09-24T18:25:06.842680Z",
     "iopub.status.idle": "2020-09-24T18:25:06.868887Z",
     "shell.execute_reply": "2020-09-24T18:25:06.870100Z"
    },
    "lines_to_next_cell": 0,
    "title": "codecell"
   },
   "outputs": [
    {
     "data": {
      "text/latex": [
       "$\\displaystyle \\left[\\begin{matrix}\\frac{d}{d n_{11}} \\sigma{\\left(n_{11} \\right)} & \\frac{d}{d n_{12}} \\sigma{\\left(n_{12} \\right)}\\\\\\frac{d}{d n_{21}} \\sigma{\\left(n_{21} \\right)} & \\frac{d}{d n_{22}} \\sigma{\\left(n_{22} \\right)}\\\\\\frac{d}{d n_{31}} \\sigma{\\left(n_{31} \\right)} & \\frac{d}{d n_{32}} \\sigma{\\left(n_{32} \\right)}\\end{matrix}\\right]$"
      ],
      "text/plain": [
       "Matrix([\n",
       "[Derivative(sigma(n_11), n_11), Derivative(sigma(n_12), n_12)],\n",
       "[Derivative(sigma(n_21), n_21), Derivative(sigma(n_22), n_22)],\n",
       "[Derivative(sigma(n_31), n_31), Derivative(sigma(n_32), n_32)]])"
      ]
     },
     "execution_count": 1,
     "metadata": {},
     "output_type": "execute_result"
    }
   ],
   "source": [
    "Lsum.diff(Nelem)"
   ]
  },
  {
   "cell_type": "code",
   "execution_count": 44,
   "metadata": {
    "execution": {
     "iopub.execute_input": "2020-09-24T18:25:06.875049Z",
     "iopub.status.busy": "2020-09-24T18:25:06.873516Z",
     "iopub.status.idle": "2020-09-24T18:25:06.924272Z",
     "shell.execute_reply": "2020-09-24T18:25:06.925337Z"
    },
    "lines_to_next_cell": 0,
    "title": "codecell"
   },
   "outputs": [
    {
     "data": {
      "text/latex": [
       "$\\displaystyle \\sigma{\\left(w_{11} x_{11} + w_{21} x_{12} + w_{31} x_{13} \\right)} + \\sigma{\\left(w_{11} x_{21} + w_{21} x_{22} + w_{31} x_{23} \\right)} + \\sigma{\\left(w_{11} x_{31} + w_{21} x_{32} + w_{31} x_{33} \\right)} + \\sigma{\\left(w_{12} x_{11} + w_{22} x_{12} + w_{32} x_{13} \\right)} + \\sigma{\\left(w_{12} x_{21} + w_{22} x_{22} + w_{32} x_{23} \\right)} + \\sigma{\\left(w_{12} x_{31} + w_{22} x_{32} + w_{32} x_{33} \\right)}$"
      ],
      "text/plain": [
       "sigma(w_11*x_11 + w_21*x_12 + w_31*x_13) + sigma(w_11*x_21 + w_21*x_22 + w_31*x_23) + sigma(w_11*x_31 + w_21*x_32 + w_31*x_33) + sigma(w_12*x_11 + w_22*x_12 + w_32*x_13) + sigma(w_12*x_21 + w_22*x_22 + w_32*x_23) + sigma(w_12*x_31 + w_22*x_32 + w_32*x_33)"
      ]
     },
     "execution_count": 1,
     "metadata": {},
     "output_type": "execute_result"
    }
   ],
   "source": [
    "Lsum.subs(elemToSpecD)#.diff(X[2,1])"
   ]
  },
  {
   "cell_type": "code",
   "execution_count": 45,
   "metadata": {
    "execution": {
     "iopub.execute_input": "2020-09-24T18:25:06.930636Z",
     "iopub.status.busy": "2020-09-24T18:25:06.929040Z",
     "iopub.status.idle": "2020-09-24T18:25:07.221494Z",
     "shell.execute_reply": "2020-09-24T18:25:07.222599Z"
    },
    "lines_to_next_cell": 0,
    "title": "codecell"
   },
   "outputs": [
    {
     "data": {
      "text/latex": [
       "$\\displaystyle \\left[\\begin{matrix}w_{11} \\left. \\frac{d}{d \\xi_{1}} \\sigma{\\left(\\xi_{1} \\right)} \\right|_{\\substack{ \\xi_{1}=w_{11} x_{11} + w_{21} x_{12} + w_{31} x_{13} }} + w_{12} \\left. \\frac{d}{d \\xi_{1}} \\sigma{\\left(\\xi_{1} \\right)} \\right|_{\\substack{ \\xi_{1}=w_{12} x_{11} + w_{22} x_{12} + w_{32} x_{13} }} & w_{21} \\left. \\frac{d}{d \\xi_{1}} \\sigma{\\left(\\xi_{1} \\right)} \\right|_{\\substack{ \\xi_{1}=w_{11} x_{11} + w_{21} x_{12} + w_{31} x_{13} }} + w_{22} \\left. \\frac{d}{d \\xi_{1}} \\sigma{\\left(\\xi_{1} \\right)} \\right|_{\\substack{ \\xi_{1}=w_{12} x_{11} + w_{22} x_{12} + w_{32} x_{13} }} & w_{31} \\left. \\frac{d}{d \\xi_{1}} \\sigma{\\left(\\xi_{1} \\right)} \\right|_{\\substack{ \\xi_{1}=w_{11} x_{11} + w_{21} x_{12} + w_{31} x_{13} }} + w_{32} \\left. \\frac{d}{d \\xi_{1}} \\sigma{\\left(\\xi_{1} \\right)} \\right|_{\\substack{ \\xi_{1}=w_{12} x_{11} + w_{22} x_{12} + w_{32} x_{13} }}\\\\w_{11} \\left. \\frac{d}{d \\xi_{1}} \\sigma{\\left(\\xi_{1} \\right)} \\right|_{\\substack{ \\xi_{1}=w_{11} x_{21} + w_{21} x_{22} + w_{31} x_{23} }} + w_{12} \\left. \\frac{d}{d \\xi_{1}} \\sigma{\\left(\\xi_{1} \\right)} \\right|_{\\substack{ \\xi_{1}=w_{12} x_{21} + w_{22} x_{22} + w_{32} x_{23} }} & w_{21} \\left. \\frac{d}{d \\xi_{1}} \\sigma{\\left(\\xi_{1} \\right)} \\right|_{\\substack{ \\xi_{1}=w_{11} x_{21} + w_{21} x_{22} + w_{31} x_{23} }} + w_{22} \\left. \\frac{d}{d \\xi_{1}} \\sigma{\\left(\\xi_{1} \\right)} \\right|_{\\substack{ \\xi_{1}=w_{12} x_{21} + w_{22} x_{22} + w_{32} x_{23} }} & w_{31} \\left. \\frac{d}{d \\xi_{1}} \\sigma{\\left(\\xi_{1} \\right)} \\right|_{\\substack{ \\xi_{1}=w_{11} x_{21} + w_{21} x_{22} + w_{31} x_{23} }} + w_{32} \\left. \\frac{d}{d \\xi_{1}} \\sigma{\\left(\\xi_{1} \\right)} \\right|_{\\substack{ \\xi_{1}=w_{12} x_{21} + w_{22} x_{22} + w_{32} x_{23} }}\\\\w_{11} \\left. \\frac{d}{d \\xi_{1}} \\sigma{\\left(\\xi_{1} \\right)} \\right|_{\\substack{ \\xi_{1}=w_{11} x_{31} + w_{21} x_{32} + w_{31} x_{33} }} + w_{12} \\left. \\frac{d}{d \\xi_{1}} \\sigma{\\left(\\xi_{1} \\right)} \\right|_{\\substack{ \\xi_{1}=w_{12} x_{31} + w_{22} x_{32} + w_{32} x_{33} }} & w_{21} \\left. \\frac{d}{d \\xi_{1}} \\sigma{\\left(\\xi_{1} \\right)} \\right|_{\\substack{ \\xi_{1}=w_{11} x_{31} + w_{21} x_{32} + w_{31} x_{33} }} + w_{22} \\left. \\frac{d}{d \\xi_{1}} \\sigma{\\left(\\xi_{1} \\right)} \\right|_{\\substack{ \\xi_{1}=w_{12} x_{31} + w_{22} x_{32} + w_{32} x_{33} }} & w_{31} \\left. \\frac{d}{d \\xi_{1}} \\sigma{\\left(\\xi_{1} \\right)} \\right|_{\\substack{ \\xi_{1}=w_{11} x_{31} + w_{21} x_{32} + w_{31} x_{33} }} + w_{32} \\left. \\frac{d}{d \\xi_{1}} \\sigma{\\left(\\xi_{1} \\right)} \\right|_{\\substack{ \\xi_{1}=w_{12} x_{31} + w_{22} x_{32} + w_{32} x_{33} }}\\end{matrix}\\right]$"
      ],
      "text/plain": [
       "Matrix([\n",
       "[w_11*Subs(Derivative(sigma(_xi_1), _xi_1), _xi_1, w_11*x_11 + w_21*x_12 + w_31*x_13) + w_12*Subs(Derivative(sigma(_xi_1), _xi_1), _xi_1, w_12*x_11 + w_22*x_12 + w_32*x_13), w_21*Subs(Derivative(sigma(_xi_1), _xi_1), _xi_1, w_11*x_11 + w_21*x_12 + w_31*x_13) + w_22*Subs(Derivative(sigma(_xi_1), _xi_1), _xi_1, w_12*x_11 + w_22*x_12 + w_32*x_13), w_31*Subs(Derivative(sigma(_xi_1), _xi_1), _xi_1, w_11*x_11 + w_21*x_12 + w_31*x_13) + w_32*Subs(Derivative(sigma(_xi_1), _xi_1), _xi_1, w_12*x_11 + w_22*x_12 + w_32*x_13)],\n",
       "[w_11*Subs(Derivative(sigma(_xi_1), _xi_1), _xi_1, w_11*x_21 + w_21*x_22 + w_31*x_23) + w_12*Subs(Derivative(sigma(_xi_1), _xi_1), _xi_1, w_12*x_21 + w_22*x_22 + w_32*x_23), w_21*Subs(Derivative(sigma(_xi_1), _xi_1), _xi_1, w_11*x_21 + w_21*x_22 + w_31*x_23) + w_22*Subs(Derivative(sigma(_xi_1), _xi_1), _xi_1, w_12*x_21 + w_22*x_22 + w_32*x_23), w_31*Subs(Derivative(sigma(_xi_1), _xi_1), _xi_1, w_11*x_21 + w_21*x_22 + w_31*x_23) + w_32*Subs(Derivative(sigma(_xi_1), _xi_1), _xi_1, w_12*x_21 + w_22*x_22 + w_32*x_23)],\n",
       "[w_11*Subs(Derivative(sigma(_xi_1), _xi_1), _xi_1, w_11*x_31 + w_21*x_32 + w_31*x_33) + w_12*Subs(Derivative(sigma(_xi_1), _xi_1), _xi_1, w_12*x_31 + w_22*x_32 + w_32*x_33), w_21*Subs(Derivative(sigma(_xi_1), _xi_1), _xi_1, w_11*x_31 + w_21*x_32 + w_31*x_33) + w_22*Subs(Derivative(sigma(_xi_1), _xi_1), _xi_1, w_12*x_31 + w_22*x_32 + w_32*x_33), w_31*Subs(Derivative(sigma(_xi_1), _xi_1), _xi_1, w_11*x_31 + w_21*x_32 + w_31*x_33) + w_32*Subs(Derivative(sigma(_xi_1), _xi_1), _xi_1, w_12*x_31 + w_22*x_32 + w_32*x_33)]])"
      ]
     },
     "execution_count": 1,
     "metadata": {},
     "output_type": "execute_result"
    }
   ],
   "source": [
    "Lsum.subs(elemToSpecD).diff(X)"
   ]
  },
  {
   "cell_type": "code",
   "execution_count": 46,
   "metadata": {
    "execution": {
     "iopub.execute_input": "2020-09-24T18:25:07.227625Z",
     "iopub.status.busy": "2020-09-24T18:25:07.226030Z",
     "iopub.status.idle": "2020-09-24T18:25:07.634726Z",
     "shell.execute_reply": "2020-09-24T18:25:07.635868Z"
    },
    "title": "codecell"
   },
   "outputs": [
    {
     "data": {
      "text/latex": [
       "$\\displaystyle \\left[\\begin{matrix}w_{11} \\left. \\frac{d}{d \\xi_{1}} \\sigma{\\left(\\xi_{1} \\right)} \\right|_{\\substack{ \\xi_{1}=n_{11} }} + w_{12} \\left. \\frac{d}{d \\xi_{1}} \\sigma{\\left(\\xi_{1} \\right)} \\right|_{\\substack{ \\xi_{1}=n_{12} }} & w_{21} \\left. \\frac{d}{d \\xi_{1}} \\sigma{\\left(\\xi_{1} \\right)} \\right|_{\\substack{ \\xi_{1}=n_{11} }} + w_{22} \\left. \\frac{d}{d \\xi_{1}} \\sigma{\\left(\\xi_{1} \\right)} \\right|_{\\substack{ \\xi_{1}=n_{12} }} & w_{31} \\left. \\frac{d}{d \\xi_{1}} \\sigma{\\left(\\xi_{1} \\right)} \\right|_{\\substack{ \\xi_{1}=n_{11} }} + w_{32} \\left. \\frac{d}{d \\xi_{1}} \\sigma{\\left(\\xi_{1} \\right)} \\right|_{\\substack{ \\xi_{1}=n_{12} }}\\\\w_{11} \\left. \\frac{d}{d \\xi_{1}} \\sigma{\\left(\\xi_{1} \\right)} \\right|_{\\substack{ \\xi_{1}=n_{21} }} + w_{12} \\left. \\frac{d}{d \\xi_{1}} \\sigma{\\left(\\xi_{1} \\right)} \\right|_{\\substack{ \\xi_{1}=n_{22} }} & w_{21} \\left. \\frac{d}{d \\xi_{1}} \\sigma{\\left(\\xi_{1} \\right)} \\right|_{\\substack{ \\xi_{1}=n_{21} }} + w_{22} \\left. \\frac{d}{d \\xi_{1}} \\sigma{\\left(\\xi_{1} \\right)} \\right|_{\\substack{ \\xi_{1}=n_{22} }} & w_{31} \\left. \\frac{d}{d \\xi_{1}} \\sigma{\\left(\\xi_{1} \\right)} \\right|_{\\substack{ \\xi_{1}=n_{21} }} + w_{32} \\left. \\frac{d}{d \\xi_{1}} \\sigma{\\left(\\xi_{1} \\right)} \\right|_{\\substack{ \\xi_{1}=n_{22} }}\\\\w_{11} \\left. \\frac{d}{d \\xi_{1}} \\sigma{\\left(\\xi_{1} \\right)} \\right|_{\\substack{ \\xi_{1}=n_{31} }} + w_{12} \\left. \\frac{d}{d \\xi_{1}} \\sigma{\\left(\\xi_{1} \\right)} \\right|_{\\substack{ \\xi_{1}=n_{32} }} & w_{21} \\left. \\frac{d}{d \\xi_{1}} \\sigma{\\left(\\xi_{1} \\right)} \\right|_{\\substack{ \\xi_{1}=n_{31} }} + w_{22} \\left. \\frac{d}{d \\xi_{1}} \\sigma{\\left(\\xi_{1} \\right)} \\right|_{\\substack{ \\xi_{1}=n_{32} }} & w_{31} \\left. \\frac{d}{d \\xi_{1}} \\sigma{\\left(\\xi_{1} \\right)} \\right|_{\\substack{ \\xi_{1}=n_{31} }} + w_{32} \\left. \\frac{d}{d \\xi_{1}} \\sigma{\\left(\\xi_{1} \\right)} \\right|_{\\substack{ \\xi_{1}=n_{32} }}\\end{matrix}\\right]$"
      ],
      "text/plain": [
       "Matrix([\n",
       "[w_11*Subs(Derivative(sigma(_xi_1), _xi_1), _xi_1, n_11) + w_12*Subs(Derivative(sigma(_xi_1), _xi_1), _xi_1, n_12), w_21*Subs(Derivative(sigma(_xi_1), _xi_1), _xi_1, n_11) + w_22*Subs(Derivative(sigma(_xi_1), _xi_1), _xi_1, n_12), w_31*Subs(Derivative(sigma(_xi_1), _xi_1), _xi_1, n_11) + w_32*Subs(Derivative(sigma(_xi_1), _xi_1), _xi_1, n_12)],\n",
       "[w_11*Subs(Derivative(sigma(_xi_1), _xi_1), _xi_1, n_21) + w_12*Subs(Derivative(sigma(_xi_1), _xi_1), _xi_1, n_22), w_21*Subs(Derivative(sigma(_xi_1), _xi_1), _xi_1, n_21) + w_22*Subs(Derivative(sigma(_xi_1), _xi_1), _xi_1, n_22), w_31*Subs(Derivative(sigma(_xi_1), _xi_1), _xi_1, n_21) + w_32*Subs(Derivative(sigma(_xi_1), _xi_1), _xi_1, n_22)],\n",
       "[w_11*Subs(Derivative(sigma(_xi_1), _xi_1), _xi_1, n_31) + w_12*Subs(Derivative(sigma(_xi_1), _xi_1), _xi_1, n_32), w_21*Subs(Derivative(sigma(_xi_1), _xi_1), _xi_1, n_31) + w_22*Subs(Derivative(sigma(_xi_1), _xi_1), _xi_1, n_32), w_31*Subs(Derivative(sigma(_xi_1), _xi_1), _xi_1, n_31) + w_32*Subs(Derivative(sigma(_xi_1), _xi_1), _xi_1, n_32)]])"
      ]
     },
     "execution_count": 1,
     "metadata": {},
     "output_type": "execute_result"
    }
   ],
   "source": [
    "# METHOD 1: direct matrix diff\n",
    "#\n",
    "### END RESULT ACHIEVED HERE (this is the end result and the most specific form of the result of the  matrix differentiation, when sigma is unknown)\n",
    "specToElemD = {v:k for k,v in elemToSpecD.items()}\n",
    "\n",
    "assert Lsum == L.replace(n, vN).replace(sigmaApply, sigmaApply_).replace(lambd, lambd_)\n",
    "Lsum.subs(elemToSpecD).diff(X).subs(specToElemD)\n",
    "\n"
   ]
  },
  {
   "cell_type": "code",
   "execution_count": 47,
   "metadata": {
    "execution": {
     "iopub.execute_input": "2020-09-24T18:25:07.640825Z",
     "iopub.status.busy": "2020-09-24T18:25:07.639309Z",
     "iopub.status.idle": "2020-09-24T18:25:07.651850Z",
     "shell.execute_reply": "2020-09-24T18:25:07.653225Z"
    },
    "lines_to_next_cell": 0,
    "title": "codecell"
   },
   "outputs": [
    {
     "data": {
      "text/latex": [
       "$\\displaystyle \\left[\\begin{matrix}\\sigma{\\left(n_{11} \\right)} & \\sigma{\\left(n_{12} \\right)}\\\\\\sigma{\\left(n_{21} \\right)} & \\sigma{\\left(n_{22} \\right)}\\\\\\sigma{\\left(n_{31} \\right)} & \\sigma{\\left(n_{32} \\right)}\\end{matrix}\\right]$"
      ],
      "text/plain": [
       "Matrix([\n",
       "[sigma(n_11), sigma(n_12)],\n",
       "[sigma(n_21), sigma(n_22)],\n",
       "[sigma(n_31), sigma(n_32)]])"
      ]
     },
     "execution_count": 1,
     "metadata": {},
     "output_type": "execute_result"
    }
   ],
   "source": [
    "# METHOD 2: doing matrix symbol diff\n",
    "#\n",
    "#### NOW DOING THE MATRIX SYMBOL DIFF EXPRESSION (trying to achieve a form that shows the chain rule w.r.t to matrix symbol)\n",
    "Selem"
   ]
  },
  {
   "cell_type": "code",
   "execution_count": 48,
   "metadata": {
    "execution": {
     "iopub.execute_input": "2020-09-24T18:25:07.665032Z",
     "iopub.status.busy": "2020-09-24T18:25:07.656581Z",
     "iopub.status.idle": "2020-09-24T18:25:07.673419Z",
     "shell.execute_reply": "2020-09-24T18:25:07.674628Z"
    },
    "lines_to_next_cell": 0,
    "title": "codecell"
   },
   "outputs": [
    {
     "data": {
      "text/latex": [
       "$\\displaystyle \\lambda{\\left(\\sigma_{apply}{\\left(v{\\left(X,W \\right)} \\right)} \\right)}$"
      ],
      "text/plain": [
       "lambda(sigma_apply(v(X, W)))"
      ]
     },
     "execution_count": 1,
     "metadata": {},
     "output_type": "execute_result"
    }
   ],
   "source": [
    "L"
   ]
  },
  {
   "cell_type": "code",
   "execution_count": 49,
   "metadata": {
    "execution": {
     "iopub.execute_input": "2020-09-24T18:25:07.679599Z",
     "iopub.status.busy": "2020-09-24T18:25:07.678069Z",
     "iopub.status.idle": "2020-09-24T18:25:07.683541Z",
     "shell.execute_reply": "2020-09-24T18:25:07.684669Z"
    },
    "title": "codecell"
   },
   "outputs": [],
   "source": [
    "#L.replace(A, A.T).diff(A) #ERROR: fatal python error ... why??"
   ]
  },
  {
   "cell_type": "code",
   "execution_count": 50,
   "metadata": {
    "execution": {
     "iopub.execute_input": "2020-09-24T18:25:07.690105Z",
     "iopub.status.busy": "2020-09-24T18:25:07.688045Z",
     "iopub.status.idle": "2020-09-24T18:25:07.693297Z",
     "shell.execute_reply": "2020-09-24T18:25:07.694350Z"
    },
    "title": "codecell"
   },
   "outputs": [],
   "source": [
    "#L.replace(n,v).diff(A).replace(sigmaApply, sigmaApply_) # ERROR\n",
    "#L.replace(n,vN).subs(elemToSpecFuncD).replace(sigmaApply, sigmaApply_).diff(X) # why the zero matrix?"
   ]
  },
  {
   "cell_type": "code",
   "execution_count": 51,
   "metadata": {
    "execution": {
     "iopub.execute_input": "2020-09-24T18:25:07.701644Z",
     "iopub.status.busy": "2020-09-24T18:25:07.697821Z",
     "iopub.status.idle": "2020-09-24T18:25:07.754454Z",
     "shell.execute_reply": "2020-09-24T18:25:07.755583Z"
    },
    "lines_to_next_cell": 0,
    "title": "codecell"
   },
   "outputs": [
    {
     "data": {
      "text/latex": [
       "$\\displaystyle \\left. \\frac{d}{d \\xi_{1}} \\sigma_{apply}{\\left(\\xi_{1} \\right)} \\right|_{\\substack{ \\xi_{1}=X W }} \\frac{\\partial}{\\partial \\sigma_{apply}{\\left(X W \\right)}} \\lambda{\\left(\\sigma_{apply}{\\left(X W \\right)} \\right)} \\frac{\\partial}{\\partial X} X W$"
      ],
      "text/plain": [
       "Subs(Derivative(sigma_apply(_xi_1), _xi_1), _xi_1, X*W)*Derivative(lambda(sigma_apply(X*W)), sigma_apply(X*W))*Derivative(X*W, X)"
      ]
     },
     "execution_count": 1,
     "metadata": {},
     "output_type": "execute_result"
    }
   ],
   "source": [
    "L.replace(n,v).diff(A)"
   ]
  },
  {
   "cell_type": "code",
   "execution_count": 52,
   "metadata": {
    "execution": {
     "iopub.execute_input": "2020-09-24T18:25:07.760498Z",
     "iopub.status.busy": "2020-09-24T18:25:07.758961Z",
     "iopub.status.idle": "2020-09-24T18:25:07.803966Z",
     "shell.execute_reply": "2020-09-24T18:25:07.805083Z"
    },
    "title": "codecell"
   },
   "outputs": [
    {
     "data": {
      "text/latex": [
       "$\\displaystyle \\left. \\frac{d}{d \\xi_{1}} \\sigma_{apply}{\\left(\\xi_{1} \\right)} \\right|_{\\substack{ \\xi_{1}=X W }} \\frac{\\partial}{\\partial \\sigma_{apply}{\\left(X W \\right)}} \\lambda{\\left(\\sigma_{apply}{\\left(X W \\right)} \\right)} \\frac{\\partial}{\\partial X} X W$"
      ],
      "text/plain": [
       "Subs(Derivative(sigma_apply(_xi_1), _xi_1), _xi_1, X*W)*Derivative(lambda(sigma_apply(X*W)), sigma_apply(X*W))*Derivative(X*W, X)"
      ]
     },
     "execution_count": 1,
     "metadata": {},
     "output_type": "execute_result"
    }
   ],
   "source": [
    "L.replace(n,vL).diff(A)"
   ]
  },
  {
   "cell_type": "code",
   "execution_count": 53,
   "metadata": {
    "title": "codecell"
   },
   "outputs": [],
   "source": []
  },
  {
   "cell_type": "code",
   "execution_count": 53,
   "metadata": {
    "lines_to_next_cell": 0,
    "title": "codecell"
   },
   "outputs": [],
   "source": []
  },
  {
   "cell_type": "code",
   "execution_count": 53,
   "metadata": {
    "lines_to_next_cell": 0,
    "title": "codecell"
   },
   "outputs": [],
   "source": []
  },
  {
   "cell_type": "code",
   "execution_count": 53,
   "metadata": {
    "lines_to_next_cell": 0,
    "title": "codecell"
   },
   "outputs": [],
   "source": []
  },
  {
   "cell_type": "code",
   "execution_count": 53,
   "metadata": {
    "execution": {
     "iopub.execute_input": "2020-09-24T18:25:07.812600Z",
     "iopub.status.busy": "2020-09-24T18:25:07.810320Z",
     "iopub.status.idle": "2020-09-24T18:25:07.816042Z",
     "shell.execute_reply": "2020-09-24T18:25:07.817161Z"
    },
    "lines_to_next_cell": 0,
    "title": "codecell"
   },
   "outputs": [],
   "source": [
    "#L.replace(n,v).diff(A).replace(lambd,lambd_) ### ERROR sigma object is not iterable\n",
    "#L.replace(n,vL).diff(A).replace(sigmaApply, sigmaApply_)### ERROR\n",
    "#L.replace(n,v).diff(A).replace(sigmaApply, sigmaApply_) ### ERROR dummy object has no attribute applyfunc"
   ]
  },
  {
   "cell_type": "code",
   "execution_count": 54,
   "metadata": {
    "execution": {
     "iopub.execute_input": "2020-09-24T18:25:07.823401Z",
     "iopub.status.busy": "2020-09-24T18:25:07.820803Z",
     "iopub.status.idle": "2020-09-24T18:25:07.834677Z",
     "shell.execute_reply": "2020-09-24T18:25:07.835872Z"
    },
    "lines_to_next_cell": 0,
    "title": "codecell"
   },
   "outputs": [
    {
     "data": {
      "text/latex": [
       "$\\displaystyle \\lambda{\\left({\\left( d \\mapsto \\sigma{\\left(d \\right)} \\right)}_{\\circ}\\left({X W}\\right) \\right)}$"
      ],
      "text/plain": [
       "lambda(Lambda(_d, sigma(_d)).(X*W))"
      ]
     },
     "execution_count": 1,
     "metadata": {},
     "output_type": "execute_result"
    }
   ],
   "source": [
    "#L.replace(sigmaApply, sigmaApply_).diff(A) # ERROR\n",
    "# L.replace(lambd, lambd_) # ERROR\n",
    "\n",
    "#L.replace(n, v).replace(sigmaApply, sigmaApply_2)# shows matrix results, too specific, want the function composition notation as below but just applied to the function v(X,W) in abstract way\n",
    "### METHOD 0: (prepare by substituting n --> v, then sigmaApply --> sigma)\n",
    "L.replace(n, v).replace(sigmaApply, sigmaApply_)#.replace(lambd, lambd_)"
   ]
  },
  {
   "cell_type": "code",
   "execution_count": 55,
   "metadata": {
    "execution": {
     "iopub.execute_input": "2020-09-24T18:25:07.840858Z",
     "iopub.status.busy": "2020-09-24T18:25:07.839349Z",
     "iopub.status.idle": "2020-09-24T18:25:07.850724Z",
     "shell.execute_reply": "2020-09-24T18:25:07.851894Z"
    },
    "lines_to_next_cell": 0,
    "title": "codecell"
   },
   "outputs": [
    {
     "data": {
      "text/latex": [
       "$\\displaystyle \\lambda{\\left(\\sigma{\\left(v{\\left(X,W \\right)} \\right)} \\right)}$"
      ],
      "text/plain": [
       "lambda(sigma(v(X, W)))"
      ]
     },
     "execution_count": 1,
     "metadata": {},
     "output_type": "execute_result"
    }
   ],
   "source": [
    "\n",
    "# NOTE: the point here is that even replacing with a sympy Lambda doesn't give same result as above since above uses the V.applyfunc(sigma) within the Lambda.\n",
    "L.replace(sigmaApply, Lambda(d, sigma(d)))"
   ]
  },
  {
   "cell_type": "code",
   "execution_count": 56,
   "metadata": {
    "execution": {
     "iopub.execute_input": "2020-09-24T18:25:07.856597Z",
     "iopub.status.busy": "2020-09-24T18:25:07.855053Z",
     "iopub.status.idle": "2020-09-24T18:25:07.866766Z",
     "shell.execute_reply": "2020-09-24T18:25:07.867914Z"
    },
    "lines_to_next_cell": 0,
    "title": "codecell"
   },
   "outputs": [
    {
     "data": {
      "text/latex": [
       "$\\displaystyle \\lambda{\\left(\\sigma_{apply}{\\left(v \\right)} \\right)}$"
      ],
      "text/plain": [
       "lambda(sigma_apply(v))"
      ]
     },
     "execution_count": 1,
     "metadata": {},
     "output_type": "execute_result"
    }
   ],
   "source": [
    "\n",
    "vSym = Symbol('v', applyfunc=True)\n",
    "L.replace(n(A,B), vSym)"
   ]
  },
  {
   "cell_type": "code",
   "execution_count": 57,
   "metadata": {
    "execution": {
     "iopub.execute_input": "2020-09-24T18:25:07.873574Z",
     "iopub.status.busy": "2020-09-24T18:25:07.871694Z",
     "iopub.status.idle": "2020-09-24T18:25:07.883927Z",
     "shell.execute_reply": "2020-09-24T18:25:07.885040Z"
    },
    "lines_to_next_cell": 0,
    "title": "codecell"
   },
   "outputs": [
    {
     "data": {
      "text/latex": [
       "$\\displaystyle V$"
      ],
      "text/plain": [
       "V"
      ]
     },
     "execution_count": 1,
     "metadata": {},
     "output_type": "execute_result"
    }
   ],
   "source": [
    "#L.replace(n(A,B), vSym).replace(sigmaApply, sigmaApply_)# ERROR because Symbol has no atttribute applyfunc (that is the one we want though so must use matrix symbol which for some reason works instead of just an ordinary symbol v\n",
    "#V = MatrixSymbol()\n",
    "# Takes in the symbols A and B matrices and returns the matrix symbol with the shape that is supposed to result after A*B\n",
    "V = lambda matA, matB: MatrixSymbol('V', matA.shape[0], matB.shape[1])\n",
    "V\n",
    "V(A,B)#.shape"
   ]
  },
  {
   "cell_type": "code",
   "execution_count": 58,
   "metadata": {
    "execution": {
     "iopub.execute_input": "2020-09-24T18:25:07.890028Z",
     "iopub.status.busy": "2020-09-24T18:25:07.888514Z",
     "iopub.status.idle": "2020-09-24T18:25:07.898205Z",
     "shell.execute_reply": "2020-09-24T18:25:07.899363Z"
    },
    "lines_to_next_cell": 0,
    "title": "codecell"
   },
   "outputs": [],
   "source": [
    "from sympy import symbols\n",
    "#V = MatrixSymbol('V', X.shape[0], W.shape[1])\n",
    "i, j = symbols('i j')\n",
    "M = MatrixSymbol('M', i, j)# abstract shape\n",
    "sigmaApply_L = Lambda(M, M.applyfunc(sigma))\n",
    "lambda_L = Lambda(M, sum(M))"
   ]
  },
  {
   "cell_type": "code",
   "execution_count": 59,
   "metadata": {
    "execution": {
     "iopub.execute_input": "2020-09-24T18:25:07.904480Z",
     "iopub.status.busy": "2020-09-24T18:25:07.902948Z",
     "iopub.status.idle": "2020-09-24T18:25:07.913588Z",
     "shell.execute_reply": "2020-09-24T18:25:07.915442Z"
    },
    "lines_to_next_cell": 0,
    "title": "codecell"
   },
   "outputs": [
    {
     "data": {
      "text/latex": [
       "$\\displaystyle {\\left( d \\mapsto \\sigma{\\left(d \\right)} \\right)}_{\\circ}\\left({X}\\right)$"
      ],
      "text/plain": [
       "Lambda(_d, sigma(_d)).(X)"
      ]
     },
     "execution_count": 1,
     "metadata": {},
     "output_type": "execute_result"
    }
   ],
   "source": [
    "sigmaApply_L(A)"
   ]
  },
  {
   "cell_type": "code",
   "execution_count": 60,
   "metadata": {
    "execution": {
     "iopub.execute_input": "2020-09-24T18:25:07.920238Z",
     "iopub.status.busy": "2020-09-24T18:25:07.918710Z",
     "iopub.status.idle": "2020-09-24T18:25:07.934422Z",
     "shell.execute_reply": "2020-09-24T18:25:07.935559Z"
    },
    "lines_to_next_cell": 0,
    "title": "codecell"
   },
   "outputs": [
    {
     "data": {
      "text/latex": [
       "$\\displaystyle \\left( \\left( X, \\  W\\right) \\mapsto V \\right)$"
      ],
      "text/plain": [
       "Lambda((X, W), V)"
      ]
     },
     "execution_count": 1,
     "metadata": {},
     "output_type": "execute_result"
    }
   ],
   "source": [
    "# TODO: trying to figure out how to write L so that it is in terms of lambdas so get the form (d ---> sigma(d) COMPOAED ((X,W) -> V)) instead of (sigmaApply(v(X,W)))\n",
    "Vs = MatrixSymbol(\"Vs\", A.shape[0], B.shape[1])\n",
    "VL = Lambda((A,B), MatrixSymbol('V', A.shape[0], B.shape[1]))\n",
    "VL"
   ]
  },
  {
   "cell_type": "code",
   "execution_count": 61,
   "metadata": {
    "execution": {
     "iopub.execute_input": "2020-09-24T18:25:07.940590Z",
     "iopub.status.busy": "2020-09-24T18:25:07.939121Z",
     "iopub.status.idle": "2020-09-24T18:25:07.950234Z",
     "shell.execute_reply": "2020-09-24T18:25:07.951308Z"
    },
    "title": "codecell"
   },
   "outputs": [
    {
     "data": {
      "text/latex": [
       "$\\displaystyle \\lambda{\\left(\\sigma_{apply}{\\left(V \\right)} \\right)}$"
      ],
      "text/plain": [
       "lambda(sigma_apply(V))"
      ]
     },
     "execution_count": 1,
     "metadata": {},
     "output_type": "execute_result"
    }
   ],
   "source": [
    "L.replace(n, VL)#.replace(sigmaApply, sigmaApply_L).subs({V:VL})"
   ]
  },
  {
   "cell_type": "code",
   "execution_count": 62,
   "metadata": {
    "execution": {
     "iopub.execute_input": "2020-09-24T18:25:07.956188Z",
     "iopub.status.busy": "2020-09-24T18:25:07.954647Z",
     "iopub.status.idle": "2020-09-24T18:25:07.967752Z",
     "shell.execute_reply": "2020-09-24T18:25:07.969341Z"
    },
    "lines_to_next_cell": 0,
    "title": "codecell"
   },
   "outputs": [
    {
     "data": {
      "text/latex": [
       "$\\displaystyle \\left( \\left( X, \\  W\\right) \\mapsto V \\right)$"
      ],
      "text/plain": [
       "Lambda((X, W), V)"
      ]
     },
     "execution_count": 1,
     "metadata": {},
     "output_type": "execute_result"
    }
   ],
   "source": [
    "L.replace(n, VL).replace(sigmaApply, sigmaApply_)#.subs({VL(A,B) : n(A,B)}) ### ERROR\n",
    "# This is v(X,W) in Lambda form:\n",
    "VL"
   ]
  },
  {
   "cell_type": "code",
   "execution_count": 63,
   "metadata": {
    "execution": {
     "iopub.execute_input": "2020-09-24T18:25:07.974339Z",
     "iopub.status.busy": "2020-09-24T18:25:07.972847Z",
     "iopub.status.idle": "2020-09-24T18:25:07.982133Z",
     "shell.execute_reply": "2020-09-24T18:25:07.983258Z"
    },
    "title": "codecell"
   },
   "outputs": [
    {
     "data": {
      "text/latex": [
       "$\\displaystyle V$"
      ],
      "text/plain": [
       "V"
      ]
     },
     "execution_count": 1,
     "metadata": {},
     "output_type": "execute_result"
    }
   ],
   "source": [
    "VL(A,B)\n",
    "#L.subs({n: V})"
   ]
  },
  {
   "cell_type": "code",
   "execution_count": 64,
   "metadata": {
    "execution": {
     "iopub.execute_input": "2020-09-24T18:25:07.988101Z",
     "iopub.status.busy": "2020-09-24T18:25:07.986498Z",
     "iopub.status.idle": "2020-09-24T18:25:07.997984Z",
     "shell.execute_reply": "2020-09-24T18:25:07.999049Z"
    },
    "lines_to_next_cell": 0,
    "title": "codecell"
   },
   "outputs": [
    {
     "data": {
      "text/latex": [
       "$\\displaystyle \\lambda{\\left(\\sigma_{apply}{\\left(V \\right)} \\right)}$"
      ],
      "text/plain": [
       "lambda(sigma_apply(V))"
      ]
     },
     "execution_count": 1,
     "metadata": {},
     "output_type": "execute_result"
    }
   ],
   "source": [
    "L.replace(n(A,B), VL(A,B))#.replace(sigmaApply, sigmaApply_).subs({V(A,B) : n})"
   ]
  },
  {
   "cell_type": "code",
   "execution_count": 65,
   "metadata": {
    "execution": {
     "iopub.execute_input": "2020-09-24T18:25:08.004088Z",
     "iopub.status.busy": "2020-09-24T18:25:08.002477Z",
     "iopub.status.idle": "2020-09-24T18:25:08.017510Z",
     "shell.execute_reply": "2020-09-24T18:25:08.018609Z"
    },
    "lines_to_next_cell": 0,
    "title": "codecell"
   },
   "outputs": [
    {
     "data": {
      "text/latex": [
       "$\\displaystyle \\lambda{\\left(\\sigma_{apply}{\\left(\\left( \\left( X, \\  W\\right) \\mapsto V \\right) \\right)} \\right)}$"
      ],
      "text/plain": [
       "lambda(sigma_apply(Lambda((X, W), V)))"
      ]
     },
     "execution_count": 1,
     "metadata": {},
     "output_type": "execute_result"
    }
   ],
   "source": [
    "lambd(sigmaApply(VL))"
   ]
  },
  {
   "cell_type": "code",
   "execution_count": 66,
   "metadata": {
    "execution": {
     "iopub.execute_input": "2020-09-24T18:25:08.023454Z",
     "iopub.status.busy": "2020-09-24T18:25:08.021930Z",
     "iopub.status.idle": "2020-09-24T18:25:08.033821Z",
     "shell.execute_reply": "2020-09-24T18:25:08.034977Z"
    },
    "lines_to_next_cell": 0,
    "title": "codecell"
   },
   "outputs": [
    {
     "data": {
      "text/latex": [
       "$\\displaystyle \\lambda{\\left(\\sigma_{apply}{\\left(v{\\left(X,W \\right)} \\right)} \\right)}$"
      ],
      "text/plain": [
       "lambda(sigma_apply(v(X, W)))"
      ]
     },
     "execution_count": 1,
     "metadata": {},
     "output_type": "execute_result"
    }
   ],
   "source": [
    "lambd(sigmaApply(VL)).replace(VL, n(A,B))"
   ]
  },
  {
   "cell_type": "code",
   "execution_count": 67,
   "metadata": {
    "execution": {
     "iopub.execute_input": "2020-09-24T18:25:08.040014Z",
     "iopub.status.busy": "2020-09-24T18:25:08.038450Z",
     "iopub.status.idle": "2020-09-24T18:25:08.086366Z",
     "shell.execute_reply": "2020-09-24T18:25:08.087657Z"
    },
    "lines_to_next_cell": 0,
    "title": "codecell"
   },
   "outputs": [
    {
     "data": {
      "text/latex": [
       "$\\displaystyle \\left. \\frac{d}{d \\xi_{1}} \\sigma_{apply}{\\left(\\xi_{1} \\right)} \\right|_{\\substack{ \\xi_{1}=\\left( \\left( X, \\  W\\right) \\mapsto V \\right) }} \\frac{d}{d \\sigma_{apply}{\\left(\\left( \\left( X, \\  W\\right) \\mapsto V \\right) \\right)}} \\lambda{\\left(\\sigma_{apply}{\\left(\\left( \\left( X, \\  W\\right) \\mapsto V \\right) \\right)} \\right)} \\frac{d}{d X} \\left(\\left( \\left( X, \\  W\\right) \\mapsto V \\right)\\right)$"
      ],
      "text/plain": [
       "Subs(Derivative(sigma_apply(_xi_1), _xi_1), _xi_1, Lambda((X, W), V))*Derivative(lambda(sigma_apply(Lambda((X, W), V))), sigma_apply(Lambda((X, W), V)))*Derivative(Lambda((X, W), V), X)"
      ]
     },
     "execution_count": 1,
     "metadata": {},
     "output_type": "execute_result"
    }
   ],
   "source": [
    "lambd(sigmaApply(VL)).diff(A)"
   ]
  },
  {
   "cell_type": "code",
   "execution_count": 68,
   "metadata": {
    "execution": {
     "iopub.execute_input": "2020-09-24T18:25:08.092572Z",
     "iopub.status.busy": "2020-09-24T18:25:08.091028Z",
     "iopub.status.idle": "2020-09-24T18:25:08.137318Z",
     "shell.execute_reply": "2020-09-24T18:25:08.138487Z"
    },
    "lines_to_next_cell": 0,
    "title": "codecell"
   },
   "outputs": [
    {
     "data": {
      "text/latex": [
       "$\\displaystyle \\left. \\frac{d}{d \\xi_{1}} \\sigma_{apply}{\\left(\\xi_{1} \\right)} \\right|_{\\substack{ \\xi_{1}=v{\\left(X,W \\right)} }} \\frac{\\partial}{\\partial \\sigma_{apply}{\\left(v{\\left(X,W \\right)} \\right)}} \\lambda{\\left(\\sigma_{apply}{\\left(v{\\left(X,W \\right)} \\right)} \\right)} \\frac{\\partial}{\\partial X} v{\\left(X,W \\right)}$"
      ],
      "text/plain": [
       "Subs(Derivative(sigma_apply(_xi_1), _xi_1), _xi_1, v(X, W))*Derivative(lambda(sigma_apply(v(X, W))), sigma_apply(v(X, W)))*Derivative(v(X, W), X)"
      ]
     },
     "execution_count": 1,
     "metadata": {},
     "output_type": "execute_result"
    }
   ],
   "source": [
    "lambd(sigmaApply(VL)).diff(A).replace(VL, n(A,B))"
   ]
  },
  {
   "cell_type": "code",
   "execution_count": 69,
   "metadata": {
    "execution": {
     "iopub.execute_input": "2020-09-24T18:25:08.143657Z",
     "iopub.status.busy": "2020-09-24T18:25:08.141994Z",
     "iopub.status.idle": "2020-09-24T18:25:08.152806Z",
     "shell.execute_reply": "2020-09-24T18:25:08.153981Z"
    },
    "lines_to_next_cell": 0,
    "title": "codecell"
   },
   "outputs": [
    {
     "data": {
      "text/latex": [
       "$\\displaystyle \\lambda{\\left(\\sigma_{apply}{\\left(\\left( \\left( X, \\  W\\right) \\mapsto V \\right) \\right)} \\right)}$"
      ],
      "text/plain": [
       "lambda(sigma_apply(Lambda((X, W), V)))"
      ]
     },
     "execution_count": 1,
     "metadata": {},
     "output_type": "execute_result"
    }
   ],
   "source": [
    "lambd(sigmaApply(VL))#.replace(sigmaApply, sigmaApply_)#replace(V, n(A,B)).replace(sigmaApply, sigmaApply_)"
   ]
  },
  {
   "cell_type": "code",
   "execution_count": 70,
   "metadata": {
    "execution": {
     "iopub.execute_input": "2020-09-24T18:25:08.158829Z",
     "iopub.status.busy": "2020-09-24T18:25:08.157265Z",
     "iopub.status.idle": "2020-09-24T18:25:08.170715Z",
     "shell.execute_reply": "2020-09-24T18:25:08.171871Z"
    },
    "lines_to_next_cell": 0,
    "title": "codecell"
   },
   "outputs": [
    {
     "data": {
      "text/latex": [
       "$\\displaystyle {\\left( d \\mapsto \\sigma{\\left(d \\right)} \\right)}_{\\circ}\\left({X}\\right)$"
      ],
      "text/plain": [
       "Lambda(_d, sigma(_d)).(X)"
      ]
     },
     "execution_count": 1,
     "metadata": {},
     "output_type": "execute_result"
    }
   ],
   "source": [
    "# GOAL: want both sigma_apply to be in ---> form composed with the above x,w ---> V form\n",
    "#lambd(sigmaApply(V)).replace(V, Vs).replace(sigmaApply, sigmaApply_).replace(Vs, V(A,B))### ERROR\n",
    "lambd(sigmaApply(n(A,B))).replace(n(A,B), VL)\n",
    "sigmaApply_(A)\n",
    "sigmaApply_L(A)"
   ]
  },
  {
   "cell_type": "code",
   "execution_count": 71,
   "metadata": {
    "execution": {
     "iopub.execute_input": "2020-09-24T18:25:08.177091Z",
     "iopub.status.busy": "2020-09-24T18:25:08.175583Z",
     "iopub.status.idle": "2020-09-24T18:25:08.188586Z",
     "shell.execute_reply": "2020-09-24T18:25:08.191602Z"
    },
    "lines_to_next_cell": 0,
    "title": "codecell"
   },
   "outputs": [
    {
     "data": {
      "text/latex": [
       "$\\displaystyle {\\left( d \\mapsto \\sigma{\\left(d \\right)} \\right)}_{\\circ}\\left({Vs}\\right)$"
      ],
      "text/plain": [
       "Lambda(_d, sigma(_d)).(Vs)"
      ]
     },
     "execution_count": 1,
     "metadata": {},
     "output_type": "execute_result"
    }
   ],
   "source": [
    "sigmaApply(Vs).replace(sigmaApply, sigmaApply_)"
   ]
  },
  {
   "cell_type": "code",
   "execution_count": 72,
   "metadata": {
    "execution": {
     "iopub.execute_input": "2020-09-24T18:25:08.205228Z",
     "iopub.status.busy": "2020-09-24T18:25:08.200623Z",
     "iopub.status.idle": "2020-09-24T18:25:08.211953Z",
     "shell.execute_reply": "2020-09-24T18:25:08.213090Z"
    },
    "title": "codecell"
   },
   "outputs": [
    {
     "data": {
      "text/latex": [
       "$\\displaystyle {\\left( d \\mapsto \\sigma{\\left(d \\right)} \\right)}_{\\circ}\\left({V}\\right)$"
      ],
      "text/plain": [
       "Lambda(_d, sigma(_d)).(V)"
      ]
     },
     "execution_count": 1,
     "metadata": {},
     "output_type": "execute_result"
    }
   ],
   "source": [
    "sigmaApply(VL(A,B)).replace(sigmaApply, sigmaApply_)#.replace(V(A,B), V)#.subs({sigmaApply: sigmaApply_L})"
   ]
  },
  {
   "cell_type": "code",
   "execution_count": 73,
   "metadata": {
    "execution": {
     "iopub.execute_input": "2020-09-24T18:25:08.218062Z",
     "iopub.status.busy": "2020-09-24T18:25:08.216602Z",
     "iopub.status.idle": "2020-09-24T18:25:08.222013Z",
     "shell.execute_reply": "2020-09-24T18:25:08.223257Z"
    },
    "title": "codecell"
   },
   "outputs": [],
   "source": [
    "#sigmaApply(Vs).subs({Vs : V, sigmaApply: sigmaApply_L}) ### ERROR must be matrix instance\n",
    "#sigmaApply(Vs).replace(sigmaApply , sigmaApply_L).subs({Vs : V})\n",
    "#sigmaApply(V).replace(sigmaApply, sigmaApply_L)"
   ]
  },
  {
   "cell_type": "code",
   "execution_count": 74,
   "metadata": {
    "execution": {
     "iopub.execute_input": "2020-09-24T18:25:08.230575Z",
     "iopub.status.busy": "2020-09-24T18:25:08.226446Z",
     "iopub.status.idle": "2020-09-24T18:25:08.236645Z",
     "shell.execute_reply": "2020-09-24T18:25:08.237751Z"
    },
    "lines_to_next_cell": 0,
    "title": "codecell"
   },
   "outputs": [
    {
     "data": {
      "text/latex": [
       "$\\displaystyle \\left( \\left( X, \\  W\\right) \\mapsto \\left( \\left( X, \\  W\\right) \\mapsto V \\right) \\right)$"
      ],
      "text/plain": [
       "Lambda((X, W), Lambda((X, W), V))"
      ]
     },
     "execution_count": 1,
     "metadata": {},
     "output_type": "execute_result"
    }
   ],
   "source": [
    "\n",
    "sa = Lambda((A,B), VL)\n",
    "sa"
   ]
  },
  {
   "cell_type": "code",
   "execution_count": 75,
   "metadata": {
    "execution": {
     "iopub.execute_input": "2020-09-24T18:25:08.242623Z",
     "iopub.status.busy": "2020-09-24T18:25:08.241179Z",
     "iopub.status.idle": "2020-09-24T18:25:08.247128Z",
     "shell.execute_reply": "2020-09-24T18:25:08.248859Z"
    },
    "lines_to_next_cell": 0,
    "title": "codecell"
   },
   "outputs": [],
   "source": [
    "### ALTERNATE try of declaring a sigma-apply kind of function\n",
    "#sas = Lambda((A,B), Vs.applyfunc(sigma))"
   ]
  },
  {
   "cell_type": "code",
   "execution_count": 76,
   "metadata": {
    "execution": {
     "iopub.execute_input": "2020-09-24T18:25:08.256009Z",
     "iopub.status.busy": "2020-09-24T18:25:08.253322Z",
     "iopub.status.idle": "2020-09-24T18:25:08.263585Z",
     "shell.execute_reply": "2020-09-24T18:25:08.264768Z"
    },
    "lines_to_next_cell": 0,
    "title": "codecell"
   },
   "outputs": [
    {
     "data": {
      "text/latex": [
       "$\\displaystyle \\left( \\left( X, \\  W\\right) \\mapsto \\sigma{\\left(\\left( \\left( X, \\  W\\right) \\mapsto V \\right) \\right)} \\right)$"
      ],
      "text/plain": [
       "Lambda((X, W), sigma(Lambda((X, W), V)))"
      ]
     },
     "execution_count": 1,
     "metadata": {},
     "output_type": "execute_result"
    }
   ],
   "source": [
    "Lambda((A,B), sigma(VL))"
   ]
  },
  {
   "cell_type": "code",
   "execution_count": 77,
   "metadata": {
    "execution": {
     "iopub.execute_input": "2020-09-24T18:25:08.270149Z",
     "iopub.status.busy": "2020-09-24T18:25:08.268570Z",
     "iopub.status.idle": "2020-09-24T18:25:08.279993Z",
     "shell.execute_reply": "2020-09-24T18:25:08.281113Z"
    },
    "title": "codecell"
   },
   "outputs": [
    {
     "data": {
      "text/latex": [
       "$\\displaystyle \\frac{d}{d X} \\left(\\left( \\left( X, \\  W\\right) \\mapsto \\sigma{\\left(\\left( \\left( X, \\  W\\right) \\mapsto V \\right) \\right)} \\right)\\right)$"
      ],
      "text/plain": [
       "Derivative(Lambda((X, W), sigma(Lambda((X, W), V))), X)"
      ]
     },
     "execution_count": 1,
     "metadata": {},
     "output_type": "execute_result"
    }
   ],
   "source": [
    "Lambda((A,B), sigma(VL)).diff(A) # nothing useful with this format, and weird-wrong since doesn't do chain rule wi.r. to sigma"
   ]
  },
  {
   "cell_type": "code",
   "execution_count": 78,
   "metadata": {
    "execution": {
     "iopub.execute_input": "2020-09-24T18:25:08.285936Z",
     "iopub.status.busy": "2020-09-24T18:25:08.284456Z",
     "iopub.status.idle": "2020-09-24T18:25:08.295132Z",
     "shell.execute_reply": "2020-09-24T18:25:08.296503Z"
    },
    "lines_to_next_cell": 0,
    "title": "codecell"
   },
   "outputs": [
    {
     "data": {
      "text/latex": [
       "$\\displaystyle \\left( \\left( X, \\  W\\right) \\mapsto \\sigma{\\left(V \\right)} \\right)$"
      ],
      "text/plain": [
       "Lambda((X, W), sigma(V))"
      ]
     },
     "execution_count": 1,
     "metadata": {},
     "output_type": "execute_result"
    }
   ],
   "source": [
    "Lambda((A,B), sigma(VL(A,B)))"
   ]
  },
  {
   "cell_type": "code",
   "execution_count": 79,
   "metadata": {
    "execution": {
     "iopub.execute_input": "2020-09-24T18:25:08.301572Z",
     "iopub.status.busy": "2020-09-24T18:25:08.299977Z",
     "iopub.status.idle": "2020-09-24T18:25:08.312700Z",
     "shell.execute_reply": "2020-09-24T18:25:08.313825Z"
    },
    "lines_to_next_cell": 0,
    "title": "codecell"
   },
   "outputs": [
    {
     "data": {
      "text/latex": [
       "$\\displaystyle \\left( \\left( X, \\  W\\right) \\mapsto {\\left( d \\mapsto \\sigma{\\left(d \\right)} \\right)}_{\\circ}\\left({V}\\right) \\right)$"
      ],
      "text/plain": [
       "Lambda((X, W), Lambda(_d, sigma(_d)).(V))"
      ]
     },
     "execution_count": 1,
     "metadata": {},
     "output_type": "execute_result"
    }
   ],
   "source": [
    "sas = Lambda((A,B), VL(A,B).applyfunc(sigma))\n",
    "\n",
    "sas"
   ]
  },
  {
   "cell_type": "code",
   "execution_count": 80,
   "metadata": {
    "execution": {
     "iopub.execute_input": "2020-09-24T18:25:08.318759Z",
     "iopub.status.busy": "2020-09-24T18:25:08.317230Z",
     "iopub.status.idle": "2020-09-24T18:25:08.327995Z",
     "shell.execute_reply": "2020-09-24T18:25:08.329061Z"
    },
    "lines_to_next_cell": 0,
    "title": "codecell"
   },
   "outputs": [
    {
     "data": {
      "text/latex": [
       "$\\displaystyle \\sigma{\\left(\\left( \\left( X, \\  W\\right) \\mapsto V \\right) \\right)}$"
      ],
      "text/plain": [
       "sigma(Lambda((X, W), V))"
      ]
     },
     "execution_count": 1,
     "metadata": {},
     "output_type": "execute_result"
    }
   ],
   "source": [
    "# YAY this works now I can replace MATRIX SYMBOLS with ordinary sympy LAMBDAS (replace cano only replace same kind of thing / type)\n",
    "sigma(Vs).subs(Vs, VL)\n",
    "#"
   ]
  },
  {
   "cell_type": "code",
   "execution_count": 81,
   "metadata": {
    "execution": {
     "iopub.execute_input": "2020-09-24T18:25:08.334064Z",
     "iopub.status.busy": "2020-09-24T18:25:08.332576Z",
     "iopub.status.idle": "2020-09-24T18:25:08.342624Z",
     "shell.execute_reply": "2020-09-24T18:25:08.343755Z"
    },
    "lines_to_next_cell": 0,
    "title": "codecell"
   },
   "outputs": [
    {
     "data": {
      "text/latex": [
       "$\\displaystyle {\\left( d \\mapsto \\sigma{\\left(d \\right)} \\right)}_{\\circ}\\left({V}\\right)$"
      ],
      "text/plain": [
       "Lambda(_d, sigma(_d)).(V)"
      ]
     },
     "execution_count": 1,
     "metadata": {},
     "output_type": "execute_result"
    }
   ],
   "source": [
    "sas(A,B)"
   ]
  },
  {
   "cell_type": "code",
   "execution_count": 82,
   "metadata": {
    "execution": {
     "iopub.execute_input": "2020-09-24T18:25:08.348773Z",
     "iopub.status.busy": "2020-09-24T18:25:08.347035Z",
     "iopub.status.idle": "2020-09-24T18:25:08.357803Z",
     "shell.execute_reply": "2020-09-24T18:25:08.359100Z"
    },
    "lines_to_next_cell": 0,
    "title": "codecell"
   },
   "outputs": [
    {
     "data": {
      "text/latex": [
       "$\\displaystyle \\lambda{\\left(\\sigma_{apply}{\\left(v{\\left(X,W \\right)} \\right)} \\right)}$"
      ],
      "text/plain": [
       "lambda(sigma_apply(v(X, W)))"
      ]
     },
     "execution_count": 1,
     "metadata": {},
     "output_type": "execute_result"
    }
   ],
   "source": [
    "# A.applyfunc(sigma).subs(A, VL)# subs method doesn't work here with applyfunc\n",
    "L"
   ]
  },
  {
   "cell_type": "code",
   "execution_count": 83,
   "metadata": {
    "execution": {
     "iopub.execute_input": "2020-09-24T18:25:08.364043Z",
     "iopub.status.busy": "2020-09-24T18:25:08.362505Z",
     "iopub.status.idle": "2020-09-24T18:25:08.368042Z",
     "shell.execute_reply": "2020-09-24T18:25:08.369190Z"
    },
    "title": "codecell"
   },
   "outputs": [],
   "source": [
    "#sas(A,B).replace(V, V(A,B))"
   ]
  },
  {
   "cell_type": "code",
   "execution_count": 84,
   "metadata": {
    "execution": {
     "iopub.execute_input": "2020-09-24T18:25:08.376303Z",
     "iopub.status.busy": "2020-09-24T18:25:08.372481Z",
     "iopub.status.idle": "2020-09-24T18:25:08.382228Z",
     "shell.execute_reply": "2020-09-24T18:25:08.383400Z"
    },
    "title": "codecell"
   },
   "outputs": [
    {
     "data": {
      "text/latex": [
       "$\\displaystyle \\left( M \\mapsto {\\left( d \\mapsto \\sigma{\\left(d \\right)} \\right)}_{\\circ}\\left({M}\\right) \\right)$"
      ],
      "text/plain": [
       "Lambda(M, Lambda(_d, sigma(_d)).(M))"
      ]
     },
     "execution_count": 1,
     "metadata": {},
     "output_type": "execute_result"
    }
   ],
   "source": [
    "sigmaApply_L"
   ]
  },
  {
   "cell_type": "code",
   "execution_count": 85,
   "metadata": {
    "execution": {
     "iopub.execute_input": "2020-09-24T18:25:08.388367Z",
     "iopub.status.busy": "2020-09-24T18:25:08.386836Z",
     "iopub.status.idle": "2020-09-24T18:25:08.398901Z",
     "shell.execute_reply": "2020-09-24T18:25:08.400097Z"
    },
    "lines_to_next_cell": 0,
    "title": "codecell"
   },
   "outputs": [
    {
     "data": {
      "text/latex": [
       "$\\displaystyle {\\left( d \\mapsto \\sigma{\\left(d \\right)} \\right)}_{\\circ}\\left({M}\\right)$"
      ],
      "text/plain": [
       "Lambda(_d, sigma(_d)).(M)"
      ]
     },
     "execution_count": 1,
     "metadata": {},
     "output_type": "execute_result"
    }
   ],
   "source": [
    "sigmaApply_L(M)"
   ]
  },
  {
   "cell_type": "code",
   "execution_count": 86,
   "metadata": {
    "execution": {
     "iopub.execute_input": "2020-09-24T18:25:08.404857Z",
     "iopub.status.busy": "2020-09-24T18:25:08.403313Z",
     "iopub.status.idle": "2020-09-24T18:25:08.414767Z",
     "shell.execute_reply": "2020-09-24T18:25:08.415935Z"
    },
    "lines_to_next_cell": 0,
    "title": "codecell"
   },
   "outputs": [
    {
     "data": {
      "text/latex": [
       "$\\displaystyle {\\left( d \\mapsto \\sigma{\\left(d \\right)} \\right)}_{\\circ}\\left({M}\\right)$"
      ],
      "text/plain": [
       "Lambda(_d, sigma(_d)).(M)"
      ]
     },
     "execution_count": 1,
     "metadata": {},
     "output_type": "execute_result"
    }
   ],
   "source": [
    "#sigmaApply_LFake = Lambda(M, M.applyfunc(sigma))\n",
    "sigmaApply(M).replace(sigmaApply, sigmaApply_L)"
   ]
  },
  {
   "cell_type": "code",
   "execution_count": 87,
   "metadata": {
    "execution": {
     "iopub.execute_input": "2020-09-24T18:25:08.421103Z",
     "iopub.status.busy": "2020-09-24T18:25:08.419509Z",
     "iopub.status.idle": "2020-09-24T18:25:08.426768Z",
     "shell.execute_reply": "2020-09-24T18:25:08.427893Z"
    },
    "title": "codecell"
   },
   "outputs": [],
   "source": [
    "#sigmaApply(M).replace(sigmaApply, sigmaApply_).subs(M, n(A,B))\n",
    "n = Function(\"v\", applyfunc=True)\n",
    "#sigmaApply_(Vs.subs(Vs, Lambda((A,B), n(A,B))))\n",
    "from sympy import lambdify\n",
    "#sigma(lambdify([A,B], n(A,B)))\n",
    "\n",
    "#inner = Lambda((A,B), n(A,B)); inner\n",
    "\n",
    "#sigmaApply_(n(A,B))\n",
    "#sigmaApply(inner).replace(sigmaApply, Lambda(A, sigma(A)))"
   ]
  },
  {
   "cell_type": "code",
   "execution_count": 88,
   "metadata": {
    "execution": {
     "iopub.execute_input": "2020-09-24T18:25:08.435714Z",
     "iopub.status.busy": "2020-09-24T18:25:08.431134Z",
     "iopub.status.idle": "2020-09-24T18:25:08.446339Z",
     "shell.execute_reply": "2020-09-24T18:25:08.447516Z"
    },
    "lines_to_next_cell": 0,
    "title": "codecell"
   },
   "outputs": [
    {
     "data": {
      "text/latex": [
       "$\\displaystyle \\left( d \\mapsto \\sigma{\\left(d \\right)} \\right)$"
      ],
      "text/plain": [
       "Lambda(d, sigma(d))"
      ]
     },
     "execution_count": 1,
     "metadata": {},
     "output_type": "execute_result"
    }
   ],
   "source": [
    "#sigmaApply_L(M).subs(M, inner)\n",
    "Lambda(d, sigma(d))"
   ]
  },
  {
   "cell_type": "code",
   "execution_count": 89,
   "metadata": {
    "execution": {
     "iopub.execute_input": "2020-09-24T18:25:08.452505Z",
     "iopub.status.busy": "2020-09-24T18:25:08.450977Z",
     "iopub.status.idle": "2020-09-24T18:25:08.456502Z",
     "shell.execute_reply": "2020-09-24T18:25:08.457596Z"
    },
    "lines_to_next_cell": 2,
    "title": "codecell"
   },
   "outputs": [],
   "source": [
    "### CLOSEST ever gotten to function composition (?) with sympy ....\n",
    "#Lambda(d, sigma(inner))"
   ]
  },
  {
   "cell_type": "code",
   "execution_count": 90,
   "metadata": {
    "execution": {
     "iopub.execute_input": "2020-09-24T18:25:08.477195Z",
     "iopub.status.busy": "2020-09-24T18:25:08.460812Z",
     "iopub.status.idle": "2020-09-24T18:25:08.481301Z",
     "shell.execute_reply": "2020-09-24T18:25:08.482395Z"
    },
    "lines_to_next_cell": 0,
    "title": "codecell"
   },
   "outputs": [],
   "source": [
    "#Lambda(d, sigma(inner)).diff(A)"
   ]
  },
  {
   "cell_type": "code",
   "execution_count": 91,
   "metadata": {
    "execution": {
     "iopub.execute_input": "2020-09-24T18:25:08.487417Z",
     "iopub.status.busy": "2020-09-24T18:25:08.485815Z",
     "iopub.status.idle": "2020-09-24T18:25:08.491402Z",
     "shell.execute_reply": "2020-09-24T18:25:08.492513Z"
    },
    "title": "codecell"
   },
   "outputs": [],
   "source": [
    "#Lambda(d, sigma(inner)).replace(inner, vL(A,B)).diff(A)"
   ]
  },
  {
   "cell_type": "code",
   "execution_count": 92,
   "metadata": {
    "lines_to_next_cell": 0,
    "title": "codecell"
   },
   "outputs": [],
   "source": []
  },
  {
   "cell_type": "code",
   "execution_count": 92,
   "metadata": {
    "lines_to_next_cell": 0,
    "title": "codecell"
   },
   "outputs": [],
   "source": []
  },
  {
   "cell_type": "code",
   "execution_count": 92,
   "metadata": {
    "execution": {
     "iopub.execute_input": "2020-09-24T18:25:08.498027Z",
     "iopub.status.busy": "2020-09-24T18:25:08.495908Z",
     "iopub.status.idle": "2020-09-24T18:25:08.501256Z",
     "shell.execute_reply": "2020-09-24T18:25:08.502325Z"
    },
    "lines_to_next_cell": 0,
    "title": "codecell"
   },
   "outputs": [],
   "source": [
    "# sigmaApply_L(M).subs(M, VL)# new subs method fails here too\n",
    "#sigmaApply_(M).subs(M, VL)"
   ]
  },
  {
   "cell_type": "code",
   "execution_count": 93,
   "metadata": {
    "execution": {
     "iopub.execute_input": "2020-09-24T18:25:08.507858Z",
     "iopub.status.busy": "2020-09-24T18:25:08.505994Z",
     "iopub.status.idle": "2020-09-24T18:25:08.577348Z",
     "shell.execute_reply": "2020-09-24T18:25:08.576224Z"
    },
    "lines_to_next_cell": 0,
    "title": "codecell"
   },
   "outputs": [
    {
     "data": {
      "text/latex": [
       "$\\displaystyle {\\left( d \\mapsto \\frac{d}{d d} \\sigma{\\left(d \\right)} \\right)}_{\\circ}\\left({M}\\right)$"
      ],
      "text/plain": [
       "Lambda(_d, Derivative(sigma(_d), _d)).(M)"
      ]
     },
     "execution_count": 1,
     "metadata": {},
     "output_type": "execute_result"
    }
   ],
   "source": [
    "sigmaApply_L(M).diff(M)"
   ]
  },
  {
   "cell_type": "code",
   "execution_count": 94,
   "metadata": {
    "lines_to_next_cell": 0,
    "title": "codecell"
   },
   "outputs": [],
   "source": []
  },
  {
   "cell_type": "code",
   "execution_count": 94,
   "metadata": {
    "lines_to_next_cell": 0,
    "title": "codecell"
   },
   "outputs": [],
   "source": []
  },
  {
   "cell_type": "code",
   "execution_count": 94,
   "metadata": {
    "execution": {
     "iopub.execute_input": "2020-09-24T18:25:08.582457Z",
     "iopub.status.busy": "2020-09-24T18:25:08.580889Z",
     "iopub.status.idle": "2020-09-24T18:25:08.591032Z",
     "shell.execute_reply": "2020-09-24T18:25:08.592197Z"
    },
    "lines_to_next_cell": 0,
    "title": "codecell"
   },
   "outputs": [
    {
     "data": {
      "text/latex": [
       "$\\displaystyle \\sigma{\\left(\\left( \\left( X, \\  W\\right) \\mapsto V \\right) \\right)}$"
      ],
      "text/plain": [
       "sigma(Lambda((X, W), V))"
      ]
     },
     "execution_count": 1,
     "metadata": {},
     "output_type": "execute_result"
    }
   ],
   "source": [
    "sigma(VL)#.replace(V, V(A,B))"
   ]
  },
  {
   "cell_type": "code",
   "execution_count": 95,
   "metadata": {
    "execution": {
     "iopub.execute_input": "2020-09-24T18:25:08.597574Z",
     "iopub.status.busy": "2020-09-24T18:25:08.596001Z",
     "iopub.status.idle": "2020-09-24T18:25:08.607278Z",
     "shell.execute_reply": "2020-09-24T18:25:08.608402Z"
    },
    "lines_to_next_cell": 0,
    "title": "codecell"
   },
   "outputs": [
    {
     "data": {
      "text/latex": [
       "$\\displaystyle \\sigma{\\left(V \\right)}$"
      ],
      "text/plain": [
       "sigma(V)"
      ]
     },
     "execution_count": 1,
     "metadata": {},
     "output_type": "execute_result"
    }
   ],
   "source": [
    "sigma(VL).replace(VL, VL(A,B))"
   ]
  },
  {
   "cell_type": "code",
   "execution_count": 96,
   "metadata": {
    "execution": {
     "iopub.execute_input": "2020-09-24T18:25:08.613564Z",
     "iopub.status.busy": "2020-09-24T18:25:08.611728Z",
     "iopub.status.idle": "2020-09-24T18:25:08.617579Z",
     "shell.execute_reply": "2020-09-24T18:25:08.618668Z"
    },
    "title": "codecell"
   },
   "outputs": [],
   "source": [
    "#sigma(V).replace(V, VL)"
   ]
  },
  {
   "cell_type": "code",
   "execution_count": 97,
   "metadata": {
    "lines_to_next_cell": 0,
    "title": "codecell"
   },
   "outputs": [],
   "source": []
  },
  {
   "cell_type": "code",
   "execution_count": 97,
   "metadata": {
    "title": "codecell"
   },
   "outputs": [],
   "source": []
  },
  {
   "cell_type": "code",
   "execution_count": 97,
   "metadata": {
    "execution": {
     "iopub.execute_input": "2020-09-24T18:25:08.625324Z",
     "iopub.status.busy": "2020-09-24T18:25:08.622284Z",
     "iopub.status.idle": "2020-09-24T18:25:08.634579Z",
     "shell.execute_reply": "2020-09-24T18:25:08.635749Z"
    },
    "lines_to_next_cell": 0,
    "title": "codecell"
   },
   "outputs": [
    {
     "data": {
      "text/latex": [
       "$\\displaystyle f{\\left(\\left( x \\mapsto x \\right) \\right)}$"
      ],
      "text/plain": [
       "f(Lambda(_x, _x))"
      ]
     },
     "execution_count": 1,
     "metadata": {},
     "output_type": "execute_result"
    }
   ],
   "source": [
    "f = Function('f')\n",
    "xtoxL = Lambda(a, a)\n",
    "xtox = lambda a: a\n",
    "\n",
    "f(x).subs({x : xtoxL})"
   ]
  },
  {
   "cell_type": "code",
   "execution_count": 98,
   "metadata": {
    "execution": {
     "iopub.execute_input": "2020-09-24T18:25:08.640479Z",
     "iopub.status.busy": "2020-09-24T18:25:08.638963Z",
     "iopub.status.idle": "2020-09-24T18:25:08.652149Z",
     "shell.execute_reply": "2020-09-24T18:25:08.653619Z"
    },
    "lines_to_next_cell": 0,
    "title": "codecell"
   },
   "outputs": [
    {
     "data": {
      "text/latex": [
       "$\\displaystyle f{\\left(x \\right)}$"
      ],
      "text/plain": [
       "f(x)"
      ]
     },
     "execution_count": 1,
     "metadata": {},
     "output_type": "execute_result"
    }
   ],
   "source": [
    "f(x).subs(x, xtox)# works but below one with replace doesn't. When replacing arg with function uses SUBS without dictionary (instead of replace)"
   ]
  },
  {
   "cell_type": "code",
   "execution_count": 99,
   "metadata": {
    "execution": {
     "iopub.execute_input": "2020-09-24T18:25:08.659074Z",
     "iopub.status.busy": "2020-09-24T18:25:08.657493Z",
     "iopub.status.idle": "2020-09-24T18:25:08.669595Z",
     "shell.execute_reply": "2020-09-24T18:25:08.671256Z"
    },
    "lines_to_next_cell": 0,
    "title": "codecell"
   },
   "outputs": [
    {
     "data": {
      "text/latex": [
       "$\\displaystyle f{\\left(\\left( x \\mapsto x \\right) \\right)}$"
      ],
      "text/plain": [
       "f(Lambda(_x, _x))"
      ]
     },
     "execution_count": 1,
     "metadata": {},
     "output_type": "execute_result"
    }
   ],
   "source": [
    "# f(x).replace(x, xtox)### ERROR xtox expects one positional argument ( I think replace only replaces the same kind of thing, never for instance a matrix symbol for a function or vice versa. the replacement needs to be of the same type / kind. But Lambda seems to work (as above))\n",
    "f(x).replace(x, xtoxL)"
   ]
  },
  {
   "cell_type": "code",
   "execution_count": 100,
   "metadata": {
    "lines_to_next_cell": 0,
    "title": "codecell"
   },
   "outputs": [],
   "source": []
  },
  {
   "cell_type": "code",
   "execution_count": 100,
   "metadata": {
    "lines_to_next_cell": 0,
    "title": "codecell"
   },
   "outputs": [],
   "source": []
  },
  {
   "cell_type": "code",
   "execution_count": 100,
   "metadata": {
    "execution": {
     "iopub.execute_input": "2020-09-24T18:25:08.677743Z",
     "iopub.status.busy": "2020-09-24T18:25:08.674944Z",
     "iopub.status.idle": "2020-09-24T18:25:08.681274Z",
     "shell.execute_reply": "2020-09-24T18:25:08.682528Z"
    },
    "lines_to_next_cell": 2,
    "title": "codecell"
   },
   "outputs": [],
   "source": [
    "#lambd(sigmaApply(n(A,B))).replace(n(A,B), Vs).replace(sigmaApply, sigmaApply_).replace(Vs, V)# ### ERROR rec replace must be matrix instance ...."
   ]
  },
  {
   "cell_type": "code",
   "execution_count": 101,
   "metadata": {
    "lines_to_next_cell": 0,
    "title": "codecell"
   },
   "outputs": [],
   "source": []
  },
  {
   "cell_type": "code",
   "execution_count": 101,
   "metadata": {
    "title": "codecell"
   },
   "outputs": [],
   "source": []
  },
  {
   "cell_type": "code",
   "execution_count": 101,
   "metadata": {
    "lines_to_next_cell": 0,
    "title": "codecell"
   },
   "outputs": [],
   "source": []
  },
  {
   "cell_type": "code",
   "execution_count": 101,
   "metadata": {
    "execution": {
     "iopub.execute_input": "2020-09-24T18:25:08.688867Z",
     "iopub.status.busy": "2020-09-24T18:25:08.687976Z",
     "iopub.status.idle": "2020-09-24T18:25:08.712940Z",
     "shell.execute_reply": "2020-09-24T18:25:08.714358Z"
    },
    "lines_to_next_cell": 0,
    "title": "codecell"
   },
   "outputs": [
    {
     "data": {
      "text/latex": [
       "$\\displaystyle X_{0, 0} + X_{0, 1} + X_{0, 2} + X_{1, 0} + X_{1, 1} + X_{1, 2} + X_{2, 0} + X_{2, 1} + X_{2, 2}$"
      ],
      "text/plain": [
       "X[0, 0] + X[0, 1] + X[0, 2] + X[1, 0] + X[1, 1] + X[1, 2] + X[2, 0] + X[2, 1] + X[2, 2]"
      ]
     },
     "execution_count": 1,
     "metadata": {},
     "output_type": "execute_result"
    }
   ],
   "source": [
    "### METHOD 0: the matrix diff rule in the most abstract form possible\n",
    "n = Function(\"v\", applyfunc=True) # necessary\n",
    "L = lambd(sigmaApply(n(A,B)))\n",
    "\n",
    "lambd_L = Lambda(A, sum(A))\n",
    "\n",
    "lambd_L(A)"
   ]
  },
  {
   "cell_type": "code",
   "execution_count": 102,
   "metadata": {
    "execution": {
     "iopub.execute_input": "2020-09-24T18:25:08.719323Z",
     "iopub.status.busy": "2020-09-24T18:25:08.717690Z",
     "iopub.status.idle": "2020-09-24T18:25:08.739302Z",
     "shell.execute_reply": "2020-09-24T18:25:08.740459Z"
    },
    "title": "codecell"
   },
   "outputs": [
    {
     "data": {
      "text/latex": [
       "$\\displaystyle \\left(\\sigma_{apply}{\\left(v{\\left(X,W \\right)} \\right)}\\right)_{0, 0} + \\left(\\sigma_{apply}{\\left(v{\\left(X,W \\right)} \\right)}\\right)_{0, 1} + \\left(\\sigma_{apply}{\\left(v{\\left(X,W \\right)} \\right)}\\right)_{0, 2} + \\left(\\sigma_{apply}{\\left(v{\\left(X,W \\right)} \\right)}\\right)_{1, 0} + \\left(\\sigma_{apply}{\\left(v{\\left(X,W \\right)} \\right)}\\right)_{1, 1} + \\left(\\sigma_{apply}{\\left(v{\\left(X,W \\right)} \\right)}\\right)_{1, 2} + \\left(\\sigma_{apply}{\\left(v{\\left(X,W \\right)} \\right)}\\right)_{2, 0} + \\left(\\sigma_{apply}{\\left(v{\\left(X,W \\right)} \\right)}\\right)_{2, 1} + \\left(\\sigma_{apply}{\\left(v{\\left(X,W \\right)} \\right)}\\right)_{2, 2}$"
      ],
      "text/plain": [
       "(sigma_apply(v(X, W)))[0, 0] + (sigma_apply(v(X, W)))[0, 1] + (sigma_apply(v(X, W)))[0, 2] + (sigma_apply(v(X, W)))[1, 0] + (sigma_apply(v(X, W)))[1, 1] + (sigma_apply(v(X, W)))[1, 2] + (sigma_apply(v(X, W)))[2, 0] + (sigma_apply(v(X, W)))[2, 1] + (sigma_apply(v(X, W)))[2, 2]"
      ]
     },
     "execution_count": 1,
     "metadata": {},
     "output_type": "execute_result"
    }
   ],
   "source": [
    "lambd_L(sigmaApply(n(A,B)))#.replace(n, vL).replace(sigmaApply, sigmaApply_).replace(lambd, lambd_L)"
   ]
  },
  {
   "cell_type": "code",
   "execution_count": 103,
   "metadata": {
    "execution": {
     "iopub.execute_input": "2020-09-24T18:25:08.745447Z",
     "iopub.status.busy": "2020-09-24T18:25:08.743978Z",
     "iopub.status.idle": "2020-09-24T18:25:08.845153Z",
     "shell.execute_reply": "2020-09-24T18:25:08.846267Z"
    },
    "lines_to_next_cell": 0,
    "title": "codecell"
   },
   "outputs": [
    {
     "data": {
      "text/latex": [
       "$\\displaystyle \\left. \\frac{d}{d \\xi_{1}} \\lambda{\\left(\\xi_{1} \\right)} \\right|_{\\substack{ \\xi_{1}={\\left( d \\mapsto \\sigma{\\left(d \\right)} \\right)}_{\\circ}\\left({X W}\\right) }} {\\left( d \\mapsto \\frac{d}{d d} \\sigma{\\left(d \\right)} \\right)}_{\\circ}\\left({X W}\\right) W^{T}$"
      ],
      "text/plain": [
       "Subs(Derivative(lambda(_xi_1), _xi_1), _xi_1, Lambda(_d, sigma(_d)).(X*W))*Lambda(_d, Derivative(sigma(_d), _d)).(X*W)*W.T"
      ]
     },
     "execution_count": 1,
     "metadata": {},
     "output_type": "execute_result"
    }
   ],
   "source": [
    "L.replace(n,vL).replace(sigmaApply, sigmaApply_).diff(A)"
   ]
  },
  {
   "cell_type": "code",
   "execution_count": 104,
   "metadata": {
    "execution": {
     "iopub.execute_input": "2020-09-24T18:25:08.851176Z",
     "iopub.status.busy": "2020-09-24T18:25:08.849632Z",
     "iopub.status.idle": "2020-09-24T18:25:08.958277Z",
     "shell.execute_reply": "2020-09-24T18:25:08.959454Z"
    },
    "lines_to_next_cell": 0,
    "title": "codecell"
   },
   "outputs": [
    {
     "data": {
      "text/latex": [
       "$\\displaystyle \\left. \\frac{d}{d \\xi_{1}} \\lambda{\\left(\\xi_{1} \\right)} \\right|_{\\substack{ \\xi_{1}={\\left( d \\mapsto \\sigma{\\left(d \\right)} \\right)}_{\\circ}\\left({X W}\\right) }} X^{T} {\\left( d \\mapsto \\frac{d}{d d} \\sigma{\\left(d \\right)} \\right)}_{\\circ}\\left({X W}\\right)$"
      ],
      "text/plain": [
       "Subs(Derivative(lambda(_xi_1), _xi_1), _xi_1, Lambda(_d, sigma(_d)).(X*W))*X.T*Lambda(_d, Derivative(sigma(_d), _d)).(X*W)"
      ]
     },
     "execution_count": 1,
     "metadata": {},
     "output_type": "execute_result"
    }
   ],
   "source": [
    "### SUCCESS! We see now that the matrix chain rule indeed makes the X transpose factor out on the left!!! (while compared to the above, the matrix transpose W^T factors out on the right, just like the book says (page 45 in the NOTE section of Seth Weidman book))\n",
    "L.replace(n,v).replace(sigmaApply, sigmaApply_).diff(B)"
   ]
  },
  {
   "cell_type": "code",
   "execution_count": 105,
   "metadata": {
    "execution": {
     "iopub.execute_input": "2020-09-24T18:25:08.964391Z",
     "iopub.status.busy": "2020-09-24T18:25:08.962847Z",
     "iopub.status.idle": "2020-09-24T18:25:09.075970Z",
     "shell.execute_reply": "2020-09-24T18:25:09.077082Z"
    },
    "lines_to_next_cell": 0,
    "title": "codecell"
   },
   "outputs": [
    {
     "data": {
      "text/latex": [
       "$\\displaystyle \\left. \\frac{d}{d \\xi_{1}} \\left(\\xi_{1}_{0, 0} + \\xi_{1}_{0, 1} + \\xi_{1}_{0, 2} + \\xi_{1}_{1, 0} + \\xi_{1}_{1, 1} + \\xi_{1}_{1, 2} + \\xi_{1}_{2, 0} + \\xi_{1}_{2, 1} + \\xi_{1}_{2, 2}\\right) \\right|_{\\substack{ \\xi_{1}={\\left( d \\mapsto \\sigma{\\left(d \\right)} \\right)}_{\\circ}\\left({X W}\\right) }} X^{T} {\\left( d \\mapsto \\frac{d}{d d} \\sigma{\\left(d \\right)} \\right)}_{\\circ}\\left({X W}\\right)$"
      ],
      "text/plain": [
       "Subs(Derivative(_xi_1[0, 0] + _xi_1[0, 1] + _xi_1[0, 2] + _xi_1[1, 0] + _xi_1[1, 1] + _xi_1[1, 2] + _xi_1[2, 0] + _xi_1[2, 1] + _xi_1[2, 2], _xi_1), _xi_1, Lambda(_d, sigma(_d)).(X*W))*X.T*Lambda(_d, Derivative(sigma(_d), _d)).(X*W)"
      ]
     },
     "execution_count": 1,
     "metadata": {},
     "output_type": "execute_result"
    }
   ],
   "source": [
    "# Not showing ???\n",
    "L.replace(n,v).replace(sigmaApply, sigmaApply_).diff(B).replace(lambd, lambd_L)"
   ]
  },
  {
   "cell_type": "code",
   "execution_count": 106,
   "metadata": {
    "execution": {
     "iopub.execute_input": "2020-09-24T18:25:09.081859Z",
     "iopub.status.busy": "2020-09-24T18:25:09.080360Z",
     "iopub.status.idle": "2020-09-24T18:25:09.085849Z",
     "shell.execute_reply": "2020-09-24T18:25:09.087101Z"
    },
    "lines_to_next_cell": 0,
    "title": "codecell"
   },
   "outputs": [],
   "source": [
    "#L.replace(n,v).replace(sigmaApply, sigmaApply_).diff(B).replace(B,W).replace(A,X) # ## ERROR non commutative scalars in matrix\n",
    "# L.replace(n,v).replace(sigmaApply, sigmaApply_).diff(B).replace(lambd, lambd_).replace(B,W).replace(A,X)# ## ERROR dummy object not iterable"
   ]
  },
  {
   "cell_type": "code",
   "execution_count": 107,
   "metadata": {
    "execution": {
     "iopub.execute_input": "2020-09-24T18:25:09.092737Z",
     "iopub.status.busy": "2020-09-24T18:25:09.090454Z",
     "iopub.status.idle": "2020-09-24T18:25:09.096195Z",
     "shell.execute_reply": "2020-09-24T18:25:09.097392Z"
    },
    "lines_to_next_cell": 0,
    "title": "codecell"
   },
   "outputs": [],
   "source": [
    "\n",
    "#L.replace(n,vL).replace(sigmaApply, sigmaApply_).diff(A).replace(lambd, lambd_) ### ERROR: dummy object not iterable (probably means when in the above expression we have epsilon = sigmaApply(XW) that we cannot iterate over this expression)"
   ]
  },
  {
   "cell_type": "code",
   "execution_count": 108,
   "metadata": {
    "execution": {
     "iopub.execute_input": "2020-09-24T18:25:09.102755Z",
     "iopub.status.busy": "2020-09-24T18:25:09.100592Z",
     "iopub.status.idle": "2020-09-24T18:25:09.106004Z",
     "shell.execute_reply": "2020-09-24T18:25:09.107087Z"
    },
    "lines_to_next_cell": 0,
    "title": "codecell"
   },
   "outputs": [],
   "source": [
    "# Replacing lambda first: BAD\n",
    "#L.replace(n, v).replace(lambd, lambd_) ## ERROR sigma apply object not ieterable\n",
    "# Replacing sigma first: BAD\n",
    "# L.replace(sigmaApply, sigmaApply_)### ERROR v object has no attribute applyfunc"
   ]
  },
  {
   "cell_type": "code",
   "execution_count": 109,
   "metadata": {
    "execution": {
     "iopub.execute_input": "2020-09-24T18:25:09.114681Z",
     "iopub.status.busy": "2020-09-24T18:25:09.110725Z",
     "iopub.status.idle": "2020-09-24T18:25:09.361561Z",
     "shell.execute_reply": "2020-09-24T18:25:09.362697Z"
    },
    "lines_to_next_cell": 0,
    "title": "codecell"
   },
   "outputs": [
    {
     "data": {
      "text/latex": [
       "$\\displaystyle \\sigma{\\left(W_{0, 0} X_{0, 0} + W_{1, 0} X_{0, 1} + W_{2, 0} X_{0, 2} \\right)} + \\sigma{\\left(W_{0, 0} X_{1, 0} + W_{1, 0} X_{1, 1} + W_{2, 0} X_{1, 2} \\right)} + \\sigma{\\left(W_{0, 0} X_{2, 0} + W_{1, 0} X_{2, 1} + W_{2, 0} X_{2, 2} \\right)} + \\sigma{\\left(W_{0, 1} X_{0, 0} + W_{1, 1} X_{0, 1} + W_{2, 1} X_{0, 2} \\right)} + \\sigma{\\left(W_{0, 1} X_{1, 0} + W_{1, 1} X_{1, 1} + W_{2, 1} X_{1, 2} \\right)} + \\sigma{\\left(W_{0, 1} X_{2, 0} + W_{1, 1} X_{2, 1} + W_{2, 1} X_{2, 2} \\right)}$"
      ],
      "text/plain": [
       "sigma(W[0, 0]*X[0, 0] + W[1, 0]*X[0, 1] + W[2, 0]*X[0, 2]) + sigma(W[0, 0]*X[1, 0] + W[1, 0]*X[1, 1] + W[2, 0]*X[1, 2]) + sigma(W[0, 0]*X[2, 0] + W[1, 0]*X[2, 1] + W[2, 0]*X[2, 2]) + sigma(W[0, 1]*X[0, 0] + W[1, 1]*X[0, 1] + W[2, 1]*X[0, 2]) + sigma(W[0, 1]*X[1, 0] + W[1, 1]*X[1, 1] + W[2, 1]*X[1, 2]) + sigma(W[0, 1]*X[2, 0] + W[1, 1]*X[2, 1] + W[2, 1]*X[2, 2])"
      ]
     },
     "execution_count": 1,
     "metadata": {},
     "output_type": "execute_result"
    }
   ],
   "source": [
    "# Replacing n first: GOOD (need to go from inner nesting to outermost function, never any other way)\n",
    "L.replace(n, v).replace(sigmaApply, sigmaApply_).replace(lambd, lambd_)"
   ]
  },
  {
   "cell_type": "code",
   "execution_count": 110,
   "metadata": {
    "execution": {
     "iopub.execute_input": "2020-09-24T18:25:09.367871Z",
     "iopub.status.busy": "2020-09-24T18:25:09.366313Z",
     "iopub.status.idle": "2020-09-24T18:25:09.988854Z",
     "shell.execute_reply": "2020-09-24T18:25:09.989902Z"
    },
    "lines_to_next_cell": 0,
    "title": "codecell"
   },
   "outputs": [
    {
     "data": {
      "text/latex": [
       "$\\displaystyle \\left[\\begin{matrix}W_{0, 0} \\left. \\frac{d}{d \\xi_{1}} \\sigma{\\left(\\xi_{1} \\right)} \\right|_{\\substack{ \\xi_{1}=W_{0, 0} X_{0, 0} + W_{1, 0} X_{0, 1} + W_{2, 0} X_{0, 2} }} + W_{0, 1} \\left. \\frac{d}{d \\xi_{1}} \\sigma{\\left(\\xi_{1} \\right)} \\right|_{\\substack{ \\xi_{1}=W_{0, 1} X_{0, 0} + W_{1, 1} X_{0, 1} + W_{2, 1} X_{0, 2} }} & W_{1, 0} \\left. \\frac{d}{d \\xi_{1}} \\sigma{\\left(\\xi_{1} \\right)} \\right|_{\\substack{ \\xi_{1}=W_{0, 0} X_{0, 0} + W_{1, 0} X_{0, 1} + W_{2, 0} X_{0, 2} }} + W_{1, 1} \\left. \\frac{d}{d \\xi_{1}} \\sigma{\\left(\\xi_{1} \\right)} \\right|_{\\substack{ \\xi_{1}=W_{0, 1} X_{0, 0} + W_{1, 1} X_{0, 1} + W_{2, 1} X_{0, 2} }} & W_{2, 0} \\left. \\frac{d}{d \\xi_{1}} \\sigma{\\left(\\xi_{1} \\right)} \\right|_{\\substack{ \\xi_{1}=W_{0, 0} X_{0, 0} + W_{1, 0} X_{0, 1} + W_{2, 0} X_{0, 2} }} + W_{2, 1} \\left. \\frac{d}{d \\xi_{1}} \\sigma{\\left(\\xi_{1} \\right)} \\right|_{\\substack{ \\xi_{1}=W_{0, 1} X_{0, 0} + W_{1, 1} X_{0, 1} + W_{2, 1} X_{0, 2} }}\\\\W_{0, 0} \\left. \\frac{d}{d \\xi_{1}} \\sigma{\\left(\\xi_{1} \\right)} \\right|_{\\substack{ \\xi_{1}=W_{0, 0} X_{1, 0} + W_{1, 0} X_{1, 1} + W_{2, 0} X_{1, 2} }} + W_{0, 1} \\left. \\frac{d}{d \\xi_{1}} \\sigma{\\left(\\xi_{1} \\right)} \\right|_{\\substack{ \\xi_{1}=W_{0, 1} X_{1, 0} + W_{1, 1} X_{1, 1} + W_{2, 1} X_{1, 2} }} & W_{1, 0} \\left. \\frac{d}{d \\xi_{1}} \\sigma{\\left(\\xi_{1} \\right)} \\right|_{\\substack{ \\xi_{1}=W_{0, 0} X_{1, 0} + W_{1, 0} X_{1, 1} + W_{2, 0} X_{1, 2} }} + W_{1, 1} \\left. \\frac{d}{d \\xi_{1}} \\sigma{\\left(\\xi_{1} \\right)} \\right|_{\\substack{ \\xi_{1}=W_{0, 1} X_{1, 0} + W_{1, 1} X_{1, 1} + W_{2, 1} X_{1, 2} }} & W_{2, 0} \\left. \\frac{d}{d \\xi_{1}} \\sigma{\\left(\\xi_{1} \\right)} \\right|_{\\substack{ \\xi_{1}=W_{0, 0} X_{1, 0} + W_{1, 0} X_{1, 1} + W_{2, 0} X_{1, 2} }} + W_{2, 1} \\left. \\frac{d}{d \\xi_{1}} \\sigma{\\left(\\xi_{1} \\right)} \\right|_{\\substack{ \\xi_{1}=W_{0, 1} X_{1, 0} + W_{1, 1} X_{1, 1} + W_{2, 1} X_{1, 2} }}\\\\W_{0, 0} \\left. \\frac{d}{d \\xi_{1}} \\sigma{\\left(\\xi_{1} \\right)} \\right|_{\\substack{ \\xi_{1}=W_{0, 0} X_{2, 0} + W_{1, 0} X_{2, 1} + W_{2, 0} X_{2, 2} }} + W_{0, 1} \\left. \\frac{d}{d \\xi_{1}} \\sigma{\\left(\\xi_{1} \\right)} \\right|_{\\substack{ \\xi_{1}=W_{0, 1} X_{2, 0} + W_{1, 1} X_{2, 1} + W_{2, 1} X_{2, 2} }} & W_{1, 0} \\left. \\frac{d}{d \\xi_{1}} \\sigma{\\left(\\xi_{1} \\right)} \\right|_{\\substack{ \\xi_{1}=W_{0, 0} X_{2, 0} + W_{1, 0} X_{2, 1} + W_{2, 0} X_{2, 2} }} + W_{1, 1} \\left. \\frac{d}{d \\xi_{1}} \\sigma{\\left(\\xi_{1} \\right)} \\right|_{\\substack{ \\xi_{1}=W_{0, 1} X_{2, 0} + W_{1, 1} X_{2, 1} + W_{2, 1} X_{2, 2} }} & W_{2, 0} \\left. \\frac{d}{d \\xi_{1}} \\sigma{\\left(\\xi_{1} \\right)} \\right|_{\\substack{ \\xi_{1}=W_{0, 0} X_{2, 0} + W_{1, 0} X_{2, 1} + W_{2, 0} X_{2, 2} }} + W_{2, 1} \\left. \\frac{d}{d \\xi_{1}} \\sigma{\\left(\\xi_{1} \\right)} \\right|_{\\substack{ \\xi_{1}=W_{0, 1} X_{2, 0} + W_{1, 1} X_{2, 1} + W_{2, 1} X_{2, 2} }}\\end{matrix}\\right]$"
      ],
      "text/plain": [
       "Matrix([\n",
       "[W[0, 0]*Subs(Derivative(sigma(_xi_1), _xi_1), _xi_1, W[0, 0]*X[0, 0] + W[1, 0]*X[0, 1] + W[2, 0]*X[0, 2]) + W[0, 1]*Subs(Derivative(sigma(_xi_1), _xi_1), _xi_1, W[0, 1]*X[0, 0] + W[1, 1]*X[0, 1] + W[2, 1]*X[0, 2]), W[1, 0]*Subs(Derivative(sigma(_xi_1), _xi_1), _xi_1, W[0, 0]*X[0, 0] + W[1, 0]*X[0, 1] + W[2, 0]*X[0, 2]) + W[1, 1]*Subs(Derivative(sigma(_xi_1), _xi_1), _xi_1, W[0, 1]*X[0, 0] + W[1, 1]*X[0, 1] + W[2, 1]*X[0, 2]), W[2, 0]*Subs(Derivative(sigma(_xi_1), _xi_1), _xi_1, W[0, 0]*X[0, 0] + W[1, 0]*X[0, 1] + W[2, 0]*X[0, 2]) + W[2, 1]*Subs(Derivative(sigma(_xi_1), _xi_1), _xi_1, W[0, 1]*X[0, 0] + W[1, 1]*X[0, 1] + W[2, 1]*X[0, 2])],\n",
       "[W[0, 0]*Subs(Derivative(sigma(_xi_1), _xi_1), _xi_1, W[0, 0]*X[1, 0] + W[1, 0]*X[1, 1] + W[2, 0]*X[1, 2]) + W[0, 1]*Subs(Derivative(sigma(_xi_1), _xi_1), _xi_1, W[0, 1]*X[1, 0] + W[1, 1]*X[1, 1] + W[2, 1]*X[1, 2]), W[1, 0]*Subs(Derivative(sigma(_xi_1), _xi_1), _xi_1, W[0, 0]*X[1, 0] + W[1, 0]*X[1, 1] + W[2, 0]*X[1, 2]) + W[1, 1]*Subs(Derivative(sigma(_xi_1), _xi_1), _xi_1, W[0, 1]*X[1, 0] + W[1, 1]*X[1, 1] + W[2, 1]*X[1, 2]), W[2, 0]*Subs(Derivative(sigma(_xi_1), _xi_1), _xi_1, W[0, 0]*X[1, 0] + W[1, 0]*X[1, 1] + W[2, 0]*X[1, 2]) + W[2, 1]*Subs(Derivative(sigma(_xi_1), _xi_1), _xi_1, W[0, 1]*X[1, 0] + W[1, 1]*X[1, 1] + W[2, 1]*X[1, 2])],\n",
       "[W[0, 0]*Subs(Derivative(sigma(_xi_1), _xi_1), _xi_1, W[0, 0]*X[2, 0] + W[1, 0]*X[2, 1] + W[2, 0]*X[2, 2]) + W[0, 1]*Subs(Derivative(sigma(_xi_1), _xi_1), _xi_1, W[0, 1]*X[2, 0] + W[1, 1]*X[2, 1] + W[2, 1]*X[2, 2]), W[1, 0]*Subs(Derivative(sigma(_xi_1), _xi_1), _xi_1, W[0, 0]*X[2, 0] + W[1, 0]*X[2, 1] + W[2, 0]*X[2, 2]) + W[1, 1]*Subs(Derivative(sigma(_xi_1), _xi_1), _xi_1, W[0, 1]*X[2, 0] + W[1, 1]*X[2, 1] + W[2, 1]*X[2, 2]), W[2, 0]*Subs(Derivative(sigma(_xi_1), _xi_1), _xi_1, W[0, 0]*X[2, 0] + W[1, 0]*X[2, 1] + W[2, 0]*X[2, 2]) + W[2, 1]*Subs(Derivative(sigma(_xi_1), _xi_1), _xi_1, W[0, 1]*X[2, 0] + W[1, 1]*X[2, 1] + W[2, 1]*X[2, 2])]])"
      ]
     },
     "execution_count": 1,
     "metadata": {},
     "output_type": "execute_result"
    }
   ],
   "source": [
    "# ### END RESULT of METHOD 2:\n",
    "L.replace(n, v).replace(sigmaApply, sigmaApply_).replace(lambd, lambd_).diff(Matrix(A))"
   ]
  },
  {
   "cell_type": "markdown",
   "execution_count": 111,
   "metadata": {
    "lines_to_next_cell": 0,
    "title": "markdown"
   },
   "source": [
    "Compare the above matrix symbol way with the Lsum way:\n",
    "\n",
    "### END RESULT of METHOD 1:"
   ]
  },
  {
   "cell_type": "code",
   "execution_count": 111,
   "metadata": {
    "execution": {
     "iopub.execute_input": "2020-09-24T18:25:09.995075Z",
     "iopub.status.busy": "2020-09-24T18:25:09.993579Z",
     "iopub.status.idle": "2020-09-24T18:25:10.136487Z",
     "shell.execute_reply": "2020-09-24T18:25:10.137722Z"
    },
    "lines_to_next_cell": 0,
    "title": "codecell"
   },
   "outputs": [
    {
     "data": {
      "text/latex": [
       "$\\displaystyle \\left[\\begin{matrix}w_{11} \\left. \\frac{d}{d \\xi_{1}} \\sigma{\\left(\\xi_{1} \\right)} \\right|_{\\substack{ \\xi_{1}=w_{11} x_{11} + w_{21} x_{12} + w_{31} x_{13} }} + w_{12} \\left. \\frac{d}{d \\xi_{1}} \\sigma{\\left(\\xi_{1} \\right)} \\right|_{\\substack{ \\xi_{1}=w_{12} x_{11} + w_{22} x_{12} + w_{32} x_{13} }} & w_{21} \\left. \\frac{d}{d \\xi_{1}} \\sigma{\\left(\\xi_{1} \\right)} \\right|_{\\substack{ \\xi_{1}=w_{11} x_{11} + w_{21} x_{12} + w_{31} x_{13} }} + w_{22} \\left. \\frac{d}{d \\xi_{1}} \\sigma{\\left(\\xi_{1} \\right)} \\right|_{\\substack{ \\xi_{1}=w_{12} x_{11} + w_{22} x_{12} + w_{32} x_{13} }} & w_{31} \\left. \\frac{d}{d \\xi_{1}} \\sigma{\\left(\\xi_{1} \\right)} \\right|_{\\substack{ \\xi_{1}=w_{11} x_{11} + w_{21} x_{12} + w_{31} x_{13} }} + w_{32} \\left. \\frac{d}{d \\xi_{1}} \\sigma{\\left(\\xi_{1} \\right)} \\right|_{\\substack{ \\xi_{1}=w_{12} x_{11} + w_{22} x_{12} + w_{32} x_{13} }}\\\\w_{11} \\left. \\frac{d}{d \\xi_{1}} \\sigma{\\left(\\xi_{1} \\right)} \\right|_{\\substack{ \\xi_{1}=w_{11} x_{21} + w_{21} x_{22} + w_{31} x_{23} }} + w_{12} \\left. \\frac{d}{d \\xi_{1}} \\sigma{\\left(\\xi_{1} \\right)} \\right|_{\\substack{ \\xi_{1}=w_{12} x_{21} + w_{22} x_{22} + w_{32} x_{23} }} & w_{21} \\left. \\frac{d}{d \\xi_{1}} \\sigma{\\left(\\xi_{1} \\right)} \\right|_{\\substack{ \\xi_{1}=w_{11} x_{21} + w_{21} x_{22} + w_{31} x_{23} }} + w_{22} \\left. \\frac{d}{d \\xi_{1}} \\sigma{\\left(\\xi_{1} \\right)} \\right|_{\\substack{ \\xi_{1}=w_{12} x_{21} + w_{22} x_{22} + w_{32} x_{23} }} & w_{31} \\left. \\frac{d}{d \\xi_{1}} \\sigma{\\left(\\xi_{1} \\right)} \\right|_{\\substack{ \\xi_{1}=w_{11} x_{21} + w_{21} x_{22} + w_{31} x_{23} }} + w_{32} \\left. \\frac{d}{d \\xi_{1}} \\sigma{\\left(\\xi_{1} \\right)} \\right|_{\\substack{ \\xi_{1}=w_{12} x_{21} + w_{22} x_{22} + w_{32} x_{23} }}\\\\w_{11} \\left. \\frac{d}{d \\xi_{1}} \\sigma{\\left(\\xi_{1} \\right)} \\right|_{\\substack{ \\xi_{1}=w_{11} x_{31} + w_{21} x_{32} + w_{31} x_{33} }} + w_{12} \\left. \\frac{d}{d \\xi_{1}} \\sigma{\\left(\\xi_{1} \\right)} \\right|_{\\substack{ \\xi_{1}=w_{12} x_{31} + w_{22} x_{32} + w_{32} x_{33} }} & w_{21} \\left. \\frac{d}{d \\xi_{1}} \\sigma{\\left(\\xi_{1} \\right)} \\right|_{\\substack{ \\xi_{1}=w_{11} x_{31} + w_{21} x_{32} + w_{31} x_{33} }} + w_{22} \\left. \\frac{d}{d \\xi_{1}} \\sigma{\\left(\\xi_{1} \\right)} \\right|_{\\substack{ \\xi_{1}=w_{12} x_{31} + w_{22} x_{32} + w_{32} x_{33} }} & w_{31} \\left. \\frac{d}{d \\xi_{1}} \\sigma{\\left(\\xi_{1} \\right)} \\right|_{\\substack{ \\xi_{1}=w_{11} x_{31} + w_{21} x_{32} + w_{31} x_{33} }} + w_{32} \\left. \\frac{d}{d \\xi_{1}} \\sigma{\\left(\\xi_{1} \\right)} \\right|_{\\substack{ \\xi_{1}=w_{12} x_{31} + w_{22} x_{32} + w_{32} x_{33} }}\\end{matrix}\\right]$"
      ],
      "text/plain": [
       "Matrix([\n",
       "[w_11*Subs(Derivative(sigma(_xi_1), _xi_1), _xi_1, w_11*x_11 + w_21*x_12 + w_31*x_13) + w_12*Subs(Derivative(sigma(_xi_1), _xi_1), _xi_1, w_12*x_11 + w_22*x_12 + w_32*x_13), w_21*Subs(Derivative(sigma(_xi_1), _xi_1), _xi_1, w_11*x_11 + w_21*x_12 + w_31*x_13) + w_22*Subs(Derivative(sigma(_xi_1), _xi_1), _xi_1, w_12*x_11 + w_22*x_12 + w_32*x_13), w_31*Subs(Derivative(sigma(_xi_1), _xi_1), _xi_1, w_11*x_11 + w_21*x_12 + w_31*x_13) + w_32*Subs(Derivative(sigma(_xi_1), _xi_1), _xi_1, w_12*x_11 + w_22*x_12 + w_32*x_13)],\n",
       "[w_11*Subs(Derivative(sigma(_xi_1), _xi_1), _xi_1, w_11*x_21 + w_21*x_22 + w_31*x_23) + w_12*Subs(Derivative(sigma(_xi_1), _xi_1), _xi_1, w_12*x_21 + w_22*x_22 + w_32*x_23), w_21*Subs(Derivative(sigma(_xi_1), _xi_1), _xi_1, w_11*x_21 + w_21*x_22 + w_31*x_23) + w_22*Subs(Derivative(sigma(_xi_1), _xi_1), _xi_1, w_12*x_21 + w_22*x_22 + w_32*x_23), w_31*Subs(Derivative(sigma(_xi_1), _xi_1), _xi_1, w_11*x_21 + w_21*x_22 + w_31*x_23) + w_32*Subs(Derivative(sigma(_xi_1), _xi_1), _xi_1, w_12*x_21 + w_22*x_22 + w_32*x_23)],\n",
       "[w_11*Subs(Derivative(sigma(_xi_1), _xi_1), _xi_1, w_11*x_31 + w_21*x_32 + w_31*x_33) + w_12*Subs(Derivative(sigma(_xi_1), _xi_1), _xi_1, w_12*x_31 + w_22*x_32 + w_32*x_33), w_21*Subs(Derivative(sigma(_xi_1), _xi_1), _xi_1, w_11*x_31 + w_21*x_32 + w_31*x_33) + w_22*Subs(Derivative(sigma(_xi_1), _xi_1), _xi_1, w_12*x_31 + w_22*x_32 + w_32*x_33), w_31*Subs(Derivative(sigma(_xi_1), _xi_1), _xi_1, w_11*x_31 + w_21*x_32 + w_31*x_33) + w_32*Subs(Derivative(sigma(_xi_1), _xi_1), _xi_1, w_12*x_31 + w_22*x_32 + w_32*x_33)]])"
      ]
     },
     "execution_count": 1,
     "metadata": {},
     "output_type": "execute_result"
    }
   ],
   "source": [
    "#Lsum = L.replace(n, vN).replace(sigmaApply, sigmaApply_).replace(lambd, lambd_)\n",
    "\n",
    "L.replace(n, vN).replace(sigmaApply, sigmaApply_).replace(lambd, lambd_).subs(elemToSpecD).diff(X)#.subs(specToElemD)"
   ]
  },
  {
   "cell_type": "code",
   "execution_count": 112,
   "metadata": {
    "lines_to_next_cell": 2,
    "title": "codecell"
   },
   "outputs": [],
   "source": []
  },
  {
   "cell_type": "markdown",
   "execution_count": 112,
   "metadata": {
    "lines_to_next_cell": 0,
    "title": "markdown"
   },
   "source": [
    "COMPARING METHOD 0 (abstract way) with METHOD 2 (direct way) when differentiating .w.r.t to X vs. w.r.t to W\n",
    "### With respect to X (abstract)"
   ]
  },
  {
   "cell_type": "code",
   "execution_count": 112,
   "metadata": {
    "execution": {
     "iopub.execute_input": "2020-09-24T18:25:10.148064Z",
     "iopub.status.busy": "2020-09-24T18:25:10.141314Z",
     "iopub.status.idle": "2020-09-24T18:25:10.235016Z",
     "shell.execute_reply": "2020-09-24T18:25:10.236129Z"
    },
    "title": "codecell"
   },
   "outputs": [
    {
     "data": {
      "text/latex": [
       "$\\displaystyle \\left. \\frac{d}{d \\xi_{1}} \\lambda{\\left(\\xi_{1} \\right)} \\right|_{\\substack{ \\xi_{1}={\\left( d \\mapsto \\sigma{\\left(d \\right)} \\right)}_{\\circ}\\left({X W}\\right) }} {\\left( d \\mapsto \\frac{d}{d d} \\sigma{\\left(d \\right)} \\right)}_{\\circ}\\left({X W}\\right) W^{T}$"
      ],
      "text/plain": [
       "Subs(Derivative(lambda(_xi_1), _xi_1), _xi_1, Lambda(_d, sigma(_d)).(X*W))*Lambda(_d, Derivative(sigma(_d), _d)).(X*W)*W.T"
      ]
     },
     "execution_count": 1,
     "metadata": {},
     "output_type": "execute_result"
    }
   ],
   "source": [
    "L.replace(n,vL).replace(sigmaApply, sigmaApply_).diff(A)"
   ]
  },
  {
   "cell_type": "markdown",
   "execution_count": 113,
   "metadata": {
    "lines_to_next_cell": 0,
    "title": "markdown"
   },
   "source": [
    "### With respect to X (direct)"
   ]
  },
  {
   "cell_type": "code",
   "execution_count": 113,
   "metadata": {
    "execution": {
     "iopub.execute_input": "2020-09-24T18:25:10.241167Z",
     "iopub.status.busy": "2020-09-24T18:25:10.239713Z",
     "iopub.status.idle": "2020-09-24T18:25:10.308417Z",
     "shell.execute_reply": "2020-09-24T18:25:10.309502Z"
    },
    "title": "codecell"
   },
   "outputs": [
    {
     "data": {
      "text/latex": [
       "$\\displaystyle \\left[\\begin{matrix}w_{11} \\left. \\frac{d}{d \\xi_{1}} \\sigma{\\left(\\xi_{1} \\right)} \\right|_{\\substack{ \\xi_{1}=n_{11} }} + w_{12} \\left. \\frac{d}{d \\xi_{1}} \\sigma{\\left(\\xi_{1} \\right)} \\right|_{\\substack{ \\xi_{1}=n_{12} }} & w_{21} \\left. \\frac{d}{d \\xi_{1}} \\sigma{\\left(\\xi_{1} \\right)} \\right|_{\\substack{ \\xi_{1}=n_{11} }} + w_{22} \\left. \\frac{d}{d \\xi_{1}} \\sigma{\\left(\\xi_{1} \\right)} \\right|_{\\substack{ \\xi_{1}=n_{12} }} & w_{31} \\left. \\frac{d}{d \\xi_{1}} \\sigma{\\left(\\xi_{1} \\right)} \\right|_{\\substack{ \\xi_{1}=n_{11} }} + w_{32} \\left. \\frac{d}{d \\xi_{1}} \\sigma{\\left(\\xi_{1} \\right)} \\right|_{\\substack{ \\xi_{1}=n_{12} }}\\\\w_{11} \\left. \\frac{d}{d \\xi_{1}} \\sigma{\\left(\\xi_{1} \\right)} \\right|_{\\substack{ \\xi_{1}=n_{21} }} + w_{12} \\left. \\frac{d}{d \\xi_{1}} \\sigma{\\left(\\xi_{1} \\right)} \\right|_{\\substack{ \\xi_{1}=n_{22} }} & w_{21} \\left. \\frac{d}{d \\xi_{1}} \\sigma{\\left(\\xi_{1} \\right)} \\right|_{\\substack{ \\xi_{1}=n_{21} }} + w_{22} \\left. \\frac{d}{d \\xi_{1}} \\sigma{\\left(\\xi_{1} \\right)} \\right|_{\\substack{ \\xi_{1}=n_{22} }} & w_{31} \\left. \\frac{d}{d \\xi_{1}} \\sigma{\\left(\\xi_{1} \\right)} \\right|_{\\substack{ \\xi_{1}=n_{21} }} + w_{32} \\left. \\frac{d}{d \\xi_{1}} \\sigma{\\left(\\xi_{1} \\right)} \\right|_{\\substack{ \\xi_{1}=n_{22} }}\\\\w_{11} \\left. \\frac{d}{d \\xi_{1}} \\sigma{\\left(\\xi_{1} \\right)} \\right|_{\\substack{ \\xi_{1}=n_{31} }} + w_{12} \\left. \\frac{d}{d \\xi_{1}} \\sigma{\\left(\\xi_{1} \\right)} \\right|_{\\substack{ \\xi_{1}=n_{32} }} & w_{21} \\left. \\frac{d}{d \\xi_{1}} \\sigma{\\left(\\xi_{1} \\right)} \\right|_{\\substack{ \\xi_{1}=n_{31} }} + w_{22} \\left. \\frac{d}{d \\xi_{1}} \\sigma{\\left(\\xi_{1} \\right)} \\right|_{\\substack{ \\xi_{1}=n_{32} }} & w_{31} \\left. \\frac{d}{d \\xi_{1}} \\sigma{\\left(\\xi_{1} \\right)} \\right|_{\\substack{ \\xi_{1}=n_{31} }} + w_{32} \\left. \\frac{d}{d \\xi_{1}} \\sigma{\\left(\\xi_{1} \\right)} \\right|_{\\substack{ \\xi_{1}=n_{32} }}\\end{matrix}\\right]$"
      ],
      "text/plain": [
       "Matrix([\n",
       "[w_11*Subs(Derivative(sigma(_xi_1), _xi_1), _xi_1, n_11) + w_12*Subs(Derivative(sigma(_xi_1), _xi_1), _xi_1, n_12), w_21*Subs(Derivative(sigma(_xi_1), _xi_1), _xi_1, n_11) + w_22*Subs(Derivative(sigma(_xi_1), _xi_1), _xi_1, n_12), w_31*Subs(Derivative(sigma(_xi_1), _xi_1), _xi_1, n_11) + w_32*Subs(Derivative(sigma(_xi_1), _xi_1), _xi_1, n_12)],\n",
       "[w_11*Subs(Derivative(sigma(_xi_1), _xi_1), _xi_1, n_21) + w_12*Subs(Derivative(sigma(_xi_1), _xi_1), _xi_1, n_22), w_21*Subs(Derivative(sigma(_xi_1), _xi_1), _xi_1, n_21) + w_22*Subs(Derivative(sigma(_xi_1), _xi_1), _xi_1, n_22), w_31*Subs(Derivative(sigma(_xi_1), _xi_1), _xi_1, n_21) + w_32*Subs(Derivative(sigma(_xi_1), _xi_1), _xi_1, n_22)],\n",
       "[w_11*Subs(Derivative(sigma(_xi_1), _xi_1), _xi_1, n_31) + w_12*Subs(Derivative(sigma(_xi_1), _xi_1), _xi_1, n_32), w_21*Subs(Derivative(sigma(_xi_1), _xi_1), _xi_1, n_31) + w_22*Subs(Derivative(sigma(_xi_1), _xi_1), _xi_1, n_32), w_31*Subs(Derivative(sigma(_xi_1), _xi_1), _xi_1, n_31) + w_32*Subs(Derivative(sigma(_xi_1), _xi_1), _xi_1, n_32)]])"
      ]
     },
     "execution_count": 1,
     "metadata": {},
     "output_type": "execute_result"
    }
   ],
   "source": [
    "L.replace(n, vN).replace(sigmaApply, sigmaApply_).replace(lambd, lambd_).subs(elemToSpecD).diff(X).subs(specToElemD)"
   ]
  },
  {
   "cell_type": "markdown",
   "execution_count": 114,
   "metadata": {
    "lines_to_next_cell": 0,
    "title": "markdown"
   },
   "source": [
    "### With respect to W (abstract)"
   ]
  },
  {
   "cell_type": "code",
   "execution_count": 114,
   "metadata": {
    "execution": {
     "iopub.execute_input": "2020-09-24T18:25:10.314462Z",
     "iopub.status.busy": "2020-09-24T18:25:10.312941Z",
     "iopub.status.idle": "2020-09-24T18:25:10.415592Z",
     "shell.execute_reply": "2020-09-24T18:25:10.416726Z"
    },
    "title": "codecell"
   },
   "outputs": [
    {
     "data": {
      "text/latex": [
       "$\\displaystyle \\left. \\frac{d}{d \\xi_{1}} \\lambda{\\left(\\xi_{1} \\right)} \\right|_{\\substack{ \\xi_{1}={\\left( d \\mapsto \\sigma{\\left(d \\right)} \\right)}_{\\circ}\\left({X W}\\right) }} X^{T} {\\left( d \\mapsto \\frac{d}{d d} \\sigma{\\left(d \\right)} \\right)}_{\\circ}\\left({X W}\\right)$"
      ],
      "text/plain": [
       "Subs(Derivative(lambda(_xi_1), _xi_1), _xi_1, Lambda(_d, sigma(_d)).(X*W))*X.T*Lambda(_d, Derivative(sigma(_d), _d)).(X*W)"
      ]
     },
     "execution_count": 1,
     "metadata": {},
     "output_type": "execute_result"
    }
   ],
   "source": [
    "L.replace(n,vL).replace(sigmaApply, sigmaApply_).diff(B)"
   ]
  },
  {
   "cell_type": "markdown",
   "execution_count": 115,
   "metadata": {
    "lines_to_next_cell": 0,
    "title": "markdown"
   },
   "source": [
    "### With respect to W (direct)"
   ]
  },
  {
   "cell_type": "code",
   "execution_count": 115,
   "metadata": {
    "execution": {
     "iopub.execute_input": "2020-09-24T18:25:10.422225Z",
     "iopub.status.busy": "2020-09-24T18:25:10.420692Z",
     "iopub.status.idle": "2020-09-24T18:25:10.864566Z",
     "shell.execute_reply": "2020-09-24T18:25:10.865649Z"
    },
    "lines_to_next_cell": 0,
    "title": "codecell"
   },
   "outputs": [
    {
     "data": {
      "text/latex": [
       "$\\displaystyle \\left[\\begin{matrix}x_{11} \\left. \\frac{d}{d \\xi_{1}} \\sigma{\\left(\\xi_{1} \\right)} \\right|_{\\substack{ \\xi_{1}=n_{11} }} + x_{21} \\left. \\frac{d}{d \\xi_{1}} \\sigma{\\left(\\xi_{1} \\right)} \\right|_{\\substack{ \\xi_{1}=n_{21} }} + x_{31} \\left. \\frac{d}{d \\xi_{1}} \\sigma{\\left(\\xi_{1} \\right)} \\right|_{\\substack{ \\xi_{1}=n_{31} }} & x_{11} \\left. \\frac{d}{d \\xi_{1}} \\sigma{\\left(\\xi_{1} \\right)} \\right|_{\\substack{ \\xi_{1}=n_{12} }} + x_{21} \\left. \\frac{d}{d \\xi_{1}} \\sigma{\\left(\\xi_{1} \\right)} \\right|_{\\substack{ \\xi_{1}=n_{22} }} + x_{31} \\left. \\frac{d}{d \\xi_{1}} \\sigma{\\left(\\xi_{1} \\right)} \\right|_{\\substack{ \\xi_{1}=n_{32} }}\\\\x_{12} \\left. \\frac{d}{d \\xi_{1}} \\sigma{\\left(\\xi_{1} \\right)} \\right|_{\\substack{ \\xi_{1}=n_{11} }} + x_{22} \\left. \\frac{d}{d \\xi_{1}} \\sigma{\\left(\\xi_{1} \\right)} \\right|_{\\substack{ \\xi_{1}=n_{21} }} + x_{32} \\left. \\frac{d}{d \\xi_{1}} \\sigma{\\left(\\xi_{1} \\right)} \\right|_{\\substack{ \\xi_{1}=n_{31} }} & x_{12} \\left. \\frac{d}{d \\xi_{1}} \\sigma{\\left(\\xi_{1} \\right)} \\right|_{\\substack{ \\xi_{1}=n_{12} }} + x_{22} \\left. \\frac{d}{d \\xi_{1}} \\sigma{\\left(\\xi_{1} \\right)} \\right|_{\\substack{ \\xi_{1}=n_{22} }} + x_{32} \\left. \\frac{d}{d \\xi_{1}} \\sigma{\\left(\\xi_{1} \\right)} \\right|_{\\substack{ \\xi_{1}=n_{32} }}\\\\x_{13} \\left. \\frac{d}{d \\xi_{1}} \\sigma{\\left(\\xi_{1} \\right)} \\right|_{\\substack{ \\xi_{1}=n_{11} }} + x_{23} \\left. \\frac{d}{d \\xi_{1}} \\sigma{\\left(\\xi_{1} \\right)} \\right|_{\\substack{ \\xi_{1}=n_{21} }} + x_{33} \\left. \\frac{d}{d \\xi_{1}} \\sigma{\\left(\\xi_{1} \\right)} \\right|_{\\substack{ \\xi_{1}=n_{31} }} & x_{13} \\left. \\frac{d}{d \\xi_{1}} \\sigma{\\left(\\xi_{1} \\right)} \\right|_{\\substack{ \\xi_{1}=n_{12} }} + x_{23} \\left. \\frac{d}{d \\xi_{1}} \\sigma{\\left(\\xi_{1} \\right)} \\right|_{\\substack{ \\xi_{1}=n_{22} }} + x_{33} \\left. \\frac{d}{d \\xi_{1}} \\sigma{\\left(\\xi_{1} \\right)} \\right|_{\\substack{ \\xi_{1}=n_{32} }}\\end{matrix}\\right]$"
      ],
      "text/plain": [
       "Matrix([\n",
       "[x_11*Subs(Derivative(sigma(_xi_1), _xi_1), _xi_1, n_11) + x_21*Subs(Derivative(sigma(_xi_1), _xi_1), _xi_1, n_21) + x_31*Subs(Derivative(sigma(_xi_1), _xi_1), _xi_1, n_31), x_11*Subs(Derivative(sigma(_xi_1), _xi_1), _xi_1, n_12) + x_21*Subs(Derivative(sigma(_xi_1), _xi_1), _xi_1, n_22) + x_31*Subs(Derivative(sigma(_xi_1), _xi_1), _xi_1, n_32)],\n",
       "[x_12*Subs(Derivative(sigma(_xi_1), _xi_1), _xi_1, n_11) + x_22*Subs(Derivative(sigma(_xi_1), _xi_1), _xi_1, n_21) + x_32*Subs(Derivative(sigma(_xi_1), _xi_1), _xi_1, n_31), x_12*Subs(Derivative(sigma(_xi_1), _xi_1), _xi_1, n_12) + x_22*Subs(Derivative(sigma(_xi_1), _xi_1), _xi_1, n_22) + x_32*Subs(Derivative(sigma(_xi_1), _xi_1), _xi_1, n_32)],\n",
       "[x_13*Subs(Derivative(sigma(_xi_1), _xi_1), _xi_1, n_11) + x_23*Subs(Derivative(sigma(_xi_1), _xi_1), _xi_1, n_21) + x_33*Subs(Derivative(sigma(_xi_1), _xi_1), _xi_1, n_31), x_13*Subs(Derivative(sigma(_xi_1), _xi_1), _xi_1, n_12) + x_23*Subs(Derivative(sigma(_xi_1), _xi_1), _xi_1, n_22) + x_33*Subs(Derivative(sigma(_xi_1), _xi_1), _xi_1, n_32)]])"
      ]
     },
     "execution_count": 1,
     "metadata": {},
     "output_type": "execute_result"
    }
   ],
   "source": [
    "L.replace(n, vN).replace(sigmaApply, sigmaApply_).replace(lambd, lambd_).subs(elemToSpecD).diff(W).subs(specToElemD)"
   ]
  },
  {
   "cell_type": "code",
   "execution_count": 116,
   "metadata": {
    "lines_to_next_cell": 0,
    "title": "codecell"
   },
   "outputs": [],
   "source": []
  },
  {
   "cell_type": "code",
   "execution_count": 116,
   "metadata": {
    "lines_to_next_cell": 0,
    "title": "codecell"
   },
   "outputs": [],
   "source": []
  },
  {
   "cell_type": "code",
   "execution_count": 116,
   "metadata": {
    "lines_to_next_cell": 0,
    "title": "codecell"
   },
   "outputs": [],
   "source": []
  },
  {
   "cell_type": "code",
   "execution_count": 116,
   "metadata": {
    "lines_to_next_cell": 0,
    "title": "codecell"
   },
   "outputs": [],
   "source": []
  },
  {
   "cell_type": "markdown",
   "execution_count": 116,
   "metadata": {
    "lines_to_next_cell": 0,
    "title": "markdown"
   },
   "source": [
    "### NEXT: try to substitute the X, W matrices step by step to see if you can come to the same result as the direct forms above (from method 2 or 1)"
   ]
  },
  {
   "cell_type": "code",
   "execution_count": 116,
   "metadata": {
    "execution": {
     "iopub.execute_input": "2020-09-24T18:25:10.873591Z",
     "iopub.status.busy": "2020-09-24T18:25:10.869692Z",
     "iopub.status.idle": "2020-09-24T18:25:10.995585Z",
     "shell.execute_reply": "2020-09-24T18:25:10.996699Z"
    },
    "lines_to_next_cell": 0,
    "title": "codecell"
   },
   "outputs": [
    {
     "data": {
      "text/latex": [
       "$\\displaystyle \\left. \\frac{d}{d \\xi_{1}} \\lambda{\\left(\\xi_{1} \\right)} \\right|_{\\substack{ \\xi_{1}={\\left( d \\mapsto \\sigma{\\left(d \\right)} \\right)}_{\\circ}\\left({\\left[\\begin{matrix}x_{11} & x_{12} & x_{13}\\\\x_{21} & x_{22} & x_{23}\\\\x_{31} & x_{32} & x_{33}\\end{matrix}\\right] \\left[\\begin{matrix}w_{11} & w_{12}\\\\w_{21} & w_{22}\\\\w_{31} & w_{32}\\end{matrix}\\right]}\\right) }} \\left(\\left[\\begin{matrix}x_{11} & x_{12} & x_{13}\\\\x_{21} & x_{22} & x_{23}\\\\x_{31} & x_{32} & x_{33}\\end{matrix}\\right]\\right)^{T} {\\left( d \\mapsto \\frac{d}{d d} \\sigma{\\left(d \\right)} \\right)}_{\\circ}\\left({\\left[\\begin{matrix}x_{11} & x_{12} & x_{13}\\\\x_{21} & x_{22} & x_{23}\\\\x_{31} & x_{32} & x_{33}\\end{matrix}\\right] \\left[\\begin{matrix}w_{11} & w_{12}\\\\w_{21} & w_{22}\\\\w_{31} & w_{32}\\end{matrix}\\right]}\\right)$"
      ],
      "text/plain": [
       "Subs(Derivative(lambda(_xi_1), _xi_1), _xi_1, Lambda(_d, sigma(_d)).(Matrix([\n",
       "[x_11, x_12, x_13],\n",
       "[x_21, x_22, x_23],\n",
       "[x_31, x_32, x_33]])*Matrix([\n",
       "[w_11, w_12],\n",
       "[w_21, w_22],\n",
       "[w_31, w_32]])))*Matrix([\n",
       "[x_11, x_12, x_13],\n",
       "[x_21, x_22, x_23],\n",
       "[x_31, x_32, x_33]]).T*Lambda(_d, Derivative(sigma(_d), _d)).(Matrix([\n",
       "[x_11, x_12, x_13],\n",
       "[x_21, x_22, x_23],\n",
       "[x_31, x_32, x_33]])*Matrix([\n",
       "[w_11, w_12],\n",
       "[w_21, w_22],\n",
       "[w_31, w_32]]))"
      ]
     },
     "execution_count": 1,
     "metadata": {},
     "output_type": "execute_result"
    }
   ],
   "source": [
    "from sympy import simplify, expand\n",
    "\n",
    "#simplify(L.replace(n,vL).replace(sigmaApply, sigmaApply_).diff(B).subs({A:X, B:W})) ### ERROR max recursion depth exceeded\n",
    "L.replace(n,vL).replace(sigmaApply, sigmaApply_).diff(B).subs({A:X, B:W})"
   ]
  },
  {
   "cell_type": "code",
   "execution_count": 117,
   "metadata": {
    "execution": {
     "iopub.execute_input": "2020-09-24T18:25:11.001628Z",
     "iopub.status.busy": "2020-09-24T18:25:11.000179Z",
     "iopub.status.idle": "2020-09-24T18:25:11.104458Z",
     "shell.execute_reply": "2020-09-24T18:25:11.105515Z"
    },
    "lines_to_next_cell": 2,
    "title": "codecell"
   },
   "outputs": [
    {
     "data": {
      "text/latex": [
       "$\\displaystyle \\left. \\frac{d}{d \\xi_{1}} \\lambda{\\left(\\xi_{1} \\right)} \\right|_{\\substack{ \\xi_{1}={\\left( d \\mapsto \\sigma{\\left(d \\right)} \\right)}_{\\circ}\\left({X W}\\right) }} X^{T} {\\left( d \\mapsto \\frac{d}{d d} \\sigma{\\left(d \\right)} \\right)}_{\\circ}\\left({X W}\\right)$"
      ],
      "text/plain": [
       "Subs(Derivative(lambda(_xi_1), _xi_1), _xi_1, Lambda(_d, sigma(_d)).(X*W))*X.T*Lambda(_d, Derivative(sigma(_d), _d)).(X*W)"
      ]
     },
     "execution_count": 1,
     "metadata": {},
     "output_type": "execute_result"
    }
   ],
   "source": [
    "L.replace(n,v).replace(sigmaApply, sigmaApply_).diff(B)#.subs({A:X, B:W})"
   ]
  },
  {
   "cell_type": "code",
   "execution_count": 118,
   "metadata": {
    "execution": {
     "iopub.execute_input": "2020-09-24T18:25:11.110449Z",
     "iopub.status.busy": "2020-09-24T18:25:11.108884Z",
     "iopub.status.idle": "2020-09-24T18:25:11.212411Z",
     "shell.execute_reply": "2020-09-24T18:25:11.217621Z"
    },
    "lines_to_next_cell": 0,
    "title": "codecell"
   },
   "outputs": [
    {
     "data": {
      "text/latex": [
       "$\\displaystyle \\left. \\frac{d}{d \\xi_{1}} \\lambda{\\left(\\xi_{1} \\right)} \\right|_{\\substack{ \\xi_{1}={\\left( d \\mapsto \\sigma{\\left(d \\right)} \\right)}_{\\circ}\\left({X W}\\right) }} X^{T} {\\left( d \\mapsto \\frac{d}{d d} \\sigma{\\left(d \\right)} \\right)}_{\\circ}\\left({X W}\\right)$"
      ],
      "text/plain": [
       "Subs(Derivative(lambda(_xi_1), _xi_1), _xi_1, Lambda(_d, sigma(_d)).(X*W))*X.T*Lambda(_d, Derivative(sigma(_d), _d)).(X*W)"
      ]
     },
     "execution_count": 1,
     "metadata": {},
     "output_type": "execute_result"
    }
   ],
   "source": [
    "L.replace(n,v).replace(sigmaApply, sigmaApply_).diff(B)"
   ]
  },
  {
   "cell_type": "code",
   "execution_count": 119,
   "metadata": {
    "execution": {
     "iopub.execute_input": "2020-09-24T18:25:11.223733Z",
     "iopub.status.busy": "2020-09-24T18:25:11.221743Z",
     "iopub.status.idle": "2020-09-24T18:25:11.227912Z",
     "shell.execute_reply": "2020-09-24T18:25:11.229036Z"
    },
    "title": "codecell"
   },
   "outputs": [],
   "source": [
    "#L.replace(n,v).replace(sigmaApply, sigmaApply_).replace(lambd, lambd_)"
   ]
  },
  {
   "cell_type": "code",
   "execution_count": 120,
   "metadata": {
    "execution": {
     "iopub.execute_input": "2020-09-24T18:25:11.235305Z",
     "iopub.status.busy": "2020-09-24T18:25:11.232962Z",
     "iopub.status.idle": "2020-09-24T18:25:11.284302Z",
     "shell.execute_reply": "2020-09-24T18:25:11.285446Z"
    },
    "lines_to_next_cell": 0,
    "title": "codecell"
   },
   "outputs": [
    {
     "data": {
      "text/latex": [
       "$\\displaystyle \\left. \\frac{d}{d \\xi_{1}} \\sigma_{apply}{\\left(\\xi_{1} \\right)} \\right|_{\\substack{ \\xi_{1}=X W }} \\frac{\\partial}{\\partial \\sigma_{apply}{\\left(X W \\right)}} \\lambda{\\left(\\sigma_{apply}{\\left(X W \\right)} \\right)} \\frac{\\partial}{\\partial X} X W$"
      ],
      "text/plain": [
       "Subs(Derivative(sigma_apply(_xi_1), _xi_1), _xi_1, X*W)*Derivative(lambda(sigma_apply(X*W)), sigma_apply(X*W))*Derivative(X*W, X)"
      ]
     },
     "execution_count": 1,
     "metadata": {},
     "output_type": "execute_result"
    }
   ],
   "source": [
    "#L.replace(n,v).replace(sigmaApply, sigmaApply_).diff(B).subs({A:X, B:W}).replace(lambd, lambd_) ### ERROR dummy object not iterable\n",
    "L.replace(n,v).diff(A)"
   ]
  },
  {
   "cell_type": "code",
   "execution_count": 121,
   "metadata": {
    "title": "codecell"
   },
   "outputs": [],
   "source": []
  },
  {
   "cell_type": "code",
   "execution_count": 121,
   "metadata": {
    "execution": {
     "iopub.execute_input": "2020-09-24T18:25:11.290590Z",
     "iopub.status.busy": "2020-09-24T18:25:11.289138Z",
     "iopub.status.idle": "2020-09-24T18:25:11.302448Z",
     "shell.execute_reply": "2020-09-24T18:25:11.303544Z"
    },
    "lines_to_next_cell": 0,
    "title": "codecell"
   },
   "outputs": [
    {
     "data": {
      "text/latex": [
       "$\\displaystyle \\lambda{\\left(\\sigma_{apply}{\\left(v{\\left(X^{T},W^{T} \\right)} \\right)} \\right)}$"
      ],
      "text/plain": [
       "lambda(sigma_apply(v(X.T, W.T)))"
      ]
     },
     "execution_count": 1,
     "metadata": {},
     "output_type": "execute_result"
    }
   ],
   "source": [
    "#L.replace(n,v).replace(sigmaApply, sigmaApply_).diff(A).replace(A,Matrix(A))##ERROR noncommutative matrix scalars\n",
    "# WANT: to be able to do diff and have the expression come out as above with X^T on left and W^T on right, when using just this form, with abstract form v:\n",
    "L.replace(A,A.T).replace(B,B.T)"
   ]
  },
  {
   "cell_type": "code",
   "execution_count": 122,
   "metadata": {
    "execution": {
     "iopub.execute_input": "2020-09-24T18:25:11.308621Z",
     "iopub.status.busy": "2020-09-24T18:25:11.307066Z",
     "iopub.status.idle": "2020-09-24T18:25:11.313932Z",
     "shell.execute_reply": "2020-09-24T18:25:11.315057Z"
    },
    "title": "codecell"
   },
   "outputs": [],
   "source": [
    "# Error if applying sigma to the v function because it sais v has no attribute applyfunc to trying now to making it have the attriute applyfunc.\n",
    "y = Function('y', applyfunc=True, real=True)\n",
    "\n"
   ]
  },
  {
   "cell_type": "code",
   "execution_count": 123,
   "metadata": {
    "execution": {
     "iopub.execute_input": "2020-09-24T18:25:11.319915Z",
     "iopub.status.busy": "2020-09-24T18:25:11.318423Z",
     "iopub.status.idle": "2020-09-24T18:25:11.329479Z",
     "shell.execute_reply": "2020-09-24T18:25:11.330559Z"
    },
    "lines_to_next_cell": 0,
    "title": "codecell"
   },
   "outputs": [
    {
     "data": {
      "text/latex": [
       "$\\displaystyle \\lambda{\\left(\\sigma_{apply}{\\left(y{\\left(X,W \\right)} \\right)} \\right)}$"
      ],
      "text/plain": [
       "lambda(sigma_apply(y(X, W)))"
      ]
     },
     "execution_count": 1,
     "metadata": {},
     "output_type": "execute_result"
    }
   ],
   "source": [
    "Ly = lambd(sigmaApply(y(A,B)))\n",
    "Ly"
   ]
  },
  {
   "cell_type": "code",
   "execution_count": 124,
   "metadata": {
    "execution": {
     "iopub.execute_input": "2020-09-24T18:25:11.335351Z",
     "iopub.status.busy": "2020-09-24T18:25:11.333883Z",
     "iopub.status.idle": "2020-09-24T18:25:11.347270Z",
     "shell.execute_reply": "2020-09-24T18:25:11.348364Z"
    },
    "lines_to_next_cell": 0,
    "title": "codecell"
   },
   "outputs": [
    {
     "data": {
      "text/latex": [
       "$\\displaystyle \\lambda{\\left(\\sigma_{apply}{\\left(y{\\left(X^{T},W^{T} \\right)} \\right)} \\right)}$"
      ],
      "text/plain": [
       "lambda(sigma_apply(y(X.T, W.T)))"
      ]
     },
     "execution_count": 1,
     "metadata": {},
     "output_type": "execute_result"
    }
   ],
   "source": [
    "\n",
    "Ly.replace(A,A.T).replace(B,B.T)#.replace(sigmaApply, sigmaApply_)"
   ]
  },
  {
   "cell_type": "code",
   "execution_count": 125,
   "metadata": {
    "execution": {
     "iopub.execute_input": "2020-09-24T18:25:11.353317Z",
     "iopub.status.busy": "2020-09-24T18:25:11.351737Z",
     "iopub.status.idle": "2020-09-24T18:25:11.364541Z",
     "shell.execute_reply": "2020-09-24T18:25:11.365696Z"
    },
    "title": "codecell"
   },
   "outputs": [
    {
     "data": {
      "text/latex": [
       "$\\displaystyle \\lambda{\\left(\\sigma_{apply}{\\left(y{\\left(X^{T},W^{T} \\right)} \\right)} \\right)}$"
      ],
      "text/plain": [
       "lambda(sigma_apply(y(X.T, W.T)))"
      ]
     },
     "execution_count": 1,
     "metadata": {},
     "output_type": "execute_result"
    }
   ],
   "source": [
    "# TODO next step: to apply the sigma to get that applied functor expression but here get error saying bol object not callable ...??\n",
    "Ly.replace(A,A.T).replace(B,B.T)#.replace(sigmaApply, sigmaApply_)"
   ]
  },
  {
   "cell_type": "code",
   "execution_count": 126,
   "metadata": {
    "execution": {
     "iopub.execute_input": "2020-09-24T18:25:11.370756Z",
     "iopub.status.busy": "2020-09-24T18:25:11.369315Z",
     "iopub.status.idle": "2020-09-24T18:25:11.374813Z",
     "shell.execute_reply": "2020-09-24T18:25:11.375985Z"
    },
    "lines_to_next_cell": 0,
    "title": "codecell"
   },
   "outputs": [],
   "source": [
    "# TODO always get fatal python error here, as if it can't deal with two matrix args!!\n",
    "#Ly.replace(A,A.T).replace(B,B.T).diff(A)\n",
    "\n",
    "#siga2 = Lambda(a, siga(a))"
   ]
  },
  {
   "cell_type": "code",
   "execution_count": 127,
   "metadata": {
    "execution": {
     "iopub.execute_input": "2020-09-24T18:25:11.381025Z",
     "iopub.status.busy": "2020-09-24T18:25:11.379404Z",
     "iopub.status.idle": "2020-09-24T18:25:11.413515Z",
     "shell.execute_reply": "2020-09-24T18:25:11.414614Z"
    },
    "lines_to_next_cell": 0,
    "title": "codecell"
   },
   "outputs": [
    {
     "data": {
      "text/latex": [
       "$\\displaystyle \\frac{\\partial}{\\partial \\sigma_{apply}{\\left(y{\\left(X^{T},b \\right)} \\right)}} \\lambda{\\left(\\sigma_{apply}{\\left(y{\\left(X^{T},b \\right)} \\right)} \\right)} \\frac{\\partial}{\\partial y{\\left(X^{T},b \\right)}} \\sigma_{apply}{\\left(y{\\left(X^{T},b \\right)} \\right)} \\left(\\frac{\\partial}{\\partial b} y{\\left(X^{T},b \\right)} + \\mathbb{0}\\right)$"
      ],
      "text/plain": [
       "Derivative(lambda(sigma_apply(y(X.T, b))), sigma_apply(y(X.T, b)))*Derivative(sigma_apply(y(X.T, b)), y(X.T, b))*(Derivative(y(X.T, b), b) + 0)"
      ]
     },
     "execution_count": 1,
     "metadata": {},
     "output_type": "execute_result"
    }
   ],
   "source": [
    "Ly.replace(A, A.T).replace(B, b).diff(b)#.replace(sigmaApply, siga)"
   ]
  },
  {
   "cell_type": "code",
   "execution_count": 128,
   "metadata": {
    "execution": {
     "iopub.execute_input": "2020-09-24T18:25:11.419704Z",
     "iopub.status.busy": "2020-09-24T18:25:11.418152Z",
     "iopub.status.idle": "2020-09-24T18:25:11.472842Z",
     "shell.execute_reply": "2020-09-24T18:25:11.473926Z"
    },
    "lines_to_next_cell": 0,
    "title": "codecell"
   },
   "outputs": [
    {
     "data": {
      "text/latex": [
       "$\\displaystyle \\lambda{\\left(\\left[\\begin{matrix}\\sigma{\\left(\\operatorname{n_{11}}{\\left(X,W \\right)} \\right)} & \\sigma{\\left(\\operatorname{n_{12}}{\\left(X,W \\right)} \\right)}\\\\\\sigma{\\left(\\operatorname{n_{21}}{\\left(X,W \\right)} \\right)} & \\sigma{\\left(\\operatorname{n_{22}}{\\left(X,W \\right)} \\right)}\\\\\\sigma{\\left(\\operatorname{n_{31}}{\\left(X,W \\right)} \\right)} & \\sigma{\\left(\\operatorname{n_{32}}{\\left(X,W \\right)} \\right)}\\end{matrix}\\right] \\right)}$"
      ],
      "text/plain": [
       "lambda(Matrix([\n",
       "[sigma(n_11(X, W)), sigma(n_12(X, W))],\n",
       "[sigma(n_21(X, W)), sigma(n_22(X, W))],\n",
       "[sigma(n_31(X, W)), sigma(n_32(X, W))]]))"
      ]
     },
     "execution_count": 1,
     "metadata": {},
     "output_type": "execute_result"
    }
   ],
   "source": [
    "L.replace(n, vN).replace(sigmaApply, sigmaApply_).subs(elemToMatArgD)"
   ]
  },
  {
   "cell_type": "code",
   "execution_count": 129,
   "metadata": {
    "execution": {
     "iopub.execute_input": "2020-09-24T18:25:11.479020Z",
     "iopub.status.busy": "2020-09-24T18:25:11.477485Z",
     "iopub.status.idle": "2020-09-24T18:25:11.659700Z",
     "shell.execute_reply": "2020-09-24T18:25:11.660805Z"
    },
    "lines_to_next_cell": 0,
    "title": "codecell"
   },
   "outputs": [
    {
     "data": {
      "text/latex": [
       "$\\displaystyle \\left[\\begin{matrix}\\left[\\begin{matrix}\\frac{\\partial}{\\partial \\operatorname{n_{11}}{\\left(X,W \\right)}} \\sigma{\\left(\\operatorname{n_{11}}{\\left(X,W \\right)} \\right)} \\frac{\\partial}{\\partial \\left[\\begin{matrix}\\sigma{\\left(\\operatorname{n_{11}}{\\left(X,W \\right)} \\right)} & \\sigma{\\left(\\operatorname{n_{12}}{\\left(X,W \\right)} \\right)}\\\\\\sigma{\\left(\\operatorname{n_{21}}{\\left(X,W \\right)} \\right)} & \\sigma{\\left(\\operatorname{n_{22}}{\\left(X,W \\right)} \\right)}\\\\\\sigma{\\left(\\operatorname{n_{31}}{\\left(X,W \\right)} \\right)} & \\sigma{\\left(\\operatorname{n_{32}}{\\left(X,W \\right)} \\right)}\\end{matrix}\\right]} \\lambda{\\left(\\left[\\begin{matrix}\\sigma{\\left(\\operatorname{n_{11}}{\\left(X,W \\right)} \\right)} & \\sigma{\\left(\\operatorname{n_{12}}{\\left(X,W \\right)} \\right)}\\\\\\sigma{\\left(\\operatorname{n_{21}}{\\left(X,W \\right)} \\right)} & \\sigma{\\left(\\operatorname{n_{22}}{\\left(X,W \\right)} \\right)}\\\\\\sigma{\\left(\\operatorname{n_{31}}{\\left(X,W \\right)} \\right)} & \\sigma{\\left(\\operatorname{n_{32}}{\\left(X,W \\right)} \\right)}\\end{matrix}\\right] \\right)} & 0\\\\0 & 0\\\\0 & 0\\end{matrix}\\right] & \\left[\\begin{matrix}0 & \\frac{\\partial}{\\partial \\operatorname{n_{12}}{\\left(X,W \\right)}} \\sigma{\\left(\\operatorname{n_{12}}{\\left(X,W \\right)} \\right)} \\frac{\\partial}{\\partial \\left[\\begin{matrix}\\sigma{\\left(\\operatorname{n_{11}}{\\left(X,W \\right)} \\right)} & \\sigma{\\left(\\operatorname{n_{12}}{\\left(X,W \\right)} \\right)}\\\\\\sigma{\\left(\\operatorname{n_{21}}{\\left(X,W \\right)} \\right)} & \\sigma{\\left(\\operatorname{n_{22}}{\\left(X,W \\right)} \\right)}\\\\\\sigma{\\left(\\operatorname{n_{31}}{\\left(X,W \\right)} \\right)} & \\sigma{\\left(\\operatorname{n_{32}}{\\left(X,W \\right)} \\right)}\\end{matrix}\\right]} \\lambda{\\left(\\left[\\begin{matrix}\\sigma{\\left(\\operatorname{n_{11}}{\\left(X,W \\right)} \\right)} & \\sigma{\\left(\\operatorname{n_{12}}{\\left(X,W \\right)} \\right)}\\\\\\sigma{\\left(\\operatorname{n_{21}}{\\left(X,W \\right)} \\right)} & \\sigma{\\left(\\operatorname{n_{22}}{\\left(X,W \\right)} \\right)}\\\\\\sigma{\\left(\\operatorname{n_{31}}{\\left(X,W \\right)} \\right)} & \\sigma{\\left(\\operatorname{n_{32}}{\\left(X,W \\right)} \\right)}\\end{matrix}\\right] \\right)}\\\\0 & 0\\\\0 & 0\\end{matrix}\\right]\\\\\\left[\\begin{matrix}0 & 0\\\\\\frac{\\partial}{\\partial \\operatorname{n_{21}}{\\left(X,W \\right)}} \\sigma{\\left(\\operatorname{n_{21}}{\\left(X,W \\right)} \\right)} \\frac{\\partial}{\\partial \\left[\\begin{matrix}\\sigma{\\left(\\operatorname{n_{11}}{\\left(X,W \\right)} \\right)} & \\sigma{\\left(\\operatorname{n_{12}}{\\left(X,W \\right)} \\right)}\\\\\\sigma{\\left(\\operatorname{n_{21}}{\\left(X,W \\right)} \\right)} & \\sigma{\\left(\\operatorname{n_{22}}{\\left(X,W \\right)} \\right)}\\\\\\sigma{\\left(\\operatorname{n_{31}}{\\left(X,W \\right)} \\right)} & \\sigma{\\left(\\operatorname{n_{32}}{\\left(X,W \\right)} \\right)}\\end{matrix}\\right]} \\lambda{\\left(\\left[\\begin{matrix}\\sigma{\\left(\\operatorname{n_{11}}{\\left(X,W \\right)} \\right)} & \\sigma{\\left(\\operatorname{n_{12}}{\\left(X,W \\right)} \\right)}\\\\\\sigma{\\left(\\operatorname{n_{21}}{\\left(X,W \\right)} \\right)} & \\sigma{\\left(\\operatorname{n_{22}}{\\left(X,W \\right)} \\right)}\\\\\\sigma{\\left(\\operatorname{n_{31}}{\\left(X,W \\right)} \\right)} & \\sigma{\\left(\\operatorname{n_{32}}{\\left(X,W \\right)} \\right)}\\end{matrix}\\right] \\right)} & 0\\\\0 & 0\\end{matrix}\\right] & \\left[\\begin{matrix}0 & 0\\\\0 & \\frac{\\partial}{\\partial \\operatorname{n_{22}}{\\left(X,W \\right)}} \\sigma{\\left(\\operatorname{n_{22}}{\\left(X,W \\right)} \\right)} \\frac{\\partial}{\\partial \\left[\\begin{matrix}\\sigma{\\left(\\operatorname{n_{11}}{\\left(X,W \\right)} \\right)} & \\sigma{\\left(\\operatorname{n_{12}}{\\left(X,W \\right)} \\right)}\\\\\\sigma{\\left(\\operatorname{n_{21}}{\\left(X,W \\right)} \\right)} & \\sigma{\\left(\\operatorname{n_{22}}{\\left(X,W \\right)} \\right)}\\\\\\sigma{\\left(\\operatorname{n_{31}}{\\left(X,W \\right)} \\right)} & \\sigma{\\left(\\operatorname{n_{32}}{\\left(X,W \\right)} \\right)}\\end{matrix}\\right]} \\lambda{\\left(\\left[\\begin{matrix}\\sigma{\\left(\\operatorname{n_{11}}{\\left(X,W \\right)} \\right)} & \\sigma{\\left(\\operatorname{n_{12}}{\\left(X,W \\right)} \\right)}\\\\\\sigma{\\left(\\operatorname{n_{21}}{\\left(X,W \\right)} \\right)} & \\sigma{\\left(\\operatorname{n_{22}}{\\left(X,W \\right)} \\right)}\\\\\\sigma{\\left(\\operatorname{n_{31}}{\\left(X,W \\right)} \\right)} & \\sigma{\\left(\\operatorname{n_{32}}{\\left(X,W \\right)} \\right)}\\end{matrix}\\right] \\right)}\\\\0 & 0\\end{matrix}\\right]\\\\\\left[\\begin{matrix}0 & 0\\\\0 & 0\\\\\\frac{\\partial}{\\partial \\operatorname{n_{31}}{\\left(X,W \\right)}} \\sigma{\\left(\\operatorname{n_{31}}{\\left(X,W \\right)} \\right)} \\frac{\\partial}{\\partial \\left[\\begin{matrix}\\sigma{\\left(\\operatorname{n_{11}}{\\left(X,W \\right)} \\right)} & \\sigma{\\left(\\operatorname{n_{12}}{\\left(X,W \\right)} \\right)}\\\\\\sigma{\\left(\\operatorname{n_{21}}{\\left(X,W \\right)} \\right)} & \\sigma{\\left(\\operatorname{n_{22}}{\\left(X,W \\right)} \\right)}\\\\\\sigma{\\left(\\operatorname{n_{31}}{\\left(X,W \\right)} \\right)} & \\sigma{\\left(\\operatorname{n_{32}}{\\left(X,W \\right)} \\right)}\\end{matrix}\\right]} \\lambda{\\left(\\left[\\begin{matrix}\\sigma{\\left(\\operatorname{n_{11}}{\\left(X,W \\right)} \\right)} & \\sigma{\\left(\\operatorname{n_{12}}{\\left(X,W \\right)} \\right)}\\\\\\sigma{\\left(\\operatorname{n_{21}}{\\left(X,W \\right)} \\right)} & \\sigma{\\left(\\operatorname{n_{22}}{\\left(X,W \\right)} \\right)}\\\\\\sigma{\\left(\\operatorname{n_{31}}{\\left(X,W \\right)} \\right)} & \\sigma{\\left(\\operatorname{n_{32}}{\\left(X,W \\right)} \\right)}\\end{matrix}\\right] \\right)} & 0\\end{matrix}\\right] & \\left[\\begin{matrix}0 & 0\\\\0 & 0\\\\0 & \\frac{\\partial}{\\partial \\operatorname{n_{32}}{\\left(X,W \\right)}} \\sigma{\\left(\\operatorname{n_{32}}{\\left(X,W \\right)} \\right)} \\frac{\\partial}{\\partial \\left[\\begin{matrix}\\sigma{\\left(\\operatorname{n_{11}}{\\left(X,W \\right)} \\right)} & \\sigma{\\left(\\operatorname{n_{12}}{\\left(X,W \\right)} \\right)}\\\\\\sigma{\\left(\\operatorname{n_{21}}{\\left(X,W \\right)} \\right)} & \\sigma{\\left(\\operatorname{n_{22}}{\\left(X,W \\right)} \\right)}\\\\\\sigma{\\left(\\operatorname{n_{31}}{\\left(X,W \\right)} \\right)} & \\sigma{\\left(\\operatorname{n_{32}}{\\left(X,W \\right)} \\right)}\\end{matrix}\\right]} \\lambda{\\left(\\left[\\begin{matrix}\\sigma{\\left(\\operatorname{n_{11}}{\\left(X,W \\right)} \\right)} & \\sigma{\\left(\\operatorname{n_{12}}{\\left(X,W \\right)} \\right)}\\\\\\sigma{\\left(\\operatorname{n_{21}}{\\left(X,W \\right)} \\right)} & \\sigma{\\left(\\operatorname{n_{22}}{\\left(X,W \\right)} \\right)}\\\\\\sigma{\\left(\\operatorname{n_{31}}{\\left(X,W \\right)} \\right)} & \\sigma{\\left(\\operatorname{n_{32}}{\\left(X,W \\right)} \\right)}\\end{matrix}\\right] \\right)}\\end{matrix}\\right]\\end{matrix}\\right]$"
      ],
      "text/plain": [
       "Matrix([\n",
       "[Matrix([\n",
       "[Derivative(sigma(n_11(X, W)), n_11(X, W))*Derivative(lambda(Matrix([\n",
       "[sigma(n_11(X, W)), sigma(n_12(X, W))],\n",
       "[sigma(n_21(X, W)), sigma(n_22(X, W))],\n",
       "[sigma(n_31(X, W)), sigma(n_32(X, W))]])), Matrix([\n",
       "[sigma(n_11(X, W)), sigma(n_12(X, W))],\n",
       "[sigma(n_21(X, W)), sigma(n_22(X, W))],\n",
       "[sigma(n_31(X, W)), sigma(n_32(X, W))]])), 0],\n",
       "[                                                                                                                                                                                                                                                                                                                                 0, 0],\n",
       "[                                                                                                                                                                                                                                                                                                                                 0, 0]]), Matrix([\n",
       "[0, Derivative(sigma(n_12(X, W)), n_12(X, W))*Derivative(lambda(Matrix([\n",
       "[sigma(n_11(X, W)), sigma(n_12(X, W))],\n",
       "[sigma(n_21(X, W)), sigma(n_22(X, W))],\n",
       "[sigma(n_31(X, W)), sigma(n_32(X, W))]])), Matrix([\n",
       "[sigma(n_11(X, W)), sigma(n_12(X, W))],\n",
       "[sigma(n_21(X, W)), sigma(n_22(X, W))],\n",
       "[sigma(n_31(X, W)), sigma(n_32(X, W))]]))],\n",
       "[0,                                                                                                                                                                                                                                                                                                                                  0],\n",
       "[0,                                                                                                                                                                                                                                                                                                                                  0]])],\n",
       "[Matrix([\n",
       "[                                                                                                                                                                                                                                                                                                                                 0, 0],\n",
       "[Derivative(sigma(n_21(X, W)), n_21(X, W))*Derivative(lambda(Matrix([\n",
       "[sigma(n_11(X, W)), sigma(n_12(X, W))],\n",
       "[sigma(n_21(X, W)), sigma(n_22(X, W))],\n",
       "[sigma(n_31(X, W)), sigma(n_32(X, W))]])), Matrix([\n",
       "[sigma(n_11(X, W)), sigma(n_12(X, W))],\n",
       "[sigma(n_21(X, W)), sigma(n_22(X, W))],\n",
       "[sigma(n_31(X, W)), sigma(n_32(X, W))]])), 0],\n",
       "[                                                                                                                                                                                                                                                                                                                                 0, 0]]), Matrix([\n",
       "[0,                                                                                                                                                                                                                                                                                                                                  0],\n",
       "[0, Derivative(sigma(n_22(X, W)), n_22(X, W))*Derivative(lambda(Matrix([\n",
       "[sigma(n_11(X, W)), sigma(n_12(X, W))],\n",
       "[sigma(n_21(X, W)), sigma(n_22(X, W))],\n",
       "[sigma(n_31(X, W)), sigma(n_32(X, W))]])), Matrix([\n",
       "[sigma(n_11(X, W)), sigma(n_12(X, W))],\n",
       "[sigma(n_21(X, W)), sigma(n_22(X, W))],\n",
       "[sigma(n_31(X, W)), sigma(n_32(X, W))]]))],\n",
       "[0,                                                                                                                                                                                                                                                                                                                                  0]])],\n",
       "[Matrix([\n",
       "[                                                                                                                                                                                                                                                                                                                                 0, 0],\n",
       "[                                                                                                                                                                                                                                                                                                                                 0, 0],\n",
       "[Derivative(sigma(n_31(X, W)), n_31(X, W))*Derivative(lambda(Matrix([\n",
       "[sigma(n_11(X, W)), sigma(n_12(X, W))],\n",
       "[sigma(n_21(X, W)), sigma(n_22(X, W))],\n",
       "[sigma(n_31(X, W)), sigma(n_32(X, W))]])), Matrix([\n",
       "[sigma(n_11(X, W)), sigma(n_12(X, W))],\n",
       "[sigma(n_21(X, W)), sigma(n_22(X, W))],\n",
       "[sigma(n_31(X, W)), sigma(n_32(X, W))]])), 0]]), Matrix([\n",
       "[0,                                                                                                                                                                                                                                                                                                                                  0],\n",
       "[0,                                                                                                                                                                                                                                                                                                                                  0],\n",
       "[0, Derivative(sigma(n_32(X, W)), n_32(X, W))*Derivative(lambda(Matrix([\n",
       "[sigma(n_11(X, W)), sigma(n_12(X, W))],\n",
       "[sigma(n_21(X, W)), sigma(n_22(X, W))],\n",
       "[sigma(n_31(X, W)), sigma(n_32(X, W))]])), Matrix([\n",
       "[sigma(n_11(X, W)), sigma(n_12(X, W))],\n",
       "[sigma(n_21(X, W)), sigma(n_22(X, W))],\n",
       "[sigma(n_31(X, W)), sigma(n_32(X, W))]]))]])]])"
      ]
     },
     "execution_count": 1,
     "metadata": {},
     "output_type": "execute_result"
    }
   ],
   "source": [
    "#L.replace(n, vN).replace(sigmaApply, sigmaApply_).subs(elemToMatArgD).diff(A)## ERROR: max recursion depth eceeded\n",
    "\n",
    "L.replace(n, vN).replace(sigmaApply, sigmaApply_).subs(elemToMatArgD).diff(Matrix(3,2,list(elemToMatArgD.values())))"
   ]
  },
  {
   "cell_type": "code",
   "execution_count": 130,
   "metadata": {
    "execution": {
     "iopub.execute_input": "2020-09-24T18:25:11.668250Z",
     "iopub.status.busy": "2020-09-24T18:25:11.664265Z",
     "iopub.status.idle": "2020-09-24T18:25:11.674311Z",
     "shell.execute_reply": "2020-09-24T18:25:11.675422Z"
    },
    "lines_to_next_cell": 0,
    "title": "codecell"
   },
   "outputs": [
    {
     "data": {
      "text/latex": [
       "$\\displaystyle {\\left( d \\mapsto \\sigma{\\left(d \\right)} \\right)}_{\\circ}\\left({X}\\right)$"
      ],
      "text/plain": [
       "Lambda(_d, sigma(_d)).(X)"
      ]
     },
     "execution_count": 1,
     "metadata": {},
     "output_type": "execute_result"
    }
   ],
   "source": [
    "A.applyfunc(sigma)"
   ]
  },
  {
   "cell_type": "code",
   "execution_count": 131,
   "metadata": {
    "execution": {
     "iopub.execute_input": "2020-09-24T18:25:11.680416Z",
     "iopub.status.busy": "2020-09-24T18:25:11.678884Z",
     "iopub.status.idle": "2020-09-24T18:25:11.685667Z",
     "shell.execute_reply": "2020-09-24T18:25:11.686791Z"
    },
    "lines_to_next_cell": 0,
    "title": "codecell"
   },
   "outputs": [],
   "source": [
    "sigma = Function(\"sigma\", applyfunc=True, bool=False)"
   ]
  },
  {
   "cell_type": "code",
   "execution_count": 132,
   "metadata": {
    "execution": {
     "iopub.execute_input": "2020-09-24T18:25:11.691614Z",
     "iopub.status.busy": "2020-09-24T18:25:11.690132Z",
     "iopub.status.idle": "2020-09-24T18:25:11.700584Z",
     "shell.execute_reply": "2020-09-24T18:25:11.702519Z"
    },
    "lines_to_next_cell": 0,
    "title": "codecell"
   },
   "outputs": [
    {
     "data": {
      "text/plain": [
       "mappingproxy({'applyfunc': True,\n",
       "              'bool': False,\n",
       "              '_kwargs': {'applyfunc': True, 'bool': False},\n",
       "              '__module__': None,\n",
       "              '__doc__': None,\n",
       "              'name': 'sigma',\n",
       "              '_sage_': <sympy.core.function.UndefSageHelper at 0x7f52b8568e50>,\n",
       "              '_nargs': None,\n",
       "              '__sympy__': <property at 0x7f52a2dc6050>,\n",
       "              '_explicit_class_assumptions': {},\n",
       "              'default_assumptions': {},\n",
       "              '_prop_handler': {'negative': <function sympy.core.expr.Expr._eval_is_negative(self)>,\n",
       "               'positive': <function sympy.core.expr.Expr._eval_is_positive(self)>,\n",
       "               'commutative': <function sympy.core.function.Function._eval_is_commutative(self)>,\n",
       "               'extended_positive': <function sympy.core.expr.Expr._eval_is_extended_positive(self)>,\n",
       "               'extended_negative': <function sympy.core.expr.Expr._eval_is_extended_negative(self)>}})"
      ]
     },
     "execution_count": 1,
     "metadata": {},
     "output_type": "execute_result"
    }
   ],
   "source": [
    "sigma.__dict__"
   ]
  },
  {
   "cell_type": "code",
   "execution_count": 133,
   "metadata": {
    "execution": {
     "iopub.execute_input": "2020-09-24T18:25:11.707675Z",
     "iopub.status.busy": "2020-09-24T18:25:11.706144Z",
     "iopub.status.idle": "2020-09-24T18:25:11.717219Z",
     "shell.execute_reply": "2020-09-24T18:25:11.718375Z"
    },
    "lines_to_next_cell": 0,
    "title": "codecell"
   },
   "outputs": [
    {
     "data": {
      "text/latex": [
       "$\\displaystyle \\lambda{\\left(\\sigma_{apply}{\\left(y{\\left(X,W \\right)} \\right)} \\right)}$"
      ],
      "text/plain": [
       "lambda(sigma_apply(y(X, W)))"
      ]
     },
     "execution_count": 1,
     "metadata": {},
     "output_type": "execute_result"
    }
   ],
   "source": [
    "Ly = lambd(sigmaApply(y(A,B))); Ly"
   ]
  },
  {
   "cell_type": "code",
   "execution_count": 134,
   "metadata": {
    "execution": {
     "iopub.execute_input": "2020-09-24T18:25:11.723104Z",
     "iopub.status.busy": "2020-09-24T18:25:11.721616Z",
     "iopub.status.idle": "2020-09-24T18:25:11.750423Z",
     "shell.execute_reply": "2020-09-24T18:25:11.751532Z"
    },
    "lines_to_next_cell": 0,
    "title": "codecell"
   },
   "outputs": [
    {
     "data": {
      "text/latex": [
       "$\\displaystyle \\left[\\begin{matrix}\\sigma{\\left(w_{11} x_{11} + w_{21} x_{12} + w_{31} x_{13} \\right)} & \\sigma{\\left(w_{12} x_{11} + w_{22} x_{12} + w_{32} x_{13} \\right)}\\\\\\sigma{\\left(w_{11} x_{21} + w_{21} x_{22} + w_{31} x_{23} \\right)} & \\sigma{\\left(w_{12} x_{21} + w_{22} x_{22} + w_{32} x_{23} \\right)}\\\\\\sigma{\\left(w_{11} x_{31} + w_{21} x_{32} + w_{31} x_{33} \\right)} & \\sigma{\\left(w_{12} x_{31} + w_{22} x_{32} + w_{32} x_{33} \\right)}\\end{matrix}\\right]$"
      ],
      "text/plain": [
       "Matrix([\n",
       "[sigma(w_11*x_11 + w_21*x_12 + w_31*x_13), sigma(w_12*x_11 + w_22*x_12 + w_32*x_13)],\n",
       "[sigma(w_11*x_21 + w_21*x_22 + w_31*x_23), sigma(w_12*x_21 + w_22*x_22 + w_32*x_23)],\n",
       "[sigma(w_11*x_31 + w_21*x_32 + w_31*x_33), sigma(w_12*x_31 + w_22*x_32 + w_32*x_33)]])"
      ]
     },
     "execution_count": 1,
     "metadata": {},
     "output_type": "execute_result"
    }
   ],
   "source": [
    "(X*W).applyfunc(sigma)"
   ]
  },
  {
   "cell_type": "code",
   "execution_count": 135,
   "metadata": {
    "execution": {
     "iopub.execute_input": "2020-09-24T18:25:11.756483Z",
     "iopub.status.busy": "2020-09-24T18:25:11.754965Z",
     "iopub.status.idle": "2020-09-24T18:25:11.766135Z",
     "shell.execute_reply": "2020-09-24T18:25:11.767346Z"
    },
    "lines_to_next_cell": 0,
    "title": "codecell"
   },
   "outputs": [
    {
     "data": {
      "text/latex": [
       "$\\displaystyle {\\left( d \\mapsto \\sigma{\\left(d \\right)} \\right)}_{\\circ}\\left({X W}\\right)$"
      ],
      "text/plain": [
       "Lambda(_d, sigma(_d)).(X*W)"
      ]
     },
     "execution_count": 1,
     "metadata": {},
     "output_type": "execute_result"
    }
   ],
   "source": [
    "(A*B).applyfunc(sigma)"
   ]
  },
  {
   "cell_type": "code",
   "execution_count": 136,
   "metadata": {
    "execution": {
     "iopub.execute_input": "2020-09-24T18:25:11.772574Z",
     "iopub.status.busy": "2020-09-24T18:25:11.771020Z",
     "iopub.status.idle": "2020-09-24T18:25:11.786983Z",
     "shell.execute_reply": "2020-09-24T18:25:11.788086Z"
    },
    "lines_to_next_cell": 0,
    "title": "codecell"
   },
   "outputs": [
    {
     "data": {
      "text/latex": [
       "$\\displaystyle \\left[\\begin{matrix}\\sigma{\\left(X_{0, 0} \\right)} & \\sigma{\\left(X_{0, 1} \\right)} & \\sigma{\\left(X_{0, 2} \\right)}\\\\\\sigma{\\left(X_{1, 0} \\right)} & \\sigma{\\left(X_{1, 1} \\right)} & \\sigma{\\left(X_{1, 2} \\right)}\\\\\\sigma{\\left(X_{2, 0} \\right)} & \\sigma{\\left(X_{2, 1} \\right)} & \\sigma{\\left(X_{2, 2} \\right)}\\end{matrix}\\right]$"
      ],
      "text/plain": [
       "Matrix([\n",
       "[sigma(X[0, 0]), sigma(X[0, 1]), sigma(X[0, 2])],\n",
       "[sigma(X[1, 0]), sigma(X[1, 1]), sigma(X[1, 2])],\n",
       "[sigma(X[2, 0]), sigma(X[2, 1]), sigma(X[2, 2])]])"
      ]
     },
     "execution_count": 1,
     "metadata": {},
     "output_type": "execute_result"
    }
   ],
   "source": [
    "siga(A)\n",
    "#A.applyfunc(siga) ### ERROR dumy object has no attribute shape"
   ]
  },
  {
   "cell_type": "code",
   "execution_count": 137,
   "metadata": {
    "execution": {
     "iopub.execute_input": "2020-09-24T18:25:11.793343Z",
     "iopub.status.busy": "2020-09-24T18:25:11.791765Z",
     "iopub.status.idle": "2020-09-24T18:25:11.802532Z",
     "shell.execute_reply": "2020-09-24T18:25:11.803671Z"
    },
    "lines_to_next_cell": 0,
    "title": "codecell"
   },
   "outputs": [
    {
     "data": {
      "text/plain": [
       "(3, 3)"
      ]
     },
     "execution_count": 1,
     "metadata": {},
     "output_type": "execute_result"
    }
   ],
   "source": [
    "y = Function(\"y\", applyfunc = True, bool=False, shape=(3,3))\n",
    "y.shape"
   ]
  },
  {
   "cell_type": "code",
   "execution_count": 138,
   "metadata": {
    "execution": {
     "iopub.execute_input": "2020-09-24T18:25:11.810133Z",
     "iopub.status.busy": "2020-09-24T18:25:11.808592Z",
     "iopub.status.idle": "2020-09-24T18:25:11.818790Z",
     "shell.execute_reply": "2020-09-24T18:25:11.820524Z"
    },
    "lines_to_next_cell": 0,
    "title": "codecell"
   },
   "outputs": [],
   "source": [
    "# siga(y(A,B))### ERROR: function y is not subscriptable"
   ]
  },
  {
   "cell_type": "code",
   "execution_count": 139,
   "metadata": {
    "lines_to_next_cell": 0,
    "title": "codecell"
   },
   "outputs": [],
   "source": []
  },
  {
   "cell_type": "code",
   "execution_count": 139,
   "metadata": {
    "lines_to_next_cell": 0,
    "title": "codecell"
   },
   "outputs": [],
   "source": []
  },
  {
   "cell_type": "code",
   "execution_count": 139,
   "metadata": {
    "lines_to_next_cell": 0,
    "title": "codecell"
   },
   "outputs": [],
   "source": []
  },
  {
   "cell_type": "code",
   "execution_count": 139,
   "metadata": {
    "lines_to_next_cell": 0,
    "title": "codecell"
   },
   "outputs": [],
   "source": []
  },
  {
   "cell_type": "code",
   "execution_count": 139,
   "metadata": {
    "execution": {
     "iopub.execute_input": "2020-09-24T18:25:11.828888Z",
     "iopub.status.busy": "2020-09-24T18:25:11.824965Z",
     "iopub.status.idle": "2020-09-24T18:25:11.860394Z",
     "shell.execute_reply": "2020-09-24T18:25:11.861515Z"
    },
    "lines_to_next_cell": 0,
    "title": "codecell"
   },
   "outputs": [
    {
     "data": {
      "text/latex": [
       "$\\displaystyle \\frac{\\partial}{\\partial \\sigma_{apply}{\\left(y{\\left(X,W \\right)} \\right)}} \\lambda{\\left(\\sigma_{apply}{\\left(y{\\left(X,W \\right)} \\right)} \\right)} \\frac{\\partial}{\\partial y{\\left(X,W \\right)}} \\sigma_{apply}{\\left(y{\\left(X,W \\right)} \\right)} \\frac{\\partial}{\\partial W} y{\\left(X,W \\right)}$"
      ],
      "text/plain": [
       "Derivative(lambda(sigma_apply(y(X, W))), sigma_apply(y(X, W)))*Derivative(sigma_apply(y(X, W)), y(X, W))*Derivative(y(X, W), W)"
      ]
     },
     "execution_count": 1,
     "metadata": {},
     "output_type": "execute_result"
    }
   ],
   "source": [
    "Ly.subs({A:a,B:b}).diff(b).subs({a:A, b:B})#.replace(sigmaApply, sigmaApply_)"
   ]
  },
  {
   "cell_type": "code",
   "execution_count": 140,
   "metadata": {
    "execution": {
     "iopub.execute_input": "2020-09-24T18:25:11.868991Z",
     "iopub.status.busy": "2020-09-24T18:25:11.866785Z",
     "iopub.status.idle": "2020-09-24T18:25:11.903785Z",
     "shell.execute_reply": "2020-09-24T18:25:11.904936Z"
    },
    "lines_to_next_cell": 0,
    "title": "codecell"
   },
   "outputs": [
    {
     "data": {
      "text/latex": [
       "$\\displaystyle \\frac{\\partial}{\\partial \\sigma_{apply}{\\left(v{\\left(X,W \\right)} \\right)}} \\lambda{\\left(\\sigma_{apply}{\\left(v{\\left(X,W \\right)} \\right)} \\right)} \\frac{\\partial}{\\partial v{\\left(X,W \\right)}} \\sigma_{apply}{\\left(v{\\left(X,W \\right)} \\right)} \\frac{\\partial}{\\partial W} v{\\left(X,W \\right)}$"
      ],
      "text/plain": [
       "Derivative(lambda(sigma_apply(v(X, W))), sigma_apply(v(X, W)))*Derivative(sigma_apply(v(X, W)), v(X, W))*Derivative(v(X, W), W)"
      ]
     },
     "execution_count": 1,
     "metadata": {},
     "output_type": "execute_result"
    }
   ],
   "source": [
    "L.replace(A,a).replace(B,b).diff(b).subs({a:A,b:B})#.replace(sigmaApply, sigmaApply_)#.diff(b)"
   ]
  },
  {
   "cell_type": "code",
   "execution_count": 141,
   "metadata": {
    "execution": {
     "iopub.execute_input": "2020-09-24T18:25:11.909912Z",
     "iopub.status.busy": "2020-09-24T18:25:11.908390Z",
     "iopub.status.idle": "2020-09-24T18:25:12.025881Z",
     "shell.execute_reply": "2020-09-24T18:25:12.027268Z"
    },
    "title": "codecell"
   },
   "outputs": [
    {
     "data": {
      "text/latex": [
       "$\\displaystyle \\left. \\frac{d}{d \\xi_{1}} \\lambda{\\left(\\xi_{1} \\right)} \\right|_{\\substack{ \\xi_{1}={\\left( d \\mapsto \\sigma{\\left(d \\right)} \\right)}_{\\circ}\\left({X W}\\right) }} {\\left( d \\mapsto \\frac{d}{d d} \\sigma{\\left(d \\right)} \\right)}_{\\circ}\\left({X W}\\right) W^{T}$"
      ],
      "text/plain": [
       "Subs(Derivative(lambda(_xi_1), _xi_1), _xi_1, Lambda(_d, sigma(_d)).(X*W))*Lambda(_d, Derivative(sigma(_d), _d)).(X*W)*W.T"
      ]
     },
     "execution_count": 1,
     "metadata": {},
     "output_type": "execute_result"
    }
   ],
   "source": [
    "sigma = Function(\"sigma\", applyfunc=True, real=True)\n",
    "sigmaApply_ = lambda mat: mat.applyfunc(sigma)\n",
    "L = lambd(sigmaApply(n(A,B)))\n",
    "\n",
    "#L.replace(A,a).replace(B,b).diff(b).subs({a:A,b:B}).replace(sigmaApply, sigmaApply_)\n",
    "L.replace(n, v).replace(sigmaApply, sigmaApply_).diff(A)\n",
    "#m = Symbol(\"m\", shape=(3,2))\n",
    "#m.shape\n",
    "\n",
    "#sigmaApply_3 = Lambda(m, siga(m))\n",
    "\n",
    "#L.replace(A,a).replace(B,b).diff(b).replace(b,B).replace(a,A).subs({n:vL}).replace(sigmaApply, sigmaApply_2) ### ERROR: Dummy object has no attribute shape"
   ]
  },
  {
   "cell_type": "code",
   "execution_count": 142,
   "metadata": {
    "execution": {
     "iopub.execute_input": "2020-09-24T18:25:12.032283Z",
     "iopub.status.busy": "2020-09-24T18:25:12.030696Z",
     "iopub.status.idle": "2020-09-24T18:25:12.075000Z",
     "shell.execute_reply": "2020-09-24T18:25:12.073838Z"
    },
    "lines_to_next_cell": 0,
    "title": "codecell"
   },
   "outputs": [
    {
     "data": {
      "text/latex": [
       "$\\displaystyle \\frac{\\partial}{\\partial \\sigma_{apply}{\\left(y{\\left(X,W \\right)} \\right)}} \\lambda{\\left(\\sigma_{apply}{\\left(y{\\left(X,W \\right)} \\right)} \\right)} \\frac{\\partial}{\\partial y{\\left(X,W \\right)}} \\sigma_{apply}{\\left(y{\\left(X,W \\right)} \\right)} \\left(\\frac{\\partial}{\\partial W} y{\\left(X,W \\right)} + \\mathbb{0}\\right)$"
      ],
      "text/plain": [
       "Derivative(lambda(sigma_apply(y(X, W))), sigma_apply(y(X, W)))*Derivative(sigma_apply(y(X, W)), y(X, W))*(Derivative(y(X, W), W) + 0)"
      ]
     },
     "execution_count": 1,
     "metadata": {},
     "output_type": "execute_result"
    }
   ],
   "source": [
    "# Ly.replace(B, b).diff(A)#.replace(sigmaApply, siga)### ERROR noncommutative matrix scalars not supported\n",
    "Ly.replace(A, A.T).replace(B, b).diff(b).replace(b, B).replace(A.T, A)#.replace(sigmaApply, siga)"
   ]
  },
  {
   "cell_type": "code",
   "execution_count": 143,
   "metadata": {
    "execution": {
     "iopub.execute_input": "2020-09-24T18:25:12.080823Z",
     "iopub.status.busy": "2020-09-24T18:25:12.079286Z",
     "iopub.status.idle": "2020-09-24T18:25:12.085201Z",
     "shell.execute_reply": "2020-09-24T18:25:12.086305Z"
    },
    "lines_to_next_cell": 0,
    "title": "codecell"
   },
   "outputs": [],
   "source": [
    "#Ly.replace(B,b).diff(b).replace(b,B) ### ERROR"
   ]
  },
  {
   "cell_type": "code",
   "execution_count": 144,
   "metadata": {
    "execution": {
     "iopub.execute_input": "2020-09-24T18:25:12.091316Z",
     "iopub.status.busy": "2020-09-24T18:25:12.089805Z",
     "iopub.status.idle": "2020-09-24T18:25:12.101051Z",
     "shell.execute_reply": "2020-09-24T18:25:12.102269Z"
    },
    "lines_to_next_cell": 0,
    "title": "codecell"
   },
   "outputs": [
    {
     "data": {
      "text/plain": [
       "mappingproxy({'applyfunc': True,\n",
       "              '_kwargs': {'applyfunc': True},\n",
       "              '__module__': None,\n",
       "              '__doc__': None,\n",
       "              'name': 'v',\n",
       "              '_sage_': <sympy.core.function.UndefSageHelper at 0x7f52b8568e50>,\n",
       "              '_nargs': None,\n",
       "              '__sympy__': <property at 0x7f52a2fefe90>,\n",
       "              '_explicit_class_assumptions': {},\n",
       "              'default_assumptions': {},\n",
       "              '_prop_handler': {'negative': <function sympy.core.expr.Expr._eval_is_negative(self)>,\n",
       "               'positive': <function sympy.core.expr.Expr._eval_is_positive(self)>,\n",
       "               'commutative': <function sympy.core.function.Function._eval_is_commutative(self)>,\n",
       "               'extended_positive': <function sympy.core.expr.Expr._eval_is_extended_positive(self)>,\n",
       "               'extended_negative': <function sympy.core.expr.Expr._eval_is_extended_negative(self)>}})"
      ]
     },
     "execution_count": 1,
     "metadata": {},
     "output_type": "execute_result"
    }
   ],
   "source": [
    "# NEXT: try to replace the sigma apply, not working\n",
    "n.__dict__"
   ]
  },
  {
   "cell_type": "code",
   "execution_count": 145,
   "metadata": {
    "execution": {
     "iopub.execute_input": "2020-09-24T18:25:12.107255Z",
     "iopub.status.busy": "2020-09-24T18:25:12.105724Z",
     "iopub.status.idle": "2020-09-24T18:25:12.116394Z",
     "shell.execute_reply": "2020-09-24T18:25:12.117465Z"
    },
    "lines_to_next_cell": 0,
    "title": "codecell"
   },
   "outputs": [
    {
     "data": {
      "text/plain": [
       "mappingproxy({'applyfunc': True,\n",
       "              'bool': False,\n",
       "              'shape': (3, 3),\n",
       "              '_kwargs': {'applyfunc': True, 'bool': False, 'shape': (3, 3)},\n",
       "              '__module__': None,\n",
       "              '__doc__': None,\n",
       "              'name': 'y',\n",
       "              '_sage_': <sympy.core.function.UndefSageHelper at 0x7f52b8568e50>,\n",
       "              '_nargs': None,\n",
       "              '__sympy__': <property at 0x7f52a2e15530>,\n",
       "              '_explicit_class_assumptions': {},\n",
       "              'default_assumptions': {},\n",
       "              '_prop_handler': {'negative': <function sympy.core.expr.Expr._eval_is_negative(self)>,\n",
       "               'positive': <function sympy.core.expr.Expr._eval_is_positive(self)>,\n",
       "               'commutative': <function sympy.core.function.Function._eval_is_commutative(self)>,\n",
       "               'extended_positive': <function sympy.core.expr.Expr._eval_is_extended_positive(self)>,\n",
       "               'extended_negative': <function sympy.core.expr.Expr._eval_is_extended_negative(self)>}})"
      ]
     },
     "execution_count": 1,
     "metadata": {},
     "output_type": "execute_result"
    }
   ],
   "source": [
    "y.__dict__\n",
    "# TODO HERE\n",
    "#https://stackoverflow.com/questions/12614334/typeerror-bool-object-is-not-callable"
   ]
  },
  {
   "cell_type": "code",
   "execution_count": 146,
   "metadata": {
    "lines_to_next_cell": 0,
    "title": "codecell"
   },
   "outputs": [],
   "source": []
  },
  {
   "cell_type": "code",
   "execution_count": 146,
   "metadata": {
    "lines_to_next_cell": 0,
    "title": "codecell"
   },
   "outputs": [],
   "source": []
  },
  {
   "cell_type": "code",
   "execution_count": 146,
   "metadata": {
    "execution": {
     "iopub.execute_input": "2020-09-24T18:25:12.122635Z",
     "iopub.status.busy": "2020-09-24T18:25:12.120944Z",
     "iopub.status.idle": "2020-09-24T18:25:12.135602Z",
     "shell.execute_reply": "2020-09-24T18:25:12.136697Z"
    },
    "lines_to_next_cell": 0,
    "title": "codecell"
   },
   "outputs": [
    {
     "data": {
      "text/latex": [
       "$\\displaystyle \\left[\\begin{matrix}t_{11} & t_{12} & t_{13}\\\\t_{21} & t_{22} & t_{23}\\\\t_{31} & t_{32} & t_{33}\\end{matrix}\\right]$"
      ],
      "text/plain": [
       "Matrix([\n",
       "[t_11, t_12, t_13],\n",
       "[t_21, t_22, t_23],\n",
       "[t_31, t_32, t_33]])"
      ]
     },
     "execution_count": 1,
     "metadata": {},
     "output_type": "execute_result"
    }
   ],
   "source": [
    "from sympy import diff\n",
    "# ### WARNING: this only works when size(X) == size(Y) else since size(W) != size(X) cannot subst B with W, so this operation won't work in my case.\n",
    "\n",
    "#X = Matrix(3,3, lambda i,j: Symbol(\"x_{}{}\".format(i+1,j+1))); Matrix(X)\n",
    "# Create another matrix instead of W so that it matches size of X during diff(X) operation, since otherwise the diff by X doesn't work, says X and W need to be same size.\n",
    "\n",
    "Wtemp = Matrix(*X.shape, lambda i,j: Symbol(\"t_{}{}\".format(i+1,j+1))); Matrix(Wtemp)"
   ]
  },
  {
   "cell_type": "code",
   "execution_count": 147,
   "metadata": {
    "execution": {
     "iopub.execute_input": "2020-09-24T18:25:12.141651Z",
     "iopub.status.busy": "2020-09-24T18:25:12.140155Z",
     "iopub.status.idle": "2020-09-24T18:25:12.145537Z",
     "shell.execute_reply": "2020-09-24T18:25:12.146589Z"
    },
    "title": "codecell"
   },
   "outputs": [],
   "source": [
    "#L.subs({A:X, B:Wtemp}).diff(X)[0,0][0,0].replace(n,vN).replace(sigmaApply, sigmaApply_)#.doit()\n",
    "#diff(L.replace(A,A.T), A) # ERROR max recursion depth exceeded"
   ]
  },
  {
   "cell_type": "code",
   "execution_count": 148,
   "metadata": {
    "execution": {
     "iopub.execute_input": "2020-09-24T18:25:12.151369Z",
     "iopub.status.busy": "2020-09-24T18:25:12.149833Z",
     "iopub.status.idle": "2020-09-24T18:25:12.573109Z",
     "shell.execute_reply": "2020-09-24T18:25:12.574195Z"
    },
    "lines_to_next_cell": 0,
    "title": "codecell"
   },
   "outputs": [
    {
     "data": {
      "text/latex": [
       "$\\displaystyle \\left[\\begin{matrix}\\left[\\begin{matrix}\\frac{\\partial}{\\partial X} v{\\left(X,W \\right)} \\frac{\\partial}{\\partial v{\\left(X,W \\right)}} \\sigma_{apply}{\\left(v{\\left(X,W \\right)} \\right)} \\frac{\\partial}{\\partial \\sigma_{apply}{\\left(v{\\left(X,W \\right)} \\right)}} \\lambda{\\left(\\sigma_{apply}{\\left(v{\\left(X,W \\right)} \\right)} \\right)} & 0 & 0\\\\0 & 0 & 0\\\\0 & 0 & 0\\end{matrix}\\right] & \\left[\\begin{matrix}0 & \\frac{\\partial}{\\partial X} v{\\left(X,W \\right)} \\frac{\\partial}{\\partial v{\\left(X,W \\right)}} \\sigma_{apply}{\\left(v{\\left(X,W \\right)} \\right)} \\frac{\\partial}{\\partial \\sigma_{apply}{\\left(v{\\left(X,W \\right)} \\right)}} \\lambda{\\left(\\sigma_{apply}{\\left(v{\\left(X,W \\right)} \\right)} \\right)} & 0\\\\0 & 0 & 0\\\\0 & 0 & 0\\end{matrix}\\right] & \\left[\\begin{matrix}0 & 0 & \\frac{\\partial}{\\partial X} v{\\left(X,W \\right)} \\frac{\\partial}{\\partial v{\\left(X,W \\right)}} \\sigma_{apply}{\\left(v{\\left(X,W \\right)} \\right)} \\frac{\\partial}{\\partial \\sigma_{apply}{\\left(v{\\left(X,W \\right)} \\right)}} \\lambda{\\left(\\sigma_{apply}{\\left(v{\\left(X,W \\right)} \\right)} \\right)}\\\\0 & 0 & 0\\\\0 & 0 & 0\\end{matrix}\\right]\\\\\\left[\\begin{matrix}0 & 0 & 0\\\\\\frac{\\partial}{\\partial X} v{\\left(X,W \\right)} \\frac{\\partial}{\\partial v{\\left(X,W \\right)}} \\sigma_{apply}{\\left(v{\\left(X,W \\right)} \\right)} \\frac{\\partial}{\\partial \\sigma_{apply}{\\left(v{\\left(X,W \\right)} \\right)}} \\lambda{\\left(\\sigma_{apply}{\\left(v{\\left(X,W \\right)} \\right)} \\right)} & 0 & 0\\\\0 & 0 & 0\\end{matrix}\\right] & \\left[\\begin{matrix}0 & 0 & 0\\\\0 & \\frac{\\partial}{\\partial X} v{\\left(X,W \\right)} \\frac{\\partial}{\\partial v{\\left(X,W \\right)}} \\sigma_{apply}{\\left(v{\\left(X,W \\right)} \\right)} \\frac{\\partial}{\\partial \\sigma_{apply}{\\left(v{\\left(X,W \\right)} \\right)}} \\lambda{\\left(\\sigma_{apply}{\\left(v{\\left(X,W \\right)} \\right)} \\right)} & 0\\\\0 & 0 & 0\\end{matrix}\\right] & \\left[\\begin{matrix}0 & 0 & 0\\\\0 & 0 & \\frac{\\partial}{\\partial X} v{\\left(X,W \\right)} \\frac{\\partial}{\\partial v{\\left(X,W \\right)}} \\sigma_{apply}{\\left(v{\\left(X,W \\right)} \\right)} \\frac{\\partial}{\\partial \\sigma_{apply}{\\left(v{\\left(X,W \\right)} \\right)}} \\lambda{\\left(\\sigma_{apply}{\\left(v{\\left(X,W \\right)} \\right)} \\right)}\\\\0 & 0 & 0\\end{matrix}\\right]\\\\\\left[\\begin{matrix}0 & 0 & 0\\\\0 & 0 & 0\\\\\\frac{\\partial}{\\partial X} v{\\left(X,W \\right)} \\frac{\\partial}{\\partial v{\\left(X,W \\right)}} \\sigma_{apply}{\\left(v{\\left(X,W \\right)} \\right)} \\frac{\\partial}{\\partial \\sigma_{apply}{\\left(v{\\left(X,W \\right)} \\right)}} \\lambda{\\left(\\sigma_{apply}{\\left(v{\\left(X,W \\right)} \\right)} \\right)} & 0 & 0\\end{matrix}\\right] & \\left[\\begin{matrix}0 & 0 & 0\\\\0 & 0 & 0\\\\0 & \\frac{\\partial}{\\partial X} v{\\left(X,W \\right)} \\frac{\\partial}{\\partial v{\\left(X,W \\right)}} \\sigma_{apply}{\\left(v{\\left(X,W \\right)} \\right)} \\frac{\\partial}{\\partial \\sigma_{apply}{\\left(v{\\left(X,W \\right)} \\right)}} \\lambda{\\left(\\sigma_{apply}{\\left(v{\\left(X,W \\right)} \\right)} \\right)} & 0\\end{matrix}\\right] & \\left[\\begin{matrix}0 & 0 & 0\\\\0 & 0 & 0\\\\0 & 0 & \\frac{\\partial}{\\partial X} v{\\left(X,W \\right)} \\frac{\\partial}{\\partial v{\\left(X,W \\right)}} \\sigma_{apply}{\\left(v{\\left(X,W \\right)} \\right)} \\frac{\\partial}{\\partial \\sigma_{apply}{\\left(v{\\left(X,W \\right)} \\right)}} \\lambda{\\left(\\sigma_{apply}{\\left(v{\\left(X,W \\right)} \\right)} \\right)}\\end{matrix}\\right]\\end{matrix}\\right]$"
      ],
      "text/plain": [
       "Matrix([\n",
       "[Matrix([\n",
       "[Derivative(v(X, W), X)*Derivative(sigma_apply(v(X, W)), v(X, W))*Derivative(lambda(sigma_apply(v(X, W))), sigma_apply(v(X, W))), 0, 0],\n",
       "[                                                                                                                              0, 0, 0],\n",
       "[                                                                                                                              0, 0, 0]]), Matrix([\n",
       "[0, Derivative(v(X, W), X)*Derivative(sigma_apply(v(X, W)), v(X, W))*Derivative(lambda(sigma_apply(v(X, W))), sigma_apply(v(X, W))), 0],\n",
       "[0,                                                                                                                               0, 0],\n",
       "[0,                                                                                                                               0, 0]]), Matrix([\n",
       "[0, 0, Derivative(v(X, W), X)*Derivative(sigma_apply(v(X, W)), v(X, W))*Derivative(lambda(sigma_apply(v(X, W))), sigma_apply(v(X, W)))],\n",
       "[0, 0,                                                                                                                               0],\n",
       "[0, 0,                                                                                                                               0]])],\n",
       "[Matrix([\n",
       "[                                                                                                                              0, 0, 0],\n",
       "[Derivative(v(X, W), X)*Derivative(sigma_apply(v(X, W)), v(X, W))*Derivative(lambda(sigma_apply(v(X, W))), sigma_apply(v(X, W))), 0, 0],\n",
       "[                                                                                                                              0, 0, 0]]), Matrix([\n",
       "[0,                                                                                                                               0, 0],\n",
       "[0, Derivative(v(X, W), X)*Derivative(sigma_apply(v(X, W)), v(X, W))*Derivative(lambda(sigma_apply(v(X, W))), sigma_apply(v(X, W))), 0],\n",
       "[0,                                                                                                                               0, 0]]), Matrix([\n",
       "[0, 0,                                                                                                                               0],\n",
       "[0, 0, Derivative(v(X, W), X)*Derivative(sigma_apply(v(X, W)), v(X, W))*Derivative(lambda(sigma_apply(v(X, W))), sigma_apply(v(X, W)))],\n",
       "[0, 0,                                                                                                                               0]])],\n",
       "[Matrix([\n",
       "[                                                                                                                              0, 0, 0],\n",
       "[                                                                                                                              0, 0, 0],\n",
       "[Derivative(v(X, W), X)*Derivative(sigma_apply(v(X, W)), v(X, W))*Derivative(lambda(sigma_apply(v(X, W))), sigma_apply(v(X, W))), 0, 0]]), Matrix([\n",
       "[0,                                                                                                                               0, 0],\n",
       "[0,                                                                                                                               0, 0],\n",
       "[0, Derivative(v(X, W), X)*Derivative(sigma_apply(v(X, W)), v(X, W))*Derivative(lambda(sigma_apply(v(X, W))), sigma_apply(v(X, W))), 0]]), Matrix([\n",
       "[0, 0,                                                                                                                               0],\n",
       "[0, 0,                                                                                                                               0],\n",
       "[0, 0, Derivative(v(X, W), X)*Derivative(sigma_apply(v(X, W)), v(X, W))*Derivative(lambda(sigma_apply(v(X, W))), sigma_apply(v(X, W)))]])]])"
      ]
     },
     "execution_count": 1,
     "metadata": {},
     "output_type": "execute_result"
    }
   ],
   "source": [
    "#Lmat = L.subs({A:X, B:Wtemp}).diff(X).subs({X:A, Wtemp: B}); Lmat #replace(X, A).replace(Y,B); Lmat\n",
    "# NOTE need to do replace at the end (instead of subs) else it says unhasable type mutabledensematrix.\n",
    "Lmat = L.subs({A:X, B:Wtemp}).diff(X).replace(X, A).replace(Wtemp,B); Lmat\n",
    "#L.diff(A) # HELL ON THE EDITOR NEVER TRY THIS AGAIN"
   ]
  },
  {
   "cell_type": "code",
   "execution_count": 149,
   "metadata": {
    "execution": {
     "iopub.execute_input": "2020-09-24T18:25:12.579373Z",
     "iopub.status.busy": "2020-09-24T18:25:12.577852Z",
     "iopub.status.idle": "2020-09-24T18:25:12.583568Z",
     "shell.execute_reply": "2020-09-24T18:25:12.584639Z"
    },
    "title": "codecell"
   },
   "outputs": [],
   "source": [
    "#L.replace(A,X).replace(B,W)"
   ]
  },
  {
   "cell_type": "code",
   "execution_count": 150,
   "metadata": {
    "execution": {
     "iopub.execute_input": "2020-09-24T18:25:12.589973Z",
     "iopub.status.busy": "2020-09-24T18:25:12.587892Z",
     "iopub.status.idle": "2020-09-24T18:25:12.593312Z",
     "shell.execute_reply": "2020-09-24T18:25:12.594381Z"
    },
    "lines_to_next_cell": 0,
    "title": "codecell"
   },
   "outputs": [],
   "source": [
    "# Method 2 approach for comparison:\n",
    "#L.replace(n, vN).replace(sigmaApply, sigmaApply_).replace(lambd, lambd_).subs(elemToSpecD).diff(X)#.subs(specToElemD)"
   ]
  },
  {
   "cell_type": "code",
   "execution_count": 151,
   "metadata": {
    "execution": {
     "iopub.execute_input": "2020-09-24T18:25:12.599797Z",
     "iopub.status.busy": "2020-09-24T18:25:12.597751Z",
     "iopub.status.idle": "2020-09-24T18:25:12.610182Z",
     "shell.execute_reply": "2020-09-24T18:25:12.611481Z"
    },
    "lines_to_next_cell": 0,
    "title": "codecell"
   },
   "outputs": [
    {
     "data": {
      "text/latex": [
       "$\\displaystyle \\frac{\\partial}{\\partial X} v{\\left(X,W \\right)} \\frac{\\partial}{\\partial v{\\left(X,W \\right)}} \\sigma_{apply}{\\left(v{\\left(X,W \\right)} \\right)} \\frac{\\partial}{\\partial \\sigma_{apply}{\\left(v{\\left(X,W \\right)} \\right)}} \\lambda{\\left(\\sigma_{apply}{\\left(v{\\left(X,W \\right)} \\right)} \\right)}$"
      ],
      "text/plain": [
       "Derivative(v(X, W), X)*Derivative(sigma_apply(v(X, W)), v(X, W))*Derivative(lambda(sigma_apply(v(X, W))), sigma_apply(v(X, W)))"
      ]
     },
     "execution_count": 1,
     "metadata": {},
     "output_type": "execute_result"
    }
   ],
   "source": [
    "elem = Lmat[0,0][0,0];elem"
   ]
  },
  {
   "cell_type": "code",
   "execution_count": 152,
   "metadata": {
    "execution": {
     "iopub.execute_input": "2020-09-24T18:25:12.616226Z",
     "iopub.status.busy": "2020-09-24T18:25:12.614716Z",
     "iopub.status.idle": "2020-09-24T18:25:12.636480Z",
     "shell.execute_reply": "2020-09-24T18:25:12.637577Z"
    },
    "title": "codecell"
   },
   "outputs": [
    {
     "data": {
      "text/latex": [
       "$\\displaystyle \\left. \\frac{d}{d \\xi_{0}} \\sigma_{apply}{\\left(\\xi_{0} \\right)} \\right|_{\\substack{ \\xi_{0}=X W }} \\frac{\\partial}{\\partial X} X W \\frac{\\partial}{\\partial \\sigma_{apply}{\\left(X W \\right)}} \\lambda{\\left(\\sigma_{apply}{\\left(X W \\right)} \\right)}$"
      ],
      "text/plain": [
       "Subs(Derivative(sigma_apply(_xi_0), _xi_0), _xi_0, X*W)*Derivative(X*W, X)*Derivative(lambda(sigma_apply(X*W)), sigma_apply(X*W))"
      ]
     },
     "execution_count": 1,
     "metadata": {},
     "output_type": "execute_result"
    }
   ],
   "source": [
    "#Lmat.replace(n, vL) # error can't calc deriv .w.r.t to x11*w11 +...\n",
    "# Lmat.replace(n, v) # error can't calc deriv .w.r.t to x11*w11 +...\n",
    "elem.subs(n, vL)"
   ]
  },
  {
   "cell_type": "code",
   "execution_count": 153,
   "metadata": {
    "execution": {
     "iopub.execute_input": "2020-09-24T18:25:12.642515Z",
     "iopub.status.busy": "2020-09-24T18:25:12.640971Z",
     "iopub.status.idle": "2020-09-24T18:25:12.646660Z",
     "shell.execute_reply": "2020-09-24T18:25:12.647769Z"
    },
    "lines_to_next_cell": 0,
    "title": "codecell"
   },
   "outputs": [],
   "source": [
    "#elem.replace(n, v) # error cannot deriv wrt to X*W"
   ]
  },
  {
   "cell_type": "code",
   "execution_count": 154,
   "metadata": {
    "execution": {
     "iopub.execute_input": "2020-09-24T18:25:12.653763Z",
     "iopub.status.busy": "2020-09-24T18:25:12.650923Z",
     "iopub.status.idle": "2020-09-24T18:25:12.663153Z",
     "shell.execute_reply": "2020-09-24T18:25:12.664227Z"
    },
    "lines_to_next_cell": 0,
    "title": "codecell"
   },
   "outputs": [
    {
     "data": {
      "text/latex": [
       "$\\displaystyle \\left[\\begin{matrix}\\sigma{\\left(n_{11} \\right)} & \\sigma{\\left(n_{12} \\right)}\\\\\\sigma{\\left(n_{21} \\right)} & \\sigma{\\left(n_{22} \\right)}\\\\\\sigma{\\left(n_{31} \\right)} & \\sigma{\\left(n_{32} \\right)}\\end{matrix}\\right]$"
      ],
      "text/plain": [
       "Matrix([\n",
       "[sigma(n_11), sigma(n_12)],\n",
       "[sigma(n_21), sigma(n_22)],\n",
       "[sigma(n_31), sigma(n_32)]])"
      ]
     },
     "execution_count": 1,
     "metadata": {},
     "output_type": "execute_result"
    }
   ],
   "source": [
    "Selem"
   ]
  },
  {
   "cell_type": "code",
   "execution_count": 155,
   "metadata": {
    "execution": {
     "iopub.execute_input": "2020-09-24T18:25:12.669107Z",
     "iopub.status.busy": "2020-09-24T18:25:12.667650Z",
     "iopub.status.idle": "2020-09-24T18:25:12.719912Z",
     "shell.execute_reply": "2020-09-24T18:25:12.720970Z"
    },
    "lines_to_next_cell": 0,
    "title": "codecell"
   },
   "outputs": [
    {
     "data": {
      "text/latex": [
       "$\\displaystyle \\frac{\\partial}{\\partial \\left[\\begin{matrix}x_{11} & x_{12} & x_{13}\\\\x_{21} & x_{22} & x_{23}\\\\x_{31} & x_{32} & x_{33}\\end{matrix}\\right]} \\left[\\begin{matrix}n_{11} & n_{12}\\\\n_{21} & n_{22}\\\\n_{31} & n_{32}\\end{matrix}\\right] \\frac{\\partial}{\\partial \\left[\\begin{matrix}n_{11} & n_{12}\\\\n_{21} & n_{22}\\\\n_{31} & n_{32}\\end{matrix}\\right]} \\left[\\begin{matrix}\\sigma{\\left(n_{11} \\right)} & \\sigma{\\left(n_{12} \\right)}\\\\\\sigma{\\left(n_{21} \\right)} & \\sigma{\\left(n_{22} \\right)}\\\\\\sigma{\\left(n_{31} \\right)} & \\sigma{\\left(n_{32} \\right)}\\end{matrix}\\right] \\frac{\\partial}{\\partial \\left[\\begin{matrix}\\sigma{\\left(n_{11} \\right)} & \\sigma{\\left(n_{12} \\right)}\\\\\\sigma{\\left(n_{21} \\right)} & \\sigma{\\left(n_{22} \\right)}\\\\\\sigma{\\left(n_{31} \\right)} & \\sigma{\\left(n_{32} \\right)}\\end{matrix}\\right]} \\lambda{\\left(\\left[\\begin{matrix}\\sigma{\\left(n_{11} \\right)} & \\sigma{\\left(n_{12} \\right)}\\\\\\sigma{\\left(n_{21} \\right)} & \\sigma{\\left(n_{22} \\right)}\\\\\\sigma{\\left(n_{31} \\right)} & \\sigma{\\left(n_{32} \\right)}\\end{matrix}\\right] \\right)}$"
      ],
      "text/plain": [
       "Derivative(Matrix([\n",
       "[n_11, n_12],\n",
       "[n_21, n_22],\n",
       "[n_31, n_32]]), Matrix([\n",
       "[x_11, x_12, x_13],\n",
       "[x_21, x_22, x_23],\n",
       "[x_31, x_32, x_33]]))*Derivative(Matrix([\n",
       "[sigma(n_11), sigma(n_12)],\n",
       "[sigma(n_21), sigma(n_22)],\n",
       "[sigma(n_31), sigma(n_32)]]), Matrix([\n",
       "[n_11, n_12],\n",
       "[n_21, n_22],\n",
       "[n_31, n_32]]))*Derivative(lambda(Matrix([\n",
       "[sigma(n_11), sigma(n_12)],\n",
       "[sigma(n_21), sigma(n_22)],\n",
       "[sigma(n_31), sigma(n_32)]])), Matrix([\n",
       "[sigma(n_11), sigma(n_12)],\n",
       "[sigma(n_21), sigma(n_22)],\n",
       "[sigma(n_31), sigma(n_32)]]))"
      ]
     },
     "execution_count": 1,
     "metadata": {},
     "output_type": "execute_result"
    }
   ],
   "source": [
    "# use replace n with vN instead of subs n with vL to get less specific output so it is easier to see since vL returns the xww*w11 +.... expressions\n",
    "elem.subs({A:X, B:W}).replace(n, vN).replace(sigmaApply, sigmaApply_)"
   ]
  },
  {
   "cell_type": "code",
   "execution_count": 156,
   "metadata": {
    "execution": {
     "iopub.execute_input": "2020-09-24T18:25:12.726077Z",
     "iopub.status.busy": "2020-09-24T18:25:12.724506Z",
     "iopub.status.idle": "2020-09-24T18:25:12.769477Z",
     "shell.execute_reply": "2020-09-24T18:25:12.770556Z"
    },
    "lines_to_next_cell": 0,
    "title": "codecell"
   },
   "outputs": [
    {
     "data": {
      "text/latex": [
       "$\\displaystyle \\frac{d}{d X} N \\frac{\\partial}{\\partial N} \\left[\\begin{matrix}\\sigma{\\left(n_{11} \\right)} & \\sigma{\\left(n_{12} \\right)}\\\\\\sigma{\\left(n_{21} \\right)} & \\sigma{\\left(n_{22} \\right)}\\\\\\sigma{\\left(n_{31} \\right)} & \\sigma{\\left(n_{32} \\right)}\\end{matrix}\\right] \\frac{\\partial}{\\partial \\left[\\begin{matrix}\\sigma{\\left(n_{11} \\right)} & \\sigma{\\left(n_{12} \\right)}\\\\\\sigma{\\left(n_{21} \\right)} & \\sigma{\\left(n_{22} \\right)}\\\\\\sigma{\\left(n_{31} \\right)} & \\sigma{\\left(n_{32} \\right)}\\end{matrix}\\right]} \\lambda{\\left(\\left[\\begin{matrix}\\sigma{\\left(n_{11} \\right)} & \\sigma{\\left(n_{12} \\right)}\\\\\\sigma{\\left(n_{21} \\right)} & \\sigma{\\left(n_{22} \\right)}\\\\\\sigma{\\left(n_{31} \\right)} & \\sigma{\\left(n_{32} \\right)}\\end{matrix}\\right] \\right)}$"
      ],
      "text/plain": [
       "Derivative(N, X)*Derivative(Matrix([\n",
       "[sigma(n_11), sigma(n_12)],\n",
       "[sigma(n_21), sigma(n_22)],\n",
       "[sigma(n_31), sigma(n_32)]]), N)*Derivative(lambda(Matrix([\n",
       "[sigma(n_11), sigma(n_12)],\n",
       "[sigma(n_21), sigma(n_22)],\n",
       "[sigma(n_31), sigma(n_32)]])), Matrix([\n",
       "[sigma(n_11), sigma(n_12)],\n",
       "[sigma(n_21), sigma(n_22)],\n",
       "[sigma(n_31), sigma(n_32)]]))"
      ]
     },
     "execution_count": 1,
     "metadata": {},
     "output_type": "execute_result"
    }
   ],
   "source": [
    "# Making matrix symbols again\n",
    "Ss = MatrixSymbol('S', 3,2) #n by p\n",
    "Ns = MatrixSymbol('N', 3,2) #n by p\n",
    "\n",
    "\n",
    "\n",
    "short = elem.subs({A:X, B:W}).replace(n, vN).replace(sigmaApply, sigmaApply_).replace(X,A).replace(Nelem, Ns).replace(Selem ,Ss)\n",
    "short"
   ]
  },
  {
   "cell_type": "code",
   "execution_count": 157,
   "metadata": {
    "execution": {
     "iopub.execute_input": "2020-09-24T18:25:12.775728Z",
     "iopub.status.busy": "2020-09-24T18:25:12.774212Z",
     "iopub.status.idle": "2020-09-24T18:25:12.822330Z",
     "shell.execute_reply": "2020-09-24T18:25:12.823471Z"
    },
    "lines_to_next_cell": 0,
    "title": "codecell"
   },
   "outputs": [
    {
     "data": {
      "text/latex": [
       "$\\displaystyle \\frac{\\partial}{\\partial \\left[\\begin{matrix}\\sigma{\\left(n_{11} \\right)} & \\sigma{\\left(n_{12} \\right)}\\\\\\sigma{\\left(n_{21} \\right)} & \\sigma{\\left(n_{22} \\right)}\\\\\\sigma{\\left(n_{31} \\right)} & \\sigma{\\left(n_{32} \\right)}\\end{matrix}\\right]} \\left(\\sigma{\\left(n_{11} \\right)} + \\sigma{\\left(n_{12} \\right)} + \\sigma{\\left(n_{21} \\right)} + \\sigma{\\left(n_{22} \\right)} + \\sigma{\\left(n_{31} \\right)} + \\sigma{\\left(n_{32} \\right)}\\right) \\frac{\\partial}{\\partial \\left[\\begin{matrix}x_{11} & x_{12} & x_{13}\\\\x_{21} & x_{22} & x_{23}\\\\x_{31} & x_{32} & x_{33}\\end{matrix}\\right]} \\left[\\begin{matrix}n_{11} & n_{12}\\\\n_{21} & n_{22}\\\\n_{31} & n_{32}\\end{matrix}\\right] \\frac{\\partial}{\\partial \\left[\\begin{matrix}n_{11} & n_{12}\\\\n_{21} & n_{22}\\\\n_{31} & n_{32}\\end{matrix}\\right]} \\left[\\begin{matrix}\\sigma{\\left(n_{11} \\right)} & \\sigma{\\left(n_{12} \\right)}\\\\\\sigma{\\left(n_{21} \\right)} & \\sigma{\\left(n_{22} \\right)}\\\\\\sigma{\\left(n_{31} \\right)} & \\sigma{\\left(n_{32} \\right)}\\end{matrix}\\right]$"
      ],
      "text/plain": [
       "Derivative(sigma(n_11) + sigma(n_12) + sigma(n_21) + sigma(n_22) + sigma(n_31) + sigma(n_32), Matrix([\n",
       "[sigma(n_11), sigma(n_12)],\n",
       "[sigma(n_21), sigma(n_22)],\n",
       "[sigma(n_31), sigma(n_32)]]))*Derivative(Matrix([\n",
       "[n_11, n_12],\n",
       "[n_21, n_22],\n",
       "[n_31, n_32]]), Matrix([\n",
       "[x_11, x_12, x_13],\n",
       "[x_21, x_22, x_23],\n",
       "[x_31, x_32, x_33]]))*Derivative(Matrix([\n",
       "[sigma(n_11), sigma(n_12)],\n",
       "[sigma(n_21), sigma(n_22)],\n",
       "[sigma(n_31), sigma(n_32)]]), Matrix([\n",
       "[n_11, n_12],\n",
       "[n_21, n_22],\n",
       "[n_31, n_32]]))"
      ]
     },
     "execution_count": 1,
     "metadata": {},
     "output_type": "execute_result"
    }
   ],
   "source": [
    "# Now going back to matrix form just to apply the last function LAMBDA\n",
    "elem.subs({A:X, B:W}).replace(n, vN).replace(sigmaApply, sigmaApply_).replace(lambd, lambd_)"
   ]
  },
  {
   "cell_type": "code",
   "execution_count": 158,
   "metadata": {
    "execution": {
     "iopub.execute_input": "2020-09-24T18:25:12.828440Z",
     "iopub.status.busy": "2020-09-24T18:25:12.826877Z",
     "iopub.status.idle": "2020-09-24T18:25:12.850249Z",
     "shell.execute_reply": "2020-09-24T18:25:12.851458Z"
    },
    "lines_to_next_cell": 0,
    "title": "codecell"
   },
   "outputs": [
    {
     "data": {
      "text/latex": [
       "$\\displaystyle \\left[\\begin{matrix}n_{11} & \\operatorname{n_{11}}{\\left(x_{11},x_{12},x_{13},x_{21},x_{22},x_{23},x_{31},x_{32},x_{33},w_{11},w_{12},w_{21},w_{22},w_{31},w_{32} \\right)}\\\\n_{12} & \\operatorname{n_{12}}{\\left(x_{11},x_{12},x_{13},x_{21},x_{22},x_{23},x_{31},x_{32},x_{33},w_{11},w_{12},w_{21},w_{22},w_{31},w_{32} \\right)}\\\\n_{21} & \\operatorname{n_{21}}{\\left(x_{11},x_{12},x_{13},x_{21},x_{22},x_{23},x_{31},x_{32},x_{33},w_{11},w_{12},w_{21},w_{22},w_{31},w_{32} \\right)}\\\\n_{22} & \\operatorname{n_{22}}{\\left(x_{11},x_{12},x_{13},x_{21},x_{22},x_{23},x_{31},x_{32},x_{33},w_{11},w_{12},w_{21},w_{22},w_{31},w_{32} \\right)}\\\\n_{31} & \\operatorname{n_{31}}{\\left(x_{11},x_{12},x_{13},x_{21},x_{22},x_{23},x_{31},x_{32},x_{33},w_{11},w_{12},w_{21},w_{22},w_{31},w_{32} \\right)}\\\\n_{32} & \\operatorname{n_{32}}{\\left(x_{11},x_{12},x_{13},x_{21},x_{22},x_{23},x_{31},x_{32},x_{33},w_{11},w_{12},w_{21},w_{22},w_{31},w_{32} \\right)}\\end{matrix}\\right]$"
      ],
      "text/plain": [
       "Matrix([\n",
       "[n_11, n_11(x_11, x_12, x_13, x_21, x_22, x_23, x_31, x_32, x_33, w_11, w_12, w_21, w_22, w_31, w_32)],\n",
       "[n_12, n_12(x_11, x_12, x_13, x_21, x_22, x_23, x_31, x_32, x_33, w_11, w_12, w_21, w_22, w_31, w_32)],\n",
       "[n_21, n_21(x_11, x_12, x_13, x_21, x_22, x_23, x_31, x_32, x_33, w_11, w_12, w_21, w_22, w_31, w_32)],\n",
       "[n_22, n_22(x_11, x_12, x_13, x_21, x_22, x_23, x_31, x_32, x_33, w_11, w_12, w_21, w_22, w_31, w_32)],\n",
       "[n_31, n_31(x_11, x_12, x_13, x_21, x_22, x_23, x_31, x_32, x_33, w_11, w_12, w_21, w_22, w_31, w_32)],\n",
       "[n_32, n_32(x_11, x_12, x_13, x_21, x_22, x_23, x_31, x_32, x_33, w_11, w_12, w_21, w_22, w_31, w_32)]])"
      ]
     },
     "execution_count": 1,
     "metadata": {},
     "output_type": "execute_result"
    }
   ],
   "source": [
    "# Making each of the n_ijs a function\n",
    "#elem.subs({A:X, B:W}).replace(n, vN).replace(sigmaApply, sigmaApply_).replace(lambd, lambd_).subs(elemToSpecD)\n",
    "\n",
    "Matrix(elemToSpecFuncArgs)"
   ]
  },
  {
   "cell_type": "code",
   "execution_count": 159,
   "metadata": {
    "execution": {
     "iopub.execute_input": "2020-09-24T18:25:12.856565Z",
     "iopub.status.busy": "2020-09-24T18:25:12.855025Z",
     "iopub.status.idle": "2020-09-24T18:25:13.148519Z",
     "shell.execute_reply": "2020-09-24T18:25:13.149632Z"
    },
    "lines_to_next_cell": 0,
    "title": "codecell"
   },
   "outputs": [
    {
     "data": {
      "text/latex": [
       "$\\displaystyle \\frac{\\partial}{\\partial \\left[\\begin{matrix}\\sigma{\\left(\\operatorname{n_{11}}{\\left(x_{11},x_{12},x_{13},x_{21},x_{22},x_{23},x_{31},x_{32},x_{33},w_{11},w_{12},w_{21},w_{22},w_{31},w_{32} \\right)} \\right)} & \\sigma{\\left(\\operatorname{n_{12}}{\\left(x_{11},x_{12},x_{13},x_{21},x_{22},x_{23},x_{31},x_{32},x_{33},w_{11},w_{12},w_{21},w_{22},w_{31},w_{32} \\right)} \\right)}\\\\\\sigma{\\left(\\operatorname{n_{21}}{\\left(x_{11},x_{12},x_{13},x_{21},x_{22},x_{23},x_{31},x_{32},x_{33},w_{11},w_{12},w_{21},w_{22},w_{31},w_{32} \\right)} \\right)} & \\sigma{\\left(\\operatorname{n_{22}}{\\left(x_{11},x_{12},x_{13},x_{21},x_{22},x_{23},x_{31},x_{32},x_{33},w_{11},w_{12},w_{21},w_{22},w_{31},w_{32} \\right)} \\right)}\\\\\\sigma{\\left(\\operatorname{n_{31}}{\\left(x_{11},x_{12},x_{13},x_{21},x_{22},x_{23},x_{31},x_{32},x_{33},w_{11},w_{12},w_{21},w_{22},w_{31},w_{32} \\right)} \\right)} & \\sigma{\\left(\\operatorname{n_{32}}{\\left(x_{11},x_{12},x_{13},x_{21},x_{22},x_{23},x_{31},x_{32},x_{33},w_{11},w_{12},w_{21},w_{22},w_{31},w_{32} \\right)} \\right)}\\end{matrix}\\right]} \\left(\\sigma{\\left(\\operatorname{n_{11}}{\\left(x_{11},x_{12},x_{13},x_{21},x_{22},x_{23},x_{31},x_{32},x_{33},w_{11},w_{12},w_{21},w_{22},w_{31},w_{32} \\right)} \\right)} + \\sigma{\\left(\\operatorname{n_{12}}{\\left(x_{11},x_{12},x_{13},x_{21},x_{22},x_{23},x_{31},x_{32},x_{33},w_{11},w_{12},w_{21},w_{22},w_{31},w_{32} \\right)} \\right)} + \\sigma{\\left(\\operatorname{n_{21}}{\\left(x_{11},x_{12},x_{13},x_{21},x_{22},x_{23},x_{31},x_{32},x_{33},w_{11},w_{12},w_{21},w_{22},w_{31},w_{32} \\right)} \\right)} + \\sigma{\\left(\\operatorname{n_{22}}{\\left(x_{11},x_{12},x_{13},x_{21},x_{22},x_{23},x_{31},x_{32},x_{33},w_{11},w_{12},w_{21},w_{22},w_{31},w_{32} \\right)} \\right)} + \\sigma{\\left(\\operatorname{n_{31}}{\\left(x_{11},x_{12},x_{13},x_{21},x_{22},x_{23},x_{31},x_{32},x_{33},w_{11},w_{12},w_{21},w_{22},w_{31},w_{32} \\right)} \\right)} + \\sigma{\\left(\\operatorname{n_{32}}{\\left(x_{11},x_{12},x_{13},x_{21},x_{22},x_{23},x_{31},x_{32},x_{33},w_{11},w_{12},w_{21},w_{22},w_{31},w_{32} \\right)} \\right)}\\right) \\frac{\\partial}{\\partial \\left[\\begin{matrix}x_{11} & x_{12} & x_{13}\\\\x_{21} & x_{22} & x_{23}\\\\x_{31} & x_{32} & x_{33}\\end{matrix}\\right]} \\left[\\begin{matrix}\\operatorname{n_{11}}{\\left(x_{11},x_{12},x_{13},x_{21},x_{22},x_{23},x_{31},x_{32},x_{33},w_{11},w_{12},w_{21},w_{22},w_{31},w_{32} \\right)} & \\operatorname{n_{12}}{\\left(x_{11},x_{12},x_{13},x_{21},x_{22},x_{23},x_{31},x_{32},x_{33},w_{11},w_{12},w_{21},w_{22},w_{31},w_{32} \\right)}\\\\\\operatorname{n_{21}}{\\left(x_{11},x_{12},x_{13},x_{21},x_{22},x_{23},x_{31},x_{32},x_{33},w_{11},w_{12},w_{21},w_{22},w_{31},w_{32} \\right)} & \\operatorname{n_{22}}{\\left(x_{11},x_{12},x_{13},x_{21},x_{22},x_{23},x_{31},x_{32},x_{33},w_{11},w_{12},w_{21},w_{22},w_{31},w_{32} \\right)}\\\\\\operatorname{n_{31}}{\\left(x_{11},x_{12},x_{13},x_{21},x_{22},x_{23},x_{31},x_{32},x_{33},w_{11},w_{12},w_{21},w_{22},w_{31},w_{32} \\right)} & \\operatorname{n_{32}}{\\left(x_{11},x_{12},x_{13},x_{21},x_{22},x_{23},x_{31},x_{32},x_{33},w_{11},w_{12},w_{21},w_{22},w_{31},w_{32} \\right)}\\end{matrix}\\right] \\frac{\\partial}{\\partial \\left[\\begin{matrix}\\operatorname{n_{11}}{\\left(x_{11},x_{12},x_{13},x_{21},x_{22},x_{23},x_{31},x_{32},x_{33},w_{11},w_{12},w_{21},w_{22},w_{31},w_{32} \\right)} & \\operatorname{n_{12}}{\\left(x_{11},x_{12},x_{13},x_{21},x_{22},x_{23},x_{31},x_{32},x_{33},w_{11},w_{12},w_{21},w_{22},w_{31},w_{32} \\right)}\\\\\\operatorname{n_{21}}{\\left(x_{11},x_{12},x_{13},x_{21},x_{22},x_{23},x_{31},x_{32},x_{33},w_{11},w_{12},w_{21},w_{22},w_{31},w_{32} \\right)} & \\operatorname{n_{22}}{\\left(x_{11},x_{12},x_{13},x_{21},x_{22},x_{23},x_{31},x_{32},x_{33},w_{11},w_{12},w_{21},w_{22},w_{31},w_{32} \\right)}\\\\\\operatorname{n_{31}}{\\left(x_{11},x_{12},x_{13},x_{21},x_{22},x_{23},x_{31},x_{32},x_{33},w_{11},w_{12},w_{21},w_{22},w_{31},w_{32} \\right)} & \\operatorname{n_{32}}{\\left(x_{11},x_{12},x_{13},x_{21},x_{22},x_{23},x_{31},x_{32},x_{33},w_{11},w_{12},w_{21},w_{22},w_{31},w_{32} \\right)}\\end{matrix}\\right]} \\left[\\begin{matrix}\\sigma{\\left(\\operatorname{n_{11}}{\\left(x_{11},x_{12},x_{13},x_{21},x_{22},x_{23},x_{31},x_{32},x_{33},w_{11},w_{12},w_{21},w_{22},w_{31},w_{32} \\right)} \\right)} & \\sigma{\\left(\\operatorname{n_{12}}{\\left(x_{11},x_{12},x_{13},x_{21},x_{22},x_{23},x_{31},x_{32},x_{33},w_{11},w_{12},w_{21},w_{22},w_{31},w_{32} \\right)} \\right)}\\\\\\sigma{\\left(\\operatorname{n_{21}}{\\left(x_{11},x_{12},x_{13},x_{21},x_{22},x_{23},x_{31},x_{32},x_{33},w_{11},w_{12},w_{21},w_{22},w_{31},w_{32} \\right)} \\right)} & \\sigma{\\left(\\operatorname{n_{22}}{\\left(x_{11},x_{12},x_{13},x_{21},x_{22},x_{23},x_{31},x_{32},x_{33},w_{11},w_{12},w_{21},w_{22},w_{31},w_{32} \\right)} \\right)}\\\\\\sigma{\\left(\\operatorname{n_{31}}{\\left(x_{11},x_{12},x_{13},x_{21},x_{22},x_{23},x_{31},x_{32},x_{33},w_{11},w_{12},w_{21},w_{22},w_{31},w_{32} \\right)} \\right)} & \\sigma{\\left(\\operatorname{n_{32}}{\\left(x_{11},x_{12},x_{13},x_{21},x_{22},x_{23},x_{31},x_{32},x_{33},w_{11},w_{12},w_{21},w_{22},w_{31},w_{32} \\right)} \\right)}\\end{matrix}\\right]$"
      ],
      "text/plain": [
       "Derivative(sigma(n_11(x_11, x_12, x_13, x_21, x_22, x_23, x_31, x_32, x_33, w_11, w_12, w_21, w_22, w_31, w_32)) + sigma(n_12(x_11, x_12, x_13, x_21, x_22, x_23, x_31, x_32, x_33, w_11, w_12, w_21, w_22, w_31, w_32)) + sigma(n_21(x_11, x_12, x_13, x_21, x_22, x_23, x_31, x_32, x_33, w_11, w_12, w_21, w_22, w_31, w_32)) + sigma(n_22(x_11, x_12, x_13, x_21, x_22, x_23, x_31, x_32, x_33, w_11, w_12, w_21, w_22, w_31, w_32)) + sigma(n_31(x_11, x_12, x_13, x_21, x_22, x_23, x_31, x_32, x_33, w_11, w_12, w_21, w_22, w_31, w_32)) + sigma(n_32(x_11, x_12, x_13, x_21, x_22, x_23, x_31, x_32, x_33, w_11, w_12, w_21, w_22, w_31, w_32)), Matrix([\n",
       "[sigma(n_11(x_11, x_12, x_13, x_21, x_22, x_23, x_31, x_32, x_33, w_11, w_12, w_21, w_22, w_31, w_32)), sigma(n_12(x_11, x_12, x_13, x_21, x_22, x_23, x_31, x_32, x_33, w_11, w_12, w_21, w_22, w_31, w_32))],\n",
       "[sigma(n_21(x_11, x_12, x_13, x_21, x_22, x_23, x_31, x_32, x_33, w_11, w_12, w_21, w_22, w_31, w_32)), sigma(n_22(x_11, x_12, x_13, x_21, x_22, x_23, x_31, x_32, x_33, w_11, w_12, w_21, w_22, w_31, w_32))],\n",
       "[sigma(n_31(x_11, x_12, x_13, x_21, x_22, x_23, x_31, x_32, x_33, w_11, w_12, w_21, w_22, w_31, w_32)), sigma(n_32(x_11, x_12, x_13, x_21, x_22, x_23, x_31, x_32, x_33, w_11, w_12, w_21, w_22, w_31, w_32))]]))*Derivative(Matrix([\n",
       "[n_11(x_11, x_12, x_13, x_21, x_22, x_23, x_31, x_32, x_33, w_11, w_12, w_21, w_22, w_31, w_32), n_12(x_11, x_12, x_13, x_21, x_22, x_23, x_31, x_32, x_33, w_11, w_12, w_21, w_22, w_31, w_32)],\n",
       "[n_21(x_11, x_12, x_13, x_21, x_22, x_23, x_31, x_32, x_33, w_11, w_12, w_21, w_22, w_31, w_32), n_22(x_11, x_12, x_13, x_21, x_22, x_23, x_31, x_32, x_33, w_11, w_12, w_21, w_22, w_31, w_32)],\n",
       "[n_31(x_11, x_12, x_13, x_21, x_22, x_23, x_31, x_32, x_33, w_11, w_12, w_21, w_22, w_31, w_32), n_32(x_11, x_12, x_13, x_21, x_22, x_23, x_31, x_32, x_33, w_11, w_12, w_21, w_22, w_31, w_32)]]), Matrix([\n",
       "[x_11, x_12, x_13],\n",
       "[x_21, x_22, x_23],\n",
       "[x_31, x_32, x_33]]))*Derivative(Matrix([\n",
       "[sigma(n_11(x_11, x_12, x_13, x_21, x_22, x_23, x_31, x_32, x_33, w_11, w_12, w_21, w_22, w_31, w_32)), sigma(n_12(x_11, x_12, x_13, x_21, x_22, x_23, x_31, x_32, x_33, w_11, w_12, w_21, w_22, w_31, w_32))],\n",
       "[sigma(n_21(x_11, x_12, x_13, x_21, x_22, x_23, x_31, x_32, x_33, w_11, w_12, w_21, w_22, w_31, w_32)), sigma(n_22(x_11, x_12, x_13, x_21, x_22, x_23, x_31, x_32, x_33, w_11, w_12, w_21, w_22, w_31, w_32))],\n",
       "[sigma(n_31(x_11, x_12, x_13, x_21, x_22, x_23, x_31, x_32, x_33, w_11, w_12, w_21, w_22, w_31, w_32)), sigma(n_32(x_11, x_12, x_13, x_21, x_22, x_23, x_31, x_32, x_33, w_11, w_12, w_21, w_22, w_31, w_32))]]), Matrix([\n",
       "[n_11(x_11, x_12, x_13, x_21, x_22, x_23, x_31, x_32, x_33, w_11, w_12, w_21, w_22, w_31, w_32), n_12(x_11, x_12, x_13, x_21, x_22, x_23, x_31, x_32, x_33, w_11, w_12, w_21, w_22, w_31, w_32)],\n",
       "[n_21(x_11, x_12, x_13, x_21, x_22, x_23, x_31, x_32, x_33, w_11, w_12, w_21, w_22, w_31, w_32), n_22(x_11, x_12, x_13, x_21, x_22, x_23, x_31, x_32, x_33, w_11, w_12, w_21, w_22, w_31, w_32)],\n",
       "[n_31(x_11, x_12, x_13, x_21, x_22, x_23, x_31, x_32, x_33, w_11, w_12, w_21, w_22, w_31, w_32), n_32(x_11, x_12, x_13, x_21, x_22, x_23, x_31, x_32, x_33, w_11, w_12, w_21, w_22, w_31, w_32)]]))"
      ]
     },
     "execution_count": 1,
     "metadata": {},
     "output_type": "execute_result"
    }
   ],
   "source": [
    "\n",
    "long = elem.subs({A:X, B:W}).replace(n, vN).replace(sigmaApply, sigmaApply_).replace(lambd, lambd_).subs(elemToSpecFuncArgsD)\n",
    "long"
   ]
  },
  {
   "cell_type": "code",
   "execution_count": 160,
   "metadata": {
    "execution": {
     "iopub.execute_input": "2020-09-24T18:25:13.154456Z",
     "iopub.status.busy": "2020-09-24T18:25:13.152983Z",
     "iopub.status.idle": "2020-09-24T18:25:13.168510Z",
     "shell.execute_reply": "2020-09-24T18:25:13.169653Z"
    },
    "lines_to_next_cell": 0,
    "title": "codecell"
   },
   "outputs": [
    {
     "data": {
      "text/latex": [
       "$\\displaystyle \\frac{d}{d X} N \\frac{\\partial}{\\partial N} \\left[\\begin{matrix}\\sigma{\\left(n_{11} \\right)} & \\sigma{\\left(n_{12} \\right)}\\\\\\sigma{\\left(n_{21} \\right)} & \\sigma{\\left(n_{22} \\right)}\\\\\\sigma{\\left(n_{31} \\right)} & \\sigma{\\left(n_{32} \\right)}\\end{matrix}\\right] \\frac{\\partial}{\\partial \\left[\\begin{matrix}\\sigma{\\left(n_{11} \\right)} & \\sigma{\\left(n_{12} \\right)}\\\\\\sigma{\\left(n_{21} \\right)} & \\sigma{\\left(n_{22} \\right)}\\\\\\sigma{\\left(n_{31} \\right)} & \\sigma{\\left(n_{32} \\right)}\\end{matrix}\\right]} \\lambda{\\left(\\left[\\begin{matrix}\\sigma{\\left(n_{11} \\right)} & \\sigma{\\left(n_{12} \\right)}\\\\\\sigma{\\left(n_{21} \\right)} & \\sigma{\\left(n_{22} \\right)}\\\\\\sigma{\\left(n_{31} \\right)} & \\sigma{\\left(n_{32} \\right)}\\end{matrix}\\right] \\right)}$"
      ],
      "text/plain": [
       "Derivative(N, X)*Derivative(Matrix([\n",
       "[sigma(n_11), sigma(n_12)],\n",
       "[sigma(n_21), sigma(n_22)],\n",
       "[sigma(n_31), sigma(n_32)]]), N)*Derivative(lambda(Matrix([\n",
       "[sigma(n_11), sigma(n_12)],\n",
       "[sigma(n_21), sigma(n_22)],\n",
       "[sigma(n_31), sigma(n_32)]])), Matrix([\n",
       "[sigma(n_11), sigma(n_12)],\n",
       "[sigma(n_21), sigma(n_22)],\n",
       "[sigma(n_31), sigma(n_32)]]))"
      ]
     },
     "execution_count": 1,
     "metadata": {},
     "output_type": "execute_result"
    }
   ],
   "source": [
    "# short version again:\n",
    "short"
   ]
  },
  {
   "cell_type": "code",
   "execution_count": 161,
   "metadata": {
    "execution": {
     "iopub.execute_input": "2020-09-24T18:25:13.174614Z",
     "iopub.status.busy": "2020-09-24T18:25:13.173115Z",
     "iopub.status.idle": "2020-09-24T18:25:13.178643Z",
     "shell.execute_reply": "2020-09-24T18:25:13.179811Z"
    },
    "lines_to_next_cell": 0,
    "title": "codecell"
   },
   "outputs": [],
   "source": [
    "# long.doit() # error as base exp thing"
   ]
  },
  {
   "cell_type": "code",
   "execution_count": 162,
   "metadata": {
    "execution": {
     "iopub.execute_input": "2020-09-24T18:25:13.187035Z",
     "iopub.status.busy": "2020-09-24T18:25:13.184685Z",
     "iopub.status.idle": "2020-09-24T18:25:13.231287Z",
     "shell.execute_reply": "2020-09-24T18:25:13.232825Z"
    },
    "lines_to_next_cell": 0,
    "title": "codecell"
   },
   "outputs": [
    {
     "data": {
      "text/latex": [
       "$\\displaystyle \\frac{\\partial}{\\partial \\left[\\begin{matrix}\\sigma{\\left(n_{11} \\right)} & \\sigma{\\left(n_{12} \\right)}\\\\\\sigma{\\left(n_{21} \\right)} & \\sigma{\\left(n_{22} \\right)}\\\\\\sigma{\\left(n_{31} \\right)} & \\sigma{\\left(n_{32} \\right)}\\end{matrix}\\right]} \\left(\\sigma{\\left(n_{11} \\right)} + \\sigma{\\left(n_{12} \\right)} + \\sigma{\\left(n_{21} \\right)} + \\sigma{\\left(n_{22} \\right)} + \\sigma{\\left(n_{31} \\right)} + \\sigma{\\left(n_{32} \\right)}\\right) \\frac{d}{d X} N \\frac{\\partial}{\\partial N} \\left[\\begin{matrix}\\sigma{\\left(n_{11} \\right)} & \\sigma{\\left(n_{12} \\right)}\\\\\\sigma{\\left(n_{21} \\right)} & \\sigma{\\left(n_{22} \\right)}\\\\\\sigma{\\left(n_{31} \\right)} & \\sigma{\\left(n_{32} \\right)}\\end{matrix}\\right]$"
      ],
      "text/plain": [
       "Derivative(sigma(n_11) + sigma(n_12) + sigma(n_21) + sigma(n_22) + sigma(n_31) + sigma(n_32), Matrix([\n",
       "[sigma(n_11), sigma(n_12)],\n",
       "[sigma(n_21), sigma(n_22)],\n",
       "[sigma(n_31), sigma(n_32)]]))*Derivative(N, X)*Derivative(Matrix([\n",
       "[sigma(n_11), sigma(n_12)],\n",
       "[sigma(n_21), sigma(n_22)],\n",
       "[sigma(n_31), sigma(n_32)]]), N)"
      ]
     },
     "execution_count": 1,
     "metadata": {},
     "output_type": "execute_result"
    }
   ],
   "source": [
    "# Trying step by step replacement approach:\n",
    "elem.subs({A:X, B:W}).replace(n, vN).replace(sigmaApply, sigmaApply_).replace(lambd, lambd_).replace(Nelem, Ns).replace(X,A)"
   ]
  },
  {
   "cell_type": "code",
   "execution_count": 163,
   "metadata": {
    "execution": {
     "iopub.execute_input": "2020-09-24T18:25:13.237910Z",
     "iopub.status.busy": "2020-09-24T18:25:13.236378Z",
     "iopub.status.idle": "2020-09-24T18:25:13.314908Z",
     "shell.execute_reply": "2020-09-24T18:25:13.316030Z"
    },
    "lines_to_next_cell": 0,
    "title": "codecell"
   },
   "outputs": [
    {
     "data": {
      "text/latex": [
       "$\\displaystyle \\left[\\begin{matrix}\\frac{d}{d X} N \\frac{\\partial}{\\partial N} \\left[\\begin{matrix}\\sigma{\\left(n_{11} \\right)} & \\sigma{\\left(n_{12} \\right)}\\\\\\sigma{\\left(n_{21} \\right)} & \\sigma{\\left(n_{22} \\right)}\\\\\\sigma{\\left(n_{31} \\right)} & \\sigma{\\left(n_{32} \\right)}\\end{matrix}\\right] & \\frac{d}{d X} N \\frac{\\partial}{\\partial N} \\left[\\begin{matrix}\\sigma{\\left(n_{11} \\right)} & \\sigma{\\left(n_{12} \\right)}\\\\\\sigma{\\left(n_{21} \\right)} & \\sigma{\\left(n_{22} \\right)}\\\\\\sigma{\\left(n_{31} \\right)} & \\sigma{\\left(n_{32} \\right)}\\end{matrix}\\right]\\\\\\frac{d}{d X} N \\frac{\\partial}{\\partial N} \\left[\\begin{matrix}\\sigma{\\left(n_{11} \\right)} & \\sigma{\\left(n_{12} \\right)}\\\\\\sigma{\\left(n_{21} \\right)} & \\sigma{\\left(n_{22} \\right)}\\\\\\sigma{\\left(n_{31} \\right)} & \\sigma{\\left(n_{32} \\right)}\\end{matrix}\\right] & \\frac{d}{d X} N \\frac{\\partial}{\\partial N} \\left[\\begin{matrix}\\sigma{\\left(n_{11} \\right)} & \\sigma{\\left(n_{12} \\right)}\\\\\\sigma{\\left(n_{21} \\right)} & \\sigma{\\left(n_{22} \\right)}\\\\\\sigma{\\left(n_{31} \\right)} & \\sigma{\\left(n_{32} \\right)}\\end{matrix}\\right]\\\\\\frac{d}{d X} N \\frac{\\partial}{\\partial N} \\left[\\begin{matrix}\\sigma{\\left(n_{11} \\right)} & \\sigma{\\left(n_{12} \\right)}\\\\\\sigma{\\left(n_{21} \\right)} & \\sigma{\\left(n_{22} \\right)}\\\\\\sigma{\\left(n_{31} \\right)} & \\sigma{\\left(n_{32} \\right)}\\end{matrix}\\right] & \\frac{d}{d X} N \\frac{\\partial}{\\partial N} \\left[\\begin{matrix}\\sigma{\\left(n_{11} \\right)} & \\sigma{\\left(n_{12} \\right)}\\\\\\sigma{\\left(n_{21} \\right)} & \\sigma{\\left(n_{22} \\right)}\\\\\\sigma{\\left(n_{31} \\right)} & \\sigma{\\left(n_{32} \\right)}\\end{matrix}\\right]\\end{matrix}\\right]$"
      ],
      "text/plain": [
       "Matrix([\n",
       "[Derivative(N, X)*Derivative(Matrix([\n",
       "[sigma(n_11), sigma(n_12)],\n",
       "[sigma(n_21), sigma(n_22)],\n",
       "[sigma(n_31), sigma(n_32)]]), N), Derivative(N, X)*Derivative(Matrix([\n",
       "[sigma(n_11), sigma(n_12)],\n",
       "[sigma(n_21), sigma(n_22)],\n",
       "[sigma(n_31), sigma(n_32)]]), N)],\n",
       "[Derivative(N, X)*Derivative(Matrix([\n",
       "[sigma(n_11), sigma(n_12)],\n",
       "[sigma(n_21), sigma(n_22)],\n",
       "[sigma(n_31), sigma(n_32)]]), N), Derivative(N, X)*Derivative(Matrix([\n",
       "[sigma(n_11), sigma(n_12)],\n",
       "[sigma(n_21), sigma(n_22)],\n",
       "[sigma(n_31), sigma(n_32)]]), N)],\n",
       "[Derivative(N, X)*Derivative(Matrix([\n",
       "[sigma(n_11), sigma(n_12)],\n",
       "[sigma(n_21), sigma(n_22)],\n",
       "[sigma(n_31), sigma(n_32)]]), N), Derivative(N, X)*Derivative(Matrix([\n",
       "[sigma(n_11), sigma(n_12)],\n",
       "[sigma(n_21), sigma(n_22)],\n",
       "[sigma(n_31), sigma(n_32)]]), N)]])"
      ]
     },
     "execution_count": 1,
     "metadata": {},
     "output_type": "execute_result"
    }
   ],
   "source": [
    "# Seeing if replacing the order of replacing Ns matrix with Xs matrix makes a difference: ...\n",
    "step = elem.subs({A:X, B:W}).replace(n, vN).replace(sigmaApply, sigmaApply_).replace(lambd, lambd_).replace(Nelem, Ns).replace(X,A).doit()\n",
    "step"
   ]
  },
  {
   "cell_type": "code",
   "execution_count": 164,
   "metadata": {
    "execution": {
     "iopub.execute_input": "2020-09-24T18:25:13.320928Z",
     "iopub.status.busy": "2020-09-24T18:25:13.319402Z",
     "iopub.status.idle": "2020-09-24T18:25:13.398772Z",
     "shell.execute_reply": "2020-09-24T18:25:13.399905Z"
    },
    "title": "codecell"
   },
   "outputs": [
    {
     "data": {
      "text/latex": [
       "$\\displaystyle \\left[\\begin{matrix}\\frac{d}{d X} N \\frac{\\partial}{\\partial N} \\left[\\begin{matrix}\\sigma{\\left(n_{11} \\right)} & \\sigma{\\left(n_{12} \\right)}\\\\\\sigma{\\left(n_{21} \\right)} & \\sigma{\\left(n_{22} \\right)}\\\\\\sigma{\\left(n_{31} \\right)} & \\sigma{\\left(n_{32} \\right)}\\end{matrix}\\right] & \\frac{d}{d X} N \\frac{\\partial}{\\partial N} \\left[\\begin{matrix}\\sigma{\\left(n_{11} \\right)} & \\sigma{\\left(n_{12} \\right)}\\\\\\sigma{\\left(n_{21} \\right)} & \\sigma{\\left(n_{22} \\right)}\\\\\\sigma{\\left(n_{31} \\right)} & \\sigma{\\left(n_{32} \\right)}\\end{matrix}\\right]\\\\\\frac{d}{d X} N \\frac{\\partial}{\\partial N} \\left[\\begin{matrix}\\sigma{\\left(n_{11} \\right)} & \\sigma{\\left(n_{12} \\right)}\\\\\\sigma{\\left(n_{21} \\right)} & \\sigma{\\left(n_{22} \\right)}\\\\\\sigma{\\left(n_{31} \\right)} & \\sigma{\\left(n_{32} \\right)}\\end{matrix}\\right] & \\frac{d}{d X} N \\frac{\\partial}{\\partial N} \\left[\\begin{matrix}\\sigma{\\left(n_{11} \\right)} & \\sigma{\\left(n_{12} \\right)}\\\\\\sigma{\\left(n_{21} \\right)} & \\sigma{\\left(n_{22} \\right)}\\\\\\sigma{\\left(n_{31} \\right)} & \\sigma{\\left(n_{32} \\right)}\\end{matrix}\\right]\\\\\\frac{d}{d X} N \\frac{\\partial}{\\partial N} \\left[\\begin{matrix}\\sigma{\\left(n_{11} \\right)} & \\sigma{\\left(n_{12} \\right)}\\\\\\sigma{\\left(n_{21} \\right)} & \\sigma{\\left(n_{22} \\right)}\\\\\\sigma{\\left(n_{31} \\right)} & \\sigma{\\left(n_{32} \\right)}\\end{matrix}\\right] & \\frac{d}{d X} N \\frac{\\partial}{\\partial N} \\left[\\begin{matrix}\\sigma{\\left(n_{11} \\right)} & \\sigma{\\left(n_{12} \\right)}\\\\\\sigma{\\left(n_{21} \\right)} & \\sigma{\\left(n_{22} \\right)}\\\\\\sigma{\\left(n_{31} \\right)} & \\sigma{\\left(n_{32} \\right)}\\end{matrix}\\right]\\end{matrix}\\right]$"
      ],
      "text/plain": [
       "Matrix([\n",
       "[Derivative(N, X)*Derivative(Matrix([\n",
       "[sigma(n_11), sigma(n_12)],\n",
       "[sigma(n_21), sigma(n_22)],\n",
       "[sigma(n_31), sigma(n_32)]]), N), Derivative(N, X)*Derivative(Matrix([\n",
       "[sigma(n_11), sigma(n_12)],\n",
       "[sigma(n_21), sigma(n_22)],\n",
       "[sigma(n_31), sigma(n_32)]]), N)],\n",
       "[Derivative(N, X)*Derivative(Matrix([\n",
       "[sigma(n_11), sigma(n_12)],\n",
       "[sigma(n_21), sigma(n_22)],\n",
       "[sigma(n_31), sigma(n_32)]]), N), Derivative(N, X)*Derivative(Matrix([\n",
       "[sigma(n_11), sigma(n_12)],\n",
       "[sigma(n_21), sigma(n_22)],\n",
       "[sigma(n_31), sigma(n_32)]]), N)],\n",
       "[Derivative(N, X)*Derivative(Matrix([\n",
       "[sigma(n_11), sigma(n_12)],\n",
       "[sigma(n_21), sigma(n_22)],\n",
       "[sigma(n_31), sigma(n_32)]]), N), Derivative(N, X)*Derivative(Matrix([\n",
       "[sigma(n_11), sigma(n_12)],\n",
       "[sigma(n_21), sigma(n_22)],\n",
       "[sigma(n_31), sigma(n_32)]]), N)]])"
      ]
     },
     "execution_count": 1,
     "metadata": {},
     "output_type": "execute_result"
    }
   ],
   "source": [
    "elem.subs({A:X, B:W}).replace(n, vN).replace(sigmaApply, sigmaApply_).replace(lambd, lambd_).replace(X,A).replace(Nelem, Ns).doit()"
   ]
  },
  {
   "cell_type": "code",
   "execution_count": 165,
   "metadata": {
    "execution": {
     "iopub.execute_input": "2020-09-24T18:25:13.405542Z",
     "iopub.status.busy": "2020-09-24T18:25:13.403843Z",
     "iopub.status.idle": "2020-09-24T18:25:13.465862Z",
     "shell.execute_reply": "2020-09-24T18:25:13.467697Z"
    },
    "lines_to_next_cell": 0,
    "title": "codecell"
   },
   "outputs": [
    {
     "data": {
      "text/latex": [
       "$\\displaystyle \\left[\\begin{matrix}\\frac{\\partial}{\\partial X} \\left[\\begin{matrix}n_{11} & n_{12}\\\\n_{21} & n_{22}\\\\n_{31} & n_{32}\\end{matrix}\\right] \\frac{\\partial}{\\partial \\left[\\begin{matrix}n_{11} & n_{12}\\\\n_{21} & n_{22}\\\\n_{31} & n_{32}\\end{matrix}\\right]} \\left[\\begin{matrix}\\sigma{\\left(n_{11} \\right)} & \\sigma{\\left(n_{12} \\right)}\\\\\\sigma{\\left(n_{21} \\right)} & \\sigma{\\left(n_{22} \\right)}\\\\\\sigma{\\left(n_{31} \\right)} & \\sigma{\\left(n_{32} \\right)}\\end{matrix}\\right] & \\frac{\\partial}{\\partial X} \\left[\\begin{matrix}n_{11} & n_{12}\\\\n_{21} & n_{22}\\\\n_{31} & n_{32}\\end{matrix}\\right] \\frac{\\partial}{\\partial \\left[\\begin{matrix}n_{11} & n_{12}\\\\n_{21} & n_{22}\\\\n_{31} & n_{32}\\end{matrix}\\right]} \\left[\\begin{matrix}\\sigma{\\left(n_{11} \\right)} & \\sigma{\\left(n_{12} \\right)}\\\\\\sigma{\\left(n_{21} \\right)} & \\sigma{\\left(n_{22} \\right)}\\\\\\sigma{\\left(n_{31} \\right)} & \\sigma{\\left(n_{32} \\right)}\\end{matrix}\\right]\\\\\\frac{\\partial}{\\partial X} \\left[\\begin{matrix}n_{11} & n_{12}\\\\n_{21} & n_{22}\\\\n_{31} & n_{32}\\end{matrix}\\right] \\frac{\\partial}{\\partial \\left[\\begin{matrix}n_{11} & n_{12}\\\\n_{21} & n_{22}\\\\n_{31} & n_{32}\\end{matrix}\\right]} \\left[\\begin{matrix}\\sigma{\\left(n_{11} \\right)} & \\sigma{\\left(n_{12} \\right)}\\\\\\sigma{\\left(n_{21} \\right)} & \\sigma{\\left(n_{22} \\right)}\\\\\\sigma{\\left(n_{31} \\right)} & \\sigma{\\left(n_{32} \\right)}\\end{matrix}\\right] & \\frac{\\partial}{\\partial X} \\left[\\begin{matrix}n_{11} & n_{12}\\\\n_{21} & n_{22}\\\\n_{31} & n_{32}\\end{matrix}\\right] \\frac{\\partial}{\\partial \\left[\\begin{matrix}n_{11} & n_{12}\\\\n_{21} & n_{22}\\\\n_{31} & n_{32}\\end{matrix}\\right]} \\left[\\begin{matrix}\\sigma{\\left(n_{11} \\right)} & \\sigma{\\left(n_{12} \\right)}\\\\\\sigma{\\left(n_{21} \\right)} & \\sigma{\\left(n_{22} \\right)}\\\\\\sigma{\\left(n_{31} \\right)} & \\sigma{\\left(n_{32} \\right)}\\end{matrix}\\right]\\\\\\frac{\\partial}{\\partial X} \\left[\\begin{matrix}n_{11} & n_{12}\\\\n_{21} & n_{22}\\\\n_{31} & n_{32}\\end{matrix}\\right] \\frac{\\partial}{\\partial \\left[\\begin{matrix}n_{11} & n_{12}\\\\n_{21} & n_{22}\\\\n_{31} & n_{32}\\end{matrix}\\right]} \\left[\\begin{matrix}\\sigma{\\left(n_{11} \\right)} & \\sigma{\\left(n_{12} \\right)}\\\\\\sigma{\\left(n_{21} \\right)} & \\sigma{\\left(n_{22} \\right)}\\\\\\sigma{\\left(n_{31} \\right)} & \\sigma{\\left(n_{32} \\right)}\\end{matrix}\\right] & \\frac{\\partial}{\\partial X} \\left[\\begin{matrix}n_{11} & n_{12}\\\\n_{21} & n_{22}\\\\n_{31} & n_{32}\\end{matrix}\\right] \\frac{\\partial}{\\partial \\left[\\begin{matrix}n_{11} & n_{12}\\\\n_{21} & n_{22}\\\\n_{31} & n_{32}\\end{matrix}\\right]} \\left[\\begin{matrix}\\sigma{\\left(n_{11} \\right)} & \\sigma{\\left(n_{12} \\right)}\\\\\\sigma{\\left(n_{21} \\right)} & \\sigma{\\left(n_{22} \\right)}\\\\\\sigma{\\left(n_{31} \\right)} & \\sigma{\\left(n_{32} \\right)}\\end{matrix}\\right]\\end{matrix}\\right]$"
      ],
      "text/plain": [
       "Matrix([\n",
       "[Derivative(Matrix([\n",
       "[n_11, n_12],\n",
       "[n_21, n_22],\n",
       "[n_31, n_32]]), X)*Derivative(Matrix([\n",
       "[sigma(n_11), sigma(n_12)],\n",
       "[sigma(n_21), sigma(n_22)],\n",
       "[sigma(n_31), sigma(n_32)]]), Matrix([\n",
       "[n_11, n_12],\n",
       "[n_21, n_22],\n",
       "[n_31, n_32]])), Derivative(Matrix([\n",
       "[n_11, n_12],\n",
       "[n_21, n_22],\n",
       "[n_31, n_32]]), X)*Derivative(Matrix([\n",
       "[sigma(n_11), sigma(n_12)],\n",
       "[sigma(n_21), sigma(n_22)],\n",
       "[sigma(n_31), sigma(n_32)]]), Matrix([\n",
       "[n_11, n_12],\n",
       "[n_21, n_22],\n",
       "[n_31, n_32]]))],\n",
       "[Derivative(Matrix([\n",
       "[n_11, n_12],\n",
       "[n_21, n_22],\n",
       "[n_31, n_32]]), X)*Derivative(Matrix([\n",
       "[sigma(n_11), sigma(n_12)],\n",
       "[sigma(n_21), sigma(n_22)],\n",
       "[sigma(n_31), sigma(n_32)]]), Matrix([\n",
       "[n_11, n_12],\n",
       "[n_21, n_22],\n",
       "[n_31, n_32]])), Derivative(Matrix([\n",
       "[n_11, n_12],\n",
       "[n_21, n_22],\n",
       "[n_31, n_32]]), X)*Derivative(Matrix([\n",
       "[sigma(n_11), sigma(n_12)],\n",
       "[sigma(n_21), sigma(n_22)],\n",
       "[sigma(n_31), sigma(n_32)]]), Matrix([\n",
       "[n_11, n_12],\n",
       "[n_21, n_22],\n",
       "[n_31, n_32]]))],\n",
       "[Derivative(Matrix([\n",
       "[n_11, n_12],\n",
       "[n_21, n_22],\n",
       "[n_31, n_32]]), X)*Derivative(Matrix([\n",
       "[sigma(n_11), sigma(n_12)],\n",
       "[sigma(n_21), sigma(n_22)],\n",
       "[sigma(n_31), sigma(n_32)]]), Matrix([\n",
       "[n_11, n_12],\n",
       "[n_21, n_22],\n",
       "[n_31, n_32]])), Derivative(Matrix([\n",
       "[n_11, n_12],\n",
       "[n_21, n_22],\n",
       "[n_31, n_32]]), X)*Derivative(Matrix([\n",
       "[sigma(n_11), sigma(n_12)],\n",
       "[sigma(n_21), sigma(n_22)],\n",
       "[sigma(n_31), sigma(n_32)]]), Matrix([\n",
       "[n_11, n_12],\n",
       "[n_21, n_22],\n",
       "[n_31, n_32]]))]])"
      ]
     },
     "execution_count": 1,
     "metadata": {},
     "output_type": "execute_result"
    }
   ],
   "source": [
    "step.replace(Ns, Nelem)"
   ]
  },
  {
   "cell_type": "code",
   "execution_count": 166,
   "metadata": {
    "execution": {
     "iopub.execute_input": "2020-09-24T18:25:13.473495Z",
     "iopub.status.busy": "2020-09-24T18:25:13.471378Z",
     "iopub.status.idle": "2020-09-24T18:25:13.532004Z",
     "shell.execute_reply": "2020-09-24T18:25:13.533096Z"
    },
    "title": "codecell"
   },
   "outputs": [
    {
     "data": {
      "text/latex": [
       "$\\displaystyle \\frac{\\partial}{\\partial \\left[\\begin{matrix}x_{11} & x_{12} & x_{13}\\\\x_{21} & x_{22} & x_{23}\\\\x_{31} & x_{32} & x_{33}\\end{matrix}\\right]} \\left[\\begin{matrix}\\operatorname{n_{11}}{\\left(x_{11},x_{12},x_{13},x_{21},x_{22},x_{23},x_{31},x_{32},x_{33},w_{11},w_{12},w_{21},w_{22},w_{31},w_{32} \\right)} & \\operatorname{n_{12}}{\\left(x_{11},x_{12},x_{13},x_{21},x_{22},x_{23},x_{31},x_{32},x_{33},w_{11},w_{12},w_{21},w_{22},w_{31},w_{32} \\right)}\\\\\\operatorname{n_{21}}{\\left(x_{11},x_{12},x_{13},x_{21},x_{22},x_{23},x_{31},x_{32},x_{33},w_{11},w_{12},w_{21},w_{22},w_{31},w_{32} \\right)} & \\operatorname{n_{22}}{\\left(x_{11},x_{12},x_{13},x_{21},x_{22},x_{23},x_{31},x_{32},x_{33},w_{11},w_{12},w_{21},w_{22},w_{31},w_{32} \\right)}\\\\\\operatorname{n_{31}}{\\left(x_{11},x_{12},x_{13},x_{21},x_{22},x_{23},x_{31},x_{32},x_{33},w_{11},w_{12},w_{21},w_{22},w_{31},w_{32} \\right)} & \\operatorname{n_{32}}{\\left(x_{11},x_{12},x_{13},x_{21},x_{22},x_{23},x_{31},x_{32},x_{33},w_{11},w_{12},w_{21},w_{22},w_{31},w_{32} \\right)}\\end{matrix}\\right] \\frac{\\partial}{\\partial \\left[\\begin{matrix}\\operatorname{n_{11}}{\\left(x_{11},x_{12},x_{13},x_{21},x_{22},x_{23},x_{31},x_{32},x_{33},w_{11},w_{12},w_{21},w_{22},w_{31},w_{32} \\right)} & \\operatorname{n_{12}}{\\left(x_{11},x_{12},x_{13},x_{21},x_{22},x_{23},x_{31},x_{32},x_{33},w_{11},w_{12},w_{21},w_{22},w_{31},w_{32} \\right)}\\\\\\operatorname{n_{21}}{\\left(x_{11},x_{12},x_{13},x_{21},x_{22},x_{23},x_{31},x_{32},x_{33},w_{11},w_{12},w_{21},w_{22},w_{31},w_{32} \\right)} & \\operatorname{n_{22}}{\\left(x_{11},x_{12},x_{13},x_{21},x_{22},x_{23},x_{31},x_{32},x_{33},w_{11},w_{12},w_{21},w_{22},w_{31},w_{32} \\right)}\\\\\\operatorname{n_{31}}{\\left(x_{11},x_{12},x_{13},x_{21},x_{22},x_{23},x_{31},x_{32},x_{33},w_{11},w_{12},w_{21},w_{22},w_{31},w_{32} \\right)} & \\operatorname{n_{32}}{\\left(x_{11},x_{12},x_{13},x_{21},x_{22},x_{23},x_{31},x_{32},x_{33},w_{11},w_{12},w_{21},w_{22},w_{31},w_{32} \\right)}\\end{matrix}\\right]} \\left[\\begin{matrix}\\sigma{\\left(\\operatorname{n_{11}}{\\left(x_{11},x_{12},x_{13},x_{21},x_{22},x_{23},x_{31},x_{32},x_{33},w_{11},w_{12},w_{21},w_{22},w_{31},w_{32} \\right)} \\right)} & \\sigma{\\left(\\operatorname{n_{12}}{\\left(x_{11},x_{12},x_{13},x_{21},x_{22},x_{23},x_{31},x_{32},x_{33},w_{11},w_{12},w_{21},w_{22},w_{31},w_{32} \\right)} \\right)}\\\\\\sigma{\\left(\\operatorname{n_{21}}{\\left(x_{11},x_{12},x_{13},x_{21},x_{22},x_{23},x_{31},x_{32},x_{33},w_{11},w_{12},w_{21},w_{22},w_{31},w_{32} \\right)} \\right)} & \\sigma{\\left(\\operatorname{n_{22}}{\\left(x_{11},x_{12},x_{13},x_{21},x_{22},x_{23},x_{31},x_{32},x_{33},w_{11},w_{12},w_{21},w_{22},w_{31},w_{32} \\right)} \\right)}\\\\\\sigma{\\left(\\operatorname{n_{31}}{\\left(x_{11},x_{12},x_{13},x_{21},x_{22},x_{23},x_{31},x_{32},x_{33},w_{11},w_{12},w_{21},w_{22},w_{31},w_{32} \\right)} \\right)} & \\sigma{\\left(\\operatorname{n_{32}}{\\left(x_{11},x_{12},x_{13},x_{21},x_{22},x_{23},x_{31},x_{32},x_{33},w_{11},w_{12},w_{21},w_{22},w_{31},w_{32} \\right)} \\right)}\\end{matrix}\\right]$"
      ],
      "text/plain": [
       "Derivative(Matrix([\n",
       "[n_11(x_11, x_12, x_13, x_21, x_22, x_23, x_31, x_32, x_33, w_11, w_12, w_21, w_22, w_31, w_32), n_12(x_11, x_12, x_13, x_21, x_22, x_23, x_31, x_32, x_33, w_11, w_12, w_21, w_22, w_31, w_32)],\n",
       "[n_21(x_11, x_12, x_13, x_21, x_22, x_23, x_31, x_32, x_33, w_11, w_12, w_21, w_22, w_31, w_32), n_22(x_11, x_12, x_13, x_21, x_22, x_23, x_31, x_32, x_33, w_11, w_12, w_21, w_22, w_31, w_32)],\n",
       "[n_31(x_11, x_12, x_13, x_21, x_22, x_23, x_31, x_32, x_33, w_11, w_12, w_21, w_22, w_31, w_32), n_32(x_11, x_12, x_13, x_21, x_22, x_23, x_31, x_32, x_33, w_11, w_12, w_21, w_22, w_31, w_32)]]), Matrix([\n",
       "[x_11, x_12, x_13],\n",
       "[x_21, x_22, x_23],\n",
       "[x_31, x_32, x_33]]))*Derivative(Matrix([\n",
       "[sigma(n_11(x_11, x_12, x_13, x_21, x_22, x_23, x_31, x_32, x_33, w_11, w_12, w_21, w_22, w_31, w_32)), sigma(n_12(x_11, x_12, x_13, x_21, x_22, x_23, x_31, x_32, x_33, w_11, w_12, w_21, w_22, w_31, w_32))],\n",
       "[sigma(n_21(x_11, x_12, x_13, x_21, x_22, x_23, x_31, x_32, x_33, w_11, w_12, w_21, w_22, w_31, w_32)), sigma(n_22(x_11, x_12, x_13, x_21, x_22, x_23, x_31, x_32, x_33, w_11, w_12, w_21, w_22, w_31, w_32))],\n",
       "[sigma(n_31(x_11, x_12, x_13, x_21, x_22, x_23, x_31, x_32, x_33, w_11, w_12, w_21, w_22, w_31, w_32)), sigma(n_32(x_11, x_12, x_13, x_21, x_22, x_23, x_31, x_32, x_33, w_11, w_12, w_21, w_22, w_31, w_32))]]), Matrix([\n",
       "[n_11(x_11, x_12, x_13, x_21, x_22, x_23, x_31, x_32, x_33, w_11, w_12, w_21, w_22, w_31, w_32), n_12(x_11, x_12, x_13, x_21, x_22, x_23, x_31, x_32, x_33, w_11, w_12, w_21, w_22, w_31, w_32)],\n",
       "[n_21(x_11, x_12, x_13, x_21, x_22, x_23, x_31, x_32, x_33, w_11, w_12, w_21, w_22, w_31, w_32), n_22(x_11, x_12, x_13, x_21, x_22, x_23, x_31, x_32, x_33, w_11, w_12, w_21, w_22, w_31, w_32)],\n",
       "[n_31(x_11, x_12, x_13, x_21, x_22, x_23, x_31, x_32, x_33, w_11, w_12, w_21, w_22, w_31, w_32), n_32(x_11, x_12, x_13, x_21, x_22, x_23, x_31, x_32, x_33, w_11, w_12, w_21, w_22, w_31, w_32)]]))"
      ]
     },
     "execution_count": 1,
     "metadata": {},
     "output_type": "execute_result"
    }
   ],
   "source": [
    "#step.replace(Ns, Nelem).replace(A,X).doit()#error immutable dense array has no attribute as base exp ...\n",
    "elem2 = step[0,0].replace(Ns, Nelem)\n",
    "elem2.replace(A,X).subs(elemToSpecFuncArgsD)"
   ]
  },
  {
   "cell_type": "code",
   "execution_count": 167,
   "metadata": {
    "execution": {
     "iopub.execute_input": "2020-09-24T18:25:13.538635Z",
     "iopub.status.busy": "2020-09-24T18:25:13.537132Z",
     "iopub.status.idle": "2020-09-24T18:25:13.564148Z",
     "shell.execute_reply": "2020-09-24T18:25:13.565324Z"
    },
    "lines_to_next_cell": 0,
    "title": "codecell"
   },
   "outputs": [
    {
     "data": {
      "text/latex": [
       "$\\displaystyle \\left[\\begin{matrix}\\operatorname{n_{11}}{\\left(x_{11},x_{12},x_{13},x_{21},x_{22},x_{23},x_{31},x_{32},x_{33},w_{11},w_{12},w_{21},w_{22},w_{31},w_{32} \\right)} & \\operatorname{n_{12}}{\\left(x_{11},x_{12},x_{13},x_{21},x_{22},x_{23},x_{31},x_{32},x_{33},w_{11},w_{12},w_{21},w_{22},w_{31},w_{32} \\right)}\\\\\\operatorname{n_{21}}{\\left(x_{11},x_{12},x_{13},x_{21},x_{22},x_{23},x_{31},x_{32},x_{33},w_{11},w_{12},w_{21},w_{22},w_{31},w_{32} \\right)} & \\operatorname{n_{22}}{\\left(x_{11},x_{12},x_{13},x_{21},x_{22},x_{23},x_{31},x_{32},x_{33},w_{11},w_{12},w_{21},w_{22},w_{31},w_{32} \\right)}\\\\\\operatorname{n_{31}}{\\left(x_{11},x_{12},x_{13},x_{21},x_{22},x_{23},x_{31},x_{32},x_{33},w_{11},w_{12},w_{21},w_{22},w_{31},w_{32} \\right)} & \\operatorname{n_{32}}{\\left(x_{11},x_{12},x_{13},x_{21},x_{22},x_{23},x_{31},x_{32},x_{33},w_{11},w_{12},w_{21},w_{22},w_{31},w_{32} \\right)}\\end{matrix}\\right]$"
      ],
      "text/plain": [
       "Matrix([\n",
       "[n_11(x_11, x_12, x_13, x_21, x_22, x_23, x_31, x_32, x_33, w_11, w_12, w_21, w_22, w_31, w_32), n_12(x_11, x_12, x_13, x_21, x_22, x_23, x_31, x_32, x_33, w_11, w_12, w_21, w_22, w_31, w_32)],\n",
       "[n_21(x_11, x_12, x_13, x_21, x_22, x_23, x_31, x_32, x_33, w_11, w_12, w_21, w_22, w_31, w_32), n_22(x_11, x_12, x_13, x_21, x_22, x_23, x_31, x_32, x_33, w_11, w_12, w_21, w_22, w_31, w_32)],\n",
       "[n_31(x_11, x_12, x_13, x_21, x_22, x_23, x_31, x_32, x_33, w_11, w_12, w_21, w_22, w_31, w_32), n_32(x_11, x_12, x_13, x_21, x_22, x_23, x_31, x_32, x_33, w_11, w_12, w_21, w_22, w_31, w_32)]])"
      ]
     },
     "execution_count": 1,
     "metadata": {},
     "output_type": "execute_result"
    }
   ],
   "source": [
    "#elem2.replace(A,X).subs(elemToSpecFuncArgsD).doit()\n",
    "F = Nelem.subs(elemToSpecFuncArgsD); F"
   ]
  },
  {
   "cell_type": "code",
   "execution_count": 168,
   "metadata": {
    "execution": {
     "iopub.execute_input": "2020-09-24T18:25:13.570080Z",
     "iopub.status.busy": "2020-09-24T18:25:13.568626Z",
     "iopub.status.idle": "2020-09-24T18:25:13.583765Z",
     "shell.execute_reply": "2020-09-24T18:25:13.584819Z"
    },
    "lines_to_next_cell": 2,
    "title": "codecell"
   },
   "outputs": [
    {
     "data": {
      "text/latex": [
       "$\\displaystyle \\frac{\\partial}{\\partial x_{11}} \\operatorname{n_{11}}{\\left(x_{11},x_{12},x_{13},x_{21},x_{22},x_{23},x_{31},x_{32},x_{33},w_{11},w_{12},w_{21},w_{22},w_{31},w_{32} \\right)}$"
      ],
      "text/plain": [
       "Derivative(n_11(x_11, x_12, x_13, x_21, x_22, x_23, x_31, x_32, x_33, w_11, w_12, w_21, w_22, w_31, w_32), x_11)"
      ]
     },
     "execution_count": 1,
     "metadata": {},
     "output_type": "execute_result"
    }
   ],
   "source": [
    "F[0,0].diff(X[0,0])"
   ]
  },
  {
   "cell_type": "code",
   "execution_count": 169,
   "metadata": {
    "execution": {
     "iopub.execute_input": "2020-09-24T18:25:13.589916Z",
     "iopub.status.busy": "2020-09-24T18:25:13.588420Z",
     "iopub.status.idle": "2020-09-24T18:25:13.649754Z",
     "shell.execute_reply": "2020-09-24T18:25:13.650835Z"
    },
    "lines_to_next_cell": 0,
    "title": "codecell"
   },
   "outputs": [
    {
     "data": {
      "text/latex": [
       "$\\displaystyle \\left[\\begin{matrix}\\frac{\\partial}{\\partial x_{11}} \\operatorname{n_{11}}{\\left(x_{11},x_{12},x_{13},x_{21},x_{22},x_{23},x_{31},x_{32},x_{33},w_{11},w_{12},w_{21},w_{22},w_{31},w_{32} \\right)} & \\frac{\\partial}{\\partial x_{12}} \\operatorname{n_{11}}{\\left(x_{11},x_{12},x_{13},x_{21},x_{22},x_{23},x_{31},x_{32},x_{33},w_{11},w_{12},w_{21},w_{22},w_{31},w_{32} \\right)} & \\frac{\\partial}{\\partial x_{13}} \\operatorname{n_{11}}{\\left(x_{11},x_{12},x_{13},x_{21},x_{22},x_{23},x_{31},x_{32},x_{33},w_{11},w_{12},w_{21},w_{22},w_{31},w_{32} \\right)}\\\\\\frac{\\partial}{\\partial x_{21}} \\operatorname{n_{11}}{\\left(x_{11},x_{12},x_{13},x_{21},x_{22},x_{23},x_{31},x_{32},x_{33},w_{11},w_{12},w_{21},w_{22},w_{31},w_{32} \\right)} & \\frac{\\partial}{\\partial x_{22}} \\operatorname{n_{11}}{\\left(x_{11},x_{12},x_{13},x_{21},x_{22},x_{23},x_{31},x_{32},x_{33},w_{11},w_{12},w_{21},w_{22},w_{31},w_{32} \\right)} & \\frac{\\partial}{\\partial x_{23}} \\operatorname{n_{11}}{\\left(x_{11},x_{12},x_{13},x_{21},x_{22},x_{23},x_{31},x_{32},x_{33},w_{11},w_{12},w_{21},w_{22},w_{31},w_{32} \\right)}\\\\\\frac{\\partial}{\\partial x_{31}} \\operatorname{n_{11}}{\\left(x_{11},x_{12},x_{13},x_{21},x_{22},x_{23},x_{31},x_{32},x_{33},w_{11},w_{12},w_{21},w_{22},w_{31},w_{32} \\right)} & \\frac{\\partial}{\\partial x_{32}} \\operatorname{n_{11}}{\\left(x_{11},x_{12},x_{13},x_{21},x_{22},x_{23},x_{31},x_{32},x_{33},w_{11},w_{12},w_{21},w_{22},w_{31},w_{32} \\right)} & \\frac{\\partial}{\\partial x_{33}} \\operatorname{n_{11}}{\\left(x_{11},x_{12},x_{13},x_{21},x_{22},x_{23},x_{31},x_{32},x_{33},w_{11},w_{12},w_{21},w_{22},w_{31},w_{32} \\right)}\\end{matrix}\\right]$"
      ],
      "text/plain": [
       "Matrix([\n",
       "[Derivative(n_11(x_11, x_12, x_13, x_21, x_22, x_23, x_31, x_32, x_33, w_11, w_12, w_21, w_22, w_31, w_32), x_11), Derivative(n_11(x_11, x_12, x_13, x_21, x_22, x_23, x_31, x_32, x_33, w_11, w_12, w_21, w_22, w_31, w_32), x_12), Derivative(n_11(x_11, x_12, x_13, x_21, x_22, x_23, x_31, x_32, x_33, w_11, w_12, w_21, w_22, w_31, w_32), x_13)],\n",
       "[Derivative(n_11(x_11, x_12, x_13, x_21, x_22, x_23, x_31, x_32, x_33, w_11, w_12, w_21, w_22, w_31, w_32), x_21), Derivative(n_11(x_11, x_12, x_13, x_21, x_22, x_23, x_31, x_32, x_33, w_11, w_12, w_21, w_22, w_31, w_32), x_22), Derivative(n_11(x_11, x_12, x_13, x_21, x_22, x_23, x_31, x_32, x_33, w_11, w_12, w_21, w_22, w_31, w_32), x_23)],\n",
       "[Derivative(n_11(x_11, x_12, x_13, x_21, x_22, x_23, x_31, x_32, x_33, w_11, w_12, w_21, w_22, w_31, w_32), x_31), Derivative(n_11(x_11, x_12, x_13, x_21, x_22, x_23, x_31, x_32, x_33, w_11, w_12, w_21, w_22, w_31, w_32), x_32), Derivative(n_11(x_11, x_12, x_13, x_21, x_22, x_23, x_31, x_32, x_33, w_11, w_12, w_21, w_22, w_31, w_32), x_33)]])"
      ]
     },
     "execution_count": 1,
     "metadata": {},
     "output_type": "execute_result"
    }
   ],
   "source": [
    "F[0,0].diff(X)"
   ]
  },
  {
   "cell_type": "code",
   "execution_count": 170,
   "metadata": {
    "execution": {
     "iopub.execute_input": "2020-09-24T18:25:13.655782Z",
     "iopub.status.busy": "2020-09-24T18:25:13.654211Z",
     "iopub.status.idle": "2020-09-24T18:25:13.957058Z",
     "shell.execute_reply": "2020-09-24T18:25:13.958260Z"
    },
    "lines_to_next_cell": 0,
    "title": "codecell"
   },
   "outputs": [
    {
     "data": {
      "text/latex": [
       "$\\displaystyle \\left[\\begin{matrix}\\left[\\begin{matrix}\\frac{\\partial}{\\partial x_{11}} \\operatorname{n_{11}}{\\left(x_{11},x_{12},x_{13},x_{21},x_{22},x_{23},x_{31},x_{32},x_{33},w_{11},w_{12},w_{21},w_{22},w_{31},w_{32} \\right)} & \\frac{\\partial}{\\partial x_{11}} \\operatorname{n_{12}}{\\left(x_{11},x_{12},x_{13},x_{21},x_{22},x_{23},x_{31},x_{32},x_{33},w_{11},w_{12},w_{21},w_{22},w_{31},w_{32} \\right)}\\\\\\frac{\\partial}{\\partial x_{11}} \\operatorname{n_{21}}{\\left(x_{11},x_{12},x_{13},x_{21},x_{22},x_{23},x_{31},x_{32},x_{33},w_{11},w_{12},w_{21},w_{22},w_{31},w_{32} \\right)} & \\frac{\\partial}{\\partial x_{11}} \\operatorname{n_{22}}{\\left(x_{11},x_{12},x_{13},x_{21},x_{22},x_{23},x_{31},x_{32},x_{33},w_{11},w_{12},w_{21},w_{22},w_{31},w_{32} \\right)}\\\\\\frac{\\partial}{\\partial x_{11}} \\operatorname{n_{31}}{\\left(x_{11},x_{12},x_{13},x_{21},x_{22},x_{23},x_{31},x_{32},x_{33},w_{11},w_{12},w_{21},w_{22},w_{31},w_{32} \\right)} & \\frac{\\partial}{\\partial x_{11}} \\operatorname{n_{32}}{\\left(x_{11},x_{12},x_{13},x_{21},x_{22},x_{23},x_{31},x_{32},x_{33},w_{11},w_{12},w_{21},w_{22},w_{31},w_{32} \\right)}\\end{matrix}\\right] & \\left[\\begin{matrix}\\frac{\\partial}{\\partial x_{12}} \\operatorname{n_{11}}{\\left(x_{11},x_{12},x_{13},x_{21},x_{22},x_{23},x_{31},x_{32},x_{33},w_{11},w_{12},w_{21},w_{22},w_{31},w_{32} \\right)} & \\frac{\\partial}{\\partial x_{12}} \\operatorname{n_{12}}{\\left(x_{11},x_{12},x_{13},x_{21},x_{22},x_{23},x_{31},x_{32},x_{33},w_{11},w_{12},w_{21},w_{22},w_{31},w_{32} \\right)}\\\\\\frac{\\partial}{\\partial x_{12}} \\operatorname{n_{21}}{\\left(x_{11},x_{12},x_{13},x_{21},x_{22},x_{23},x_{31},x_{32},x_{33},w_{11},w_{12},w_{21},w_{22},w_{31},w_{32} \\right)} & \\frac{\\partial}{\\partial x_{12}} \\operatorname{n_{22}}{\\left(x_{11},x_{12},x_{13},x_{21},x_{22},x_{23},x_{31},x_{32},x_{33},w_{11},w_{12},w_{21},w_{22},w_{31},w_{32} \\right)}\\\\\\frac{\\partial}{\\partial x_{12}} \\operatorname{n_{31}}{\\left(x_{11},x_{12},x_{13},x_{21},x_{22},x_{23},x_{31},x_{32},x_{33},w_{11},w_{12},w_{21},w_{22},w_{31},w_{32} \\right)} & \\frac{\\partial}{\\partial x_{12}} \\operatorname{n_{32}}{\\left(x_{11},x_{12},x_{13},x_{21},x_{22},x_{23},x_{31},x_{32},x_{33},w_{11},w_{12},w_{21},w_{22},w_{31},w_{32} \\right)}\\end{matrix}\\right] & \\left[\\begin{matrix}\\frac{\\partial}{\\partial x_{13}} \\operatorname{n_{11}}{\\left(x_{11},x_{12},x_{13},x_{21},x_{22},x_{23},x_{31},x_{32},x_{33},w_{11},w_{12},w_{21},w_{22},w_{31},w_{32} \\right)} & \\frac{\\partial}{\\partial x_{13}} \\operatorname{n_{12}}{\\left(x_{11},x_{12},x_{13},x_{21},x_{22},x_{23},x_{31},x_{32},x_{33},w_{11},w_{12},w_{21},w_{22},w_{31},w_{32} \\right)}\\\\\\frac{\\partial}{\\partial x_{13}} \\operatorname{n_{21}}{\\left(x_{11},x_{12},x_{13},x_{21},x_{22},x_{23},x_{31},x_{32},x_{33},w_{11},w_{12},w_{21},w_{22},w_{31},w_{32} \\right)} & \\frac{\\partial}{\\partial x_{13}} \\operatorname{n_{22}}{\\left(x_{11},x_{12},x_{13},x_{21},x_{22},x_{23},x_{31},x_{32},x_{33},w_{11},w_{12},w_{21},w_{22},w_{31},w_{32} \\right)}\\\\\\frac{\\partial}{\\partial x_{13}} \\operatorname{n_{31}}{\\left(x_{11},x_{12},x_{13},x_{21},x_{22},x_{23},x_{31},x_{32},x_{33},w_{11},w_{12},w_{21},w_{22},w_{31},w_{32} \\right)} & \\frac{\\partial}{\\partial x_{13}} \\operatorname{n_{32}}{\\left(x_{11},x_{12},x_{13},x_{21},x_{22},x_{23},x_{31},x_{32},x_{33},w_{11},w_{12},w_{21},w_{22},w_{31},w_{32} \\right)}\\end{matrix}\\right]\\\\\\left[\\begin{matrix}\\frac{\\partial}{\\partial x_{21}} \\operatorname{n_{11}}{\\left(x_{11},x_{12},x_{13},x_{21},x_{22},x_{23},x_{31},x_{32},x_{33},w_{11},w_{12},w_{21},w_{22},w_{31},w_{32} \\right)} & \\frac{\\partial}{\\partial x_{21}} \\operatorname{n_{12}}{\\left(x_{11},x_{12},x_{13},x_{21},x_{22},x_{23},x_{31},x_{32},x_{33},w_{11},w_{12},w_{21},w_{22},w_{31},w_{32} \\right)}\\\\\\frac{\\partial}{\\partial x_{21}} \\operatorname{n_{21}}{\\left(x_{11},x_{12},x_{13},x_{21},x_{22},x_{23},x_{31},x_{32},x_{33},w_{11},w_{12},w_{21},w_{22},w_{31},w_{32} \\right)} & \\frac{\\partial}{\\partial x_{21}} \\operatorname{n_{22}}{\\left(x_{11},x_{12},x_{13},x_{21},x_{22},x_{23},x_{31},x_{32},x_{33},w_{11},w_{12},w_{21},w_{22},w_{31},w_{32} \\right)}\\\\\\frac{\\partial}{\\partial x_{21}} \\operatorname{n_{31}}{\\left(x_{11},x_{12},x_{13},x_{21},x_{22},x_{23},x_{31},x_{32},x_{33},w_{11},w_{12},w_{21},w_{22},w_{31},w_{32} \\right)} & \\frac{\\partial}{\\partial x_{21}} \\operatorname{n_{32}}{\\left(x_{11},x_{12},x_{13},x_{21},x_{22},x_{23},x_{31},x_{32},x_{33},w_{11},w_{12},w_{21},w_{22},w_{31},w_{32} \\right)}\\end{matrix}\\right] & \\left[\\begin{matrix}\\frac{\\partial}{\\partial x_{22}} \\operatorname{n_{11}}{\\left(x_{11},x_{12},x_{13},x_{21},x_{22},x_{23},x_{31},x_{32},x_{33},w_{11},w_{12},w_{21},w_{22},w_{31},w_{32} \\right)} & \\frac{\\partial}{\\partial x_{22}} \\operatorname{n_{12}}{\\left(x_{11},x_{12},x_{13},x_{21},x_{22},x_{23},x_{31},x_{32},x_{33},w_{11},w_{12},w_{21},w_{22},w_{31},w_{32} \\right)}\\\\\\frac{\\partial}{\\partial x_{22}} \\operatorname{n_{21}}{\\left(x_{11},x_{12},x_{13},x_{21},x_{22},x_{23},x_{31},x_{32},x_{33},w_{11},w_{12},w_{21},w_{22},w_{31},w_{32} \\right)} & \\frac{\\partial}{\\partial x_{22}} \\operatorname{n_{22}}{\\left(x_{11},x_{12},x_{13},x_{21},x_{22},x_{23},x_{31},x_{32},x_{33},w_{11},w_{12},w_{21},w_{22},w_{31},w_{32} \\right)}\\\\\\frac{\\partial}{\\partial x_{22}} \\operatorname{n_{31}}{\\left(x_{11},x_{12},x_{13},x_{21},x_{22},x_{23},x_{31},x_{32},x_{33},w_{11},w_{12},w_{21},w_{22},w_{31},w_{32} \\right)} & \\frac{\\partial}{\\partial x_{22}} \\operatorname{n_{32}}{\\left(x_{11},x_{12},x_{13},x_{21},x_{22},x_{23},x_{31},x_{32},x_{33},w_{11},w_{12},w_{21},w_{22},w_{31},w_{32} \\right)}\\end{matrix}\\right] & \\left[\\begin{matrix}\\frac{\\partial}{\\partial x_{23}} \\operatorname{n_{11}}{\\left(x_{11},x_{12},x_{13},x_{21},x_{22},x_{23},x_{31},x_{32},x_{33},w_{11},w_{12},w_{21},w_{22},w_{31},w_{32} \\right)} & \\frac{\\partial}{\\partial x_{23}} \\operatorname{n_{12}}{\\left(x_{11},x_{12},x_{13},x_{21},x_{22},x_{23},x_{31},x_{32},x_{33},w_{11},w_{12},w_{21},w_{22},w_{31},w_{32} \\right)}\\\\\\frac{\\partial}{\\partial x_{23}} \\operatorname{n_{21}}{\\left(x_{11},x_{12},x_{13},x_{21},x_{22},x_{23},x_{31},x_{32},x_{33},w_{11},w_{12},w_{21},w_{22},w_{31},w_{32} \\right)} & \\frac{\\partial}{\\partial x_{23}} \\operatorname{n_{22}}{\\left(x_{11},x_{12},x_{13},x_{21},x_{22},x_{23},x_{31},x_{32},x_{33},w_{11},w_{12},w_{21},w_{22},w_{31},w_{32} \\right)}\\\\\\frac{\\partial}{\\partial x_{23}} \\operatorname{n_{31}}{\\left(x_{11},x_{12},x_{13},x_{21},x_{22},x_{23},x_{31},x_{32},x_{33},w_{11},w_{12},w_{21},w_{22},w_{31},w_{32} \\right)} & \\frac{\\partial}{\\partial x_{23}} \\operatorname{n_{32}}{\\left(x_{11},x_{12},x_{13},x_{21},x_{22},x_{23},x_{31},x_{32},x_{33},w_{11},w_{12},w_{21},w_{22},w_{31},w_{32} \\right)}\\end{matrix}\\right]\\\\\\left[\\begin{matrix}\\frac{\\partial}{\\partial x_{31}} \\operatorname{n_{11}}{\\left(x_{11},x_{12},x_{13},x_{21},x_{22},x_{23},x_{31},x_{32},x_{33},w_{11},w_{12},w_{21},w_{22},w_{31},w_{32} \\right)} & \\frac{\\partial}{\\partial x_{31}} \\operatorname{n_{12}}{\\left(x_{11},x_{12},x_{13},x_{21},x_{22},x_{23},x_{31},x_{32},x_{33},w_{11},w_{12},w_{21},w_{22},w_{31},w_{32} \\right)}\\\\\\frac{\\partial}{\\partial x_{31}} \\operatorname{n_{21}}{\\left(x_{11},x_{12},x_{13},x_{21},x_{22},x_{23},x_{31},x_{32},x_{33},w_{11},w_{12},w_{21},w_{22},w_{31},w_{32} \\right)} & \\frac{\\partial}{\\partial x_{31}} \\operatorname{n_{22}}{\\left(x_{11},x_{12},x_{13},x_{21},x_{22},x_{23},x_{31},x_{32},x_{33},w_{11},w_{12},w_{21},w_{22},w_{31},w_{32} \\right)}\\\\\\frac{\\partial}{\\partial x_{31}} \\operatorname{n_{31}}{\\left(x_{11},x_{12},x_{13},x_{21},x_{22},x_{23},x_{31},x_{32},x_{33},w_{11},w_{12},w_{21},w_{22},w_{31},w_{32} \\right)} & \\frac{\\partial}{\\partial x_{31}} \\operatorname{n_{32}}{\\left(x_{11},x_{12},x_{13},x_{21},x_{22},x_{23},x_{31},x_{32},x_{33},w_{11},w_{12},w_{21},w_{22},w_{31},w_{32} \\right)}\\end{matrix}\\right] & \\left[\\begin{matrix}\\frac{\\partial}{\\partial x_{32}} \\operatorname{n_{11}}{\\left(x_{11},x_{12},x_{13},x_{21},x_{22},x_{23},x_{31},x_{32},x_{33},w_{11},w_{12},w_{21},w_{22},w_{31},w_{32} \\right)} & \\frac{\\partial}{\\partial x_{32}} \\operatorname{n_{12}}{\\left(x_{11},x_{12},x_{13},x_{21},x_{22},x_{23},x_{31},x_{32},x_{33},w_{11},w_{12},w_{21},w_{22},w_{31},w_{32} \\right)}\\\\\\frac{\\partial}{\\partial x_{32}} \\operatorname{n_{21}}{\\left(x_{11},x_{12},x_{13},x_{21},x_{22},x_{23},x_{31},x_{32},x_{33},w_{11},w_{12},w_{21},w_{22},w_{31},w_{32} \\right)} & \\frac{\\partial}{\\partial x_{32}} \\operatorname{n_{22}}{\\left(x_{11},x_{12},x_{13},x_{21},x_{22},x_{23},x_{31},x_{32},x_{33},w_{11},w_{12},w_{21},w_{22},w_{31},w_{32} \\right)}\\\\\\frac{\\partial}{\\partial x_{32}} \\operatorname{n_{31}}{\\left(x_{11},x_{12},x_{13},x_{21},x_{22},x_{23},x_{31},x_{32},x_{33},w_{11},w_{12},w_{21},w_{22},w_{31},w_{32} \\right)} & \\frac{\\partial}{\\partial x_{32}} \\operatorname{n_{32}}{\\left(x_{11},x_{12},x_{13},x_{21},x_{22},x_{23},x_{31},x_{32},x_{33},w_{11},w_{12},w_{21},w_{22},w_{31},w_{32} \\right)}\\end{matrix}\\right] & \\left[\\begin{matrix}\\frac{\\partial}{\\partial x_{33}} \\operatorname{n_{11}}{\\left(x_{11},x_{12},x_{13},x_{21},x_{22},x_{23},x_{31},x_{32},x_{33},w_{11},w_{12},w_{21},w_{22},w_{31},w_{32} \\right)} & \\frac{\\partial}{\\partial x_{33}} \\operatorname{n_{12}}{\\left(x_{11},x_{12},x_{13},x_{21},x_{22},x_{23},x_{31},x_{32},x_{33},w_{11},w_{12},w_{21},w_{22},w_{31},w_{32} \\right)}\\\\\\frac{\\partial}{\\partial x_{33}} \\operatorname{n_{21}}{\\left(x_{11},x_{12},x_{13},x_{21},x_{22},x_{23},x_{31},x_{32},x_{33},w_{11},w_{12},w_{21},w_{22},w_{31},w_{32} \\right)} & \\frac{\\partial}{\\partial x_{33}} \\operatorname{n_{22}}{\\left(x_{11},x_{12},x_{13},x_{21},x_{22},x_{23},x_{31},x_{32},x_{33},w_{11},w_{12},w_{21},w_{22},w_{31},w_{32} \\right)}\\\\\\frac{\\partial}{\\partial x_{33}} \\operatorname{n_{31}}{\\left(x_{11},x_{12},x_{13},x_{21},x_{22},x_{23},x_{31},x_{32},x_{33},w_{11},w_{12},w_{21},w_{22},w_{31},w_{32} \\right)} & \\frac{\\partial}{\\partial x_{33}} \\operatorname{n_{32}}{\\left(x_{11},x_{12},x_{13},x_{21},x_{22},x_{23},x_{31},x_{32},x_{33},w_{11},w_{12},w_{21},w_{22},w_{31},w_{32} \\right)}\\end{matrix}\\right]\\end{matrix}\\right]$"
      ],
      "text/plain": [
       "[[[[Derivative(n_11(x_11, x_12, x_13, x_21, x_22, x_23, x_31, x_32, x_33, w_11, w_12, w_21, w_22, w_31, w_32), x_11), Derivative(n_12(x_11, x_12, x_13, x_21, x_22, x_23, x_31, x_32, x_33, w_11, w_12, w_21, w_22, w_31, w_32), x_11)], [Derivative(n_21(x_11, x_12, x_13, x_21, x_22, x_23, x_31, x_32, x_33, w_11, w_12, w_21, w_22, w_31, w_32), x_11), Derivative(n_22(x_11, x_12, x_13, x_21, x_22, x_23, x_31, x_32, x_33, w_11, w_12, w_21, w_22, w_31, w_32), x_11)], [Derivative(n_31(x_11, x_12, x_13, x_21, x_22, x_23, x_31, x_32, x_33, w_11, w_12, w_21, w_22, w_31, w_32), x_11), Derivative(n_32(x_11, x_12, x_13, x_21, x_22, x_23, x_31, x_32, x_33, w_11, w_12, w_21, w_22, w_31, w_32), x_11)]], [[Derivative(n_11(x_11, x_12, x_13, x_21, x_22, x_23, x_31, x_32, x_33, w_11, w_12, w_21, w_22, w_31, w_32), x_12), Derivative(n_12(x_11, x_12, x_13, x_21, x_22, x_23, x_31, x_32, x_33, w_11, w_12, w_21, w_22, w_31, w_32), x_12)], [Derivative(n_21(x_11, x_12, x_13, x_21, x_22, x_23, x_31, x_32, x_33, w_11, w_12, w_21, w_22, w_31, w_32), x_12), Derivative(n_22(x_11, x_12, x_13, x_21, x_22, x_23, x_31, x_32, x_33, w_11, w_12, w_21, w_22, w_31, w_32), x_12)], [Derivative(n_31(x_11, x_12, x_13, x_21, x_22, x_23, x_31, x_32, x_33, w_11, w_12, w_21, w_22, w_31, w_32), x_12), Derivative(n_32(x_11, x_12, x_13, x_21, x_22, x_23, x_31, x_32, x_33, w_11, w_12, w_21, w_22, w_31, w_32), x_12)]], [[Derivative(n_11(x_11, x_12, x_13, x_21, x_22, x_23, x_31, x_32, x_33, w_11, w_12, w_21, w_22, w_31, w_32), x_13), Derivative(n_12(x_11, x_12, x_13, x_21, x_22, x_23, x_31, x_32, x_33, w_11, w_12, w_21, w_22, w_31, w_32), x_13)], [Derivative(n_21(x_11, x_12, x_13, x_21, x_22, x_23, x_31, x_32, x_33, w_11, w_12, w_21, w_22, w_31, w_32), x_13), Derivative(n_22(x_11, x_12, x_13, x_21, x_22, x_23, x_31, x_32, x_33, w_11, w_12, w_21, w_22, w_31, w_32), x_13)], [Derivative(n_31(x_11, x_12, x_13, x_21, x_22, x_23, x_31, x_32, x_33, w_11, w_12, w_21, w_22, w_31, w_32), x_13), Derivative(n_32(x_11, x_12, x_13, x_21, x_22, x_23, x_31, x_32, x_33, w_11, w_12, w_21, w_22, w_31, w_32), x_13)]]], [[[Derivative(n_11(x_11, x_12, x_13, x_21, x_22, x_23, x_31, x_32, x_33, w_11, w_12, w_21, w_22, w_31, w_32), x_21), Derivative(n_12(x_11, x_12, x_13, x_21, x_22, x_23, x_31, x_32, x_33, w_11, w_12, w_21, w_22, w_31, w_32), x_21)], [Derivative(n_21(x_11, x_12, x_13, x_21, x_22, x_23, x_31, x_32, x_33, w_11, w_12, w_21, w_22, w_31, w_32), x_21), Derivative(n_22(x_11, x_12, x_13, x_21, x_22, x_23, x_31, x_32, x_33, w_11, w_12, w_21, w_22, w_31, w_32), x_21)], [Derivative(n_31(x_11, x_12, x_13, x_21, x_22, x_23, x_31, x_32, x_33, w_11, w_12, w_21, w_22, w_31, w_32), x_21), Derivative(n_32(x_11, x_12, x_13, x_21, x_22, x_23, x_31, x_32, x_33, w_11, w_12, w_21, w_22, w_31, w_32), x_21)]], [[Derivative(n_11(x_11, x_12, x_13, x_21, x_22, x_23, x_31, x_32, x_33, w_11, w_12, w_21, w_22, w_31, w_32), x_22), Derivative(n_12(x_11, x_12, x_13, x_21, x_22, x_23, x_31, x_32, x_33, w_11, w_12, w_21, w_22, w_31, w_32), x_22)], [Derivative(n_21(x_11, x_12, x_13, x_21, x_22, x_23, x_31, x_32, x_33, w_11, w_12, w_21, w_22, w_31, w_32), x_22), Derivative(n_22(x_11, x_12, x_13, x_21, x_22, x_23, x_31, x_32, x_33, w_11, w_12, w_21, w_22, w_31, w_32), x_22)], [Derivative(n_31(x_11, x_12, x_13, x_21, x_22, x_23, x_31, x_32, x_33, w_11, w_12, w_21, w_22, w_31, w_32), x_22), Derivative(n_32(x_11, x_12, x_13, x_21, x_22, x_23, x_31, x_32, x_33, w_11, w_12, w_21, w_22, w_31, w_32), x_22)]], [[Derivative(n_11(x_11, x_12, x_13, x_21, x_22, x_23, x_31, x_32, x_33, w_11, w_12, w_21, w_22, w_31, w_32), x_23), Derivative(n_12(x_11, x_12, x_13, x_21, x_22, x_23, x_31, x_32, x_33, w_11, w_12, w_21, w_22, w_31, w_32), x_23)], [Derivative(n_21(x_11, x_12, x_13, x_21, x_22, x_23, x_31, x_32, x_33, w_11, w_12, w_21, w_22, w_31, w_32), x_23), Derivative(n_22(x_11, x_12, x_13, x_21, x_22, x_23, x_31, x_32, x_33, w_11, w_12, w_21, w_22, w_31, w_32), x_23)], [Derivative(n_31(x_11, x_12, x_13, x_21, x_22, x_23, x_31, x_32, x_33, w_11, w_12, w_21, w_22, w_31, w_32), x_23), Derivative(n_32(x_11, x_12, x_13, x_21, x_22, x_23, x_31, x_32, x_33, w_11, w_12, w_21, w_22, w_31, w_32), x_23)]]], [[[Derivative(n_11(x_11, x_12, x_13, x_21, x_22, x_23, x_31, x_32, x_33, w_11, w_12, w_21, w_22, w_31, w_32), x_31), Derivative(n_12(x_11, x_12, x_13, x_21, x_22, x_23, x_31, x_32, x_33, w_11, w_12, w_21, w_22, w_31, w_32), x_31)], [Derivative(n_21(x_11, x_12, x_13, x_21, x_22, x_23, x_31, x_32, x_33, w_11, w_12, w_21, w_22, w_31, w_32), x_31), Derivative(n_22(x_11, x_12, x_13, x_21, x_22, x_23, x_31, x_32, x_33, w_11, w_12, w_21, w_22, w_31, w_32), x_31)], [Derivative(n_31(x_11, x_12, x_13, x_21, x_22, x_23, x_31, x_32, x_33, w_11, w_12, w_21, w_22, w_31, w_32), x_31), Derivative(n_32(x_11, x_12, x_13, x_21, x_22, x_23, x_31, x_32, x_33, w_11, w_12, w_21, w_22, w_31, w_32), x_31)]], [[Derivative(n_11(x_11, x_12, x_13, x_21, x_22, x_23, x_31, x_32, x_33, w_11, w_12, w_21, w_22, w_31, w_32), x_32), Derivative(n_12(x_11, x_12, x_13, x_21, x_22, x_23, x_31, x_32, x_33, w_11, w_12, w_21, w_22, w_31, w_32), x_32)], [Derivative(n_21(x_11, x_12, x_13, x_21, x_22, x_23, x_31, x_32, x_33, w_11, w_12, w_21, w_22, w_31, w_32), x_32), Derivative(n_22(x_11, x_12, x_13, x_21, x_22, x_23, x_31, x_32, x_33, w_11, w_12, w_21, w_22, w_31, w_32), x_32)], [Derivative(n_31(x_11, x_12, x_13, x_21, x_22, x_23, x_31, x_32, x_33, w_11, w_12, w_21, w_22, w_31, w_32), x_32), Derivative(n_32(x_11, x_12, x_13, x_21, x_22, x_23, x_31, x_32, x_33, w_11, w_12, w_21, w_22, w_31, w_32), x_32)]], [[Derivative(n_11(x_11, x_12, x_13, x_21, x_22, x_23, x_31, x_32, x_33, w_11, w_12, w_21, w_22, w_31, w_32), x_33), Derivative(n_12(x_11, x_12, x_13, x_21, x_22, x_23, x_31, x_32, x_33, w_11, w_12, w_21, w_22, w_31, w_32), x_33)], [Derivative(n_21(x_11, x_12, x_13, x_21, x_22, x_23, x_31, x_32, x_33, w_11, w_12, w_21, w_22, w_31, w_32), x_33), Derivative(n_22(x_11, x_12, x_13, x_21, x_22, x_23, x_31, x_32, x_33, w_11, w_12, w_21, w_22, w_31, w_32), x_33)], [Derivative(n_31(x_11, x_12, x_13, x_21, x_22, x_23, x_31, x_32, x_33, w_11, w_12, w_21, w_22, w_31, w_32), x_33), Derivative(n_32(x_11, x_12, x_13, x_21, x_22, x_23, x_31, x_32, x_33, w_11, w_12, w_21, w_22, w_31, w_32), x_33)]]]]"
      ]
     },
     "execution_count": 1,
     "metadata": {},
     "output_type": "execute_result"
    }
   ],
   "source": [
    "F.diff(X)"
   ]
  },
  {
   "cell_type": "code",
   "execution_count": 171,
   "metadata": {
    "execution": {
     "iopub.execute_input": "2020-09-24T18:25:13.968355Z",
     "iopub.status.busy": "2020-09-24T18:25:13.961726Z",
     "iopub.status.idle": "2020-09-24T18:25:14.003266Z",
     "shell.execute_reply": "2020-09-24T18:25:14.004374Z"
    },
    "lines_to_next_cell": 0,
    "title": "codecell"
   },
   "outputs": [
    {
     "data": {
      "text/latex": [
       "$\\displaystyle \\left[\\begin{matrix}\\operatorname{n_{11}}{\\left(x_{11},x_{12},x_{13},x_{21},x_{22},x_{23},x_{31},x_{32},x_{33},w_{11},w_{12},w_{21},w_{22},w_{31},w_{32} \\right)} & w_{11} x_{11} + w_{21} x_{12} + w_{31} x_{13}\\\\\\operatorname{n_{12}}{\\left(x_{11},x_{12},x_{13},x_{21},x_{22},x_{23},x_{31},x_{32},x_{33},w_{11},w_{12},w_{21},w_{22},w_{31},w_{32} \\right)} & w_{12} x_{11} + w_{22} x_{12} + w_{32} x_{13}\\\\\\operatorname{n_{21}}{\\left(x_{11},x_{12},x_{13},x_{21},x_{22},x_{23},x_{31},x_{32},x_{33},w_{11},w_{12},w_{21},w_{22},w_{31},w_{32} \\right)} & w_{11} x_{21} + w_{21} x_{22} + w_{31} x_{23}\\\\\\operatorname{n_{22}}{\\left(x_{11},x_{12},x_{13},x_{21},x_{22},x_{23},x_{31},x_{32},x_{33},w_{11},w_{12},w_{21},w_{22},w_{31},w_{32} \\right)} & w_{12} x_{21} + w_{22} x_{22} + w_{32} x_{23}\\\\\\operatorname{n_{31}}{\\left(x_{11},x_{12},x_{13},x_{21},x_{22},x_{23},x_{31},x_{32},x_{33},w_{11},w_{12},w_{21},w_{22},w_{31},w_{32} \\right)} & w_{11} x_{31} + w_{21} x_{32} + w_{31} x_{33}\\\\\\operatorname{n_{32}}{\\left(x_{11},x_{12},x_{13},x_{21},x_{22},x_{23},x_{31},x_{32},x_{33},w_{11},w_{12},w_{21},w_{22},w_{31},w_{32} \\right)} & w_{12} x_{31} + w_{22} x_{32} + w_{32} x_{33}\\end{matrix}\\right]$"
      ],
      "text/plain": [
       "Matrix([\n",
       "[n_11(x_11, x_12, x_13, x_21, x_22, x_23, x_31, x_32, x_33, w_11, w_12, w_21, w_22, w_31, w_32), w_11*x_11 + w_21*x_12 + w_31*x_13],\n",
       "[n_12(x_11, x_12, x_13, x_21, x_22, x_23, x_31, x_32, x_33, w_11, w_12, w_21, w_22, w_31, w_32), w_12*x_11 + w_22*x_12 + w_32*x_13],\n",
       "[n_21(x_11, x_12, x_13, x_21, x_22, x_23, x_31, x_32, x_33, w_11, w_12, w_21, w_22, w_31, w_32), w_11*x_21 + w_21*x_22 + w_31*x_23],\n",
       "[n_22(x_11, x_12, x_13, x_21, x_22, x_23, x_31, x_32, x_33, w_11, w_12, w_21, w_22, w_31, w_32), w_12*x_21 + w_22*x_22 + w_32*x_23],\n",
       "[n_31(x_11, x_12, x_13, x_21, x_22, x_23, x_31, x_32, x_33, w_11, w_12, w_21, w_22, w_31, w_32), w_11*x_31 + w_21*x_32 + w_31*x_33],\n",
       "[n_32(x_11, x_12, x_13, x_21, x_22, x_23, x_31, x_32, x_33, w_11, w_12, w_21, w_22, w_31, w_32), w_12*x_31 + w_22*x_32 + w_32*x_33]])"
      ]
     },
     "execution_count": 1,
     "metadata": {},
     "output_type": "execute_result"
    }
   ],
   "source": [
    "argsToSpecD = dict(zip(elemToSpecFuncArgsD.values(), elemToSpecD.values()))\n",
    "argsToSpec = list(argsToSpecD.items())\n",
    "Matrix(argsToSpec)"
   ]
  },
  {
   "cell_type": "code",
   "execution_count": 172,
   "metadata": {
    "execution": {
     "iopub.execute_input": "2020-09-24T18:25:14.009802Z",
     "iopub.status.busy": "2020-09-24T18:25:14.007703Z",
     "iopub.status.idle": "2020-09-24T18:25:14.035047Z",
     "shell.execute_reply": "2020-09-24T18:25:14.036143Z"
    },
    "lines_to_next_cell": 0,
    "title": "codecell"
   },
   "outputs": [
    {
     "data": {
      "text/latex": [
       "$\\displaystyle \\frac{\\partial}{\\partial x_{11}} \\left(w_{11} x_{11} + w_{21} x_{12} + w_{31} x_{13}\\right)$"
      ],
      "text/plain": [
       "Derivative(w_11*x_11 + w_21*x_12 + w_31*x_13, x_11)"
      ]
     },
     "execution_count": 1,
     "metadata": {},
     "output_type": "execute_result"
    }
   ],
   "source": [
    "F[0,0].diff(X[0,0]).subs(argsToSpecD)#.subs({elemToSpecFuncArgs[0][1] : Nspec[0,0]})"
   ]
  },
  {
   "cell_type": "code",
   "execution_count": 173,
   "metadata": {
    "execution": {
     "iopub.execute_input": "2020-09-24T18:25:14.041535Z",
     "iopub.status.busy": "2020-09-24T18:25:14.040000Z",
     "iopub.status.idle": "2020-09-24T18:25:14.056087Z",
     "shell.execute_reply": "2020-09-24T18:25:14.057178Z"
    },
    "lines_to_next_cell": 0,
    "title": "codecell"
   },
   "outputs": [
    {
     "data": {
      "text/latex": [
       "$\\displaystyle w_{11}$"
      ],
      "text/plain": [
       "w_11"
      ]
     },
     "execution_count": 1,
     "metadata": {},
     "output_type": "execute_result"
    }
   ],
   "source": [
    "F[0,0].diff(X[0,0]).subs(argsToSpecD).doit()"
   ]
  },
  {
   "cell_type": "code",
   "execution_count": 174,
   "metadata": {
    "execution": {
     "iopub.execute_input": "2020-09-24T18:25:14.061993Z",
     "iopub.status.busy": "2020-09-24T18:25:14.060512Z",
     "iopub.status.idle": "2020-09-24T18:25:14.695134Z",
     "shell.execute_reply": "2020-09-24T18:25:14.696240Z"
    },
    "title": "codecell"
   },
   "outputs": [
    {
     "data": {
      "text/latex": [
       "$\\displaystyle \\left[\\begin{matrix}\\left[\\begin{matrix}\\frac{\\partial}{\\partial x_{11}} \\left(w_{11} x_{11} + w_{21} x_{12} + w_{31} x_{13}\\right) & \\frac{\\partial}{\\partial x_{11}} \\left(w_{12} x_{11} + w_{22} x_{12} + w_{32} x_{13}\\right)\\\\\\frac{\\partial}{\\partial x_{11}} \\left(w_{11} x_{21} + w_{21} x_{22} + w_{31} x_{23}\\right) & \\frac{\\partial}{\\partial x_{11}} \\left(w_{12} x_{21} + w_{22} x_{22} + w_{32} x_{23}\\right)\\\\\\frac{\\partial}{\\partial x_{11}} \\left(w_{11} x_{31} + w_{21} x_{32} + w_{31} x_{33}\\right) & \\frac{\\partial}{\\partial x_{11}} \\left(w_{12} x_{31} + w_{22} x_{32} + w_{32} x_{33}\\right)\\end{matrix}\\right] & \\left[\\begin{matrix}\\frac{\\partial}{\\partial x_{12}} \\left(w_{11} x_{11} + w_{21} x_{12} + w_{31} x_{13}\\right) & \\frac{\\partial}{\\partial x_{12}} \\left(w_{12} x_{11} + w_{22} x_{12} + w_{32} x_{13}\\right)\\\\\\frac{\\partial}{\\partial x_{12}} \\left(w_{11} x_{21} + w_{21} x_{22} + w_{31} x_{23}\\right) & \\frac{\\partial}{\\partial x_{12}} \\left(w_{12} x_{21} + w_{22} x_{22} + w_{32} x_{23}\\right)\\\\\\frac{\\partial}{\\partial x_{12}} \\left(w_{11} x_{31} + w_{21} x_{32} + w_{31} x_{33}\\right) & \\frac{\\partial}{\\partial x_{12}} \\left(w_{12} x_{31} + w_{22} x_{32} + w_{32} x_{33}\\right)\\end{matrix}\\right] & \\left[\\begin{matrix}\\frac{\\partial}{\\partial x_{13}} \\left(w_{11} x_{11} + w_{21} x_{12} + w_{31} x_{13}\\right) & \\frac{\\partial}{\\partial x_{13}} \\left(w_{12} x_{11} + w_{22} x_{12} + w_{32} x_{13}\\right)\\\\\\frac{\\partial}{\\partial x_{13}} \\left(w_{11} x_{21} + w_{21} x_{22} + w_{31} x_{23}\\right) & \\frac{\\partial}{\\partial x_{13}} \\left(w_{12} x_{21} + w_{22} x_{22} + w_{32} x_{23}\\right)\\\\\\frac{\\partial}{\\partial x_{13}} \\left(w_{11} x_{31} + w_{21} x_{32} + w_{31} x_{33}\\right) & \\frac{\\partial}{\\partial x_{13}} \\left(w_{12} x_{31} + w_{22} x_{32} + w_{32} x_{33}\\right)\\end{matrix}\\right]\\\\\\left[\\begin{matrix}\\frac{\\partial}{\\partial x_{21}} \\left(w_{11} x_{11} + w_{21} x_{12} + w_{31} x_{13}\\right) & \\frac{\\partial}{\\partial x_{21}} \\left(w_{12} x_{11} + w_{22} x_{12} + w_{32} x_{13}\\right)\\\\\\frac{\\partial}{\\partial x_{21}} \\left(w_{11} x_{21} + w_{21} x_{22} + w_{31} x_{23}\\right) & \\frac{\\partial}{\\partial x_{21}} \\left(w_{12} x_{21} + w_{22} x_{22} + w_{32} x_{23}\\right)\\\\\\frac{\\partial}{\\partial x_{21}} \\left(w_{11} x_{31} + w_{21} x_{32} + w_{31} x_{33}\\right) & \\frac{\\partial}{\\partial x_{21}} \\left(w_{12} x_{31} + w_{22} x_{32} + w_{32} x_{33}\\right)\\end{matrix}\\right] & \\left[\\begin{matrix}\\frac{\\partial}{\\partial x_{22}} \\left(w_{11} x_{11} + w_{21} x_{12} + w_{31} x_{13}\\right) & \\frac{\\partial}{\\partial x_{22}} \\left(w_{12} x_{11} + w_{22} x_{12} + w_{32} x_{13}\\right)\\\\\\frac{\\partial}{\\partial x_{22}} \\left(w_{11} x_{21} + w_{21} x_{22} + w_{31} x_{23}\\right) & \\frac{\\partial}{\\partial x_{22}} \\left(w_{12} x_{21} + w_{22} x_{22} + w_{32} x_{23}\\right)\\\\\\frac{\\partial}{\\partial x_{22}} \\left(w_{11} x_{31} + w_{21} x_{32} + w_{31} x_{33}\\right) & \\frac{\\partial}{\\partial x_{22}} \\left(w_{12} x_{31} + w_{22} x_{32} + w_{32} x_{33}\\right)\\end{matrix}\\right] & \\left[\\begin{matrix}\\frac{\\partial}{\\partial x_{23}} \\left(w_{11} x_{11} + w_{21} x_{12} + w_{31} x_{13}\\right) & \\frac{\\partial}{\\partial x_{23}} \\left(w_{12} x_{11} + w_{22} x_{12} + w_{32} x_{13}\\right)\\\\\\frac{\\partial}{\\partial x_{23}} \\left(w_{11} x_{21} + w_{21} x_{22} + w_{31} x_{23}\\right) & \\frac{\\partial}{\\partial x_{23}} \\left(w_{12} x_{21} + w_{22} x_{22} + w_{32} x_{23}\\right)\\\\\\frac{\\partial}{\\partial x_{23}} \\left(w_{11} x_{31} + w_{21} x_{32} + w_{31} x_{33}\\right) & \\frac{\\partial}{\\partial x_{23}} \\left(w_{12} x_{31} + w_{22} x_{32} + w_{32} x_{33}\\right)\\end{matrix}\\right]\\\\\\left[\\begin{matrix}\\frac{\\partial}{\\partial x_{31}} \\left(w_{11} x_{11} + w_{21} x_{12} + w_{31} x_{13}\\right) & \\frac{\\partial}{\\partial x_{31}} \\left(w_{12} x_{11} + w_{22} x_{12} + w_{32} x_{13}\\right)\\\\\\frac{\\partial}{\\partial x_{31}} \\left(w_{11} x_{21} + w_{21} x_{22} + w_{31} x_{23}\\right) & \\frac{\\partial}{\\partial x_{31}} \\left(w_{12} x_{21} + w_{22} x_{22} + w_{32} x_{23}\\right)\\\\\\frac{\\partial}{\\partial x_{31}} \\left(w_{11} x_{31} + w_{21} x_{32} + w_{31} x_{33}\\right) & \\frac{\\partial}{\\partial x_{31}} \\left(w_{12} x_{31} + w_{22} x_{32} + w_{32} x_{33}\\right)\\end{matrix}\\right] & \\left[\\begin{matrix}\\frac{\\partial}{\\partial x_{32}} \\left(w_{11} x_{11} + w_{21} x_{12} + w_{31} x_{13}\\right) & \\frac{\\partial}{\\partial x_{32}} \\left(w_{12} x_{11} + w_{22} x_{12} + w_{32} x_{13}\\right)\\\\\\frac{\\partial}{\\partial x_{32}} \\left(w_{11} x_{21} + w_{21} x_{22} + w_{31} x_{23}\\right) & \\frac{\\partial}{\\partial x_{32}} \\left(w_{12} x_{21} + w_{22} x_{22} + w_{32} x_{23}\\right)\\\\\\frac{\\partial}{\\partial x_{32}} \\left(w_{11} x_{31} + w_{21} x_{32} + w_{31} x_{33}\\right) & \\frac{\\partial}{\\partial x_{32}} \\left(w_{12} x_{31} + w_{22} x_{32} + w_{32} x_{33}\\right)\\end{matrix}\\right] & \\left[\\begin{matrix}\\frac{\\partial}{\\partial x_{33}} \\left(w_{11} x_{11} + w_{21} x_{12} + w_{31} x_{13}\\right) & \\frac{\\partial}{\\partial x_{33}} \\left(w_{12} x_{11} + w_{22} x_{12} + w_{32} x_{13}\\right)\\\\\\frac{\\partial}{\\partial x_{33}} \\left(w_{11} x_{21} + w_{21} x_{22} + w_{31} x_{23}\\right) & \\frac{\\partial}{\\partial x_{33}} \\left(w_{12} x_{21} + w_{22} x_{22} + w_{32} x_{23}\\right)\\\\\\frac{\\partial}{\\partial x_{33}} \\left(w_{11} x_{31} + w_{21} x_{32} + w_{31} x_{33}\\right) & \\frac{\\partial}{\\partial x_{33}} \\left(w_{12} x_{31} + w_{22} x_{32} + w_{32} x_{33}\\right)\\end{matrix}\\right]\\end{matrix}\\right]$"
      ],
      "text/plain": [
       "[[[[Derivative(w_11*x_11 + w_21*x_12 + w_31*x_13, x_11), Derivative(w_12*x_11 + w_22*x_12 + w_32*x_13, x_11)], [Derivative(w_11*x_21 + w_21*x_22 + w_31*x_23, x_11), Derivative(w_12*x_21 + w_22*x_22 + w_32*x_23, x_11)], [Derivative(w_11*x_31 + w_21*x_32 + w_31*x_33, x_11), Derivative(w_12*x_31 + w_22*x_32 + w_32*x_33, x_11)]], [[Derivative(w_11*x_11 + w_21*x_12 + w_31*x_13, x_12), Derivative(w_12*x_11 + w_22*x_12 + w_32*x_13, x_12)], [Derivative(w_11*x_21 + w_21*x_22 + w_31*x_23, x_12), Derivative(w_12*x_21 + w_22*x_22 + w_32*x_23, x_12)], [Derivative(w_11*x_31 + w_21*x_32 + w_31*x_33, x_12), Derivative(w_12*x_31 + w_22*x_32 + w_32*x_33, x_12)]], [[Derivative(w_11*x_11 + w_21*x_12 + w_31*x_13, x_13), Derivative(w_12*x_11 + w_22*x_12 + w_32*x_13, x_13)], [Derivative(w_11*x_21 + w_21*x_22 + w_31*x_23, x_13), Derivative(w_12*x_21 + w_22*x_22 + w_32*x_23, x_13)], [Derivative(w_11*x_31 + w_21*x_32 + w_31*x_33, x_13), Derivative(w_12*x_31 + w_22*x_32 + w_32*x_33, x_13)]]], [[[Derivative(w_11*x_11 + w_21*x_12 + w_31*x_13, x_21), Derivative(w_12*x_11 + w_22*x_12 + w_32*x_13, x_21)], [Derivative(w_11*x_21 + w_21*x_22 + w_31*x_23, x_21), Derivative(w_12*x_21 + w_22*x_22 + w_32*x_23, x_21)], [Derivative(w_11*x_31 + w_21*x_32 + w_31*x_33, x_21), Derivative(w_12*x_31 + w_22*x_32 + w_32*x_33, x_21)]], [[Derivative(w_11*x_11 + w_21*x_12 + w_31*x_13, x_22), Derivative(w_12*x_11 + w_22*x_12 + w_32*x_13, x_22)], [Derivative(w_11*x_21 + w_21*x_22 + w_31*x_23, x_22), Derivative(w_12*x_21 + w_22*x_22 + w_32*x_23, x_22)], [Derivative(w_11*x_31 + w_21*x_32 + w_31*x_33, x_22), Derivative(w_12*x_31 + w_22*x_32 + w_32*x_33, x_22)]], [[Derivative(w_11*x_11 + w_21*x_12 + w_31*x_13, x_23), Derivative(w_12*x_11 + w_22*x_12 + w_32*x_13, x_23)], [Derivative(w_11*x_21 + w_21*x_22 + w_31*x_23, x_23), Derivative(w_12*x_21 + w_22*x_22 + w_32*x_23, x_23)], [Derivative(w_11*x_31 + w_21*x_32 + w_31*x_33, x_23), Derivative(w_12*x_31 + w_22*x_32 + w_32*x_33, x_23)]]], [[[Derivative(w_11*x_11 + w_21*x_12 + w_31*x_13, x_31), Derivative(w_12*x_11 + w_22*x_12 + w_32*x_13, x_31)], [Derivative(w_11*x_21 + w_21*x_22 + w_31*x_23, x_31), Derivative(w_12*x_21 + w_22*x_22 + w_32*x_23, x_31)], [Derivative(w_11*x_31 + w_21*x_32 + w_31*x_33, x_31), Derivative(w_12*x_31 + w_22*x_32 + w_32*x_33, x_31)]], [[Derivative(w_11*x_11 + w_21*x_12 + w_31*x_13, x_32), Derivative(w_12*x_11 + w_22*x_12 + w_32*x_13, x_32)], [Derivative(w_11*x_21 + w_21*x_22 + w_31*x_23, x_32), Derivative(w_12*x_21 + w_22*x_22 + w_32*x_23, x_32)], [Derivative(w_11*x_31 + w_21*x_32 + w_31*x_33, x_32), Derivative(w_12*x_31 + w_22*x_32 + w_32*x_33, x_32)]], [[Derivative(w_11*x_11 + w_21*x_12 + w_31*x_13, x_33), Derivative(w_12*x_11 + w_22*x_12 + w_32*x_13, x_33)], [Derivative(w_11*x_21 + w_21*x_22 + w_31*x_23, x_33), Derivative(w_12*x_21 + w_22*x_22 + w_32*x_23, x_33)], [Derivative(w_11*x_31 + w_21*x_32 + w_31*x_33, x_33), Derivative(w_12*x_31 + w_22*x_32 + w_32*x_33, x_33)]]]]"
      ]
     },
     "execution_count": 1,
     "metadata": {},
     "output_type": "execute_result"
    }
   ],
   "source": [
    "# NOTE: using diff did not work, said immutable dense array cannot be subs-ed\n",
    "derive_by_array(F, X).subs(argsToSpecD)"
   ]
  },
  {
   "cell_type": "code",
   "execution_count": 175,
   "metadata": {
    "execution": {
     "iopub.execute_input": "2020-09-24T18:25:14.701500Z",
     "iopub.status.busy": "2020-09-24T18:25:14.699846Z",
     "iopub.status.idle": "2020-09-24T18:25:14.920228Z",
     "shell.execute_reply": "2020-09-24T18:25:14.921316Z"
    },
    "lines_to_next_cell": 0,
    "title": "codecell"
   },
   "outputs": [
    {
     "data": {
      "text/latex": [
       "$\\displaystyle \\left[\\begin{matrix}\\left[\\begin{matrix}w_{11} & w_{12}\\\\0 & 0\\\\0 & 0\\end{matrix}\\right] & \\left[\\begin{matrix}w_{21} & w_{22}\\\\0 & 0\\\\0 & 0\\end{matrix}\\right] & \\left[\\begin{matrix}w_{31} & w_{32}\\\\0 & 0\\\\0 & 0\\end{matrix}\\right]\\\\\\left[\\begin{matrix}0 & 0\\\\w_{11} & w_{12}\\\\0 & 0\\end{matrix}\\right] & \\left[\\begin{matrix}0 & 0\\\\w_{21} & w_{22}\\\\0 & 0\\end{matrix}\\right] & \\left[\\begin{matrix}0 & 0\\\\w_{31} & w_{32}\\\\0 & 0\\end{matrix}\\right]\\\\\\left[\\begin{matrix}0 & 0\\\\0 & 0\\\\w_{11} & w_{12}\\end{matrix}\\right] & \\left[\\begin{matrix}0 & 0\\\\0 & 0\\\\w_{21} & w_{22}\\end{matrix}\\right] & \\left[\\begin{matrix}0 & 0\\\\0 & 0\\\\w_{31} & w_{32}\\end{matrix}\\right]\\end{matrix}\\right]$"
      ],
      "text/plain": [
       "[[[[w_11, w_12], [0, 0], [0, 0]], [[w_21, w_22], [0, 0], [0, 0]], [[w_31, w_32], [0, 0], [0, 0]]], [[[0, 0], [w_11, w_12], [0, 0]], [[0, 0], [w_21, w_22], [0, 0]], [[0, 0], [w_31, w_32], [0, 0]]], [[[0, 0], [0, 0], [w_11, w_12]], [[0, 0], [0, 0], [w_21, w_22]], [[0, 0], [0, 0], [w_31, w_32]]]]"
      ]
     },
     "execution_count": 1,
     "metadata": {},
     "output_type": "execute_result"
    }
   ],
   "source": [
    "derive_by_array(F, X).subs(argsToSpecD).doit()"
   ]
  },
  {
   "cell_type": "code",
   "execution_count": 176,
   "metadata": {
    "execution": {
     "iopub.execute_input": "2020-09-24T18:25:14.926183Z",
     "iopub.status.busy": "2020-09-24T18:25:14.924626Z",
     "iopub.status.idle": "2020-09-24T18:25:15.226166Z",
     "shell.execute_reply": "2020-09-24T18:25:15.227415Z"
    },
    "title": "codecell"
   },
   "outputs": [
    {
     "data": {
      "text/latex": [
       "$\\displaystyle \\left[\\begin{matrix}\\left[\\begin{matrix}x_{11} & 0\\\\x_{21} & 0\\\\x_{31} & 0\\end{matrix}\\right] & \\left[\\begin{matrix}0 & x_{11}\\\\0 & x_{21}\\\\0 & x_{31}\\end{matrix}\\right]\\\\\\left[\\begin{matrix}x_{12} & 0\\\\x_{22} & 0\\\\x_{32} & 0\\end{matrix}\\right] & \\left[\\begin{matrix}0 & x_{12}\\\\0 & x_{22}\\\\0 & x_{32}\\end{matrix}\\right]\\\\\\left[\\begin{matrix}x_{13} & 0\\\\x_{23} & 0\\\\x_{33} & 0\\end{matrix}\\right] & \\left[\\begin{matrix}0 & x_{13}\\\\0 & x_{23}\\\\0 & x_{33}\\end{matrix}\\right]\\end{matrix}\\right]$"
      ],
      "text/plain": [
       "[[[[x_11, 0], [x_21, 0], [x_31, 0]], [[0, x_11], [0, x_21], [0, x_31]]], [[[x_12, 0], [x_22, 0], [x_32, 0]], [[0, x_12], [0, x_22], [0, x_32]]], [[[x_13, 0], [x_23, 0], [x_33, 0]], [[0, x_13], [0, x_23], [0, x_33]]]]"
      ]
     },
     "execution_count": 1,
     "metadata": {},
     "output_type": "execute_result"
    }
   ],
   "source": [
    "derive_by_array(F, W).subs(argsToSpecD).doit()\n",
    "\n",
    "\n"
   ]
  },
  {
   "cell_type": "code",
   "execution_count": 177,
   "metadata": {
    "execution": {
     "iopub.execute_input": "2020-09-24T18:25:15.232480Z",
     "iopub.status.busy": "2020-09-24T18:25:15.230930Z",
     "iopub.status.idle": "2020-09-24T18:25:15.246023Z",
     "shell.execute_reply": "2020-09-24T18:25:15.247091Z"
    },
    "lines_to_next_cell": 0,
    "title": "codecell"
   },
   "outputs": [
    {
     "data": {
      "text/latex": [
       "$\\displaystyle \\frac{\\partial}{\\partial X} \\left[\\begin{matrix}n_{11} & n_{12}\\\\n_{21} & n_{22}\\\\n_{31} & n_{32}\\end{matrix}\\right] \\frac{\\partial}{\\partial \\left[\\begin{matrix}n_{11} & n_{12}\\\\n_{21} & n_{22}\\\\n_{31} & n_{32}\\end{matrix}\\right]} \\left[\\begin{matrix}\\sigma{\\left(n_{11} \\right)} & \\sigma{\\left(n_{12} \\right)}\\\\\\sigma{\\left(n_{21} \\right)} & \\sigma{\\left(n_{22} \\right)}\\\\\\sigma{\\left(n_{31} \\right)} & \\sigma{\\left(n_{32} \\right)}\\end{matrix}\\right]$"
      ],
      "text/plain": [
       "Derivative(Matrix([\n",
       "[n_11, n_12],\n",
       "[n_21, n_22],\n",
       "[n_31, n_32]]), X)*Derivative(Matrix([\n",
       "[sigma(n_11), sigma(n_12)],\n",
       "[sigma(n_21), sigma(n_22)],\n",
       "[sigma(n_31), sigma(n_32)]]), Matrix([\n",
       "[n_11, n_12],\n",
       "[n_21, n_22],\n",
       "[n_31, n_32]]))"
      ]
     },
     "execution_count": 1,
     "metadata": {},
     "output_type": "execute_result"
    }
   ],
   "source": [
    "elem2"
   ]
  },
  {
   "cell_type": "code",
   "execution_count": 178,
   "metadata": {
    "execution": {
     "iopub.execute_input": "2020-09-24T18:25:15.252031Z",
     "iopub.status.busy": "2020-09-24T18:25:15.250445Z",
     "iopub.status.idle": "2020-09-24T18:25:15.334968Z",
     "shell.execute_reply": "2020-09-24T18:25:15.336076Z"
    },
    "title": "codecell"
   },
   "outputs": [
    {
     "data": {
      "text/latex": [
       "$\\displaystyle \\frac{\\partial}{\\partial \\left[\\begin{matrix}x_{11} & x_{12} & x_{13}\\\\x_{21} & x_{22} & x_{23}\\\\x_{31} & x_{32} & x_{33}\\end{matrix}\\right]} \\left[\\begin{matrix}\\operatorname{n_{11}}{\\left(x_{11},x_{12},x_{13},x_{21},x_{22},x_{23},x_{31},x_{32},x_{33},w_{11},w_{12},w_{21},w_{22},w_{31},w_{32} \\right)} & \\operatorname{n_{12}}{\\left(x_{11},x_{12},x_{13},x_{21},x_{22},x_{23},x_{31},x_{32},x_{33},w_{11},w_{12},w_{21},w_{22},w_{31},w_{32} \\right)}\\\\\\operatorname{n_{21}}{\\left(x_{11},x_{12},x_{13},x_{21},x_{22},x_{23},x_{31},x_{32},x_{33},w_{11},w_{12},w_{21},w_{22},w_{31},w_{32} \\right)} & \\operatorname{n_{22}}{\\left(x_{11},x_{12},x_{13},x_{21},x_{22},x_{23},x_{31},x_{32},x_{33},w_{11},w_{12},w_{21},w_{22},w_{31},w_{32} \\right)}\\\\\\operatorname{n_{31}}{\\left(x_{11},x_{12},x_{13},x_{21},x_{22},x_{23},x_{31},x_{32},x_{33},w_{11},w_{12},w_{21},w_{22},w_{31},w_{32} \\right)} & \\operatorname{n_{32}}{\\left(x_{11},x_{12},x_{13},x_{21},x_{22},x_{23},x_{31},x_{32},x_{33},w_{11},w_{12},w_{21},w_{22},w_{31},w_{32} \\right)}\\end{matrix}\\right] \\frac{\\partial}{\\partial \\left[\\begin{matrix}\\operatorname{n_{11}}{\\left(x_{11},x_{12},x_{13},x_{21},x_{22},x_{23},x_{31},x_{32},x_{33},w_{11},w_{12},w_{21},w_{22},w_{31},w_{32} \\right)} & \\operatorname{n_{12}}{\\left(x_{11},x_{12},x_{13},x_{21},x_{22},x_{23},x_{31},x_{32},x_{33},w_{11},w_{12},w_{21},w_{22},w_{31},w_{32} \\right)}\\\\\\operatorname{n_{21}}{\\left(x_{11},x_{12},x_{13},x_{21},x_{22},x_{23},x_{31},x_{32},x_{33},w_{11},w_{12},w_{21},w_{22},w_{31},w_{32} \\right)} & \\operatorname{n_{22}}{\\left(x_{11},x_{12},x_{13},x_{21},x_{22},x_{23},x_{31},x_{32},x_{33},w_{11},w_{12},w_{21},w_{22},w_{31},w_{32} \\right)}\\\\\\operatorname{n_{31}}{\\left(x_{11},x_{12},x_{13},x_{21},x_{22},x_{23},x_{31},x_{32},x_{33},w_{11},w_{12},w_{21},w_{22},w_{31},w_{32} \\right)} & \\operatorname{n_{32}}{\\left(x_{11},x_{12},x_{13},x_{21},x_{22},x_{23},x_{31},x_{32},x_{33},w_{11},w_{12},w_{21},w_{22},w_{31},w_{32} \\right)}\\end{matrix}\\right]} \\left[\\begin{matrix}\\sigma{\\left(\\operatorname{n_{11}}{\\left(x_{11},x_{12},x_{13},x_{21},x_{22},x_{23},x_{31},x_{32},x_{33},w_{11},w_{12},w_{21},w_{22},w_{31},w_{32} \\right)} \\right)} & \\sigma{\\left(\\operatorname{n_{12}}{\\left(x_{11},x_{12},x_{13},x_{21},x_{22},x_{23},x_{31},x_{32},x_{33},w_{11},w_{12},w_{21},w_{22},w_{31},w_{32} \\right)} \\right)}\\\\\\sigma{\\left(\\operatorname{n_{21}}{\\left(x_{11},x_{12},x_{13},x_{21},x_{22},x_{23},x_{31},x_{32},x_{33},w_{11},w_{12},w_{21},w_{22},w_{31},w_{32} \\right)} \\right)} & \\sigma{\\left(\\operatorname{n_{22}}{\\left(x_{11},x_{12},x_{13},x_{21},x_{22},x_{23},x_{31},x_{32},x_{33},w_{11},w_{12},w_{21},w_{22},w_{31},w_{32} \\right)} \\right)}\\\\\\sigma{\\left(\\operatorname{n_{31}}{\\left(x_{11},x_{12},x_{13},x_{21},x_{22},x_{23},x_{31},x_{32},x_{33},w_{11},w_{12},w_{21},w_{22},w_{31},w_{32} \\right)} \\right)} & \\sigma{\\left(\\operatorname{n_{32}}{\\left(x_{11},x_{12},x_{13},x_{21},x_{22},x_{23},x_{31},x_{32},x_{33},w_{11},w_{12},w_{21},w_{22},w_{31},w_{32} \\right)} \\right)}\\end{matrix}\\right]$"
      ],
      "text/plain": [
       "Derivative(Matrix([\n",
       "[n_11(x_11, x_12, x_13, x_21, x_22, x_23, x_31, x_32, x_33, w_11, w_12, w_21, w_22, w_31, w_32), n_12(x_11, x_12, x_13, x_21, x_22, x_23, x_31, x_32, x_33, w_11, w_12, w_21, w_22, w_31, w_32)],\n",
       "[n_21(x_11, x_12, x_13, x_21, x_22, x_23, x_31, x_32, x_33, w_11, w_12, w_21, w_22, w_31, w_32), n_22(x_11, x_12, x_13, x_21, x_22, x_23, x_31, x_32, x_33, w_11, w_12, w_21, w_22, w_31, w_32)],\n",
       "[n_31(x_11, x_12, x_13, x_21, x_22, x_23, x_31, x_32, x_33, w_11, w_12, w_21, w_22, w_31, w_32), n_32(x_11, x_12, x_13, x_21, x_22, x_23, x_31, x_32, x_33, w_11, w_12, w_21, w_22, w_31, w_32)]]), Matrix([\n",
       "[x_11, x_12, x_13],\n",
       "[x_21, x_22, x_23],\n",
       "[x_31, x_32, x_33]]))*Derivative(Matrix([\n",
       "[sigma(n_11(x_11, x_12, x_13, x_21, x_22, x_23, x_31, x_32, x_33, w_11, w_12, w_21, w_22, w_31, w_32)), sigma(n_12(x_11, x_12, x_13, x_21, x_22, x_23, x_31, x_32, x_33, w_11, w_12, w_21, w_22, w_31, w_32))],\n",
       "[sigma(n_21(x_11, x_12, x_13, x_21, x_22, x_23, x_31, x_32, x_33, w_11, w_12, w_21, w_22, w_31, w_32)), sigma(n_22(x_11, x_12, x_13, x_21, x_22, x_23, x_31, x_32, x_33, w_11, w_12, w_21, w_22, w_31, w_32))],\n",
       "[sigma(n_31(x_11, x_12, x_13, x_21, x_22, x_23, x_31, x_32, x_33, w_11, w_12, w_21, w_22, w_31, w_32)), sigma(n_32(x_11, x_12, x_13, x_21, x_22, x_23, x_31, x_32, x_33, w_11, w_12, w_21, w_22, w_31, w_32))]]), Matrix([\n",
       "[n_11(x_11, x_12, x_13, x_21, x_22, x_23, x_31, x_32, x_33, w_11, w_12, w_21, w_22, w_31, w_32), n_12(x_11, x_12, x_13, x_21, x_22, x_23, x_31, x_32, x_33, w_11, w_12, w_21, w_22, w_31, w_32)],\n",
       "[n_21(x_11, x_12, x_13, x_21, x_22, x_23, x_31, x_32, x_33, w_11, w_12, w_21, w_22, w_31, w_32), n_22(x_11, x_12, x_13, x_21, x_22, x_23, x_31, x_32, x_33, w_11, w_12, w_21, w_22, w_31, w_32)],\n",
       "[n_31(x_11, x_12, x_13, x_21, x_22, x_23, x_31, x_32, x_33, w_11, w_12, w_21, w_22, w_31, w_32), n_32(x_11, x_12, x_13, x_21, x_22, x_23, x_31, x_32, x_33, w_11, w_12, w_21, w_22, w_31, w_32)]]))"
      ]
     },
     "execution_count": 1,
     "metadata": {},
     "output_type": "execute_result"
    }
   ],
   "source": [
    "\n",
    "funcMat = elem2.subs(elemToSpecFuncArgsD).replace(A,X)#.diff(X)\n",
    "funcMat"
   ]
  },
  {
   "cell_type": "code",
   "execution_count": 179,
   "metadata": {
    "execution": {
     "iopub.execute_input": "2020-09-24T18:25:15.341250Z",
     "iopub.status.busy": "2020-09-24T18:25:15.339669Z",
     "iopub.status.idle": "2020-09-24T18:25:15.345412Z",
     "shell.execute_reply": "2020-09-24T18:25:15.346495Z"
    },
    "lines_to_next_cell": 0,
    "title": "codecell"
   },
   "outputs": [],
   "source": [
    "#funcMat.doit() # error\n",
    "#derive_by_array(funcMat, X)"
   ]
  },
  {
   "cell_type": "code",
   "execution_count": 180,
   "metadata": {
    "execution": {
     "iopub.execute_input": "2020-09-24T18:25:15.352330Z",
     "iopub.status.busy": "2020-09-24T18:25:15.349744Z",
     "iopub.status.idle": "2020-09-24T18:25:15.514787Z",
     "shell.execute_reply": "2020-09-24T18:25:15.515949Z"
    },
    "lines_to_next_cell": 0,
    "title": "codecell"
   },
   "outputs": [
    {
     "data": {
      "text/latex": [
       "$\\displaystyle \\frac{\\partial}{\\partial \\left[\\begin{matrix}x_{11} & x_{12} & x_{13}\\\\x_{21} & x_{22} & x_{23}\\\\x_{31} & x_{32} & x_{33}\\end{matrix}\\right]} \\left[\\begin{matrix}\\operatorname{n_{11}}{\\left(w_{11} x_{11} + w_{21} x_{12} + w_{31} x_{13} \\right)} & \\operatorname{n_{12}}{\\left(w_{12} x_{11} + w_{22} x_{12} + w_{32} x_{13} \\right)}\\\\\\operatorname{n_{21}}{\\left(w_{11} x_{21} + w_{21} x_{22} + w_{31} x_{23} \\right)} & \\operatorname{n_{22}}{\\left(w_{12} x_{21} + w_{22} x_{22} + w_{32} x_{23} \\right)}\\\\\\operatorname{n_{31}}{\\left(w_{11} x_{31} + w_{21} x_{32} + w_{31} x_{33} \\right)} & \\operatorname{n_{32}}{\\left(w_{12} x_{31} + w_{22} x_{32} + w_{32} x_{33} \\right)}\\end{matrix}\\right] \\frac{\\partial}{\\partial \\left[\\begin{matrix}\\operatorname{n_{11}}{\\left(w_{11} x_{11} + w_{21} x_{12} + w_{31} x_{13} \\right)} & \\operatorname{n_{12}}{\\left(w_{12} x_{11} + w_{22} x_{12} + w_{32} x_{13} \\right)}\\\\\\operatorname{n_{21}}{\\left(w_{11} x_{21} + w_{21} x_{22} + w_{31} x_{23} \\right)} & \\operatorname{n_{22}}{\\left(w_{12} x_{21} + w_{22} x_{22} + w_{32} x_{23} \\right)}\\\\\\operatorname{n_{31}}{\\left(w_{11} x_{31} + w_{21} x_{32} + w_{31} x_{33} \\right)} & \\operatorname{n_{32}}{\\left(w_{12} x_{31} + w_{22} x_{32} + w_{32} x_{33} \\right)}\\end{matrix}\\right]} \\left[\\begin{matrix}\\sigma{\\left(\\operatorname{n_{11}}{\\left(w_{11} x_{11} + w_{21} x_{12} + w_{31} x_{13} \\right)} \\right)} & \\sigma{\\left(\\operatorname{n_{12}}{\\left(w_{12} x_{11} + w_{22} x_{12} + w_{32} x_{13} \\right)} \\right)}\\\\\\sigma{\\left(\\operatorname{n_{21}}{\\left(w_{11} x_{21} + w_{21} x_{22} + w_{31} x_{23} \\right)} \\right)} & \\sigma{\\left(\\operatorname{n_{22}}{\\left(w_{12} x_{21} + w_{22} x_{22} + w_{32} x_{23} \\right)} \\right)}\\\\\\sigma{\\left(\\operatorname{n_{31}}{\\left(w_{11} x_{31} + w_{21} x_{32} + w_{31} x_{33} \\right)} \\right)} & \\sigma{\\left(\\operatorname{n_{32}}{\\left(w_{12} x_{31} + w_{22} x_{32} + w_{32} x_{33} \\right)} \\right)}\\end{matrix}\\right]$"
      ],
      "text/plain": [
       "Derivative(Matrix([\n",
       "[n_11(w_11*x_11 + w_21*x_12 + w_31*x_13), n_12(w_12*x_11 + w_22*x_12 + w_32*x_13)],\n",
       "[n_21(w_11*x_21 + w_21*x_22 + w_31*x_23), n_22(w_12*x_21 + w_22*x_22 + w_32*x_23)],\n",
       "[n_31(w_11*x_31 + w_21*x_32 + w_31*x_33), n_32(w_12*x_31 + w_22*x_32 + w_32*x_33)]]), Matrix([\n",
       "[x_11, x_12, x_13],\n",
       "[x_21, x_22, x_23],\n",
       "[x_31, x_32, x_33]]))*Derivative(Matrix([\n",
       "[sigma(n_11(w_11*x_11 + w_21*x_12 + w_31*x_13)), sigma(n_12(w_12*x_11 + w_22*x_12 + w_32*x_13))],\n",
       "[sigma(n_21(w_11*x_21 + w_21*x_22 + w_31*x_23)), sigma(n_22(w_12*x_21 + w_22*x_22 + w_32*x_23))],\n",
       "[sigma(n_31(w_11*x_31 + w_21*x_32 + w_31*x_33)), sigma(n_32(w_12*x_31 + w_22*x_32 + w_32*x_33))]]), Matrix([\n",
       "[n_11(w_11*x_11 + w_21*x_12 + w_31*x_13), n_12(w_12*x_11 + w_22*x_12 + w_32*x_13)],\n",
       "[n_21(w_11*x_21 + w_21*x_22 + w_31*x_23), n_22(w_12*x_21 + w_22*x_22 + w_32*x_23)],\n",
       "[n_31(w_11*x_31 + w_21*x_32 + w_31*x_33), n_32(w_12*x_31 + w_22*x_32 + w_32*x_33)]]))"
      ]
     },
     "execution_count": 1,
     "metadata": {},
     "output_type": "execute_result"
    }
   ],
   "source": [
    "funcMat = elem2.subs(elemToSpecFuncD).replace(A,X)#.diff(X)\n",
    "funcMat"
   ]
  },
  {
   "cell_type": "code",
   "execution_count": 181,
   "metadata": {
    "execution": {
     "iopub.execute_input": "2020-09-24T18:25:15.521236Z",
     "iopub.status.busy": "2020-09-24T18:25:15.519680Z",
     "iopub.status.idle": "2020-09-24T18:25:15.534185Z",
     "shell.execute_reply": "2020-09-24T18:25:15.535280Z"
    },
    "title": "codecell"
   },
   "outputs": [
    {
     "data": {
      "text/latex": [
       "$\\displaystyle \\frac{\\partial}{\\partial X} \\left[\\begin{matrix}n_{11} & n_{12}\\\\n_{21} & n_{22}\\\\n_{31} & n_{32}\\end{matrix}\\right] \\frac{\\partial}{\\partial \\left[\\begin{matrix}n_{11} & n_{12}\\\\n_{21} & n_{22}\\\\n_{31} & n_{32}\\end{matrix}\\right]} \\left[\\begin{matrix}\\sigma{\\left(n_{11} \\right)} & \\sigma{\\left(n_{12} \\right)}\\\\\\sigma{\\left(n_{21} \\right)} & \\sigma{\\left(n_{22} \\right)}\\\\\\sigma{\\left(n_{31} \\right)} & \\sigma{\\left(n_{32} \\right)}\\end{matrix}\\right]$"
      ],
      "text/plain": [
       "Derivative(Matrix([\n",
       "[n_11, n_12],\n",
       "[n_21, n_22],\n",
       "[n_31, n_32]]), X)*Derivative(Matrix([\n",
       "[sigma(n_11), sigma(n_12)],\n",
       "[sigma(n_21), sigma(n_22)],\n",
       "[sigma(n_31), sigma(n_32)]]), Matrix([\n",
       "[n_11, n_12],\n",
       "[n_21, n_22],\n",
       "[n_31, n_32]]))"
      ]
     },
     "execution_count": 1,
     "metadata": {},
     "output_type": "execute_result"
    }
   ],
   "source": [
    "#funcMat.doit() # same error\n",
    "#elem2.subs(elemToSpecFuncD).doit() # error\n",
    "elem2"
   ]
  },
  {
   "cell_type": "code",
   "execution_count": 182,
   "metadata": {
    "execution": {
     "iopub.execute_input": "2020-09-24T18:25:15.540228Z",
     "iopub.status.busy": "2020-09-24T18:25:15.538696Z",
     "iopub.status.idle": "2020-09-24T18:25:15.544262Z",
     "shell.execute_reply": "2020-09-24T18:25:15.545642Z"
    },
    "lines_to_next_cell": 0,
    "title": "codecell"
   },
   "outputs": [],
   "source": [
    "# elem2.replace(A,X).doit() # error"
   ]
  },
  {
   "cell_type": "code",
   "execution_count": 183,
   "metadata": {
    "execution": {
     "iopub.execute_input": "2020-09-24T18:25:15.550612Z",
     "iopub.status.busy": "2020-09-24T18:25:15.549019Z",
     "iopub.status.idle": "2020-09-24T18:25:15.554463Z",
     "shell.execute_reply": "2020-09-24T18:25:15.555608Z"
    },
    "lines_to_next_cell": 0,
    "title": "codecell"
   },
   "outputs": [],
   "source": [
    "#elem2.replace(A,a).doit()#.subs(elemToSpecFuncArgsD).doit()\n",
    "# ERROR everywhere what next todo? this approach worked before, where I make w.r.t. thing a real matrix, and leave the others a symbol so why isn't it working now?"
   ]
  },
  {
   "cell_type": "code",
   "execution_count": 184,
   "metadata": {
    "execution": {
     "iopub.execute_input": "2020-09-24T18:25:15.560906Z",
     "iopub.status.busy": "2020-09-24T18:25:15.558756Z",
     "iopub.status.idle": "2020-09-24T18:25:15.564179Z",
     "shell.execute_reply": "2020-09-24T18:25:15.565230Z"
    },
    "title": "codecell"
   },
   "outputs": [],
   "source": [
    "#elem2.replace(A,X).subs(elemToSpecFuncD).doit()\n",
    "# ERROR this has to work though! Then can simply replace n_ijs with lambda\n",
    "\n"
   ]
  },
  {
   "cell_type": "code",
   "execution_count": 185,
   "metadata": {
    "execution": {
     "iopub.execute_input": "2020-09-24T18:25:15.570518Z",
     "iopub.status.busy": "2020-09-24T18:25:15.568795Z",
     "iopub.status.idle": "2020-09-24T18:25:15.574034Z",
     "shell.execute_reply": "2020-09-24T18:25:15.575094Z"
    },
    "title": "codecell"
   },
   "outputs": [],
   "source": [
    "#elem2.subs(elemToMatArgD).doit()#ERROR max recursion depth exceeeded"
   ]
  }
 ],
 "metadata": {
  "jupytext": {
   "cell_metadata_filter": "title,-all"
  },
  "kernelspec": {
   "display_name": "pymatrix_env",
   "language": "python",
   "name": "pymatrix_env"
  },
  "language_info": {
   "codemirror_mode": {
    "name": "ipython",
    "version": 3
   },
   "file_extension": ".py",
   "mimetype": "text/x-python",
   "name": "python",
   "nbconvert_exporter": "python",
   "pygments_lexer": "ipython3",
   "version": "3.7.8"
  }
 },
 "nbformat": 4,
 "nbformat_minor": 4
}
