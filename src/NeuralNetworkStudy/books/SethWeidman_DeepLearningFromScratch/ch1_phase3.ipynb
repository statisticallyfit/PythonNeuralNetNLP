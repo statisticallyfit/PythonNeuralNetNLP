{
 "cells": [
  {
   "cell_type": "code",
   "execution_count": 1,
   "metadata": {
    "execution": {
     "iopub.execute_input": "2020-09-21T06:33:46.143504Z",
     "iopub.status.busy": "2020-09-21T06:33:46.141689Z",
     "iopub.status.idle": "2020-09-21T06:33:47.768400Z",
     "shell.execute_reply": "2020-09-21T06:33:47.769595Z"
    },
    "title": "codecell"
   },
   "outputs": [],
   "source": [
    "from sympy import Matrix, Symbol, derive_by_array, Lambda, Function, MatrixSymbol, Derivative\n",
    "from sympy import var\n",
    "from sympy.abc import x, i, j, a, b\n",
    "\n",
    "\n"
   ]
  },
  {
   "cell_type": "code",
   "execution_count": 2,
   "metadata": {
    "execution": {
     "iopub.execute_input": "2020-09-21T06:33:47.777472Z",
     "iopub.status.busy": "2020-09-21T06:33:47.773272Z",
     "iopub.status.idle": "2020-09-21T06:33:47.803816Z",
     "shell.execute_reply": "2020-09-21T06:33:47.804945Z"
    },
    "lines_to_next_cell": 0,
    "title": "codecell"
   },
   "outputs": [
    {
     "data": {
      "text/latex": [
       "$\\displaystyle \\left[\\begin{matrix}x_{11} & x_{12} & x_{13}\\\\x_{21} & x_{22} & x_{23}\\\\x_{31} & x_{32} & x_{33}\\end{matrix}\\right]$"
      ],
      "text/plain": [
       "Matrix([\n",
       "[x_11, x_12, x_13],\n",
       "[x_21, x_22, x_23],\n",
       "[x_31, x_32, x_33]])"
      ]
     },
     "execution_count": 1,
     "metadata": {},
     "output_type": "execute_result"
    }
   ],
   "source": [
    "def myvar(letter: str, i: int, j: int) -> Symbol:\n",
    "    letter_ij = Symbol('{}_{}{}'.format(letter, i+1, j+1), is_commutative=True)\n",
    "    return letter_ij\n",
    "\n",
    "\n",
    "ns,ms,ps = 3,3,2\n",
    "\n",
    "X = Matrix(ns, ms, lambda i,j : myvar('x', i, j)); X"
   ]
  },
  {
   "cell_type": "code",
   "execution_count": 3,
   "metadata": {
    "execution": {
     "iopub.execute_input": "2020-09-21T06:33:47.811753Z",
     "iopub.status.busy": "2020-09-21T06:33:47.808376Z",
     "iopub.status.idle": "2020-09-21T06:33:47.821447Z",
     "shell.execute_reply": "2020-09-21T06:33:47.822489Z"
    },
    "lines_to_next_cell": 0,
    "title": "codecell"
   },
   "outputs": [
    {
     "data": {
      "text/latex": [
       "$\\displaystyle \\left[\\begin{matrix}w_{11} & w_{12}\\\\w_{21} & w_{22}\\\\w_{31} & w_{32}\\end{matrix}\\right]$"
      ],
      "text/plain": [
       "Matrix([\n",
       "[w_11, w_12],\n",
       "[w_21, w_22],\n",
       "[w_31, w_32]])"
      ]
     },
     "execution_count": 1,
     "metadata": {},
     "output_type": "execute_result"
    }
   ],
   "source": [
    "W = Matrix(ms, ps, lambda i,j : myvar('w', i, j)); W"
   ]
  },
  {
   "cell_type": "code",
   "execution_count": 4,
   "metadata": {
    "execution": {
     "iopub.execute_input": "2020-09-21T06:33:47.832120Z",
     "iopub.status.busy": "2020-09-21T06:33:47.830584Z",
     "iopub.status.idle": "2020-09-21T06:33:47.844614Z",
     "shell.execute_reply": "2020-09-21T06:33:47.845754Z"
    },
    "title": "codecell"
   },
   "outputs": [],
   "source": [
    "#TODO how to make matrix symbols commutative?\n",
    "# A = MatrixSymbol('X',ns,ms, is_commutative=True); Matrix(A)\n",
    "A = MatrixSymbol('X',ns,ms); Matrix(A)\n",
    "B = MatrixSymbol('W',ms,ps)\n",
    "\n",
    "\n",
    "\n",
    "\n",
    "\n"
   ]
  },
  {
   "cell_type": "code",
   "execution_count": 5,
   "metadata": {
    "execution": {
     "iopub.execute_input": "2020-09-21T06:33:47.856944Z",
     "iopub.status.busy": "2020-09-21T06:33:47.855348Z",
     "iopub.status.idle": "2020-09-21T06:33:47.889227Z",
     "shell.execute_reply": "2020-09-21T06:33:47.890286Z"
    },
    "title": "codecell"
   },
   "outputs": [
    {
     "data": {
      "text/latex": [
       "$\\displaystyle \\left[\\begin{matrix}n_{11} & n_{12}\\\\n_{21} & n_{22}\\\\n_{31} & n_{32}\\end{matrix}\\right]$"
      ],
      "text/plain": [
       "Matrix([\n",
       "[n_11, n_12],\n",
       "[n_21, n_22],\n",
       "[n_31, n_32]])"
      ]
     },
     "execution_count": 1,
     "metadata": {},
     "output_type": "execute_result"
    }
   ],
   "source": [
    "v = lambda a,b: a*b\n",
    "\n",
    "vL = Lambda((a,b), a*b)\n",
    "\n",
    "n = Function('v') #, Lambda((a,b), a*b))\n",
    "\n",
    "vN = lambda mat1, mat2: Matrix(mat1.shape[0], mat2.shape[1], lambda i, j: Symbol(\"n_{}{}\".format(i+1, j+1))); vN\n",
    "\n",
    "\n",
    "Nelem = vN(X, W)\n",
    "Nelem"
   ]
  },
  {
   "cell_type": "code",
   "execution_count": 6,
   "metadata": {
    "execution": {
     "iopub.execute_input": "2020-09-21T06:33:47.905033Z",
     "iopub.status.busy": "2020-09-21T06:33:47.901867Z",
     "iopub.status.idle": "2020-09-21T06:33:49.739555Z",
     "shell.execute_reply": "2020-09-21T06:33:49.740768Z"
    },
    "lines_to_next_cell": 0,
    "title": "codecell"
   },
   "outputs": [
    {
     "data": {
      "text/latex": [
       "$\\displaystyle \\left[\\begin{matrix}w_{11} x_{11} + w_{21} x_{12} + w_{31} x_{13} & w_{12} x_{11} + w_{22} x_{12} + w_{32} x_{13}\\\\w_{11} x_{21} + w_{21} x_{22} + w_{31} x_{23} & w_{12} x_{21} + w_{22} x_{22} + w_{32} x_{23}\\\\w_{11} x_{31} + w_{21} x_{32} + w_{31} x_{33} & w_{12} x_{31} + w_{22} x_{32} + w_{32} x_{33}\\end{matrix}\\right]$"
      ],
      "text/plain": [
       "Matrix([\n",
       "[w_11*x_11 + w_21*x_12 + w_31*x_13, w_12*x_11 + w_22*x_12 + w_32*x_13],\n",
       "[w_11*x_21 + w_21*x_22 + w_31*x_23, w_12*x_21 + w_22*x_22 + w_32*x_23],\n",
       "[w_11*x_31 + w_21*x_32 + w_31*x_33, w_12*x_31 + w_22*x_32 + w_32*x_33]])"
      ]
     },
     "execution_count": 1,
     "metadata": {},
     "output_type": "execute_result"
    }
   ],
   "source": [
    "Nspec = v(X,W)\n",
    "Nspec"
   ]
  },
  {
   "cell_type": "code",
   "execution_count": 7,
   "metadata": {
    "execution": {
     "iopub.execute_input": "2020-09-21T06:33:49.759265Z",
     "iopub.status.busy": "2020-09-21T06:33:49.754426Z",
     "iopub.status.idle": "2020-09-21T06:33:49.785120Z",
     "shell.execute_reply": "2020-09-21T06:33:49.787701Z"
    },
    "title": "codecell"
   },
   "outputs": [
    {
     "data": {
      "text/latex": [
       "$\\displaystyle v{\\left(X,W \\right)}$"
      ],
      "text/plain": [
       "v(X, W)"
      ]
     },
     "execution_count": 1,
     "metadata": {},
     "output_type": "execute_result"
    }
   ],
   "source": [
    "#N = v(X, W); N\n",
    "N = n(A,B)\n",
    "N\n",
    "\n",
    "\n",
    "\n",
    "\n",
    "\n",
    "\n",
    "\n"
   ]
  },
  {
   "cell_type": "code",
   "execution_count": 8,
   "metadata": {
    "execution": {
     "iopub.execute_input": "2020-09-21T06:33:49.798423Z",
     "iopub.status.busy": "2020-09-21T06:33:49.791230Z",
     "iopub.status.idle": "2020-09-21T06:33:49.836692Z",
     "shell.execute_reply": "2020-09-21T06:33:49.837859Z"
    },
    "lines_to_next_cell": 0,
    "title": "codecell"
   },
   "outputs": [
    {
     "data": {
      "text/latex": [
       "$\\displaystyle \\sigma_{apply}{\\left(v{\\left(X,W \\right)} \\right)}$"
      ],
      "text/plain": [
       "sigma_apply(v(X, W))"
      ]
     },
     "execution_count": 1,
     "metadata": {},
     "output_type": "execute_result"
    }
   ],
   "source": [
    "\n",
    "def siga(mat: Matrix) -> Matrix:\n",
    "     #lst = mat.tolist()\n",
    "     nr, nc = mat.shape\n",
    "\n",
    "     applied = [[sigma(mat[i,j]) for j in range(0, nc)] for i in range(0, nr)]\n",
    "\n",
    "     return Matrix(applied)\n",
    "\n",
    "\n",
    "# way 2 of declaring S (better way)\n",
    "sigma = Function('sigma')\n",
    "\n",
    "sigmaApply = Function(\"sigma_apply\") #lambda matrix:  matrix.applyfunc(sigma)\n",
    "\n",
    "sigmaApply_ = lambda matrix: matrix.applyfunc(sigma)\n",
    "\n",
    "sigmaApply_2 = lambda matrix: siga(matrix)\n",
    "\n",
    "S = sigmaApply(N); S"
   ]
  },
  {
   "cell_type": "code",
   "execution_count": 9,
   "metadata": {
    "execution": {
     "iopub.execute_input": "2020-09-21T06:33:49.849568Z",
     "iopub.status.busy": "2020-09-21T06:33:49.843317Z",
     "iopub.status.idle": "2020-09-21T06:33:49.873320Z",
     "shell.execute_reply": "2020-09-21T06:33:49.877049Z"
    },
    "lines_to_next_cell": 0,
    "title": "codecell"
   },
   "outputs": [
    {
     "data": {
      "text/latex": [
       "$\\displaystyle \\left[\\begin{matrix}\\sigma{\\left(n_{11} \\right)} & \\sigma{\\left(n_{12} \\right)}\\\\\\sigma{\\left(n_{21} \\right)} & \\sigma{\\left(n_{22} \\right)}\\\\\\sigma{\\left(n_{31} \\right)} & \\sigma{\\left(n_{32} \\right)}\\end{matrix}\\right]$"
      ],
      "text/plain": [
       "Matrix([\n",
       "[sigma(n_11), sigma(n_12)],\n",
       "[sigma(n_21), sigma(n_22)],\n",
       "[sigma(n_31), sigma(n_32)]])"
      ]
     },
     "execution_count": 1,
     "metadata": {},
     "output_type": "execute_result"
    }
   ],
   "source": [
    "sigmaApply_(Nelem)"
   ]
  },
  {
   "cell_type": "code",
   "execution_count": 10,
   "metadata": {
    "execution": {
     "iopub.execute_input": "2020-09-21T06:33:49.884981Z",
     "iopub.status.busy": "2020-09-21T06:33:49.883394Z",
     "iopub.status.idle": "2020-09-21T06:33:49.911321Z",
     "shell.execute_reply": "2020-09-21T06:33:49.912516Z"
    },
    "lines_to_next_cell": 0,
    "title": "codecell"
   },
   "outputs": [
    {
     "data": {
      "text/latex": [
       "$\\displaystyle \\left[\\begin{matrix}\\sigma{\\left(n_{11} \\right)} & \\sigma{\\left(n_{12} \\right)}\\\\\\sigma{\\left(n_{21} \\right)} & \\sigma{\\left(n_{22} \\right)}\\\\\\sigma{\\left(n_{31} \\right)} & \\sigma{\\left(n_{32} \\right)}\\end{matrix}\\right]$"
      ],
      "text/plain": [
       "Matrix([\n",
       "[sigma(n_11), sigma(n_12)],\n",
       "[sigma(n_21), sigma(n_22)],\n",
       "[sigma(n_31), sigma(n_32)]])"
      ]
     },
     "execution_count": 1,
     "metadata": {},
     "output_type": "execute_result"
    }
   ],
   "source": [
    "sigmaApply_2(Nelem)"
   ]
  },
  {
   "cell_type": "code",
   "execution_count": 11,
   "metadata": {
    "execution": {
     "iopub.execute_input": "2020-09-21T06:33:49.922955Z",
     "iopub.status.busy": "2020-09-21T06:33:49.920333Z",
     "iopub.status.idle": "2020-09-21T06:33:49.928486Z",
     "shell.execute_reply": "2020-09-21T06:33:49.929633Z"
    },
    "title": "codecell"
   },
   "outputs": [],
   "source": [
    "#sigmaApply_2(A*B).diff(Matrix(A))"
   ]
  },
  {
   "cell_type": "code",
   "execution_count": 12,
   "metadata": {
    "execution": {
     "iopub.execute_input": "2020-09-21T06:33:49.945068Z",
     "iopub.status.busy": "2020-09-21T06:33:49.938600Z",
     "iopub.status.idle": "2020-09-21T06:33:50.022154Z",
     "shell.execute_reply": "2020-09-21T06:33:50.023290Z"
    },
    "lines_to_next_cell": 0,
    "title": "codecell"
   },
   "outputs": [
    {
     "data": {
      "text/latex": [
       "$\\displaystyle \\left[\\begin{matrix}\\sigma{\\left(w_{11} x_{11} + w_{21} x_{12} + w_{31} x_{13} \\right)} & \\sigma{\\left(w_{12} x_{11} + w_{22} x_{12} + w_{32} x_{13} \\right)}\\\\\\sigma{\\left(w_{11} x_{21} + w_{21} x_{22} + w_{31} x_{23} \\right)} & \\sigma{\\left(w_{12} x_{21} + w_{22} x_{22} + w_{32} x_{23} \\right)}\\\\\\sigma{\\left(w_{11} x_{31} + w_{21} x_{32} + w_{31} x_{33} \\right)} & \\sigma{\\left(w_{12} x_{31} + w_{22} x_{32} + w_{32} x_{33} \\right)}\\end{matrix}\\right]$"
      ],
      "text/plain": [
       "Matrix([\n",
       "[sigma(w_11*x_11 + w_21*x_12 + w_31*x_13), sigma(w_12*x_11 + w_22*x_12 + w_32*x_13)],\n",
       "[sigma(w_11*x_21 + w_21*x_22 + w_31*x_23), sigma(w_12*x_21 + w_22*x_22 + w_32*x_23)],\n",
       "[sigma(w_11*x_31 + w_21*x_32 + w_31*x_33), sigma(w_12*x_31 + w_22*x_32 + w_32*x_33)]])"
      ]
     },
     "execution_count": 1,
     "metadata": {},
     "output_type": "execute_result"
    }
   ],
   "source": [
    "Sspec = S.subs({A:X, B:W}).replace(n, v).replace(sigmaApply, sigmaApply_)\n",
    "Sspec"
   ]
  },
  {
   "cell_type": "code",
   "execution_count": 13,
   "metadata": {
    "execution": {
     "iopub.execute_input": "2020-09-21T06:33:50.032830Z",
     "iopub.status.busy": "2020-09-21T06:33:50.031286Z",
     "iopub.status.idle": "2020-09-21T06:33:50.056311Z",
     "shell.execute_reply": "2020-09-21T06:33:50.057718Z"
    },
    "lines_to_next_cell": 2,
    "title": "codecell"
   },
   "outputs": [
    {
     "data": {
      "text/latex": [
       "$\\displaystyle \\left[\\begin{matrix}\\sigma{\\left(n_{11} \\right)} & \\sigma{\\left(n_{12} \\right)}\\\\\\sigma{\\left(n_{21} \\right)} & \\sigma{\\left(n_{22} \\right)}\\\\\\sigma{\\left(n_{31} \\right)} & \\sigma{\\left(n_{32} \\right)}\\end{matrix}\\right]$"
      ],
      "text/plain": [
       "Matrix([\n",
       "[sigma(n_11), sigma(n_12)],\n",
       "[sigma(n_21), sigma(n_22)],\n",
       "[sigma(n_31), sigma(n_32)]])"
      ]
     },
     "execution_count": 1,
     "metadata": {},
     "output_type": "execute_result"
    }
   ],
   "source": [
    "Selem = S.replace(n, vN).replace(sigmaApply, sigmaApply_)\n",
    "Selem"
   ]
  },
  {
   "cell_type": "code",
   "execution_count": 14,
   "metadata": {
    "execution": {
     "iopub.execute_input": "2020-09-21T06:33:50.062652Z",
     "iopub.status.busy": "2020-09-21T06:33:50.061740Z",
     "iopub.status.idle": "2020-09-21T06:33:50.108354Z",
     "shell.execute_reply": "2020-09-21T06:33:50.109486Z"
    },
    "lines_to_next_cell": 0,
    "title": "codecell"
   },
   "outputs": [
    {
     "data": {
      "text/latex": [
       "$\\displaystyle \\left[\\begin{matrix}n_{11} & w_{11} x_{11} + w_{21} x_{12} + w_{31} x_{13}\\\\n_{12} & w_{12} x_{11} + w_{22} x_{12} + w_{32} x_{13}\\\\n_{21} & w_{11} x_{21} + w_{21} x_{22} + w_{31} x_{23}\\\\n_{22} & w_{12} x_{21} + w_{22} x_{22} + w_{32} x_{23}\\\\n_{31} & w_{11} x_{31} + w_{21} x_{32} + w_{31} x_{33}\\\\n_{32} & w_{12} x_{31} + w_{22} x_{32} + w_{32} x_{33}\\end{matrix}\\right]$"
      ],
      "text/plain": [
       "Matrix([\n",
       "[n_11, w_11*x_11 + w_21*x_12 + w_31*x_13],\n",
       "[n_12, w_12*x_11 + w_22*x_12 + w_32*x_13],\n",
       "[n_21, w_11*x_21 + w_21*x_22 + w_31*x_23],\n",
       "[n_22, w_12*x_21 + w_22*x_22 + w_32*x_23],\n",
       "[n_31, w_11*x_31 + w_21*x_32 + w_31*x_33],\n",
       "[n_32, w_12*x_31 + w_22*x_32 + w_32*x_33]])"
      ]
     },
     "execution_count": 1,
     "metadata": {},
     "output_type": "execute_result"
    }
   ],
   "source": [
    "import itertools\n",
    "\n",
    "elemToSpecD = dict(itertools.chain(*[[(Nelem[i, j], Nspec[i, j]) for j in range(2)] for i in range(3)]))\n",
    "\n",
    "elemToSpec = list(elemToSpecD.items())\n",
    "\n",
    "Matrix(elemToSpec)"
   ]
  },
  {
   "cell_type": "code",
   "execution_count": 15,
   "metadata": {
    "execution": {
     "iopub.execute_input": "2020-09-21T06:33:50.114480Z",
     "iopub.status.busy": "2020-09-21T06:33:50.112959Z",
     "iopub.status.idle": "2020-09-21T06:33:50.148092Z",
     "shell.execute_reply": "2020-09-21T06:33:50.149261Z"
    },
    "lines_to_next_cell": 0,
    "title": "codecell"
   },
   "outputs": [
    {
     "data": {
      "text/latex": [
       "$\\displaystyle \\left[\\begin{matrix}n_{11} & \\operatorname{n_{11}}{\\left(w_{11} x_{11} + w_{21} x_{12} + w_{31} x_{13} \\right)}\\\\n_{12} & \\operatorname{n_{12}}{\\left(w_{12} x_{11} + w_{22} x_{12} + w_{32} x_{13} \\right)}\\\\n_{21} & \\operatorname{n_{21}}{\\left(w_{11} x_{21} + w_{21} x_{22} + w_{31} x_{23} \\right)}\\\\n_{22} & \\operatorname{n_{22}}{\\left(w_{12} x_{21} + w_{22} x_{22} + w_{32} x_{23} \\right)}\\\\n_{31} & \\operatorname{n_{31}}{\\left(w_{11} x_{31} + w_{21} x_{32} + w_{31} x_{33} \\right)}\\\\n_{32} & \\operatorname{n_{32}}{\\left(w_{12} x_{31} + w_{22} x_{32} + w_{32} x_{33} \\right)}\\end{matrix}\\right]$"
      ],
      "text/plain": [
       "Matrix([\n",
       "[n_11, n_11(w_11*x_11 + w_21*x_12 + w_31*x_13)],\n",
       "[n_12, n_12(w_12*x_11 + w_22*x_12 + w_32*x_13)],\n",
       "[n_21, n_21(w_11*x_21 + w_21*x_22 + w_31*x_23)],\n",
       "[n_22, n_22(w_12*x_21 + w_22*x_22 + w_32*x_23)],\n",
       "[n_31, n_31(w_11*x_31 + w_21*x_32 + w_31*x_33)],\n",
       "[n_32, n_32(w_12*x_31 + w_22*x_32 + w_32*x_33)]])"
      ]
     },
     "execution_count": 1,
     "metadata": {},
     "output_type": "execute_result"
    }
   ],
   "source": [
    "elemToSpecFuncD = dict(itertools.chain(*[[(Nelem[i, j], Function(\"n_{}{}\".format(i + 1, j + 1))(Nspec[i, j])) for j in range(2)] for i in range(3)]))\n",
    "\n",
    "elemToSpecFunc = list(elemToSpecFuncD.items())\n",
    "\n",
    "Matrix(elemToSpecFunc)"
   ]
  },
  {
   "cell_type": "code",
   "execution_count": 16,
   "metadata": {
    "execution": {
     "iopub.execute_input": "2020-09-21T06:33:50.154278Z",
     "iopub.status.busy": "2020-09-21T06:33:50.152773Z",
     "iopub.status.idle": "2020-09-21T06:33:50.180896Z",
     "shell.execute_reply": "2020-09-21T06:33:50.182015Z"
    },
    "lines_to_next_cell": 2,
    "title": "codecell"
   },
   "outputs": [
    {
     "data": {
      "text/latex": [
       "$\\displaystyle \\left[\\begin{matrix}n_{11} & \\operatorname{n_{11}}{\\left(x_{11},x_{12},x_{13},x_{21},x_{22},x_{23},x_{31},x_{32},x_{33},w_{11},w_{12},w_{21},w_{22},w_{31},w_{32} \\right)}\\\\n_{12} & \\operatorname{n_{12}}{\\left(x_{11},x_{12},x_{13},x_{21},x_{22},x_{23},x_{31},x_{32},x_{33},w_{11},w_{12},w_{21},w_{22},w_{31},w_{32} \\right)}\\\\n_{21} & \\operatorname{n_{21}}{\\left(x_{11},x_{12},x_{13},x_{21},x_{22},x_{23},x_{31},x_{32},x_{33},w_{11},w_{12},w_{21},w_{22},w_{31},w_{32} \\right)}\\\\n_{22} & \\operatorname{n_{22}}{\\left(x_{11},x_{12},x_{13},x_{21},x_{22},x_{23},x_{31},x_{32},x_{33},w_{11},w_{12},w_{21},w_{22},w_{31},w_{32} \\right)}\\\\n_{31} & \\operatorname{n_{31}}{\\left(x_{11},x_{12},x_{13},x_{21},x_{22},x_{23},x_{31},x_{32},x_{33},w_{11},w_{12},w_{21},w_{22},w_{31},w_{32} \\right)}\\\\n_{32} & \\operatorname{n_{32}}{\\left(x_{11},x_{12},x_{13},x_{21},x_{22},x_{23},x_{31},x_{32},x_{33},w_{11},w_{12},w_{21},w_{22},w_{31},w_{32} \\right)}\\end{matrix}\\right]$"
      ],
      "text/plain": [
       "Matrix([\n",
       "[n_11, n_11(x_11, x_12, x_13, x_21, x_22, x_23, x_31, x_32, x_33, w_11, w_12, w_21, w_22, w_31, w_32)],\n",
       "[n_12, n_12(x_11, x_12, x_13, x_21, x_22, x_23, x_31, x_32, x_33, w_11, w_12, w_21, w_22, w_31, w_32)],\n",
       "[n_21, n_21(x_11, x_12, x_13, x_21, x_22, x_23, x_31, x_32, x_33, w_11, w_12, w_21, w_22, w_31, w_32)],\n",
       "[n_22, n_22(x_11, x_12, x_13, x_21, x_22, x_23, x_31, x_32, x_33, w_11, w_12, w_21, w_22, w_31, w_32)],\n",
       "[n_31, n_31(x_11, x_12, x_13, x_21, x_22, x_23, x_31, x_32, x_33, w_11, w_12, w_21, w_22, w_31, w_32)],\n",
       "[n_32, n_32(x_11, x_12, x_13, x_21, x_22, x_23, x_31, x_32, x_33, w_11, w_12, w_21, w_22, w_31, w_32)]])"
      ]
     },
     "execution_count": 1,
     "metadata": {},
     "output_type": "execute_result"
    }
   ],
   "source": [
    "elemToSpecFuncArgsD = dict(itertools.chain(*[[(Nelem[i, j], Function(\"n_{}{}\".format(i + 1, j + 1))(*X,*W)) for j in range(2)] for i in range(3)]))\n",
    "\n",
    "elemToSpecFuncArgs = list(elemToSpecFuncArgsD.items())\n",
    "\n",
    "Matrix(elemToSpecFuncArgs)"
   ]
  },
  {
   "cell_type": "code",
   "execution_count": 17,
   "metadata": {
    "execution": {
     "iopub.execute_input": "2020-09-21T06:33:50.186798Z",
     "iopub.status.busy": "2020-09-21T06:33:50.185323Z",
     "iopub.status.idle": "2020-09-21T06:33:50.202083Z",
     "shell.execute_reply": "2020-09-21T06:33:50.203231Z"
    },
    "title": "codecell"
   },
   "outputs": [
    {
     "data": {
      "text/latex": [
       "$\\displaystyle \\left[\\begin{matrix}n_{11} & \\operatorname{n_{11}}{\\left(X,W \\right)}\\\\n_{12} & \\operatorname{n_{12}}{\\left(X,W \\right)}\\\\n_{21} & \\operatorname{n_{21}}{\\left(X,W \\right)}\\\\n_{22} & \\operatorname{n_{22}}{\\left(X,W \\right)}\\\\n_{31} & \\operatorname{n_{31}}{\\left(X,W \\right)}\\\\n_{32} & \\operatorname{n_{32}}{\\left(X,W \\right)}\\end{matrix}\\right]$"
      ],
      "text/plain": [
       "Matrix([\n",
       "[n_11, n_11(X, W)],\n",
       "[n_12, n_12(X, W)],\n",
       "[n_21, n_21(X, W)],\n",
       "[n_22, n_22(X, W)],\n",
       "[n_31, n_31(X, W)],\n",
       "[n_32, n_32(X, W)]])"
      ]
     },
     "execution_count": 1,
     "metadata": {},
     "output_type": "execute_result"
    }
   ],
   "source": [
    "elemToMatArgD = dict(itertools.chain(*[[(Nelem[i, j], Function(\"n_{}{}\".format(i+1,j+1))(A,B) ) for j in range(2)] for i in range(3)]))\n",
    "\n",
    "elemToMatArg = list(elemToMatArgD.items())\n",
    "\n",
    "Matrix(elemToMatArg)"
   ]
  },
  {
   "cell_type": "code",
   "execution_count": 18,
   "metadata": {
    "execution": {
     "iopub.execute_input": "2020-09-21T06:33:50.208114Z",
     "iopub.status.busy": "2020-09-21T06:33:50.206642Z",
     "iopub.status.idle": "2020-09-21T06:33:50.236627Z",
     "shell.execute_reply": "2020-09-21T06:33:50.237703Z"
    },
    "lines_to_next_cell": 2,
    "title": "codecell"
   },
   "outputs": [
    {
     "data": {
      "text/latex": [
       "$\\displaystyle \\left[\\begin{matrix}\\operatorname{n_{11}}{\\left(X,W \\right)} & w_{11} x_{11} + w_{21} x_{12} + w_{31} x_{13}\\\\\\operatorname{n_{12}}{\\left(X,W \\right)} & w_{12} x_{11} + w_{22} x_{12} + w_{32} x_{13}\\\\\\operatorname{n_{21}}{\\left(X,W \\right)} & w_{11} x_{21} + w_{21} x_{22} + w_{31} x_{23}\\\\\\operatorname{n_{22}}{\\left(X,W \\right)} & w_{12} x_{21} + w_{22} x_{22} + w_{32} x_{23}\\\\\\operatorname{n_{31}}{\\left(X,W \\right)} & w_{11} x_{31} + w_{21} x_{32} + w_{31} x_{33}\\\\\\operatorname{n_{32}}{\\left(X,W \\right)} & w_{12} x_{31} + w_{22} x_{32} + w_{32} x_{33}\\end{matrix}\\right]$"
      ],
      "text/plain": [
       "Matrix([\n",
       "[n_11(X, W), w_11*x_11 + w_21*x_12 + w_31*x_13],\n",
       "[n_12(X, W), w_12*x_11 + w_22*x_12 + w_32*x_13],\n",
       "[n_21(X, W), w_11*x_21 + w_21*x_22 + w_31*x_23],\n",
       "[n_22(X, W), w_12*x_21 + w_22*x_22 + w_32*x_23],\n",
       "[n_31(X, W), w_11*x_31 + w_21*x_32 + w_31*x_33],\n",
       "[n_32(X, W), w_12*x_31 + w_22*x_32 + w_32*x_33]])"
      ]
     },
     "execution_count": 1,
     "metadata": {},
     "output_type": "execute_result"
    }
   ],
   "source": [
    "matargToSpecD = dict(zip(elemToMatArgD.values(), elemToSpecD.values()))\n",
    "\n",
    "matargToSpec = list(matargToSpecD.items())\n",
    "\n",
    "Matrix(matargToSpec)"
   ]
  },
  {
   "cell_type": "code",
   "execution_count": 19,
   "metadata": {
    "execution": {
     "iopub.execute_input": "2020-09-21T06:33:50.242945Z",
     "iopub.status.busy": "2020-09-21T06:33:50.241443Z",
     "iopub.status.idle": "2020-09-21T06:33:50.253157Z",
     "shell.execute_reply": "2020-09-21T06:33:50.254217Z"
    },
    "lines_to_next_cell": 0,
    "title": "codecell"
   },
   "outputs": [
    {
     "data": {
      "text/latex": [
       "$\\displaystyle \\left[\\begin{matrix}\\sigma{\\left(n_{11} \\right)} & \\sigma{\\left(n_{12} \\right)}\\\\\\sigma{\\left(n_{21} \\right)} & \\sigma{\\left(n_{22} \\right)}\\\\\\sigma{\\left(n_{31} \\right)} & \\sigma{\\left(n_{32} \\right)}\\end{matrix}\\right]$"
      ],
      "text/plain": [
       "Matrix([\n",
       "[sigma(n_11), sigma(n_12)],\n",
       "[sigma(n_21), sigma(n_22)],\n",
       "[sigma(n_31), sigma(n_32)]])"
      ]
     },
     "execution_count": 1,
     "metadata": {},
     "output_type": "execute_result"
    }
   ],
   "source": [
    "Selem"
   ]
  },
  {
   "cell_type": "code",
   "execution_count": 20,
   "metadata": {
    "execution": {
     "iopub.execute_input": "2020-09-21T06:33:50.259070Z",
     "iopub.status.busy": "2020-09-21T06:33:50.257591Z",
     "iopub.status.idle": "2020-09-21T06:33:50.314446Z",
     "shell.execute_reply": "2020-09-21T06:33:50.315543Z"
    },
    "lines_to_next_cell": 0,
    "title": "codecell"
   },
   "outputs": [
    {
     "data": {
      "text/latex": [
       "$\\displaystyle \\left[\\begin{matrix}\\sigma{\\left(w_{11} x_{11} + w_{21} x_{12} + w_{31} x_{13} \\right)} & \\sigma{\\left(w_{12} x_{11} + w_{22} x_{12} + w_{32} x_{13} \\right)}\\\\\\sigma{\\left(w_{11} x_{21} + w_{21} x_{22} + w_{31} x_{23} \\right)} & \\sigma{\\left(w_{12} x_{21} + w_{22} x_{22} + w_{32} x_{23} \\right)}\\\\\\sigma{\\left(w_{11} x_{31} + w_{21} x_{32} + w_{31} x_{33} \\right)} & \\sigma{\\left(w_{12} x_{31} + w_{22} x_{32} + w_{32} x_{33} \\right)}\\end{matrix}\\right]$"
      ],
      "text/plain": [
       "Matrix([\n",
       "[sigma(w_11*x_11 + w_21*x_12 + w_31*x_13), sigma(w_12*x_11 + w_22*x_12 + w_32*x_13)],\n",
       "[sigma(w_11*x_21 + w_21*x_22 + w_31*x_23), sigma(w_12*x_21 + w_22*x_22 + w_32*x_23)],\n",
       "[sigma(w_11*x_31 + w_21*x_32 + w_31*x_33), sigma(w_12*x_31 + w_22*x_32 + w_32*x_33)]])"
      ]
     },
     "execution_count": 1,
     "metadata": {},
     "output_type": "execute_result"
    }
   ],
   "source": [
    "Selem.subs(elemToSpecD)"
   ]
  },
  {
   "cell_type": "code",
   "execution_count": 21,
   "metadata": {
    "execution": {
     "iopub.execute_input": "2020-09-21T06:33:50.325102Z",
     "iopub.status.busy": "2020-09-21T06:33:50.321582Z",
     "iopub.status.idle": "2020-09-21T06:33:50.348203Z",
     "shell.execute_reply": "2020-09-21T06:33:50.349379Z"
    },
    "lines_to_next_cell": 0,
    "title": "codecell"
   },
   "outputs": [
    {
     "data": {
      "text/latex": [
       "$\\displaystyle \\frac{d}{d n_{12}} \\sigma{\\left(n_{12} \\right)}$"
      ],
      "text/plain": [
       "Derivative(sigma(n_12), n_12)"
      ]
     },
     "execution_count": 1,
     "metadata": {},
     "output_type": "execute_result"
    }
   ],
   "source": [
    "Selem[0,1].diff(Nelem[0,1])"
   ]
  },
  {
   "cell_type": "code",
   "execution_count": 22,
   "metadata": {
    "execution": {
     "iopub.execute_input": "2020-09-21T06:33:50.354926Z",
     "iopub.status.busy": "2020-09-21T06:33:50.352922Z",
     "iopub.status.idle": "2020-09-21T06:33:50.392880Z",
     "shell.execute_reply": "2020-09-21T06:33:50.393987Z"
    },
    "title": "codecell"
   },
   "outputs": [
    {
     "data": {
      "text/latex": [
       "$\\displaystyle \\left. \\frac{d}{d n_{12}} \\sigma{\\left(n_{12} \\right)} \\right|_{\\substack{ n_{12}=w_{12} x_{11} + w_{22} x_{12} + w_{32} x_{13} }}$"
      ],
      "text/plain": [
       "Subs(Derivative(sigma(n_12), n_12), n_12, w_12*x_11 + w_22*x_12 + w_32*x_13)"
      ]
     },
     "execution_count": 1,
     "metadata": {},
     "output_type": "execute_result"
    }
   ],
   "source": [
    "Selem[0,1].diff(Nelem[0,1]).subs({Nelem[0,1] : Nspec[0,1]})\n",
    "#Selem[0,1].diff(Nelem[0,1]).subs(dict([{Nelem[0,1] : Nspec[0,1]}]))"
   ]
  },
  {
   "cell_type": "code",
   "execution_count": 23,
   "metadata": {
    "execution": {
     "iopub.execute_input": "2020-09-21T06:33:50.405886Z",
     "iopub.status.busy": "2020-09-21T06:33:50.402821Z",
     "iopub.status.idle": "2020-09-21T06:33:50.436025Z",
     "shell.execute_reply": "2020-09-21T06:33:50.437154Z"
    },
    "lines_to_next_cell": 0,
    "title": "codecell"
   },
   "outputs": [
    {
     "data": {
      "text/latex": [
       "$\\displaystyle \\left. \\frac{d}{d n_{12}} \\sigma{\\left(n_{12} \\right)} \\right|_{\\substack{ n_{12}=23 }}$"
      ],
      "text/plain": [
       "Subs(Derivative(sigma(n_12), n_12), n_12, 23)"
      ]
     },
     "execution_count": 1,
     "metadata": {},
     "output_type": "execute_result"
    }
   ],
   "source": [
    "Selem[0,1].diff(Nelem[0,1]).subs({Nelem[0,1] : Nspec[0,1]}).subs({Nspec[0,1] : 23})"
   ]
  },
  {
   "cell_type": "code",
   "execution_count": 24,
   "metadata": {
    "execution": {
     "iopub.execute_input": "2020-09-21T06:33:50.442250Z",
     "iopub.status.busy": "2020-09-21T06:33:50.440740Z",
     "iopub.status.idle": "2020-09-21T06:33:50.477603Z",
     "shell.execute_reply": "2020-09-21T06:33:50.479131Z"
    },
    "lines_to_next_cell": 0,
    "title": "codecell"
   },
   "outputs": [
    {
     "data": {
      "text/latex": [
       "$\\displaystyle \\left. \\frac{d}{d n_{12}} 8 n_{12}^{3} \\right|_{\\substack{ n_{12}=w_{12} x_{11} + w_{22} x_{12} + w_{32} x_{13} }}$"
      ],
      "text/plain": [
       "Subs(Derivative(8*n_12**3, n_12), n_12, w_12*x_11 + w_22*x_12 + w_32*x_13)"
      ]
     },
     "execution_count": 1,
     "metadata": {},
     "output_type": "execute_result"
    }
   ],
   "source": [
    "Selem[0,1].diff(Nelem[0,1]).subs({Nelem[0,1] : Nspec[0,1]}).replace(sigma, lambda x: 8*x**3)"
   ]
  },
  {
   "cell_type": "code",
   "execution_count": 25,
   "metadata": {
    "execution": {
     "iopub.execute_input": "2020-09-21T06:33:50.484680Z",
     "iopub.status.busy": "2020-09-21T06:33:50.482858Z",
     "iopub.status.idle": "2020-09-21T06:33:50.496280Z",
     "shell.execute_reply": "2020-09-21T06:33:50.497414Z"
    },
    "lines_to_next_cell": 0,
    "title": "codecell"
   },
   "outputs": [
    {
     "data": {
      "text/latex": [
       "$\\displaystyle \\frac{d}{d n_{12}} 8 n_{12}^{3}$"
      ],
      "text/plain": [
       "Derivative(8*n_12**3, n_12)"
      ]
     },
     "execution_count": 1,
     "metadata": {},
     "output_type": "execute_result"
    }
   ],
   "source": [
    "Selem[0,1].diff(Nelem[0,1]).replace(sigma, lambda x: 8*x**3)"
   ]
  },
  {
   "cell_type": "code",
   "execution_count": 26,
   "metadata": {
    "execution": {
     "iopub.execute_input": "2020-09-21T06:33:50.502277Z",
     "iopub.status.busy": "2020-09-21T06:33:50.500826Z",
     "iopub.status.idle": "2020-09-21T06:33:50.527188Z",
     "shell.execute_reply": "2020-09-21T06:33:50.528273Z"
    },
    "lines_to_next_cell": 0,
    "title": "codecell"
   },
   "outputs": [
    {
     "data": {
      "text/latex": [
       "$\\displaystyle 24 n_{12}^{2}$"
      ],
      "text/plain": [
       "24*n_12**2"
      ]
     },
     "execution_count": 1,
     "metadata": {},
     "output_type": "execute_result"
    }
   ],
   "source": [
    "Selem[0,1].diff(Nelem[0,1]).replace(sigma, lambda x: 8*x**3).doit()"
   ]
  },
  {
   "cell_type": "code",
   "execution_count": 27,
   "metadata": {
    "execution": {
     "iopub.execute_input": "2020-09-21T06:33:50.533180Z",
     "iopub.status.busy": "2020-09-21T06:33:50.531647Z",
     "iopub.status.idle": "2020-09-21T06:33:50.555152Z",
     "shell.execute_reply": "2020-09-21T06:33:50.556234Z"
    },
    "lines_to_next_cell": 0,
    "title": "codecell"
   },
   "outputs": [
    {
     "data": {
      "text/latex": [
       "$\\displaystyle 24 \\left(w_{12} x_{11} + w_{22} x_{12} + w_{32} x_{13}\\right)^{2}$"
      ],
      "text/plain": [
       "24*(w_12*x_11 + w_22*x_12 + w_32*x_13)**2"
      ]
     },
     "execution_count": 1,
     "metadata": {},
     "output_type": "execute_result"
    }
   ],
   "source": [
    "# ### GOT IT: can replace now with expression and do derivative with respect to that expression.\n",
    "Selem[0,1].diff(Nelem[0,1]).subs({Nelem[0,1] : Nspec[0,1]}).replace(sigma, lambda x: 8*x**3).doit()"
   ]
  },
  {
   "cell_type": "code",
   "execution_count": 28,
   "metadata": {
    "execution": {
     "iopub.execute_input": "2020-09-21T06:33:50.561153Z",
     "iopub.status.busy": "2020-09-21T06:33:50.559658Z",
     "iopub.status.idle": "2020-09-21T06:33:50.582351Z",
     "shell.execute_reply": "2020-09-21T06:33:50.583423Z"
    },
    "lines_to_next_cell": 0,
    "title": "codecell"
   },
   "outputs": [
    {
     "data": {
      "text/latex": [
       "$\\displaystyle w_{22} \\left. \\frac{d}{d \\xi_{1}} \\sigma{\\left(\\xi_{1} \\right)} \\right|_{\\substack{ \\xi_{1}=w_{12} x_{11} + w_{22} x_{12} + w_{32} x_{13} }}$"
      ],
      "text/plain": [
       "w_22*Subs(Derivative(sigma(_xi_1), _xi_1), _xi_1, w_12*x_11 + w_22*x_12 + w_32*x_13)"
      ]
     },
     "execution_count": 1,
     "metadata": {},
     "output_type": "execute_result"
    }
   ],
   "source": [
    "Selem[0,1].subs({Nelem[0,1] : Nspec[0,1]}).diff(X[0,1])#.subs({Nelem[0,1] : Nspec[0,1]})"
   ]
  },
  {
   "cell_type": "code",
   "execution_count": 29,
   "metadata": {
    "execution": {
     "iopub.execute_input": "2020-09-21T06:33:50.588222Z",
     "iopub.status.busy": "2020-09-21T06:33:50.586761Z",
     "iopub.status.idle": "2020-09-21T06:33:50.598438Z",
     "shell.execute_reply": "2020-09-21T06:33:50.599514Z"
    },
    "title": "codecell"
   },
   "outputs": [
    {
     "data": {
      "text/latex": [
       "$\\displaystyle \\left[\\begin{matrix}\\sigma{\\left(n_{11} \\right)} & \\sigma{\\left(n_{12} \\right)}\\\\\\sigma{\\left(n_{21} \\right)} & \\sigma{\\left(n_{22} \\right)}\\\\\\sigma{\\left(n_{31} \\right)} & \\sigma{\\left(n_{32} \\right)}\\end{matrix}\\right]$"
      ],
      "text/plain": [
       "Matrix([\n",
       "[sigma(n_11), sigma(n_12)],\n",
       "[sigma(n_21), sigma(n_22)],\n",
       "[sigma(n_31), sigma(n_32)]])"
      ]
     },
     "execution_count": 1,
     "metadata": {},
     "output_type": "execute_result"
    }
   ],
   "source": [
    "Selem"
   ]
  },
  {
   "cell_type": "code",
   "execution_count": 30,
   "metadata": {
    "execution": {
     "iopub.execute_input": "2020-09-21T06:33:50.604399Z",
     "iopub.status.busy": "2020-09-21T06:33:50.602908Z",
     "iopub.status.idle": "2020-09-21T06:33:50.655574Z",
     "shell.execute_reply": "2020-09-21T06:33:50.656720Z"
    },
    "lines_to_next_cell": 0,
    "title": "codecell"
   },
   "outputs": [
    {
     "data": {
      "text/latex": [
       "$\\displaystyle \\left[\\begin{matrix}\\operatorname{n_{11}}{\\left(w_{11} x_{11} + w_{21} x_{12} + w_{31} x_{13} \\right)} & \\operatorname{n_{12}}{\\left(w_{12} x_{11} + w_{22} x_{12} + w_{32} x_{13} \\right)}\\\\\\operatorname{n_{21}}{\\left(w_{11} x_{21} + w_{21} x_{22} + w_{31} x_{23} \\right)} & \\operatorname{n_{22}}{\\left(w_{12} x_{21} + w_{22} x_{22} + w_{32} x_{23} \\right)}\\\\\\operatorname{n_{31}}{\\left(w_{11} x_{31} + w_{21} x_{32} + w_{31} x_{33} \\right)} & \\operatorname{n_{32}}{\\left(w_{12} x_{31} + w_{22} x_{32} + w_{32} x_{33} \\right)}\\end{matrix}\\right]$"
      ],
      "text/plain": [
       "Matrix([\n",
       "[n_11(w_11*x_11 + w_21*x_12 + w_31*x_13), n_12(w_12*x_11 + w_22*x_12 + w_32*x_13)],\n",
       "[n_21(w_11*x_21 + w_21*x_22 + w_31*x_23), n_22(w_12*x_21 + w_22*x_22 + w_32*x_23)],\n",
       "[n_31(w_11*x_31 + w_21*x_32 + w_31*x_33), n_32(w_12*x_31 + w_22*x_32 + w_32*x_33)]])"
      ]
     },
     "execution_count": 1,
     "metadata": {},
     "output_type": "execute_result"
    }
   ],
   "source": [
    "nt = Nelem.subs(elemToSpecFunc); nt"
   ]
  },
  {
   "cell_type": "code",
   "execution_count": 31,
   "metadata": {
    "execution": {
     "iopub.execute_input": "2020-09-21T06:33:50.661461Z",
     "iopub.status.busy": "2020-09-21T06:33:50.659989Z",
     "iopub.status.idle": "2020-09-21T06:33:50.701299Z",
     "shell.execute_reply": "2020-09-21T06:33:50.702382Z"
    },
    "lines_to_next_cell": 0,
    "title": "codecell"
   },
   "outputs": [
    {
     "data": {
      "text/latex": [
       "$\\displaystyle \\left[\\begin{matrix}\\sigma{\\left(\\operatorname{n_{11}}{\\left(w_{11} x_{11} + w_{21} x_{12} + w_{31} x_{13} \\right)} \\right)} & \\sigma{\\left(\\operatorname{n_{12}}{\\left(w_{12} x_{11} + w_{22} x_{12} + w_{32} x_{13} \\right)} \\right)}\\\\\\sigma{\\left(\\operatorname{n_{21}}{\\left(w_{11} x_{21} + w_{21} x_{22} + w_{31} x_{23} \\right)} \\right)} & \\sigma{\\left(\\operatorname{n_{22}}{\\left(w_{12} x_{21} + w_{22} x_{22} + w_{32} x_{23} \\right)} \\right)}\\\\\\sigma{\\left(\\operatorname{n_{31}}{\\left(w_{11} x_{31} + w_{21} x_{32} + w_{31} x_{33} \\right)} \\right)} & \\sigma{\\left(\\operatorname{n_{32}}{\\left(w_{12} x_{31} + w_{22} x_{32} + w_{32} x_{33} \\right)} \\right)}\\end{matrix}\\right]$"
      ],
      "text/plain": [
       "Matrix([\n",
       "[sigma(n_11(w_11*x_11 + w_21*x_12 + w_31*x_13)), sigma(n_12(w_12*x_11 + w_22*x_12 + w_32*x_13))],\n",
       "[sigma(n_21(w_11*x_21 + w_21*x_22 + w_31*x_23)), sigma(n_22(w_12*x_21 + w_22*x_22 + w_32*x_23))],\n",
       "[sigma(n_31(w_11*x_31 + w_21*x_32 + w_31*x_33)), sigma(n_32(w_12*x_31 + w_22*x_32 + w_32*x_33))]])"
      ]
     },
     "execution_count": 1,
     "metadata": {},
     "output_type": "execute_result"
    }
   ],
   "source": [
    "st = Selem.subs(elemToSpecFunc); st"
   ]
  },
  {
   "cell_type": "code",
   "execution_count": 32,
   "metadata": {
    "execution": {
     "iopub.execute_input": "2020-09-21T06:33:50.707544Z",
     "iopub.status.busy": "2020-09-21T06:33:50.706035Z",
     "iopub.status.idle": "2020-09-21T06:33:50.824280Z",
     "shell.execute_reply": "2020-09-21T06:33:50.825446Z"
    },
    "lines_to_next_cell": 0,
    "title": "codecell"
   },
   "outputs": [
    {
     "data": {
      "text/latex": [
       "$\\displaystyle \\left[\\begin{matrix}\\left[\\begin{matrix}\\frac{\\partial}{\\partial \\operatorname{n_{11}}{\\left(w_{11} x_{11} + w_{21} x_{12} + w_{31} x_{13} \\right)}} \\sigma{\\left(\\operatorname{n_{11}}{\\left(w_{11} x_{11} + w_{21} x_{12} + w_{31} x_{13} \\right)} \\right)} & 0\\\\0 & 0\\\\0 & 0\\end{matrix}\\right] & \\left[\\begin{matrix}0 & \\frac{\\partial}{\\partial \\operatorname{n_{12}}{\\left(w_{12} x_{11} + w_{22} x_{12} + w_{32} x_{13} \\right)}} \\sigma{\\left(\\operatorname{n_{12}}{\\left(w_{12} x_{11} + w_{22} x_{12} + w_{32} x_{13} \\right)} \\right)}\\\\0 & 0\\\\0 & 0\\end{matrix}\\right]\\\\\\left[\\begin{matrix}0 & 0\\\\\\frac{\\partial}{\\partial \\operatorname{n_{21}}{\\left(w_{11} x_{21} + w_{21} x_{22} + w_{31} x_{23} \\right)}} \\sigma{\\left(\\operatorname{n_{21}}{\\left(w_{11} x_{21} + w_{21} x_{22} + w_{31} x_{23} \\right)} \\right)} & 0\\\\0 & 0\\end{matrix}\\right] & \\left[\\begin{matrix}0 & 0\\\\0 & \\frac{\\partial}{\\partial \\operatorname{n_{22}}{\\left(w_{12} x_{21} + w_{22} x_{22} + w_{32} x_{23} \\right)}} \\sigma{\\left(\\operatorname{n_{22}}{\\left(w_{12} x_{21} + w_{22} x_{22} + w_{32} x_{23} \\right)} \\right)}\\\\0 & 0\\end{matrix}\\right]\\\\\\left[\\begin{matrix}0 & 0\\\\0 & 0\\\\\\frac{\\partial}{\\partial \\operatorname{n_{31}}{\\left(w_{11} x_{31} + w_{21} x_{32} + w_{31} x_{33} \\right)}} \\sigma{\\left(\\operatorname{n_{31}}{\\left(w_{11} x_{31} + w_{21} x_{32} + w_{31} x_{33} \\right)} \\right)} & 0\\end{matrix}\\right] & \\left[\\begin{matrix}0 & 0\\\\0 & 0\\\\0 & \\frac{\\partial}{\\partial \\operatorname{n_{32}}{\\left(w_{12} x_{31} + w_{22} x_{32} + w_{32} x_{33} \\right)}} \\sigma{\\left(\\operatorname{n_{32}}{\\left(w_{12} x_{31} + w_{22} x_{32} + w_{32} x_{33} \\right)} \\right)}\\end{matrix}\\right]\\end{matrix}\\right]$"
      ],
      "text/plain": [
       "[[[[Derivative(sigma(n_11(w_11*x_11 + w_21*x_12 + w_31*x_13)), n_11(w_11*x_11 + w_21*x_12 + w_31*x_13)), 0], [0, 0], [0, 0]], [[0, Derivative(sigma(n_12(w_12*x_11 + w_22*x_12 + w_32*x_13)), n_12(w_12*x_11 + w_22*x_12 + w_32*x_13))], [0, 0], [0, 0]]], [[[0, 0], [Derivative(sigma(n_21(w_11*x_21 + w_21*x_22 + w_31*x_23)), n_21(w_11*x_21 + w_21*x_22 + w_31*x_23)), 0], [0, 0]], [[0, 0], [0, Derivative(sigma(n_22(w_12*x_21 + w_22*x_22 + w_32*x_23)), n_22(w_12*x_21 + w_22*x_22 + w_32*x_23))], [0, 0]]], [[[0, 0], [0, 0], [Derivative(sigma(n_31(w_11*x_31 + w_21*x_32 + w_31*x_33)), n_31(w_11*x_31 + w_21*x_32 + w_31*x_33)), 0]], [[0, 0], [0, 0], [0, Derivative(sigma(n_32(w_12*x_31 + w_22*x_32 + w_32*x_33)), n_32(w_12*x_31 + w_22*x_32 + w_32*x_33))]]]]"
      ]
     },
     "execution_count": 1,
     "metadata": {},
     "output_type": "execute_result"
    }
   ],
   "source": [
    "st.diff(nt)"
   ]
  },
  {
   "cell_type": "code",
   "execution_count": 33,
   "metadata": {
    "execution": {
     "iopub.execute_input": "2020-09-21T06:33:50.830222Z",
     "iopub.status.busy": "2020-09-21T06:33:50.828796Z",
     "iopub.status.idle": "2020-09-21T06:33:50.847606Z",
     "shell.execute_reply": "2020-09-21T06:33:50.848746Z"
    },
    "lines_to_next_cell": 0,
    "title": "codecell"
   },
   "outputs": [
    {
     "data": {
      "text/latex": [
       "$\\displaystyle \\frac{\\partial}{\\partial \\operatorname{n_{11}}{\\left(w_{11} x_{11} + w_{21} x_{12} + w_{31} x_{13} \\right)}} \\sigma{\\left(\\operatorname{n_{11}}{\\left(w_{11} x_{11} + w_{21} x_{12} + w_{31} x_{13} \\right)} \\right)}$"
      ],
      "text/plain": [
       "Derivative(sigma(n_11(w_11*x_11 + w_21*x_12 + w_31*x_13)), n_11(w_11*x_11 + w_21*x_12 + w_31*x_13))"
      ]
     },
     "execution_count": 1,
     "metadata": {},
     "output_type": "execute_result"
    }
   ],
   "source": [
    "st[0,0].diff(st[0,0].args[0])"
   ]
  },
  {
   "cell_type": "code",
   "execution_count": 34,
   "metadata": {
    "execution": {
     "iopub.execute_input": "2020-09-21T06:33:50.853787Z",
     "iopub.status.busy": "2020-09-21T06:33:50.852289Z",
     "iopub.status.idle": "2020-09-21T06:33:50.885421Z",
     "shell.execute_reply": "2020-09-21T06:33:50.886527Z"
    },
    "title": "codecell"
   },
   "outputs": [
    {
     "data": {
      "text/latex": [
       "$\\displaystyle w_{11} \\frac{\\partial}{\\partial \\operatorname{n_{11}}{\\left(w_{11} x_{11} + w_{21} x_{12} + w_{31} x_{13} \\right)}} \\sigma{\\left(\\operatorname{n_{11}}{\\left(w_{11} x_{11} + w_{21} x_{12} + w_{31} x_{13} \\right)} \\right)} \\left. \\frac{d}{d \\xi_{1}} \\operatorname{n_{11}}{\\left(\\xi_{1} \\right)} \\right|_{\\substack{ \\xi_{1}=w_{11} x_{11} + w_{21} x_{12} + w_{31} x_{13} }}$"
      ],
      "text/plain": [
       "w_11*Derivative(sigma(n_11(w_11*x_11 + w_21*x_12 + w_31*x_13)), n_11(w_11*x_11 + w_21*x_12 + w_31*x_13))*Subs(Derivative(n_11(_xi_1), _xi_1), _xi_1, w_11*x_11 + w_21*x_12 + w_31*x_13)"
      ]
     },
     "execution_count": 1,
     "metadata": {},
     "output_type": "execute_result"
    }
   ],
   "source": [
    "temp = st[0,0].diff(X[0,0]); temp\n",
    "\n",
    "#nt[0,0]\n",
    "\n",
    "#temp.replace(Function(\"n_11\")(nt[0,0].args[0]), nt[0,0].args[0])\n",
    "\n",
    "#temp.subs({nt[0,0] : nt[0,0].args[0]})\n",
    "\n"
   ]
  },
  {
   "cell_type": "code",
   "execution_count": 35,
   "metadata": {
    "execution": {
     "iopub.execute_input": "2020-09-21T06:33:50.891139Z",
     "iopub.status.busy": "2020-09-21T06:33:50.889706Z",
     "iopub.status.idle": "2020-09-21T06:33:50.900876Z",
     "shell.execute_reply": "2020-09-21T06:33:50.902020Z"
    },
    "lines_to_next_cell": 0,
    "title": "codecell"
   },
   "outputs": [
    {
     "data": {
      "text/latex": [
       "$\\displaystyle 0$"
      ],
      "text/plain": [
       "0"
      ]
     },
     "execution_count": 1,
     "metadata": {},
     "output_type": "execute_result"
    }
   ],
   "source": [
    "st[0,0].diff(st[1,0].args[0])"
   ]
  },
  {
   "cell_type": "code",
   "execution_count": 36,
   "metadata": {
    "execution": {
     "iopub.execute_input": "2020-09-21T06:33:50.906962Z",
     "iopub.status.busy": "2020-09-21T06:33:50.905414Z",
     "iopub.status.idle": "2020-09-21T06:33:50.948044Z",
     "shell.execute_reply": "2020-09-21T06:33:50.949128Z"
    },
    "lines_to_next_cell": 0,
    "title": "codecell"
   },
   "outputs": [
    {
     "data": {
      "text/latex": [
       "$\\displaystyle \\left[\\begin{matrix}\\left[\\begin{matrix}\\frac{d}{d n_{11}} \\sigma{\\left(n_{11} \\right)} & 0\\\\0 & 0\\\\0 & 0\\end{matrix}\\right] & \\left[\\begin{matrix}0 & \\frac{d}{d n_{12}} \\sigma{\\left(n_{12} \\right)}\\\\0 & 0\\\\0 & 0\\end{matrix}\\right]\\\\\\left[\\begin{matrix}0 & 0\\\\\\frac{d}{d n_{21}} \\sigma{\\left(n_{21} \\right)} & 0\\\\0 & 0\\end{matrix}\\right] & \\left[\\begin{matrix}0 & 0\\\\0 & \\frac{d}{d n_{22}} \\sigma{\\left(n_{22} \\right)}\\\\0 & 0\\end{matrix}\\right]\\\\\\left[\\begin{matrix}0 & 0\\\\0 & 0\\\\\\frac{d}{d n_{31}} \\sigma{\\left(n_{31} \\right)} & 0\\end{matrix}\\right] & \\left[\\begin{matrix}0 & 0\\\\0 & 0\\\\0 & \\frac{d}{d n_{32}} \\sigma{\\left(n_{32} \\right)}\\end{matrix}\\right]\\end{matrix}\\right]$"
      ],
      "text/plain": [
       "[[[[Derivative(sigma(n_11), n_11), 0], [0, 0], [0, 0]], [[0, Derivative(sigma(n_12), n_12)], [0, 0], [0, 0]]], [[[0, 0], [Derivative(sigma(n_21), n_21), 0], [0, 0]], [[0, 0], [0, Derivative(sigma(n_22), n_22)], [0, 0]]], [[[0, 0], [0, 0], [Derivative(sigma(n_31), n_31), 0]], [[0, 0], [0, 0], [0, Derivative(sigma(n_32), n_32)]]]]"
      ]
     },
     "execution_count": 1,
     "metadata": {},
     "output_type": "execute_result"
    }
   ],
   "source": [
    "Selem.diff(Nelem)"
   ]
  },
  {
   "cell_type": "code",
   "execution_count": 37,
   "metadata": {
    "execution": {
     "iopub.execute_input": "2020-09-21T06:33:50.953926Z",
     "iopub.status.busy": "2020-09-21T06:33:50.952410Z",
     "iopub.status.idle": "2020-09-21T06:33:51.074981Z",
     "shell.execute_reply": "2020-09-21T06:33:51.076050Z"
    },
    "title": "codecell"
   },
   "outputs": [
    {
     "data": {
      "text/latex": [
       "$\\displaystyle \\left[\\begin{matrix}\\left[\\begin{matrix}\\frac{\\partial}{\\partial \\operatorname{n_{11}}{\\left(w_{11} x_{11} + w_{21} x_{12} + w_{31} x_{13} \\right)}} \\sigma{\\left(\\operatorname{n_{11}}{\\left(w_{11} x_{11} + w_{21} x_{12} + w_{31} x_{13} \\right)} \\right)} & 0\\\\0 & 0\\\\0 & 0\\end{matrix}\\right] & \\left[\\begin{matrix}0 & \\frac{\\partial}{\\partial \\operatorname{n_{12}}{\\left(w_{12} x_{11} + w_{22} x_{12} + w_{32} x_{13} \\right)}} \\sigma{\\left(\\operatorname{n_{12}}{\\left(w_{12} x_{11} + w_{22} x_{12} + w_{32} x_{13} \\right)} \\right)}\\\\0 & 0\\\\0 & 0\\end{matrix}\\right]\\\\\\left[\\begin{matrix}0 & 0\\\\\\frac{\\partial}{\\partial \\operatorname{n_{21}}{\\left(w_{11} x_{21} + w_{21} x_{22} + w_{31} x_{23} \\right)}} \\sigma{\\left(\\operatorname{n_{21}}{\\left(w_{11} x_{21} + w_{21} x_{22} + w_{31} x_{23} \\right)} \\right)} & 0\\\\0 & 0\\end{matrix}\\right] & \\left[\\begin{matrix}0 & 0\\\\0 & \\frac{\\partial}{\\partial \\operatorname{n_{22}}{\\left(w_{12} x_{21} + w_{22} x_{22} + w_{32} x_{23} \\right)}} \\sigma{\\left(\\operatorname{n_{22}}{\\left(w_{12} x_{21} + w_{22} x_{22} + w_{32} x_{23} \\right)} \\right)}\\\\0 & 0\\end{matrix}\\right]\\\\\\left[\\begin{matrix}0 & 0\\\\0 & 0\\\\\\frac{\\partial}{\\partial \\operatorname{n_{31}}{\\left(w_{11} x_{31} + w_{21} x_{32} + w_{31} x_{33} \\right)}} \\sigma{\\left(\\operatorname{n_{31}}{\\left(w_{11} x_{31} + w_{21} x_{32} + w_{31} x_{33} \\right)} \\right)} & 0\\end{matrix}\\right] & \\left[\\begin{matrix}0 & 0\\\\0 & 0\\\\0 & \\frac{\\partial}{\\partial \\operatorname{n_{32}}{\\left(w_{12} x_{31} + w_{22} x_{32} + w_{32} x_{33} \\right)}} \\sigma{\\left(\\operatorname{n_{32}}{\\left(w_{12} x_{31} + w_{22} x_{32} + w_{32} x_{33} \\right)} \\right)}\\end{matrix}\\right]\\end{matrix}\\right]$"
      ],
      "text/plain": [
       "[[[[Derivative(sigma(n_11(w_11*x_11 + w_21*x_12 + w_31*x_13)), n_11(w_11*x_11 + w_21*x_12 + w_31*x_13)), 0], [0, 0], [0, 0]], [[0, Derivative(sigma(n_12(w_12*x_11 + w_22*x_12 + w_32*x_13)), n_12(w_12*x_11 + w_22*x_12 + w_32*x_13))], [0, 0], [0, 0]]], [[[0, 0], [Derivative(sigma(n_21(w_11*x_21 + w_21*x_22 + w_31*x_23)), n_21(w_11*x_21 + w_21*x_22 + w_31*x_23)), 0], [0, 0]], [[0, 0], [0, Derivative(sigma(n_22(w_12*x_21 + w_22*x_22 + w_32*x_23)), n_22(w_12*x_21 + w_22*x_22 + w_32*x_23))], [0, 0]]], [[[0, 0], [0, 0], [Derivative(sigma(n_31(w_11*x_31 + w_21*x_32 + w_31*x_33)), n_31(w_11*x_31 + w_21*x_32 + w_31*x_33)), 0]], [[0, 0], [0, 0], [0, Derivative(sigma(n_32(w_12*x_31 + w_22*x_32 + w_32*x_33)), n_32(w_12*x_31 + w_22*x_32 + w_32*x_33))]]]]"
      ]
     },
     "execution_count": 1,
     "metadata": {},
     "output_type": "execute_result"
    }
   ],
   "source": [
    "Selem.diff(Nelem).subs(elemToSpecFunc)"
   ]
  },
  {
   "cell_type": "code",
   "execution_count": 38,
   "metadata": {
    "execution": {
     "iopub.execute_input": "2020-09-21T06:33:51.081439Z",
     "iopub.status.busy": "2020-09-21T06:33:51.079944Z",
     "iopub.status.idle": "2020-09-21T06:33:51.220908Z",
     "shell.execute_reply": "2020-09-21T06:33:51.221978Z"
    },
    "title": "codecell"
   },
   "outputs": [
    {
     "data": {
      "text/latex": [
       "$\\displaystyle \\left[\\begin{matrix}6 & 2 w_{12} x_{11} + 2 w_{22} x_{12} + 2 w_{32} x_{13}\\\\2 w_{11} x_{21} + 2 w_{21} x_{22} + 2 w_{31} x_{23} & 2 w_{12} x_{21} + 2 w_{22} x_{22} + 2 w_{32} x_{23}\\\\2 w_{11} x_{31} + 2 w_{21} x_{32} + 2 w_{31} x_{33} & 4\\end{matrix}\\right]$"
      ],
      "text/plain": [
       "Matrix([\n",
       "[                                      6, 2*w_12*x_11 + 2*w_22*x_12 + 2*w_32*x_13],\n",
       "[2*w_11*x_21 + 2*w_21*x_22 + 2*w_31*x_23, 2*w_12*x_21 + 2*w_22*x_22 + 2*w_32*x_23],\n",
       "[2*w_11*x_31 + 2*w_21*x_32 + 2*w_31*x_33,                                       4]])"
      ]
     },
     "execution_count": 1,
     "metadata": {},
     "output_type": "execute_result"
    }
   ],
   "source": [
    "# CAN even replace elements after have done an operation on them!!! replacing n_21 * 2 with the number 4.\n",
    "Sspec.subs({Nspec[0, 0]: 3}).replace(sigma, lambda x: 2 * x).replace(Nspec[2, 1] * 2, 4)\n",
    "\n",
    "\n",
    "\n",
    "\n",
    "\n",
    "\n",
    "\n"
   ]
  },
  {
   "cell_type": "code",
   "execution_count": 39,
   "metadata": {
    "execution": {
     "iopub.execute_input": "2020-09-21T06:33:51.226787Z",
     "iopub.status.busy": "2020-09-21T06:33:51.225316Z",
     "iopub.status.idle": "2020-09-21T06:33:51.236860Z",
     "shell.execute_reply": "2020-09-21T06:33:51.237920Z"
    },
    "lines_to_next_cell": 0,
    "title": "codecell"
   },
   "outputs": [
    {
     "data": {
      "text/latex": [
       "$\\displaystyle \\lambda{\\left(\\sigma_{apply}{\\left(v{\\left(X,W \\right)} \\right)} \\right)}$"
      ],
      "text/plain": [
       "lambda(sigma_apply(v(X, W)))"
      ]
     },
     "execution_count": 1,
     "metadata": {},
     "output_type": "execute_result"
    }
   ],
   "source": [
    "lambd = Function(\"lambda\")\n",
    "lambd_ = lambda matrix : sum(matrix)\n",
    "\n",
    "L = lambd(S); L"
   ]
  },
  {
   "cell_type": "code",
   "execution_count": 40,
   "metadata": {
    "execution": {
     "iopub.execute_input": "2020-09-21T06:33:51.242846Z",
     "iopub.status.busy": "2020-09-21T06:33:51.241383Z",
     "iopub.status.idle": "2020-09-21T06:33:51.255423Z",
     "shell.execute_reply": "2020-09-21T06:33:51.256480Z"
    },
    "lines_to_next_cell": 0,
    "title": "codecell"
   },
   "outputs": [
    {
     "data": {
      "text/latex": [
       "$\\displaystyle \\lambda{\\left(\\left[\\begin{matrix}\\sigma{\\left(n_{11} \\right)} & \\sigma{\\left(n_{12} \\right)}\\\\\\sigma{\\left(n_{21} \\right)} & \\sigma{\\left(n_{22} \\right)}\\\\\\sigma{\\left(n_{31} \\right)} & \\sigma{\\left(n_{32} \\right)}\\end{matrix}\\right] \\right)}$"
      ],
      "text/plain": [
       "lambda(Matrix([\n",
       "[sigma(n_11), sigma(n_12)],\n",
       "[sigma(n_21), sigma(n_22)],\n",
       "[sigma(n_31), sigma(n_32)]]))"
      ]
     },
     "execution_count": 1,
     "metadata": {},
     "output_type": "execute_result"
    }
   ],
   "source": [
    "L.replace(n, vN).replace(sigmaApply, sigmaApply_)"
   ]
  },
  {
   "cell_type": "code",
   "execution_count": 41,
   "metadata": {
    "execution": {
     "iopub.execute_input": "2020-09-21T06:33:51.261198Z",
     "iopub.status.busy": "2020-09-21T06:33:51.259706Z",
     "iopub.status.idle": "2020-09-21T06:33:51.265131Z",
     "shell.execute_reply": "2020-09-21T06:33:51.266239Z"
    },
    "title": "codecell"
   },
   "outputs": [],
   "source": [
    "#L.replace(n, vN).replace(sigmaApply, sigmaApply_).diff(Nelem[0,0])"
   ]
  },
  {
   "cell_type": "code",
   "execution_count": 42,
   "metadata": {
    "execution": {
     "iopub.execute_input": "2020-09-21T06:33:51.277427Z",
     "iopub.status.busy": "2020-09-21T06:33:51.269721Z",
     "iopub.status.idle": "2020-09-21T06:33:51.290013Z",
     "shell.execute_reply": "2020-09-21T06:33:51.291120Z"
    },
    "lines_to_next_cell": 0,
    "title": "codecell"
   },
   "outputs": [
    {
     "data": {
      "text/latex": [
       "$\\displaystyle \\sigma{\\left(n_{11} \\right)} + \\sigma{\\left(n_{12} \\right)} + \\sigma{\\left(n_{21} \\right)} + \\sigma{\\left(n_{22} \\right)} + \\sigma{\\left(n_{31} \\right)} + \\sigma{\\left(n_{32} \\right)}$"
      ],
      "text/plain": [
       "sigma(n_11) + sigma(n_12) + sigma(n_21) + sigma(n_22) + sigma(n_31) + sigma(n_32)"
      ]
     },
     "execution_count": 1,
     "metadata": {},
     "output_type": "execute_result"
    }
   ],
   "source": [
    "Lsum = L.replace(n, vN).replace(sigmaApply, sigmaApply_).replace(lambd, lambd_)\n",
    "Lsum"
   ]
  },
  {
   "cell_type": "code",
   "execution_count": 43,
   "metadata": {
    "execution": {
     "iopub.execute_input": "2020-09-21T06:33:51.295844Z",
     "iopub.status.busy": "2020-09-21T06:33:51.294397Z",
     "iopub.status.idle": "2020-09-21T06:33:51.320851Z",
     "shell.execute_reply": "2020-09-21T06:33:51.322057Z"
    },
    "lines_to_next_cell": 0,
    "title": "codecell"
   },
   "outputs": [
    {
     "data": {
      "text/latex": [
       "$\\displaystyle \\left[\\begin{matrix}\\frac{d}{d n_{11}} \\sigma{\\left(n_{11} \\right)} & \\frac{d}{d n_{12}} \\sigma{\\left(n_{12} \\right)}\\\\\\frac{d}{d n_{21}} \\sigma{\\left(n_{21} \\right)} & \\frac{d}{d n_{22}} \\sigma{\\left(n_{22} \\right)}\\\\\\frac{d}{d n_{31}} \\sigma{\\left(n_{31} \\right)} & \\frac{d}{d n_{32}} \\sigma{\\left(n_{32} \\right)}\\end{matrix}\\right]$"
      ],
      "text/plain": [
       "Matrix([\n",
       "[Derivative(sigma(n_11), n_11), Derivative(sigma(n_12), n_12)],\n",
       "[Derivative(sigma(n_21), n_21), Derivative(sigma(n_22), n_22)],\n",
       "[Derivative(sigma(n_31), n_31), Derivative(sigma(n_32), n_32)]])"
      ]
     },
     "execution_count": 1,
     "metadata": {},
     "output_type": "execute_result"
    }
   ],
   "source": [
    "Lsum.diff(Nelem)"
   ]
  },
  {
   "cell_type": "code",
   "execution_count": 44,
   "metadata": {
    "execution": {
     "iopub.execute_input": "2020-09-21T06:33:51.326980Z",
     "iopub.status.busy": "2020-09-21T06:33:51.325518Z",
     "iopub.status.idle": "2020-09-21T06:33:51.373820Z",
     "shell.execute_reply": "2020-09-21T06:33:51.374883Z"
    },
    "lines_to_next_cell": 0,
    "title": "codecell"
   },
   "outputs": [
    {
     "data": {
      "text/latex": [
       "$\\displaystyle \\sigma{\\left(w_{11} x_{11} + w_{21} x_{12} + w_{31} x_{13} \\right)} + \\sigma{\\left(w_{11} x_{21} + w_{21} x_{22} + w_{31} x_{23} \\right)} + \\sigma{\\left(w_{11} x_{31} + w_{21} x_{32} + w_{31} x_{33} \\right)} + \\sigma{\\left(w_{12} x_{11} + w_{22} x_{12} + w_{32} x_{13} \\right)} + \\sigma{\\left(w_{12} x_{21} + w_{22} x_{22} + w_{32} x_{23} \\right)} + \\sigma{\\left(w_{12} x_{31} + w_{22} x_{32} + w_{32} x_{33} \\right)}$"
      ],
      "text/plain": [
       "sigma(w_11*x_11 + w_21*x_12 + w_31*x_13) + sigma(w_11*x_21 + w_21*x_22 + w_31*x_23) + sigma(w_11*x_31 + w_21*x_32 + w_31*x_33) + sigma(w_12*x_11 + w_22*x_12 + w_32*x_13) + sigma(w_12*x_21 + w_22*x_22 + w_32*x_23) + sigma(w_12*x_31 + w_22*x_32 + w_32*x_33)"
      ]
     },
     "execution_count": 1,
     "metadata": {},
     "output_type": "execute_result"
    }
   ],
   "source": [
    "Lsum.subs(elemToSpecD)#.diff(X[2,1])"
   ]
  },
  {
   "cell_type": "code",
   "execution_count": 45,
   "metadata": {
    "execution": {
     "iopub.execute_input": "2020-09-21T06:33:51.380088Z",
     "iopub.status.busy": "2020-09-21T06:33:51.378581Z",
     "iopub.status.idle": "2020-09-21T06:33:51.657613Z",
     "shell.execute_reply": "2020-09-21T06:33:51.658694Z"
    },
    "lines_to_next_cell": 0,
    "title": "codecell"
   },
   "outputs": [
    {
     "data": {
      "text/latex": [
       "$\\displaystyle \\left[\\begin{matrix}w_{11} \\left. \\frac{d}{d \\xi_{1}} \\sigma{\\left(\\xi_{1} \\right)} \\right|_{\\substack{ \\xi_{1}=w_{11} x_{11} + w_{21} x_{12} + w_{31} x_{13} }} + w_{12} \\left. \\frac{d}{d \\xi_{1}} \\sigma{\\left(\\xi_{1} \\right)} \\right|_{\\substack{ \\xi_{1}=w_{12} x_{11} + w_{22} x_{12} + w_{32} x_{13} }} & w_{21} \\left. \\frac{d}{d \\xi_{1}} \\sigma{\\left(\\xi_{1} \\right)} \\right|_{\\substack{ \\xi_{1}=w_{11} x_{11} + w_{21} x_{12} + w_{31} x_{13} }} + w_{22} \\left. \\frac{d}{d \\xi_{1}} \\sigma{\\left(\\xi_{1} \\right)} \\right|_{\\substack{ \\xi_{1}=w_{12} x_{11} + w_{22} x_{12} + w_{32} x_{13} }} & w_{31} \\left. \\frac{d}{d \\xi_{1}} \\sigma{\\left(\\xi_{1} \\right)} \\right|_{\\substack{ \\xi_{1}=w_{11} x_{11} + w_{21} x_{12} + w_{31} x_{13} }} + w_{32} \\left. \\frac{d}{d \\xi_{1}} \\sigma{\\left(\\xi_{1} \\right)} \\right|_{\\substack{ \\xi_{1}=w_{12} x_{11} + w_{22} x_{12} + w_{32} x_{13} }}\\\\w_{11} \\left. \\frac{d}{d \\xi_{1}} \\sigma{\\left(\\xi_{1} \\right)} \\right|_{\\substack{ \\xi_{1}=w_{11} x_{21} + w_{21} x_{22} + w_{31} x_{23} }} + w_{12} \\left. \\frac{d}{d \\xi_{1}} \\sigma{\\left(\\xi_{1} \\right)} \\right|_{\\substack{ \\xi_{1}=w_{12} x_{21} + w_{22} x_{22} + w_{32} x_{23} }} & w_{21} \\left. \\frac{d}{d \\xi_{1}} \\sigma{\\left(\\xi_{1} \\right)} \\right|_{\\substack{ \\xi_{1}=w_{11} x_{21} + w_{21} x_{22} + w_{31} x_{23} }} + w_{22} \\left. \\frac{d}{d \\xi_{1}} \\sigma{\\left(\\xi_{1} \\right)} \\right|_{\\substack{ \\xi_{1}=w_{12} x_{21} + w_{22} x_{22} + w_{32} x_{23} }} & w_{31} \\left. \\frac{d}{d \\xi_{1}} \\sigma{\\left(\\xi_{1} \\right)} \\right|_{\\substack{ \\xi_{1}=w_{11} x_{21} + w_{21} x_{22} + w_{31} x_{23} }} + w_{32} \\left. \\frac{d}{d \\xi_{1}} \\sigma{\\left(\\xi_{1} \\right)} \\right|_{\\substack{ \\xi_{1}=w_{12} x_{21} + w_{22} x_{22} + w_{32} x_{23} }}\\\\w_{11} \\left. \\frac{d}{d \\xi_{1}} \\sigma{\\left(\\xi_{1} \\right)} \\right|_{\\substack{ \\xi_{1}=w_{11} x_{31} + w_{21} x_{32} + w_{31} x_{33} }} + w_{12} \\left. \\frac{d}{d \\xi_{1}} \\sigma{\\left(\\xi_{1} \\right)} \\right|_{\\substack{ \\xi_{1}=w_{12} x_{31} + w_{22} x_{32} + w_{32} x_{33} }} & w_{21} \\left. \\frac{d}{d \\xi_{1}} \\sigma{\\left(\\xi_{1} \\right)} \\right|_{\\substack{ \\xi_{1}=w_{11} x_{31} + w_{21} x_{32} + w_{31} x_{33} }} + w_{22} \\left. \\frac{d}{d \\xi_{1}} \\sigma{\\left(\\xi_{1} \\right)} \\right|_{\\substack{ \\xi_{1}=w_{12} x_{31} + w_{22} x_{32} + w_{32} x_{33} }} & w_{31} \\left. \\frac{d}{d \\xi_{1}} \\sigma{\\left(\\xi_{1} \\right)} \\right|_{\\substack{ \\xi_{1}=w_{11} x_{31} + w_{21} x_{32} + w_{31} x_{33} }} + w_{32} \\left. \\frac{d}{d \\xi_{1}} \\sigma{\\left(\\xi_{1} \\right)} \\right|_{\\substack{ \\xi_{1}=w_{12} x_{31} + w_{22} x_{32} + w_{32} x_{33} }}\\end{matrix}\\right]$"
      ],
      "text/plain": [
       "Matrix([\n",
       "[w_11*Subs(Derivative(sigma(_xi_1), _xi_1), _xi_1, w_11*x_11 + w_21*x_12 + w_31*x_13) + w_12*Subs(Derivative(sigma(_xi_1), _xi_1), _xi_1, w_12*x_11 + w_22*x_12 + w_32*x_13), w_21*Subs(Derivative(sigma(_xi_1), _xi_1), _xi_1, w_11*x_11 + w_21*x_12 + w_31*x_13) + w_22*Subs(Derivative(sigma(_xi_1), _xi_1), _xi_1, w_12*x_11 + w_22*x_12 + w_32*x_13), w_31*Subs(Derivative(sigma(_xi_1), _xi_1), _xi_1, w_11*x_11 + w_21*x_12 + w_31*x_13) + w_32*Subs(Derivative(sigma(_xi_1), _xi_1), _xi_1, w_12*x_11 + w_22*x_12 + w_32*x_13)],\n",
       "[w_11*Subs(Derivative(sigma(_xi_1), _xi_1), _xi_1, w_11*x_21 + w_21*x_22 + w_31*x_23) + w_12*Subs(Derivative(sigma(_xi_1), _xi_1), _xi_1, w_12*x_21 + w_22*x_22 + w_32*x_23), w_21*Subs(Derivative(sigma(_xi_1), _xi_1), _xi_1, w_11*x_21 + w_21*x_22 + w_31*x_23) + w_22*Subs(Derivative(sigma(_xi_1), _xi_1), _xi_1, w_12*x_21 + w_22*x_22 + w_32*x_23), w_31*Subs(Derivative(sigma(_xi_1), _xi_1), _xi_1, w_11*x_21 + w_21*x_22 + w_31*x_23) + w_32*Subs(Derivative(sigma(_xi_1), _xi_1), _xi_1, w_12*x_21 + w_22*x_22 + w_32*x_23)],\n",
       "[w_11*Subs(Derivative(sigma(_xi_1), _xi_1), _xi_1, w_11*x_31 + w_21*x_32 + w_31*x_33) + w_12*Subs(Derivative(sigma(_xi_1), _xi_1), _xi_1, w_12*x_31 + w_22*x_32 + w_32*x_33), w_21*Subs(Derivative(sigma(_xi_1), _xi_1), _xi_1, w_11*x_31 + w_21*x_32 + w_31*x_33) + w_22*Subs(Derivative(sigma(_xi_1), _xi_1), _xi_1, w_12*x_31 + w_22*x_32 + w_32*x_33), w_31*Subs(Derivative(sigma(_xi_1), _xi_1), _xi_1, w_11*x_31 + w_21*x_32 + w_31*x_33) + w_32*Subs(Derivative(sigma(_xi_1), _xi_1), _xi_1, w_12*x_31 + w_22*x_32 + w_32*x_33)]])"
      ]
     },
     "execution_count": 1,
     "metadata": {},
     "output_type": "execute_result"
    }
   ],
   "source": [
    "Lsum.subs(elemToSpecD).diff(X)"
   ]
  },
  {
   "cell_type": "code",
   "execution_count": 46,
   "metadata": {
    "execution": {
     "iopub.execute_input": "2020-09-21T06:33:51.663698Z",
     "iopub.status.busy": "2020-09-21T06:33:51.662197Z",
     "iopub.status.idle": "2020-09-21T06:33:52.057328Z",
     "shell.execute_reply": "2020-09-21T06:33:52.058392Z"
    },
    "title": "codecell"
   },
   "outputs": [
    {
     "data": {
      "text/latex": [
       "$\\displaystyle \\left[\\begin{matrix}w_{11} \\left. \\frac{d}{d \\xi_{1}} \\sigma{\\left(\\xi_{1} \\right)} \\right|_{\\substack{ \\xi_{1}=n_{11} }} + w_{12} \\left. \\frac{d}{d \\xi_{1}} \\sigma{\\left(\\xi_{1} \\right)} \\right|_{\\substack{ \\xi_{1}=n_{12} }} & w_{21} \\left. \\frac{d}{d \\xi_{1}} \\sigma{\\left(\\xi_{1} \\right)} \\right|_{\\substack{ \\xi_{1}=n_{11} }} + w_{22} \\left. \\frac{d}{d \\xi_{1}} \\sigma{\\left(\\xi_{1} \\right)} \\right|_{\\substack{ \\xi_{1}=n_{12} }} & w_{31} \\left. \\frac{d}{d \\xi_{1}} \\sigma{\\left(\\xi_{1} \\right)} \\right|_{\\substack{ \\xi_{1}=n_{11} }} + w_{32} \\left. \\frac{d}{d \\xi_{1}} \\sigma{\\left(\\xi_{1} \\right)} \\right|_{\\substack{ \\xi_{1}=n_{12} }}\\\\w_{11} \\left. \\frac{d}{d \\xi_{1}} \\sigma{\\left(\\xi_{1} \\right)} \\right|_{\\substack{ \\xi_{1}=n_{21} }} + w_{12} \\left. \\frac{d}{d \\xi_{1}} \\sigma{\\left(\\xi_{1} \\right)} \\right|_{\\substack{ \\xi_{1}=n_{22} }} & w_{21} \\left. \\frac{d}{d \\xi_{1}} \\sigma{\\left(\\xi_{1} \\right)} \\right|_{\\substack{ \\xi_{1}=n_{21} }} + w_{22} \\left. \\frac{d}{d \\xi_{1}} \\sigma{\\left(\\xi_{1} \\right)} \\right|_{\\substack{ \\xi_{1}=n_{22} }} & w_{31} \\left. \\frac{d}{d \\xi_{1}} \\sigma{\\left(\\xi_{1} \\right)} \\right|_{\\substack{ \\xi_{1}=n_{21} }} + w_{32} \\left. \\frac{d}{d \\xi_{1}} \\sigma{\\left(\\xi_{1} \\right)} \\right|_{\\substack{ \\xi_{1}=n_{22} }}\\\\w_{11} \\left. \\frac{d}{d \\xi_{1}} \\sigma{\\left(\\xi_{1} \\right)} \\right|_{\\substack{ \\xi_{1}=n_{31} }} + w_{12} \\left. \\frac{d}{d \\xi_{1}} \\sigma{\\left(\\xi_{1} \\right)} \\right|_{\\substack{ \\xi_{1}=n_{32} }} & w_{21} \\left. \\frac{d}{d \\xi_{1}} \\sigma{\\left(\\xi_{1} \\right)} \\right|_{\\substack{ \\xi_{1}=n_{31} }} + w_{22} \\left. \\frac{d}{d \\xi_{1}} \\sigma{\\left(\\xi_{1} \\right)} \\right|_{\\substack{ \\xi_{1}=n_{32} }} & w_{31} \\left. \\frac{d}{d \\xi_{1}} \\sigma{\\left(\\xi_{1} \\right)} \\right|_{\\substack{ \\xi_{1}=n_{31} }} + w_{32} \\left. \\frac{d}{d \\xi_{1}} \\sigma{\\left(\\xi_{1} \\right)} \\right|_{\\substack{ \\xi_{1}=n_{32} }}\\end{matrix}\\right]$"
      ],
      "text/plain": [
       "Matrix([\n",
       "[w_11*Subs(Derivative(sigma(_xi_1), _xi_1), _xi_1, n_11) + w_12*Subs(Derivative(sigma(_xi_1), _xi_1), _xi_1, n_12), w_21*Subs(Derivative(sigma(_xi_1), _xi_1), _xi_1, n_11) + w_22*Subs(Derivative(sigma(_xi_1), _xi_1), _xi_1, n_12), w_31*Subs(Derivative(sigma(_xi_1), _xi_1), _xi_1, n_11) + w_32*Subs(Derivative(sigma(_xi_1), _xi_1), _xi_1, n_12)],\n",
       "[w_11*Subs(Derivative(sigma(_xi_1), _xi_1), _xi_1, n_21) + w_12*Subs(Derivative(sigma(_xi_1), _xi_1), _xi_1, n_22), w_21*Subs(Derivative(sigma(_xi_1), _xi_1), _xi_1, n_21) + w_22*Subs(Derivative(sigma(_xi_1), _xi_1), _xi_1, n_22), w_31*Subs(Derivative(sigma(_xi_1), _xi_1), _xi_1, n_21) + w_32*Subs(Derivative(sigma(_xi_1), _xi_1), _xi_1, n_22)],\n",
       "[w_11*Subs(Derivative(sigma(_xi_1), _xi_1), _xi_1, n_31) + w_12*Subs(Derivative(sigma(_xi_1), _xi_1), _xi_1, n_32), w_21*Subs(Derivative(sigma(_xi_1), _xi_1), _xi_1, n_31) + w_22*Subs(Derivative(sigma(_xi_1), _xi_1), _xi_1, n_32), w_31*Subs(Derivative(sigma(_xi_1), _xi_1), _xi_1, n_31) + w_32*Subs(Derivative(sigma(_xi_1), _xi_1), _xi_1, n_32)]])"
      ]
     },
     "execution_count": 1,
     "metadata": {},
     "output_type": "execute_result"
    }
   ],
   "source": [
    "# METHOD 1: direct matrix diff\n",
    "#\n",
    "### END RESULT ACHIEVED HERE (this is the end result and the most specific form of the result of the  matrix differentiation, when sigma is unknown)\n",
    "specToElemD = {v:k for k,v in elemToSpecD.items()}\n",
    "\n",
    "assert Lsum == L.replace(n, vN).replace(sigmaApply, sigmaApply_).replace(lambd, lambd_)\n",
    "Lsum.subs(elemToSpecD).diff(X).subs(specToElemD)\n",
    "\n"
   ]
  },
  {
   "cell_type": "code",
   "execution_count": 47,
   "metadata": {
    "execution": {
     "iopub.execute_input": "2020-09-21T06:33:52.063151Z",
     "iopub.status.busy": "2020-09-21T06:33:52.061635Z",
     "iopub.status.idle": "2020-09-21T06:33:52.072977Z",
     "shell.execute_reply": "2020-09-21T06:33:52.074056Z"
    },
    "lines_to_next_cell": 0,
    "title": "codecell"
   },
   "outputs": [
    {
     "data": {
      "text/latex": [
       "$\\displaystyle \\left[\\begin{matrix}\\sigma{\\left(n_{11} \\right)} & \\sigma{\\left(n_{12} \\right)}\\\\\\sigma{\\left(n_{21} \\right)} & \\sigma{\\left(n_{22} \\right)}\\\\\\sigma{\\left(n_{31} \\right)} & \\sigma{\\left(n_{32} \\right)}\\end{matrix}\\right]$"
      ],
      "text/plain": [
       "Matrix([\n",
       "[sigma(n_11), sigma(n_12)],\n",
       "[sigma(n_21), sigma(n_22)],\n",
       "[sigma(n_31), sigma(n_32)]])"
      ]
     },
     "execution_count": 1,
     "metadata": {},
     "output_type": "execute_result"
    }
   ],
   "source": [
    "# METHOD 2: doing matrix symbol diff\n",
    "#\n",
    "#### NOW DOING THE MATRIX SYMBOL DIFF EXPRESSION (trying to achieve a form that shows the chain rule w.r.t to matrix symbol)\n",
    "Selem"
   ]
  },
  {
   "cell_type": "code",
   "execution_count": 48,
   "metadata": {
    "execution": {
     "iopub.execute_input": "2020-09-21T06:33:52.078960Z",
     "iopub.status.busy": "2020-09-21T06:33:52.077505Z",
     "iopub.status.idle": "2020-09-21T06:33:52.087751Z",
     "shell.execute_reply": "2020-09-21T06:33:52.088861Z"
    },
    "lines_to_next_cell": 0,
    "title": "codecell"
   },
   "outputs": [
    {
     "data": {
      "text/latex": [
       "$\\displaystyle \\lambda{\\left(\\sigma_{apply}{\\left(v{\\left(X,W \\right)} \\right)} \\right)}$"
      ],
      "text/plain": [
       "lambda(sigma_apply(v(X, W)))"
      ]
     },
     "execution_count": 1,
     "metadata": {},
     "output_type": "execute_result"
    }
   ],
   "source": [
    "L"
   ]
  },
  {
   "cell_type": "code",
   "execution_count": 49,
   "metadata": {
    "execution": {
     "iopub.execute_input": "2020-09-21T06:33:52.093631Z",
     "iopub.status.busy": "2020-09-21T06:33:52.092136Z",
     "iopub.status.idle": "2020-09-21T06:33:52.097643Z",
     "shell.execute_reply": "2020-09-21T06:33:52.098696Z"
    },
    "title": "codecell"
   },
   "outputs": [],
   "source": [
    "#L.replace(A, A.T).diff(A) #ERROR: fatal python error ... why??"
   ]
  },
  {
   "cell_type": "code",
   "execution_count": 50,
   "metadata": {
    "execution": {
     "iopub.execute_input": "2020-09-21T06:33:52.104076Z",
     "iopub.status.busy": "2020-09-21T06:33:52.102056Z",
     "iopub.status.idle": "2020-09-21T06:33:52.107383Z",
     "shell.execute_reply": "2020-09-21T06:33:52.108418Z"
    },
    "title": "codecell"
   },
   "outputs": [],
   "source": [
    "#L.replace(n,v).diff(A).replace(sigmaApply, sigmaApply_) # ERROR\n",
    "#L.replace(n,vN).subs(elemToSpecFuncD).replace(sigmaApply, sigmaApply_).diff(X) # why the zero matrix?"
   ]
  },
  {
   "cell_type": "code",
   "execution_count": 51,
   "metadata": {
    "execution": {
     "iopub.execute_input": "2020-09-21T06:33:52.118023Z",
     "iopub.status.busy": "2020-09-21T06:33:52.111609Z",
     "iopub.status.idle": "2020-09-21T06:33:52.165254Z",
     "shell.execute_reply": "2020-09-21T06:33:52.166321Z"
    },
    "lines_to_next_cell": 0,
    "title": "codecell"
   },
   "outputs": [
    {
     "data": {
      "text/latex": [
       "$\\displaystyle \\left. \\frac{d}{d \\xi_{1}} \\sigma_{apply}{\\left(\\xi_{1} \\right)} \\right|_{\\substack{ \\xi_{1}=X W }} \\frac{\\partial}{\\partial \\sigma_{apply}{\\left(X W \\right)}} \\lambda{\\left(\\sigma_{apply}{\\left(X W \\right)} \\right)} \\frac{\\partial}{\\partial X} X W$"
      ],
      "text/plain": [
       "Subs(Derivative(sigma_apply(_xi_1), _xi_1), _xi_1, X*W)*Derivative(lambda(sigma_apply(X*W)), sigma_apply(X*W))*Derivative(X*W, X)"
      ]
     },
     "execution_count": 1,
     "metadata": {},
     "output_type": "execute_result"
    }
   ],
   "source": [
    "L.replace(n,v).diff(A)"
   ]
  },
  {
   "cell_type": "code",
   "execution_count": 52,
   "metadata": {
    "execution": {
     "iopub.execute_input": "2020-09-21T06:33:52.171233Z",
     "iopub.status.busy": "2020-09-21T06:33:52.169737Z",
     "iopub.status.idle": "2020-09-21T06:33:52.214980Z",
     "shell.execute_reply": "2020-09-21T06:33:52.216061Z"
    },
    "title": "codecell"
   },
   "outputs": [
    {
     "data": {
      "text/latex": [
       "$\\displaystyle \\left. \\frac{d}{d \\xi_{1}} \\sigma_{apply}{\\left(\\xi_{1} \\right)} \\right|_{\\substack{ \\xi_{1}=X W }} \\frac{\\partial}{\\partial \\sigma_{apply}{\\left(X W \\right)}} \\lambda{\\left(\\sigma_{apply}{\\left(X W \\right)} \\right)} \\frac{\\partial}{\\partial X} X W$"
      ],
      "text/plain": [
       "Subs(Derivative(sigma_apply(_xi_1), _xi_1), _xi_1, X*W)*Derivative(lambda(sigma_apply(X*W)), sigma_apply(X*W))*Derivative(X*W, X)"
      ]
     },
     "execution_count": 1,
     "metadata": {},
     "output_type": "execute_result"
    }
   ],
   "source": [
    "L.replace(n,vL).diff(A)"
   ]
  },
  {
   "cell_type": "code",
   "execution_count": 53,
   "metadata": {
    "execution": {
     "iopub.execute_input": "2020-09-21T06:33:52.221517Z",
     "iopub.status.busy": "2020-09-21T06:33:52.219351Z",
     "iopub.status.idle": "2020-09-21T06:33:52.224743Z",
     "shell.execute_reply": "2020-09-21T06:33:52.225809Z"
    },
    "lines_to_next_cell": 0,
    "title": "codecell"
   },
   "outputs": [],
   "source": [
    "#L.replace(n,v).diff(A).replace(lambd,lambd_) ### ERROR sigma object is not iterable\n",
    "#L.replace(n,vL).diff(A).replace(sigmaApply, sigmaApply_)### ERROR\n",
    "#L.replace(n,v).diff(A).replace(sigmaApply, sigmaApply_) ### ERROR dummy object has no attribute applyfunc"
   ]
  },
  {
   "cell_type": "code",
   "execution_count": 54,
   "metadata": {
    "execution": {
     "iopub.execute_input": "2020-09-21T06:33:52.232099Z",
     "iopub.status.busy": "2020-09-21T06:33:52.229145Z",
     "iopub.status.idle": "2020-09-21T06:33:52.242891Z",
     "shell.execute_reply": "2020-09-21T06:33:52.243920Z"
    },
    "lines_to_next_cell": 0,
    "title": "codecell"
   },
   "outputs": [
    {
     "data": {
      "text/latex": [
       "$\\displaystyle \\lambda{\\left({\\left( d \\mapsto \\sigma{\\left(d \\right)} \\right)}_{\\circ}\\left({X W}\\right) \\right)}$"
      ],
      "text/plain": [
       "lambda(Lambda(_d, sigma(_d)).(X*W))"
      ]
     },
     "execution_count": 1,
     "metadata": {},
     "output_type": "execute_result"
    }
   ],
   "source": [
    "#L.replace(sigmaApply, sigmaApply_).diff(A) # ERROR\n",
    "# L.replace(lambd, lambd_) # ERROR\n",
    "\n",
    "#L.replace(n, v).replace(sigmaApply, sigmaApply_2)# shows matrix results, too specific, want the function composition notation as below but just applied to the function v(X,W) in abstract way\n",
    "### METHOD 0: (prepare by substituting n --> v, then sigmaApply --> sigma)\n",
    "L.replace(n, v).replace(sigmaApply, sigmaApply_)#.replace(lambd, lambd_)"
   ]
  },
  {
   "cell_type": "code",
   "execution_count": 55,
   "metadata": {
    "execution": {
     "iopub.execute_input": "2020-09-21T06:33:52.249024Z",
     "iopub.status.busy": "2020-09-21T06:33:52.247516Z",
     "iopub.status.idle": "2020-09-21T06:33:52.257387Z",
     "shell.execute_reply": "2020-09-21T06:33:52.259029Z"
    },
    "lines_to_next_cell": 0,
    "title": "codecell"
   },
   "outputs": [
    {
     "data": {
      "text/latex": [
       "$\\displaystyle {\\left( d \\mapsto \\sigma{\\left(d \\right)} \\right)}_{\\circ}\\left({X}\\right)$"
      ],
      "text/plain": [
       "Lambda(_d, sigma(_d)).(X)"
      ]
     },
     "execution_count": 1,
     "metadata": {},
     "output_type": "execute_result"
    }
   ],
   "source": [
    "\n",
    "A.applyfunc(sigma)"
   ]
  },
  {
   "cell_type": "code",
   "execution_count": 56,
   "metadata": {
    "execution": {
     "iopub.execute_input": "2020-09-21T06:33:52.263848Z",
     "iopub.status.busy": "2020-09-21T06:33:52.262407Z",
     "iopub.status.idle": "2020-09-21T06:33:52.273905Z",
     "shell.execute_reply": "2020-09-21T06:33:52.274962Z"
    },
    "lines_to_next_cell": 0,
    "title": "codecell"
   },
   "outputs": [
    {
     "data": {
      "text/latex": [
       "$\\displaystyle \\lambda{\\left(\\sigma_{apply}{\\left(v \\right)} \\right)}$"
      ],
      "text/plain": [
       "lambda(sigma_apply(v))"
      ]
     },
     "execution_count": 1,
     "metadata": {},
     "output_type": "execute_result"
    }
   ],
   "source": [
    "\n",
    "vSym = Symbol('v', applyfunc=True)\n",
    "L.replace(n(A,B), vSym)"
   ]
  },
  {
   "cell_type": "code",
   "execution_count": 57,
   "metadata": {
    "execution": {
     "iopub.execute_input": "2020-09-21T06:33:52.279721Z",
     "iopub.status.busy": "2020-09-21T06:33:52.278248Z",
     "iopub.status.idle": "2020-09-21T06:33:52.299768Z",
     "shell.execute_reply": "2020-09-21T06:33:52.300964Z"
    },
    "lines_to_next_cell": 0,
    "title": "codecell"
   },
   "outputs": [
    {
     "data": {
      "text/latex": [
       "$\\displaystyle V$"
      ],
      "text/plain": [
       "V"
      ]
     },
     "execution_count": 1,
     "metadata": {},
     "output_type": "execute_result"
    }
   ],
   "source": [
    "#L.replace(n(A,B), vSym).replace(sigmaApply, sigmaApply_)# ERROR because Symbol has no atttribute applyfunc (that is the one we want though so must use matrix symbol which for some reason works instead of just an ordinary symbol v\n",
    "#V = MatrixSymbol()\n",
    "# Takes in the symbols A and B matrices and returns the matrix symbol with the shape that is supposed to result after A*B\n",
    "V = lambda matA, matB: MatrixSymbol('V', matA.shape[0], matB.shape[1])\n",
    "V\n",
    "V(A,B)#.shape"
   ]
  },
  {
   "cell_type": "code",
   "execution_count": 58,
   "metadata": {
    "execution": {
     "iopub.execute_input": "2020-09-21T06:33:52.310027Z",
     "iopub.status.busy": "2020-09-21T06:33:52.308514Z",
     "iopub.status.idle": "2020-09-21T06:33:52.322578Z",
     "shell.execute_reply": "2020-09-21T06:33:52.327976Z"
    },
    "lines_to_next_cell": 0,
    "title": "codecell"
   },
   "outputs": [],
   "source": [
    "from sympy import symbols\n",
    "#V = MatrixSymbol('V', X.shape[0], W.shape[1])\n",
    "i, j = symbols('i j')\n",
    "M = MatrixSymbol('M', i, j)# abstract shape\n",
    "sigmaApply_L = Lambda(M, M.applyfunc(sigma))\n",
    "lambda_L = Lambda(M, sum(M))"
   ]
  },
  {
   "cell_type": "code",
   "execution_count": 59,
   "metadata": {
    "execution": {
     "iopub.execute_input": "2020-09-21T06:33:52.333027Z",
     "iopub.status.busy": "2020-09-21T06:33:52.331439Z",
     "iopub.status.idle": "2020-09-21T06:33:52.347916Z",
     "shell.execute_reply": "2020-09-21T06:33:52.349477Z"
    },
    "lines_to_next_cell": 0,
    "title": "codecell"
   },
   "outputs": [
    {
     "data": {
      "text/latex": [
       "$\\displaystyle {\\left( d \\mapsto \\sigma{\\left(d \\right)} \\right)}_{\\circ}\\left({X}\\right)$"
      ],
      "text/plain": [
       "Lambda(_d, sigma(_d)).(X)"
      ]
     },
     "execution_count": 1,
     "metadata": {},
     "output_type": "execute_result"
    }
   ],
   "source": [
    "sigmaApply_L(A)"
   ]
  },
  {
   "cell_type": "code",
   "execution_count": 60,
   "metadata": {
    "execution": {
     "iopub.execute_input": "2020-09-21T06:33:52.359056Z",
     "iopub.status.busy": "2020-09-21T06:33:52.354148Z",
     "iopub.status.idle": "2020-09-21T06:33:52.387970Z",
     "shell.execute_reply": "2020-09-21T06:33:52.393861Z"
    },
    "lines_to_next_cell": 0,
    "title": "codecell"
   },
   "outputs": [
    {
     "data": {
      "text/latex": [
       "$\\displaystyle \\left( \\left( X, \\  W\\right) \\mapsto V \\right)$"
      ],
      "text/plain": [
       "Lambda((X, W), V)"
      ]
     },
     "execution_count": 1,
     "metadata": {},
     "output_type": "execute_result"
    }
   ],
   "source": [
    "# TODO: trying to figure out how to write L so that it is in terms of lambdas so get the form (d ---> sigma(d) COMPOAED ((X,W) -> V)) instead of (sigmaApply(v(X,W)))\n",
    "Vs = MatrixSymbol(\"Vs\", A.shape[0], B.shape[1])\n",
    "VL = Lambda((A,B), MatrixSymbol('V', A.shape[0], B.shape[1]))\n",
    "VL"
   ]
  },
  {
   "cell_type": "code",
   "execution_count": 61,
   "metadata": {
    "execution": {
     "iopub.execute_input": "2020-09-21T06:33:52.401563Z",
     "iopub.status.busy": "2020-09-21T06:33:52.399974Z",
     "iopub.status.idle": "2020-09-21T06:33:52.419075Z",
     "shell.execute_reply": "2020-09-21T06:33:52.420544Z"
    },
    "title": "codecell"
   },
   "outputs": [
    {
     "data": {
      "text/latex": [
       "$\\displaystyle \\lambda{\\left(\\sigma_{apply}{\\left(V \\right)} \\right)}$"
      ],
      "text/plain": [
       "lambda(sigma_apply(V))"
      ]
     },
     "execution_count": 1,
     "metadata": {},
     "output_type": "execute_result"
    }
   ],
   "source": [
    "L.replace(n, VL)#.replace(sigmaApply, sigmaApply_L).subs({V:VL})"
   ]
  },
  {
   "cell_type": "code",
   "execution_count": 62,
   "metadata": {
    "execution": {
     "iopub.execute_input": "2020-09-21T06:33:52.430567Z",
     "iopub.status.busy": "2020-09-21T06:33:52.429003Z",
     "iopub.status.idle": "2020-09-21T06:33:52.452755Z",
     "shell.execute_reply": "2020-09-21T06:33:52.453872Z"
    },
    "lines_to_next_cell": 0,
    "title": "codecell"
   },
   "outputs": [
    {
     "data": {
      "text/latex": [
       "$\\displaystyle \\left( \\left( X, \\  W\\right) \\mapsto V \\right)$"
      ],
      "text/plain": [
       "Lambda((X, W), V)"
      ]
     },
     "execution_count": 1,
     "metadata": {},
     "output_type": "execute_result"
    }
   ],
   "source": [
    "L.replace(n, VL).replace(sigmaApply, sigmaApply_)#.subs({VL(A,B) : n(A,B)}) ### ERROR\n",
    "# This is v(X,W) in Lambda form:\n",
    "VL"
   ]
  },
  {
   "cell_type": "code",
   "execution_count": 63,
   "metadata": {
    "execution": {
     "iopub.execute_input": "2020-09-21T06:33:52.464028Z",
     "iopub.status.busy": "2020-09-21T06:33:52.460348Z",
     "iopub.status.idle": "2020-09-21T06:33:52.474515Z",
     "shell.execute_reply": "2020-09-21T06:33:52.475911Z"
    },
    "title": "codecell"
   },
   "outputs": [
    {
     "data": {
      "text/latex": [
       "$\\displaystyle V$"
      ],
      "text/plain": [
       "V"
      ]
     },
     "execution_count": 1,
     "metadata": {},
     "output_type": "execute_result"
    }
   ],
   "source": [
    "VL(A,B)\n",
    "#L.subs({n: V})"
   ]
  },
  {
   "cell_type": "code",
   "execution_count": 64,
   "metadata": {
    "execution": {
     "iopub.execute_input": "2020-09-21T06:33:52.482498Z",
     "iopub.status.busy": "2020-09-21T06:33:52.481571Z",
     "iopub.status.idle": "2020-09-21T06:33:52.498290Z",
     "shell.execute_reply": "2020-09-21T06:33:52.500944Z"
    },
    "lines_to_next_cell": 0,
    "title": "codecell"
   },
   "outputs": [
    {
     "data": {
      "text/latex": [
       "$\\displaystyle \\lambda{\\left(\\sigma_{apply}{\\left(V \\right)} \\right)}$"
      ],
      "text/plain": [
       "lambda(sigma_apply(V))"
      ]
     },
     "execution_count": 1,
     "metadata": {},
     "output_type": "execute_result"
    }
   ],
   "source": [
    "L.replace(n(A,B), VL(A,B))#.replace(sigmaApply, sigmaApply_).subs({V(A,B) : n})"
   ]
  },
  {
   "cell_type": "code",
   "execution_count": 65,
   "metadata": {
    "execution": {
     "iopub.execute_input": "2020-09-21T06:33:52.509406Z",
     "iopub.status.busy": "2020-09-21T06:33:52.504707Z",
     "iopub.status.idle": "2020-09-21T06:33:52.515313Z",
     "shell.execute_reply": "2020-09-21T06:33:52.516402Z"
    },
    "lines_to_next_cell": 0,
    "title": "codecell"
   },
   "outputs": [
    {
     "data": {
      "text/latex": [
       "$\\displaystyle \\lambda{\\left(\\sigma_{apply}{\\left(\\left( \\left( X, \\  W\\right) \\mapsto V \\right) \\right)} \\right)}$"
      ],
      "text/plain": [
       "lambda(sigma_apply(Lambda((X, W), V)))"
      ]
     },
     "execution_count": 1,
     "metadata": {},
     "output_type": "execute_result"
    }
   ],
   "source": [
    "lambd(sigmaApply(VL))"
   ]
  },
  {
   "cell_type": "code",
   "execution_count": 66,
   "metadata": {
    "execution": {
     "iopub.execute_input": "2020-09-21T06:33:52.522373Z",
     "iopub.status.busy": "2020-09-21T06:33:52.520814Z",
     "iopub.status.idle": "2020-09-21T06:33:52.532800Z",
     "shell.execute_reply": "2020-09-21T06:33:52.533900Z"
    },
    "lines_to_next_cell": 0,
    "title": "codecell"
   },
   "outputs": [
    {
     "data": {
      "text/latex": [
       "$\\displaystyle \\lambda{\\left(\\sigma_{apply}{\\left(v{\\left(X,W \\right)} \\right)} \\right)}$"
      ],
      "text/plain": [
       "lambda(sigma_apply(v(X, W)))"
      ]
     },
     "execution_count": 1,
     "metadata": {},
     "output_type": "execute_result"
    }
   ],
   "source": [
    "lambd(sigmaApply(VL)).replace(VL, n(A,B))"
   ]
  },
  {
   "cell_type": "code",
   "execution_count": 67,
   "metadata": {
    "execution": {
     "iopub.execute_input": "2020-09-21T06:33:52.538797Z",
     "iopub.status.busy": "2020-09-21T06:33:52.537303Z",
     "iopub.status.idle": "2020-09-21T06:33:52.593940Z",
     "shell.execute_reply": "2020-09-21T06:33:52.595017Z"
    },
    "lines_to_next_cell": 0,
    "title": "codecell"
   },
   "outputs": [
    {
     "data": {
      "text/latex": [
       "$\\displaystyle \\left. \\frac{d}{d \\xi_{1}} \\sigma_{apply}{\\left(\\xi_{1} \\right)} \\right|_{\\substack{ \\xi_{1}=\\left( \\left( X, \\  W\\right) \\mapsto V \\right) }} \\frac{d}{d \\sigma_{apply}{\\left(\\left( \\left( X, \\  W\\right) \\mapsto V \\right) \\right)}} \\lambda{\\left(\\sigma_{apply}{\\left(\\left( \\left( X, \\  W\\right) \\mapsto V \\right) \\right)} \\right)} \\frac{d}{d X} \\left(\\left( \\left( X, \\  W\\right) \\mapsto V \\right)\\right)$"
      ],
      "text/plain": [
       "Subs(Derivative(sigma_apply(_xi_1), _xi_1), _xi_1, Lambda((X, W), V))*Derivative(lambda(sigma_apply(Lambda((X, W), V))), sigma_apply(Lambda((X, W), V)))*Derivative(Lambda((X, W), V), X)"
      ]
     },
     "execution_count": 1,
     "metadata": {},
     "output_type": "execute_result"
    }
   ],
   "source": [
    "lambd(sigmaApply(VL)).diff(A)"
   ]
  },
  {
   "cell_type": "code",
   "execution_count": 68,
   "metadata": {
    "execution": {
     "iopub.execute_input": "2020-09-21T06:33:52.605802Z",
     "iopub.status.busy": "2020-09-21T06:33:52.603187Z",
     "iopub.status.idle": "2020-09-21T06:33:52.656367Z",
     "shell.execute_reply": "2020-09-21T06:33:52.657470Z"
    },
    "lines_to_next_cell": 0,
    "title": "codecell"
   },
   "outputs": [
    {
     "data": {
      "text/latex": [
       "$\\displaystyle \\left. \\frac{d}{d \\xi_{1}} \\sigma_{apply}{\\left(\\xi_{1} \\right)} \\right|_{\\substack{ \\xi_{1}=v{\\left(X,W \\right)} }} \\frac{\\partial}{\\partial \\sigma_{apply}{\\left(v{\\left(X,W \\right)} \\right)}} \\lambda{\\left(\\sigma_{apply}{\\left(v{\\left(X,W \\right)} \\right)} \\right)} \\frac{\\partial}{\\partial X} v{\\left(X,W \\right)}$"
      ],
      "text/plain": [
       "Subs(Derivative(sigma_apply(_xi_1), _xi_1), _xi_1, v(X, W))*Derivative(lambda(sigma_apply(v(X, W))), sigma_apply(v(X, W)))*Derivative(v(X, W), X)"
      ]
     },
     "execution_count": 1,
     "metadata": {},
     "output_type": "execute_result"
    }
   ],
   "source": [
    "lambd(sigmaApply(VL)).diff(A).replace(VL, n(A,B))"
   ]
  },
  {
   "cell_type": "code",
   "execution_count": 69,
   "metadata": {
    "execution": {
     "iopub.execute_input": "2020-09-21T06:33:52.662409Z",
     "iopub.status.busy": "2020-09-21T06:33:52.660861Z",
     "iopub.status.idle": "2020-09-21T06:33:52.672935Z",
     "shell.execute_reply": "2020-09-21T06:33:52.674289Z"
    },
    "lines_to_next_cell": 0,
    "title": "codecell"
   },
   "outputs": [
    {
     "data": {
      "text/latex": [
       "$\\displaystyle \\lambda{\\left(\\sigma_{apply}{\\left(\\left( \\left( X, \\  W\\right) \\mapsto V \\right) \\right)} \\right)}$"
      ],
      "text/plain": [
       "lambda(sigma_apply(Lambda((X, W), V)))"
      ]
     },
     "execution_count": 1,
     "metadata": {},
     "output_type": "execute_result"
    }
   ],
   "source": [
    "lambd(sigmaApply(VL))#.replace(sigmaApply, sigmaApply_)#replace(V, n(A,B)).replace(sigmaApply, sigmaApply_)"
   ]
  },
  {
   "cell_type": "code",
   "execution_count": 70,
   "metadata": {
    "execution": {
     "iopub.execute_input": "2020-09-21T06:33:52.682675Z",
     "iopub.status.busy": "2020-09-21T06:33:52.681772Z",
     "iopub.status.idle": "2020-09-21T06:33:52.690210Z",
     "shell.execute_reply": "2020-09-21T06:33:52.691238Z"
    },
    "lines_to_next_cell": 0,
    "title": "codecell"
   },
   "outputs": [
    {
     "data": {
      "text/latex": [
       "$\\displaystyle {\\left( d \\mapsto \\sigma{\\left(d \\right)} \\right)}_{\\circ}\\left({X}\\right)$"
      ],
      "text/plain": [
       "Lambda(_d, sigma(_d)).(X)"
      ]
     },
     "execution_count": 1,
     "metadata": {},
     "output_type": "execute_result"
    }
   ],
   "source": [
    "# GOAL: want both sigma_apply to be in ---> form composed with the above x,w ---> V form\n",
    "#lambd(sigmaApply(V)).replace(V, Vs).replace(sigmaApply, sigmaApply_).replace(Vs, V(A,B))### ERROR\n",
    "lambd(sigmaApply(n(A,B))).replace(n(A,B), VL)\n",
    "sigmaApply_(A)\n",
    "sigmaApply_L(A)"
   ]
  },
  {
   "cell_type": "code",
   "execution_count": 71,
   "metadata": {
    "execution": {
     "iopub.execute_input": "2020-09-21T06:33:52.696005Z",
     "iopub.status.busy": "2020-09-21T06:33:52.694525Z",
     "iopub.status.idle": "2020-09-21T06:33:52.705070Z",
     "shell.execute_reply": "2020-09-21T06:33:52.706126Z"
    },
    "lines_to_next_cell": 0,
    "title": "codecell"
   },
   "outputs": [
    {
     "data": {
      "text/latex": [
       "$\\displaystyle {\\left( d \\mapsto \\sigma{\\left(d \\right)} \\right)}_{\\circ}\\left({Vs}\\right)$"
      ],
      "text/plain": [
       "Lambda(_d, sigma(_d)).(Vs)"
      ]
     },
     "execution_count": 1,
     "metadata": {},
     "output_type": "execute_result"
    }
   ],
   "source": [
    "sigmaApply(Vs).replace(sigmaApply, sigmaApply_)"
   ]
  },
  {
   "cell_type": "code",
   "execution_count": 72,
   "metadata": {
    "execution": {
     "iopub.execute_input": "2020-09-21T06:33:52.710964Z",
     "iopub.status.busy": "2020-09-21T06:33:52.709509Z",
     "iopub.status.idle": "2020-09-21T06:33:52.719898Z",
     "shell.execute_reply": "2020-09-21T06:33:52.720965Z"
    },
    "title": "codecell"
   },
   "outputs": [
    {
     "data": {
      "text/latex": [
       "$\\displaystyle {\\left( d \\mapsto \\sigma{\\left(d \\right)} \\right)}_{\\circ}\\left({V}\\right)$"
      ],
      "text/plain": [
       "Lambda(_d, sigma(_d)).(V)"
      ]
     },
     "execution_count": 1,
     "metadata": {},
     "output_type": "execute_result"
    }
   ],
   "source": [
    "sigmaApply(VL(A,B)).replace(sigmaApply, sigmaApply_)#.replace(V(A,B), V)#.subs({sigmaApply: sigmaApply_L})"
   ]
  },
  {
   "cell_type": "code",
   "execution_count": 73,
   "metadata": {
    "execution": {
     "iopub.execute_input": "2020-09-21T06:33:52.725686Z",
     "iopub.status.busy": "2020-09-21T06:33:52.724168Z",
     "iopub.status.idle": "2020-09-21T06:33:52.729530Z",
     "shell.execute_reply": "2020-09-21T06:33:52.730558Z"
    },
    "title": "codecell"
   },
   "outputs": [],
   "source": [
    "#sigmaApply(Vs).subs({Vs : V, sigmaApply: sigmaApply_L}) ### ERROR must be matrix instance\n",
    "#sigmaApply(Vs).replace(sigmaApply , sigmaApply_L).subs({Vs : V})\n",
    "#sigmaApply(V).replace(sigmaApply, sigmaApply_L)"
   ]
  },
  {
   "cell_type": "code",
   "execution_count": 74,
   "metadata": {
    "execution": {
     "iopub.execute_input": "2020-09-21T06:33:52.737980Z",
     "iopub.status.busy": "2020-09-21T06:33:52.733826Z",
     "iopub.status.idle": "2020-09-21T06:33:52.743778Z",
     "shell.execute_reply": "2020-09-21T06:33:52.744873Z"
    },
    "lines_to_next_cell": 0,
    "title": "codecell"
   },
   "outputs": [
    {
     "data": {
      "text/latex": [
       "$\\displaystyle \\left( \\left( X, \\  W\\right) \\mapsto \\left( \\left( X, \\  W\\right) \\mapsto V \\right) \\right)$"
      ],
      "text/plain": [
       "Lambda((X, W), Lambda((X, W), V))"
      ]
     },
     "execution_count": 1,
     "metadata": {},
     "output_type": "execute_result"
    }
   ],
   "source": [
    "\n",
    "sa = Lambda((A,B), VL)\n",
    "sa"
   ]
  },
  {
   "cell_type": "code",
   "execution_count": 75,
   "metadata": {
    "execution": {
     "iopub.execute_input": "2020-09-21T06:33:52.749482Z",
     "iopub.status.busy": "2020-09-21T06:33:52.748005Z",
     "iopub.status.idle": "2020-09-21T06:33:52.753363Z",
     "shell.execute_reply": "2020-09-21T06:33:52.754417Z"
    },
    "lines_to_next_cell": 0,
    "title": "codecell"
   },
   "outputs": [],
   "source": [
    "### ALTERNATE try of declaring a sigma-apply kind of function\n",
    "#sas = Lambda((A,B), Vs.applyfunc(sigma))"
   ]
  },
  {
   "cell_type": "code",
   "execution_count": 76,
   "metadata": {
    "execution": {
     "iopub.execute_input": "2020-09-21T06:33:52.761847Z",
     "iopub.status.busy": "2020-09-21T06:33:52.757748Z",
     "iopub.status.idle": "2020-09-21T06:33:52.767900Z",
     "shell.execute_reply": "2020-09-21T06:33:52.769006Z"
    },
    "lines_to_next_cell": 0,
    "title": "codecell"
   },
   "outputs": [
    {
     "data": {
      "text/latex": [
       "$\\displaystyle \\left( \\left( X, \\  W\\right) \\mapsto \\sigma{\\left(\\left( \\left( X, \\  W\\right) \\mapsto V \\right) \\right)} \\right)$"
      ],
      "text/plain": [
       "Lambda((X, W), sigma(Lambda((X, W), V)))"
      ]
     },
     "execution_count": 1,
     "metadata": {},
     "output_type": "execute_result"
    }
   ],
   "source": [
    "Lambda((A,B), sigma(VL))"
   ]
  },
  {
   "cell_type": "code",
   "execution_count": 77,
   "metadata": {
    "execution": {
     "iopub.execute_input": "2020-09-21T06:33:52.773720Z",
     "iopub.status.busy": "2020-09-21T06:33:52.772242Z",
     "iopub.status.idle": "2020-09-21T06:33:52.782913Z",
     "shell.execute_reply": "2020-09-21T06:33:52.783970Z"
    },
    "title": "codecell"
   },
   "outputs": [
    {
     "data": {
      "text/latex": [
       "$\\displaystyle \\frac{d}{d X} \\left(\\left( \\left( X, \\  W\\right) \\mapsto \\sigma{\\left(\\left( \\left( X, \\  W\\right) \\mapsto V \\right) \\right)} \\right)\\right)$"
      ],
      "text/plain": [
       "Derivative(Lambda((X, W), sigma(Lambda((X, W), V))), X)"
      ]
     },
     "execution_count": 1,
     "metadata": {},
     "output_type": "execute_result"
    }
   ],
   "source": [
    "Lambda((A,B), sigma(VL)).diff(A) # nothing useful with this format, and weird-wrong since doesn't do chain rule wi.r. to sigma"
   ]
  },
  {
   "cell_type": "code",
   "execution_count": 78,
   "metadata": {
    "execution": {
     "iopub.execute_input": "2020-09-21T06:33:52.789213Z",
     "iopub.status.busy": "2020-09-21T06:33:52.787743Z",
     "iopub.status.idle": "2020-09-21T06:33:52.798062Z",
     "shell.execute_reply": "2020-09-21T06:33:52.799216Z"
    },
    "lines_to_next_cell": 0,
    "title": "codecell"
   },
   "outputs": [
    {
     "data": {
      "text/latex": [
       "$\\displaystyle \\left( \\left( X, \\  W\\right) \\mapsto \\sigma{\\left(V \\right)} \\right)$"
      ],
      "text/plain": [
       "Lambda((X, W), sigma(V))"
      ]
     },
     "execution_count": 1,
     "metadata": {},
     "output_type": "execute_result"
    }
   ],
   "source": [
    "Lambda((A,B), sigma(VL(A,B)))"
   ]
  },
  {
   "cell_type": "code",
   "execution_count": 79,
   "metadata": {
    "execution": {
     "iopub.execute_input": "2020-09-21T06:33:52.803939Z",
     "iopub.status.busy": "2020-09-21T06:33:52.802474Z",
     "iopub.status.idle": "2020-09-21T06:33:52.813329Z",
     "shell.execute_reply": "2020-09-21T06:33:52.814392Z"
    },
    "title": "codecell"
   },
   "outputs": [
    {
     "data": {
      "text/latex": [
       "$\\displaystyle \\left( \\left( X, \\  W\\right) \\mapsto {\\left( d \\mapsto \\sigma{\\left(d \\right)} \\right)}_{\\circ}\\left({V}\\right) \\right)$"
      ],
      "text/plain": [
       "Lambda((X, W), Lambda(_d, sigma(_d)).(V))"
      ]
     },
     "execution_count": 1,
     "metadata": {},
     "output_type": "execute_result"
    }
   ],
   "source": [
    "sas = Lambda((A,B), VL(A,B).applyfunc(sigma))\n",
    "\n",
    "sas"
   ]
  },
  {
   "cell_type": "code",
   "execution_count": 80,
   "metadata": {
    "execution": {
     "iopub.execute_input": "2020-09-21T06:33:52.819269Z",
     "iopub.status.busy": "2020-09-21T06:33:52.817801Z",
     "iopub.status.idle": "2020-09-21T06:33:52.827474Z",
     "shell.execute_reply": "2020-09-21T06:33:52.828545Z"
    },
    "lines_to_next_cell": 0,
    "title": "codecell"
   },
   "outputs": [
    {
     "data": {
      "text/latex": [
       "$\\displaystyle {\\left( d \\mapsto \\sigma{\\left(d \\right)} \\right)}_{\\circ}\\left({V}\\right)$"
      ],
      "text/plain": [
       "Lambda(_d, sigma(_d)).(V)"
      ]
     },
     "execution_count": 1,
     "metadata": {},
     "output_type": "execute_result"
    }
   ],
   "source": [
    "sas(A,B)"
   ]
  },
  {
   "cell_type": "code",
   "execution_count": 81,
   "metadata": {
    "execution": {
     "iopub.execute_input": "2020-09-21T06:33:52.833227Z",
     "iopub.status.busy": "2020-09-21T06:33:52.831775Z",
     "iopub.status.idle": "2020-09-21T06:33:52.837075Z",
     "shell.execute_reply": "2020-09-21T06:33:52.838099Z"
    },
    "title": "codecell"
   },
   "outputs": [],
   "source": [
    "#sas(A,B).replace(V, V(A,B))"
   ]
  },
  {
   "cell_type": "code",
   "execution_count": 82,
   "metadata": {
    "execution": {
     "iopub.execute_input": "2020-09-21T06:33:52.845137Z",
     "iopub.status.busy": "2020-09-21T06:33:52.841492Z",
     "iopub.status.idle": "2020-09-21T06:33:52.851068Z",
     "shell.execute_reply": "2020-09-21T06:33:52.852144Z"
    },
    "title": "codecell"
   },
   "outputs": [
    {
     "data": {
      "text/latex": [
       "$\\displaystyle \\left( M \\mapsto {\\left( d \\mapsto \\sigma{\\left(d \\right)} \\right)}_{\\circ}\\left({M}\\right) \\right)$"
      ],
      "text/plain": [
       "Lambda(M, Lambda(_d, sigma(_d)).(M))"
      ]
     },
     "execution_count": 1,
     "metadata": {},
     "output_type": "execute_result"
    }
   ],
   "source": [
    "sigmaApply_L"
   ]
  },
  {
   "cell_type": "code",
   "execution_count": 83,
   "metadata": {
    "execution": {
     "iopub.execute_input": "2020-09-21T06:33:52.856820Z",
     "iopub.status.busy": "2020-09-21T06:33:52.855336Z",
     "iopub.status.idle": "2020-09-21T06:33:52.865333Z",
     "shell.execute_reply": "2020-09-21T06:33:52.866448Z"
    },
    "lines_to_next_cell": 0,
    "title": "codecell"
   },
   "outputs": [
    {
     "data": {
      "text/latex": [
       "$\\displaystyle {\\left( d \\mapsto \\sigma{\\left(d \\right)} \\right)}_{\\circ}\\left({M}\\right)$"
      ],
      "text/plain": [
       "Lambda(_d, sigma(_d)).(M)"
      ]
     },
     "execution_count": 1,
     "metadata": {},
     "output_type": "execute_result"
    }
   ],
   "source": [
    "sigmaApply_L(M)"
   ]
  },
  {
   "cell_type": "code",
   "execution_count": 84,
   "metadata": {
    "execution": {
     "iopub.execute_input": "2020-09-21T06:33:52.871277Z",
     "iopub.status.busy": "2020-09-21T06:33:52.869869Z",
     "iopub.status.idle": "2020-09-21T06:33:52.927744Z",
     "shell.execute_reply": "2020-09-21T06:33:52.928855Z"
    },
    "lines_to_next_cell": 0,
    "title": "codecell"
   },
   "outputs": [
    {
     "data": {
      "text/latex": [
       "$\\displaystyle {\\left( d \\mapsto \\frac{d}{d d} \\sigma{\\left(d \\right)} \\right)}_{\\circ}\\left({M}\\right)$"
      ],
      "text/plain": [
       "Lambda(_d, Derivative(sigma(_d), _d)).(M)"
      ]
     },
     "execution_count": 1,
     "metadata": {},
     "output_type": "execute_result"
    }
   ],
   "source": [
    "sigmaApply_L(M).diff(M)"
   ]
  },
  {
   "cell_type": "code",
   "execution_count": 85,
   "metadata": {
    "lines_to_next_cell": 0,
    "title": "codecell"
   },
   "outputs": [],
   "source": []
  },
  {
   "cell_type": "code",
   "execution_count": 85,
   "metadata": {
    "lines_to_next_cell": 0,
    "title": "codecell"
   },
   "outputs": [],
   "source": []
  },
  {
   "cell_type": "code",
   "execution_count": 85,
   "metadata": {
    "execution": {
     "iopub.execute_input": "2020-09-21T06:33:52.933686Z",
     "iopub.status.busy": "2020-09-21T06:33:52.932203Z",
     "iopub.status.idle": "2020-09-21T06:33:52.942031Z",
     "shell.execute_reply": "2020-09-21T06:33:52.943128Z"
    },
    "lines_to_next_cell": 0,
    "title": "codecell"
   },
   "outputs": [
    {
     "data": {
      "text/latex": [
       "$\\displaystyle \\sigma{\\left(\\left( \\left( X, \\  W\\right) \\mapsto V \\right) \\right)}$"
      ],
      "text/plain": [
       "sigma(Lambda((X, W), V))"
      ]
     },
     "execution_count": 1,
     "metadata": {},
     "output_type": "execute_result"
    }
   ],
   "source": [
    "sigma(VL)#.replace(V, V(A,B))"
   ]
  },
  {
   "cell_type": "code",
   "execution_count": 86,
   "metadata": {
    "execution": {
     "iopub.execute_input": "2020-09-21T06:33:52.948006Z",
     "iopub.status.busy": "2020-09-21T06:33:52.946533Z",
     "iopub.status.idle": "2020-09-21T06:33:52.957464Z",
     "shell.execute_reply": "2020-09-21T06:33:52.958521Z"
    },
    "lines_to_next_cell": 0,
    "title": "codecell"
   },
   "outputs": [
    {
     "data": {
      "text/latex": [
       "$\\displaystyle \\sigma{\\left(V \\right)}$"
      ],
      "text/plain": [
       "sigma(V)"
      ]
     },
     "execution_count": 1,
     "metadata": {},
     "output_type": "execute_result"
    }
   ],
   "source": [
    "sigma(VL).replace(VL, VL(A,B))"
   ]
  },
  {
   "cell_type": "code",
   "execution_count": 87,
   "metadata": {
    "execution": {
     "iopub.execute_input": "2020-09-21T06:33:52.963245Z",
     "iopub.status.busy": "2020-09-21T06:33:52.961792Z",
     "iopub.status.idle": "2020-09-21T06:33:52.967747Z",
     "shell.execute_reply": "2020-09-21T06:33:52.968838Z"
    },
    "title": "codecell"
   },
   "outputs": [],
   "source": [
    "#sigma(V).replace(V, VL)"
   ]
  },
  {
   "cell_type": "code",
   "execution_count": 88,
   "metadata": {
    "lines_to_next_cell": 0,
    "title": "codecell"
   },
   "outputs": [],
   "source": []
  },
  {
   "cell_type": "code",
   "execution_count": 88,
   "metadata": {
    "title": "codecell"
   },
   "outputs": [],
   "source": []
  },
  {
   "cell_type": "code",
   "execution_count": 88,
   "metadata": {
    "execution": {
     "iopub.execute_input": "2020-09-21T06:33:52.977501Z",
     "iopub.status.busy": "2020-09-21T06:33:52.973048Z",
     "iopub.status.idle": "2020-09-21T06:33:52.985249Z",
     "shell.execute_reply": "2020-09-21T06:33:52.986306Z"
    },
    "lines_to_next_cell": 0,
    "title": "codecell"
   },
   "outputs": [
    {
     "data": {
      "text/latex": [
       "$\\displaystyle f{\\left(\\left( x \\mapsto x \\right) \\right)}$"
      ],
      "text/plain": [
       "f(Lambda(_x, _x))"
      ]
     },
     "execution_count": 1,
     "metadata": {},
     "output_type": "execute_result"
    }
   ],
   "source": [
    "f = Function('f')\n",
    "xtoxL = Lambda(a, a)\n",
    "xtox = lambda a: a\n",
    "\n",
    "f(x).subs({x : xtoxL})"
   ]
  },
  {
   "cell_type": "code",
   "execution_count": 89,
   "metadata": {
    "execution": {
     "iopub.execute_input": "2020-09-21T06:33:52.991438Z",
     "iopub.status.busy": "2020-09-21T06:33:52.989943Z",
     "iopub.status.idle": "2020-09-21T06:33:53.005635Z",
     "shell.execute_reply": "2020-09-21T06:33:53.006765Z"
    },
    "lines_to_next_cell": 0,
    "title": "codecell"
   },
   "outputs": [
    {
     "data": {
      "text/latex": [
       "$\\displaystyle f{\\left(\\left( x \\mapsto x \\right) \\right)}$"
      ],
      "text/plain": [
       "f(Lambda(_x, _x))"
      ]
     },
     "execution_count": 1,
     "metadata": {},
     "output_type": "execute_result"
    }
   ],
   "source": [
    "# f(x).replace(x, xtox)### ERROR xtox expects one positional argument ( I think replace only replaces the same kind of thing, never for instance a matrix symbol for a function or vice versa. the replacement needs to be of the same type / kind. But Lambda seems to work (as above))\n",
    "f(x).replace(x, xtoxL)"
   ]
  },
  {
   "cell_type": "code",
   "execution_count": 90,
   "metadata": {
    "lines_to_next_cell": 0,
    "title": "codecell"
   },
   "outputs": [],
   "source": []
  },
  {
   "cell_type": "code",
   "execution_count": 90,
   "metadata": {
    "lines_to_next_cell": 0,
    "title": "codecell"
   },
   "outputs": [],
   "source": []
  },
  {
   "cell_type": "code",
   "execution_count": 90,
   "metadata": {
    "execution": {
     "iopub.execute_input": "2020-09-21T06:33:53.025666Z",
     "iopub.status.busy": "2020-09-21T06:33:53.018479Z",
     "iopub.status.idle": "2020-09-21T06:33:53.031287Z",
     "shell.execute_reply": "2020-09-21T06:33:53.034182Z"
    },
    "lines_to_next_cell": 2,
    "title": "codecell"
   },
   "outputs": [],
   "source": [
    "#lambd(sigmaApply(n(A,B))).replace(n(A,B), Vs).replace(sigmaApply, sigmaApply_).replace(Vs, V)# ### ERROR rec replace must be matrix instance ...."
   ]
  },
  {
   "cell_type": "code",
   "execution_count": 91,
   "metadata": {
    "lines_to_next_cell": 0,
    "title": "codecell"
   },
   "outputs": [],
   "source": []
  },
  {
   "cell_type": "code",
   "execution_count": 91,
   "metadata": {
    "title": "codecell"
   },
   "outputs": [],
   "source": []
  },
  {
   "cell_type": "code",
   "execution_count": 91,
   "metadata": {
    "lines_to_next_cell": 0,
    "title": "codecell"
   },
   "outputs": [],
   "source": []
  },
  {
   "cell_type": "code",
   "execution_count": 91,
   "metadata": {
    "execution": {
     "iopub.execute_input": "2020-09-21T06:33:53.045604Z",
     "iopub.status.busy": "2020-09-21T06:33:53.040828Z",
     "iopub.status.idle": "2020-09-21T06:33:53.286943Z",
     "shell.execute_reply": "2020-09-21T06:33:53.288100Z"
    },
    "lines_to_next_cell": 0,
    "title": "codecell"
   },
   "outputs": [
    {
     "data": {
      "text/latex": [
       "$\\displaystyle \\left. \\frac{d}{d \\xi_{1}} \\lambda{\\left(\\xi_{1} \\right)} \\right|_{\\substack{ \\xi_{1}={\\left( d \\mapsto \\sigma{\\left(d \\right)} \\right)}_{\\circ}\\left({X W}\\right) }} {\\left( d \\mapsto \\frac{d}{d d} \\sigma{\\left(d \\right)} \\right)}_{\\circ}\\left({X W}\\right) W^{T}$"
      ],
      "text/plain": [
       "Subs(Derivative(lambda(_xi_1), _xi_1), _xi_1, Lambda(_d, sigma(_d)).(X*W))*Lambda(_d, Derivative(sigma(_d), _d)).(X*W)*W.T"
      ]
     },
     "execution_count": 1,
     "metadata": {},
     "output_type": "execute_result"
    }
   ],
   "source": [
    "### METHOD 0: the matrix diff rule in the most abstract form possible\n",
    "L.replace(n,vL).replace(sigmaApply, sigmaApply_).diff(A)"
   ]
  },
  {
   "cell_type": "code",
   "execution_count": 92,
   "metadata": {
    "execution": {
     "iopub.execute_input": "2020-09-21T06:33:53.298417Z",
     "iopub.status.busy": "2020-09-21T06:33:53.293859Z",
     "iopub.status.idle": "2020-09-21T06:33:53.441943Z",
     "shell.execute_reply": "2020-09-21T06:33:53.443059Z"
    },
    "title": "codecell"
   },
   "outputs": [
    {
     "data": {
      "text/latex": [
       "$\\displaystyle \\left. \\frac{d}{d \\xi_{1}} \\lambda{\\left(\\xi_{1} \\right)} \\right|_{\\substack{ \\xi_{1}={\\left( d \\mapsto \\sigma{\\left(d \\right)} \\right)}_{\\circ}\\left({X W}\\right) }} X^{T} {\\left( d \\mapsto \\frac{d}{d d} \\sigma{\\left(d \\right)} \\right)}_{\\circ}\\left({X W}\\right)$"
      ],
      "text/plain": [
       "Subs(Derivative(lambda(_xi_1), _xi_1), _xi_1, Lambda(_d, sigma(_d)).(X*W))*X.T*Lambda(_d, Derivative(sigma(_d), _d)).(X*W)"
      ]
     },
     "execution_count": 1,
     "metadata": {},
     "output_type": "execute_result"
    }
   ],
   "source": [
    "### SUCCESS! We see now that the matrix chain rule indeed makes the X transpose factor out on the left!!! (while compared to the above, the matrix transpose W^T factors out on the right, just like the book says (page 45 in the NOTE section of Seth Weidman book))\n",
    "L.replace(n,v).replace(sigmaApply, sigmaApply_).diff(B)"
   ]
  },
  {
   "cell_type": "code",
   "execution_count": 93,
   "metadata": {
    "execution": {
     "iopub.execute_input": "2020-09-21T06:33:53.447958Z",
     "iopub.status.busy": "2020-09-21T06:33:53.446472Z",
     "iopub.status.idle": "2020-09-21T06:33:53.451840Z",
     "shell.execute_reply": "2020-09-21T06:33:53.452981Z"
    },
    "lines_to_next_cell": 0,
    "title": "codecell"
   },
   "outputs": [],
   "source": [
    "#L.replace(n,v).replace(sigmaApply, sigmaApply_).diff(B).replace(B,W).replace(A,X) # ## ERROR non commutative scalars in matrix\n",
    "# L.replace(n,v).replace(sigmaApply, sigmaApply_).diff(B).replace(lambd, lambd_).replace(B,W).replace(A,X)# ## ERROR dummy object not iterable"
   ]
  },
  {
   "cell_type": "code",
   "execution_count": 94,
   "metadata": {
    "execution": {
     "iopub.execute_input": "2020-09-21T06:33:53.458709Z",
     "iopub.status.busy": "2020-09-21T06:33:53.456423Z",
     "iopub.status.idle": "2020-09-21T06:33:53.461900Z",
     "shell.execute_reply": "2020-09-21T06:33:53.462999Z"
    },
    "lines_to_next_cell": 0,
    "title": "codecell"
   },
   "outputs": [],
   "source": [
    "\n",
    "#L.replace(n,vL).replace(sigmaApply, sigmaApply_).diff(A).replace(lambd, lambd_) ### ERROR: dummy object not iterable (probably means when in the above expression we have epsilon = sigmaApply(XW) that we cannot iterate over this expression)"
   ]
  },
  {
   "cell_type": "code",
   "execution_count": 95,
   "metadata": {
    "execution": {
     "iopub.execute_input": "2020-09-21T06:33:53.468430Z",
     "iopub.status.busy": "2020-09-21T06:33:53.466259Z",
     "iopub.status.idle": "2020-09-21T06:33:53.471583Z",
     "shell.execute_reply": "2020-09-21T06:33:53.472997Z"
    },
    "lines_to_next_cell": 0,
    "title": "codecell"
   },
   "outputs": [],
   "source": [
    "# Replacing lambda first: BAD\n",
    "#L.replace(n, v).replace(lambd, lambd_) ## ERROR sigma apply object not ieterable\n",
    "# Replacing sigma first: BAD\n",
    "# L.replace(sigmaApply, sigmaApply_)### ERROR v object has no attribute applyfunc"
   ]
  },
  {
   "cell_type": "code",
   "execution_count": 96,
   "metadata": {
    "execution": {
     "iopub.execute_input": "2020-09-21T06:33:53.479196Z",
     "iopub.status.busy": "2020-09-21T06:33:53.476426Z",
     "iopub.status.idle": "2020-09-21T06:33:53.857627Z",
     "shell.execute_reply": "2020-09-21T06:33:53.858760Z"
    },
    "lines_to_next_cell": 0,
    "title": "codecell"
   },
   "outputs": [
    {
     "data": {
      "text/latex": [
       "$\\displaystyle \\sigma{\\left(W_{0, 0} X_{0, 0} + W_{1, 0} X_{0, 1} + W_{2, 0} X_{0, 2} \\right)} + \\sigma{\\left(W_{0, 0} X_{1, 0} + W_{1, 0} X_{1, 1} + W_{2, 0} X_{1, 2} \\right)} + \\sigma{\\left(W_{0, 0} X_{2, 0} + W_{1, 0} X_{2, 1} + W_{2, 0} X_{2, 2} \\right)} + \\sigma{\\left(W_{0, 1} X_{0, 0} + W_{1, 1} X_{0, 1} + W_{2, 1} X_{0, 2} \\right)} + \\sigma{\\left(W_{0, 1} X_{1, 0} + W_{1, 1} X_{1, 1} + W_{2, 1} X_{1, 2} \\right)} + \\sigma{\\left(W_{0, 1} X_{2, 0} + W_{1, 1} X_{2, 1} + W_{2, 1} X_{2, 2} \\right)}$"
      ],
      "text/plain": [
       "sigma(W[0, 0]*X[0, 0] + W[1, 0]*X[0, 1] + W[2, 0]*X[0, 2]) + sigma(W[0, 0]*X[1, 0] + W[1, 0]*X[1, 1] + W[2, 0]*X[1, 2]) + sigma(W[0, 0]*X[2, 0] + W[1, 0]*X[2, 1] + W[2, 0]*X[2, 2]) + sigma(W[0, 1]*X[0, 0] + W[1, 1]*X[0, 1] + W[2, 1]*X[0, 2]) + sigma(W[0, 1]*X[1, 0] + W[1, 1]*X[1, 1] + W[2, 1]*X[1, 2]) + sigma(W[0, 1]*X[2, 0] + W[1, 1]*X[2, 1] + W[2, 1]*X[2, 2])"
      ]
     },
     "execution_count": 1,
     "metadata": {},
     "output_type": "execute_result"
    }
   ],
   "source": [
    "# Replacing n first: GOOD (need to go from inner nesting to outermost function, never any other way)\n",
    "L.replace(n, v).replace(sigmaApply, sigmaApply_).replace(lambd, lambd_)"
   ]
  },
  {
   "cell_type": "code",
   "execution_count": 97,
   "metadata": {
    "execution": {
     "iopub.execute_input": "2020-09-21T06:33:53.869426Z",
     "iopub.status.busy": "2020-09-21T06:33:53.864496Z",
     "iopub.status.idle": "2020-09-21T06:33:54.889220Z",
     "shell.execute_reply": "2020-09-21T06:33:54.890281Z"
    },
    "lines_to_next_cell": 0,
    "title": "codecell"
   },
   "outputs": [
    {
     "data": {
      "text/latex": [
       "$\\displaystyle \\left[\\begin{matrix}W_{0, 0} \\left. \\frac{d}{d \\xi_{1}} \\sigma{\\left(\\xi_{1} \\right)} \\right|_{\\substack{ \\xi_{1}=W_{0, 0} X_{0, 0} + W_{1, 0} X_{0, 1} + W_{2, 0} X_{0, 2} }} + W_{0, 1} \\left. \\frac{d}{d \\xi_{1}} \\sigma{\\left(\\xi_{1} \\right)} \\right|_{\\substack{ \\xi_{1}=W_{0, 1} X_{0, 0} + W_{1, 1} X_{0, 1} + W_{2, 1} X_{0, 2} }} & W_{1, 0} \\left. \\frac{d}{d \\xi_{1}} \\sigma{\\left(\\xi_{1} \\right)} \\right|_{\\substack{ \\xi_{1}=W_{0, 0} X_{0, 0} + W_{1, 0} X_{0, 1} + W_{2, 0} X_{0, 2} }} + W_{1, 1} \\left. \\frac{d}{d \\xi_{1}} \\sigma{\\left(\\xi_{1} \\right)} \\right|_{\\substack{ \\xi_{1}=W_{0, 1} X_{0, 0} + W_{1, 1} X_{0, 1} + W_{2, 1} X_{0, 2} }} & W_{2, 0} \\left. \\frac{d}{d \\xi_{1}} \\sigma{\\left(\\xi_{1} \\right)} \\right|_{\\substack{ \\xi_{1}=W_{0, 0} X_{0, 0} + W_{1, 0} X_{0, 1} + W_{2, 0} X_{0, 2} }} + W_{2, 1} \\left. \\frac{d}{d \\xi_{1}} \\sigma{\\left(\\xi_{1} \\right)} \\right|_{\\substack{ \\xi_{1}=W_{0, 1} X_{0, 0} + W_{1, 1} X_{0, 1} + W_{2, 1} X_{0, 2} }}\\\\W_{0, 0} \\left. \\frac{d}{d \\xi_{1}} \\sigma{\\left(\\xi_{1} \\right)} \\right|_{\\substack{ \\xi_{1}=W_{0, 0} X_{1, 0} + W_{1, 0} X_{1, 1} + W_{2, 0} X_{1, 2} }} + W_{0, 1} \\left. \\frac{d}{d \\xi_{1}} \\sigma{\\left(\\xi_{1} \\right)} \\right|_{\\substack{ \\xi_{1}=W_{0, 1} X_{1, 0} + W_{1, 1} X_{1, 1} + W_{2, 1} X_{1, 2} }} & W_{1, 0} \\left. \\frac{d}{d \\xi_{1}} \\sigma{\\left(\\xi_{1} \\right)} \\right|_{\\substack{ \\xi_{1}=W_{0, 0} X_{1, 0} + W_{1, 0} X_{1, 1} + W_{2, 0} X_{1, 2} }} + W_{1, 1} \\left. \\frac{d}{d \\xi_{1}} \\sigma{\\left(\\xi_{1} \\right)} \\right|_{\\substack{ \\xi_{1}=W_{0, 1} X_{1, 0} + W_{1, 1} X_{1, 1} + W_{2, 1} X_{1, 2} }} & W_{2, 0} \\left. \\frac{d}{d \\xi_{1}} \\sigma{\\left(\\xi_{1} \\right)} \\right|_{\\substack{ \\xi_{1}=W_{0, 0} X_{1, 0} + W_{1, 0} X_{1, 1} + W_{2, 0} X_{1, 2} }} + W_{2, 1} \\left. \\frac{d}{d \\xi_{1}} \\sigma{\\left(\\xi_{1} \\right)} \\right|_{\\substack{ \\xi_{1}=W_{0, 1} X_{1, 0} + W_{1, 1} X_{1, 1} + W_{2, 1} X_{1, 2} }}\\\\W_{0, 0} \\left. \\frac{d}{d \\xi_{1}} \\sigma{\\left(\\xi_{1} \\right)} \\right|_{\\substack{ \\xi_{1}=W_{0, 0} X_{2, 0} + W_{1, 0} X_{2, 1} + W_{2, 0} X_{2, 2} }} + W_{0, 1} \\left. \\frac{d}{d \\xi_{1}} \\sigma{\\left(\\xi_{1} \\right)} \\right|_{\\substack{ \\xi_{1}=W_{0, 1} X_{2, 0} + W_{1, 1} X_{2, 1} + W_{2, 1} X_{2, 2} }} & W_{1, 0} \\left. \\frac{d}{d \\xi_{1}} \\sigma{\\left(\\xi_{1} \\right)} \\right|_{\\substack{ \\xi_{1}=W_{0, 0} X_{2, 0} + W_{1, 0} X_{2, 1} + W_{2, 0} X_{2, 2} }} + W_{1, 1} \\left. \\frac{d}{d \\xi_{1}} \\sigma{\\left(\\xi_{1} \\right)} \\right|_{\\substack{ \\xi_{1}=W_{0, 1} X_{2, 0} + W_{1, 1} X_{2, 1} + W_{2, 1} X_{2, 2} }} & W_{2, 0} \\left. \\frac{d}{d \\xi_{1}} \\sigma{\\left(\\xi_{1} \\right)} \\right|_{\\substack{ \\xi_{1}=W_{0, 0} X_{2, 0} + W_{1, 0} X_{2, 1} + W_{2, 0} X_{2, 2} }} + W_{2, 1} \\left. \\frac{d}{d \\xi_{1}} \\sigma{\\left(\\xi_{1} \\right)} \\right|_{\\substack{ \\xi_{1}=W_{0, 1} X_{2, 0} + W_{1, 1} X_{2, 1} + W_{2, 1} X_{2, 2} }}\\end{matrix}\\right]$"
      ],
      "text/plain": [
       "Matrix([\n",
       "[W[0, 0]*Subs(Derivative(sigma(_xi_1), _xi_1), _xi_1, W[0, 0]*X[0, 0] + W[1, 0]*X[0, 1] + W[2, 0]*X[0, 2]) + W[0, 1]*Subs(Derivative(sigma(_xi_1), _xi_1), _xi_1, W[0, 1]*X[0, 0] + W[1, 1]*X[0, 1] + W[2, 1]*X[0, 2]), W[1, 0]*Subs(Derivative(sigma(_xi_1), _xi_1), _xi_1, W[0, 0]*X[0, 0] + W[1, 0]*X[0, 1] + W[2, 0]*X[0, 2]) + W[1, 1]*Subs(Derivative(sigma(_xi_1), _xi_1), _xi_1, W[0, 1]*X[0, 0] + W[1, 1]*X[0, 1] + W[2, 1]*X[0, 2]), W[2, 0]*Subs(Derivative(sigma(_xi_1), _xi_1), _xi_1, W[0, 0]*X[0, 0] + W[1, 0]*X[0, 1] + W[2, 0]*X[0, 2]) + W[2, 1]*Subs(Derivative(sigma(_xi_1), _xi_1), _xi_1, W[0, 1]*X[0, 0] + W[1, 1]*X[0, 1] + W[2, 1]*X[0, 2])],\n",
       "[W[0, 0]*Subs(Derivative(sigma(_xi_1), _xi_1), _xi_1, W[0, 0]*X[1, 0] + W[1, 0]*X[1, 1] + W[2, 0]*X[1, 2]) + W[0, 1]*Subs(Derivative(sigma(_xi_1), _xi_1), _xi_1, W[0, 1]*X[1, 0] + W[1, 1]*X[1, 1] + W[2, 1]*X[1, 2]), W[1, 0]*Subs(Derivative(sigma(_xi_1), _xi_1), _xi_1, W[0, 0]*X[1, 0] + W[1, 0]*X[1, 1] + W[2, 0]*X[1, 2]) + W[1, 1]*Subs(Derivative(sigma(_xi_1), _xi_1), _xi_1, W[0, 1]*X[1, 0] + W[1, 1]*X[1, 1] + W[2, 1]*X[1, 2]), W[2, 0]*Subs(Derivative(sigma(_xi_1), _xi_1), _xi_1, W[0, 0]*X[1, 0] + W[1, 0]*X[1, 1] + W[2, 0]*X[1, 2]) + W[2, 1]*Subs(Derivative(sigma(_xi_1), _xi_1), _xi_1, W[0, 1]*X[1, 0] + W[1, 1]*X[1, 1] + W[2, 1]*X[1, 2])],\n",
       "[W[0, 0]*Subs(Derivative(sigma(_xi_1), _xi_1), _xi_1, W[0, 0]*X[2, 0] + W[1, 0]*X[2, 1] + W[2, 0]*X[2, 2]) + W[0, 1]*Subs(Derivative(sigma(_xi_1), _xi_1), _xi_1, W[0, 1]*X[2, 0] + W[1, 1]*X[2, 1] + W[2, 1]*X[2, 2]), W[1, 0]*Subs(Derivative(sigma(_xi_1), _xi_1), _xi_1, W[0, 0]*X[2, 0] + W[1, 0]*X[2, 1] + W[2, 0]*X[2, 2]) + W[1, 1]*Subs(Derivative(sigma(_xi_1), _xi_1), _xi_1, W[0, 1]*X[2, 0] + W[1, 1]*X[2, 1] + W[2, 1]*X[2, 2]), W[2, 0]*Subs(Derivative(sigma(_xi_1), _xi_1), _xi_1, W[0, 0]*X[2, 0] + W[1, 0]*X[2, 1] + W[2, 0]*X[2, 2]) + W[2, 1]*Subs(Derivative(sigma(_xi_1), _xi_1), _xi_1, W[0, 1]*X[2, 0] + W[1, 1]*X[2, 1] + W[2, 1]*X[2, 2])]])"
      ]
     },
     "execution_count": 1,
     "metadata": {},
     "output_type": "execute_result"
    }
   ],
   "source": [
    "# ### END RESULT of METHOD 2:\n",
    "L.replace(n, v).replace(sigmaApply, sigmaApply_).replace(lambd, lambd_).diff(Matrix(A))"
   ]
  },
  {
   "cell_type": "markdown",
   "execution_count": 98,
   "metadata": {
    "lines_to_next_cell": 0,
    "title": "markdown"
   },
   "source": [
    "Compare the above matrix symbol way with the Lsum way:\n",
    "\n",
    "### END RESULT of METHOD 1:"
   ]
  },
  {
   "cell_type": "code",
   "execution_count": 98,
   "metadata": {
    "execution": {
     "iopub.execute_input": "2020-09-21T06:33:54.895374Z",
     "iopub.status.busy": "2020-09-21T06:33:54.893871Z",
     "iopub.status.idle": "2020-09-21T06:33:55.143040Z",
     "shell.execute_reply": "2020-09-21T06:33:55.144172Z"
    },
    "lines_to_next_cell": 0,
    "title": "codecell"
   },
   "outputs": [
    {
     "data": {
      "text/latex": [
       "$\\displaystyle \\left[\\begin{matrix}w_{11} \\left. \\frac{d}{d \\xi_{1}} \\sigma{\\left(\\xi_{1} \\right)} \\right|_{\\substack{ \\xi_{1}=w_{11} x_{11} + w_{21} x_{12} + w_{31} x_{13} }} + w_{12} \\left. \\frac{d}{d \\xi_{1}} \\sigma{\\left(\\xi_{1} \\right)} \\right|_{\\substack{ \\xi_{1}=w_{12} x_{11} + w_{22} x_{12} + w_{32} x_{13} }} & w_{21} \\left. \\frac{d}{d \\xi_{1}} \\sigma{\\left(\\xi_{1} \\right)} \\right|_{\\substack{ \\xi_{1}=w_{11} x_{11} + w_{21} x_{12} + w_{31} x_{13} }} + w_{22} \\left. \\frac{d}{d \\xi_{1}} \\sigma{\\left(\\xi_{1} \\right)} \\right|_{\\substack{ \\xi_{1}=w_{12} x_{11} + w_{22} x_{12} + w_{32} x_{13} }} & w_{31} \\left. \\frac{d}{d \\xi_{1}} \\sigma{\\left(\\xi_{1} \\right)} \\right|_{\\substack{ \\xi_{1}=w_{11} x_{11} + w_{21} x_{12} + w_{31} x_{13} }} + w_{32} \\left. \\frac{d}{d \\xi_{1}} \\sigma{\\left(\\xi_{1} \\right)} \\right|_{\\substack{ \\xi_{1}=w_{12} x_{11} + w_{22} x_{12} + w_{32} x_{13} }}\\\\w_{11} \\left. \\frac{d}{d \\xi_{1}} \\sigma{\\left(\\xi_{1} \\right)} \\right|_{\\substack{ \\xi_{1}=w_{11} x_{21} + w_{21} x_{22} + w_{31} x_{23} }} + w_{12} \\left. \\frac{d}{d \\xi_{1}} \\sigma{\\left(\\xi_{1} \\right)} \\right|_{\\substack{ \\xi_{1}=w_{12} x_{21} + w_{22} x_{22} + w_{32} x_{23} }} & w_{21} \\left. \\frac{d}{d \\xi_{1}} \\sigma{\\left(\\xi_{1} \\right)} \\right|_{\\substack{ \\xi_{1}=w_{11} x_{21} + w_{21} x_{22} + w_{31} x_{23} }} + w_{22} \\left. \\frac{d}{d \\xi_{1}} \\sigma{\\left(\\xi_{1} \\right)} \\right|_{\\substack{ \\xi_{1}=w_{12} x_{21} + w_{22} x_{22} + w_{32} x_{23} }} & w_{31} \\left. \\frac{d}{d \\xi_{1}} \\sigma{\\left(\\xi_{1} \\right)} \\right|_{\\substack{ \\xi_{1}=w_{11} x_{21} + w_{21} x_{22} + w_{31} x_{23} }} + w_{32} \\left. \\frac{d}{d \\xi_{1}} \\sigma{\\left(\\xi_{1} \\right)} \\right|_{\\substack{ \\xi_{1}=w_{12} x_{21} + w_{22} x_{22} + w_{32} x_{23} }}\\\\w_{11} \\left. \\frac{d}{d \\xi_{1}} \\sigma{\\left(\\xi_{1} \\right)} \\right|_{\\substack{ \\xi_{1}=w_{11} x_{31} + w_{21} x_{32} + w_{31} x_{33} }} + w_{12} \\left. \\frac{d}{d \\xi_{1}} \\sigma{\\left(\\xi_{1} \\right)} \\right|_{\\substack{ \\xi_{1}=w_{12} x_{31} + w_{22} x_{32} + w_{32} x_{33} }} & w_{21} \\left. \\frac{d}{d \\xi_{1}} \\sigma{\\left(\\xi_{1} \\right)} \\right|_{\\substack{ \\xi_{1}=w_{11} x_{31} + w_{21} x_{32} + w_{31} x_{33} }} + w_{22} \\left. \\frac{d}{d \\xi_{1}} \\sigma{\\left(\\xi_{1} \\right)} \\right|_{\\substack{ \\xi_{1}=w_{12} x_{31} + w_{22} x_{32} + w_{32} x_{33} }} & w_{31} \\left. \\frac{d}{d \\xi_{1}} \\sigma{\\left(\\xi_{1} \\right)} \\right|_{\\substack{ \\xi_{1}=w_{11} x_{31} + w_{21} x_{32} + w_{31} x_{33} }} + w_{32} \\left. \\frac{d}{d \\xi_{1}} \\sigma{\\left(\\xi_{1} \\right)} \\right|_{\\substack{ \\xi_{1}=w_{12} x_{31} + w_{22} x_{32} + w_{32} x_{33} }}\\end{matrix}\\right]$"
      ],
      "text/plain": [
       "Matrix([\n",
       "[w_11*Subs(Derivative(sigma(_xi_1), _xi_1), _xi_1, w_11*x_11 + w_21*x_12 + w_31*x_13) + w_12*Subs(Derivative(sigma(_xi_1), _xi_1), _xi_1, w_12*x_11 + w_22*x_12 + w_32*x_13), w_21*Subs(Derivative(sigma(_xi_1), _xi_1), _xi_1, w_11*x_11 + w_21*x_12 + w_31*x_13) + w_22*Subs(Derivative(sigma(_xi_1), _xi_1), _xi_1, w_12*x_11 + w_22*x_12 + w_32*x_13), w_31*Subs(Derivative(sigma(_xi_1), _xi_1), _xi_1, w_11*x_11 + w_21*x_12 + w_31*x_13) + w_32*Subs(Derivative(sigma(_xi_1), _xi_1), _xi_1, w_12*x_11 + w_22*x_12 + w_32*x_13)],\n",
       "[w_11*Subs(Derivative(sigma(_xi_1), _xi_1), _xi_1, w_11*x_21 + w_21*x_22 + w_31*x_23) + w_12*Subs(Derivative(sigma(_xi_1), _xi_1), _xi_1, w_12*x_21 + w_22*x_22 + w_32*x_23), w_21*Subs(Derivative(sigma(_xi_1), _xi_1), _xi_1, w_11*x_21 + w_21*x_22 + w_31*x_23) + w_22*Subs(Derivative(sigma(_xi_1), _xi_1), _xi_1, w_12*x_21 + w_22*x_22 + w_32*x_23), w_31*Subs(Derivative(sigma(_xi_1), _xi_1), _xi_1, w_11*x_21 + w_21*x_22 + w_31*x_23) + w_32*Subs(Derivative(sigma(_xi_1), _xi_1), _xi_1, w_12*x_21 + w_22*x_22 + w_32*x_23)],\n",
       "[w_11*Subs(Derivative(sigma(_xi_1), _xi_1), _xi_1, w_11*x_31 + w_21*x_32 + w_31*x_33) + w_12*Subs(Derivative(sigma(_xi_1), _xi_1), _xi_1, w_12*x_31 + w_22*x_32 + w_32*x_33), w_21*Subs(Derivative(sigma(_xi_1), _xi_1), _xi_1, w_11*x_31 + w_21*x_32 + w_31*x_33) + w_22*Subs(Derivative(sigma(_xi_1), _xi_1), _xi_1, w_12*x_31 + w_22*x_32 + w_32*x_33), w_31*Subs(Derivative(sigma(_xi_1), _xi_1), _xi_1, w_11*x_31 + w_21*x_32 + w_31*x_33) + w_32*Subs(Derivative(sigma(_xi_1), _xi_1), _xi_1, w_12*x_31 + w_22*x_32 + w_32*x_33)]])"
      ]
     },
     "execution_count": 1,
     "metadata": {},
     "output_type": "execute_result"
    }
   ],
   "source": [
    "#Lsum = L.replace(n, vN).replace(sigmaApply, sigmaApply_).replace(lambd, lambd_)\n",
    "\n",
    "L.replace(n, vN).replace(sigmaApply, sigmaApply_).replace(lambd, lambd_).subs(elemToSpecD).diff(X)#.subs(specToElemD)"
   ]
  },
  {
   "cell_type": "code",
   "execution_count": 99,
   "metadata": {
    "lines_to_next_cell": 2,
    "title": "codecell"
   },
   "outputs": [],
   "source": []
  },
  {
   "cell_type": "markdown",
   "execution_count": 99,
   "metadata": {
    "lines_to_next_cell": 0,
    "title": "markdown"
   },
   "source": [
    "COMPARING METHOD 0 (abstract way) with METHOD 2 (direct way) when differentiating .w.r.t to X vs. w.r.t to W\n",
    "### With respect to X (abstract)"
   ]
  },
  {
   "cell_type": "code",
   "execution_count": 99,
   "metadata": {
    "execution": {
     "iopub.execute_input": "2020-09-21T06:33:55.158885Z",
     "iopub.status.busy": "2020-09-21T06:33:55.147827Z",
     "iopub.status.idle": "2020-09-21T06:33:55.256439Z",
     "shell.execute_reply": "2020-09-21T06:33:55.257586Z"
    },
    "title": "codecell"
   },
   "outputs": [
    {
     "data": {
      "text/latex": [
       "$\\displaystyle \\left. \\frac{d}{d \\xi_{1}} \\lambda{\\left(\\xi_{1} \\right)} \\right|_{\\substack{ \\xi_{1}={\\left( d \\mapsto \\sigma{\\left(d \\right)} \\right)}_{\\circ}\\left({X W}\\right) }} {\\left( d \\mapsto \\frac{d}{d d} \\sigma{\\left(d \\right)} \\right)}_{\\circ}\\left({X W}\\right) W^{T}$"
      ],
      "text/plain": [
       "Subs(Derivative(lambda(_xi_1), _xi_1), _xi_1, Lambda(_d, sigma(_d)).(X*W))*Lambda(_d, Derivative(sigma(_d), _d)).(X*W)*W.T"
      ]
     },
     "execution_count": 1,
     "metadata": {},
     "output_type": "execute_result"
    }
   ],
   "source": [
    "L.replace(n,vL).replace(sigmaApply, sigmaApply_).diff(A)"
   ]
  },
  {
   "cell_type": "markdown",
   "execution_count": 100,
   "metadata": {
    "lines_to_next_cell": 0,
    "title": "markdown"
   },
   "source": [
    "### With respect to X (direct)"
   ]
  },
  {
   "cell_type": "code",
   "execution_count": 100,
   "metadata": {
    "execution": {
     "iopub.execute_input": "2020-09-21T06:33:55.262757Z",
     "iopub.status.busy": "2020-09-21T06:33:55.261277Z",
     "iopub.status.idle": "2020-09-21T06:33:55.432368Z",
     "shell.execute_reply": "2020-09-21T06:33:55.433525Z"
    },
    "title": "codecell"
   },
   "outputs": [
    {
     "data": {
      "text/latex": [
       "$\\displaystyle \\left[\\begin{matrix}w_{11} \\left. \\frac{d}{d \\xi_{1}} \\sigma{\\left(\\xi_{1} \\right)} \\right|_{\\substack{ \\xi_{1}=n_{11} }} + w_{12} \\left. \\frac{d}{d \\xi_{1}} \\sigma{\\left(\\xi_{1} \\right)} \\right|_{\\substack{ \\xi_{1}=n_{12} }} & w_{21} \\left. \\frac{d}{d \\xi_{1}} \\sigma{\\left(\\xi_{1} \\right)} \\right|_{\\substack{ \\xi_{1}=n_{11} }} + w_{22} \\left. \\frac{d}{d \\xi_{1}} \\sigma{\\left(\\xi_{1} \\right)} \\right|_{\\substack{ \\xi_{1}=n_{12} }} & w_{31} \\left. \\frac{d}{d \\xi_{1}} \\sigma{\\left(\\xi_{1} \\right)} \\right|_{\\substack{ \\xi_{1}=n_{11} }} + w_{32} \\left. \\frac{d}{d \\xi_{1}} \\sigma{\\left(\\xi_{1} \\right)} \\right|_{\\substack{ \\xi_{1}=n_{12} }}\\\\w_{11} \\left. \\frac{d}{d \\xi_{1}} \\sigma{\\left(\\xi_{1} \\right)} \\right|_{\\substack{ \\xi_{1}=n_{21} }} + w_{12} \\left. \\frac{d}{d \\xi_{1}} \\sigma{\\left(\\xi_{1} \\right)} \\right|_{\\substack{ \\xi_{1}=n_{22} }} & w_{21} \\left. \\frac{d}{d \\xi_{1}} \\sigma{\\left(\\xi_{1} \\right)} \\right|_{\\substack{ \\xi_{1}=n_{21} }} + w_{22} \\left. \\frac{d}{d \\xi_{1}} \\sigma{\\left(\\xi_{1} \\right)} \\right|_{\\substack{ \\xi_{1}=n_{22} }} & w_{31} \\left. \\frac{d}{d \\xi_{1}} \\sigma{\\left(\\xi_{1} \\right)} \\right|_{\\substack{ \\xi_{1}=n_{21} }} + w_{32} \\left. \\frac{d}{d \\xi_{1}} \\sigma{\\left(\\xi_{1} \\right)} \\right|_{\\substack{ \\xi_{1}=n_{22} }}\\\\w_{11} \\left. \\frac{d}{d \\xi_{1}} \\sigma{\\left(\\xi_{1} \\right)} \\right|_{\\substack{ \\xi_{1}=n_{31} }} + w_{12} \\left. \\frac{d}{d \\xi_{1}} \\sigma{\\left(\\xi_{1} \\right)} \\right|_{\\substack{ \\xi_{1}=n_{32} }} & w_{21} \\left. \\frac{d}{d \\xi_{1}} \\sigma{\\left(\\xi_{1} \\right)} \\right|_{\\substack{ \\xi_{1}=n_{31} }} + w_{22} \\left. \\frac{d}{d \\xi_{1}} \\sigma{\\left(\\xi_{1} \\right)} \\right|_{\\substack{ \\xi_{1}=n_{32} }} & w_{31} \\left. \\frac{d}{d \\xi_{1}} \\sigma{\\left(\\xi_{1} \\right)} \\right|_{\\substack{ \\xi_{1}=n_{31} }} + w_{32} \\left. \\frac{d}{d \\xi_{1}} \\sigma{\\left(\\xi_{1} \\right)} \\right|_{\\substack{ \\xi_{1}=n_{32} }}\\end{matrix}\\right]$"
      ],
      "text/plain": [
       "Matrix([\n",
       "[w_11*Subs(Derivative(sigma(_xi_1), _xi_1), _xi_1, n_11) + w_12*Subs(Derivative(sigma(_xi_1), _xi_1), _xi_1, n_12), w_21*Subs(Derivative(sigma(_xi_1), _xi_1), _xi_1, n_11) + w_22*Subs(Derivative(sigma(_xi_1), _xi_1), _xi_1, n_12), w_31*Subs(Derivative(sigma(_xi_1), _xi_1), _xi_1, n_11) + w_32*Subs(Derivative(sigma(_xi_1), _xi_1), _xi_1, n_12)],\n",
       "[w_11*Subs(Derivative(sigma(_xi_1), _xi_1), _xi_1, n_21) + w_12*Subs(Derivative(sigma(_xi_1), _xi_1), _xi_1, n_22), w_21*Subs(Derivative(sigma(_xi_1), _xi_1), _xi_1, n_21) + w_22*Subs(Derivative(sigma(_xi_1), _xi_1), _xi_1, n_22), w_31*Subs(Derivative(sigma(_xi_1), _xi_1), _xi_1, n_21) + w_32*Subs(Derivative(sigma(_xi_1), _xi_1), _xi_1, n_22)],\n",
       "[w_11*Subs(Derivative(sigma(_xi_1), _xi_1), _xi_1, n_31) + w_12*Subs(Derivative(sigma(_xi_1), _xi_1), _xi_1, n_32), w_21*Subs(Derivative(sigma(_xi_1), _xi_1), _xi_1, n_31) + w_22*Subs(Derivative(sigma(_xi_1), _xi_1), _xi_1, n_32), w_31*Subs(Derivative(sigma(_xi_1), _xi_1), _xi_1, n_31) + w_32*Subs(Derivative(sigma(_xi_1), _xi_1), _xi_1, n_32)]])"
      ]
     },
     "execution_count": 1,
     "metadata": {},
     "output_type": "execute_result"
    }
   ],
   "source": [
    "L.replace(n, vN).replace(sigmaApply, sigmaApply_).replace(lambd, lambd_).subs(elemToSpecD).diff(X).subs(specToElemD)"
   ]
  },
  {
   "cell_type": "markdown",
   "execution_count": 101,
   "metadata": {
    "lines_to_next_cell": 0,
    "title": "markdown"
   },
   "source": [
    "### With respect to W (abstract)"
   ]
  },
  {
   "cell_type": "code",
   "execution_count": 101,
   "metadata": {
    "execution": {
     "iopub.execute_input": "2020-09-21T06:33:55.445600Z",
     "iopub.status.busy": "2020-09-21T06:33:55.441043Z",
     "iopub.status.idle": "2020-09-21T06:33:55.731199Z",
     "shell.execute_reply": "2020-09-21T06:33:55.732406Z"
    },
    "title": "codecell"
   },
   "outputs": [
    {
     "data": {
      "text/latex": [
       "$\\displaystyle \\left. \\frac{d}{d \\xi_{1}} \\lambda{\\left(\\xi_{1} \\right)} \\right|_{\\substack{ \\xi_{1}={\\left( d \\mapsto \\sigma{\\left(d \\right)} \\right)}_{\\circ}\\left({X W}\\right) }} X^{T} {\\left( d \\mapsto \\frac{d}{d d} \\sigma{\\left(d \\right)} \\right)}_{\\circ}\\left({X W}\\right)$"
      ],
      "text/plain": [
       "Subs(Derivative(lambda(_xi_1), _xi_1), _xi_1, Lambda(_d, sigma(_d)).(X*W))*X.T*Lambda(_d, Derivative(sigma(_d), _d)).(X*W)"
      ]
     },
     "execution_count": 1,
     "metadata": {},
     "output_type": "execute_result"
    }
   ],
   "source": [
    "L.replace(n,vL).replace(sigmaApply, sigmaApply_).diff(B)"
   ]
  },
  {
   "cell_type": "markdown",
   "execution_count": 102,
   "metadata": {
    "lines_to_next_cell": 0,
    "title": "markdown"
   },
   "source": [
    "### With respect to W (direct)"
   ]
  },
  {
   "cell_type": "code",
   "execution_count": 102,
   "metadata": {
    "execution": {
     "iopub.execute_input": "2020-09-21T06:33:55.737735Z",
     "iopub.status.busy": "2020-09-21T06:33:55.736124Z",
     "iopub.status.idle": "2020-09-21T06:33:56.754753Z",
     "shell.execute_reply": "2020-09-21T06:33:56.756197Z"
    },
    "lines_to_next_cell": 0,
    "title": "codecell"
   },
   "outputs": [
    {
     "data": {
      "text/latex": [
       "$\\displaystyle \\left[\\begin{matrix}x_{11} \\left. \\frac{d}{d \\xi_{1}} \\sigma{\\left(\\xi_{1} \\right)} \\right|_{\\substack{ \\xi_{1}=n_{11} }} + x_{21} \\left. \\frac{d}{d \\xi_{1}} \\sigma{\\left(\\xi_{1} \\right)} \\right|_{\\substack{ \\xi_{1}=n_{21} }} + x_{31} \\left. \\frac{d}{d \\xi_{1}} \\sigma{\\left(\\xi_{1} \\right)} \\right|_{\\substack{ \\xi_{1}=n_{31} }} & x_{11} \\left. \\frac{d}{d \\xi_{1}} \\sigma{\\left(\\xi_{1} \\right)} \\right|_{\\substack{ \\xi_{1}=n_{12} }} + x_{21} \\left. \\frac{d}{d \\xi_{1}} \\sigma{\\left(\\xi_{1} \\right)} \\right|_{\\substack{ \\xi_{1}=n_{22} }} + x_{31} \\left. \\frac{d}{d \\xi_{1}} \\sigma{\\left(\\xi_{1} \\right)} \\right|_{\\substack{ \\xi_{1}=n_{32} }}\\\\x_{12} \\left. \\frac{d}{d \\xi_{1}} \\sigma{\\left(\\xi_{1} \\right)} \\right|_{\\substack{ \\xi_{1}=n_{11} }} + x_{22} \\left. \\frac{d}{d \\xi_{1}} \\sigma{\\left(\\xi_{1} \\right)} \\right|_{\\substack{ \\xi_{1}=n_{21} }} + x_{32} \\left. \\frac{d}{d \\xi_{1}} \\sigma{\\left(\\xi_{1} \\right)} \\right|_{\\substack{ \\xi_{1}=n_{31} }} & x_{12} \\left. \\frac{d}{d \\xi_{1}} \\sigma{\\left(\\xi_{1} \\right)} \\right|_{\\substack{ \\xi_{1}=n_{12} }} + x_{22} \\left. \\frac{d}{d \\xi_{1}} \\sigma{\\left(\\xi_{1} \\right)} \\right|_{\\substack{ \\xi_{1}=n_{22} }} + x_{32} \\left. \\frac{d}{d \\xi_{1}} \\sigma{\\left(\\xi_{1} \\right)} \\right|_{\\substack{ \\xi_{1}=n_{32} }}\\\\x_{13} \\left. \\frac{d}{d \\xi_{1}} \\sigma{\\left(\\xi_{1} \\right)} \\right|_{\\substack{ \\xi_{1}=n_{11} }} + x_{23} \\left. \\frac{d}{d \\xi_{1}} \\sigma{\\left(\\xi_{1} \\right)} \\right|_{\\substack{ \\xi_{1}=n_{21} }} + x_{33} \\left. \\frac{d}{d \\xi_{1}} \\sigma{\\left(\\xi_{1} \\right)} \\right|_{\\substack{ \\xi_{1}=n_{31} }} & x_{13} \\left. \\frac{d}{d \\xi_{1}} \\sigma{\\left(\\xi_{1} \\right)} \\right|_{\\substack{ \\xi_{1}=n_{12} }} + x_{23} \\left. \\frac{d}{d \\xi_{1}} \\sigma{\\left(\\xi_{1} \\right)} \\right|_{\\substack{ \\xi_{1}=n_{22} }} + x_{33} \\left. \\frac{d}{d \\xi_{1}} \\sigma{\\left(\\xi_{1} \\right)} \\right|_{\\substack{ \\xi_{1}=n_{32} }}\\end{matrix}\\right]$"
      ],
      "text/plain": [
       "Matrix([\n",
       "[x_11*Subs(Derivative(sigma(_xi_1), _xi_1), _xi_1, n_11) + x_21*Subs(Derivative(sigma(_xi_1), _xi_1), _xi_1, n_21) + x_31*Subs(Derivative(sigma(_xi_1), _xi_1), _xi_1, n_31), x_11*Subs(Derivative(sigma(_xi_1), _xi_1), _xi_1, n_12) + x_21*Subs(Derivative(sigma(_xi_1), _xi_1), _xi_1, n_22) + x_31*Subs(Derivative(sigma(_xi_1), _xi_1), _xi_1, n_32)],\n",
       "[x_12*Subs(Derivative(sigma(_xi_1), _xi_1), _xi_1, n_11) + x_22*Subs(Derivative(sigma(_xi_1), _xi_1), _xi_1, n_21) + x_32*Subs(Derivative(sigma(_xi_1), _xi_1), _xi_1, n_31), x_12*Subs(Derivative(sigma(_xi_1), _xi_1), _xi_1, n_12) + x_22*Subs(Derivative(sigma(_xi_1), _xi_1), _xi_1, n_22) + x_32*Subs(Derivative(sigma(_xi_1), _xi_1), _xi_1, n_32)],\n",
       "[x_13*Subs(Derivative(sigma(_xi_1), _xi_1), _xi_1, n_11) + x_23*Subs(Derivative(sigma(_xi_1), _xi_1), _xi_1, n_21) + x_33*Subs(Derivative(sigma(_xi_1), _xi_1), _xi_1, n_31), x_13*Subs(Derivative(sigma(_xi_1), _xi_1), _xi_1, n_12) + x_23*Subs(Derivative(sigma(_xi_1), _xi_1), _xi_1, n_22) + x_33*Subs(Derivative(sigma(_xi_1), _xi_1), _xi_1, n_32)]])"
      ]
     },
     "execution_count": 1,
     "metadata": {},
     "output_type": "execute_result"
    }
   ],
   "source": [
    "L.replace(n, vN).replace(sigmaApply, sigmaApply_).replace(lambd, lambd_).subs(elemToSpecD).diff(W).subs(specToElemD)"
   ]
  },
  {
   "cell_type": "code",
   "execution_count": 103,
   "metadata": {
    "lines_to_next_cell": 0,
    "title": "codecell"
   },
   "outputs": [],
   "source": []
  },
  {
   "cell_type": "code",
   "execution_count": 103,
   "metadata": {
    "lines_to_next_cell": 0,
    "title": "codecell"
   },
   "outputs": [],
   "source": []
  },
  {
   "cell_type": "code",
   "execution_count": 103,
   "metadata": {
    "lines_to_next_cell": 0,
    "title": "codecell"
   },
   "outputs": [],
   "source": []
  },
  {
   "cell_type": "code",
   "execution_count": 103,
   "metadata": {
    "lines_to_next_cell": 0,
    "title": "codecell"
   },
   "outputs": [],
   "source": []
  },
  {
   "cell_type": "markdown",
   "execution_count": 103,
   "metadata": {
    "lines_to_next_cell": 0,
    "title": "markdown"
   },
   "source": [
    "### NEXT: try to substitute the X, W matrices step by step to see if you can come to the same result as the direct forms above (from method 2 or 1)"
   ]
  },
  {
   "cell_type": "code",
   "execution_count": 103,
   "metadata": {
    "execution": {
     "iopub.execute_input": "2020-09-21T06:33:56.763704Z",
     "iopub.status.busy": "2020-09-21T06:33:56.762798Z",
     "iopub.status.idle": "2020-09-21T06:33:57.058639Z",
     "shell.execute_reply": "2020-09-21T06:33:57.059767Z"
    },
    "lines_to_next_cell": 0,
    "title": "codecell"
   },
   "outputs": [
    {
     "data": {
      "text/latex": [
       "$\\displaystyle \\left. \\frac{d}{d \\xi_{1}} \\lambda{\\left(\\xi_{1} \\right)} \\right|_{\\substack{ \\xi_{1}={\\left( d \\mapsto \\sigma{\\left(d \\right)} \\right)}_{\\circ}\\left({\\left[\\begin{matrix}x_{11} & x_{12} & x_{13}\\\\x_{21} & x_{22} & x_{23}\\\\x_{31} & x_{32} & x_{33}\\end{matrix}\\right] \\left[\\begin{matrix}w_{11} & w_{12}\\\\w_{21} & w_{22}\\\\w_{31} & w_{32}\\end{matrix}\\right]}\\right) }} \\left(\\left[\\begin{matrix}x_{11} & x_{12} & x_{13}\\\\x_{21} & x_{22} & x_{23}\\\\x_{31} & x_{32} & x_{33}\\end{matrix}\\right]\\right)^{T} {\\left( d \\mapsto \\frac{d}{d d} \\sigma{\\left(d \\right)} \\right)}_{\\circ}\\left({\\left[\\begin{matrix}x_{11} & x_{12} & x_{13}\\\\x_{21} & x_{22} & x_{23}\\\\x_{31} & x_{32} & x_{33}\\end{matrix}\\right] \\left[\\begin{matrix}w_{11} & w_{12}\\\\w_{21} & w_{22}\\\\w_{31} & w_{32}\\end{matrix}\\right]}\\right)$"
      ],
      "text/plain": [
       "Subs(Derivative(lambda(_xi_1), _xi_1), _xi_1, Lambda(_d, sigma(_d)).(Matrix([\n",
       "[x_11, x_12, x_13],\n",
       "[x_21, x_22, x_23],\n",
       "[x_31, x_32, x_33]])*Matrix([\n",
       "[w_11, w_12],\n",
       "[w_21, w_22],\n",
       "[w_31, w_32]])))*Matrix([\n",
       "[x_11, x_12, x_13],\n",
       "[x_21, x_22, x_23],\n",
       "[x_31, x_32, x_33]]).T*Lambda(_d, Derivative(sigma(_d), _d)).(Matrix([\n",
       "[x_11, x_12, x_13],\n",
       "[x_21, x_22, x_23],\n",
       "[x_31, x_32, x_33]])*Matrix([\n",
       "[w_11, w_12],\n",
       "[w_21, w_22],\n",
       "[w_31, w_32]]))"
      ]
     },
     "execution_count": 1,
     "metadata": {},
     "output_type": "execute_result"
    }
   ],
   "source": [
    "from sympy import simplify, expand\n",
    "\n",
    "#simplify(L.replace(n,vL).replace(sigmaApply, sigmaApply_).diff(B).subs({A:X, B:W})) ### ERROR max recursion depth exceeded\n",
    "L.replace(n,vL).replace(sigmaApply, sigmaApply_).diff(B).subs({A:X, B:W})"
   ]
  },
  {
   "cell_type": "code",
   "execution_count": 104,
   "metadata": {
    "execution": {
     "iopub.execute_input": "2020-09-21T06:33:57.064882Z",
     "iopub.status.busy": "2020-09-21T06:33:57.063199Z",
     "iopub.status.idle": "2020-09-21T06:33:57.162795Z",
     "shell.execute_reply": "2020-09-21T06:33:57.163969Z"
    },
    "lines_to_next_cell": 2,
    "title": "codecell"
   },
   "outputs": [
    {
     "data": {
      "text/latex": [
       "$\\displaystyle \\left. \\frac{d}{d \\xi_{1}} \\lambda{\\left(\\xi_{1} \\right)} \\right|_{\\substack{ \\xi_{1}={\\left( d \\mapsto \\sigma{\\left(d \\right)} \\right)}_{\\circ}\\left({X W}\\right) }} X^{T} {\\left( d \\mapsto \\frac{d}{d d} \\sigma{\\left(d \\right)} \\right)}_{\\circ}\\left({X W}\\right)$"
      ],
      "text/plain": [
       "Subs(Derivative(lambda(_xi_1), _xi_1), _xi_1, Lambda(_d, sigma(_d)).(X*W))*X.T*Lambda(_d, Derivative(sigma(_d), _d)).(X*W)"
      ]
     },
     "execution_count": 1,
     "metadata": {},
     "output_type": "execute_result"
    }
   ],
   "source": [
    "L.replace(n,v).replace(sigmaApply, sigmaApply_).diff(B)#.subs({A:X, B:W})"
   ]
  },
  {
   "cell_type": "code",
   "execution_count": 105,
   "metadata": {
    "execution": {
     "iopub.execute_input": "2020-09-21T06:33:57.171001Z",
     "iopub.status.busy": "2020-09-21T06:33:57.167421Z",
     "iopub.status.idle": "2020-09-21T06:33:57.306887Z",
     "shell.execute_reply": "2020-09-21T06:33:57.313905Z"
    },
    "lines_to_next_cell": 0,
    "title": "codecell"
   },
   "outputs": [
    {
     "data": {
      "text/latex": [
       "$\\displaystyle \\left. \\frac{d}{d \\xi_{1}} \\lambda{\\left(\\xi_{1} \\right)} \\right|_{\\substack{ \\xi_{1}={\\left( d \\mapsto \\sigma{\\left(d \\right)} \\right)}_{\\circ}\\left({X W}\\right) }} X^{T} {\\left( d \\mapsto \\frac{d}{d d} \\sigma{\\left(d \\right)} \\right)}_{\\circ}\\left({X W}\\right)$"
      ],
      "text/plain": [
       "Subs(Derivative(lambda(_xi_1), _xi_1), _xi_1, Lambda(_d, sigma(_d)).(X*W))*X.T*Lambda(_d, Derivative(sigma(_d), _d)).(X*W)"
      ]
     },
     "execution_count": 1,
     "metadata": {},
     "output_type": "execute_result"
    }
   ],
   "source": [
    "L.replace(n,v).replace(sigmaApply, sigmaApply_).diff(B)"
   ]
  },
  {
   "cell_type": "code",
   "execution_count": 106,
   "metadata": {
    "execution": {
     "iopub.execute_input": "2020-09-21T06:33:57.322996Z",
     "iopub.status.busy": "2020-09-21T06:33:57.321425Z",
     "iopub.status.idle": "2020-09-21T06:33:57.327159Z",
     "shell.execute_reply": "2020-09-21T06:33:57.333924Z"
    },
    "title": "codecell"
   },
   "outputs": [],
   "source": [
    "#L.replace(n,v).replace(sigmaApply, sigmaApply_).replace(lambd, lambd_)"
   ]
  },
  {
   "cell_type": "code",
   "execution_count": 107,
   "metadata": {
    "execution": {
     "iopub.execute_input": "2020-09-21T06:33:57.342063Z",
     "iopub.status.busy": "2020-09-21T06:33:57.337465Z",
     "iopub.status.idle": "2020-09-21T06:33:57.475430Z",
     "shell.execute_reply": "2020-09-21T06:33:57.483659Z"
    },
    "lines_to_next_cell": 0,
    "title": "codecell"
   },
   "outputs": [
    {
     "data": {
      "text/latex": [
       "$\\displaystyle \\left. \\frac{d}{d \\xi_{1}} \\sigma_{apply}{\\left(\\xi_{1} \\right)} \\right|_{\\substack{ \\xi_{1}=X W }} \\frac{\\partial}{\\partial \\sigma_{apply}{\\left(X W \\right)}} \\lambda{\\left(\\sigma_{apply}{\\left(X W \\right)} \\right)} \\frac{\\partial}{\\partial X} X W$"
      ],
      "text/plain": [
       "Subs(Derivative(sigma_apply(_xi_1), _xi_1), _xi_1, X*W)*Derivative(lambda(sigma_apply(X*W)), sigma_apply(X*W))*Derivative(X*W, X)"
      ]
     },
     "execution_count": 1,
     "metadata": {},
     "output_type": "execute_result"
    }
   ],
   "source": [
    "#L.replace(n,v).replace(sigmaApply, sigmaApply_).diff(B).subs({A:X, B:W}).replace(lambd, lambd_) ### ERROR dummy object not iterable\n",
    "L.replace(n,v).diff(A)"
   ]
  },
  {
   "cell_type": "code",
   "execution_count": 108,
   "metadata": {
    "execution": {
     "iopub.execute_input": "2020-09-21T06:33:57.490446Z",
     "iopub.status.busy": "2020-09-21T06:33:57.487258Z",
     "iopub.status.idle": "2020-09-21T06:33:57.520184Z",
     "shell.execute_reply": "2020-09-21T06:33:57.522355Z"
    },
    "lines_to_next_cell": 0,
    "title": "codecell"
   },
   "outputs": [
    {
     "data": {
      "text/latex": [
       "$\\displaystyle \\lambda{\\left(\\sigma_{apply}{\\left(v{\\left(X^{T},W^{T} \\right)} \\right)} \\right)}$"
      ],
      "text/plain": [
       "lambda(sigma_apply(v(X.T, W.T)))"
      ]
     },
     "execution_count": 1,
     "metadata": {},
     "output_type": "execute_result"
    }
   ],
   "source": [
    "#L.replace(n,v).replace(sigmaApply, sigmaApply_).diff(A).replace(A,Matrix(A))##ERROR noncommutative matrix scalars\n",
    "# WANT: to be able to do diff and have the expression come out as above with X^T on left and W^T on right, when using just this form, with abstract form v:\n",
    "L.replace(A,A.T).replace(B,B.T)"
   ]
  },
  {
   "cell_type": "code",
   "execution_count": 109,
   "metadata": {
    "execution": {
     "iopub.execute_input": "2020-09-21T06:33:57.531617Z",
     "iopub.status.busy": "2020-09-21T06:33:57.529874Z",
     "iopub.status.idle": "2020-09-21T06:33:57.550229Z",
     "shell.execute_reply": "2020-09-21T06:33:57.551401Z"
    },
    "title": "codecell"
   },
   "outputs": [],
   "source": [
    "# Error if applying sigma to the v function because it sais v has no attribute applyfunc to trying now to making it have the attriute applyfunc.\n",
    "y = Function('y', applyfunc=True, real=True)\n",
    "\n"
   ]
  },
  {
   "cell_type": "code",
   "execution_count": 110,
   "metadata": {
    "execution": {
     "iopub.execute_input": "2020-09-21T06:33:57.565713Z",
     "iopub.status.busy": "2020-09-21T06:33:57.554974Z",
     "iopub.status.idle": "2020-09-21T06:33:57.578183Z",
     "shell.execute_reply": "2020-09-21T06:33:57.582152Z"
    },
    "lines_to_next_cell": 0,
    "title": "codecell"
   },
   "outputs": [
    {
     "data": {
      "text/latex": [
       "$\\displaystyle \\lambda{\\left(\\sigma_{apply}{\\left(y{\\left(X,W \\right)} \\right)} \\right)}$"
      ],
      "text/plain": [
       "lambda(sigma_apply(y(X, W)))"
      ]
     },
     "execution_count": 1,
     "metadata": {},
     "output_type": "execute_result"
    }
   ],
   "source": [
    "Ly = lambd(sigmaApply(y(A,B)))\n",
    "Ly"
   ]
  },
  {
   "cell_type": "code",
   "execution_count": 111,
   "metadata": {
    "execution": {
     "iopub.execute_input": "2020-09-21T06:33:57.590642Z",
     "iopub.status.busy": "2020-09-21T06:33:57.586612Z",
     "iopub.status.idle": "2020-09-21T06:33:57.620994Z",
     "shell.execute_reply": "2020-09-21T06:33:57.622596Z"
    },
    "lines_to_next_cell": 0,
    "title": "codecell"
   },
   "outputs": [
    {
     "data": {
      "text/latex": [
       "$\\displaystyle \\lambda{\\left(\\sigma_{apply}{\\left(y{\\left(X^{T},W^{T} \\right)} \\right)} \\right)}$"
      ],
      "text/plain": [
       "lambda(sigma_apply(y(X.T, W.T)))"
      ]
     },
     "execution_count": 1,
     "metadata": {},
     "output_type": "execute_result"
    }
   ],
   "source": [
    "\n",
    "Ly.replace(A,A.T).replace(B,B.T)#.replace(sigmaApply, sigmaApply_)"
   ]
  },
  {
   "cell_type": "code",
   "execution_count": 112,
   "metadata": {
    "execution": {
     "iopub.execute_input": "2020-09-21T06:33:57.633974Z",
     "iopub.status.busy": "2020-09-21T06:33:57.627882Z",
     "iopub.status.idle": "2020-09-21T06:33:57.667089Z",
     "shell.execute_reply": "2020-09-21T06:33:57.668248Z"
    },
    "title": "codecell"
   },
   "outputs": [
    {
     "data": {
      "text/latex": [
       "$\\displaystyle \\lambda{\\left(\\sigma_{apply}{\\left(y{\\left(X^{T},W^{T} \\right)} \\right)} \\right)}$"
      ],
      "text/plain": [
       "lambda(sigma_apply(y(X.T, W.T)))"
      ]
     },
     "execution_count": 1,
     "metadata": {},
     "output_type": "execute_result"
    }
   ],
   "source": [
    "# TODO next step: to apply the sigma to get that applied functor expression but here get error saying bol object not callable ...??\n",
    "Ly.replace(A,A.T).replace(B,B.T)#.replace(sigmaApply, sigmaApply_)"
   ]
  },
  {
   "cell_type": "code",
   "execution_count": 113,
   "metadata": {
    "execution": {
     "iopub.execute_input": "2020-09-21T06:33:57.675541Z",
     "iopub.status.busy": "2020-09-21T06:33:57.673464Z",
     "iopub.status.idle": "2020-09-21T06:33:57.688232Z",
     "shell.execute_reply": "2020-09-21T06:33:57.689727Z"
    },
    "lines_to_next_cell": 0,
    "title": "codecell"
   },
   "outputs": [],
   "source": [
    "# TODO always get fatal python error here, as if it can't deal with two matrix args!!\n",
    "#Ly.replace(A,A.T).replace(B,B.T).diff(A)\n",
    "\n",
    "#siga2 = Lambda(a, siga(a))"
   ]
  },
  {
   "cell_type": "code",
   "execution_count": 114,
   "metadata": {
    "execution": {
     "iopub.execute_input": "2020-09-21T06:33:57.696144Z",
     "iopub.status.busy": "2020-09-21T06:33:57.695238Z",
     "iopub.status.idle": "2020-09-21T06:33:57.800707Z",
     "shell.execute_reply": "2020-09-21T06:33:57.801847Z"
    },
    "lines_to_next_cell": 0,
    "title": "codecell"
   },
   "outputs": [
    {
     "data": {
      "text/latex": [
       "$\\displaystyle \\frac{\\partial}{\\partial \\sigma_{apply}{\\left(y{\\left(X^{T},b \\right)} \\right)}} \\lambda{\\left(\\sigma_{apply}{\\left(y{\\left(X^{T},b \\right)} \\right)} \\right)} \\frac{\\partial}{\\partial y{\\left(X^{T},b \\right)}} \\sigma_{apply}{\\left(y{\\left(X^{T},b \\right)} \\right)} \\left(\\frac{\\partial}{\\partial b} y{\\left(X^{T},b \\right)} + \\mathbb{0}\\right)$"
      ],
      "text/plain": [
       "Derivative(lambda(sigma_apply(y(X.T, b))), sigma_apply(y(X.T, b)))*Derivative(sigma_apply(y(X.T, b)), y(X.T, b))*(Derivative(y(X.T, b), b) + 0)"
      ]
     },
     "execution_count": 1,
     "metadata": {},
     "output_type": "execute_result"
    }
   ],
   "source": [
    "Ly.replace(A, A.T).replace(B, b).diff(b)#.replace(sigmaApply, siga)"
   ]
  },
  {
   "cell_type": "code",
   "execution_count": 115,
   "metadata": {
    "execution": {
     "iopub.execute_input": "2020-09-21T06:33:57.817555Z",
     "iopub.status.busy": "2020-09-21T06:33:57.812826Z",
     "iopub.status.idle": "2020-09-21T06:33:57.932672Z",
     "shell.execute_reply": "2020-09-21T06:33:57.940665Z"
    },
    "lines_to_next_cell": 0,
    "title": "codecell"
   },
   "outputs": [
    {
     "data": {
      "text/latex": [
       "$\\displaystyle \\lambda{\\left(\\left[\\begin{matrix}\\sigma{\\left(\\operatorname{n_{11}}{\\left(X,W \\right)} \\right)} & \\sigma{\\left(\\operatorname{n_{12}}{\\left(X,W \\right)} \\right)}\\\\\\sigma{\\left(\\operatorname{n_{21}}{\\left(X,W \\right)} \\right)} & \\sigma{\\left(\\operatorname{n_{22}}{\\left(X,W \\right)} \\right)}\\\\\\sigma{\\left(\\operatorname{n_{31}}{\\left(X,W \\right)} \\right)} & \\sigma{\\left(\\operatorname{n_{32}}{\\left(X,W \\right)} \\right)}\\end{matrix}\\right] \\right)}$"
      ],
      "text/plain": [
       "lambda(Matrix([\n",
       "[sigma(n_11(X, W)), sigma(n_12(X, W))],\n",
       "[sigma(n_21(X, W)), sigma(n_22(X, W))],\n",
       "[sigma(n_31(X, W)), sigma(n_32(X, W))]]))"
      ]
     },
     "execution_count": 1,
     "metadata": {},
     "output_type": "execute_result"
    }
   ],
   "source": [
    "L.replace(n, vN).replace(sigmaApply, sigmaApply_).subs(elemToMatArgD)"
   ]
  },
  {
   "cell_type": "code",
   "execution_count": 116,
   "metadata": {
    "execution": {
     "iopub.execute_input": "2020-09-21T06:33:57.952452Z",
     "iopub.status.busy": "2020-09-21T06:33:57.949519Z",
     "iopub.status.idle": "2020-09-21T06:33:58.471497Z",
     "shell.execute_reply": "2020-09-21T06:33:58.476269Z"
    },
    "lines_to_next_cell": 0,
    "title": "codecell"
   },
   "outputs": [
    {
     "data": {
      "text/latex": [
       "$\\displaystyle \\left[\\begin{matrix}\\left[\\begin{matrix}\\frac{\\partial}{\\partial \\operatorname{n_{11}}{\\left(X,W \\right)}} \\sigma{\\left(\\operatorname{n_{11}}{\\left(X,W \\right)} \\right)} \\frac{\\partial}{\\partial \\left[\\begin{matrix}\\sigma{\\left(\\operatorname{n_{11}}{\\left(X,W \\right)} \\right)} & \\sigma{\\left(\\operatorname{n_{12}}{\\left(X,W \\right)} \\right)}\\\\\\sigma{\\left(\\operatorname{n_{21}}{\\left(X,W \\right)} \\right)} & \\sigma{\\left(\\operatorname{n_{22}}{\\left(X,W \\right)} \\right)}\\\\\\sigma{\\left(\\operatorname{n_{31}}{\\left(X,W \\right)} \\right)} & \\sigma{\\left(\\operatorname{n_{32}}{\\left(X,W \\right)} \\right)}\\end{matrix}\\right]} \\lambda{\\left(\\left[\\begin{matrix}\\sigma{\\left(\\operatorname{n_{11}}{\\left(X,W \\right)} \\right)} & \\sigma{\\left(\\operatorname{n_{12}}{\\left(X,W \\right)} \\right)}\\\\\\sigma{\\left(\\operatorname{n_{21}}{\\left(X,W \\right)} \\right)} & \\sigma{\\left(\\operatorname{n_{22}}{\\left(X,W \\right)} \\right)}\\\\\\sigma{\\left(\\operatorname{n_{31}}{\\left(X,W \\right)} \\right)} & \\sigma{\\left(\\operatorname{n_{32}}{\\left(X,W \\right)} \\right)}\\end{matrix}\\right] \\right)} & 0\\\\0 & 0\\\\0 & 0\\end{matrix}\\right] & \\left[\\begin{matrix}0 & \\frac{\\partial}{\\partial \\operatorname{n_{12}}{\\left(X,W \\right)}} \\sigma{\\left(\\operatorname{n_{12}}{\\left(X,W \\right)} \\right)} \\frac{\\partial}{\\partial \\left[\\begin{matrix}\\sigma{\\left(\\operatorname{n_{11}}{\\left(X,W \\right)} \\right)} & \\sigma{\\left(\\operatorname{n_{12}}{\\left(X,W \\right)} \\right)}\\\\\\sigma{\\left(\\operatorname{n_{21}}{\\left(X,W \\right)} \\right)} & \\sigma{\\left(\\operatorname{n_{22}}{\\left(X,W \\right)} \\right)}\\\\\\sigma{\\left(\\operatorname{n_{31}}{\\left(X,W \\right)} \\right)} & \\sigma{\\left(\\operatorname{n_{32}}{\\left(X,W \\right)} \\right)}\\end{matrix}\\right]} \\lambda{\\left(\\left[\\begin{matrix}\\sigma{\\left(\\operatorname{n_{11}}{\\left(X,W \\right)} \\right)} & \\sigma{\\left(\\operatorname{n_{12}}{\\left(X,W \\right)} \\right)}\\\\\\sigma{\\left(\\operatorname{n_{21}}{\\left(X,W \\right)} \\right)} & \\sigma{\\left(\\operatorname{n_{22}}{\\left(X,W \\right)} \\right)}\\\\\\sigma{\\left(\\operatorname{n_{31}}{\\left(X,W \\right)} \\right)} & \\sigma{\\left(\\operatorname{n_{32}}{\\left(X,W \\right)} \\right)}\\end{matrix}\\right] \\right)}\\\\0 & 0\\\\0 & 0\\end{matrix}\\right]\\\\\\left[\\begin{matrix}0 & 0\\\\\\frac{\\partial}{\\partial \\operatorname{n_{21}}{\\left(X,W \\right)}} \\sigma{\\left(\\operatorname{n_{21}}{\\left(X,W \\right)} \\right)} \\frac{\\partial}{\\partial \\left[\\begin{matrix}\\sigma{\\left(\\operatorname{n_{11}}{\\left(X,W \\right)} \\right)} & \\sigma{\\left(\\operatorname{n_{12}}{\\left(X,W \\right)} \\right)}\\\\\\sigma{\\left(\\operatorname{n_{21}}{\\left(X,W \\right)} \\right)} & \\sigma{\\left(\\operatorname{n_{22}}{\\left(X,W \\right)} \\right)}\\\\\\sigma{\\left(\\operatorname{n_{31}}{\\left(X,W \\right)} \\right)} & \\sigma{\\left(\\operatorname{n_{32}}{\\left(X,W \\right)} \\right)}\\end{matrix}\\right]} \\lambda{\\left(\\left[\\begin{matrix}\\sigma{\\left(\\operatorname{n_{11}}{\\left(X,W \\right)} \\right)} & \\sigma{\\left(\\operatorname{n_{12}}{\\left(X,W \\right)} \\right)}\\\\\\sigma{\\left(\\operatorname{n_{21}}{\\left(X,W \\right)} \\right)} & \\sigma{\\left(\\operatorname{n_{22}}{\\left(X,W \\right)} \\right)}\\\\\\sigma{\\left(\\operatorname{n_{31}}{\\left(X,W \\right)} \\right)} & \\sigma{\\left(\\operatorname{n_{32}}{\\left(X,W \\right)} \\right)}\\end{matrix}\\right] \\right)} & 0\\\\0 & 0\\end{matrix}\\right] & \\left[\\begin{matrix}0 & 0\\\\0 & \\frac{\\partial}{\\partial \\operatorname{n_{22}}{\\left(X,W \\right)}} \\sigma{\\left(\\operatorname{n_{22}}{\\left(X,W \\right)} \\right)} \\frac{\\partial}{\\partial \\left[\\begin{matrix}\\sigma{\\left(\\operatorname{n_{11}}{\\left(X,W \\right)} \\right)} & \\sigma{\\left(\\operatorname{n_{12}}{\\left(X,W \\right)} \\right)}\\\\\\sigma{\\left(\\operatorname{n_{21}}{\\left(X,W \\right)} \\right)} & \\sigma{\\left(\\operatorname{n_{22}}{\\left(X,W \\right)} \\right)}\\\\\\sigma{\\left(\\operatorname{n_{31}}{\\left(X,W \\right)} \\right)} & \\sigma{\\left(\\operatorname{n_{32}}{\\left(X,W \\right)} \\right)}\\end{matrix}\\right]} \\lambda{\\left(\\left[\\begin{matrix}\\sigma{\\left(\\operatorname{n_{11}}{\\left(X,W \\right)} \\right)} & \\sigma{\\left(\\operatorname{n_{12}}{\\left(X,W \\right)} \\right)}\\\\\\sigma{\\left(\\operatorname{n_{21}}{\\left(X,W \\right)} \\right)} & \\sigma{\\left(\\operatorname{n_{22}}{\\left(X,W \\right)} \\right)}\\\\\\sigma{\\left(\\operatorname{n_{31}}{\\left(X,W \\right)} \\right)} & \\sigma{\\left(\\operatorname{n_{32}}{\\left(X,W \\right)} \\right)}\\end{matrix}\\right] \\right)}\\\\0 & 0\\end{matrix}\\right]\\\\\\left[\\begin{matrix}0 & 0\\\\0 & 0\\\\\\frac{\\partial}{\\partial \\operatorname{n_{31}}{\\left(X,W \\right)}} \\sigma{\\left(\\operatorname{n_{31}}{\\left(X,W \\right)} \\right)} \\frac{\\partial}{\\partial \\left[\\begin{matrix}\\sigma{\\left(\\operatorname{n_{11}}{\\left(X,W \\right)} \\right)} & \\sigma{\\left(\\operatorname{n_{12}}{\\left(X,W \\right)} \\right)}\\\\\\sigma{\\left(\\operatorname{n_{21}}{\\left(X,W \\right)} \\right)} & \\sigma{\\left(\\operatorname{n_{22}}{\\left(X,W \\right)} \\right)}\\\\\\sigma{\\left(\\operatorname{n_{31}}{\\left(X,W \\right)} \\right)} & \\sigma{\\left(\\operatorname{n_{32}}{\\left(X,W \\right)} \\right)}\\end{matrix}\\right]} \\lambda{\\left(\\left[\\begin{matrix}\\sigma{\\left(\\operatorname{n_{11}}{\\left(X,W \\right)} \\right)} & \\sigma{\\left(\\operatorname{n_{12}}{\\left(X,W \\right)} \\right)}\\\\\\sigma{\\left(\\operatorname{n_{21}}{\\left(X,W \\right)} \\right)} & \\sigma{\\left(\\operatorname{n_{22}}{\\left(X,W \\right)} \\right)}\\\\\\sigma{\\left(\\operatorname{n_{31}}{\\left(X,W \\right)} \\right)} & \\sigma{\\left(\\operatorname{n_{32}}{\\left(X,W \\right)} \\right)}\\end{matrix}\\right] \\right)} & 0\\end{matrix}\\right] & \\left[\\begin{matrix}0 & 0\\\\0 & 0\\\\0 & \\frac{\\partial}{\\partial \\operatorname{n_{32}}{\\left(X,W \\right)}} \\sigma{\\left(\\operatorname{n_{32}}{\\left(X,W \\right)} \\right)} \\frac{\\partial}{\\partial \\left[\\begin{matrix}\\sigma{\\left(\\operatorname{n_{11}}{\\left(X,W \\right)} \\right)} & \\sigma{\\left(\\operatorname{n_{12}}{\\left(X,W \\right)} \\right)}\\\\\\sigma{\\left(\\operatorname{n_{21}}{\\left(X,W \\right)} \\right)} & \\sigma{\\left(\\operatorname{n_{22}}{\\left(X,W \\right)} \\right)}\\\\\\sigma{\\left(\\operatorname{n_{31}}{\\left(X,W \\right)} \\right)} & \\sigma{\\left(\\operatorname{n_{32}}{\\left(X,W \\right)} \\right)}\\end{matrix}\\right]} \\lambda{\\left(\\left[\\begin{matrix}\\sigma{\\left(\\operatorname{n_{11}}{\\left(X,W \\right)} \\right)} & \\sigma{\\left(\\operatorname{n_{12}}{\\left(X,W \\right)} \\right)}\\\\\\sigma{\\left(\\operatorname{n_{21}}{\\left(X,W \\right)} \\right)} & \\sigma{\\left(\\operatorname{n_{22}}{\\left(X,W \\right)} \\right)}\\\\\\sigma{\\left(\\operatorname{n_{31}}{\\left(X,W \\right)} \\right)} & \\sigma{\\left(\\operatorname{n_{32}}{\\left(X,W \\right)} \\right)}\\end{matrix}\\right] \\right)}\\end{matrix}\\right]\\end{matrix}\\right]$"
      ],
      "text/plain": [
       "Matrix([\n",
       "[Matrix([\n",
       "[Derivative(sigma(n_11(X, W)), n_11(X, W))*Derivative(lambda(Matrix([\n",
       "[sigma(n_11(X, W)), sigma(n_12(X, W))],\n",
       "[sigma(n_21(X, W)), sigma(n_22(X, W))],\n",
       "[sigma(n_31(X, W)), sigma(n_32(X, W))]])), Matrix([\n",
       "[sigma(n_11(X, W)), sigma(n_12(X, W))],\n",
       "[sigma(n_21(X, W)), sigma(n_22(X, W))],\n",
       "[sigma(n_31(X, W)), sigma(n_32(X, W))]])), 0],\n",
       "[                                                                                                                                                                                                                                                                                                                                 0, 0],\n",
       "[                                                                                                                                                                                                                                                                                                                                 0, 0]]), Matrix([\n",
       "[0, Derivative(sigma(n_12(X, W)), n_12(X, W))*Derivative(lambda(Matrix([\n",
       "[sigma(n_11(X, W)), sigma(n_12(X, W))],\n",
       "[sigma(n_21(X, W)), sigma(n_22(X, W))],\n",
       "[sigma(n_31(X, W)), sigma(n_32(X, W))]])), Matrix([\n",
       "[sigma(n_11(X, W)), sigma(n_12(X, W))],\n",
       "[sigma(n_21(X, W)), sigma(n_22(X, W))],\n",
       "[sigma(n_31(X, W)), sigma(n_32(X, W))]]))],\n",
       "[0,                                                                                                                                                                                                                                                                                                                                  0],\n",
       "[0,                                                                                                                                                                                                                                                                                                                                  0]])],\n",
       "[Matrix([\n",
       "[                                                                                                                                                                                                                                                                                                                                 0, 0],\n",
       "[Derivative(sigma(n_21(X, W)), n_21(X, W))*Derivative(lambda(Matrix([\n",
       "[sigma(n_11(X, W)), sigma(n_12(X, W))],\n",
       "[sigma(n_21(X, W)), sigma(n_22(X, W))],\n",
       "[sigma(n_31(X, W)), sigma(n_32(X, W))]])), Matrix([\n",
       "[sigma(n_11(X, W)), sigma(n_12(X, W))],\n",
       "[sigma(n_21(X, W)), sigma(n_22(X, W))],\n",
       "[sigma(n_31(X, W)), sigma(n_32(X, W))]])), 0],\n",
       "[                                                                                                                                                                                                                                                                                                                                 0, 0]]), Matrix([\n",
       "[0,                                                                                                                                                                                                                                                                                                                                  0],\n",
       "[0, Derivative(sigma(n_22(X, W)), n_22(X, W))*Derivative(lambda(Matrix([\n",
       "[sigma(n_11(X, W)), sigma(n_12(X, W))],\n",
       "[sigma(n_21(X, W)), sigma(n_22(X, W))],\n",
       "[sigma(n_31(X, W)), sigma(n_32(X, W))]])), Matrix([\n",
       "[sigma(n_11(X, W)), sigma(n_12(X, W))],\n",
       "[sigma(n_21(X, W)), sigma(n_22(X, W))],\n",
       "[sigma(n_31(X, W)), sigma(n_32(X, W))]]))],\n",
       "[0,                                                                                                                                                                                                                                                                                                                                  0]])],\n",
       "[Matrix([\n",
       "[                                                                                                                                                                                                                                                                                                                                 0, 0],\n",
       "[                                                                                                                                                                                                                                                                                                                                 0, 0],\n",
       "[Derivative(sigma(n_31(X, W)), n_31(X, W))*Derivative(lambda(Matrix([\n",
       "[sigma(n_11(X, W)), sigma(n_12(X, W))],\n",
       "[sigma(n_21(X, W)), sigma(n_22(X, W))],\n",
       "[sigma(n_31(X, W)), sigma(n_32(X, W))]])), Matrix([\n",
       "[sigma(n_11(X, W)), sigma(n_12(X, W))],\n",
       "[sigma(n_21(X, W)), sigma(n_22(X, W))],\n",
       "[sigma(n_31(X, W)), sigma(n_32(X, W))]])), 0]]), Matrix([\n",
       "[0,                                                                                                                                                                                                                                                                                                                                  0],\n",
       "[0,                                                                                                                                                                                                                                                                                                                                  0],\n",
       "[0, Derivative(sigma(n_32(X, W)), n_32(X, W))*Derivative(lambda(Matrix([\n",
       "[sigma(n_11(X, W)), sigma(n_12(X, W))],\n",
       "[sigma(n_21(X, W)), sigma(n_22(X, W))],\n",
       "[sigma(n_31(X, W)), sigma(n_32(X, W))]])), Matrix([\n",
       "[sigma(n_11(X, W)), sigma(n_12(X, W))],\n",
       "[sigma(n_21(X, W)), sigma(n_22(X, W))],\n",
       "[sigma(n_31(X, W)), sigma(n_32(X, W))]]))]])]])"
      ]
     },
     "execution_count": 1,
     "metadata": {},
     "output_type": "execute_result"
    }
   ],
   "source": [
    "#L.replace(n, vN).replace(sigmaApply, sigmaApply_).subs(elemToMatArgD).diff(A)## ERROR: max recursion depth eceeded\n",
    "\n",
    "L.replace(n, vN).replace(sigmaApply, sigmaApply_).subs(elemToMatArgD).diff(Matrix(3,2,list(elemToMatArgD.values())))"
   ]
  },
  {
   "cell_type": "code",
   "execution_count": 117,
   "metadata": {
    "execution": {
     "iopub.execute_input": "2020-09-21T06:33:58.485471Z",
     "iopub.status.busy": "2020-09-21T06:33:58.479765Z",
     "iopub.status.idle": "2020-09-21T06:33:58.500856Z",
     "shell.execute_reply": "2020-09-21T06:33:58.502324Z"
    },
    "lines_to_next_cell": 0,
    "title": "codecell"
   },
   "outputs": [
    {
     "data": {
      "text/latex": [
       "$\\displaystyle {\\left( d \\mapsto \\sigma{\\left(d \\right)} \\right)}_{\\circ}\\left({X}\\right)$"
      ],
      "text/plain": [
       "Lambda(_d, sigma(_d)).(X)"
      ]
     },
     "execution_count": 1,
     "metadata": {},
     "output_type": "execute_result"
    }
   ],
   "source": [
    "A.applyfunc(sigma)"
   ]
  },
  {
   "cell_type": "code",
   "execution_count": 118,
   "metadata": {
    "execution": {
     "iopub.execute_input": "2020-09-21T06:33:58.514017Z",
     "iopub.status.busy": "2020-09-21T06:33:58.506184Z",
     "iopub.status.idle": "2020-09-21T06:33:58.518305Z",
     "shell.execute_reply": "2020-09-21T06:33:58.519387Z"
    },
    "lines_to_next_cell": 0,
    "title": "codecell"
   },
   "outputs": [],
   "source": [
    "sigma = Function(\"sigma\", applyfunc=True, bool=False)"
   ]
  },
  {
   "cell_type": "code",
   "execution_count": 119,
   "metadata": {
    "execution": {
     "iopub.execute_input": "2020-09-21T06:33:58.531325Z",
     "iopub.status.busy": "2020-09-21T06:33:58.522907Z",
     "iopub.status.idle": "2020-09-21T06:33:58.545744Z",
     "shell.execute_reply": "2020-09-21T06:33:58.546891Z"
    },
    "lines_to_next_cell": 0,
    "title": "codecell"
   },
   "outputs": [
    {
     "data": {
      "text/plain": [
       "mappingproxy({'applyfunc': True,\n",
       "              'bool': False,\n",
       "              '_kwargs': {'applyfunc': True, 'bool': False},\n",
       "              '__module__': None,\n",
       "              '__doc__': None,\n",
       "              'name': 'sigma',\n",
       "              '_sage_': <sympy.core.function.UndefSageHelper at 0x7f65269b8b90>,\n",
       "              '_nargs': None,\n",
       "              '__sympy__': <property at 0x7f65253114d0>,\n",
       "              '_explicit_class_assumptions': {},\n",
       "              'default_assumptions': {},\n",
       "              '_prop_handler': {'negative': <function sympy.core.expr.Expr._eval_is_negative(self)>,\n",
       "               'extended_negative': <function sympy.core.expr.Expr._eval_is_extended_negative(self)>,\n",
       "               'commutative': <function sympy.core.function.Function._eval_is_commutative(self)>,\n",
       "               'positive': <function sympy.core.expr.Expr._eval_is_positive(self)>,\n",
       "               'extended_positive': <function sympy.core.expr.Expr._eval_is_extended_positive(self)>}})"
      ]
     },
     "execution_count": 1,
     "metadata": {},
     "output_type": "execute_result"
    }
   ],
   "source": [
    "sigma.__dict__"
   ]
  },
  {
   "cell_type": "code",
   "execution_count": 120,
   "metadata": {
    "execution": {
     "iopub.execute_input": "2020-09-21T06:33:58.556015Z",
     "iopub.status.busy": "2020-09-21T06:33:58.550398Z",
     "iopub.status.idle": "2020-09-21T06:33:58.571153Z",
     "shell.execute_reply": "2020-09-21T06:33:58.572327Z"
    },
    "lines_to_next_cell": 0,
    "title": "codecell"
   },
   "outputs": [
    {
     "data": {
      "text/latex": [
       "$\\displaystyle \\lambda{\\left(\\sigma_{apply}{\\left(y{\\left(X,W \\right)} \\right)} \\right)}$"
      ],
      "text/plain": [
       "lambda(sigma_apply(y(X, W)))"
      ]
     },
     "execution_count": 1,
     "metadata": {},
     "output_type": "execute_result"
    }
   ],
   "source": [
    "Ly = lambd(sigmaApply(y(A,B))); Ly"
   ]
  },
  {
   "cell_type": "code",
   "execution_count": 121,
   "metadata": {
    "execution": {
     "iopub.execute_input": "2020-09-21T06:33:58.585873Z",
     "iopub.status.busy": "2020-09-21T06:33:58.580372Z",
     "iopub.status.idle": "2020-09-21T06:33:58.631606Z",
     "shell.execute_reply": "2020-09-21T06:33:58.634316Z"
    },
    "lines_to_next_cell": 0,
    "title": "codecell"
   },
   "outputs": [
    {
     "data": {
      "text/latex": [
       "$\\displaystyle \\left[\\begin{matrix}\\sigma{\\left(w_{11} x_{11} + w_{21} x_{12} + w_{31} x_{13} \\right)} & \\sigma{\\left(w_{12} x_{11} + w_{22} x_{12} + w_{32} x_{13} \\right)}\\\\\\sigma{\\left(w_{11} x_{21} + w_{21} x_{22} + w_{31} x_{23} \\right)} & \\sigma{\\left(w_{12} x_{21} + w_{22} x_{22} + w_{32} x_{23} \\right)}\\\\\\sigma{\\left(w_{11} x_{31} + w_{21} x_{32} + w_{31} x_{33} \\right)} & \\sigma{\\left(w_{12} x_{31} + w_{22} x_{32} + w_{32} x_{33} \\right)}\\end{matrix}\\right]$"
      ],
      "text/plain": [
       "Matrix([\n",
       "[sigma(w_11*x_11 + w_21*x_12 + w_31*x_13), sigma(w_12*x_11 + w_22*x_12 + w_32*x_13)],\n",
       "[sigma(w_11*x_21 + w_21*x_22 + w_31*x_23), sigma(w_12*x_21 + w_22*x_22 + w_32*x_23)],\n",
       "[sigma(w_11*x_31 + w_21*x_32 + w_31*x_33), sigma(w_12*x_31 + w_22*x_32 + w_32*x_33)]])"
      ]
     },
     "execution_count": 1,
     "metadata": {},
     "output_type": "execute_result"
    }
   ],
   "source": [
    "(X*W).applyfunc(sigma)"
   ]
  },
  {
   "cell_type": "code",
   "execution_count": 122,
   "metadata": {
    "execution": {
     "iopub.execute_input": "2020-09-21T06:33:58.639587Z",
     "iopub.status.busy": "2020-09-21T06:33:58.637753Z",
     "iopub.status.idle": "2020-09-21T06:33:58.661679Z",
     "shell.execute_reply": "2020-09-21T06:33:58.662802Z"
    },
    "lines_to_next_cell": 0,
    "title": "codecell"
   },
   "outputs": [
    {
     "data": {
      "text/latex": [
       "$\\displaystyle {\\left( d \\mapsto \\sigma{\\left(d \\right)} \\right)}_{\\circ}\\left({X W}\\right)$"
      ],
      "text/plain": [
       "Lambda(_d, sigma(_d)).(X*W)"
      ]
     },
     "execution_count": 1,
     "metadata": {},
     "output_type": "execute_result"
    }
   ],
   "source": [
    "(A*B).applyfunc(sigma)"
   ]
  },
  {
   "cell_type": "code",
   "execution_count": 123,
   "metadata": {
    "execution": {
     "iopub.execute_input": "2020-09-21T06:33:58.669810Z",
     "iopub.status.busy": "2020-09-21T06:33:58.666336Z",
     "iopub.status.idle": "2020-09-21T06:33:58.691201Z",
     "shell.execute_reply": "2020-09-21T06:33:58.693902Z"
    },
    "lines_to_next_cell": 0,
    "title": "codecell"
   },
   "outputs": [
    {
     "data": {
      "text/latex": [
       "$\\displaystyle \\left[\\begin{matrix}\\sigma{\\left(X_{0, 0} \\right)} & \\sigma{\\left(X_{0, 1} \\right)} & \\sigma{\\left(X_{0, 2} \\right)}\\\\\\sigma{\\left(X_{1, 0} \\right)} & \\sigma{\\left(X_{1, 1} \\right)} & \\sigma{\\left(X_{1, 2} \\right)}\\\\\\sigma{\\left(X_{2, 0} \\right)} & \\sigma{\\left(X_{2, 1} \\right)} & \\sigma{\\left(X_{2, 2} \\right)}\\end{matrix}\\right]$"
      ],
      "text/plain": [
       "Matrix([\n",
       "[sigma(X[0, 0]), sigma(X[0, 1]), sigma(X[0, 2])],\n",
       "[sigma(X[1, 0]), sigma(X[1, 1]), sigma(X[1, 2])],\n",
       "[sigma(X[2, 0]), sigma(X[2, 1]), sigma(X[2, 2])]])"
      ]
     },
     "execution_count": 1,
     "metadata": {},
     "output_type": "execute_result"
    }
   ],
   "source": [
    "siga(A)\n",
    "#A.applyfunc(siga) ### ERROR dumy object has no attribute shape"
   ]
  },
  {
   "cell_type": "code",
   "execution_count": 124,
   "metadata": {
    "execution": {
     "iopub.execute_input": "2020-09-21T06:33:58.701301Z",
     "iopub.status.busy": "2020-09-21T06:33:58.697370Z",
     "iopub.status.idle": "2020-09-21T06:33:58.717810Z",
     "shell.execute_reply": "2020-09-21T06:33:58.722707Z"
    },
    "lines_to_next_cell": 0,
    "title": "codecell"
   },
   "outputs": [
    {
     "data": {
      "text/plain": [
       "(3, 3)"
      ]
     },
     "execution_count": 1,
     "metadata": {},
     "output_type": "execute_result"
    }
   ],
   "source": [
    "y = Function(\"y\", applyfunc = True, bool=False, shape=(3,3))\n",
    "y.shape"
   ]
  },
  {
   "cell_type": "code",
   "execution_count": 125,
   "metadata": {
    "execution": {
     "iopub.execute_input": "2020-09-21T06:33:58.734641Z",
     "iopub.status.busy": "2020-09-21T06:33:58.726668Z",
     "iopub.status.idle": "2020-09-21T06:33:58.742240Z",
     "shell.execute_reply": "2020-09-21T06:33:58.744133Z"
    },
    "lines_to_next_cell": 0,
    "title": "codecell"
   },
   "outputs": [],
   "source": [
    "# siga(y(A,B))### ERROR: function y is not subscriptable"
   ]
  },
  {
   "cell_type": "code",
   "execution_count": 126,
   "metadata": {
    "lines_to_next_cell": 0,
    "title": "codecell"
   },
   "outputs": [],
   "source": []
  },
  {
   "cell_type": "code",
   "execution_count": 126,
   "metadata": {
    "lines_to_next_cell": 0,
    "title": "codecell"
   },
   "outputs": [],
   "source": []
  },
  {
   "cell_type": "code",
   "execution_count": 126,
   "metadata": {
    "lines_to_next_cell": 0,
    "title": "codecell"
   },
   "outputs": [],
   "source": []
  },
  {
   "cell_type": "code",
   "execution_count": 126,
   "metadata": {
    "lines_to_next_cell": 0,
    "title": "codecell"
   },
   "outputs": [],
   "source": []
  },
  {
   "cell_type": "code",
   "execution_count": 126,
   "metadata": {
    "execution": {
     "iopub.execute_input": "2020-09-21T06:33:58.759085Z",
     "iopub.status.busy": "2020-09-21T06:33:58.758159Z",
     "iopub.status.idle": "2020-09-21T06:33:58.853756Z",
     "shell.execute_reply": "2020-09-21T06:33:58.858553Z"
    },
    "lines_to_next_cell": 0,
    "title": "codecell"
   },
   "outputs": [
    {
     "data": {
      "text/latex": [
       "$\\displaystyle \\frac{\\partial}{\\partial \\sigma_{apply}{\\left(y{\\left(X,W \\right)} \\right)}} \\lambda{\\left(\\sigma_{apply}{\\left(y{\\left(X,W \\right)} \\right)} \\right)} \\frac{\\partial}{\\partial y{\\left(X,W \\right)}} \\sigma_{apply}{\\left(y{\\left(X,W \\right)} \\right)} \\frac{\\partial}{\\partial W} y{\\left(X,W \\right)}$"
      ],
      "text/plain": [
       "Derivative(lambda(sigma_apply(y(X, W))), sigma_apply(y(X, W)))*Derivative(sigma_apply(y(X, W)), y(X, W))*Derivative(y(X, W), W)"
      ]
     },
     "execution_count": 1,
     "metadata": {},
     "output_type": "execute_result"
    }
   ],
   "source": [
    "Ly.subs({A:a,B:b}).diff(b).subs({a:A, b:B})#.replace(sigmaApply, sigmaApply_)"
   ]
  },
  {
   "cell_type": "code",
   "execution_count": 127,
   "metadata": {
    "execution": {
     "iopub.execute_input": "2020-09-21T06:33:58.868920Z",
     "iopub.status.busy": "2020-09-21T06:33:58.867036Z",
     "iopub.status.idle": "2020-09-21T06:33:58.903215Z",
     "shell.execute_reply": "2020-09-21T06:33:58.904393Z"
    },
    "lines_to_next_cell": 0,
    "title": "codecell"
   },
   "outputs": [
    {
     "data": {
      "text/latex": [
       "$\\displaystyle \\frac{\\partial}{\\partial \\sigma_{apply}{\\left(y{\\left(X,W \\right)} \\right)}} \\lambda{\\left(\\sigma_{apply}{\\left(y{\\left(X,W \\right)} \\right)} \\right)} \\frac{\\partial}{\\partial y{\\left(X,W \\right)}} \\sigma_{apply}{\\left(y{\\left(X,W \\right)} \\right)} \\frac{\\partial}{\\partial W} y{\\left(X,W \\right)}$"
      ],
      "text/plain": [
       "Derivative(lambda(sigma_apply(y(X, W))), sigma_apply(y(X, W)))*Derivative(sigma_apply(y(X, W)), y(X, W))*Derivative(y(X, W), W)"
      ]
     },
     "execution_count": 1,
     "metadata": {},
     "output_type": "execute_result"
    }
   ],
   "source": [
    "Ly.replace(A,a).replace(B,b).diff(b).subs({a:A,b:B})#.replace(sigmaApply, sigmaApply_)#.diff(b)"
   ]
  },
  {
   "cell_type": "code",
   "execution_count": 128,
   "metadata": {
    "execution": {
     "iopub.execute_input": "2020-09-21T06:33:58.911360Z",
     "iopub.status.busy": "2020-09-21T06:33:58.907999Z",
     "iopub.status.idle": "2020-09-21T06:33:58.921085Z",
     "shell.execute_reply": "2020-09-21T06:33:58.926262Z"
    },
    "lines_to_next_cell": 0,
    "title": "codecell"
   },
   "outputs": [],
   "source": [
    "#m = Symbol(\"m\", shape=(3,2))\n",
    "#m.shape\n",
    "\n",
    "#sigmaApply_3 = Lambda(m, siga(m))\n",
    "\n",
    "#L.replace(A,a).replace(B,b).diff(b).replace(b,B).replace(a,A).subs({n:vL}).replace(sigmaApply, sigmaApply_2) ### ERROR: Dummy object has no attribute shape"
   ]
  },
  {
   "cell_type": "code",
   "execution_count": 129,
   "metadata": {
    "execution": {
     "iopub.execute_input": "2020-09-21T06:33:58.935129Z",
     "iopub.status.busy": "2020-09-21T06:33:58.934180Z",
     "iopub.status.idle": "2020-09-21T06:33:59.055041Z",
     "shell.execute_reply": "2020-09-21T06:33:59.056213Z"
    },
    "lines_to_next_cell": 0,
    "title": "codecell"
   },
   "outputs": [
    {
     "data": {
      "text/latex": [
       "$\\displaystyle \\frac{\\partial}{\\partial \\sigma_{apply}{\\left(y{\\left(X,W \\right)} \\right)}} \\lambda{\\left(\\sigma_{apply}{\\left(y{\\left(X,W \\right)} \\right)} \\right)} \\frac{\\partial}{\\partial y{\\left(X,W \\right)}} \\sigma_{apply}{\\left(y{\\left(X,W \\right)} \\right)} \\left(\\frac{\\partial}{\\partial W} y{\\left(X,W \\right)} + \\mathbb{0}\\right)$"
      ],
      "text/plain": [
       "Derivative(lambda(sigma_apply(y(X, W))), sigma_apply(y(X, W)))*Derivative(sigma_apply(y(X, W)), y(X, W))*(Derivative(y(X, W), W) + 0)"
      ]
     },
     "execution_count": 1,
     "metadata": {},
     "output_type": "execute_result"
    }
   ],
   "source": [
    "# Ly.replace(B, b).diff(A)#.replace(sigmaApply, siga)### ERROR noncommutative matrix scalars not supported\n",
    "Ly.replace(A, A.T).replace(B, b).diff(b).replace(b, B).replace(A.T, A)#.replace(sigmaApply, siga)"
   ]
  },
  {
   "cell_type": "code",
   "execution_count": 130,
   "metadata": {
    "execution": {
     "iopub.execute_input": "2020-09-21T06:33:59.067219Z",
     "iopub.status.busy": "2020-09-21T06:33:59.061782Z",
     "iopub.status.idle": "2020-09-21T06:33:59.074820Z",
     "shell.execute_reply": "2020-09-21T06:33:59.075910Z"
    },
    "lines_to_next_cell": 0,
    "title": "codecell"
   },
   "outputs": [],
   "source": [
    "#Ly.replace(B,b).diff(b).replace(b,B) ### ERROR"
   ]
  },
  {
   "cell_type": "code",
   "execution_count": 131,
   "metadata": {
    "execution": {
     "iopub.execute_input": "2020-09-21T06:33:59.089159Z",
     "iopub.status.busy": "2020-09-21T06:33:59.083923Z",
     "iopub.status.idle": "2020-09-21T06:33:59.109015Z",
     "shell.execute_reply": "2020-09-21T06:33:59.110688Z"
    },
    "lines_to_next_cell": 0,
    "title": "codecell"
   },
   "outputs": [
    {
     "data": {
      "text/plain": [
       "mappingproxy({'_kwargs': {},\n",
       "              '__module__': None,\n",
       "              '__doc__': None,\n",
       "              'name': 'v',\n",
       "              '_sage_': <sympy.core.function.UndefSageHelper at 0x7f65269b8b90>,\n",
       "              '_nargs': None,\n",
       "              '__sympy__': <property at 0x7f6525921a10>,\n",
       "              '_explicit_class_assumptions': {},\n",
       "              'default_assumptions': {},\n",
       "              '_prop_handler': {'negative': <function sympy.core.expr.Expr._eval_is_negative(self)>,\n",
       "               'extended_negative': <function sympy.core.expr.Expr._eval_is_extended_negative(self)>,\n",
       "               'commutative': <function sympy.core.function.Function._eval_is_commutative(self)>,\n",
       "               'positive': <function sympy.core.expr.Expr._eval_is_positive(self)>,\n",
       "               'extended_positive': <function sympy.core.expr.Expr._eval_is_extended_positive(self)>}})"
      ]
     },
     "execution_count": 1,
     "metadata": {},
     "output_type": "execute_result"
    }
   ],
   "source": [
    "# NEXT: try to replace the sigma apply, not working\n",
    "n.__dict__"
   ]
  },
  {
   "cell_type": "code",
   "execution_count": 132,
   "metadata": {
    "execution": {
     "iopub.execute_input": "2020-09-21T06:33:59.122918Z",
     "iopub.status.busy": "2020-09-21T06:33:59.118901Z",
     "iopub.status.idle": "2020-09-21T06:33:59.152474Z",
     "shell.execute_reply": "2020-09-21T06:33:59.153927Z"
    },
    "lines_to_next_cell": 0,
    "title": "codecell"
   },
   "outputs": [
    {
     "data": {
      "text/plain": [
       "mappingproxy({'applyfunc': True,\n",
       "              'bool': False,\n",
       "              'shape': (3, 3),\n",
       "              '_kwargs': {'applyfunc': True, 'bool': False, 'shape': (3, 3)},\n",
       "              '__module__': None,\n",
       "              '__doc__': None,\n",
       "              'name': 'y',\n",
       "              '_sage_': <sympy.core.function.UndefSageHelper at 0x7f65269b8b90>,\n",
       "              '_nargs': None,\n",
       "              '__sympy__': <property at 0x7f652533c3b0>,\n",
       "              '_explicit_class_assumptions': {},\n",
       "              'default_assumptions': {},\n",
       "              '_prop_handler': {'negative': <function sympy.core.expr.Expr._eval_is_negative(self)>,\n",
       "               'extended_negative': <function sympy.core.expr.Expr._eval_is_extended_negative(self)>,\n",
       "               'commutative': <function sympy.core.function.Function._eval_is_commutative(self)>,\n",
       "               'positive': <function sympy.core.expr.Expr._eval_is_positive(self)>,\n",
       "               'extended_positive': <function sympy.core.expr.Expr._eval_is_extended_positive(self)>}})"
      ]
     },
     "execution_count": 1,
     "metadata": {},
     "output_type": "execute_result"
    }
   ],
   "source": [
    "y.__dict__\n",
    "# TODO HERE\n",
    "#https://stackoverflow.com/questions/12614334/typeerror-bool-object-is-not-callable"
   ]
  },
  {
   "cell_type": "code",
   "execution_count": 133,
   "metadata": {
    "lines_to_next_cell": 0,
    "title": "codecell"
   },
   "outputs": [],
   "source": []
  },
  {
   "cell_type": "code",
   "execution_count": 133,
   "metadata": {
    "lines_to_next_cell": 0,
    "title": "codecell"
   },
   "outputs": [],
   "source": []
  },
  {
   "cell_type": "code",
   "execution_count": 133,
   "metadata": {
    "execution": {
     "iopub.execute_input": "2020-09-21T06:33:59.166824Z",
     "iopub.status.busy": "2020-09-21T06:33:59.165897Z",
     "iopub.status.idle": "2020-09-21T06:33:59.191106Z",
     "shell.execute_reply": "2020-09-21T06:33:59.192514Z"
    },
    "lines_to_next_cell": 0,
    "title": "codecell"
   },
   "outputs": [
    {
     "data": {
      "text/latex": [
       "$\\displaystyle \\left[\\begin{matrix}t_{11} & t_{12} & t_{13}\\\\t_{21} & t_{22} & t_{23}\\\\t_{31} & t_{32} & t_{33}\\end{matrix}\\right]$"
      ],
      "text/plain": [
       "Matrix([\n",
       "[t_11, t_12, t_13],\n",
       "[t_21, t_22, t_23],\n",
       "[t_31, t_32, t_33]])"
      ]
     },
     "execution_count": 1,
     "metadata": {},
     "output_type": "execute_result"
    }
   ],
   "source": [
    "from sympy import diff\n",
    "# ### WARNING: this only works when size(X) == size(Y) else since size(W) != size(X) cannot subst B with W, so this operation won't work in my case.\n",
    "\n",
    "#X = Matrix(3,3, lambda i,j: Symbol(\"x_{}{}\".format(i+1,j+1))); Matrix(X)\n",
    "# Create another matrix instead of W so that it matches size of X during diff(X) operation, since otherwise the diff by X doesn't work, says X and W need to be same size.\n",
    "\n",
    "Wtemp = Matrix(*X.shape, lambda i,j: Symbol(\"t_{}{}\".format(i+1,j+1))); Matrix(Wtemp)"
   ]
  },
  {
   "cell_type": "code",
   "execution_count": 134,
   "metadata": {
    "execution": {
     "iopub.execute_input": "2020-09-21T06:33:59.202174Z",
     "iopub.status.busy": "2020-09-21T06:33:59.201262Z",
     "iopub.status.idle": "2020-09-21T06:33:59.206039Z",
     "shell.execute_reply": "2020-09-21T06:33:59.215016Z"
    },
    "title": "codecell"
   },
   "outputs": [],
   "source": [
    "#L.subs({A:X, B:Wtemp}).diff(X)[0,0][0,0].replace(n,vN).replace(sigmaApply, sigmaApply_)#.doit()\n",
    "#diff(L.replace(A,A.T), A) # ERROR max recursion depth exceeded"
   ]
  },
  {
   "cell_type": "code",
   "execution_count": 135,
   "metadata": {
    "execution": {
     "iopub.execute_input": "2020-09-21T06:33:59.230262Z",
     "iopub.status.busy": "2020-09-21T06:33:59.229337Z",
     "iopub.status.idle": "2020-09-21T06:34:00.192749Z",
     "shell.execute_reply": "2020-09-21T06:34:00.201796Z"
    },
    "lines_to_next_cell": 0,
    "title": "codecell"
   },
   "outputs": [
    {
     "data": {
      "text/latex": [
       "$\\displaystyle \\left[\\begin{matrix}\\left[\\begin{matrix}\\frac{\\partial}{\\partial X} v{\\left(X,W \\right)} \\frac{\\partial}{\\partial v{\\left(X,W \\right)}} \\sigma_{apply}{\\left(v{\\left(X,W \\right)} \\right)} \\frac{\\partial}{\\partial \\sigma_{apply}{\\left(v{\\left(X,W \\right)} \\right)}} \\lambda{\\left(\\sigma_{apply}{\\left(v{\\left(X,W \\right)} \\right)} \\right)} & 0 & 0\\\\0 & 0 & 0\\\\0 & 0 & 0\\end{matrix}\\right] & \\left[\\begin{matrix}0 & \\frac{\\partial}{\\partial X} v{\\left(X,W \\right)} \\frac{\\partial}{\\partial v{\\left(X,W \\right)}} \\sigma_{apply}{\\left(v{\\left(X,W \\right)} \\right)} \\frac{\\partial}{\\partial \\sigma_{apply}{\\left(v{\\left(X,W \\right)} \\right)}} \\lambda{\\left(\\sigma_{apply}{\\left(v{\\left(X,W \\right)} \\right)} \\right)} & 0\\\\0 & 0 & 0\\\\0 & 0 & 0\\end{matrix}\\right] & \\left[\\begin{matrix}0 & 0 & \\frac{\\partial}{\\partial X} v{\\left(X,W \\right)} \\frac{\\partial}{\\partial v{\\left(X,W \\right)}} \\sigma_{apply}{\\left(v{\\left(X,W \\right)} \\right)} \\frac{\\partial}{\\partial \\sigma_{apply}{\\left(v{\\left(X,W \\right)} \\right)}} \\lambda{\\left(\\sigma_{apply}{\\left(v{\\left(X,W \\right)} \\right)} \\right)}\\\\0 & 0 & 0\\\\0 & 0 & 0\\end{matrix}\\right]\\\\\\left[\\begin{matrix}0 & 0 & 0\\\\\\frac{\\partial}{\\partial X} v{\\left(X,W \\right)} \\frac{\\partial}{\\partial v{\\left(X,W \\right)}} \\sigma_{apply}{\\left(v{\\left(X,W \\right)} \\right)} \\frac{\\partial}{\\partial \\sigma_{apply}{\\left(v{\\left(X,W \\right)} \\right)}} \\lambda{\\left(\\sigma_{apply}{\\left(v{\\left(X,W \\right)} \\right)} \\right)} & 0 & 0\\\\0 & 0 & 0\\end{matrix}\\right] & \\left[\\begin{matrix}0 & 0 & 0\\\\0 & \\frac{\\partial}{\\partial X} v{\\left(X,W \\right)} \\frac{\\partial}{\\partial v{\\left(X,W \\right)}} \\sigma_{apply}{\\left(v{\\left(X,W \\right)} \\right)} \\frac{\\partial}{\\partial \\sigma_{apply}{\\left(v{\\left(X,W \\right)} \\right)}} \\lambda{\\left(\\sigma_{apply}{\\left(v{\\left(X,W \\right)} \\right)} \\right)} & 0\\\\0 & 0 & 0\\end{matrix}\\right] & \\left[\\begin{matrix}0 & 0 & 0\\\\0 & 0 & \\frac{\\partial}{\\partial X} v{\\left(X,W \\right)} \\frac{\\partial}{\\partial v{\\left(X,W \\right)}} \\sigma_{apply}{\\left(v{\\left(X,W \\right)} \\right)} \\frac{\\partial}{\\partial \\sigma_{apply}{\\left(v{\\left(X,W \\right)} \\right)}} \\lambda{\\left(\\sigma_{apply}{\\left(v{\\left(X,W \\right)} \\right)} \\right)}\\\\0 & 0 & 0\\end{matrix}\\right]\\\\\\left[\\begin{matrix}0 & 0 & 0\\\\0 & 0 & 0\\\\\\frac{\\partial}{\\partial X} v{\\left(X,W \\right)} \\frac{\\partial}{\\partial v{\\left(X,W \\right)}} \\sigma_{apply}{\\left(v{\\left(X,W \\right)} \\right)} \\frac{\\partial}{\\partial \\sigma_{apply}{\\left(v{\\left(X,W \\right)} \\right)}} \\lambda{\\left(\\sigma_{apply}{\\left(v{\\left(X,W \\right)} \\right)} \\right)} & 0 & 0\\end{matrix}\\right] & \\left[\\begin{matrix}0 & 0 & 0\\\\0 & 0 & 0\\\\0 & \\frac{\\partial}{\\partial X} v{\\left(X,W \\right)} \\frac{\\partial}{\\partial v{\\left(X,W \\right)}} \\sigma_{apply}{\\left(v{\\left(X,W \\right)} \\right)} \\frac{\\partial}{\\partial \\sigma_{apply}{\\left(v{\\left(X,W \\right)} \\right)}} \\lambda{\\left(\\sigma_{apply}{\\left(v{\\left(X,W \\right)} \\right)} \\right)} & 0\\end{matrix}\\right] & \\left[\\begin{matrix}0 & 0 & 0\\\\0 & 0 & 0\\\\0 & 0 & \\frac{\\partial}{\\partial X} v{\\left(X,W \\right)} \\frac{\\partial}{\\partial v{\\left(X,W \\right)}} \\sigma_{apply}{\\left(v{\\left(X,W \\right)} \\right)} \\frac{\\partial}{\\partial \\sigma_{apply}{\\left(v{\\left(X,W \\right)} \\right)}} \\lambda{\\left(\\sigma_{apply}{\\left(v{\\left(X,W \\right)} \\right)} \\right)}\\end{matrix}\\right]\\end{matrix}\\right]$"
      ],
      "text/plain": [
       "Matrix([\n",
       "[Matrix([\n",
       "[Derivative(v(X, W), X)*Derivative(sigma_apply(v(X, W)), v(X, W))*Derivative(lambda(sigma_apply(v(X, W))), sigma_apply(v(X, W))), 0, 0],\n",
       "[                                                                                                                              0, 0, 0],\n",
       "[                                                                                                                              0, 0, 0]]), Matrix([\n",
       "[0, Derivative(v(X, W), X)*Derivative(sigma_apply(v(X, W)), v(X, W))*Derivative(lambda(sigma_apply(v(X, W))), sigma_apply(v(X, W))), 0],\n",
       "[0,                                                                                                                               0, 0],\n",
       "[0,                                                                                                                               0, 0]]), Matrix([\n",
       "[0, 0, Derivative(v(X, W), X)*Derivative(sigma_apply(v(X, W)), v(X, W))*Derivative(lambda(sigma_apply(v(X, W))), sigma_apply(v(X, W)))],\n",
       "[0, 0,                                                                                                                               0],\n",
       "[0, 0,                                                                                                                               0]])],\n",
       "[Matrix([\n",
       "[                                                                                                                              0, 0, 0],\n",
       "[Derivative(v(X, W), X)*Derivative(sigma_apply(v(X, W)), v(X, W))*Derivative(lambda(sigma_apply(v(X, W))), sigma_apply(v(X, W))), 0, 0],\n",
       "[                                                                                                                              0, 0, 0]]), Matrix([\n",
       "[0,                                                                                                                               0, 0],\n",
       "[0, Derivative(v(X, W), X)*Derivative(sigma_apply(v(X, W)), v(X, W))*Derivative(lambda(sigma_apply(v(X, W))), sigma_apply(v(X, W))), 0],\n",
       "[0,                                                                                                                               0, 0]]), Matrix([\n",
       "[0, 0,                                                                                                                               0],\n",
       "[0, 0, Derivative(v(X, W), X)*Derivative(sigma_apply(v(X, W)), v(X, W))*Derivative(lambda(sigma_apply(v(X, W))), sigma_apply(v(X, W)))],\n",
       "[0, 0,                                                                                                                               0]])],\n",
       "[Matrix([\n",
       "[                                                                                                                              0, 0, 0],\n",
       "[                                                                                                                              0, 0, 0],\n",
       "[Derivative(v(X, W), X)*Derivative(sigma_apply(v(X, W)), v(X, W))*Derivative(lambda(sigma_apply(v(X, W))), sigma_apply(v(X, W))), 0, 0]]), Matrix([\n",
       "[0,                                                                                                                               0, 0],\n",
       "[0,                                                                                                                               0, 0],\n",
       "[0, Derivative(v(X, W), X)*Derivative(sigma_apply(v(X, W)), v(X, W))*Derivative(lambda(sigma_apply(v(X, W))), sigma_apply(v(X, W))), 0]]), Matrix([\n",
       "[0, 0,                                                                                                                               0],\n",
       "[0, 0,                                                                                                                               0],\n",
       "[0, 0, Derivative(v(X, W), X)*Derivative(sigma_apply(v(X, W)), v(X, W))*Derivative(lambda(sigma_apply(v(X, W))), sigma_apply(v(X, W)))]])]])"
      ]
     },
     "execution_count": 1,
     "metadata": {},
     "output_type": "execute_result"
    }
   ],
   "source": [
    "#Lmat = L.subs({A:X, B:Wtemp}).diff(X).subs({X:A, Wtemp: B}); Lmat #replace(X, A).replace(Y,B); Lmat\n",
    "# NOTE need to do replace at the end (instead of subs) else it says unhasable type mutabledensematrix.\n",
    "Lmat = L.subs({A:X, B:Wtemp}).diff(X).replace(X, A).replace(Wtemp,B); Lmat\n",
    "#L.diff(A) # HELL ON THE EDITOR NEVER TRY THIS AGAIN"
   ]
  },
  {
   "cell_type": "code",
   "execution_count": 136,
   "metadata": {
    "execution": {
     "iopub.execute_input": "2020-09-21T06:34:00.207636Z",
     "iopub.status.busy": "2020-09-21T06:34:00.205380Z",
     "iopub.status.idle": "2020-09-21T06:34:00.217833Z",
     "shell.execute_reply": "2020-09-21T06:34:00.218919Z"
    },
    "title": "codecell"
   },
   "outputs": [],
   "source": [
    "#L.replace(A,X).replace(B,W)"
   ]
  },
  {
   "cell_type": "code",
   "execution_count": 137,
   "metadata": {
    "execution": {
     "iopub.execute_input": "2020-09-21T06:34:00.224644Z",
     "iopub.status.busy": "2020-09-21T06:34:00.222430Z",
     "iopub.status.idle": "2020-09-21T06:34:00.235496Z",
     "shell.execute_reply": "2020-09-21T06:34:00.236641Z"
    },
    "lines_to_next_cell": 0,
    "title": "codecell"
   },
   "outputs": [],
   "source": [
    "# Method 2 approach for comparison:\n",
    "#L.replace(n, vN).replace(sigmaApply, sigmaApply_).replace(lambd, lambd_).subs(elemToSpecD).diff(X)#.subs(specToElemD)"
   ]
  },
  {
   "cell_type": "code",
   "execution_count": 138,
   "metadata": {
    "execution": {
     "iopub.execute_input": "2020-09-21T06:34:00.253410Z",
     "iopub.status.busy": "2020-09-21T06:34:00.247109Z",
     "iopub.status.idle": "2020-09-21T06:34:00.262492Z",
     "shell.execute_reply": "2020-09-21T06:34:00.266197Z"
    },
    "lines_to_next_cell": 0,
    "title": "codecell"
   },
   "outputs": [
    {
     "data": {
      "text/latex": [
       "$\\displaystyle \\frac{\\partial}{\\partial X} v{\\left(X,W \\right)} \\frac{\\partial}{\\partial v{\\left(X,W \\right)}} \\sigma_{apply}{\\left(v{\\left(X,W \\right)} \\right)} \\frac{\\partial}{\\partial \\sigma_{apply}{\\left(v{\\left(X,W \\right)} \\right)}} \\lambda{\\left(\\sigma_{apply}{\\left(v{\\left(X,W \\right)} \\right)} \\right)}$"
      ],
      "text/plain": [
       "Derivative(v(X, W), X)*Derivative(sigma_apply(v(X, W)), v(X, W))*Derivative(lambda(sigma_apply(v(X, W))), sigma_apply(v(X, W)))"
      ]
     },
     "execution_count": 1,
     "metadata": {},
     "output_type": "execute_result"
    }
   ],
   "source": [
    "elem = Lmat[0,0][0,0];elem"
   ]
  },
  {
   "cell_type": "code",
   "execution_count": 139,
   "metadata": {
    "execution": {
     "iopub.execute_input": "2020-09-21T06:34:00.272719Z",
     "iopub.status.busy": "2020-09-21T06:34:00.270020Z",
     "iopub.status.idle": "2020-09-21T06:34:00.331157Z",
     "shell.execute_reply": "2020-09-21T06:34:00.332287Z"
    },
    "title": "codecell"
   },
   "outputs": [
    {
     "data": {
      "text/latex": [
       "$\\displaystyle \\left. \\frac{d}{d \\xi_{0}} \\sigma_{apply}{\\left(\\xi_{0} \\right)} \\right|_{\\substack{ \\xi_{0}=X W }} \\frac{\\partial}{\\partial X} X W \\frac{\\partial}{\\partial \\sigma_{apply}{\\left(X W \\right)}} \\lambda{\\left(\\sigma_{apply}{\\left(X W \\right)} \\right)}$"
      ],
      "text/plain": [
       "Subs(Derivative(sigma_apply(_xi_0), _xi_0), _xi_0, X*W)*Derivative(X*W, X)*Derivative(lambda(sigma_apply(X*W)), sigma_apply(X*W))"
      ]
     },
     "execution_count": 1,
     "metadata": {},
     "output_type": "execute_result"
    }
   ],
   "source": [
    "#Lmat.replace(n, vL) # error can't calc deriv .w.r.t to x11*w11 +...\n",
    "# Lmat.replace(n, v) # error can't calc deriv .w.r.t to x11*w11 +...\n",
    "elem.subs(n, vL)"
   ]
  },
  {
   "cell_type": "code",
   "execution_count": 140,
   "metadata": {
    "execution": {
     "iopub.execute_input": "2020-09-21T06:34:00.340013Z",
     "iopub.status.busy": "2020-09-21T06:34:00.337738Z",
     "iopub.status.idle": "2020-09-21T06:34:00.348537Z",
     "shell.execute_reply": "2020-09-21T06:34:00.351580Z"
    },
    "lines_to_next_cell": 0,
    "title": "codecell"
   },
   "outputs": [],
   "source": [
    "#elem.replace(n, v) # error cannot deriv wrt to X*W"
   ]
  },
  {
   "cell_type": "code",
   "execution_count": 141,
   "metadata": {
    "execution": {
     "iopub.execute_input": "2020-09-21T06:34:00.365776Z",
     "iopub.status.busy": "2020-09-21T06:34:00.358445Z",
     "iopub.status.idle": "2020-09-21T06:34:00.387061Z",
     "shell.execute_reply": "2020-09-21T06:34:00.388179Z"
    },
    "lines_to_next_cell": 0,
    "title": "codecell"
   },
   "outputs": [
    {
     "data": {
      "text/latex": [
       "$\\displaystyle \\left[\\begin{matrix}\\sigma{\\left(n_{11} \\right)} & \\sigma{\\left(n_{12} \\right)}\\\\\\sigma{\\left(n_{21} \\right)} & \\sigma{\\left(n_{22} \\right)}\\\\\\sigma{\\left(n_{31} \\right)} & \\sigma{\\left(n_{32} \\right)}\\end{matrix}\\right]$"
      ],
      "text/plain": [
       "Matrix([\n",
       "[sigma(n_11), sigma(n_12)],\n",
       "[sigma(n_21), sigma(n_22)],\n",
       "[sigma(n_31), sigma(n_32)]])"
      ]
     },
     "execution_count": 1,
     "metadata": {},
     "output_type": "execute_result"
    }
   ],
   "source": [
    "Selem"
   ]
  },
  {
   "cell_type": "code",
   "execution_count": 142,
   "metadata": {
    "execution": {
     "iopub.execute_input": "2020-09-21T06:34:00.399753Z",
     "iopub.status.busy": "2020-09-21T06:34:00.398143Z",
     "iopub.status.idle": "2020-09-21T06:34:00.533409Z",
     "shell.execute_reply": "2020-09-21T06:34:00.534627Z"
    },
    "lines_to_next_cell": 0,
    "title": "codecell"
   },
   "outputs": [
    {
     "data": {
      "text/latex": [
       "$\\displaystyle \\frac{\\partial}{\\partial \\left[\\begin{matrix}x_{11} & x_{12} & x_{13}\\\\x_{21} & x_{22} & x_{23}\\\\x_{31} & x_{32} & x_{33}\\end{matrix}\\right]} \\left[\\begin{matrix}n_{11} & n_{12}\\\\n_{21} & n_{22}\\\\n_{31} & n_{32}\\end{matrix}\\right] \\frac{\\partial}{\\partial \\left[\\begin{matrix}n_{11} & n_{12}\\\\n_{21} & n_{22}\\\\n_{31} & n_{32}\\end{matrix}\\right]} \\left[\\begin{matrix}\\sigma{\\left(n_{11} \\right)} & \\sigma{\\left(n_{12} \\right)}\\\\\\sigma{\\left(n_{21} \\right)} & \\sigma{\\left(n_{22} \\right)}\\\\\\sigma{\\left(n_{31} \\right)} & \\sigma{\\left(n_{32} \\right)}\\end{matrix}\\right] \\frac{\\partial}{\\partial \\left[\\begin{matrix}\\sigma{\\left(n_{11} \\right)} & \\sigma{\\left(n_{12} \\right)}\\\\\\sigma{\\left(n_{21} \\right)} & \\sigma{\\left(n_{22} \\right)}\\\\\\sigma{\\left(n_{31} \\right)} & \\sigma{\\left(n_{32} \\right)}\\end{matrix}\\right]} \\lambda{\\left(\\left[\\begin{matrix}\\sigma{\\left(n_{11} \\right)} & \\sigma{\\left(n_{12} \\right)}\\\\\\sigma{\\left(n_{21} \\right)} & \\sigma{\\left(n_{22} \\right)}\\\\\\sigma{\\left(n_{31} \\right)} & \\sigma{\\left(n_{32} \\right)}\\end{matrix}\\right] \\right)}$"
      ],
      "text/plain": [
       "Derivative(Matrix([\n",
       "[n_11, n_12],\n",
       "[n_21, n_22],\n",
       "[n_31, n_32]]), Matrix([\n",
       "[x_11, x_12, x_13],\n",
       "[x_21, x_22, x_23],\n",
       "[x_31, x_32, x_33]]))*Derivative(Matrix([\n",
       "[sigma(n_11), sigma(n_12)],\n",
       "[sigma(n_21), sigma(n_22)],\n",
       "[sigma(n_31), sigma(n_32)]]), Matrix([\n",
       "[n_11, n_12],\n",
       "[n_21, n_22],\n",
       "[n_31, n_32]]))*Derivative(lambda(Matrix([\n",
       "[sigma(n_11), sigma(n_12)],\n",
       "[sigma(n_21), sigma(n_22)],\n",
       "[sigma(n_31), sigma(n_32)]])), Matrix([\n",
       "[sigma(n_11), sigma(n_12)],\n",
       "[sigma(n_21), sigma(n_22)],\n",
       "[sigma(n_31), sigma(n_32)]]))"
      ]
     },
     "execution_count": 1,
     "metadata": {},
     "output_type": "execute_result"
    }
   ],
   "source": [
    "# use replace n with vN instead of subs n with vL to get less specific output so it is easier to see since vL returns the xww*w11 +.... expressions\n",
    "elem.subs({A:X, B:W}).replace(n, vN).replace(sigmaApply, sigmaApply_)"
   ]
  },
  {
   "cell_type": "code",
   "execution_count": 143,
   "metadata": {
    "execution": {
     "iopub.execute_input": "2020-09-21T06:34:00.540502Z",
     "iopub.status.busy": "2020-09-21T06:34:00.538973Z",
     "iopub.status.idle": "2020-09-21T06:34:00.624157Z",
     "shell.execute_reply": "2020-09-21T06:34:00.625318Z"
    },
    "lines_to_next_cell": 0,
    "title": "codecell"
   },
   "outputs": [
    {
     "data": {
      "text/latex": [
       "$\\displaystyle \\frac{d}{d X} N \\frac{\\partial}{\\partial N} \\left[\\begin{matrix}\\sigma{\\left(n_{11} \\right)} & \\sigma{\\left(n_{12} \\right)}\\\\\\sigma{\\left(n_{21} \\right)} & \\sigma{\\left(n_{22} \\right)}\\\\\\sigma{\\left(n_{31} \\right)} & \\sigma{\\left(n_{32} \\right)}\\end{matrix}\\right] \\frac{\\partial}{\\partial \\left[\\begin{matrix}\\sigma{\\left(n_{11} \\right)} & \\sigma{\\left(n_{12} \\right)}\\\\\\sigma{\\left(n_{21} \\right)} & \\sigma{\\left(n_{22} \\right)}\\\\\\sigma{\\left(n_{31} \\right)} & \\sigma{\\left(n_{32} \\right)}\\end{matrix}\\right]} \\lambda{\\left(\\left[\\begin{matrix}\\sigma{\\left(n_{11} \\right)} & \\sigma{\\left(n_{12} \\right)}\\\\\\sigma{\\left(n_{21} \\right)} & \\sigma{\\left(n_{22} \\right)}\\\\\\sigma{\\left(n_{31} \\right)} & \\sigma{\\left(n_{32} \\right)}\\end{matrix}\\right] \\right)}$"
      ],
      "text/plain": [
       "Derivative(N, X)*Derivative(Matrix([\n",
       "[sigma(n_11), sigma(n_12)],\n",
       "[sigma(n_21), sigma(n_22)],\n",
       "[sigma(n_31), sigma(n_32)]]), N)*Derivative(lambda(Matrix([\n",
       "[sigma(n_11), sigma(n_12)],\n",
       "[sigma(n_21), sigma(n_22)],\n",
       "[sigma(n_31), sigma(n_32)]])), Matrix([\n",
       "[sigma(n_11), sigma(n_12)],\n",
       "[sigma(n_21), sigma(n_22)],\n",
       "[sigma(n_31), sigma(n_32)]]))"
      ]
     },
     "execution_count": 1,
     "metadata": {},
     "output_type": "execute_result"
    }
   ],
   "source": [
    "# Making matrix symbols again\n",
    "Ss = MatrixSymbol('S', 3,2) #n by p\n",
    "Ns = MatrixSymbol('N', 3,2) #n by p\n",
    "\n",
    "\n",
    "\n",
    "short = elem.subs({A:X, B:W}).replace(n, vN).replace(sigmaApply, sigmaApply_).replace(X,A).replace(Nelem, Ns).replace(Selem ,Ss)\n",
    "short"
   ]
  },
  {
   "cell_type": "code",
   "execution_count": 144,
   "metadata": {
    "execution": {
     "iopub.execute_input": "2020-09-21T06:34:00.633694Z",
     "iopub.status.busy": "2020-09-21T06:34:00.629063Z",
     "iopub.status.idle": "2020-09-21T06:34:00.713743Z",
     "shell.execute_reply": "2020-09-21T06:34:00.714850Z"
    },
    "lines_to_next_cell": 0,
    "title": "codecell"
   },
   "outputs": [
    {
     "data": {
      "text/latex": [
       "$\\displaystyle \\frac{\\partial}{\\partial \\left[\\begin{matrix}\\sigma{\\left(n_{11} \\right)} & \\sigma{\\left(n_{12} \\right)}\\\\\\sigma{\\left(n_{21} \\right)} & \\sigma{\\left(n_{22} \\right)}\\\\\\sigma{\\left(n_{31} \\right)} & \\sigma{\\left(n_{32} \\right)}\\end{matrix}\\right]} \\left(\\sigma{\\left(n_{11} \\right)} + \\sigma{\\left(n_{12} \\right)} + \\sigma{\\left(n_{21} \\right)} + \\sigma{\\left(n_{22} \\right)} + \\sigma{\\left(n_{31} \\right)} + \\sigma{\\left(n_{32} \\right)}\\right) \\frac{\\partial}{\\partial \\left[\\begin{matrix}x_{11} & x_{12} & x_{13}\\\\x_{21} & x_{22} & x_{23}\\\\x_{31} & x_{32} & x_{33}\\end{matrix}\\right]} \\left[\\begin{matrix}n_{11} & n_{12}\\\\n_{21} & n_{22}\\\\n_{31} & n_{32}\\end{matrix}\\right] \\frac{\\partial}{\\partial \\left[\\begin{matrix}n_{11} & n_{12}\\\\n_{21} & n_{22}\\\\n_{31} & n_{32}\\end{matrix}\\right]} \\left[\\begin{matrix}\\sigma{\\left(n_{11} \\right)} & \\sigma{\\left(n_{12} \\right)}\\\\\\sigma{\\left(n_{21} \\right)} & \\sigma{\\left(n_{22} \\right)}\\\\\\sigma{\\left(n_{31} \\right)} & \\sigma{\\left(n_{32} \\right)}\\end{matrix}\\right]$"
      ],
      "text/plain": [
       "Derivative(sigma(n_11) + sigma(n_12) + sigma(n_21) + sigma(n_22) + sigma(n_31) + sigma(n_32), Matrix([\n",
       "[sigma(n_11), sigma(n_12)],\n",
       "[sigma(n_21), sigma(n_22)],\n",
       "[sigma(n_31), sigma(n_32)]]))*Derivative(Matrix([\n",
       "[n_11, n_12],\n",
       "[n_21, n_22],\n",
       "[n_31, n_32]]), Matrix([\n",
       "[x_11, x_12, x_13],\n",
       "[x_21, x_22, x_23],\n",
       "[x_31, x_32, x_33]]))*Derivative(Matrix([\n",
       "[sigma(n_11), sigma(n_12)],\n",
       "[sigma(n_21), sigma(n_22)],\n",
       "[sigma(n_31), sigma(n_32)]]), Matrix([\n",
       "[n_11, n_12],\n",
       "[n_21, n_22],\n",
       "[n_31, n_32]]))"
      ]
     },
     "execution_count": 1,
     "metadata": {},
     "output_type": "execute_result"
    }
   ],
   "source": [
    "# Now going back to matrix form just to apply the last function LAMBDA\n",
    "elem.subs({A:X, B:W}).replace(n, vN).replace(sigmaApply, sigmaApply_).replace(lambd, lambd_)"
   ]
  },
  {
   "cell_type": "code",
   "execution_count": 145,
   "metadata": {
    "execution": {
     "iopub.execute_input": "2020-09-21T06:34:00.730555Z",
     "iopub.status.busy": "2020-09-21T06:34:00.727968Z",
     "iopub.status.idle": "2020-09-21T06:34:00.801654Z",
     "shell.execute_reply": "2020-09-21T06:34:00.806062Z"
    },
    "lines_to_next_cell": 0,
    "title": "codecell"
   },
   "outputs": [
    {
     "data": {
      "text/latex": [
       "$\\displaystyle \\left[\\begin{matrix}n_{11} & \\operatorname{n_{11}}{\\left(x_{11},x_{12},x_{13},x_{21},x_{22},x_{23},x_{31},x_{32},x_{33},w_{11},w_{12},w_{21},w_{22},w_{31},w_{32} \\right)}\\\\n_{12} & \\operatorname{n_{12}}{\\left(x_{11},x_{12},x_{13},x_{21},x_{22},x_{23},x_{31},x_{32},x_{33},w_{11},w_{12},w_{21},w_{22},w_{31},w_{32} \\right)}\\\\n_{21} & \\operatorname{n_{21}}{\\left(x_{11},x_{12},x_{13},x_{21},x_{22},x_{23},x_{31},x_{32},x_{33},w_{11},w_{12},w_{21},w_{22},w_{31},w_{32} \\right)}\\\\n_{22} & \\operatorname{n_{22}}{\\left(x_{11},x_{12},x_{13},x_{21},x_{22},x_{23},x_{31},x_{32},x_{33},w_{11},w_{12},w_{21},w_{22},w_{31},w_{32} \\right)}\\\\n_{31} & \\operatorname{n_{31}}{\\left(x_{11},x_{12},x_{13},x_{21},x_{22},x_{23},x_{31},x_{32},x_{33},w_{11},w_{12},w_{21},w_{22},w_{31},w_{32} \\right)}\\\\n_{32} & \\operatorname{n_{32}}{\\left(x_{11},x_{12},x_{13},x_{21},x_{22},x_{23},x_{31},x_{32},x_{33},w_{11},w_{12},w_{21},w_{22},w_{31},w_{32} \\right)}\\end{matrix}\\right]$"
      ],
      "text/plain": [
       "Matrix([\n",
       "[n_11, n_11(x_11, x_12, x_13, x_21, x_22, x_23, x_31, x_32, x_33, w_11, w_12, w_21, w_22, w_31, w_32)],\n",
       "[n_12, n_12(x_11, x_12, x_13, x_21, x_22, x_23, x_31, x_32, x_33, w_11, w_12, w_21, w_22, w_31, w_32)],\n",
       "[n_21, n_21(x_11, x_12, x_13, x_21, x_22, x_23, x_31, x_32, x_33, w_11, w_12, w_21, w_22, w_31, w_32)],\n",
       "[n_22, n_22(x_11, x_12, x_13, x_21, x_22, x_23, x_31, x_32, x_33, w_11, w_12, w_21, w_22, w_31, w_32)],\n",
       "[n_31, n_31(x_11, x_12, x_13, x_21, x_22, x_23, x_31, x_32, x_33, w_11, w_12, w_21, w_22, w_31, w_32)],\n",
       "[n_32, n_32(x_11, x_12, x_13, x_21, x_22, x_23, x_31, x_32, x_33, w_11, w_12, w_21, w_22, w_31, w_32)]])"
      ]
     },
     "execution_count": 1,
     "metadata": {},
     "output_type": "execute_result"
    }
   ],
   "source": [
    "# Making each of the n_ijs a function\n",
    "#elem.subs({A:X, B:W}).replace(n, vN).replace(sigmaApply, sigmaApply_).replace(lambd, lambd_).subs(elemToSpecD)\n",
    "\n",
    "Matrix(elemToSpecFuncArgs)"
   ]
  },
  {
   "cell_type": "code",
   "execution_count": 146,
   "metadata": {
    "execution": {
     "iopub.execute_input": "2020-09-21T06:34:00.818685Z",
     "iopub.status.busy": "2020-09-21T06:34:00.809860Z",
     "iopub.status.idle": "2020-09-21T06:34:01.479146Z",
     "shell.execute_reply": "2020-09-21T06:34:01.485654Z"
    },
    "lines_to_next_cell": 0,
    "title": "codecell"
   },
   "outputs": [
    {
     "data": {
      "text/latex": [
       "$\\displaystyle \\frac{\\partial}{\\partial \\left[\\begin{matrix}\\sigma{\\left(\\operatorname{n_{11}}{\\left(x_{11},x_{12},x_{13},x_{21},x_{22},x_{23},x_{31},x_{32},x_{33},w_{11},w_{12},w_{21},w_{22},w_{31},w_{32} \\right)} \\right)} & \\sigma{\\left(\\operatorname{n_{12}}{\\left(x_{11},x_{12},x_{13},x_{21},x_{22},x_{23},x_{31},x_{32},x_{33},w_{11},w_{12},w_{21},w_{22},w_{31},w_{32} \\right)} \\right)}\\\\\\sigma{\\left(\\operatorname{n_{21}}{\\left(x_{11},x_{12},x_{13},x_{21},x_{22},x_{23},x_{31},x_{32},x_{33},w_{11},w_{12},w_{21},w_{22},w_{31},w_{32} \\right)} \\right)} & \\sigma{\\left(\\operatorname{n_{22}}{\\left(x_{11},x_{12},x_{13},x_{21},x_{22},x_{23},x_{31},x_{32},x_{33},w_{11},w_{12},w_{21},w_{22},w_{31},w_{32} \\right)} \\right)}\\\\\\sigma{\\left(\\operatorname{n_{31}}{\\left(x_{11},x_{12},x_{13},x_{21},x_{22},x_{23},x_{31},x_{32},x_{33},w_{11},w_{12},w_{21},w_{22},w_{31},w_{32} \\right)} \\right)} & \\sigma{\\left(\\operatorname{n_{32}}{\\left(x_{11},x_{12},x_{13},x_{21},x_{22},x_{23},x_{31},x_{32},x_{33},w_{11},w_{12},w_{21},w_{22},w_{31},w_{32} \\right)} \\right)}\\end{matrix}\\right]} \\left(\\sigma{\\left(\\operatorname{n_{11}}{\\left(x_{11},x_{12},x_{13},x_{21},x_{22},x_{23},x_{31},x_{32},x_{33},w_{11},w_{12},w_{21},w_{22},w_{31},w_{32} \\right)} \\right)} + \\sigma{\\left(\\operatorname{n_{12}}{\\left(x_{11},x_{12},x_{13},x_{21},x_{22},x_{23},x_{31},x_{32},x_{33},w_{11},w_{12},w_{21},w_{22},w_{31},w_{32} \\right)} \\right)} + \\sigma{\\left(\\operatorname{n_{21}}{\\left(x_{11},x_{12},x_{13},x_{21},x_{22},x_{23},x_{31},x_{32},x_{33},w_{11},w_{12},w_{21},w_{22},w_{31},w_{32} \\right)} \\right)} + \\sigma{\\left(\\operatorname{n_{22}}{\\left(x_{11},x_{12},x_{13},x_{21},x_{22},x_{23},x_{31},x_{32},x_{33},w_{11},w_{12},w_{21},w_{22},w_{31},w_{32} \\right)} \\right)} + \\sigma{\\left(\\operatorname{n_{31}}{\\left(x_{11},x_{12},x_{13},x_{21},x_{22},x_{23},x_{31},x_{32},x_{33},w_{11},w_{12},w_{21},w_{22},w_{31},w_{32} \\right)} \\right)} + \\sigma{\\left(\\operatorname{n_{32}}{\\left(x_{11},x_{12},x_{13},x_{21},x_{22},x_{23},x_{31},x_{32},x_{33},w_{11},w_{12},w_{21},w_{22},w_{31},w_{32} \\right)} \\right)}\\right) \\frac{\\partial}{\\partial \\left[\\begin{matrix}x_{11} & x_{12} & x_{13}\\\\x_{21} & x_{22} & x_{23}\\\\x_{31} & x_{32} & x_{33}\\end{matrix}\\right]} \\left[\\begin{matrix}\\operatorname{n_{11}}{\\left(x_{11},x_{12},x_{13},x_{21},x_{22},x_{23},x_{31},x_{32},x_{33},w_{11},w_{12},w_{21},w_{22},w_{31},w_{32} \\right)} & \\operatorname{n_{12}}{\\left(x_{11},x_{12},x_{13},x_{21},x_{22},x_{23},x_{31},x_{32},x_{33},w_{11},w_{12},w_{21},w_{22},w_{31},w_{32} \\right)}\\\\\\operatorname{n_{21}}{\\left(x_{11},x_{12},x_{13},x_{21},x_{22},x_{23},x_{31},x_{32},x_{33},w_{11},w_{12},w_{21},w_{22},w_{31},w_{32} \\right)} & \\operatorname{n_{22}}{\\left(x_{11},x_{12},x_{13},x_{21},x_{22},x_{23},x_{31},x_{32},x_{33},w_{11},w_{12},w_{21},w_{22},w_{31},w_{32} \\right)}\\\\\\operatorname{n_{31}}{\\left(x_{11},x_{12},x_{13},x_{21},x_{22},x_{23},x_{31},x_{32},x_{33},w_{11},w_{12},w_{21},w_{22},w_{31},w_{32} \\right)} & \\operatorname{n_{32}}{\\left(x_{11},x_{12},x_{13},x_{21},x_{22},x_{23},x_{31},x_{32},x_{33},w_{11},w_{12},w_{21},w_{22},w_{31},w_{32} \\right)}\\end{matrix}\\right] \\frac{\\partial}{\\partial \\left[\\begin{matrix}\\operatorname{n_{11}}{\\left(x_{11},x_{12},x_{13},x_{21},x_{22},x_{23},x_{31},x_{32},x_{33},w_{11},w_{12},w_{21},w_{22},w_{31},w_{32} \\right)} & \\operatorname{n_{12}}{\\left(x_{11},x_{12},x_{13},x_{21},x_{22},x_{23},x_{31},x_{32},x_{33},w_{11},w_{12},w_{21},w_{22},w_{31},w_{32} \\right)}\\\\\\operatorname{n_{21}}{\\left(x_{11},x_{12},x_{13},x_{21},x_{22},x_{23},x_{31},x_{32},x_{33},w_{11},w_{12},w_{21},w_{22},w_{31},w_{32} \\right)} & \\operatorname{n_{22}}{\\left(x_{11},x_{12},x_{13},x_{21},x_{22},x_{23},x_{31},x_{32},x_{33},w_{11},w_{12},w_{21},w_{22},w_{31},w_{32} \\right)}\\\\\\operatorname{n_{31}}{\\left(x_{11},x_{12},x_{13},x_{21},x_{22},x_{23},x_{31},x_{32},x_{33},w_{11},w_{12},w_{21},w_{22},w_{31},w_{32} \\right)} & \\operatorname{n_{32}}{\\left(x_{11},x_{12},x_{13},x_{21},x_{22},x_{23},x_{31},x_{32},x_{33},w_{11},w_{12},w_{21},w_{22},w_{31},w_{32} \\right)}\\end{matrix}\\right]} \\left[\\begin{matrix}\\sigma{\\left(\\operatorname{n_{11}}{\\left(x_{11},x_{12},x_{13},x_{21},x_{22},x_{23},x_{31},x_{32},x_{33},w_{11},w_{12},w_{21},w_{22},w_{31},w_{32} \\right)} \\right)} & \\sigma{\\left(\\operatorname{n_{12}}{\\left(x_{11},x_{12},x_{13},x_{21},x_{22},x_{23},x_{31},x_{32},x_{33},w_{11},w_{12},w_{21},w_{22},w_{31},w_{32} \\right)} \\right)}\\\\\\sigma{\\left(\\operatorname{n_{21}}{\\left(x_{11},x_{12},x_{13},x_{21},x_{22},x_{23},x_{31},x_{32},x_{33},w_{11},w_{12},w_{21},w_{22},w_{31},w_{32} \\right)} \\right)} & \\sigma{\\left(\\operatorname{n_{22}}{\\left(x_{11},x_{12},x_{13},x_{21},x_{22},x_{23},x_{31},x_{32},x_{33},w_{11},w_{12},w_{21},w_{22},w_{31},w_{32} \\right)} \\right)}\\\\\\sigma{\\left(\\operatorname{n_{31}}{\\left(x_{11},x_{12},x_{13},x_{21},x_{22},x_{23},x_{31},x_{32},x_{33},w_{11},w_{12},w_{21},w_{22},w_{31},w_{32} \\right)} \\right)} & \\sigma{\\left(\\operatorname{n_{32}}{\\left(x_{11},x_{12},x_{13},x_{21},x_{22},x_{23},x_{31},x_{32},x_{33},w_{11},w_{12},w_{21},w_{22},w_{31},w_{32} \\right)} \\right)}\\end{matrix}\\right]$"
      ],
      "text/plain": [
       "Derivative(sigma(n_11(x_11, x_12, x_13, x_21, x_22, x_23, x_31, x_32, x_33, w_11, w_12, w_21, w_22, w_31, w_32)) + sigma(n_12(x_11, x_12, x_13, x_21, x_22, x_23, x_31, x_32, x_33, w_11, w_12, w_21, w_22, w_31, w_32)) + sigma(n_21(x_11, x_12, x_13, x_21, x_22, x_23, x_31, x_32, x_33, w_11, w_12, w_21, w_22, w_31, w_32)) + sigma(n_22(x_11, x_12, x_13, x_21, x_22, x_23, x_31, x_32, x_33, w_11, w_12, w_21, w_22, w_31, w_32)) + sigma(n_31(x_11, x_12, x_13, x_21, x_22, x_23, x_31, x_32, x_33, w_11, w_12, w_21, w_22, w_31, w_32)) + sigma(n_32(x_11, x_12, x_13, x_21, x_22, x_23, x_31, x_32, x_33, w_11, w_12, w_21, w_22, w_31, w_32)), Matrix([\n",
       "[sigma(n_11(x_11, x_12, x_13, x_21, x_22, x_23, x_31, x_32, x_33, w_11, w_12, w_21, w_22, w_31, w_32)), sigma(n_12(x_11, x_12, x_13, x_21, x_22, x_23, x_31, x_32, x_33, w_11, w_12, w_21, w_22, w_31, w_32))],\n",
       "[sigma(n_21(x_11, x_12, x_13, x_21, x_22, x_23, x_31, x_32, x_33, w_11, w_12, w_21, w_22, w_31, w_32)), sigma(n_22(x_11, x_12, x_13, x_21, x_22, x_23, x_31, x_32, x_33, w_11, w_12, w_21, w_22, w_31, w_32))],\n",
       "[sigma(n_31(x_11, x_12, x_13, x_21, x_22, x_23, x_31, x_32, x_33, w_11, w_12, w_21, w_22, w_31, w_32)), sigma(n_32(x_11, x_12, x_13, x_21, x_22, x_23, x_31, x_32, x_33, w_11, w_12, w_21, w_22, w_31, w_32))]]))*Derivative(Matrix([\n",
       "[n_11(x_11, x_12, x_13, x_21, x_22, x_23, x_31, x_32, x_33, w_11, w_12, w_21, w_22, w_31, w_32), n_12(x_11, x_12, x_13, x_21, x_22, x_23, x_31, x_32, x_33, w_11, w_12, w_21, w_22, w_31, w_32)],\n",
       "[n_21(x_11, x_12, x_13, x_21, x_22, x_23, x_31, x_32, x_33, w_11, w_12, w_21, w_22, w_31, w_32), n_22(x_11, x_12, x_13, x_21, x_22, x_23, x_31, x_32, x_33, w_11, w_12, w_21, w_22, w_31, w_32)],\n",
       "[n_31(x_11, x_12, x_13, x_21, x_22, x_23, x_31, x_32, x_33, w_11, w_12, w_21, w_22, w_31, w_32), n_32(x_11, x_12, x_13, x_21, x_22, x_23, x_31, x_32, x_33, w_11, w_12, w_21, w_22, w_31, w_32)]]), Matrix([\n",
       "[x_11, x_12, x_13],\n",
       "[x_21, x_22, x_23],\n",
       "[x_31, x_32, x_33]]))*Derivative(Matrix([\n",
       "[sigma(n_11(x_11, x_12, x_13, x_21, x_22, x_23, x_31, x_32, x_33, w_11, w_12, w_21, w_22, w_31, w_32)), sigma(n_12(x_11, x_12, x_13, x_21, x_22, x_23, x_31, x_32, x_33, w_11, w_12, w_21, w_22, w_31, w_32))],\n",
       "[sigma(n_21(x_11, x_12, x_13, x_21, x_22, x_23, x_31, x_32, x_33, w_11, w_12, w_21, w_22, w_31, w_32)), sigma(n_22(x_11, x_12, x_13, x_21, x_22, x_23, x_31, x_32, x_33, w_11, w_12, w_21, w_22, w_31, w_32))],\n",
       "[sigma(n_31(x_11, x_12, x_13, x_21, x_22, x_23, x_31, x_32, x_33, w_11, w_12, w_21, w_22, w_31, w_32)), sigma(n_32(x_11, x_12, x_13, x_21, x_22, x_23, x_31, x_32, x_33, w_11, w_12, w_21, w_22, w_31, w_32))]]), Matrix([\n",
       "[n_11(x_11, x_12, x_13, x_21, x_22, x_23, x_31, x_32, x_33, w_11, w_12, w_21, w_22, w_31, w_32), n_12(x_11, x_12, x_13, x_21, x_22, x_23, x_31, x_32, x_33, w_11, w_12, w_21, w_22, w_31, w_32)],\n",
       "[n_21(x_11, x_12, x_13, x_21, x_22, x_23, x_31, x_32, x_33, w_11, w_12, w_21, w_22, w_31, w_32), n_22(x_11, x_12, x_13, x_21, x_22, x_23, x_31, x_32, x_33, w_11, w_12, w_21, w_22, w_31, w_32)],\n",
       "[n_31(x_11, x_12, x_13, x_21, x_22, x_23, x_31, x_32, x_33, w_11, w_12, w_21, w_22, w_31, w_32), n_32(x_11, x_12, x_13, x_21, x_22, x_23, x_31, x_32, x_33, w_11, w_12, w_21, w_22, w_31, w_32)]]))"
      ]
     },
     "execution_count": 1,
     "metadata": {},
     "output_type": "execute_result"
    }
   ],
   "source": [
    "\n",
    "long = elem.subs({A:X, B:W}).replace(n, vN).replace(sigmaApply, sigmaApply_).replace(lambd, lambd_).subs(elemToSpecFuncArgsD)\n",
    "long"
   ]
  },
  {
   "cell_type": "code",
   "execution_count": 147,
   "metadata": {
    "execution": {
     "iopub.execute_input": "2020-09-21T06:34:01.496004Z",
     "iopub.status.busy": "2020-09-21T06:34:01.494406Z",
     "iopub.status.idle": "2020-09-21T06:34:01.530986Z",
     "shell.execute_reply": "2020-09-21T06:34:01.532223Z"
    },
    "lines_to_next_cell": 0,
    "title": "codecell"
   },
   "outputs": [
    {
     "data": {
      "text/latex": [
       "$\\displaystyle \\frac{d}{d X} N \\frac{\\partial}{\\partial N} \\left[\\begin{matrix}\\sigma{\\left(n_{11} \\right)} & \\sigma{\\left(n_{12} \\right)}\\\\\\sigma{\\left(n_{21} \\right)} & \\sigma{\\left(n_{22} \\right)}\\\\\\sigma{\\left(n_{31} \\right)} & \\sigma{\\left(n_{32} \\right)}\\end{matrix}\\right] \\frac{\\partial}{\\partial \\left[\\begin{matrix}\\sigma{\\left(n_{11} \\right)} & \\sigma{\\left(n_{12} \\right)}\\\\\\sigma{\\left(n_{21} \\right)} & \\sigma{\\left(n_{22} \\right)}\\\\\\sigma{\\left(n_{31} \\right)} & \\sigma{\\left(n_{32} \\right)}\\end{matrix}\\right]} \\lambda{\\left(\\left[\\begin{matrix}\\sigma{\\left(n_{11} \\right)} & \\sigma{\\left(n_{12} \\right)}\\\\\\sigma{\\left(n_{21} \\right)} & \\sigma{\\left(n_{22} \\right)}\\\\\\sigma{\\left(n_{31} \\right)} & \\sigma{\\left(n_{32} \\right)}\\end{matrix}\\right] \\right)}$"
      ],
      "text/plain": [
       "Derivative(N, X)*Derivative(Matrix([\n",
       "[sigma(n_11), sigma(n_12)],\n",
       "[sigma(n_21), sigma(n_22)],\n",
       "[sigma(n_31), sigma(n_32)]]), N)*Derivative(lambda(Matrix([\n",
       "[sigma(n_11), sigma(n_12)],\n",
       "[sigma(n_21), sigma(n_22)],\n",
       "[sigma(n_31), sigma(n_32)]])), Matrix([\n",
       "[sigma(n_11), sigma(n_12)],\n",
       "[sigma(n_21), sigma(n_22)],\n",
       "[sigma(n_31), sigma(n_32)]]))"
      ]
     },
     "execution_count": 1,
     "metadata": {},
     "output_type": "execute_result"
    }
   ],
   "source": [
    "# short version again:\n",
    "short"
   ]
  },
  {
   "cell_type": "code",
   "execution_count": 148,
   "metadata": {
    "execution": {
     "iopub.execute_input": "2020-09-21T06:34:01.541654Z",
     "iopub.status.busy": "2020-09-21T06:34:01.539261Z",
     "iopub.status.idle": "2020-09-21T06:34:01.551222Z",
     "shell.execute_reply": "2020-09-21T06:34:01.553906Z"
    },
    "lines_to_next_cell": 0,
    "title": "codecell"
   },
   "outputs": [],
   "source": [
    "# long.doit() # error as base exp thing"
   ]
  },
  {
   "cell_type": "code",
   "execution_count": 149,
   "metadata": {
    "execution": {
     "iopub.execute_input": "2020-09-21T06:34:01.561620Z",
     "iopub.status.busy": "2020-09-21T06:34:01.557404Z",
     "iopub.status.idle": "2020-09-21T06:34:01.675419Z",
     "shell.execute_reply": "2020-09-21T06:34:01.684932Z"
    },
    "lines_to_next_cell": 0,
    "title": "codecell"
   },
   "outputs": [
    {
     "data": {
      "text/latex": [
       "$\\displaystyle \\frac{\\partial}{\\partial \\left[\\begin{matrix}\\sigma{\\left(n_{11} \\right)} & \\sigma{\\left(n_{12} \\right)}\\\\\\sigma{\\left(n_{21} \\right)} & \\sigma{\\left(n_{22} \\right)}\\\\\\sigma{\\left(n_{31} \\right)} & \\sigma{\\left(n_{32} \\right)}\\end{matrix}\\right]} \\left(\\sigma{\\left(n_{11} \\right)} + \\sigma{\\left(n_{12} \\right)} + \\sigma{\\left(n_{21} \\right)} + \\sigma{\\left(n_{22} \\right)} + \\sigma{\\left(n_{31} \\right)} + \\sigma{\\left(n_{32} \\right)}\\right) \\frac{d}{d X} N \\frac{\\partial}{\\partial N} \\left[\\begin{matrix}\\sigma{\\left(n_{11} \\right)} & \\sigma{\\left(n_{12} \\right)}\\\\\\sigma{\\left(n_{21} \\right)} & \\sigma{\\left(n_{22} \\right)}\\\\\\sigma{\\left(n_{31} \\right)} & \\sigma{\\left(n_{32} \\right)}\\end{matrix}\\right]$"
      ],
      "text/plain": [
       "Derivative(sigma(n_11) + sigma(n_12) + sigma(n_21) + sigma(n_22) + sigma(n_31) + sigma(n_32), Matrix([\n",
       "[sigma(n_11), sigma(n_12)],\n",
       "[sigma(n_21), sigma(n_22)],\n",
       "[sigma(n_31), sigma(n_32)]]))*Derivative(N, X)*Derivative(Matrix([\n",
       "[sigma(n_11), sigma(n_12)],\n",
       "[sigma(n_21), sigma(n_22)],\n",
       "[sigma(n_31), sigma(n_32)]]), N)"
      ]
     },
     "execution_count": 1,
     "metadata": {},
     "output_type": "execute_result"
    }
   ],
   "source": [
    "# Trying step by step replacement approach:\n",
    "elem.subs({A:X, B:W}).replace(n, vN).replace(sigmaApply, sigmaApply_).replace(lambd, lambd_).replace(Nelem, Ns).replace(X,A)"
   ]
  },
  {
   "cell_type": "code",
   "execution_count": 150,
   "metadata": {
    "execution": {
     "iopub.execute_input": "2020-09-21T06:34:01.689959Z",
     "iopub.status.busy": "2020-09-21T06:34:01.688395Z",
     "iopub.status.idle": "2020-09-21T06:34:01.801700Z",
     "shell.execute_reply": "2020-09-21T06:34:01.802822Z"
    },
    "lines_to_next_cell": 0,
    "title": "codecell"
   },
   "outputs": [
    {
     "data": {
      "text/latex": [
       "$\\displaystyle \\left[\\begin{matrix}\\frac{d}{d X} N \\frac{\\partial}{\\partial N} \\left[\\begin{matrix}\\sigma{\\left(n_{11} \\right)} & \\sigma{\\left(n_{12} \\right)}\\\\\\sigma{\\left(n_{21} \\right)} & \\sigma{\\left(n_{22} \\right)}\\\\\\sigma{\\left(n_{31} \\right)} & \\sigma{\\left(n_{32} \\right)}\\end{matrix}\\right] & \\frac{d}{d X} N \\frac{\\partial}{\\partial N} \\left[\\begin{matrix}\\sigma{\\left(n_{11} \\right)} & \\sigma{\\left(n_{12} \\right)}\\\\\\sigma{\\left(n_{21} \\right)} & \\sigma{\\left(n_{22} \\right)}\\\\\\sigma{\\left(n_{31} \\right)} & \\sigma{\\left(n_{32} \\right)}\\end{matrix}\\right]\\\\\\frac{d}{d X} N \\frac{\\partial}{\\partial N} \\left[\\begin{matrix}\\sigma{\\left(n_{11} \\right)} & \\sigma{\\left(n_{12} \\right)}\\\\\\sigma{\\left(n_{21} \\right)} & \\sigma{\\left(n_{22} \\right)}\\\\\\sigma{\\left(n_{31} \\right)} & \\sigma{\\left(n_{32} \\right)}\\end{matrix}\\right] & \\frac{d}{d X} N \\frac{\\partial}{\\partial N} \\left[\\begin{matrix}\\sigma{\\left(n_{11} \\right)} & \\sigma{\\left(n_{12} \\right)}\\\\\\sigma{\\left(n_{21} \\right)} & \\sigma{\\left(n_{22} \\right)}\\\\\\sigma{\\left(n_{31} \\right)} & \\sigma{\\left(n_{32} \\right)}\\end{matrix}\\right]\\\\\\frac{d}{d X} N \\frac{\\partial}{\\partial N} \\left[\\begin{matrix}\\sigma{\\left(n_{11} \\right)} & \\sigma{\\left(n_{12} \\right)}\\\\\\sigma{\\left(n_{21} \\right)} & \\sigma{\\left(n_{22} \\right)}\\\\\\sigma{\\left(n_{31} \\right)} & \\sigma{\\left(n_{32} \\right)}\\end{matrix}\\right] & \\frac{d}{d X} N \\frac{\\partial}{\\partial N} \\left[\\begin{matrix}\\sigma{\\left(n_{11} \\right)} & \\sigma{\\left(n_{12} \\right)}\\\\\\sigma{\\left(n_{21} \\right)} & \\sigma{\\left(n_{22} \\right)}\\\\\\sigma{\\left(n_{31} \\right)} & \\sigma{\\left(n_{32} \\right)}\\end{matrix}\\right]\\end{matrix}\\right]$"
      ],
      "text/plain": [
       "Matrix([\n",
       "[Derivative(N, X)*Derivative(Matrix([\n",
       "[sigma(n_11), sigma(n_12)],\n",
       "[sigma(n_21), sigma(n_22)],\n",
       "[sigma(n_31), sigma(n_32)]]), N), Derivative(N, X)*Derivative(Matrix([\n",
       "[sigma(n_11), sigma(n_12)],\n",
       "[sigma(n_21), sigma(n_22)],\n",
       "[sigma(n_31), sigma(n_32)]]), N)],\n",
       "[Derivative(N, X)*Derivative(Matrix([\n",
       "[sigma(n_11), sigma(n_12)],\n",
       "[sigma(n_21), sigma(n_22)],\n",
       "[sigma(n_31), sigma(n_32)]]), N), Derivative(N, X)*Derivative(Matrix([\n",
       "[sigma(n_11), sigma(n_12)],\n",
       "[sigma(n_21), sigma(n_22)],\n",
       "[sigma(n_31), sigma(n_32)]]), N)],\n",
       "[Derivative(N, X)*Derivative(Matrix([\n",
       "[sigma(n_11), sigma(n_12)],\n",
       "[sigma(n_21), sigma(n_22)],\n",
       "[sigma(n_31), sigma(n_32)]]), N), Derivative(N, X)*Derivative(Matrix([\n",
       "[sigma(n_11), sigma(n_12)],\n",
       "[sigma(n_21), sigma(n_22)],\n",
       "[sigma(n_31), sigma(n_32)]]), N)]])"
      ]
     },
     "execution_count": 1,
     "metadata": {},
     "output_type": "execute_result"
    }
   ],
   "source": [
    "# Seeing if replacing the order of replacing Ns matrix with Xs matrix makes a difference: ...\n",
    "step = elem.subs({A:X, B:W}).replace(n, vN).replace(sigmaApply, sigmaApply_).replace(lambd, lambd_).replace(Nelem, Ns).replace(X,A).doit()\n",
    "step"
   ]
  },
  {
   "cell_type": "code",
   "execution_count": 151,
   "metadata": {
    "execution": {
     "iopub.execute_input": "2020-09-21T06:34:01.807848Z",
     "iopub.status.busy": "2020-09-21T06:34:01.806346Z",
     "iopub.status.idle": "2020-09-21T06:34:01.883390Z",
     "shell.execute_reply": "2020-09-21T06:34:01.884479Z"
    },
    "title": "codecell"
   },
   "outputs": [
    {
     "data": {
      "text/latex": [
       "$\\displaystyle \\left[\\begin{matrix}\\frac{d}{d X} N \\frac{\\partial}{\\partial N} \\left[\\begin{matrix}\\sigma{\\left(n_{11} \\right)} & \\sigma{\\left(n_{12} \\right)}\\\\\\sigma{\\left(n_{21} \\right)} & \\sigma{\\left(n_{22} \\right)}\\\\\\sigma{\\left(n_{31} \\right)} & \\sigma{\\left(n_{32} \\right)}\\end{matrix}\\right] & \\frac{d}{d X} N \\frac{\\partial}{\\partial N} \\left[\\begin{matrix}\\sigma{\\left(n_{11} \\right)} & \\sigma{\\left(n_{12} \\right)}\\\\\\sigma{\\left(n_{21} \\right)} & \\sigma{\\left(n_{22} \\right)}\\\\\\sigma{\\left(n_{31} \\right)} & \\sigma{\\left(n_{32} \\right)}\\end{matrix}\\right]\\\\\\frac{d}{d X} N \\frac{\\partial}{\\partial N} \\left[\\begin{matrix}\\sigma{\\left(n_{11} \\right)} & \\sigma{\\left(n_{12} \\right)}\\\\\\sigma{\\left(n_{21} \\right)} & \\sigma{\\left(n_{22} \\right)}\\\\\\sigma{\\left(n_{31} \\right)} & \\sigma{\\left(n_{32} \\right)}\\end{matrix}\\right] & \\frac{d}{d X} N \\frac{\\partial}{\\partial N} \\left[\\begin{matrix}\\sigma{\\left(n_{11} \\right)} & \\sigma{\\left(n_{12} \\right)}\\\\\\sigma{\\left(n_{21} \\right)} & \\sigma{\\left(n_{22} \\right)}\\\\\\sigma{\\left(n_{31} \\right)} & \\sigma{\\left(n_{32} \\right)}\\end{matrix}\\right]\\\\\\frac{d}{d X} N \\frac{\\partial}{\\partial N} \\left[\\begin{matrix}\\sigma{\\left(n_{11} \\right)} & \\sigma{\\left(n_{12} \\right)}\\\\\\sigma{\\left(n_{21} \\right)} & \\sigma{\\left(n_{22} \\right)}\\\\\\sigma{\\left(n_{31} \\right)} & \\sigma{\\left(n_{32} \\right)}\\end{matrix}\\right] & \\frac{d}{d X} N \\frac{\\partial}{\\partial N} \\left[\\begin{matrix}\\sigma{\\left(n_{11} \\right)} & \\sigma{\\left(n_{12} \\right)}\\\\\\sigma{\\left(n_{21} \\right)} & \\sigma{\\left(n_{22} \\right)}\\\\\\sigma{\\left(n_{31} \\right)} & \\sigma{\\left(n_{32} \\right)}\\end{matrix}\\right]\\end{matrix}\\right]$"
      ],
      "text/plain": [
       "Matrix([\n",
       "[Derivative(N, X)*Derivative(Matrix([\n",
       "[sigma(n_11), sigma(n_12)],\n",
       "[sigma(n_21), sigma(n_22)],\n",
       "[sigma(n_31), sigma(n_32)]]), N), Derivative(N, X)*Derivative(Matrix([\n",
       "[sigma(n_11), sigma(n_12)],\n",
       "[sigma(n_21), sigma(n_22)],\n",
       "[sigma(n_31), sigma(n_32)]]), N)],\n",
       "[Derivative(N, X)*Derivative(Matrix([\n",
       "[sigma(n_11), sigma(n_12)],\n",
       "[sigma(n_21), sigma(n_22)],\n",
       "[sigma(n_31), sigma(n_32)]]), N), Derivative(N, X)*Derivative(Matrix([\n",
       "[sigma(n_11), sigma(n_12)],\n",
       "[sigma(n_21), sigma(n_22)],\n",
       "[sigma(n_31), sigma(n_32)]]), N)],\n",
       "[Derivative(N, X)*Derivative(Matrix([\n",
       "[sigma(n_11), sigma(n_12)],\n",
       "[sigma(n_21), sigma(n_22)],\n",
       "[sigma(n_31), sigma(n_32)]]), N), Derivative(N, X)*Derivative(Matrix([\n",
       "[sigma(n_11), sigma(n_12)],\n",
       "[sigma(n_21), sigma(n_22)],\n",
       "[sigma(n_31), sigma(n_32)]]), N)]])"
      ]
     },
     "execution_count": 1,
     "metadata": {},
     "output_type": "execute_result"
    }
   ],
   "source": [
    "elem.subs({A:X, B:W}).replace(n, vN).replace(sigmaApply, sigmaApply_).replace(lambd, lambd_).replace(X,A).replace(Nelem, Ns).doit()"
   ]
  },
  {
   "cell_type": "code",
   "execution_count": 152,
   "metadata": {
    "execution": {
     "iopub.execute_input": "2020-09-21T06:34:01.889464Z",
     "iopub.status.busy": "2020-09-21T06:34:01.887884Z",
     "iopub.status.idle": "2020-09-21T06:34:01.951111Z",
     "shell.execute_reply": "2020-09-21T06:34:01.952205Z"
    },
    "lines_to_next_cell": 0,
    "title": "codecell"
   },
   "outputs": [
    {
     "data": {
      "text/latex": [
       "$\\displaystyle \\left[\\begin{matrix}\\frac{\\partial}{\\partial X} \\left[\\begin{matrix}n_{11} & n_{12}\\\\n_{21} & n_{22}\\\\n_{31} & n_{32}\\end{matrix}\\right] \\frac{\\partial}{\\partial \\left[\\begin{matrix}n_{11} & n_{12}\\\\n_{21} & n_{22}\\\\n_{31} & n_{32}\\end{matrix}\\right]} \\left[\\begin{matrix}\\sigma{\\left(n_{11} \\right)} & \\sigma{\\left(n_{12} \\right)}\\\\\\sigma{\\left(n_{21} \\right)} & \\sigma{\\left(n_{22} \\right)}\\\\\\sigma{\\left(n_{31} \\right)} & \\sigma{\\left(n_{32} \\right)}\\end{matrix}\\right] & \\frac{\\partial}{\\partial X} \\left[\\begin{matrix}n_{11} & n_{12}\\\\n_{21} & n_{22}\\\\n_{31} & n_{32}\\end{matrix}\\right] \\frac{\\partial}{\\partial \\left[\\begin{matrix}n_{11} & n_{12}\\\\n_{21} & n_{22}\\\\n_{31} & n_{32}\\end{matrix}\\right]} \\left[\\begin{matrix}\\sigma{\\left(n_{11} \\right)} & \\sigma{\\left(n_{12} \\right)}\\\\\\sigma{\\left(n_{21} \\right)} & \\sigma{\\left(n_{22} \\right)}\\\\\\sigma{\\left(n_{31} \\right)} & \\sigma{\\left(n_{32} \\right)}\\end{matrix}\\right]\\\\\\frac{\\partial}{\\partial X} \\left[\\begin{matrix}n_{11} & n_{12}\\\\n_{21} & n_{22}\\\\n_{31} & n_{32}\\end{matrix}\\right] \\frac{\\partial}{\\partial \\left[\\begin{matrix}n_{11} & n_{12}\\\\n_{21} & n_{22}\\\\n_{31} & n_{32}\\end{matrix}\\right]} \\left[\\begin{matrix}\\sigma{\\left(n_{11} \\right)} & \\sigma{\\left(n_{12} \\right)}\\\\\\sigma{\\left(n_{21} \\right)} & \\sigma{\\left(n_{22} \\right)}\\\\\\sigma{\\left(n_{31} \\right)} & \\sigma{\\left(n_{32} \\right)}\\end{matrix}\\right] & \\frac{\\partial}{\\partial X} \\left[\\begin{matrix}n_{11} & n_{12}\\\\n_{21} & n_{22}\\\\n_{31} & n_{32}\\end{matrix}\\right] \\frac{\\partial}{\\partial \\left[\\begin{matrix}n_{11} & n_{12}\\\\n_{21} & n_{22}\\\\n_{31} & n_{32}\\end{matrix}\\right]} \\left[\\begin{matrix}\\sigma{\\left(n_{11} \\right)} & \\sigma{\\left(n_{12} \\right)}\\\\\\sigma{\\left(n_{21} \\right)} & \\sigma{\\left(n_{22} \\right)}\\\\\\sigma{\\left(n_{31} \\right)} & \\sigma{\\left(n_{32} \\right)}\\end{matrix}\\right]\\\\\\frac{\\partial}{\\partial X} \\left[\\begin{matrix}n_{11} & n_{12}\\\\n_{21} & n_{22}\\\\n_{31} & n_{32}\\end{matrix}\\right] \\frac{\\partial}{\\partial \\left[\\begin{matrix}n_{11} & n_{12}\\\\n_{21} & n_{22}\\\\n_{31} & n_{32}\\end{matrix}\\right]} \\left[\\begin{matrix}\\sigma{\\left(n_{11} \\right)} & \\sigma{\\left(n_{12} \\right)}\\\\\\sigma{\\left(n_{21} \\right)} & \\sigma{\\left(n_{22} \\right)}\\\\\\sigma{\\left(n_{31} \\right)} & \\sigma{\\left(n_{32} \\right)}\\end{matrix}\\right] & \\frac{\\partial}{\\partial X} \\left[\\begin{matrix}n_{11} & n_{12}\\\\n_{21} & n_{22}\\\\n_{31} & n_{32}\\end{matrix}\\right] \\frac{\\partial}{\\partial \\left[\\begin{matrix}n_{11} & n_{12}\\\\n_{21} & n_{22}\\\\n_{31} & n_{32}\\end{matrix}\\right]} \\left[\\begin{matrix}\\sigma{\\left(n_{11} \\right)} & \\sigma{\\left(n_{12} \\right)}\\\\\\sigma{\\left(n_{21} \\right)} & \\sigma{\\left(n_{22} \\right)}\\\\\\sigma{\\left(n_{31} \\right)} & \\sigma{\\left(n_{32} \\right)}\\end{matrix}\\right]\\end{matrix}\\right]$"
      ],
      "text/plain": [
       "Matrix([\n",
       "[Derivative(Matrix([\n",
       "[n_11, n_12],\n",
       "[n_21, n_22],\n",
       "[n_31, n_32]]), X)*Derivative(Matrix([\n",
       "[sigma(n_11), sigma(n_12)],\n",
       "[sigma(n_21), sigma(n_22)],\n",
       "[sigma(n_31), sigma(n_32)]]), Matrix([\n",
       "[n_11, n_12],\n",
       "[n_21, n_22],\n",
       "[n_31, n_32]])), Derivative(Matrix([\n",
       "[n_11, n_12],\n",
       "[n_21, n_22],\n",
       "[n_31, n_32]]), X)*Derivative(Matrix([\n",
       "[sigma(n_11), sigma(n_12)],\n",
       "[sigma(n_21), sigma(n_22)],\n",
       "[sigma(n_31), sigma(n_32)]]), Matrix([\n",
       "[n_11, n_12],\n",
       "[n_21, n_22],\n",
       "[n_31, n_32]]))],\n",
       "[Derivative(Matrix([\n",
       "[n_11, n_12],\n",
       "[n_21, n_22],\n",
       "[n_31, n_32]]), X)*Derivative(Matrix([\n",
       "[sigma(n_11), sigma(n_12)],\n",
       "[sigma(n_21), sigma(n_22)],\n",
       "[sigma(n_31), sigma(n_32)]]), Matrix([\n",
       "[n_11, n_12],\n",
       "[n_21, n_22],\n",
       "[n_31, n_32]])), Derivative(Matrix([\n",
       "[n_11, n_12],\n",
       "[n_21, n_22],\n",
       "[n_31, n_32]]), X)*Derivative(Matrix([\n",
       "[sigma(n_11), sigma(n_12)],\n",
       "[sigma(n_21), sigma(n_22)],\n",
       "[sigma(n_31), sigma(n_32)]]), Matrix([\n",
       "[n_11, n_12],\n",
       "[n_21, n_22],\n",
       "[n_31, n_32]]))],\n",
       "[Derivative(Matrix([\n",
       "[n_11, n_12],\n",
       "[n_21, n_22],\n",
       "[n_31, n_32]]), X)*Derivative(Matrix([\n",
       "[sigma(n_11), sigma(n_12)],\n",
       "[sigma(n_21), sigma(n_22)],\n",
       "[sigma(n_31), sigma(n_32)]]), Matrix([\n",
       "[n_11, n_12],\n",
       "[n_21, n_22],\n",
       "[n_31, n_32]])), Derivative(Matrix([\n",
       "[n_11, n_12],\n",
       "[n_21, n_22],\n",
       "[n_31, n_32]]), X)*Derivative(Matrix([\n",
       "[sigma(n_11), sigma(n_12)],\n",
       "[sigma(n_21), sigma(n_22)],\n",
       "[sigma(n_31), sigma(n_32)]]), Matrix([\n",
       "[n_11, n_12],\n",
       "[n_21, n_22],\n",
       "[n_31, n_32]]))]])"
      ]
     },
     "execution_count": 1,
     "metadata": {},
     "output_type": "execute_result"
    }
   ],
   "source": [
    "step.replace(Ns, Nelem)"
   ]
  },
  {
   "cell_type": "code",
   "execution_count": 153,
   "metadata": {
    "execution": {
     "iopub.execute_input": "2020-09-21T06:34:01.957255Z",
     "iopub.status.busy": "2020-09-21T06:34:01.955747Z",
     "iopub.status.idle": "2020-09-21T06:34:02.046708Z",
     "shell.execute_reply": "2020-09-21T06:34:02.048157Z"
    },
    "title": "codecell"
   },
   "outputs": [
    {
     "data": {
      "text/latex": [
       "$\\displaystyle \\frac{\\partial}{\\partial \\left[\\begin{matrix}x_{11} & x_{12} & x_{13}\\\\x_{21} & x_{22} & x_{23}\\\\x_{31} & x_{32} & x_{33}\\end{matrix}\\right]} \\left[\\begin{matrix}\\operatorname{n_{11}}{\\left(x_{11},x_{12},x_{13},x_{21},x_{22},x_{23},x_{31},x_{32},x_{33},w_{11},w_{12},w_{21},w_{22},w_{31},w_{32} \\right)} & \\operatorname{n_{12}}{\\left(x_{11},x_{12},x_{13},x_{21},x_{22},x_{23},x_{31},x_{32},x_{33},w_{11},w_{12},w_{21},w_{22},w_{31},w_{32} \\right)}\\\\\\operatorname{n_{21}}{\\left(x_{11},x_{12},x_{13},x_{21},x_{22},x_{23},x_{31},x_{32},x_{33},w_{11},w_{12},w_{21},w_{22},w_{31},w_{32} \\right)} & \\operatorname{n_{22}}{\\left(x_{11},x_{12},x_{13},x_{21},x_{22},x_{23},x_{31},x_{32},x_{33},w_{11},w_{12},w_{21},w_{22},w_{31},w_{32} \\right)}\\\\\\operatorname{n_{31}}{\\left(x_{11},x_{12},x_{13},x_{21},x_{22},x_{23},x_{31},x_{32},x_{33},w_{11},w_{12},w_{21},w_{22},w_{31},w_{32} \\right)} & \\operatorname{n_{32}}{\\left(x_{11},x_{12},x_{13},x_{21},x_{22},x_{23},x_{31},x_{32},x_{33},w_{11},w_{12},w_{21},w_{22},w_{31},w_{32} \\right)}\\end{matrix}\\right] \\frac{\\partial}{\\partial \\left[\\begin{matrix}\\operatorname{n_{11}}{\\left(x_{11},x_{12},x_{13},x_{21},x_{22},x_{23},x_{31},x_{32},x_{33},w_{11},w_{12},w_{21},w_{22},w_{31},w_{32} \\right)} & \\operatorname{n_{12}}{\\left(x_{11},x_{12},x_{13},x_{21},x_{22},x_{23},x_{31},x_{32},x_{33},w_{11},w_{12},w_{21},w_{22},w_{31},w_{32} \\right)}\\\\\\operatorname{n_{21}}{\\left(x_{11},x_{12},x_{13},x_{21},x_{22},x_{23},x_{31},x_{32},x_{33},w_{11},w_{12},w_{21},w_{22},w_{31},w_{32} \\right)} & \\operatorname{n_{22}}{\\left(x_{11},x_{12},x_{13},x_{21},x_{22},x_{23},x_{31},x_{32},x_{33},w_{11},w_{12},w_{21},w_{22},w_{31},w_{32} \\right)}\\\\\\operatorname{n_{31}}{\\left(x_{11},x_{12},x_{13},x_{21},x_{22},x_{23},x_{31},x_{32},x_{33},w_{11},w_{12},w_{21},w_{22},w_{31},w_{32} \\right)} & \\operatorname{n_{32}}{\\left(x_{11},x_{12},x_{13},x_{21},x_{22},x_{23},x_{31},x_{32},x_{33},w_{11},w_{12},w_{21},w_{22},w_{31},w_{32} \\right)}\\end{matrix}\\right]} \\left[\\begin{matrix}\\sigma{\\left(\\operatorname{n_{11}}{\\left(x_{11},x_{12},x_{13},x_{21},x_{22},x_{23},x_{31},x_{32},x_{33},w_{11},w_{12},w_{21},w_{22},w_{31},w_{32} \\right)} \\right)} & \\sigma{\\left(\\operatorname{n_{12}}{\\left(x_{11},x_{12},x_{13},x_{21},x_{22},x_{23},x_{31},x_{32},x_{33},w_{11},w_{12},w_{21},w_{22},w_{31},w_{32} \\right)} \\right)}\\\\\\sigma{\\left(\\operatorname{n_{21}}{\\left(x_{11},x_{12},x_{13},x_{21},x_{22},x_{23},x_{31},x_{32},x_{33},w_{11},w_{12},w_{21},w_{22},w_{31},w_{32} \\right)} \\right)} & \\sigma{\\left(\\operatorname{n_{22}}{\\left(x_{11},x_{12},x_{13},x_{21},x_{22},x_{23},x_{31},x_{32},x_{33},w_{11},w_{12},w_{21},w_{22},w_{31},w_{32} \\right)} \\right)}\\\\\\sigma{\\left(\\operatorname{n_{31}}{\\left(x_{11},x_{12},x_{13},x_{21},x_{22},x_{23},x_{31},x_{32},x_{33},w_{11},w_{12},w_{21},w_{22},w_{31},w_{32} \\right)} \\right)} & \\sigma{\\left(\\operatorname{n_{32}}{\\left(x_{11},x_{12},x_{13},x_{21},x_{22},x_{23},x_{31},x_{32},x_{33},w_{11},w_{12},w_{21},w_{22},w_{31},w_{32} \\right)} \\right)}\\end{matrix}\\right]$"
      ],
      "text/plain": [
       "Derivative(Matrix([\n",
       "[n_11(x_11, x_12, x_13, x_21, x_22, x_23, x_31, x_32, x_33, w_11, w_12, w_21, w_22, w_31, w_32), n_12(x_11, x_12, x_13, x_21, x_22, x_23, x_31, x_32, x_33, w_11, w_12, w_21, w_22, w_31, w_32)],\n",
       "[n_21(x_11, x_12, x_13, x_21, x_22, x_23, x_31, x_32, x_33, w_11, w_12, w_21, w_22, w_31, w_32), n_22(x_11, x_12, x_13, x_21, x_22, x_23, x_31, x_32, x_33, w_11, w_12, w_21, w_22, w_31, w_32)],\n",
       "[n_31(x_11, x_12, x_13, x_21, x_22, x_23, x_31, x_32, x_33, w_11, w_12, w_21, w_22, w_31, w_32), n_32(x_11, x_12, x_13, x_21, x_22, x_23, x_31, x_32, x_33, w_11, w_12, w_21, w_22, w_31, w_32)]]), Matrix([\n",
       "[x_11, x_12, x_13],\n",
       "[x_21, x_22, x_23],\n",
       "[x_31, x_32, x_33]]))*Derivative(Matrix([\n",
       "[sigma(n_11(x_11, x_12, x_13, x_21, x_22, x_23, x_31, x_32, x_33, w_11, w_12, w_21, w_22, w_31, w_32)), sigma(n_12(x_11, x_12, x_13, x_21, x_22, x_23, x_31, x_32, x_33, w_11, w_12, w_21, w_22, w_31, w_32))],\n",
       "[sigma(n_21(x_11, x_12, x_13, x_21, x_22, x_23, x_31, x_32, x_33, w_11, w_12, w_21, w_22, w_31, w_32)), sigma(n_22(x_11, x_12, x_13, x_21, x_22, x_23, x_31, x_32, x_33, w_11, w_12, w_21, w_22, w_31, w_32))],\n",
       "[sigma(n_31(x_11, x_12, x_13, x_21, x_22, x_23, x_31, x_32, x_33, w_11, w_12, w_21, w_22, w_31, w_32)), sigma(n_32(x_11, x_12, x_13, x_21, x_22, x_23, x_31, x_32, x_33, w_11, w_12, w_21, w_22, w_31, w_32))]]), Matrix([\n",
       "[n_11(x_11, x_12, x_13, x_21, x_22, x_23, x_31, x_32, x_33, w_11, w_12, w_21, w_22, w_31, w_32), n_12(x_11, x_12, x_13, x_21, x_22, x_23, x_31, x_32, x_33, w_11, w_12, w_21, w_22, w_31, w_32)],\n",
       "[n_21(x_11, x_12, x_13, x_21, x_22, x_23, x_31, x_32, x_33, w_11, w_12, w_21, w_22, w_31, w_32), n_22(x_11, x_12, x_13, x_21, x_22, x_23, x_31, x_32, x_33, w_11, w_12, w_21, w_22, w_31, w_32)],\n",
       "[n_31(x_11, x_12, x_13, x_21, x_22, x_23, x_31, x_32, x_33, w_11, w_12, w_21, w_22, w_31, w_32), n_32(x_11, x_12, x_13, x_21, x_22, x_23, x_31, x_32, x_33, w_11, w_12, w_21, w_22, w_31, w_32)]]))"
      ]
     },
     "execution_count": 1,
     "metadata": {},
     "output_type": "execute_result"
    }
   ],
   "source": [
    "#step.replace(Ns, Nelem).replace(A,X).doit()#error immutable dense array has no attribute as base exp ...\n",
    "elem2 = step[0,0].replace(Ns, Nelem)\n",
    "elem2.replace(A,X).subs(elemToSpecFuncArgsD)"
   ]
  },
  {
   "cell_type": "code",
   "execution_count": 154,
   "metadata": {
    "execution": {
     "iopub.execute_input": "2020-09-21T06:34:02.058501Z",
     "iopub.status.busy": "2020-09-21T06:34:02.057601Z",
     "iopub.status.idle": "2020-09-21T06:34:02.095565Z",
     "shell.execute_reply": "2020-09-21T06:34:02.101233Z"
    },
    "lines_to_next_cell": 0,
    "title": "codecell"
   },
   "outputs": [
    {
     "data": {
      "text/latex": [
       "$\\displaystyle \\left[\\begin{matrix}\\operatorname{n_{11}}{\\left(x_{11},x_{12},x_{13},x_{21},x_{22},x_{23},x_{31},x_{32},x_{33},w_{11},w_{12},w_{21},w_{22},w_{31},w_{32} \\right)} & \\operatorname{n_{12}}{\\left(x_{11},x_{12},x_{13},x_{21},x_{22},x_{23},x_{31},x_{32},x_{33},w_{11},w_{12},w_{21},w_{22},w_{31},w_{32} \\right)}\\\\\\operatorname{n_{21}}{\\left(x_{11},x_{12},x_{13},x_{21},x_{22},x_{23},x_{31},x_{32},x_{33},w_{11},w_{12},w_{21},w_{22},w_{31},w_{32} \\right)} & \\operatorname{n_{22}}{\\left(x_{11},x_{12},x_{13},x_{21},x_{22},x_{23},x_{31},x_{32},x_{33},w_{11},w_{12},w_{21},w_{22},w_{31},w_{32} \\right)}\\\\\\operatorname{n_{31}}{\\left(x_{11},x_{12},x_{13},x_{21},x_{22},x_{23},x_{31},x_{32},x_{33},w_{11},w_{12},w_{21},w_{22},w_{31},w_{32} \\right)} & \\operatorname{n_{32}}{\\left(x_{11},x_{12},x_{13},x_{21},x_{22},x_{23},x_{31},x_{32},x_{33},w_{11},w_{12},w_{21},w_{22},w_{31},w_{32} \\right)}\\end{matrix}\\right]$"
      ],
      "text/plain": [
       "Matrix([\n",
       "[n_11(x_11, x_12, x_13, x_21, x_22, x_23, x_31, x_32, x_33, w_11, w_12, w_21, w_22, w_31, w_32), n_12(x_11, x_12, x_13, x_21, x_22, x_23, x_31, x_32, x_33, w_11, w_12, w_21, w_22, w_31, w_32)],\n",
       "[n_21(x_11, x_12, x_13, x_21, x_22, x_23, x_31, x_32, x_33, w_11, w_12, w_21, w_22, w_31, w_32), n_22(x_11, x_12, x_13, x_21, x_22, x_23, x_31, x_32, x_33, w_11, w_12, w_21, w_22, w_31, w_32)],\n",
       "[n_31(x_11, x_12, x_13, x_21, x_22, x_23, x_31, x_32, x_33, w_11, w_12, w_21, w_22, w_31, w_32), n_32(x_11, x_12, x_13, x_21, x_22, x_23, x_31, x_32, x_33, w_11, w_12, w_21, w_22, w_31, w_32)]])"
      ]
     },
     "execution_count": 1,
     "metadata": {},
     "output_type": "execute_result"
    }
   ],
   "source": [
    "#elem2.replace(A,X).subs(elemToSpecFuncArgsD).doit()\n",
    "F = Nelem.subs(elemToSpecFuncArgsD); F"
   ]
  },
  {
   "cell_type": "code",
   "execution_count": 155,
   "metadata": {
    "execution": {
     "iopub.execute_input": "2020-09-21T06:34:02.114289Z",
     "iopub.status.busy": "2020-09-21T06:34:02.104995Z",
     "iopub.status.idle": "2020-09-21T06:34:02.133960Z",
     "shell.execute_reply": "2020-09-21T06:34:02.135085Z"
    },
    "lines_to_next_cell": 2,
    "title": "codecell"
   },
   "outputs": [
    {
     "data": {
      "text/latex": [
       "$\\displaystyle \\frac{\\partial}{\\partial x_{11}} \\operatorname{n_{11}}{\\left(x_{11},x_{12},x_{13},x_{21},x_{22},x_{23},x_{31},x_{32},x_{33},w_{11},w_{12},w_{21},w_{22},w_{31},w_{32} \\right)}$"
      ],
      "text/plain": [
       "Derivative(n_11(x_11, x_12, x_13, x_21, x_22, x_23, x_31, x_32, x_33, w_11, w_12, w_21, w_22, w_31, w_32), x_11)"
      ]
     },
     "execution_count": 1,
     "metadata": {},
     "output_type": "execute_result"
    }
   ],
   "source": [
    "F[0,0].diff(X[0,0])"
   ]
  },
  {
   "cell_type": "code",
   "execution_count": 156,
   "metadata": {
    "execution": {
     "iopub.execute_input": "2020-09-21T06:34:02.140384Z",
     "iopub.status.busy": "2020-09-21T06:34:02.138891Z",
     "iopub.status.idle": "2020-09-21T06:34:02.194653Z",
     "shell.execute_reply": "2020-09-21T06:34:02.195768Z"
    },
    "lines_to_next_cell": 0,
    "title": "codecell"
   },
   "outputs": [
    {
     "data": {
      "text/latex": [
       "$\\displaystyle \\left[\\begin{matrix}\\frac{\\partial}{\\partial x_{11}} \\operatorname{n_{11}}{\\left(x_{11},x_{12},x_{13},x_{21},x_{22},x_{23},x_{31},x_{32},x_{33},w_{11},w_{12},w_{21},w_{22},w_{31},w_{32} \\right)} & \\frac{\\partial}{\\partial x_{12}} \\operatorname{n_{11}}{\\left(x_{11},x_{12},x_{13},x_{21},x_{22},x_{23},x_{31},x_{32},x_{33},w_{11},w_{12},w_{21},w_{22},w_{31},w_{32} \\right)} & \\frac{\\partial}{\\partial x_{13}} \\operatorname{n_{11}}{\\left(x_{11},x_{12},x_{13},x_{21},x_{22},x_{23},x_{31},x_{32},x_{33},w_{11},w_{12},w_{21},w_{22},w_{31},w_{32} \\right)}\\\\\\frac{\\partial}{\\partial x_{21}} \\operatorname{n_{11}}{\\left(x_{11},x_{12},x_{13},x_{21},x_{22},x_{23},x_{31},x_{32},x_{33},w_{11},w_{12},w_{21},w_{22},w_{31},w_{32} \\right)} & \\frac{\\partial}{\\partial x_{22}} \\operatorname{n_{11}}{\\left(x_{11},x_{12},x_{13},x_{21},x_{22},x_{23},x_{31},x_{32},x_{33},w_{11},w_{12},w_{21},w_{22},w_{31},w_{32} \\right)} & \\frac{\\partial}{\\partial x_{23}} \\operatorname{n_{11}}{\\left(x_{11},x_{12},x_{13},x_{21},x_{22},x_{23},x_{31},x_{32},x_{33},w_{11},w_{12},w_{21},w_{22},w_{31},w_{32} \\right)}\\\\\\frac{\\partial}{\\partial x_{31}} \\operatorname{n_{11}}{\\left(x_{11},x_{12},x_{13},x_{21},x_{22},x_{23},x_{31},x_{32},x_{33},w_{11},w_{12},w_{21},w_{22},w_{31},w_{32} \\right)} & \\frac{\\partial}{\\partial x_{32}} \\operatorname{n_{11}}{\\left(x_{11},x_{12},x_{13},x_{21},x_{22},x_{23},x_{31},x_{32},x_{33},w_{11},w_{12},w_{21},w_{22},w_{31},w_{32} \\right)} & \\frac{\\partial}{\\partial x_{33}} \\operatorname{n_{11}}{\\left(x_{11},x_{12},x_{13},x_{21},x_{22},x_{23},x_{31},x_{32},x_{33},w_{11},w_{12},w_{21},w_{22},w_{31},w_{32} \\right)}\\end{matrix}\\right]$"
      ],
      "text/plain": [
       "Matrix([\n",
       "[Derivative(n_11(x_11, x_12, x_13, x_21, x_22, x_23, x_31, x_32, x_33, w_11, w_12, w_21, w_22, w_31, w_32), x_11), Derivative(n_11(x_11, x_12, x_13, x_21, x_22, x_23, x_31, x_32, x_33, w_11, w_12, w_21, w_22, w_31, w_32), x_12), Derivative(n_11(x_11, x_12, x_13, x_21, x_22, x_23, x_31, x_32, x_33, w_11, w_12, w_21, w_22, w_31, w_32), x_13)],\n",
       "[Derivative(n_11(x_11, x_12, x_13, x_21, x_22, x_23, x_31, x_32, x_33, w_11, w_12, w_21, w_22, w_31, w_32), x_21), Derivative(n_11(x_11, x_12, x_13, x_21, x_22, x_23, x_31, x_32, x_33, w_11, w_12, w_21, w_22, w_31, w_32), x_22), Derivative(n_11(x_11, x_12, x_13, x_21, x_22, x_23, x_31, x_32, x_33, w_11, w_12, w_21, w_22, w_31, w_32), x_23)],\n",
       "[Derivative(n_11(x_11, x_12, x_13, x_21, x_22, x_23, x_31, x_32, x_33, w_11, w_12, w_21, w_22, w_31, w_32), x_31), Derivative(n_11(x_11, x_12, x_13, x_21, x_22, x_23, x_31, x_32, x_33, w_11, w_12, w_21, w_22, w_31, w_32), x_32), Derivative(n_11(x_11, x_12, x_13, x_21, x_22, x_23, x_31, x_32, x_33, w_11, w_12, w_21, w_22, w_31, w_32), x_33)]])"
      ]
     },
     "execution_count": 1,
     "metadata": {},
     "output_type": "execute_result"
    }
   ],
   "source": [
    "F[0,0].diff(X)"
   ]
  },
  {
   "cell_type": "code",
   "execution_count": 157,
   "metadata": {
    "execution": {
     "iopub.execute_input": "2020-09-21T06:34:02.200759Z",
     "iopub.status.busy": "2020-09-21T06:34:02.199090Z",
     "iopub.status.idle": "2020-09-21T06:34:02.516076Z",
     "shell.execute_reply": "2020-09-21T06:34:02.517238Z"
    },
    "lines_to_next_cell": 0,
    "title": "codecell"
   },
   "outputs": [
    {
     "data": {
      "text/latex": [
       "$\\displaystyle \\left[\\begin{matrix}\\left[\\begin{matrix}\\frac{\\partial}{\\partial x_{11}} \\operatorname{n_{11}}{\\left(x_{11},x_{12},x_{13},x_{21},x_{22},x_{23},x_{31},x_{32},x_{33},w_{11},w_{12},w_{21},w_{22},w_{31},w_{32} \\right)} & \\frac{\\partial}{\\partial x_{11}} \\operatorname{n_{12}}{\\left(x_{11},x_{12},x_{13},x_{21},x_{22},x_{23},x_{31},x_{32},x_{33},w_{11},w_{12},w_{21},w_{22},w_{31},w_{32} \\right)}\\\\\\frac{\\partial}{\\partial x_{11}} \\operatorname{n_{21}}{\\left(x_{11},x_{12},x_{13},x_{21},x_{22},x_{23},x_{31},x_{32},x_{33},w_{11},w_{12},w_{21},w_{22},w_{31},w_{32} \\right)} & \\frac{\\partial}{\\partial x_{11}} \\operatorname{n_{22}}{\\left(x_{11},x_{12},x_{13},x_{21},x_{22},x_{23},x_{31},x_{32},x_{33},w_{11},w_{12},w_{21},w_{22},w_{31},w_{32} \\right)}\\\\\\frac{\\partial}{\\partial x_{11}} \\operatorname{n_{31}}{\\left(x_{11},x_{12},x_{13},x_{21},x_{22},x_{23},x_{31},x_{32},x_{33},w_{11},w_{12},w_{21},w_{22},w_{31},w_{32} \\right)} & \\frac{\\partial}{\\partial x_{11}} \\operatorname{n_{32}}{\\left(x_{11},x_{12},x_{13},x_{21},x_{22},x_{23},x_{31},x_{32},x_{33},w_{11},w_{12},w_{21},w_{22},w_{31},w_{32} \\right)}\\end{matrix}\\right] & \\left[\\begin{matrix}\\frac{\\partial}{\\partial x_{12}} \\operatorname{n_{11}}{\\left(x_{11},x_{12},x_{13},x_{21},x_{22},x_{23},x_{31},x_{32},x_{33},w_{11},w_{12},w_{21},w_{22},w_{31},w_{32} \\right)} & \\frac{\\partial}{\\partial x_{12}} \\operatorname{n_{12}}{\\left(x_{11},x_{12},x_{13},x_{21},x_{22},x_{23},x_{31},x_{32},x_{33},w_{11},w_{12},w_{21},w_{22},w_{31},w_{32} \\right)}\\\\\\frac{\\partial}{\\partial x_{12}} \\operatorname{n_{21}}{\\left(x_{11},x_{12},x_{13},x_{21},x_{22},x_{23},x_{31},x_{32},x_{33},w_{11},w_{12},w_{21},w_{22},w_{31},w_{32} \\right)} & \\frac{\\partial}{\\partial x_{12}} \\operatorname{n_{22}}{\\left(x_{11},x_{12},x_{13},x_{21},x_{22},x_{23},x_{31},x_{32},x_{33},w_{11},w_{12},w_{21},w_{22},w_{31},w_{32} \\right)}\\\\\\frac{\\partial}{\\partial x_{12}} \\operatorname{n_{31}}{\\left(x_{11},x_{12},x_{13},x_{21},x_{22},x_{23},x_{31},x_{32},x_{33},w_{11},w_{12},w_{21},w_{22},w_{31},w_{32} \\right)} & \\frac{\\partial}{\\partial x_{12}} \\operatorname{n_{32}}{\\left(x_{11},x_{12},x_{13},x_{21},x_{22},x_{23},x_{31},x_{32},x_{33},w_{11},w_{12},w_{21},w_{22},w_{31},w_{32} \\right)}\\end{matrix}\\right] & \\left[\\begin{matrix}\\frac{\\partial}{\\partial x_{13}} \\operatorname{n_{11}}{\\left(x_{11},x_{12},x_{13},x_{21},x_{22},x_{23},x_{31},x_{32},x_{33},w_{11},w_{12},w_{21},w_{22},w_{31},w_{32} \\right)} & \\frac{\\partial}{\\partial x_{13}} \\operatorname{n_{12}}{\\left(x_{11},x_{12},x_{13},x_{21},x_{22},x_{23},x_{31},x_{32},x_{33},w_{11},w_{12},w_{21},w_{22},w_{31},w_{32} \\right)}\\\\\\frac{\\partial}{\\partial x_{13}} \\operatorname{n_{21}}{\\left(x_{11},x_{12},x_{13},x_{21},x_{22},x_{23},x_{31},x_{32},x_{33},w_{11},w_{12},w_{21},w_{22},w_{31},w_{32} \\right)} & \\frac{\\partial}{\\partial x_{13}} \\operatorname{n_{22}}{\\left(x_{11},x_{12},x_{13},x_{21},x_{22},x_{23},x_{31},x_{32},x_{33},w_{11},w_{12},w_{21},w_{22},w_{31},w_{32} \\right)}\\\\\\frac{\\partial}{\\partial x_{13}} \\operatorname{n_{31}}{\\left(x_{11},x_{12},x_{13},x_{21},x_{22},x_{23},x_{31},x_{32},x_{33},w_{11},w_{12},w_{21},w_{22},w_{31},w_{32} \\right)} & \\frac{\\partial}{\\partial x_{13}} \\operatorname{n_{32}}{\\left(x_{11},x_{12},x_{13},x_{21},x_{22},x_{23},x_{31},x_{32},x_{33},w_{11},w_{12},w_{21},w_{22},w_{31},w_{32} \\right)}\\end{matrix}\\right]\\\\\\left[\\begin{matrix}\\frac{\\partial}{\\partial x_{21}} \\operatorname{n_{11}}{\\left(x_{11},x_{12},x_{13},x_{21},x_{22},x_{23},x_{31},x_{32},x_{33},w_{11},w_{12},w_{21},w_{22},w_{31},w_{32} \\right)} & \\frac{\\partial}{\\partial x_{21}} \\operatorname{n_{12}}{\\left(x_{11},x_{12},x_{13},x_{21},x_{22},x_{23},x_{31},x_{32},x_{33},w_{11},w_{12},w_{21},w_{22},w_{31},w_{32} \\right)}\\\\\\frac{\\partial}{\\partial x_{21}} \\operatorname{n_{21}}{\\left(x_{11},x_{12},x_{13},x_{21},x_{22},x_{23},x_{31},x_{32},x_{33},w_{11},w_{12},w_{21},w_{22},w_{31},w_{32} \\right)} & \\frac{\\partial}{\\partial x_{21}} \\operatorname{n_{22}}{\\left(x_{11},x_{12},x_{13},x_{21},x_{22},x_{23},x_{31},x_{32},x_{33},w_{11},w_{12},w_{21},w_{22},w_{31},w_{32} \\right)}\\\\\\frac{\\partial}{\\partial x_{21}} \\operatorname{n_{31}}{\\left(x_{11},x_{12},x_{13},x_{21},x_{22},x_{23},x_{31},x_{32},x_{33},w_{11},w_{12},w_{21},w_{22},w_{31},w_{32} \\right)} & \\frac{\\partial}{\\partial x_{21}} \\operatorname{n_{32}}{\\left(x_{11},x_{12},x_{13},x_{21},x_{22},x_{23},x_{31},x_{32},x_{33},w_{11},w_{12},w_{21},w_{22},w_{31},w_{32} \\right)}\\end{matrix}\\right] & \\left[\\begin{matrix}\\frac{\\partial}{\\partial x_{22}} \\operatorname{n_{11}}{\\left(x_{11},x_{12},x_{13},x_{21},x_{22},x_{23},x_{31},x_{32},x_{33},w_{11},w_{12},w_{21},w_{22},w_{31},w_{32} \\right)} & \\frac{\\partial}{\\partial x_{22}} \\operatorname{n_{12}}{\\left(x_{11},x_{12},x_{13},x_{21},x_{22},x_{23},x_{31},x_{32},x_{33},w_{11},w_{12},w_{21},w_{22},w_{31},w_{32} \\right)}\\\\\\frac{\\partial}{\\partial x_{22}} \\operatorname{n_{21}}{\\left(x_{11},x_{12},x_{13},x_{21},x_{22},x_{23},x_{31},x_{32},x_{33},w_{11},w_{12},w_{21},w_{22},w_{31},w_{32} \\right)} & \\frac{\\partial}{\\partial x_{22}} \\operatorname{n_{22}}{\\left(x_{11},x_{12},x_{13},x_{21},x_{22},x_{23},x_{31},x_{32},x_{33},w_{11},w_{12},w_{21},w_{22},w_{31},w_{32} \\right)}\\\\\\frac{\\partial}{\\partial x_{22}} \\operatorname{n_{31}}{\\left(x_{11},x_{12},x_{13},x_{21},x_{22},x_{23},x_{31},x_{32},x_{33},w_{11},w_{12},w_{21},w_{22},w_{31},w_{32} \\right)} & \\frac{\\partial}{\\partial x_{22}} \\operatorname{n_{32}}{\\left(x_{11},x_{12},x_{13},x_{21},x_{22},x_{23},x_{31},x_{32},x_{33},w_{11},w_{12},w_{21},w_{22},w_{31},w_{32} \\right)}\\end{matrix}\\right] & \\left[\\begin{matrix}\\frac{\\partial}{\\partial x_{23}} \\operatorname{n_{11}}{\\left(x_{11},x_{12},x_{13},x_{21},x_{22},x_{23},x_{31},x_{32},x_{33},w_{11},w_{12},w_{21},w_{22},w_{31},w_{32} \\right)} & \\frac{\\partial}{\\partial x_{23}} \\operatorname{n_{12}}{\\left(x_{11},x_{12},x_{13},x_{21},x_{22},x_{23},x_{31},x_{32},x_{33},w_{11},w_{12},w_{21},w_{22},w_{31},w_{32} \\right)}\\\\\\frac{\\partial}{\\partial x_{23}} \\operatorname{n_{21}}{\\left(x_{11},x_{12},x_{13},x_{21},x_{22},x_{23},x_{31},x_{32},x_{33},w_{11},w_{12},w_{21},w_{22},w_{31},w_{32} \\right)} & \\frac{\\partial}{\\partial x_{23}} \\operatorname{n_{22}}{\\left(x_{11},x_{12},x_{13},x_{21},x_{22},x_{23},x_{31},x_{32},x_{33},w_{11},w_{12},w_{21},w_{22},w_{31},w_{32} \\right)}\\\\\\frac{\\partial}{\\partial x_{23}} \\operatorname{n_{31}}{\\left(x_{11},x_{12},x_{13},x_{21},x_{22},x_{23},x_{31},x_{32},x_{33},w_{11},w_{12},w_{21},w_{22},w_{31},w_{32} \\right)} & \\frac{\\partial}{\\partial x_{23}} \\operatorname{n_{32}}{\\left(x_{11},x_{12},x_{13},x_{21},x_{22},x_{23},x_{31},x_{32},x_{33},w_{11},w_{12},w_{21},w_{22},w_{31},w_{32} \\right)}\\end{matrix}\\right]\\\\\\left[\\begin{matrix}\\frac{\\partial}{\\partial x_{31}} \\operatorname{n_{11}}{\\left(x_{11},x_{12},x_{13},x_{21},x_{22},x_{23},x_{31},x_{32},x_{33},w_{11},w_{12},w_{21},w_{22},w_{31},w_{32} \\right)} & \\frac{\\partial}{\\partial x_{31}} \\operatorname{n_{12}}{\\left(x_{11},x_{12},x_{13},x_{21},x_{22},x_{23},x_{31},x_{32},x_{33},w_{11},w_{12},w_{21},w_{22},w_{31},w_{32} \\right)}\\\\\\frac{\\partial}{\\partial x_{31}} \\operatorname{n_{21}}{\\left(x_{11},x_{12},x_{13},x_{21},x_{22},x_{23},x_{31},x_{32},x_{33},w_{11},w_{12},w_{21},w_{22},w_{31},w_{32} \\right)} & \\frac{\\partial}{\\partial x_{31}} \\operatorname{n_{22}}{\\left(x_{11},x_{12},x_{13},x_{21},x_{22},x_{23},x_{31},x_{32},x_{33},w_{11},w_{12},w_{21},w_{22},w_{31},w_{32} \\right)}\\\\\\frac{\\partial}{\\partial x_{31}} \\operatorname{n_{31}}{\\left(x_{11},x_{12},x_{13},x_{21},x_{22},x_{23},x_{31},x_{32},x_{33},w_{11},w_{12},w_{21},w_{22},w_{31},w_{32} \\right)} & \\frac{\\partial}{\\partial x_{31}} \\operatorname{n_{32}}{\\left(x_{11},x_{12},x_{13},x_{21},x_{22},x_{23},x_{31},x_{32},x_{33},w_{11},w_{12},w_{21},w_{22},w_{31},w_{32} \\right)}\\end{matrix}\\right] & \\left[\\begin{matrix}\\frac{\\partial}{\\partial x_{32}} \\operatorname{n_{11}}{\\left(x_{11},x_{12},x_{13},x_{21},x_{22},x_{23},x_{31},x_{32},x_{33},w_{11},w_{12},w_{21},w_{22},w_{31},w_{32} \\right)} & \\frac{\\partial}{\\partial x_{32}} \\operatorname{n_{12}}{\\left(x_{11},x_{12},x_{13},x_{21},x_{22},x_{23},x_{31},x_{32},x_{33},w_{11},w_{12},w_{21},w_{22},w_{31},w_{32} \\right)}\\\\\\frac{\\partial}{\\partial x_{32}} \\operatorname{n_{21}}{\\left(x_{11},x_{12},x_{13},x_{21},x_{22},x_{23},x_{31},x_{32},x_{33},w_{11},w_{12},w_{21},w_{22},w_{31},w_{32} \\right)} & \\frac{\\partial}{\\partial x_{32}} \\operatorname{n_{22}}{\\left(x_{11},x_{12},x_{13},x_{21},x_{22},x_{23},x_{31},x_{32},x_{33},w_{11},w_{12},w_{21},w_{22},w_{31},w_{32} \\right)}\\\\\\frac{\\partial}{\\partial x_{32}} \\operatorname{n_{31}}{\\left(x_{11},x_{12},x_{13},x_{21},x_{22},x_{23},x_{31},x_{32},x_{33},w_{11},w_{12},w_{21},w_{22},w_{31},w_{32} \\right)} & \\frac{\\partial}{\\partial x_{32}} \\operatorname{n_{32}}{\\left(x_{11},x_{12},x_{13},x_{21},x_{22},x_{23},x_{31},x_{32},x_{33},w_{11},w_{12},w_{21},w_{22},w_{31},w_{32} \\right)}\\end{matrix}\\right] & \\left[\\begin{matrix}\\frac{\\partial}{\\partial x_{33}} \\operatorname{n_{11}}{\\left(x_{11},x_{12},x_{13},x_{21},x_{22},x_{23},x_{31},x_{32},x_{33},w_{11},w_{12},w_{21},w_{22},w_{31},w_{32} \\right)} & \\frac{\\partial}{\\partial x_{33}} \\operatorname{n_{12}}{\\left(x_{11},x_{12},x_{13},x_{21},x_{22},x_{23},x_{31},x_{32},x_{33},w_{11},w_{12},w_{21},w_{22},w_{31},w_{32} \\right)}\\\\\\frac{\\partial}{\\partial x_{33}} \\operatorname{n_{21}}{\\left(x_{11},x_{12},x_{13},x_{21},x_{22},x_{23},x_{31},x_{32},x_{33},w_{11},w_{12},w_{21},w_{22},w_{31},w_{32} \\right)} & \\frac{\\partial}{\\partial x_{33}} \\operatorname{n_{22}}{\\left(x_{11},x_{12},x_{13},x_{21},x_{22},x_{23},x_{31},x_{32},x_{33},w_{11},w_{12},w_{21},w_{22},w_{31},w_{32} \\right)}\\\\\\frac{\\partial}{\\partial x_{33}} \\operatorname{n_{31}}{\\left(x_{11},x_{12},x_{13},x_{21},x_{22},x_{23},x_{31},x_{32},x_{33},w_{11},w_{12},w_{21},w_{22},w_{31},w_{32} \\right)} & \\frac{\\partial}{\\partial x_{33}} \\operatorname{n_{32}}{\\left(x_{11},x_{12},x_{13},x_{21},x_{22},x_{23},x_{31},x_{32},x_{33},w_{11},w_{12},w_{21},w_{22},w_{31},w_{32} \\right)}\\end{matrix}\\right]\\end{matrix}\\right]$"
      ],
      "text/plain": [
       "[[[[Derivative(n_11(x_11, x_12, x_13, x_21, x_22, x_23, x_31, x_32, x_33, w_11, w_12, w_21, w_22, w_31, w_32), x_11), Derivative(n_12(x_11, x_12, x_13, x_21, x_22, x_23, x_31, x_32, x_33, w_11, w_12, w_21, w_22, w_31, w_32), x_11)], [Derivative(n_21(x_11, x_12, x_13, x_21, x_22, x_23, x_31, x_32, x_33, w_11, w_12, w_21, w_22, w_31, w_32), x_11), Derivative(n_22(x_11, x_12, x_13, x_21, x_22, x_23, x_31, x_32, x_33, w_11, w_12, w_21, w_22, w_31, w_32), x_11)], [Derivative(n_31(x_11, x_12, x_13, x_21, x_22, x_23, x_31, x_32, x_33, w_11, w_12, w_21, w_22, w_31, w_32), x_11), Derivative(n_32(x_11, x_12, x_13, x_21, x_22, x_23, x_31, x_32, x_33, w_11, w_12, w_21, w_22, w_31, w_32), x_11)]], [[Derivative(n_11(x_11, x_12, x_13, x_21, x_22, x_23, x_31, x_32, x_33, w_11, w_12, w_21, w_22, w_31, w_32), x_12), Derivative(n_12(x_11, x_12, x_13, x_21, x_22, x_23, x_31, x_32, x_33, w_11, w_12, w_21, w_22, w_31, w_32), x_12)], [Derivative(n_21(x_11, x_12, x_13, x_21, x_22, x_23, x_31, x_32, x_33, w_11, w_12, w_21, w_22, w_31, w_32), x_12), Derivative(n_22(x_11, x_12, x_13, x_21, x_22, x_23, x_31, x_32, x_33, w_11, w_12, w_21, w_22, w_31, w_32), x_12)], [Derivative(n_31(x_11, x_12, x_13, x_21, x_22, x_23, x_31, x_32, x_33, w_11, w_12, w_21, w_22, w_31, w_32), x_12), Derivative(n_32(x_11, x_12, x_13, x_21, x_22, x_23, x_31, x_32, x_33, w_11, w_12, w_21, w_22, w_31, w_32), x_12)]], [[Derivative(n_11(x_11, x_12, x_13, x_21, x_22, x_23, x_31, x_32, x_33, w_11, w_12, w_21, w_22, w_31, w_32), x_13), Derivative(n_12(x_11, x_12, x_13, x_21, x_22, x_23, x_31, x_32, x_33, w_11, w_12, w_21, w_22, w_31, w_32), x_13)], [Derivative(n_21(x_11, x_12, x_13, x_21, x_22, x_23, x_31, x_32, x_33, w_11, w_12, w_21, w_22, w_31, w_32), x_13), Derivative(n_22(x_11, x_12, x_13, x_21, x_22, x_23, x_31, x_32, x_33, w_11, w_12, w_21, w_22, w_31, w_32), x_13)], [Derivative(n_31(x_11, x_12, x_13, x_21, x_22, x_23, x_31, x_32, x_33, w_11, w_12, w_21, w_22, w_31, w_32), x_13), Derivative(n_32(x_11, x_12, x_13, x_21, x_22, x_23, x_31, x_32, x_33, w_11, w_12, w_21, w_22, w_31, w_32), x_13)]]], [[[Derivative(n_11(x_11, x_12, x_13, x_21, x_22, x_23, x_31, x_32, x_33, w_11, w_12, w_21, w_22, w_31, w_32), x_21), Derivative(n_12(x_11, x_12, x_13, x_21, x_22, x_23, x_31, x_32, x_33, w_11, w_12, w_21, w_22, w_31, w_32), x_21)], [Derivative(n_21(x_11, x_12, x_13, x_21, x_22, x_23, x_31, x_32, x_33, w_11, w_12, w_21, w_22, w_31, w_32), x_21), Derivative(n_22(x_11, x_12, x_13, x_21, x_22, x_23, x_31, x_32, x_33, w_11, w_12, w_21, w_22, w_31, w_32), x_21)], [Derivative(n_31(x_11, x_12, x_13, x_21, x_22, x_23, x_31, x_32, x_33, w_11, w_12, w_21, w_22, w_31, w_32), x_21), Derivative(n_32(x_11, x_12, x_13, x_21, x_22, x_23, x_31, x_32, x_33, w_11, w_12, w_21, w_22, w_31, w_32), x_21)]], [[Derivative(n_11(x_11, x_12, x_13, x_21, x_22, x_23, x_31, x_32, x_33, w_11, w_12, w_21, w_22, w_31, w_32), x_22), Derivative(n_12(x_11, x_12, x_13, x_21, x_22, x_23, x_31, x_32, x_33, w_11, w_12, w_21, w_22, w_31, w_32), x_22)], [Derivative(n_21(x_11, x_12, x_13, x_21, x_22, x_23, x_31, x_32, x_33, w_11, w_12, w_21, w_22, w_31, w_32), x_22), Derivative(n_22(x_11, x_12, x_13, x_21, x_22, x_23, x_31, x_32, x_33, w_11, w_12, w_21, w_22, w_31, w_32), x_22)], [Derivative(n_31(x_11, x_12, x_13, x_21, x_22, x_23, x_31, x_32, x_33, w_11, w_12, w_21, w_22, w_31, w_32), x_22), Derivative(n_32(x_11, x_12, x_13, x_21, x_22, x_23, x_31, x_32, x_33, w_11, w_12, w_21, w_22, w_31, w_32), x_22)]], [[Derivative(n_11(x_11, x_12, x_13, x_21, x_22, x_23, x_31, x_32, x_33, w_11, w_12, w_21, w_22, w_31, w_32), x_23), Derivative(n_12(x_11, x_12, x_13, x_21, x_22, x_23, x_31, x_32, x_33, w_11, w_12, w_21, w_22, w_31, w_32), x_23)], [Derivative(n_21(x_11, x_12, x_13, x_21, x_22, x_23, x_31, x_32, x_33, w_11, w_12, w_21, w_22, w_31, w_32), x_23), Derivative(n_22(x_11, x_12, x_13, x_21, x_22, x_23, x_31, x_32, x_33, w_11, w_12, w_21, w_22, w_31, w_32), x_23)], [Derivative(n_31(x_11, x_12, x_13, x_21, x_22, x_23, x_31, x_32, x_33, w_11, w_12, w_21, w_22, w_31, w_32), x_23), Derivative(n_32(x_11, x_12, x_13, x_21, x_22, x_23, x_31, x_32, x_33, w_11, w_12, w_21, w_22, w_31, w_32), x_23)]]], [[[Derivative(n_11(x_11, x_12, x_13, x_21, x_22, x_23, x_31, x_32, x_33, w_11, w_12, w_21, w_22, w_31, w_32), x_31), Derivative(n_12(x_11, x_12, x_13, x_21, x_22, x_23, x_31, x_32, x_33, w_11, w_12, w_21, w_22, w_31, w_32), x_31)], [Derivative(n_21(x_11, x_12, x_13, x_21, x_22, x_23, x_31, x_32, x_33, w_11, w_12, w_21, w_22, w_31, w_32), x_31), Derivative(n_22(x_11, x_12, x_13, x_21, x_22, x_23, x_31, x_32, x_33, w_11, w_12, w_21, w_22, w_31, w_32), x_31)], [Derivative(n_31(x_11, x_12, x_13, x_21, x_22, x_23, x_31, x_32, x_33, w_11, w_12, w_21, w_22, w_31, w_32), x_31), Derivative(n_32(x_11, x_12, x_13, x_21, x_22, x_23, x_31, x_32, x_33, w_11, w_12, w_21, w_22, w_31, w_32), x_31)]], [[Derivative(n_11(x_11, x_12, x_13, x_21, x_22, x_23, x_31, x_32, x_33, w_11, w_12, w_21, w_22, w_31, w_32), x_32), Derivative(n_12(x_11, x_12, x_13, x_21, x_22, x_23, x_31, x_32, x_33, w_11, w_12, w_21, w_22, w_31, w_32), x_32)], [Derivative(n_21(x_11, x_12, x_13, x_21, x_22, x_23, x_31, x_32, x_33, w_11, w_12, w_21, w_22, w_31, w_32), x_32), Derivative(n_22(x_11, x_12, x_13, x_21, x_22, x_23, x_31, x_32, x_33, w_11, w_12, w_21, w_22, w_31, w_32), x_32)], [Derivative(n_31(x_11, x_12, x_13, x_21, x_22, x_23, x_31, x_32, x_33, w_11, w_12, w_21, w_22, w_31, w_32), x_32), Derivative(n_32(x_11, x_12, x_13, x_21, x_22, x_23, x_31, x_32, x_33, w_11, w_12, w_21, w_22, w_31, w_32), x_32)]], [[Derivative(n_11(x_11, x_12, x_13, x_21, x_22, x_23, x_31, x_32, x_33, w_11, w_12, w_21, w_22, w_31, w_32), x_33), Derivative(n_12(x_11, x_12, x_13, x_21, x_22, x_23, x_31, x_32, x_33, w_11, w_12, w_21, w_22, w_31, w_32), x_33)], [Derivative(n_21(x_11, x_12, x_13, x_21, x_22, x_23, x_31, x_32, x_33, w_11, w_12, w_21, w_22, w_31, w_32), x_33), Derivative(n_22(x_11, x_12, x_13, x_21, x_22, x_23, x_31, x_32, x_33, w_11, w_12, w_21, w_22, w_31, w_32), x_33)], [Derivative(n_31(x_11, x_12, x_13, x_21, x_22, x_23, x_31, x_32, x_33, w_11, w_12, w_21, w_22, w_31, w_32), x_33), Derivative(n_32(x_11, x_12, x_13, x_21, x_22, x_23, x_31, x_32, x_33, w_11, w_12, w_21, w_22, w_31, w_32), x_33)]]]]"
      ]
     },
     "execution_count": 1,
     "metadata": {},
     "output_type": "execute_result"
    }
   ],
   "source": [
    "F.diff(X)"
   ]
  },
  {
   "cell_type": "code",
   "execution_count": 158,
   "metadata": {
    "execution": {
     "iopub.execute_input": "2020-09-21T06:34:02.529762Z",
     "iopub.status.busy": "2020-09-21T06:34:02.525014Z",
     "iopub.status.idle": "2020-09-21T06:34:02.565932Z",
     "shell.execute_reply": "2020-09-21T06:34:02.567011Z"
    },
    "lines_to_next_cell": 0,
    "title": "codecell"
   },
   "outputs": [
    {
     "data": {
      "text/latex": [
       "$\\displaystyle \\left[\\begin{matrix}\\operatorname{n_{11}}{\\left(x_{11},x_{12},x_{13},x_{21},x_{22},x_{23},x_{31},x_{32},x_{33},w_{11},w_{12},w_{21},w_{22},w_{31},w_{32} \\right)} & w_{11} x_{11} + w_{21} x_{12} + w_{31} x_{13}\\\\\\operatorname{n_{12}}{\\left(x_{11},x_{12},x_{13},x_{21},x_{22},x_{23},x_{31},x_{32},x_{33},w_{11},w_{12},w_{21},w_{22},w_{31},w_{32} \\right)} & w_{12} x_{11} + w_{22} x_{12} + w_{32} x_{13}\\\\\\operatorname{n_{21}}{\\left(x_{11},x_{12},x_{13},x_{21},x_{22},x_{23},x_{31},x_{32},x_{33},w_{11},w_{12},w_{21},w_{22},w_{31},w_{32} \\right)} & w_{11} x_{21} + w_{21} x_{22} + w_{31} x_{23}\\\\\\operatorname{n_{22}}{\\left(x_{11},x_{12},x_{13},x_{21},x_{22},x_{23},x_{31},x_{32},x_{33},w_{11},w_{12},w_{21},w_{22},w_{31},w_{32} \\right)} & w_{12} x_{21} + w_{22} x_{22} + w_{32} x_{23}\\\\\\operatorname{n_{31}}{\\left(x_{11},x_{12},x_{13},x_{21},x_{22},x_{23},x_{31},x_{32},x_{33},w_{11},w_{12},w_{21},w_{22},w_{31},w_{32} \\right)} & w_{11} x_{31} + w_{21} x_{32} + w_{31} x_{33}\\\\\\operatorname{n_{32}}{\\left(x_{11},x_{12},x_{13},x_{21},x_{22},x_{23},x_{31},x_{32},x_{33},w_{11},w_{12},w_{21},w_{22},w_{31},w_{32} \\right)} & w_{12} x_{31} + w_{22} x_{32} + w_{32} x_{33}\\end{matrix}\\right]$"
      ],
      "text/plain": [
       "Matrix([\n",
       "[n_11(x_11, x_12, x_13, x_21, x_22, x_23, x_31, x_32, x_33, w_11, w_12, w_21, w_22, w_31, w_32), w_11*x_11 + w_21*x_12 + w_31*x_13],\n",
       "[n_12(x_11, x_12, x_13, x_21, x_22, x_23, x_31, x_32, x_33, w_11, w_12, w_21, w_22, w_31, w_32), w_12*x_11 + w_22*x_12 + w_32*x_13],\n",
       "[n_21(x_11, x_12, x_13, x_21, x_22, x_23, x_31, x_32, x_33, w_11, w_12, w_21, w_22, w_31, w_32), w_11*x_21 + w_21*x_22 + w_31*x_23],\n",
       "[n_22(x_11, x_12, x_13, x_21, x_22, x_23, x_31, x_32, x_33, w_11, w_12, w_21, w_22, w_31, w_32), w_12*x_21 + w_22*x_22 + w_32*x_23],\n",
       "[n_31(x_11, x_12, x_13, x_21, x_22, x_23, x_31, x_32, x_33, w_11, w_12, w_21, w_22, w_31, w_32), w_11*x_31 + w_21*x_32 + w_31*x_33],\n",
       "[n_32(x_11, x_12, x_13, x_21, x_22, x_23, x_31, x_32, x_33, w_11, w_12, w_21, w_22, w_31, w_32), w_12*x_31 + w_22*x_32 + w_32*x_33]])"
      ]
     },
     "execution_count": 1,
     "metadata": {},
     "output_type": "execute_result"
    }
   ],
   "source": [
    "argsToSpecD = dict(zip(elemToSpecFuncArgsD.values(), elemToSpecD.values()))\n",
    "argsToSpec = list(argsToSpecD.items())\n",
    "Matrix(argsToSpec)"
   ]
  },
  {
   "cell_type": "code",
   "execution_count": 159,
   "metadata": {
    "execution": {
     "iopub.execute_input": "2020-09-21T06:34:02.577383Z",
     "iopub.status.busy": "2020-09-21T06:34:02.570778Z",
     "iopub.status.idle": "2020-09-21T06:34:02.597633Z",
     "shell.execute_reply": "2020-09-21T06:34:02.598702Z"
    },
    "lines_to_next_cell": 0,
    "title": "codecell"
   },
   "outputs": [
    {
     "data": {
      "text/latex": [
       "$\\displaystyle \\frac{\\partial}{\\partial x_{11}} \\left(w_{11} x_{11} + w_{21} x_{12} + w_{31} x_{13}\\right)$"
      ],
      "text/plain": [
       "Derivative(w_11*x_11 + w_21*x_12 + w_31*x_13, x_11)"
      ]
     },
     "execution_count": 1,
     "metadata": {},
     "output_type": "execute_result"
    }
   ],
   "source": [
    "F[0,0].diff(X[0,0]).subs(argsToSpecD)#.subs({elemToSpecFuncArgs[0][1] : Nspec[0,0]})"
   ]
  },
  {
   "cell_type": "code",
   "execution_count": 160,
   "metadata": {
    "execution": {
     "iopub.execute_input": "2020-09-21T06:34:02.603642Z",
     "iopub.status.busy": "2020-09-21T06:34:02.602170Z",
     "iopub.status.idle": "2020-09-21T06:34:02.617777Z",
     "shell.execute_reply": "2020-09-21T06:34:02.618844Z"
    },
    "lines_to_next_cell": 0,
    "title": "codecell"
   },
   "outputs": [
    {
     "data": {
      "text/latex": [
       "$\\displaystyle w_{11}$"
      ],
      "text/plain": [
       "w_11"
      ]
     },
     "execution_count": 1,
     "metadata": {},
     "output_type": "execute_result"
    }
   ],
   "source": [
    "F[0,0].diff(X[0,0]).subs(argsToSpecD).doit()"
   ]
  },
  {
   "cell_type": "code",
   "execution_count": 161,
   "metadata": {
    "execution": {
     "iopub.execute_input": "2020-09-21T06:34:02.623593Z",
     "iopub.status.busy": "2020-09-21T06:34:02.622103Z",
     "iopub.status.idle": "2020-09-21T06:34:03.221256Z",
     "shell.execute_reply": "2020-09-21T06:34:03.222358Z"
    },
    "title": "codecell"
   },
   "outputs": [
    {
     "data": {
      "text/latex": [
       "$\\displaystyle \\left[\\begin{matrix}\\left[\\begin{matrix}\\frac{\\partial}{\\partial x_{11}} \\left(w_{11} x_{11} + w_{21} x_{12} + w_{31} x_{13}\\right) & \\frac{\\partial}{\\partial x_{11}} \\left(w_{12} x_{11} + w_{22} x_{12} + w_{32} x_{13}\\right)\\\\\\frac{\\partial}{\\partial x_{11}} \\left(w_{11} x_{21} + w_{21} x_{22} + w_{31} x_{23}\\right) & \\frac{\\partial}{\\partial x_{11}} \\left(w_{12} x_{21} + w_{22} x_{22} + w_{32} x_{23}\\right)\\\\\\frac{\\partial}{\\partial x_{11}} \\left(w_{11} x_{31} + w_{21} x_{32} + w_{31} x_{33}\\right) & \\frac{\\partial}{\\partial x_{11}} \\left(w_{12} x_{31} + w_{22} x_{32} + w_{32} x_{33}\\right)\\end{matrix}\\right] & \\left[\\begin{matrix}\\frac{\\partial}{\\partial x_{12}} \\left(w_{11} x_{11} + w_{21} x_{12} + w_{31} x_{13}\\right) & \\frac{\\partial}{\\partial x_{12}} \\left(w_{12} x_{11} + w_{22} x_{12} + w_{32} x_{13}\\right)\\\\\\frac{\\partial}{\\partial x_{12}} \\left(w_{11} x_{21} + w_{21} x_{22} + w_{31} x_{23}\\right) & \\frac{\\partial}{\\partial x_{12}} \\left(w_{12} x_{21} + w_{22} x_{22} + w_{32} x_{23}\\right)\\\\\\frac{\\partial}{\\partial x_{12}} \\left(w_{11} x_{31} + w_{21} x_{32} + w_{31} x_{33}\\right) & \\frac{\\partial}{\\partial x_{12}} \\left(w_{12} x_{31} + w_{22} x_{32} + w_{32} x_{33}\\right)\\end{matrix}\\right] & \\left[\\begin{matrix}\\frac{\\partial}{\\partial x_{13}} \\left(w_{11} x_{11} + w_{21} x_{12} + w_{31} x_{13}\\right) & \\frac{\\partial}{\\partial x_{13}} \\left(w_{12} x_{11} + w_{22} x_{12} + w_{32} x_{13}\\right)\\\\\\frac{\\partial}{\\partial x_{13}} \\left(w_{11} x_{21} + w_{21} x_{22} + w_{31} x_{23}\\right) & \\frac{\\partial}{\\partial x_{13}} \\left(w_{12} x_{21} + w_{22} x_{22} + w_{32} x_{23}\\right)\\\\\\frac{\\partial}{\\partial x_{13}} \\left(w_{11} x_{31} + w_{21} x_{32} + w_{31} x_{33}\\right) & \\frac{\\partial}{\\partial x_{13}} \\left(w_{12} x_{31} + w_{22} x_{32} + w_{32} x_{33}\\right)\\end{matrix}\\right]\\\\\\left[\\begin{matrix}\\frac{\\partial}{\\partial x_{21}} \\left(w_{11} x_{11} + w_{21} x_{12} + w_{31} x_{13}\\right) & \\frac{\\partial}{\\partial x_{21}} \\left(w_{12} x_{11} + w_{22} x_{12} + w_{32} x_{13}\\right)\\\\\\frac{\\partial}{\\partial x_{21}} \\left(w_{11} x_{21} + w_{21} x_{22} + w_{31} x_{23}\\right) & \\frac{\\partial}{\\partial x_{21}} \\left(w_{12} x_{21} + w_{22} x_{22} + w_{32} x_{23}\\right)\\\\\\frac{\\partial}{\\partial x_{21}} \\left(w_{11} x_{31} + w_{21} x_{32} + w_{31} x_{33}\\right) & \\frac{\\partial}{\\partial x_{21}} \\left(w_{12} x_{31} + w_{22} x_{32} + w_{32} x_{33}\\right)\\end{matrix}\\right] & \\left[\\begin{matrix}\\frac{\\partial}{\\partial x_{22}} \\left(w_{11} x_{11} + w_{21} x_{12} + w_{31} x_{13}\\right) & \\frac{\\partial}{\\partial x_{22}} \\left(w_{12} x_{11} + w_{22} x_{12} + w_{32} x_{13}\\right)\\\\\\frac{\\partial}{\\partial x_{22}} \\left(w_{11} x_{21} + w_{21} x_{22} + w_{31} x_{23}\\right) & \\frac{\\partial}{\\partial x_{22}} \\left(w_{12} x_{21} + w_{22} x_{22} + w_{32} x_{23}\\right)\\\\\\frac{\\partial}{\\partial x_{22}} \\left(w_{11} x_{31} + w_{21} x_{32} + w_{31} x_{33}\\right) & \\frac{\\partial}{\\partial x_{22}} \\left(w_{12} x_{31} + w_{22} x_{32} + w_{32} x_{33}\\right)\\end{matrix}\\right] & \\left[\\begin{matrix}\\frac{\\partial}{\\partial x_{23}} \\left(w_{11} x_{11} + w_{21} x_{12} + w_{31} x_{13}\\right) & \\frac{\\partial}{\\partial x_{23}} \\left(w_{12} x_{11} + w_{22} x_{12} + w_{32} x_{13}\\right)\\\\\\frac{\\partial}{\\partial x_{23}} \\left(w_{11} x_{21} + w_{21} x_{22} + w_{31} x_{23}\\right) & \\frac{\\partial}{\\partial x_{23}} \\left(w_{12} x_{21} + w_{22} x_{22} + w_{32} x_{23}\\right)\\\\\\frac{\\partial}{\\partial x_{23}} \\left(w_{11} x_{31} + w_{21} x_{32} + w_{31} x_{33}\\right) & \\frac{\\partial}{\\partial x_{23}} \\left(w_{12} x_{31} + w_{22} x_{32} + w_{32} x_{33}\\right)\\end{matrix}\\right]\\\\\\left[\\begin{matrix}\\frac{\\partial}{\\partial x_{31}} \\left(w_{11} x_{11} + w_{21} x_{12} + w_{31} x_{13}\\right) & \\frac{\\partial}{\\partial x_{31}} \\left(w_{12} x_{11} + w_{22} x_{12} + w_{32} x_{13}\\right)\\\\\\frac{\\partial}{\\partial x_{31}} \\left(w_{11} x_{21} + w_{21} x_{22} + w_{31} x_{23}\\right) & \\frac{\\partial}{\\partial x_{31}} \\left(w_{12} x_{21} + w_{22} x_{22} + w_{32} x_{23}\\right)\\\\\\frac{\\partial}{\\partial x_{31}} \\left(w_{11} x_{31} + w_{21} x_{32} + w_{31} x_{33}\\right) & \\frac{\\partial}{\\partial x_{31}} \\left(w_{12} x_{31} + w_{22} x_{32} + w_{32} x_{33}\\right)\\end{matrix}\\right] & \\left[\\begin{matrix}\\frac{\\partial}{\\partial x_{32}} \\left(w_{11} x_{11} + w_{21} x_{12} + w_{31} x_{13}\\right) & \\frac{\\partial}{\\partial x_{32}} \\left(w_{12} x_{11} + w_{22} x_{12} + w_{32} x_{13}\\right)\\\\\\frac{\\partial}{\\partial x_{32}} \\left(w_{11} x_{21} + w_{21} x_{22} + w_{31} x_{23}\\right) & \\frac{\\partial}{\\partial x_{32}} \\left(w_{12} x_{21} + w_{22} x_{22} + w_{32} x_{23}\\right)\\\\\\frac{\\partial}{\\partial x_{32}} \\left(w_{11} x_{31} + w_{21} x_{32} + w_{31} x_{33}\\right) & \\frac{\\partial}{\\partial x_{32}} \\left(w_{12} x_{31} + w_{22} x_{32} + w_{32} x_{33}\\right)\\end{matrix}\\right] & \\left[\\begin{matrix}\\frac{\\partial}{\\partial x_{33}} \\left(w_{11} x_{11} + w_{21} x_{12} + w_{31} x_{13}\\right) & \\frac{\\partial}{\\partial x_{33}} \\left(w_{12} x_{11} + w_{22} x_{12} + w_{32} x_{13}\\right)\\\\\\frac{\\partial}{\\partial x_{33}} \\left(w_{11} x_{21} + w_{21} x_{22} + w_{31} x_{23}\\right) & \\frac{\\partial}{\\partial x_{33}} \\left(w_{12} x_{21} + w_{22} x_{22} + w_{32} x_{23}\\right)\\\\\\frac{\\partial}{\\partial x_{33}} \\left(w_{11} x_{31} + w_{21} x_{32} + w_{31} x_{33}\\right) & \\frac{\\partial}{\\partial x_{33}} \\left(w_{12} x_{31} + w_{22} x_{32} + w_{32} x_{33}\\right)\\end{matrix}\\right]\\end{matrix}\\right]$"
      ],
      "text/plain": [
       "[[[[Derivative(w_11*x_11 + w_21*x_12 + w_31*x_13, x_11), Derivative(w_12*x_11 + w_22*x_12 + w_32*x_13, x_11)], [Derivative(w_11*x_21 + w_21*x_22 + w_31*x_23, x_11), Derivative(w_12*x_21 + w_22*x_22 + w_32*x_23, x_11)], [Derivative(w_11*x_31 + w_21*x_32 + w_31*x_33, x_11), Derivative(w_12*x_31 + w_22*x_32 + w_32*x_33, x_11)]], [[Derivative(w_11*x_11 + w_21*x_12 + w_31*x_13, x_12), Derivative(w_12*x_11 + w_22*x_12 + w_32*x_13, x_12)], [Derivative(w_11*x_21 + w_21*x_22 + w_31*x_23, x_12), Derivative(w_12*x_21 + w_22*x_22 + w_32*x_23, x_12)], [Derivative(w_11*x_31 + w_21*x_32 + w_31*x_33, x_12), Derivative(w_12*x_31 + w_22*x_32 + w_32*x_33, x_12)]], [[Derivative(w_11*x_11 + w_21*x_12 + w_31*x_13, x_13), Derivative(w_12*x_11 + w_22*x_12 + w_32*x_13, x_13)], [Derivative(w_11*x_21 + w_21*x_22 + w_31*x_23, x_13), Derivative(w_12*x_21 + w_22*x_22 + w_32*x_23, x_13)], [Derivative(w_11*x_31 + w_21*x_32 + w_31*x_33, x_13), Derivative(w_12*x_31 + w_22*x_32 + w_32*x_33, x_13)]]], [[[Derivative(w_11*x_11 + w_21*x_12 + w_31*x_13, x_21), Derivative(w_12*x_11 + w_22*x_12 + w_32*x_13, x_21)], [Derivative(w_11*x_21 + w_21*x_22 + w_31*x_23, x_21), Derivative(w_12*x_21 + w_22*x_22 + w_32*x_23, x_21)], [Derivative(w_11*x_31 + w_21*x_32 + w_31*x_33, x_21), Derivative(w_12*x_31 + w_22*x_32 + w_32*x_33, x_21)]], [[Derivative(w_11*x_11 + w_21*x_12 + w_31*x_13, x_22), Derivative(w_12*x_11 + w_22*x_12 + w_32*x_13, x_22)], [Derivative(w_11*x_21 + w_21*x_22 + w_31*x_23, x_22), Derivative(w_12*x_21 + w_22*x_22 + w_32*x_23, x_22)], [Derivative(w_11*x_31 + w_21*x_32 + w_31*x_33, x_22), Derivative(w_12*x_31 + w_22*x_32 + w_32*x_33, x_22)]], [[Derivative(w_11*x_11 + w_21*x_12 + w_31*x_13, x_23), Derivative(w_12*x_11 + w_22*x_12 + w_32*x_13, x_23)], [Derivative(w_11*x_21 + w_21*x_22 + w_31*x_23, x_23), Derivative(w_12*x_21 + w_22*x_22 + w_32*x_23, x_23)], [Derivative(w_11*x_31 + w_21*x_32 + w_31*x_33, x_23), Derivative(w_12*x_31 + w_22*x_32 + w_32*x_33, x_23)]]], [[[Derivative(w_11*x_11 + w_21*x_12 + w_31*x_13, x_31), Derivative(w_12*x_11 + w_22*x_12 + w_32*x_13, x_31)], [Derivative(w_11*x_21 + w_21*x_22 + w_31*x_23, x_31), Derivative(w_12*x_21 + w_22*x_22 + w_32*x_23, x_31)], [Derivative(w_11*x_31 + w_21*x_32 + w_31*x_33, x_31), Derivative(w_12*x_31 + w_22*x_32 + w_32*x_33, x_31)]], [[Derivative(w_11*x_11 + w_21*x_12 + w_31*x_13, x_32), Derivative(w_12*x_11 + w_22*x_12 + w_32*x_13, x_32)], [Derivative(w_11*x_21 + w_21*x_22 + w_31*x_23, x_32), Derivative(w_12*x_21 + w_22*x_22 + w_32*x_23, x_32)], [Derivative(w_11*x_31 + w_21*x_32 + w_31*x_33, x_32), Derivative(w_12*x_31 + w_22*x_32 + w_32*x_33, x_32)]], [[Derivative(w_11*x_11 + w_21*x_12 + w_31*x_13, x_33), Derivative(w_12*x_11 + w_22*x_12 + w_32*x_13, x_33)], [Derivative(w_11*x_21 + w_21*x_22 + w_31*x_23, x_33), Derivative(w_12*x_21 + w_22*x_22 + w_32*x_23, x_33)], [Derivative(w_11*x_31 + w_21*x_32 + w_31*x_33, x_33), Derivative(w_12*x_31 + w_22*x_32 + w_32*x_33, x_33)]]]]"
      ]
     },
     "execution_count": 1,
     "metadata": {},
     "output_type": "execute_result"
    }
   ],
   "source": [
    "# NOTE: using diff did not work, said immutable dense array cannot be subs-ed\n",
    "derive_by_array(F, X).subs(argsToSpecD)"
   ]
  },
  {
   "cell_type": "code",
   "execution_count": 162,
   "metadata": {
    "execution": {
     "iopub.execute_input": "2020-09-21T06:34:03.227341Z",
     "iopub.status.busy": "2020-09-21T06:34:03.225897Z",
     "iopub.status.idle": "2020-09-21T06:34:03.608197Z",
     "shell.execute_reply": "2020-09-21T06:34:03.609418Z"
    },
    "lines_to_next_cell": 0,
    "title": "codecell"
   },
   "outputs": [
    {
     "data": {
      "text/latex": [
       "$\\displaystyle \\left[\\begin{matrix}\\left[\\begin{matrix}w_{11} & w_{12}\\\\0 & 0\\\\0 & 0\\end{matrix}\\right] & \\left[\\begin{matrix}w_{21} & w_{22}\\\\0 & 0\\\\0 & 0\\end{matrix}\\right] & \\left[\\begin{matrix}w_{31} & w_{32}\\\\0 & 0\\\\0 & 0\\end{matrix}\\right]\\\\\\left[\\begin{matrix}0 & 0\\\\w_{11} & w_{12}\\\\0 & 0\\end{matrix}\\right] & \\left[\\begin{matrix}0 & 0\\\\w_{21} & w_{22}\\\\0 & 0\\end{matrix}\\right] & \\left[\\begin{matrix}0 & 0\\\\w_{31} & w_{32}\\\\0 & 0\\end{matrix}\\right]\\\\\\left[\\begin{matrix}0 & 0\\\\0 & 0\\\\w_{11} & w_{12}\\end{matrix}\\right] & \\left[\\begin{matrix}0 & 0\\\\0 & 0\\\\w_{21} & w_{22}\\end{matrix}\\right] & \\left[\\begin{matrix}0 & 0\\\\0 & 0\\\\w_{31} & w_{32}\\end{matrix}\\right]\\end{matrix}\\right]$"
      ],
      "text/plain": [
       "[[[[w_11, w_12], [0, 0], [0, 0]], [[w_21, w_22], [0, 0], [0, 0]], [[w_31, w_32], [0, 0], [0, 0]]], [[[0, 0], [w_11, w_12], [0, 0]], [[0, 0], [w_21, w_22], [0, 0]], [[0, 0], [w_31, w_32], [0, 0]]], [[[0, 0], [0, 0], [w_11, w_12]], [[0, 0], [0, 0], [w_21, w_22]], [[0, 0], [0, 0], [w_31, w_32]]]]"
      ]
     },
     "execution_count": 1,
     "metadata": {},
     "output_type": "execute_result"
    }
   ],
   "source": [
    "derive_by_array(F, X).subs(argsToSpecD).doit()"
   ]
  },
  {
   "cell_type": "code",
   "execution_count": 163,
   "metadata": {
    "execution": {
     "iopub.execute_input": "2020-09-21T06:34:03.617686Z",
     "iopub.status.busy": "2020-09-21T06:34:03.612990Z",
     "iopub.status.idle": "2020-09-21T06:34:03.991104Z",
     "shell.execute_reply": "2020-09-21T06:34:03.997629Z"
    },
    "title": "codecell"
   },
   "outputs": [
    {
     "data": {
      "text/latex": [
       "$\\displaystyle \\left[\\begin{matrix}\\left[\\begin{matrix}x_{11} & 0\\\\x_{21} & 0\\\\x_{31} & 0\\end{matrix}\\right] & \\left[\\begin{matrix}0 & x_{11}\\\\0 & x_{21}\\\\0 & x_{31}\\end{matrix}\\right]\\\\\\left[\\begin{matrix}x_{12} & 0\\\\x_{22} & 0\\\\x_{32} & 0\\end{matrix}\\right] & \\left[\\begin{matrix}0 & x_{12}\\\\0 & x_{22}\\\\0 & x_{32}\\end{matrix}\\right]\\\\\\left[\\begin{matrix}x_{13} & 0\\\\x_{23} & 0\\\\x_{33} & 0\\end{matrix}\\right] & \\left[\\begin{matrix}0 & x_{13}\\\\0 & x_{23}\\\\0 & x_{33}\\end{matrix}\\right]\\end{matrix}\\right]$"
      ],
      "text/plain": [
       "[[[[x_11, 0], [x_21, 0], [x_31, 0]], [[0, x_11], [0, x_21], [0, x_31]]], [[[x_12, 0], [x_22, 0], [x_32, 0]], [[0, x_12], [0, x_22], [0, x_32]]], [[[x_13, 0], [x_23, 0], [x_33, 0]], [[0, x_13], [0, x_23], [0, x_33]]]]"
      ]
     },
     "execution_count": 1,
     "metadata": {},
     "output_type": "execute_result"
    }
   ],
   "source": [
    "derive_by_array(F, W).subs(argsToSpecD).doit()\n",
    "\n",
    "\n"
   ]
  },
  {
   "cell_type": "code",
   "execution_count": 164,
   "metadata": {
    "execution": {
     "iopub.execute_input": "2020-09-21T06:34:04.004918Z",
     "iopub.status.busy": "2020-09-21T06:34:04.001254Z",
     "iopub.status.idle": "2020-09-21T06:34:04.042107Z",
     "shell.execute_reply": "2020-09-21T06:34:04.043268Z"
    },
    "lines_to_next_cell": 0,
    "title": "codecell"
   },
   "outputs": [
    {
     "data": {
      "text/latex": [
       "$\\displaystyle \\frac{\\partial}{\\partial X} \\left[\\begin{matrix}n_{11} & n_{12}\\\\n_{21} & n_{22}\\\\n_{31} & n_{32}\\end{matrix}\\right] \\frac{\\partial}{\\partial \\left[\\begin{matrix}n_{11} & n_{12}\\\\n_{21} & n_{22}\\\\n_{31} & n_{32}\\end{matrix}\\right]} \\left[\\begin{matrix}\\sigma{\\left(n_{11} \\right)} & \\sigma{\\left(n_{12} \\right)}\\\\\\sigma{\\left(n_{21} \\right)} & \\sigma{\\left(n_{22} \\right)}\\\\\\sigma{\\left(n_{31} \\right)} & \\sigma{\\left(n_{32} \\right)}\\end{matrix}\\right]$"
      ],
      "text/plain": [
       "Derivative(Matrix([\n",
       "[n_11, n_12],\n",
       "[n_21, n_22],\n",
       "[n_31, n_32]]), X)*Derivative(Matrix([\n",
       "[sigma(n_11), sigma(n_12)],\n",
       "[sigma(n_21), sigma(n_22)],\n",
       "[sigma(n_31), sigma(n_32)]]), Matrix([\n",
       "[n_11, n_12],\n",
       "[n_21, n_22],\n",
       "[n_31, n_32]]))"
      ]
     },
     "execution_count": 1,
     "metadata": {},
     "output_type": "execute_result"
    }
   ],
   "source": [
    "elem2"
   ]
  },
  {
   "cell_type": "code",
   "execution_count": 165,
   "metadata": {
    "execution": {
     "iopub.execute_input": "2020-09-21T06:34:04.053558Z",
     "iopub.status.busy": "2020-09-21T06:34:04.049884Z",
     "iopub.status.idle": "2020-09-21T06:34:04.215993Z",
     "shell.execute_reply": "2020-09-21T06:34:04.221371Z"
    },
    "title": "codecell"
   },
   "outputs": [
    {
     "data": {
      "text/latex": [
       "$\\displaystyle \\frac{\\partial}{\\partial \\left[\\begin{matrix}x_{11} & x_{12} & x_{13}\\\\x_{21} & x_{22} & x_{23}\\\\x_{31} & x_{32} & x_{33}\\end{matrix}\\right]} \\left[\\begin{matrix}\\operatorname{n_{11}}{\\left(x_{11},x_{12},x_{13},x_{21},x_{22},x_{23},x_{31},x_{32},x_{33},w_{11},w_{12},w_{21},w_{22},w_{31},w_{32} \\right)} & \\operatorname{n_{12}}{\\left(x_{11},x_{12},x_{13},x_{21},x_{22},x_{23},x_{31},x_{32},x_{33},w_{11},w_{12},w_{21},w_{22},w_{31},w_{32} \\right)}\\\\\\operatorname{n_{21}}{\\left(x_{11},x_{12},x_{13},x_{21},x_{22},x_{23},x_{31},x_{32},x_{33},w_{11},w_{12},w_{21},w_{22},w_{31},w_{32} \\right)} & \\operatorname{n_{22}}{\\left(x_{11},x_{12},x_{13},x_{21},x_{22},x_{23},x_{31},x_{32},x_{33},w_{11},w_{12},w_{21},w_{22},w_{31},w_{32} \\right)}\\\\\\operatorname{n_{31}}{\\left(x_{11},x_{12},x_{13},x_{21},x_{22},x_{23},x_{31},x_{32},x_{33},w_{11},w_{12},w_{21},w_{22},w_{31},w_{32} \\right)} & \\operatorname{n_{32}}{\\left(x_{11},x_{12},x_{13},x_{21},x_{22},x_{23},x_{31},x_{32},x_{33},w_{11},w_{12},w_{21},w_{22},w_{31},w_{32} \\right)}\\end{matrix}\\right] \\frac{\\partial}{\\partial \\left[\\begin{matrix}\\operatorname{n_{11}}{\\left(x_{11},x_{12},x_{13},x_{21},x_{22},x_{23},x_{31},x_{32},x_{33},w_{11},w_{12},w_{21},w_{22},w_{31},w_{32} \\right)} & \\operatorname{n_{12}}{\\left(x_{11},x_{12},x_{13},x_{21},x_{22},x_{23},x_{31},x_{32},x_{33},w_{11},w_{12},w_{21},w_{22},w_{31},w_{32} \\right)}\\\\\\operatorname{n_{21}}{\\left(x_{11},x_{12},x_{13},x_{21},x_{22},x_{23},x_{31},x_{32},x_{33},w_{11},w_{12},w_{21},w_{22},w_{31},w_{32} \\right)} & \\operatorname{n_{22}}{\\left(x_{11},x_{12},x_{13},x_{21},x_{22},x_{23},x_{31},x_{32},x_{33},w_{11},w_{12},w_{21},w_{22},w_{31},w_{32} \\right)}\\\\\\operatorname{n_{31}}{\\left(x_{11},x_{12},x_{13},x_{21},x_{22},x_{23},x_{31},x_{32},x_{33},w_{11},w_{12},w_{21},w_{22},w_{31},w_{32} \\right)} & \\operatorname{n_{32}}{\\left(x_{11},x_{12},x_{13},x_{21},x_{22},x_{23},x_{31},x_{32},x_{33},w_{11},w_{12},w_{21},w_{22},w_{31},w_{32} \\right)}\\end{matrix}\\right]} \\left[\\begin{matrix}\\sigma{\\left(\\operatorname{n_{11}}{\\left(x_{11},x_{12},x_{13},x_{21},x_{22},x_{23},x_{31},x_{32},x_{33},w_{11},w_{12},w_{21},w_{22},w_{31},w_{32} \\right)} \\right)} & \\sigma{\\left(\\operatorname{n_{12}}{\\left(x_{11},x_{12},x_{13},x_{21},x_{22},x_{23},x_{31},x_{32},x_{33},w_{11},w_{12},w_{21},w_{22},w_{31},w_{32} \\right)} \\right)}\\\\\\sigma{\\left(\\operatorname{n_{21}}{\\left(x_{11},x_{12},x_{13},x_{21},x_{22},x_{23},x_{31},x_{32},x_{33},w_{11},w_{12},w_{21},w_{22},w_{31},w_{32} \\right)} \\right)} & \\sigma{\\left(\\operatorname{n_{22}}{\\left(x_{11},x_{12},x_{13},x_{21},x_{22},x_{23},x_{31},x_{32},x_{33},w_{11},w_{12},w_{21},w_{22},w_{31},w_{32} \\right)} \\right)}\\\\\\sigma{\\left(\\operatorname{n_{31}}{\\left(x_{11},x_{12},x_{13},x_{21},x_{22},x_{23},x_{31},x_{32},x_{33},w_{11},w_{12},w_{21},w_{22},w_{31},w_{32} \\right)} \\right)} & \\sigma{\\left(\\operatorname{n_{32}}{\\left(x_{11},x_{12},x_{13},x_{21},x_{22},x_{23},x_{31},x_{32},x_{33},w_{11},w_{12},w_{21},w_{22},w_{31},w_{32} \\right)} \\right)}\\end{matrix}\\right]$"
      ],
      "text/plain": [
       "Derivative(Matrix([\n",
       "[n_11(x_11, x_12, x_13, x_21, x_22, x_23, x_31, x_32, x_33, w_11, w_12, w_21, w_22, w_31, w_32), n_12(x_11, x_12, x_13, x_21, x_22, x_23, x_31, x_32, x_33, w_11, w_12, w_21, w_22, w_31, w_32)],\n",
       "[n_21(x_11, x_12, x_13, x_21, x_22, x_23, x_31, x_32, x_33, w_11, w_12, w_21, w_22, w_31, w_32), n_22(x_11, x_12, x_13, x_21, x_22, x_23, x_31, x_32, x_33, w_11, w_12, w_21, w_22, w_31, w_32)],\n",
       "[n_31(x_11, x_12, x_13, x_21, x_22, x_23, x_31, x_32, x_33, w_11, w_12, w_21, w_22, w_31, w_32), n_32(x_11, x_12, x_13, x_21, x_22, x_23, x_31, x_32, x_33, w_11, w_12, w_21, w_22, w_31, w_32)]]), Matrix([\n",
       "[x_11, x_12, x_13],\n",
       "[x_21, x_22, x_23],\n",
       "[x_31, x_32, x_33]]))*Derivative(Matrix([\n",
       "[sigma(n_11(x_11, x_12, x_13, x_21, x_22, x_23, x_31, x_32, x_33, w_11, w_12, w_21, w_22, w_31, w_32)), sigma(n_12(x_11, x_12, x_13, x_21, x_22, x_23, x_31, x_32, x_33, w_11, w_12, w_21, w_22, w_31, w_32))],\n",
       "[sigma(n_21(x_11, x_12, x_13, x_21, x_22, x_23, x_31, x_32, x_33, w_11, w_12, w_21, w_22, w_31, w_32)), sigma(n_22(x_11, x_12, x_13, x_21, x_22, x_23, x_31, x_32, x_33, w_11, w_12, w_21, w_22, w_31, w_32))],\n",
       "[sigma(n_31(x_11, x_12, x_13, x_21, x_22, x_23, x_31, x_32, x_33, w_11, w_12, w_21, w_22, w_31, w_32)), sigma(n_32(x_11, x_12, x_13, x_21, x_22, x_23, x_31, x_32, x_33, w_11, w_12, w_21, w_22, w_31, w_32))]]), Matrix([\n",
       "[n_11(x_11, x_12, x_13, x_21, x_22, x_23, x_31, x_32, x_33, w_11, w_12, w_21, w_22, w_31, w_32), n_12(x_11, x_12, x_13, x_21, x_22, x_23, x_31, x_32, x_33, w_11, w_12, w_21, w_22, w_31, w_32)],\n",
       "[n_21(x_11, x_12, x_13, x_21, x_22, x_23, x_31, x_32, x_33, w_11, w_12, w_21, w_22, w_31, w_32), n_22(x_11, x_12, x_13, x_21, x_22, x_23, x_31, x_32, x_33, w_11, w_12, w_21, w_22, w_31, w_32)],\n",
       "[n_31(x_11, x_12, x_13, x_21, x_22, x_23, x_31, x_32, x_33, w_11, w_12, w_21, w_22, w_31, w_32), n_32(x_11, x_12, x_13, x_21, x_22, x_23, x_31, x_32, x_33, w_11, w_12, w_21, w_22, w_31, w_32)]]))"
      ]
     },
     "execution_count": 1,
     "metadata": {},
     "output_type": "execute_result"
    }
   ],
   "source": [
    "\n",
    "funcMat = elem2.subs(elemToSpecFuncArgsD).replace(A,X)#.diff(X)\n",
    "funcMat"
   ]
  },
  {
   "cell_type": "code",
   "execution_count": 166,
   "metadata": {
    "execution": {
     "iopub.execute_input": "2020-09-21T06:34:04.227856Z",
     "iopub.status.busy": "2020-09-21T06:34:04.225175Z",
     "iopub.status.idle": "2020-09-21T06:34:04.232130Z",
     "shell.execute_reply": "2020-09-21T06:34:04.233300Z"
    },
    "lines_to_next_cell": 0,
    "title": "codecell"
   },
   "outputs": [],
   "source": [
    "#funcMat.doit() # error\n",
    "#derive_by_array(funcMat, X)"
   ]
  },
  {
   "cell_type": "code",
   "execution_count": 167,
   "metadata": {
    "execution": {
     "iopub.execute_input": "2020-09-21T06:34:04.249435Z",
     "iopub.status.busy": "2020-09-21T06:34:04.241403Z",
     "iopub.status.idle": "2020-09-21T06:34:04.399117Z",
     "shell.execute_reply": "2020-09-21T06:34:04.400234Z"
    },
    "lines_to_next_cell": 0,
    "title": "codecell"
   },
   "outputs": [
    {
     "data": {
      "text/latex": [
       "$\\displaystyle \\frac{\\partial}{\\partial \\left[\\begin{matrix}x_{11} & x_{12} & x_{13}\\\\x_{21} & x_{22} & x_{23}\\\\x_{31} & x_{32} & x_{33}\\end{matrix}\\right]} \\left[\\begin{matrix}\\operatorname{n_{11}}{\\left(w_{11} x_{11} + w_{21} x_{12} + w_{31} x_{13} \\right)} & \\operatorname{n_{12}}{\\left(w_{12} x_{11} + w_{22} x_{12} + w_{32} x_{13} \\right)}\\\\\\operatorname{n_{21}}{\\left(w_{11} x_{21} + w_{21} x_{22} + w_{31} x_{23} \\right)} & \\operatorname{n_{22}}{\\left(w_{12} x_{21} + w_{22} x_{22} + w_{32} x_{23} \\right)}\\\\\\operatorname{n_{31}}{\\left(w_{11} x_{31} + w_{21} x_{32} + w_{31} x_{33} \\right)} & \\operatorname{n_{32}}{\\left(w_{12} x_{31} + w_{22} x_{32} + w_{32} x_{33} \\right)}\\end{matrix}\\right] \\frac{\\partial}{\\partial \\left[\\begin{matrix}\\operatorname{n_{11}}{\\left(w_{11} x_{11} + w_{21} x_{12} + w_{31} x_{13} \\right)} & \\operatorname{n_{12}}{\\left(w_{12} x_{11} + w_{22} x_{12} + w_{32} x_{13} \\right)}\\\\\\operatorname{n_{21}}{\\left(w_{11} x_{21} + w_{21} x_{22} + w_{31} x_{23} \\right)} & \\operatorname{n_{22}}{\\left(w_{12} x_{21} + w_{22} x_{22} + w_{32} x_{23} \\right)}\\\\\\operatorname{n_{31}}{\\left(w_{11} x_{31} + w_{21} x_{32} + w_{31} x_{33} \\right)} & \\operatorname{n_{32}}{\\left(w_{12} x_{31} + w_{22} x_{32} + w_{32} x_{33} \\right)}\\end{matrix}\\right]} \\left[\\begin{matrix}\\sigma{\\left(\\operatorname{n_{11}}{\\left(w_{11} x_{11} + w_{21} x_{12} + w_{31} x_{13} \\right)} \\right)} & \\sigma{\\left(\\operatorname{n_{12}}{\\left(w_{12} x_{11} + w_{22} x_{12} + w_{32} x_{13} \\right)} \\right)}\\\\\\sigma{\\left(\\operatorname{n_{21}}{\\left(w_{11} x_{21} + w_{21} x_{22} + w_{31} x_{23} \\right)} \\right)} & \\sigma{\\left(\\operatorname{n_{22}}{\\left(w_{12} x_{21} + w_{22} x_{22} + w_{32} x_{23} \\right)} \\right)}\\\\\\sigma{\\left(\\operatorname{n_{31}}{\\left(w_{11} x_{31} + w_{21} x_{32} + w_{31} x_{33} \\right)} \\right)} & \\sigma{\\left(\\operatorname{n_{32}}{\\left(w_{12} x_{31} + w_{22} x_{32} + w_{32} x_{33} \\right)} \\right)}\\end{matrix}\\right]$"
      ],
      "text/plain": [
       "Derivative(Matrix([\n",
       "[n_11(w_11*x_11 + w_21*x_12 + w_31*x_13), n_12(w_12*x_11 + w_22*x_12 + w_32*x_13)],\n",
       "[n_21(w_11*x_21 + w_21*x_22 + w_31*x_23), n_22(w_12*x_21 + w_22*x_22 + w_32*x_23)],\n",
       "[n_31(w_11*x_31 + w_21*x_32 + w_31*x_33), n_32(w_12*x_31 + w_22*x_32 + w_32*x_33)]]), Matrix([\n",
       "[x_11, x_12, x_13],\n",
       "[x_21, x_22, x_23],\n",
       "[x_31, x_32, x_33]]))*Derivative(Matrix([\n",
       "[sigma(n_11(w_11*x_11 + w_21*x_12 + w_31*x_13)), sigma(n_12(w_12*x_11 + w_22*x_12 + w_32*x_13))],\n",
       "[sigma(n_21(w_11*x_21 + w_21*x_22 + w_31*x_23)), sigma(n_22(w_12*x_21 + w_22*x_22 + w_32*x_23))],\n",
       "[sigma(n_31(w_11*x_31 + w_21*x_32 + w_31*x_33)), sigma(n_32(w_12*x_31 + w_22*x_32 + w_32*x_33))]]), Matrix([\n",
       "[n_11(w_11*x_11 + w_21*x_12 + w_31*x_13), n_12(w_12*x_11 + w_22*x_12 + w_32*x_13)],\n",
       "[n_21(w_11*x_21 + w_21*x_22 + w_31*x_23), n_22(w_12*x_21 + w_22*x_22 + w_32*x_23)],\n",
       "[n_31(w_11*x_31 + w_21*x_32 + w_31*x_33), n_32(w_12*x_31 + w_22*x_32 + w_32*x_33)]]))"
      ]
     },
     "execution_count": 1,
     "metadata": {},
     "output_type": "execute_result"
    }
   ],
   "source": [
    "funcMat = elem2.subs(elemToSpecFuncD).replace(A,X)#.diff(X)\n",
    "funcMat"
   ]
  },
  {
   "cell_type": "code",
   "execution_count": 168,
   "metadata": {
    "execution": {
     "iopub.execute_input": "2020-09-21T06:34:04.405278Z",
     "iopub.status.busy": "2020-09-21T06:34:04.403739Z",
     "iopub.status.idle": "2020-09-21T06:34:04.418108Z",
     "shell.execute_reply": "2020-09-21T06:34:04.419171Z"
    },
    "title": "codecell"
   },
   "outputs": [
    {
     "data": {
      "text/latex": [
       "$\\displaystyle \\frac{\\partial}{\\partial X} \\left[\\begin{matrix}n_{11} & n_{12}\\\\n_{21} & n_{22}\\\\n_{31} & n_{32}\\end{matrix}\\right] \\frac{\\partial}{\\partial \\left[\\begin{matrix}n_{11} & n_{12}\\\\n_{21} & n_{22}\\\\n_{31} & n_{32}\\end{matrix}\\right]} \\left[\\begin{matrix}\\sigma{\\left(n_{11} \\right)} & \\sigma{\\left(n_{12} \\right)}\\\\\\sigma{\\left(n_{21} \\right)} & \\sigma{\\left(n_{22} \\right)}\\\\\\sigma{\\left(n_{31} \\right)} & \\sigma{\\left(n_{32} \\right)}\\end{matrix}\\right]$"
      ],
      "text/plain": [
       "Derivative(Matrix([\n",
       "[n_11, n_12],\n",
       "[n_21, n_22],\n",
       "[n_31, n_32]]), X)*Derivative(Matrix([\n",
       "[sigma(n_11), sigma(n_12)],\n",
       "[sigma(n_21), sigma(n_22)],\n",
       "[sigma(n_31), sigma(n_32)]]), Matrix([\n",
       "[n_11, n_12],\n",
       "[n_21, n_22],\n",
       "[n_31, n_32]]))"
      ]
     },
     "execution_count": 1,
     "metadata": {},
     "output_type": "execute_result"
    }
   ],
   "source": [
    "#funcMat.doit() # same error\n",
    "#elem2.subs(elemToSpecFuncD).doit() # error\n",
    "elem2"
   ]
  },
  {
   "cell_type": "code",
   "execution_count": 169,
   "metadata": {
    "execution": {
     "iopub.execute_input": "2020-09-21T06:34:04.423847Z",
     "iopub.status.busy": "2020-09-21T06:34:04.422373Z",
     "iopub.status.idle": "2020-09-21T06:34:04.427887Z",
     "shell.execute_reply": "2020-09-21T06:34:04.428976Z"
    },
    "lines_to_next_cell": 0,
    "title": "codecell"
   },
   "outputs": [],
   "source": [
    "# elem2.replace(A,X).doit() # error"
   ]
  },
  {
   "cell_type": "code",
   "execution_count": 170,
   "metadata": {
    "execution": {
     "iopub.execute_input": "2020-09-21T06:34:04.433798Z",
     "iopub.status.busy": "2020-09-21T06:34:04.432273Z",
     "iopub.status.idle": "2020-09-21T06:34:04.437671Z",
     "shell.execute_reply": "2020-09-21T06:34:04.438711Z"
    },
    "lines_to_next_cell": 0,
    "title": "codecell"
   },
   "outputs": [],
   "source": [
    "#elem2.replace(A,a).doit()#.subs(elemToSpecFuncArgsD).doit()\n",
    "# ERROR everywhere what next todo? this approach worked before, where I make w.r.t. thing a real matrix, and leave the others a symbol so why isn't it working now?"
   ]
  },
  {
   "cell_type": "code",
   "execution_count": 171,
   "metadata": {
    "execution": {
     "iopub.execute_input": "2020-09-21T06:34:04.443935Z",
     "iopub.status.busy": "2020-09-21T06:34:04.441881Z",
     "iopub.status.idle": "2020-09-21T06:34:04.447162Z",
     "shell.execute_reply": "2020-09-21T06:34:04.448500Z"
    },
    "title": "codecell"
   },
   "outputs": [],
   "source": [
    "#elem2.replace(A,X).subs(elemToSpecFuncD).doit()\n",
    "# ERROR this has to work though! Then can simply replace n_ijs with lambda\n",
    "\n"
   ]
  },
  {
   "cell_type": "code",
   "execution_count": 172,
   "metadata": {
    "execution": {
     "iopub.execute_input": "2020-09-21T06:34:04.453994Z",
     "iopub.status.busy": "2020-09-21T06:34:04.451873Z",
     "iopub.status.idle": "2020-09-21T06:34:04.456890Z",
     "shell.execute_reply": "2020-09-21T06:34:04.458173Z"
    },
    "title": "codecell"
   },
   "outputs": [],
   "source": [
    "#elem2.subs(elemToMatArgD).doit()#ERROR max recursion depth exceeeded"
   ]
  }
 ],
 "metadata": {
  "jupytext": {
   "cell_metadata_filter": "title,-all"
  },
  "kernelspec": {
   "display_name": "pymatrix_env",
   "language": "python",
   "name": "pymatrix_env"
  },
  "language_info": {
   "codemirror_mode": {
    "name": "ipython",
    "version": 3
   },
   "file_extension": ".py",
   "mimetype": "text/x-python",
   "name": "python",
   "nbconvert_exporter": "python",
   "pygments_lexer": "ipython3",
   "version": "3.7.8"
  }
 },
 "nbformat": 4,
 "nbformat_minor": 4
}
