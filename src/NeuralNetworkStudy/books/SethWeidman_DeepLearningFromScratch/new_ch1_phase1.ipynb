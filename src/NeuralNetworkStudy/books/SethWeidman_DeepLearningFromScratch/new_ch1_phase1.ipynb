{
 "cells": [
  {
   "cell_type": "code",
   "execution_count": 1,
   "metadata": {
    "execution": {
     "iopub.execute_input": "2020-09-30T08:12:27.038418Z",
     "iopub.status.busy": "2020-09-30T08:12:27.036386Z",
     "iopub.status.idle": "2020-09-30T08:12:27.799743Z",
     "shell.execute_reply": "2020-09-30T08:12:27.800924Z"
    },
    "lines_to_next_cell": 1,
    "title": "codecell"
   },
   "outputs": [],
   "source": [
    "from sympy import Matrix, Symbol, derive_by_array, Lambda, symbols, Derivative, diff\n",
    "from sympy.abc import x, y, i, j, a, b"
   ]
  },
  {
   "cell_type": "markdown",
   "execution_count": 2,
   "metadata": {
    "lines_to_next_cell": 0,
    "title": "markdown"
   },
   "source": [
    "\n",
    "Defining variable-element matrices $X \\in \\mathbb{R}^{n \\times m}$ and $W \\in \\mathbb{R}^{m \\times p}$:"
   ]
  },
  {
   "cell_type": "code",
   "execution_count": 2,
   "metadata": {
    "execution": {
     "iopub.execute_input": "2020-09-30T08:12:27.808879Z",
     "iopub.status.busy": "2020-09-30T08:12:27.804863Z",
     "iopub.status.idle": "2020-09-30T08:12:27.834478Z",
     "shell.execute_reply": "2020-09-30T08:12:27.835607Z"
    },
    "lines_to_next_cell": 0,
    "title": "codecell"
   },
   "outputs": [
    {
     "data": {
      "text/latex": [
       "$\\displaystyle \\left[\\begin{matrix}x_{11} & x_{12} & x_{13}\\\\x_{21} & x_{22} & x_{23}\\\\x_{31} & x_{32} & x_{33}\\end{matrix}\\right]$"
      ],
      "text/plain": [
       "Matrix([\n",
       "[x_11, x_12, x_13],\n",
       "[x_21, x_22, x_23],\n",
       "[x_31, x_32, x_33]])"
      ]
     },
     "execution_count": 1,
     "metadata": {},
     "output_type": "execute_result"
    }
   ],
   "source": [
    "def var(letter: str, i: int, j: int) -> Symbol:\n",
    "    letter_ij = Symbol('{}_{}{}'.format(letter, i+1, j+1), is_commutative=True)\n",
    "    return letter_ij\n",
    "\n",
    "\n",
    "n,m,p = 3,3,2\n",
    "\n",
    "X = Matrix(n, m, lambda i,j : var('x', i, j)); X"
   ]
  },
  {
   "cell_type": "code",
   "execution_count": 3,
   "metadata": {
    "execution": {
     "iopub.execute_input": "2020-09-30T08:12:27.845005Z",
     "iopub.status.busy": "2020-09-30T08:12:27.838880Z",
     "iopub.status.idle": "2020-09-30T08:12:27.851536Z",
     "shell.execute_reply": "2020-09-30T08:12:27.852745Z"
    },
    "title": "codecell"
   },
   "outputs": [
    {
     "data": {
      "text/latex": [
       "$\\displaystyle \\left[\\begin{matrix}w_{11} & w_{12}\\\\w_{21} & w_{22}\\\\w_{31} & w_{32}\\end{matrix}\\right]$"
      ],
      "text/plain": [
       "Matrix([\n",
       "[w_11, w_12],\n",
       "[w_21, w_22],\n",
       "[w_31, w_32]])"
      ]
     },
     "execution_count": 1,
     "metadata": {},
     "output_type": "execute_result"
    }
   ],
   "source": [
    "W = Matrix(m, p, lambda i,j : var('w', i, j)); W"
   ]
  },
  {
   "cell_type": "markdown",
   "execution_count": 4,
   "metadata": {
    "lines_to_next_cell": 0,
    "title": "markdown"
   },
   "source": [
    "Defining $N = \\nu(X, W) = X \\times W$\n",
    "\n",
    "* $\\nu : \\mathbb{R}^{(n \\times m) \\times (m \\times p)} \\rightarrow \\mathbb{R}^{n \\times p}$\n",
    "* $N \\in \\mathbb{R}^{n \\times p}$"
   ]
  },
  {
   "cell_type": "code",
   "execution_count": 4,
   "metadata": {
    "execution": {
     "iopub.execute_input": "2020-09-30T08:12:27.857864Z",
     "iopub.status.busy": "2020-09-30T08:12:27.856386Z",
     "iopub.status.idle": "2020-09-30T08:12:28.522422Z",
     "shell.execute_reply": "2020-09-30T08:12:28.523514Z"
    },
    "title": "codecell"
   },
   "outputs": [
    {
     "data": {
      "text/latex": [
       "$\\displaystyle \\left( \\left( a, \\  b\\right) \\mapsto a b \\right)$"
      ],
      "text/plain": [
       "Lambda((a, b), a*b)"
      ]
     },
     "execution_count": 1,
     "metadata": {},
     "output_type": "execute_result"
    }
   ],
   "source": [
    "v = Lambda((a,b), a*b); v"
   ]
  },
  {
   "cell_type": "code",
   "execution_count": 5,
   "metadata": {
    "execution": {
     "iopub.execute_input": "2020-09-30T08:12:28.528262Z",
     "iopub.status.busy": "2020-09-30T08:12:28.526853Z",
     "iopub.status.idle": "2020-09-30T08:12:28.565349Z",
     "shell.execute_reply": "2020-09-30T08:12:28.566393Z"
    },
    "title": "codecell"
   },
   "outputs": [
    {
     "data": {
      "text/latex": [
       "$\\displaystyle \\left[\\begin{matrix}w_{11} x_{11} + w_{21} x_{12} + w_{31} x_{13} & w_{12} x_{11} + w_{22} x_{12} + w_{32} x_{13}\\\\w_{11} x_{21} + w_{21} x_{22} + w_{31} x_{23} & w_{12} x_{21} + w_{22} x_{22} + w_{32} x_{23}\\\\w_{11} x_{31} + w_{21} x_{32} + w_{31} x_{33} & w_{12} x_{31} + w_{22} x_{32} + w_{32} x_{33}\\end{matrix}\\right]$"
      ],
      "text/plain": [
       "Matrix([\n",
       "[w_11*x_11 + w_21*x_12 + w_31*x_13, w_12*x_11 + w_22*x_12 + w_32*x_13],\n",
       "[w_11*x_21 + w_21*x_22 + w_31*x_23, w_12*x_21 + w_22*x_22 + w_32*x_23],\n",
       "[w_11*x_31 + w_21*x_32 + w_31*x_33, w_12*x_31 + w_22*x_32 + w_32*x_33]])"
      ]
     },
     "execution_count": 1,
     "metadata": {},
     "output_type": "execute_result"
    }
   ],
   "source": [
    "N = v(X, W); N"
   ]
  },
  {
   "cell_type": "markdown",
   "execution_count": 6,
   "metadata": {
    "lines_to_next_cell": 0,
    "title": "markdown"
   },
   "source": [
    "\n",
    "Defining $S = \\sigma_{\\text{apply}}(N) = \\sigma_{\\text{apply}}(\\nu(X,W)) = \\sigma_\\text{apply}(X \\times W) = \\Big \\{ \\sigma(XW_{ij}) \\Big\\}$.\n",
    "\n",
    "\n",
    "Assume that $\\sigma_{\\text{apply}} : \\mathbb{R}^{n \\times p} \\rightarrow \\mathbb{R}^{n \\times p}$ while $\\sigma : \\mathbb{R} \\rightarrow \\mathbb{R}$, so the function $\\sigma_{\\text{apply}}$ takes in a matrix and returns a matrix while the simple $\\sigma$ acts on the individual elements $N_{ij} = XW_{ij}$ in the matrix argument $N$ of $\\sigma_{\\text{apply}}$.\n",
    "\n",
    "* $\\sigma : \\mathbb{R} \\rightarrow \\mathbb{R}$\n",
    "* $\\sigma_\\text{apply} : \\mathbb{R}^{n \\times p} \\rightarrow \\mathbb{R}^{n \\times p}$\n",
    "* $S \\in \\mathbb{R}^{n \\times p}$"
   ]
  },
  {
   "cell_type": "code",
   "execution_count": 6,
   "metadata": {
    "execution": {
     "iopub.execute_input": "2020-09-30T08:12:28.571370Z",
     "iopub.status.busy": "2020-09-30T08:12:28.569933Z",
     "iopub.status.idle": "2020-09-30T08:12:28.583569Z",
     "shell.execute_reply": "2020-09-30T08:12:28.584946Z"
    },
    "title": "codecell"
   },
   "outputs": [
    {
     "data": {
      "text/latex": [
       "$\\displaystyle \\sigma{\\left(w_{11} x_{11} + w_{21} x_{12} + w_{31} x_{13} \\right)}$"
      ],
      "text/plain": [
       "sigma(w_11*x_11 + w_21*x_12 + w_31*x_13)"
      ]
     },
     "execution_count": 1,
     "metadata": {},
     "output_type": "execute_result"
    }
   ],
   "source": [
    "from sympy import Function\n",
    "\n",
    "# Nvec = Symbol('N', commutative=False)\n",
    "\n",
    "sigma = Function('sigma')\n",
    "sigma(N[0,0])"
   ]
  },
  {
   "cell_type": "code",
   "execution_count": 7,
   "metadata": {
    "execution": {
     "iopub.execute_input": "2020-09-30T08:12:28.589905Z",
     "iopub.status.busy": "2020-09-30T08:12:28.588431Z",
     "iopub.status.idle": "2020-09-30T08:12:28.616190Z",
     "shell.execute_reply": "2020-09-30T08:12:28.617248Z"
    },
    "lines_to_next_cell": 0,
    "title": "codecell"
   },
   "outputs": [
    {
     "data": {
      "text/latex": [
       "$\\displaystyle \\left[\\begin{matrix}\\sigma{\\left(w_{11} x_{11} + w_{21} x_{12} + w_{31} x_{13} \\right)} & \\sigma{\\left(w_{12} x_{11} + w_{22} x_{12} + w_{32} x_{13} \\right)}\\\\\\sigma{\\left(w_{11} x_{21} + w_{21} x_{22} + w_{31} x_{23} \\right)} & \\sigma{\\left(w_{12} x_{21} + w_{22} x_{22} + w_{32} x_{23} \\right)}\\\\\\sigma{\\left(w_{11} x_{31} + w_{21} x_{32} + w_{31} x_{33} \\right)} & \\sigma{\\left(w_{12} x_{31} + w_{22} x_{32} + w_{32} x_{33} \\right)}\\end{matrix}\\right]$"
      ],
      "text/plain": [
       "Matrix([\n",
       "[sigma(w_11*x_11 + w_21*x_12 + w_31*x_13), sigma(w_12*x_11 + w_22*x_12 + w_32*x_13)],\n",
       "[sigma(w_11*x_21 + w_21*x_22 + w_31*x_23), sigma(w_12*x_21 + w_22*x_22 + w_32*x_23)],\n",
       "[sigma(w_11*x_31 + w_21*x_32 + w_31*x_33), sigma(w_12*x_31 + w_22*x_32 + w_32*x_33)]])"
      ]
     },
     "execution_count": 1,
     "metadata": {},
     "output_type": "execute_result"
    }
   ],
   "source": [
    "# way 1 of declaring S\n",
    "S = N.applyfunc(sigma); S\n",
    "#type(S)\n",
    "#Matrix(3, 2, lambda i, j: sigma(N[i,j]))"
   ]
  },
  {
   "cell_type": "code",
   "execution_count": 8,
   "metadata": {
    "execution": {
     "iopub.execute_input": "2020-09-30T08:12:28.622122Z",
     "iopub.status.busy": "2020-09-30T08:12:28.620700Z",
     "iopub.status.idle": "2020-09-30T08:12:28.648004Z",
     "shell.execute_reply": "2020-09-30T08:12:28.649112Z"
    },
    "title": "codecell"
   },
   "outputs": [
    {
     "data": {
      "text/latex": [
       "$\\displaystyle \\left[\\begin{matrix}\\sigma{\\left(w_{11} x_{11} + w_{21} x_{12} + w_{31} x_{13} \\right)} & \\sigma{\\left(w_{12} x_{11} + w_{22} x_{12} + w_{32} x_{13} \\right)}\\\\\\sigma{\\left(w_{11} x_{21} + w_{21} x_{22} + w_{31} x_{23} \\right)} & \\sigma{\\left(w_{12} x_{21} + w_{22} x_{22} + w_{32} x_{23} \\right)}\\\\\\sigma{\\left(w_{11} x_{31} + w_{21} x_{32} + w_{31} x_{33} \\right)} & \\sigma{\\left(w_{12} x_{31} + w_{22} x_{32} + w_{32} x_{33} \\right)}\\end{matrix}\\right]$"
      ],
      "text/plain": [
       "Matrix([\n",
       "[sigma(w_11*x_11 + w_21*x_12 + w_31*x_13), sigma(w_12*x_11 + w_22*x_12 + w_32*x_13)],\n",
       "[sigma(w_11*x_21 + w_21*x_22 + w_31*x_23), sigma(w_12*x_21 + w_22*x_22 + w_32*x_23)],\n",
       "[sigma(w_11*x_31 + w_21*x_32 + w_31*x_33), sigma(w_12*x_31 + w_22*x_32 + w_32*x_33)]])"
      ]
     },
     "execution_count": 1,
     "metadata": {},
     "output_type": "execute_result"
    }
   ],
   "source": [
    "# way 2 of declaring S (better way)\n",
    "sigmaApply = lambda matrix:  matrix.applyfunc(sigma)\n",
    "\n",
    "sigmaApply(N)"
   ]
  },
  {
   "cell_type": "code",
   "execution_count": 9,
   "metadata": {
    "execution": {
     "iopub.execute_input": "2020-09-30T08:12:28.653920Z",
     "iopub.status.busy": "2020-09-30T08:12:28.652464Z",
     "iopub.status.idle": "2020-09-30T08:12:28.702666Z",
     "shell.execute_reply": "2020-09-30T08:12:28.703721Z"
    },
    "lines_to_next_cell": 0,
    "title": "codecell"
   },
   "outputs": [
    {
     "data": {
      "text/latex": [
       "$\\displaystyle \\left[\\begin{matrix}\\sigma{\\left(x_{11}^{2} + x_{12} x_{21} + x_{13} x_{31} \\right)} & \\sigma{\\left(x_{11} x_{12} + x_{12} x_{22} + x_{13} x_{32} \\right)} & \\sigma{\\left(x_{11} x_{13} + x_{12} x_{23} + x_{13} x_{33} \\right)}\\\\\\sigma{\\left(x_{11} x_{21} + x_{21} x_{22} + x_{23} x_{31} \\right)} & \\sigma{\\left(x_{12} x_{21} + x_{22}^{2} + x_{23} x_{32} \\right)} & \\sigma{\\left(x_{13} x_{21} + x_{22} x_{23} + x_{23} x_{33} \\right)}\\\\\\sigma{\\left(x_{11} x_{31} + x_{21} x_{32} + x_{31} x_{33} \\right)} & \\sigma{\\left(x_{12} x_{31} + x_{22} x_{32} + x_{32} x_{33} \\right)} & \\sigma{\\left(x_{13} x_{31} + x_{23} x_{32} + x_{33}^{2} \\right)}\\end{matrix}\\right]$"
      ],
      "text/plain": [
       "Matrix([\n",
       "[  sigma(x_11**2 + x_12*x_21 + x_13*x_31), sigma(x_11*x_12 + x_12*x_22 + x_13*x_32), sigma(x_11*x_13 + x_12*x_23 + x_13*x_33)],\n",
       "[sigma(x_11*x_21 + x_21*x_22 + x_23*x_31),   sigma(x_12*x_21 + x_22**2 + x_23*x_32), sigma(x_13*x_21 + x_22*x_23 + x_23*x_33)],\n",
       "[sigma(x_11*x_31 + x_21*x_32 + x_31*x_33), sigma(x_12*x_31 + x_22*x_32 + x_32*x_33),   sigma(x_13*x_31 + x_23*x_32 + x_33**2)]])"
      ]
     },
     "execution_count": 1,
     "metadata": {},
     "output_type": "execute_result"
    }
   ],
   "source": [
    "sigmaApply(X**2) # can apply this function to any matrix argument."
   ]
  },
  {
   "cell_type": "code",
   "execution_count": 10,
   "metadata": {
    "execution": {
     "iopub.execute_input": "2020-09-30T08:12:28.708661Z",
     "iopub.status.busy": "2020-09-30T08:12:28.707168Z",
     "iopub.status.idle": "2020-09-30T08:12:28.735938Z",
     "shell.execute_reply": "2020-09-30T08:12:28.737064Z"
    },
    "title": "codecell"
   },
   "outputs": [
    {
     "data": {
      "text/latex": [
       "$\\displaystyle \\left[\\begin{matrix}\\sigma{\\left(w_{11} x_{11} + w_{21} x_{12} + w_{31} x_{13} \\right)} & \\sigma{\\left(w_{12} x_{11} + w_{22} x_{12} + w_{32} x_{13} \\right)}\\\\\\sigma{\\left(w_{11} x_{21} + w_{21} x_{22} + w_{31} x_{23} \\right)} & \\sigma{\\left(w_{12} x_{21} + w_{22} x_{22} + w_{32} x_{23} \\right)}\\\\\\sigma{\\left(w_{11} x_{31} + w_{21} x_{32} + w_{31} x_{33} \\right)} & \\sigma{\\left(w_{12} x_{31} + w_{22} x_{32} + w_{32} x_{33} \\right)}\\end{matrix}\\right]$"
      ],
      "text/plain": [
       "Matrix([\n",
       "[sigma(w_11*x_11 + w_21*x_12 + w_31*x_13), sigma(w_12*x_11 + w_22*x_12 + w_32*x_13)],\n",
       "[sigma(w_11*x_21 + w_21*x_22 + w_31*x_23), sigma(w_12*x_21 + w_22*x_22 + w_32*x_23)],\n",
       "[sigma(w_11*x_31 + w_21*x_32 + w_31*x_33), sigma(w_12*x_31 + w_22*x_32 + w_32*x_33)]])"
      ]
     },
     "execution_count": 1,
     "metadata": {},
     "output_type": "execute_result"
    }
   ],
   "source": [
    "S = sigmaApply(v(X,W)) # composing\n",
    "S"
   ]
  },
  {
   "cell_type": "markdown",
   "execution_count": 11,
   "metadata": {
    "lines_to_next_cell": 0,
    "title": "markdown"
   },
   "source": [
    "Defining $L = \\Lambda(S) = \\Lambda(\\sigma_\\text{apply}(\\nu(X,W))) = \\Lambda \\Big(\\Big \\{ \\sigma(XW_{ij}) \\Big\\} \\Big)$. In general, let the function be defined as:\n",
    "$$\n",
    "\\begin{align}\n",
    "L &= \\Lambda \\begin{pmatrix}\n",
    "   \\sigma(XW_{11}) & \\sigma(XW_{12}) & ... & \\sigma(XW_{1p}) \\\\\n",
    "   \\sigma(XW_{21}) & \\sigma(XW_{22}) & ... & \\sigma(XW_{2p}) \\\\\n",
    "   \\vdots & \\vdots & & \\vdots \\\\\n",
    "   \\sigma(XW_{n1}) & \\sigma(XW_{n2}) & ... & \\sigma(XW_{np})\n",
    "\\end{pmatrix} \\\\\n",
    "\n",
    "&= \\sum_{i=1}^p \\sum_{j = 1}^n  \\sigma(XW_{ij}) \\\\\n",
    "\n",
    "&= \\sigma(XW_{11}) + \\sigma{XW_{12}} + ... + \\sigma(XW_{np})\n",
    "\\end{align}\n",
    "$$\n",
    "* $\\Lambda: \\mathbb{R}^{n \\times p} \\rightarrow \\mathbb{R}$\n",
    "* $L \\in \\mathbb{R}$"
   ]
  },
  {
   "cell_type": "code",
   "execution_count": 11,
   "metadata": {
    "execution": {
     "iopub.execute_input": "2020-09-30T08:12:28.744977Z",
     "iopub.status.busy": "2020-09-30T08:12:28.740427Z",
     "iopub.status.idle": "2020-09-30T08:12:28.777949Z",
     "shell.execute_reply": "2020-09-30T08:12:28.779010Z"
    },
    "lines_to_next_cell": 0,
    "title": "codecell"
   },
   "outputs": [
    {
     "data": {
      "text/latex": [
       "$\\displaystyle \\sigma{\\left(w_{11} x_{11} + w_{21} x_{12} + w_{31} x_{13} \\right)} + \\sigma{\\left(w_{11} x_{21} + w_{21} x_{22} + w_{31} x_{23} \\right)} + \\sigma{\\left(w_{11} x_{31} + w_{21} x_{32} + w_{31} x_{33} \\right)} + \\sigma{\\left(w_{12} x_{11} + w_{22} x_{12} + w_{32} x_{13} \\right)} + \\sigma{\\left(w_{12} x_{21} + w_{22} x_{22} + w_{32} x_{23} \\right)} + \\sigma{\\left(w_{12} x_{31} + w_{22} x_{32} + w_{32} x_{33} \\right)}$"
      ],
      "text/plain": [
       "sigma(w_11*x_11 + w_21*x_12 + w_31*x_13) + sigma(w_11*x_21 + w_21*x_22 + w_31*x_23) + sigma(w_11*x_31 + w_21*x_32 + w_31*x_33) + sigma(w_12*x_11 + w_22*x_12 + w_32*x_13) + sigma(w_12*x_21 + w_22*x_22 + w_32*x_23) + sigma(w_12*x_31 + w_22*x_32 + w_32*x_33)"
      ]
     },
     "execution_count": 1,
     "metadata": {},
     "output_type": "execute_result"
    }
   ],
   "source": [
    "lambdaF = lambda matrix : sum(matrix)\n",
    "lambdaF(S)"
   ]
  },
  {
   "cell_type": "code",
   "execution_count": 12,
   "metadata": {
    "execution": {
     "iopub.execute_input": "2020-09-30T08:12:28.783879Z",
     "iopub.status.busy": "2020-09-30T08:12:28.782410Z",
     "iopub.status.idle": "2020-09-30T08:12:28.815993Z",
     "shell.execute_reply": "2020-09-30T08:12:28.817092Z"
    },
    "lines_to_next_cell": 2,
    "title": "codecell"
   },
   "outputs": [
    {
     "data": {
      "text/latex": [
       "$\\displaystyle \\sigma{\\left(w_{11} x_{11} + w_{21} x_{12} + w_{31} x_{13} \\right)} + \\sigma{\\left(w_{11} x_{21} + w_{21} x_{22} + w_{31} x_{23} \\right)} + \\sigma{\\left(w_{11} x_{31} + w_{21} x_{32} + w_{31} x_{33} \\right)} + \\sigma{\\left(w_{12} x_{11} + w_{22} x_{12} + w_{32} x_{13} \\right)} + \\sigma{\\left(w_{12} x_{21} + w_{22} x_{22} + w_{32} x_{23} \\right)} + \\sigma{\\left(w_{12} x_{31} + w_{22} x_{32} + w_{32} x_{33} \\right)}$"
      ],
      "text/plain": [
       "sigma(w_11*x_11 + w_21*x_12 + w_31*x_13) + sigma(w_11*x_21 + w_21*x_22 + w_31*x_23) + sigma(w_11*x_31 + w_21*x_32 + w_31*x_33) + sigma(w_12*x_11 + w_22*x_12 + w_32*x_13) + sigma(w_12*x_21 + w_22*x_22 + w_32*x_23) + sigma(w_12*x_31 + w_22*x_32 + w_32*x_33)"
      ]
     },
     "execution_count": 1,
     "metadata": {},
     "output_type": "execute_result"
    }
   ],
   "source": [
    "L = lambdaF(sigmaApply(v(X, W)))\n",
    "L\n",
    "#L = lambda mat1, mat2: lambdaF(sigmaApply(v(mat1, mat2)))\n",
    "#L(X, W)"
   ]
  },
  {
   "cell_type": "markdown",
   "execution_count": 13,
   "metadata": {
    "lines_to_next_cell": 0,
    "title": "markdown"
   },
   "source": []
  },
  {
   "cell_type": "code",
   "execution_count": 13,
   "metadata": {
    "execution": {
     "iopub.execute_input": "2020-09-30T08:12:28.821963Z",
     "iopub.status.busy": "2020-09-30T08:12:28.820480Z",
     "iopub.status.idle": "2020-09-30T08:12:28.825996Z",
     "shell.execute_reply": "2020-09-30T08:12:28.827015Z"
    },
    "lines_to_next_cell": 0,
    "title": "codecell"
   },
   "outputs": [],
   "source": [
    "#derive_by_array(L, X)"
   ]
  },
  {
   "cell_type": "code",
   "execution_count": 14,
   "metadata": {
    "execution": {
     "iopub.execute_input": "2020-09-30T08:12:28.831726Z",
     "iopub.status.busy": "2020-09-30T08:12:28.830226Z",
     "iopub.status.idle": "2020-09-30T08:12:28.873614Z",
     "shell.execute_reply": "2020-09-30T08:12:28.874669Z"
    },
    "lines_to_next_cell": 0,
    "title": "codecell"
   },
   "outputs": [
    {
     "data": {
      "text/latex": [
       "$\\displaystyle \\left[\\begin{matrix}1 & 1\\\\1 & 1\\\\1 & 1\\end{matrix}\\right]$"
      ],
      "text/plain": [
       "[[1, 1], [1, 1], [1, 1]]"
      ]
     },
     "execution_count": 1,
     "metadata": {},
     "output_type": "execute_result"
    }
   ],
   "source": [
    "derive_by_array(L, S)"
   ]
  },
  {
   "cell_type": "code",
   "execution_count": 15,
   "metadata": {
    "execution": {
     "iopub.execute_input": "2020-09-30T08:12:28.879554Z",
     "iopub.status.busy": "2020-09-30T08:12:28.877977Z",
     "iopub.status.idle": "2020-09-30T08:12:29.109648Z",
     "shell.execute_reply": "2020-09-30T08:12:29.110784Z"
    },
    "title": "codecell"
   },
   "outputs": [
    {
     "data": {
      "text/plain": [
       "16"
      ]
     },
     "execution_count": 1,
     "metadata": {},
     "output_type": "execute_result"
    }
   ],
   "source": [
    "from sympy import sympify, lambdify\n",
    "n = lambdify((X[0,0],X[0,1],X[0,2],W[0,0],W[1,0],W[2,0]), N[0,0])\n",
    "n(1,2,3,4,3,2)"
   ]
  },
  {
   "cell_type": "code",
   "execution_count": 16,
   "metadata": {
    "execution": {
     "iopub.execute_input": "2020-09-30T08:12:29.116049Z",
     "iopub.status.busy": "2020-09-30T08:12:29.114528Z",
     "iopub.status.idle": "2020-09-30T08:12:29.128195Z",
     "shell.execute_reply": "2020-09-30T08:12:29.129322Z"
    },
    "lines_to_next_cell": 0,
    "title": "codecell"
   },
   "outputs": [
    {
     "data": {
      "text/latex": [
       "$\\displaystyle f{\\left(w_{11} x_{11} + w_{21} x_{12} + w_{31} x_{13} \\right)}$"
      ],
      "text/plain": [
       "f(w_11*x_11 + w_21*x_12 + w_31*x_13)"
      ]
     },
     "execution_count": 1,
     "metadata": {},
     "output_type": "execute_result"
    }
   ],
   "source": [
    "f = Function('f') #(sympify(N[0,0]))\n",
    "f(N[0,0])"
   ]
  },
  {
   "cell_type": "code",
   "execution_count": 17,
   "metadata": {
    "execution": {
     "iopub.execute_input": "2020-09-30T08:12:29.134048Z",
     "iopub.status.busy": "2020-09-30T08:12:29.132557Z",
     "iopub.status.idle": "2020-09-30T08:12:29.154275Z",
     "shell.execute_reply": "2020-09-30T08:12:29.155356Z"
    },
    "title": "codecell"
   },
   "outputs": [
    {
     "data": {
      "text/latex": [
       "$\\displaystyle w_{11} \\left. \\frac{d}{d \\xi_{1}} f{\\left(\\xi_{1} \\right)} \\right|_{\\substack{ \\xi_{1}=w_{11} x_{11} + w_{21} x_{12} + w_{31} x_{13} }}$"
      ],
      "text/plain": [
       "w_11*Subs(Derivative(f(_xi_1), _xi_1), _xi_1, w_11*x_11 + w_21*x_12 + w_31*x_13)"
      ]
     },
     "execution_count": 1,
     "metadata": {},
     "output_type": "execute_result"
    }
   ],
   "source": [
    "f(N[0,0]).diff(X[0,0])\n",
    "\n",
    "\n"
   ]
  },
  {
   "cell_type": "code",
   "execution_count": 18,
   "metadata": {
    "execution": {
     "iopub.execute_input": "2020-09-30T08:12:29.160293Z",
     "iopub.status.busy": "2020-09-30T08:12:29.158823Z",
     "iopub.status.idle": "2020-09-30T08:12:29.172490Z",
     "shell.execute_reply": "2020-09-30T08:12:29.173546Z"
    },
    "lines_to_next_cell": 0,
    "title": "codecell"
   },
   "outputs": [
    {
     "data": {
      "text/plain": [
       "w_11*x_11 + w_21*x_12 + w_31*x_13"
      ]
     },
     "execution_count": 1,
     "metadata": {},
     "output_type": "execute_result"
    }
   ],
   "source": [
    "n = v(X,W); n\n",
    "n11 = Function('{}'.format(n[0,0]))\n",
    "n11"
   ]
  },
  {
   "cell_type": "code",
   "execution_count": 19,
   "metadata": {
    "execution": {
     "iopub.execute_input": "2020-09-30T08:12:29.178298Z",
     "iopub.status.busy": "2020-09-30T08:12:29.176831Z",
     "iopub.status.idle": "2020-09-30T08:12:29.183927Z",
     "shell.execute_reply": "2020-09-30T08:12:29.184979Z"
    },
    "lines_to_next_cell": 2,
    "title": "codecell"
   },
   "outputs": [],
   "source": [
    "s_ij = Function('s_ij')\n",
    "sig = Function('sig')(x)"
   ]
  },
  {
   "cell_type": "code",
   "execution_count": 20,
   "metadata": {
    "execution": {
     "iopub.execute_input": "2020-09-30T08:12:29.190268Z",
     "iopub.status.busy": "2020-09-30T08:12:29.188433Z",
     "iopub.status.idle": "2020-09-30T08:12:29.193983Z",
     "shell.execute_reply": "2020-09-30T08:12:29.195110Z"
    },
    "title": "codecell"
   },
   "outputs": [],
   "source": [
    "\n",
    "# KEY: got not expecting UndefinedFunction error again here too\n",
    "#S_ij = Matrix(3, 2, lambda i,j: Function('s_{}{}'.format(i+1,j+1))(Function('{}'.format(N[i,j]))))\n",
    "\n"
   ]
  },
  {
   "cell_type": "code",
   "execution_count": 21,
   "metadata": {
    "execution": {
     "iopub.execute_input": "2020-09-30T08:12:29.204938Z",
     "iopub.status.busy": "2020-09-30T08:12:29.198277Z",
     "iopub.status.idle": "2020-09-30T08:12:29.212782Z",
     "shell.execute_reply": "2020-09-30T08:12:29.213851Z"
    },
    "title": "codecell"
   },
   "outputs": [
    {
     "data": {
      "text/latex": [
       "$\\displaystyle 3*x*y$"
      ],
      "text/plain": [
       "3*x*y"
      ]
     },
     "execution_count": 1,
     "metadata": {},
     "output_type": "execute_result"
    }
   ],
   "source": [
    "#S_ij[0,0](sympify(N[0,0])).diff(sympify(N[0,0]))\n",
    "F = 3*x*y\n",
    "\n",
    "xy = Symbol('{}'.format(F))\n",
    "xy.subs({x:3})\n",
    "sympify(xy).subs({x:3})"
   ]
  },
  {
   "cell_type": "markdown",
   "execution_count": 22,
   "metadata": {
    "lines_to_next_cell": 0,
    "title": "markdown"
   },
   "source": [
    "Sympy Example of trying to differentiate with respect to an **expression** not just a variable."
   ]
  },
  {
   "cell_type": "code",
   "execution_count": 22,
   "metadata": {
    "execution": {
     "iopub.execute_input": "2020-09-30T08:12:29.218870Z",
     "iopub.status.busy": "2020-09-30T08:12:29.217378Z",
     "iopub.status.idle": "2020-09-30T08:12:29.239146Z",
     "shell.execute_reply": "2020-09-30T08:12:29.240254Z"
    },
    "title": "codecell"
   },
   "outputs": [
    {
     "data": {
      "text/latex": [
       "$\\displaystyle \\left. \\frac{\\partial}{\\partial \\xi_{2}} F{\\left(t,\\xi_{2},\\frac{d}{d t} f{\\left(t \\right)} \\right)} \\right|_{\\substack{ \\xi_{2}=f{\\left(t \\right)} }}$"
      ],
      "text/plain": [
       "Subs(Derivative(F(t, _xi_2, Derivative(f(t), t)), _xi_2), _xi_2, f(t))"
      ]
     },
     "execution_count": 1,
     "metadata": {},
     "output_type": "execute_result"
    }
   ],
   "source": [
    "from sympy.abc import t\n",
    "\n",
    "F = Function('F')\n",
    "f = Function('f')\n",
    "U = f(t)\n",
    "V = U.diff(t)\n",
    "\n",
    "direct = F(t, U, V).diff(U); direct"
   ]
  },
  {
   "cell_type": "code",
   "execution_count": 23,
   "metadata": {
    "execution": {
     "iopub.execute_input": "2020-09-30T08:12:29.244995Z",
     "iopub.status.busy": "2020-09-30T08:12:29.243454Z",
     "iopub.status.idle": "2020-09-30T08:12:29.253620Z",
     "shell.execute_reply": "2020-09-30T08:12:29.254655Z"
    },
    "lines_to_next_cell": 0,
    "title": "codecell"
   },
   "outputs": [
    {
     "data": {
      "text/latex": [
       "$\\displaystyle F{\\left(t,f{\\left(t \\right)},\\frac{d}{d t} f{\\left(t \\right)} \\right)}$"
      ],
      "text/plain": [
       "F(t, f(t), Derivative(f(t), t))"
      ]
     },
     "execution_count": 1,
     "metadata": {},
     "output_type": "execute_result"
    }
   ],
   "source": [
    "F(t,U,V)"
   ]
  },
  {
   "cell_type": "code",
   "execution_count": 24,
   "metadata": {
    "execution": {
     "iopub.execute_input": "2020-09-30T08:12:29.259460Z",
     "iopub.status.busy": "2020-09-30T08:12:29.257947Z",
     "iopub.status.idle": "2020-09-30T08:12:29.269402Z",
     "shell.execute_reply": "2020-09-30T08:12:29.270517Z"
    },
    "lines_to_next_cell": 0,
    "title": "codecell"
   },
   "outputs": [
    {
     "data": {
      "text/latex": [
       "$\\displaystyle F{\\left(t,x,\\frac{d}{d t} x \\right)}$"
      ],
      "text/plain": [
       "F(t, x, Derivative(x, t))"
      ]
     },
     "execution_count": 1,
     "metadata": {},
     "output_type": "execute_result"
    }
   ],
   "source": [
    "F(t,U,V).subs(U,x)"
   ]
  },
  {
   "cell_type": "code",
   "execution_count": 25,
   "metadata": {
    "execution": {
     "iopub.execute_input": "2020-09-30T08:12:29.275351Z",
     "iopub.status.busy": "2020-09-30T08:12:29.273871Z",
     "iopub.status.idle": "2020-09-30T08:12:29.287808Z",
     "shell.execute_reply": "2020-09-30T08:12:29.288914Z"
    },
    "lines_to_next_cell": 0,
    "title": "codecell"
   },
   "outputs": [
    {
     "data": {
      "text/latex": [
       "$\\displaystyle \\left. \\frac{\\partial}{\\partial \\xi_{2}} F{\\left(t,\\xi_{2},\\frac{d}{d t} x \\right)} \\right|_{\\substack{ \\xi_{2}=x }}$"
      ],
      "text/plain": [
       "Subs(Derivative(F(t, _xi_2, Derivative(x, t)), _xi_2), _xi_2, x)"
      ]
     },
     "execution_count": 1,
     "metadata": {},
     "output_type": "execute_result"
    }
   ],
   "source": [
    "F(t,U,V).subs(U,x).diff(x)"
   ]
  },
  {
   "cell_type": "code",
   "execution_count": 26,
   "metadata": {
    "execution": {
     "iopub.execute_input": "2020-09-30T08:12:29.294103Z",
     "iopub.status.busy": "2020-09-30T08:12:29.292629Z",
     "iopub.status.idle": "2020-09-30T08:12:29.308746Z",
     "shell.execute_reply": "2020-09-30T08:12:29.309825Z"
    },
    "lines_to_next_cell": 0,
    "title": "codecell"
   },
   "outputs": [
    {
     "data": {
      "text/latex": [
       "$\\displaystyle \\left. \\frac{\\partial}{\\partial \\xi_{2}} F{\\left(t,\\xi_{2},\\frac{d}{d t} f{\\left(t \\right)} \\right)} \\right|_{\\substack{ \\xi_{2}=f{\\left(t \\right)} }}$"
      ],
      "text/plain": [
       "Subs(Derivative(F(t, _xi_2, Derivative(f(t), t)), _xi_2), _xi_2, f(t))"
      ]
     },
     "execution_count": 1,
     "metadata": {},
     "output_type": "execute_result"
    }
   ],
   "source": [
    "F(t,U,V).subs(U,x).diff(x).subs(x, U)"
   ]
  },
  {
   "cell_type": "code",
   "execution_count": 27,
   "metadata": {
    "execution": {
     "iopub.execute_input": "2020-09-30T08:12:29.314474Z",
     "iopub.status.busy": "2020-09-30T08:12:29.312988Z",
     "iopub.status.idle": "2020-09-30T08:12:29.327383Z",
     "shell.execute_reply": "2020-09-30T08:12:29.328462Z"
    },
    "lines_to_next_cell": 0,
    "title": "codecell"
   },
   "outputs": [
    {
     "data": {
      "text/latex": [
       "$\\displaystyle \\left. \\frac{\\partial}{\\partial \\xi_{2}} F{\\left(t,\\xi_{2},\\frac{d}{d t} f{\\left(t \\right)} \\right)} \\right|_{\\substack{ \\xi_{2}=f{\\left(t \\right)} }}$"
      ],
      "text/plain": [
       "Subs(Derivative(F(t, _xi_2, Derivative(f(t), t)), _xi_2), _xi_2, f(t))"
      ]
     },
     "execution_count": 1,
     "metadata": {},
     "output_type": "execute_result"
    }
   ],
   "source": [
    "indirect = F(t,U,V).subs(U, x).diff(x).subs(x,U); indirect"
   ]
  },
  {
   "cell_type": "code",
   "execution_count": 28,
   "metadata": {
    "execution": {
     "iopub.execute_input": "2020-09-30T08:12:29.333291Z",
     "iopub.status.busy": "2020-09-30T08:12:29.331809Z",
     "iopub.status.idle": "2020-09-30T08:12:29.342033Z",
     "shell.execute_reply": "2020-09-30T08:12:29.343074Z"
    },
    "lines_to_next_cell": 0,
    "title": "codecell"
   },
   "outputs": [
    {
     "data": {
      "text/latex": [
       "$\\displaystyle 6$"
      ],
      "text/plain": [
       "6"
      ]
     },
     "execution_count": 1,
     "metadata": {},
     "output_type": "execute_result"
    }
   ],
   "source": [
    "F = Lambda((x,y), 3*x* y)\n",
    "F(1,2)"
   ]
  },
  {
   "cell_type": "code",
   "execution_count": 29,
   "metadata": {
    "execution": {
     "iopub.execute_input": "2020-09-30T08:12:29.347870Z",
     "iopub.status.busy": "2020-09-30T08:12:29.346308Z",
     "iopub.status.idle": "2020-09-30T08:12:29.356418Z",
     "shell.execute_reply": "2020-09-30T08:12:29.357467Z"
    },
    "lines_to_next_cell": 0,
    "title": "codecell"
   },
   "outputs": [
    {
     "data": {
      "text/latex": [
       "$\\displaystyle 3*x*y$"
      ],
      "text/plain": [
       "3*x*y"
      ]
     },
     "execution_count": 1,
     "metadata": {},
     "output_type": "execute_result"
    }
   ],
   "source": [
    "U = x*y\n",
    "G = 3*x*y\n",
    "xy"
   ]
  },
  {
   "cell_type": "code",
   "execution_count": 30,
   "metadata": {
    "execution": {
     "iopub.execute_input": "2020-09-30T08:12:29.362324Z",
     "iopub.status.busy": "2020-09-30T08:12:29.360890Z",
     "iopub.status.idle": "2020-09-30T08:12:29.370253Z",
     "shell.execute_reply": "2020-09-30T08:12:29.371346Z"
    },
    "lines_to_next_cell": 0,
    "title": "codecell"
   },
   "outputs": [
    {
     "data": {
      "text/latex": [
       "$\\displaystyle 0$"
      ],
      "text/plain": [
       "0"
      ]
     },
     "execution_count": 1,
     "metadata": {},
     "output_type": "execute_result"
    }
   ],
   "source": [
    "F.diff(xy)"
   ]
  },
  {
   "cell_type": "code",
   "execution_count": 31,
   "metadata": {
    "execution": {
     "iopub.execute_input": "2020-09-30T08:12:29.376061Z",
     "iopub.status.busy": "2020-09-30T08:12:29.374541Z",
     "iopub.status.idle": "2020-09-30T08:12:29.379953Z",
     "shell.execute_reply": "2020-09-30T08:12:29.381075Z"
    },
    "title": "codecell"
   },
   "outputs": [],
   "source": [
    "# derive_by_array(S, N) # ERROR"
   ]
  },
  {
   "cell_type": "code",
   "execution_count": 32,
   "metadata": {
    "execution": {
     "iopub.execute_input": "2020-09-30T08:12:29.389312Z",
     "iopub.status.busy": "2020-09-30T08:12:29.384323Z",
     "iopub.status.idle": "2020-09-30T08:12:29.397200Z",
     "shell.execute_reply": "2020-09-30T08:12:29.398239Z"
    },
    "lines_to_next_cell": 0,
    "title": "codecell"
   },
   "outputs": [
    {
     "data": {
      "text/latex": [
       "$\\displaystyle \\sigma{\\left(w_{11} x_{11} + w_{21} x_{12} + w_{31} x_{13} \\right)}$"
      ],
      "text/plain": [
       "sigma(w_11*x_11 + w_21*x_12 + w_31*x_13)"
      ]
     },
     "execution_count": 1,
     "metadata": {},
     "output_type": "execute_result"
    }
   ],
   "source": [
    "s11 = S[0,0]\n",
    "s11"
   ]
  },
  {
   "cell_type": "code",
   "execution_count": 33,
   "metadata": {
    "execution": {
     "iopub.execute_input": "2020-09-30T08:12:29.402870Z",
     "iopub.status.busy": "2020-09-30T08:12:29.401400Z",
     "iopub.status.idle": "2020-09-30T08:12:29.406848Z",
     "shell.execute_reply": "2020-09-30T08:12:29.407864Z"
    },
    "title": "codecell"
   },
   "outputs": [],
   "source": [
    "\n",
    "#s11.diff(n11)"
   ]
  },
  {
   "cell_type": "code",
   "execution_count": 34,
   "metadata": {
    "execution": {
     "iopub.execute_input": "2020-09-30T08:12:29.412717Z",
     "iopub.status.busy": "2020-09-30T08:12:29.411170Z",
     "iopub.status.idle": "2020-09-30T08:12:29.455439Z",
     "shell.execute_reply": "2020-09-30T08:12:29.456569Z"
    },
    "lines_to_next_cell": 2,
    "title": "codecell"
   },
   "outputs": [
    {
     "data": {
      "text/latex": [
       "$\\displaystyle \\left[\\begin{matrix}1 & 1\\\\1 & 1\\\\1 & 1\\end{matrix}\\right]$"
      ],
      "text/plain": [
       "[[1, 1], [1, 1], [1, 1]]"
      ]
     },
     "execution_count": 1,
     "metadata": {},
     "output_type": "execute_result"
    }
   ],
   "source": [
    "derive_by_array(L, S)"
   ]
  },
  {
   "cell_type": "code",
   "execution_count": 35,
   "metadata": {
    "execution": {
     "iopub.execute_input": "2020-09-30T08:12:29.461381Z",
     "iopub.status.busy": "2020-09-30T08:12:29.459843Z",
     "iopub.status.idle": "2020-09-30T08:12:29.477024Z",
     "shell.execute_reply": "2020-09-30T08:12:29.478089Z"
    },
    "title": "codecell"
   },
   "outputs": [
    {
     "data": {
      "text/latex": [
       "$\\displaystyle \\frac{d}{d f{\\left(x \\right)}} g{\\left(f{\\left(x \\right)} \\right)}$"
      ],
      "text/plain": [
       "Derivative(g(f(x)), f(x))"
      ]
     },
     "execution_count": 1,
     "metadata": {},
     "output_type": "execute_result"
    }
   ],
   "source": [
    "\n",
    "x, y, r, t = symbols('x y r t') # r (radius), t (angle theta)\n",
    "f, g, h = symbols('f g h', cls=Function)\n",
    "h = g(f(x))\n",
    "Derivative(h, f(x)).doit()\n",
    "\n",
    "\n"
   ]
  },
  {
   "cell_type": "code",
   "execution_count": 36,
   "metadata": {
    "execution": {
     "iopub.execute_input": "2020-09-30T08:12:29.483021Z",
     "iopub.status.busy": "2020-09-30T08:12:29.481550Z",
     "iopub.status.idle": "2020-09-30T08:12:29.495172Z",
     "shell.execute_reply": "2020-09-30T08:12:29.496296Z"
    },
    "lines_to_next_cell": 2,
    "title": "codecell"
   },
   "outputs": [
    {
     "data": {
      "text/latex": [
       "$\\displaystyle \\frac{d}{d f{\\left(x \\right)}} g{\\left(f{\\left(x \\right)} \\right)}$"
      ],
      "text/plain": [
       "Derivative(g(f(x)), f(x))"
      ]
     },
     "execution_count": 1,
     "metadata": {},
     "output_type": "execute_result"
    }
   ],
   "source": [
    "h.args[0]\n",
    "h.diff(h.args[0])"
   ]
  },
  {
   "cell_type": "code",
   "execution_count": 37,
   "metadata": {
    "execution": {
     "iopub.execute_input": "2020-09-30T08:12:29.501138Z",
     "iopub.status.busy": "2020-09-30T08:12:29.499604Z",
     "iopub.status.idle": "2020-09-30T08:12:29.528645Z",
     "shell.execute_reply": "2020-09-30T08:12:29.529718Z"
    },
    "title": "codecell"
   },
   "outputs": [
    {
     "data": {
      "text/latex": [
       "$\\displaystyle \\left[\\begin{matrix}\\sigma{\\left(w_{11} x_{11} + w_{21} x_{12} + w_{31} x_{13} \\right)} & \\sigma{\\left(w_{12} x_{11} + w_{22} x_{12} + w_{32} x_{13} \\right)}\\\\\\sigma{\\left(w_{11} x_{21} + w_{21} x_{22} + w_{31} x_{23} \\right)} & \\sigma{\\left(w_{12} x_{21} + w_{22} x_{22} + w_{32} x_{23} \\right)}\\\\\\sigma{\\left(w_{11} x_{31} + w_{21} x_{32} + w_{31} x_{33} \\right)} & \\sigma{\\left(w_{12} x_{31} + w_{22} x_{32} + w_{32} x_{33} \\right)}\\end{matrix}\\right]$"
      ],
      "text/plain": [
       "Matrix([\n",
       "[sigma(w_11*x_11 + w_21*x_12 + w_31*x_13), sigma(w_12*x_11 + w_22*x_12 + w_32*x_13)],\n",
       "[sigma(w_11*x_21 + w_21*x_22 + w_31*x_23), sigma(w_12*x_21 + w_22*x_22 + w_32*x_23)],\n",
       "[sigma(w_11*x_31 + w_21*x_32 + w_31*x_33), sigma(w_12*x_31 + w_22*x_32 + w_32*x_33)]])"
      ]
     },
     "execution_count": 1,
     "metadata": {},
     "output_type": "execute_result"
    }
   ],
   "source": [
    "S = sigmaApply(v(X,W)); S"
   ]
  },
  {
   "cell_type": "code",
   "execution_count": 38,
   "metadata": {
    "execution": {
     "iopub.execute_input": "2020-09-30T08:12:29.534596Z",
     "iopub.status.busy": "2020-09-30T08:12:29.533117Z",
     "iopub.status.idle": "2020-09-30T08:12:29.547310Z",
     "shell.execute_reply": "2020-09-30T08:12:29.548359Z"
    },
    "lines_to_next_cell": 0,
    "title": "codecell"
   },
   "outputs": [
    {
     "data": {
      "text/latex": [
       "$\\displaystyle \\sigma{\\left(w_{11*x 11 + w 21*x 12 + w 31*x 13} \\right)}$"
      ],
      "text/plain": [
       "sigma(w_11*x_11 + w_21*x_12 + w_31*x_13)"
      ]
     },
     "execution_count": 1,
     "metadata": {},
     "output_type": "execute_result"
    }
   ],
   "source": [
    "from sympy.abc import n\n",
    "\n",
    "n11 = (X*W)[0,0]\n",
    "m = lambda mat1, mat2: sympify(Symbol('{}'.format((mat1 * mat2)[0,0] )))\n",
    "s = sigma(m(X,W)); s"
   ]
  },
  {
   "cell_type": "code",
   "execution_count": 39,
   "metadata": {
    "execution": {
     "iopub.execute_input": "2020-09-30T08:12:29.553207Z",
     "iopub.status.busy": "2020-09-30T08:12:29.551656Z",
     "iopub.status.idle": "2020-09-30T08:12:29.561987Z",
     "shell.execute_reply": "2020-09-30T08:12:29.563032Z"
    },
    "lines_to_next_cell": 0,
    "title": "codecell"
   },
   "outputs": [
    {
     "data": {
      "text/latex": [
       "$\\displaystyle \\sigma{\\left(w_{11*x 11 + w 21*x 12 + w 31*x 13} \\right)}$"
      ],
      "text/plain": [
       "sigma(w_11*x_11 + w_21*x_12 + w_31*x_13)"
      ]
     },
     "execution_count": 1,
     "metadata": {},
     "output_type": "execute_result"
    }
   ],
   "source": [
    "s.subs({W[0,0]: 14}) # doesn't work to substitute into an undefined function"
   ]
  },
  {
   "cell_type": "code",
   "execution_count": 40,
   "metadata": {
    "execution": {
     "iopub.execute_input": "2020-09-30T08:12:29.567897Z",
     "iopub.status.busy": "2020-09-30T08:12:29.566425Z",
     "iopub.status.idle": "2020-09-30T08:12:29.579466Z",
     "shell.execute_reply": "2020-09-30T08:12:29.580549Z"
    },
    "lines_to_next_cell": 0,
    "title": "codecell"
   },
   "outputs": [
    {
     "data": {
      "text/latex": [
       "$\\displaystyle \\frac{d}{d w_{11*x 11 + w 21*x 12 + w 31*x 13}} \\sigma{\\left(w_{11*x 11 + w 21*x 12 + w 31*x 13} \\right)}$"
      ],
      "text/plain": [
       "Derivative(sigma(w_11*x_11 + w_21*x_12 + w_31*x_13), w_11*x_11 + w_21*x_12 + w_31*x_13)"
      ]
     },
     "execution_count": 1,
     "metadata": {},
     "output_type": "execute_result"
    }
   ],
   "source": [
    "Derivative(s, m(X,W)).doit()"
   ]
  },
  {
   "cell_type": "code",
   "execution_count": 41,
   "metadata": {
    "execution": {
     "iopub.execute_input": "2020-09-30T08:12:29.585268Z",
     "iopub.status.busy": "2020-09-30T08:12:29.583729Z",
     "iopub.status.idle": "2020-09-30T08:12:29.596170Z",
     "shell.execute_reply": "2020-09-30T08:12:29.597268Z"
    },
    "lines_to_next_cell": 0,
    "title": "codecell"
   },
   "outputs": [
    {
     "data": {
      "text/latex": [
       "$\\displaystyle \\sigma{\\left(w_{11} x_{11} + w_{21} x_{12} + w_{31} x_{13} \\right)}$"
      ],
      "text/plain": [
       "sigma(w_11*x_11 + w_21*x_12 + w_31*x_13)"
      ]
     },
     "execution_count": 1,
     "metadata": {},
     "output_type": "execute_result"
    }
   ],
   "source": [
    "\n",
    "#s11 = Function('s_{11}')(n11); s11\n",
    "#sigma(n11).diff(n11)\n",
    "\n",
    "#s11.diff(n11)\n",
    "sigma(n11)"
   ]
  },
  {
   "cell_type": "code",
   "execution_count": 42,
   "metadata": {
    "execution": {
     "iopub.execute_input": "2020-09-30T08:12:29.608181Z",
     "iopub.status.busy": "2020-09-30T08:12:29.600712Z",
     "iopub.status.idle": "2020-09-30T08:12:29.617639Z",
     "shell.execute_reply": "2020-09-30T08:12:29.619668Z"
    },
    "lines_to_next_cell": 0,
    "title": "codecell"
   },
   "outputs": [
    {
     "data": {
      "text/plain": [
       "sympy.core.add.Add"
      ]
     },
     "execution_count": 1,
     "metadata": {},
     "output_type": "execute_result"
    }
   ],
   "source": [
    "# ERROR HERE TOO\n",
    "type(sigma(n11).args[0])"
   ]
  },
  {
   "cell_type": "code",
   "execution_count": 43,
   "metadata": {
    "execution": {
     "iopub.execute_input": "2020-09-30T08:12:29.628194Z",
     "iopub.status.busy": "2020-09-30T08:12:29.626627Z",
     "iopub.status.idle": "2020-09-30T08:12:29.638541Z",
     "shell.execute_reply": "2020-09-30T08:12:29.639592Z"
    },
    "lines_to_next_cell": 0,
    "title": "codecell"
   },
   "outputs": [
    {
     "data": {
      "text/plain": [
       "sympy.core.add.Add"
      ]
     },
     "execution_count": 1,
     "metadata": {},
     "output_type": "execute_result"
    }
   ],
   "source": [
    "type(n11)"
   ]
  },
  {
   "cell_type": "code",
   "execution_count": 44,
   "metadata": {
    "execution": {
     "iopub.execute_input": "2020-09-30T08:12:29.646735Z",
     "iopub.status.busy": "2020-09-30T08:12:29.645257Z",
     "iopub.status.idle": "2020-09-30T08:12:29.654653Z",
     "shell.execute_reply": "2020-09-30T08:12:29.655773Z"
    },
    "lines_to_next_cell": 0,
    "title": "codecell"
   },
   "outputs": [],
   "source": [
    "#sigma(n11).diff(sigma(n11).args[0]) ## ERROR"
   ]
  },
  {
   "cell_type": "code",
   "execution_count": 45,
   "metadata": {
    "title": "codecell"
   },
   "outputs": [],
   "source": []
  },
  {
   "cell_type": "code",
   "execution_count": 45,
   "metadata": {
    "execution": {
     "iopub.execute_input": "2020-09-30T08:12:29.665028Z",
     "iopub.status.busy": "2020-09-30T08:12:29.659076Z",
     "iopub.status.idle": "2020-09-30T08:12:29.679048Z",
     "shell.execute_reply": "2020-09-30T08:12:29.680129Z"
    },
    "lines_to_next_cell": 2,
    "title": "codecell"
   },
   "outputs": [
    {
     "data": {
      "text/plain": [
       "w_11*x_11 + w_21*x_12 + w_31*x_13"
      ]
     },
     "execution_count": 1,
     "metadata": {},
     "output_type": "execute_result"
    }
   ],
   "source": [
    "b = Symbol('{}'.format(n11))\n",
    "ns_11 = Function(b, real=True)\n",
    "ns_11\n",
    "\n",
    "\n",
    "# ERROR cannot diff wi.r. to undefinedfunction\n",
    "# sigma(n11).diff(ns_11)\n",
    "\n",
    "\n",
    "#\n",
    "#sigma(b).diff(b).subs({b:1})"
   ]
  },
  {
   "cell_type": "code",
   "execution_count": 46,
   "metadata": {
    "execution": {
     "iopub.execute_input": "2020-09-30T08:12:29.692984Z",
     "iopub.status.busy": "2020-09-30T08:12:29.683917Z",
     "iopub.status.idle": "2020-09-30T08:12:29.703463Z",
     "shell.execute_reply": "2020-09-30T08:12:29.704576Z"
    },
    "lines_to_next_cell": 0,
    "title": "codecell"
   },
   "outputs": [
    {
     "data": {
      "text/latex": [
       "$\\displaystyle 0$"
      ],
      "text/plain": [
       "0"
      ]
     },
     "execution_count": 1,
     "metadata": {},
     "output_type": "execute_result"
    }
   ],
   "source": [
    "f, g = symbols('f g', cls=Function)\n",
    "xy = Symbol('x*y'); xy\n",
    "#sympify(xy).subs({x:2, y:4})\n",
    "f(g(x,y)).diff(xy)"
   ]
  },
  {
   "cell_type": "code",
   "execution_count": 47,
   "metadata": {
    "execution": {
     "iopub.execute_input": "2020-09-30T08:12:29.717368Z",
     "iopub.status.busy": "2020-09-30T08:12:29.708179Z",
     "iopub.status.idle": "2020-09-30T08:12:29.728363Z",
     "shell.execute_reply": "2020-09-30T08:12:29.729626Z"
    },
    "lines_to_next_cell": 0,
    "title": "codecell"
   },
   "outputs": [
    {
     "data": {
      "text/latex": [
       "$\\displaystyle \\frac{d}{d x*y} f{\\left(x*y \\right)}$"
      ],
      "text/plain": [
       "Derivative(f(x*y), x*y)"
      ]
     },
     "execution_count": 1,
     "metadata": {},
     "output_type": "execute_result"
    }
   ],
   "source": [
    "# TODO SEEM to have got the expression but it is not working since can't substitute anything .... ???\n",
    "f(xy).diff(xy).subs({x:2})"
   ]
  },
  {
   "cell_type": "code",
   "execution_count": 48,
   "metadata": {
    "execution": {
     "iopub.execute_input": "2020-09-30T08:12:29.737515Z",
     "iopub.status.busy": "2020-09-30T08:12:29.734484Z",
     "iopub.status.idle": "2020-09-30T08:12:29.770963Z",
     "shell.execute_reply": "2020-09-30T08:12:29.772117Z"
    },
    "title": "codecell"
   },
   "outputs": [
    {
     "data": {
      "text/latex": [
       "$\\displaystyle \\frac{d}{d g{\\left(x*y \\right)}} f{\\left(g{\\left(x*y \\right)} \\right)} \\frac{d}{d x*y} g{\\left(x*y \\right)}$"
      ],
      "text/plain": [
       "Derivative(f(g(x*y)), g(x*y))*Derivative(g(x*y), x*y)"
      ]
     },
     "execution_count": 1,
     "metadata": {},
     "output_type": "execute_result"
    }
   ],
   "source": [
    "Function(\"x*y\")(x,y)\n",
    "xyf = lambdify([x,y],xy)\n",
    "xyf(3,4)\n",
    "f(g(xy)).diff(xy)\n",
    "#"
   ]
  },
  {
   "cell_type": "code",
   "execution_count": 49,
   "metadata": {
    "execution": {
     "iopub.execute_input": "2020-09-30T08:12:29.784057Z",
     "iopub.status.busy": "2020-09-30T08:12:29.775819Z",
     "iopub.status.idle": "2020-09-30T08:12:29.794208Z",
     "shell.execute_reply": "2020-09-30T08:12:29.795303Z"
    },
    "title": "codecell"
   },
   "outputs": [
    {
     "data": {
      "text/latex": [
       "$\\displaystyle x y$"
      ],
      "text/plain": [
       "x*y"
      ]
     },
     "execution_count": 1,
     "metadata": {},
     "output_type": "execute_result"
    }
   ],
   "source": [
    "xyd = Derivative(x*y, x*y,0).doit();xyd\n",
    "\n",
    "#Derivative(3*xyd, xyd, 1).doit() ### ERROR can't calc deriv w.r.t to x*y"
   ]
  },
  {
   "cell_type": "code",
   "execution_count": 50,
   "metadata": {
    "execution": {
     "iopub.execute_input": "2020-09-30T08:12:29.802880Z",
     "iopub.status.busy": "2020-09-30T08:12:29.801337Z",
     "iopub.status.idle": "2020-09-30T08:12:29.809210Z",
     "shell.execute_reply": "2020-09-30T08:12:29.810272Z"
    },
    "title": "codecell"
   },
   "outputs": [],
   "source": [
    "#derive_by_array(S, N)\n",
    "\n",
    "\n",
    "\n"
   ]
  },
  {
   "cell_type": "code",
   "execution_count": 51,
   "metadata": {
    "lines_to_next_cell": 0,
    "title": "codecell"
   },
   "outputs": [],
   "source": []
  },
  {
   "cell_type": "code",
   "execution_count": 51,
   "metadata": {
    "title": "codecell"
   },
   "outputs": [],
   "source": []
  }
 ],
 "metadata": {
  "jupytext": {
   "cell_metadata_filter": "title,-all"
  },
  "kernelspec": {
   "display_name": "pymatrix_env",
   "language": "python",
   "name": "pymatrix_env"
  },
  "language_info": {
   "codemirror_mode": {
    "name": "ipython",
    "version": 3
   },
   "file_extension": ".py",
   "mimetype": "text/x-python",
   "name": "python",
   "nbconvert_exporter": "python",
   "pygments_lexer": "ipython3",
   "version": "3.7.8"
  }
 },
 "nbformat": 4,
 "nbformat_minor": 4
}
